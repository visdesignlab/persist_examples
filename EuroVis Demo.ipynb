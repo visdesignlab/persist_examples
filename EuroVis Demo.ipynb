{
 "cells": [
  {
   "cell_type": "markdown",
   "id": "f4367b92-af09-495f-88fa-79bfe395e9de",
   "metadata": {},
   "source": [
    "# EuroVis Demo"
   ]
  },
  {
   "cell_type": "code",
   "execution_count": 1,
   "id": "4a7a831c-74d0-4a6e-bb67-fc6833b9fc5e",
   "metadata": {},
   "outputs": [],
   "source": [
    "import pandas as pd\n",
    "\n",
    "import seaborn as sns\n",
    "import matplotlib.pyplot as plt\n",
    "import altair as alt\n",
    "\n",
    "import persist_ext as PR\n",
    "\n",
    "avalanches = pd.read_csv('./avalanches.csv')"
   ]
  },
  {
   "cell_type": "markdown",
   "id": "d072a0fa-90e1-4409-9890-e9e75259ee20",
   "metadata": {},
   "source": [
    "# Motivation\n",
    "\n",
    "Showing the basics in the following two examples!\n",
    "\n",
    "First we \n",
    "* move columns,\n",
    "* change lables,\n",
    "* drop a column\n",
    "\n",
    "in the Persist table. "
   ]
  },
  {
   "cell_type": "code",
   "execution_count": 3,
   "id": "7f3709cf-73a4-4189-a220-9f5b84084c04",
   "metadata": {
    "__GENERATED_DATAFRAMES__": "ᯡࡁ䃼恖せƬÐᓠ朣琨愠峀ʀೠᲸƌ⨎੹ૉ䜠㑀ӓ 䁯ᰶ塯+䀳䁋䔠⾤倠 ",
    "__has_persist_output": true,
    "trrack_graph": "ᯡ࠽䈌ʀ匦㢠⹰Ǣ䀸ƀᦳϑ‶䀻v㛺ೠㆪ¹Фㆪㅇ叏Ƭ҃樉ተ¶⡨⃱㌀ᅎ⥦庳ୖ戼峂簓搰͢&怰泿㱠ኤРᜰ㵐üム湁Ý㮄᪠א终GᎲ;ⅇⓥჀíᲤ棬㨾થ̩䑀ʓ⧃咤䍈㨯͛സ暨掀䀡㪚紧౉儽ߍ∬᥸堡犀⑞ད᢯ʧ䒩⊀㌔Öᡋ↰䐰昩ֺ嬨ₛࡁ᪰⍅䀺楘〫溥⨡㺚⏵璁媪悩廻䃌戆嘠传ϋ痧挭⏺㸰ス攓沦⍤⌲峸⌺䕂ᢦ༰拃ࡰ㑪䛣ᆤ਴䇚ई⤺䙀惸ㄬ口偈➣眛䓍ఽ喙乌庾䔺择ɩᅩ効㙷៪૥⥼坢⫨࠴✳奱❞ᑫኸ⩽የ犙Ũ光䨵➨慓䱮↺〠ৈ࡞䀥㩬怳‭怠吢愠ຂ瓠ĳ⫡º价㷰ઙ異㗤ড䚸/坕ⵖ枧搒ˡ⛤ߣ⢦㑯Ȁᡩᨪ䏤᢬㨦Ҁ䢄癰揢ᡰᴺძ⪚⟨犐尲اߡࢄԪ䗂௪㬳䜁砢㲍儉⃽⽫ᠹۺᅸ䛡♓ᳲⱻᜍ᫣㋹瓛Р牘亯ס〫⻗㷴珱惂ఠԶ䗂翅祊䁀⯨ঋÿ厩紒㋾៣硠ᎅ゜ᡁբ⠡Ş㢤फ़ᆭⅾ⎎槜㢠ȉ㓒ड悵嘢憤㚬ᛕ刈᝔ඣ↬c㝖ഢ梋䝣劾䗣ᛐ৴あ癀ఽĀ䑘摩᥅ᕁЧ૤偅ᅠ籕̰摨ƣ扞⌰⡵䟂⁚ࡃ匠ضᅖ䀥䨸塙䑢噞㉚杭梚焯桹䃥䮌㾠ढၪ憸ᠺც盺↖㤷婈昵䈮申⊮Ꮾ剘䚧䂾㓣ᦆ᳨ダ糶ᅐ拴媑૪壶㫾㍪场ᚆ泠䯥䓐壅㋸䏅櫶寶媸恔䍼᪺ᣤ䟺=⣩瘳†攬㯡瓝࿆欬ݽ殚悇ㄼࢂT咄欃୫爜ᢊࡠ㚨ㅐ☪慫ⅎ嫈⅋䡰㘮䴨⤨ㅩᴭ䄐ɣ䥾㛤泣⮋ᒂᱭ撵૏旵Ⴥ啥⻂槧ᝡ多ⴌᥨ㼠ᦷ⳯᧷㖩巶ࠇ尯㇫絎ᨌႎᷠ碗ࠣ㶀Є緱糣紾ấ紩囧籾‷╼⠾ʬ换২尳ņШ煜ᴱ䏆皻ೠ㺹称妿界沿፼⊾杰杔㓔亻昬䃘ᮦ佹㌉䦺焵坼垌亨杈甴䉅䪱䊸丼㎠伫䂩↡䢨ᴧ⁮唣䁒ጧ⁒ᬥǐ٢㰍伨䣲ࠦ㨌瞯礡が煼箺煄ރᇛ㲧沴z傧ڢᷔ⨊⍧⁯⫾孖䅊ₖ扤⒑⇲䑮姱㫎䇙ᒒ䫲㰓祈⾫延⺮斝䇮旹䇎廋⬺ᮭ ᧋᠍(Ꭱ弽栊⛄纾㙘榌䳣⦻㌜ぺ䧖痛䷄毫ㆁ⯭ᄲ⩌▹⣋ᦕ⬐羄瀦㏀昹௞¸⁔悦殲暧⭌ᩆ㭞摙ࣸ禱崓燏箃㸄㺇悘倪⛻ɭ澨ˑ䊺┶ந൓⅚㊢㥁≳Ⳮ⳶䕅䆩㧌娓˗㕭㔺ഋ嘫Ԡ䩤Ԩ⵫࡯᪰巇侇悢㱎ႌថ呛ʹ彸ࡱ塑৑ㆀ቎䉡䣨亡䝭沀ᇹ巆‬༥济ᕄ㱡䣺࣠Ǩᱣ䧫䎻䢙ᒤ癹Ȍԯ汩曁䎫ℤᑉ㎲΀⭂䵫佌㆑氅晅⅌㕛Ⲝ㉺g嶑Ϯ෌滻⺰◿㗫夊亷㭷⾐᭓䈠  "
   },
   "outputs": [
    {
     "data": {
      "application/vnd.jupyter.widget-view+json": {
       "model_id": "9e646b99545e4511b8654fb1209c4009",
       "version_major": 2,
       "version_minor": 0
      },
      "text/plain": [
       "PersistWidget(data_values=[{'__id_column': '1', ';Region': 'Salt Lake', 'Month': 11, 'Day': 9, 'Year': 2012, '…"
      ]
     },
     "metadata": {},
     "output_type": "display_data"
    }
   ],
   "source": [
    "PR.PersistTable(avalanches, df_name=\"avalanches_1\")"
   ]
  },
  {
   "cell_type": "markdown",
   "id": "190e4736-15fd-46a8-838e-b1e78aa78509",
   "metadata": {},
   "source": [
    "# Working with a Vega-Altair Plot\n",
    "\n",
    "Next, we *filter out some outliers* in a plot."
   ]
  },
  {
   "cell_type": "code",
   "execution_count": 7,
   "id": "0a017117-f9a2-4f86-8067-d7ca8b8d9176",
   "metadata": {
    "__GENERATED_DATAFRAMES__": "ᯡࡁ䃼恖せƬÐᓠ朣琤愠峀ʀೠᲸƌ⨎੹ૉ䜠㑀ӓ 䁯ᰶ塯+䀳䁋䔠⾤倠 ",
    "__has_persist_output": true,
    "trrack_graph": "ᯡ࠽䈌ʀ匦㢠⹰҃Řِ֠䘣堠瀫‹䀹䁶,揗⩩界忑䏗殴簣〨㝀⩩ᐠ▴ሰ㑸碩䥵埈汹嗛➎㺣䉠ð䀡尓⑕ဩ™+彨ఠ㜸プࡢ⳻峠Ɔᢊ)洄䀦梣䦙Ⓒ爨䀳ᕪ˧⠄匓ࡱⓜ䲂㔫ᴷ଱䑄兢␡㨦䍧హ儺䂉䈯獸惀ĒいŎិ䑮䛁癐డ㙐殞⢨ᾬडồࡢ㬰ℵ楋U䒟䀱崫ᐢ簬㬫犞♕䄥㛗޹䅯ⰡḠޛ宯䘳ǜ碣ࣙ氼繍⹄䣼刪ত偰繎࿣冘⡙ݥᆁ癅ڑ效䱏̤摰牞൤ᄌ⟋敄㒀曝悑刬ࢴ⌵爂瑂⥦╲瓆ⶵ效糁⺦ᕪ⦤䕇参㢢Ⓐ恲㒦▴掙ʱ≴䥊ጭ╀ƴ㕯䗅 Р⢵⠨Ⲷ^岣έ窠ʷ҂焈㻚患痄㔳滀´㵞倣⣠ĥ匤޺缯丧㝰⻗⦽䃱廛᫏秘瀽⌅猙繀妆୑㥈ឤጰ㒞ත䃤䤞ؠ⬰をԫ఑籲ᛟ䁐⁕娃孙⺉̣䀰␪ڧ⁐䰶ඡ憐㰡࡯䂨െ佱榔屾䏛䌁㳞咎ᩭ䢉嚃㍕ଡ଼涂䊍孽径㭭䇑ഁ㥽⬣มსڸ坵㪠倨࿐ఠଆ 帎紎Ϣ磾ࠣ淌ྠҡ⡪@㏥Ⴂ㏬ㅐ㷠㈀瞥ဠ㵉ᗢ⁀ᑑ䂌ཬ商㉙⢚஑ᢖൃ硱ऴٙೂ剏AⱎӠ⡑Ј㢽ш䢧р椭ʄ⡞Ёㅙʡㄨς›઱簰口䴡஑҇ൂٴ晕ู烔囘攨ແʔ=ᒥნ咧悴འ穾䶄گ呔ᤁ䰤䛁ệ䜔᛬ჴᬥ炤׬᳊㵫㢺㕳䅚⢫Ĝಂℴ⪨曎䁁⦚Ẩ楺⥎壚␤ᇗȢй⮩Ⳁᐫझ仧ႂۂ䃏否㗍⩡ᧆ崔嫶因㓾ڃ:䷠>ቦѸ㳃哕缪↙წᡦ漾Ɔᇌ㒠䞪㖲㜼惉㖠曞Ⴚ旹݉擙㝋歰તጥ琴ឥ䣊盽䎰琅㕁䝬⋕䘉ᐠጡ㠻掺ቚ囡㾥値牐甭侻猜᜼恖⤦℮礴㥈৵Ⅾശ㮈פ⏾፬㜀篠墴拷ʶ樼姰⫸䃶㫡奖᛭堰仨碪㜢䴶ዬ塶ډ俤ᚙ嫖盳姊匢惠ᆢŘͺ䜊嚿⡕妁8ᓿ孕䌪ආ㼰ጤᖤʀ䈥Š䰽À水媰昽䥂ƶᏤ楪ᕠ琽(䝙➖廵ᮤ䢼⥒䥭䭪๮⮒㲩⠪ᕫ惎嚭㩀溳㨒樱氎পキ召桾̪硠⶧㈌殾碼⟼牼⁄堻祺៪㎡殤֡䁔幡⩺؍拑ґ摖喝ౖ⿫ᙙ᠝䂘ຣ槖ឝ₮ⵘ㬯疵૊囯戁㶯ዅᗅ橳痥ှ㺯☜㶵⍝㹑ᠫ޼⸔圱槟庅兯戋ఐ絿晄羏㵝䖱⁦咠┤࡜䊠䅎牖悹〽ᇗീ⡘⯀Ѷ〢♄㠀䩿果倬₢̃佘ᥨЦŻX㖡硿Бჹ෨ᔺܼ䂮⊧ีͰ槩傓䏁யᒬ᫂橌⏾⧗᭫㛖宏㚁植吹液෸㶷婰㊲獰⅖㎁㙶掍ᐮ浣䕂䒘䛛㸧㭯㖌ᤷユൌ渻⢈佱ഩ冹ᠧ画◔ᣪ甚䶡Ю涝Q͒欙⫷䁛☀氫ࣄହ窷â䯱ፆ奘㿒⭬戺΋䳁ു㉦ķ᪠怹΀థݾձү㚩ਹ砲妐ᬢさЀឆ楼栌庅♔杭ᖦᄹ囐䗃ㆫ㭐癅慖礎棫಼累䦂ᴠ٦㨾⠦枙䗡ᜎ墥掘◵ル刓ἵ㩬涒縿撎⏬溏䈡⁳㉞䛙₱熣ᮧ䅞琞媢ࠥ⦝᯽ʨ匧ゎ㫭ᄔ律燢᮷劀検Jከ㾙枧磿ᯫᕿ牒㜤├⿱␱䷂ൃざ̄㩠䔻㠀䈭䐨䆕礲ㅰ㠊俞䰟↳挃ᓑ崃㇎ȱ甩挸ᑋʃ䡐㑰ᡅ匰὇爡⋑㹟掌娉⋝ߖ恝ةᯃ૟ᡵॹ㴨啋勇斅᦬啧䡞㐽勿拜㥿િ傛櫃⧲㳳㔴ᜨ浽橤埴ᙰ㑭墊昶橭Ƣᴗҙ什媎ê䳋払哶㛍⎍⻵䄣噁⥲㬄崃Ъ䮼㌊⠽株埃桖ⵀ๱੼叫㳌凾䬶䕮ᐣၑ̯䭙9١䌬㻔氁岥ᆪ᧘ᩕ傥̼攩ᴊ͘娾㦔ᢹ㡲ʰ㸁⁤乩咺℉ᦳ奅䦒⬳䭁✴楮ઙ஍簤䤾䧻州ছ㷹夾☮傦໒䪶ⷌ䚻棍奥⳵䒀嵶孟⻒ڝ㇬⎆ࣶ槅ᠺᇰỐፄᕘ呷ͨ〬模瘳匨Ỷ႐᳅ዅ➲⊨ࢵୱފ傂ግ䣇⋄㽧ᓒ牲⬁璭搉ʫ׊᱒姤秦⦃⮡㤷⸀眧敘䬊籗ਙ痷碻巙㙮晱廭屎瑙槌㧭઒ヰ㰯䤚ែ嗿᪊佐㎞๛㹤⫝̸篲珿嬅㣮篅㼹཮Ṋ㰎㻢崓ῢ⟾∙㎌ऋⰔ⨗熙䅓纩∪‿䗢嗐穑ΐੋ偰৖ᐥ䃳䖨倠䆂ᕂ䁪Ǫ矰⫙ᷙⰻ哘ᕋ硐䎁䃕䢂᭸┮價ؼ૵䚬ᮭ㗕䌩䎤䧍⎀⮎䨫㛝寽䤯嵙俇ჿ㊱ᵀ枞岭⎔嫝爣㵐ޚ琰䄿ァ猋矀㰊ᗏ滠䌾唎媃䫠梚䫤䦔㈤䃭ᓷಕᗏ犋┹皱昐၄㡝Ƥ綠䔞朙ᏸ㚙䵁吨₁ؠ䡌͂浿ݨ囆⭨猀䱹ㄡॆ៹羉㟖唋⒬䶽䡷洫做ՙ㩪㖖㩼ేȹ瑄᳛幮䂈㒘捊提笓த࠱䖗ⳍ䥹㉞娟䍧ⷷ㐏ຬ婗㫡২ᅧ痵癓᎚㙴睗曐穮甀៿᥇秔曪睜Ẵ狆䃀昩ⷠછ㎰◽ᚇথ岣㷍䉳䐻ॐᶹ县৙犊參ᗇ倧毤岋ů↦瞢泂傖௵ܚ⾑䙾ᭌ媕๵⼷Ⴂ戭䫤㝈筷ុ䟉㭎②䢊⊥㑮㳸呪櫊紌喵⦜栅⋊硝⫠ǉ␳⮊筳櫎厐禔㔣⇕曝歍␣⶗嚝᷏䣑崑৞婣✊刧㓍ㆬ涞㜽⡣ጅ㠸喞垾攴嬄ᇍ盪渋ƻ睍炞ⱗ孌㟆焎㳔᪳㭬帊㙯ڋ⧣᧭梌䌙婢࣢䉫ₒ⋦ᯰ喉挺榁ʀ涵ӻ࠲䅻⮎慎̍焧液ʑ⏓㋤ગ⩅N欎䞊ᤏ任淪≟披ᓧ㚟㢢经樢☺矚䜍ཌྷ歑༈娯㫩䙻∉疦዇叮〉第嚷哫㕻㋮囙㔖㹻᫰嚿圝ⰹ⤻匋䀧ᜂ䷰䣑ԧ⣨モຳᇣ೨懼岫ᙃ㰂䣭㉫ᅧ㖓⣦ຸ玘⠣⵷ู⁇Ύ䓫昳杭㔑䤺✜ଵジ᧪狧戗ᯚ⑌⛲࠰娐ॢ仪㑰畛巣♏晝તŧ滠厇ࠠذさ䉲ㄠٲ⒔Б᱃ℶ墇璒ţⶱⓑɀᲧ篩⪤╇ษヶ亊␫ԙ嚤ᛳ狁⦈桪ᚸ悁㖋᡿ക垁⎉ᰶ僜ׄ∑ⰿ墅匨䌛ㆩ䊘揍ᬨ㩳à ⷺ㛻㚛炟ǻ࿥织睟㧹㧺縧Ƞ  "
   },
   "outputs": [
    {
     "data": {
      "application/vnd.jupyter.widget-view+json": {
       "model_id": "276eb845690945f4a1fbc73f348f0cff",
       "version_major": 2,
       "version_minor": 0
      },
      "text/plain": [
       "PersistWidget(data_values=[{'__id_column': '1', ';Region': 'Salt Lake', 'Month': 11, 'Day': 9, 'Year': 2012, '…"
      ]
     },
     "metadata": {},
     "output_type": "display_data"
    }
   ],
   "source": [
    "PR.plot.scatterplot(avalanches_1, \"Elevation_feet:Q\", \"Vertical_inches:Q\", df_name=\"avalanches_2\")"
   ]
  },
  {
   "cell_type": "markdown",
   "id": "bd1391c4-2de7-415c-af8b-b144261048bb",
   "metadata": {},
   "source": [
    "# Demo "
   ]
  },
  {
   "cell_type": "code",
   "execution_count": 10,
   "id": "a069da47-0731-446e-9ccf-cd5960196311",
   "metadata": {
    "__GENERATED_DATAFRAMES__": "ᯡࡁ䃼恖せƬÐᓠ朣琬愠峀ʀೠᲸƌ⨎੹ૉ䜠㑀ӓ 䁯ᰶ塯+䀳䁋䔠⾤倠 ",
    "__has_persist_output": true,
    "trrack_graph": "ᯡ࠽䈌ʀ匦㢠⹱⁮¬ѐᦪːހୠᆦ,䲨ˠೳ∠爀樕仂₳⠾⪺匲⠠䭈⑀棒爵Ⴥ❱䖻ݎẜʤ䐡傠ǔ杣′䈤7࢝ᠠ湐憎Ⴄ姗㈠ᣠˬ⃪$皒‣㑡搤⢊㟓ਪѭ皬❳䢁呤䰸㩊ࢻç䍠Œ懩帬ᠰN彠椊㉧ᐋ㱣᣶ᡈ\\䰩ৎ恆こ砪┚{ౕ䑹ȩ䌤䍯ⳤო䑐浨ᴪ怭㜼愤矣唠徝Ȓ纻涀䝼淡ᛋ㏶o#䨇氃ܑ淜⃤᜷䄄惬妤䕆懰漾֡Ⴔشୡ凐碊佢ᇨ㰥⌠ᗰ娠䳢祾ྴ䫱䇺⪩浯棂ᢼ₲⑲ᩚ⦶斒糁≳ᒑ儨ī㤉壜⢶┹㒦▱攒ʱ⪥ᑈ幽Ⲅ㓼獓䦤䰠ʏȠ〡⼃ᠫ⠣㧵Y䖌㝸၍⋵㖘ീⷢড᪸/嗴൦垯怫ˁ㫧曀䤈ऺ䁈桘థ䳠䡤⨵а塨昻搂䩩煦埱帧㎵暰じ㸸䍂⡔㴩䖃塤✻䘃碢ク殈㫽᫿傀ࣼ⒘㙈♳೴޺ᜍώ石㘰Ỡ牙溇᳨ᓛ南ㇿ⎠⑐4⭥傞瘌攠䁗ၞ嘡ᾮ◣楫物俞㶃禡傘⨠䃾⤨✒᧜⪾㞉㸴䀡琯嘐ᪿᗷ㩾佴᫝ഀ繿䗱䃟嵐ŀਖƎШ䌚д䅲ྡྷೈਤ≤ඤ瑔᪢⊩䆡䉤ᚦご䀓ٟ༡ࢨ␤繲ጠ⑾ଭǰ㊀â㡈栠奬؛烰⿉Ṱڈ恫⫐ⲅᄋ⥭䠀繟䀨岕⭡␹੻搪擃⭵ݸ᭭೸琰ӛ橇ب䡅渂䎐濻⎌ହ劘梻፜伱⹬暣敞⁈䍐愹⎁ฅ挤撸區庸䌌昁ళب䀠ುwᛀI〼ࠝៀ᝔E୷⁏୰Ąᷱ摮喣栾⦮噚✹梠㠯᝸᫖Ԛ庥吘䂵殤ἢ䈀樵О∸傀戺䍐ٝȨ爢䜴翨兠Ᵽᤆ䶿᫚⋨⡒兹䡪㙺⪒㥡⮴䪭塲໧刔帠㋀氻Ȁ呺䄮榯䦮ᬹ嗌ය㬌綰獾玥㦨⮨窣ớ㨎Ϻ狼ᐴ祮珲碃ඦ穜篽牞皥竩ぬᅁ濦άࠩ怩⁈⒊兜■⥋禑ṅׁ翮佸汄ơ䊂ߩ⤷哎Ǜ毡筗⁳亏碁䅇؁ဠ䜫㜿䅠䰼䎀䰦⩴ὅ壐㸳ူȻ拀晘叢س䅫ᦎ㐑䁗亡冚掅▿⡀劕⾳繲⇘䛑挣囆Ŭ⼸垘␺愤祄犼ⵛ猜羰୸͈撶㤼婈⫥⋶由妈ᛳ䗴ڬ଴坊㓭㧁㟀◅㘀竽㚍淁ልሧᮢ㾒㖂䬖᭷嬕㙗㰫㓠ᷕ崆敳ᕨ峟ᐵ䰤坘⠼啵᫞吧ၹフ㛚悕笫唶វ⽓㽴㘦႐琶滍敥佖᠋㽑ᘥ㓣ᯪ僜㴘盳僝䐻嬖⿜䌴㰬桀॑罶ㄡ䦂✢ᣮᴄ䍥暦嗪䚇䗙〹യ഻␮᪌؂幘ਊ粌碢最侤䶵专嘽夞᳑獞ㄢឆ眍Ȍ⁼䁠屙ֳ揰ƣ䀸ކ摂´ấ呔ҵ䕺㹊Ȁ⨠ሦӠ戣沘Ѕ㠡ᦸᏃ㱞⎀ġ撁焮ਯ㌑揄䧿⒀ჩ屑䢇ʤ嚅ǌ㔯ⰺӹ娵堼䓙ၖòἪ塂慑㋦㈆⎼噚斌ベ絞儤ㇳሪ疺弈婔ݼ෹ᢻ䒘寖ᇗ㶲  "
   },
   "outputs": [
    {
     "data": {
      "application/vnd.jupyter.widget-view+json": {
       "model_id": "9f863fee2de441f984b52742aabf734c",
       "version_major": 2,
       "version_minor": 0
      },
      "text/plain": [
       "PersistWidget(data_values=[{'__id_column': '1', ';Region': 'Salt Lake', 'Month': 11, 'Day': 9, 'Year': 2012, '…"
      ]
     },
     "metadata": {},
     "output_type": "display_data"
    }
   ],
   "source": [
    "PR.PersistTable(avalanches_2, df_name=\"avalanches_3\")"
   ]
  },
  {
   "cell_type": "markdown",
   "id": "d4b5b5b9-6e71-45a7-a5b2-41bdf68050eb",
   "metadata": {},
   "source": [
    "If we look at the dataframe, these changes were applied: "
   ]
  },
  {
   "cell_type": "code",
   "execution_count": 13,
   "id": "eb95be33-ed0b-40e4-b1b2-5ad6b09d6ee8",
   "metadata": {},
   "outputs": [
    {
     "data": {
      "text/html": [
       "<div>\n",
       "<style scoped>\n",
       "    .dataframe tbody tr th:only-of-type {\n",
       "        vertical-align: middle;\n",
       "    }\n",
       "\n",
       "    .dataframe tbody tr th {\n",
       "        vertical-align: top;\n",
       "    }\n",
       "\n",
       "    .dataframe thead th {\n",
       "        text-align: right;\n",
       "    }\n",
       "</style>\n",
       "<table border=\"1\" class=\"dataframe\">\n",
       "  <thead>\n",
       "    <tr style=\"text-align: right;\">\n",
       "      <th></th>\n",
       "      <th>Region</th>\n",
       "      <th>Month</th>\n",
       "      <th>Day</th>\n",
       "      <th>Year</th>\n",
       "      <th>Trigger</th>\n",
       "      <th>Weak Layer</th>\n",
       "      <th>Depth_inches</th>\n",
       "      <th>Vertical_inches</th>\n",
       "      <th>Aspect</th>\n",
       "      <th>Elevation_feet</th>\n",
       "      <th>Coordinates</th>\n",
       "      <th>Comments 1</th>\n",
       "    </tr>\n",
       "  </thead>\n",
       "  <tbody>\n",
       "    <tr>\n",
       "      <th>2290</th>\n",
       "      <td>Logan</td>\n",
       "      <td>3</td>\n",
       "      <td>15</td>\n",
       "      <td>2023</td>\n",
       "      <td>Natural</td>\n",
       "      <td>Unknown</td>\n",
       "      <td>24</td>\n",
       "      <td>120</td>\n",
       "      <td>Unknown</td>\n",
       "      <td>5100</td>\n",
       "      <td>41.764421371078, -111.677866653240</td>\n",
       "      <td>I could see a recent natural wet roof avalanch...</td>\n",
       "    </tr>\n",
       "    <tr>\n",
       "      <th>869</th>\n",
       "      <td>Salt Lake</td>\n",
       "      <td>12</td>\n",
       "      <td>3</td>\n",
       "      <td>2013</td>\n",
       "      <td>Snow Bike</td>\n",
       "      <td>Ground Interface</td>\n",
       "      <td>6</td>\n",
       "      <td>360</td>\n",
       "      <td>Southwest</td>\n",
       "      <td>5100</td>\n",
       "      <td>40.572646000000, -111.832700000000</td>\n",
       "      <td>Soft slab failed on pollution layer / fertiliz...</td>\n",
       "    </tr>\n",
       "    <tr>\n",
       "      <th>2274</th>\n",
       "      <td>Logan</td>\n",
       "      <td>3</td>\n",
       "      <td>6</td>\n",
       "      <td>2023</td>\n",
       "      <td>Natural</td>\n",
       "      <td>New Snow/Old Snow Interface</td>\n",
       "      <td>6</td>\n",
       "      <td>480</td>\n",
       "      <td>North</td>\n",
       "      <td>5100</td>\n",
       "      <td>41.794385342307, -112.048959719210</td>\n",
       "      <td>Small natural avalanches of wind drifted snow ...</td>\n",
       "    </tr>\n",
       "    <tr>\n",
       "      <th>551</th>\n",
       "      <td>Salt Lake</td>\n",
       "      <td>3</td>\n",
       "      <td>8</td>\n",
       "      <td>2011</td>\n",
       "      <td>Unknown</td>\n",
       "      <td>Ground Interface</td>\n",
       "      <td>16</td>\n",
       "      <td>1080</td>\n",
       "      <td>West</td>\n",
       "      <td>5100</td>\n",
       "      <td>40.593100000000, -111.805115000000</td>\n",
       "      <td>missing out today watching kid as wife got som...</td>\n",
       "    </tr>\n",
       "    <tr>\n",
       "      <th>430</th>\n",
       "      <td>Salt Lake</td>\n",
       "      <td>11</td>\n",
       "      <td>29</td>\n",
       "      <td>2010</td>\n",
       "      <td>Natural</td>\n",
       "      <td>Ground Interface</td>\n",
       "      <td>12</td>\n",
       "      <td>240</td>\n",
       "      <td>Southeast</td>\n",
       "      <td>5100</td>\n",
       "      <td>40.791719000000, -111.860905000000</td>\n",
       "      <td>Mother nature never ceases to surprise.  Thoug...</td>\n",
       "    </tr>\n",
       "  </tbody>\n",
       "</table>\n",
       "</div>"
      ],
      "text/plain": [
       "         Region  Month  Day  Year    Trigger                   Weak Layer  \\\n",
       "2290      Logan      3   15  2023    Natural                      Unknown   \n",
       "869   Salt Lake     12    3  2013  Snow Bike             Ground Interface   \n",
       "2274      Logan      3    6  2023    Natural  New Snow/Old Snow Interface   \n",
       "551   Salt Lake      3    8  2011    Unknown             Ground Interface   \n",
       "430   Salt Lake     11   29  2010    Natural             Ground Interface   \n",
       "\n",
       "     Depth_inches  Vertical_inches     Aspect  Elevation_feet  \\\n",
       "2290           24              120    Unknown            5100   \n",
       "869             6              360  Southwest            5100   \n",
       "2274            6              480      North            5100   \n",
       "551            16             1080       West            5100   \n",
       "430            12              240  Southeast            5100   \n",
       "\n",
       "                             Coordinates  \\\n",
       "2290  41.764421371078, -111.677866653240   \n",
       "869   40.572646000000, -111.832700000000   \n",
       "2274  41.794385342307, -112.048959719210   \n",
       "551   40.593100000000, -111.805115000000   \n",
       "430   40.791719000000, -111.860905000000   \n",
       "\n",
       "                                             Comments 1  \n",
       "2290  I could see a recent natural wet roof avalanch...  \n",
       "869   Soft slab failed on pollution layer / fertiliz...  \n",
       "2274  Small natural avalanches of wind drifted snow ...  \n",
       "551   missing out today watching kid as wife got som...  \n",
       "430   Mother nature never ceases to surprise.  Thoug...  "
      ]
     },
     "execution_count": 13,
     "metadata": {},
     "output_type": "execute_result"
    }
   ],
   "source": [
    "avalanches_3.head()"
   ]
  },
  {
   "cell_type": "markdown",
   "id": "25d18ce7-e882-4fb4-a3ac-f69423d06bc0",
   "metadata": {},
   "source": [
    "We can also re-execute all cells and get to the same dataset.\n",
    "\n",
    "**Run restart and run all** "
   ]
  },
  {
   "cell_type": "code",
   "execution_count": 16,
   "id": "39a1bdd4-0a15-4f7d-b60d-8c9aa092c232",
   "metadata": {},
   "outputs": [],
   "source": [
    "# avalanches_3.to_csv(\"avalanches_clean.csv\") \n",
    "\n",
    "# here some backup if the cleanup isn't done right \n",
    "# avalanches_3 = pd.read_csv('./avalanches_clean.csv')"
   ]
  },
  {
   "cell_type": "markdown",
   "id": "80bf90f3-de67-49f9-9d18-273c07993016",
   "metadata": {},
   "source": [
    "# A custom Vega-Altair Chart"
   ]
  },
  {
   "cell_type": "code",
   "execution_count": 19,
   "id": "f118bc43-6655-42af-9acc-477e084e1520",
   "metadata": {
    "__GENERATED_DATAFRAMES__": "ᯡࡁ䃼恖せƬÐᓠ朣琢愠峀ʀೠᲸƌ⨎੹ૉ䜠㑀ӓ 䁯ᰶ塯+䀳䁋䔠⾤倠 ",
    "__has_persist_output": true,
    "trrack_graph": "ᯡ࠽䈌ʀ匦㢠⹰Ǡ㬠సঠᘣᠢᠫ⍻æ⦭桠㌡ۧ滠⬦拄ᚠ丹㮝䧵䥈kᑄᄈ夑ર勃⃩嗛✾㸢䉸䀡傠Ǘ呃′䈤7Ằᠠ湐憎Ⴄ姗㹠˴⃴3姩-儤ა恸Ⱐ䚌಑ʭ&曁㎑⡒Ⳙ檚㝒⍆ᆮ⑀Ⴀƕ稦䝳ሦὼ䐿⛑䅠Ȅ恨ᣔಒ㥇䎭慯搈ƌヶ稱࡝లढ़㔰䊖ၣᘁ⬠㗈纠᧚཈̛疗ବ犋Ɋ綎Óھ堢㰠༗㜿ౙ᎙焪ᆓ塙瑓ᤢΩቂᲢ戱琸冫䍄偺᪯䋣䐴֬傀Ⲓ᥃Ё䥚ጢ䇸佷剨棡䶛儃⠈ᅈ噏੅搴䵁䬰夼圧䠴偂䓆⢢惗ẽ৤ॄ啋䏅᥈ᭋ䰅ւ哏䇸䘳ᠲ!䫆⟥加$ᢡ吓緌Νࣰ䄀㠡倡⠥∠ᳩ榠ʖൿ玑惚䗫易籡૬፡偆ὣƣघ㤷݃⣔⸽䟂梈㸸䆡億౦р偐₼䙇囯⻹斑Ⓒภ䅁䢴㔮䒃ᢌܫ䘃碢ℸ₉ᬚ䝫刉稣㸥䙫劃Ӫㄦ朓㍩㘯嚤ᛧ㏸໧ೠፚ⶷ǿ⎣䑐4⭥儕⯈Ԡ䆗ဠଆɾ毝漀磜漰ᓝㄘÀ㑊a佩гṃ๣溝ț㱩#楩ᠲġƣ㳿࿍⤝㇧簠室ɠ就π塏倰刹ᆈ㉫䂀ɍ䴲㉯⇳⸣৘ɨↁᝍ䒘㸨䲀㜬だ㨲ȟ⒯⃀Үκ␶烀儷˄瓠疽⯎當ࠠą䴭瀨㿚悐ؠu籾倔⥁ᐣ䥎䷴䣊㫧⥟儂᳔䌬ৢ⻣愲Ⱗ儃ᰔ⇨㟶堰ᷳ焢ⷢू㸓ৰ㜃秲⠶ᇋᐣ廂ː㣂ؠĎ?⌱決ಷ籋䲄䁸᥂ཌ厴⑗઄ᓾᗇ⌘ਰ哕ᇅ䱃䒒琧ᐵᳱᶃ䒰Ԧࠠ䎙悏ڶૢ፶⑳〒沦丂㺏俇ⲓ̢桩ൃ⭙ݺᑦ拀宕໹㑎揃垊䔃ĸ仚䎐沲⎈欻捼ࢻ፴溺㎌殻獢汩Ւ删⺪ᖕ⌸朸ፄ擡Ậ斸獜恹⁂曋౺䜀畴Έള⽔ⵋ⎋浧⚇嶝ਈ⬴់絟࠳Ʌኢࢄ䌰䩲䴸慈潤戶ౡ㭺ɢ灸঻ぼ愺唲晹㶐䤱䕆⥉她⽋㥥⟫ᕒ䏺⥞拓㩾俳㠬ྪ䞎Ś⚉䍘汙泓⽅愣㙽俓⺕檒䒓䏛⹝悛ཱི憓估ě添澙⽫㔙⤷晩尯昚䜀⾶ʰඦ⵼ᘴ⒨吱€ॄ櫘¾㲸巊㚄怆嬞ᦤ⎸థ␇ጼ竉᥆甙唥粤甤⬓ሿ反⦿䲠垾⏰ᱽ㬈ᙽ殠䪼ᯗ擽㏾Ꮏ䐖紽㮩ၧ惑圀塈୤ࠢ䩠倬ǯ㢎ຸ偈ජᢌྡྷⴶඡ偖Ԣ灼շ⛹兔ᛅ動⭹୸ᐦ泃᭕ۺ㑮汁຺䰫ゕ業哶䲒Ę獕ä㍕㎌ކ樥暄௬坵⣞䖉⦭ᨰᵕæァᚆ昼朢㳪䴰⸸㕄䅃ễ㑴㇞ಀࣶ䮉㷣梼ࡹি卭⥒ٚ嗀㰧ಝɡЫई匡偋ᣠዳ∥烂䙮䇜ű≨ᡋ᠈⌠᫽ご㵔朦埅ؿ☁㶵创ᄠ喰珋㸥ڜ䇶⧪Ě惑玸涷ᳺἦ熎௖庝斠➆㳳༌欿ℏᏤ媨˼ῑɢ吮暬๓樼浿ᴫ䏚㫗⥡Ბ䀺犲ᔁ䂉桝ဥᒷគ恖㩤礔睘䭎浇劆䕼緱Ḉₚ䡦▄䁡撱珩̃䈥᷼㕶岑䅫篘♗൨䂌䦎分湭ᑽㅟѢ䙩尲㊓آ䂄䅠๬愌༨呥ƈ̢ᡏ⎀㨦昸䓆䡩㹀Ȑ弦紶妉届機㲧噅ʌ唪氺ǹ娤㴬᠙ၞώ✯Ἴ⁄嚏懴ࡃ䉔⏗庠⑼Ⅸ寣࢏唙渳禜ዠɃ¤ⓡƘ䖮ᡌႉૈ碉咄ᆐᑘ棈㋰桶ᩴ綤モ㈒ኈഄ昰㯣ॸಫ࠸獄᷵側⟀㐥Č௜➾䑑⽀䜬䚥Ჩ⃀ཡူ最ᤣ㡖ɤ㸦ࡦ守拕椅㐼㖁噈ຜ栬挕亀ෂ愻ߑ᭓㕼ᾀ煖淘祦焽䔓屨ጘ瞪箛ࠩᚯ皏䐽ၤᶟ᝚Ð擤桴伾偩Ⓖ乽ᅓ媣፦Ȣ࠿䀬据䒩瑉㚼⦵浼ᕃ吋寇剤Åᒉ䜊䗩ή䊞墻ⵋ旺㹩崸㛯҉曜涭䋶ṅ勲叼㊋┣䠦ˌ䨥抂݀คሗ⻩䰾䒸Რ煎枏⨁䑢Y⎷᪆䪓矦₋ଆ㛋秼滴罇䨞Ꮔ䃘໘瓓䍧݃ᦋ្李犴摬᧽抻揁䡍悯↶侈玾厄廤䛝㹷㶢喪⑑ಜ張冹印洮捪毦㉾Ⲳೣ㘵䏉㡐绍À⬠桤䚡㯁ℌࡠ倿皡‸む∬籉䀶ᅶ烰帓㱏玐7ᅲጢ桎悐⩵⩮棊嫌㰻傩᥀疔爊喬᫏ࣸ厂尶曐図㡍⧤㶫䔾ⷋ䦫朖兓燊㠂⻂ਪ嘓䛈⚚确竆桭ᛴෞ⼽৹Ꮛ⯪䢓㩖僩᧱䶮獘䦩漵炋᭄ॊ劺⮀ͪᛈ争❚⻩兽╍ᩋ㜹劍伯⮕竧ᠭ⓾ⷝ涇෮栜磭̂ⶬ瑿㱔߀ᦱ䃛ᱡ椾䃙Ⴎ剞ヤ࠮怢䟫䙇栥䝚㍸理䦗乣竎䛱㽻䧺ဈ礧ⴓ䝡౸ᴈ僺༐ؽ偌ᴍ嚇䌤㑦籔䟨᳦䅗槀㣹ゔỠ䱝⃸㝗碕䴨碯ᛴ搞䉖橀᱔ɾ䙤帧Ⓚ䶀犴ჹ᥁吡盳憀呔旼⣀㰩䞑Ңᔦᗆ᫬猩Ãᡔ緌ಛೌ稳̕㥷眒済ઽv๗儦ᛍ崽ⷐỀ䁘挋₽丣⡼㩫㇆商✦➍䫴᷋䕉巑⨋杳杼籡ᯆ⅓砬愩ೣ䶅䮱疉眭๺⭔⽒獚ᇈᲢጧነ傯䐢䁄䨯㩈౨印牺憔屛⹶ଏⶇ燙淎縯῕忪兾ㄣቁ璝呦綢䈲羽怠箸Რ偡推じὬッ㭛㬛氣筮罦⼍ड緿㡇嶣䝴ᢌⵁ⯙⇗㦬瑃ᫀ爏㵓涋嬩勣乨令㹨侦屺䄆⠿箛ɂ䔵悔ڨ渋ᶰ瑌ᮕۖ犌眔渍泽懣寀䗒⌺晧沉Ⱗᮮ᢯ʊ䣤Ꮹ旵劝ㅦ奯኏揍亿ᱭ坛㍛㬭Ვ弾屺㜊窇作徿挀岷㱩㦰欒ᒻ䰕▅ൣᘥ撇㋤䤴塹㡒䧎剾බⶄ昮ឫ⅌䌄亄姇啌澣羛簟偌倄±㣶奁㐯䎙珱喹崤妗寬䩜ᠤ䐱஄ᙐᣁ‣獕嬘涇㸮堻䨙坅婗珼侈忨㩫㨎儠栮尼‷娥冩ಎʷ劸Ს⾂ŷ䲩㘅筮̛專氹恢窐ⓝ炫愎Аぢ㘂㸱ۮ崌㣈伻媡伌Ⓠ伦ॣ忤娃瀼祁剑⭋妋儀д㌄Ղ奰ង⢥㨸㆝忔䋊ⱪᰛ䄣眄ཧ㨝䱜㷆瞀㤬௼㼁䞁簈䵴㲊䍔惐lᙄ፣㎳䱬⛈徉ᩘ仹⊀南୉厝ⴄ畓⨏厼Ǡ൐䨓噈Ə䦀宿剉᠄䊋祴儹ᇍദ桟䔜〶㽷碴帜ᆅ缺榊ᇃ秇ඒ䝖勂㷪ô䯴㛕㧄梢棔‣⠈ൈᇠ⛬渣桔ϱ唬䈋⭱挄ᴡⳬ㆔揓དㆯ䂎።ઁᬏᴳ䦰㽼歩ℕ欕哼琳嵦уԡ殪ブ⫏ੑᘸ晰ᅑ団䐯ヾ䃬到᷍恑٨Ѓ昽磽猜⛢ㄧゴX␳举ӕч夹䂈┴硡䩍磮╇孃વ⾁慱您䘱ᬾᴶ㎿ଠ䰥嬲ΏഘР㸵夔ᗣˡⰩѤΣ䘍惹޷嵸ȶ䂊笨㻜䐂唱稸廣⢏捉笳乃㐂፥恏廥䰉㕵穓嶝⻠畯ㄏ培⻈⤗Ⰹ䤜改䭖䑌㡕ᚊඑ䚙䷠*匠⛠㉳偰ࣈ琘䋼婉圫㥪⋲吳࢔叄獥榣ᖈ翉Tㆰ㌠撠͙槓ຠ墅俩㈉挍ਢ砿๻昏ỻ焥ₘ䙀ⴣ摂ᄙ㌂ⱂຽシീ姨湒狽㙗ഥ㝠㘶熙ጧ㠣犄䳄ᱣᤲࣴɬ㊃楌≬俠ୄ㥳ᒯ儠ⴡ孂䦽仄侅楌ᤝ佞℆ⴸ㧤მ⹈决ⅎ̣຦⃯Ⅼᑐ䂀䥉⒗嗋ᒐ䫴ᣌ哾ᢨ⢺ᡈࠄ⸹礥ۥ䖱㺥⅋焢ඤ疧繁ঠ䩤灅᱌ਂ䴃Ⓞ燽इ斴党囲戩৑㢹汬檊䮳٥埮橌焖᭛牃什ةㅦ秧磆䲟ʄⵂ繶䫟ᒅ尰砠Ėŕ兤Ԁ㣫㪘㍢槱欠翚㒗ᅑ䩎冞焈嬉憯㪐ʰ䰉⫱媘㕘傀ᩉ煨㌆ẉ㢲♻煯们⋢䙚Ȉདྷᬐᖺႃ෡挡晀җ䵖㐦ႋⴷⶑல疱巈᧚绗ᮣʻႬ⊧⹑犈䨤㏪昢ㅏᷜ毯恍玵ౄᢤ㹤ዼԅ只涻䪧◜堥⑗䬏᠅Ï≻䄶䔺✤ᨼై₴ᠥఢȑ῁泀ᠫ⃀撁䑓唱ヶ⢜禶䶬؁ߢ☧䉊⇝旸ュ⚒₨๦柪୘玑໹䩪癭᎛᝙䙨⹰狹ᨱ९҈簸与䇭䑬戂᙮ᡎ⒊厉滉祖↖⊕ấ檗磆ઔ摱ཱ᩸㢦⒵勰䤿⠦䑔䋅煱歬敱₧兦⩀ݥ䪫㤧䥎儕揈窑ঘ堡㐑്勧᠀糋嶗樶ᝅ灤婈イ仠㖷祣ㅺӠ糐䩙Ȃവ穇怱ഃᰴ毊䁈䂢Ɛ欰䱤஀ம段捋ᚅ䎒偦甚暎稪ඵ局⫡喷Ⳉጓ᭎຀ቒㆊ偁ᨦἾ㈒˵䃌᳓᫪园䫌獭⬚ϭۏ玓⯁˙甬投池槙洭⟛ீ柙≩㷛Ҵ䶰剁㉐剙˵㒢䁗ɒ޸㸩‡ⴱⵖѨ彃㱋వᝍե牂嘅Ὁᑌ⯵栥Ⲑ䒃ࠤରᢦ䵴ଆ彞塊厲粶墥歴橪઒ᚥ㲬浡⋐嗮ᱏ涃Ⓨ奱沍捼櫞彑㢵綘㔀搭̉斤执࿺湥㉄⁮᩾㥧߅媁䓵慇ᄦǘǎ⥉䱌㴸历窩᥎䊴䄡䵄ᄻ絼ࢄ潷傻䆧堞㭂䂆᪾弄⣆ⱡ䎱䠄ಉ睹簲⮶糇㦷䶲亴㽗桖⥬Ԡ㳅❱⎪䲝勄䡝Օ沲㫁佥↌佝丈ⲉ欦䱔嵐䱭碬収將ᎇⵉ徑᎕傖甦毚筏罞䈕勪僢䙆私ઍ玌灆ʫ΍ූ昹碥嬣䎈⃩寅ڍ๥⃵婐㞍氿䖛䈎岵ͥ▁凲妵巨噎⬡反ᩴ㮙ၥ嫭ૈ玕⫪敍立獳⬥剕⁋൴南䙤灎侩ḕ❞兖᪤䴶嚱窗磊橗滕┌槖毐埕⽷憏哓忥ဏᶎ䵾夕繎澙䟾唤柎刷㪢҃弌絣䜘吡⌉嚫ܦᚉ䉍䥻㑷咜㎌ృƏᦠ摡ₖ硖揭࠴券Ꮈ䲰ฉ԰ʓ埈粋綁ᮩ噹劈嚒疎ᛚổĝ㊌彭☩䑛旷͢伧ၾ⚋ᦅ᪊㲀氺ໄ眭愜ޭ咣䈹℅射ᶍⰤ愝官䐠  "
   },
   "outputs": [
    {
     "data": {
      "application/vnd.jupyter.widget-view+json": {
       "model_id": "a3b1cf5a16184452bbd15f4172f14614",
       "version_major": 2,
       "version_minor": 0
      },
      "text/plain": [
       "PersistWidget(data_values=[{'__id_column': '2291', 'Region': 'Logan', 'Month': 3, 'Day': 15, 'Year': 2023, 'Tr…"
      ]
     },
     "metadata": {},
     "output_type": "display_data"
    }
   ],
   "source": [
    "pts = alt.selection_point(name=\"selector\", fields=['Trigger'])\n",
    "\n",
    "base = alt.Chart(avalanches_3).encode(y=\"count()\")\n",
    "\n",
    "trigger = base.mark_bar().encode(\n",
    "    x=\"Trigger:N\",\n",
    "    color=alt.condition(pts, \"Trigger:N\", alt.value(\"gray\"))\n",
    ").add_params(pts)\n",
    "\n",
    "weak_layer = base.mark_bar().encode(\n",
    "    x=\"Weak Layer:N\",\n",
    "    color=\"Weak Layer:N\",\n",
    "    tooltip=\"count()\"\n",
    ").transform_filter(\n",
    "    pts\n",
    ")\n",
    "\n",
    "chart = alt.hconcat(\n",
    "    trigger, weak_layer\n",
    ").resolve_scale(\n",
    "    color=\"independent\",\n",
    ")\n",
    "\n",
    "PR.PersistChart(chart, data=avalanches_3, df_name=\"avalanches_4\")"
   ]
  },
  {
   "cell_type": "code",
   "execution_count": 27,
   "id": "96693c8a-10b2-4218-9c0f-ac34bcdf1bc6",
   "metadata": {
    "__GENERATED_DATAFRAMES__": "ᯡࡁ䃼恖せƬÐᓠ朣琪愠峀ʀೠᲸƌ⨎੹ૉ䜠㑀ӓ 䁯ᰶ塯+䀳䁋䔠⾤倠 ",
    "__has_persist_output": true,
    "trrack_graph": "ᯡ࠽䈌ʀ匦㢠⹰Ǡଡ䲸ᣠ⎌׀۠Ʒथ埠ᦡ嶒䁛¡ٱ冦௷ⲛ॰䥠ɺفݥ䆯჉㥪᪔ඹ墒爇恄-Рණ⸸㵨‡ᑀ‡㤉Ơ܃ئ籥痻氠ᛢ竀řᲰú႖ॖপ*恀ɐёᐠ⚉ĪҤ䑠․犄ばԸ⌦ࠠ᝷⟀癒₲痐Ō⬸ᐠṬҫಅ䔱≩ㆸ䘬ٌ㝠ஃˑㄨ䁸悰䧋イ᷑о⤥扸Ǎ⍌㽍炉‷毇屾僓ヌ࣋痘ˬ᪊怩瀠㩟䓜ヸⷷ䑐姫㏸ⰳᤢʩ⚘䌣Ťヌ䥋।䥪ࢋ⃑䶌之䰀桔ै惠栴ᛢ篝⚚䮤梠䜺㝦ࡥಈ乀䭅⦔千䨄Դࣃ´您㱯♤㆘䨨䨂沬䭋䤱祢壈ၵڊ屠ȩ⁰ 䘡䀠睍㬨棠Я暙㔠㤼ף䆶⮍䕴͞捹冈秜张⋑Ҩ溺ޢ䒂樱නㅈ㻓ʧ疂ȴ↦僂ḫʡ䀤Ⓓ⯅㴖✫䅄悐籑٠僈汍རㅸ癇෥爘╨Ů᭺ᗇⷵ疦ᑏ⩣ె⦸᭗䴺●廔汀ᶾ悕屮ᦿ五巎䏎䜥ࢀH䞭磎惈Ȫ岠wᠠ籛栗㇉玘㹀ຊ挑ŀ灴¢廆u灓ク㚑唑☠߅ኟ䐦ʚᤓ幦䧇㫯᪶梏䐗ࡿ䠓į倯ࡠ∵栰⨭ᣘᙆ摼ႃℑ垡䂴֥䒴㭂䑈ጰ怤嬢႘ᩧ⊬Ī⇆ජ㘸㠮⺃娔䄿ᮯࣜ㛣䃸Ḗ䆎峷䆕๨笂ᛱㄖ巁匋ఁ粟2墆ئ僆ቢᛒᓐ⠵䥦囊໐梭䄯桵ᐵ䔓忲Ⴁ圦ؤᑗڱ參ⓑ幔⛩䌃☹媄ੀ෨祾⟨䚈੐ֈ๐♩䕓հፖ⩦ᐱ:孵樦帔Ⳬ᫲炞ས㱶䭲堰ჲ⦶䛳娮䧴㡎姐㖾䟧碡ᖆ㛘ভ䑩ả└ᤳ⃴ᣕ惹ࣰႬ֢೽Ճ瓡䭗廙巎બ呱㊲傧㉒䮰⪜䧑㙭ැ瑽߁ჽ孂ඈ῔䳳ᢖ壃如ẳ媗氷唄⻢̂屗ඃ⸻宖僛䜅ć圅棇娻ⲷ䈁庄屠㹯圩㻋౩È㌇℠⁪岃䠪䥒㡯戂ᣊेᬸ䨟䫤慀ࠬ৫ࠪ吏⌹৆᳌啼␧㺿䘦纘盧煸✯ŀ䊸汼ॆ扈ຎ兑ദ撈ਣ⓲᥾惽Ⴏܘਡჴ䭬磿᠇糮êᨂӮ䣥乣ᚪ૑⣕嵠㙺Ẕ咮ᐲ┓䶪瓣㜥ෘ᲌䶤᪍专ㆊძㄲ䐱Ⱨ疣⁚݁檉䴱剞ೱ挡ⶑ筍⪙㍱欚䭷㎀᫷㱌ஆ嗕㻍䈒㫵⨊ㇵ森彑䇆幪痾埉Ӵત峱絾烥匣یᾥ倽冠ㅈਦ恱ᝃⵙ䟷曱⡑ځ幌║奊։㑏⚹⏠㔇ⷄ嶽䜊ᅩፂ䒯ゕOↂॐ掆泛ᰋ仟⦔ͧ嶕䂀愭匾෶ฺ༷碠ᘂ剐┢匦䚠⧭⾿䶰䜹ֺફŒ愶㌠㚊硅⻱ᳺⵋ䄀槒ثフ縬ࢆ恁ᚘ➙ㆣøᒡ扝ਧӵ怨慠ɣࡄൠ傭ãਣ⛁夼㇕᭽ზ䍌㊥䮌晾⇫ዓᐭ㇈㶄桡Ė❄䀸ཙ緣䉸䥃߈㣂㤔屾ந⺣ỹݜ௩㰥Ś璀砸欢ᣑ瓤匵Ḷ᭝珱㴭彚狞⬷ᅳ惑撎垧瀠䊈㗮呛个ᯓ⦠ஓ塖垎仇⡾䏵㺤ǡ専ᠱʅĠ恵ぶฯჹѡᰮ䃰֡ሲℲ⪀屘睸ᘇ䴄䁕绤㑰ಊ⠱䞧ڐⵌ熮嗇⣇泱柱[ᬋؽॄ㩧徇厸埏䄿⼜㎧琷࠙睐᩠桑湿矼瀵妀ᛒ偔①ᘦ凃⏃ⓕɀ䛦岉∔棭䳨䵹䳛䦽燠ᡨ䓞〶ᑆ䅂椒㑉夈㓡∢⣀ଡ琨所爦≤䣠ᐻም䂡⁕8碃ڐ㒀䳪ᆉṃ替Ⓞ㫸摬䂶㲬㭅৒垆儮⨍⪭㎣ぎ⠄慪ቪЄ䑾⦴⮠商匊┠᪜㪸㙮㋜乤㙼⦼厱峒及㛄ↀ哐ẗ栵◪,噐巬桺䀡㋫ì媠I焦唊䢈Eᗈ婪䦊嗦眬丨ဢ…ጸ〶ဵ䘡Ⲛ堨憳偩勨∦恙欱吩䂲߃ឦ氆ί棣ാఢㆳ溃ᴫ抌㟧ᬨ摽㣪嵎扂沥ㄯ∡挩璧ƇΊ櫟⟰罹恦瀏竫䐬眧㏡侅↡暠娀盤㛜ᠻ㲐ᦒ࡚犰㠆傈恠⎢僇仡ᾲ䈗ᾭ呋րイ㹽哸⤭༙檽⁾祜⮲␥£じ晱Ƅᨢ≤䆀ሥ疴ݤⰱ䄸ո⍴⏈戳ᄑᓴ淵䉀勛匿⮼ጩɜ⎈ⱡు噘ෲ䆔滕௉䳠֣䙎盺敢岓▽ṉ綠喥眼棠䐵ㆩ熠ェ晻ۀ愬ばЭ‬䙈瓣羕ׄ焀ᜠđኞ漰䷤㙋听䂖兠搭቉⌼㇣㻱溣ㆄ曘ࠁ䞮Ŝ#疷㬇▾䣠ᾠ䅎Ẍᎃ判妍削Ⅹ㻸Ⳃ䝹௕⤛ჱ⾄䁱མ⻊ý⏴࠷嗯┧ᓪ怭戬ඝػ壒ᬌ㓢洝亚矉㧟ⷠ睔ข䘇懒ᬜ㓡唼ώেᝆ畊⍳曯Ɗ曋⦍ԯ亶匱䰥త֎撾Ⓣᧇ嵧梽ⱓ倢篭ᩡ䊅㔒֎䒜ၠࢴ᧰ᜡ㢝İᒍ⼱⪅ᙱᕥᇫ╖⮙㹴հ圬故ഖ旭ᯃ㺒沴獌婧অ⭪暟ᶏⲦ毹⶿繻䯒箽媯ऄ⁩权ḇ䄁ᄽ㧸⬳僚佊⚄繮悄ห㤌仌᪆᱐ई㠓徙瞠帮ᄇ洣叺细ㄥ࢚䄴ሮ䯟実㗳殧凣圍縌ᘥ⦍̈墛壀䄐ᑖ⡀坂㋊ၺ̥Ⱒ惹৉ᣎᴁ籮びᣮ䩝匤帰ⓙዲ⊭䡉㌴䴿惍嗉ݗ玷珐㶫暺➫媏▔碷瓽容ʪ妇ㅱ㭎瘵ৃࠨ䅼僕欇ٕ䊧其ђ㣡此׶㶗Ě濯䐭⸦ᑧ嗔挒⨪㟍㆏⇊滈۽笌⾨⛍施⿃伬㗑ֶᠪ橪曶⁺瑚啻疌ˀ没䁩ຸՀ㕑չ⡋扦⟸ٯ宏⊢ӳ凟杽⚨ᳳ䴚殿竻㤓䣚෱㋊松㙏劄澴≂ਣⷧ睍㟎᳚ൻ⭂ˮᾎ㚓㐠䧼䍰䄍墅淧ᒬ総侎焤आ癝俹䈉榙ൊጯク億ֱ楮垎⸣籟⃌㷁岟珙ᗣ⨂ᢸ匀ᑆ冻嗙⌄哘喎⧲ଚ媄懎綠䐚琓纡唠扐⒦栦@梞౓焫Რ䘮㱗忒඗ڦ⚖d䱩䭴⏍攨汦匥ᇙගզⲷၢ㥣樈♕敋ඔຒဤ燎ᗯ揦栭䁰䵤ⶡ␭䆰ॾ歆Փ῞෡ഀ啗⦻ϔ䚌禒ኡサ杂ބ夳妴⮄㞅㻃䥌梠䘥笪㳳憾⊤ᓍ疓梀ׂᎺ姞Ѹ化ે愔Ếਤᢖ㵵䠼匨ឥ䎫搸㨅堡䂒䜶互◖⸂Ⲋ戴旍㢒淊浠ᖱⷍ⻴ᢲ眺╊毼㬡䵓ↁ༴⸷䔰棒पക䑁⒆䥮僡㪴懫恖ސᯓ岭朎曓ᮻⵍ涎䘥疩礆涺ল瘭砿ⰸ缑䱀絖旒刑涨䴖怬⨑̬絻⪖稗ᶲ絎拞倦゚綧⧞ߖΩ紤἖绰揖紱栖簬㰶捶ᖮ吪徠℮ሡ濷徶掯斮䕕ࡼ⏱悡㾶岙抹䞞⺇ࡗ㱆䍲䱦怪₼᫤Ს䀼姟欰煤ハв䚠Ⱆ㏟˹渡っয়䈨⤢库帻攥槼敃䟈嶱ᜒ咂瀩ӄᗆ᤬䢵娄᪄㉲⢑䷵曁ᩰ姊偰མ⽵織⃘੮竖┤㕸๲ਣ摡㑸䏠刢␣秡¼晭⑻ᐁ⦱⹩撏ᐒ၉⊮ગ䋵⪀ℐ䑾啀ᲊ㐢斱ǃ撲夗ҝ吲ᏼ䲰ㅃĘ◜┤ቄ㇁ം∦い楣ⶰ᪶㑏Ɛ࿶外⟔樔ᄁⴖᡫ䐓溁⌒塷䎆櫸ㆳ㑲汨Ҫ㐤し⊿䑞斲中㓶⅞ᆪ㚸掮慑㨑Â籠⏺样䲛ಀ斒畖ⱷ況斮᧲屭籾᪞㉡⎼㵏捹s噻揅䪚ʥ☷ל䋌ὲ䁖ↈޔᠠ⭂祎Ԡ㘢琿ґ⤑ᦡ悒ˠᾦ倥傊怾䞜∧䁰̘ᔒ掬㚁吐ᴩ积炟泰ἑ∭ḩϤ١੔偭ගݦ䠫偼恸曦㺕゚愈⏦㗮栦玤毡㖮䦰䎎ạㄪ㐺䱿ѩ籵䡹ኍ䂆ᖐ助䱕滁婱毖∇ډ୭祝ǍႴ孮灝叜䡤樦㪚㵱⣱ᬨ䠲ᕐ儸汋䊭楈侥ݪᅩ୽ṥē攲ጢᎩ捴糘ⓠʈ傫啞犕┱拗檌⏪昀䒮࿚棪Ჱᙫ⒛Ꮕᶱṫ䑜匪ᑉ⦣ٹ砶榜㔓摦⇒༹庩㽟⏖歺↫⚃㔟䋺‷泔搓ᛘ㦫᳑㌶ᙹ∪澹掐ố愫ሡ捋᝹ᏩᲖ扯沑罉濎΁歙䲓嚐௾ᇴ↖֓掐ỹ㯦ᅌダରࣧ☹䌣પᲢᐢ姃ዠ䈁䈠䆂༉翪嚞粰懮䓖⊉ᤙ溩ӌ抐巑Ễ嬣抄Ӟ⿥橤䅼嵩ំ੬᧊屴ᕪ㍒毆䍵༰婡捅䈓ଥ斗ዒ䍉⪆䶕ᵑ焜݅౎琶બݥ㱍سઽጉ㉌啰  "
   },
   "outputs": [
    {
     "data": {
      "application/vnd.jupyter.widget-view+json": {
       "model_id": "e1d8d44ca55d4bf4b3006417a811854d",
       "version_major": 2,
       "version_minor": 0
      },
      "text/plain": [
       "PersistWidget(data_values=[{'__id_column': '1', 'Region': 'Salt Lake', 'Month': 12, 'Day': 3, 'Year': 2013, 'T…"
      ]
     },
     "metadata": {},
     "output_type": "display_data"
    }
   ],
   "source": [
    "select = alt.selection_interval(name=\"selector\", encodings=[\"x\"])\n",
    "\n",
    "chart = alt.Chart(avalanches_4, height=400, width=500).mark_bar(tooltip=True).encode(\n",
    "    x=alt.X(\"Month:N\").sort([10]),\n",
    "    y=\"count()\",\n",
    "    opacity=alt.condition(select, alt.value(1), alt.value(0.2)),\n",
    ").add_params(select)\n",
    "\n",
    "PR.PersistChart(chart, data=avalanches_4, df_name=\"avalanches_5\")"
   ]
  },
  {
   "cell_type": "code",
   "execution_count": 31,
   "id": "e18ac1e8-bc07-4c81-ab26-dc0ae4a7bdda",
   "metadata": {},
   "outputs": [
    {
     "data": {
      "text/html": [
       "<div>\n",
       "<style scoped>\n",
       "    .dataframe tbody tr th:only-of-type {\n",
       "        vertical-align: middle;\n",
       "    }\n",
       "\n",
       "    .dataframe tbody tr th {\n",
       "        vertical-align: top;\n",
       "    }\n",
       "\n",
       "    .dataframe thead th {\n",
       "        text-align: right;\n",
       "    }\n",
       "</style>\n",
       "<table border=\"1\" class=\"dataframe\">\n",
       "  <thead>\n",
       "    <tr style=\"text-align: right;\">\n",
       "      <th></th>\n",
       "      <th>season</th>\n",
       "      <th>Region</th>\n",
       "      <th>Month</th>\n",
       "      <th>Day</th>\n",
       "      <th>Year</th>\n",
       "      <th>Trigger</th>\n",
       "      <th>Weak Layer</th>\n",
       "      <th>Depth_inches</th>\n",
       "      <th>Vertical_inches</th>\n",
       "      <th>Aspect</th>\n",
       "      <th>Elevation_feet</th>\n",
       "      <th>Coordinates</th>\n",
       "      <th>Comments 1</th>\n",
       "    </tr>\n",
       "  </thead>\n",
       "  <tbody>\n",
       "    <tr>\n",
       "      <th>0</th>\n",
       "      <td>early</td>\n",
       "      <td>Salt Lake</td>\n",
       "      <td>12</td>\n",
       "      <td>3</td>\n",
       "      <td>2013</td>\n",
       "      <td>Snow Bike</td>\n",
       "      <td>Ground Interface</td>\n",
       "      <td>6</td>\n",
       "      <td>360</td>\n",
       "      <td>Southwest</td>\n",
       "      <td>5100</td>\n",
       "      <td>40.572646000000, -111.832700000000</td>\n",
       "      <td>Soft slab failed on pollution layer / fertiliz...</td>\n",
       "    </tr>\n",
       "    <tr>\n",
       "      <th>1</th>\n",
       "      <td>peak</td>\n",
       "      <td>Salt Lake</td>\n",
       "      <td>3</td>\n",
       "      <td>8</td>\n",
       "      <td>2011</td>\n",
       "      <td>Unknown</td>\n",
       "      <td>Ground Interface</td>\n",
       "      <td>16</td>\n",
       "      <td>1080</td>\n",
       "      <td>West</td>\n",
       "      <td>5100</td>\n",
       "      <td>40.593100000000, -111.805115000000</td>\n",
       "      <td>missing out today watching kid as wife got som...</td>\n",
       "    </tr>\n",
       "    <tr>\n",
       "      <th>2</th>\n",
       "      <td>peak</td>\n",
       "      <td>Salt Lake</td>\n",
       "      <td>2</td>\n",
       "      <td>1</td>\n",
       "      <td>2010</td>\n",
       "      <td>Unknown</td>\n",
       "      <td>Unknown</td>\n",
       "      <td>18</td>\n",
       "      <td>720</td>\n",
       "      <td>North</td>\n",
       "      <td>5600</td>\n",
       "      <td>0.000000000000, 0.000000000000</td>\n",
       "      <td>Driving home along Vista View Drive in Salt la...</td>\n",
       "    </tr>\n",
       "    <tr>\n",
       "      <th>3</th>\n",
       "      <td>peak</td>\n",
       "      <td>Logan</td>\n",
       "      <td>1</td>\n",
       "      <td>30</td>\n",
       "      <td>2016</td>\n",
       "      <td>Snowshoer</td>\n",
       "      <td>New Snow/Old Snow Interface</td>\n",
       "      <td>14</td>\n",
       "      <td>600</td>\n",
       "      <td>Northwest</td>\n",
       "      <td>5600</td>\n",
       "      <td>41.728714699372, -111.788249053320</td>\n",
       "      <td>Unsure about the story here..  Looks like a sn...</td>\n",
       "    </tr>\n",
       "    <tr>\n",
       "      <th>4</th>\n",
       "      <td>peak</td>\n",
       "      <td>Ogden</td>\n",
       "      <td>1</td>\n",
       "      <td>23</td>\n",
       "      <td>2010</td>\n",
       "      <td>Unknown</td>\n",
       "      <td>Unknown</td>\n",
       "      <td>10</td>\n",
       "      <td>120</td>\n",
       "      <td>Unknown</td>\n",
       "      <td>5800</td>\n",
       "      <td>0.000000000000, 0.000000000000</td>\n",
       "      <td>Then went for a tour above Nordic Valley in th...</td>\n",
       "    </tr>\n",
       "  </tbody>\n",
       "</table>\n",
       "</div>"
      ],
      "text/plain": [
       "  season     Region  Month  Day  Year    Trigger                   Weak Layer  \\\n",
       "0  early  Salt Lake     12    3  2013  Snow Bike             Ground Interface   \n",
       "1   peak  Salt Lake      3    8  2011    Unknown             Ground Interface   \n",
       "2   peak  Salt Lake      2    1  2010    Unknown                      Unknown   \n",
       "3   peak      Logan      1   30  2016  Snowshoer  New Snow/Old Snow Interface   \n",
       "4   peak      Ogden      1   23  2010    Unknown                      Unknown   \n",
       "\n",
       "  Depth_inches  Vertical_inches     Aspect  Elevation_feet  \\\n",
       "0            6              360  Southwest            5100   \n",
       "1           16             1080       West            5100   \n",
       "2           18              720      North            5600   \n",
       "3           14              600  Northwest            5600   \n",
       "4           10              120    Unknown            5800   \n",
       "\n",
       "                          Coordinates  \\\n",
       "0  40.572646000000, -111.832700000000   \n",
       "1  40.593100000000, -111.805115000000   \n",
       "2      0.000000000000, 0.000000000000   \n",
       "3  41.728714699372, -111.788249053320   \n",
       "4      0.000000000000, 0.000000000000   \n",
       "\n",
       "                                          Comments 1  \n",
       "0  Soft slab failed on pollution layer / fertiliz...  \n",
       "1  missing out today watching kid as wife got som...  \n",
       "2  Driving home along Vista View Drive in Salt la...  \n",
       "3  Unsure about the story here..  Looks like a sn...  \n",
       "4  Then went for a tour above Nordic Valley in th...  "
      ]
     },
     "execution_count": 31,
     "metadata": {},
     "output_type": "execute_result"
    }
   ],
   "source": [
    "avalanches_5.head()"
   ]
  },
  {
   "cell_type": "code",
   "execution_count": 33,
   "id": "81913ae2-0ef2-473c-8646-bfee6606fc65",
   "metadata": {
    "__GENERATED_DATAFRAMES__": "ᯡࡁ䃼恖せƬÐᓠ朰תl݆͐{੻䊶⋈〦䈠䭔¨ԓ䉣Ӑ̀ৠᗥO塰  ",
    "__has_persist_output": true,
    "trrack_graph": "ᯡ࠽䈌ʀ匦㢠⹰Ҁ⬠᱈Ꭰ映塰ୡ䁓ᨢ᢯攠☸䓁䴡䙄堽俖౸ۡ䭴弲⠠䭈⑁棑爱ᝅ⍾凓᭾⹝紧Ҡǁ#〨ㅣࢊ′䈤7㺰ᠠ湐戎Ⴆ寐狠ˬリ$疒‣㗄粜ઃ㽍ࢥ䋤曃⃡傩場岃ᄥྶ䑏䟣ₐ怠సဠ⺡價溄䍈ᣐ䎭㙐⠠㲸ढ䇧䭣ᑱ଒旸̠ⶬᛸ橂ٓɠ枌戰Ụᡭ㩦怭ゾᤤ矢唠弣Ǫ璶ᮀ䃺淣 珖o#䨃栃Ɓ淜⃤㜣䔆ᡌ搨ł䡈㋎ڳ┘≍ţ∂籎஥Ⴈ挧ⶥ旐㊪ˢᖈ勞॰᥾ྴ䋱䃺➩惨ᡰ⢬✰⒲ప⚰擒Ჾ⁶প劥❔䉜暔⬷旹擑ⷬ旒峞⡲௪牱䪀㑜R峣篔倠 Գ呡ᖺ性檰ら僰q䪦涢і烸㜠Ӄ椭:䘤࣌Ɒ㋸ޜ瀧㜠⥚⻣⊡䆵৒台珴䂯ว哑皆忨ࢥ欨䨢拱䘢〈最簶ೂ䬶壼ῄ↵बἥ㮀ᰬ㚭⠸漣嗮獩ᠼ¬↱ᒊຠ慑Ⲗ፫怩Կᗀ㞕㶞侨ᧁ䬂弩᭭㎐ↄ姕⭢殂䌍筣夆㯭Ǒ଍份ᬣมს䛲۲緬倨ಐఠଆ 帎紾㏮神࠯涌ᾬա㡪@ᯥၢᯢへᏧ泺⾥ဠ㵅ᗢ ᑑ䂌೬畖ㄠ杊རṆ໣⒜ࡂṁತٙೂ剑䍄㐴ߡ焺⟠ᰪ⋙ఽߡ㤭㄁⑖ɤくՀ瑾䂂籴Ұ碍䞂⁁ਃ⒁䮹⛓䍜嚭嚹愳➕尠σ擸ണ‾䎠怼ྡྷ洞刖ڦᑓā层䛔ೃ委৯⋘̦⪽得䙩䳅ᴔ␣↺㭫䈘⢫æંℴ⪪晎䡃⤺⏦᡺⇣ㅤ∀䁁ཌྷ焻ᐥƂ࢓砡ਤ嫶噆䲶䖠䀴⊃¶䐆ᡧåႂ᳢䃏吠䵳⩥ᨆ崖嫖䝑Ԓ橀 硘ቊ悵ီ㘤⤻攦წᬘ砧挘䷌ࢠឯ㓡τ熌䍕禤ᭃ殀ݏ䅙ᝌ⟙住↤磉ᨈ惔ឥ㐲ᝥʶᕴ厴珉ᓑ䟬ે☉䉅Ĥ恎̘䭿㞑偡呢㜠᮱㩋㎜徿爢嬲惠啜⢮㤼㩈⧥⋮申䎐䗧₨篬榊ਾ笶勼婶櫶嬴竸扖⨥壐㛣妖刧客ㅤΫ㋩䅫᫮姐禉奋ᖘ抖满悸㌾癓ঢØ⍺䠊ະ棕ᠢ぀̭᤮৐揔拗ᯕ˼Ⴀኪƴ㐨僩ૢ䌂㉢䌰玃杰塯䅠ȣ䃀Ւ册绠央ॵ䭪䒶⫄璡⨒数⢴㕥㫲㗽㈔Ʋ ᝇ䀾᦮ゾ㬼摾♺砼⎮現ன筼埾犞濷磼翰׼၌я䶾硜㩺ղ༾ف抌ত勄¤箅扵䳃䔃㲀倍擕ᕑཱྀ滑琟⓵㫖緃搑綿嵋ᔅ穥෿ሐ㽳瓦≌㌏憤〫ך尙ㆱᦱॕ䅟〮䏈Ǭ⌣⁃䓘䄧犴䃠߅၌ǢಣÅ䵠ᰥ⁐ਢ䰱̀რ礡Ѐᐫ⃜ઢ棼嗲䫈㢴ƨࡦ暓柊塁à⾁⽷ᢞကĻ䉓㍖๹̼ԩᳪ͘樾㤙季ᜰ寴ᡅ傛朮䤍ไƠ燺䆬⥚㬢ᇂధ❬目Ḫᒲȁ穊Ცࣤ䱢㮸䪒墻ଲ㬾哶旕㪦䐭ӱ䴿㣍᷇媘攌㐬瓎䭡砯䃼寱素㎽ᾴ嶘⸫৑䗙ᐥ᧝䗣匨͛ⴲޜ攨ජ\\ʠㄥǘࢢ⠿Pザ悑抒䱫䁈஠ⰻƉņቌ戇āᒽ㒶娽ᚦ惸⛵姻ᥚⷓ⋎ݧ⹤ڎⷪ滘Լᠼだઁ㯑牌⾐媞相ࠧ塣愤ྲ灇䠪䪔礞㻅屰ܢ䘂À⬓⯲ї尳盖秔⼑悴ᕦ䠲㹯搝屗䐕d₝筠丵䃂ឡ捁䲥⛣ၞ௡⬻なᒠॆ࠲斠∡惦๵启䄳ଳ峎ၰⴣ⁲Š晢惔崅棌呑䍈↞䬹ἐ㕰Ѻ点㌎ਬ㭋䄌姨㲸䢐⒓ᑗᏰҴ䤸ބ挻²ⳃ灔ፂけS匰彏犡⇐㥎斐ᨲ㬥̬է摼ϰ粱⁆嗘宺ᘐ૴⠲⠠笨狎࿲泋䫜偵䅖哹㴺㢓稱Ⱂᥤล曊檙䇴嵧֌់竐ਭ◅剀䑐䟎᪳⠰㍨疓㇤䀠咼䑫ⴭ呸ⷋ娴䴔Ḳ愮変எ堊晪箕嗚䫿㫹删罓惉忴㻔▪䓋灉⦵㥰喎ⳋ堵⯅⍵خ烴ᡣ媧⧼䰪᷎埁䛔櫦ῂ⵼ᬀ≕㵸⤭䑱㻘澭ӹ瘝⩣榥ᭁ᢯㚩ெ椴晲́⎾⁇ॣ❊䇮ڧ⣅旰ⴲ炀䮡瞶吊㇇᪋➥ݯ勺ਉ㺰ᨘђ๊⅀瓣⃾⋡筩ၮ䱣庿槦ࡓ䆪浕ἈP什แ冴䧫㚿㊰穓㫡敲澣ᐫ䩣ᲁ䛧㲓ᣌ⃑唍ㄹ氂㧾崉ுᯆ煄繅⬆׀伄㳀Ͻ䬠⋾⬓乭猯៮崑琜㞱糐͜佞㴎␄埒᪴吵糺洅䁹⚭∫矬૯☙બȱᥦۯ無乵䚦⡥䷂琢䬈ဩ眙噋äూዼ婢吆偅䓼玫勎ᕠᘢ䂞䇠ҥ⇍ᅱ扢娘ে叜䪀ᅀቼࠍ⟻♲წ濅丄Ⱄ㧒䘞佐⸭ร媭全ྡನ粌ლ妢䞞村⤟渆ⴤ͂ೱ䁨ი燎㾛᥈瀎獕઻Ƈ≠  "
   },
   "outputs": [
    {
     "data": {
      "application/vnd.jupyter.widget-view+json": {
       "model_id": "a722ead7e52d42e8815b72aeaf93fa8b",
       "version_major": 2,
       "version_minor": 0
      },
      "text/plain": [
       "PersistWidget(data_values=[{'__id_column': '1', 'season': 'early', 'Region': 'Salt Lake', 'Month': 12, 'Day': …"
      ]
     },
     "metadata": {},
     "output_type": "display_data"
    }
   ],
   "source": [
    "PR.plot.scatterplot(avalanches_5, \"Elevation_feet:Q\", \"Vertical_inches:Q\", \"season:N\", column=\"season:N\", df_name=\"avalanches\")"
   ]
  },
  {
   "cell_type": "code",
   "execution_count": null,
   "id": "d991a355-93e6-4787-a63d-a6e4158246fc",
   "metadata": {},
   "outputs": [],
   "source": []
  },
  {
   "cell_type": "code",
   "execution_count": null,
   "id": "772bb420-1c71-4d72-b9aa-32999ab50798",
   "metadata": {},
   "outputs": [],
   "source": []
  }
 ],
 "metadata": {
  "__persist_keys_record": [
   "__GENERATED_DATAFRAMES__",
   "__persist_nb_uuid__",
   "trrack_graph"
  ],
  "__persist_nb_uuid__": "877c0b64-4b3d-4dc4-aaca-6e0926eba22d",
  "kernelspec": {
   "display_name": "Python 3 (ipykernel)",
   "language": "python",
   "name": "python3"
  },
  "language_info": {
   "codemirror_mode": {
    "name": "ipython",
    "version": 3
   },
   "file_extension": ".py",
   "mimetype": "text/x-python",
   "name": "python",
   "nbconvert_exporter": "python",
   "pygments_lexer": "ipython3",
   "version": "3.11.7"
  }
 },
 "nbformat": 4,
 "nbformat_minor": 5
}
