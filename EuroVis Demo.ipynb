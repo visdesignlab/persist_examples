{
 "cells": [
  {
   "cell_type": "markdown",
   "id": "f4367b92-af09-495f-88fa-79bfe395e9de",
   "metadata": {},
   "source": [
    "# EuroVis Demo"
   ]
  },
  {
   "cell_type": "code",
   "execution_count": 2,
   "id": "4a7a831c-74d0-4a6e-bb67-fc6833b9fc5e",
   "metadata": {},
   "outputs": [],
   "source": [
    "import pandas as pd\n",
    "\n",
    "import seaborn as sns\n",
    "import matplotlib.pyplot as plt\n",
    "import altair as alt\n",
    "\n",
    "import persist_ext as PR\n",
    "\n",
    "avalanches = pd.read_csv('./avalanches_data.csv')"
   ]
  },
  {
   "cell_type": "markdown",
   "id": "d072a0fa-90e1-4409-9890-e9e75259ee20",
   "metadata": {},
   "source": [
    "# Motivation\n",
    "\n",
    "Showing the basics in the following two examples!\n",
    "\n",
    "First we \n",
    "* move columns,\n",
    "* change lables,\n",
    "* drop a column\n",
    "\n",
    "in the Persist table. "
   ]
  },
  {
   "cell_type": "code",
   "execution_count": 4,
   "id": "7f3709cf-73a4-4189-a220-9f5b84084c04",
   "metadata": {
    "__GENERATED_DATAFRAMES__": "ᯡࡁ䃼恖せƬÐᓠ朰תl݆͐{੻䊶⋈〦䈠䭔¨ԓ䉣Ӑ̀ৠᗥO塰  ",
    "__has_persist_output": true,
    "trrack_graph": "ᯡ࠽䈌ʀ匦㢠⹰Ӡ㬪ِ࣠أᠥ〫⓰湄Ƈ捆戤猂䁓̢ᢃ㓺X剹⡩ᐠ▴ሰ瑸碪䮲凇⣥巇㝞Ţ†氢ැ挈䠤傡%戧☠ᮬᢋ䑁曌沤怡ㄻ唠ৱ撠۱àࢁ擸沂;ጹ䌹ⓡ䏳ਕᑐᒂ੅Ԫʦ抦䜃᧤Úᵽ㷑䤷ω䐯橸惀ĒいᬺබṦ柤勥娈㱚{౅彸∯匤䍮ⱤႽ䒀敨ᬢ怭㜿氘癣攠弽Ȓ禿⦩で⺍悶ビ䬠➠ǹ猍痁濜⁤✧䞇桬搨ـ䣘ᩁव䒒㙁බ刐噞䫳⑦屖ঠৰᡅϠ磾侤䣱䆺枩浭塂⢬⼴▨擊⺴旒峞⡶ᔐ㋌椩㧢ᢖშ⒲ᒺ↲撒㲡⑱ᔙ⫁䭱㥬䝞䥐)ᠨᝠ˛䚀⛀܃⨠猵䣹ちᬓ㋱烴䂷၆〠ὧ⿶ാ㞷怩̋➹䅢䫸ᬲ䂁ℚᐹ亁傉㘰䘻劄ⴾ䅣烐ᐭĢ㜏Ǳ暒␸ภ䅁䠴㍑₁ᣌ㴣䌃债₷檈嬍᫻嘋䣁汶០䘳ᓦ㜧暫㍾濘瓻Яす༗᧮㠒⻷ⷸ燱悂ఠԶㆸ娦縪䁀䷨ߋů插礔剾ྷ戠ᝌ潐ᨩՠ࡛慄׾̪ℐ⾷䂰]Ҷ㱚з橯䗳㪾坰᪽ം繟姱䄟嬄䇯姁Ŏᐬ䉰㐳橯䕃ヷ߅ヘὡ僬傧悈ᢢ☩ব恸ᜥ䑈ὧ偐ᬧ恀ԩÿ䉡䜂ݦƀ⸬䰠ᡱغ6⿀罂ጦ晳⌠⵵䚀㔛⵪㘿䦡縠━喆Ł⑒歂⬥ୢ欵ù咆濢宅浰᱐⛣ᜤ䨺ረ攸捘悹ᤄ曢卸⦠㍌櫲玐⁋̿Ḻ⎚ഺ捪༺ጰ嘷卬涺獅⒁䄰ང‧ԣ㕙ᒈ\"៱⽅⳵挩ⶉ᫕哵罖癹⭆哊⡅⢔ำ儡Ĥࠑた䁣廇₈㸿䆔ℨ؁ᐺЈ䍑͡㠬ߡ䳞䑤䱴֩Ⱜ֨奀戁瑞䃩ㄾ㜳ְ樵ᄨ厨拓Ⴔ泔唄犯ᕈ抇䞍ⴧ⌈㴿⊁㠦楻瑐皹㍘狑Ꮆ亼孎柹ܭ睙⮨䋘㜽惸宮矽ߖᶹ埂᳜ⓦ旜伣畄⸫玜⪇爲梐榠䵣䈣㢄佴㉥Ⱳ㿀丳梆ణ㞅䏢⁘ಝ濊佣⎘沺䡠䫱⢏烢ࢳ碁ड偩ࢱ愿ૡ慚漨こᛁಖ؀㱑H犯ǃ塟ㆸ̓ᴲ᳸嬢庲ࡠ⩾娭滛匰૯凰皶䧱㖋愑䕳䄢㨠Ӱ匞Ϧᨠտ您㍬棠ᔇ⌺=Ⅸ癭†攊溑燊䘶ᚣ堣禝䠠õ㨒擡₽㢏⧠г䂿܀磛䷯䎀ᷴṳϥ䦒瀴劭癯ಳৣ䂺䶣晇Ὢ磟 ʶᓯᧅ䙠園᫕姪Ổ㜊᧪࣎⛃Ɉᦒⵋィⴻ⮉涛㬠ᵧ┌暤䌊帜乀⸱絶帲忖橰⻱ၯ瑚戬㫇⠝ᝨぜàત䀠㋈橸⛀*Ⱓ䀴䋜䁦㐠३哸ଐ㵶᳥忊汀欶ᰢ悪म槉烓‸欷ಐ䗳ୗ䦦ᾶ┠卪⃄䱉䶑慲ᖒ䷐⤧㈣∦瘰㔬య䃑ڠ僴㥠ᘹᘴ熐洇乴㉼璆層梭家)䤑湈γ⛣ፓ摑ဧ㱍൬侮七䝸㽚惋㨳㌭㔆籍皦䂡⻵ⶥ俦㷞ࡡ㓗筧ઁ垢慪渂ⳬቝ屸࣏欋ᐃ灡䍠ُ僄࿀䅭ᑦᾋቑȬ಄恬<尩䁜Ѩⅅ懽呹劃ێ㨪ⱝ⒎䲸暑ⵣ湟͐ढⱟ䂱㬗⼹勾捋幐ڄ⸢支乡⭕ʿᶅ⡆昀Ⰴ嚚ஜ䠿ᢈⱑが禂ⲻተ㖰爻ዹ娳愕ῠ硤䂠琓í傡⠿嫐ἣ㿼環㬈丰  "
   },
   "outputs": [
    {
     "data": {
      "application/vnd.jupyter.widget-view+json": {
       "model_id": "bc061ee5645440aeb31ebfab17ddfd0e",
       "version_major": 2,
       "version_minor": 0
      },
      "text/plain": [
       "PersistWidget(data_values=[{'__id_column': '1', ';Region': 'Salt Lake', 'Month': 11, 'Day': 9, 'Year': 2012, '…"
      ]
     },
     "metadata": {},
     "output_type": "display_data"
    }
   ],
   "source": [
    "PR.PersistTable(avalanches, df_name=\"avalanches\")"
   ]
  },
  {
   "cell_type": "markdown",
   "id": "190e4736-15fd-46a8-838e-b1e78aa78509",
   "metadata": {},
   "source": [
    "# Working with a Vega-Altair Plot\n",
    "\n",
    "Next, we *filter out some outliers* in a plot."
   ]
  },
  {
   "cell_type": "code",
   "execution_count": 6,
   "id": "0a017117-f9a2-4f86-8067-d7ca8b8d9176",
   "metadata": {
    "__GENERATED_DATAFRAMES__": "ᯡࡁ䃼恖せƬÐᓠ朰תl݆͐{੻䊶⋈〦䈠䭔¨ԓ䉣Ӑ̀ৠᗥO塰  ",
    "__has_persist_output": true,
    "trrack_graph": "ᯡ࠽䈌ʀ匦㢠⹰ڀᆡద〰憠ᠢ〫⟬䂼戡㇀ᣪㆉ〣䥠皜㎳ଡⱊࠣデ扪2攩њ㙜⋄ᗉ桒㖌⇫䟟Ⴑဠ㑀㣰愾䠤傡%悄ؠᮬᢛ䑁圌Ự×੒䀡ᵼ䠠洹㸺ܦ೯䐶刲榙哔䅔ㄮἶ䖬☂䌒梉и䌜ᬨ7⢄㚗᥃焭㑁ᱻఴ>☤䃣も֙磸牡᥏რஃב憨䂐悰᧻㢤ᯑؽ⤣⃸ǌፘ⃽碅‷梈㥹ℂ榌࠻ⷘ㋬ຖ怩瀠㣜㴜ピ嶯䈮ᇘ็ܡ㍀⁩᩠ↀまḰ䢵㰲થ䆀⡬巉₁摈䣅∰永બ恙潏婬棡ⴷ唏☸⊈噏੅䥴嵉䮅㦜僌⪵㒒亍Ҙ䲸乀䨳泊ു䦄㥜䃄⧁䣡⋃⪹甯,坑纍ᐠ@ť㕐▆堡穈఺㑔4వگᄭ嬤ࢊ惨㈠९刺Uనᅺ椀旘น怮縭椔塴ყ梑橀䞮϶湞㾰ᄫ嘱ॼ䁤偰ᬸ䇖桐⩧͍ନ焯ల案ᢋѮ࢈ᕰ愚໎㮦ⓢ瀤ऻ泀椔⌥䞂㣼ἠ☲䑭ୠ欈窝è䁂Ѵᬭ䒻⛓⑁㉺嫋㺋ㇸℛ⇸炛伓࢜⛚漗⛰探⑐㇅Í溓ᐢ¼䌠˙䀠ና潇䭪幯丐䀾殁籰⸫䉰Ġ㺉Ȱ㸳ॸᰤᰃ␠ཡ⑾↦Ҭ〷ɓⵥ䷮ᨱ䉜ᘳ䍨簺栨䞨⏁᤾Ո璤ᥐţPㄫ⃸ᐡ䧧⹦䃰ᬩ䓱⥅璸€悀₢Ĉ䠮䏄ลÄ㞆抨礻揘䔽祠⧌煯ᗃ㗆㡤瓱㌠ĉȿ⚀汘挕庶戭ྸ㉐ᆸʭ慃⁬䍃丈ᠻ䰹度᩶͘䤐㩾䶃㙛डѸǠ卒൓剕࿴ူ❳穝໳㩾ࡒᱳ摊ⱱ优慈ԣ扟ゐ⡘䝐偋畡涀⚰ᚙ卝囍埐䵏䙜媨 ἄ嘪壥㯈痲߭܁剕礐᭗ര䐣㱓㊰碶ᵪ沕㘓Ԗ▦㧎㷯梾Ⲧ咁ᑈ愁⬎䖄̧椘ዃᲇӌ椬㺇ᘚ㕊ᆈࡆƐ៤婄❍焾ᠳ㑡Ც᷃　ɠ䷤塐Ԧ䣒࢐⣃奠亊᪒梓坥ग䳲樸ἔᛥ哗᚟૑䩕䇕焕凖㛍巔皰䑱欸㌵妻ە嶺嚼旑悍䢤瘺䳦涸技䁎ࣷ旗᷄᫭☠䰨ქ✝䷊ᠨ筐ӡᑀ汀ᓕ甈垦ヴࠑ⑴̡瀭䜧ၴᢡ剱Ⴂ䃮䬤筏஁皙䣺䔂喲䫮癲爪垶⫊䡲⹔䖗ⰱ⎑ᐸῃ㜛䚃䳧仢娇僤廷䤀䄷ሖ㺟䈇㺿尕缗ᐧƕ搥Ǎ玄䇯د浉⤩ᧈ「懚畹㈘␻̰樽丑䀉ъ无嗠櫏㩁Ẏྫྷ㒚⽠浈敹⺵紩␠⾃禛澕⎞Ὤ✇ྵ㵎䍆㘹䠡ᓻ佃笭怇梪煀ጘ礄๡┥Ăᝂ࠭ià摔ʠ爠悤͍琰₂Ӄᠦſ㿲▏焂⠮၁ஐ枦ഀ䈣Ý䊼ᛥ粟䐤碉䛸橉ξ⁧ॣ䝊䅮ڡ亍޼㴩⚕ĩо碍䶡涣奰Ꮦ偷㗨爡百搌⪿汽ડ䲴ᅨޤँಖᐬ瘲Ἅỻ泒๤ΰ㡘ত⮉״ᩀ㑆䚉䗨㔍Ỳ捛刺Ⴂ㩟␬惢嬞⛕瀡榸᧱捁剥㟇悄恖ᜦ䱀ǌ⍤Ĝ᳹獘₠₢恑ጔㅌ⁰ɱ㐰䳫ണ戦⋰㌡䭂Ɩ搻䉁毹慐Ⱬ೐䗕㎫ݗ䑎ㆶẃ烫仱⮱S傁㏝壙ẔṰю斨↍晼ܢ崏૙⸭拷ᰀ䒦爜絬滶栤淣屶⯛弯㩢㑐砤ှ䀂䈻ੴ寱㴏䖛勎ࠀ䗆璗狾個䋛摥࿠玒嵒㌹Կ㴑䂛䭙㸋缟恍Ȱ⇨ජ࠭ቮ㒶偠ୌ祥瘾欱椡˰ણ䡍奶┩焂䰄繪ῴ㙆旼ూᩓ䖀⎳璜݀Ⓕ惾⼃戯搢䡈㙏䖲嬡⋠अ๸ℚ࠲幡䦮›㆝簏㙵拜垙䋎䖩⠬⥯㷊嶙䕱柗ᠦ㖉֊ỉ橣曵ୣ我㬆汴☘ᛶ䢉呐ᶹ瀻淋㵣憶庶囀⯍㻖䓑呸ো媆孔ݹ౾㊪亩ᘨ㘧ኢ˅睏㫜噡稥䯩㶶㥷ᖝ㤭峡⻡瓊܀椭佀ఁ塑ᇙӃᔯ⍻ׁᲀ懣䣁ᓐ䵸㵢㑌焈̆ᖃ؁␥䄗䢳䥜倸ᵄう➮㙭撱၉⽮ȝ؜糥∲⥅‪⒖䙪擦Ѝ粸⥣割Ɽ扆她䟚寜囑歝ㅬゴ㛏永曷᥍嚆䎿㍨᪫瀱଱ឆ癲ᯃ㉏洬ㅤ媊㧔窗⹎仮㘭֝ၽନ巎⠫㘾憬渀沧抹២̿䬡෱㐟ᶅ㘺晷Ѫ泰ݕ㶰⊣擋埻㶞㊙卬穲⊍Ἵ疵≏ᖧ恋撐䙘卋㊹ఱ犌ᅫ皃Ὰ挹古灸泿各㿓૑翩熸⟖瀺Ⱞ曡䰰᷈ᙪㄨ您㟑䦢䗠ᔣⱲ咻ཇ̐㽲ࢂ嚉⤮竪୦ᨵ䛥坁◀䱸㊑⭧ֳᶉ炷¤⨠摇掀䛤少妤呍䲳ඊ烥暩恄ࢁ流ⷒ㯻ⵄ杯㗮杀⻡湉《㡠  "
   },
   "outputs": [
    {
     "data": {
      "application/vnd.jupyter.widget-view+json": {
       "model_id": "dce8d45d105942c59d6cdbabfea0e03d",
       "version_major": 2,
       "version_minor": 0
      },
      "text/plain": [
       "PersistWidget(data_values=[{'__id_column': '1', ';Region': 'Salt Lake', 'Month': 11, 'Day': 9, 'Year': 2012, '…"
      ]
     },
     "metadata": {},
     "output_type": "display_data"
    }
   ],
   "source": [
    "PR.plot.scatterplot(avalanches, \"Elevation_feet:Q\", \"Vertical_inches:Q\", df_name=\"avalanches\")"
   ]
  },
  {
   "cell_type": "markdown",
   "id": "bd1391c4-2de7-415c-af8b-b144261048bb",
   "metadata": {},
   "source": [
    "# Demo "
   ]
  },
  {
   "cell_type": "code",
   "execution_count": 19,
   "id": "a069da47-0731-446e-9ccf-cd5960196311",
   "metadata": {
    "__GENERATED_DATAFRAMES__": "ᯡࡁ䃼恖せƬÐᓠ朰תl݆͐{੻䊶⋈〦䈠䭔¨ԓ䉣Ӑ̀ৠᗥO塰  ",
    "__has_persist_output": true,
    "trrack_graph": "ᯡ࠽䈌ʀ匦㢠⹰ڀ↴Ą悌ɐ瀶䀱䁶,䴨˪⁮ᖸʃ恛Ⴙ枰ᣯì圄秩⌲┠অҤᴶ⸢ሴ喈ᨶ㎁旷䁰䣑Tဠ㚉䒃೨ɰ䂠̂҆;䘸Ϥၗ眼䎐Ð䬹†于␠㚨ྫྷ䌧昇ሱ楩桔唲♕ᢣ䎥݁惠イ㢈ဠ⺱壥憄䝂ᮑ䋰癐⠠㲸भ䁡⏦儩ᤈ畀{ఽ哙Ȧ䌤䎭汄ွ䐨䕨ᢶ怭㘻₤㝂攠彃༜紻䞀䙽ⷡ暁所㬠➠Ǯ稀দ炏Ṁጎ徇ഩ㉬刹ᡧ惡⑨⢢抰䰺ྦྷ惁єׇ∰硡墭捱呆ᖣͱ᡿ਊ磨ൢ姂<㓃مߥ䉄䕆䇅琬䭃䨄Ղ䂡ᩩ副ặࡅ䳴圾朱ᦌ䘫䰅՜侻犹暀⯦燁⌠»䂣ఠ⯐昢樠渠դႰĆ⭬Ȳ欌࠶冎宍჏䵷絜ジ৉䀠絽⃴㜘ŀ呎ୌ₊༥ΐ梎ᮮ䞱ⱶᴵ䣀呚ഫ樱梂ᖦ䃁桞᪭掱敃ᨃ姘ṷ̃́䐀䑒ኣ⏱శᶩ愑籡ᡪኧආ䷄妔㠪慑瑞࣪ᮭ瞉嚄桌䬵䣮塠嬽侅㤼匰唀䱽筃ลრq㆓煞♰д礣疀П㟼湭᯴Յ幀㖎怤h੤倢͜᤬፜医䇼⫩吘ᤠϲ羀ႉ缿⠊͝⢈㩃䘤ℏ⌣₤朧缤Ღ䅃ࠫ傹ݡ桜Ҹ倸༩硖ඳ⢑溩╞Ԣ࠼ౣቚӡ偆΢ぶ෣⤣d搬ൃ惛ࢦ㱄ᦦ䘠ృ䊭+፠႕ਥ竗無曅凔皬䆕暛凅⬧挘㼿提嘬Š㈼䒍ਫㅱ淚䔌娯㗱綸䟼啋䘤硞熬熢㉭Ъ㍬㑑Ӭ䤮㛀禹䑍䖺Ս旝攥Ṕ⾭৒㕭槒⫬楦⡌䖩㍌ᗅ⍐㕇䆓㻖刭㢉倡檥΂樠٭ɜ㭡楚ọȕ䇘㟚✵憚ိ␦ໄ᯴䂸ᄚ䢯挩☯ጰ㰰䊰㰧㓰㨥ᝐ⠵䭰㸥᮰᣸䄀撢嫌櫧槶慱䩄撼⯄⥳䫪湡⬴劾儮ᚽ劔嘻厰䧵䅐䨮㦬繪レ笥㩌⟳㮎嶽笼䏢↼㯽㢠珶;晜牼倭祼⌥筳ᖣ竼箵ژHй恢ዩ≘だ圷怡敄ˉൣ▉〷❜⑔曚ୟҠ灎╠՜䕉摑㚉惢⸉榜㙭⇂撓⍆∋ǀ泹᥁⸱ט䓡㉐⹱ᖆ䜻伦ϱ⠤厐᥸媰ᨴ⋒䲭Ʉᰩ䎶嘴䈐刪⮐㝀燹缳玜徽惙㝓悙Թ孈㛭₈⻻⌖㴠㪥檸ॐ緩᥮巟㘽揚䊽໢瑂ᯎ瑝ਿᘪⷊ徰㷀甽㹞嶽᷒睽䄵幝敩嗊囏椊熔栠䅘ଓ乱嗉឵焂曺椦䗅幎䍕儹垈䊢砼妡碼̳㠺ড傖঳㡊ૡ䠢ҹ灔å崇卻曂嬵╱ᑓዊ獞ㆅᵳ攰㓄りᲰ湙僮䄱ẩᠢᡎⓢ⹴㞸璃⚋৑嬻ഗ᜹༥ᥞ॒帻敁篨糘ᝬ㑁䳯঺☫᫋㭑:ᔢ⮋廜濭੨ⱥ䷈恆嬁ⓕ歾卖槍ዼ救䫠ⱈ䕨㗘媨䧀潻换គÊẐ剋䊨䒪悼䗋લ冖౒㿩䁐ଝჩࡘŒሬ㍰㉆ၪמ忍Ა䭈〫揉ṚᏃ䣇⮷㤦擮┪泊ǹᨻ墔࿓瑔䢸⦒⁞߼⑮㺜ঝ籦紏䈛吹ミᰑ怯猞㰦丢䍀⥓糲⬚㉱ᎄ吓擣偉ل⦎⣵⪦†Ѥᇠ亙㖶叔僰穙双傮˸◌࠵㗣Ή⍒嫐ᬶ灞ޤ磮₷⾠籣Ħᵠ偌ᣦ⬦洎ր椫经⹩孺崛付ᮿ䥗ᗱ㝜ߚ਍ſ䉘ცదٓ牕ǀ剔惙䕼ಏ䅛䎬ޤ䌩嬀⼹᫾║㕸㨼ֿ䕩䱅焟යႧ᪐拑獞㟖礼ᚪᗍዧ⋑⛻璎ᔸ烕⅃㐜ᆼ碃ᮤ࠾Ⱪ⨩淁䠐䦮㭟憠㘨䑸ີ吧ᘁu晪ᇀⴣ暌悚爭奧❠剩䯍幩妒୍ᠠ䳳ෂ⣯榯๰燵㔜㥛᳀⟇な㙰䨒崏牱᡽䅮ዢ始⡞独糬Ⳣٹ喻ై䔡᭓ǖ⦢皞昼䞑䢇Ⲃ坾畔ے廇欝⁖⒰㛔獱 ٰ䁣拴!⍠㠫ˏ䠐嚠ň媸䄾୰Yשⵊ熶惩潯Π㓷ぅ彪⭯悯媅∿Ά㺂筜揤摭⁍ఌ䇧Ʊ᭓⠴̨ฤᳲߞ䫮≇ᑈ柢史㬛ㄶ♟⹬ၷ炉䊽纣䌢⽑çʑ栵樨ᴦ糥慦㾳䅤榬ї㠸␷燑牼ᅗშ⫁⪏←嬙㿑䳟ᦸ公䇂娴挋㌨Ḿ☜᫋೒涹㛺䣒哉ᕈ檭ࢍ䏬淊屫ႉج⾦ᷚ䘞ಁ⁞̞䅄䢸༰㐿檀௶ݲⅠᅇၩ⿂ᄫ䍪拌໥═滣፼搊㫌狮ࡊ略⸈撁〧᪰ᴣ఼àᲓ櫖桕❊乡ὀ曛撓䉇珀⣤熔吤䱠刬䧽嚁㷅ț⚡ݪᐄᤋ૩濨᧷ᵀ䧼巈塌筁ⳳ.涹ວᢽ⧲珠技另⇔䜵 ⚕ᦏ㔂ቲ罧砿ܠ旋⧀穎ᴶ儜㨆愃⍍刣ⷻ潔愭ᮀр孧≬竴䙂㆚㫳հݒ應㊣䏷嚗噄⿉泖Эᖁ⓯ḭ䟞ͯ⸲穆ž䘩廔㍼喠絠呢⿀䷿㰶䧅׾ည㺘ⱻ䑼㉌ᘦᣙ㇄⨬煪༫Ἰ৆䈳乗凌塧⢄߉㞙䫽創䷽ዛ嵶癴皆ᙳ␹粖䔡磟㐒梥筚ۤ尌ⱘ䱸礩䁌㪣廲埽烓䈂ᳺ罤䭰ܖ䘲尞⣢⌛䏂䠠mⅡ䴰˒㝫焑㴑ঙᘳ嵶䶴樻ࠠU᷇䲘晐ⓖI㰀婋㱠጑䊬瀚㌳౿Ӳ㋗硿介᩸ㅦᷡ怶刀⻍碧ᑕ畒㖺㘅姼ጜ剄ர⫤䦗ՄǠ婠嫖ݸ᧫⠕矩玠⭤冔ᡟߴႨ己ງ墻柌炕⁐矹橲؇ᰯ㧰㡠  "
   },
   "outputs": [
    {
     "data": {
      "application/vnd.jupyter.widget-view+json": {
       "model_id": "afaaa5d446cd4acba2a6a71f55dfdaf0",
       "version_major": 2,
       "version_minor": 0
      },
      "text/plain": [
       "PersistWidget(data_values=[{'__id_column': '1', ';Region': 'Salt Lake', 'Month': 11, 'Day': 9, 'Year': 2012, '…"
      ]
     },
     "metadata": {},
     "output_type": "display_data"
    }
   ],
   "source": [
    "PR.PersistTable(avalanches, df_name=\"avalanches\")"
   ]
  },
  {
   "cell_type": "markdown",
   "id": "d4b5b5b9-6e71-45a7-a5b2-41bdf68050eb",
   "metadata": {},
   "source": [
    "If we look at the dataframe, these changes were applied: "
   ]
  },
  {
   "cell_type": "code",
   "execution_count": 10,
   "id": "eb95be33-ed0b-40e4-b1b2-5ad6b09d6ee8",
   "metadata": {},
   "outputs": [
    {
     "data": {
      "text/html": [
       "<div>\n",
       "<style scoped>\n",
       "    .dataframe tbody tr th:only-of-type {\n",
       "        vertical-align: middle;\n",
       "    }\n",
       "\n",
       "    .dataframe tbody tr th {\n",
       "        vertical-align: top;\n",
       "    }\n",
       "\n",
       "    .dataframe thead th {\n",
       "        text-align: right;\n",
       "    }\n",
       "</style>\n",
       "<table border=\"1\" class=\"dataframe\">\n",
       "  <thead>\n",
       "    <tr style=\"text-align: right;\">\n",
       "      <th></th>\n",
       "      <th>;Region</th>\n",
       "      <th>Month</th>\n",
       "      <th>Day</th>\n",
       "      <th>Year</th>\n",
       "      <th>;Trigger</th>\n",
       "      <th>;Weak Layer</th>\n",
       "      <th>Depth_inches</th>\n",
       "      <th>Vertical_inches</th>\n",
       "      <th>;Aspect</th>\n",
       "      <th>Elevation_feet</th>\n",
       "      <th>Coordinates</th>\n",
       "      <th>Comments 1</th>\n",
       "    </tr>\n",
       "  </thead>\n",
       "  <tbody>\n",
       "    <tr>\n",
       "      <th>0</th>\n",
       "      <td>Salt Lake</td>\n",
       "      <td>11</td>\n",
       "      <td>9</td>\n",
       "      <td>2012</td>\n",
       "      <td>Snowboarder</td>\n",
       "      <td>New Snow/Old Snow Interface</td>\n",
       "      <td>14.0</td>\n",
       "      <td>360.0</td>\n",
       "      <td>North</td>\n",
       "      <td>10400.0</td>\n",
       "      <td>40.577977000000, -111.595817000000</td>\n",
       "      <td>While it was a small avalanche that was I caug...</td>\n",
       "    </tr>\n",
       "    <tr>\n",
       "      <th>1</th>\n",
       "      <td>Salt Lake</td>\n",
       "      <td>11</td>\n",
       "      <td>11</td>\n",
       "      <td>2012</td>\n",
       "      <td>Skier</td>\n",
       "      <td>New Snow/Old Snow Interface</td>\n",
       "      <td>30.0</td>\n",
       "      <td>1200.0</td>\n",
       "      <td>North</td>\n",
       "      <td>9700.0</td>\n",
       "      <td>40.592619000000, -111.616099000000</td>\n",
       "      <td>A North facing aspect with an exposed ridge in...</td>\n",
       "    </tr>\n",
       "    <tr>\n",
       "      <th>2</th>\n",
       "      <td>Salt Lake</td>\n",
       "      <td>11</td>\n",
       "      <td>11</td>\n",
       "      <td>2012</td>\n",
       "      <td>Skier</td>\n",
       "      <td>Facets</td>\n",
       "      <td>36.0</td>\n",
       "      <td>5400.0</td>\n",
       "      <td>North</td>\n",
       "      <td>10200.0</td>\n",
       "      <td>40.599291000000, -111.642315000000</td>\n",
       "      <td>Remotely triggered all the new storm snow (abo...</td>\n",
       "    </tr>\n",
       "    <tr>\n",
       "      <th>3</th>\n",
       "      <td>Salt Lake</td>\n",
       "      <td>11</td>\n",
       "      <td>11</td>\n",
       "      <td>2012</td>\n",
       "      <td>Skier</td>\n",
       "      <td>New Snow</td>\n",
       "      <td>18.0\"</td>\n",
       "      <td>6000.0</td>\n",
       "      <td>Southeast</td>\n",
       "      <td>10200.0</td>\n",
       "      <td>40.598313000000, -111.628304000000</td>\n",
       "      <td>Impressive fast powder cloud ran in front of t...</td>\n",
       "    </tr>\n",
       "    <tr>\n",
       "      <th>4</th>\n",
       "      <td>Salt Lake</td>\n",
       "      <td>11</td>\n",
       "      <td>11</td>\n",
       "      <td>2012</td>\n",
       "      <td>Skier</td>\n",
       "      <td>Facets</td>\n",
       "      <td>42.0</td>\n",
       "      <td>9600.0</td>\n",
       "      <td>North</td>\n",
       "      <td>10400.0</td>\n",
       "      <td>40.578590000000, -111.595087000000</td>\n",
       "      <td>Three of us toured from Brighton to low saddle...</td>\n",
       "    </tr>\n",
       "  </tbody>\n",
       "</table>\n",
       "</div>"
      ],
      "text/plain": [
       "     ;Region  Month  Day  Year     ;Trigger                  ;Weak Layer  \\\n",
       "0  Salt Lake     11    9  2012  Snowboarder  New Snow/Old Snow Interface   \n",
       "1  Salt Lake     11   11  2012        Skier  New Snow/Old Snow Interface   \n",
       "2  Salt Lake     11   11  2012        Skier                       Facets   \n",
       "3  Salt Lake     11   11  2012        Skier                     New Snow   \n",
       "4  Salt Lake     11   11  2012        Skier                       Facets   \n",
       "\n",
       "  Depth_inches  Vertical_inches    ;Aspect  Elevation_feet  \\\n",
       "0         14.0            360.0      North         10400.0   \n",
       "1         30.0           1200.0      North          9700.0   \n",
       "2         36.0           5400.0      North         10200.0   \n",
       "3        18.0\"           6000.0  Southeast         10200.0   \n",
       "4         42.0           9600.0      North         10400.0   \n",
       "\n",
       "                          Coordinates  \\\n",
       "0  40.577977000000, -111.595817000000   \n",
       "1  40.592619000000, -111.616099000000   \n",
       "2  40.599291000000, -111.642315000000   \n",
       "3  40.598313000000, -111.628304000000   \n",
       "4  40.578590000000, -111.595087000000   \n",
       "\n",
       "                                          Comments 1  \n",
       "0  While it was a small avalanche that was I caug...  \n",
       "1  A North facing aspect with an exposed ridge in...  \n",
       "2  Remotely triggered all the new storm snow (abo...  \n",
       "3  Impressive fast powder cloud ran in front of t...  \n",
       "4  Three of us toured from Brighton to low saddle...  "
      ]
     },
     "execution_count": 10,
     "metadata": {},
     "output_type": "execute_result"
    }
   ],
   "source": [
    "avalanches.head()"
   ]
  },
  {
   "cell_type": "markdown",
   "id": "25d18ce7-e882-4fb4-a3ac-f69423d06bc0",
   "metadata": {},
   "source": [
    "We can also re-execute all cells and get to the same dataset.\n",
    "\n",
    "**Run restart and run all** "
   ]
  },
  {
   "cell_type": "code",
   "execution_count": 17,
   "id": "39a1bdd4-0a15-4f7d-b60d-8c9aa092c232",
   "metadata": {},
   "outputs": [],
   "source": [
    "# avalanches.to_csv(\"avalanches_clean.csv\") \n",
    "\n",
    "# here some backup if the cleanup isn't done right \n",
    "# avalanches = pd.read_csv('./avalanches_clean.csv')"
   ]
  },
  {
   "cell_type": "markdown",
   "id": "80bf90f3-de67-49f9-9d18-273c07993016",
   "metadata": {},
   "source": [
    "# A custom Vega-Altair Chart"
   ]
  },
  {
   "cell_type": "code",
   "execution_count": 14,
   "id": "f118bc43-6655-42af-9acc-477e084e1520",
   "metadata": {
    "__GENERATED_DATAFRAMES__": "ᯡࡁ䃼恖せƬÐᓠ朰תl݆͐{੻䊶⋈〦䈠䭔¨ԓ䉣Ӑ̀ৠᗥO塰  ",
    "__has_persist_output": true,
    "trrack_graph": "ᯡ࠽䈌ʀ匦㢠⹰ৠጠᰠ〸恖ఠ堥冀ᦧᛦ௠㬠⎂ȹ‬恃᧽㥞滓㓩አӒ䉢ົἱ⤪⩔ඹ媒㜃䯿偨:ࠠᭆ穑穄ň⁠ƕ椣-挬܂ࠫ毖㠠Ⱨ畠ʒ㥀ǔ⁔ⱶᇍ̸䆯⃡⍱䧸棑⠠⬢伫༿❩拱パ汀}Ở䇤撥䏱戥ᣌばᠲᶶ䟩侄ᆱ凳洌㴠ⶬ૩䱂ʃɠ⛌∰盤゙␾䦀ۑ൓絖⇅Ỏ憒Ꭵちⷍ戆び⬠➠Ǿ笍熡抏Ṁ⋮宛প㍀⁑ɮ掰ゔ䨷䌰梖ᵊ䨔摶᦬橅水݃䈱єᚤ₁㙇嘁Ᏼて弈㭲窐剏⍥㆘兇棄楬媭䬅祢壅ᦣ⹚⩃৤ॄ䶱䂄夼乃攴┪䣭⫘঳犉†ś׉紞⬶哧呀㠼׈u縱.㇔愞ⶪ堚岐㫂甐粞⁹㔨惩ⴽአۤอϧ⤘吸䅠ㄞ屈ᾂ㼌㴯ë梅ẹ痹ᱎ⒳נࡄ㤲䔅ᑌܫ䓀㒜₻⏈᪺季匉点㉡ॢࣕࠬス♓ᳱ呺綋ۢۺ眛㗸皻粇㇒灙璐ᢦ\"䕸嘦喕Àࡒ爠ż悝愋ỽᒧ䘆碡始ᯠԢⅰȬ硩Ƈ僣䏼姦䯡ဠ㴩ᘜ⁀៰䟍玕ᔧ噙⿛疑ῗ産瞠එxᏱ悄ࢰ摝Š䇗㇡⇁ҵᲮ♁琹á⢬̳à㿃༰灨Μራܰ羵䍢⁀໣₀䪸囍埕ສ愠<凂἞ᨓⴖὠ*徥櫞क़አ兎桚द╸㥙稼⎦䯡乊Α㯿礡〩䆬⟢ա睪恠䝭䒑圫䛸呈ۼ㝈┢᱅㊠Ꮴ∆笤⃠=怣琵ࠪ惂徥㣔䠢Ʉ㬋ゲ䦮ᅼ຾በ঵䊢簢ৄ沿፬ᇤ㢔㦵獌侳㏰累炯ᰥ熂䙲⪼䒯嘞ㅲ^៯櫌ᦣŸҥᄫⲢⳒ㦂僋༫ⰤႫᵊ⎬׸ⴏ畚ႂೣ҇䖈㒋ฃå³ย䳳㩡䱡Ç〣㻾䥣㢄䓃ಇ೨ʉ㮳⪎䶌↬ㆡᮣfШ燕㐱喺ᛎ௡䈧冽Ẅ䰔፨甊ៀࢢⒶ䈈㱣Ðጫ↨ᑄ悞愣䃨≢䁲⥖ℐՓÚ㸹䓰⚍㊝Ẅᐹ࣌日⩩ᑙ㡭搪㳉焻㍬洰❭槨੥䇛ᨪ᧦ⓢԧ㖬Ჶ∎ᵇỮ㱮㴂ᇮግ㡷ᬉ巗׫屠ᨎ㞯⨀㲇ଇ㧏⥊爏␃橿㬰䉠⁡ܼ፻抠歾歚䙱琝悙ٰ獿搜恤⬊忑緡岒༘怷㈼璞亣粚࿰炿估䰥維ᆝ俚堺⩄ᩑ䙳絰๋爵亠昷⾚殯樚㴨ⅎ焢䵸㒈ⅸส稧劊ℨ㬪戈㬡䂷國↻媐櫌澾䋀ࢨࡎई玢笴㲌⃼ᯞ᪶ᩆ哰Ⲅ㆏ძ⌡⵴㪩儋᫱⣊う䆇㹘➩咻䧅᭳ⵗ厂҆暊暔溡粯ᑠ’捀ֳ㩠厊ԡᣮưᙠ⳥ᢀ⎺ᔨᡨ᫁䅭⇴㵥㹦䊈暲槍ᝪㆽ䉘ு8ㄔⲋ灘氈‭ᠦᧃ剂⎎ц傑皬氦䂩ޥ囸梐ᖠжʓ㚆猩׺䃬೏⢔ὤ瓞崊፟櫽ڀ㘪⊌斧ᚍ䃌栬䇲̡䡊尖ە䱍へᶀ皚提ۥ洇Ɛ淁狎Ⱒ嬽抸箊墚ʘ䅖呸ⷸ䄦⪛⍦箎瘖佊溥懼㯯㱕ᄙ䯋㩷ခ┞ᗎ慊瑎⻝ॉӋ坄サ䠴撣摜⍠㩆⛴橬珪䶂ᶠ㑖䔬ē嶚Ǩ抿盾⏥姸⒚塋㒽صⒷ⸠Ē繳ℰ愈削▜匭斝䃉瓋䍬泭⺀煒橩䤣ᶅ䗿䖓偈箫ә⫨᳦吹㽊狩扒漭ᓢ䉉⊼⡅๱╿㚩ဥ䪚ਓ灝㏼兪䫊⬜䳯桙䡹㶺亩ᢓ寿䗣䏉㪭焿⸅ൂ卸ఊᬃ⥕⸺㘏乢䭂䍟⋳⢊枞嗂並ผ䠬䆇ާΩ 䰢ࣼ┾墥䄂ᄣ琪⊐٥摼Ѩ⍋炶⮅ᄹ旼奃Ἲ⎄チƲ劣㣴ឈ㆒㢀䙃ҭ౗ᠻ埡ᯛޚ⹕Ѹ摀⺪惈ᄣ椯ŉ伣䌬㐄ड卸无欷䡈р欱⊕㗢ၱᢳਫ⃊㇆䰿䐰ᓬ㡚Ϲ剹ಔ墸殇㘴䑀睸⃖ọ″⸆ᄘ屶懘甅ⱹ敘ᎈ峉⎑᛫㠢␱䉨╛⇐䓋抩味य䀤㻤ᑗ䥆㏍擕᭶⋈疥ᤁ仡旻৾狉῔ே㔼皕᳞䢽⇵ᵠ⩽揜巒㫙Þ⟷⮤㝝ᓩ劳䧣兲棗Ԩᐂ桕噐ᨣ⠸ݡ♃ಊӡ↪䓀ܡ″ːⴢ癶ᙽ榣㤫媳篩揺ሄ␤ʿ♊捯䓞ͫ䗗浀䖨䰆咶⭙ᝍᚤ缺⳺␨⃓䊊曂歌㫶㤽吱เ䂴ڕᰪ瘜ᑀཾΐ纛烵哺焸㫒ᣃ⩞甪呣⪭⯕ᝲ䚵࠘⧇ᩀ⪔☷䳌ᎀۓ䏪䨠〻ば㭮ᎀ漌嘫д桦䰼䚉䂻ⶑ∰ʩ暆व晼₢Ⴠዌ≄㞴斟ᗪ粬ᣪ█㣿ᛩྨ䯶䅳ₐᲆ㝘灯ⰼ檼嫸ⷆ扺ᛯ揫㯦⮓尙桩䘐䳜⚮眈嬲ⷞዻⓆݺ砞穩歽殎㊰㴻库ኖ㩷㷘ཷ㥴湀怯湐呧✉ન⟂䗌㼣ࡍĀਠᑔۆ毎綅㐚寡ᰤ廛èኩ撰uᠤ汨ڪ皨姊₈⭓ⓦⱨ㙨í峸䀥峥綽縐剖㏜㙎㒥⺁漞䉌ń獙惌禀ิሲᒂ幋㋒⥠⩵?䰙䓁笲ੇͰⓡ㮏朂波䮒ḃ䰢⑹່媖ᣜ糜ሬ煭簂帗䇙办攬䎏拕娽㖉ㄣ剌燩䊿犧湳ᙡऊ㣬㽫⟽┢瓹Љ働㡒㽨䕙✴浮檙䄉禣㓳Ệଢ଼瑎Ṵも啺䥇櫉兕Ɐ㵿濃Ặ䦿❊ᱦ厍䁰ㆶᣧ伡嬬㌸⥒夎旕娤愐䕭ډ␑⌢䵣౞䄾ㆲŃ䝾⏲Ǧ䈱枬◒峪⇻䂢稛਼䁛嚡㼃秈泜⳻紏䒎⑻᭝枫櫶ष䤳徑媮⹇䂢␮牨Ỹ㥥副䰙砚⏀ᔦ癛枕泮䦜伋婽ᜇ巹㞳焛嶯宗峗睗祪嗭椠Ⱙ柕㒺ㄼ㱿㪠怫᪀礦ၚ߀簦⃏寔砰㛁筚瞠฿⧽Ǔ狥撒᩷挧椎ކ刘䥮ởՏ搔᣺敧䃓䇏笇䢕沨校嵓唙ᯌ͗஛桘ۮ䍮ṇ箋巼笎罃㬰జ䀉㞟稰䉼⑋ٞᡰ䃱ʌ፺ࢍ䆤⣡ၲ嫋䣵屁ࢂ㈀න琍ㆊːᦙᑤℋ欸Ր堯瑼˰圈圮㦓咠㴍›㰓卬䌌杶㮛噕㼆㆔䊺䮵撄ྔ椙孹⎧偷थ䏤↌ⴿশ嫹ਇ㚄穛ᕝ⻯⴬碛ଡ଼榃伬娇廜⎁彼寔Ὅ⯎⦂嬿ᓍᘱ⭒稾唌樧࢈䉏嚜峌歆㫢឴礭‬Ħ˽⦭汅狏䬌⎌ᦖ秜ᶍ瑎⨵⏭䈹琫灝ᅍ妄₪奖橭䐡焻孤䝄㠴މސ䝣䔌儽䃫䦗䣃䎍ݻ夾䷔⽌筗䧝怄ᾅ箔劇堌Àޑ䤎䐴书Լ䝥གྷᔨ琺卼嫃姨⼻߂妄䤂䝣秃彐⠀纂⧯䌜䭣ⱔ᭲圝䂫…⠰⦠䐺䠲ٳᲣᰪ䰹烰⟅琳殔䀠㭁Ⱘℂٱ唂ᐱ㤊ے嬂ⴋ㤑㪣Ģᜧڞᩰ声䊃ⅱᭃᱭ攺Ⅿₐ䵽ቧ∼৩傝့䂞⥄ѣ盏坰懩傠䰩ᾏ禰ᆩ䰼慧禋咹‹撐ڟ份怏䑿祻䁣亄წ䂨ダ⠧䀴欖൹庂ཌ氙乢ሎ॥ե噜⨱ⵄ稾ํ㗈䮈䟔⽢廠ㄇ愸㵘嘰㵻娡ଡ⎏梭◴㭃玁塽䋠ዃ淃漣権h䭀㑠ᇙͳnӒ䛊ὲဨ㒽殗䃍篈焓┢䝳➈ᢣ⠘ࣳᘎ璶祘⇲ ⓕᬒ嶠㽦㴨䍰࣡⢧䓾妳ᣀ憭ю䐄ર簏ᤈᩌ₵ᤆ㽕䓟΃ᓀ❏犁儠ᠣ婊ፔᬡ⽥㕔☔̲ѥ䒷槻伲䓭㕂⛱奤㖴䔚曂㢨䶲睋⫢ී㢿䓎攲ย缻排ࠩ䐲栿㓌ش娳㠵慘拐ጕᙅ″冰ኹ傪䠪〲᚜焧怲㇀ 㥉畃ᨆȂ似㢷䖰⸂吹≯䗰㰃ష㣦⓫ᓤⲺ㖐恂ɣ匥ჰ箆䊑㧌ஃ㊥奢ᆊ僻ㅶ卣熆伽ת╍䷈牼磊⇣垎哭✣䟲憲呭䅥ᣳᦊ哯⚵˳䮌炋⠘ᛳ皵⦂ᚱ⡒ᑰ潊រ⇬䑲⋷╗塓㸉⦞竂⨡㛊䄸䀱ֽ吩䑲むἰ㽨幖䬦ᱤ液⡙䐿坒磄墹僌ㄭ欲䍭䒟ᮂ䔂䁹抎㮒Ყ岣擠ऒȭ㵜ƾ⦹వ㳹♝೪ᓡ㋈Ў㪡޿朳柹㆙๹㳯䊡ᠹ瀷᳀Ⓚ㆒悳棬٢㖒᪣ӣ⦐嶠倠∠䖰ᣑ䴤楠慰ᛌ株䡯䆀ᘠ▥♆㬲⽐ࢻⴄ⑖⢓ᙂᳶ攂⏒ҴⒿ擙塣⛀ၸ挡⍕制༨៨㉝Ṅⴱ⚶丫抾僩⓶䏤㊼䭞勅匫䪾⭢婘⿝杉ẜ喾⤰Ϣ搿扄ᙪ砪䑎⃖⭭ᐠ庐᤭ᾜ傌灃禉ゴ夎㾂栉㓒㠄✨⋮Պ楹杬啠ᭊᲧ䪢噰ᣊᐪ⬛动Ḥήㅏ嚰ୋ吣䫸䉐›䕴⚀㖕䃤ب喂஥㤣个䄈咀ⅽ䱃䂫团⼢瑮絚ㆀ٪⢢摩穐Ạᓥₚㅒ妘嶮ℒ周෪㮱歯ᕹ⛪繰犫杙㩔事紘樯䥔ࢡҎ嚡⾲掮ཛྷ椪㨪䨰癘簘䩌ኰ癉❭㵜桷᪬ᛖ䵉摳䊱威⭳ၧbᕑ⅂ဤ䢱䛑㣻儎㓅ჱ⫠瑰抸圊ゃ䌻抳⠑Ⳳᱳ૫㠗䯺㛿䤛㝍㬍⭱潹઀ᚠ珪ఴ䍕䆱䑠⚜䏒ഡᄩ㨼ந崋壀壭᠆㔝⬰婼㥿䮃ԁⳁ䍶㲺Ⴅ⛶ó㻅瓹዆㛶㌱揤␾曘಺Ή⻸䍳⊝෰朁琂ᦺ淶暹暃㒥½䛣Ⅵ⑬ựӥ㤳㯠⓳჎㉋䈻楽竿圅℺ൄ䚲囃㡺㼋ᙑ㒨㴡箳ㅎ◸剣㲷獙㠕ひׄ嚱垥幝灸भ֋り㍰涙⟭⃺籶抳㚮囲ѵ拋㜍忳ƿエ瑤⪫仵㹗㚊ㆫ䇴璷▱ₕ䁘皠璀⡛杇甇␦⟺䛷Ȉ㥧㜑Ṱ⢀揰ᕁᄮ撩穾㸻⒂ჩ灳ڲ⠪敼白㔼ױ䝂眉㈊礎⼒杊Հ㒠๫Ȇლ㩽䝁භリ甧ሻ㧸឴㷹⛞矷ₚ瓴Ặ痩䲚䒨㡀  "
   },
   "outputs": [
    {
     "data": {
      "application/vnd.jupyter.widget-view+json": {
       "model_id": "49196de5dff842e68458cbfb5421c9a3",
       "version_major": 2,
       "version_minor": 0
      },
      "text/plain": [
       "PersistWidget(data_values=[{'__id_column': '1', 'Unnamed: 0': 0, 'Region': 'Salt Lake', 'Month': 11, 'Day': 9,…"
      ]
     },
     "metadata": {},
     "output_type": "display_data"
    }
   ],
   "source": [
    "pts = alt.selection_point(name=\"selector\", fields=['Trigger'])\n",
    "\n",
    "base = alt.Chart(avalanches).encode(y=\"count()\")\n",
    "\n",
    "trigger = base.mark_bar().encode(\n",
    "    x=\"Trigger:N\",\n",
    "    color=alt.condition(pts, \"Trigger:N\", alt.value(\"gray\"))\n",
    ").add_params(pts)\n",
    "\n",
    "weak_layer = base.mark_bar().encode(\n",
    "    x=\"Weak Layer:N\",\n",
    "    color=\"Weak Layer:N\",\n",
    "    tooltip=\"count()\"\n",
    ").transform_filter(\n",
    "    pts\n",
    ")\n",
    "\n",
    "chart = alt.hconcat(\n",
    "    trigger, weak_layer\n",
    ").resolve_scale(\n",
    "    color=\"independent\",\n",
    ")\n",
    "\n",
    "PR.PersistChart(chart, data=avalanches, df_name=\"avalanches\")"
   ]
  },
  {
   "cell_type": "code",
   "execution_count": 15,
   "id": "96693c8a-10b2-4218-9c0f-ac34bcdf1bc6",
   "metadata": {
    "__GENERATED_DATAFRAMES__": "ᯡࡁ䃼恖せƬÐᓠ朰תl݆͐{੻䊶⋈〦䈠䭔¨ԓ䉣Ӑ̀ৠᗥO塰  ",
    "__has_persist_output": true,
    "trrack_graph": "ᯡ࠽䈌ʀ匦㢠⹰Ǡଡ䲸ᣠ⎌׀۠Ʒथ埠ᦡ嶒䁛¡ٱ冦௷ⲛ॰䥠ɺفݥ䆯჉㥪᪔ඹ墒爇恄-Рණ⸸㵨‡ᑀ‡㤉Ơ܃ئ籥痻氠ᛢ竀řᲰú႖ॖপ*恀ɐёᐠ⚉ĪҤ䑠․犄ばԸ⌦ࠠ᝷⟀癒₲痐Ō⬸ᐠṬҫಅ䔱≩ㆸ䘬ٌ㝠ஃˑㄨ䁸悰䧋イ᷑о⤥扸Ǎ⍌㽍炉‷毇屾僓ヌ࣋痘ˬ᪊怩瀠㩟䓜ヸⷷ䑐姫㏸ⰳᤢʩ⚘䌣Ťヌ䥋।䥪ࢋ⃑䶌之䰀桔ै惠栴ᛢ篝⚚䮤梠䜺㝦ࡥಈ乀䭅⦔千䨄Դࣃ´您㱯♤㆘䨨䨂沬䭋䤱祢壈ၵڊ屠ȩ⁰ 䘡䀠睍㬨棠Я暙㔠㤼ף䆶⮍䕴͞捹冈秜张⋑Ҩ溺ޢ䒂樱නㅈ㻓ʧ疂ȴ↦僂ḫʡ䀤Ⓓ⯅㴖✫䅄悐籑٠僈汍རㅸ癇෥爘╨Ů᭺ᗇⷵ疦ᑏ⩣ె⦸᭗䴺●廔汀ᶾ悕屮ᦿ五巎䏎䜥ࢀH䞭磎惈Ȫ岠wᠠ籛栗㇉玘㹀ຊ挑ŀ灴¢廆u灓ク㚑唑☠߅ኟ䐦ʚᤓ幦䧇㫯᪶梏䐗ࡿ䠓į倯ࡠ∵栰⨭ᣘᙆ摼ႃℑ垡䂴֥䒴㭂䑈ጰ怤嬢႘ᩧ⊬Ī⇆ජ㘸㠮⺃娔䄿ᮯࣜ㛣䃸Ḗ䆎峷䆕๨笂ᛱㄖ巁匋ఁ粟2墆ئ僆ቢᛒᓐ⠵䥦囊໐梭䄯桵ᐵ䔓忲Ⴁ圦ؤᑗڱ參ⓑ幔⛩䌃☹媄ੀ෨祾⟨䚈੐ֈ๐♩䕓հፖ⩦ᐱ:孵樦帔Ⳬ᫲炞ས㱶䭲堰ჲ⦶䛳娮䧴㡎姐㖾䟧碡ᖆ㛘ভ䑩ả└ᤳ⃴ᣕ惹ࣰႬ֢೽Ճ瓡䭗廙巎બ呱㊲傧㉒䮰⪜䧑㙭ැ瑽߁ჽ孂ඈ῔䳳ᢖ壃如ẳ媗氷唄⻢̂屗ඃ⸻宖僛䜅ć圅棇娻ⲷ䈁庄屠㹯圩㻋౩È㌇℠⁪岃䠪䥒㡯戂ᣊेᬸ䨟䫤慀ࠬ৫ࠪ吏⌹৆᳌啼␧㺿䘦纘盧煸✯ŀ䊸汼ॆ扈ຎ兑ദ撈ਣ⓲᥾惽Ⴏܘਡჴ䭬磿᠇糮êᨂӮ䣥乣ᚪ૑⣕嵠㙺Ẕ咮ᐲ┓䶪瓣㜥ෘ᲌䶤᪍专ㆊძㄲ䐱Ⱨ疣⁚݁檉䴱剞ೱ挡ⶑ筍⪙㍱欚䭷㎀᫷㱌ஆ嗕㻍䈒㫵⨊ㇵ森彑䇆幪痾埉Ӵત峱絾烥匣یᾥ倽冠ㅈਦ恱ᝃⵙ䟷曱⡑ځ幌║奊։㑏⚹⏠㔇ⷄ嶽䜊ᅩፂ䒯ゕOↂॐ掆泛ᰋ仟⦔ͧ嶕䂀愭匾෶ฺ༷碠ᘂ剐┢匦䚠⧭⾿䶰䜹ֺફŒ愶㌠㚊硅⻱ᳺⵋ䄀槒ثフ縬ࢆ恁ᚘ➙ㆣøᒡ扝ਧӵ怨慠ɣࡄൠ傭ãਣ⛁夼㇕᭽ზ䍌㊥䮌晾⇫ዓᐭ㇈㶄桡Ė❄䀸ཙ緣䉸䥃߈㣂㤔屾ந⺣ỹݜ௩㰥Ś璀砸欢ᣑ瓤匵Ḷ᭝珱㴭彚狞⬷ᅳ惑撎垧瀠䊈㗮呛个ᯓ⦠ஓ塖垎仇⡾䏵㺤ǡ専ᠱʅĠ恵ぶฯჹѡᰮ䃰֡ሲℲ⪀屘睸ᘇ䴄䁕绤㑰ಊ⠱䞧ڐⵌ熮嗇⣇泱柱[ᬋؽॄ㩧徇厸埏䄿⼜㎧琷࠙睐᩠桑湿矼瀵妀ᛒ偔①ᘦ凃⏃ⓕɀ䛦岉∔棭䳨䵹䳛䦽燠ᡨ䓞〶ᑆ䅂椒㑉夈㓡∢⣀ଡ琨所爦≤䣠ᐻም䂡⁕8碃ڐ㒀䳪ᆉṃ替Ⓞ㫸摬䂶㲬㭅৒垆儮⨍⪭㎣ぎ⠄慪ቪЄ䑾⦴⮠商匊┠᪜㪸㙮㋜乤㙼⦼厱峒及㛄ↀ哐ẗ栵◪,噐巬桺䀡㋫ì媠I焦唊䢈Eᗈ婪䦊嗦眬丨ဢ…ጸ〶ဵ䘡Ⲛ堨憳偩勨∦恙欱吩䂲߃ឦ氆ί棣ാఢㆳ溃ᴫ抌㟧ᬨ摽㣪嵎扂沥ㄯ∡挩璧ƇΊ櫟⟰罹恦瀏竫䐬眧㏡侅↡暠娀盤㛜ᠻ㲐ᦒ࡚犰㠆傈恠⎢僇仡ᾲ䈗ᾭ呋րイ㹽哸⤭༙檽⁾祜⮲␥£じ晱Ƅᨢ≤䆀ሥ疴ݤⰱ䄸ո⍴⏈戳ᄑᓴ淵䉀勛匿⮼ጩɜ⎈ⱡు噘ෲ䆔滕௉䳠֣䙎盺敢岓▽ṉ綠喥眼棠䐵ㆩ熠ェ晻ۀ愬ばЭ‬䙈瓣羕ׄ焀ᜠđኞ漰䷤㙋听䂖兠搭቉⌼㇣㻱溣ㆄ曘ࠁ䞮Ŝ#疷㬇▾䣠ᾠ䅎Ẍᎃ判妍削Ⅹ㻸Ⳃ䝹௕⤛ჱ⾄䁱མ⻊ý⏴࠷嗯┧ᓪ怭戬ඝػ壒ᬌ㓢洝亚矉㧟ⷠ睔ข䘇懒ᬜ㓡唼ώেᝆ畊⍳曯Ɗ曋⦍ԯ亶匱䰥త֎撾Ⓣᧇ嵧梽ⱓ倢篭ᩡ䊅㔒֎䒜ၠࢴ᧰ᜡ㢝İᒍ⼱⪅ᙱᕥᇫ╖⮙㹴հ圬故ഖ旭ᯃ㺒沴獌婧অ⭪暟ᶏⲦ毹⶿繻䯒箽媯ऄ⁩权ḇ䄁ᄽ㧸⬳僚佊⚄繮悄ห㤌仌᪆᱐ई㠓徙瞠帮ᄇ洣叺细ㄥ࢚䄴ሮ䯟実㗳殧凣圍縌ᘥ⦍̈墛壀䄐ᑖ⡀坂㋊ၺ̥Ⱒ惹৉ᣎᴁ籮びᣮ䩝匤帰ⓙዲ⊭䡉㌴䴿惍嗉ݗ玷珐㶫暺➫媏▔碷瓽容ʪ妇ㅱ㭎瘵ৃࠨ䅼僕欇ٕ䊧其ђ㣡此׶㶗Ě濯䐭⸦ᑧ嗔挒⨪㟍㆏⇊滈۽笌⾨⛍施⿃伬㗑ֶᠪ橪曶⁺瑚啻疌ˀ没䁩ຸՀ㕑չ⡋扦⟸ٯ宏⊢ӳ凟杽⚨ᳳ䴚殿竻㤓䣚෱㋊松㙏劄澴≂ਣⷧ睍㟎᳚ൻ⭂ˮᾎ㚓㐠䧼䍰䄍墅淧ᒬ総侎焤आ癝俹䈉榙ൊጯク億ֱ楮垎⸣籟⃌㷁岟珙ᗣ⨂ᢸ匀ᑆ冻嗙⌄哘喎⧲ଚ媄懎綠䐚琓纡唠扐⒦栦@梞౓焫Რ䘮㱗忒඗ڦ⚖d䱩䭴⏍攨汦匥ᇙගզⲷၢ㥣樈♕敋ඔຒဤ燎ᗯ揦栭䁰䵤ⶡ␭䆰ॾ歆Փ῞෡ഀ啗⦻ϔ䚌禒ኡサ杂ބ夳妴⮄㞅㻃䥌梠䘥笪㳳憾⊤ᓍ疓梀ׂᎺ姞Ѹ化ે愔Ếਤᢖ㵵䠼匨ឥ䎫搸㨅堡䂒䜶互◖⸂Ⲋ戴旍㢒淊浠ᖱⷍ⻴ᢲ眺╊毼㬡䵓ↁ༴⸷䔰棒पക䑁⒆䥮僡㪴懫恖ސᯓ岭朎曓ᮻⵍ涎䘥疩礆涺ল瘭砿ⰸ缑䱀絖旒刑涨䴖怬⨑̬絻⪖稗ᶲ絎拞倦゚綧⧞ߖΩ紤἖绰揖紱栖簬㰶捶ᖮ吪徠℮ሡ濷徶掯斮䕕ࡼ⏱悡㾶岙抹䞞⺇ࡗ㱆䍲䱦怪₼᫤Ს䀼姟欰煤ハв䚠Ⱆ㏟˹渡っয়䈨⤢库帻攥槼敃䟈嶱ᜒ咂瀩ӄᗆ᤬䢵娄᪄㉲⢑䷵曁ᩰ姊偰མ⽵織⃘੮竖┤㕸๲ਣ摡㑸䏠刢␣秡¼晭⑻ᐁ⦱⹩撏ᐒ၉⊮ગ䋵⪀ℐ䑾啀ᲊ㐢斱ǃ撲夗ҝ吲ᏼ䲰ㅃĘ◜┤ቄ㇁ം∦い楣ⶰ᪶㑏Ɛ࿶外⟔樔ᄁⴖᡫ䐓溁⌒塷䎆櫸ㆳ㑲汨Ҫ㐤し⊿䑞斲中㓶⅞ᆪ㚸掮慑㨑Â籠⏺样䲛ಀ斒畖ⱷ況斮᧲屭籾᪞㉡⎼㵏捹s噻揅䪚ʥ☷ל䋌ὲ䁖ↈޔᠠ⭂祎Ԡ㘢琿ґ⤑ᦡ悒ˠᾦ倥傊怾䞜∧䁰̘ᔒ掬㚁吐ᴩ积炟泰ἑ∭ḩϤ١੔偭ගݦ䠫偼恸曦㺕゚愈⏦㗮栦玤毡㖮䦰䎎ạㄪ㐺䱿ѩ籵䡹ኍ䂆ᖐ助䱕滁婱毖∇ډ୭祝ǍႴ孮灝叜䡤樦㪚㵱⣱ᬨ䠲ᕐ儸汋䊭楈侥ݪᅩ୽ṥē攲ጢᎩ捴糘ⓠʈ傫啞犕┱拗檌⏪昀䒮࿚棪Ჱᙫ⒛Ꮕᶱṫ䑜匪ᑉ⦣ٹ砶榜㔓摦⇒༹庩㽟⏖歺↫⚃㔟䋺‷泔搓ᛘ㦫᳑㌶ᙹ∪澹掐ố愫ሡ捋᝹ᏩᲖ扯沑罉濎΁歙䲓嚐௾ᇴ↖֓掐ỹ㯦ᅌダରࣧ☹䌣પᲢᐢ姃ዠ䈁䈠䆂༉翪嚞粰懮䓖⊉ᤙ溩ӌ抐巑Ễ嬣抄Ӟ⿥橤䅼嵩ំ੬᧊屴ᕪ㍒毆䍵༰婡捅䈓ଥ斗ዒ䍉⪆䶕ᵑ焜݅売ན䐳Ⓔ㌶伺㒜⵨† "
   },
   "outputs": [
    {
     "data": {
      "application/vnd.jupyter.widget-view+json": {
       "model_id": "00842f54a1f94f1f97219e9ce258c964",
       "version_major": 2,
       "version_minor": 0
      },
      "text/plain": [
       "PersistWidget(data_values=[{'__id_column': '1', 'Unnamed: 0': 0, 'Region': 'Salt Lake', 'Month': 11, 'Day': 9,…"
      ]
     },
     "metadata": {},
     "output_type": "display_data"
    }
   ],
   "source": [
    "select = alt.selection_interval(name=\"selector\", encodings=[\"x\"])\n",
    "\n",
    "chart = alt.Chart(avalanches, height=400, width=500).mark_bar(tooltip=True).encode(\n",
    "    x=alt.X(\"Month:N\").sort([10]),\n",
    "    y=\"count()\",\n",
    "    opacity=alt.condition(select, alt.value(1), alt.value(0.2)),\n",
    ").add_params(select)\n",
    "\n",
    "PR.PersistChart(chart, data=avalanches, df_name=\"avalanches\")"
   ]
  },
  {
   "cell_type": "code",
   "execution_count": 16,
   "id": "e18ac1e8-bc07-4c81-ab26-dc0ae4a7bdda",
   "metadata": {},
   "outputs": [
    {
     "data": {
      "text/html": [
       "<div>\n",
       "<style scoped>\n",
       "    .dataframe tbody tr th:only-of-type {\n",
       "        vertical-align: middle;\n",
       "    }\n",
       "\n",
       "    .dataframe tbody tr th {\n",
       "        vertical-align: top;\n",
       "    }\n",
       "\n",
       "    .dataframe thead th {\n",
       "        text-align: right;\n",
       "    }\n",
       "</style>\n",
       "<table border=\"1\" class=\"dataframe\">\n",
       "  <thead>\n",
       "    <tr style=\"text-align: right;\">\n",
       "      <th></th>\n",
       "      <th>Unnamed: 0</th>\n",
       "      <th>Region</th>\n",
       "      <th>Month</th>\n",
       "      <th>Day</th>\n",
       "      <th>Year</th>\n",
       "      <th>Trigger</th>\n",
       "      <th>Weak Layer</th>\n",
       "      <th>Depth_inches</th>\n",
       "      <th>Vertical_inches</th>\n",
       "      <th>Aspect</th>\n",
       "      <th>Elevation_feet</th>\n",
       "      <th>Coordinates</th>\n",
       "      <th>Comments 1</th>\n",
       "    </tr>\n",
       "  </thead>\n",
       "  <tbody>\n",
       "    <tr>\n",
       "      <th>0</th>\n",
       "      <td>0</td>\n",
       "      <td>Salt Lake</td>\n",
       "      <td>11</td>\n",
       "      <td>9</td>\n",
       "      <td>2012</td>\n",
       "      <td>Snowboarder</td>\n",
       "      <td>New Snow/Old Snow Interface</td>\n",
       "      <td>14.0</td>\n",
       "      <td>360.0</td>\n",
       "      <td>North</td>\n",
       "      <td>10400.0</td>\n",
       "      <td>40.577977000000, -111.595817000000</td>\n",
       "      <td>While it was a small avalanche that was I caug...</td>\n",
       "    </tr>\n",
       "    <tr>\n",
       "      <th>1</th>\n",
       "      <td>1</td>\n",
       "      <td>Salt Lake</td>\n",
       "      <td>11</td>\n",
       "      <td>11</td>\n",
       "      <td>2012</td>\n",
       "      <td>Skier</td>\n",
       "      <td>New Snow/Old Snow Interface</td>\n",
       "      <td>30.0</td>\n",
       "      <td>1200.0</td>\n",
       "      <td>North</td>\n",
       "      <td>9700.0</td>\n",
       "      <td>40.592619000000, -111.616099000000</td>\n",
       "      <td>A North facing aspect with an exposed ridge in...</td>\n",
       "    </tr>\n",
       "    <tr>\n",
       "      <th>2</th>\n",
       "      <td>2</td>\n",
       "      <td>Salt Lake</td>\n",
       "      <td>11</td>\n",
       "      <td>11</td>\n",
       "      <td>2012</td>\n",
       "      <td>Skier</td>\n",
       "      <td>Facets</td>\n",
       "      <td>36.0</td>\n",
       "      <td>5400.0</td>\n",
       "      <td>North</td>\n",
       "      <td>10200.0</td>\n",
       "      <td>40.599291000000, -111.642315000000</td>\n",
       "      <td>Remotely triggered all the new storm snow (abo...</td>\n",
       "    </tr>\n",
       "    <tr>\n",
       "      <th>3</th>\n",
       "      <td>3</td>\n",
       "      <td>Salt Lake</td>\n",
       "      <td>11</td>\n",
       "      <td>11</td>\n",
       "      <td>2012</td>\n",
       "      <td>Skier</td>\n",
       "      <td>New Snow</td>\n",
       "      <td>18.0\"</td>\n",
       "      <td>6000.0</td>\n",
       "      <td>Southeast</td>\n",
       "      <td>10200.0</td>\n",
       "      <td>40.598313000000, -111.628304000000</td>\n",
       "      <td>Impressive fast powder cloud ran in front of t...</td>\n",
       "    </tr>\n",
       "    <tr>\n",
       "      <th>4</th>\n",
       "      <td>4</td>\n",
       "      <td>Salt Lake</td>\n",
       "      <td>11</td>\n",
       "      <td>11</td>\n",
       "      <td>2012</td>\n",
       "      <td>Skier</td>\n",
       "      <td>Facets</td>\n",
       "      <td>42.0</td>\n",
       "      <td>9600.0</td>\n",
       "      <td>North</td>\n",
       "      <td>10400.0</td>\n",
       "      <td>40.578590000000, -111.595087000000</td>\n",
       "      <td>Three of us toured from Brighton to low saddle...</td>\n",
       "    </tr>\n",
       "  </tbody>\n",
       "</table>\n",
       "</div>"
      ],
      "text/plain": [
       "   Unnamed: 0     Region  Month  Day  Year      Trigger  \\\n",
       "0           0  Salt Lake     11    9  2012  Snowboarder   \n",
       "1           1  Salt Lake     11   11  2012        Skier   \n",
       "2           2  Salt Lake     11   11  2012        Skier   \n",
       "3           3  Salt Lake     11   11  2012        Skier   \n",
       "4           4  Salt Lake     11   11  2012        Skier   \n",
       "\n",
       "                    Weak Layer Depth_inches  Vertical_inches     Aspect  \\\n",
       "0  New Snow/Old Snow Interface         14.0            360.0      North   \n",
       "1  New Snow/Old Snow Interface         30.0           1200.0      North   \n",
       "2                       Facets         36.0           5400.0      North   \n",
       "3                     New Snow        18.0\"           6000.0  Southeast   \n",
       "4                       Facets         42.0           9600.0      North   \n",
       "\n",
       "   Elevation_feet                         Coordinates  \\\n",
       "0         10400.0  40.577977000000, -111.595817000000   \n",
       "1          9700.0  40.592619000000, -111.616099000000   \n",
       "2         10200.0  40.599291000000, -111.642315000000   \n",
       "3         10200.0  40.598313000000, -111.628304000000   \n",
       "4         10400.0  40.578590000000, -111.595087000000   \n",
       "\n",
       "                                          Comments 1  \n",
       "0  While it was a small avalanche that was I caug...  \n",
       "1  A North facing aspect with an exposed ridge in...  \n",
       "2  Remotely triggered all the new storm snow (abo...  \n",
       "3  Impressive fast powder cloud ran in front of t...  \n",
       "4  Three of us toured from Brighton to low saddle...  "
      ]
     },
     "execution_count": 16,
     "metadata": {},
     "output_type": "execute_result"
    }
   ],
   "source": [
    "avalanches.head()"
   ]
  },
  {
   "cell_type": "code",
   "execution_count": 17,
   "id": "81913ae2-0ef2-473c-8646-bfee6606fc65",
   "metadata": {
    "__GENERATED_DATAFRAMES__": "ᯡࡁ䃼恖せƬÐᓠ朰תl݆͐{੻䊶⋈〦䈠䭔¨ԓ䉣Ӑ̀ৠᗥO塰  ",
    "__has_persist_output": true,
    "trrack_graph": "ᯡ࠽䈌ʀ匦㢠⹰Ҁ⬠᱈Ꭰ映塰ୡ䁓ᨢ᢯攠☸䓁䴡䙄堽俖౸ۡ䭴弲⠠䭈⑁棑爱ᝅ⍾凓᭾⹝紧Ҡǁ#〨ㅣࢊ′䈤7㺰ᠠ湐戎Ⴆ寐狠ˬリ$疒‣㗄粜ઃ㽍ࢥ䋤曃⃡傩場岃ᄥྶ䑏䟣ₐ怠సဠ⺡價溄䍈ᣐ䎭㙐⠠㲸ढ䇧䭣ᑱ଒旸̠ⶬᛸ橂ٓɠ枌戰Ụᡭ㩦怭ゾᤤ矢唠弣Ǫ璶ᮀ䃺淣 珖o#䨃栃Ɓ淜⃤㜣䔆ᡌ搨ł䡈㋎ڳ┘≍ţ∂籎஥Ⴈ挧ⶥ旐㊪ˢᖈ勞॰᥾ྴ䋱䃺➩惨ᡰ⢬✰⒲ప⚰擒Ჾ⁶প劥❔䉜暔⬷旹擑ⷬ旒峞⡲௪牱䪀㑜R峣篔倠 Գ呡ᖺ性檰ら僰q䪦涢і烸㜠Ӄ椭:䘤࣌Ɒ㋸ޜ瀧㜠⥚⻣⊡䆵৒台珴䂯ว哑皆忨ࢥ欨䨢拱䘢〈最簶ೂ䬶壼ῄ↵बἥ㮀ᰬ㚭⠸漣嗮獩ᠼ¬↱ᒊຠ慑Ⲗ፫怩Կᗀ㞕㶞侨ᧁ䬂弩᭭㎐ↄ姕⭢殂䌍筣夆㯭Ǒ଍份ᬣมს䛲۲緬倨ಐఠଆ 帎紾㏮神࠯涌ᾬա㡪@ᯥၢᯢへᏧ泺⾥ဠ㵅ᗢ ᑑ䂌೬畖ㄠ杊རṆ໣⒜ࡂṁತٙೂ剑䍄㐴ߡ焺⟠ᰪ⋙ఽߡ㤭㄁⑖ɤくՀ瑾䂂籴Ұ碍䞂⁁ਃ⒁䮹⛓䍜嚭嚹愳➕尠σ擸ണ‾䎠怼ྡྷ洞刖ڦᑓā层䛔ೃ委৯⋘̦⪽得䙩䳅ᴔ␣↺㭫䈘⢫æંℴ⪪晎䡃⤺⏦᡺⇣ㅤ∀䁁ཌྷ焻ᐥƂ࢓砡ਤ嫶噆䲶䖠䀴⊃¶䐆ᡧåႂ᳢䃏吠䵳⩥ᨆ崖嫖䝑Ԓ橀 硘ቊ悵ီ㘤⤻攦წᬘ砧挘䷌ࢠឯ㓡τ熌䍕禤ᭃ殀ݏ䅙ᝌ⟙住↤磉ᨈ惔ឥ㐲ᝥʶᕴ厴珉ᓑ䟬ે☉䉅Ĥ恎̘䭿㞑偡呢㜠᮱㩋㎜徿爢嬲惠啜⢮㤼㩈⧥⋮申䎐䗧₨篬榊ਾ笶勼婶櫶嬴竸扖⨥壐㛣妖刧客ㅤΫ㋩䅫᫮姐禉奋ᖘ抖满悸㌾癓ঢØ⍺䠊ະ棕ᠢ぀̭᤮৐揔拗ᯕ˼Ⴀኪƴ㐨僩ૢ䌂㉢䌰玃杰塯䅠ȣ䃀Ւ册绠央ॵ䭪䒶⫄璡⨒数⢴㕥㫲㗽㈔Ʋ ᝇ䀾᦮ゾ㬼摾♺砼⎮現ன筼埾犞濷磼翰׼၌я䶾硜㩺ղ༾ف抌ত勄¤箅扵䳃䔃㲀倍擕ᕑཱྀ滑琟⓵㫖緃搑綿嵋ᔅ穥෿ሐ㽳瓦≌㌏憤〫ך尙ㆱᦱॕ䅟〮䏈Ǭ⌣⁃䓘䄧犴䃠߅၌ǢಣÅ䵠ᰥ⁐ਢ䰱̀რ礡Ѐᐫ⃜ઢ棼嗲䫈㢴ƨࡦ暓柊塁à⾁⽷ᢞကĻ䉓㍖๹̼ԩᳪ͘樾㤙季ᜰ寴ᡅ傛朮䤍ไƠ燺䆬⥚㬢ᇂధ❬目Ḫᒲȁ穊Ცࣤ䱢㮸䪒墻ଲ㬾哶旕㪦䐭ӱ䴿㣍᷇媘攌㐬瓎䭡砯䃼寱素㎽ᾴ嶘⸫৑䗙ᐥ᧝䗣匨͛ⴲޜ攨䘁䨥敀㫲ⶈ㩺ඣセ⮇㚄瓖暪尽໙࠹峗ᗚ瀴㢀㣡I䌎揨壝憉緻぀ཱྀޤ࡞◠佀ᕉ樃級䮑‼׊㐪皊穡ܗʝ图㚫幘እ⣲ɯ䨘翗ܐ绀ࢨ࿞栳䋐ᑥ灘摓჉墄ל巪掌༙ဢⓢɹ〨䁘ᣣ䫕Ȑ⊂抗ᗤਫ₈੠⠹䡸ԷᲿ斵ِ斛俲捇席⨡୼ፌ巢䆨斐ᶶ㤯ጲษ຅܄稡ኲ⌡沸掀ቫᒜڤ摬ـڔ户昜偈㘮◹⸦䉮惀憡⤙஠稿ቈ᩵㜶獥㸤⪪ɪ>战嗣穻ᖒ䒴ૐ⛵⹏⍮ພ䉊繦⢢坙啺佐㪷⤁ⶥ疞嘢䇉㓔䐱ر痦劊Ȭ椽ࢌ㢰݅ᦱঋ⇕ଫ㖖䊳ầ䉸⇶ᵨ椵ㅹ䥾滕㝡ᰎ䡔䁉暘ᕓ᪯嚩婿▜࣫䳕䯹ⷩ㦖Ē协狁䇼᪦࣊廊㮳❵琴哪壧琥⮦尨䛏⌓囃牏圻燁᭝᧊䢚テ摆ᆙ兂瓺⊹䩠摈珨Ԃ⢉数㧡儊ᓙ㨫≼ల灃ᄿඤ᝶ぱ⏹晊᚛㳫⅏④ᩐत⵪㢮®ᜳ໦Ἴ晋ࡌ㕛ⱦ㬘亓兀  "
   },
   "outputs": [
    {
     "data": {
      "application/vnd.jupyter.widget-view+json": {
       "model_id": "0850e4b7691e42ae91cca38adda8321a",
       "version_major": 2,
       "version_minor": 0
      },
      "text/plain": [
       "PersistWidget(data_values=[{'__id_column': '1', 'Unnamed: 0': 0, 'Region': 'Salt Lake', 'Month': 11, 'Day': 9,…"
      ]
     },
     "metadata": {},
     "output_type": "display_data"
    }
   ],
   "source": [
    "PR.plot.scatterplot(avalanches, \"Elevation_feet:Q\", \"Vertical_inches:Q\", \"season:N\", column=\"season:N\", df_name=\"avalanches\")"
   ]
  },
  {
   "cell_type": "code",
   "execution_count": null,
   "id": "d991a355-93e6-4787-a63d-a6e4158246fc",
   "metadata": {},
   "outputs": [],
   "source": []
  }
 ],
 "metadata": {
  "__persist_keys_record": [
   "__GENERATED_DATAFRAMES__",
   "__persist_nb_uuid__",
   "trrack_graph"
  ],
  "__persist_nb_uuid__": "877c0b64-4b3d-4dc4-aaca-6e0926eba22d",
  "kernelspec": {
   "display_name": "Python 3 (ipykernel)",
   "language": "python",
   "name": "python3"
  },
  "language_info": {
   "codemirror_mode": {
    "name": "ipython",
    "version": 3
   },
   "file_extension": ".py",
   "mimetype": "text/x-python",
   "name": "python",
   "nbconvert_exporter": "python",
   "pygments_lexer": "ipython3",
   "version": "3.11.7"
  }
 },
 "nbformat": 4,
 "nbformat_minor": 5
}
