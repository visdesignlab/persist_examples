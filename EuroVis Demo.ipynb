{
 "cells": [
  {
   "cell_type": "markdown",
   "id": "f4367b92-af09-495f-88fa-79bfe395e9de",
   "metadata": {
    "editable": true,
    "slideshow": {
     "slide_type": ""
    },
    "tags": []
   },
   "source": [
    "# EuroVis Demo"
   ]
  },
  {
   "cell_type": "code",
   "execution_count": 1,
   "id": "4a7a831c-74d0-4a6e-bb67-fc6833b9fc5e",
   "metadata": {
    "editable": true,
    "slideshow": {
     "slide_type": ""
    },
    "tags": []
   },
   "outputs": [],
   "source": [
    "import pandas as pd\n",
    "\n",
    "import seaborn as sns\n",
    "import matplotlib.pyplot as plt\n",
    "import altair as alt\n",
    "\n",
    "import persist_ext as PR\n",
    "\n",
    "avalanches = pd.read_csv('./avalanches.csv')"
   ]
  },
  {
   "cell_type": "markdown",
   "id": "d072a0fa-90e1-4409-9890-e9e75259ee20",
   "metadata": {},
   "source": [
    "Showing the basics in the following two examples!\n",
    "\n",
    "First we \n",
    "\n",
    "* change a column lable,\n",
    "* drop a column\n",
    "* sort a column\n",
    "\n",
    "in the Persist table. "
   ]
  },
  {
   "cell_type": "code",
   "execution_count": 3,
   "id": "a069da47-0731-446e-9ccf-cd5960196311",
   "metadata": {
    "__GENERATED_DATAFRAMES__": "ᯡࡁ䃼恖せƬÐᓠ朣琬愠峀ʀೠᲸƌ⨎੹ૉ䜠㑀ӓ 䁯ᰶ塯+䀳䁋䔠⾤倠 ",
    "__has_persist_output": true,
    "editable": true,
    "slideshow": {
     "slide_type": ""
    },
    "tags": [],
    "trrack_graph": "ᯡ࠽䈌ʀ匦㢠⹱⁮¬ѐᦪːހୠᆦ,䲨ˠೳ∠爀樕仂₳⠾⪺匲⠠䭈⑀棒爵Ⴥ❱䖻ݎẜʤ䐡傠ǔ杣′䈤7࢝ᠠ湐憎Ⴄ姗㈠ᣠˬ⃪$皒‣㑡搤⢊㟓ਪѭ皬❳䢁呤䰸㩊ࢻç䍠Œ懩帬ᠰN彠椊㉧ᐋ㱣᣶ᡈ\\䰩ৎ恆こ砪┚{ౕ䑹ȩ䌤䍯ⳤო䑐浨ᴪ怭㜼愤矣唠徝Ȓ纻涀䝼淡ᛋ㏶o#䨇氃ܑ淜⃤᜷䄄惬妤䕆懰漾֡Ⴔشୡ凐碊佢ᇨ㰥⌠ᗰ娠䳢祾ྴ䫱䇺⪩浯棂ᢼ₲⑲ᩚ⦶斒糁≳ᒑ儨ī㤉壜⢶┹㒦▱攒ʱ⪥ᑈ幽Ⲅ㓼獓䦤䰠ʏȠ〡⼃ᠫ⠣㧵Y䖌㝸၍⋵㖘ീⷢড᪸/嗴൦垯怫ˁ㫧曀䤈ऺ䁈桘థ䳠䡤⨵а塨昻搂䩩煦埱帧㎵暰じ㸸䍂⡔㴩䖃塤✻䘃碢ク殈㫽᫿傀ࣼ⒘㙈♳೴޺ᜍώ石㘰Ỡ牙溇᳨ᓛ南ㇿ⎠⑐4⭥傞瘌攠䁗ၞ嘡ᾮ◣楫物俞㶃禡傘⨠䃾⤨✒᧜⪾㞉㸴䀡琯嘐ᪿᗷ㩾佴᫝ഀ繿䗱䃟嵐ŀਖƎШ䌚д䅲ྡྷೈਤ≤ඤ瑔᪢⊩䆡䉤ᚦご䀓ٟ༡ࢨ␤繲ጠ⑾ଭǰ㊀â㡈栠奬؛烰⿉Ṱڈ恫⫐ⲅᄋ⥭䠀繟䀨岕⭡␹੻搪擃⭵ݸ᭭೸琰ӛ橇ب䡅渂䎐濻⎌ହ劘梻፜伱⹬暣敞⁈䍐愹⎁ฅ挤撸區庸䌌昁ళب䀠ುwᛀI〼ࠝៀ᝔E୷⁏୰Ąᷱ摮喣栾⦮噚✹梠㠯᝸᫖Ԛ庥吘䂵殤ἢ䈀樵О∸傀戺䍐ٝȨ爢䜴翨兠Ᵽᤆ䶿᫚⋨⡒兹䡪㙺⪒㥡⮴䪭塲໧刔帠㋀氻Ȁ呺䄮榯䦮ᬹ嗌ය㬌綰獾玥㦨⮨窣ớ㨎Ϻ狼ᐴ祮珲碃ඦ穜篽牞皥竩ぬᅁ濦άࠩ怩⁈⒊兜■⥋禑ṅׁ翮佸汄ơ䊂ߩ⤷哎Ǜ毡筗⁳亏碁䅇؁ဠ䜫㜿䅠䰼䎀䰦⩴ὅ壐㸳ူȻ拀晘叢س䅫ᦎ㐑䁗亡冚掅▿⡀劕⾳繲⇘䛑挣囆Ŭ⼸垘␺愤祄犼ⵛ猜羰୸͈撶㤼婈⫥⋶由妈ᛳ䗴ڬ଴坊㓭㧁㟀◅㘀竽㚍淁ልሧᮢ㾒㖂䬖᭷嬕㙗㰫㓠ᷕ崆敳ᕨ峟ᐵ䰤坘⠼啵᫞吧ၹフ㛚悕笫唶វ⽓㽴㘦ႄ˰抭䂰㰦̰犹䓰烡ᐾ⨤䄬汫਑ᬀ瘡揌䯙棄惑⿌繱ᔢ䵐㍜劥㤑碖攈ៈ䃽䯸彼䅏姀䁄搝ⳤͅ䒼҃Დ䤭஺൷ᔹ伶狠㉔Ṕ㚰Ᲊ堷䖙䑇嘑娂ֻ䅞ॖ⭗杸㮃粒揬糤ѽ䷻娧墡㤡Ɛ父➯…ܠ〽䶰䐡碚ࠨ栲⬵㔘吧䃈hళƨߐ澪ᅠʆの䜐粭䀤α䏤᱈ừ掮䥇㺱䁣᎐捁个ॹ䨦壴Ố㐳㎈⮀㤲牠氤尷斜㟮紂ፃ⠳穆క႗眐倅ÿ渵ᷪሸᬚ濆ᇤ搑ႇ烄ᒸ⢉ᇤ᥀䂀⍊唨 ࢰ⊞ໆ㍍⟉䰢碽⡸䙩勾ႋ惇妜඀惨挭䡋①⤾巈ƣ䡓ˈߴ扗ੈ䰭․ର䈷ᥐ䃓㫟玗⳵睥净㬀滩䓼⏥巑ේễኖ⯱ဦڀ昬⠬ൡ歒紞䒑昢愣ܑͭ䁁ࢀ峘扣ロ㦎ĸ⢎琎㔫牦ࡦط↘枙ⱔ䧸㢻Éᯞ㜲⢰䛆媈皢᱃满Ĵ㊹㧜寳ืŏ㔘悩紝ᒈ據ⶑ⊷硱ៈ撣勉وᠪ䁙Π沷ሳᦊ儫͐㖬扈ࠜఇ抬༓㛭䫼ྫ㥮敛ะ䮆⺱ৎ榽᜼⍹挔䕙屺㫨ᦆ礓ᇮ缽㉡᡼勰惢ㄣ⠲熬嘡䁩亹ᨧᤫ᫠䭝ᆈᖇ嚆杰ᙪ䡗⢹䬵痓ὓ୛ƶご㗐㖻⢈佚亾欨⬁惜䯺喊仈F䊱Ȯ碠Ꮗ潞呞⇌㻣ᐸᄳŕ䠀棑Θ⟷䛹䯠෌惷漺㩘凐ڊن˰㞠䝣嗹⋣䦙ᬲ࿡Ꭺ⥆䩻箴穬撶䎡箸䆏ⴓ⽝㉃႐ゐ瀣⿭惵ᓦⁿᱰ泙⑞ฎऺ慹ܾᴯ桄ⳝ寡栤溫櫓䈨䜴㧒䕳൒劭〆⵶L寣⡣䯵て楷رᮠἷ䊅ъ斟勃峳䬵䵶㑱ଖㅣ傊ߎ䆢ᵔA䐳⵾㻒灝૰ᑇၺ߃╷緊囂㡤䭤や烯ܛᒢᚣ䌮砡ຨԼ㇠櫞ࣷᏊ㢘窐嫓ᛮ㼵㊡ၼ癴ኼ䤡瀲灖穣㥈ƍ㛽疽墍形䘅硓̮椋ڵⲍᵗ县₆巇婬翖ݥ䲮䒓⛌僭䋇ễ⣜怲唓㻉磩㖔睴∄᧍㇇⸃堜渢ᩝ⩔ሬ攚岈⛀棹ᓻ㧯◸寅狾㯗烷放礇糓杝∺շ帪࿊ଏ┹ཚᦾఊプ桲ီȸ崘壎ޟ⼶ℊ䚁罗㈋̱वᅜ墡㉞⏩㙹ܔඒ介㡎׺೮㈓ⶡ㒆䈛⦡碢┰㴱ᢚጬ旎⁄ःۑᶭ⩯୙嚹ᚕ磫Ꮾᭌ॥椊檑8ڳᑵ䄶➭䧧壒崀ਙ殅ⶥ刕ࡃ拼拹玊⒝ᤍ❜㎝嚆䏃栌䠠 "
   },
   "outputs": [
    {
     "data": {
      "application/vnd.jupyter.widget-view+json": {
       "model_id": "e323b3887a8c423e9f150b51c63efc05",
       "version_major": 2,
       "version_minor": 0
      },
      "text/plain": [
       "PersistWidget(data_values=[{'__id_column': '1', ';Region': 'Salt Lake', 'Month': 11, 'Day': 9, 'Year': 2012, '…"
      ]
     },
     "metadata": {},
     "output_type": "display_data"
    }
   ],
   "source": [
    "PR.PersistTable(avalanches, df_name=\"avalanches_1\")"
   ]
  },
  {
   "cell_type": "markdown",
   "id": "d4b5b5b9-6e71-45a7-a5b2-41bdf68050eb",
   "metadata": {},
   "source": [
    "If we look at the dataframe, these changes were applied: "
   ]
  },
  {
   "cell_type": "code",
   "execution_count": 31,
   "id": "eb95be33-ed0b-40e4-b1b2-5ad6b09d6ee8",
   "metadata": {
    "scrolled": true
   },
   "outputs": [
    {
     "data": {
      "text/html": [
       "<div>\n",
       "<style scoped>\n",
       "    .dataframe tbody tr th:only-of-type {\n",
       "        vertical-align: middle;\n",
       "    }\n",
       "\n",
       "    .dataframe tbody tr th {\n",
       "        vertical-align: top;\n",
       "    }\n",
       "\n",
       "    .dataframe thead th {\n",
       "        text-align: right;\n",
       "    }\n",
       "</style>\n",
       "<table border=\"1\" class=\"dataframe\">\n",
       "  <thead>\n",
       "    <tr style=\"text-align: right;\">\n",
       "      <th></th>\n",
       "      <th>Region</th>\n",
       "      <th>Month</th>\n",
       "      <th>Year</th>\n",
       "      <th>Trigger</th>\n",
       "      <th>Weak Layer</th>\n",
       "      <th>Depth_inches</th>\n",
       "      <th>Vertical_inches</th>\n",
       "      <th>Aspect</th>\n",
       "      <th>Elevation_feet</th>\n",
       "      <th>Coordinates</th>\n",
       "      <th>Comments 1</th>\n",
       "    </tr>\n",
       "  </thead>\n",
       "  <tbody>\n",
       "    <tr>\n",
       "      <th>2225</th>\n",
       "      <td>Salt Lake</td>\n",
       "      <td>1</td>\n",
       "      <td>2023</td>\n",
       "      <td>Skier</td>\n",
       "      <td>Unknown</td>\n",
       "      <td>5</td>\n",
       "      <td>1667.958804</td>\n",
       "      <td>South</td>\n",
       "      <td>953.150095</td>\n",
       "      <td>40.594728899376, -111.641825871770</td>\n",
       "      <td>Skinning up the pole line in LCC had to cut sh...</td>\n",
       "    </tr>\n",
       "    <tr>\n",
       "      <th>1035</th>\n",
       "      <td>Salt Lake</td>\n",
       "      <td>2</td>\n",
       "      <td>2014</td>\n",
       "      <td>Skier</td>\n",
       "      <td>New Snow/Old Snow Interface</td>\n",
       "      <td>12</td>\n",
       "      <td>104931.1377</td>\n",
       "      <td>Northeast</td>\n",
       "      <td>960.7726</td>\n",
       "      <td>40.558613000000, -111.692591000000</td>\n",
       "      <td>Started the morning with some excellent east f...</td>\n",
       "    </tr>\n",
       "    <tr>\n",
       "      <th>814</th>\n",
       "      <td>Salt Lake</td>\n",
       "      <td>3</td>\n",
       "      <td>2012</td>\n",
       "      <td>Skier</td>\n",
       "      <td>Unknown</td>\n",
       "      <td>24</td>\n",
       "      <td>165882.5714</td>\n",
       "      <td>East</td>\n",
       "      <td>970.046154</td>\n",
       "      <td>40.723063000000, -111.694007000000</td>\n",
       "      <td>Walked up Mt. Aire ridgeline towards summit.  ...</td>\n",
       "    </tr>\n",
       "    <tr>\n",
       "      <th>385</th>\n",
       "      <td>Skyline</td>\n",
       "      <td>3</td>\n",
       "      <td>2010</td>\n",
       "      <td>Natural</td>\n",
       "      <td>Unknown</td>\n",
       "      <td>30</td>\n",
       "      <td>65543.24106</td>\n",
       "      <td>East</td>\n",
       "      <td>1118.273753</td>\n",
       "      <td>39.496300000000, -111.156908000000</td>\n",
       "      <td>Natural wet slide in Hunnington Canyon.</td>\n",
       "    </tr>\n",
       "    <tr>\n",
       "      <th>240</th>\n",
       "      <td>Salt Lake</td>\n",
       "      <td>1</td>\n",
       "      <td>2010</td>\n",
       "      <td>Unknown</td>\n",
       "      <td>Facets</td>\n",
       "      <td>18</td>\n",
       "      <td>4877.728917</td>\n",
       "      <td>East</td>\n",
       "      <td>1177.906188</td>\n",
       "      <td>0.000000000000, 0.000000000000</td>\n",
       "      <td>With all of these large avalanches occurring...</td>\n",
       "    </tr>\n",
       "  </tbody>\n",
       "</table>\n",
       "</div>"
      ],
      "text/plain": [
       "         Region  Month  Year  Trigger                   Weak Layer  \\\n",
       "2225  Salt Lake      1  2023    Skier                      Unknown   \n",
       "1035  Salt Lake      2  2014    Skier  New Snow/Old Snow Interface   \n",
       "814   Salt Lake      3  2012    Skier                      Unknown   \n",
       "385     Skyline      3  2010  Natural                      Unknown   \n",
       "240   Salt Lake      1  2010  Unknown                       Facets   \n",
       "\n",
       "     Depth_inches  Vertical_inches     Aspect  Elevation_feet  \\\n",
       "2225            5      1667.958804      South      953.150095   \n",
       "1035           12      104931.1377  Northeast        960.7726   \n",
       "814            24      165882.5714       East      970.046154   \n",
       "385            30      65543.24106       East     1118.273753   \n",
       "240            18      4877.728917       East     1177.906188   \n",
       "\n",
       "                             Coordinates  \\\n",
       "2225  40.594728899376, -111.641825871770   \n",
       "1035  40.558613000000, -111.692591000000   \n",
       "814   40.723063000000, -111.694007000000   \n",
       "385   39.496300000000, -111.156908000000   \n",
       "240       0.000000000000, 0.000000000000   \n",
       "\n",
       "                                             Comments 1  \n",
       "2225  Skinning up the pole line in LCC had to cut sh...  \n",
       "1035  Started the morning with some excellent east f...  \n",
       "814   Walked up Mt. Aire ridgeline towards summit.  ...  \n",
       "385            Natural wet slide in Hunnington Canyon.   \n",
       "240     With all of these large avalanches occurring...  "
      ]
     },
     "execution_count": 31,
     "metadata": {},
     "output_type": "execute_result"
    }
   ],
   "source": [
    "avalanches_1.head()"
   ]
  },
  {
   "cell_type": "code",
   "execution_count": 33,
   "id": "4880d938-79a9-46ea-9e81-7070736569f9",
   "metadata": {
    "__GENERATED_DATAFRAMES__": "ᯡࡁ䃼恖せƬÐᓠ朣琤愠峀ʀೠᲸƌ⨎੹ૉ䜠㑀ӓ 䁯ᰶ塯+䀳䁋䔠⾤倠 ",
    "__has_persist_output": true,
    "trrack_graph": "ᯡ࠽䈌ʀ匦㢠⹰ˠᬺ䃦͐瀶䀳፬㈲䁃ਠ珷䩣ᤃ厚㥹䁣ಸ咲䀤奢℮䖷©ᤪ檕Ի᫗㔍柠⡠ന;⽊ᤚሡᑀ‡㢣榠܃ئ焨؋孀㠠Ⱨ畠řᲰú၊K=䁅߀䘰Řᅰᘴㄵഹ⎥౬ს␈ぐ⩾ઝᅊሠ׳氈ᱬ䢸㴼ႏ૦Ԡ޳ŀĸ冝㐵Ѿ᝘䊧倥壡⶙䉀幐␼櫤Å污۷䍌ö⧾~瑚倫珲᷌榘㡶э仼ᖆÕ〤砠ᵿ⹞ᠼỳ炠䓮➾昂䳨ࠬ₱䙴έ呩窤⼾䊠ቈὯϩಘᔰ䅩偔☪ᅡ炝≭ق㰿㟢█愍⯬熅璱౻ީ቉ᩣዩ㣙㹰噊䬅╡ㆦ崌汫乪労Ὓᐴ੥६厫䖕ᆱ喐ê፟懲䀠Ƞᑾ圥嘻?❥䶭%ଵ♅䛋Ȭ㘀摒)⇳ഠ᪬3Ⲑ࢕别紀䞆܈竂㐿ⅱ筜ۈᬃ䀭㯇䐃礢悶戢匚ᨴʥ焐糝¼儚⩑ࡤ䐱䈭Φᄋ盤⚡⒈᪾䨒᲼ᝄ䆦成≉๤冈سˣじⸯ࿤࢓㚱号甦憳İ䕐䓂➦䶆禴ᓑⷺ痆淓㐖䏑檐崶შ䎓尾寨ܣࢀ卭ݠ㼥䔠⁳䟀wᠢʿẬ碹ᯥ碞ࠠ᳌ྦс⡪@⟡Ⴂ⟨ゐ⯯淺㞡ဠ㵍ቂ⁘៱恲೭畖ヘ塮ඐ硡ૂ⢉ඐ摬Ᏸ㑽ࢰ吵ʩ㰲㉭祏ʨ㑅ځ䣂⋀偞ᅍ⌾០梢䤡䱨ۢ቏թḷགɵ॒୙傐垭叔⸨⚕䑝 璩ጢ刱ݢ竾䞂ۏ䱗栱䰢䛁ᧀ♩䧯傈ႆ噈ᄔἇ᭭槎Ὧࣤ⫦煀ಫÜڇ⇔㺪朎䁂楚֫椦㕏▄㨀䁡ᝌॻᐤ䅂ᢔ硔ѡᡰᐕ⏈䠶㋶廖壁塍ᯠ幚䐠>ᩱ޸招埕缢ℙ僼ᩦ漾Ć㇙ね瞦㗲圬憉ᶤ暞㭏Ų❅旙ཛ檀媤እ䘱摥⣔䫥䒧⏽玼炵ᵕ䙌狙ұ牊䀤灎Θ歲䗵⑄࢔¦䜽凟爢恹憸ᠷ嫘⤬㫨䧡⃮攮㧈䗳⃎ℹ硺ᵯ卞拴家䫦Ͷⲳ௶䛢ፖ国寶㺫外ॼ⋘窌塶⫦姓۩塰溃娓滪̖⵸扢㜦Ŭ࠱悺ِ檔捹埋Ю托瓤Ǖ紡ඍ㳨ჾဪጰ㊦猐ۢᐉ⢲䅠ቹⅉ摣Ᏸㅊᇐ䒿渀㻸೻懺⪒Ү⬒䲩⨄ᕤ⯊પ僔痳劎䐠ㄬᆢၙ䰽撠᦮が௺慹ᯧㅰ篨炼䞹祼㟶珼せ笞翰ۗ⡺ٜࡊڡܖӜр眣呔䠑ు堝屝⺋乄഑もൣᢁᐣ₣⹘䍉㲅櫖咏㨛㹏㓜䖅᳈緑稇㱵捂਩Ⰴϑ宴繵ᢊ㸅़湻⠅縱帆㹜⟥呡粰兀º}ఢ䮁ᖆ撤⃵䕡琲䆹䨡穖̩㨯ࡇ癪䀹⩰ɀ䄮燏ᘸ␤Ρඣ᰽䐘dԐ榭壤㧄Ბ搴版ⴅ⠥惰旭僥₀ലনᨓ淃嬐㏐቗ㄖ⾆䔐䉡䡀Უ䑚֤䊨䑢㬷㊱ᐩ眎歃㻡∦।⭇䈸ૐ䢝⒂⍦㐶䥼䍾栽ᙓ嵑叄╣穠昬嗏猋⼠ㆮ᦭≈⣆㇒ษǶ泪᫶恸愣˪˃㭁ȴ㮀箒♰亂怨䟘ᄥģ䜢༮ƧĀ䜩Ķ䚎ᛌ懸ᳫ䳻๻秂姎⍀湭䇮ᷧ䂛䠽ń祫崓ᘥ㥺ᖓ帨X㬃ɏ䶐ⷳ碾ϘÁ停⠥睏撢ֻ竿䉜傦ർԩ僇突ⴖ弳矡版⇤ῳ獯㎿䘣烋稼估罰ଞೠ⪇ᢴᝊ爠⼛j⯼絴Ɱ䕨戬⁒晐⡅Bࣁቀ恰⍃ᚚˤ戯㚧䴒ïɞ⍉䳇篵⠧畻৒惃偎ᚡ乾䁆ᷓ⬤⎙ީ࡟ဪ⃅壭2঳ļ孇ش⎲歅ᕄ刦⍃户檄恌ሪ䛉ᅹ⦜住潢堅޲ࢭ☡䵢ⅺ冊㫎攕ድ㢌〉㬲᩾ු怢㗆你㙻䆼櫊ରź⩶媡⇔䛧⯦啹盁园⇶⎏䳺ⶢ࣭j䓄䪳පảᖀ㍏⁒⬚檣竘ᷪ篬䑷刻⇌梂屖㢀扦樲䚔Ậ嘱䉄᜸搤珨㔂⠵޼甤屺૘哰⊰༣Ὄ▢敀⑄乤洺䨑߰᥆Ò❅ς‴呄䨰ύ碸淤峺倵寲ア㉾玖幭皳໴喉䙇淌կⰭ䪂浺㌮ဖً㠐ᮆ湥ᨳ⸭≔㉥⁛守䲩箙ဖ䌷䧪ẽ൓ᶺ㮑玲ၬᝫṰݎ喪↝毐䍁程宂ᯋ珞㞒縿斠伋᧠⡝ୀ㵦⸨㩈祁᛬供䷹឵師排᥶᫷嚉羭租㤰ᾆ␚屖⌤㦵奪䝙⌄ຊᖱᦵᇗ佃宰䶎帜縷緈玚⹧ৱ䠫᥷̌వȅ䡠砶஻◨ᡙVኆごըᐫղ≊峌⯃㤆൉ن礬僷ⷁ㒀慸掻⎯᫸ス୩ᮐ妈厞ໆ䡢䃌䴝ᘸ㦓㖤ু㚐䦋፾ർᚮȡ౳⸨㨻ㅆ䝪❂ᮈ盎淩粵剠  "
   },
   "outputs": [
    {
     "data": {
      "application/vnd.jupyter.widget-view+json": {
       "model_id": "def751d603b148d7aea51da19e51539a",
       "version_major": 2,
       "version_minor": 0
      },
      "text/plain": [
       "PersistWidget(data_values=[{'__id_column': '2226', 'Region': 'Salt Lake', 'Month': 1, 'Year': 2023, 'Trigger':…"
      ]
     },
     "metadata": {},
     "output_type": "display_data"
    }
   ],
   "source": [
    "PR.plot.scatterplot(avalanches_1, \"Elevation_feet:Q\", \"Vertical_inches:Q\", df_name=\"avalanches_2\")"
   ]
  },
  {
   "cell_type": "markdown",
   "id": "25d18ce7-e882-4fb4-a3ac-f69423d06bc0",
   "metadata": {},
   "source": [
    "We can also re-execute all cells and get to the same dataset.\n",
    "\n",
    "**Run restart and run all** "
   ]
  },
  {
   "cell_type": "code",
   "execution_count": 36,
   "id": "39a1bdd4-0a15-4f7d-b60d-8c9aa092c232",
   "metadata": {},
   "outputs": [],
   "source": [
    "# avalanches_2.to_csv(\"avalanches_clean.csv\") \n",
    "\n",
    "# here some backup if the cleanup isn't done right \n",
    "# avalanches_2 = pd.read_csv('./avalanches_clean.csv')"
   ]
  },
  {
   "cell_type": "markdown",
   "id": "80bf90f3-de67-49f9-9d18-273c07993016",
   "metadata": {},
   "source": [
    "# A custom Vega-Altair Chart"
   ]
  },
  {
   "cell_type": "code",
   "execution_count": 39,
   "id": "f118bc43-6655-42af-9acc-477e084e1520",
   "metadata": {
    "__GENERATED_DATAFRAMES__": "ᯢ粠 ",
    "__has_persist_output": true,
    "editable": true,
    "slideshow": {
     "slide_type": ""
    },
    "tags": [],
    "trrack_graph": "ᯡ࠽䈌ʀ匦㢠⹰ǣìɐƽᐭ䁍ᴡఢೄါۭЩ捊䄌䈢〪抣䟺熳Q匲⠠䭈⑀棒瀶ᝉ⍪仃஖⹜緰ܩ#℠Ά⦦ࣴ䁅ШǸ〡岁䏼ℭ㞁灠ָ冴)欄䀦橘愥̈䆆᥁ᦿ,愆冒ԩ♈䴄䱞ξ䦯आ⚁塠Ú䍃㏙䤻࢈ᄫዸ惀Ēい॓ҿʢ䎆㇓び䲦{్䲴∦⌤䋮泤ჽ䑐畨ጦ怭㒻ᄥ矣ᔠ彣ሊ紬䡋つ澍恶ㄓ嬠➠ǵ爇犫溜ၑ෠煘搫ᤢh劄妩䂱涚ҥ䣁岊Ҭ䯰奬ೈ↑碔ᬬ慱䤲ắ䁵د尅ፔぶ嘆㥓ظ੃৤ॄ啎䥡ᦌ坏䨵䕒ᓎ⯭傯ᖽ૥煤䕆䥰ᦌ❈∄Ղ䓆⩳䙳ề瀡䬆ᑭ加$቉堮Ό厍搰䄀㡉倡⤤戠᳽榡Ȯᵤऑ恦巧栒Ɂۢᛳ≌᩠倻⢅⬳ţれ⫊۠硈᤻а䢸᳻㔙໎㮺⃠炘ᄴ䃃⣔̩䖂㣼⼿䈰䑭୤欈窝èㄸ㡄ცㆹ暰拹㖉嘱盷゠๧ৱ烘ᙡ㗶矚亦ᰢ↠Â琮䞐㵠⠤ෙ 坐ᴚ㫏伦⸅礜₂盧犣愐吡ʜ到䨐䱡଒ಗ氁␠཭╠䠦Ҭᘊ紣⵬౎』籜‼΀砵ρ↯̰咥⇹㌫䃑Ⅱ◈పᤨ⩍䄈㨬䡓₦ᦧ㱬䡠ᨲğᒡ⅄ᠺ桀䞩̨氶ᐆ⯁瓝࿉塠'ᖈ垰✝嬳䉐\"䠷竟噫Ӏ੬竾䩤⧖᥮纇ᴆ㌈⾪䀢⸒॰ⰣჳఐⅨ⡕堰߶燜⏧焮ᜩ৯ᯯ਀䢬泀ܓࢅ䧣ࡐ'㠠紲ă傘堰ẝሠ惉࿙劬奀㱣ፅ㣕ḷ悐䃅ᒵᆃ亓俀洟ឆ˧ቆ぀䖙恿Ҷ犢ᅵ⑋∪Ⳇ䰃繁宂ⰬՀ摪潀歅ཹ呆槂嬽໹㢺䝰Ⅎ૙⍡̺ࡘ抠ᎂ䡣፴溺㌮ය玜湛䑂刣監岖仄抹历ᶖ滜恸ᰳڀⅯ̢☨́䶄᲋婳⌶䆤˨岟∣勃۰統倳ɰ䝅墔ೢѱ䡬፲䵡墚ມ㉡ཡ卖ۡ䢒㞳ै઩⩡ḹ䭉⩦㦙⏩禄恋喁⩋㕚⃪㨭䯳穡䱓يྡ⡱歓晩枃➕䦛来沓潫仙䐻䊚⽽欢ྃ旚⅛椒఻斍㘧挓Ἲ∃彯濴↌堄䀰䘬屶它Ұत㫎叶狿ᆧ㷰㸬烖吼䊰䧕᫈簎掠甄峦⣴磨琌搟㠾䒡儼¸Ц湔硽竘ၔ㱴㺭Ꮌ穿䮰ၽ焛ᅄ㰵ƨ䡞ಱ໸䑠咄䶡棲ⲫ灢㲱墄䎰㡊ౚᯏ〶Ԕ牅⁑ȱ渹朄⊾ᖛ氱刡繡+㓩嵔㱹坃⭥ݸ否滃᭍۹瑵歰尨⛢坜ね৔扩⓪䇩劺渭ᯐ㵔㌸چ嚉в䈡㿰䶓&剟㬠䕒厐ெڏ⁬敠⳾攡佰䁁僁েᩫ❞孬栮䔈╸攱哑␴ᬦ♓ؼエᠬ䢄ྠ೫8Ҳ㈵ª⬢మӨ䰣㣝ड़倬䀤ᦡ妣䢓ᒡ㶆֬ฯౄ䚔ᝫ瑓୐猿槬➇劎撶㻣᛬ɜⰥµ䈈ᘲ懋⫠残ㇸ綨㡚拘竣㢭䗤䶡焾㇅Ḱϖ涫㘷䨂‱磺৺彋塡㯑繆瓢椇盋桼ᯫ㲼㯀䯒ⓗ▒䆊甎䢹牫殼旻ӻ䑫炭㯙ౄࡈЈ冧ₘ攠⡙䂀ᴊ夶Ⴠ㨧᎚ވ糣øཡ╖昌䡉Τ䯛Ѱᥗ≒㵂 ૆ठॻ僴卫俜掙≯價ቹᖶ姹ᖄ㥁ぺ䵄㏋䭬䞳ჽ䭙ᘀ犋漼幱᲎ㅇ⋌⯥㉵╣ݪ猥y⨡㥣戒倆઴䐌奱峌呙喱ċᕱᙡ牎⨆ந㮕⽱㹽疩涴㹇暝嚪㗰ڈ⬭硈ⶆ⡵Ҍഢ泺ீ∽緖䤣ቊ熐伫烵б樢ᆔ⧠ቊ⊲ễ撑⎪᏷㋾௦⹼䡢ᯪ所⫨ᩧ֜䐣⻆͉啮䢉牐札ጡ഼ह䭝㡐爕ڌ㖼的愾ࢣ翤䳰␦ろ᩠渮䄜ආ挾ᙝ䢠勿妦ᒳ䤩˸䫐㢵䇾᜵圎᳙盫戭厑㊳戎᧔ԙ䄩ᮋ㴁ᴻᅑ流еṻ壴扪筜畩㑵ȸ嘽壌玫㽇ˋ文㊖囪䨮杊牵劲㗒㎫孙ங⑷ᎎ䆌⾙㬀࠭曺祟寊⣅ᢪŰ⪃やⅠ稤巴༰墬䂸ଳ旛⎨漫ဢ㋀冼欃᜽ၣᎭޙޞ稿㛠ኩ噅剻ၵ䅫ୡ綶嚴忚槟ᛴ罄ˀ晭癖ٹ埩稶弛⥳竍㵈浆䙲改ᓼ᥋籞䇙㡤㡈䠒秴હवԶ㡠  "
   },
   "outputs": [
    {
     "data": {
      "application/vnd.jupyter.widget-view+json": {
       "model_id": "3a391033c8c745f88756be14d428aa28",
       "version_major": 2,
       "version_minor": 0
      },
      "text/plain": [
       "PersistWidget(data_values=[{'__id_column': '1', 'Region': 'Salt Lake', 'Month': 11, 'Year': 2010, 'Trigger': '…"
      ]
     },
     "metadata": {},
     "output_type": "display_data"
    }
   ],
   "source": [
    "pts = alt.selection_point(name=\"selector\", fields=['Trigger'])\n",
    "\n",
    "base = alt.Chart(avalanches_2).encode(y=\"count()\")\n",
    "\n",
    "trigger = base.mark_bar().encode(\n",
    "    x=\"Trigger:N\",\n",
    "    color=alt.condition(pts, \"Trigger:N\", alt.value(\"gray\"))\n",
    ").add_params(pts)\n",
    "\n",
    "weak_layer = base.mark_bar().encode(\n",
    "    x=\"Weak Layer:N\",\n",
    "    color=\"Weak Layer:N\",\n",
    "    tooltip=\"count()\"\n",
    ").transform_filter(\n",
    "    pts\n",
    ")\n",
    "\n",
    "chart = alt.hconcat(\n",
    "    trigger, weak_layer\n",
    ").resolve_scale(\n",
    "    color=\"independent\",\n",
    ")\n",
    "\n",
    "PR.PersistChart(chart, data=avalanches_2, df_name=\"avalanches_3\")"
   ]
  },
  {
   "cell_type": "code",
   "execution_count": 41,
   "id": "96693c8a-10b2-4218-9c0f-ac34bcdf1bc6",
   "metadata": {
    "__GENERATED_DATAFRAMES__": "ᯡࡁ䃼恖せƬÐᓠ朣琪愠峀ʀೠᲸƌ⨎੹ૉ䜠㑀ӓ 䁯ᰶ塯+䀳䁋䔠⾤倠 ",
    "__has_persist_output": true,
    "editable": true,
    "slideshow": {
     "slide_type": ""
    },
    "tags": [],
    "trrack_graph": "ᯡ࠽䈌ʀ匦㢠⹰Ǡଡ䲸ᣠ⎌׀۠Ʒथ埠ᦡ嶒䁛¡ٱ冦௷ⲛ॰䥠ɺفݥ䆯჉㥪᪔ඹ墒爇恄-Рණ⸸㵨‡ᑀ‡㤉Ơ܃ئ籥痻氠ᛢ竀řᲰú႖ॖপ*恀ɐёᐠ⚉ĪҤ䑠․犄ばԸ⌦ࠠ᝷⟀癒₲痐Ō⬸ᐠṬҫಅ䔱≩ㆸ䘬ٌ㝠ஃˑㄨ䁸悰䧋イ᷑о⤥扸Ǎ⍌㽍炉‷毇屾僓ヌ࣋痘ˬ᪊怩瀠㩟䓜ヸⷷ䑐姫㏸ⰳᤢʩ⚘䌣Ťヌ䥋।䥪ࢋ⃑䶌之䰀桔ै惠栴ᛢ篝⚚䮤梠䜺㝦ࡥಈ乀䭅⦔千䨄Դࣃ´您㱯♤㆘䨨䨂沬䭋䤱祢壈ၵڊ屠ȩ⁰ 䘡䀠睍㬨棠Я暙㔠㤼ף䆶⮍䕴͞捹冈秜张⋑Ҩ溺ޢ䒂樱නㅈ㻓ʧ疂ȴ↦僂ḫʡ䀤Ⓓ⯅㴖✫䅄悐籑٠僈汍རㅸ癇෥爘╨Ů᭺ᗇⷵ疦ᑏ⩣ె⦸᭗䴺●廔汀ᶾ悕屮ᦿ五巎䏎䜥ࢀH䞭磎惈Ȫ岠wᠠ籛栗㇉玘㹀ຊ挑ŀ灴¢廆u灓ク㚑唑☠߅ኟ䐦ʚᤓ幦䧇㫯᪶梏䐗ࡿ䠓į倯ࡠ∵栰⨭ᣘᙆ摼ႃℑ垡䂴֥䒴㭂䑈ጰ怤嬢႘ᩧ⊬Ī⇆ජ㘸㠮⺃娔䄿ᮯࣜ㛣䃸Ḗ䆎峷䆕๨笂ᛱㄖ巁匋ఁ粟2墆ئ僆ቢᛒᓐ⠵䥦囊໐梭䄯桵ᐵ䔓忲Ⴁ圦ؤᑗڱ參ⓑ幔⛩䌃☹媄ੀ෨祾⟨䚈੐ֈ๐♩䕓հፖ⩦ᐱ:孵樦帔Ⳬ᫲炞ས㱶䭲堰ჲ⦶䛳娮䧴㡎姐㖾䟧碡ᖆ㛘ভ䑩ả└ᤳ⃴ᣕ惹ࣰႬ֢೽Ճ瓡䭗廙巎બ呱㊲傧㉒䮰⪜䧑㙭ැ瑽߁ჽ孂ඈ῔䳳ᢖ壃如ẳ媗氷唄⻢̂屗ඃ⸻宖僛䜅ć圅棇娻ⲷ䈁庄屠㹯圩㻋౩È㌇℠⁪岃䠪䥒㡯戂ᣊेᬸ䨟䫤慀ࠬ৫ࠪ吏⌹৆᳌啼␧㺿䘦纘盧煸✯ŀ䊸汼ॆ扈ຎ兑ദ撈ਣ⓲᥾惽Ⴏܘਡჴ䭬磿᠇糮êᨂӮ䣥乣ᚪ૑⣕嵠㙺Ẕ咮ᐲ┓䶪瓣㜥ෘ᲌䶤᪍专ㆊძㄲ䐱Ⱨ疣⁚݁檉䴱剞ೱ挡ⶑ筍⪙㍱欚䭷㎀᫷㱌ஆ嗕㻍䈒㫵⨊ㇵ森彑䇆幪痾埉Ӵત峱絾烥匣یᾥ倽冠ㅈਦ恱ᝃⵙ䟷曱⡑ځ幌║奊։㑏⚹⏠㔇ⷄ嶽䜊ᅩፂ䒯ゕOↂॐ掆泛ᰋ仟⦔ͧ嶕䂀愭匾෶ฺ༷碠ᘂ剐┢匦䚠⧭⾿䶰䜹ֺફŒ愶㌠㚊硅⻱ᳺⵋ䄀槒ثフ縬ࢆ恁ᚘ➙ㆣøᒡ扝ਧӵ怨慠ɣࡄൠ傭ãਣ⛁夼㇕᭽ზ䍌㊥䮌晾⇫ዓᐭ㇈㶄桡Ė❄䀸ཙ緣䉸䥃߈㣂㤔屾ந⺣ỹݜ௩㰥Ś璀砸欢ᣑ瓤匵Ḷ᭝珱㴭彚狞⬷ᅳ惑撎垧瀠䊈㗮呛个ᯓ⦠ஓ塖垎仇⡾䏵㺤ǡ専ᠱʅĠ恵ぶฯჹѡᰮ䃰֡ሲℲ⪀屘睸ᘇ䴄䁕绤㑰ಊ⠱䞧ڐⵌ熮嗇⣇泱柱[ᬋؽॄ㩧徇厸埏䄿⼜㎧琷࠙睐᩠桑湿矼瀵妀ᛒ偔①ᘦ凃⏃ⓕɀ䛦岉∔棭䳨䵹䳛䦽燠ᡨ䓞〶ᑆ䅂椒㑉夈㓡∢⣀ଡ琨所爦≤䣠ᐻም䂡⁕8碃ڐ㒀䳪ᆉṃ替Ⓞ㫸摬䂶㲬㭅৒垆儮⨍⪭㎣ぎ⠄慪ቪЄ䑾⦴⮠商匊┠᪜㪸㙮㋜乤㙼⦼厱峒及㛄ↀ哐ẗ栵◪,噐巬桺䀡㋫ì媠I焦唊䢈Eᗈ婪䦊嗦眬丨ဢ…ጸ〶ဵ䘡Ⲛ堨憳偩勨∦恙欱吩䂲߃ឦ氆ί棣ാఢㆳ溃ᴫ抌㟧ᬨ摽㣪嵎扂沥ㄯ∡挩璧ƇΊ櫟⟰罹恦瀏竫䐬眧㏡侅↡暠娀盤㛜ᠻ㲐ᦒ࡚犰㠆傈恠⎢僇仡ᾲ䈗ᾭ呋րイ㹽哸⤭༙檽⁾祜⮲␥£じ晱Ƅᨢ≤䆀ሥ疴ݤⰱ䄸ո⍴⏈戳ᄑᓴ淵䉀勛匿⮼ጩɜ⎈ⱡు噘ෲ䆔滕௉䳠֣䙎盺敢岓▽ṉ綠喥眼棠䐵ㆩ熠ェ晻ۀ愬ばЭ‬䙈瓣羕ׄ焀ᜠđኞ漰䷤㙋听䂖兠搭቉⌼㇣㻱溣ㆄ曘ࠁ䞮Ŝ#疷㬇▾䣠ᾠ䅎Ẍᎃ判妍削Ⅹ㻸Ⳃ䝹௕⤛ჱ⾄䁱མ⻊ý⏴࠷嗯┧ᓪ怭戬ඝػ壒ᬌ㓢洝亚矉㧟ⷠ睔ข䘇懒ᬜ㓡唼ώেᝆ畊⍳曯Ɗ曋⦍ԯ亶匱䰥త֎撾Ⓣᧇ嵧梽ⱓ倢篭ᩡ䊅㔒֎䒜ၠࢴ᧰ᜡ㢝İᒍ⼱⪅ᙱᕥᇫ╖⮙㹴հ圬故ഖ旭ᯃ㺒沴獌婧অ⭪暟ᶏⲦ毹⶿繻䯒箽媯ऄ⁩权ḇ䄁ᄽ㧸⬳僚佊⚄繮悄ห㤌仌᪆᱐ई㠓徙瞠帮ᄇ洣叺细ㄥ࢚䄴ሮ䯟実㗳殧凣圍縌ᘥ⦍̈墛壀䄐ᑖ⡀坂㋊ၺ̥Ⱒ惹৉ᣎᴁ籮びᣮ䩝匤帰ⓙዲ⊭䡉㌴䴿惍嗉ݗ玷珐㶫暺➫媏▔碷瓽容ʪ妇ㅱ㭎瘵ৃࠨ䅼僕欇ٕ䊧其ђ㣡此׶㶗Ě濯䐭⸦ᑧ嗔挒⨪㟍㆏⇊滈۽笌⾨⛍施⿃伬㗑ֶᠪ橪曶⁺瑚啻疌ˀ没䁩ຸՀ㕑չ⡋扦⟸ٯ宏⊢ӳ凟杽⚨ᳳ䴚殿竻㤓䣚෱㋊松㙏劄澴≂ਣⷧ睍㟎᳚ൻ⭂ˮᾎ㚓㐠䧼䍰䄍墅淧ᒬ総侎焤आ癝俹䈉榙ൊጯク億ֱ楮垎⸣籟⃌㷁岟珙ᗣ⨂ᢸ匀ᑆ冻嗙⌄哘喎⧲ଚ媄懎綠䐚琓纡唠扐⒦栦@梞౓焫Რ䘮㱗忒඗ڦ⚖d䱩䭴⏍攨汦匥ᇙගզⲷၢ㥣樈♕敋ඔຒဤ燎ᗯ揦栭䁰䵤ⶡ␭䆰ॾ歆Փ῞෡ഀ啗⦻ϔ䚌禒ኡサ杂ބ夳妴⮄㞅㻃䥌梠䘥笪㳳憾⊤ᓍ疓梀ׂᎺ姞Ѹ化ે愔Ếਤᢖ㵵䠼匨ឥ䎫搸㨅堡䂒䜶互◖⸂Ⲋ戴旍㢒淊浠ᖱⷍ⻴ᢲ眺╊毼㬡䵓ↁ༴⸷䔰棒पക䑁⒆䥮僡㪴懫恖ސᯓ岭朎曓ᮻⵍ涎䘥疩礆涺ল瘭砿ⰸ缑䱀絖旒刑涨䴖怬⨑̬絻⪖稗ᶲ絎拞倦゚綧⧞ߖΩ紤἖绰揖紱栖簬㰶捶ᖮ吪徠℮ሡ濷徶掯斮䕕ࡼ⏱悡㾶岙抹䞞⺇ࡗ㱆䍲䱦怪₼᫤Ს䀼姟欰煤ハв䚠Ⱆ㏟˹渡っয়䈨⤢库帻攥槼敃䟈嶱ᜒ咂瀩ӄᗆ᤬䢵娄᪄㉲⢑䷵曁ᩰ姊偰མ⽵織⃘੮竖┤㕸๲ਣ摡㑸䏠刢␣秡¼晭⑻ᐁ⦱⹩撏ᐒ၉⊮ગ䋵⪀ℐ䑾啀ᲊ㐢斱ǃ撲夗ҝ吲ᏼ䲰ㅃĘ◜┤ቄ㇁ം∦い楣ⶰ᪶㑏Ɛ࿶外⟔樔ᄁⴖᡫ䐓溁⌒塷䎆櫸ㆳ㑲汨Ҫ㐤し⊿䑞斲中㓶⅞ᆪ㚸掮慑㨑Â籠⏺样䲛ಀ斒畖ⱷ況斮᧲屭籾᪞㉡⎼㵏捹s噻揅䪚ʥ☷ל䋌ὲ䁖ↈޔᠠ⭂祎Ԡ㘢琿ґ⤑ᦡ悒ˠᾦ倥傊怾䞜∧䁰̘ᔒ掬㚁吐ᴩ积炟泰ἑ∭ḩϤ١੔偭ගݦ䠫偼恸曦㺕゚愈⏦㗮栦玤毡㖮䦰䎎ạㄪ㐺䱿ѩ籵䡹ኍ䂆ᖐ助䱕滁婱毖∇ډ୭祝ǍႴ孮灝叜䡤樦㪚㵱⣱ᬨ䠲ᕐ儸汋䊭楈侥ݪᅩ୽ṥē攲ጢᎩ捴糘ⓠʈ傫啞犕┱拗檌⏪昀䒮࿚棪Ჱᙫ⒛Ꮕᶱṫ䑜匪ᑉ⦣ٹ砶榜㔓摦⇒༹庩㽟⏖歺↫⚃㔟䋺‷泔搓ᛘ㦫᳑㌶ᙹ∪澹掐ố愫ሡ捋᝹ᏩᲖ扯沑罉濎΁歙䲓嚐௾ᇴ↖֓掐ỹ㯦ᅌダରࣧ☹䌣પᲢᐢ姃ዠ䈁䈠䆂༉翪嚞粰懮䓖⊉ᤙ溩ӌ抐巑Ễ嬣抄Ӟ⿥橤䅼嵩ំ੬᧊屴ᕪ㍒毆䍵༰婡捅䈓ଥ斗ዒ䍉⪆䶕ᵑ焜݅౎琶બݥ㱍سઽጉ㉌啰  "
   },
   "outputs": [
    {
     "data": {
      "application/vnd.jupyter.widget-view+json": {
       "model_id": "09eb5c0416bf428ebe8154d4b3c7a637",
       "version_major": 2,
       "version_minor": 0
      },
      "text/plain": [
       "PersistWidget(data_values=[{'__id_column': '1', 'Region': 'Salt Lake', 'Month': 12, 'Year': 2013, 'Trigger': '…"
      ]
     },
     "metadata": {},
     "output_type": "display_data"
    }
   ],
   "source": [
    "select = alt.selection_interval(name=\"selector\", encodings=[\"x\"])\n",
    "\n",
    "chart = alt.Chart(avalanches_3, height=400, width=500).mark_bar(tooltip=True).encode(\n",
    "    x=alt.X(\"Month:N\").sort([10, 11, 12, 1, 2, 3, 4, 5, 6, 7, 8 ,9]),\n",
    "    y=\"count()\",\n",
    "    opacity=alt.condition(select, alt.value(1), alt.value(0.2)),\n",
    ").add_params(select)\n",
    "\n",
    "PR.PersistChart(chart, data=avalanches_3, df_name=\"avalanches_4\")"
   ]
  },
  {
   "cell_type": "code",
   "execution_count": 43,
   "id": "e18ac1e8-bc07-4c81-ab26-dc0ae4a7bdda",
   "metadata": {
    "editable": true,
    "slideshow": {
     "slide_type": ""
    },
    "tags": []
   },
   "outputs": [
    {
     "data": {
      "text/html": [
       "<div>\n",
       "<style scoped>\n",
       "    .dataframe tbody tr th:only-of-type {\n",
       "        vertical-align: middle;\n",
       "    }\n",
       "\n",
       "    .dataframe tbody tr th {\n",
       "        vertical-align: top;\n",
       "    }\n",
       "\n",
       "    .dataframe thead th {\n",
       "        text-align: right;\n",
       "    }\n",
       "</style>\n",
       "<table border=\"1\" class=\"dataframe\">\n",
       "  <thead>\n",
       "    <tr style=\"text-align: right;\">\n",
       "      <th></th>\n",
       "      <th>season</th>\n",
       "      <th>Region</th>\n",
       "      <th>Month</th>\n",
       "      <th>Year</th>\n",
       "      <th>Trigger</th>\n",
       "      <th>Weak Layer</th>\n",
       "      <th>Depth_inches</th>\n",
       "      <th>Vertical_inches</th>\n",
       "      <th>Aspect</th>\n",
       "      <th>Elevation_feet</th>\n",
       "      <th>Coordinates</th>\n",
       "      <th>Comments 1</th>\n",
       "    </tr>\n",
       "  </thead>\n",
       "  <tbody>\n",
       "    <tr>\n",
       "      <th>0</th>\n",
       "      <td>early</td>\n",
       "      <td>Salt Lake</td>\n",
       "      <td>12</td>\n",
       "      <td>2013</td>\n",
       "      <td>Snow Bike</td>\n",
       "      <td>Ground Interface</td>\n",
       "      <td>6</td>\n",
       "      <td>360</td>\n",
       "      <td>Southwest</td>\n",
       "      <td>5100</td>\n",
       "      <td>40.572646000000, -111.832700000000</td>\n",
       "      <td>Soft slab failed on pollution layer / fertiliz...</td>\n",
       "    </tr>\n",
       "    <tr>\n",
       "      <th>1</th>\n",
       "      <td>peak</td>\n",
       "      <td>Salt Lake</td>\n",
       "      <td>3</td>\n",
       "      <td>2011</td>\n",
       "      <td>Unknown</td>\n",
       "      <td>Ground Interface</td>\n",
       "      <td>16</td>\n",
       "      <td>1080</td>\n",
       "      <td>West</td>\n",
       "      <td>5100</td>\n",
       "      <td>40.593100000000, -111.805115000000</td>\n",
       "      <td>missing out today watching kid as wife got som...</td>\n",
       "    </tr>\n",
       "    <tr>\n",
       "      <th>2</th>\n",
       "      <td>peak</td>\n",
       "      <td>Salt Lake</td>\n",
       "      <td>2</td>\n",
       "      <td>2010</td>\n",
       "      <td>Unknown</td>\n",
       "      <td>Unknown</td>\n",
       "      <td>18</td>\n",
       "      <td>720</td>\n",
       "      <td>North</td>\n",
       "      <td>5600</td>\n",
       "      <td>0.000000000000, 0.000000000000</td>\n",
       "      <td>Driving home along Vista View Drive in Salt la...</td>\n",
       "    </tr>\n",
       "    <tr>\n",
       "      <th>3</th>\n",
       "      <td>peak</td>\n",
       "      <td>Logan</td>\n",
       "      <td>1</td>\n",
       "      <td>2016</td>\n",
       "      <td>Snowshoer</td>\n",
       "      <td>New Snow/Old Snow Interface</td>\n",
       "      <td>14</td>\n",
       "      <td>600</td>\n",
       "      <td>Northwest</td>\n",
       "      <td>5600</td>\n",
       "      <td>41.728714699372, -111.788249053320</td>\n",
       "      <td>Unsure about the story here..  Looks like a sn...</td>\n",
       "    </tr>\n",
       "    <tr>\n",
       "      <th>4</th>\n",
       "      <td>peak</td>\n",
       "      <td>Ogden</td>\n",
       "      <td>1</td>\n",
       "      <td>2010</td>\n",
       "      <td>Unknown</td>\n",
       "      <td>Unknown</td>\n",
       "      <td>10</td>\n",
       "      <td>120</td>\n",
       "      <td>Unknown</td>\n",
       "      <td>5800</td>\n",
       "      <td>0.000000000000, 0.000000000000</td>\n",
       "      <td>Then went for a tour above Nordic Valley in th...</td>\n",
       "    </tr>\n",
       "  </tbody>\n",
       "</table>\n",
       "</div>"
      ],
      "text/plain": [
       "  season     Region  Month  Year    Trigger                   Weak Layer  \\\n",
       "0  early  Salt Lake     12  2013  Snow Bike             Ground Interface   \n",
       "1   peak  Salt Lake      3  2011    Unknown             Ground Interface   \n",
       "2   peak  Salt Lake      2  2010    Unknown                      Unknown   \n",
       "3   peak      Logan      1  2016  Snowshoer  New Snow/Old Snow Interface   \n",
       "4   peak      Ogden      1  2010    Unknown                      Unknown   \n",
       "\n",
       "  Depth_inches  Vertical_inches     Aspect  Elevation_feet  \\\n",
       "0            6              360  Southwest            5100   \n",
       "1           16             1080       West            5100   \n",
       "2           18              720      North            5600   \n",
       "3           14              600  Northwest            5600   \n",
       "4           10              120    Unknown            5800   \n",
       "\n",
       "                          Coordinates  \\\n",
       "0  40.572646000000, -111.832700000000   \n",
       "1  40.593100000000, -111.805115000000   \n",
       "2      0.000000000000, 0.000000000000   \n",
       "3  41.728714699372, -111.788249053320   \n",
       "4      0.000000000000, 0.000000000000   \n",
       "\n",
       "                                          Comments 1  \n",
       "0  Soft slab failed on pollution layer / fertiliz...  \n",
       "1  missing out today watching kid as wife got som...  \n",
       "2  Driving home along Vista View Drive in Salt la...  \n",
       "3  Unsure about the story here..  Looks like a sn...  \n",
       "4  Then went for a tour above Nordic Valley in th...  "
      ]
     },
     "execution_count": 43,
     "metadata": {},
     "output_type": "execute_result"
    }
   ],
   "source": [
    "avalanches_4.head()"
   ]
  },
  {
   "cell_type": "code",
   "execution_count": 45,
   "id": "81913ae2-0ef2-473c-8646-bfee6606fc65",
   "metadata": {
    "__GENERATED_DATAFRAMES__": "ᯡࡁ䃼恖せƬÐᓠ朰תl݆͐{੻䊶⋈〦䈠䭔¨ԓ䉣Ӑ̀ৠᗥO塰  ",
    "__has_persist_output": true,
    "trrack_graph": "ᯡ࠽䈌ʀ匦㢠⹰Ҁ⬠᱈Ꭰ映塰ୡ䁓ᨢ᢯攠☸䓁䴡䙄堽俖౸ۡ䭴弲⠠䭈⑁棑爱ᝅ⍾凓᭾⹝紧Ҡǁ#〨ㅣࢊ′䈤7㺰ᠠ湐戎Ⴆ寐狠ˬリ$疒‣㗄粜ઃ㽍ࢥ䋤曃⃡傩場岃ᄥྶ䑏䟣ₐ怠సވ妪ڻº䮂ᗂ灓㠴剂☹㼬唭䟡㐂桰†崣⇓峩ٰㆁܺ沀倠祐ሥίᚦ⣂ᘅ䯐ؠ嬸ⷑ呤ಆҠ廹䑀ᮨォ璭䀺抜㈨羥䘠弣ࠀ窱ㅻĢ秜炛䘥㫸o!木礜ᠫȒ≀ㄻ䄂㦬୒Ƞ䣄ਹ⮣⓲㸱ୠ僰磞஥慚挪潰凐㊪і൪籅₄≱⤢挢ⴁt傁⃂ᢼ₲⑐ᒺ↲撒㲡ⱆᕪવ橨禅棌⾴⮲拊妶斒糁⏏ᔥ⍉䍐砠斓̼奠\"4═ሾ➠࿊⃡枏‡⍋㷖л淠۸2䟆稠㔸ࡀ磑Ԁ眾䗠凼Ã෧庪̦⭶斄懭ᨂṘϲ揹玟၂ଡ଼ᅈ֫⌹岬᥻䈐ⱒ䕋洱䙼ᮄ↵बἦހᰶ㚮ᠸ䢿嗮獩ᠼ¬↱ᒊຠ慑Ⲗ፫怩Կᆅ矍ᮍ侫姁㜂弪㮽គ✇㥌䞻姜ᐳ玜徿焢殻ᦨふ婢垠懠द̚刬ᯡ⮪`羠怠坐ඦ⃄ᬫ憄⪨䁍殁粜⡫䉰ġᅉȱᄳˡ慭擒籉#榥ܲ)↧䉈玅᥻ࠤи匱灸嬰ወ眱炘楀イ䢵ᆬÃ⃀ヤ⃲㸡恲ᡈ愈㸫䣧ܪ⇐ᵃƘ⤩ጔ㒹勀⒩掌ኲ窰ኜ嗯疼′ೣ㧮आ⊍怠ᴾ⛠栺8ᰦĀ簻擬ゎ㑑禸э愩㗀敄ⷁ㆓ᗠᡍ兼必㇌敀ኲ⁃঒溅ଃ㱸ِ杍ำ≫㎬䅃互ṑ䖒โ丂イĩᵦ䦙‡଱㮿䀨偐㔭ㅙ昬Ⱔز✸ج⣑䐘ى̱昴c⁑浚删Ⱜ䂈㜬涨Б羫儠'䇧煶Έ·あ䢉❓春埧䁞១㵤䐠⊿㲮素丁礨ⱇթ婋烑㹌ᥩ╋梁ૉ嚚཈ᕥ◆㊅⃀喃ဴɮ㻉䧷ᢏ㦾➩⁡༫䃞ᡒ綊ザ䵄䷢晢㉫㴈匶拘囤塐Ǭᬛ乢Ẫᔑ⠷嵤烼ܑ桂ਨَ䊢䇝忔໣咗໥ኖ仓庑カ妕⻄ᶖሦ䐤ᬣ䦡ᮃ䊓ザ檦寖磡⺋䇡ᢆਾ䭇ȡ㡞䱬穋᯷䵐Ԁ…Ǖ滧ユⲝ㷒⵽屁Eਣᒈࣇᥣ厶倸ʦအ祎傴侢䀤Ρ⃶㋃㱻䯕湦幵᪩ᳵ┉૰櫖孱ᐮ弗ય娂汛ࣟ攑➦縷ଇ纖ࡎŒ䰩粟ਲ䅀嘯Ȩ㨱ↈ⌨䉸✪䌘ガ忏਩䈲䲩ਾ઩凜梳У␡б旡്㥩妧ᦓ៳唦喲䔉ส•幼㕆䰤᦯祠耐祶垊䥧✀ḝ၏綹垩粢ݑథㅕ兡ᚃ暢⟬ᑽᵓ䠉ぼ䪰帮⥵ᓁ⻅ၐQ␫Ǹ䍀恟㍰ܡ⠬ʠ匤⃘ߑ䥠℘Ԣ桏ǰ䍒െ唺故ȱⶨӆ䊨‾௸ɗ㘬⋤ᱦ烲歌箶ℯŠ佒䎾᪢席㛰㯣図ѩ㐪Ы䣘䮩ɷ㵠੊犼ᗣ⑬䌠෩屻䞣畄䂘ޮᝂ䜑猇燵栲痤ጻ僫䊃傧⯷㪑ጔ㽠ഋ澔ᆲ᥋֑偌㏦ⴧ恞Ѫ員䱹䐭ᥤ฀ੑ㡙➶Ⰴ做慮ᜨ汀̼ቻᵛᑀ帨Đਡ䑺䟈䨧怬౑堨禂参瀪̀ଦ悑⋉䒩㤍淘絕涭䱦䶷奮അ笥扼ᬄ༓Ę⬩礰ښ弼笀㆐悃䄠㎬废䮐毨ᡗ帀‷掏ㄶ䅰⑞屏楇溥Ẳॠࢩ⾨1㱋弲ᒞ扥穏擐濵䐈庹࢏筠権⣕ഔ䴸ℰባ汬䎘䊥粳ㄕ㲪ცⱅᚂ憔刡㐪攦ᚢ怱ㆢඊЀ櫥ᱩ⇩㐭ŨԢ攫pӋ⁦ⰺ⚌橤嘄繽緆吠滁⒥㮧捗䬀䣇૩⢄ᰨ峪ᅉ琵⓴䘤䕃䛠᪳椄佩㣤ġ䱠㊶⤅௣㓨垈⎭夛ű礷ĔᏄ⠿回Ⰳᕾ䍊ਫ⪸Ⴣ䫙⋜䷈㪦垕⹨䵥Ⲇ┳Ŝ✣㹪䎑⺈ᚧ㍍⫷ㅻú⷇䉛ⰹ抨ᄬعຩ樤㧵絖檩ိ喟ᑳཹ疎ᘈ㺰凣ޤ堿吚滾疾峳䧩瑁䢕↫㒠ٌ砱ロ撊⦦岊簴毭㋷ⶂ⧺瘠㫓⿠松簳ر懒᯿ጡ瞐㑰ấ笟⥼ਤഴ殡員෩㝗⦀ߓ❖獘ロ⤩ᙢ来穁㬬≸䱬奨ಠẙٜ┦㳊ঘᨡ掏ᝣᱫ䄲⸢䆑䲹渥梙ݒ䕱㍅ⱦ嚚暌惥晨䪰扚ツ㍒ᒁ㉨঄棺撌熢泦Ჸ来ؠ౅ᡟจ͏琇㕙␴侣ຑ೤ᚊ伅ၑᘂ旷捋䥆毐⚤穭㜩炴㖭ṏ䍲岡殸ᚡ៏犠⬗屭ࡥ偈؀⏜⣔ਯ匨ᆒૠ⨑䊫炥⑻㻔濳⑽૧╷㆐壭Ṉ䂢⠣堻橐Ϥ攧᪰㜤啫ᤙ༱伀㛪傀䂟庶ⳟˈ➪筽權婾ᄙၫᕄ欌唠堪ǖܠቐ䗬䕢᥁栀⺠湶⦠䌻䦐Δ愘嬸哐⇙パᑔ噖ᆦ櫺礼㜮☫䕀㸢䆊䆠媯栭Ʃ吸兺༠㨷ⅶ⽧瑡䘸冤盽嗖㮞偸ᇀ໫⇔৾璓堸↢ᣡ汆刧ᎃ䟰⬐⡝ᒆ䒒⃉ૢᱽᚹ㦉吒旆⌭䨨ؠ䏌䚨⇭榮௳㮾⚦㡁ᓨtㆦࡪ睒㣍ᗴಳ䘣䅏ᮌᙬð⻠纮üᕓ岨㽍ᙕ޵囦ㄚ妈ู࠻䲾㮺㎙јк墘̠泪礜䎺㰨⺓ⁱ˛氨のׯ寭ⅹ竢䯖؋癥ა绫Ԝᑵ緘帚熝ӵ挬斺ⴣ嘿朒㑷㜊䪸⯩妑㒘㎖ࣹ䤁⧥Éൠᒼ㥬ೃ戫ʰὥຂ䙐㸢᱙壂疝⪽由㕡☖啹㲈䉘䣀畧͘栯⃱瞂⋀䁲᳋⁴傉ཷ䯾嘰䤖⌝㽋娵⚾樉ឱ擌孻ᅵ為忹ṝ枩危㗐絊曞吝∟㟪⡺婄嫠Ẋ䕙㓍᰷⵭固巏媧⧻❣嫇㬊㐅ⱝ㡔䍉Ľ嗱ଳ坵ࠃ憁毴ૹ絎咡⻕槟䒅⇨殿堿ᾥ⼠槫幯ᝏ⮛篯ಈ爏ⅲ⮢⪚ʏⷈ䬲弍焏ည榰㻩埭ါö䫾瀶⚓ֺڂ扑ⓒ䱣乓㑶㖫僵ⴖ့ᛒᲨ悋゙ᐱ৤伛̈ᨠ⧻䃕曇ⵘ瀬悬珸ᛡᣣ惬఑ᥛ塘䂼ৄ㜥堮亜ਯ¤姨⛁抰ᢺ᭲♝∢಻㇮☬叧⺒䙴呬ƀ㍀椦¢አ㔣Ш摒ᙎᄣ⏮⡢Ȉ㸡硵丽枇ޡ滮傛㊈⇺廳儏㐈⟹⻨晳暜㣘〲⺙Ѭⳛ㹠ҟቷᜒ嗽望擷ሑႧ⼞㙄ᇚ෸᜗挫⠡坢溽⛗∨灤嚓牫੻⫾ᛣ盫Й杺凨ᗈ她Ƿ㑵㖗㍉櫫漃瑇ᝀ䜲尬᳨ͩ㡺憦❒⺂戵䂅Ѐ⤢晡搤ദ㣻ࡊ㜆ᙣ㤥僥Ⲗዣഥᱵ㜘㉠ᮨర懜Ő纳䱒憦⒀Ӌ䲾懱Ґ兠屆癲٘熤䜬煜僘疧⹎懳௘璘ṝ㡪໩ཱ掵初劬㹱瀢໥拸ᵫ橞๥䅉㓦瘿È猀൘⠳໒タ⟀ᓸ㋽䌹㕙ካ½Јᥡ晭㒡狌ᄢ璸悏ვἣ揬䃎௹⼀䑔二ऀ啘槦⇜ࢇ㲧᧤ᇂ猨䂠≗僅Ⓦ౥泾⼋恨䮻ŭ⸾㕨䑈糵Ӱ匓᱈෱੗愥৛只绯撫◘煦ᙸᆿઈ୲凉㌣ㅂ䭥㹫⍿᫳⭳㺕囿㣂矪㨧猍ሚʫệ瞌㨘㰲缏璽㟇濶廓偤琙䀵璏盟⣹ᆼႁҤ渣冷儓揰ౄ㠮檆厏㖛䁝঴ڪ㛡ኸ弄䊙㸣⊯ㄏ䂵ဋ⟽Ǌ園୧࿸ແ⇔犆௭᧳ঠ嚄獑ǵ矌床᭎儱俏ᐛ孜奈䫌䯈恋ウ≌䴒䭕Ǒ㛡❧߻刜擏⏹฽ဣ䏸㔢㥻氵ᯪỹ䤈䱨୘ᙖسㅀ瓹噊戻ง⋻ヶ䆘㆔ℸ఻d䱪஑朰尴䨁ჳ⥖䨔乪ፆ於⃽圜扲罔䤠⻀╇Ü㣀⬄㠴С摠䪦㿺嬴्䮈䡛⌢໥ڧ㵫劬㤨狌┠凼塻ߪୡㅛ⅘䰹̊ᓠ䤸<㸡夼䨚∺ᆱᤸ京ِ਀㨽䐢ײጢ晥䧊ㄐ௦乌愿੼◤汆營வ㿧᱐९◙স䕂⼉丵㆘㹧碒玨掻ᓹ⻎ㄥ੧䅻⻞㝴囚㕐ᙚ䱴廅䷪⁥૗⧆䩍㧓瑫ӳዬ偭䬊ᰠ碢䂁⡿∡⣒增垪ഃ㠣廸Ĉ浻߰婉㘪䢲䋜ᗶ䭯㐃棖䄙牊 槹ᖖ烔婵ˉഉ⣀⑴䣀吵珬楷巯斶䠪穵⫈ᕙ⯅ᥡ᫜冊卋㱆ଢᕖ䯂冐૆撶ㅊ抉ᥥᕍ⤼礵懨㕽⼗㑷恎ᖺѪ潴叹姞䥟㧣ۗᖨϊ䠧筋㗭ଊ㥻烟婵৔佷⛂䫓⣔䜄⢯偖悕☀♩ဢᄱ٠ᵵ停噐ݣ䤱屰ߨ⣺ࡎڳ㍑ሸᖱ祜灻㔦㖷㈔࿸凵₣䕝܂䌣䔥嚕搲䨣ӊ䃂⤩オࠬ唚亖ٕ㣜僸氂幖㨠䵂ⵀᢶ䧒┢⋩ᢑ䩚᱀䨔ʑᎾ塬ⴍڑ㌯ਘ砙ᮥ穦פ䰜奆Á䃨⧄圵䃑䤸⨴溴ṥ礚⣈ታ⳸敿ᚴ妶ᗩ暩ஓࡸ泋曪㕴徸㕟⻮⩗ṥ兠儱㔒䧆㾥㧥㏋☤䁮೎燈䭷柷浭ঊ椚ᩃᘶ䡁㷶坑瘙因佤桤ⶇ⦊珵␷壄Āᧈ绀䴢䅨㴃㱿ᑤʨਣ♗M㎾㳦⏜標啱㪫扆樕◱㡖ᙈ䈐㚦杚曢䆻ఇዺ׮䇚扄ᨣ┻籖̎ᮗ噞൴໸剖琾゘∨಴䀪䵸渂湔Ӂ䶤淨㍔䧂☄沲ဠ "
   },
   "outputs": [
    {
     "data": {
      "application/vnd.jupyter.widget-view+json": {
       "model_id": "d3ad3367212e4e22a9dfdd86d326f7a2",
       "version_major": 2,
       "version_minor": 0
      },
      "text/plain": [
       "PersistWidget(data_values=[{'__id_column': '1', 'season': 'early', 'Region': 'Salt Lake', 'Month': 12, 'Year':…"
      ]
     },
     "metadata": {},
     "output_type": "display_data"
    }
   ],
   "source": [
    "PR.plot.scatterplot(avalanches_4, \"Elevation_feet:Q\", \"Vertical_inches:Q\", \"season:N\", column=\"season:N\", df_name=\"avalanches\", width=300)"
   ]
  }
 ],
 "metadata": {
  "__persist_keys_record": [
   "__GENERATED_DATAFRAMES__",
   "__persist_nb_uuid__",
   "trrack_graph"
  ],
  "__persist_nb_uuid__": "877c0b64-4b3d-4dc4-aaca-6e0926eba22d",
  "kernelspec": {
   "display_name": "Python 3 (ipykernel)",
   "language": "python",
   "name": "python3"
  },
  "language_info": {
   "codemirror_mode": {
    "name": "ipython",
    "version": 3
   },
   "file_extension": ".py",
   "mimetype": "text/x-python",
   "name": "python",
   "nbconvert_exporter": "python",
   "pygments_lexer": "ipython3",
   "version": "3.11.7"
  }
 },
 "nbformat": 4,
 "nbformat_minor": 5
}
