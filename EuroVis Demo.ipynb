{
 "cells": [
  {
   "cell_type": "markdown",
   "id": "f4367b92-af09-495f-88fa-79bfe395e9de",
   "metadata": {},
   "source": [
    "# EuroVis Demo"
   ]
  },
  {
   "cell_type": "code",
   "execution_count": 2,
   "id": "4a7a831c-74d0-4a6e-bb67-fc6833b9fc5e",
   "metadata": {},
   "outputs": [],
   "source": [
    "import pandas as pd\n",
    "\n",
    "import seaborn as sns\n",
    "import matplotlib.pyplot as plt\n",
    "import altair as alt\n",
    "\n",
    "import persist_ext as PR\n",
    "\n",
    "avalanches = pd.read_csv('./avalanches_data.csv')\n"
   ]
  },
  {
   "cell_type": "markdown",
   "id": "d072a0fa-90e1-4409-9890-e9e75259ee20",
   "metadata": {},
   "source": [
    "# Motivation\n",
    "\n",
    "Showing the basics in the following two examples!\n",
    "\n",
    "First we \n",
    "* move columns,\n",
    "* change lables,\n",
    "* drop a column\n",
    "\n",
    "in the Persist table. "
   ]
  },
  {
   "cell_type": "code",
   "execution_count": 9,
   "id": "7f3709cf-73a4-4189-a220-9f5b84084c04",
   "metadata": {
    "__GENERATED_DATAFRAMES__": "ᯡࠣ䅬Ԁ朤壠ᜣ琢〹夤゠⹰〮⁁䁻қ䚾ኊ㇠നСࠩ瀮晼Ƭ穅5愠៤⠠ ",
    "__has_persist_output": true,
    "trrack_graph": "ᯡ࠽䈌ʀ匦㢠⹰ӠܡⰤᠱ䁖Ṑ׀怹䂖ᩤƁ⵴∢ᨆ⣲͐瞜椠᥮勮暩ᐠ▴ሰ瓹礨䡲嗏ⓥ咻➎㸢䉤ð䀡妄ㆨ㕀ॢȠநƸᢀ眰䅽忒8怢晈㊠Ř岰ú}ǁ䧬撫恑窥ればᠲܼ侭⍠ʒங永㨣M䘦斪ᄢ憢↊㚂ࢌ戴⃱䶀۔喃Κᆱǀ痔䖣燐⊗≠灍ᢚ䶠ᏠĊ得磠綛ᬰㅷ㟃䬼沢²䢀愐墥㱔਱Ⴧ柣⊡捱幑մᘦƣ䡐ضՀ籈㤻惻㙲㉦ժ囃⩜ㄣ˶ᮺⓢ瀤ㄬ䓀梔̹䖀㡼༿䐳Ӿྠ֖բ叛䍃搄䉲䉭⧩䴵Ꮕ卦† "
   },
   "outputs": [
    {
     "data": {
      "application/vnd.jupyter.widget-view+json": {
       "model_id": "ca871bfc7cf84e6187b53dbcc3546f5f",
       "version_major": 2,
       "version_minor": 0
      },
      "text/plain": [
       "PersistWidget(data_values=[{'__id_column': '1', ';Region': 'Salt Lake', 'Month': 11, 'Day': 9, 'Year': 2012, '…"
      ]
     },
     "metadata": {},
     "output_type": "display_data"
    }
   ],
   "source": [
    "PR.PersistTable(avalanches)"
   ]
  },
  {
   "cell_type": "markdown",
   "id": "190e4736-15fd-46a8-838e-b1e78aa78509",
   "metadata": {},
   "source": [
    "# Working with a Vega-Altair Plot\n",
    "\n",
    "Next, we *filter out some outliers* in a plot."
   ]
  },
  {
   "cell_type": "code",
   "execution_count": 12,
   "id": "0a017117-f9a2-4f86-8067-d7ca8b8d9176",
   "metadata": {
    "__GENERATED_DATAFRAMES__": "ᯡࡁ䃼恖せƬÐᓠ朣琨愠峀ʀೠᲸƌ⨎੹ૉ䜠㑀ӓ 䁯ᰶ塯+䀳䁋䔠⾤倠 ",
    "__has_persist_output": true,
    "trrack_graph": "ᯡ࠽䈌ʀ匦㢠⹰Ҁᬡى䔦〩䁍&¬㴨ˡ䝢⠡怵䁑傡ᱰ㙞緙嚆ᢻተ¶⡨⇱㄀ᅎ⮪䚪ᵆ嘼岙砪ठ͢&捐牠ኤРឝၐüム湁Ý㮙䀥咁吠❇ሠ᭪⌣҅惂ᠡ沤䙬9䪱ᾤ⃦僊䥃䴘ᢜػඳȠװᨸᲁ⚨戣㍀〉挥'䦡ᅨ㇄㑪㴻῞䥬⍠ᠢ沀嘸ᄰظሪ㖊Ⴀ癃Ϫ劶ᣦΎ㈺⠥砹皷स晋Ⱥ掎࣓ƺ堢㰠ຯ垏౓க焪ᚒ洖ئ匰Ⓨ⌦ӣଔᄭ䚂ዤᔪՂ⤌⌠㑀桐ౢᖢዙ౶憛庲ͦʊṧ㕀曠≱Ȿቨ劉ᙓᑃ㋘⹿ᑋ૳㈤ܲ⒔摺Ꭸሸ㉲䕫匌杛䡉੅դ撰ê櫗泲䀠Ƞᑲ嘥ᙋ?⢷ӌᵠŪ䠀汲ݵだ㫼ᢦ眰jầ⠡咀缲泡ɭw朦宨䞓壤刐尻ȍ壊䂋䜤櫎伯䠄ն僞೧ⁱ䰻ጴト㺻֯惨๻ʥ䠐䓙ࢷ䋪͋柒㡼⥆ඣ您㈥൥倸ᙛ০熘繀䱇唺涛⧶疚㙑ྣↂ䩎๔丙值惒㖶峦抦涖緁投䰣儥斑巶̼แ䄕䓙儙䳀ࡁ悀ż怯狝侣折漧愠ᶵ䜐䂨ᄩ․֙ቀ▙䘠䗑偷䒰]Ҵ㰦ᠴ᤟别⚵͑Შ㤭㣈㴨ᅰ⧆懎ܪત␱ᆲả‬ච愙崷⁴ᦦ瓊̥ၴഡ瑑෷灑Ԣኴ␢↲̢䀲ᷔ㇘⢨熌㢨糀ð㡧哷᪳х嫋䀣僤㒣㧀簱䈈坽梌㽶礦䌤ᦠヤᇴᣮ᧐䭄㐀䨨冥⊸牉敕拉畁䕸♄ā〣l㡏♨㉋⡠缤ť橖㇉䱓❑箧៱浃猤倰ڨ滶扄儺兠䟴ɕ曒∹⍸禺୳ᠾ檲†ྂ℧䱜埁嫆堂⑗ᠻͰ昃悞归۷ഒ䛲⬁䱜凒⫧氰ⴂආ沤䄅ᴗⱣ䪀倇捀徆䌐呱瑋岓๩哄૸屴ዼኣ粟朡㰳⾧劮ᬀƆ倁ࣽ影ᚿ䠒⇓̢ኁ⯺搡惁ᐱ曃䝭՘璁කൕ婣⾜桸稬ɹ䭪Ź⬺橡欦擸倶泠晁⬀⧔ѻ⦬䩻䮞䃯䓆㽹剶㻮沃ච橗̡䘨ं界喐娽❴ᖤᎎ棶ై㦺簠䐱嘰੢炉┡塪˂ᢌԠ剞ࡣ窆็瀴ै⤴ۣ㹼࣡嬦Ꮋ㬱⃫䖆ⵊ夬䖠㤼䞲ᕞ⨃朶䣚၎䏲䋕暡倸䚡堽敐昣涃ಳ歫佝䂒溋暑潫䶑缰̚悗樘ᮡⰦ渠ᐦ羊稦⦐ᗗ拸ᯄჯ劤ᗅ㽥ミ倭ư㙗犩磎᰿墴烒堰⛊᳝⟕箤勔哜棩竜㓿峦⬍繜俔ᦓ➲咶䇽Ḭ䂝㢏ྰ୧瀝糦墰֝⸸䀱ਣ桂≰తဢנ㢪੽໡就沂ᦠ堮ˠѠ⊋皪䋇੓泤倴™ଃ༸ᩡЧ縻ɘඥ砨瀑丹൱嗣␿㇨℄⢁慰凮倳䗁厷↩䫀橞;ג嬻㏖ބ皈̍炽浝峱く子㿔玐❖䮈䣶殍焲⏅᧺嶼䖛⊫笠煴妎唉䷉窰楫埊♕兩ᒁ橸敀簥瓞倉獳收帠⌳䖔ᩣၤ懶䜢䱭概䛻ᥭ呁堥悀౤ᑨଡభ⛖泠梸兑ቁ欪ʰ㩨ᐸ䗠䄁泡楀㳯䲉䡺⬿੓㍐䮆斌㧡␫䫑槥㣷ᩪ瀷‷ἅ䲙䅎捦⺻Ġ㬲屠䜓九㩞ᷥ㹶狴᮪½攘‰Ҷ㸉᮸ࠪ⡕㢈ᄾ?ʋϜ⟥㰿䌙ኡ԰惪悢圞౎㼋洝筃ᕳɆ㿍暼笗罠ठ稬Ƅࠒ⤯僈ᆣ灝ÛణあѤ稥8䱰倹䆚ᬄ咱⯼嚷ㄪ僥ᦥ櫖᪄⸰璓勨ࠫ䟰⦃样ീ䭉ט଩琵挸ᗪ㲈䂙ឱ祕䏈½⳧⣠䰭䂀↴椱攀瀒╣瓥枾਄┉㥳緞䴶䫔垪硖唵䬠㫉ိⵔ⵬㷺䚊尮ᘬ嶩塘〺㦂ᨦි渺綕ⵥ曓ᑍ㞲ⶍㄠ漪㖲ǔᛌ㗖嘹ṩ࠽ᒲኰ埠刪▮Ⅺ哎ᦉ㺷⻇ᗚ▱犬⠅៊⢏⭋⣞ᗷ怊ǐᩜ矬䎟↦⨷ۿఐ瑊怸ⴸ摟㏨ᄆ⡵̼ഩᳺ͘፨愤⤢灕狤䩨⓿㆖㢵⁈ຳ氯᳡㭄偎⠄籪ᒡ⌆ိ渑ᢳ緅ጧ㢖㉸矦ԋ擸暽榊哻⪝櫵Ⳍ㍹䙓國⒧㾟⒩ᎄ᥅ᗹሴ⍔㱤瑫Ⅸ䲫㭢Ė⌳癆ᒽ䵅ᵺ㦒㏞ùᤧ朰¸䌀ᓥ棐⑋嶦㒆⼿㡬嶒縤Ẏ㟡紓ḙ㷹㍶⼯嚝怯ᛪ笁盢刈㥗昝߄⪐䭗柈᧜洿䫄哾⩡竸ᠰ❎䛥㤷๾竑串徆ᯞ㮱䷘⮺壕惏♶㣭擠ᢸ糼ጙ楒異ౡ⎲ⓟ⚢塕̐ᙃ㭄↨⠩⃘䗡弣ƙ徯հ䱼囁Ⴗ獁ਲ਼畔᩺䣥ോ▦㇍㔃Ή炢ㆍĸ灕ॠ㒫経ћ凕㗐癔烼㒍常⚾မ縴卼Ɩ筲␮婨擱澨䷹ᵛ塲票  "
   },
   "outputs": [
    {
     "name": "stderr",
     "output_type": "stream",
     "text": [
      "/opt/anaconda3/lib/python3.11/site-packages/altair/utils/core.py:395: FutureWarning: the convert_dtype parameter is deprecated and will be removed in a future version.  Do ``ser.astype(object).apply()`` instead if you want ``convert_dtype=False``.\n",
      "  col = df[col_name].apply(to_list_if_array, convert_dtype=False)\n",
      "/opt/anaconda3/lib/python3.11/site-packages/altair/utils/core.py:395: FutureWarning: the convert_dtype parameter is deprecated and will be removed in a future version.  Do ``ser.astype(object).apply()`` instead if you want ``convert_dtype=False``.\n",
      "  col = df[col_name].apply(to_list_if_array, convert_dtype=False)\n",
      "/opt/anaconda3/lib/python3.11/site-packages/altair/utils/core.py:395: FutureWarning: the convert_dtype parameter is deprecated and will be removed in a future version.  Do ``ser.astype(object).apply()`` instead if you want ``convert_dtype=False``.\n",
      "  col = df[col_name].apply(to_list_if_array, convert_dtype=False)\n",
      "/opt/anaconda3/lib/python3.11/site-packages/altair/utils/core.py:395: FutureWarning: the convert_dtype parameter is deprecated and will be removed in a future version.  Do ``ser.astype(object).apply()`` instead if you want ``convert_dtype=False``.\n",
      "  col = df[col_name].apply(to_list_if_array, convert_dtype=False)\n"
     ]
    },
    {
     "data": {
      "application/vnd.jupyter.widget-view+json": {
       "model_id": "47f83112945548c28f87d4ce65c91cb0",
       "version_major": 2,
       "version_minor": 0
      },
      "text/plain": [
       "PersistWidget(data_values=[{'__id_column': '1', ';Region': 'Salt Lake', 'Month': 11, 'Day': 9, 'Year': 2012, '…"
      ]
     },
     "metadata": {},
     "output_type": "display_data"
    }
   ],
   "source": [
    "PR.plot.scatterplot(avalanches, \"Elevation_feet:Q\", \"Vertical_inches:Q\", df_name=\"avalanches_1\")"
   ]
  },
  {
   "cell_type": "markdown",
   "id": "bd1391c4-2de7-415c-af8b-b144261048bb",
   "metadata": {},
   "source": [
    "# Demo "
   ]
  },
  {
   "cell_type": "code",
   "execution_count": 15,
   "id": "a069da47-0731-446e-9ccf-cd5960196311",
   "metadata": {
    "__GENERATED_DATAFRAMES__": "ᯡࡁ䃼恖せƬÐᓠ朣琨愠峀ʀೠᲸƌ⨎੹ૉ䜠㑀ӓ 䁯ᰶ塯+䀳䁋䔠⾤倠 ",
    "__has_persist_output": true,
    "trrack_graph": "ᯡ࠽䈌ʀ匦㢠⹰Ӡ㌡氠瀬怶ᙸ׀àච↦⌐恋ൂ墰ࣤ兘ԃ冬ೃⅅ䙬䥈kᑄᄉ娒઴囋⃩嗛᜾㸢䉤䀡傠ǐ冃Қ′䈤7ưᠠ湐戎Ⴆ寐瀸怢湄㊠Ś岰úၔᴩ༤䌠ҁ㄰塈栩ᨤ呒⊤䎣牁硅ㄈⱌ὜Խಳ䈠״᤻ᷬ䡄䌿⡥ᛦԠ޳ŀቐ঄ɮ✺യݢ䑐˸憌ᒂဪᡄখ湁<⎤᩠ⱖ᳥ᡘ焷⠥稻他㠴ύȾ愎৓Ž堢㰠๿޿憠糧ῢܱ尮Ꭲ䃓၀Ⓔ⏀悴✬䋠偤✧懣墘ᐡᏡ㆔✸䃀悜మ䖣版ء昘ǲݦ̉㻷ݐ暪挑ብ፨㊘ᙧᏨ੥६僉⩕૱ओ㦑≹ᕫ効㙨䗫犥ㅴ坊⫵⵱啐娾▵惀ᘠį䄢ᠠ坙䰩㐡岆䀼淒㮌ࡅ弌稼暴ህӠ୬'棻盧㟠त↨儇℘塊ʄ⇀㣡▦䍅掜ネ⣬ⰴႺ惑畣ဎ㫙渹ጫ䀱䒒ણ⏱ಆඡ掑㲞ၬኩ浮寇欌䌱䲉懤⡲㺈孍烕䎅氚潣ँʽ杫下㫍䄧䨂祽٘ባ!≘ฤ๟慰Ф礡涀Њ珼㺌矿琤䃵涿换塢አ࠯獨傯炸Ἣ煶⺯捨>䣪悰̫浿戹䍨殈ᴡ䮒䄐᰸恈ᔒ償悤㱤ᢪಔដ缺亱塜q偒ીࡈ঩のԡ栮Π〼◦बŠ倰d䁐ᵀ⡈Ձ惻।䁤ᖤᘠో䌽+Ⴡ悍ඥ瑪斔〧凸噉倔Ს春⃘ᒥ㘹凡剌䒌ਫ㙱涺䌍ᩏㇰτ䲉䴼ၨ箫٭⦦ݭ᦮ۭ㦶ኼ偁㞂⠩㍌敌劰Ṙ⥬槃ƪ煾㑫䦑㕌焦⩔昼ᄠR䈠Ặ䀠勠㠦۞䡭栠䩫⋠繫‣䠠⛋ᘩ絠㆐䆨Ρ疍䘊㢔〹洼ㄨ愾愠琯਑塚咴ᐭȑᠪ⃠尶ᇈ偙ȴ株̀㹅㐜㗄桵㳒倴檨勵拎労ۏ䘼㵟␹䍈戃尩ְ玲慸䮽䅽智瑘✹惙澽恝扃暙⽞敝枵燝ᣪ掝烫片笧甙徳ᄑ翀ࡒ烘⑂ၬθါ䂐ᑲ୲う䡻㪘લ㊑ൂ゛ᾢ䡪ਢᢔ䚺޼檬碀Ⲇ䌔ག拵ূ梁东卄惄ᡕơ硒⏠栥ـ堬ˡ否ᆀ團慁䦥ᑷ剱൹犈婲䡬巐㖆揔࠽ᩒ笤䋪⁐潘หⷛࡍ䘩璕懘㙿䄤悤᎐乫䢍牓㉰淊䔌ᨯ㛱綾䏼䴫䎤⠾烻壖湵放榃ݫٛ᱉渂ᝢ⋚㞆⩥᭽㥨พ溏⸛㽛⌷㻛㞅⥔†ճ籰඲䃶䭪㬝㧰J悼⇚㝦ʭ紲橨#榈倴ݡ火⸈ں岓䐣癖ౠ杸窑ஂ⎓Ɓᛠ䋖癨䈀⨢ ไ䐮ℸӺ㡗શỵ␶盤䦦䓼ޕ喤ᤋ݊⋔⦆ഡ時偌ἤⳉ♵斷畹Ґǂήし౒Ȱᢡث䨡僳ㅷᬸᇆ煃༃፴㑜ʏڇ䬠磶祾ᐢ䦡悳␅湳惆硡ᛴ旱㓳⸉䥸䁈⃓᭔⦅ᑢ澋白ဍ仰⳴⒨喧守䓔ݿ枞倃ɦƀ˵浀哥㑲ࢋᴶ欲䕖⠣䒥ୠ㠦䂐ಢᠫ¨ቶ剶⋠ⷃ㳄䅸๖◽䗥⣜婚#䦦ⓒܰ˾ḇ帧梃⻮␴弊㷚奠ਐ擿惞Ⰿ䨑ᑲᳪ䗼⋇⑝穟つ䥄煮筎亦榼爩头ᗐ吧㏈㞂桞旰儦⻡⒠栺峤䌠䁸Ѡ䴣₈઀堿搨႕⭆儈៘㰰ь栬抅䪡ᠺƻᔵ孙̖⚛⪽⡕⍰偶喐⠡櫽⯴͠d⑩◣ሳļ͟⎠䵚朖㦆廑䠜ভ㑰ߣ䠰䨰䜡⁊䟺屢䡶濤籢ㅘᙉ瀾Ʉɥ₧双ᬅ婸ϔ䏩巈ט仒ޯ◲佒๾䨽↳䖌堡ᅘᆥ⇚惣ᛣ䎖ࣼⷬ䛲Ῐ籎秸て⽕炨慒䤖ಱᒅ᫒ᨡ牘労㴨䂫奓ڭ⬲䥲䚷৤⟊晕拪⛄䶋ᰊ皮ⓐͩ֩㗦᱌㛜ⲟৄ㱘ᔜ㳰⮃⺕朼⧺ᜂ嫺⁐ታຩ椣␩悋勤䒧媜ʌ୒偆ೡᶁ►唵棟〮攴ฬ悩⇧猞ငƒ㬆咒⁧䉐㠣)悼䭳勳凨穧䋙㚐೯៮ᆻ狥慓Ÿ懆ㄡ瀾燢䉉硄⦭呲挈宍琨䇑㖅煡ᑄᅏ䉙↰硶₨忤叟䒇㶡杶ᒲጌስ橅㮼楓⓴凵現⟉竟⬶榋`⸥堍ᙓK୪ఃᖊ∽Ѳ⡨格ˠ≭ᠸల໹Ⴄ䔣焰⛰₠嘣䍡嫤䔓ᣒ❗ŀ㖇乼ڸᗪ⃽亅ਸ਼ᱠ楙ᰡ泸䞶᜿ᛐ惈ᲁ⬁敿㤈撘壽熑噷硸䑊䒭㹞὆⿧ሎ僂aԉ孵౳䖱⚉⦌濱㠨䉄ࢥᗒ抰ᙛ揞䋈䲹୤䥲惵ᜒ䋡ᰶ洘侊碿ሀଧ怴䊼繇⁽昻䈭䃭䒣媃㗹㎈杖櫮纱犙汒㹨左⁉♥㥀ᴣ湠ᥤ㈮㨢☦㐧䃀瓃䁯䇡吠⇨ᶀ網Q㰦জ޲敃⃺ⲅ噺↧Ő⫅㶯ᮛ浬Ú䈔ڥ玷ⱓ懜䖮緀娛㋻欍㠗翂ㄘය痄⯠淶⃘᪸䰶䇆相⠼∀⥅煱幅琲牻叛䣚㪑ᄖㅢ璾湋Ợ⥃翆⌳䈬梹䄐گ᡽࿕吂㈍憃㒁䚲姦䉛䜏ឭἲ喪栆瑪㘜᪁Ꮺᕇไ掄罬瑬樈涧箅Ể⊸椾૷丽坚抳氿圉母ᒯ⵸秞⃘Ѡठ瘗だ㈯ૅ兢౓ܲఌᠾ㈡㙵᰼䟯欿⟙⺒ഏᑎㆿ狅搴ᆑèྒ䜌咢㼊䶹寺け䀫㪹䮕㟜⋓垈㥫磽䯅㾷㧗垫㫎㱽⻊磳溕畜䯨㗆崙绁䝐䁊ᶋ垌ߍ儇喞䃼䋿琝5࡝̠烏⼒ʢ՜⌤岷磼ԅᢩ恃౰弥٩㩣狼ⲡ扸䆴妣瓟ͳබᖨ㧨⌎Ƶ澬⥁䑛夠֩۔㳘伙眱嘍䖋ಝ䜹掏忦忒Ăᢀć䉵㡭喈䲊硚欀燵斃ޡ嘍焇᮱浭玀፶涋搈㯳樘⠊㈀ӎ䌈ਃ࠵Ꮄ⸪乌⍠ᑡ哘嚀धȄ役灋ΐ坩㜇ᘓẓ亣ᘄ״㌜䓚⚈岺ء眬绐ȯ㓸䏬Ṑ¯ᐡ⏴ة֯㲘⶷ᛠయᛱ䁑瀰ઠ䰤揤䂑獀ʙ䷦嘾Ǌ㦢漧傶䁨◁ῼ㔎犺धḨ㙐吡ં别䀹Ϡ垀ࠫ場פỰ㚵䂔٬㢰ັẐ⓻၁䛢䠳㎷㖺曱⻪牻ⱡ嗽㚥熅◺䘲䙄ɷ㐩娪弓䘅ᶙ塱䚭电㾘寽䙯䚵エ磻府㘏»ᕨຠ䈿ᕐ䟲Ⲱ痵㗉擮ว䁧ƪ埥橾࣑⌛▮䇘盳ԛ絪㼕ၓ⩘䍣恄À⢚劮ჄѨ㊡䠶曁爐ỳ盽ࣉ䓠ᕡ癯樹喧⍩㟲ၑ矈ㅤባ㹊┬⏉㟤ā䠙ᐠ給ᣵ௉᫓擻棁ĕ༪呤凕ౢଡ掮ܬၥ凼[ɀ஡崹〭厇㊑㳳仍圇᮳快婡㐷ရ筼ᙆ䋠㖓ᡛ䆑牀㬥焫|਀儡硜ᒢ஥ᨚ狢ᑌ൘秤栲爌܀䉤湓堢໨䏦傺囓晀卣Ḭ䅈Ӏ玊獣窾唨䌧罤)ք㹂᳣၄ƢṂ⣿扅䟮༢ḯĈЯ⫨㛦䇨ഠ椣偆䄁砄㐥ᠶȐ௠戤呔䙅睰䤢㑉⻢ߛ⫢Ỿ弐憛ত渷䊌㠁ᓉ㣳廂ᇐ翻汐໊儠㫉䇭戃皳ᬘৰ橺晳ᅙ倸℉凈瑦Ⴝ抨⃝つ㰲刞࠭㻆ೳቑ咠匐⨨䃅䅓ഡɳࢋ㞀✢爳ᣉ↠㡰ሢ⒫ಟ㞹噝嬞㐇⠘筤ᛢ琟℉䗳䂛䉤勹碵㫄ä䴡ㅅႷ愌ṅᛰ䨈׈⛛␡᥈乬穄怳ঙì湇ວᦇ珬䄧Ŕᆄୠ⑄Ჺঢ়㖤桇氧滣㍺ၩ⹥࠹ݨἱ⥉㙸䆀ㄆ怰䊢݀ᄆ䐩Ẃེ㇦塌煩Ø嗧㹖熟ਰ揧ᥘ年ᝃڧ〮ႈ܄䬩ỿ䧦༁Ⴧ䕤⦿㞏ೈ╞⫲伱ႻǤ♎౴撻ᕊมൈ䛇ൊㇺ䰟຺啋憦侓⍥惨䨽ଢ䛄⒱円伨䫆罈ㅶ䢂᩠怮ႄ٨㊁儠ዑ⋤㢱ኪ汗䙚㡲Ұ䀯癸䝛㩥缋ऍ{秫绝唫ࣘ捄栩ŀ㑺〻ࠣ䣬ᙣ睡ᅤ䕓Ԅ旺㥡የ⢠ୃ悝丂帧磘㦑Լ䢵ㅬ☌䢲晻歚吠з䥅僯ᔎᰁ積㕛ᨈ䐤婆秫⌠絍х偖̠'㣭࿠㼭⃩倹㔩縭֟毮⚢䖴䳔⛆▌ᖳ䓌杶₳㖼⓽暮ᖳ䅴ႁŻᔓ㲸ㄕ找⸌዆潉厪⹵瞫ㄇ惪㿝าމʞ∽徱热ब⒃绮ᢩ㋏哵㄁碚叒प儀櫁䟴◊⁾欝┺嗊䳢䌝♬⹂㲷⽎呤㼼帶䌉2䥽㢣⠥樨ᇘ⣈恲↰ᮨ㌪̻勐ࣀି檯Ȭ⢊〢㹎撺␡ᙿᓶ໪瘨猇ᛙ☫㄂摵Қ䶴ᨸₔ⁫䏄⬻⋾䢌㏕ƀត稖䱍耂ੰ刎ᡀ㘧ⰰ朓䐝巌ୁ㬟埠皬ࠥ曩☩牴᳡ᝉ㲓⩵ᴕᛮ㉨䀠 "
   },
   "outputs": [
    {
     "data": {
      "application/vnd.jupyter.widget-view+json": {
       "model_id": "a53faad10e994547abbeff01d31768e4",
       "version_major": 2,
       "version_minor": 0
      },
      "text/plain": [
       "PersistWidget(data_values=[{'__id_column': '1', ';Region': 'Salt Lake', 'Month': 11, 'Day': 9, 'Year': 2012, '…"
      ]
     },
     "metadata": {},
     "output_type": "display_data"
    }
   ],
   "source": [
    "PR.PersistTable(avalanches, df_name=\"avalanches_1\")"
   ]
  },
  {
   "cell_type": "markdown",
   "id": "d4b5b5b9-6e71-45a7-a5b2-41bdf68050eb",
   "metadata": {},
   "source": [
    "If we look at the dataframe, these changes were applied: "
   ]
  },
  {
   "cell_type": "code",
   "execution_count": 18,
   "id": "eb95be33-ed0b-40e4-b1b2-5ad6b09d6ee8",
   "metadata": {},
   "outputs": [
    {
     "data": {
      "text/html": [
       "<div>\n",
       "<style scoped>\n",
       "    .dataframe tbody tr th:only-of-type {\n",
       "        vertical-align: middle;\n",
       "    }\n",
       "\n",
       "    .dataframe tbody tr th {\n",
       "        vertical-align: top;\n",
       "    }\n",
       "\n",
       "    .dataframe thead th {\n",
       "        text-align: right;\n",
       "    }\n",
       "</style>\n",
       "<table border=\"1\" class=\"dataframe\">\n",
       "  <thead>\n",
       "    <tr style=\"text-align: right;\">\n",
       "      <th></th>\n",
       "      <th>Region</th>\n",
       "      <th>Month</th>\n",
       "      <th>Day</th>\n",
       "      <th>Year</th>\n",
       "      <th>;Trigger</th>\n",
       "      <th>;Weak Layer</th>\n",
       "      <th>Depth_inches</th>\n",
       "      <th>Vertical_inches</th>\n",
       "      <th>;Aspect</th>\n",
       "      <th>Elevation_feet</th>\n",
       "      <th>Coordinates</th>\n",
       "      <th>Comments 1</th>\n",
       "      <th>PR_Annotation</th>\n",
       "      <th>is_selected</th>\n",
       "    </tr>\n",
       "  </thead>\n",
       "  <tbody>\n",
       "    <tr>\n",
       "      <th>2225</th>\n",
       "      <td>Salt Lake</td>\n",
       "      <td>1</td>\n",
       "      <td>23</td>\n",
       "      <td>2023</td>\n",
       "      <td>Skier</td>\n",
       "      <td>Unknown</td>\n",
       "      <td>5.0</td>\n",
       "      <td>1667.958804</td>\n",
       "      <td>South</td>\n",
       "      <td>953.150095</td>\n",
       "      <td>40.594728899376, -111.641825871770</td>\n",
       "      <td>Skinning up the pole line in LCC had to cut sh...</td>\n",
       "      <td>No Annotation</td>\n",
       "      <td>False</td>\n",
       "    </tr>\n",
       "    <tr>\n",
       "      <th>1035</th>\n",
       "      <td>Salt Lake</td>\n",
       "      <td>2</td>\n",
       "      <td>28</td>\n",
       "      <td>2014</td>\n",
       "      <td>Skier</td>\n",
       "      <td>New Snow/Old Snow Interface</td>\n",
       "      <td>12.0</td>\n",
       "      <td>104931.137692</td>\n",
       "      <td>Northeast</td>\n",
       "      <td>960.7726</td>\n",
       "      <td>40.558613000000, -111.692591000000</td>\n",
       "      <td>Started the morning with some excellent east f...</td>\n",
       "      <td>No Annotation</td>\n",
       "      <td>False</td>\n",
       "    </tr>\n",
       "    <tr>\n",
       "      <th>814</th>\n",
       "      <td>Salt Lake</td>\n",
       "      <td>3</td>\n",
       "      <td>3</td>\n",
       "      <td>2012</td>\n",
       "      <td>Skier</td>\n",
       "      <td>Unknown</td>\n",
       "      <td>24.0</td>\n",
       "      <td>165882.571379</td>\n",
       "      <td>East</td>\n",
       "      <td>970.046154</td>\n",
       "      <td>40.723063000000, -111.694007000000</td>\n",
       "      <td>Walked up Mt. Aire ridgeline towards summit.  ...</td>\n",
       "      <td>[23-05-24 (12:48)] --&gt;These are noteworthy</td>\n",
       "      <td>True</td>\n",
       "    </tr>\n",
       "    <tr>\n",
       "      <th>385</th>\n",
       "      <td>Skyline</td>\n",
       "      <td>3</td>\n",
       "      <td>17</td>\n",
       "      <td>2010</td>\n",
       "      <td>Natural</td>\n",
       "      <td>Unknown</td>\n",
       "      <td>30.0</td>\n",
       "      <td>65543.241058</td>\n",
       "      <td>East</td>\n",
       "      <td>1118.273753</td>\n",
       "      <td>39.496300000000, -111.156908000000</td>\n",
       "      <td>Natural wet slide in Hunnington Canyon.</td>\n",
       "      <td>[23-05-24 (12:48)] --&gt;These are noteworthy</td>\n",
       "      <td>True</td>\n",
       "    </tr>\n",
       "    <tr>\n",
       "      <th>240</th>\n",
       "      <td>Salt Lake</td>\n",
       "      <td>1</td>\n",
       "      <td>24</td>\n",
       "      <td>2010</td>\n",
       "      <td>Unknown</td>\n",
       "      <td>Facets</td>\n",
       "      <td>18.0</td>\n",
       "      <td>4877.728917</td>\n",
       "      <td>East</td>\n",
       "      <td>1177.906188</td>\n",
       "      <td>0.000000000000, 0.000000000000</td>\n",
       "      <td>With all of these large avalanches occurring...</td>\n",
       "      <td>[23-05-24 (12:48)] --&gt;These are noteworthy</td>\n",
       "      <td>True</td>\n",
       "    </tr>\n",
       "  </tbody>\n",
       "</table>\n",
       "</div>"
      ],
      "text/plain": [
       "         Region  Month  Day  Year ;Trigger                  ;Weak Layer  \\\n",
       "2225  Salt Lake      1   23  2023    Skier                      Unknown   \n",
       "1035  Salt Lake      2   28  2014    Skier  New Snow/Old Snow Interface   \n",
       "814   Salt Lake      3    3  2012    Skier                      Unknown   \n",
       "385     Skyline      3   17  2010  Natural                      Unknown   \n",
       "240   Salt Lake      1   24  2010  Unknown                       Facets   \n",
       "\n",
       "     Depth_inches  Vertical_inches    ;Aspect  Elevation_feet  \\\n",
       "2225          5.0      1667.958804      South      953.150095   \n",
       "1035         12.0    104931.137692  Northeast        960.7726   \n",
       "814          24.0    165882.571379       East      970.046154   \n",
       "385          30.0     65543.241058       East     1118.273753   \n",
       "240          18.0      4877.728917       East     1177.906188   \n",
       "\n",
       "                             Coordinates  \\\n",
       "2225  40.594728899376, -111.641825871770   \n",
       "1035  40.558613000000, -111.692591000000   \n",
       "814   40.723063000000, -111.694007000000   \n",
       "385   39.496300000000, -111.156908000000   \n",
       "240       0.000000000000, 0.000000000000   \n",
       "\n",
       "                                             Comments 1  \\\n",
       "2225  Skinning up the pole line in LCC had to cut sh...   \n",
       "1035  Started the morning with some excellent east f...   \n",
       "814   Walked up Mt. Aire ridgeline towards summit.  ...   \n",
       "385            Natural wet slide in Hunnington Canyon.    \n",
       "240     With all of these large avalanches occurring...   \n",
       "\n",
       "                                   PR_Annotation  is_selected  \n",
       "2225                               No Annotation        False  \n",
       "1035                               No Annotation        False  \n",
       "814   [23-05-24 (12:48)] -->These are noteworthy         True  \n",
       "385   [23-05-24 (12:48)] -->These are noteworthy         True  \n",
       "240   [23-05-24 (12:48)] -->These are noteworthy         True  "
      ]
     },
     "execution_count": 18,
     "metadata": {},
     "output_type": "execute_result"
    }
   ],
   "source": [
    "avalanches_1.head()"
   ]
  },
  {
   "cell_type": "markdown",
   "id": "25d18ce7-e882-4fb4-a3ac-f69423d06bc0",
   "metadata": {},
   "source": [
    "We can also re-execute all cells and get to the same dataset.\n",
    "\n",
    "**Run restart and run all** "
   ]
  },
  {
   "cell_type": "markdown",
   "id": "80bf90f3-de67-49f9-9d18-273c07993016",
   "metadata": {},
   "source": [
    "# A custom Vega-Altair Chart"
   ]
  },
  {
   "cell_type": "code",
   "execution_count": 28,
   "id": "f118bc43-6655-42af-9acc-477e084e1520",
   "metadata": {},
   "outputs": [
    {
     "name": "stderr",
     "output_type": "stream",
     "text": [
      "/opt/anaconda3/lib/python3.11/site-packages/altair/utils/core.py:395: FutureWarning: the convert_dtype parameter is deprecated and will be removed in a future version.  Do ``ser.astype(object).apply()`` instead if you want ``convert_dtype=False``.\n",
      "  col = df[col_name].apply(to_list_if_array, convert_dtype=False)\n",
      "/opt/anaconda3/lib/python3.11/site-packages/altair/utils/core.py:395: FutureWarning: the convert_dtype parameter is deprecated and will be removed in a future version.  Do ``ser.astype(object).apply()`` instead if you want ``convert_dtype=False``.\n",
      "  col = df[col_name].apply(to_list_if_array, convert_dtype=False)\n",
      "/opt/anaconda3/lib/python3.11/site-packages/altair/utils/core.py:395: FutureWarning: the convert_dtype parameter is deprecated and will be removed in a future version.  Do ``ser.astype(object).apply()`` instead if you want ``convert_dtype=False``.\n",
      "  col = df[col_name].apply(to_list_if_array, convert_dtype=False)\n",
      "/opt/anaconda3/lib/python3.11/site-packages/altair/utils/core.py:395: FutureWarning: the convert_dtype parameter is deprecated and will be removed in a future version.  Do ``ser.astype(object).apply()`` instead if you want ``convert_dtype=False``.\n",
      "  col = df[col_name].apply(to_list_if_array, convert_dtype=False)\n"
     ]
    },
    {
     "ename": "ValueError",
     "evalue": "The truth value of a Series is ambiguous. Use a.empty, a.bool(), a.item(), a.any() or a.all().",
     "output_type": "error",
     "traceback": [
      "\u001b[0;31m---------------------------------------------------------------------------\u001b[0m",
      "\u001b[0;31mValueError\u001b[0m                                Traceback (most recent call last)",
      "\u001b[0;32m/var/folders/nj/_p8y5bj50sb4sp0v6f3th6w80000gn/T/ipykernel_40629/3370476180.py\u001b[0m in \u001b[0;36m?\u001b[0;34m()\u001b[0m\n\u001b[1;32m     20\u001b[0m \u001b[0;34m)\u001b[0m\u001b[0;34m.\u001b[0m\u001b[0mresolve_scale\u001b[0m\u001b[0;34m(\u001b[0m\u001b[0;34m\u001b[0m\u001b[0;34m\u001b[0m\u001b[0m\n\u001b[1;32m     21\u001b[0m     \u001b[0mcolor\u001b[0m\u001b[0;34m=\u001b[0m\u001b[0;34m\"independent\"\u001b[0m\u001b[0;34m,\u001b[0m\u001b[0;34m\u001b[0m\u001b[0;34m\u001b[0m\u001b[0m\n\u001b[1;32m     22\u001b[0m )\n\u001b[1;32m     23\u001b[0m \u001b[0;34m\u001b[0m\u001b[0m\n\u001b[0;32m---> 24\u001b[0;31m \u001b[0mPR\u001b[0m\u001b[0;34m.\u001b[0m\u001b[0mPersistChart\u001b[0m\u001b[0;34m(\u001b[0m\u001b[0mchart\u001b[0m\u001b[0;34m,\u001b[0m \u001b[0mdata\u001b[0m\u001b[0;34m=\u001b[0m\u001b[0mavalanches_1\u001b[0m\u001b[0;34m)\u001b[0m\u001b[0;34m\u001b[0m\u001b[0;34m\u001b[0m\u001b[0m\n\u001b[0m",
      "\u001b[0;32m/opt/anaconda3/lib/python3.11/site-packages/persist_ext/internals/widgets/persist_output/wrappers.py\u001b[0m in \u001b[0;36m?\u001b[0;34m(chart, df_name, data)\u001b[0m\n\u001b[1;32m     56\u001b[0m \u001b[0;32mdef\u001b[0m \u001b[0mPersistChart\u001b[0m\u001b[0;34m(\u001b[0m\u001b[0mchart\u001b[0m\u001b[0;34m,\u001b[0m \u001b[0mdf_name\u001b[0m\u001b[0;34m=\u001b[0m\u001b[0;32mNone\u001b[0m\u001b[0;34m,\u001b[0m \u001b[0mdata\u001b[0m\u001b[0;34m=\u001b[0m\u001b[0;32mNone\u001b[0m\u001b[0;34m)\u001b[0m\u001b[0;34m:\u001b[0m\u001b[0;34m\u001b[0m\u001b[0;34m\u001b[0m\u001b[0m\n\u001b[1;32m     57\u001b[0m     \u001b[0;32mif\u001b[0m \u001b[0;32mnot\u001b[0m \u001b[0mis_vega_altair_chart\u001b[0m\u001b[0;34m(\u001b[0m\u001b[0mchart\u001b[0m\u001b[0;34m)\u001b[0m\u001b[0;34m:\u001b[0m\u001b[0;34m\u001b[0m\u001b[0;34m\u001b[0m\u001b[0m\n\u001b[1;32m     58\u001b[0m         \u001b[0;32mraise\u001b[0m \u001b[0mTypeError\u001b[0m\u001b[0;34m(\u001b[0m\u001b[0;34mf\"'chart' must be an altair.Chart object. Got {type(chart)}\"\u001b[0m\u001b[0;34m)\u001b[0m\u001b[0;34m\u001b[0m\u001b[0;34m\u001b[0m\u001b[0m\n\u001b[0;32m---> 59\u001b[0;31m     \u001b[0;32mreturn\u001b[0m \u001b[0mPersist\u001b[0m\u001b[0;34m(\u001b[0m\u001b[0mchart\u001b[0m\u001b[0;34m=\u001b[0m\u001b[0mchart\u001b[0m\u001b[0;34m,\u001b[0m \u001b[0mdata\u001b[0m\u001b[0;34m=\u001b[0m\u001b[0mdata\u001b[0m\u001b[0;34m,\u001b[0m \u001b[0mdf_name\u001b[0m\u001b[0;34m=\u001b[0m\u001b[0mdf_name\u001b[0m\u001b[0;34m)\u001b[0m\u001b[0;34m\u001b[0m\u001b[0;34m\u001b[0m\u001b[0m\n\u001b[0m",
      "\u001b[0;32m/opt/anaconda3/lib/python3.11/site-packages/persist_ext/internals/widgets/persist_output/wrappers.py\u001b[0m in \u001b[0;36m?\u001b[0;34m(chart, data, df_name, id_column, data_accessor)\u001b[0m\n\u001b[1;32m     41\u001b[0m         \u001b[0;32melse\u001b[0m\u001b[0;34m:\u001b[0m  \u001b[0;31m# if data is passed\u001b[0m\u001b[0;34m\u001b[0m\u001b[0;34m\u001b[0m\u001b[0m\n\u001b[1;32m     42\u001b[0m             \u001b[0mchart\u001b[0m \u001b[0;34m=\u001b[0m \u001b[0mpop_data_defs_from_charts_recursive\u001b[0m\u001b[0;34m(\u001b[0m\u001b[0mchart\u001b[0m\u001b[0;34m,\u001b[0m \u001b[0;34m[\u001b[0m\u001b[0;34m]\u001b[0m\u001b[0;34m)\u001b[0m\u001b[0;34m\u001b[0m\u001b[0;34m\u001b[0m\u001b[0m\n\u001b[1;32m     43\u001b[0m             \u001b[0mchart\u001b[0m\u001b[0;34m.\u001b[0m\u001b[0mdata\u001b[0m \u001b[0;34m=\u001b[0m \u001b[0mprepare\u001b[0m\u001b[0;34m(\u001b[0m\u001b[0mdata\u001b[0m\u001b[0;34m,\u001b[0m \u001b[0mid_column\u001b[0m\u001b[0;34m)\u001b[0m\u001b[0;34m\u001b[0m\u001b[0;34m\u001b[0m\u001b[0m\n\u001b[1;32m     44\u001b[0m \u001b[0;34m\u001b[0m\u001b[0m\n\u001b[0;32m---> 45\u001b[0;31m         return PersistWidget(\n\u001b[0m\u001b[1;32m     46\u001b[0m             \u001b[0mchart\u001b[0m\u001b[0;34m,\u001b[0m \u001b[0mdf_name\u001b[0m\u001b[0;34m=\u001b[0m\u001b[0mdf_name\u001b[0m\u001b[0;34m,\u001b[0m \u001b[0mid_column\u001b[0m\u001b[0;34m=\u001b[0m\u001b[0mid_column\u001b[0m\u001b[0;34m,\u001b[0m \u001b[0mdata_accessor\u001b[0m\u001b[0;34m=\u001b[0m\u001b[0mdata_accessor\u001b[0m\u001b[0;34m\u001b[0m\u001b[0;34m\u001b[0m\u001b[0m\n\u001b[1;32m     47\u001b[0m         )\n\u001b[1;32m     48\u001b[0m \u001b[0;34m\u001b[0m\u001b[0m\n",
      "\u001b[0;32m/opt/anaconda3/lib/python3.11/site-packages/persist_ext/internals/widgets/persist_output/widget.py\u001b[0m in \u001b[0;36m?\u001b[0;34m(self, obj, id_column, df_name, data_accessor, *args, **kwargs)\u001b[0m\n\u001b[1;32m     36\u001b[0m             \u001b[0;32mraise\u001b[0m \u001b[0mValueError\u001b[0m\u001b[0;34m(\u001b[0m\u001b[0;34m\"Invalid object passed to PersistWidget\"\u001b[0m\u001b[0;34m)\u001b[0m\u001b[0;34m\u001b[0m\u001b[0;34m\u001b[0m\u001b[0m\n\u001b[1;32m     37\u001b[0m \u001b[0;34m\u001b[0m\u001b[0m\n\u001b[1;32m     38\u001b[0m         \u001b[0mself\u001b[0m\u001b[0;34m.\u001b[0m\u001b[0moutput\u001b[0m \u001b[0;34m=\u001b[0m \u001b[0mOutputProcessor\u001b[0m\u001b[0;34m(\u001b[0m\u001b[0mwidget\u001b[0m\u001b[0;34m=\u001b[0m\u001b[0mself\u001b[0m\u001b[0;34m)\u001b[0m\u001b[0;34m\u001b[0m\u001b[0;34m\u001b[0m\u001b[0m\n\u001b[1;32m     39\u001b[0m \u001b[0;34m\u001b[0m\u001b[0m\n\u001b[0;32m---> 40\u001b[0;31m         super(PersistWidget, self).__init__(\n\u001b[0m\u001b[1;32m     41\u001b[0m             \u001b[0mdf_name\u001b[0m\u001b[0;34m=\u001b[0m\u001b[0mdf_name\u001b[0m\u001b[0;34m,\u001b[0m\u001b[0;34m\u001b[0m\u001b[0;34m\u001b[0m\u001b[0m\n\u001b[1;32m     42\u001b[0m             \u001b[0mid_column\u001b[0m\u001b[0;34m=\u001b[0m\u001b[0mid_column\u001b[0m\u001b[0;34m,\u001b[0m\u001b[0;34m\u001b[0m\u001b[0;34m\u001b[0m\u001b[0m\n\u001b[1;32m     43\u001b[0m             \u001b[0mchart\u001b[0m\u001b[0;34m=\u001b[0m\u001b[0mchart\u001b[0m\u001b[0;34m,\u001b[0m\u001b[0;34m\u001b[0m\u001b[0;34m\u001b[0m\u001b[0m\n",
      "\u001b[0;32m/opt/anaconda3/lib/python3.11/site-packages/persist_ext/internals/widgets/base/widget_with_generation.py\u001b[0m in \u001b[0;36m?\u001b[0;34m(self, df_name, *args, **kwargs)\u001b[0m\n\u001b[1;32m     29\u001b[0m         \u001b[0;32mif\u001b[0m \u001b[0mdf_name\u001b[0m \u001b[0;32mnot\u001b[0m \u001b[0;32min\u001b[0m \u001b[0mGLOBAL_GENERATION_COUNT\u001b[0m\u001b[0;34m:\u001b[0m\u001b[0;34m\u001b[0m\u001b[0;34m\u001b[0m\u001b[0m\n\u001b[1;32m     30\u001b[0m             \u001b[0mGLOBAL_GENERATION_COUNT\u001b[0m\u001b[0;34m[\u001b[0m\u001b[0mdf_name\u001b[0m\u001b[0;34m]\u001b[0m \u001b[0;34m=\u001b[0m \u001b[0;36m0\u001b[0m\u001b[0;34m\u001b[0m\u001b[0;34m\u001b[0m\u001b[0m\n\u001b[1;32m     31\u001b[0m         \u001b[0mgdr_dynamic_counter\u001b[0m \u001b[0;34m=\u001b[0m \u001b[0mGLOBAL_GENERATION_COUNT\u001b[0m\u001b[0;34m[\u001b[0m\u001b[0mdf_name\u001b[0m\u001b[0;34m]\u001b[0m \u001b[0;34m+\u001b[0m \u001b[0;36m1\u001b[0m\u001b[0;34m\u001b[0m\u001b[0;34m\u001b[0m\u001b[0m\n\u001b[1;32m     32\u001b[0m \u001b[0;34m\u001b[0m\u001b[0m\n\u001b[0;32m---> 33\u001b[0;31m         super(WidgetWithGeneration, self).__init__(\n\u001b[0m\u001b[1;32m     34\u001b[0m             \u001b[0mgdr_dynamic_name\u001b[0m\u001b[0;34m=\u001b[0m\u001b[0mdf_name\u001b[0m\u001b[0;34m,\u001b[0m\u001b[0;34m\u001b[0m\u001b[0;34m\u001b[0m\u001b[0m\n\u001b[1;32m     35\u001b[0m             \u001b[0mgdr_dynamic_counter\u001b[0m\u001b[0;34m=\u001b[0m\u001b[0mgdr_dynamic_counter\u001b[0m\u001b[0;34m,\u001b[0m\u001b[0;34m\u001b[0m\u001b[0;34m\u001b[0m\u001b[0m\n\u001b[1;32m     36\u001b[0m             \u001b[0;34m*\u001b[0m\u001b[0margs\u001b[0m\u001b[0;34m,\u001b[0m\u001b[0;34m\u001b[0m\u001b[0;34m\u001b[0m\u001b[0m\n",
      "\u001b[0;32m/opt/anaconda3/lib/python3.11/site-packages/persist_ext/internals/widgets/base/widget_with_intents.py\u001b[0m in \u001b[0;36m?\u001b[0;34m(self, *args, **kwargs)\u001b[0m\n\u001b[1;32m     12\u001b[0m     \u001b[0;32mdef\u001b[0m \u001b[0m__init__\u001b[0m\u001b[0;34m(\u001b[0m\u001b[0mself\u001b[0m\u001b[0;34m,\u001b[0m \u001b[0;34m*\u001b[0m\u001b[0margs\u001b[0m\u001b[0;34m,\u001b[0m \u001b[0;34m**\u001b[0m\u001b[0mkwargs\u001b[0m\u001b[0;34m)\u001b[0m\u001b[0;34m:\u001b[0m\u001b[0;34m\u001b[0m\u001b[0;34m\u001b[0m\u001b[0m\n\u001b[0;32m---> 13\u001b[0;31m         \u001b[0msuper\u001b[0m\u001b[0;34m(\u001b[0m\u001b[0mWidgetWithIntents\u001b[0m\u001b[0;34m,\u001b[0m \u001b[0mself\u001b[0m\u001b[0;34m)\u001b[0m\u001b[0;34m.\u001b[0m\u001b[0m__init__\u001b[0m\u001b[0;34m(\u001b[0m\u001b[0;34m*\u001b[0m\u001b[0margs\u001b[0m\u001b[0;34m,\u001b[0m \u001b[0;34m**\u001b[0m\u001b[0mkwargs\u001b[0m\u001b[0;34m)\u001b[0m\u001b[0;34m\u001b[0m\u001b[0;34m\u001b[0m\u001b[0m\n\u001b[0m",
      "\u001b[0;32m/opt/anaconda3/lib/python3.11/site-packages/persist_ext/internals/widgets/base/widget_with_interactions.py\u001b[0m in \u001b[0;36m?\u001b[0;34m(self, *args, **kwargs)\u001b[0m\n\u001b[1;32m     79\u001b[0m     \u001b[0;32mdef\u001b[0m \u001b[0m__init__\u001b[0m\u001b[0;34m(\u001b[0m\u001b[0mself\u001b[0m\u001b[0;34m,\u001b[0m \u001b[0;34m*\u001b[0m\u001b[0margs\u001b[0m\u001b[0;34m,\u001b[0m \u001b[0;34m**\u001b[0m\u001b[0mkwargs\u001b[0m\u001b[0;34m)\u001b[0m\u001b[0;34m:\u001b[0m\u001b[0;34m\u001b[0m\u001b[0;34m\u001b[0m\u001b[0m\n\u001b[0;32m---> 80\u001b[0;31m         \u001b[0msuper\u001b[0m\u001b[0;34m(\u001b[0m\u001b[0mWidgetWithInteractions\u001b[0m\u001b[0;34m,\u001b[0m \u001b[0mself\u001b[0m\u001b[0;34m)\u001b[0m\u001b[0;34m.\u001b[0m\u001b[0m__init__\u001b[0m\u001b[0;34m(\u001b[0m\u001b[0;34m*\u001b[0m\u001b[0margs\u001b[0m\u001b[0;34m,\u001b[0m \u001b[0;34m**\u001b[0m\u001b[0mkwargs\u001b[0m\u001b[0;34m)\u001b[0m\u001b[0;34m\u001b[0m\u001b[0;34m\u001b[0m\u001b[0m\n\u001b[0m\u001b[1;32m     81\u001b[0m         \u001b[0mself\u001b[0m\u001b[0;34m.\u001b[0m\u001b[0mupdate_dynamic_df\u001b[0m \u001b[0;34m=\u001b[0m \u001b[0;32mNone\u001b[0m\u001b[0;34m\u001b[0m\u001b[0;34m\u001b[0m\u001b[0m\n\u001b[1;32m     82\u001b[0m         \u001b[0mself\u001b[0m\u001b[0;34m.\u001b[0m\u001b[0mcache\u001b[0m \u001b[0;34m=\u001b[0m \u001b[0mInteractionApplyCache\u001b[0m\u001b[0;34m(\u001b[0m\u001b[0;34m)\u001b[0m\u001b[0;34m\u001b[0m\u001b[0;34m\u001b[0m\u001b[0m\n",
      "\u001b[0;32m/opt/anaconda3/lib/python3.11/site-packages/persist_ext/internals/widgets/base/widget_with_chart.py\u001b[0m in \u001b[0;36m?\u001b[0;34m(self, chart, *args, **kwargs)\u001b[0m\n\u001b[1;32m     35\u001b[0m \u001b[0;34m\u001b[0m\u001b[0m\n\u001b[1;32m     36\u001b[0m         \u001b[0;32mif\u001b[0m \u001b[0mchart\u001b[0m \u001b[0;32mis\u001b[0m \u001b[0;32mnot\u001b[0m \u001b[0;32mNone\u001b[0m\u001b[0;34m:\u001b[0m\u001b[0;34m\u001b[0m\u001b[0;34m\u001b[0m\u001b[0m\n\u001b[1;32m     37\u001b[0m             \u001b[0mchart\u001b[0m \u001b[0;34m=\u001b[0m \u001b[0mself\u001b[0m\u001b[0;34m.\u001b[0m\u001b[0mprocess_chart\u001b[0m\u001b[0;34m(\u001b[0m\u001b[0mchart\u001b[0m\u001b[0;34m)\u001b[0m\u001b[0;34m\u001b[0m\u001b[0;34m\u001b[0m\u001b[0m\n\u001b[1;32m     38\u001b[0m \u001b[0;34m\u001b[0m\u001b[0m\n\u001b[0;32m---> 39\u001b[0;31m         super(WidgetWithChart, self).__init__(\n\u001b[0m\u001b[1;32m     40\u001b[0m             \u001b[0mchart\u001b[0m\u001b[0;34m=\u001b[0m\u001b[0mcopy_altair_chart\u001b[0m\u001b[0;34m(\u001b[0m\u001b[0mchart\u001b[0m\u001b[0;34m)\u001b[0m\u001b[0;34m,\u001b[0m\u001b[0;34m\u001b[0m\u001b[0;34m\u001b[0m\u001b[0m\n\u001b[1;32m     41\u001b[0m             \u001b[0m_persistent_chart\u001b[0m\u001b[0;34m=\u001b[0m\u001b[0mcopy_altair_chart\u001b[0m\u001b[0;34m(\u001b[0m\u001b[0mchart\u001b[0m\u001b[0;34m)\u001b[0m\u001b[0;34m,\u001b[0m\u001b[0;34m\u001b[0m\u001b[0;34m\u001b[0m\u001b[0m\n\u001b[1;32m     42\u001b[0m             \u001b[0;34m*\u001b[0m\u001b[0margs\u001b[0m\u001b[0;34m,\u001b[0m\u001b[0;34m\u001b[0m\u001b[0;34m\u001b[0m\u001b[0m\n",
      "\u001b[0;32m/opt/anaconda3/lib/python3.11/site-packages/persist_ext/internals/widgets/base/widget_with_data.py\u001b[0m in \u001b[0;36m?\u001b[0;34m(self, data, id_column, *args, **kwargs)\u001b[0m\n\u001b[1;32m     90\u001b[0m         \u001b[0mdata\u001b[0m\u001b[0;34m[\u001b[0m\u001b[0mANNOTATE_COLUMN_NAME\u001b[0m\u001b[0;34m]\u001b[0m \u001b[0;34m=\u001b[0m \u001b[0mNO_ANNOTATION\u001b[0m\u001b[0;34m\u001b[0m\u001b[0;34m\u001b[0m\u001b[0m\n\u001b[1;32m     91\u001b[0m \u001b[0;34m\u001b[0m\u001b[0m\n\u001b[1;32m     92\u001b[0m         \u001b[0mdata\u001b[0m \u001b[0;34m=\u001b[0m \u001b[0mself\u001b[0m\u001b[0;34m.\u001b[0m\u001b[0m__infer_object_data_types\u001b[0m\u001b[0;34m(\u001b[0m\u001b[0mdata\u001b[0m\u001b[0;34m)\u001b[0m\u001b[0;34m\u001b[0m\u001b[0;34m\u001b[0m\u001b[0m\n\u001b[1;32m     93\u001b[0m \u001b[0;34m\u001b[0m\u001b[0m\n\u001b[0;32m---> 94\u001b[0;31m         super(WidgetWithData, self).__init__(\n\u001b[0m\u001b[1;32m     95\u001b[0m             \u001b[0mdata\u001b[0m\u001b[0;34m=\u001b[0m\u001b[0mdata\u001b[0m\u001b[0;34m,\u001b[0m\u001b[0;34m\u001b[0m\u001b[0;34m\u001b[0m\u001b[0m\n\u001b[1;32m     96\u001b[0m             \u001b[0m_persistent_data\u001b[0m\u001b[0;34m=\u001b[0m\u001b[0mdata\u001b[0m\u001b[0;34m.\u001b[0m\u001b[0mcopy\u001b[0m\u001b[0;34m(\u001b[0m\u001b[0mdeep\u001b[0m\u001b[0;34m=\u001b[0m\u001b[0;32mTrue\u001b[0m\u001b[0;34m)\u001b[0m\u001b[0;34m,\u001b[0m\u001b[0;34m\u001b[0m\u001b[0;34m\u001b[0m\u001b[0m\n\u001b[1;32m     97\u001b[0m             \u001b[0mid_column\u001b[0m\u001b[0;34m=\u001b[0m\u001b[0mid_column\u001b[0m\u001b[0;34m,\u001b[0m\u001b[0;34m\u001b[0m\u001b[0;34m\u001b[0m\u001b[0m\n",
      "\u001b[0;32m/opt/anaconda3/lib/python3.11/site-packages/persist_ext/internals/widgets/base/widget_with_trrack.py\u001b[0m in \u001b[0;36m?\u001b[0;34m(self, *args, **kwargs)\u001b[0m\n\u001b[1;32m     17\u001b[0m     \u001b[0;32mdef\u001b[0m \u001b[0m__init__\u001b[0m\u001b[0;34m(\u001b[0m\u001b[0mself\u001b[0m\u001b[0;34m,\u001b[0m \u001b[0;34m*\u001b[0m\u001b[0margs\u001b[0m\u001b[0;34m,\u001b[0m \u001b[0;34m**\u001b[0m\u001b[0mkwargs\u001b[0m\u001b[0;34m)\u001b[0m\u001b[0;34m:\u001b[0m\u001b[0;34m\u001b[0m\u001b[0;34m\u001b[0m\u001b[0m\n\u001b[1;32m     18\u001b[0m         \u001b[0mself\u001b[0m\u001b[0;34m.\u001b[0m\u001b[0moutput\u001b[0m\u001b[0;34m:\u001b[0m \u001b[0mOutputProcessor\u001b[0m\u001b[0;34m\u001b[0m\u001b[0;34m\u001b[0m\u001b[0m\n\u001b[0;32m---> 19\u001b[0;31m         \u001b[0msuper\u001b[0m\u001b[0;34m(\u001b[0m\u001b[0mWidgetWithTrrack\u001b[0m\u001b[0;34m,\u001b[0m \u001b[0mself\u001b[0m\u001b[0;34m)\u001b[0m\u001b[0;34m.\u001b[0m\u001b[0m__init__\u001b[0m\u001b[0;34m(\u001b[0m\u001b[0;34m*\u001b[0m\u001b[0margs\u001b[0m\u001b[0;34m,\u001b[0m \u001b[0;34m**\u001b[0m\u001b[0mkwargs\u001b[0m\u001b[0;34m)\u001b[0m\u001b[0;34m\u001b[0m\u001b[0;34m\u001b[0m\u001b[0m\n\u001b[0m",
      "\u001b[0;32m/opt/anaconda3/lib/python3.11/site-packages/persist_ext/internals/widgets/base/base_anywidget.py\u001b[0m in \u001b[0;36m?\u001b[0;34m(self, widget_key, *args, **kwargs)\u001b[0m\n\u001b[1;32m     18\u001b[0m \u001b[0;34m\u001b[0m\u001b[0m\n\u001b[1;32m     19\u001b[0m         \u001b[0;32mif\u001b[0m \u001b[0mtype\u001b[0m\u001b[0;34m(\u001b[0m\u001b[0mself\u001b[0m\u001b[0;34m)\u001b[0m \u001b[0;32mis\u001b[0m \u001b[0mBaseAnyWidget\u001b[0m\u001b[0;34m:\u001b[0m\u001b[0;34m\u001b[0m\u001b[0;34m\u001b[0m\u001b[0m\n\u001b[1;32m     20\u001b[0m             \u001b[0;32mraise\u001b[0m \u001b[0mNotImplementedError\u001b[0m\u001b[0;34m(\u001b[0m\u001b[0;34m\"Cannot create instance of this base class\"\u001b[0m\u001b[0;34m)\u001b[0m\u001b[0;34m\u001b[0m\u001b[0;34m\u001b[0m\u001b[0m\n\u001b[1;32m     21\u001b[0m \u001b[0;34m\u001b[0m\u001b[0m\n\u001b[0;32m---> 22\u001b[0;31m         \u001b[0msuper\u001b[0m\u001b[0;34m(\u001b[0m\u001b[0mBaseAnyWidget\u001b[0m\u001b[0;34m,\u001b[0m \u001b[0mself\u001b[0m\u001b[0;34m)\u001b[0m\u001b[0;34m.\u001b[0m\u001b[0m__init__\u001b[0m\u001b[0;34m(\u001b[0m\u001b[0;34m*\u001b[0m\u001b[0margs\u001b[0m\u001b[0;34m,\u001b[0m \u001b[0;34m**\u001b[0m\u001b[0mkwargs\u001b[0m\u001b[0;34m)\u001b[0m\u001b[0;34m\u001b[0m\u001b[0;34m\u001b[0m\u001b[0m\n\u001b[0m",
      "\u001b[0;32m/opt/anaconda3/lib/python3.11/site-packages/anywidget/widget.py\u001b[0m in \u001b[0;36m?\u001b[0;34m(self, *args, **kwargs)\u001b[0m\n\u001b[1;32m     57\u001b[0m             \u001b[0;34mf\"{self.__class__.__module__}.{self.__class__.__name__}\"\u001b[0m\u001b[0;34m\u001b[0m\u001b[0;34m\u001b[0m\u001b[0m\n\u001b[1;32m     58\u001b[0m         ).tag(sync=True)\n\u001b[1;32m     59\u001b[0m \u001b[0;34m\u001b[0m\u001b[0m\n\u001b[1;32m     60\u001b[0m         \u001b[0mself\u001b[0m\u001b[0;34m.\u001b[0m\u001b[0madd_traits\u001b[0m\u001b[0;34m(\u001b[0m\u001b[0;34m**\u001b[0m\u001b[0manywidget_traits\u001b[0m\u001b[0;34m)\u001b[0m\u001b[0;34m\u001b[0m\u001b[0;34m\u001b[0m\u001b[0m\n\u001b[0;32m---> 61\u001b[0;31m         \u001b[0msuper\u001b[0m\u001b[0;34m(\u001b[0m\u001b[0;34m)\u001b[0m\u001b[0;34m.\u001b[0m\u001b[0m__init__\u001b[0m\u001b[0;34m(\u001b[0m\u001b[0;34m*\u001b[0m\u001b[0margs\u001b[0m\u001b[0;34m,\u001b[0m \u001b[0;34m**\u001b[0m\u001b[0mkwargs\u001b[0m\u001b[0;34m)\u001b[0m\u001b[0;34m\u001b[0m\u001b[0;34m\u001b[0m\u001b[0m\n\u001b[0m\u001b[1;32m     62\u001b[0m         \u001b[0m_register_anywidget_commands\u001b[0m\u001b[0;34m(\u001b[0m\u001b[0mself\u001b[0m\u001b[0;34m)\u001b[0m\u001b[0;34m\u001b[0m\u001b[0;34m\u001b[0m\u001b[0m\n",
      "\u001b[0;32m/opt/anaconda3/lib/python3.11/site-packages/ipywidgets/widgets/widget.py\u001b[0m in \u001b[0;36m?\u001b[0;34m(self, **kwargs)\u001b[0m\n\u001b[1;32m    409\u001b[0m     \u001b[0;32mdef\u001b[0m \u001b[0m__init__\u001b[0m\u001b[0;34m(\u001b[0m\u001b[0mself\u001b[0m\u001b[0;34m,\u001b[0m \u001b[0;34m**\u001b[0m\u001b[0mkwargs\u001b[0m\u001b[0;34m)\u001b[0m\u001b[0;34m:\u001b[0m\u001b[0;34m\u001b[0m\u001b[0;34m\u001b[0m\u001b[0m\n\u001b[1;32m    410\u001b[0m         \u001b[0;34m\"\"\"Public constructor\"\"\"\u001b[0m\u001b[0;34m\u001b[0m\u001b[0;34m\u001b[0m\u001b[0m\n\u001b[1;32m    411\u001b[0m         \u001b[0mself\u001b[0m\u001b[0;34m.\u001b[0m\u001b[0m_model_id\u001b[0m \u001b[0;34m=\u001b[0m \u001b[0mkwargs\u001b[0m\u001b[0;34m.\u001b[0m\u001b[0mpop\u001b[0m\u001b[0;34m(\u001b[0m\u001b[0;34m'model_id'\u001b[0m\u001b[0;34m,\u001b[0m \u001b[0;32mNone\u001b[0m\u001b[0;34m)\u001b[0m\u001b[0;34m\u001b[0m\u001b[0;34m\u001b[0m\u001b[0m\n\u001b[0;32m--> 412\u001b[0;31m         \u001b[0msuper\u001b[0m\u001b[0;34m(\u001b[0m\u001b[0mWidget\u001b[0m\u001b[0;34m,\u001b[0m \u001b[0mself\u001b[0m\u001b[0;34m)\u001b[0m\u001b[0;34m.\u001b[0m\u001b[0m__init__\u001b[0m\u001b[0;34m(\u001b[0m\u001b[0;34m**\u001b[0m\u001b[0mkwargs\u001b[0m\u001b[0;34m)\u001b[0m\u001b[0;34m\u001b[0m\u001b[0;34m\u001b[0m\u001b[0m\n\u001b[0m\u001b[1;32m    413\u001b[0m \u001b[0;34m\u001b[0m\u001b[0m\n\u001b[1;32m    414\u001b[0m         \u001b[0mWidget\u001b[0m\u001b[0;34m.\u001b[0m\u001b[0m_call_widget_constructed\u001b[0m\u001b[0;34m(\u001b[0m\u001b[0mself\u001b[0m\u001b[0;34m)\u001b[0m\u001b[0;34m\u001b[0m\u001b[0;34m\u001b[0m\u001b[0m\n\u001b[1;32m    415\u001b[0m         \u001b[0mself\u001b[0m\u001b[0;34m.\u001b[0m\u001b[0mopen\u001b[0m\u001b[0;34m(\u001b[0m\u001b[0;34m)\u001b[0m\u001b[0;34m\u001b[0m\u001b[0;34m\u001b[0m\u001b[0m\n",
      "\u001b[0;32m/opt/anaconda3/lib/python3.11/site-packages/traitlets/traitlets.py\u001b[0m in \u001b[0;36m?\u001b[0;34m(self, *args, **kwargs)\u001b[0m\n\u001b[1;32m   1360\u001b[0m             \u001b[0mself\u001b[0m\u001b[0;34m.\u001b[0m\u001b[0m_cross_validation_lock\u001b[0m \u001b[0;34m=\u001b[0m \u001b[0;32mFalse\u001b[0m\u001b[0;34m\u001b[0m\u001b[0;34m\u001b[0m\u001b[0m\n\u001b[1;32m   1361\u001b[0m             \u001b[0;31m# Restore method retrieval from class\u001b[0m\u001b[0;34m\u001b[0m\u001b[0;34m\u001b[0m\u001b[0m\n\u001b[1;32m   1362\u001b[0m             \u001b[0;32mdel\u001b[0m \u001b[0mself\u001b[0m\u001b[0;34m.\u001b[0m\u001b[0mnotify_change\u001b[0m\u001b[0;34m\u001b[0m\u001b[0;34m\u001b[0m\u001b[0m\n\u001b[1;32m   1363\u001b[0m             \u001b[0;32mfor\u001b[0m \u001b[0mkey\u001b[0m \u001b[0;32min\u001b[0m \u001b[0mchanged\u001b[0m\u001b[0;34m:\u001b[0m\u001b[0;34m\u001b[0m\u001b[0;34m\u001b[0m\u001b[0m\n\u001b[0;32m-> 1364\u001b[0;31m                 \u001b[0mself\u001b[0m\u001b[0;34m.\u001b[0m\u001b[0mnotify_change\u001b[0m\u001b[0;34m(\u001b[0m\u001b[0mchanges\u001b[0m\u001b[0;34m[\u001b[0m\u001b[0mkey\u001b[0m\u001b[0;34m]\u001b[0m\u001b[0;34m)\u001b[0m\u001b[0;34m\u001b[0m\u001b[0;34m\u001b[0m\u001b[0m\n\u001b[0m\u001b[1;32m   1365\u001b[0m \u001b[0;34m\u001b[0m\u001b[0m\n\u001b[1;32m   1366\u001b[0m         \u001b[0;32mtry\u001b[0m\u001b[0;34m:\u001b[0m\u001b[0;34m\u001b[0m\u001b[0;34m\u001b[0m\u001b[0m\n\u001b[1;32m   1367\u001b[0m             \u001b[0msuper\u001b[0m\u001b[0;34m(\u001b[0m\u001b[0;34m)\u001b[0m\u001b[0;34m.\u001b[0m\u001b[0m__init__\u001b[0m\u001b[0;34m(\u001b[0m\u001b[0;34m*\u001b[0m\u001b[0msuper_args\u001b[0m\u001b[0;34m,\u001b[0m \u001b[0;34m**\u001b[0m\u001b[0msuper_kwargs\u001b[0m\u001b[0;34m)\u001b[0m\u001b[0;34m\u001b[0m\u001b[0;34m\u001b[0m\u001b[0m\n",
      "\u001b[0;32m/opt/anaconda3/lib/python3.11/site-packages/ipywidgets/widgets/widget.py\u001b[0m in \u001b[0;36m?\u001b[0;34m(self, change)\u001b[0m\n\u001b[1;32m    602\u001b[0m             \u001b[0;31m# Make sure this isn't information that the front-end just sent us.\u001b[0m\u001b[0;34m\u001b[0m\u001b[0;34m\u001b[0m\u001b[0m\n\u001b[1;32m    603\u001b[0m             \u001b[0;32mif\u001b[0m \u001b[0mname\u001b[0m \u001b[0;32min\u001b[0m \u001b[0mself\u001b[0m\u001b[0;34m.\u001b[0m\u001b[0mkeys\u001b[0m \u001b[0;32mand\u001b[0m \u001b[0mself\u001b[0m\u001b[0;34m.\u001b[0m\u001b[0m_should_send_property\u001b[0m\u001b[0;34m(\u001b[0m\u001b[0mname\u001b[0m\u001b[0;34m,\u001b[0m \u001b[0mgetattr\u001b[0m\u001b[0;34m(\u001b[0m\u001b[0mself\u001b[0m\u001b[0;34m,\u001b[0m \u001b[0mname\u001b[0m\u001b[0;34m)\u001b[0m\u001b[0;34m)\u001b[0m\u001b[0;34m:\u001b[0m\u001b[0;34m\u001b[0m\u001b[0;34m\u001b[0m\u001b[0m\n\u001b[1;32m    604\u001b[0m                 \u001b[0;31m# Send new state to front-end\u001b[0m\u001b[0;34m\u001b[0m\u001b[0;34m\u001b[0m\u001b[0m\n\u001b[1;32m    605\u001b[0m                 \u001b[0mself\u001b[0m\u001b[0;34m.\u001b[0m\u001b[0msend_state\u001b[0m\u001b[0;34m(\u001b[0m\u001b[0mkey\u001b[0m\u001b[0;34m=\u001b[0m\u001b[0mname\u001b[0m\u001b[0;34m)\u001b[0m\u001b[0;34m\u001b[0m\u001b[0;34m\u001b[0m\u001b[0m\n\u001b[0;32m--> 606\u001b[0;31m         \u001b[0msuper\u001b[0m\u001b[0;34m(\u001b[0m\u001b[0mWidget\u001b[0m\u001b[0;34m,\u001b[0m \u001b[0mself\u001b[0m\u001b[0;34m)\u001b[0m\u001b[0;34m.\u001b[0m\u001b[0mnotify_change\u001b[0m\u001b[0;34m(\u001b[0m\u001b[0mchange\u001b[0m\u001b[0;34m)\u001b[0m\u001b[0;34m\u001b[0m\u001b[0;34m\u001b[0m\u001b[0m\n\u001b[0m",
      "\u001b[0;32m/opt/anaconda3/lib/python3.11/site-packages/traitlets/traitlets.py\u001b[0m in \u001b[0;36m?\u001b[0;34m(self, change)\u001b[0m\n\u001b[1;32m   1511\u001b[0m     \u001b[0;32mdef\u001b[0m \u001b[0mnotify_change\u001b[0m\u001b[0;34m(\u001b[0m\u001b[0mself\u001b[0m\u001b[0;34m,\u001b[0m \u001b[0mchange\u001b[0m\u001b[0;34m)\u001b[0m\u001b[0;34m:\u001b[0m\u001b[0;34m\u001b[0m\u001b[0;34m\u001b[0m\u001b[0m\n\u001b[1;32m   1512\u001b[0m         \u001b[0;34m\"\"\"Notify observers of a change event\"\"\"\u001b[0m\u001b[0;34m\u001b[0m\u001b[0;34m\u001b[0m\u001b[0m\n\u001b[0;32m-> 1513\u001b[0;31m         \u001b[0;32mreturn\u001b[0m \u001b[0mself\u001b[0m\u001b[0;34m.\u001b[0m\u001b[0m_notify_observers\u001b[0m\u001b[0;34m(\u001b[0m\u001b[0mchange\u001b[0m\u001b[0;34m)\u001b[0m\u001b[0;34m\u001b[0m\u001b[0;34m\u001b[0m\u001b[0m\n\u001b[0m",
      "\u001b[0;32m/opt/anaconda3/lib/python3.11/site-packages/traitlets/traitlets.py\u001b[0m in \u001b[0;36m?\u001b[0;34m(self, event)\u001b[0m\n\u001b[1;32m   1556\u001b[0m                 \u001b[0mc\u001b[0m \u001b[0;34m=\u001b[0m \u001b[0mc\u001b[0m\u001b[0;34m.\u001b[0m\u001b[0m__call__\u001b[0m\u001b[0;34m\u001b[0m\u001b[0;34m\u001b[0m\u001b[0m\n\u001b[1;32m   1557\u001b[0m             \u001b[0;32melif\u001b[0m \u001b[0misinstance\u001b[0m\u001b[0;34m(\u001b[0m\u001b[0mc\u001b[0m\u001b[0;34m,\u001b[0m \u001b[0mEventHandler\u001b[0m\u001b[0;34m)\u001b[0m \u001b[0;32mand\u001b[0m \u001b[0mc\u001b[0m\u001b[0;34m.\u001b[0m\u001b[0mname\u001b[0m \u001b[0;32mis\u001b[0m \u001b[0;32mnot\u001b[0m \u001b[0;32mNone\u001b[0m\u001b[0;34m:\u001b[0m\u001b[0;34m\u001b[0m\u001b[0;34m\u001b[0m\u001b[0m\n\u001b[1;32m   1558\u001b[0m                 \u001b[0mc\u001b[0m \u001b[0;34m=\u001b[0m \u001b[0mgetattr\u001b[0m\u001b[0;34m(\u001b[0m\u001b[0mself\u001b[0m\u001b[0;34m,\u001b[0m \u001b[0mc\u001b[0m\u001b[0;34m.\u001b[0m\u001b[0mname\u001b[0m\u001b[0;34m)\u001b[0m\u001b[0;34m\u001b[0m\u001b[0;34m\u001b[0m\u001b[0m\n\u001b[1;32m   1559\u001b[0m \u001b[0;34m\u001b[0m\u001b[0m\n\u001b[0;32m-> 1560\u001b[0;31m             \u001b[0mc\u001b[0m\u001b[0;34m(\u001b[0m\u001b[0mevent\u001b[0m\u001b[0;34m)\u001b[0m\u001b[0;34m\u001b[0m\u001b[0;34m\u001b[0m\u001b[0m\n\u001b[0m",
      "\u001b[0;32m/opt/anaconda3/lib/python3.11/site-packages/persist_ext/internals/widgets/base/widget_with_data.py\u001b[0m in \u001b[0;36m?\u001b[0;34m(self, change)\u001b[0m\n\u001b[1;32m    223\u001b[0m \u001b[0;34m\u001b[0m\u001b[0m\n\u001b[1;32m    224\u001b[0m             \u001b[0mdata_c\u001b[0m \u001b[0;34m=\u001b[0m \u001b[0mdata\u001b[0m\u001b[0;34m.\u001b[0m\u001b[0mrename\u001b[0m\u001b[0;34m(\u001b[0m\u001b[0mcolumns\u001b[0m\u001b[0;34m=\u001b[0m\u001b[0;34m{\u001b[0m\u001b[0mANNOTATE_COLUMN_NAME\u001b[0m\u001b[0;34m:\u001b[0m \u001b[0mPR_ANNOTATE\u001b[0m\u001b[0;34m}\u001b[0m\u001b[0;34m)\u001b[0m\u001b[0;34m\u001b[0m\u001b[0;34m\u001b[0m\u001b[0m\n\u001b[1;32m    225\u001b[0m \u001b[0;34m\u001b[0m\u001b[0m\n\u001b[1;32m    226\u001b[0m             if (\n\u001b[0;32m--> 227\u001b[0;31m                 \u001b[0mPR_ANNOTATE\u001b[0m \u001b[0;32min\u001b[0m \u001b[0mdata_c\u001b[0m\u001b[0;34m\u001b[0m\u001b[0;34m\u001b[0m\u001b[0m\n\u001b[0m\u001b[1;32m    228\u001b[0m                 \u001b[0;32mand\u001b[0m \u001b[0mdata_c\u001b[0m\u001b[0;34m[\u001b[0m\u001b[0mPR_ANNOTATE\u001b[0m\u001b[0;34m]\u001b[0m\u001b[0;34m.\u001b[0m\u001b[0mapply\u001b[0m\u001b[0;34m(\u001b[0m\u001b[0;32mlambda\u001b[0m \u001b[0mx\u001b[0m\u001b[0;34m:\u001b[0m \u001b[0mx\u001b[0m \u001b[0;34m==\u001b[0m \u001b[0mNO_ANNOTATION\u001b[0m\u001b[0;34m)\u001b[0m\u001b[0;34m.\u001b[0m\u001b[0mall\u001b[0m\u001b[0;34m(\u001b[0m\u001b[0;34m)\u001b[0m\u001b[0;34m\u001b[0m\u001b[0;34m\u001b[0m\u001b[0m\n\u001b[1;32m    229\u001b[0m             ):\n\u001b[1;32m    230\u001b[0m                 \u001b[0mdata_c\u001b[0m \u001b[0;34m=\u001b[0m \u001b[0mdata_c\u001b[0m\u001b[0;34m.\u001b[0m\u001b[0mdrop\u001b[0m\u001b[0;34m(\u001b[0m\u001b[0mcolumns\u001b[0m\u001b[0;34m=\u001b[0m\u001b[0;34m[\u001b[0m\u001b[0mPR_ANNOTATE\u001b[0m\u001b[0;34m]\u001b[0m\u001b[0;34m)\u001b[0m\u001b[0;34m\u001b[0m\u001b[0;34m\u001b[0m\u001b[0m\n",
      "\u001b[0;32m/opt/anaconda3/lib/python3.11/site-packages/pandas/core/generic.py\u001b[0m in \u001b[0;36m?\u001b[0;34m(self)\u001b[0m\n\u001b[1;32m   1517\u001b[0m     \u001b[0;34m@\u001b[0m\u001b[0mfinal\u001b[0m\u001b[0;34m\u001b[0m\u001b[0;34m\u001b[0m\u001b[0m\n\u001b[1;32m   1518\u001b[0m     \u001b[0;32mdef\u001b[0m \u001b[0m__nonzero__\u001b[0m\u001b[0;34m(\u001b[0m\u001b[0mself\u001b[0m\u001b[0;34m)\u001b[0m \u001b[0;34m->\u001b[0m \u001b[0mNoReturn\u001b[0m\u001b[0;34m:\u001b[0m\u001b[0;34m\u001b[0m\u001b[0;34m\u001b[0m\u001b[0m\n\u001b[0;32m-> 1519\u001b[0;31m         raise ValueError(\n\u001b[0m\u001b[1;32m   1520\u001b[0m             \u001b[0;34mf\"The truth value of a {type(self).__name__} is ambiguous. \"\u001b[0m\u001b[0;34m\u001b[0m\u001b[0;34m\u001b[0m\u001b[0m\n\u001b[1;32m   1521\u001b[0m             \u001b[0;34m\"Use a.empty, a.bool(), a.item(), a.any() or a.all().\"\u001b[0m\u001b[0;34m\u001b[0m\u001b[0;34m\u001b[0m\u001b[0m\n\u001b[1;32m   1522\u001b[0m         )\n",
      "\u001b[0;31mValueError\u001b[0m: The truth value of a Series is ambiguous. Use a.empty, a.bool(), a.item(), a.any() or a.all()."
     ]
    }
   ],
   "source": [
    "pts = alt.selection_point(name=\"selector\", fields=['Trigger'])\n",
    "\n",
    "base = alt.Chart(avalanches_1).encode(y=\"count()\")\n",
    "\n",
    "trigger = base.mark_bar().encode(\n",
    "    x=\"Trigger:N\",\n",
    "    color=alt.condition(pts, \"Trigger:N\", alt.value(\"gray\"))\n",
    ").add_params(pts)\n",
    "\n",
    "weak_layer = base.mark_bar().encode(\n",
    "    x=\"Weak Layer:N\",\n",
    "    color=\"Weak Layer:N\",\n",
    "    tooltip=\"count()\"\n",
    ").transform_filter(\n",
    "    pts\n",
    ")\n",
    "\n",
    "chart = alt.hconcat(\n",
    "    trigger, weak_layer\n",
    ").resolve_scale(\n",
    "    color=\"independent\",\n",
    ")\n",
    "\n",
    "PR.PersistChart(chart, data=avalanches_1)"
   ]
  },
  {
   "cell_type": "code",
   "execution_count": null,
   "id": "96693c8a-10b2-4218-9c0f-ac34bcdf1bc6",
   "metadata": {},
   "outputs": [],
   "source": []
  }
 ],
 "metadata": {
  "__persist_keys_record": [
   "__GENERATED_DATAFRAMES__",
   "__persist_nb_uuid__",
   "trrack_graph"
  ],
  "__persist_nb_uuid__": "877c0b64-4b3d-4dc4-aaca-6e0926eba22d",
  "kernelspec": {
   "display_name": "Python 3 (ipykernel)",
   "language": "python",
   "name": "python3"
  },
  "language_info": {
   "codemirror_mode": {
    "name": "ipython",
    "version": 3
   },
   "file_extension": ".py",
   "mimetype": "text/x-python",
   "name": "python",
   "nbconvert_exporter": "python",
   "pygments_lexer": "ipython3",
   "version": "3.11.7"
  }
 },
 "nbformat": 4,
 "nbformat_minor": 5
}
