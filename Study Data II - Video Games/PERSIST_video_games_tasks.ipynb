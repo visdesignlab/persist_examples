{
 "cells": [
  {
   "cell_type": "markdown",
   "id": "522fcbb3-702c-4ea0-91d9-f3b0e71690fc",
   "metadata": {
    "__GENERATED_DATAFRAMES__": "{\"nodeDataframes\":{},\"graphDataframes\":null}",
    "show_aggregate_original": "false",
    "trrack_graph": "ᯡ࠽䈌ʀ匦㢠⹰àᦴ΀࣪ʐ怶䦠挠᱊ࠥ䁁䂖㚥煤晬փ⊪ĸ暂䙠঳ैkᑄᄈ妐ଷᓋ⃩䖻Ṯ溜Φ䐡傠Ǒ団Қ′䈤7ࡣᠠ湐戎Ⴆ寐爤䀥屨攠ʕ㥀ǔÚ䍃㏙䤥ࢂ┩勸惀Ēいཆ༠೥∁∀秸㲅䌠ⶬᛦ䙂ǃɡ殍戰泤ᒁ嬦怭㋉匥穃ᄠ彣჻⴦䉫ぢ睤䄁ⵐۻG䀡曑砑䂱竖ᄂ㜿Ꭽ˹ȩᚱ凁兘㑐Ṣ༩Ẻ䳥⑆憰棨忞⍧攈堽Ī僰὆揖䦲ᡊ⛓౱নఱ姼ᤦΧ您別൧儸晋Ǣ熘繀䉁硨K塊়ṹᜰ倳䪂ⵦ⚈ᒽ᪺ᆬ䀠 "
   },
   "source": [
    "# Analyzing Video Games Across Genres"
   ]
  },
  {
   "cell_type": "markdown",
   "id": "19cb3971-5981-474c-8250-7981c7c9cc8a",
   "metadata": {
    "trrack_graph": "ᯡ࠽䈌ʀ匦㢠⹰ૠܠ昢〽䂆౐׀ৣfL⍉ျ⥒⠡䒙¬ᧇ峕搢ಒ嫒┠অҤᵖ㹢晴㘉ᦳㄍ毿䡨墠ᨰV䆼ガ搢⡠䀢焨㌠෦ౝ戰殖๠ᠠ塩ೀn坄V䀷⢄㚗᥂夬ು䅻ఴ>☤䝃傳狱⊔㳜ੁ䀶挫㐷ࢢӡჵ嬩іㄪᢉ懐ͻ䬥䇽ࣨ䁏僿峱䐰㋸ᇻ兀㡆䱍㛠਀ⲛ粀೽疨һ䟩桁㙡Ũ昙ˢ䧮ᄪᆽ䥢ᅅᄁẩ㱸౮ᐶޣ先ఽЃⵖᥒ⌥▶懜ᩑƢ᭛䭄憐ɑ٦⦈䙓ǂ炘㸠䱅࢜ؠଌથ䜯๡䙉夊᜶僑汢㭢☈₁䠠 "
   },
   "source": [
    "**Participant ID:**  \n",
    "**Date / Time:**"
   ]
  },
  {
   "cell_type": "markdown",
   "id": "ceac0d48-2820-4532-bfd2-adf6533d7a2d",
   "metadata": {},
   "source": [
    "# Introduction\n",
    "Welcome to our data analysis study. For this study, you'll be working with a dataset sourced [Corgis Datasets Project](https://corgis-edu.github.io/corgis/).\n",
    "\n",
    "The data was originally published in the publication [“What makes a blockbuster video game? An empirical analysis of US sales data.” Managerial and Decision Economics](https://researchportal.port.ac.uk/en/publications/what-makes-a-blockbuster-video-game-an-empirical-analysis-of-us-s) by Dr Joe Cox. \n",
    "\n",
    "The dataset has information about the sales and playtime of over a thousand video games released between 2004 and 2010. The playtime information was collected from crowd-sourced data on [\"How Long to Beat\"](https://howlongtobeat.com/)."
   ]
  },
  {
   "cell_type": "markdown",
   "id": "68491102-96aa-4701-8134-d998c80ae04b",
   "metadata": {},
   "source": [
    "- The PersIst extension is already installed and enabled in this notebook.\n",
    "- To familiarize yourself with its functionalities, please refer to the provided [tutorial notebook](../tutorial.ipynb).\n",
    "- Interactive charts and tables have been pre-created for your convenience. These can be directly utilized by running the corresponding cells.\n",
    "- Focus on leveraging the interactive capabilities of Persist for your analysis."
   ]
  },
  {
   "cell_type": "markdown",
   "id": "95b5d524-883a-460b-8023-2c6aab29570f",
   "metadata": {},
   "source": [
    "## Tasks Overview"
   ]
  },
  {
   "cell_type": "markdown",
   "id": "8ebadbe2-4497-401c-9220-017809e835de",
   "metadata": {
    "__GENERATED_DATAFRAMES__": "{\"nodeDataframes\":{},\"graphDataframes\":null}",
    "show_aggregate_original": "false",
    "trrack_graph": "ᯡ࠽䈌ʀ匦㢠⹰ૠବɐච䎍倶䊪ᠠ父嬡ᳺ෪ੲࠬ晴ᘦ㍲差Ⱗㅅ)㊤䈽ାƂ刴喋橖㎁混䩟ႠᨰV岸㈔␢⡠䀢焧匠෦భ戰௷㙠̸x䠊䀡᲼䠠洠⺾彡抄䀠㈉㶣㡶ᡈ\\䰩(懄燃㌂㰢ᒌ娾䀶挥㗦ࢢ烡ၕ⬱жㄢ៉䓐͸⮑ŝㄐ䁏你㋲既祸ၛᅀ㢆䰽⫠਀⻚粀幝ඨ࣓叾殪㙡ƨ◓ᰢ寘奇Ⴌ䦦糂礒৉ᱥ䩃༥ס扦᤭ԓ噻ҩᆠ剋࣡ସ䂡▥撰じ㸨䅃䢴മ䂁ᣌ㬫䈁碢➫怢崢悩欂䥑央Ⴧ掴≺䩬槔ဨ搠 "
   },
   "source": [
    "In this study, you are presented with three fundamental data analysis tasks. Each task is designed to test different aspects of data analysis and manipulation.\n",
    "\n",
    "- Carefully follow the step-by-step instructions provided for each task.\n",
    "- As you work through the tasks, take note of any interesting findings or challenges you encounter.\n",
    "- Feel free to add new code and markdown cells in the notebook as necessary to complete the tasks.\n",
    "- Document your findings and any challenges faced during the analysis in markdown cells. This can include observations about the data, any issues encountered, and your overall experience with the task/method.\n",
    "\n",
    "**Support**\n",
    "- If you require assistance or need further clarification on any of the tasks, please let us know.\n",
    "- If you find yourself stuck on a task and feel that you will not make any progress, you have the option to skip the task.\n",
    "- For tasks that build upon the outputs of previous tasks, skipping a task might affect your ability to proceed. If you choose to skip a task, we can assist you by providing the necessary dataset or outputs required for the consecutive tasks."
   ]
  },
  {
   "cell_type": "code",
   "execution_count": 1,
   "id": "9337796b-21e8-4c8c-bbbd-3076a775d03b",
   "metadata": {},
   "outputs": [],
   "source": [
    "import helpers as h\n",
    "import pandas as pd\n",
    "\n",
    "import seaborn as sns\n",
    "import matplotlib.pyplot as plt\n",
    "import altair as alt\n",
    "\n",
    "import persist_ext as PR"
   ]
  },
  {
   "cell_type": "markdown",
   "id": "dd81aecd-eebf-4624-b9e2-3a864c474c1d",
   "metadata": {
    "__GENERATED_DATAFRAMES__": "{\"nodeDataframes\":{},\"graphDataframes\":null}",
    "show_aggregate_original": "false",
    "trrack_graph": "ᯡ࠽䈌ʀ匦㢠⹰Ҁ̡䘠烠嘢త〫‥侴ᓬᛞ拐ৡ䚂ద抭婈ހڅྯ䌲⠠䭈⑁槑焳Ⴥ⩦仃㍶๽㰥Ҩǁ#㟢䌰橠ኤРᜰ͐üメ湁˛㾄ָ̠憴)挄䀦栢琭ٮ㍄ᨡ䌤ᾣㆢ䀣擠䢤㘦Sᥧᡠ戂怡ᠬÖᠻ㹈䐿ة׉妨⃓ࢱ̴㖠᫲徤ฏѤƜڣ回㸦ۡ৵ण䃔戊㘠传ϊ緯挡䘌污䕽庮粓㈨ɪⷠ搃猄ᦨ洘㳌ᤪ̪౦繶ሱ澂䘣⁑Ҝഭ炍孉ृÅ⭱䤾ᢠ䆋෭ኀ㠢Ү≱呺Ấ惑汮ᮯ戩䊏̠˙Ɂ⧽憳㈒ṉⅱਊ⥋⃆瑀⣨  "
   },
   "source": [
    "## Data Description\n",
    "\n",
    "The table below describes the different columns in the dataset. Each row in the dataset represents a video game.\n",
    "\n",
    "| Column        | Description                                                                                                                                                           |\n",
    "|---------------|-----------------------------------------------------------------------------------------------------------------------------------------------------------------------|\n",
    "| Title         | Full title of the game.                                                                                                                                               |\n",
    "| Handheld      | Whether this is a hand-held game.                                                                                                                                     |\n",
    "| Max Players   | The maximum number of players that can play this game.                                                                                                                |\n",
    "| Multiplatform | Whether this game is available on multiple platforms.                                                                                                                 |\n",
    "| Online        | Whether this game supports online play.                                                                                                                               |\n",
    "| Genres        | The main genre that this game belongs to.                                                                                                                             |\n",
    "| Licensed      | Whether this game was based off a previously licensed entity.                                                                                                         |\n",
    "| Publishers    | The publishers who created this game.                                                                                                                                 |\n",
    "| Sequel        | Whether this game is a sequel to another game.                                                                                                                        |\n",
    "| Review Score  | A review score for this game, out of 100.                                                                                                                             |\n",
    "| Sales         | The total sales made on this game, measured in millions of dollars.                                                                                                   |\n",
    "| Used Price    | A typical \"used\" price for this game (i.e. previously returned and sold), measured in dollars.                                                                        |\n",
    "| Console       | The name of the console that this particular game was released for. Note that the dataset contains multiple copies of the same game, released for different consoles. |\n",
    "| Rating        | The ESRB rating for this game, either E (for Everyone), T (for Teen), or M (for Mature).                                                                              |\n",
    "| Re-release    | Whether this game is a re-release of an earlier one.                                                                                                                  |\n",
    "| Year          | The year that this game was released.                                                                                                                                 |\n",
    "| CT_All        | The median time that players reported completing the game in any way, in hours. This is the median over all the other categories.                                     |\n",
    "| CT_Comp       | The median time that players reported completing everything in the game, in hours.                                                                                    |\n",
    "| CT_MainExtra  | The median time that players reported completing the main game and major extra parts of the game, in hours.                                                           |\n",
    "| CT_MainOnly   | The median time that players reported completing the main game storyline, in hours.                                                                                   |"
   ]
  },
  {
   "cell_type": "code",
   "execution_count": 2,
   "id": "8d0e426c-89a0-4813-8994-65ebba3f3a25",
   "metadata": {},
   "outputs": [
    {
     "data": {
      "text/html": [
       "<div>\n",
       "<style scoped>\n",
       "    .dataframe tbody tr th:only-of-type {\n",
       "        vertical-align: middle;\n",
       "    }\n",
       "\n",
       "    .dataframe tbody tr th {\n",
       "        vertical-align: top;\n",
       "    }\n",
       "\n",
       "    .dataframe thead th {\n",
       "        text-align: right;\n",
       "    }\n",
       "</style>\n",
       "<table border=\"1\" class=\"dataframe\">\n",
       "  <thead>\n",
       "    <tr style=\"text-align: right;\">\n",
       "      <th></th>\n",
       "      <th>Title</th>\n",
       "      <th>Handheld?</th>\n",
       "      <th>Max Players</th>\n",
       "      <th>Multiplatform?</th>\n",
       "      <th>Online?</th>\n",
       "      <th>Genres</th>\n",
       "      <th>Licensed?</th>\n",
       "      <th>Publishers</th>\n",
       "      <th>Sequel</th>\n",
       "      <th>Review Score</th>\n",
       "      <th>Sales</th>\n",
       "      <th>Used Price</th>\n",
       "      <th>Console</th>\n",
       "      <th>Rating</th>\n",
       "      <th>Re-release?</th>\n",
       "      <th>Year</th>\n",
       "      <th>CT_All</th>\n",
       "      <th>CT_Comp</th>\n",
       "      <th>CT_MainExtra</th>\n",
       "      <th>CT_MainOnly</th>\n",
       "    </tr>\n",
       "  </thead>\n",
       "  <tbody>\n",
       "    <tr>\n",
       "      <th>0</th>\n",
       "      <td>Super Mario 64 DS</td>\n",
       "      <td>True</td>\n",
       "      <td>1</td>\n",
       "      <td>True</td>\n",
       "      <td>True</td>\n",
       "      <td>Action</td>\n",
       "      <td>True</td>\n",
       "      <td>Nintendo</td>\n",
       "      <td>True</td>\n",
       "      <td>85</td>\n",
       "      <td>4.69</td>\n",
       "      <td>24.95</td>\n",
       "      <td>Nintendo DS</td>\n",
       "      <td>E</td>\n",
       "      <td>True</td>\n",
       "      <td>2004</td>\n",
       "      <td>24.48</td>\n",
       "      <td>30.00</td>\n",
       "      <td>25.00</td>\n",
       "      <td>14.50</td>\n",
       "    </tr>\n",
       "    <tr>\n",
       "      <th>1</th>\n",
       "      <td>Lumines: Puzzle Fusion</td>\n",
       "      <td>True</td>\n",
       "      <td>1</td>\n",
       "      <td>True</td>\n",
       "      <td>True</td>\n",
       "      <td>Strategy</td>\n",
       "      <td>True</td>\n",
       "      <td>Ubisoft</td>\n",
       "      <td>True</td>\n",
       "      <td>89</td>\n",
       "      <td>0.56</td>\n",
       "      <td>14.95</td>\n",
       "      <td>Sony PSP</td>\n",
       "      <td>E</td>\n",
       "      <td>True</td>\n",
       "      <td>2004</td>\n",
       "      <td>10.00</td>\n",
       "      <td>-100.00</td>\n",
       "      <td>9.75</td>\n",
       "      <td>10.00</td>\n",
       "    </tr>\n",
       "    <tr>\n",
       "      <th>2</th>\n",
       "      <td>WarioWare Touched!</td>\n",
       "      <td>True</td>\n",
       "      <td>2</td>\n",
       "      <td>True</td>\n",
       "      <td>True</td>\n",
       "      <td>Action</td>\n",
       "      <td>True</td>\n",
       "      <td>Nintendo</td>\n",
       "      <td>True</td>\n",
       "      <td>81</td>\n",
       "      <td>0.54</td>\n",
       "      <td>22.95</td>\n",
       "      <td>Nintendo DS</td>\n",
       "      <td>E</td>\n",
       "      <td>True</td>\n",
       "      <td>2004</td>\n",
       "      <td>2.50</td>\n",
       "      <td>7.25</td>\n",
       "      <td>3.33</td>\n",
       "      <td>1.83</td>\n",
       "    </tr>\n",
       "    <tr>\n",
       "      <th>3</th>\n",
       "      <td>Hot Shots Golf: Open Tee</td>\n",
       "      <td>True</td>\n",
       "      <td>1</td>\n",
       "      <td>True</td>\n",
       "      <td>True</td>\n",
       "      <td>Sports</td>\n",
       "      <td>True</td>\n",
       "      <td>Sony</td>\n",
       "      <td>True</td>\n",
       "      <td>81</td>\n",
       "      <td>0.49</td>\n",
       "      <td>12.95</td>\n",
       "      <td>Sony PSP</td>\n",
       "      <td>E</td>\n",
       "      <td>True</td>\n",
       "      <td>2004</td>\n",
       "      <td>-100.00</td>\n",
       "      <td>-100.00</td>\n",
       "      <td>-100.00</td>\n",
       "      <td>-100.00</td>\n",
       "    </tr>\n",
       "    <tr>\n",
       "      <th>4</th>\n",
       "      <td>Spider-Man 2</td>\n",
       "      <td>True</td>\n",
       "      <td>1</td>\n",
       "      <td>True</td>\n",
       "      <td>True</td>\n",
       "      <td>Action</td>\n",
       "      <td>True</td>\n",
       "      <td>Activision</td>\n",
       "      <td>True</td>\n",
       "      <td>61</td>\n",
       "      <td>0.45</td>\n",
       "      <td>14.95</td>\n",
       "      <td>Nintendo DS</td>\n",
       "      <td>E</td>\n",
       "      <td>True</td>\n",
       "      <td>2004</td>\n",
       "      <td>10.00</td>\n",
       "      <td>72.57</td>\n",
       "      <td>12.50</td>\n",
       "      <td>8.00</td>\n",
       "    </tr>\n",
       "  </tbody>\n",
       "</table>\n",
       "</div>"
      ],
      "text/plain": [
       "                      Title  Handheld? Max Players  Multiplatform?  Online?  \\\n",
       "0         Super Mario 64 DS       True           1            True     True   \n",
       "1    Lumines: Puzzle Fusion       True           1            True     True   \n",
       "2        WarioWare Touched!       True           2            True     True   \n",
       "3  Hot Shots Golf: Open Tee       True           1            True     True   \n",
       "4              Spider-Man 2       True           1            True     True   \n",
       "\n",
       "     Genres  Licensed?  Publishers  Sequel  Review Score  Sales  Used Price  \\\n",
       "0    Action       True    Nintendo    True            85   4.69       24.95   \n",
       "1  Strategy       True     Ubisoft    True            89   0.56       14.95   \n",
       "2    Action       True    Nintendo    True            81   0.54       22.95   \n",
       "3    Sports       True        Sony    True            81   0.49       12.95   \n",
       "4    Action       True  Activision    True            61   0.45       14.95   \n",
       "\n",
       "       Console Rating  Re-release?  Year  CT_All  CT_Comp  CT_MainExtra  \\\n",
       "0  Nintendo DS      E         True  2004   24.48    30.00         25.00   \n",
       "1     Sony PSP      E         True  2004   10.00  -100.00          9.75   \n",
       "2  Nintendo DS      E         True  2004    2.50     7.25          3.33   \n",
       "3     Sony PSP      E         True  2004 -100.00  -100.00       -100.00   \n",
       "4  Nintendo DS      E         True  2004   10.00    72.57         12.50   \n",
       "\n",
       "   CT_MainOnly  \n",
       "0        14.50  \n",
       "1        10.00  \n",
       "2         1.83  \n",
       "3      -100.00  \n",
       "4         8.00  "
      ]
     },
     "execution_count": 2,
     "metadata": {},
     "output_type": "execute_result"
    }
   ],
   "source": [
    "df = pd.read_csv('video_games.csv')\n",
    "df.head()"
   ]
  },
  {
   "cell_type": "markdown",
   "id": "7cc10d2b-9b1e-46f4-9769-b9a0ac0c9e8f",
   "metadata": {
    "__GENERATED_DATAFRAMES__": "{\"nodeDataframes\":{},\"graphDataframes\":null}",
    "show_aggregate_original": "false",
    "trrack_graph": "ᯡ࠽䈌ʀ匦㢠⹰ૠ㌬Ā჻R〶䁃lyٹ⁓f䍐ۢ䧪㈉◔ฅޡ䨲⠠䬱䑁棒瀱Ⴭ⭱妻ݎẜʤ䐡傠ǖ悃РኤРᜰ結üメ浪巟㈠ᣠˬ⃪$熒‣㐡㬚͇⦲༿⸂໡壡‡犀⒂ଠᎭॣ䥡⊃㡹稠嬸ූᑤඦҡ哹䑀妨䤝͕䀺慽䈩瞤∡㼚ƶ嵖᯦悡檩ǣ᪀畖o#䖊⠃ܑ璌⃥⹾䞌᧒Т⺈ᆡ⇳㴑䒤㒌ŭ᯸丈◡戱⃰潅Ԧ秐噑๦磜疶溂⒀ᒪ扖⋦ူⶃ㧄మྡྷშ⨭རㅸ瘭ǅ爘䅐䘆砠址䑂㥨㈼㹯䕈䓵ᒹ憴婊③ᤠ "
   },
   "source": [
    "# Task 1: Column Names and Data Types\n",
    "\n",
    "In the first task we will perform some basic data cleaning operations to get our dataset ready for further tasks."
   ]
  },
  {
   "cell_type": "markdown",
   "id": "8934b219-dd97-4e3e-9aa9-0dd7a9d62ad5",
   "metadata": {
    "__GENERATED_DATAFRAMES__": "{\"nodeDataframes\":{},\"graphDataframes\":null}",
    "show_aggregate_original": "false",
    "trrack_graph": "ᯡ࠽䈌ʀ匦㢠⹰ૠ㬠氤〥䌸瀶䀹䁣๲ৠܦᔨҀᣴ䂼䋃‣ᓆ做►䀳ല⠠䭈⑁槑瀱ᝉ⍮冫㭮ẜʦ䒠ǁ#㕀挸晠ኤРᝣၐüムṁǟ㤉䀥䉸攠ʓ㥀ǔÚ⎃஥䤫䒄攭ᇸ惀Ēいᘦᖠೣ䗫⃂変ⱦ{ఽ咼∪⌤䋵汄ჹ䑈冣ᛠඉⵆܔ⍂Þ⍡歹ম悩溩Ǡ媁疖o#䖓瀃ʅ璌⁅溮杲◒Ъ⍁䔶户ࣉⓢ削౐䘰䵥䌂んḸئԢ灐糕൤㧶ⶬ䲱䅲ᗈ撯ౠ惍䈅䥐属ѣ၈⩍སヸ๗௧焤ᄸ䒰Ž䅰䔉燩壥༲刳樲⭮✈咰ᒄ  "
   },
   "source": [
    "### **Task 1a: Remove Columns**"
   ]
  },
  {
   "cell_type": "markdown",
   "id": "47b531d4-2e3a-4e9a-b92a-39aebfc3deb6",
   "metadata": {
    "__GENERATED_DATAFRAMES__": "{\"nodeDataframes\":{},\"graphDataframes\":null}",
    "show_aggregate_original": "false",
    "trrack_graph": "ᯡ࠽䈌ʀ匦㢠⹰ૠ㬠氤〥䌸瀶䀹䁣๲ৠܦᔨҀᣴ䂼䋃‣ᓆ做►䀳ല⠠䭈⑁槑瀱ᝉ⍮冫㭮ẜʦ䒠ǁ#㕀挸晠ኤРᝣၐüムṁǟ㤉䀥䉸攠ʓ㥀ǔÚ⎃஥䤫䒄攭ᇸ惀Ēいᘦᖠೣ䗫⃂変ⱦ{ఽ咼∪⌤䋵汄ჹ䑈冣ᛠඉⵆܔ⍂Þ⍡歹ম悩溩Ǡ媁疖o#䖓瀃ʅ璌⁅溮杲◒Ъ⍁䔶户ࣉⓢ削౐䘰䵥䌂んḸئԢ灐糕൤㧶ⶬ䲱䅲ᗈ撯ౠ惍䈅䥐属ѣ၈⩍སヸ๗௧焤ᄸ䒰Ž䅰䔉燩壥༲刳樲⭮✈咰ᒄ  "
   },
   "source": [
    "#### **Objective**\n",
    "Remove certain columns to streamline the dataset for further analysis.\n",
    "- **_Re-release?:_** Boolean flag indicating if the game was a new release or a re-release.\n",
    "- **_CT_All:_** Average of all other completition times, we will use one of the others directly"
   ]
  },
  {
   "cell_type": "markdown",
   "id": "aec9ad2a-ab09-4288-b8fa-2852bcddda1a",
   "metadata": {},
   "source": [
    "#### **Instructions**\n",
    "1. **Column Removal:**\n",
    "\t- Use the interactive table feature in PersIst to remove the specified columns.\n",
    "2. **Generate dataframe:**\n",
    "\t- Assign the modified dataframe to variable `df_task_1a`\n",
    "3. **Show Output:**\n",
    "\t- Print the head of `df_task_1a` to show the changes."
   ]
  },
  {
   "cell_type": "code",
   "execution_count": 5,
   "id": "8e333ff3-cb24-430b-a332-733b41570ba4",
   "metadata": {
    "__GENERATED_DATAFRAMES__": "ᯡࠣ䅬Ԁ朤壠ᜣ琢〹夢゠⹰〮⁁䁻қ䚾ኊ㇠നСࠩ瀮晼Ƭ穅5愠៩䍒⊂ᠡ囨Ĺ䔐ுᝉ⅊㙢勆⠡眚⤂剷䫬 汸䬠㌠ⴠ✽焠瘧Lई侼ˑ氠ᰮ瑯ᶤ!倌╣姘≠䱜䅈ᐤΥǯ啠䍀䵈壈羔н䧤὆痪簛数ຶᝌΠ඲ᙿᒪ㢂㶨ᑬ㡬瑑ޱܯ儁䈀Ǖ‥尰ᶽ⧽櫸犗䤤磝庮䭀傋⇶ᐿ࣓߂Ⱖ₨㙨┯ᵘ䢡⌷人ᘲ޾禔㲣佀ᱜ忛⊓㨄伣䏤奌䣝䜃㨜佌ᒵ帎ੂ檠ᣠ搯࿀ɲઆ䠂䒲㪋䃬†ॢ判䐺₠Ĝဠ௎筑ἰޤ熀丶➯熘㰾ቅ焤ူ䧦琔เ墮䋕ẟׯ燙桽ᴰ禂㣜ゼ⚳䦃㊻ᢠ%ⲠĤҢ⮲ና̸ᶥ抱㱜ݰⓡ∱ࠠ ",
    "__has_persist_output": true,
    "editable": true,
    "slideshow": {
     "slide_type": ""
    },
    "tags": [],
    "trrack_graph": "ᯡ࠽䈌ʀ匦㢠⹰࣠ጡآᢃ㐹䁍n㸸ބါؠ曤䠵侠๣㕿䘠ಬ㊿Ჷተ¶⡨⇳㌀ᅆ⥦庳⮖乜簥ӡ#℠΍䌠牠ኤР᝝ၐüム湁Ý㮀ᣠ˴⃴3䧩-儦煰⥜墾Vℹح൥䍡∱㇘⤉䚂⥇徿ࣩ甓₠ƕ稦ܳ቗έ搱䋑䅠Ȅ恨ᑸ庉ᆪ䶾╇栢沀嘸ᄰظሢ㖊Ⴄ癀䍊⁸䬠㖨挠᧚཈̛疖௔౯ᖢ֍㜯᧶₡ⰡḠܧ䠯䘳槚碥୙㚛̪㉝扩ࣂ䌰ᑸ䢬⃀Ɐ᪣ℰ堶֯ఐⱡጡ拰堽ὢ篝ቦ䘬椉݊㽡।㆘兌䥱⦔卍䨱㦜僌⪴厐㗫➱兘䅁䅄⥔䍅䤄禜Àᄒ敊壪Ҡ1b֘$伤ż⍐᭶メр嫁䇠〠ᾶ懊ǎ⁫⠣甕䎑傠㖜缰ⳓӰ⡃ୡ䈐戻ʧᆀ橃ʢ䁒剒⬶烣ᑗౢ䁘ㅥ⿅㶖✫䕄悐㰼჆儈ّೣじ⹏ࡶ棜⚫⻶ⷚ庱⁐ංᙈ湔䴾ᦼ泴Ⱓ㖦愦涖維沖䰢㎥斐Ḕ㡘䌠ť㑰猍㪠倨ඒ:恃愀巼ᓉ墱簆嘿࠲ڥ⁍㉤૜䙯Ⴒ_幩#椏㐈㑞ொ秽㻄㓠Ȭ㣿⯡粀᠁㦟䀄ϡ㺬Ӡ撤ჱë⇲ਦ䔴㝭愨Ԣ䃈ℭ॒Į⇨㽥䃐࠯ɠ㰊爘ҧ䶺:焠䟃ϝ࠭䈭Ϧׂ࣭㇩ා㒮᫥碞ῠӌ᧋⅄㒪ⴄ⤡⅋㊣⵴㶁傻゠巊⎪Ѱ̄ౣᢁനᒃೈᲀ䳐ኈ⁳᪁䳓①磤Ҫ炌梎ൃ㒎㖼粈丐㊊丐㪉䷓〄〩⫁哕⻍έ㛀Ƥ*嗰¢̴搈䝨塡⡓櫡⼷樤悦焑罨娪慡䦪♥䥪癳䧪湤兊侵嫔ຫ儔奿厔爻䏴ာぬ⦤㭸㇩ゾ⧦㨌䯤煎儼琎Ꮳ㫠ᷯ㫎䞢硕叼笾秽㯼寭現暩禁៥ぁ⑅Ԟ嬽ࠑ䅋模渴֩䤯ᘵ拕䜈㟕択濭ܑ౛䒩ၨ໘伸䇀戼䪘䘺䂴牊䃐ᠭ䌰爬⨰ᘣ˰墹昔爼狑՛掜徿獘㕃Ⓐ夼嬉┺嫶㔡媈䄴整᪴ী橤ʊ༵抉亞⎓⫥⇶由妈愡债©器⃎暥❅敥ᣋ摅录䔠  "
   },
   "outputs": [
    {
     "data": {
      "application/vnd.jupyter.widget-view+json": {
       "model_id": "9db215ea12b94d5fa30144ee56ad5a39",
       "version_major": 2,
       "version_minor": 0
      },
      "text/plain": [
       "PersistWidget(data_values=[{'__id_column': '1', 'Title': 'Super Mario 64 DS', 'Handheld?': True, 'Max Players'…"
      ]
     },
     "execution_count": 5,
     "metadata": {},
     "output_type": "execute_result"
    }
   ],
   "source": [
    "PR.PersistTable(df)"
   ]
  },
  {
   "cell_type": "markdown",
   "id": "36c62d50-9c88-4ed9-8c97-e552a6e4c620",
   "metadata": {},
   "source": [
    "### **Task 1b: Fix Column Names**"
   ]
  },
  {
   "cell_type": "markdown",
   "id": "ab8f8f24-afd2-424f-ab34-3e3cde723aa3",
   "metadata": {
    "trrack_graph": "ᯡ࠽䈌ʀ匦㢠⹰ࢀㆪこ<ǐʀ୥崡汤Ɓ䔠⍂⠨撂䂼ì债晶堪慯掩ᐠ▴ሰ璹㤨䮲减ⓥ䢧᜾㺣䉠ð䀡壅冨㕀ॢȠ௞䠸ᢀ眰䅽忖䀢晐樠Ԃ牠ΈƔڦ❓ሠƠ暬ॡ声Ȅ恨䙜⬮ಬ俨⫣䞐డ㙐᬴⣔䰲ճ㌰䊆၂۔欠㖹┰᧶༨̘ඛฌ琻ɋ㉄ܠ榡哸Ŝ.ؗ⾬ള勑̵㯺ᱱ曨ဩᒡᾪ३⁂惡৒ј⪖ᩋࢶ䥣䍢ᇃ⢀☾ԣ䖎㑝䳓ⳄⓀ᪱ĦҐ戤׌㝔䆦成扉ڠ凈㨣ೣㅘ湏Bࡤ䒠ଈତޗ٩䟨㣜㥨◈ᩲ㭡⟢䀠 "
   },
   "source": [
    "#### **Objective**\n",
    "For this subtask, we will focus on fixing column names to ensure consistency and clarity. We'll start by identifying the issues with the column names, specifically targeting those with a `?` suffix that needs removal."
   ]
  },
  {
   "cell_type": "markdown",
   "id": "63f4d5c5-9383-4857-beae-0cfa6ba466f2",
   "metadata": {},
   "source": [
    "#### **Instructions**\n",
    "1. **Rename Columns:**\n",
    "    - Use the interactive  table in Persist to correct the column names by removing the trailing `?` from their names:\n",
    "        - _Handheld?_ → _Handheld_\n",
    "        - _Licensed?_ → _Licensed_\n",
    "        - _Multiplatform?_ → _Multiplatform_\n",
    "        - _Online?_ → _Online_\n",
    "2. **Generate dataframe:**\n",
    "    - Assign the revised dataframe to the variable `df_task_1b`.\n",
    "3. **Show Output:**\n",
    "    - Display the head of `df_task_1b` to verify the changes."
   ]
  },
  {
   "cell_type": "code",
   "execution_count": 14,
   "id": "b7027112-7291-4136-926e-a4c06c7de200",
   "metadata": {
    "__GENERATED_DATAFRAMES__": "ᯡࠣ䅬Ԁ朤壠ᜣ琢〹夦゠⹰〮⁁䁻қ䚾ኊ㇠നСࠩ瀮晼Ƭ穅5愠៩䍒⊂ᠡ囨ĸ¬砫傷ᓁᕖ→午Ė͈煲⩈އ…晁֫Mତྔ䜠ⰰ9漴œ傼㰠噌㟊᯾⸏盗•㡠䱜䅈ᐤΥǠ㕠䍂䵉䐾潐䦑ᇩ∿ഐ❺Ḃ塵䜻ཟ䯻戅䞰䉅ᤁ᧰戾∼ã䌧䀦檠ஐ₭禘焥嫩漿ဠ焒㳜亪ත嶑ᔣ㖡㠖Ꮐ㷱਴♤᭄ኧ亼①冨曬珥瑛㿜⵳ᵖ佑ǐ䄼斨ሂ⧜㡩Ⰳ䒲ဣ攓䷲⹙ಡ瀬-偪ₑ䢬ⲡ!䊘䅃䀢斨〪䈠E䐮ᔠx⃘樠ࠄ冹噧ᗩd俓ฑĴ呜䪠砺淜䈇硌佄媤䏜σ䏢惡礲彁巌罒᪨凱೉ᶬ匩扥幠向䊍Ὧ恠檀䮩ೠ屻溠ᣀ剏᝗㭝㡗小筨憈字䱜歌帇䗼吥潅ό㖄刷⠜ඩ溠壚䢥佁ᬾ㍨ɪ抑䝱ῃ審歭ᝨ㈠礮᜿桠䆰ϕ沐Ἰ籽櫁煘㤈犷⢒䏣捫อ崪䇊ᜣ呆ۀ㱋᳖䕷෋⻛㚂䷚称搠㋜٦ 禴ᘇ䇝濱䀷⟱䇸䲏ޣ綑寨删 ",
    "__has_persist_output": true,
    "trrack_graph": "ᯡ࠽䈌ʀ匦㢠⹰Ҁ㬠昣〰挣ᨐ୯䘡䘹ࠥ䌠٪⠤惸夢娕啍Ĺ㙕䆠Ꭹᐠ▴ሰ瓸礨䮴减⑩䖱㭮溜Τ䀡傠Ǒ慣Ҋ′䈤7ưᠠ湐戎Ⴆ寐癠ˬ⣪$疒‣㑠䉢ᰬᔠά䎤⒃䔁姈棔ᑂɴᆨ䎧ॣს折壅Ṗࠠᝰ撌睒⋲೨⅘嬸ᐠṬҮ⪪ఁ壹೔㑔ᭁ䀶挫㇥ࢠ烡ᄓ孑пㄬ᝽ᇐͻ⚐䈛為䁏僸绑䇣ዸᇗ㮐㖸⌍䀳怠玘稛䨖⾤ك㠼✮Ɔ⁠ऴ䱑燂㐶ౢ࢘ӕͦၰ㢼■ᓀ㣞ڤも⨦ڀ㥞ᾴ䛱䁚㟙惬ᣂቢ⒱⓲ಶ⎳ᄒʱ≳ᑊ㋕┩䉜暌⫮╲璵শ斒糁ⱴ咥⪣䊃᥁佋䎥䰠ɒȤ〡⻳ᠿ⠠▶⡏亂䀠纝㛡ź㛛぀牕₯цȊ〠Ὠ浗䵞㾰ᐗ䉀تá䡸᳊Ɂぜ㸹᫁⁈乲㎨㓥㣭ᖡ灈⵰挛໎㮺ⓢ瀤ㄴ䃃⢔̹䖀㡼⼿䐰䓍㭳刉㘣ᑸ㕮ᣈ縦㎸ᙰ狵ㄈ㙻໰慠๧৬瓙ᙡ෮炙亦ᰢ↠Âద๧滁⠤m〭秜὾矗民K嬿䘨䏢値̘刨⌘☩ₐ忏䊰]ኳ㲦ᰵᨿ俰ۡ壳᪝ጀŠ㟱䃀⼇䆿䏂䄾ᨩ䈨∱ᨿ䪧傘ᆢ䑄ഥ⋴Ⴡ䀥ফ晴ޡ⃔ឭ傌Ấࡀ଩ ⩡恰ቧᛤ☩⇓&ு獠˨灀ᅥქ䶊Ἧ⤉⒍ᮋ涁Ẓ皟䙢ƀ✂ⰸơ␹ݻ摦擀孵۸㐮淃㭝טᨷन硍欻捤暣፴溻⡌揠獖޹䠢暡୺⌢䭱⥀㱀傹ጴ暸㍈匵护咴䬭⪁ᨯඇ紣∸ㄝⳄ䵃໓烻Ơ⁀䵑ᴷ❴᫆劀嫖嵑㴷Ј䁙ᐸ櫐櫰⎀䨳㘸湠㣁䇁⁊ன⡦ࢶ崙Ϣᠴաь♡倴֡偒摥綊態扤䵈㥙◪ᕞ⋊ժ䵱筺⁚窞䖢ٱ握⡊ྡぉ潒ᙙ枀᝭䞚在࢓๳䔑㞋䙂溛䤓ᜰҚ恓憛凥䔙ṣĚঽ䗘幚✙⤯ؘ缭‚䒼ᩔ悉䄠尨ፆ䣑壆䍐ૅ㺈ႆ璧ⱇ璌Ṇ⒮㮀䢰ധ㧅៭唈ὶ᫑೶嬖剌㓊ᕀ嗾凰㗡剅䓼ᾧ䄉ᵌ愒ሢႽ㈀偈Ϡ囁䙡ࠠ㇗⠧㲸灺ඨ㒜ࡰ盆ᙩてె䳛⺅İ⮃⳻ᾎ歙úᒆ拁咖旁㭽ɀ糦䤪ᡠ僖充只圊Ǖቆූ眝増໳壑䖙咗௶˕嚪痗࠽埔຤佽会䙷㕪债ഥ㿊穃Ȩ恮嬉➹瑕⮀ᯊ晔ᯯ䌠䍕ᝅ䍤㭖ҳ㣖у⢁னڃ瑣げࣣᑀ㏠怱ௐ⭫啂㊰嘶狨嶹扼澹䡢掀拢䩞࿸崻田ᢐ⿊ㆀ㈒偰ㆼ倡ڋࣘロ㠱娓㝎球ᅒ掃旦䯨磀੭㬤䶏स彅ᥢᰲ䡺㊢窍夂殥⳽䱍䙹旊磠ཐ憞㙶Ệ嚝⢌⋸油䉩⒱੻᝔焎ॲ▀庀ଢ଼㾳⑜ṧ椸婓ଓ᭢ᒢ⮎ᇖ戙砵㘖嚡хȄฦ䕊ǠⰬ䰮曡入ሑ̡偞ś㣡炐犺m๶⎄癱ḋš᭒䋖㪤桮懰Ừᛦ޼䠿Ʊ侚㠡秛ਤ彲∰琌ᡇ涝㟮䈏刚ᯚ⬏㼲ⓣ畩ᐎ䦹ᦜ㥎絼⃅޶典✯ཾ㟴#ጰኦװ珽博㗠窘䞚㖃ඕ烢三೓⦬⿹㱒䣙戩㯗㦔浊眎ᬇ湧⊕Ϥາܯ樝ᬥ☼⃺оًभ欺ඐ㘻憦灰嘭⍝惦枯䈇䡢Ӽ䍑䲦づ᪔ᕐ繚ੱڂ㛬拣婓䶅幺秏ۈ炯⣐⬱⦎慐叢䫣勚⢅㖭婱ࠄ拡䬈冄懬旂⣗⊴⻸䀣禆⼰䥂ʂ⠤䡴٠仧ᆃᥓॖᏐⅢ䁃嗒ፅ煱榅㇯戳噢ɳ䫇⡨木䬒ᴏ⣑ᢠ吱䥦䛣⭝䥇ၮ㥔玒点狹搀⚨ᅿ䏠灂⠑ᥫⓓ牀఍䥸Ν㕁粓䠠 "
   },
   "outputs": [
    {
     "data": {
      "application/vnd.jupyter.widget-view+json": {
       "model_id": "ca6b914bb85c4be0aff01dfc35156fdf",
       "version_major": 2,
       "version_minor": 0
      },
      "text/plain": [
       "PersistWidget(data_values=[{'__id_column': '1', 'Title': 'Super Mario 64 DS', 'Handheld?': True, 'Max Players'…"
      ]
     },
     "execution_count": 14,
     "metadata": {},
     "output_type": "execute_result"
    }
   ],
   "source": [
    "PR.PersistTable(df_task_1a)"
   ]
  },
  {
   "cell_type": "markdown",
   "id": "3875e7fc-ec40-4241-aa94-87b31e59944f",
   "metadata": {},
   "source": [
    "## **Task 1c: Correcting Data Type of 'Max Players'**"
   ]
  },
  {
   "cell_type": "markdown",
   "id": "7a7eebda-1b60-4bff-89d3-a5548a601b49",
   "metadata": {},
   "source": [
    "#### **Objective**\n",
    "In this task, we will address a data type issue in the `Max Players` column of our dataframe. We want to convert the data type of the column to `category`. However, the dataset has duplicate category values due to typos.\n",
    "\n",
    "For e.g. for `Max Players` supported some columns have value of `1` and some have value of `1P` which are both the same.\n",
    "\n",
    "Remove any trailing `P`s from the `Max Players` column."
   ]
  },
  {
   "cell_type": "code",
   "execution_count": 23,
   "id": "fb9bff61-9a8d-4114-97f3-4f6d0cd0e61e",
   "metadata": {},
   "outputs": [
    {
     "data": {
      "text/plain": [
       "Title             object\n",
       "Handheld            bool\n",
       "Max Players       object\n",
       "Multiplatform       bool\n",
       "Online              bool\n",
       "Genres            object\n",
       "Licensed            bool\n",
       "Publishers        object\n",
       "Sequel              bool\n",
       "Review Score       int64\n",
       "Sales            float64\n",
       "Used Price       float64\n",
       "Console           object\n",
       "Rating            object\n",
       "Year               int64\n",
       "CT_Comp          float64\n",
       "CT_MainExtra     float64\n",
       "CT_MainOnly      float64\n",
       "dtype: object"
      ]
     },
     "execution_count": 23,
     "metadata": {},
     "output_type": "execute_result"
    }
   ],
   "source": [
    "df_task_1b.dtypes"
   ]
  },
  {
   "cell_type": "markdown",
   "id": "b23913ac-ea3c-4ca1-8ac3-07d3026ca76e",
   "metadata": {
    "__GENERATED_DATAFRAMES__": "{\"nodeDataframes\":{},\"graphDataframes\":null}",
    "show_aggregate_original": "false",
    "trrack_graph": "ᯡ࠽䈌ʀ匦㢠⹰ೠ↺΀Ơ瘢ᠢᠫ‵䁇ፉ䐢怣侽振ၑ䶃᪰঵䂆⹉多䪲┠অҤᴶṂ㊵嘊᭓ㄅ毠㒰䣑Tဠ㚉҃೨ɰ䂠̂҆;䘸Ϥၗ眼䋐Ð䬹†于␠㚠ᝨ沂烒⎁൸憈㬸ᐠṬү䓧Ⴠ椓ᣘ⌚ᆠᛦކ䜱ǁ䅀㖖नຂᩈ桫〦塵偢㶱⢠⾱䂅埦䖃塀㪂ₐ暸ᵽ䀳怠煼砤慸㴻ࠩ㯏姭ঌ䄢䣫䧙㱈刱ㄿᬦ䩫⏃㌱楫磤ⰴຣα晼ਫ䎁㺕䮃Ⴤご䖂᥂挰ы゙㈬ܠ₰ᑊІ僑汮ޯ戩䉱៪怡⹁ᡤ甑擸抯॰ᡬᅓ╄璚╄㈠ "
   },
   "source": [
    "#### **Instructions**\n",
    "1. **Convert `Max Players` column to category:**\n",
    "    - Use the column header to switch data type of the `Max Players` column.\n",
    "2. **`Edit Categories` pop-up:**\n",
    "    - Inspect the `Edit Categories` pop-up in the toolbar. Note the incorrect values (e.g. `1P`).\n",
    "3. **Edit and Correct Entries:**\n",
    "    - Search for the cells having an incorrect option using the search box.\n",
    "    - Edit the cells to remove the trailing `P` (e.g. `1P` to `1`)\n",
    "4. **Generate Dataframe:**\n",
    "    - Assign the modified dataframe to a variable `df_task_1c`.\n",
    "5. **Show Output:**\n",
    "    - Display the dtypes of `df_task_1c` to verify the data type correction."
   ]
  },
  {
   "cell_type": "code",
   "execution_count": 22,
   "id": "84bd3f29-2697-4f40-ab16-27f6540912aa",
   "metadata": {
    "__GENERATED_DATAFRAMES__": "ᯡࠣ䅬Ԁ朤壠ᜣ琢〹夡゠⹰〮⁁䁻қ䚾ኊ㇠നСࠩ瀮晼Ƭ穅5愠៩䍒⊂ᠡ囨ĸ縐䄳჋䋓ઌ䋞♰Ȍٱ拄倪材î䖠Ꭲଠⴵ樠映㙇Ⲫ嚿ு涽䒎᮰∣斁ϓ㢡ᢙɰ⠨ܪΠ檡٥ᩰ砠ᱜ㮓ᘡ㔩汱\"ᮙ嶩牮ʯᯃ㻆刊䁈䅻䳼嘩暔瑑ޱܠ㄁䈀Ǖₙൗ㧜仸䨲檓審௜堰㝇㕡㧟时ࠢ〥ㇱ唴♤᭄ὕᱨ䃃௭䱔ᄒ呛⨶փ禨犤ก琪⚼★∄猤ױ燬玧䋔ా➦䏠ᠠ᭡ᒡ扩༼䞠{࠼<枑Ǒ㱡ዥ㶨*墽ᭈyㄠĐ(%๘䎃⢘⠣ི槏в䡑₌ࠤ≴ᢿ┼盋竫⡽ʋ䳵ᾯィࢻ᥼摛仈⡫ۈ涖㕫ݓ凤攡஠停Ч০ڔ繃䅃䢴ᝏ䰷ׂ匴朆⠱⃠Ζᄑ䦜䣉⮸⾨ȇ⇮䂽䨳Ϭ僙椯堫⚯ϠḄⰶ਷緰㝟⽆⠎林檣㮰ཷ名挝Ą尸થᆌࡔ䙌珜ⓧ䜳㕪㫈棌櫅厏↭獊ຐᮌ嫕⒨啢᭙涁祰檽唌扠垛娎笲廡Ὼڙ⇸㩘䝰⣦亅會Ԑ䎼Ἲ㆔㖽䉤妳䔩╍⏹嵟䚣ふ䝙㧏ℑ嘧䄑ោ凝ᶽ爍瓟印⾨㘽憺㜜⁙慣翌烰㠨䀡㨱䘧ぼᒥ炘එ扐ᑡࡠ  ",
    "__has_persist_output": true,
    "trrack_graph": "ᯡ࠽䈌ʀ匦㢠⹰ૢ䀸͐֠主〶亴Ƹǒ໠⌠掕Ш㓷ᆮ䠽䪋᧯⍎⥄倡ᙰ䡡冃恌♲䛝ጶ㚽巒簔ठ͢&棠ࣦὤ䁅ШN嵀〡岁䋼℩㎎皠֨终G㎲;∠ʄㅣ䣁㑰ᑢ'ࣻࢵ⊧⁒᎑イ橃㥉ᚣ䔩䊠烂桠Ú㶝⏉䤽ߋ∬㍸惀Ēい㕙ᜰ㩢䄇޳穰稠嬸㗃ᡤࣦң佸䑁㶨ჺ䠱䫠අᲀࠎ䏊Þ㶃嬆ᆶ䶀䋹淢嚀௶o#不搃׃癿Ф↑氮⌬晠䂂Ҹ㛂炬ܰ呂烴≶䋀㓄ℨ摪ኴᑱᔂ≘☤插㹟ҵ冣媏㧱䯲⋱Ȿቨ劉㘣የ牐Ṡ剈䪅ժ嚦憎୆Ꭸዩ⩽ᓩኜ䃐噊䬅╮摐䱰䠠ض碶Y叀2栰㺠֒䳠占๠˪ᠠ߉倠⨸ἸGϻ⛊☠ౠ໺Ẵ㑠į廷ご惟勳㖠ₙᨓඏ୷树ʻ᡺䏅㄄⣰䜪ቐ̻ţ䢬⩜Ꮒࣄ⌥ۣぅ䜩ણさẫ癛᳎⒣ǣ灤ढ䋁栬㌵䊁呜ἠ∰媍ݻ哻窣₼ㅢ炈ܺ㖻曰勥㞋圙仯ア໧⧩瓚ᘡ෮炙亚ᰬ↠Â䱆+很┠ 戡ⵐȥ乇挓榗丒縰࿻ⰿสⅰ䨠⁏䅁ɏ䢂桌撧媏ŀ₆䏍∱㗍ⷊ䰰窈㓠ূŎ☽䋼⸿䌨爲⋼⤻Ԕх≄భ⃀๭䄵⌨䦒ڮ䃲㙩᳀㔢䅚ق䃦Ɋ抔㬱Ⴢ㢧涨夳⊳\"ញఠŰℨ࡬䉶堅î䷴窬᯵笐㪳紁剐糌ㆱ洟ံˀ嫧ᡐጠ䡲ᒕ䠳䅦仪ທぼᆒ桢ਗ呮ਸ਼偯僔ュ哗ᚵ䪡嚕圠㚸姕㜍䎤癅ߗଂ෧斥㱃ᘵ䫓ᘕ凖喍䏒癝仆᢭෠Ê⾪ϲ⠼橆孡棙ཫ椚㽧⊺ㄭ殐惡歰ᣯ⇦⇳储欽᪸㌻ᨘ䂸ᆌ䖠埀氶䄸樮⋰尪䃄繱䍰丩妝ഷƦ⌼Ꭴ尷失㳨㥪㙶⪒շ䬄粵⬪൪勎㩽㤔㺠ㄬ熮嚰䒺䄾㦡ㆾᬢ碌う秾Ꮊռ៤⋼箱玌俻稞I䱌⡉爈࡛侌ᡕ熙䑙ہ筊ࢤ㵓䓠⦢Ř㬷䒹㧌y㦦攜Э䒠ⱇӠ㱎焑损䑱熑暩⠸皽紬憋ᶚ》Ɂⴻဠ☹း▻䥨抰琥Ͱำńᐨ慶ᠮ䫂咡ᄣ犻ĸ㤗Äᐧ╫䖪Ǜ䖟䚹孠Ǫᠹ䥦㶰ࣕ岯᧎甍㇦吔紎嶷⁾ᄎ಼Ⱍᚽḋߤ嶯㡥㮩ൢ壀帀ŀ∨尨唵尸千䞙ՙᑹ櫂劭ӛ㑬僱←䔚ᡛ儕ặ圖掭ӣ㺮గ⢟堯ǰ㓷甍礗Ẳଗ廣瘔缆暜Ы爭㔱寈⛉廚曍৺Ꮕ㩅垒ᗏ㒋⇕⚳╨ᮋ浘∍㶢㢘某ஂ㨤ⶌ帧ᣎ归瘲Ꭴยᡬↀ䰥撃ܔն䄣䳁厺㰔ـ炔̦绡۝摹ᠤ姺壉㫍ㄕᕱ㚞及䇅炋䧱ᣱ×ܻ儥ްᅑṰՆ喩㲴悐䜦䴿຺彇ᤓࠢ繸ކ䁈磀࿬㬯䵠卥瑰孢Գ㡱ㅂ熁䋭澍屭屛咨築婁㡢㝛ㄠ⹀㚎ᙤ᭾巂局㋙㨘䁬㭃ណ悶癝朁搳Ĩむ㡟Ⴌ㦂傝慞౫⁘䚝堣䂒ጢ䠯孰ᾗᰡ爾僊ằⴴ⎪㴄ኒᐬ烈㴄⽭ټᵀる撡␩碬¥ࡩ܀ᤪ倪઀琭↤ୢ瑁䎪ᦧ⾻䄬棡೹䬹爰ᡳፒ獞䏨ᆧᢐ椊ң羉吡ⓠ嫀ቼ၊ˀ෱眧Ϡ戭䘴ౚ琵㜇∠㸲甓ᑃ㹦ᐎ⩢䁢֚ᠤぴܜ䤰冾姓䅬⊕ਡ笶࠼吵庹ϝ矶ሗ䐉࿋稝ࠖᡫ由璎ᆻ䶬㮽ॲᒣぜ䒳㋣ፕ䃆崵✊ᄘ˫∹专᧓懓䀂ᣎパᚎʰ⑊ᜳ秌㐢汱ࣁί㮔ዸᔍদ朳籤ዜ㩊瀧̘斖⫀䭵Ұ犨⺠䘼儃圂ࠪŠ㡢噂෤娥㖤Ӣ⥃ਡఢ㰗㚁咱眪窱ậᙙ䵁ᔇ巄勚䆔䬓呞䱠氤糔ࠫⶶ╡㼠↖Ţ䅅ၸⲀ硵¨岫䭀୾䥔䅸ᗆ䚉䋿嗭糴㤦Н❒㗮⭛㭍⿄䄕埙卩㼐ᶠ䡀痭勺ぷ攜溆嶁ⶁ䇡჋ᡣㇴ㏦㬢♵Ӱ崯泣䥅槁ᅲᥪᕥĲᚴ䀬挳⨀㌅຅慺昗䭭侻⊠塷璏琒亩ᣑ⸆兽㷐⇱䋢∌㊩ᱴ☋⮭䔗഑祲኎Ϲ㛷⬠灇Ĝ◷ی䩏犣嶀癊弃ɬܫ䂣੣哄反㙔榠૤怵ڻ栤ಸ⛐すΰ៎糡焪彶ḭᵀ䇞ᖇ䷇ኢ煏㩱瓌唺ᐤ攞ᖀ䎲㷸暚婲⡏Ҏ⼵朙⭠ࢌ᠑৘ੳ㰶ⅷ止嚊嚢䏭䫤䗬Ẑ䀠 "
   },
   "outputs": [
    {
     "data": {
      "application/vnd.jupyter.widget-view+json": {
       "model_id": "51610cb6ceed46509be1f07eaa5205b4",
       "version_major": 2,
       "version_minor": 0
      },
      "text/plain": [
       "PersistWidget(data_values=[{'__id_column': '1', 'Title': 'Super Mario 64 DS', 'Handheld': True, 'Max Players':…"
      ]
     },
     "execution_count": 22,
     "metadata": {},
     "output_type": "execute_result"
    }
   ],
   "source": [
    "PR.PersistTable(df_task_1b)"
   ]
  },
  {
   "cell_type": "markdown",
   "id": "753ed0a8-dc0b-4ac8-8afd-b554ea8f4d28",
   "metadata": {},
   "source": [
    "# Task 2: Filtering data\n",
    "\n",
    "In Task 2, we further improve our data by removing outliers and removing certain records to have more consistent data. \n",
    "\n",
    "We will also take a brief look at relations between cause of an avalanche (`Trigger`) and failure point of ice (`Weak Layer`)"
   ]
  },
  {
   "cell_type": "markdown",
   "id": "7f25d8f5-98e8-4b0f-9358-ed85f77cbed8",
   "metadata": {},
   "source": [
    "## **Task 2a: Remove Outliers**"
   ]
  },
  {
   "cell_type": "markdown",
   "id": "ac53a605-2d10-4457-9625-70ce88f04f3b",
   "metadata": {},
   "source": [
    "#### **Objective**\n",
    "In this task, we address data accuracy by filtering out anomalies in the completion time for the main story of game.\n",
    "\n",
    "We observe some records with negative values for completion time, which is obviously incorrect data.\n",
    "\n",
    "Remove records with negative completion time."
   ]
  },
  {
   "cell_type": "markdown",
   "id": "664c641e-1193-4233-8897-0161f209c86f",
   "metadata": {},
   "source": [
    "#### **Instructions**\n",
    "1. **Identify and Remove Anomalies:**\n",
    "    - Interactively select data points negative value for `CT_MainOnly`.\n",
    "    - Use Persist's interactive features to remove these anomalous records.\n",
    "2. **Generate Dataframe:**\n",
    "    - Assign the cleaned dataframe to a variable `df_task_2a`.\n",
    "3. **Show Output:**\n",
    "    - Display the head of `df_task_2a`."
   ]
  },
  {
   "cell_type": "code",
   "execution_count": 32,
   "id": "9f84d347-8ce1-48d8-84a9-478d7eae3bd6",
   "metadata": {
    "__GENERATED_DATAFRAMES__": "ᯡࠣ䅬Ԁ朤壠ᜣ琢〹夥゠⹰〮⁁䁻қ䚾ኊ㇠നСࠩ瀮晼Ƭ穅5愠៩䍒⊂ᠡ囨¹䔐ுᝉ⅊㙢勆⠡眚⤂剰΀䀩敠ࣣ池Πᚫጅ䁃Ꭰᘧᰈ俼Č睏Ꭳ䬬暅狥‣ᠼ,ݠ䠳ް┥ 烀㨕⠰搳┢⛲昁Ϊ憤፰㳾ᤇ㉯ᙀᱡЪ恆ḅ⢶᭴献㨸䏨䎧梐愐ú傂渨ᙋټ␫᫗稽畾૶箣䇬攌╠㫦̵桾璗Գᄭ䤩∂朲၈挓卥埌⼘䇒ɖvႢ䉾▶ឰ伈⁵哉䰮㖫攈抬࠱皚ᙐРǐ䃦䆠܌∃䊅Р̨J搠ୌ⇠ᰠṣ䏥壓Ꭶ恨ሬ᡾‡梌⻉⺑狐⼲ᠰƔ䰠ॢم怰=怠အ䩜㺫ᖹ禶პ⒤泱ᝰᘓ摸ೌ℡㤊๟ెლ惩״⣘᳤а㢐∲䐻偊幕ڹ㷀ゟਛ⦔捙䮄㦣༠Öၘ๞ᥠ]͌㏲Ϫ⁏䐥ວᑥ㥶喊㫝ⵆ䲆姥厰祜ׂ摧ᒡ┒∮೬㎎㞿摘䊱㞳㎪३㩷ᓭۡ㣿榺फ⛥㑐ह⛵濘䈸ՙᇗᒆ␅ė䖦ᰂ⬱爻૨ର乓Ŏ䌼幚唦૿乓ި੸媽Đܲ傂糲䌦㱬稬吮Ƅㆢゐ䨿∨ó奐嘳䎐㸷π㉷ࢨᄨ  ",
    "__has_persist_output": true,
    "trrack_graph": "ᯡ࠽䈌ʀ匦㢠⹰ۣŘ偃æȸĀୠᖽ㨡ನˠ⬠晤⠽䆕∩ኪ橪䁓 ̡㍄倡ᙰ䡡劅摊⹪嚣፶皽嶘ܭठ͢&枢䙑䲠┨ࠠ⺦₀ǘ憠㱢Ξ燮+ӑ䨠Ԇ牠Έ䀠䳜↚㔪ᾣ䞯慷倰炨硐⅁ᄯᴿԿ⃂䕠燰†嵃ㆫ䋩ф㇥؁沀倠祐ሶԼ亯戂䙇凈䘠嬸ᶾᱤަҡ䷸⑀㶨為䠥ᛠඁ᯦܌⋊Þ⍣䬝༧ހ䃺淣 玖o#䘓瀃ǥ沜ဩᷨ獘硫ᤢŨ㊞ҥ䏀碆ᅄ⏀堬䚭⃠䤪 ⃀奈¯捐兜Ṃ⣜䚗䰃ეざ䘊㥒䘸䒧ࡄ䤢Ն䯃奼彍∴碂哎⩵ᄈ㏪染䣎㕃⏅ᥞ⽀⤴╒䋈犹昨␠͈ⲟ㭪 ࠠ愠ՠ߰Ƅ碀㯌㇜⚠ʨ䋢牆嶢Ŕ㡱2䂁ᫌᜤ䌠Ǽ⛝✡ʥ⻁௳矀ǧỂژ灣㜋瀤䅰嶉ऩ烬⁢ₐ䊒䚧挱∼ᬽ䭐波ೊ䝴䘯儆炙㈬ᬯ䌰摪ڧ≐ⱖΥ愐籡Ѧፕⶃ㯋氕摁䔤ᅤ䣌ኍ᫭Ⴅ䦆櫌׍䞁Ѝރ䈎㯭䅋䜇㢼䙘੣!⌔㴨濚䁰Щ礠K䰣繇ܒ㰬嘄糿Р皖ῥ̀䉅0Ё䣁Ѕᡘኵ䆍࿡䠠Ẻ䤁へ戡ᡓ᧴泼烁㑓悁ⱇס籓怱桨抱牆⍰咾䦀昫Ő縦ϐ䅿䅤Ⲿ䍐⒣僀ȳͰ䛯䂰ဦ䒠呆∀⠺⏖㱐䚑ቜ঑䡲櫺筬ɚ㞢Ꮪ岠戚.䖡奂摨㴲²䑍䈻᱐椻⍸渓䉆䲻沸䪪硖ⳡ案䉡乕ᇆ㱍Ꮖ烛ˤ䀢ᘡ灉䢥䢪ᖻ㶀䫄౺ᧇ㓧೦ࣇ䀴猃Ḳ䂀ᅃ㭧ཡ䍀侑檰˴ⲉਂ䳛℉䁇⎸༦䨀/⎬⏌ᅺÚ偭ㅣ҅ಃ⡬ᬶ⣲Ì啍φ槥堬签ࢌ占犼湦䘘᮱玸൮ࡢ塵䁂傥ૐ౰イᕦ㣮ㅾ匈糦⮔橸≈と̀ᾥ㓆䜴㊀灎榢⤺勖⿯礡᱒จಧᄛ⊨ᱴऎ凧ᚥᶔⴄ⩬㵡Ӑค⳦ݫ׫▃傋㌧Ⲹ΄氨அ䄆ⓂƉ䦀枤፝ⱘ⭟Ⲁ⎄ᆻᐪ涊ᦡ婣ӡż⧉⊭ݢ㔺䰡ᠰᆦ䷛୼㈁予ࡢᡠ禔纍淅㱫ᗙˋ撒ૈᓵ⣉嘇㵈巶ὠ᣷Ⴋ惐㜂Æ೧ᠯ㶤㳶6㱏ᇦɎḁᇎⷮ款Ⰱ糟⪗ᥠ旔ɠ耍㶿㏥ʉ➧Ȱ瑑њ䉲Ţ㋚燪庺扡塑ۆ籷簋䫔掻穵⭶枞䊕侔溡欹䯒償≧掘۲䄰㊆濼ὐ䷫濧穵٠ጙ炭䧝Ἃ䰦忐夐忸伓ڄ㓕࣐ج愐㹧਑㔮⣀㉥নਣ䆸㨡⸈ภီ䅲䐄䪇桤倢Ⅲᜃ༭⣡ФħϺ暧炟(䂽恑䬺笢䀮㊦๕̼䴩ᱚ͙稦礊ᗠℴ⍒ᶕ墎曦尴偣䫁⎣⁇᭣✾䇮ࠡ恠ᘨ殍㻥佬斸ⵒᦹ䖻ᡰݖ䭎㖶Ẋ㡠  "
   },
   "outputs": [
    {
     "data": {
      "application/vnd.jupyter.widget-view+json": {
       "model_id": "e354c3b9df684dacb6fcaf77fcade795",
       "version_major": 2,
       "version_minor": 0
      },
      "text/plain": [
       "PersistWidget(data_values=[{'__id_column': '1', 'Title': 'Super Mario 64 DS', 'Handheld': True, 'Max Players':…"
      ]
     },
     "execution_count": 32,
     "metadata": {},
     "output_type": "execute_result"
    }
   ],
   "source": [
    "PR.plot.scatterplot(df_task_1c, \"CT_MainOnly:Q\", \"Review Score:Q\")"
   ]
  },
  {
   "cell_type": "markdown",
   "id": "b447b862-90c6-4ed7-b48b-baa1cf74ac2d",
   "metadata": {
    "__GENERATED_DATAFRAMES__": "{\"nodeDataframes\":{},\"graphDataframes\":null}",
    "show_aggregate_original": "false",
    "trrack_graph": "ᯡ࠽䈌ʀ匦㢠⹰࣠✴ƀචآ൐ୠᣠ⭎¸䚀ᶥ<⋵攴≲䦆ᨐ҅䁲䥈kᑄᄈ夒ર囇⣹嗛➎帣ᢤ䀡傠Ǘ熠㥀ॢȠா䠸ᢀ㜰䁾巒•橀樠Ꮃ䤠ව׷核ᱬ䣘紲₞૦Ԡ޳ŀ凐栠晬╍ಲ䖽䂇栢沀團ᄰ㸸ሪ喊Ⴇ♁䐔粶ᦞΎ刺ࠥ簉窺簲ᖢොሧ҉䃵ⰡḠޅ毗䘤䗾墥୚渍磆搰㣄䆯䌭䊣ᎄ䢩妈䪑䴹ҩ䋫◂რ⢒ઉ⃁⽌囦媍ኘ垤䢠䍤⒂Йᘷ੡䄀҂Ქ⃱琿啡憐㲞ၯ䌨焠ᗿ搫໎㒫ல熪Ņ⎃ऺᥛ⃄ᅠ  "
   },
   "source": [
    "## **Task 2b: Filtering Out Old Data**"
   ]
  },
  {
   "cell_type": "markdown",
   "id": "c86b30d4-4762-4bc0-bfd3-6f1486b55ad6",
   "metadata": {
    "__GENERATED_DATAFRAMES__": "{\"nodeDataframes\":{},\"graphDataframes\":null}",
    "show_aggregate_original": "false",
    "trrack_graph": "ᯡ࠽䈌ʀ匦㢠⹰࣠✴ƀචآ൐ୠᣠ⭎¸䚀ᶥ<⋵攴≲䦆ᨐ҅䁲䥈kᑄᄈ夒ર囇⣹嗛➎帣ᢤ䀡傠Ǘ熠㥀ॢȠா䠸ᢀ㜰䁾巒•橀樠Ꮃ䤠ව׷核ᱬ䣘紲₞૦Ԡ޳ŀ凐栠晬╍ಲ䖽䂇栢沀團ᄰ㸸ሪ喊Ⴇ♁䐔粶ᦞΎ刺ࠥ簉窺簲ᖢොሧ҉䃵ⰡḠޅ毗䘤䗾墥୚渍磆搰㣄䆯䌭䊣ᎄ䢩妈䪑䴹ҩ䋫◂რ⢒ઉ⃁⽌囦媍ኘ垤䢠䍤⒂Йᘷ੡䄀҂Ქ⃱琿啡憐㲞ၯ䌨焠ᗿ搫໎㒫ல熪Ņ⎃ऺᥛ⃄ᅠ  "
   },
   "source": [
    "The interactive barchart below, shows the data aggregated by year. There are noticeably fewer records for `2004` and `2005`.\n",
    "\n",
    "During this subtask we will remove these older records, keeping only the records post 2006."
   ]
  },
  {
   "cell_type": "markdown",
   "id": "24b308e8-8437-4146-9ebf-cd121aeb7f9f",
   "metadata": {},
   "source": [
    "#### **Instructions**\n",
    "1. **Create and Analyze Bar Chart:**\n",
    "    - Looking at an interactive bar chart in Persist showing the number of video games released each year, identify the bars showing data we want.\n",
    "2. **Interactive Year Selection:**\n",
    "    - Use a brush to interactively select and remove appropriate records.\n",
    "3. **Generate Dataframe:**\n",
    "    - Assign the refined dataframe to a variable `df_task_2b`. \n",
    "4. **Show Output:**\n",
    "    - Display the head of `df_task_2b` to verify the removal of earlier years."
   ]
  },
  {
   "cell_type": "code",
   "execution_count": 39,
   "id": "1ff923c8-1008-4d36-ab1c-625171d90d47",
   "metadata": {
    "__GENERATED_DATAFRAMES__": "ᯡࠣ䅬Ԁ朤壠ᜣ琢〹夣゠⹰〮⁁䁻қ䚾ኊ㇠നСࠩ瀮晼Ƭ穅5愠៩䍒⊂ᠡ囨¸¬砫傷ᓁᕖ→午Ė͈煲⦁瀩戎䆀Πᚠᆱ⌣䀶ᙇ✮瘣ᨅ䐮ᙜ差斪䂤⩈磬䱜䅈ᐤΥǠ㚮⊺⤝᚞Ⲕᾤ߸伇瑰秺僋଒ଧK!䪣悦ᅸ磐丈၆ᱚ㨫墧P烡瀡嫀峼࠿䧉榌┫硚Ⲽ癜ྗЦ煮椰癅␛̣椎瑥Գᄭ䤩∅✲၈抓㌥矅㴵㈫岶㖣抑嘮⊥厈Პ⑲枓摮ᅤ冈ـ⏹灸怰&愡焰瑠܌⌃䈵Рʊ㩰೾⚥〬ͅ嘫᧰嶠׳ࡠ⸦䶫戩䐡䝪グᅥ஥䱠䄧ܢሶ璚ܣ捰⦴娦⭵䨭ᱥ੠Ḡƌₐᱜ㊠冸擄\"䑠ᅇᓥᏩ࡚嵖䱹♫ᛩ㋙溓判⢤ᡁ奂㶍↧攥㬽ٗ楠䆎ᚳ䰲㡖✡ᖠ称㬤ః塓朤Ѱ晡圽俰㵃䩒宩䟱吼઴Ꮶๅє㪣噇෣熐琹Ꭹࡤ† ",
    "__has_persist_output": true,
    "trrack_graph": "ᯡ࠽䈌ʀ匦㢠⹰۠ㆡᲈ೽׀࣠࣪㘤Ɓ⑱̐ೠঠ↡Ǹ⥙⼵ゲ⚪ैkヤᄈ妑刵ᝅ⍮凋ݎẜ〥Ҡǁ#ㆂ⌰椨EШN絀〡岁䏼仗ㄍ%咁吠৵撠۱ͱ‸桌㒖Ĵਨ䃥⅀P怨ⱈvडᬤ抡䉩䏐塹ᑀ}ǁ姬撦䡓⌤妌ばᠲࢸ冡䂇㉰犹䱬̠ⶬᛥ䉂ƃɡ枍∰廤⢍␤䎀ے䳒Ж懵Ǒ涐嚫ぢ洍慶〫嬠➠ǵ祋熣␍Ἠᑦ灘丶ᳬ䂡戫ƣ䤰ᠶᎢ䢀䑜ഥ≰〴䒧䌐奈ᆮ拑塪ᬪじᾏ䋪棡海崈搹ᆈ噏੅䥴䍅䬅祢䒬⪵敪䆃٨Ⲹ乀䥄⥪ᵉ䮄礢䣂⤰攪䫇⢹൩,卓總ᐠ@Ŕ瓠声qᢉᩥٖ氰㇖歩瀠┣䃵̈́㠡垖礜Ð⧗и↪චむ㩅⃧撘⡞≢ㇰȮ⚲䃰㪆ڥ旐᪡䨖ᵼ眴䮽䨄㈥൥刈昻০熘繀䱁㓺⍯⟰ದ癜Ꮄ先౔歗䳁▪滷ⵣᶾ愤ᶮ參榔ⴢᯌ⾓ᰬ㡘䌠ť墌ჰ窠倨ᮒ!⺀㨌畿ἔ寫爘䃥涷挤ↁ⠢Ԙⳡᐆ᣹䇧㹞ˠĔ⩵瀸灰慾埯毴ò猞翲∡恆מ皼٨ࡆૡࡡѸ娾ᮀ䑭䌮Ⱚ䄰①䏄䳠䁐帣ɰ☿兦ᠭႠ呄Ȟଥ䉄偗١㡄䔱硇犠獸熤坥Ȉ坽䅉㭯|㹀♨⅝夁嬯ҠࡌÐᦫ祩଩غ࠰጑㴭ة慈媩籙獹汜├傴þ儬塘水↸⠡熙ဠᔥଶ⓹ᚧ扮ᵤ ཪ⌘ⲝ毤瘯ሶ䈥᫅刵ᬋ咫䆑洞Ầᙧោನቢɋ朠簠࿍ˬ䤹ၡݨऀ穳ఞ⁌Ӽ▣+⒭႐㸬⇋ኧ⵴⎁偻㚦涌冠楁ᄪ巣̩සⲉ∃ᔧ䂳̺䱑څ䲓ᘯ䵥ҢV図೒⻰䰮犌㯳⚍䶂׳䠫ᛊㅁࠠǄぇ旑䛅䯙ᵑ嘒〴恠ٗ卌Ɓ䄋ǟ䈨⅃抒↹ゴ泔唄狗ᑴ粪刴᫗䔍ᵗ㑡絀損烟㇨⩨Ƹ猢撼癔烹ៜ瑼❝狙毈䗘密ᤡ㯌ѝ䞽敜‽猶㟜廸ྫ暝哄䞝ῄ䨝╠দါ䄳窄৊疃⺋᩹⸨匡廢悄ඓ䅍俒ᢞ屖云忣䚉䳖竭得ᕸ乂಩⫲⁆ඨ眓䱓䶄䶊憟䅧㼋娣ᇱ嫋ѨĒᘰ潨䑛Ԅ檾㋁堾Ө磁㦡ᇒ␸搾M䨙ⷳ眞ડ≐⏘㎫⶜⃗⤠缠ሥ涀渻斬䜺ਭ㙱疺䊍ᩋ㗱⯝↑Ⴓʅ懭䍍⎅セ੍ㅰේ䚌娮䗲栵琩夌Ⴌ屮毻ফ歭❧淭យ戠 "
   },
   "outputs": [
    {
     "data": {
      "application/vnd.jupyter.widget-view+json": {
       "model_id": "66e31989e2c045d188610edae0b0b0bc",
       "version_major": 2,
       "version_minor": 0
      },
      "text/plain": [
       "PersistWidget(data_values=[{'__id_column': '1', 'Title': 'Super Mario 64 DS', 'Handheld': True, 'Max Players':…"
      ]
     },
     "execution_count": 39,
     "metadata": {},
     "output_type": "execute_result"
    }
   ],
   "source": [
    "PR.plot.barchart(df_task_2a, \"Year:O\", \"count()\", selection_type=\"interval\")"
   ]
  },
  {
   "cell_type": "markdown",
   "id": "db8fdc8b-168e-40e2-861c-d23095a4a8d8",
   "metadata": {},
   "source": [
    "## **Task 2c: Identifying top `Publishers` for `Genres` _'Racing'_ and _'RPG'_**"
   ]
  },
  {
   "cell_type": "markdown",
   "id": "dd956e34-f1c9-40d3-8702-a2a84e304ca9",
   "metadata": {},
   "source": [
    "#### **Instructions**\n",
    "1. **Linked Bar Charts:**\n",
    "    - You will start with two linked interactive bar charts: one for `Genres` and another for `Publishers`.\n",
    "    - Both bar charts show `count` for their respective category.\n",
    "    - You can click on a trigger in the `Genres` bar chart and the `Publishers`' bar chart dynamically updates to show only games corresponding to the selected genre.\n",
    "2. **Interactive Selection:**\n",
    "    - Interactively select genres and use the updated `Publishers` bar chart.\n",
    "3. **Identify the most frequent failure point:**\n",
    "    - Analyze the filtered `Publishers` bar chart to determine the top publishers for the selected genre and make a note in a markdown cell about both the name of the publisher and number of games published. If the top publisher is `Unknown` note the next highest.\n",
    "4. **Generate Dataframe and Output:**\n",
    "    - You will not generate any dataframe for this task. NOTE: Please save the notebook after you are finsihed with interactions. "
   ]
  },
  {
   "cell_type": "code",
   "execution_count": 47,
   "id": "cc5d9169-1db8-4bb2-be70-1cd1be548705",
   "metadata": {
    "__GENERATED_DATAFRAMES__": "ᯡࠣ䅬Ԁ朤壠ᜣ琢〹大゠⹰〮⁁䁻қ䚾ኊ㇠നСࠩ瀮晼Ƭ穅5愠៤⠠ ",
    "__has_persist_output": true,
    "trrack_graph": "ᯡ࠽䈌ʀ匦㢠⹰Ǣ䄸ƀච掔Ԁୠত䂆Ƹ䚀ფ䁦∨ẍ⍉ၛᝏ柋⭡䔴ተ¶冨⃱㈄ᕁ⵮凓⮖乜簥ҩ#℠΄ጨ椨EШǸ〡岁䏾仗ㄗ%山吠৵撠۴㯀䢀೸&਱ᚼ䃮⇁䋲炨ഈ璊⺌㵋䭥݅䙳䡠Ú䍃㎹䤶ᢋ䘭勸惀Ēい㩖֠䥥挄扤ࡩؠ嬸ⷍ౤୦ҡ任䑁嶨儊䠣۠ඁ᷄܍䍊Þ䍣䫻᜶悡嫻䍌愇㘠传ϓ穷挫䗿㱡扗Ǥ狱暄Щၹᐠᖰ䗁㣸㔠䝠傹☳ƣ⣢਻ѩ⁈⃤䉪ラ㏰掚㸶㍽ᎈ䃇͐憢⋱ᱡቨ劉٫ᇩ犴š๊䬅ᳪຳᥱ౾ᑫዉ♛仪牤㹰刵䨵൴朤䀠㊹䰓㓀!ᴤ㐢䃻ࣱ䨤ၘฤ㐡拎ちʄ峠璮ߴ滾ᾠᘫ圁㤭ʠ憌⩫䁀ᤈ䨤䊣燈儻̯䡐ჶᐳ硵↽瑚崎ಣǣ烤ᤪ䇃桬ଭ䄃㣜㼰☲䑭୰欈窝ରあいⱶᝢ⛳Ⳣࡹᛍ⫰᫸瘰㻰癛漇㳰ዘ㋗ৰ探⑐4⹥⚎㯈Ԡ䁗ဠଆ¾❅爊榝⁪Ⰲ̇㙿ж֥ ḁ㌥漳ண䤷櫰簫#梿ࠄ㇯㐅疊࿎㧟」ሟ‼Ϳᠽᇠ呈ㅡ఼緰̥ň㨫ॐ⦋䈗ഫࢠ扢⃃ኂ₁ᜥj«೘㵏冰䖬⦻࠻バ䠮А氽Ϥ䑄瓠ெ࣌٤Р㦱圢䚠ĴԂৢ⧹䐢㡦 ⨢ཻ稤⿤ͩ奃恉〹⛉ോ┉厬牒幚␑ܳѡ〶䅬ॎޚ嬢ƹ⑄Ğ㹍䚙偂ٜ惘֩⾴አ䯼‶浆 眠࿎䀼㤮წᐧ㢲䠯䬪䖩㐀⿆Ḋ㒠\\ิະ㯝ዸ঑⾳㠲䥳檆仳㙵⚓↘⾓ᅮ㚫塣Щ枼Ȑ奴௢惄䦝䚝䚒䴯䘙罊泐〥⚱㉑ば旒䓌樭㓱疮䊍岑䏉惚ɽ䆨䌬䤱ҭ冭֭燑⑭䧞獬尦㉩㥤ጵ╨㖚ᆴㆬ熢ど羊㝭᧎⳴్ⷵƛ⅔曊櫕䵍埕ᖋ咑溡㞢ۏ堐䄨⟙捠がዋᚴ᲼坩᥂各ʱⅉ櫗䖍浛㑡㵟✍ᠼሌ䎬掸掽䂼欹熼玱懜ᜪ眱坚珆‶疠管狷䟉盷៕瑽᮳憘ὓ疝濂漤╨椠桦⃢፨䶫䅘ඩ≲澡弟䣑噍≀٩䖙嵠Ä堦⇰´湍杛ᠠۛ⣈②Ӕ☹嗜ܥ澜ܳ䄃恠ᄌỰख攺椖᱇懅݇唈߇慗氱䌙氛墸嵸匆ʧ焊᳧礑ᶥ܅潗燃ᾁ屏☛ଽâ屣Ⴠ咻̴䰢嫰墱ጱ磷˰ᐼ䜀㈽̀ᢵ咍ⷜ様巟㘶㤤婈狥ⅶ甶妈۷⊨◶僘灤䄹᧸氡㈽㲥ᙅÌ唭ⰺݹ娱夔ৃ佀⁓֦㵰本矃ٿ✭㽡౳ျƶ㊼ဠ "
   },
   "outputs": [
    {
     "data": {
      "application/vnd.jupyter.widget-view+json": {
       "model_id": "0316f15f2ad143b1bfdd7e241517cf12",
       "version_major": 2,
       "version_minor": 0
      },
      "text/plain": [
       "PersistWidget(data_values=[{'__id_column': '157', 'Title': 'Wii Play', 'Handheld': True, 'Max Players': 2, 'Mu…"
      ]
     },
     "execution_count": 47,
     "metadata": {},
     "output_type": "execute_result"
    }
   ],
   "source": [
    "pts = alt.selection_point(name=\"selector\", encodings=['x'])\n",
    "\n",
    "base = alt.Chart(df_task_2b).encode(y=\"count()\")\n",
    "\n",
    "\n",
    "publishers = base.mark_bar().encode(\n",
    "    x=\"Publishers:N\",\n",
    "    color=\"Publishers:N\",\n",
    "    tooltip=\"count()\"\n",
    ").transform_filter(pts)\n",
    "\n",
    "genre = base.mark_bar().encode(\n",
    "    x=\"Genres:N\",\n",
    "    color=alt.condition(pts, \"Genres:N\", alt.value(\"#ddd\")),\n",
    "    tooltip=\"count()\"\n",
    ").add_params(pts)\n",
    "\n",
    "chart = alt.hconcat(\n",
    " genre , publishers\n",
    ").resolve_scale(\n",
    "    color=\"independent\",\n",
    ")\n",
    "\n",
    "PR.PersistChart(chart, data=df_task_2b)"
   ]
  },
  {
   "cell_type": "markdown",
   "id": "e3f44925-7703-4844-98ee-d1280f0b10e5",
   "metadata": {},
   "source": [
    "**Task 2c Notes:**"
   ]
  },
  {
   "cell_type": "markdown",
   "id": "8a92b8a9-c3a8-4a57-be3b-c9cdc977092c",
   "metadata": {
    "__GENERATED_DATAFRAMES__": "{\"nodeDataframes\":{},\"graphDataframes\":null}",
    "show_aggregate_original": "false",
    "trrack_graph": "ᯡ࠽䈌ʀ匦㢠⹰ೠ⬠沈֭⠸恍ff9昽䁮ۦ࠰汬നڀপ㈏䣹厠㬦ተ¶⡨⇱㌀ᅁ╶庳ୖ⹜簧ଭࠣ℠Έ橦औ䁅ШNႦ〡岁䏼ℭ㞁摞+㢱䨠Ԋ牠Έƕ٦枓቙ჿਸ旑䅠Ȅ恨戬പᎭె䝁净儬Ö᡻⌸䐱䘩׍宨⇓ࡱ䍲ච᫲壬จ䙤Ɲڣ圖⍞ᛡ৽ण䃔戋㘠传ϊ揿振䘌汣䓼㹮䘫㈨ቺ⩯↧ᄨXഉ⠅ㅖࢢ侸⇄僡ಖࡢҁ氣С宍劄倶䢡⍤㲂̤㚗٩䄀硂಩⍰琦ᦪ悑屾ᾨႨ㺜*瘪䋇޶⋤ᓘ犠䭳঺᥇⏰ᅠ  "
   },
   "source": [
    "## Task 3: Data Wrangling"
   ]
  },
  {
   "cell_type": "markdown",
   "id": "9da80393-7f4b-4115-a4d1-5b7978e11358",
   "metadata": {
    "__GENERATED_DATAFRAMES__": "{\"nodeDataframes\":{},\"graphDataframes\":null}",
    "show_aggregate_original": "false",
    "trrack_graph": "ᯡ࠽䈌ʀ匦㢠⹰â䂬ƀᶷ琶䁋c<搔怳ଚ䠳亡䈤㉕⁖ì⺇⊨攩ᐠ▨戰㑹㧒妰囇⃹喧㝞Ţ∠桠ûு䁔䈠ॢȠந㺸ᢀ盅⻿夣•晀樠Ԃ牠Έƕ稦❳ሪὦ䰼⇑䅠Ȅ恨㙎⌯᪴䶹䈁ℓ琡㙐ᮂ⢨᢬थ⧓ࡢ㌰ሚ璋U䳘䠵欯Т縔絭Sㄭۡ۹ण䉔悊㘠传ϒ橷挣⌏ⱡ䕼庮打㈨ɼ榨慢䃂॑瑐繦┭ڼ㾬⎂厃焸牘榥ᄨ䦯ඦ嘔㗆溄⒀擒摖≦၀ⶃ㧄మޢᄴ䩍རへ∦䯧焤愷䍠Žƀ夅შ㤙༾′⪂㵩掳婊⢄  "
   },
   "source": [
    "### Task 3a: Creating and assigning `'Length'` category**"
   ]
  },
  {
   "cell_type": "markdown",
   "id": "402412ae-3b84-4fec-9c01-94dd203a7b1f",
   "metadata": {
    "__GENERATED_DATAFRAMES__": "{\"nodeDataframes\":{},\"graphDataframes\":null}",
    "show_aggregate_original": "false",
    "trrack_graph": "ᯡ࠽䈌ʀ匦㢠⹰â䂬ƀᶷ琶䁋c<搔怳ଚ䠳亡䈤㉕⁖ì⺇⊨攩ᐠ▨戰㑹㧒妰囇⃹喧㝞Ţ∠桠ûு䁔䈠ॢȠந㺸ᢀ盅⻿夣•晀樠Ԃ牠Έƕ稦❳ሪὦ䰼⇑䅠Ȅ恨㙎⌯᪴䶹䈁ℓ琡㙐ᮂ⢨᢬थ⧓ࡢ㌰ሚ璋U䳘䠵欯Т縔絭Sㄭۡ۹ण䉔悊㘠传ϒ橷挣⌏ⱡ䕼庮打㈨ɼ榨慢䃂॑瑐繦┭ڼ㾬⎂厃焸牘榥ᄨ䦯ඦ嘔㗆溄⒀擒摖≦၀ⶃ㧄మޢᄴ䩍རへ∦䯧焤愷䍠Žƀ夅შ㤙༾′⪂㵩掳婊⢄  "
   },
   "source": [
    "#### **Objective**\n",
    "\n",
    "In this subtask, we'll introduce a new categorical variable named `Length` into our dataset. We already have `CT_MainOnly` but it would be useful to have the games grouped into `Short`, `Average` and `Long` category.\n",
    "\n",
    "We will create a new category `Length` in the dataset and assign each record to `Short`, `Average` and `Long` based on its `CT_MainOnly` value."
   ]
  },
  {
   "cell_type": "markdown",
   "id": "86d54d80-ef52-4630-bffb-1e04d9320384",
   "metadata": {},
   "source": [
    "#### **Instructions**\n",
    "1. **Visualization**\n",
    "    - We will work with an interactive scatterplot in Persist showing the `CT_MainOnly` and `Review Score`.\n",
    "2. **Define Season Categories:**\n",
    "    - You will first create a new category called `Length` using the `Edit Categories` button in the header.\n",
    "    - In the same menu you will add three options for this category: `Short`, `Average` and `Long`.\n",
    "3. **Interactive Assignment:**\n",
    "    - Use Persist's interactive features to select games and assign it to one of the `Length` values (Short, Average, Long).\n",
    "    - You should use the following ranges for assigning proper categories:\n",
    "        - `Short`: 0 - 20 hours\n",
    "    \t- `Average`: 21 - 40 hours,\n",
    "    \t- `Long`: more than 40 hours\n",
    "4. **Generate Dataframe:**\n",
    "    - Assign the updated dataset to a new variable: `df_task_3a`.\n",
    "5. **Show Output:**\n",
    "    - Print the head of the dataframe."
   ]
  },
  {
   "cell_type": "code",
   "execution_count": 69,
   "id": "b59fb23c-da53-489f-9520-918d789978eb",
   "metadata": {
    "__GENERATED_DATAFRAMES__": "ᯡࠣ䅬Ԁ朤壠ᜣ琢〹夠炠⹰〮⁁䁻қ䚾ኊ㇠നСࠩ瀮晼Ƭ穅5愠៩䍒⊂ᠡ囨ƹ䔐ுᝉ⅊㙢勆⠡眚⤂剶ဨ怠枰ˡ΀ᖠᚵጚㅇᯈ๟ରɐ礐ₘ戾Πᶦ溠睑Ő礤偰࠮ਧήĬ䅔剧擑⣈n㾳勪ဤ抬笰ℋ繸᫇㖉⛺庅ৈ砘ኸ瀹栨戼ὣ䌧䀦檣玐ℒ磲焴㑞┊⽒愒㴌ᯭⱰ发ᔫགྷ⹇⋧籈䲨㙨ź㢱ŦᎽᡏ備棁溶䧣惹爨Ꮽ⤐塇ᴁ഻̽௡䊢䕽Р祜ାᘁ!朚ᐭ䑨䃃㣣䙰䄚ᠬ慉ॐ༲䣂ㇸ幀䩅㆏୐䡸R璮ᢠL‱Ќ憜 ᧎㏩犓ᤋ㐘㙯ȥ䅊墊䬮䊙ᚊ囮䉸ܛǤ⟃ರᶻ䠃ӆұ᮳ᔊ㓤懲೪኶᧺䦆⫹⌒Პ⡴換⓪,倷熨ピ⾸䄆㾴勠᳁εȧ擁㕳昪粶㾫⦪≞ݽݓ䳅৑獔ⶼ兖歇瀴啁㕙ᵀ௃ઌ㶄埃䨔禜惈中洫0‣㢬㤗䙞ᑘ啫ᵷक़ศ;ܥ僲䈩ソ䐿ͳ㋊嚟ዙ泶㺻➭濻丂⚼石ᶱ柞㞛ⲡ翴ᴦ恻枱ᢑ㒀慞┯ሜ⨪ࡢ㦡燌૯⠼⥤爜㫡燰㕭৺⥮䈚⪎㳭డ ඨ⊬䰤癀䒐䝄P䀡⭀6ⱡؠཁ您坍᥌̭⥌'⇐犪㕈ใ䋡নከN䦠jࠢ㧠ࠠϘ\"⢏⓲ೠዂᕣヂצዐ㫅䇬ư惌▭ዤࠥ懴˨≨丏䖉∯䔹ⳢĤܧÃˤ◰㊴⍰ᓫ䃜偼⏥㴴扸䜮捘孀ᖨܡ憨攠]碅γ䊨डᅨ⧫઒佳ᩧ䩪⥺⩃ᑕ卤單⸵㉨Â呤̫南ขɰ䴨≸䢐ኊ僙㊔拒౎俳ٴ♓⚙䦲㚓【䈬5ሣ⡸䌻抡⵾ⴢତݐ㰬偒姄坵姟䃈႒㚤旘ਖ਼⫊卝眦澜緋ᛝ翈ⶬޠ㢻焌曋玄ᾷᄠ纠㘼羨べ懄㘣箙哐ŉ⑬畈⍈妨ᕧ䢄ኤ穤႐৚Ң儿֛ᶳ䵂䓋⻃ඬ⺂汧ଂ粟້㶂࠺䍨ᔨభ䀲ᦿ⼇抄䣭䵢䩳⩦䫳Ṡ䰂ㅔ涺᫙䣵ᙡ凒䱝䡃䒉ඓ仛仳憈Ȓ纅Ы䆈⦹⁁⺪ಓᾫⴅ⵫楢拪哹嗫⊽幋勹⮶⼕ⷋ奢朗䶝ᾊ㍔枇᳼唷Θ怇̟ื絸帻ⅈ漺૴橓䞼洈塔䱺䱒氱⮚洌宔׺珅˸堵涤僑״ṑ砈❃⃉竈⊎ኝ䆩ౝ⣝惽㇜烯濝删ᨧ侨ᶧớ法ῄ᰽Ʒ㎦⁄皽㏞ⶬၗ䅓㘾爁╊ω̚ấ⅛䊑旜䟴㙊杹╕┯涾姜甅ࢇ″᧥ɲ焴猲礊ሹ您య╅䓈旙⬻㜴ঈ䁒紂㈺䓙≣ⷌ囨病óல䁗჊ᎍ狞〄′泂䏊涵婰 ㍤剨擊癕⼍Ώ渒培䎼Чնナ厖ဧ⫆䣴∢ᴟ䩛䋔抠坐䃤畴ᬭǶ⃠捠框夥ᖺڹ☨㠲眱㌂媋⩃᭸ゖ助皸剰ᝧₛـѩ塜ঁ並慢ஓ啜䅁㦶䑴Ȁⱥࢄ攱ῲ神墲⟈獯ᦧ絘Ц婠庎䓜澤ቁ䨸缶窮⑔ƈ暊嘩惼ߡ㠽您储䔰  ",
    "__has_persist_output": true,
    "trrack_graph": "ᯡ࠽䈌ʀ匦㢠⹰ࢀ⌠ద〥䌼ր୥̠晉৪ƴ兠ᇅƬ㍐ඥ㌤ށ晡ᩄ倡ᙰ䡣厃摂⹲嫍ᆚ♥ⱙ㬗琲&䈠۱䘡䒠┨ࠠ⺚₀ǘ憡屢ƚ眓+ࢣ⠠乮␠㚨3䏮捁煠¸౤.ᤣު䆥ʢ┐憂┌擤扺ᶭضࡁ\"瘔خፄٞ妰እㆢ䀣擠䡅狐噂₠䅸䨇栢沀噈慩ᡄڊ扁Ȍ⌤橠ಶӪῧ㈵⠥簈ྶᓬ⬤㬆温㌧᫐ʘ<俎潖໻戤ⴅ娌ᑉ䲡äशࡃѰ䢶ѣӰ䓓գ戁ر⻦⣀䒶ϥ䑰㉟â㸔垧慁㒀㚳抓吔ࢴ⌷䒲ᒺ⎠擒㇎⾴ᖪ務⥳Ɂ坃ᴳ䐲擊⺴旒ṴsႪኹⅵ墬ኈሠĥᤠ¬ƠĎ㶓ͨǬ႟؇吡搠ಳ亊壜宍佴˞୵匔碜㽀⛕ָ墴Ϣዐ㐱à䫈ィض⢐ガѤ物㋂⵫ၐ櫞䜐᲼ᝄ䦥成扉Ţ傈㩃ˣㅘ渿B঺四◳ⴚ狀恧ゐⰶӱÆᦼ抠ⷌ㚪搼淖࠾悒ᴎ㏄倄峘ᯑ濃䃤ᠠ੆↰汍氵a宰*猣俧⬁燇Ἇ⟤M⳾၄प䀰ᯢ␨漱䖁㙛猐ሠ߇ዄ䐦Ȧକ㺆巄嫶䐣᳟怕㢠㠩䆀㈨䌚ศℲದやᓁ炃ൠ້䜥䓬ᅂ⑸آ扐ྦ偰ದㆣᚇ⅀တ䡈ፅƍᰭ㠰㎑乿帬簸のज़妣纨㯵⇭ᕭ竎ᇳî尫劻ᰆミ 㢆أႢ㓑䠵幦噪է嘺৖桢ᖓ咮ᐳ⃋䑓ر䩑䙌奐♩䕓⚹͓ѹ債曢屢糁屐༞㙒֩䔦⛉嵑䂹孕曕ᣢ櫚䨠᫦佳绫ᖃ娠ᥫ慺⬶樊⬢ʺൎ殉嵍氈ླྀ奁ᠥܚ暿栤₽゠昫d㍧䉰఼儀⨬䅠硶૤ⱡ䂄㐣஦瘽䃠Ⱟ᧞䋳殤䢼⣒⥽䪒㥯၊㹥⨪伽墔溷叐纷寐䢿੬榶ㆢৱ㍮喲篮䗰現玽㢨⮴碌ᷯ㨾揺狼倮秼紦秃ඡ穜柢䫘石稱濽㇩ⱆġ⸷ک䡒⛌ࡎŉ੸䳩़啩㹀⛘⅜␆᪜◳〢ߓ悅伱圦嗵㑗↳ျճᅅ氁庖Ң熎悂㐰㢴∷P秏Ʉ科ዤ撽ዤ尧ᢀ఼姁͋愜㾠ॸ㍂枓⭜姨⫱⋶唽≖ⴥ孫䌾劢墻摭Ḫ㓭㧁㕍政্෋㞱巟㛥䩲ὧ㓶‐礅㕇⠳㖬唏㟊˂ℵዄ梫〮殊䜿惀獦U⛅坁Ὥ啚ᝳ嗸䜸眕经欘懈ᢠᮑᏐ昭à䓽䍻Խᖄソ䁐㲼古↦泰ㆠ琶䃧呅㽚ᣅ磭ᒅナe⣇ᩝ橣壝䐻堬↧䂀ᆶᄝㇿ癮▪⟃ᛥ沝䜦ᗩػ䲭ិ㦀ᄸ伪ᢠᙔ汬ボ〲¯仰磵礩尨妯琑☳䬪㇢䖆ቀŅ圦㦥一⪯↫Ⰰ㜸ʎᜍᛒ潌⁯䲵屨࣊嫓⮤浨同ȥ䤃⻠礧Ÿຠ〣ưᄣ炎׀ク悈ٰ盰㔽䓨巙䩹㒤筪恰᫬傕䛀ඳ↻ݡ峈㥀ᘥ⹩皾娏ẫ敡䯡ࣷ䎙䈶砰༐ၝ烮圫ㅓ杜䐡㱐ছ⠫䟏ɇ㢬┑ອ煜๽᪲帕ჰ毕Ӯ᭵ⲓ⎎曄ṽ愈㷵槽窦䢯൰䞞瘤ᳲឱㄶ㗹ᱦᢣ0ᅂၒ䟠ధ∬ೠ㢼⅖ę୆㩭ⱁ䝥ம旈仱䲼◧㓫䷐ΐ榖ᯱ癗爼㐮ᡃ䰕掯粡嚓瑈ᢠ猆掐຦䷫㢐暢ࣨ礀⺂ၦ᫾਩᳔෦ねȲඣ副˙傦⧛ؽ✫ს㋁ᨽጊ澉᥅䐐 ࡢ墐椨䆎ੂ埩爏抌Ȩ䀨ᝂᢽૐቡ☬ё娪㙘ҍᠡ䅴Ⲉᶱ䥛⦲椗ㇱ大冖Ⰽ๠ᳬ㗪橅䙀ล⹊䧉㈧⤭᪨౺᥺㺈㩧᎔潬⑘唰㣂Ĝ啃ˈ䈊≀䖓➪筩♉⾨ᥲ嘺䃰ዤ息ρ甠̨*䀣琠ᙥ!ᯀభ倠Ԧɕ㍷咠Ӆ桝⍒笢Ⴥ╴䩰ᄕ׵倧嘊☠恏⩉↺炐ʋ圬勧䑀➢碻أ‹ୈ墮撿➰পৃԢ㲙⋄็⶝牚拯爖ᐳ็Ƽ㖘⊆筤垫漥䧄仪笏⑑श㒐ᎆ䜿櫀⻭ˠౙ◡ڋ䄣ヾ燎⤺佊ᥜ刬㲹潡奂ďၬ洨䲘㰄ࢀ⁬Ф㠲ෆ਼ڼ撛ミ猐屫幽Ѩ⊋咄滝ᡷ秴栫ࣅⶱ㈰捎棯೰䵅焸棭⦴ࡋ㰶ᇪՁ倰䕢俩玓漲㿴綀䖊盁櫠৶㓐⅔㵨ZมᒖĸȨ₩ऴΧ䅖ῶͩ匦嗄粜᱃砇恜ިᒈ六䴡ގ䍦槧㼎ひp䖀ʠ匬୿ؔ伵剁䄮∘Ⲣެ揲㞢㞤↫ᛡ䡀㘘׭}ᥐչ䐖夊怹欝9൨ ߍ䄎客䋃ᰐ猠瀬㟈䲐჌憀泠殎䰇ᡪ⹥ி䏚Ѧ⒇㗨犯⣾ჴて䛽à㙑䀼㗧Ⓞ涪࢕⩉押ೖ䊱᥶篶ℬက垮Ü᫶Ὧߋ㏔ヘᓅ䍌㋮欍婌墹㛨緁䘛ম㥀烑ང䀤΂᧞叓㭵獵6璀ಂʀ㋿౑ࢰ嗗揳⌢㎘漆纏戹幍秛᪫㥺祰恋嗣㔼̎㧃垖冔ヹᜋ䘋ᇖ⟎೵㓬lȢ疂䳄劸᫃核構ǂ᱑扑Ʊ簖噯偤晈䴂䃠攴凬啃⮁硨ው哵⸵ᰤ概図ዋ匕⿇濗㕟క發◠キ练彑â㭎⪖䂓摼᧬䃠ມϣ㦌狛ឹɗ㘆䁃亜渭ጢ屁᏶㷪㹅▜坊縇Ԙ庾堈⋵ἓ֜㵪犦摂⛄絿弆嵫夫绝㴝ⶕʡ㺦捴剭碦෯矉殦斑嗠ᷓ8䙃䰡䀲ّ笲⍈嘠戢䕅ᰡ┪瓆抂筡㴮斪}䢢巻҆敆暉ᩌ圓嵰䭨ઍ䋷ҧ嶻߲㔳┺᫶ೝ嚌寸ౣ䬸厴ޓଅ䇘䄌૘䄇䁡癁䈏Ȳ產䎡䐩㢐䟓曨猤⡠ᗟ將㱣供⑞綧᢯ߋ摟䤟ᔲ㣶彧ぺ䷋ᦼᣓ坿⦱凨㻏毼桔䍬Ʀ篏㞈涭⿟ඈᒺ㘯矪㲘栶ᒬᐧ䶒ᓂ⨫कᴸ〣H䗾$倢㐤ݰਖ਼濣Ã㋭຋屻㚥喻ঈᛢ嫫㙛ᕀ䧹㊝圑ᇐ⚺乛Ꮗ(᧸˳啡୘憢爫冡᝛ᝡˋ備∨熩碏ᐫ⼈㼧ȧ唷࿨㗲⸱瀶☈稦源吀夫⫯稩傟ʸ㽶湂࿗◛ᠤሩ䒪ᩣ堪Ďዀᄂ⠧剥ֱأ梠䀩䑺⟳ᠪ↥㍗ᨸ櫫㫆㛣⸸䈨䛑ҫ㑻㱶ᜌװ݂࣫[⍃ՠ拷Ȍσਚᣬ繁٫㵩勧䃼㓫Ἲ䶠⛶戳㹹ჴ⛥ア໘悼∗睿㲹䏩ሜ捁⫙前ⱌ㔠⚻㓿⁎㊠Ƹ䀼儲ې禺⳰㓶㋴㶹䤵䅮㐂㕦尾䛇獳ͦ糫⤞㒓ᦣ˰凁㟐掤籙憞ஐ牺㱊ᘳૃᾧ拱ᛁ൫ᄋ勧䙹㕖๸丯ᙑ燨砈既噵プ▤␮圞໥௹嚔厖ংᥢ弚្ᆫ綴扎☮㮱൧䃋䖟ణ忳线⇥〚।䢠ी㞨䁌İൻ⿧繈䁿爤怚䅈İ䤩ᑅ堡ቖ㝛◻⻠劁傁ጨ怱眍暛ܙ廣皑吾⿹⥿瘵ጺᇒ㣪¤䞤夡倬⌏拨ⱂ垻ࣶ惹ġ〽ᐣ咠燳䟱㐽爩រ⇦㹐瞤級ߩ༑ግ␑さ㊿曧᠑㙧粃呀灒❤䅬珫ⴊ姾㬐曀匋恾狷䝽⨪㝳ȿᏽܤ᫫䅗傷㋚₰熒琫Ớ嵌漙൐拚硙ᇉန伥嵕ڥब渉䍔ⅇཨ湪储↗嗨岦乔⡨䌗ଲᢥ6恰㋹⌥⁨຀ਣ࡚吀≣絜ứశϘ揮ḩ瑲㊚尷Ἂ⃯⚰䀦瘼෯᧺᮹峔䋘啋呥圔埘禙㶩燌减㭋幀㙦周㞰᥋l䦱ሁ奊䀼䡮㝅ҷ䤱࠴楈抾⪴䑼猄奍㥣僨✅ㄻ㥹嗼惇໰橺䋊Й䵶兛皕ᢈ䣲ᬏ扟ᝥə䘷璭㘚⥘壄䥭Z䚻䂣Ө㲁匿ऌ䁌婡㚮努ᖨ۫焱⌐瘴熂慌ဿ瞤恄翩ठ।嚁兂倰ੴ勪筵⧃ݻ㸦羧⨛ሡ́๦㬄ཙᐪ᝶犇䟀嗆ᡇ㠢瀫㹐ſ㩮丨⬫痰᧩䧌抇⍜滬敬䙤伲ᧆ珗ቈ⍑滛旤݁吷ַ❈ቡ∲䂅ȧᝪ愺匎ᓌ绤ᅢ戂ഠⰆ汝ㄎࣃॡ᱁ㇸ痰㰐ɀ᫽༓㫣ደ䄁ನ槓团僑࣠㱥癈囩丬旚䥋ᄩ౳㖴哩哾㝣㢵ⵋ☲ǳẸ⩏Ƚठζ矧暦䊈䎺婈㈍෪宸糏禉⫅⍤␠ㄵ⸸䲲䋹昃ࣃⓤ㳋旚k㗑ዸ䙺ԃѤ㋤ᕴ぀㛦癌⹵乬䟇แ☉མ旧涨㧗஋㖳䝅䫽㎅ᯧ竡幦匨㞳祖⪊ࡨ⩺⛩媌⚬ᣣ჎䒈⦣࢙е㚰ⵚ䰴⻞׷⩢櫈僁甸ⶌ৺埧⤕䷤亲滥樰凲ㅇ᪴䧏㞈Ն濪䦍䬢䕨٦婧䭸䨆坝䤷䬄嘆䠦稜䯜煛ᕚ䗏愸①㙾䗺䪼㵙朿⧧ᑔ笵姲爼疡㝙桗件亙ⷄ塘◢甀䙷㡒▒⾺糚዆ਫ਼䯗ῇ㵀滒ฬ法ⓛ竦炶祒哖ↂࣲ窙窧桊⦰牧哗䉀բ爁᭻ศ䁰焠瀺㳉䅖ӳ婰ᕰڀᓲᚾዹສ砈歚ṓ⤦抙ᦵ硍件焑㏬ൽ䵯᫠㭒થ琼熛ݎ煲̼獉㫺廏ఋ㶘䎱庸߄᳒ⰸ堩泺劕⯥燝㏏Wᠪ礞է០仚؇⮢厩㻖畟⿚定ồՇȠ  "
   },
   "outputs": [
    {
     "data": {
      "application/vnd.jupyter.widget-view+json": {
       "model_id": "9db09bdbcfb14c59b36df34dfff48a34",
       "version_major": 2,
       "version_minor": 0
      },
      "text/plain": [
       "PersistWidget(data_values=[{'__id_column': '157', 'Title': 'Wii Play', 'Handheld': True, 'Max Players': 2, 'Mu…"
      ]
     },
     "execution_count": 69,
     "metadata": {},
     "output_type": "execute_result"
    }
   ],
   "source": [
    "PR.plot.scatterplot(df_task_2b, \"CT_MainOnly:Q\", \"Review Score:Q\")"
   ]
  },
  {
   "cell_type": "markdown",
   "id": "36e82a42-5f2f-44e1-b9a5-2e2d403b2ff3",
   "metadata": {},
   "source": [
    "# **Task 3b: Finding Top Genre for each `Length`**"
   ]
  },
  {
   "cell_type": "markdown",
   "id": "af40bad3-436e-426c-a02f-f205597e90b5",
   "metadata": {},
   "source": [
    "#### **Objective**\n",
    "In this subtask, we'll analyze which Genre is most prevalent for games in different lengths (Short, Average, Long) using the `Length` category created in Task 3a."
   ]
  },
  {
   "cell_type": "markdown",
   "id": "72455a32-623b-4b87-87d6-ca9c8ebf19e7",
   "metadata": {},
   "source": [
    "#### **Instructions**\n",
    "1. **Visualization:**\n",
    "    - We have two linked interactive bar charts: one for `Length` and another for `Genres`.\n",
    "    - You can select a length to highlight using the **legend** for `Length` bar chart. The `Genres` bar chart will dynamically update in response to your selections.\n",
    "2. **Analyze Genres Data:**\n",
    "    - Observe the filtered `Genres` bar chart to identify the top genre for the selected length.\n",
    "    - You can hover on the bars to get the exact frequency.\n",
    "3. **Document Findings:**\n",
    "    - Note down the most common genre for each length based on your interactive analysis in a new markdown cell."
   ]
  },
  {
   "cell_type": "code",
   "execution_count": 80,
   "id": "c45b6a61-ef0e-408a-bded-b1d1c1666e9c",
   "metadata": {
    "__GENERATED_DATAFRAMES__": "ᯡࠣ䅬Ԁ朤壠ᜣ琢〹夤炠⹰〮⁁䁻қ䚾ኊ㇠നСࠩ瀮晼Ƭ穅5愠៤⠠ ",
    "__has_persist_output": true,
    "trrack_graph": "ᯡ࠽䈌ʀ匦㢠⹰ˠ㬡䚈ೠภᠤ瀫‱䀱䁖㧤啔䛤ѕ殴拀ӥ༼樵๠ᖩᐠ▴ሰ瑸碩䥱叀泵嶷ོ㸣䉠ð䀡套ᆨ㕀ॢȠ௞䠸ᢀ眰䅽忑䀢晐樠Ԃ牠Έ䈑᱈汔⬭ة䶨慥惢ᦤツ戬℠ᦴ䚯䈵惓む†崣↳䳩ྠユՐ沀倠祐቉ኰ䟻䯪઒⥙Ц{భ䦴∤挤䍬泤ၽ䑰啨Ჺ怭㜺㈤盢ᔠ弣Ȓ笩䆣で⺍悷旨ျG䀡洒ؓ┌㹀ㅋ侄㢸猫慂䦒ⅉࡢヰ䩎Ɽᅨ屒⊡䂱牋०ダ屎⚤焲棉侇㳞⤳₵㑠Ꮭႄ䗂壎༴▲哚⑄旒㲡⑱ᖐ㋌椯㢹ᢼⱠ⒲婇ᱠ擒᳞⡶ᕪ狕⊃嗼R䳦䫔倠´䑔Š䶰滚ȰᰮєRᜠ຃ㄙ発堾燠窻寧瀥䅕屎⇁摼圠慐撜Ქ䯁硼ᢪ极墌䞥ĩ㥮ࡩ⍇ᔣЀ㣘溉ጣ䀰␪᪫⏱శඡ掑㰸䝢ቕ䴣㏍欕絡屛Ѭ匹䘏ᩌⴵ䡙完ၝ䄄㯼杙偉㭽㞃䃧h〠ᑥ῵滀ᐢݼ䀠⮸Ҟᴷ䞫ⴕI濁㎅硡へ⨠䁞⥐∖ᡐ畨ʜ滛䀡琯嘔ᣇ将穕៳᰿䰗㡟倐Š⩡ư䃥ʰ㰆恈Ԥ偃ਧボ।ႈळ⋄Ԣ䨬̴愘Ԣぬᝃ劚Ī䡬᢯墈㐮慰∨ॏᇳN堯Ӻ䟠䃫彑®რ*䁳梞䂽碠ᅌ╨䥚◸Ꮄ灒๝憑䤠壔恄¡〩䉬䅚ב⍎㎑㍕毁䞺␡繙犤倻ƨ㌪Ǽὕ犜澻㯸㽀ᕨ䵕栉ⱌॡ⃄ĉᥔ犼癄ʞ乙昡獝ް䂴秠ἠЋ䄘厥⑓Ⱙ抿䐁纊厀ⰸඡ␹๻摊擂歵ø㒆濢бࣘ檇ส䡥戹䌨憡⍲̹换䢻፴憣卬涺玒૴Ⅹ༁✞歗⍸歡ᛄ淖圕喸獜懊䲐Ⲵ紣Ⲋ䶅ᆉⴻ➈拗₀㴲挧畟、Ȱ仐䀪෢ࡋ䍥墜⭢犜̣᡼乡⍮஢जJ㡲ජ㡹᡺̲湈奖⍈剔佋㥥⟨啡ⱋ嬺⛱㭤ϱ穜䡑ь㥢މ䭒䝻๚嘳浚杣䖛亅晁⸻䐴ṍ毙䩹㭒⾛䂃併㇓⽇䭓䄗Ԙ弪廅㋄ጢ羋䪥狰ἇȰᾠ䃏ᜡ淛ᕀa㎨ࢸᏎ⨀晸䉠㈱㚘嗙㋜䏘勾䠽ግ䠽穽箮皀⟝瘼忝糭䨼ོ弰䪀Ⲝ畽㏑⪤䠨侳俑䩭䂑亣䮱㉐榷᎓咪₀ી⥘ㄭ䂃㬢䃀ฬ䑸枝䅱䰠䵱傠䕄⵻硐㿦箺仺ⶄր凋㊧⳴⎉凔ჶ抬⵮՘⌁ۀᑔ悁焸䱰ɔ䙸橜⇱晝䞑繛婻礩߁劅䀁扜䘿䨚⠶᬴๓掛ِ篍副⛰⽱啍ূ㺣倷࿰㢇Ԕဠ۞䣱纤േ೩঴䀽ೳ䴥啚Ӯ㩉䚹堣᧎䮊嫃᫾ݣⱖ㘌岫桗晐′ㄙ䒐ᙀ孌ビ⭍䗸綮ᘫ䥌⮹ⶤ㎒恂導૖ẁࣶ┵嘻䏌⼯ⶒ娒傖଻㿔ޟ拮笃㚙澍໨岻勋屝勌Ꮕ❊瑑䮍仁殽懩◭ਗ਼Ȭ㧧㆖类ലܰㅕ撂痽ӣ尊ⱷ䭥ᶪԔ睖傽刕榤噄屦᭑婉±â䘢ᗨ⑤恐ϨᣧႤ̘〣à⸣剭䖾税㒫更斮⅋ᅠ欪䏶㪢㙍ƌ㸂ᪧ撡㤡䠣嫠䭛⣔嬖甮䫾练榣⯁ഴ礢Ⴇ屉箿☓䌻砞簆䘸氢⿼ɮࠠ "
   },
   "outputs": [
    {
     "data": {
      "application/vnd.jupyter.widget-view+json": {
       "model_id": "896214dcae4d43afb32fed2987313e23",
       "version_major": 2,
       "version_minor": 0
      },
      "text/plain": [
       "PersistWidget(data_values=[{'__id_column': '157', 'Title': 'Wii Play', 'Handheld': True, 'Max Players': 2, 'Mu…"
      ]
     },
     "execution_count": 80,
     "metadata": {},
     "output_type": "execute_result"
    }
   ],
   "source": [
    "select = alt.selection_point(name=\"s\", fields=[\"Length\"], bind=\"legend\")\n",
    "\n",
    "base = alt.Chart(df_task_3a).mark_bar()\n",
    "\n",
    "length = base.encode(\n",
    "    x=alt.X(\"Length:N\").sort([\"Short\", \"Average\", \"Long\"]),\n",
    "    y=\"count()\",\n",
    "    color=alt.condition(select, alt.Color(\"Length:N\").sort([\"Short\", \"Average\", \"Long\"]), alt.value(\"gray\"))\n",
    ").add_params(select).properties(width=300)\n",
    "\n",
    "years = base.encode(\n",
    "    x=\"Genres:N\",\n",
    "    y=\"count()\",\n",
    "    color=\"Genres:N\",\n",
    "    tooltip=\"count()\"\n",
    ").transform_filter(select)\n",
    "\n",
    "chart = length | years\n",
    "\n",
    "chart = chart.resolve_scale(\n",
    "    color=\"independent\"\n",
    ")\n",
    "\n",
    "PR.PersistChart(chart, data=df_task_3a)"
   ]
  },
  {
   "cell_type": "markdown",
   "id": "00e87acd-3759-49eb-9e43-d7793672297c",
   "metadata": {},
   "source": [
    "**Task 3b Notes:**\n"
   ]
  }
 ],
 "metadata": {
  "__CATEGORIES_META__": "{\"categories\":{\"Avlanche Season Phase\":{\"name\":\"Avlanche Season Phase\",\"options\":{\"_None\":{\"name\":\"None\"},\"Start\":{\"name\":\"Start\"},\"Middle\":{\"name\":\"Middle\"},\"End\":{\"name\":\"End\"}}}},\"activeCategoryName\":\"Avlanche Season Phase\"}",
  "__persist_keys_record": [
   "__GENERATED_DATAFRAMES__",
   "__persist_nb_uuid__",
   "trrack_graph",
   "show_aggregate_origin"
  ],
  "__persist_nb_uuid__": "96fc8666-4608-44be-a80e-3acb15011cee",
  "kernelspec": {
   "display_name": "Python 3 (ipykernel)",
   "language": "python",
   "name": "python3"
  },
  "language_info": {
   "codemirror_mode": {
    "name": "ipython",
    "version": 3
   },
   "file_extension": ".py",
   "mimetype": "text/x-python",
   "name": "python",
   "nbconvert_exporter": "python",
   "pygments_lexer": "ipython3",
   "version": "3.8.16"
  }
 },
 "nbformat": 4,
 "nbformat_minor": 5
}
