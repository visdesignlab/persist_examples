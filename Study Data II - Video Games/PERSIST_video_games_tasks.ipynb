{
 "cells": [
  {
   "cell_type": "markdown",
   "id": "522fcbb3-702c-4ea0-91d9-f3b0e71690fc",
   "metadata": {
    "__GENERATED_DATAFRAMES__": "{\"nodeDataframes\":{},\"graphDataframes\":null}",
    "show_aggregate_original": "false",
    "trrack_graph": "ᯡ࠽䈌ʀ匦㢠⹰àᦴ΀࣪ʐ怶䦠挠᱊ࠥ䁁䂖㚥煤晬փ⊪ĸ暂䙠঳ैkᑄᄈ妐ଷᓋ⃩䖻Ṯ溜Φ䐡傠Ǒ団Қ′䈤7ࡣᠠ湐戎Ⴆ寐爤䀥屨攠ʕ㥀ǔÚ䍃㏙䤥ࢂ┩勸惀Ēいཆ༠೥∁∀秸㲅䌠ⶬᛦ䙂ǃɡ殍戰泤ᒁ嬦怭㋉匥穃ᄠ彣჻⴦䉫ぢ睤䄁ⵐۻG䀡曑砑䂱竖ᄂ㜿Ꭽ˹ȩᚱ凁兘㑐Ṣ༩Ẻ䳥⑆憰棨忞⍧攈堽Ī僰὆揖䦲ᡊ⛓౱নఱ姼ᤦΧ您別൧儸晋Ǣ熘繀䉁硨K塊়ṹᜰ倳䪂ⵦ⚈ᒽ᪺ᆬ䀠 "
   },
   "source": [
    "# Analyzing Video Games Across Genres"
   ]
  },
  {
   "cell_type": "markdown",
   "id": "19cb3971-5981-474c-8250-7981c7c9cc8a",
   "metadata": {
    "trrack_graph": "ᯡ࠽䈌ʀ匦㢠⹰ૠܠ昢〽䂆౐׀ৣfL⍉ျ⥒⠡䒙¬ᧇ峕搢ಒ嫒┠অҤᵖ㹢晴㘉ᦳㄍ毿䡨墠ᨰV䆼ガ搢⡠䀢焨㌠෦ౝ戰殖๠ᠠ塩ೀn坄V䀷⢄㚗᥂夬ು䅻ఴ>☤䝃傳狱⊔㳜ੁ䀶挫㐷ࢢӡჵ嬩іㄪᢉ懐ͻ䬥䇽ࣨ䁏僿峱䐰㋸ᇻ兀㡆䱍㛠਀ⲛ粀೽疨һ䟩桁㙡Ũ昙ˢ䧮ᄪᆽ䥢ᅅᄁẩ㱸౮ᐶޣ先ఽЃⵖᥒ⌥▶懜ᩑƢ᭛䭄憐ɑ٦⦈䙓ǂ炘㸠䱅࢜ؠଌથ䜯๡䙉夊᜶僑汢㭢☈₁䠠 "
   },
   "source": [
    "**Participant ID:**  M7\n",
    "\n",
    "**Date / Time:**"
   ]
  },
  {
   "cell_type": "markdown",
   "id": "ceac0d48-2820-4532-bfd2-adf6533d7a2d",
   "metadata": {},
   "source": [
    "# Introduction\n",
    "Welcome to our data analysis study. For this study, you'll be working with a dataset sourced [Corgis Datasets Project](https://corgis-edu.github.io/corgis/).\n",
    "\n",
    "The data was originally published in the publication [“What makes a blockbuster video game? An empirical analysis of US sales data.” Managerial and Decision Economics](https://researchportal.port.ac.uk/en/publications/what-makes-a-blockbuster-video-game-an-empirical-analysis-of-us-s) by Dr Joe Cox. \n",
    "\n",
    "The dataset has information about the sales and playtime of over a thousand video games released between 2004 and 2010. The playtime information was collected from crowd-sourced data on [\"How Long to Beat\"](https://howlongtobeat.com/)."
   ]
  },
  {
   "cell_type": "markdown",
   "id": "68491102-96aa-4701-8134-d998c80ae04b",
   "metadata": {},
   "source": [
    "- You will use an extension called PersIst to complete **data cleanup and manipulation** tasks. \n",
    "- Interactive charts and tables have been pre-created for your convenience. These can be directly utilized by running the corresponding cells.\n",
    "- Focus on leveraging the interactive capabilities of Persist for your analysis.\n",
    "- Carefully follow the step-by-step instructions provided for each task.\n",
    "- In some cases, you will be asked to document your findings. Please do this in writing in a markdown cell.\n",
    "- As you work through the tasks, take note of any interesting findings or challenges with the software or pandas that you may encounter, either by speaking your thoughts out loud or taking notes in a markdown cell.\n",
    "- Feel free to add new code and markdown cells in the notebook as necessary to complete the tasks, but please do attempt the tasks with the PersIst functionality."
   ]
  },
  {
   "cell_type": "code",
   "execution_count": 2,
   "id": "9337796b-21e8-4c8c-bbbd-3076a775d03b",
   "metadata": {},
   "outputs": [],
   "source": [
    "import helpers as h\n",
    "import pandas as pd\n",
    "import altair as alt\n",
    "\n",
    "import persist_ext as PR"
   ]
  },
  {
   "cell_type": "markdown",
   "id": "dd81aecd-eebf-4624-b9e2-3a864c474c1d",
   "metadata": {
    "__GENERATED_DATAFRAMES__": "{\"nodeDataframes\":{},\"graphDataframes\":null}",
    "show_aggregate_original": "false",
    "trrack_graph": "ᯡ࠽䈌ʀ匦㢠⹰Ҁ̡䘠烠嘢త〫‥侴ᓬᛞ拐ৡ䚂ద抭婈ހڅྯ䌲⠠䭈⑁槑焳Ⴥ⩦仃㍶๽㰥Ҩǁ#㟢䌰橠ኤРᜰ͐üメ湁˛㾄ָ̠憴)挄䀦栢琭ٮ㍄ᨡ䌤ᾣㆢ䀣擠䢤㘦Sᥧᡠ戂怡ᠬÖᠻ㹈䐿ة׉妨⃓ࢱ̴㖠᫲徤ฏѤƜڣ回㸦ۡ৵ण䃔戊㘠传ϊ緯挡䘌污䕽庮粓㈨ɪⷠ搃猄ᦨ洘㳌ᤪ̪౦繶ሱ澂䘣⁑Ҝഭ炍孉ृÅ⭱䤾ᢠ䆋෭ኀ㠢Ү≱呺Ấ惑汮ᮯ戩䊏̠˙Ɂ⧽憳㈒ṉⅱਊ⥋⃆瑀⣨  "
   },
   "source": [
    "## Data Description\n",
    "\n",
    "The table below describes the different columns in the dataset. Each row in the dataset represents a video game.\n",
    "\n",
    "| Column        | Description                                                                                                                                                           |\n",
    "|---------------|-----------------------------------------------------------------------------------------------------------------------------------------------------------------------|\n",
    "| Title         | Full title of the game.                                                                                                                                               |\n",
    "| Max Players   | The maximum number of players that can play this game.                                                                                                                |\n",
    "| Multiplatform | Whether this game is available on multiple platforms.                                                                                                                 |\n",
    "| Online        | Whether this game supports online play.                                                                                                                               |\n",
    "| Genres        | The main genre that this game belongs to.                                                                                                                             |\n",
    "| Licensed      | Whether this game was based off a previously licensed entity.                                                                                                         |\n",
    "| Publishers    | The publishers who created this game.                                                                                                                                 |\n",
    "| Review Score  | A review score for this game, out of 100.                                                                                                                             |\n",
    "| Re-release    | Whether this game is a re-release of an earlier one.                                                                                                                  |\n",
    "| Year          | The year that this game was released.                                                                                                                                 |\n",
    "| Comp_Time_All | The median time that players reported completing the game in any way, in hours.                                                                                       |\n",
    "| Comp_Time_Main| The median time that players reported completing the main game storyline, in hours.                                                                                   |"
   ]
  },
  {
   "cell_type": "code",
   "execution_count": 3,
   "id": "8d0e426c-89a0-4813-8994-65ebba3f3a25",
   "metadata": {},
   "outputs": [
    {
     "data": {
      "text/html": [
       "<div>\n",
       "<style scoped>\n",
       "    .dataframe tbody tr th:only-of-type {\n",
       "        vertical-align: middle;\n",
       "    }\n",
       "\n",
       "    .dataframe tbody tr th {\n",
       "        vertical-align: top;\n",
       "    }\n",
       "\n",
       "    .dataframe thead th {\n",
       "        text-align: right;\n",
       "    }\n",
       "</style>\n",
       "<table border=\"1\" class=\"dataframe\">\n",
       "  <thead>\n",
       "    <tr style=\"text-align: right;\">\n",
       "      <th></th>\n",
       "      <th>Title</th>\n",
       "      <th>Max Players</th>\n",
       "      <th>Multiplatform?</th>\n",
       "      <th>Online?</th>\n",
       "      <th>Genres</th>\n",
       "      <th>Licensed?</th>\n",
       "      <th>Comp_Time_All</th>\n",
       "      <th>Re-release?</th>\n",
       "      <th>Comp_Time_Main</th>\n",
       "      <th>Review Score</th>\n",
       "      <th>Year</th>\n",
       "      <th>Publishers</th>\n",
       "    </tr>\n",
       "  </thead>\n",
       "  <tbody>\n",
       "    <tr>\n",
       "      <th>0</th>\n",
       "      <td>Super Mario 64 DS</td>\n",
       "      <td>1</td>\n",
       "      <td>True</td>\n",
       "      <td>True</td>\n",
       "      <td>Action</td>\n",
       "      <td>True</td>\n",
       "      <td>24.48</td>\n",
       "      <td>True</td>\n",
       "      <td>14.50</td>\n",
       "      <td>85</td>\n",
       "      <td>2004</td>\n",
       "      <td>Nintendo</td>\n",
       "    </tr>\n",
       "    <tr>\n",
       "      <th>1</th>\n",
       "      <td>Lumines: Puzzle Fusion</td>\n",
       "      <td>1</td>\n",
       "      <td>True</td>\n",
       "      <td>True</td>\n",
       "      <td>Strategy</td>\n",
       "      <td>True</td>\n",
       "      <td>10.00</td>\n",
       "      <td>True</td>\n",
       "      <td>10.00</td>\n",
       "      <td>89</td>\n",
       "      <td>2004</td>\n",
       "      <td>Ubisoft</td>\n",
       "    </tr>\n",
       "    <tr>\n",
       "      <th>2</th>\n",
       "      <td>WarioWare Touched!</td>\n",
       "      <td>2</td>\n",
       "      <td>True</td>\n",
       "      <td>True</td>\n",
       "      <td>Action</td>\n",
       "      <td>True</td>\n",
       "      <td>2.50</td>\n",
       "      <td>True</td>\n",
       "      <td>1.83</td>\n",
       "      <td>81</td>\n",
       "      <td>2004</td>\n",
       "      <td>Nintendo</td>\n",
       "    </tr>\n",
       "    <tr>\n",
       "      <th>3</th>\n",
       "      <td>Hot Shots Golf: Open Tee</td>\n",
       "      <td>1</td>\n",
       "      <td>True</td>\n",
       "      <td>True</td>\n",
       "      <td>Sports</td>\n",
       "      <td>True</td>\n",
       "      <td>-100.00</td>\n",
       "      <td>True</td>\n",
       "      <td>-100.00</td>\n",
       "      <td>81</td>\n",
       "      <td>2004</td>\n",
       "      <td>Sony</td>\n",
       "    </tr>\n",
       "    <tr>\n",
       "      <th>4</th>\n",
       "      <td>Spider-Man 2</td>\n",
       "      <td>1</td>\n",
       "      <td>True</td>\n",
       "      <td>True</td>\n",
       "      <td>Action</td>\n",
       "      <td>True</td>\n",
       "      <td>10.00</td>\n",
       "      <td>True</td>\n",
       "      <td>8.00</td>\n",
       "      <td>61</td>\n",
       "      <td>2004</td>\n",
       "      <td>Activision</td>\n",
       "    </tr>\n",
       "  </tbody>\n",
       "</table>\n",
       "</div>"
      ],
      "text/plain": [
       "                      Title Max Players  Multiplatform?  Online?    Genres  \\\n",
       "0         Super Mario 64 DS           1            True     True    Action   \n",
       "1    Lumines: Puzzle Fusion           1            True     True  Strategy   \n",
       "2        WarioWare Touched!           2            True     True    Action   \n",
       "3  Hot Shots Golf: Open Tee           1            True     True    Sports   \n",
       "4              Spider-Man 2           1            True     True    Action   \n",
       "\n",
       "   Licensed?  Comp_Time_All  Re-release?  Comp_Time_Main  Review Score  Year  \\\n",
       "0       True          24.48         True           14.50            85  2004   \n",
       "1       True          10.00         True           10.00            89  2004   \n",
       "2       True           2.50         True            1.83            81  2004   \n",
       "3       True        -100.00         True         -100.00            81  2004   \n",
       "4       True          10.00         True            8.00            61  2004   \n",
       "\n",
       "   Publishers  \n",
       "0    Nintendo  \n",
       "1     Ubisoft  \n",
       "2    Nintendo  \n",
       "3        Sony  \n",
       "4  Activision  "
      ]
     },
     "execution_count": 3,
     "metadata": {},
     "output_type": "execute_result"
    }
   ],
   "source": [
    "df = pd.read_csv('video_games.csv')\n",
    "df.head()"
   ]
  },
  {
   "cell_type": "markdown",
   "id": "7cc10d2b-9b1e-46f4-9769-b9a0ac0c9e8f",
   "metadata": {
    "__GENERATED_DATAFRAMES__": "{\"nodeDataframes\":{},\"graphDataframes\":null}",
    "show_aggregate_original": "false",
    "trrack_graph": "ᯡ࠽䈌ʀ匦㢠⹰ૠ㌬Ā჻R〶䁃lyٹ⁓f䍐ۢ䧪㈉◔ฅޡ䨲⠠䬱䑁棒瀱Ⴭ⭱妻ݎẜʤ䐡傠ǖ悃РኤРᜰ結üメ浪巟㈠ᣠˬ⃪$熒‣㐡㬚͇⦲༿⸂໡壡‡犀⒂ଠᎭॣ䥡⊃㡹稠嬸ූᑤඦҡ哹䑀妨䤝͕䀺慽䈩瞤∡㼚ƶ嵖᯦悡檩ǣ᪀畖o#䖊⠃ܑ璌⃥⹾䞌᧒Т⺈ᆡ⇳㴑䒤㒌ŭ᯸丈◡戱⃰潅Ԧ秐噑๦磜疶溂⒀ᒪ扖⋦ူⶃ㧄మྡྷშ⨭རㅸ瘭ǅ爘䅐䘆砠址䑂㥨㈼㹯䕈䓵ᒹ憴婊③ᤠ "
   },
   "source": [
    "# Task 1: Column Names and Data Types\n",
    "\n",
    "In the first task we will perform some basic data cleaning operations to get our dataset ready for further tasks."
   ]
  },
  {
   "cell_type": "markdown",
   "id": "8934b219-dd97-4e3e-9aa9-0dd7a9d62ad5",
   "metadata": {
    "__GENERATED_DATAFRAMES__": "{\"nodeDataframes\":{},\"graphDataframes\":null}",
    "show_aggregate_original": "false",
    "trrack_graph": "ᯡ࠽䈌ʀ匦㢠⹰ૠ㬠氤〥䌸瀶䀹䁣๲ৠܦᔨҀᣴ䂼䋃‣ᓆ做►䀳ല⠠䭈⑁槑瀱ᝉ⍮冫㭮ẜʦ䒠ǁ#㕀挸晠ኤРᝣၐüムṁǟ㤉䀥䉸攠ʓ㥀ǔÚ⎃஥䤫䒄攭ᇸ惀Ēいᘦᖠೣ䗫⃂変ⱦ{ఽ咼∪⌤䋵汄ჹ䑈冣ᛠඉⵆܔ⍂Þ⍡歹ম悩溩Ǡ媁疖o#䖓瀃ʅ璌⁅溮杲◒Ъ⍁䔶户ࣉⓢ削౐䘰䵥䌂んḸئԢ灐糕൤㧶ⶬ䲱䅲ᗈ撯ౠ惍䈅䥐属ѣ၈⩍སヸ๗௧焤ᄸ䒰Ž䅰䔉燩壥༲刳樲⭮✈咰ᒄ  "
   },
   "source": [
    "### Task 1a: Remove Columns"
   ]
  },
  {
   "cell_type": "markdown",
   "id": "47b531d4-2e3a-4e9a-b92a-39aebfc3deb6",
   "metadata": {
    "__GENERATED_DATAFRAMES__": "{\"nodeDataframes\":{},\"graphDataframes\":null}",
    "show_aggregate_original": "false",
    "trrack_graph": "ᯡ࠽䈌ʀ匦㢠⹰ૠ㬠氤〥䌸瀶䀹䁣๲ৠܦᔨҀᣴ䂼䋃‣ᓆ做►䀳ല⠠䭈⑁槑瀱ᝉ⍮冫㭮ẜʦ䒠ǁ#㕀挸晠ኤРᝣၐüムṁǟ㤉䀥䉸攠ʓ㥀ǔÚ⎃஥䤫䒄攭ᇸ惀Ēいᘦᖠೣ䗫⃂変ⱦ{ఽ咼∪⌤䋵汄ჹ䑈冣ᛠඉⵆܔ⍂Þ⍡歹ম悩溩Ǡ媁疖o#䖓瀃ʅ璌⁅溮杲◒Ъ⍁䔶户ࣉⓢ削౐䘰䵥䌂んḸئԢ灐糕൤㧶ⶬ䲱䅲ᗈ撯ౠ惍䈅䥐属ѣ၈⩍སヸ๗௧焤ᄸ䒰Ž䅰䔉燩壥༲刳樲⭮✈咰ᒄ  "
   },
   "source": [
    "Remove the following columns to streamline the dataset for further analysis:\n",
    "\n",
    "- **_Re-release?:_** Boolean flag indicating if the game was a new release or a re-release.\n",
    "- **_Comp_Time_All:_** Average of all other completition times, we will use one of the others directly"
   ]
  },
  {
   "cell_type": "markdown",
   "id": "aec9ad2a-ab09-4288-b8fa-2852bcddda1a",
   "metadata": {},
   "source": [
    "#### **Instructions**\n",
    "1. **Column Removal:**\n",
    "\t- Use the interactive table feature in PersIst to remove the specified columns.\n",
    "3. **Verify the Output:**\n",
    "\t- Print the head of the generated dataframe to verify the changes."
   ]
  },
  {
   "cell_type": "code",
   "execution_count": 4,
   "id": "8e333ff3-cb24-430b-a332-733b41570ba4",
   "metadata": {
    "__GENERATED_DATAFRAMES__": "ᯡࠩ䃬࿀ᜤᠹ悋ᐨ推̅ሣ䧠ⶠ卍捯ᥔᠣ℠▢dʘϔᝠ捌〤瀵摠៨⠠ ",
    "__has_persist_output": true,
    "editable": true,
    "slideshow": {
     "slide_type": ""
    },
    "tags": [],
    "trrack_graph": "ᯡ࠽䈌ʀ匦㢠⹰ࣣ9桛¼Ƹ倶䁁䁃ì猨ˠঠ⭚䈠煬櫺ㆌ暛⟼⊨⥈kᑄႉᦐࢰ勇⣥䶧᜾㸢䉰䀡傠Ǔᆠ㥀ॢȠா䠸ᢀ㜰䁾巐ಀƊႊ)攄䀦梡チᄠ㚆㵍Ⴏܿໆㆁ२㄄戺㤮ᒧԳ䓁┈ƕ稦ܳቚέ搼⋑䅠Ȅ恨ᑌ♝ܶ䊮䊬ླ琡㙐⮂ࢨ᢬ड᫕ࡣ嬰∅ၲ■᫤㱠೽ڴƝ竛לㅇ䫡˖宧䳡⛌¾'Ћ䟦ਉ妘䊫ᶌ筑આ⁠煄䱥冸瑉ൢ䓀䈶୥䊈稶Դᅨⱕཤ⎸剓ޡ䏰伴Ⱨ↌枻楇咀䚣梔㐔ࣔ⬷䔲婒⪷╒法ஷ攪拓υϡ圫ᔡ䔂Ҳ⍦獑幮➰ᒪ爩⮂ᡒၨ!ࠤ့䀠┐…5打­㌬ࡢՊ戼̠ș㙊䀺爥ڠὴ棕⴨ᵷ树˫᡺䇡₽ధ౴傪㧴䑀ଈ愪Ꭹ⁘㥇ǡ劾࠭㆚癮ப⃣ㄘᄬ䓀栬ጵ䞂ࢼ㜷䠂Ӣᵡ劊嫫❻嘈僔቞䛂䜃⓴হ暭⋼᭸㘰㛷㟸滧㓠ፘ⹷ǿ⎣䑐4➣惞Ḉᔠ䆗ၙ嘤帮痽潬㵾瞨౺墜䂐ᨵĭ䤰↘䙇䂙稧眑ሠ߂勀␢ȶ世穏࿳᪶䰠⃧ထ㰠☢ķᘯŰ㰷椐㳳㸬ܡ䃌੔ᄄᩖ⛴῀∹৑䃝ԓ傴Ꮰ䑀ጩğ嗦Ⴑᛤᇎሯ窈⡓䇠䲭Ҏ໰㪔姳㩧඄糿᠇籶ᛳ悲ᩤ嚒۔⤕䕢㙍䍧㛺ឨ呵бℋ剖䙸ᙕ戹ő偩䕒䒉䍕偹䝓晈Óਲᗤ㥑乓㦩䲢神㍖月᝗暺壡欚僱᫈⫲ᨠᡢ¬摀Ê䑑䐈aƪ㈔߆Ⲱ䨰෰垢ഢっ㣠䦉痢⑥ᓹⳉ昅ᩨ哒㋈ᓵۅ洉྆桚ᝮ䂚Ὥ⁲⴦ᱠᣡᣆ㔍ㆇይ㴷㌇堿৩嵤㧩㧎⫧尯㈊㳮哯㳺万㳏ᬇ帎఍╼ࠅ籨倂壐丷䉠䢸桀墱ጣ␱⒞䈹ᄒ䅳疪楱⭬ἰበ‼Ȩ䡔≄㑛፼ཬ慜㌤ከḩ焐㉤⤍ฮ䆦稯桒ŋ梚ⓨ㣴瞥碞Ῥ炔庱ⶄ㖀儋㊨泴⮉偛ຮ嵊⎢ֈፎ䝌ᦏ匥粫ⲴΊ冻㪦泔➂Ŝ㧀ࣣᦎ஼摳Ǽ甩獳ً琜扸ਫ⇤  "
   },
   "outputs": [
    {
     "data": {
      "application/vnd.jupyter.widget-view+json": {
       "model_id": "2f6511078caa4fc99029617f6c8988af",
       "version_major": 2,
       "version_minor": 0
      },
      "text/plain": [
       "PersistWidget(data_values=[{'__id_column': '1', 'Title': 'Super Mario 64 DS', 'Max Players': '1', 'Multiplatfo…"
      ]
     },
     "execution_count": 4,
     "metadata": {},
     "output_type": "execute_result"
    }
   ],
   "source": [
    "PR.PersistTable(df, df_name=\"df_task_1a\")"
   ]
  },
  {
   "cell_type": "code",
   "execution_count": 5,
   "id": "e75de3f8-1986-4b7a-9642-2f720525a2db",
   "metadata": {},
   "outputs": [
    {
     "data": {
      "text/html": [
       "<div>\n",
       "<style scoped>\n",
       "    .dataframe tbody tr th:only-of-type {\n",
       "        vertical-align: middle;\n",
       "    }\n",
       "\n",
       "    .dataframe tbody tr th {\n",
       "        vertical-align: top;\n",
       "    }\n",
       "\n",
       "    .dataframe thead th {\n",
       "        text-align: right;\n",
       "    }\n",
       "</style>\n",
       "<table border=\"1\" class=\"dataframe\">\n",
       "  <thead>\n",
       "    <tr style=\"text-align: right;\">\n",
       "      <th></th>\n",
       "      <th>Title</th>\n",
       "      <th>Max Players</th>\n",
       "      <th>Multiplatform?</th>\n",
       "      <th>Online?</th>\n",
       "      <th>Genres</th>\n",
       "      <th>Licensed?</th>\n",
       "      <th>Comp_Time_Main</th>\n",
       "      <th>Review Score</th>\n",
       "      <th>Year</th>\n",
       "      <th>Publishers</th>\n",
       "    </tr>\n",
       "  </thead>\n",
       "  <tbody>\n",
       "    <tr>\n",
       "      <th>0</th>\n",
       "      <td>Super Mario 64 DS</td>\n",
       "      <td>1</td>\n",
       "      <td>True</td>\n",
       "      <td>True</td>\n",
       "      <td>Action</td>\n",
       "      <td>True</td>\n",
       "      <td>14.5</td>\n",
       "      <td>85</td>\n",
       "      <td>2004</td>\n",
       "      <td>Nintendo</td>\n",
       "    </tr>\n",
       "    <tr>\n",
       "      <th>1</th>\n",
       "      <td>Lumines: Puzzle Fusion</td>\n",
       "      <td>1</td>\n",
       "      <td>True</td>\n",
       "      <td>True</td>\n",
       "      <td>Strategy</td>\n",
       "      <td>True</td>\n",
       "      <td>10.0</td>\n",
       "      <td>89</td>\n",
       "      <td>2004</td>\n",
       "      <td>Ubisoft</td>\n",
       "    </tr>\n",
       "    <tr>\n",
       "      <th>2</th>\n",
       "      <td>WarioWare Touched!</td>\n",
       "      <td>2</td>\n",
       "      <td>True</td>\n",
       "      <td>True</td>\n",
       "      <td>Action</td>\n",
       "      <td>True</td>\n",
       "      <td>1.83</td>\n",
       "      <td>81</td>\n",
       "      <td>2004</td>\n",
       "      <td>Nintendo</td>\n",
       "    </tr>\n",
       "    <tr>\n",
       "      <th>3</th>\n",
       "      <td>Hot Shots Golf: Open Tee</td>\n",
       "      <td>1</td>\n",
       "      <td>True</td>\n",
       "      <td>True</td>\n",
       "      <td>Sports</td>\n",
       "      <td>True</td>\n",
       "      <td>-100.0</td>\n",
       "      <td>81</td>\n",
       "      <td>2004</td>\n",
       "      <td>Sony</td>\n",
       "    </tr>\n",
       "    <tr>\n",
       "      <th>4</th>\n",
       "      <td>Spider-Man 2</td>\n",
       "      <td>1</td>\n",
       "      <td>True</td>\n",
       "      <td>True</td>\n",
       "      <td>Action</td>\n",
       "      <td>True</td>\n",
       "      <td>8.0</td>\n",
       "      <td>61</td>\n",
       "      <td>2004</td>\n",
       "      <td>Activision</td>\n",
       "    </tr>\n",
       "  </tbody>\n",
       "</table>\n",
       "</div>"
      ],
      "text/plain": [
       "                      Title Max Players  Multiplatform?  Online?    Genres  \\\n",
       "0         Super Mario 64 DS           1            True     True    Action   \n",
       "1    Lumines: Puzzle Fusion           1            True     True  Strategy   \n",
       "2        WarioWare Touched!           2            True     True    Action   \n",
       "3  Hot Shots Golf: Open Tee           1            True     True    Sports   \n",
       "4              Spider-Man 2           1            True     True    Action   \n",
       "\n",
       "   Licensed?  Comp_Time_Main  Review Score  Year  Publishers  \n",
       "0       True            14.5            85  2004    Nintendo  \n",
       "1       True            10.0            89  2004     Ubisoft  \n",
       "2       True            1.83            81  2004    Nintendo  \n",
       "3       True          -100.0            81  2004        Sony  \n",
       "4       True             8.0            61  2004  Activision  "
      ]
     },
     "execution_count": 5,
     "metadata": {},
     "output_type": "execute_result"
    }
   ],
   "source": [
    "df_task_1a.head()"
   ]
  },
  {
   "cell_type": "markdown",
   "id": "36c62d50-9c88-4ed9-8c97-e552a6e4c620",
   "metadata": {},
   "source": [
    "### Task 1b: Fix Column Names"
   ]
  },
  {
   "cell_type": "markdown",
   "id": "ab8f8f24-afd2-424f-ab34-3e3cde723aa3",
   "metadata": {
    "trrack_graph": "ᯡ࠽䈌ʀ匦㢠⹰ࢀㆪこ<ǐʀ୥崡汤Ɓ䔠⍂⠨撂䂼ì债晶堪慯掩ᐠ▴ሰ璹㤨䮲减ⓥ䢧᜾㺣䉠ð䀡壅冨㕀ॢȠ௞䠸ᢀ眰䅽忖䀢晐樠Ԃ牠ΈƔڦ❓ሠƠ暬ॡ声Ȅ恨䙜⬮ಬ俨⫣䞐డ㙐᬴⣔䰲ճ㌰䊆၂۔欠㖹┰᧶༨̘ඛฌ琻ɋ㉄ܠ榡哸Ŝ.ؗ⾬ള勑̵㯺ᱱ曨ဩᒡᾪ३⁂惡৒ј⪖ᩋࢶ䥣䍢ᇃ⢀☾ԣ䖎㑝䳓ⳄⓀ᪱ĦҐ戤׌㝔䆦成扉ڠ凈㨣ೣㅘ湏Bࡤ䒠ଈତޗ٩䟨㣜㥨◈ᩲ㭡⟢䀠 "
   },
   "source": [
    "It looks like our dataset header went wrong when reading the file and some column headers end with a `?`. **Please remove the question marks from all headers**. "
   ]
  },
  {
   "cell_type": "markdown",
   "id": "63f4d5c5-9383-4857-beae-0cfa6ba466f2",
   "metadata": {},
   "source": [
    "#### **Instructions**\n",
    "1. **Rename Columns:**\n",
    "    - Use the interactive  table in Persist to correct the column names by removing the trailing `?` from their names:\n",
    "        - _Licensed?_ → _Licensed_\n",
    "        - _Multiplatform?_ → _Multiplatform_\n",
    "        - _Online?_ → _Online_\n",
    "2. **Verify the Output:**\n",
    "\t- Print the head of the generated dataframe to verify the changes."
   ]
  },
  {
   "cell_type": "code",
   "execution_count": 6,
   "id": "b7027112-7291-4136-926e-a4c06c7de200",
   "metadata": {
    "__GENERATED_DATAFRAMES__": "ᯡࠩ䃬࿀ᜤᠹ悋ᐨ怱䐢犲ǩ怶恉宑召䵬ð䀲悠ᄡḡ沯偑嬸Ř˛ࠥ笪  ",
    "__has_persist_output": true,
    "trrack_graph": "ᯡ࠽䈌ʀ匦㢠⹰໠ጡఠ〸抡䰦〫⟭<ሡ㎵䶂Ĺ⋃ㆥ⥣໬࠵䁁弲⠠䭈⑁槑焵Ⴭ⭾䦫ᬮ⹝砥С傠Ǘ炃߂′䈤7ࡽᠠ湐懎Ⴇ᫓㈧%䑾吠❧ሠ᭤໦䂁搑傑ౘंᔶἠ৬⠂䄁ㆨ〠㚆㸣Ⴗ䕫拥炠ƕ㪚箃ሶᝧ࠿擑䅠Ȅ恨ఴᙙ╓๢䑅旂琡㙐䮞エᾬण᳑ࡣ㬱䇵ဦ֠᫢㿯痹ٴƝ㪧ᘜ㼮ዡǕ宦ⳡ杌¾'௫實Ϋ夘⁂Ꭳ揓硆㈤̰⓱ⴡ䋃狤㨾౪硈⹱䅢䩨礡䝃灸̷׫硸޽猘⓭వ冚伔溼ᒫ⋑②ቪ匉♻Ꮸ੥६僊⇰䮩䪨抑㭙፨㉹๿ዂ૥⥼儐౦ѕ撓硳 䎠䄔K䊆̊嵝ᠳ!糚斢ݕ䂶堥痐᱀䮰ጠ畐?₎᭭བྷ䰀Ңඨݧ䒐ᠶᱡ┨繙ࢶᐸ䲎⊦ჰᠹ↱⇨⠩╢喔࿁椆㥄䱎aშ䩂⣄ㆸ噛০灘䵀䰹㓺仚毷疘䆦ʶ๪䧔歔䈶○⫗ⵖ崮愧洮掣溗东⮭枑ᶔ㠸䌠ť碜ဏ幢倨Ēĺ总攅嵝㓷名碠旫ᯪޢⅰĠ㸩࠰㸣̸㲏昀␠ཡ╽֭ࠦ⠅璝㿈㑭㝮㤠瀹璀ᠳ㠰吻ρ⺤䊭⠋䦘إȐڏ⁲؃Ļ؎䤞وₐᅅ⁲ᤃ䄈泭䉠ဳӀ㢪⵺㐲炀樵ᠠウൔL徦Ƅ㰰冓˲嫶䉦楎䐧剻᠇粠場壆آࡎ੡囒Ố⢔᧑⢍嵤発ჩ咕Ȱ恻䩑䓑䪧䚩奒僉嵔曹坒䄙僒僥塷ࡎῩ䚑䅒♉垣☬ᴴ䕙䬣春䣓⪦ề㢶㯳模匭樠٤⃦〮ϔ孾槵ۑ捕煄Ǵཤ˩㽺唦⚧战⽤Ⴀ師ጄ磐⌰㰬♄⨿䄥剿䌐戣Ѐᣱ᥆爣üያ箶㻌⣒䥭ᢒ᥻䯪㹹⨪Ủ䨖⺧刔ƭǀⰥႀ⨼゠⦦㇬姪揮㖮磎㗨獞஧㢨殶珼◤ľ堬硾Ҏㅞ޷⁞ⲓマ枽穲᜻笞畂ତ᱄ӠঢX䡒⛡ǁ☦〥⒜ᡟ⓺佊䳘಻圱楙义㚕ⓡ竑喕嵜争ᜢ⺕皧伩屟堁灈䙓楔䙁൓碀Ⳑ䇀ቹ䗀ಹ䟥⩞ᥠⰹ䖑痟6爸㥠爰朹⼯瀢⁩批歊孨嫮⁖ᨩ杈园ₖ㸻妎媡恢㐫㥭Ⱖ㝍簾㓀䗖㛍˃㖍ᷟ䈍χǬᅲ㝭姍ᱍ⠩㓍璧ẍ淆̍爿㘽᪴嚊ે氊ᆗ⥉⍯⃌ɒ搀࠿恬囁気䈄⌯刜㲘廒堭瑕伦凌ᩎⶬ妚䫥ᘥ惃ᖥⳂᖆ糐嗥择化皥癀䇽璝਷䙮䂆㩌ႅㆣ沛㈌Ϊຎౕ測㈞ᒊ㴇䦙眴đ䮂燍爠牔፨➢प⛰⹬yⷉ嚻榤䩸ᒱ9ᛴ祂ᜌ湌ᵩ呺䥸䒿ᦩ͗惆㙁ᠢ暸♣叨㰬ҙ䞤稞㈰䢖඾丿ḳൢ⫴׵庤࡬஋㤴縴䗨㩆䂤ԡ琰䇨Ṃሬ㍷㫰怬⁬⠯悊ῤף8෸䛇妹࿒天גᤧⴒࣹ⇥奴᷐㐧䣧㞲⁢绁サ䞃ǡ撼⥠岋䩧ខ桯ɔ缫帲Ҽ⧮㓋䛛㏚桗㺔ᝣ啘† "
   },
   "outputs": [
    {
     "data": {
      "application/vnd.jupyter.widget-view+json": {
       "model_id": "d9619ff0dfb24d669b4691aa6620b218",
       "version_major": 2,
       "version_minor": 0
      },
      "text/plain": [
       "PersistWidget(data_values=[{'__id_column': '1', 'Title': 'Super Mario 64 DS', 'Max Players': '1', 'Multiplatfo…"
      ]
     },
     "execution_count": 6,
     "metadata": {},
     "output_type": "execute_result"
    }
   ],
   "source": [
    "PR.PersistTable(df_task_1a, df_name=\"df_task_1b\")"
   ]
  },
  {
   "cell_type": "code",
   "execution_count": 7,
   "id": "6127fc95-28b5-437a-a946-e8097c40bac2",
   "metadata": {},
   "outputs": [
    {
     "data": {
      "text/html": [
       "<div>\n",
       "<style scoped>\n",
       "    .dataframe tbody tr th:only-of-type {\n",
       "        vertical-align: middle;\n",
       "    }\n",
       "\n",
       "    .dataframe tbody tr th {\n",
       "        vertical-align: top;\n",
       "    }\n",
       "\n",
       "    .dataframe thead th {\n",
       "        text-align: right;\n",
       "    }\n",
       "</style>\n",
       "<table border=\"1\" class=\"dataframe\">\n",
       "  <thead>\n",
       "    <tr style=\"text-align: right;\">\n",
       "      <th></th>\n",
       "      <th>Title</th>\n",
       "      <th>Max Players</th>\n",
       "      <th>Multiplatform</th>\n",
       "      <th>Online</th>\n",
       "      <th>Genres</th>\n",
       "      <th>Licensed</th>\n",
       "      <th>Comp_Time_Main</th>\n",
       "      <th>Review Score</th>\n",
       "      <th>Year</th>\n",
       "      <th>Publishers</th>\n",
       "    </tr>\n",
       "  </thead>\n",
       "  <tbody>\n",
       "    <tr>\n",
       "      <th>0</th>\n",
       "      <td>Super Mario 64 DS</td>\n",
       "      <td>1</td>\n",
       "      <td>True</td>\n",
       "      <td>True</td>\n",
       "      <td>Action</td>\n",
       "      <td>True</td>\n",
       "      <td>14.5</td>\n",
       "      <td>85</td>\n",
       "      <td>2004</td>\n",
       "      <td>Nintendo</td>\n",
       "    </tr>\n",
       "    <tr>\n",
       "      <th>1</th>\n",
       "      <td>Lumines: Puzzle Fusion</td>\n",
       "      <td>1</td>\n",
       "      <td>True</td>\n",
       "      <td>True</td>\n",
       "      <td>Strategy</td>\n",
       "      <td>True</td>\n",
       "      <td>10.0</td>\n",
       "      <td>89</td>\n",
       "      <td>2004</td>\n",
       "      <td>Ubisoft</td>\n",
       "    </tr>\n",
       "    <tr>\n",
       "      <th>2</th>\n",
       "      <td>WarioWare Touched!</td>\n",
       "      <td>2</td>\n",
       "      <td>True</td>\n",
       "      <td>True</td>\n",
       "      <td>Action</td>\n",
       "      <td>True</td>\n",
       "      <td>1.83</td>\n",
       "      <td>81</td>\n",
       "      <td>2004</td>\n",
       "      <td>Nintendo</td>\n",
       "    </tr>\n",
       "    <tr>\n",
       "      <th>3</th>\n",
       "      <td>Hot Shots Golf: Open Tee</td>\n",
       "      <td>1</td>\n",
       "      <td>True</td>\n",
       "      <td>True</td>\n",
       "      <td>Sports</td>\n",
       "      <td>True</td>\n",
       "      <td>-100.0</td>\n",
       "      <td>81</td>\n",
       "      <td>2004</td>\n",
       "      <td>Sony</td>\n",
       "    </tr>\n",
       "    <tr>\n",
       "      <th>4</th>\n",
       "      <td>Spider-Man 2</td>\n",
       "      <td>1</td>\n",
       "      <td>True</td>\n",
       "      <td>True</td>\n",
       "      <td>Action</td>\n",
       "      <td>True</td>\n",
       "      <td>8.0</td>\n",
       "      <td>61</td>\n",
       "      <td>2004</td>\n",
       "      <td>Activision</td>\n",
       "    </tr>\n",
       "  </tbody>\n",
       "</table>\n",
       "</div>"
      ],
      "text/plain": [
       "                      Title Max Players  Multiplatform  Online    Genres  \\\n",
       "0         Super Mario 64 DS           1           True    True    Action   \n",
       "1    Lumines: Puzzle Fusion           1           True    True  Strategy   \n",
       "2        WarioWare Touched!           2           True    True    Action   \n",
       "3  Hot Shots Golf: Open Tee           1           True    True    Sports   \n",
       "4              Spider-Man 2           1           True    True    Action   \n",
       "\n",
       "   Licensed  Comp_Time_Main  Review Score  Year  Publishers  \n",
       "0      True            14.5            85  2004    Nintendo  \n",
       "1      True            10.0            89  2004     Ubisoft  \n",
       "2      True            1.83            81  2004    Nintendo  \n",
       "3      True          -100.0            81  2004        Sony  \n",
       "4      True             8.0            61  2004  Activision  "
      ]
     },
     "execution_count": 7,
     "metadata": {},
     "output_type": "execute_result"
    }
   ],
   "source": [
    "df_task_1b.head()"
   ]
  },
  {
   "cell_type": "markdown",
   "id": "3875e7fc-ec40-4241-aa94-87b31e59944f",
   "metadata": {},
   "source": [
    "## Task 1c: Correcting Data Type of 'Max Players'"
   ]
  },
  {
   "cell_type": "markdown",
   "id": "7a7eebda-1b60-4bff-89d3-a5548a601b49",
   "metadata": {},
   "source": [
    "There is a data type issue in `Max Players` column of our dataframe. The column is a category column and should have the pandas dtype of `category`."
   ]
  },
  {
   "cell_type": "code",
   "execution_count": 8,
   "id": "fb9bff61-9a8d-4114-97f3-4f6d0cd0e61e",
   "metadata": {},
   "outputs": [
    {
     "data": {
      "text/plain": [
       "Title             string[python]\n",
       "Max Players       string[python]\n",
       "Multiplatform            boolean\n",
       "Online                   boolean\n",
       "Genres            string[python]\n",
       "Licensed                 boolean\n",
       "Comp_Time_Main           Float64\n",
       "Review Score               Int64\n",
       "Year                       Int64\n",
       "Publishers        string[python]\n",
       "dtype: object"
      ]
     },
     "execution_count": 8,
     "metadata": {},
     "output_type": "execute_result"
    }
   ],
   "source": [
    "df_task_1b.dtypes"
   ]
  },
  {
   "cell_type": "markdown",
   "id": "b23913ac-ea3c-4ca1-8ac3-07d3026ca76e",
   "metadata": {
    "__GENERATED_DATAFRAMES__": "{\"nodeDataframes\":{},\"graphDataframes\":null}",
    "show_aggregate_original": "false",
    "trrack_graph": "ᯡ࠽䈌ʀ匦㢠⹰ೠ↺΀Ơ瘢ᠢᠫ‵䁇ፉ䐢怣侽振ၑ䶃᪰঵䂆⹉多䪲┠অҤᴶṂ㊵嘊᭓ㄅ毠㒰䣑Tဠ㚉҃೨ɰ䂠̂҆;䘸Ϥၗ眼䋐Ð䬹†于␠㚠ᝨ沂烒⎁൸憈㬸ᐠṬү䓧Ⴠ椓ᣘ⌚ᆠᛦކ䜱ǁ䅀㖖नຂᩈ桫〦塵偢㶱⢠⾱䂅埦䖃塀㪂ₐ暸ᵽ䀳怠煼砤慸㴻ࠩ㯏姭ঌ䄢䣫䧙㱈刱ㄿᬦ䩫⏃㌱楫磤ⰴຣα晼ਫ䎁㺕䮃Ⴤご䖂᥂挰ы゙㈬ܠ₰ᑊІ僑汮ޯ戩䉱៪怡⹁ᡤ甑擸抯॰ᡬᅓ╄璚╄㈠ "
   },
   "source": [
    "#### **Instructions**\n",
    "1. **Convert `Max Players` column to category:**\n",
    "    - Use the column header to switch data type of the `Max Players` column.\n",
    "2. **`Edit Categories` pop-up:**\n",
    "    - Inspect the `Edit Categories` pop-up in the toolbar. Look for any redundant categories (e.g. both `1` and `1P`)\n",
    "3. **Edit and Correct Entries:**\n",
    "    - Search for the cells having the redundant option using the search box.\n",
    "    - Edit the cells to remove the trailing `P` (e.g. `1P` to `1`)\n",
    "3. **Verify the Output:**\n",
    "\t- Print the head of the generated dataframe to verify the changes.\n",
    "    - Also print the dtypes of the dataframe"
   ]
  },
  {
   "cell_type": "code",
   "execution_count": 9,
   "id": "84bd3f29-2697-4f40-ab16-27f6540912aa",
   "metadata": {
    "__GENERATED_DATAFRAMES__": "ᯡࠩ䃬࿀ᜤᠹ悋ᐨ恑䐢犲ǩ怶恉宑召䵬ð䀲悠ᄡḡ沯妶ᠢ㠪癀ఄᐠ ",
    "__has_persist_output": true,
    "scrolled": true,
    "trrack_graph": "ᯡ࠽䈌ʀ匦㢠⹰ڀ̺⠧ȸڀୠᶧ೤ƀӢ⭂ĸề兌᧡䃦⸥㌒早ᐠ▴ሰ璹㤪䮲嗏ⓥ䶳✾红†桠ù灑䏱ဩ™+䝨ఠ㜸ヷࡣ䵹嬀Ƃ៊3凩-儦倢ᢀ棴਼⫔⢲䥠⌂ဢ㦘憁䙃⽂ⱅަ䏣Ҡƕ㪚箃ሺᝫ䀷䓑䅠Ȅ恨ゲُᕚ䭦䅄勆琡㙐䭜エ༬ड᳑ࡣ嬰䈅ဦ֠᫤㞧瓾ڴƝ㫛֢坅䄥㛗޹䅮ⰡḠޛ䮷䘫䧜碡क़洌㰩䲡äाൢ惰م΢䅨ᙅµ烨䙀毥აضຠヰ⹞ڡ墾垤佱䄺篁浭槢䣔⁥䑸磂ⲳ⑒ⲳ̥效糁Ⱳ䳡᜽ᔱ䔂ᠢ⒱◲䳖ⷫ搪⊩ⅴ᧊ᜠ౉烬㍠B灀㴠ଂᦠ窠Რֳ怠ཝ†偒ṐᾮÕ畄䰳梢⵼╛⢡粯׆拋缏ᇔ欠Ě⽬㘁氎㫗䰀ֶႺԠ熸᱑ãሁ䨶͢ᄨᐪѡ⋀⒴Τ怨ሩٵ榾巃䴄䡐汞ౣ၈ӂ䶱⧸甿F灜ڳ⫶ⵚ滏ⵥ⓰↡੗െၬ杔㔶೺懐䇖州涖᷆㼹枠峎嗎䜣ࢀH䋙穼午Ƞ㬉䛐ᐐ㮾宲䡜ឭ炠㛲憘hତ倢͜ठ፜̫䍆灑劘ठϱ㶈኉䃣⊉䵘樤ፍ☢田಑悤ጁႴᚤ⃬ጁバ⯂Ɯᅀ瀲ס᝾֡㈲ر⁔°ࡪ੆刦b剂ʡ㡉ᬫㅎԠ䢊է㐺ḩₑ૸ㄌᡧ⌠Ɉ椐\"唢࡛ਥ䚻攠㛝劔砫厔₉មư㒘咕፸ἷ战罅䕐〪°刯㖱綢䏁䏋Խ屘狱柅ₑ䂸❜妮㛀禺Ꭴऩ㛀斡Ì喩ǌнれ䷀地⸶ⴀ㦞㑌։㝍ᗕ㗍疪ҍ䶪剑䂨!⫯ਤ剰ò䚆勰㦮姵㬎季檂ự䥞勳Ӂ坧ڽ姁ࢶŖᡆՑ礞၁ⱀూ灸͇჌ާ怩ߋ悬݉⑐ң愒㕯灸إ⑍崯⚽䑰㉬妠䫌婰犒䞳牪䪐剓䷀瑽ഡ瓴ᇕ摋嶐䱳ᮒ壛䦆缋஁沛)Ჷ䑧ᴏ嬇庯䘑₏䬅ğ庹ß嶽Ⲡ⼃㦀∪䇶㠲Ѻ⺩䁃Ƞ㡖নᥳⰡᤳ˭㰨᪩Đㄩ䃨㬔㈚▭懢盨䢛ℍ↚ӣ⬺籾毈♻歀ᖭ楀Ϊᯢ崤傿൪ဤᖴᐏ傥ῳᙘហူ䨦偈᪠䤺Ȿ䱚⻼壬⇼ᦆ䀣䨀ㆯۛံ㕙᝕⺉疖䑇➖ⳑᗇᶡ᥎Ჷ浜忻ⱅ淁ᜂ₴䎯暘侻猜✤ᖥᜢᓨ㻾∮壙⏥㔱ᚈ䧥ᕴ恺䎾⯆疤㯈䁝្䍝埇ϝ俛環忟盵眚盽ᠾ琲⸇㼆縋瓉␟䒿绍⬭凜㙭≜歺㭮㝙ׁ㑫⋔窠 ᶈⵕƍⶠ㠨旐⠯媧⺌ḵᣮ䍓嘮䠨ढひ؀湆ኝѠ堺瑲ྣ⎯ƀᶆ噠㎌悁ိ⮹䵿ᖫ෈䪧⮵᝶啞儠牮ᩈ梡玽ක¢瀶Ͱ⼥捭攠ʏᢛ䉭޸硉䴑⦵烾ॐ㹸ʆᚁ籿䇬峷⊙弑禨ጁத୬ᘶ塏⻶惤䧥ᶻ䛪寃䑨㪴孲矂ᶇㇸ╽۬Ӡ⻙ⶨ淓榄眑➆漕⚡⤮ॲᢥ剃ツ┡嘷凤䨡䑩ନ㢨冷េ⢷㤗⁷睰圪滢ẒX㐢㶸ઘ猦䁮Ⴇ佔剠Ȯ㰬ণ㐧ʯ弥ቁܰ籫ᄊÁ⨾⫇持浊Ð⯅灩0具瓲฀爽㩃ᔌؠ㑄҉䚬熟㒁䵟灎䀼Űྈ㴤䁀⨥䍌܍ȭᭃ兡収䳡Ƞ值ᴐঅ㡈䧉㘀⒂䔄㎺℟⹠ᐦ璻ᱡ噍Җᨕ⾕瓾⟎໛澝߸簡仃❓␐您挱෩媢ެ家ㄩ䆃ধᡈ祕ṣࣜ唷⚗䈠ᩙ祿൤䅗᧌㺬匦⹑倪㈈⤤ᙙ沀䖃提✋ᡬ圳从द㤡ἂ嫶换㻥壀嚑஡悐䠀狄⨧新䤬ᆄ䬢灋Αร䉈Ԉ㕆匙ኹՏ嶢䓅޹✖թ䕅ǉ唧⥩❜ᔡ㲰ኣ佋昀㯯䥏什Ᾱ₟ᣠÄ䂡☠䅪ኬ䡂਷䮙ྺก夺఺ᮃ㹕䅭䏌尒泯獮‏伓✈䁙㑮⽱穊⁠攦䂽噖宴䇧⏣⡉牙刵恤敬欦瓹三禲℻擒䍅㍣咅兲ᢂ崃⌬ゲ㢉መ汫㉌䰉⊴佇ᚼൖ幚⧘䚌斔曬ٝ䬟ᔖ秐ࢸ栰䢓௢⬸ূ嘂Ɑ嶜≢⡌嚋ීૅⲵ㟼ᑫ䨚㙓挵㱅╫䎵ᬒ᡾᜖氱䦘ଓఫ瑑Ѥᒱ䎐ล攋⾍孴ਣ橳刹毂岙嵨獯㵮┿⺉䐫恔䐲ᘳ妧䢭䞵⚱浫๹爰㪬㒞ݢ⸰ᮣ㐄ᄦ㛪ᚍ⑹䦭ᢷൂႻ戰炠  "
   },
   "outputs": [
    {
     "data": {
      "application/vnd.jupyter.widget-view+json": {
       "model_id": "c1010b6401df4e3ab7e686d64b5f7c2a",
       "version_major": 2,
       "version_minor": 0
      },
      "text/plain": [
       "PersistWidget(data_values=[{'__id_column': '1', 'Title': 'Super Mario 64 DS', 'Max Players': '1', 'Multiplatfo…"
      ]
     },
     "execution_count": 9,
     "metadata": {},
     "output_type": "execute_result"
    }
   ],
   "source": [
    "PR.PersistTable(df_task_1b, df_name=\"df_task_1c\")"
   ]
  },
  {
   "cell_type": "code",
   "execution_count": 10,
   "id": "e1c8ce26-edbe-42ff-9873-295e91676312",
   "metadata": {},
   "outputs": [
    {
     "data": {
      "text/plain": [
       "Title             string[python]\n",
       "Max Players             category\n",
       "Multiplatform            boolean\n",
       "Online                   boolean\n",
       "Genres            string[python]\n",
       "Licensed                 boolean\n",
       "Comp_Time_Main           Float64\n",
       "Review Score               Int64\n",
       "Year                       Int64\n",
       "Publishers        string[python]\n",
       "dtype: object"
      ]
     },
     "execution_count": 10,
     "metadata": {},
     "output_type": "execute_result"
    }
   ],
   "source": [
    "df_task_1c.dtypes"
   ]
  },
  {
   "cell_type": "markdown",
   "id": "753ed0a8-dc0b-4ac8-8afd-b554ea8f4d28",
   "metadata": {},
   "source": [
    "# Task 2: Filtering data\n",
    "\n",
    "In Task 2, we further improve our data by removing outliers and removing certain records to have more consistent data. "
   ]
  },
  {
   "cell_type": "markdown",
   "id": "7f25d8f5-98e8-4b0f-9358-ed85f77cbed8",
   "metadata": {},
   "source": [
    "## **Task 2a: Remove Outliers**"
   ]
  },
  {
   "cell_type": "markdown",
   "id": "ac53a605-2d10-4457-9625-70ce88f04f3b",
   "metadata": {},
   "source": [
    "In this task, we address data accuracy by filtering out anomalies in the completion time for the main story of game. We observe some records with negative values for completion time, which is obviously incorrect data.\n",
    "\n",
    "**Remove records with negative completion time.**"
   ]
  },
  {
   "cell_type": "markdown",
   "id": "664c641e-1193-4233-8897-0161f209c86f",
   "metadata": {},
   "source": [
    "#### **Instructions**\n",
    "1. **Identify and Remove Anomalies:**\n",
    "    - Interactively select data points negative value for `Comp_Time_Main`.\n",
    "    - Use Persist's interactive features to remove these anomalous records.\n",
    "2. **Verify the Output:**\n",
    "    - Print the head of the generated dataframe to verify the changes."
   ]
  },
  {
   "cell_type": "code",
   "execution_count": 11,
   "id": "9f84d347-8ce1-48d8-84a9-478d7eae3bd6",
   "metadata": {
    "__GENERATED_DATAFRAMES__": "ᯡࠩ䃬࿀ᜤᠹ悋ᐤ推̅ሣ䧠ⶠ卍捯ᥔᠣ℠▢dʘϔᝠ捌〤瀵摠៨⠠ ",
    "__has_persist_output": true,
    "trrack_graph": "ᯡ࠽䈌ʀ匦㢠⹰à㌺΀ೠ癈ƀୠ᣻¬Ĭ䐰Ꭰ䩦⥠⭍⋹‱圹㠹ⶻ'ैkᑄᄈ夒ર囇⃩嗛✾㸢䍤ð䀡婲熨㵀ॢȠநƸᢀ眰䅽忒ɠ˼リ$熒‣㑠偈娲ᜠত摥έ惐榉䌄≺㵐䢫䶫ຬ拠傀ヾ慺㥖֮Ṯ敪猰঑᧹慎⌫਼䁧䝌璲⡠ÚͣᎹ䤥ℬ僸惀Ēい㥎Խ✷⳥僂〬Öᠻऒв䘩ݙ宨⇷ࢁ熰᝕䀺沙∨羦䘠弣ࠏ㮁ᐲ۠䍝⽘༁⩼㘠Ꮰ䊜弬ɠ綱ࡘ䬆礼䩙䦔䧄䨼ⱆ瀨኱ண䖺ᨫத戒縺⛲熤汗ʡᅐ晗䒭⏄禬࣐吡䥡䔱䘂䓒⪷◺Სްᒪ娩⌣ᘁऴ企䮂ҷұ⓲㩒宷攪⻆婷ᗜ捉䱩 敓ጴ奠\"8Ωᶱ^䀢圲乡䀶⥣揝%Φ䎚㘨᯲䀡ᒚ㟂抓䑐=渍㩨ࠨ⼹↳唙෗⟜⧞ἃ䁝ࢗ䠀֢僓椱መ汖垱ぬ攼ⴲᆤ⠺޵犀爬ε公᧸悆⊞᜻䍀悐籑٢凲啓۠瀮ⵟࡁॻַ囐泖ᶫˣ⁸橩暐嵠母棐㲾ឡ伐⁏䐑纈␩⹀䨫䅨【ౘी怠੄ᅝᑊÀЫɠ*猠ᢟ朣ヘ匰‰卥⮭䐐ұᜩ․٥刨♥䘩È⯂昑删߃ᇴユ憈䧔䱍䠳儬㷢ㅌⶩ4㎯㡼㒰ᢤ徫≐ጡₑแ亙ǃ劬徔偐ᕲძᨖࡌᓢ䂺䖡Â␧冄䨢䤌⛣䥀ம⤢⾪禷ῴہ屑䁱䙓纩䀣凤㴥ƥ査㇥磎ᘔ垧ᩘ㳰嬶勾ত棏匨ȭА秨在䵏℄ビˊ糕ሢ㭁柘䨩枘奛䖠䨴玙䅙壆₶昈ㅑ杙᥃䞑塳ᚕ婇֠焣㮘氯ᨤ⡬አ秌搊ု朦モ᭦㱵嬘⿺㏘#案兔ↁ窵僗嚴嚵ଲ戳監匊ᅓ屋屫倪幯ἣ䉐丶⌈嬴ደ㒵瑐乶⫝̸側塈嘶猊坡઼䉵扱䠪ƞ徇䓋䓴峗ᗥ㡀䶥恿к磅ᑨ粰ީᙀ䳆泷䠂ㆌ⮪尼涣⑹ෘᑝ泃桦Ҙ㑳毣佽ߵ౉䱫䢐ᔠ箞俸㡁捠䞖๚❂൚枙棛䠲ᩨഥ㟸倡拌ࡕ㙘❉櫤疼䟎ᴳҕ嶎峑素旖̀嬸ፇ楹卬涺猢愖㌒瀏⬬杻ᰦ戡ӯ⿗嬰䠘䀶٣〬䉡牬°婺ೣ㈴ԅ㘅䶡偺䗢ぇ抣ខ岼㝣❈䴥⺈㉌䋉唻ⱳ涉ᩋ䕵䔒㚍䛢瘷抠⷗源䣏殀罧䖦Āᰐऀ⤧䑐℩ᚸ₧პ槜䤜ᴨ౼ᢜ幢ᜨ䣾ἀ⣊ᕯঅ厮ᢸ೧䆉ዷ擑刱㢴ȇ⨘ק䠠ѭ∡⁚嗦䥊续≔ῧ咀ᰚ羪䧠㰯歛爒ⶆ૱ʬ塘℉ᙻ㇝⢠Эㅈඒ湋穼➔⇣ᓟ䛚傜አ縯ć犲ሸ✄᧔ŧ㑢䠥桲π昪愂嗡〴繏汢ӻ䔴䐢绔䉷㥡ᐢ剀䰮ℑ͠栫䇸ͥ㠴İᱢ契◀จℚ渔猣࣑ܱ槇ᮓᜇ䡽扰Ϥᜊʙ尬Ⲕጓ䃄捘ㅃ䒐፮℩仹殽椠尮ᣙ䨴Ʒ֒坔ǎቮ嬞ᆽ䈫Ჴ㡅案┷ຨ䓈䣒ᢻⅦԌ⺷楆ࠃ㵜㡢　‧Ʈ෮⦖ڂ䧳塂ഠࠦ䓀㝁㉺ϸᨫ䂵擠嵚䆺ᾱ璙Ǥࢡႝ㖘嗯⻲ཌྷ㶩ⴧண݈炋ෑ乙柖犢䅞඙䬶礰࢘Ἦ㭲⑱s䊾䮣ẗఘ௳燞ᦙ䃊祡㼒὘燾ᑂ稈⦥⽄緞ⴙ悥硂㧶䠻甂㰉ᨤሱ䜢Ƽᖦ䛌ޟᗴ㼩ᆠ桻Բὅ摒䏲刈╃՟ᩋ㾈ྒ瘱皼ᐵ㭽つ┵䑱ᚰ粲䢹ྐ皸⤈߄吥ႈң䞳Ǥᴦ摭ៈ乢⩄ڠ焩䳬㖺Ⱨᣠ᝖㋻ৼ䔯届ԃ䞳⃼⌒䑇䝫ሣₐᆉ㚱槹ෳ⴯午牕Ꮂ⽣ഄ俶碽ဦ傐䛋匂ֲ䵫Ꮊ愄嬁䧕熽奮䴍溸ⓝ᷻糖桲䡷䘺ࠖ⟨໸娼斮ᡸː南勰⸥嚊佼椧⦩栱䧼ၠׇ䡏⊀⸣⁍㚨㲪槼䶰㧭ၧᬠᑬɮڳ⁺皹᳾炩ᠳ⥒䄓䍇䊉㮷⹮坋挴ᯨ἗䉜ⰲ啸ँ些獯෥供䞾垸弗ᨥ罂־☪府ૠ⼕℣琙垫祋朽ÔÏ墊⢸ᝨ䴶㰡傊粏㶤樜灟ኹ㐢炬歨ᳱ嵅囚㗍ြᄻ廽レ☋⑉核Ḋ綌㕺䂩メ掫捦ڎ᧹庢༢柰䫇污翃 抻⃡ᒮແ䋃玬⑕怸僨櫇ڔŴ啶౑䩲彾᤭㰑ዟ猂ࡕ皴尢à䃨抮⣾䍱派劾ᮥ䱰ጩ嵣剩䫢ᖯ⇓ඵ̻⁆ᤃ㥔↔塭೏緄῀㍫烆囒Ⳍ䃖䰢摽ɠ␣䁨ạ∼畠᪒灢ᦆା晖ඃ狎ℵ㾺ᱺ䇊棖桭Ⲷ⼴㨤࿊д寨᳖⮖悄ഠᑦӴ嶫刍ዺ淎ၛ⇷尩㖶䖊圔巍Ⳑ淙㳺Ꮅ孉჎ᷓ厡䥪ђ伊䪽໽圽嵿ᩛထ♺狧Ꮟ㓣䙕㝳榆冊䍚武㿴➟㰌懭们ذˋ₳战圵㯎⎗缻懼䠲庰❾桅庐⼒篠竞⬪⾃松焲ʯ埝射⌰哣Ӂ⟼䰖ᅡ仂䱊᧒ੳ瑘䶘左僐࿞愤Ӏ䶲搹ਟ巅梒㍊⭒嵒䨚โᐿð☦㹆٩ᴵ恕ྯᅍഠ䠯侸孒壹⧑惗昮ዋ憄⵼⩌◖垘刡ゐወᪧ⠭୨ᙥ僺ᷚ㩗⌔㽥瀸ȸ淘㙀O㔾儺ᑼ窒剫䜦䮡䎷⸬ᣭ㐻⻧梤殤緊㛆╇䛰㥳焆䶱斺‾妊⿌ᩡ㕔䠧၇斩㻣兰઀㗗➨ᓠ⧩㩰゠䠅䅀堫䂽屖ᮧ䴌⥴ׁ獘竌珫掸嶰ẗ䱝㐷な廭倶泎砇⻡堢⏐秛媖ᯠ種椕Ⴇ擽摧ἃ珢現㹯㮛碕眿ㆸ徒ᘰ猬䂬⾒䪄⍔枺䤅䋧慩ڳ᚛丣䤓ᛷ經ℙⱮ弋ჵ䕂㘤熐㚪⊢ಊ幜═竇⚗昁硬䋘␐悩⌼࿈㴩ⓩ⎏㣜ᆆ᳉⨬ᣵ᜺࿉緁更໅烃㇚䩸搕挰̇昚兓绔榆䂀ᑒ䀨ౠʡ灑徹巀溨塑ᵛ桎䒪బ紧結殡汕㴡͌ࡦ忂ⴠᧂ䁂䠐摎տ抠㩑羾䵲Դ乒捗ಀሚ湆ፉ᧩䅞䘓匬9䍤匷∴嘜栶䷢㏝䖵⡌㚑㢹燼◊ড檡无䘎ధ㓒悲>㔷偞ⅻ▰㊧߄㸅䌾·ⴾ䊝梁羓䮩䎣溁ㄐ䟐䃃殁তᓔ䀠ൌ縻䑔滣ᩴ⥴䧼㕍႙券ẹ綈⵷䦖噙䬄᝕㡒ᗁᬅ梍㨔᝽猈孉欇䈑䈩⩩悷包㮇Ḫ稽䠩寂㭕燷䌌潌㶆私ᗜ瞁潋椱ঁ៫潰⨑ЌӅݙ礨Ⲹᓬ֟妝嘣ぅÁ䟂䁣牢Đ㤯刽猷挫竬⚵㐀夑笢䰣栰࢘䓯咜㬿ᾀࢠᜡ㠤獱䯈咡粬倲凄஠ⰫᱲͲഡ缎ⴼ䊬厃犇ὈΨрᕏẝ䘍ᩣ㺇✹⧪䅣㳤傴竊嶽樽எ㤽៥恤ࢋG䅵䴌僴硥䎽择伿΁ࡀ㍎瀧и⿽䘿䩳ҧ䋢抩焏ؐᛨ䀠 "
   },
   "outputs": [
    {
     "data": {
      "application/vnd.jupyter.widget-view+json": {
       "model_id": "0cf97727a720472c8ad135169191995f",
       "version_major": 2,
       "version_minor": 0
      },
      "text/plain": [
       "PersistWidget(data_values=[{'__id_column': '1', 'Title': 'Super Mario 64 DS', 'Max Players': 1, 'Multiplatform…"
      ]
     },
     "execution_count": 11,
     "metadata": {},
     "output_type": "execute_result"
    }
   ],
   "source": [
    "PR.plot.scatterplot(df_task_1c, \"Comp_Time_Main:Q\", \"Review Score:Q\", df_name=\"df_task_2a\")"
   ]
  },
  {
   "cell_type": "code",
   "execution_count": 16,
   "id": "6a6c923e-e9d8-4bc6-8a62-c7432a355205",
   "metadata": {},
   "outputs": [
    {
     "name": "stdout",
     "output_type": "stream",
     "text": [
      "Empty DataFrame\n",
      "Columns: [Title, Max Players, Multiplatform, Online, Genres, Licensed, Comp_Time_Main, Review Score, Year, Publishers]\n",
      "Index: []\n"
     ]
    }
   ],
   "source": [
    "df_task_2a.head\n",
    "print(df_task_2a[df_task_2a[\"Comp_Time_Main\"]<0])"
   ]
  },
  {
   "cell_type": "markdown",
   "id": "b447b862-90c6-4ed7-b48b-baa1cf74ac2d",
   "metadata": {
    "__GENERATED_DATAFRAMES__": "{\"nodeDataframes\":{},\"graphDataframes\":null}",
    "show_aggregate_original": "false",
    "trrack_graph": "ᯡ࠽䈌ʀ匦㢠⹰࣠✴ƀචآ൐ୠᣠ⭎¸䚀ᶥ<⋵攴≲䦆ᨐ҅䁲䥈kᑄᄈ夒ર囇⣹嗛➎帣ᢤ䀡傠Ǘ熠㥀ॢȠா䠸ᢀ㜰䁾巒•橀樠Ꮃ䤠ව׷核ᱬ䣘紲₞૦Ԡ޳ŀ凐栠晬╍ಲ䖽䂇栢沀團ᄰ㸸ሪ喊Ⴇ♁䐔粶ᦞΎ刺ࠥ簉窺簲ᖢොሧ҉䃵ⰡḠޅ毗䘤䗾墥୚渍磆搰㣄䆯䌭䊣ᎄ䢩妈䪑䴹ҩ䋫◂რ⢒ઉ⃁⽌囦媍ኘ垤䢠䍤⒂Йᘷ੡䄀҂Ქ⃱琿啡憐㲞ၯ䌨焠ᗿ搫໎㒫ல熪Ņ⎃ऺᥛ⃄ᅠ  "
   },
   "source": [
    "## Task 2b: Filtering Out Old Data"
   ]
  },
  {
   "cell_type": "markdown",
   "id": "c86b30d4-4762-4bc0-bfd3-6f1486b55ad6",
   "metadata": {
    "__GENERATED_DATAFRAMES__": "{\"nodeDataframes\":{},\"graphDataframes\":null}",
    "show_aggregate_original": "false",
    "trrack_graph": "ᯡ࠽䈌ʀ匦㢠⹰࣠✴ƀචآ൐ୠᣠ⭎¸䚀ᶥ<⋵攴≲䦆ᨐ҅䁲䥈kᑄᄈ夒ર囇⣹嗛➎帣ᢤ䀡傠Ǘ熠㥀ॢȠா䠸ᢀ㜰䁾巒•橀樠Ꮃ䤠ව׷核ᱬ䣘紲₞૦Ԡ޳ŀ凐栠晬╍ಲ䖽䂇栢沀團ᄰ㸸ሪ喊Ⴇ♁䐔粶ᦞΎ刺ࠥ簉窺簲ᖢොሧ҉䃵ⰡḠޅ毗䘤䗾墥୚渍磆搰㣄䆯䌭䊣ᎄ䢩妈䪑䴹ҩ䋫◂რ⢒ઉ⃁⽌囦媍ኘ垤䢠䍤⒂Йᘷ੡䄀҂Ქ⃱琿啡憐㲞ၯ䌨焠ᗿ搫໎㒫ல熪Ņ⎃ऺᥛ⃄ᅠ  "
   },
   "source": [
    "The interactive barchart below, shows the data aggregated by year. There are noticeably fewer records for `2004` and `2005`.\n",
    "\n",
    "During this subtask we will remove these older records, keeping only the records for the year 2006 and above."
   ]
  },
  {
   "cell_type": "markdown",
   "id": "24b308e8-8437-4146-9ebf-cd121aeb7f9f",
   "metadata": {},
   "source": [
    "#### **Instructions**\n",
    "1. **Analyze the Bar Chart:**\n",
    "    - Identify the bars that have less than 200 records.\n",
    "2. **Filter Year:**\n",
    "    - Select and remove the years with few records.\n",
    "3. **Verify the Output:**\n",
    "    - Print the head of the generated dataframe to verify the changes."
   ]
  },
  {
   "cell_type": "code",
   "execution_count": 17,
   "id": "1ff923c8-1008-4d36-ab1c-625171d90d47",
   "metadata": {
    "__GENERATED_DATAFRAMES__": "ᯡࠩ䃬࿀ᜤᠹ悋ᐤ怱䐢犲ǩ怶恉宑召䵬ð䀲悠ᄡḡ沯偑嬸Ř˛ࠥ笪  ",
    "__has_persist_output": true,
    "trrack_graph": "ᯡ࠽䈌ʀ匦㢠⹰ڀᆡⰣ㇀么ƀୠΠ̠♒䐰ᦶ呤ѐࣥӂ斀ᶩ䱯㥣ာき撴E䨲࢔沙ժ⭳傌曣䯏㽡ᆂ†桠ùᧁ䅛ဩ™+䣨ఠ㜸クࡢ汚㸰Ɖᅒ䀡᷼䠠洰⸫ʣో䜅卑冤䱔☡ᅎত亲捠ႃ拑磔㈶ࠠ᝸把瓒↳ඤ慬笸ᐠṬҢ會ᆰ㆐ᓼ氢⦑䀶振㊀䢡ᣡდ筩Яㄢ፲ͣ堣ⵆ䱁㷨啠៸撚奢㌫氱᯻㠵䱜绠਀㶘ʁ䊛⟢Ұ㱮ன䋓၀㒶⊀⤄Ⅻ҃㠴Ⅶ䃣㡸ᄭ܁੤㜤䍠䡈᤭ıぬᤩ愛㻒୿䞈䂇㍘憩戩ብ፨㉹๯ቀ੥६僋晐垭侪ዩ㦻䡂㋼㙷៪૥ゴ劣䪵⵼悉㰠㋅倗㓀!)堀䋆䀢䕣ဨ厝䄥ᰍఠ।珵⃏ฤ㗼繠塆ࢌ兌ṳ䐱据֫䍅犪ᆡぱ㠡ⲿ⃠⠴ᡢ惀㊍各㯙ṙጣ䐁䒒ણ⏱౶ᶩ愐簡ࡪᎩ䵶䓽欕絡墎⋥捉䚇ᥣஅ䷆媧孽䈠㤼❧䌀墥坻弊㬸炉ؠʩ㏦䏴ʠ₻䠠֓o叒紓㒞倭ᐑī笠☨䍂値ਕ䣢侹䘱⽑䖝繌䀡瑯䐑ᤇ娓窕P峿堒礟倮ŏ䷃žᰩ䋦ᰱ䇯忁䄔ᒲ抄π灱䨥⛘̢へ䔡ぐʢㄸ֡朒䦴ᣨ㘲䁒Ъ愰₭䇰㑪䊶䤄䔖䂤ᢎ崂⅀ࠓ焢㌯壸␧ƀদ䲂ⸯ竮䑆燜⯢ㄜ⧥İ㨀䂁ཪ縷䰤䡅䧡₲ዢ䀯Ʌ₎㡅䢲⣮㔞Დ橀 筲⾹笎♻ォ砲ၤ᥎␬ప厼玧䕉ᑁ㎹䅝②㐤Ꮎ㠿怠絈ᾤ↑ᴨ㰸Ȱࢸ堷繠Ⱘ㲋঺撙๹ᑊ櫂欭û㒆柁宎᪃橨⋣ថ溂熈慱挬䢻ㄶ᪸੒ƹ㌼枹䔹؀曨潖掘朩፵嚸㛺঻㍼櫅䰫फ㰸ॐ⁗ڋ愃⇲䵇ᴔႃจ䭷ኃ娠删ɀ䨳䉧䡄䌲楈㤹⪳劙⯫ᕔ摋唱ⷉ䇮懳㭤߰匞楡梬ౚ暙乘ᱩ滑佹潛฻榒坩Α湯ᔐ瞝抢ྙ䶛↧῭㙻挑幨孂得楶⅏ᖵ羇嬔ルᎦଂ噵⃥᳆傥㜀ⳁᎧ⳻᧏㋐䌖痜凅㒽ᬓน㚍ᘝ㧅挃ᝏ㖠ᮐḜ厤⪰഍㱀㈬巍㈡傯㟍㷭ឦ緊崚瀲✱倴ಱ䥈憱‴ೠ䠶Ǣ〢ԡ〶٢࠼䱁Ќ嚆唅㧅⁩ر湉枅㰨ບ᱓䷑縠␨䆛໴偮噺ᑪ拀殕ཹ㑆毂嬣೙橗न⠶∽池ぜ⮅൹呚槂ᬽ˻璖是估䬮搣块䤃哕亴憖㚻叕乀  "
   },
   "outputs": [
    {
     "data": {
      "application/vnd.jupyter.widget-view+json": {
       "model_id": "6db7cb601bdb4b76ae4daeacfd21e2c5",
       "version_major": 2,
       "version_minor": 0
      },
      "text/plain": [
       "PersistWidget(data_values=[{'__id_column': '1', 'Title': 'Super Mario 64 DS', 'Max Players': 1, 'Multiplatform…"
      ]
     },
     "execution_count": 17,
     "metadata": {},
     "output_type": "execute_result"
    }
   ],
   "source": [
    "PR.plot.barchart(df_task_2a, \"Year:O\", \"count()\", selection_type=\"interval\", df_name=\"df_task_2b\")"
   ]
  },
  {
   "cell_type": "code",
   "execution_count": 20,
   "id": "91b82afa-ab75-41d7-b35a-7e18ab47c733",
   "metadata": {},
   "outputs": [
    {
     "name": "stdout",
     "output_type": "stream",
     "text": [
      "Empty DataFrame\n",
      "Columns: [Title, Max Players, Multiplatform, Online, Genres, Licensed, Comp_Time_Main, Review Score, Year, Publishers]\n",
      "Index: []\n"
     ]
    }
   ],
   "source": [
    "df_task_2b.head()\n",
    "print(df_task_2b[df_task_2b[\"Year\"]<2006])"
   ]
  },
  {
   "cell_type": "markdown",
   "id": "8a92b8a9-c3a8-4a57-be3b-c9cdc977092c",
   "metadata": {
    "__GENERATED_DATAFRAMES__": "{\"nodeDataframes\":{},\"graphDataframes\":null}",
    "show_aggregate_original": "false",
    "trrack_graph": "ᯡ࠽䈌ʀ匦㢠⹰ೠ⬠沈֭⠸恍ff9昽䁮ۦ࠰汬നڀপ㈏䣹厠㬦ተ¶⡨⇱㌀ᅁ╶庳ୖ⹜簧ଭࠣ℠Έ橦औ䁅ШNႦ〡岁䏼ℭ㞁摞+㢱䨠Ԋ牠Έƕ٦枓቙ჿਸ旑䅠Ȅ恨戬പᎭె䝁净儬Ö᡻⌸䐱䘩׍宨⇓ࡱ䍲ච᫲壬จ䙤Ɲڣ圖⍞ᛡ৽ण䃔戋㘠传ϊ揿振䘌汣䓼㹮䘫㈨ቺ⩯↧ᄨXഉ⠅ㅖࢢ侸⇄僡ಖࡢҁ氣С宍劄倶䢡⍤㲂̤㚗٩䄀硂಩⍰琦ᦪ悑屾ᾨႨ㺜*瘪䋇޶⋤ᓘ犠䭳঺᥇⏰ᅠ  "
   },
   "source": [
    "## Task 3: Data Wrangling"
   ]
  },
  {
   "cell_type": "markdown",
   "id": "9da80393-7f4b-4115-a4d1-5b7978e11358",
   "metadata": {
    "__GENERATED_DATAFRAMES__": "{\"nodeDataframes\":{},\"graphDataframes\":null}",
    "show_aggregate_original": "false",
    "trrack_graph": "ᯡ࠽䈌ʀ匦㢠⹰â䂬ƀᶷ琶䁋c<搔怳ଚ䠳亡䈤㉕⁖ì⺇⊨攩ᐠ▨戰㑹㧒妰囇⃹喧㝞Ţ∠桠ûு䁔䈠ॢȠந㺸ᢀ盅⻿夣•晀樠Ԃ牠Έƕ稦❳ሪὦ䰼⇑䅠Ȅ恨㙎⌯᪴䶹䈁ℓ琡㙐ᮂ⢨᢬थ⧓ࡢ㌰ሚ璋U䳘䠵欯Т縔絭Sㄭۡ۹ण䉔悊㘠传ϒ橷挣⌏ⱡ䕼庮打㈨ɼ榨慢䃂॑瑐繦┭ڼ㾬⎂厃焸牘榥ᄨ䦯ඦ嘔㗆溄⒀擒摖≦၀ⶃ㧄మޢᄴ䩍རへ∦䯧焤愷䍠Žƀ夅შ㤙༾′⪂㵩掳婊⢄  "
   },
   "source": [
    "### Task 3a: Creating and assigning `'Length'` category"
   ]
  },
  {
   "cell_type": "markdown",
   "id": "402412ae-3b84-4fec-9c01-94dd203a7b1f",
   "metadata": {
    "__GENERATED_DATAFRAMES__": "{\"nodeDataframes\":{},\"graphDataframes\":null}",
    "show_aggregate_original": "false",
    "trrack_graph": "ᯡ࠽䈌ʀ匦㢠⹰â䂬ƀᶷ琶䁋c<搔怳ଚ䠳亡䈤㉕⁖ì⺇⊨攩ᐠ▨戰㑹㧒妰囇⃹喧㝞Ţ∠桠ûு䁔䈠ॢȠந㺸ᢀ盅⻿夣•晀樠Ԃ牠Έƕ稦❳ሪὦ䰼⇑䅠Ȅ恨㙎⌯᪴䶹䈁ℓ琡㙐ᮂ⢨᢬थ⧓ࡢ㌰ሚ璋U䳘䠵欯Т縔絭Sㄭۡ۹ण䉔悊㘠传ϒ橷挣⌏ⱡ䕼庮打㈨ɼ榨慢䃂॑瑐繦┭ڼ㾬⎂厃焸牘榥ᄨ䦯ඦ嘔㗆溄⒀擒摖≦၀ⶃ㧄మޢᄴ䩍རへ∦䯧焤愷䍠Žƀ夅შ㤙༾′⪂㵩掳婊⢄  "
   },
   "source": [
    "Next, we'll introduce a new categorical variable named `Length` into our dataset. This addition aims to classify each game into one of `Short`, `Average` and `Long` based on `Comp_Time_Main` value."
   ]
  },
  {
   "cell_type": "markdown",
   "id": "86d54d80-ef52-4630-bffb-1e04d9320384",
   "metadata": {},
   "source": [
    "#### **Instructions**\n",
    "1. **Define Length Categories:**\n",
    "    - The `Comp_Time_Main` column represents the median completion time for the main story of the game.\n",
    "    - Based on median completion time, create a new category called `Length`.\n",
    "    - Add three options for this category -- `Short`, `Average`, `Long`.\n",
    "2. **Interactive Assignment:**\n",
    "    - Use Persist's interactive features to select games and assign it to one of the `Length` values (Short, Average, Long).\n",
    "    - You should use the following ranges for assigning proper categories:\n",
    "        - `Short`: 0 - 20 hours\n",
    "    \t- `Average`: 21 - 40 hours,\n",
    "    \t- `Long`: more than 40 hours\n",
    "3. **Verify the Output:**\n",
    "    - Print the head of the generated dataframe to verify the changes."
   ]
  },
  {
   "cell_type": "code",
   "execution_count": 21,
   "id": "b59fb23c-da53-489f-9520-918d789978eb",
   "metadata": {
    "__GENERATED_DATAFRAMES__": "ᯡࠩ䃬࿀ᜤᠹ悋ᐬ推̅ሣ䧠ⶠ卍捯ᥔᠣ℠▢dʘϔᝠ捌〤瀵摠៨⠠ ",
    "__has_persist_output": true,
    "trrack_graph": "ᯡ࠽䈌ʀ匦㢠⹰ೠ✬΀ᶣŐ׀Ǡᖠᦠ⌢Ð࣠ᣠ媬摞䕑⍭㵓ひ牪2攩њᙼ盥擉楑㎁旧侠傸ဠ㑀Ĭ尮␢⡠䀢珲̠෦్戰䭖眸z䐺䀢㭙အ婀⍦ⴴ༨䣩䁄憱ැ㑈ᠲ଺⍂䚤▪᤹冈⓸䘰N彠椃͔⋳甸䅦殎\\䰩཭䗆ᗁ熙⒘窝M䘺撂ᜫɢ⟍∰令ࢅ␢䖀ەസ͗∅㻎憉ᣭちⷍ戆㫨ႋG䀡澒ȑ䉒㙾Ⴢ᝛Ǥㇴ戩෤ュ㐪᪩䅠Ҍ༭Ӱ▘䊭䍰ᦌࢡℰ摈㚧ह㑛ᨆ穨䴸׃刼㒳前૥煤奊䯅ᥖ❇䩐Ղ䓆⡝扩Ʌࣤ焤䥂䭰妖㭋䰅ւ哇㌹♩(ኡ†ĸ̠Ǽ嬎㗀θ‡Ꮻ⠣䠠ᦇ᣽㎙ᛛۀט䚸ᓾ㖙㺟ࡌ妤䊌ԥϱ瑃¡₱ᢘ媦₰⠨梫аҪಭ䆰オậࡵ稷垌狘刬ܯ䏩ᐺƬ拐牮᮫搑ʁᇌ櫔倮䯃樔⠦᪣ڀ挩䪀礹㌻׈尚欭䈭嬍箋夎ࠤ木匀㰈炑ؠʩ䢄៣㢙‰✄\"峠叡泝峉槉ἐ៌ὀᰭՠࠫ楂Ѿ挻ϐ⿗䒰]ਗ㸦̗㴎史㱀ᤂ繟䷣縠❧晍Ы㣀ぷ桠䨯㲸ᶢ䁤㺠⛑䔧偔ਥ怤ȶ䐤Ảᅈ๑䀴ਢᢸഠ⇚प઺䠬憀㶒亰㨮䳿徨䡻冦繐⪳䅾ūᬐⷥ媀ựŔ䶄糿᠇糶᳡䂄ቦ䢅乥Ⴕ䥡囊ᆯ⢭䭦࣫嫂㢕Ầ⺡塕܁剖䙔๐♘奕✉協惹坐઀嶃≾ⱐ䙱䙐֩塌ら䍒晙伦⩆ᛇ⪺䝷橺尐Ⱬ૰ê漬歸䭫⭸࠰歉獪毉䵉氈᝸嫡ᕛ樘䂸჌ဣ΀⌶ᩄȶ­ᨻʀ䈨䂂⨤䂰㨣䚀㓍´㳤6㽸嬪٬⭒䥺⧀楳䯪幩⫖䩽媖䐻匔ሴ盰㰷寰ڤά䦺ㆮ㦲㥌珶㯮㶶碼嗴⎼揵ㆎ᷿㨾ப犠᯺琈⯹໌㯮牞垹磔㟯Ҟᖯ䓁ᠿ硤瑛㔩汄╌偎˩㉠䰱䤤嚩䑄ɩ灠⒁ݸ⑼⧴ۓ侩㜲坵Ṙ䲠呜丩庛܁ဿګ笤䏄ᢪİীユమࡰᐩࡢ娬䈀捛䫰ⓡԉ漫焜㾥愹ፍ憹央㑈⫹⋶㔡媈曺䥴᪮刀旸㚭㈼㙭烺䃭㧁㐰◅㚑痓㕥䤬ᶭ㈢㐨椖ἰ礑ᵤ攇ኍ⪷ᗴဣ⮊嵠椫〪槊✠ᄸ捦˵竑咺ᕅ嗺ݽ埸✵梜⛞ٔ὿堚ဪᨐძ浍⶚䁰ࢮ䒰∶䏢䊥À㰦䒭ル㔍⋲⊙娇晅罞ᣅ㡤ᒅ烋ᖘ㛽卌߇壝∥°㰨㮝凼㯬充෶஀瘨᥎ᡓ⸤㝜淫撙ࣤǱ䶁冹熠䠧并䛦㉦灏侬䫰䱢੸旀ओᘱpᇆ〨ᙏੵᴤⷾᇘ恓㫗ⓐ玄ᚶ劆䊒橢㡺┐㦹嵔ᇆᨥ᭚ႚ罆嫤஡䰽䖂᪢仕ϰ⯶散䇖㮏劮沅♴壽䋒ᑕトᶇ奟㛰Ṉち撠⠹㧇䝒䌭㏯ഢ⾆ɐ嘎幃⪕寷㲬ᾙ去䍸洓壵炑昌熋懝湇㷐ྙ☹㫊ᮢ坢嗎樵ᱍⓑ䚽尺寋᪭北⏆㩡猊ላ櫞䁔愱ᇙē㤡À⌦偘⛀墠䳢ᗜб䇳ጠ掷䛭रὢ戾ഁ๹攽卶㘓䒢ᛒ椷᫱ឌᯄ繽䤕佥Qس㾨犠⿰为ద怰峀拘၊ಎᘸ༼ݬ∭⎋慡ಅ屸愐ၻ̑䐩ᧇ狐瀀烹ㅁ㺃ⅴ᷒瑒⇍ᕄ墇ᯐ奖ც㞶㈸囪漐䐯Ĥᾡ憜ጂ⻔ᑚၖ㐢䳸ଡ否¨ҫ⑕妯᪨㭣ᓱឍ刅䦄穋涌廐㐳ジ玷ᣤۀ旦⥦ų憺厊⚠ᩫư㍭㒹儉♃庸൑ʭ恙⮵⩭◴罊㒤昵皷幽ᅊㅏᓥ囁བྷƊ&ࡠ⣡㰠߰5⢧ళ⠠奃࠘ⵠ4娧⨭➡㐠ŉ㨫⢬䇢䐱⮵Ⲳѧ⺕༎稾垲䟭愀ݴ⸱⑯⡡⯠㎃棷暠⍋ᡲࣣ曕碰㎮䙕㊬ሦ⢋࢜䏯掌▣沂笤䮫Ӎ炩⢻ᥴ䇹俻墾埐揟グ᫩絟砚槯偠戣஦爮∻圵捣ᨩᴘ㙜⒍㥨ᖓ筝ЎᐠṤᜀ縵㲰⨨冡nף彍䶘丄䦸ᑳ〳Ĩ᠙⣳ූ໭㯃珡⬔ᗏӢ窓ၞظ⠬恤⇤㐠㇣ࣃ卭Ͱ⌢漸Ğɧ࣠团䘻䱁㮤㾍皠⇎ᬓⳕᠣ㖖怈ാ䃰!楐඀絿吺᪛䄨ګ悤㞰㠾䂨ᬠ䠱扞簼⇷歁〤㄃م漺ᯊ́䴼൩ሎ慻䋃繚祷䩁䖮惨࿷簴皠⊽咈坣危㕶宋缻榞䭴䀠䤮ᡸଫ⨟Ð䜮⍺䥦䄿➆ხ䟃憹宧ᡂⰁ桅ᵔ㯀Ҙ䝊с棣ྀጹㇽ׀犤㡧ચ⃁ޘ⮮䂥$؃䂏ŕ᯵琏౛㩴㢵瓉ᕛᚩ䡊⤖歀ㅞ惫๠ᳬ㗩ဩ͎኉⛈䅬瓸₹坤㧅ᤓㅊஆ̶擎䖆堰四ℍ㍡慫ᯚ磃獠濄ûᑭ⣎狏㶚姇ᢇ➐硔嵶凚柎窻―䃳[㨻㴽橃⢚ӱ燦忀⛆䦠嘣䒬⌨ᶞ૓嵔⃢㭌穦䐲៞勻槥䍊搲劙ⅷ㻲哔孭କ⺍密涫᧺墴疛㠙绖映焋泴൘৹Ơᴢ箴猩憗佒ӎ巯⻗᳽枷慛团䑒竉䲦⓰⊡ⴥĸ⮠亚̔േ睨䝂㇎拳὞䭜䌎㸤桊Ȼ㷇増❈⁾澟䲫笿㲫漳⡾絒缑⯹ᬘᦄሡ⏏ᴣ䠨≤娠儱෱᪹㋆Ὄ㹍娵䆶ᖪⵋ୎ⰚḌ癷洹⧪ϝ⹀☥ݡ⪛㓅圔ܗᡸඈ፜㌂䤧緬ߞἴᬁ紖分ῈЏ搗浇忿ଛ登䤯嗵ௐ媦砙䦀ဧⰄ撡埻̾㻏㮣➿㕗ᆑ⺨ⅆᛴ婊炗為㡾䶐孡ᅆǈ߆盄䂭檋㖬檻⻛旓㟶ஐ㟎䗕溫碖煡⁜䌞俌Ო妮Z㪑琥䞞ṣᔎᲸേ称䆫妓ࡓిἆ槮߳眊ፓ澁練ặ摄潴ຖሦ屩䠡䦖↾嵠䙦插䦤Ƞႚ栫Ĭᔅ撊ⵒ憮ഔ撡暖殯ԥ悢∤⢲ㆬ䥂䘠⼱ࣕ䤸朰䙅Ɓະਣ┩奜毄箃㯙ᑫ਎瞂夯崉⒂ĕ喫䣕ⶠ旤瞯Ȇ䌠弐ౕध枪Ӥ欮姧楞樐枤䏛流ʥ䡠絑⑞䔭࿆tᶠ⨑敌①૖⅗㘡啐᧖䖖涳喖濖⽷䁥౮暖ۃۅ氻椺㐷庽汪∠ɣㄠ䆒ߪ◅␫ࡸѠ嘤ㄼㄓ楠ਣᭈょ氁䟖柋汓⾾⿔⟏汳找峢濂ᰶ⬜ኣ૚᱖⿺Ⲑ忎擏挶燵徴և⚒Ꮱ㿅熷⪢嗴惎᥿О簲䭜ⰨỮᠤ珀嵠୆祗桅䳀ˆဦ䲙㶌჎ᰭ僓尬慼ፗ栦瑜滬禯㦱泼ᕆ㈃Ⲅ䁼旑佑珈₈桦溡၏ℎᾑ箪缺屸栶惒♈ⶸ揺䣓ㆸ峤氡㈷ₜ巐ᓎ䆒屭戾ᄩ庢㲐屾ᒡ䆯粔尨䜡綫妩浡᭦≑ָ⵸枡ঐ႔ᔕ楀䶅偅৓⢾档ᯃcJ៓ᄶp৪縧ㅗࢽ满申ዓ姘Ẅ帩劭䤬『᫕ᢨ䌊Ѡ旦ѷƐÜ删搴僂᮰墯停⌐ࢱ撨஦㷥ᨱ⥨䒌卞挱昤⪒榵ᑀ啫ᢁ䵌ᯊ浢ɶ渍⤁༆㢁涝₡⃵媇䉎斖拦㞠⍇䩸拰㉵࢙͉㨢㢴Ãࣤቇ≜ㄸल⹅⑰硔ᕁ᤯瞧औჁሖ⡻啴Ⴎ禷嵛㖾䉰⟁监粟䥱㐐͖ᶊᩚ窩忄璺ᄞ㧷䂥旺᜞宰羭᳐❮䡄㏆嵘₩憫环ᴙ拎Ⳓ※唨恐帠亄片ᙁ徯ắ㊰暡堪媝䐞࿮䆕ຘ狇ᗙ᧬Ⴞሱၩ縲Ѯᅾ䉩䱶ⴧ碈৤樦၇ā೦娦䘧䕙Ⳕ㘩㮧ɔ⧩垃ᖿΉ⿩櫗笰剹⚠儂恏勜⯾සơᄈ䈹碡昮Q൲森焦㲝ᄦ灈ٴணᨹ硈䙲આ䷤㌓䒼Ǘಈ笅㔣儽⹌嗧㫎涻柊㥑䁈戋恜弬撫䲜۾䂨⣉壑ྪ㩄䑟㰦漰屡ᄡଔЖⵎ⢆␮娓㠦卅ḱᥪ潎刵ᓉᕩ䀪⊪ᶹ帖㴠汰୔઩䱉㌧␢㧡ໞ旋ᡮ槶Ꮜө洞ઐ瑸瓚᨞目翇㌟攚⠨႒⵲溶ࡅ扯䮛ᨡą源⨷ᶤṓ熰⩰ၡ࿵扶就ᦶ࿳㩁┲彙䓐Ṫ夐౺昫怴倨ࡊ㒡偗ᚸ䈣ᓆƣȖ೭ষᠲ櫮爵垪捲偑ቍ࠹ଌཬ㥁㌲▥䱜⼂稺䢒➀㬄䡕ਿ⫩㟯㊛峙Ꮒ橴笿ዊ愄N㋐㷾乁䕯䊾℁ై⅍ڈ䰂Ņ⸅ၕ呖䤡煮氘忕䧔ᵹä劕⥏ᵤ卭ዖ㗔媂採ᄁ㝵涽.欁呪冧䋕؁睪㟟䍻汲䨇ǟㄱр࣢さ玑⚸ᘡപℭ䁦厅㴢䔬嬹拣ⅿ剀堹案↮௣ᢥ⣨ᅶ㍻≱㸑琼䔧ѹ疱᥶旯捘૪妘᤺ᑮ暨㦃㍉槱檕㧛䪾⨅ȷ羾甂傩਷喈ᕒ哵ᓌች瓌Ὅ簯溎崯ၵ໶㣔䌓☐ᨣ䑆ᖑࡵḇ䙍Ʋຠ䩁᤼ፘ擵ᑖ๣憷᳑傧禦榔ຠ䉓⁉౱ᾆ橐抑ബ刑填它⫅洵અ╿䋌ቆㄊಈ⭡ṑ〣䧄䀴擆᦭㳎扠̍ၪᱳ䷶᪆目沉痓吭羌㧎偋䪑媖決恎ዐႧ㭯㓝名崢්ֱ壦侨䖴ⱴ⼽ѫ祺ⱒ暆寱.Ⱒ޶唵㮧牪淩崲ⶅⴝ瀙♲޶啣แ᪳枰䃈ම᪵ᕺ᫰ƭ⪶晐䖳Ⳓ㉀䫚䋗傭帎⍡筞沝ⲋᾎ᭏引ৌ絭䉐擑▔㪿橛䀭ᜫ箛䉽ᘭ㝩碕況崎⹌位Ðྪ渧⼩ࣃᦙ両〢䑲ҝ溤ᦄぶⶴ㥍碕欘埕䅏嵨䬾岕㡵ᶔ䫾叅㪉暒᱇演僦ᦆ星䙹᪨妎᷏揭᫫獽㉺Ṯ䀲୫䩥凚ཉ㲷䯥撵䣋㏈Ⱋ៎庒现獲坠䉓柍捁ទ㙵乢孞⭃䑭䯎㮐曙寳⣦䛔㷃೏棶⫕勌凃怩䂊⦪⃦拔棼㉡㳶ျ২ਜ燔缱ſቪ丬纅ᓝ搙旎⾊歷坶瘉ݞ䄀㒁堢䀲۶䥈⼲债P㺭氿Ւ椭ᦕՏ䄒❲㊣珋⃶⟚γ⃣擾߿履剏ᅮ┽⃢☱䁍ਜ਼佥浤㆓ੁ嚵⇈熘移昰∥ഠ䃳滜ጦ劎ᑇ愸␎幬ƪި椒㵉pm⯉彮窱忝和㽫ᆿ厭ఏ捽ڗ殹廡઱ⅸ㕱ຊືᬑ毣᭏復ḋẒ㚩झ⍼囹Ẫ滟⋅哥ᦈᣰ稢嚆壊a䞦ọ̂ⵃ唫࣌▢⮔㇍̾⮁珸唫᤽壱ϑ⁀珊纼哨䍠稤ӎⅺ⁅硶瘾ǃచ福䉡䜅媦耒ᠧ⫚卄廋㡘欺ࡲᇈ楏ᨔ๕㢲㜫㧉ൕ悽佧帇壕૕篝ᗂ㠾墻㥅䘔੓山䵛槱ⵓ䖹␮⇱`䖿ဿㅶ㼸䊹J埦㇋⦺儬暕㽓絺⳱垒ʋ≈墇箬㎉㨥涯℡尣ႍďǜ᫥䠻⮔ᰃ⡔ᙄⳬₛ曌堢᭺ǣࡰ濒ᡐㆸ抳೧๦暪㒳䐸䴺❰㦳沺惭➐び厺⏋磷䫊殽᥮擘㝱旦奱撁䁃Ə㴓䭞㙃〗஄䝅帅䁼▼富㌚▍ཱི媃宖⇽⁻璨ᙤ縢䆬梈࿰ᥬⴇ泃᳠旃䙟 沰秃匝嫅植㛉林母 㔸侯㒚఍䝨ᱣ䱶࠽Ж瞈㮔㽫塽熴㩵幛慐о矣巢䡽廄婆ᚽ⦨枌揓弋ᖩ硑拼Ǒ冏㰩㭴憽歑弐ᨼ澽⬉ᱱ㨰纑䔼岙矢斛看凃癣嘑㼉䖠搗㷢恹ྃᣧㅝ⨈ᗛ牙᝝׎篏牶岂վ੷ₔ㕀䏣㽔㟘ു灗䛽ॸ¸擼歖ᑇ檌帥᫤㚤翍ᅛ䛢㝄睤ᓽ䨚㘴猋獨屚汯㋙笀㫇噛下‽∟孡倻㺺绫㷀㌭Ӳ䀼ど㔔䈣⑖ム椃弓ဵंࢨ乇㼩ɂ঻㍻ച坆㻤歾櫼朕る斸戳埶㙻窎㴩ɾ䚠櫿㍧ݙ坻䫨㜃暻㍚᛺㿀寻㼞ళ㥯朚ᝰ廾䤂嫅涵瞥瘶䆿ኝ䑢ᮍࡁࣉ絿≛礸Ӡਔ〹⃥㍝噜䬛โ㓝㥾爐䉹≫旡㧩ü翰⪳ㅕ圓悻䙩㓌梷䒁Гٟᅡѩ坚ⴺ潜秗὘ᐿ侖砷ϙײ洬๼略㋳✙㸀䝴ʦ䡚ヴ⺺樯♸姴牤ᓈ㞦っ∂⧴㙴笻ㅟ⧲㛔皻祜ᅧ愿佣㵍癜核೭⿅㍻ا⭻悀ᘘЩ汷㭌㾣㋻㳹㐴相定ᅍ烏盳⮈砵摾䋴眄㢡㚘⋳⬁㘫ຜ᣸Ⱎ㖫ᇿ刔㩑㥛籫士⼻रㆳ痩夷㏠ᡎ啢⃙±瓤灈湿㵧揰൱眂朗滈㍛惙㡕ཡ畏᝔䙕绎ⰨǞ粈у෫༆嘙炽牬漤ᡉ痏⾈㶷0⬦ᘻ庙ᣝ奺篠଺Ƙ§䥢Ӯ缇痚稜ᯖ算ß渐⺮炤† "
   },
   "outputs": [
    {
     "data": {
      "application/vnd.jupyter.widget-view+json": {
       "model_id": "970dc066fcc34d4095e3d9fd501cbd2c",
       "version_major": 2,
       "version_minor": 0
      },
      "text/plain": [
       "PersistWidget(data_values=[{'__id_column': '1', 'Title': 'Wii Play', 'Max Players': 2, 'Multiplatform': True, …"
      ]
     },
     "execution_count": 21,
     "metadata": {},
     "output_type": "execute_result"
    }
   ],
   "source": [
    "PR.plot.scatterplot(df_task_2b, \"Comp_Time_Main:Q\", \"Review Score:Q\", df_name=\"df_task_3a\")"
   ]
  },
  {
   "cell_type": "code",
   "execution_count": 22,
   "id": "ce12290c-757c-4ba8-a879-8310a0fcb90a",
   "metadata": {},
   "outputs": [
    {
     "data": {
      "text/html": [
       "<div>\n",
       "<style scoped>\n",
       "    .dataframe tbody tr th:only-of-type {\n",
       "        vertical-align: middle;\n",
       "    }\n",
       "\n",
       "    .dataframe tbody tr th {\n",
       "        vertical-align: top;\n",
       "    }\n",
       "\n",
       "    .dataframe thead th {\n",
       "        text-align: right;\n",
       "    }\n",
       "</style>\n",
       "<table border=\"1\" class=\"dataframe\">\n",
       "  <thead>\n",
       "    <tr style=\"text-align: right;\">\n",
       "      <th></th>\n",
       "      <th>Length</th>\n",
       "      <th>Title</th>\n",
       "      <th>Max Players</th>\n",
       "      <th>Multiplatform</th>\n",
       "      <th>Online</th>\n",
       "      <th>Genres</th>\n",
       "      <th>Licensed</th>\n",
       "      <th>Comp_Time_Main</th>\n",
       "      <th>Review Score</th>\n",
       "      <th>Year</th>\n",
       "      <th>Publishers</th>\n",
       "    </tr>\n",
       "  </thead>\n",
       "  <tbody>\n",
       "    <tr>\n",
       "      <th>0</th>\n",
       "      <td>Short</td>\n",
       "      <td>Wii Play</td>\n",
       "      <td>2</td>\n",
       "      <td>True</td>\n",
       "      <td>True</td>\n",
       "      <td>Action</td>\n",
       "      <td>True</td>\n",
       "      <td>4.0</td>\n",
       "      <td>58</td>\n",
       "      <td>2006</td>\n",
       "      <td>Nintendo</td>\n",
       "    </tr>\n",
       "    <tr>\n",
       "      <th>1</th>\n",
       "      <td>Short</td>\n",
       "      <td>New Super Mario Bros.</td>\n",
       "      <td>1</td>\n",
       "      <td>True</td>\n",
       "      <td>True</td>\n",
       "      <td>Action</td>\n",
       "      <td>True</td>\n",
       "      <td>7.0</td>\n",
       "      <td>89</td>\n",
       "      <td>2006</td>\n",
       "      <td>Nintendo</td>\n",
       "    </tr>\n",
       "    <tr>\n",
       "      <th>2</th>\n",
       "      <td>Long</td>\n",
       "      <td>Pokmon Diamond</td>\n",
       "      <td>1</td>\n",
       "      <td>True</td>\n",
       "      <td>True</td>\n",
       "      <td>Role-Playing (RPG)</td>\n",
       "      <td>True</td>\n",
       "      <td>41.92</td>\n",
       "      <td>85</td>\n",
       "      <td>2006</td>\n",
       "      <td>Nintendo</td>\n",
       "    </tr>\n",
       "    <tr>\n",
       "      <th>3</th>\n",
       "      <td>Long</td>\n",
       "      <td>Pokmon Pearl</td>\n",
       "      <td>1</td>\n",
       "      <td>True</td>\n",
       "      <td>True</td>\n",
       "      <td>Role-Playing (RPG)</td>\n",
       "      <td>True</td>\n",
       "      <td>41.92</td>\n",
       "      <td>85</td>\n",
       "      <td>2006</td>\n",
       "      <td>Nintendo</td>\n",
       "    </tr>\n",
       "    <tr>\n",
       "      <th>4</th>\n",
       "      <td>Short</td>\n",
       "      <td>Gears of War</td>\n",
       "      <td>2</td>\n",
       "      <td>True</td>\n",
       "      <td>True</td>\n",
       "      <td>Action</td>\n",
       "      <td>True</td>\n",
       "      <td>9.0</td>\n",
       "      <td>94</td>\n",
       "      <td>2006</td>\n",
       "      <td>Microsoft</td>\n",
       "    </tr>\n",
       "  </tbody>\n",
       "</table>\n",
       "</div>"
      ],
      "text/plain": [
       "  Length                  Title  Max Players  Multiplatform  Online  \\\n",
       "0  Short               Wii Play            2           True    True   \n",
       "1  Short  New Super Mario Bros.            1           True    True   \n",
       "2   Long         Pokmon Diamond            1           True    True   \n",
       "3   Long           Pokmon Pearl            1           True    True   \n",
       "4  Short           Gears of War            2           True    True   \n",
       "\n",
       "               Genres  Licensed  Comp_Time_Main  Review Score  Year Publishers  \n",
       "0              Action      True             4.0            58  2006   Nintendo  \n",
       "1              Action      True             7.0            89  2006   Nintendo  \n",
       "2  Role-Playing (RPG)      True           41.92            85  2006   Nintendo  \n",
       "3  Role-Playing (RPG)      True           41.92            85  2006   Nintendo  \n",
       "4              Action      True             9.0            94  2006  Microsoft  "
      ]
     },
     "execution_count": 22,
     "metadata": {},
     "output_type": "execute_result"
    }
   ],
   "source": [
    "df_task_3a.head()"
   ]
  },
  {
   "cell_type": "markdown",
   "id": "36e82a42-5f2f-44e1-b9a5-2e2d403b2ff3",
   "metadata": {},
   "source": [
    "## Task 3b: Finding Top Genre for each `Length`"
   ]
  },
  {
   "cell_type": "markdown",
   "id": "af40bad3-436e-426c-a02f-f205597e90b5",
   "metadata": {},
   "source": [
    "Now we will analyze which genre is most prevelant for games in each length category."
   ]
  },
  {
   "cell_type": "markdown",
   "id": "72455a32-623b-4b87-87d6-ca9c8ebf19e7",
   "metadata": {},
   "source": [
    "#### **Instructions**\n",
    "1. **Context:**\n",
    "    - We have a faceted bar chart. The `x` axis encodes the `Genres` column in the data and the columns encode the newly added category `Length`.\n",
    "2. **Analyze Genres:**\n",
    "    - Observe the bar charts to identify the top genre for the each length.\n",
    "    - You can hover on the bars to get the exact frequency.\n",
    "3. **Document Findings:**\n",
    "    - Note down the most common Genre for each length based on your interactive analysis in a new markdown cell."
   ]
  },
  {
   "cell_type": "code",
   "execution_count": 23,
   "id": "c45b6a61-ef0e-408a-bded-b1d1c1666e9c",
   "metadata": {
    "__GENERATED_DATAFRAMES__": "ᯡࠣ䅬Ԁ朤壠ᜣ琢〹夤゠⹰〮⁁䁻қ䚾ኊ㇠നСࠩ瀮晼Ƭ穅5愠៤⠠ ",
    "__has_persist_output": true,
    "trrack_graph": "ᯡ࠽䈌ʀ匦㢠⹰ࢀ⌡䘥〽䀦<¬˰ƀጬ狐剱¸⦂⽒祠Ꭺᅱ矧ैkᑄᄉ娓ழ囆⭠庳ୖ໽㸛碠ǁ#ㅤ⌿㱠ኤР᝽ၐüム湁Ý㮃%增吠❇ሠ᭠ே埰㢹ᄐ稸䂴ᖬਠཆɣ␁烑ᰠ晔๣-䁧倥壡Ɒ䈲とᕵ塢ຸ䌫椲Ⱑ嚅ᒟ❨㑀ఇ嘌㐡䱰ᡶѶ硨ม匣⫐ʘ<䯎漸هⶂౌ痗壂䶰⃂焴̡༨䙤⪡ᄀᨎ㑘⌚ย娘䁦ᯙ瀸ᅥϢ泋ۼ➨悩ደ㞧ـ㾲憐Ⓒ⸰䕀⡴മ䒃ᣌ㬫䈁砢➠֗礢⏋䥀抄沜䣆⠩㕑ᧃጦ† "
   },
   "outputs": [
    {
     "data": {
      "application/vnd.jupyter.widget-view+json": {
       "model_id": "090dd095f17747cc8e560296eef2f3cd",
       "version_major": 2,
       "version_minor": 0
      },
      "text/plain": [
       "PersistWidget(data_values=[{'__id_column': '1', 'Length': 'Short', 'Title': 'Wii Play', 'Max Players': 2, 'Mul…"
      ]
     },
     "execution_count": 23,
     "metadata": {},
     "output_type": "execute_result"
    }
   ],
   "source": [
    "NEW_COLUMN = \"Length\"\n",
    "\n",
    "chart = alt.Chart(df_task_3a).mark_bar().encode(\n",
    "    x=\"Genres:N\",\n",
    "    y=\"count():Q\",\n",
    "    color=f\"{NEW_COLUMN}:N\",\n",
    "    column=f\"{NEW_COLUMN}:N\",\n",
    "    tooltip=\"count()\"\n",
    ")\n",
    "chart\n",
    "PR.PersistChart(chart)"
   ]
  },
  {
   "cell_type": "markdown",
   "id": "00e87acd-3759-49eb-9e43-d7793672297c",
   "metadata": {},
   "source": [
    "**Task 3b Notes:**\n",
    "\n",
    "- Top publisher for `Short` games: Action (515)\n",
    "- Top publisher for `Average` games: Role-Playing (RPG) (35)\n",
    "- Top publisher for `Long` games: Role-Playing (14)"
   ]
  }
 ],
 "metadata": {
  "__CATEGORIES_META__": "{\"categories\":{\"Avlanche Season Phase\":{\"name\":\"Avlanche Season Phase\",\"options\":{\"_None\":{\"name\":\"None\"},\"Start\":{\"name\":\"Start\"},\"Middle\":{\"name\":\"Middle\"},\"End\":{\"name\":\"End\"}}}},\"activeCategoryName\":\"Avlanche Season Phase\"}",
  "__persist_keys_record": [
   "__GENERATED_DATAFRAMES__",
   "__persist_nb_uuid__",
   "trrack_graph",
   "show_aggregate_origin"
  ],
  "__persist_nb_uuid__": "b82fefc4-1e19-4099-9446-89eee2c7722b",
  "kernelspec": {
   "display_name": "Python 3 (ipykernel)",
   "language": "python",
   "name": "python3"
  },
  "language_info": {
   "codemirror_mode": {
    "name": "ipython",
    "version": 3
   },
   "file_extension": ".py",
   "mimetype": "text/x-python",
   "name": "python",
   "nbconvert_exporter": "python",
   "pygments_lexer": "ipython3",
   "version": "3.8.16"
  }
 },
 "nbformat": 4,
 "nbformat_minor": 5
}
