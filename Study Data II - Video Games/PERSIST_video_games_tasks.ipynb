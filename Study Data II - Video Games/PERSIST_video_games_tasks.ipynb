{
 "cells": [
  {
   "cell_type": "markdown",
   "id": "522fcbb3-702c-4ea0-91d9-f3b0e71690fc",
   "metadata": {
    "__GENERATED_DATAFRAMES__": "{\"nodeDataframes\":{},\"graphDataframes\":null}",
    "show_aggregate_original": "false",
    "trrack_graph": "ᯡ࠽䈌ʀ匦㢠⹰àᦴ΀࣪ʐ怶䦠挠᱊ࠥ䁁䂖㚥煤晬փ⊪ĸ暂䙠঳ैkᑄᄈ妐ଷᓋ⃩䖻Ṯ溜Φ䐡傠Ǒ団Қ′䈤7ࡣᠠ湐戎Ⴆ寐爤䀥屨攠ʕ㥀ǔÚ䍃㏙䤥ࢂ┩勸惀Ēいཆ༠೥∁∀秸㲅䌠ⶬᛦ䙂ǃɡ殍戰泤ᒁ嬦怭㋉匥穃ᄠ彣჻⴦䉫ぢ睤䄁ⵐۻG䀡曑砑䂱竖ᄂ㜿Ꭽ˹ȩᚱ凁兘㑐Ṣ༩Ẻ䳥⑆憰棨忞⍧攈堽Ī僰὆揖䦲ᡊ⛓౱নఱ姼ᤦΧ您別൧儸晋Ǣ熘繀䉁硨K塊়ṹᜰ倳䪂ⵦ⚈ᒽ᪺ᆬ䀠 "
   },
   "source": [
    "# Analyzing Video Games Across Genres"
   ]
  },
  {
   "cell_type": "markdown",
   "id": "19cb3971-5981-474c-8250-7981c7c9cc8a",
   "metadata": {
    "trrack_graph": "ᯡ࠽䈌ʀ匦㢠⹰ૠܠ昢〽䂆౐׀ৣfL⍉ျ⥒⠡䒙¬ᧇ峕搢ಒ嫒┠অҤᵖ㹢晴㘉ᦳㄍ毿䡨墠ᨰV䆼ガ搢⡠䀢焨㌠෦ౝ戰殖๠ᠠ塩ೀn坄V䀷⢄㚗᥂夬ು䅻ఴ>☤䝃傳狱⊔㳜ੁ䀶挫㐷ࢢӡჵ嬩іㄪᢉ懐ͻ䬥䇽ࣨ䁏僿峱䐰㋸ᇻ兀㡆䱍㛠਀ⲛ粀೽疨һ䟩桁㙡Ũ昙ˢ䧮ᄪᆽ䥢ᅅᄁẩ㱸౮ᐶޣ先ఽЃⵖᥒ⌥▶懜ᩑƢ᭛䭄憐ɑ٦⦈䙓ǂ炘㸠䱅࢜ؠଌથ䜯๡䙉夊᜶僑汢㭢☈₁䠠 "
   },
   "source": [
    "**Participant ID:**  \n",
    "**Date / Time:**"
   ]
  },
  {
   "cell_type": "markdown",
   "id": "ceac0d48-2820-4532-bfd2-adf6533d7a2d",
   "metadata": {},
   "source": [
    "# Introduction\n",
    "Welcome to our data analysis study. For this study, you'll be working with a dataset sourced [Corgis Datasets Project](https://corgis-edu.github.io/corgis/).\n",
    "\n",
    "The data was originally published in the publication [“What makes a blockbuster video game? An empirical analysis of US sales data.” Managerial and Decision Economics](https://researchportal.port.ac.uk/en/publications/what-makes-a-blockbuster-video-game-an-empirical-analysis-of-us-s) by Dr Joe Cox. \n",
    "\n",
    "The dataset has information about the sales and playtime of over a thousand video games released between 2004 and 2010. The playtime information was collected from crowd-sourced data on [\"How Long to Beat\"](https://howlongtobeat.com/)."
   ]
  },
  {
   "cell_type": "markdown",
   "id": "68491102-96aa-4701-8134-d998c80ae04b",
   "metadata": {},
   "source": [
    "- You will use an extension called PersIst to complete **data cleanup and manipulation** tasks. \n",
    "- Interactive charts and tables have been pre-created for your convenience. These can be directly utilized by running the corresponding cells.\n",
    "- Focus on leveraging the interactive capabilities of Persist for your analysis.\n",
    "- Carefully follow the step-by-step instructions provided for each task.\n",
    "- In some cases, you will be asked to document your findings. Please do this in writing in a markdwon cell.\n",
    "- As you work through the tasks, take note of any interesting findings or challenges with the software or pandas that you may encounter, either by speaking your thoughts out loud or taking notes in a markdown cell.\n",
    "- Feel free to add new code and markdown cells in the notebook as necessary to complete the tasks, but please do attempt the tasks with the PersIst functionality."
   ]
  },
  {
   "cell_type": "markdown",
   "id": "8ebadbe2-4497-401c-9220-017809e835de",
   "metadata": {
    "__GENERATED_DATAFRAMES__": "{\"nodeDataframes\":{},\"graphDataframes\":null}",
    "show_aggregate_original": "false",
    "trrack_graph": "ᯡ࠽䈌ʀ匦㢠⹰ૠବɐච䎍倶䊪ᠠ父嬡ᳺ෪ੲࠬ晴ᘦ㍲差Ⱗㅅ)㊤䈽ାƂ刴喋橖㎁混䩟ႠᨰV岸㈔␢⡠䀢焧匠෦భ戰௷㙠̸x䠊䀡᲼䠠洠⺾彡抄䀠㈉㶣㡶ᡈ\\䰩(懄燃㌂㰢ᒌ娾䀶挥㗦ࢢ烡ၕ⬱жㄢ៉䓐͸⮑ŝㄐ䁏你㋲既祸ၛᅀ㢆䰽⫠਀⻚粀幝ඨ࣓叾殪㙡ƨ◓ᰢ寘奇Ⴌ䦦糂礒৉ᱥ䩃༥ס扦᤭ԓ噻ҩᆠ剋࣡ସ䂡▥撰じ㸨䅃䢴മ䂁ᣌ㬫䈁碢➫怢崢悩欂䥑央Ⴧ掴≺䩬槔ဨ搠 "
   },
   "source": [
    "**Support**\n",
    "- If you require assistance or need further clarification on any of the tasks, please let us know.\n",
    "- If you find yourself stuck on a task and feel that you will not make any progress, you have the option to skip the task.\n",
    "- For tasks that build upon the outputs of previous tasks, skipping a task will affect your ability to proceed. To avoid such problems we will assist you loading a fallback dataset. "
   ]
  },
  {
   "cell_type": "code",
   "execution_count": 2,
   "id": "9337796b-21e8-4c8c-bbbd-3076a775d03b",
   "metadata": {},
   "outputs": [],
   "source": [
    "import helpers as h\n",
    "import pandas as pd\n",
    "\n",
    "import seaborn as sns\n",
    "import matplotlib.pyplot as plt\n",
    "import altair as alt\n",
    "\n",
    "import persist_ext as PR"
   ]
  },
  {
   "cell_type": "markdown",
   "id": "dd81aecd-eebf-4624-b9e2-3a864c474c1d",
   "metadata": {
    "__GENERATED_DATAFRAMES__": "{\"nodeDataframes\":{},\"graphDataframes\":null}",
    "show_aggregate_original": "false",
    "trrack_graph": "ᯡ࠽䈌ʀ匦㢠⹰Ҁ̡䘠烠嘢త〫‥侴ᓬᛞ拐ৡ䚂ద抭婈ހڅྯ䌲⠠䭈⑁槑焳Ⴥ⩦仃㍶๽㰥Ҩǁ#㟢䌰橠ኤРᜰ͐üメ湁˛㾄ָ̠憴)挄䀦栢琭ٮ㍄ᨡ䌤ᾣㆢ䀣擠䢤㘦Sᥧᡠ戂怡ᠬÖᠻ㹈䐿ة׉妨⃓ࢱ̴㖠᫲徤ฏѤƜڣ回㸦ۡ৵ण䃔戊㘠传ϊ緯挡䘌污䕽庮粓㈨ɪⷠ搃猄ᦨ洘㳌ᤪ̪౦繶ሱ澂䘣⁑Ҝഭ炍孉ृÅ⭱䤾ᢠ䆋෭ኀ㠢Ү≱呺Ấ惑汮ᮯ戩䊏̠˙Ɂ⧽憳㈒ṉⅱਊ⥋⃆瑀⣨  "
   },
   "source": [
    "## Data Description\n",
    "\n",
    "The table below describes the different columns in the dataset. Each row in the dataset represents a video game.\n",
    "\n",
    "| Column        | Description                                                                                                                                                           |\n",
    "|---------------|-----------------------------------------------------------------------------------------------------------------------------------------------------------------------|\n",
    "| Title         | Full title of the game.                                                                                                                                               |\n",
    "| Handheld      | Whether this is a hand-held game.                                                                                                                                     |\n",
    "| Max Players   | The maximum number of players that can play this game.                                                                                                                |\n",
    "| Multiplatform | Whether this game is available on multiple platforms.                                                                                                                 |\n",
    "| Online        | Whether this game supports online play.                                                                                                                               |\n",
    "| Genres        | The main genre that this game belongs to.                                                                                                                             |\n",
    "| Licensed      | Whether this game was based off a previously licensed entity.                                                                                                         |\n",
    "| Publishers    | The publishers who created this game.                                                                                                                                 |\n",
    "| Sequel        | Whether this game is a sequel to another game.                                                                                                                        |\n",
    "| Review Score  | A review score for this game, out of 100.                                                                                                                             |\n",
    "| Sales         | The total sales made on this game, measured in millions of dollars.                                                                                                   |\n",
    "| Used Price    | A typical \"used\" price for this game (i.e. previously returned and sold), measured in dollars.                                                                        |\n",
    "| Console       | The name of the console that this particular game was released for. Note that the dataset contains multiple copies of the same game, released for different consoles. |\n",
    "| Rating        | The ESRB rating for this game, either E (for Everyone), T (for Teen), or M (for Mature).                                                                              |\n",
    "| Re-release    | Whether this game is a re-release of an earlier one.                                                                                                                  |\n",
    "| Year          | The year that this game was released.                                                                                                                                 |\n",
    "| CT_All        | The median time that players reported completing the game in any way, in hours. This is the median over all the other categories.                                     |\n",
    "| CT_Comp       | The median time that players reported completing everything in the game, in hours.                                                                                    |\n",
    "| CT_MainExtra  | The median time that players reported completing the main game and major extra parts of the game, in hours.                                                           |\n",
    "| CT_MainOnly   | The median time that players reported completing the main game storyline, in hours.                                                                                   |"
   ]
  },
  {
   "cell_type": "code",
   "execution_count": 3,
   "id": "8d0e426c-89a0-4813-8994-65ebba3f3a25",
   "metadata": {},
   "outputs": [
    {
     "data": {
      "text/html": [
       "<div>\n",
       "<style scoped>\n",
       "    .dataframe tbody tr th:only-of-type {\n",
       "        vertical-align: middle;\n",
       "    }\n",
       "\n",
       "    .dataframe tbody tr th {\n",
       "        vertical-align: top;\n",
       "    }\n",
       "\n",
       "    .dataframe thead th {\n",
       "        text-align: right;\n",
       "    }\n",
       "</style>\n",
       "<table border=\"1\" class=\"dataframe\">\n",
       "  <thead>\n",
       "    <tr style=\"text-align: right;\">\n",
       "      <th></th>\n",
       "      <th>Title</th>\n",
       "      <th>Handheld?</th>\n",
       "      <th>Max Players</th>\n",
       "      <th>Multiplatform?</th>\n",
       "      <th>Online?</th>\n",
       "      <th>Genres</th>\n",
       "      <th>Licensed?</th>\n",
       "      <th>Publishers</th>\n",
       "      <th>Sequel</th>\n",
       "      <th>Review Score</th>\n",
       "      <th>Sales</th>\n",
       "      <th>Used Price</th>\n",
       "      <th>Console</th>\n",
       "      <th>Rating</th>\n",
       "      <th>Re-release?</th>\n",
       "      <th>Year</th>\n",
       "      <th>CT_All</th>\n",
       "      <th>CT_Comp</th>\n",
       "      <th>CT_MainExtra</th>\n",
       "      <th>CT_MainOnly</th>\n",
       "    </tr>\n",
       "  </thead>\n",
       "  <tbody>\n",
       "    <tr>\n",
       "      <th>0</th>\n",
       "      <td>Super Mario 64 DS</td>\n",
       "      <td>True</td>\n",
       "      <td>1</td>\n",
       "      <td>True</td>\n",
       "      <td>True</td>\n",
       "      <td>Action</td>\n",
       "      <td>True</td>\n",
       "      <td>Nintendo</td>\n",
       "      <td>True</td>\n",
       "      <td>85</td>\n",
       "      <td>4.69</td>\n",
       "      <td>24.95</td>\n",
       "      <td>Nintendo DS</td>\n",
       "      <td>E</td>\n",
       "      <td>True</td>\n",
       "      <td>2004</td>\n",
       "      <td>24.48</td>\n",
       "      <td>30.00</td>\n",
       "      <td>25.00</td>\n",
       "      <td>14.50</td>\n",
       "    </tr>\n",
       "    <tr>\n",
       "      <th>1</th>\n",
       "      <td>Lumines: Puzzle Fusion</td>\n",
       "      <td>True</td>\n",
       "      <td>1</td>\n",
       "      <td>True</td>\n",
       "      <td>True</td>\n",
       "      <td>Strategy</td>\n",
       "      <td>True</td>\n",
       "      <td>Ubisoft</td>\n",
       "      <td>True</td>\n",
       "      <td>89</td>\n",
       "      <td>0.56</td>\n",
       "      <td>14.95</td>\n",
       "      <td>Sony PSP</td>\n",
       "      <td>E</td>\n",
       "      <td>True</td>\n",
       "      <td>2004</td>\n",
       "      <td>10.00</td>\n",
       "      <td>-100.00</td>\n",
       "      <td>9.75</td>\n",
       "      <td>10.00</td>\n",
       "    </tr>\n",
       "    <tr>\n",
       "      <th>2</th>\n",
       "      <td>WarioWare Touched!</td>\n",
       "      <td>True</td>\n",
       "      <td>2</td>\n",
       "      <td>True</td>\n",
       "      <td>True</td>\n",
       "      <td>Action</td>\n",
       "      <td>True</td>\n",
       "      <td>Nintendo</td>\n",
       "      <td>True</td>\n",
       "      <td>81</td>\n",
       "      <td>0.54</td>\n",
       "      <td>22.95</td>\n",
       "      <td>Nintendo DS</td>\n",
       "      <td>E</td>\n",
       "      <td>True</td>\n",
       "      <td>2004</td>\n",
       "      <td>2.50</td>\n",
       "      <td>7.25</td>\n",
       "      <td>3.33</td>\n",
       "      <td>1.83</td>\n",
       "    </tr>\n",
       "    <tr>\n",
       "      <th>3</th>\n",
       "      <td>Hot Shots Golf: Open Tee</td>\n",
       "      <td>True</td>\n",
       "      <td>1</td>\n",
       "      <td>True</td>\n",
       "      <td>True</td>\n",
       "      <td>Sports</td>\n",
       "      <td>True</td>\n",
       "      <td>Sony</td>\n",
       "      <td>True</td>\n",
       "      <td>81</td>\n",
       "      <td>0.49</td>\n",
       "      <td>12.95</td>\n",
       "      <td>Sony PSP</td>\n",
       "      <td>E</td>\n",
       "      <td>True</td>\n",
       "      <td>2004</td>\n",
       "      <td>-100.00</td>\n",
       "      <td>-100.00</td>\n",
       "      <td>-100.00</td>\n",
       "      <td>-100.00</td>\n",
       "    </tr>\n",
       "    <tr>\n",
       "      <th>4</th>\n",
       "      <td>Spider-Man 2</td>\n",
       "      <td>True</td>\n",
       "      <td>1</td>\n",
       "      <td>True</td>\n",
       "      <td>True</td>\n",
       "      <td>Action</td>\n",
       "      <td>True</td>\n",
       "      <td>Activision</td>\n",
       "      <td>True</td>\n",
       "      <td>61</td>\n",
       "      <td>0.45</td>\n",
       "      <td>14.95</td>\n",
       "      <td>Nintendo DS</td>\n",
       "      <td>E</td>\n",
       "      <td>True</td>\n",
       "      <td>2004</td>\n",
       "      <td>10.00</td>\n",
       "      <td>72.57</td>\n",
       "      <td>12.50</td>\n",
       "      <td>8.00</td>\n",
       "    </tr>\n",
       "  </tbody>\n",
       "</table>\n",
       "</div>"
      ],
      "text/plain": [
       "                      Title  Handheld? Max Players  Multiplatform?  Online?  \\\n",
       "0         Super Mario 64 DS       True           1            True     True   \n",
       "1    Lumines: Puzzle Fusion       True           1            True     True   \n",
       "2        WarioWare Touched!       True           2            True     True   \n",
       "3  Hot Shots Golf: Open Tee       True           1            True     True   \n",
       "4              Spider-Man 2       True           1            True     True   \n",
       "\n",
       "     Genres  Licensed?  Publishers  Sequel  Review Score  Sales  Used Price  \\\n",
       "0    Action       True    Nintendo    True            85   4.69       24.95   \n",
       "1  Strategy       True     Ubisoft    True            89   0.56       14.95   \n",
       "2    Action       True    Nintendo    True            81   0.54       22.95   \n",
       "3    Sports       True        Sony    True            81   0.49       12.95   \n",
       "4    Action       True  Activision    True            61   0.45       14.95   \n",
       "\n",
       "       Console Rating  Re-release?  Year  CT_All  CT_Comp  CT_MainExtra  \\\n",
       "0  Nintendo DS      E         True  2004   24.48    30.00         25.00   \n",
       "1     Sony PSP      E         True  2004   10.00  -100.00          9.75   \n",
       "2  Nintendo DS      E         True  2004    2.50     7.25          3.33   \n",
       "3     Sony PSP      E         True  2004 -100.00  -100.00       -100.00   \n",
       "4  Nintendo DS      E         True  2004   10.00    72.57         12.50   \n",
       "\n",
       "   CT_MainOnly  \n",
       "0        14.50  \n",
       "1        10.00  \n",
       "2         1.83  \n",
       "3      -100.00  \n",
       "4         8.00  "
      ]
     },
     "execution_count": 3,
     "metadata": {},
     "output_type": "execute_result"
    }
   ],
   "source": [
    "df = pd.read_csv('video_games.csv')\n",
    "df.head()"
   ]
  },
  {
   "cell_type": "markdown",
   "id": "7cc10d2b-9b1e-46f4-9769-b9a0ac0c9e8f",
   "metadata": {
    "__GENERATED_DATAFRAMES__": "{\"nodeDataframes\":{},\"graphDataframes\":null}",
    "show_aggregate_original": "false",
    "trrack_graph": "ᯡ࠽䈌ʀ匦㢠⹰ૠ㌬Ā჻R〶䁃lyٹ⁓f䍐ۢ䧪㈉◔ฅޡ䨲⠠䬱䑁棒瀱Ⴭ⭱妻ݎẜʤ䐡傠ǖ悃РኤРᜰ結üメ浪巟㈠ᣠˬ⃪$熒‣㐡㬚͇⦲༿⸂໡壡‡犀⒂ଠᎭॣ䥡⊃㡹稠嬸ූᑤඦҡ哹䑀妨䤝͕䀺慽䈩瞤∡㼚ƶ嵖᯦悡檩ǣ᪀畖o#䖊⠃ܑ璌⃥⹾䞌᧒Т⺈ᆡ⇳㴑䒤㒌ŭ᯸丈◡戱⃰潅Ԧ秐噑๦磜疶溂⒀ᒪ扖⋦ူⶃ㧄మྡྷშ⨭རㅸ瘭ǅ爘䅐䘆砠址䑂㥨㈼㹯䕈䓵ᒹ憴婊③ᤠ "
   },
   "source": [
    "# Task 1: Column Names and Data Types\n",
    "\n",
    "In the first task we will perform some basic data cleaning operations to get our dataset ready for further tasks."
   ]
  },
  {
   "cell_type": "markdown",
   "id": "8934b219-dd97-4e3e-9aa9-0dd7a9d62ad5",
   "metadata": {
    "__GENERATED_DATAFRAMES__": "{\"nodeDataframes\":{},\"graphDataframes\":null}",
    "show_aggregate_original": "false",
    "trrack_graph": "ᯡ࠽䈌ʀ匦㢠⹰ૠ㬠氤〥䌸瀶䀹䁣๲ৠܦᔨҀᣴ䂼䋃‣ᓆ做►䀳ല⠠䭈⑁槑瀱ᝉ⍮冫㭮ẜʦ䒠ǁ#㕀挸晠ኤРᝣၐüムṁǟ㤉䀥䉸攠ʓ㥀ǔÚ⎃஥䤫䒄攭ᇸ惀Ēいᘦᖠೣ䗫⃂変ⱦ{ఽ咼∪⌤䋵汄ჹ䑈冣ᛠඉⵆܔ⍂Þ⍡歹ম悩溩Ǡ媁疖o#䖓瀃ʅ璌⁅溮杲◒Ъ⍁䔶户ࣉⓢ削౐䘰䵥䌂んḸئԢ灐糕൤㧶ⶬ䲱䅲ᗈ撯ౠ惍䈅䥐属ѣ၈⩍སヸ๗௧焤ᄸ䒰Ž䅰䔉燩壥༲刳樲⭮✈咰ᒄ  "
   },
   "source": [
    "### **Task 1a: Remove Columns**"
   ]
  },
  {
   "cell_type": "markdown",
   "id": "47b531d4-2e3a-4e9a-b92a-39aebfc3deb6",
   "metadata": {
    "__GENERATED_DATAFRAMES__": "{\"nodeDataframes\":{},\"graphDataframes\":null}",
    "show_aggregate_original": "false",
    "trrack_graph": "ᯡ࠽䈌ʀ匦㢠⹰ૠ㬠氤〥䌸瀶䀹䁣๲ৠܦᔨҀᣴ䂼䋃‣ᓆ做►䀳ല⠠䭈⑁槑瀱ᝉ⍮冫㭮ẜʦ䒠ǁ#㕀挸晠ኤРᝣၐüムṁǟ㤉䀥䉸攠ʓ㥀ǔÚ⎃஥䤫䒄攭ᇸ惀Ēいᘦᖠೣ䗫⃂変ⱦ{ఽ咼∪⌤䋵汄ჹ䑈冣ᛠඉⵆܔ⍂Þ⍡歹ম悩溩Ǡ媁疖o#䖓瀃ʅ璌⁅溮杲◒Ъ⍁䔶户ࣉⓢ削౐䘰䵥䌂んḸئԢ灐糕൤㧶ⶬ䲱䅲ᗈ撯ౠ惍䈅䥐属ѣ၈⩍སヸ๗௧焤ᄸ䒰Ž䅰䔉燩壥༲刳樲⭮✈咰ᒄ  "
   },
   "source": [
    "Remove the following columns to streamline the dataset for further analysis:\n",
    "\n",
    "- **_Re-release?:_** Boolean flag indicating if the game was a new release or a re-release.\n",
    "- **_CT_All:_** Average of all other completition times, we will use one of the others directly"
   ]
  },
  {
   "cell_type": "markdown",
   "id": "aec9ad2a-ab09-4288-b8fa-2852bcddda1a",
   "metadata": {},
   "source": [
    "#### **Instructions**\n",
    "1. **Column Removal:**\n",
    "\t- Use the interactive table feature in PersIst to remove the specified columns.\n",
    "3. **Verify the Output:**\n",
    "\t- Print the head of the generated dataframe to verify the changes."
   ]
  },
  {
   "cell_type": "code",
   "execution_count": 4,
   "id": "8e333ff3-cb24-430b-a332-733b41570ba4",
   "metadata": {
    "__GENERATED_DATAFRAMES__": "ᯡࠩ䃬࿀ᜤᠹ悋ᐨ推̅ሣ䧠ⶠ卍捯ᥔᠣ℠▢dʘϔᝠ捌〤瀵摠៨⠠ ",
    "__has_persist_output": true,
    "editable": true,
    "slideshow": {
     "slide_type": ""
    },
    "tags": [],
    "trrack_graph": "ᯡ࠽䈌ʀ匦㢠⹰ڀᆠ᰸঻ర恍ᴠ೺ࠥ䚬爤犀ᆰ瘢墀໭䂆౿ㆀ಄䨠ዪन㩌尥䓱䩶又泭叏㽡ᄠ㑀秈൨ɰ䂠࿆̂;䘸෤့垌䄨Óࡕ$犒‣㑠㱰ℸ༪ΰ䭫⌇ၰ壀ᢤᱎጪிɥ䍠发⃰⡀}㺡䇦ઈ䅇椩А噐⠠㲸ड仢␈恐硸㰴㲝M䘪澪ᄧ憢⇆嚂ࡎ戨㋄ک〦宯瀢㯁犠⿞䄙㊯䈲塃坖火᡹喠ᏠČ綑磡җ漰ᢹ攓洘ᵼ⒲峘ᅶ䃃犤शᆂ⡄଩䟣壐猥ހ悈౶䆁傸➭甙⑭థ嚘仔红ከ抑ɩᓂ匉♻ᗫ爸ⅸ啊昲ᒡ亪挌㱱ᙫ夹㜫䯨੥६勋ೕᒠİр瞠dၠؠᗼ㌠疆ర䈫⬘ᰦ#祜᫐ᬄו^彴㒺ࡦ埯焤歐䘫€⡈ᕉ⃡爪ا䒄঑⡣䨔䔜ਭ愐ᖝḀ㥘⺉ጣ䈀䑲᥂古橶Ρ侉䉯ኽ⒔款俏䨬㱎ᚡ䄐ፉ䚌䇬஋ׂ娧ᮍ䈧堼䞛䴇ᠥឋ圌㰈瀩ؠʨ僑෮甡‰଄ѕ䀧燮㲛⥏߫焠獶ྤଦ䋀㛊∫幦ᑳ柟㱲>䙫ẝ਩ൻ欋帯₋൐¡乷漓弸ਛ⺀ម婟欃罁∥䅣⮙婁ڣڀ泣塌䊨䠫ⶐ䡺ࡠ碖ྫ䢴ã⹔䈣悰ܚ屔楃㌬ဦ㴸ᐈ䁰ᾦ䉗Ɖⵊ⮈ᵳ䧐繟䀩ŋຉ䩷́ங੻ᐺŸڕ൹㐡ݹ枊䤁樦ݛͰ渹⁨洺捔༺桤沺兔ڸ㍡⤨䀻ᅡ䌨挺᳘憠።ҹ㠴樇卾ਁళǉ㕽⑄䴽‣Р઻倡Ȧᓣ墮᧱0⨪竐㻓窡ᡇ崜⁗時䦷ੌ䩳⑒䊩攒垴⨢准㓍৖瓝ῄഌ߀偝䐤䳳ᚇ䲫ҕⱧ䊒产ᴗᰫ䱢峛䤓⻐஑滫䂓ổ㤕ầ嚕⹯ᬗዎἔ㻘⻁Ш⤩⇿循墸␧绉㘯繄ਓŲ୍昙⎭棯㗠繿䴭縠✭ঘ㜑‸ܱ〴̡Ⴄᶡ灢ࡣ㊪Ⴇ惔ᬦ㥈ᢃ焘ᩁピӀ焪㯥紟ံ㢊⩤榒Ӕ⢅佯倦⫔梜өࢆ⛃哸ັz䏠榥䎸⡪ડ玵䍡噢绔ᨡỊ䤞く姡⢡䛁㱌䗱⯫䕇ࠠ "
   },
   "outputs": [
    {
     "data": {
      "application/vnd.jupyter.widget-view+json": {
       "model_id": "01c480efb82748d4aeaf6c2c06f0c5dc",
       "version_major": 2,
       "version_minor": 0
      },
      "text/plain": [
       "PersistWidget(data_values=[{'__id_column': '1', 'Title': 'Super Mario 64 DS', 'Handheld?': True, 'Max Players'…"
      ]
     },
     "execution_count": 4,
     "metadata": {},
     "output_type": "execute_result"
    }
   ],
   "source": [
    "PR.PersistTable(df, df_name=\"df_task_1a\")"
   ]
  },
  {
   "cell_type": "markdown",
   "id": "36c62d50-9c88-4ed9-8c97-e552a6e4c620",
   "metadata": {},
   "source": [
    "### **Task 1b: Fix Column Names**"
   ]
  },
  {
   "cell_type": "markdown",
   "id": "ab8f8f24-afd2-424f-ab34-3e3cde723aa3",
   "metadata": {
    "trrack_graph": "ᯡ࠽䈌ʀ匦㢠⹰ࢀㆪこ<ǐʀ୥崡汤Ɓ䔠⍂⠨撂䂼ì债晶堪慯掩ᐠ▴ሰ璹㤨䮲减ⓥ䢧᜾㺣䉠ð䀡壅冨㕀ॢȠ௞䠸ᢀ眰䅽忖䀢晐樠Ԃ牠ΈƔڦ❓ሠƠ暬ॡ声Ȅ恨䙜⬮ಬ俨⫣䞐డ㙐᬴⣔䰲ճ㌰䊆၂۔欠㖹┰᧶༨̘ඛฌ琻ɋ㉄ܠ榡哸Ŝ.ؗ⾬ള勑̵㯺ᱱ曨ဩᒡᾪ३⁂惡৒ј⪖ᩋࢶ䥣䍢ᇃ⢀☾ԣ䖎㑝䳓ⳄⓀ᪱ĦҐ戤׌㝔䆦成扉ڠ凈㨣ೣㅘ湏Bࡤ䒠ଈତޗ٩䟨㣜㥨◈ᩲ㭡⟢䀠 "
   },
   "source": [
    "It looks like our dataset header went wrong when reading the file and some column headers end with a `?`. **Please remove the question marks from all headers**. "
   ]
  },
  {
   "cell_type": "markdown",
   "id": "63f4d5c5-9383-4857-beae-0cfa6ba466f2",
   "metadata": {},
   "source": [
    "#### **Instructions**\n",
    "1. **Rename Columns:**\n",
    "    - Use the interactive  table in Persist to correct the column names by removing the trailing `?` from their names:\n",
    "        - _Handheld?_ → _Handheld_\n",
    "        - _Licensed?_ → _Licensed_\n",
    "        - _Multiplatform?_ → _Multiplatform_\n",
    "        - _Online?_ → _Online_\n",
    "2. **Verify the Output:**\n",
    "\t- Print the head of the generated dataframe to verify the changes."
   ]
  },
  {
   "cell_type": "code",
   "execution_count": 5,
   "id": "b7027112-7291-4136-926e-a4c06c7de200",
   "metadata": {
    "__GENERATED_DATAFRAMES__": "ᯡࠩ䃬࿀ᜤᠹ悋ᐨ怱䐢犲ǩ怶恉宑召䵬ð䀲悠ᄡḡ沯偑嬸Ř˛ࠥ笪  ",
    "__has_persist_output": true,
    "trrack_graph": "ᯡ࠽䈌ʀ匦㢠⹰Ӧ䀸⡛ਥ〶䀧6ㄡ丗ျc㹔倹䢅ᓏ‱夔ㅸ磊ⓀŌ傰䇁ⓣ䁤峅᥺穬ⶩ媖瘏桀ڤ-䚧ಝ焠䨰ဠ屡瓠Α䌣㢤̕涰æ6戚倠❇ሠ᭤ǥⅡ䂒ᣨЬ㉈┶ԫ澡怤ゐř硴ฺᐴ᢫঺亩\"甕種ፄ㨾䯸፥ㆢ䀣擠䤅璞慙❐亣䳫栢沀噔ℰസሦ㖌Ⴁ療䊊ᆶӭ၇㘵⠥稈๶摔⽋Ȧ殎೓κ堢㰠໯坿ష䞝焦়佝䍥ᦰ၈乃Ⅺ᳗˧⃨ᠡ෥慒稶ܯ恰㈶̲僨᳎Ǡ焨伻樗ࡺᠻⴑḉ㵄ⴵ䘂攲⊳⑒沾⁲ᑪ㊥☑ࣤ圳ጳ䐲Გ⩴狒峞⡶ᕪ犺ക咬ۋ䚂㢈⦠e灡稠ᗢ㌡甠Ң攡硬⠠࿧啸ၫ㫻㐥ẚ堺猤恽☠Њെ姓易籡ࡣㄡヤᐪ䌐牙ᴻᙆ⣘ശ⋡ゔᤫ挓ࡑ㽧።ѻ㯠犐尲ػϡࣄԺ䏀ᣬ⬽䌀碜¬ᶋ婽㫯债㉃ਰ䅣ࢳ㓶イᙫ᭵㝺㚬滿㑛ງ㳰ᓛ⻗㇯⎢䑐4♢⊎㯈Ԡ䈗ၑ嘦幗ϳ挐糞ဥ㖅硡へ⨠䇾㢬৾↥烵ࠆ梜㢠Ȉᓘത⛛瘕纰㉕⚯⍙翀ਔ〨໙悇犣⹔ત稢๕澨犠帹1桞ʡ桞㓁᤮⟃жࠁ硎נ摎⋀ぃ̽᥃ġᡨ#房ᔑѬ๢匠سↆ䀥䣰䁌䖢੎ㅺ߽桚焷⓺㭬Ⓖ⶧爜hॸ浬䍢嫦⁖礹孈㛭ₖ䴻娨䷮剘灳኎壾ᩆ擿ˆ฽᪆∻ᬆ糰墐拴姬⡵愥өᣆอᬰ೫ᤆ簯ᠶ⋴ㅅ畸探㜧Ⰺ惽؊ᕘ氈ᖯո㈢Ȥ঱歚㫁啕䌥嗕঳橘潤ϩ䃦嚦暯怤彬Ⴀ䘦䉐⠧ኂ撧ᆘ咲䈬ȧቐ尪䁑Ňᣠ婐奠ᐺ刈૷歶ㅥ䩪癦⯄㥧䩊繥⩴暯墔溷冀纽Ȭᆵኄᐪ㣬㦮㭸׭㋾ี㠼⎾犎ஸⅼ௶稾場箾㷢ਫ਼箯⏾ʓ㊎䞶䫞䩵択濳➢傫ԡᠢだ䜦♡㥊哠╄ᦠ㕝獡⍟⟺ㅇ≓场╽ຘ䖭ẝࠓ桞噕愹囕盄ⷳ浕態廍凋䇜♩ᱏ֡皊愱ဤ䖨䶝礄碸㎆ᠿĄᠰ䃂Ძ៰尺ᎂⰷő㈳ሑᲪ䆀ㅜ曺䭐୘孞敨㫶≖ԩ⋖唽⊖ⴧ夙窼ࣀ䷡㕍ᗇᇍළƍ䲧㘍Ϟᣠ揔璔ூࣅ科㝍嗙溷猒怍䏖峰Ꮤ䁗估掵猫䰺敜殔紨࣠仅歯娈㕶⚏楬呗䶦槒᥎ူ䍼⠻ჰϝ̰䘱䆍旈䃀尸䍛ᠷ㗈ℓᡮ䯂ӽ焭ᒥ䳛ᜅ棟ᘵ㱴╖،ᩯ泟⢠䎰౧ፂ墥㮣അH㙸䗧ب滙䣼燗ഺ眽捎ࠢ挳捜徧䙷䎙Ӯ砿Ღ䧓灳у䆑ǆ⡇⚟䅅塴㖹喸ࣔ婻Ⳕ伥ㇶᖇ欚才۽䍅䈫䷇᧏㝗焕ᚢ䘆搙ࡼℴ⺱䖻Փ৖烉โ剂Ą⼘倶ᆸؠ楞А❅ီݨ䈤ዩڰ०䄶傢࠴ō㢒䵿䠘椃㉇✽刾处৒ᐫト㮀桎曰冀す撡ళ㨗䯢࿁₿ᨐ徂ޑ㲮᳗澝࿥ƿ寻ࡒ⢪ἐὃ睩琉㹙᎜知氪⣆徹⪊╱䢩瘆㵠R愦ʀܠᴾ㷚㟅ᰠ杻ࠢ窊挺ฎ䉻愹㍢䏎䖚尡㧗㆐睭勩ଌ癵毼痰㷮否椠爝Rͬ䊨戣䠨᤭଺౶ᘸ⢜ᡠỤ⍇拼ᷡ䘴ᡢ㣤䍏Р䦶挳㔭ᱺྈ䪎籬ዃⱈ汘▹妴娈漪獙㕲社凂ᧃヂ⎄䙸兼䐫ཫ瓑䣶䌵匏䑫⍃入屸㡮䖻ג嬵૶ဦᢣ੠坟ġ䋥呏ͥᆣՌ䧄墤ラ䆔晻拃嫪揋䉨ၬ➇ጩ坆举ⴲ姶刂ㄣࠣክ▦噙⡮❊ॉ愳湪ፓ坣㱑判ࠕ㢄䵩搅改፳埯ሺ⫥ᩩⒼဠ "
   },
   "outputs": [
    {
     "data": {
      "application/vnd.jupyter.widget-view+json": {
       "model_id": "e8ce76a43d8a4450989e030e80db121c",
       "version_major": 2,
       "version_minor": 0
      },
      "text/plain": [
       "PersistWidget(data_values=[{'__id_column': '1', 'Title': 'Super Mario 64 DS', 'Handheld?': True, 'Max Players'…"
      ]
     },
     "execution_count": 5,
     "metadata": {},
     "output_type": "execute_result"
    }
   ],
   "source": [
    "PR.PersistTable(df_task_1a, df_name=\"df_task_1b\")"
   ]
  },
  {
   "cell_type": "markdown",
   "id": "3875e7fc-ec40-4241-aa94-87b31e59944f",
   "metadata": {},
   "source": [
    "## **Task 1c: Correcting Data Type of 'Max Players'**"
   ]
  },
  {
   "cell_type": "markdown",
   "id": "7a7eebda-1b60-4bff-89d3-a5548a601b49",
   "metadata": {},
   "source": [
    "There is a data type issue in `Max Players` column of our dataframe. The column is a category column and should have the pandas dtype of `category`."
   ]
  },
  {
   "cell_type": "code",
   "execution_count": 6,
   "id": "fb9bff61-9a8d-4114-97f3-4f6d0cd0e61e",
   "metadata": {},
   "outputs": [
    {
     "data": {
      "text/plain": [
       "Title            string[python]\n",
       "Handheld                boolean\n",
       "Max Players      string[python]\n",
       "Multiplatform           boolean\n",
       "Online                  boolean\n",
       "Genres           string[python]\n",
       "Licensed                boolean\n",
       "Publishers       string[python]\n",
       "Sequel                  boolean\n",
       "Review Score              Int64\n",
       "Sales                   Float64\n",
       "Used Price              Float64\n",
       "Console                category\n",
       "Rating                 category\n",
       "Year                      Int64\n",
       "CT_Comp                 Float64\n",
       "CT_MainExtra            Float64\n",
       "CT_MainOnly             Float64\n",
       "dtype: object"
      ]
     },
     "execution_count": 6,
     "metadata": {},
     "output_type": "execute_result"
    }
   ],
   "source": [
    "df_task_1b.dtypes"
   ]
  },
  {
   "cell_type": "markdown",
   "id": "b23913ac-ea3c-4ca1-8ac3-07d3026ca76e",
   "metadata": {
    "__GENERATED_DATAFRAMES__": "{\"nodeDataframes\":{},\"graphDataframes\":null}",
    "show_aggregate_original": "false",
    "trrack_graph": "ᯡ࠽䈌ʀ匦㢠⹰ೠ↺΀Ơ瘢ᠢᠫ‵䁇ፉ䐢怣侽振ၑ䶃᪰঵䂆⹉多䪲┠অҤᴶṂ㊵嘊᭓ㄅ毠㒰䣑Tဠ㚉҃೨ɰ䂠̂҆;䘸Ϥၗ眼䋐Ð䬹†于␠㚠ᝨ沂烒⎁൸憈㬸ᐠṬү䓧Ⴠ椓ᣘ⌚ᆠᛦކ䜱ǁ䅀㖖नຂᩈ桫〦塵偢㶱⢠⾱䂅埦䖃塀㪂ₐ暸ᵽ䀳怠煼砤慸㴻ࠩ㯏姭ঌ䄢䣫䧙㱈刱ㄿᬦ䩫⏃㌱楫磤ⰴຣα晼ਫ䎁㺕䮃Ⴤご䖂᥂挰ы゙㈬ܠ₰ᑊІ僑汮ޯ戩䉱៪怡⹁ᡤ甑擸抯॰ᡬᅓ╄璚╄㈠ "
   },
   "source": [
    "#### **Instructions**\n",
    "1. **Convert `Max Players` column to category:**\n",
    "    - Use the column header to switch data type of the `Max Players` column.\n",
    "2. **`Edit Categories` pop-up:**\n",
    "    - Inspect the `Edit Categories` pop-up in the toolbar. Look for any redundant categories (e.g. both `1` and `1P`)\n",
    "3. **Edit and Correct Entries:**\n",
    "    - Search for the cells having the redundant option using the search box.\n",
    "    - Edit the cells to remove the trailing `P` (e.g. `1P` to `1`)\n",
    "3. **Verify the Output:**\n",
    "\t- Print the head of the generated dataframe to verify the changes."
   ]
  },
  {
   "cell_type": "code",
   "execution_count": 9,
   "id": "84bd3f29-2697-4f40-ab16-27f6540912aa",
   "metadata": {
    "__GENERATED_DATAFRAMES__": "ᯡࠩ䃬࿀ᜤᠹ悋ᐨ恑䐢犲ǩ怶恉宑召䵬ð䀲悠ᄡḡ沯妶ᠢ㠪癀ఄᐠ ",
    "__has_persist_output": true,
    "trrack_graph": "ᯡ࠽䈌ʀ匦㢠⹰ೠ↠䰠〳䏈ƀୠච⌺Ǹ䐹ⵌ䔂䜠晤怣䁋ጒ̹㣐燦䒴E䨲࢔沙ը⭵埈泭厯㽡懂†泰ĸ戾䠤傡%戠映ᮬᢛ䑁圌Უ瀡㜴ᥠ½⹨࡞প֠⅂ᆀヘतᙒرΫש䳁Ⅱ䷒ⱐᙸ䠠ᝠ梌睒ↀങↈ嬸ᐠṬҦⓂ戔㣨㡼☲┡䀶挫㔶₡僡ჳ宑зㄼᕲő堣ⷦ棡ᶨ䕠០悜妃−氱殻㡅䰸䐶怩瀠㭜㸜゜ᶯ䈮ᇘ㹇ഡ㋭኉̡䋰㠢ଡ扄╎ڣ䦰䑊Ḵ₀ⱪآグⱁ䓢ゐ㺗䰍ᅔ〶娂㡒ڈ䃇ࡄ䤴䚮䪅奼䢯䨵᱌ӆ⦀⽈⏬曥煤奊䦒夼佀⤴䋲峍⪸甯,ᐓ映㦻†ሐၣ*眹䁦䀼䀥䧀/ᇀv᣾ᡐ✡媭䩬ఈ䆍㸽Ὲ䆢㞭吅呡Ᾱ妋 絟⅟瀻佦䁄ત歨䌦₴⑞䆦䊹⥒̀嘐ᣪ਩䂸䋎¡䏁ᔣЀ㫙渹ጫ䐁䒒ણ⇰ెᖮ掑㱒dႨ㸺⺱槌㵂悃䌔屒¡ᥬ㍰Ẉ壔⬼玍塠笣䤏㦼玀匍㫽䜣ษრqତ凙滀ᐢҜ䄆䰥继ᬔ㲔䘃竲ᷕ夞ᐷȱᐠ䀿ᩥпᣣ焉䐦䆞᩠Ĕ䡀憢୻猘㣪楆侦Æ㵬Ⱥာ牁摃拁瑓ށ㱊਱灼梱ሥȐ㸸⃀⑫Š㈵Ⴐฯ䄰剰┰Å䂐ᐥ䈐ᰯ䂰ȴ⁑ဩݨ㐪Ũ㛥儁༷ں୪栠ᄶ䚠5┰䃘焲砽㏆瓰߅瑀攽④ᢆ稈䍉妞㿨֡ⶩㅪ㒫ᆛʠᶴㄆ僧⚩᷇⺯⏊ⵡӨ㘇䰫ᆉ䕫മⷙᘥⴙⶁ䈋ନ涻⼂ǥࠧ䪀ↇ椪慌⩋㙮⪋ᶀ治஁哬т ⪧旍ⴴŔ撕埔介垕ỗ台䛄䚕䰠㗔摄㒐⸬ㄠ浘䗐⧙䃐ᧀℨ慚愠偞Ꮼ砺ǁォ䍤搣Őі╁♒␀☴Ёᐩ䇡ⶶऌބ善㊧፨嶂吅䫀嘵櫏䚈厇✉㵟␸䩧݁寔憙箽䑝⭟畝柁愣杍眰圷砝俌ޝᾣ疹䂝恑᣹⁳朒咧䚣び䡢㩳ड⅘悠ⸯ䞃⚙侭嚔柒弢۳㪓ঠ梕掃䙾ࡂ‱ਃ刱楚ᢁ䃑ᬄ如笜塗⚇๗屩໧䎧ۀᰦʡ⤡A劉䟳एʍᨡᝄ㛾䡒།䅒‹䶺<䴤䲐㧨磎ㆈ秫⍌ㇱ烯Α措䂮嵝ᬾᦣ朲惝䠑眩᮸㇞䢄Ắ֞ကɠ䷤䕌ᩉ眒ῒ⡣啥ฺʖ桓䭬敎Ȱ惷伉䀯⑦㴤ᘈ⌏♪紬ҥ絼‌Ϡ琼䉲Ϥ⿫樊㚋済緻栉ᢟ›̀柦ᣣ㩧ඳ㣲⭶囲栎㏨嚺檷ᇅ搴˺᭡䃛⢕筫姭唉ⶼ犆ᗱ昰ˠ᫢䂢䒩᩿ᢈ஠偋梣ూ၎Ǩ琠ኂ⟠毬෻᭑㭓⫕ㆂᔢŊ䫭ⲵ⵵㕰㓱嚰ㆲ玃≄఼ˠದ₤潴ⓩクʺ癞捳ᘅ卛撆⺂ì朘ᾯ燹䠑缪䔓ຫ獇怶妩ˢ拱⋥汁᱃珖嬋س坜ᚎ❁⹭⵼嫪ⲕ喫汳媷㦑ᅐඑ宁爖撅䗻掜㩉ᐮʛᬡᠶԚ⇮劬ё喯ᡫண剮£ण㜬攎ッ湱⥼ϯ头႐吨珈㤂桉懰姭㱕ଡ଼䠥Ǐᴥ⁆ބ㘫⁼ࡀ簸⅘ౣ⑟ώྡྷ⢕ҿ㒥㔖䱤ᨥ榌ϲц☚㍂ڙҬ唆僁勴㇁ᨫ䍔᙮㘟䦉㴭勍㫵Õ悡⠵೐ᚌ倸琰㴊籒ކѢ㕔ڀ䆢恈࣠倸⊈൪ࡴ䢂ᤡ․⁀ᠦ䣐ѐ㑂೛ᴙ҅磝ฒ澏嗾ࠏ幯撜玽೺ጺၒ焃ḡ⁲ॠ焼☫੭䬼䱴㊹撅瀸丂⤖ヸ⟢糌槃徶瘔㎁瑭᫈冭3੎猴⌂朂目扢㻛囘⒘ヤ倠䥢₹ᕥ测׹嵋䈵㠺ʉ㔡⁉暲ċѹ١ㄤ䉐࠹䠬Āथ筿㇩➷䧽愵՛处Ӈ抨硴牰伺䪾ೄべ⒠зᗾ✢㺗杤̠ဠ⦲⁴⁀嘪჌凍⮡䕉秜䟭と渙棻඄乵ৎᆳ⨵历播⠕沿灙׀ǫ⊓䁙梁ܠ⁡͠璃䃛䣖㏄䆷⌒⩖䍛ʄぶӬ睭瓥䠹㈼ᧃኁ壗䎑㾤坖Ȕ١ၒⶸ䤶⛧䂁㓂礙⌃槝燼୍⣖⣱攽刟䯪੟䯠壤糉䓡ำக䛑眻㈚樲ৱ扌㧤ࡂ哸枪䪲獎✲⋭堦Ῐݵⓚ敨ɖܣ⑼⛀㾬ᡔຠᢣ䇲̳غ䢨习㽠ゕჅ漁⯽緽欂墛䩲⮯㕫╚䦾ⵥ悬䕌㘫墂傚䩢⪯╩╩睪䚮㓡ݣ催ᩃ⠅繬㠝᲌ᛰ⹍䡺且␠ "
   },
   "outputs": [
    {
     "data": {
      "application/vnd.jupyter.widget-view+json": {
       "model_id": "68ea495d4fa4492bba7c0063a9ac90a3",
       "version_major": 2,
       "version_minor": 0
      },
      "text/plain": [
       "PersistWidget(data_values=[{'__id_column': '1', 'Title': 'Super Mario 64 DS', 'Handheld': True, 'Max Players':…"
      ]
     },
     "execution_count": 9,
     "metadata": {},
     "output_type": "execute_result"
    }
   ],
   "source": [
    "PR.PersistTable(df_task_1b, df_name=\"df_task_1c\")"
   ]
  },
  {
   "cell_type": "code",
   "execution_count": 10,
   "id": "aba1589b-08b5-4d2e-b8b3-7aff458868b0",
   "metadata": {},
   "outputs": [
    {
     "data": {
      "text/html": [
       "<div>\n",
       "<style scoped>\n",
       "    .dataframe tbody tr th:only-of-type {\n",
       "        vertical-align: middle;\n",
       "    }\n",
       "\n",
       "    .dataframe tbody tr th {\n",
       "        vertical-align: top;\n",
       "    }\n",
       "\n",
       "    .dataframe thead th {\n",
       "        text-align: right;\n",
       "    }\n",
       "</style>\n",
       "<table border=\"1\" class=\"dataframe\">\n",
       "  <thead>\n",
       "    <tr style=\"text-align: right;\">\n",
       "      <th></th>\n",
       "      <th>Title</th>\n",
       "      <th>Handheld</th>\n",
       "      <th>Max Players</th>\n",
       "      <th>Multiplatform</th>\n",
       "      <th>Online</th>\n",
       "      <th>Genres</th>\n",
       "      <th>Licensed</th>\n",
       "      <th>Publishers</th>\n",
       "      <th>Sequel</th>\n",
       "      <th>Review Score</th>\n",
       "      <th>Sales</th>\n",
       "      <th>Used Price</th>\n",
       "      <th>Console</th>\n",
       "      <th>Rating</th>\n",
       "      <th>Year</th>\n",
       "      <th>CT_Comp</th>\n",
       "      <th>CT_MainExtra</th>\n",
       "      <th>CT_MainOnly</th>\n",
       "    </tr>\n",
       "  </thead>\n",
       "  <tbody>\n",
       "    <tr>\n",
       "      <th>0</th>\n",
       "      <td>Super Mario 64 DS</td>\n",
       "      <td>True</td>\n",
       "      <td>1</td>\n",
       "      <td>True</td>\n",
       "      <td>True</td>\n",
       "      <td>Action</td>\n",
       "      <td>True</td>\n",
       "      <td>Nintendo</td>\n",
       "      <td>True</td>\n",
       "      <td>85</td>\n",
       "      <td>4.69</td>\n",
       "      <td>24.95</td>\n",
       "      <td>Nintendo DS</td>\n",
       "      <td>E</td>\n",
       "      <td>2004</td>\n",
       "      <td>30.0</td>\n",
       "      <td>25.0</td>\n",
       "      <td>14.5</td>\n",
       "    </tr>\n",
       "    <tr>\n",
       "      <th>1</th>\n",
       "      <td>Lumines: Puzzle Fusion</td>\n",
       "      <td>True</td>\n",
       "      <td>1</td>\n",
       "      <td>True</td>\n",
       "      <td>True</td>\n",
       "      <td>Strategy</td>\n",
       "      <td>True</td>\n",
       "      <td>Ubisoft</td>\n",
       "      <td>True</td>\n",
       "      <td>89</td>\n",
       "      <td>0.56</td>\n",
       "      <td>14.95</td>\n",
       "      <td>Sony PSP</td>\n",
       "      <td>E</td>\n",
       "      <td>2004</td>\n",
       "      <td>-100.0</td>\n",
       "      <td>9.75</td>\n",
       "      <td>10.0</td>\n",
       "    </tr>\n",
       "    <tr>\n",
       "      <th>2</th>\n",
       "      <td>WarioWare Touched!</td>\n",
       "      <td>True</td>\n",
       "      <td>2</td>\n",
       "      <td>True</td>\n",
       "      <td>True</td>\n",
       "      <td>Action</td>\n",
       "      <td>True</td>\n",
       "      <td>Nintendo</td>\n",
       "      <td>True</td>\n",
       "      <td>81</td>\n",
       "      <td>0.54</td>\n",
       "      <td>22.95</td>\n",
       "      <td>Nintendo DS</td>\n",
       "      <td>E</td>\n",
       "      <td>2004</td>\n",
       "      <td>7.25</td>\n",
       "      <td>3.33</td>\n",
       "      <td>1.83</td>\n",
       "    </tr>\n",
       "    <tr>\n",
       "      <th>3</th>\n",
       "      <td>Hot Shots Golf: Open Tee</td>\n",
       "      <td>True</td>\n",
       "      <td>1</td>\n",
       "      <td>True</td>\n",
       "      <td>True</td>\n",
       "      <td>Sports</td>\n",
       "      <td>True</td>\n",
       "      <td>Sony</td>\n",
       "      <td>True</td>\n",
       "      <td>81</td>\n",
       "      <td>0.49</td>\n",
       "      <td>12.95</td>\n",
       "      <td>Sony PSP</td>\n",
       "      <td>E</td>\n",
       "      <td>2004</td>\n",
       "      <td>-100.0</td>\n",
       "      <td>-100.0</td>\n",
       "      <td>-100.0</td>\n",
       "    </tr>\n",
       "    <tr>\n",
       "      <th>4</th>\n",
       "      <td>Spider-Man 2</td>\n",
       "      <td>True</td>\n",
       "      <td>1</td>\n",
       "      <td>True</td>\n",
       "      <td>True</td>\n",
       "      <td>Action</td>\n",
       "      <td>True</td>\n",
       "      <td>Activision</td>\n",
       "      <td>True</td>\n",
       "      <td>61</td>\n",
       "      <td>0.45</td>\n",
       "      <td>14.95</td>\n",
       "      <td>Nintendo DS</td>\n",
       "      <td>E</td>\n",
       "      <td>2004</td>\n",
       "      <td>72.57</td>\n",
       "      <td>12.5</td>\n",
       "      <td>8.0</td>\n",
       "    </tr>\n",
       "  </tbody>\n",
       "</table>\n",
       "</div>"
      ],
      "text/plain": [
       "                      Title  Handheld Max Players  Multiplatform  Online  \\\n",
       "0         Super Mario 64 DS      True           1           True    True   \n",
       "1    Lumines: Puzzle Fusion      True           1           True    True   \n",
       "2        WarioWare Touched!      True           2           True    True   \n",
       "3  Hot Shots Golf: Open Tee      True           1           True    True   \n",
       "4              Spider-Man 2      True           1           True    True   \n",
       "\n",
       "     Genres  Licensed  Publishers  Sequel  Review Score  Sales  Used Price  \\\n",
       "0    Action      True    Nintendo    True            85   4.69       24.95   \n",
       "1  Strategy      True     Ubisoft    True            89   0.56       14.95   \n",
       "2    Action      True    Nintendo    True            81   0.54       22.95   \n",
       "3    Sports      True        Sony    True            81   0.49       12.95   \n",
       "4    Action      True  Activision    True            61   0.45       14.95   \n",
       "\n",
       "       Console Rating  Year  CT_Comp  CT_MainExtra  CT_MainOnly  \n",
       "0  Nintendo DS      E  2004     30.0          25.0         14.5  \n",
       "1     Sony PSP      E  2004   -100.0          9.75         10.0  \n",
       "2  Nintendo DS      E  2004     7.25          3.33         1.83  \n",
       "3     Sony PSP      E  2004   -100.0        -100.0       -100.0  \n",
       "4  Nintendo DS      E  2004    72.57          12.5          8.0  "
      ]
     },
     "execution_count": 10,
     "metadata": {},
     "output_type": "execute_result"
    }
   ],
   "source": [
    "df_task_1c.head()"
   ]
  },
  {
   "cell_type": "markdown",
   "id": "753ed0a8-dc0b-4ac8-8afd-b554ea8f4d28",
   "metadata": {},
   "source": [
    "# Task 2: Filtering data\n",
    "\n",
    "In Task 2, we further improve our data by removing outliers and removing certain records to have more consistent data. "
   ]
  },
  {
   "cell_type": "markdown",
   "id": "7f25d8f5-98e8-4b0f-9358-ed85f77cbed8",
   "metadata": {},
   "source": [
    "## **Task 2a: Remove Outliers**"
   ]
  },
  {
   "cell_type": "markdown",
   "id": "ac53a605-2d10-4457-9625-70ce88f04f3b",
   "metadata": {},
   "source": [
    "In this task, we address data accuracy by filtering out anomalies in the completion time for the main story of game. We observe some records with negative values for completion time, which is obviously incorrect data.\n",
    "\n",
    "**Remove records with negative completion time.**"
   ]
  },
  {
   "cell_type": "markdown",
   "id": "664c641e-1193-4233-8897-0161f209c86f",
   "metadata": {},
   "source": [
    "#### **Instructions**\n",
    "1. **Identify and Remove Anomalies:**\n",
    "    - Interactively select data points negative value for `CT_MainOnly`.\n",
    "    - Use Persist's interactive features to remove these anomalous records.\n",
    "2. **Verify the Output:**\n",
    "    - Print the head of the generated dataframe to verify the changes."
   ]
  },
  {
   "cell_type": "code",
   "execution_count": 12,
   "id": "9f84d347-8ce1-48d8-84a9-478d7eae3bd6",
   "metadata": {
    "__GENERATED_DATAFRAMES__": "ᯡࠩ䃬࿀ᜤᠹ悋ᐤ推̅ሣ䧠ⶠ卍捯ᥔᠣ℠▢dʘϔᝠ捌〤瀵摠៨⠠ ",
    "__has_persist_output": true,
    "trrack_graph": "ᯡ࠽䈌ʀ匦㢠⹰Ӡଠ暈ච丣ᠠ〫‸涠้䗀ც૤ɐ宦戧㐂䎹奘ⶠᆣႲ⠠䭈⑁棑焳ᓍ❡始㭎ẜΦ䒠ǁ#㗄挸晠ኤРᝣၐüムṁǟ㤔䀥䉸攠ʓ㥀ǔ₤ɓℴ5䱡䗃⃊ࡑⓤ媌㲛ᡢ䓭䓀牰ジ†嵃ㆫ䋩ࡤ㕅۱沀倠祐ሰ䎰䟱Ⅲਲ਼凑硦{ఽ嚼∫⌤䍭汄ၽ䒐啨শ怭㜽匤療ᔠ彃Ȓ祔䞀䝼淡ᚁ㎖o#䨓瀃Ձ淜⁄睃䴅兌搨Ձ䡰琧ணℨੑັ䄲碜⑂斁㑑ʠ憘䊦஧䒸ᙃ䬐粄⚬˲㱮㩱䴷憂Ҳ⊳⑒Ⲯ➲ࠪ⊥ɰ僪姄ᨄ㎹䓒⪱凲䳖⮶ሒ䋑⩷ᗊ㌽⨀ƴᘿ嗅 Р゠ˀЈÒ婀᧶᡾絠Ŭℭҝ⻡Ћ䐡䀩⁓當஢↠Ď綆婠䅢ݰ䶥㯽嘷夅咡似ώ嶜°⨳ⵂᡁӥ战磆ⓡ⃀娭௦搙⠳ԋ㑪ᠡ⌠恐楆朐᳼ཌ䦡怨቙ա刈䘫ۤ燘幟ࡁࣤ䛓⟌痚廟⡑痐วŒ䲆炜棑㑶ᴆ淐䄖α枓ᴆ情武嶎න䜢䢀H嗛国⁈Ȭ㤸5昡羃䎘Ḻⴓ幯䈢㭛ဃŰℲ䀨ܐ摰䜒䱲ԑౘ᠀搠཮⒐䠢֬″ͳ൮䳮ਸ਼䍜ص䉨常⍁ᆦ≈䲭䇨᭠ᥒԨᖐബ䤋ň䨂Ԩ⁘㱣ȐႢ䅨ᐤၠⴲŰ䲯⇄⸲樐枠≘䤰㎆ু㓍ᠣ㑾Ѥ甚Ʃ璤'⃁焼䳼ᰨ撄ᑆ栕乀ㄬ憤㔙愰䞩皎A㠯Ј䈱Ꮂ⠸斁発ܫᆁګ亜䵙⪚䴑᪃䆂穸ׁፂགྷᑺ㎕䄪䡐瑦䪠媌৳ѣ怪▇ཹ⁐ࢰ㷃䃡ư⊝⁏⣑則䅓ᛕ匡㚦ぜ᪨ Ẅ娮塵る畃⯠ۡ呗ہ᪈ⳓ㋪ᣤ㦉᲻ê㼁᫨㒖㇯◎㷨Ⴞ⃧Щ⥏怱㖓◑⃦ׁ㥌絑㹯怵ᔅᳵⵯ冓໋断⽪メါ䂞ᓶḌ㐳㔰巡䃡಩⦻ᰅ紟ဳ夞䌢䊝䅤໪ғ⤃卢乚ᚗ桗䛅㢀䡡庙䃒ᙅ䳐嚈૔稼ᛗ噰ᇖ㛍䒌䤋⮼ᙬᣖ゜狑䃵塻噢ǖ恭峤䮮ᓧᢀ䎏రᗠᩴ㝳㔚䯉䄃Ģᡩ䟕痦ᗄ喭ፑҁ༆槹䟓ਢִ䬌噲爪䞲⬜䕵碫䷆⺨߃琨傁₤ṅ䉛媅䰧廢ị*泛ᾄᲀ㴃帲ଁ岙瘕䂿䌦结ᐪ筀ᠨ㜻ᰬ㱰⊴碐Å⎀屁唬⛹ᯬ㘹$㸼⏨礊新瑆ᯎػ壚Ⲟ㗛⚟Ⅳ憞楫炬ᗥ㶜ဓ撙澚⣨ὀᆨ㻧禚ᅫ㟘据旹ⴰ掜慷熙後㒯⍐⽕愔৫塍̂كₘ䑀污઴ԉ冨ば᧫示À㐖效㟊糆ṰŁ℺熯ᗈ悤ȡΥᵗ㈘㾠Ԏ੭擾‧ॣ݊䆮ڤ亍Ƽ㴦၌歰悥ȉ̚氯㇨㾄⡁慰凮倳䗁厷ℇ២Ðℛಥ䬾㑶独囊扌᫬ⳕ䉹嬪䤠  "
   },
   "outputs": [
    {
     "data": {
      "application/vnd.jupyter.widget-view+json": {
       "model_id": "34451b089e16453094fd5ae6a7c83c44",
       "version_major": 2,
       "version_minor": 0
      },
      "text/plain": [
       "PersistWidget(data_values=[{'__id_column': '1', 'Title': 'Super Mario 64 DS', 'Handheld': True, 'Max Players':…"
      ]
     },
     "execution_count": 12,
     "metadata": {},
     "output_type": "execute_result"
    }
   ],
   "source": [
    "PR.plot.scatterplot(df_task_1c, \"CT_MainOnly:Q\", \"Review Score:Q\", df_name=\"df_task_2a\")"
   ]
  },
  {
   "cell_type": "code",
   "execution_count": 13,
   "id": "9b4c8551-1e23-4e00-9d97-bcc2f6d1a6fe",
   "metadata": {},
   "outputs": [
    {
     "data": {
      "text/html": [
       "<div>\n",
       "<style scoped>\n",
       "    .dataframe tbody tr th:only-of-type {\n",
       "        vertical-align: middle;\n",
       "    }\n",
       "\n",
       "    .dataframe tbody tr th {\n",
       "        vertical-align: top;\n",
       "    }\n",
       "\n",
       "    .dataframe thead th {\n",
       "        text-align: right;\n",
       "    }\n",
       "</style>\n",
       "<table border=\"1\" class=\"dataframe\">\n",
       "  <thead>\n",
       "    <tr style=\"text-align: right;\">\n",
       "      <th></th>\n",
       "      <th>Title</th>\n",
       "      <th>Handheld</th>\n",
       "      <th>Max Players</th>\n",
       "      <th>Multiplatform</th>\n",
       "      <th>Online</th>\n",
       "      <th>Genres</th>\n",
       "      <th>Licensed</th>\n",
       "      <th>Publishers</th>\n",
       "      <th>Sequel</th>\n",
       "      <th>Review Score</th>\n",
       "      <th>Sales</th>\n",
       "      <th>Used Price</th>\n",
       "      <th>Console</th>\n",
       "      <th>Rating</th>\n",
       "      <th>Year</th>\n",
       "      <th>CT_Comp</th>\n",
       "      <th>CT_MainExtra</th>\n",
       "      <th>CT_MainOnly</th>\n",
       "    </tr>\n",
       "  </thead>\n",
       "  <tbody>\n",
       "    <tr>\n",
       "      <th>0</th>\n",
       "      <td>Super Mario 64 DS</td>\n",
       "      <td>True</td>\n",
       "      <td>1</td>\n",
       "      <td>True</td>\n",
       "      <td>True</td>\n",
       "      <td>Action</td>\n",
       "      <td>True</td>\n",
       "      <td>Nintendo</td>\n",
       "      <td>True</td>\n",
       "      <td>85</td>\n",
       "      <td>4.69</td>\n",
       "      <td>24.95</td>\n",
       "      <td>Nintendo DS</td>\n",
       "      <td>E</td>\n",
       "      <td>2004</td>\n",
       "      <td>30.0</td>\n",
       "      <td>25.0</td>\n",
       "      <td>14.5</td>\n",
       "    </tr>\n",
       "    <tr>\n",
       "      <th>1</th>\n",
       "      <td>Lumines: Puzzle Fusion</td>\n",
       "      <td>True</td>\n",
       "      <td>1</td>\n",
       "      <td>True</td>\n",
       "      <td>True</td>\n",
       "      <td>Strategy</td>\n",
       "      <td>True</td>\n",
       "      <td>Ubisoft</td>\n",
       "      <td>True</td>\n",
       "      <td>89</td>\n",
       "      <td>0.56</td>\n",
       "      <td>14.95</td>\n",
       "      <td>Sony PSP</td>\n",
       "      <td>E</td>\n",
       "      <td>2004</td>\n",
       "      <td>-100.0</td>\n",
       "      <td>9.75</td>\n",
       "      <td>10.0</td>\n",
       "    </tr>\n",
       "    <tr>\n",
       "      <th>2</th>\n",
       "      <td>WarioWare Touched!</td>\n",
       "      <td>True</td>\n",
       "      <td>2</td>\n",
       "      <td>True</td>\n",
       "      <td>True</td>\n",
       "      <td>Action</td>\n",
       "      <td>True</td>\n",
       "      <td>Nintendo</td>\n",
       "      <td>True</td>\n",
       "      <td>81</td>\n",
       "      <td>0.54</td>\n",
       "      <td>22.95</td>\n",
       "      <td>Nintendo DS</td>\n",
       "      <td>E</td>\n",
       "      <td>2004</td>\n",
       "      <td>7.25</td>\n",
       "      <td>3.33</td>\n",
       "      <td>1.83</td>\n",
       "    </tr>\n",
       "    <tr>\n",
       "      <th>3</th>\n",
       "      <td>Spider-Man 2</td>\n",
       "      <td>True</td>\n",
       "      <td>1</td>\n",
       "      <td>True</td>\n",
       "      <td>True</td>\n",
       "      <td>Action</td>\n",
       "      <td>True</td>\n",
       "      <td>Activision</td>\n",
       "      <td>True</td>\n",
       "      <td>61</td>\n",
       "      <td>0.45</td>\n",
       "      <td>14.95</td>\n",
       "      <td>Nintendo DS</td>\n",
       "      <td>E</td>\n",
       "      <td>2004</td>\n",
       "      <td>72.57</td>\n",
       "      <td>12.5</td>\n",
       "      <td>8.0</td>\n",
       "    </tr>\n",
       "    <tr>\n",
       "      <th>4</th>\n",
       "      <td>The Urbz: Sims in the City</td>\n",
       "      <td>True</td>\n",
       "      <td>1</td>\n",
       "      <td>True</td>\n",
       "      <td>True</td>\n",
       "      <td>Simulation</td>\n",
       "      <td>True</td>\n",
       "      <td>EA</td>\n",
       "      <td>True</td>\n",
       "      <td>67</td>\n",
       "      <td>0.41</td>\n",
       "      <td>12.95</td>\n",
       "      <td>Nintendo DS</td>\n",
       "      <td>M</td>\n",
       "      <td>2004</td>\n",
       "      <td>30.03</td>\n",
       "      <td>20.0</td>\n",
       "      <td>15.5</td>\n",
       "    </tr>\n",
       "  </tbody>\n",
       "</table>\n",
       "</div>"
      ],
      "text/plain": [
       "                        Title  Handheld  Max Players  Multiplatform  Online  \\\n",
       "0           Super Mario 64 DS      True            1           True    True   \n",
       "1      Lumines: Puzzle Fusion      True            1           True    True   \n",
       "2          WarioWare Touched!      True            2           True    True   \n",
       "3                Spider-Man 2      True            1           True    True   \n",
       "4  The Urbz: Sims in the City      True            1           True    True   \n",
       "\n",
       "       Genres  Licensed  Publishers  Sequel  Review Score  Sales  Used Price  \\\n",
       "0      Action      True    Nintendo    True            85   4.69       24.95   \n",
       "1    Strategy      True     Ubisoft    True            89   0.56       14.95   \n",
       "2      Action      True    Nintendo    True            81   0.54       22.95   \n",
       "3      Action      True  Activision    True            61   0.45       14.95   \n",
       "4  Simulation      True          EA    True            67   0.41       12.95   \n",
       "\n",
       "       Console Rating  Year  CT_Comp  CT_MainExtra  CT_MainOnly  \n",
       "0  Nintendo DS      E  2004     30.0          25.0         14.5  \n",
       "1     Sony PSP      E  2004   -100.0          9.75         10.0  \n",
       "2  Nintendo DS      E  2004     7.25          3.33         1.83  \n",
       "3  Nintendo DS      E  2004    72.57          12.5          8.0  \n",
       "4  Nintendo DS      M  2004    30.03          20.0         15.5  "
      ]
     },
     "execution_count": 13,
     "metadata": {},
     "output_type": "execute_result"
    }
   ],
   "source": [
    "df_task_2a.head()"
   ]
  },
  {
   "cell_type": "markdown",
   "id": "b447b862-90c6-4ed7-b48b-baa1cf74ac2d",
   "metadata": {
    "__GENERATED_DATAFRAMES__": "{\"nodeDataframes\":{},\"graphDataframes\":null}",
    "show_aggregate_original": "false",
    "trrack_graph": "ᯡ࠽䈌ʀ匦㢠⹰࣠✴ƀචآ൐ୠᣠ⭎¸䚀ᶥ<⋵攴≲䦆ᨐ҅䁲䥈kᑄᄈ夒ર囇⣹嗛➎帣ᢤ䀡傠Ǘ熠㥀ॢȠா䠸ᢀ㜰䁾巒•橀樠Ꮃ䤠ව׷核ᱬ䣘紲₞૦Ԡ޳ŀ凐栠晬╍ಲ䖽䂇栢沀團ᄰ㸸ሪ喊Ⴇ♁䐔粶ᦞΎ刺ࠥ簉窺簲ᖢොሧ҉䃵ⰡḠޅ毗䘤䗾墥୚渍磆搰㣄䆯䌭䊣ᎄ䢩妈䪑䴹ҩ䋫◂რ⢒ઉ⃁⽌囦媍ኘ垤䢠䍤⒂Йᘷ੡䄀҂Ქ⃱琿啡憐㲞ၯ䌨焠ᗿ搫໎㒫ல熪Ņ⎃ऺᥛ⃄ᅠ  "
   },
   "source": [
    "## **Task 2b: Filtering Out Old Data**"
   ]
  },
  {
   "cell_type": "markdown",
   "id": "c86b30d4-4762-4bc0-bfd3-6f1486b55ad6",
   "metadata": {
    "__GENERATED_DATAFRAMES__": "{\"nodeDataframes\":{},\"graphDataframes\":null}",
    "show_aggregate_original": "false",
    "trrack_graph": "ᯡ࠽䈌ʀ匦㢠⹰࣠✴ƀචآ൐ୠᣠ⭎¸䚀ᶥ<⋵攴≲䦆ᨐ҅䁲䥈kᑄᄈ夒ર囇⣹嗛➎帣ᢤ䀡傠Ǘ熠㥀ॢȠா䠸ᢀ㜰䁾巒•橀樠Ꮃ䤠ව׷核ᱬ䣘紲₞૦Ԡ޳ŀ凐栠晬╍ಲ䖽䂇栢沀團ᄰ㸸ሪ喊Ⴇ♁䐔粶ᦞΎ刺ࠥ簉窺簲ᖢොሧ҉䃵ⰡḠޅ毗䘤䗾墥୚渍磆搰㣄䆯䌭䊣ᎄ䢩妈䪑䴹ҩ䋫◂რ⢒ઉ⃁⽌囦媍ኘ垤䢠䍤⒂Йᘷ੡䄀҂Ქ⃱琿啡憐㲞ၯ䌨焠ᗿ搫໎㒫ல熪Ņ⎃ऺᥛ⃄ᅠ  "
   },
   "source": [
    "The interactive barchart below, shows the data aggregated by year. There are noticeably fewer records for `2004` and `2005`.\n",
    "\n",
    "During this subtask we will remove these older records, keeping only the records post 2006."
   ]
  },
  {
   "cell_type": "markdown",
   "id": "24b308e8-8437-4146-9ebf-cd121aeb7f9f",
   "metadata": {},
   "source": [
    "#### **Instructions**\n",
    "1. **Analyze the Bar Chart:**\n",
    "    - Identify the bars that have less than 200 records.\n",
    "2. **Filter Year:**\n",
    "    - Select and remove the years with few records.\n",
    "3. **Verify the Output:**\n",
    "    - Print the head of the generated dataframe to verify the changes."
   ]
  },
  {
   "cell_type": "code",
   "execution_count": 15,
   "id": "1ff923c8-1008-4d36-ab1c-625171d90d47",
   "metadata": {
    "__GENERATED_DATAFRAMES__": "ᯡࠩ䃬࿀ᜤᠹ悋ᐤ怱䐢犲ǩ怶恉宑召䵬ð䀲悠ᄡḡ沯偑嬸Ř˛ࠥ笪  ",
    "__has_persist_output": true,
    "trrack_graph": "ᯡ࠽䈌ʀ匦㢠⹰ૠ✡آ〣䚡䳐୥䍜䐢懢䕥兿Č∣〬㇭䀬ᙺ盥ᙎⓀŌ傰䏆揨≬䵅㕺穭ⱛ㬗琼ဦ䈠ۣ1䘡撠┨ࠠ⹁窀ǘ憣屢֖绨ᬠୱ͈3䗩-儡䐃熭೺䩎๑労旧…ㅣࣙ䘸䘠⌦ත৯䃡\"瘔ٮ㍄᝞䶤ᆣㆢ䀣擠䤙㣎≶὇࣮䯧栢沀㜅搰ظሪ㎊Ⴂ癁䋊⃦欠㖸挨ᷞࣈ̛瘖䮅㘻Ⱥ掎࣓ıøŜ.䠗ᾬර㜑Բ峾⎣ݐ朂⒫ˠ⢬ᨢ䑩ࡼ㸦Šቈ㹨䏩慄ጦِ夘㴸晐烾⯣璱ᩐୱ癙椮㑶ឫ慩੦ͩ傹㙷၉੅ᬬ劘∎ᑦᎨЩ⭂䕨㉹≇䱋ૅ㥺兑欎9⚁絺⠠`ʋ⥡ỀÂࣘਾ厀䄕୪$厙㕀㷧Ί垏࿠ଥ⅕䐯悴఺ጲ䅣ᒔ徧←ᠬ㍂䃑〪ජ䁱榒䎆簌⹗੩䌀҂ᒮⅰ⇵᦮抐㱞dᆛ䵽㏍欕綜䴯䣢㢑劍᪠猥䗌嫍殝஁̍筣圊㫬䄫䣍㤽穘ᱣ!⋱ໆ甡‰ጄ\"峠己损岉⟙ᨑÓᬿ䰭Ϣ値ܔ䡢㞱䛤㸔小䥀Ȉ垣灐ߕ瞔㕇啙俋瞑濇眜㞫␝湟炥稨ᄣ垺ˠⰬߩᆫӥ兂䃁㱍ǡ礶ʠ䑚≄㡫Ό㠮ठ偨Ɲሦʠሯ牢fണ䁠䦸䛞木ᚥױ皩斃沛䔃岂৑䡨ࠜ怦¹ɸऔ㚰Ↄ㩔ं岗䘜悠ⅆ䪝޸Ա㧗䟡∹䊠㜸┠๳䲰⊎䲉㹟㝴†ēጏᬓ⹌⎇爐᱃Ԃ㉫瑈ˁ᱇Ὣㅐ㚂ᥜ⥨ǦࡀẐ០Ě⁝ڢ⅄Ȣ嚨ႁ烇攜㾠૘ପቨ椠姨拤䝈㨡䁶ഺ守㫦㣴本ఄ᧰ᤀ惶䂀ヸ䇆⣭æ㣪Fⓥᧆ廼周眢㕭僼ᯭ㘺᫦ᩅ㙆ᠹ᫆瓻愸匬࢘ᠬだ朿⮡ᵭ刊孑瑀ܹ拚အ搸䫋氘䂤ጮ䳻ᰝ兩䡪ᙹ፪癶⮒㲱Ⱂ䅱偖㚩婀ắ勖㡽ၑ滪ㅜ绶戮ᖿ㦮ৠ犾㎮㪨䮱㫼旵㢎摪玎ဤ竓歗俌㏡牾გ⋾篤喢坕ᗞ䟙瑁ፅԅ㳐唡᥍ᒤ⟙挹幅ֹଢ଼⻫ⶁ⼋ᕍ⒉䎖׫涓ᝉ翲ᘉ͊沞⊤涅ᑘ咠ޝ戣悒沠㡕洋瞅◁⾔坾屋̸梧䄰憧Ǆ楿᐀䱯ৄ⸱䈄ᠱ䃢ਰ叄䞆ⷩ೑◻⠴₤⮨㩹眢>㬸炌澷琜ૉ堀ᛟ᫨⋡ⅈ㋧埈⫫⋶愨㛴にϲĚ挆囇忨ያ垶∓⃶ᴫ栾₼༆巟¦ᧀ癦⏑㒽磼白ළ䔠  "
   },
   "outputs": [
    {
     "data": {
      "application/vnd.jupyter.widget-view+json": {
       "model_id": "2c548df43dd8493f8ff81c9e170eed22",
       "version_major": 2,
       "version_minor": 0
      },
      "text/plain": [
       "PersistWidget(data_values=[{'__id_column': '1', 'Title': 'Super Mario 64 DS', 'Handheld': True, 'Max Players':…"
      ]
     },
     "execution_count": 15,
     "metadata": {},
     "output_type": "execute_result"
    }
   ],
   "source": [
    "PR.plot.barchart(df_task_2a, \"Year:O\", \"count()\", selection_type=\"interval\", df_name=\"df_task_2b\")"
   ]
  },
  {
   "cell_type": "code",
   "execution_count": 16,
   "id": "974739fe-b3de-4aac-bcb4-dce81adf9d66",
   "metadata": {},
   "outputs": [
    {
     "data": {
      "text/html": [
       "<div>\n",
       "<style scoped>\n",
       "    .dataframe tbody tr th:only-of-type {\n",
       "        vertical-align: middle;\n",
       "    }\n",
       "\n",
       "    .dataframe tbody tr th {\n",
       "        vertical-align: top;\n",
       "    }\n",
       "\n",
       "    .dataframe thead th {\n",
       "        text-align: right;\n",
       "    }\n",
       "</style>\n",
       "<table border=\"1\" class=\"dataframe\">\n",
       "  <thead>\n",
       "    <tr style=\"text-align: right;\">\n",
       "      <th></th>\n",
       "      <th>Title</th>\n",
       "      <th>Handheld</th>\n",
       "      <th>Max Players</th>\n",
       "      <th>Multiplatform</th>\n",
       "      <th>Online</th>\n",
       "      <th>Genres</th>\n",
       "      <th>Licensed</th>\n",
       "      <th>Publishers</th>\n",
       "      <th>Sequel</th>\n",
       "      <th>Review Score</th>\n",
       "      <th>Sales</th>\n",
       "      <th>Used Price</th>\n",
       "      <th>Console</th>\n",
       "      <th>Rating</th>\n",
       "      <th>Year</th>\n",
       "      <th>CT_Comp</th>\n",
       "      <th>CT_MainExtra</th>\n",
       "      <th>CT_MainOnly</th>\n",
       "    </tr>\n",
       "  </thead>\n",
       "  <tbody>\n",
       "    <tr>\n",
       "      <th>0</th>\n",
       "      <td>Wii Play</td>\n",
       "      <td>True</td>\n",
       "      <td>2</td>\n",
       "      <td>True</td>\n",
       "      <td>True</td>\n",
       "      <td>Action</td>\n",
       "      <td>True</td>\n",
       "      <td>Nintendo</td>\n",
       "      <td>True</td>\n",
       "      <td>58</td>\n",
       "      <td>14.66</td>\n",
       "      <td>14.95</td>\n",
       "      <td>Nintendo Wii</td>\n",
       "      <td>T</td>\n",
       "      <td>2006</td>\n",
       "      <td>-100.0</td>\n",
       "      <td>11.42</td>\n",
       "      <td>4.0</td>\n",
       "    </tr>\n",
       "    <tr>\n",
       "      <th>1</th>\n",
       "      <td>New Super Mario Bros.</td>\n",
       "      <td>True</td>\n",
       "      <td>1</td>\n",
       "      <td>True</td>\n",
       "      <td>True</td>\n",
       "      <td>Action</td>\n",
       "      <td>True</td>\n",
       "      <td>Nintendo</td>\n",
       "      <td>True</td>\n",
       "      <td>89</td>\n",
       "      <td>10.03</td>\n",
       "      <td>27.95</td>\n",
       "      <td>Nintendo DS</td>\n",
       "      <td>T</td>\n",
       "      <td>2006</td>\n",
       "      <td>15.5</td>\n",
       "      <td>10.0</td>\n",
       "      <td>7.0</td>\n",
       "    </tr>\n",
       "    <tr>\n",
       "      <th>2</th>\n",
       "      <td>Pokmon Diamond</td>\n",
       "      <td>True</td>\n",
       "      <td>1</td>\n",
       "      <td>True</td>\n",
       "      <td>True</td>\n",
       "      <td>Role-Playing (RPG)</td>\n",
       "      <td>True</td>\n",
       "      <td>Nintendo</td>\n",
       "      <td>True</td>\n",
       "      <td>85</td>\n",
       "      <td>6.77</td>\n",
       "      <td>27.95</td>\n",
       "      <td>Nintendo DS</td>\n",
       "      <td>E</td>\n",
       "      <td>2006</td>\n",
       "      <td>220.0</td>\n",
       "      <td>80.0</td>\n",
       "      <td>41.92</td>\n",
       "    </tr>\n",
       "    <tr>\n",
       "      <th>3</th>\n",
       "      <td>Pokmon Pearl</td>\n",
       "      <td>True</td>\n",
       "      <td>1</td>\n",
       "      <td>True</td>\n",
       "      <td>True</td>\n",
       "      <td>Role-Playing (RPG)</td>\n",
       "      <td>True</td>\n",
       "      <td>Nintendo</td>\n",
       "      <td>True</td>\n",
       "      <td>85</td>\n",
       "      <td>6.77</td>\n",
       "      <td>26.95</td>\n",
       "      <td>Nintendo DS</td>\n",
       "      <td>E</td>\n",
       "      <td>2006</td>\n",
       "      <td>220.0</td>\n",
       "      <td>80.0</td>\n",
       "      <td>41.92</td>\n",
       "    </tr>\n",
       "    <tr>\n",
       "      <th>4</th>\n",
       "      <td>Gears of War</td>\n",
       "      <td>True</td>\n",
       "      <td>2</td>\n",
       "      <td>True</td>\n",
       "      <td>True</td>\n",
       "      <td>Action</td>\n",
       "      <td>True</td>\n",
       "      <td>Microsoft</td>\n",
       "      <td>True</td>\n",
       "      <td>94</td>\n",
       "      <td>3.7</td>\n",
       "      <td>19.95</td>\n",
       "      <td>X360</td>\n",
       "      <td>M</td>\n",
       "      <td>2006</td>\n",
       "      <td>15.0</td>\n",
       "      <td>11.0</td>\n",
       "      <td>9.0</td>\n",
       "    </tr>\n",
       "  </tbody>\n",
       "</table>\n",
       "</div>"
      ],
      "text/plain": [
       "                   Title  Handheld  Max Players  Multiplatform  Online  \\\n",
       "0               Wii Play      True            2           True    True   \n",
       "1  New Super Mario Bros.      True            1           True    True   \n",
       "2         Pokmon Diamond      True            1           True    True   \n",
       "3           Pokmon Pearl      True            1           True    True   \n",
       "4           Gears of War      True            2           True    True   \n",
       "\n",
       "               Genres  Licensed Publishers  Sequel  Review Score  Sales  \\\n",
       "0              Action      True   Nintendo    True            58  14.66   \n",
       "1              Action      True   Nintendo    True            89  10.03   \n",
       "2  Role-Playing (RPG)      True   Nintendo    True            85   6.77   \n",
       "3  Role-Playing (RPG)      True   Nintendo    True            85   6.77   \n",
       "4              Action      True  Microsoft    True            94    3.7   \n",
       "\n",
       "   Used Price       Console Rating  Year  CT_Comp  CT_MainExtra  CT_MainOnly  \n",
       "0       14.95  Nintendo Wii      T  2006   -100.0         11.42          4.0  \n",
       "1       27.95   Nintendo DS      T  2006     15.5          10.0          7.0  \n",
       "2       27.95   Nintendo DS      E  2006    220.0          80.0        41.92  \n",
       "3       26.95   Nintendo DS      E  2006    220.0          80.0        41.92  \n",
       "4       19.95          X360      M  2006     15.0          11.0          9.0  "
      ]
     },
     "execution_count": 16,
     "metadata": {},
     "output_type": "execute_result"
    }
   ],
   "source": [
    "df_task_2b.head()"
   ]
  },
  {
   "cell_type": "markdown",
   "id": "db8fdc8b-168e-40e2-861c-d23095a4a8d8",
   "metadata": {},
   "source": [
    "## **Task 2c: Identifying top publishers for _'Racing'_ and _'RPG'_**"
   ]
  },
  {
   "cell_type": "markdown",
   "id": "dd956e34-f1c9-40d3-8702-a2a84e304ca9",
   "metadata": {},
   "source": [
    "#### **Instructions**\n",
    "1. **Context:**\n",
    "    - You are given two linked interactive bar charts: one for `Genres` (the major genre the game belongs to) and another for `Publishers` (the company which published the game first).\n",
    "    - Both bar charts show `count` for their respective categories.\n",
    "    - You can click on a genre in the `Genres` bar chart and the `Publishers`' bar chart dynamically updates to show only games corresponding to the selected genres.\n",
    "2. **Identify the top publisher for _'Racing'_ and _'RPG'_:**\n",
    "    - Analyze the filtered `Publishers` bar chart to determine the top publisher for the two genres and make a note in a markdown cell about both the name of the publisher and number of games published for each."
   ]
  },
  {
   "cell_type": "code",
   "execution_count": 25,
   "id": "cc5d9169-1db8-4bb2-be70-1cd1be548705",
   "metadata": {
    "__GENERATED_DATAFRAMES__": "ᯡࠣ䅬Ԁ朤壠ᜣ琢〹夥゠⹰〮⁁䁻қ䚾ኊ㇠നСࠩ瀮晼Ƭ穅5愠៤⠠ ",
    "__has_persist_output": true,
    "trrack_graph": "ᯡ࠽䈌ʀ匦㢠⹰à✡䙈֭ϐڀୠ⁖ډ໥ᓥ倩䷖∢ᠰ೽吠㠤ᣍ拽垲⠠䭈⑁棒爱ᝉ⵶䢣፶๼簥Ҩǁ#㘂挰橠ኤРᜰ͐üメ湁˛㾄ָ̠憴)挄䀦栢琭ٮ㍄ਡ䌤ᯣㆢ䀣擠䠠䙜ਫ਼㮾䩠⛮柰በÖᠻ࣒з䘩׉妨⃓ࢱ̶㖠᫲寤ฏѤƜڣ圁ح䄳唲Ρ㓢䑠㘠传Ϊ緯挡䘌污䕽庮库㵤䩾䣧䍦厑ࡱ汐vᔪปᑫ柞㏱汜آ抱汔ข惑岏΍奨䤸Ղ媭⤑䐤୸溉ጣ䐁䑒ʩ磈檆ඩ愑籡ᡭ炀wၤᕛ屒Ṟ⑅ᑔᴱ䍆㒴亦䴹  "
   },
   "outputs": [
    {
     "data": {
      "application/vnd.jupyter.widget-view+json": {
       "model_id": "0f864cbfec6f43378906d575c84f4a65",
       "version_major": 2,
       "version_minor": 0
      },
      "text/plain": [
       "PersistWidget(data_values=[{'__id_column': '1', 'Title': 'Wii Play', 'Handheld': True, 'Max Players': 2, 'Mult…"
      ]
     },
     "execution_count": 25,
     "metadata": {},
     "output_type": "execute_result"
    }
   ],
   "source": [
    "pts = alt.selection_point(name=\"selector\", fields=[\"Genres\"], bind=\"legend\")\n",
    "\n",
    "base = alt.Chart(df_task_2b).encode(y=\"count()\")\n",
    "\n",
    "genre = base.mark_bar().encode(\n",
    "    y=\"Genres:N\",\n",
    "    x=\"count():Q\",\n",
    "    color=alt.condition(pts, \"Genres:N\", alt.value(\"#ddd\")),\n",
    "    tooltip=\"count()\"\n",
    ").add_params(pts).properties(width=500)\n",
    "\n",
    "publishers = base.mark_bar().encode(\n",
    "    x=\"Publishers:N\",\n",
    "    y=\"count():Q\",\n",
    "tooltip=[\"count()\"]\n",
    ").transform_filter(pts)\n",
    "\n",
    "chart = alt.vconcat(\n",
    " publishers, genre\n",
    ").resolve_scale(\n",
    "    color=\"independent\",\n",
    ")\n",
    "\n",
    "PR.PersistChart(chart, data=df_task_2b)"
   ]
  },
  {
   "cell_type": "markdown",
   "id": "e3f44925-7703-4844-98ee-d1280f0b10e5",
   "metadata": {},
   "source": [
    "**Task 2c Notes:**\n",
    "\n",
    "Write your answer here"
   ]
  },
  {
   "cell_type": "markdown",
   "id": "8a92b8a9-c3a8-4a57-be3b-c9cdc977092c",
   "metadata": {
    "__GENERATED_DATAFRAMES__": "{\"nodeDataframes\":{},\"graphDataframes\":null}",
    "show_aggregate_original": "false",
    "trrack_graph": "ᯡ࠽䈌ʀ匦㢠⹰ೠ⬠沈֭⠸恍ff9昽䁮ۦ࠰汬നڀপ㈏䣹厠㬦ተ¶⡨⇱㌀ᅁ╶庳ୖ⹜簧ଭࠣ℠Έ橦औ䁅ШNႦ〡岁䏼ℭ㞁摞+㢱䨠Ԋ牠Έƕ٦枓቙ჿਸ旑䅠Ȅ恨戬പᎭె䝁净儬Ö᡻⌸䐱䘩׍宨⇓ࡱ䍲ච᫲壬จ䙤Ɲڣ圖⍞ᛡ৽ण䃔戋㘠传ϊ揿振䘌汣䓼㹮䘫㈨ቺ⩯↧ᄨXഉ⠅ㅖࢢ侸⇄僡ಖࡢҁ氣С宍劄倶䢡⍤㲂̤㚗٩䄀硂಩⍰琦ᦪ悑屾ᾨႨ㺜*瘪䋇޶⋤ᓘ犠䭳঺᥇⏰ᅠ  "
   },
   "source": [
    "## Task 3: Data Wrangling"
   ]
  },
  {
   "cell_type": "markdown",
   "id": "9da80393-7f4b-4115-a4d1-5b7978e11358",
   "metadata": {
    "__GENERATED_DATAFRAMES__": "{\"nodeDataframes\":{},\"graphDataframes\":null}",
    "show_aggregate_original": "false",
    "trrack_graph": "ᯡ࠽䈌ʀ匦㢠⹰â䂬ƀᶷ琶䁋c<搔怳ଚ䠳亡䈤㉕⁖ì⺇⊨攩ᐠ▨戰㑹㧒妰囇⃹喧㝞Ţ∠桠ûு䁔䈠ॢȠந㺸ᢀ盅⻿夣•晀樠Ԃ牠Έƕ稦❳ሪὦ䰼⇑䅠Ȅ恨㙎⌯᪴䶹䈁ℓ琡㙐ᮂ⢨᢬थ⧓ࡢ㌰ሚ璋U䳘䠵欯Т縔絭Sㄭۡ۹ण䉔悊㘠传ϒ橷挣⌏ⱡ䕼庮打㈨ɼ榨慢䃂॑瑐繦┭ڼ㾬⎂厃焸牘榥ᄨ䦯ඦ嘔㗆溄⒀擒摖≦၀ⶃ㧄మޢᄴ䩍རへ∦䯧焤愷䍠Žƀ夅შ㤙༾′⪂㵩掳婊⢄  "
   },
   "source": [
    "### **Task 3a: Creating and assigning `'Length'` category**"
   ]
  },
  {
   "cell_type": "markdown",
   "id": "402412ae-3b84-4fec-9c01-94dd203a7b1f",
   "metadata": {
    "__GENERATED_DATAFRAMES__": "{\"nodeDataframes\":{},\"graphDataframes\":null}",
    "show_aggregate_original": "false",
    "trrack_graph": "ᯡ࠽䈌ʀ匦㢠⹰â䂬ƀᶷ琶䁋c<搔怳ଚ䠳亡䈤㉕⁖ì⺇⊨攩ᐠ▨戰㑹㧒妰囇⃹喧㝞Ţ∠桠ûு䁔䈠ॢȠந㺸ᢀ盅⻿夣•晀樠Ԃ牠Έƕ稦❳ሪὦ䰼⇑䅠Ȅ恨㙎⌯᪴䶹䈁ℓ琡㙐ᮂ⢨᢬थ⧓ࡢ㌰ሚ璋U䳘䠵欯Т縔絭Sㄭۡ۹ण䉔悊㘠传ϒ橷挣⌏ⱡ䕼庮打㈨ɼ榨慢䃂॑瑐繦┭ڼ㾬⎂厃焸牘榥ᄨ䦯ඦ嘔㗆溄⒀擒摖≦၀ⶃ㧄మޢᄴ䩍རへ∦䯧焤愷䍠Žƀ夅შ㤙༾′⪂㵩掳婊⢄  "
   },
   "source": [
    "Next, we'll introduce a new categorical variable named `Length` into our dataset. This addition aims to classify each game into one of `Short`, `Average` and `Long` based on `CT_MainOnly` value.\n",
    "\n",
    "Create a new category `Length` in the dataset and assign each record to `Short`, `Average` and `Long`."
   ]
  },
  {
   "cell_type": "markdown",
   "id": "86d54d80-ef52-4630-bffb-1e04d9320384",
   "metadata": {},
   "source": [
    "#### **Instructions**\n",
    "1. **Define Season Categories:**\n",
    "    - Based on typical avalanche seasons in Utah, create a new category called `Avalanche Season`.\n",
    "    - Add three options for this category -- `Short`, `Average`, `Long`.\n",
    "2. **Interactive Assignment:**\n",
    "    - Use Persist's interactive features to select games and assign it to one of the `Length` values (Short, Average, Long).\n",
    "    - You should use the following ranges for assigning proper categories:\n",
    "        - `Short`: 0 - 20 hours\n",
    "    \t- `Average`: 21 - 40 hours,\n",
    "    \t- `Long`: more than 40 hours\n",
    "3. **Verify the Output:**\n",
    "    - Print the head of the generated dataframe to verify the changes."
   ]
  },
  {
   "cell_type": "code",
   "execution_count": 27,
   "id": "b59fb23c-da53-489f-9520-918d789978eb",
   "metadata": {
    "__GENERATED_DATAFRAMES__": "ᯡࠩ䃬࿀ᜤᠹ悋ᐬ推̅ሣ䧠ⶠ卍捯ᥔᠣ℠▢dʘϔᝠ捌〤瀵摠៨⠠ ",
    "__has_persist_output": true,
    "trrack_graph": "ᯡ࠽䈌ʀ匦㢠⹰Ҁ↠䱈ච挣姐ୡ䘡ᰣᢨ˭䕼䗃Ը䠅΋㠨怡䁋ἬՔⓀŌ傰䏂揨≼䫍㵦曍浘砪ल&䈠ֱۭ璠┨ࠠ⸦₀ǘ憣屢֖缎+㣃⠠Ꭻ䤠ෂ 琂砤ᣜ湂㝗أ͡ඤㅧ⢩ȱᘪ㔬ില%樹಼ㄆ䑾⇎ᡍ΃ʠϩ䂱峱ᢨ䘤㮢䶡䛤ᠢ沀㛂搰ᨸሪ㎎Ⴄ療䉊㋶᣺။㘶⠥稹皶㑼ජඃ㜨妣ࢠ氡Ḡ݇篏䘷מ碣䓎㶱换樲ᒽ惢㤘᤺䘀≤⼼熣硔¡ᙉ慄㧨⇣亄㼥Š⌖᯳皲ᩥ୤ə榦ᑦ᠁戩ብ፨㊈ᙧ១狢ⅸ啈暲㒱䶫抩㉵ᛃ勌᝟۪猙Ä嘃汆ᦺ•Ӏ⠠fàỗڈ怠㦤࠵㴕Y#ᆐⵖྮ濓⫠矼櫔淾ᾠᘪ圁㉥ʠ⡰㱈䘘僲缻۩偬㙭䠰拐・䝊ഏụ掐撸ภ䙂䢴മ䂁ᡌᬣ䌁碢ゴ₉ᩍ㭵㜈戨罻䐋瀸㣲㚺䂓˹噻̻਻㗻皧৶㐨⹷෰瑑悲ఠԷᱱ母樢䁀㗨%㦠䠙綘筝擏䐫䳹㸰ⰶઠ႗婬௜♼ਃ佔Ἲ†穛挙౳澙䴶䰊幺⿃彯漃㽿瀘ὠሤ䕣ਨ⃈ᔢ灁䶠恾γ⡔ຐ栴̱ࠨ䚣قڈ⢎ண゘䯣げ٣惤ᵁ偽⾂ὀἃµ慛䃨ᴐ㽾ῧ坼ș₿ⶉ悦䣅綗ԉ䀷␥椭䐑縠␨氫̣争ୃଥٻᑪ曀歭ླྀ瑆漧ಊ䭳㠥樻䍨扤捘悺ᢄ楋ञຸ恬洐䖗਄⍈氄梘梺˴戶砬憡㍪䪀檉\"擰ᛣŭ⪻㔽㏊甍ọ㖀づᄬ⟀ⷀ旄吝㾤ࡢ᫢Ɛ㴭∘ѫ欸⾆䂈✿䂨ᤡ䇮ᔨ拨⭪掃㍍䷰傀⳥㍁ᓹ㓋ᕒ˃攙Ť⥵㞪浺ݥ梚㞀ᡂ᤯䈘℅ᦾ⤋㇧ૢ㷇У外ǧ㠷᧮ᅎ㼂㱗Ⱓ崗⬃᥏ᷨ㇯ў堷Ϯ㖏߯㴿㐍䍿᫣掰䰣糎ᨸበ梲妠尧቉ᩛ䏄ࠄ塶Ȣ㥑䠢䎑䂱䎤慖Ơ咾♄噕⪀⁭扠ᒾ焘浾䍽ŝ㡇ݞ秉来曞ඨी嵘ᚰ䍝䝰獞ឤ嘲睛᧚੠啸⼦⇮ɭ⇚̧׸扦䆘భࡈ҆䄦ⵋ劜⿯礡⮬㍬箮㐄⦄偋⪭ⱔᶍ儻Ạ峊㎫⡐̅殐ཷ欱ᯛ⎦痶ᩆ哶䁈೵Ć䘠宥⑉毚潿歓僽⁦溙ᨸ䆔⹫䋹䭕㮧䨪关ʴ緁勔䕾㶙䵱疼៉殪䭸෺硭䄚僯ࡰദ⍦甡↘⊇Ա㧢┘ࣥǚ㗸宓㋽ᇂ瞽೚徸䪀ઌ䣳⩶௲函⑮䞎㬚Ὣ恈ࡷ㮧ᚃ昳櫫⯱乯勜䗬尠椬 ෗ធ縸ᨾ㈅䄈㕡墍㰨捐恽恱䠫䦻狋᠀歆〢涂B⥌䓪䳤幹၅愸ᰡ䀵㈶疃䚟䗌䉲䎕彻潝笜ࡷ怪၎尢∢䉃坳ࡐᡧ஥ƨ匦怯よ⾏勞撄♬撫ᡚᑙトᖇ⡺拰۫僂ܽ⹩HƐ៟ŏ㜡⾊;ᨩ廻捈䐯㰦អ࿑簀Ѱ圻௑ܴ焻旝ధ㷼㾙㲖Ŀⱅ碮盪眣唚䢈⚶䉶ỰR䟣ⴭ䁵ච䁾犊᭠ẅ✉揿᥉᪘咋⤦ᡡ>占≯㻉ʡ砻䄋媢呑၏ड恢ĸ尮㛸઄ᬬ籊㰁⯚㠭ᚗ圼眺✍᫓⯡獣ÿ峳嬹榖㠖䈻埈အᤗ⍑ཱヤ嘥座槮㟵᱅搚ᗫ㤋໙ᮤರℐ䀬ᢌ㨬䄘㇄ᰴ䛲ྣ恨䋸ㆺ㢙ސ唭䮉㔡稾灹Ꮂ˸୨㐵䗘ᗓㅕፔᐁ䪃ᚂ⫢櫤଑䖺⡺ᚓồȣㄶѿ䕨塪ᑘ֘㲷潇࠷㨡䵂Š縨煔Ԡ岦䒆䅀曕桰㧧灶䋖ⳤ㢾渌ٯ浔せ㑩㌈疷ݣ࿒椊㇮⼼ग़䀷ǅ᪕Ô孨瓎䧠䑧ᄝហ䍀᱁ᩡ畫:筊᫵煕Ế㗣ঋ朸㏵୊樨ń䇆ᩪ凥璷㑺䴁ĭMء牡♕ⰱᓭᝊ犹ẑ峵啖㶣ệ䚴Аཌྷゎެ㬋䃖፥尡㋂ഢ⡒ᆏᐥ磱䯬䨀ৌ⾃⯸冼㑆⭻䒘䈖䒿୹㛪㪨৹㴿偦ḳ㠠ѝ〩Ჷ卙瀹㦸ᔣ㝆Ⱦ⸥ẂӠ䨩ṯ䫙㠳㳟ᅨ硙共䲶橈⏳Ŋ炩㒥㒷ᛇ傌懏䵃⨁煩Ґ浏ʦ⣆眪癮槲犰䒈ᜠ䘭ঀ⣱ 瞤䌎㠤ם䩓啴⟺೟妈岤⫋ጮ̷㉱抂乼戳䤣硎垆溊つ䑍⁒ⴣ๻砲字崀殏䞷ⷉᇜ潃氤⵴㙺卢嫋↯⡍㞚枓竽‭咼඀\\⬢梃デ掉⩆奫唩炊⪰䍕᝜‷塐ᜡ․⌐ැ煒ǀ笼㏥໨௥ƈὮ灑㚚樐㚢揕暸瘍ᴊ఻勭⿇嶀暚榱㚗烹⇵练忆᯲㪮㪗Ễ爸㧭乏命忏窀櫛灙獗⸄で摾ᙻ䎝洠尶ᙇ厤䃚䯿⬖姕ߓ⸏ছ悔楕▏姌惓ե䬷尠䍰カ甖⺄楦‣ٔ摵䅜❭љȪ㰻楄ᶵĈⲈ㦅⇿⎌剛ಃ䫧╠壤۠ཇ棚㎆捨晬攡䳰䋄▾妣ᯓ┼捱⟖窀朮玫༉汹幤巻 筟৞冲㔩ͺ཰P䀠吠Ὧᒡρ్倠ՏȊ㹫橘䀠䪝ϴ捈焂࠺᥎▢ི戗Ƀ䅫灾ŧ擰ⳬᕱ圦㳺单たǛ㧢ὑ劀㬋䑍ᄰ嵴尐᛭慎႑㼠㨓瞐笁䁙囦׃䝈檣⣯໱弼㈞椞䶲ᴱӥ尵䑂撑⌈׮篷䗨੫㮸܋娭⽝狁䝍㺞ⳜῪệ恁叺⭄ᙐ္恊碵⬃ⶃ㥹㘁ጢᡷȟ㍯⿗澺收嬍⻺䏒゜հ㲧協ఐ倱䆌㕜ᔡАᤠ䆡ֈᾛᡒ⤿䉫ઁ㐢䇤᷀ᑛ8㬨窭悄 琣༹ҡ廗䌡䠧ࢌ♞掳◧步磁௡丁㲔ᓙ䷁Ϧ⛟桲㹘ㄘ⿂澭䉬ðʃ␛䅳刮娢糅羙ℯ࡞ᰜ端ణ䐡㏸㧦掠䟙倥㽕żᘒ໠ᨿᒢຮɩ ēኛ㤐Ə㼠䉸ৠ縇吡笤῰​畗稵䋡炇憛䬯嚜丂潡㯗䃴帆‪䊤ᒽ稢Ἠ䆯偠ᐍ㪌ͯ嬠攬㢃䁁ᢥ䋤⾅穰䔠䫧?ƣ偝矏㱣ሓӍዂ冉⯈䔭狀嬰爈䛨ᇤㄧყ೥ᮀ⍤ЀƐഄ朶㦰඼㐡枖⦓䖘̫条䭰}ҧ熉HⳔ䨲僽ࠖᵣ崅僞㦸ぼ䊉罍⇠ΐᚩ፡狚¼烄尴㬳佰對㡠㮿䘠挠䂅ᮬ䪘緧璔槳仄帊乶ၤᄱ㑥ࢀྩయ҃ᠩ䆙尣敃爐ᑡ痂ᝍ᯽䄍ᠱ䣳ᩐഌ䐡㭑窝對ᵬ㩀嬮䌈⻭䀥王䠤控坵槥䈥㯌㜵毼೼⽌硫㪿帄禍䄢娟䀵с䘺ߋ෼Ἇ往ቐ㔑䰺惟䡏塁଱細ሿ䈢嬸ग㬌▜氂綊ق䞃ἌɌ⨼⿽䘉⅖ߕ䱂䕇ɛ䑧庣瓆武⫺審紫恁劗唱⯫䵦πᭀۄ∸¹৸紥ᄚ㈏䈂Ⴧ↖٩൸栨焑͘㻠⓯ኌ⭢䘃ねၷ՛䛍ネ䥅拲ޢࢇ愄᧪庌ᙬᄅ⦁喌ሱ喜ᡄ䉀ணࣺBł籬䣴䗀ᵃ峅䢼䕄2ؾ瀾◤㾲䤳‴䛇塲曪ᒡ䎪⽂瘻笰秖ᠽ愌罷砳䇝帿є㢃䐢㤇䝢口寣ᱮ✰䙯២瘩ࣺ䢕࠙㧄䣱储ᭃ乁㙦̂രΆ⁎儕ᥢ⒭₁㪤⣣䴀ᕳ׈⒱ᘽ㘽؈⡼Ǝ奡楔㰙׫横ϔ㤅円ģ㬔ㅌ㝌䮛䨬㠸ᯌ䅬宎嫽㯍祏䅬ㄔ䖄眲姬㌃䜽㣖〷匕䬴碿䚏孳嶳▋䖞䃹໪䒆Ŧ஽痬佚ჱਡ曮䑺榕䲡䱢ᡵ䡏儳Ἲ⽴⓬ਜ嘂缺秡඀จ潮篑ො搡潎篤㽡炨潄䋗御根漥焗峳縉㓚簈Ꭸྻ沑碥ң熯Ἣ䟂⺢䓌ɵ篏䡝ຳ彭枡⺵笹䖞撿崑栍ၫ筿䨡㠂`ٟ佲޺罨߬ᐜ䀈へР⬫䀵䜫┿䕤倽း؟丣咰䃐䄀⧝架䃋撀↘ᄧ㲱穞㮫垶紝ʤ᠒䤯卂ء⪝⌫怪٪帪䰁˵䟌⿓忂nؤᮢ勆党◭䡙梄孱ۊ䜭殅ႷშⲠ஦瓽⌐Ᏺ滪伭猚㲨㝦ᩋ匦㭝☡࢐曽剀焮甛ᔰ௲乼ᕬ␚㷪䆵㍏ᖦ㍳刧箊㤊㾓嘃ܢ㧤ᣲ攎䝾竱㼽嚴䝻⑳婡ົ✷⒦ج倠␢⁑ᛔᤵ≬␀ᡴ౤␾̊঩㒂䀨景ٲ粳∡⑊⡲⊹䣕☑ɳ䶯⣠密⑌㹳ࠪБ㾄䎥ᵮ䚼寃珀䭊Վ哓✁ⴓ㢬⭌圎ᣌज凓䣬㴶柃ԝ࣏㣯䕁㠩㰣㣦⧠ᜋ㝱彘䉗䃀ូ精ᛞ㹃漶⅄☐堩䥸㲸㭝☵⽾笁ᜑ⠋⁴歟嚜㒓瞩ᩂኸন捡敇ᓠ័㑢दრ࿉䒭恮䢪埥咽ᬹ⢈䃪ૈ嬱ӊ嬬殉ჭ⦍侠Ṯ⫪圹坭ォ∩⌴ᇋ䗏₌䞦ᯁ☥ᓍ᫓㳹泳⫎㟵㞻䵰ᛖ圫⠍煽哠㤣⃳ㄎ䫄㢺⭊ᾶë␳䄽祶⁛⑘լ䕸ᴇ⚉壔ᄫᨲ䅂ᦩ洈村儲Ń曨᥂᎐Ꭰ窉檵倥⻪๽甇ឥⷫƹ狰攙㥽വ᫔玥庋݃坅囮䖋ְ嶕堔╍新䄽垣ྊ挻䭣呖⻼䶳ᤇ㧖Ⳍἱʤ㝨ᴀ炴㺈⟥Ùᑬ恑儇䖘滦椥⊔塤໥᭤᮳⁢ಳ儬᭍䱢櫋䌭婹⅄䤬乾僻㒉焦㑵ٛグ⒧攸ᦗ医Ỻ⑟ᕻ㚚盰廽Տ㧻⯶皭琩咱ૻօ㠊ᕺ䞶䪣㐴䭺暳⋯是彺㚴㛢吮ㅊ╹匸ᦻᜡᜤ᪕㬜ᕢ⋋檧㇐ᇤ渋搻枦⃃ℶ⵽᧓㫋᳹榎㑕⊨糲櫡㟕≛፵妞䋰ʠൻ䳽㭍⪑⭴㜲撻嘤榉ⲫ㤇➕௏ⳤㄷ㔋Ê⻸㝂嬋祌ࡇ呀⨊ᥫ峢牗孜ὲ糬ܝ㮦ၳ㫛吨漊檣ճ曀㌒≽㊸㞧为ၰڻ璣⡧涂ᇑ๣㘓橑㶁杌❦Ѳ䫷䊣㞓䩕᝵༑㓧猳泄♷㷠儥࢖䮫工ᠡ䢡˫䂠ᨎᝢ䂑Ù㵢⛽ᓭ䊻⢈擅⪁䖍戾啜᭨㊚䧨た甦〦㑡‰༈Ⱗ㑡Ʈ睠欈௫犻⯘ፆT䰼丄瞐梨⦲ጴ稒ざ⧘噄匳丷吲␳刔ᇅ൏Ճ凳縲桀䚟ゲ槎匬槴偠Ⅱ戹र޵㥜焥擱Ἐ⑫卆N┡ᜧ䛵䯠敔㏼⹻㟯⇺䍬康㗏㷻᯷䇯瀰柫捭䀼曧〤禵梪ཇⶊ㽭↡䙜宋䌽人搽⾕ጸ⺳噛䎦᝽╋䝌㕪ⰶɣ䓢椲䡴᳄⺜⨫朶㇔⾈栂剒㣧䘜䡝⧇瑜Ⲯ㰂᩽⻞䏰ᕉ୓㨧ੰ͙Ḃ帢≶嘱曢ᕋ朏䄫⣍睒篬⌲丷㵼╖⛌⩮ः撠ҳ瘦ⓟ⮦娔咵৞矲ル哼擤亯㳫ೳს䁎ᚆឰ姅仐Ι⭝㛈抌痀㨋姞䂫⽷獚ᩣⳌ磭⛑姜殌櫷⭁㺰E‽埵㈀㗣帱帽ࡳ➅☛㥿㻝‵㻳ᔎ㛉䵤⏈䑢਱䏄ඡ搮ᆑ党猻䐠檡䈑Ⴠ↷Ơሴ⫇奜ƦЄ懆䦤槈೔瓇懺䲡槼浼綊棲ే♍ᬩ秊འ嵚罙亠ⶎ䴥㖼懻㨵壛ⶵ׷㢖㦂嶺◾昲瞓䈍给淘粶掲ဤ掱ᕝ⢫⍔䆇᛹䐡挽ᡂỘ槞೅᝼➓涎⽟ⴱⶀ≐㷧ಸ罡儮紇看⤜欯⠩᠞㩫ᐊℒ߲ĳ峒Ȭⲏ䦗小昫潌┶ナ䋓硿䍆塳䋜ᝨᝦ瀋瀦៘ಪ惙なᑟ媫‾Ôኁ撫倻罆擑⎀汶塰䁞縱䙙䂷濩ⱪ㿕ጞ惩‮砰勊ܡ祪瓇֭䖳ᆖ婳勾؉㚍ㅘἃᛳ㖳䥞ọ⧙ݵب䷈䣆桠垼ᩮ秌獼氫ᬖ䩦Ἑ娎⧭᠘唰檑佔涉獗㪓䶣 磯浗畮䳘㓄ԏ⭭ሬ情䍟吠䖬穗ᕎᖿ璖沅Ꮻ㘑叺惘䛑౬涺痷ᛔ悋ⱖ敽䆏㧮⠴ʔ⽘媰ர癍ᑗ梿伖涕网䭱䕐綊ⱐ㶐⼵崊壝᷄☩愶ᩐ多崐椝ࣚ殨ᖡ揎䬿竼⽕痧Ἶ劣㌲渂Ξㇵ澡祑䑑‵矬抨尢੶㮧˹㒂⠶Ĕஷ粓斢❾羶⺓䒬Ⰲ┳⎜⓲䭪扭䒰欽Ꭹ穇緲嗆⑄撚晰暮◙ࢬநࢋ6ȏ煜ỳ៳⍴പ㱠䈴㕯䧙㏭ᶫ䛯姟叜洹渱㒤  "
   },
   "outputs": [
    {
     "data": {
      "application/vnd.jupyter.widget-view+json": {
       "model_id": "a4eb2d82b77048d1933904050bf1da89",
       "version_major": 2,
       "version_minor": 0
      },
      "text/plain": [
       "PersistWidget(data_values=[{'__id_column': '1', 'Title': 'Wii Play', 'Handheld': True, 'Max Players': 2, 'Mult…"
      ]
     },
     "execution_count": 27,
     "metadata": {},
     "output_type": "execute_result"
    }
   ],
   "source": [
    "PR.plot.scatterplot(df_task_2b, \"CT_MainOnly:Q\", \"Review Score:Q\", df_name=\"df_task_3a\")"
   ]
  },
  {
   "cell_type": "code",
   "execution_count": 28,
   "id": "eebe1619-d34f-41e7-b225-cb2fb364e44f",
   "metadata": {},
   "outputs": [
    {
     "data": {
      "text/html": [
       "<div>\n",
       "<style scoped>\n",
       "    .dataframe tbody tr th:only-of-type {\n",
       "        vertical-align: middle;\n",
       "    }\n",
       "\n",
       "    .dataframe tbody tr th {\n",
       "        vertical-align: top;\n",
       "    }\n",
       "\n",
       "    .dataframe thead th {\n",
       "        text-align: right;\n",
       "    }\n",
       "</style>\n",
       "<table border=\"1\" class=\"dataframe\">\n",
       "  <thead>\n",
       "    <tr style=\"text-align: right;\">\n",
       "      <th></th>\n",
       "      <th>Length</th>\n",
       "      <th>Title</th>\n",
       "      <th>Handheld</th>\n",
       "      <th>Max Players</th>\n",
       "      <th>Multiplatform</th>\n",
       "      <th>Online</th>\n",
       "      <th>Genres</th>\n",
       "      <th>Licensed</th>\n",
       "      <th>Publishers</th>\n",
       "      <th>Sequel</th>\n",
       "      <th>Review Score</th>\n",
       "      <th>Sales</th>\n",
       "      <th>Used Price</th>\n",
       "      <th>Console</th>\n",
       "      <th>Rating</th>\n",
       "      <th>Year</th>\n",
       "      <th>CT_Comp</th>\n",
       "      <th>CT_MainExtra</th>\n",
       "      <th>CT_MainOnly</th>\n",
       "    </tr>\n",
       "  </thead>\n",
       "  <tbody>\n",
       "    <tr>\n",
       "      <th>0</th>\n",
       "      <td>Short</td>\n",
       "      <td>Wii Play</td>\n",
       "      <td>True</td>\n",
       "      <td>2</td>\n",
       "      <td>True</td>\n",
       "      <td>True</td>\n",
       "      <td>Action</td>\n",
       "      <td>True</td>\n",
       "      <td>Nintendo</td>\n",
       "      <td>True</td>\n",
       "      <td>58</td>\n",
       "      <td>14.66</td>\n",
       "      <td>14.95</td>\n",
       "      <td>Nintendo Wii</td>\n",
       "      <td>T</td>\n",
       "      <td>2006</td>\n",
       "      <td>-100.0</td>\n",
       "      <td>11.42</td>\n",
       "      <td>4.0</td>\n",
       "    </tr>\n",
       "    <tr>\n",
       "      <th>1</th>\n",
       "      <td>Short</td>\n",
       "      <td>New Super Mario Bros.</td>\n",
       "      <td>True</td>\n",
       "      <td>1</td>\n",
       "      <td>True</td>\n",
       "      <td>True</td>\n",
       "      <td>Action</td>\n",
       "      <td>True</td>\n",
       "      <td>Nintendo</td>\n",
       "      <td>True</td>\n",
       "      <td>89</td>\n",
       "      <td>10.03</td>\n",
       "      <td>27.95</td>\n",
       "      <td>Nintendo DS</td>\n",
       "      <td>T</td>\n",
       "      <td>2006</td>\n",
       "      <td>15.5</td>\n",
       "      <td>10.0</td>\n",
       "      <td>7.0</td>\n",
       "    </tr>\n",
       "    <tr>\n",
       "      <th>2</th>\n",
       "      <td>Long</td>\n",
       "      <td>Pokmon Diamond</td>\n",
       "      <td>True</td>\n",
       "      <td>1</td>\n",
       "      <td>True</td>\n",
       "      <td>True</td>\n",
       "      <td>Role-Playing (RPG)</td>\n",
       "      <td>True</td>\n",
       "      <td>Nintendo</td>\n",
       "      <td>True</td>\n",
       "      <td>85</td>\n",
       "      <td>6.77</td>\n",
       "      <td>27.95</td>\n",
       "      <td>Nintendo DS</td>\n",
       "      <td>E</td>\n",
       "      <td>2006</td>\n",
       "      <td>220.0</td>\n",
       "      <td>80.0</td>\n",
       "      <td>41.92</td>\n",
       "    </tr>\n",
       "    <tr>\n",
       "      <th>3</th>\n",
       "      <td>Long</td>\n",
       "      <td>Pokmon Pearl</td>\n",
       "      <td>True</td>\n",
       "      <td>1</td>\n",
       "      <td>True</td>\n",
       "      <td>True</td>\n",
       "      <td>Role-Playing (RPG)</td>\n",
       "      <td>True</td>\n",
       "      <td>Nintendo</td>\n",
       "      <td>True</td>\n",
       "      <td>85</td>\n",
       "      <td>6.77</td>\n",
       "      <td>26.95</td>\n",
       "      <td>Nintendo DS</td>\n",
       "      <td>E</td>\n",
       "      <td>2006</td>\n",
       "      <td>220.0</td>\n",
       "      <td>80.0</td>\n",
       "      <td>41.92</td>\n",
       "    </tr>\n",
       "    <tr>\n",
       "      <th>4</th>\n",
       "      <td>Short</td>\n",
       "      <td>Gears of War</td>\n",
       "      <td>True</td>\n",
       "      <td>2</td>\n",
       "      <td>True</td>\n",
       "      <td>True</td>\n",
       "      <td>Action</td>\n",
       "      <td>True</td>\n",
       "      <td>Microsoft</td>\n",
       "      <td>True</td>\n",
       "      <td>94</td>\n",
       "      <td>3.7</td>\n",
       "      <td>19.95</td>\n",
       "      <td>X360</td>\n",
       "      <td>M</td>\n",
       "      <td>2006</td>\n",
       "      <td>15.0</td>\n",
       "      <td>11.0</td>\n",
       "      <td>9.0</td>\n",
       "    </tr>\n",
       "  </tbody>\n",
       "</table>\n",
       "</div>"
      ],
      "text/plain": [
       "  Length                  Title  Handheld  Max Players  Multiplatform  Online  \\\n",
       "0  Short               Wii Play      True            2           True    True   \n",
       "1  Short  New Super Mario Bros.      True            1           True    True   \n",
       "2   Long         Pokmon Diamond      True            1           True    True   \n",
       "3   Long           Pokmon Pearl      True            1           True    True   \n",
       "4  Short           Gears of War      True            2           True    True   \n",
       "\n",
       "               Genres  Licensed Publishers  Sequel  Review Score  Sales  \\\n",
       "0              Action      True   Nintendo    True            58  14.66   \n",
       "1              Action      True   Nintendo    True            89  10.03   \n",
       "2  Role-Playing (RPG)      True   Nintendo    True            85   6.77   \n",
       "3  Role-Playing (RPG)      True   Nintendo    True            85   6.77   \n",
       "4              Action      True  Microsoft    True            94    3.7   \n",
       "\n",
       "   Used Price       Console Rating  Year  CT_Comp  CT_MainExtra  CT_MainOnly  \n",
       "0       14.95  Nintendo Wii      T  2006   -100.0         11.42          4.0  \n",
       "1       27.95   Nintendo DS      T  2006     15.5          10.0          7.0  \n",
       "2       27.95   Nintendo DS      E  2006    220.0          80.0        41.92  \n",
       "3       26.95   Nintendo DS      E  2006    220.0          80.0        41.92  \n",
       "4       19.95          X360      M  2006     15.0          11.0          9.0  "
      ]
     },
     "execution_count": 28,
     "metadata": {},
     "output_type": "execute_result"
    }
   ],
   "source": [
    "df_task_3a.head()"
   ]
  },
  {
   "cell_type": "markdown",
   "id": "36e82a42-5f2f-44e1-b9a5-2e2d403b2ff3",
   "metadata": {},
   "source": [
    "## **Task 3b: Finding Top Genre for each `Length`**"
   ]
  },
  {
   "cell_type": "markdown",
   "id": "af40bad3-436e-426c-a02f-f205597e90b5",
   "metadata": {},
   "source": [
    "Now we will analyze which genre is most prevelant for games in each length category."
   ]
  },
  {
   "cell_type": "markdown",
   "id": "72455a32-623b-4b87-87d6-ca9c8ebf19e7",
   "metadata": {},
   "source": [
    "#### **Instructions**\n",
    "1. **Context:**\n",
    "    - We have an interactive stacked bar chart. The `x` axis encodes the `Genres` column in the data and the stack colors encode the newly added category `Length`.\n",
    "    - You can select a category using the **legend** for `Length`. The stacked bar chart will dynamically update in response to your selections. The selected length bucket is pushed down in stack, and the other regions fade out.\n",
    "2. **Analyze Genres:**\n",
    "    - Observe the filtered `Genre` bar chart to identify the top genre for the selected length.\n",
    "    - You can hover on the bars to get the exact frequency.\n",
    "3. **Document Findings:**\n",
    "    - Note down the most common Genre for each length based on your interactive analysis in a new markdown cell."
   ]
  },
  {
   "cell_type": "code",
   "execution_count": 31,
   "id": "c45b6a61-ef0e-408a-bded-b1d1c1666e9c",
   "metadata": {
    "__GENERATED_DATAFRAMES__": "ᯡࠣ䅬Ԁ朤壠ᜣ琢〹夠炠⹰〮⁁䁻қ䚾ኊ㇠നСࠩ瀮晼Ƭ穅5愠៤⠠ ",
    "__has_persist_output": true,
    "trrack_graph": "ᯡ࠽䈌ʀ匦㢠⹰àᆡ䘧㇀么͐ୠᦣ⢨˭䁦ᄢ൑⑶犆匴ⴻ勃㥄倡ᙰ䡣厃摊Ⅺ嚶Ά್浛㬗琲&䈠۹䘡䒠┨ࠠ⺚₀ǘ憡屢ƚ盦+ࢣ⠠乮␠㚨ᜠǤ坂玱ࠩ搸vൖ̨䮦⋢ㅡ⇢瑸ᑈᨺޤ+埰ᡘ䲰⤚ౠ挵宠ཆɧ擁㯢⑈䔖ዞ䀶挥㒆ࢢᣡႃ⬱ћㄸᅲͤ堣ⲧഞ疰奠៿⷗ᡄめⰰ䭋㡹䰤櫠਀廛㲀ᤋ➨࣓图棥ᦰး䅀¸愊ଫ䍰⢐䢢䀰や嘸䭉儊ࢦа堸മ‱㡤壎ૹ༷䉠棠䵛徇⠈ᅈ䙇ࡄ⣴嵉䮅㥮䣂⦀፰㗨旱儸ᙏॄ⥌ു䮀峜䃋暵ᖃ࠲!䩆߹加$㩎帕糌嵹瀀䄀㡎倡䥘ᖫ旓⪟⮮˷亾ྯ搪ᛁᘺ䅀怤ᴣq₩ᡆ䓀ᣘ㤱䖃䊩㱬ॠ㊬⑼ⅹỻᎥ撲じ㸸䍂⡲犥䎀㡼༯䀱ԕ⍧⮈㨥㝷呪炔ᴬฺ䜃おㆹᬓ῅㍸₻㛷㋚ຳ㾤獘⺛㺮̰怠⢡үᵎ倴ġ⹠K䰠㸌玻䚿㭝⼰ݕ㎙罠⑊`伩၄礸ᡛ彠絚圠ϳ䥟戠ģಙ澗╲㵣䜘㽷ؘ罐ဤ⑀ᨫ琨ᔤ⒊ࢳ䢜ᢱ⁦ѣ犌⍠做༪瀴֣ሲ̪硔ت䌢ơ栰༤䂗慂ᠼ䮁儀ᶥ䄁ᅒ浐Ċð仉㰨Û䩌ႀ%࿪瓿㾪籠㢹ቄಷኌ㻠㨉Ȼ搘耄椠䠤ˠ⌢ᦿ␽ɝᖧፘ溢㍼Ἶᇬ揎䊎Ჲጡิ奠Ģၬᐩ㦢⠪Ʉ܋ㅢ硱ᇔ侸㋐恿bۋᐄ䇠㣼眸䍆ᦿ㱌稶䈜㈇Ü/冪楣䢰䚿敪⁛攘䵵䍑䆤䊰䗌䕌੝ʁᗚ䇌婝㖓ٕ∤琼瀬䆨㌬㐤㊭听㝩燂㙭摊㝭ᦠ圱⹜渭⇘㒭冴֭᭱ɬ⦺ㅀᦶ̓ي嗲亗ߵۊ䥔暥動䥳埰⻞ㆣ媷嘐İ≸‴ס寎ˠ䨼⏁吺ǀ傶⒨㑢ጥ⨫༩㠾რᠢ䥋㻞㘵⋘善劬唅Ṣ呉䕒喊䷋⑹ᵛㅡ搪Ҥ用ĸ挤戽嘨灸䞤犼㬥牘ந䕙㮱獽〶燽䯐᝜坞䕝ᬒ擝㜭烅⸣犝疆䨂䡬ܜ杊ോ䁿䰨䁪ȣ䉼ʗ癰⤠@凧碬໵匙⋹è⛸খ櫮ॎ祮絠⹪㭠‸算䟹䂞恝㨎⑚孈㱙祢㵌⠖凷㰕㏽⠉灚柁砓架⌮㷂⤊愑ॗѴ߁₉ၓ䉗⯅い᪣偰᪢䃸䒤⒝ᎩⲍⰆ絽₡疥䙡ᜒ්᳖ૐ棕孢࢓䫄㡠䰳仐縼⌬ѕ␈焹巰喥玘檬ᎸҾʢ䘻䎤崞⍷窠揗笸῏ᥟᅑጵ⍠᪪為䬤㪳瑚哰ᨿ棺㆔͛Ґ坢À樉画楁䲓䳙ᡨㇴⵓ啺症఩䎕孷㐾徊᭕ፖݓ㙘☈爣泴஠綨ⴧ᪂䖼掫ᛕⰭ䋸榋᳒棙૰⎵厓㝖刎౔ṡ৶䔷囋䂍䂦ᖭ䧂䷘ࣞばᕯ懮ㄍ猕愌〡ᵽ哚瑣⫘㗀ⱛ⓮̹㛶歼♝Ӄ廠揑凧㾠❄獎㯧ㄲ⤃䇦嶍彚⏁㠣ᖪ㝍៑Ⴘ⪁᝽桳׌㏺塬°ḡ၂͠纣䧴༱Ⱝeᅑ偎ႀἶぅĂᛋḽ⃜䯺↫๡䭂䁶✕൭όᴯ廳⒠␾䡣勣獏⣏⭬ൄㅰ㔭⳽ᯝḸ稜Ⴆ屉禟ቔ彔㐞ᰅ䜗殭䁀䵠㎩  "
   },
   "outputs": [
    {
     "data": {
      "application/vnd.jupyter.widget-view+json": {
       "model_id": "d3b5bcc8ff494e9ab4d503112c27a5d4",
       "version_major": 2,
       "version_minor": 0
      },
      "text/plain": [
       "PersistWidget(data_values=[{'__id_column': '1', 'Length': 'Short', 'Title': 'Wii Play', 'Handheld': True, 'Max…"
      ]
     },
     "execution_count": 31,
     "metadata": {},
     "output_type": "execute_result"
    }
   ],
   "source": [
    "selection = alt.selection_point(name=\"selector\", fields=[\"Length\"], bind=\"legend\")\n",
    "\n",
    "chart = alt.Chart(df_task_3a).mark_bar().encode(\n",
    "    x=\"Genres:N\",\n",
    "    y=\"count():Q\",\n",
    "    color=alt.Color(\"Length:N\").sort([\"Short\", \"Average\", \"Long\"]),\n",
    "    opacity=alt.condition(selection,alt.value(1), alt.value(0.3)),\n",
    "    order=\"selection_order:N\",\n",
    "    tooltip=\"count()\"\n",
    ").transform_calculate(\n",
    "    selection_order=\"if(selector && selector['Length'], if((datum['Length'] === selector['Length'][0]),0,1),0)\"\n",
    ").add_params(selection)\n",
    "\n",
    "PR.PersistChart(chart)"
   ]
  },
  {
   "cell_type": "markdown",
   "id": "00e87acd-3759-49eb-9e43-d7793672297c",
   "metadata": {},
   "source": [
    "**Task 3b Notes:**\n",
    "\n",
    "Write your answer here"
   ]
  }
 ],
 "metadata": {
  "__CATEGORIES_META__": "{\"categories\":{\"Avlanche Season Phase\":{\"name\":\"Avlanche Season Phase\",\"options\":{\"_None\":{\"name\":\"None\"},\"Start\":{\"name\":\"Start\"},\"Middle\":{\"name\":\"Middle\"},\"End\":{\"name\":\"End\"}}}},\"activeCategoryName\":\"Avlanche Season Phase\"}",
  "__persist_keys_record": [
   "__GENERATED_DATAFRAMES__",
   "__persist_nb_uuid__",
   "trrack_graph",
   "show_aggregate_origin"
  ],
  "__persist_nb_uuid__": "add65724-585b-4908-98f6-14fe5797aec1",
  "kernelspec": {
   "display_name": "Python 3 (ipykernel)",
   "language": "python",
   "name": "python3"
  },
  "language_info": {
   "codemirror_mode": {
    "name": "ipython",
    "version": 3
   },
   "file_extension": ".py",
   "mimetype": "text/x-python",
   "name": "python",
   "nbconvert_exporter": "python",
   "pygments_lexer": "ipython3",
   "version": "3.8.16"
  }
 },
 "nbformat": 4,
 "nbformat_minor": 5
}
