{
 "cells": [
  {
   "cell_type": "markdown",
   "id": "522fcbb3-702c-4ea0-91d9-f3b0e71690fc",
   "metadata": {
    "__GENERATED_DATAFRAMES__": "{\"nodeDataframes\":{},\"graphDataframes\":null}",
    "show_aggregate_original": "false",
    "trrack_graph": "ᯡ࠽䈌ʀ匦㢠⹰àᦴ΀࣪ʐ怶䦠挠᱊ࠥ䁁䂖㚥煤晬փ⊪ĸ暂䙠঳ैkᑄᄈ妐ଷᓋ⃩䖻Ṯ溜Φ䐡傠Ǒ団Қ′䈤7ࡣᠠ湐戎Ⴆ寐爤䀥屨攠ʕ㥀ǔÚ䍃㏙䤥ࢂ┩勸惀Ēいཆ༠೥∁∀秸㲅䌠ⶬᛦ䙂ǃɡ殍戰泤ᒁ嬦怭㋉匥穃ᄠ彣჻⴦䉫ぢ睤䄁ⵐۻG䀡曑砑䂱竖ᄂ㜿Ꭽ˹ȩᚱ凁兘㑐Ṣ༩Ẻ䳥⑆憰棨忞⍧攈堽Ī僰὆揖䦲ᡊ⛓౱নఱ姼ᤦΧ您別൧儸晋Ǣ熘繀䉁硨K塊়ṹᜰ倳䪂ⵦ⚈ᒽ᪺ᆬ䀠 "
   },
   "source": [
    "# Analyzing Video Games Across Genres"
   ]
  },
  {
   "cell_type": "markdown",
   "id": "19cb3971-5981-474c-8250-7981c7c9cc8a",
   "metadata": {
    "trrack_graph": "ᯡ࠽䈌ʀ匦㢠⹰ૠܠ昢〽䂆౐׀ৣfL⍉ျ⥒⠡䒙¬ᧇ峕搢ಒ嫒┠অҤᵖ㹢晴㘉ᦳㄍ毿䡨墠ᨰV䆼ガ搢⡠䀢焨㌠෦ౝ戰殖๠ᠠ塩ೀn坄V䀷⢄㚗᥂夬ು䅻ఴ>☤䝃傳狱⊔㳜ੁ䀶挫㐷ࢢӡჵ嬩іㄪᢉ懐ͻ䬥䇽ࣨ䁏僿峱䐰㋸ᇻ兀㡆䱍㛠਀ⲛ粀೽疨һ䟩桁㙡Ũ昙ˢ䧮ᄪᆽ䥢ᅅᄁẩ㱸౮ᐶޣ先ఽЃⵖᥒ⌥▶懜ᩑƢ᭛䭄憐ɑ٦⦈䙓ǂ炘㸠䱅࢜ؠଌથ䜯๡䙉夊᜶僑汢㭢☈₁䠠 "
   },
   "source": [
    "**Participant ID:**  P4\n",
    "\n",
    "**Date / Time:**"
   ]
  },
  {
   "cell_type": "markdown",
   "id": "ceac0d48-2820-4532-bfd2-adf6533d7a2d",
   "metadata": {},
   "source": [
    "# Introduction\n",
    "Welcome to our data analysis study. For this study, you'll be working with a dataset sourced [Corgis Datasets Project](https://corgis-edu.github.io/corgis/).\n",
    "\n",
    "The data was originally published in the publication [“What makes a blockbuster video game? An empirical analysis of US sales data.” Managerial and Decision Economics](https://researchportal.port.ac.uk/en/publications/what-makes-a-blockbuster-video-game-an-empirical-analysis-of-us-s) by Dr Joe Cox. \n",
    "\n",
    "The dataset has information about the sales and playtime of over a thousand video games released between 2004 and 2010. The playtime information was collected from crowd-sourced data on [\"How Long to Beat\"](https://howlongtobeat.com/)."
   ]
  },
  {
   "cell_type": "markdown",
   "id": "68491102-96aa-4701-8134-d998c80ae04b",
   "metadata": {},
   "source": [
    "- You will use an extension called PersIst to complete **data cleanup and manipulation** tasks. \n",
    "- Interactive charts and tables have been pre-created for your convenience. These can be directly utilized by running the corresponding cells.\n",
    "- Focus on leveraging the interactive capabilities of Persist for your analysis.\n",
    "- Carefully follow the step-by-step instructions provided for each task.\n",
    "- In some cases, you will be asked to document your findings. Please do this in writing in a markdown cell.\n",
    "- As you work through the tasks, take note of any interesting findings or challenges with the software or pandas that you may encounter, either by speaking your thoughts out loud or taking notes in a markdown cell.\n",
    "- Feel free to add new code and markdown cells in the notebook as necessary to complete the tasks, but please do attempt the tasks with the PersIst functionality."
   ]
  },
  {
   "cell_type": "code",
   "execution_count": 1,
   "id": "9337796b-21e8-4c8c-bbbd-3076a775d03b",
   "metadata": {},
   "outputs": [],
   "source": [
    "import helpers as h\n",
    "import pandas as pd\n",
    "import altair as alt\n",
    "\n",
    "import persist_ext as PR"
   ]
  },
  {
   "cell_type": "markdown",
   "id": "dd81aecd-eebf-4624-b9e2-3a864c474c1d",
   "metadata": {
    "__GENERATED_DATAFRAMES__": "{\"nodeDataframes\":{},\"graphDataframes\":null}",
    "show_aggregate_original": "false",
    "trrack_graph": "ᯡ࠽䈌ʀ匦㢠⹰Ҁ̡䘠烠嘢త〫‥侴ᓬᛞ拐ৡ䚂ద抭婈ހڅྯ䌲⠠䭈⑁槑焳Ⴥ⩦仃㍶๽㰥Ҩǁ#㟢䌰橠ኤРᜰ͐üメ湁˛㾄ָ̠憴)挄䀦栢琭ٮ㍄ᨡ䌤ᾣㆢ䀣擠䢤㘦Sᥧᡠ戂怡ᠬÖᠻ㹈䐿ة׉妨⃓ࢱ̴㖠᫲徤ฏѤƜڣ回㸦ۡ৵ण䃔戊㘠传ϊ緯挡䘌污䕽庮粓㈨ɪⷠ搃猄ᦨ洘㳌ᤪ̪౦繶ሱ澂䘣⁑Ҝഭ炍孉ृÅ⭱䤾ᢠ䆋෭ኀ㠢Ү≱呺Ấ惑汮ᮯ戩䊏̠˙Ɂ⧽憳㈒ṉⅱਊ⥋⃆瑀⣨  "
   },
   "source": [
    "## Data Description\n",
    "\n",
    "The table below describes the different columns in the dataset. Each row in the dataset represents a video game.\n",
    "\n",
    "| Column        | Description                                                                                                                                                           |\n",
    "|---------------|-----------------------------------------------------------------------------------------------------------------------------------------------------------------------|\n",
    "| Title         | Full title of the game.                                                                                                                                               |\n",
    "| Max Players   | The maximum number of players that can play this game.                                                                                                                |\n",
    "| Multiplatform | Whether this game is available on multiple platforms.                                                                                                                 |\n",
    "| Online        | Whether this game supports online play.                                                                                                                               |\n",
    "| Genres        | The main genre that this game belongs to.                                                                                                                             |\n",
    "| Licensed      | Whether this game was based off a previously licensed entity.                                                                                                         |\n",
    "| Publishers    | The publishers who created this game.                                                                                                                                 |\n",
    "| Review Score  | A review score for this game, out of 100.                                                                                                                             |\n",
    "| Re-release    | Whether this game is a re-release of an earlier one.                                                                                                                  |\n",
    "| Year          | The year that this game was released.                                                                                                                                 |\n",
    "| Comp_Time_All | The median time that players reported completing the game in any way, in hours.                                                                                       |\n",
    "| Comp_Time_Main| The median time that players reported completing the main game storyline, in hours.                                                                                   |"
   ]
  },
  {
   "cell_type": "code",
   "execution_count": 2,
   "id": "8d0e426c-89a0-4813-8994-65ebba3f3a25",
   "metadata": {},
   "outputs": [
    {
     "data": {
      "text/html": [
       "<div>\n",
       "<style scoped>\n",
       "    .dataframe tbody tr th:only-of-type {\n",
       "        vertical-align: middle;\n",
       "    }\n",
       "\n",
       "    .dataframe tbody tr th {\n",
       "        vertical-align: top;\n",
       "    }\n",
       "\n",
       "    .dataframe thead th {\n",
       "        text-align: right;\n",
       "    }\n",
       "</style>\n",
       "<table border=\"1\" class=\"dataframe\">\n",
       "  <thead>\n",
       "    <tr style=\"text-align: right;\">\n",
       "      <th></th>\n",
       "      <th>Title</th>\n",
       "      <th>Max Players</th>\n",
       "      <th>Multiplatform?</th>\n",
       "      <th>Online?</th>\n",
       "      <th>Genres</th>\n",
       "      <th>Licensed?</th>\n",
       "      <th>Comp_Time_All</th>\n",
       "      <th>Re-release?</th>\n",
       "      <th>Comp_Time_Main</th>\n",
       "      <th>Review Score</th>\n",
       "      <th>Year</th>\n",
       "      <th>Publishers</th>\n",
       "    </tr>\n",
       "  </thead>\n",
       "  <tbody>\n",
       "    <tr>\n",
       "      <th>0</th>\n",
       "      <td>Super Mario 64 DS</td>\n",
       "      <td>1</td>\n",
       "      <td>True</td>\n",
       "      <td>True</td>\n",
       "      <td>Action</td>\n",
       "      <td>True</td>\n",
       "      <td>24.48</td>\n",
       "      <td>True</td>\n",
       "      <td>14.50</td>\n",
       "      <td>85</td>\n",
       "      <td>2004</td>\n",
       "      <td>Nintendo</td>\n",
       "    </tr>\n",
       "    <tr>\n",
       "      <th>1</th>\n",
       "      <td>Lumines: Puzzle Fusion</td>\n",
       "      <td>1</td>\n",
       "      <td>True</td>\n",
       "      <td>True</td>\n",
       "      <td>Strategy</td>\n",
       "      <td>True</td>\n",
       "      <td>10.00</td>\n",
       "      <td>True</td>\n",
       "      <td>10.00</td>\n",
       "      <td>89</td>\n",
       "      <td>2004</td>\n",
       "      <td>Ubisoft</td>\n",
       "    </tr>\n",
       "    <tr>\n",
       "      <th>2</th>\n",
       "      <td>WarioWare Touched!</td>\n",
       "      <td>2</td>\n",
       "      <td>True</td>\n",
       "      <td>True</td>\n",
       "      <td>Action</td>\n",
       "      <td>True</td>\n",
       "      <td>2.50</td>\n",
       "      <td>True</td>\n",
       "      <td>1.83</td>\n",
       "      <td>81</td>\n",
       "      <td>2004</td>\n",
       "      <td>Nintendo</td>\n",
       "    </tr>\n",
       "    <tr>\n",
       "      <th>3</th>\n",
       "      <td>Hot Shots Golf: Open Tee</td>\n",
       "      <td>1</td>\n",
       "      <td>True</td>\n",
       "      <td>True</td>\n",
       "      <td>Sports</td>\n",
       "      <td>True</td>\n",
       "      <td>-100.00</td>\n",
       "      <td>True</td>\n",
       "      <td>-100.00</td>\n",
       "      <td>81</td>\n",
       "      <td>2004</td>\n",
       "      <td>Sony</td>\n",
       "    </tr>\n",
       "    <tr>\n",
       "      <th>4</th>\n",
       "      <td>Spider-Man 2</td>\n",
       "      <td>1</td>\n",
       "      <td>True</td>\n",
       "      <td>True</td>\n",
       "      <td>Action</td>\n",
       "      <td>True</td>\n",
       "      <td>10.00</td>\n",
       "      <td>True</td>\n",
       "      <td>8.00</td>\n",
       "      <td>61</td>\n",
       "      <td>2004</td>\n",
       "      <td>Activision</td>\n",
       "    </tr>\n",
       "  </tbody>\n",
       "</table>\n",
       "</div>"
      ],
      "text/plain": [
       "                      Title Max Players  Multiplatform?  Online?    Genres  \\\n",
       "0         Super Mario 64 DS           1            True     True    Action   \n",
       "1    Lumines: Puzzle Fusion           1            True     True  Strategy   \n",
       "2        WarioWare Touched!           2            True     True    Action   \n",
       "3  Hot Shots Golf: Open Tee           1            True     True    Sports   \n",
       "4              Spider-Man 2           1            True     True    Action   \n",
       "\n",
       "   Licensed?  Comp_Time_All  Re-release?  Comp_Time_Main  Review Score  Year  \\\n",
       "0       True          24.48         True           14.50            85  2004   \n",
       "1       True          10.00         True           10.00            89  2004   \n",
       "2       True           2.50         True            1.83            81  2004   \n",
       "3       True        -100.00         True         -100.00            81  2004   \n",
       "4       True          10.00         True            8.00            61  2004   \n",
       "\n",
       "   Publishers  \n",
       "0    Nintendo  \n",
       "1     Ubisoft  \n",
       "2    Nintendo  \n",
       "3        Sony  \n",
       "4  Activision  "
      ]
     },
     "execution_count": 2,
     "metadata": {},
     "output_type": "execute_result"
    }
   ],
   "source": [
    "df = pd.read_csv('video_games.csv')\n",
    "df.head()"
   ]
  },
  {
   "cell_type": "markdown",
   "id": "7cc10d2b-9b1e-46f4-9769-b9a0ac0c9e8f",
   "metadata": {
    "__GENERATED_DATAFRAMES__": "{\"nodeDataframes\":{},\"graphDataframes\":null}",
    "show_aggregate_original": "false",
    "trrack_graph": "ᯡ࠽䈌ʀ匦㢠⹰ૠ㌬Ā჻R〶䁃lyٹ⁓f䍐ۢ䧪㈉◔ฅޡ䨲⠠䬱䑁棒瀱Ⴭ⭱妻ݎẜʤ䐡傠ǖ悃РኤРᜰ結üメ浪巟㈠ᣠˬ⃪$熒‣㐡㬚͇⦲༿⸂໡壡‡犀⒂ଠᎭॣ䥡⊃㡹稠嬸ූᑤඦҡ哹䑀妨䤝͕䀺慽䈩瞤∡㼚ƶ嵖᯦悡檩ǣ᪀畖o#䖊⠃ܑ璌⃥⹾䞌᧒Т⺈ᆡ⇳㴑䒤㒌ŭ᯸丈◡戱⃰潅Ԧ秐噑๦磜疶溂⒀ᒪ扖⋦ူⶃ㧄మྡྷშ⨭རㅸ瘭ǅ爘䅐䘆砠址䑂㥨㈼㹯䕈䓵ᒹ憴婊③ᤠ "
   },
   "source": [
    "# Task 1: Column Names and Data Types\n",
    "\n",
    "In the first task we will perform some basic data cleaning operations to get our dataset ready for further tasks."
   ]
  },
  {
   "cell_type": "markdown",
   "id": "8934b219-dd97-4e3e-9aa9-0dd7a9d62ad5",
   "metadata": {
    "__GENERATED_DATAFRAMES__": "{\"nodeDataframes\":{},\"graphDataframes\":null}",
    "show_aggregate_original": "false",
    "trrack_graph": "ᯡ࠽䈌ʀ匦㢠⹰ૠ㬠氤〥䌸瀶䀹䁣๲ৠܦᔨҀᣴ䂼䋃‣ᓆ做►䀳ല⠠䭈⑁槑瀱ᝉ⍮冫㭮ẜʦ䒠ǁ#㕀挸晠ኤРᝣၐüムṁǟ㤉䀥䉸攠ʓ㥀ǔÚ⎃஥䤫䒄攭ᇸ惀Ēいᘦᖠೣ䗫⃂変ⱦ{ఽ咼∪⌤䋵汄ჹ䑈冣ᛠඉⵆܔ⍂Þ⍡歹ম悩溩Ǡ媁疖o#䖓瀃ʅ璌⁅溮杲◒Ъ⍁䔶户ࣉⓢ削౐䘰䵥䌂んḸئԢ灐糕൤㧶ⶬ䲱䅲ᗈ撯ౠ惍䈅䥐属ѣ၈⩍སヸ๗௧焤ᄸ䒰Ž䅰䔉燩壥༲刳樲⭮✈咰ᒄ  "
   },
   "source": [
    "### Task 1a: Remove Columns"
   ]
  },
  {
   "cell_type": "markdown",
   "id": "47b531d4-2e3a-4e9a-b92a-39aebfc3deb6",
   "metadata": {
    "__GENERATED_DATAFRAMES__": "{\"nodeDataframes\":{},\"graphDataframes\":null}",
    "show_aggregate_original": "false",
    "trrack_graph": "ᯡ࠽䈌ʀ匦㢠⹰ૠ㬠氤〥䌸瀶䀹䁣๲ৠܦᔨҀᣴ䂼䋃‣ᓆ做►䀳ല⠠䭈⑁槑瀱ᝉ⍮冫㭮ẜʦ䒠ǁ#㕀挸晠ኤРᝣၐüムṁǟ㤉䀥䉸攠ʓ㥀ǔÚ⎃஥䤫䒄攭ᇸ惀Ēいᘦᖠೣ䗫⃂変ⱦ{ఽ咼∪⌤䋵汄ჹ䑈冣ᛠඉⵆܔ⍂Þ⍡歹ম悩溩Ǡ媁疖o#䖓瀃ʅ璌⁅溮杲◒Ъ⍁䔶户ࣉⓢ削౐䘰䵥䌂んḸئԢ灐糕൤㧶ⶬ䲱䅲ᗈ撯ౠ惍䈅䥐属ѣ၈⩍སヸ๗௧焤ᄸ䒰Ž䅰䔉燩壥༲刳樲⭮✈咰ᒄ  "
   },
   "source": [
    "Remove the following columns to streamline the dataset for further analysis:\n",
    "\n",
    "- **_Re-release?:_** Boolean flag indicating if the game was a new release or a re-release.\n",
    "- **_Comp_Time_All:_** Average of all other completition times, we will use one of the others directly"
   ]
  },
  {
   "cell_type": "markdown",
   "id": "aec9ad2a-ab09-4288-b8fa-2852bcddda1a",
   "metadata": {},
   "source": [
    "#### **Instructions**\n",
    "1. **Column Removal:**\n",
    "\t- Use the interactive table feature in PersIst to remove the specified columns.\n",
    "3. **Verify the Output:**\n",
    "\t- Print the head of the generated dataframe to verify the changes."
   ]
  },
  {
   "cell_type": "code",
   "execution_count": 3,
   "id": "8e333ff3-cb24-430b-a332-733b41570ba4",
   "metadata": {
    "__GENERATED_DATAFRAMES__": "ᯡࠩ䃬࿀ᜤᠹ悋ᐨ推̅ሣ䧠ⶠ卍捯ᥔᠣ℠▢dʘϔᝠ捌〤瀵摠៨⠠ ",
    "__has_persist_output": true,
    "editable": true,
    "slideshow": {
     "slide_type": ""
    },
    "tags": [],
    "trrack_graph": "ᯡ࠽䈌ʀ匦㢠⹰ಂ䂬ʀᦠ㌢ᣀୠƠ⭞ከˣn㆗因↱⠠烔洋㦹䮮䥈kᑄႈ夒ર勋⃨䧋㭎ẜʤ䀡傠Ǒ㝣′䈤7Ằᠠ湐憎Ⴄ姗㊠˴⃴3姩-儣僁∐璄売[ṗͥţᄰ墁椈∴⸧Ღǭ䛆怡娂†嶝ǃ哩ɯ兢ӓⲀ倠祐቞Ṅ䉩䍁Ꮵ䡫唘素ⶬ᫥䉂ƃɡ柍∰Ụ࡭␽րے䳐Зⅵ㻑涗ˢ䛐↌省⭐؋G䀡朖爑䃁筏䈪ი瘧֦㍀ₑቢ䍰ᱬṆ䣠䑼ೂᣱ禘䍆⏰䒘媥́┬֢⍤癯䠇ە洰ᴈ栈ᅈ䙇ࢬ䤴䵁䦄㥜䃇䜵┪䆋טⴈ噎䢓䥂㮹䮅㦜僄឵ᕺ壠様1b̘$ᐤż卐þ㋂䅚䖧àᶾ匥岡㻀߶᫭ୢ೵稜⃆昷ᓪᘴ൧⃸籚ᝡ凪磧༲䃈Ĺ⺠烪బ⌥懊紷沖㥼⤦Πᆨ牅ͧ儸昻০燰幟ࡆ঺㩧ⷵ瘚䇐梱ᘂ汔歗䷁▪曷Ᵽᶾ愤ᶮ厳榔Ⱒᮽ愓Ḕ㡘䌠ť㡼5形倨ᮒʺ悓洊峜浿吭✜⁂竣玣ჰ启器䅏䒀偗䡹媏ीఅ糭Ⰱ瓞㟂㗭ᠠ䅎々稟న̎࠶糠搻ؔӹ́㘭䈐㜯䁘⩂惨ଦ⠳Ṅ⁘ⸯਃ☨ᧈც䡘দ磰䠧糼ҁᅠ疮˼г疰翂ƨ構磢㗄↍య㒽㕮㢖㿨֡⡍㇍㺇秫ⲥⰴⶌ兴⎁偻ᚮ氹ⵯ⣁㸪峣҅ಃᲀ䳪ኂ䳳☡䳓ງ䒬墡ჼ᮹සᄫಜ瞻獳ᄮ䵓㚎䆓㺁呬ᑂƕ㻄㒰䗀㐠イʸࡠŵࡓᏰ¢̬搈坴寡䑗棁⼰ᨤ悩犡惴塪㙺⩄奵Ꮔկ䭊䅤凊⼫妔䶯倬↤〴决ʮ㦡㉮ᬺ㢌䯾㩎Ꭾ祼痴⋼箱玌ᷯ㨾揢瑌寧啾ᯢ磎᷵珜澵篞俨䞞ⶽځ汘׸矢⒠⥀品ࡄ䃡Ւ₵㋓橵櫎喸ň⒠H܁む䚩㥒௣㜢䆴簨厳岳ǰ簦䂐ᐾᯱ䰥İÚ䁴⠥䌑ਿ䞉漠ढၥ戹㡤晶礦奈竭⅖䴭夈嗮兘⡳ŒⲊ抶椢姨櫱⇶ᔡ寈曵守໪⊺¯嚱㊼ᥥ低ᜪӟ春哝ᑒ† "
   },
   "outputs": [
    {
     "data": {
      "application/vnd.jupyter.widget-view+json": {
       "model_id": "921473d4e4fc438fa9f8d48df2e90f64",
       "version_major": 2,
       "version_minor": 0
      },
      "text/plain": [
       "PersistWidget(data_values=[{'__id_column': '1', 'Title': 'Super Mario 64 DS', 'Max Players': '1', 'Multiplatfo…"
      ]
     },
     "execution_count": 3,
     "metadata": {},
     "output_type": "execute_result"
    }
   ],
   "source": [
    "PR.PersistTable(df, df_name=\"df_task_1a\")"
   ]
  },
  {
   "cell_type": "code",
   "execution_count": 4,
   "id": "e75de3f8-1986-4b7a-9642-2f720525a2db",
   "metadata": {},
   "outputs": [
    {
     "data": {
      "text/html": [
       "<div>\n",
       "<style scoped>\n",
       "    .dataframe tbody tr th:only-of-type {\n",
       "        vertical-align: middle;\n",
       "    }\n",
       "\n",
       "    .dataframe tbody tr th {\n",
       "        vertical-align: top;\n",
       "    }\n",
       "\n",
       "    .dataframe thead th {\n",
       "        text-align: right;\n",
       "    }\n",
       "</style>\n",
       "<table border=\"1\" class=\"dataframe\">\n",
       "  <thead>\n",
       "    <tr style=\"text-align: right;\">\n",
       "      <th></th>\n",
       "      <th>Title</th>\n",
       "      <th>Max Players</th>\n",
       "      <th>Multiplatform?</th>\n",
       "      <th>Online?</th>\n",
       "      <th>Genres</th>\n",
       "      <th>Licensed?</th>\n",
       "      <th>Comp_Time_Main</th>\n",
       "      <th>Review Score</th>\n",
       "      <th>Year</th>\n",
       "      <th>Publishers</th>\n",
       "    </tr>\n",
       "  </thead>\n",
       "  <tbody>\n",
       "    <tr>\n",
       "      <th>0</th>\n",
       "      <td>Super Mario 64 DS</td>\n",
       "      <td>1</td>\n",
       "      <td>True</td>\n",
       "      <td>True</td>\n",
       "      <td>Action</td>\n",
       "      <td>True</td>\n",
       "      <td>14.5</td>\n",
       "      <td>85</td>\n",
       "      <td>2004</td>\n",
       "      <td>Nintendo</td>\n",
       "    </tr>\n",
       "    <tr>\n",
       "      <th>1</th>\n",
       "      <td>Lumines: Puzzle Fusion</td>\n",
       "      <td>1</td>\n",
       "      <td>True</td>\n",
       "      <td>True</td>\n",
       "      <td>Strategy</td>\n",
       "      <td>True</td>\n",
       "      <td>10.0</td>\n",
       "      <td>89</td>\n",
       "      <td>2004</td>\n",
       "      <td>Ubisoft</td>\n",
       "    </tr>\n",
       "    <tr>\n",
       "      <th>2</th>\n",
       "      <td>WarioWare Touched!</td>\n",
       "      <td>2</td>\n",
       "      <td>True</td>\n",
       "      <td>True</td>\n",
       "      <td>Action</td>\n",
       "      <td>True</td>\n",
       "      <td>1.83</td>\n",
       "      <td>81</td>\n",
       "      <td>2004</td>\n",
       "      <td>Nintendo</td>\n",
       "    </tr>\n",
       "    <tr>\n",
       "      <th>3</th>\n",
       "      <td>Hot Shots Golf: Open Tee</td>\n",
       "      <td>1</td>\n",
       "      <td>True</td>\n",
       "      <td>True</td>\n",
       "      <td>Sports</td>\n",
       "      <td>True</td>\n",
       "      <td>-100.0</td>\n",
       "      <td>81</td>\n",
       "      <td>2004</td>\n",
       "      <td>Sony</td>\n",
       "    </tr>\n",
       "    <tr>\n",
       "      <th>4</th>\n",
       "      <td>Spider-Man 2</td>\n",
       "      <td>1</td>\n",
       "      <td>True</td>\n",
       "      <td>True</td>\n",
       "      <td>Action</td>\n",
       "      <td>True</td>\n",
       "      <td>8.0</td>\n",
       "      <td>61</td>\n",
       "      <td>2004</td>\n",
       "      <td>Activision</td>\n",
       "    </tr>\n",
       "  </tbody>\n",
       "</table>\n",
       "</div>"
      ],
      "text/plain": [
       "                      Title Max Players  Multiplatform?  Online?    Genres  \\\n",
       "0         Super Mario 64 DS           1            True     True    Action   \n",
       "1    Lumines: Puzzle Fusion           1            True     True  Strategy   \n",
       "2        WarioWare Touched!           2            True     True    Action   \n",
       "3  Hot Shots Golf: Open Tee           1            True     True    Sports   \n",
       "4              Spider-Man 2           1            True     True    Action   \n",
       "\n",
       "   Licensed?  Comp_Time_Main  Review Score  Year  Publishers  \n",
       "0       True            14.5            85  2004    Nintendo  \n",
       "1       True            10.0            89  2004     Ubisoft  \n",
       "2       True            1.83            81  2004    Nintendo  \n",
       "3       True          -100.0            81  2004        Sony  \n",
       "4       True             8.0            61  2004  Activision  "
      ]
     },
     "execution_count": 4,
     "metadata": {},
     "output_type": "execute_result"
    }
   ],
   "source": [
    "df_task_1a.head()"
   ]
  },
  {
   "cell_type": "markdown",
   "id": "36c62d50-9c88-4ed9-8c97-e552a6e4c620",
   "metadata": {},
   "source": [
    "### Task 1b: Fix Column Names"
   ]
  },
  {
   "cell_type": "markdown",
   "id": "ab8f8f24-afd2-424f-ab34-3e3cde723aa3",
   "metadata": {
    "trrack_graph": "ᯡ࠽䈌ʀ匦㢠⹰ࢀㆪこ<ǐʀ୥崡汤Ɓ䔠⍂⠨撂䂼ì债晶堪慯掩ᐠ▴ሰ璹㤨䮲减ⓥ䢧᜾㺣䉠ð䀡壅冨㕀ॢȠ௞䠸ᢀ眰䅽忖䀢晐樠Ԃ牠ΈƔڦ❓ሠƠ暬ॡ声Ȅ恨䙜⬮ಬ俨⫣䞐డ㙐᬴⣔䰲ճ㌰䊆၂۔欠㖹┰᧶༨̘ඛฌ琻ɋ㉄ܠ榡哸Ŝ.ؗ⾬ള勑̵㯺ᱱ曨ဩᒡᾪ३⁂惡৒ј⪖ᩋࢶ䥣䍢ᇃ⢀☾ԣ䖎㑝䳓ⳄⓀ᪱ĦҐ戤׌㝔䆦成扉ڠ凈㨣ೣㅘ湏Bࡤ䒠ଈତޗ٩䟨㣜㥨◈ᩲ㭡⟢䀠 "
   },
   "source": [
    "It looks like our dataset header went wrong when reading the file and some column headers end with a `?`. **Please remove the question marks from all headers**. "
   ]
  },
  {
   "cell_type": "markdown",
   "id": "63f4d5c5-9383-4857-beae-0cfa6ba466f2",
   "metadata": {},
   "source": [
    "#### **Instructions**\n",
    "1. **Rename Columns:**\n",
    "    - Use the interactive  table in Persist to correct the column names by removing the trailing `?` from their names:\n",
    "        - _Licensed?_ → _Licensed_\n",
    "        - _Multiplatform?_ → _Multiplatform_\n",
    "        - _Online?_ → _Online_\n",
    "2. **Verify the Output:**\n",
    "\t- Print the head of the generated dataframe to verify the changes."
   ]
  },
  {
   "cell_type": "code",
   "execution_count": 5,
   "id": "b7027112-7291-4136-926e-a4c06c7de200",
   "metadata": {
    "__GENERATED_DATAFRAMES__": "ᯡࠩ䃬࿀ᜤᠹ悋ᐨ怱䐢犲ǩ怶恉宑召䵬ð䀲悠ᄡḡ沯偑嬸Ř˛ࠥ笪  ",
    "__has_persist_output": true,
    "trrack_graph": "ᯡ࠽䈌ʀ匦㢠⹰Ҁጠధ〱䁶ਸ׀ˠღᧄԁ掱ᓨಀඨ咄څ䀧᫈ᠡ䵙᥅)㊤䈽᭞ⅲੴ▋橕㞅毿䡨䠠ᨰV㉈ク␢⡠䀢灒̠෦ౝ戰殖ຸ{䔹†从␠㚨̪᧣䐱㌱℉䑄ⱈ਱ʫ൤ⓢㅑ儂㱹Ḭࠠᝰ撌睒₂ಸↄ嬸ᐠṬң䋢䗁灐㲔㑎憠ᛦஆ⌱Ʊ䅀Ꮦ焨ނూ千〦墭䢢ᰁ㊠⿁䞁㡌旐⃍圁獐⧻G䀡枑琑䅐㚾ᄂ㜧ᎹƆ⁠䥔䓡႘㐶ӣ悀∼ⶥᄤ⊦⬮擐ሴࡁၤ䘦Φ值䞫昬㖺အ楬ᣂబ₯ゲ削⺴旒峞⡶ᕪ悈ሁ匉碣Ꭶ▹ಬֱ摐㲡⋢ᗈኣ䊃ᢡဠುĥ㘠 Å䄀♋䔥簠猠ካ⥠Ṻ䀼䀥䠡⹦˩煒沢ۄ〣碍ݕ⠐礀ඍ䖈Ȕ䰨࣠璬ᶚ忨ࢥ䬨䬦䃀塜ަ䤰嶊ପ⃡㒦ׇ䲰⡤䘭∩〴䬮⨸伽嗮烩᡼¬䥈㑚Ƭ懐᲎ا怩䉱Ệⓕ浮寁䌕絬᪩戁⎑劌Ӭ獆冄䷌⡭宋尌䞉卾ᆼ䰫很㇡ሸ*ᐲпؘઠ₷䠡欢徧嘖矛ỏР㛖࿧粠居0ਆ䡁ᗶ゗Ồ㓞᩠Ĕ扡Ҡjᨡ⃳⦦࣪ᣦ੿≡桃拡ጰ桘恙Ҙᑔਸⱁ模ᘳ䄐ᐤ䃐㋨䄐䄭ǀ刯Ȁሡ䃀好䈀ⰰↄ慦°ర䤼剚↰⠪≁嬶䒠ᑗ۸啾ずб䘢時Ң⤣扚杼⇡睳榚ܿ⪨䐶愤晀爼㖽犜澷狸䬦Ȩ椶⇖Լ䉰⻭⌖䴠㤮崴ℾ⪥愢ᰨ磆㓣ᦆ᳤堶丨奠ዬ夀૪姩ⰶ夒ୄυ瓳ᯄ泟ᨶ㌠嚰⋄坶狑⪸᪣急〬䆬ⵠ䝦〫⥹᝭梚₻榊嬢ƭ❢㕔⧄㈚ᜠᢠ䓠㓠烲᢭Ἶᬤ傥㍵堰⃀ᰭǐ㺥Đ刢৐㈯Ţ硧Ðሩ䉐ɺਲ㖡婆替䫤䅱ጪ♫᫒䥺⪒祴冮䨹凔斫儔㺲ࢰ㰡㭎প㏎㬳㥌矷㡠⶧㈌⮨碼叼牼喪磾篱箾䮴Ξ⮰択㚕ㄾᮩ勜倽ݨ恔ܹ⁬ፉ牆¬ࠥ捱⑕܉絉刹扂⺍ᠮձോ◁Lށᡕ掍巐䒔╄š䎓ⲁᩕё䱄昡严䇀两䀶ᅌ䂰勱嗽権䎐ಪ࠴㲣烀ᐯˋ஌䝬㕎⺉呋㖬8⟔捛♣⃱㪇Ƒ历✛ᵁ珻ዔ⤯᜸㹏䐑尠吴㰰彀㬨勃㮕߹㑡揀䞂ᲃ⩀⚡勓冕⻂Ε漏㏢ἇ垺ї刕㻼擢४嵂剠屟⺬஗滩窨廹编㻒ต៎峉ⱃ㡗ڸ旈9㢨㓠ᰢ棝⳿ᰏ搜翴掮宻ና寏噐䀿䀤ᇲ☰Ǡᢢ梼Ȑ㱲甒匳爱˰㿒ာŀ㟉竢Ÿ䰴儞凐㚭⪅㵲搼劊拪欅䥸ᵶ威侹ᆴ狃ᴅ啔ۦ嗪潐宨䴗ಸ网犼ൗ㺋斠䚄籌戠峭ㅙ丐⧏爓䀁ሯض摊ᚆ⦍ዺⶅ孺Ꮕ磠⪕ᬬ犘ᑌ⸥浔๼汔㙛㿍姱䀐ᢱ剑ᑁ绎؜๻ᴠ䗥ᾫⅧᖨ冘ឮᶏ㙬⠤䈺䁸ሒ瀱6ὧ嵇僨奯℘ޠ㠠哨ሰ〫塲឵硪瘒ᬈૡ⫹෱↻啠符䐖㚦๝Ѫ㼄䂼ҙၘ哀إᠼۛ⤢䁄ॡ皾䆸ኡ塟淙ɡ⫓❠氨౮䱡ŋ榈ᆢⰫʀ㢅侯⪘Ẫൔ町皤ミ̡⿮㓕ޅ発楖⇗畑䅖緇ೀᢹ澿瓮⏡埙橽✖漩犾縇ṧ抝Ү䌱劒ဪᣮᩔ瀸䈀並懘歑磡ㄩ嶻嘩ᰎ㥖玃䅜㏬粔戠≎砿ᱥ☴䒓᠅䣴⻥㿬Ң泂䴤ⰽ䱹喨ↈ䷗䭛௱ܾ亹洂࿵承埤揊䣸獎榛ૹ✼㦀࿓竧ᱠ౵湅䓧㾪歀ᐵ積繁ዄⰱ㶯䑨㍀傀愁煌İ∮䲄Ęᠼ⢷填㉥㤙㖗祢俎抾泅᳁敍岂嫇抯㥅ཱ၊⓺ᬬ氭洋慵死婉⪇㣴椆§∨ᄃ᫳፞˚⟄ि⑌勩惲䁘† "
   },
   "outputs": [
    {
     "data": {
      "application/vnd.jupyter.widget-view+json": {
       "model_id": "9f6b3e2f47074d169092634583988335",
       "version_major": 2,
       "version_minor": 0
      },
      "text/plain": [
       "PersistWidget(data_values=[{'__id_column': '1', 'Title': 'Super Mario 64 DS', 'Max Players': '1', 'Multiplatfo…"
      ]
     },
     "execution_count": 5,
     "metadata": {},
     "output_type": "execute_result"
    }
   ],
   "source": [
    "PR.PersistTable(df_task_1a, df_name=\"df_task_1b\")"
   ]
  },
  {
   "cell_type": "code",
   "execution_count": 6,
   "id": "6127fc95-28b5-437a-a946-e8097c40bac2",
   "metadata": {},
   "outputs": [
    {
     "data": {
      "text/html": [
       "<div>\n",
       "<style scoped>\n",
       "    .dataframe tbody tr th:only-of-type {\n",
       "        vertical-align: middle;\n",
       "    }\n",
       "\n",
       "    .dataframe tbody tr th {\n",
       "        vertical-align: top;\n",
       "    }\n",
       "\n",
       "    .dataframe thead th {\n",
       "        text-align: right;\n",
       "    }\n",
       "</style>\n",
       "<table border=\"1\" class=\"dataframe\">\n",
       "  <thead>\n",
       "    <tr style=\"text-align: right;\">\n",
       "      <th></th>\n",
       "      <th>Title</th>\n",
       "      <th>Max Players</th>\n",
       "      <th>Multiplatform</th>\n",
       "      <th>Online</th>\n",
       "      <th>Genres</th>\n",
       "      <th>Licensed</th>\n",
       "      <th>Comp_Time_Main</th>\n",
       "      <th>Review Score</th>\n",
       "      <th>Year</th>\n",
       "      <th>Publishers</th>\n",
       "    </tr>\n",
       "  </thead>\n",
       "  <tbody>\n",
       "    <tr>\n",
       "      <th>0</th>\n",
       "      <td>Super Mario 64 DS</td>\n",
       "      <td>1</td>\n",
       "      <td>True</td>\n",
       "      <td>True</td>\n",
       "      <td>Action</td>\n",
       "      <td>True</td>\n",
       "      <td>14.5</td>\n",
       "      <td>85</td>\n",
       "      <td>2004</td>\n",
       "      <td>Nintendo</td>\n",
       "    </tr>\n",
       "    <tr>\n",
       "      <th>814</th>\n",
       "      <td>Samurai Warriors 2: Empires</td>\n",
       "      <td>2</td>\n",
       "      <td>True</td>\n",
       "      <td>True</td>\n",
       "      <td>Action</td>\n",
       "      <td>True</td>\n",
       "      <td>8.0</td>\n",
       "      <td>53</td>\n",
       "      <td>2007</td>\n",
       "      <td>Unknown</td>\n",
       "    </tr>\n",
       "    <tr>\n",
       "      <th>812</th>\n",
       "      <td>Bionicle Heroes</td>\n",
       "      <td>1</td>\n",
       "      <td>True</td>\n",
       "      <td>True</td>\n",
       "      <td>Action</td>\n",
       "      <td>True</td>\n",
       "      <td>9.75</td>\n",
       "      <td>52</td>\n",
       "      <td>2007</td>\n",
       "      <td>Eidos</td>\n",
       "    </tr>\n",
       "    <tr>\n",
       "      <th>811</th>\n",
       "      <td>SEGA Rally Revo</td>\n",
       "      <td>1</td>\n",
       "      <td>True</td>\n",
       "      <td>True</td>\n",
       "      <td>Racing / Driving</td>\n",
       "      <td>True</td>\n",
       "      <td>-100.0</td>\n",
       "      <td>74</td>\n",
       "      <td>2007</td>\n",
       "      <td>Sega</td>\n",
       "    </tr>\n",
       "    <tr>\n",
       "      <th>810</th>\n",
       "      <td>The Legend of Heroes III: Song of the Ocean</td>\n",
       "      <td>1</td>\n",
       "      <td>True</td>\n",
       "      <td>True</td>\n",
       "      <td>Role-Playing (RPG)</td>\n",
       "      <td>True</td>\n",
       "      <td>35.0</td>\n",
       "      <td>58</td>\n",
       "      <td>2007</td>\n",
       "      <td>Namco</td>\n",
       "    </tr>\n",
       "  </tbody>\n",
       "</table>\n",
       "</div>"
      ],
      "text/plain": [
       "                                           Title Max Players  Multiplatform  \\\n",
       "0                              Super Mario 64 DS           1           True   \n",
       "814                  Samurai Warriors 2: Empires           2           True   \n",
       "812                              Bionicle Heroes           1           True   \n",
       "811                              SEGA Rally Revo           1           True   \n",
       "810  The Legend of Heroes III: Song of the Ocean           1           True   \n",
       "\n",
       "     Online              Genres  Licensed  Comp_Time_Main  Review Score  Year  \\\n",
       "0      True              Action      True            14.5            85  2004   \n",
       "814    True              Action      True             8.0            53  2007   \n",
       "812    True              Action      True            9.75            52  2007   \n",
       "811    True    Racing / Driving      True          -100.0            74  2007   \n",
       "810    True  Role-Playing (RPG)      True            35.0            58  2007   \n",
       "\n",
       "    Publishers  \n",
       "0     Nintendo  \n",
       "814    Unknown  \n",
       "812      Eidos  \n",
       "811       Sega  \n",
       "810      Namco  "
      ]
     },
     "execution_count": 6,
     "metadata": {},
     "output_type": "execute_result"
    }
   ],
   "source": [
    "df_task_1b.head()"
   ]
  },
  {
   "cell_type": "markdown",
   "id": "3875e7fc-ec40-4241-aa94-87b31e59944f",
   "metadata": {},
   "source": [
    "## Task 1c: Correcting Data Type of 'Max Players'"
   ]
  },
  {
   "cell_type": "markdown",
   "id": "7a7eebda-1b60-4bff-89d3-a5548a601b49",
   "metadata": {},
   "source": [
    "There is a data type issue in `Max Players` column of our dataframe. The column is a category column and should have the pandas dtype of `category`."
   ]
  },
  {
   "cell_type": "code",
   "execution_count": 7,
   "id": "fb9bff61-9a8d-4114-97f3-4f6d0cd0e61e",
   "metadata": {},
   "outputs": [
    {
     "data": {
      "text/plain": [
       "Title             string[python]\n",
       "Max Players       string[python]\n",
       "Multiplatform            boolean\n",
       "Online                   boolean\n",
       "Genres            string[python]\n",
       "Licensed                 boolean\n",
       "Comp_Time_Main           Float64\n",
       "Review Score               Int64\n",
       "Year                       Int64\n",
       "Publishers        string[python]\n",
       "dtype: object"
      ]
     },
     "execution_count": 7,
     "metadata": {},
     "output_type": "execute_result"
    }
   ],
   "source": [
    "df_task_1b.dtypes"
   ]
  },
  {
   "cell_type": "markdown",
   "id": "b23913ac-ea3c-4ca1-8ac3-07d3026ca76e",
   "metadata": {
    "__GENERATED_DATAFRAMES__": "{\"nodeDataframes\":{},\"graphDataframes\":null}",
    "show_aggregate_original": "false",
    "trrack_graph": "ᯡ࠽䈌ʀ匦㢠⹰ೠ↺΀Ơ瘢ᠢᠫ‵䁇ፉ䐢怣侽振ၑ䶃᪰঵䂆⹉多䪲┠অҤᴶṂ㊵嘊᭓ㄅ毠㒰䣑Tဠ㚉҃೨ɰ䂠̂҆;䘸Ϥၗ眼䋐Ð䬹†于␠㚠ᝨ沂烒⎁൸憈㬸ᐠṬү䓧Ⴠ椓ᣘ⌚ᆠᛦކ䜱ǁ䅀㖖नຂᩈ桫〦塵偢㶱⢠⾱䂅埦䖃塀㪂ₐ暸ᵽ䀳怠煼砤慸㴻ࠩ㯏姭ঌ䄢䣫䧙㱈刱ㄿᬦ䩫⏃㌱楫磤ⰴຣα晼ਫ䎁㺕䮃Ⴤご䖂᥂挰ы゙㈬ܠ₰ᑊІ僑汮ޯ戩䉱៪怡⹁ᡤ甑擸抯॰ᡬᅓ╄璚╄㈠ "
   },
   "source": [
    "#### **Instructions**\n",
    "1. **Convert `Max Players` column to category:**\n",
    "    - Use the column header to switch data type of the `Max Players` column.\n",
    "2. **`Edit Categories` pop-up:**\n",
    "    - Inspect the `Edit Categories` pop-up in the toolbar. Look for any redundant categories (e.g. both `1` and `1P`)\n",
    "3. **Edit and Correct Entries:**\n",
    "    - Search for the cells having the redundant option using the search box.\n",
    "    - Edit the cells to remove the trailing `P` (e.g. `1P` to `1`)\n",
    "3. **Verify the Output:**\n",
    "\t- Print the head of the generated dataframe to verify the changes.\n",
    "    - Also print the dtypes of the dataframe"
   ]
  },
  {
   "cell_type": "code",
   "execution_count": 8,
   "id": "84bd3f29-2697-4f40-ab16-27f6540912aa",
   "metadata": {
    "__GENERATED_DATAFRAMES__": "ᯡࠩ䃬࿀ᜤᠹ悋ᐨ恑䐢犲ǩ怶恉宑召䵬ð䀲悠ᄡḡ沯妶ᠢ㠪癀ఄᐠ ",
    "__has_persist_output": true,
    "trrack_graph": "ᯡ࠽䈌ʀ匦㢠⹰۠↡ᰠ炀晈ހୠ‶೙്ಉૠ䃦ᢨӥ坦аࣣوìゲ䀤奢℮䶯Ⴉ㥪櫕璸寔眇恘␠ന;ᨾᢦ刡ᑀ‡㰉Ơ܃خ焨ᗻ箬L挭†乎␠㚨­ʡ䛄ॡ⤤㳤刢⊝ᖴ䊤∀ɐ惑౜䅔Kਣीװᨹᳬ䠠أ⍐⴦挥'䦡႒Э۶ॣ✠㶠〥壠泱≀㑐␬曬℣汥ݴ䂙嘠欩婀㞌ᥰؐᨼ垫ౖЭ囼ᦄⲢǐʘ=佀弸⍎搁Ʃ⺛ᇦ䎸⼩੨抰塶ঢ⣑ȴǌ䨨ూᓃੈၪ⊐㱔ǃ䢁皗䰍ە洰ᔇ␹ᆈ噏઱঄啃揅ᦌ佀⤵▒剩Ԫᅈ䙆䇤ॄ䪡斒奼彈⬴攪廬㊸Ⴐ*儙₍ݠD぀䌠ଁᦠڠᲠֳ†༣†噑幐⁮˕琦䒱淠〦䶢۔牶綮儧尽ᢦ怣疸䍙䳳砢惚渶౪ీ䎰㕙ⱉôࣈⰬ౥ᗰ≃࣠㗓⊃ֺበ⶧梑㣼楆Χ憨㈥ա儈ٓ۠烘幟с঺橧ⷵ瘚䇐枣ᆐዄ浕䱾ֲ曵ⷳⶮ愧洮揝溗䴢⮺Γ嵖̼Ł䀠兡ᡫ㷬倨Ԁ㊺恏攀庯έ䰴尅㙖៥̀䱅0Ђ䣡ІᣬỠ䅞੠Ĕずֺ澺᧦Ӽ掼㡁ߘ⑅ݮွց⡠憢㱊⃠㋳ᡔᘢ僀乴䀲戴宆䱧䃀Ụ扐ᨤ₱ှը㐪ɨ̦䟘䱘榺ୠǩ偉䮦䶏䞊ᴷ⚡崯⭩瑲ᵆ擔ᛰュᰉ㔏個ೳἀ擙ᵦⳌყ㓻ᕀ牺◒纟䠫Ļƀ恡Հ撎潁筅࡚吱懃䞍՛ೃݰℼ䆚㎌殻獢決慒榨䩪浺此䎚᭍湀䕌厹玚޴䭢兹桲坸⪬Ӹ樳ཱི尽⟋婈҈䶓⦊洧ⴊ嶗⨋㵿₈䩶஢΀斊塐悀⌮恧捓Ҹ縴搰䈭䈢䠼䎘偢੡堸❢㊄⏩ₙ⁣㌌⍸╒⋹孨橉ᤩ⋩夹⚱憎⃉禅⡋㱹旳噞䁑ٺ淦瀼付䁉䍑昽殁睕䐛㙝䂑๠ᆑ⽑ඒ湼㤚恷漛䦷䀧湿瀛㾓愙Ṱᨓ䃖䔧梸ᇒᲰŤ潊Ⴤ䁬ህ⤑㕂堧᥅䢡㌣Ⴡㆄ汋ᩌ沾㣧尥宠旉Ṥᗪ᳎嗬ᝤ䁩㔹‾Ҳ灌౺Ҋ斖䠸▰⩦αࡒ䮎ᡡð偮ᰎ約栐ŀ⬀䋐开⋙௺ᐡ拃ޕٙ㑩毀⽺䴀ⅶƚ伓妗⼊աҙ⎲Ἄ䴔獷僳廙䔫尼磠⻒྾滂焕ặ冡廡٫㪭╃笝⑗ᓱ嶊瓩傇⛏␉⁧▸ࢅ嶉圐洃㼍呧㰣嚹䈨䡇ㅬ֖塔ޱ⠲䚡〾↡梇叢堾ဈ゜䷧ᮙᘔ㭺厴᫂擷䮂嫴殖價ᵶょᚢۜ牀ⱒ⸤㄀ካ䀻亭宱パ䖀熣ᨃ㈀ፓ擸௩㣄掙㓾硠ኸ弻爜ⵕ㑁㿩ↇ૬⁥炐巠⃗ᦻ⽕Ҟ㐶呂繊此㏫擕䌠ࡎ姫✮ୗᛒᝎ㙇⌡Ⱚ:ི㤢櫐㯔ᘸ˚ḭ‭۠㛪ÐǂᡎȨ⬠怦䐮緌ມ☽ⅼᓛᩘᑟ㍈ᄃ⡱擰ৣ儂⍰楩Ɛ̒砪ȏౣぃ熀刪㼇殱៤䅚圛濃窰එ੟ࠩЌे暜៪緂⼛砼◊ུ模琺懂劃♝穰撆媚ᵋ̸䌒婲ݺܢ幻┠ㆧ㔳Λ籁毆ࠢ恙௾↤₯⎌吢䆫ᓐ䘻Єణ摞䇞భᚿ⚸ᶾ崻䄘滁㯽⹥ᝄ䄎⼃湟ԭ恒Ё䁠爪̬㰪喙䉡斯峘撘➰䱹匓⼧燀焮卒௘਼晴ᓬ䓨䋹䆤㦴䍐䘰歸ᖶ䑀㙪淣䛲ⱕ叩毐䓢拒烷ሁि㔜ሠ㕌䡄佻旚ᖨ噋⭩༤摲㫒≰杫ǽ嚶爩篵դ孊曠它惚᫠〫ᣬ㿨䎰⮧ත䠾柑ᣏ໮Ⴕ䧽扲嵚竉~Ὣㅫ琹憾㺪๒〲㊙㓒暏̸瓖੉ٵƲ⡣ᑄᫌ㐈᭷俎哬䳨᪥䯩㼎瀠ృ瀫!暦䱜ᚴ㱆峆⟀んᵭখ䌕ࠨ࢏ࣳ᭺ࡦ䋲挸௦⟋?ⴉ哤㪤᫹䭊₲㌚ʁ笿⡯⒨䳩ᰍ䤯恹煄̧夆ᜰ挆㉑ᣌ˙ಋ㧸悘ر獐〶灹᧾Ϣ㹏侙徻䛴᠓㑈ఈ㐢ᢆᓐ䌲䋂⸨ডîҍ湲䩜⎤恊矎籍炼ⱅᄻ嶋婫䛯櫠ᵪ㓑痂懐ụᇢ⑽碷咺᳥ᯝ㮗↞墲䜈䣼⽈ᮃH߰䐥Ĺડ⁗寰๥Ǔ砈㫊岏䪪乼搿㑺⽠©娺 ધᡀ㐋䱒䪺⍂ִ企懆Ń㩖椽ሙྠ声瘪欹໖ᙋ兮᲼㹉Ꮋ䝅᪒磤ň穠ᛶǸ凣䞃凥拂㫘創梆䕔䂫与ઋ⫝̸毵㒆౭唊瓯欙亶厤  "
   },
   "outputs": [
    {
     "data": {
      "application/vnd.jupyter.widget-view+json": {
       "model_id": "a143a1245fb14d329b11cdca6ab01114",
       "version_major": 2,
       "version_minor": 0
      },
      "text/plain": [
       "PersistWidget(data_values=[{'__id_column': '1', 'Title': 'Super Mario 64 DS', 'Max Players': '1', 'Multiplatfo…"
      ]
     },
     "execution_count": 8,
     "metadata": {},
     "output_type": "execute_result"
    }
   ],
   "source": [
    "PR.PersistTable(df_task_1b, df_name=\"df_task_1c\")"
   ]
  },
  {
   "cell_type": "code",
   "execution_count": 13,
   "id": "e1c8ce26-edbe-42ff-9873-295e91676312",
   "metadata": {},
   "outputs": [
    {
     "data": {
      "text/plain": [
       "Title             string[python]\n",
       "Max Players             category\n",
       "Multiplatform            boolean\n",
       "Online                   boolean\n",
       "Genres            string[python]\n",
       "Licensed                 boolean\n",
       "Comp_Time_Main           Float64\n",
       "Review Score               Int64\n",
       "Year                       Int64\n",
       "Publishers        string[python]\n",
       "dtype: object"
      ]
     },
     "execution_count": 13,
     "metadata": {},
     "output_type": "execute_result"
    }
   ],
   "source": [
    "df_task_1c.dtypes"
   ]
  },
  {
   "cell_type": "markdown",
   "id": "753ed0a8-dc0b-4ac8-8afd-b554ea8f4d28",
   "metadata": {},
   "source": [
    "# Task 2: Filtering data\n",
    "\n",
    "In Task 2, we further improve our data by removing outliers and removing certain records to have more consistent data. "
   ]
  },
  {
   "cell_type": "markdown",
   "id": "7f25d8f5-98e8-4b0f-9358-ed85f77cbed8",
   "metadata": {},
   "source": [
    "## **Task 2a: Remove Outliers**"
   ]
  },
  {
   "cell_type": "markdown",
   "id": "ac53a605-2d10-4457-9625-70ce88f04f3b",
   "metadata": {},
   "source": [
    "In this task, we address data accuracy by filtering out anomalies in the completion time for the main story of game. We observe some records with negative values for completion time, which is obviously incorrect data.\n",
    "\n",
    "**Remove records with negative completion time.**"
   ]
  },
  {
   "cell_type": "markdown",
   "id": "664c641e-1193-4233-8897-0161f209c86f",
   "metadata": {},
   "source": [
    "#### **Instructions**\n",
    "1. **Identify and Remove Anomalies:**\n",
    "    - Interactively select data points negative value for `Comp_Time_Main`.\n",
    "    - Use Persist's interactive features to remove these anomalous records.\n",
    "2. **Verify the Output:**\n",
    "    - Print the head of the generated dataframe to verify the changes."
   ]
  },
  {
   "cell_type": "code",
   "execution_count": 14,
   "id": "9f84d347-8ce1-48d8-84a9-478d7eae3bd6",
   "metadata": {
    "__GENERATED_DATAFRAMES__": "ᯡࠩ䃬࿀ᜤᠹ悋ᐤ推̅ሣ䧠ⶠ卍捯ᥔᠣ℠▢dʘϔᝠ捌〤瀵摠៨⠠ ",
    "__has_persist_output": true,
    "trrack_graph": "ᯡ࠽䈌ʀ匦㢠⹰ǫ8Ҁ࣠䌣ᠥ吀ᶤ暤ƀৣऊŐ旰窷䥠㇎Ÿ⟀ۢ⒴E䨲ࡔᡸ碪䮲嗏ⓥ䶧㝞䇢†涓ョ沰ӁĠפཬW౐ᮨ⁏⻹ԀƊῊ)攄䀦梢ばౄ⢊㔠೸䏮䝢吂㥉Ә⠲ཆ㊳䵣悁₱Ҙ぀}Ở䇤撮䏴焦烌ばᠲጿ亠戄揁䥐ఢ㴠ⶬ૷ɂףɠ曍∰滤࢕␻ঀې伀Η↵ề斎ᮩ拐₍㜁䬵搰ᖠᏠĂ笖磢㦖侤੆㥜筎અ㷤䥚⤱ᅘ狁ܰদ⨼≴旪橁ɤ僀㣅ڳ惐橇䈖粁ᚻ∥ᶉ㴤┱䘂䓒⪷╒泎⮧攪拉⎱㳤ो䃮䖂Ӟұ┩癶⎳搪⊩♰咊⍝⬀ƴ⚟䷅ РイŔ簠素մ⊹䴠Ⳏȯ樠੢ࢎ䐊嘨ὸ⃀Ƞኧ⟵䰮⢦#帕䶇Ģֽ↧嘉ⅈ㾇䝵ͼ㠮宔碜㽀ⰰ池ɣ১折ᑆ⧣䒨䨯B䂝ᠼ⌢⍈Ņӿ⃀⍕ຢ唔俁攁㣄మfၦ┽ࡤㆸ噛Ĵ樘℮㕯㓚ế⁔悦凙ॖ䶆垢擕㕶痆柁汀緁沐㷮禠░崎Ꮎ䜧ࢀH乌滼箴Šࠣ碠5映䂳䔙Ṷ䡉幏䐒݋Ё䄨⨲䀨਒⑀䨒౮ૈ䀴Ḃ␠཮⒨硏几俩䶊㚎㣐为焐䄴≨礽Ԕ㔻⍄㔯⸐₫⴨ᎅ;┮䂘⹭䆚㘣䗈ĩ䇈㹂䆘⥄扠㘹გҠᵺ⤺烨漵≁Ἲ禭⧉㗍ధ㐽☊疲ຣ璘'‰子㟑↤㊬ㆫ愩呋倁籞Ը㑌⒪⠮䉭⺍㔫⌯͙᪖䶑㪇䔂䙸נ博ূ瑶㔔ĭᇱ䱮伲ᥡ佂佟䯫晨┡ႈ䄽Ḽ┭繝悊䗛⸴⁅佔嚭埔₮㜑➦儠'䲲∆Ӎⓥ畾⟬䛱䡅ฃ㈱ďڈ勎ೡ剻Ӭ畁ᇬ㑎㷮呁ᙏ䘈ైౚࡉؗ㱌䕱㋃ᲇᓊ楌㺀嘚⫤᥀ಮ怡ᰫ䃾೴冕⠁ʍF內⧃簠䠷䏡乄䣲ᙠ个ʡ偓亓⢫䮥灋塢㻕ᇤ䊸ਖᛅ乇ᚵ嫒傕䇑⁭䗐ግ取相៓䳰嗠㎅䋑峌盗嚭姕㛜湂癝俓⫦ᮎ樬⽲ᩆ䂉妖ㇱ㪎䅖竞䁒ف屓⸞⹗㪾彴ぉ令㤉䐧凚咋晡጑´ԣ䒸ؠࣸ˔ݰᝃ扰Ṯ傄ǐ߹ἧ糱ԥ笝墪໮瑲㈲䩳㈹๲牜䥷猅ඖ゚厔⃝᥁溛䔦傸ᄑ䲓ᔖ备䶃ŗ伒᱐⌁㻂ᬄƀⰕ䂟䀯㻏ᨨ㲚ረ侻ᘮ㲓ؽ㡈⴩焸⎃ᗌ☧慗Ϊ啦⛊҄㴦ᦆ㸣ᆸझ䍨ໝ㦥ň౉》ㅛ狊Є⓫ᅋ⋻禧猢徨ܙ濋桟࿵┰ڞ䉊绠晥層l剠怯ʧㅧ筹戀ᾅ₼ྡᇱ⑨ᖢぞ,㎅怡ᓠĬ䛟ထ¸়ጻㆸ燨┄⡢ㅰ秮偫乭娤听ໂ℣Ş࿓笠爮䈢ກ湅ᇺᵤ廐䡜㪐⊖❈☊䄿皡氽場᳈ɦ朴䛧Ⲩ❈ɮ爲嘳ⰸጢļò巍揔㻆㔸¸Ш監䥀浿‱巻籇妡℄笱收⚎ᙵ䍹泦ⷙ䷐㬢尓⃒㒕攈疩⼝ࡑ㮾琤᪠ᯑ犠㎖Ⱛ枎㶠㡽椘㷵砧劘巗炯⻂İƾⶭỀ⑲⻾㵾ᆚ及઱⬔䉎匡₮ㆮԣ摬ు䨸懃笁Ψ壽玞縄⨵ٓᯯ勆㨧㋎⯬砨䴞䰦栿Ƌᄢ䭜䒁叇䳗⯘䰦ᕽ䫾癀ᥦ⬣灕懐⩛瀩⁶㲯瑬਀∫ጘඨ㮦pᬡṠ䇀✧䵿坊㵆槰ᔡ∨ᆎᝅ๯恠㠱塳䋸ἥ∈止䶾䊄Დ搴烐洅⠥惰为屴毢䠿ĉᰦⰨ焃Ṋア㙰≶懄泘屉几䁁粄䃈炯⣭༮䤽ࣲ᜼و抉ࠠ "
   },
   "outputs": [
    {
     "data": {
      "application/vnd.jupyter.widget-view+json": {
       "model_id": "885f5eb91a69449d84df774c8513c1d0",
       "version_major": 2,
       "version_minor": 0
      },
      "text/plain": [
       "PersistWidget(data_values=[{'__id_column': '1', 'Title': 'Super Mario 64 DS', 'Max Players': 1, 'Multiplatform…"
      ]
     },
     "execution_count": 14,
     "metadata": {},
     "output_type": "execute_result"
    }
   ],
   "source": [
    "PR.plot.scatterplot(df_task_1c, \"Comp_Time_Main:Q\", \"Review Score:Q\", df_name=\"df_task_2a\")"
   ]
  },
  {
   "cell_type": "code",
   "execution_count": 18,
   "id": "6a6c923e-e9d8-4bc6-8a62-c7432a355205",
   "metadata": {},
   "outputs": [
    {
     "data": {
      "text/html": [
       "<div>\n",
       "<style scoped>\n",
       "    .dataframe tbody tr th:only-of-type {\n",
       "        vertical-align: middle;\n",
       "    }\n",
       "\n",
       "    .dataframe tbody tr th {\n",
       "        vertical-align: top;\n",
       "    }\n",
       "\n",
       "    .dataframe thead th {\n",
       "        text-align: right;\n",
       "    }\n",
       "</style>\n",
       "<table border=\"1\" class=\"dataframe\">\n",
       "  <thead>\n",
       "    <tr style=\"text-align: right;\">\n",
       "      <th></th>\n",
       "      <th>Title</th>\n",
       "      <th>Max Players</th>\n",
       "      <th>Multiplatform</th>\n",
       "      <th>Online</th>\n",
       "      <th>Genres</th>\n",
       "      <th>Licensed</th>\n",
       "      <th>Comp_Time_Main</th>\n",
       "      <th>Review Score</th>\n",
       "      <th>Year</th>\n",
       "      <th>Publishers</th>\n",
       "    </tr>\n",
       "  </thead>\n",
       "  <tbody>\n",
       "    <tr>\n",
       "      <th>0</th>\n",
       "      <td>Super Mario 64 DS</td>\n",
       "      <td>1</td>\n",
       "      <td>True</td>\n",
       "      <td>True</td>\n",
       "      <td>Action</td>\n",
       "      <td>True</td>\n",
       "      <td>14.5</td>\n",
       "      <td>85</td>\n",
       "      <td>2004</td>\n",
       "      <td>Nintendo</td>\n",
       "    </tr>\n",
       "    <tr>\n",
       "      <th>1</th>\n",
       "      <td>Samurai Warriors 2: Empires</td>\n",
       "      <td>2</td>\n",
       "      <td>True</td>\n",
       "      <td>True</td>\n",
       "      <td>Action</td>\n",
       "      <td>True</td>\n",
       "      <td>8.0</td>\n",
       "      <td>53</td>\n",
       "      <td>2007</td>\n",
       "      <td>Unknown</td>\n",
       "    </tr>\n",
       "    <tr>\n",
       "      <th>2</th>\n",
       "      <td>Bionicle Heroes</td>\n",
       "      <td>1</td>\n",
       "      <td>True</td>\n",
       "      <td>True</td>\n",
       "      <td>Action</td>\n",
       "      <td>True</td>\n",
       "      <td>9.75</td>\n",
       "      <td>52</td>\n",
       "      <td>2007</td>\n",
       "      <td>Eidos</td>\n",
       "    </tr>\n",
       "    <tr>\n",
       "      <th>3</th>\n",
       "      <td>The Legend of Heroes III: Song of the Ocean</td>\n",
       "      <td>1</td>\n",
       "      <td>True</td>\n",
       "      <td>True</td>\n",
       "      <td>Role-Playing (RPG)</td>\n",
       "      <td>True</td>\n",
       "      <td>35.0</td>\n",
       "      <td>58</td>\n",
       "      <td>2007</td>\n",
       "      <td>Namco</td>\n",
       "    </tr>\n",
       "    <tr>\n",
       "      <th>4</th>\n",
       "      <td>Hot Pixel</td>\n",
       "      <td>1</td>\n",
       "      <td>True</td>\n",
       "      <td>True</td>\n",
       "      <td>Action</td>\n",
       "      <td>True</td>\n",
       "      <td>0.45</td>\n",
       "      <td>55</td>\n",
       "      <td>2007</td>\n",
       "      <td>Atari</td>\n",
       "    </tr>\n",
       "  </tbody>\n",
       "</table>\n",
       "</div>"
      ],
      "text/plain": [
       "                                         Title  Max Players  Multiplatform  \\\n",
       "0                            Super Mario 64 DS            1           True   \n",
       "1                  Samurai Warriors 2: Empires            2           True   \n",
       "2                              Bionicle Heroes            1           True   \n",
       "3  The Legend of Heroes III: Song of the Ocean            1           True   \n",
       "4                                    Hot Pixel            1           True   \n",
       "\n",
       "   Online              Genres  Licensed  Comp_Time_Main  Review Score  Year  \\\n",
       "0    True              Action      True            14.5            85  2004   \n",
       "1    True              Action      True             8.0            53  2007   \n",
       "2    True              Action      True            9.75            52  2007   \n",
       "3    True  Role-Playing (RPG)      True            35.0            58  2007   \n",
       "4    True              Action      True            0.45            55  2007   \n",
       "\n",
       "  Publishers  \n",
       "0   Nintendo  \n",
       "1    Unknown  \n",
       "2      Eidos  \n",
       "3      Namco  \n",
       "4      Atari  "
      ]
     },
     "execution_count": 18,
     "metadata": {},
     "output_type": "execute_result"
    }
   ],
   "source": [
    "df_task_2a.head()"
   ]
  },
  {
   "cell_type": "markdown",
   "id": "b447b862-90c6-4ed7-b48b-baa1cf74ac2d",
   "metadata": {
    "__GENERATED_DATAFRAMES__": "{\"nodeDataframes\":{},\"graphDataframes\":null}",
    "show_aggregate_original": "false",
    "trrack_graph": "ᯡ࠽䈌ʀ匦㢠⹰࣠✴ƀචآ൐ୠᣠ⭎¸䚀ᶥ<⋵攴≲䦆ᨐ҅䁲䥈kᑄᄈ夒ર囇⣹嗛➎帣ᢤ䀡傠Ǘ熠㥀ॢȠா䠸ᢀ㜰䁾巒•橀樠Ꮃ䤠ව׷核ᱬ䣘紲₞૦Ԡ޳ŀ凐栠晬╍ಲ䖽䂇栢沀團ᄰ㸸ሪ喊Ⴇ♁䐔粶ᦞΎ刺ࠥ簉窺簲ᖢොሧ҉䃵ⰡḠޅ毗䘤䗾墥୚渍磆搰㣄䆯䌭䊣ᎄ䢩妈䪑䴹ҩ䋫◂რ⢒ઉ⃁⽌囦媍ኘ垤䢠䍤⒂Йᘷ੡䄀҂Ქ⃱琿啡憐㲞ၯ䌨焠ᗿ搫໎㒫ல熪Ņ⎃ऺᥛ⃄ᅠ  "
   },
   "source": [
    "## Task 2b: Filtering Out Old Data"
   ]
  },
  {
   "cell_type": "markdown",
   "id": "c86b30d4-4762-4bc0-bfd3-6f1486b55ad6",
   "metadata": {
    "__GENERATED_DATAFRAMES__": "{\"nodeDataframes\":{},\"graphDataframes\":null}",
    "show_aggregate_original": "false",
    "trrack_graph": "ᯡ࠽䈌ʀ匦㢠⹰࣠✴ƀචآ൐ୠᣠ⭎¸䚀ᶥ<⋵攴≲䦆ᨐ҅䁲䥈kᑄᄈ夒ર囇⣹嗛➎帣ᢤ䀡傠Ǘ熠㥀ॢȠா䠸ᢀ㜰䁾巒•橀樠Ꮃ䤠ව׷核ᱬ䣘紲₞૦Ԡ޳ŀ凐栠晬╍ಲ䖽䂇栢沀團ᄰ㸸ሪ喊Ⴇ♁䐔粶ᦞΎ刺ࠥ簉窺簲ᖢොሧ҉䃵ⰡḠޅ毗䘤䗾墥୚渍磆搰㣄䆯䌭䊣ᎄ䢩妈䪑䴹ҩ䋫◂რ⢒ઉ⃁⽌囦媍ኘ垤䢠䍤⒂Йᘷ੡䄀҂Ქ⃱琿啡憐㲞ၯ䌨焠ᗿ搫໎㒫ல熪Ņ⎃ऺᥛ⃄ᅠ  "
   },
   "source": [
    "The interactive barchart below, shows the data aggregated by year. There are noticeably fewer records for `2004` and `2005`.\n",
    "\n",
    "During this subtask we will remove these older records, keeping only the records for the year 2006 and above."
   ]
  },
  {
   "cell_type": "markdown",
   "id": "24b308e8-8437-4146-9ebf-cd121aeb7f9f",
   "metadata": {},
   "source": [
    "#### **Instructions**\n",
    "1. **Analyze the Bar Chart:**\n",
    "    - Identify the bars that have less than 200 records.\n",
    "2. **Filter Year:**\n",
    "    - Select and remove the years with few records.\n",
    "3. **Verify the Output:**\n",
    "    - Print the head of the generated dataframe to verify the changes."
   ]
  },
  {
   "cell_type": "code",
   "execution_count": 19,
   "id": "1ff923c8-1008-4d36-ab1c-625171d90d47",
   "metadata": {
    "__GENERATED_DATAFRAMES__": "ᯡࠩ䃬࿀ᜤᠹ悋ᐤ怱䐢犲ǩ怶恉宑召䵬ð䀲悠ᄡḡ沯偑嬸Ř˛ࠥ笪  ",
    "__has_persist_output": true,
    "trrack_graph": "ᯡ࠽䈌ʀ匦㢠⹰ࢀܡ䰤〭䁃ḣథ到Ơଠ⚃呱墡ᱚᢊ䔣夐૭洠暘棐慅)㊤䈽᭞ᅲ䩔琻᫖ច毠⡨䠠ᨰVᒘク␢⡠䀢灒̠෦ౝ戰殖༨{䔹†从␠㚨༣䅣䃠炓㦨桰発ᘺԩ䊡䇂䂑⇘ぉ੢ాܤ+呒᭛䲰撦䈰䩍䣀ཆɢ悑䣨哼Ⲕ央័怫ㆥ壁䒄悰槻㢤௑ؽⲩ堣ⷦ⡡⸐敠៰柔态∲氰欻㡥棒ж怩瀠㩜䄜イ⷗䑘䜀㢼ᐥ䔔䧄䈥ڢ偘䉁Ⱨ炐㈧୧烰呪ࡴㆨ梴࿧儨㰪٢愸݋戔䉺㚨җ匬⢬✰⒲抺↲撒戾⁲ᗸ務⭐䉜⚌⼴▲咥ິ攸泎⾴ᖪ䅥⍵ᨊ༠೎ㄜ浈 •㒀㶡倠兰紼ûだۋⲦ䀡ᐮᵨऑ惚嗧栒Ɂ⫢ᚥ‸⌽ࣃई᱖䚤䣹Ա᠃㢼ت́犤㉪呑庛⮽憲ヘĤ䝃⣔㬵ↁ墼༯䐳ӂ፦䤊噝ὠ㈸ㄸ᤻䂹♓Ꮵ޹泍㋰᣹烻⻿㑘乒ၼ瓛⺧↮Ұ怠⣟࿣檎倴ĥ⹠K䰨㷮殧嚉⚝㧻࿬ڣ慰Ȧ筨⅗䓪⡙矿᩠ȉ㞳牐⟇挕㔯兙⿛焑ῗ犌‿琢Ⴡ䄥₇摁〬⋠偆⇡᷍Ո⑃Ơ堤㒁┧ˀᡚᎩ簦υ稬ະ⠴ʰ㧋⠜Ḡར恨ဂ伩叹慃凡穃儀ቿ⍡䝔ठ濋ྃ㾷ఢ怪Ҹʘ༔皰⊂Ⱨ䎂ᱲ൲㲝悠ℶ䦝➸֣ܰ䠁扙䊠㜸┡ຓ亱䉾䪉㹐猡᪨ Ḵ帄粻亰沜㸧ҁ౮䥈䅍䧧ᤆㄪ㘩䣪㎭壼␠ƘࡁẐ០Ě恍ڢ䅄Ȣ㚨Ꮑ䣗攜㾠৘䬦А噈寨勩⁶稩䍶ശ守ۯ⏮媥憢ⰾ㬦僼ᩦ౤䁰売ᢀӱ୆ีᯆ㡫ᮢ⤣拭ロf⣩㓍磱᪍淃ᦆ畬憢ဠͨ恗䮀ന៉ਣ➄悑䂢ಗ⁺᳃୶素䰲䉻䧤̢晈奩⻨敮⽋㥾ⳈՒ䛉㸶攢㪎䯳穡亲ᡊ࣡ゞ浒暟ᩙᘵ䲙✨ϑ瘣䮓杓乀⹋䬅渭淚瞎㭐⾈㎇ؕ佛湶䤒䂀ሃ潧慵䅗Ẵ㽟儠尵Ꮆ¢呶䬀὆ᓘᛌ㘌宴ēᦄඬ刳䚕㢧ႾỆ㓋㫎涳㊅㖾ᴷ璵㒍㽫侎䳜年䂏㈀䇐㌍綤᧍䷴ᨾ⫯䍦琬ٳ࠸Ơぜ߶ቜཋ㏔Σ硲䷡⡢ٺ࠿㢎㌃ᄍ狈เ䉋乙ⲯࠨ᫏䰁ᬟ䍵媮墅㪲棃䬵W呭ݸ瑦擧ౚ䘩⠦∡Ȼz撂惁䮅ॹ䞺旃歽ࢦ࠳搲戉җ曓匹偘曕⺴暺滉ґ  "
   },
   "outputs": [
    {
     "data": {
      "application/vnd.jupyter.widget-view+json": {
       "model_id": "a0c84907b98d4b429777e72ea0957366",
       "version_major": 2,
       "version_minor": 0
      },
      "text/plain": [
       "PersistWidget(data_values=[{'__id_column': '1', 'Title': 'Super Mario 64 DS', 'Max Players': 1, 'Multiplatform…"
      ]
     },
     "execution_count": 19,
     "metadata": {},
     "output_type": "execute_result"
    }
   ],
   "source": [
    "PR.plot.barchart(df_task_2a, \"Year:O\", \"count()\", selection_type=\"interval\", df_name=\"df_task_2b\")"
   ]
  },
  {
   "cell_type": "code",
   "execution_count": 20,
   "id": "91b82afa-ab75-41d7-b35a-7e18ab47c733",
   "metadata": {},
   "outputs": [
    {
     "data": {
      "text/html": [
       "<div>\n",
       "<style scoped>\n",
       "    .dataframe tbody tr th:only-of-type {\n",
       "        vertical-align: middle;\n",
       "    }\n",
       "\n",
       "    .dataframe tbody tr th {\n",
       "        vertical-align: top;\n",
       "    }\n",
       "\n",
       "    .dataframe thead th {\n",
       "        text-align: right;\n",
       "    }\n",
       "</style>\n",
       "<table border=\"1\" class=\"dataframe\">\n",
       "  <thead>\n",
       "    <tr style=\"text-align: right;\">\n",
       "      <th></th>\n",
       "      <th>Title</th>\n",
       "      <th>Max Players</th>\n",
       "      <th>Multiplatform</th>\n",
       "      <th>Online</th>\n",
       "      <th>Genres</th>\n",
       "      <th>Licensed</th>\n",
       "      <th>Comp_Time_Main</th>\n",
       "      <th>Review Score</th>\n",
       "      <th>Year</th>\n",
       "      <th>Publishers</th>\n",
       "    </tr>\n",
       "  </thead>\n",
       "  <tbody>\n",
       "    <tr>\n",
       "      <th>0</th>\n",
       "      <td>Samurai Warriors 2: Empires</td>\n",
       "      <td>2</td>\n",
       "      <td>True</td>\n",
       "      <td>True</td>\n",
       "      <td>Action</td>\n",
       "      <td>True</td>\n",
       "      <td>8.0</td>\n",
       "      <td>53</td>\n",
       "      <td>2007</td>\n",
       "      <td>Unknown</td>\n",
       "    </tr>\n",
       "    <tr>\n",
       "      <th>1</th>\n",
       "      <td>Bionicle Heroes</td>\n",
       "      <td>1</td>\n",
       "      <td>True</td>\n",
       "      <td>True</td>\n",
       "      <td>Action</td>\n",
       "      <td>True</td>\n",
       "      <td>9.75</td>\n",
       "      <td>52</td>\n",
       "      <td>2007</td>\n",
       "      <td>Eidos</td>\n",
       "    </tr>\n",
       "    <tr>\n",
       "      <th>2</th>\n",
       "      <td>The Legend of Heroes III: Song of the Ocean</td>\n",
       "      <td>1</td>\n",
       "      <td>True</td>\n",
       "      <td>True</td>\n",
       "      <td>Role-Playing (RPG)</td>\n",
       "      <td>True</td>\n",
       "      <td>35.0</td>\n",
       "      <td>58</td>\n",
       "      <td>2007</td>\n",
       "      <td>Namco</td>\n",
       "    </tr>\n",
       "    <tr>\n",
       "      <th>3</th>\n",
       "      <td>Hot Pixel</td>\n",
       "      <td>1</td>\n",
       "      <td>True</td>\n",
       "      <td>True</td>\n",
       "      <td>Action</td>\n",
       "      <td>True</td>\n",
       "      <td>0.45</td>\n",
       "      <td>55</td>\n",
       "      <td>2007</td>\n",
       "      <td>Atari</td>\n",
       "    </tr>\n",
       "    <tr>\n",
       "      <th>4</th>\n",
       "      <td>Dead Head Fred</td>\n",
       "      <td>1</td>\n",
       "      <td>True</td>\n",
       "      <td>True</td>\n",
       "      <td>Action</td>\n",
       "      <td>True</td>\n",
       "      <td>8.0</td>\n",
       "      <td>75</td>\n",
       "      <td>2007</td>\n",
       "      <td>Unknown</td>\n",
       "    </tr>\n",
       "  </tbody>\n",
       "</table>\n",
       "</div>"
      ],
      "text/plain": [
       "                                         Title  Max Players  Multiplatform  \\\n",
       "0                  Samurai Warriors 2: Empires            2           True   \n",
       "1                              Bionicle Heroes            1           True   \n",
       "2  The Legend of Heroes III: Song of the Ocean            1           True   \n",
       "3                                    Hot Pixel            1           True   \n",
       "4                               Dead Head Fred            1           True   \n",
       "\n",
       "   Online              Genres  Licensed  Comp_Time_Main  Review Score  Year  \\\n",
       "0    True              Action      True             8.0            53  2007   \n",
       "1    True              Action      True            9.75            52  2007   \n",
       "2    True  Role-Playing (RPG)      True            35.0            58  2007   \n",
       "3    True              Action      True            0.45            55  2007   \n",
       "4    True              Action      True             8.0            75  2007   \n",
       "\n",
       "  Publishers  \n",
       "0    Unknown  \n",
       "1      Eidos  \n",
       "2      Namco  \n",
       "3      Atari  \n",
       "4    Unknown  "
      ]
     },
     "execution_count": 20,
     "metadata": {},
     "output_type": "execute_result"
    }
   ],
   "source": [
    "df_task_2b.head()"
   ]
  },
  {
   "cell_type": "markdown",
   "id": "8a92b8a9-c3a8-4a57-be3b-c9cdc977092c",
   "metadata": {
    "__GENERATED_DATAFRAMES__": "{\"nodeDataframes\":{},\"graphDataframes\":null}",
    "show_aggregate_original": "false",
    "trrack_graph": "ᯡ࠽䈌ʀ匦㢠⹰ೠ⬠沈֭⠸恍ff9昽䁮ۦ࠰汬നڀপ㈏䣹厠㬦ተ¶⡨⇱㌀ᅁ╶庳ୖ⹜簧ଭࠣ℠Έ橦औ䁅ШNႦ〡岁䏼ℭ㞁摞+㢱䨠Ԋ牠Έƕ٦枓቙ჿਸ旑䅠Ȅ恨戬പᎭె䝁净儬Ö᡻⌸䐱䘩׍宨⇓ࡱ䍲ච᫲壬จ䙤Ɲڣ圖⍞ᛡ৽ण䃔戋㘠传ϊ揿振䘌汣䓼㹮䘫㈨ቺ⩯↧ᄨXഉ⠅ㅖࢢ侸⇄僡ಖࡢҁ氣С宍劄倶䢡⍤㲂̤㚗٩䄀硂಩⍰琦ᦪ悑屾ᾨႨ㺜*瘪䋇޶⋤ᓘ犠䭳঺᥇⏰ᅠ  "
   },
   "source": [
    "## Task 3: Data Wrangling"
   ]
  },
  {
   "cell_type": "markdown",
   "id": "9da80393-7f4b-4115-a4d1-5b7978e11358",
   "metadata": {
    "__GENERATED_DATAFRAMES__": "{\"nodeDataframes\":{},\"graphDataframes\":null}",
    "show_aggregate_original": "false",
    "trrack_graph": "ᯡ࠽䈌ʀ匦㢠⹰â䂬ƀᶷ琶䁋c<搔怳ଚ䠳亡䈤㉕⁖ì⺇⊨攩ᐠ▨戰㑹㧒妰囇⃹喧㝞Ţ∠桠ûு䁔䈠ॢȠந㺸ᢀ盅⻿夣•晀樠Ԃ牠Έƕ稦❳ሪὦ䰼⇑䅠Ȅ恨㙎⌯᪴䶹䈁ℓ琡㙐ᮂ⢨᢬थ⧓ࡢ㌰ሚ璋U䳘䠵欯Т縔絭Sㄭۡ۹ण䉔悊㘠传ϒ橷挣⌏ⱡ䕼庮打㈨ɼ榨慢䃂॑瑐繦┭ڼ㾬⎂厃焸牘榥ᄨ䦯ඦ嘔㗆溄⒀擒摖≦၀ⶃ㧄మޢᄴ䩍རへ∦䯧焤愷䍠Žƀ夅შ㤙༾′⪂㵩掳婊⢄  "
   },
   "source": [
    "### Task 3a: Creating and assigning `'Length'` category"
   ]
  },
  {
   "cell_type": "markdown",
   "id": "402412ae-3b84-4fec-9c01-94dd203a7b1f",
   "metadata": {
    "__GENERATED_DATAFRAMES__": "{\"nodeDataframes\":{},\"graphDataframes\":null}",
    "show_aggregate_original": "false",
    "trrack_graph": "ᯡ࠽䈌ʀ匦㢠⹰â䂬ƀᶷ琶䁋c<搔怳ଚ䠳亡䈤㉕⁖ì⺇⊨攩ᐠ▨戰㑹㧒妰囇⃹喧㝞Ţ∠桠ûு䁔䈠ॢȠந㺸ᢀ盅⻿夣•晀樠Ԃ牠Έƕ稦❳ሪὦ䰼⇑䅠Ȅ恨㙎⌯᪴䶹䈁ℓ琡㙐ᮂ⢨᢬थ⧓ࡢ㌰ሚ璋U䳘䠵欯Т縔絭Sㄭۡ۹ण䉔悊㘠传ϒ橷挣⌏ⱡ䕼庮打㈨ɼ榨慢䃂॑瑐繦┭ڼ㾬⎂厃焸牘榥ᄨ䦯ඦ嘔㗆溄⒀擒摖≦၀ⶃ㧄మޢᄴ䩍རへ∦䯧焤愷䍠Žƀ夅შ㤙༾′⪂㵩掳婊⢄  "
   },
   "source": [
    "Next, we'll introduce a new categorical variable named `Length` into our dataset. This addition aims to classify each game into one of `Short`, `Average` and `Long` based on `Comp_Time_Main` value."
   ]
  },
  {
   "cell_type": "markdown",
   "id": "86d54d80-ef52-4630-bffb-1e04d9320384",
   "metadata": {},
   "source": [
    "#### **Instructions**\n",
    "1. **Define Length Categories:**\n",
    "    - The `Comp_Time_Main` column represents the median completion time for the main story of the game.\n",
    "    - Based on median completion time, create a new category called `Length`.\n",
    "    - Add three options for this category -- `Short`, `Average`, `Long`.\n",
    "2. **Interactive Assignment:**\n",
    "    - Use Persist's interactive features to select games and assign it to one of the `Length` values (Short, Average, Long).\n",
    "    - You should use the following ranges for assigning proper categories:\n",
    "        - `Short`: 0 - 20 hours\n",
    "    \t- `Average`: 21 - 40 hours,\n",
    "    \t- `Long`: more than 40 hours\n",
    "3. **Verify the Output:**\n",
    "    - Print the head of the generated dataframe to verify the changes."
   ]
  },
  {
   "cell_type": "code",
   "execution_count": 21,
   "id": "b59fb23c-da53-489f-9520-918d789978eb",
   "metadata": {
    "__GENERATED_DATAFRAMES__": "ᯡࠩ䃬࿀ᜤᠹ悋ᐬ推̅ሣ䧠ⶠ卍捯ᥔᠣ℠▢dʘϔᝠ捌〤瀵摠៨⠠ ",
    "__has_persist_output": true,
    "trrack_graph": "ᯡ࠽䈌ʀ匦㢠⹰ૠ⌠త燆ĸƀୠඤ䘹࡛Ṥă≴␐ӥ䨠昣ᡱ瞠ㆲ⠠䭈⑁槒爵ᝉ⵫ᚣጶ㴌嶛礨ǁ#〨㏣࿂′䈤7࡝ᠠ湐憎Ⴄ姗㈠‥䒞吠৹撠۱ˑ․ゔ癌ᄺჸ敮性ㄱ烑⥈∴ᘠ亠䝥䃠Ⴑ〨†嵝㻃哩Ƨ倶ػⲀ倠祐ሺᕂ䫮䖅㋅ㄉ⦚{ౕ僸∨㌤䋯Ɽၝ䑰䵨༪怭㒼ᨥ盢唠彝ሊ现恍つ澍恶ㄓ欠➠ǵ看熠਍ἨѢ熘๣೬䂠戩d⢬ȴؤ⊑撔䂩掬䑣िૄю­怨硣̦䆀帯尋ە洰ഈ昉ᆈ噅䏥঄䂦䢄夼佀⤴╒䋏ᣢ渶♇ࡄ䥺᮵䬓奼彈⬵▒勋⬸ൗ(ኡ†ĸ̠ǽڡස!昰⁽瑔Ą,姭㝸㹧⯯⪣㽋㛿㖙㺟ࡂઌ₎ˀ⋄傔ᒭགьةↁ尢ᤲ䋐琲ᖢ≦停ၭ⨉ὃ姪物ᠼἬ↰ᑊگ≑䱖Σ我岂秇⒕嵾忁䈬桶೎⥔₉嚏ᩍ䭖䶁妌穽䈠㤼❧䌀娥坻弊㨈灑ؠʪ㢼㿿㪥‰Ȅ\"峠ᰉ旞㳍㞷搑ë歏䘨䋢⠡ŞҬफ़ᆭࣜဃ灄/⛅⼾䜥穝猝ᛛ‭漣ᇰ䁨ஐ恤ౣ徻↢湌ত䡤ᕢሯթɗԁ煞✁ك㒭墩ŠȱƂ砦ơᰡаし܁墎ࢱء劢⑼௼௟煢㼤䮐劘䑜ɐୣ纽勣䴮䰬湋匡溬ಅ嬿怤䂨ᛑ映䢰刭㖱疢䊌⩋㝱涶䌌䈶珈乄፠寄ぁ凌㍡燊⑭䧊㝭᧖㗭禧Ɍ䈴᜴ᆴㆬ熩l听⩀榦㗨ॾが⥷䉐♄ᄡ窱兕曐൹欳倡䩞໶墮僶堰˰᤮䗳㨾䯷塮៶礝⡓砡ᡄ⹀̧౰ʳ‱⮡౴ᆥㅹᵢႶ嵤煑ཆᑅ墭䶵剳㈼噱␪卂⨢啶਺䡕白΃琣ࢁₔᲁၳڃ䱰嚑夓嶃幋䶖ᱏ匁湂܃尯঑g嘣ḷ䄿䳯刃梯䬺泏䘀織䷡纟劬䋁թ$㜂ᇰ⹫尫嘫䂺⚷Ᏼⷤ㔪⌂厊♨稬構Ð⮻Ќ氓㔽㱩à㐩䄀㚿珄␧ሊ␦ℼ扃偐إゼ̦ヸᒃ旈庥ヅᒣ暘Ԡ၈ԦሸᎠ㈶⟧粠報㢖⧻㢮♣園ᇒ⣭啣㚺Ꮦ᚞㻄䋌ஐⵑ妍ⶼᶈႻ⃋凌ណᢙ䤳偧㊳☂෣䝫✤⟩畞洹澎枧Ⲅ剺䫈䣕㣳᪦呻n坲㢡ღ婐௉疝⌭楮壭᥃␡窵崩嫚⪉ۓⱇ䵉恦䢼ޭーຠ浄᮫惼ء撈༦摑䃹綈৾沅䴈䡁ⱎ旙⥑☥⹎ᕙ哎◽寥㸝儠絣䑑㦯典​✰᥌ࡒஐ㟸䎥ڻ䌭㮣ෑ夻༺᩾ϥ\\㛸岋㰨ᲭӪ࠰䉢䦬ள‱䭜ᛆ禈≪桌䳽崴卹㮬ėᾖ䭹㟢ᨸ囅䭄摢䗵䪩㽍怨ᤧႎJ犡两䃤᤭±ᒠᡃ࣠⌧᭢ږ暪癶∍㙾撝嫑綼䁖⊦⠶捰ഡ泺ඤتᲰᮢ措秏ܒ漽現Є㹇抠柪O寺䑁㭏ᨥ⼼ݾ温廻抽㯣ᇼ⅂㲗䜘䕶檊嚎竆溿э⏽㇍窬突⤒൯✔㇍ẳ⧂௬᧢ᅠ⡞ዑኄ炔⅀涁䡊ᆼ籫ᄩक़手捿㦇ං灮∦嬈䅽槳Ḗ䝙玫棠ᗃ㴡攚ᇩ扙⨣Ꭰಇሤ嘢䣀䑓䂭柦䐷ڛ䢬伭ϯ̦ㆾՃ⸮䌢ྜ∹籄ᛰ擰≉䪸槄ଐ䃓ᆙ᝸ᆎ䤪⹌ሹ棒⎥⢛旳Ἡ⬡ࣶ⿮ᣂኡتጤ儙⠴°㩧㊌恊䌪䢔ޠ䭼䨄㱡丫姛㖴筝ૌ椫ⱦᬄ䇽旬⯫䏏䫴ⶬ•˼檱䃕ኍ൙剬Ґ㈱媔欦瓑 ⹳昕៫䢠⫺㡶ҷ➋≬㝗Ɗ匩㰽࢈8℡ጳ瀠ὠt∺〭•攬вഠpし⬕㧐j຤ᩛ႐ᄪ湍⧅䄶氍゚〦Ś煨嘩Π൷㤓捕ᕒ⁰ᬣ典⒄؄⚑䖂涆䀲ᅨ㹎䆩॓٘䌔渒ᝧऩ朱ব܂⣘絯䨣侲䝬泫缠฼波⡃أôơ厅䇖曠笁峋䑙搴䙈檘杙ː㌄灳獮䅓峰فኄ禄ጒᑓ䏈㊀″䇰矬㍐㈆䨷ᘪ戓䑫牵墦Ż䎦嵤䛣棽灻嵰囌ヂℙṤㄩŰࢷ∿๰㰥ষ条端³䭓ⷈᙩ㒴紅㖢埵㷀ோ竘歭☠⵵噎፧ᬠρิ۸睹瘆上皧煢ৃ奖ྴᘥごܸ籔擜洦柖۠უ☳֞ฌ幛⒣啌搔晥伴䝘抦Ἠ䉶ឤ灯⠨䒊ò㪀ŉܭ⓵䶅咢ᓵ丽℠!狄޶焆ൌ઀၌ᇡँ傱灤槅䛳㵂k开ᩅ獰儻䣮䄁帹呰䓃橛␔㏀ᠪ凮ᴀ炱砑嫔঵㏠䂯㲐Ѐے穼氐泋݁㎼妗㇒⾀爦፪⹰ᵬ⑚㲸㥸撐ՄŠⷧ㜑媱৔ڕ䪢厝È暈瀿嗭ᩙं億燋3⷇፳⻄᪍㖤䞋᳷ѽ㛍ᕻ➕มཕ傗ᤐ穻Ⲷᷤ甮墉岎烕≬恄恀⣵۟☾䃮⧱坕㠻Ⴠᩐ⒆℮ᔧṏ淮尭䐸෠倳㶳ᶣ咁㒽䠤䪢ωⰠ楴ӳ㋕劥⏆ᖈ坊侁䴖䎹耈ᱍ噑⌭[㶅杔ؖ欅泡润碅㳃媓棪磇⼓⺞מ㵇崂㍝枾䮻ܒޛ㩁㴖悬ⷥ䉾ᄛ欥㚓嵐㜥䊚栙湹㝰峑尳ㆮἷ⸹᜼笧⿞⿈┕ᗼॅ氍᷹琬喘緢翢⿈≄ຨ回〨㜲恤⡰咡㴔ྨ㤠椪a痁䈁䘣熥䀳䡻ɟᏰ࢜ᘶƌ䐲涘୒椩ҁ絆㭸⒅Ջ愸⵷媮灒ौ棒⧱᳟凴崄Ǥ掣䏨ⲗ䡧⭈嗤ŀⷭ㭈஖疗䤾挲䷋潂᥄縏巶┩⠥慁嘖怎淕ỳ㿀஘総岬༞儭淇櫖窱杵番仁稾媻⽖ⷝ⁎國暋檝☢浾↍悎܃强ᷛ〷㨸獣癳䴷㺱­溕⊱ៀ⳪抖猠␠߈ጚస䰝磱嗟ⴊ桖䛒ᐨ決憺燖曇⸓⃺⒒㛊ᷰ෠加綤慶⸢⻰泈ᤷැᶰໞҧⱮ掴ḹᷮ⶘槱捌璎⭮敀㦡䴹櫚暔匰㶢࣎⟳篞璚࿎渵Ẵ⸀䄒⯶⌤㖌෡疗ゔᑭ慈೤ణ৘䧜ᮢ倡⁄ⰞⰡ摙ሒp᳠ᬣⓝ柬䎑⭜඲潐救↺䱐昰੦懊䊔ൠ汔డ෗汦帓ї棈榪㩗扛ნᖠᴥ秛䐈源喓梔峨䭎≆殰䎇毦₩篇ᵥ渱䤮゘䵄柀ፒ䀼䱠ڱडᢊ䳰滆Ė砯䃔浴㵓桃䲬梚Ⲭᧃ䍌洁䴶ᑤ䈌湱村䊻䵌ᶁ嬯塮䂜斠㜩冧䉰π圫禧䊳กⰦ֩ᒂᤶ徖珜ⴲ恁⌫㡊ⴢຶ甔ᒆ㷒楪徇旞㳼䚂億墯䧌〄ᵥ⑌㧳ڠ尖漣粒h栕杋ÿ憘們教ႎل漒ᝅ揎ᾞ䌤㿝扄⤑枨羷緾ᰞᕶ槖唊Ґ淖ࡢ炮楜ኳې䋃⦞☀暾Ư䓔ആ客䒪߰ᚴ婝hఞᗂ昡⇨ʔᰀϏ㴎潾椶㶫糾櫾㈑緇㴀៸矄⁦㒭䨴Ⲑ䂮᳖⒬㰯䃞旗Ңኑ᳊ᡇⅮဦ情ϐ⽚㪔⻝ͨ⣄痰஻ДᳬỆьढ़淡浩ѡ䊤⬤䉑澨䲭Ữ瘩䋌࢒ᓞ粪管屭ᫌ兓㡈䧹ᱡ぀憨Ƹ⠧䑏絩ᬲ縃昰焱⪨೒梶ⱉ⸌⩲㥟妬⿑拖៓ᑮᛪ㨢垷㇑ᡊ㱩⛁ቬ౩᳣ኜ䕸३侒籨ő᮹屩戡㏲ѹ㓵ኗǩṹ⴬䊕⢇槊⍠㩹䉷曞䈀濋呍ᔁ剓窶浲ર搒≠ᳯ暩䘇ؠ䃘ɠ䱦በ䅱À呢派ᖱఢ㋅࿈嗉៲䫦徵捘䎑羫岌¡ᬞ簑㱸ኟ晄Ҕ㛗ሶ⫹㮀删卐ᑉ廱ટ㓥ᨶ८ິ剨ፉ犔惜剈ᄘ⨩叁յხ畯ႫᲣ氱㸯䑡叽ᨠ撨䠴䲄溱ਲ周ěឱ猯咍䱪ῆڐ呸Ⲩ婙媩৙੭൴⚯健⏖૱ゥч䴦΁ద懗ᄃⅠ慉উ⇜教ŋ暠抔Ѡ繈怼㖑≘ㆮ碌Ⅷ॑榭婹剨峞ʮ毗ఘ垦㹈ঀ慤媅ȥֳಆ᧮㭯兵䰲ᓄゥ䦖ค巪إ๘拦౐ȡ栤䭢俱­ࢍҕᅁݎᛅ祴ḡ梣ሾ⥟恴䱢纴Ʃགร瀪Ñᴹ䶫䚎ⶓ撹㩲ᖱ㲹♶㌑樶×೙呣⺋ࡗṠ⟑ٸ恬ঌ೶╁玈Ẵ狍⹽Ƿ᧙嫉湣Ⱇᳵ㜒ᅌ泛᱁⵶榞⎍⡙廆๶籝⦉彳嫄珇ሺ吕≥紷Ḱ湳Ǌ珲ௌħ≇ăས⿶璪䁊Ơ᳀ᛏҫ⵹ᳯ抾㐋ᓶ䋯籓㍫ᅩ໩㺜˿ᠢ೷䣁⃰ᕘ仰ⰶΑ瀙粗悘匨ᒒ㯣໚Շ┥⪕䆘劈ᑬ⿢ⅺ瑰儚Ḩ殱巽ሠร嗕壑ߌ嗫收㇂⮪判ဪ䗩࿜熢㭚捒湪崷䙮挓油穰ᱩⲮ᩾ᬷំƃ䞎䆡涏吖唖⏎搩毕䚕樤嵯ⲫ䑍ᐡ୾樮免▉ご嬸ຕ㦊侨殇晕ؕᢉਧ 槎乨犊ច৬༶₇ᕜᑭ侢犃≨ລ䑜䫸䳠ɤ怦⃩෤早䑂Ⴠࢀ≡䁅ሟ浜ᗬ喎槚娚廋溍యᡕ乮⏓㒰៰搮禚ʡ巺氩䃘ᬠ嗘⢉໔叧℥ழ⍲匯༥㨬Ⅺ瑕᦭Ɠ࡮剐冠㡒ࢼƀ䚠䱊庶←瀁沤կսዽ㜊⤧㭻嚠睫ᑖ൲ࡐ䈍炏岌妍帔瞛厛全罈ླྀⳑ哽坫媘橐櫝⯶侌竊淝䜊֋剢姌籤ဧ╓࠹ࣂᑃ紬ʸᲠ帷ࡦਦ㶃宦⯔◑嚋旛ᬒ塾䙵ᗑ揪揈ᗃᕩ䂜⺌㮭࿊ᗝ婨ణ箌Ś卾愈὞㨜⬨堻㭢ݞ撣䨡⃺أ妣ᄏ圡䂲⅀滭淏㌭宱ᵍ嫋㏷携஋䵸父剠㐢淛ᄍ岩毳ⶁ≊❔䆥⑋岃ະ◅䀵æὠ㠂ᐹ⁎冘礵ޑ犎嗕憋Ϊ寥儴揈歬⃕孍ɦ❢Ͽᡐ泠ͺ攥ᔢ慭恠ଖ␥⌍Ɗנ噡䪑⃕ᶱ嵽䝗⍳͹毝瑋橬-ᩝ坔睱窶Ꮳ䥌潹笢㦝悽ᆸ❺ᤳ侑瞏⌜怆⸈⓰窲㿉圍ⓤ竇坅Ჹゖ᯸ቝ⊾睲捻ᮦ⅍ᥨ䪃亝援│竭ᮅᘌ佦➂㶳碿ᓰ⟺㓄獮⾒⟲㴳㐥瓠搇厭卮ೡ穡Գ涕増ᘚ㏝㚾奶䬸㤉䐏ഖ崊㽂䚽ও➒ポ亖彷烱↕䌡ᐷ疩ໍ≡浐೎ከѶ啾ƂŨ㦤㍬㎹嶾ӬᢡⰫ惪䎩ឫᔙ唣暸䐷䕄㔠椺岂㈄㎺⋂⤙ŷዂ屧䮔ᙄ㉐㡺ಢᜄ㻨Թ⌁⃱㫃䱽殖⊁ᠰ㡭侢ቶ奸积⵬㕧ஸࣨ杚ㅷ䊰㸡ን巃剨䱡䲶፰㇃㭼߽嵠∺筩ޝ寔琼ݶߴ㨕⹯䲯櫢❶劦纐ᮟᎡ旤㤁ᵅᱡ㜽ᝧ䘱嘃⒊Ūᰉ暭㬎↓ˑ岉粽ԁ剺ノ᭩橲筘ュ㆓㬆瑝㟝ⶾ↳ڽፓ焮ᯈ⩂๠僂癈⑐༎炐ǖᆠ溰ሤἣĪ們严祉ᘟ喵ᴔ⚍ᔪ樣偿⚄ܢ侂晣ᑙ墾ᇫȢ猀䯷䎸㹸湠埕䲀䰥╎ۄ᛫嫹煝㘴ࡐ⛿ᐵ⯓㨦盾଎䇈㫊ဣ僼簶ㇼ嘕ᮁ傆姳燬⵭嫐C㧮ऐㅎ擜䅄摀㋲凤犎倣X侎⊡屍夣ᑸ⑥ଘ槤㬫硽䣿䰂ಫᓶ⤚ᛴ㕣ᚤ⏊噱漙囮త無嶮㬻繣䠓唃䌊Ꮤᩰ⬭奬䅢劀好宱⩭㮍㰘䘨ģ㫀斅塑㝶઀兆屍⒞੒ᑥ׹姓੄ੱⱘ塑丐嚆潻妍༌敥⿧㆘壼揥䆬璞ේᥦⲾ䥰ⴢ᠋㑊ഊ਍ᷓ续概␘璅笨榇噚㩓歒廛䱤畅Ë竫匘ᆓदᑈ䨚ؖ堀緂䍲࿃珤倮㓘䂪ᠣ儠䤈ࠝ壩㎖⬫㐫ᓨᖘޙ媑䃀狊⊤䇠唭偂ᓯピࣄ䙪㒏㍾┦孋⨢⢛僙Ụ⿄┷䯽䘐㰂羛⇉僾偣擖䍡⶯䆍⋢㘱䁆洧䚞㷗㑁氹㬨㊱ञ矣̸ᮠǑ႘䎨⠌灈ప侌娣䋽H߷万粋俣兀噹圁䄋・⇽猈盻㑋任ᤗ殧ຸ㊡絖嚓娭桜䍌ฮ②ᢍႜ᭰縃⭽磺匍ㆭݺ橠㜘ᝑ庐㳕勅洋杬ௌ枀䘱俚㬔佾ػᵪ毄䉆䬾俜ങ晃㧌剡ీ䧘઻㓼☲ᅸ們㑷䫧∞ܫᮣ⋎䎂ᬦ羑ᇦ甬ѷʨ䞣᷃是嶓䞨Ū碾羵皭⧛䯼䂙紆⩜灻䁻沇᭳ᡵ࠾ᖀ⣯删盞ᠥ巚眸౧瘊䋛ђ屵บ䁸䐔ⱹఇ⿘䋤ছ瘚秅瑗㦜㬢幆秹娽ൣޣ㏓ᘖ偄珸㭕୒孭嗙ߣⷼ㗰䜽峫㧂㨚䄁㽻↰⊢䇰ה㯺偋㋢▩ḡุ㯎倮ᓞἘ⽘䆷௹䗳ⴂ瞛䓟ⷺ坖瘂兄掶㩀珺㵹氡嘨ἧ挋Ɖ埮紥䯞⪍̜㮗¿ᔟ潙桯₝㩨ὃ㽙✜ᨔở໨湡ㅃ沺⣤濴䁲䄒ђ帅ࣟ⅍摭㲜ᇼब᷎䑓䨑嬷ࡇὊ־䃷㶆䶡✵䎔稁熭碆➗烦啝㪏漤᚞梬䨞ṥ戳睪⑸è眀㱌⦵๸眀ᩚ㆖䰸糱䪫䀛䁔瑤⾠ള㠵䖊ᑺណ䮪ᘛ稭献云᣸⥓ա᯶⥫慩䑌啢嬞㉃ἀ墻ᡫୢ̀᩸c㏯ᬮ㰡㗸䎺糉䂃曘ᘡ㬔ॾ㶡槤篻䑸懂嗖ᅀˀЄ␦㓌§戧อ傠ҽ潨䈑ʀ⟾⨡縎恰㢼ܧ榜⼣ܔᗱ㚅太◕ᠴፃ⬋橍⹦䐍䃷ਙ╇ϵ潛悉᜺վ㆛嘋殴庣㫫扗ờ排⯥⬴璙ᜀैᇢ眂۝䜚壡梋࠵䛒⇬嶒ы厽૚ײᤌ崮༕毽慎⏽㌵䖾ㅞ㨔猛勆尙弍篏湩ډ℅㮝㼁㟳ⱜ䤇䃨⨾㲉匩䁈䡕狂䦎⩈屦戻Მ秐טɒᓡ憍Ίʤ稧䱯⥝戅㌫硪㲒౒ᚾԑ琤位Ṁ厹ƾㄣ罓㍷ᖂ污㜆䰶೫秎㢶炡Ÿॸ㣢䗖˫䵔擌⚈ἐ䂠滈ႃǾ磐Ṁ桼犢߻䂹ˣ炄ࠠ  "
   },
   "outputs": [
    {
     "data": {
      "application/vnd.jupyter.widget-view+json": {
       "model_id": "a30dcdb58b974da4bee552ad7b69d7e7",
       "version_major": 2,
       "version_minor": 0
      },
      "text/plain": [
       "PersistWidget(data_values=[{'__id_column': '1', 'Title': 'Samurai Warriors 2: Empires', 'Max Players': 2, 'Mul…"
      ]
     },
     "execution_count": 21,
     "metadata": {},
     "output_type": "execute_result"
    }
   ],
   "source": [
    "PR.plot.scatterplot(df_task_2b, \"Comp_Time_Main:Q\", \"Review Score:Q\", df_name=\"df_task_3a\")"
   ]
  },
  {
   "cell_type": "code",
   "execution_count": 22,
   "id": "ce12290c-757c-4ba8-a879-8310a0fcb90a",
   "metadata": {},
   "outputs": [
    {
     "data": {
      "text/html": [
       "<div>\n",
       "<style scoped>\n",
       "    .dataframe tbody tr th:only-of-type {\n",
       "        vertical-align: middle;\n",
       "    }\n",
       "\n",
       "    .dataframe tbody tr th {\n",
       "        vertical-align: top;\n",
       "    }\n",
       "\n",
       "    .dataframe thead th {\n",
       "        text-align: right;\n",
       "    }\n",
       "</style>\n",
       "<table border=\"1\" class=\"dataframe\">\n",
       "  <thead>\n",
       "    <tr style=\"text-align: right;\">\n",
       "      <th></th>\n",
       "      <th>Length</th>\n",
       "      <th>Title</th>\n",
       "      <th>Max Players</th>\n",
       "      <th>Multiplatform</th>\n",
       "      <th>Online</th>\n",
       "      <th>Genres</th>\n",
       "      <th>Licensed</th>\n",
       "      <th>Comp_Time_Main</th>\n",
       "      <th>Review Score</th>\n",
       "      <th>Year</th>\n",
       "      <th>Publishers</th>\n",
       "    </tr>\n",
       "  </thead>\n",
       "  <tbody>\n",
       "    <tr>\n",
       "      <th>0</th>\n",
       "      <td>Short</td>\n",
       "      <td>Samurai Warriors 2: Empires</td>\n",
       "      <td>2</td>\n",
       "      <td>True</td>\n",
       "      <td>True</td>\n",
       "      <td>Action</td>\n",
       "      <td>True</td>\n",
       "      <td>8.0</td>\n",
       "      <td>53</td>\n",
       "      <td>2007</td>\n",
       "      <td>Unknown</td>\n",
       "    </tr>\n",
       "    <tr>\n",
       "      <th>1</th>\n",
       "      <td>Short</td>\n",
       "      <td>Bionicle Heroes</td>\n",
       "      <td>1</td>\n",
       "      <td>True</td>\n",
       "      <td>True</td>\n",
       "      <td>Action</td>\n",
       "      <td>True</td>\n",
       "      <td>9.75</td>\n",
       "      <td>52</td>\n",
       "      <td>2007</td>\n",
       "      <td>Eidos</td>\n",
       "    </tr>\n",
       "    <tr>\n",
       "      <th>2</th>\n",
       "      <td>Average</td>\n",
       "      <td>The Legend of Heroes III: Song of the Ocean</td>\n",
       "      <td>1</td>\n",
       "      <td>True</td>\n",
       "      <td>True</td>\n",
       "      <td>Role-Playing (RPG)</td>\n",
       "      <td>True</td>\n",
       "      <td>35.0</td>\n",
       "      <td>58</td>\n",
       "      <td>2007</td>\n",
       "      <td>Namco</td>\n",
       "    </tr>\n",
       "    <tr>\n",
       "      <th>3</th>\n",
       "      <td>Short</td>\n",
       "      <td>Hot Pixel</td>\n",
       "      <td>1</td>\n",
       "      <td>True</td>\n",
       "      <td>True</td>\n",
       "      <td>Action</td>\n",
       "      <td>True</td>\n",
       "      <td>0.45</td>\n",
       "      <td>55</td>\n",
       "      <td>2007</td>\n",
       "      <td>Atari</td>\n",
       "    </tr>\n",
       "    <tr>\n",
       "      <th>4</th>\n",
       "      <td>Short</td>\n",
       "      <td>Dead Head Fred</td>\n",
       "      <td>1</td>\n",
       "      <td>True</td>\n",
       "      <td>True</td>\n",
       "      <td>Action</td>\n",
       "      <td>True</td>\n",
       "      <td>8.0</td>\n",
       "      <td>75</td>\n",
       "      <td>2007</td>\n",
       "      <td>Unknown</td>\n",
       "    </tr>\n",
       "  </tbody>\n",
       "</table>\n",
       "</div>"
      ],
      "text/plain": [
       "    Length                                        Title  Max Players  \\\n",
       "0    Short                  Samurai Warriors 2: Empires            2   \n",
       "1    Short                              Bionicle Heroes            1   \n",
       "2  Average  The Legend of Heroes III: Song of the Ocean            1   \n",
       "3    Short                                    Hot Pixel            1   \n",
       "4    Short                               Dead Head Fred            1   \n",
       "\n",
       "   Multiplatform  Online              Genres  Licensed  Comp_Time_Main  \\\n",
       "0           True    True              Action      True             8.0   \n",
       "1           True    True              Action      True            9.75   \n",
       "2           True    True  Role-Playing (RPG)      True            35.0   \n",
       "3           True    True              Action      True            0.45   \n",
       "4           True    True              Action      True             8.0   \n",
       "\n",
       "   Review Score  Year Publishers  \n",
       "0            53  2007    Unknown  \n",
       "1            52  2007      Eidos  \n",
       "2            58  2007      Namco  \n",
       "3            55  2007      Atari  \n",
       "4            75  2007    Unknown  "
      ]
     },
     "execution_count": 22,
     "metadata": {},
     "output_type": "execute_result"
    }
   ],
   "source": [
    "df_task_3a.head()"
   ]
  },
  {
   "cell_type": "markdown",
   "id": "36e82a42-5f2f-44e1-b9a5-2e2d403b2ff3",
   "metadata": {},
   "source": [
    "## Task 3b: Finding Top Genre for each `Length`"
   ]
  },
  {
   "cell_type": "markdown",
   "id": "af40bad3-436e-426c-a02f-f205597e90b5",
   "metadata": {},
   "source": [
    "Now we will analyze which genre is most prevelant for games in each length category."
   ]
  },
  {
   "cell_type": "markdown",
   "id": "72455a32-623b-4b87-87d6-ca9c8ebf19e7",
   "metadata": {},
   "source": [
    "#### **Instructions**\n",
    "1. **Context:**\n",
    "    - We have a faceted bar chart. The `x` axis encodes the `Genres` column in the data and the columns encode the newly added category `Length`.\n",
    "2. **Analyze Genres:**\n",
    "    - Observe the bar charts to identify the top genre for the each length.\n",
    "    - You can hover on the bars to get the exact frequency.\n",
    "3. **Document Findings:**\n",
    "    - Note down the most common Genre for each length based on your interactive analysis in a new markdown cell."
   ]
  },
  {
   "cell_type": "code",
   "execution_count": 23,
   "id": "c45b6a61-ef0e-408a-bded-b1d1c1666e9c",
   "metadata": {
    "__GENERATED_DATAFRAMES__": "ᯡࠣ䅬Ԁ朤壠ᜣ琢〹夤゠⹰〮⁁䁻қ䚾ኊ㇠നСࠩ瀮晼Ƭ穅5愠៤⠠ ",
    "__has_persist_output": true,
    "trrack_graph": "ᯡ࠽䈌ʀ匦㢠⹰Ǡᆪᆭ㐽䁍ἠ氢దᨰֺ曶ୟÌ㔮浠么⠀ᦳ9妩ౄ倡ᙰ䡣内恌⹪囝⌶㘽嶘ܭठ͢&晭ّ䲠┨ࠠ⺦₀ǘ憠㱢Ξ燥+ӑ䨠Ԇ牠ΈƔ䛦ᜫቆ࣢䨶⏑䅠Ȅ恨沜♆)䳭䐄犐௪䘠嬸ᶹᱤ٦ң嗸⑁妨⣃ᩍ䀺敶☫瑦∡㹦⇖情໡׽ण䋕䖰ₖo#善ဃÃ疌⁅溮杒►橦ⅭⅠ᠀⦸イ䄲☱᪰⊤⍁㺑䒊ਨ፰簪ദ℁ᱧᎃ嫼⥔䐦ᣂጰᡋ゙㈬ܧ䄱⑪ڧ⁐䱶ᶥ愑籁Ѧᅄwぴፚ㲒⹑⁄哤窬䫲⧚൙ਠ "
   },
   "outputs": [
    {
     "data": {
      "application/vnd.jupyter.widget-view+json": {
       "model_id": "700528e509fd465393f8998580fbc5a1",
       "version_major": 2,
       "version_minor": 0
      },
      "text/plain": [
       "PersistWidget(data_values=[{'__id_column': '1', 'Length': 'Short', 'Title': 'Samurai Warriors 2: Empires', 'Ma…"
      ]
     },
     "execution_count": 23,
     "metadata": {},
     "output_type": "execute_result"
    }
   ],
   "source": [
    "NEW_COLUMN = \"Length\"\n",
    "\n",
    "chart = alt.Chart(df_task_3a).mark_bar().encode(\n",
    "    x=\"Genres:N\",\n",
    "    y=\"count():Q\",\n",
    "    color=f\"{NEW_COLUMN}:N\",\n",
    "    column=f\"{NEW_COLUMN}:N\",\n",
    "    tooltip=\"count()\"\n",
    ")\n",
    "chart\n",
    "PR.PersistChart(chart)"
   ]
  },
  {
   "cell_type": "markdown",
   "id": "00e87acd-3759-49eb-9e43-d7793672297c",
   "metadata": {},
   "source": [
    "**Task 3b Notes:**\n",
    "\n",
    "- Top publisher for `Short` games: action/521\n",
    "- Top publisher for `Average` games: RPG/34\n",
    "- Top publisher for `Long` games: RPG/14"
   ]
  }
 ],
 "metadata": {
  "__CATEGORIES_META__": "{\"categories\":{\"Avlanche Season Phase\":{\"name\":\"Avlanche Season Phase\",\"options\":{\"_None\":{\"name\":\"None\"},\"Start\":{\"name\":\"Start\"},\"Middle\":{\"name\":\"Middle\"},\"End\":{\"name\":\"End\"}}}},\"activeCategoryName\":\"Avlanche Season Phase\"}",
  "__persist_keys_record": [
   "__GENERATED_DATAFRAMES__",
   "__persist_nb_uuid__",
   "trrack_graph",
   "show_aggregate_origin"
  ],
  "__persist_nb_uuid__": "644f4f59-ea84-4434-9798-be2a3d19b586",
  "kernelspec": {
   "display_name": "Python 3 (ipykernel)",
   "language": "python",
   "name": "python3"
  },
  "language_info": {
   "codemirror_mode": {
    "name": "ipython",
    "version": 3
   },
   "file_extension": ".py",
   "mimetype": "text/x-python",
   "name": "python",
   "nbconvert_exporter": "python",
   "pygments_lexer": "ipython3",
   "version": "3.9.17"
  }
 },
 "nbformat": 4,
 "nbformat_minor": 5
}
