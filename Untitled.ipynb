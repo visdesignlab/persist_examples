{
 "cells": [
  {
   "cell_type": "code",
   "execution_count": null,
   "id": "65385450-a68c-4317-9053-d267206dd74e",
   "metadata": {},
   "outputs": [],
   "source": []
  }
 ],
 "metadata": {
  "__persist_keys_record": [
   "__GENERATED_DATAFRAMES__"
  ],
  "__persist_nb_uuid__": "21c87355-95e2-493b-8051-cdccc9ea4a2f",
  "kernelspec": {
   "display_name": "",
   "name": ""
  },
  "language_info": {
   "name": ""
  }
 },
 "nbformat": 4,
 "nbformat_minor": 5
}
