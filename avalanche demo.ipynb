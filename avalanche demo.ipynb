{
 "cells": [
  {
   "cell_type": "markdown",
   "id": "0960be18-804d-4e84-a6a7-b5ed33d22b52",
   "metadata": {},
   "source": [
    "# Installation\n",
    "\n",
    "<div>\n",
    "<ol style=\"font-size: 1.3em\">\n",
    "<li>\n",
    "    Install using pip:\n",
    "    <code>pip install persist_ext</code>\n",
    "</li>\n",
    "<li>\n",
    "Restart kernel\n",
    "</li>\n",
    "</ol>\n",
    "</div>"
   ]
  },
  {
   "cell_type": "markdown",
   "id": "522fcbb3-702c-4ea0-91d9-f3b0e71690fc",
   "metadata": {
    "__GENERATED_DATAFRAMES__": "{\"nodeDataframes\":{},\"graphDataframes\":null}",
    "show_aggregate_original": "false",
    "trrack_graph": "ᯡ࠽䈌ʀ匦㢠⹰àᦴ΀࣪ʐ怶䦠挠᱊ࠥ䁁䂖㚥煤晬փ⊪ĸ暂䙠঳ैkᑄᄈ妐ଷᓋ⃩䖻Ṯ溜Φ䐡傠Ǒ団Қ′䈤7ࡣᠠ湐戎Ⴆ寐爤䀥屨攠ʕ㥀ǔÚ䍃㏙䤥ࢂ┩勸惀Ēいཆ༠೥∁∀秸㲅䌠ⶬᛦ䙂ǃɡ殍戰泤ᒁ嬦怭㋉匥穃ᄠ彣჻⴦䉫ぢ睤䄁ⵐۻG䀡曑砑䂱竖ᄂ㜿Ꭽ˹ȩᚱ凁兘㑐Ṣ༩Ẻ䳥⑆憰棨忞⍧攈堽Ī僰὆揖䦲ᡊ⛓౱নఱ姼ᤦΧ您別൧儸晋Ǣ熘繀䉁硨K塊়ṹᜰ倳䪂ⵦ⚈ᒽ᪺ᆬ䀠 "
   },
   "source": [
    "# Analyzing Utah Avalanche Data"
   ]
  },
  {
   "cell_type": "code",
   "execution_count": null,
   "id": "9337796b-21e8-4c8c-bbbd-3076a775d03b",
   "metadata": {},
   "outputs": [],
   "source": [
    "import pandas as pd # For saving/Rloading data\n",
    "\n",
    "import altair as alt # For creating VegaAltair visualizations\n",
    "\n",
    "import persist_ext as PR # Load Persist extension"
   ]
  },
  {
   "cell_type": "code",
   "execution_count": null,
   "id": "549d79a4-8d12-4b6a-a420-d37bdd882e50",
   "metadata": {},
   "outputs": [],
   "source": [
    "df = pd.read_csv(\"avalanche_data_demo.csv\")\n",
    "df.head()"
   ]
  },
  {
   "cell_type": "markdown",
   "id": "21e8f3d0-4e9a-4469-8a30-cd5b930e9b46",
   "metadata": {},
   "source": [
    "### Delete Columns\n",
    "Delete columns `Coordinates` and `Comments 1`\n",
    "\n",
    "### Rename Columns\n",
    "Remove `;` from `;Region` and `;Trigger`\n",
    "   \n",
    "### Edit Cells and Change Data Type\n",
    "Remove the trailing `\"` from `Depth_inches` column"
   ]
  },
  {
   "cell_type": "code",
   "execution_count": null,
   "id": "0f683668-1bd1-40f5-a6fb-f4828713b0c0",
   "metadata": {
    "__has_persist_output": true
   },
   "outputs": [],
   "source": [
    "PR.PersistTable(df)"
   ]
  },
  {
   "cell_type": "markdown",
   "id": "ac53a605-2d10-4457-9625-70ce88f04f3b",
   "metadata": {},
   "source": [
    "### Filter out points with elevation outside `2300 ft - 13528 ft`\n"
   ]
  },
  {
   "cell_type": "code",
   "execution_count": null,
   "id": "7c0ac66e-ce6d-4726-93e3-52760bd72fa2",
   "metadata": {
    "__has_persist_output": true
   },
   "outputs": [],
   "source": [
    "PR.plot.scatterplot(persist_df_1, \"Elevation_feet:Q\", \"Depth_inches:Q\")"
   ]
  },
  {
   "cell_type": "markdown",
   "id": "b6e26bb4-ac85-4acc-afe7-07b8a0c227ce",
   "metadata": {},
   "source": [
    "### Remove points before the year 2010"
   ]
  },
  {
   "cell_type": "code",
   "execution_count": null,
   "id": "d215946b-46b1-4419-a699-9682b9ded442",
   "metadata": {
    "__has_persist_output": true
   },
   "outputs": [],
   "source": [
    "PR.plot.barchart(persist_df_2, \"Year:O\", \"count()\", selection_type=\"interval\")"
   ]
  },
  {
   "cell_type": "markdown",
   "id": "402412ae-3b84-4fec-9c01-94dd203a7b1f",
   "metadata": {
    "__GENERATED_DATAFRAMES__": "{\"nodeDataframes\":{},\"graphDataframes\":null}",
    "show_aggregate_original": "false",
    "trrack_graph": "ᯡ࠽䈌ʀ匦㢠⹰â䂬ƀᶷ琶䁋c<搔怳ଚ䠳亡䈤㉕⁖ì⺇⊨攩ᐠ▨戰㑹㧒妰囇⃹喧㝞Ţ∠桠ûு䁔䈠ॢȠந㺸ᢀ盅⻿夣•晀樠Ԃ牠Έƕ稦❳ሪὦ䰼⇑䅠Ȅ恨㙎⌯᪴䶹䈁ℓ琡㙐ᮂ⢨᢬थ⧓ࡢ㌰ሚ璋U䳘䠵欯Т縔絭Sㄭۡ۹ण䉔悊㘠传ϒ橷挣⌏ⱡ䕼庮打㈨ɼ榨慢䃂॑瑐繦┭ڼ㾬⎂厃焸牘榥ᄨ䦯ඦ嘔㗆溄⒀擒摖≦၀ⶃ㧄మޢᄴ䩍རへ∦䯧焤愷䍠Žƀ夅შ㤙༾′⪂㵩掳婊⢄  "
   },
   "source": [
    "### Create a new category, `Av_Season` with values `Start,` `Middle,` and `End.`\n",
    "\n",
    "- `Start` of Season for **_October_, _November_, _December_**\n",
    "- `Middle` of Season for **_January_, _February_, _March_**\n",
    "- `End` of Season for **_April, May_, _June_**"
   ]
  },
  {
   "cell_type": "code",
   "execution_count": null,
   "id": "22d4b1da-1e27-426f-a7cf-4c47c875b368",
   "metadata": {
    "__has_persist_output": true
   },
   "outputs": [],
   "source": [
    "select = alt.selection_interval(name=\"selector\", encodings=[\"x\"])\n",
    "\n",
    "chart = alt.Chart(height=400, width=500).mark_bar().encode(\n",
    "    x=alt.X(\"Month:N\").axis(labelAngle=0).sort([10, 11, 12, 1, 2, 3, 4, 5, 6, 7, 8 ,9]),\n",
    "    y=\"count()\",\n",
    "    opacity=alt.condition(select, alt.value(1), alt.value(0.2)),\n",
    "    tooltip=\"month(Month):N\"\n",
    ").add_params(select)\n",
    "\n",
    "PR.PersistChart(chart, data=persist_df_3)"
   ]
  },
  {
   "cell_type": "markdown",
   "id": "e1640222-c02f-4a10-beb0-e648c9dc21ac",
   "metadata": {},
   "source": [
    "### Plot the frequency of different avalanche triggers, grouped by the new category"
   ]
  },
  {
   "cell_type": "code",
   "execution_count": null,
   "id": "a7ebc65d-6901-4538-9fe1-131026ceef39",
   "metadata": {
    "__has_persist_output": true
   },
   "outputs": [],
   "source": [
    "NEW_COLUMN = \"Av_Season\"\n",
    "\n",
    "chart = alt.Chart(persist_df_4).mark_bar().encode(\n",
    "    x=\"Trigger:N\",\n",
    "    y=\"count():Q\",\n",
    "    color=alt.Color(f\"{NEW_COLUMN}:N\").sort([\"Start\", \"Middle\", \"End\"]),\n",
    "    column=alt.Column(f\"{NEW_COLUMN}:N\").sort([\"Start\", \"Middle\", \"End\"]),\n",
    "    tooltip=\"count()\"\n",
    ")\n",
    "\n",
    "PR.PersistChart(chart)"
   ]
  }
 ],
 "metadata": {
  "__CATEGORIES_META__": "{\"categories\":{\"Avlanche Season Phase\":{\"name\":\"Avlanche Season Phase\",\"options\":{\"_None\":{\"name\":\"None\"},\"Start\":{\"name\":\"Start\"},\"Middle\":{\"name\":\"Middle\"},\"End\":{\"name\":\"End\"}}}},\"activeCategoryName\":\"Avlanche Season Phase\"}",
  "__persist_keys_record": [
   "__GENERATED_DATAFRAMES__",
   "__persist_nb_uuid__",
   "trrack_graph",
   "show_aggregate_origin"
  ],
  "kernelspec": {
   "display_name": "Python 3 (ipykernel)",
   "language": "python",
   "name": "python3"
  },
  "language_info": {
   "codemirror_mode": {
    "name": "ipython",
    "version": 3
   },
   "file_extension": ".py",
   "mimetype": "text/x-python",
   "name": "python",
   "nbconvert_exporter": "python",
   "pygments_lexer": "ipython3",
   "version": "3.9.17"
  }
 },
 "nbformat": 4,
 "nbformat_minor": 5
}
