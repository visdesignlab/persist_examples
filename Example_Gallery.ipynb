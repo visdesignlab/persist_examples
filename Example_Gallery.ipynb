{
 "cells": [
  {
   "cell_type": "markdown",
   "metadata": {},
   "source": [
    "# Examples Gallery\n",
    "\n",
    "This notebook has examples of different interactive output types supported by Persist. The notebook will cover three sections:\n",
    "- PersistTable\n",
    "- Persist `plot` module\n",
    "- PersistChart\n",
    "\n",
    "Please refer to the tutorial notebooks for the table (link) and the chart (link) for detailed description of each feature. This notebook is meant to be the collection of different supported outputs."
   ]
  },
  {
   "cell_type": "code",
   "execution_count": 1,
   "metadata": {},
   "outputs": [],
   "source": [
    "import altair as alt\n",
    "import numpy as np\n",
    "import pandas as pd\n",
    "from vega_datasets import data\n",
    "import persist_ext as PR\n",
    "PR.dev.DEV=True"
   ]
  },
  {
   "cell_type": "markdown",
   "metadata": {},
   "source": [
    "## Persist Table\n",
    "\n",
    "PersistTable is an interactive data table which renders a Pandas dataframe"
   ]
  },
  {
   "cell_type": "code",
   "execution_count": null,
   "metadata": {
    "__GENERATED_DATAFRAMES__": "ᯢ粠 ",
    "__has_persist_output": true,
    "trrack_graph": "ᯡ࠽䈌ʀ匦㢠⹰Ǡㆠణㅧːׄ怳SĠ堧ㅡ₡᰸ɒ恠䙊⬲䁣፴慰ڂ䉪2橑њ㙼⢤◫⫰㚊懫域₱ဠ㑀粁ു$傡%悄ؠᮬᢛ槶瘽倠宪᪠Ś岰ú}↱姬撡䑓⌤禌ばᠲΣу䫃㏱ㆨ䋤䌠ⶬᛧ䙂ȃɡ⮍戰䳤ҁ䦦怭㍉爥㫣愠彣έ㒧䚫っ㙤䄁൐᫻G䀡擝ᘑ䇁㫶ᄂ㜧Ꭿ᳹ȩგन惐ፈ⠢㙉Ẳ䏤ᖂ焌ࢤ桏ᑖঢ䊰傚Ạ狌ᬫᅃ̈́䭁䄲ᢡĻᷣኀ㢜ࢡ䆱ᐺຨ惑汮ᮧ怩䉱ŀ˚ˡᇺ▲ㄪ㙗॰ਊㅋ⍆瓂შ  "
   },
   "outputs": [],
   "source": [
    "cars = data.cars()\n",
    "PR.PersistTable(cars)"
   ]
  },
  {
   "cell_type": "markdown",
   "metadata": {
    "editable": true,
    "id": "_4GWs0kYHQzj",
    "slideshow": {
     "slide_type": ""
    },
    "tags": []
   },
   "source": [
    "## Interactive Average"
   ]
  },
  {
   "cell_type": "code",
   "execution_count": null,
   "metadata": {
    "__GENERATED_DATAFRAMES__": "ᯡࠣ䅬Ԁ朤壠ᜣ琢〹夤゠⹰〮⁁䁻қ䚾ኊ㇠നСࠩ瀮晼Ƭ穅5愠៤⠠ ",
    "__has_persist_output": true,
    "trrack_graph": "ᯡ࠽䈌ʀ匦㢠⹰ೠㆺ͐ᖳᣀⴠ丠ᰠᠣ〰֠㬠⎚ШㅀጻȤ㇆棬䓁ࣇ፤䨠ዪन㩌崙䗩⧴ㆎ槧侠傱㊂†涻棦ᦰӁĠפ࣬W౐ި₏湙͠Ɓᙒ䀡᳼䠠洰ᅀ匬潩杢䈱楑ᴄ稵ᩕጶ䳭䍣ᏓᡠÚ⎃஥䤬䒆䌮ㇸ惀Ēいᝍಥ٩歃㍈⢬Öᡛ঒й䘩ܻ塨⇻࠱犰㵍䀺汜愨湦䨡㹦ḙ屺໡೚宣䳣䑠瘠传ν珠ጦ䃾㱠◽㻮㌲撹⑒ᄢ䟀爴㔫䁂桼㌹䇁䣸ᔤ䊢瀤⟾䍢惰吭Ơ⣞Ᏽ熳橐⍮灘楦౪Ϊᢩ⹅ᗁ判٫ᇩ爥ᅭ䂺⓲➾䲄ሤት來㥔㙷៪૥⾴杓ŀ9ↄ粺⠠`˙沈ヱ㏓簠㺴թ樠੎ԣ櫂摇㧶ℊ瘨ݷ㒩塂岢琡ᓞᕿ甑悺秷怩ˁ㡪牓ṛᮣ新じḰ䕂⡔̩䖀㣼⼿䐳ӂ⒁囵娽ᝧ吉桤㘺䄹䘢哦㟒ᨫዥ㉓嘰ᛧ㏹⹧ᓤᕛᤇ◻夡恲ఠԴ愐ਝ攠䈖⌾嘥〖懭敯嵩㞨¼ᰜpᤵ@枬䘶㵬䊏䊛὜]ᄞ㼸竃汙⡦䝋掚㱛愙溘棰弰ଚ䅃ࠩ㽃榠䠪נ⠪ԡᠨ⤨梜Ԡ࢚ɡ࠸ǫ⡢ჹ㢌ϱ夰$䂋捃ᡈൃ䃳⍂彘Ḛ㼮ᥐൃ⊋䵫⓲≏⊨⠷ⴈ౏⊡報ൡ䒩ᾋ〲ϲ撷⽇㵿♆ฺᝦ㰦ᓧ༨᫥䂆੒㢿渻崰䵤ౠὦᣇ梅弻䄡䉓ᦘ䁭慃ᎇŀ怠༆㗐⾩䆜灩ᵠࡱゥ޸㖭㮯搗ᵯ燆ᠭ⥜!煄⼱玽咊枃灄₩䊃匳㕄亲␪伲廂乲牷兀㺩Е仉⑙ܭ䷂䁴染䲄ඝ琨⏴灙儝ばጂ‿抈ℼ௪䦇朙㽛䋐うư爺㑱ᦪ䇭橞㋰䗎䕍䏅░䂷ׄ ◑䦶桰᧒䛬樾㓱֮䅍穄㏴ℸℭ兌➩䳒⛬効Ө㋗឴粩⁘䀠 "
   },
   "outputs": [],
   "source": [
    "source = data.seattle_weather()\n",
    "brush = alt.selection_interval(name=\"selector\", encodings=['x'])\n",
    "\n",
    "bars = alt.Chart().mark_bar().encode(\n",
    "    x='utcmonth(date):O',\n",
    "    y='mean(precipitation):Q',\n",
    "    opacity=alt.condition(brush, alt.OpacityValue(1), alt.OpacityValue(0.7)),\n",
    ").add_params(\n",
    "    brush\n",
    ")\n",
    "\n",
    "line = alt.Chart().mark_rule(color='firebrick').encode(\n",
    "    y='mean(precipitation):Q',\n",
    "    size=alt.SizeValue(3)\n",
    ").transform_filter(\n",
    "    brush\n",
    ")\n",
    "\n",
    "PR.PersistChart(alt.layer(bars, line, data=source))"
   ]
  },
  {
   "cell_type": "markdown",
   "metadata": {
    "id": "wf9_yaeCHbEG"
   },
   "source": [
    "## Interactive Chart with Cross-Highlight\n",
    "\n",
    "This example shows an interactive chart where selections in one portion of the chart affect what is shown in other panels. Click on the bar chart to see a detail of the distribution in the upper panel."
   ]
  },
  {
   "cell_type": "code",
   "execution_count": null,
   "metadata": {
    "__GENERATED_DATAFRAMES__": "ᯡࠣ䅬Ԁ朤壠ᜣ琢〹夢゠⹰〮⁁䁻қ䚾ኊ㇠നСࠩ瀮晼Ƭ穅5愠៤⠠ ",
    "__has_persist_output": true,
    "trrack_graph": "ᯡ࠽䈌ʀ匦㢠⹰ಀᦠ䚊䀼ᐹ䁍̠ಈ䱀ଠ瘡ء夨৯⩦ᠨ怵侕๙䃥浺䥈kᑄᄈ妐ଳჃ⃹嗛㝾纣䍤ð䀡嫰憨㵀ॢȠநƸᢀ眰䅽忓ဢ湐樠Ԃ牠ΈƔڦ❓ሩå఻⇑䅠Ȅ恨ຊफ़һᇩ•ン⠬Öᠻⴸ䐶䘩ۉ宨⅓࠱̬㖠᫼孨་ޤƜܝ曔⴪ۡ໹ण䅔憊㘠传ϒ緥ЃŦ矌⇥⻾䝺㧒вⵂ惤凃楈Ფ㹺ⴵҧ䡣䊢燂खపତ㳀ᐬས磶䷔䢱䆲旐播ౠ䃕䜁䥐氾ѥᇨ⨽࣡ヸ扆䟠ࢤᅗ䊠Žƀ䔍妃牼⥠⛉䒭ޮ┈唁䠠 "
   },
   "outputs": [],
   "source": [
    "source = data.movies.url\n",
    "\n",
    "pts = alt.selection_interval(name=\"sel\", encodings=['x'])\n",
    "\n",
    "rect = alt.Chart(data.movies.url).mark_rect().encode(\n",
    "    alt.X('IMDB_Rating:Q', bin=True),\n",
    "    alt.Y('Rotten_Tomatoes_Rating:Q', bin=True),\n",
    "    alt.Color('count():O',\n",
    "        scale=alt.Scale(scheme='greenblue'),\n",
    "        legend=alt.Legend(title='Total Records')\n",
    "    )\n",
    ")\n",
    "\n",
    "circ = rect.mark_point().encode(\n",
    "    alt.ColorValue('grey'),\n",
    "    alt.Size('count()',\n",
    "        legend=alt.Legend(title='Records in Selection')\n",
    "    )\n",
    ").transform_filter(\n",
    "    pts\n",
    ")\n",
    "\n",
    "bar = alt.Chart(source).mark_bar().encode(\n",
    "    x='Major_Genre:N',\n",
    "    y='count():Q',\n",
    "    color=alt.condition(pts, alt.ColorValue(\"steelblue\"), alt.ColorValue(\"grey\"))\n",
    ").properties(\n",
    "    width=550,\n",
    "    height=200\n",
    ").add_params(pts)\n",
    "\n",
    "chart = alt.vconcat(\n",
    "    rect + circ,\n",
    "    bar\n",
    ").resolve_legend(\n",
    "    color=\"independent\",\n",
    "    size=\"independent\"\n",
    ")\n",
    "\n",
    "PR.PersistChart(chart, data=source)"
   ]
  },
  {
   "cell_type": "markdown",
   "metadata": {
    "id": "ETFx17bMHslS"
   },
   "source": [
    "## Interactive Legend\n",
    "\n",
    "The following shows how to create a chart with an interactive legend, by binding the selection to \"legend\". Such a binding only works with selection_single or selection_multi when projected over a single field or encoding. "
   ]
  },
  {
   "cell_type": "code",
   "execution_count": null,
   "metadata": {
    "__GENERATED_DATAFRAMES__": "ᯡࠣ䅬Ԁ朤壠ᜣ琢〹夦゠⹰〮⁁䁻қ䚾ኊ㇠നСࠩ瀮晼Ƭ穅5愠៤⠠ ",
    "__has_persist_output": true,
    "trrack_graph": "ᯡ࠽䈌ʀ匦㢠⹰۠ଡⰠ〹䀮Ḣᠥ傀ভ೥勬姤ɓᎶ抅䄁ᡐڋፄ倡ᙰ䡣厇扊Ⅺ䚽⎆圌ㅛ㨑䀰͢&怰惦᝸䁅ШNၚ〡岁䍼℮㖆搠ㆠְ滈G⎲;⹆䂂䄐ऄぜಊḮƸ俇䉔⠣墘㴚ᱢᤣ3䨂%椊瘍䙨ⰽ➰㽲滠޳ł॓㡸仅ᨽݠஃӗ樨䈔悰凫Ⴄ᷑ȱ⤠へǍКÕ桹‷揅嶽暚ⰱ௫㠹䱘狠਀峘粁ẋިႳ䏮濂㙠䁂ᢨ兠ᢈ༽ł㊤㺿⛁〸ਸ䏡⃜ᬳ悂㳐㨪Ԑ恈޾犙䐭఩凙癴亽ҫ⊘Ȿᑫዉ㩪䊃㋙㹰克䛠䮶䪨拴ᱡ፡቉ᩣᄄ犙Ÿ啊⪦൥怣ᖬ㟓┠)ҍ㐍穹嬝ǁǠ炍⸣$䊘ϭ⤜⹋⫊㢘㹟၌ੌ⁎䔪Ҁ᥂䜮⍰㢝ᖯ冱沂ޯ䖀㰦Უ䆔撒䝠禍ງ᱉ူ⒒አ䑈䰶ඡ憑㲞̦癔嫖䏅棑㴼ಥ䆀䕁䒆ᨣᎉ䧇ᡌ䬽ᖁ嬽䌀㡬ƃ䓶㬌㩘ѣ!≙⛜甡‰̄\"峠渎敚屉寃洑S䬯䰗絢値ēࢢޡ侨秏漸䀧匲㜽ࠒ瑝榛ᵭ∠๧洘屷漘Ë擳㼷ЛŠ‐䃑঱″⎠偔䌸恌݁੔಩瀸⎠儬ྱ傝ڣ穄䩲₰ԙ䒝Ԣ䒔梦罀ᆥ儀ᴒ䁋⎉涏‡䗞ⓡ綶ᶫ倠ʷ撕ྠₜ⁐䷕木²怴䳅筕ኢ汧ഝ岒৳䌽瀲打傢婁䦑沇ࡣᘲठ㾵悠䅅䣣ୈȁ㛟䝘ⅈࠜ截焑纑䔰仕僲ၬ佣≸⛳㪙⏹笽䦃偤晒屫东ఠ⏼灗䀡竁㾩祷兮変㻆碏Ё嗆ใ࠲ᜣ晒თ䤔Ӗ⤅嵢囖⽦吠傢仞忴ۡ庣₁䉒䙰ٓ䘩䥑⚜婉穸࿱‡䪢ف亏ۉᆎⶤ㖎ㄋ⥲ᠠ䐧⩎䭶檄ά唶䓰҆䋷⦖因㢮䵨櫎廈穡႒渄➡恐ከ䒾ᖧ冐攰䑜ᢢᐬፆ⒰咬ႜ൐⇀答ଔ决ਲ営䪄Ꮃ䩜兲磕嗀ⲽᯆ㙘ὁ悽咇ೝ䫧眓ទ຃宆ầڒࡇẐ岫妓⹜Η౧剿溧䞔享嬇Ṅ䗦廗徭⧌⇭旮㗯㦶Ꮹ䁟䬡縧䡦墵㌕娖❊㥿堐祡ࠔჾど±き⧁◧՚៼淿℣啀ឪ╀$䦠ḳ暌妯倉䳟ⵛ፟ᝁ⤇竩Ր椞佃涛熬ᶨ㤁ᰤ─㡡晝ṙ䴘洇ㄘ巻猞ṇ庝凷泖Һ硅潁呒ṅ䱈悀爣ሰᰨ勭㰾᫄瘡ኃ両䊐⠷ր磞噕ͩ惕ḭ嚀໚‶㤶䌕┬嫈ૣ ⧪偘l䁭Ⱒൣᢋ௣㐱฀撕࿃♗‴Ǧ棌Ⴛ◱濺෈ఛ⠯竐‐〴㍦಄䇠ᨢḠ悎䱣滆叐㛁怷呔㟊㔆䦉ㅧ瑠ǳ㌸णឥ碟Ԧ傡ᡈ˸梦㴸ơሱい⩂ᆂДḦ₞䑱汯ƙᦀ㌡᪁㛲䶝冺僬㪱䴹ㆼ申ጊ栭㎲ᶄ㍦戈䲬惄⿰᳻奠᮸昭㩋Ô汁㕶槫᳇е᜺ⷷᇧ斪央ዐ⭅䅜疈С洄㫤㰡ᡉ㊱䭛⦳㥗㝖䈥㚀Ό◥怽䱄ඤ▇ᑭᮗ㕬㜈с搴Ⅲ磢䉈ˈ㡰碐┡ሪဠĂࠠ瀡ء䌧煳凸ᮾ⥗≵枙ᇊ䌀࡟䶳䅇撤䳅䑍⟴捪智獮泆楦揥ᵅ尦⩚䙽❺ө簾熜ᠦ紝棽㾸㶶◠恁ˢਤ硐晀传ㅥਸ┵೨ำ࡜㈰ᨢ䂄㗀焽弔ᯝ䵵吥ᤙ⑞㋨ᆄ彲慰㔩Ⲻ൸࿴㒰ܡ❞䋐大セ䭾渿ნᔡ籐⎤⣂䑴Ψ楤ʞↁ㘽⋈嗢ヶ䅑㬵ਰ䒨墭犋兴圣£૒㪶䌾䛹奢̝ⓩ㢟ᗰ暢勠棢庳拄⁷䇖₟బ⌤ち耂䅠ᶭ㣾刉䨣歂œᎀᢹ嘱ጵ晳ϭ䧰㦶᫧䝐寸壓乇શ堣ᚒ栩幙〯ᗶ籹琘慪歆䈩⁇囝曫⭏㎰僋હ⪥⛩䆀梐僱䦆河槨ᇹ⹗媏玹╆䳍䵭ȉ৙橝凄ě䐓厒ࡵ⃬幁⤵⓴൛᩺獈㲼億䁂椴ᐤ搦ޤ㒦₾ൠᐳᄸޢ㉀盱ᘱ傔㓤尫⸁Ἲ㾪¤ࡂ中㤄䬳湺噸垮碛榀ߨ經ᔛů⩈ᡈ൨⿞䪫֨ڡ咸婌ႸƇ⦿ࡉ἞凞䇅֎䟘ĺ∼䤴冇߂畉≌⫀ᱰ攤寨笨  "
   },
   "outputs": [],
   "source": [
    "source = data.unemployment_across_industries.url\n",
    "\n",
    "selection = alt.selection_point(name=\"sel\", fields=['series'], bind='legend')\n",
    "\n",
    "chart = alt.Chart(source).mark_area().encode(\n",
    "    alt.X('utcyearmonth(date):T', axis=alt.Axis(domain=False, format='%Y', tickSize=0)),\n",
    "    alt.Y('sum(count):Q', stack='center', axis=None),\n",
    "    alt.Color('series:N', scale=alt.Scale(scheme='category20b')),\n",
    "    opacity=alt.condition(selection, alt.value(1), alt.value(0.2))\n",
    ").add_params(\n",
    "    selection\n",
    ")\n",
    "\n",
    "PR.PersistChart(chart)"
   ]
  },
  {
   "cell_type": "markdown",
   "metadata": {
    "id": "xrQ5KWYEHwdC"
   },
   "source": [
    "## Interactive Rectangular Brush\n",
    "\n",
    "This example shows how to add a simple rectangular brush to a scatter plot. By clicking and dragging on the plot, you can highlight points within the range."
   ]
  },
  {
   "cell_type": "code",
   "execution_count": null,
   "metadata": {
    "__GENERATED_DATAFRAMES__": "ᯡࠣ䅬Ԁ朤壠ᜣ琢〹夡゠⹰〮⁁䁻қ䚾ኊ㇠നСࠩ瀮晼Ƭ穅5愠៤⠠ ",
    "__has_persist_output": true,
    "colab": {
     "base_uri": "https://localhost:8080/",
     "height": 368
    },
    "id": "o535q7vkHu9W",
    "outputId": "bc1777f7-0f28-4b34-9458-7fd2ed69390b",
    "trrack_graph": "ᯡ࠽䈌ʀ匦㢠⹰ಀ̡و࣠昣堣ᠫ⑅¼Ĺ䐢操㻤ă巑Ⱳ䔽¹琦捤䨠ዪन㩌㱥⑋⧰㚊滥Ꮧ╞㒢†桠ø㎁䁑ဩ™+佨ఠ㜸プࡢ⳻奠Ƃႊ)洄䀦梡∘⡬స㽙ᒠૠ䭥向ᠳ䓸䉎ㄬভຸ⍤剱椨†嶝ǃ哩گ兢҃Ⲁ倠祐ቅἭ஬⿡琓灧級{ౕ䌸∡䌤䍯Ɽၽ䐰啨ᬪ怭㜸怤睢ᔠ徝Ȓ炫඀䝼淡ᚁ㏶o#䨍搃š淜⁤᜽䄀惬搨ـ䧨繖ͤመ㩑ྤ偐్ڠ☘昴±႞汇଱僀ᑌ➅㱞ळ⌡㒾Ꮭ῀䓂ᢼ⢶╲瓆ⶲ䆒糁Ⱶᕈ狘ᤫ㢹棌⼴Ⴒᒭڰ擒Ჾ⁵戥㊽䒁ᣡဠೊㄝⵈ †⑀¼̧簠眸D㐠ᔘ⸨滐⁦攡ᗠ´崱倥䨙瀠ὣ瀫̠㣈ႅⴽ䨫圊ᰚ潽䭲˼䭭⊥夺彟䐳Ⳣ㰵楡籨䉁ྡⅲỆ⍥戂爭ϣ⁰Ḩ本Ⴘ䫞䜐ᶼ坄䦡怨猜䭧儸ᙅ۠烘帠䑄㖺䎇ⷵ瘚Ằ湧ሐㆨॖ䶆秂拱⴫䷖愣氮⎽暓䰢䯕殐渔㠸䌠Ťᖣ㜊Š࠸琈5昢ă䄘Ṻⴓ幯䈡箋ЃŰ⨲䀨ܐ⑀䜑౲➂ᄏŀՄ稔ࡀだ簹䰭ࠦ㧰昶燐渶∰䭨⋼ᄹר桅⋁ɫ岚ጨ悘ణ惸㎅ñ㘮沙℧惤幣ₗጣ愈溠扄إ成笼≈弳捈柪íׅ㑀ⷀॢ⃠Ĉ䱎䔔㱝䳹ƭ⎡↽咭凊攩燍䨹紫㊁㡈⬫㠭ױ絍䭡僎h瑟ɫ䥺╙瑨â婮丌窇ଠᡄ慣䙤䓭檆䮑媘䇫嘧ठ䑣杕ⱡ䴘ⅈ̢≀珑Ш䕐偋甡嶏⢰暅凔皷䜐➽⎐'岳䄶೉£㿠䢎⑓۾⃡䙽ᝒ䷺䘇䶴䷧ᢔ㎆㗏䑃央⧩㧚ц䗑㾧䖩╊╗㜠ׯ⴦؁ⱉ倵ᔅ᰺⍌㆓ᭋㅕ㢮怡Ы䃾ᡕᅥ⾫㢠嗀дⴍ晟ကɎ᳡䃢䢖䣃乢倳䥦仓䵧人ᆗ⦦ᛃʴȖᘸᓑ℅勖嚒囕䈭墢㙍䷐瘵寑ଂ෣㌼殺噕冧玭姕㜍弤盽嫆ᣳ㝷櫹䷅ᬆ和妖乑灬ᗷ㫡㟰١䏬浱宍䙮䋺ᩜڡ✚ൔ๔㭐䶞၆ԋЧ擸ł૸ଶ≸ᚢ竓岣ᯔᴧ䠄ਡ漒㬡皌⃔༂䖲䩒䎰⫼垱⩥Ӈ⫫䚵⺋߃琣᷐ᑬǨṳڇɇ䛣Ở⼇桷䜔Ჰ㴂㹂ଆ曏弄繟傣结ȩ着ఫ伻ਬ㳐㤌䏨⣫⇀欪婌㝪䎼⇊Ѥⴢᄷ⢬傷礼紘ً䔩㊣㵩㲧▹⦫潸ᖨᇤ㤙䃇級磜ɿ⨑彄Ȁ俌争ྡ䤭Ā㸤栻禣㌲缣痊竆瑇暜៬絈దၐ⥀漑慴໊琷縠Ꭳ⁈摱卡ᠱҟफ慒࿲‴⌋➌幡沖嬘梇恠液䄁ᖡ砷ƨር濤p㦦⇚ݕ㬭孯ᜬ渺壴ሡ䵩ď䨈庳筟Ⱀ䤄ഞᤳ纼⽂⍢擌垧呰ޠ䅠ドੑ瀋䪕⚃ۢ挍൤㒂ǰ綮䣇౞㫍拶ᱴᕢɐਖ਼儦ǀথ傜۠樭䁭䮡䐥¥ᜣ硜㎰΁䀤䋦䤭灘瀐棠䲩䩠䝌䆰㥔⡉慰㧡偺πྦ傼ర砣炧ᢔဨ牤ᑣ曑满燩䄳噈砪㧇㢵䱱☮梹槽ᔼ絗ă䅘栲㪬檗႔烴ⶍ吠ࡅ恦䘠〺梭Ԣ椠λ䴫愺'ဠ㪬¨᧮碋ɔ,ၐ㠭㧉䔁榲⇮㌅緞㈧ᡥ➜Ǥᨡ䃩ῠ㰪ƅไ硓̀㲄❲䆠儋ੲ⛅ᬯ姓䉣▹㊰㝗䭚怶ↂ囂旸帥㣺ඓ㱦珷㸢゘痠প滧䃑᷹㇛丑㙎搌ė幁皜㈌ɀș〪㲇就ំ扏ဴ૑⵾灤䚎ࢥ᯸Ꮧ剥ɘ恠Ꭳ℈㖦碈䘫Ⰲ〧⬕▥࿆ײƭ澓】琿䪥⪋盟⭬⛦䵳њ焲⍞ૄ羰ࢧ⨋篲欢⫋ɪ᧬ਠ㚁䆠碬⡉歡燤䂸ᘷ⬦ႌ䰥㘳͠⠧䈖ᥴ滎嗎ᴓ炙⮣㢋䀴â硊㧍Ɠǋ怣ㄉ屝晜珫㲯䯂Ꭹ壿ఐ䕟ഩ䪳ܬ䆮ᕬ亅Ƽ售倫䷀䈩効䤢瀣犢硌䌂ڥ塻॒⢫䣅㍱㴴厦ǉӐ䡵桪痹嶐叚Ⅿ㭲⚡冒ℾ媴歍₰㶼㒧Გᡫ䫠܄畔慞㗩㭚榠۵㦗ᄒ佅現㐇㹠琚綈˼栖˪खԡオ姇䕄硔勰቉䁡㏨Ѽ䤜ন㉥Ʃ๲㎮ᑁ宠甐璮庳ຫၓ䭕㋦⎄⚅㫲ݡ垚⫼☩瓨䫪䞽屙⦂䮜稗㽋庅爵ሂ糂幋德硥㩷敯ᗪ愔⪸ᙵ׊啍໋᣽㇫⿥ୱࢶ檪嚺濡傋絫⥃הᫌ筓伱ञ榋竗#த玦ᘋᚈዜ⮀फ़矒ɦত⧀ࡲ℁㤼燍ⳋণ〩䌀ṫ盼㙉⇵硃婭ᕁ⁇⪻➍ᡔ紎呥池焱䍸㧬䒍娐绒䭑້ㄣᆪᨀ⩝愜॓ዶ嚈ᬬ᫾಄㍺ሒŃ盝傽㷶㒕篕䐔๱攺ួ䚋倔㚢၀⹑䂑ᥠ簬湻㝡枋䇯㈙䇯寨㾳⢘੠ᥪ嬭ᆰ܉ᡱ壩≟䢱ౡ兟Ⴤ务ᯎ㓬㙏癿佝ࡵՐ嶚ࣖ箲㾔ᾁ皂啊场⠳㬄፡⳽ޭ嵠ϙ┗ᙾὍ幽ᣘ║卜嫇ዃ☠䭮斘୳䬗槰ŵจ≻暆㯱䉣㙧ࣕ䶠➻㱧ᨓအ孰ח挠ឨ㎼䱸㟹檖న喫戫䁰تҌ┥䵠削♰㍋湨⦥䳐⨝垭嘤厧Ⓒ⪘獴攎匹毆㧰曭ᵔड税環〳波๩嚗廰瓽䁟㻭羊┚扢布潶⟝㶶夛㾐ྟ〾孍穮䳶畬Í罟ẟ氣欬Τ0ြの㧖໴ಖ氺糓心㾴䎭劦䃐塠ޓሸ㧄ቁ₇嗀మ₌ֱㅩਐ௟硁Ɍ粑楀㷥㜦梕㎧ඔ㜨痎䤔波᝾凾布欎峈硐ⰼ䃣䱭ㇼ扩垐幾灇Ű厯䱊㜥❇嵯〆亪亸⬈ᖈ㘏ʊ勮ᫍ仕㇦⳯ḓ䃘⍾Ҟ㊜㣘㧴䉼甂䀚㊰⻺啯ᠤᱨᛎㄫඩ尿¤栀ᚉԽ団ͤ㊳砲ቱ㞛ᅡ㩣ጎ獫㴊筰滹㐽⥫狢漃哆⵨榾匔恽୩ဿ䀯䊏فᾨ㉵䄏ы㯫䢝焸ℛ߱ቐ咶⢣竧䅍砀箘懫幝版㱡䑚࠲ി㢊㔻Ⱔ柕㪚罦狢男⺛珰康㐭ছ学ؿ჏㶣仱ڀ㋛ྠ满弞犞ഡ勺䁢䔆ⴢ⬨㋦Ӡᾦ䨫壃燀ゲ棸ຣ䌯㯘⏥盾皀⿙㻿渠瞯Zᇯ䛔嗎✃㟡ႆ惧ᭈ⓴碮ㆳᨛ擸ಷ煇㸙䧶绳擇㡣⧴Ӕ痳ఘ䲤l焟ᅲ㕰ᚲ皑ᮺ罠Ǿ㈠嫲㛻㘨࣓㈧䍴ᚒ䆡ⶐ核䂴Όᙃᒾ⓬̌⌣撼䁭戴ॢ獿&瑉㇚䷯ᜆ猽ᅹᡊ㪕ᖽ⍪⫣䆨ߠ⭓ӡࡾࡸ夠䠮ࢬ垀㘡Ɏࡁઅో䉟㇇劶Ꮶ㱞ዏฐ䟤ɛ熘ీῥ䉂ሓ㗹㻩㽠憹盙ী椡恏׻㯀ⱂ٧㍏⶧惷猘䰥屑㇅䕮㖀〦䁾䗀ࡱ⇴牸䈈ᔣ挳ቒ⊘㤙⯮↜ஏ₧ᑄ↊࠿ڤ䟪ℹࣿᵉ㟿ᆺ߼♛奸凲㈅Ⲻৡ⫤甾㕤➢⪗砜ͦΌ凯牵⍚೹乽༟ཤ⁊⼝ओ⫺皸ㆎӤ䘣ㅜ㇟疓㐦グ⺥嘭ᗅ穅Łᒏ㢓䠺ᩣᔪ⢒ᎩႢ枲٢じ竱噄ⱋ愠煦燫ᴦ乌䴇৉◤塚焵㒆ᷧ桷屴䮈ょ堾䥐犄猠奁㈘ބ剈ᬫ䥁状ㆄ楌夬伨渣᥃Ì䷌䥣歛廂⑯˹怣碇ᐝ⅄汎®䊔癇㴥汞摔ᇀ㪬樨ӏ⥇᭼䦈㞾ᴺ繽懯༤侧幟慿ਘ居愿燼Ѥ撣⥿䚻燨棫灅䩍朳㙙࿤兊䭈兛޳⨃果ⵥ╪並䦵㵚忠朋攈歚媽亨จ䁨浕≐࢔峠䝑牽Ȕ熩絊㇈ರఢ⠶䍤༡㫡℉ܻ۫ት᫩ܨ梑㴷Sȍ㙐卖䆆睉᧤⦫ᥖ獋ᬦ湚㓏悜㺚㰤燌⣬笷ⷴ囌࿗⍠䂠ဳ狸ஆ䭎䨍䳌匣⭍䦝䴄愄丨  "
   },
   "outputs": [],
   "source": [
    "source = data.cars()\n",
    "brush = alt.selection_interval(name=\"sel\")\n",
    "\n",
    "chart = alt.Chart(source).mark_point().encode(\n",
    "    x='Horsepower:Q',\n",
    "    y='Miles_per_Gallon:Q',\n",
    "    color=alt.condition(brush, 'Cylinders:O', alt.value('grey')),\n",
    ").add_params(brush)\n",
    "\n",
    "PR.PersistChart(chart)"
   ]
  },
  {
   "cell_type": "markdown",
   "metadata": {
    "id": "9QyLkK2PH2MJ"
   },
   "source": [
    "## Interactive Scatter Plot and Linked Layered Histogram\n",
    "\n",
    "This example shows how to link a scatter plot and a histogram together such that clicking on a point in the scatter plot will isolate the distribution corresponding to that point, and vice versa."
   ]
  },
  {
   "cell_type": "code",
   "execution_count": null,
   "metadata": {
    "__GENERATED_DATAFRAMES__": "ᯡࠣ䅬Ԁ朤壠ᜣ琢〹夥゠⹰〮⁁䁻қ䚾ኊ㇠നСࠩ瀮晼Ƭ穅5愠៤⠠ ",
    "__has_persist_output": true,
    "colab": {
     "base_uri": "https://localhost:8080/",
     "height": 320
    },
    "id": "EPX7WwGsH04v",
    "outputId": "0bc4810d-c11f-439d-dc8d-873642e7abe6",
    "trrack_graph": "ᯡ࠽䈌ʀ匦㢠⹰໠ଠᰣᠡ䛈ʀୢ䁖Ģ墫⁃ܡ䱤ԇ側昦ᯱ恃⤽ᣱ⃡䒴E䨲࢔沙ѫ䥵傌櫽䦷⾞䇣∠桠øȸ磢ẰӁĠפწW౐ި₏湙ĀƎቒ䀡᳼䠠洰㦥ẩ䊡憢ᄀ㤑咈刼᪥ᶦ੧僡悀㡰儔ဠ⻁䣥憄䇤ᢑ䉬癐⠠㲸न⃣䈷偰楨ᑈ䌠ⶬ໤時œɡ✍戰⻤ѵ㩖怭㌹ᢥ㝂ᔠ彣Ỳ欤懧っⲍ愶こ㬠➠Ǳ稀ঠ熎幁挎⾹慒⳨࠲⚱ᣄ༭ˢ䣔द䅐䳴ย䕁࠸ᐢ䋡ࣿ༣䖣慰≴䘐式㒩冠媯ᇾ䱐抑ɩᅩ劈٫ᆀ犘繤⑋ૅ㥬ࢦ㱬籱ᙪ劈㩳ᛪ犜䢨光䫞⦼攤䀠㊥丕㓀!ڠ㘜Ûù㢤ၘภ㐡暎Ⱔᘒ檠枮׵⻞hᔫ䊋ࠠ䃙ォᴯॢ壴പŤॐᔡ䆡へᬠ䊀ぬา呒庛ᮣ憲ヘ㸸䍂⡱檥䎂㣼ἠ∰䓾獿ⴋ㩈⽿啁ℤ⣤¹♓᳡ㆋᛋ㫱仺眛⇤疸䌇◺瑚ಐ⒦\"䖳㵭樢䁀旨%㦠箹斐祜漯䐫䷸ŀ␹ઠၷ婦૝♤埫䀙删Ả䩜䌸स䏺碚᪫梼柵窘石礡ᯥ匞伯硢恄ড⩫àఠ䄖ᐨ䄂☦⪀ᠫᄐ⠧䌰䈰㇆ร䂸⡬䭡ဥ筨ጪŨ᳹ࠞ။ҁ偃犠ݤ磠杠ᠠㆌ戣᱃ ᘞᯌ籄䑢ጽ㢽ᇄ凬㠹ఱ拘砋捰堢うЄᏄ⺂࣬䀯叀⁋ྃṇ༂䡽䅢‿矘း⃒塺攡䟘䁍乘䆠[廩⃞ଧס܃⥀ီ䤋噏䕲Ꮵ८凨洜㸤䑀ᩮ᳧ὧ楎ラ焾䀑灁ᄓ䄞ᛩ▢⁉幪⇡榭ῦ糟᷊塩婥䣥䅣ᛪ຤ふ䍢梕坤㛓䛅㣀䚥乡䓡ِ౑䀱墥偑䢣䘩庢♉傧⚹䚅ડ塕ٹ஌䛛㙔⒧㤍⚇⭖咆ໄ硚刯橦䓷㔶䧆嫖孌楮ᗣ㩀ȫ櫾偆ҁಐ泶㽖䤂䖲䬌厷䫜䃆⩢䧑前喁甔࿀䙈ڠᄔᒧಳ᪃ɣ廡๋đ炳侀᳗ᚓᴂ̂岩⼃⺻䜨୓ᔕ岦ᤐ䰋ᚗ峔匔劾᜗庢⨓㇐␧䆷ᄩ缟䟫ҟ䜣缙⸢ᰞ㬐Ò䝌咋㟦ᶈ杵呀泠⎏笥ܥ坾ヒ៹ᙖ潙ⶁ汁枓撻䱝淩䕌樞彃涣杧潨殉暋涋祵टᘞ├泇伭ᴧഔᵛ洟篁奊Ὠ擩䅠Ⱗ䆀䘭D䉓ˤ㔺䴰䨧䄀籀₸缋̅⻇嚺眿咯伨㟨勩⁶ঢ়⃶派娈ᮘ拴偠䁒ⶖ怶娄婈狥⅏櫳⋶ᴡ堸㼰碤䒀嫍痓㞍⣯㐽撨睆埃ᦆ⎨  "
   },
   "outputs": [],
   "source": [
    "# generate fake data\n",
    "source = pd.DataFrame({'gender': ['M']*1000 + ['F']*1000,\n",
    "               'height':np.concatenate((np.random.normal(69, 7, 1000),\n",
    "                                       np.random.normal(64, 6, 1000))),\n",
    "               'weight': np.concatenate((np.random.normal(195.8, 144, 1000),\n",
    "                                        np.random.normal(167, 100, 1000))),\n",
    "               'age': np.concatenate((np.random.normal(45, 8, 1000),\n",
    "                                        np.random.normal(51, 6, 1000)))\n",
    "        })\n",
    "\n",
    "selector = alt.selection_point(empty=True, fields=['gender'])\n",
    "\n",
    "color_scale = alt.Scale(domain=['M', 'F'],\n",
    "                        range=['#1FC3AA', '#8624F5'])\n",
    "\n",
    "base = alt.Chart(source).properties(\n",
    "    width=250,\n",
    "    height=250\n",
    ").add_params(selector)\n",
    "\n",
    "points = base.mark_point(filled=True, size=200).encode(\n",
    "    x=alt.X('mean(height):Q',\n",
    "            scale=alt.Scale(domain=[0,84])),\n",
    "    y=alt.Y('mean(weight):Q',\n",
    "            scale=alt.Scale(domain=[0,250])),\n",
    "    color=alt.condition(selector,\n",
    "                        'gender:N',\n",
    "                        alt.value('lightgray'),\n",
    "                        scale=color_scale),\n",
    ")\n",
    "\n",
    "hists = base.mark_bar(opacity=0.5, thickness=100).encode(\n",
    "    x=alt.X('age:Q',\n",
    "            bin=alt.Bin(step=5), # step keeps bin size the same\n",
    "            scale=alt.Scale(domain=[0,100])),\n",
    "    y=alt.Y('count()',\n",
    "            stack=None,\n",
    "            scale=alt.Scale(domain=[0,350])),\n",
    "    color=alt.Color('gender:N',\n",
    "                    scale=color_scale)\n",
    ").transform_filter(\n",
    "    selector\n",
    ")\n",
    "\n",
    "PR.PersistChart(points | hists, data=source)"
   ]
  },
  {
   "cell_type": "markdown",
   "metadata": {},
   "source": [
    "# Selection Histogram\n",
    "\n",
    "This chart shows an example of using an interval selection to filter the contents of an attached histogram, allowing the user to see the proportion of items in each category within the selection."
   ]
  },
  {
   "cell_type": "code",
   "execution_count": null,
   "metadata": {
    "__GENERATED_DATAFRAMES__": "ᯢ粠 ",
    "__has_persist_output": true,
    "trrack_graph": "ᯡ࠽䈌ʀ匦㢠⹰恃í⡑䀬᳠ⴠ両ⱅ぀ଠ♈ǐൠ↳琪溳Ⲃ䁃Ӛ幬X䥠ɹ⅁ͩ䮿ᢹԺ窬⳸㦑砈ቄ-Рඳ⨸⏲´၀Ø೨Α䌯㢤᫽䏌6煦倠✷ሠ᭠ை㉑䍘ⴰ㢦Ⲁ卍䞠ཆɥ瀣墐ì紌漱຺䵭䱐˸憌䲂၆ᡄᛖ湁Ӭ⁦൰㘠歪區㟌Ḱؔᨮ存壖Ѯ摨ล匯ⷐʘ<Ⰾ弸ᙏ⎂๊炔㥑扄匎㳜䰽Ꮈ┠⇧崱⢸礬憊ỡགྷ䑦ঘ呐亢䂨∣仒淄⒬ʱⵦ⒘戤Ҍ㜬䆦愐䉉๢冈ٓ૧㇆洠䑅लK偌ࢽ湹ᬰ刃䩢ⵢ⚉属ʷ劬䀠 "
   },
   "outputs": [],
   "source": [
    "import altair as alt\n",
    "from vega_datasets import data\n",
    "\n",
    "source = data.cars()\n",
    "\n",
    "brush = alt.selection_interval()\n",
    "\n",
    "points = alt.Chart(source).mark_point().encode(\n",
    "    x='Horsepower:Q',\n",
    "    y='Miles_per_Gallon:Q',\n",
    "    color=alt.condition(brush, 'Origin:N', alt.value('lightgray'))\n",
    ").add_params(\n",
    "    brush\n",
    ")\n",
    "\n",
    "bars = alt.Chart(source).mark_bar().encode(\n",
    "    y='Origin:N',\n",
    "    color='Origin:N',\n",
    "    x='count(Origin):Q'\n",
    ").transform_filter(\n",
    "    brush\n",
    ")\n",
    "\n",
    "PR.PersistChart(points & bars, data=source)"
   ]
  },
  {
   "cell_type": "markdown",
   "metadata": {},
   "source": [
    "# Selection Detail\n",
    "\n",
    "This example shows a selection that links two views of data: the left panel contains one point per object, and the right panel contains one line per object. Clicking on either the points or lines will select the corresponding objects in both views of the data.\n",
    "\n",
    "The challenge lies in expressing such hierarchical data in a way that Altair can handle. We do this by merging the data into a “long form” dataframe, and aggregating identical metadata for the final plot."
   ]
  },
  {
   "cell_type": "code",
   "execution_count": null,
   "metadata": {
    "__GENERATED_DATAFRAMES__": "ᯢ粠 ",
    "__has_persist_output": true,
    "trrack_graph": "ᯡ࠽䈌ʀ匦㢠⹱⁖ƹ⡛̸ҀୠƧLኯẬ咨ৠࣵ¦⏱ၳዀかᗋ.Ṅ倡ᙰ䡡劅摊Ⅺ䚽⌶皽嶘ԭठ͢&櫩䙑䲠┨ࠠ⺦₀ǘ憠㱢Ξ燾+ӑ䨠Ԇ牠ΈƔ䛦ᜫሩ࣯਺揑䅠Ȅ恨Ɍेᴫ`敠Œ㢬Öᡛ⭘䐵䘩׋塨⇓ࡱ⍆ⶠ᫲嫬จ䙤Ɯ䚣嚼⬾໡৽ण䃔戊瘠传ϊ珿挧䘌池◽໮噫㈨੦⺫╦伩Ⅸ༬橶☱ᡴ忑握恑䊎ᡣ䈐౧΍壩䤸ᕊ媬ऑ䐬૸ṷ̃́䐁䑒ክ⏽橖Υ愐籡Ѧᅄwぴᕚ㲒♑⇤唘猰䫰䧚㥄Թ  "
   },
   "outputs": [],
   "source": [
    "import altair as alt\n",
    "import pandas as pd\n",
    "import numpy as np\n",
    "\n",
    "np.random.seed(0)\n",
    "\n",
    "n_objects = 20\n",
    "n_times = 50\n",
    "\n",
    "# Create one (x, y) pair of metadata per object\n",
    "locations = pd.DataFrame({\n",
    "    'id': range(n_objects),\n",
    "    'x': np.random.randn(n_objects),\n",
    "    'y': np.random.randn(n_objects)\n",
    "})\n",
    "\n",
    "# Create a 50-element time-series for each object\n",
    "timeseries = pd.DataFrame(np.random.randn(n_times, n_objects).cumsum(0),\n",
    "                          columns=locations['id'],\n",
    "                          index=pd.RangeIndex(0, n_times, name='time'))\n",
    "\n",
    "# Melt the wide-form timeseries into a long-form view\n",
    "timeseries = timeseries.reset_index().melt('time')\n",
    "\n",
    "# Merge the (x, y) metadata into the long-form view\n",
    "timeseries['id'] = timeseries['id'].astype(int)  # make merge not complain\n",
    "data = pd.merge(timeseries, locations, on='id')\n",
    "\n",
    "# Data is prepared, now make a chart\n",
    "\n",
    "selector = alt.selection_point(name=\"selector\", fields=['id'])\n",
    "\n",
    "base = alt.Chart(data).properties(\n",
    "    width=250,\n",
    "    height=250\n",
    ").add_params(selector)\n",
    "\n",
    "points = base.mark_point(filled=True, size=200).encode(\n",
    "    x='mean(x):Q',\n",
    "    y='mean(y):Q',\n",
    "    color=alt.condition(selector, 'id:O', alt.value('lightgray'), legend=None),\n",
    ")\n",
    "\n",
    "timeseries = base.mark_line().encode(\n",
    "    x='time:Q',\n",
    "    y=alt.Y('value:Q').scale(domain=(-15, 15)),\n",
    "    color=alt.Color('id:O').legend(None)\n",
    ").transform_filter(\n",
    "    selector\n",
    ")\n",
    "\n",
    "PR.PersistChart(points | timeseries, data=data)"
   ]
  }
 ],
 "metadata": {
  "NB_UUID": "a82bce7f-b64c-4128-9bc5-d2b2de6eba55",
  "__persist_keys_record": [
   "__persist_nb_uuid__",
   "__GENERATED_DATAFRAMES__",
   "trrack_graph"
  ],
  "__persist_nb_uuid__": "7f848536-1042-4e1e-9b10-149e2b765f14",
  "colab": {
   "provenance": []
  },
  "kernelspec": {
   "display_name": "Python 3 (ipykernel)",
   "language": "python",
   "name": "python3"
  },
  "language_info": {
   "codemirror_mode": {
    "name": "ipython",
    "version": 3
   },
   "file_extension": ".py",
   "mimetype": "text/x-python",
   "name": "python",
   "nbconvert_exporter": "python",
   "pygments_lexer": "ipython3",
   "version": "3.8.16"
  },
  "vscode": {
   "interpreter": {
    "hash": "31f2aee4e71d21fbe5cf8b01ff0e069b9275f58929596ceb00d14d90e3e16cd6"
   }
  }
 },
 "nbformat": 4,
 "nbformat_minor": 4
}
