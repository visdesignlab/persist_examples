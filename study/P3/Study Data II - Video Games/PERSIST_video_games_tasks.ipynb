{
 "cells": [
  {
   "cell_type": "markdown",
   "id": "522fcbb3-702c-4ea0-91d9-f3b0e71690fc",
   "metadata": {
    "__GENERATED_DATAFRAMES__": "{\"nodeDataframes\":{},\"graphDataframes\":null}",
    "show_aggregate_original": "false",
    "trrack_graph": "ᯡ࠽䈌ʀ匦㢠⹰àᦴ΀࣪ʐ怶䦠挠᱊ࠥ䁁䂖㚥煤晬փ⊪ĸ暂䙠঳ैkᑄᄈ妐ଷᓋ⃩䖻Ṯ溜Φ䐡傠Ǒ団Қ′䈤7ࡣᠠ湐戎Ⴆ寐爤䀥屨攠ʕ㥀ǔÚ䍃㏙䤥ࢂ┩勸惀Ēいཆ༠೥∁∀秸㲅䌠ⶬᛦ䙂ǃɡ殍戰泤ᒁ嬦怭㋉匥穃ᄠ彣჻⴦䉫ぢ睤䄁ⵐۻG䀡曑砑䂱竖ᄂ㜿Ꭽ˹ȩᚱ凁兘㑐Ṣ༩Ẻ䳥⑆憰棨忞⍧攈堽Ī僰὆揖䦲ᡊ⛓౱নఱ姼ᤦΧ您別൧儸晋Ǣ熘繀䉁硨K塊়ṹᜰ倳䪂ⵦ⚈ᒽ᪺ᆬ䀠 "
   },
   "source": [
    "# Analyzing Video Games Across Genres"
   ]
  },
  {
   "cell_type": "markdown",
   "id": "19cb3971-5981-474c-8250-7981c7c9cc8a",
   "metadata": {
    "trrack_graph": "ᯡ࠽䈌ʀ匦㢠⹰ૠܠ昢〽䂆౐׀ৣfL⍉ျ⥒⠡䒙¬ᧇ峕搢ಒ嫒┠অҤᵖ㹢晴㘉ᦳㄍ毿䡨墠ᨰV䆼ガ搢⡠䀢焨㌠෦ౝ戰殖๠ᠠ塩ೀn坄V䀷⢄㚗᥂夬ು䅻ఴ>☤䝃傳狱⊔㳜ੁ䀶挫㐷ࢢӡჵ嬩іㄪᢉ懐ͻ䬥䇽ࣨ䁏僿峱䐰㋸ᇻ兀㡆䱍㛠਀ⲛ粀೽疨һ䟩桁㙡Ũ昙ˢ䧮ᄪᆽ䥢ᅅᄁẩ㱸౮ᐶޣ先ఽЃⵖᥒ⌥▶懜ᩑƢ᭛䭄憐ɑ٦⦈䙓ǂ炘㸠䱅࢜ؠଌથ䜯๡䙉夊᜶僑汢㭢☈₁䠠 "
   },
   "source": [
    "**Participant ID:**  P3\n",
    "\n",
    "**Date / Time:**"
   ]
  },
  {
   "cell_type": "markdown",
   "id": "ceac0d48-2820-4532-bfd2-adf6533d7a2d",
   "metadata": {},
   "source": [
    "# Introduction\n",
    "Welcome to our data analysis study. For this study, you'll be working with a dataset sourced [Corgis Datasets Project](https://corgis-edu.github.io/corgis/).\n",
    "\n",
    "The data was originally published in the publication [“What makes a blockbuster video game? An empirical analysis of US sales data.” Managerial and Decision Economics](https://researchportal.port.ac.uk/en/publications/what-makes-a-blockbuster-video-game-an-empirical-analysis-of-us-s) by Dr Joe Cox. \n",
    "\n",
    "The dataset has information about the sales and playtime of over a thousand video games released between 2004 and 2010. The playtime information was collected from crowd-sourced data on [\"How Long to Beat\"](https://howlongtobeat.com/)."
   ]
  },
  {
   "cell_type": "markdown",
   "id": "68491102-96aa-4701-8134-d998c80ae04b",
   "metadata": {},
   "source": [
    "- You will use an extension called PersIst to complete **data cleanup and manipulation** tasks. \n",
    "- Interactive charts and tables have been pre-created for your convenience. These can be directly utilized by running the corresponding cells.\n",
    "- Focus on leveraging the interactive capabilities of Persist for your analysis.\n",
    "- Carefully follow the step-by-step instructions provided for each task.\n",
    "- In some cases, you will be asked to document your findings. Please do this in writing in a markdown cell.\n",
    "- As you work through the tasks, take note of any interesting findings or challenges with the software or pandas that you may encounter, either by speaking your thoughts out loud or taking notes in a markdown cell.\n",
    "- Feel free to add new code and markdown cells in the notebook as necessary to complete the tasks, but please do attempt the tasks with the PersIst functionality."
   ]
  },
  {
   "cell_type": "code",
   "execution_count": 2,
   "id": "9337796b-21e8-4c8c-bbbd-3076a775d03b",
   "metadata": {},
   "outputs": [],
   "source": [
    "import helpers as h\n",
    "import pandas as pd\n",
    "import altair as alt\n",
    "\n",
    "import persist_ext as PR"
   ]
  },
  {
   "cell_type": "markdown",
   "id": "dd81aecd-eebf-4624-b9e2-3a864c474c1d",
   "metadata": {
    "__GENERATED_DATAFRAMES__": "{\"nodeDataframes\":{},\"graphDataframes\":null}",
    "show_aggregate_original": "false",
    "trrack_graph": "ᯡ࠽䈌ʀ匦㢠⹰Ҁ̡䘠烠嘢త〫‥侴ᓬᛞ拐ৡ䚂ద抭婈ހڅྯ䌲⠠䭈⑁槑焳Ⴥ⩦仃㍶๽㰥Ҩǁ#㟢䌰橠ኤРᜰ͐üメ湁˛㾄ָ̠憴)挄䀦栢琭ٮ㍄ᨡ䌤ᾣㆢ䀣擠䢤㘦Sᥧᡠ戂怡ᠬÖᠻ㹈䐿ة׉妨⃓ࢱ̴㖠᫲徤ฏѤƜڣ回㸦ۡ৵ण䃔戊㘠传ϊ緯挡䘌污䕽庮粓㈨ɪⷠ搃猄ᦨ洘㳌ᤪ̪౦繶ሱ澂䘣⁑Ҝഭ炍孉ृÅ⭱䤾ᢠ䆋෭ኀ㠢Ү≱呺Ấ惑汮ᮯ戩䊏̠˙Ɂ⧽憳㈒ṉⅱਊ⥋⃆瑀⣨  "
   },
   "source": [
    "## Data Description\n",
    "\n",
    "The table below describes the different columns in the dataset. Each row in the dataset represents a video game.\n",
    "\n",
    "| Column        | Description                                                                                                                                                           |\n",
    "|---------------|-----------------------------------------------------------------------------------------------------------------------------------------------------------------------|\n",
    "| Title         | Full title of the game.                                                                                                                                               |\n",
    "| Max Players   | The maximum number of players that can play this game.                                                                                                                |\n",
    "| Multiplatform | Whether this game is available on multiple platforms.                                                                                                                 |\n",
    "| Online        | Whether this game supports online play.                                                                                                                               |\n",
    "| Genres        | The main genre that this game belongs to.                                                                                                                             |\n",
    "| Licensed      | Whether this game was based off a previously licensed entity.                                                                                                         |\n",
    "| Publishers    | The publishers who created this game.                                                                                                                                 |\n",
    "| Review Score  | A review score for this game, out of 100.                                                                                                                             |\n",
    "| Re-release    | Whether this game is a re-release of an earlier one.                                                                                                                  |\n",
    "| Year          | The year that this game was released.                                                                                                                                 |\n",
    "| Comp_Time_All | The median time that players reported completing the game in any way, in hours.                                                                                       |\n",
    "| Comp_Time_Main| The median time that players reported completing the main game storyline, in hours.                                                                                   |"
   ]
  },
  {
   "cell_type": "code",
   "execution_count": 3,
   "id": "8d0e426c-89a0-4813-8994-65ebba3f3a25",
   "metadata": {},
   "outputs": [
    {
     "data": {
      "text/html": [
       "<div>\n",
       "<style scoped>\n",
       "    .dataframe tbody tr th:only-of-type {\n",
       "        vertical-align: middle;\n",
       "    }\n",
       "\n",
       "    .dataframe tbody tr th {\n",
       "        vertical-align: top;\n",
       "    }\n",
       "\n",
       "    .dataframe thead th {\n",
       "        text-align: right;\n",
       "    }\n",
       "</style>\n",
       "<table border=\"1\" class=\"dataframe\">\n",
       "  <thead>\n",
       "    <tr style=\"text-align: right;\">\n",
       "      <th></th>\n",
       "      <th>Title</th>\n",
       "      <th>Max Players</th>\n",
       "      <th>Multiplatform?</th>\n",
       "      <th>Online?</th>\n",
       "      <th>Genres</th>\n",
       "      <th>Licensed?</th>\n",
       "      <th>Comp_Time_All</th>\n",
       "      <th>Re-release?</th>\n",
       "      <th>Comp_Time_Main</th>\n",
       "      <th>Review Score</th>\n",
       "      <th>Year</th>\n",
       "      <th>Publishers</th>\n",
       "    </tr>\n",
       "  </thead>\n",
       "  <tbody>\n",
       "    <tr>\n",
       "      <th>0</th>\n",
       "      <td>Super Mario 64 DS</td>\n",
       "      <td>1</td>\n",
       "      <td>True</td>\n",
       "      <td>True</td>\n",
       "      <td>Action</td>\n",
       "      <td>True</td>\n",
       "      <td>24.48</td>\n",
       "      <td>True</td>\n",
       "      <td>14.50</td>\n",
       "      <td>85</td>\n",
       "      <td>2004</td>\n",
       "      <td>Nintendo</td>\n",
       "    </tr>\n",
       "    <tr>\n",
       "      <th>1</th>\n",
       "      <td>Lumines: Puzzle Fusion</td>\n",
       "      <td>1</td>\n",
       "      <td>True</td>\n",
       "      <td>True</td>\n",
       "      <td>Strategy</td>\n",
       "      <td>True</td>\n",
       "      <td>10.00</td>\n",
       "      <td>True</td>\n",
       "      <td>10.00</td>\n",
       "      <td>89</td>\n",
       "      <td>2004</td>\n",
       "      <td>Ubisoft</td>\n",
       "    </tr>\n",
       "    <tr>\n",
       "      <th>2</th>\n",
       "      <td>WarioWare Touched!</td>\n",
       "      <td>2</td>\n",
       "      <td>True</td>\n",
       "      <td>True</td>\n",
       "      <td>Action</td>\n",
       "      <td>True</td>\n",
       "      <td>2.50</td>\n",
       "      <td>True</td>\n",
       "      <td>1.83</td>\n",
       "      <td>81</td>\n",
       "      <td>2004</td>\n",
       "      <td>Nintendo</td>\n",
       "    </tr>\n",
       "    <tr>\n",
       "      <th>3</th>\n",
       "      <td>Hot Shots Golf: Open Tee</td>\n",
       "      <td>1</td>\n",
       "      <td>True</td>\n",
       "      <td>True</td>\n",
       "      <td>Sports</td>\n",
       "      <td>True</td>\n",
       "      <td>-100.00</td>\n",
       "      <td>True</td>\n",
       "      <td>-100.00</td>\n",
       "      <td>81</td>\n",
       "      <td>2004</td>\n",
       "      <td>Sony</td>\n",
       "    </tr>\n",
       "    <tr>\n",
       "      <th>4</th>\n",
       "      <td>Spider-Man 2</td>\n",
       "      <td>1</td>\n",
       "      <td>True</td>\n",
       "      <td>True</td>\n",
       "      <td>Action</td>\n",
       "      <td>True</td>\n",
       "      <td>10.00</td>\n",
       "      <td>True</td>\n",
       "      <td>8.00</td>\n",
       "      <td>61</td>\n",
       "      <td>2004</td>\n",
       "      <td>Activision</td>\n",
       "    </tr>\n",
       "  </tbody>\n",
       "</table>\n",
       "</div>"
      ],
      "text/plain": [
       "                      Title Max Players  Multiplatform?  Online?    Genres  \\\n",
       "0         Super Mario 64 DS           1            True     True    Action   \n",
       "1    Lumines: Puzzle Fusion           1            True     True  Strategy   \n",
       "2        WarioWare Touched!           2            True     True    Action   \n",
       "3  Hot Shots Golf: Open Tee           1            True     True    Sports   \n",
       "4              Spider-Man 2           1            True     True    Action   \n",
       "\n",
       "   Licensed?  Comp_Time_All  Re-release?  Comp_Time_Main  Review Score  Year  \\\n",
       "0       True          24.48         True           14.50            85  2004   \n",
       "1       True          10.00         True           10.00            89  2004   \n",
       "2       True           2.50         True            1.83            81  2004   \n",
       "3       True        -100.00         True         -100.00            81  2004   \n",
       "4       True          10.00         True            8.00            61  2004   \n",
       "\n",
       "   Publishers  \n",
       "0    Nintendo  \n",
       "1     Ubisoft  \n",
       "2    Nintendo  \n",
       "3        Sony  \n",
       "4  Activision  "
      ]
     },
     "execution_count": 3,
     "metadata": {},
     "output_type": "execute_result"
    }
   ],
   "source": [
    "df = pd.read_csv('video_games.csv')\n",
    "df.head()"
   ]
  },
  {
   "cell_type": "markdown",
   "id": "7cc10d2b-9b1e-46f4-9769-b9a0ac0c9e8f",
   "metadata": {
    "__GENERATED_DATAFRAMES__": "{\"nodeDataframes\":{},\"graphDataframes\":null}",
    "show_aggregate_original": "false",
    "trrack_graph": "ᯡ࠽䈌ʀ匦㢠⹰ૠ㌬Ā჻R〶䁃lyٹ⁓f䍐ۢ䧪㈉◔ฅޡ䨲⠠䬱䑁棒瀱Ⴭ⭱妻ݎẜʤ䐡傠ǖ悃РኤРᜰ結üメ浪巟㈠ᣠˬ⃪$熒‣㐡㬚͇⦲༿⸂໡壡‡犀⒂ଠᎭॣ䥡⊃㡹稠嬸ූᑤඦҡ哹䑀妨䤝͕䀺慽䈩瞤∡㼚ƶ嵖᯦悡檩ǣ᪀畖o#䖊⠃ܑ璌⃥⹾䞌᧒Т⺈ᆡ⇳㴑䒤㒌ŭ᯸丈◡戱⃰潅Ԧ秐噑๦磜疶溂⒀ᒪ扖⋦ူⶃ㧄మྡྷშ⨭རㅸ瘭ǅ爘䅐䘆砠址䑂㥨㈼㹯䕈䓵ᒹ憴婊③ᤠ "
   },
   "source": [
    "# Task 1: Column Names and Data Types\n",
    "\n",
    "In the first task we will perform some basic data cleaning operations to get our dataset ready for further tasks."
   ]
  },
  {
   "cell_type": "markdown",
   "id": "8934b219-dd97-4e3e-9aa9-0dd7a9d62ad5",
   "metadata": {
    "__GENERATED_DATAFRAMES__": "{\"nodeDataframes\":{},\"graphDataframes\":null}",
    "show_aggregate_original": "false",
    "trrack_graph": "ᯡ࠽䈌ʀ匦㢠⹰ૠ㬠氤〥䌸瀶䀹䁣๲ৠܦᔨҀᣴ䂼䋃‣ᓆ做►䀳ല⠠䭈⑁槑瀱ᝉ⍮冫㭮ẜʦ䒠ǁ#㕀挸晠ኤРᝣၐüムṁǟ㤉䀥䉸攠ʓ㥀ǔÚ⎃஥䤫䒄攭ᇸ惀Ēいᘦᖠೣ䗫⃂変ⱦ{ఽ咼∪⌤䋵汄ჹ䑈冣ᛠඉⵆܔ⍂Þ⍡歹ম悩溩Ǡ媁疖o#䖓瀃ʅ璌⁅溮杲◒Ъ⍁䔶户ࣉⓢ削౐䘰䵥䌂んḸئԢ灐糕൤㧶ⶬ䲱䅲ᗈ撯ౠ惍䈅䥐属ѣ၈⩍སヸ๗௧焤ᄸ䒰Ž䅰䔉燩壥༲刳樲⭮✈咰ᒄ  "
   },
   "source": [
    "### Task 1a: Remove Columns"
   ]
  },
  {
   "cell_type": "markdown",
   "id": "47b531d4-2e3a-4e9a-b92a-39aebfc3deb6",
   "metadata": {
    "__GENERATED_DATAFRAMES__": "{\"nodeDataframes\":{},\"graphDataframes\":null}",
    "show_aggregate_original": "false",
    "trrack_graph": "ᯡ࠽䈌ʀ匦㢠⹰ૠ㬠氤〥䌸瀶䀹䁣๲ৠܦᔨҀᣴ䂼䋃‣ᓆ做►䀳ല⠠䭈⑁槑瀱ᝉ⍮冫㭮ẜʦ䒠ǁ#㕀挸晠ኤРᝣၐüムṁǟ㤉䀥䉸攠ʓ㥀ǔÚ⎃஥䤫䒄攭ᇸ惀Ēいᘦᖠೣ䗫⃂変ⱦ{ఽ咼∪⌤䋵汄ჹ䑈冣ᛠඉⵆܔ⍂Þ⍡歹ম悩溩Ǡ媁疖o#䖓瀃ʅ璌⁅溮杲◒Ъ⍁䔶户ࣉⓢ削౐䘰䵥䌂んḸئԢ灐糕൤㧶ⶬ䲱䅲ᗈ撯ౠ惍䈅䥐属ѣ၈⩍སヸ๗௧焤ᄸ䒰Ž䅰䔉燩壥༲刳樲⭮✈咰ᒄ  "
   },
   "source": [
    "Remove the following columns to streamline the dataset for further analysis:\n",
    "\n",
    "- **_Re-release?:_** Boolean flag indicating if the game was a new release or a re-release.\n",
    "- **_Comp_Time_All:_** Average of all other completition times, we will use one of the others directly"
   ]
  },
  {
   "cell_type": "markdown",
   "id": "aec9ad2a-ab09-4288-b8fa-2852bcddda1a",
   "metadata": {},
   "source": [
    "#### **Instructions**\n",
    "1. **Column Removal:**\n",
    "\t- Use the interactive table feature in PersIst to remove the specified columns.\n",
    "3. **Verify the Output:**\n",
    "\t- Print the head of the generated dataframe to verify the changes."
   ]
  },
  {
   "cell_type": "code",
   "execution_count": 4,
   "id": "8e333ff3-cb24-430b-a332-733b41570ba4",
   "metadata": {
    "__GENERATED_DATAFRAMES__": "ᯡࠩ䃬࿀ᜤᠹ悋ᐨ推̅ሣ䧠ⶠ卍捯ᥔᠣ℠▢dʘϔᝠ捌〤瀵摠៨⠠ ",
    "__has_persist_output": true,
    "editable": true,
    "slideshow": {
     "slide_type": ""
    },
    "tags": [],
    "trrack_graph": "ᯡ࠽䈌ʀ匦㢠⹰ಀᬠ䰸ᦠ䍽倶䀣ԡఠ夨唺Ź܁♂瞀ᶻ¼㐣ᣁ䀨慮䥈kᑄᄈ夐ࢷዃ⽱始ގ㸣䍤ð䀡嬄ন㵀ॢȠநƸᢀ眰䅽忓ဢ湐樠Ԃ牠Έ䃱磘.㙀䮰䶧⃢ၳᠳ光ᡢᥔ⮮仧䪣僓だÚͣᎹ䤸䂂䘭惸惀Ēいᥛᢸ䝦⛠憱㦩壱̠ⶬ۷قףɠ暍戰令⢅␰ⶀې伂Ζ戅ǁ斗䮢䇐₍㜁䭐㦻G䀡挞煡磠冖ྤๅ㧜䝎ຆ⁠䥔䔡⁈ᐴ०愨䲴±৸幁ࡄ䑰䒦௧ヘ䅑ৣ僲潛昖䤺ᡓ⌕Ჹ̈́⾥䘂䓒⪷╱Ⲯ➰ᒪኺٲ䊁睋ጳ䐲⒪ⵡ獒㑖⮷攪⹑⩶禬卄ሠeĨЀ0倰↠֐䳠捥䶶׊尼̠ș帺吾焤䚠Ὤ泗⴨ͯ怫̋㡢䙀ᅐ⼺畧ࡐ㑺䌀⢄๎䉶ऄጫ䃣ङะ⃈ి⇥掐撸฿ɂ䢴㔶䂁ᡌℭ䔀礜Ⴄ✑椬筽㜊笝⃻͡䣤ᤲ㚺晰䋩㚊圁囧ィ皧㇡睛暡ᗦ珘並ᰲ↠Â够濚䋀ࠡ爠嫠毩旚㰹埇渑ū᭏昨䋢倱嚱䄧晐⠫慍䴯䚰]᪷ŀᰴ娿寰粞峲媀ħᰠ␂ŐЩ崐Ⱂ䈎ᨩ䈦ᄨ娿䘣偰ଧよၤᄌئ೴ᯂ☤ಖ偈ᬥ炢ၥ烱ᒃ‴Ц慀ု㣘ਢ䠰⛡ᅀᨯ稸⡐ℰ䪫оỳᤔ姳㪇அ紟ံˎ໵烔䫗䣕䥠㛊᧐植孢盂஖哮ሳၻ剖䛑圧䚩奕✉卖昴᝗曩ใ䴂䐥禀㿬թ䉉֢͖攁㉈ᙑ⫁ᣕᷠᩦ哷⇶声âࠢ㋁%⹁☿•Ԭ㦠熼⟂p娰൐侂ಢࡠ础墁ⵅ㭃ᓙ㳃Rὂ唥㫌ᓪͤ桺㾅梚ὠᡐࢦ䅤唃ᤆᴋ〷᫫㱷ᬄ㢿ף巤㗫㨎⛨㶯ᨋ恏㷪Ŀჷ㰿ฉ崯㏦粉㮥粟Է籖ื䈨堽熨䰲匣㐼↟ሽᅊ畳甊䍼毬ҵበ〺ʨ搳Ϩ窺䙅ᴦϸⅥ⇐ὡ䔘焨憘შ⃘ਢ䅦⼭懖温㍮ᆷ砡၂Ҍֵ㌄ඈ刋ત淴⮉偛ອ淼䵩ѐ㍀⟌֋ᇋʧⶴ⎆偻ᮅ兛⺣汍⁢ᯄɳഃゴ୲媎䫢夣䴓๴⵮ဠ "
   },
   "outputs": [
    {
     "data": {
      "application/vnd.jupyter.widget-view+json": {
       "model_id": "74b64ace26864359a5098424eb6e84a3",
       "version_major": 2,
       "version_minor": 0
      },
      "text/plain": [
       "PersistWidget(data_values=[{'__id_column': '1', 'Title': 'Super Mario 64 DS', 'Max Players': '1', 'Multiplatfo…"
      ]
     },
     "execution_count": 4,
     "metadata": {},
     "output_type": "execute_result"
    }
   ],
   "source": [
    "PR.PersistTable(df, df_name=\"df_task_1a\")"
   ]
  },
  {
   "cell_type": "code",
   "execution_count": 5,
   "id": "fca81731-3f53-49bc-8423-715c1e275462",
   "metadata": {},
   "outputs": [
    {
     "data": {
      "text/html": [
       "<div>\n",
       "<style scoped>\n",
       "    .dataframe tbody tr th:only-of-type {\n",
       "        vertical-align: middle;\n",
       "    }\n",
       "\n",
       "    .dataframe tbody tr th {\n",
       "        vertical-align: top;\n",
       "    }\n",
       "\n",
       "    .dataframe thead th {\n",
       "        text-align: right;\n",
       "    }\n",
       "</style>\n",
       "<table border=\"1\" class=\"dataframe\">\n",
       "  <thead>\n",
       "    <tr style=\"text-align: right;\">\n",
       "      <th></th>\n",
       "      <th>Title</th>\n",
       "      <th>Max Players</th>\n",
       "      <th>Multiplatform?</th>\n",
       "      <th>Online?</th>\n",
       "      <th>Genres</th>\n",
       "      <th>Licensed?</th>\n",
       "      <th>Comp_Time_Main</th>\n",
       "      <th>Review Score</th>\n",
       "      <th>Year</th>\n",
       "      <th>Publishers</th>\n",
       "    </tr>\n",
       "  </thead>\n",
       "  <tbody>\n",
       "    <tr>\n",
       "      <th>0</th>\n",
       "      <td>Super Mario 64 DS</td>\n",
       "      <td>1</td>\n",
       "      <td>True</td>\n",
       "      <td>True</td>\n",
       "      <td>Action</td>\n",
       "      <td>True</td>\n",
       "      <td>14.5</td>\n",
       "      <td>85</td>\n",
       "      <td>2004</td>\n",
       "      <td>Nintendo</td>\n",
       "    </tr>\n",
       "    <tr>\n",
       "      <th>1</th>\n",
       "      <td>Lumines: Puzzle Fusion</td>\n",
       "      <td>1</td>\n",
       "      <td>True</td>\n",
       "      <td>True</td>\n",
       "      <td>Strategy</td>\n",
       "      <td>True</td>\n",
       "      <td>10.0</td>\n",
       "      <td>89</td>\n",
       "      <td>2004</td>\n",
       "      <td>Ubisoft</td>\n",
       "    </tr>\n",
       "    <tr>\n",
       "      <th>2</th>\n",
       "      <td>WarioWare Touched!</td>\n",
       "      <td>2</td>\n",
       "      <td>True</td>\n",
       "      <td>True</td>\n",
       "      <td>Action</td>\n",
       "      <td>True</td>\n",
       "      <td>1.83</td>\n",
       "      <td>81</td>\n",
       "      <td>2004</td>\n",
       "      <td>Nintendo</td>\n",
       "    </tr>\n",
       "    <tr>\n",
       "      <th>3</th>\n",
       "      <td>Hot Shots Golf: Open Tee</td>\n",
       "      <td>1</td>\n",
       "      <td>True</td>\n",
       "      <td>True</td>\n",
       "      <td>Sports</td>\n",
       "      <td>True</td>\n",
       "      <td>-100.0</td>\n",
       "      <td>81</td>\n",
       "      <td>2004</td>\n",
       "      <td>Sony</td>\n",
       "    </tr>\n",
       "    <tr>\n",
       "      <th>4</th>\n",
       "      <td>Spider-Man 2</td>\n",
       "      <td>1</td>\n",
       "      <td>True</td>\n",
       "      <td>True</td>\n",
       "      <td>Action</td>\n",
       "      <td>True</td>\n",
       "      <td>8.0</td>\n",
       "      <td>61</td>\n",
       "      <td>2004</td>\n",
       "      <td>Activision</td>\n",
       "    </tr>\n",
       "  </tbody>\n",
       "</table>\n",
       "</div>"
      ],
      "text/plain": [
       "                      Title Max Players  Multiplatform?  Online?    Genres  \\\n",
       "0         Super Mario 64 DS           1            True     True    Action   \n",
       "1    Lumines: Puzzle Fusion           1            True     True  Strategy   \n",
       "2        WarioWare Touched!           2            True     True    Action   \n",
       "3  Hot Shots Golf: Open Tee           1            True     True    Sports   \n",
       "4              Spider-Man 2           1            True     True    Action   \n",
       "\n",
       "   Licensed?  Comp_Time_Main  Review Score  Year  Publishers  \n",
       "0       True            14.5            85  2004    Nintendo  \n",
       "1       True            10.0            89  2004     Ubisoft  \n",
       "2       True            1.83            81  2004    Nintendo  \n",
       "3       True          -100.0            81  2004        Sony  \n",
       "4       True             8.0            61  2004  Activision  "
      ]
     },
     "execution_count": 5,
     "metadata": {},
     "output_type": "execute_result"
    }
   ],
   "source": [
    "df_task_1a.head()"
   ]
  },
  {
   "cell_type": "code",
   "execution_count": 6,
   "id": "e75de3f8-1986-4b7a-9642-2f720525a2db",
   "metadata": {},
   "outputs": [
    {
     "data": {
      "text/html": [
       "<div>\n",
       "<style scoped>\n",
       "    .dataframe tbody tr th:only-of-type {\n",
       "        vertical-align: middle;\n",
       "    }\n",
       "\n",
       "    .dataframe tbody tr th {\n",
       "        vertical-align: top;\n",
       "    }\n",
       "\n",
       "    .dataframe thead th {\n",
       "        text-align: right;\n",
       "    }\n",
       "</style>\n",
       "<table border=\"1\" class=\"dataframe\">\n",
       "  <thead>\n",
       "    <tr style=\"text-align: right;\">\n",
       "      <th></th>\n",
       "      <th>Title</th>\n",
       "      <th>Max Players</th>\n",
       "      <th>Multiplatform?</th>\n",
       "      <th>Online?</th>\n",
       "      <th>Genres</th>\n",
       "      <th>Licensed?</th>\n",
       "      <th>Comp_Time_Main</th>\n",
       "      <th>Review Score</th>\n",
       "      <th>Year</th>\n",
       "      <th>Publishers</th>\n",
       "    </tr>\n",
       "  </thead>\n",
       "  <tbody>\n",
       "    <tr>\n",
       "      <th>0</th>\n",
       "      <td>Super Mario 64 DS</td>\n",
       "      <td>1</td>\n",
       "      <td>True</td>\n",
       "      <td>True</td>\n",
       "      <td>Action</td>\n",
       "      <td>True</td>\n",
       "      <td>14.5</td>\n",
       "      <td>85</td>\n",
       "      <td>2004</td>\n",
       "      <td>Nintendo</td>\n",
       "    </tr>\n",
       "    <tr>\n",
       "      <th>1</th>\n",
       "      <td>Lumines: Puzzle Fusion</td>\n",
       "      <td>1</td>\n",
       "      <td>True</td>\n",
       "      <td>True</td>\n",
       "      <td>Strategy</td>\n",
       "      <td>True</td>\n",
       "      <td>10.0</td>\n",
       "      <td>89</td>\n",
       "      <td>2004</td>\n",
       "      <td>Ubisoft</td>\n",
       "    </tr>\n",
       "    <tr>\n",
       "      <th>2</th>\n",
       "      <td>WarioWare Touched!</td>\n",
       "      <td>2</td>\n",
       "      <td>True</td>\n",
       "      <td>True</td>\n",
       "      <td>Action</td>\n",
       "      <td>True</td>\n",
       "      <td>1.83</td>\n",
       "      <td>81</td>\n",
       "      <td>2004</td>\n",
       "      <td>Nintendo</td>\n",
       "    </tr>\n",
       "    <tr>\n",
       "      <th>3</th>\n",
       "      <td>Hot Shots Golf: Open Tee</td>\n",
       "      <td>1</td>\n",
       "      <td>True</td>\n",
       "      <td>True</td>\n",
       "      <td>Sports</td>\n",
       "      <td>True</td>\n",
       "      <td>-100.0</td>\n",
       "      <td>81</td>\n",
       "      <td>2004</td>\n",
       "      <td>Sony</td>\n",
       "    </tr>\n",
       "    <tr>\n",
       "      <th>4</th>\n",
       "      <td>Spider-Man 2</td>\n",
       "      <td>1</td>\n",
       "      <td>True</td>\n",
       "      <td>True</td>\n",
       "      <td>Action</td>\n",
       "      <td>True</td>\n",
       "      <td>8.0</td>\n",
       "      <td>61</td>\n",
       "      <td>2004</td>\n",
       "      <td>Activision</td>\n",
       "    </tr>\n",
       "  </tbody>\n",
       "</table>\n",
       "</div>"
      ],
      "text/plain": [
       "                      Title Max Players  Multiplatform?  Online?    Genres  \\\n",
       "0         Super Mario 64 DS           1            True     True    Action   \n",
       "1    Lumines: Puzzle Fusion           1            True     True  Strategy   \n",
       "2        WarioWare Touched!           2            True     True    Action   \n",
       "3  Hot Shots Golf: Open Tee           1            True     True    Sports   \n",
       "4              Spider-Man 2           1            True     True    Action   \n",
       "\n",
       "   Licensed?  Comp_Time_Main  Review Score  Year  Publishers  \n",
       "0       True            14.5            85  2004    Nintendo  \n",
       "1       True            10.0            89  2004     Ubisoft  \n",
       "2       True            1.83            81  2004    Nintendo  \n",
       "3       True          -100.0            81  2004        Sony  \n",
       "4       True             8.0            61  2004  Activision  "
      ]
     },
     "execution_count": 6,
     "metadata": {},
     "output_type": "execute_result"
    }
   ],
   "source": [
    "df_task_1a.head()"
   ]
  },
  {
   "cell_type": "markdown",
   "id": "36c62d50-9c88-4ed9-8c97-e552a6e4c620",
   "metadata": {},
   "source": [
    "### Task 1b: Fix Column Names"
   ]
  },
  {
   "cell_type": "markdown",
   "id": "ab8f8f24-afd2-424f-ab34-3e3cde723aa3",
   "metadata": {
    "trrack_graph": "ᯡ࠽䈌ʀ匦㢠⹰ࢀㆪこ<ǐʀ୥崡汤Ɓ䔠⍂⠨撂䂼ì债晶堪慯掩ᐠ▴ሰ璹㤨䮲减ⓥ䢧᜾㺣䉠ð䀡壅冨㕀ॢȠ௞䠸ᢀ眰䅽忖䀢晐樠Ԃ牠ΈƔڦ❓ሠƠ暬ॡ声Ȅ恨䙜⬮ಬ俨⫣䞐డ㙐᬴⣔䰲ճ㌰䊆၂۔欠㖹┰᧶༨̘ඛฌ琻ɋ㉄ܠ榡哸Ŝ.ؗ⾬ള勑̵㯺ᱱ曨ဩᒡᾪ३⁂惡৒ј⪖ᩋࢶ䥣䍢ᇃ⢀☾ԣ䖎㑝䳓ⳄⓀ᪱ĦҐ戤׌㝔䆦成扉ڠ凈㨣ೣㅘ湏Bࡤ䒠ଈତޗ٩䟨㣜㥨◈ᩲ㭡⟢䀠 "
   },
   "source": [
    "It looks like our dataset header went wrong when reading the file and some column headers end with a `?`. **Please remove the question marks from all headers**. "
   ]
  },
  {
   "cell_type": "markdown",
   "id": "63f4d5c5-9383-4857-beae-0cfa6ba466f2",
   "metadata": {},
   "source": [
    "#### **Instructions**\n",
    "1. **Rename Columns:**\n",
    "    - Use the interactive  table in Persist to correct the column names by removing the trailing `?` from their names:\n",
    "        - _Licensed?_ → _Licensed_\n",
    "        - _Multiplatform?_ → _Multiplatform_\n",
    "        - _Online?_ → _Online_\n",
    "2. **Verify the Output:**\n",
    "\t- Print the head of the generated dataframe to verify the changes."
   ]
  },
  {
   "cell_type": "code",
   "execution_count": 7,
   "id": "b7027112-7291-4136-926e-a4c06c7de200",
   "metadata": {
    "__GENERATED_DATAFRAMES__": "ᯡࠩ䃬࿀ᜤᠹ悋ᐨ怱䐢犲ǩ怶恉宑召䵬ð䀲悠ᄡḡ沯偑嬸Ř˛ࠥ笪  ",
    "__has_persist_output": true,
    "trrack_graph": "ᯡ࠽䈌ʀ匦㢠⹰໠㌪ٔ恬ɐୠතมನˠრܮ≎姍∣ᣝ⎮㪀ૠ⌥ैkᑄᄈ妒ષ዇⣹嗛ដẝΦ䐡傠Ǖ僃Қ′䈤7ࡣᠠ湐戎Ⴆ寐爳%屨攠ʕ㥀ǔ⁰娮बʠ⌤⟆僃姈㤔ቂGүᲹ䆡柲悒㡘婬ࠠᝰ撌睒′൑⇔嬸ᐠṬҧ䅠ူԐ梈∊㤁䀶挫㗃ࢢ棡ᄓ宑пㄼᝲÁ堣⷇㓡Ψ䵠៰択夂囸ᇗ㮐㖸⌍䀳怠玘簘慐η愧ࣼἳ䭠妰၄䵂䅐嘴ޤ䶲ᰴα値ᐧೡ჊≙ǡₒਡຠࣔ὇搖䣺ᠧ✐岹䍔⬷䔲擊⺴旒㲡⽢ᑪ㊥╴ⶁཋᜰ⒲ᒺ⍡玒糖⁎ᕪ抨嵷啬⚧䦅㦈妠i䁠䘠ᗺ㌢ෝᆴঠĜ䎍䄦嫠學ܔ㡼で䨳-ᠠ࿂㞻ᚿῨࢤ憍䐦䈀砡Ơኀ䑬ऴ悄桄䒽र値䴧₱瑜ĺጌ弳嗮烨ᢌἬ↱ᐺƤ惐汮᮫搐䈱ᱞ檔㵍䂄᢬挢ҩᤀ㍙䆍ݍ⬮䎅复ڝ䈤㢼杇䬄嬥㞛刊岠灩ؠʪ砠䏱㊠ℇ↬次瀇⼅炇廿⿤ӎ洞㡒ࡤ倢Ɯ椴ᆜጨ儘忯捨>䵪㴰ī䶏栈΀檈ⵞ䖓ðᰈ怨ᕱႸἦ慣ʥ䶏攠㠢ୠ恦Ӡ✡ඳ⡈໦爺ᒰ㢊འぱ䮠瀸ɠ䁼ሠ䄉ୣ夈ᇲ悯ܧ價䀣Ӑ旀ƅ㑈ࣃႵ౸㚽埕剞䤕≥旹罀ᘥ⃍䏴᱔䖱疢䊍䩋㍰᷆䛰㶾䔳畃⊤硎玬লㅬ榾ì㠶㗨ᑎ㟬Ɂ㗁䗉㕨抴䄐䆂㟁䧊㝭犴⧭氼⡪䥹㈐☹䊥Ṟ剔⇖౔橹剑欱ැᰤة千嚕疃⺊♋⾋匯䒈㺨Ѳ䇍⬭ⴠ∨纤℡琩ᕑᠠ扁䉉䓤ᐳ߁㰴ɀ〺À栾⑬Ꮑ㗉م㐔㗄垄㊷឴奂堅ʺ坉ᕆ嘐η☉絀昹⍘懩䍔無㍜摸஽䉽ᬣ珹ݑ教⿕柽戽擠㞳摑⟌Ӝ᱕璙‫狦″癆㬻疙ᾭᄑ㿟盲僘⏢恬ڸါ䆳㘼䤠ક⦠⪈㌠᩷掣䙣刓䳧䊲剅涳炘样墐客൳⼰⵻⤋٣ᷲṊ尊ᵆ娺扤䡂䑴බ峹ষ䡮伜祕ߨ眲⇡Ꭾᒗⰱׁ䦳а̩Ǡȫฃ೙䰐°ᄤ湍俒痜䒌䨫㕱润䌌㩏㔱㮣←傮׽୥ٻ⮚湰ȶ湩㮞汛䝩՚摕ի刡㩎⠺濅☙㧺᰾桚䝩淀杣㫴ᕵ䐇䛊䫔,屢ᒀย瑽◶俓纙孃⛗මみٓ⩑⸵䫕ഹ⑉昁⽎晑トᙥ䓕ᗍᰊຟ㒔Ё⹑⁓䈿之ᨿⳐ撿⺻䒬㮥య̹ན憾Ṑ፻柜ኆ⛐ᅭ壪䷁ᄫ␽᫡͒Ƒ២㇊朌扤狾␵䊛ᗞ寋㽲᭣ᅖ᰽ᚼ淭㳿榴䒦㒼୏⮥⾍㗖呍ႌ᝜崢ⷐ▻䶡ջ㲷ᅎ෶ဨ䠩ୠ㤯ǒീޭϢف搡Ǡ樠┃ܱ吧ᇝ䔣偈䦧Ғ妈熠㭁瀮⼽ਹ塴ී呇ㆈ㞅桞拮㽄䂈೨捦悋૤ᬭ䓙㊐㢯ᚑഎಆ䰱坩岶䊠囋㢷⛶浪瘎ᬇ⼇←䀠 "
   },
   "outputs": [
    {
     "data": {
      "application/vnd.jupyter.widget-view+json": {
       "model_id": "3ff161b54be04f09a18b34e142595692",
       "version_major": 2,
       "version_minor": 0
      },
      "text/plain": [
       "PersistWidget(data_values=[{'__id_column': '1', 'Title': 'Super Mario 64 DS', 'Max Players': '1', 'Multiplatfo…"
      ]
     },
     "execution_count": 7,
     "metadata": {},
     "output_type": "execute_result"
    }
   ],
   "source": [
    "PR.PersistTable(df_task_1a, df_name=\"df_task_1b\")"
   ]
  },
  {
   "cell_type": "code",
   "execution_count": 8,
   "id": "6127fc95-28b5-437a-a946-e8097c40bac2",
   "metadata": {},
   "outputs": [
    {
     "data": {
      "text/html": [
       "<div>\n",
       "<style scoped>\n",
       "    .dataframe tbody tr th:only-of-type {\n",
       "        vertical-align: middle;\n",
       "    }\n",
       "\n",
       "    .dataframe tbody tr th {\n",
       "        vertical-align: top;\n",
       "    }\n",
       "\n",
       "    .dataframe thead th {\n",
       "        text-align: right;\n",
       "    }\n",
       "</style>\n",
       "<table border=\"1\" class=\"dataframe\">\n",
       "  <thead>\n",
       "    <tr style=\"text-align: right;\">\n",
       "      <th></th>\n",
       "      <th>Title</th>\n",
       "      <th>Max Players</th>\n",
       "      <th>Multiplatform</th>\n",
       "      <th>Online</th>\n",
       "      <th>Genres</th>\n",
       "      <th>Licensed</th>\n",
       "      <th>Comp_Time_Main</th>\n",
       "      <th>Review Score</th>\n",
       "      <th>Year</th>\n",
       "      <th>Publishers</th>\n",
       "    </tr>\n",
       "  </thead>\n",
       "  <tbody>\n",
       "    <tr>\n",
       "      <th>0</th>\n",
       "      <td>Super Mario 64 DS</td>\n",
       "      <td>1</td>\n",
       "      <td>True</td>\n",
       "      <td>True</td>\n",
       "      <td>Action</td>\n",
       "      <td>True</td>\n",
       "      <td>14.5</td>\n",
       "      <td>85</td>\n",
       "      <td>2004</td>\n",
       "      <td>Nintendo</td>\n",
       "    </tr>\n",
       "    <tr>\n",
       "      <th>1</th>\n",
       "      <td>Lumines: Puzzle Fusion</td>\n",
       "      <td>1</td>\n",
       "      <td>True</td>\n",
       "      <td>True</td>\n",
       "      <td>Strategy</td>\n",
       "      <td>True</td>\n",
       "      <td>10.0</td>\n",
       "      <td>89</td>\n",
       "      <td>2004</td>\n",
       "      <td>Ubisoft</td>\n",
       "    </tr>\n",
       "    <tr>\n",
       "      <th>2</th>\n",
       "      <td>WarioWare Touched!</td>\n",
       "      <td>2</td>\n",
       "      <td>True</td>\n",
       "      <td>True</td>\n",
       "      <td>Action</td>\n",
       "      <td>True</td>\n",
       "      <td>1.83</td>\n",
       "      <td>81</td>\n",
       "      <td>2004</td>\n",
       "      <td>Nintendo</td>\n",
       "    </tr>\n",
       "    <tr>\n",
       "      <th>3</th>\n",
       "      <td>Hot Shots Golf: Open Tee</td>\n",
       "      <td>1</td>\n",
       "      <td>True</td>\n",
       "      <td>True</td>\n",
       "      <td>Sports</td>\n",
       "      <td>True</td>\n",
       "      <td>-100.0</td>\n",
       "      <td>81</td>\n",
       "      <td>2004</td>\n",
       "      <td>Sony</td>\n",
       "    </tr>\n",
       "    <tr>\n",
       "      <th>4</th>\n",
       "      <td>Spider-Man 2</td>\n",
       "      <td>1</td>\n",
       "      <td>True</td>\n",
       "      <td>True</td>\n",
       "      <td>Action</td>\n",
       "      <td>True</td>\n",
       "      <td>8.0</td>\n",
       "      <td>61</td>\n",
       "      <td>2004</td>\n",
       "      <td>Activision</td>\n",
       "    </tr>\n",
       "  </tbody>\n",
       "</table>\n",
       "</div>"
      ],
      "text/plain": [
       "                      Title Max Players  Multiplatform  Online    Genres  \\\n",
       "0         Super Mario 64 DS           1           True    True    Action   \n",
       "1    Lumines: Puzzle Fusion           1           True    True  Strategy   \n",
       "2        WarioWare Touched!           2           True    True    Action   \n",
       "3  Hot Shots Golf: Open Tee           1           True    True    Sports   \n",
       "4              Spider-Man 2           1           True    True    Action   \n",
       "\n",
       "   Licensed  Comp_Time_Main  Review Score  Year  Publishers  \n",
       "0      True            14.5            85  2004    Nintendo  \n",
       "1      True            10.0            89  2004     Ubisoft  \n",
       "2      True            1.83            81  2004    Nintendo  \n",
       "3      True          -100.0            81  2004        Sony  \n",
       "4      True             8.0            61  2004  Activision  "
      ]
     },
     "execution_count": 8,
     "metadata": {},
     "output_type": "execute_result"
    }
   ],
   "source": [
    "df_task_1b.head()"
   ]
  },
  {
   "cell_type": "markdown",
   "id": "3875e7fc-ec40-4241-aa94-87b31e59944f",
   "metadata": {},
   "source": [
    "## Task 1c: Correcting Data Type of 'Max Players'"
   ]
  },
  {
   "cell_type": "markdown",
   "id": "7a7eebda-1b60-4bff-89d3-a5548a601b49",
   "metadata": {},
   "source": [
    "There is a data type issue in `Max Players` column of our dataframe. The column is a category column and should have the pandas dtype of `category`."
   ]
  },
  {
   "cell_type": "code",
   "execution_count": 9,
   "id": "fb9bff61-9a8d-4114-97f3-4f6d0cd0e61e",
   "metadata": {},
   "outputs": [
    {
     "data": {
      "text/plain": [
       "Title             string[python]\n",
       "Max Players       string[python]\n",
       "Multiplatform            boolean\n",
       "Online                   boolean\n",
       "Genres            string[python]\n",
       "Licensed                 boolean\n",
       "Comp_Time_Main           Float64\n",
       "Review Score               Int64\n",
       "Year                       Int64\n",
       "Publishers        string[python]\n",
       "dtype: object"
      ]
     },
     "execution_count": 9,
     "metadata": {},
     "output_type": "execute_result"
    }
   ],
   "source": [
    "df_task_1b.dtypes"
   ]
  },
  {
   "cell_type": "markdown",
   "id": "b23913ac-ea3c-4ca1-8ac3-07d3026ca76e",
   "metadata": {
    "__GENERATED_DATAFRAMES__": "{\"nodeDataframes\":{},\"graphDataframes\":null}",
    "show_aggregate_original": "false",
    "trrack_graph": "ᯡ࠽䈌ʀ匦㢠⹰ೠ↺΀Ơ瘢ᠢᠫ‵䁇ፉ䐢怣侽振ၑ䶃᪰঵䂆⹉多䪲┠অҤᴶṂ㊵嘊᭓ㄅ毠㒰䣑Tဠ㚉҃೨ɰ䂠̂҆;䘸Ϥၗ眼䋐Ð䬹†于␠㚠ᝨ沂烒⎁൸憈㬸ᐠṬү䓧Ⴠ椓ᣘ⌚ᆠᛦކ䜱ǁ䅀㖖नຂᩈ桫〦塵偢㶱⢠⾱䂅埦䖃塀㪂ₐ暸ᵽ䀳怠煼砤慸㴻ࠩ㯏姭ঌ䄢䣫䧙㱈刱ㄿᬦ䩫⏃㌱楫磤ⰴຣα晼ਫ䎁㺕䮃Ⴤご䖂᥂挰ы゙㈬ܠ₰ᑊІ僑汮ޯ戩䉱៪怡⹁ᡤ甑擸抯॰ᡬᅓ╄璚╄㈠ "
   },
   "source": [
    "#### **Instructions**\n",
    "1. **Convert `Max Players` column to category:**\n",
    "    - Use the column header to switch data type of the `Max Players` column.\n",
    "2. **`Edit Categories` pop-up:**\n",
    "    - Inspect the `Edit Categories` pop-up in the toolbar. Look for any redundant categories (e.g. both `1` and `1P`)\n",
    "3. **Edit and Correct Entries:**\n",
    "    - Search for the cells having the redundant option using the search box.\n",
    "    - Edit the cells to remove the trailing `P` (e.g. `1P` to `1`)\n",
    "3. **Verify the Output:**\n",
    "\t- Print the head of the generated dataframe to verify the changes.\n",
    "    - Also print the dtypes of the dataframe"
   ]
  },
  {
   "cell_type": "code",
   "execution_count": 10,
   "id": "84bd3f29-2697-4f40-ab16-27f6540912aa",
   "metadata": {
    "__GENERATED_DATAFRAMES__": "ᯡࠩ䃬࿀ᜤᠹ悋ᐨ恑䐢犲ǩ怶恉宑召䵬ð䀲悠ᄡḡ沯妶ᠢ㠪癀ఄᐠ ",
    "__has_persist_output": true,
    "trrack_graph": "ᯡ࠽䈌ʀ匦㢠⹰ೠ✠䘣〽䀦Ĭ˰Ăᆠ挲Ð狆児ʂ扠䘮⵱嬴呹⃂┠অҤᵖ㺂犴㘊ᢶ㎉混忀炰Tဠ㚴ㄭ␢⡠䀢矲̠෦్戰䭖盈y䘺䀢㭙အ婀౒ାਣ䑢慁䇀Ź爔ౄ檾ԥɥ׃擀灐硴᱔ᤨ7₈㒕᥁瀬呡⊋ఴ>☤䄇戁ቘ⣔㱜ᤪी怫ㆦ夲䑠䒀䡹疸䈻墢໏ոǍ፤ý梅‷悈㵾ᅳⰱ᯻㠵䱜章਀㷘粀哛瞨ౢ燸โ೬䂠቉ਥ⋰吸嚣䩤偔຤䤀вᬤ⃰⠶¦⬴㢑嚫⇸潯䩬棡ⶇ唏␸ᅈ䙇ࡅ䥴䣁䤰夼佀⤴╒䋁բ湆㩋௥ऴ亩暅奼彈䐫▒们め畗,ᜒᘠ㧛†ᅰၣ*璹䁦䀼䀥䤰/ᇀv᥾ᠠ✡媭੬ఈ䆍⩍Ὲ䀢垭垃喡澹妋 絟⅓瀻但埯焤᭐喥䆰撘❁惡㡚ದⱥ尲ॄ䮭屔ᚫ棄唣Ḉ㭙⺉ጫ䈱␪᪫ᓈ檖ண成堡ࡢᅔⵖ叁嬔⌡䢁慄梜ઃ᧬ქ妊槌㨍䌧堼䜳崀堤圼㜂㠸瀩ؠʨࠤ⿮碥‰㸄ݕ䃿䌐㹯؀籿Ч㛶ߡʀ呅0Ḃ䡡Ḇᡴᵐ䇍ᯢ䠠ắ棡୼ں୪楆ぅᨊ〰梠玾ف㜹ہ瑒ց㜻բ̴࠱⩪ŠⰠ䂀ķჀ䆮䍰⠳ᆀᨦń⨰僠ᠯƀᠣ0橏⋱⤨䄑㬹䔁≞ᠠᅶ䑠5ᠰ䁘塎㓞⠠疽ᯄ⁝៊͉㟢ೣ⯭␉㛣礞D׌㦣Ŵ宣ᆛ㲠Ჴ̤愓ڮᷔ㔆劬ᵮј☇䰫ᆉ慫ฮⵋ᤭ⶋ㶂愻㎂戆⣏ヸ♼ᇒ妋⁋⹵⸂ᅰᡪ厃䁻ൢ㇡ࠠŵ漴ׄ倩厬囍叓⻛唕庾䉔ቓ坠Ǎ儁ᆡ䚬巛⌱嘪㕐昦㐑Ő⓸′☱㐤ⅳ⨬́ᢳ㞉⩏éड׀䤡⭀㓆喌ᢖ㌍披ኵ泌坩狏ትՑ╴ᕌ燅玷∈紪煨ⱀ捀富枸箭䁝歏煜ၞ摙䝝擝᜸䛙ᾶ悜俋瞜㜽攡恑翓᫹ៃ旄⺘ಣ傅伤Ω係い悠丮䳢穸欠䚌捓ἢǂ•੢〪৤䱴嶂硠廒制槺梁䍑䬊夶᫺ಷ嘫ठ沄䏷恪́否ذ᱇à炽ࠂ砩݈ᰴ䭢砱ҍ琡͠堺丶ୖ䮍嫽忲嚠βჳἯ殎ኈ㥮⥿⥊溭䜮挩存ↈ杮洦䜥獫䝅盾憼㽼㭲Φ兞㯥紟ေ㡡⑎盒࿐⢣奡䘊ಒ梳䝡ࢷ囂㤀䖤庇⢄嶸妥嶔ӗक़吹㶏␊絖㈴䢎ᦘ嵎涙嶗⮜㷛津㸏⎤絆ᵱ畲&⪸࿸棐⍿擘୏の̸‮ß䜁㱆ㄽ຀Ⱳ扨琁䁄ˠᝩ₀৓綺Ȁ∪炅၀俅₄ಱሻㇻဈ෕⨶⵱ᚚ咊Ⱡ⩍❸浴啚峊懐桃∢⺞䐸嫢恌xᣧ㥠ᬸ噁球⨆ፀዜᯠ曟䤙〮䱟ᆸ䁛ᮌ᭑繲㘢溁Ҙ✀糫Х丨殥婑㗐㝆睢଺ࣇ⋠㎴瑗ુ䷁㤤ᣐ䮘畎噎⹮ᛍ⹋ⱜㅘ旊㯇㞩ᣭ㍑᱋噀ւ測ΊȤ䉨Qᡯ㢦瞂⢵㌀ⰴ䐨䀫ԣ堵Ͽߓ䉌ިㆠᡄౠ堿倨ઢ瀩◲㺗ᭂ眩噆概᥊″Ő␪ル㖒㓍ᙎ嵊抯ظᵋ䕔♙٫◻ؠғ⎠漪⊴䋼渲àҡᱞ凬⧠睎砞䃌ੲش爿头࢑䟈犈Ԃ乽־ᓄ䁈٬灁ʰ┥栺қᨤ愌ौᕏ䆤ᚔᕤ綀⬣悅毜䤒粬ૡഫ䆠呣⿳⦚䂉ۜ犭ㄶ媛⊔⧈牓⎈獡㒭Հ偒棺ଣⵀഌ΅û⯔⛲̮孓ⲟՄᘩ゘ी奁您᱐▫ॾ坊歍̀᱀停䏠Ὴ⅔媝杵㷎䎛滖祝ᭀ㼣熞㘿ګ䒬㱉ᆐഠ㡀䖃ዡ捵䏦ᚃ墤暘ⓣ䱎ᬐ⧍燼㕕ú㎜┿ᣊ᫬c⌍㐤䂮䖡ᒧ検ቑ⚲爂栂෾㌶㦅炢⑦宯圼ጹ₠᧮ᩍᇖ㏐䷇ʃ⒆旒䚼ዑ㖲ą₻櫴扲≅Ή㘻͍ᮜ歶䋽䶉ᴳ愣Xᾨ倾㌢⑛埞ᠯ眝౛梪㴨⨡䡟ំ涖ತ盢┆aᅓ᧤Ǔ媋Ტ⓬疌磈ҔଅჄ廼ᦠ犛䤇築支⑴崋圾᮰䬗፱དƈ጑奧ᖒ佋狾渽ᕏ⁕伢拀䋔墀䅴䂞䘤狺܅慃索怛䋈ڐᱶ䃴垕੊䡔⸺䱿ళ⮪㧠䪩㾔䥦玲敊䚀೺㩴㚛⓪妸瓢֠〺Šᐺᒌ埠㨥₡榱ۓ䃿Çᒮ⚊᥁Ⴎ愡昮֏Უ僝ʞ⸴灠᜜၎ដ➁ᵼ屜ᕲ堸ㆭ㞒䶈䑺䯈ፂ㝜䴽ᆮ孃ᛞ≿᷷ⳳᬚ媩竉ଆ㚣曡嫱糽ጥ䙙ት嬎巗ᝲ潼ᰫ့᷁䧏㬯ⷡ࠰探吠ြ䍠媺䓣u㟬䁨ྩ〱ϰⴣₖ䒨ᏲÞⷼů屮⟑亐祥ㄅ䔩痙樄䪓旈䤽穸涬堧ಶ᜻䉾ἄ繕浕ᡶᠤ⛰㰭屓໑笾悸ЋṔ悘їʔ㟦沰ヶ傠⠓䒬⤀䀎㶴㭋⁜ΌĈᣬܲ㝹₎☽ỿ档乄搤㇤䮛撮砰Ⓐᄘ獁⧖ℌ唦忎܈᠖ՠಪ瀸䫐᫵皡慼Წ啘䣐Ὧҁ伃ሄ㈩ན㽾⚴洊༭氉吒ᴏ珈殸۰ױግ玼☺᧗捻㾗䌂⚆劉ಠ䫥ᗼ栞㑻Ɽ媜獙䉑疼ᎈ䗾㯖䢾淑ሙ崒宲⩍̑㯖䄧ม澚湸↜加ᅣX疯㉂Ⴥ呥ଆ㧽֓不ጶ※厚⦖䷽㯓瘵⛵欘㭽᤮烚㇉㉶◽␦斌䰡沲孋䎹⯁⵷埂獧众⺜⥯≰㴙牠Ⱙ㱷㱩㞄䈎捃ᐳ泝癵䀺☀俟ҳ㈠樆眐༏ᝃ澰ẛ㷢祲⿜䕻㏗忤㓘Čˀҍᒦ䮨ཛ栽㈏仱᳎ᙊ⼲䡚ⲛƆሺ懠䓒䣕䇠反巤砍䮇⻭朻箞婻ᗒᯢ㌌ᎆืᄹ㔘扤㝸䰰ڸ䲀㐛亊ᤊ櫬直䘅七岬Ꭿ⬜❝痊᧬ᔂJ㢦僥ᬧ獙㩥凼ᙍ䊔ᠫ尨淭崯㰘凘᥍䉖状峕⌌楠壀₩塪慘Ҽ廽珌䄈׸巔撨䂲޸唢ᮈ⃳猰㭕倴䡋㥧ઢ䰺䃈状䱍氳䄈֥哔ᔫ愓㭠☹琲J猨⨣⠵⹲梐ੴ到嶈ߨ⫽䟁ⴶ椀ⷕᵊ੄嫸哀むᵺ匬ࢡ吀␺Ȱᡩ□㩄䃽֢筊㵟Ꮎ䱜Ϯઓ䢯ᩈ㈇੩燼䚙俄佤Ā጑䐅q礄ᝣᐊᢉ禰᚝梠彮⠬֝☌ࣰ䞯䖠ᄱ䬹礄ᙂШ弤䐵᧝㵪漻䌺ᾍ݄㬰ਗ䴍▅Ķ⢽ᓑ⌢捜Ϥṣ炧⁮⤄ɁЫ䡼Ȅ岁⌭࢏嬝ᤍ昁佌磷娍儯侗夷䧜⠇ݽ⡿䧑㐢怴㡌ഽဎᆋ⩨䋭㤄畯硈廭䔂兿稞׬ᚆ獃猠⯬ك獚㤘䭔簺䂵Ѷ䆽༷䃩րㅕ挋䄋ᎁࡣἺ枏䠐㙽⼲ხҢ∂悷䃛Т㐳刷䃪ۢ㈳炻磿ޠ⸲䨺䃬߂㤳ᢷ䂤Т⍢傻磸ߖ䵣ҵⶓ㦈㊅愪䙒䄐ϸ碠ᵯ䪬Ს⽡百䂐ǈТᡮ櫰ັ筈炪嬼屝ϡੈ碘⒐帴欤稘⭰搮䩊䣛ጥ䴲⢑ፌ⻐瑅棾ᅃ促侍刱⊢廃䪴森Ǌⷃ᪹棬ℊ㟃泏唂炊஍墁䕅氁廩ᯋ᪙傱侤栮╺Ų䟜港ⶃ㐍᫃䳈捕笽奂䤦ᾐ䒣䍃儵䤙礄㹃䰏䣙䚉宥挡屔ʒ喂≎䝭䓟䩥㬽㌷⫹兤ຌ㣲㦼⿴ᜱ獝୼㑔怼ㄶ㢂㤢弇ീ棜㜳䠼眨◓䆕㧀榐Բ┳㼆灤⚮㊳༉ឍ߸ڬ෋ᝑ摎媲毇䬸̔ཌ绠ᢐ⧰`㐨沈䐩崱ԥ⁌࢐ᇑళ䃅榓哔ᯏ䕍榀⳽༌஑Ԛ㡝ᷤᓾ炪◢㖃㶈祪㇍࿋焄吘ⴠನ䥋Ɩକ抾焚対乜㸵炓․ᶝ䚸棵⛔⍲ᴼ箋└㊐皰ᤊᄠ  "
   },
   "outputs": [
    {
     "data": {
      "application/vnd.jupyter.widget-view+json": {
       "model_id": "ee277bc10afc42f09fa1b99eb89cb57a",
       "version_major": 2,
       "version_minor": 0
      },
      "text/plain": [
       "PersistWidget(data_values=[{'__id_column': '1', 'Title': 'Super Mario 64 DS', 'Max Players': '1', 'Multiplatfo…"
      ]
     },
     "execution_count": 10,
     "metadata": {},
     "output_type": "execute_result"
    }
   ],
   "source": [
    "PR.PersistTable(df_task_1b, df_name=\"df_task_1c\")"
   ]
  },
  {
   "cell_type": "code",
   "execution_count": 12,
   "id": "e1c8ce26-edbe-42ff-9873-295e91676312",
   "metadata": {},
   "outputs": [
    {
     "data": {
      "text/plain": [
       "Title             string[python]\n",
       "Max Players             category\n",
       "Multiplatform            boolean\n",
       "Online                   boolean\n",
       "Genres            string[python]\n",
       "Licensed                 boolean\n",
       "Comp_Time_Main           Float64\n",
       "Review Score               Int64\n",
       "Year                       Int64\n",
       "Publishers        string[python]\n",
       "is_selected              boolean\n",
       "dtype: object"
      ]
     },
     "execution_count": 12,
     "metadata": {},
     "output_type": "execute_result"
    }
   ],
   "source": [
    "df_task_1c.dtypes"
   ]
  },
  {
   "cell_type": "markdown",
   "id": "753ed0a8-dc0b-4ac8-8afd-b554ea8f4d28",
   "metadata": {},
   "source": [
    "# Task 2: Filtering data\n",
    "\n",
    "In Task 2, we further improve our data by removing outliers and removing certain records to have more consistent data. "
   ]
  },
  {
   "cell_type": "markdown",
   "id": "7f25d8f5-98e8-4b0f-9358-ed85f77cbed8",
   "metadata": {},
   "source": [
    "## **Task 2a: Remove Outliers**"
   ]
  },
  {
   "cell_type": "markdown",
   "id": "ac53a605-2d10-4457-9625-70ce88f04f3b",
   "metadata": {},
   "source": [
    "In this task, we address data accuracy by filtering out anomalies in the completion time for the main story of game. We observe some records with negative values for completion time, which is obviously incorrect data.\n",
    "\n",
    "**Remove records with negative completion time.**"
   ]
  },
  {
   "cell_type": "markdown",
   "id": "664c641e-1193-4233-8897-0161f209c86f",
   "metadata": {},
   "source": [
    "#### **Instructions**\n",
    "1. **Identify and Remove Anomalies:**\n",
    "    - Interactively select data points negative value for `Comp_Time_Main`.\n",
    "    - Use Persist's interactive features to remove these anomalous records.\n",
    "2. **Verify the Output:**\n",
    "    - Print the head of the generated dataframe to verify the changes."
   ]
  },
  {
   "cell_type": "code",
   "execution_count": 13,
   "id": "9f84d347-8ce1-48d8-84a9-478d7eae3bd6",
   "metadata": {
    "__GENERATED_DATAFRAMES__": "ᯡࠩ䃬࿀ᜤᠹ悋ᐤ推̅ሣ䧠ⶠ卍捯ᥔᠣ℠▢dʘϔᝠ捌〤瀵摠៨⠠ ",
    "__has_persist_output": true,
    "trrack_graph": "ᯡ࠽䈌ʀ匦㢠⹱⁓Ÿ΅㎸࣠ⵆx␼⁦ᑰࠣ亠暔؇䁆ణ堦ᠩ攊A唬ተ¶⡨⃱ㄇ扊ⱼ䪭㵆ᜌ崘ܭࠣ℠Έឦऔ䁅ШNႦ〡岁䏼ℭ㞁摗+㢱䨠Ԋ牠Έ䆙˔ظㄠƢ䁫悅⌓䥙㒌ɡԹ岯෩⏯⛲剠Ú䍃㏙䤡ᢍ攬૸惀ĒいՇŁạ₅恆ヹ䒦{్偬∨ጤ䋮淤ჽ䒐畨༦怭㒼ଥ癃ᔠ彣ሊ田ⷫつ澍恷⋨ၻG䀡欛琑䎐筏䈮ᇘ㹇ၡ㇝኉ਬ⮐倪ᢠ懰汈͌⏁ᱴ֩䋼Цඪ䊑㱜ŉ慑䒂ߩ礝劆䘪檨朶ロ૥煄䕆䢂夼佀⬰䔲䊦⡵僉Ϯ日঄啎䪅奼彃ȵ䔪ᓋ掴ిӦㅢ†᥼急婰 䀦ࡡፏ䀯倠嗤榽倥䨩ℓ‡⁀⤝㧖患䶔̠Ӈ槭䭓乁䀠瞓ヽ恡↏㚠ധ㲔ᑓ燴悯ย㗼㺟၂থᭈ厦㇐硾ᥦ䕃摈ጡ䬑⋵㌠戩砤丼⌑岔ૈ㆜䝷ᷣႁ塼Ⴂ↱ᒊຨ捑Ⱞޯ愨⊂旆㖔㵞䂄᪁瑱䊥ᣬ獗册嫔欭䮈㌌ဣ䤂㩜ᜥ塍㫽睳僧ɨᠠʪ倱ސḴġ缰\"峠ᐥϿ䀂稆ⵋ祧⶯燡⑁ॠХ秄⡥硬㜠だط燄/⍣塱䆣㼡㗈䖥揢ѧ䉂⑹ࣃ呬ᑐოน桀䜹ᑌ⏁Ȩ佁焪ᕩ梡Ā娢០硇Ԁ⁋ड碔䐱启䈂ḵ࠲౽॒潕嗕໓冠溧埝㻟⟱⢠ρ㚌ʥ灩࿃ピᚠⓜᮂ䙮ٗ䚩奕㴁ᚦ㦸䒲┝Ῥ炸ଠ䲕姬曑⿷甜ौ愇፮椾ᝪ䡃嗄冦Ⱔࣳᓬㆥ偖к㽣ㅚ⽩ᗖ೉t㨇׵㜭䆀ᱠ乞ᔡ䙡ȇӀᢏᢲ䐠娖䧱㬎吶᚞ᬗ吾 磲澷牸ۂ㒭槈ᒥө᪤旕㐺ྫ㗲༷㖼涸柠ࢼၙ䚥旙ཋ摄὏搥紼ዅ瓓暅Ӈ᠈⣆ᜣ磛ᝅ䪼玼䛋⟑֥垱勚䘀悦נ㼮櫱繒হဴ৔悠⒉涿怢⁤৘⣵ˢ⧾⋮┥≎甥㦈痷↎࿶僘⡢䂞縺嫶竱ୈ戹嫖盨䆖ữ堮⇢⭨ᆆö㫡⑫⛥壄妓宖㉱⸮嵴懍⍶埔⭦槭歖暚έំ惶Ꭶ䣺᧦Ꮬᛆ枕ᎆ䜥戆ဩ䚺旔媤篤΄戧䇐ὀ䏀䇵⬰㘫ࣄ㰾䁉刣⤨䰷偰㘸㧃ं㭪乮⤒䕿䣊㕤⦪ᵩ儎皯㩀庿刬憾䃇琼竬禺秸寽㍡⟥笼厣祼焦玡桀۠၌ܞ㞡ݡ㡕㵁愅ל婃悁ⱀ䵢燉ัᠸ䛼湝ู⻔ᅱҨ昳砪䑰㰇噀席䇅ⱪඅ䓋Ѕ撉户濄埣唾䪩໇妥⸐偗焞、䫰栝ᠠͯ崚䢨ו⼶ᔰҚ椠怨亠䔰′£㠥ʀ⤮瞄䏠䱣䐬щ湶䅐ؠቑၓ㷲㒟䐤恢✔棬爦㤴Ẓ吲炈⬆栭揰یゕԨ氣秃噛揂㯀㊕❮ݮ䴎ᢙ毅嶿ᴫ䕸㰲䞐Ვ値牮爡兺᳠㩇Ḕ㎠௉尊ᖡ䁩䂠ᜡ㑁析因㓼℠Ϙ獨ヲᡲ㌮₡໰⩘◵ⳋᵹ䖶婖ᓕ歖愰㦈㛝䱰䫻㤹ថ㘻㨾ュ灜琸弉㳀\\⬮硧徂๘窏ᔑ侅炜愈ʫ檈ၦℰ䗇埗⑃ᜒ㉴᛺椯庴⢝㵠呠ᑃ屫䊀筲公㛦岋⋈ᇤ湃捏䬧⾽⭒≔䴉䣹㦽∵╵⭊㏶㚆嫜昀姪¬૙橏䛘ᤝ䅐ტ㜅侷़憳熇䰲簾悘Ԡऻ䄨ᔣ栭Ʉɤࡼ䊀䴱⁐ѣȸ┝ᕪ〾梿ⅵ⌣ᄊ⠮Ⴡޑ啐粩䈠惝䊐忦卾ெᠠ显ୁ厡ℇቺ䑧᪈ᬁ桭旹夰ᙨáⲪ㊌ʐᦓᬨ䭏㎅枅䤳暄ⷠへႂ㣧䙒䞸檯⣔畄洽亚ួ๐峮ࠠ "
   },
   "outputs": [
    {
     "data": {
      "application/vnd.jupyter.widget-view+json": {
       "model_id": "bb6219df9dae4bc5a5f215f3d825a280",
       "version_major": 2,
       "version_minor": 0
      },
      "text/plain": [
       "PersistWidget(data_values=[{'__id_column': '1', 'Title': 'Super Mario 64 DS', 'Max Players': 1, 'Multiplatform…"
      ]
     },
     "execution_count": 13,
     "metadata": {},
     "output_type": "execute_result"
    }
   ],
   "source": [
    "PR.plot.scatterplot(df_task_1c, \"Comp_Time_Main:Q\", \"Review Score:Q\", df_name=\"df_task_2a\")"
   ]
  },
  {
   "cell_type": "code",
   "execution_count": 14,
   "id": "6a6c923e-e9d8-4bc6-8a62-c7432a355205",
   "metadata": {},
   "outputs": [
    {
     "data": {
      "text/html": [
       "<div>\n",
       "<style scoped>\n",
       "    .dataframe tbody tr th:only-of-type {\n",
       "        vertical-align: middle;\n",
       "    }\n",
       "\n",
       "    .dataframe tbody tr th {\n",
       "        vertical-align: top;\n",
       "    }\n",
       "\n",
       "    .dataframe thead th {\n",
       "        text-align: right;\n",
       "    }\n",
       "</style>\n",
       "<table border=\"1\" class=\"dataframe\">\n",
       "  <thead>\n",
       "    <tr style=\"text-align: right;\">\n",
       "      <th></th>\n",
       "      <th>Title</th>\n",
       "      <th>Max Players</th>\n",
       "      <th>Multiplatform</th>\n",
       "      <th>Online</th>\n",
       "      <th>Genres</th>\n",
       "      <th>Licensed</th>\n",
       "      <th>Comp_Time_Main</th>\n",
       "      <th>Review Score</th>\n",
       "      <th>Year</th>\n",
       "      <th>Publishers</th>\n",
       "      <th>is_selected</th>\n",
       "    </tr>\n",
       "  </thead>\n",
       "  <tbody>\n",
       "    <tr>\n",
       "      <th>0</th>\n",
       "      <td>Super Mario 64 DS</td>\n",
       "      <td>1</td>\n",
       "      <td>True</td>\n",
       "      <td>True</td>\n",
       "      <td>Action</td>\n",
       "      <td>True</td>\n",
       "      <td>14.5</td>\n",
       "      <td>85</td>\n",
       "      <td>2004</td>\n",
       "      <td>Nintendo</td>\n",
       "      <td>False</td>\n",
       "    </tr>\n",
       "    <tr>\n",
       "      <th>1</th>\n",
       "      <td>Lumines: Puzzle Fusion</td>\n",
       "      <td>1</td>\n",
       "      <td>True</td>\n",
       "      <td>True</td>\n",
       "      <td>Strategy</td>\n",
       "      <td>True</td>\n",
       "      <td>10.0</td>\n",
       "      <td>89</td>\n",
       "      <td>2004</td>\n",
       "      <td>Ubisoft</td>\n",
       "      <td>False</td>\n",
       "    </tr>\n",
       "    <tr>\n",
       "      <th>2</th>\n",
       "      <td>WarioWare Touched!</td>\n",
       "      <td>2</td>\n",
       "      <td>True</td>\n",
       "      <td>True</td>\n",
       "      <td>Action</td>\n",
       "      <td>True</td>\n",
       "      <td>1.83</td>\n",
       "      <td>81</td>\n",
       "      <td>2004</td>\n",
       "      <td>Nintendo</td>\n",
       "      <td>False</td>\n",
       "    </tr>\n",
       "    <tr>\n",
       "      <th>3</th>\n",
       "      <td>Spider-Man 2</td>\n",
       "      <td>1</td>\n",
       "      <td>True</td>\n",
       "      <td>True</td>\n",
       "      <td>Action</td>\n",
       "      <td>True</td>\n",
       "      <td>8.0</td>\n",
       "      <td>61</td>\n",
       "      <td>2004</td>\n",
       "      <td>Activision</td>\n",
       "      <td>False</td>\n",
       "    </tr>\n",
       "    <tr>\n",
       "      <th>4</th>\n",
       "      <td>The Urbz: Sims in the City</td>\n",
       "      <td>1</td>\n",
       "      <td>True</td>\n",
       "      <td>True</td>\n",
       "      <td>Simulation</td>\n",
       "      <td>True</td>\n",
       "      <td>15.5</td>\n",
       "      <td>67</td>\n",
       "      <td>2004</td>\n",
       "      <td>EA</td>\n",
       "      <td>False</td>\n",
       "    </tr>\n",
       "  </tbody>\n",
       "</table>\n",
       "</div>"
      ],
      "text/plain": [
       "                        Title  Max Players  Multiplatform  Online      Genres  \\\n",
       "0           Super Mario 64 DS            1           True    True      Action   \n",
       "1      Lumines: Puzzle Fusion            1           True    True    Strategy   \n",
       "2          WarioWare Touched!            2           True    True      Action   \n",
       "3                Spider-Man 2            1           True    True      Action   \n",
       "4  The Urbz: Sims in the City            1           True    True  Simulation   \n",
       "\n",
       "   Licensed  Comp_Time_Main  Review Score  Year  Publishers  is_selected  \n",
       "0      True            14.5            85  2004    Nintendo        False  \n",
       "1      True            10.0            89  2004     Ubisoft        False  \n",
       "2      True            1.83            81  2004    Nintendo        False  \n",
       "3      True             8.0            61  2004  Activision        False  \n",
       "4      True            15.5            67  2004          EA        False  "
      ]
     },
     "execution_count": 14,
     "metadata": {},
     "output_type": "execute_result"
    }
   ],
   "source": [
    "df_task_2a.head()"
   ]
  },
  {
   "cell_type": "markdown",
   "id": "b447b862-90c6-4ed7-b48b-baa1cf74ac2d",
   "metadata": {
    "__GENERATED_DATAFRAMES__": "{\"nodeDataframes\":{},\"graphDataframes\":null}",
    "show_aggregate_original": "false",
    "trrack_graph": "ᯡ࠽䈌ʀ匦㢠⹰࣠✴ƀචآ൐ୠᣠ⭎¸䚀ᶥ<⋵攴≲䦆ᨐ҅䁲䥈kᑄᄈ夒ર囇⣹嗛➎帣ᢤ䀡傠Ǘ熠㥀ॢȠா䠸ᢀ㜰䁾巒•橀樠Ꮃ䤠ව׷核ᱬ䣘紲₞૦Ԡ޳ŀ凐栠晬╍ಲ䖽䂇栢沀團ᄰ㸸ሪ喊Ⴇ♁䐔粶ᦞΎ刺ࠥ簉窺簲ᖢොሧ҉䃵ⰡḠޅ毗䘤䗾墥୚渍磆搰㣄䆯䌭䊣ᎄ䢩妈䪑䴹ҩ䋫◂რ⢒ઉ⃁⽌囦媍ኘ垤䢠䍤⒂Йᘷ੡䄀҂Ქ⃱琿啡憐㲞ၯ䌨焠ᗿ搫໎㒫ல熪Ņ⎃ऺᥛ⃄ᅠ  "
   },
   "source": [
    "## Task 2b: Filtering Out Old Data"
   ]
  },
  {
   "cell_type": "markdown",
   "id": "c86b30d4-4762-4bc0-bfd3-6f1486b55ad6",
   "metadata": {
    "__GENERATED_DATAFRAMES__": "{\"nodeDataframes\":{},\"graphDataframes\":null}",
    "show_aggregate_original": "false",
    "trrack_graph": "ᯡ࠽䈌ʀ匦㢠⹰࣠✴ƀචآ൐ୠᣠ⭎¸䚀ᶥ<⋵攴≲䦆ᨐ҅䁲䥈kᑄᄈ夒ર囇⣹嗛➎帣ᢤ䀡傠Ǘ熠㥀ॢȠா䠸ᢀ㜰䁾巒•橀樠Ꮃ䤠ව׷核ᱬ䣘紲₞૦Ԡ޳ŀ凐栠晬╍ಲ䖽䂇栢沀團ᄰ㸸ሪ喊Ⴇ♁䐔粶ᦞΎ刺ࠥ簉窺簲ᖢොሧ҉䃵ⰡḠޅ毗䘤䗾墥୚渍磆搰㣄䆯䌭䊣ᎄ䢩妈䪑䴹ҩ䋫◂რ⢒ઉ⃁⽌囦媍ኘ垤䢠䍤⒂Йᘷ੡䄀҂Ქ⃱琿啡憐㲞ၯ䌨焠ᗿ搫໎㒫ல熪Ņ⎃ऺᥛ⃄ᅠ  "
   },
   "source": [
    "The interactive barchart below, shows the data aggregated by year. There are noticeably fewer records for `2004` and `2005`.\n",
    "\n",
    "During this subtask we will remove these older records, keeping only the records for the year 2006 and above."
   ]
  },
  {
   "cell_type": "markdown",
   "id": "24b308e8-8437-4146-9ebf-cd121aeb7f9f",
   "metadata": {},
   "source": [
    "#### **Instructions**\n",
    "1. **Analyze the Bar Chart:**\n",
    "    - Identify the bars that have less than 200 records.\n",
    "2. **Filter Year:**\n",
    "    - Select and remove the years with few records.\n",
    "3. **Verify the Output:**\n",
    "    - Print the head of the generated dataframe to verify the changes."
   ]
  },
  {
   "cell_type": "code",
   "execution_count": 15,
   "id": "1ff923c8-1008-4d36-ab1c-625171d90d47",
   "metadata": {
    "__GENERATED_DATAFRAMES__": "ᯡࠩ䃬࿀ᜤᠹ悋ᐤ怱䐢犲ǩ怶恉宑召䵬ð䀲悠ᄡḡ沯偑嬸Ř˛ࠥ笪  ",
    "__has_persist_output": true,
    "trrack_graph": "ᯡ࠽䈌ʀ匦㢠⹰恖­⠹䂦Ð瀶䀳཭ֺ䁮ⅵ⠽䕁稠焀Ơㆠ晭毅౩ᐠ▴ሰ㒹㠨䩰哣❱妻᝾ఢ䈠桠ø珁䏱ဩ™+䑎䰠㜸ヷࡣ䵹天怢扏⨠Ꮓ䤠ෂ߂倢姱᳈ᚂℬ־佡⊡惢ࡹ⢼瑢⹗ֻ䣮敂抐䀡㫚㶛ㆲᶷ⧨৤壡‡犀␠⍝ᶽ䄽橎玓঩瓚{౅䜸∣䌤䋮Ɽၽ䒀啨ᴢ怭㒹搙癢ᔠ彽ሊ眳䦀䓾淠嚁玶o#䘅渃ԃ沜ေৡ燸㠳ᤢƨቈᎧ䊐傎伭抅䑈ڧ䁥瑌Ⴉ䄁ᱢᒅ䎥梖ậ恤硜Ϯ禜ቆ䘢棜朶㝮।ㅘ䅄䣄硔䍅䤄礼Ä⥠╜೏᭢⺖㩋௥঄啎䪅奼彈⬵▒嫈ㇴ⸠᥸搚婰 䀤橓纓‡♃窘㧒患䶮笵\"⡜媨ጃ䁭宧丅砢⃆楀悀嘮Ѡ䑂尥ત㮑渺⡥⃀Ԗ᧣傀ᠰ䷐粮䝓䔾䨐≉๤傴سି⤘⴨㳳᭚ế⁒จ䆵Ѳ䲆㧄ᣖⱺ㖦旕榖ࠡ撑᰾஢瀆帑㯉毃䃤ᠠ੅䆁✛吥a᮰*猢俇㌉犆庿㟤Ŏ⳾⡜प䀰ߢ␨㸦Ꭱ㳚ᘒ砲'勲恄Ƣ㴢筞䃦匦஻笞᜿稡桔ѡ桷⋡硂⁖稳䌰渨䃐ࢸ䎔擢ᄰĶሰ⑪Ϊࢶࡆᘫ ᑄĞध͑༻Ә灟ݡ兞㍺⎤ႚ㰻ₚࢮ⠔吼玑幅搑焤Ӕじ■᰺ゞ㡁Ԧ坿憑洵ؑŋ♸ᵄΡ➢Ȥ䍀䚌倪碨狣憀ᄸ慠箸አ὏摨䥌晔⼬㠺ဠ楇慂睎᷒䒠尰擥ၒ㌅ẓ丫Ꮵ傥䶄徍ᄧ傟ƙ恏#瓀䮼綡⭯熀牱ଞDҼ⦣Ř䮥ᇐᖇᆋ⊫※⪡悘ஈᇬ纫⡁㝬峄ಆ戃⊄ℐ઎想څ䲓᥯䴫㓎ᄚ璋൶劁孳㨮䲨⻵䘖唠Ⲕ㺯呁ࠬ㒰姅㒍㷃ችᯁ痝⿀爝ࠨ䍭ࢃ焜⁥ᵄᔪ䇸ᥪ䁲რᡈḭ榒㨡ࣙ㬯效紬⁸ମ懰╥劁禇ᕙ⋃摵Î喥⣍啅⻉燻᭩洰⽯椦ᅩ≂᥄ᶆ㳦᳌Ԏ姯ⴏᶮ⸉㥷ࢣ㡗ϥ岗㼈㶎㈂૙㷏ᨄ峗㏨紉ப緿ḹ糼䅷粀?䓐楼᎐䰾ռ塥⅘㉯恸℮慦ѡ⃩Ł⏑洯淘ᘭ⃦ḥⅺ枥燺恈毚潱Ⱖ沣⵰ʭⅦ䪤浆暭᮷ൠ灁ㄨ封打ࡱ眦䛉♛䒑籧䟲Ŕ♩奙҅᱐䚱涟⹑噜漝繞ᡛ楑瀬ᆦ穞槆槞凫窽㿾璴俋ち禎ޣѶಁ䡢x㝣䦨ಋ䢀ᜡ䖃悝࣑ʢ怸☒愑Ѯ♪救Ⴖ姸″׹寖國㍝樆⏴ᵦ䄆ມ塜揸䔵Iᙛ֨犠ᣑⱩ抶綨㣒梌⮭㥕崓㝌ϋሇ䰽㚼㶆↙☭䛲ऊ䳸娥嫛фԻ㝢㮉䊢┍癥淤䗡⏟Ȝܰ⑲ᅤ㰢悘ה含ň卐䧃ʐ⽗灗獘涫礟಼嵧哟䌠㏕㏨ᶃ杦捰䌏惥浰獩ǘᦓ࿉箿ɢ徔㒨屩愗晡࿾䆿嘙຤䃸稣ᾚÞܵ⑮ឝ㲽Ǽ㏦倮ǟề体Ơ䦡.ƈ㯫畜䅄၆禶ҡ祝ʊ䢏帱乢△級䫛篃৷ₐ㞁痦㈈⛤楜ၑ䡛ᨧ㬿᭄Եᅄശ▮ᛋ्㫺Ⳑ㆑㙒煼⋗⸠咘㖀㱄ᤩᑗ⃏እ漭ڠᴩᕗ挢䮌憶⛣ु慘㛩䪥⥵⵰╵ᑊ䂠㦮沓䉱於匆涭攼嶷ŝၒ➿奩ᮒ潜ⓞ␠ィ嫜䐳唽侖岿䤠吪䁤஽卩ᢛ宐஫恟䔀ɭ桰ޡ焹ࠢィ⊜ࠂ徇⋧⇠澂愆⟒䕡ત廩 䈤ⷧℐ⺜ࠡ㳶˂浽⍚勢取䙶⚗梱噰⌱ᨺં䈤屌ㄡ灋ሢ䖧᚞冰㴼᫙手捹墫娊㠥琘⥪ἳ琑㬹㺙䤃㟥拢≇堫祤犪  "
   },
   "outputs": [
    {
     "data": {
      "application/vnd.jupyter.widget-view+json": {
       "model_id": "94d611ab61d24b5b8aac9ea1d706ef87",
       "version_major": 2,
       "version_minor": 0
      },
      "text/plain": [
       "PersistWidget(data_values=[{'__id_column': '1', 'Title': 'Super Mario 64 DS', 'Max Players': 1, 'Multiplatform…"
      ]
     },
     "execution_count": 15,
     "metadata": {},
     "output_type": "execute_result"
    }
   ],
   "source": [
    "PR.plot.barchart(df_task_2a, \"Year:O\", \"count()\", selection_type=\"interval\", df_name=\"df_task_2b\")"
   ]
  },
  {
   "cell_type": "code",
   "execution_count": 16,
   "id": "91b82afa-ab75-41d7-b35a-7e18ab47c733",
   "metadata": {},
   "outputs": [
    {
     "data": {
      "text/html": [
       "<div>\n",
       "<style scoped>\n",
       "    .dataframe tbody tr th:only-of-type {\n",
       "        vertical-align: middle;\n",
       "    }\n",
       "\n",
       "    .dataframe tbody tr th {\n",
       "        vertical-align: top;\n",
       "    }\n",
       "\n",
       "    .dataframe thead th {\n",
       "        text-align: right;\n",
       "    }\n",
       "</style>\n",
       "<table border=\"1\" class=\"dataframe\">\n",
       "  <thead>\n",
       "    <tr style=\"text-align: right;\">\n",
       "      <th></th>\n",
       "      <th>Title</th>\n",
       "      <th>Max Players</th>\n",
       "      <th>Multiplatform</th>\n",
       "      <th>Online</th>\n",
       "      <th>Genres</th>\n",
       "      <th>Licensed</th>\n",
       "      <th>Comp_Time_Main</th>\n",
       "      <th>Review Score</th>\n",
       "      <th>Year</th>\n",
       "      <th>Publishers</th>\n",
       "      <th>is_selected</th>\n",
       "    </tr>\n",
       "  </thead>\n",
       "  <tbody>\n",
       "    <tr>\n",
       "      <th>0</th>\n",
       "      <td>Wii Fit</td>\n",
       "      <td>1</td>\n",
       "      <td>True</td>\n",
       "      <td>True</td>\n",
       "      <td>Educational</td>\n",
       "      <td>True</td>\n",
       "      <td>3.93</td>\n",
       "      <td>80</td>\n",
       "      <td>2007</td>\n",
       "      <td>Nintendo</td>\n",
       "      <td>False</td>\n",
       "    </tr>\n",
       "    <tr>\n",
       "      <th>1</th>\n",
       "      <td>Halo 3</td>\n",
       "      <td>4</td>\n",
       "      <td>True</td>\n",
       "      <td>True</td>\n",
       "      <td>Action</td>\n",
       "      <td>True</td>\n",
       "      <td>9.0</td>\n",
       "      <td>94</td>\n",
       "      <td>2007</td>\n",
       "      <td>Microsoft</td>\n",
       "      <td>False</td>\n",
       "    </tr>\n",
       "    <tr>\n",
       "      <th>2</th>\n",
       "      <td>Call of Duty 4: Modern Warfare</td>\n",
       "      <td>4</td>\n",
       "      <td>True</td>\n",
       "      <td>True</td>\n",
       "      <td>Action</td>\n",
       "      <td>True</td>\n",
       "      <td>7.0</td>\n",
       "      <td>94</td>\n",
       "      <td>2007</td>\n",
       "      <td>Activision</td>\n",
       "      <td>False</td>\n",
       "    </tr>\n",
       "    <tr>\n",
       "      <th>3</th>\n",
       "      <td>Super Mario Galaxy</td>\n",
       "      <td>2</td>\n",
       "      <td>True</td>\n",
       "      <td>True</td>\n",
       "      <td>Action</td>\n",
       "      <td>True</td>\n",
       "      <td>15.0</td>\n",
       "      <td>97</td>\n",
       "      <td>2007</td>\n",
       "      <td>Nintendo</td>\n",
       "      <td>False</td>\n",
       "    </tr>\n",
       "    <tr>\n",
       "      <th>4</th>\n",
       "      <td>Mario Party DS</td>\n",
       "      <td>1</td>\n",
       "      <td>True</td>\n",
       "      <td>True</td>\n",
       "      <td>Action</td>\n",
       "      <td>True</td>\n",
       "      <td>6.87</td>\n",
       "      <td>72</td>\n",
       "      <td>2007</td>\n",
       "      <td>Nintendo</td>\n",
       "      <td>False</td>\n",
       "    </tr>\n",
       "  </tbody>\n",
       "</table>\n",
       "</div>"
      ],
      "text/plain": [
       "                            Title  Max Players  Multiplatform  Online  \\\n",
       "0                         Wii Fit            1           True    True   \n",
       "1                          Halo 3            4           True    True   \n",
       "2  Call of Duty 4: Modern Warfare            4           True    True   \n",
       "3              Super Mario Galaxy            2           True    True   \n",
       "4                  Mario Party DS            1           True    True   \n",
       "\n",
       "        Genres  Licensed  Comp_Time_Main  Review Score  Year  Publishers  \\\n",
       "0  Educational      True            3.93            80  2007    Nintendo   \n",
       "1       Action      True             9.0            94  2007   Microsoft   \n",
       "2       Action      True             7.0            94  2007  Activision   \n",
       "3       Action      True            15.0            97  2007    Nintendo   \n",
       "4       Action      True            6.87            72  2007    Nintendo   \n",
       "\n",
       "   is_selected  \n",
       "0        False  \n",
       "1        False  \n",
       "2        False  \n",
       "3        False  \n",
       "4        False  "
      ]
     },
     "execution_count": 16,
     "metadata": {},
     "output_type": "execute_result"
    }
   ],
   "source": [
    "df_task_2b.head()"
   ]
  },
  {
   "cell_type": "markdown",
   "id": "8a92b8a9-c3a8-4a57-be3b-c9cdc977092c",
   "metadata": {
    "__GENERATED_DATAFRAMES__": "{\"nodeDataframes\":{},\"graphDataframes\":null}",
    "show_aggregate_original": "false",
    "trrack_graph": "ᯡ࠽䈌ʀ匦㢠⹰ೠ⬠沈֭⠸恍ff9昽䁮ۦ࠰汬നڀপ㈏䣹厠㬦ተ¶⡨⇱㌀ᅁ╶庳ୖ⹜簧ଭࠣ℠Έ橦औ䁅ШNႦ〡岁䏼ℭ㞁摞+㢱䨠Ԋ牠Έƕ٦枓቙ჿਸ旑䅠Ȅ恨戬പᎭె䝁净儬Ö᡻⌸䐱䘩׍宨⇓ࡱ䍲ච᫲壬จ䙤Ɲڣ圖⍞ᛡ৽ण䃔戋㘠传ϊ揿振䘌汣䓼㹮䘫㈨ቺ⩯↧ᄨXഉ⠅ㅖࢢ侸⇄僡ಖࡢҁ氣С宍劄倶䢡⍤㲂̤㚗٩䄀硂಩⍰琦ᦪ悑屾ᾨႨ㺜*瘪䋇޶⋤ᓘ犠䭳঺᥇⏰ᅠ  "
   },
   "source": [
    "## Task 3: Data Wrangling"
   ]
  },
  {
   "cell_type": "markdown",
   "id": "9da80393-7f4b-4115-a4d1-5b7978e11358",
   "metadata": {
    "__GENERATED_DATAFRAMES__": "{\"nodeDataframes\":{},\"graphDataframes\":null}",
    "show_aggregate_original": "false",
    "trrack_graph": "ᯡ࠽䈌ʀ匦㢠⹰â䂬ƀᶷ琶䁋c<搔怳ଚ䠳亡䈤㉕⁖ì⺇⊨攩ᐠ▨戰㑹㧒妰囇⃹喧㝞Ţ∠桠ûு䁔䈠ॢȠந㺸ᢀ盅⻿夣•晀樠Ԃ牠Έƕ稦❳ሪὦ䰼⇑䅠Ȅ恨㙎⌯᪴䶹䈁ℓ琡㙐ᮂ⢨᢬थ⧓ࡢ㌰ሚ璋U䳘䠵欯Т縔絭Sㄭۡ۹ण䉔悊㘠传ϒ橷挣⌏ⱡ䕼庮打㈨ɼ榨慢䃂॑瑐繦┭ڼ㾬⎂厃焸牘榥ᄨ䦯ඦ嘔㗆溄⒀擒摖≦၀ⶃ㧄మޢᄴ䩍རへ∦䯧焤愷䍠Žƀ夅შ㤙༾′⪂㵩掳婊⢄  "
   },
   "source": [
    "### Task 3a: Creating and assigning `'Length'` category"
   ]
  },
  {
   "cell_type": "markdown",
   "id": "402412ae-3b84-4fec-9c01-94dd203a7b1f",
   "metadata": {
    "__GENERATED_DATAFRAMES__": "{\"nodeDataframes\":{},\"graphDataframes\":null}",
    "show_aggregate_original": "false",
    "trrack_graph": "ᯡ࠽䈌ʀ匦㢠⹰â䂬ƀᶷ琶䁋c<搔怳ଚ䠳亡䈤㉕⁖ì⺇⊨攩ᐠ▨戰㑹㧒妰囇⃹喧㝞Ţ∠桠ûு䁔䈠ॢȠந㺸ᢀ盅⻿夣•晀樠Ԃ牠Έƕ稦❳ሪὦ䰼⇑䅠Ȅ恨㙎⌯᪴䶹䈁ℓ琡㙐ᮂ⢨᢬थ⧓ࡢ㌰ሚ璋U䳘䠵欯Т縔絭Sㄭۡ۹ण䉔悊㘠传ϒ橷挣⌏ⱡ䕼庮打㈨ɼ榨慢䃂॑瑐繦┭ڼ㾬⎂厃焸牘榥ᄨ䦯ඦ嘔㗆溄⒀擒摖≦၀ⶃ㧄మޢᄴ䩍རへ∦䯧焤愷䍠Žƀ夅შ㤙༾′⪂㵩掳婊⢄  "
   },
   "source": [
    "Next, we'll introduce a new categorical variable named `Length` into our dataset. This addition aims to classify each game into one of `Short`, `Average` and `Long` based on `Comp_Time_Main` value."
   ]
  },
  {
   "cell_type": "markdown",
   "id": "86d54d80-ef52-4630-bffb-1e04d9320384",
   "metadata": {},
   "source": [
    "#### **Instructions**\n",
    "1. **Define Length Categories:**\n",
    "    - The `Comp_Time_Main` column represents the median completion time for the main story of the game.\n",
    "    - Based on median completion time, create a new category called `Length`.\n",
    "    - Add three options for this category -- `Short`, `Average`, `Long`.\n",
    "2. **Interactive Assignment:**\n",
    "    - Use Persist's interactive features to select games and assign it to one of the `Length` values (Short, Average, Long).\n",
    "    - You should use the following ranges for assigning proper categories:\n",
    "        - `Short`: 0 - 20 hours\n",
    "    \t- `Average`: 21 - 40 hours,\n",
    "    \t- `Long`: more than 40 hours\n",
    "3. **Verify the Output:**\n",
    "    - Print the head of the generated dataframe to verify the changes."
   ]
  },
  {
   "cell_type": "code",
   "execution_count": 17,
   "id": "b59fb23c-da53-489f-9520-918d789978eb",
   "metadata": {
    "__GENERATED_DATAFRAMES__": "ᯡࠩ䃬࿀ᜤᠹ悋ᐬ推̅ሣ䧠ⶠ卍捯ᥔᠣ℠▢dʘϔᝠ捌〤瀵摠៨⠠ ",
    "__has_persist_output": true,
    "trrack_graph": "ᯡ࠽䈌ʀ匦㢠⹰ڀଠᰣダ嘢౐୥̠䳙୷¼¬䠋ୂϓ矦䰠ᠤㇵ૷䴲⠠䭈⑁槑爱ᝉ⵾凓ᬮ⺜ʤ䐡傠Ǘ揃′䈤7࢝ᠠ湐憎Ⴄ姗㈠ᣠˬ⃪$皒‣㑠ì幆ൗἬ䑭໢匫炨甘ᒎᄬາ᫧⍂㌀ヰ摀}㺡凴播柶碧燌ばᠲ឵䷭日牤㈚擜ⲝM䘺澪ᄧ憢ↇ嚂ࢎ戸㫄ݥ〦婯炢簁䪠⿞䤕㊯䜖塂㟖灋ᢙ疠ᏠĊ箓磣㴖侤ف㣜ݞچ⁠ऴ䔦磰漴ౄ䒨爴͢冐嘪Ʋ憎Ⓓʥ㈈湋व惰㴨Ȗ糄暬૵㳮暞䴵䘂䓒⋣⃲ಶ⎳搪⊩♰品᡻䛯≙Ⓩʱ狰瓆ⶵ昒䋑┥ᗪ⼱䊄䉠@䨥 Ҁఠޑᯜ䙠ກĥ漳‮†於宕䰆㫜㫈ᰓ娽瞷䠀֢僆戡䇐潋஢悀∾ᤰ拰㡮↠৙憹ဓ䞐ᮋշ楞⏓䬆䥐ᰡ౥၈䱪䓡䁸癇ϧ焤愨㋳㕚ා⿴ඦ㐭Ƣೆᦼ攬ⶶ嚺懒渔嶤ᱮ䞥惒׎寝檗椀ब%ࣀ⢟侕ՠႝ搠˙䃷槳㺚ᦏ៧焢䯶ᾬࢧ䋀Ȥ籲ф籦ᯥ㱅嗅硲'僲䡄΢̮窞᭭叺䝤|䁘ט停ف濦ט塆ఈ摕ը㥶ᮐఫᇐᨢ䥰宪ɐ汻拂粻Ǳ఩䗰帻܈届⅐䤪֚㡗㯮㿥Ԝᅍ憩⼮Θ⁍ئⱉ傉惭揚〳棡晻㈜hࢢ欼惠ᐪ⃨櫾⇶┶䁐⛥墈盻↖䷶兘䡷䊎棫˦磱ᭆ哽ᦑ⠻᮰㳷6簨宪䤭急⃁᥆簥ᥰ烓ᩥ⨧ᣥ㣈壴挾凘⍴殺⭨ی疥栠敿ċⲇ⊋Ⱘඋ㒷⟄ಿ⾁Ჟ␃㒰瀂Ȱ䃘䁒֡確໢㣼ʢ⊔䚣㡭⣣梦฀抎١䪜෕ぼ౹㽒恕╘䂲料⯫ᔡ⛋խ⩋㬦⯹㨾䟰ف䆣捚ᤰ❹佐朻ݛ噻泚垃䴚⺍晀湛䄒ᜰ࢚恳溙戙䔚ẝĘ㇍䌘店歩岏氘⤟槐ᒰf湂ᴥⓛ佚悵ᛆ擊ᜃ⪹Ꭴ䁀ᩇ൏౥榺嘢愖㈮䧙ᕀ᫆呄⧊ㄥ秺㩧䣄ᄪ妰R≈ّ桪ल䥅嶩墺ࣖ硂ס䡒଻ॼ˗㲌ᲆ粟䠫ķইⳗஅ摺检ᮇᛂ孭Ǹ瑁ᢁ橨♢㝩嵖曂བᛊ˖⡢ಁ࡭埔盥⿖໤啂⎺͗煸瓔Ꮥ岾名寖㎽≷疒嚊ⴳ≍䀷₉᱀侢洸˵媮冥͎刉㵾唻窪溤恬᰹ᨱ帻䜈䉚痌ۧ禂೗㛳㖢䝄恓墘昔偾㷒䭑典勘暶䋌帀㍌枷⋀塵Ủ⟹廡樕ゞ䦡绉樢Ƶ䍆ㆽ䟸䎡ػ䔬㮭ఠ⤸伹灾ϥ<㛸沃㳀᢭磪࠰䩣বফ2獜ᓆᠦ˴潍ቴ䗄嶃ׇ戫୔縶熠㜁滲枢⁰䌨䒤䢨Ʊ㢶⮑㎐嘦₈ૠ榬䅸՛㡛ↅ᪃爸͠∡㚡Ⅱ帠䂤ቡ九婛ᦱ㭋ᇒ⫩瘪ཹ䨷涻ᵡ嬶䊖ࢢ祰牠䢩岓撍就㴸ᭀ埈描✗㽌⟠帏᫜涽ኸ∌㇧ៜ㧏ഠ澂đḅᩞᷣ㪴唭ᣱ段⥰紂疕䗔⼎檃慝緿┧埰䞽ᄭᔓّ在ဪᲺ斡୴⌃ڠ焨炸⧓႞䕤ਫ怰□啛悖䤉࿙ㄇᓳ枈瑎礊婩懔孽ᳳ䄊ᾫ氖㯲ຌ؀ᨫ悭ȡ匿症ঁǕР塖ĕ旦〳ۛ伬伨硱嘧凒уሬ䍴ஜ琱粸᫰ⓧ䎐㮻烋ܰ䒰烸ᝁↈ湔ᕁ⺽ኸⰄࡱ׫Ύ䅅㓂俯⧾p䛴⋪ᜢሺÆ≣偌ҺದᲙǜ壗ł˧咉䭛ֶ椗㗱᫯冮⣸续擬⡚Ɐ䥀ᨤ湪䲺᪶惔ó琱ᢈׄ㍛⚔睭瓟ࣉథ⦜坳ˉ剥㗆ᐧ❖Ⓢ恊珴ঊ〷仰⚠Ƥဲㅞ#琠լ⇆ᓴL张䄩倠՗˕㭱㒠Ӆ栳ⓒܦᄕ杵⩤ႽⲢ嵩凌眧㪢䠹㜧Ú垑䍴剃ɀけᏂ㨄♖≺Ⱟ䣆愃ᱱ㘈咶拗ǰ㞢恞䥚૧ㄫ擝乄ጲే岖禘瑯澎࿄⠊窨Xὸㅸᖠ卦ƟQ泟焦綴Ƌ䄒圴牀ℹ⁵摠簭峤ಜᗷ䙯ᨠᡈ䳾㬤㺙᭐矬䰨ʐ瘰ᘼ汅ߊ૸㘶䢦֫⫕䛺䞭争ג捭⑓䐁╺㼭抋ⷢ⫋ᇨ㐥䂒䆱⎥䅫℈砭兹෠䌜ੲ对愨刪储橭⋵⵬˺緈⹦䅹'⌚加঱qⰺ᎐ᮀ絿啺㨿䌨㈨⍋ᱨ挮ᣨѵ䉦Į碏ᱷ汣庌䏐☡砺ヰ焹捻⤤ȹ玎ဆ剌碬㚦愴?ౠ⬷䃀ῌҘ㕠嵔䩀Ʀ曒母⻴䅐森㱨/ឦ漗ʁᵚて㭧绐ᬰ俣ⴞ副㕁㳗ݐ㮀縐ะ愠䚈᢮抸珯Ժ刊䌨烻偌㛦⋗偑㮭⚦ɴ㧧ᱫ沥⑜㪿嬤琨ᄏย籉埾伭⮓េ摄୞čᓜ敽䝦摝ᑙ࿕⢃ဖ睎㇡清╷ŗՔ栺㓠ډ䑌槭㢨੩Ҽ䗚泀纀┨ʭ磼䶮ˀ泲䓓㾺ஜ䢶法㖜◵㒿檳᫣獗䏡娺ị櫼纬㴍澗Ẕ䛞嚭⥜緖ɳ⍩᩠ቈ⃆毦⧐⼦摬ң℉ௌ୥Șᙵ 㑶爒䠾⻉磏昕ᕠ䋙創㱷善℔曊㐾枈⻳浫ၚ磈㩖㊐䞌爌䉐᳉楡᧻ڷ佛ᝆʷ‼坶᧎䏭㹖䁆俥䇒⨓硝端⥬擬ˡ㜥䄤⮠塋愒皦秵䚆啎㣦⳰₹ㄈ⤝羼十ཏଇ箵慿㠺༐ℸᵲᦫ绵⏣㞷ጇ犁ハ繢ᛡ⏹ᨦᵗ䅌୨ǎ⦃䟲殬㟞徜懞䮴᨝塉㮆㎦ᚈⷍ桟㭽嵥夽䖲ᦗᦎ睦眫展ܴ偤偙声✶䘡ી׉拜㒍㤻䃢⁢敹㓀ᴠ㖳ኖᛓ▵价登洬㯎峉䘧➱呋ౠⰩ岠耑㰤༢㰾ᠷལ眥䐘㹔⒝ᖓ簮Ⱙ㾴Ⱦ埲⏏摣䏚g⒜⫺圀枛癎磶䴖༁䏌㫨䏛㈩痾夀璏澾燶破᫃䞛ㄒ㻩稷䁭Ώ䚭Pɥ㱣刿䃜Ѭ㥠ᄴ໢դ⋰嚬኱۶ャᇳ看㟉Ӻ攫㙀ㆻẋ曰媧ㅍㇸ䧹璄灹Ⱃط䙋ፀㄋ㙡伟抇┈䁸牻䜡ݘ⹹೼瓜㌊漾版ሷ㲱糰䲥㞙㵸཭稥疯⍒旬湪煷૙僻䂖狷ᢙ㣢Ỹƿ⯘෦窾玢৙旡⸺൷᪛⫧灓◰笹勠憭劯㘊繼慒璃㪤ⷬ溡矐刡䘮渣ګᇐ珶ᔎષࢺⱗ憒ⓗ᫛史Ⴄ㙺ϛ䉉湄㖀ᑧᑄ⛾瘗㿙无ᅅ璐䜓᱇⸱珷ধ⏬憪㎯Ჰ緧缎㈐嶤䯧⇅໷㢘磫勹য⹧揱ữ煯ᚧ司ᄾጨ礸㉒ᅵऐ䟚橜漕࠸痸䄱ᆡౠ㉦剜ㄱ૤ཤ橁Ɀ噏ည愬䫌Ӷㄥㄮ䃠㟀โ磸桴͠㙡ᄻ࢜Јយ᫧幺᎖㾙沫氦ኒघ䱠᰾⃑┘㥱y࿰థ恋㚨๠䂪㢨洈࣠☧儺勘೵㓊ⅅw暤䂲慕Ĩ䶱ቅ皥क़൅ㅚ఺屚域⧂ᙙṗ㒕ࢋ㮬み矨耘嵵盌Ġ忀⬼ȑ嘛ഓ䩿為䏀࠺ሿ㴛擤㣢䶰䂩Ӷ①䑮䀽版ṃ灀㓛灿㼙䇰繋犧ਘ㟢繻甏ᴦ㭱䇝嘃ઊ⣽䅟攽ぐ᜻レ瘀湻硖㪢࡜᝚冴⇜眰䃚⑍ɻ堓Ქ睡↊㋝㑥㱓䋑໐徦嗨冧ౠ຦⤬冽ࣾ૩㥺ㆁ䮸撇晕Ӫ痐竚堥ᆢᄈ殦⏽ᥙ༬檧ᩛᨐࠐ娸婰䛑⍨䓦⣤䙛ഐ暅告ᨑୗ୥捅䚧㓸擥♟ờ࣌幦ᩉ癞ඬ漪᱑᧥䷷ᮆ晏ㇵ䢈濉ᩔ滝丁ʅୟ⇚畬挆௴䓾痄䰙ֺ㧌柌掆݅姣䴬禅晘禯狛ᵇᙓ㤷䱃ć㏨㦙珜椅晛竜ᄠ⸢㔯䁸䱨ᤠ㖻䢑Ӏؠ⛱ဴ䕍ッ暢沽獱ᔐ㑪䫍㗅Ę繑䩦ᔿ⁇竽䫅⃠㾲ᄷB䯥ᄣ䕍䓴ʴ呛䠤䀰⡴勆⚻糰䉓Ⴤ⣔⧴⪠Ӆ棟㹒䪂糆ਵ䕊仟⧻仦䥯䩯⨅ᵰŬ䢭ϸ❏纬㊕㰛㮼᩼䱉ಋ⓲Ģ䲬ㅣ愠㫬✐Ẑᩫ勤߀ᜡ摱ກᅍ⑳⩼媧操ᒢㅛन෤唡慍Ƥ乤瘥兎㈬ঞᧅඤ㤋ᓹ㬶羶槀戀凩ᵍ亇ᗜ̈䑎ɾ䠡ҥ硊⅂疙ခ͌䱁䩰怇ᝋᥖุ櫧቟偵⻊䵴䑠祊ൊ璄噄弁埊䱦㭚天ཛྷ信࣪㒔⌜丄罈嗛ੋ⍷㭊湖煨䣣⽚ዦ़䣵㷾Ọ䪼䷛稭喃䩺䪴ਖ਼喑䳊䵷盔㄀侺箇ᝑ禸㖲僧㫇倱㐊䳶孌姥⩋᧵Ῡ㇉璺昣竑湗䮺瀄ᛈ庲㑈ᦋ暺䁴ࠍ♉㣣࢜⁀Შ倻ᩗٺפ摵焸⸏⟤㶣噣琘䮰ŏ嚌儤楲⩂㓗б៲摬數焣ᓲ䶮䁖⭀ᶷ徫ᡮ⥻ᆹೄ䷆⽒盹⧚斩䏆玘᧑斱ݍҷ甠櫕ɘূ祐Ⱘěò◟▅ᒬ㥣爯კ✐¢棟Ýդ㎃Ჶ೜Ǻቇ堹数Ⅷ㉳䣒䖂䰂洶ذ▬⮴䬵根⦓ٔ糨䋉㊙惾ഡⵁざ䲇㷅拚㫰枇㧩嵘ℾ䭪䈫秡Ȼ嘷㏪摌⹘ᑰ寛ུ笍⺈岹ཤ窧䯈樲块縥࣮䄨叛ᵋ䥜䪚௃᧫䠢櫑㟷偷摬ᤁㄫᒜ⒀ᘢᔷာ䅠ጳ儼傤䙦獸㹍囿ࢅ᝻㇗囌傿࢒䅍㊻䉶摠嗅䂊淘拁㗖׹劑ⷣ痗䘥ߠ㦈ㅌ䃪槞ጔ㗕㵚棾曰෇㵢棄丘䀮纚嚲秶ٞ䨌侊゠奋㘟灲尗稻▀௲罄ᗂ၈໠ᑛᲧ䃠㍶痦〲䂮瀍ణÌ偈֢櫄⬵䵆⭆䝖⧊敔樆絔᳋劢横琓㭱㉣Ψ㥢栻深Ⱆ匀ϕ乡橪搫嵚牷䐇㸀絋ᖞ䦰棚睼⹩澳Ͷ㭍܊㌠⚹␻⚦㟳㒢೪₅毣ᖹᘶ朖〬恺㦹暡Ð⠔哪㳾㊰⾸᳭⏻ɷ⡸࣭I෶᷵ㄾᚩ㗗⢘屃ᙉ囫ୀ⦠嘯倈䲷ῒ有猫⺣Т掿⽨丆堷ᛎḳ۷橙㕁ճᶭ瑁掦඀ᾯ稴Ꮯ⥚养⯓碢ɱ℣ᯩၢŤᨣ㖰泜Τበ䕆䁜䁺㽠匿帏໅ᩕ楰㻟અླྀ奼㻠䪾楲砯搰䠱⠯Ꮏ0ᫀᐮ儦̹π㰮႞煈῾喁䂑䁣ᡤ⋆䚋甃Ჹ椣⚑ґ៴㸕渡繯涚粶忌ᩔĞ嬆❈ᨬ䴭៱翖ⴠ᲋⊋䚩䂤矂ム䠤䣣᭾ⰵ懣ႇ琪ᱣЯ傧→槔䀮㴫楮㫔墴縋櫨✖⿈淤὇᤬匮䐴̖浙㙺榼༽㜤地犡栰䢖ᆥ䍜璮䜯⏀磼ᢓʗ睰喎璚燘㫌啷Ⱡ㉹抜兜㕂䏵绛愻䴊暥彇炅уխፄ妵๚匆䛙䮞ࡷ⭍攸䛁࠺唻囃奵䣰䓷叢ᛜ㐩玆曍⯇⳺秮哀Ẉㄵ壏杂冦媚燏珃晛⸁㭏䖑揼媵䦗ộ秇佊䭴〩⭭䫸䷎ᛁㆾᶚ揎妧⯳⥵埰绘㖉’٭峉࣋កكⶱ廴Ӡ㠻縱䂋ሸ⟲堺ᢓ͢捸凐㷸⸾杻߬㶍ᨤ䃹⟿ⶻ䚙瞢庖堿ᡤ៭Ⲥ洙֦妵砰∣چ佐広ᒍ壘柮ሻ珽尙徎Ɛ㯢櫄䐖൴᭏䪎㏉滩◿煕䅥ᵭ`൙咉溛眒瀛ⱓ倿婆柘敃接᪎ᇤⅡ磃Ⳅ޴昢傍斝᣾îᚄ㎅չ尮ஊ㏨ᴓ⥘䢂伄Ἁ圹债䏞欀翗熅亜౪崉њ́槙㟆⦑狑瀔粕碑Ḕ嵐粌ⱖ⯽䦬娻䲞掼娹ႏः⭭⨵炙綒毛仕位ए䭶࠵糌淧⭹猚櫍多⭬寃磷䎇烼ǃ刅涝㦥ཷጼ睞ᎎళ䟏│獶གྷ曘嶐憲嵩傽悳欷⯣࿍捈䙄㋑僴ᦗ䭙殷㲮彛↲㿸撻娼偃ƨᜱᢸ㏬⌻޿⌤㢙̻㙢噶厺៉儕瑪學溅ᤙ殘䗞⇑㺡侐≢׏㘏ᚶ箭埝䂠ᚸ桨䰉儏嶶焇幫嘎摭ែძ嬡㌉篙㶝䌎濪◫塙欍ᵸ琗㋽緍哑檛峲瀖྇䨗ᴬᐧ䩡拑⒖粢ʯ䕴¹籆нთÂ惡䜱⧴Ν抱․㮏ὤ㤌㮒㭽帙澌ƀ㮧↖灶䢉䇋ᕬ嬦ㆊᕐ㷥尿䆾ᕭ岁爾䏕ߌᬰ䙶㢉槹⮮漭狟䌤㻈笼⍄䝙䰵櫴┙❊༼県ᶁ⮋⪧䢺᎝沾ዤ漺ᠯ㓨จแᢥ嶻√₫湛᫖慍瞘䌋տ༫晔媀䗘沾惺粭ᦊ柗᣼≱࠭ᚻ槒朑䁪ᛶ᳃砽y朰ᆸ䜂䖹·擾ક䁓㾀ཛྷᜟ俫㹛丗扠梐ќⷁᮻ呾䊕ⓓ㜽櫁咶绊㓦³ڶ栤ڻቡ䅝磳倯卡⃨㜢挻ດ浤ஏ࠺沄䆠翠槐㏋㺰ⅽጒ簈Ջ崳䬃㲹㲝乼徜䤽喖姾筹⬚櫛摷槷㋐㯁簾ᵉ睤幪楎㵜䮹⼛界͖䯡俯㆔呄嚅ニث㉂徉溩嶝㏅ↂコ᎞参፴ₓ簰幽ả☎ᘳ㰙༫Յມ䳗ၐം᪃ऴ沣Ǥሤ䑣䄛擶崲்揫䰥ࢭ⽿笰۟ᒵⓒลᚰࠇ⑀˷弋Ŷ纭⛼㘲䨍爄簏㩕᪏؟༾筯殚㵎瓌ᷝ挡潮礼׾డ布้ႄ偭䛍ᑙ刵ⶶ潬ȍ烘䀡ᅱ墬Ḿ箠ḏᐢ➁泡坻᳷ㆉᑔ旁亁毅替榦䯷ೕ綖ỰΟ墐ᗥˆⰀḇ乊⃗ૼ௝ቡ撡ᱴ䁌¤å࿾冚娄䱛ṳ㭫旯ⳝ玓珩㝡㲱㕔䢐ᅰ䜢͔๘姺↿Ͻӑ㩸䬴哰玁䌮痱⦉崯ۙ⯨⁵㦝丑঳㾎糊慏ఌࠩࠀ㣀ણ᪲ѹـ磇ᬳ࡮RӺሺ砃娡㽂剐Ì䛟㡭湗ଽṰƐ༨ᓮ㹙ʅ⍎䁉䐚斃ഹ婖䓳へ䳔爃ᅆ繐岍徰⇫䫗梤ᖣደ㨰Ⴅᡪ喷ᕬ儻䒆灄䙎㍨懃ᆹ愭棩⎝ℌ柰ღ❒撀ଲ↾㌘߃ᮠٕ⣡嘳ൖkឮù݋࡮囪少昔ත紣磳❋ⷲຑ䕆糐爴⬵㼅㉵䯿⫥傡㠮嚟戏獍呎ૹ⨌槞੘桯⇳͜㴦ᡪၧ㖩₀⌂☤礢恭偌α䖨๽尨⾬⢁㳄׀∁ᲡḺ䰩♫懜Ỡ柢尩灂做崭׿䍾፠〄甽Ьრ࿏㞑ܕᨸ潳㴚牉ᔞ殛䩭䐪擶揶׽ཀྵ夂㯾剎䡳䞾䪈沢ឯࡇ㱀媝䬠瀢耐⁔≠ΰठⴡ⾚※瞩滀㣂淦㼨ᣑ⟣䅔紎煰₶ظ琌憸㬏㯅➒៼ㇶ䡦䭜ᴉㅐ⏞㦨㘳⾫攍碷⦁֔✕ᡂ奜䎭࿏叞♢ሁⳅ䆑䰗湜ᗝ㘬䦯䒙瓵咑඄⤲ᔢ楕ᬘ˨䂝㿠㚤୻㑭↪॰厞傧㠏җ‧䈿樘㈜ຨ伴ਡ煏煩Ე䍢宮渳ႧЯⲐ敜ᣳᱍ罺沨埦埨灨䀤⑳ࣻ≰٨晉ᘇᗶ൥疉࣠ằ䒓య䮥㆐煶ᩨ斘疬剑墺⎻ƌ⇤㛥ൌ埖Ǵ䩕挕㍼瀁倴ᩞ䂨঳䘌盃K䒎䩴ќ摗⒁̠ᘻᝤ懆炀ॺؠҦ␪㤗঑䖜அ夣篠चʡຏб垥報碇Ǹ͢ᵀ寕摓ካ㵥ͅ๰〤䴚ἂ㥐㫙硊ᙫ㬭ؕ⩇ᔽ樞矣䭱ጋ䰳㑼抖䘡❍㏂縔⨶ၭ冨Ѱ᮰漣䠂䴣䓙Φ䋻ἠၰѝ憕綍ㄨ㖂イ垊㳘⃣ȱ侸ᖬ傐漡奈䐕㛠ᅁ墘哢䡳䊫խܸ⺠┰狹᤺$暸䪩羳䴷濁⇒㉱ᛐ炽兑磢働ᠲ犱圤㪥撏⊙㪭޺೰䪭㈳⣲窍ፚข╩䛒稲_⇦☬ᆎ⡸䱩ㅚᬪ↔ނ⬒棹〯ୈ䦉ҏཐ筤ⲗ⑚䘼头䥈㶁勒㘲䉭ⲛԤྲྀຂ畐叹罼ᕧ劫傪㲊㪋牗ᙠ⡏一ἂᤦ䯰碣疯จ԰硣䯩⽉႔䝻䵊༃㥨欿㢢叜咖䍀ዅ伾⪅煵▀ᣛử࿶乎╎嶮ぼ㥪ୄ怬屩傏㇎ᶀ彅ᮨᥢ၎ă͹Հ梡䉪ۗÛ㊮ʨ⥁䈠ုg㖒䰗勑ቤ欻汥ᄭ䝲Ცᄃⶬ㉃礘綄୅ೀ⡛⼊侸生䑚␤珄⁯䩍瞐ኔషᣞ屚悹咎亦䚣捹ẅ嫐䖮㥠卫ផ䡦ᅙ䈅喥⨱㊮ߋ₌䡪᫲ፎ䎬熼刹ՙ⤃厼㚚㥩戻፽廐㇭ㆄ㋃㚸㜒䊄䯌῀䐳㮍àᣠ⼔⨹ᝧ㓪ɀᡠጣ䣬ᄰ⣡㪁┟⍭䥮囵ᓚ㳎ࢍ傺秆ا≛態᎒߰㫲䢲ါ㔊Ò̷徉楳▸婼奋␮擌曲㨡浃ⴋᆁ൷嵾䶘匴甸ᔚ⏂Ỵ♂⚦扌澎┑ಔ㍨ᧅ摠棕★႘即䕭Ṍ咫捊丼✉じ匪帹⃟䓝ᬵ′樬絓乐ᐓ炢╱㴧㄀ぬ०٢࠯ᆕ⚩橂ᓝ⎉T⸹䜙䭉㑼挆䜷៱㣐ᘮ汊惫㴧睦㵆㬦喥㹑壠⮵沪଑દભ碵㎚ļࢱ㪉ئ౹䈔披୤咂ᛨΌ䱖ンবㅑ⮚璢䱷䁷箿渪ᆱ桵晑ᔁ㉧唶㗆棘䬱䩰∲㪎аᖠᖢ╏㳨尯䭪⯐⚡漤ࡈ᛺曫ᭈồ૭ᬣ㒵㊭佶⾉歁两  "
   },
   "outputs": [
    {
     "data": {
      "application/vnd.jupyter.widget-view+json": {
       "model_id": "0dd3767e5d1b4088bb49d45bd90df343",
       "version_major": 2,
       "version_minor": 0
      },
      "text/plain": [
       "PersistWidget(data_values=[{'__id_column': '1', 'Title': 'Wii Fit', 'Max Players': 1, 'Multiplatform': True, '…"
      ]
     },
     "execution_count": 17,
     "metadata": {},
     "output_type": "execute_result"
    }
   ],
   "source": [
    "PR.plot.scatterplot(df_task_2b, \"Comp_Time_Main:Q\", \"Review Score:Q\", df_name=\"df_task_3a\")"
   ]
  },
  {
   "cell_type": "code",
   "execution_count": 18,
   "id": "ce12290c-757c-4ba8-a879-8310a0fcb90a",
   "metadata": {},
   "outputs": [
    {
     "data": {
      "text/html": [
       "<div>\n",
       "<style scoped>\n",
       "    .dataframe tbody tr th:only-of-type {\n",
       "        vertical-align: middle;\n",
       "    }\n",
       "\n",
       "    .dataframe tbody tr th {\n",
       "        vertical-align: top;\n",
       "    }\n",
       "\n",
       "    .dataframe thead th {\n",
       "        text-align: right;\n",
       "    }\n",
       "</style>\n",
       "<table border=\"1\" class=\"dataframe\">\n",
       "  <thead>\n",
       "    <tr style=\"text-align: right;\">\n",
       "      <th></th>\n",
       "      <th>Length</th>\n",
       "      <th>Title</th>\n",
       "      <th>Max Players</th>\n",
       "      <th>Multiplatform</th>\n",
       "      <th>Online</th>\n",
       "      <th>Genres</th>\n",
       "      <th>Licensed</th>\n",
       "      <th>Comp_Time_Main</th>\n",
       "      <th>Review Score</th>\n",
       "      <th>Year</th>\n",
       "      <th>Publishers</th>\n",
       "      <th>is_selected</th>\n",
       "    </tr>\n",
       "  </thead>\n",
       "  <tbody>\n",
       "    <tr>\n",
       "      <th>0</th>\n",
       "      <td>Short</td>\n",
       "      <td>Wii Fit</td>\n",
       "      <td>1</td>\n",
       "      <td>True</td>\n",
       "      <td>True</td>\n",
       "      <td>Educational</td>\n",
       "      <td>True</td>\n",
       "      <td>3.93</td>\n",
       "      <td>80</td>\n",
       "      <td>2007</td>\n",
       "      <td>Nintendo</td>\n",
       "      <td>False</td>\n",
       "    </tr>\n",
       "    <tr>\n",
       "      <th>1</th>\n",
       "      <td>Short</td>\n",
       "      <td>Halo 3</td>\n",
       "      <td>4</td>\n",
       "      <td>True</td>\n",
       "      <td>True</td>\n",
       "      <td>Action</td>\n",
       "      <td>True</td>\n",
       "      <td>9.0</td>\n",
       "      <td>94</td>\n",
       "      <td>2007</td>\n",
       "      <td>Microsoft</td>\n",
       "      <td>False</td>\n",
       "    </tr>\n",
       "    <tr>\n",
       "      <th>2</th>\n",
       "      <td>Short</td>\n",
       "      <td>Call of Duty 4: Modern Warfare</td>\n",
       "      <td>4</td>\n",
       "      <td>True</td>\n",
       "      <td>True</td>\n",
       "      <td>Action</td>\n",
       "      <td>True</td>\n",
       "      <td>7.0</td>\n",
       "      <td>94</td>\n",
       "      <td>2007</td>\n",
       "      <td>Activision</td>\n",
       "      <td>False</td>\n",
       "    </tr>\n",
       "    <tr>\n",
       "      <th>3</th>\n",
       "      <td>Short</td>\n",
       "      <td>Super Mario Galaxy</td>\n",
       "      <td>2</td>\n",
       "      <td>True</td>\n",
       "      <td>True</td>\n",
       "      <td>Action</td>\n",
       "      <td>True</td>\n",
       "      <td>15.0</td>\n",
       "      <td>97</td>\n",
       "      <td>2007</td>\n",
       "      <td>Nintendo</td>\n",
       "      <td>False</td>\n",
       "    </tr>\n",
       "    <tr>\n",
       "      <th>4</th>\n",
       "      <td>Short</td>\n",
       "      <td>Mario Party DS</td>\n",
       "      <td>1</td>\n",
       "      <td>True</td>\n",
       "      <td>True</td>\n",
       "      <td>Action</td>\n",
       "      <td>True</td>\n",
       "      <td>6.87</td>\n",
       "      <td>72</td>\n",
       "      <td>2007</td>\n",
       "      <td>Nintendo</td>\n",
       "      <td>False</td>\n",
       "    </tr>\n",
       "  </tbody>\n",
       "</table>\n",
       "</div>"
      ],
      "text/plain": [
       "  Length                           Title  Max Players  Multiplatform  Online  \\\n",
       "0  Short                         Wii Fit            1           True    True   \n",
       "1  Short                          Halo 3            4           True    True   \n",
       "2  Short  Call of Duty 4: Modern Warfare            4           True    True   \n",
       "3  Short              Super Mario Galaxy            2           True    True   \n",
       "4  Short                  Mario Party DS            1           True    True   \n",
       "\n",
       "        Genres  Licensed  Comp_Time_Main  Review Score  Year  Publishers  \\\n",
       "0  Educational      True            3.93            80  2007    Nintendo   \n",
       "1       Action      True             9.0            94  2007   Microsoft   \n",
       "2       Action      True             7.0            94  2007  Activision   \n",
       "3       Action      True            15.0            97  2007    Nintendo   \n",
       "4       Action      True            6.87            72  2007    Nintendo   \n",
       "\n",
       "   is_selected  \n",
       "0        False  \n",
       "1        False  \n",
       "2        False  \n",
       "3        False  \n",
       "4        False  "
      ]
     },
     "execution_count": 18,
     "metadata": {},
     "output_type": "execute_result"
    }
   ],
   "source": [
    "df_task_3a.head()"
   ]
  },
  {
   "cell_type": "markdown",
   "id": "36e82a42-5f2f-44e1-b9a5-2e2d403b2ff3",
   "metadata": {},
   "source": [
    "## Task 3b: Finding Top Genre for each `Length`"
   ]
  },
  {
   "cell_type": "markdown",
   "id": "af40bad3-436e-426c-a02f-f205597e90b5",
   "metadata": {},
   "source": [
    "Now we will analyze which genre is most prevelant for games in each length category."
   ]
  },
  {
   "cell_type": "markdown",
   "id": "72455a32-623b-4b87-87d6-ca9c8ebf19e7",
   "metadata": {},
   "source": [
    "#### **Instructions**\n",
    "1. **Context:**\n",
    "    - We have a faceted bar chart. The `x` axis encodes the `Genres` column in the data and the columns encode the newly added category `Length`.\n",
    "2. **Analyze Genres:**\n",
    "    - Observe the bar charts to identify the top genre for the each length.\n",
    "    - You can hover on the bars to get the exact frequency.\n",
    "3. **Document Findings:**\n",
    "    - Note down the most common Genre for each length based on your interactive analysis in a new markdown cell."
   ]
  },
  {
   "cell_type": "code",
   "execution_count": 19,
   "id": "c45b6a61-ef0e-408a-bded-b1d1c1666e9c",
   "metadata": {
    "__GENERATED_DATAFRAMES__": "ᯡࠣ䅬Ԁ朤壠ᜣ琢〹夤゠⹰〮⁁䁻қ䚾ኊ㇠നСࠩ瀮晼Ƭ穅5愠៤⠠ ",
    "__has_persist_output": true,
    "trrack_graph": "ᯡ࠽䈌ʀ匦㢠⹰Ҁㆡఠヽᠶ䀳ଡ氻瀥䌠噉砨〬沞ᨉ⓬Ř忶冠㙄倡ᙰ䡣厅捠ⱬ劭ᵆᚌᴻ㬗爰͢&滦ὤ䁅ШNႚ〡岁䍼℮㖆携+झ⠠亮␠㚠ᝯ⿏㙒ↁ瓱Ȕ䬸ᐠṬҡ䅂憃⡐ì⸡⅁஠ǧ倥壢⸉䉀穐␭㋤℮䱣؈偌öଚ㾯⑔ါ珰ೖᤙᘨ༐䠼ᧆݹ〤砠ᶶ⻾ᡔྚ戤━珗傻ၠ戲⡔Ժਣŧ俥ᘱ⃙ᓴቦ㸪o侣攨䘩סⅨ㳕Š停㗆慇䓸⒨ɕ⋦ၟ䆆㥄䰮ޢᅨ爵ୠㆸⱋ໤炘㹀䈃†垟၌㣘剜㙠⑉䔅ಱ⟉ᨺ⡢ᤠ "
   },
   "outputs": [
    {
     "data": {
      "application/vnd.jupyter.widget-view+json": {
       "model_id": "cb40f1926ad04e90b68b6118c7258ba7",
       "version_major": 2,
       "version_minor": 0
      },
      "text/plain": [
       "PersistWidget(data_values=[{'__id_column': '1', 'Length': 'Short', 'Title': 'Wii Fit', 'Max Players': 1, 'Mult…"
      ]
     },
     "execution_count": 19,
     "metadata": {},
     "output_type": "execute_result"
    }
   ],
   "source": [
    "NEW_COLUMN = \"Length\"\n",
    "\n",
    "chart = alt.Chart(df_task_3a).mark_bar().encode(\n",
    "    x=\"Genres:N\",\n",
    "    y=\"count():Q\",\n",
    "    color=f\"{NEW_COLUMN}:N\",\n",
    "    column=f\"{NEW_COLUMN}:N\",\n",
    "    tooltip=\"count()\"\n",
    ")\n",
    "chart\n",
    "PR.PersistChart(chart)"
   ]
  },
  {
   "cell_type": "markdown",
   "id": "00e87acd-3759-49eb-9e43-d7793672297c",
   "metadata": {},
   "source": [
    "**Task 3b Notes:**\n",
    "\n",
    "- Top publisher for `Short` games: Action(385)\n",
    "- Top publisher for `Average` games: Action(26)\n",
    "- Top publisher for `Long` games: Role Playing RPG (9)"
   ]
  }
 ],
 "metadata": {
  "__CATEGORIES_META__": "{\"categories\":{\"Avlanche Season Phase\":{\"name\":\"Avlanche Season Phase\",\"options\":{\"_None\":{\"name\":\"None\"},\"Start\":{\"name\":\"Start\"},\"Middle\":{\"name\":\"Middle\"},\"End\":{\"name\":\"End\"}}}},\"activeCategoryName\":\"Avlanche Season Phase\"}",
  "__persist_keys_record": [
   "__GENERATED_DATAFRAMES__",
   "__persist_nb_uuid__",
   "trrack_graph",
   "show_aggregate_origin"
  ],
  "__persist_nb_uuid__": "7b5beae5-0630-4a0d-b2bc-a2ffca19358f",
  "kernelspec": {
   "display_name": "Python 3 (ipykernel)",
   "language": "python",
   "name": "python3"
  },
  "language_info": {
   "codemirror_mode": {
    "name": "ipython",
    "version": 3
   },
   "file_extension": ".py",
   "mimetype": "text/x-python",
   "name": "python",
   "nbconvert_exporter": "python",
   "pygments_lexer": "ipython3",
   "version": "3.8.16"
  }
 },
 "nbformat": 4,
 "nbformat_minor": 5
}
