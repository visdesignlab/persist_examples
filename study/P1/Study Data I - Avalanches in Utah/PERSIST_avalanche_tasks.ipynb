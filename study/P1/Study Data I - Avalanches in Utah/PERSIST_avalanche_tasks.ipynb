{
 "cells": [
  {
   "cell_type": "markdown",
   "id": "522fcbb3-702c-4ea0-91d9-f3b0e71690fc",
   "metadata": {
    "__GENERATED_DATAFRAMES__": "{\"nodeDataframes\":{},\"graphDataframes\":null}",
    "show_aggregate_original": "false",
    "trrack_graph": "ᯡ࠽䈌ʀ匦㢠⹰àᦴ΀࣪ʐ怶䦠挠᱊ࠥ䁁䂖㚥煤晬փ⊪ĸ暂䙠঳ैkᑄᄈ妐ଷᓋ⃩䖻Ṯ溜Φ䐡傠Ǒ団Қ′䈤7ࡣᠠ湐戎Ⴆ寐爤䀥屨攠ʕ㥀ǔÚ䍃㏙䤥ࢂ┩勸惀Ēいཆ༠೥∁∀秸㲅䌠ⶬᛦ䙂ǃɡ殍戰泤ᒁ嬦怭㋉匥穃ᄠ彣჻⴦䉫ぢ睤䄁ⵐۻG䀡曑砑䂱竖ᄂ㜿Ꭽ˹ȩᚱ凁兘㑐Ṣ༩Ẻ䳥⑆憰棨忞⍧攈堽Ī僰὆揖䦲ᡊ⛓౱নఱ姼ᤦΧ您別൧儸晋Ǣ熘繀䉁硨K塊়ṹᜰ倳䪂ⵦ⚈ᒽ᪺ᆬ䀠 "
   },
   "source": [
    "# Analyzing Utah Avalanche Data"
   ]
  },
  {
   "cell_type": "markdown",
   "id": "3abf1206-e99f-45b6-a92b-d971a2a8eb19",
   "metadata": {
    "trrack_graph": "ᯡ࠽䈌ʀ匦㢠⹰ૠܠ昢〽䂆౐׀ৣfL⍉ျ⥒⠡䒙¬ᧇ峕搢ಒ嫒┠অҤᵖ㹢晴㘉ᦳㄍ毿䡨墠ᨰV䆼ガ搢⡠䀢焨㌠෦ౝ戰殖๠ᠠ塩ೀn坄V䀷⢄㚗᥂夬ು䅻ఴ>☤䝃傳狱⊔㳜ੁ䀶挫㐷ࢢӡჵ嬩іㄪᢉ懐ͻ䬥䇽ࣨ䁏僿峱䐰㋸ᇻ兀㡆䱍㛠਀ⲛ粀೽疨һ䟩桁㙡Ũ昙ˢ䧮ᄪᆽ䥢ᅅᄁẩ㱸౮ᐶޣ先ఽЃⵖᥒ⌥▶懜ᩑƢ᭛䭄憐ɑ٦⦈䙓ǂ炘㸠䱅࢜ؠଌથ䜯๡䙉夊᜶僑汢㭢☈₁䠠 "
   },
   "source": [
    "**Participant ID:**  P1\n",
    "\n",
    "**Date / Time:**"
   ]
  },
  {
   "cell_type": "markdown",
   "id": "ceac0d48-2820-4532-bfd2-adf6533d7a2d",
   "metadata": {},
   "source": [
    "## Introduction\n",
    "Welcome to our data analysis study. For this part of the study, you'll be working with a dataset sourced from the [Utah Avalanche Center](https://utahavalanchecenter.org/). The data provides insights into [avalanche occurrences](https://utahavalanchecenter.org/avalanches) in Utah.\n"
   ]
  },
  {
   "cell_type": "markdown",
   "id": "68491102-96aa-4701-8134-d998c80ae04b",
   "metadata": {},
   "source": [
    "- You will use an extension called PersIst to complete **data cleanup and manipulation** tasks. \n",
    "- Interactive charts and tables have been pre-created for your convenience. These can be directly utilized by running the corresponding cells.\n",
    "- Focus on leveraging the interactive capabilities of Persist for your analysis.\n",
    "- Carefully follow the step-by-step instructions provided for each task.\n",
    "- In some cases, you will be asked to document your findings. Please do this in writing in a markdwon cell.\n",
    "- As you work through the tasks, take note of any interesting findings or challenges with the software or pandas that you may encounter, either by speaking your thoughts out loud or taking notes in a markdown cell.\n",
    "- Feel free to add new code and markdown cells in the notebook as necessary to complete the tasks, but please do attempt the tasks with the PersIst functionality."
   ]
  },
  {
   "cell_type": "code",
   "execution_count": 1,
   "id": "9337796b-21e8-4c8c-bbbd-3076a775d03b",
   "metadata": {},
   "outputs": [],
   "source": [
    "import helpers as h\n",
    "import pandas as pd\n",
    "\n",
    "import seaborn as sns\n",
    "import matplotlib.pyplot as plt\n",
    "import altair as alt\n",
    "\n",
    "import persist_ext as PR"
   ]
  },
  {
   "cell_type": "markdown",
   "id": "dd81aecd-eebf-4624-b9e2-3a864c474c1d",
   "metadata": {
    "__GENERATED_DATAFRAMES__": "{\"nodeDataframes\":{},\"graphDataframes\":null}",
    "show_aggregate_original": "false",
    "trrack_graph": "ᯡ࠽䈌ʀ匦㢠⹰Ҁ̡䘠烠嘢త〫‥侴ᓬᛞ拐ৡ䚂ద抭婈ހڅྯ䌲⠠䭈⑁槑焳Ⴥ⩦仃㍶๽㰥Ҩǁ#㟢䌰橠ኤРᜰ͐üメ湁˛㾄ָ̠憴)挄䀦栢琭ٮ㍄ᨡ䌤ᾣㆢ䀣擠䢤㘦Sᥧᡠ戂怡ᠬÖᠻ㹈䐿ة׉妨⃓ࢱ̴㖠᫲徤ฏѤƜڣ回㸦ۡ৵ण䃔戊㘠传ϊ緯挡䘌污䕽庮粓㈨ɪⷠ搃猄ᦨ洘㳌ᤪ̪౦繶ሱ澂䘣⁑Ҝഭ炍孉ृÅ⭱䤾ᢠ䆋෭ኀ㠢Ү≱呺Ấ惑汮ᮯ戩䊏̠˙Ɂ⧽憳㈒ṉⅱਊ⥋⃆瑀⣨  "
   },
   "source": [
    "## Data Description\n",
    "\n",
    "The table below describes the different columns in the dataset. Each row in the dataset represents a reported avalanche with details on location, trigger, and aspect. The data spans multiple years, starting from 2004 up to 2023.\n",
    "\n",
    "| Column          | Description                                                    |\n",
    "|-----------------|----------------------------------------------------------------|\n",
    "| Region          | Region in Utah where the avalanche occurred                    |\n",
    "| Month           | Month in which the avalanche was recorded                      |\n",
    "| Day             | Day on which the avalanche was recorded                        |\n",
    "| Year            | Year in which the avalanche was recorded                       |\n",
    "| Trigger         | Cause of the avalanche                                         |\n",
    "| Weak Layer      | Layer of snow that was weakest and likely to fail              |\n",
    "| Depth_inches    | Depth of the avalanche in inches                               |\n",
    "| Vertical_inches | Vertical distance covered by the avalanche in inches           |\n",
    "| Aspect          | Direction of the slope where the avalanche occurred            |\n",
    "| Elevation_feet  | Elevation of the location in feet                              |\n",
    "| Coordinates     | Approximate geographical coordinates of the avalanche location |\n",
    "| Comments 1      | Additional comments provided by the reporter                   |"
   ]
  },
  {
   "cell_type": "code",
   "execution_count": 2,
   "id": "8d0e426c-89a0-4813-8994-65ebba3f3a25",
   "metadata": {},
   "outputs": [
    {
     "data": {
      "text/html": [
       "<div>\n",
       "<style scoped>\n",
       "    .dataframe tbody tr th:only-of-type {\n",
       "        vertical-align: middle;\n",
       "    }\n",
       "\n",
       "    .dataframe tbody tr th {\n",
       "        vertical-align: top;\n",
       "    }\n",
       "\n",
       "    .dataframe thead th {\n",
       "        text-align: right;\n",
       "    }\n",
       "</style>\n",
       "<table border=\"1\" class=\"dataframe\">\n",
       "  <thead>\n",
       "    <tr style=\"text-align: right;\">\n",
       "      <th></th>\n",
       "      <th>;Region</th>\n",
       "      <th>Month</th>\n",
       "      <th>Day</th>\n",
       "      <th>Year</th>\n",
       "      <th>;Trigger</th>\n",
       "      <th>;Weak Layer</th>\n",
       "      <th>Depth_inches</th>\n",
       "      <th>Vertical_inches</th>\n",
       "      <th>;Aspect</th>\n",
       "      <th>Elevation_feet</th>\n",
       "      <th>Coordinates</th>\n",
       "      <th>Comments 1</th>\n",
       "    </tr>\n",
       "  </thead>\n",
       "  <tbody>\n",
       "    <tr>\n",
       "      <th>0</th>\n",
       "      <td>Salt Lake</td>\n",
       "      <td>11</td>\n",
       "      <td>9</td>\n",
       "      <td>2012</td>\n",
       "      <td>Snowboarder</td>\n",
       "      <td>New Snow/Old Snow Interface</td>\n",
       "      <td>14.0</td>\n",
       "      <td>360.0</td>\n",
       "      <td>North</td>\n",
       "      <td>10400.0</td>\n",
       "      <td>40.577977000000, -111.595817000000</td>\n",
       "      <td>While it was a small avalanche that was I caug...</td>\n",
       "    </tr>\n",
       "    <tr>\n",
       "      <th>1</th>\n",
       "      <td>Salt Lake</td>\n",
       "      <td>11</td>\n",
       "      <td>11</td>\n",
       "      <td>2012</td>\n",
       "      <td>Skier</td>\n",
       "      <td>New Snow/Old Snow Interface</td>\n",
       "      <td>30.0</td>\n",
       "      <td>1200.0</td>\n",
       "      <td>North</td>\n",
       "      <td>9700.0</td>\n",
       "      <td>40.592619000000, -111.616099000000</td>\n",
       "      <td>A North facing aspect with an exposed ridge in...</td>\n",
       "    </tr>\n",
       "    <tr>\n",
       "      <th>2</th>\n",
       "      <td>Salt Lake</td>\n",
       "      <td>11</td>\n",
       "      <td>11</td>\n",
       "      <td>2012</td>\n",
       "      <td>Skier</td>\n",
       "      <td>Facets</td>\n",
       "      <td>36.0</td>\n",
       "      <td>5400.0</td>\n",
       "      <td>North</td>\n",
       "      <td>10200.0</td>\n",
       "      <td>40.599291000000, -111.642315000000</td>\n",
       "      <td>Remotely triggered all the new storm snow (abo...</td>\n",
       "    </tr>\n",
       "    <tr>\n",
       "      <th>3</th>\n",
       "      <td>Salt Lake</td>\n",
       "      <td>11</td>\n",
       "      <td>11</td>\n",
       "      <td>2012</td>\n",
       "      <td>Skier</td>\n",
       "      <td>New Snow</td>\n",
       "      <td>18.0\"</td>\n",
       "      <td>6000.0</td>\n",
       "      <td>Southeast</td>\n",
       "      <td>10200.0</td>\n",
       "      <td>40.598313000000, -111.628304000000</td>\n",
       "      <td>Impressive fast powder cloud ran in front of t...</td>\n",
       "    </tr>\n",
       "    <tr>\n",
       "      <th>4</th>\n",
       "      <td>Salt Lake</td>\n",
       "      <td>11</td>\n",
       "      <td>11</td>\n",
       "      <td>2012</td>\n",
       "      <td>Skier</td>\n",
       "      <td>Facets</td>\n",
       "      <td>42.0</td>\n",
       "      <td>9600.0</td>\n",
       "      <td>North</td>\n",
       "      <td>10400.0</td>\n",
       "      <td>40.578590000000, -111.595087000000</td>\n",
       "      <td>Three of us toured from Brighton to low saddle...</td>\n",
       "    </tr>\n",
       "  </tbody>\n",
       "</table>\n",
       "</div>"
      ],
      "text/plain": [
       "     ;Region  Month  Day  Year     ;Trigger                  ;Weak Layer  \\\n",
       "0  Salt Lake     11    9  2012  Snowboarder  New Snow/Old Snow Interface   \n",
       "1  Salt Lake     11   11  2012        Skier  New Snow/Old Snow Interface   \n",
       "2  Salt Lake     11   11  2012        Skier                       Facets   \n",
       "3  Salt Lake     11   11  2012        Skier                     New Snow   \n",
       "4  Salt Lake     11   11  2012        Skier                       Facets   \n",
       "\n",
       "  Depth_inches  Vertical_inches    ;Aspect  Elevation_feet  \\\n",
       "0         14.0            360.0      North         10400.0   \n",
       "1         30.0           1200.0      North          9700.0   \n",
       "2         36.0           5400.0      North         10200.0   \n",
       "3        18.0\"           6000.0  Southeast         10200.0   \n",
       "4         42.0           9600.0      North         10400.0   \n",
       "\n",
       "                          Coordinates  \\\n",
       "0  40.577977000000, -111.595817000000   \n",
       "1  40.592619000000, -111.616099000000   \n",
       "2  40.599291000000, -111.642315000000   \n",
       "3  40.598313000000, -111.628304000000   \n",
       "4  40.578590000000, -111.595087000000   \n",
       "\n",
       "                                          Comments 1  \n",
       "0  While it was a small avalanche that was I caug...  \n",
       "1  A North facing aspect with an exposed ridge in...  \n",
       "2  Remotely triggered all the new storm snow (abo...  \n",
       "3  Impressive fast powder cloud ran in front of t...  \n",
       "4  Three of us toured from Brighton to low saddle...  "
      ]
     },
     "execution_count": 2,
     "metadata": {},
     "output_type": "execute_result"
    }
   ],
   "source": [
    "df = pd.read_csv('./avalanches_data.csv')\n",
    "df.head()"
   ]
  },
  {
   "cell_type": "markdown",
   "id": "7cc10d2b-9b1e-46f4-9769-b9a0ac0c9e8f",
   "metadata": {
    "__GENERATED_DATAFRAMES__": "{\"nodeDataframes\":{},\"graphDataframes\":null}",
    "show_aggregate_original": "false",
    "trrack_graph": "ᯡ࠽䈌ʀ匦㢠⹰ૠ㌬Ā჻R〶䁃lyٹ⁓f䍐ۢ䧪㈉◔ฅޡ䨲⠠䬱䑁棒瀱Ⴭ⭱妻ݎẜʤ䐡傠ǖ悃РኤРᜰ結üメ浪巟㈠ᣠˬ⃪$熒‣㐡㬚͇⦲༿⸂໡壡‡犀⒂ଠᎭॣ䥡⊃㡹稠嬸ූᑤඦҡ哹䑀妨䤝͕䀺慽䈩瞤∡㼚ƶ嵖᯦悡檩ǣ᪀畖o#䖊⠃ܑ璌⃥⹾䞌᧒Т⺈ᆡ⇳㴑䒤㒌ŭ᯸丈◡戱⃰潅Ԧ秐噑๦磜疶溂⒀ᒪ扖⋦ူⶃ㧄మྡྷშ⨭རㅸ瘭ǅ爘䅐䘆砠址䑂㥨㈼㹯䕈䓵ᒹ憴婊③ᤠ "
   },
   "source": [
    "# Task 1: Refining Columns and Preparing Data\n",
    "\n",
    "In the first task we will perform some basic data cleaning operations to get our dataset ready for further tasks."
   ]
  },
  {
   "cell_type": "markdown",
   "id": "8934b219-dd97-4e3e-9aa9-0dd7a9d62ad5",
   "metadata": {
    "__GENERATED_DATAFRAMES__": "{\"nodeDataframes\":{},\"graphDataframes\":null}",
    "show_aggregate_original": "false",
    "trrack_graph": "ᯡ࠽䈌ʀ匦㢠⹰ૠ㬠氤〥䌸瀶䀹䁣๲ৠܦᔨҀᣴ䂼䋃‣ᓆ做►䀳ല⠠䭈⑁槑瀱ᝉ⍮冫㭮ẜʦ䒠ǁ#㕀挸晠ኤРᝣၐüムṁǟ㤉䀥䉸攠ʓ㥀ǔÚ⎃஥䤫䒄攭ᇸ惀Ēいᘦᖠೣ䗫⃂変ⱦ{ఽ咼∪⌤䋵汄ჹ䑈冣ᛠඉⵆܔ⍂Þ⍡歹ম悩溩Ǡ媁疖o#䖓瀃ʅ璌⁅溮杲◒Ъ⍁䔶户ࣉⓢ削౐䘰䵥䌂んḸئԢ灐糕൤㧶ⶬ䲱䅲ᗈ撯ౠ惍䈅䥐属ѣ၈⩍སヸ๗௧焤ᄸ䒰Ž䅰䔉燩壥༲刳樲⭮✈咰ᒄ  "
   },
   "source": [
    "### **Task 1a: Remove Columns**"
   ]
  },
  {
   "cell_type": "markdown",
   "id": "47b531d4-2e3a-4e9a-b92a-39aebfc3deb6",
   "metadata": {
    "__GENERATED_DATAFRAMES__": "{\"nodeDataframes\":{},\"graphDataframes\":null}",
    "show_aggregate_original": "false",
    "trrack_graph": "ᯡ࠽䈌ʀ匦㢠⹰ૠ㬠氤〥䌸瀶䀹䁣๲ৠܦᔨҀᣴ䂼䋃‣ᓆ做►䀳ല⠠䭈⑁槑瀱ᝉ⍮冫㭮ẜʦ䒠ǁ#㕀挸晠ኤРᝣၐüムṁǟ㤉䀥䉸攠ʓ㥀ǔÚ⎃஥䤫䒄攭ᇸ惀Ēいᘦᖠೣ䗫⃂変ⱦ{ఽ咼∪⌤䋵汄ჹ䑈冣ᛠඉⵆܔ⍂Þ⍡歹ম悩溩Ǡ媁疖o#䖓瀃ʅ璌⁅溮杲◒Ъ⍁䔶户ࣉⓢ削౐䘰䵥䌂んḸئԢ灐糕൤㧶ⶬ䲱䅲ᗈ撯ౠ惍䈅䥐属ѣ၈⩍སヸ๗௧焤ᄸ䒰Ž䅰䔉燩壥༲刳樲⭮✈咰ᒄ  "
   },
   "source": [
    "Remove the following columns to streamline the dataset for further analysis:\n",
    "\n",
    "- **_Comments 1:_** Contains textual comments not crucial for quantitative analysis.\n",
    "- **_Coordinates:_** Detailed location data not needed for the current scope of analysis."
   ]
  },
  {
   "cell_type": "markdown",
   "id": "aec9ad2a-ab09-4288-b8fa-2852bcddda1a",
   "metadata": {},
   "source": [
    "#### **Instructions**\n",
    "1. **Column Removal:**\n",
    "\t- Use the interactive table feature in PersIst to remove the specified columns.\n",
    "3. **Verify the Output:**\n",
    "\t- Print the head of the generated dataframe to verify the changes."
   ]
  },
  {
   "cell_type": "code",
   "execution_count": 3,
   "id": "8e333ff3-cb24-430b-a332-733b41570ba4",
   "metadata": {
    "__GENERATED_DATAFRAMES__": "ᯡࠩ䃬࿀ᜤᠹ悋ᐨ推̅ሣ䧠ⶠ卍捯ᥔᠣ℠▢dʘϔᝠ捌〤瀵摠៨⠠ ",
    "__has_persist_output": true,
    "editable": true,
    "slideshow": {
     "slide_type": ""
    },
    "tags": [],
    "trrack_graph": "ᯡ࠽䈌ʀ匦㢠⹰໠ᬡᱰঠ䌸〶䁑䀮ᩲࠥ䀣ᢵڶ♢գ⌸Ĺ㴍ÌⓀŌ傰䏂揠≼勍㵦曌塛㬑䀲&䈠۷஬ἑj࠰|㩠怣㣣ۘ䈼櫭焠஁㵰½๨࡟ᬸ䒋≅慠ĸ峴⠠ᦲィ༰ڄᎁ僰ごⓊ⸦̻ע%欉瘍䙨᩽ㄠ㜲挥'䦡ᆂ⡔᩾罏⪻࿫෰˸慍㡢ၼᡄ᪒汁̌℥⩠尶㤎࿧㰱⠥笈ྶ䧘扫ɚ玎ӓּ堢㰠໯ᝏ౑ޝ焦ࢼᬽ䮡ᦰ၈乁₲ᠪ౥䔪䈪஡‸⩌┧烲水ֱ憂ెண֨ದ΃㵞焳⌡㖾Ꮓᯅፂแ̷䔲ᒺ⦶斒糁Ⱶᗪࡴጁ㊀⣛ᜰⓈ擊⺲烒Ჾ⁲ᑪ㊭䂂᧡ဠɇ灡漠¸䂡琠⯘昦ᨠ愫࿥ģ璤ᝫ⬢⺟ࣰЉ䶶痕椡㱞㾰᝸䁔ⱸ䙈懄Kᴅ⡐㝃ɷࢤ㼴䜩㠸䙦䇭債⺽灚ᳮҳǣ灤ᤢ䛁栬ጴ䆁墊༯䐲᫭⭣卸窝åۣ〸㼿䂹♓ў㑸婋᫣㗳㘰Ỡ牛溇ᳯ擛⻗ㇷ⎢䑐4⊵紗ࡴħ湠୸֞ᵗ䟝ጐ糞ဩ㦂硡ゐ⨢ᯤn砬ㄬ禫୩燤/⋄恨ԥᛛ猕潏坔嚸`束瞙lأ圼ഝၫ䊢僎䁢ᛛ盠㑉Չ㠩ᅁ⎭ہㅞ⑀㱙წ᥌⍡塄啁ᇙĠ塨\"⸬⌱悅䙂‴క梀ヂ弨⟔၃嚕ⴢՙᬯ搘°ᓑ♒㚥ᗔ䇌牝㑰䶫㕱ᱛ㓱Ɇ燈๘ᖩᯄ㚬ᡌ㞬࣌噬઺レ妤◭禵э⊸䆐Ṭ㉨熢㐒⧀Ⳮ姈⡌嫁䏈⸡剕⚺໔皤ܹጳ䎡䛌⇑滙㙣⢟僢ṗ䘐Ģ瓸◓⽌ኴ儅㋜刄䪿ᕵʦ坈嶽ልᵗ☉紭й塏⛂Ꮤ斸㎵䎽⬭白⯁撝杖瘰圭揙நѝぉ疥ތ悝睎䏝坦抜佋盄⹇眝撏睹墎࿣⁭䉃傜䠬偭ȝ࢘䟕䕹㍊ᕨ䬲‰णѤຢ撜ଥᒘ䞨倦Ϊ㱩ʡ䑓༪⡖ᗃ硌䌓㡖é䏕挰✮䴑㽟搤丱䩨♴䛍㈽ぱි䖌癦䋰亍✥堳ၦᙙ㒰喬䗍爣㉱䶪䞁䋧ㄐᚿ䞋戬⬒煯䱭繺♫䅮㖨秚⥘䀠 "
   },
   "outputs": [
    {
     "data": {
      "application/vnd.jupyter.widget-view+json": {
       "model_id": "b011b7b1622d459988c48abcfde003f7",
       "version_major": 2,
       "version_minor": 0
      },
      "text/plain": [
       "PersistWidget(data_values=[{'__id_column': '1', ';Region': 'Salt Lake', 'Month': 11, 'Day': 9, 'Year': 2012, '…"
      ]
     },
     "execution_count": 3,
     "metadata": {},
     "output_type": "execute_result"
    }
   ],
   "source": [
    "PR.PersistTable(df, df_name=\"df_task_1a\")"
   ]
  },
  {
   "cell_type": "code",
   "execution_count": 5,
   "id": "0d7b27bb-18cb-4430-be2f-002c2a057df9",
   "metadata": {},
   "outputs": [
    {
     "data": {
      "text/html": [
       "<div>\n",
       "<style scoped>\n",
       "    .dataframe tbody tr th:only-of-type {\n",
       "        vertical-align: middle;\n",
       "    }\n",
       "\n",
       "    .dataframe tbody tr th {\n",
       "        vertical-align: top;\n",
       "    }\n",
       "\n",
       "    .dataframe thead th {\n",
       "        text-align: right;\n",
       "    }\n",
       "</style>\n",
       "<table border=\"1\" class=\"dataframe\">\n",
       "  <thead>\n",
       "    <tr style=\"text-align: right;\">\n",
       "      <th></th>\n",
       "      <th>;Region</th>\n",
       "      <th>Month</th>\n",
       "      <th>Day</th>\n",
       "      <th>Year</th>\n",
       "      <th>;Trigger</th>\n",
       "      <th>;Weak Layer</th>\n",
       "      <th>Depth_inches</th>\n",
       "      <th>Vertical_inches</th>\n",
       "      <th>;Aspect</th>\n",
       "      <th>Elevation_feet</th>\n",
       "    </tr>\n",
       "  </thead>\n",
       "  <tbody>\n",
       "    <tr>\n",
       "      <th>0</th>\n",
       "      <td>Salt Lake</td>\n",
       "      <td>11</td>\n",
       "      <td>9</td>\n",
       "      <td>2012</td>\n",
       "      <td>Snowboarder</td>\n",
       "      <td>New Snow/Old Snow Interface</td>\n",
       "      <td>14.0</td>\n",
       "      <td>360.0</td>\n",
       "      <td>North</td>\n",
       "      <td>10400.0</td>\n",
       "    </tr>\n",
       "    <tr>\n",
       "      <th>1</th>\n",
       "      <td>Salt Lake</td>\n",
       "      <td>11</td>\n",
       "      <td>11</td>\n",
       "      <td>2012</td>\n",
       "      <td>Skier</td>\n",
       "      <td>New Snow/Old Snow Interface</td>\n",
       "      <td>30.0</td>\n",
       "      <td>1200.0</td>\n",
       "      <td>North</td>\n",
       "      <td>9700.0</td>\n",
       "    </tr>\n",
       "    <tr>\n",
       "      <th>2</th>\n",
       "      <td>Salt Lake</td>\n",
       "      <td>11</td>\n",
       "      <td>11</td>\n",
       "      <td>2012</td>\n",
       "      <td>Skier</td>\n",
       "      <td>Facets</td>\n",
       "      <td>36.0</td>\n",
       "      <td>5400.0</td>\n",
       "      <td>North</td>\n",
       "      <td>10200.0</td>\n",
       "    </tr>\n",
       "    <tr>\n",
       "      <th>3</th>\n",
       "      <td>Salt Lake</td>\n",
       "      <td>11</td>\n",
       "      <td>11</td>\n",
       "      <td>2012</td>\n",
       "      <td>Skier</td>\n",
       "      <td>New Snow</td>\n",
       "      <td>18.0\"</td>\n",
       "      <td>6000.0</td>\n",
       "      <td>Southeast</td>\n",
       "      <td>10200.0</td>\n",
       "    </tr>\n",
       "    <tr>\n",
       "      <th>4</th>\n",
       "      <td>Salt Lake</td>\n",
       "      <td>11</td>\n",
       "      <td>11</td>\n",
       "      <td>2012</td>\n",
       "      <td>Skier</td>\n",
       "      <td>Facets</td>\n",
       "      <td>42.0</td>\n",
       "      <td>9600.0</td>\n",
       "      <td>North</td>\n",
       "      <td>10400.0</td>\n",
       "    </tr>\n",
       "  </tbody>\n",
       "</table>\n",
       "</div>"
      ],
      "text/plain": [
       "     ;Region  Month  Day  Year     ;Trigger                  ;Weak Layer  \\\n",
       "0  Salt Lake     11    9  2012  Snowboarder  New Snow/Old Snow Interface   \n",
       "1  Salt Lake     11   11  2012        Skier  New Snow/Old Snow Interface   \n",
       "2  Salt Lake     11   11  2012        Skier                       Facets   \n",
       "3  Salt Lake     11   11  2012        Skier                     New Snow   \n",
       "4  Salt Lake     11   11  2012        Skier                       Facets   \n",
       "\n",
       "  Depth_inches  Vertical_inches    ;Aspect  Elevation_feet  \n",
       "0         14.0            360.0      North         10400.0  \n",
       "1         30.0           1200.0      North          9700.0  \n",
       "2         36.0           5400.0      North         10200.0  \n",
       "3        18.0\"           6000.0  Southeast         10200.0  \n",
       "4         42.0           9600.0      North         10400.0  "
      ]
     },
     "execution_count": 5,
     "metadata": {},
     "output_type": "execute_result"
    }
   ],
   "source": [
    "df_task_1a.head()"
   ]
  },
  {
   "cell_type": "markdown",
   "id": "36c62d50-9c88-4ed9-8c97-e552a6e4c620",
   "metadata": {},
   "source": [
    "### **Task 1b: Fix Column Names**"
   ]
  },
  {
   "cell_type": "markdown",
   "id": "ab8f8f24-afd2-424f-ab34-3e3cde723aa3",
   "metadata": {
    "trrack_graph": "ᯡ࠽䈌ʀ匦㢠⹰ࢀㆪこ<ǐʀ୥崡汤Ɓ䔠⍂⠨撂䂼ì债晶堪慯掩ᐠ▴ሰ璹㤨䮲减ⓥ䢧᜾㺣䉠ð䀡壅冨㕀ॢȠ௞䠸ᢀ眰䅽忖䀢晐樠Ԃ牠ΈƔڦ❓ሠƠ暬ॡ声Ȅ恨䙜⬮ಬ俨⫣䞐డ㙐᬴⣔䰲ճ㌰䊆၂۔欠㖹┰᧶༨̘ඛฌ琻ɋ㉄ܠ榡哸Ŝ.ؗ⾬ള勑̵㯺ᱱ曨ဩᒡᾪ३⁂惡৒ј⪖ᩋࢶ䥣䍢ᇃ⢀☾ԣ䖎㑝䳓ⳄⓀ᪱ĦҐ戤׌㝔䆦成扉ڠ凈㨣ೣㅘ湏Bࡤ䒠ଈତޗ٩䟨㣜㥨◈ᩲ㭡⟢䀠 "
   },
   "source": [
    "It looks like something went wrong when reading the file and some column headers start with a `;`. **Please remove the semicolon from all headers**. "
   ]
  },
  {
   "cell_type": "markdown",
   "id": "63f4d5c5-9383-4857-beae-0cfa6ba466f2",
   "metadata": {},
   "source": [
    "#### **Instructions**\n",
    "1. **Rename Columns:**\n",
    "    - Use the interactive  table in Persist to correct the column names by removing the leading `;` from their names:\n",
    "        - _;Aspect_ → _Aspect_\n",
    "        - _;Region_ → _Region_\n",
    "        - _;Trigger_ → _Trigger_\n",
    "        - _;Weak Layer_ → _Weak Layer_\n",
    "2. **Verify the Output:**\n",
    "\t- Print the head of the generated dataframe to verify the changes."
   ]
  },
  {
   "cell_type": "code",
   "execution_count": 6,
   "id": "e74dd265-2437-40e4-8673-be7ea1d079b3",
   "metadata": {
    "__GENERATED_DATAFRAMES__": "ᯡࠩ䃬࿀ᜤᠹ悋ᐨ怱䐢犲ǩ怶恉宑召䵬ð䀲悠ᄡḡ沯偑嬸Ř˛ࠥ笪  ",
    "__has_persist_output": true,
    "trrack_graph": "ᯡ࠽䈌ʀ匦㢠⹰҅X⡑䁌ᐹ䁍V㸡ᢔᎠ嘼䓀ᆺ䂆䈧ㆰ橈斍㪠亊ᑩ•ⳁႣ⓫䁤峅൚䊬ⷺ㮕砄ቀڤ-䁁䔬⇉j࠰|‬怣㣣ߘ䈺滣䡌6ㅣᐠ৵撠۱Ǔ僸塸ᒊ#Ⴋࢹ䋂ૐᏰತᠦጬᅇଳ䀶ႠƔڦ枓ቂ⃫਼㗑䅠Ȅ恨ٖ⊂⿚亡∶倸ƌブ捱ࡑ䰲൛㌰䎖ᇣ嗲ᬠ㗘磸᷑ೈ̘ท䯬捌ⶢᶓ㜤妥仸Ŝ.➯㾬଻㜑̱属Ꮈ惓၀Ҫ⎃ᡐⱡ䚂⢌ㆭ䎁⡼㔰䀱䡰ᄧ䂃䨢ㆺ䘃瀢ྵ焙⓭వ力༔䆺ᖫ扩੭ᅠ㌊㙷៪૥⥼喺ℾፎၫዉ㩬包ٜ䅺䉈䫘⃆啓樾▵晒☠ĶĤᠠ垑䰣吡岺䀼拕ᮌ࠮喉媜㪰ህӠ浬'氊䚳⟯爤⅐嶋熀汎ἢ䌸礸Ԥ偊䐡ᨳϑ䱡ਬ〩䱖ᬠ慴ٗ徊珙刬ᬧ䄱␪ફ⏰䱶Υ愐籡ᡠ೔浮䶋氕ΔἨჂፉ䚎߭୶䧷㠸⠽侀㤽❙塁㥼㝃䃧h〠ᑹ䆧⻗⠪¢㝀⇌՝᝻揹瞚㹀ᆖ栓ǀ䑴¡干⡭煑はვ㒞੠ĔੰҠၨ橞睳椚͸殔厳箞㝦Ȟ⮲ݞ၃抡䡠捡䍱筰㘼匸粹ቄ⠱႒㨧π䈽Š樨䆀户叀扸䃐挢僁ါ票挻䄘᱌ס䦠̪Ⴓ•斬㠈⍡ㄻᡍభ㕶ᖡ劽㵉姞⿯礡ⶩ喸ᒣ။㲭ⰳદ儻⚢沔㮌嶊஦и㌇ࡃํඃ㲋Ⲁኂ䳳څ䲓Ẅᕄ៮ൃ⾳ăʈ୑ぽբ皋䳐㺊哬ᡉ烕⻋環秀u䄸䓕ᚬب㪽凵▙ⳋ䅓冑⺨ҳ廁〔䴠∩溤℡䰴Š⡁焄塞ڀȦ❠厑䇨偊䈙熱⟡砬⡌俑㖋⊫Ⴕ泇ዩ㊾➵ઠ僈䵇㞈崯␈͂∸㡉Ā⏔斸Ꮍ䊼婬狸၎柹ܽ晽朸䓘䟙盽ぞ瑜ᯘᛝ待玦᭒炙㓝瓄ṓ疝䩸ᜩ⡯熡挤Ɛ抐ࢳ祬Ʋ纸r潈ཱི᪒௰磧䄳ሰෑ㡨ԣ涅ᩢ㓽Ὴᕵ⮜ぴ䐷൨2䊚ೢiᤆ恡ઢ⪃矡䙓ˡ䱑ؓ桜╬㡝淩䙑嵤倪ႀ焫ཡ䙞ݡጞ䰐㼿怤湉体於䋍੍㗒ඦ䚍娻㄰⹽⌤摒琻䎈楨፴歈㎁κ层澨㠪歺ᇄ⪱ᇨ橺㈄溻㎜楯䮂╻殖⽴祧偋㊉協Z䚶汚䀡䬸ឪ哵筩弸᜝店⛑惕勽呁⪀ᤕ惭㉤੍ቄ碱䓤ඊ䆆๠ↂ㈥ጰ䒬䄆ⰷ䄜㍓ㄶ睴妙壆ᯥ罆䅅擦ࢥĳᯅࣂ瓲⻺癀廮甬樷僰ំ᳀༔䬺㡖ᚓ束棾ଃ⹐㜚ࢇ尧䐐ヤ磯ḹ⼺Ճ⸅⎐₢⤩䙀ⶬᾰ⓰䷈঱ᮁ⥓愾㏎纆㔂汌勴䍹幺㧗᮳⽗䥥Ꮖ式渽汍壵⑜ឥ察Օጯ捹㓁և䉪摥ྰ䧰ᒠ࿉堨㱢傔ظ䱮拈䁀櫷僎怹Ʉ㷖畇㉒垃∀ᙳ水ۓᑝ㏈ᎂ桶旰䦃⣁撡砨ಪᴠឪŏ㑂恵瀰瘉廻毝篰絕䭘姟䘤灩⼼;䱩਌ⴳㄶዬ勚狆僷ణ橚睔(Ꭰྭ㣽揉敒同ᢘ䭞ᨴ礒Ⅹ爬㻍竇棲ḧ᷃岈௜㤷㊓ᡴ睮ଋ炷ⷸ㝯娎䥥䠿穔ࠤ䱷圼֡竫ؕ恇甞冒ƹ拎ࡗ⹻䋹еۨᲘ‱ൖĺど掀季⍧恁ᆌ⇲晣Ӹ䷹䶤桵᧰䢨སઆሼዂ☒擰単㪻㡹勴爩ୁठ塽㢾ᳬ摊⍸ㅹ姒媫ޠ漡䇠惤ࡠ፠єㆡᢹà┡潲ᎀ΃䂣⑰晗愽僨嶩䭸篕䡪悑ᭌ爖‽湙擜ⷩီR᭱塲揑幽㉞恋续押形籁匤ᨖ।䱾♂ঁᄲ搫㵒⾛㉠৤燢  "
   },
   "outputs": [
    {
     "data": {
      "application/vnd.jupyter.widget-view+json": {
       "model_id": "3a6722a5dd234da08e97ca502c0bcf34",
       "version_major": 2,
       "version_minor": 0
      },
      "text/plain": [
       "PersistWidget(data_values=[{'__id_column': '1', ';Region': 'Salt Lake', 'Month': 11, 'Day': 9, 'Year': 2012, '…"
      ]
     },
     "execution_count": 6,
     "metadata": {},
     "output_type": "execute_result"
    }
   ],
   "source": [
    "PR.PersistTable(df_task_1a, df_name=\"df_task_1b\")"
   ]
  },
  {
   "cell_type": "code",
   "execution_count": 7,
   "id": "5bb7fc7f-acbb-4cd4-91e0-280e58b35a96",
   "metadata": {},
   "outputs": [
    {
     "data": {
      "text/html": [
       "<div>\n",
       "<style scoped>\n",
       "    .dataframe tbody tr th:only-of-type {\n",
       "        vertical-align: middle;\n",
       "    }\n",
       "\n",
       "    .dataframe tbody tr th {\n",
       "        vertical-align: top;\n",
       "    }\n",
       "\n",
       "    .dataframe thead th {\n",
       "        text-align: right;\n",
       "    }\n",
       "</style>\n",
       "<table border=\"1\" class=\"dataframe\">\n",
       "  <thead>\n",
       "    <tr style=\"text-align: right;\">\n",
       "      <th></th>\n",
       "      <th>Region</th>\n",
       "      <th>Month</th>\n",
       "      <th>Day</th>\n",
       "      <th>Year</th>\n",
       "      <th>Trigger</th>\n",
       "      <th>Weak Layer</th>\n",
       "      <th>Depth_inches</th>\n",
       "      <th>Vertical_inches</th>\n",
       "      <th>Aspect</th>\n",
       "      <th>Elevation_feet</th>\n",
       "    </tr>\n",
       "  </thead>\n",
       "  <tbody>\n",
       "    <tr>\n",
       "      <th>0</th>\n",
       "      <td>Salt Lake</td>\n",
       "      <td>11</td>\n",
       "      <td>9</td>\n",
       "      <td>2012</td>\n",
       "      <td>Snowboarder</td>\n",
       "      <td>New Snow/Old Snow Interface</td>\n",
       "      <td>14.0</td>\n",
       "      <td>360.0</td>\n",
       "      <td>North</td>\n",
       "      <td>10400.0</td>\n",
       "    </tr>\n",
       "    <tr>\n",
       "      <th>1</th>\n",
       "      <td>Salt Lake</td>\n",
       "      <td>11</td>\n",
       "      <td>11</td>\n",
       "      <td>2012</td>\n",
       "      <td>Skier</td>\n",
       "      <td>New Snow/Old Snow Interface</td>\n",
       "      <td>30.0</td>\n",
       "      <td>1200.0</td>\n",
       "      <td>North</td>\n",
       "      <td>9700.0</td>\n",
       "    </tr>\n",
       "    <tr>\n",
       "      <th>2</th>\n",
       "      <td>Salt Lake</td>\n",
       "      <td>11</td>\n",
       "      <td>11</td>\n",
       "      <td>2012</td>\n",
       "      <td>Skier</td>\n",
       "      <td>Facets</td>\n",
       "      <td>36.0</td>\n",
       "      <td>5400.0</td>\n",
       "      <td>North</td>\n",
       "      <td>10200.0</td>\n",
       "    </tr>\n",
       "    <tr>\n",
       "      <th>3</th>\n",
       "      <td>Salt Lake</td>\n",
       "      <td>11</td>\n",
       "      <td>11</td>\n",
       "      <td>2012</td>\n",
       "      <td>Skier</td>\n",
       "      <td>New Snow</td>\n",
       "      <td>18.0\"</td>\n",
       "      <td>6000.0</td>\n",
       "      <td>Southeast</td>\n",
       "      <td>10200.0</td>\n",
       "    </tr>\n",
       "    <tr>\n",
       "      <th>4</th>\n",
       "      <td>Salt Lake</td>\n",
       "      <td>11</td>\n",
       "      <td>11</td>\n",
       "      <td>2012</td>\n",
       "      <td>Skier</td>\n",
       "      <td>Facets</td>\n",
       "      <td>42.0</td>\n",
       "      <td>9600.0</td>\n",
       "      <td>North</td>\n",
       "      <td>10400.0</td>\n",
       "    </tr>\n",
       "  </tbody>\n",
       "</table>\n",
       "</div>"
      ],
      "text/plain": [
       "      Region  Month  Day  Year      Trigger                   Weak Layer  \\\n",
       "0  Salt Lake     11    9  2012  Snowboarder  New Snow/Old Snow Interface   \n",
       "1  Salt Lake     11   11  2012        Skier  New Snow/Old Snow Interface   \n",
       "2  Salt Lake     11   11  2012        Skier                       Facets   \n",
       "3  Salt Lake     11   11  2012        Skier                     New Snow   \n",
       "4  Salt Lake     11   11  2012        Skier                       Facets   \n",
       "\n",
       "  Depth_inches  Vertical_inches     Aspect  Elevation_feet  \n",
       "0         14.0            360.0      North         10400.0  \n",
       "1         30.0           1200.0      North          9700.0  \n",
       "2         36.0           5400.0      North         10200.0  \n",
       "3        18.0\"           6000.0  Southeast         10200.0  \n",
       "4         42.0           9600.0      North         10400.0  "
      ]
     },
     "execution_count": 7,
     "metadata": {},
     "output_type": "execute_result"
    }
   ],
   "source": [
    "df_task_1b.head()"
   ]
  },
  {
   "cell_type": "markdown",
   "id": "3875e7fc-ec40-4241-aa94-87b31e59944f",
   "metadata": {},
   "source": [
    "## **Task 1c: Correcting Data Type of 'Depth_inches'**"
   ]
  },
  {
   "cell_type": "markdown",
   "id": "7a7eebda-1b60-4bff-89d3-a5548a601b49",
   "metadata": {},
   "source": [
    "There is a data type issue in the `Depth_inches` column of our dataframe. This column is incorrectly formatted as an object (string) due to the presence of the inches symbol `\"`.\n",
    "\n",
    "Remove any inches symbols `\"` from the `Depth_inches` column and convert it to a float data type."
   ]
  },
  {
   "cell_type": "code",
   "execution_count": 8,
   "id": "fb9bff61-9a8d-4114-97f3-4f6d0cd0e61e",
   "metadata": {},
   "outputs": [
    {
     "data": {
      "text/plain": [
       "Region             string[python]\n",
       "Month                       Int64\n",
       "Day                         Int64\n",
       "Year                        Int64\n",
       "Trigger            string[python]\n",
       "Weak Layer         string[python]\n",
       "Depth_inches       string[python]\n",
       "Vertical_inches           Float64\n",
       "Aspect             string[python]\n",
       "Elevation_feet            Float64\n",
       "dtype: object"
      ]
     },
     "execution_count": 8,
     "metadata": {},
     "output_type": "execute_result"
    }
   ],
   "source": [
    "df_task_1b.dtypes"
   ]
  },
  {
   "cell_type": "markdown",
   "id": "b23913ac-ea3c-4ca1-8ac3-07d3026ca76e",
   "metadata": {
    "__GENERATED_DATAFRAMES__": "{\"nodeDataframes\":{},\"graphDataframes\":null}",
    "show_aggregate_original": "false",
    "trrack_graph": "ᯡ࠽䈌ʀ匦㢠⹰ೠ↺΀Ơ瘢ᠢᠫ‵䁇ፉ䐢怣侽振ၑ䶃᪰঵䂆⹉多䪲┠অҤᴶṂ㊵嘊᭓ㄅ毠㒰䣑Tဠ㚉҃೨ɰ䂠̂҆;䘸Ϥၗ眼䋐Ð䬹†于␠㚠ᝨ沂烒⎁൸憈㬸ᐠṬү䓧Ⴠ椓ᣘ⌚ᆠᛦކ䜱ǁ䅀㖖नຂᩈ桫〦塵偢㶱⢠⾱䂅埦䖃塀㪂ₐ暸ᵽ䀳怠煼砤慸㴻ࠩ㯏姭ঌ䄢䣫䧙㱈刱ㄿᬦ䩫⏃㌱楫磤ⰴຣα晼ਫ䎁㺕䮃Ⴤご䖂᥂挰ы゙㈬ܠ₰ᑊІ僑汮ޯ戩䉱៪怡⹁ᡤ甑擸抯॰ᡬᅓ╄璚╄㈠ "
   },
   "source": [
    "#### **Instructions**\n",
    "1. **Identify Entries with Inches Symbol:**\n",
    "    - Use the interactive table in Persist to look for rows with `\"` in `Depth_inches` column\n",
    "    - _Hint_: You can search in the interactive table\n",
    "2. **Edit and Correct Entries:**\n",
    "    - Edit the cells to remove the inches symbol from these entries. (e.g. `15\"` → `15`)\n",
    "3. **Convert Data Type:**\n",
    "    - Change the data type of the `Depth_inches` column from string to float.\n",
    "3. **Verify the Output:**\n",
    "\t- Print the head of the generated dataframe to verify the changes."
   ]
  },
  {
   "cell_type": "code",
   "execution_count": 9,
   "id": "7cb9b796-3aa5-4181-bf91-fa8ba7e33c20",
   "metadata": {
    "__GENERATED_DATAFRAMES__": "ᯡࠩ䃬࿀ᜤᠹ悋ᐨ恑䐢犲ǩ怶恉宑召䵬ð䀲悠ᄡḡ沯妶ᠢ㠪癀ఄᐠ ",
    "__has_persist_output": true,
    "trrack_graph": "ᯡ࠽䈌ʀ匦㢠⹱₆Řց䁬̹瀶亠㌡泊ࠥ䔹⏰à࣡慅᪠⌠䍆窎䧦ጲ⠠䭈⑀棒瀶ᝉ⍮壓⮖⻝紧Ҡǁ#㘃ࢊ′䈤7㺰ᠠ湐憎Ⴄ姗㞠ˬヴ3姩-儥⊒僈咘⚎ℬᴯ૥✁ဠ㤩樉瑬夹ت䃭杢焂傸†崣⇃哩à㏢ޓⲀ倠祐ቇಡ䃯栱搅䢐ؠ嬸㗗ᑤ෦ҡ佹䑀㶨Ⴚ䠳ૠඁἀ܎䋊Þͣ䫩ᮯ඀䃺淣 珶o#䘍搃ϥ沜ၑקす屓ᤢh剒ңǱᰲન↱岜媩慡ᢂܦ䈰值Ꭾ䀠洈㜳ߠゖ㯫犰婐᭥畛ᤦѪᆩ戩ብ፪㋹⹥ࡉ੅ᥢ去↎᭚ᖫ抩㉺䘅㉙Ṩ⹊䪼㥲嗈䰰䠠հ糀䙴 ሀၣ*点䁆䀼䀡࣠ᾋᯠЋǟᰮ毰䴲#把偭欤ྌ燲=Ƨ㗹田ⷡ榩噗⼪ㆹ䵿ῤௌ愾঩䍥榘崨䥡否ᵌ☰䰼Ʃ惷屔➫䧁ᲂ㫀ゝއᗭႁ墜Ẩ危㒚൦悑稍ࡢፕⶖ䯎娔́䬣䏄呒ኍ᫭Ⴅ䦆櫍㧍䞁Ѝރ䈎㯬ŋ䜇㢼٘ɣ!≄᱖矘倰ᐄӔ怴Н埓皙⽇朘⁗㛐㹈ᜥⅈ ἴ䈨ὑ䍬瘬༐删߁剏ãɶ䨪♉䵔ᢆᴂⅈⷣℸギ䆍ܫ㣘㨲ሀ勲䆼ไ≸ᴡ囈ᢴ摴ؠ灕䘥⃸圴瀬gⒸ墲䄉Ц兀ᤪ䣼ਤ䡽妫戆䫱娠๻䅬硄䕨❥毚佻揠問⃱䵛▁㵕䐦獋䕨⨡教㜫┉♕樁手撑୍恦棵▌徿爢恺掸ᠤ䅨ᤰ㯨刢䊮ᔱ䃐䧳∐Ķ㡙⌾偢並簆䋪䌶戬塶⫦姶ۮፖኽᇖ໲ࡪ်唶ዡ唴⛖寶䛽囖ࢣ宊☡凘ͨ橎㍢歺孱歚坣榠⽧樚⠰᫵璤ᦦ㭣⭦壠揦㻬䛆瓫憆䂸ႌဤ䈀⨩઀永䋶∺ႊ䈻䆎摤䊀⍻䋀吡䃠ᠳખ♇ᨖ⥣䫪湡⢄╠Ⰴ䊭⪪ⵤϲ捻匔纰㇩ባ˩ᷦ㇬Ϧ愾㖿禾௨炼᯲熨殻簞៶⿱穢恟稡↔Ҡ➱䡡婭惡㡜ᙁ畖䒠穆牑汄ᚑ䙔ទ᰺ᗉൎ䝚ٕ朥睟㚙⡐眙䖕Ի善泑ိ䘥涆஀扻䏢狷ઞ樫㮶璪❂⨲౰ᰩ䂀岵å䳯瀢⁥捅响揅㤸㮅攼㰅ഺ㬵崦秴✢ऀ᯵矝⨳瓠濟ț翐ධ悔ൖࢊೣ䤧埗៍璝⿝ĝ嬇#₍䅗炒ལ墆㗭絰欺旐旍⭓㛹砷㐦፣⢊揜᪀珎ᥘӾ慠擶癱篏扝峻㏄䋿Ꮐ䈚状樳㥐戯ʐ∼䆀纩䄄ٳ䇣㞀⍉ࠊ嫈᫅ࣵ喴㕺䧑䠫㊕ᓲ砥愈⊈䁋䩬ȸ䣨ҳ倵ᨎ⠥厅䙜䚇堧ˬ拽䵙䁺㙓狞ὓ簡㘜憄ɀ⧐㞢ⷺ੹⃌夁㳐江ᙶ㮉䋚⪌仵淢䯪⋎硐㗐᭡ར箂ᆮ洍红池グ灌䕋૖ࣀ噱療Î梸榢偲備瀲䬝ฦሲǌ㨥⺝滹ㄺഘƠ㭉拥ᶷ䔤牪ᓆ䨣䚼ਣ᳧ᕣ㎴熈ẑࠢ睊␪䁗䰝㟻ȿ䓁⯍⥰Ⱂ␯玀氹䁟栝尠ɛ䩠ቶ煄嬡┇睩㠅䥿殳䰿ሠ⪚產槯Ƶ⶛≾᭍媖⸉㺽㱕ᴣ偖窽ᶃ潫偞毌㼄➕ᦢ粓ᑁ立椀⩤Μ◀㈭⃤䮠ቶᄨ໒䒴䥂㱃ဵዸ※汲ټ㷡搛倊ߝ㩗ᡑ㜩琪ʈ峈Ả殬〸ଡ灭ᩌᵑⰦ゘̤暄ᖘ求焏θὝ惰磓僯悁῭჌ᗐ⋭௸㰪℡२༯ᤥ㎱ᴶ嚎♃᫭⍂咄撞守傩ዱॱ੷橘ࡒ婖水㝧喹奒帤ݾ⻲඲⃤䡩吥䩒㌣㡆⊴㹤灊ɲ璫Ԉ̽磫搃光Ꮯ䛨ᄂӅĩ㳎儁ᑴ㨪ᎊنဵŵዩⴄ‵භᗻ᭕㭟㍄匡ພ⃉ᅬ䕋⪌᭾妻ᄊ缵綽ㄆ䓛嗸ㆥ䵽†憏x.ㄈ税樋ⶄ孧㑣ራ٠ƪతǔㅂ倫埐ষ⑋⎈溠䕳ᙕ䀢㞿㚂㶘⽙䐂⦗沲俭ቒ㸚㾮☄榀ᓄࢄ瞼屄曘喽႐ᲀ䀴捳㼀˂ล硶ַ䫬僞磙䐴ᆏ᥂笊キ棥ᗾᛸ娡㣆⳺๺ౢఐ䷔ᬩ䂠✠瘺憄㓖涏㼕ᑾ࢙㐉廛濅收槦⪄䲱族㹧ෛ监⹈䣈᠝〡ⶰ╻燈ؤ㢴ᾗᕡ咡䂂₵ᨩ惸䃠␵d噶߉⏄㴤攌䇠ລĉ᛫繥无槸惣凔㜠5␰ₔᲤ亶䵝ᗢ刧ᬓ㫠ஊ䭒➫䜤呮㼲両᷊奷⮒䊐玤✺楴᝙哠ᙬ噶߹⧾♧ፚ䉡嘵അ梆䓔¬ž垡䭇櫶㴳涀穚傈〣䶕僲㧊␠ "
   },
   "outputs": [
    {
     "data": {
      "application/vnd.jupyter.widget-view+json": {
       "model_id": "28fd79d6839840d1b70934b840647777",
       "version_major": 2,
       "version_minor": 0
      },
      "text/plain": [
       "PersistWidget(data_values=[{'__id_column': '1', 'Region': 'Salt Lake', 'Month': 11, 'Day': 9, 'Year': 2012, 'T…"
      ]
     },
     "execution_count": 9,
     "metadata": {},
     "output_type": "execute_result"
    }
   ],
   "source": [
    "PR.PersistTable(df_task_1b, df_name=\"df_task_1c\")"
   ]
  },
  {
   "cell_type": "code",
   "execution_count": 11,
   "id": "68c01e9c-6533-4d27-8c98-6476168f2223",
   "metadata": {},
   "outputs": [
    {
     "data": {
      "text/html": [
       "<div>\n",
       "<style scoped>\n",
       "    .dataframe tbody tr th:only-of-type {\n",
       "        vertical-align: middle;\n",
       "    }\n",
       "\n",
       "    .dataframe tbody tr th {\n",
       "        vertical-align: top;\n",
       "    }\n",
       "\n",
       "    .dataframe thead th {\n",
       "        text-align: right;\n",
       "    }\n",
       "</style>\n",
       "<table border=\"1\" class=\"dataframe\">\n",
       "  <thead>\n",
       "    <tr style=\"text-align: right;\">\n",
       "      <th></th>\n",
       "      <th>Region</th>\n",
       "      <th>Month</th>\n",
       "      <th>Day</th>\n",
       "      <th>Year</th>\n",
       "      <th>Trigger</th>\n",
       "      <th>Weak Layer</th>\n",
       "      <th>Depth_inches</th>\n",
       "      <th>Vertical_inches</th>\n",
       "      <th>Aspect</th>\n",
       "      <th>Elevation_feet</th>\n",
       "    </tr>\n",
       "  </thead>\n",
       "  <tbody>\n",
       "    <tr>\n",
       "      <th>0</th>\n",
       "      <td>Salt Lake</td>\n",
       "      <td>11</td>\n",
       "      <td>9</td>\n",
       "      <td>2012</td>\n",
       "      <td>Snowboarder</td>\n",
       "      <td>New Snow/Old Snow Interface</td>\n",
       "      <td>14.0</td>\n",
       "      <td>360.0</td>\n",
       "      <td>North</td>\n",
       "      <td>10400.0</td>\n",
       "    </tr>\n",
       "    <tr>\n",
       "      <th>1</th>\n",
       "      <td>Salt Lake</td>\n",
       "      <td>11</td>\n",
       "      <td>11</td>\n",
       "      <td>2012</td>\n",
       "      <td>Skier</td>\n",
       "      <td>New Snow/Old Snow Interface</td>\n",
       "      <td>30.0</td>\n",
       "      <td>1200.0</td>\n",
       "      <td>North</td>\n",
       "      <td>9700.0</td>\n",
       "    </tr>\n",
       "    <tr>\n",
       "      <th>2</th>\n",
       "      <td>Salt Lake</td>\n",
       "      <td>11</td>\n",
       "      <td>11</td>\n",
       "      <td>2012</td>\n",
       "      <td>Skier</td>\n",
       "      <td>Facets</td>\n",
       "      <td>36.0</td>\n",
       "      <td>5400.0</td>\n",
       "      <td>North</td>\n",
       "      <td>10200.0</td>\n",
       "    </tr>\n",
       "    <tr>\n",
       "      <th>3</th>\n",
       "      <td>Salt Lake</td>\n",
       "      <td>11</td>\n",
       "      <td>11</td>\n",
       "      <td>2012</td>\n",
       "      <td>Skier</td>\n",
       "      <td>New Snow</td>\n",
       "      <td>18.0</td>\n",
       "      <td>6000.0</td>\n",
       "      <td>Southeast</td>\n",
       "      <td>10200.0</td>\n",
       "    </tr>\n",
       "    <tr>\n",
       "      <th>4</th>\n",
       "      <td>Salt Lake</td>\n",
       "      <td>11</td>\n",
       "      <td>11</td>\n",
       "      <td>2012</td>\n",
       "      <td>Skier</td>\n",
       "      <td>Facets</td>\n",
       "      <td>42.0</td>\n",
       "      <td>9600.0</td>\n",
       "      <td>North</td>\n",
       "      <td>10400.0</td>\n",
       "    </tr>\n",
       "  </tbody>\n",
       "</table>\n",
       "</div>"
      ],
      "text/plain": [
       "      Region  Month  Day  Year      Trigger                   Weak Layer  \\\n",
       "0  Salt Lake     11    9  2012  Snowboarder  New Snow/Old Snow Interface   \n",
       "1  Salt Lake     11   11  2012        Skier  New Snow/Old Snow Interface   \n",
       "2  Salt Lake     11   11  2012        Skier                       Facets   \n",
       "3  Salt Lake     11   11  2012        Skier                     New Snow   \n",
       "4  Salt Lake     11   11  2012        Skier                       Facets   \n",
       "\n",
       "   Depth_inches  Vertical_inches     Aspect  Elevation_feet  \n",
       "0          14.0            360.0      North         10400.0  \n",
       "1          30.0           1200.0      North          9700.0  \n",
       "2          36.0           5400.0      North         10200.0  \n",
       "3          18.0           6000.0  Southeast         10200.0  \n",
       "4          42.0           9600.0      North         10400.0  "
      ]
     },
     "execution_count": 11,
     "metadata": {},
     "output_type": "execute_result"
    }
   ],
   "source": [
    "df_task_1c.head()"
   ]
  },
  {
   "cell_type": "markdown",
   "id": "753ed0a8-dc0b-4ac8-8afd-b554ea8f4d28",
   "metadata": {},
   "source": [
    "# Task 2: Filtering data\n",
    "\n",
    "In Task 2, we further improve our data by removing outliers and removing certain records to have more consistent data. "
   ]
  },
  {
   "cell_type": "markdown",
   "id": "7f25d8f5-98e8-4b0f-9358-ed85f77cbed8",
   "metadata": {},
   "source": [
    "## **Task 2a: Remove Outliers**"
   ]
  },
  {
   "cell_type": "markdown",
   "id": "ac53a605-2d10-4457-9625-70ce88f04f3b",
   "metadata": {},
   "source": [
    "In this task, we address data accuracy by filtering out anomalies in the elevation data. We observe some records with elevations outside the plausible range for Utah, suggesting recording errors.\n",
    "\n",
    "**Remove avalanche records with elevations below ~4,000 feet and above ~15,000 feet, which are outside the realistic range for Utah.**"
   ]
  },
  {
   "cell_type": "markdown",
   "id": "664c641e-1193-4233-8897-0161f209c86f",
   "metadata": {},
   "source": [
    "#### **Instructions**\n",
    "1. **Identify and Remove Anomalies:**\n",
    "    - Interactively select data points with elevations below ~4,000 feet or above ~15,000 feet in the Persist Scatterplot.\n",
    "    - Use Persist's interactive features to remove these anomalous records.\n",
    "2. **Verify the Output:**\n",
    "    - Print the head of the generated dataframe to verify the changes."
   ]
  },
  {
   "cell_type": "code",
   "execution_count": 12,
   "id": "73d5727a-f059-4bf3-977c-1ce0d6d92eba",
   "metadata": {
    "__GENERATED_DATAFRAMES__": "ᯡࠩ䃬࿀ᜤᠹ悋ᐤ推̅ሣ䧠ⶠ卍捯ᥔᠣ℠▢dʘϔᝠ捌〤瀵摠៨⠠ ",
    "__has_persist_output": true,
    "trrack_graph": "ᯡ࠽䈌ʀ匦㢠⹰໠ᆡᰣ〩䆣ᠡ〫↭æí䘳傹䐡拠⌴扔勫䋳Ὣ㹄倡ᙰ䡣厃扊ⅺ囝፶皽嶛磤ठ͢&怰柿≠ኤР᝽ၐüム湁Ý㮜䀥䒞吠❇ሠ᭤ྠւ䈂燈梌Ւଧ֦ά⊣≑∑摰ᒌ憮Рே埰㣢䴰,㶒₁䫦Ԡ޳ŀ塱嗵⻌㖘▯Χ倥壡ⴭ䉀䍐␤櫤℮汦ڴ䃱ᘠ欱懟厄ᱰؓ欌ᝉ܄⬤ૺ渾㌥᫐ʘ<࿎漸㥆昂Ɍ痓沦ᕴ✲屈┦ţ䡌┤䅢ైਦ䎃䈼฻ᝨ灌㘣ѓ䉘㤿â泯ᯢ⟈悭ϰ病琱ᑺ▫扔≹ᕫ効㙷៫炥ᓬ₰᧱ู䪠ኑ㭍ჩ㉙Ṡ剉䫦╢‣ᕊ⾳┠(q㥨ࡹᘠ㻄Ṗ樠ં┮ஊ嘨᭸⎤㚠ኧ⛴ᡟ䃗ᆡ掟樓䅍䉁ྣ娽簮ᘹ㮌ઠᬃ䁕䯇䐃礢旈⎦哣䌼屡甈ᩙิㆨ㣃ྦᇓ䩔⚤ᇊጘ≳桾嶳䌄䥐尡ɣ჈ᨽæヸืϣ爋ⴰ䝰㓕㚧◱痊㻃Υᜨ凘楖⇆姕䣴ⵓ㖦愦涖維沖䲝ᅙ榖嵶㴼ف䆕䩄ᄚ䳀ࠡ柀ż怯灙垽曅ཋ枘※㋑幀ᘤⅈ ⼤䐨⼱䝀ཋ㒈帤䀡璄䬩`彧繰⥗ᑉ夂ⅈ㗣ℸ⢩䇘㗣憢佡ᆄ≦㑈ୄႬവ⺉Ⴀ悽ᢤᤔ૒炴ਦ呴乇ႜ␦兀ᤨ䢦ਧࣸ⫦ㅀ༨煤㽪䴚䇤Ṇ䳱㣡᫷њৱ媋௵庞彠ڀࡑӁ䜠氱䃀慃%Ëɐᴪᢀ娻朥᭻僥᳨獉啕揉䵚ԁ籌ȸㆾڱ牙᯺缩┈ᩍ⒉嬩䠁㮢Ȥ泓䓌倰Ҩ件扰ᄲ兠䟴Õ㛂⌹䍨窺ᠼ㋆᦬Ê圠䥨Ẃ૮嫵簩Ć綟⠹㲘ౖ晑刡ṉ幪屓Ӆ嚝ᤚⲬΈ洇⸲䩫ᴹ㲿ᴶ押掄⌛怆ʿᱱใ䑴哺ᵒ䫍Ꮕ烔ဃ罘؃ൢ፵℟䓳簲ᢕ橕帒繸㚀恪Ł␾歃笥ћᑱ曀❭ස⼣♔墋涺玜桸䡢ɹ䬪數歚惹ᬡ☨䀺㟩榴Ѻ᧲湸塪浻⩺涣武渳ᭅ⊁啜峱産⪅䀡庈ⵕ残涍▅嵯⸋ᜇ᫗怰昸⎍⋣⩦਻灸柃据慦㕴氀ɀ䋒⑈枢⡔ಫ哘⍣ᶄ⽺㆑Ⴊ砨⋡めዺ劬槻Ն≏䕶⥈䒮⍋㦙⟪ᔰ५⥶䳒㪎䯰淺Թ㜩䕐䚣撋ཝછ佝䈤乻澙⹟戠彸༚㽎篛»䀥ÿ斛ᾛ䄥直嬦焖Ⴅ櫿媤悔ᆒᣔ勦⫠䞧⩝ᰩ䣘ޤ塽紬㨪猕⌐䤕⦿墴䂚ờ䫭篇㞸௟瞼咝瞶ڞ။Ⴔ罱結娛㒥Ⰵ㰓澃儞檧绺栢⯭㱠〻烞䨁ዱࡇᆒ⃬㺟涍㛲綜嬚拍笵ᴵ⼦ᔡ₆䇝⛌᫪憐↘犲 帒ªઞᐲ扔ᫌ෾䍯䦦櫜א戬僎ෲ㙌∧攤礡ࢀᆣᡑÀ㜠悀眨樨フ䚠᰺冁ᮣ䠶̄ᱤ⌢癦ᾧ磮ອ᣼৛١筜䈮ኡ๵ܼഥᲄ晰ᔪ傐ᬐ倯媐㿓঑₆ᄎⲤ฽вḝ䮢掩ጎ⃇ʟఖČৡ撨慂ዂ㩚抍䄸˕㠠طᑽ䛴ញ㡧䂡໱怳ߙ犻密⟕ч⑀塭኉ะ栺粈ਣ׌叐ঁ䀩㊠Ⱖ₴൰䈭・ᅘ⑏ᨆ⹠ᘡゆ⚂ᚂ曬勣䶅叡杓⁎∥ច搈ఫᜁơ嗧㥠໛昱玗㎑汶炾᯦㠷࡜侧嵿Ὶ㕕抠ㄕ㳠ሙ濃湳毘僵悀丩ᢂ୏㤩నҐ⨾ŵ⤣㍪ਿ䘠慼ឨ栓ᆔ੖䰲嫎⛔ࠡρ㘴㞸ސ璫慺ఁ獌䘗氢擈ൄリ尶΄ᢁ恦嘦䁢∘䤰惐࿧䬬ᅲء⺜⒀ቨ㢋ਐ⣢拌૥㇍䜖Რ๥ؼᔦᴊक़Ȩ⇩䯤墕獔歪䒂ĉ⺾ঢ়ᶱ絜ᄦ㩨䙺Ƭ傧䔎ㅕ࿦㔶嵱嵚氐ᛷ涐暬磭攅⋈ီ咴◈⫤撉らⱅ却◗悜܈΁䅸᪍䆢椳㝸揌⟻ᲆ唇㏉⒎瘹䈰‪Ǣ∱〻ᐶ⌤椂撀洸ᗜະ੏䆳㢅⡄扬箁哟స²䥡殅⇼ዋɛ䓔ⓧᲕ乊➼ጄ峝ඌ紺冦С䘭㬎◫⬻䫸㮹㳋඙✮禾㈒湛撞⟮纑瘙㈆溠帥䃚㕡㇃䅴䕴っᄟ兪狅帰၃ῖ嘊䰢᪤䍕㳷㕨⬊׊烴念㓉౦䮊⚾䂢宦⋸ἆ瓿䖎ⲧ᭬᪖崮徆೪悯ⴵ䘨媬䷽ඔ秘┎䬘瑕⊝ᵁ缄垥ੳ䩴寣ࢎᬟ媮䊪㛑煍绎ᷲ㐻䍆恫止䙢ᛀᣦő儮紿梅ग़扉⋪׳䁐Ťᒒ℀Ⴓ㌒݌䨬┅䰄粪嬝ᵧ᭙ຸ埧ᣔユ敽჊垭๓⪩嗦疔爵Ƥ᫤р毥⶙ॡ㗝䂍凖᧓㖩Ⲗ棈čᠥ润Ẑ峢⇢曕歬ⱈ㤧䗶橫ᓖ䭝刻祜᪵䝰ჹ䧦䊊⚱᭭山䷒㖺㧁梴惕⩧とᥩ塲梉䳢āី䐰怸᫁๰䣆檧恦ۀ科䂸໅䰧ü濗⚋䏚孯᫮伕⭶ⲝᱠ͈㌽㧵㙢甌匋᜵敽炠沇᭽箪状ᾕ佁癞樌眫溜⯰ṿ᥺矍ㄞ⠾䂰ᚠػ̙甝䡿┼Უ㏩䯔穤␨䨸Ẅ傇℀ᐣ,懅⩜◨ᤲ㈑䃀ء䀢≄䘢㆒匇ᙍ暌⏮熣䒊慑㢽ⵆ絹熮ձ愸櫀ᒎࡘ氶ᓹ倹夀㧐宴Ӗ碹ថƾ䄤䂭犊ன崷ロ⣓㽖䰺⾶湽圆ᯫᛷ⎔⹶㻜嚭⚫ᕎ悫≠嫞䇣㵨筁忠痤➱㸋墺凔㑒䒺϶࿛䒕ਵ崺䮤༼升坼᭎⌎ⱖ繼ᗤ徍曺䮞康ጾ㪫垇癪癭摭᳭滼⟗ᢛ剝欠穏ᐌ㯙瞗⾓㺋欜∄߃瀒愙穁璭∖⫣笭ᯭᤦめٰ晇į彑⸙榏㺲暸敌儿㑽Ᾰ墅琉̹㼩⇜付㷜㮵笱䒟䋬劯⸾瞘ᓓ指♐㻹⚡⺤⫮࡬拠̻ࡂᲢ⟩⨞䰓慈İ䂮⧏㧞⩯簻ə嚽⣯➋খঽ癎唢㍘孴⓮煎㤥䞼䠥䂋招弜㗉瞋ㄛ䗅⇠༺ħ剌崢䡂ʅ嗠ᠾ睞䍶ܢ㐧䄒怰㞡ဌ⃰禰⣼懁൭⍋ۍ櫮㉫ℐᾩ涇噸兕凨碈▚嬋ྨ䋅欻㥧囅ᇄ瞒榛ર尠⬼捈᡹ᅈ恓ᡖ嘡䐤‾ᎀਡ⋡ࡌg忕ᶬ坑始䂰按圩㮋册笊字᪇冕ண㭶çᦠⅨ⾍桼娍☊祻䩷䈄徃⽒秷䐅ญ禆碠н࿆Ɇ䍯ਨ币Յ燣䲝簂抏笟䇘瀎ⅵ窉䎝䂋䩥܏厤㤱ᆄ㭐嗠栭⠫䎼ˬ䰬⑄䄫匽䨦ᦂ˶侨䴰ᘰ稴㱬䰂䝭窠ޣ瑂ࠡݿᑉㅯ㊆宨㊬䊍Ⴁ㊙ᾩဋ䁋发䔵Ᲊ䕹砹जਹ告儬㞃唷䈩窏尔श͆刈ᬬᵢᤕྭ㖄ᨢ᪭౔梂,ᠽᥩ伺炉ᮀ傴᭩碩̱䠃⒇磃卨䔉匳⍙䔈ᡀ⬵犕䞤ᎂⲆ捕ᤌ‹朰ᾐ㉣᪈;ڏ⁃Т晆å⡓刢㣭Ĝㅘ䭵䓦煝⨥䊸唢䂋拈□樲₆ƈ➩㨾刦ȸ⩴泊ㄔ➰⻡ᩍ擫笒⬡粳僆Ī⃣娼ㄑ➸㶣૩ඎۜ㞢疁㒘╆䑣溤Ӭ橨⇰⬻Ⴧ㌕䓕♆ⵦ䦤अ搮嶏㥐৐㐨べᎶԄ堪摱䬲ῼᄢ␭寨㊢堳⃷✛弢淄愀碰ⱜច例堼审䩊恧夎䡂Զ⽰䟼夕淤祦竜婂จṘ䞗ᅂཌ䤗䂗䚙椳ݬ䟐壃ᣈ㽚䗸Օ妨氦0ႈ㐥䁨家ᙙ㺽栭ၖ૕砯䡿玲㧭ᒴ啦㫲⵵璳玖㡀▲ۂ䃤ɐᴢ亲甍ई㙸ẵ瓮䮀࿲什೔Ħ㉳䒯㽽旚ℒ䌄㲿⚾⋬䮁㲳䮵壼ఈ瀽⎻䝱ᜂᢋ㭺⮝㸨眡孛寙ሃ⥎┒㍢断僡⠈⑲檹Ⱙ⟘⬍Ḳ䲼℀࿤ᦸࢲ箆⑂ᘇ䲠⡤⣓ះ湲搣怄⸊ݩ珗刲疾綈㡃ᇒ⯭䤟欉ἲ䐍᪙篑㐜ᐋ拥箼㾂䌺ὁᒑ⬴㒢ᅂ䘏䉫┳厍箚ᑫ焆弶ዖ㛈‭栶ǀ҅尬‾ψ喱瞃坌ˈ嬫愬ゆɰÍ㤊㣼⑩⽃᪭㤠Ѡࠢ㔁⒥⧮⚲癈崏᧓帣䲰க断̠璠繫ʖᬸ㹵獶㧠⦳纍做䐞ῡᮈ璻枆ྒྷ溰粦̾㟳琯瓷晾㄀䀠 "
   },
   "outputs": [
    {
     "data": {
      "application/vnd.jupyter.widget-view+json": {
       "model_id": "13c9a4e1c3f74bb28d908239136a25e9",
       "version_major": 2,
       "version_minor": 0
      },
      "text/plain": [
       "PersistWidget(data_values=[{'__id_column': '1', 'Region': 'Salt Lake', 'Month': 11, 'Day': 9, 'Year': 2012, 'T…"
      ]
     },
     "execution_count": 12,
     "metadata": {},
     "output_type": "execute_result"
    }
   ],
   "source": [
    "PR.plot.scatterplot(df_task_1c, \"Elevation_feet:Q\", \"Vertical_inches:Q\", df_name=\"df_task_2a\")"
   ]
  },
  {
   "cell_type": "code",
   "execution_count": 15,
   "id": "9a43375a-ce6c-4d59-ad15-3bc46a17f45f",
   "metadata": {},
   "outputs": [
    {
     "data": {
      "text/html": [
       "<div>\n",
       "<style scoped>\n",
       "    .dataframe tbody tr th:only-of-type {\n",
       "        vertical-align: middle;\n",
       "    }\n",
       "\n",
       "    .dataframe tbody tr th {\n",
       "        vertical-align: top;\n",
       "    }\n",
       "\n",
       "    .dataframe thead th {\n",
       "        text-align: right;\n",
       "    }\n",
       "</style>\n",
       "<table border=\"1\" class=\"dataframe\">\n",
       "  <thead>\n",
       "    <tr style=\"text-align: right;\">\n",
       "      <th></th>\n",
       "      <th>Region</th>\n",
       "      <th>Month</th>\n",
       "      <th>Day</th>\n",
       "      <th>Year</th>\n",
       "      <th>Trigger</th>\n",
       "      <th>Weak Layer</th>\n",
       "      <th>Depth_inches</th>\n",
       "      <th>Vertical_inches</th>\n",
       "      <th>Aspect</th>\n",
       "      <th>Elevation_feet</th>\n",
       "    </tr>\n",
       "  </thead>\n",
       "  <tbody>\n",
       "    <tr>\n",
       "      <th>0</th>\n",
       "      <td>Salt Lake</td>\n",
       "      <td>11</td>\n",
       "      <td>9</td>\n",
       "      <td>2012</td>\n",
       "      <td>Snowboarder</td>\n",
       "      <td>New Snow/Old Snow Interface</td>\n",
       "      <td>14</td>\n",
       "      <td>360.0</td>\n",
       "      <td>North</td>\n",
       "      <td>10400.0</td>\n",
       "    </tr>\n",
       "    <tr>\n",
       "      <th>1</th>\n",
       "      <td>Salt Lake</td>\n",
       "      <td>11</td>\n",
       "      <td>11</td>\n",
       "      <td>2012</td>\n",
       "      <td>Skier</td>\n",
       "      <td>New Snow/Old Snow Interface</td>\n",
       "      <td>30</td>\n",
       "      <td>1200.0</td>\n",
       "      <td>North</td>\n",
       "      <td>9700.0</td>\n",
       "    </tr>\n",
       "    <tr>\n",
       "      <th>2</th>\n",
       "      <td>Salt Lake</td>\n",
       "      <td>11</td>\n",
       "      <td>11</td>\n",
       "      <td>2012</td>\n",
       "      <td>Skier</td>\n",
       "      <td>Facets</td>\n",
       "      <td>36</td>\n",
       "      <td>5400.0</td>\n",
       "      <td>North</td>\n",
       "      <td>10200.0</td>\n",
       "    </tr>\n",
       "    <tr>\n",
       "      <th>3</th>\n",
       "      <td>Salt Lake</td>\n",
       "      <td>11</td>\n",
       "      <td>11</td>\n",
       "      <td>2012</td>\n",
       "      <td>Skier</td>\n",
       "      <td>New Snow</td>\n",
       "      <td>18</td>\n",
       "      <td>6000.0</td>\n",
       "      <td>Southeast</td>\n",
       "      <td>10200.0</td>\n",
       "    </tr>\n",
       "    <tr>\n",
       "      <th>4</th>\n",
       "      <td>Salt Lake</td>\n",
       "      <td>11</td>\n",
       "      <td>11</td>\n",
       "      <td>2012</td>\n",
       "      <td>Skier</td>\n",
       "      <td>Facets</td>\n",
       "      <td>42</td>\n",
       "      <td>9600.0</td>\n",
       "      <td>North</td>\n",
       "      <td>10400.0</td>\n",
       "    </tr>\n",
       "  </tbody>\n",
       "</table>\n",
       "</div>"
      ],
      "text/plain": [
       "      Region  Month  Day  Year      Trigger                   Weak Layer  \\\n",
       "0  Salt Lake     11    9  2012  Snowboarder  New Snow/Old Snow Interface   \n",
       "1  Salt Lake     11   11  2012        Skier  New Snow/Old Snow Interface   \n",
       "2  Salt Lake     11   11  2012        Skier                       Facets   \n",
       "3  Salt Lake     11   11  2012        Skier                     New Snow   \n",
       "4  Salt Lake     11   11  2012        Skier                       Facets   \n",
       "\n",
       "   Depth_inches  Vertical_inches     Aspect  Elevation_feet  \n",
       "0            14            360.0      North         10400.0  \n",
       "1            30           1200.0      North          9700.0  \n",
       "2            36           5400.0      North         10200.0  \n",
       "3            18           6000.0  Southeast         10200.0  \n",
       "4            42           9600.0      North         10400.0  "
      ]
     },
     "execution_count": 15,
     "metadata": {},
     "output_type": "execute_result"
    }
   ],
   "source": [
    "df_task_2a.head()"
   ]
  },
  {
   "cell_type": "markdown",
   "id": "b447b862-90c6-4ed7-b48b-baa1cf74ac2d",
   "metadata": {
    "__GENERATED_DATAFRAMES__": "{\"nodeDataframes\":{},\"graphDataframes\":null}",
    "show_aggregate_original": "false",
    "trrack_graph": "ᯡ࠽䈌ʀ匦㢠⹰࣠✴ƀචآ൐ୠᣠ⭎¸䚀ᶥ<⋵攴≲䦆ᨐ҅䁲䥈kᑄᄈ夒ર囇⣹嗛➎帣ᢤ䀡傠Ǘ熠㥀ॢȠா䠸ᢀ㜰䁾巒•橀樠Ꮃ䤠ව׷核ᱬ䣘紲₞૦Ԡ޳ŀ凐栠晬╍ಲ䖽䂇栢沀團ᄰ㸸ሪ喊Ⴇ♁䐔粶ᦞΎ刺ࠥ簉窺簲ᖢොሧ҉䃵ⰡḠޅ毗䘤䗾墥୚渍磆搰㣄䆯䌭䊣ᎄ䢩妈䪑䴹ҩ䋫◂რ⢒ઉ⃁⽌囦媍ኘ垤䢠䍤⒂Йᘷ੡䄀҂Ქ⃱琿啡憐㲞ၯ䌨焠ᗿ搫໎㒫ல熪Ņ⎃ऺᥛ⃄ᅠ  "
   },
   "source": [
    "## **Task 2b: Filtering Out Old Data**"
   ]
  },
  {
   "cell_type": "markdown",
   "id": "c86b30d4-4762-4bc0-bfd3-6f1486b55ad6",
   "metadata": {
    "__GENERATED_DATAFRAMES__": "{\"nodeDataframes\":{},\"graphDataframes\":null}",
    "show_aggregate_original": "false",
    "trrack_graph": "ᯡ࠽䈌ʀ匦㢠⹰࣠✴ƀචآ൐ୠᣠ⭎¸䚀ᶥ<⋵攴≲䦆ᨐ҅䁲䥈kᑄᄈ夒ર囇⣹嗛➎帣ᢤ䀡傠Ǘ熠㥀ॢȠா䠸ᢀ㜰䁾巒•橀樠Ꮃ䤠ව׷核ᱬ䣘紲₞૦Ԡ޳ŀ凐栠晬╍ಲ䖽䂇栢沀團ᄰ㸸ሪ喊Ⴇ♁䐔粶ᦞΎ刺ࠥ簉窺簲ᖢොሧ҉䃵ⰡḠޅ毗䘤䗾墥୚渍磆搰㣄䆯䌭䊣ᎄ䢩妈䪑䴹ҩ䋫◂რ⢒ઉ⃁⽌囦媍ኘ垤䢠䍤⒂Йᘷ੡䄀҂Ქ⃱琿啡憐㲞ၯ䌨焠ᗿ搫໎㒫ல熪Ņ⎃ऺᥛ⃄ᅠ  "
   },
   "source": [
    "The interactive barchart below, shows the data aggregated by year. There are noticeably fewer records for the years before 2010.\n",
    "\n",
    "During this subtask we will remove the older records, keeping only the records for year 2010 and above"
   ]
  },
  {
   "cell_type": "markdown",
   "id": "24b308e8-8437-4146-9ebf-cd121aeb7f9f",
   "metadata": {},
   "source": [
    "#### **Instructions**\n",
    "1. **Analyze the Bar Chart:**\n",
    "    - Identify the bars that show significantly less data.\n",
    "2. **Filter Year:**\n",
    "    - Select and remove the years with few records.\n",
    "3. **Verify the Output:**\n",
    "    - Print the head of the generated dataframe to verify the changes."
   ]
  },
  {
   "cell_type": "code",
   "execution_count": 16,
   "id": "6488acb7-e239-4d7e-92ef-3e9d74c3d823",
   "metadata": {
    "__GENERATED_DATAFRAMES__": "ᯡࠩ䃬࿀ᜤᠹ悋ᐤ怱䐢犲ǩ怶恉宑召䵬ð䀲悠ᄡḡ沯偑嬸Ř˛ࠥ笪  ",
    "__has_persist_output": true,
    "trrack_graph": "ᯡ࠽䈌ʀ匦㢠⹰໠ጡᰦ〰恖๐׀ಀᖦ।Ɔ嚹≐ǠƠᦱĸ妀ٜ࣪ᑄ䱑奅)㊤䈽᭞ⅲੵ㘊᫐眇恈⑸䠠ᨰV᳜の搢⡠䀢牒̠෦ృ戰嬮乨z⑬倠➗ሠ᭤֧䆅䆁‸ᡰ㱆ൕᅈ䫢䃢燐冘㦈ᐢᘫРௌㅕ㩹ၹ䙄ゼ㶬ਠཆɤ烀塹㶘乆᥆༸怫ㆧ夀①㢀䢉緄䈫墡ૉ̑氡圃ᰰ伄⋀ఌぞⷐ灩瘨痭尲昶㾀Ԑ[Ờƴḗ䑄䈂㡼ᰵ䲡Ǆ太ۡ䆤主ൢၰᰪʡ兘䲦ڢ䃐∴ڤ焤మɑაళ䜔綄⚬˶㱮䚑䌳䒀Ҳ⊳█䳖⮷䈪⊩⎣ᖆ䡷䋯䕑亚⏯甙糁▪੥櫙䝲砠敫ኪ楠\"3❩ԕ%ധ歰笛ȧ呺Ⱜ)⊒橠垮۴溞⁸ጩ噱ाขな㲭ࣨ塴᢭࢘͡ᐪŀ灌㴵䔁債ㆽ灛岾Ჳנࣤ㤲䝫哬㬫䈃碢ゴ✲᫭⻓圊笝ଯFⶄӪㆻ䈓⋥养綻㛢ϸ๧㷬玸䊷㗶癛ಐ㒦\"䓸ᡭ枕Àࡒ爠ż悝礋ṝ璷䐅碡娛LڣᅰȮ竨憗䳢⍜妶快ဠ㴵ᘜ ᅐ䟍焔㔷卙⿛猑ῗ産瞠଑ᙑ悄න㰫ʁ吳؀䰴ά搲㇀ᠦѤ䰩H䢪ȹ尫ش塒ᄠ灨Ν㈮l乊ਣ墈ਲ਼㌱偙ᅝ囁ٝ刍皸柔⡔䰈䰲䢕❇༂幏র翝䍢⁀ଠ㡄抜ၴഔ㚨℃ٜਂ粎俳悠慉䧣歈ŝሾ㊐汄䓐倽悩‿䠫㈸䫓ൟ䐽檨 Ẵ䜕䤋䎬汢⡈䒲㕭䦝ṫ璪㻱⨖䌠哇ᔁ奼Å䴖⼗繠㞡ѧ丧砠ὤי寰૔Ⴜۅ⣗琜⻚惠焫揨䋩₶售䅄䴪夈嫿⎨姦凘び䋮䃭䌦扸䆦ᨪɦ䘭䃦㣡᥆ᓬ䇆೼পါ㔍僳Φ䏊ᢽ壾ᩆ擵ᣐ瓩憸ବ஘ᠼだ㜿⭡ᵭ刊潄ీ挵樆㽄掕潨ኤ炾爞㽯ᡪ㙪⫄ᥡ䌒㲠⥊劼剖㩹姌ếᒖɸ刀ష孬妰㡘懵㈾燲㨼珼珮䤪焎䏵㫠䷻㥎灬禃援砾᧥㥜毺䦘篱禁柣晵࿤ඣᑎ埁ۉ囕盃╵ゴෘ繈氹杕摻㶚渻㵈Թፉ湁綆汙䅔ँ⾄Ł段湙盋ⶹ夹ໃ℄ᴞ宍濁䱌Ч寳䀰樹䆴∢樦ᨬ䍢∧̴丱䂖´䭰丰䭹孋⓵ŝՠ䤬ჼᇣ囨ࠨ穘Ꮃㄜሯ瀢༸㚭糡ℶ攴姈姒守᫯⏶歔拴ねŒ愎戆燑⌶ᔬ嫯ⴺ嬈㫠扔⏤ᄃᩨᢦ㷙琽⏚ᢝ珛畽心ᢼ† "
   },
   "outputs": [
    {
     "data": {
      "application/vnd.jupyter.widget-view+json": {
       "model_id": "c301c0be515141978baf5184976c488b",
       "version_major": 2,
       "version_minor": 0
      },
      "text/plain": [
       "PersistWidget(data_values=[{'__id_column': '1', 'Region': 'Salt Lake', 'Month': 11, 'Day': 9, 'Year': 2012, 'T…"
      ]
     },
     "execution_count": 16,
     "metadata": {},
     "output_type": "execute_result"
    }
   ],
   "source": [
    "PR.plot.barchart(df_task_2a, \"Year:O\", \"count()\", selection_type=\"interval\", df_name=\"df_task_2b\")"
   ]
  },
  {
   "cell_type": "code",
   "execution_count": 17,
   "id": "733d3ac0-6523-4d95-a294-7c3dbbec9ec1",
   "metadata": {},
   "outputs": [
    {
     "data": {
      "text/html": [
       "<div>\n",
       "<style scoped>\n",
       "    .dataframe tbody tr th:only-of-type {\n",
       "        vertical-align: middle;\n",
       "    }\n",
       "\n",
       "    .dataframe tbody tr th {\n",
       "        vertical-align: top;\n",
       "    }\n",
       "\n",
       "    .dataframe thead th {\n",
       "        text-align: right;\n",
       "    }\n",
       "</style>\n",
       "<table border=\"1\" class=\"dataframe\">\n",
       "  <thead>\n",
       "    <tr style=\"text-align: right;\">\n",
       "      <th></th>\n",
       "      <th>Region</th>\n",
       "      <th>Month</th>\n",
       "      <th>Day</th>\n",
       "      <th>Year</th>\n",
       "      <th>Trigger</th>\n",
       "      <th>Weak Layer</th>\n",
       "      <th>Depth_inches</th>\n",
       "      <th>Vertical_inches</th>\n",
       "      <th>Aspect</th>\n",
       "      <th>Elevation_feet</th>\n",
       "    </tr>\n",
       "  </thead>\n",
       "  <tbody>\n",
       "    <tr>\n",
       "      <th>0</th>\n",
       "      <td>Salt Lake</td>\n",
       "      <td>11</td>\n",
       "      <td>9</td>\n",
       "      <td>2012</td>\n",
       "      <td>Snowboarder</td>\n",
       "      <td>New Snow/Old Snow Interface</td>\n",
       "      <td>14</td>\n",
       "      <td>360</td>\n",
       "      <td>North</td>\n",
       "      <td>10400</td>\n",
       "    </tr>\n",
       "    <tr>\n",
       "      <th>1</th>\n",
       "      <td>Salt Lake</td>\n",
       "      <td>11</td>\n",
       "      <td>11</td>\n",
       "      <td>2012</td>\n",
       "      <td>Skier</td>\n",
       "      <td>New Snow/Old Snow Interface</td>\n",
       "      <td>30</td>\n",
       "      <td>1200</td>\n",
       "      <td>North</td>\n",
       "      <td>9700</td>\n",
       "    </tr>\n",
       "    <tr>\n",
       "      <th>2</th>\n",
       "      <td>Salt Lake</td>\n",
       "      <td>11</td>\n",
       "      <td>11</td>\n",
       "      <td>2012</td>\n",
       "      <td>Skier</td>\n",
       "      <td>Facets</td>\n",
       "      <td>36</td>\n",
       "      <td>5400</td>\n",
       "      <td>North</td>\n",
       "      <td>10200</td>\n",
       "    </tr>\n",
       "    <tr>\n",
       "      <th>3</th>\n",
       "      <td>Salt Lake</td>\n",
       "      <td>11</td>\n",
       "      <td>11</td>\n",
       "      <td>2012</td>\n",
       "      <td>Skier</td>\n",
       "      <td>New Snow</td>\n",
       "      <td>18</td>\n",
       "      <td>6000</td>\n",
       "      <td>Southeast</td>\n",
       "      <td>10200</td>\n",
       "    </tr>\n",
       "    <tr>\n",
       "      <th>4</th>\n",
       "      <td>Salt Lake</td>\n",
       "      <td>11</td>\n",
       "      <td>11</td>\n",
       "      <td>2012</td>\n",
       "      <td>Skier</td>\n",
       "      <td>Facets</td>\n",
       "      <td>42</td>\n",
       "      <td>9600</td>\n",
       "      <td>North</td>\n",
       "      <td>10400</td>\n",
       "    </tr>\n",
       "  </tbody>\n",
       "</table>\n",
       "</div>"
      ],
      "text/plain": [
       "      Region  Month  Day  Year      Trigger                   Weak Layer  \\\n",
       "0  Salt Lake     11    9  2012  Snowboarder  New Snow/Old Snow Interface   \n",
       "1  Salt Lake     11   11  2012        Skier  New Snow/Old Snow Interface   \n",
       "2  Salt Lake     11   11  2012        Skier                       Facets   \n",
       "3  Salt Lake     11   11  2012        Skier                     New Snow   \n",
       "4  Salt Lake     11   11  2012        Skier                       Facets   \n",
       "\n",
       "   Depth_inches  Vertical_inches     Aspect  Elevation_feet  \n",
       "0            14              360      North           10400  \n",
       "1            30             1200      North            9700  \n",
       "2            36             5400      North           10200  \n",
       "3            18             6000  Southeast           10200  \n",
       "4            42             9600      North           10400  "
      ]
     },
     "execution_count": 17,
     "metadata": {},
     "output_type": "execute_result"
    }
   ],
   "source": [
    "df_task_2b.head()"
   ]
  },
  {
   "cell_type": "markdown",
   "id": "8a92b8a9-c3a8-4a57-be3b-c9cdc977092c",
   "metadata": {
    "__GENERATED_DATAFRAMES__": "{\"nodeDataframes\":{},\"graphDataframes\":null}",
    "show_aggregate_original": "false",
    "trrack_graph": "ᯡ࠽䈌ʀ匦㢠⹰ೠ⬠沈֭⠸恍ff9昽䁮ۦ࠰汬നڀপ㈏䣹厠㬦ተ¶⡨⇱㌀ᅁ╶庳ୖ⹜簧ଭࠣ℠Έ橦औ䁅ШNႦ〡岁䏼ℭ㞁摞+㢱䨠Ԋ牠Έƕ٦枓቙ჿਸ旑䅠Ȅ恨戬പᎭె䝁净儬Ö᡻⌸䐱䘩׍宨⇓ࡱ䍲ච᫲壬จ䙤Ɲڣ圖⍞ᛡ৽ण䃔戋㘠传ϊ揿振䘌汣䓼㹮䘫㈨ቺ⩯↧ᄨXഉ⠅ㅖࢢ侸⇄僡ಖࡢҁ氣С宍劄倶䢡⍤㲂̤㚗٩䄀硂಩⍰琦ᦪ悑屾ᾨႨ㺜*瘪䋇޶⋤ᓘ犠䭳঺᥇⏰ᅠ  "
   },
   "source": [
    "## Task 3: Data Wrangling"
   ]
  },
  {
   "cell_type": "markdown",
   "id": "9da80393-7f4b-4115-a4d1-5b7978e11358",
   "metadata": {
    "__GENERATED_DATAFRAMES__": "{\"nodeDataframes\":{},\"graphDataframes\":null}",
    "show_aggregate_original": "false",
    "trrack_graph": "ᯡ࠽䈌ʀ匦㢠⹰â䂬ƀᶷ琶䁋c<搔怳ଚ䠳亡䈤㉕⁖ì⺇⊨攩ᐠ▨戰㑹㧒妰囇⃹喧㝞Ţ∠桠ûு䁔䈠ॢȠந㺸ᢀ盅⻿夣•晀樠Ԃ牠Έƕ稦❳ሪὦ䰼⇑䅠Ȅ恨㙎⌯᪴䶹䈁ℓ琡㙐ᮂ⢨᢬थ⧓ࡢ㌰ሚ璋U䳘䠵欯Т縔絭Sㄭۡ۹ण䉔悊㘠传ϒ橷挣⌏ⱡ䕼庮打㈨ɼ榨慢䃂॑瑐繦┭ڼ㾬⎂厃焸牘榥ᄨ䦯ඦ嘔㗆溄⒀擒摖≦၀ⶃ㧄మޢᄴ䩍རへ∦䯧焤愷䍠Žƀ夅შ㤙༾′⪂㵩掳婊⢄  "
   },
   "source": [
    "### **Task 3a: Creating and assigning 'Avalanche Season'**"
   ]
  },
  {
   "cell_type": "markdown",
   "id": "402412ae-3b84-4fec-9c01-94dd203a7b1f",
   "metadata": {
    "__GENERATED_DATAFRAMES__": "{\"nodeDataframes\":{},\"graphDataframes\":null}",
    "show_aggregate_original": "false",
    "trrack_graph": "ᯡ࠽䈌ʀ匦㢠⹰â䂬ƀᶷ琶䁋c<搔怳ଚ䠳亡䈤㉕⁖ì⺇⊨攩ᐠ▨戰㑹㧒妰囇⃹喧㝞Ţ∠桠ûு䁔䈠ॢȠந㺸ᢀ盅⻿夣•晀樠Ԃ牠Έƕ稦❳ሪὦ䰼⇑䅠Ȅ恨㙎⌯᪴䶹䈁ℓ琡㙐ᮂ⢨᢬थ⧓ࡢ㌰ሚ璋U䳘䠵欯Т縔絭Sㄭۡ۹ण䉔悊㘠传ϒ橷挣⌏ⱡ䕼庮打㈨ɼ榨慢䃂॑瑐繦┭ڼ㾬⎂厃焸牘榥ᄨ䦯ඦ嘔㗆溄⒀擒摖≦၀ⶃ㧄మޢᄴ䩍རへ∦䯧焤愷䍠Žƀ夅შ㤙༾′⪂㵩掳婊⢄  "
   },
   "source": [
    "Next, we'll introduce a new categorical variable named `Avalanche Season` into our dataset. This addition aims to classify each avalanche record into different parts of the avalanche season (Start, Middle, End) based on the month it occurred in.\n",
    "\n",
    "Create a new category `Avalanche Season` in the dataset and assign each record to `Start`, `Middle`, or `End` of the avalanche season based on its month."
   ]
  },
  {
   "cell_type": "markdown",
   "id": "86d54d80-ef52-4630-bffb-1e04d9320384",
   "metadata": {},
   "source": [
    "#### **Instructions**\n",
    "1. **Define Season Categories:**\n",
    "    - Based on typical avalanche seasons in Utah, create a new category called `Avalanche Season`.\n",
    "    - Add three options for this category -- `Start`, `Middle`, `End`.\n",
    "2. **Interactive Category Assignment:**\n",
    "    - Use Persist's interactive features to select each month and assign it to one of the `Avalanche Season` values (Start, Middle, End).\n",
    "    - You should use the following ranges for assigning proper categories:\n",
    "        - `Start` of Season for _October_, _November_, _December_\n",
    "    \t- `Middle` of Season for _January_, _February_, _March_\n",
    "    \t- `End` of Season for _April, May_, _June_\n",
    "3. **Verify the Output:**\n",
    "    - Print the head of the generated dataframe to verify the changes."
   ]
  },
  {
   "cell_type": "code",
   "execution_count": 18,
   "id": "63b62f4c-8841-4f6c-8011-cb2ee31c2c7b",
   "metadata": {
    "__GENERATED_DATAFRAMES__": "ᯡࠩ䃬࿀ᜤᠹ悋ᐬ推̅ሣ䧠ⶠ卍捯ᥔᠣ℠▢dʘϔᝠ捌〤瀵摠៨⠠ ",
    "__has_persist_output": true,
    "trrack_graph": "ᯡ࠽䈌ʀ匦㢠⹰۠ㆠ䰢ᠵ䆠墀୥䬠᱉࿿Ř䐨㛇ᅰ珍ì編ࣧ◬䥈kᑄᄉ夒ࢷᓍ⽩䖻ގ庄ʤ䀡傠ǔ㋣′䈤7Ằᠠ湐憎Ⴄ姗㚠˴⃴3姩-埖冒ᣰ,噔ᘪᢶ䴵慁⍥₨簸఺⌠䀽䣭ૠ䠢瘔ڮ卄㒞䴨ᣭㆢ䀣擠䢜̈璗┣ʧ␱搈ƌヶ䘱ࡃలढ़㔰䂖ၢᕀⱋU咑䀵崫ᐢ縔箫㳔㖢ᖝ㜠妦佸Ŝ.ߗྫྷഫ㌑Ա㧸๦೬䂡扩Ã⃠Քྣ␀䑂䃀⥰粖ࢧ₀側䨡䀩ͦ༭懰皇三ၔう䈄㫳稸Ʌ૤䒘充⃰⥔䍅䤄祢壊⭭惗ƿ䉤ㅘ䅄䢓⤤宽䬅祚ࣂ⡩ᖃۆ瀡ɰᐠC[佶䍲Рኙ甠㤶吪ᣠ侾倦⥲炅囷㍴¯䋵㕜广ῤ࣌愺ذ≐ᢂڥ䂀桊ᆣಂ瑌ĸ懰ぞ಩䖰᳌ᩂό⽝姪煩᡼¬⊰ᑊᚠ捑硶ᶩ愑籡ᡯ⩕䵖䖅椔紬ອࡰ瑑䊅᪣㎙䧄宧歭䈣娌ܻ䔃ᠥ杈䬈㰈炑ؠʨ桰旺甡‰Ȅ\"峠ᰁ旛巉䟋漑ë欯䠮͢⠡~⒤ࡾᆦ䀾㺣緜⒠Ȉ撴डໝ猜曓ⓕ嚨Ř䁨ஐ恤੢゜༥稪ଜ⠷ک燓Ҁ䑜Ꮐࣞӂ堦ጀ礦ᐸ琾⇠㐮Ǡ搴懢⁐ಱ౎发䑻䎢篂砜يູ≻䜲檨Π桐ୢƶ࿈㩰㛵໌憕滃Ԕᵍ᝹ὗ昙罕䝐〭ұ刭㎱痂䊌⩋㍰᷆䛱䈶狈丨᐀寄㓡砬㎬ল㒫⦰惬䱖㗭私㙍⃐儡憔㖭瑬⹭熚㓭䥾ム֩♍檩䄤‮埵ک嘣୒揕⻄懽㚾囐၉埲皣嘥䚗䆠溧匔㺳䐔⁚ডᡰ㟈⇀☩⭔溨琹͠倪ǀ䑃䫠籛ᒀ㮗ୀ焹H塜↡㵌㍠◔ཌ厈圵䳋ᚵ᲼哨િᙴʺ䳅咠甉嵏⚩ᒐ琁破璹匼燐௒揜⮺矸⿉懽∥柼㝁癜枥盧埍燦ླ癆歋矘Ῑ᎐㾿獂旣⁬ܢ儱ઉゔ䶳䬼ࣲ媜䱲渳⮳䊒䦸ባ滐峨Ƴᝂ玢⌂ᢆ੷玊杖෱䴞ඇ҄䴆⑺佂ႴƤ根˅࣌㖁砾㖀摋む搤璒಺ǡ朖૓䍭䰘⸣䪒渫䶰疢䒍䨫㎍橇㋱巆屑唨რ宬❻ᮖ添熡淀䝦ᇁ❫᝛ᝩ䇚弰傰Ἲ棺孮毻姾♛秹棚垉㯚喆嗋㪡噔窲嬠皠ַࡰૄ痽㟈憡忊᧮墍ආ㲏劳㋑䶓㡓硫㱑䰢ᶢ璴ء䄋⪧໌ࢃ⵴ଢ烅ᵂὸᣧ巿刌囹㉍昑児ᔸൔ╹䝕ᘅ⑸帯塺᷃ǐ熣ᜣ灎˂భٓ䨠烡㄄䒻ᇎ拃✇⍽擜㯤㳐ྫྷ弰䱠ᨐ䧃炰䕔Ṋ㔤䑉႔欤⫰Ѥ伨䀡௓㻖䮘ሆ〨噏೴ᴥⲥ䐣ߎ兴⛖欶෶㘵ᙒ朥⑹֡ၧ灇φ㬦羋吀噌扈٠␾ᠸÀ〮űנ棎H⾀婿А绾攼姫⬨㯨΂⢆数盡偽䏁űᲰ஡㜲刏Šὃ燱簪㺉䆝㰺糖婁澣碅֑潚Щ悼㺁ၽ柡䃂✚抚たޑ啚刎䛋憫䞈➩秧䟉埔篺ⴑᥑ匠潬帵䅩穣㵣ᦉ䈯⌑㽠嶚ᛱ㩏䂈͡ᤣ᧑Ꭸ刬Ą⃦偌Ҟ㋦ೋ敽槶峓儊ᮡ㮻஑ᜣ୎廥┝䘣ࠨ㥡助㨵ࣀ㰭䍙䞦㸴䛻ຢᮢ䏗ᬧㆺ挃㸯Ṣ૜戾✋٣罒䷿᪦㽍Ք㵗䢰ℨ焺憰⻢㉋䊘㼄ѷ灴䒣ஆ஥ກ懲❃䛭惱Ր灋㋑㐮⩦擺☤㸬ଳٕ壪䜣ᄽ椼㟒壻᠖㬴ฮ᭸乃摃䷧⎿䧧㞮Մߠⷣ楔߳ⱺ⬤䪠䙸栀ӫ傔䌀榰᢬⯡旲⃅♴ڜ圬棩ႅ⵨啵ᥓᗋ獀卄ᷱ⩅惔Ễ྅䚶㵠4㸭ࡽ⏵夠ň፵勼ย䱁Ҕ圕аȈ嵠⤘ਜ抽ࢴ☢⡉ǀ̣梢䋄䙷愑Ó俬▗䜣矎梤䨐擑择Ⰳ䦑ᶋ卤ʡ䔄䆿ℐƪࢋ䶼宼䆨檣ཝ㣱嘆ㆾ獼߯⥜㜙᰺Ԅဪ擯嫿ᧃ⦷燰粴ㄑ㈨冡n«ᱞⴱ匴妻ᯢ璯䄺൥䤬ถ宁㯇⸗✴撞ᑈ堆ᐴՑ⠣兰ੱⅇǂċ京ግᆁ炊Ꭴᐣංᓢ扲ⲿ圶旑墾框㪷̆Ⴉ痚ߠ簥ِᤂ⽤姉ᒵ䭐Ҁ熨ᙿ䚛ъ楠籺哆睩ᷢ婄၅᡺⛂ॸ瘦䅤ᓡ‰皠⬿㇩ޣะ媓䧼#橨惍息˥↊म刻呴ὣ㊬㣧׌悅⑀眭悶$㸃䂏 綃檳⿧㉐1າ⟌嫥沠㯸䲥猗ᜮ圽猎ጽ繾Ტ印灄咄⧕䛸匀ӽ䳩妔構Ƶፖ他㟬䉭檿᦭㣰ୖ搷爵ᬒ屌捄ⴆ䷎橘ɜ獠ḣ┈൑㰧䷷單猚矋樲ᢕ絤捐੐ࠥ勆䛆瓔橍ᢀ䜊Ǩī㙤ਚ措䁓➉羮რ㼲౞ِ纠磅䞺港⩐῅数晊䧉⫕⣵妽唧ᠭ䝔犻⼡䡘燖戨皤㉼紦䇝妣緋ಧ㜂䝡ᬜ攏桠⦽⨺T᭬პ䋁㦕ㅣ⿎丏䅍᧳絓ⅸ㫛䄊䞅䚭əร嬈滣溲籘⍰琮⤒ڄ㣺㈕監䈳˸Ẻ皿䞚檯㋮筵剢䠹⦪㳍ᬫふ碧乿࿶碠ℯ協婂ᾡ丸ᮎ㛽縴㍪Ⳣ景ᙥ羸榳ӂ楚佌ᑒ䇇ṃ⪅普戛囷媥盒断箋ᬅ⫧㎎☼⹋擃埪㱠⩴ྫྷ‴˼滗䒬⏂ΚႦ燩ኬƭ䓻偉塨壣喎ए㶅滶䷿灐溛矘灿㺻ĝ䭀ދё欘篣嶖ⅵ䘧笆峌᫛〫⧝ᶅ㑿㉀挥ᓄƕ㙽⊀థƨ䱓優ᆸ䅁ᾎ㕌汾䛟ᫀ䓕⃩㊻↝ᛓ⭎殁暠愄㛨ৠ洰ᣇ㍑枞珛㖑ṿ㖼ď༁毡另ᵤᬗ⓲㮡⺖䅬幎䌪㍵ᢱ撒ݢ羓攊⊑椗ਈ崦䢌属㫝ટ㾘咍矖什ᩁ䉲䕈ஸ䌲倮ⅸ䆌⸢w瓰ನਢ桄⃿润䊑䆳絠ા傦搪ඔƦ㩧ࣅ൉朤璓冯綿溚㉒懞͟朮滀⏌స椘♔䠫೸瀀乒攫̲⺡œ䱐䵤捎ॕ殱䲄榡㑐憲䱈Ệ䆕䬸ᶔ悆䠐ኸၼઆ獔ࢅ䱙⮂䄂ᯋ䥣䴂佄䜯䡜⬼⼱宸唰pⷡឪㅧʨ଑嬮ǋ挸㬑䚬₻抠ᜓ灀㶨♠化塱ƌᕠ第摃䈮䴁䜓⁓㱰૾Ԓ⟍ⲽ⌊㔐窦Ê柠洗堪祯⌞紗㗁㳚∠⨒灆Ǔ⦰匕䕞ⁱ࣠ށ测㇚԰擃瀬Ƥݖ眒ߌ㒽柶垗㮨淓ാ䧓䞲ࠡ䒒爐䃅ࠤ䡺䧡X悁仺秠⿐痎憢឵⿝涐┖ᾶ䱎緾殖姷㰷泤椦䡷ᦹ籷▮Ⱆ傍ഀ䴰㡇ᄼNᜤతₔ᷑懆牃䅊㴎ᄑ䤰ẵ΄⸞᪔ኾ摝䤡౦䳂䂃¨パ䑟Ⲉຼ⸣怺㢉۪綔狆䎣來厓梀啍撁殐❉䋨ט粬ᑵᑪᲸ⺢ぅ∢፱哱晝⎤̶㜤ቾᆩኸ劫ብ⎈३カ呣⌌Ҁ櫅嫆≳漱甔柊⎝ா䲫ڱ㳢ԢҦ倡㈋瀞©䂱Ĥ䮸穃瀪ÀѴ㍢㘻㴣☁Ἧឰ䄌ᄁ嬑ѣ㵼ἁ怵࿝㐮椢璢㊷Ƈ撢ௐ㲲粎棑ಆⱩᥗ恢燲ጽ煖ጒ涯付ᖟࠖ䎨㇑戩恡碑䁍揎ᮑ༭䇒㡴挹တ槜㌳ᾚᮬ岅⢿樴瓬ό㏞጑㞩♳糳ᬪ侭ᱵ搏⬑碨山൚ஞ⾨槕ᴤ▜ʧᵁ禮䔠硥矓ࢸड瀃ᕌℼ䆌耓㡥䲝䖆摭姖䌙⤆玐ᢋ䱥⊁䵣倶熅አ祩洬㒵᫸ᕫ⩮䒈৉浨晎合ਁ巯溂劸䒂咥Ṧ動Ꮙ昡幢㰠౅⡝䍵千த歔䐺⽜劻䣃办䨡礣䑣ઈ䅑㊩恚ႍᙄ厏乾Дὲ卨擂䔰ҳᅦ撪❴⮲㒳擽娬㰤杉¶Ǵʃ厣㤹䓀亂㷀夅᧽傔⬵禇富䀄澍ᵍ䚝䐡徏壨晓ᩒ䤃ݘ擰⅓䖩䝫筀⇓栶泚暖Ⱀ籮•䏴ⵕ〮༬ƞ䕠俈䑭╒亡䰩Ҏ䋮㶴㙃㎎⬻䝣糄猫㨸ⷭ⋉呯Ⱈ侨᤭˖ˡ㌙㘂⁤ᛊ♀㦤㨧㐛叢ၹ猈ங✠灷犨╁⡋⡺બᝤび窪侔祄⊘尦ᔔ䚰㑔؉榍煈刢ㅻ䪃͂ઠ偺扦፽࿣⧀᳃爀ᆠ晉䋪懾㛸ްą❞㽀枱㴗昊Ⲫ搁⋆殈䳤坋⋉䖽䆪巄抯ⓑ㿥庾拿⛌⁒罄ೞᒦ⁪䉲㾟夼㱽ስ͞ㅩ㧓り&ݑ彡岊惦ࣽ㎣焼ౡᣵѭ稤ኡߌᬃℤ䍘ન㝠尨卼޿劣估勧嗰④堿笅᣶㓒ᶻ磡஽୳䂇䁵☐ܠ䍍䰽আᏴ䐢䁢楠ᘱ帾癮y⤲ᨸ峧࡙䳽稲玁⬸㜳⹴Ⲱµ㼺ব‪哂᥵䘡䑢Ǜ婀൵њ͕㗋璲曡Ǔ㳊堩⬎㓵⾻畼䥁㒫㳥徻粠䐞㴕p൉务ニ懂婪殘㘠⢨ᡜ慵㣁㳻択妤䁻榫्╙ূڱૈᕥ㜰ㅻ犤ᖺ၊⡲ଔ៼㢊皱Ὢᎈ䲐僥᪤৯嚋ខ墆᝜喪䬲媭种➜㱷彀⩰䐵㬼㽿奎䄊⳧ዩូ♫䖰⺩ᖶⰺࢁ磘㕨⠂ⶸ╗熰్ᤤ溶䅰˸ప⡁̍஠䌩ಎၵℲ笏Ც㓹⦓哱䔇ᤪ䫽溋㞌䆎ჺƍќ㟍ୄ偶睦ᅻ⒴㴪䵂慆䂓Ḹ弃㓏⳻峱延愍ᮛ㛷座㜒⍰㕣ञ懤ℬ⊽䫼咡㉲竽ᒭ䋰ङఠ⡶Ͽᕐ䩍䂙ͪ庩ফ⽆⥠瘲浹ၶ㖵⎻勵朊圓⻋㛸欁㒀׊⫲Ὕ夬㊪᩿䚢䃚㺝౼屘瓏妋氈筮ᗌ⊔槼೶ᚦ⤜ோ仳禩㾽ԍ䲢搲䌊怨惗͐㶬氿㫾ᮣ㷍佹ၷ嘩⾂ὺ䖁գ※ᢊ⻕ᠫ夋斱ሚ᨝›䩸✵ᛳ哀䔧䁴䁔‧沧⽡ᎆࢡ೉ࡑ⏤ᝁ眺僙柈㫪娵✔␪䪚墼狭撥࿤型纳ី栧忢Ƕኰᰦ㐩Ǹⓖ䣤㠨㻀借〦嘻潰๤犡兙䁸䳠慆ਅ呼媨Ὄ窨⭁勋凅滌ᅱ烠ዌᏧ佧⯵凍嫺庖䦟㝃偋悈▻㭳ᘅᾏ玽ᓸⲤᡈϸ稳崧㩇㕭छ䯺㛕瑻㎛៳㛽矻ℛǿ宀疸噕㇊∈矚┹燴嫗䡝各尅抦ຍ㾝᧸㾌痐扒秹憽㈷㰂㈱ݐ⫩㳚妵ኯ䕜捬䐽禯价⼽⩑ᄺ眽レ਺歀戈悢ْᒆ瑄ሱࢣࡰ䪚卑㤪扦磄ঌ掯把ɀ␻㗵憚瘀デ禇ら㦞፼穠圣ድễ珦垅㋫䔤䉂ṱ੹ᢛ⹘㝴Ⓕ坢幘猕摓⏬Ⅱᖝ欠嵐怾䷸㿁⪰⡡仆奅⍓¡㚘㱷ዖ悕僪翇狒䑥Ⲭ惂捚嗴垾䡲⿶疜ŵ䔡濳囯瞄⣊ᇎ᱔ϛ҆䦨䱒➕䄉ᢥࡼᕂཁ紫梒Ǡ淠ᦤᜄ䲰ᕇ慖Ǭ䳤稧セǕ䰰槕䢤ဲ౧㺪睎⇋婰眍৳↳倚㕚ᝑ伕ᄍ⾂筵಺攜炷䌍⻬曷㰶␾剩❢簃ボ↌೥⯁忯ヸⒿճమ᭶ᅯ剃㷽䁎Œ㼶䝻䜿箽⡥ེ塈ガԠ⩗䄉濡ဆ┇侒ܢ悷䝿ച矰⁦坾悱෽⎣払⼎غ؊簶䕩ᦝ㖀ℤ巽Î籣㯞帉ნ湣撢✳ᦹ䀩乙㊣㣂➵㳟㋵旳⚚⹲੏ᰈ৶⻜᤻໢஻㇅瘌െ೥翿痽ᑽາ戨䤤Ὸ⤯滚䏜₂̯㻝䏦&漮矿撼婫䓇瓞⦲寚崵㕓檚䷵姀䵓佖䣲氪ㇸ夣⟊糸動喠䛪悆竜ᨅ⾬曳硚᫨࠴ࢁⷎ三䚆溊ᑐ媣䶀䶝潋⇳俰灓⑅嬆බ杚睑懊氢礋忙ހ⹜⻒ߞ秇䛷〆溗Ⳁ⻣㻖惟჆湢滖砏ܚ矸៛ㄡ皌猴ᕁ䍉ਲɢአ⠡⤍况㛹狕ḕโ囖珑⍲⵫卨㌅☙㫭ၑሪ⦵㡏ᵽ稩垑ᥞᬨ䂞⛗ഒ滪⮻✉瞂㚛☹哚⃐䫡ᖢ氅擳㌲乷ບ䏾A䴹ഭ剁淶⢘沒ᾚ献结⏼ᴦ椀䀠 "
   },
   "outputs": [
    {
     "data": {
      "application/vnd.jupyter.widget-view+json": {
       "model_id": "f3f11aa99a7a464b9f1688b23efcd1dc",
       "version_major": 2,
       "version_minor": 0
      },
      "text/plain": [
       "PersistWidget(data_values=[{'__id_column': '1', 'Region': 'Salt Lake', 'Month': 11, 'Day': 9, 'Year': 2012, 'T…"
      ]
     },
     "execution_count": 18,
     "metadata": {},
     "output_type": "execute_result"
    }
   ],
   "source": [
    "select = alt.selection_interval(name=\"selector\", encodings=[\"x\"])\n",
    "\n",
    "chart = alt.Chart(df_task_2b, height=400, width=500).mark_bar().encode(\n",
    "    x=alt.X(\"Month:N\").sort([10, 11, 12, 1, 2, 3, 4, 5, 6, 7, 8 ,9]),\n",
    "    y=\"count()\",\n",
    "    opacity=alt.condition(select, alt.value(1), alt.value(0.2)),\n",
    "    tooltip=\"month(Month):N\"\n",
    ").add_params(select)\n",
    "\n",
    "PR.PersistChart(chart, data=df_task_2b, df_name=\"df_task_3a\")"
   ]
  },
  {
   "cell_type": "code",
   "execution_count": 20,
   "id": "8daff85e-d906-4699-9626-5dee56778656",
   "metadata": {},
   "outputs": [
    {
     "data": {
      "text/html": [
       "<div>\n",
       "<style scoped>\n",
       "    .dataframe tbody tr th:only-of-type {\n",
       "        vertical-align: middle;\n",
       "    }\n",
       "\n",
       "    .dataframe tbody tr th {\n",
       "        vertical-align: top;\n",
       "    }\n",
       "\n",
       "    .dataframe thead th {\n",
       "        text-align: right;\n",
       "    }\n",
       "</style>\n",
       "<table border=\"1\" class=\"dataframe\">\n",
       "  <thead>\n",
       "    <tr style=\"text-align: right;\">\n",
       "      <th></th>\n",
       "      <th>Avalanche Season</th>\n",
       "      <th>Region</th>\n",
       "      <th>Month</th>\n",
       "      <th>Day</th>\n",
       "      <th>Year</th>\n",
       "      <th>Trigger</th>\n",
       "      <th>Weak Layer</th>\n",
       "      <th>Depth_inches</th>\n",
       "      <th>Vertical_inches</th>\n",
       "      <th>Aspect</th>\n",
       "      <th>Elevation_feet</th>\n",
       "    </tr>\n",
       "  </thead>\n",
       "  <tbody>\n",
       "    <tr>\n",
       "      <th>0</th>\n",
       "      <td>Start</td>\n",
       "      <td>Salt Lake</td>\n",
       "      <td>11</td>\n",
       "      <td>9</td>\n",
       "      <td>2012</td>\n",
       "      <td>Snowboarder</td>\n",
       "      <td>New Snow/Old Snow Interface</td>\n",
       "      <td>14</td>\n",
       "      <td>360</td>\n",
       "      <td>North</td>\n",
       "      <td>10400</td>\n",
       "    </tr>\n",
       "    <tr>\n",
       "      <th>1</th>\n",
       "      <td>Start</td>\n",
       "      <td>Salt Lake</td>\n",
       "      <td>11</td>\n",
       "      <td>11</td>\n",
       "      <td>2012</td>\n",
       "      <td>Skier</td>\n",
       "      <td>New Snow/Old Snow Interface</td>\n",
       "      <td>30</td>\n",
       "      <td>1200</td>\n",
       "      <td>North</td>\n",
       "      <td>9700</td>\n",
       "    </tr>\n",
       "    <tr>\n",
       "      <th>2</th>\n",
       "      <td>Start</td>\n",
       "      <td>Salt Lake</td>\n",
       "      <td>11</td>\n",
       "      <td>11</td>\n",
       "      <td>2012</td>\n",
       "      <td>Skier</td>\n",
       "      <td>Facets</td>\n",
       "      <td>36</td>\n",
       "      <td>5400</td>\n",
       "      <td>North</td>\n",
       "      <td>10200</td>\n",
       "    </tr>\n",
       "    <tr>\n",
       "      <th>3</th>\n",
       "      <td>Start</td>\n",
       "      <td>Salt Lake</td>\n",
       "      <td>11</td>\n",
       "      <td>11</td>\n",
       "      <td>2012</td>\n",
       "      <td>Skier</td>\n",
       "      <td>New Snow</td>\n",
       "      <td>18</td>\n",
       "      <td>6000</td>\n",
       "      <td>Southeast</td>\n",
       "      <td>10200</td>\n",
       "    </tr>\n",
       "    <tr>\n",
       "      <th>4</th>\n",
       "      <td>Start</td>\n",
       "      <td>Salt Lake</td>\n",
       "      <td>11</td>\n",
       "      <td>11</td>\n",
       "      <td>2012</td>\n",
       "      <td>Skier</td>\n",
       "      <td>Facets</td>\n",
       "      <td>42</td>\n",
       "      <td>9600</td>\n",
       "      <td>North</td>\n",
       "      <td>10400</td>\n",
       "    </tr>\n",
       "  </tbody>\n",
       "</table>\n",
       "</div>"
      ],
      "text/plain": [
       "  Avalanche Season     Region  Month  Day  Year      Trigger  \\\n",
       "0            Start  Salt Lake     11    9  2012  Snowboarder   \n",
       "1            Start  Salt Lake     11   11  2012        Skier   \n",
       "2            Start  Salt Lake     11   11  2012        Skier   \n",
       "3            Start  Salt Lake     11   11  2012        Skier   \n",
       "4            Start  Salt Lake     11   11  2012        Skier   \n",
       "\n",
       "                    Weak Layer  Depth_inches  Vertical_inches     Aspect  \\\n",
       "0  New Snow/Old Snow Interface            14              360      North   \n",
       "1  New Snow/Old Snow Interface            30             1200      North   \n",
       "2                       Facets            36             5400      North   \n",
       "3                     New Snow            18             6000  Southeast   \n",
       "4                       Facets            42             9600      North   \n",
       "\n",
       "   Elevation_feet  \n",
       "0           10400  \n",
       "1            9700  \n",
       "2           10200  \n",
       "3           10200  \n",
       "4           10400  "
      ]
     },
     "execution_count": 20,
     "metadata": {},
     "output_type": "execute_result"
    }
   ],
   "source": [
    "df_task_3a.head()"
   ]
  },
  {
   "cell_type": "markdown",
   "id": "36e82a42-5f2f-44e1-b9a5-2e2d403b2ff3",
   "metadata": {},
   "source": [
    "## **Task 3b: Analyzing Top Avalanche Trigger by Season**"
   ]
  },
  {
   "cell_type": "markdown",
   "id": "af40bad3-436e-426c-a02f-f205597e90b5",
   "metadata": {},
   "source": [
    "Now we'll analyze which trigger is most prevalent for avalanches in each season phase (Start, Middle, End) using the `Avalanche Season` category created in Task 3a."
   ]
  },
  {
   "cell_type": "markdown",
   "id": "72455a32-623b-4b87-87d6-ca9c8ebf19e7",
   "metadata": {},
   "source": [
    "#### **Instructions**\n",
    "1. **Context:**\n",
    "    - We have a facted bar chart. The `x` axis encodes the `Trigger` column in the data and the columns encode the newly added category `Avalanche Season`.\n",
    "2. **Analyze Trigger Data:**\n",
    "    - Observe the most common trigger for each season.\n",
    "    - You can hover on the bars to get the exact frequency.\n",
    "3. **Document Findings:**\n",
    "    - Note down the most common trigger for each season based on your interactive analysis in the markdown cell."
   ]
  },
  {
   "cell_type": "code",
   "execution_count": 21,
   "id": "07df4379-6e5e-4bcc-a878-7457f7baba16",
   "metadata": {
    "__GENERATED_DATAFRAMES__": "ᯡࠣ䅬Ԁ朤壠ᜣ琢〹夤゠⹰〮⁁䁻қ䚾ኊ㇠നСࠩ瀮晼Ƭ穅5愠៤⠠ ",
    "__has_persist_output": true,
    "trrack_graph": "ᯡ࠽䈌ʀ匦㢠⹰ˠ⬪Ă䂌Ⱥ〶䀱伡ొ१æ¹Щ擦接占ᦾ担㖪ᵄ倡ᙰ䡣内恂⹲嫝ጶ㘽嶛窄ठ͢&揦ὤ䁅ШN嵀〡岁䍼℮㖆暠֨终n䝄V䀷⟏埖᥀8穔Ü▬ਠཆɣဣ姃凹ᱡ᤮̯‫ㆤ娃Ѡ碀䠪斨䈽ᢪ௶ၸǌ▘㼮灨‷柃梎烲ⰰⶁၘ㵬૒怩瀠㯬峜ご༅䐨䧦枇䅖₡䑅ᦼᡬ䴹Ꮂ䦷䓬敱䣀桬㩈SႪݦ⒀炬ḭπ桿⌦扺嘲㱦ѫ昣ቈㄡ簶㎲⃣ㄘᄴ䃁⣔̹䖃塼༯䒀Ѣᱠ֓砢綫䕆掄㱢䡮⡩㕙ᧆ栦† "
   },
   "outputs": [
    {
     "data": {
      "application/vnd.jupyter.widget-view+json": {
       "model_id": "f92b4ec328b54d66b07a20f9289f608a",
       "version_major": 2,
       "version_minor": 0
      },
      "text/plain": [
       "PersistWidget(data_values=[{'__id_column': '1', 'Avalanche Season': 'Start', 'Region': 'Salt Lake', 'Month': 1…"
      ]
     },
     "execution_count": 21,
     "metadata": {},
     "output_type": "execute_result"
    }
   ],
   "source": [
    "NEW_COLUMN = \"Avalanche Season\"\n",
    "\n",
    "chart = alt.Chart(df_task_3a).mark_bar().encode(\n",
    "    x=\"Trigger:N\",\n",
    "    y=\"count():Q\",\n",
    "    color=alt.Color(f\"{NEW_COLUMN}:N\").sort([\"Start\", \"Middle\", \"End\"]),\n",
    "    column=alt.Column(f\"{NEW_COLUMN}:N\").sort([\"Start\", \"Middle\", \"End\"]),\n",
    "    tooltip=\"count()\"\n",
    ")\n",
    "\n",
    "PR.PersistChart(chart)"
   ]
  },
  {
   "cell_type": "markdown",
   "id": "00e87acd-3759-49eb-9e43-d7793672297c",
   "metadata": {},
   "source": [
    "**Task 3b Notes:**\n",
    "\n",
    "- Most common Trigger for `Start` of the season: _natural_ (_210_)\n",
    "- Most common Trigger for `Middle` of the season: _skier_ (_517_)\n",
    "- Most common Trigger for `End` of the season: _natural_ (_88_)"
   ]
  }
 ],
 "metadata": {
  "__CATEGORIES_META__": "{\"categories\":{\"Avlanche Season Phase\":{\"name\":\"Avlanche Season Phase\",\"options\":{\"_None\":{\"name\":\"None\"},\"Start\":{\"name\":\"Start\"},\"Middle\":{\"name\":\"Middle\"},\"End\":{\"name\":\"End\"}}}},\"activeCategoryName\":\"Avlanche Season Phase\"}",
  "__persist_keys_record": [
   "__GENERATED_DATAFRAMES__",
   "__persist_nb_uuid__",
   "trrack_graph",
   "show_aggregate_origin"
  ],
  "__persist_nb_uuid__": "36dba505-c931-454f-af6c-30e8cfb51ac2",
  "kernelspec": {
   "display_name": "Python 3 (ipykernel)",
   "language": "python",
   "name": "python3"
  },
  "language_info": {
   "codemirror_mode": {
    "name": "ipython",
    "version": 3
   },
   "file_extension": ".py",
   "mimetype": "text/x-python",
   "name": "python",
   "nbconvert_exporter": "python",
   "pygments_lexer": "ipython3",
   "version": "3.8.16"
  }
 },
 "nbformat": 4,
 "nbformat_minor": 5
}
