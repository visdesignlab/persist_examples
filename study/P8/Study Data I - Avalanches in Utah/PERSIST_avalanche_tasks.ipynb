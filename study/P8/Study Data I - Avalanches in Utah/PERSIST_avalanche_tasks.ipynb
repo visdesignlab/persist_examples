{
 "cells": [
  {
   "cell_type": "markdown",
   "id": "522fcbb3-702c-4ea0-91d9-f3b0e71690fc",
   "metadata": {
    "__GENERATED_DATAFRAMES__": "{\"nodeDataframes\":{},\"graphDataframes\":null}",
    "show_aggregate_original": "false",
    "trrack_graph": "ᯡ࠽䈌ʀ匦㢠⹰àᦴ΀࣪ʐ怶䦠挠᱊ࠥ䁁䂖㚥煤晬փ⊪ĸ暂䙠঳ैkᑄᄈ妐ଷᓋ⃩䖻Ṯ溜Φ䐡傠Ǒ団Қ′䈤7ࡣᠠ湐戎Ⴆ寐爤䀥屨攠ʕ㥀ǔÚ䍃㏙䤥ࢂ┩勸惀Ēいཆ༠೥∁∀秸㲅䌠ⶬᛦ䙂ǃɡ殍戰泤ᒁ嬦怭㋉匥穃ᄠ彣჻⴦䉫ぢ睤䄁ⵐۻG䀡曑砑䂱竖ᄂ㜿Ꭽ˹ȩᚱ凁兘㑐Ṣ༩Ẻ䳥⑆憰棨忞⍧攈堽Ī僰὆揖䦲ᡊ⛓౱নఱ姼ᤦΧ您別൧儸晋Ǣ熘繀䉁硨K塊়ṹᜰ倳䪂ⵦ⚈ᒽ᪺ᆬ䀠 "
   },
   "source": [
    "# Analyzing Utah Avalanche Data"
   ]
  },
  {
   "cell_type": "markdown",
   "id": "3abf1206-e99f-45b6-a92b-d971a2a8eb19",
   "metadata": {
    "trrack_graph": "ᯡ࠽䈌ʀ匦㢠⹰ૠܠ昢〽䂆౐׀ৣfL⍉ျ⥒⠡䒙¬ᧇ峕搢ಒ嫒┠অҤᵖ㹢晴㘉ᦳㄍ毿䡨墠ᨰV䆼ガ搢⡠䀢焨㌠෦ౝ戰殖๠ᠠ塩ೀn坄V䀷⢄㚗᥂夬ು䅻ఴ>☤䝃傳狱⊔㳜ੁ䀶挫㐷ࢢӡჵ嬩іㄪᢉ懐ͻ䬥䇽ࣨ䁏僿峱䐰㋸ᇻ兀㡆䱍㛠਀ⲛ粀೽疨һ䟩桁㙡Ũ昙ˢ䧮ᄪᆽ䥢ᅅᄁẩ㱸౮ᐶޣ先ఽЃⵖᥒ⌥▶懜ᩑƢ᭛䭄憐ɑ٦⦈䙓ǂ炘㸠䱅࢜ؠଌથ䜯๡䙉夊᜶僑汢㭢☈₁䠠 "
   },
   "source": [
    "**Participant ID:** P8\n",
    "\n",
    "**Date / Time:**"
   ]
  },
  {
   "cell_type": "markdown",
   "id": "ceac0d48-2820-4532-bfd2-adf6533d7a2d",
   "metadata": {},
   "source": [
    "## Introduction\n",
    "Welcome to our data analysis study. For this part of the study, you'll be working with a dataset sourced from the [Utah Avalanche Center](https://utahavalanchecenter.org/). The data provides insights into [avalanche occurrences](https://utahavalanchecenter.org/avalanches) in Utah.\n"
   ]
  },
  {
   "cell_type": "markdown",
   "id": "68491102-96aa-4701-8134-d998c80ae04b",
   "metadata": {},
   "source": [
    "- You will use an extension called PersIst to complete **data cleanup and manipulation** tasks. \n",
    "- Interactive charts and tables have been pre-created for your convenience. These can be directly utilized by running the corresponding cells.\n",
    "- Focus on leveraging the interactive capabilities of Persist for your analysis.\n",
    "- Carefully follow the step-by-step instructions provided for each task.\n",
    "- In some cases, you will be asked to document your findings. Please do this in writing in a markdwon cell.\n",
    "- As you work through the tasks, take note of any interesting findings or challenges with the software or pandas that you may encounter, either by speaking your thoughts out loud or taking notes in a markdown cell.\n",
    "- Feel free to add new code and markdown cells in the notebook as necessary to complete the tasks, but please do attempt the tasks with the PersIst functionality."
   ]
  },
  {
   "cell_type": "code",
   "execution_count": 1,
   "id": "9337796b-21e8-4c8c-bbbd-3076a775d03b",
   "metadata": {},
   "outputs": [],
   "source": [
    "import helpers as h\n",
    "import pandas as pd\n",
    "\n",
    "import seaborn as sns\n",
    "import matplotlib.pyplot as plt\n",
    "import altair as alt\n",
    "\n",
    "import persist_ext as PR"
   ]
  },
  {
   "cell_type": "markdown",
   "id": "dd81aecd-eebf-4624-b9e2-3a864c474c1d",
   "metadata": {
    "__GENERATED_DATAFRAMES__": "{\"nodeDataframes\":{},\"graphDataframes\":null}",
    "show_aggregate_original": "false",
    "trrack_graph": "ᯡ࠽䈌ʀ匦㢠⹰Ҁ̡䘠烠嘢త〫‥侴ᓬᛞ拐ৡ䚂ద抭婈ހڅྯ䌲⠠䭈⑁槑焳Ⴥ⩦仃㍶๽㰥Ҩǁ#㟢䌰橠ኤРᜰ͐üメ湁˛㾄ָ̠憴)挄䀦栢琭ٮ㍄ᨡ䌤ᾣㆢ䀣擠䢤㘦Sᥧᡠ戂怡ᠬÖᠻ㹈䐿ة׉妨⃓ࢱ̴㖠᫲徤ฏѤƜڣ回㸦ۡ৵ण䃔戊㘠传ϊ緯挡䘌污䕽庮粓㈨ɪⷠ搃猄ᦨ洘㳌ᤪ̪౦繶ሱ澂䘣⁑Ҝഭ炍孉ृÅ⭱䤾ᢠ䆋෭ኀ㠢Ү≱呺Ấ惑汮ᮯ戩䊏̠˙Ɂ⧽憳㈒ṉⅱਊ⥋⃆瑀⣨  "
   },
   "source": [
    "## Data Description\n",
    "\n",
    "The table below describes the different columns in the dataset. Each row in the dataset represents a reported avalanche with details on location, trigger, and aspect. The data spans multiple years, starting from 2004 up to 2023.\n",
    "\n",
    "| Column          | Description                                                    |\n",
    "|-----------------|----------------------------------------------------------------|\n",
    "| Region          | Region in Utah where the avalanche occurred                    |\n",
    "| Month           | Month in which the avalanche was recorded                      |\n",
    "| Day             | Day on which the avalanche was recorded                        |\n",
    "| Year            | Year in which the avalanche was recorded                       |\n",
    "| Trigger         | Cause of the avalanche                                         |\n",
    "| Weak Layer      | Layer of snow that was weakest and likely to fail              |\n",
    "| Depth_inches    | Depth of the avalanche in inches                               |\n",
    "| Vertical_inches | Vertical distance covered by the avalanche in inches           |\n",
    "| Aspect          | Direction of the slope where the avalanche occurred            |\n",
    "| Elevation_feet  | Elevation of the location in feet                              |\n",
    "| Coordinates     | Approximate geographical coordinates of the avalanche location |\n",
    "| Comments 1      | Additional comments provided by the reporter                   |"
   ]
  },
  {
   "cell_type": "code",
   "execution_count": 2,
   "id": "8d0e426c-89a0-4813-8994-65ebba3f3a25",
   "metadata": {},
   "outputs": [
    {
     "data": {
      "text/html": [
       "<div>\n",
       "<style scoped>\n",
       "    .dataframe tbody tr th:only-of-type {\n",
       "        vertical-align: middle;\n",
       "    }\n",
       "\n",
       "    .dataframe tbody tr th {\n",
       "        vertical-align: top;\n",
       "    }\n",
       "\n",
       "    .dataframe thead th {\n",
       "        text-align: right;\n",
       "    }\n",
       "</style>\n",
       "<table border=\"1\" class=\"dataframe\">\n",
       "  <thead>\n",
       "    <tr style=\"text-align: right;\">\n",
       "      <th></th>\n",
       "      <th>;Region</th>\n",
       "      <th>Month</th>\n",
       "      <th>Day</th>\n",
       "      <th>Year</th>\n",
       "      <th>;Trigger</th>\n",
       "      <th>;Weak Layer</th>\n",
       "      <th>Depth_inches</th>\n",
       "      <th>Vertical_inches</th>\n",
       "      <th>;Aspect</th>\n",
       "      <th>Elevation_feet</th>\n",
       "      <th>Coordinates</th>\n",
       "      <th>Comments 1</th>\n",
       "    </tr>\n",
       "  </thead>\n",
       "  <tbody>\n",
       "    <tr>\n",
       "      <th>0</th>\n",
       "      <td>Salt Lake</td>\n",
       "      <td>11</td>\n",
       "      <td>9</td>\n",
       "      <td>2012</td>\n",
       "      <td>Snowboarder</td>\n",
       "      <td>New Snow/Old Snow Interface</td>\n",
       "      <td>14.0</td>\n",
       "      <td>360.0</td>\n",
       "      <td>North</td>\n",
       "      <td>10400.0</td>\n",
       "      <td>40.577977000000, -111.595817000000</td>\n",
       "      <td>While it was a small avalanche that was I caug...</td>\n",
       "    </tr>\n",
       "    <tr>\n",
       "      <th>1</th>\n",
       "      <td>Salt Lake</td>\n",
       "      <td>11</td>\n",
       "      <td>11</td>\n",
       "      <td>2012</td>\n",
       "      <td>Skier</td>\n",
       "      <td>New Snow/Old Snow Interface</td>\n",
       "      <td>30.0</td>\n",
       "      <td>1200.0</td>\n",
       "      <td>North</td>\n",
       "      <td>9700.0</td>\n",
       "      <td>40.592619000000, -111.616099000000</td>\n",
       "      <td>A North facing aspect with an exposed ridge in...</td>\n",
       "    </tr>\n",
       "    <tr>\n",
       "      <th>2</th>\n",
       "      <td>Salt Lake</td>\n",
       "      <td>11</td>\n",
       "      <td>11</td>\n",
       "      <td>2012</td>\n",
       "      <td>Skier</td>\n",
       "      <td>Facets</td>\n",
       "      <td>36.0</td>\n",
       "      <td>5400.0</td>\n",
       "      <td>North</td>\n",
       "      <td>10200.0</td>\n",
       "      <td>40.599291000000, -111.642315000000</td>\n",
       "      <td>Remotely triggered all the new storm snow (abo...</td>\n",
       "    </tr>\n",
       "    <tr>\n",
       "      <th>3</th>\n",
       "      <td>Salt Lake</td>\n",
       "      <td>11</td>\n",
       "      <td>11</td>\n",
       "      <td>2012</td>\n",
       "      <td>Skier</td>\n",
       "      <td>New Snow</td>\n",
       "      <td>18.0\"</td>\n",
       "      <td>6000.0</td>\n",
       "      <td>Southeast</td>\n",
       "      <td>10200.0</td>\n",
       "      <td>40.598313000000, -111.628304000000</td>\n",
       "      <td>Impressive fast powder cloud ran in front of t...</td>\n",
       "    </tr>\n",
       "    <tr>\n",
       "      <th>4</th>\n",
       "      <td>Salt Lake</td>\n",
       "      <td>11</td>\n",
       "      <td>11</td>\n",
       "      <td>2012</td>\n",
       "      <td>Skier</td>\n",
       "      <td>Facets</td>\n",
       "      <td>42.0</td>\n",
       "      <td>9600.0</td>\n",
       "      <td>North</td>\n",
       "      <td>10400.0</td>\n",
       "      <td>40.578590000000, -111.595087000000</td>\n",
       "      <td>Three of us toured from Brighton to low saddle...</td>\n",
       "    </tr>\n",
       "  </tbody>\n",
       "</table>\n",
       "</div>"
      ],
      "text/plain": [
       "     ;Region  Month  Day  Year     ;Trigger                  ;Weak Layer  \\\n",
       "0  Salt Lake     11    9  2012  Snowboarder  New Snow/Old Snow Interface   \n",
       "1  Salt Lake     11   11  2012        Skier  New Snow/Old Snow Interface   \n",
       "2  Salt Lake     11   11  2012        Skier                       Facets   \n",
       "3  Salt Lake     11   11  2012        Skier                     New Snow   \n",
       "4  Salt Lake     11   11  2012        Skier                       Facets   \n",
       "\n",
       "  Depth_inches  Vertical_inches    ;Aspect  Elevation_feet  \\\n",
       "0         14.0            360.0      North         10400.0   \n",
       "1         30.0           1200.0      North          9700.0   \n",
       "2         36.0           5400.0      North         10200.0   \n",
       "3        18.0\"           6000.0  Southeast         10200.0   \n",
       "4         42.0           9600.0      North         10400.0   \n",
       "\n",
       "                          Coordinates  \\\n",
       "0  40.577977000000, -111.595817000000   \n",
       "1  40.592619000000, -111.616099000000   \n",
       "2  40.599291000000, -111.642315000000   \n",
       "3  40.598313000000, -111.628304000000   \n",
       "4  40.578590000000, -111.595087000000   \n",
       "\n",
       "                                          Comments 1  \n",
       "0  While it was a small avalanche that was I caug...  \n",
       "1  A North facing aspect with an exposed ridge in...  \n",
       "2  Remotely triggered all the new storm snow (abo...  \n",
       "3  Impressive fast powder cloud ran in front of t...  \n",
       "4  Three of us toured from Brighton to low saddle...  "
      ]
     },
     "execution_count": 2,
     "metadata": {},
     "output_type": "execute_result"
    }
   ],
   "source": [
    "df = pd.read_csv('./avalanches_data.csv')\n",
    "df.head()"
   ]
  },
  {
   "cell_type": "markdown",
   "id": "7cc10d2b-9b1e-46f4-9769-b9a0ac0c9e8f",
   "metadata": {
    "__GENERATED_DATAFRAMES__": "{\"nodeDataframes\":{},\"graphDataframes\":null}",
    "show_aggregate_original": "false",
    "trrack_graph": "ᯡ࠽䈌ʀ匦㢠⹰ૠ㌬Ā჻R〶䁃lyٹ⁓f䍐ۢ䧪㈉◔ฅޡ䨲⠠䬱䑁棒瀱Ⴭ⭱妻ݎẜʤ䐡傠ǖ悃РኤРᜰ結üメ浪巟㈠ᣠˬ⃪$熒‣㐡㬚͇⦲༿⸂໡壡‡犀⒂ଠᎭॣ䥡⊃㡹稠嬸ූᑤඦҡ哹䑀妨䤝͕䀺慽䈩瞤∡㼚ƶ嵖᯦悡檩ǣ᪀畖o#䖊⠃ܑ璌⃥⹾䞌᧒Т⺈ᆡ⇳㴑䒤㒌ŭ᯸丈◡戱⃰潅Ԧ秐噑๦磜疶溂⒀ᒪ扖⋦ူⶃ㧄మྡྷშ⨭རㅸ瘭ǅ爘䅐䘆砠址䑂㥨㈼㹯䕈䓵ᒹ憴婊③ᤠ "
   },
   "source": [
    "# Task 1: Refining Columns and Preparing Data\n",
    "\n",
    "In the first task we will perform some basic data cleaning operations to get our dataset ready for further tasks."
   ]
  },
  {
   "cell_type": "markdown",
   "id": "8934b219-dd97-4e3e-9aa9-0dd7a9d62ad5",
   "metadata": {
    "__GENERATED_DATAFRAMES__": "{\"nodeDataframes\":{},\"graphDataframes\":null}",
    "show_aggregate_original": "false",
    "trrack_graph": "ᯡ࠽䈌ʀ匦㢠⹰ૠ㬠氤〥䌸瀶䀹䁣๲ৠܦᔨҀᣴ䂼䋃‣ᓆ做►䀳ല⠠䭈⑁槑瀱ᝉ⍮冫㭮ẜʦ䒠ǁ#㕀挸晠ኤРᝣၐüムṁǟ㤉䀥䉸攠ʓ㥀ǔÚ⎃஥䤫䒄攭ᇸ惀Ēいᘦᖠೣ䗫⃂変ⱦ{ఽ咼∪⌤䋵汄ჹ䑈冣ᛠඉⵆܔ⍂Þ⍡歹ম悩溩Ǡ媁疖o#䖓瀃ʅ璌⁅溮杲◒Ъ⍁䔶户ࣉⓢ削౐䘰䵥䌂んḸئԢ灐糕൤㧶ⶬ䲱䅲ᗈ撯ౠ惍䈅䥐属ѣ၈⩍སヸ๗௧焤ᄸ䒰Ž䅰䔉燩壥༲刳樲⭮✈咰ᒄ  "
   },
   "source": [
    "### **Task 1a: Remove Columns**"
   ]
  },
  {
   "cell_type": "markdown",
   "id": "47b531d4-2e3a-4e9a-b92a-39aebfc3deb6",
   "metadata": {
    "__GENERATED_DATAFRAMES__": "{\"nodeDataframes\":{},\"graphDataframes\":null}",
    "show_aggregate_original": "false",
    "trrack_graph": "ᯡ࠽䈌ʀ匦㢠⹰ૠ㬠氤〥䌸瀶䀹䁣๲ৠܦᔨҀᣴ䂼䋃‣ᓆ做►䀳ല⠠䭈⑁槑瀱ᝉ⍮冫㭮ẜʦ䒠ǁ#㕀挸晠ኤРᝣၐüムṁǟ㤉䀥䉸攠ʓ㥀ǔÚ⎃஥䤫䒄攭ᇸ惀Ēいᘦᖠೣ䗫⃂変ⱦ{ఽ咼∪⌤䋵汄ჹ䑈冣ᛠඉⵆܔ⍂Þ⍡歹ম悩溩Ǡ媁疖o#䖓瀃ʅ璌⁅溮杲◒Ъ⍁䔶户ࣉⓢ削౐䘰䵥䌂んḸئԢ灐糕൤㧶ⶬ䲱䅲ᗈ撯ౠ惍䈅䥐属ѣ၈⩍སヸ๗௧焤ᄸ䒰Ž䅰䔉燩壥༲刳樲⭮✈咰ᒄ  "
   },
   "source": [
    "Remove the following columns to streamline the dataset for further analysis:\n",
    "\n",
    "- **_Comments 1:_** Contains textual comments not crucial for quantitative analysis.\n",
    "- **_Coordinates:_** Detailed location data not needed for the current scope of analysis."
   ]
  },
  {
   "cell_type": "markdown",
   "id": "aec9ad2a-ab09-4288-b8fa-2852bcddda1a",
   "metadata": {},
   "source": [
    "#### **Instructions**\n",
    "1. **Column Removal:**\n",
    "\t- Use the interactive table feature in PersIst to remove the specified columns.\n",
    "3. **Verify the Output:**\n",
    "\t- Print the head of the generated dataframe to verify the changes."
   ]
  },
  {
   "cell_type": "code",
   "execution_count": 3,
   "id": "8e333ff3-cb24-430b-a332-733b41570ba4",
   "metadata": {
    "__GENERATED_DATAFRAMES__": "ᯡࠩ䃬࿀ᜤᠹ悋ᐨ推̅ሣ䧠ⶠ卍捯ᥔᠣ℠▢dʘϔᝠ捌〤瀵摠៨⠠ ",
    "__has_persist_output": true,
    "editable": true,
    "slideshow": {
     "slide_type": ""
    },
    "tags": [],
    "trrack_graph": "ᯡ࠽䈌ʀ匦㢠⹰ˢ䅸ඳ䰸恍fǹᨲ䀮൦俠↳䊁恇ᬠ䴋俪ᴬተ¶⡨⃱㌀ᅁ╶廁⌶㚼㴘ԩ#℠΄橦Ą䁅ШN㵀〡岁䋼℩㎎缠׈䇈G㎲;∭䀤㏀兂壢ᑉ਱⌣لჱ祹栴⚔煖㮼䈠׷栺ᵬ䢸綜ၳ᫦Ԡ޳ŀ⍈㠱䱢䑶⚿‫ㆦ奐䑠䲀䡑痈䈽墢ཉʱⰡ噣☠笈㓀ఏ囻以ᨑ嘨▵屌硹ȭ〤砠ᴎ⁞ᢜ㬓戴⌇ゑᢆ㷼⒲䣑༼䊣灔♩䅠㉈ѣ䁨梿㤰䝢挈㘪഻݃ࣜ䄁汯⯲⟈悭タ㗇璱㑮ၩ቉㔭ჩ㌄๯၉੅ࡂ⎐ᥑѾᑫዉ㩳ᛪㅜ焰匇ખᆤ昤䀠ࢠΩ㰠ʜȠ〡⹣ᠧ⠣р↨挃䂕ࢽ䕷糼䃖倧氊䚳℧⬙繀册尉侍姪煨ᠼ༤↱ᒊຠ捑Ⲗᬥ挑籡ᡧ⡔䵶冉樁ᅾ岭抁撒ᢊᮭ睉䚈毬Ƶ䶁ʍ孽䬈㩬ĳ䴁㨍穘ᱣ!⌑⟷忙‰ᾄѕ䂳廣姛⤳᥍瘯ⱞHപ䃺撨ᚙഘ⚄ݿ㲲>䫚溭㞫崗㨭捸¤ᶗ柞猤Ữᏹ禝Д⁋㵄ጣ⁰㡃䁰ब․㔯恑⤤懘Ѩ ㌯䗐㤣ↂᐭ恠ᰂėᮤ惀Ҥഺ㨆灏ߌ緝ࠤ̭ᷦࡍᗊඍ㷀㡶ߥ碞῭㇬ఫॄ㒩ഄಈ刃ન䷴ઉ凳ມ浊ᎬтᵂÕ➦灤沭ఴ᲌兴ኁ僳㚢㸐⇀ਝᢌᒹ㣊摰㭍ᓙⳅ料⋂⨖ဠ "
   },
   "outputs": [
    {
     "data": {
      "application/vnd.jupyter.widget-view+json": {
       "model_id": "5f36cd5096a345b4a8b635f0317c65db",
       "version_major": 2,
       "version_minor": 0
      },
      "text/plain": [
       "PersistWidget(data_values=[{'__id_column': '1', ';Region': 'Salt Lake', 'Month': 11, 'Day': 9, 'Year': 2012, '…"
      ]
     },
     "execution_count": 3,
     "metadata": {},
     "output_type": "execute_result"
    }
   ],
   "source": [
    "PR.PersistTable(df, df_name=\"df_task_1a\")"
   ]
  },
  {
   "cell_type": "code",
   "execution_count": 4,
   "id": "1e24f9fe-bc7d-4ecc-8381-6c1d491beda4",
   "metadata": {},
   "outputs": [
    {
     "data": {
      "text/html": [
       "<div>\n",
       "<style scoped>\n",
       "    .dataframe tbody tr th:only-of-type {\n",
       "        vertical-align: middle;\n",
       "    }\n",
       "\n",
       "    .dataframe tbody tr th {\n",
       "        vertical-align: top;\n",
       "    }\n",
       "\n",
       "    .dataframe thead th {\n",
       "        text-align: right;\n",
       "    }\n",
       "</style>\n",
       "<table border=\"1\" class=\"dataframe\">\n",
       "  <thead>\n",
       "    <tr style=\"text-align: right;\">\n",
       "      <th></th>\n",
       "      <th>;Region</th>\n",
       "      <th>Month</th>\n",
       "      <th>Day</th>\n",
       "      <th>Year</th>\n",
       "      <th>;Trigger</th>\n",
       "      <th>;Weak Layer</th>\n",
       "      <th>Depth_inches</th>\n",
       "      <th>Vertical_inches</th>\n",
       "      <th>;Aspect</th>\n",
       "      <th>Elevation_feet</th>\n",
       "      <th>Coordinates</th>\n",
       "    </tr>\n",
       "  </thead>\n",
       "  <tbody>\n",
       "    <tr>\n",
       "      <th>0</th>\n",
       "      <td>Salt Lake</td>\n",
       "      <td>11</td>\n",
       "      <td>9</td>\n",
       "      <td>2012</td>\n",
       "      <td>Snowboarder</td>\n",
       "      <td>New Snow/Old Snow Interface</td>\n",
       "      <td>14.0</td>\n",
       "      <td>360.0</td>\n",
       "      <td>North</td>\n",
       "      <td>10400.0</td>\n",
       "      <td>40.577977000000, -111.595817000000</td>\n",
       "    </tr>\n",
       "    <tr>\n",
       "      <th>1</th>\n",
       "      <td>Salt Lake</td>\n",
       "      <td>11</td>\n",
       "      <td>11</td>\n",
       "      <td>2012</td>\n",
       "      <td>Skier</td>\n",
       "      <td>New Snow/Old Snow Interface</td>\n",
       "      <td>30.0</td>\n",
       "      <td>1200.0</td>\n",
       "      <td>North</td>\n",
       "      <td>9700.0</td>\n",
       "      <td>40.592619000000, -111.616099000000</td>\n",
       "    </tr>\n",
       "    <tr>\n",
       "      <th>2</th>\n",
       "      <td>Salt Lake</td>\n",
       "      <td>11</td>\n",
       "      <td>11</td>\n",
       "      <td>2012</td>\n",
       "      <td>Skier</td>\n",
       "      <td>Facets</td>\n",
       "      <td>36.0</td>\n",
       "      <td>5400.0</td>\n",
       "      <td>North</td>\n",
       "      <td>10200.0</td>\n",
       "      <td>40.599291000000, -111.642315000000</td>\n",
       "    </tr>\n",
       "    <tr>\n",
       "      <th>3</th>\n",
       "      <td>Salt Lake</td>\n",
       "      <td>11</td>\n",
       "      <td>11</td>\n",
       "      <td>2012</td>\n",
       "      <td>Skier</td>\n",
       "      <td>New Snow</td>\n",
       "      <td>18.0\"</td>\n",
       "      <td>6000.0</td>\n",
       "      <td>Southeast</td>\n",
       "      <td>10200.0</td>\n",
       "      <td>40.598313000000, -111.628304000000</td>\n",
       "    </tr>\n",
       "    <tr>\n",
       "      <th>4</th>\n",
       "      <td>Salt Lake</td>\n",
       "      <td>11</td>\n",
       "      <td>11</td>\n",
       "      <td>2012</td>\n",
       "      <td>Skier</td>\n",
       "      <td>Facets</td>\n",
       "      <td>42.0</td>\n",
       "      <td>9600.0</td>\n",
       "      <td>North</td>\n",
       "      <td>10400.0</td>\n",
       "      <td>40.578590000000, -111.595087000000</td>\n",
       "    </tr>\n",
       "  </tbody>\n",
       "</table>\n",
       "</div>"
      ],
      "text/plain": [
       "     ;Region  Month  Day  Year     ;Trigger                  ;Weak Layer  \\\n",
       "0  Salt Lake     11    9  2012  Snowboarder  New Snow/Old Snow Interface   \n",
       "1  Salt Lake     11   11  2012        Skier  New Snow/Old Snow Interface   \n",
       "2  Salt Lake     11   11  2012        Skier                       Facets   \n",
       "3  Salt Lake     11   11  2012        Skier                     New Snow   \n",
       "4  Salt Lake     11   11  2012        Skier                       Facets   \n",
       "\n",
       "  Depth_inches  Vertical_inches    ;Aspect  Elevation_feet  \\\n",
       "0         14.0            360.0      North         10400.0   \n",
       "1         30.0           1200.0      North          9700.0   \n",
       "2         36.0           5400.0      North         10200.0   \n",
       "3        18.0\"           6000.0  Southeast         10200.0   \n",
       "4         42.0           9600.0      North         10400.0   \n",
       "\n",
       "                          Coordinates  \n",
       "0  40.577977000000, -111.595817000000  \n",
       "1  40.592619000000, -111.616099000000  \n",
       "2  40.599291000000, -111.642315000000  \n",
       "3  40.598313000000, -111.628304000000  \n",
       "4  40.578590000000, -111.595087000000  "
      ]
     },
     "execution_count": 4,
     "metadata": {},
     "output_type": "execute_result"
    }
   ],
   "source": [
    "df_task_1a.head()"
   ]
  },
  {
   "cell_type": "markdown",
   "id": "36c62d50-9c88-4ed9-8c97-e552a6e4c620",
   "metadata": {},
   "source": [
    "### **Task 1b: Fix Column Names**"
   ]
  },
  {
   "cell_type": "markdown",
   "id": "ab8f8f24-afd2-424f-ab34-3e3cde723aa3",
   "metadata": {
    "trrack_graph": "ᯡ࠽䈌ʀ匦㢠⹰ࢀㆪこ<ǐʀ୥崡汤Ɓ䔠⍂⠨撂䂼ì债晶堪慯掩ᐠ▴ሰ璹㤨䮲减ⓥ䢧᜾㺣䉠ð䀡壅冨㕀ॢȠ௞䠸ᢀ眰䅽忖䀢晐樠Ԃ牠ΈƔڦ❓ሠƠ暬ॡ声Ȅ恨䙜⬮ಬ俨⫣䞐డ㙐᬴⣔䰲ճ㌰䊆၂۔欠㖹┰᧶༨̘ඛฌ琻ɋ㉄ܠ榡哸Ŝ.ؗ⾬ള勑̵㯺ᱱ曨ဩᒡᾪ३⁂惡৒ј⪖ᩋࢶ䥣䍢ᇃ⢀☾ԣ䖎㑝䳓ⳄⓀ᪱ĦҐ戤׌㝔䆦成扉ڠ凈㨣ೣㅘ湏Bࡤ䒠ଈତޗ٩䟨㣜㥨◈ᩲ㭡⟢䀠 "
   },
   "source": [
    "It looks like something went wrong when reading the file and some column headers start with a `;`. **Please remove the semicolon from all headers**. "
   ]
  },
  {
   "cell_type": "markdown",
   "id": "63f4d5c5-9383-4857-beae-0cfa6ba466f2",
   "metadata": {},
   "source": [
    "#### **Instructions**\n",
    "1. **Rename Columns:**\n",
    "    - Use the interactive  table in Persist to correct the column names by removing the leading `;` from their names:\n",
    "        - _;Aspect_ → _Aspect_\n",
    "        - _;Region_ → _Region_\n",
    "        - _;Trigger_ → _Trigger_\n",
    "        - _;Weak Layer_ → _Weak Layer_\n",
    "2. **Verify the Output:**\n",
    "\t- Print the head of the generated dataframe to verify the changes."
   ]
  },
  {
   "cell_type": "code",
   "execution_count": 5,
   "id": "e74dd265-2437-40e4-8673-be7ea1d079b3",
   "metadata": {
    "__GENERATED_DATAFRAMES__": "ᯡࠩ䃬࿀ᜤᠹ悋ᐨ怱䐢犲ǩ怶恉宑召䵬ð䀲悠ᄡḡ沯偑嬸Ř˛ࠥ笪  ",
    "__has_persist_output": true,
    "trrack_graph": "ᯡ࠽䈌ʀ匦㢠⹰ૠㆬ΀ᦳ⠥䁍ਡ氢೬ᾠ㍔ĺ࠳䀧ᛢɐ怩䌪縑ᅅ侩ᐠ▴ሰ瑹㠫ழ减⓵䴧㝾纣䉠ð䀡妳冨㕀ॢȠ௞䠸ᢀ眰䅽忖䀢晐樠Ԃ牠Έ䁹磬⸾#દԭ⋆㏐䤨璸㉂㔬ᬽ侨撃厁凹ᡀ}ǁ䧬撫ࡓ⌥䢍ठ祐ሺ㙖᦮斯拤䣘⓬̠ⶬ۬䩂̓ɠ暌戰⻤⢕␮䶀ې䶲Ζ憵ǁ斚䙦䇐₍㜁䭐㦻G䀡挞瘑䇂癞࠸䬇夼㉙䲡D⤽൤慦⠺೤ᆸ泖էㄸ擓ࠗ⑰横ޡᇐ⸪ഴ㈌瞷敆㒀嚫檔㈬䣔✰⒲ᒺ↲撒㲡⑱ᓪૄᴯ㡹᢬༷愲撴◬旒䉎⾴ᖪ務⾆ᥬࡧ䌃჆!ഡȸwӬTüବ'ᫍᚻȠ㛺໕廧⢣満䰯哠㇌棗㲞w欨䂈㸬䒵㣸ᐣጂㄉറં慤ᴭہㇴ㸫䑤卵ƣ瑘岎㒣ǡ灤⤢䋂栬ଭ䔀碜¨ⓠ䑭୭劢㫽ष堊ܜ瘤䒻⛓⑁㉺媮䧠懸ℛ⇸炛伓⁪燙滫䠮°怠⣕வ帎倴ĤὭき犖溾窋樖籠狭䰅ϡト ἴ䘨ὑ䃡癗爐删߂剏ãʆ吕笞䡑ᬆ䯇Რ㠩穐఩尨Ⱅ㓰㷡䇰儯ˆ吓䊢ạჹ䒣⁪ᆡၩ䲥愑ࣗ炸ؤヸᬧ悳䐦慀ࠪ䢄ਤ䢅䒭䇈⪀âూ栠奒ద⤄ᝐ涛ⓛ屗ⓚ᥍䰓繠Ⱘ汻ⵡ␹୻搦擃᭵ۺ㑮揀笱፱樨⻣㜸机戤撹栴暻⠬汰ବ䮻獢汻֑ी繸漺ᎄ檹ᮐ喹⋜憚拔ɸ樳ཱི瓝⢋ͬᶈ5⁦ᄍ᷃Ģǌ琭㕻Ⰺ恩疼㟂Ȅ悎⭣፮ಢࡡ姖⬻䗅Åস⥥⃨㔥恒㸡䳂ध憂ᤣ憀ᨪⶨ濅ⷥ᭍ᑙ᳎䠵⽂吥㫁⤛ᵀᲧ∣椚ï䅑☫৸㔃ᤆ㴋ㄷ߀硷Ỡ㢮㐁㦗᢭㣏∌㶀㨉㰯⑄紡䠠綱曢綾㰍◼㠋絔䀶᎐佳FЬ煀沶⎚劲ೠ᪱碀亾瓐庣䉄咹⚌⤲䵜吉窴杺嵰欟ᚾ灥筱珹帰≀䲽枀䔲°电ᅐਥƁ೸恘Ɫ䇱ↇ↱ᲂ⅐ᓼ愸ᨫॻⱭ䆸⒪㦬侧砡၊煌疳ⴄ㶈傻પ淴㮅僛⺭嶊㎡Ә㜇⇦娠技◛ᮃ˴婶猦媦⛸䤞ᳪᓦ傠但瓲倆拷↶窪寶亝孕ᅳ喍ῆ⨥痀Ĥ瀷旘䵫唏巽䁐庵㘋桽ᬭ繐潹慐⹉䰵㱁烌₀巂湉ぁm㡛ۡᗸ撁ሶ杍筭ᙪƊ⸫榚㝰ᆖ㚫㥱㟪㞔㠌ᵚ抚揁㑉䌷涽⁏湸㵉塠曘⃳㡑尹睔ᣃⱓḫ搘䒃㲗䊬棹ɀ⤑㇄Ꮱᒣ授၆ණᙄ晬ᓱⲙ侺䪬˳☰㎁㇊冁櫂⹅渲◄墩ᗕᡰ唭⥁㋔缀䈂滍港䎎ٹনఁ㠲ᅈᙶ嘶嚿䔡ҪØႁ˔⃀ᔥ煂ҀΌ䔆涡囵ჰഡ⁛ϐࢱ㭗㍒侃v⼀㙷水ᇓᐫ㇈ڠ皍܌ᄡ๾⒡堶᳘ຘឲ磏₣⽚þ⸏棛恀囱ᐲ䘰ɩ夤犩ұ䓬ࢰቱ៝ㅁ巕ዠ⡱凗ᗀᵅ氣†ᥒΘۋ渦䩲搼勊⛄㪰禕ऐ僑瓢ਁృⰢ筲墁ṚᏒ㭷㦗➊瓮嬅媙殕環㧿䒓Ề慤౤み爚䖧穋-絕㧷ᐹ㝄٣㼇岞䶡碀䇷䈡棫ㅰⰸほ熀䠁惶䟦喏簤ᙂ硸䋄⪺租᧳ഭ烎码䘼♌ᗬ摐ை➤ᩳ❴壔楡ठ硹⦨僢泻物幹纛ܓ૓䣉۠˭₢ԡ⛷ó࿃戽°⌢❬犠矋䂈༕䱼挦勤㶥䣸矕䡚撑݈໎ሽ⹳扜䣠粂Ѐፁ疋ˌ笸ᘖ‼⹙旼ⱛ岳⊺⁡ᾗ־⒱䳡ᕡ⅝ኳ剄矖␿ࢲ  "
   },
   "outputs": [
    {
     "data": {
      "application/vnd.jupyter.widget-view+json": {
       "model_id": "04f9ec12298b407194b79fd8053d3ef4",
       "version_major": 2,
       "version_minor": 0
      },
      "text/plain": [
       "PersistWidget(data_values=[{'__id_column': '1', ';Region': 'Salt Lake', 'Month': 11, 'Day': 9, 'Year': 2012, '…"
      ]
     },
     "execution_count": 5,
     "metadata": {},
     "output_type": "execute_result"
    }
   ],
   "source": [
    "PR.PersistTable(df_task_1a, df_name=\"df_task_1b\")"
   ]
  },
  {
   "cell_type": "code",
   "execution_count": 7,
   "id": "a88886c3-e5e1-4af8-9ec9-34027731fa87",
   "metadata": {},
   "outputs": [
    {
     "data": {
      "text/html": [
       "<div>\n",
       "<style scoped>\n",
       "    .dataframe tbody tr th:only-of-type {\n",
       "        vertical-align: middle;\n",
       "    }\n",
       "\n",
       "    .dataframe tbody tr th {\n",
       "        vertical-align: top;\n",
       "    }\n",
       "\n",
       "    .dataframe thead th {\n",
       "        text-align: right;\n",
       "    }\n",
       "</style>\n",
       "<table border=\"1\" class=\"dataframe\">\n",
       "  <thead>\n",
       "    <tr style=\"text-align: right;\">\n",
       "      <th></th>\n",
       "      <th>Region</th>\n",
       "      <th>Month</th>\n",
       "      <th>Day</th>\n",
       "      <th>Year</th>\n",
       "      <th>Trigger</th>\n",
       "      <th>Weak Layer</th>\n",
       "      <th>Depth_inches</th>\n",
       "      <th>Vertical_inches</th>\n",
       "      <th>Aspect</th>\n",
       "      <th>Elevation_feet</th>\n",
       "      <th>Coordinates</th>\n",
       "    </tr>\n",
       "  </thead>\n",
       "  <tbody>\n",
       "    <tr>\n",
       "      <th>0</th>\n",
       "      <td>Salt Lake</td>\n",
       "      <td>11</td>\n",
       "      <td>9</td>\n",
       "      <td>2012</td>\n",
       "      <td>Snowboarder</td>\n",
       "      <td>New Snow/Old Snow Interface</td>\n",
       "      <td>14.0</td>\n",
       "      <td>360.0</td>\n",
       "      <td>North</td>\n",
       "      <td>10400.0</td>\n",
       "      <td>40.577977000000, -111.595817000000</td>\n",
       "    </tr>\n",
       "    <tr>\n",
       "      <th>1</th>\n",
       "      <td>Salt Lake</td>\n",
       "      <td>11</td>\n",
       "      <td>11</td>\n",
       "      <td>2012</td>\n",
       "      <td>Skier</td>\n",
       "      <td>New Snow/Old Snow Interface</td>\n",
       "      <td>30.0</td>\n",
       "      <td>1200.0</td>\n",
       "      <td>North</td>\n",
       "      <td>9700.0</td>\n",
       "      <td>40.592619000000, -111.616099000000</td>\n",
       "    </tr>\n",
       "    <tr>\n",
       "      <th>2</th>\n",
       "      <td>Salt Lake</td>\n",
       "      <td>11</td>\n",
       "      <td>11</td>\n",
       "      <td>2012</td>\n",
       "      <td>Skier</td>\n",
       "      <td>Facets</td>\n",
       "      <td>36.0</td>\n",
       "      <td>5400.0</td>\n",
       "      <td>North</td>\n",
       "      <td>10200.0</td>\n",
       "      <td>40.599291000000, -111.642315000000</td>\n",
       "    </tr>\n",
       "    <tr>\n",
       "      <th>3</th>\n",
       "      <td>Salt Lake</td>\n",
       "      <td>11</td>\n",
       "      <td>11</td>\n",
       "      <td>2012</td>\n",
       "      <td>Skier</td>\n",
       "      <td>New Snow</td>\n",
       "      <td>18.0\"</td>\n",
       "      <td>6000.0</td>\n",
       "      <td>Southeast</td>\n",
       "      <td>10200.0</td>\n",
       "      <td>40.598313000000, -111.628304000000</td>\n",
       "    </tr>\n",
       "    <tr>\n",
       "      <th>4</th>\n",
       "      <td>Salt Lake</td>\n",
       "      <td>11</td>\n",
       "      <td>11</td>\n",
       "      <td>2012</td>\n",
       "      <td>Skier</td>\n",
       "      <td>Facets</td>\n",
       "      <td>42.0</td>\n",
       "      <td>9600.0</td>\n",
       "      <td>North</td>\n",
       "      <td>10400.0</td>\n",
       "      <td>40.578590000000, -111.595087000000</td>\n",
       "    </tr>\n",
       "  </tbody>\n",
       "</table>\n",
       "</div>"
      ],
      "text/plain": [
       "      Region  Month  Day  Year      Trigger                   Weak Layer  \\\n",
       "0  Salt Lake     11    9  2012  Snowboarder  New Snow/Old Snow Interface   \n",
       "1  Salt Lake     11   11  2012        Skier  New Snow/Old Snow Interface   \n",
       "2  Salt Lake     11   11  2012        Skier                       Facets   \n",
       "3  Salt Lake     11   11  2012        Skier                     New Snow   \n",
       "4  Salt Lake     11   11  2012        Skier                       Facets   \n",
       "\n",
       "  Depth_inches  Vertical_inches     Aspect  Elevation_feet  \\\n",
       "0         14.0            360.0      North         10400.0   \n",
       "1         30.0           1200.0      North          9700.0   \n",
       "2         36.0           5400.0      North         10200.0   \n",
       "3        18.0\"           6000.0  Southeast         10200.0   \n",
       "4         42.0           9600.0      North         10400.0   \n",
       "\n",
       "                          Coordinates  \n",
       "0  40.577977000000, -111.595817000000  \n",
       "1  40.592619000000, -111.616099000000  \n",
       "2  40.599291000000, -111.642315000000  \n",
       "3  40.598313000000, -111.628304000000  \n",
       "4  40.578590000000, -111.595087000000  "
      ]
     },
     "execution_count": 7,
     "metadata": {},
     "output_type": "execute_result"
    }
   ],
   "source": [
    "df_task_1b.head()"
   ]
  },
  {
   "cell_type": "code",
   "execution_count": 6,
   "id": "9e207ebe-137e-4a26-82cd-50c792cc28da",
   "metadata": {},
   "outputs": [
    {
     "data": {
      "text/html": [
       "<div>\n",
       "<style scoped>\n",
       "    .dataframe tbody tr th:only-of-type {\n",
       "        vertical-align: middle;\n",
       "    }\n",
       "\n",
       "    .dataframe tbody tr th {\n",
       "        vertical-align: top;\n",
       "    }\n",
       "\n",
       "    .dataframe thead th {\n",
       "        text-align: right;\n",
       "    }\n",
       "</style>\n",
       "<table border=\"1\" class=\"dataframe\">\n",
       "  <thead>\n",
       "    <tr style=\"text-align: right;\">\n",
       "      <th></th>\n",
       "      <th>Region</th>\n",
       "      <th>Month</th>\n",
       "      <th>Day</th>\n",
       "      <th>Year</th>\n",
       "      <th>Trigger</th>\n",
       "      <th>;Weak Layer</th>\n",
       "      <th>Depth_inches</th>\n",
       "      <th>Vertical_inches</th>\n",
       "      <th>Aspect</th>\n",
       "      <th>Elevation_feet</th>\n",
       "      <th>Coordinates</th>\n",
       "    </tr>\n",
       "  </thead>\n",
       "  <tbody>\n",
       "    <tr>\n",
       "      <th>0</th>\n",
       "      <td>Salt Lake</td>\n",
       "      <td>11</td>\n",
       "      <td>9</td>\n",
       "      <td>2012</td>\n",
       "      <td>Snowboarder</td>\n",
       "      <td>New Snow/Old Snow Interface</td>\n",
       "      <td>14.0</td>\n",
       "      <td>360.0</td>\n",
       "      <td>North</td>\n",
       "      <td>10400.0</td>\n",
       "      <td>40.577977000000, -111.595817000000</td>\n",
       "    </tr>\n",
       "    <tr>\n",
       "      <th>1</th>\n",
       "      <td>Salt Lake</td>\n",
       "      <td>11</td>\n",
       "      <td>11</td>\n",
       "      <td>2012</td>\n",
       "      <td>Skier</td>\n",
       "      <td>New Snow/Old Snow Interface</td>\n",
       "      <td>30.0</td>\n",
       "      <td>1200.0</td>\n",
       "      <td>North</td>\n",
       "      <td>9700.0</td>\n",
       "      <td>40.592619000000, -111.616099000000</td>\n",
       "    </tr>\n",
       "    <tr>\n",
       "      <th>2</th>\n",
       "      <td>Salt Lake</td>\n",
       "      <td>11</td>\n",
       "      <td>11</td>\n",
       "      <td>2012</td>\n",
       "      <td>Skier</td>\n",
       "      <td>Facets</td>\n",
       "      <td>36.0</td>\n",
       "      <td>5400.0</td>\n",
       "      <td>North</td>\n",
       "      <td>10200.0</td>\n",
       "      <td>40.599291000000, -111.642315000000</td>\n",
       "    </tr>\n",
       "    <tr>\n",
       "      <th>3</th>\n",
       "      <td>Salt Lake</td>\n",
       "      <td>11</td>\n",
       "      <td>11</td>\n",
       "      <td>2012</td>\n",
       "      <td>Skier</td>\n",
       "      <td>New Snow</td>\n",
       "      <td>18.0\"</td>\n",
       "      <td>6000.0</td>\n",
       "      <td>Southeast</td>\n",
       "      <td>10200.0</td>\n",
       "      <td>40.598313000000, -111.628304000000</td>\n",
       "    </tr>\n",
       "    <tr>\n",
       "      <th>4</th>\n",
       "      <td>Salt Lake</td>\n",
       "      <td>11</td>\n",
       "      <td>11</td>\n",
       "      <td>2012</td>\n",
       "      <td>Skier</td>\n",
       "      <td>Facets</td>\n",
       "      <td>42.0</td>\n",
       "      <td>9600.0</td>\n",
       "      <td>North</td>\n",
       "      <td>10400.0</td>\n",
       "      <td>40.578590000000, -111.595087000000</td>\n",
       "    </tr>\n",
       "  </tbody>\n",
       "</table>\n",
       "</div>"
      ],
      "text/plain": [
       "      Region  Month  Day  Year      Trigger                  ;Weak Layer  \\\n",
       "0  Salt Lake     11    9  2012  Snowboarder  New Snow/Old Snow Interface   \n",
       "1  Salt Lake     11   11  2012        Skier  New Snow/Old Snow Interface   \n",
       "2  Salt Lake     11   11  2012        Skier                       Facets   \n",
       "3  Salt Lake     11   11  2012        Skier                     New Snow   \n",
       "4  Salt Lake     11   11  2012        Skier                       Facets   \n",
       "\n",
       "  Depth_inches  Vertical_inches     Aspect  Elevation_feet  \\\n",
       "0         14.0            360.0      North         10400.0   \n",
       "1         30.0           1200.0      North          9700.0   \n",
       "2         36.0           5400.0      North         10200.0   \n",
       "3        18.0\"           6000.0  Southeast         10200.0   \n",
       "4         42.0           9600.0      North         10400.0   \n",
       "\n",
       "                          Coordinates  \n",
       "0  40.577977000000, -111.595817000000  \n",
       "1  40.592619000000, -111.616099000000  \n",
       "2  40.599291000000, -111.642315000000  \n",
       "3  40.598313000000, -111.628304000000  \n",
       "4  40.578590000000, -111.595087000000  "
      ]
     },
     "execution_count": 6,
     "metadata": {},
     "output_type": "execute_result"
    }
   ],
   "source": [
    "df_task_1b.head()"
   ]
  },
  {
   "cell_type": "markdown",
   "id": "3875e7fc-ec40-4241-aa94-87b31e59944f",
   "metadata": {},
   "source": [
    "## **Task 1c: Correcting Data Type of 'Depth_inches'**"
   ]
  },
  {
   "cell_type": "markdown",
   "id": "7a7eebda-1b60-4bff-89d3-a5548a601b49",
   "metadata": {},
   "source": [
    "There is a data type issue in the `Depth_inches` column of our dataframe. This column is incorrectly formatted as an object (string) due to the presence of the inches symbol `\"`.\n",
    "\n",
    "Remove any inches symbols `\"` from the `Depth_inches` column and convert it to a float data type."
   ]
  },
  {
   "cell_type": "code",
   "execution_count": null,
   "id": "fb9bff61-9a8d-4114-97f3-4f6d0cd0e61e",
   "metadata": {},
   "outputs": [],
   "source": [
    "df_task_1b.dtypes"
   ]
  },
  {
   "cell_type": "markdown",
   "id": "b23913ac-ea3c-4ca1-8ac3-07d3026ca76e",
   "metadata": {
    "__GENERATED_DATAFRAMES__": "{\"nodeDataframes\":{},\"graphDataframes\":null}",
    "show_aggregate_original": "false",
    "trrack_graph": "ᯡ࠽䈌ʀ匦㢠⹰ೠ↺΀Ơ瘢ᠢᠫ‵䁇ፉ䐢怣侽振ၑ䶃᪰঵䂆⹉多䪲┠অҤᴶṂ㊵嘊᭓ㄅ毠㒰䣑Tဠ㚉҃೨ɰ䂠̂҆;䘸Ϥၗ眼䋐Ð䬹†于␠㚠ᝨ沂烒⎁൸憈㬸ᐠṬү䓧Ⴠ椓ᣘ⌚ᆠᛦކ䜱ǁ䅀㖖नຂᩈ桫〦塵偢㶱⢠⾱䂅埦䖃塀㪂ₐ暸ᵽ䀳怠煼砤慸㴻ࠩ㯏姭ঌ䄢䣫䧙㱈刱ㄿᬦ䩫⏃㌱楫磤ⰴຣα晼ਫ䎁㺕䮃Ⴤご䖂᥂挰ы゙㈬ܠ₰ᑊІ僑汮ޯ戩䉱៪怡⹁ᡤ甑擸抯॰ᡬᅓ╄璚╄㈠ "
   },
   "source": [
    "#### **Instructions**\n",
    "1. **Identify Entries with Inches Symbol:**\n",
    "    - Use the interactive table in Persist to look for rows with `\"` in `Depth_inches` column\n",
    "    - _Hint_: You can search in the interactive table\n",
    "2. **Edit and Correct Entries:**\n",
    "    - Edit the cells to remove the inches symbol from these entries. (e.g. `15\"` → `15`)\n",
    "3. **Convert Data Type:**\n",
    "    - Change the data type of the `Depth_inches` column from string to float.\n",
    "3. **Verify the Output:**\n",
    "\t- Print the head of the generated dataframe to verify the changes."
   ]
  },
  {
   "cell_type": "code",
   "execution_count": 8,
   "id": "7cb9b796-3aa5-4181-bf91-fa8ba7e33c20",
   "metadata": {
    "__GENERATED_DATAFRAMES__": "ᯡࠩ䃬࿀ᜤᠹ悋ᐨ恑䐢犲ǩ怶恉宑召䵬ð䀲悠ᄡḡ沯妶ᠢ㠪癀ఄᐠ ",
    "__has_persist_output": true,
    "trrack_graph": "ᯡ࠽䈌ʀ匦㢠⹰à⬠ᰤ〳䔢ధ〫‬斬ƭ䐢摃ۤ㕃ᑬ畒䨡൩媉Fᩄ倡ᙰ䡣厃扆ⅺ亣ጶ㘸᳚簒र͢&澻䙁咠┨ࠠ⹀ڀǘ憣屢֖绨┠୑䍈3䗩-儤ࣰ甤溂ⱬႰ⭫෦᐀ᡨ傴䩜㊀崧ࡂ%栺಼晨ᐣ┨㼦挥'䦡ბшᒔ䨽9䚣⍠ᠢ沀㜘儰㸸ሪ㎆Ⴀ癁䉊⃼欠㖸缨ᷞୈ̘ถ䯄籪ජඃ㜨妡䳸Ŝ.⠗᾵ᮍ焦ᖓ㲮㸼晠䀲ᒷ䖪Ҥ⹱䃣灔ö䗢䡬ᔤ䍢䢈ⱪрۢذ⇣㳏ߪ₈恭ᏸ痄౱౾ᑪઉ٫რ犙ťᙊ䪀䑝悄ґɩᅪ奘♻ᙂ猙Ⱗ䭠䫾ㆴ攤䀠⪻恦㓀!ኡȸwᣬ״Ą(䘦磹㸠ὠ༙愆康⢰>嵭௉塀୶ƠĈ⢓㯭⨣渶䱣㏻ᑓᳯⰙİ喁ঁ䓢ᙊ℁኱圻⌭咜ؠᣁ䑪ྠᡃ尺ᖢ䊴᭗徂燙剬ᜠ₱摊ᚯ⏢檖Ꭳ我䌝ߨ椋浮寋榁校噃䃀Α劍ᦢ猥䧌姆᭍䈫對ݛ唋ᤤᝋ䜄㠸瀩ؠʨѴ㘌ઠ⁗䠨欣彧ᨁ盅佛攘⁓㇐縰ᄥ慈 漴䄨潑䞭常ฐ删߃ቯæ˦䐮䛑幔ᤆᔁ䆐㷠Ⅸ㬭ŭയ㤈∱慀䣱Ÿഥ璤ष悩ጣ昣ᆔ摰̦⋑ϔ値̡傒䐥ᅀᘪ䤘ਤ䠦ᔨ愦壵ᨠ๿l䡏ը歶桚❷揠᥏↱ՉⓁ婃ښ㵅䕨ᨼ晹眱❉ᩎ梁屑救絝戦ღ⒌澲䌜羵恸ᠴ䅨ᤳ寨ứ␖唵䄮ⴴ㬈獈捴偫ƾ೧Ɔᳯᤂ㘤ㅩ䲴家䫩ࣶ㫪Vᦠ⢠ˈ圆䋠宵拪呶⫮埶劲傸᪽把浥吊䍤榺⭦槺䝬͚坽楠⽮墀彿殺೤ᦦܹ扦ဠ䗦ӻ战¸ኤ㖤,⠲熀Ⱟର౤䐐㰸䎐渧Ͱ⠠㌵兑㰀ƻ䎴ᕅ娽Ⅸ⅒ㅵჰ璲⯒乮⨴幬癮ᚺ㩀⺧刔憰ᣢ㗪レⷶ愎ᖳ砾⏠爞㎢禨䮺狼疶篾⟴䃞宴̞㮠掞溝㐞䞨޲眬ѡ㽚ש牄ɱ⮺䛉穇東▊ℍᐥ敫硆楱ᭋ柱筏晙眽㒋祂䞋㦗ⷱအ䒙ᖝ掝墶᎔ᠡᇀ㐻䎶ᆱ═渠㉪䄰℆悓䎐䨰ᬥⓧ爜f慥ᣝ懥㤻婈㻥⍐哃⌮洬㦅⪹抢䄬竽篑環៖䄆㘳瞝᥯眆ᄣ႟䩨眤怀߉瑷㟚嶝῞崀䜙彊懍⦭橯⯉槂樹秄柠旓權ೣ᪍í̍烠痖揈䙆Ἱ᩽㓤ĩ⠬Ἠ咧勷㢐䆀࿒♪㐦Ȩ匧¬刻䐀墴ೱ哭嫕㚇㖜捊⋩⪅䯵㕤戊凋橚᧔⫦捙杠㢌ዑ࡬᮴i冂眥ᤌỦ即旆䯨暿䞙〭䱙䚃禦戓ࠂႰ\"暬ᙀ♌桢⳶ᗨ斥孁ᡓ欻ㅶ䎊抻滍㉬淘ㄪ⶿ݻⷐ稧ᖂ䄡䳆浍㋷䍜䙦ᢨϻࠥ႟ㆠᨢᓤѰ栶ా冠瀶8焠夜˨⸡癸ॠ㿸灢哩䊬㩥㑵䔮普ԫ泪Y᧳⁧ـ䐹琇ࣰ౓捞ం㇤ග䨹渏客ῑ͟Ⱁ䂗狤〃绍敀ㅒ䅏幄倭祄䐑假熞㠁繙ᩝ⪪⁇䝲⚦䣭ᴖᥥ啒ᝦ瓫恴㠽㷖䣁㟞櫖ᒣ潳剬ொ䴁ς♋Ƃ஫抏Ͽቅ璋ྐྵ湅X䁑ᐱ⥝䜣総策䀒䠮猎猉₤ଔ嗣瘛仛纺ȣこ⍊⊼䐻᳘滥ㄠㄨ̧ড়抳ዧጾ㓸簼㱔溘⑕禹冦姓犰將儈⯁灴憿ਠ塪⃸⽪◘䛈糕奥㚂斄◊桓≂敕峺⑺䑋ැ᭍ॅÌ⑄䙂⩇䐑㾦淜䕨แ〶䉈戩㤭䭡㦺䅞弣䭗ϛ™࠷煠䈯冱條凢ᔃ䯦Ꭿ䖖ᾪ▔琼ⴎ䫁ូ㥩ഓㅂ䟬䃦焱晹㋫ࢋ፠ᭋ㊖✡癡昄箧᫙䡹᭻ₖ儊介牽ⷴ䤰毴箠⾣䰠ݐ䶉畔娇ᬍᓕ㺸ؚ‡䔬ȡᩜ昍ᇱ漪⊺卯㑸✹凌ăⴉྴ朢凩ഗI⊰䦉ޝ敒剒⭆㿗筜攔捄෦桨⃙䰓ᮿ犐⠷ↅᠰ䨀ஂ࿆⯤朗ଫ泾૙儶桯炎惔Ő⃥冄椂惫€ი⑁䘤͘ᗖ礲ⶅⶁ㵷嵂癵㖴㼖⽧ᓨ䊋ᗲ㯵╚攛瑣ત⣔媉㜡㦍䚺⃅屾旷忌盱䩠ቨ〣ㆶᬡ䂗㟕ᨥ䀣̡᤺ࡤ弢㿅ㄔⶫ⁪֝㝍㊠㎌忒梺ἠ*堨ဨජ᭨ⶇↁ⤥䵙厁獆▉ᗤ喌㯧㞭䡍ⱪ㔈ਊల㧳ᗢ㣶်ǲೖ塖扮⥚両ኴ犛᱒塡亱儤㇬竹䳕歴妞嫒䏱檅᧶癩␼燢  "
   },
   "outputs": [
    {
     "data": {
      "application/vnd.jupyter.widget-view+json": {
       "model_id": "2058bf4813784ca19a0bb750e9514544",
       "version_major": 2,
       "version_minor": 0
      },
      "text/plain": [
       "PersistWidget(data_values=[{'__id_column': '1', 'Region': 'Salt Lake', 'Month': 11, 'Day': 9, 'Year': 2012, 'T…"
      ]
     },
     "execution_count": 8,
     "metadata": {},
     "output_type": "execute_result"
    }
   ],
   "source": [
    "PR.PersistTable(df_task_1b, df_name=\"df_task_1c\")"
   ]
  },
  {
   "cell_type": "code",
   "execution_count": 9,
   "id": "0241830d-a8d4-43bb-bdbb-79d8c4964c4b",
   "metadata": {},
   "outputs": [
    {
     "data": {
      "text/html": [
       "<div>\n",
       "<style scoped>\n",
       "    .dataframe tbody tr th:only-of-type {\n",
       "        vertical-align: middle;\n",
       "    }\n",
       "\n",
       "    .dataframe tbody tr th {\n",
       "        vertical-align: top;\n",
       "    }\n",
       "\n",
       "    .dataframe thead th {\n",
       "        text-align: right;\n",
       "    }\n",
       "</style>\n",
       "<table border=\"1\" class=\"dataframe\">\n",
       "  <thead>\n",
       "    <tr style=\"text-align: right;\">\n",
       "      <th></th>\n",
       "      <th>Region</th>\n",
       "      <th>Month</th>\n",
       "      <th>Day</th>\n",
       "      <th>Year</th>\n",
       "      <th>Trigger</th>\n",
       "      <th>Weak Layer</th>\n",
       "      <th>Depth_inches</th>\n",
       "      <th>Vertical_inches</th>\n",
       "      <th>Aspect</th>\n",
       "      <th>Elevation_feet</th>\n",
       "      <th>Coordinates</th>\n",
       "    </tr>\n",
       "  </thead>\n",
       "  <tbody>\n",
       "    <tr>\n",
       "      <th>0</th>\n",
       "      <td>Salt Lake</td>\n",
       "      <td>11</td>\n",
       "      <td>9</td>\n",
       "      <td>2012</td>\n",
       "      <td>Snowboarder</td>\n",
       "      <td>New Snow/Old Snow Interface</td>\n",
       "      <td>14.0</td>\n",
       "      <td>360.0</td>\n",
       "      <td>North</td>\n",
       "      <td>10400.0</td>\n",
       "      <td>40.577977000000, -111.595817000000</td>\n",
       "    </tr>\n",
       "    <tr>\n",
       "      <th>1</th>\n",
       "      <td>Salt Lake</td>\n",
       "      <td>11</td>\n",
       "      <td>11</td>\n",
       "      <td>2012</td>\n",
       "      <td>Skier</td>\n",
       "      <td>New Snow/Old Snow Interface</td>\n",
       "      <td>30.0</td>\n",
       "      <td>1200.0</td>\n",
       "      <td>North</td>\n",
       "      <td>9700.0</td>\n",
       "      <td>40.592619000000, -111.616099000000</td>\n",
       "    </tr>\n",
       "    <tr>\n",
       "      <th>2</th>\n",
       "      <td>Salt Lake</td>\n",
       "      <td>11</td>\n",
       "      <td>11</td>\n",
       "      <td>2012</td>\n",
       "      <td>Skier</td>\n",
       "      <td>Facets</td>\n",
       "      <td>36.0</td>\n",
       "      <td>5400.0</td>\n",
       "      <td>North</td>\n",
       "      <td>10200.0</td>\n",
       "      <td>40.599291000000, -111.642315000000</td>\n",
       "    </tr>\n",
       "    <tr>\n",
       "      <th>3</th>\n",
       "      <td>Salt Lake</td>\n",
       "      <td>11</td>\n",
       "      <td>11</td>\n",
       "      <td>2012</td>\n",
       "      <td>Skier</td>\n",
       "      <td>New Snow</td>\n",
       "      <td>18.0</td>\n",
       "      <td>6000.0</td>\n",
       "      <td>Southeast</td>\n",
       "      <td>10200.0</td>\n",
       "      <td>40.598313000000, -111.628304000000</td>\n",
       "    </tr>\n",
       "    <tr>\n",
       "      <th>4</th>\n",
       "      <td>Salt Lake</td>\n",
       "      <td>11</td>\n",
       "      <td>11</td>\n",
       "      <td>2012</td>\n",
       "      <td>Skier</td>\n",
       "      <td>Facets</td>\n",
       "      <td>42.0</td>\n",
       "      <td>9600.0</td>\n",
       "      <td>North</td>\n",
       "      <td>10400.0</td>\n",
       "      <td>40.578590000000, -111.595087000000</td>\n",
       "    </tr>\n",
       "  </tbody>\n",
       "</table>\n",
       "</div>"
      ],
      "text/plain": [
       "      Region  Month  Day  Year      Trigger                   Weak Layer  \\\n",
       "0  Salt Lake     11    9  2012  Snowboarder  New Snow/Old Snow Interface   \n",
       "1  Salt Lake     11   11  2012        Skier  New Snow/Old Snow Interface   \n",
       "2  Salt Lake     11   11  2012        Skier                       Facets   \n",
       "3  Salt Lake     11   11  2012        Skier                     New Snow   \n",
       "4  Salt Lake     11   11  2012        Skier                       Facets   \n",
       "\n",
       "   Depth_inches  Vertical_inches     Aspect  Elevation_feet  \\\n",
       "0          14.0            360.0      North         10400.0   \n",
       "1          30.0           1200.0      North          9700.0   \n",
       "2          36.0           5400.0      North         10200.0   \n",
       "3          18.0           6000.0  Southeast         10200.0   \n",
       "4          42.0           9600.0      North         10400.0   \n",
       "\n",
       "                          Coordinates  \n",
       "0  40.577977000000, -111.595817000000  \n",
       "1  40.592619000000, -111.616099000000  \n",
       "2  40.599291000000, -111.642315000000  \n",
       "3  40.598313000000, -111.628304000000  \n",
       "4  40.578590000000, -111.595087000000  "
      ]
     },
     "execution_count": 9,
     "metadata": {},
     "output_type": "execute_result"
    }
   ],
   "source": [
    "df_task_1c.head()"
   ]
  },
  {
   "cell_type": "code",
   "execution_count": 10,
   "id": "c1be633b-6d0b-4b85-8453-5af9d6456001",
   "metadata": {
    "__GENERATED_DATAFRAMES__": "ᯡࠣ䅬Ԁ朤壠ᜣ琢〹夤゠⹰〮⁁䁻қ䚾ኊ㇠നСࠩ瀮晼Ƭ穅5愠៤⠠ ",
    "__has_persist_output": true,
    "trrack_graph": "ᯡ࠽䈌ʀ匦㢠⹰ૠଡ䘦ロ堶䬠丹秀ࣨ圙ࠬ憺籑⭬⋳①♌䐡扪2攩њ㙼˥⑉⣷和櫽厯㼰Tဠ㘡܄ゕ䐢⡠䀢狲̠෦వ戰㎷噐yԊ䀤炔䀦栢痔㪖⍄#᭣ဇ僑䅠Ȅ恨f[੊ဦ杫柅㦒先洠ⶬ˯⡂ϳɣ⩌䈰㓤࢖岼怭㝋欛㪣䄠徍㾓㚯↡で㚤䄀䵐媫G䀡泜甑䂃㯶ၢ䞋ⶾ壹Ȣጷዲ狙ᥰ౞㸿཭൦䝫僞睓硌ᑎ┤擐⸪ߢ炨欺槓ंᠢⳖන冨ఇᢼ煆Σ慨᤹०儈سˣじ湏E䐠坿Ῥ㭘ሼ㩦择ҥҼ厲橊␬ᤠ "
   },
   "outputs": [
    {
     "data": {
      "application/vnd.jupyter.widget-view+json": {
       "model_id": "920278cf7bed425fb4d485fed1b4ffc3",
       "version_major": 2,
       "version_minor": 0
      },
      "text/plain": [
       "PersistWidget(data_values=[{'__id_column': '1', 'Region': 'Salt Lake', 'Month': 11, 'Day': 9, 'Year': 2012, 'T…"
      ]
     },
     "execution_count": 10,
     "metadata": {},
     "output_type": "execute_result"
    }
   ],
   "source": [
    "PR.PersistTable(df_task_1c)"
   ]
  },
  {
   "cell_type": "markdown",
   "id": "753ed0a8-dc0b-4ac8-8afd-b554ea8f4d28",
   "metadata": {},
   "source": [
    "# Task 2: Filtering data\n",
    "\n",
    "In Task 2, we further improve our data by removing outliers and removing certain records to have more consistent data. "
   ]
  },
  {
   "cell_type": "markdown",
   "id": "7f25d8f5-98e8-4b0f-9358-ed85f77cbed8",
   "metadata": {},
   "source": [
    "## **Task 2a: Remove Outliers**"
   ]
  },
  {
   "cell_type": "markdown",
   "id": "ac53a605-2d10-4457-9625-70ce88f04f3b",
   "metadata": {},
   "source": [
    "In this task, we address data accuracy by filtering out anomalies in the elevation data. We observe some records with elevations outside the plausible range for Utah, suggesting recording errors.\n",
    "\n",
    "**Remove avalanche records with elevations below ~4,000 feet and above ~15,000 feet, which are outside the realistic range for Utah.**"
   ]
  },
  {
   "cell_type": "markdown",
   "id": "664c641e-1193-4233-8897-0161f209c86f",
   "metadata": {},
   "source": [
    "#### **Instructions**\n",
    "1. **Identify and Remove Anomalies:**\n",
    "    - Interactively select data points with elevations below ~4,000 feet or above ~15,000 feet in the Persist Scatterplot.\n",
    "    - Use Persist's interactive features to remove these anomalous records.\n",
    "2. **Verify the Output:**\n",
    "    - Print the head of the generated dataframe to verify the changes."
   ]
  },
  {
   "cell_type": "code",
   "execution_count": 11,
   "id": "73d5727a-f059-4bf3-977c-1ce0d6d92eba",
   "metadata": {
    "__GENERATED_DATAFRAMES__": "ᯡࠩ䃬࿀ᜤᠹ悋ᐤ推̅ሣ䧠ⶠ卍捯ᥔᠣ℠▢dʘϔᝠ捌〤瀵摠៨⠠ ",
    "__has_persist_output": true,
    "trrack_graph": "ᯡ࠽䈌ʀ匦㢠⹰ೠ̡ᰣᠱ䖣డ〫‵䀧൳䘰ࣥᓧ䠽䡠♆⮵ջ砨㑅䆰䥈kᑄᄉ夑঴囇⃩喧㥎ẝΦ䐡傠Ǘ痃Қ′䈤7ࡣᠠ湐戎Ⴆ寐爿%屨攠ʕ㥀Ǖ㹰㪒℺ᚬ䳯䚁厳灑䐸఼ำح仮䚂惂䢀†嵣ᇓ峩ڨ㟥ࠒ沀倠祐ሮ᦭ڠ΁怯ᨛ桘䌠ⶬ᛿䙂ࠃɠ枍戰⻤㡵␶䎀ې倓Ζᄵ⇁斋࿯䗐₍㜁䰅搰ⶠᏠĂ縓磣熖侤ใ㢜❟ƅ㵄楍֧瓸昴ྦྷႸ䄪͡懐㳒♢慨纴ೡ⃸਻ơ硞濔䓱䁺狉惬㗂婌⼴⒑䈺↲撒㲡⛢ᑪ㊼洨稐暋ႵႲᓇẴ旒峙ྴᓰ拉⹶啬㪧䀦⮹罶䨠0Â᫘ዓⰠ経حᬺ*ᨸ淐⃦楤䠢⨔捠ۃ̤⬡࣭㒣纘৲痛䚾岪⊰ᡏ⟫⪢Ṙû㤙繠䑆ࢌ‼Ძࠕ撞徬␁␼˘␑嗆῏槁䑖ا୤䒞ث䉵ٯ儊珘㉬ᜠ₰ᑊگ≐ⲖᎭ挐Ɂѭ佔䛮寋栬䍲翍〕ᎉ嚊硌䬶喎媍ؽ䈯娽䜧崏ᤧ抋圏㭾⁘ባʺ塛∙晈Ġ乣\"峠࠲㦿Ꮷ┆╃砧⶯烡сॠЩ秄⡩硬㸩呠㈷燄/③桱䜢㼦㇈姙擣塧䗣碁โ撔ᑑ悵ਘⲵ㑤ᑑŠ⠦Ơ㐬и䰻ܵᖹ䇡৉ߠ盓ㄠ౨ˣ剟ʠ剟ㆈ⑧䕃岕ೃ䚋杕严燔盔您േ啀嬠㖜↸㌠ᇇ炈熢㝀=ᅑ⃬Ǭ㊬㍮楞ᶨᦀᾢ䱆⚬暎塅⨚ш硺❪ᆚⲪ㰰ᑅ䔸␤䈂ᢑ硸ᱧᡰᐕÅ㳎䤆㋴廖廷墭࿣Ṛ䐠>੫焜䬩ᕵ㋈፨❘ᡢ坝枆囑㏕瞻啲༯嚼ⶨ柠ࢼᇹ判䥴炫摰㽃%刿⇀બ熼擝║禬ᜉ嬿⒠剖䌤灎Ș止䖑ࡴ撠ၵ匤湕▌࣠ढ忒愖椶↮Բ㭈᧭⏮䴱㤈ᗴ⍞୧⤀柨墶㋢奶᫦䏶╩壖㛣娰⻧夀ᅪₘ᲎ਃ䫺嫶抑孖国姀仮孳ἤ憸䡤Њ㩈榺୲斠䛁歚坽毹὿樦凔ᮦ㾮Ŧ㦖᭐磱ᭆ䜥懆濾᙭峴ᅾᤫ▉䕌⠐劣ሰ刿䃂縵濂昰ᝤ≹奖㘯墅玘㮪᢮ᅪ᥵Ꮺṩ⣊ŭ⤪䉆䧲ຽㄔ㺰〬ᄠᑔဪレ㦬秸䦌ތ㶠焼ᡂ狞矮猷ῶО䁆廜桁灡⡔՞䌮۔ч坨摕ڝ䡼Ⴥဥ䓼㙓ᐹ乄Í椴䋠㐧ᇀㅊ˰編仠☰䎶䲤㊈㢼䄀ᠬ娣ᛟ爢恭掣ⰲຮ礢㥈槵⇮ഫⅎ崵㯃媲৐查Żᐡ宂ϖ䓣⁮挌滸䁝䆚ࡗ堬㱅卨㐡怺Į愢⁊ʀ⯸倯婀囄உĶ䍦椂憄嚪ⷌ囡ᵆ檰ᛓ䑲͠䖂ᬂ̄櫲᤽ᇻ⍛儔أ瑄慬䎌᳔⢉⛨ᇭ䉀䁒兛═ւǠᅋᑐ঩᤻⑘ಳ牓А㙤偖ָⶠᲡ浀೯㨑䖹ণㆶݗᎎ㓆庋沭໘洳㤰ᕘ眦㡆ℤ၃揮叨墥慣䗶稏᳚㮫煼෢㝏揎㿠ʦ侑‥峟ሩኙ殞㏥瞙僪ᑂ≣澴᩹䒀༨⟘⥯϶数䕂㐨㉿⼡⑧Ȋ⽊့䒀ྲ撖䤉Ⲧ䂤ۄՌ㲪㖪䩽榅ɱ䁊䧉ṇĕᕲ䵗䌚៫糀⬔嗷༢ሹ篊∵ᙓ啅㓆㫄榰窹̫‿ᐈ㎾㦇ᩡ䭇ЦⓆ溦斌磭洑䭠⚻⇷ᡳ䕍㐎Ⲩ囉࣐嬫㦕㒉䎲碓ᚠୀ璶⌉窊景ヨᥟ䠥㇎憛ᓲⵍ博㏇㩧栔埯䊭䰙㫉ᛲ殀⃖㶊⤣ຉ摼浊岸⥹宽秹ᡫ㕔䖩⊦䥬暢刧㲦⧙籾夼⺴珣恰ŧᠻ͖ւሬĀ䈣䠼݋簥ᄩස瀺ʸቆ≓瘘ఊ۷愬拞緧ᅡ✪䋮㪠⺍ټ㴤䫦М䠥ƿᩦўǨ䊨恅ॱద凍䩄ࢻ⊫ഡ瑲Ҙ⯍䢴䔕潽撞凃Ǉ≣㚀࢛⬰淥Ⴎ⢊⨹噑䃍㺹୵䠴㢗ދ⻐ࢣ㈼椢ᅹ䋴替᥂ѩvJ挡⪼ߠ⊂嗤π扬偁⍵•჊㿔ᣪ欵ᐰ≀ᾍ恙浐⻻₇姠渨⃟㒑婡屉淙槿偐ႀਯ䒾⠠ច䓜₺ⸯ䅽慍祂㐒ṏ灗㱮Į癩眉㷽挑•䑜牥ᜯ⤓䋁⡒䞳姕ᕒീ猟㓩偎ᘡ修Ǳ䪙そ᧏Ꮻ⹇ⷜ徊໌൒䅉಼囹ঽ⊛ṫ⋞撐灷愙♁格䲷䪉ᡟ斿ᡒ咈䛦⃗䛐ᙡ棍浨⻣♗䕌㋫㽍䩘男㥴೜⌸Ǽᨣ߄┲槪呔䝉ㄣ䣠䷡炼⋖Ⳮ⭄樲㩋劒琥⡬⊣棯⣉䃠楤皂✨倿傈ੴ㭶䠴㐬椚枨娡泚尭៬ಭ⒑摉団㐔嫤㞞ᒇ㗿持Ⴇ匬ᇖ䡓㔀⮎ゖ洍ᒣ涄̡緛䲧⃁䍬䌚特㚰ཫ໷ⱽ嶶緍ሒ禣ݪ㔫㡐䰨Ɛ፭ⶂ摴〢〰˕෉⤸ῳࣜ惖纠ɰְr墐Ẓ⧍vا怾䓨㘤廙㓛砶䆈Җܱ塦篊䛥༲ίഡ嗃৔᫷⥘屻䟇㩼Զ]紏煇囐柎磫划㙓牼㘊Ŷ眜篷ठ碳俋ひ㰾悦⛜᠎擡琝粸旍㌀犑疾嘋庿㤁䩛憤ᡃ绌㎥ᮮ椊ᒂ䜽嫾Ῡ效凳ᭉ片溈㖇ĸ㞉漅㔙䲪檹Vȓᛵ⳽剑㊾स̢栾ư㣙⫞Ӱ纠Ⴄ矲業ເᱢ䉍抾単䂐័◎㹀斝㘦紏䑌憳硺䉓㾄㗕」⢮墡瓄Ǧ欢✖ƀ೻䷍屻旒䢒廗嵈䣖枍ℽᩛ䓺䷗㹻ྐ容ฏ⮏潖箏秖儫᪋୽᳁⛄琪ᣢ◝î㦧ᗋӂ冈歹ㆬ䷈⁾忌‵ᦤ⓺殘䟶佘恷ゥ擜‰嗻Цp౨ຶᎰᦇ戽㟀乢䃛㒂拄噲浌㋵ⶅ䂥盼寋䇰殥㶖ᯋ㣳䢂▁Ɛਦ㷟ཛྷ䂸ߡᘗ៏矋圕㯐ṗɩt䮎咽ࠐ⬮緻空ļƦ惩䥝ㆵ㭷⁩姹䪆ょᕁ᧳嘪璅┸㧴䐶㜇㦁债灰@ᅓ䕼⒚ᔀ⒰瀯䁝䓠⦁㱧㛘剷⬹枭ۀݯ⥈∻ẝ߰ẙ稱撥琥Ӱ㘡倵猕⧪稼⩻☪ᅛ⺽ᓀେℲⳳ噙⊠桰ў乻኉ऐબe⚰ॲڢ唙⛊ჰ㰲䅴ᒺ᭱֫咦Χ⋰⺭⅁猳ছ㑚㑢斺㺧忳惚嗹᫰桎攇᛺㬧ᠳ䆈܀凰京瓤৚Ⱕấ璏ℚⒻ␷璡䀦⻙畿⺡㗞㇈䷱紆垦Ⱃⵣ糈柕ْℿ僯䍄⮛挭溽牱⾚㈤⒎琿㼃稤㹈̿ᅸ牟䂍矨礡㯧庝煈匡ߢ凥䋈暡Ᏸ䊚䞪ڊᓫ᪹璔⎥㖾䅬៭ጧ௽摙垔⮧⯶幵埏⿡止汌䜏㷂㕣幚憌ˊ嶼噼ďɂ砢ੜ8㥠౯㛣䊗௛⛲ἒ唗ಘ囷滧栗ਢϭ㤋嚑✋㟭⠥à㤡堰繧喛ᆒ俼竁ማ▐≠໱ᗟ␋ᮼ๯犧ថ懳穖ਝ┱ᇤ朌甠簤確ₐ䕀㴢ߤ䂣哺ണ唻婵ཱဩ㛧$䚨㲁糯烱ౕⱧ˺఩஦఑⵩ౖ唞ᩒ淮ᙨڀ㐃噞棙ヌ᫂⠣छॵ⇤䍨䣔՘稣稣穟ℯӆ㙚⥛ழ䖀ᕅࡪ䥘挃乇刍↋╘㫿兆䜋⽺Ѭ㫬爻₀䛢⊠甽ᇒ橞儽璈慤婀㼍ೈ畤㟻煻瞑ᅁ㱰ᓠ侸⡄俫碇烝ᡪ⿦竕枤桘Ῡ঒ຟ⩆忽ॹᓤ幨翯䇁П㾤㇨ᇸ烳ེ⧭໲ࣇ⩚壨∂็ආ䡆乵䦠栧ɒ暣㖇ޅ槡઼犉⏛ᠡ㚸հ㮋䗺㡳䛨⼊㈨壷ޤⱠԹ䃭倀狚嗰栺焨䞡㗧⹠斄䁻奘湼䭕ང⋲渢䭨汸甼䂬䌾ඣܪయ捜硸ⷥᇱ㕼⍣䂸Ⴓ相Ɫ╋ㅒ䷸䶀ൈ䡦乘䫆䵝⧊∠  "
   },
   "outputs": [
    {
     "data": {
      "application/vnd.jupyter.widget-view+json": {
       "model_id": "0e464c7e6d164e6c9209f746f7d0391a",
       "version_major": 2,
       "version_minor": 0
      },
      "text/plain": [
       "PersistWidget(data_values=[{'__id_column': '1', 'Region': 'Salt Lake', 'Month': 11, 'Day': 9, 'Year': 2012, 'T…"
      ]
     },
     "execution_count": 11,
     "metadata": {},
     "output_type": "execute_result"
    }
   ],
   "source": [
    "PR.plot.scatterplot(df_task_1c, \"Elevation_feet:Q\", \"Vertical_inches:Q\", df_name=\"df_task_2a\")"
   ]
  },
  {
   "cell_type": "code",
   "execution_count": 12,
   "id": "4d621204-8ac2-4943-accb-b43713efa767",
   "metadata": {},
   "outputs": [
    {
     "data": {
      "text/html": [
       "<div>\n",
       "<style scoped>\n",
       "    .dataframe tbody tr th:only-of-type {\n",
       "        vertical-align: middle;\n",
       "    }\n",
       "\n",
       "    .dataframe tbody tr th {\n",
       "        vertical-align: top;\n",
       "    }\n",
       "\n",
       "    .dataframe thead th {\n",
       "        text-align: right;\n",
       "    }\n",
       "</style>\n",
       "<table border=\"1\" class=\"dataframe\">\n",
       "  <thead>\n",
       "    <tr style=\"text-align: right;\">\n",
       "      <th></th>\n",
       "      <th>Region</th>\n",
       "      <th>Month</th>\n",
       "      <th>Day</th>\n",
       "      <th>Year</th>\n",
       "      <th>Trigger</th>\n",
       "      <th>Weak Layer</th>\n",
       "      <th>Depth_inches</th>\n",
       "      <th>Vertical_inches</th>\n",
       "      <th>Aspect</th>\n",
       "      <th>Elevation_feet</th>\n",
       "      <th>Coordinates</th>\n",
       "    </tr>\n",
       "  </thead>\n",
       "  <tbody>\n",
       "    <tr>\n",
       "      <th>0</th>\n",
       "      <td>Salt Lake</td>\n",
       "      <td>11</td>\n",
       "      <td>9</td>\n",
       "      <td>2012</td>\n",
       "      <td>Snowboarder</td>\n",
       "      <td>New Snow/Old Snow Interface</td>\n",
       "      <td>14</td>\n",
       "      <td>360.0</td>\n",
       "      <td>North</td>\n",
       "      <td>10400.0</td>\n",
       "      <td>40.577977000000, -111.595817000000</td>\n",
       "    </tr>\n",
       "    <tr>\n",
       "      <th>1</th>\n",
       "      <td>Salt Lake</td>\n",
       "      <td>11</td>\n",
       "      <td>11</td>\n",
       "      <td>2012</td>\n",
       "      <td>Skier</td>\n",
       "      <td>New Snow/Old Snow Interface</td>\n",
       "      <td>30</td>\n",
       "      <td>1200.0</td>\n",
       "      <td>North</td>\n",
       "      <td>9700.0</td>\n",
       "      <td>40.592619000000, -111.616099000000</td>\n",
       "    </tr>\n",
       "    <tr>\n",
       "      <th>2</th>\n",
       "      <td>Salt Lake</td>\n",
       "      <td>11</td>\n",
       "      <td>11</td>\n",
       "      <td>2012</td>\n",
       "      <td>Skier</td>\n",
       "      <td>Facets</td>\n",
       "      <td>36</td>\n",
       "      <td>5400.0</td>\n",
       "      <td>North</td>\n",
       "      <td>10200.0</td>\n",
       "      <td>40.599291000000, -111.642315000000</td>\n",
       "    </tr>\n",
       "    <tr>\n",
       "      <th>3</th>\n",
       "      <td>Salt Lake</td>\n",
       "      <td>11</td>\n",
       "      <td>11</td>\n",
       "      <td>2012</td>\n",
       "      <td>Skier</td>\n",
       "      <td>New Snow</td>\n",
       "      <td>18</td>\n",
       "      <td>6000.0</td>\n",
       "      <td>Southeast</td>\n",
       "      <td>10200.0</td>\n",
       "      <td>40.598313000000, -111.628304000000</td>\n",
       "    </tr>\n",
       "    <tr>\n",
       "      <th>4</th>\n",
       "      <td>Salt Lake</td>\n",
       "      <td>11</td>\n",
       "      <td>11</td>\n",
       "      <td>2012</td>\n",
       "      <td>Skier</td>\n",
       "      <td>Facets</td>\n",
       "      <td>42</td>\n",
       "      <td>9600.0</td>\n",
       "      <td>North</td>\n",
       "      <td>10400.0</td>\n",
       "      <td>40.578590000000, -111.595087000000</td>\n",
       "    </tr>\n",
       "  </tbody>\n",
       "</table>\n",
       "</div>"
      ],
      "text/plain": [
       "      Region  Month  Day  Year      Trigger                   Weak Layer  \\\n",
       "0  Salt Lake     11    9  2012  Snowboarder  New Snow/Old Snow Interface   \n",
       "1  Salt Lake     11   11  2012        Skier  New Snow/Old Snow Interface   \n",
       "2  Salt Lake     11   11  2012        Skier                       Facets   \n",
       "3  Salt Lake     11   11  2012        Skier                     New Snow   \n",
       "4  Salt Lake     11   11  2012        Skier                       Facets   \n",
       "\n",
       "   Depth_inches  Vertical_inches     Aspect  Elevation_feet  \\\n",
       "0            14            360.0      North         10400.0   \n",
       "1            30           1200.0      North          9700.0   \n",
       "2            36           5400.0      North         10200.0   \n",
       "3            18           6000.0  Southeast         10200.0   \n",
       "4            42           9600.0      North         10400.0   \n",
       "\n",
       "                          Coordinates  \n",
       "0  40.577977000000, -111.595817000000  \n",
       "1  40.592619000000, -111.616099000000  \n",
       "2  40.599291000000, -111.642315000000  \n",
       "3  40.598313000000, -111.628304000000  \n",
       "4  40.578590000000, -111.595087000000  "
      ]
     },
     "execution_count": 12,
     "metadata": {},
     "output_type": "execute_result"
    }
   ],
   "source": [
    "df_task_2a.head()"
   ]
  },
  {
   "cell_type": "code",
   "execution_count": 13,
   "id": "095c288e-e24c-4dc3-9bb3-8985cd31ebbd",
   "metadata": {
    "__GENERATED_DATAFRAMES__": "ᯡࠩ䃬࿀ᜤᠹ悋ᐤ推̅ሣ䧠ⶠ卍捯ᥔᠣ℠▢dʘϔᝠ捌〤瀵摠៨⠠ ",
    "__has_persist_output": true,
    "trrack_graph": "ᯡ࠽䈌ʀ匦㢠⹰ˠ㬡ద〭䛌Ԁୡ䎔䓀࣠䀼⍉䁑䙃వͦ堨぀ፓᑄ倡ᙣࡣ厃摂♭˕ᴦ曍浘簔ठ͢&淡彲ࠠ┨ࠠ⻚₀ǘ憡墱㶖熠֨终n❄V䀷⟏傑䂺ဠಚ䘠眵䘪/ጢ₁傂ㅘస娺ྥ̱䏰˸惍峢ႎᡄ᫊扁ì⊥畉ᘠ殒眿寘ሰؓ気ᨠ曼䙋ɛⱄܤ榥啸Ŝ.ᖩឳᯃㄢᚕ寻㧃⌂ၪӮྭԨ揁厐僐ᐸȩ儭ড‪悹繘ᐿЁ織ἠ䗓噻⦡ᆡቋヹസ䂞▥撲ヘ㸸䕃䡴ⴾ䊀墌ܫ䘀щޠ֓砢掤䕁掄籢䡮⡩㕙ᧂ劤憰  "
   },
   "outputs": [
    {
     "data": {
      "application/vnd.jupyter.widget-view+json": {
       "model_id": "48dc40aca20944f6bf4ed453a489b5df",
       "version_major": 2,
       "version_minor": 0
      },
      "text/plain": [
       "PersistWidget(data_values=[{'__id_column': '1', 'Region': 'Salt Lake', 'Month': 11, 'Day': 9, 'Year': 2012, 'T…"
      ]
     },
     "execution_count": 13,
     "metadata": {},
     "output_type": "execute_result"
    }
   ],
   "source": [
    "PR.plot.scatterplot(df_task_2a, \"Elevation_feet:Q\", \"Vertical_inches:Q\", df_name=\"df_task_2a\")"
   ]
  },
  {
   "cell_type": "markdown",
   "id": "b447b862-90c6-4ed7-b48b-baa1cf74ac2d",
   "metadata": {
    "__GENERATED_DATAFRAMES__": "{\"nodeDataframes\":{},\"graphDataframes\":null}",
    "show_aggregate_original": "false",
    "trrack_graph": "ᯡ࠽䈌ʀ匦㢠⹰࣠✴ƀචآ൐ୠᣠ⭎¸䚀ᶥ<⋵攴≲䦆ᨐ҅䁲䥈kᑄᄈ夒ર囇⣹嗛➎帣ᢤ䀡傠Ǘ熠㥀ॢȠா䠸ᢀ㜰䁾巒•橀樠Ꮃ䤠ව׷核ᱬ䣘紲₞૦Ԡ޳ŀ凐栠晬╍ಲ䖽䂇栢沀團ᄰ㸸ሪ喊Ⴇ♁䐔粶ᦞΎ刺ࠥ簉窺簲ᖢොሧ҉䃵ⰡḠޅ毗䘤䗾墥୚渍磆搰㣄䆯䌭䊣ᎄ䢩妈䪑䴹ҩ䋫◂რ⢒ઉ⃁⽌囦媍ኘ垤䢠䍤⒂Йᘷ੡䄀҂Ქ⃱琿啡憐㲞ၯ䌨焠ᗿ搫໎㒫ல熪Ņ⎃ऺᥛ⃄ᅠ  "
   },
   "source": [
    "## **Task 2b: Filtering Out Old Data**"
   ]
  },
  {
   "cell_type": "markdown",
   "id": "c86b30d4-4762-4bc0-bfd3-6f1486b55ad6",
   "metadata": {
    "__GENERATED_DATAFRAMES__": "{\"nodeDataframes\":{},\"graphDataframes\":null}",
    "show_aggregate_original": "false",
    "trrack_graph": "ᯡ࠽䈌ʀ匦㢠⹰࣠✴ƀචآ൐ୠᣠ⭎¸䚀ᶥ<⋵攴≲䦆ᨐ҅䁲䥈kᑄᄈ夒ર囇⣹嗛➎帣ᢤ䀡傠Ǘ熠㥀ॢȠா䠸ᢀ㜰䁾巒•橀樠Ꮃ䤠ව׷核ᱬ䣘紲₞૦Ԡ޳ŀ凐栠晬╍ಲ䖽䂇栢沀團ᄰ㸸ሪ喊Ⴇ♁䐔粶ᦞΎ刺ࠥ簉窺簲ᖢොሧ҉䃵ⰡḠޅ毗䘤䗾墥୚渍磆搰㣄䆯䌭䊣ᎄ䢩妈䪑䴹ҩ䋫◂რ⢒ઉ⃁⽌囦媍ኘ垤䢠䍤⒂Йᘷ੡䄀҂Ქ⃱琿啡憐㲞ၯ䌨焠ᗿ搫໎㒫ல熪Ņ⎃ऺᥛ⃄ᅠ  "
   },
   "source": [
    "The interactive barchart below, shows the data aggregated by year. There are noticeably fewer records for the years before 2010.\n",
    "\n",
    "During this subtask we will remove the older records, keeping only the records for year 2010 and above"
   ]
  },
  {
   "cell_type": "markdown",
   "id": "24b308e8-8437-4146-9ebf-cd121aeb7f9f",
   "metadata": {},
   "source": [
    "#### **Instructions**\n",
    "1. **Analyze the Bar Chart:**\n",
    "    - Identify the bars that show significantly less data.\n",
    "2. **Filter Year:**\n",
    "    - Select and remove the years with few records.\n",
    "3. **Verify the Output:**\n",
    "    - Print the head of the generated dataframe to verify the changes."
   ]
  },
  {
   "cell_type": "code",
   "execution_count": 14,
   "id": "6488acb7-e239-4d7e-92ef-3e9d74c3d823",
   "metadata": {
    "__GENERATED_DATAFRAMES__": "ᯡࠩ䃬࿀ᜤᠹ悋ᐤ怱䐢犲ǩ怶恉宑召䵬ð䀲悠ᄡḡ沯偑嬸Ř˛ࠥ笪  ",
    "__has_persist_output": true,
    "trrack_graph": "ᯡ࠽䈌ʀ匦㢠⹱⁆ĸ倣ʑ〶䁓C๚ࠥ䱠䍋С數控噊⏖Ὢ稡氠泄䥠ɹ⅁ͩ䮠䓙┺穬⳸㦑琈ቄ-Р෍⤸⏲´၀Øಡ䀦熦ྑѕ嶧æ6煃ᐠ৵撠۱ˀ䔐Ìň⥁஧ԭ╁竦ঈ㹰ὢ⤠䁧斬⇤㄂䥩䑀}↱姼撥䑑窦榌ばᠲၫ֤ᝢ怩控ದ{్嚬∫⌤䏮淤ᄝ䒐絨ᒦ怭㚽匤ใ㔠彣ਚ朧ᮀ䛽淡嚁௖o#七瀃Ȑ๿м⎐ᱮⴢ晠䂲㒼䈲倩ྭ䜀棴㨯ӂᠠ䂰䖨烑Ⴊ3ࣈⱹ䏠Ჿ࿺➈悽ᯢ犆ೱ⤮ၩ቉ᩪ䃩㉙Ṡ剈䪅ժ凋⇐䞵來ዩջ万㋙㹰噊䬅╺傐䲆ᑄ#ᗬw┠(m㵘ᕔ4吰敥ᮌࡉ徊愐EǤ榢Ṙࣳ珸洠䡊঍ᄸᒥ∁ࢸࡨ⃠㢔ඥ℀㸸Ë⋱栢䡡⏀䉦ᵘ戶畣ం㫙渹̭䐀䑒ʭ⇰ಆᖮ抑屾ᾬከ洮䓷栬Ɂ䒅䌑煊ᙃ᧬ஈ㦊媔ᮐ瞏塠䜳䴄祼䮀圏㩜㭣ษრqԸ沘倰㧰怢峠⡍緞὾矗民K孟丬䉂⠡Þ㒪ࣞম䰼ဇ燄/⛄潁䂤䙝猝练␬‵戢⁧䌢ႂ༝ᴬऑれባ჊ັㄶˉᣑϡ汃é椾Ťきເ㸲㋀䉑ˡӂ㋣種ັ㐴ʱ旑ண䡵ࣂ⢏攡ᚩ您溵߰滔玔䈦䨸Ɏ似پә塨آ扤䪣劉ଡ㑌栜ઔ䝣䚤ة䊈䤑抄䩃㘩डに斓Ҍ丙慈ҝ払ゐ㡘䝐偁甠ㅼ⺱䩻丬௓ℐ'䪴绲ഒ懛ьἁ൨᥺㒐ᨚⷲ䲎壬岷ѫ᧘⦄奲㟫䇄ᡇ庐࿠Ěс敱༴ঔ悹ص惠ढၭ扸⅃拨㫡≖攥姈盳↖ᴷ嬩挩兢琧㩦棶᯦䓹᭰㓣᪰⳧᪰㳩ᨶ拴塪⤣悽ᣠ⇦өᣆ毓ᮆ峿᭝ᠤ婐浴抅伦ͬࠥ憺材ᮔ卲ᛣа愚櫦ᔸ㇗悦Ⴌᅜ⥌᭶楾ዪ⹽ኄ╠⫊慣⦪张㮔⇱Ȭ憴㍐ŏȀ᧾㉌׮慎䶮稌䎸犼玧㣼焮爦䏹犾௧ž䖹禫䟣⻞ဥ灒࿦䢘`篩䁙嚡增ั桓垕廀㘅卜昁䮅慹໔䘥傽枻ណෛ盏曡孞敛ᛔᐛ殚栙Ⴧ潛ဿԄ⤃瀙䇞✭ဧฃ㄂澡┝洧牄˧༴䍐䘠ⅆ粽˰繚䆆磷令ᳺጰἤ㦲ᰶ䕰㤅喙̎ՠ焴ሦ旨㖞࠾篸ஷ㐜䁸ભ秇ͨ◞⁖┹嫈㛣⊖洧娈ᷱ僘⡵͒Ԇ捶嘞婈⛥⋖産妈滷∖ဧ揾悴佨俌眝䯕ᯆ⁗嵧偌⋦ۅ䆐䀠 "
   },
   "outputs": [
    {
     "data": {
      "application/vnd.jupyter.widget-view+json": {
       "model_id": "822cf197a1514110bad61df78517b2d3",
       "version_major": 2,
       "version_minor": 0
      },
      "text/plain": [
       "PersistWidget(data_values=[{'__id_column': '1', 'Region': 'Salt Lake', 'Month': 11, 'Day': 9, 'Year': 2012, 'T…"
      ]
     },
     "execution_count": 14,
     "metadata": {},
     "output_type": "execute_result"
    }
   ],
   "source": [
    "PR.plot.barchart(df_task_2a, \"Year:O\", \"count()\", selection_type=\"interval\", df_name=\"df_task_2b\")"
   ]
  },
  {
   "cell_type": "code",
   "execution_count": 15,
   "id": "dbaaf49b-f3cd-4b97-954d-bab69e773cf2",
   "metadata": {},
   "outputs": [
    {
     "data": {
      "text/html": [
       "<div>\n",
       "<style scoped>\n",
       "    .dataframe tbody tr th:only-of-type {\n",
       "        vertical-align: middle;\n",
       "    }\n",
       "\n",
       "    .dataframe tbody tr th {\n",
       "        vertical-align: top;\n",
       "    }\n",
       "\n",
       "    .dataframe thead th {\n",
       "        text-align: right;\n",
       "    }\n",
       "</style>\n",
       "<table border=\"1\" class=\"dataframe\">\n",
       "  <thead>\n",
       "    <tr style=\"text-align: right;\">\n",
       "      <th></th>\n",
       "      <th>Region</th>\n",
       "      <th>Month</th>\n",
       "      <th>Day</th>\n",
       "      <th>Year</th>\n",
       "      <th>Trigger</th>\n",
       "      <th>Weak Layer</th>\n",
       "      <th>Depth_inches</th>\n",
       "      <th>Vertical_inches</th>\n",
       "      <th>Aspect</th>\n",
       "      <th>Elevation_feet</th>\n",
       "      <th>Coordinates</th>\n",
       "    </tr>\n",
       "  </thead>\n",
       "  <tbody>\n",
       "    <tr>\n",
       "      <th>0</th>\n",
       "      <td>Salt Lake</td>\n",
       "      <td>11</td>\n",
       "      <td>9</td>\n",
       "      <td>2012</td>\n",
       "      <td>Snowboarder</td>\n",
       "      <td>New Snow/Old Snow Interface</td>\n",
       "      <td>14</td>\n",
       "      <td>360</td>\n",
       "      <td>North</td>\n",
       "      <td>10400</td>\n",
       "      <td>40.577977000000, -111.595817000000</td>\n",
       "    </tr>\n",
       "    <tr>\n",
       "      <th>1</th>\n",
       "      <td>Salt Lake</td>\n",
       "      <td>11</td>\n",
       "      <td>11</td>\n",
       "      <td>2012</td>\n",
       "      <td>Skier</td>\n",
       "      <td>New Snow/Old Snow Interface</td>\n",
       "      <td>30</td>\n",
       "      <td>1200</td>\n",
       "      <td>North</td>\n",
       "      <td>9700</td>\n",
       "      <td>40.592619000000, -111.616099000000</td>\n",
       "    </tr>\n",
       "    <tr>\n",
       "      <th>2</th>\n",
       "      <td>Salt Lake</td>\n",
       "      <td>11</td>\n",
       "      <td>11</td>\n",
       "      <td>2012</td>\n",
       "      <td>Skier</td>\n",
       "      <td>Facets</td>\n",
       "      <td>36</td>\n",
       "      <td>5400</td>\n",
       "      <td>North</td>\n",
       "      <td>10200</td>\n",
       "      <td>40.599291000000, -111.642315000000</td>\n",
       "    </tr>\n",
       "    <tr>\n",
       "      <th>3</th>\n",
       "      <td>Salt Lake</td>\n",
       "      <td>11</td>\n",
       "      <td>11</td>\n",
       "      <td>2012</td>\n",
       "      <td>Skier</td>\n",
       "      <td>New Snow</td>\n",
       "      <td>18</td>\n",
       "      <td>6000</td>\n",
       "      <td>Southeast</td>\n",
       "      <td>10200</td>\n",
       "      <td>40.598313000000, -111.628304000000</td>\n",
       "    </tr>\n",
       "    <tr>\n",
       "      <th>4</th>\n",
       "      <td>Salt Lake</td>\n",
       "      <td>11</td>\n",
       "      <td>11</td>\n",
       "      <td>2012</td>\n",
       "      <td>Skier</td>\n",
       "      <td>Facets</td>\n",
       "      <td>42</td>\n",
       "      <td>9600</td>\n",
       "      <td>North</td>\n",
       "      <td>10400</td>\n",
       "      <td>40.578590000000, -111.595087000000</td>\n",
       "    </tr>\n",
       "  </tbody>\n",
       "</table>\n",
       "</div>"
      ],
      "text/plain": [
       "      Region  Month  Day  Year      Trigger                   Weak Layer  \\\n",
       "0  Salt Lake     11    9  2012  Snowboarder  New Snow/Old Snow Interface   \n",
       "1  Salt Lake     11   11  2012        Skier  New Snow/Old Snow Interface   \n",
       "2  Salt Lake     11   11  2012        Skier                       Facets   \n",
       "3  Salt Lake     11   11  2012        Skier                     New Snow   \n",
       "4  Salt Lake     11   11  2012        Skier                       Facets   \n",
       "\n",
       "   Depth_inches  Vertical_inches     Aspect  Elevation_feet  \\\n",
       "0            14              360      North           10400   \n",
       "1            30             1200      North            9700   \n",
       "2            36             5400      North           10200   \n",
       "3            18             6000  Southeast           10200   \n",
       "4            42             9600      North           10400   \n",
       "\n",
       "                          Coordinates  \n",
       "0  40.577977000000, -111.595817000000  \n",
       "1  40.592619000000, -111.616099000000  \n",
       "2  40.599291000000, -111.642315000000  \n",
       "3  40.598313000000, -111.628304000000  \n",
       "4  40.578590000000, -111.595087000000  "
      ]
     },
     "execution_count": 15,
     "metadata": {},
     "output_type": "execute_result"
    }
   ],
   "source": [
    "df_task_2b.head()"
   ]
  },
  {
   "cell_type": "markdown",
   "id": "8a92b8a9-c3a8-4a57-be3b-c9cdc977092c",
   "metadata": {
    "__GENERATED_DATAFRAMES__": "{\"nodeDataframes\":{},\"graphDataframes\":null}",
    "show_aggregate_original": "false",
    "trrack_graph": "ᯡ࠽䈌ʀ匦㢠⹰ೠ⬠沈֭⠸恍ff9昽䁮ۦ࠰汬നڀপ㈏䣹厠㬦ተ¶⡨⇱㌀ᅁ╶庳ୖ⹜簧ଭࠣ℠Έ橦औ䁅ШNႦ〡岁䏼ℭ㞁摞+㢱䨠Ԋ牠Έƕ٦枓቙ჿਸ旑䅠Ȅ恨戬പᎭె䝁净儬Ö᡻⌸䐱䘩׍宨⇓ࡱ䍲ච᫲壬จ䙤Ɲڣ圖⍞ᛡ৽ण䃔戋㘠传ϊ揿振䘌汣䓼㹮䘫㈨ቺ⩯↧ᄨXഉ⠅ㅖࢢ侸⇄僡ಖࡢҁ氣С宍劄倶䢡⍤㲂̤㚗٩䄀硂಩⍰琦ᦪ悑屾ᾨႨ㺜*瘪䋇޶⋤ᓘ犠䭳঺᥇⏰ᅠ  "
   },
   "source": [
    "## Task 3: Data Wrangling"
   ]
  },
  {
   "cell_type": "markdown",
   "id": "9da80393-7f4b-4115-a4d1-5b7978e11358",
   "metadata": {
    "__GENERATED_DATAFRAMES__": "{\"nodeDataframes\":{},\"graphDataframes\":null}",
    "show_aggregate_original": "false",
    "trrack_graph": "ᯡ࠽䈌ʀ匦㢠⹰â䂬ƀᶷ琶䁋c<搔怳ଚ䠳亡䈤㉕⁖ì⺇⊨攩ᐠ▨戰㑹㧒妰囇⃹喧㝞Ţ∠桠ûு䁔䈠ॢȠந㺸ᢀ盅⻿夣•晀樠Ԃ牠Έƕ稦❳ሪὦ䰼⇑䅠Ȅ恨㙎⌯᪴䶹䈁ℓ琡㙐ᮂ⢨᢬थ⧓ࡢ㌰ሚ璋U䳘䠵欯Т縔絭Sㄭۡ۹ण䉔悊㘠传ϒ橷挣⌏ⱡ䕼庮打㈨ɼ榨慢䃂॑瑐繦┭ڼ㾬⎂厃焸牘榥ᄨ䦯ඦ嘔㗆溄⒀擒摖≦၀ⶃ㧄మޢᄴ䩍རへ∦䯧焤愷䍠Žƀ夅შ㤙༾′⪂㵩掳婊⢄  "
   },
   "source": [
    "### **Task 3a: Creating and assigning 'Avalanche Season'**"
   ]
  },
  {
   "cell_type": "markdown",
   "id": "402412ae-3b84-4fec-9c01-94dd203a7b1f",
   "metadata": {
    "__GENERATED_DATAFRAMES__": "{\"nodeDataframes\":{},\"graphDataframes\":null}",
    "show_aggregate_original": "false",
    "trrack_graph": "ᯡ࠽䈌ʀ匦㢠⹰â䂬ƀᶷ琶䁋c<搔怳ଚ䠳亡䈤㉕⁖ì⺇⊨攩ᐠ▨戰㑹㧒妰囇⃹喧㝞Ţ∠桠ûு䁔䈠ॢȠந㺸ᢀ盅⻿夣•晀樠Ԃ牠Έƕ稦❳ሪὦ䰼⇑䅠Ȅ恨㙎⌯᪴䶹䈁ℓ琡㙐ᮂ⢨᢬थ⧓ࡢ㌰ሚ璋U䳘䠵欯Т縔絭Sㄭۡ۹ण䉔悊㘠传ϒ橷挣⌏ⱡ䕼庮打㈨ɼ榨慢䃂॑瑐繦┭ڼ㾬⎂厃焸牘榥ᄨ䦯ඦ嘔㗆溄⒀擒摖≦၀ⶃ㧄మޢᄴ䩍རへ∦䯧焤愷䍠Žƀ夅შ㤙༾′⪂㵩掳婊⢄  "
   },
   "source": [
    "Next, we'll introduce a new categorical variable named `Avalanche Season` into our dataset. This addition aims to classify each avalanche record into different parts of the avalanche season (Start, Middle, End) based on the month it occurred in.\n",
    "\n",
    "Create a new category `Avalanche Season` in the dataset and assign each record to `Start`, `Middle`, or `End` of the avalanche season based on its month."
   ]
  },
  {
   "cell_type": "markdown",
   "id": "86d54d80-ef52-4630-bffb-1e04d9320384",
   "metadata": {},
   "source": [
    "#### **Instructions**\n",
    "1. **Define Season Categories:**\n",
    "    - Based on typical avalanche seasons in Utah, create a new category called `Avalanche Season`.\n",
    "    - Add three options for this category -- `Start`, `Middle`, `End`.\n",
    "2. **Interactive Category Assignment:**\n",
    "    - Use Persist's interactive features to select each month and assign it to one of the `Avalanche Season` values (Start, Middle, End).\n",
    "    - You should use the following ranges for assigning proper categories:\n",
    "        - `Start` of Season for _October_, _November_, _December_\n",
    "    \t- `Middle` of Season for _January_, _February_, _March_\n",
    "    \t- `End` of Season for _April, May_, _June_\n",
    "3. **Verify the Output:**\n",
    "    - Print the head of the generated dataframe to verify the changes."
   ]
  },
  {
   "cell_type": "code",
   "execution_count": 16,
   "id": "63b62f4c-8841-4f6c-8011-cb2ee31c2c7b",
   "metadata": {
    "__GENERATED_DATAFRAMES__": "ᯡࠩ䃬࿀ᜤᠹ悋ᐬ推̅ሣ䧠ⶠ卍捯ᥔᠣ℠▢dʘϔᝠ捌〤瀵摠៨⠠ ",
    "__has_persist_output": true,
    "trrack_graph": "ᯡ࠽䈌ʀ匦㢠⹰Ӡ㌡ణᠡ䖴〶䀧ᘢനˠᎠ㇉ᐉ䀱䓪ダᖧⷴǐւ┠অҤᵖḢጄ唊᭓㄁◷徰䢠ᨰVૌ〭␢⡠䀢焯匠෦్戰䭖癣栠妨᪠śᲰúြᐠ宦֭朄ኰ悲㑘湺℥ശ䔨✅㎀オ⢴⡩N彠椊㉡搋榢ᓶᡈ\\䰩ƪ⇡怨ㄘ̸Ƃ㺠ᛦඁ┱q䅀叶ㄨ➂ᑒ刪拐͹䙉ǻㄒ䁏彿㓙⟆塁噖炫ᠹ疠ᏠĈ箕磣槗⼰ㄷ௠灰暄Сᅩⱌb䊰傚ᢢⁱ呔ڡ䋰堲ᰄ掐無ਪ⇀㲂ԫ↘⾗䩨棡䵧夏⠉ᆈ噏੅䤸ᕎ䪅奼彈⬵╩ఱט䲸乀䥄⦊ു䦄㥜䃅䄴ᠲ䊦⦘䘳ᐲ!䫆㟥加$L䖍ㄙ䚠ʠ㙗ⰰ㇃\"⣜ᫀᜃ䀭⮷䰇碢Ⴚ渆ᅸ橉෥჈籴¶偐ˆⳉ愨ᠺ༭悁别ڡV埞洅㧄䱎ྡྷშ䨭âㆨᙛ౤炘㹀䱅窺⍧◱甚Ǎଫ値燄浓̆דⳕⷶ紶愥渖䏍檕䴢஥֑巇ြŁ䀠兌ନ㓽⁈Ȥ㰈wᠬ穛᠗ⵉ玘㹀㺚昑ŀ塴¢干ふ焸ᘫ懞Ἢ†稪⤓璀₂⼷昋⨿⪐罟最Àᴦ徆䘥岐ᄨ悰⼥⑔̠ь䱠瀮ⷠ倪Ӡ其ʢࡺୢᣜ䍤斊ྰ偸䵠䀴ሢ罉໊⒝ਤ⃸ᱦࣘሒ䂓⌂烰䁒瑂䋄倵ነӁᜀ䒰Ꭴ⃐Š♯捅⑤ᢈ⁠俦瑴᱄㕑῅焛䦅ラሒ䉰඙䑂昁けઁ⁭模粠啃擫Ⰸ籑歱尠Ȏ▿ᒧ帘䛦獗኿⥴櫁剮ৣ㌤娻ᨌ瘱ଐ欨ॏᰣ瀠㺴॓䑻䀤ⵀ▢⥣∑彏栘⹙䖨刬䕍爥㉱嗊䟍බ䆌≒盈么ს䮢ᔭ懄㑁凌㞬䐥ɬ⦺㟀᧌᛬㌨嘭䭤㊬攦桭孠旻榿⑛⧆噐ㅾ圔䚹僔囍凡盃啵⻝䊐Ỗ瞛ᆟ嘨受䖀栺ّ䐵g礭ہ呂ᣠ偆ᇠᐮš䐮⍨ㅃ揬᬴֨Ⳅ垅᲼刅૟ᕵʻ㇄᷊有㵟␀磱␼․抸㌸燐Ꭺ惝ᬮ揸ܽ獙⮸䓙坈姽〡牜ᮬ旝㜵燝枲矰ྫ⊝ᒻ䎜῔伜֟熠挤ʐ窉⤡悓丩恮ܢ榓弢㦶䱋䄵姖๽嶖䑬ܣ慯䄗嚍佢぀ོ墘䯢ѨΒ剑à椊ᵁ呁ǡユ⛀偋1঩䓩⑋ݩ䑌ۀࣽჸ弯搘䶏⤰渠殱旂䋌⩍㍰ඦ䊍婋ㆺ㕈ᅡ୬ᮧⰢᩥ䤊᭦␦᫦㣾ᡇ焬ֳ悰嚧ㄜᱦᑌ絧椆ữ䰞᪡Ԛ纛媴䀡ʅᣳP'㬺稶䠠獫ᴓഠ๣㾡ဓ㪀㉌㠂梿栱似ఢሹ䈨̈́ག悚ߌ嘥jະ䐵䕩Ⴁ偑͈¥♈ࠀ稫䰮⤬⁄ᣣᴉ囅槂㗱洢࿺߅䱯⃱涵兛ᄡ妯㈐ห⁲à⇯曃佐䋩づ䍹䖼火⌇ⲅ杘妎崒慃૿㤯ᤑ嗖妎㘇⭹෶ޠ㙏䲌恴泶ቘ䀯孻Ე㦛㝊䫃⪕☌ᛷ泌⁚ᶽᐅ㚷ᣫ㓑宋䌖梅䙱拃姦籤䤧җᭈ熮恏皞ᤥॺ␺寠㾷硤枨慸甩Ԋቩ渲渶䇵ɓ〶ᮃ㬢熐擨娭惈䙱䐺厁ऒ傋Ǆ慵楸䢢䔹ᴕ⇝ṍ受Ả缫犠䰧è࢈ᒱǗ氩籸焋䏈ᯗ⭸㎗甲枎ԩ⳪͸疽⅔᧐瑕䨸ऒ⁔ټ砳䢨Უ⡆䇰㦪ᢦ℀帨Ⴢ๚⸆㦸撢␥˰㚠ぽ枀渨゜୬枵⡏⏈矤椿䘛ڈ期䀑ə䌘捯吴ܠ⬰ʡ僑⤤斬瞣碈బ炣䢐䪣хᡪᝀ敋ϐᴶ灊@紅\\ྨȧᱨ㬩䡵ၯ⼑佒䱞،㻸殬柢糐媲楛⋓㞀玍܀ī₢቙‰ⴶ௄⒌珮ⓑ欵捼喌凛䳍橌࢔⎃㒆䘅㜇棐⏊⎌框殳₣敂⯧≫䗤杩Ⲑᆥ咸䥏伪䘬±┵冇ℤ䯌慌俖䔌于̸堮䄘⢠珞㣰㬒ၶۦ䑯⃔ڠ琷৑䄰瀻⨂杴㜾吊圊妅仒⍻巖⿚皀筭ᕢ᳤ۀ旬▅່ᤫ䃐ኴ灕ᚷᵌဦ⭈晵ࢌ屈寳孩⟔⦊∮浏勔猽㥱ᵙ䨫埭恁∛ῑ匞᢫痴⦪屟栕⿧ଁ㘪ᅧ⭂䵁ڬ⮡怽䖀ᐊ磂ഩ␡㢲棠ࢆ杶Ӯᨧؼ䭡ㄨ䂰⻄偡㰄⴦႖⿬乶炏ᆓὊ狘䠆湶ќ恊㴊ف嘼朌ᕋ泷姊╲ᕠ墨櫏࣍惵椵ᙚ僂立㡴ヵ疉玺曑ᬛ拕倣㕅⾋⵴掽⍄扩⯚嗤丧〹䩫畲嵌ᬚ㹛涧喠㠴⦱㞳㜢㸇˲ᛵ歃㼨牬㛬ఠᔂӎ瘩సཡ⤻ၨ`㺞㫢⤡₁րᾶⓓỵ◑㎶㋖摕㜭ធ泾為㶴ṍ坔䠻䆷ࠔ䌿矐Ċƴ⃰晎Τध礬凫䯯惴畨≹ᢟ浫ⴎ䯀㖶㦚ࠒ渭⿋椎呏滷䑝怊㐲ԡ唼稽ጕ彤ݾ䉌ۛ渭瑴Ÿ娐㣊ȣਹ…pィ㽴⍠䙆⨓㪨綷Ĩ³⅗ϰ૽⨪Šњ♥䍛巜䬛↔榘㍎捏໶⣽漦憲嗹⒏䁃᧒⤐䞮∍ச᡼䙟ᆒ様眠櫴⎬䀩垑种燧曕䓋㘏䲂໌淲㩘⎛☁㪼槶嬉ᵒ=㙱唠曂㌼ⓤ୦幮绶䅻ᰦ⃻㙤䨵䮳ਲ穖潙繗٪灎暻獅僒䷢宫ᡍۇ㪌壱没犺λᩑ⁁䮮㘶焥㉖ۍ婅⯭幬ᷝछぱ㑸皪癗朂滋䫹⁕峷ክ堄௎ހ渺簷濓ⶉ刉罝懜Ộ瓾偖翦箦昣澊ᖭ晉̿㷥㽠╰潠儤䣨䣘ᄹࢋ䝂侄⇀緅珈ᆠ᚟㙮椯㽾浅奼ƪ夣䳜哹㕝㦆ت榸╧֐䳏⑘ὲ庌ᱴ㰖櫎䟥倿㖐Ṉ桝殐㥶┹揂暋ಏⱗ䁭౩䧃矐揬䫧㕕Ꮎ嬏嵉ᒏᒿ䍲米癨濗υ㸳䅔䛔磳ࣱ専㈩䄷ਧ涊䠰刪昔஭䗞峚䡼宨席ސ泱刎燇睄樖ⱜ壔⁉Ķ䬾ṂࡖⶨҾ㣠旊㱊憾Რ偖㰸θ⎖破Ѓ次砯䶪㰱䲡Ⱔ枺ʓ攖ⵤ㖼༜⏷竍産橖⏶娾䵷ഈ௷ᤵ慺ಈ潄嬢ţ戢⧗㕇瓁䆎Ⱒ妸ฌ淠⻱倣ジ䌬猁်ȒάⰦ⡬ĉ➾৒䎩屵泖疐⁦淍淖宓淝岮松ᚃ㷗ֈ@欀恗Ǟ泊橖଴灖.⵵梳ౡ惌戒᪸籄⅞浲価䓄୞ጲ㫚Წ泞灁揚簩櫡嬣ڸ䳽⇲嘐榰䠩檪ᨭڧ䐷洱㸒䛉䷉浪㻳⁙࣓䦼ѡ假ᱨڬ擥☭ᇈϠ摧惍㤜桎狲羻㡢湎耗囄ⲻ⭎囶ၒ烤ᅁⰖ䢚ഄᡠԨ⑑ƴ᫠唯⢆䋐ṑ粄䱬䏋侠妩ⷜ挶᳑ᢤ梆畾俈⑀絈㢍ૈ௳⁀ᦿⷁ中塐䋃欢ధ挾泇䑼㢇倳ࡓ䦨Ⲧ在畸䤞樠姀ᐤׁㄑ恬̳摼Ьၺ㸐扡启₎㴨潾ቑ墁ၐঠ✭䰫䌞滊ἔ硥嘛拦を⬤ᵧ攮⹑0⋜ሱҔᭀ䱱汆䢨⾨⒂Ệ渑⒑䴊䁮䞩犂緤櫆ፐᾤ⃀Ǒ䥩⟆ᡊ抠䁪姝2Š㪷䩠愸஢⋶⧑⥥᲼ᵓ䤷棢පķ⤺Ŕ䞱㭁擈刢⬄檔㲅䧗拆欰㬣冢❲礯䨔ȴ¢Ԩᗜ億䕔⢕༴素৒⨙暴ア⥚䡭ᯀ㍭敖勍ᴉ嬲啍⠲ℊ⒲㔬z䘘纗㾹㒶ⱎẫி紋ℶ‪䗓㔮☡娦⸻拊⤦⾯⹏拣ထ峴≉ᄫ䦼は倰䁾╀䛨粑{ᐑᒇၗᄡ᷹ၫ癠牮Ꮘ㎬ᩗ͎ᮈᐠ廕ĎἈ⋤ઓ抆欢渠㡼㶑䶶ѣ㙩ᆸ䡀☢猯ₚਖ਼דሩᨓ滑䤫搶抆ᝑ┩⡾vᵐ瑪墇ׅ⯸䉣䫃䋻摂本矍෼ᱩᤵቬ墜Ὴ䩩ྩ炉Ṟⶄ便ౠ͞㭵㉷灤毲ᵮ㩻䗽䜌ឃ焮䷻↉ᵂᅠ㣼䈼⿇ĥ૓ሐ⩋ᣏኂᕮ卆⇁爉欰䱦䐮㢈໘羬ቊᆑ亜けᠻ磨䜞禰羷≶⩎怕囘ⴠ᣺ᦕl⠦೘䏮灑犸你㏩⌥珔඙唅庝ᷨ佊䇬ᾱ犘䊙⍈床ᥬ喙ᇰ奮ďᶅ㉠⹴䀠్⢝䌺ሃᎯ愛䒣ធῂ磀拒䘡ṹ⹙ↀݕ㈷䀲Ñࣘ砣Ѳዒ䒀狉ӂ挮㧓塊沩撖㪓䂻沶ᐖ∳羼⎋Ӫ䒱ᶷ䒵⫘䀍ぴܤᐯ埣䡿烔ᘤ⌫䄵䊼ᝃ亜ѱ撿ࣤ⒪媽⋏઒ッǣሦᑉࡲԺᓎᕄ安㧍䴾ሰܲ広‸㏹峙娉䢌槀᫊禃䓙᠙吜䩳缺榥剼෍ᜰӥ孪୯偸埥ⲵ孬䬊狅㼹㘽予⏀ನ紧⤨▀Ⰻ␠䫤戝㊩ᢨڬ咣㭋惷䫿ᜉ师⮵穋䟎㟍ᮾᬨ喣ྒい౤ଔّ㑭九姢▨䱫ⱊ㗤ᤱ⎾䒙ⒸὊ刧劣ᚾ㧫嗤打៙ⶸ幰糫׵〫澇̨恌㧊ҵ漸ᕨ埜帶Ⓟ૑俣ᄍݚ␭↲䍸䜶⚭㶳ᚼ㍉吿叨怭牉̙Ῡ㺶㘠斥ჳ浢೉Ʀ㬫㫹೴儧ᵉ䚻偳✈᪡攮㓓ग़⺪䇤媨儉噒⩭皤望⽉汼ᓴ䠏䂼ヤ㱃戲Ⴀ総恹Ӧᦩ栯㍞槈㽁弢䁈Ĳᬋᴼⴎ䕶䳓⩴竡䚉⸋獦ẏⓟ剀㑥⁔䐖⫐綬恦㗲嫙紧沊ϓ⬣擺滊㒗㚻巰曊œ㿛⳴Ọተ㆒売㑵析̕尥岷檚ᢺ兿峀掃ᤰ椪౜䄾ೄ尡摒˒孌皃䡘ᡰƌẁ曗ͣ㘻㽺䒟噃㵋䃵䫐㜅⛋侄⍷宫⛢嚆‡஡⥵碵˗Ӯ᷊縉欒┯䟋櫻┚⑺决粋圐䛃䲊乁ᬙ啭↋灧㈑᥃幇癢໚㡘⻦⌐灰溋⊴√༽冦ќ憺ັ⏻满䀵垳厦⹭憹ኰ旸䗃厘壭⋤呛咰皧প䊴戇⟱㹧ụᇪే㻸⩘拖࿈楧䇸嬙ฐ抧⭼凙๑㱦ⱷଳన秳歲簸㍴岠」季戇ᒩ棩⊔眷┱玏ᒼ㎐೚ੱ⻛嗌呌ጀÉ㬠㩍㖽劳䩒Ț㊯䡌猂ൡ₳嫋睆ạ㟸ℤ㉟㈻戥幣畄攛⥞㺬䵟䭆㥟㼜乛快Ÿࢀ埝ᑋӳ峽癧徛愪乛ӱ፛㧋кϪ䀃椣╒ᅍ䂔簥䢇砚◛ᓾ溺㖗㺺㼳Ở瓓゛泻⬀๗埐㽃䅱䉠揝≇ᛘో⒲版䆵㑲㕤⡱冔ᔑ佥焅䈆─液燿凘䬻㶦㉖㇣ฺ⛧㰆嬂䞑㎁〯梕燢㘹ࢯ䍃ᒰႤ䗦僲ጐ䆡₼㇙䣽ㅪ䆏㬐倔㋒᩺竸俭પ‭槎ኲ୙絟≁亄҇ᤦ᧌䁬情ᠸ⦴猬ᒶ絜棪⽰ᢇⱫ☇᯲捕೗⧬㞼㬺੫䚻䖏∃浟䕮䱤ൣ㴭但ǟ઻⣪搭αᬥ攵⦌磩㴡卜⨃瓄洛⧁⨋瞄筕㥐纸†籴}姞Аᘸၗ晈ೕコ帊㧘ូ睵᝜䈋伕⍻桗ޝㅒュ㡿因盱␆屙ㆸ檻㳺温㚠刚㛺渤ಧ㟬ᘉ仱ം武ⶀᇿ೤摒ቖ⦰㈘ኧ⼫屰ⷈ疺䀆⊷㇀ⵄ庠㊢缾Ő°栻ჶϹ嚠呯ᣢ䉹偠箊⁀䴶き怆৞䑶㵪⽳৙㯭ቦ狖䀥⽄ᭌ䞄偎ፊ⦽᫟ᕣ果Ῐ䳙幉Ğ▖䫞嶴㇊算ル嶽ⰾ桶‣㺊֨ᚣ䚯₠礧䑔㚤❎壠ᶣ㶈礎ܐⲀ慽峷梬帔ᵚ⛎䵹崠叫搸碒᫙杹䡡ᔤ⫡హ℞㪆ⓛ樒Ⲓ炆峝▾⿊粆˕᧭䱗䠪ໞ猸⃫☦浹疮唚炝宦圊☦歺ᡓ圇侦扂潑懴摵ᵒ็凡Ộ䚧ਫ਼Ꮨ䣺⩯彖⸗১㓦ǯ擋๭忍၇ⷭඪ₽ᑤỠᥱដ倯ṚΗ⨰䒗✸㎇坔☧朹唧㉬羏唇⮄㨗ᴫ噹ᣞṃ䥁叉䤭䡔࿍匢刲ソᶂ➚⇂糛揚ⲵᙝ㉇佽঺柮毀ଏ偐໡狘礠䏹݁痂條媏䊁矀樻㌂ⳡ斍ᦗ學ą绬禝嬢嵊㍙䖑⃐⥨঒尺庼㝺᪠ៀၩⴳ㴃厅ΰДΐ瘹䐭ׇԸ⟷∵✩だ濫ⰳЉ㽷狓䁥ⷎ敷ᯛ旊;筷篕恇嫺汻子᡾䁌㗜⻘㦺᫠牥᫅瘉パ篋绚䇛代䈆⇔秐沭㾯⊁刃ᮒ⭮粹䳓ᨪ⠿ᱸ涧ຢ㮉ᆡ䢜ăڠ玏ტ獆ԡ⒢䂚㪇ᐲㄨ瓈涤哩五ೕ䍰ᝡะဠ瓙漾硫Ꭱ⟝ǳ䦴㛩ᾧ㹖庿瓋㘥ۻ洗㜅咆爙↰䪆◛㟵楢⟒䀛㚄ഓࣔ柸䐿唃䳜斸Ó牶ᶲ敷㙎ᅐᣊ攬⭫獡ï嗹代⧡ᯣ摵䢚姫ᯈ⻔ㆎ䡁僢孒昚ܞ᮴悻窏朙౫㱍敲㜒宬㑞樖⿖綠弧妢ἅ_湚.⚤ΰᾏ⟯悙ᤲ㘲䨓娾䮪忡竎䢛⯴῵挮䶝䏪Ẃ㿀枙䀬㿱椇偲㨛彑禭㻖掴಑洦岜ฉ简澯㡐㜀䭩戩匑䳪↜筮湇ᐍứ翟䚌亐㿭㕮暎ྞఢ懗抰汬㉑஠⏇≿䟪⍀Ԭ䫃墬ᔹ毢ಌ欃瓗ຟ䝕ḧ㿿溟楡䡉似䆓‍氛䡞⇅炕秘ᑞ㍉ఀ佥浾ཱ埼⻮楎囱幀摙䑶Ķ̷〜㣑仱᝿⅏Ш὜凚ญ䁓平㫃͗㯝玓狩㝻㸘䈠  "
   },
   "outputs": [
    {
     "data": {
      "application/vnd.jupyter.widget-view+json": {
       "model_id": "6e065ec82e27468aae4b2abf177e8923",
       "version_major": 2,
       "version_minor": 0
      },
      "text/plain": [
       "PersistWidget(data_values=[{'__id_column': '1', 'Region': 'Salt Lake', 'Month': 11, 'Day': 9, 'Year': 2012, 'T…"
      ]
     },
     "execution_count": 16,
     "metadata": {},
     "output_type": "execute_result"
    }
   ],
   "source": [
    "select = alt.selection_interval(name=\"selector\", encodings=[\"x\"])\n",
    "\n",
    "chart = alt.Chart(df_task_2b, height=400, width=500).mark_bar().encode(\n",
    "    x=alt.X(\"Month:N\").sort([10, 11, 12, 1, 2, 3, 4, 5, 6, 7, 8 ,9]),\n",
    "    y=\"count()\",\n",
    "    opacity=alt.condition(select, alt.value(1), alt.value(0.2)),\n",
    "    tooltip=\"month(Month):N\"\n",
    ").add_params(select)\n",
    "\n",
    "PR.PersistChart(chart, data=df_task_2b, df_name=\"df_task_3a\")"
   ]
  },
  {
   "cell_type": "code",
   "execution_count": 17,
   "id": "312dc09d-2f12-473c-bcbf-f401b20ae632",
   "metadata": {},
   "outputs": [
    {
     "data": {
      "text/html": [
       "<div>\n",
       "<style scoped>\n",
       "    .dataframe tbody tr th:only-of-type {\n",
       "        vertical-align: middle;\n",
       "    }\n",
       "\n",
       "    .dataframe tbody tr th {\n",
       "        vertical-align: top;\n",
       "    }\n",
       "\n",
       "    .dataframe thead th {\n",
       "        text-align: right;\n",
       "    }\n",
       "</style>\n",
       "<table border=\"1\" class=\"dataframe\">\n",
       "  <thead>\n",
       "    <tr style=\"text-align: right;\">\n",
       "      <th></th>\n",
       "      <th>Avalanche Season</th>\n",
       "      <th>Ava</th>\n",
       "      <th>Region</th>\n",
       "      <th>Month</th>\n",
       "      <th>Day</th>\n",
       "      <th>Year</th>\n",
       "      <th>Trigger</th>\n",
       "      <th>Weak Layer</th>\n",
       "      <th>Depth_inches</th>\n",
       "      <th>Vertical_inches</th>\n",
       "      <th>Aspect</th>\n",
       "      <th>Elevation_feet</th>\n",
       "      <th>Coordinates</th>\n",
       "    </tr>\n",
       "  </thead>\n",
       "  <tbody>\n",
       "    <tr>\n",
       "      <th>0</th>\n",
       "      <td>Start</td>\n",
       "      <td>No Assignment</td>\n",
       "      <td>Salt Lake</td>\n",
       "      <td>11</td>\n",
       "      <td>9</td>\n",
       "      <td>2012</td>\n",
       "      <td>Snowboarder</td>\n",
       "      <td>New Snow/Old Snow Interface</td>\n",
       "      <td>14</td>\n",
       "      <td>360</td>\n",
       "      <td>North</td>\n",
       "      <td>10400</td>\n",
       "      <td>40.577977000000, -111.595817000000</td>\n",
       "    </tr>\n",
       "    <tr>\n",
       "      <th>1</th>\n",
       "      <td>Start</td>\n",
       "      <td>No Assignment</td>\n",
       "      <td>Salt Lake</td>\n",
       "      <td>11</td>\n",
       "      <td>11</td>\n",
       "      <td>2012</td>\n",
       "      <td>Skier</td>\n",
       "      <td>New Snow/Old Snow Interface</td>\n",
       "      <td>30</td>\n",
       "      <td>1200</td>\n",
       "      <td>North</td>\n",
       "      <td>9700</td>\n",
       "      <td>40.592619000000, -111.616099000000</td>\n",
       "    </tr>\n",
       "    <tr>\n",
       "      <th>2</th>\n",
       "      <td>Start</td>\n",
       "      <td>No Assignment</td>\n",
       "      <td>Salt Lake</td>\n",
       "      <td>11</td>\n",
       "      <td>11</td>\n",
       "      <td>2012</td>\n",
       "      <td>Skier</td>\n",
       "      <td>Facets</td>\n",
       "      <td>36</td>\n",
       "      <td>5400</td>\n",
       "      <td>North</td>\n",
       "      <td>10200</td>\n",
       "      <td>40.599291000000, -111.642315000000</td>\n",
       "    </tr>\n",
       "    <tr>\n",
       "      <th>3</th>\n",
       "      <td>Start</td>\n",
       "      <td>No Assignment</td>\n",
       "      <td>Salt Lake</td>\n",
       "      <td>11</td>\n",
       "      <td>11</td>\n",
       "      <td>2012</td>\n",
       "      <td>Skier</td>\n",
       "      <td>New Snow</td>\n",
       "      <td>18</td>\n",
       "      <td>6000</td>\n",
       "      <td>Southeast</td>\n",
       "      <td>10200</td>\n",
       "      <td>40.598313000000, -111.628304000000</td>\n",
       "    </tr>\n",
       "    <tr>\n",
       "      <th>4</th>\n",
       "      <td>Start</td>\n",
       "      <td>No Assignment</td>\n",
       "      <td>Salt Lake</td>\n",
       "      <td>11</td>\n",
       "      <td>11</td>\n",
       "      <td>2012</td>\n",
       "      <td>Skier</td>\n",
       "      <td>Facets</td>\n",
       "      <td>42</td>\n",
       "      <td>9600</td>\n",
       "      <td>North</td>\n",
       "      <td>10400</td>\n",
       "      <td>40.578590000000, -111.595087000000</td>\n",
       "    </tr>\n",
       "  </tbody>\n",
       "</table>\n",
       "</div>"
      ],
      "text/plain": [
       "  Avalanche Season            Ava     Region  Month  Day  Year      Trigger  \\\n",
       "0            Start  No Assignment  Salt Lake     11    9  2012  Snowboarder   \n",
       "1            Start  No Assignment  Salt Lake     11   11  2012        Skier   \n",
       "2            Start  No Assignment  Salt Lake     11   11  2012        Skier   \n",
       "3            Start  No Assignment  Salt Lake     11   11  2012        Skier   \n",
       "4            Start  No Assignment  Salt Lake     11   11  2012        Skier   \n",
       "\n",
       "                    Weak Layer  Depth_inches  Vertical_inches     Aspect  \\\n",
       "0  New Snow/Old Snow Interface            14              360      North   \n",
       "1  New Snow/Old Snow Interface            30             1200      North   \n",
       "2                       Facets            36             5400      North   \n",
       "3                     New Snow            18             6000  Southeast   \n",
       "4                       Facets            42             9600      North   \n",
       "\n",
       "   Elevation_feet                         Coordinates  \n",
       "0           10400  40.577977000000, -111.595817000000  \n",
       "1            9700  40.592619000000, -111.616099000000  \n",
       "2           10200  40.599291000000, -111.642315000000  \n",
       "3           10200  40.598313000000, -111.628304000000  \n",
       "4           10400  40.578590000000, -111.595087000000  "
      ]
     },
     "execution_count": 17,
     "metadata": {},
     "output_type": "execute_result"
    }
   ],
   "source": [
    "df_task_3a.head()"
   ]
  },
  {
   "cell_type": "markdown",
   "id": "36e82a42-5f2f-44e1-b9a5-2e2d403b2ff3",
   "metadata": {},
   "source": [
    "## **Task 3b: Analyzing Top Avalanche Trigger by Season**"
   ]
  },
  {
   "cell_type": "markdown",
   "id": "af40bad3-436e-426c-a02f-f205597e90b5",
   "metadata": {},
   "source": [
    "Now we'll analyze which trigger is most prevalent for avalanches in each season phase (Start, Middle, End) using the `Avalanche Season` category created in Task 3a."
   ]
  },
  {
   "cell_type": "markdown",
   "id": "72455a32-623b-4b87-87d6-ca9c8ebf19e7",
   "metadata": {},
   "source": [
    "#### **Instructions**\n",
    "1. **Context:**\n",
    "    - We have a facted bar chart. The `x` axis encodes the `Trigger` column in the data and the columns encode the newly added category `Avalanche Season`.\n",
    "2. **Analyze Trigger Data:**\n",
    "    - Observe the most common trigger for each season.\n",
    "    - You can hover on the bars to get the exact frequency.\n",
    "3. **Document Findings:**\n",
    "    - Note down the most common trigger for each season based on your interactive analysis in the markdown cell."
   ]
  },
  {
   "cell_type": "code",
   "execution_count": 18,
   "id": "07df4379-6e5e-4bcc-a878-7457f7baba16",
   "metadata": {
    "__GENERATED_DATAFRAMES__": "ᯡࠣ䅬Ԁ朤壠ᜣ琢〹夢゠⹰〮⁁䁻қ䚾ኊ㇠നСࠩ瀮晼Ƭ穅5愠៤⠠ ",
    "__has_persist_output": true,
    "trrack_graph": "ᯡ࠽䈌ʀ匦㢠⹰ڀ㌡త瀽䎬Āୠঠ䰢墨ˢ䘠汤ɐ彴ᨤ᯲⏆㣟⎫ैkᑄᄉ夒ષዋ⃹嗛㕎ẜʤ䀡傠Ǖ熠㥀ॢȠா䠸ᢀ㜰䁾巐ಀƊႊ)攄䀦栢瘔خፄ#έ搱拑䅠Ȅ恨఼Ⲍ㺣ƫी倱僑稠嬸ᖧѤǦҡ啺䑁ᦨ焝ፅ䀺慱怩皥䈡㼚ƶ䨧Ꮺ悡梩ǣ᪀當o#䖕搃ԑ璌Ⅵ他笮⧒м⥄慦焁⅝䐤ຊᨭᬥѮ┑愰⡰售ڦᐨቐ俇Ⳗ䥂⌦⑶ᇂᙑ\"䬫䕄憐籑٤傈㩃C⡔幟ૡ栲K䁄ࢽ⺉ଷጃਢ╦抑屲㭬Ⴌ䀠 "
   },
   "outputs": [
    {
     "data": {
      "application/vnd.jupyter.widget-view+json": {
       "model_id": "c6e3bd9e733646d18f61767040a6b0e2",
       "version_major": 2,
       "version_minor": 0
      },
      "text/plain": [
       "PersistWidget(data_values=[{'__id_column': '1', 'Avalanche Season': 'Start', 'Ava': 'No Assignment', 'Region':…"
      ]
     },
     "execution_count": 18,
     "metadata": {},
     "output_type": "execute_result"
    }
   ],
   "source": [
    "NEW_COLUMN = \"Avalanche Season\"\n",
    "\n",
    "chart = alt.Chart(df_task_3a).mark_bar().encode(\n",
    "    x=\"Trigger:N\",\n",
    "    y=\"count():Q\",\n",
    "    color=alt.Color(f\"{NEW_COLUMN}:N\").sort([\"Start\", \"Middle\", \"End\"]),\n",
    "    column=alt.Column(f\"{NEW_COLUMN}:N\").sort([\"Start\", \"Middle\", \"End\"]),\n",
    "    tooltip=\"count()\"\n",
    ")\n",
    "\n",
    "PR.PersistChart(chart)"
   ]
  },
  {
   "cell_type": "markdown",
   "id": "00e87acd-3759-49eb-9e43-d7793672297c",
   "metadata": {},
   "source": [
    "**Task 3b Notes:**\n",
    "\n",
    "- Most common Trigger for `Start` of the season: Skier (63)\n",
    "- Most common Trigger for `Middle` of the season:Natural (722)\n",
    "- Most common Trigger for `End` of the season: Natural (88)"
   ]
  }
 ],
 "metadata": {
  "__CATEGORIES_META__": "{\"categories\":{\"Avlanche Season Phase\":{\"name\":\"Avlanche Season Phase\",\"options\":{\"_None\":{\"name\":\"None\"},\"Start\":{\"name\":\"Start\"},\"Middle\":{\"name\":\"Middle\"},\"End\":{\"name\":\"End\"}}}},\"activeCategoryName\":\"Avlanche Season Phase\"}",
  "__persist_keys_record": [
   "__GENERATED_DATAFRAMES__",
   "__persist_nb_uuid__",
   "trrack_graph",
   "show_aggregate_origin"
  ],
  "__persist_nb_uuid__": "36dba505-c931-454f-af6c-30e8cfb51ac2",
  "kernelspec": {
   "display_name": "Python 3 (ipykernel)",
   "language": "python",
   "name": "python3"
  },
  "language_info": {
   "codemirror_mode": {
    "name": "ipython",
    "version": 3
   },
   "file_extension": ".py",
   "mimetype": "text/x-python",
   "name": "python",
   "nbconvert_exporter": "python",
   "pygments_lexer": "ipython3",
   "version": "3.8.16"
  }
 },
 "nbformat": 4,
 "nbformat_minor": 5
}
