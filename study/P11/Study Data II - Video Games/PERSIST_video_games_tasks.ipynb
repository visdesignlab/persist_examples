{
 "cells": [
  {
   "cell_type": "markdown",
   "id": "522fcbb3-702c-4ea0-91d9-f3b0e71690fc",
   "metadata": {
    "__GENERATED_DATAFRAMES__": "{\"nodeDataframes\":{},\"graphDataframes\":null}",
    "show_aggregate_original": "false",
    "trrack_graph": "ᯡ࠽䈌ʀ匦㢠⹰àᦴ΀࣪ʐ怶䦠挠᱊ࠥ䁁䂖㚥煤晬փ⊪ĸ暂䙠঳ैkᑄᄈ妐ଷᓋ⃩䖻Ṯ溜Φ䐡傠Ǒ団Қ′䈤7ࡣᠠ湐戎Ⴆ寐爤䀥屨攠ʕ㥀ǔÚ䍃㏙䤥ࢂ┩勸惀Ēいཆ༠೥∁∀秸㲅䌠ⶬᛦ䙂ǃɡ殍戰泤ᒁ嬦怭㋉匥穃ᄠ彣჻⴦䉫ぢ睤䄁ⵐۻG䀡曑砑䂱竖ᄂ㜿Ꭽ˹ȩᚱ凁兘㑐Ṣ༩Ẻ䳥⑆憰棨忞⍧攈堽Ī僰὆揖䦲ᡊ⛓౱নఱ姼ᤦΧ您別൧儸晋Ǣ熘繀䉁硨K塊়ṹᜰ倳䪂ⵦ⚈ᒽ᪺ᆬ䀠 "
   },
   "source": [
    "# Analyzing Video Games Across Genres"
   ]
  },
  {
   "cell_type": "markdown",
   "id": "19cb3971-5981-474c-8250-7981c7c9cc8a",
   "metadata": {
    "trrack_graph": "ᯡ࠽䈌ʀ匦㢠⹰ૠܠ昢〽䂆౐׀ৣfL⍉ျ⥒⠡䒙¬ᧇ峕搢ಒ嫒┠অҤᵖ㹢晴㘉ᦳㄍ毿䡨墠ᨰV䆼ガ搢⡠䀢焨㌠෦ౝ戰殖๠ᠠ塩ೀn坄V䀷⢄㚗᥂夬ು䅻ఴ>☤䝃傳狱⊔㳜ੁ䀶挫㐷ࢢӡჵ嬩іㄪᢉ懐ͻ䬥䇽ࣨ䁏僿峱䐰㋸ᇻ兀㡆䱍㛠਀ⲛ粀೽疨һ䟩桁㙡Ũ昙ˢ䧮ᄪᆽ䥢ᅅᄁẩ㱸౮ᐶޣ先ఽЃⵖᥒ⌥▶懜ᩑƢ᭛䭄憐ɑ٦⦈䙓ǂ炘㸠䱅࢜ؠଌથ䜯๡䙉夊᜶僑汢㭢☈₁䠠 "
   },
   "source": [
    "**Participant ID:**  P11\n",
    "\n",
    "**Date / Time:**"
   ]
  },
  {
   "cell_type": "markdown",
   "id": "ceac0d48-2820-4532-bfd2-adf6533d7a2d",
   "metadata": {},
   "source": [
    "# Introduction\n",
    "Welcome to our data analysis study. For this study, you'll be working with a dataset sourced [Corgis Datasets Project](https://corgis-edu.github.io/corgis/).\n",
    "\n",
    "The data was originally published in the publication [“What makes a blockbuster video game? An empirical analysis of US sales data.” Managerial and Decision Economics](https://researchportal.port.ac.uk/en/publications/what-makes-a-blockbuster-video-game-an-empirical-analysis-of-us-s) by Dr Joe Cox. \n",
    "\n",
    "The dataset has information about the sales and playtime of over a thousand video games released between 2004 and 2010. The playtime information was collected from crowd-sourced data on [\"How Long to Beat\"](https://howlongtobeat.com/)."
   ]
  },
  {
   "cell_type": "markdown",
   "id": "68491102-96aa-4701-8134-d998c80ae04b",
   "metadata": {},
   "source": [
    "- You will use an extension called PersIst to complete **data cleanup and manipulation** tasks. \n",
    "- Interactive charts and tables have been pre-created for your convenience. These can be directly utilized by running the corresponding cells.\n",
    "- Focus on leveraging the interactive capabilities of Persist for your analysis.\n",
    "- Carefully follow the step-by-step instructions provided for each task.\n",
    "- In some cases, you will be asked to document your findings. Please do this in writing in a markdown cell.\n",
    "- As you work through the tasks, take note of any interesting findings or challenges with the software or pandas that you may encounter, either by speaking your thoughts out loud or taking notes in a markdown cell.\n",
    "- Feel free to add new code and markdown cells in the notebook as necessary to complete the tasks, but please do attempt the tasks with the PersIst functionality."
   ]
  },
  {
   "cell_type": "code",
   "execution_count": 1,
   "id": "9337796b-21e8-4c8c-bbbd-3076a775d03b",
   "metadata": {},
   "outputs": [],
   "source": [
    "import helpers as h\n",
    "import pandas as pd\n",
    "import altair as alt\n",
    "\n",
    "import persist_ext as PR"
   ]
  },
  {
   "cell_type": "markdown",
   "id": "dd81aecd-eebf-4624-b9e2-3a864c474c1d",
   "metadata": {
    "__GENERATED_DATAFRAMES__": "{\"nodeDataframes\":{},\"graphDataframes\":null}",
    "show_aggregate_original": "false",
    "trrack_graph": "ᯡ࠽䈌ʀ匦㢠⹰Ҁ̡䘠烠嘢త〫‥侴ᓬᛞ拐ৡ䚂ద抭婈ހڅྯ䌲⠠䭈⑁槑焳Ⴥ⩦仃㍶๽㰥Ҩǁ#㟢䌰橠ኤРᜰ͐üメ湁˛㾄ָ̠憴)挄䀦栢琭ٮ㍄ᨡ䌤ᾣㆢ䀣擠䢤㘦Sᥧᡠ戂怡ᠬÖᠻ㹈䐿ة׉妨⃓ࢱ̴㖠᫲徤ฏѤƜڣ回㸦ۡ৵ण䃔戊㘠传ϊ緯挡䘌污䕽庮粓㈨ɪⷠ搃猄ᦨ洘㳌ᤪ̪౦繶ሱ澂䘣⁑Ҝഭ炍孉ृÅ⭱䤾ᢠ䆋෭ኀ㠢Ү≱呺Ấ惑汮ᮯ戩䊏̠˙Ɂ⧽憳㈒ṉⅱਊ⥋⃆瑀⣨  "
   },
   "source": [
    "## Data Description\n",
    "\n",
    "The table below describes the different columns in the dataset. Each row in the dataset represents a video game.\n",
    "\n",
    "| Column        | Description                                                                                                                                                           |\n",
    "|---------------|-----------------------------------------------------------------------------------------------------------------------------------------------------------------------|\n",
    "| Title         | Full title of the game.                                                                                                                                               |\n",
    "| Max Players   | The maximum number of players that can play this game.                                                                                                                |\n",
    "| Multiplatform | Whether this game is available on multiple platforms.                                                                                                                 |\n",
    "| Online        | Whether this game supports online play.                                                                                                                               |\n",
    "| Genres        | The main genre that this game belongs to.                                                                                                                             |\n",
    "| Licensed      | Whether this game was based off a previously licensed entity.                                                                                                         |\n",
    "| Publishers    | The publishers who created this game.                                                                                                                                 |\n",
    "| Review Score  | A review score for this game, out of 100.                                                                                                                             |\n",
    "| Re-release    | Whether this game is a re-release of an earlier one.                                                                                                                  |\n",
    "| Year          | The year that this game was released.                                                                                                                                 |\n",
    "| Comp_Time_All | The median time that players reported completing the game in any way, in hours.                                                                                       |\n",
    "| Comp_Time_Main| The median time that players reported completing the main game storyline, in hours.                                                                                   |"
   ]
  },
  {
   "cell_type": "code",
   "execution_count": 2,
   "id": "8d0e426c-89a0-4813-8994-65ebba3f3a25",
   "metadata": {},
   "outputs": [
    {
     "data": {
      "text/html": [
       "<div>\n",
       "<style scoped>\n",
       "    .dataframe tbody tr th:only-of-type {\n",
       "        vertical-align: middle;\n",
       "    }\n",
       "\n",
       "    .dataframe tbody tr th {\n",
       "        vertical-align: top;\n",
       "    }\n",
       "\n",
       "    .dataframe thead th {\n",
       "        text-align: right;\n",
       "    }\n",
       "</style>\n",
       "<table border=\"1\" class=\"dataframe\">\n",
       "  <thead>\n",
       "    <tr style=\"text-align: right;\">\n",
       "      <th></th>\n",
       "      <th>Title</th>\n",
       "      <th>Max Players</th>\n",
       "      <th>Multiplatform?</th>\n",
       "      <th>Online?</th>\n",
       "      <th>Genres</th>\n",
       "      <th>Licensed?</th>\n",
       "      <th>Comp_Time_All</th>\n",
       "      <th>Re-release?</th>\n",
       "      <th>Comp_Time_Main</th>\n",
       "      <th>Review Score</th>\n",
       "      <th>Year</th>\n",
       "      <th>Publishers</th>\n",
       "    </tr>\n",
       "  </thead>\n",
       "  <tbody>\n",
       "    <tr>\n",
       "      <th>0</th>\n",
       "      <td>Super Mario 64 DS</td>\n",
       "      <td>1</td>\n",
       "      <td>True</td>\n",
       "      <td>True</td>\n",
       "      <td>Action</td>\n",
       "      <td>True</td>\n",
       "      <td>24.48</td>\n",
       "      <td>True</td>\n",
       "      <td>14.50</td>\n",
       "      <td>85</td>\n",
       "      <td>2004</td>\n",
       "      <td>Nintendo</td>\n",
       "    </tr>\n",
       "    <tr>\n",
       "      <th>1</th>\n",
       "      <td>Lumines: Puzzle Fusion</td>\n",
       "      <td>1</td>\n",
       "      <td>True</td>\n",
       "      <td>True</td>\n",
       "      <td>Strategy</td>\n",
       "      <td>True</td>\n",
       "      <td>10.00</td>\n",
       "      <td>True</td>\n",
       "      <td>10.00</td>\n",
       "      <td>89</td>\n",
       "      <td>2004</td>\n",
       "      <td>Ubisoft</td>\n",
       "    </tr>\n",
       "    <tr>\n",
       "      <th>2</th>\n",
       "      <td>WarioWare Touched!</td>\n",
       "      <td>2</td>\n",
       "      <td>True</td>\n",
       "      <td>True</td>\n",
       "      <td>Action</td>\n",
       "      <td>True</td>\n",
       "      <td>2.50</td>\n",
       "      <td>True</td>\n",
       "      <td>1.83</td>\n",
       "      <td>81</td>\n",
       "      <td>2004</td>\n",
       "      <td>Nintendo</td>\n",
       "    </tr>\n",
       "    <tr>\n",
       "      <th>3</th>\n",
       "      <td>Hot Shots Golf: Open Tee</td>\n",
       "      <td>1</td>\n",
       "      <td>True</td>\n",
       "      <td>True</td>\n",
       "      <td>Sports</td>\n",
       "      <td>True</td>\n",
       "      <td>-100.00</td>\n",
       "      <td>True</td>\n",
       "      <td>-100.00</td>\n",
       "      <td>81</td>\n",
       "      <td>2004</td>\n",
       "      <td>Sony</td>\n",
       "    </tr>\n",
       "    <tr>\n",
       "      <th>4</th>\n",
       "      <td>Spider-Man 2</td>\n",
       "      <td>1</td>\n",
       "      <td>True</td>\n",
       "      <td>True</td>\n",
       "      <td>Action</td>\n",
       "      <td>True</td>\n",
       "      <td>10.00</td>\n",
       "      <td>True</td>\n",
       "      <td>8.00</td>\n",
       "      <td>61</td>\n",
       "      <td>2004</td>\n",
       "      <td>Activision</td>\n",
       "    </tr>\n",
       "  </tbody>\n",
       "</table>\n",
       "</div>"
      ],
      "text/plain": [
       "                      Title Max Players  Multiplatform?  Online?    Genres  \\\n",
       "0         Super Mario 64 DS           1            True     True    Action   \n",
       "1    Lumines: Puzzle Fusion           1            True     True  Strategy   \n",
       "2        WarioWare Touched!           2            True     True    Action   \n",
       "3  Hot Shots Golf: Open Tee           1            True     True    Sports   \n",
       "4              Spider-Man 2           1            True     True    Action   \n",
       "\n",
       "   Licensed?  Comp_Time_All  Re-release?  Comp_Time_Main  Review Score  Year  \\\n",
       "0       True          24.48         True           14.50            85  2004   \n",
       "1       True          10.00         True           10.00            89  2004   \n",
       "2       True           2.50         True            1.83            81  2004   \n",
       "3       True        -100.00         True         -100.00            81  2004   \n",
       "4       True          10.00         True            8.00            61  2004   \n",
       "\n",
       "   Publishers  \n",
       "0    Nintendo  \n",
       "1     Ubisoft  \n",
       "2    Nintendo  \n",
       "3        Sony  \n",
       "4  Activision  "
      ]
     },
     "execution_count": 2,
     "metadata": {},
     "output_type": "execute_result"
    }
   ],
   "source": [
    "df = pd.read_csv('video_games.csv')\n",
    "df.head()"
   ]
  },
  {
   "cell_type": "markdown",
   "id": "7cc10d2b-9b1e-46f4-9769-b9a0ac0c9e8f",
   "metadata": {
    "__GENERATED_DATAFRAMES__": "{\"nodeDataframes\":{},\"graphDataframes\":null}",
    "show_aggregate_original": "false",
    "trrack_graph": "ᯡ࠽䈌ʀ匦㢠⹰ૠ㌬Ā჻R〶䁃lyٹ⁓f䍐ۢ䧪㈉◔ฅޡ䨲⠠䬱䑁棒瀱Ⴭ⭱妻ݎẜʤ䐡傠ǖ悃РኤРᜰ結üメ浪巟㈠ᣠˬ⃪$熒‣㐡㬚͇⦲༿⸂໡壡‡犀⒂ଠᎭॣ䥡⊃㡹稠嬸ූᑤඦҡ哹䑀妨䤝͕䀺慽䈩瞤∡㼚ƶ嵖᯦悡檩ǣ᪀畖o#䖊⠃ܑ璌⃥⹾䞌᧒Т⺈ᆡ⇳㴑䒤㒌ŭ᯸丈◡戱⃰潅Ԧ秐噑๦磜疶溂⒀ᒪ扖⋦ူⶃ㧄మྡྷშ⨭རㅸ瘭ǅ爘䅐䘆砠址䑂㥨㈼㹯䕈䓵ᒹ憴婊③ᤠ "
   },
   "source": [
    "# Task 1: Column Names and Data Types\n",
    "\n",
    "In the first task we will perform some basic data cleaning operations to get our dataset ready for further tasks."
   ]
  },
  {
   "cell_type": "markdown",
   "id": "8934b219-dd97-4e3e-9aa9-0dd7a9d62ad5",
   "metadata": {
    "__GENERATED_DATAFRAMES__": "{\"nodeDataframes\":{},\"graphDataframes\":null}",
    "show_aggregate_original": "false",
    "trrack_graph": "ᯡ࠽䈌ʀ匦㢠⹰ૠ㬠氤〥䌸瀶䀹䁣๲ৠܦᔨҀᣴ䂼䋃‣ᓆ做►䀳ല⠠䭈⑁槑瀱ᝉ⍮冫㭮ẜʦ䒠ǁ#㕀挸晠ኤРᝣၐüムṁǟ㤉䀥䉸攠ʓ㥀ǔÚ⎃஥䤫䒄攭ᇸ惀Ēいᘦᖠೣ䗫⃂変ⱦ{ఽ咼∪⌤䋵汄ჹ䑈冣ᛠඉⵆܔ⍂Þ⍡歹ম悩溩Ǡ媁疖o#䖓瀃ʅ璌⁅溮杲◒Ъ⍁䔶户ࣉⓢ削౐䘰䵥䌂んḸئԢ灐糕൤㧶ⶬ䲱䅲ᗈ撯ౠ惍䈅䥐属ѣ၈⩍སヸ๗௧焤ᄸ䒰Ž䅰䔉燩壥༲刳樲⭮✈咰ᒄ  "
   },
   "source": [
    "### Task 1a: Remove Columns"
   ]
  },
  {
   "cell_type": "markdown",
   "id": "47b531d4-2e3a-4e9a-b92a-39aebfc3deb6",
   "metadata": {
    "__GENERATED_DATAFRAMES__": "{\"nodeDataframes\":{},\"graphDataframes\":null}",
    "show_aggregate_original": "false",
    "trrack_graph": "ᯡ࠽䈌ʀ匦㢠⹰ૠ㬠氤〥䌸瀶䀹䁣๲ৠܦᔨҀᣴ䂼䋃‣ᓆ做►䀳ല⠠䭈⑁槑瀱ᝉ⍮冫㭮ẜʦ䒠ǁ#㕀挸晠ኤРᝣၐüムṁǟ㤉䀥䉸攠ʓ㥀ǔÚ⎃஥䤫䒄攭ᇸ惀Ēいᘦᖠೣ䗫⃂変ⱦ{ఽ咼∪⌤䋵汄ჹ䑈冣ᛠඉⵆܔ⍂Þ⍡歹ম悩溩Ǡ媁疖o#䖓瀃ʅ璌⁅溮杲◒Ъ⍁䔶户ࣉⓢ削౐䘰䵥䌂んḸئԢ灐糕൤㧶ⶬ䲱䅲ᗈ撯ౠ惍䈅䥐属ѣ၈⩍སヸ๗௧焤ᄸ䒰Ž䅰䔉燩壥༲刳樲⭮✈咰ᒄ  "
   },
   "source": [
    "Remove the following columns to streamline the dataset for further analysis:\n",
    "\n",
    "- **_Re-release?:_** Boolean flag indicating if the game was a new release or a re-release.\n",
    "- **_Comp_Time_All:_** Average of all other completition times, we will use one of the others directly"
   ]
  },
  {
   "cell_type": "markdown",
   "id": "aec9ad2a-ab09-4288-b8fa-2852bcddda1a",
   "metadata": {},
   "source": [
    "#### **Instructions**\n",
    "1. **Column Removal:**\n",
    "\t- Use the interactive table feature in PersIst to remove the specified columns.\n",
    "3. **Verify the Output:**\n",
    "\t- Print the head of the generated dataframe to verify the changes."
   ]
  },
  {
   "cell_type": "code",
   "execution_count": 3,
   "id": "8e333ff3-cb24-430b-a332-733b41570ba4",
   "metadata": {
    "__GENERATED_DATAFRAMES__": "ᯡࠩ䃬࿀ᜤᠹ悋ᐨ推̅ሣ䧠ⶠ卍捯ᥔᠣ℠▢dʘϔᝠ捌〤瀵摠៨⠠ ",
    "__has_persist_output": true,
    "editable": true,
    "slideshow": {
     "slide_type": ""
    },
    "tags": [],
    "trrack_graph": "ᯡ࠽䈌ʀ匦㢠⹰څ¬Āᆠ䍈ڀୠᎠㆺ∡〦曻ᅻ励䱕寠溄抩⠡᚝ࡡ冃摊Ⅵ囝⍬曍洊熑琀͢&殽ٖ到j࠰|⃔怣㣣Ӓ᪂櫨ᤠଡ浰½皰ǔ⁔F㘡Ծ䈴Ⅲ叀Ź呁琦ॆᙈ䲿୅怠ᣈ摄碰䤨7◍嗐᥂狔撞岓⼠Ṭҭ䀧㌆珛墁ቊ⹭ୠஃݕ搐䆐悰䨓¤᷑1⤧↸Ǎ⏘Ὅ恹‷旇屹⎓䰱Ⰻ㠥䱔糠਀㲨㲀摻ឨ£嗣㌁ڄФᄸ偼圥⃠⑘⢩毀熊ᴦ䤱碞䢣̄␢᱉檔゘䜪獜潃ǃŔགྷ嚵劥慨医ࡄ䤴咮䥱ᤤ䝏䨵䕲吾Ҩನ䩃৥ॊ᥊䪓崌佀⤴╷ᝯ傢†ѧ悠帠ĹĦ栠坱䰧圸あ࿥⬀瀸/斓⨠䢷旴Ě䍩嚈∊佗䠁Ⲣ㈹է冒Ⴗሳᄄ↬ວ⎒䕆ȴ䋸㲩ԧ䗐状䌓渌䝈䆡成扙॥䠸☫࿆⥘湏଄叉⠻⇶疚峟╠჈仜♐䳆傌潒㒶愚槐䂖㶡掑ᲆὙ榖島ⴼс䀠儴ԥ祽午Ȩ㦉䛐ᔘ㭎瞊㈊篜•糡爣䃠含唸縷坣拘៽愸>䙨ṍШ䵇漈幏⒊䵐 乏挐缸࠙᭠ᓳ±ȧ䅨ᰫേ漲煊Ɛ偤恠ࡼⵢ㨢ற࢔䤨ᆎ䙠刢ঢ㨴༳倰ʤ䂏扃灭ഘ烰Ḋჟ∡ℂᠰ䱋⎉⦛┋ຕ䨓㹿倓䱫⊡౑ٺ⑪捁栺惁歖Ǣ呆柣ᝊ䞀䆌೚䎐涢⎈欸ᢘ梹爴暺爬掫㍼摋їظ⍈榲㴊4約拢厔换㎀嫉琺䉃㕽₈დ⟈Ъᤀ䀢倱挧倡˺ღ墖ᗱÐ㸩穨◐۞ῡ崙僔㗂䦶䑌䩱䨼䍂擜䥰੍准㔍䖂瑝࿁љ䚦瓣劆䴃䋤仫ᴐ泻ជ汗唅⸢̃ყ寉û嘧溧䌎峀ᬒ嶷娋ⳗ开㼄䑡㺏傩ȡᔯ↸ 瘆ᜩ@㉭穀㝇㻰⣢ᕅ⏷ᖵ⛌ᠢ⡩ß怐䆂㰽Ĥ♪ᅯ䅔ತ崡偤ਧѲ嬥ӄ෫ၬ㏅惉匡協ʣ䍧ᵯ㡿ࠃ簮ᝯ槅䉠囲᪥ᨒᅧ噶ⵦ㚖㫁Ɂຶ掆ᣐᨂ橢囲盒⤒曩㛦䟢ۥ䗬䔾⹓䕩修◉❗煠  "
   },
   "outputs": [
    {
     "data": {
      "application/vnd.jupyter.widget-view+json": {
       "model_id": "1672087c31b6478ba8468e07c73be5f8",
       "version_major": 2,
       "version_minor": 0
      },
      "text/plain": [
       "PersistWidget(data_values=[{'__id_column': '1', 'Title': 'Super Mario 64 DS', 'Max Players': '1', 'Multiplatfo…"
      ]
     },
     "execution_count": 3,
     "metadata": {},
     "output_type": "execute_result"
    }
   ],
   "source": [
    "PR.PersistTable(df, df_name=\"df_task_1a\")"
   ]
  },
  {
   "cell_type": "code",
   "execution_count": 4,
   "id": "e75de3f8-1986-4b7a-9642-2f720525a2db",
   "metadata": {},
   "outputs": [
    {
     "data": {
      "text/html": [
       "<div>\n",
       "<style scoped>\n",
       "    .dataframe tbody tr th:only-of-type {\n",
       "        vertical-align: middle;\n",
       "    }\n",
       "\n",
       "    .dataframe tbody tr th {\n",
       "        vertical-align: top;\n",
       "    }\n",
       "\n",
       "    .dataframe thead th {\n",
       "        text-align: right;\n",
       "    }\n",
       "</style>\n",
       "<table border=\"1\" class=\"dataframe\">\n",
       "  <thead>\n",
       "    <tr style=\"text-align: right;\">\n",
       "      <th></th>\n",
       "      <th>Title</th>\n",
       "      <th>Max Players</th>\n",
       "      <th>Multiplatform?</th>\n",
       "      <th>Online?</th>\n",
       "      <th>Genres</th>\n",
       "      <th>Licensed?</th>\n",
       "      <th>Comp_Time_Main</th>\n",
       "      <th>Review Score</th>\n",
       "      <th>Year</th>\n",
       "      <th>Publishers</th>\n",
       "    </tr>\n",
       "  </thead>\n",
       "  <tbody>\n",
       "    <tr>\n",
       "      <th>0</th>\n",
       "      <td>Super Mario 64 DS</td>\n",
       "      <td>1</td>\n",
       "      <td>True</td>\n",
       "      <td>True</td>\n",
       "      <td>Action</td>\n",
       "      <td>True</td>\n",
       "      <td>14.5</td>\n",
       "      <td>85</td>\n",
       "      <td>2004</td>\n",
       "      <td>Nintendo</td>\n",
       "    </tr>\n",
       "    <tr>\n",
       "      <th>1</th>\n",
       "      <td>Lumines: Puzzle Fusion</td>\n",
       "      <td>1</td>\n",
       "      <td>True</td>\n",
       "      <td>True</td>\n",
       "      <td>Strategy</td>\n",
       "      <td>True</td>\n",
       "      <td>10.0</td>\n",
       "      <td>89</td>\n",
       "      <td>2004</td>\n",
       "      <td>Ubisoft</td>\n",
       "    </tr>\n",
       "    <tr>\n",
       "      <th>2</th>\n",
       "      <td>WarioWare Touched!</td>\n",
       "      <td>2</td>\n",
       "      <td>True</td>\n",
       "      <td>True</td>\n",
       "      <td>Action</td>\n",
       "      <td>True</td>\n",
       "      <td>1.83</td>\n",
       "      <td>81</td>\n",
       "      <td>2004</td>\n",
       "      <td>Nintendo</td>\n",
       "    </tr>\n",
       "    <tr>\n",
       "      <th>3</th>\n",
       "      <td>Hot Shots Golf: Open Tee</td>\n",
       "      <td>1</td>\n",
       "      <td>True</td>\n",
       "      <td>True</td>\n",
       "      <td>Sports</td>\n",
       "      <td>True</td>\n",
       "      <td>-100.0</td>\n",
       "      <td>81</td>\n",
       "      <td>2004</td>\n",
       "      <td>Sony</td>\n",
       "    </tr>\n",
       "    <tr>\n",
       "      <th>4</th>\n",
       "      <td>Spider-Man 2</td>\n",
       "      <td>1</td>\n",
       "      <td>True</td>\n",
       "      <td>True</td>\n",
       "      <td>Action</td>\n",
       "      <td>True</td>\n",
       "      <td>8.0</td>\n",
       "      <td>61</td>\n",
       "      <td>2004</td>\n",
       "      <td>Activision</td>\n",
       "    </tr>\n",
       "  </tbody>\n",
       "</table>\n",
       "</div>"
      ],
      "text/plain": [
       "                      Title Max Players  Multiplatform?  Online?    Genres  \\\n",
       "0         Super Mario 64 DS           1            True     True    Action   \n",
       "1    Lumines: Puzzle Fusion           1            True     True  Strategy   \n",
       "2        WarioWare Touched!           2            True     True    Action   \n",
       "3  Hot Shots Golf: Open Tee           1            True     True    Sports   \n",
       "4              Spider-Man 2           1            True     True    Action   \n",
       "\n",
       "   Licensed?  Comp_Time_Main  Review Score  Year  Publishers  \n",
       "0       True            14.5            85  2004    Nintendo  \n",
       "1       True            10.0            89  2004     Ubisoft  \n",
       "2       True            1.83            81  2004    Nintendo  \n",
       "3       True          -100.0            81  2004        Sony  \n",
       "4       True             8.0            61  2004  Activision  "
      ]
     },
     "execution_count": 4,
     "metadata": {},
     "output_type": "execute_result"
    }
   ],
   "source": [
    "df_task_1a.head()"
   ]
  },
  {
   "cell_type": "markdown",
   "id": "36c62d50-9c88-4ed9-8c97-e552a6e4c620",
   "metadata": {},
   "source": [
    "### Task 1b: Fix Column Names"
   ]
  },
  {
   "cell_type": "markdown",
   "id": "ab8f8f24-afd2-424f-ab34-3e3cde723aa3",
   "metadata": {
    "trrack_graph": "ᯡ࠽䈌ʀ匦㢠⹰ࢀㆪこ<ǐʀ୥崡汤Ɓ䔠⍂⠨撂䂼ì债晶堪慯掩ᐠ▴ሰ璹㤨䮲减ⓥ䢧᜾㺣䉠ð䀡壅冨㕀ॢȠ௞䠸ᢀ眰䅽忖䀢晐樠Ԃ牠ΈƔڦ❓ሠƠ暬ॡ声Ȅ恨䙜⬮ಬ俨⫣䞐డ㙐᬴⣔䰲ճ㌰䊆၂۔欠㖹┰᧶༨̘ඛฌ琻ɋ㉄ܠ榡哸Ŝ.ؗ⾬ള勑̵㯺ᱱ曨ဩᒡᾪ३⁂惡৒ј⪖ᩋࢶ䥣䍢ᇃ⢀☾ԣ䖎㑝䳓ⳄⓀ᪱ĦҐ戤׌㝔䆦成扉ڠ凈㨣ೣㅘ湏Bࡤ䒠ଈତޗ٩䟨㣜㥨◈ᩲ㭡⟢䀠 "
   },
   "source": [
    "It looks like our dataset header went wrong when reading the file and some column headers end with a `?`. **Please remove the question marks from all headers**. "
   ]
  },
  {
   "cell_type": "markdown",
   "id": "63f4d5c5-9383-4857-beae-0cfa6ba466f2",
   "metadata": {},
   "source": [
    "#### **Instructions**\n",
    "1. **Rename Columns:**\n",
    "    - Use the interactive  table in Persist to correct the column names by removing the trailing `?` from their names:\n",
    "        - _Licensed?_ → _Licensed_\n",
    "        - _Multiplatform?_ → _Multiplatform_\n",
    "        - _Online?_ → _Online_\n",
    "2. **Verify the Output:**\n",
    "\t- Print the head of the generated dataframe to verify the changes."
   ]
  },
  {
   "cell_type": "code",
   "execution_count": 5,
   "id": "b7027112-7291-4136-926e-a4c06c7de200",
   "metadata": {
    "__GENERATED_DATAFRAMES__": "ᯡࠩ䃬࿀ᜤᠹ悋ᐨ怱䐢犲ǩ怶恉宑召䵬ð䀲悠ᄡḡ沯偑嬸Ř˛ࠥ笪  ",
    "__has_persist_output": true,
    "trrack_graph": "ᯡ࠽䈌ʀ匦㢠⹰۠ܠదᣣÐހ୧䘡Ⱑ䱨࣠Ⳃʑ入⍸盚䘣ᣆ締ጲ⠠䭈⑁槒爱ᝅ➶庳ୖ๽㸙С傠ǐѐɑ䏱ဩ™+䑎䰠㜸プࡢ⳻夥䀢扏⨠Ԍ牠Έ䃰璈ਣԠ䢥̷䅀危ㄸ摰⌲ᙕਮᒀㆠ࣠偠Ú嵝⏉䤣௅䘨᭸惀Ēい⴦̠䆭‰ိ䠹㨠嬸㖡塤Ң佸䑁ᶨ僪䠱䫠ආᡔލ䏪Þ嶝勬⬺悦壻䉌悇嘠传σ混挥䛽㱠䑼⼣䂃ᦰး䅂䁐͉ã䊨ȱ䞦斱☱䀦≎æ燈渡gჰ樷䌗㱄䚬೴㶮㪎䤳ᇂ壜⢱䉲㒦▱攒ʱ≳ᓡࡻ䣮㌂Ҳ⇯␸䲪᮷搤䋑⩲礬ፈἆ㠬ঠe䁠稠ᗬ㌠甠ⳁ埂⵾䍕䅠䄢ㆠ࿣坸႓㋽㛻盧⯣⨢満䰭哠㻈楕㳞㾨ᄩ噀Ԧۆ਴⬺ༀいਾࡑ偐㔨䃀⢈ᐪи̮ዠ⫚⯿㚒岲☧ߣࣄ┦䏂ᣬ⬡䞀଺ἰ⚭ᩍ㭵㜊笝­ν爃⓺㌥昫㍹㕻囚ᛢ׻皧ⷴ疺ȷƪ燛㝀ᰬ↠Â挗涑䳀࠱毄᫠埱沟岉➻愘‣㛑㸰ᄤ慈¡⼤䘨㛙璙痓∐ሠ߇ከ␦ɦ䠪ف屐᫦叅ᱰ☬ِḩ恾Щ↎ᔨ䋚ᬬ᩠⼦灬䁤೩ᮢᒈңㇼࢣ₈អးe扸༢䀤ຓ₄Сᅀᨨ䠸屢⇶ᚩÈ⼨䰠ᡰ䒺㍠惡䙄୑ᦢ楺ᄾ׺ݹ桨䭋歔Ὤぉ掣㆜ᾯ瀢欼惠ਢⅨ㛶⊖ԩ⌖唠㯈Ḥ㤨揺兘偺䌾ⓥ᫤瓠抆泷ᰆ䋸媶狲孶Ķ太焭担挽ᚩ䳋ᨀ᳡䏂峈墶㋢奶᫵⬸媭戙惷⡦≇⢔㴠࣠᝭欭〴㖠䱟歖ᵌᨭ⣡刘¨ᦤာ䎐积䎪ᠭĸ嘯8عᄸ樢眖淛䃠渽䎐拮嬡䛠ᡤ⢦Ꭺ㙹ሀ咺⫪ṡ⥊Ŭ㭲ৣ冔㺦㠬㥀䁐権㥬᦭㣸෥㏞䶧㈌Χ禼古≼柶猈᯶^ⓢ磞㟸䲠俻社ኁ瀡੭悡ご暢傴䛡ᠬだ✺䝁㑑㠉䣬Ĺ垵ٙ歛槹❡➈溍拉䆃✫ⵯ␹熘曁ᇌ㟫ຜ旘㶖㑋▄ǡ䌪䟉䵞䗉ⱌ攡樤娲⌲夰䱨䢰竀⠆ⰷ䜶常娀竅Ȁ祝曍澷琜ᜯ搥㜨ᓨ໾⎖支姈⇦ᖈ֟⃴偠⌾淗㙝碠甽ሴ瞽䯐奐ᯎ瑝⟌周挀∍㌐眽⬈䁽⯎怐܋ɝÊ厕൯咦㵫ⴊ&≀灐ܢ娩弉枥瓟渙可竅嗏⍕圹㜭䃹Ά楶匬喷檼偸媢廷ૺ想䝶䄮ႉ柰ت晠дࢬ坰Ŧ䖩尸毙箧హ䔑佅ᣳ⥗幧憡倯♷䝭哽㆟হ䄦ࡨ᭑℮㒢╆∶毭糳҈嵸矈失ӕ殉埶㎈⅊♹⫶汥䭸桺筘ܐᬧ㇢ऩ憫櫰ౙ◨助䡰姱̵烃ㄠج䳅ޠ堻ᇞ̢磂䖀⍷乃2䯏桰䣃ᦣƉϨ籔㮙Თ祠喌攇ၽ䣀㶥∛႒㡖㪮㱷杄܀穡㙶೸䧽妌ⱈᱦ㥥ᚔ桱悈䍨ࣇ拼㭭嵫嬲㯅㦽ྑ型倾範ṯⲐ䀠 "
   },
   "outputs": [
    {
     "data": {
      "application/vnd.jupyter.widget-view+json": {
       "model_id": "733e391d7e2b4a21a9a807b956a4bef0",
       "version_major": 2,
       "version_minor": 0
      },
      "text/plain": [
       "PersistWidget(data_values=[{'__id_column': '1', 'Title': 'Super Mario 64 DS', 'Max Players': '1', 'Multiplatfo…"
      ]
     },
     "execution_count": 5,
     "metadata": {},
     "output_type": "execute_result"
    }
   ],
   "source": [
    "PR.PersistTable(df_task_1a, df_name=\"df_task_1b\")"
   ]
  },
  {
   "cell_type": "code",
   "execution_count": 6,
   "id": "6127fc95-28b5-437a-a946-e8097c40bac2",
   "metadata": {},
   "outputs": [
    {
     "data": {
      "text/html": [
       "<div>\n",
       "<style scoped>\n",
       "    .dataframe tbody tr th:only-of-type {\n",
       "        vertical-align: middle;\n",
       "    }\n",
       "\n",
       "    .dataframe tbody tr th {\n",
       "        vertical-align: top;\n",
       "    }\n",
       "\n",
       "    .dataframe thead th {\n",
       "        text-align: right;\n",
       "    }\n",
       "</style>\n",
       "<table border=\"1\" class=\"dataframe\">\n",
       "  <thead>\n",
       "    <tr style=\"text-align: right;\">\n",
       "      <th></th>\n",
       "      <th>Title</th>\n",
       "      <th>Max Players</th>\n",
       "      <th>Multiplatform</th>\n",
       "      <th>Online</th>\n",
       "      <th>Genres</th>\n",
       "      <th>Licensed</th>\n",
       "      <th>Comp_Time_Main</th>\n",
       "      <th>Review Score</th>\n",
       "      <th>Year</th>\n",
       "      <th>Publishers</th>\n",
       "    </tr>\n",
       "  </thead>\n",
       "  <tbody>\n",
       "    <tr>\n",
       "      <th>0</th>\n",
       "      <td>Super Mario 64 DS</td>\n",
       "      <td>1</td>\n",
       "      <td>True</td>\n",
       "      <td>True</td>\n",
       "      <td>Action</td>\n",
       "      <td>True</td>\n",
       "      <td>14.5</td>\n",
       "      <td>85</td>\n",
       "      <td>2004</td>\n",
       "      <td>Nintendo</td>\n",
       "    </tr>\n",
       "    <tr>\n",
       "      <th>1</th>\n",
       "      <td>Lumines: Puzzle Fusion</td>\n",
       "      <td>1</td>\n",
       "      <td>True</td>\n",
       "      <td>True</td>\n",
       "      <td>Strategy</td>\n",
       "      <td>True</td>\n",
       "      <td>10.0</td>\n",
       "      <td>89</td>\n",
       "      <td>2004</td>\n",
       "      <td>Ubisoft</td>\n",
       "    </tr>\n",
       "    <tr>\n",
       "      <th>2</th>\n",
       "      <td>WarioWare Touched!</td>\n",
       "      <td>2</td>\n",
       "      <td>True</td>\n",
       "      <td>True</td>\n",
       "      <td>Action</td>\n",
       "      <td>True</td>\n",
       "      <td>1.83</td>\n",
       "      <td>81</td>\n",
       "      <td>2004</td>\n",
       "      <td>Nintendo</td>\n",
       "    </tr>\n",
       "    <tr>\n",
       "      <th>3</th>\n",
       "      <td>Hot Shots Golf: Open Tee</td>\n",
       "      <td>1</td>\n",
       "      <td>True</td>\n",
       "      <td>True</td>\n",
       "      <td>Sports</td>\n",
       "      <td>True</td>\n",
       "      <td>-100.0</td>\n",
       "      <td>81</td>\n",
       "      <td>2004</td>\n",
       "      <td>Sony</td>\n",
       "    </tr>\n",
       "    <tr>\n",
       "      <th>4</th>\n",
       "      <td>Spider-Man 2</td>\n",
       "      <td>1</td>\n",
       "      <td>True</td>\n",
       "      <td>True</td>\n",
       "      <td>Action</td>\n",
       "      <td>True</td>\n",
       "      <td>8.0</td>\n",
       "      <td>61</td>\n",
       "      <td>2004</td>\n",
       "      <td>Activision</td>\n",
       "    </tr>\n",
       "  </tbody>\n",
       "</table>\n",
       "</div>"
      ],
      "text/plain": [
       "                      Title Max Players  Multiplatform  Online    Genres  \\\n",
       "0         Super Mario 64 DS           1           True    True    Action   \n",
       "1    Lumines: Puzzle Fusion           1           True    True  Strategy   \n",
       "2        WarioWare Touched!           2           True    True    Action   \n",
       "3  Hot Shots Golf: Open Tee           1           True    True    Sports   \n",
       "4              Spider-Man 2           1           True    True    Action   \n",
       "\n",
       "   Licensed  Comp_Time_Main  Review Score  Year  Publishers  \n",
       "0      True            14.5            85  2004    Nintendo  \n",
       "1      True            10.0            89  2004     Ubisoft  \n",
       "2      True            1.83            81  2004    Nintendo  \n",
       "3      True          -100.0            81  2004        Sony  \n",
       "4      True             8.0            61  2004  Activision  "
      ]
     },
     "execution_count": 6,
     "metadata": {},
     "output_type": "execute_result"
    }
   ],
   "source": [
    "df_task_1b.head()"
   ]
  },
  {
   "cell_type": "markdown",
   "id": "3875e7fc-ec40-4241-aa94-87b31e59944f",
   "metadata": {},
   "source": [
    "## Task 1c: Correcting Data Type of 'Max Players'"
   ]
  },
  {
   "cell_type": "markdown",
   "id": "7a7eebda-1b60-4bff-89d3-a5548a601b49",
   "metadata": {},
   "source": [
    "There is a data type issue in `Max Players` column of our dataframe. The column is a category column and should have the pandas dtype of `category`."
   ]
  },
  {
   "cell_type": "code",
   "execution_count": 7,
   "id": "fb9bff61-9a8d-4114-97f3-4f6d0cd0e61e",
   "metadata": {},
   "outputs": [
    {
     "data": {
      "text/plain": [
       "Title             string[python]\n",
       "Max Players       string[python]\n",
       "Multiplatform            boolean\n",
       "Online                   boolean\n",
       "Genres            string[python]\n",
       "Licensed                 boolean\n",
       "Comp_Time_Main           Float64\n",
       "Review Score               Int64\n",
       "Year                       Int64\n",
       "Publishers        string[python]\n",
       "dtype: object"
      ]
     },
     "execution_count": 7,
     "metadata": {},
     "output_type": "execute_result"
    }
   ],
   "source": [
    "df_task_1b.dtypes"
   ]
  },
  {
   "cell_type": "markdown",
   "id": "b23913ac-ea3c-4ca1-8ac3-07d3026ca76e",
   "metadata": {
    "__GENERATED_DATAFRAMES__": "{\"nodeDataframes\":{},\"graphDataframes\":null}",
    "show_aggregate_original": "false",
    "trrack_graph": "ᯡ࠽䈌ʀ匦㢠⹰ೠ↺΀Ơ瘢ᠢᠫ‵䁇ፉ䐢怣侽振ၑ䶃᪰঵䂆⹉多䪲┠অҤᴶṂ㊵嘊᭓ㄅ毠㒰䣑Tဠ㚉҃೨ɰ䂠̂҆;䘸Ϥၗ眼䋐Ð䬹†于␠㚠ᝨ沂烒⎁൸憈㬸ᐠṬү䓧Ⴠ椓ᣘ⌚ᆠᛦކ䜱ǁ䅀㖖नຂᩈ桫〦塵偢㶱⢠⾱䂅埦䖃塀㪂ₐ暸ᵽ䀳怠煼砤慸㴻ࠩ㯏姭ঌ䄢䣫䧙㱈刱ㄿᬦ䩫⏃㌱楫磤ⰴຣα晼ਫ䎁㺕䮃Ⴤご䖂᥂挰ы゙㈬ܠ₰ᑊІ僑汮ޯ戩䉱៪怡⹁ᡤ甑擸抯॰ᡬᅓ╄璚╄㈠ "
   },
   "source": [
    "#### **Instructions**\n",
    "1. **Convert `Max Players` column to category:**\n",
    "    - Use the column header to switch data type of the `Max Players` column.\n",
    "2. **`Edit Categories` pop-up:**\n",
    "    - Inspect the `Edit Categories` pop-up in the toolbar. Look for any redundant categories (e.g. both `1` and `1P`)\n",
    "3. **Edit and Correct Entries:**\n",
    "    - Search for the cells having the redundant option using the search box.\n",
    "    - Edit the cells to remove the trailing `P` (e.g. `1P` to `1`)\n",
    "3. **Verify the Output:**\n",
    "\t- Print the head of the generated dataframe to verify the changes.\n",
    "    - Also print the dtypes of the dataframe"
   ]
  },
  {
   "cell_type": "code",
   "execution_count": 8,
   "id": "84bd3f29-2697-4f40-ab16-27f6540912aa",
   "metadata": {
    "__GENERATED_DATAFRAMES__": "ᯡࠩ䃬࿀ᜤᠹ悋ᐨ恑䐢犲ǩ怶恉宑召䵬ð䀲悠ᄡḡ沯妶ᠢ㠪癀ఄᐠ ",
    "__has_persist_output": true,
    "trrack_graph": "ᯡ࠽䈌ʀ匦㢠⹰Ӡᬡ䘧〬悆LX˱ム⌦ሩ‣༲Ĺῤ䂼Ĭ甃ᯂ琢墨ॅ)㊤䈽᭞ㅒ䫵㐻᫔㌃柮䂐梠ᨰV乬ク␢⡠䀢焨㌠෦ౝ戰殖๠〠宩ೀn坄V䐯ŧ⃤煡ジ⒈䅡อ༦֦劀升夤ᢘ个śࢼ删״᤻ᷬ䢔䌬⢇ᛦԠ޳ŀ⣐璔纪Ḫၽ䅮摐˸憍ᲂၮᡄຖ湁Ȍ⎤橠䱖ᔇᡟㄵ⠥稻໶㢼౻ȶ枎૓}堢㰠ຏྟద࿒籀焻䐂㥘୒Ȥ䧄⠽ৠႀ瘪ᙢ〨⒦ṱሂਪɡ䄈癔➢惐ᡐ䅡神῔䋳燺ၙ泬ᧂ壜⢶╲璡শ摸峞⡶ᕪ狅ⴭ䉜㙼₲⑲㒦▱攒㐡⑱ᓪ઱Ёᣬ⡨&ਘ䬠᳣倠ࡐ࠱䀥㥬悓‮•敘'峰H䰿సᎢḆ䵆Ȭ⁮屽兔⃡߱樓檀忺毕䀠㻐㪿祭㟓′բ䷄➢䂨ᐱޤ೨ᠳ࣠ᄈᐴΫₐ籱߱⃈㲁ᅦ檖⿑欇㢄䱎ࡥᇨ⨭ཤへ㙆䯧炤ᄯ佫㑚滏⿴ഈ憾Ѣ惰≔歗䷁▪曷⴫ᶾ愤ᶮ厳榔ⶢᮽ愓ᴬ㡄䌠Ť㡾ྒṰԠ⁯戠浐ਥ亇挑垗丒縰࿺沟สℨ䨠⁏䵂䉏䊀〼沥婟ീゎ䎍ስ㖍㷎䴰暌㓠ᧄ昔ᘳ䉜Ḱ⊨䨺≜᤻Ԭэ⏄ᩣक़㜭↪ᦣ₸ᦆ儤✣ⅵᣣ቉పᅎܽሂᒨㄘ礻≳\"ᎉᰠŴℨᡬ䉖堅Î䏶窼៷稨㚳粋䩑䙬妱洟ံˀ囤塐ܦ䣒ᒐ⠳奦亊ຖ瀫䝢⹺㛇呰䊦㻥哗ᚵ岱噔Ổ㚼᧕㜍发⃽孰䩲ੱᚅ䋖搥㛖ᕭ䗑ႍ䬠皴ૉ滺囅ᠭϠê猠௔⠼桰獸ᖢ䜥扆ီέ箥㨆Ⴌᆌ္ঀ娯ǀ敊ȽṰ磠昵⧀ሪ̪瑢䡰⠧Ȩ檠搮◚⢒㥻䩊繥䃊㕤⪊䪹勔䧃㩀㺠ㄬ䄠䇶Ƹ秬ּ秸䯣㎡対碼ᡊ狞然無灛章翰Ҟ桺՜䌲ѳ涶ۜཉӁ㑖敢炧░ᠪだᜧ戹Ř柺㍎ㅹᾡΉျ܁ᠿ׼幄䞱䩅俹椥㗴㗜⹫ຆ⸱庞Ⱙ⅄©斃掐ᴭ0习䇀梦䃂沯ᝉⰸ瑴祗䄀ử䟓䖪Љ扖搑ာ䔻≘ᱤ⢽䍴ඓ䞛徏丧〳䃬⩘沠哵ᩨ䳹᯺侂⽧㵗〛牅獦ᄎ朜媝䜇嵇氷Č䕐悦槠㼡䛲▉٠〤䃘፾㎼Ï怢⁤৘ヂᒘ⣞⎮┪㫈姣ⅅ洷⍎柮僘⡥͞巟㘽毄瓉∼畐䯚盽⑰⁝⟁㉪ᷝ䈍ᐠ甽縊渿௝䅽ᯈ函఑睝䇏⭨%⦜ᐣ⹉倶ݢ甎䘈㺯栣ὣ䵄䂚ḧば抔ਧఫ⡙刣凤ᛢ㍙䁸⺄ѭ呌ဣ㫔ࡀ⠳䇸°歒䥂Ḗり撀畤⒧⧠〨䁐ᑡ笻椮๴㖜冁⋀洍⹵嵲嗊䖒䇚犌⑖渪а啣屭Ƞ㌱೯ᦀ冺懃╕氣䉘Ⲅ籘朘ӿ⊩倐¤次㤫Ɲໆ笱⻫⽭傲䑜঺䢫᪁ᖐ獎㈆埈⸢⃼䷥嵈䩙◟䗫ၬނ用ᴉ噀ਰ兖巨䅙Ꭴ▋༵⒡ᔮ眍ၴ䦲䥚ⷒぅ毂娻ᦑ惈ϡȴ〶ѳ屶Ⲓじ෈㢘ᨠṢ珄•঩䌪璈⦢ᬽŐॣ䐼ɀ瑡䃺䑳秬劬䭙䀠ǪᏉ㪩ޢ㤸ඒ㠰䦙捽ୟⳀෳᎲࣀ區ཁ玺僎઱≘叱ⅇՠ杚䂐⌔⹝΂挡䩨ޡ侢䍦᪦桫ѐ滶モ厁砉ቼᏣ埮嗨☹ŭװ煡傐⭐䡼⤌ጫ局憬ࢋ甸構⓷ᨴֺሁ籸ᓕ⫢㗶䒤ସ㦐ᐧ〺怢ሣ䁸໠琶沨ଋ堠፰ਠņߌ岥⁬ഔ籀墧ᮘ῎笽✥ᵷ癞砊㹿溝៯綜ᙥ㩜䖎㑒猁䁀Ҋ㳀ಭ⬪秱僤ὖᣞᦫᎍ䌜ῢ♖ა㓧ㄼ⻵惃ᇘ戶䡯ૂἸ䧩ᷭ兎岰㾆≸㓔夰䃕䣩䬂൅ᳲ䝐ᴒ㋆㙱で↢僜Ү⓽๭Ꮜ槂䘝㽄㱍់↊䮍㜭牆極ሀⰯ㥘㶢ᭁूഡ筄䉀⦾㩈஡㰠⭘૊㡴㒻⇫筚睩඲争憼၂㪃噕扼瞷ס囩涮㶈แ᳽ⷽ㯄Ꮫ㮬̗◭暋䳅㈏㦒٘低ᔇ万朲竅㟫⾁偀柬旌垡泓䯙㞷禀咰ド恱⥠煱䂲弫刧竹㵀ïᚊ〸恁⤵ㅱ′巋㪸㑠ᢴ⚥僭෯䙥刼⫿ヤᾸ孲ᄎᤛ䭜⊕ֆ∙ᕀ狣㙪⧠ᖽ䆨ຠ࠴Ų㓎悯Х⨲䗀庪䱓୸㬷ↇ؂䲨㉙೼⢃岴䋃⛉ු㋵瑳吸市ᣧ暑殧䜏䤐窒捽㳤䂳䚚吵姚㞢㽹犞泭᧘᪫㎸掉㜧ᤴᓍ湉㫻ත姓㸠ਈᜠࡕ榔瞌甆\"䄡效ಶ碭đș箵攥㘋岩炙篻૓欓५⅞▛勚祀₦㹚ᱜ抨沙⋦੽䜒Ꭿ㤏ထ啅啽ᚣ㫘掭㝅䶏X牫嫠䊕仄ዀड〹㓫ᔉ孅擼带ၩ枺ẋ⃧Ⅰ䰳媄㵳㕐䘊㺷⣹Ҁᨡ䂊ࣞṱ⁌ຕロ㤘滓ƀᄤ≱⧛㑘Ꮟ⍊炞ᆟ䀕㦒ྴ⨿∐᳣汘厀Ḭਗ਼౤୲㓶䑾⺮幣æ䍗㕆㾭໙災㫧⳽䞡៉ᢷઓ倮燎㘃溋ポ呔ʔ瞱㼋ԟⲉ⽟➑晤毙㬉绔ӌ瞓䪉ᚦ㷩⪱ⵒN䆔婊㷄皭⠀懸㒠幍庚槞捎ទࢀρ牟࿶ണ␾⠰య䒼嗎ᠽ䂪ȋ㫒瑌烜ޘ潹㎽Ⴋ㬣湾㋇⎾⍸帆䘍硡盫Ⴣ㶙㞚ㅦ㱾ⅈ៉ⳅ៭⽿䱠㐬粇㇎垄䂎癫漃淀㏺ぷ徛ᷤ恿㬦缼睎時名泰ᗔ栌緯౯侥耜碘͠㒴⁢潠勻䃧⁡␾宗槗宔䞤發༁ܽ椫ށ䐰竮㮬ԠЧ䌄噀㠭浽ħ㭸䕈⮖᥏ⱥ㾄涚憬ᬓอ嬾෶崻≡欢㔮惿⭴楧㥪⇈䚫᫥䛳咊䠚㦬䚓㰍㓯䱢暘畆ⶨ㵪䴖㜕⮫䧿樾ᎈ᮸䒣曕啉ᷚҤ牮焐ᣡ〢⻨ഗ᫙᭱モ޲࣡⺣⓹ᘢዸ䣐暀Ⱒ憴呴᎛ᨢ緰ᓣ搯⹻ܤỳ暙㱳枽牱百ᩰ繲嚨ˠ㐁⟦㹐ο̙⋮廴ܸ㈐栣㺴@㜙ᠨ幀ܰ稢⑚瓲੿Ღ埱⅑ٰ檦⛠Ⱦڏ⳹寪ˮ▗ૺ篹ᛈᗐᢂᴠ䁛ぬⳉ旮剤ᐗ͈棤Ęԣ熴ڜ刄Ձٯ穜垿㲱僬瘥н⼛笿㻞ŏ✠叭ẗ㋏װ毭皕甛┢濹☰恕ༀữ䪜呧㧈㿥໶偓ⷈ䧫ຆ㑆〥嵼䳖㜠䟊᳷櫰ও₋㱦仞ᐫฦ睵ǇጷΧさᩈ࣭೙劶亢煷⨧偄ċ畄ᐣ〱ᜎ捏ቃ仢瑵℅⁥‪呝䝄ᚱ㋵䇃枀攐૬Ṝຝ߫⏼噢ฺᄣἠᄢ㘨妃ᬽ૪ᇤ⑤瑆ᆈ㕲ɧ㫣意ਨ巠䉛爇您両≃ࡈ֨灅け弚䌪ᑫ䴻ш睡⟂̧á ᓢⴻ擱䄘㮘汗㌞䎐廹㲲ᣄ伿⍋㚤₄䃠Ɫᬹᙈׁᥡ〱䃁ਅᅂ䰿䜐䜅ǲ቟䈥Ꮰ㔙㑊↫疰䬘ᑝ㹦૿ɠ矤౪㏵઺ᑭᙜず╧忹๶埱㩛橘曘曧㦺燸䴘獆ඹৢń爕ΰ䀢亝໇᭒ه仡㍠歘剴娮瑭㳦絚ㅵᖇⓘ做⼘ࢬᨋ楔᧣঩ዥ䗼䡢ɘ䰠㾥⅜䃗≹㣻䃩լ礣眯娶栓្淣伏䋕֊͛曫⋔ஹㅂ姞ń澱㙣廖ਐ㶅瑣↾䐒㧤湨Ḽສᜦὸ嚱癪§彮Ἄڜ㍇䠭䧀ゐ淐祓哭䠄圣儧汤䂀ጦ䅄S䶄䘣奁㧼丄䬄䠠⨋临圆䱏܈䬭♅㸻ॎ෤秃煐䧤䯄䲃䥇㋫㛄焙⍇搿徧俢渵䝨⒰瀹⁬߼❲Т盉狁ᅁᑴ唃ኵ࿻߼িന俦慞ঠ䮨唨兇⬊䦧।⠭=䀰ఘ伫☦䷳฀浸拆䢕ׇᵪ楀ྕ㭤₾槮ᒔ䍐ͮŴ灠䃧፬ᦅ俘ᘁ䢣奝̷ģ㭖ᥳ෠狤倮壥䖦㩢㥋ڦ๲⤋稤䃱ޤ࣪㒸䁜㚀翘⹖猃怼揪ૼỜঝ᥺у窹⏀㙳∴՜Ǥዉ⃆դ΢繁ᑾ䄃ɲᨢ僝⅀⩈➴⃇昖栒䈵˙ׁ⭨瘅免乁䚲叀倹秏䩄耆䥋禽狄儙ᚯᗞ⋃ԛ瑩ᇣ珼崄㥋䦗慜居位㥢䳼棅啚༗狴䐒示䖺ወ崵㿸楬Ⱏ⍦R楶ᄂ孥浓兿䊠珄恒乡儲枹䓄㈅䣸ᒴὁ奒狪擥ש▂熠ౡ⪭変وⷠ栲䃝喅⎀⡔⩐效੢怬敷厀喷⹔Ỽઝॹ䝍竑瘰嘸天ቖȼ⟵݈嘱琀念㹹偖䘨㉤⋌վⲢ岲糎ᖡ⩢䡵䋜灠  "
   },
   "outputs": [
    {
     "data": {
      "application/vnd.jupyter.widget-view+json": {
       "model_id": "0b311e95f96d4b638013a472b11890d6",
       "version_major": 2,
       "version_minor": 0
      },
      "text/plain": [
       "PersistWidget(data_values=[{'__id_column': '1', 'Title': 'Super Mario 64 DS', 'Max Players': '1', 'Multiplatfo…"
      ]
     },
     "execution_count": 8,
     "metadata": {},
     "output_type": "execute_result"
    }
   ],
   "source": [
    "PR.PersistTable(df_task_1b, df_name=\"df_task_1c\")"
   ]
  },
  {
   "cell_type": "code",
   "execution_count": 10,
   "id": "4f6d1988-3507-4b74-bed6-9ee875e3bdcc",
   "metadata": {},
   "outputs": [
    {
     "data": {
      "text/html": [
       "<div>\n",
       "<style scoped>\n",
       "    .dataframe tbody tr th:only-of-type {\n",
       "        vertical-align: middle;\n",
       "    }\n",
       "\n",
       "    .dataframe tbody tr th {\n",
       "        vertical-align: top;\n",
       "    }\n",
       "\n",
       "    .dataframe thead th {\n",
       "        text-align: right;\n",
       "    }\n",
       "</style>\n",
       "<table border=\"1\" class=\"dataframe\">\n",
       "  <thead>\n",
       "    <tr style=\"text-align: right;\">\n",
       "      <th></th>\n",
       "      <th>Title</th>\n",
       "      <th>Max Players</th>\n",
       "      <th>Multiplatform</th>\n",
       "      <th>Online</th>\n",
       "      <th>Genres</th>\n",
       "      <th>Licensed</th>\n",
       "      <th>Comp_Time_Main</th>\n",
       "      <th>Review Score</th>\n",
       "      <th>Year</th>\n",
       "      <th>Publishers</th>\n",
       "      <th>is_selected</th>\n",
       "    </tr>\n",
       "  </thead>\n",
       "  <tbody>\n",
       "    <tr>\n",
       "      <th>0</th>\n",
       "      <td>Super Mario 64 DS</td>\n",
       "      <td>1</td>\n",
       "      <td>True</td>\n",
       "      <td>True</td>\n",
       "      <td>Action</td>\n",
       "      <td>True</td>\n",
       "      <td>14.5</td>\n",
       "      <td>85</td>\n",
       "      <td>2004</td>\n",
       "      <td>Nintendo</td>\n",
       "      <td>False</td>\n",
       "    </tr>\n",
       "    <tr>\n",
       "      <th>1</th>\n",
       "      <td>Lumines: Puzzle Fusion</td>\n",
       "      <td>1</td>\n",
       "      <td>True</td>\n",
       "      <td>True</td>\n",
       "      <td>Strategy</td>\n",
       "      <td>True</td>\n",
       "      <td>10.0</td>\n",
       "      <td>89</td>\n",
       "      <td>2004</td>\n",
       "      <td>Ubisoft</td>\n",
       "      <td>False</td>\n",
       "    </tr>\n",
       "    <tr>\n",
       "      <th>2</th>\n",
       "      <td>WarioWare Touched!</td>\n",
       "      <td>2</td>\n",
       "      <td>True</td>\n",
       "      <td>True</td>\n",
       "      <td>Action</td>\n",
       "      <td>True</td>\n",
       "      <td>1.83</td>\n",
       "      <td>81</td>\n",
       "      <td>2004</td>\n",
       "      <td>Nintendo</td>\n",
       "      <td>False</td>\n",
       "    </tr>\n",
       "    <tr>\n",
       "      <th>3</th>\n",
       "      <td>Hot Shots Golf: Open Tee</td>\n",
       "      <td>1</td>\n",
       "      <td>True</td>\n",
       "      <td>True</td>\n",
       "      <td>Sports</td>\n",
       "      <td>True</td>\n",
       "      <td>-100.0</td>\n",
       "      <td>81</td>\n",
       "      <td>2004</td>\n",
       "      <td>Sony</td>\n",
       "      <td>False</td>\n",
       "    </tr>\n",
       "    <tr>\n",
       "      <th>4</th>\n",
       "      <td>Spider-Man 2</td>\n",
       "      <td>1</td>\n",
       "      <td>True</td>\n",
       "      <td>True</td>\n",
       "      <td>Action</td>\n",
       "      <td>True</td>\n",
       "      <td>8.0</td>\n",
       "      <td>61</td>\n",
       "      <td>2004</td>\n",
       "      <td>Activision</td>\n",
       "      <td>False</td>\n",
       "    </tr>\n",
       "  </tbody>\n",
       "</table>\n",
       "</div>"
      ],
      "text/plain": [
       "                      Title Max Players  Multiplatform  Online    Genres  \\\n",
       "0         Super Mario 64 DS           1           True    True    Action   \n",
       "1    Lumines: Puzzle Fusion           1           True    True  Strategy   \n",
       "2        WarioWare Touched!           2           True    True    Action   \n",
       "3  Hot Shots Golf: Open Tee           1           True    True    Sports   \n",
       "4              Spider-Man 2           1           True    True    Action   \n",
       "\n",
       "   Licensed  Comp_Time_Main  Review Score  Year  Publishers  is_selected  \n",
       "0      True            14.5            85  2004    Nintendo        False  \n",
       "1      True            10.0            89  2004     Ubisoft        False  \n",
       "2      True            1.83            81  2004    Nintendo        False  \n",
       "3      True          -100.0            81  2004        Sony        False  \n",
       "4      True             8.0            61  2004  Activision        False  "
      ]
     },
     "execution_count": 10,
     "metadata": {},
     "output_type": "execute_result"
    }
   ],
   "source": [
    "df_task_1c.head()"
   ]
  },
  {
   "cell_type": "code",
   "execution_count": 9,
   "id": "e1c8ce26-edbe-42ff-9873-295e91676312",
   "metadata": {},
   "outputs": [
    {
     "data": {
      "text/plain": [
       "Title             string[python]\n",
       "Max Players             category\n",
       "Multiplatform            boolean\n",
       "Online                   boolean\n",
       "Genres            string[python]\n",
       "Licensed                 boolean\n",
       "Comp_Time_Main           Float64\n",
       "Review Score               Int64\n",
       "Year                       Int64\n",
       "Publishers        string[python]\n",
       "is_selected              boolean\n",
       "dtype: object"
      ]
     },
     "execution_count": 9,
     "metadata": {},
     "output_type": "execute_result"
    }
   ],
   "source": [
    "df_task_1c.dtypes"
   ]
  },
  {
   "cell_type": "markdown",
   "id": "753ed0a8-dc0b-4ac8-8afd-b554ea8f4d28",
   "metadata": {},
   "source": [
    "# Task 2: Filtering data\n",
    "\n",
    "In Task 2, we further improve our data by removing outliers and removing certain records to have more consistent data. "
   ]
  },
  {
   "cell_type": "markdown",
   "id": "7f25d8f5-98e8-4b0f-9358-ed85f77cbed8",
   "metadata": {},
   "source": [
    "## **Task 2a: Remove Outliers**"
   ]
  },
  {
   "cell_type": "markdown",
   "id": "ac53a605-2d10-4457-9625-70ce88f04f3b",
   "metadata": {},
   "source": [
    "In this task, we address data accuracy by filtering out anomalies in the completion time for the main story of game. We observe some records with negative values for completion time, which is obviously incorrect data.\n",
    "\n",
    "**Remove records with negative completion time.**"
   ]
  },
  {
   "cell_type": "markdown",
   "id": "664c641e-1193-4233-8897-0161f209c86f",
   "metadata": {},
   "source": [
    "#### **Instructions**\n",
    "1. **Identify and Remove Anomalies:**\n",
    "    - Interactively select data points negative value for `Comp_Time_Main`.\n",
    "    - Use Persist's interactive features to remove these anomalous records.\n",
    "2. **Verify the Output:**\n",
    "    - Print the head of the generated dataframe to verify the changes."
   ]
  },
  {
   "cell_type": "code",
   "execution_count": 11,
   "id": "9f84d347-8ce1-48d8-84a9-478d7eae3bd6",
   "metadata": {
    "__GENERATED_DATAFRAMES__": "ᯡࠩ䃬࿀ᜤᠹ悋ᐤ推̅ሣ䧠ⶠ卍捯ᥔᠣ℠▢dʘϔᝠ捌〤瀵摠៨⠠ ",
    "__has_persist_output": true,
    "trrack_graph": "ᯡ࠽䈌ʀ匦㢠⹰Ӡ⌠氦ᠽ䬢థ倪怳䎠晢Ðąፁ媀چ䧺歱╝᭳䒴E䨲࢔沘ォ䩱埈泭䎷ཞఢ†桠û瀢ᣣ漰ӁĠק␬W౐ᮨ⁏⻺怡㘷唠৩撠۳娺桱哴౺ⅉି੣⑕Ꮢ椭ᆤંㅍἶ䔦䋢䀠ᡪ†嵽ả䓩ɻ勤ࠁⲀ倠祐ሺܬ对䝃ᑲ琡㙐⮜ႨἬड᫖ࡡ㬱䅵ၣ■᫤㾯瓹ѴƝ㫛ֶ㸶ૡ˖宧䳡⛌¾'Ћ實֩妘䌫ᶌ筞આ⁠兘䩷懈ᡉବ႐䍕ࢆ╨壞ࡱℨᠩ⩠僰ਮΡ䆒㑍䴓㷤⚬䫱Į㪎䌧Ղ棌⼴⑱㒦ⵢ撒㲡⑵ᗪ傘ᬄ㉂⢬✰⒲⒊ⓢ犙峞⡶ᓪ嬡䲁ɠR䓥竔倠 ذ䁦ហ࿀Ë҃׀ַ戞䍠ţⁱۋȨ㗀j㚰歐᳢ఠޔᯕⰤ࠵㫰婇帍ᆨ徍䭰ͼ㠾妔碜㽀ⳕָੑቲ⌂戱⍡ᑸ扁ࢃ掂మറᖨ湑ʧ坊崫毒㡼ॆ஠ၨ爵ݠジ嘺⧦熘䋆䡄㖺·ⷵ瑪结㎥授凘楕ʆ㦫⣐ᛶඤ෕渖ᯑ浗磮வ悕椀儬%࣐ⲝ㬊Š࠵碠5昢£侙渶伒䂒⼐䁾斃㱠Ⱘ䉰Ġ庑࠰帣֠Ḿ拱㲑#樀樷偠䈹䲊㚌㡐嘺炐帰⌰儺⏡⺤Ո䈸へห憈ء䄋ԣⲈآ䃀ᶂ⤑℩ࡰج⸋०䅲ⵍ倸碮䓤ℵㆨ殢⏘唱≬桊㗭㗋㒀τ琫㯀Ĉ⡖⇡ᡄ⇡㲦۰栣䯥吪׀ҧ㊨屉㗀欰㟐⇘㒭凛昨燏䥈ᡉŠ⡊Ⅰ爦ـ庉ۀຍ٫⦚⭡ᦙز䝝डᢖ䪡㩻࿳⑸ߠ捉仂妷堐᩶䶐㪍䉢٨ł眼⮋梈ଡ䈠痐Ⱘ㐑坐┡㍩䌱⸥䳔㚽咕缮㙜畋䀠Ẅ嘀ↆᯉë⿧ᣡ䱐䙱偅淓ᾉoᤈ勎ഌ᲋ᣯ䁁ᡄ㧮㢥㦲⁤秾㟪瀡⡎㋁⺢員཈ᕥⵈ敹⯬┴᤹ᖅ✦攸˂ᱧ፮喬㪃嘝㶬ᦦῡƐ௠嬄⮮ʆⰶ㡐ῦ燔䶄糿᠇籶ࡑ㄂ቦ๒ᒗ䠳䥦今ຐ桺ἑ咮г℗䣑ᚅ䥔围᫕圕乔ၭ䗓㛹Ꮠ偳ѱ碥ᛨ卺恵屫殭姐惍巕ᰊ䣦㷚嚨ᩆ䳰淶㛮㪎宠⚦䔧窡䜉䘗☥䜑䯴ᩩ䕐㊮ᵑT㽱曞Bыɡⁿଦ囨䬦歌֤ᷴἡㄈႡへഢᐴღᄕ嬦皌㽐ຂ妴䪌䙱Ⓖ卆摪徵⬅ᦖ劍ඔ⁝࿅⧭嚢䑘ᾐ䱳ᤖ壇䦆Ʒ嬓沰┄㻢ᴄ尫㜀绿堗έȩ峚య忋ਯ岯ԏࡨ┪㍀冉ᏸ☢炥拑õᄱ吨ቂ⡦Ⳮ瀤䓰ล䛜竰ε㘴兦勆䘴մ㕩䔠▨⧃⨹㠩䁨ມṇÄᩨ㿬撜圻糀⢙ౖ偎׀氺⛬Ⱒѐ㓨⪨䣄⭥ᷳ䕨ౡ䓊䇥⪭敩⓸‥ঐ椱紲᝺⭅媖₣呝熈㍡⇃ҥ㌫傉෡夲ƴ摕ᱤ屠र䭰ଦ嘲̀摯牛䝸栦Ǚす㢴㸡䀡Б䦥窭؀弧焞᧢א央㒥䡑恰䧬偓䛁玿䄤ź樨Ⴠ㸃▂畎䈭熵淡嗶帋凛᮶˗㮐偮瘴嗈⻙ዠ既峋䪠䪛ƴ䮓㜮狠侉唂Ѝ窭初勪㚭䮍ᠥ㪗✮䤀ജᮕㅦ᡽๓䎪㫆㪐์盬悻伙䈰※ⷲŀ刣㪶ॡ傋ㄲ⌦ⱌԡ乿r䘢栥☸ផ瘾眰⮃㜅䗌㫴☕僺巑墖ឆ伸ᄈ斠庻䓝䐢䇕䴣埁犠᜗䱓揾ⶣ墧枙䟩福䈚㎵礞 彀Ꮵ⠂╏朘濴২嗡㿑ट㣱悰ā㤷勼ᱣ⑇瑈㸥⡥䓠睦⃬㍡沅䩙⢃䳏͘ⶵ䂇⢰吪狘ัഴ䁩䊢㥼≐㉧䕫ᒸ愪൥ஹ处ᇜ妃࠵⫤㴤燐䮊操㊦圁ͳຢᄢ可䪘䁵ዐ周湓ଂ㊅ᵿᆦ⺃⛚えޡ⁙㫒ᘦ㤺҄楂幘䡠┪ǲਢ汶Ïఠ恎㘩傷昱᫠兊⁧๣䝂䅮થ偹杰ׯᛵƲ䠫ΔĆఱ敄ᶮ殓乪ᬈ䓨䎒睁犾㗛䶽ⓖ安ᳮ滀ள混ᮒᐾ爸࢔底↛ᛀ೫䈹攺᧡慓⇸䇣䓁⏁坚粒ⳲŹ擦娝乁ᭆ懖⽓珈⊰ᐦ散ߠ㐫Ⲕ4㐴䁐Ṗ効材↡ᐢ䋍䗸ႋܓ埕悒⯥牡ⓔ䶓垖䪎亵⦽樫⮢੗஑ƑB朕䲍灸帇䘛憫㞢䨿ܴ弾៞Ⱖ彂ⴤ栆墄咝᧪䬀䐚楫⎟ᯌ㌖෕嵾旒姪せ䯴ⷴ梒Ԅ៌檿⧕挸ൣ⇫狜✵㗶䶊唪䛊媬ѳ簽ᕤᩆ檜䍈ㄥ፣䧰ၓ㥰㗨₉怦㕋盆⪤㓭⢥ՠ暿狤ݙ⭛⁖㈬ṷሔ濶Ӳ䴹绉䃞કֲⅆ吇媋ෝ㫵䋬䘹䮼ᥧ⪪禷๪啇ᩆ⟵㋶䕳䷺株昈嫽ℎᦲ㪋ᚚ枡巪礣䳋᩺᢬壋⣓扪ြ⩌㋴㯯嶏䵮羼؆夫㋜ጼ⽴⇐ᕗਢ缵ʅᐡ䩲埖⫹䡈࿥෥෈ἡƮ㒠ནԞ㒩ᡝॅ圳ዢ媲㙺歺⟶勒₊ߜ柺縏娚ᄶᇈ᠗罪ȡ捁ƴ汰娨ვṁ澝嵞慣㾏渞匠ǉ昣做ݫ俁⯟剚厕笖瞬擪亣橝壗໑亚䧵㋳娮㎧⤇Јᚕ䎌粯悤ԡ䖳稲ഇüᅢቆȄ浌㰪禝䆼揈懻㔅㮅朖䎓亥沙枹灋䭝墑㲚ි˞ಠᣠ潃扃ᑺ⏋ு撆秸甂俓灿ᰀኻ痃N◌㸤༕粀帛庣⨑村ⰾ債ࣙ䭊㊆㱖ˀ⅏܅仩㣻妠忀忕ᯪ㱕ȁ⫝̸拮䛤㵕咘恖娗ùୡ篶⍆围㑝䳘㳙ⶾ؈篪刧࿙磃喕␞὏權㶷偼祌耞ໜ獽㉥䇇曩䋒ద⏻ᨢᡯ楻㢭т≱ࢫ掁̃宪Ľ䧿暡㑍௜ⶂ橻煊ⵋ㫔劂炉㺠㛤ـ篦漛㧡ᨵ俹暢㧬䤓呢࿒䕈Ī婂ݲ᠙俏涿ऽ耀᝘焩ნ皟Ù忷勾曧ᇃ毠㙁懀㔣䎯棓ᅇᱱ䧥㈸ծᶣ噦竔矝Ẑ᧫i䒄ᘠ湦峥䟖㑃並岹牀㸢㬥㳄٭Ω罸⼏ᖐᑙ彣竐爛Ὼᇠ໨瘧ᠺṽ๴䌥ᴒⅷ۟劌Ĺ痤硄㝜㇛兴湸囃ך煨漘傃⅊煾滠⎃ધ₦䣴圃ߛ楿䛾甏⿚㫴戩玓႘⓸庥㉦Ჹ⵷櫹爳㲚哾愺㑡⫊擷⚈懏㿚汅櫾यࢨ↾䋰揱ᡱɇ幾੯᎘糱摑ү֚䋽憞爏㙸Ѯᚕ㑫ㄠᲿ慅㋵㭹ⱛ幖২湹峤⋨ᑊ஦䕣ᆶ৯づ毷ລ璏⎧㨲ᅚᘪ㺪扌免໨啻婁庀ɨ墛㠡擉཯㩥扆憝瘻ࠠ⠩尷֍㓚⒦䂉嗌ᡙ߾ࡱр䬑∡䂂ȩㇸ䉷䴁፿ა㟴ⳑႶ㦊ቦⱕ啩ሚᖿ㓁㙛ᄦ孴䈘݀沉⡞狃燎㴦绩䇐䛭ј㸻煄າῥ㸠৔ী䡇䈬ऱ傤䐥坪ǣᐮᣤৡũ扠璐狨檫፲㨦きᠻᗠ秤癱穀à㩁ᬿXߖ㩰慦䂴٤ਜ਼㤦㻝ɉ'⍸䃌໇᠙⿻䣟焇$Ὸů砇Ⱉ׳ي睼᫚熵⓵ᆰ剋痧㰪ླྀኦㅪ䜆獞ⴸ㑞䙿䛰巘䀥䚯抗㬺ౖрǅ⦤⢠✉ト廈䉎⫾ਅࢪ䠭⨭ཊో晃椩ཱི㰩۬擊埈䁦䩓ᇶऔ啦䥞ᛞై璄䩗౭ပަ毺ᛧ叨䒆㑯椶儵₅᭮ᨎ企⋤妸惝Ҁ癡㈰⸪ۀ㒲判催ĝᬢᛰᓬᖄ猘⹔瘥凘愂㟾熅偩㓑⭹ኒ撛㈛ựXߜ⍄彧L䮄劃䜫䥒ⅾኊి䤴ϨॡՄ㬂ɼ獆奞┋䴄殑㝗䧛䵌㼆Փᒸ䫧⿐燠庘䯽ᅛ၄䥇占䕘お稹旝ᵛ灏㌕䁨ᚊ㜡峤䄲֒⮷㥙₲㩳〠ᓖ᙭ࣄ㎰䇤ـ濧繒䅨两崦兑䈈䦀勇䅥⥰刈ࡐ㕛⸧䑃Ღ公䜚䳃ᅒ员楶瓰秆淿硶䢗හ壥湦ଃ㯙楥椶૬噤汔ᦆ㜨狊糤偈ᖏӺ⯶ả໬灤擃曄၌刡糭ἅ瞏やᵤ㈏䶠磥㩁╪⭨䭸揺弊⪲䊆䳗ਆ⢸䦘實敁ㄏⒷ捒姓㠏Ǻཚ€ـଣᡦ䄘ޝඑ娾泄Ѩ㮰㽱䇝䭘䬙⹜監䯘磑䝗㺗㆘戛剮㧌ᙗ૦籵氾ᘜ∵惎堾▢撲罺ᩋ揑㰙䄳繅Ⲣ祴惁洐⧊刷櫕խ⺜殣坯汐৽ś睩Ყ圜湦䧬稴䰢畆綤כ၎⑷㊿࠹喇⩂ੰ惋㎨ଢ᥀沑ⵀ⎐愵⑱â䄂佅㨇侄䜇⽇䥛䯼䈅ཛྷ䘂ৣጒ⒪嫴Ӵ瓣㕞ↈ勜Թ䷤簼⸢ᧆᣧ↜⯰淄౓䚮䥐墴ᥢ☁㘒䳺ၲ泋໠㹀䠥䂒䊽ኀ殪Č䗦ɢ㏠ᛟ偄ᾅ獭ᘋ烪䱩㋇㻗㚘䈙歶㨛⟒瓣湢塋ඨ⫺栧㖛⥚懴励ჇⲀ圣⠸秝✆䛵秛㗩ȶ䇵࠴ⵇ⿢Ӕ⻅㪝ሺ癆䛟ແ慠㢐⠸也䮫 ጠմ爢䵇㰮䤬烠⼅㸣¬䟩୆੽Ⴀ犲ण㊹᪪▀Ồ⻜℀ⵊ吴⫖׵䜊敵櫅֭⽢寶嗪䕞僀⹂给ਗ਼䰦䈒壞硦䳗㡔淩䛚൅ⱕ⣾榎灢቗䱏籞⣌殺䉁⩞侲扱卄奞哬橔毘暖࿎宷帯懥ㆎ橻䭜囲Ɐ㪹擀器Š㓧㑡䊝଀㹂廡斈洎嶕䟇嶚〒⾳ᓃỦ⡱⺄偂ʶⰎ䂄㍗㶵㈋ẅ狷╨ᚐ䲆富緽㘁ổ௱ɳ渲ᑦ瑿∫梞庛ῑ廷槀ᔕ䍳敢∞善Ⴗû㒨㼱ূ炠Ỡᱣଧ癵嚀డ䍦猁ۆ日仮䵂悆眘滩熳俛⯤૟㒈ň⌆᷋î歎ᯔᐸٳ䌖乳ⶶ狮沉ṃ◁䧴᷁比瀽涬Ẁ㌬緍䐞洁囖⁕称സ禷煑ņ榺樥曟禴仠䚀淗ᣀ⡎ṃჀᘾᖲǴ⒩牕晭㝀᫄崉⑜吠慰ᵒ潺潕㛀ⶪ橨ピ嗘瘂潚哗插䕻䛪Ṱᨮ䗚狴挶෢硌⤦䴺㣂ശ丂痄⚰▴喗ㆦ䓗䚆ଗᖗ寘㵁䴾妸ᯂ㸓扌羔勨ᥫ椎䂙㯌ᨋ歕⪇ዾ⚣溈䚷扇ᏺ⼾槈粯擝ઁåߚ㙋欔扤ㅓ౒擺䪋ፆ⣞䈗፞╱䷉庸翑᥇勉媳絎緹⍌䍮᳂㍯榱伋牘㜍Ღⴕ㪀抃ḉ搔䡯縃హ䔣♏⍃ᴡ姯揼Ђ٭ᢳपᄎ䎝ѷମ墅ⶇ᎑Ҷࡌˍᆡむ㧷੍♴࢑焳俿㔅幄续柜ຮ罯⍩匲⵷ಀƉ埩pⲑ䇥Ǒ呇ᙔ咈娦َಅ䤖懥妯熄傶ᩅ姐⒋ॲ᧤罹䛓禳⡱畦ᙠ༓⫖拷㎯ŋ⴨ἱ‣尾▷ᢲ懤ⓐ䐂㱃፮咸ݤ㊢沛䍤䇁䯔ሿ䌬ᴖ環増渌ᠮ瞯枣畝ࠈ⹢叟畬⣰䧘്䕙潰昑㑇䗤冦䉬㣩ፂ⽎橯䓃ᎎ伹涗窒厶⥹煤߄卝ᴐ獮恼᧞࣠⟉嚍嶡彙柅䓶☛᥏⊴್弖㏒倕㓘ṵῲ眗剛方᭭拭版綩姳㪇檚嵡彞漪⿆冭气䒏ઃ㍭嫍玴㦖嚶ⵏ࠮爪師‍幚ۥấ෭䪶㏬О⩸繀戦ℒ͡䪋恊գ熠⌢䆱㫴ߢ㎒ɻ䴝䵿㩵炊瘯༼弙❁皨宼楳俣ϵኵ䷨斋窒嵀ˎ種含䕵笘㿨ᷯ媌ⶁ徝涪⎨᠎⮧篪婼嫌妅禣ᚱ妶㦜牿乄抭禄倢嫠畛ÄⰔ䪿৴⢖塌䣽瑠Ҽ墛⨝榁⒭儋⽵橌晒䭸姅榭熉爬居疯ᦘ盪烂姎啛妹盕䡮畞歹滥᪤䵅毼⡎瑕௓毅湩濏ႭᎈⅦ檏ẑ㭌斒㎆䨦⭥捠Ⅹ〣墕䟢Ⱡ缺Ⴌ䲄沱〥牉ⵝ浕݂筻盛ⱌ澄䐙⪛㤭᭿㉹噃殀殯_㊌♁ጺ䞀௃䰈⬫䍤㮀ၽ䤔឴㢫剠椟擐ƫ潈㔹瓦䇈⻢ശ窇䁠⃌灉㔤㢇͍߭䣚捠ˏ盭ᑕ愌♂缠Ņ⑻⁓喜⮲崣孛䄓篿婵怌印嫆墰匒ʢၾ␩扉绌✹渦䪥ᶆ⟶疕粽抟ⅅ澦叄⯝ᐎसТᰦ᭕৕ǽ༇ᦳᵖ岓享ᦇ㰍佹⺆瞵廳䙔A淸䉲㰭࠻䂂慚崧愺༄ʲ⮰਼இ巡旹崊筙⦆䉍䢙ⲫ椠ᕼ刡ვ㿋崦ㄠ皭㶋圽倣培́牜欕挈粋噜嬆⃘翧烄ᄇⶌ嫙擨⢛߼庺潎佳¨ୈ⪭焃⎖毹㶽 䢕㤲ॵᱼ峕䈧時ఫ䁌߼绹嬨⺰ㄷă挄䟡㽃塽⤍᝱㳫䌽䜜歘߀ց眦㜬⹃ⷍ䊈෪౔桖珎䜙檦䛿்䗪㨕树継ഡ帊㥒珵⚨ᔠᠱ⚼⁓⎺ᐠᚩ㓁缰⏿ɯ㑺䉚⺡ᵓ瓤據ᵩ宁瑑窚ᛂ庡὆ച㟳䓯璤ʇ皠᫾玙壆幰⠾೥糠᣺绷䃩❪ᖉⰒ咅ఊ׼皅ࠃᑡ㿳ఔ彃嶤㜡ধ漍綈缕⼔㔒⡪⊏⳾忝ϊ玟㲬僣糹猕䱧✨⌧㤣ᡳ壌疀㤁㠦䯖ឌ愚瀳⁐匀ᡟᴊఘᾓ瘎狕䵓侘狑俱僛⨷憠䘈犗犽ᱠҪ⽒秫悖㠤ⓐ௣罏粬ȟ䉾耚屫㄰Ī篵η⭌䢗㋲㭘ҹ督䵞皘〩柁琫⦵汋ⵅ甃沩ࠠ㦸ý墠⮳崯䈧»஁╄〘ԧ涴䡅㳸ቧ叐ᒘ໢⟁␸祕涯╝涓圠依㵵ᗤH刢䔎㟈⚪ॻ愋㚕㜖㫵㝙ᴽ砂幆枒ኌኢᩉᧉ瀋㒍㨁㳵怪ෲ䎁䴄ᐣ彩䑗é児٠㝀姃岭ͦ䦇˟䜦᝚∊Ჳᩤᯢ枛㱝崤籴䂰᣺֨ኡ䑣⠴倰䢸䏰᝴ሬ槇㺮ᜬ䀢ࣀ⪡渠栵ⴽŐPᴰ猣ͳ㠦[岭םࢄ⧂爲⯎ู拭߀⭠嵠嗸шᥐ垟䘠憙㈭羡盟穫欠泜⯦Q⥞ᲇ䀳岎㣣⩬巄䄦玩渳ዼ਩ⷫ䕨㕍ኗ䥮淚ᇁ矅㬛㨽暻㕑㓧匼䑳屶๛䈈⶧伌࣓⣍∌ᾗর㿴㌿ጫ农ӈ⨎ⵛ琱忘䀽凊₨㹩珁䨻൘䅡㟩᱾䨦僠㪣亍礛氱ᐡ䈤в灴⨄囊Шᬢᴃ⚫䅗穾涵㍕䑓敭䶇緷߄ᦴ䬠ܪ珛䆤᧢殛⯥ഡĿ恖Мཀ⡁⒤噆ࡺℹٜ䌰楁ܢ  "
   },
   "outputs": [
    {
     "data": {
      "application/vnd.jupyter.widget-view+json": {
       "model_id": "0319a2d5c03245e58e93dc3d6aab5a48",
       "version_major": 2,
       "version_minor": 0
      },
      "text/plain": [
       "PersistWidget(data_values=[{'__id_column': '1', 'Title': 'Super Mario 64 DS', 'Max Players': 1, 'Multiplatform…"
      ]
     },
     "execution_count": 11,
     "metadata": {},
     "output_type": "execute_result"
    }
   ],
   "source": [
    "PR.plot.scatterplot(df_task_1c, \"Comp_Time_Main:Q\", \"Review Score:Q\", df_name=\"df_task_2a\")"
   ]
  },
  {
   "cell_type": "code",
   "execution_count": 12,
   "id": "6a6c923e-e9d8-4bc6-8a62-c7432a355205",
   "metadata": {},
   "outputs": [
    {
     "data": {
      "text/html": [
       "<div>\n",
       "<style scoped>\n",
       "    .dataframe tbody tr th:only-of-type {\n",
       "        vertical-align: middle;\n",
       "    }\n",
       "\n",
       "    .dataframe tbody tr th {\n",
       "        vertical-align: top;\n",
       "    }\n",
       "\n",
       "    .dataframe thead th {\n",
       "        text-align: right;\n",
       "    }\n",
       "</style>\n",
       "<table border=\"1\" class=\"dataframe\">\n",
       "  <thead>\n",
       "    <tr style=\"text-align: right;\">\n",
       "      <th></th>\n",
       "      <th>Title</th>\n",
       "      <th>Max Players</th>\n",
       "      <th>Multiplatform</th>\n",
       "      <th>Online</th>\n",
       "      <th>Genres</th>\n",
       "      <th>Licensed</th>\n",
       "      <th>Comp_Time_Main</th>\n",
       "      <th>Review Score</th>\n",
       "      <th>Year</th>\n",
       "      <th>Publishers</th>\n",
       "      <th>is_selected</th>\n",
       "    </tr>\n",
       "  </thead>\n",
       "  <tbody>\n",
       "    <tr>\n",
       "      <th>0</th>\n",
       "      <td>Super Mario 64 DS</td>\n",
       "      <td>1</td>\n",
       "      <td>True</td>\n",
       "      <td>True</td>\n",
       "      <td>Action</td>\n",
       "      <td>True</td>\n",
       "      <td>14.5</td>\n",
       "      <td>85</td>\n",
       "      <td>2004</td>\n",
       "      <td>Nintendo</td>\n",
       "      <td>False</td>\n",
       "    </tr>\n",
       "    <tr>\n",
       "      <th>1</th>\n",
       "      <td>Lumines: Puzzle Fusion</td>\n",
       "      <td>1</td>\n",
       "      <td>True</td>\n",
       "      <td>True</td>\n",
       "      <td>Strategy</td>\n",
       "      <td>True</td>\n",
       "      <td>10.0</td>\n",
       "      <td>89</td>\n",
       "      <td>2004</td>\n",
       "      <td>Ubisoft</td>\n",
       "      <td>False</td>\n",
       "    </tr>\n",
       "    <tr>\n",
       "      <th>2</th>\n",
       "      <td>WarioWare Touched!</td>\n",
       "      <td>2</td>\n",
       "      <td>True</td>\n",
       "      <td>True</td>\n",
       "      <td>Action</td>\n",
       "      <td>True</td>\n",
       "      <td>1.83</td>\n",
       "      <td>81</td>\n",
       "      <td>2004</td>\n",
       "      <td>Nintendo</td>\n",
       "      <td>False</td>\n",
       "    </tr>\n",
       "    <tr>\n",
       "      <th>3</th>\n",
       "      <td>Spider-Man 2</td>\n",
       "      <td>1</td>\n",
       "      <td>True</td>\n",
       "      <td>True</td>\n",
       "      <td>Action</td>\n",
       "      <td>True</td>\n",
       "      <td>8.0</td>\n",
       "      <td>61</td>\n",
       "      <td>2004</td>\n",
       "      <td>Activision</td>\n",
       "      <td>False</td>\n",
       "    </tr>\n",
       "    <tr>\n",
       "      <th>4</th>\n",
       "      <td>The Urbz: Sims in the City</td>\n",
       "      <td>1</td>\n",
       "      <td>True</td>\n",
       "      <td>True</td>\n",
       "      <td>Simulation</td>\n",
       "      <td>True</td>\n",
       "      <td>15.5</td>\n",
       "      <td>67</td>\n",
       "      <td>2004</td>\n",
       "      <td>EA</td>\n",
       "      <td>False</td>\n",
       "    </tr>\n",
       "  </tbody>\n",
       "</table>\n",
       "</div>"
      ],
      "text/plain": [
       "                        Title  Max Players  Multiplatform  Online      Genres  \\\n",
       "0           Super Mario 64 DS            1           True    True      Action   \n",
       "1      Lumines: Puzzle Fusion            1           True    True    Strategy   \n",
       "2          WarioWare Touched!            2           True    True      Action   \n",
       "3                Spider-Man 2            1           True    True      Action   \n",
       "4  The Urbz: Sims in the City            1           True    True  Simulation   \n",
       "\n",
       "   Licensed  Comp_Time_Main  Review Score  Year  Publishers  is_selected  \n",
       "0      True            14.5            85  2004    Nintendo        False  \n",
       "1      True            10.0            89  2004     Ubisoft        False  \n",
       "2      True            1.83            81  2004    Nintendo        False  \n",
       "3      True             8.0            61  2004  Activision        False  \n",
       "4      True            15.5            67  2004          EA        False  "
      ]
     },
     "execution_count": 12,
     "metadata": {},
     "output_type": "execute_result"
    }
   ],
   "source": [
    "df_task_2a.head()"
   ]
  },
  {
   "cell_type": "markdown",
   "id": "b447b862-90c6-4ed7-b48b-baa1cf74ac2d",
   "metadata": {
    "__GENERATED_DATAFRAMES__": "{\"nodeDataframes\":{},\"graphDataframes\":null}",
    "show_aggregate_original": "false",
    "trrack_graph": "ᯡ࠽䈌ʀ匦㢠⹰࣠✴ƀචآ൐ୠᣠ⭎¸䚀ᶥ<⋵攴≲䦆ᨐ҅䁲䥈kᑄᄈ夒ર囇⣹嗛➎帣ᢤ䀡傠Ǘ熠㥀ॢȠா䠸ᢀ㜰䁾巒•橀樠Ꮃ䤠ව׷核ᱬ䣘紲₞૦Ԡ޳ŀ凐栠晬╍ಲ䖽䂇栢沀團ᄰ㸸ሪ喊Ⴇ♁䐔粶ᦞΎ刺ࠥ簉窺簲ᖢොሧ҉䃵ⰡḠޅ毗䘤䗾墥୚渍磆搰㣄䆯䌭䊣ᎄ䢩妈䪑䴹ҩ䋫◂რ⢒ઉ⃁⽌囦媍ኘ垤䢠䍤⒂Йᘷ੡䄀҂Ქ⃱琿啡憐㲞ၯ䌨焠ᗿ搫໎㒫ல熪Ņ⎃ऺᥛ⃄ᅠ  "
   },
   "source": [
    "## Task 2b: Filtering Out Old Data"
   ]
  },
  {
   "cell_type": "markdown",
   "id": "c86b30d4-4762-4bc0-bfd3-6f1486b55ad6",
   "metadata": {
    "__GENERATED_DATAFRAMES__": "{\"nodeDataframes\":{},\"graphDataframes\":null}",
    "show_aggregate_original": "false",
    "trrack_graph": "ᯡ࠽䈌ʀ匦㢠⹰࣠✴ƀචآ൐ୠᣠ⭎¸䚀ᶥ<⋵攴≲䦆ᨐ҅䁲䥈kᑄᄈ夒ર囇⣹嗛➎帣ᢤ䀡傠Ǘ熠㥀ॢȠா䠸ᢀ㜰䁾巒•橀樠Ꮃ䤠ව׷核ᱬ䣘紲₞૦Ԡ޳ŀ凐栠晬╍ಲ䖽䂇栢沀團ᄰ㸸ሪ喊Ⴇ♁䐔粶ᦞΎ刺ࠥ簉窺簲ᖢොሧ҉䃵ⰡḠޅ毗䘤䗾墥୚渍磆搰㣄䆯䌭䊣ᎄ䢩妈䪑䴹ҩ䋫◂რ⢒ઉ⃁⽌囦媍ኘ垤䢠䍤⒂Йᘷ੡䄀҂Ქ⃱琿啡憐㲞ၯ䌨焠ᗿ搫໎㒫ல熪Ņ⎃ऺᥛ⃄ᅠ  "
   },
   "source": [
    "The interactive barchart below, shows the data aggregated by year. There are noticeably fewer records for `2004` and `2005`.\n",
    "\n",
    "During this subtask we will remove these older records, keeping only the records for the year 2006 and above."
   ]
  },
  {
   "cell_type": "markdown",
   "id": "24b308e8-8437-4146-9ebf-cd121aeb7f9f",
   "metadata": {},
   "source": [
    "#### **Instructions**\n",
    "1. **Analyze the Bar Chart:**\n",
    "    - Identify the bars that have less than 200 records.\n",
    "2. **Filter Year:**\n",
    "    - Select and remove the years with few records.\n",
    "3. **Verify the Output:**\n",
    "    - Print the head of the generated dataframe to verify the changes."
   ]
  },
  {
   "cell_type": "code",
   "execution_count": 13,
   "id": "1ff923c8-1008-4d36-ab1c-625171d90d47",
   "metadata": {
    "__GENERATED_DATAFRAMES__": "ᯡࠩ䃬࿀ᜤᠹ悋ᐤ怱䐢犲ǩ怶恉宑召䵬ð䀲悠ᄡḡ沯偑嬸Ř˛ࠥ笪  ",
    "__has_persist_output": true,
    "trrack_graph": "ᯡ࠽䈌ʀ匦㢠⹱…¸Ɓ䄌⠬恍<痴ᧆ抨৪䩉׷☡ೇའᭉ嗑አӒ䉢ګᜡ঒䫵㑺᭕ㄅ毿偠ന;cC౽焠䨰ဠ屠瓠Α䌣㢤̕涰戠ᛣ㫀¼乨ࡊص࿌╴Ꮡⅸ呐㨠⭁ᒿ⌣с烣琡䴌㴖㺞㴧Ƞױ欈ᱬ䣈ᶂ႞䫦Ԡ޳Ń墑⣈㻮༩➿Ꮐב䅻璤ℚと㓵塢෸䄮咢ൌö爝n瑒倫燰὏燂嘨痭尲昶㖀ԐYὼ㹐戽寤ᡬ犙皝ᓬ䂡⊑യ厁ⱚႣ䈹ᡣનㇱ③ὥϑᑨ亨Ⰴ㠼آ䪱汯ᘁ箩䵜䷂¼ಽɅࣤ汘䅏ۢ椬䭃䨅ւ哎⫭ჷᦽ૥煤䮾䪅奼䃄Ⰸ╒䋃⤹畷,児纍ᐠ@Ŕ礠䃰s儝☠櫐…嗕Ũ´伽␭㤀嶑΂㖜缰⛓հ扛௱䈒扁ԤᒘⓞΤ折᰺⏦折瑞ڧ愬籞╱棾γ䌀䡐氾ѣ၈⨭ས⡸㙇෣瀤➳⋷櫚ế⁕⅘剉❡恆⦬港䴶嚪搼淖࠾悒ᴎ㎼怴巎宦揃䅤ᠠ੏䐀竻䔡̼㨠ᗬʣ佋休皛庿ࠨ嫐糠桔ᔠ₏㢨᎘ّލ⿋✑戠߄剀␵梷䘒竕߷剺ࠓ绎*ŀ⸗ǎȬ䉚ᘯ䈂Ⴒ摐ጥ璤ଂ䁱匠း崱䡑ᒦỄᴷㄚᔣ偈⴯ࡸ䱤 ㈪ᅐ㐶ሀ䓰᳁ᇴ恺ᇱⓇഅ燎ᾬ硘㈫Ěኄ纐℮窖䁁煀᠓煬൪ঘ∀䁡ݯुᐦ廢ᓔ礘ᡡᡰகÎ㷯ࢲル窳危 Ϣ䭞焿㯲䶤▎Ⴆ◩纡⚼厵ܹ瑎ㆹ䅊持ဢظ²秠漠Ћ⃻ጚŖ䀲惈堈繟䀫᱓̣灈⹻⑊杂步áᡦ曀孭Ԓ坺䤁䆖૘䍐汪⎈欻捤濃፴溺㎌殻玐⩋䉰渺暸满掌¹ጴ掲囌檠獜樀ಃب䀽⒧疃⪈ⴹᮋ涙ᬉ汧Ȉ䁤៊㰿ࠂʀ仓䊁䳊ぬ䉢か䕣焬♨瀬⿳䩬Σ塣ӣ塬z䃠橻䕶ⶱ╮ⲳ㥙⟪ᕡ⫋Ǯ滳㭤௳穡䩢ݲŦ䞉䭒➋൚嘫旒皝䢓๵憓ы䐉㞛䟚ྃ歎晻汏⽵㾘ǧ温䫷ܘ㽢ᘛ嚅ሢㄈ䶤⳼偤䀱ብ儸࡚〦ᴱ࠺ྪㅈࢃ爼䉲㷬ຢ䡼濂䡺嘃㲚怒⬆嫶屩Źᣎ僃歞嫃ᬭ۸僝ݱ䆔ॕ⇜㬯࢘㿂ሜ䲮穔ㆠ灬㶮爜㗕䑑⾼戌䑼ᇬү刪硣刊疬爌⾯喛庀悑䄢ᱣ⠬綖䂉᳑炢纲湂峽շȟ☮条ᑯ䑉埕⌣咔嫥峗代囕⺭僮楆㛒姞恘破䀼稑樣秅䍛ؙ棛䗭㕌㋦熥垒恂墾૓庍愠疅ŉ◍ⴳ煠᝺䃛玡⇓ʛ፪翦ḳ憍奲ؒ僈䪹⥉㘨慼ಐ獀↶₅䍵ᑬ䊧䞵օ๰䅭ᛲ㈸懆楣硍䎍䮧効嬡㔫ヒ僡煂Ë滝ɇ̠峺䒄୻ⷕ㡚Ď擮䄌Թ䐧ǰᦡ棉͐↡㊔䌀ᰦ⢄࿁砵c噤哆⫀嬪䂁ȨὭ縲ጘဲ碌Ԃ㙗挜⒒㔶厊⤩Ⳓ͸䧩⁳䧓呋㈨ࣶ杄ߨ䙪㚶੸燣嗢㹡欴Ⓢ౬ബ犈䯠ࣛ擼ᱠ嵻壚䯙㫃ྒ场瀾㲏①  "
   },
   "outputs": [
    {
     "data": {
      "application/vnd.jupyter.widget-view+json": {
       "model_id": "9e462d7226404dd99eaf44ec1979f1ff",
       "version_major": 2,
       "version_minor": 0
      },
      "text/plain": [
       "PersistWidget(data_values=[{'__id_column': '1', 'Title': 'Super Mario 64 DS', 'Max Players': 1, 'Multiplatform…"
      ]
     },
     "execution_count": 13,
     "metadata": {},
     "output_type": "execute_result"
    }
   ],
   "source": [
    "PR.plot.barchart(df_task_2a, \"Year:O\", \"count()\", selection_type=\"interval\", df_name=\"df_task_2b\")"
   ]
  },
  {
   "cell_type": "code",
   "execution_count": 14,
   "id": "91b82afa-ab75-41d7-b35a-7e18ab47c733",
   "metadata": {},
   "outputs": [
    {
     "data": {
      "text/html": [
       "<div>\n",
       "<style scoped>\n",
       "    .dataframe tbody tr th:only-of-type {\n",
       "        vertical-align: middle;\n",
       "    }\n",
       "\n",
       "    .dataframe tbody tr th {\n",
       "        vertical-align: top;\n",
       "    }\n",
       "\n",
       "    .dataframe thead th {\n",
       "        text-align: right;\n",
       "    }\n",
       "</style>\n",
       "<table border=\"1\" class=\"dataframe\">\n",
       "  <thead>\n",
       "    <tr style=\"text-align: right;\">\n",
       "      <th></th>\n",
       "      <th>Title</th>\n",
       "      <th>Max Players</th>\n",
       "      <th>Multiplatform</th>\n",
       "      <th>Online</th>\n",
       "      <th>Genres</th>\n",
       "      <th>Licensed</th>\n",
       "      <th>Comp_Time_Main</th>\n",
       "      <th>Review Score</th>\n",
       "      <th>Year</th>\n",
       "      <th>Publishers</th>\n",
       "      <th>is_selected</th>\n",
       "    </tr>\n",
       "  </thead>\n",
       "  <tbody>\n",
       "    <tr>\n",
       "      <th>0</th>\n",
       "      <td>Wii Play</td>\n",
       "      <td>2</td>\n",
       "      <td>True</td>\n",
       "      <td>True</td>\n",
       "      <td>Action</td>\n",
       "      <td>True</td>\n",
       "      <td>4.0</td>\n",
       "      <td>58</td>\n",
       "      <td>2006</td>\n",
       "      <td>Nintendo</td>\n",
       "      <td>False</td>\n",
       "    </tr>\n",
       "    <tr>\n",
       "      <th>1</th>\n",
       "      <td>New Super Mario Bros.</td>\n",
       "      <td>1</td>\n",
       "      <td>True</td>\n",
       "      <td>True</td>\n",
       "      <td>Action</td>\n",
       "      <td>True</td>\n",
       "      <td>7.0</td>\n",
       "      <td>89</td>\n",
       "      <td>2006</td>\n",
       "      <td>Nintendo</td>\n",
       "      <td>False</td>\n",
       "    </tr>\n",
       "    <tr>\n",
       "      <th>2</th>\n",
       "      <td>Pokmon Diamond</td>\n",
       "      <td>1</td>\n",
       "      <td>True</td>\n",
       "      <td>True</td>\n",
       "      <td>Role-Playing (RPG)</td>\n",
       "      <td>True</td>\n",
       "      <td>41.92</td>\n",
       "      <td>85</td>\n",
       "      <td>2006</td>\n",
       "      <td>Nintendo</td>\n",
       "      <td>False</td>\n",
       "    </tr>\n",
       "    <tr>\n",
       "      <th>3</th>\n",
       "      <td>Pokmon Pearl</td>\n",
       "      <td>1</td>\n",
       "      <td>True</td>\n",
       "      <td>True</td>\n",
       "      <td>Role-Playing (RPG)</td>\n",
       "      <td>True</td>\n",
       "      <td>41.92</td>\n",
       "      <td>85</td>\n",
       "      <td>2006</td>\n",
       "      <td>Nintendo</td>\n",
       "      <td>False</td>\n",
       "    </tr>\n",
       "    <tr>\n",
       "      <th>4</th>\n",
       "      <td>Gears of War</td>\n",
       "      <td>2</td>\n",
       "      <td>True</td>\n",
       "      <td>True</td>\n",
       "      <td>Action</td>\n",
       "      <td>True</td>\n",
       "      <td>9.0</td>\n",
       "      <td>94</td>\n",
       "      <td>2006</td>\n",
       "      <td>Microsoft</td>\n",
       "      <td>False</td>\n",
       "    </tr>\n",
       "  </tbody>\n",
       "</table>\n",
       "</div>"
      ],
      "text/plain": [
       "                   Title  Max Players  Multiplatform  Online  \\\n",
       "0               Wii Play            2           True    True   \n",
       "1  New Super Mario Bros.            1           True    True   \n",
       "2         Pokmon Diamond            1           True    True   \n",
       "3           Pokmon Pearl            1           True    True   \n",
       "4           Gears of War            2           True    True   \n",
       "\n",
       "               Genres  Licensed  Comp_Time_Main  Review Score  Year  \\\n",
       "0              Action      True             4.0            58  2006   \n",
       "1              Action      True             7.0            89  2006   \n",
       "2  Role-Playing (RPG)      True           41.92            85  2006   \n",
       "3  Role-Playing (RPG)      True           41.92            85  2006   \n",
       "4              Action      True             9.0            94  2006   \n",
       "\n",
       "  Publishers  is_selected  \n",
       "0   Nintendo        False  \n",
       "1   Nintendo        False  \n",
       "2   Nintendo        False  \n",
       "3   Nintendo        False  \n",
       "4  Microsoft        False  "
      ]
     },
     "execution_count": 14,
     "metadata": {},
     "output_type": "execute_result"
    }
   ],
   "source": [
    "df_task_2b.head()"
   ]
  },
  {
   "cell_type": "markdown",
   "id": "8a92b8a9-c3a8-4a57-be3b-c9cdc977092c",
   "metadata": {
    "__GENERATED_DATAFRAMES__": "{\"nodeDataframes\":{},\"graphDataframes\":null}",
    "show_aggregate_original": "false",
    "trrack_graph": "ᯡ࠽䈌ʀ匦㢠⹰ೠ⬠沈֭⠸恍ff9昽䁮ۦ࠰汬നڀপ㈏䣹厠㬦ተ¶⡨⇱㌀ᅁ╶庳ୖ⹜簧ଭࠣ℠Έ橦औ䁅ШNႦ〡岁䏼ℭ㞁摞+㢱䨠Ԋ牠Έƕ٦枓቙ჿਸ旑䅠Ȅ恨戬പᎭె䝁净儬Ö᡻⌸䐱䘩׍宨⇓ࡱ䍲ච᫲壬จ䙤Ɲڣ圖⍞ᛡ৽ण䃔戋㘠传ϊ揿振䘌汣䓼㹮䘫㈨ቺ⩯↧ᄨXഉ⠅ㅖࢢ侸⇄僡ಖࡢҁ氣С宍劄倶䢡⍤㲂̤㚗٩䄀硂಩⍰琦ᦪ悑屾ᾨႨ㺜*瘪䋇޶⋤ᓘ犠䭳঺᥇⏰ᅠ  "
   },
   "source": [
    "## Task 3: Data Wrangling"
   ]
  },
  {
   "cell_type": "markdown",
   "id": "9da80393-7f4b-4115-a4d1-5b7978e11358",
   "metadata": {
    "__GENERATED_DATAFRAMES__": "{\"nodeDataframes\":{},\"graphDataframes\":null}",
    "show_aggregate_original": "false",
    "trrack_graph": "ᯡ࠽䈌ʀ匦㢠⹰â䂬ƀᶷ琶䁋c<搔怳ଚ䠳亡䈤㉕⁖ì⺇⊨攩ᐠ▨戰㑹㧒妰囇⃹喧㝞Ţ∠桠ûு䁔䈠ॢȠந㺸ᢀ盅⻿夣•晀樠Ԃ牠Έƕ稦❳ሪὦ䰼⇑䅠Ȅ恨㙎⌯᪴䶹䈁ℓ琡㙐ᮂ⢨᢬थ⧓ࡢ㌰ሚ璋U䳘䠵欯Т縔絭Sㄭۡ۹ण䉔悊㘠传ϒ橷挣⌏ⱡ䕼庮打㈨ɼ榨慢䃂॑瑐繦┭ڼ㾬⎂厃焸牘榥ᄨ䦯ඦ嘔㗆溄⒀擒摖≦၀ⶃ㧄మޢᄴ䩍རへ∦䯧焤愷䍠Žƀ夅შ㤙༾′⪂㵩掳婊⢄  "
   },
   "source": [
    "### Task 3a: Creating and assigning `'Length'` category"
   ]
  },
  {
   "cell_type": "markdown",
   "id": "402412ae-3b84-4fec-9c01-94dd203a7b1f",
   "metadata": {
    "__GENERATED_DATAFRAMES__": "{\"nodeDataframes\":{},\"graphDataframes\":null}",
    "show_aggregate_original": "false",
    "trrack_graph": "ᯡ࠽䈌ʀ匦㢠⹰â䂬ƀᶷ琶䁋c<搔怳ଚ䠳亡䈤㉕⁖ì⺇⊨攩ᐠ▨戰㑹㧒妰囇⃹喧㝞Ţ∠桠ûு䁔䈠ॢȠந㺸ᢀ盅⻿夣•晀樠Ԃ牠Έƕ稦❳ሪὦ䰼⇑䅠Ȅ恨㙎⌯᪴䶹䈁ℓ琡㙐ᮂ⢨᢬थ⧓ࡢ㌰ሚ璋U䳘䠵欯Т縔絭Sㄭۡ۹ण䉔悊㘠传ϒ橷挣⌏ⱡ䕼庮打㈨ɼ榨慢䃂॑瑐繦┭ڼ㾬⎂厃焸牘榥ᄨ䦯ඦ嘔㗆溄⒀擒摖≦၀ⶃ㧄మޢᄴ䩍རへ∦䯧焤愷䍠Žƀ夅შ㤙༾′⪂㵩掳婊⢄  "
   },
   "source": [
    "Next, we'll introduce a new categorical variable named `Length` into our dataset. This addition aims to classify each game into one of `Short`, `Average` and `Long` based on `Comp_Time_Main` value."
   ]
  },
  {
   "cell_type": "markdown",
   "id": "86d54d80-ef52-4630-bffb-1e04d9320384",
   "metadata": {},
   "source": [
    "#### **Instructions**\n",
    "1. **Define Length Categories:**\n",
    "    - The `Comp_Time_Main` column represents the median completion time for the main story of the game.\n",
    "    - Based on median completion time, create a new category called `Length`.\n",
    "    - Add three options for this category -- `Short`, `Average`, `Long`.\n",
    "2. **Interactive Assignment:**\n",
    "    - Use Persist's interactive features to select games and assign it to one of the `Length` values (Short, Average, Long).\n",
    "    - You should use the following ranges for assigning proper categories:\n",
    "        - `Short`: 0 - 20 hours\n",
    "    \t- `Average`: 21 - 40 hours,\n",
    "    \t- `Long`: more than 40 hours\n",
    "3. **Verify the Output:**\n",
    "    - Print the head of the generated dataframe to verify the changes."
   ]
  },
  {
   "cell_type": "code",
   "execution_count": 15,
   "id": "b59fb23c-da53-489f-9520-918d789978eb",
   "metadata": {
    "__GENERATED_DATAFRAMES__": "ᯡࠩ䃬࿀ᜤᠹ悋ᐬ推̅ሣ䧠ⶠ卍捯ᥔᠣ℠▢dʘϔᝠ捌〤瀵摠៨⠠ ",
    "__has_persist_output": true,
    "trrack_graph": "ᯡ࠽䈌ʀ匦㢠⹰ࢀ㬠映〹䀶¼Ⱕ値〸性ጂ穰ᖭㆵ〭侑˳⎴ĹⲂ㏳扪2攩њ㚜⊄咉橖㎁旧忀烱Tဠ㙉⒂ཨɰ䂠̂;䘸ᷤၷ㠌䎰×౒䀡ᱼ䠠洰⬶༫ڥӁ挰倠䲴⡺ᑩኯ乪♃⁄先⤔劄䰴Ԥ+偔ᥙ䲰堦爰䨭䋀ཆɣ燁ㆂ墜ʄ絈洠怫ㆡ奷ႄ悰妻㢤ߑػ⤥፸Ǎፈ⃽碕‷悈㥸惃䢌࠻ⷘ㋬౤΀ԐX忼繐牽吁Ω⺏ᇢ䎹獩ᩥƀ⡜ؠ⅃祲༧䧂кԯ捅䐸ଠ℀簼ᮣϱ妏Ѝ筩ⴸ᷂窽ಣ੃৤ॄ啎䨁ᦆ݇䠴㡂䓆⡴猩੮烓㆘兂䧄ᤡ垻䰅ւ哎⩵広ᓩҠaᐪ ࣠ᠠ༄㞱璠᳢ȫ幦䀼䀡䣙嚻៨瞘൰㠃㗻澏࿠ଥℭ剀⋐ᠱ䌡䌰ᡪࡡ䮱楨悧挱攒䅀抱⑶ኣ⠹ὣ䗦烩᡼Ⴂⁱ呺Ƥ惑汮᮫怨䈬Ѥුᵈᯋ氕΁䜮䴁䥉䚆ᑌ䮖喎媌ؽ䈯娽䜧崃ᄤ圻伂㠸灩ؠʪ搟⼞㊠ₛ䠠֓ŏᎦ甗卾⩯戡ᚌ㼸ᄯՠࡇ暰ⅇ晑搫晍浏䚰]ฑ约ܗ㹶䏅嬖䐧ᴟ倯㣠㐯Ŀ利䇰䃧Ȩ㸓℄Ჷ䓄ڠ惣ণ惩´瀤བၰῆⓌ᥃炬⌠唈⽤懲ᬲ䠰⏱䅛亗䆨㘀Ǣヶ碐ᲠŨ㿳⅍൬܎ᗳĎ䨬㉻ကɠ䐱堶ؠ惢㋗䡕䥧囊৐棍孠白䎗哮ሳ瀻喤䛱奅䜑兗凌Ք烞⍒晐ݕᔙ僒䈲䉒䙑乐♩害։剌價䜥暑⭱᢭ᷠ᫦哰娠▃Ɱ䀦⬘㭦扚⍦恠䭳╚ᵏ▚ܹ挚ἳ┦缰Ⴄ秲ኸ删䅠ᇹ䓀ᐶ䀴㲸側戫Š婆Ȱ㐹ሀ㐴䄶籄㞶⥭䫪乡⦄㹥⨪㕤⪊ᚧ妔疯倬纸ㇰ瘧n妵烀䖶拮㖺祎ᗨ牞஫㮨殶珼פ>堤稑梕灞ޠ懾咓ㅞ枵禜石箞扗碌⅛Ӡ၆爁俪ߘ桒◌桉Ⓣ楝穵⥃Ҡ㥝悩漺䱩宮㭡㚐ള剚⇵ۀ⚳ဧٳ庀䛳≄±ᥝ拦ቫΰ湸䄑䨼䋰棵ᤀ牬䁹ㆠ䏰牽䈐瑐朘羰ଢ圼晹溚杶䔮壈䛽⃖ⴽ嬈ň恔䡹ᄙ燒㝭⑶㟭䨱㓀旕㟍䷛㜍垺੪ऊ㐰᧎㔍㤙䁇璩Ḑ෋䋇㷎儵嵴咺獨欫〩樊木Ⴠ武ŕᛍ品ã嗚ཻ咠ὼ孁ᠵئᚨ㚦凃m仲䈀㰸䆑㗃ᐂ丿࢐㒶ƀ撳ࢀᰯ䀍ደ睨彙ᐥ哘ᝆ哢ᚆ᳚ᘅ壀宖㩷尖䐹甮஄㥂⿊㦞䚑⫝̸熌ぐᱰ㝼炍峨暬烰礱䴓湈ʃᛠ捋抡㢃䜓ܥ渠䳀呹罇ᦁ೗፼ា煋✔映䋳灠▻␫㣠ᮐ睉㙁⁆→晄㓤ǀ䥸嗛燐ᨥ֒ᆠᘃ䃈䭡栫ၦຊ⩋Ȁ◐ၢֺȫ㙳愌♹汌䫩搧嫶㊠㙕ڌ䴦汚৹∽摣䤠瀦燯Ġ⽅煾撦廼䇜Ы㶸ჳ煞穰∖ἤ嚰笸燫櫜熭扨ϥざ箘弐ὃ癨䋃咬ᢈ痢唈⺐㪺捺ផ㕑炾缋劣渉㵴㰦䪘䌨殤ࠢ∫ᇨ䳍嫘䃥搮ᡆ咁䡃ɻ㾯佊䋸吆ⴇ於几䂃彛揂㧍⦑✽哎ἠ窝䔕ε瑍䃀ሠԝῶⱉᎡ瀺岀様ぜ禁帻ཉ狠䨨惸㝡綼簽஭咯ϺႻᗑᦤ㓕䭐Ⴡḷ☢惭෡䏔孅塷᪰䕔紎ూ兂禂漀砯䅈ጡ泉Ʈ፫炖ᔀప䣤Ҝ燥匁ᒠ偀䏈侧它ኖ㍃冎柂ਠ搌䟸䲓䠧֪ܯᙊ㰡峕᭥搡券嚣ራ▰࣠灲ԉ稭椮ᕘ᧦剜⮴祳⠒歪મ䭠⺴㹝ᒳ䕤䳡伥℺&ࡠⓤ簠߰5㢦䰳⠠头Ĥ⍠4᢬櫍⿰2䟀䚼攼ᱣ殭⭉ࡤ㫌ƕ⍧怣܊╀㏼ภ疍戭╫ب䞀ㅹ᪈徱儯ᳰቑ䠴Ɛଗᅣ焼矍े橸絸Ꮹ৥䊚穤枩漿ྩ搏㬏椔Υ璦஠ନ䏌糢ğ埁ᶷ堰ᛘ壺́䞐懃恀姯ḫ仜殹䇗ᐑ‷А䰐࢔ᔰ䡉ѩ䂠朥稜潢᳻㭘㰵垗旡⣕⭘㖭㬬㵄ሒ員⶘㾤⅕睄⻶涒މ㸭䔁ᙘ扒䆴㜱⠪㗀ἣ䊬H恲⅜愫㓠∡㐢එ垺旉䀻⯕秣ࠠݠ⑨䒩䤣Ⳃѡ瀾䐔ᛦ竿⣔罷㑟ر䴩࢐簬ᣅ6㑦ఱ䙨㎯㸒┪糶䳠ԣ☠ᓾ絥屛↣㹐㷔攐璀૾㜑䁘䎶㞠恿ⰨᢊĊ㚁॥ݭ⋵ⶍ咢⃲í⠠ཪ⏦䬦慚㠱ᘩ懈棲棨⊹拤櫩玘歞瀶౪Ɇೢᜯ烡റ罡ᇅ睃Ⱛ⢁Ӧⲕᇸ渶घ煥姣ᱡខ満匐㯣␨ႏย簩噾瑎廳ᚁቌ╦⤍♥涔⫐楽䮛ㆪ㦟㝑㝇⣶ᢡ琧據㕗剟∀⚎曲׭☪急厠䗍䙫う╏【㽸朙嘻凟䵍ᥗ䩚㠈ʹ殼>㗂㝮儔䝼瓹ᜊ⇆ᯤ矑പ䳠ⓠ‾劭绋漊≪৔㘈ᖠ䕨烄૲䂎ⷀ稣䂑䶰˂䐩ⲑ㻿¨Ↄ瓒潌乿⧉䣲糀⫺㡶䖘坼ᰗ別䮍 廑ॠ㷕Ŗ›䂂焮廬惫䜽堼㧳咭㏄Ű㴻潅旅嘩㸼༓㗼礵㉬ᦔ䎗㾗㌔ଅ繼ᗘᘃ㊂ᝯ奣㱎❼晿׾矫矪঱᥷᷶坒㯣࢛⽯㵼惑⹁忁㷠摗ぼ㞪攪朄Đ̣㽴໱ṁᢝ㜄ᅱ摐ࠧ簫Ȝ⪈灛ũ晿爇標稵㷫呎⠯㟤Ďᓒ䡜焬䠇弾íၧ㇛罐ஔ崪丽媈祍嗊⿋孅癦ᤄ绬捼勤㬇䥀⬠湯弛ᆻ䓋 ੘ີ๓䇪ɣ椦䏚ݮ䓂潠盾羓庡搼牏㺴㾜煡禧ᷞᛗ埋窍ڬ欭ͨ㙑ߊ竧ᰕó®幨⇌᫐ɖỿ⩽娇䜁呭ာੈα䤮㑈垢桊㖰㥣䵴䍠ጦ䐱碨๠勳Ἴ汳⃖瓴ි浸κ㳷ේ泆扦Ა罂旻⧦☂ሩ᷇࿺涵䍎敀⩚γ厱擇€᧶₫᱙曮吶捗ᱷ⯮簷䄶琿➖嶓௕ѣ横爳௉峿⼘尓䚵嶘ẚ䡵ূ礐࿠ᠥ〼榩Ơ㠬දঙǜˢᆾ夜⊠㓆灼೤ႦĪ↨W梆ౖ᧜熺౐᱒灁Ĩ汦梳偅യ捦搗у攰ᙒ洠䃓⁸ᕳ栳౜ᄦ⼯හ㇈Ϧ瓑ˎ䈤毢䶓慝岤ዴ₡桶ⴔᣎ䒫䑡䌥枘ᕖ䠺䱔攠ⵑ=䴔撊͗⇆౬敜㍕橅䰬૚彐獑∼搊␗䦵⏼毈佗呿䰤ံନဵ䋰΁ᆣ塬᷂怱墢җࡢၸ抓㢀⊖䵑Ἠ⋝Ǌશᖒ䒘㱅恶⋖妴㷄ٶ₠喡㱔♪᫔劥㇉⹾䌰㥏奬⌄䄂墣㴰ڠ෦㿋緿搮⹦羨償悪䀫恐͕䉞椧㲗畞᨞䈧瀯紉ౠ耐ɰ፠ᕼ撷㡖哎滞劬濉䏗愊惶眾絝╦嚬ڣ啲Ⱥ睴䚭綏⾞ᨆ咦浻֠㄰䎩1ಌ昦ᑂ∞ߠ䱲䁝¨ੰឣ䏘ɠٞῗ㟟汝浞἖ဿ㰧摞䋦㛎ᵟ东斵ѿₐ៺ⶴ̀疷ౚ綵厴ᣨῘ䚒₪ᢈᓆ㨯湖ԸᲾ昬Ⴠ屯ⶎ㶔㍚⏀䖠桇秔घ؉p纮఻Ց漭Ѫ呤ᗢ咩㩽೽ሉ庪穻刡Ⰴ罬぀㊆ᵠ僫Ổ≃ሰ⣬窛劍俑䐤ㄮ೧౑僓ご◚愱㘪㩸岵挠泩䚛勐*Ⱒ᚝&໹໬皍䕋ᇢ櫯٠䗀䑩本䙾㉪搐Өڂ抣᭑㓩寞尤ᡙ✮㧑紃Ᾱ㽬亐⎶ሹừጿ㉓ၙ振ᑹ䊝ᛙᛮᙨⵦᅹ瞲ᯓ刯ᦩጨ呭һᾹ㏫㚇㏿ၐ滮幾珣欚ᡱ䠬ǘ䯔㘄੅ↈ٨Ⱡ⊩Ôᥰ冧朶䍌䊑ቲ៙捽䦑㌔笭搉⋶ᬔ㲝㶪䥠෧副Ĺᙠ缑㉬ùᵠ缓扙Ǚጂ㹮䓉䁡ἀ扊ἳᏨ帥⩈犍ఈ審繮㆒ፕ⚩嵶ᩁ狗澊屭濅紩ᓙᝑΈፈ๩䰔劙〲፩⪷ْⅨϠ稧ျᐈඨร∦ųהㄲ洦冖䞴㹆涰劾昩㠑䩷拟洩徫䊟捨Сɦʂ勰ᾮ啬቏䡕᙮ǰၵᲨ᧮ͨ仕灮⢢玶傜痹排歪种劾⇚Ɣ⧃卤ᆹ㿯㻄〪੦㱤ūጡᆸᐣ䈭Ȉƞ㼵ၖĸ䷖⑊営䑉⚥夠憍ᒺ敾箪㋛ⶣ䴑Ƞ湖䮔必ฤᦏᎈཱུ㍏ᑞ↲օ摳碹ၸ删ᇎᬸ歓҅⧍ᥫㆆ妅દ奲毖摅嵡঍恑᪦߫ᡮ縑ፅБ㒐物ឩ囀徵綧䩲椧⥥␿橔憡ᑙᆴ⛤獍偐Დ䭔秎拍䬬嵠䐄糝䬚䛥剎㉷ௗ䏥⹩犃ਥ᪡囲缲攗䁐㹫ㆨ⮠⾡〰䕨瓂儬䍬仑剈ᓮ⨭㎥剙潡㮱珚⯷⋡ݪ嚎⯣歹竭ᄼƃᩙ㎒恌玽៭睬窗县ᙙ␢ㆦ状ᨱ䉉湯ˣᆹ঎䙠嫃ᱍ䲬墕䉏ᘶ笮⮗犙僎䳫嚄娻᫙妌‫㌗䉹冮爢ᕾው䟵幢犧᳙ᇨ˜媳ᕙᓮ᭰峽噎Ǭ箜䯍前ㆉݢ珤嶩ၡṭ嬕呑΋ᙬ᳃忹ᤏ幱狐愽䲫宖桳帶弩㭩嫵尙㮔摨刴⃵㢣扆头᲌䗃漼ざ䆄≖㒻細塾㎮棛⯽䃶କ屣ᕺ歾ᙴ疸㑗ࠕ䮂ǒ秸䭕䁮䘲⁲ந悓ቔᬜ⎠侵䶨Ç倭娎͢竡峝䢋⽱⁗嚚浤檾儃悖⍢柃呅䗘珖眢⌕⮖篕⥭ᇪ✖῎咿ⅆ䙰ᘧ䘪喬壜屡ి℁ᢅ㡧楰䅦Ό碏ᘺ欔傅ⷉᥬ橌录όⶍ䯑垮岏㛃ࡀ沌俁T懞䯺働ᎅᶕᵮ戮䖝ᷨ᪒窋ᩲ⭍ᗮ嚉媞ᡒ姭泋ぼ嶽᷑⦖姁尤㍹璮灮嵥渹墬䤛τ㿙̯❦㐘’粰柒䟫婆Ṃ䀽Ƥ✡樧㉂ⲓ䡞彁歇ࡸ஺䙫㾺Ʋᘾ㎊炞㏅䬾緑瑞炳櫬ಱ଺㱇䦾Ȇ枷䟶׊竂湞㷛嵶弋喭䥐坪曖垣掹┑拃灗䠬ဝ⠤éÀ榌童犤ڸ੐䫉尮Ā㍵ᗏ┆➠㎳㨣擰ી㑳堺洹♮嫞瑫ॶ㩄哼剮㵱傂࿞ㄎᾭ橾帺倎䛕Ꮮ孩烥䴱ᆒʌቧ來夆䉰忑઩⅘䦠ᾗ犸ʾ毝ᨊΜ筡哝ࢍ⾅壯嬭㱅刲台ᡐ䙄㖃Ʃ垡浯֍݂凘غ᪜ԉ媉௧ᩢ疨ᓚ箶烧ᰍ៣ำघ㋘ᧃ㎍⤕痴唫澷斀䗈䯜扦ぅ૤⃤⡖〱ႈ۔ਠ徤൱Όඩ⒂䛥䔃⌨瓼㰇ҽތ᭬ᴔ஦☀ᆨ搉㣂䜨㵷孼懐᛫ۇ䌵封燖Ꮟ尙㵙オ㉓䝩㸾夿晸䳯ॆቿ夗斋჆倦撊䰬౱䊪㒛䆃夙㝕ᨭ⋌沾گ▮噜݅ᜯ㒁埄ױ庐㑶戜渰ゥ匁㪭士ᛮ㋻噤૑㴡䖠戵噋投猄搝嗙ⅻⱡ㴵㡃㳑汬៿࢑掯ԋ⩫溥梺疅㴎ᣪ㛓垠殲㘼஧瞿ᄆゝ䖺⑁䮑૓ㆧ඿ठ娡渎䴑㚈ན౻ᜒ杋㢅櫸泽㙷扴ᰌᷟ䜽ⓢᘱ䁓筺䬝捧㽣淾唖甽㷐㆟圢纳甥❲ֳွ攘܊㡳ᠹᓳ❧ᦓ罈ჭ朗䟩㡰㳶剉淐犏橵᪂圢㣌傋܀⠓亐˻᪡㿮垶庘ᙓᑃ嶮剈䙘ḹᕺǢ䟅㱆٥㮜䜇᧍᥇䋩崖ᎍἸ椔ຟᚍ䑾䠺V䆂棃ㄪᓟ柠㲧啬SŰᆠ䪕戂ࢲ棼炏擼㎍朿眂㶹伀羰椥崜㑲¸ໞ养仼٦㖉ᑂ㛵⢿棃ⵓ㱝屌┞૜䮂෢ѕ䇫ǵ瓸䧰窐傳⻡㐭炢౉䛽䴓㝫㖈狹ⴇ㟶㭻ⶽᰰ  "
   },
   "outputs": [
    {
     "data": {
      "application/vnd.jupyter.widget-view+json": {
       "model_id": "489435b11e3c4799bfadbacd4e37683c",
       "version_major": 2,
       "version_minor": 0
      },
      "text/plain": [
       "PersistWidget(data_values=[{'__id_column': '1', 'Title': 'Wii Play', 'Max Players': 2, 'Multiplatform': True, …"
      ]
     },
     "execution_count": 15,
     "metadata": {},
     "output_type": "execute_result"
    }
   ],
   "source": [
    "PR.plot.scatterplot(df_task_2b, \"Comp_Time_Main:Q\", \"Review Score:Q\", df_name=\"df_task_3a\")"
   ]
  },
  {
   "cell_type": "code",
   "execution_count": 16,
   "id": "ce12290c-757c-4ba8-a879-8310a0fcb90a",
   "metadata": {},
   "outputs": [
    {
     "data": {
      "text/html": [
       "<div>\n",
       "<style scoped>\n",
       "    .dataframe tbody tr th:only-of-type {\n",
       "        vertical-align: middle;\n",
       "    }\n",
       "\n",
       "    .dataframe tbody tr th {\n",
       "        vertical-align: top;\n",
       "    }\n",
       "\n",
       "    .dataframe thead th {\n",
       "        text-align: right;\n",
       "    }\n",
       "</style>\n",
       "<table border=\"1\" class=\"dataframe\">\n",
       "  <thead>\n",
       "    <tr style=\"text-align: right;\">\n",
       "      <th></th>\n",
       "      <th>Length</th>\n",
       "      <th>Title</th>\n",
       "      <th>Max Players</th>\n",
       "      <th>Multiplatform</th>\n",
       "      <th>Online</th>\n",
       "      <th>Genres</th>\n",
       "      <th>Licensed</th>\n",
       "      <th>Comp_Time_Main</th>\n",
       "      <th>Review Score</th>\n",
       "      <th>Year</th>\n",
       "      <th>Publishers</th>\n",
       "      <th>is_selected</th>\n",
       "    </tr>\n",
       "  </thead>\n",
       "  <tbody>\n",
       "    <tr>\n",
       "      <th>0</th>\n",
       "      <td>Short</td>\n",
       "      <td>Wii Play</td>\n",
       "      <td>2</td>\n",
       "      <td>True</td>\n",
       "      <td>True</td>\n",
       "      <td>Action</td>\n",
       "      <td>True</td>\n",
       "      <td>4.0</td>\n",
       "      <td>58</td>\n",
       "      <td>2006</td>\n",
       "      <td>Nintendo</td>\n",
       "      <td>False</td>\n",
       "    </tr>\n",
       "    <tr>\n",
       "      <th>1</th>\n",
       "      <td>Short</td>\n",
       "      <td>New Super Mario Bros.</td>\n",
       "      <td>1</td>\n",
       "      <td>True</td>\n",
       "      <td>True</td>\n",
       "      <td>Action</td>\n",
       "      <td>True</td>\n",
       "      <td>7.0</td>\n",
       "      <td>89</td>\n",
       "      <td>2006</td>\n",
       "      <td>Nintendo</td>\n",
       "      <td>False</td>\n",
       "    </tr>\n",
       "    <tr>\n",
       "      <th>2</th>\n",
       "      <td>Long</td>\n",
       "      <td>Pokmon Diamond</td>\n",
       "      <td>1</td>\n",
       "      <td>True</td>\n",
       "      <td>True</td>\n",
       "      <td>Role-Playing (RPG)</td>\n",
       "      <td>True</td>\n",
       "      <td>41.92</td>\n",
       "      <td>85</td>\n",
       "      <td>2006</td>\n",
       "      <td>Nintendo</td>\n",
       "      <td>False</td>\n",
       "    </tr>\n",
       "    <tr>\n",
       "      <th>3</th>\n",
       "      <td>Long</td>\n",
       "      <td>Pokmon Pearl</td>\n",
       "      <td>1</td>\n",
       "      <td>True</td>\n",
       "      <td>True</td>\n",
       "      <td>Role-Playing (RPG)</td>\n",
       "      <td>True</td>\n",
       "      <td>41.92</td>\n",
       "      <td>85</td>\n",
       "      <td>2006</td>\n",
       "      <td>Nintendo</td>\n",
       "      <td>False</td>\n",
       "    </tr>\n",
       "    <tr>\n",
       "      <th>4</th>\n",
       "      <td>Short</td>\n",
       "      <td>Gears of War</td>\n",
       "      <td>2</td>\n",
       "      <td>True</td>\n",
       "      <td>True</td>\n",
       "      <td>Action</td>\n",
       "      <td>True</td>\n",
       "      <td>9.0</td>\n",
       "      <td>94</td>\n",
       "      <td>2006</td>\n",
       "      <td>Microsoft</td>\n",
       "      <td>False</td>\n",
       "    </tr>\n",
       "  </tbody>\n",
       "</table>\n",
       "</div>"
      ],
      "text/plain": [
       "  Length                  Title  Max Players  Multiplatform  Online  \\\n",
       "0  Short               Wii Play            2           True    True   \n",
       "1  Short  New Super Mario Bros.            1           True    True   \n",
       "2   Long         Pokmon Diamond            1           True    True   \n",
       "3   Long           Pokmon Pearl            1           True    True   \n",
       "4  Short           Gears of War            2           True    True   \n",
       "\n",
       "               Genres  Licensed  Comp_Time_Main  Review Score  Year  \\\n",
       "0              Action      True             4.0            58  2006   \n",
       "1              Action      True             7.0            89  2006   \n",
       "2  Role-Playing (RPG)      True           41.92            85  2006   \n",
       "3  Role-Playing (RPG)      True           41.92            85  2006   \n",
       "4              Action      True             9.0            94  2006   \n",
       "\n",
       "  Publishers  is_selected  \n",
       "0   Nintendo        False  \n",
       "1   Nintendo        False  \n",
       "2   Nintendo        False  \n",
       "3   Nintendo        False  \n",
       "4  Microsoft        False  "
      ]
     },
     "execution_count": 16,
     "metadata": {},
     "output_type": "execute_result"
    }
   ],
   "source": [
    "df_task_3a.head()"
   ]
  },
  {
   "cell_type": "markdown",
   "id": "36e82a42-5f2f-44e1-b9a5-2e2d403b2ff3",
   "metadata": {},
   "source": [
    "## Task 3b: Finding Top Genre for each `Length`"
   ]
  },
  {
   "cell_type": "markdown",
   "id": "af40bad3-436e-426c-a02f-f205597e90b5",
   "metadata": {},
   "source": [
    "Now we will analyze which genre is most prevelant for games in each length category."
   ]
  },
  {
   "cell_type": "markdown",
   "id": "72455a32-623b-4b87-87d6-ca9c8ebf19e7",
   "metadata": {},
   "source": [
    "#### **Instructions**\n",
    "1. **Context:**\n",
    "    - We have a faceted bar chart. The `x` axis encodes the `Genres` column in the data and the columns encode the newly added category `Length`.\n",
    "2. **Analyze Genres:**\n",
    "    - Observe the bar charts to identify the top genre for the each length.\n",
    "    - You can hover on the bars to get the exact frequency.\n",
    "3. **Document Findings:**\n",
    "    - Note down the most common Genre for each length based on your interactive analysis in a new markdown cell."
   ]
  },
  {
   "cell_type": "code",
   "execution_count": 17,
   "id": "c45b6a61-ef0e-408a-bded-b1d1c1666e9c",
   "metadata": {
    "__GENERATED_DATAFRAMES__": "ᯡࠣ䅬Ԁ朤壠ᜣ琢〹夤゠⹰〮⁁䁻қ䚾ኊ㇠നСࠩ瀮晼Ƭ穅5愠៤⠠ ",
    "__has_persist_output": true,
    "trrack_graph": "ᯡ࠽䈌ʀ匦㢠⹰ૠ✠䘠炀瘠墀ୠƠᦴ粯恃˂ᠬ柠ጱ䛔㚹洼㋠ㆪተ¶⡨⇳㈄ᕁ╶庳⮖份㸙Ҡǁ#〨ャ࿒′䈤7⺰ᠠ湐憎Ⴄ姗぀˴㽴3姩-倥樋甽♨ቝ°ヺ挥'䦡ႉ㡄ኌ䬩Ἣລ䏰˸懍قၣᡄዚ橁ì⎥瑐嘠歲憠㏔ᘰؓ欖᫩آ欤⭤␮óێ堢㰠ຫ㜿ఠ叕ㄪᆓ塚೭䡀煩ᐩჰ䚧㩅悃灑吸㑌ᅁ䨦䛣Ń≐㑦ᜫ䃠⡌ڧネ歩ŃŅୡ䤼ᢠŋᗥኀ㠢᢮≱呚ਠ捐氮ண抐媁Ṁ˘ɡ⇭暳㆒ṑ⑇৊᥃ⓆӢ⃨  "
   },
   "outputs": [
    {
     "data": {
      "application/vnd.jupyter.widget-view+json": {
       "model_id": "04430f5f255943babf0f44ab717267bf",
       "version_major": 2,
       "version_minor": 0
      },
      "text/plain": [
       "PersistWidget(data_values=[{'__id_column': '1', 'Length': 'Short', 'Title': 'Wii Play', 'Max Players': 2, 'Mul…"
      ]
     },
     "execution_count": 17,
     "metadata": {},
     "output_type": "execute_result"
    }
   ],
   "source": [
    "NEW_COLUMN = \"Length\"\n",
    "\n",
    "chart = alt.Chart(df_task_3a).mark_bar().encode(\n",
    "    x=\"Genres:N\",\n",
    "    y=\"count():Q\",\n",
    "    color=f\"{NEW_COLUMN}:N\",\n",
    "    column=f\"{NEW_COLUMN}:N\",\n",
    "    tooltip=\"count()\"\n",
    ")\n",
    "chart\n",
    "PR.PersistChart(chart)"
   ]
  },
  {
   "cell_type": "markdown",
   "id": "00e87acd-3759-49eb-9e43-d7793672297c",
   "metadata": {},
   "source": [
    "**Task 3b Notes:**\n",
    "\n",
    "- Top publisher for `Short` games: Action (516)\n",
    "- Top publisher for `Average` games: RPG (35)\n",
    "- Top publisher for `Long` games: RPG (14)"
   ]
  },
  {
   "cell_type": "code",
   "execution_count": null,
   "id": "bc2da845-a506-45c1-a336-14bfa55e4174",
   "metadata": {},
   "outputs": [],
   "source": []
  }
 ],
 "metadata": {
  "__CATEGORIES_META__": "{\"categories\":{\"Avlanche Season Phase\":{\"name\":\"Avlanche Season Phase\",\"options\":{\"_None\":{\"name\":\"None\"},\"Start\":{\"name\":\"Start\"},\"Middle\":{\"name\":\"Middle\"},\"End\":{\"name\":\"End\"}}}},\"activeCategoryName\":\"Avlanche Season Phase\"}",
  "__persist_keys_record": [
   "__GENERATED_DATAFRAMES__",
   "__persist_nb_uuid__",
   "trrack_graph",
   "show_aggregate_origin"
  ],
  "__persist_nb_uuid__": "b82fefc4-1e19-4099-9446-89eee2c7722b",
  "kernelspec": {
   "display_name": "Python 3 (ipykernel)",
   "language": "python",
   "name": "python3"
  },
  "language_info": {
   "codemirror_mode": {
    "name": "ipython",
    "version": 3
   },
   "file_extension": ".py",
   "mimetype": "text/x-python",
   "name": "python",
   "nbconvert_exporter": "python",
   "pygments_lexer": "ipython3",
   "version": "3.8.16"
  }
 },
 "nbformat": 4,
 "nbformat_minor": 5
}
