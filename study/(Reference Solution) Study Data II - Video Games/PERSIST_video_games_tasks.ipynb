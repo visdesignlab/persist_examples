{
 "cells": [
  {
   "cell_type": "markdown",
   "id": "522fcbb3-702c-4ea0-91d9-f3b0e71690fc",
   "metadata": {
    "__GENERATED_DATAFRAMES__": "{\"nodeDataframes\":{},\"graphDataframes\":null}",
    "show_aggregate_original": "false",
    "trrack_graph": "ᯡ࠽䈌ʀ匦㢠⹰àᦴ΀࣪ʐ怶䦠挠᱊ࠥ䁁䂖㚥煤晬փ⊪ĸ暂䙠঳ैkᑄᄈ妐ଷᓋ⃩䖻Ṯ溜Φ䐡傠Ǒ団Қ′䈤7ࡣᠠ湐戎Ⴆ寐爤䀥屨攠ʕ㥀ǔÚ䍃㏙䤥ࢂ┩勸惀Ēいཆ༠೥∁∀秸㲅䌠ⶬᛦ䙂ǃɡ殍戰泤ᒁ嬦怭㋉匥穃ᄠ彣჻⴦䉫ぢ睤䄁ⵐۻG䀡曑砑䂱竖ᄂ㜿Ꭽ˹ȩᚱ凁兘㑐Ṣ༩Ẻ䳥⑆憰棨忞⍧攈堽Ī僰὆揖䦲ᡊ⛓౱নఱ姼ᤦΧ您別൧儸晋Ǣ熘繀䉁硨K塊়ṹᜰ倳䪂ⵦ⚈ᒽ᪺ᆬ䀠 "
   },
   "source": [
    "# Analyzing Video Games Across Genres"
   ]
  },
  {
   "cell_type": "markdown",
   "id": "19cb3971-5981-474c-8250-7981c7c9cc8a",
   "metadata": {
    "trrack_graph": "ᯡ࠽䈌ʀ匦㢠⹰ૠܠ昢〽䂆౐׀ৣfL⍉ျ⥒⠡䒙¬ᧇ峕搢ಒ嫒┠অҤᵖ㹢晴㘉ᦳㄍ毿䡨墠ᨰV䆼ガ搢⡠䀢焨㌠෦ౝ戰殖๠ᠠ塩ೀn坄V䀷⢄㚗᥂夬ು䅻ఴ>☤䝃傳狱⊔㳜ੁ䀶挫㐷ࢢӡჵ嬩іㄪᢉ懐ͻ䬥䇽ࣨ䁏僿峱䐰㋸ᇻ兀㡆䱍㛠਀ⲛ粀೽疨һ䟩桁㙡Ũ昙ˢ䧮ᄪᆽ䥢ᅅᄁẩ㱸౮ᐶޣ先ఽЃⵖᥒ⌥▶懜ᩑƢ᭛䭄憐ɑ٦⦈䙓ǂ炘㸠䱅࢜ؠଌથ䜯๡䙉夊᜶僑汢㭢☈₁䠠 "
   },
   "source": [
    "**Participant ID:**  Reference\n",
    "\n",
    "**Date / Time:**"
   ]
  },
  {
   "cell_type": "markdown",
   "id": "ceac0d48-2820-4532-bfd2-adf6533d7a2d",
   "metadata": {},
   "source": [
    "# Introduction\n",
    "Welcome to our data analysis study. For this study, you'll be working with a dataset sourced [Corgis Datasets Project](https://corgis-edu.github.io/corgis/).\n",
    "\n",
    "The data was originally published in the publication [“What makes a blockbuster video game? An empirical analysis of US sales data.” Managerial and Decision Economics](https://researchportal.port.ac.uk/en/publications/what-makes-a-blockbuster-video-game-an-empirical-analysis-of-us-s) by Dr Joe Cox. \n",
    "\n",
    "The dataset has information about the sales and playtime of over a thousand video games released between 2004 and 2010. The playtime information was collected from crowd-sourced data on [\"How Long to Beat\"](https://howlongtobeat.com/)."
   ]
  },
  {
   "cell_type": "markdown",
   "id": "68491102-96aa-4701-8134-d998c80ae04b",
   "metadata": {},
   "source": [
    "- You will use an extension called PersIst to complete **data cleanup and manipulation** tasks. \n",
    "- Interactive charts and tables have been pre-created for your convenience. These can be directly utilized by running the corresponding cells.\n",
    "- Focus on leveraging the interactive capabilities of Persist for your analysis.\n",
    "- Carefully follow the step-by-step instructions provided for each task.\n",
    "- In some cases, you will be asked to document your findings. Please do this in writing in a markdown cell.\n",
    "- As you work through the tasks, take note of any interesting findings or challenges with the software or pandas that you may encounter, either by speaking your thoughts out loud or taking notes in a markdown cell.\n",
    "- Feel free to add new code and markdown cells in the notebook as necessary to complete the tasks, but please do attempt the tasks with the PersIst functionality."
   ]
  },
  {
   "cell_type": "code",
   "execution_count": 1,
   "id": "9337796b-21e8-4c8c-bbbd-3076a775d03b",
   "metadata": {},
   "outputs": [],
   "source": [
    "import helpers as h\n",
    "import pandas as pd\n",
    "import altair as alt\n",
    "\n",
    "import persist_ext as PR"
   ]
  },
  {
   "cell_type": "markdown",
   "id": "dd81aecd-eebf-4624-b9e2-3a864c474c1d",
   "metadata": {
    "__GENERATED_DATAFRAMES__": "{\"nodeDataframes\":{},\"graphDataframes\":null}",
    "show_aggregate_original": "false",
    "trrack_graph": "ᯡ࠽䈌ʀ匦㢠⹰Ҁ̡䘠烠嘢త〫‥侴ᓬᛞ拐ৡ䚂ద抭婈ހڅྯ䌲⠠䭈⑁槑焳Ⴥ⩦仃㍶๽㰥Ҩǁ#㟢䌰橠ኤРᜰ͐üメ湁˛㾄ָ̠憴)挄䀦栢琭ٮ㍄ᨡ䌤ᾣㆢ䀣擠䢤㘦Sᥧᡠ戂怡ᠬÖᠻ㹈䐿ة׉妨⃓ࢱ̴㖠᫲徤ฏѤƜڣ回㸦ۡ৵ण䃔戊㘠传ϊ緯挡䘌污䕽庮粓㈨ɪⷠ搃猄ᦨ洘㳌ᤪ̪౦繶ሱ澂䘣⁑Ҝഭ炍孉ृÅ⭱䤾ᢠ䆋෭ኀ㠢Ү≱呺Ấ惑汮ᮯ戩䊏̠˙Ɂ⧽憳㈒ṉⅱਊ⥋⃆瑀⣨  "
   },
   "source": [
    "## Data Description\n",
    "\n",
    "The table below describes the different columns in the dataset. Each row in the dataset represents a video game.\n",
    "\n",
    "| Column        | Description                                                                                                                                                           |\n",
    "|---------------|-----------------------------------------------------------------------------------------------------------------------------------------------------------------------|\n",
    "| Title         | Full title of the game.                                                                                                                                               |\n",
    "| Max Players   | The maximum number of players that can play this game.                                                                                                                |\n",
    "| Multiplatform | Whether this game is available on multiple platforms.                                                                                                                 |\n",
    "| Online        | Whether this game supports online play.                                                                                                                               |\n",
    "| Genres        | The main genre that this game belongs to.                                                                                                                             |\n",
    "| Licensed      | Whether this game was based off a previously licensed entity.                                                                                                         |\n",
    "| Publishers    | The publishers who created this game.                                                                                                                                 |\n",
    "| Review Score  | A review score for this game, out of 100.                                                                                                                             |\n",
    "| Re-release    | Whether this game is a re-release of an earlier one.                                                                                                                  |\n",
    "| Year          | The year that this game was released.                                                                                                                                 |\n",
    "| Comp_Time_All | The median time that players reported completing the game in any way, in hours.                                                                                       |\n",
    "| Comp_Time_Main| The median time that players reported completing the main game storyline, in hours.                                                                                   |"
   ]
  },
  {
   "cell_type": "code",
   "execution_count": 2,
   "id": "8d0e426c-89a0-4813-8994-65ebba3f3a25",
   "metadata": {},
   "outputs": [
    {
     "data": {
      "text/html": [
       "<div>\n",
       "<style scoped>\n",
       "    .dataframe tbody tr th:only-of-type {\n",
       "        vertical-align: middle;\n",
       "    }\n",
       "\n",
       "    .dataframe tbody tr th {\n",
       "        vertical-align: top;\n",
       "    }\n",
       "\n",
       "    .dataframe thead th {\n",
       "        text-align: right;\n",
       "    }\n",
       "</style>\n",
       "<table border=\"1\" class=\"dataframe\">\n",
       "  <thead>\n",
       "    <tr style=\"text-align: right;\">\n",
       "      <th></th>\n",
       "      <th>Title</th>\n",
       "      <th>Max Players</th>\n",
       "      <th>Multiplatform?</th>\n",
       "      <th>Online?</th>\n",
       "      <th>Genres</th>\n",
       "      <th>Licensed?</th>\n",
       "      <th>Comp_Time_All</th>\n",
       "      <th>Re-release?</th>\n",
       "      <th>Comp_Time_Main</th>\n",
       "      <th>Review Score</th>\n",
       "      <th>Year</th>\n",
       "      <th>Publishers</th>\n",
       "    </tr>\n",
       "  </thead>\n",
       "  <tbody>\n",
       "    <tr>\n",
       "      <th>0</th>\n",
       "      <td>Super Mario 64 DS</td>\n",
       "      <td>1</td>\n",
       "      <td>True</td>\n",
       "      <td>True</td>\n",
       "      <td>Action</td>\n",
       "      <td>True</td>\n",
       "      <td>24.48</td>\n",
       "      <td>True</td>\n",
       "      <td>14.50</td>\n",
       "      <td>85</td>\n",
       "      <td>2004</td>\n",
       "      <td>Nintendo</td>\n",
       "    </tr>\n",
       "    <tr>\n",
       "      <th>1</th>\n",
       "      <td>Lumines: Puzzle Fusion</td>\n",
       "      <td>1</td>\n",
       "      <td>True</td>\n",
       "      <td>True</td>\n",
       "      <td>Strategy</td>\n",
       "      <td>True</td>\n",
       "      <td>10.00</td>\n",
       "      <td>True</td>\n",
       "      <td>10.00</td>\n",
       "      <td>89</td>\n",
       "      <td>2004</td>\n",
       "      <td>Ubisoft</td>\n",
       "    </tr>\n",
       "    <tr>\n",
       "      <th>2</th>\n",
       "      <td>WarioWare Touched!</td>\n",
       "      <td>2</td>\n",
       "      <td>True</td>\n",
       "      <td>True</td>\n",
       "      <td>Action</td>\n",
       "      <td>True</td>\n",
       "      <td>2.50</td>\n",
       "      <td>True</td>\n",
       "      <td>1.83</td>\n",
       "      <td>81</td>\n",
       "      <td>2004</td>\n",
       "      <td>Nintendo</td>\n",
       "    </tr>\n",
       "    <tr>\n",
       "      <th>3</th>\n",
       "      <td>Hot Shots Golf: Open Tee</td>\n",
       "      <td>1</td>\n",
       "      <td>True</td>\n",
       "      <td>True</td>\n",
       "      <td>Sports</td>\n",
       "      <td>True</td>\n",
       "      <td>-100.00</td>\n",
       "      <td>True</td>\n",
       "      <td>-100.00</td>\n",
       "      <td>81</td>\n",
       "      <td>2004</td>\n",
       "      <td>Sony</td>\n",
       "    </tr>\n",
       "    <tr>\n",
       "      <th>4</th>\n",
       "      <td>Spider-Man 2</td>\n",
       "      <td>1</td>\n",
       "      <td>True</td>\n",
       "      <td>True</td>\n",
       "      <td>Action</td>\n",
       "      <td>True</td>\n",
       "      <td>10.00</td>\n",
       "      <td>True</td>\n",
       "      <td>8.00</td>\n",
       "      <td>61</td>\n",
       "      <td>2004</td>\n",
       "      <td>Activision</td>\n",
       "    </tr>\n",
       "  </tbody>\n",
       "</table>\n",
       "</div>"
      ],
      "text/plain": [
       "                      Title Max Players  Multiplatform?  Online?    Genres  \\\n",
       "0         Super Mario 64 DS           1            True     True    Action   \n",
       "1    Lumines: Puzzle Fusion           1            True     True  Strategy   \n",
       "2        WarioWare Touched!           2            True     True    Action   \n",
       "3  Hot Shots Golf: Open Tee           1            True     True    Sports   \n",
       "4              Spider-Man 2           1            True     True    Action   \n",
       "\n",
       "   Licensed?  Comp_Time_All  Re-release?  Comp_Time_Main  Review Score  Year  \\\n",
       "0       True          24.48         True           14.50            85  2004   \n",
       "1       True          10.00         True           10.00            89  2004   \n",
       "2       True           2.50         True            1.83            81  2004   \n",
       "3       True        -100.00         True         -100.00            81  2004   \n",
       "4       True          10.00         True            8.00            61  2004   \n",
       "\n",
       "   Publishers  \n",
       "0    Nintendo  \n",
       "1     Ubisoft  \n",
       "2    Nintendo  \n",
       "3        Sony  \n",
       "4  Activision  "
      ]
     },
     "execution_count": 2,
     "metadata": {},
     "output_type": "execute_result"
    }
   ],
   "source": [
    "df = pd.read_csv('video_games.csv')\n",
    "df.head()"
   ]
  },
  {
   "cell_type": "markdown",
   "id": "7cc10d2b-9b1e-46f4-9769-b9a0ac0c9e8f",
   "metadata": {
    "__GENERATED_DATAFRAMES__": "{\"nodeDataframes\":{},\"graphDataframes\":null}",
    "show_aggregate_original": "false",
    "trrack_graph": "ᯡ࠽䈌ʀ匦㢠⹰ૠ㌬Ā჻R〶䁃lyٹ⁓f䍐ۢ䧪㈉◔ฅޡ䨲⠠䬱䑁棒瀱Ⴭ⭱妻ݎẜʤ䐡傠ǖ悃РኤРᜰ結üメ浪巟㈠ᣠˬ⃪$熒‣㐡㬚͇⦲༿⸂໡壡‡犀⒂ଠᎭॣ䥡⊃㡹稠嬸ූᑤඦҡ哹䑀妨䤝͕䀺慽䈩瞤∡㼚ƶ嵖᯦悡檩ǣ᪀畖o#䖊⠃ܑ璌⃥⹾䞌᧒Т⺈ᆡ⇳㴑䒤㒌ŭ᯸丈◡戱⃰潅Ԧ秐噑๦磜疶溂⒀ᒪ扖⋦ူⶃ㧄మྡྷშ⨭རㅸ瘭ǅ爘䅐䘆砠址䑂㥨㈼㹯䕈䓵ᒹ憴婊③ᤠ "
   },
   "source": [
    "# Task 1: Column Names and Data Types\n",
    "\n",
    "In the first task we will perform some basic data cleaning operations to get our dataset ready for further tasks."
   ]
  },
  {
   "cell_type": "markdown",
   "id": "8934b219-dd97-4e3e-9aa9-0dd7a9d62ad5",
   "metadata": {
    "__GENERATED_DATAFRAMES__": "{\"nodeDataframes\":{},\"graphDataframes\":null}",
    "show_aggregate_original": "false",
    "trrack_graph": "ᯡ࠽䈌ʀ匦㢠⹰ૠ㬠氤〥䌸瀶䀹䁣๲ৠܦᔨҀᣴ䂼䋃‣ᓆ做►䀳ല⠠䭈⑁槑瀱ᝉ⍮冫㭮ẜʦ䒠ǁ#㕀挸晠ኤРᝣၐüムṁǟ㤉䀥䉸攠ʓ㥀ǔÚ⎃஥䤫䒄攭ᇸ惀Ēいᘦᖠೣ䗫⃂変ⱦ{ఽ咼∪⌤䋵汄ჹ䑈冣ᛠඉⵆܔ⍂Þ⍡歹ম悩溩Ǡ媁疖o#䖓瀃ʅ璌⁅溮杲◒Ъ⍁䔶户ࣉⓢ削౐䘰䵥䌂んḸئԢ灐糕൤㧶ⶬ䲱䅲ᗈ撯ౠ惍䈅䥐属ѣ၈⩍སヸ๗௧焤ᄸ䒰Ž䅰䔉燩壥༲刳樲⭮✈咰ᒄ  "
   },
   "source": [
    "### Task 1a: Remove Columns"
   ]
  },
  {
   "cell_type": "markdown",
   "id": "47b531d4-2e3a-4e9a-b92a-39aebfc3deb6",
   "metadata": {
    "__GENERATED_DATAFRAMES__": "{\"nodeDataframes\":{},\"graphDataframes\":null}",
    "show_aggregate_original": "false",
    "trrack_graph": "ᯡ࠽䈌ʀ匦㢠⹰ૠ㬠氤〥䌸瀶䀹䁣๲ৠܦᔨҀᣴ䂼䋃‣ᓆ做►䀳ല⠠䭈⑁槑瀱ᝉ⍮冫㭮ẜʦ䒠ǁ#㕀挸晠ኤРᝣၐüムṁǟ㤉䀥䉸攠ʓ㥀ǔÚ⎃஥䤫䒄攭ᇸ惀Ēいᘦᖠೣ䗫⃂変ⱦ{ఽ咼∪⌤䋵汄ჹ䑈冣ᛠඉⵆܔ⍂Þ⍡歹ম悩溩Ǡ媁疖o#䖓瀃ʅ璌⁅溮杲◒Ъ⍁䔶户ࣉⓢ削౐䘰䵥䌂んḸئԢ灐糕൤㧶ⶬ䲱䅲ᗈ撯ౠ惍䈅䥐属ѣ၈⩍སヸ๗௧焤ᄸ䒰Ž䅰䔉燩壥༲刳樲⭮✈咰ᒄ  "
   },
   "source": [
    "Remove the following columns to streamline the dataset for further analysis:\n",
    "\n",
    "- **_Re-release?:_** Boolean flag indicating if the game was a new release or a re-release.\n",
    "- **_Comp_Time_All:_** Average of all other completition times, we will use one of the others directly"
   ]
  },
  {
   "cell_type": "markdown",
   "id": "aec9ad2a-ab09-4288-b8fa-2852bcddda1a",
   "metadata": {},
   "source": [
    "#### **Instructions**\n",
    "1. **Column Removal:**\n",
    "\t- Use the interactive table feature in PersIst to remove the specified columns.\n",
    "3. **Verify the Output:**\n",
    "\t- Print the head of the generated dataframe to verify the changes."
   ]
  },
  {
   "cell_type": "code",
   "execution_count": 3,
   "id": "8e333ff3-cb24-430b-a332-733b41570ba4",
   "metadata": {
    "__GENERATED_DATAFRAMES__": "ᯡࠩ䃬࿀ᜤᠹ悋ᐨ推̅ሣ䧠ⶠ卍捯ᥔᠣ℠▢dʘϔᝠ捌〤瀵摠៨⠠ ",
    "__has_persist_output": true,
    "editable": true,
    "slideshow": {
     "slide_type": ""
    },
    "tags": [],
    "trrack_graph": "ᯡ࠽䈌ʀ匦㢠⹰۠ᦡ汈რ挠㠥〫⃠ፖᖨ˭⁃ۤԂ䵬戠㈲䦡䴚私⍍⮩ᐠ▴ሰ瑸碪䡲嗀泵嶷ྞ䇣≠ð䀡它冬㍀ॢȠு䠸ᢀ༰䃿岛䀢慌㊠ř岰ú၈ἦᮦڣ⛄Ꮣ⨐¬㔂㸮ᆰ䶪捃到な᰸ဠ⺱壥憄䄂ᬂ䏐癐⠠㲸भᆡ惫畑ጦ䱦{ఽ嬼∭䌤䉭汄ၽ䒐啨ຶ怭㔾挥㙂ᔠ彃ἂ洯ހ䕿ⷠᚁ厖o#䈓瀃ע泜⁅溮㎻ӓ၀ᒦ⍁偰㸦䣤⸾ឥዜ♰㛡ᣤ⼪Ţ砼㘭ᑂ灼ℱ暙幒፦ƈṧᵈ暪磑ਾᑫቔ㩳᛫ベ㹺䑋ૅ㥴༦㲬獕䷃姉٫ᇫ࢙Ũ兊笅㕬揊㰠࣐℡㰠ɼȬ〡⻃ᠿ⫓壁ൻΠ怠㽃䭰˥嵫性椻✓ℨ栤䅰䖉୰碌⌫ւ᰸ፍ⇅Ռ䴦䏢璊ΥǱ䓔亢懅ᕃ؇姘ṹጣ䀰⒒ከ䧈ⱖᎭ成ɁѦቕ䵶䏂夔絔䂍∐䰦䐮ᩭ卹庂楍䈕厁Č笣䜂㣭䆓匍㧌䙘੣!≩埪皹‰⇨慕䃇懥㯘榯⯽焢஖㾰ฤ⋀Ệ┨廆≑惞㼦†窒ℑీ⪉ἰ䟉㶃⚉䀤ʑ㼷䐘恟枠ℇ拳ïȧ䅨ᰨ䵇晡䡔䯡䠬ජ砤⑨㠺̢࡬䁩আ۱ᡆƣ灺٣ਰʤ䂏樃犉z烰Ḋჟ∡₲ᄱ㲋Ↄ⦛┋ຕ䨓㹿們汋⚠摙๺ᑊ拃桦ݺ㑦揀宝˘橷ȩ刵樺炐椹焸捣捚ࢻᎂ઻卬柰獈޸䖉਀峗ᐄ㳸渆粴暸㍌戵玕⺀䄰ω畣₧䶝‣р⣩琠ત䜸Ạжᢶ࣡㩅嘬穲㟵砡䑃їᱪڭ♃䐩ੱⒼ乱爪侰੊䳅砽䷄瓽ះ璉ত။㪥炃ʂ䳀䊗塳妇ḻᮅ洛ܕ᲋䉠峘ᤒ畀ޕ䀧䴢ỷᐦ幗㌕㶋᜗尯䊴硏丒ᅀ居∈㌨Ȃ⻣慀Щ㕨␨焏娩䡥Ⓢ笅㋉営ၮी᠗绸⠭Ƥ㙮ᅯ䂒䃘ൕ恞⾬ቔᩑჸഥ悸䮭恜䔣⑰唳晧ͫ硿ࠃ紎ཨᦅ䅤囪ۗ᤺ǖ棭佣࢖㛁ʄẵ揖Ӕᤲ楦囊ٿ噺৕棍埡᫡߉䡱⨠䙑㩓䔩弢⚩ぉ◙䁪  "
   },
   "outputs": [
    {
     "data": {
      "application/vnd.jupyter.widget-view+json": {
       "model_id": "5b377cec518a4c41942d4c79b6ad5970",
       "version_major": 2,
       "version_minor": 0
      },
      "text/plain": [
       "PersistWidget(data_values=[{'__id_column': '1', 'Title': 'Super Mario 64 DS', 'Max Players': '1', 'Multiplatfo…"
      ]
     },
     "execution_count": 3,
     "metadata": {},
     "output_type": "execute_result"
    }
   ],
   "source": [
    "PR.PersistTable(df, df_name=\"df_task_1a\")"
   ]
  },
  {
   "cell_type": "code",
   "execution_count": 4,
   "id": "752dbb82-e517-46f4-bd59-81b7c7ca665e",
   "metadata": {},
   "outputs": [
    {
     "data": {
      "text/html": [
       "<div>\n",
       "<style scoped>\n",
       "    .dataframe tbody tr th:only-of-type {\n",
       "        vertical-align: middle;\n",
       "    }\n",
       "\n",
       "    .dataframe tbody tr th {\n",
       "        vertical-align: top;\n",
       "    }\n",
       "\n",
       "    .dataframe thead th {\n",
       "        text-align: right;\n",
       "    }\n",
       "</style>\n",
       "<table border=\"1\" class=\"dataframe\">\n",
       "  <thead>\n",
       "    <tr style=\"text-align: right;\">\n",
       "      <th></th>\n",
       "      <th>Title</th>\n",
       "      <th>Max Players</th>\n",
       "      <th>Multiplatform?</th>\n",
       "      <th>Online?</th>\n",
       "      <th>Genres</th>\n",
       "      <th>Licensed?</th>\n",
       "      <th>Comp_Time_Main</th>\n",
       "      <th>Review Score</th>\n",
       "      <th>Year</th>\n",
       "      <th>Publishers</th>\n",
       "    </tr>\n",
       "  </thead>\n",
       "  <tbody>\n",
       "    <tr>\n",
       "      <th>0</th>\n",
       "      <td>Super Mario 64 DS</td>\n",
       "      <td>1</td>\n",
       "      <td>True</td>\n",
       "      <td>True</td>\n",
       "      <td>Action</td>\n",
       "      <td>True</td>\n",
       "      <td>14.5</td>\n",
       "      <td>85</td>\n",
       "      <td>2004</td>\n",
       "      <td>Nintendo</td>\n",
       "    </tr>\n",
       "    <tr>\n",
       "      <th>1</th>\n",
       "      <td>Lumines: Puzzle Fusion</td>\n",
       "      <td>1</td>\n",
       "      <td>True</td>\n",
       "      <td>True</td>\n",
       "      <td>Strategy</td>\n",
       "      <td>True</td>\n",
       "      <td>10.0</td>\n",
       "      <td>89</td>\n",
       "      <td>2004</td>\n",
       "      <td>Ubisoft</td>\n",
       "    </tr>\n",
       "    <tr>\n",
       "      <th>2</th>\n",
       "      <td>WarioWare Touched!</td>\n",
       "      <td>2</td>\n",
       "      <td>True</td>\n",
       "      <td>True</td>\n",
       "      <td>Action</td>\n",
       "      <td>True</td>\n",
       "      <td>1.83</td>\n",
       "      <td>81</td>\n",
       "      <td>2004</td>\n",
       "      <td>Nintendo</td>\n",
       "    </tr>\n",
       "    <tr>\n",
       "      <th>3</th>\n",
       "      <td>Hot Shots Golf: Open Tee</td>\n",
       "      <td>1</td>\n",
       "      <td>True</td>\n",
       "      <td>True</td>\n",
       "      <td>Sports</td>\n",
       "      <td>True</td>\n",
       "      <td>-100.0</td>\n",
       "      <td>81</td>\n",
       "      <td>2004</td>\n",
       "      <td>Sony</td>\n",
       "    </tr>\n",
       "    <tr>\n",
       "      <th>4</th>\n",
       "      <td>Spider-Man 2</td>\n",
       "      <td>1</td>\n",
       "      <td>True</td>\n",
       "      <td>True</td>\n",
       "      <td>Action</td>\n",
       "      <td>True</td>\n",
       "      <td>8.0</td>\n",
       "      <td>61</td>\n",
       "      <td>2004</td>\n",
       "      <td>Activision</td>\n",
       "    </tr>\n",
       "  </tbody>\n",
       "</table>\n",
       "</div>"
      ],
      "text/plain": [
       "                      Title Max Players  Multiplatform?  Online?    Genres  \\\n",
       "0         Super Mario 64 DS           1            True     True    Action   \n",
       "1    Lumines: Puzzle Fusion           1            True     True  Strategy   \n",
       "2        WarioWare Touched!           2            True     True    Action   \n",
       "3  Hot Shots Golf: Open Tee           1            True     True    Sports   \n",
       "4              Spider-Man 2           1            True     True    Action   \n",
       "\n",
       "   Licensed?  Comp_Time_Main  Review Score  Year  Publishers  \n",
       "0       True            14.5            85  2004    Nintendo  \n",
       "1       True            10.0            89  2004     Ubisoft  \n",
       "2       True            1.83            81  2004    Nintendo  \n",
       "3       True          -100.0            81  2004        Sony  \n",
       "4       True             8.0            61  2004  Activision  "
      ]
     },
     "execution_count": 4,
     "metadata": {},
     "output_type": "execute_result"
    }
   ],
   "source": [
    "df_task_1a.head()"
   ]
  },
  {
   "cell_type": "markdown",
   "id": "36c62d50-9c88-4ed9-8c97-e552a6e4c620",
   "metadata": {},
   "source": [
    "### Task 1b: Fix Column Names"
   ]
  },
  {
   "cell_type": "markdown",
   "id": "ab8f8f24-afd2-424f-ab34-3e3cde723aa3",
   "metadata": {
    "trrack_graph": "ᯡ࠽䈌ʀ匦㢠⹰ࢀㆪこ<ǐʀ୥崡汤Ɓ䔠⍂⠨撂䂼ì债晶堪慯掩ᐠ▴ሰ璹㤨䮲减ⓥ䢧᜾㺣䉠ð䀡壅冨㕀ॢȠ௞䠸ᢀ眰䅽忖䀢晐樠Ԃ牠ΈƔڦ❓ሠƠ暬ॡ声Ȅ恨䙜⬮ಬ俨⫣䞐డ㙐᬴⣔䰲ճ㌰䊆၂۔欠㖹┰᧶༨̘ඛฌ琻ɋ㉄ܠ榡哸Ŝ.ؗ⾬ള勑̵㯺ᱱ曨ဩᒡᾪ३⁂惡৒ј⪖ᩋࢶ䥣䍢ᇃ⢀☾ԣ䖎㑝䳓ⳄⓀ᪱ĦҐ戤׌㝔䆦成扉ڠ凈㨣ೣㅘ湏Bࡤ䒠ଈତޗ٩䟨㣜㥨◈ᩲ㭡⟢䀠 "
   },
   "source": [
    "It looks like our dataset header went wrong when reading the file and some column headers end with a `?`. **Please remove the question marks from all headers**. "
   ]
  },
  {
   "cell_type": "markdown",
   "id": "63f4d5c5-9383-4857-beae-0cfa6ba466f2",
   "metadata": {},
   "source": [
    "#### **Instructions**\n",
    "1. **Rename Columns:**\n",
    "    - Use the interactive  table in Persist to correct the column names by removing the trailing `?` from their names:\n",
    "        - _Licensed?_ → _Licensed_\n",
    "        - _Multiplatform?_ → _Multiplatform_\n",
    "        - _Online?_ → _Online_\n",
    "2. **Verify the Output:**\n",
    "\t- Print the head of the generated dataframe to verify the changes."
   ]
  },
  {
   "cell_type": "code",
   "execution_count": 5,
   "id": "b7027112-7291-4136-926e-a4c06c7de200",
   "metadata": {
    "__GENERATED_DATAFRAMES__": "ᯡࠩ䃬࿀ᜤᠹ悋ᐨ怱䐢犲ǩ怶恉宑召䵬ð䀲悠ᄡḡ沯偑嬸Ř˛ࠥ笪  ",
    "__has_persist_output": true,
    "trrack_graph": "ᯡ࠽䈌ʀ匦㢠⹰ৠܡ䱈ᶥᐨ恍ἡ䘸҄ါᲠ汆࠰澠ٕޅ⚍砪抷囃㽄倡ᙰ䡣内恌♲䛝፶皽崘ԩࠣ℠Ό挠橠ኤРᜰ結üム湁Ý㮄Ҡָ䇈GᎲ;∫柠Ő憉㳜ౢ⼫ᥚ䣫⛢㎁偸᱐爴⌵୅䕢曡\"瘔خፄ୞䒨ᣥㆢ䀣擠䤄氶㥙࿇Ʀ䔇栢沀嚬儰⌸ሪ㖆Ⴂ癀䋊℘䬠㖸熠ᷚࣈ̛瘖䬠㍦व䄭㇗ѹ䃭ⰡḠއ殯䘤䷞碡䓮➾撂䳨ࠢ⊲∷ᐭƣ烸⑰䅀怷㉊䞪⡈ᔱ䅢࠸ᐶ䃠墬㤷䅀墑➭甙⑭థ嚛์红ᚪ挑≹ᇪ爉♻ᗫ犥ㅴ坈ⅰ殽䦩戩ብᐄ㊬ㅨ⡉ૹᣓ打炕⮬抒ᠳ 䉠䀬K䲆ĺy㧀扻幦ᖢ炠ʃ?䒊塀宝夎㭽瞇䭶ͼ₸ࢉ䀠絳⋵㚘㹟၌্慿䚦䊱в垮憑ぢܨ⨰ᜢ䨡㡂᝾̊♵窗径烙剬ܧ䄱␪ᪧ⁑䱖Υ愑籡ᡩቕ䵶䏊夔紡彋䂲⢑劍ᡢ猥䗌嫍殝஁̍筣弊㫬ū嬋㤽穘ɣ!∷▆珚䁰к礣䶀㰈畞Ṭ䘀籿Ф㙶ߡʀ呅0Ḃ䡡৶峯Ǒ㓾੠Ĕ婹Ҡ偢梡࣪᫦㍲榔厦ס烦Ɂ味憡㑕揁⡿⌁獤؄殿ː∽੤∦䅂⋲ᅠ⠴尀㐥̬⩴䎲ာ䒠塊≐慖䛁ీ䑬8ⱥⴻ⣡愆ᘪ墹䞈ᵑࢤ嵗⨉␳း婀晒攃䇐繟䀩ŋ࿈⹉̓宙׹ᑾ櫀ܭ౛㑑歇⩺丫䡳毠㎒ָ᡼澹娸ѻ〲晹ᓪ澣⭺曛䑩Ջ拤厺ㄴ塻୊੻䬼垵殊䲃䅗൘扥൮䂁ĸ؈絮嘣㫐ඦ䌶滄掖傺᩿က⍰䈠堲ྡ₆ֲࢁ⾩⠫䉢ᡂ澡⡭嚰ض౩䭄⽺䃆昻䉈䍉㦙⯩剅⋋ぜ䛊䕒䢺❖䧳㩾俲ٔݢ梒˙☹䇛ⱍ拒㾝梘๟暓佑֐彯殚恧洙⼨Ⱋ溝น爕候Ṁᝪ屐ᄤഐ∳䤘ጡ䘨ऀ哋ཤ䂔ṕ㔘昢甗交泓ᠺⲯℵ槷Ӈ䝫嫭哶匡㦲ᯯ僎叴䘊㒆岅㱖䘙ᅤ䀤ᒀ梴ᵌᣆᎦರᆒ堰㔡ᚴ⌫⫼⡃ࡌ䭠獒洱⠬റᅺେᴏఓ繠ⴂ㴏᛹摮检笵࿻呁旂䜱ઘ橧ส≳棗ᛵ廠㜊ූ皢到㲲亼र晩⃕ᚵ墨玢䧗珝命禃噿仦友ᬝ⤹嬍ᶈ9ᢪ䓠ᰦ椚濄ṧ夙ᝦ絛湆羘䲆䪃屖⎁౻ᱲ⅓㚌䯈⩾䭒浵ⲋ͵燞甇笇⁕䃰ᔦت泯ᣁ勣ࠑ曣外ɒ㲱䘆䙟䌸ἳ猜๓㸯愞䊁Ǥ掙ⓢ࣐䩢⦺୳㐱殚㒆暄㚌懭㋾Ⲕ佩ᗀ棋㛐⦑㙲ⰳᘫ枢㳠䋇䧠柊妻Ḳ䡚ാ㚢⇚濌䡥䷐㓸墨ઐଢ䂌ʠⷃ䲍䵡ࢭᘐŋᄬȔ໱孺׀旎₞浕ǭ摣䴱䏌䂖ʦ皅Ќ㔨Ჺɘ㨲↳䩉ဦ˒Ổ堶戒ऀㄡ⌼♄ᐳ䋦ፙ値✒䡬痎㗋乻⏕䷰瑫䔈〹桷㇢  "
   },
   "outputs": [
    {
     "data": {
      "application/vnd.jupyter.widget-view+json": {
       "model_id": "a190b3d96ca2453bb094e85888e6d4ed",
       "version_major": 2,
       "version_minor": 0
      },
      "text/plain": [
       "PersistWidget(data_values=[{'__id_column': '1', 'Title': 'Super Mario 64 DS', 'Max Players': '1', 'Multiplatfo…"
      ]
     },
     "execution_count": 5,
     "metadata": {},
     "output_type": "execute_result"
    }
   ],
   "source": [
    "PR.PersistTable(df_task_1a, df_name=\"df_task_1b\")"
   ]
  },
  {
   "cell_type": "code",
   "execution_count": 6,
   "id": "f6b8e62c-fb4c-4e1b-b396-a1cc598a370f",
   "metadata": {},
   "outputs": [
    {
     "data": {
      "text/html": [
       "<div>\n",
       "<style scoped>\n",
       "    .dataframe tbody tr th:only-of-type {\n",
       "        vertical-align: middle;\n",
       "    }\n",
       "\n",
       "    .dataframe tbody tr th {\n",
       "        vertical-align: top;\n",
       "    }\n",
       "\n",
       "    .dataframe thead th {\n",
       "        text-align: right;\n",
       "    }\n",
       "</style>\n",
       "<table border=\"1\" class=\"dataframe\">\n",
       "  <thead>\n",
       "    <tr style=\"text-align: right;\">\n",
       "      <th></th>\n",
       "      <th>Title</th>\n",
       "      <th>Max Players</th>\n",
       "      <th>Multiplatform</th>\n",
       "      <th>Online</th>\n",
       "      <th>Genres</th>\n",
       "      <th>Licensed</th>\n",
       "      <th>Comp_Time_Main</th>\n",
       "      <th>Review Score</th>\n",
       "      <th>Year</th>\n",
       "      <th>Publishers</th>\n",
       "    </tr>\n",
       "  </thead>\n",
       "  <tbody>\n",
       "    <tr>\n",
       "      <th>0</th>\n",
       "      <td>Super Mario 64 DS</td>\n",
       "      <td>1</td>\n",
       "      <td>True</td>\n",
       "      <td>True</td>\n",
       "      <td>Action</td>\n",
       "      <td>True</td>\n",
       "      <td>14.5</td>\n",
       "      <td>85</td>\n",
       "      <td>2004</td>\n",
       "      <td>Nintendo</td>\n",
       "    </tr>\n",
       "    <tr>\n",
       "      <th>1</th>\n",
       "      <td>Lumines: Puzzle Fusion</td>\n",
       "      <td>1</td>\n",
       "      <td>True</td>\n",
       "      <td>True</td>\n",
       "      <td>Strategy</td>\n",
       "      <td>True</td>\n",
       "      <td>10.0</td>\n",
       "      <td>89</td>\n",
       "      <td>2004</td>\n",
       "      <td>Ubisoft</td>\n",
       "    </tr>\n",
       "    <tr>\n",
       "      <th>2</th>\n",
       "      <td>WarioWare Touched!</td>\n",
       "      <td>2</td>\n",
       "      <td>True</td>\n",
       "      <td>True</td>\n",
       "      <td>Action</td>\n",
       "      <td>True</td>\n",
       "      <td>1.83</td>\n",
       "      <td>81</td>\n",
       "      <td>2004</td>\n",
       "      <td>Nintendo</td>\n",
       "    </tr>\n",
       "    <tr>\n",
       "      <th>3</th>\n",
       "      <td>Hot Shots Golf: Open Tee</td>\n",
       "      <td>1</td>\n",
       "      <td>True</td>\n",
       "      <td>True</td>\n",
       "      <td>Sports</td>\n",
       "      <td>True</td>\n",
       "      <td>-100.0</td>\n",
       "      <td>81</td>\n",
       "      <td>2004</td>\n",
       "      <td>Sony</td>\n",
       "    </tr>\n",
       "    <tr>\n",
       "      <th>4</th>\n",
       "      <td>Spider-Man 2</td>\n",
       "      <td>1</td>\n",
       "      <td>True</td>\n",
       "      <td>True</td>\n",
       "      <td>Action</td>\n",
       "      <td>True</td>\n",
       "      <td>8.0</td>\n",
       "      <td>61</td>\n",
       "      <td>2004</td>\n",
       "      <td>Activision</td>\n",
       "    </tr>\n",
       "  </tbody>\n",
       "</table>\n",
       "</div>"
      ],
      "text/plain": [
       "                      Title Max Players  Multiplatform  Online    Genres  \\\n",
       "0         Super Mario 64 DS           1           True    True    Action   \n",
       "1    Lumines: Puzzle Fusion           1           True    True  Strategy   \n",
       "2        WarioWare Touched!           2           True    True    Action   \n",
       "3  Hot Shots Golf: Open Tee           1           True    True    Sports   \n",
       "4              Spider-Man 2           1           True    True    Action   \n",
       "\n",
       "   Licensed  Comp_Time_Main  Review Score  Year  Publishers  \n",
       "0      True            14.5            85  2004    Nintendo  \n",
       "1      True            10.0            89  2004     Ubisoft  \n",
       "2      True            1.83            81  2004    Nintendo  \n",
       "3      True          -100.0            81  2004        Sony  \n",
       "4      True             8.0            61  2004  Activision  "
      ]
     },
     "execution_count": 6,
     "metadata": {},
     "output_type": "execute_result"
    }
   ],
   "source": [
    "df_task_1b.head()"
   ]
  },
  {
   "cell_type": "markdown",
   "id": "3875e7fc-ec40-4241-aa94-87b31e59944f",
   "metadata": {},
   "source": [
    "## Task 1c: Correcting Data Type of 'Max Players'"
   ]
  },
  {
   "cell_type": "markdown",
   "id": "7a7eebda-1b60-4bff-89d3-a5548a601b49",
   "metadata": {},
   "source": [
    "There is a data type issue in `Max Players` column of our dataframe. The column is a category column and should have the pandas dtype of `category`."
   ]
  },
  {
   "cell_type": "code",
   "execution_count": 7,
   "id": "fb9bff61-9a8d-4114-97f3-4f6d0cd0e61e",
   "metadata": {},
   "outputs": [
    {
     "data": {
      "text/plain": [
       "Title             string[python]\n",
       "Max Players       string[python]\n",
       "Multiplatform            boolean\n",
       "Online                   boolean\n",
       "Genres            string[python]\n",
       "Licensed                 boolean\n",
       "Comp_Time_Main           Float64\n",
       "Review Score               Int64\n",
       "Year                       Int64\n",
       "Publishers        string[python]\n",
       "dtype: object"
      ]
     },
     "execution_count": 7,
     "metadata": {},
     "output_type": "execute_result"
    }
   ],
   "source": [
    "df_task_1b.dtypes"
   ]
  },
  {
   "cell_type": "markdown",
   "id": "b23913ac-ea3c-4ca1-8ac3-07d3026ca76e",
   "metadata": {
    "__GENERATED_DATAFRAMES__": "{\"nodeDataframes\":{},\"graphDataframes\":null}",
    "show_aggregate_original": "false",
    "trrack_graph": "ᯡ࠽䈌ʀ匦㢠⹰ೠ↺΀Ơ瘢ᠢᠫ‵䁇ፉ䐢怣侽振ၑ䶃᪰঵䂆⹉多䪲┠অҤᴶṂ㊵嘊᭓ㄅ毠㒰䣑Tဠ㚉҃೨ɰ䂠̂҆;䘸Ϥၗ眼䋐Ð䬹†于␠㚠ᝨ沂烒⎁൸憈㬸ᐠṬү䓧Ⴠ椓ᣘ⌚ᆠᛦކ䜱ǁ䅀㖖नຂᩈ桫〦塵偢㶱⢠⾱䂅埦䖃塀㪂ₐ暸ᵽ䀳怠煼砤慸㴻ࠩ㯏姭ঌ䄢䣫䧙㱈刱ㄿᬦ䩫⏃㌱楫磤ⰴຣα晼ਫ䎁㺕䮃Ⴤご䖂᥂挰ы゙㈬ܠ₰ᑊІ僑汮ޯ戩䉱៪怡⹁ᡤ甑擸抯॰ᡬᅓ╄璚╄㈠ "
   },
   "source": [
    "#### **Instructions**\n",
    "1. **Convert `Max Players` column to category:**\n",
    "    - Use the column header to switch data type of the `Max Players` column.\n",
    "2. **`Edit Categories` pop-up:**\n",
    "    - Inspect the `Edit Categories` pop-up in the toolbar. Look for any redundant categories (e.g. both `1` and `1P`)\n",
    "3. **Edit and Correct Entries:**\n",
    "    - Search for the cells having the redundant option using the search box.\n",
    "    - Edit the cells to remove the trailing `P` (e.g. `1P` to `1`)\n",
    "3. **Verify the Output:**\n",
    "\t- Print the head of the generated dataframe to verify the changes.\n",
    "    - Also print the dtypes of the dataframe"
   ]
  },
  {
   "cell_type": "code",
   "execution_count": 8,
   "id": "84bd3f29-2697-4f40-ab16-27f6540912aa",
   "metadata": {
    "__GENERATED_DATAFRAMES__": "ᯡࠩ䃬࿀ᜤᠹ悋ᐨ恑䐢犲ǩ怶恉宑召䵬ð䀲悠ᄡḡ沯妶ᠢ㠪癀ఄᐠ ",
    "__has_persist_output": true,
    "trrack_graph": "ᯡ࠽䈌ʀ匦㢠⹰ӣ¬ㄌ׀Π㌪⢐ˠƪ㨘࠸恛ܠ昢壅၁䖠汮䦃䎲⠠䭈⑀楓メ噆⥺傣㍖乜簥С傠ǐ瓧兀ॢȠந⺸ᢀ地䆼廒ୠˤ⽴Gβ;∭愀僠堡ఠ丼㝉ᾡ┰⇧۲撂Ҙ劔ܵᚯཫ℠̊甔癐捤㥎嚠ᇡㆢ䀣擠䡱窒ᑴ⟆ጺ⁄༈ƌ〶ↄࠧల॑㄰䂖Ⴃ敀璓U咃䠅席ᐢ綔箫☮ⴥ䄵㻗y䌨䁌¾'␓䯦୥官䂩ທᛡ惵⊑᧢䅐停̯⃀㠬䦠䠐ш䜨ᢐ焢ਭ怱搮ੂ拱搶֮狜Ἡǃŕགྷ䆻冤ᆈ乀䥄ᐴ䵊₄ᤌ坏䮱ւ䨆ၩ䴒ቋ௥श᥊䯅ᦞ⽀⤴┪僭⡨➶〣䱺!ᚡȈw⣬ɔĄL䎠ഠʡ䌑䄜㠭和劀彤஍儉絤ࠁ㲍眵␪糭䭸'樚৏ø篵广B墤Ლᮢ怰㰲প═搸⹃਀ⱦ޺∭璔ᚣற奒坦稌็ቡ䆁桼Ⴏၰ吺ժ提屾ᾨᏘ㓚ⷂ妔㵞䔮⎱⑈徦ᡬ印ᚏᥔ䬼綉塠㭝䄋㢼㍟ᴉ㭽ݽฦრqጩ䈙ῳᐢڜ⁙匡翁旝眽ኘ纤䌌ᘷ䘥⃐┠ျ悰Ļ恐ᥛ䖣Ḥ䀡瓰㝡ȶ吀碑䫲✏ء⚚䰤ᩀԆ⇈㧧↸㵑X㼫੤㐷᫄㺢測ଵᄘᲡ䓔ː၂⎤值̲ㄔަ烼੃恑֧勺ন䤙ᱤ癭ᜮ㢘㓰婶䀡॔ภÉ⢤Ϥ䣇䄋ᵗ⇠㵏┥⤊∹䌷䃤ᦕ丒纟䠨ⰳ̡ᠩՀ݁摠䡱擁桦ज़吹旀ᢪ䕰橈䮙猢摻㠲晸⭕ᆨ歚歠᭲Ӹ孖枢䔨⍓獢汻ᡂ婢⭲孹䠪壻᭶滸㕃ŀuᯥķৎ⏍㷄畽㯉痝㚤㓤㏌ᠣⷅृදゃࠢ桤֢䷊ㆡ䲜㾨ॶỵႥ㨮ⷷਭ惨⹱䒂㹣䈈⑮䀨ప₸㨯⃀㢮壛㚋汅ᓆ斅㳍料ᙣ䡵჆嘇⍬梷❭榚㤮峤䨨↗ⓤ礯▬㶶‾㵏㻦ͮ㸂၎ᗣ㣶ఆ絟㠏⚾⠻㦔〱曶㠰硜啌熀簿㊰䠢䋰䰪ᡀ㶭䈬縲㐃ֹᢌ䟠䄸磜扠⬹㧸朴㌨䠬⌘䒯嬮䙧冬ۑᙸ䰡䎕峑ㄬ䠧䏘凛捨繅㿲╪窶↻Ḫ⫾媲恰◭ࣂॊ⇲皼熔揜瞬哰Ą᱘恢ຓ䊒王䡺爆姳ò㬂偃勮✓䘹׭妸☞䪗碑徂ⷤ䊨ౠⴐ㼿急ุ⢫ჟㆰ爼ⱱ掲⭱叆䎽㟅⟐㔪לさ淁㝮ߛ྇߬⽻椚ⰷ樚罠ᢥ惉嵿氆窚㯠揿ᾗ減罣㿱᪭℡⎘浧ᎉ亻㧫䮓୹㗫䣳䎡ύශ⁍叺᷋沆撕᛾㥓ᴈ猨pⅦ౺²嘢䄈䩡㒤┧£䬳ͧḡ搲⁞䇡氼ⷹ㭷ᖺ䃊媫ζ㭱ᖊ挊竫橕⁔ḥ౺᷃凊熃ར喒Ϡ粏屓ݑ䓱ㅩ厸㙖挌║床゜㚏ᇏ䬠⳧碎ᐠ秚掓1⢰¢暠ᛄⱍ㡴⵶ṛ㖽姑⦒ᥖ矒⬉ვ旌㫫Ի奘囅㪱⠯㣩㟖⼳Ⅽ撄滭嶼ࢂୗπॳ恩⎨ⷮ䄈ڱ刹䄐႐怠䤜ᕷ⁮烬Ἄଝ渵ᅸ㳒㒘ᐸ獈┒中ּ℧ẹ⒠ж磰ィ䒶ާⸯ悼с戺∄ᩨ⥔籠౱⊂ᢀ坩惒؉纼患Ꮹ䍊䌦䭳ᰧ硭⋒婻␞秅瑖䓔⭤ʂả䂄զభᭈZ砲㨾ң妸ၠਠƦ᳂〲⋾寈穸䴱潪ႀᘊ廌d㔩̾杞ణ㪗▬对疏䒣矁穟ਖ⍺╦ĸ䁋䦭段⑰ᒠ値䘳㒨ⰳ捆䔵㱴枘橗礹䓧ᦷ焈筒ᤚⱑ橺ㆿਡ偨Ⲻѻ嶭ℤⶬ磝㞶炾⺞ᅀⰤ猢㛻ʈ喤䯐䒯グ勢油ឡའ䃑ᡚ䡗à㔡䤢⟠☯䒑ហ⠶䄑ᙙื㤴徕ղ䨾椡⧣䙝啑ᕴໆ勌碅̒⁲לុĈ༓䰫猣䦢纚䯂㴤̀⿨Έᔕ⅁䇍獂᱗䡗敦婡䚠⨥ⱨ䶀嫒濣㋟䮆翌氟˰᳀ດᐢ䁑ร␪σᘧ⺙嬽∫ᵧ侱ࡻ嬍ᕓ⨦㌐㱁穴İ䋬ᑁ䳁㵋愸忣䮣೷ิ坑ᝬᅓዙ࿅犄凷䯭⩖䴿ƹ湃ᛓ〃棶⡑၅㶜椥匧䭢㾷ࢸ姷࣌㢷㚑ź煖嗄䗮⨼㯥䮥㣘椰㚸䖵㬿ᔿ嬌珒በੀ做,ᙗᙚɌ㈢匈䇠ձ䄑ᮡ㇚ˤ憦灚嗕䊴ਮ停故檂䒓䞭▚䩱佦䰕㖲悬䷍昷壂䒙嵵⑅Ԃ侚䭪窮㒞ਭ⧕獣⍖㹶㙦璏糘桍ၴ且䐠 "
   },
   "outputs": [
    {
     "data": {
      "application/vnd.jupyter.widget-view+json": {
       "model_id": "12e4f35a03f742f8a4c75d42f43cabe1",
       "version_major": 2,
       "version_minor": 0
      },
      "text/plain": [
       "PersistWidget(data_values=[{'__id_column': '1', 'Title': 'Super Mario 64 DS', 'Max Players': '1', 'Multiplatfo…"
      ]
     },
     "execution_count": 8,
     "metadata": {},
     "output_type": "execute_result"
    }
   ],
   "source": [
    "PR.PersistTable(df_task_1b, df_name=\"df_task_1c\")"
   ]
  },
  {
   "cell_type": "code",
   "execution_count": 9,
   "id": "7bd558e5-8de7-441d-a952-9ba2ea052358",
   "metadata": {},
   "outputs": [
    {
     "data": {
      "text/html": [
       "<div>\n",
       "<style scoped>\n",
       "    .dataframe tbody tr th:only-of-type {\n",
       "        vertical-align: middle;\n",
       "    }\n",
       "\n",
       "    .dataframe tbody tr th {\n",
       "        vertical-align: top;\n",
       "    }\n",
       "\n",
       "    .dataframe thead th {\n",
       "        text-align: right;\n",
       "    }\n",
       "</style>\n",
       "<table border=\"1\" class=\"dataframe\">\n",
       "  <thead>\n",
       "    <tr style=\"text-align: right;\">\n",
       "      <th></th>\n",
       "      <th>Title</th>\n",
       "      <th>Max Players</th>\n",
       "      <th>Multiplatform</th>\n",
       "      <th>Online</th>\n",
       "      <th>Genres</th>\n",
       "      <th>Licensed</th>\n",
       "      <th>Comp_Time_Main</th>\n",
       "      <th>Review Score</th>\n",
       "      <th>Year</th>\n",
       "      <th>Publishers</th>\n",
       "    </tr>\n",
       "  </thead>\n",
       "  <tbody>\n",
       "    <tr>\n",
       "      <th>0</th>\n",
       "      <td>Super Mario 64 DS</td>\n",
       "      <td>1</td>\n",
       "      <td>True</td>\n",
       "      <td>True</td>\n",
       "      <td>Action</td>\n",
       "      <td>True</td>\n",
       "      <td>14.5</td>\n",
       "      <td>85</td>\n",
       "      <td>2004</td>\n",
       "      <td>Nintendo</td>\n",
       "    </tr>\n",
       "    <tr>\n",
       "      <th>1</th>\n",
       "      <td>Lumines: Puzzle Fusion</td>\n",
       "      <td>1</td>\n",
       "      <td>True</td>\n",
       "      <td>True</td>\n",
       "      <td>Strategy</td>\n",
       "      <td>True</td>\n",
       "      <td>10.0</td>\n",
       "      <td>89</td>\n",
       "      <td>2004</td>\n",
       "      <td>Ubisoft</td>\n",
       "    </tr>\n",
       "    <tr>\n",
       "      <th>2</th>\n",
       "      <td>WarioWare Touched!</td>\n",
       "      <td>2</td>\n",
       "      <td>True</td>\n",
       "      <td>True</td>\n",
       "      <td>Action</td>\n",
       "      <td>True</td>\n",
       "      <td>1.83</td>\n",
       "      <td>81</td>\n",
       "      <td>2004</td>\n",
       "      <td>Nintendo</td>\n",
       "    </tr>\n",
       "    <tr>\n",
       "      <th>3</th>\n",
       "      <td>Hot Shots Golf: Open Tee</td>\n",
       "      <td>1</td>\n",
       "      <td>True</td>\n",
       "      <td>True</td>\n",
       "      <td>Sports</td>\n",
       "      <td>True</td>\n",
       "      <td>-100.0</td>\n",
       "      <td>81</td>\n",
       "      <td>2004</td>\n",
       "      <td>Sony</td>\n",
       "    </tr>\n",
       "    <tr>\n",
       "      <th>4</th>\n",
       "      <td>Spider-Man 2</td>\n",
       "      <td>1</td>\n",
       "      <td>True</td>\n",
       "      <td>True</td>\n",
       "      <td>Action</td>\n",
       "      <td>True</td>\n",
       "      <td>8.0</td>\n",
       "      <td>61</td>\n",
       "      <td>2004</td>\n",
       "      <td>Activision</td>\n",
       "    </tr>\n",
       "  </tbody>\n",
       "</table>\n",
       "</div>"
      ],
      "text/plain": [
       "                      Title Max Players  Multiplatform  Online    Genres  \\\n",
       "0         Super Mario 64 DS           1           True    True    Action   \n",
       "1    Lumines: Puzzle Fusion           1           True    True  Strategy   \n",
       "2        WarioWare Touched!           2           True    True    Action   \n",
       "3  Hot Shots Golf: Open Tee           1           True    True    Sports   \n",
       "4              Spider-Man 2           1           True    True    Action   \n",
       "\n",
       "   Licensed  Comp_Time_Main  Review Score  Year  Publishers  \n",
       "0      True            14.5            85  2004    Nintendo  \n",
       "1      True            10.0            89  2004     Ubisoft  \n",
       "2      True            1.83            81  2004    Nintendo  \n",
       "3      True          -100.0            81  2004        Sony  \n",
       "4      True             8.0            61  2004  Activision  "
      ]
     },
     "execution_count": 9,
     "metadata": {},
     "output_type": "execute_result"
    }
   ],
   "source": [
    "df_task_1c.head()"
   ]
  },
  {
   "cell_type": "code",
   "execution_count": 10,
   "id": "d97f7ac6-6ab8-441b-93d2-5d26fb2ce757",
   "metadata": {},
   "outputs": [
    {
     "data": {
      "text/plain": [
       "Title             string[python]\n",
       "Max Players             category\n",
       "Multiplatform            boolean\n",
       "Online                   boolean\n",
       "Genres            string[python]\n",
       "Licensed                 boolean\n",
       "Comp_Time_Main           Float64\n",
       "Review Score               Int64\n",
       "Year                       Int64\n",
       "Publishers        string[python]\n",
       "dtype: object"
      ]
     },
     "execution_count": 10,
     "metadata": {},
     "output_type": "execute_result"
    }
   ],
   "source": [
    "df_task_1c.dtypes"
   ]
  },
  {
   "cell_type": "markdown",
   "id": "753ed0a8-dc0b-4ac8-8afd-b554ea8f4d28",
   "metadata": {},
   "source": [
    "# Task 2: Filtering data\n",
    "\n",
    "In Task 2, we further improve our data by removing outliers and removing certain records to have more consistent data. "
   ]
  },
  {
   "cell_type": "markdown",
   "id": "7f25d8f5-98e8-4b0f-9358-ed85f77cbed8",
   "metadata": {},
   "source": [
    "## **Task 2a: Remove Outliers**"
   ]
  },
  {
   "cell_type": "markdown",
   "id": "ac53a605-2d10-4457-9625-70ce88f04f3b",
   "metadata": {},
   "source": [
    "In this task, we address data accuracy by filtering out anomalies in the completion time for the main story of game. We observe some records with negative values for completion time, which is obviously incorrect data.\n",
    "\n",
    "**Remove records with negative completion time.**"
   ]
  },
  {
   "cell_type": "markdown",
   "id": "664c641e-1193-4233-8897-0161f209c86f",
   "metadata": {},
   "source": [
    "#### **Instructions**\n",
    "1. **Identify and Remove Anomalies:**\n",
    "    - Interactively select data points negative value for `Comp_Time_Main`.\n",
    "    - Use Persist's interactive features to remove these anomalous records.\n",
    "2. **Verify the Output:**\n",
    "    - Print the head of the generated dataframe to verify the changes."
   ]
  },
  {
   "cell_type": "code",
   "execution_count": 11,
   "id": "9f84d347-8ce1-48d8-84a9-478d7eae3bd6",
   "metadata": {
    "__GENERATED_DATAFRAMES__": "ᯡࠩ䃬࿀ᜤᠹ悋ᐤ推̅ሣ䧠ⶠ卍捯ᥔᠣ℠▢dʘϔᝠ捌〤瀵摠៨⠠ ",
    "__has_persist_output": true,
    "trrack_graph": "ᯡ࠽䈌ʀ匦㢠⹱₆Ĺ⠻L⠳䁍ء汘摇吢㈿䪓ՠᣵÌ¬嫟䙶Ⱐᱩ•ⳁႣ⓫䁸䲥㕚٬ᓺ㤓瀼ሠڤ-䁁䮬⇉j࠰}穠怣㣣ߘ䈺滣欠୑䍈3嗩-儧珃僈呄呢㲃ኧ⡬〠㐃ೲ㣈ⅴㆩᚵ亾䋡\"琭ۮ獄㩡喤᲋ㆢ䀣擠䤈ቲ穚㚽Ꭱ愁႐డ㙐它⢨ᣬणᷓࡡ㬰慵၎ච᫢㲄෿ѴƜڧᗊ㇋ᛡǕ宦ⳡ枌¾'௧俠⯑碡䒎Ω晐⳨ࠢ⊲桴ᐨ↡㡥ℵ䆡⤔ャ烦ᄵʡト㩸杠㡅࣡枙㹲፦ƈ廇̀抨抑ɩአ劢ᩳ᛫೙㹰噊䬅ъओ᧑㱱ᕣጄᝃየ犙Ũ光䨮ব朤䀠㋙䁅㓀!,Ⴀ☿?‡⦨卫‫ᙑŦ䀢䡧痲⎍䄢ᭈ簠१儻ᚇౣ!湦仕䂠䊎埇橗焈旋ľ᰿ⷘ紞⁤᝸≴ᅅก㠾横䖂⡅㙬拡ゴ㽪ّԉႷƣ䩻߰疓峲ػϡࣄ㌹⟂ᣬڻ䘃碢ࢱ嚊ල㝷嚨٣㸳ᕢ⛳Ⳣࡹᙍ⫨嫸瘰㻰癘ἇ㳨ዘ溗ৠ掠⑐4⬰ᰎᐤଘ䀠ଆÀ7㳿㏪神㟢ě⶧灡ᡎॠС磄ࡡ硬ੀ爀澥ဠ㵅ᆘوᑐ䂌໬㕎㝙⢚ऑᢖू火⟢ḡથ⑸Ⴣ傴ƨ㠷ՠ㖭Ơ䨠䇡зہ桁ȸ㠶ߠ㮪㞤尨ׂ›઱䘴Ұؾూ摯ଃ撗攠暥凔皬ҕ亱ㄕ椣Ⓚ䈠υ琮㷨礮㚢況䧧ٱ䙓䛿ీ㑉姯␼ࡠ焘ᔣಇᵬ椾᭭楌㛣ㅀ«æંⅆ⩢儦乓⦚ສ楚㜭ㆤ⨂י➨泀Ыࢣ䇢儁假岁ᐥ㘆በ礆⫵嬖䧲ʙ夓吾 硲ᡊ挵⻍圕伬ᩦ棶ᢤ凑㎭ိ獭⩣扸㕋㈹砼ᆤ筑攀ᝍ暙佛昈ガᑥ⣆ᖬ㴽ၴ㎬炵൞䟬狏♵癋䄤⁎̘䭸䛵塈૔€䘽䚷戜f຦⨪⃨ᇾ⎮┦䅮㔥䏐㧻≎拈拴災Ͼዦ玖嘢媀櫶夲䥛奖ᰥ姖໫墪焱㓳㋾乶⚇Ƕ嚑孖璵寖仼䎴檴憍僢だ᜸栵宭儺⛆lР悆䇵嘸墏ᠤ悴ၜ娮ॵ䭪奵၊广䣊ⅽ⭎婵㯌ắ冎᰿Ĩᰶ䐎᦮㌾㬴秌䁒签⎤現䮬⍼宣噜࿻祰忮ㆡ䁄܇ࡄŜ㩺؍哑ܹᑇ璁嶕⽑絈ಣも೭ӗ璤ᖅ恵㓊唚痍峷伞帣ೋᔅȁ䛷⼀ഗ癘痭欒㶁媛必≆㜹㫄̻厂㲠䙅㳯㘓䒠稃怩⨫Ƹ⨨∰⨣䊴䨤寰㹿Ŗ䄷䊴Ṩⅰ琡㹅㿂䨭憴倬⁢ᜁ伴ᥨТƛ՘ⶫ磌ထ­惱䌻ܼ䆮⊢㼵ڼ甤♺Ù㨾碊ף䅍ɒ㼑塡擦䰰倳䞭⨦㠨㺐琲炠⬢ŀ䇖⤠ᚔ惬喦奥䖸᭛᪓೑獕ሠ  "
   },
   "outputs": [
    {
     "data": {
      "application/vnd.jupyter.widget-view+json": {
       "model_id": "959c8801abd84861a406902548c81ab7",
       "version_major": 2,
       "version_minor": 0
      },
      "text/plain": [
       "PersistWidget(data_values=[{'__id_column': '1', 'Title': 'Super Mario 64 DS', 'Max Players': 1, 'Multiplatform…"
      ]
     },
     "execution_count": 11,
     "metadata": {},
     "output_type": "execute_result"
    }
   ],
   "source": [
    "PR.plot.scatterplot(df_task_1c, \"Comp_Time_Main:Q\", \"Review Score:Q\", df_name=\"df_task_2a\")"
   ]
  },
  {
   "cell_type": "code",
   "execution_count": 12,
   "id": "ffb05c08-17df-40c7-a980-8ca7cbd4b0a1",
   "metadata": {},
   "outputs": [
    {
     "data": {
      "text/html": [
       "<div>\n",
       "<style scoped>\n",
       "    .dataframe tbody tr th:only-of-type {\n",
       "        vertical-align: middle;\n",
       "    }\n",
       "\n",
       "    .dataframe tbody tr th {\n",
       "        vertical-align: top;\n",
       "    }\n",
       "\n",
       "    .dataframe thead th {\n",
       "        text-align: right;\n",
       "    }\n",
       "</style>\n",
       "<table border=\"1\" class=\"dataframe\">\n",
       "  <thead>\n",
       "    <tr style=\"text-align: right;\">\n",
       "      <th></th>\n",
       "      <th>Title</th>\n",
       "      <th>Max Players</th>\n",
       "      <th>Multiplatform</th>\n",
       "      <th>Online</th>\n",
       "      <th>Genres</th>\n",
       "      <th>Licensed</th>\n",
       "      <th>Comp_Time_Main</th>\n",
       "      <th>Review Score</th>\n",
       "      <th>Year</th>\n",
       "      <th>Publishers</th>\n",
       "    </tr>\n",
       "  </thead>\n",
       "  <tbody>\n",
       "    <tr>\n",
       "      <th>0</th>\n",
       "      <td>Super Mario 64 DS</td>\n",
       "      <td>1</td>\n",
       "      <td>True</td>\n",
       "      <td>True</td>\n",
       "      <td>Action</td>\n",
       "      <td>True</td>\n",
       "      <td>14.5</td>\n",
       "      <td>85</td>\n",
       "      <td>2004</td>\n",
       "      <td>Nintendo</td>\n",
       "    </tr>\n",
       "    <tr>\n",
       "      <th>1</th>\n",
       "      <td>Lumines: Puzzle Fusion</td>\n",
       "      <td>1</td>\n",
       "      <td>True</td>\n",
       "      <td>True</td>\n",
       "      <td>Strategy</td>\n",
       "      <td>True</td>\n",
       "      <td>10.0</td>\n",
       "      <td>89</td>\n",
       "      <td>2004</td>\n",
       "      <td>Ubisoft</td>\n",
       "    </tr>\n",
       "    <tr>\n",
       "      <th>2</th>\n",
       "      <td>WarioWare Touched!</td>\n",
       "      <td>2</td>\n",
       "      <td>True</td>\n",
       "      <td>True</td>\n",
       "      <td>Action</td>\n",
       "      <td>True</td>\n",
       "      <td>1.83</td>\n",
       "      <td>81</td>\n",
       "      <td>2004</td>\n",
       "      <td>Nintendo</td>\n",
       "    </tr>\n",
       "    <tr>\n",
       "      <th>3</th>\n",
       "      <td>Hot Shots Golf: Open Tee</td>\n",
       "      <td>1</td>\n",
       "      <td>True</td>\n",
       "      <td>True</td>\n",
       "      <td>Sports</td>\n",
       "      <td>True</td>\n",
       "      <td>-100.0</td>\n",
       "      <td>81</td>\n",
       "      <td>2004</td>\n",
       "      <td>Sony</td>\n",
       "    </tr>\n",
       "    <tr>\n",
       "      <th>4</th>\n",
       "      <td>Spider-Man 2</td>\n",
       "      <td>1</td>\n",
       "      <td>True</td>\n",
       "      <td>True</td>\n",
       "      <td>Action</td>\n",
       "      <td>True</td>\n",
       "      <td>8.0</td>\n",
       "      <td>61</td>\n",
       "      <td>2004</td>\n",
       "      <td>Activision</td>\n",
       "    </tr>\n",
       "  </tbody>\n",
       "</table>\n",
       "</div>"
      ],
      "text/plain": [
       "                      Title  Max Players  Multiplatform  Online    Genres  \\\n",
       "0         Super Mario 64 DS            1           True    True    Action   \n",
       "1    Lumines: Puzzle Fusion            1           True    True  Strategy   \n",
       "2        WarioWare Touched!            2           True    True    Action   \n",
       "3  Hot Shots Golf: Open Tee            1           True    True    Sports   \n",
       "4              Spider-Man 2            1           True    True    Action   \n",
       "\n",
       "   Licensed  Comp_Time_Main  Review Score  Year  Publishers  \n",
       "0      True            14.5            85  2004    Nintendo  \n",
       "1      True            10.0            89  2004     Ubisoft  \n",
       "2      True            1.83            81  2004    Nintendo  \n",
       "3      True          -100.0            81  2004        Sony  \n",
       "4      True             8.0            61  2004  Activision  "
      ]
     },
     "execution_count": 12,
     "metadata": {},
     "output_type": "execute_result"
    }
   ],
   "source": [
    "df_task_2a.head()"
   ]
  },
  {
   "cell_type": "markdown",
   "id": "b447b862-90c6-4ed7-b48b-baa1cf74ac2d",
   "metadata": {
    "__GENERATED_DATAFRAMES__": "{\"nodeDataframes\":{},\"graphDataframes\":null}",
    "show_aggregate_original": "false",
    "trrack_graph": "ᯡ࠽䈌ʀ匦㢠⹰࣠✴ƀචآ൐ୠᣠ⭎¸䚀ᶥ<⋵攴≲䦆ᨐ҅䁲䥈kᑄᄈ夒ર囇⣹嗛➎帣ᢤ䀡傠Ǘ熠㥀ॢȠா䠸ᢀ㜰䁾巒•橀樠Ꮃ䤠ව׷核ᱬ䣘紲₞૦Ԡ޳ŀ凐栠晬╍ಲ䖽䂇栢沀團ᄰ㸸ሪ喊Ⴇ♁䐔粶ᦞΎ刺ࠥ簉窺簲ᖢොሧ҉䃵ⰡḠޅ毗䘤䗾墥୚渍磆搰㣄䆯䌭䊣ᎄ䢩妈䪑䴹ҩ䋫◂რ⢒ઉ⃁⽌囦媍ኘ垤䢠䍤⒂Йᘷ੡䄀҂Ქ⃱琿啡憐㲞ၯ䌨焠ᗿ搫໎㒫ல熪Ņ⎃ऺᥛ⃄ᅠ  "
   },
   "source": [
    "## Task 2b: Filtering Out Old Data"
   ]
  },
  {
   "cell_type": "markdown",
   "id": "c86b30d4-4762-4bc0-bfd3-6f1486b55ad6",
   "metadata": {
    "__GENERATED_DATAFRAMES__": "{\"nodeDataframes\":{},\"graphDataframes\":null}",
    "show_aggregate_original": "false",
    "trrack_graph": "ᯡ࠽䈌ʀ匦㢠⹰࣠✴ƀචآ൐ୠᣠ⭎¸䚀ᶥ<⋵攴≲䦆ᨐ҅䁲䥈kᑄᄈ夒ર囇⣹嗛➎帣ᢤ䀡傠Ǘ熠㥀ॢȠா䠸ᢀ㜰䁾巒•橀樠Ꮃ䤠ව׷核ᱬ䣘紲₞૦Ԡ޳ŀ凐栠晬╍ಲ䖽䂇栢沀團ᄰ㸸ሪ喊Ⴇ♁䐔粶ᦞΎ刺ࠥ簉窺簲ᖢොሧ҉䃵ⰡḠޅ毗䘤䗾墥୚渍磆搰㣄䆯䌭䊣ᎄ䢩妈䪑䴹ҩ䋫◂რ⢒ઉ⃁⽌囦媍ኘ垤䢠䍤⒂Йᘷ੡䄀҂Ქ⃱琿啡憐㲞ၯ䌨焠ᗿ搫໎㒫ல熪Ņ⎃ऺᥛ⃄ᅠ  "
   },
   "source": [
    "The interactive barchart below, shows the data aggregated by year. There are noticeably fewer records for `2004` and `2005`.\n",
    "\n",
    "During this subtask we will remove these older records, keeping only the records for the year 2006 and above."
   ]
  },
  {
   "cell_type": "markdown",
   "id": "24b308e8-8437-4146-9ebf-cd121aeb7f9f",
   "metadata": {},
   "source": [
    "#### **Instructions**\n",
    "1. **Analyze the Bar Chart:**\n",
    "    - Identify the bars that have less than 200 records.\n",
    "2. **Filter Year:**\n",
    "    - Select and remove the years with few records.\n",
    "3. **Verify the Output:**\n",
    "    - Print the head of the generated dataframe to verify the changes."
   ]
  },
  {
   "cell_type": "code",
   "execution_count": 13,
   "id": "1ff923c8-1008-4d36-ab1c-625171d90d47",
   "metadata": {
    "__GENERATED_DATAFRAMES__": "ᯡࠩ䃬࿀ᜤᠹ悋ᐤ怱䐢犲ǩ怶恉宑召䵬ð䀲悠ᄡḡ沯偑嬸Ř˛ࠥ笪  ",
    "__has_persist_output": true,
    "trrack_graph": "ᯡ࠽䈌ʀ匦㢠⹰໠ㆠ䰢᧊ʐѐୠ֠ܠ嘡ೄ΀೬Ⳉ⥤…᩻櫽䔴ƹ⧁䉪2攩њ㙼䋅ᒈ䡒ㆆ槻域Ⴑဠ㑀Ӑ愾䠤傡%悄ؠᮬᢛ䑁圌᷀×੒䀡ᵼ䠠洰ॖإŦ䀲ደド泄⨢ऱܪƤ⏧兲壨塸ȡ⼨7⢄㚗᥃夬桁ɻఴ>☤䑏ㅰ剐籩ሪ↠ᛦ஀⌱1䅀取焨㞂ౚ別䇐͹䘨䇻烪䁏僿㓐၃⋸ჶᮐ䗱㈨ᛠ਀㲡粀棻瞨ᱦ灘丢ˬ穩刬eưがԫ䢨ɼ䒀⨄␢༤⏰倦ᶠⅰ煞ʠ燝ᾉᧃ˕⊃亸ㅤ晸幈䭅⤲ᵉ䮅㦜僋Ҵ攪䈵႙ಸ乀䥄⥔䍅䬀㲢䣀឵氧Ӧ㎢†᥼昙婰 䀤歲䄣‡␻塄ǖ悠൶䔠Ӏ㤊恧䜥毎Ὗ䠱նࢯޥ惰瘶ѣ←੉෥摒㱍Ѣ値㰿⭣䍘䊵⢇㸖坛䍄懒ՙൣ儸≓ૠ烘ḩᯅࢺᛞ嗱瑰㺠柣ၐᐹ๔䷆枼惕㖶æ旐䆖緁枕ᶆ₥斑岮䌼ु䀠儡g国⁈Ȫ岠wᠰ穛术െ㝅㻙涯愥䈁⠢ޛ⑁㯤揰珍⾺†穛洙ళ昒㵺上乗战㱏搚ᬰĘ¯ࠦⅣ਩䃏仢禀歡堲s⌮➣䍜࿱偤䳠Ѻసࡸc栰̤䂗浀ᣉࠚ汴ሢÌḦ䃡ᴐ䶝丱ⴲ࿂ᴳ䫧墯৤ᰴᐥ䀢őҨᘉ浀䋧瑸ᇥ⁎Ყ罀ᄐ‰仆彳昣䐢愀ґກ⁻䘲䂛ᤇ⑱᩿᷅౛樯 㳩ߥ祗଱堤簮࣢ҵᏸἩ⡮৫勸尻ᠬ押㋰嘤࡯ᰫ瀠㺨ೢ惐䤠䂻∨塸⼓㽟搤湅䆠ɔ䖱䗑Ս䩊䓍樭㋱痐䗄㔽✤呜爬↸ガ冬㟀熩l䦪㍬ᦺ˭䋔䜺偈㜭ᆴŃㆱޭ৒㕬呚ㆡᦪ͵☿䴐〸悠⹁咢竛⁔㚝桡ػ偍癱䃊㺠☩ℽ搝纡㌵䳄厄㊷឴祂堅┪刑䷛▍ࡏ⠉汀惁➝ࠌ匬昼癈煹䟄皼݅獙௘䓙坓俘ᯖ痽೬惝⃵䴇欵璙㟐⺰ླ癋悫䥫῝沚䡲䫪㥾ⱋ̌䵪℣榐᥯॒媀毳灴彷岏ఢ⩺乷ዺ妷᥿ࢪ㪎夠ࡵ擗᫺੊‭夐罠᭖笗璖᫱壢滩⬘ぅ֩ガɀ㤶ۤ␶ťޝΥ␳⾍ᡋшᡍ墷犚ⱖ䁴ܰ⅕挼ᙧ䂠⟝䙘ᬯ搘Ùⲋ䵧䖋牛⩱斺䛍ᨽㇰͮ乑䍲á瓝姐֫㿠淹ㅰᖵヱ㗖䐰緳⅜䅘᣺㇤槻卼㶻ޜ湚䭹楺姑戠 "
   },
   "outputs": [
    {
     "data": {
      "application/vnd.jupyter.widget-view+json": {
       "model_id": "7abc3c3990fb432b8526d2dc89b7d841",
       "version_major": 2,
       "version_minor": 0
      },
      "text/plain": [
       "PersistWidget(data_values=[{'__id_column': '1', 'Title': 'Super Mario 64 DS', 'Max Players': 1, 'Multiplatform…"
      ]
     },
     "execution_count": 13,
     "metadata": {},
     "output_type": "execute_result"
    }
   ],
   "source": [
    "PR.plot.barchart(df_task_2a, \"Year:O\", \"count()\", selection_type=\"interval\", df_name=\"df_task_2b\")"
   ]
  },
  {
   "cell_type": "code",
   "execution_count": 14,
   "id": "fa1cb33f-4ee0-4e6e-a5ef-d73ae28b2497",
   "metadata": {},
   "outputs": [
    {
     "data": {
      "text/html": [
       "<div>\n",
       "<style scoped>\n",
       "    .dataframe tbody tr th:only-of-type {\n",
       "        vertical-align: middle;\n",
       "    }\n",
       "\n",
       "    .dataframe tbody tr th {\n",
       "        vertical-align: top;\n",
       "    }\n",
       "\n",
       "    .dataframe thead th {\n",
       "        text-align: right;\n",
       "    }\n",
       "</style>\n",
       "<table border=\"1\" class=\"dataframe\">\n",
       "  <thead>\n",
       "    <tr style=\"text-align: right;\">\n",
       "      <th></th>\n",
       "      <th>Title</th>\n",
       "      <th>Max Players</th>\n",
       "      <th>Multiplatform</th>\n",
       "      <th>Online</th>\n",
       "      <th>Genres</th>\n",
       "      <th>Licensed</th>\n",
       "      <th>Comp_Time_Main</th>\n",
       "      <th>Review Score</th>\n",
       "      <th>Year</th>\n",
       "      <th>Publishers</th>\n",
       "    </tr>\n",
       "  </thead>\n",
       "  <tbody>\n",
       "    <tr>\n",
       "      <th>0</th>\n",
       "      <td>Wii Play</td>\n",
       "      <td>2</td>\n",
       "      <td>True</td>\n",
       "      <td>True</td>\n",
       "      <td>Action</td>\n",
       "      <td>True</td>\n",
       "      <td>4.0</td>\n",
       "      <td>58</td>\n",
       "      <td>2006</td>\n",
       "      <td>Nintendo</td>\n",
       "    </tr>\n",
       "    <tr>\n",
       "      <th>1</th>\n",
       "      <td>New Super Mario Bros.</td>\n",
       "      <td>1</td>\n",
       "      <td>True</td>\n",
       "      <td>True</td>\n",
       "      <td>Action</td>\n",
       "      <td>True</td>\n",
       "      <td>7.0</td>\n",
       "      <td>89</td>\n",
       "      <td>2006</td>\n",
       "      <td>Nintendo</td>\n",
       "    </tr>\n",
       "    <tr>\n",
       "      <th>2</th>\n",
       "      <td>Pokmon Diamond</td>\n",
       "      <td>1</td>\n",
       "      <td>True</td>\n",
       "      <td>True</td>\n",
       "      <td>Role-Playing (RPG)</td>\n",
       "      <td>True</td>\n",
       "      <td>41.92</td>\n",
       "      <td>85</td>\n",
       "      <td>2006</td>\n",
       "      <td>Nintendo</td>\n",
       "    </tr>\n",
       "    <tr>\n",
       "      <th>3</th>\n",
       "      <td>Pokmon Pearl</td>\n",
       "      <td>1</td>\n",
       "      <td>True</td>\n",
       "      <td>True</td>\n",
       "      <td>Role-Playing (RPG)</td>\n",
       "      <td>True</td>\n",
       "      <td>41.92</td>\n",
       "      <td>85</td>\n",
       "      <td>2006</td>\n",
       "      <td>Nintendo</td>\n",
       "    </tr>\n",
       "    <tr>\n",
       "      <th>4</th>\n",
       "      <td>Gears of War</td>\n",
       "      <td>2</td>\n",
       "      <td>True</td>\n",
       "      <td>True</td>\n",
       "      <td>Action</td>\n",
       "      <td>True</td>\n",
       "      <td>9.0</td>\n",
       "      <td>94</td>\n",
       "      <td>2006</td>\n",
       "      <td>Microsoft</td>\n",
       "    </tr>\n",
       "  </tbody>\n",
       "</table>\n",
       "</div>"
      ],
      "text/plain": [
       "                   Title  Max Players  Multiplatform  Online  \\\n",
       "0               Wii Play            2           True    True   \n",
       "1  New Super Mario Bros.            1           True    True   \n",
       "2         Pokmon Diamond            1           True    True   \n",
       "3           Pokmon Pearl            1           True    True   \n",
       "4           Gears of War            2           True    True   \n",
       "\n",
       "               Genres  Licensed  Comp_Time_Main  Review Score  Year Publishers  \n",
       "0              Action      True             4.0            58  2006   Nintendo  \n",
       "1              Action      True             7.0            89  2006   Nintendo  \n",
       "2  Role-Playing (RPG)      True           41.92            85  2006   Nintendo  \n",
       "3  Role-Playing (RPG)      True           41.92            85  2006   Nintendo  \n",
       "4              Action      True             9.0            94  2006  Microsoft  "
      ]
     },
     "execution_count": 14,
     "metadata": {},
     "output_type": "execute_result"
    }
   ],
   "source": [
    "df_task_2b.head()"
   ]
  },
  {
   "cell_type": "markdown",
   "id": "8a92b8a9-c3a8-4a57-be3b-c9cdc977092c",
   "metadata": {
    "__GENERATED_DATAFRAMES__": "{\"nodeDataframes\":{},\"graphDataframes\":null}",
    "show_aggregate_original": "false",
    "trrack_graph": "ᯡ࠽䈌ʀ匦㢠⹰ೠ⬠沈֭⠸恍ff9昽䁮ۦ࠰汬നڀপ㈏䣹厠㬦ተ¶⡨⇱㌀ᅁ╶庳ୖ⹜簧ଭࠣ℠Έ橦औ䁅ШNႦ〡岁䏼ℭ㞁摞+㢱䨠Ԋ牠Έƕ٦枓቙ჿਸ旑䅠Ȅ恨戬പᎭె䝁净儬Ö᡻⌸䐱䘩׍宨⇓ࡱ䍲ච᫲壬จ䙤Ɲڣ圖⍞ᛡ৽ण䃔戋㘠传ϊ揿振䘌汣䓼㹮䘫㈨ቺ⩯↧ᄨXഉ⠅ㅖࢢ侸⇄僡ಖࡢҁ氣С宍劄倶䢡⍤㲂̤㚗٩䄀硂಩⍰琦ᦪ悑屾ᾨႨ㺜*瘪䋇޶⋤ᓘ犠䭳঺᥇⏰ᅠ  "
   },
   "source": [
    "## Task 3: Data Wrangling"
   ]
  },
  {
   "cell_type": "markdown",
   "id": "9da80393-7f4b-4115-a4d1-5b7978e11358",
   "metadata": {
    "__GENERATED_DATAFRAMES__": "{\"nodeDataframes\":{},\"graphDataframes\":null}",
    "show_aggregate_original": "false",
    "trrack_graph": "ᯡ࠽䈌ʀ匦㢠⹰â䂬ƀᶷ琶䁋c<搔怳ଚ䠳亡䈤㉕⁖ì⺇⊨攩ᐠ▨戰㑹㧒妰囇⃹喧㝞Ţ∠桠ûு䁔䈠ॢȠந㺸ᢀ盅⻿夣•晀樠Ԃ牠Έƕ稦❳ሪὦ䰼⇑䅠Ȅ恨㙎⌯᪴䶹䈁ℓ琡㙐ᮂ⢨᢬थ⧓ࡢ㌰ሚ璋U䳘䠵欯Т縔絭Sㄭۡ۹ण䉔悊㘠传ϒ橷挣⌏ⱡ䕼庮打㈨ɼ榨慢䃂॑瑐繦┭ڼ㾬⎂厃焸牘榥ᄨ䦯ඦ嘔㗆溄⒀擒摖≦၀ⶃ㧄మޢᄴ䩍རへ∦䯧焤愷䍠Žƀ夅შ㤙༾′⪂㵩掳婊⢄  "
   },
   "source": [
    "### Task 3a: Creating and assigning `'Length'` category"
   ]
  },
  {
   "cell_type": "markdown",
   "id": "402412ae-3b84-4fec-9c01-94dd203a7b1f",
   "metadata": {
    "__GENERATED_DATAFRAMES__": "{\"nodeDataframes\":{},\"graphDataframes\":null}",
    "show_aggregate_original": "false",
    "trrack_graph": "ᯡ࠽䈌ʀ匦㢠⹰â䂬ƀᶷ琶䁋c<搔怳ଚ䠳亡䈤㉕⁖ì⺇⊨攩ᐠ▨戰㑹㧒妰囇⃹喧㝞Ţ∠桠ûு䁔䈠ॢȠந㺸ᢀ盅⻿夣•晀樠Ԃ牠Έƕ稦❳ሪὦ䰼⇑䅠Ȅ恨㙎⌯᪴䶹䈁ℓ琡㙐ᮂ⢨᢬थ⧓ࡢ㌰ሚ璋U䳘䠵欯Т縔絭Sㄭۡ۹ण䉔悊㘠传ϒ橷挣⌏ⱡ䕼庮打㈨ɼ榨慢䃂॑瑐繦┭ڼ㾬⎂厃焸牘榥ᄨ䦯ඦ嘔㗆溄⒀擒摖≦၀ⶃ㧄మޢᄴ䩍རへ∦䯧焤愷䍠Žƀ夅შ㤙༾′⪂㵩掳婊⢄  "
   },
   "source": [
    "Next, we'll introduce a new categorical variable named `Length` into our dataset. This addition aims to classify each game into one of `Short`, `Average` and `Long` based on `Comp_Time_Main` value."
   ]
  },
  {
   "cell_type": "markdown",
   "id": "86d54d80-ef52-4630-bffb-1e04d9320384",
   "metadata": {},
   "source": [
    "#### **Instructions**\n",
    "1. **Define Length Categories:**\n",
    "    - The `Comp_Time_Main` column represents the median completion time for the main story of the game.\n",
    "    - Based on median completion time, create a new category called `Length`.\n",
    "    - Add three options for this category -- `Short`, `Average`, `Long`.\n",
    "2. **Interactive Assignment:**\n",
    "    - Use Persist's interactive features to select games and assign it to one of the `Length` values (Short, Average, Long).\n",
    "    - You should use the following ranges for assigning proper categories:\n",
    "        - `Short`: 0 - 20 hours\n",
    "    \t- `Average`: 21 - 40 hours,\n",
    "    \t- `Long`: more than 40 hours\n",
    "3. **Verify the Output:**\n",
    "    - Print the head of the generated dataframe to verify the changes."
   ]
  },
  {
   "cell_type": "code",
   "execution_count": 15,
   "id": "b59fb23c-da53-489f-9520-918d789978eb",
   "metadata": {
    "__GENERATED_DATAFRAMES__": "ᯡࠩ䃬࿀ᜤᠹ悋ᐬ推̅ሣ䧠ⶠ卍捯ᥔᠣ℠▢dʘϔᝠ捌〤瀵摠៨⠠ ",
    "__has_persist_output": true,
    "trrack_graph": "ᯡ࠽䈌ʀ匦㢠⹰ಀጡᰥ〹䛌Ҁୢ䀶<ø䚰⨡٧檪ᙤɐí洽疅ঽ䥈kᑄᄉ夒ࢰ囋⃩䖻᜾㸢䉠ð䀡寷ㆯ奀ॢȠ௎䠸ᢀ㜰䁾巒䀢機⨠Ꮃ䤠ෂ#ᯑ⢀億᱂ĺ=䆣➀ቅ২案ᡬ幅ᭊ䋢䌩\"甕種ፄ✾䔰ὥ㚨ϩ䂱榼Ȣ✺Ꮂ䖫ࣣ栢沀圔ᄰ㴸ሢ㖊Ⴇ㙃Ɋℌ䬠㖨线槒ୈ̙疖஁稴ᖢ֍㜯ᦢ䵸Ŝ.߷㞬Գ㌑Զ㫹皚ᓬ䂡扩ദࣤゖᅆ䂰ぐ帺⌁䐬ᒯ⃄㡈ኣ䊑琢ଢ䊐塌᛬秝ሦ䘤桝ޚ⽡।ㅘ䅌䫅楬孋䫤栢䔤⥠╉尺煓ᒈ噏ॄ⥲ു䦄㥜侸⩱䕲勄ヵ⸠ၥ䀠࣠ᠠ༏品㒠᳢ࠑἚ䀼䀡䥘ᛋ௧㛹唠␉㝺佯ߧ爥䭰嶦஑ढᢴ⊲Ѽ咦⃀䐬Ქ䏢ⱈ̡䶄ќᲮ⨈⽽䧢煩᡼Ἤ↰吺ຨ捑Ⱞ᮫檉Ȭᡯ⩕䵈ශ橄崾俈䪱㑤咎ᩭ₹亄橍䇕䎁΍㮝䜌㭭繓䌅㠼穘ᱣ!⊁ᡫ盾䅰Ч㤠Î〥炓⼎媃欗㱠䋵丄Ρ჈ġ㵄⁢礬๫たឩဠ㴥႘稰៱垻睕䴵凔⁑搜䈢₌ྜ䴤එ႘Ꭳ䃂ರ〺؀偖ᑭᑙ݀愭͠ゲチ౟⃬ʸ㛤屚ৱᢄ䟌恡ઢ富眜࢛搳⹐䷼⡟牢㺺࿉䩿喐亸Ɣႝ፹ὗ昙缵䍑ࢵፍ㉅ば㗒䟌樳㘁籋㘰段⒐₡ͽ⇘㒭᱔㑀熢㉬⦺ㆁ᧒㍠㦺ϭ⃈坸懇¬冬〫熰⵬䑚㌫姎㗑ّ䄤‾务ک埵羢批皠ٲ磶䫣嬚䫠䂆䵯媺㭯㪚Ᏹᛨ☥↞廀ءࡁⱀܠ၃䌠႕乵䬘䵤Ⴕ䨠ᄔㅁ愌a䀯඄ᙡ䓗લ喱䨼䅶狪徴ૢ䏑剽䟔₽ᯅ琩㥅傃䊂䱳嫡乫ଐ⹫侀㹇Εइጆ峋ភ湧䔓ͳἑ岚᜗䏋ሗ屏劵㠿䰕ᅀ塁䥀ܨ岘㰫ষᚔ䆐Ŭ剘粭㤅≨慀‒ौѭ㫄拋°㺹絔渑喕㾯掤琨ᛂ⢩ᅀḭ卲ਠ䓉䚩倸ऱ傼ᑒイ៯းᎦ扔⌡⃑劧↚⯢籟ဆ㡆㓀紆⋗䣵䥣囊ᇐ梮㭡㧵г₋岌䷳⦥䷊羠炫⒦ⷋ㶌淲ⰰ䣎࿿⑳⚏ん⑘淽᱙⸄ඈ淐༫旺僈ᩦ哱玀ự檮ῧ倶䘠㕭◉⇞䷎㫎友墮௲䢊㿵磣㡗ЬầၐᎤ♋㒱傴̤〦涊Ⴉీႁڛ㛝ኯ朘⾌䡾ⅉ禞㙑傡㥗▹⭐䕙㬍勽妀㴣厧၄䒳㴳吤縓ɨ␋஁氠疒λ䬬忯㦀ᨺ何抠㉓ⱄ㓜耂o䳱棭磑䈨燏煓ᘰጸآ⊆暤∡ၼⒶ᮸幇ᩩ೔圸ێ嬄ᘸᠥ塗Ԑ⨪◔姞᫴②Ѩාࢊ䜹砭䂇僺㉝̔क欩勺ᎈᬆ梄围斍䙣涵㉈ⶁ⠦杰曮皍俤ث沰ܡ圴Ᏸㄕྑ瀸㘪⃳歜⠾㴷妚垷Ñᨡ੘琾挶ᆆᥝᙆ㲳ۥ戽䓏♄㢭瓴糉ၥ≵◴䎇෉ᘥ号㍵疞冎ⵆ渾䧼㵧崦俙̨₠㎅ၤ䒞権₃滠䫦Ũ॑ՑɄ≦༡䓀䊲䁓槝㭸奄śሠ㯰႕႙售ം䀱涼凯ᵜᏒ婍稖⏳瑌䋠懢縿⭐彬䋟倊羪烃)͍朦宥ۧ丢烶Ɂ䜑潉攼⼃⍰↢䤢䆲⺣䳻и㜥䗛ᤱᄪ獒睁㟠璑᭣佋ʐ㑻炧搰䬫ᅗ拨爬ㅉ抰呧ᢈႠ㉄⊆ᄧ᰸֥㡦䄔̠堸洮ᓸ撅嬹㲭ᙥர攽㋮滃癥塝勁璂ʰᬀᓂ倈∪⥈๳␣Ŋ㫅ѽ⑔䅎㓶䦪圾日ᗪ敂勊㍑֝╰⣌␶䲸傸⹵⊁➺ሕ#рҀ帠Ј*呡䙑吠ⳝМ㻀*✤㖆同)⇰絢㌖ੁ╪吴偀ᵳ呗ཤ灷⽩຺炐෋᜷崣Ҋ䈮à⚦⑈̅懫ᑸʼ᰹剨̡瀡ċБऍ匶渆ᑣ戂㱋拌㟦汲稤嬒㢩䧚⦻洝䔔౧Ðເ䀸揝━ⲯ爚疳绫䠭殰˯ഄ䂁焼倬䃫䱦ாᴨጼ睓಺ᬹ▯烌パ䀱䂠䜤憿ᙬ㽱䲡⑻৘堰巫獩ʭ⪣ง妣៘穁≡澌䯐୮ⵎɀⱸ绬♝啀䢨ᅕ‥ᓳ狐䍄柲昿嘫硒ո㠅☡唺姈媸ە孼ಕ൜.䁐欫檝㓱綕叜つ灢᳠嗇数㓦傉勐ݠ䍱握沵㎗乣〯₃ڧᇚ᪺忢Ɔשሺ䅛䋃⅗䜇ᩀ▶惢ߵ籘᪠હᡷࣣ፾㖶压缿棇ი'岲彙䋰暻碓牟咴㠰䚖ㄫ䂈䁚痘ᒮ滉ᜦᩓ偤㉦㨸ၣ❢椝྇⌾ㆶᥤ㊤㡷ᾭኄ䲨嶣籕燠ឦ᫻漓ᦄ㉴ἤ废⑍䣫ⶹ䩲斴㭵ි垉兺සử撰ଢ網㠐ઋ⛞⹥⳾恙勳秐宁㎠揌⩆犏⋆䤋ᑥ歝㞺ᅿ垫㝉㔡⤊ᰣ渫❎益琮奣呆Ž㧷産甊煴⨝桠⻁䥴䖲刨㖒㒊䥙Ī⹀搴Ӏ稧࢒䆽↭ų㣥ే͆ṋѣ㎉⋥湲姫峗䰙㹴橢祊捫କ⪰䦳㺍孓羂㑐ഡᙠ睮᫫Ჭ䬽㠺㣛ᐣ叐犁䴐᝵烠䬉峰ē޶䇛坢⽀窯㞭₪ⷅ䙻峎᫡皕㸀六⊎䠤喼؁甫弸৑㯽䆖絈㔫択䉡㩽₶⻁矂㝔᠇培朲梦嬄ĸ䁡䉉̐ധᯊ䵀ᱢ䢹䘱ਦňႰ怡妀┱怵㼃䑔䬤ᘒ䊁ᙶ瑡圍䉳⊴䠿䵲ᶞ剀Ǘ⡃˶ド⮭㧲ᅎ䢣ᕅዐ刅䕪噩泴⻩巍⽙ፈ㗤Ӏ㗯㮯㎡侕矾浃࠷洝屏緸Ɽ悑ᖲൾ⾖幨Ờ㤳㵂஛綠㤏Ƞ宁ᬀ嫑竛ὶඎ侁渻嬛ⵉ緖甾噧㻟檀Ǵ瀮Ѝ瘣ܓ墭砲Ꮡ忼祅㓣ᳱ…Ⅰ✣䩉烗ศ䐹֠愾厚⊈瀣ࣀ࡛ᚸ桺斠㛗ඦ㓆櫊峳痗&枤橦弽椏䔔㳴壖ᶛ⹘斳揇砩橚䀆沤畩敚ε¼瓉戠⠲⺴ձ䴘宰妦畟¾糑㎥瘗╎䖐޾嵾⨪㾖䄥䵟⚞娖篐ᔸ₎矲ঽ䁝滠㸡ݟᔟ⼸濲〷⁲Ħ䆥⫉ೲ丢ࢂ⷏Ⓨ⥄ި斦絓憨Ⅺ⡦度皳㇌ᓸ䨡栿ㅨ枆渕䦪愐ࡦֵⴻ෱ࡦ撤碇෥搪ᴮ௟ത濡䏔展凔Ꮶ⥒ᄬ䲼樚祕幂䵄ೆ啒䁚䷢ڱ䤢᡾䲐悆皤൑䰪䚆㴠禹䃌斱圢澥ಗ洆⍠ᔻ䳪ᘆ嘵秙䍌ᎁຫ塣䊢渁弮朻೼ሁ纭䖱ᘙ搱摖珚ⵒ柡泓㹎⸜ྶ甖嶩ᖪ湪椥柙ⱴ⎄ក梣䡫揂坆橂⃷ඞ㈆そ紿毪⚷䉑䅟洸倖ᣍǴ᠞᜴䡉掏憑⠔墫綎἞ޮ翓揨သ൲ⷐ㳶濈礒涪㶋䟖܇Ѽ籮扐㏐睉粲Ⰸక巈Ⅸהェ㞵┏濞␀ళł઺Ǣਦ槛ⷰ删粛攖缓㷀籘౞☥㞸粡慞Ⰵ嵔旻⟰氥欽䏰Ὼ㠄໗椇߀䊓恵搨ᨬ∬䌩͉愢爬⻙擈ᶒᨨ㎽ˡ◚☯䦫ȵ橁䡄䲏᱌槡䍩䑡ԂᝎঔХ劘ሱ᭨᩻ʭ᪦丫⯂嵕泎涓畚ᏽቁ䭮ᄱ川Ố䊷〽綑⼰ᠠ␱硾撸㸥祒姇䋤挷戮ȟ晑梩灠㵟␾嗐ᒜӉ䜘⤖眬㵄༾嬡糎凁ᚾ扴柊抍䅪ඨ㬶掉⑾᫒㤡掹⹠㗦抂ᄑᆴ㗇㶫泸Ҁߗ䑏⁉ᩨ绡剷㵼߹屫拞ኧᑩ凭ቤ珞揪槮劄絕≆嵱摲縒ᠺ緓瑛啝━᪪冩玣ⷠ搑≷㨁ᆩ磱:Hིቧᓅূરာ搡8䗪燂䢖ံ⿸婪睛揮ᆴ䮮㾭拿澑〒㲏粡ᳺЭ犚ᶳʸ刡揈勐ᱚᰬ⹆旧≮㥯沢厇ⓉᎱ叒甀⫚␷峆甸Ꮪ絩㻋ə根ศѻ੝ᒉ⽯梐䴤 㞴ڄᐤ嬙宐ᑃ紳ແ䉫狗⳸䷺㲡䐶⃢ࢺ΂㩤䳓ᯁ呕暁䈷沁㲭ᡪ愊z䉖恃䏝ⴁ❑᥽౐æ⣒㇋෸淠缨◖䮢᭎焯䊄⍓ᰎ崮婼䵠ұ╔㈺≒ᶆ浐ᦎ⎷恹漢ᒄ䁪ἆ浯ᒃ᥂宆⭊府⏎悵圤㑪⮺ᔪ录ᥦǬ喠દחŢ枅݌㦝䪂朶㽌⮩叆ᵬ妬䡜挶᝹⋓䣃㏶ᆄᛩ勁㷊柑仯嗖偐ۘ㟮木䕓〚ᙅ⚼償ṠOူਨȥ嘧瓗ⅾᬀ槈繼毟ᣕව⩊毶姕ぉ浨Ꮲ☩痕㜷䀽⁌෥䊓⨁ᯊ䑮⊗⥎晹河䚠礲ཤュ䁕ǚའ摤䘭揣ᕲ⛡䶣籷䤎ࡉᘢ爧ၩ懮ቸ狩ᥙⷪ剤棰叩㒐ศ㑱౐慭㽔惥ᾮ秥恶撅ᩥ㶲帬瓠⽚ᕩ冚吀⽮擈挮厸宬禑㪀㉺埮湏僝刢婎Å媟ᨽᘅ獪䭮䮵汅渭梟અ䚩嶖୫斘婅惯२ʡᔄ⹶␳ࡑู弶ษ%ࢌ繱ࣂⅩԱ罎ம㏺娨䂭嵸㲫᤾梵獉㎝ᚤേ嶅㋝峐ဢ㵭䆔䆾ị኿⬍䞾૖汽ᖫ晕㌖樯⃷-䙄灐ᰂൔ炏‧Á呠ᢋ怼᪳ᯕဧ❰ᮽ涽ら嘾㯸}⌎緇ȁ岌毎俞玪䢙ጩ⿟◷樺且幣䲗愊ȧ涨㘏ᘕ䅍ṓ爧䮠䨤ᬣቂ䮩ᨤ壊㒇䤎さ戬ဪ̨ᙆᬮ楡扸緍䵷父尙双Ǝၖ忞⷏Ɨ፻⾔ᦴ፩႐ຨ屏᎞੅Ḝ≊Ꮮ̉噮戬冑旯ૉ媓內ᬹ擥䞶ほ୥复号㑂寵摤ᖋ㸳犰㣎ㅉ䬻牟澅㮭䐠㡈෌䲢怾㓠挰笋၎ᑑ澍䖕榓孠׽⍌ᦪ戚ↁ宏墇Ō徆䝖凍ದᮍຩ灖᱘惨睈㭬嵢ᴍĭṏ䩕嵐ཎ⇀⨲ᰵ〦⒋䅲ᗆ࣌咞䭐挵粫咉䷬旭哏௚⫊ᡝ帼ᣣ⎬㜘哋Ⱛ≢ర㘸┻ේ᥵㪧焅䘚ᑃ庣 搂慎熪珊Ⳇ᪣໎㠾ⲟӑ䋕䢴㭪泹橰឵ⶖც㫖➛䡜䟀㨈⽿㲷囕懣⨲㈈ǝᰢ澛廠㸋ᝮ♶䞳昀ᔊ箪㩳犼唕⛻塴寈䊝樽〒ⵁ㵡汛忈࿏ڷ㣵圆漡擜㐯堡ଌ杵㭡宽䢈䇁㯘ଭ服ឝ筱椝㹩琿ゲ༝砇એ槉剥悃ᅣᩉ氣檒缸ࠐὥ娪獳ᷜ攒堻䮐崥嚉礼䭧ઘᠵ妍紎䌽ᅍ癎⃡ӽḓ⸫̏˺岎熹˶媘ᖣ桶终〸䙩ာ⵷ℂਸŲ䔧Ӳఞ程灍ڭᔍⶓ晨㰫Ḿ⺉᚜᠝媲Ԓ噼㰡⸽斯嚏⨲さⒼ單搉◂匕棙㰲èʄ堯⢃姑⇉┟᠖ὰ毧础Ί㣝ڹ⽱⟷嵠㊼⚥♸䕳林ℰ  "
   },
   "outputs": [
    {
     "data": {
      "application/vnd.jupyter.widget-view+json": {
       "model_id": "2c588e254d9942de87e40aea5093b64e",
       "version_major": 2,
       "version_minor": 0
      },
      "text/plain": [
       "PersistWidget(data_values=[{'__id_column': '1', 'Title': 'Wii Play', 'Max Players': 2, 'Multiplatform': True, …"
      ]
     },
     "execution_count": 15,
     "metadata": {},
     "output_type": "execute_result"
    }
   ],
   "source": [
    "PR.plot.scatterplot(df_task_2b, \"Comp_Time_Main:Q\", \"Review Score:Q\", df_name=\"df_task_3a\")"
   ]
  },
  {
   "cell_type": "code",
   "execution_count": 16,
   "id": "6d288ba1-ba67-4e3e-90eb-3d215b0f4a4a",
   "metadata": {},
   "outputs": [
    {
     "data": {
      "text/html": [
       "<div>\n",
       "<style scoped>\n",
       "    .dataframe tbody tr th:only-of-type {\n",
       "        vertical-align: middle;\n",
       "    }\n",
       "\n",
       "    .dataframe tbody tr th {\n",
       "        vertical-align: top;\n",
       "    }\n",
       "\n",
       "    .dataframe thead th {\n",
       "        text-align: right;\n",
       "    }\n",
       "</style>\n",
       "<table border=\"1\" class=\"dataframe\">\n",
       "  <thead>\n",
       "    <tr style=\"text-align: right;\">\n",
       "      <th></th>\n",
       "      <th>Length</th>\n",
       "      <th>Title</th>\n",
       "      <th>Max Players</th>\n",
       "      <th>Multiplatform</th>\n",
       "      <th>Online</th>\n",
       "      <th>Genres</th>\n",
       "      <th>Licensed</th>\n",
       "      <th>Comp_Time_Main</th>\n",
       "      <th>Review Score</th>\n",
       "      <th>Year</th>\n",
       "      <th>Publishers</th>\n",
       "    </tr>\n",
       "  </thead>\n",
       "  <tbody>\n",
       "    <tr>\n",
       "      <th>0</th>\n",
       "      <td>Short</td>\n",
       "      <td>Wii Play</td>\n",
       "      <td>2</td>\n",
       "      <td>True</td>\n",
       "      <td>True</td>\n",
       "      <td>Action</td>\n",
       "      <td>True</td>\n",
       "      <td>4.0</td>\n",
       "      <td>58</td>\n",
       "      <td>2006</td>\n",
       "      <td>Nintendo</td>\n",
       "    </tr>\n",
       "    <tr>\n",
       "      <th>1</th>\n",
       "      <td>Short</td>\n",
       "      <td>New Super Mario Bros.</td>\n",
       "      <td>1</td>\n",
       "      <td>True</td>\n",
       "      <td>True</td>\n",
       "      <td>Action</td>\n",
       "      <td>True</td>\n",
       "      <td>7.0</td>\n",
       "      <td>89</td>\n",
       "      <td>2006</td>\n",
       "      <td>Nintendo</td>\n",
       "    </tr>\n",
       "    <tr>\n",
       "      <th>2</th>\n",
       "      <td>Long</td>\n",
       "      <td>Pokmon Diamond</td>\n",
       "      <td>1</td>\n",
       "      <td>True</td>\n",
       "      <td>True</td>\n",
       "      <td>Role-Playing (RPG)</td>\n",
       "      <td>True</td>\n",
       "      <td>41.92</td>\n",
       "      <td>85</td>\n",
       "      <td>2006</td>\n",
       "      <td>Nintendo</td>\n",
       "    </tr>\n",
       "    <tr>\n",
       "      <th>3</th>\n",
       "      <td>Long</td>\n",
       "      <td>Pokmon Pearl</td>\n",
       "      <td>1</td>\n",
       "      <td>True</td>\n",
       "      <td>True</td>\n",
       "      <td>Role-Playing (RPG)</td>\n",
       "      <td>True</td>\n",
       "      <td>41.92</td>\n",
       "      <td>85</td>\n",
       "      <td>2006</td>\n",
       "      <td>Nintendo</td>\n",
       "    </tr>\n",
       "    <tr>\n",
       "      <th>4</th>\n",
       "      <td>Short</td>\n",
       "      <td>Gears of War</td>\n",
       "      <td>2</td>\n",
       "      <td>True</td>\n",
       "      <td>True</td>\n",
       "      <td>Action</td>\n",
       "      <td>True</td>\n",
       "      <td>9.0</td>\n",
       "      <td>94</td>\n",
       "      <td>2006</td>\n",
       "      <td>Microsoft</td>\n",
       "    </tr>\n",
       "  </tbody>\n",
       "</table>\n",
       "</div>"
      ],
      "text/plain": [
       "  Length                  Title  Max Players  Multiplatform  Online  \\\n",
       "0  Short               Wii Play            2           True    True   \n",
       "1  Short  New Super Mario Bros.            1           True    True   \n",
       "2   Long         Pokmon Diamond            1           True    True   \n",
       "3   Long           Pokmon Pearl            1           True    True   \n",
       "4  Short           Gears of War            2           True    True   \n",
       "\n",
       "               Genres  Licensed  Comp_Time_Main  Review Score  Year Publishers  \n",
       "0              Action      True             4.0            58  2006   Nintendo  \n",
       "1              Action      True             7.0            89  2006   Nintendo  \n",
       "2  Role-Playing (RPG)      True           41.92            85  2006   Nintendo  \n",
       "3  Role-Playing (RPG)      True           41.92            85  2006   Nintendo  \n",
       "4              Action      True             9.0            94  2006  Microsoft  "
      ]
     },
     "execution_count": 16,
     "metadata": {},
     "output_type": "execute_result"
    }
   ],
   "source": [
    "df_task_3a.head()"
   ]
  },
  {
   "cell_type": "code",
   "execution_count": 17,
   "id": "a7da01b8-f730-46a2-9ead-83bb857139f3",
   "metadata": {},
   "outputs": [
    {
     "data": {
      "text/plain": [
       "Length\n",
       "Short            688\n",
       "Average           88\n",
       "Long              20\n",
       "No Assignment      0\n",
       "Name: count, dtype: int64"
      ]
     },
     "execution_count": 17,
     "metadata": {},
     "output_type": "execute_result"
    }
   ],
   "source": [
    "# Optional for participants\n",
    "\n",
    "df_task_3a['Length'].value_counts()"
   ]
  },
  {
   "cell_type": "markdown",
   "id": "36e82a42-5f2f-44e1-b9a5-2e2d403b2ff3",
   "metadata": {},
   "source": [
    "## Task 3b: Finding Top Genre for each `Length`"
   ]
  },
  {
   "cell_type": "markdown",
   "id": "af40bad3-436e-426c-a02f-f205597e90b5",
   "metadata": {},
   "source": [
    "Now we will analyze which genre is most prevelant for games in each length category."
   ]
  },
  {
   "cell_type": "markdown",
   "id": "72455a32-623b-4b87-87d6-ca9c8ebf19e7",
   "metadata": {},
   "source": [
    "#### **Instructions**\n",
    "1. **Context:**\n",
    "    - We have a faceted bar chart. The `x` axis encodes the `Genres` column in the data and the columns encode the newly added category `Length`.\n",
    "2. **Analyze Genres:**\n",
    "    - Observe the bar charts to identify the top genre for the each length.\n",
    "    - You can hover on the bars to get the exact frequency.\n",
    "3. **Document Findings:**\n",
    "    - Note down the most common Genre for each length based on your interactive analysis in a new markdown cell."
   ]
  },
  {
   "cell_type": "code",
   "execution_count": 18,
   "id": "c45b6a61-ef0e-408a-bded-b1d1c1666e9c",
   "metadata": {
    "__GENERATED_DATAFRAMES__": "ᯡࠣ䅬Ԁ朤壠ᜣ琢〹夤゠⹰〮⁁䁻қ䚾ኊ㇠നСࠩ瀮晼Ƭ穅5愠៤⠠ ",
    "__has_persist_output": true,
    "trrack_graph": "ᯡ࠽䈌ʀ匦㢠⹱┣ᠦ恁䂼‶䀫΃䒰ᣠ̱Ⱗ〤㛐囧⭠ጬìɒᯱ燤䨠ዪन⩬尤ⓨ⬱叄拭䏗㽡慀†泒ᣤ᪰ӁĠ׿␬W౐㮨⃎濼倡㌸㔠ʑ㥀ǔÚͣᎹ䤺䂉☪惸惀ĒいὝ᪯䟭┃熑玨ؠ嬸බᑤ֦Ң哹䑁ᦨࢣ⍕䀺晵䐪疧䈡㸦㻆伶ኦ悦沩Ǣ᪀㕖o#䦝氃ӂ痌⃥⼖䝌㧒Т╉戂䈀愥Ფ䩾␑5䚧摁挲焨桰حہ゜᯦䎙弖⫣㊲ቐ㉩㈻ᅃ࠰ᛑ峲㨻ߡࣄ㤪䗂墊⬽䌂砢Ⴄ⁨Î䃐⒗㢄Ნ侪⡴抓੬桉ᴨ䑒  "
   },
   "outputs": [
    {
     "data": {
      "application/vnd.jupyter.widget-view+json": {
       "model_id": "a1da004881a443f8bd36ac4985717a3e",
       "version_major": 2,
       "version_minor": 0
      },
      "text/plain": [
       "PersistWidget(data_values=[{'__id_column': '1', 'Length': 'Short', 'Title': 'Wii Play', 'Max Players': 2, 'Mul…"
      ]
     },
     "execution_count": 18,
     "metadata": {},
     "output_type": "execute_result"
    }
   ],
   "source": [
    "NEW_COLUMN = \"Length\"\n",
    "\n",
    "chart = alt.Chart(df_task_3a).mark_bar().encode(\n",
    "    x=\"Genres:N\",\n",
    "    y=\"count():Q\",\n",
    "    color=f\"{NEW_COLUMN}:N\",\n",
    "    column=alt.Column(f\"{NEW_COLUMN}:N\").sort([\"Short\", \"Average\", \"Long\"]),\n",
    "    tooltip=\"count()\"\n",
    ")\n",
    "chart\n",
    "PR.PersistChart(chart)"
   ]
  },
  {
   "cell_type": "markdown",
   "id": "00e87acd-3759-49eb-9e43-d7793672297c",
   "metadata": {},
   "source": [
    "**Task 3b Notes:**\n",
    "\n",
    "- Top genre for `Short` games: __Action__ (_516_)\n",
    "- Top genre for `Average` games: __RPG__ (_14_)\n",
    "- Top genre for `Long` games: __RPG__ (_35_)"
   ]
  }
 ],
 "metadata": {
  "__CATEGORIES_META__": "{\"categories\":{\"Avlanche Season Phase\":{\"name\":\"Avlanche Season Phase\",\"options\":{\"_None\":{\"name\":\"None\"},\"Start\":{\"name\":\"Start\"},\"Middle\":{\"name\":\"Middle\"},\"End\":{\"name\":\"End\"}}}},\"activeCategoryName\":\"Avlanche Season Phase\"}",
  "__persist_keys_record": [
   "__GENERATED_DATAFRAMES__",
   "__persist_nb_uuid__",
   "trrack_graph",
   "show_aggregate_origin"
  ],
  "__persist_nb_uuid__": "b82fefc4-1e19-4099-9446-89eee2c7722b",
  "kernelspec": {
   "display_name": "Python 3 (ipykernel)",
   "language": "python",
   "name": "python3"
  },
  "language_info": {
   "codemirror_mode": {
    "name": "ipython",
    "version": 3
   },
   "file_extension": ".py",
   "mimetype": "text/x-python",
   "name": "python",
   "nbconvert_exporter": "python",
   "pygments_lexer": "ipython3",
   "version": "3.8.16"
  }
 },
 "nbformat": 4,
 "nbformat_minor": 5
}
