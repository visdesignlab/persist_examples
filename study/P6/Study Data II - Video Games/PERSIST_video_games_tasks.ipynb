{
 "cells": [
  {
   "cell_type": "markdown",
   "id": "522fcbb3-702c-4ea0-91d9-f3b0e71690fc",
   "metadata": {
    "__GENERATED_DATAFRAMES__": "{\"nodeDataframes\":{},\"graphDataframes\":null}",
    "show_aggregate_original": "false",
    "trrack_graph": "ᯡ࠽䈌ʀ匦㢠⹰àᦴ΀࣪ʐ怶䦠挠᱊ࠥ䁁䂖㚥煤晬փ⊪ĸ暂䙠঳ैkᑄᄈ妐ଷᓋ⃩䖻Ṯ溜Φ䐡傠Ǒ団Қ′䈤7ࡣᠠ湐戎Ⴆ寐爤䀥屨攠ʕ㥀ǔÚ䍃㏙䤥ࢂ┩勸惀Ēいཆ༠೥∁∀秸㲅䌠ⶬᛦ䙂ǃɡ殍戰泤ᒁ嬦怭㋉匥穃ᄠ彣჻⴦䉫ぢ睤䄁ⵐۻG䀡曑砑䂱竖ᄂ㜿Ꭽ˹ȩᚱ凁兘㑐Ṣ༩Ẻ䳥⑆憰棨忞⍧攈堽Ī僰὆揖䦲ᡊ⛓౱নఱ姼ᤦΧ您別൧儸晋Ǣ熘繀䉁硨K塊়ṹᜰ倳䪂ⵦ⚈ᒽ᪺ᆬ䀠 "
   },
   "source": [
    "# Analyzing Video Games Across Genres"
   ]
  },
  {
   "cell_type": "markdown",
   "id": "19cb3971-5981-474c-8250-7981c7c9cc8a",
   "metadata": {
    "trrack_graph": "ᯡ࠽䈌ʀ匦㢠⹰ૠܠ昢〽䂆౐׀ৣfL⍉ျ⥒⠡䒙¬ᧇ峕搢ಒ嫒┠অҤᵖ㹢晴㘉ᦳㄍ毿䡨墠ᨰV䆼ガ搢⡠䀢焨㌠෦ౝ戰殖๠ᠠ塩ೀn坄V䀷⢄㚗᥂夬ು䅻ఴ>☤䝃傳狱⊔㳜ੁ䀶挫㐷ࢢӡჵ嬩іㄪᢉ懐ͻ䬥䇽ࣨ䁏僿峱䐰㋸ᇻ兀㡆䱍㛠਀ⲛ粀೽疨һ䟩桁㙡Ũ昙ˢ䧮ᄪᆽ䥢ᅅᄁẩ㱸౮ᐶޣ先ఽЃⵖᥒ⌥▶懜ᩑƢ᭛䭄憐ɑ٦⦈䙓ǂ炘㸠䱅࢜ؠଌથ䜯๡䙉夊᜶僑汢㭢☈₁䠠 "
   },
   "source": [
    "**Participant ID:**  P6\n",
    "\n",
    "**Date / Time:**"
   ]
  },
  {
   "cell_type": "markdown",
   "id": "ceac0d48-2820-4532-bfd2-adf6533d7a2d",
   "metadata": {},
   "source": [
    "# Introduction\n",
    "Welcome to our data analysis study. For this study, you'll be working with a dataset sourced [Corgis Datasets Project](https://corgis-edu.github.io/corgis/).\n",
    "\n",
    "The data was originally published in the publication [“What makes a blockbuster video game? An empirical analysis of US sales data.” Managerial and Decision Economics](https://researchportal.port.ac.uk/en/publications/what-makes-a-blockbuster-video-game-an-empirical-analysis-of-us-s) by Dr Joe Cox. \n",
    "\n",
    "The dataset has information about the sales and playtime of over a thousand video games released between 2004 and 2010. The playtime information was collected from crowd-sourced data on [\"How Long to Beat\"](https://howlongtobeat.com/)."
   ]
  },
  {
   "cell_type": "markdown",
   "id": "68491102-96aa-4701-8134-d998c80ae04b",
   "metadata": {},
   "source": [
    "- You will use an extension called PersIst to complete **data cleanup and manipulation** tasks. \n",
    "- Interactive charts and tables have been pre-created for your convenience. These can be directly utilized by running the corresponding cells.\n",
    "- Focus on leveraging the interactive capabilities of Persist for your analysis.\n",
    "- Carefully follow the step-by-step instructions provided for each task.\n",
    "- In some cases, you will be asked to document your findings. Please do this in writing in a markdown cell.\n",
    "- As you work through the tasks, take note of any interesting findings or challenges with the software or pandas that you may encounter, either by speaking your thoughts out loud or taking notes in a markdown cell.\n",
    "- Feel free to add new code and markdown cells in the notebook as necessary to complete the tasks, but please do attempt the tasks with the PersIst functionality."
   ]
  },
  {
   "cell_type": "code",
   "execution_count": 1,
   "id": "9337796b-21e8-4c8c-bbbd-3076a775d03b",
   "metadata": {},
   "outputs": [],
   "source": [
    "import helpers as h\n",
    "import pandas as pd\n",
    "import altair as alt\n",
    "\n",
    "import persist_ext as PR"
   ]
  },
  {
   "cell_type": "markdown",
   "id": "dd81aecd-eebf-4624-b9e2-3a864c474c1d",
   "metadata": {
    "__GENERATED_DATAFRAMES__": "{\"nodeDataframes\":{},\"graphDataframes\":null}",
    "show_aggregate_original": "false",
    "trrack_graph": "ᯡ࠽䈌ʀ匦㢠⹰Ҁ̡䘠烠嘢త〫‥侴ᓬᛞ拐ৡ䚂ద抭婈ހڅྯ䌲⠠䭈⑁槑焳Ⴥ⩦仃㍶๽㰥Ҩǁ#㟢䌰橠ኤРᜰ͐üメ湁˛㾄ָ̠憴)挄䀦栢琭ٮ㍄ᨡ䌤ᾣㆢ䀣擠䢤㘦Sᥧᡠ戂怡ᠬÖᠻ㹈䐿ة׉妨⃓ࢱ̴㖠᫲徤ฏѤƜڣ回㸦ۡ৵ण䃔戊㘠传ϊ緯挡䘌污䕽庮粓㈨ɪⷠ搃猄ᦨ洘㳌ᤪ̪౦繶ሱ澂䘣⁑Ҝഭ炍孉ृÅ⭱䤾ᢠ䆋෭ኀ㠢Ү≱呺Ấ惑汮ᮯ戩䊏̠˙Ɂ⧽憳㈒ṉⅱਊ⥋⃆瑀⣨  "
   },
   "source": [
    "## Data Description\n",
    "\n",
    "The table below describes the different columns in the dataset. Each row in the dataset represents a video game.\n",
    "\n",
    "| Column        | Description                                                                                                                                                           |\n",
    "|---------------|-----------------------------------------------------------------------------------------------------------------------------------------------------------------------|\n",
    "| Title         | Full title of the game.                                                                                                                                               |\n",
    "| Max Players   | The maximum number of players that can play this game.                                                                                                                |\n",
    "| Multiplatform | Whether this game is available on multiple platforms.                                                                                                                 |\n",
    "| Online        | Whether this game supports online play.                                                                                                                               |\n",
    "| Genres        | The main genre that this game belongs to.                                                                                                                             |\n",
    "| Licensed      | Whether this game was based off a previously licensed entity.                                                                                                         |\n",
    "| Publishers    | The publishers who created this game.                                                                                                                                 |\n",
    "| Review Score  | A review score for this game, out of 100.                                                                                                                             |\n",
    "| Re-release    | Whether this game is a re-release of an earlier one.                                                                                                                  |\n",
    "| Year          | The year that this game was released.                                                                                                                                 |\n",
    "| Comp_Time_All | The median time that players reported completing the game in any way, in hours.                                                                                       |\n",
    "| Comp_Time_Main| The median time that players reported completing the main game storyline, in hours.                                                                                   |"
   ]
  },
  {
   "cell_type": "code",
   "execution_count": 2,
   "id": "8d0e426c-89a0-4813-8994-65ebba3f3a25",
   "metadata": {},
   "outputs": [
    {
     "data": {
      "text/html": [
       "<div>\n",
       "<style scoped>\n",
       "    .dataframe tbody tr th:only-of-type {\n",
       "        vertical-align: middle;\n",
       "    }\n",
       "\n",
       "    .dataframe tbody tr th {\n",
       "        vertical-align: top;\n",
       "    }\n",
       "\n",
       "    .dataframe thead th {\n",
       "        text-align: right;\n",
       "    }\n",
       "</style>\n",
       "<table border=\"1\" class=\"dataframe\">\n",
       "  <thead>\n",
       "    <tr style=\"text-align: right;\">\n",
       "      <th></th>\n",
       "      <th>Title</th>\n",
       "      <th>Max Players</th>\n",
       "      <th>Multiplatform?</th>\n",
       "      <th>Online?</th>\n",
       "      <th>Genres</th>\n",
       "      <th>Licensed?</th>\n",
       "      <th>Comp_Time_All</th>\n",
       "      <th>Re-release?</th>\n",
       "      <th>Comp_Time_Main</th>\n",
       "      <th>Review Score</th>\n",
       "      <th>Year</th>\n",
       "      <th>Publishers</th>\n",
       "    </tr>\n",
       "  </thead>\n",
       "  <tbody>\n",
       "    <tr>\n",
       "      <th>0</th>\n",
       "      <td>Super Mario 64 DS</td>\n",
       "      <td>1</td>\n",
       "      <td>True</td>\n",
       "      <td>True</td>\n",
       "      <td>Action</td>\n",
       "      <td>True</td>\n",
       "      <td>24.48</td>\n",
       "      <td>True</td>\n",
       "      <td>14.50</td>\n",
       "      <td>85</td>\n",
       "      <td>2004</td>\n",
       "      <td>Nintendo</td>\n",
       "    </tr>\n",
       "    <tr>\n",
       "      <th>1</th>\n",
       "      <td>Lumines: Puzzle Fusion</td>\n",
       "      <td>1</td>\n",
       "      <td>True</td>\n",
       "      <td>True</td>\n",
       "      <td>Strategy</td>\n",
       "      <td>True</td>\n",
       "      <td>10.00</td>\n",
       "      <td>True</td>\n",
       "      <td>10.00</td>\n",
       "      <td>89</td>\n",
       "      <td>2004</td>\n",
       "      <td>Ubisoft</td>\n",
       "    </tr>\n",
       "    <tr>\n",
       "      <th>2</th>\n",
       "      <td>WarioWare Touched!</td>\n",
       "      <td>2</td>\n",
       "      <td>True</td>\n",
       "      <td>True</td>\n",
       "      <td>Action</td>\n",
       "      <td>True</td>\n",
       "      <td>2.50</td>\n",
       "      <td>True</td>\n",
       "      <td>1.83</td>\n",
       "      <td>81</td>\n",
       "      <td>2004</td>\n",
       "      <td>Nintendo</td>\n",
       "    </tr>\n",
       "    <tr>\n",
       "      <th>3</th>\n",
       "      <td>Hot Shots Golf: Open Tee</td>\n",
       "      <td>1</td>\n",
       "      <td>True</td>\n",
       "      <td>True</td>\n",
       "      <td>Sports</td>\n",
       "      <td>True</td>\n",
       "      <td>-100.00</td>\n",
       "      <td>True</td>\n",
       "      <td>-100.00</td>\n",
       "      <td>81</td>\n",
       "      <td>2004</td>\n",
       "      <td>Sony</td>\n",
       "    </tr>\n",
       "    <tr>\n",
       "      <th>4</th>\n",
       "      <td>Spider-Man 2</td>\n",
       "      <td>1</td>\n",
       "      <td>True</td>\n",
       "      <td>True</td>\n",
       "      <td>Action</td>\n",
       "      <td>True</td>\n",
       "      <td>10.00</td>\n",
       "      <td>True</td>\n",
       "      <td>8.00</td>\n",
       "      <td>61</td>\n",
       "      <td>2004</td>\n",
       "      <td>Activision</td>\n",
       "    </tr>\n",
       "  </tbody>\n",
       "</table>\n",
       "</div>"
      ],
      "text/plain": [
       "                      Title Max Players  Multiplatform?  Online?    Genres  \\\n",
       "0         Super Mario 64 DS           1            True     True    Action   \n",
       "1    Lumines: Puzzle Fusion           1            True     True  Strategy   \n",
       "2        WarioWare Touched!           2            True     True    Action   \n",
       "3  Hot Shots Golf: Open Tee           1            True     True    Sports   \n",
       "4              Spider-Man 2           1            True     True    Action   \n",
       "\n",
       "   Licensed?  Comp_Time_All  Re-release?  Comp_Time_Main  Review Score  Year  \\\n",
       "0       True          24.48         True           14.50            85  2004   \n",
       "1       True          10.00         True           10.00            89  2004   \n",
       "2       True           2.50         True            1.83            81  2004   \n",
       "3       True        -100.00         True         -100.00            81  2004   \n",
       "4       True          10.00         True            8.00            61  2004   \n",
       "\n",
       "   Publishers  \n",
       "0    Nintendo  \n",
       "1     Ubisoft  \n",
       "2    Nintendo  \n",
       "3        Sony  \n",
       "4  Activision  "
      ]
     },
     "execution_count": 2,
     "metadata": {},
     "output_type": "execute_result"
    }
   ],
   "source": [
    "df = pd.read_csv('video_games.csv')\n",
    "df.head()"
   ]
  },
  {
   "cell_type": "markdown",
   "id": "7cc10d2b-9b1e-46f4-9769-b9a0ac0c9e8f",
   "metadata": {
    "__GENERATED_DATAFRAMES__": "{\"nodeDataframes\":{},\"graphDataframes\":null}",
    "show_aggregate_original": "false",
    "trrack_graph": "ᯡ࠽䈌ʀ匦㢠⹰ૠ㌬Ā჻R〶䁃lyٹ⁓f䍐ۢ䧪㈉◔ฅޡ䨲⠠䬱䑁棒瀱Ⴭ⭱妻ݎẜʤ䐡傠ǖ悃РኤРᜰ結üメ浪巟㈠ᣠˬ⃪$熒‣㐡㬚͇⦲༿⸂໡壡‡犀⒂ଠᎭॣ䥡⊃㡹稠嬸ූᑤඦҡ哹䑀妨䤝͕䀺慽䈩瞤∡㼚ƶ嵖᯦悡檩ǣ᪀畖o#䖊⠃ܑ璌⃥⹾䞌᧒Т⺈ᆡ⇳㴑䒤㒌ŭ᯸丈◡戱⃰潅Ԧ秐噑๦磜疶溂⒀ᒪ扖⋦ူⶃ㧄మྡྷშ⨭རㅸ瘭ǅ爘䅐䘆砠址䑂㥨㈼㹯䕈䓵ᒹ憴婊③ᤠ "
   },
   "source": [
    "# Task 1: Column Names and Data Types\n",
    "\n",
    "In the first task we will perform some basic data cleaning operations to get our dataset ready for further tasks."
   ]
  },
  {
   "cell_type": "markdown",
   "id": "8934b219-dd97-4e3e-9aa9-0dd7a9d62ad5",
   "metadata": {
    "__GENERATED_DATAFRAMES__": "{\"nodeDataframes\":{},\"graphDataframes\":null}",
    "show_aggregate_original": "false",
    "trrack_graph": "ᯡ࠽䈌ʀ匦㢠⹰ૠ㬠氤〥䌸瀶䀹䁣๲ৠܦᔨҀᣴ䂼䋃‣ᓆ做►䀳ല⠠䭈⑁槑瀱ᝉ⍮冫㭮ẜʦ䒠ǁ#㕀挸晠ኤРᝣၐüムṁǟ㤉䀥䉸攠ʓ㥀ǔÚ⎃஥䤫䒄攭ᇸ惀Ēいᘦᖠೣ䗫⃂変ⱦ{ఽ咼∪⌤䋵汄ჹ䑈冣ᛠඉⵆܔ⍂Þ⍡歹ম悩溩Ǡ媁疖o#䖓瀃ʅ璌⁅溮杲◒Ъ⍁䔶户ࣉⓢ削౐䘰䵥䌂んḸئԢ灐糕൤㧶ⶬ䲱䅲ᗈ撯ౠ惍䈅䥐属ѣ၈⩍སヸ๗௧焤ᄸ䒰Ž䅰䔉燩壥༲刳樲⭮✈咰ᒄ  "
   },
   "source": [
    "### Task 1a: Remove Columns"
   ]
  },
  {
   "cell_type": "markdown",
   "id": "47b531d4-2e3a-4e9a-b92a-39aebfc3deb6",
   "metadata": {
    "__GENERATED_DATAFRAMES__": "{\"nodeDataframes\":{},\"graphDataframes\":null}",
    "show_aggregate_original": "false",
    "trrack_graph": "ᯡ࠽䈌ʀ匦㢠⹰ૠ㬠氤〥䌸瀶䀹䁣๲ৠܦᔨҀᣴ䂼䋃‣ᓆ做►䀳ല⠠䭈⑁槑瀱ᝉ⍮冫㭮ẜʦ䒠ǁ#㕀挸晠ኤРᝣၐüムṁǟ㤉䀥䉸攠ʓ㥀ǔÚ⎃஥䤫䒄攭ᇸ惀Ēいᘦᖠೣ䗫⃂変ⱦ{ఽ咼∪⌤䋵汄ჹ䑈冣ᛠඉⵆܔ⍂Þ⍡歹ম悩溩Ǡ媁疖o#䖓瀃ʅ璌⁅溮杲◒Ъ⍁䔶户ࣉⓢ削౐䘰䵥䌂んḸئԢ灐糕൤㧶ⶬ䲱䅲ᗈ撯ౠ惍䈅䥐属ѣ၈⩍སヸ๗௧焤ᄸ䒰Ž䅰䔉燩壥༲刳樲⭮✈咰ᒄ  "
   },
   "source": [
    "Remove the following columns to streamline the dataset for further analysis:\n",
    "\n",
    "- **_Re-release?:_** Boolean flag indicating if the game was a new release or a re-release.\n",
    "- **_Comp_Time_All:_** Average of all other completition times, we will use one of the others directly"
   ]
  },
  {
   "cell_type": "markdown",
   "id": "aec9ad2a-ab09-4288-b8fa-2852bcddda1a",
   "metadata": {},
   "source": [
    "#### **Instructions**\n",
    "1. **Column Removal:**\n",
    "\t- Use the interactive table feature in PersIst to remove the specified columns.\n",
    "3. **Verify the Output:**\n",
    "\t- Print the head of the generated dataframe to verify the changes."
   ]
  },
  {
   "cell_type": "code",
   "execution_count": 3,
   "id": "8e333ff3-cb24-430b-a332-733b41570ba4",
   "metadata": {
    "__GENERATED_DATAFRAMES__": "ᯡࠩ䃬࿀ᜤᠹ悋ᐨ推̅ሣ䧠ⶠ卍捯ᥔᠣ℠▢dʘϔᝠ捌〤瀵摠៨⠠ ",
    "__has_persist_output": true,
    "editable": true,
    "slideshow": {
     "slide_type": ""
    },
    "tags": [],
    "trrack_graph": "ᯡ࠽䈌ʀ匦㢠⹰࣢䆬Āೠ⍈ʀୠ…☢墨˦䁣ᆸއⱬ巈ۭ媡䳴拴牪2攩кᙜ䉅擊检㚊摽䮯㽡ᓢ†洊烤ᲰӁĠפìW౐㮨⃎濹ݠƊᢅ\"㣙အ婀☸ጠᎽ̭䂆恱⇈㒼⡾⍔㜨䩫ԅ恰恰ёʁN䃰攆㉥ျ偢瑖ᡈ\\䰩ʤ故ၲㅘᒣ♮ਡ䀶挣㏁ࢡ棡დ᭱їㄬᵲצ堣ⵆ瑡㸐敠០撚屯⃸ᅗ宐ᖸ㳭䀳怠熟㨘懰笿д▓㲮ᴼ晠䄂⒤喫⣉⤨䘊灑ിᅡࣘὸ䝡ₔ㘠䓡⁰✷䕋㴏៲⚈惍௬炄౱Ȿᑩࣩ⩽ᓫ㉬⹿ᆢ૥⥼嘲⇰箹䮨ቩ੭ጃ㦸๯၉੅ᥢ圓ೆф 䒢ࠧ怠Ꮐၣ*璹䁦䖦ɀ䋕ᴮƠĜ漽∯㦢䍠࿊㑺嚤৏爤ℭ䉁ℴ粄嬤ⁱ␢⮵䬁梌ত⃥㩾厮䅑㵽Э墜䜷෥ႀ㢜ᢦ≰㒚ᆢ懐᲎ྠᄩ帺⺹梍㶞傌᪐ㅱ䪃᧭ქ妊槍戍垁<䜳䈁㡌䆋享㯼嬣ฮრq㘻Й漓ᐢ՘ആ堼絘坯ᵕ甛㹀ㆆ搒䈀硴і⑁߸揤漭笘䤠ϲ⤷䂁䄫⌛㴯䠉䵫☠ါ䐘㹟挠­攦彶䨧屐ᴫℐ⺈弢ݣ愥ڰ㝆ູ㢆ѡ桾༹࡜摲堸̠⢔๰䁔ሢ羗ݣঀᾧ䄟ⲥ̰̥䤐䈁洧⭫ᵗ⺓㙿倒ƀ⎂涌ृ⑪杀步ེ呆槂嬽ీ坺䴀ℴ˚〉സ⡸漺᎙Ⲻ厔榻䙑䮻獱♀⒗Ԅ峗Ⴛ࡯ᦫ㲬斻糜枻瑃ʃ檗࿊ള⒥ⵃ‣рⓠ䈠ૈ䚸㺠дᤆǦ㢾䐧䆨⁑ℽ䑖ӁȀᣥ䱓ᚲ喱䪼婌⫝̸奰૊塰橭׃㓽䟃琣ࢄతҀ၃嚇䰳团伋጑洛ᄆᲗ匃⻂܅ḽ␥滐ᄖẻ䴐弇㬕廫䞖㱯䪷㢏䐑ᄰ䱇↸㬪ƽ㱬ᆲこǄᐕ䆲Ὄᕞ䓋ᖵ㳠ॢ␧纠㜩Ȁ㢩䧄☐傣䙂䂘̵႙兢䂪䦮値໰⛸ʽሤᜤ先ᾯ⧞ကɠ嗥樚⋕䣵䅣囪Ǔ⠺ז植䛫吰䂤㋈竣ᘦⁿ䣕䥡⢭嵦㙺ැ᙭ᳲӽ㉣לٓ䚱⥑䖉之祙先ᚇࠠ "
   },
   "outputs": [
    {
     "data": {
      "application/vnd.jupyter.widget-view+json": {
       "model_id": "5715c7bb31e048afa78a9361642a6e3d",
       "version_major": 2,
       "version_minor": 0
      },
      "text/plain": [
       "PersistWidget(data_values=[{'__id_column': '1', 'Title': 'Super Mario 64 DS', 'Max Players': '1', 'Multiplatfo…"
      ]
     },
     "execution_count": 3,
     "metadata": {},
     "output_type": "execute_result"
    }
   ],
   "source": [
    "PR.PersistTable(df, df_name=\"df_task_1a\")"
   ]
  },
  {
   "cell_type": "code",
   "execution_count": 4,
   "id": "e8e0dea8-f4a3-40fd-886c-b9efff134765",
   "metadata": {},
   "outputs": [
    {
     "data": {
      "text/html": [
       "<div>\n",
       "<style scoped>\n",
       "    .dataframe tbody tr th:only-of-type {\n",
       "        vertical-align: middle;\n",
       "    }\n",
       "\n",
       "    .dataframe tbody tr th {\n",
       "        vertical-align: top;\n",
       "    }\n",
       "\n",
       "    .dataframe thead th {\n",
       "        text-align: right;\n",
       "    }\n",
       "</style>\n",
       "<table border=\"1\" class=\"dataframe\">\n",
       "  <thead>\n",
       "    <tr style=\"text-align: right;\">\n",
       "      <th></th>\n",
       "      <th>Title</th>\n",
       "      <th>Max Players</th>\n",
       "      <th>Multiplatform?</th>\n",
       "      <th>Online?</th>\n",
       "      <th>Genres</th>\n",
       "      <th>Licensed?</th>\n",
       "      <th>Comp_Time_Main</th>\n",
       "      <th>Review Score</th>\n",
       "      <th>Year</th>\n",
       "      <th>Publishers</th>\n",
       "    </tr>\n",
       "  </thead>\n",
       "  <tbody>\n",
       "    <tr>\n",
       "      <th>0</th>\n",
       "      <td>Super Mario 64 DS</td>\n",
       "      <td>1</td>\n",
       "      <td>True</td>\n",
       "      <td>True</td>\n",
       "      <td>Action</td>\n",
       "      <td>True</td>\n",
       "      <td>14.5</td>\n",
       "      <td>85</td>\n",
       "      <td>2004</td>\n",
       "      <td>Nintendo</td>\n",
       "    </tr>\n",
       "    <tr>\n",
       "      <th>1</th>\n",
       "      <td>Lumines: Puzzle Fusion</td>\n",
       "      <td>1</td>\n",
       "      <td>True</td>\n",
       "      <td>True</td>\n",
       "      <td>Strategy</td>\n",
       "      <td>True</td>\n",
       "      <td>10.0</td>\n",
       "      <td>89</td>\n",
       "      <td>2004</td>\n",
       "      <td>Ubisoft</td>\n",
       "    </tr>\n",
       "    <tr>\n",
       "      <th>2</th>\n",
       "      <td>WarioWare Touched!</td>\n",
       "      <td>2</td>\n",
       "      <td>True</td>\n",
       "      <td>True</td>\n",
       "      <td>Action</td>\n",
       "      <td>True</td>\n",
       "      <td>1.83</td>\n",
       "      <td>81</td>\n",
       "      <td>2004</td>\n",
       "      <td>Nintendo</td>\n",
       "    </tr>\n",
       "    <tr>\n",
       "      <th>3</th>\n",
       "      <td>Hot Shots Golf: Open Tee</td>\n",
       "      <td>1</td>\n",
       "      <td>True</td>\n",
       "      <td>True</td>\n",
       "      <td>Sports</td>\n",
       "      <td>True</td>\n",
       "      <td>-100.0</td>\n",
       "      <td>81</td>\n",
       "      <td>2004</td>\n",
       "      <td>Sony</td>\n",
       "    </tr>\n",
       "    <tr>\n",
       "      <th>4</th>\n",
       "      <td>Spider-Man 2</td>\n",
       "      <td>1</td>\n",
       "      <td>True</td>\n",
       "      <td>True</td>\n",
       "      <td>Action</td>\n",
       "      <td>True</td>\n",
       "      <td>8.0</td>\n",
       "      <td>61</td>\n",
       "      <td>2004</td>\n",
       "      <td>Activision</td>\n",
       "    </tr>\n",
       "  </tbody>\n",
       "</table>\n",
       "</div>"
      ],
      "text/plain": [
       "                      Title Max Players  Multiplatform?  Online?    Genres  \\\n",
       "0         Super Mario 64 DS           1            True     True    Action   \n",
       "1    Lumines: Puzzle Fusion           1            True     True  Strategy   \n",
       "2        WarioWare Touched!           2            True     True    Action   \n",
       "3  Hot Shots Golf: Open Tee           1            True     True    Sports   \n",
       "4              Spider-Man 2           1            True     True    Action   \n",
       "\n",
       "   Licensed?  Comp_Time_Main  Review Score  Year  Publishers  \n",
       "0       True            14.5            85  2004    Nintendo  \n",
       "1       True            10.0            89  2004     Ubisoft  \n",
       "2       True            1.83            81  2004    Nintendo  \n",
       "3       True          -100.0            81  2004        Sony  \n",
       "4       True             8.0            61  2004  Activision  "
      ]
     },
     "execution_count": 4,
     "metadata": {},
     "output_type": "execute_result"
    }
   ],
   "source": [
    "df_task_1a.head()"
   ]
  },
  {
   "cell_type": "markdown",
   "id": "36c62d50-9c88-4ed9-8c97-e552a6e4c620",
   "metadata": {},
   "source": [
    "### Task 1b: Fix Column Names"
   ]
  },
  {
   "cell_type": "markdown",
   "id": "ab8f8f24-afd2-424f-ab34-3e3cde723aa3",
   "metadata": {
    "trrack_graph": "ᯡ࠽䈌ʀ匦㢠⹰ࢀㆪこ<ǐʀ୥崡汤Ɓ䔠⍂⠨撂䂼ì债晶堪慯掩ᐠ▴ሰ璹㤨䮲减ⓥ䢧᜾㺣䉠ð䀡壅冨㕀ॢȠ௞䠸ᢀ眰䅽忖䀢晐樠Ԃ牠ΈƔڦ❓ሠƠ暬ॡ声Ȅ恨䙜⬮ಬ俨⫣䞐డ㙐᬴⣔䰲ճ㌰䊆၂۔欠㖹┰᧶༨̘ඛฌ琻ɋ㉄ܠ榡哸Ŝ.ؗ⾬ള勑̵㯺ᱱ曨ဩᒡᾪ३⁂惡৒ј⪖ᩋࢶ䥣䍢ᇃ⢀☾ԣ䖎㑝䳓ⳄⓀ᪱ĦҐ戤׌㝔䆦成扉ڠ凈㨣ೣㅘ湏Bࡤ䒠ଈତޗ٩䟨㣜㥨◈ᩲ㭡⟢䀠 "
   },
   "source": [
    "It looks like our dataset header went wrong when reading the file and some column headers end with a `?`. **Please remove the question marks from all headers**. "
   ]
  },
  {
   "cell_type": "markdown",
   "id": "63f4d5c5-9383-4857-beae-0cfa6ba466f2",
   "metadata": {},
   "source": [
    "#### **Instructions**\n",
    "1. **Rename Columns:**\n",
    "    - Use the interactive  table in Persist to correct the column names by removing the trailing `?` from their names:\n",
    "        - _Licensed?_ → _Licensed_\n",
    "        - _Multiplatform?_ → _Multiplatform_\n",
    "        - _Online?_ → _Online_\n",
    "2. **Verify the Output:**\n",
    "\t- Print the head of the generated dataframe to verify the changes."
   ]
  },
  {
   "cell_type": "code",
   "execution_count": 5,
   "id": "b7027112-7291-4136-926e-a4c06c7de200",
   "metadata": {
    "__GENERATED_DATAFRAMES__": "ᯡࠩ䃬࿀ᜤᠹ悋ᐨ怱䐢犲ǩ怶恉宑召䵬ð䀲悠ᄡḡ沯偑嬸Ř˛ࠥ笪  ",
    "__has_persist_output": true,
    "trrack_graph": "ᯡ࠽䈌ʀ匦㢠⹰Ǡᆡᰥㅠظ〶䖺ᖔါᝈ⨱䩹Ц〰曎尦ᣀච㌠婄倡ᙰ䡣厃恌⩼䪭ᴦᣬ汛㰔ठ͢&曦ὤ䁅ШN嵀〡岁䍼℮㖆玠֨终n䝄V䐭Ӡ҂㈐Ǹl壢Ɐ޼ᥫ䐂ႁ児瑈⡔㑬ᙍť䅦䒠Ɣ笚箃቎ཱི䀲擑䅠Ȅ恨焈䜹㥖ᖬ䥣栢沁ᙌ愰ସሪ㦂Ⴆ癁ϋℶᣫ࿫㰹⠥稉皷Ⲽ䬤᫦渱㌣᳐ʘ<ཎ⼸✶昂Ʉ燑汌হġ䐲ష僠⡰ᔰ䘈犪⩠嗠ኼᐥ䊂抙ᐿ䜪扖㏭炳ᩐ⭡牚⦚ᡲᆫ抩㉵ዀ㊔㙳Ꮸ੥६僊䈀䮦䪩戩ብ፨她๣Ć૥⥼凒ಈ㵥敒᱌ӠD灀素ଆᦡᫎ彯磠⛒患඀⧌璕E怩䀺䰠߱氕䍧丅磽您ަ䔂ケʤ抨ਪߠ儈ౌ⪰懢斔⌨≈丵⟁㴖䝓䥄悐簱ɣჲ╝ࣥㇸ⹏C炤⚫⛴當廟⯧灰磈戠䳆ᦼ惕㖶嗚浮涖緁投䴜玫খ峇ြف䀠兆থ祼㍈Ȩ㨈竐᤟Ḉ瞒㈊篜ₜ狥爣䄀吡Üሠ䘈㊑໧櫲㰩#梩4ؕІ瑝㟋吭㝢㡟᠊璀。尠同ɼ࠾Ԕ␷吿✧惐㩢慑≯楈ధ恳ጧै✢恐㩨⡈ౡ⒔㈱ၸ̣バ栳Ɇ,ឣڠֱみ弮ʤ⚁᪆峰䠪⇱´䎄糿᠇粶൲〲੥ᛒː⣴ᚡ囊໐梭孠⻕ǡ́ƕ܁䦤䛱劣䘩䌢♉䵑䀹䨢晙侷ࡎ׮ᒎア䙱㙗䚩奓儞ぎ֪䣡ˎᵲ橞䄬樠٤␞〮ϔ䭺氅䋑悵焩桘ᝤĩ⽧ᘚ⚠ᰘ䂭㋬尭ĥ壺ᅅ瘲䈐丼䆤ਭȰ⠣Ȑ⃏䄐墢䋤梣̆䁍椶䅮䢪䙼⪄㙷ᐄ奻䡊囬䯖⺧刔尠ㄐ਼ᇽ炼㉬榴મ⬼㣌右だᶯ〼ᮡ㦼ᄢ爾ᮺ禎巿㫎⏤禣ြ穾篼㯸䣘⟥磩ၨ᎑呌だܿ䔡䅋ᓠ兗榠䥅炡ᕂ槉⹄ʞṏ䘆抇ٕ犁ճ၀唵櫉▃㥅挓⫝右岁嗁㿳ד့ӵဠ䑞䡱㖀㺢㞤ḳ䅒ᡳ䇰ਥ䟢炵᪱積ˤ⠯䇉൓憜ᾯ煘㵀撶᤼寨⫼擈㔾媈⛨⇹㪤૤䂛圕犠㑈懔㕐燒㝭姞㙍旆㐒⻇埽焕ᨭ癄㘰㇂㕭᧜ᇭ׉㓍᪽ᖸ力⦩⍼☊紩㏁䬩䁠㼬ㆵ᭾幗ᄹ廗眆捚⋱嗡ટ椘盒㢌糽㑨ࣂ᭥ཎយ彀㐥䳺Ⴔ᳴瞲໲瞖撫ͭᐠ㤮។ǝ䖢㦝㐦㨝⯱㭎梎ຎ堲ా殴Ƀ痡໣疡㣾᭥⌧惦恅䜏䣬⡲⸑傺姅䎁᳐獺眆ᆌ⫅⹍ၙ䰵䁫姉᪓Ҳ䤰ᜎ✈き曼᷵磀䉣࢏㪰羓బઆ呎䌟䑭灔Ԑ兺撣珇ἦ偈ˠӇ悴֡䌯ᶨ偤砣㏋ᘦᐸÄᮇ㛺⤌〿⑼ც嶼䉶⊤筺杰ۥ僭佬ذᲰྡ⤣⡸ᆀ棒拱卍Ȿ斄ُ汜ཱ籌磘ଥܬ砊ⴉ໙澼燨屫䥘嚱愠  "
   },
   "outputs": [
    {
     "data": {
      "application/vnd.jupyter.widget-view+json": {
       "model_id": "06bddebf46a144a48baecf338c73a39a",
       "version_major": 2,
       "version_minor": 0
      },
      "text/plain": [
       "PersistWidget(data_values=[{'__id_column': '1', 'Title': 'Super Mario 64 DS', 'Max Players': '1', 'Multiplatfo…"
      ]
     },
     "execution_count": 5,
     "metadata": {},
     "output_type": "execute_result"
    }
   ],
   "source": [
    "PR.PersistTable(df_task_1a, df_name=\"df_task_1b\")"
   ]
  },
  {
   "cell_type": "code",
   "execution_count": 6,
   "id": "dbbc4a23-725b-4aff-8658-cfbe43a842ce",
   "metadata": {},
   "outputs": [
    {
     "data": {
      "text/html": [
       "<div>\n",
       "<style scoped>\n",
       "    .dataframe tbody tr th:only-of-type {\n",
       "        vertical-align: middle;\n",
       "    }\n",
       "\n",
       "    .dataframe tbody tr th {\n",
       "        vertical-align: top;\n",
       "    }\n",
       "\n",
       "    .dataframe thead th {\n",
       "        text-align: right;\n",
       "    }\n",
       "</style>\n",
       "<table border=\"1\" class=\"dataframe\">\n",
       "  <thead>\n",
       "    <tr style=\"text-align: right;\">\n",
       "      <th></th>\n",
       "      <th>Title</th>\n",
       "      <th>Max Players</th>\n",
       "      <th>Multiplatform</th>\n",
       "      <th>Online</th>\n",
       "      <th>Genres</th>\n",
       "      <th>Licensed</th>\n",
       "      <th>Comp_Time_Main</th>\n",
       "      <th>Review Score</th>\n",
       "      <th>Year</th>\n",
       "      <th>Publishers</th>\n",
       "    </tr>\n",
       "  </thead>\n",
       "  <tbody>\n",
       "    <tr>\n",
       "      <th>0</th>\n",
       "      <td>Super Mario 64 DS</td>\n",
       "      <td>1</td>\n",
       "      <td>True</td>\n",
       "      <td>True</td>\n",
       "      <td>Action</td>\n",
       "      <td>True</td>\n",
       "      <td>14.5</td>\n",
       "      <td>85</td>\n",
       "      <td>2004</td>\n",
       "      <td>Nintendo</td>\n",
       "    </tr>\n",
       "    <tr>\n",
       "      <th>1</th>\n",
       "      <td>Lumines: Puzzle Fusion</td>\n",
       "      <td>1</td>\n",
       "      <td>True</td>\n",
       "      <td>True</td>\n",
       "      <td>Strategy</td>\n",
       "      <td>True</td>\n",
       "      <td>10.0</td>\n",
       "      <td>89</td>\n",
       "      <td>2004</td>\n",
       "      <td>Ubisoft</td>\n",
       "    </tr>\n",
       "    <tr>\n",
       "      <th>2</th>\n",
       "      <td>WarioWare Touched!</td>\n",
       "      <td>2</td>\n",
       "      <td>True</td>\n",
       "      <td>True</td>\n",
       "      <td>Action</td>\n",
       "      <td>True</td>\n",
       "      <td>1.83</td>\n",
       "      <td>81</td>\n",
       "      <td>2004</td>\n",
       "      <td>Nintendo</td>\n",
       "    </tr>\n",
       "    <tr>\n",
       "      <th>3</th>\n",
       "      <td>Hot Shots Golf: Open Tee</td>\n",
       "      <td>1</td>\n",
       "      <td>True</td>\n",
       "      <td>True</td>\n",
       "      <td>Sports</td>\n",
       "      <td>True</td>\n",
       "      <td>-100.0</td>\n",
       "      <td>81</td>\n",
       "      <td>2004</td>\n",
       "      <td>Sony</td>\n",
       "    </tr>\n",
       "    <tr>\n",
       "      <th>4</th>\n",
       "      <td>Spider-Man 2</td>\n",
       "      <td>1</td>\n",
       "      <td>True</td>\n",
       "      <td>True</td>\n",
       "      <td>Action</td>\n",
       "      <td>True</td>\n",
       "      <td>8.0</td>\n",
       "      <td>61</td>\n",
       "      <td>2004</td>\n",
       "      <td>Activision</td>\n",
       "    </tr>\n",
       "  </tbody>\n",
       "</table>\n",
       "</div>"
      ],
      "text/plain": [
       "                      Title Max Players  Multiplatform  Online    Genres  \\\n",
       "0         Super Mario 64 DS           1           True    True    Action   \n",
       "1    Lumines: Puzzle Fusion           1           True    True  Strategy   \n",
       "2        WarioWare Touched!           2           True    True    Action   \n",
       "3  Hot Shots Golf: Open Tee           1           True    True    Sports   \n",
       "4              Spider-Man 2           1           True    True    Action   \n",
       "\n",
       "   Licensed  Comp_Time_Main  Review Score  Year  Publishers  \n",
       "0      True            14.5            85  2004    Nintendo  \n",
       "1      True            10.0            89  2004     Ubisoft  \n",
       "2      True            1.83            81  2004    Nintendo  \n",
       "3      True          -100.0            81  2004        Sony  \n",
       "4      True             8.0            61  2004  Activision  "
      ]
     },
     "execution_count": 6,
     "metadata": {},
     "output_type": "execute_result"
    }
   ],
   "source": [
    "df_task_1b.head()"
   ]
  },
  {
   "cell_type": "markdown",
   "id": "3875e7fc-ec40-4241-aa94-87b31e59944f",
   "metadata": {},
   "source": [
    "## Task 1c: Correcting Data Type of 'Max Players'"
   ]
  },
  {
   "cell_type": "markdown",
   "id": "7a7eebda-1b60-4bff-89d3-a5548a601b49",
   "metadata": {},
   "source": [
    "There is a data type issue in `Max Players` column of our dataframe. The column is a category column and should have the pandas dtype of `category`."
   ]
  },
  {
   "cell_type": "code",
   "execution_count": 7,
   "id": "fb9bff61-9a8d-4114-97f3-4f6d0cd0e61e",
   "metadata": {},
   "outputs": [
    {
     "data": {
      "text/plain": [
       "Title             string[python]\n",
       "Max Players       string[python]\n",
       "Multiplatform            boolean\n",
       "Online                   boolean\n",
       "Genres            string[python]\n",
       "Licensed                 boolean\n",
       "Comp_Time_Main           Float64\n",
       "Review Score               Int64\n",
       "Year                       Int64\n",
       "Publishers        string[python]\n",
       "dtype: object"
      ]
     },
     "execution_count": 7,
     "metadata": {},
     "output_type": "execute_result"
    }
   ],
   "source": [
    "df_task_1b.dtypes"
   ]
  },
  {
   "cell_type": "markdown",
   "id": "b23913ac-ea3c-4ca1-8ac3-07d3026ca76e",
   "metadata": {
    "__GENERATED_DATAFRAMES__": "{\"nodeDataframes\":{},\"graphDataframes\":null}",
    "show_aggregate_original": "false",
    "trrack_graph": "ᯡ࠽䈌ʀ匦㢠⹰ೠ↺΀Ơ瘢ᠢᠫ‵䁇ፉ䐢怣侽振ၑ䶃᪰঵䂆⹉多䪲┠অҤᴶṂ㊵嘊᭓ㄅ毠㒰䣑Tဠ㚉҃೨ɰ䂠̂҆;䘸Ϥၗ眼䋐Ð䬹†于␠㚠ᝨ沂烒⎁൸憈㬸ᐠṬү䓧Ⴠ椓ᣘ⌚ᆠᛦކ䜱ǁ䅀㖖नຂᩈ桫〦塵偢㶱⢠⾱䂅埦䖃塀㪂ₐ暸ᵽ䀳怠煼砤慸㴻ࠩ㯏姭ঌ䄢䣫䧙㱈刱ㄿᬦ䩫⏃㌱楫磤ⰴຣα晼ਫ䎁㺕䮃Ⴤご䖂᥂挰ы゙㈬ܠ₰ᑊІ僑汮ޯ戩䉱៪怡⹁ᡤ甑擸抯॰ᡬᅓ╄璚╄㈠ "
   },
   "source": [
    "#### **Instructions**\n",
    "1. **Convert `Max Players` column to category:**\n",
    "    - Use the column header to switch data type of the `Max Players` column.\n",
    "2. **`Edit Categories` pop-up:**\n",
    "    - Inspect the `Edit Categories` pop-up in the toolbar. Look for any redundant categories (e.g. both `1` and `1P`)\n",
    "3. **Edit and Correct Entries:**\n",
    "    - Search for the cells having the redundant option using the search box.\n",
    "    - Edit the cells to remove the trailing `P` (e.g. `1P` to `1`)\n",
    "3. **Verify the Output:**\n",
    "\t- Print the head of the generated dataframe to verify the changes.\n",
    "    - Also print the dtypes of the dataframe"
   ]
  },
  {
   "cell_type": "code",
   "execution_count": 8,
   "id": "84bd3f29-2697-4f40-ab16-27f6540912aa",
   "metadata": {
    "__GENERATED_DATAFRAMES__": "ᯡࠩ䃬࿀ᜤᠹ悋ᐨ恑䐢犲ǩ怶恉宑召䵬ð䀲悠ᄡḡ沯妶ᠢ㠪癀ఄᐠ ",
    "__has_persist_output": true,
    "trrack_graph": "ᯡ࠽䈌ʀ匦㢠⹰໠ܬҀᣠ⍼ƀୠƪ¼ᢨၓc㙥兤䥤փₙȢ㎀ۣݠ೤䥈kᑄᄈ夒ર勋⃩䖻➎㺣䋤䀡傠Ǔ嗣ʖ′䈤7ᆰᠠ湐愾Ⴅ墔綠˲⊅\"㯙အ婀⠱ᩏਥࢴ‷㎂秉沔㑂㥎ѽ䑥ń惱儑塂ᒒ㢠᝸把瓒₳ැ憔笸ᐠṬҩ䓴瀨ӱᢈĶ䠠ᛦ྇₱Ǳ䅀琖䤨ᾂɎ别䏐͹✈∛䢺䁏壸盒ႇ塁㚖烋ᠥ綠ᏠĊ笐ӣ㈖侤ी碼᜽ֆ⁠楌䖢吨⠡۠ඐ牕٤您尫ຶ惀兏ڢ䃀ĭথ炼࿗歃㖤亨ດ㎬ᢼ₲⑲㒦▱攒ʱ≳ᖐવ⹂䊁⼫ἴ⑰擊⺰ᅒ泎⾴ᖪ務⥶咼㌥䤩 憟ঀι㨠Ŗġᠠ坉䰦㐡搠ⲽ 禺%ᦽ熠䊐ό櫄悡䐱滠㩐㇂ī帮厱唦繶淌#璣哠⊍㵺䃐☴泂ሠ䌶愘Ķᯧ䗈䈴ΰ၆䋙䚧ᦂ尭௡偠᷇沗㥜㤦Χ憨㉅൧儸晋Ǣ炘縰䩇ॺ盇⏴氦嘰拧ᇨ㊑䍓䰶▪懷⴫ᶾ愤ᶮ參榔Ɫᮽ愖涬㡔䌠Ť∱‏㡌⠢Ƽ挺榠⁌灞枢᧜⾧炠廾怤ぢ੤倢ʜ夬ኜ㌻Ćу吘夠ϱ̴ᎋ惫⎉涔朦㍃☢䴦⢃僬ᘃーᾦჂᘃࢸⲃ䄪ᭃ䡜⚢㡅Ƀ〴Ÿᖑ䎲㉚֫䤺̠Ѿ๠䒂ⶣ᣶ᭁ梂┃㢲ᕤ匠Ɂ椈\"厢ࠠ䢥嚯攠⻛匔琯吕ゕᘘᆴㆬೃᇸ缠ሤ⃝䛐〨䖱牐牰揊䒼ᨬ盱玾䉽䲉䒉჆䗉㝍ᗕぁ㗝㒍磎ƌ示ލᶢ朴⁎ⲳ禎ˌ疱⡤╻͊ᕻㄌ川❐䴷䀡䫱廣ᨠʮ䇠㱜Ң捠ɱ䵼༒ᶇᨋ㵿》捗ࢸ䁘੗᛬油浟޺䊐䗐䀲悩债ࡃና࣠ࢌީ࡚ݡあˆ灚`䑾ɣゖ໠ࢎ沂笢恚╖⍈㦙⣈礵⿫啁⧋ᜰ୨⎕濲ڑ䊣塬ɠ࠴暙䔨伧ژ㘰ᯐใ䊒⃋䔚⑻䶠ç会㼿栛妧䨠⃮㈡䃡㷑₷䨇惤Ქ注Ⅎ甖ጡ☨܂ೢᲇ໐຅暋Ḑၫ䃌䀮ს㤕㯥䣹ㄆ撝唚ຳኔධƥジΤ䷕㾀碰ߤ摫㼧繜䶪灬≓䞇弔牾ձ࢜㌠怴°䇮殠瓇㛦ᘣḭ丏㎏汁嫓⵻ሢӋ㗑␹؁囷ἅ௸ൕၻ䊁怸ຐ⹠怃繠Ⱘ㲐夵㲈壂䜵ś咉旁杽ࣘధ惱屨⯠ᾋ唢漛偂Ἂ̕殗娗㻿怖Ȁ㨭䔪疖ᆅ瞔⭕瑈㟷州ㅽ研ǀ㈯㔡埈䛇慕殹唡曥峖嚻反᮴浘晐Ӡ᳙枍᫴璢ᴊ୓䍊दܱˤⲩ䐪䔽ᖦ㦸ຠ栴ϐᐥ炍瞀む⊰歀൬妘˓᫁⬵༥ᖆ斌⫋檞૘崷傑䮑燐ᮬ☥ፃ惆斥⚋ͬ䋪碏ᆻ潓᭞ὕ匯斠ẏ紜洱䁨ⱥ嵥䗛火ᑃᅏڶ≋ᚈ⚼⻭洐䏹㷑ଇ㺐瑢療ሬ⋿湥◾恢Ǫᷓ婋㦭᭯ㅂ繌⼖⼥㰩ঘᕫ嬻棠➆偂࣌◧ⴅ⹡磪姸ᤤ纣Ꮧ➑Ծ炪⣄Უ泀懡ᓧ嚐琢琈㢡佬剠ᨠ籐Ң⡍ͦ́ん⤀䨣悢ੁሻ⩇潲礹͐ᔤ结⚀䳃㓖ס簸⇤ሕ⑟喕ᙠJ吃焺灺⛔·ჺ㽠璦ډ刽梈Რ䍃劀ᠮ㠽值⺩ᄖহᘪ憓ฤୄ₠㇬恚Š簫䃩ԡᠭघு庠䋝ԡ絕၀㢢ℙ٢ჿ妄ঘ埅篏㏵弯埞ᠣ窯悜⿥㤉Ꭴ㝎᢬ᖁ•@䄾⛀७⬼禉剤ᦽ玈搃䢮㎜㷍曟䋃k⊖፥ᦾ欈栧梢ቢ⌸঒梌愹⵵䭙粏ࣸ䆗欶ᕑ漹抶ቤ᛼⭫姢羽昁ঢ塯཮掁㇒喂ń帀倅桕⃠द摔͠ᄣጌɀ㽈⧨À栱ᣠ˃愲nᤤ㖚⦼⋊損䰠<亠昫䟡ᖑ泅ⱖ絋皁怂倵椃㙣ຊ㦘䚕⛃ᘂ䭵䵾ঠᥗᣒ㯙䋎⠗㹩๢侪刉僅ኴ史吊᫆အ^㯬紏丙羽₁ᗜ⃎壡⺠ⅴᓢ爖朒ę⾿䀣倫䏘ୡ㝀❨╮糭ᡗ癹喵䘻ᵥ皹梠㫚䂞昼姇い䵙ݫ怷ᄣシⰎ⃶悞ぽᑢ炀熠ᨠ亏␬À䅐ˑኛêħ䝕盝⪪刢ପ綷㘚Ɫᩨ撀笥㒠㒹ຽ᧽ᝓ江௑儢㜩Ĭⷳ瀾Å揢ᅔ幂泞䮏ᾷ⹋ᣞʨ狾ㄆƃ旀⸤㳜Ⲁ佥惌䈸礱ᣜ楕張㇥堍㈢䦣㕷嶹埆暎䧏ڣ峼㗎曋ગ䑍⡆摛㌲ᖇ絗嘦ᨭ₟⣄琵Ꮢạ䤨ᢨ⥧㵎斎ૼੵ导祁∋⹈䞴獖牴伪佪娈ᬌĘ忓〔ᡕ瞹瀹撜㜣䡕㍩ᥡ䌷厄ɍ⋶砡屹Ǥ廀擝Ή㜦୐㑠օ嚙偦囮º珹α䵷姹㟞篖帵㰭昊䏫㼘඙㨬䅅䴋䐷)䨈㹢╚唣戼͌䊅øೡ炂䋜។ᝯ撶ℌʱ歽灹崠挪磋೘⢭঍检Wなḱ另ᄷ䲁璚⊹⦭始ᕜᬺ狈┶平搜崥璠⛜䑴旘嚩䚹礕⧳ೲⵀວ亙⫤獬ᓺ㕣䱛₂䘰䂆愚+ቧ猈ጢ㠧ˉ⼤ᐖŌ㷮℅冬ᷭ杢䏮歷以ㄓ⡟ᩪ਎⦉╲珩$Ȑ܎ĭ䂡ෑ廀৕䑳㑠㎅璠沢ᛪ垠ு㤷ᰦ᠚ⅎ羪⼞♿朜廟⋪硪塝᫒㷻ሣ㭂窺櫐亝䊦πဧ櫙⟻㥏夒㔙牟㞀т⎂Ὺ戴䛨䠆䓟␕Ԯ瑈࠯䨏楳侀↡拫忳䯑㙫熔ڲ穨勬࿅击⸳幃剐吭乡垊䯈窻滽᭾͌ㆶ㖛埮筪᧫牋盘硺绬䐪缺ૡᡑຢޢ☮晋♱篹⓶埡⡓䧃㉧卺὞泆ᐆ⟴嵯ࠒḶ矕槁᠎掸ဩ࣠⒖W䨡䴏檂儣౺{松⃜๯唈ᓛ庼殀煓儒ᓆ澇㊺䫳懺㴑pĘ䆕箢㥑ࡎ⊖޻梪䣄ᐓ戯ĩ曜渤⯗屠‎瀪ߟ档洡焓䁴㴰ᕮ㋓橘⧅ⰸృ嶹摝8ᄡФÆƈ὆䘪棭杶倷㗎槣ৰ彇㱏Ȿ⦔⋆戤瑎昔䣖၎䄴䕖㍕おၨ攊ັ⁄⤃拖䖤ඬ↥斨冒Ʀ巪䗎榓䶼岶殾ɶ炬䉦ѐۥែ懫枖㩷匣൛挖ᙒୂ䗟೾๓⣍ᤙ⧾翔㤨ƥⱆ挳ᜪ咇扡䢓྾䷇敊ᖀ䦲䵷棌Ⴎ槗塃ⴺ声䒌緂Ẍ䅑⦦ᠸ᠄咨䎢⊝䌮⺦Ƶ⢨①彵䐭〣ⓠ亳㴠ᠶ橀Ⅷ౜ᶳ⨺ถᄽ憉⋆䥲⬴⊼ൔే䄹˚ᶱ丬れ䀳↎⌆ಘ䑠ঠཧ祆┉掲㼅㾬⧿棺㚗བྷ系ⰶ仳‣爘ᇲᾗ␹ᆝ⑚烢〿煄Ტ檤灅⅞⟼猅䠱挤᪑ᄨ岘䏎᩠宩䡣搄ႎ狖ၴ⋭͑揵灅˭ൡ娯偸抃୶㏵治ȧǡ䣧౳旿₢ᠦぐ屰ࣖᲠ䱊䁞侮䪒⥆䡛Ćᨳ繒汚抡⾵`㱀ᦡ⠫ߌ̓悡ᤗ懑洩⏢ᆠ䱚䧩ⵐ㊂凍涉⅂嬪㶥憄⳦ᜓ㋓䎴⋾乐硧㲹⸁䦂য়㳥⡞䂬⏞␇槱ඦᄸኁ愩墩侾叺ᗞ浳㪩⅔䑴犪䓘಩䝸冣޷⃀੖曄ፗ啾̆᪔囓絶ၜ潑㏑☜懮‗㚦⨟湠㪱抑ᨑṠ䉮偑ዾ䩩ᐱ῏ŉ၀橩仇⸃ឩ╦♡ųᎊ掳ኆ㏓ᵩ䈩塏⋼਩侧ၣ嵁ᴩ㨭≷ȱᢺ➕力㏱ሎ䱭匼ᖖ䬑Ꭾ࢙拤ᖑ῱粔䐎ᝁ䣄ᢁఫ湐縵ኩᢥᑂ㌕ઍ൏ŉ䙲䪓ᒅ᜖⺂㟛൴⸖湖綿డ揾ₗ碈ᲕḮሗ㑡勠҉䛩಑㓜`֫摳珓䡱ⲮݙGⰼ㫣⼶֩䕸☡ုO惸䰦ǀ崛ⷄ㽬㿖○␹㫶㎧糖ዺ䃒玿紦䡬♢ᬽ䀧హ汌沂⧖᫺⃕㑕偢Ӂ汮䤢㊫በ≯Ᾱ㋱ƹ੨瘮㎝ᐠ  "
   },
   "outputs": [
    {
     "data": {
      "application/vnd.jupyter.widget-view+json": {
       "model_id": "54b29da762ef4de7a2869520bedac91f",
       "version_major": 2,
       "version_minor": 0
      },
      "text/plain": [
       "PersistWidget(data_values=[{'__id_column': '1', 'Title': 'Super Mario 64 DS', 'Max Players': '1', 'Multiplatfo…"
      ]
     },
     "execution_count": 8,
     "metadata": {},
     "output_type": "execute_result"
    }
   ],
   "source": [
    "PR.PersistTable(df_task_1b, df_name=\"df_task_1c\")"
   ]
  },
  {
   "cell_type": "code",
   "execution_count": 11,
   "id": "d6338362-ca3f-4811-a424-e2dd6227d5cc",
   "metadata": {},
   "outputs": [
    {
     "data": {
      "text/plain": [
       "Max Players\n",
       "1                834\n",
       "2                191\n",
       "4                170\n",
       "7                  8\n",
       "6                  7\n",
       "8                  2\n",
       "No Assignment      0\n",
       "Name: count, dtype: int64"
      ]
     },
     "execution_count": 11,
     "metadata": {},
     "output_type": "execute_result"
    }
   ],
   "source": [
    "df_task_1c[\"Max Players\"].value_counts()"
   ]
  },
  {
   "cell_type": "markdown",
   "id": "753ed0a8-dc0b-4ac8-8afd-b554ea8f4d28",
   "metadata": {},
   "source": [
    "# Task 2: Filtering data\n",
    "\n",
    "In Task 2, we further improve our data by removing outliers and removing certain records to have more consistent data. "
   ]
  },
  {
   "cell_type": "markdown",
   "id": "7f25d8f5-98e8-4b0f-9358-ed85f77cbed8",
   "metadata": {},
   "source": [
    "## **Task 2a: Remove Outliers**"
   ]
  },
  {
   "cell_type": "markdown",
   "id": "ac53a605-2d10-4457-9625-70ce88f04f3b",
   "metadata": {},
   "source": [
    "In this task, we address data accuracy by filtering out anomalies in the completion time for the main story of game. We observe some records with negative values for completion time, which is obviously incorrect data.\n",
    "\n",
    "**Remove records with negative completion time.**"
   ]
  },
  {
   "cell_type": "markdown",
   "id": "664c641e-1193-4233-8897-0161f209c86f",
   "metadata": {},
   "source": [
    "#### **Instructions**\n",
    "1. **Identify and Remove Anomalies:**\n",
    "    - Interactively select data points negative value for `Comp_Time_Main`.\n",
    "    - Use Persist's interactive features to remove these anomalous records.\n",
    "2. **Verify the Output:**\n",
    "    - Print the head of the generated dataframe to verify the changes."
   ]
  },
  {
   "cell_type": "code",
   "execution_count": 12,
   "id": "9f84d347-8ce1-48d8-84a9-478d7eae3bd6",
   "metadata": {
    "__GENERATED_DATAFRAMES__": "ᯡࠩ䃬࿀ᜤᠹ悋ᐤ推̅ሣ䧠ⶠ卍捯ᥔᠣ℠▢dʘϔᝠ捌〤瀵摠៨⠠ ",
    "__has_persist_output": true,
    "trrack_graph": "ᯡ࠽䈌ʀ匦㢠⹰ˢ䄸〧Ԧᬀⵚᐤᠮ恅ᤡᧈေ䁮ì㬸૦␔柺敦ⓀŌ傰䇄懯䑴䊵⴦ᚍᷚ簔ࠣ℠΂⽦ޘ䁅ШNჺ〡岁䉼Kㆊ摎+ソ⠠伖䠠洰㻃-䔭⊠发僁ᑈSणأ䁬撁ᆂᠠ಩䙈੕ᶤ+囱櫺ಱ㧺岟ख़䘪/ጢℒ玓汸ユ㔹ߎ删ב䎸䢤ↀ䡩秐䈣墨ࣉϱ䰡囃ቿ⛰Ⳁ఍嗸⽆燬ࡋ㗘㳬᪜怩瀠㯽ᵜヘ万䑐䇭掁Ⴌ搨ੇࢀṃʢᖒ≏ࣤ冒⡚âഈ尴ɤ◈ⰴԣָ瑕܂㵾焣⌢㘎䎭ኒあ⢬✰▲哚⦶攒ʱ≶䳡❈⃮䐨壔ዩ␬癶⎷攪拉⥷梊✠ೈ㊝䵈 ‣р凓性栠⫢㣰栢摨㾶倠儱嵍㳡Ɗьᦠɲ㑺熶昰怠㮶勍恀缽壢㩽炧圆嘞✼່峼佗䠀Ѷॎ⮣ר㈸⁦凐䈲⮲怨ቃᇐ籪̥旈ᑛೢ䳶柎澄㡄ౖޤᆨ牅ͣ傸嘡Ǣ燸ḿ೺槼䛆廴璦ế⋣ၰホ෇െ榩୐墺䗒櫖桖ࡖ毗淎推Ⰳᱨவ憙Ā儬%੅भ⬅pȠᳺ%㦠恀灞宪䡜ឭ炠仼折hत倢͜焿捜㴷ϼ洹Ҙ焠ϲ䥢ሢĽئჄ数厃䦧デ஧烪ᱥ䣐ⷃ⣺ṃ牌ൠ䢆ڢ❼串⡌ࢳ桪棢ኆѸౌ֠恲λ塲䓤䁌Ṁ䡜✂㣇੦磪ኇ♝₈䵓⌢ⶋ⺘ᵚ䜋⠠ݥ䇰㝫䧰㌦ⅸ⌮珈᫫璌㿄ౣᢆ礢ᘬ牔眅䃨㬡猲甩凢㎼憒Ɀમᚳ別㺴⊺ऴ㋠मᣰ䴷⎳㏋灠๲扢㹴䌪夻㧢祷扶⠡Τ྆焲㿃烿⠯欬ᢤ灌凊㗭ᗇ祳ޤ㳠㋂ ީၢ♍⳱䍠欻丿吭䇈㠐獢橻༺歄乑䗊欩䮝ģ䳰事侓崷䨓吿䪌ᕀ╫榆ⷼ公⬨煢Ⱬ崠⩘䜶滳畾䬰֙䉊⁉࿁㸸஠ṁ僃涂ఙ䵏䛂㞝ℑὗ昘๏呩扄䠌㈰瞱⎲䂼厺䎼Ɇ深啐ᝠྪǬ禹L䖩㓁ख़㖲㖽㌨ඳㆌ涿ᗻ紎㟭ב㋡◘壌喴巤㌃㚍ⶴ摴ِᏻ⌤ϑ嫝ࣴⴶ刊え恡嘽䁬 ⧰Ӽ潭繙焌嶻尵ᅐ唵焺օዛé劷Ꮅ㳝≼⴪瑠嵚砈ⶵ׼挤抸₢楜ଲ攣欶懸答क़俐䝙ᝑ㴝く砝⿔抣坘ಢ₝盱ん➣ᝳ⥢⑯ལᶌ᧣༅夃䵱䭦᣶᧦疘磖瘡亾⤋⹛ఋࢾⰂṧ⑩⭊寨ࠑ䯴穦摹乞汫睟篮Ḿᖘ䄖引禠碍絾៱伂呰ᄊ‽㧸ؠ煉㎎ವ၌´樫䁈䁑䰱ၴ巳ㅘ⊍㌵楦呒ᒅâကᜬ禑屠‸੸⇣Ⱟ䌘ᾯ䙴捬綺℧๠䝂䎮દ乹惰亅⢖఩吶䡯䳠筍ᯰ沦ล̼攩᳊͙樾㥳ప籏娨䃕⬱ヶㆁᙚ挡㖯ⶅ僸ᗁ愠  "
   },
   "outputs": [
    {
     "data": {
      "application/vnd.jupyter.widget-view+json": {
       "model_id": "ab04c8bfdfd84eea9c3cb96a2f752022",
       "version_major": 2,
       "version_minor": 0
      },
      "text/plain": [
       "PersistWidget(data_values=[{'__id_column': '458', 'Title': 'Big Brain Academy: Wii Degree', 'Max Players': 8, …"
      ]
     },
     "execution_count": 12,
     "metadata": {},
     "output_type": "execute_result"
    }
   ],
   "source": [
    "PR.plot.scatterplot(df_task_1c, \"Comp_Time_Main:Q\", \"Review Score:Q\", df_name=\"df_task_2a\")"
   ]
  },
  {
   "cell_type": "code",
   "execution_count": 14,
   "id": "ba36604c-aacb-46cc-94c8-6d40513bcd40",
   "metadata": {},
   "outputs": [
    {
     "data": {
      "text/plain": [
       "count        906.0\n",
       "mean     11.077859\n",
       "std       9.477033\n",
       "min            0.1\n",
       "25%           5.27\n",
       "50%            8.5\n",
       "75%         13.075\n",
       "max           70.0\n",
       "Name: Comp_Time_Main, dtype: Float64"
      ]
     },
     "execution_count": 14,
     "metadata": {},
     "output_type": "execute_result"
    }
   ],
   "source": [
    "df_task_2a['Comp_Time_Main'].describe()"
   ]
  },
  {
   "cell_type": "markdown",
   "id": "b447b862-90c6-4ed7-b48b-baa1cf74ac2d",
   "metadata": {
    "__GENERATED_DATAFRAMES__": "{\"nodeDataframes\":{},\"graphDataframes\":null}",
    "show_aggregate_original": "false",
    "trrack_graph": "ᯡ࠽䈌ʀ匦㢠⹰࣠✴ƀචآ൐ୠᣠ⭎¸䚀ᶥ<⋵攴≲䦆ᨐ҅䁲䥈kᑄᄈ夒ર囇⣹嗛➎帣ᢤ䀡傠Ǘ熠㥀ॢȠா䠸ᢀ㜰䁾巒•橀樠Ꮃ䤠ව׷核ᱬ䣘紲₞૦Ԡ޳ŀ凐栠晬╍ಲ䖽䂇栢沀團ᄰ㸸ሪ喊Ⴇ♁䐔粶ᦞΎ刺ࠥ簉窺簲ᖢොሧ҉䃵ⰡḠޅ毗䘤䗾墥୚渍磆搰㣄䆯䌭䊣ᎄ䢩妈䪑䴹ҩ䋫◂რ⢒ઉ⃁⽌囦媍ኘ垤䢠䍤⒂Йᘷ੡䄀҂Ქ⃱琿啡憐㲞ၯ䌨焠ᗿ搫໎㒫ல熪Ņ⎃ऺᥛ⃄ᅠ  "
   },
   "source": [
    "## Task 2b: Filtering Out Old Data"
   ]
  },
  {
   "cell_type": "markdown",
   "id": "c86b30d4-4762-4bc0-bfd3-6f1486b55ad6",
   "metadata": {
    "__GENERATED_DATAFRAMES__": "{\"nodeDataframes\":{},\"graphDataframes\":null}",
    "show_aggregate_original": "false",
    "trrack_graph": "ᯡ࠽䈌ʀ匦㢠⹰࣠✴ƀචآ൐ୠᣠ⭎¸䚀ᶥ<⋵攴≲䦆ᨐ҅䁲䥈kᑄᄈ夒ર囇⣹嗛➎帣ᢤ䀡傠Ǘ熠㥀ॢȠா䠸ᢀ㜰䁾巒•橀樠Ꮃ䤠ව׷核ᱬ䣘紲₞૦Ԡ޳ŀ凐栠晬╍ಲ䖽䂇栢沀團ᄰ㸸ሪ喊Ⴇ♁䐔粶ᦞΎ刺ࠥ簉窺簲ᖢොሧ҉䃵ⰡḠޅ毗䘤䗾墥୚渍磆搰㣄䆯䌭䊣ᎄ䢩妈䪑䴹ҩ䋫◂რ⢒ઉ⃁⽌囦媍ኘ垤䢠䍤⒂Йᘷ੡䄀҂Ქ⃱琿啡憐㲞ၯ䌨焠ᗿ搫໎㒫ல熪Ņ⎃ऺᥛ⃄ᅠ  "
   },
   "source": [
    "The interactive barchart below, shows the data aggregated by year. There are noticeably fewer records for `2004` and `2005`.\n",
    "\n",
    "During this subtask we will remove these older records, keeping only the records for the year 2006 and above."
   ]
  },
  {
   "cell_type": "markdown",
   "id": "24b308e8-8437-4146-9ebf-cd121aeb7f9f",
   "metadata": {},
   "source": [
    "#### **Instructions**\n",
    "1. **Analyze the Bar Chart:**\n",
    "    - Identify the bars that have less than 200 records.\n",
    "2. **Filter Year:**\n",
    "    - Select and remove the years with few records.\n",
    "3. **Verify the Output:**\n",
    "    - Print the head of the generated dataframe to verify the changes."
   ]
  },
  {
   "cell_type": "code",
   "execution_count": 15,
   "id": "1ff923c8-1008-4d36-ab1c-625171d90d47",
   "metadata": {
    "__GENERATED_DATAFRAMES__": "ᯡࠩ䃬࿀ᜤᠹ悋ᐤ怱䐢犲ǩ怶恉宑召䵬ð䀲悠ᄡḡ沯偑嬸Ř˛ࠥ笪  ",
    "__has_persist_output": true,
    "trrack_graph": "ᯡ࠽䈌ʀ匦㢠⹰ૠᬠ䰧〰怦ᐣᠥ倡怸溉戡〩拦無ಂ溑ᢍጬ䉐戅䊩ᐠ▴ሰ瓹碩䩶埈拭䎷ཞŢ∠桠ø狐᪰ӁĠפὬW౐ᮨ⁏⻹݀Ɔႊ)攄䀦梠ì偘䉬ᘬᢰ䊧⊥凁↹䒔烲ੇਭ๭䣧Ⴣよ†嶝ƣ䘴梧䟷ᄤ烌ばᠲ1䖧䏡⊳笑स㪝M䘪措ᄡ憢ↆ嚂ࢎ戨⫄೩〦婬瀢篁ઠ⿞䤕㸳䝂塂㟖灋ᢙ喠ᏠĊ綑磣䤖侤ن㥜笮ཷॄ圬߳傈⠭ަᄚ昽ୠႚᙟ↦ᇨ⣘⡂䈒䈯↤硞澴䳱䅺垹惯楂棌⼴▲哚⦶斒皡⑱ᓪ禤䕆㊂氻ᒱ⒈㒦▱攒纉౵ᔸ伱䊂䠠敚怆楠\"3⭨Э%̠ᧀۋȠ㕺硲)┒櫀殮׵溾ྯ搫ʻࠦ䚃䡸㌦䐳࠸ὺ⫢䡬ว刈䣁吻ޯ繝ര䓋璿ᇩ憓ⓑᲤ䃁⣔̩䖃墼㜷䠂Ҍẫ憋畽⽤㈻竩崴䕁♓᳹yᛶ⭭ヹ㜚⻢Y็⏢灸˷ⷾ畛璐Ҧ\"䗢炾儕À࠶爠ż恓甂彜瓗䰃碠׋ߦѣⅰȩ票䅯䒃䡷侺媏Հ╂ɠ㡀ㅏఅ璊࿁㢟 瀠倳˿㠺灀䣏儀䈵ᄈ઎ঃ㩇Ωᙃ⇘㩄䷨ᙌ悐ᙣ䅐ᔣ⃐㡢Ű䠫糄ฬ╜ูʨ䰶ᐆৄ㥢⏆䆔⏅䈄䃪⇮⼿捼₹ᅠ喫䉠ж㓩縀戽甍c掔ᨰኤ皻剀珡¢ㆼ⍖⠭㳤ㆉ燢ᢧ⣀Ϣॠྷ狄ᒱ㊺㞨壠ᵥဠޥ᚜刾爃嬸䠪⅌䩲硂䲔⪙杘噿ར୍䶜悄຀Ņ玡帠߶䅎☑ʍC䅉≏粠堶㢆ئ燎٥怤᳔⡵䕥圊ǒ棭塤妦ᛇ呝֑ځ䉒䙑䬣䘩墢♉䖧戹䞤ㅙ塶䋡呗ڱ媠浻ㅖ⛉䄊悹复曵ᣡ䗎&䣠侪怺⑏⯔ͳ擠䦡Ǹ䜣桤㼥圚弿愤槤à泍Τ⨥ᇃణჰẼᏂ昪ʰⱥq璧倬璯ᦵ䒘妪噡ᅪ乮⤒䕰半䅭⥔盽劖䐯倬Ỵ㈀泰䄮妾ㅥ৵㏌௮㡎掮穼㗬⃼㮠ᕜ巠社疞㋾䞿⍾綋㏾ឩ祲圭碞䉋秙⋟窣࠱挩狏ٵ櫎呕㕘唤䦩澁垏♙杛汛㾙淹䡀改儃ٛऌ唉兂଱处ʁ宠ᵇ㱁哻ፔ⣣ᠢ旇ഘӛ洏␱塅᳞春φ沯Τ截ƀ䈤䃰点䇪爩᭦䈶䕱Ⲝ䍐㐲杹ൔ咩㱊ƨ₮煮䛊₢盋掘仈୕廟咶夸㑈䫹⃶㔾媈⛧⇭᪱援థ㣃Ⱝಃ戫ഃ㲀䴳ኌ佐઀䍐及⏿␕ၬ㑄堏䙌ȝ䐴䵖奃㿅᨟᯴橷Ǵ摏哦䪈ᚷᖍỲ狋偣ᆂ䠠㈔࣏璨樰‸㇦ᣀ䟑Ϧᗅ値⟂ᆎ䒘恐㴢ᤨມ㢎㎌ƅ卉ź䯎嫑䭡熮甖䵒ຶソ㝕刮惸ƈᠣ䏰栺ɐᱸ䝈ū૤⼣ㇸ綨㢪泙䫽㦕佤睌΋㈃殓揱⎋ㅆ淘更㠺勺婕孷㵤֛㎮焅伖⭝珦ⷚӘ纶ஷ㶵杯ඒဤ⅖ਲ਼s᱂㈩⮤䫘ᨣ‡䑨ᙌ绍擠㐦Ò֢渼吖ᐥ睔Ј簮℃搂╫┳廨Ⓘ㫙⠣Թᙲ啈⬊⽳䥏׃屨毁ֹᎵ咾䳲㺴༆⡓秮汜䯩᥏䰘rՅ䭚皱ੱ∔‾ᘔᗤ䁒⦼⩱垔嗪ય䪉慓ᇭ泊䛋櫂⣔卶㡂玊⎱樠䧜㵯哄ႉ䬡祈㖅⡚惰䛭偍䦜୩Ĩ֒⡽Ͱ䙣億◂⠤慝ˣ愭䉘⮥桎㊮ࣅ㡸⾥娼周壢㭹䉱̴䖶ថ竇㶚䄠ᐸڦ䘵ᡚ槐⇳ⴾ݃⑖ᙘ䮦券ಁʹ搫䊐ạ焺Āኡ䚆燠纡䢈ΰ琱䕸߀恋ͳἨႸ╦璌ǯ樣㐭籀㢹⁷礟ᕕ䣚┈Խ泪ᆲ場䑔㉻䜮䛫ắ䭣੼䜺峆᧙晋⴯᫦䝑完㶪⭸云倯奶渤移礊㓛粄ଧఠ䅜¢㓁䴹哝࠶␲㱇⹾䦩гռ沙␠ⷽᐌ慉Ꭻ㼨᩺⑤ཥၕ㑀朇䂈懼ϫ䮩倪Ⴠॢ㫬πಷ纏ᛜ᯻哌ᮘ纉㐏ր̑兞ၽᨷ拘埣璈֐䕸呪礢䪹⯦绷䂪峋⫖ࡕ⠁ℴ䐎崧ଔ≝楻⃒嚚៉჏㵶㖂ތ卋局㖅䭬刼客溷䮦㔤բᤪ璤㘡燥牲⣔ั᭬䃀Ԡ瀾␜๧ⁱ䜽⵸Ɒ桫ᐡ੩↤写ᗂ敌押曥埆沒ᯬ盐ⰽ㢸Ы嚮㚬丯⦼紿᳾夺圵ⱗͻ㜰㔋ḧ༭ᯫᏆ椘⹑ᓼ㸓掇䙆佮⛩䢒榳䷹妺砯ᮒ僗殃❇঳ᛳ⃍梳硆㍺໱ያ䇖剰搭ફቢ㗨䷊⛦婋ᤢᤛ☢⪅ⓤฦ䫲ᕾ㾡秓彚ͱ㰄ᦕ䛑笢哷ᾐ⫽䡸䁈˘⠡ࠈң⪎⊗㨾Ì᧣⨢䄘㧢揯૮位硂ี帡↲奨㋝䐍஦喓ኊ溵ႃᖹး悰᪔ぜ勼弈糌撀恑ᆳ刴哎ᒝ僠汝愙٠夽ঢ繒ᠯ⊁淥၂ 圠絯奋⿒᥯㹷侓穾笮廿檃᭷暪ᑑ䓭⼣周ͬӖ燗⸃槭塾壙䊅⳵䁗磥䠎るᢹᣜࣼㅱ哆㇅✳䏥媽妉嶎㨓ᯢ坛᧡䩤⣍಴ડ算ȅ檧ᅊ戈ᙌⓅॠ䚊㯂毉㟗查弔◱剞⁹᪇昫㍳៏䤡倪灍礉悅崬嗛⃠ᡛ␫㝘ഢ眎ᠽ唧罷ҷ◑惒盖ଓ㟠➏ٚ嶁曛约⠣㐼ϒ⹖巒㝀珰曩ۡ灝ĳ徣䛐⯨㱶條嘮拍焏⸱痏䣎掃抅䂄䎰岋⌡硅斡䖣牙২㼳墹ፁ傮癞❃∑婙壞᲎ᥭ᷍❒䶘⚻窄犓⣮⮞㝺⦻搉煍ᬅ㍧Ά楚婇嵚爅㹷ᎋ㦰Ӡᛖ䙰೼䟟熈ણㄓp㦅冝壠౳౔Ɂⴝ㲂掼矏敎潜ʩ啞偳ᨻ絰妋Ĺᵚⱑ㈏作ὣ筽㓔៍乡ហᅝ板◾徰᳟ⷥ㹷৙監⹧㍘ဠ "
   },
   "outputs": [
    {
     "data": {
      "application/vnd.jupyter.widget-view+json": {
       "model_id": "2d7330fb56034b9db5ff5860e4e12f09",
       "version_major": 2,
       "version_minor": 0
      },
      "text/plain": [
       "PersistWidget(data_values=[{'__id_column': '1', 'Title': 'NBA 2K7', 'Max Players': 7, 'Multiplatform': True, '…"
      ]
     },
     "execution_count": 15,
     "metadata": {},
     "output_type": "execute_result"
    }
   ],
   "source": [
    "PR.plot.barchart(df_task_2a, \"Year:O\", \"count()\", selection_type=\"interval\", df_name=\"df_task_2b\")"
   ]
  },
  {
   "cell_type": "code",
   "execution_count": 16,
   "id": "91d27a9c-4419-4e92-a045-2cf6295e0751",
   "metadata": {},
   "outputs": [
    {
     "data": {
      "text/html": [
       "<div>\n",
       "<style scoped>\n",
       "    .dataframe tbody tr th:only-of-type {\n",
       "        vertical-align: middle;\n",
       "    }\n",
       "\n",
       "    .dataframe tbody tr th {\n",
       "        vertical-align: top;\n",
       "    }\n",
       "\n",
       "    .dataframe thead th {\n",
       "        text-align: right;\n",
       "    }\n",
       "</style>\n",
       "<table border=\"1\" class=\"dataframe\">\n",
       "  <thead>\n",
       "    <tr style=\"text-align: right;\">\n",
       "      <th></th>\n",
       "      <th>Title</th>\n",
       "      <th>Max Players</th>\n",
       "      <th>Multiplatform</th>\n",
       "      <th>Online</th>\n",
       "      <th>Genres</th>\n",
       "      <th>Licensed</th>\n",
       "      <th>Comp_Time_Main</th>\n",
       "      <th>Review Score</th>\n",
       "      <th>Year</th>\n",
       "      <th>Publishers</th>\n",
       "    </tr>\n",
       "  </thead>\n",
       "  <tbody>\n",
       "    <tr>\n",
       "      <th>0</th>\n",
       "      <td>NBA 2K7</td>\n",
       "      <td>7</td>\n",
       "      <td>True</td>\n",
       "      <td>True</td>\n",
       "      <td>Sports</td>\n",
       "      <td>True</td>\n",
       "      <td>8.18</td>\n",
       "      <td>80</td>\n",
       "      <td>2006</td>\n",
       "      <td>2K</td>\n",
       "    </tr>\n",
       "    <tr>\n",
       "      <th>1</th>\n",
       "      <td>NBA 2K8</td>\n",
       "      <td>7</td>\n",
       "      <td>True</td>\n",
       "      <td>True</td>\n",
       "      <td>Sports</td>\n",
       "      <td>True</td>\n",
       "      <td>4.0</td>\n",
       "      <td>81</td>\n",
       "      <td>2007</td>\n",
       "      <td>2K</td>\n",
       "    </tr>\n",
       "    <tr>\n",
       "      <th>2</th>\n",
       "      <td>NHL 08</td>\n",
       "      <td>7</td>\n",
       "      <td>True</td>\n",
       "      <td>True</td>\n",
       "      <td>Sports</td>\n",
       "      <td>True</td>\n",
       "      <td>17.5</td>\n",
       "      <td>86</td>\n",
       "      <td>2007</td>\n",
       "      <td>EA</td>\n",
       "    </tr>\n",
       "    <tr>\n",
       "      <th>3</th>\n",
       "      <td>All-Pro Football 2K8</td>\n",
       "      <td>6</td>\n",
       "      <td>True</td>\n",
       "      <td>True</td>\n",
       "      <td>Sports</td>\n",
       "      <td>True</td>\n",
       "      <td>12.0</td>\n",
       "      <td>73</td>\n",
       "      <td>2007</td>\n",
       "      <td>2K</td>\n",
       "    </tr>\n",
       "    <tr>\n",
       "      <th>4</th>\n",
       "      <td>WarioWare: Smooth Moves</td>\n",
       "      <td>6</td>\n",
       "      <td>True</td>\n",
       "      <td>True</td>\n",
       "      <td>Action</td>\n",
       "      <td>True</td>\n",
       "      <td>2.5</td>\n",
       "      <td>83</td>\n",
       "      <td>2006</td>\n",
       "      <td>Nintendo</td>\n",
       "    </tr>\n",
       "  </tbody>\n",
       "</table>\n",
       "</div>"
      ],
      "text/plain": [
       "                     Title  Max Players  Multiplatform  Online  Genres  \\\n",
       "0                  NBA 2K7            7           True    True  Sports   \n",
       "1                  NBA 2K8            7           True    True  Sports   \n",
       "2                   NHL 08            7           True    True  Sports   \n",
       "3     All-Pro Football 2K8            6           True    True  Sports   \n",
       "4  WarioWare: Smooth Moves            6           True    True  Action   \n",
       "\n",
       "   Licensed  Comp_Time_Main  Review Score  Year Publishers  \n",
       "0      True            8.18            80  2006         2K  \n",
       "1      True             4.0            81  2007         2K  \n",
       "2      True            17.5            86  2007         EA  \n",
       "3      True            12.0            73  2007         2K  \n",
       "4      True             2.5            83  2006   Nintendo  "
      ]
     },
     "execution_count": 16,
     "metadata": {},
     "output_type": "execute_result"
    }
   ],
   "source": [
    "df_task_2b.head()"
   ]
  },
  {
   "cell_type": "markdown",
   "id": "8a92b8a9-c3a8-4a57-be3b-c9cdc977092c",
   "metadata": {
    "__GENERATED_DATAFRAMES__": "{\"nodeDataframes\":{},\"graphDataframes\":null}",
    "show_aggregate_original": "false",
    "trrack_graph": "ᯡ࠽䈌ʀ匦㢠⹰ೠ⬠沈֭⠸恍ff9昽䁮ۦ࠰汬നڀপ㈏䣹厠㬦ተ¶⡨⇱㌀ᅁ╶庳ୖ⹜簧ଭࠣ℠Έ橦औ䁅ШNႦ〡岁䏼ℭ㞁摞+㢱䨠Ԋ牠Έƕ٦枓቙ჿਸ旑䅠Ȅ恨戬പᎭె䝁净儬Ö᡻⌸䐱䘩׍宨⇓ࡱ䍲ච᫲壬จ䙤Ɲڣ圖⍞ᛡ৽ण䃔戋㘠传ϊ揿振䘌汣䓼㹮䘫㈨ቺ⩯↧ᄨXഉ⠅ㅖࢢ侸⇄僡ಖࡢҁ氣С宍劄倶䢡⍤㲂̤㚗٩䄀硂಩⍰琦ᦪ悑屾ᾨႨ㺜*瘪䋇޶⋤ᓘ犠䭳঺᥇⏰ᅠ  "
   },
   "source": [
    "## Task 3: Data Wrangling"
   ]
  },
  {
   "cell_type": "markdown",
   "id": "9da80393-7f4b-4115-a4d1-5b7978e11358",
   "metadata": {
    "__GENERATED_DATAFRAMES__": "{\"nodeDataframes\":{},\"graphDataframes\":null}",
    "show_aggregate_original": "false",
    "trrack_graph": "ᯡ࠽䈌ʀ匦㢠⹰â䂬ƀᶷ琶䁋c<搔怳ଚ䠳亡䈤㉕⁖ì⺇⊨攩ᐠ▨戰㑹㧒妰囇⃹喧㝞Ţ∠桠ûு䁔䈠ॢȠந㺸ᢀ盅⻿夣•晀樠Ԃ牠Έƕ稦❳ሪὦ䰼⇑䅠Ȅ恨㙎⌯᪴䶹䈁ℓ琡㙐ᮂ⢨᢬थ⧓ࡢ㌰ሚ璋U䳘䠵欯Т縔絭Sㄭۡ۹ण䉔悊㘠传ϒ橷挣⌏ⱡ䕼庮打㈨ɼ榨慢䃂॑瑐繦┭ڼ㾬⎂厃焸牘榥ᄨ䦯ඦ嘔㗆溄⒀擒摖≦၀ⶃ㧄మޢᄴ䩍རへ∦䯧焤愷䍠Žƀ夅შ㤙༾′⪂㵩掳婊⢄  "
   },
   "source": [
    "### Task 3a: Creating and assigning `'Length'` category"
   ]
  },
  {
   "cell_type": "markdown",
   "id": "402412ae-3b84-4fec-9c01-94dd203a7b1f",
   "metadata": {
    "__GENERATED_DATAFRAMES__": "{\"nodeDataframes\":{},\"graphDataframes\":null}",
    "show_aggregate_original": "false",
    "trrack_graph": "ᯡ࠽䈌ʀ匦㢠⹰â䂬ƀᶷ琶䁋c<搔怳ଚ䠳亡䈤㉕⁖ì⺇⊨攩ᐠ▨戰㑹㧒妰囇⃹喧㝞Ţ∠桠ûு䁔䈠ॢȠந㺸ᢀ盅⻿夣•晀樠Ԃ牠Έƕ稦❳ሪὦ䰼⇑䅠Ȅ恨㙎⌯᪴䶹䈁ℓ琡㙐ᮂ⢨᢬थ⧓ࡢ㌰ሚ璋U䳘䠵欯Т縔絭Sㄭۡ۹ण䉔悊㘠传ϒ橷挣⌏ⱡ䕼庮打㈨ɼ榨慢䃂॑瑐繦┭ڼ㾬⎂厃焸牘榥ᄨ䦯ඦ嘔㗆溄⒀擒摖≦၀ⶃ㧄మޢᄴ䩍རへ∦䯧焤愷䍠Žƀ夅შ㤙༾′⪂㵩掳婊⢄  "
   },
   "source": [
    "Next, we'll introduce a new categorical variable named `Length` into our dataset. This addition aims to classify each game into one of `Short`, `Average` and `Long` based on `Comp_Time_Main` value."
   ]
  },
  {
   "cell_type": "markdown",
   "id": "86d54d80-ef52-4630-bffb-1e04d9320384",
   "metadata": {},
   "source": [
    "#### **Instructions**\n",
    "1. **Define Length Categories:**\n",
    "    - The `Comp_Time_Main` column represents the median completion time for the main story of the game.\n",
    "    - Based on median completion time, create a new category called `Length`.\n",
    "    - Add three options for this category -- `Short`, `Average`, `Long`.\n",
    "2. **Interactive Assignment:**\n",
    "    - Use Persist's interactive features to select games and assign it to one of the `Length` values (Short, Average, Long).\n",
    "    - You should use the following ranges for assigning proper categories:\n",
    "        - `Short`: 0 - 20 hours\n",
    "    \t- `Average`: 21 - 40 hours,\n",
    "    \t- `Long`: more than 40 hours\n",
    "3. **Verify the Output:**\n",
    "    - Print the head of the generated dataframe to verify the changes."
   ]
  },
  {
   "cell_type": "code",
   "execution_count": 17,
   "id": "b59fb23c-da53-489f-9520-918d789978eb",
   "metadata": {
    "__GENERATED_DATAFRAMES__": "ᯡࠩ䃬࿀ᜤᠹ悋ᐬ推̅ሣ䧠ⶠ卍捯ᥔᠣ℠▢dʘϔᝠ捌〤瀵摠៨⠠ ",
    "__has_persist_output": true,
    "trrack_graph": "ᯡ࠽䈌ʀ匦㢠⹰ৠ㌠ᰥ〸抴ୠঠ଴㒫ျ൤ɑ挴∤ᬀ⠌Გ䎩ᐠ▴ሰ瓸礪䡲嗀泵嶷฾ʜʤð䀡墒ㆯ兀ॢȠநẸᢀ㜰䁾巒Πˤ㽴3䧩-儣⇁ᣨ⠠㍔ेƮ䵥ˠɑࡰ墈㊆Ĭະ䖣ॡ僤恠Ú㶝Ω䤠䟃䈨煹堡犀⑔崯ଣ௵䁄悱琡㙐⬮エάथ᫑ࡡ㬰⇵၆■᫬㇠໽ٴƜ笛▸䜮ૡۑ室ⱷၠ嘠传γ毻挣䛿㱠⊇Ꮿゑ⚇䱡რ㴴ʦ⌰㵆ԭ‰倬䦫桄㡈Σࢰᡈਣ⇀椲Ꮶ窜ኆ䘪桵䞚⽡॥㆘兏⃅楬孋䥑祢䂬⪵改刺煓兘䅁慄Წ䭃䨄Ղ䓆⡴㕃Ị瀡ʤ䀠䘡䀠睽✫␡昰u痴Ą,䧦㕹帻㏧⬣⹳ⷁ㕻ḿ࿨ତ歩༲䂑摊ອ䁄搲ከ䰐䐸£䆰ᠬ༡䖁匭帏奘⹩ጫ䐁䒒Ṙ剐ⱖᎭ挑娍࿲槔偮寋株̢ອ䢁രʅᣬ猥嗌嫍歝஁̍筣伊㫬ī䬃㤼穘ౣ!≑㥺痚䁰н㤠Îけ璔⸾婬慪紓⬯䈫͢値༐䢢矁䫤碿㞡ဠ㴣疝稹猘庬ȕ⼨՘ᾷ疐㾿獴⁀णႾ䔤ၴૠ㐺⊀椺⋀ᠬ⚩吮Łీ䂨䐬⇁ガá䲞ࡉ灮䑢ሧф∣⹐ൽ揘ಢ㍇眃㱦燡ᾴཕᚼઉ犏喐ຸʔ䂝ჸ㹏栙Ó䍐〬₰利㖱斢䟀喪䗍橝㠁ȧࡐ畘፩ௌ⅀憤㉀冶Ƭ熵ڵ৒㕭槆㈍匤ᜱ⸧䬒摄㚭吠⡬ᰲㅬ榦ㅠ委杵䙘ᄠ㪴ߴ䛎唜䬪旔R寤婶۵橶ȡ᫪㫷媮姵㪖ᇠ穾׋竞ῢг屁䁸̰ぴᦪ䁑䨢ぴ୒ㄔ⸰炉tᐼڢ咚དྷඥ山㉲䙰傼幱犜奲ઈ㪵勍喁璝௔ᑹ̧ಳቍC嫣๋ᔖ仓䄆庇ᦑࢷĕẻ嘥漛䶖㱷伃样丿ⱗ切帿ሕ㑏嬫㺋ம⅐᠒岈⌬ৢ▆Ɛ٬勸眨䢅⑨⅀ɭ㡜㱦渜␫ᎀᠯ卟⚻ৎᫍ唼⼹H⢻燮匫㍀ܨୀ«⁘ᣣ္ധ摘᪤ၵ嵂悹ᕅ紅䟓ၬḮ楟ကɠ䫤᧦♎ᙒ೗䣴૮⡕䵠桺ᇬ⻕ᇧɄᆓ⃃㲎ቩ䂱䶓㦡皫㲪䂄֋ⶁ厊䔲࡛ඔʋ߳╄䜫⦋䜩欧ⶻ㝌樥⽰᫦垻Ö䭴㠡ΣᩐỌ㗭㯰⧖䵨榽␧㪥娭䈝⁒ශР愊湁癐ᒡ恑̦僥͂炓禥⭄ഠ枉Ή䔂᝗晝㙏ܑ⟬◑幒׉⑈昁㭒㙔䗓㚨Ἄ盝ᵗ⁸ᘊ໯ᐌⱂ㸼汛ߐá㢡䖑䇟硣༃湿䆦⏢㴟梭灙౗ᔻḸ૘ᐂ捹㇦Ⴊᜂ瀙泪⵩嬃䜯ᯜ㥲璞㌘㬃-擼⋩䲰䱸৊੫±ዢ氻♌捠ХPἣቊ妀㔐倬ʴ璪䩰ʠ〥䀨ྤ࠺⋦᧒㐫㏲残㙆ℍ▮⁋ᗻ⭊䇶⚠㚏㇈ᝄ䂈ࣙ揠䅇呤枪禰⌕嘵犨剡应ל攺ᕤᩉ䞤碏㶩ၹ瞾✳࡫汱班揷厛㞬娸Ṱ䡢噊⬎∃䧼⬬桻䧈ާ㧕㪰畗✊缇檊ᱜ䆬መ㾤瀰抋⪂恝㕶☠䣑ơి㤗͒䊩ᆍ㨷潝嘮ഊ๳ℽ獺ḓ幚嚱㥇ḑ嵧皞纫梤ڡ紳緾嚃昷桰濴Ù搦◦Ő楘′ˁ䘦༨Ńۤℝ䷜㚦䚴䆣ᣨ҉帒ᢗ烐䓔ᄖਲሾ⛵橄弮楒↧᧓سī瓂ँ⸷ᙿh㉌ᡖ䢢Ѻㅅ౦ဴʠ೯≴ⰳ卭ҡ根ጼ㧕楋げ⍍凲ூᙥ沴ღ泇媸傡笫ౠ㈨屵ᡁ㕈䈊㇆ࢫ◯㭭籮䧠溶䡂䠂㳆剳᾵ᲀ坔晡ଚጵ㨁ᖉ䏳◿ᕊ䓠恻̊&ࡠᣧ㰠߰5ࢠ䲓⠠央Ȥ嵠4Ƞ橭≠Рň㨷⤬廠䐩⩵ಲз⫠睻呔؊䕀塄ร疕愯⃰咰ͨ栴⑦⊫籙ࢼ㍠兴㍯ᑤᑈ@✶䀲柝㭢₌⻧⟐♘玮⽈䭾༵煛歒࿮瑛ᆇࢩf᫮๭丞῏纟␣玹Ȯ␺坍挼槮䄐஡口㥀ና⡔ǰ⨵のড়塊ё䂠䜦憼栒崱䴗㐆Ⅹᢐ堲僘桭ᬮ㵬ᾣ䓣䴤嘵䅜嬬᩠⋵剀㐮维ݕ班劈ᝀ戮ǰᤣ䣒ɹኪլ᫭䟐━〴昩喺嗉媸ߕ䝱Ჭਊ.䚰堿Ȑᚢ䤌㊀ᤠ沟Ⱝ捬බ䔐ℬ䄨暡ঔ₀ⰻ⽵兠ᴥ䂌㇦ɛ䝩ឬ䠩慞撱䮋渢〡怳ڧ⸾ᮊᬂⴢ൩爸炧䊃䕛䈇䘠∰奜قΟ䋮校ᦳБ౑㗶宊່ਚ䒑䮠䥚᮸̬娟ݐܯ⏚䣦䄩栆೚ᒫ悙殣ᡵ༁䡋ᵁfи䝨沬⤌Ꮟ᜾吰䀳癞⃢㔧⊟䍦ᖬ猇಩䤥燪䅘Ꭹ挏ዬ剪ઞ⦠ȹ燠㞧᫻榫⾭㛔Ꮪ操≉㽨淕៻ⵏᦇ㓌㞄㆖⊂๭䯬⿹ံɎ᪏ᐬ榨⳿䀫枺̥䕷壖䮖⁫ક㠵宀ᨩ䶝䧗㧄ث⾍ㅡ澶摈ⓒ牕媯壚䳆ぜ㠰ொ捲䱞劌ځ勾ᢩ焼˓ᤧǧ媠ご僂泴あ犀縡䗈唯㵇㔞搢敿ᐪ產વ⮉㕻Ḻ奊᷃僛∊㲇嚶崠༏爽濁᰻ٚ筕㯮᪗䁼疎᧬⻫䩡殹㰢犬瞭ɂ殔店܎琉䀣橝澲˺㐱䁠䇴缹昋睢瀳䌀Ꮓ⃲ඔ䍶ៃ⽔签㽬̡ය戛ᯣ㖞׌჏濆⵰痢砾Ђ㫾冂䛀በ䤉䄮網޳Ѥ笴嘕矠෭฻⋪᭮濃ೆ摝廪᭛ᑍ戡傅巤ゑޢമ榮ษঢᇽ̓湄桸❧揚䵹痜㨊ิᘿቁ㼷榝⎪磠伬篚儛ۊ漌本᳭㭚焰䛯⨕㽷琚瓦⻎䁃⾧⎏洕⟼⛒乭應㯦I䐯㧓啹㣪ᛨ䉣Ǹᩐ⹗⁑ò᤟剄ᔍ囦洆僡巽婍篖⵿ᘁ䶢俻ા䥗㇆㵘絃ᷖ⩚嶶Ä瑙樬⎷尯᰷⬢纖⺰嶎⻚烔㲤巠䵎ൔ㮶䴺䳎喓廓恏ࢆदᧉ䳀ຆဦ秕䵭⮆汕懃䳴ⴆ糃㦾䅗┶䚄傏䰣╞⃐と⸒䘶嘮䖼ᔂ汤䉗䈹ඁ͠䩗◈您扦भ▵౒揀Ⴃ烑ತ暞ṗ点ݠㄭ቉⸒湶泴喣ᅥ䒦Ⱛᯎ्浡殐࿍帐ሰ儯ࡪⳄᚶᆡ格䎲湦㜪⡭ൄ杶楓㺧ҕ柎ِᯎ䴔ᛜ䌪梞ہ㒠桹⶘瀁⎑䮤ᕕ搒࿱烆恄❠咡ᚱ×伨ᒡះ¸ྂẢ恅Ȑମ㚰矘㲔䦌䇒梨泬䜾䭀⟛妬☌㧖㤺㴈ං縴澰戈䏜ᣡ绎ℤ⌠␓ဩ粸ڞఒ恔嗋ⱑ擥౮籆῞榭䲜挶ᦞᵰ䡋沉0࿐㻗沃ⓞ⾰ᵧ䍠ᰦቜ冨Ϥ巗ࢼ凅ࢮ㷥牏ᄤ⋠斬嚶ᱡ涾㶅枣㰫悮∢⎪ᷫ晠璒㑇綎丞᠅ሽW䌔ǣ㵀畧డ掵㎸ϊ敚䠭仔́䬡ல岢ᤰ᫚㮲㰦痥榢䦑滎ᦊ波᎔塲屍櫎­㊁畒ሤ催俘⊔淩緵犉岕柾娬྽屿⪎沯䭁ज䵔⸦〰䒁扠品⴬4ڠዶሬ¸丌牶㑴㴍䌾皫棇⏌䷱槕瑳䦝䧈త⹝挾ᶰ枮抸䗑⼑┦ᐬ⇞Ṿ㾩ⲋ䁽ဦ㝬瀧割Ơ潬籿刨Бⳁ哇㱕෾ᕑ㙑喌῾㨪ྻ啻䙞彳ѠⰭ挊ሕ㝞7毼抷廊㌡扜惤尤ഩࠉ∢䁊ቒโ䵩ቆ姡滌周瀹ऐထ皂囋䁗滑渗ಞᷖᢞ∦᾽ů欦▯Ꮒ኿䷺ơᅙⳒ!බ承禑ᨡৰቤʇ⸬ᠮ䍙ሥ楩⮱௝擥檡ٯₓዡↁ۔⮮͙ᣆ値ၱ䴔ॡ爨炋䅅ᎎ種籃Ʉೡᐪ簻ʊ瀙㜤ઁ㊔毡ͧ炛䵰ᛡඦ࢈∂桦橕㢔䉦̔⼨⢏䏲捦ᔯ恚䎒槁兓␮䅤ᢱ䩎⒟Ԉઁ湮㹬䱅ᆹ⥨㢇ⵢࢶ᱉硾੄⁥䓗䢎௼ᆶ噏嗛௭毎㡌ֺࡽ攁㒠公∪抠㪗ᆝ୴并㒦喾Տ⟩➔⧘⁊៹⣪⽉䪝梸⸤ᅄኄ⴦屧⠰㦬䣱甴劰泭᪄䞄婣ᗍᕖᙵ䷝剙⊠䗧嚖Ⴠӹᛩቄ㉛ᚰ⻨䑗㇫⿹Ⲣ٥̼壹䗂䕻㏑⬵磉癲⩀抵䎬ଯ㲪䠥笪㫋啧渊糫䥱㎧扠ࣵⵗ啎ᡸ昑堭掋ᘰትάƣ䑱ڶࢼ珸ְ狒ၐ急๶䄱焺Ƭ䀩ềٳ揣ᬑ⽬搧捁ᘑ㣨ڂ㐁ᾜ】⹯籶■磂湯碹插᧧ໞ撯ᗮቪ䂹犆ũ絒幪ե杩㯮㲣猔憚ಭᮧት斁壖ĺ↡壆剡੡䬞圙࢐᩵昭Ḡ䎏歌၉⸪઒峅⾡曊⍣屿ኦ᥈᚜䰁喭ă⑧斱垭ᡶ㯙巋⨮䒨᪔礐ຸ模䁈㢬਄ᑵ䉬ŵ丸䳡㦑剔╪佉梸渃栅晶➹䘚ᧈ嗄ⸯ⬈ߵ㇀൱㧈ౕ⹣൤欜䐚ヤ倽妜⅀禌⮂桨拍ᐑ൶實廌ⶎ䶎媳ᢲው⚏㵘吥泮喘紩彵剢㕯ǫ៼⫩䂭㉳➨晃渾ᅨɠ⛨倭Â⹔春െ呰ڰᱧ‵綧ᚵۨ䖆⭻ጵ两皎㰒培䋎Ⲏ欆⥮摬዆䈛ࡘ疳ᵮቹ濙毎̱ቯᩩߍ䌥玾屎埉庛橑䴘䙩惞䩉卆翈၀ᰀ-䲉煳硰ࡦംⶹᰑ䱝您協᫧嬭㈋悔稨έ砖䦕䏪喹傊掌簇寝⯱⽧୐榹䈖᎖篯墅⪎ᥱ㷳؉瘤䑚祵廀昧扃ĩⲶ൩᭒壹⁍睍㒙叜彪৒㊲㲆抾科䭻䢟በᄋ渢ℛ⤽≡䝦㤃宠哤➒㫰વ愋ᄺߣ妣椎が㮬ޣ梢❠䂨㱵ဣ櫃嫪崍્㮎㊊兞㒏䆈㐺帍ᛌ⾻⯎Ḑ状ദ禨䫠䮤搦ㅢ≤䘧έǸڨ㍌ᄩࡄ♨秌ᙁ尚劍⇉煚婒্⧉殌檷ὒ嗬碠നս䱨㎮牧⟙䯋㏘ʻ岙࠵ẙ放函ᗴ亭ሾ⟽淴ཫᎅứ㘏ོŇ嘭娊搣竁哦ᢏ᮴❗壆ᅉ瘦䅒㖳ȥ፰箑忝䡁墕竘吨搎佺ↂポ㲻澅窄墝尊潫已㑐沾攎❢㤭䬯䩷愆䧞瘄ⴲႈࣔ礁℆ↁᓾ斲䎳ਹ崶⚬୧䪉↉⠸ᣂ㲚᫪⃋⟘ᬹਂ㣊᥊⠤┮粔ዎ㮴㳹⸇♚䙦٨⬔䤎暄ん社ᳲ䙴㺓⣪ᄵ服噼ⵣ䁆热ͼ⼆㨫咥䳘⽰䛛⬭⢆妑綥㋑殲彤番㖄⡀֩ှ壁椽斄拝渓傉ቃ疜㡰ઽⲑᄈ㯰ㄽ憺惵ڐ㍣ԏ僪㩫姺⑩盍Ȉ媕‭溝㩼㾩䗡嵴ɗ؃㺒㵿䘩ဳ寪Ӡ篡ตᦓ㊅ᮠ䓶ᛓ㖸ࡁ卋ላ㹬厅晉䬫䦢䶵㧋好⇜❌ᇶផ畛㦝ࢋ奾瓤䅎ƨ槇㇝ैৌ㈣䑎⃎ஂ燎⢫ᙸߠ斬䥰⋕旬࿩㉧㉀㾼硅ᦄ䝬㒳獉嚀䃄ठ̄尡⡌᫆⹜ॼ夾↌ⴄߦ拓᭨֜߅嬄⬳栲឵䅂㑻ᅐ村㦰汾皎ᚣ䷭ĥ▙㙱㕻౽爽㜪჻䔊㛡᝞㊹ͳㄑ♽匊佰䛊姽坵樖ྐྵC◦後嚟淋Ⴋ懀⮕⊬䉤崏壌ዣৠ摹乫ñł嘣瘧㷔㪼ᶾ䤞朄㒓䔼ካ更㼓䴸壹㪛⠄峓㌃䞹敘܏㏛䞎快圎礛㨰ጕ㗳㵤੄ྙ垴㺔圕㍆䃸嫬䶭㍭ᗸݪ๷喋圦኿㖀掠⨦⢵慪᪴☤屔离㒄碥呲复曥媽卞ཱི͠宓Ⱕ✨汆ㅋ确䈁১⹖爚ⶈ捛⃗ㇺŘ炁㳕䑮䏧䅇يᢑࡄ棝妢䥪篕ヅ瑙Უ瓴栋ҹ炔笔昙戩纉̟ᩡ⎯ヶ㎢撥ぉↄ૜溇䣑৵槜ਥ圠࢘峰啢ᄭ䓠两幅ᴫ燷လ瓁䳕䨂㰄珦ᩉᄼ俔励匫榐㝴痎祽㗛ⱜ澡ဦ疠↚樣ᚮ䞷䬉➻⺯禄嬚ᄉ坂犾䁗㬠炴Ԫ擤➠䵬Ự柑К悶ㅆ䅲卷ⷿ嘎皺炛斂ỻ⽯㧷༒ルާ㺹凸焘皓ᓴ磆伏ࠄ屹秽㝓⪷㖮盌ސ榌⎳ౣ炬牳঄㉄摊ᆱӻ縱䢠亩⑫Ѐᩥ㝱㿪櫼儷㠐ϻࢤ㜞ᙻル緈Ⲻ猜䬨㪐扷礠ᐛ௏紡犙㠧㹹Რ圀ᑋ⩯礒͗⬧⦗䈙ᰒ㋝刌䓼ᬺ㺧沎⧸➅㎯ซᓫ市䡦䴦䐨⿲斧ⶕ⎟䲩啝បᐕ♏僯㪼娍穹级䪞吀佐཯Ⲯ卮⌂ന度㬄Ꮘ倄憤⑖ᇦ堣嗀౒备᭓㝏昐它搅栽ⴍ叶㪾ᦈ⾖᱑≠ϞဿԨ猌叜ာ䘟⟵⯚爍滋柗㎘〥微綏痕寥渽疪➛ሳޮ἖盈岐䠝勞ㄻ⿈磳▐檩ᑇƴ㨲✲噃঱P④琲䓘࡫䯽㠯⼊珛䛟漖䄶䫷ᏸ瘙盿㓫♞ᇟ㗒๻绷ᛁ稢井䐜瓻哚в⏨噱罩俋䇴噞⋋沛⾚坧积欨箐助燋禗櫷Ẇ疇憞䭑䮪Ǡ娢䀾ƻᬩ瘡ᬶ硵⑪Ǐ炻ལㄓ昉劓㑷ㆌ䶤嬀㕍૞琦㴔ି᪰䖒ၖ䶪模⠓ó羺⚜専漴䙴嗿瞯䰞┚耏䉟纻ょ殃რ‬ዢ㝲嗆燀䲖杳䫪ἦk㥓樍⍵ⷤⷵ唨籚劯圂惠݈䢱ჩǦࢃ৑❒ᄸ恙Șۛ嚊橂瞤Ჶ᳎箻撗ᗝ㐡导瞛㶳ࠗ䜎䄘㿧嫒猟㪘䩦㩡䄖坫०粼㔅刾䜊๬ⓐ༗⪡淿㇩䋖并䦈Ჾ⠎䰊猫ጃ祈穡夹欀त嚃᧪昫ᶷ皴優坑洉獛ʮ㫡ⳗѤ丮Ⅵ䅯Ფᙩ匪≑ؤ⋀䫒ਈⶠࡢƔ斶ᡡ᥂獲䝢剣瑇࢑䉈Ω䓇ণ绑粪綔ɘ㗳ࡁ泲樁烑ᒤつᡏҵ䪐㇪㽢䲇石兪䒧≅Ꮊ䩥グର屽娴◧界㳕懣䯠嘡డ䑜磉ۨ䋭ॉ㉖橨儼䁨掬䁠琛嘅䶢暍ଆ枟బ歔հ潷ᄦኈୀ⨧夫₞繥珐࣠嶉燡焠≖δ㕪务攺瘳䑞愬رಐ䬢末戢炴͸㍠⻢⳩有ٕᷗӠฐ榄⠤淪煵注ଊ䐠ợㅩ࡟⁩䄷۹ͨ撓Ƥ㕟⒗䃥 楠墧㯁㄀ڟ梿လ猱䁈幘ɫ恠㭞倦缉ၵ䜔⥡䈜࡜㗷㋩℆籴ࠣ䵡ᜊ㐸ᗏ䛝稈ᠳఽЗ⏸㽅瓚୐≆墈䇋枯м㡥曰窵Ⱄऴ侄䴑瑳d壚ᨳ勌凸੄滝˂揷ੀⱞ᲼⒨⪬჉栌庶崒䜁ʳḕⴕ秦佩Ԥ勋嶾䠋䟋዇䆩ᬊᔐ㋂劭⩘䒕⎽ఘ⫱ʚ抉Ꮅ੉ڌᤈ磄䰑摈綗⊰ߴ㯢㭧屌㒘ㅈ橦ᨐ䍬ㅗ燶棥Ѩ嘔⟁椈噪嘠㰻䡏ΨᲕ撔瀸ሤ旤ᚣᱠ䳸䵍䷂懗祺⾟Ⱜ皷ⱛ假◊盈岘ફ枪ᩇ䐫掆ဟԠ⫇ᇢᔾQ࿰㑰ࡧ㬽ѿ㆐䘮ᢨ䤃ㄣํࣩ挧グ኎殡᷀灾ఠ䑍氐玽揓␰⎀≤㔤㿰椛̡ૈ䔌㋭✽ᆠ䥠㱥੟▒ב᤼㣋栦ܥₙ禘ැ痢㐭屈ڛ䊸ཀਁ爀帳ᙕ梬堽ⲩ㴠ᄣ‡征榟〡מ唧導偼Ṁ㢒ḧផ႑睠惔ҧ癬Ⓘᅤᔶᒂ䱤とⵤ申】ᅕ⭭⎑焦弾०ᇂ㑰刜䠳ⴇ㥜ԓㅞ䓦᷊༂▩Ɓ⢳≸䦔⒔檈䣝䙷ㆦ常⍪ƠⵐŠ翄箮{愅⋤㝕堣䱞墥䉀㊌㟪ᛦ嘴ⷓ繓橎Θ歕䒧ⶸ恧掃ڜ㫖㟥終娣拑ᅮ᠂ֲ瞮奆䢁䶢⒀ǩ燉Ჹ粋䤻䞊਻῭㪢⛥樺ई↠ᐶ圃䆄⩄ᚃ͢栍⟁╃Ʌᩂ熩ڴߐ翰罪ढ䒣شர㪵愇截႕ㆬˤ⃺姦笻Ѡ熪兎Შ欂Ꭸᚺ彸ኛ☈Ꮴ㬺䈍峂䅈☂⫿⅄Ṗ玻Ҥ㵙ࢣ呶弊礴ゑऽᩯ棶㍸榒⫮㼥卿ᖿ彪㗆Ү厤纨㠩ᢎ㼲嬃⇧ᅘⴀ䗬㑾禁௤⹎ა狊≱㐸ᯡ㹜ᠴ⠶ᎂᔶ畊刿⏉䅇厌䳧れ慬傤牊マ%२㍹悪剛⣩壦櫐ű痤㜮䡚搆㜡僎冋ᬲ增庋р瀌༔稢敜媙甒了帰䨸㺲⩼猑Ŵ岄湨䠿಼匕䅄ᢹ䋆㈬⪋ᦅ╳ἴ൒Ⅾヵöᵊ垤ɔ庢瀽惟憸߭毈㪴枩၇㝱熁Ź,㤂㈧櫚泊惰٧㼨元⥄䢘⃺⎱ੴ忤㲵㉣煞⟹ᬘ䁲ᾩ㥛礖勄໶张ᩉ椰傒र祽⋨䘲沭玼㓼ኰኣ唾㹥᥀ᑯራ祁檚㫌剩ĸ甙㇖睚㣪曹䳅䩓t暤䯌੉㼦∨䣂⥭ܧᴠ厂甂䱳໳棑淯ᬼⲄ▿ࡌ推囃ᝢȣԊ璈乁Ǩ⒱ʽ娱栽╄䌂痲䳢ⓚ㈲Ȯ榹㯕⏇գ彫䩍⭧՟ၓᰒਪ䴆礬ଜ昣᐀ᮼ‧Ű⅗̌ઓ仙᝚ឱ珊ଞѺᦥἽ旫ᑇⅾ䅒掎⇁ყࢩ炨䩭杩悷ẓ㋕◱⬬巇勫姠ố弤䙸إ㢫⇱↲ᣬᛩ缮⧪枒Ṉ没ㅢ⩪娘珋ឰ©䨡ᄹ≭Ǯ扂ᗖ倶ᖱƆ㒊撋ᬢ䬡灍歉ˉ瓛扩9ࣅ↲畐ᔊ⇥ᓴɳ㪢╅ᔅ洃㐾ඖ刃〦̩ᐫ੢⒵௑碤搨ᱥ倾ᔒ˂ࡑ晇慕⧎ϳᡬ卒խፍ䳲卉仆⫉੦ⲃ罊↝劬ऌ䎭絩㭕捣撁瓢㏞ⴧ恃濄樝碝⭔罃᭫浅ᝅ势䳄᝶愅䠁媜榶ᔜ䏔嶪亨᫽䒺䲮亞⓶叅䎱扱䪹㩤੔ㅠ捰呠偍ㄈӶᆡ䘣焤他ᐲ元䑣㸒⇭結崟厞㐦㉖吪䆰慢㚰搴䴬瀤‧჌栬泏炌㽩㒅羷垠؅㤠婭ᤑ硥䆬澙焮攩ࢴ䆦硿攱ᑹ⌴સⴡ⬂垥䊶䯸⾉⮥⺵摣楠䘝ᜨ嗝K໲䷮㲷⡅䥀ѹ璉䖳案粋ᜰᆧ⒝ឯ၌ၿ䆨䖬Ȭ⊨傃ు«⏆য়഑無瘵॓㷢┱㉠吷䁼噦֩ঀ嗌渫ࡏ歆泋൱㌃ᭀ⑇仂º঎杗⨃ᣳ架筚䤳௥㙐⧥笴Ίຏ冱斜഼枪ᴖ䥓᝹冨䖆崱翲पथ籱ዂ⻠⪁憦濼䑔懨̚⟙粈ல眱㧛䙙䛐Ĺ䒁搬僔Ƌ䯠❬癘栨⍚⃈夐à➰ᚳ愶䊴┵㯐庶╴⹚⇽暻䟼䰒ϨС䫝᱔爁ხਇഅṭ䅓柘᝜疽中硇㳵犜松㾵絘ិ悤䃻柹渾ش欧䖳慎⩋䰲垵ᔩ筥⟉၍᮪庠ⱀ䗥全⪱⬣⡵⑕幵⫢䥪窯柅浬ఓ妕旿噽ቱ䨞❾糺䬈翝▉珏ࣘ㇫䩀䝳Ⱳ₆ዶ๒ᑲ懫䡐┗ᔷ༰㤼勂垨嫳䭫⣙⋕殷⭷㦑ᔕ啜偢犅᮫獘峪呅䭀ᶅ㸺㙻὎㊈្ͫ椢ݏɈ䡌偫␒ആ嗷ᶃ⤯窐犴য়œ〡ᄧᡮʚ䄹ⶥ㚶㡻⁗؈Ŭ忢彪䉌ೀ૊㧈䅑ᚱ礤㑼皘ᗬ䗘櫨瑋沪筈拜዆䱂ⴾĆຼᒃূ䔑ᅈ庥㋌䛂⬈殝པ⠺晆⢲桤㖂啦唂ᢃቨӃ⣼֑燴ㅬ噓垥疘䫅媡姤甝屩䙑_⫰澵⸭䱖紸柈夡䕡怊峊䇌⫌䜌᫜⫨㕑ᰉ烩;冤㌱只䲓ᦗ‵࡭綐]䎠䛙筆㯁暞䢱似㲑䝱搧┄㏟价妆ዘ 沖ᥨΰຄ挰䰡⻁ၔ⇷⢣ླྀ暳㝾嚜⣲䐎幺⩴䯋᧒㕕檃ۓ⮕撠睰玞⋰䍙哣㟭᥉ა勀ⳳ㋐እ㎫帻↎料២憴䨳ᤁ甥媲毮⽍㩀䫴湳ⶁ๝噜壺䐊⿦儽Ⲟॡ⯎䦱垅㽾癯疾曢怚俒ѫ筌抰᮱⪔⅕ᗄⱲ䕸ൡ㇘嫊粸ݭ㗂᣺ㇱ⨑㍮㼷䓲纑欁ᅌ⛹᠂䥣乭㕢䖸䘣౐縳䉫买禬咐䠻ῲ侰͂ᮀ㏃㍩⿥ʴ㒩瀪㛬ᡥ干媊媊毩㎂工喌⃾䍔棴孂瀡ɸࡸ⩓㿭毠孒崝͜@㔊峾㍧䷴ƙ宆侻皋滀ᜉ䆮Ƞ  "
   },
   "outputs": [
    {
     "data": {
      "application/vnd.jupyter.widget-view+json": {
       "model_id": "1c7ffb144fde43419308938de23750a2",
       "version_major": 2,
       "version_minor": 0
      },
      "text/plain": [
       "PersistWidget(data_values=[{'__id_column': '1', 'Title': 'NBA 2K7', 'Max Players': 7, 'Multiplatform': True, '…"
      ]
     },
     "execution_count": 17,
     "metadata": {},
     "output_type": "execute_result"
    }
   ],
   "source": [
    "PR.plot.scatterplot(df_task_2b, \"Comp_Time_Main:Q\", \"Review Score:Q\", df_name=\"df_task_3a\")"
   ]
  },
  {
   "cell_type": "code",
   "execution_count": 20,
   "id": "6d1e1b6e-405d-41a7-a760-71b1d6636f8f",
   "metadata": {},
   "outputs": [
    {
     "data": {
      "text/html": [
       "<div>\n",
       "<style scoped>\n",
       "    .dataframe tbody tr th:only-of-type {\n",
       "        vertical-align: middle;\n",
       "    }\n",
       "\n",
       "    .dataframe tbody tr th {\n",
       "        vertical-align: top;\n",
       "    }\n",
       "\n",
       "    .dataframe thead th {\n",
       "        text-align: right;\n",
       "    }\n",
       "</style>\n",
       "<table border=\"1\" class=\"dataframe\">\n",
       "  <thead>\n",
       "    <tr style=\"text-align: right;\">\n",
       "      <th></th>\n",
       "      <th>Length</th>\n",
       "      <th>Title</th>\n",
       "      <th>Max Players</th>\n",
       "      <th>Multiplatform</th>\n",
       "      <th>Online</th>\n",
       "      <th>Genres</th>\n",
       "      <th>Licensed</th>\n",
       "      <th>Comp_Time_Main</th>\n",
       "      <th>Review Score</th>\n",
       "      <th>Year</th>\n",
       "      <th>Publishers</th>\n",
       "    </tr>\n",
       "  </thead>\n",
       "  <tbody>\n",
       "    <tr>\n",
       "      <th>0</th>\n",
       "      <td>Short</td>\n",
       "      <td>NBA 2K7</td>\n",
       "      <td>7</td>\n",
       "      <td>True</td>\n",
       "      <td>True</td>\n",
       "      <td>Sports</td>\n",
       "      <td>True</td>\n",
       "      <td>8.18</td>\n",
       "      <td>80</td>\n",
       "      <td>2006</td>\n",
       "      <td>2K</td>\n",
       "    </tr>\n",
       "    <tr>\n",
       "      <th>1</th>\n",
       "      <td>Short</td>\n",
       "      <td>NBA 2K8</td>\n",
       "      <td>7</td>\n",
       "      <td>True</td>\n",
       "      <td>True</td>\n",
       "      <td>Sports</td>\n",
       "      <td>True</td>\n",
       "      <td>4.0</td>\n",
       "      <td>81</td>\n",
       "      <td>2007</td>\n",
       "      <td>2K</td>\n",
       "    </tr>\n",
       "    <tr>\n",
       "      <th>2</th>\n",
       "      <td>Short</td>\n",
       "      <td>NHL 08</td>\n",
       "      <td>7</td>\n",
       "      <td>True</td>\n",
       "      <td>True</td>\n",
       "      <td>Sports</td>\n",
       "      <td>True</td>\n",
       "      <td>17.5</td>\n",
       "      <td>86</td>\n",
       "      <td>2007</td>\n",
       "      <td>EA</td>\n",
       "    </tr>\n",
       "    <tr>\n",
       "      <th>3</th>\n",
       "      <td>Short</td>\n",
       "      <td>All-Pro Football 2K8</td>\n",
       "      <td>6</td>\n",
       "      <td>True</td>\n",
       "      <td>True</td>\n",
       "      <td>Sports</td>\n",
       "      <td>True</td>\n",
       "      <td>12.0</td>\n",
       "      <td>73</td>\n",
       "      <td>2007</td>\n",
       "      <td>2K</td>\n",
       "    </tr>\n",
       "    <tr>\n",
       "      <th>4</th>\n",
       "      <td>Short</td>\n",
       "      <td>WarioWare: Smooth Moves</td>\n",
       "      <td>6</td>\n",
       "      <td>True</td>\n",
       "      <td>True</td>\n",
       "      <td>Action</td>\n",
       "      <td>True</td>\n",
       "      <td>2.5</td>\n",
       "      <td>83</td>\n",
       "      <td>2006</td>\n",
       "      <td>Nintendo</td>\n",
       "    </tr>\n",
       "  </tbody>\n",
       "</table>\n",
       "</div>"
      ],
      "text/plain": [
       "  Length                    Title  Max Players  Multiplatform  Online  Genres  \\\n",
       "0  Short                  NBA 2K7            7           True    True  Sports   \n",
       "1  Short                  NBA 2K8            7           True    True  Sports   \n",
       "2  Short                   NHL 08            7           True    True  Sports   \n",
       "3  Short     All-Pro Football 2K8            6           True    True  Sports   \n",
       "4  Short  WarioWare: Smooth Moves            6           True    True  Action   \n",
       "\n",
       "   Licensed  Comp_Time_Main  Review Score  Year Publishers  \n",
       "0      True            8.18            80  2006         2K  \n",
       "1      True             4.0            81  2007         2K  \n",
       "2      True            17.5            86  2007         EA  \n",
       "3      True            12.0            73  2007         2K  \n",
       "4      True             2.5            83  2006   Nintendo  "
      ]
     },
     "execution_count": 20,
     "metadata": {},
     "output_type": "execute_result"
    }
   ],
   "source": [
    "df_task_3a.head()"
   ]
  },
  {
   "cell_type": "markdown",
   "id": "36e82a42-5f2f-44e1-b9a5-2e2d403b2ff3",
   "metadata": {},
   "source": [
    "## Task 3b: Finding Top Genre for each `Length`"
   ]
  },
  {
   "cell_type": "markdown",
   "id": "af40bad3-436e-426c-a02f-f205597e90b5",
   "metadata": {},
   "source": [
    "Now we will analyze which genre is most prevelant for games in each length category."
   ]
  },
  {
   "cell_type": "markdown",
   "id": "72455a32-623b-4b87-87d6-ca9c8ebf19e7",
   "metadata": {},
   "source": [
    "#### **Instructions**\n",
    "1. **Context:**\n",
    "    - We have a faceted bar chart. The `x` axis encodes the `Genres` column in the data and the columns encode the newly added category `Length`.\n",
    "2. **Analyze Genres:**\n",
    "    - Observe the bar charts to identify the top genre for the each length.\n",
    "    - You can hover on the bars to get the exact frequency.\n",
    "3. **Document Findings:**\n",
    "    - Note down the most common Genre for each length based on your interactive analysis in a new markdown cell."
   ]
  },
  {
   "cell_type": "code",
   "execution_count": 21,
   "id": "c45b6a61-ef0e-408a-bded-b1d1c1666e9c",
   "metadata": {
    "__GENERATED_DATAFRAMES__": "ᯡࠣ䅬Ԁ朤壠ᜣ琢〹夤゠⹰〮⁁䁻қ䚾ኊ㇠നСࠩ瀮晼Ƭ穅5愠៤⠠ ",
    "__has_persist_output": true,
    "trrack_graph": "ᯡ࠽䈌ʀ匦㢠⹰恣ƹ栧ᴦᫀ⴬¬ϐԀါvl戭║尩宠㎕⧵甚呩•ⳁႣⓣ侨䳅⴦♌汛㬗琲&䈠۵᢬ẩj࠰|㭄ǘ憦屢ຊ朎+ࣝ⠠丮䠠洠⻎佦ྂ㑠R疑终䬸ᐠṬҠ҅፧⊈壄㩬ٶᙄ+ㆤ夫ၡ⢀䡊斨䈽ᢢ෶ၸǌ旈彎傐‷毇檌狂煌ࢍ傰᱃☸∩〤砠Ჷ亾᡼រ戤⤃㗕Ⅶ䗥乐ⴒᔴ઺ၥ乀⭥⁒҄棚Ŏਵৣ僐⠴#㏀ᥚۦ媌ኘ䴤䢠䎄⒂̘ᙇቡ䎀硢ҡ⍱瑦ᦪ提尾ྩ怨瑁เ˚紞㇪盤撘粰䩰䧊㥃⋅㑣ဠ "
   },
   "outputs": [
    {
     "data": {
      "application/vnd.jupyter.widget-view+json": {
       "model_id": "e83fc7968ae5411fab7c8f28515f79fb",
       "version_major": 2,
       "version_minor": 0
      },
      "text/plain": [
       "PersistWidget(data_values=[{'__id_column': '1', 'Length': 'Short', 'Title': 'NBA 2K7', 'Max Players': 7, 'Mult…"
      ]
     },
     "execution_count": 21,
     "metadata": {},
     "output_type": "execute_result"
    }
   ],
   "source": [
    "NEW_COLUMN = \"Length\"\n",
    "\n",
    "chart = alt.Chart(df_task_3a).mark_bar().encode(\n",
    "    x=\"Genres:N\",\n",
    "    y=\"count():Q\",\n",
    "    color=f\"{NEW_COLUMN}:N\",\n",
    "    column=f\"{NEW_COLUMN}:N\",\n",
    "    tooltip=\"count()\"\n",
    ")\n",
    "chart\n",
    "PR.PersistChart(chart)"
   ]
  },
  {
   "cell_type": "markdown",
   "id": "00e87acd-3759-49eb-9e43-d7793672297c",
   "metadata": {},
   "source": [
    "**Task 3b Notes:**\n",
    "\n",
    "- Top publisher for `Short` games: _Action_ (_515_)\n",
    "- Top publisher for `Average` games: _Role-Playing (RPG)_ (_35_)\n",
    "- Top publisher for `Long` games: _Role-Playing (RPG)_ (_14_)"
   ]
  },
  {
   "cell_type": "code",
   "execution_count": null,
   "id": "c2834645-2bfd-44fe-ad19-b114ee8b5bea",
   "metadata": {},
   "outputs": [],
   "source": []
  }
 ],
 "metadata": {
  "__CATEGORIES_META__": "{\"categories\":{\"Avlanche Season Phase\":{\"name\":\"Avlanche Season Phase\",\"options\":{\"_None\":{\"name\":\"None\"},\"Start\":{\"name\":\"Start\"},\"Middle\":{\"name\":\"Middle\"},\"End\":{\"name\":\"End\"}}}},\"activeCategoryName\":\"Avlanche Season Phase\"}",
  "__persist_keys_record": [
   "__GENERATED_DATAFRAMES__",
   "__persist_nb_uuid__",
   "trrack_graph",
   "show_aggregate_origin"
  ],
  "__persist_nb_uuid__": "b82fefc4-1e19-4099-9446-89eee2c7722b",
  "kernelspec": {
   "display_name": "Python 3 (ipykernel)",
   "language": "python",
   "name": "python3"
  },
  "language_info": {
   "codemirror_mode": {
    "name": "ipython",
    "version": 3
   },
   "file_extension": ".py",
   "mimetype": "text/x-python",
   "name": "python",
   "nbconvert_exporter": "python",
   "pygments_lexer": "ipython3",
   "version": "3.8.16"
  }
 },
 "nbformat": 4,
 "nbformat_minor": 5
}
