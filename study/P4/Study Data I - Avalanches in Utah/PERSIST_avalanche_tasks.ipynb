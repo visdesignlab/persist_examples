{
 "cells": [
  {
   "cell_type": "markdown",
   "id": "522fcbb3-702c-4ea0-91d9-f3b0e71690fc",
   "metadata": {
    "__GENERATED_DATAFRAMES__": "{\"nodeDataframes\":{},\"graphDataframes\":null}",
    "show_aggregate_original": "false",
    "trrack_graph": "ᯡ࠽䈌ʀ匦㢠⹰àᦴ΀࣪ʐ怶䦠挠᱊ࠥ䁁䂖㚥煤晬փ⊪ĸ暂䙠঳ैkᑄᄈ妐ଷᓋ⃩䖻Ṯ溜Φ䐡傠Ǒ団Қ′䈤7ࡣᠠ湐戎Ⴆ寐爤䀥屨攠ʕ㥀ǔÚ䍃㏙䤥ࢂ┩勸惀Ēいཆ༠೥∁∀秸㲅䌠ⶬᛦ䙂ǃɡ殍戰泤ᒁ嬦怭㋉匥穃ᄠ彣჻⴦䉫ぢ睤䄁ⵐۻG䀡曑砑䂱竖ᄂ㜿Ꭽ˹ȩᚱ凁兘㑐Ṣ༩Ẻ䳥⑆憰棨忞⍧攈堽Ī僰὆揖䦲ᡊ⛓౱নఱ姼ᤦΧ您別൧儸晋Ǣ熘繀䉁硨K塊়ṹᜰ倳䪂ⵦ⚈ᒽ᪺ᆬ䀠 "
   },
   "source": [
    "# Analyzing Utah Avalanche Data"
   ]
  },
  {
   "cell_type": "markdown",
   "id": "3abf1206-e99f-45b6-a92b-d971a2a8eb19",
   "metadata": {
    "trrack_graph": "ᯡ࠽䈌ʀ匦㢠⹰ૠܠ昢〽䂆౐׀ৣfL⍉ျ⥒⠡䒙¬ᧇ峕搢ಒ嫒┠অҤᵖ㹢晴㘉ᦳㄍ毿䡨墠ᨰV䆼ガ搢⡠䀢焨㌠෦ౝ戰殖๠ᠠ塩ೀn坄V䀷⢄㚗᥂夬ು䅻ఴ>☤䝃傳狱⊔㳜ੁ䀶挫㐷ࢢӡჵ嬩іㄪᢉ懐ͻ䬥䇽ࣨ䁏僿峱䐰㋸ᇻ兀㡆䱍㛠਀ⲛ粀೽疨һ䟩桁㙡Ũ昙ˢ䧮ᄪᆽ䥢ᅅᄁẩ㱸౮ᐶޣ先ఽЃⵖᥒ⌥▶懜ᩑƢ᭛䭄憐ɑ٦⦈䙓ǂ炘㸠䱅࢜ؠଌથ䜯๡䙉夊᜶僑汢㭢☈₁䠠 "
   },
   "source": [
    "**Participant ID:**  P4\n",
    "\n",
    "**Date / Time:**"
   ]
  },
  {
   "cell_type": "markdown",
   "id": "ceac0d48-2820-4532-bfd2-adf6533d7a2d",
   "metadata": {},
   "source": [
    "## Introduction\n",
    "Welcome to our data analysis study. For this part of the study, you'll be working with a dataset sourced from the [Utah Avalanche Center](https://utahavalanchecenter.org/). The data provides insights into [avalanche occurrences](https://utahavalanchecenter.org/avalanches) in Utah.\n"
   ]
  },
  {
   "cell_type": "markdown",
   "id": "68491102-96aa-4701-8134-d998c80ae04b",
   "metadata": {},
   "source": [
    "- You will use an extension called PersIst to complete **data cleanup and manipulation** tasks. \n",
    "- Interactive charts and tables have been pre-created for your convenience. These can be directly utilized by running the corresponding cells.\n",
    "- Focus on leveraging the interactive capabilities of Persist for your analysis.\n",
    "- Carefully follow the step-by-step instructions provided for each task.\n",
    "- In some cases, you will be asked to document your findings. Please do this in writing in a markdwon cell.\n",
    "- As you work through the tasks, take note of any interesting findings or challenges with the software or pandas that you may encounter, either by speaking your thoughts out loud or taking notes in a markdown cell.\n",
    "- Feel free to add new code and markdown cells in the notebook as necessary to complete the tasks, but please do attempt the tasks with the PersIst functionality."
   ]
  },
  {
   "cell_type": "code",
   "execution_count": 17,
   "id": "9337796b-21e8-4c8c-bbbd-3076a775d03b",
   "metadata": {},
   "outputs": [],
   "source": [
    "import helpers as h\n",
    "import pandas as pd\n",
    "\n",
    "import seaborn as sns\n",
    "import matplotlib.pyplot as plt\n",
    "import altair as alt\n",
    "\n",
    "import persist_ext as PR"
   ]
  },
  {
   "cell_type": "markdown",
   "id": "dd81aecd-eebf-4624-b9e2-3a864c474c1d",
   "metadata": {
    "__GENERATED_DATAFRAMES__": "{\"nodeDataframes\":{},\"graphDataframes\":null}",
    "show_aggregate_original": "false",
    "trrack_graph": "ᯡ࠽䈌ʀ匦㢠⹰Ҁ̡䘠烠嘢త〫‥侴ᓬᛞ拐ৡ䚂ద抭婈ހڅྯ䌲⠠䭈⑁槑焳Ⴥ⩦仃㍶๽㰥Ҩǁ#㟢䌰橠ኤРᜰ͐üメ湁˛㾄ָ̠憴)挄䀦栢琭ٮ㍄ᨡ䌤ᾣㆢ䀣擠䢤㘦Sᥧᡠ戂怡ᠬÖᠻ㹈䐿ة׉妨⃓ࢱ̴㖠᫲徤ฏѤƜڣ回㸦ۡ৵ण䃔戊㘠传ϊ緯挡䘌污䕽庮粓㈨ɪⷠ搃猄ᦨ洘㳌ᤪ̪౦繶ሱ澂䘣⁑Ҝഭ炍孉ृÅ⭱䤾ᢠ䆋෭ኀ㠢Ү≱呺Ấ惑汮ᮯ戩䊏̠˙Ɂ⧽憳㈒ṉⅱਊ⥋⃆瑀⣨  "
   },
   "source": [
    "## Data Description\n",
    "\n",
    "The table below describes the different columns in the dataset. Each row in the dataset represents a reported avalanche with details on location, trigger, and aspect. The data spans multiple years, starting from 2004 up to 2023.\n",
    "\n",
    "| Column          | Description                                                    |\n",
    "|-----------------|----------------------------------------------------------------|\n",
    "| Region          | Region in Utah where the avalanche occurred                    |\n",
    "| Month           | Month in which the avalanche was recorded                      |\n",
    "| Day             | Day on which the avalanche was recorded                        |\n",
    "| Year            | Year in which the avalanche was recorded                       |\n",
    "| Trigger         | Cause of the avalanche                                         |\n",
    "| Weak Layer      | Layer of snow that was weakest and likely to fail              |\n",
    "| Depth_inches    | Depth of the avalanche in inches                               |\n",
    "| Vertical_inches | Vertical distance covered by the avalanche in inches           |\n",
    "| Aspect          | Direction of the slope where the avalanche occurred            |\n",
    "| Elevation_feet  | Elevation of the location in feet                              |\n",
    "| Coordinates     | Approximate geographical coordinates of the avalanche location |\n",
    "| Comments 1      | Additional comments provided by the reporter                   |"
   ]
  },
  {
   "cell_type": "code",
   "execution_count": 18,
   "id": "8d0e426c-89a0-4813-8994-65ebba3f3a25",
   "metadata": {},
   "outputs": [
    {
     "data": {
      "text/html": [
       "<div>\n",
       "<style scoped>\n",
       "    .dataframe tbody tr th:only-of-type {\n",
       "        vertical-align: middle;\n",
       "    }\n",
       "\n",
       "    .dataframe tbody tr th {\n",
       "        vertical-align: top;\n",
       "    }\n",
       "\n",
       "    .dataframe thead th {\n",
       "        text-align: right;\n",
       "    }\n",
       "</style>\n",
       "<table border=\"1\" class=\"dataframe\">\n",
       "  <thead>\n",
       "    <tr style=\"text-align: right;\">\n",
       "      <th></th>\n",
       "      <th>;Region</th>\n",
       "      <th>Month</th>\n",
       "      <th>Day</th>\n",
       "      <th>Year</th>\n",
       "      <th>;Trigger</th>\n",
       "      <th>;Weak Layer</th>\n",
       "      <th>Depth_inches</th>\n",
       "      <th>Vertical_inches</th>\n",
       "      <th>;Aspect</th>\n",
       "      <th>Elevation_feet</th>\n",
       "      <th>Coordinates</th>\n",
       "      <th>Comments 1</th>\n",
       "    </tr>\n",
       "  </thead>\n",
       "  <tbody>\n",
       "    <tr>\n",
       "      <th>0</th>\n",
       "      <td>Salt Lake</td>\n",
       "      <td>11</td>\n",
       "      <td>9</td>\n",
       "      <td>2012</td>\n",
       "      <td>Snowboarder</td>\n",
       "      <td>New Snow/Old Snow Interface</td>\n",
       "      <td>14.0</td>\n",
       "      <td>360.0</td>\n",
       "      <td>North</td>\n",
       "      <td>10400.0</td>\n",
       "      <td>40.577977000000, -111.595817000000</td>\n",
       "      <td>While it was a small avalanche that was I caug...</td>\n",
       "    </tr>\n",
       "    <tr>\n",
       "      <th>1</th>\n",
       "      <td>Salt Lake</td>\n",
       "      <td>11</td>\n",
       "      <td>11</td>\n",
       "      <td>2012</td>\n",
       "      <td>Skier</td>\n",
       "      <td>New Snow/Old Snow Interface</td>\n",
       "      <td>30.0</td>\n",
       "      <td>1200.0</td>\n",
       "      <td>North</td>\n",
       "      <td>9700.0</td>\n",
       "      <td>40.592619000000, -111.616099000000</td>\n",
       "      <td>A North facing aspect with an exposed ridge in...</td>\n",
       "    </tr>\n",
       "    <tr>\n",
       "      <th>2</th>\n",
       "      <td>Salt Lake</td>\n",
       "      <td>11</td>\n",
       "      <td>11</td>\n",
       "      <td>2012</td>\n",
       "      <td>Skier</td>\n",
       "      <td>Facets</td>\n",
       "      <td>36.0</td>\n",
       "      <td>5400.0</td>\n",
       "      <td>North</td>\n",
       "      <td>10200.0</td>\n",
       "      <td>40.599291000000, -111.642315000000</td>\n",
       "      <td>Remotely triggered all the new storm snow (abo...</td>\n",
       "    </tr>\n",
       "    <tr>\n",
       "      <th>3</th>\n",
       "      <td>Salt Lake</td>\n",
       "      <td>11</td>\n",
       "      <td>11</td>\n",
       "      <td>2012</td>\n",
       "      <td>Skier</td>\n",
       "      <td>New Snow</td>\n",
       "      <td>18.0\"</td>\n",
       "      <td>6000.0</td>\n",
       "      <td>Southeast</td>\n",
       "      <td>10200.0</td>\n",
       "      <td>40.598313000000, -111.628304000000</td>\n",
       "      <td>Impressive fast powder cloud ran in front of t...</td>\n",
       "    </tr>\n",
       "    <tr>\n",
       "      <th>4</th>\n",
       "      <td>Salt Lake</td>\n",
       "      <td>11</td>\n",
       "      <td>11</td>\n",
       "      <td>2012</td>\n",
       "      <td>Skier</td>\n",
       "      <td>Facets</td>\n",
       "      <td>42.0</td>\n",
       "      <td>9600.0</td>\n",
       "      <td>North</td>\n",
       "      <td>10400.0</td>\n",
       "      <td>40.578590000000, -111.595087000000</td>\n",
       "      <td>Three of us toured from Brighton to low saddle...</td>\n",
       "    </tr>\n",
       "  </tbody>\n",
       "</table>\n",
       "</div>"
      ],
      "text/plain": [
       "     ;Region  Month  Day  Year     ;Trigger                  ;Weak Layer  \\\n",
       "0  Salt Lake     11    9  2012  Snowboarder  New Snow/Old Snow Interface   \n",
       "1  Salt Lake     11   11  2012        Skier  New Snow/Old Snow Interface   \n",
       "2  Salt Lake     11   11  2012        Skier                       Facets   \n",
       "3  Salt Lake     11   11  2012        Skier                     New Snow   \n",
       "4  Salt Lake     11   11  2012        Skier                       Facets   \n",
       "\n",
       "  Depth_inches  Vertical_inches    ;Aspect  Elevation_feet  \\\n",
       "0         14.0            360.0      North         10400.0   \n",
       "1         30.0           1200.0      North          9700.0   \n",
       "2         36.0           5400.0      North         10200.0   \n",
       "3        18.0\"           6000.0  Southeast         10200.0   \n",
       "4         42.0           9600.0      North         10400.0   \n",
       "\n",
       "                          Coordinates  \\\n",
       "0  40.577977000000, -111.595817000000   \n",
       "1  40.592619000000, -111.616099000000   \n",
       "2  40.599291000000, -111.642315000000   \n",
       "3  40.598313000000, -111.628304000000   \n",
       "4  40.578590000000, -111.595087000000   \n",
       "\n",
       "                                          Comments 1  \n",
       "0  While it was a small avalanche that was I caug...  \n",
       "1  A North facing aspect with an exposed ridge in...  \n",
       "2  Remotely triggered all the new storm snow (abo...  \n",
       "3  Impressive fast powder cloud ran in front of t...  \n",
       "4  Three of us toured from Brighton to low saddle...  "
      ]
     },
     "execution_count": 18,
     "metadata": {},
     "output_type": "execute_result"
    }
   ],
   "source": [
    "df = pd.read_csv('./avalanches_data.csv')\n",
    "df.head()"
   ]
  },
  {
   "cell_type": "markdown",
   "id": "7cc10d2b-9b1e-46f4-9769-b9a0ac0c9e8f",
   "metadata": {
    "__GENERATED_DATAFRAMES__": "{\"nodeDataframes\":{},\"graphDataframes\":null}",
    "show_aggregate_original": "false",
    "trrack_graph": "ᯡ࠽䈌ʀ匦㢠⹰ૠ㌬Ā჻R〶䁃lyٹ⁓f䍐ۢ䧪㈉◔ฅޡ䨲⠠䬱䑁棒瀱Ⴭ⭱妻ݎẜʤ䐡傠ǖ悃РኤРᜰ結üメ浪巟㈠ᣠˬ⃪$熒‣㐡㬚͇⦲༿⸂໡壡‡犀⒂ଠᎭॣ䥡⊃㡹稠嬸ූᑤඦҡ哹䑀妨䤝͕䀺慽䈩瞤∡㼚ƶ嵖᯦悡檩ǣ᪀畖o#䖊⠃ܑ璌⃥⹾䞌᧒Т⺈ᆡ⇳㴑䒤㒌ŭ᯸丈◡戱⃰潅Ԧ秐噑๦磜疶溂⒀ᒪ扖⋦ူⶃ㧄మྡྷშ⨭རㅸ瘭ǅ爘䅐䘆砠址䑂㥨㈼㹯䕈䓵ᒹ憴婊③ᤠ "
   },
   "source": [
    "# Task 1: Refining Columns and Preparing Data\n",
    "\n",
    "In the first task we will perform some basic data cleaning operations to get our dataset ready for further tasks."
   ]
  },
  {
   "cell_type": "markdown",
   "id": "8934b219-dd97-4e3e-9aa9-0dd7a9d62ad5",
   "metadata": {
    "__GENERATED_DATAFRAMES__": "{\"nodeDataframes\":{},\"graphDataframes\":null}",
    "show_aggregate_original": "false",
    "trrack_graph": "ᯡ࠽䈌ʀ匦㢠⹰ૠ㬠氤〥䌸瀶䀹䁣๲ৠܦᔨҀᣴ䂼䋃‣ᓆ做►䀳ല⠠䭈⑁槑瀱ᝉ⍮冫㭮ẜʦ䒠ǁ#㕀挸晠ኤРᝣၐüムṁǟ㤉䀥䉸攠ʓ㥀ǔÚ⎃஥䤫䒄攭ᇸ惀Ēいᘦᖠೣ䗫⃂変ⱦ{ఽ咼∪⌤䋵汄ჹ䑈冣ᛠඉⵆܔ⍂Þ⍡歹ম悩溩Ǡ媁疖o#䖓瀃ʅ璌⁅溮杲◒Ъ⍁䔶户ࣉⓢ削౐䘰䵥䌂んḸئԢ灐糕൤㧶ⶬ䲱䅲ᗈ撯ౠ惍䈅䥐属ѣ၈⩍སヸ๗௧焤ᄸ䒰Ž䅰䔉燩壥༲刳樲⭮✈咰ᒄ  "
   },
   "source": [
    "### **Task 1a: Remove Columns**"
   ]
  },
  {
   "cell_type": "markdown",
   "id": "47b531d4-2e3a-4e9a-b92a-39aebfc3deb6",
   "metadata": {
    "__GENERATED_DATAFRAMES__": "{\"nodeDataframes\":{},\"graphDataframes\":null}",
    "show_aggregate_original": "false",
    "trrack_graph": "ᯡ࠽䈌ʀ匦㢠⹰ૠ㬠氤〥䌸瀶䀹䁣๲ৠܦᔨҀᣴ䂼䋃‣ᓆ做►䀳ല⠠䭈⑁槑瀱ᝉ⍮冫㭮ẜʦ䒠ǁ#㕀挸晠ኤРᝣၐüムṁǟ㤉䀥䉸攠ʓ㥀ǔÚ⎃஥䤫䒄攭ᇸ惀Ēいᘦᖠೣ䗫⃂変ⱦ{ఽ咼∪⌤䋵汄ჹ䑈冣ᛠඉⵆܔ⍂Þ⍡歹ম悩溩Ǡ媁疖o#䖓瀃ʅ璌⁅溮杲◒Ъ⍁䔶户ࣉⓢ削౐䘰䵥䌂んḸئԢ灐糕൤㧶ⶬ䲱䅲ᗈ撯ౠ惍䈅䥐属ѣ၈⩍སヸ๗௧焤ᄸ䒰Ž䅰䔉燩壥༲刳樲⭮✈咰ᒄ  "
   },
   "source": [
    "Remove the following columns to streamline the dataset for further analysis:\n",
    "\n",
    "- **_Comments 1:_** Contains textual comments not crucial for quantitative analysis.\n",
    "- **_Coordinates:_** Detailed location data not needed for the current scope of analysis."
   ]
  },
  {
   "cell_type": "markdown",
   "id": "aec9ad2a-ab09-4288-b8fa-2852bcddda1a",
   "metadata": {},
   "source": [
    "#### **Instructions**\n",
    "1. **Column Removal:**\n",
    "\t- Use the interactive table feature in PersIst to remove the specified columns.\n",
    "3. **Verify the Output:**\n",
    "\t- Print the head of the generated dataframe to verify the changes."
   ]
  },
  {
   "cell_type": "code",
   "execution_count": 19,
   "id": "8e333ff3-cb24-430b-a332-733b41570ba4",
   "metadata": {
    "__GENERATED_DATAFRAMES__": "ᯡࠩ䃬࿀ᜤᠹ悋ᐨ推̅ሣ䧠ⶠ卍捯ᥔᠣ℠▢dʘϔᝠ捌〤瀵摠៨⠠ ",
    "__has_persist_output": true,
    "editable": true,
    "slideshow": {
     "slide_type": ""
    },
    "tags": [],
    "trrack_graph": "ᯡ࠽䈌ʀ匦㢠⹰ಀ✦րᦠ♬׆涪䈡〡拀娢ᣪ䂎­㠮抭洡壹ⅻተ¶⡨⇱㈄ᙊ⁲媽͆嘼嶛稨ǁ#〨㚃௜′䈤7࠽ᠠ湐懎Ⴇ᫓ㅀ˸㝴G⎲;∫⚀Ƹ懣竼&Ĭέயᜮ㎐ࡈや䊎ԩ᦭̭䜆㋲桠Úᵽ㷑䤶Ꮒ䀯橸惀Ēいⴻᙖ᯦旧厒烨㨠嬸◞䡤࿆ҡ乻с嶨ℊ䡓ˠඁῳ笏͊Þᵣ䬔┲悡嫻䍌愇ᘠ传ϓ日ਃť濜ႁৡ燹稳ᤢʩ扬ʦ⎤瑸⚡扐撔䔠⋑㠪ࢢ䏔汒Ԩ㎀琯ฉ箩䵤䷂ʼ璽౉୤焤䥂䯣楬孋䰄⡢壊⮴玈◨敤㆘兌䫅᳌䝀∄Ղ䓆⡴㕣Ể瀠⊞н瀠ࡰࡎ䀥㡬悝‬ბ籰さ垠㲕ࡅ树甠㺱媏ᨰ⛗䰀׶Ⴔŧ榈㱿a⁩汜䘷楒屖̠ᅘ泞䙦熈塘♂淾䏃䴀䡐㐮ྡྷၨ爵Ϊ⤸ᙛৡ焘ħ䕨㭚痏⿴ฐ㲺ۤ䷆姄გ⵺喰㗑汀緁沗差禿䖗梎㯆揃䅤ᠠ੎੥毙䨡¼㨳Ⱒ㲼䯧䇲碜弰Ùㄝℐ㡊ȋ戠帀㈂ẇ樃䐠཮▾຦խ␆痾⟌㓭ᠠ䇮⠎租ఫ糷㠴絺ဲ熠瑁ϡৈ綂ᩬ惀㘩擫⸮撳⌠᳀⌢䀦☩䃨⸢䃨㺫䇢ⵅ偰碯儸䀳䉠埀䎝ࠩΨ灢ǍЫ㘍᭠䃮ᛣ礞DҼ⦥ॉ⦎Ⲅᖏႋയ∋⪤汔⮄嶊Ρֈጂೣҁ䗃ᨫ೨㲈䶳⪆懳⚍䳂ᢩѥࠤ珣఩೼䞵版ኂ䳳ᜰઓ᢮咬тỈ㘀秅㑀ӥᢼᰯ哵ࠬ疫షϝ∶渝㾨਎ຠⴣㆆᖹⓆ撅٧ᒙዀᕵᮂ棺➃椚æ悦ᱦ䅦ᄃᤆᤅぇ᫦㷖Ỡ㢮㘁㡷キ㦎⫽嶀㼈㸖摅㲺䠡㷮曣㲾㸁⑼㐊紨䑄ࠤ䮣紟ᘸˤ湸䎠汦糀碭㔪冂⩊㈲ß߾䋞䢹㆐䠯䍲咴⌿㘫ӱథ䢨㡩䃰㲩䂤晅Őᬤ戔ᩡ⃰ᐭ䑘悪㣴濯礡ぉゔ漽稔璩ⴄʫⳬ䪨淴ஈ暊ᵡ֐㵂ƕ㮭曄֋ᇋ⊤ᘻ᪬浔ᮂ㔜⭾ᇢ䮵ಃ᲌怳ᱳ猲䚅䱲浄  "
   },
   "outputs": [
    {
     "data": {
      "application/vnd.jupyter.widget-view+json": {
       "model_id": "bcb32632bee14975abe68740fe2c857a",
       "version_major": 2,
       "version_minor": 0
      },
      "text/plain": [
       "PersistWidget(data_values=[{'__id_column': '1', ';Region': 'Salt Lake', 'Month': 11, 'Day': 9, 'Year': 2012, '…"
      ]
     },
     "execution_count": 19,
     "metadata": {},
     "output_type": "execute_result"
    }
   ],
   "source": [
    "PR.PersistTable(df, df_name=\"df_task_1a\")"
   ]
  },
  {
   "cell_type": "code",
   "execution_count": 20,
   "id": "bbf8e25e-d5fd-44cf-817d-5674df14863c",
   "metadata": {},
   "outputs": [
    {
     "data": {
      "text/html": [
       "<div>\n",
       "<style scoped>\n",
       "    .dataframe tbody tr th:only-of-type {\n",
       "        vertical-align: middle;\n",
       "    }\n",
       "\n",
       "    .dataframe tbody tr th {\n",
       "        vertical-align: top;\n",
       "    }\n",
       "\n",
       "    .dataframe thead th {\n",
       "        text-align: right;\n",
       "    }\n",
       "</style>\n",
       "<table border=\"1\" class=\"dataframe\">\n",
       "  <thead>\n",
       "    <tr style=\"text-align: right;\">\n",
       "      <th></th>\n",
       "      <th>;Region</th>\n",
       "      <th>Month</th>\n",
       "      <th>Day</th>\n",
       "      <th>Year</th>\n",
       "      <th>;Trigger</th>\n",
       "      <th>;Weak Layer</th>\n",
       "      <th>Depth_inches</th>\n",
       "      <th>Vertical_inches</th>\n",
       "      <th>;Aspect</th>\n",
       "      <th>Elevation_feet</th>\n",
       "      <th>Coordinates</th>\n",
       "      <th>Comments 1</th>\n",
       "    </tr>\n",
       "  </thead>\n",
       "  <tbody>\n",
       "    <tr>\n",
       "      <th>0</th>\n",
       "      <td>Salt Lake</td>\n",
       "      <td>11</td>\n",
       "      <td>9</td>\n",
       "      <td>2012</td>\n",
       "      <td>Snowboarder</td>\n",
       "      <td>New Snow/Old Snow Interface</td>\n",
       "      <td>14.0</td>\n",
       "      <td>360.0</td>\n",
       "      <td>North</td>\n",
       "      <td>10400.0</td>\n",
       "      <td>40.577977000000, -111.595817000000</td>\n",
       "      <td>While it was a small avalanche that was I caug...</td>\n",
       "    </tr>\n",
       "    <tr>\n",
       "      <th>1</th>\n",
       "      <td>Salt Lake</td>\n",
       "      <td>11</td>\n",
       "      <td>11</td>\n",
       "      <td>2012</td>\n",
       "      <td>Skier</td>\n",
       "      <td>New Snow/Old Snow Interface</td>\n",
       "      <td>30.0</td>\n",
       "      <td>1200.0</td>\n",
       "      <td>North</td>\n",
       "      <td>9700.0</td>\n",
       "      <td>40.592619000000, -111.616099000000</td>\n",
       "      <td>A North facing aspect with an exposed ridge in...</td>\n",
       "    </tr>\n",
       "    <tr>\n",
       "      <th>2</th>\n",
       "      <td>Salt Lake</td>\n",
       "      <td>11</td>\n",
       "      <td>11</td>\n",
       "      <td>2012</td>\n",
       "      <td>Skier</td>\n",
       "      <td>Facets</td>\n",
       "      <td>36.0</td>\n",
       "      <td>5400.0</td>\n",
       "      <td>North</td>\n",
       "      <td>10200.0</td>\n",
       "      <td>40.599291000000, -111.642315000000</td>\n",
       "      <td>Remotely triggered all the new storm snow (abo...</td>\n",
       "    </tr>\n",
       "    <tr>\n",
       "      <th>3</th>\n",
       "      <td>Salt Lake</td>\n",
       "      <td>11</td>\n",
       "      <td>11</td>\n",
       "      <td>2012</td>\n",
       "      <td>Skier</td>\n",
       "      <td>New Snow</td>\n",
       "      <td>18.0\"</td>\n",
       "      <td>6000.0</td>\n",
       "      <td>Southeast</td>\n",
       "      <td>10200.0</td>\n",
       "      <td>40.598313000000, -111.628304000000</td>\n",
       "      <td>Impressive fast powder cloud ran in front of t...</td>\n",
       "    </tr>\n",
       "    <tr>\n",
       "      <th>4</th>\n",
       "      <td>Salt Lake</td>\n",
       "      <td>11</td>\n",
       "      <td>11</td>\n",
       "      <td>2012</td>\n",
       "      <td>Skier</td>\n",
       "      <td>Facets</td>\n",
       "      <td>42.0</td>\n",
       "      <td>9600.0</td>\n",
       "      <td>North</td>\n",
       "      <td>10400.0</td>\n",
       "      <td>40.578590000000, -111.595087000000</td>\n",
       "      <td>Three of us toured from Brighton to low saddle...</td>\n",
       "    </tr>\n",
       "  </tbody>\n",
       "</table>\n",
       "</div>"
      ],
      "text/plain": [
       "     ;Region  Month  Day  Year     ;Trigger                  ;Weak Layer  \\\n",
       "0  Salt Lake     11    9  2012  Snowboarder  New Snow/Old Snow Interface   \n",
       "1  Salt Lake     11   11  2012        Skier  New Snow/Old Snow Interface   \n",
       "2  Salt Lake     11   11  2012        Skier                       Facets   \n",
       "3  Salt Lake     11   11  2012        Skier                     New Snow   \n",
       "4  Salt Lake     11   11  2012        Skier                       Facets   \n",
       "\n",
       "  Depth_inches  Vertical_inches    ;Aspect  Elevation_feet  \\\n",
       "0         14.0            360.0      North         10400.0   \n",
       "1         30.0           1200.0      North          9700.0   \n",
       "2         36.0           5400.0      North         10200.0   \n",
       "3        18.0\"           6000.0  Southeast         10200.0   \n",
       "4         42.0           9600.0      North         10400.0   \n",
       "\n",
       "                          Coordinates  \\\n",
       "0  40.577977000000, -111.595817000000   \n",
       "1  40.592619000000, -111.616099000000   \n",
       "2  40.599291000000, -111.642315000000   \n",
       "3  40.598313000000, -111.628304000000   \n",
       "4  40.578590000000, -111.595087000000   \n",
       "\n",
       "                                          Comments 1  \n",
       "0  While it was a small avalanche that was I caug...  \n",
       "1  A North facing aspect with an exposed ridge in...  \n",
       "2  Remotely triggered all the new storm snow (abo...  \n",
       "3  Impressive fast powder cloud ran in front of t...  \n",
       "4  Three of us toured from Brighton to low saddle...  "
      ]
     },
     "execution_count": 20,
     "metadata": {},
     "output_type": "execute_result"
    }
   ],
   "source": [
    "df_task_1a.head()"
   ]
  },
  {
   "cell_type": "markdown",
   "id": "36c62d50-9c88-4ed9-8c97-e552a6e4c620",
   "metadata": {},
   "source": [
    "### **Task 1b: Fix Column Names**"
   ]
  },
  {
   "cell_type": "markdown",
   "id": "ab8f8f24-afd2-424f-ab34-3e3cde723aa3",
   "metadata": {
    "trrack_graph": "ᯡ࠽䈌ʀ匦㢠⹰ࢀㆪこ<ǐʀ୥崡汤Ɓ䔠⍂⠨撂䂼ì债晶堪慯掩ᐠ▴ሰ璹㤨䮲减ⓥ䢧᜾㺣䉠ð䀡壅冨㕀ॢȠ௞䠸ᢀ眰䅽忖䀢晐樠Ԃ牠ΈƔڦ❓ሠƠ暬ॡ声Ȅ恨䙜⬮ಬ俨⫣䞐డ㙐᬴⣔䰲ճ㌰䊆၂۔欠㖹┰᧶༨̘ඛฌ琻ɋ㉄ܠ榡哸Ŝ.ؗ⾬ള勑̵㯺ᱱ曨ဩᒡᾪ३⁂惡৒ј⪖ᩋࢶ䥣䍢ᇃ⢀☾ԣ䖎㑝䳓ⳄⓀ᪱ĦҐ戤׌㝔䆦成扉ڠ凈㨣ೣㅘ湏Bࡤ䒠ଈତޗ٩䟨㣜㥨◈ᩲ㭡⟢䀠 "
   },
   "source": [
    "It looks like something went wrong when reading the file and some column headers start with a `;`. **Please remove the semicolon from all headers**. "
   ]
  },
  {
   "cell_type": "markdown",
   "id": "63f4d5c5-9383-4857-beae-0cfa6ba466f2",
   "metadata": {},
   "source": [
    "#### **Instructions**\n",
    "1. **Rename Columns:**\n",
    "    - Use the interactive  table in Persist to correct the column names by removing the leading `;` from their names:\n",
    "        - _;Aspect_ → _Aspect_\n",
    "        - _;Region_ → _Region_\n",
    "        - _;Trigger_ → _Trigger_\n",
    "        - _;Weak Layer_ → _Weak Layer_\n",
    "2. **Verify the Output:**\n",
    "\t- Print the head of the generated dataframe to verify the changes."
   ]
  },
  {
   "cell_type": "code",
   "execution_count": 21,
   "id": "e74dd265-2437-40e4-8673-be7ea1d079b3",
   "metadata": {
    "__GENERATED_DATAFRAMES__": "ᯡࠩ䃬࿀ᜤᠹ悋ᐨ怱䐢犲ǩ怶恉宑召䵬ð䀲悠ᄡḡ沯偑嬸Ř˛ࠥ笪  ",
    "__has_persist_output": true,
    "trrack_graph": "ᯡ࠽䈌ʀ匦㢠⹱‮Ǹʀრ㘸Ҁୠᣠ⭆咨ˣ&㩧㛝㙦ㅆ⨮哠᧖㙬ⓀŌ傰䇂揨⩢䫍͆ᚌ᳘簔ะ͢&涠ࣦᾄ䁅ШNႚ〡岁䋼℩㎎搩+⤝⠠Ꮣ䤠ෂɑኃ⡨¼⡒ᄿ੗ͧ杢勂祳夔沔ड᪷ҋะ̉瘕ໆ⑚ẩᡛඃʠϩ䂰Ԉ㩚⹚ଷ䵫෣栢沁囸ᄰ㘸ሪ㶊Ⴄ療䍊ᅶᤖ။㘾⠥稉皶Ʉ欤᫦渱㌣Ốʘ<ྎ弸श昂ੂ猐᳸ᦹģ䒲ᤵہ磑Ĳੂ挈ᐪǁ೘न䉒ゴᄠڄ烀琬ⲅ掁⽓朔䤺ᡓℒḉ㵄ⴳ䐲⒪⚰撨Ⳇγ搪⊩♱䷡㜳ጷ䔲撯ᇬ旒☿ᡶᕪ崡䲅哼獓䶠䰠Ȳȯ倡⺃ᠧ⠣㠠ᕠ呠θ浐⁧⻐⁚嗖濖ɾൠஓʀ㛆#瘕⍩嘅稜₨⛑Ƃ壕Ѱᆂ౷஥抈屰䗫瓸屿஭拀䩅ඣ焘ဦ挓涼圴䆡成扙Ϊ⤸晋໤燘ಶ䑇ںᛛ⫖疚纶ର冑冨Œ䲆㦢泶⵶痃ᷕ渖䎩歔׮汅涕⹠㡘䌠Ť族䬃ᥠၣ佨㖡㟍潧㫳ཷ市ŷ噿ြ֤倢Ü䤸ნ䌳䆘ῧ扨>䅨ṝЩ൏栈΀悋൮䊑°ᰈ悐Ὶᄏ泰惗ଧ䅄ᰪ൏殡桬ݢ㠸ߡࢎ䔢劁䳡ᠩ撀ᅈଲ偈ɡಊҁ硚๸炰ద⒌಩⃲ᜥ傩䀣Ր䧀ƅ堨ૂ⡬擕嚽傕ሻ剓ờჹὗ昙罕䓵斻䚰඼䚍੝΍⩇ヰ㶠䐍寕⊐₡ۼ熢ね䦱խ槕ӭᡖ㗡㧞㑍䗊Ռ๸䂰湈ⱬᅴ⣬姗j碲⩍㱊⭌幁䅐⃛䋵㪨㋣暠ݱ剻ݰR氩灚❥棕氭嚕滓毸✧梠效ᡕメ刘¯榤⤪Ů㊹䔰⠷ႂ樣㙄ⲻɄ丨憰琰墩屷䁶㴪娚嫬⣒䥽䭢乻䬒㨿ቊ䅥⭲婨㦔ắ倬屾䜂㈺㫮榴ࡎᬩ㣌篳だᶯ〼ᮻ㦼儢獾᮵窾௯䅾殥ǾⲄɞ查ໞ箣穲㜧稞嵐ݩ㱂㓠ㆢŘ՚憱ံ٭㕔ᦠⵅ狡͝欹⥆◘㥂ⅽ䕜䜓畀⾉憟嘭⻘有ᩒ⃋ໍ⾹ᴷڡɂܱ桎ٱ္ڋ㜺䎂⌡䋢⹢㩐樬䆰幌嗐擮䍂㮌䇀吠䂠⎲攘⾧爜᜾晨❖⅖Ԧ䏙ᔣ寈滷䌙愿擴ၳΎ摥㚀㗃㖜ᨧ㖒哀瓠⏄畠㏂皢ᅩ㠇䌓㒷緌巗䏘皽ᣂ畴㕦嚊罾呋獠ȩ恗䦒窽⹞⟻੔正㑝⚥㸹曈拘䁀㚨䡚`冔ٻ⠺ඪቃྲᑇ宨ࢃ٠䢆ঔ䢻奃㌐劺偔澵拢墴୲剸⪣‮⭠瑟唼䂃恳乑ጢൠ਺ᙒ燣ᆧ⹄㆜ᷧ尧䜬➶Ƒ弸漱᤾⥐ᄃ䃆矪Ш⥁㓦؉䶀ෞ૓㭑䭮㉲㫃斥˹⵺䝻ڰ㰋⍕䦙ኁ⺃曌ợᩩⳭᚙ⽟爉ᮦ䣫䐁㨼暤⤥䉌淅䋻⢷牑☢ᘲ͠∮䃘Ѱ㐤䅙ᓁ兆჻㨗ᢳٌℂກ掅ᇹ䗃廒揜䃖⊗㙕̌䴮亜ႀ姩Ƒᮓ㟚ሏȒἳ瓠㐁㹔֜㟨瘏媣Ն⦏ᴡ潈䩑ᢳ㚑ᦨग़䂲㜚劅Ⱇ֥ポℾ㍩呖䳙叮匰↛䛄梁㽓⽨恺抍㪫椅䭷Ŷ䖩ஶ檷Ự坊眎珅章ᰕࠤ㠡䔉愩檀㐫乨㞸梄壐汭䡁౗᤻噊ᬎ㩗湬㉜氾㲷䦣€䴨⨓࢖燞ୢ协拁夰昲泬ౄ涅宻旟᪐咨伹༶⚅ᘼ扂Ã䍄⧆憦妞ᱎ憞ଙが㚰凃㉊池ᩂ䆡âᴢ᣼ڤጋࡌ⢩䌨䃧ਡጩŢ⹁孧ය朱ຖ✃๣挻௥峒䌘垵❾惮⪢নൠಢ㓌ᛐ掷ᛙʕ狯ᅮ½儁䢉Ĺ糼Ɇ矞笄弦ᾜ侩乬⨉ඝ╁粮ࠠ "
   },
   "outputs": [
    {
     "data": {
      "application/vnd.jupyter.widget-view+json": {
       "model_id": "367ca5ffb4714b8795db41e6fbf10312",
       "version_major": 2,
       "version_minor": 0
      },
      "text/plain": [
       "PersistWidget(data_values=[{'__id_column': '1', ';Region': 'Salt Lake', 'Month': 11, 'Day': 9, 'Year': 2012, '…"
      ]
     },
     "execution_count": 21,
     "metadata": {},
     "output_type": "execute_result"
    }
   ],
   "source": [
    "PR.PersistTable(df_task_1a, df_name=\"df_task_1b\")"
   ]
  },
  {
   "cell_type": "code",
   "execution_count": 22,
   "id": "e8b0e353-4108-4ecf-a6e3-0deb4f140f08",
   "metadata": {},
   "outputs": [
    {
     "data": {
      "text/html": [
       "<div>\n",
       "<style scoped>\n",
       "    .dataframe tbody tr th:only-of-type {\n",
       "        vertical-align: middle;\n",
       "    }\n",
       "\n",
       "    .dataframe tbody tr th {\n",
       "        vertical-align: top;\n",
       "    }\n",
       "\n",
       "    .dataframe thead th {\n",
       "        text-align: right;\n",
       "    }\n",
       "</style>\n",
       "<table border=\"1\" class=\"dataframe\">\n",
       "  <thead>\n",
       "    <tr style=\"text-align: right;\">\n",
       "      <th></th>\n",
       "      <th>Region</th>\n",
       "      <th>Month</th>\n",
       "      <th>Day</th>\n",
       "      <th>Year</th>\n",
       "      <th>Trigger</th>\n",
       "      <th>Weak Layer</th>\n",
       "      <th>Depth_inches</th>\n",
       "      <th>Vertical_inches</th>\n",
       "      <th>Aspect</th>\n",
       "      <th>Elevation_feet</th>\n",
       "    </tr>\n",
       "  </thead>\n",
       "  <tbody>\n",
       "    <tr>\n",
       "      <th>0</th>\n",
       "      <td>Salt Lake</td>\n",
       "      <td>11</td>\n",
       "      <td>9</td>\n",
       "      <td>2012</td>\n",
       "      <td>Snowboarder</td>\n",
       "      <td>New Snow/Old Snow Interface</td>\n",
       "      <td>14.0</td>\n",
       "      <td>360.0</td>\n",
       "      <td>North</td>\n",
       "      <td>10400.0</td>\n",
       "    </tr>\n",
       "    <tr>\n",
       "      <th>1</th>\n",
       "      <td>Salt Lake</td>\n",
       "      <td>11</td>\n",
       "      <td>11</td>\n",
       "      <td>2012</td>\n",
       "      <td>Skier</td>\n",
       "      <td>New Snow/Old Snow Interface</td>\n",
       "      <td>30.0</td>\n",
       "      <td>1200.0</td>\n",
       "      <td>North</td>\n",
       "      <td>9700.0</td>\n",
       "    </tr>\n",
       "    <tr>\n",
       "      <th>2</th>\n",
       "      <td>Salt Lake</td>\n",
       "      <td>11</td>\n",
       "      <td>11</td>\n",
       "      <td>2012</td>\n",
       "      <td>Skier</td>\n",
       "      <td>Facets</td>\n",
       "      <td>36.0</td>\n",
       "      <td>5400.0</td>\n",
       "      <td>North</td>\n",
       "      <td>10200.0</td>\n",
       "    </tr>\n",
       "    <tr>\n",
       "      <th>3</th>\n",
       "      <td>Salt Lake</td>\n",
       "      <td>11</td>\n",
       "      <td>11</td>\n",
       "      <td>2012</td>\n",
       "      <td>Skier</td>\n",
       "      <td>New Snow</td>\n",
       "      <td>18.0\"</td>\n",
       "      <td>6000.0</td>\n",
       "      <td>Southeast</td>\n",
       "      <td>10200.0</td>\n",
       "    </tr>\n",
       "    <tr>\n",
       "      <th>4</th>\n",
       "      <td>Salt Lake</td>\n",
       "      <td>11</td>\n",
       "      <td>11</td>\n",
       "      <td>2012</td>\n",
       "      <td>Skier</td>\n",
       "      <td>Facets</td>\n",
       "      <td>42.0</td>\n",
       "      <td>9600.0</td>\n",
       "      <td>North</td>\n",
       "      <td>10400.0</td>\n",
       "    </tr>\n",
       "  </tbody>\n",
       "</table>\n",
       "</div>"
      ],
      "text/plain": [
       "      Region  Month  Day  Year      Trigger                   Weak Layer  \\\n",
       "0  Salt Lake     11    9  2012  Snowboarder  New Snow/Old Snow Interface   \n",
       "1  Salt Lake     11   11  2012        Skier  New Snow/Old Snow Interface   \n",
       "2  Salt Lake     11   11  2012        Skier                       Facets   \n",
       "3  Salt Lake     11   11  2012        Skier                     New Snow   \n",
       "4  Salt Lake     11   11  2012        Skier                       Facets   \n",
       "\n",
       "  Depth_inches  Vertical_inches     Aspect  Elevation_feet  \n",
       "0         14.0            360.0      North         10400.0  \n",
       "1         30.0           1200.0      North          9700.0  \n",
       "2         36.0           5400.0      North         10200.0  \n",
       "3        18.0\"           6000.0  Southeast         10200.0  \n",
       "4         42.0           9600.0      North         10400.0  "
      ]
     },
     "execution_count": 22,
     "metadata": {},
     "output_type": "execute_result"
    }
   ],
   "source": [
    "df_task_1b.head()"
   ]
  },
  {
   "cell_type": "markdown",
   "id": "3875e7fc-ec40-4241-aa94-87b31e59944f",
   "metadata": {},
   "source": [
    "## **Task 1c: Correcting Data Type of 'Depth_inches'**"
   ]
  },
  {
   "cell_type": "markdown",
   "id": "7a7eebda-1b60-4bff-89d3-a5548a601b49",
   "metadata": {},
   "source": [
    "There is a data type issue in the `Depth_inches` column of our dataframe. This column is incorrectly formatted as an object (string) due to the presence of the inches symbol `\"`.\n",
    "\n",
    "Remove any inches symbols `\"` from the `Depth_inches` column and convert it to a float data type."
   ]
  },
  {
   "cell_type": "code",
   "execution_count": 23,
   "id": "fb9bff61-9a8d-4114-97f3-4f6d0cd0e61e",
   "metadata": {},
   "outputs": [
    {
     "data": {
      "text/plain": [
       "Region             string[python]\n",
       "Month                       Int64\n",
       "Day                         Int64\n",
       "Year                        Int64\n",
       "Trigger            string[python]\n",
       "Weak Layer         string[python]\n",
       "Depth_inches       string[python]\n",
       "Vertical_inches           Float64\n",
       "Aspect             string[python]\n",
       "Elevation_feet            Float64\n",
       "dtype: object"
      ]
     },
     "execution_count": 23,
     "metadata": {},
     "output_type": "execute_result"
    }
   ],
   "source": [
    "df_task_1b.dtypes"
   ]
  },
  {
   "cell_type": "markdown",
   "id": "b23913ac-ea3c-4ca1-8ac3-07d3026ca76e",
   "metadata": {
    "__GENERATED_DATAFRAMES__": "{\"nodeDataframes\":{},\"graphDataframes\":null}",
    "show_aggregate_original": "false",
    "trrack_graph": "ᯡ࠽䈌ʀ匦㢠⹰ೠ↺΀Ơ瘢ᠢᠫ‵䁇ፉ䐢怣侽振ၑ䶃᪰঵䂆⹉多䪲┠অҤᴶṂ㊵嘊᭓ㄅ毠㒰䣑Tဠ㚉҃೨ɰ䂠̂҆;䘸Ϥၗ眼䋐Ð䬹†于␠㚠ᝨ沂烒⎁൸憈㬸ᐠṬү䓧Ⴠ椓ᣘ⌚ᆠᛦކ䜱ǁ䅀㖖नຂᩈ桫〦塵偢㶱⢠⾱䂅埦䖃塀㪂ₐ暸ᵽ䀳怠煼砤慸㴻ࠩ㯏姭ঌ䄢䣫䧙㱈刱ㄿᬦ䩫⏃㌱楫磤ⰴຣα晼ਫ䎁㺕䮃Ⴤご䖂᥂挰ы゙㈬ܠ₰ᑊІ僑汮ޯ戩䉱៪怡⹁ᡤ甑擸抯॰ᡬᅓ╄璚╄㈠ "
   },
   "source": [
    "#### **Instructions**\n",
    "1. **Identify Entries with Inches Symbol:**\n",
    "    - Use the interactive table in Persist to look for rows with `\"` in `Depth_inches` column\n",
    "    - _Hint_: You can search in the interactive table\n",
    "2. **Edit and Correct Entries:**\n",
    "    - Edit the cells to remove the inches symbol from these entries. (e.g. `15\"` → `15`)\n",
    "3. **Convert Data Type:**\n",
    "    - Change the data type of the `Depth_inches` column from string to float.\n",
    "3. **Verify the Output:**\n",
    "\t- Print the head of the generated dataframe to verify the changes."
   ]
  },
  {
   "cell_type": "code",
   "execution_count": 24,
   "id": "7cb9b796-3aa5-4181-bf91-fa8ba7e33c20",
   "metadata": {
    "__GENERATED_DATAFRAMES__": "ᯡࠩ䃬࿀ᜤᠹ悋ᐨ恑䐢犲ǩ怶恉宑召䵬ð䀲悠ᄡḡ沯妶ᠢ㠪癀ఄᐠ ",
    "__has_persist_output": true,
    "trrack_graph": "ᯡ࠽䈌ʀ匦㢠⹰࣠㌡䘠〽䁣డ堥僀࣠⬦戡〡慺帢㠢㍜⽶病Sℴ੐壱አӒ䉢ົἱ⥪欕൙墒爏桘㑨:ࠠ᭜㉑䚄ň⁠Ɣᤣ-挬Ȃ࠻箮ᠠⱅ䙰G᮲;∡䐂䇱⁑䰼㹜ੋᚥڌ⏄ᆁ剱䱂䉜Ṝ✮䫢%椻౼ᙨⱃو⼮挥'䦡ၰ㡸Ɫฮര䶳▂ᠢ沀皘焰Ḹሶ㞁Ⴆ癃䏊₄嬠㗄漸៑ೈ̙ಯ⯩౛Ɇ箎˓޻堢㰠๏侟దྃ炠┎⎹揢⳨ࠪ↰⢔യ䚁Ҕㄹ䇡⁰⴬䑃⢄⬻䙂ㄍฦ䃡䲈≑枙㹒㍦ֈ庇⍉冩戩ብ፨根ᤫᇩ爥ø啋䬓㑇熇抩ㄹᕫ効㙷ᕀեॣ͈⩕ᦾ唐Êྴཪ䀠ȬȬ〡⺳ᠨ栣䠠ᄸЇ㈘し玠洦ᇊ†㲭ᨱ垀䆍ᐽ#冀㛧ໂڙ洩໢璀ᙫীथℭ剂䅡㥜ܦཪ㢁ᚧ佰㱚༫⊭琸ᖯ਱䱑ᮁ礼港ᙩ䌀вᲥ⋰ెͩ掑㰡ࡢᆨ䴶䷉梍㶞傌⚩栴ઃ᧭ქ妊槍娍垁<䜳䈁㡍䆋伫㯼孃ลრqἯ䐙漓ᐢՙആ堻窼௩珲垳玜ိ姸缴஢ࢴ`ྦ⊤ྴ惆䜪ؘᤠϱ⤷䒁䄫ℤፄ抻౫ƐჄᨀ僔ᾦ⃶䖦㲌ᴨऐ⺈⃌̠值䡸禞ສ桞䖡㉸ڢ㡸⦠梁䩁偌Ȣ⢰ࢤ搲䵁౬Ꭶ䴫█Yḭᦀ儳ွᏊ痽ᾯ4䆥≴穁䌸丷甬䜳ႈᖳ㍜⪿㎽ุ≼嬴㍜ᢉఴ盫稞⁌ԌᖣĘಧႛ⊯汴ᄎ凸⤍假Ầ၏⵪灁ਡ㶓㺈ⶱἢⲀᦅ䁋ᨥⲋ᱇∋⎌浥㒤ଓ⬠ⲫ㥺Ⲉ㦅䦊疃↋⍰汐ᎍᱬᛁѠỀ㔇৆㕍㗏㔽㏆瓠߅璝ᐯ瘈ᴤౣ්䥃㒄ㆃ➂⎳⪋灓ࡦॖ࠮ᤐԪ愘᯼⃐ᔩ⪈ᤡ䂈ੇ毤弧ኀᴬ洈⹡䃨ᕮ叻ᲅࡅ᭍ᑙ᳃搵㽈⢥᫂ᒇᵇ᳚ཬᎷഠᦦӢǆ⳯ᢗ㶧巶〃娖⇬㢠日㱄෩簾Є絿㰋㳟ဃ晠䀈ϯЌ磠畉烀䰰ఀ劽≠ⴳ㸈䚼挜紵堂欢଴犳⌽ᴽ犸䠢掖玱Ж箴垰燖坭掶剠໙焘⯵䄐㙂ደᨫ榈⥍Ⱛᐣ斸ᴧצᘣ恰ᄪ௳ῠҡ㮣ଂ偽水ᾌ儧᪢懲嚮ᶔᔅ㉬ᵡո،签篷慞矹䘞恕ơ桞ފ呓݁ᣄ筚疑竞䪀渡猤߅⮑ٛ措㇬೷ᬭ⋽剶䦾寬簭嬝ᇊ䥲⇺ై⧳ർɕ㫨媅ऎ嚁ࡠ☦䇬㌡⇤听怲㩨ⱱԢ⵨ⱵĨഡↀม䁍䜬妳妪及䫑㌕㽴噁儺⛎ᩍ➭ڰ䴰ᆑ䦪燰ԧ㼭曆淤墔櫐೤ⲯԒ妤婾㘄଱㒜堯昿侑‼⸏ᑸÐ妌〲䭨⏢ᤧᙸ⃍ᬣ摵䇻傼ᤙ⛗ㆍケ磇弒₍䫵Ɽ↩䒙奙q㥀喀咫㚦摃⡱浤⳸ⶵ壨ᨡ䂆̀ዢ䀠敡昶䀤ᤰ堭⹇㵒ޜ昨缈༼柱ᵂ䕚拜⢇⾂⠡数懯亃䏁Ꮏ→䳙်~㘕徛癀䠌繼䬜矣綃䙀羿磠+ࡎ玊Ⰸǩᄜ俣䁒┡忖▟ṯ罠ા槃႓惔婹㖍ᦙ䳆桹⟆稭畨䒣廧⫠堿㷮儚⺴Ɇ㗷ᅻ吨篍䱀ඨ栾籐ಆ劓̈́℀怬⁀櫋℞滰簵ᅬ㇊憣ࢠ段睗堎笋窭扝䷬㳘䷚⇋ͣ⾥亖䅡㐲♈઱㤧˗ᐢ榪搎⍑Ⴖ㍜瘾暴ᷭ䱆䉿ณ桰婓ᣓㄓ䒶偅戀⏣ⴾ⵽丨ѽ夻Ậ⢭㝖ᶆ儰␫竺擩㝤䶡䝛⿆᢭౨洿ᇢỌ๹䕸墶ʨƴå恌ǉ˪႖᳠≻洿咡㺮̂ਣ㲫䭘チ㈱ⲽ兠Ᏻ幣ʒ⤇㡬桨䫪挋ਙ⒠㐢祶㶆㚃礌紣泮İᔬ㨜ڒ惻煄Ӆ涆Z盪൚ƕξ痑樋ⰼ琈媛㔨 タ䉌'ᯔ̔瓵啒ළ婡两⍀å䘢ź࠙亳䅬䵂ⵋ↔㱌䱩嘡⧁㍓ȋ᡻㍼枢ⓓ३㒵⧝Ͳ奂䅟坆翃♭ⵆ₥晆↮ᤅ͠㐤ઉ弤ⅱݐ瑍Ṗチ亃㲨夐糵ૈㆥㅿ狐䜉Ŗ䚶ࡋ憦⣌㩔ᅆȢ尳宨决䤛㟝䟺攢妍⿈淿⾷ᒖ࢔溷椦⒅寻敯庍屖䭋㆘殘৶䪍ǡࡱ翸ㆢ圌⋂䃘ᔲ⇇̆ག㢺ӊ㨧梣喣捻1ᜢ绗᛹௒勠ᫍ〧㓍ޠ%⸤ࠦ݁ᯇ㍿⑾䲤ᜂ毐 劬䧋㹇⭳偄൲⮇ᡫ╳⳪⌃ॕܳࠢ䂹պ汈Ԥ粽Ӵ叮敘⻱ᙛ暸ᇻ▆咩⏎۰殕⎱෇ᔻ廁⒠  "
   },
   "outputs": [
    {
     "data": {
      "application/vnd.jupyter.widget-view+json": {
       "model_id": "ff0e9cd4ba564a04a92e77c3e130176b",
       "version_major": 2,
       "version_minor": 0
      },
      "text/plain": [
       "PersistWidget(data_values=[{'__id_column': '1', 'Region': 'Salt Lake', 'Month': 11, 'Day': 9, 'Year': 2012, 'T…"
      ]
     },
     "execution_count": 24,
     "metadata": {},
     "output_type": "execute_result"
    }
   ],
   "source": [
    "PR.PersistTable(df_task_1b, df_name=\"df_task_1c\")"
   ]
  },
  {
   "cell_type": "code",
   "execution_count": 25,
   "id": "507bcb66-a768-486f-86c5-83a66a63f187",
   "metadata": {},
   "outputs": [
    {
     "data": {
      "text/html": [
       "<div>\n",
       "<style scoped>\n",
       "    .dataframe tbody tr th:only-of-type {\n",
       "        vertical-align: middle;\n",
       "    }\n",
       "\n",
       "    .dataframe tbody tr th {\n",
       "        vertical-align: top;\n",
       "    }\n",
       "\n",
       "    .dataframe thead th {\n",
       "        text-align: right;\n",
       "    }\n",
       "</style>\n",
       "<table border=\"1\" class=\"dataframe\">\n",
       "  <thead>\n",
       "    <tr style=\"text-align: right;\">\n",
       "      <th></th>\n",
       "      <th>Region</th>\n",
       "      <th>Month</th>\n",
       "      <th>Day</th>\n",
       "      <th>Year</th>\n",
       "      <th>Trigger</th>\n",
       "      <th>Weak Layer</th>\n",
       "      <th>Depth_inches</th>\n",
       "      <th>Vertical_inches</th>\n",
       "      <th>Aspect</th>\n",
       "      <th>Elevation_feet</th>\n",
       "    </tr>\n",
       "  </thead>\n",
       "  <tbody>\n",
       "    <tr>\n",
       "      <th>0</th>\n",
       "      <td>Salt Lake</td>\n",
       "      <td>11</td>\n",
       "      <td>9</td>\n",
       "      <td>2012</td>\n",
       "      <td>Snowboarder</td>\n",
       "      <td>New Snow/Old Snow Interface</td>\n",
       "      <td>14.0</td>\n",
       "      <td>360.0</td>\n",
       "      <td>North</td>\n",
       "      <td>10400.0</td>\n",
       "    </tr>\n",
       "    <tr>\n",
       "      <th>1</th>\n",
       "      <td>Salt Lake</td>\n",
       "      <td>11</td>\n",
       "      <td>11</td>\n",
       "      <td>2012</td>\n",
       "      <td>Skier</td>\n",
       "      <td>New Snow/Old Snow Interface</td>\n",
       "      <td>30.0</td>\n",
       "      <td>1200.0</td>\n",
       "      <td>North</td>\n",
       "      <td>9700.0</td>\n",
       "    </tr>\n",
       "    <tr>\n",
       "      <th>2</th>\n",
       "      <td>Salt Lake</td>\n",
       "      <td>11</td>\n",
       "      <td>11</td>\n",
       "      <td>2012</td>\n",
       "      <td>Skier</td>\n",
       "      <td>Facets</td>\n",
       "      <td>36.0</td>\n",
       "      <td>5400.0</td>\n",
       "      <td>North</td>\n",
       "      <td>10200.0</td>\n",
       "    </tr>\n",
       "    <tr>\n",
       "      <th>3</th>\n",
       "      <td>Salt Lake</td>\n",
       "      <td>11</td>\n",
       "      <td>11</td>\n",
       "      <td>2012</td>\n",
       "      <td>Skier</td>\n",
       "      <td>New Snow</td>\n",
       "      <td>18.0</td>\n",
       "      <td>6000.0</td>\n",
       "      <td>Southeast</td>\n",
       "      <td>10200.0</td>\n",
       "    </tr>\n",
       "    <tr>\n",
       "      <th>4</th>\n",
       "      <td>Salt Lake</td>\n",
       "      <td>11</td>\n",
       "      <td>11</td>\n",
       "      <td>2012</td>\n",
       "      <td>Skier</td>\n",
       "      <td>Facets</td>\n",
       "      <td>42.0</td>\n",
       "      <td>9600.0</td>\n",
       "      <td>North</td>\n",
       "      <td>10400.0</td>\n",
       "    </tr>\n",
       "  </tbody>\n",
       "</table>\n",
       "</div>"
      ],
      "text/plain": [
       "      Region  Month  Day  Year      Trigger                   Weak Layer  \\\n",
       "0  Salt Lake     11    9  2012  Snowboarder  New Snow/Old Snow Interface   \n",
       "1  Salt Lake     11   11  2012        Skier  New Snow/Old Snow Interface   \n",
       "2  Salt Lake     11   11  2012        Skier                       Facets   \n",
       "3  Salt Lake     11   11  2012        Skier                     New Snow   \n",
       "4  Salt Lake     11   11  2012        Skier                       Facets   \n",
       "\n",
       "   Depth_inches  Vertical_inches     Aspect  Elevation_feet  \n",
       "0          14.0            360.0      North         10400.0  \n",
       "1          30.0           1200.0      North          9700.0  \n",
       "2          36.0           5400.0      North         10200.0  \n",
       "3          18.0           6000.0  Southeast         10200.0  \n",
       "4          42.0           9600.0      North         10400.0  "
      ]
     },
     "execution_count": 25,
     "metadata": {},
     "output_type": "execute_result"
    }
   ],
   "source": [
    "df_task_1c.head()"
   ]
  },
  {
   "cell_type": "markdown",
   "id": "753ed0a8-dc0b-4ac8-8afd-b554ea8f4d28",
   "metadata": {},
   "source": [
    "# Task 2: Filtering data\n",
    "\n",
    "In Task 2, we further improve our data by removing outliers and removing certain records to have more consistent data. "
   ]
  },
  {
   "cell_type": "markdown",
   "id": "7f25d8f5-98e8-4b0f-9358-ed85f77cbed8",
   "metadata": {},
   "source": [
    "## **Task 2a: Remove Outliers**"
   ]
  },
  {
   "cell_type": "markdown",
   "id": "ac53a605-2d10-4457-9625-70ce88f04f3b",
   "metadata": {},
   "source": [
    "In this task, we address data accuracy by filtering out anomalies in the elevation data. We observe some records with elevations outside the plausible range for Utah, suggesting recording errors.\n",
    "\n",
    "**Remove avalanche records with elevations below ~4,000 feet and above ~15,000 feet, which are outside the realistic range for Utah.**"
   ]
  },
  {
   "cell_type": "markdown",
   "id": "664c641e-1193-4233-8897-0161f209c86f",
   "metadata": {},
   "source": [
    "#### **Instructions**\n",
    "1. **Identify and Remove Anomalies:**\n",
    "    - Interactively select data points with elevations below ~4,000 feet or above ~15,000 feet in the Persist Scatterplot.\n",
    "    - Use Persist's interactive features to remove these anomalous records.\n",
    "2. **Verify the Output:**\n",
    "    - Print the head of the generated dataframe to verify the changes."
   ]
  },
  {
   "cell_type": "code",
   "execution_count": 26,
   "id": "73d5727a-f059-4bf3-977c-1ce0d6d92eba",
   "metadata": {
    "__GENERATED_DATAFRAMES__": "ᯡࠩ䃬࿀ᜤᠹ悋ᐤ推̅ሣ䧠ⶠ卍捯ᥔᠣ℠▢dʘϔᝠ捌〤瀵摠៨⠠ ",
    "__has_persist_output": true,
    "trrack_graph": "ᯡ࠽䈌ʀ匦㢠⹱⁣8ƀᦠ☡䰣〫⊠⬠⌹䚉䙉䐩无㭆抨ࣣდ媙䀸润ैkᑄႈ夑઴囋⽩嗛᜾㸣䍤ð䀡嫂呝ဩ™+䐡䰠㜸プࡢ⳻夨ဢ湐樠Ԍ牠Έ䄨催ᠱՇᢳ䡂敡剑⇑䐠ຜ♃ᢰ䦹䣀刲ጸⱰ屏⩆ⲵ࣡Ↄጰ⥓᰹䲔ἳᦣᾣզ搀娐榢籡ࠠᝠ梈熣ᩃ倭ˡ咋㴠Ṭҩ憇⏂ࡸ沤繬ଡ䀶挭㕣ࢢ僡თ殑Ю焴ፒÂ堣ⵎ呀⠓ӆO䃤۝硴ၭぁᾏ丢窩䠰᫠ʘ.咗䐁䄤㾶ᄧࡼ⼣䪤ⱄ⤻䙤敐凇ݪおنɴࡺ屎শᇐ䅝ۤ࡬汃ৢ祑Ე䫐ౖး჈᥂棌⼴▲哚▱攒ʱ≳ᑊ⪺᥆䦵᢬ܰ⒲ᓎ◎斒糁Ⱶᔤ狅☆ᥬ椠ೀ堲ᭈ •䔆ઋ漐ȕ紻䡐r㢹ǨỐ⁡棉倢⤔⃠ۃȥ⾁ュຳ㺘Ş椁⨔断䎀㡌毯ᦲ湘ῷ֙㺟ࡂੂٌ⠼狘㈬ܠ₱摊ڧ⁑䱖Ϊ⦈杽ᯖ娧孽很㬽ᡬ圩戌圻伆䙝侕丁禜ٿ䈠Ԣ⃤∰礷戸⸰䛾⁘ባ¦簿冞箪`偠怠坐ئ䅷沫噴⨢╼⑛Ɀ๪⥐䨠⁌ⵃɌⲀՏڤ粉#桰昸ㅀ湁洆ខҐ帶瀨儿偠⤱⍭ơ⒈湀椺ཁ⅙⸧⦍ℯ⢸ျ撒Å䄂Ԧ₳♭䈅Ậ揄⨥Äℎ壨宮⌘洽≬婆഼ᘍඃ⮪ࢳǧ兓᤭砫㰂Ⳬᠡ⷟㖋䀠ᵃH汃تⅳ⏱痃㐒Ɔ⊉悳ड㡶䧲⒞䣂恊ۙ♽ഌ槀❳᩻䛳㪇൫ڒႡ䄶⻢⁔༱⎷䟡戢抡忈ҋ䶔䃒ᇕ熬〭朌㸥灹删Đ䫸圷ᤙ␧㔡ᩥ㧥劰祾₊ණР挃⩳㡳ⰶ糦㸣Җ㥖Ɱ⚅б㌢䖡ⲣ桞㿬יюב㰷Ⱥⅉㄯ᥋槶éĄ⊤Ұ⸡硱䪭熴䳩Ä䎄Ҝ㹶簵傶ዐ糡䄘ᩥ䠳䅦仪ຓ⢫卥烋䑧⥦ẄⲼᘑ咕ǂ㑍ව瑽͆ט࿀ౣ҃ళἅ᪥㛇咭ᧅ㔍ڡ㍝ᶸ炼碅౰ᲄ䳓Ӧඎ࿰ㆡ呗ٶⰥ疑幒㓕䡓঄ᴡ朙僔ⷅ峗抐ŗ₦澄や৑㙮෕繙₍盡ܑ䷬ᩄࢄҠ儘३傘̈́撬ॅိ䃄焘ᮣ恵ᰂ๞璖搒઒⣓啠⸺ᦑፚಹⰻ䮀粛Ăᱡ㹬撤ԕ崗̑壺戩紟ံʐ㈷㺿帳㞟嘤Ǡ㿛⋐ₑ啐㰩㸦ī䪈䪫㢈⌬䎫ᑀᕀත䈼⮬ᤰ搠ᷲẨ۳ㅍㅐႮ潉『燥ㄛ㡌ᡉᭌأ擼廑儕佄ㄔ厴Ⴒ㴢ᏃĀ፧ઘ卞濌⫛怭ߵ㳬吡㫖嬋ⶳփ㝠ᝁ㜂༅困畞ᦂᷓ孽౶㥥⃾⋍㼟⹥楳ᔀ㭋喥⪿៷ჿ品狉⫔ᵵ㕾听ᚈ嫕⬐杲歨懶ᭊ婯ˌ‬㐬ᆛ屔栨宠ⵌ੺ᰰ䁋ࡕ扝㕖婤⚥䉃⴮縫嗚㐾㨤ᖔླྀ䌔ᴥ廘Ր俱ᔻ瑒₂ڀ濝矦౼აᆾ槈䅂ሲ←璉䚎ঽᎱ₇գ杚䅎㜢ᝁ͆埮ొ浬㱟氩ࡘ婈㭔Ԅ䞈熀复䄑梼ㄻ䤙䚱緎'㩩ݐ盩ⲫ䨙ᡲ䧤劵寲單⯰⛔妁๡Ӡ㚉䒌搤泭內ょ䣻᷐㭧皖氬洖܍⎸糛൧㷟㎤✧ₖ䗈ᢥ䣜஠㐦ƐᎲ㈦᪒⌡搪݀ⓤ攘঱匯◳䭪ם᢫ፗஎ䎆ຈᣒ揭ૻ惫䨡㝂ɷ⼁坞Øိ㢭溘伥嶤ⷛ潃熗ഓ㺈▤刃粣怤䁠ᠱԣ➯獡㤒粘ᅤ箣ᇫ晥⯺呀⮛ࢫۿᕳ㠪Ӡ日䄈ౠⰢ䂊ᚐՑˀ⨣氤䎈䲥éת簪凜⼲粊ᠤ䙒掑拮タ䚙攳䓻ℂ㑠ኅ᥀⸥㺕䳹㈭妕晠筎䄮⭀五䯒◫㑒Ǚ劽ဦ嶠孒ᶖ㾄ⶑ摬㗈崅Ꮥݲ椲ᛌƣ匰㯄泏▰⇓℁䳡况爳ῳ♆㍽䒑࿇孌䁡筐䆰渮奮毩栽ၨጡ䠬㥰☧䑬ǈ吠勃܉б䄎Ⓢṻ䊬ի─瓩焅ᙱ挽椠勺ࣇᏚ狪㦖湊珼È愈র෬祠᧘幕珢䞒㺎煥࿦䗿䒩羸㲑㐫熗戲刉ዤፅᴴ弋˜߫՞Κ楮窵Q煻瀂椡‪⬩Цǹ㬠璧€㱥䊁ـᠬ盆咰৽ä佧╪ᰘ疤ҥ⮰傷䛙椲䓰展ⶓ㕳䉌㘥㹈ϭ琠ⷤѺՆ䃫⽄⭵㓶嶎䞉沕悲⎄ㅦ◚䙺آ⭭ϱ䢔㇦洔斎嬈榐ဩ憣ᆄ㖽⣠◥⢰֌凨檦ܬ廫᭶␠嵴͒䣉း᱀ਥ⎢ɡ㗛䆨ೖХˮ懮悆⪍唌ᴎ洋⻇㍭⏵๵喼䷋笋䷙匆ᴠ兼㮺嶴䡛擜畗౎⼗䕽ߩ滯䱪㷵੠䊚㆞瓅幋㜳棽㨄䌈䦛癆稱弖㻞૩確㺧ࠦ✺܀揂㙌囤槠⡥৐囈紺⽋曟▦ⵣ涁竚狎⢁硕稔彚⿑䨺煰殩䪕❦玘⿛ࣕ憵㻗ಈ兲怤ྠ粰⅘ᛰ☦⏴⸠ばࣉ縨Ǖ垐ங䍆抩⁘䌤᱁⺮ஐࠩ˖Ջ䣯拱幷ʂ嗁亐䓢ぎᢳ䐑᭐㫑Őᘑ㓮䵠ẽ怣ᩓፘ㳴Ɔ嚀禤໯ᤆ䲪籜␄㵍捗斈纇Ȳ柌笾爰仔䠦ۘ┭ℳ樱墹㤬┭嬠ม拦家⣑䳌磯㜝ᢘព㈴纇厚姉待箜۠吤㢇ኰᝇ䃈瓁禚ȕὄぴ܃➇欔䕀ຕ宓☣玓Ꮡ冹刎ᯃ䲫⸜ヺ䷟朰偌❨ᚺ嗱怨庥䯧Գ悫熃㫁ஔ勦ᘎ癈方ɝ⡅ṙ㩪௠噉㪫⥷欤፺ป岛â崫㤚⮀ෆ縗孇娇勺弾妝㰃ᬿ徠扪瓂Σ倭┧Ứ恀ᇀ簤㕤ࠣ㏞欸⥉ₓ甹ඝ㶤ງ歇櫖⁁䰶瓙箼みᵻÞ纅䔷疻狸਷牤䊎滧⁵҅ܳ㣉ᢁ㸔ή㹤涑䯷劙櫔䁕፰Ѷ冺⠖⦁勮同⋠ɥ⒞⾍ⲫ抾≀Ĺ㽘嚭⊋⚰ᚫ翲㒐ずƨ柬⒮✇㨩琴ᄋ睠✛㟩Ŷᏺ㨘௰ೠ旋ᆛ↶ಾዢ៻無۟㈩ᤂ僷ౠ灆㺓≥㣥枋Փ烩֜㳚ᗱ籐䆈Ⱐ㣣⸸۷⣁痷ၦ冠ᇚ燷䅪瀰櫛јٺ盀㢧痪⅒భࢺ۲✍ᘬಹ擵ᬎ掻ↀ旻ᨳ据᪉尮༛䁧㤹ᇰ曤畧ᦸ㇪他㇇௚㜨ᚳ劈ག䵻^瑽ᑺ宠ẋ剥≺㝯屛喾Ҙ䞷૱狫Მᅷᘷ倠犙⥤嚽ワĤ櫥挕ㄋ᪚۠䇷獏㙦⯰纹╈䕸ࡄ㘥ୋ㣺㏯㱚ᖛⰘ哴憅炈䄥囦廡ፀ͢㠫䪦㆞ㅣ癠䣲┮ᠹ…پ牧㎚〠㺥⟿ㄘứ皐冈篺㻩౴ਛ᳊桄ሬ༩ጥ啻ۄ枀扪ᘰ䂪䓾ᖠ㎠วॵ☺䇵䆺圌␲ȴ溒က䫙ѝ⻪ର滛呐溸ʰᡁ  "
   },
   "outputs": [
    {
     "data": {
      "application/vnd.jupyter.widget-view+json": {
       "model_id": "61f36c5633e8454cbcc0b4617139142f",
       "version_major": 2,
       "version_minor": 0
      },
      "text/plain": [
       "PersistWidget(data_values=[{'__id_column': '1', 'Region': 'Salt Lake', 'Month': 11, 'Day': 9, 'Year': 2012, 'T…"
      ]
     },
     "execution_count": 26,
     "metadata": {},
     "output_type": "execute_result"
    }
   ],
   "source": [
    "PR.plot.scatterplot(df_task_1c, \"Elevation_feet:Q\", \"Vertical_inches:Q\", df_name=\"df_task_2a\")"
   ]
  },
  {
   "cell_type": "code",
   "execution_count": 27,
   "id": "0a5ad654-936d-4af5-a92d-22ef393b8829",
   "metadata": {},
   "outputs": [
    {
     "data": {
      "text/html": [
       "<div>\n",
       "<style scoped>\n",
       "    .dataframe tbody tr th:only-of-type {\n",
       "        vertical-align: middle;\n",
       "    }\n",
       "\n",
       "    .dataframe tbody tr th {\n",
       "        vertical-align: top;\n",
       "    }\n",
       "\n",
       "    .dataframe thead th {\n",
       "        text-align: right;\n",
       "    }\n",
       "</style>\n",
       "<table border=\"1\" class=\"dataframe\">\n",
       "  <thead>\n",
       "    <tr style=\"text-align: right;\">\n",
       "      <th></th>\n",
       "      <th>Region</th>\n",
       "      <th>Month</th>\n",
       "      <th>Day</th>\n",
       "      <th>Year</th>\n",
       "      <th>Trigger</th>\n",
       "      <th>Weak Layer</th>\n",
       "      <th>Depth_inches</th>\n",
       "      <th>Vertical_inches</th>\n",
       "      <th>Aspect</th>\n",
       "      <th>Elevation_feet</th>\n",
       "    </tr>\n",
       "  </thead>\n",
       "  <tbody>\n",
       "    <tr>\n",
       "      <th>0</th>\n",
       "      <td>Salt Lake</td>\n",
       "      <td>11</td>\n",
       "      <td>9</td>\n",
       "      <td>2012</td>\n",
       "      <td>Snowboarder</td>\n",
       "      <td>New Snow/Old Snow Interface</td>\n",
       "      <td>14</td>\n",
       "      <td>360.0</td>\n",
       "      <td>North</td>\n",
       "      <td>10400.0</td>\n",
       "    </tr>\n",
       "    <tr>\n",
       "      <th>1</th>\n",
       "      <td>Salt Lake</td>\n",
       "      <td>11</td>\n",
       "      <td>11</td>\n",
       "      <td>2012</td>\n",
       "      <td>Skier</td>\n",
       "      <td>New Snow/Old Snow Interface</td>\n",
       "      <td>30</td>\n",
       "      <td>1200.0</td>\n",
       "      <td>North</td>\n",
       "      <td>9700.0</td>\n",
       "    </tr>\n",
       "    <tr>\n",
       "      <th>2</th>\n",
       "      <td>Salt Lake</td>\n",
       "      <td>11</td>\n",
       "      <td>11</td>\n",
       "      <td>2012</td>\n",
       "      <td>Skier</td>\n",
       "      <td>Facets</td>\n",
       "      <td>36</td>\n",
       "      <td>5400.0</td>\n",
       "      <td>North</td>\n",
       "      <td>10200.0</td>\n",
       "    </tr>\n",
       "    <tr>\n",
       "      <th>3</th>\n",
       "      <td>Salt Lake</td>\n",
       "      <td>11</td>\n",
       "      <td>11</td>\n",
       "      <td>2012</td>\n",
       "      <td>Skier</td>\n",
       "      <td>New Snow</td>\n",
       "      <td>18</td>\n",
       "      <td>6000.0</td>\n",
       "      <td>Southeast</td>\n",
       "      <td>10200.0</td>\n",
       "    </tr>\n",
       "    <tr>\n",
       "      <th>4</th>\n",
       "      <td>Salt Lake</td>\n",
       "      <td>11</td>\n",
       "      <td>11</td>\n",
       "      <td>2012</td>\n",
       "      <td>Skier</td>\n",
       "      <td>Facets</td>\n",
       "      <td>42</td>\n",
       "      <td>9600.0</td>\n",
       "      <td>North</td>\n",
       "      <td>10400.0</td>\n",
       "    </tr>\n",
       "  </tbody>\n",
       "</table>\n",
       "</div>"
      ],
      "text/plain": [
       "      Region  Month  Day  Year      Trigger                   Weak Layer  \\\n",
       "0  Salt Lake     11    9  2012  Snowboarder  New Snow/Old Snow Interface   \n",
       "1  Salt Lake     11   11  2012        Skier  New Snow/Old Snow Interface   \n",
       "2  Salt Lake     11   11  2012        Skier                       Facets   \n",
       "3  Salt Lake     11   11  2012        Skier                     New Snow   \n",
       "4  Salt Lake     11   11  2012        Skier                       Facets   \n",
       "\n",
       "   Depth_inches  Vertical_inches     Aspect  Elevation_feet  \n",
       "0            14            360.0      North         10400.0  \n",
       "1            30           1200.0      North          9700.0  \n",
       "2            36           5400.0      North         10200.0  \n",
       "3            18           6000.0  Southeast         10200.0  \n",
       "4            42           9600.0      North         10400.0  "
      ]
     },
     "execution_count": 27,
     "metadata": {},
     "output_type": "execute_result"
    }
   ],
   "source": [
    "df_task_2a.head()"
   ]
  },
  {
   "cell_type": "markdown",
   "id": "b447b862-90c6-4ed7-b48b-baa1cf74ac2d",
   "metadata": {
    "__GENERATED_DATAFRAMES__": "{\"nodeDataframes\":{},\"graphDataframes\":null}",
    "show_aggregate_original": "false",
    "trrack_graph": "ᯡ࠽䈌ʀ匦㢠⹰࣠✴ƀචآ൐ୠᣠ⭎¸䚀ᶥ<⋵攴≲䦆ᨐ҅䁲䥈kᑄᄈ夒ર囇⣹嗛➎帣ᢤ䀡傠Ǘ熠㥀ॢȠா䠸ᢀ㜰䁾巒•橀樠Ꮃ䤠ව׷核ᱬ䣘紲₞૦Ԡ޳ŀ凐栠晬╍ಲ䖽䂇栢沀團ᄰ㸸ሪ喊Ⴇ♁䐔粶ᦞΎ刺ࠥ簉窺簲ᖢොሧ҉䃵ⰡḠޅ毗䘤䗾墥୚渍磆搰㣄䆯䌭䊣ᎄ䢩妈䪑䴹ҩ䋫◂რ⢒ઉ⃁⽌囦媍ኘ垤䢠䍤⒂Йᘷ੡䄀҂Ქ⃱琿啡憐㲞ၯ䌨焠ᗿ搫໎㒫ல熪Ņ⎃ऺᥛ⃄ᅠ  "
   },
   "source": [
    "## **Task 2b: Filtering Out Old Data**"
   ]
  },
  {
   "cell_type": "markdown",
   "id": "c86b30d4-4762-4bc0-bfd3-6f1486b55ad6",
   "metadata": {
    "__GENERATED_DATAFRAMES__": "{\"nodeDataframes\":{},\"graphDataframes\":null}",
    "show_aggregate_original": "false",
    "trrack_graph": "ᯡ࠽䈌ʀ匦㢠⹰࣠✴ƀචآ൐ୠᣠ⭎¸䚀ᶥ<⋵攴≲䦆ᨐ҅䁲䥈kᑄᄈ夒ર囇⣹嗛➎帣ᢤ䀡傠Ǘ熠㥀ॢȠா䠸ᢀ㜰䁾巒•橀樠Ꮃ䤠ව׷核ᱬ䣘紲₞૦Ԡ޳ŀ凐栠晬╍ಲ䖽䂇栢沀團ᄰ㸸ሪ喊Ⴇ♁䐔粶ᦞΎ刺ࠥ簉窺簲ᖢොሧ҉䃵ⰡḠޅ毗䘤䗾墥୚渍磆搰㣄䆯䌭䊣ᎄ䢩妈䪑䴹ҩ䋫◂რ⢒ઉ⃁⽌囦媍ኘ垤䢠䍤⒂Йᘷ੡䄀҂Ქ⃱琿啡憐㲞ၯ䌨焠ᗿ搫໎㒫ல熪Ņ⎃ऺᥛ⃄ᅠ  "
   },
   "source": [
    "The interactive barchart below, shows the data aggregated by year. There are noticeably fewer records for the years before 2010.\n",
    "\n",
    "During this subtask we will remove the older records, keeping only the records for year 2010 and above"
   ]
  },
  {
   "cell_type": "markdown",
   "id": "24b308e8-8437-4146-9ebf-cd121aeb7f9f",
   "metadata": {},
   "source": [
    "#### **Instructions**\n",
    "1. **Analyze the Bar Chart:**\n",
    "    - Identify the bars that show significantly less data.\n",
    "2. **Filter Year:**\n",
    "    - Select and remove the years with few records.\n",
    "3. **Verify the Output:**\n",
    "    - Print the head of the generated dataframe to verify the changes."
   ]
  },
  {
   "cell_type": "code",
   "execution_count": 28,
   "id": "6488acb7-e239-4d7e-92ef-3e9d74c3d823",
   "metadata": {
    "__GENERATED_DATAFRAMES__": "ᯡࠩ䃬࿀ᜤᠹ悋ᐤ怱䐢犲ǩ怶恉宑召䵬ð䀲悠ᄡḡ沯偑嬸Ř˛ࠥ笪  ",
    "__has_persist_output": true,
    "trrack_graph": "ᯡ࠽䈌ʀ匦㢠⹰ˢ䂬րঠ㌠ᠤ瀫‰恛ᴍ䓀ᆷì揱⢕泄槞䷵庠㇚㩄倡ᙰ䡡冃扆⥺仃㍶皽嶛礩ࠣ℠Ί⺦ô䁅ШNᄚ〡岁䋼℩㎎搠䀫ᢣ⠠Ꮣ䤠ෂ#㊂࠹搬⡲ㄴԿୣ⊠㋩棸☴ᕚਢტ憧ኁ㴩摰㳈ℬݐ侣◀晅ନ槸Ⲩ䒝≗ৠᄠ̋琭ໆ⒜㺠塔䶃ʠϩ䂱㔄粜҅ጠ姝䟰˸懍Ⓜၲᡄᴚ晁ݼ⊧䙡桶㈉၃瘺ᠢ縔῝殥ဤ欢ക㴀㮬খ堠传Ǿஒ籐£癤₂஫悒䢆㈤±Ⓒ٥ס㨴焺务⁔㨢ဳ᣸ླྀ䂀ӫ㤥3బᝫ扦兲㳦ѻ愠瓟⊨抑ɩᅩ剈♻ᙑ牔ⅸ啈儅╤䭅岒汾ᑫዉ㩫ᇪ㔥㘨光䨵ឨ慓ी9⪄抶⠠`ʈ□῀Æ懖ᐿ嶀䄝ऍྠň幉弶燡庨⯫琘䄰娅㬹栽䁪枣摼ڭ䋰⢆ఴ拱᢬䩍䎰ᄸءভ窄⠌狙刬ܠ₰ᑊᗂ僐沂Υ愐籡ᡭ䱍㻕䎅夌笪⍏墼末䒽㫽ଧ䨂簉漨ః稝僀⬈ણ惨䀏几ሸ*ᗢ灞呔ʠ။焠K䰤ȟἕ䊲䄱⊈䐥盶០ቤ䱅0ᤲ䣡ᤲ᣼䯤⅞੠Ĕᅾఈ䉠悡硃ᩬ⳨ு䱍掁屌䑁䖰䗘≌䮱≪䕨劳˰暷ΰ㈰䎢嚷ㇲ಴劒犻䮐勯偐ှ䒠ొ⊰ٿߑ扂䘑Ṓ䗂倨ᤜアᰀᐷ⁹䰺枌ࢮ栀爱撄䝐䇹Ӱ৉്憉䤧嬉乌ʰ厥Թ⤦䔚࠰ዉ崡䚉浀᝸ไı塺ᛑ絍ત倬֨ǫ挀ㄴ慠⡧ᒠ⋄啨卆ᗬἨ筬㜠՘ᕂ㽵ᬑ㋒娰ⳋᎆᲧᆇᲫᬄⴗἻ灱䠪Ř廆ᣋ䢵处屧偠䈥怿#畨塷拼Ṅ夢Թ權晍䖑மむ⸥ႄㄏყኯ₸ᔎ儇ᚨ層㸉ᢼㅋ∏⤤Ⱬᦀ။ᖃⴋ⤠治ஆ汛ឈ㕄⾼ٹ⡞ٰ㖋ⷰ㶌℻¬沐㱙汽ㆨ歝⚋産ゆ൦璋െ犏ゼ᪂ł嚇⮓て㵾⾍昧ী嗭㋅㗵⹯䧕⏇喽᳢嶶ᬈ䅖㶵崨♔㡠⧮㥎ሃは⏬͏㘋祀灈糤ᡁӪ䱁緟〉㝎нؔᠸ百ᐷր棆焰爸㋰糵䊀㇡¼າ存穼ࢨ縤⏚璔⋛㞰客゚າ䩶䪃ᒓ༃䲙⢳悚佸䄼⍃䰯ྒྷ儲䆂籴抣䢜⼢橶⹋漿ȃ䪰⼋举Ի碜滓禓任尯࿐Ỷ䕆垒Ƹ澖๓䮜Ậ椓ྈԔ䇦甛ἐ窚⼧殜怃縮弰⣵怋媜婓噴⊊䊓⸣嶔〇庶澏炄␓峳犇䘗濏尓徊睞栋庼⎜石巟奘怯㤏ᘕ㽃ឞᾤ⌃梅筪㷀す悟穀唶⃠䉂㘎䆳淑м粐☛䂀ҟ㈑Ⴍ相ಡ⅌╣⥻䑠୉␻ģᐥ健➈⠪ቈá嬮䦬ᆳ䡐䍣ὀ咚ךj砸䖨㢰痎圉屝槨⤄⠩斚㔣᰺ཙ娩㢞䪃ॖϾ㵃否䊈ᚧℍೡ画冚ῂࡀ挬◢ᨰˑ碣㇦ೱⴡ捚᧧ᭋ䟘昡఩䍆睥瓔╬㕶䵃ẹ挹Փࠥ☡枆嬩昡෬愢啑ưᡔᣮᘡႁཀ凡䠢ൠ岳ങa硠䅙㞃㆞㏚⇥優๙䨯⏇ᚒ㐢焈㌀䩵折▉尵ıⰩ攗୺༭挋㷧歇㎘侭磦枙⛩稍喇彌˻ 㭀ᕹគ㦎朘Ụ䦖寺ᙏ墐樶㱺瘞䨶ǉ⯕瑝᥉䈘翖笀朷ヮ๔尡䤘̡堢ᇈᝂぞ⌐ⶁ䐸Ӡ戯䃒Ű〴全ش繢標⬭䝖煞ፌആ⤹๶摌䢋㘨橐宲祌ฒ◂⹡∵ᥠ䫞⹇⋖ᑅ㾰₨琾ᐎ⪙⁵稲吢ೊ䁈坃ࠡ喌柊ᮮ♍⿀㝄Z䅤䡯⨕᥌൧ᛅ簦᪄ᵔਗ਼㶑⸅ࢺ梍㛰粧伪ς灐ಕ⡭⯜ߣ亪䕽෰瓹ļ溼窳係͈拞噊హ䒌㸃孂䥉筭ࡔର商卙c檉ㅔ䭪⍉­⠬⥬഻敎᫨᫆橲㞀ͭ✒Ն㝥ბᐉ䬺䲞ᅆⳒ➭ᩨ撨圙Ჷ䲇丂〣ჼ㚢䡕Ѐઉ偵㒈ಮ℅ౠ吭戸ɂ嗉₄⒥獞斆Ἷ⢭ဂ癍做৤末䐬რ䒱䲴單᤻䯐卐␪ຄ཈ċᷥḣ㝹ᯢ㘯䏒⾯㊍䠑๩ዛ⯣᳷溢▩眐␍ѯ沾㈘幫ں恋㊰׈ぬေධ紪ǰᗃ浑ь⑞⇼ᯍᦸ埩❹歽㌋ⰺ䚚䏶梾䦚唯榦ᨕ䍔挞䎚Ɐ㘖䄎⌁涀㵭䌳婅叄儇㡧偂皘哈㑾梨绸ᷜ㩚ʒ㮤皗枘䴒毇ᎋ剎罥䧕徴䇡ƹ忐㎟䄽Ⳋ玜杜㚲㎎঻委劃⋇捱㝆捪䂆位妊ᨒ暛䫪㌚஠澖婌䐉ⴋ᱖ර㰷᜛曹磍丑㽽增䀷ᴟ漢㓞癐ⶒ浶犰尯⶟嬜怓挓⳺᷆橀ჼ磌峙⨛⬉圥⡲嗫犅哉懬᝝⛊檡⋉䴝嗵琺痾⮁ṻ毟䉹቉௓㖰偌䶫㲥␹ᕈ繠愖䛝䛑䪻䢩‸䌤ф㻯佲။の哂᝵≝⍦㪗啝⺨㈗吹挽稳਻ࠡ䂅ڙⰠ犈淹棾䢛̱穣ᓘ猤Ԣ᷅屔䶑粼㒱瀃燼司͛⊁㭄1  "
   },
   "outputs": [
    {
     "data": {
      "application/vnd.jupyter.widget-view+json": {
       "model_id": "9115e64b0bc74106a285eeb6b3ec4189",
       "version_major": 2,
       "version_minor": 0
      },
      "text/plain": [
       "PersistWidget(data_values=[{'__id_column': '1', 'Region': 'Salt Lake', 'Month': 11, 'Day': 9, 'Year': 2012, 'T…"
      ]
     },
     "execution_count": 28,
     "metadata": {},
     "output_type": "execute_result"
    }
   ],
   "source": [
    "PR.plot.barchart(df_task_2a, \"Year:O\", \"count()\", selection_type=\"interval\", df_name=\"df_task_2b\")"
   ]
  },
  {
   "cell_type": "code",
   "execution_count": 29,
   "id": "1387bf1a-e600-4904-9ebc-1a476754bf6b",
   "metadata": {},
   "outputs": [
    {
     "data": {
      "text/html": [
       "<div>\n",
       "<style scoped>\n",
       "    .dataframe tbody tr th:only-of-type {\n",
       "        vertical-align: middle;\n",
       "    }\n",
       "\n",
       "    .dataframe tbody tr th {\n",
       "        vertical-align: top;\n",
       "    }\n",
       "\n",
       "    .dataframe thead th {\n",
       "        text-align: right;\n",
       "    }\n",
       "</style>\n",
       "<table border=\"1\" class=\"dataframe\">\n",
       "  <thead>\n",
       "    <tr style=\"text-align: right;\">\n",
       "      <th></th>\n",
       "      <th>Region</th>\n",
       "      <th>Month</th>\n",
       "      <th>Day</th>\n",
       "      <th>Year</th>\n",
       "      <th>Trigger</th>\n",
       "      <th>Weak Layer</th>\n",
       "      <th>Depth_inches</th>\n",
       "      <th>Vertical_inches</th>\n",
       "      <th>Aspect</th>\n",
       "      <th>Elevation_feet</th>\n",
       "    </tr>\n",
       "  </thead>\n",
       "  <tbody>\n",
       "    <tr>\n",
       "      <th>0</th>\n",
       "      <td>Salt Lake</td>\n",
       "      <td>11</td>\n",
       "      <td>9</td>\n",
       "      <td>2012</td>\n",
       "      <td>Snowboarder</td>\n",
       "      <td>New Snow/Old Snow Interface</td>\n",
       "      <td>14</td>\n",
       "      <td>360</td>\n",
       "      <td>North</td>\n",
       "      <td>10400</td>\n",
       "    </tr>\n",
       "    <tr>\n",
       "      <th>1</th>\n",
       "      <td>Salt Lake</td>\n",
       "      <td>11</td>\n",
       "      <td>11</td>\n",
       "      <td>2012</td>\n",
       "      <td>Skier</td>\n",
       "      <td>New Snow/Old Snow Interface</td>\n",
       "      <td>30</td>\n",
       "      <td>1200</td>\n",
       "      <td>North</td>\n",
       "      <td>9700</td>\n",
       "    </tr>\n",
       "    <tr>\n",
       "      <th>2</th>\n",
       "      <td>Salt Lake</td>\n",
       "      <td>11</td>\n",
       "      <td>11</td>\n",
       "      <td>2012</td>\n",
       "      <td>Skier</td>\n",
       "      <td>Facets</td>\n",
       "      <td>36</td>\n",
       "      <td>5400</td>\n",
       "      <td>North</td>\n",
       "      <td>10200</td>\n",
       "    </tr>\n",
       "    <tr>\n",
       "      <th>3</th>\n",
       "      <td>Salt Lake</td>\n",
       "      <td>11</td>\n",
       "      <td>11</td>\n",
       "      <td>2012</td>\n",
       "      <td>Skier</td>\n",
       "      <td>New Snow</td>\n",
       "      <td>18</td>\n",
       "      <td>6000</td>\n",
       "      <td>Southeast</td>\n",
       "      <td>10200</td>\n",
       "    </tr>\n",
       "    <tr>\n",
       "      <th>4</th>\n",
       "      <td>Salt Lake</td>\n",
       "      <td>11</td>\n",
       "      <td>11</td>\n",
       "      <td>2012</td>\n",
       "      <td>Skier</td>\n",
       "      <td>Facets</td>\n",
       "      <td>42</td>\n",
       "      <td>9600</td>\n",
       "      <td>North</td>\n",
       "      <td>10400</td>\n",
       "    </tr>\n",
       "  </tbody>\n",
       "</table>\n",
       "</div>"
      ],
      "text/plain": [
       "      Region  Month  Day  Year      Trigger                   Weak Layer  \\\n",
       "0  Salt Lake     11    9  2012  Snowboarder  New Snow/Old Snow Interface   \n",
       "1  Salt Lake     11   11  2012        Skier  New Snow/Old Snow Interface   \n",
       "2  Salt Lake     11   11  2012        Skier                       Facets   \n",
       "3  Salt Lake     11   11  2012        Skier                     New Snow   \n",
       "4  Salt Lake     11   11  2012        Skier                       Facets   \n",
       "\n",
       "   Depth_inches  Vertical_inches     Aspect  Elevation_feet  \n",
       "0            14              360      North           10400  \n",
       "1            30             1200      North            9700  \n",
       "2            36             5400      North           10200  \n",
       "3            18             6000  Southeast           10200  \n",
       "4            42             9600      North           10400  "
      ]
     },
     "execution_count": 29,
     "metadata": {},
     "output_type": "execute_result"
    }
   ],
   "source": [
    "df_task_2b.head()"
   ]
  },
  {
   "cell_type": "markdown",
   "id": "8a92b8a9-c3a8-4a57-be3b-c9cdc977092c",
   "metadata": {
    "__GENERATED_DATAFRAMES__": "{\"nodeDataframes\":{},\"graphDataframes\":null}",
    "show_aggregate_original": "false",
    "trrack_graph": "ᯡ࠽䈌ʀ匦㢠⹰ೠ⬠沈֭⠸恍ff9昽䁮ۦ࠰汬നڀপ㈏䣹厠㬦ተ¶⡨⇱㌀ᅁ╶庳ୖ⹜簧ଭࠣ℠Έ橦औ䁅ШNႦ〡岁䏼ℭ㞁摞+㢱䨠Ԋ牠Έƕ٦枓቙ჿਸ旑䅠Ȅ恨戬പᎭె䝁净儬Ö᡻⌸䐱䘩׍宨⇓ࡱ䍲ච᫲壬จ䙤Ɲڣ圖⍞ᛡ৽ण䃔戋㘠传ϊ揿振䘌汣䓼㹮䘫㈨ቺ⩯↧ᄨXഉ⠅ㅖࢢ侸⇄僡ಖࡢҁ氣С宍劄倶䢡⍤㲂̤㚗٩䄀硂಩⍰琦ᦪ悑屾ᾨႨ㺜*瘪䋇޶⋤ᓘ犠䭳঺᥇⏰ᅠ  "
   },
   "source": [
    "## Task 3: Data Wrangling"
   ]
  },
  {
   "cell_type": "markdown",
   "id": "9da80393-7f4b-4115-a4d1-5b7978e11358",
   "metadata": {
    "__GENERATED_DATAFRAMES__": "{\"nodeDataframes\":{},\"graphDataframes\":null}",
    "show_aggregate_original": "false",
    "trrack_graph": "ᯡ࠽䈌ʀ匦㢠⹰â䂬ƀᶷ琶䁋c<搔怳ଚ䠳亡䈤㉕⁖ì⺇⊨攩ᐠ▨戰㑹㧒妰囇⃹喧㝞Ţ∠桠ûு䁔䈠ॢȠந㺸ᢀ盅⻿夣•晀樠Ԃ牠Έƕ稦❳ሪὦ䰼⇑䅠Ȅ恨㙎⌯᪴䶹䈁ℓ琡㙐ᮂ⢨᢬थ⧓ࡢ㌰ሚ璋U䳘䠵欯Т縔絭Sㄭۡ۹ण䉔悊㘠传ϒ橷挣⌏ⱡ䕼庮打㈨ɼ榨慢䃂॑瑐繦┭ڼ㾬⎂厃焸牘榥ᄨ䦯ඦ嘔㗆溄⒀擒摖≦၀ⶃ㧄మޢᄴ䩍རへ∦䯧焤愷䍠Žƀ夅შ㤙༾′⪂㵩掳婊⢄  "
   },
   "source": [
    "### **Task 3a: Creating and assigning 'Avalanche Season'**"
   ]
  },
  {
   "cell_type": "markdown",
   "id": "402412ae-3b84-4fec-9c01-94dd203a7b1f",
   "metadata": {
    "__GENERATED_DATAFRAMES__": "{\"nodeDataframes\":{},\"graphDataframes\":null}",
    "show_aggregate_original": "false",
    "trrack_graph": "ᯡ࠽䈌ʀ匦㢠⹰â䂬ƀᶷ琶䁋c<搔怳ଚ䠳亡䈤㉕⁖ì⺇⊨攩ᐠ▨戰㑹㧒妰囇⃹喧㝞Ţ∠桠ûு䁔䈠ॢȠந㺸ᢀ盅⻿夣•晀樠Ԃ牠Έƕ稦❳ሪὦ䰼⇑䅠Ȅ恨㙎⌯᪴䶹䈁ℓ琡㙐ᮂ⢨᢬थ⧓ࡢ㌰ሚ璋U䳘䠵欯Т縔絭Sㄭۡ۹ण䉔悊㘠传ϒ橷挣⌏ⱡ䕼庮打㈨ɼ榨慢䃂॑瑐繦┭ڼ㾬⎂厃焸牘榥ᄨ䦯ඦ嘔㗆溄⒀擒摖≦၀ⶃ㧄మޢᄴ䩍རへ∦䯧焤愷䍠Žƀ夅შ㤙༾′⪂㵩掳婊⢄  "
   },
   "source": [
    "Next, we'll introduce a new categorical variable named `Avalanche Season` into our dataset. This addition aims to classify each avalanche record into different parts of the avalanche season (Start, Middle, End) based on the month it occurred in.\n",
    "\n",
    "Create a new category `Avalanche Season` in the dataset and assign each record to `Start`, `Middle`, or `End` of the avalanche season based on its month."
   ]
  },
  {
   "cell_type": "markdown",
   "id": "86d54d80-ef52-4630-bffb-1e04d9320384",
   "metadata": {},
   "source": [
    "#### **Instructions**\n",
    "1. **Define Season Categories:**\n",
    "    - Based on typical avalanche seasons in Utah, create a new category called `Avalanche Season`.\n",
    "    - Add three options for this category -- `Start`, `Middle`, `End`.\n",
    "2. **Interactive Category Assignment:**\n",
    "    - Use Persist's interactive features to select each month and assign it to one of the `Avalanche Season` values (Start, Middle, End).\n",
    "    - You should use the following ranges for assigning proper categories:\n",
    "        - `Start` of Season for _October_, _November_, _December_\n",
    "    \t- `Middle` of Season for _January_, _February_, _March_\n",
    "    \t- `End` of Season for _April, May_, _June_\n",
    "3. **Verify the Output:**\n",
    "    - Print the head of the generated dataframe to verify the changes."
   ]
  },
  {
   "cell_type": "code",
   "execution_count": 30,
   "id": "63b62f4c-8841-4f6c-8011-cb2ee31c2c7b",
   "metadata": {
    "__GENERATED_DATAFRAMES__": "ᯡࠩ䃬࿀ᜤᠹ悋ᐬ推̅ሣ䧠ⶠ卍捯ᥔᠣ℠▢dʘϔᝠ捌〤瀵摠៨⠠ ",
    "__has_persist_output": true,
    "trrack_graph": "ᯡ࠽䈌ʀ匦㢠⹰ૠጪْ䂆ᐨ恍6¼Ƹ㢰μ媦也㸋瀡䁃Vᓵ╓ᒲ⠠䭈⑁棒瀱Ⴥⱶ廃㍢嚼㴘Ԩǁ#〨㟣࿂′䈤7࡝ᠠ湐憎Ⴄ姗㈳%䒞吠৹撠۱Ƒ㥐じ粂ు᪭䵯➨犲হڦ䲮ㄪফ䀮晃⎰恠Ú㶝⏉䤭䟉䘬᭸惀Ēいܱⶭ䱴⬃㇁䦨稠嬸㗁塤ࢆҡ佸䑁嶨儊䡞ૠඁ᱔܍䍊Þ㵣䫮ჳ඀䃺淣ᙋ䡀欠➠ǥ縃熤挍ἨѢ熘๣೪禨ሴ᪬℁␮ᘰ愴偈ү䅥ᥔഭ∱撈䨢⪁䚒ᄵ炝弩ᧃ˔ᕳ䆷剥典幈䭅⤸ᵍ䞅㦜僂⦴⽱ᱦ獒ㅘ䅄䣄⑎⍅䤅硜䃉䘫敏࣢㉢†ၭࠠ࣠ᠠ༏咲洠᳢Ы弚䀼䏏ʬご⿈Ƶ㓘ඇ㖘異ⷮ㓠嚻⯫琘䄰䎂Ā偬ԥ捐ઈ䣂ℵڂᅂ䎰䑂䣊⋧硬ኦ戸桊佩稽乷ቡ䎀硂಩⃰琦ঢ懁沎ឯ戩↶䷉母㶞傅懀⍎Ჩ᭭㍷䆄嫕⮕厇儌ႝ儌㡝枙偅㣼眳佧ƨ〠ᑧǣ繧毪£ཀ5昧幮巳杫䵉῅㶅磡цॠЩ硄ど碬㑥焟ྡဠ㴯琣稳爙ǐ㞘⁙愢恻䂢健⃍ⴼ஑炔Ᏸ今ত᱉㔸泙ʠ堩ō琼ᓠ尺䄀うᇂ尬Ձ榶ৰ㡤䑐梬โࢁ白䡵඙₈伲⟆Ԣ桽უ⇚仕᡻䒔Ⴂ斔ề䌕崣ዹ㹟搥䂫䝐ㄬᏌ㉃㞰ⷒ䞌橇ヰ㷖䈲ؽ⒤ᱎ熬熢㍠䦬ŭ䐺ロ吶㇬禡㉌㠫ஹ傻䈫燂ㅁ䧊㝭᧖㑁㧞㓡ב㕌᫑䟉㩡剕⛈ॸ歝厔㍞珕竕䂠暶䧕皾井ڇ圕㺳䠕帷Ⳣ䴿䀩䄪環倷ŠࢬĂ尪ⓠ㑆āाㅬȪɈ㡐敀㰻È孅㚺㗘善劧ᖵ岢各⫑╉檳‽洷∈素旭掱℀̬熸猢燐䮺撝毆牙澥柼≕旙睊無⟌ӝ垲᮸澣揰⾮᳸ΐ朜彏疈eਢᬨ䯢い৙Ѩ֢劍晽灼Ų哅ᥢ㼽⦳塨r游估䒕䅂⁜າ歜ఆᄗ᮲″Ⳙ䉭ᤡ硣ᢳ拢ག⁅ୣ㱚Ձ燞០䒦ᓡⱬƠᧉ⑐榱汐厤狣晿怤䂨ᛑ㙮ߓ刣㎱䷂䖌⨧㌍ᩏ㈱㯍⊑Ⴚ׼⠼桻␲汀⭺ͻਦ櫻␮殭箁湛䊨ի㎜汻䮊潻ᮕۺ౞㡚氱檠➙⫴ሾ务ک埴狸ߔL䱢䃕ᗏ㖽㋶楝⧰ᥐᷰ඀߷壣⛗⇺㑔䴱䚊㝄䎡䙙Ĉ点汯Ⴄუけ䃋消ੀ炈ᒡᣴ᳒㍵䒏╁ⱈ䕱⽋䕥Ⓤ▅✕㒰㥞儠䜯椬㸖㵀㎼倪۫ͅ㣻ㄖĀ憮燣Ȃ捄୦௥㱗侑†䳖Ἰ὚ۃㅕ㱄᎐㿡⚚敭ℭⱕ娩䖤奫⭑䭞疲ᾤẈ䭱⫰ⶐ嵹榡ঋ⬭殝グⓆ⤟⒝य䅯仺ᔲႄ┤〡ጀย䤟⬌፲敝䛩治䅨㶅䡆恰┦泊ແ嶫ℛᩙ粲ΰ⼁潣Ͼ⠠㸺Ნ倴緯匙੕竿㸔㼴唴ဢ熎ሃ㉘䁯䴘⿚ᐘ兡弭利ᠤ繕ŵ媳巛囊㹝Ⱇ᷇ṷ挾ໆ廽℈㏥椇䣨䲲碠῅⽑僾热᪁ȡⅩ泭䔠࿆åड䙜╀Ꮒ䄘䎠榿²宣猪͟㧶嘸≮ଆ乵於㗮嶖䃙᮱㰖〨綁朚㇮⁭湡否ɡ冁䆾♣ਪ湸㏼䰻㱈探᣿ϑ咤冩ۼ栃㐲㋄樾⚐ⷭ䁠⏠塦㖫ӓṭ䭼䦲փ碥Ṁ˨Ⲥ㺻ᡫ箋⤷ࢨ⑶㣥l׳᭦烳ᕓ瀱̇ᜠ摂䛀␎⡩ɸ氨傔㠁璕䮛↭嚟㕑杌໎▂Ṧ捃䟨揅⬰⼇㒤撂溻樐䯠న㉦Ⲅ⚙ᙑࡨ䡑ⴉ䥼᧲偒狒䀵⍡♻㩵ዕᠻ枈絠ẋํ窠Hí呚优Eࢉ晻䇠্屆䪺䣮ࠠ晨ȸ䃶冩㠮↊娗煕叠⊤Ⱔ๡搰恰᪅介磶㡯潢ў⼳熑ᖝॐሿ啇㙽ᄮ៵๿劼ʪ⃇Ὑ杁Ɂ䤥⇊ގ⅐悤㑜撈碇䴒塐䋾㢦弿㔳᠄僲グᨰ֔ᤨౘஉ䊀″䊨䑏玁ᆽ摲ሀ婤䡶੄᷶橇噂悪ユ㚆౺ᚳ壌篣≪ᚲࡖ²㌷⁓瞤์㤢⣀扸沀ඣ硲ᒫ⌍ᄩ໽垡㕎ɥ℠ಔΠ㡄ව᧠ụ፝ᏹ ࢀ匫䊗⏷嫀℞悫纭沶➭㒬慃哹磠Ѡ欷䄀ࢥᡈ٦倭⏔ㅀₛⱆ䆑ൠ⥈痘㨄㌝㙦灘桰㌧ᔬ烮֖署䧂欯恠䊜㠣瀠࿅帇吐廦Ģ৲ᥥ䢛୉筟ㅑ❄ึᨽ湼᳜令樣䙀ਥ湟ⵀôฑ䨻絜ᨤ͕皬㠀ᲈ✉䪤傰獮㡡䇕暅ム⎇佦礥䜘汭䍹䦐ઘᚿ嶚嚛柑䡕㗎⮝撕筿哛媊巢䚀ʀၒ竚棴估悺暳瘓Π格ᐤ䝂ᴕʇ◒䩁◝残⒆拼篣䂆╖喕措坨暾䳵㝘ᥐ౓㫘愵⃵㚠砫๞䘈桒sబ㗑㥎⇗⹺Ӗ巫㛌ಙ⻷䅝删䑏ధ㐄⢈Ű婍儍ᵃ⑼࢓僛碞Ԅ慯ᓲ௡洏伃沲剈⏡Φ⃛盡紷ᄊ࿲ⒼỲ崧翹ᘲᰮ毌઄愪哩൵傇⽌㩝璖⊇偮妸䄒ഡ牂⎰ㄥ守佤婶悉河氦ſⲣ∐孩刻ル䨣㖌㋩㷱䩵⑄Ꭵᩃ✉կ畬強ĸ㭪泵㘬斔⽭㶡䴸䎰ݓ঒䬶຾⮂出枃䤡㡎爸⍾㗾⎋໔殩෷儺涬ല㠮ĭ䁽ॻ㯬箚ℍ㖴伅ᇪߍ帟⺛僿┖玐ཧ嶣事ᛇ悍⎣猙͚䕹ൢ崕嫝畓⟰⠣䃀ἣ纨ⵍ⛷䉖ݤ䄑獥Ӊ͋湣➢ぐ汽Ң׬Эგ玝ḷᆊᯜ矯拪沠廫ᛁ䉈掿䣵圣㗜౷ஂ᭭新旧ᶧ䴍璍㯗䯻ྣ狨Ⰷ஫澮爲˯嵧Ί䟄ⵍ♹๡┵戋ࠃ噉簼罷㰛☯癯ᣇ丌媡䶷Ý榰ᔄ埇こڌ爠煊⒲䟔䑢恏↙潐纗Φ᱿溦恖➸⇀暠ᴧြ౟撡䑑ₜࡰ暦⁕⍆෍ࢡ㱒御೐汦㐭ᆫ灈慀⩑冠∈洸瘭ҫేⰀ癖樷ഔ̖㹕ᰶ怤昰灑栮̐Ṇⲑ偠帞棆ᕕ໙ɔ旆⁃ࢆ峌䷎㙶ᣃ䤣亂ᄃ㥕䑃丄笰寂ª௘䌖៉㵖䬠ള瓕㰸ൠ㬐㞥秘Ԍ壡⪻䆌ቾ㌔㢅㲲䍾㜫ⵝ㷲ਁ朑硬㲭⏈ⓑࠪ⸕ڶ䪰斩䢍⏢ሁ䀾ⷧ䜞㍱ᖹⱽ≔劷൏愊捔䱧ᐮāƸᠠ丧ূ⾸㐆栨ⴓ๠አ䗄ȳ⛾䫑害⸝櫶䄔㮷ⳣ欎㻐節沫♞勰䃑№䢺娗䱜紮抬昑ᶤ䳮梬ฑḵ浑䏞寓盝沨⑚澱໏敾慚矖仙綁普┬ψ瑩憞䠐⅄Ჱ棢枫ᏉϾ᫚⿓⏏浑恡劕緓綟怸䚲㱷綞搞䖁㝜⇈લಣ总œ䬨⨧羹ᄨ࿰羡䖱禋䅠樮ₜᴥ挪㕓䱏琲኶⼠獄峼ൎ䊐椼帔䪱檷䭒崰∠䲫炦岹◎̵筎屙Ⲇ〈狑帙⺁玔啕Ɨॱᢡ咁Ċၐሤᠳ≵ᡀ嚨倧⋙戺网ਤ䆅ᵱ䚐⪝⎵᫉ᚪቆ参ⷉ溭䒖刃摶┕ƭ喨ྶ⸤枽⑷䆦Ԓ窶祺⟰䰧募ℑफ़䵶偍Ĳ൱ᓡᡒ⁑ᄜ琧ု≦倁笯ឳ䋋樱眬䑳㷜᫾刕沬扖殸⩴Ⲝз斒෢㛍擷旑໱汶紖ၢΫ澣氯攖㞡熥捯或ᒕ岏沏梡恭傂ॴᙩ㝴憠獡⪪Ƒ䉯愳䚌璡恍␓਺㡡圴Ⅿ䏲⒤⺂⒱ൠ妧䡱፸⠦凭Oˢ๐ᐡ样Ȑ቎䏨⅗揰ᅡԒ偡犨ᱩ㞯ₔ疸ᥦ㴤ㆧʡ⠙Ḭ恻ശ০湗ᲈ䏤ጞ䅐幵狤晁埫岜䶴ᨩ䖇⢖䳔ᯩᴯ犁䰬ႎ湲ᯙ䱭恊ବ啉ኩ䃮␡⤆፠烮偄㍒ؚラ禼㋪ఁဧ穵ண᭥䔧冃௃ዥ㉧恜㈲懼䩭◜峊⃜᭷䊮≚䞱拓㑁⋓惲櫕ᑸ㈓櫲ᐤ㦺óந墵៌僣რᮤ洳㠤ܰ琇ぜ㔳፸ͯ䪂刺ዉ瑣⩦⁍ự⭪璔攓ቺ〷泏榈՞⊡ᚒ挰⫑揖㚦揋Ỻ䟢㳖紻ព㉖ᱩ烻Პ羲皕抛‑⇯屪䋉ԑ廪๧猪厵Ɛ㺉⭏恎䁨籴ኧ᪥㕇⥤猊嵙ઔへ┫ࢺ硡搬ⴘ䍠抣ἣࡘ䎐Ⓝሦr๪䉫㺋؛ᱎ嗵ூ⊵捩环剩≛䕅㒫㊇֘欘ⱄ憎䷐嫪ů㊱䴬ᢎ㍕ᢅ䳭氄䬨̢㦔必㱦奤⥲⁒㍊抃䶪䴲㘡妌ѫ䨲ᵍှ䭫ԕΈ㵩䨤䶼୊綕䫸அ孨塓䄱暈ࠡℤ慄峩֗⒘硲ᆄ䷊⯝②⸑║⤺᪵槅彪䙃Ღ坪䈧呢䒞唕⡒ၟ࡫ঠ棱ቍᅻ沺眓碅௞䏥缳冉砸孼♉䚋੤廥彋ⶠ⮞䒨ᵍա淢哞䣊嚜ᢋ᜵嶩㲽焮Ჵ䇵▐疾懹ᐔ˗㊁晵戯的᏷⽵ᇨᏔ椱扭咊㹚ᮺ宍囌㺈⢞嗤䮄ඞđല㳠い⁒ರ戧䵃妨ʩ圔↏洽啐&ࣛ㴺Ϩぐᇭ㜻剸垕嚃、磷嫗㍒坣䝿儝㦒哬☷敓չ䜋ᕥͽ捳⺉㓿✆ဧⴙ䳰員䨲匡ᳳ㠮ᕗ㢁柧⚡䁓㷛⹁怶㞗㶻㷱ஞ瑃ⷡ㙭碴㖳㥂᭺攞焃㹽秱廂䓶Ś〬盒㔚◄䡋ᤱ刣㠺ټ笃ᗝ⨻ή㊿嗣㚀㋾Ἠଆજ搤嚫䣋ⶐ櫺弭㛥㬥嫳㭄堏唍ࠃ祒㐞ጃ瑋⪯㜰⚒ሦ₄䐑ந樤湠睤ලᢣ࡬䃥巍ᐧ媗ࡒ律滨㪽㢽⼪ᗼヾ⡹哽˃㍛牒ᵸ嘣ⱒ皒䓭㑖ᒺ眈ᯠ侨ࡾ㚑㾺䆳⋁㘑⑺ɼ拸敫⅓✤  "
   },
   "outputs": [
    {
     "data": {
      "application/vnd.jupyter.widget-view+json": {
       "model_id": "37998e28a18d427e82ea19862b0aca1c",
       "version_major": 2,
       "version_minor": 0
      },
      "text/plain": [
       "PersistWidget(data_values=[{'__id_column': '1', 'Region': 'Salt Lake', 'Month': 11, 'Day': 9, 'Year': 2012, 'T…"
      ]
     },
     "execution_count": 30,
     "metadata": {},
     "output_type": "execute_result"
    }
   ],
   "source": [
    "select = alt.selection_interval(name=\"selector\", encodings=[\"x\"])\n",
    "\n",
    "chart = alt.Chart(df_task_2b, height=400, width=500).mark_bar().encode(\n",
    "    x=alt.X(\"Month:N\").sort([10, 11, 12, 1, 2, 3, 4, 5, 6, 7, 8 ,9]),\n",
    "    y=\"count()\",\n",
    "    opacity=alt.condition(select, alt.value(1), alt.value(0.2)),\n",
    "    tooltip=\"month(Month):N\"\n",
    ").add_params(select)\n",
    "\n",
    "PR.PersistChart(chart, data=df_task_2b, df_name=\"df_task_3a\")"
   ]
  },
  {
   "cell_type": "code",
   "execution_count": 32,
   "id": "5e6ea466-2414-4da8-ba85-e9c88c161ee6",
   "metadata": {},
   "outputs": [
    {
     "data": {
      "text/html": [
       "<div>\n",
       "<style scoped>\n",
       "    .dataframe tbody tr th:only-of-type {\n",
       "        vertical-align: middle;\n",
       "    }\n",
       "\n",
       "    .dataframe tbody tr th {\n",
       "        vertical-align: top;\n",
       "    }\n",
       "\n",
       "    .dataframe thead th {\n",
       "        text-align: right;\n",
       "    }\n",
       "</style>\n",
       "<table border=\"1\" class=\"dataframe\">\n",
       "  <thead>\n",
       "    <tr style=\"text-align: right;\">\n",
       "      <th></th>\n",
       "      <th>Avalance Season</th>\n",
       "      <th>Region</th>\n",
       "      <th>Month</th>\n",
       "      <th>Day</th>\n",
       "      <th>Year</th>\n",
       "      <th>Trigger</th>\n",
       "      <th>Weak Layer</th>\n",
       "      <th>Depth_inches</th>\n",
       "      <th>Vertical_inches</th>\n",
       "      <th>Aspect</th>\n",
       "      <th>Elevation_feet</th>\n",
       "    </tr>\n",
       "  </thead>\n",
       "  <tbody>\n",
       "    <tr>\n",
       "      <th>0</th>\n",
       "      <td>Start</td>\n",
       "      <td>Salt Lake</td>\n",
       "      <td>11</td>\n",
       "      <td>9</td>\n",
       "      <td>2012</td>\n",
       "      <td>Snowboarder</td>\n",
       "      <td>New Snow/Old Snow Interface</td>\n",
       "      <td>14</td>\n",
       "      <td>360</td>\n",
       "      <td>North</td>\n",
       "      <td>10400</td>\n",
       "    </tr>\n",
       "    <tr>\n",
       "      <th>1</th>\n",
       "      <td>Start</td>\n",
       "      <td>Salt Lake</td>\n",
       "      <td>11</td>\n",
       "      <td>11</td>\n",
       "      <td>2012</td>\n",
       "      <td>Skier</td>\n",
       "      <td>New Snow/Old Snow Interface</td>\n",
       "      <td>30</td>\n",
       "      <td>1200</td>\n",
       "      <td>North</td>\n",
       "      <td>9700</td>\n",
       "    </tr>\n",
       "    <tr>\n",
       "      <th>2</th>\n",
       "      <td>Start</td>\n",
       "      <td>Salt Lake</td>\n",
       "      <td>11</td>\n",
       "      <td>11</td>\n",
       "      <td>2012</td>\n",
       "      <td>Skier</td>\n",
       "      <td>Facets</td>\n",
       "      <td>36</td>\n",
       "      <td>5400</td>\n",
       "      <td>North</td>\n",
       "      <td>10200</td>\n",
       "    </tr>\n",
       "    <tr>\n",
       "      <th>3</th>\n",
       "      <td>Start</td>\n",
       "      <td>Salt Lake</td>\n",
       "      <td>11</td>\n",
       "      <td>11</td>\n",
       "      <td>2012</td>\n",
       "      <td>Skier</td>\n",
       "      <td>New Snow</td>\n",
       "      <td>18</td>\n",
       "      <td>6000</td>\n",
       "      <td>Southeast</td>\n",
       "      <td>10200</td>\n",
       "    </tr>\n",
       "    <tr>\n",
       "      <th>4</th>\n",
       "      <td>Start</td>\n",
       "      <td>Salt Lake</td>\n",
       "      <td>11</td>\n",
       "      <td>11</td>\n",
       "      <td>2012</td>\n",
       "      <td>Skier</td>\n",
       "      <td>Facets</td>\n",
       "      <td>42</td>\n",
       "      <td>9600</td>\n",
       "      <td>North</td>\n",
       "      <td>10400</td>\n",
       "    </tr>\n",
       "  </tbody>\n",
       "</table>\n",
       "</div>"
      ],
      "text/plain": [
       "  Avalance Season     Region  Month  Day  Year      Trigger  \\\n",
       "0           Start  Salt Lake     11    9  2012  Snowboarder   \n",
       "1           Start  Salt Lake     11   11  2012        Skier   \n",
       "2           Start  Salt Lake     11   11  2012        Skier   \n",
       "3           Start  Salt Lake     11   11  2012        Skier   \n",
       "4           Start  Salt Lake     11   11  2012        Skier   \n",
       "\n",
       "                    Weak Layer  Depth_inches  Vertical_inches     Aspect  \\\n",
       "0  New Snow/Old Snow Interface            14              360      North   \n",
       "1  New Snow/Old Snow Interface            30             1200      North   \n",
       "2                       Facets            36             5400      North   \n",
       "3                     New Snow            18             6000  Southeast   \n",
       "4                       Facets            42             9600      North   \n",
       "\n",
       "   Elevation_feet  \n",
       "0           10400  \n",
       "1            9700  \n",
       "2           10200  \n",
       "3           10200  \n",
       "4           10400  "
      ]
     },
     "execution_count": 32,
     "metadata": {},
     "output_type": "execute_result"
    }
   ],
   "source": [
    "df_task_3a.head()"
   ]
  },
  {
   "cell_type": "markdown",
   "id": "36e82a42-5f2f-44e1-b9a5-2e2d403b2ff3",
   "metadata": {},
   "source": [
    "## **Task 3b: Analyzing Top Avalanche Trigger by Season**"
   ]
  },
  {
   "cell_type": "markdown",
   "id": "af40bad3-436e-426c-a02f-f205597e90b5",
   "metadata": {},
   "source": [
    "Now we'll analyze which trigger is most prevalent for avalanches in each season phase (Start, Middle, End) using the `Avalanche Season` category created in Task 3a."
   ]
  },
  {
   "cell_type": "markdown",
   "id": "72455a32-623b-4b87-87d6-ca9c8ebf19e7",
   "metadata": {},
   "source": [
    "#### **Instructions**\n",
    "1. **Context:**\n",
    "    - We have a facted bar chart. The `x` axis encodes the `Trigger` column in the data and the columns encode the newly added category `Avalanche Season`.\n",
    "2. **Analyze Trigger Data:**\n",
    "    - Observe the most common trigger for each season.\n",
    "    - You can hover on the bars to get the exact frequency.\n",
    "3. **Document Findings:**\n",
    "    - Note down the most common trigger for each season based on your interactive analysis in the markdown cell."
   ]
  },
  {
   "cell_type": "code",
   "execution_count": 33,
   "id": "07df4379-6e5e-4bcc-a878-7457f7baba16",
   "metadata": {
    "__GENERATED_DATAFRAMES__": "ᯡࠣ䅬Ԁ朤壠ᜣ琢〹夤゠⹰〮⁁䁻қ䚾ኊ㇠നСࠩ瀮晼Ƭ穅5愠៤⠠ ",
    "__has_persist_output": true,
    "trrack_graph": "ᯡ࠽䈌ʀ匦㢠⹰怶Ǹɐᣠ㎏〶䁃VẦ倵䁁啢ʅᄁ⥵應8埌溩ᐠ▴ሰ㑸砨䮵擋⽹嗛➎㸢䲤ð䀡壴憯兀ॢȠநẸᢀ㜰䁾巒චˤ㽴3䧩-倥樋琼♨ṝ㘰⚪挥'䦡ᆩ桜Ṳ㩞➸䃠څ∈ƌぶ᪁࠭ల൵㄰䂆ᇢ窸䬠㗙⚠᷺ନ̙瘛䷘᪌ᖢ᷂ሧʉ䋵ⰡḠޅ殯䘻෾墡୚㸌㓆搰ᢤ䪡䧠Ԇჾए桰⡪♙ႳӤ掆ក⦔ᔭ䄹䔧另媌ሤ䘤䭍䍤㒂%ᘷቡ䄁硂ಡ⍰瑦֦悐岔ឯ戩Ẍ*瀩˧⮪⋦擘䊿๱ঊ⥜䫱ӣဠ "
   },
   "outputs": [
    {
     "data": {
      "application/vnd.jupyter.widget-view+json": {
       "model_id": "93cb016a1bbe4cf7aaf10702def36b5c",
       "version_major": 2,
       "version_minor": 0
      },
      "text/plain": [
       "PersistWidget(data_values=[{'__id_column': '1', 'Avalance Season': 'Start', 'Region': 'Salt Lake', 'Month': 11…"
      ]
     },
     "execution_count": 33,
     "metadata": {},
     "output_type": "execute_result"
    }
   ],
   "source": [
    "NEW_COLUMN = \"Avalance Season\"\n",
    "\n",
    "chart = alt.Chart(df_task_3a).mark_bar().encode(\n",
    "    x=\"Trigger:N\",\n",
    "    y=\"count():Q\",\n",
    "    color=alt.Color(f\"{NEW_COLUMN}:N\").sort([\"Start\", \"Middle\", \"End\"]),\n",
    "    column=alt.Column(f\"{NEW_COLUMN}:N\").sort([\"Start\", \"Middle\", \"End\"]),\n",
    "    tooltip=\"count()\"\n",
    ")\n",
    "\n",
    "PR.PersistChart(chart)"
   ]
  },
  {
   "cell_type": "markdown",
   "id": "00e87acd-3759-49eb-9e43-d7793672297c",
   "metadata": {},
   "source": [
    "**Task 3b Notes:**\n",
    "\n",
    "- Most common Trigger for `Start` of the season: Natural (210)\n",
    "- Most common Trigger for `Middle` of the season: Skier (572)\n",
    "- Most common Trigger for `End` of the season: Natural (88)"
   ]
  }
 ],
 "metadata": {
  "__CATEGORIES_META__": "{\"categories\":{\"Avlanche Season Phase\":{\"name\":\"Avlanche Season Phase\",\"options\":{\"_None\":{\"name\":\"None\"},\"Start\":{\"name\":\"Start\"},\"Middle\":{\"name\":\"Middle\"},\"End\":{\"name\":\"End\"}}}},\"activeCategoryName\":\"Avlanche Season Phase\"}",
  "__persist_keys_record": [
   "__GENERATED_DATAFRAMES__",
   "__persist_nb_uuid__",
   "trrack_graph",
   "show_aggregate_origin"
  ],
  "__persist_nb_uuid__": "36dba505-c931-454f-af6c-30e8cfb51ac2",
  "kernelspec": {
   "display_name": "Python 3 (ipykernel)",
   "language": "python",
   "name": "python3"
  },
  "language_info": {
   "codemirror_mode": {
    "name": "ipython",
    "version": 3
   },
   "file_extension": ".py",
   "mimetype": "text/x-python",
   "name": "python",
   "nbconvert_exporter": "python",
   "pygments_lexer": "ipython3",
   "version": "3.8.16"
  }
 },
 "nbformat": 4,
 "nbformat_minor": 5
}
