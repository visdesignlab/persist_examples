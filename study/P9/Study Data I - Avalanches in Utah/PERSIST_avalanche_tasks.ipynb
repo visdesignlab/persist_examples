{
 "cells": [
  {
   "cell_type": "markdown",
   "id": "522fcbb3-702c-4ea0-91d9-f3b0e71690fc",
   "metadata": {
    "__GENERATED_DATAFRAMES__": "{\"nodeDataframes\":{},\"graphDataframes\":null}",
    "show_aggregate_original": "false",
    "trrack_graph": "ᯡ࠽䈌ʀ匦㢠⹰àᦴ΀࣪ʐ怶䦠挠᱊ࠥ䁁䂖㚥煤晬փ⊪ĸ暂䙠঳ैkᑄᄈ妐ଷᓋ⃩䖻Ṯ溜Φ䐡傠Ǒ団Қ′䈤7ࡣᠠ湐戎Ⴆ寐爤䀥屨攠ʕ㥀ǔÚ䍃㏙䤥ࢂ┩勸惀Ēいཆ༠೥∁∀秸㲅䌠ⶬᛦ䙂ǃɡ殍戰泤ᒁ嬦怭㋉匥穃ᄠ彣჻⴦䉫ぢ睤䄁ⵐۻG䀡曑砑䂱竖ᄂ㜿Ꭽ˹ȩᚱ凁兘㑐Ṣ༩Ẻ䳥⑆憰棨忞⍧攈堽Ī僰὆揖䦲ᡊ⛓౱নఱ姼ᤦΧ您別൧儸晋Ǣ熘繀䉁硨K塊়ṹᜰ倳䪂ⵦ⚈ᒽ᪺ᆬ䀠 "
   },
   "source": [
    "# Analyzing Utah Avalanche Data"
   ]
  },
  {
   "cell_type": "markdown",
   "id": "3abf1206-e99f-45b6-a92b-d971a2a8eb19",
   "metadata": {
    "trrack_graph": "ᯡ࠽䈌ʀ匦㢠⹰ૠܠ昢〽䂆౐׀ৣfL⍉ျ⥒⠡䒙¬ᧇ峕搢ಒ嫒┠অҤᵖ㹢晴㘉ᦳㄍ毿䡨墠ᨰV䆼ガ搢⡠䀢焨㌠෦ౝ戰殖๠ᠠ塩ೀn坄V䀷⢄㚗᥂夬ು䅻ఴ>☤䝃傳狱⊔㳜ੁ䀶挫㐷ࢢӡჵ嬩іㄪᢉ懐ͻ䬥䇽ࣨ䁏僿峱䐰㋸ᇻ兀㡆䱍㛠਀ⲛ粀೽疨һ䟩桁㙡Ũ昙ˢ䧮ᄪᆽ䥢ᅅᄁẩ㱸౮ᐶޣ先ఽЃⵖᥒ⌥▶懜ᩑƢ᭛䭄憐ɑ٦⦈䙓ǂ炘㸠䱅࢜ؠଌથ䜯๡䙉夊᜶僑汢㭢☈₁䠠 "
   },
   "source": [
    "**Participant ID:**  P9\n",
    "\n",
    "**Date / Time:**"
   ]
  },
  {
   "cell_type": "markdown",
   "id": "ceac0d48-2820-4532-bfd2-adf6533d7a2d",
   "metadata": {},
   "source": [
    "## Introduction\n",
    "Welcome to our data analysis study. For this part of the study, you'll be working with a dataset sourced from the [Utah Avalanche Center](https://utahavalanchecenter.org/). The data provides insights into [avalanche occurrences](https://utahavalanchecenter.org/avalanches) in Utah.\n"
   ]
  },
  {
   "cell_type": "markdown",
   "id": "68491102-96aa-4701-8134-d998c80ae04b",
   "metadata": {},
   "source": [
    "- You will use an extension called PersIst to complete **data cleanup and manipulation** tasks. \n",
    "- Interactive charts and tables have been pre-created for your convenience. These can be directly utilized by running the corresponding cells.\n",
    "- Focus on leveraging the interactive capabilities of Persist for your analysis.\n",
    "- Carefully follow the step-by-step instructions provided for each task.\n",
    "- In some cases, you will be asked to document your findings. Please do this in writing in a markdwon cell.\n",
    "- As you work through the tasks, take note of any interesting findings or challenges with the software or pandas that you may encounter, either by speaking your thoughts out loud or taking notes in a markdown cell.\n",
    "- Feel free to add new code and markdown cells in the notebook as necessary to complete the tasks, but please do attempt the tasks with the PersIst functionality."
   ]
  },
  {
   "cell_type": "code",
   "execution_count": 1,
   "id": "9337796b-21e8-4c8c-bbbd-3076a775d03b",
   "metadata": {},
   "outputs": [],
   "source": [
    "import helpers as h\n",
    "import pandas as pd\n",
    "\n",
    "import seaborn as sns\n",
    "import matplotlib.pyplot as plt\n",
    "import altair as alt\n",
    "\n",
    "import persist_ext as PR"
   ]
  },
  {
   "cell_type": "markdown",
   "id": "dd81aecd-eebf-4624-b9e2-3a864c474c1d",
   "metadata": {
    "__GENERATED_DATAFRAMES__": "{\"nodeDataframes\":{},\"graphDataframes\":null}",
    "show_aggregate_original": "false",
    "trrack_graph": "ᯡ࠽䈌ʀ匦㢠⹰Ҁ̡䘠烠嘢త〫‥侴ᓬᛞ拐ৡ䚂ద抭婈ހڅྯ䌲⠠䭈⑁槑焳Ⴥ⩦仃㍶๽㰥Ҩǁ#㟢䌰橠ኤРᜰ͐üメ湁˛㾄ָ̠憴)挄䀦栢琭ٮ㍄ᨡ䌤ᾣㆢ䀣擠䢤㘦Sᥧᡠ戂怡ᠬÖᠻ㹈䐿ة׉妨⃓ࢱ̴㖠᫲徤ฏѤƜڣ回㸦ۡ৵ण䃔戊㘠传ϊ緯挡䘌污䕽庮粓㈨ɪⷠ搃猄ᦨ洘㳌ᤪ̪౦繶ሱ澂䘣⁑Ҝഭ炍孉ृÅ⭱䤾ᢠ䆋෭ኀ㠢Ү≱呺Ấ惑汮ᮯ戩䊏̠˙Ɂ⧽憳㈒ṉⅱਊ⥋⃆瑀⣨  "
   },
   "source": [
    "## Data Description\n",
    "\n",
    "The table below describes the different columns in the dataset. Each row in the dataset represents a reported avalanche with details on location, trigger, and aspect. The data spans multiple years, starting from 2004 up to 2023.\n",
    "\n",
    "| Column          | Description                                                    |\n",
    "|-----------------|----------------------------------------------------------------|\n",
    "| Region          | Region in Utah where the avalanche occurred                    |\n",
    "| Month           | Month in which the avalanche was recorded                      |\n",
    "| Day             | Day on which the avalanche was recorded                        |\n",
    "| Year            | Year in which the avalanche was recorded                       |\n",
    "| Trigger         | Cause of the avalanche                                         |\n",
    "| Weak Layer      | Layer of snow that was weakest and likely to fail              |\n",
    "| Depth_inches    | Depth of the avalanche in inches                               |\n",
    "| Vertical_inches | Vertical distance covered by the avalanche in inches           |\n",
    "| Aspect          | Direction of the slope where the avalanche occurred            |\n",
    "| Elevation_feet  | Elevation of the location in feet                              |\n",
    "| Coordinates     | Approximate geographical coordinates of the avalanche location |\n",
    "| Comments 1      | Additional comments provided by the reporter                   |"
   ]
  },
  {
   "cell_type": "code",
   "execution_count": 2,
   "id": "8d0e426c-89a0-4813-8994-65ebba3f3a25",
   "metadata": {},
   "outputs": [
    {
     "data": {
      "text/html": [
       "<div>\n",
       "<style scoped>\n",
       "    .dataframe tbody tr th:only-of-type {\n",
       "        vertical-align: middle;\n",
       "    }\n",
       "\n",
       "    .dataframe tbody tr th {\n",
       "        vertical-align: top;\n",
       "    }\n",
       "\n",
       "    .dataframe thead th {\n",
       "        text-align: right;\n",
       "    }\n",
       "</style>\n",
       "<table border=\"1\" class=\"dataframe\">\n",
       "  <thead>\n",
       "    <tr style=\"text-align: right;\">\n",
       "      <th></th>\n",
       "      <th>;Region</th>\n",
       "      <th>Month</th>\n",
       "      <th>Day</th>\n",
       "      <th>Year</th>\n",
       "      <th>;Trigger</th>\n",
       "      <th>;Weak Layer</th>\n",
       "      <th>Depth_inches</th>\n",
       "      <th>Vertical_inches</th>\n",
       "      <th>;Aspect</th>\n",
       "      <th>Elevation_feet</th>\n",
       "      <th>Coordinates</th>\n",
       "      <th>Comments 1</th>\n",
       "    </tr>\n",
       "  </thead>\n",
       "  <tbody>\n",
       "    <tr>\n",
       "      <th>0</th>\n",
       "      <td>Salt Lake</td>\n",
       "      <td>11</td>\n",
       "      <td>9</td>\n",
       "      <td>2012</td>\n",
       "      <td>Snowboarder</td>\n",
       "      <td>New Snow/Old Snow Interface</td>\n",
       "      <td>14.0</td>\n",
       "      <td>360.0</td>\n",
       "      <td>North</td>\n",
       "      <td>10400.0</td>\n",
       "      <td>40.577977000000, -111.595817000000</td>\n",
       "      <td>While it was a small avalanche that was I caug...</td>\n",
       "    </tr>\n",
       "    <tr>\n",
       "      <th>1</th>\n",
       "      <td>Salt Lake</td>\n",
       "      <td>11</td>\n",
       "      <td>11</td>\n",
       "      <td>2012</td>\n",
       "      <td>Skier</td>\n",
       "      <td>New Snow/Old Snow Interface</td>\n",
       "      <td>30.0</td>\n",
       "      <td>1200.0</td>\n",
       "      <td>North</td>\n",
       "      <td>9700.0</td>\n",
       "      <td>40.592619000000, -111.616099000000</td>\n",
       "      <td>A North facing aspect with an exposed ridge in...</td>\n",
       "    </tr>\n",
       "    <tr>\n",
       "      <th>2</th>\n",
       "      <td>Salt Lake</td>\n",
       "      <td>11</td>\n",
       "      <td>11</td>\n",
       "      <td>2012</td>\n",
       "      <td>Skier</td>\n",
       "      <td>Facets</td>\n",
       "      <td>36.0</td>\n",
       "      <td>5400.0</td>\n",
       "      <td>North</td>\n",
       "      <td>10200.0</td>\n",
       "      <td>40.599291000000, -111.642315000000</td>\n",
       "      <td>Remotely triggered all the new storm snow (abo...</td>\n",
       "    </tr>\n",
       "    <tr>\n",
       "      <th>3</th>\n",
       "      <td>Salt Lake</td>\n",
       "      <td>11</td>\n",
       "      <td>11</td>\n",
       "      <td>2012</td>\n",
       "      <td>Skier</td>\n",
       "      <td>New Snow</td>\n",
       "      <td>18.0\"</td>\n",
       "      <td>6000.0</td>\n",
       "      <td>Southeast</td>\n",
       "      <td>10200.0</td>\n",
       "      <td>40.598313000000, -111.628304000000</td>\n",
       "      <td>Impressive fast powder cloud ran in front of t...</td>\n",
       "    </tr>\n",
       "    <tr>\n",
       "      <th>4</th>\n",
       "      <td>Salt Lake</td>\n",
       "      <td>11</td>\n",
       "      <td>11</td>\n",
       "      <td>2012</td>\n",
       "      <td>Skier</td>\n",
       "      <td>Facets</td>\n",
       "      <td>42.0</td>\n",
       "      <td>9600.0</td>\n",
       "      <td>North</td>\n",
       "      <td>10400.0</td>\n",
       "      <td>40.578590000000, -111.595087000000</td>\n",
       "      <td>Three of us toured from Brighton to low saddle...</td>\n",
       "    </tr>\n",
       "  </tbody>\n",
       "</table>\n",
       "</div>"
      ],
      "text/plain": [
       "     ;Region  Month  Day  Year     ;Trigger                  ;Weak Layer  \\\n",
       "0  Salt Lake     11    9  2012  Snowboarder  New Snow/Old Snow Interface   \n",
       "1  Salt Lake     11   11  2012        Skier  New Snow/Old Snow Interface   \n",
       "2  Salt Lake     11   11  2012        Skier                       Facets   \n",
       "3  Salt Lake     11   11  2012        Skier                     New Snow   \n",
       "4  Salt Lake     11   11  2012        Skier                       Facets   \n",
       "\n",
       "  Depth_inches  Vertical_inches    ;Aspect  Elevation_feet  \\\n",
       "0         14.0            360.0      North         10400.0   \n",
       "1         30.0           1200.0      North          9700.0   \n",
       "2         36.0           5400.0      North         10200.0   \n",
       "3        18.0\"           6000.0  Southeast         10200.0   \n",
       "4         42.0           9600.0      North         10400.0   \n",
       "\n",
       "                          Coordinates  \\\n",
       "0  40.577977000000, -111.595817000000   \n",
       "1  40.592619000000, -111.616099000000   \n",
       "2  40.599291000000, -111.642315000000   \n",
       "3  40.598313000000, -111.628304000000   \n",
       "4  40.578590000000, -111.595087000000   \n",
       "\n",
       "                                          Comments 1  \n",
       "0  While it was a small avalanche that was I caug...  \n",
       "1  A North facing aspect with an exposed ridge in...  \n",
       "2  Remotely triggered all the new storm snow (abo...  \n",
       "3  Impressive fast powder cloud ran in front of t...  \n",
       "4  Three of us toured from Brighton to low saddle...  "
      ]
     },
     "execution_count": 2,
     "metadata": {},
     "output_type": "execute_result"
    }
   ],
   "source": [
    "df = pd.read_csv('./avalanches_data.csv')\n",
    "df.head()"
   ]
  },
  {
   "cell_type": "markdown",
   "id": "7cc10d2b-9b1e-46f4-9769-b9a0ac0c9e8f",
   "metadata": {
    "__GENERATED_DATAFRAMES__": "{\"nodeDataframes\":{},\"graphDataframes\":null}",
    "show_aggregate_original": "false",
    "trrack_graph": "ᯡ࠽䈌ʀ匦㢠⹰ૠ㌬Ā჻R〶䁃lyٹ⁓f䍐ۢ䧪㈉◔ฅޡ䨲⠠䬱䑁棒瀱Ⴭ⭱妻ݎẜʤ䐡傠ǖ悃РኤРᜰ結üメ浪巟㈠ᣠˬ⃪$熒‣㐡㬚͇⦲༿⸂໡壡‡犀⒂ଠᎭॣ䥡⊃㡹稠嬸ූᑤඦҡ哹䑀妨䤝͕䀺慽䈩瞤∡㼚ƶ嵖᯦悡檩ǣ᪀畖o#䖊⠃ܑ璌⃥⹾䞌᧒Т⺈ᆡ⇳㴑䒤㒌ŭ᯸丈◡戱⃰潅Ԧ秐噑๦磜疶溂⒀ᒪ扖⋦ူⶃ㧄మྡྷშ⨭རㅸ瘭ǅ爘䅐䘆砠址䑂㥨㈼㹯䕈䓵ᒹ憴婊③ᤠ "
   },
   "source": [
    "# Task 1: Refining Columns and Preparing Data\n",
    "\n",
    "In the first task we will perform some basic data cleaning operations to get our dataset ready for further tasks."
   ]
  },
  {
   "cell_type": "markdown",
   "id": "8934b219-dd97-4e3e-9aa9-0dd7a9d62ad5",
   "metadata": {
    "__GENERATED_DATAFRAMES__": "{\"nodeDataframes\":{},\"graphDataframes\":null}",
    "show_aggregate_original": "false",
    "trrack_graph": "ᯡ࠽䈌ʀ匦㢠⹰ૠ㬠氤〥䌸瀶䀹䁣๲ৠܦᔨҀᣴ䂼䋃‣ᓆ做►䀳ല⠠䭈⑁槑瀱ᝉ⍮冫㭮ẜʦ䒠ǁ#㕀挸晠ኤРᝣၐüムṁǟ㤉䀥䉸攠ʓ㥀ǔÚ⎃஥䤫䒄攭ᇸ惀Ēいᘦᖠೣ䗫⃂変ⱦ{ఽ咼∪⌤䋵汄ჹ䑈冣ᛠඉⵆܔ⍂Þ⍡歹ম悩溩Ǡ媁疖o#䖓瀃ʅ璌⁅溮杲◒Ъ⍁䔶户ࣉⓢ削౐䘰䵥䌂んḸئԢ灐糕൤㧶ⶬ䲱䅲ᗈ撯ౠ惍䈅䥐属ѣ၈⩍སヸ๗௧焤ᄸ䒰Ž䅰䔉燩壥༲刳樲⭮✈咰ᒄ  "
   },
   "source": [
    "### **Task 1a: Remove Columns**"
   ]
  },
  {
   "cell_type": "markdown",
   "id": "47b531d4-2e3a-4e9a-b92a-39aebfc3deb6",
   "metadata": {
    "__GENERATED_DATAFRAMES__": "{\"nodeDataframes\":{},\"graphDataframes\":null}",
    "show_aggregate_original": "false",
    "trrack_graph": "ᯡ࠽䈌ʀ匦㢠⹰ૠ㬠氤〥䌸瀶䀹䁣๲ৠܦᔨҀᣴ䂼䋃‣ᓆ做►䀳ല⠠䭈⑁槑瀱ᝉ⍮冫㭮ẜʦ䒠ǁ#㕀挸晠ኤРᝣၐüムṁǟ㤉䀥䉸攠ʓ㥀ǔÚ⎃஥䤫䒄攭ᇸ惀Ēいᘦᖠೣ䗫⃂変ⱦ{ఽ咼∪⌤䋵汄ჹ䑈冣ᛠඉⵆܔ⍂Þ⍡歹ম悩溩Ǡ媁疖o#䖓瀃ʅ璌⁅溮杲◒Ъ⍁䔶户ࣉⓢ削౐䘰䵥䌂んḸئԢ灐糕൤㧶ⶬ䲱䅲ᗈ撯ౠ惍䈅䥐属ѣ၈⩍སヸ๗௧焤ᄸ䒰Ž䅰䔉燩壥༲刳樲⭮✈咰ᒄ  "
   },
   "source": [
    "Remove the following columns to streamline the dataset for further analysis:\n",
    "\n",
    "- **_Comments 1:_** Contains textual comments not crucial for quantitative analysis.\n",
    "- **_Coordinates:_** Detailed location data not needed for the current scope of analysis."
   ]
  },
  {
   "cell_type": "markdown",
   "id": "aec9ad2a-ab09-4288-b8fa-2852bcddda1a",
   "metadata": {},
   "source": [
    "#### **Instructions**\n",
    "1. **Column Removal:**\n",
    "\t- Use the interactive table feature in PersIst to remove the specified columns.\n",
    "3. **Verify the Output:**\n",
    "\t- Print the head of the generated dataframe to verify the changes."
   ]
  },
  {
   "cell_type": "code",
   "execution_count": 4,
   "id": "8e333ff3-cb24-430b-a332-733b41570ba4",
   "metadata": {
    "__GENERATED_DATAFRAMES__": "ᯡࠩ䃬࿀ᜤᠹ悋ᐨ推̅ሣ䧠ⶠ卍捯ᥔᠣ℠▢dʘϔᝠ捌〤瀵摠៨⠠ ",
    "__has_persist_output": true,
    "editable": true,
    "slideshow": {
     "slide_type": ""
    },
    "tags": [],
    "trrack_graph": "ᯡ࠽䈌ʀ匦㢠⹰ˠ㬡ణ〬攴ڀୡ䀮Ɖུ旄瀵䀣Ҽր⌬栩捥٩•ⳁႧ⛧䡤峅㕺۬᥻媑琀ဦ䈠۠რࣦݸ䁅ШNჺ〡岁䍼℮㖆搠ㆠְ仈G⎲;∪└碁瓰墚≆ੇ䪾䀤憢ሊᣁ層䘪Ŋ⃻䖡䔒䊘䀡㫺ᶛㆲᆻ⨄௴壡‡犀⑎⍃଴䩥攀ྈƌザ㵡࠾䰲൙㈰䄖ၢ㕀̫U岏″崪吢緔߫ᱝ⟅䄽㧗ɹ䋮ⰡḠއ䮯䘳揞碡Ѯޮ揰䳨ࠤ⌰ぐ⩱䓡≤➶ྩጝ♠䁒⣉ػ䙲ᤔశ੄㲏⟬ↈ悍㏤症㐱ᑦᎨኬብᝪ㋹⹿።૥⥼哈ⅰ䮡亪挑≹ᅡ刹ᙧᏨ੥६僈㴚ᆼठB¤༐)Ḩݠ˛䚀ǀذ䇦䦳䜠᫔ၝⰩ㤢絠࿌㖺ᚤ᧋琘䅕䱅䀹ణẩ玐⡂έ॰傚ᙐ㌃⥂ਥĀٝز䊆〡ᎎ砽ງᱩ䌁碂ಡⅰ栺ࢧ⅐ⱖṞ吐Ṫ㪵槌紡䢆ℭ簩䪃ᡣ獥䷂墧ᮍ䈧堼䞛䴇ᠥឋ圌㮈瀱ؠʨ灘⿫㢥‰㜄Օ䄇燵㲛⥏߫焠䮶ྤଦ䋀㻌∫弚ᤰ碏寣ࠠẬ䭜洴঺៣毜潤殺〡Ƽ´爞ᠠݼ⡕秔偅憡⡺֢卥竄稢ቐ渳愀㲳捱⨳抰⠳းᐾᆀ渼ᯰⳣɐا 㑄̞ᜯ⊆恟ޡόࠚဦֱ傤ú㭬婚⋤犌ᾯ瀢⁲抸ᠨⓘप孨嫮⁖ԥ孈㛭⌐仵㧴ܼࢀ嗬ᡦ⣦᧦丵ॆᓭᢆ⳧ᨆˠ〉儥悙䣺᫦磯杆∵ᮐ瓳ᮆ峦І堹梊ڥ挊絨楁୺桸ªĢ橾⛚狾ف彥֖䃰ጤ箻₶惼妪♲⫒楶⪒է䨒ᕰ⦖嚽化庭Д䆸ユⰱ䂀出㋬䧪据喲篮䗰燾玽㤨⮦燼ට㨎䏸碽妶秕⯦硾ᗧ㥜⟼䣘㟣碱灤Ꮑ䱛ԡ盚☱奏榡䘳竡ㄦ桠狒埔呓⌝᜿稡屄ޡ扁⚱牝䅠ȥϢ⨿倸ᒷİ渰匄伥Ĵ䘨䠸Ȱ抨ⵀᬜ羰क़䍘摶䤺壨㫾⅖䔵嫈⸡搨❞厢咮䢠㵽悹䫪⃶夾婖曩⃈盼ⶖ占ንㄺᖙ㣗晆䓙ᛅ惃ᖅ䋸┠  "
   },
   "outputs": [
    {
     "data": {
      "application/vnd.jupyter.widget-view+json": {
       "model_id": "a0cd7b26aff941449684fe7967475dc5",
       "version_major": 2,
       "version_minor": 0
      },
      "text/plain": [
       "PersistWidget(data_values=[{'__id_column': '1', ';Region': 'Salt Lake', 'Month': 11, 'Day': 9, 'Year': 2012, '…"
      ]
     },
     "execution_count": 4,
     "metadata": {},
     "output_type": "execute_result"
    }
   ],
   "source": [
    "PR.PersistTable(df, df_name=\"df_task_1a\")"
   ]
  },
  {
   "cell_type": "code",
   "execution_count": 6,
   "id": "1d14f68b-e581-4f98-ab9e-962e96d9bb65",
   "metadata": {},
   "outputs": [
    {
     "data": {
      "text/html": [
       "<div>\n",
       "<style scoped>\n",
       "    .dataframe tbody tr th:only-of-type {\n",
       "        vertical-align: middle;\n",
       "    }\n",
       "\n",
       "    .dataframe tbody tr th {\n",
       "        vertical-align: top;\n",
       "    }\n",
       "\n",
       "    .dataframe thead th {\n",
       "        text-align: right;\n",
       "    }\n",
       "</style>\n",
       "<table border=\"1\" class=\"dataframe\">\n",
       "  <thead>\n",
       "    <tr style=\"text-align: right;\">\n",
       "      <th></th>\n",
       "      <th>;Region</th>\n",
       "      <th>Month</th>\n",
       "      <th>Day</th>\n",
       "      <th>Year</th>\n",
       "      <th>;Trigger</th>\n",
       "      <th>;Weak Layer</th>\n",
       "      <th>Depth_inches</th>\n",
       "      <th>Vertical_inches</th>\n",
       "      <th>;Aspect</th>\n",
       "      <th>Elevation_feet</th>\n",
       "    </tr>\n",
       "  </thead>\n",
       "  <tbody>\n",
       "    <tr>\n",
       "      <th>0</th>\n",
       "      <td>Salt Lake</td>\n",
       "      <td>11</td>\n",
       "      <td>9</td>\n",
       "      <td>2012</td>\n",
       "      <td>Snowboarder</td>\n",
       "      <td>New Snow/Old Snow Interface</td>\n",
       "      <td>14.0</td>\n",
       "      <td>360.0</td>\n",
       "      <td>North</td>\n",
       "      <td>10400.0</td>\n",
       "    </tr>\n",
       "    <tr>\n",
       "      <th>1</th>\n",
       "      <td>Salt Lake</td>\n",
       "      <td>11</td>\n",
       "      <td>11</td>\n",
       "      <td>2012</td>\n",
       "      <td>Skier</td>\n",
       "      <td>New Snow/Old Snow Interface</td>\n",
       "      <td>30.0</td>\n",
       "      <td>1200.0</td>\n",
       "      <td>North</td>\n",
       "      <td>9700.0</td>\n",
       "    </tr>\n",
       "    <tr>\n",
       "      <th>2</th>\n",
       "      <td>Salt Lake</td>\n",
       "      <td>11</td>\n",
       "      <td>11</td>\n",
       "      <td>2012</td>\n",
       "      <td>Skier</td>\n",
       "      <td>Facets</td>\n",
       "      <td>36.0</td>\n",
       "      <td>5400.0</td>\n",
       "      <td>North</td>\n",
       "      <td>10200.0</td>\n",
       "    </tr>\n",
       "    <tr>\n",
       "      <th>3</th>\n",
       "      <td>Salt Lake</td>\n",
       "      <td>11</td>\n",
       "      <td>11</td>\n",
       "      <td>2012</td>\n",
       "      <td>Skier</td>\n",
       "      <td>New Snow</td>\n",
       "      <td>18.0\"</td>\n",
       "      <td>6000.0</td>\n",
       "      <td>Southeast</td>\n",
       "      <td>10200.0</td>\n",
       "    </tr>\n",
       "    <tr>\n",
       "      <th>4</th>\n",
       "      <td>Salt Lake</td>\n",
       "      <td>11</td>\n",
       "      <td>11</td>\n",
       "      <td>2012</td>\n",
       "      <td>Skier</td>\n",
       "      <td>Facets</td>\n",
       "      <td>42.0</td>\n",
       "      <td>9600.0</td>\n",
       "      <td>North</td>\n",
       "      <td>10400.0</td>\n",
       "    </tr>\n",
       "  </tbody>\n",
       "</table>\n",
       "</div>"
      ],
      "text/plain": [
       "     ;Region  Month  Day  Year     ;Trigger                  ;Weak Layer  \\\n",
       "0  Salt Lake     11    9  2012  Snowboarder  New Snow/Old Snow Interface   \n",
       "1  Salt Lake     11   11  2012        Skier  New Snow/Old Snow Interface   \n",
       "2  Salt Lake     11   11  2012        Skier                       Facets   \n",
       "3  Salt Lake     11   11  2012        Skier                     New Snow   \n",
       "4  Salt Lake     11   11  2012        Skier                       Facets   \n",
       "\n",
       "  Depth_inches  Vertical_inches    ;Aspect  Elevation_feet  \n",
       "0         14.0            360.0      North         10400.0  \n",
       "1         30.0           1200.0      North          9700.0  \n",
       "2         36.0           5400.0      North         10200.0  \n",
       "3        18.0\"           6000.0  Southeast         10200.0  \n",
       "4         42.0           9600.0      North         10400.0  "
      ]
     },
     "execution_count": 6,
     "metadata": {},
     "output_type": "execute_result"
    }
   ],
   "source": [
    "df_task_1a.head()"
   ]
  },
  {
   "cell_type": "markdown",
   "id": "36c62d50-9c88-4ed9-8c97-e552a6e4c620",
   "metadata": {},
   "source": [
    "### **Task 1b: Fix Column Names**"
   ]
  },
  {
   "cell_type": "markdown",
   "id": "ab8f8f24-afd2-424f-ab34-3e3cde723aa3",
   "metadata": {
    "trrack_graph": "ᯡ࠽䈌ʀ匦㢠⹰ࢀㆪこ<ǐʀ୥崡汤Ɓ䔠⍂⠨撂䂼ì债晶堪慯掩ᐠ▴ሰ璹㤨䮲减ⓥ䢧᜾㺣䉠ð䀡壅冨㕀ॢȠ௞䠸ᢀ眰䅽忖䀢晐樠Ԃ牠ΈƔڦ❓ሠƠ暬ॡ声Ȅ恨䙜⬮ಬ俨⫣䞐డ㙐᬴⣔䰲ճ㌰䊆၂۔欠㖹┰᧶༨̘ඛฌ琻ɋ㉄ܠ榡哸Ŝ.ؗ⾬ള勑̵㯺ᱱ曨ဩᒡᾪ३⁂惡৒ј⪖ᩋࢶ䥣䍢ᇃ⢀☾ԣ䖎㑝䳓ⳄⓀ᪱ĦҐ戤׌㝔䆦成扉ڠ凈㨣ೣㅘ湏Bࡤ䒠ଈତޗ٩䟨㣜㥨◈ᩲ㭡⟢䀠 "
   },
   "source": [
    "It looks like something went wrong when reading the file and some column headers start with a `;`. **Please remove the semicolon from all headers**. "
   ]
  },
  {
   "cell_type": "markdown",
   "id": "63f4d5c5-9383-4857-beae-0cfa6ba466f2",
   "metadata": {},
   "source": [
    "#### **Instructions**\n",
    "1. **Rename Columns:**\n",
    "    - Use the interactive  table in Persist to correct the column names by removing the leading `;` from their names:\n",
    "        - _;Aspect_ → _Aspect_\n",
    "        - _;Region_ → _Region_\n",
    "        - _;Trigger_ → _Trigger_\n",
    "        - _;Weak Layer_ → _Weak Layer_\n",
    "2. **Verify the Output:**\n",
    "\t- Print the head of the generated dataframe to verify the changes."
   ]
  },
  {
   "cell_type": "code",
   "execution_count": 5,
   "id": "e74dd265-2437-40e4-8673-be7ea1d079b3",
   "metadata": {
    "__GENERATED_DATAFRAMES__": "ᯡࠩ䃬࿀ᜤᠹ悋ᐨ怱䐢犲ǩ怶恉宑召䵬ð䀲悠ᄡḡ沯偑嬸Ř˛ࠥ笪  ",
    "__has_persist_output": true,
    "trrack_graph": "ᯡ࠽䈌ʀ匦㢠⹰ೠ̡䘥〬恖ఢᠥ凃䍉䐢抭ᛤɐ惵拂䆠瘠䱘ᯅ傲⠠䭈⑁槓焵ᝉ⍮凓⮖⻝糒Ҡǁ#〨ゃ࿂′䈤7⺰ᠠ湐憎Ⴄ姗ㆠˤ㽴3姩-埔᎐Ř<並❑஧ཥ⍡⎓बケ㱲㑬᮷䧭દ犓䐡㪚絧⦲യ↤ౖ壡‡犀③✺യഽ༅ⓥ焔Öᢋ⇐䐰昩ھ墨⃛ࡁ⪰̵䀺湘〩溤⨡㺚Ѕ乁䌺悮峻䅌憇嘠传ϓ淧挡䇿㱠∷໠爸暄ЦၩТ䴩戰ᠲ̠⨹听࿉䣁熂ᮨ≥мຣ5䓛ฉ硨䴸׌碼瓝ࢥ૥壄䕆䢄夼佀⤴╒屡բ湦♇ࡅⴊᶹ䮅㥔Ὀ⤁䕲峇ㄸ⚐㷬爹ጠ££琠⯘昡樠渠ၮԘ湚疢ǵⵖ涡䪓Ǝၬ۴怠㻞咉᫜彟䨍Մⱖlၰ樿श冞咞ᗦᄵᑞ῱䕓၆漐ᶼ坄䦥怨ሹŦ冈稳ˣじḿB傤䛓⫰瓶ế⁒ഐ㰿ⷠ䳆ᦤὔⱺᖺ懓槖࠾悒Ḏ㎼怴巎寑柃䃤ᠠ੃䄁㼭戵a᮰ჶʿ䞅爃ⓜ὏䐧佸㸰ⰺઠ႗䉤௜䚄➀徏ŀ㥌礔⡄㒿⟍甝ǌ㓚᧥粟߃ȟ㗩οୢ˼⠵Ӏ塈㒿㗥ₒ㑥䅸ᘧ䇘⩅⃐↭स⩯⍂㜣擈ᔨ㇎ᘢp䠭籄↮悠渶̀擠ƥࡩ倡㊦ࠒᅐ㚄嫶䤐䡮䍫劻ࠃ簠䠶夆ء怲੡ᛒ᳐⡵奥嚊ǔ棺ᦑ呮ᰴძ䔠䙸ੑ䙴๐☸ॐ∩൐暘ୗדࡷڱ䜦䛑䆧䙴ᅖჩ䑌焉傤曱᭖哦ໃ㣦⯵欞䤯᫦‧ᩮ㭡橵䧮拴睤ɩ彴嘦䚸ᨤ悽゠丨䁐渥ʴ䱽䍰㊵ࡐⰤ儂㨠䄑᳍ᳯ∆佰墪晼⪐撲⯄楫䧪ṱ⨒ᕵ孲盳厔庿刬㊰䈀ⰳ䄮榶ㆮᬢ㫌珶㯮䎦箼嗤ⅼᮮ獮ျ㫠緰笣妺篼㴲竣බ祜ߢ䧘៭等俰◁曆άࠩ憩欯Ҡ偅哩ìI瞴׉板䔈员⚩ᗜ⠁ખ❳䕎䷵俙⒱ଦŵ俀┩瑓ء㚄䶡䉄͡䆍慼䢮ሔ橔儀樣ᚋ䢫¹䒦Ǥ䈡䁐ฮ⤨Ꮇ➘徿爢᜸暹㜼擨㋾≶┦嫈竣⅖ச勴灻䍎㻘渭懐愭Լ㙐⧒䎐姚䥑ǫ犨ŷ堕㄃䩧㇓䁭夆㓱䔁㕍㳝⤫拆Ȋ⺜栠ᔠ䉀⪪匠Ⱥ叉殦瓼Ȧ圊ଶ傥⧀栁㫉澂੔ա灊̻牊ã⡟ᚢ匆ư炎ƣ∢ⓥ㊔Ⳕ烕嚅㲿Ⴕኴ嚶匬嘴⋨䘁孖䦖၎掕ٮޠ硑䈢☷婘ᚗ峒㻘㗑㬿㆞䦓纺獣/͝恜⏧㣀ࢭᬡ೯ᐥ䆪ᡢа䠬ㄢⲎ壬溤Ө䷅咻䦶卩ᝑ卾㘶竆ᛘ扅戨䉄咤恅᥁ԫ᪖璎朎籊✀᱓崹伥燄宁〵䮚ྶ扄籈ຸ抪ć嵂㠢∙㑡止ں庪㘤侠᦭Ș䫸涡䯻঳ᦂ憖㤡Ⲫ൸⨮姴ᇑ㑓㉓Ơ݄Š旣攃楝另Ƈ庚ल砭⪃⼭狘梭廚ᡈ槽扇䪛ࠬ积ᜳ磨䙾䂾庻樳㼷⍫䃊㔥㥷ᕗᨠݶ刽䇴#ᑐ垬滍摳ؤ只㋅㯋倶。ㄞ牢䈂೽⨭⭹勼јڰ榇⣲傈璺槏ລ潕䧦緮会㭕椖㜠潌Ǩ柂᳀ܔ䬾吠㰋煃ᠬΕ愦ޣ岰欢ヹ͡䤥绊߾㨬㹬ঈ䲁ሀ䈱Ɉဨ⑧妹᪓ᕓマଁᨲ朂ᩂᳩ䉸㹨禹僴嵨哎࠶⟫օἪ巸੅䀫㹬封᳐⭇慐琠愉೤橀䇈ɂ⡀搀ᬤ၈҂⠢䁴റࢺᄔ⏈౽夹ㆪ㭳ൌ猽㈾涃癧渌⿹᲋䥀ᔧ劆勐䋬皜喅滪挌对沖䉔⇀ҝ瘴㈍ॾᐂ॑㲲⁆埊⒤塯煀  "
   },
   "outputs": [
    {
     "data": {
      "application/vnd.jupyter.widget-view+json": {
       "model_id": "950901a5cba346058e643408837b889f",
       "version_major": 2,
       "version_minor": 0
      },
      "text/plain": [
       "PersistWidget(data_values=[{'__id_column': '1', ';Region': 'Salt Lake', 'Month': 11, 'Day': 9, 'Year': 2012, '…"
      ]
     },
     "execution_count": 5,
     "metadata": {},
     "output_type": "execute_result"
    }
   ],
   "source": [
    "PR.PersistTable(df_task_1a, df_name=\"df_task_1b\")"
   ]
  },
  {
   "cell_type": "code",
   "execution_count": 7,
   "id": "b9d1bc03-9466-4aaa-b0e9-227e588b7ae6",
   "metadata": {},
   "outputs": [
    {
     "data": {
      "text/html": [
       "<div>\n",
       "<style scoped>\n",
       "    .dataframe tbody tr th:only-of-type {\n",
       "        vertical-align: middle;\n",
       "    }\n",
       "\n",
       "    .dataframe tbody tr th {\n",
       "        vertical-align: top;\n",
       "    }\n",
       "\n",
       "    .dataframe thead th {\n",
       "        text-align: right;\n",
       "    }\n",
       "</style>\n",
       "<table border=\"1\" class=\"dataframe\">\n",
       "  <thead>\n",
       "    <tr style=\"text-align: right;\">\n",
       "      <th></th>\n",
       "      <th>Region</th>\n",
       "      <th>Month</th>\n",
       "      <th>Day</th>\n",
       "      <th>Year</th>\n",
       "      <th>Trigger</th>\n",
       "      <th>Weak Layer</th>\n",
       "      <th>Depth_inches</th>\n",
       "      <th>Vertical_inches</th>\n",
       "      <th>Aspect</th>\n",
       "      <th>Elevation_feet</th>\n",
       "    </tr>\n",
       "  </thead>\n",
       "  <tbody>\n",
       "    <tr>\n",
       "      <th>0</th>\n",
       "      <td>Salt Lake</td>\n",
       "      <td>11</td>\n",
       "      <td>9</td>\n",
       "      <td>2012</td>\n",
       "      <td>Snowboarder</td>\n",
       "      <td>New Snow/Old Snow Interface</td>\n",
       "      <td>14.0</td>\n",
       "      <td>360.0</td>\n",
       "      <td>North</td>\n",
       "      <td>10400.0</td>\n",
       "    </tr>\n",
       "    <tr>\n",
       "      <th>1</th>\n",
       "      <td>Salt Lake</td>\n",
       "      <td>11</td>\n",
       "      <td>11</td>\n",
       "      <td>2012</td>\n",
       "      <td>Skier</td>\n",
       "      <td>New Snow/Old Snow Interface</td>\n",
       "      <td>30.0</td>\n",
       "      <td>1200.0</td>\n",
       "      <td>North</td>\n",
       "      <td>9700.0</td>\n",
       "    </tr>\n",
       "    <tr>\n",
       "      <th>2</th>\n",
       "      <td>Salt Lake</td>\n",
       "      <td>11</td>\n",
       "      <td>11</td>\n",
       "      <td>2012</td>\n",
       "      <td>Skier</td>\n",
       "      <td>Facets</td>\n",
       "      <td>36.0</td>\n",
       "      <td>5400.0</td>\n",
       "      <td>North</td>\n",
       "      <td>10200.0</td>\n",
       "    </tr>\n",
       "    <tr>\n",
       "      <th>3</th>\n",
       "      <td>Salt Lake</td>\n",
       "      <td>11</td>\n",
       "      <td>11</td>\n",
       "      <td>2012</td>\n",
       "      <td>Skier</td>\n",
       "      <td>New Snow</td>\n",
       "      <td>18.0\"</td>\n",
       "      <td>6000.0</td>\n",
       "      <td>Southeast</td>\n",
       "      <td>10200.0</td>\n",
       "    </tr>\n",
       "    <tr>\n",
       "      <th>4</th>\n",
       "      <td>Salt Lake</td>\n",
       "      <td>11</td>\n",
       "      <td>11</td>\n",
       "      <td>2012</td>\n",
       "      <td>Skier</td>\n",
       "      <td>Facets</td>\n",
       "      <td>42.0</td>\n",
       "      <td>9600.0</td>\n",
       "      <td>North</td>\n",
       "      <td>10400.0</td>\n",
       "    </tr>\n",
       "  </tbody>\n",
       "</table>\n",
       "</div>"
      ],
      "text/plain": [
       "      Region  Month  Day  Year      Trigger                   Weak Layer  \\\n",
       "0  Salt Lake     11    9  2012  Snowboarder  New Snow/Old Snow Interface   \n",
       "1  Salt Lake     11   11  2012        Skier  New Snow/Old Snow Interface   \n",
       "2  Salt Lake     11   11  2012        Skier                       Facets   \n",
       "3  Salt Lake     11   11  2012        Skier                     New Snow   \n",
       "4  Salt Lake     11   11  2012        Skier                       Facets   \n",
       "\n",
       "  Depth_inches  Vertical_inches     Aspect  Elevation_feet  \n",
       "0         14.0            360.0      North         10400.0  \n",
       "1         30.0           1200.0      North          9700.0  \n",
       "2         36.0           5400.0      North         10200.0  \n",
       "3        18.0\"           6000.0  Southeast         10200.0  \n",
       "4         42.0           9600.0      North         10400.0  "
      ]
     },
     "execution_count": 7,
     "metadata": {},
     "output_type": "execute_result"
    }
   ],
   "source": [
    "df_task_1b.head()"
   ]
  },
  {
   "cell_type": "markdown",
   "id": "3875e7fc-ec40-4241-aa94-87b31e59944f",
   "metadata": {},
   "source": [
    "## **Task 1c: Correcting Data Type of 'Depth_inches'**"
   ]
  },
  {
   "cell_type": "markdown",
   "id": "7a7eebda-1b60-4bff-89d3-a5548a601b49",
   "metadata": {},
   "source": [
    "There is a data type issue in the `Depth_inches` column of our dataframe. This column is incorrectly formatted as an object (string) due to the presence of the inches symbol `\"`.\n",
    "\n",
    "Remove any inches symbols `\"` from the `Depth_inches` column and convert it to a float data type."
   ]
  },
  {
   "cell_type": "code",
   "execution_count": 8,
   "id": "fb9bff61-9a8d-4114-97f3-4f6d0cd0e61e",
   "metadata": {},
   "outputs": [
    {
     "data": {
      "text/plain": [
       "Region             string[python]\n",
       "Month                       Int64\n",
       "Day                         Int64\n",
       "Year                        Int64\n",
       "Trigger            string[python]\n",
       "Weak Layer         string[python]\n",
       "Depth_inches       string[python]\n",
       "Vertical_inches           Float64\n",
       "Aspect             string[python]\n",
       "Elevation_feet            Float64\n",
       "dtype: object"
      ]
     },
     "execution_count": 8,
     "metadata": {},
     "output_type": "execute_result"
    }
   ],
   "source": [
    "df_task_1b.dtypes"
   ]
  },
  {
   "cell_type": "markdown",
   "id": "b23913ac-ea3c-4ca1-8ac3-07d3026ca76e",
   "metadata": {
    "__GENERATED_DATAFRAMES__": "{\"nodeDataframes\":{},\"graphDataframes\":null}",
    "show_aggregate_original": "false",
    "trrack_graph": "ᯡ࠽䈌ʀ匦㢠⹰ೠ↺΀Ơ瘢ᠢᠫ‵䁇ፉ䐢怣侽振ၑ䶃᪰঵䂆⹉多䪲┠অҤᴶṂ㊵嘊᭓ㄅ毠㒰䣑Tဠ㚉҃೨ɰ䂠̂҆;䘸Ϥၗ眼䋐Ð䬹†于␠㚠ᝨ沂烒⎁൸憈㬸ᐠṬү䓧Ⴠ椓ᣘ⌚ᆠᛦކ䜱ǁ䅀㖖नຂᩈ桫〦塵偢㶱⢠⾱䂅埦䖃塀㪂ₐ暸ᵽ䀳怠煼砤慸㴻ࠩ㯏姭ঌ䄢䣫䧙㱈刱ㄿᬦ䩫⏃㌱楫磤ⰴຣα晼ਫ䎁㺕䮃Ⴤご䖂᥂挰ы゙㈬ܠ₰ᑊІ僑汮ޯ戩䉱៪怡⹁ᡤ甑擸抯॰ᡬᅓ╄璚╄㈠ "
   },
   "source": [
    "#### **Instructions**\n",
    "1. **Identify Entries with Inches Symbol:**\n",
    "    - Use the interactive table in Persist to look for rows with `\"` in `Depth_inches` column\n",
    "    - _Hint_: You can search in the interactive table\n",
    "2. **Edit and Correct Entries:**\n",
    "    - Edit the cells to remove the inches symbol from these entries. (e.g. `15\"` → `15`)\n",
    "3. **Convert Data Type:**\n",
    "    - Change the data type of the `Depth_inches` column from string to float.\n",
    "3. **Verify the Output:**\n",
    "\t- Print the head of the generated dataframe to verify the changes."
   ]
  },
  {
   "cell_type": "code",
   "execution_count": 9,
   "id": "7cb9b796-3aa5-4181-bf91-fa8ba7e33c20",
   "metadata": {
    "__GENERATED_DATAFRAMES__": "ᯡࠩ䃬࿀ᜤᠹ悋ᐨ恑䐢犲ǩ怶恉宑召䵬ð䀲悠ᄡḡ沯妶ᠢ㠪癀ఄᐠ ",
    "__has_persist_output": true,
    "trrack_graph": "ᯡ࠽䈌ʀ匦㢠⹰ಀጠᰦㅷĸׂ恃͢Ðѐۥ¡ᴗ仁緥⟚䩓⹆ÌⓀŌ傰䏆日ࡤ䲡ᕺ园ⷺ㮕瀲&䈠۲伬ἑj࠰|㩠怣㣣ۘ䈼櫭䨠஁㵰½๨࠺,攮⠃戃ࠨ憈牌ʦኬၩ♁⍆㢈傈瑌䨪Рோ号嬹ဠ೚ᐠ故䘪/ጢ⌰Ǹ㕕樬㘷⬦嗿旰˸慍ᑢၪᡄ᪒汁Č℧䩠砶㤅࿧㰺⠥笈ྶ憴ᑫɚ玎ӓּ堢㰠໯ᝏపޝ焦ࢼᬽ䥡ᦰ၈乃烰ᆶ✶烰䨢䊥瑒ⰾװჰ戻ر嘘ᠬڢኌ㟇湀㒀⛓抓厔烄ⴵ䘂䓒⹥◲䳖⃦儒ʮᱱᑁ⡫䣪䒂㢢⒱⓲ಶ⎳玈ű≰唬檫䀥⯜债⨠0倰Ạ֗ೠ͠๠¨意△怣璡ᾼ֎栭儠Ȁ㞰۫ȭ㚰Z൪槑⫠䮥嘲Ɱ眯⅓櫾⾠፸䉕क़䖦तإ冃䡈ؾ䃫䠢ĸ䛍ャᨶ廂ゅ⺽灚ᳮҳǣ灤⤢䏫ᑌ⌭⌀碜₾咋᪍᫻嘋稸㤧῁ㄔӪㆸ∓⋩典㎻㛢ϸ๧㷬玹粷㗶癚璐⢦\"䓢ハ掘䋀ࡍ爥᫠們溚Ḻ⌐㹏䈢孫؀䅐ⰲ䀨༓䐠伐ಎ΀⃯เ㥌禔⡆㓠沏ളদ㤀䈲炰䨻䏠卡䉼☵Ԑ塊㓠坩⃐ద愘ħ䃀إ䒲ਬ䘈ᐭ⇲཯惀㼯戚࣪ⱠᤲȀ碩←ᨷ⋐燆㑍'ᓁፔࡃ戽傕介唑灂仱撊佲ⷆ䢂㺱䶃扙ۓ㙫䍲戣䲔增ඓ䲑䦑↭⑳ᬯ搘°ᓑ☬̩ᒷ㚱㈿ばσű䎧Խᩀ䝝ᔣ䜥䑙独〮いぞ㑌⣉㝍ᗕ㙁㖶れ䶨匰⹉⽊禡㌲㕹㓀ᗟˌ㖽ㆊᠭ䁐䙘ᄠ㪾嚼䚩坕ᛍ埕ຫ匠溧匔偏億ᠠ㈬嚮㌬ᇎ䊬ᶱ࡭䙒ケ⧟䐩欨ܲ砪ƛ呙慗ͪ堧毠搰毠塚Ō㉕ࠀ檓㗃榧㜵䲴厅㊷ၵ㳟ᑈ䊧䊼ⵛ┈㴿‸䯟⇥比方宵䗽⭗瑝䟁怣杅瘰圭揘ᬽ炝俋熇㍟矙㩏瘆ᭀઘ⁥ᆐၴਫを䣂‵໘㒚ဒⱭࠪ悑欪䩪䳃盕ࣲ繳䧺⹸௺Ṭ屣㫢忷瑨҂㹨ͷ扝Ɖ౟汀愿ᓊ兝š秛槈ф⍠䘠沍ᐭ♁慪㘙罀ነ煢⼘䥯㎱網䃪䎻۪ᩘ盓稵✤桙皛⽪ޛᾗ櫁㾏ࠧ㲐ᡈᠸᢧ浨䞊佸↚潧激彷夂羍㨦℃㯡愄ὴ厘䖻窢槳䮉䭺᚜˺㺡凬㦡渭簩沬๔㗐值㋚䦧䏛槐⊛摂⃡氽H偀䦠㔽ЂჱӀ嵝ͳᡈ挂儋ㆦ焩櫙䥴㵨填Ὴې橕⣲恦机䧭⓳䎭࠮㨑冒焭⎰ᝡ፭攠犄墛䵭㬿ㄉ䴐ᦵ玓ὑ斠了粗ਡ˳〥䰓䡭ҫс憑¶౅ᜋ਄狲浰埨淆ਜ਼ၵ㤰图䶃㌆揍䡪浤⬫᳄䟋ใ⁓㛶ℸ兂᭤۶沸䇸嗔ᆟ⤥䁚Ȏ咠偬䃠砭§ଣ砶Τ㼡呔䊠䶁શ┴燶ᘂ光␪㫅⊤壆Ӯᇣ乺ྴשÐᣙ⾧ዿ㙁‧灰⠂绲Ⲩ堣糟彀ӁᏰ⳥੫盞撿㺯洝㱫᏿君㾡☟Ԕ樹嗴ᨍ剫ⶈ௼摖勫嵇勏㌇偭牚塣庇⟜ᝰ綨嬊侯䏽ځ~䆚༃⁤Ҁ䍢娈ഠ㉊‧㢖劂ٴǎ ⧐]姤ә㮥㨗㖓㭠㟎傊ử榬䡛ඇ༸᜵稼素恼୆֡⛫խ呆䵨㔑֥Փ㘅㌧䄆០慜曢泧礟ᤶ丽犐栦焑㊈䦌㈀䐱ɞⴔ⥸ᢤ䐲咩匬ⴻᙄ壍๰抭䵧℺ɐᵈ孽ಅ̷㛦湁剣淙Ј㶬⁈͵牎䆀奈㦁୸֣Îਗ਼溬㭥㲐ӄ爩ᤫ洒ਲ਼ε⇓䲓≥⋤戧ဲ凈斷䃋ᆩᖳ㏖㊢癦⃴Ǫᴒř抶湫አ⭅䆍⎅㢣啚绬摗⤕⚽ᨠ౉焓!晍ଡ଼ᵅ㓬嶊㚠㊡ヨQẠ䁆䞚友〳ᥩୢ梽ܨጬ㖠㲍䳔悚ᑾ㨛演敗rⵄ⬵⛟㙭攚丞⊸䈚䊢桋珨េ债М圄ˢथᑶՇ佬ឲ䏿Զ桳灂唪ㄔ〆㑰嵠⳱⋬֘⣫◖䐤㣠䀧ۖ斌㉺潪〼筏㥦෗劒仐㺾⬱皷刦⭨牔箤␕プے矡ᛐ͍偁ⶑ尛䓀ۏ・祸冤✧ㅯ牀尮摠桡ᐦǌ㊡㿟żاम≉寷㌖晫㛫章۱ᩅ ૈࡀ࠽N䵭庰㸂ර㧒懾兩楗䛊徨❠伌浺争⺽慀毴ࣵ犩嘵ሧ炚⎶ଡ沲ๆ⥷⯲䙭㊼伅ޥ᩟С້㕞嶊绝㏲⮄皘㭚每撃䡪Ꭴ  "
   },
   "outputs": [
    {
     "data": {
      "application/vnd.jupyter.widget-view+json": {
       "model_id": "a33116fe7a794eca8aa417ff586a18cd",
       "version_major": 2,
       "version_minor": 0
      },
      "text/plain": [
       "PersistWidget(data_values=[{'__id_column': '1', 'Region': 'Salt Lake', 'Month': 11, 'Day': 9, 'Year': 2012, 'T…"
      ]
     },
     "execution_count": 9,
     "metadata": {},
     "output_type": "execute_result"
    }
   ],
   "source": [
    "PR.PersistTable(df_task_1b, df_name=\"df_task_1c\")"
   ]
  },
  {
   "cell_type": "code",
   "execution_count": 13,
   "id": "2130fa00-4abb-4456-aeb8-fc2569c6dec9",
   "metadata": {},
   "outputs": [
    {
     "data": {
      "text/html": [
       "<div>\n",
       "<style scoped>\n",
       "    .dataframe tbody tr th:only-of-type {\n",
       "        vertical-align: middle;\n",
       "    }\n",
       "\n",
       "    .dataframe tbody tr th {\n",
       "        vertical-align: top;\n",
       "    }\n",
       "\n",
       "    .dataframe thead th {\n",
       "        text-align: right;\n",
       "    }\n",
       "</style>\n",
       "<table border=\"1\" class=\"dataframe\">\n",
       "  <thead>\n",
       "    <tr style=\"text-align: right;\">\n",
       "      <th></th>\n",
       "      <th>Region</th>\n",
       "      <th>Month</th>\n",
       "      <th>Day</th>\n",
       "      <th>Year</th>\n",
       "      <th>Trigger</th>\n",
       "      <th>Weak Layer</th>\n",
       "      <th>Depth_inches</th>\n",
       "      <th>Vertical_inches</th>\n",
       "      <th>Aspect</th>\n",
       "      <th>Elevation_feet</th>\n",
       "    </tr>\n",
       "  </thead>\n",
       "  <tbody>\n",
       "    <tr>\n",
       "      <th>0</th>\n",
       "      <td>Salt Lake</td>\n",
       "      <td>11</td>\n",
       "      <td>9</td>\n",
       "      <td>2012</td>\n",
       "      <td>Snowboarder</td>\n",
       "      <td>New Snow/Old Snow Interface</td>\n",
       "      <td>14.0</td>\n",
       "      <td>360.0</td>\n",
       "      <td>North</td>\n",
       "      <td>10400.0</td>\n",
       "    </tr>\n",
       "    <tr>\n",
       "      <th>1</th>\n",
       "      <td>Salt Lake</td>\n",
       "      <td>11</td>\n",
       "      <td>11</td>\n",
       "      <td>2012</td>\n",
       "      <td>Skier</td>\n",
       "      <td>New Snow/Old Snow Interface</td>\n",
       "      <td>30.0</td>\n",
       "      <td>1200.0</td>\n",
       "      <td>North</td>\n",
       "      <td>9700.0</td>\n",
       "    </tr>\n",
       "    <tr>\n",
       "      <th>2</th>\n",
       "      <td>Salt Lake</td>\n",
       "      <td>11</td>\n",
       "      <td>11</td>\n",
       "      <td>2012</td>\n",
       "      <td>Skier</td>\n",
       "      <td>Facets</td>\n",
       "      <td>36.0</td>\n",
       "      <td>5400.0</td>\n",
       "      <td>North</td>\n",
       "      <td>10200.0</td>\n",
       "    </tr>\n",
       "    <tr>\n",
       "      <th>3</th>\n",
       "      <td>Salt Lake</td>\n",
       "      <td>11</td>\n",
       "      <td>11</td>\n",
       "      <td>2012</td>\n",
       "      <td>Skier</td>\n",
       "      <td>New Snow</td>\n",
       "      <td>18.0</td>\n",
       "      <td>6000.0</td>\n",
       "      <td>Southeast</td>\n",
       "      <td>10200.0</td>\n",
       "    </tr>\n",
       "    <tr>\n",
       "      <th>4</th>\n",
       "      <td>Salt Lake</td>\n",
       "      <td>11</td>\n",
       "      <td>11</td>\n",
       "      <td>2012</td>\n",
       "      <td>Skier</td>\n",
       "      <td>Facets</td>\n",
       "      <td>42.0</td>\n",
       "      <td>9600.0</td>\n",
       "      <td>North</td>\n",
       "      <td>10400.0</td>\n",
       "    </tr>\n",
       "  </tbody>\n",
       "</table>\n",
       "</div>"
      ],
      "text/plain": [
       "      Region  Month  Day  Year      Trigger                   Weak Layer  \\\n",
       "0  Salt Lake     11    9  2012  Snowboarder  New Snow/Old Snow Interface   \n",
       "1  Salt Lake     11   11  2012        Skier  New Snow/Old Snow Interface   \n",
       "2  Salt Lake     11   11  2012        Skier                       Facets   \n",
       "3  Salt Lake     11   11  2012        Skier                     New Snow   \n",
       "4  Salt Lake     11   11  2012        Skier                       Facets   \n",
       "\n",
       "   Depth_inches  Vertical_inches     Aspect  Elevation_feet  \n",
       "0          14.0            360.0      North         10400.0  \n",
       "1          30.0           1200.0      North          9700.0  \n",
       "2          36.0           5400.0      North         10200.0  \n",
       "3          18.0           6000.0  Southeast         10200.0  \n",
       "4          42.0           9600.0      North         10400.0  "
      ]
     },
     "execution_count": 13,
     "metadata": {},
     "output_type": "execute_result"
    }
   ],
   "source": [
    "df_task_1c.head()\n"
   ]
  },
  {
   "cell_type": "markdown",
   "id": "753ed0a8-dc0b-4ac8-8afd-b554ea8f4d28",
   "metadata": {},
   "source": [
    "# Task 2: Filtering data\n",
    "\n",
    "In Task 2, we further improve our data by removing outliers and removing certain records to have more consistent data. "
   ]
  },
  {
   "cell_type": "markdown",
   "id": "7f25d8f5-98e8-4b0f-9358-ed85f77cbed8",
   "metadata": {},
   "source": [
    "## **Task 2a: Remove Outliers**"
   ]
  },
  {
   "cell_type": "markdown",
   "id": "ac53a605-2d10-4457-9625-70ce88f04f3b",
   "metadata": {},
   "source": [
    "In this task, we address data accuracy by filtering out anomalies in the elevation data. We observe some records with elevations outside the plausible range for Utah, suggesting recording errors.\n",
    "\n",
    "**Remove avalanche records with elevations below ~4,000 feet and above ~15,000 feet, which are outside the realistic range for Utah.**"
   ]
  },
  {
   "cell_type": "markdown",
   "id": "664c641e-1193-4233-8897-0161f209c86f",
   "metadata": {},
   "source": [
    "#### **Instructions**\n",
    "1. **Identify and Remove Anomalies:**\n",
    "    - Interactively select data points with elevations below ~4,000 feet or above ~15,000 feet in the Persist Scatterplot.\n",
    "    - Use Persist's interactive features to remove these anomalous records.\n",
    "2. **Verify the Output:**\n",
    "    - Print the head of the generated dataframe to verify the changes."
   ]
  },
  {
   "cell_type": "code",
   "execution_count": 14,
   "id": "73d5727a-f059-4bf3-977c-1ce0d6d92eba",
   "metadata": {
    "__GENERATED_DATAFRAMES__": "ᯡࠩ䃬࿀ᜤᠹ悋ᐤ推̅ሣ䧠ⶠ卍捯ᥔᠣ℠▢dʘϔᝠ捌〤瀵摠៨⠠ ",
    "__has_persist_output": true,
    "trrack_graph": "ᯡ࠽䈌ʀ匦㢠⹰ˠᆡ䴉䵐ᚥร堨ڀᎤ礡ᣀç嬊䗲䨡䘢෈ૣՄ倡ᙰ䡣内无ⱬ劾ක䛭ⱛ㨐ࠣ℠Ή殧ⱠኤРᜰ浐üム⹁Ş㦄ᶠְ仈n㭨úၬ㔺1䧡揣傀成⠸ಒṗய&敇㏐㇒䒈券㬨7ⷃ凑䈺ᄉ嬌㽮᦬ਠཆɣӑ槲<Ế㔦ౝᘽ倥壡䵙ɀ乐␴注℮池ַͬö㇮ྶ灄倫盳济䥙沆ѕ䛼ᆆ͖〤砠ᴿ฾⋍毤ࡾ欆奘櫐䩄㣢ᡕݢტ瘸➧ㅁ両໣倸並ڡᇈベصᄈ㹄᜵㡾瞸佱䄺䞱歮桢烄⻦䖂磂ⲵ▱䳖⮷㈒䋑ⲡdㄣᄲ䒂㢡໩◈㓗Ꮃ搪⋋䟀ᣤR䫄⥔倠 ԰咡▪性樵፝‡⏁疆Я⩩儠╆䟈ô〿অ愈期䰇ú皧⽹毄場׺牴çอ啽ⸯ௫琘殑ᒣ掱᰾ߏڂ憊¢䃁⑜മ⇃ᗈ⢣榕֒പ⮉⽝仠玩ᢌᩨↂ牊ᚠ慐ⱖ஫搐⦦坶梔嵾忂䆤⡚ᒂl匹亀婕䭵嶏➍㮝儂㫬㻁̅㣽ްยრ۲}㣬倨ᄍ倡⺀ࠌ绱睕ኘ漧愡涹䄑Ðᐩ․֘房䖘穂ᖐႛ䌰]಴㳺࠱棿䰬☵ᥑᲐℬ㡨┭戀㇀憮ጩઘ㠴ᆂኧ噈ᶥၝ̈́焅䂤亵䂁炘ࢣ༄༷⓽ޣ偀಩ĐⱤ䓂ී典㼭㇬₨糀ࣱ墛峴娮E哮亠汾匓稡䰢ڡᛀ䙸̠∧䌼祑♘敍׉ٌʐ঺މㄸ䔊ࠧ懩䴼䕉⠥⛱㌾䒠䱞灥ᩃ⒜´̞Å嫘刨ⅴ⠶窠ˈ喨㵄氎୮ၸ㪽愎⪬†ི⨧ై婶ଏق⳿Ⱘ泛ὶᬊ䈣Ṗ幪᱃݄㘬官䳭څ䨠䤄ቷᏢ㒓Დຈ僄⣹䜶糤喥倿น悗ڈ焀嫦Ჟ䓰粜ፗ欏䰓滃̢䡑ł箘䭃䮙ࣀ䜵๛呉溛െ墡䊓湸獜恹灂批䮞ᕸ歔ݸ᭔⓸孁≊᱘㮻獢渰凒慻冦য↌㝢燵⿁⇇̡䘨ஃ畐喓ᩝ⮶妤ւ沘戠ઽĔ卯ก簣戣副叡⁂໠䓲೛剒̩瀾䬰ぜྫ㣎ˡ䉬㏲孺ᵍ㭑ⓨ奉₱ቹ⽉㉥⟫ᖂ䝰枆䝛↥柰砹᱑࢑䥓♁⏛䰣႘㙔ಙ瘣䮓体䖚⹗殒ç洚弻䨣罴爢缼结佀ᓰ䃩債⃍ᬥ盤᫯妺Ấ仓冕⼖娇盟ۮ汃咴劧⠂㬊祦毎竇༟ᠴ楽嘄䀮睿㰕ዦ➸呟ძ佽約嶕㓻前㲑㛼毵窦䞾瓤䀬兪塐䔣刼䂫痲憠䬾䝡℥ख़࠸೹梖ࡠࠉ琄⟫Ӏࡡ簵搎ෳĨܜତ㠻ؑ氧焞Ỡ㺷樳ྂ䡟值ᱪਖ਼⨢㡔੊瑅⍴㔧ṙ㛬䖌嚘્䌣⸁᭸恎尋ཤ᭕慖ᦠ⛒潍呅⳵䆥㖮娋ఃヮɖ举⡬橔媤䖕ჳത㣵ᗆ婐䈀㔺ಮ䆠梵槽࿉ѕ䨦㮧䀰柔䝢䁝ൠ⠧䂃ၺ㭈⥆ᵳ㡩㝬ᦎ䤔ܨ⠼䃀ዑ倲䃀⼡॔מ碩䁐ັᱲ戦ᓸ㙛ほ㟶暂㑦撊Ⲉ浹哫഻ఘ孛奲ⴅⱮ䍤䗣愉Ψ储᳗ᑛ晘㪺⒒ḨǸ夀ȷ云䧶礎ᵘ弮冇ࠠᜭ䟮俯ຠℑ◬р䋛侬ৌ㌑侁睾㈌䩀ᘣ㕟緻䘡࿜攗᜔䲰偬䜺妧浥珡䓯䌚㸿ℰ⤦倬ↄ㨬䒼┠▭ṣ㖸∔ๅ⊚ムν犧␢ౢ緗䝨䁅⥈冴ѕࣱ䗃分ⷁ穐掌壦潍⁸喩炇ሸ帡牳濕Aᒛ䁉ːᑘ岨䕿䡚磀測⪵緤䯆⽙䁎⦨㹶疂勎㋃檮ث㕙⊼⏠䚫⡭ᠶ䶙ᔅぢ(偔䙞E偶᱘殈㗲䶇凹䉏ᩰ卄デ⎶䴷Ⲇ᜶۲浘࡞㾵┻榥❼畎宅亐司㟂㵘চ䐶穈ᨕ彣ʐତ䠮ߟḩ͕Ҽġۄᒠᠢ䉜▓㲏䠘恬嘰䡀ケ਌Գ吴渑䉷屯筦侫 ࢀ·瘩墨䧖ၳⵖ䶴䟊ᓳ䳮㒑ẇ暃L‮ᣛᑻ䗝⧆㓒纓㟑䜩K操籞䏫፹ᡫڨ笮ᮔ溼㲹瘥ᐍ索ፌ㪠⩨㪠ᢔⰨ෮椀楇䜽״煏ᬐ厽灞Ⱐ枎侜䆷㰣ᳳ䗤வ㳘ヅ㡒甕伱灅䜍㕍湩⛖㍛厅ネᕏ℔Ǚ瀥擄▀㈚獘玲䌘õ৏Ⱦ憖埅帆᛾䅪⢘緟┇抽嚰ᨠ戶ɀἴ℄ơ櫥ǘƠ⒵ቐ㌨怾͠ḭ凌㏠ᓟ௉ㆆ䁮偠显䃸ྡ挺痨ᚁ⡓歄᯴摖Ѱ⸮͑戭∺ූ൰⠮䢇員㬯檀粽童―敐ↀ旀渻碜Ṅݴ㖘庈ᚡᙍ悺ⴲำᅗ䆇⤁  "
   },
   "outputs": [
    {
     "data": {
      "application/vnd.jupyter.widget-view+json": {
       "model_id": "16f711ff45b648acaf2b97eaa68efbe2",
       "version_major": 2,
       "version_minor": 0
      },
      "text/plain": [
       "PersistWidget(data_values=[{'__id_column': '1', 'Region': 'Salt Lake', 'Month': 11, 'Day': 9, 'Year': 2012, 'T…"
      ]
     },
     "execution_count": 14,
     "metadata": {},
     "output_type": "execute_result"
    }
   ],
   "source": [
    "PR.plot.scatterplot(df_task_1c, \"Elevation_feet:Q\", \"Vertical_inches:Q\", df_name=\"df_task_2a\")"
   ]
  },
  {
   "cell_type": "code",
   "execution_count": 15,
   "id": "d793bff4-c4d0-4cce-b9e5-636ed515049b",
   "metadata": {},
   "outputs": [
    {
     "data": {
      "text/html": [
       "<div>\n",
       "<style scoped>\n",
       "    .dataframe tbody tr th:only-of-type {\n",
       "        vertical-align: middle;\n",
       "    }\n",
       "\n",
       "    .dataframe tbody tr th {\n",
       "        vertical-align: top;\n",
       "    }\n",
       "\n",
       "    .dataframe thead th {\n",
       "        text-align: right;\n",
       "    }\n",
       "</style>\n",
       "<table border=\"1\" class=\"dataframe\">\n",
       "  <thead>\n",
       "    <tr style=\"text-align: right;\">\n",
       "      <th></th>\n",
       "      <th>Region</th>\n",
       "      <th>Month</th>\n",
       "      <th>Day</th>\n",
       "      <th>Year</th>\n",
       "      <th>Trigger</th>\n",
       "      <th>Weak Layer</th>\n",
       "      <th>Depth_inches</th>\n",
       "      <th>Vertical_inches</th>\n",
       "      <th>Aspect</th>\n",
       "      <th>Elevation_feet</th>\n",
       "    </tr>\n",
       "  </thead>\n",
       "  <tbody>\n",
       "    <tr>\n",
       "      <th>0</th>\n",
       "      <td>Salt Lake</td>\n",
       "      <td>11</td>\n",
       "      <td>9</td>\n",
       "      <td>2012</td>\n",
       "      <td>Snowboarder</td>\n",
       "      <td>New Snow/Old Snow Interface</td>\n",
       "      <td>14</td>\n",
       "      <td>360.0</td>\n",
       "      <td>North</td>\n",
       "      <td>10400.0</td>\n",
       "    </tr>\n",
       "    <tr>\n",
       "      <th>1</th>\n",
       "      <td>Salt Lake</td>\n",
       "      <td>11</td>\n",
       "      <td>11</td>\n",
       "      <td>2012</td>\n",
       "      <td>Skier</td>\n",
       "      <td>New Snow/Old Snow Interface</td>\n",
       "      <td>30</td>\n",
       "      <td>1200.0</td>\n",
       "      <td>North</td>\n",
       "      <td>9700.0</td>\n",
       "    </tr>\n",
       "    <tr>\n",
       "      <th>2</th>\n",
       "      <td>Salt Lake</td>\n",
       "      <td>11</td>\n",
       "      <td>11</td>\n",
       "      <td>2012</td>\n",
       "      <td>Skier</td>\n",
       "      <td>Facets</td>\n",
       "      <td>36</td>\n",
       "      <td>5400.0</td>\n",
       "      <td>North</td>\n",
       "      <td>10200.0</td>\n",
       "    </tr>\n",
       "    <tr>\n",
       "      <th>3</th>\n",
       "      <td>Salt Lake</td>\n",
       "      <td>11</td>\n",
       "      <td>11</td>\n",
       "      <td>2012</td>\n",
       "      <td>Skier</td>\n",
       "      <td>New Snow</td>\n",
       "      <td>18</td>\n",
       "      <td>6000.0</td>\n",
       "      <td>Southeast</td>\n",
       "      <td>10200.0</td>\n",
       "    </tr>\n",
       "    <tr>\n",
       "      <th>4</th>\n",
       "      <td>Salt Lake</td>\n",
       "      <td>11</td>\n",
       "      <td>11</td>\n",
       "      <td>2012</td>\n",
       "      <td>Skier</td>\n",
       "      <td>Facets</td>\n",
       "      <td>42</td>\n",
       "      <td>9600.0</td>\n",
       "      <td>North</td>\n",
       "      <td>10400.0</td>\n",
       "    </tr>\n",
       "  </tbody>\n",
       "</table>\n",
       "</div>"
      ],
      "text/plain": [
       "      Region  Month  Day  Year      Trigger                   Weak Layer  \\\n",
       "0  Salt Lake     11    9  2012  Snowboarder  New Snow/Old Snow Interface   \n",
       "1  Salt Lake     11   11  2012        Skier  New Snow/Old Snow Interface   \n",
       "2  Salt Lake     11   11  2012        Skier                       Facets   \n",
       "3  Salt Lake     11   11  2012        Skier                     New Snow   \n",
       "4  Salt Lake     11   11  2012        Skier                       Facets   \n",
       "\n",
       "   Depth_inches  Vertical_inches     Aspect  Elevation_feet  \n",
       "0            14            360.0      North         10400.0  \n",
       "1            30           1200.0      North          9700.0  \n",
       "2            36           5400.0      North         10200.0  \n",
       "3            18           6000.0  Southeast         10200.0  \n",
       "4            42           9600.0      North         10400.0  "
      ]
     },
     "execution_count": 15,
     "metadata": {},
     "output_type": "execute_result"
    }
   ],
   "source": [
    "df_task_2a.head()"
   ]
  },
  {
   "cell_type": "markdown",
   "id": "b447b862-90c6-4ed7-b48b-baa1cf74ac2d",
   "metadata": {
    "__GENERATED_DATAFRAMES__": "{\"nodeDataframes\":{},\"graphDataframes\":null}",
    "show_aggregate_original": "false",
    "trrack_graph": "ᯡ࠽䈌ʀ匦㢠⹰࣠✴ƀචآ൐ୠᣠ⭎¸䚀ᶥ<⋵攴≲䦆ᨐ҅䁲䥈kᑄᄈ夒ર囇⣹嗛➎帣ᢤ䀡傠Ǘ熠㥀ॢȠா䠸ᢀ㜰䁾巒•橀樠Ꮃ䤠ව׷核ᱬ䣘紲₞૦Ԡ޳ŀ凐栠晬╍ಲ䖽䂇栢沀團ᄰ㸸ሪ喊Ⴇ♁䐔粶ᦞΎ刺ࠥ簉窺簲ᖢොሧ҉䃵ⰡḠޅ毗䘤䗾墥୚渍磆搰㣄䆯䌭䊣ᎄ䢩妈䪑䴹ҩ䋫◂რ⢒ઉ⃁⽌囦媍ኘ垤䢠䍤⒂Йᘷ੡䄀҂Ქ⃱琿啡憐㲞ၯ䌨焠ᗿ搫໎㒫ல熪Ņ⎃ऺᥛ⃄ᅠ  "
   },
   "source": [
    "## **Task 2b: Filtering Out Old Data**"
   ]
  },
  {
   "cell_type": "markdown",
   "id": "c86b30d4-4762-4bc0-bfd3-6f1486b55ad6",
   "metadata": {
    "__GENERATED_DATAFRAMES__": "{\"nodeDataframes\":{},\"graphDataframes\":null}",
    "show_aggregate_original": "false",
    "trrack_graph": "ᯡ࠽䈌ʀ匦㢠⹰࣠✴ƀචآ൐ୠᣠ⭎¸䚀ᶥ<⋵攴≲䦆ᨐ҅䁲䥈kᑄᄈ夒ર囇⣹嗛➎帣ᢤ䀡傠Ǘ熠㥀ॢȠா䠸ᢀ㜰䁾巒•橀樠Ꮃ䤠ව׷核ᱬ䣘紲₞૦Ԡ޳ŀ凐栠晬╍ಲ䖽䂇栢沀團ᄰ㸸ሪ喊Ⴇ♁䐔粶ᦞΎ刺ࠥ簉窺簲ᖢොሧ҉䃵ⰡḠޅ毗䘤䗾墥୚渍磆搰㣄䆯䌭䊣ᎄ䢩妈䪑䴹ҩ䋫◂რ⢒ઉ⃁⽌囦媍ኘ垤䢠䍤⒂Йᘷ੡䄀҂Ქ⃱琿啡憐㲞ၯ䌨焠ᗿ搫໎㒫ல熪Ņ⎃ऺᥛ⃄ᅠ  "
   },
   "source": [
    "The interactive barchart below, shows the data aggregated by year. There are noticeably fewer records for the years before 2010.\n",
    "\n",
    "During this subtask we will remove the older records, keeping only the records for year 2010 and above"
   ]
  },
  {
   "cell_type": "markdown",
   "id": "24b308e8-8437-4146-9ebf-cd121aeb7f9f",
   "metadata": {},
   "source": [
    "#### **Instructions**\n",
    "1. **Analyze the Bar Chart:**\n",
    "    - Identify the bars that show significantly less data.\n",
    "2. **Filter Year:**\n",
    "    - Select and remove the years with few records.\n",
    "3. **Verify the Output:**\n",
    "    - Print the head of the generated dataframe to verify the changes."
   ]
  },
  {
   "cell_type": "code",
   "execution_count": 16,
   "id": "6488acb7-e239-4d7e-92ef-3e9d74c3d823",
   "metadata": {
    "__GENERATED_DATAFRAMES__": "ᯡࠩ䃬࿀ᜤᠹ悋ᐤ怱䐢犲ǩ怶恉宑召䵬ð䀲悠ᄡḡ沯偑嬸Ř˛ࠥ笪  ",
    "__has_persist_output": true,
    "trrack_graph": "ᯡ࠽䈌ʀ匦㢠⹰ৠܠ䘥ㅠ瘢ಀୠᣠ㌠㍼䐢怡䆺≱ቶ⋨ۦ恦ٔઐ੪2攩њ㙜䋅ᗋ橖㖎旷忀炠ᨰV簸ㄖ␢⡠䀢焫匠෦ౕ戰獶㙠䠠媫檠Ԉ牠Έ䆀琠☴Ԭʹ䧧⊥凂ම案横ᐹᜮ䊢䟤ᔀ䀡㫚㶛ㆲື≨࿤壡‡犀␾⹽Ꭽڥ䗡℆熔Öᡫ㸨䐿ةܼ媨⃻࣡㊰إ䀺江䠐沤䨡㻚ḙ䕞Ҳ悬嵻䇬慇ᘠ传ϝ旻挢⃾㱢䒼ẖ㸤晠䄂⒧䆠⊔⸧䅀磄⑟׀䢔ᴨ䟡䠸㔢ሀ停Ԯ䋠悰煃抚庲ᵦ渧ᵗ✩≑ᱥiቔ੣ͨ㉤ᙧᏨ੥Ҥତ岬瑶ឪዩ⩽ȅ秙㹰埣ଅ↪冐ê捇棲䀠Ƞ፺倓甠Դᝣ∕䬤࿌婰EϩⰜ⹘ݱ㢙广Dୌ‪ଣ⊐Ⴜ⎭毒⫄䌦⃀㑂ু䁰梞䘣⃤桲坬礍ງ੩䄀҂Ქ⋰ె֦恦ᨡἤጁ弚佺毕ᶎ城䣰熱䲁ᢣ卹䇀奌⭽ᶁƌ㭝嬄㥭繳崉㰍㩘ᱣ!∴ౢ狚䁰е㤠Îぁ翗侎ᩣ挓㱠崅一ʡ჈Ħ㵄䃓悁ሎ᳣⌑ሠ߇ጟ䐤ʚԗ帾䋂穧Ḕ繎ᰕ缀㈒Ŏᠫ˚ሮ䆲µ瑄ڡ瀱ࢡ焘༥偐߇≰૷⊄ёေᆢ䀴ੁ(␠纲ʨ䠠㋠慀ᠭ戀㑬䳦䞁Ҷ䴦栮儂煜◣焾ᴩƀἥ౏䨩䆾囷碼㭤⇜⨧焯倩ǗȤӺ⼮Ⳁകࠥ䏠僂ᣢ䁷ᡅÎ㷬䢲⃭呾࢐橀 禲㯲⊎乕㊩佘ჩ㥕ࣀኰ爼⍛䕁⦴曉୓Ҁ缤秠⼠Љ䃻ᾙ繦倂₸堶㺏䰑ᱳଲ⒉౹摒棂⬵ͻ呌ߣ武梇瑪䰨碙搸䍐漩㡔Ը灂଻捤攣፴抣卬楒䕠氺䍨⭖⍺ഹᛘ悹ጴ暸㎊ሀృన䂍✥畃⊋䴹ᎉ洧ⴊ氧܈䁸ᯋ㴿ࠂɑ戡ごѦ⡂⃥のୠ硳Ẩشѡ桬⬰熊⮡ঌ溇䆢湋᥉⻪㦎⦳㉥⡋⎆浪孅䇲兮攬㈼䟻䙩䑙ⰱ棓ཀྵ浚癫沒᝱ڑ瞃滚悍毘地↛⹽ښᖵ䖙湻慨屧洘烷澆㋏挠羓䚥猁ᶤ⃀➅噭廥ц࡫ࣺנ፭凲祤䌢⠬ৡ䢓䍡櫯؀ᪿ䕴媪۵୹੸ᐪ泃⭕෠ۭûҙ慰ᲀℳ杈㌭΂ƨᇄ㊯灔ㆭ㈖ᄫ灜㜑䒁⤯↾恿懤㱦䰒禭ొ箯燕№⒇寉ᩗ叐㻴⍡㼛Ⲷ纰ଈୀ㘊˿⸬䉐侠桘↣䣲ޱ抂ᙣ場֠囸⛗࿅š䠲n獂㾧皹儻暳壗ᚫ囕⻭厕㍺䋹ᩖ摠暅桝ʜ獥ř䂒䀯᧬⤀୭䛸憇᳂擙ዩⴡ䎒旎后ᡢẔॶ㰶嚋䇌₼嗕䇂疵嬢឴ᮄᙖ呋䪢⦅穦Ơ亠䓕寠ᬮľÊ␩㑸ࣄ奥խ冥Ӑॹ⁦烘圁㨧憨ঈ㐨≬䳩哆੨欯スཱྀࢯᆶ䧡䩙⒒䁫䑦䝨末䂎ୀ㴺䓘ࢃ奵⏭䉤墙䔉▯ム珶ᵏ懈䚡癅⑬㦧Ⳇ䒐宮烌Ǒ㲯ㅂ᠘扄դ堫粯٤您故ᄠᢶ㙬ᦤॉጄ⯥泂䠘熯ᦌ串岲㓠⯂Ս爔㣆ᱹ⚤琴⓪仑᪳燰佲煇ፘ◄癐ઘ唬ᓿଉ䂳楚⟳縸т㷄ᒒ⭤紭࣑䣖㍎቎ع獳䁂ő瀫૰⸠怲ɀ䉈䙴˥椳䆐ᙂྰ㢜៣ކ喊ᜮ橑潁斩⃋ᕢ欪㤭㪗ᑑ剠㈯ᱰǜ寧㱱ᩁᇁ筐ਐ♓烠ఀ恷掜⊡屡㎙硘ᘏᑊὸ⭂ሮ㻡䒫埮痵ለ嫐恠Πᩥ疚❃ã 罿ᨐ埣⪨ᣏ㿇๢ㆅᜧ仭本䗭嶱䥁䮼ぷ㞑挺琎伯繍Ӭᶧ倲ຠ栤⋩ࠥ౎㐼ᦫ朓࿭桐ⴰ㚑ࡢ狀糖猉㋼ᷭ䆳્⬠䉥倸䢈ư楬僺偖璸ࢴ儁嵘␪䣊䫙⡌俊擳ঁ䍌㊔ᨺ绘є䭨䍵ᖦ籬烨淁ಸ姑᳓⁲ᖆけ奬9˩ᭌ浉焹㚋᤬ᑿᘡ࠴À⿑ᶍ皀橧࠱ɡ崿ლ൚㠺㟄䁫ᚰአ儨࠷ܢ秂o᫠๊懼捷݇䱌ᤢⲏᷴ৫琚傉㐳ょL⁅ྼ缡〥䌓⯋嘃吅竒㮎媒㙺䅜缯㺂䨫ᣉࡁ㾘硔᜿⨐ኤ⩅擢┧Р "
   },
   "outputs": [
    {
     "data": {
      "application/vnd.jupyter.widget-view+json": {
       "model_id": "6e4ad73fe2164085a11edbb40c386342",
       "version_major": 2,
       "version_minor": 0
      },
      "text/plain": [
       "PersistWidget(data_values=[{'__id_column': '1', 'Region': 'Salt Lake', 'Month': 11, 'Day': 9, 'Year': 2012, 'T…"
      ]
     },
     "execution_count": 16,
     "metadata": {},
     "output_type": "execute_result"
    }
   ],
   "source": [
    "PR.plot.barchart(df_task_2a, \"Year:O\", \"count()\", selection_type=\"interval\", df_name=\"df_task_2b\")"
   ]
  },
  {
   "cell_type": "code",
   "execution_count": 17,
   "id": "856fbfa9-498d-4a2b-969b-318bdb59d4d5",
   "metadata": {},
   "outputs": [
    {
     "data": {
      "text/html": [
       "<div>\n",
       "<style scoped>\n",
       "    .dataframe tbody tr th:only-of-type {\n",
       "        vertical-align: middle;\n",
       "    }\n",
       "\n",
       "    .dataframe tbody tr th {\n",
       "        vertical-align: top;\n",
       "    }\n",
       "\n",
       "    .dataframe thead th {\n",
       "        text-align: right;\n",
       "    }\n",
       "</style>\n",
       "<table border=\"1\" class=\"dataframe\">\n",
       "  <thead>\n",
       "    <tr style=\"text-align: right;\">\n",
       "      <th></th>\n",
       "      <th>Region</th>\n",
       "      <th>Month</th>\n",
       "      <th>Day</th>\n",
       "      <th>Year</th>\n",
       "      <th>Trigger</th>\n",
       "      <th>Weak Layer</th>\n",
       "      <th>Depth_inches</th>\n",
       "      <th>Vertical_inches</th>\n",
       "      <th>Aspect</th>\n",
       "      <th>Elevation_feet</th>\n",
       "    </tr>\n",
       "  </thead>\n",
       "  <tbody>\n",
       "    <tr>\n",
       "      <th>0</th>\n",
       "      <td>Salt Lake</td>\n",
       "      <td>11</td>\n",
       "      <td>9</td>\n",
       "      <td>2012</td>\n",
       "      <td>Snowboarder</td>\n",
       "      <td>New Snow/Old Snow Interface</td>\n",
       "      <td>14</td>\n",
       "      <td>360</td>\n",
       "      <td>North</td>\n",
       "      <td>10400</td>\n",
       "    </tr>\n",
       "    <tr>\n",
       "      <th>1</th>\n",
       "      <td>Salt Lake</td>\n",
       "      <td>11</td>\n",
       "      <td>11</td>\n",
       "      <td>2012</td>\n",
       "      <td>Skier</td>\n",
       "      <td>New Snow/Old Snow Interface</td>\n",
       "      <td>30</td>\n",
       "      <td>1200</td>\n",
       "      <td>North</td>\n",
       "      <td>9700</td>\n",
       "    </tr>\n",
       "    <tr>\n",
       "      <th>2</th>\n",
       "      <td>Salt Lake</td>\n",
       "      <td>11</td>\n",
       "      <td>11</td>\n",
       "      <td>2012</td>\n",
       "      <td>Skier</td>\n",
       "      <td>Facets</td>\n",
       "      <td>36</td>\n",
       "      <td>5400</td>\n",
       "      <td>North</td>\n",
       "      <td>10200</td>\n",
       "    </tr>\n",
       "    <tr>\n",
       "      <th>3</th>\n",
       "      <td>Salt Lake</td>\n",
       "      <td>11</td>\n",
       "      <td>11</td>\n",
       "      <td>2012</td>\n",
       "      <td>Skier</td>\n",
       "      <td>New Snow</td>\n",
       "      <td>18</td>\n",
       "      <td>6000</td>\n",
       "      <td>Southeast</td>\n",
       "      <td>10200</td>\n",
       "    </tr>\n",
       "    <tr>\n",
       "      <th>4</th>\n",
       "      <td>Salt Lake</td>\n",
       "      <td>11</td>\n",
       "      <td>11</td>\n",
       "      <td>2012</td>\n",
       "      <td>Skier</td>\n",
       "      <td>Facets</td>\n",
       "      <td>42</td>\n",
       "      <td>9600</td>\n",
       "      <td>North</td>\n",
       "      <td>10400</td>\n",
       "    </tr>\n",
       "  </tbody>\n",
       "</table>\n",
       "</div>"
      ],
      "text/plain": [
       "      Region  Month  Day  Year      Trigger                   Weak Layer  \\\n",
       "0  Salt Lake     11    9  2012  Snowboarder  New Snow/Old Snow Interface   \n",
       "1  Salt Lake     11   11  2012        Skier  New Snow/Old Snow Interface   \n",
       "2  Salt Lake     11   11  2012        Skier                       Facets   \n",
       "3  Salt Lake     11   11  2012        Skier                     New Snow   \n",
       "4  Salt Lake     11   11  2012        Skier                       Facets   \n",
       "\n",
       "   Depth_inches  Vertical_inches     Aspect  Elevation_feet  \n",
       "0            14              360      North           10400  \n",
       "1            30             1200      North            9700  \n",
       "2            36             5400      North           10200  \n",
       "3            18             6000  Southeast           10200  \n",
       "4            42             9600      North           10400  "
      ]
     },
     "execution_count": 17,
     "metadata": {},
     "output_type": "execute_result"
    }
   ],
   "source": [
    "df_task_2b.head()"
   ]
  },
  {
   "cell_type": "markdown",
   "id": "8a92b8a9-c3a8-4a57-be3b-c9cdc977092c",
   "metadata": {
    "__GENERATED_DATAFRAMES__": "{\"nodeDataframes\":{},\"graphDataframes\":null}",
    "show_aggregate_original": "false",
    "trrack_graph": "ᯡ࠽䈌ʀ匦㢠⹰ೠ⬠沈֭⠸恍ff9昽䁮ۦ࠰汬നڀপ㈏䣹厠㬦ተ¶⡨⇱㌀ᅁ╶庳ୖ⹜簧ଭࠣ℠Έ橦औ䁅ШNႦ〡岁䏼ℭ㞁摞+㢱䨠Ԋ牠Έƕ٦枓቙ჿਸ旑䅠Ȅ恨戬പᎭె䝁净儬Ö᡻⌸䐱䘩׍宨⇓ࡱ䍲ච᫲壬จ䙤Ɲڣ圖⍞ᛡ৽ण䃔戋㘠传ϊ揿振䘌汣䓼㹮䘫㈨ቺ⩯↧ᄨXഉ⠅ㅖࢢ侸⇄僡ಖࡢҁ氣С宍劄倶䢡⍤㲂̤㚗٩䄀硂಩⍰琦ᦪ悑屾ᾨႨ㺜*瘪䋇޶⋤ᓘ犠䭳঺᥇⏰ᅠ  "
   },
   "source": [
    "## Task 3: Data Wrangling"
   ]
  },
  {
   "cell_type": "markdown",
   "id": "9da80393-7f4b-4115-a4d1-5b7978e11358",
   "metadata": {
    "__GENERATED_DATAFRAMES__": "{\"nodeDataframes\":{},\"graphDataframes\":null}",
    "show_aggregate_original": "false",
    "trrack_graph": "ᯡ࠽䈌ʀ匦㢠⹰â䂬ƀᶷ琶䁋c<搔怳ଚ䠳亡䈤㉕⁖ì⺇⊨攩ᐠ▨戰㑹㧒妰囇⃹喧㝞Ţ∠桠ûு䁔䈠ॢȠந㺸ᢀ盅⻿夣•晀樠Ԃ牠Έƕ稦❳ሪὦ䰼⇑䅠Ȅ恨㙎⌯᪴䶹䈁ℓ琡㙐ᮂ⢨᢬थ⧓ࡢ㌰ሚ璋U䳘䠵欯Т縔絭Sㄭۡ۹ण䉔悊㘠传ϒ橷挣⌏ⱡ䕼庮打㈨ɼ榨慢䃂॑瑐繦┭ڼ㾬⎂厃焸牘榥ᄨ䦯ඦ嘔㗆溄⒀擒摖≦၀ⶃ㧄మޢᄴ䩍རへ∦䯧焤愷䍠Žƀ夅შ㤙༾′⪂㵩掳婊⢄  "
   },
   "source": [
    "### **Task 3a: Creating and assigning 'Avalanche Season'**"
   ]
  },
  {
   "cell_type": "markdown",
   "id": "402412ae-3b84-4fec-9c01-94dd203a7b1f",
   "metadata": {
    "__GENERATED_DATAFRAMES__": "{\"nodeDataframes\":{},\"graphDataframes\":null}",
    "show_aggregate_original": "false",
    "trrack_graph": "ᯡ࠽䈌ʀ匦㢠⹰â䂬ƀᶷ琶䁋c<搔怳ଚ䠳亡䈤㉕⁖ì⺇⊨攩ᐠ▨戰㑹㧒妰囇⃹喧㝞Ţ∠桠ûு䁔䈠ॢȠந㺸ᢀ盅⻿夣•晀樠Ԃ牠Έƕ稦❳ሪὦ䰼⇑䅠Ȅ恨㙎⌯᪴䶹䈁ℓ琡㙐ᮂ⢨᢬थ⧓ࡢ㌰ሚ璋U䳘䠵欯Т縔絭Sㄭۡ۹ण䉔悊㘠传ϒ橷挣⌏ⱡ䕼庮打㈨ɼ榨慢䃂॑瑐繦┭ڼ㾬⎂厃焸牘榥ᄨ䦯ඦ嘔㗆溄⒀擒摖≦၀ⶃ㧄మޢᄴ䩍རへ∦䯧焤愷䍠Žƀ夅შ㤙༾′⪂㵩掳婊⢄  "
   },
   "source": [
    "Next, we'll introduce a new categorical variable named `Avalanche Season` into our dataset. This addition aims to classify each avalanche record into different parts of the avalanche season (Start, Middle, End) based on the month it occurred in.\n",
    "\n",
    "Create a new category `Avalanche Season` in the dataset and assign each record to `Start`, `Middle`, or `End` of the avalanche season based on its month."
   ]
  },
  {
   "cell_type": "markdown",
   "id": "86d54d80-ef52-4630-bffb-1e04d9320384",
   "metadata": {},
   "source": [
    "#### **Instructions**\n",
    "1. **Define Season Categories:**\n",
    "    - Based on typical avalanche seasons in Utah, create a new category called `Avalanche Season`.\n",
    "    - Add three options for this category -- `Start`, `Middle`, `End`.\n",
    "2. **Interactive Category Assignment:**\n",
    "    - Use Persist's interactive features to select each month and assign it to one of the `Avalanche Season` values (Start, Middle, End).\n",
    "    - You should use the following ranges for assigning proper categories:\n",
    "        - `Start` of Season for _October_, _November_, _December_\n",
    "    \t- `Middle` of Season for _January_, _February_, _March_\n",
    "    \t- `End` of Season for _April, May_, _June_\n",
    "3. **Verify the Output:**\n",
    "    - Print the head of the generated dataframe to verify the changes."
   ]
  },
  {
   "cell_type": "code",
   "execution_count": 18,
   "id": "63b62f4c-8841-4f6c-8011-cb2ee31c2c7b",
   "metadata": {
    "__GENERATED_DATAFRAMES__": "ᯡࠩ䃬࿀ᜤᠹ悋ᐬ推̅ሣ䧠ⶠ卍捯ᥔᠣ℠▢dʘϔᝠ捌〤瀵摠៨⠠ ",
    "__has_persist_output": true,
    "trrack_graph": "ᯡ࠽䈌ʀ匦㢠⹰Ǡଠ䰤熀㌡娐ୠ࣠ㆠ晒䗂䊡Ɽї哦∧㇆圲栠栁慿Cैkᑄᄉ夒઴囋⃹嗛᜾㺣䋤䀡傠ǒㅃʖ′䈤7ᆰᠠ湐愾Ⴅ墔癠˲⊅\"㯙အ嫮ᑡسᾢ䑡䊢䅐梁磴ⱒݕΣྡ䗢䃃㉱甜ဠ⻑䓵榄䠆ᦱ䊹癐⠠㲸ऴ⇨១⃁䖤峦{ౝ䦢∤挤䍯浄ၝ䐨䵨Ү怭㜺イ睂唠徃Ȓ眩䙯で⺍悶ビ笠➠ǹ瘀ণᄏ幀䤧䔁㢸⭒Ȧ䦄儬Ƣ।㉈䑣ᆁ㒺٤স਩Ǣ╤ⱈ䮧爈ᡌᩪ㣾俌䋱䃺枩惮ᢀᣟܰ⒲ᒺᆲ撒㲡⑱ᓪૌ攪禹壜⢶╲瓆⑦斒也ᱵᓨ狅⭷ᠺ⼠ࡂ䠠Ҁఠޗ櫨㩠ກ¥⾝‮⇶䆆ᠧ矴ê婼૓媼竐Ḕ寍垿䠶Ӣ㖴⿥৬簱ኢⓨ穎͠燎∪Ơ熑੐澳恰兝ར懊捛悗㥜㥆Πᆨ爵ͣ儸ᘻ০熘İ䉇঺四◳ⴚư澧偐ౝǠ䳆ᦤὔ⳺ᖤ㧖汀㶡撗峮㦨⦖嶎揑䜦䢀H圫䌝ި⨡ľ†ᗬϟ๛揮䦘㹿࠼忐ɀ䰴䓀ȧ㳒ే㲆Բ㢟忥䠠Ẳ䭜挩橞ῼ比⭦梠㎤֡⼢ա摗秔㡋握⡥֢㑖₰犲䁐ᠨ䊲ኦ䏰ሱᆀ塾ᢐ儼匀ਢ䂐癖ā䌯ۨ☥ს剁о旰Ҹᩂડ䥚✾㈴߁䃻ݔᵘᬊ❾㋚ཀྵ䆚ạ䪌ᾯ瀢⁾捸ᠷ˨礶奈۵⍖ഭ守仯№ㅔ援灴ℎ⣦᧦өᣆ㓣ᦆ∧ᰀ㳷6⋤塢兤ƥሶᰐ磣Ɇ擭ˆ樶ឆ峻ͅ䋸奘㌢探ု⥠䍤氊偙㋌筭歬㷮氊笢ƺ絞橚へ栘ᠽ檚潷様罤ᠫܦ暴᪤炽㍘優ሣ䕠昭ɖ㐴⌅瓦ʨ䒠娔ኮࢆⷔ墱烪宪噲⢒ᥭΒ祷䥊䊥⤪ൾ㠖ົ匔线䈬憾䃒ద㭬妡㡘◵ぞ㗣㨼㟼爎䤪烼㮣㌾叢祾㲖㋞箸捞犃㏞➫祲⼯砡⩜ࡤी䓠䡚猱塎⓼旾נ䵊䣓敄Ǖ՗ޫ籎㏉቞憱ှߩ喾ѫᒔⴞ⻂熩的ȱ溆⑋ђ䒠呇簀਩䇐碤䄰咳瓰⋝䀶㓳ᬶ稤偰儭䤁⭜㓹䁣恙❋惙䔾壈⛽⋖ⴣ嬈滠愎㪭探ధ㮽淗㑰緉䈽唤矦ᐼ白儺璆峃Ͻ瓆↪⷇㘍ψ瘷㏂矆㌃䃽䬞皊㫖≕曔毋〾栠妉ԡ橾忶۬ᐻۃጋ䛩嚇⛆⭕⬥哔䍀䛔⌰౳㶪䔡傆ۉ兂䣠䡌Ś㢞ڠᖚྫह䧓䭇孁㊼垴ଈ剶㍒呪ૂ䫵⟹㒠㥡儣ܤ᪮㸢恁䍠㢇᳀ࢬ䬡⑉䮂癞悃㜂掝敆ల㳐౭垮煠᪺㘵᯾⸩/枈窃籬朤⳸ׅ尪㦱ऻ⋖⮞㕶戈劂湜⤮冕䶤㦷᭡ᦅ䦒ᕖ玆剤䌠栤䃲ʐ࠭˄㊆㙤䆠⳦䂩⌨ᐱ≐࿸囏搜႗奧ᚒ᫡໪ҕṶ᷻ݡ㭞䎨㊒ՄÀᷨ㺥俠⟬籰̚瀵磿ᚧ彧皞嘢ᓕ悜倨紜㔛⹀⓰☕ၰ䯞ࠃ䡯斠⿦哕Ỉޱ儯㯧㔱珔㏢糳恔対㰽ᆘ䲴榠࿇⽪曄絃庁仔儣+ἡ米̂㑖䚔䃈眍㼉䮠ࢠ◪ጠ堣毟⭫坌璎㴌滇ⱼ淪畛䋙溬䆠嵄๐ㄼ峭恗撢࣡ケ哆冶ڎ♕溜ড়ʋⅤ榙⑌䷈㨅⢝旰埥Dᖰ☸勌᫅打䋄㣻䢪妠᫑ᒥᓶ夡⥒Ս⃟ⱘヸ↗ۨ由纈抠Ȣ℔ൡ簣僱ذ祒ℰ㉷傔⍠ન䨢⊃獠ᷬ⻨䏕䑈ᶃ墯ᆮ䴤燞⢼湖停ㄡ倮焔梣瓴䐹垂᨜ْ堢㋆❐楼⏰㑭䠩⪵ƴ⁣ᗩ⍀姦┢♹ͬ櫋䳾直အ璕ΐᴿ⥧喀ᗞ倠ԩ樕ñ笠Ӂ䵥䷁䬭㰽៝ᄤÐਙ⁎棂ഥ䚘捠淉扼ൡ廡䄤䍑⯁៬䖃䴿๞䒾㹉ᰲ楖縚ፇӄ⓬㻨䃁朦䢇ĸŠ懜琇ጅ偪ᢀ婖惍懆㰳䘧侬༵物䜓䢇晰䰅໺㔜ࡠ֬曱䳬沠嶁疸⎬У㡎ఆ殲䕒悍቞ⷘ‴ᅷ䇠山൥巳曲ᓍ壉⒟ἷ煩̀ถ≢⑵俄凄ྪ䢷Pᚲ䑙ƀẑ抓榶⥇娛傤版筠ᇴ㰹ࡤ৴ᡒ癣ప㣻囄႗䷨䰡ᡄ怨倁ỻ《Ⴊθ㇛摱燍ᢩ摲畞ᠤ䡊抐尩Ⴖԡ磴x涮搼༻૰⹋⠠༪✜䑴昆澭ࢉ偰柹⩉押㢳ࣹ㋣毿ɄȱྮȜ#甯↕澌䇹డч⊅歊旡斂懦拙㷫⎫㈒侰❷ࠪᔍ唔Ϙ懋㕃⦩璒⯈綏䩤澪௏⃉兘⪋噡㳤㞰⾹䚠塭瑢୉厸ᆃ᭍⃅怩灺ऑඇ₉嘂Ṏ巌箫橝㽱क珺挹䂑䁠ᚷᩕᯅ䳗㷣і卜ӂ┇♐澀㣶௬अ吻㐩ড恮Dᨤ暯猐⵿楒屓ὠ樠煷ඒ哬嫋碀㑙⠳ⷃ䎠㓚㡠ኃ懓㙎㗯㛻䧡滰秝偣佈䏯คࡨ瑞㟩僿䢁䁷ᷬῆ⃇㰊涕⾄ᕋ㪼榽ᠥ౑曋廛ᣁӈ汁䤌Უ䔺⭼ΰᢖ䖐稯屎⏑猗刂઩刏䶖䱇瑷巸㎚႖䞅崋㧜ㄨ±偀ᱵᱥ㣄ঽ⤦Ș଑楪Ὁ煞䊢ᶸ呶㋙㏰ᩫ▄ᾥ璼箁↵൅為华㉮࿢帬圼ዪ䲀㧒喾噮⮒⤆倮㸅燥搜左厲Ѐ༂疴ȋ䘪⤃仂䎉䁦绻ご㉭乨倹庫⼤睎矷漐㜲௾灈漛䓹怠离ⳛၖ卶䵷䠜ᗶ䑅Ɒ࿊㗊曋㏲嬍㗲•䆲ᨺ〽娲擏⢲޵枟䂖抠俊Ěݓ⸶í尒曊斫Ὕพ㜻ƋƢ祕䌚⿆竌嚰㛍掿棅Ǡ⠩婰◗ᆪ猸ދ岺ࣘߔ礣屣⾘㩠ʦ⧘甜嵖仱ᶽ翯篆㝦៘ခ爭↏ѹ⊼㾩௧ч吔硿㬃繠猟ㅚ潬ⳅǮጡ⶿㒄ձഠ⛡帴ࠀ㖙‾簵Ԗᜡ‿b眣ㅛ⃿⛪▣Ꮘჴ₦֦ԣ僰Ȅでู烦䙘喰䀛ⴻƒ懇⃐䣮䄦㏃㐂᣶⃬㖃だ㣠紜঩ژ䌠✕☳ㆠ杤䜳๊ⓤ䆄ளৠᓯⱘເ硘㓫⛚㕇㸤缨晆㈢ધ痢暶ᔮ㇚岲ᴖᘅ◛ᱯ摩昵ᷚဣ䁛䝏ᐢ⯧㓄ʞㄡ捾弉䍀᎛匵弍琩ᤡ㯣⩾ΐ䞧⯻憕炏g᯸ᇢԨ硧᏷⡙㒰ṻ甠嚃⍷⍪嵨⊳憠ո枿绕㞈ͺ絹圍ᙏ❫瞽࡙捀ܲ侲㣉䇀↫皩窊አጚषüÐ⻲曯櫁疤⯛竣湱眗᣹緡ỳㇻ㠪柨牐ᅠ⼰᭻䁋玸ᬙ⻹牻痛ʻ滷ഛ瑆∙ݬ䉇甽ᨘ⡲㬔ዟ͓斾㬗玆ኸ坭ฺ୳ᚥ⇴⚴痧ㅙᇾ䢴൧㐚塓ภ乽ᐛ㿼䐤琤婋]營矀䂂ᗸᢴ玤䰚槬⹾ҵⱀ㠩窩ҹᢠ栩Ʃለ扠猣Ŭצܢ♹䅊㌧༫⹦٪㒷♧◶䋢戜㳛䧹ਝ柉㌓嗣Ⳳ招ࠢ੄⊚皅ᦪ沲朆༮ⶹ䷡抮㋗㶥հᑮॠༀᩊmయቡ✭࠽ീ☃ࠧ儥䓜ä怨㇡焠⛇㕅冚侈䝢൛凝୔动ⵄ䂙ᐎ㛚你㠮剀毉倲團ϯ㎠㞡䅞䨭ݸ㚨┆䃬㗑࠶ᠴъᘠ䐾⡸ςࡸ㠮̘ʀ㣻ԧ库㍏֛搦ᇕ瘐籦Ʌ廥Ĩ枙Ꮸಫ௻㐪↷䒐ᙚ⛦偽㹗᝼➋湷㹧ဍ৤廬焿ᄛ㨙㻲缟ᛟϥ濱㫯ಟ⿧幔⻈伥㩄䧤Ⲛ༬焹ר伏ഠ倁Хpǩტ畧沩ɱ㸡ᢹ滂՞↪〫㒧䪲ὢ楗Ȕ઄梧嘱̔ѐ㸠⡍⅌൳⡆ㅟ櫤㊀癛呕㨟೤珧㡉䛦̃¦塡Ղੀ墤ᘨ♂㟘沧౏↲㌜倇ᑕ⇬䠢組⇻ℨ䴀摀㰸曆㇢禹╌愼哐睋泫撑提惊峤⩸֐湡ᠮᦉѬ犆升9伖ᚅ〧ᦙ䳈ᗄ损䖑в䂳Ә䃂⾬㢷㍗᧱䘴ᩤ᪣ᅹ২櫘垼擎剥।ڬ六⏋╧班剜䷈炈ち㊓⇔獦畍冧⒔坧൅樝ஔ僤柱大㕸繃䨻秇㖼ת⻽˛৛ឈ๏妝傜㏸䡭瘷഼痧༢㥀ڰ偈塡繠灼欅䣋煴䈘實⃝䇻䢤煙Ì嗠䵳㑇䅍ৌࣂ壐嫥ॐ䧼欅睓糼ㅡࠧ沜⇀ण屔䁍痤⻱ପ呈ࢦ჋罎䧼ᔷፄ◯▌䨶ⳙ㰫䨍⸄䫙ૣ⻦˷ತ弧Ҕ⦅̷奺晆狐佈ⷽ䔢冓ⷛ㔤璬䟶ᶡ⬶⧆盐巷祹朞⚈␀䈰妒⠲䊅ᓍ乂⽬媵稣◲⧢ဠ "
   },
   "outputs": [
    {
     "data": {
      "application/vnd.jupyter.widget-view+json": {
       "model_id": "91a6e942e741455f9354218719c49172",
       "version_major": 2,
       "version_minor": 0
      },
      "text/plain": [
       "PersistWidget(data_values=[{'__id_column': '1', 'Region': 'Salt Lake', 'Month': 11, 'Day': 9, 'Year': 2012, 'T…"
      ]
     },
     "execution_count": 18,
     "metadata": {},
     "output_type": "execute_result"
    }
   ],
   "source": [
    "select = alt.selection_interval(name=\"selector\", encodings=[\"x\"])\n",
    "\n",
    "chart = alt.Chart(df_task_2b, height=400, width=500).mark_bar().encode(\n",
    "    x=alt.X(\"Month:N\").sort([10, 11, 12, 1, 2, 3, 4, 5, 6, 7, 8 ,9]),\n",
    "    y=\"count()\",\n",
    "    opacity=alt.condition(select, alt.value(1), alt.value(0.2)),\n",
    "    tooltip=\"month(Month):N\"\n",
    ").add_params(select)\n",
    "\n",
    "PR.PersistChart(chart, data=df_task_2b, df_name=\"df_task_3a\")"
   ]
  },
  {
   "cell_type": "code",
   "execution_count": 19,
   "id": "ff68a03b-9161-4a90-a256-d029a6ddcc08",
   "metadata": {},
   "outputs": [
    {
     "data": {
      "text/html": [
       "<div>\n",
       "<style scoped>\n",
       "    .dataframe tbody tr th:only-of-type {\n",
       "        vertical-align: middle;\n",
       "    }\n",
       "\n",
       "    .dataframe tbody tr th {\n",
       "        vertical-align: top;\n",
       "    }\n",
       "\n",
       "    .dataframe thead th {\n",
       "        text-align: right;\n",
       "    }\n",
       "</style>\n",
       "<table border=\"1\" class=\"dataframe\">\n",
       "  <thead>\n",
       "    <tr style=\"text-align: right;\">\n",
       "      <th></th>\n",
       "      <th>Avalanche Season</th>\n",
       "      <th>Region</th>\n",
       "      <th>Month</th>\n",
       "      <th>Day</th>\n",
       "      <th>Year</th>\n",
       "      <th>Trigger</th>\n",
       "      <th>Weak Layer</th>\n",
       "      <th>Depth_inches</th>\n",
       "      <th>Vertical_inches</th>\n",
       "      <th>Aspect</th>\n",
       "      <th>Elevation_feet</th>\n",
       "    </tr>\n",
       "  </thead>\n",
       "  <tbody>\n",
       "    <tr>\n",
       "      <th>0</th>\n",
       "      <td>Start</td>\n",
       "      <td>Salt Lake</td>\n",
       "      <td>11</td>\n",
       "      <td>9</td>\n",
       "      <td>2012</td>\n",
       "      <td>Snowboarder</td>\n",
       "      <td>New Snow/Old Snow Interface</td>\n",
       "      <td>14</td>\n",
       "      <td>360</td>\n",
       "      <td>North</td>\n",
       "      <td>10400</td>\n",
       "    </tr>\n",
       "    <tr>\n",
       "      <th>1</th>\n",
       "      <td>Start</td>\n",
       "      <td>Salt Lake</td>\n",
       "      <td>11</td>\n",
       "      <td>11</td>\n",
       "      <td>2012</td>\n",
       "      <td>Skier</td>\n",
       "      <td>New Snow/Old Snow Interface</td>\n",
       "      <td>30</td>\n",
       "      <td>1200</td>\n",
       "      <td>North</td>\n",
       "      <td>9700</td>\n",
       "    </tr>\n",
       "    <tr>\n",
       "      <th>2</th>\n",
       "      <td>Start</td>\n",
       "      <td>Salt Lake</td>\n",
       "      <td>11</td>\n",
       "      <td>11</td>\n",
       "      <td>2012</td>\n",
       "      <td>Skier</td>\n",
       "      <td>Facets</td>\n",
       "      <td>36</td>\n",
       "      <td>5400</td>\n",
       "      <td>North</td>\n",
       "      <td>10200</td>\n",
       "    </tr>\n",
       "    <tr>\n",
       "      <th>3</th>\n",
       "      <td>Start</td>\n",
       "      <td>Salt Lake</td>\n",
       "      <td>11</td>\n",
       "      <td>11</td>\n",
       "      <td>2012</td>\n",
       "      <td>Skier</td>\n",
       "      <td>New Snow</td>\n",
       "      <td>18</td>\n",
       "      <td>6000</td>\n",
       "      <td>Southeast</td>\n",
       "      <td>10200</td>\n",
       "    </tr>\n",
       "    <tr>\n",
       "      <th>4</th>\n",
       "      <td>Start</td>\n",
       "      <td>Salt Lake</td>\n",
       "      <td>11</td>\n",
       "      <td>11</td>\n",
       "      <td>2012</td>\n",
       "      <td>Skier</td>\n",
       "      <td>Facets</td>\n",
       "      <td>42</td>\n",
       "      <td>9600</td>\n",
       "      <td>North</td>\n",
       "      <td>10400</td>\n",
       "    </tr>\n",
       "  </tbody>\n",
       "</table>\n",
       "</div>"
      ],
      "text/plain": [
       "  Avalanche Season     Region  Month  Day  Year      Trigger  \\\n",
       "0            Start  Salt Lake     11    9  2012  Snowboarder   \n",
       "1            Start  Salt Lake     11   11  2012        Skier   \n",
       "2            Start  Salt Lake     11   11  2012        Skier   \n",
       "3            Start  Salt Lake     11   11  2012        Skier   \n",
       "4            Start  Salt Lake     11   11  2012        Skier   \n",
       "\n",
       "                    Weak Layer  Depth_inches  Vertical_inches     Aspect  \\\n",
       "0  New Snow/Old Snow Interface            14              360      North   \n",
       "1  New Snow/Old Snow Interface            30             1200      North   \n",
       "2                       Facets            36             5400      North   \n",
       "3                     New Snow            18             6000  Southeast   \n",
       "4                       Facets            42             9600      North   \n",
       "\n",
       "   Elevation_feet  \n",
       "0           10400  \n",
       "1            9700  \n",
       "2           10200  \n",
       "3           10200  \n",
       "4           10400  "
      ]
     },
     "execution_count": 19,
     "metadata": {},
     "output_type": "execute_result"
    }
   ],
   "source": [
    "df_task_3a.head()"
   ]
  },
  {
   "cell_type": "markdown",
   "id": "36e82a42-5f2f-44e1-b9a5-2e2d403b2ff3",
   "metadata": {},
   "source": [
    "## **Task 3b: Analyzing Top Avalanche Trigger by Season**"
   ]
  },
  {
   "cell_type": "markdown",
   "id": "af40bad3-436e-426c-a02f-f205597e90b5",
   "metadata": {},
   "source": [
    "Now we'll analyze which trigger is most prevalent for avalanches in each season phase (Start, Middle, End) using the `Avalanche Season` category created in Task 3a."
   ]
  },
  {
   "cell_type": "markdown",
   "id": "72455a32-623b-4b87-87d6-ca9c8ebf19e7",
   "metadata": {},
   "source": [
    "#### **Instructions**\n",
    "1. **Context:**\n",
    "    - We have a facted bar chart. The `x` axis encodes the `Trigger` column in the data and the columns encode the newly added category `Avalanche Season`.\n",
    "2. **Analyze Trigger Data:**\n",
    "    - Observe the most common trigger for each season.\n",
    "    - You can hover on the bars to get the exact frequency.\n",
    "3. **Document Findings:**\n",
    "    - Note down the most common trigger for each season based on your interactive analysis in the markdown cell."
   ]
  },
  {
   "cell_type": "code",
   "execution_count": 20,
   "id": "07df4379-6e5e-4bcc-a878-7457f7baba16",
   "metadata": {
    "__GENERATED_DATAFRAMES__": "ᯡࠣ䅬Ԁ朤壠ᜣ琢〹夤゠⹰〮⁁䁻қ䚾ኊ㇠നСࠩ瀮晼Ƭ穅5愠៤⠠ ",
    "__has_persist_output": true,
    "trrack_graph": "ᯡ࠽䈌ʀ匦㢠⹰໠ጠⰸ࣠䚏〶䶠噔刱䴠昡妨಍㝢͐獛ِі倧Բ⠠䭈⑁棑瀶ፁ╮凓ᬮ㑽㰥С傠Ǒ監߂′䈤7ࡽᠠ湐懎Ⴇ᫓㈡䀥䑾吠❧ሠ᭠ோ号嬹ဠ೚٠佅䘪/ጢ⌀傂㇔繡⭍ᜭɫ倥壢ⲙ䉀Ṑ␵㋤℡䱣܋がö㊾㾷⑔ါ痳畗⢘ಶі硨ั匣Ⳑʘ<䭎漸̷ⶂɄ焓夐䶰₂ॼ఺م஠憀ー祈ౙ䈾⭖԰䚫䀢㦐樬≡䂎灧䫐汄ӏಱ¦⑨戧硌杄䦡成≉๤傈穖ӡㇸ㱦䟤࡜ؠଏ爤䜷੭䛨碥Ⴜ劲横⭨䔠 "
   },
   "outputs": [
    {
     "data": {
      "application/vnd.jupyter.widget-view+json": {
       "model_id": "0f3d638cba024cb68f481dc5a989768f",
       "version_major": 2,
       "version_minor": 0
      },
      "text/plain": [
       "PersistWidget(data_values=[{'__id_column': '1', 'Avalanche Season': 'Start', 'Region': 'Salt Lake', 'Month': 1…"
      ]
     },
     "execution_count": 20,
     "metadata": {},
     "output_type": "execute_result"
    }
   ],
   "source": [
    "NEW_COLUMN = \"Avalanche Season\"\n",
    "\n",
    "chart = alt.Chart(df_task_3a).mark_bar().encode(\n",
    "    x=\"Trigger:N\",\n",
    "    y=\"count():Q\",\n",
    "    color=alt.Color(f\"{NEW_COLUMN}:N\").sort([\"Start\", \"Middle\", \"End\"]),\n",
    "    column=alt.Column(f\"{NEW_COLUMN}:N\").sort([\"Start\", \"Middle\", \"End\"]),\n",
    "    tooltip=\"count()\"\n",
    ")\n",
    "\n",
    "PR.PersistChart(chart)"
   ]
  },
  {
   "cell_type": "markdown",
   "id": "00e87acd-3759-49eb-9e43-d7793672297c",
   "metadata": {},
   "source": [
    "**Task 3b Notes:**\n",
    "\n",
    "- Most common Trigger for `Start` of the season: _name_ (_count_) Natural\n",
    "- Most common Trigger for `Middle` of the season: _name_ (_count_) Skier\n",
    "- Most common Trigger for `End` of the season: _name_ (_count_) Natural"
   ]
  }
 ],
 "metadata": {
  "__CATEGORIES_META__": "{\"categories\":{\"Avlanche Season Phase\":{\"name\":\"Avlanche Season Phase\",\"options\":{\"_None\":{\"name\":\"None\"},\"Start\":{\"name\":\"Start\"},\"Middle\":{\"name\":\"Middle\"},\"End\":{\"name\":\"End\"}}}},\"activeCategoryName\":\"Avlanche Season Phase\"}",
  "__persist_keys_record": [
   "__GENERATED_DATAFRAMES__",
   "__persist_nb_uuid__",
   "trrack_graph",
   "show_aggregate_origin"
  ],
  "__persist_nb_uuid__": "36dba505-c931-454f-af6c-30e8cfb51ac2",
  "kernelspec": {
   "display_name": "Python 3 (ipykernel)",
   "language": "python",
   "name": "python3"
  },
  "language_info": {
   "codemirror_mode": {
    "name": "ipython",
    "version": 3
   },
   "file_extension": ".py",
   "mimetype": "text/x-python",
   "name": "python",
   "nbconvert_exporter": "python",
   "pygments_lexer": "ipython3",
   "version": "3.8.16"
  }
 },
 "nbformat": 4,
 "nbformat_minor": 5
}
