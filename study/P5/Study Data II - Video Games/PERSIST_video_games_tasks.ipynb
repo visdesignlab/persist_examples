{
 "cells": [
  {
   "cell_type": "markdown",
   "id": "522fcbb3-702c-4ea0-91d9-f3b0e71690fc",
   "metadata": {
    "__GENERATED_DATAFRAMES__": "{\"nodeDataframes\":{},\"graphDataframes\":null}",
    "show_aggregate_original": "false",
    "trrack_graph": "ᯡ࠽䈌ʀ匦㢠⹰àᦴ΀࣪ʐ怶䦠挠᱊ࠥ䁁䂖㚥煤晬փ⊪ĸ暂䙠঳ैkᑄᄈ妐ଷᓋ⃩䖻Ṯ溜Φ䐡傠Ǒ団Қ′䈤7ࡣᠠ湐戎Ⴆ寐爤䀥屨攠ʕ㥀ǔÚ䍃㏙䤥ࢂ┩勸惀Ēいཆ༠೥∁∀秸㲅䌠ⶬᛦ䙂ǃɡ殍戰泤ᒁ嬦怭㋉匥穃ᄠ彣჻⴦䉫ぢ睤䄁ⵐۻG䀡曑砑䂱竖ᄂ㜿Ꭽ˹ȩᚱ凁兘㑐Ṣ༩Ẻ䳥⑆憰棨忞⍧攈堽Ī僰὆揖䦲ᡊ⛓౱নఱ姼ᤦΧ您別൧儸晋Ǣ熘繀䉁硨K塊়ṹᜰ倳䪂ⵦ⚈ᒽ᪺ᆬ䀠 "
   },
   "source": [
    "# Analyzing Video Games Across Genres"
   ]
  },
  {
   "cell_type": "markdown",
   "id": "19cb3971-5981-474c-8250-7981c7c9cc8a",
   "metadata": {
    "trrack_graph": "ᯡ࠽䈌ʀ匦㢠⹰ૠܠ昢〽䂆౐׀ৣfL⍉ျ⥒⠡䒙¬ᧇ峕搢ಒ嫒┠অҤᵖ㹢晴㘉ᦳㄍ毿䡨墠ᨰV䆼ガ搢⡠䀢焨㌠෦ౝ戰殖๠ᠠ塩ೀn坄V䀷⢄㚗᥂夬ು䅻ఴ>☤䝃傳狱⊔㳜ੁ䀶挫㐷ࢢӡჵ嬩іㄪᢉ懐ͻ䬥䇽ࣨ䁏僿峱䐰㋸ᇻ兀㡆䱍㛠਀ⲛ粀೽疨һ䟩桁㙡Ũ昙ˢ䧮ᄪᆽ䥢ᅅᄁẩ㱸౮ᐶޣ先ఽЃⵖᥒ⌥▶懜ᩑƢ᭛䭄憐ɑ٦⦈䙓ǂ炘㸠䱅࢜ؠଌથ䜯๡䙉夊᜶僑汢㭢☈₁䠠 "
   },
   "source": [
    "**Participant ID:**  \n",
    "\n",
    "**Date / Time:**"
   ]
  },
  {
   "cell_type": "markdown",
   "id": "ceac0d48-2820-4532-bfd2-adf6533d7a2d",
   "metadata": {},
   "source": [
    "# Introduction\n",
    "Welcome to our data analysis study. For this study, you'll be working with a dataset sourced [Corgis Datasets Project](https://corgis-edu.github.io/corgis/).\n",
    "\n",
    "The data was originally published in the publication [“What makes a blockbuster video game? An empirical analysis of US sales data.” Managerial and Decision Economics](https://researchportal.port.ac.uk/en/publications/what-makes-a-blockbuster-video-game-an-empirical-analysis-of-us-s) by Dr Joe Cox. \n",
    "\n",
    "The dataset has information about the sales and playtime of over a thousand video games released between 2004 and 2010. The playtime information was collected from crowd-sourced data on [\"How Long to Beat\"](https://howlongtobeat.com/)."
   ]
  },
  {
   "cell_type": "markdown",
   "id": "68491102-96aa-4701-8134-d998c80ae04b",
   "metadata": {},
   "source": [
    "- You will use an extension called PersIst to complete **data cleanup and manipulation** tasks. \n",
    "- Interactive charts and tables have been pre-created for your convenience. These can be directly utilized by running the corresponding cells.\n",
    "- Focus on leveraging the interactive capabilities of Persist for your analysis.\n",
    "- Carefully follow the step-by-step instructions provided for each task.\n",
    "- In some cases, you will be asked to document your findings. Please do this in writing in a markdown cell.\n",
    "- As you work through the tasks, take note of any interesting findings or challenges with the software or pandas that you may encounter, either by speaking your thoughts out loud or taking notes in a markdown cell.\n",
    "- Feel free to add new code and markdown cells in the notebook as necessary to complete the tasks, but please do attempt the tasks with the PersIst functionality."
   ]
  },
  {
   "cell_type": "code",
   "execution_count": null,
   "id": "9337796b-21e8-4c8c-bbbd-3076a775d03b",
   "metadata": {},
   "outputs": [],
   "source": [
    "import helpers as h\n",
    "import pandas as pd\n",
    "import altair as alt\n",
    "\n",
    "import persist_ext as PR"
   ]
  },
  {
   "cell_type": "markdown",
   "id": "dd81aecd-eebf-4624-b9e2-3a864c474c1d",
   "metadata": {
    "__GENERATED_DATAFRAMES__": "{\"nodeDataframes\":{},\"graphDataframes\":null}",
    "show_aggregate_original": "false",
    "trrack_graph": "ᯡ࠽䈌ʀ匦㢠⹰Ҁ̡䘠烠嘢త〫‥侴ᓬᛞ拐ৡ䚂ద抭婈ހڅྯ䌲⠠䭈⑁槑焳Ⴥ⩦仃㍶๽㰥Ҩǁ#㟢䌰橠ኤРᜰ͐üメ湁˛㾄ָ̠憴)挄䀦栢琭ٮ㍄ᨡ䌤ᾣㆢ䀣擠䢤㘦Sᥧᡠ戂怡ᠬÖᠻ㹈䐿ة׉妨⃓ࢱ̴㖠᫲徤ฏѤƜڣ回㸦ۡ৵ण䃔戊㘠传ϊ緯挡䘌污䕽庮粓㈨ɪⷠ搃猄ᦨ洘㳌ᤪ̪౦繶ሱ澂䘣⁑Ҝഭ炍孉ृÅ⭱䤾ᢠ䆋෭ኀ㠢Ү≱呺Ấ惑汮ᮯ戩䊏̠˙Ɂ⧽憳㈒ṉⅱਊ⥋⃆瑀⣨  "
   },
   "source": [
    "## Data Description\n",
    "\n",
    "The table below describes the different columns in the dataset. Each row in the dataset represents a video game.\n",
    "\n",
    "| Column        | Description                                                                                                                                                           |\n",
    "|---------------|-----------------------------------------------------------------------------------------------------------------------------------------------------------------------|\n",
    "| Title         | Full title of the game.                                                                                                                                               |\n",
    "| Max Players   | The maximum number of players that can play this game.                                                                                                                |\n",
    "| Multiplatform | Whether this game is available on multiple platforms.                                                                                                                 |\n",
    "| Online        | Whether this game supports online play.                                                                                                                               |\n",
    "| Genres        | The main genre that this game belongs to.                                                                                                                             |\n",
    "| Licensed      | Whether this game was based off a previously licensed entity.                                                                                                         |\n",
    "| Publishers    | The publishers who created this game.                                                                                                                                 |\n",
    "| Review Score  | A review score for this game, out of 100.                                                                                                                             |\n",
    "| Re-release    | Whether this game is a re-release of an earlier one.                                                                                                                  |\n",
    "| Year          | The year that this game was released.                                                                                                                                 |\n",
    "| Comp_Time_All | The median time that players reported completing the game in any way, in hours.                                                                                       |\n",
    "| Comp_Time_Main| The median time that players reported completing the main game storyline, in hours.                                                                                   |"
   ]
  },
  {
   "cell_type": "code",
   "execution_count": null,
   "id": "8d0e426c-89a0-4813-8994-65ebba3f3a25",
   "metadata": {},
   "outputs": [],
   "source": [
    "df = pd.read_csv('video_games.csv')\n",
    "df.head()"
   ]
  },
  {
   "cell_type": "markdown",
   "id": "7cc10d2b-9b1e-46f4-9769-b9a0ac0c9e8f",
   "metadata": {
    "__GENERATED_DATAFRAMES__": "{\"nodeDataframes\":{},\"graphDataframes\":null}",
    "show_aggregate_original": "false",
    "trrack_graph": "ᯡ࠽䈌ʀ匦㢠⹰ૠ㌬Ā჻R〶䁃lyٹ⁓f䍐ۢ䧪㈉◔ฅޡ䨲⠠䬱䑁棒瀱Ⴭ⭱妻ݎẜʤ䐡傠ǖ悃РኤРᜰ結üメ浪巟㈠ᣠˬ⃪$熒‣㐡㬚͇⦲༿⸂໡壡‡犀⒂ଠᎭॣ䥡⊃㡹稠嬸ූᑤඦҡ哹䑀妨䤝͕䀺慽䈩瞤∡㼚ƶ嵖᯦悡檩ǣ᪀畖o#䖊⠃ܑ璌⃥⹾䞌᧒Т⺈ᆡ⇳㴑䒤㒌ŭ᯸丈◡戱⃰潅Ԧ秐噑๦磜疶溂⒀ᒪ扖⋦ူⶃ㧄మྡྷშ⨭རㅸ瘭ǅ爘䅐䘆砠址䑂㥨㈼㹯䕈䓵ᒹ憴婊③ᤠ "
   },
   "source": [
    "# Task 1: Column Names and Data Types\n",
    "\n",
    "In the first task we will perform some basic data cleaning operations to get our dataset ready for further tasks."
   ]
  },
  {
   "cell_type": "markdown",
   "id": "8934b219-dd97-4e3e-9aa9-0dd7a9d62ad5",
   "metadata": {
    "__GENERATED_DATAFRAMES__": "{\"nodeDataframes\":{},\"graphDataframes\":null}",
    "show_aggregate_original": "false",
    "trrack_graph": "ᯡ࠽䈌ʀ匦㢠⹰ૠ㬠氤〥䌸瀶䀹䁣๲ৠܦᔨҀᣴ䂼䋃‣ᓆ做►䀳ല⠠䭈⑁槑瀱ᝉ⍮冫㭮ẜʦ䒠ǁ#㕀挸晠ኤРᝣၐüムṁǟ㤉䀥䉸攠ʓ㥀ǔÚ⎃஥䤫䒄攭ᇸ惀Ēいᘦᖠೣ䗫⃂変ⱦ{ఽ咼∪⌤䋵汄ჹ䑈冣ᛠඉⵆܔ⍂Þ⍡歹ম悩溩Ǡ媁疖o#䖓瀃ʅ璌⁅溮杲◒Ъ⍁䔶户ࣉⓢ削౐䘰䵥䌂んḸئԢ灐糕൤㧶ⶬ䲱䅲ᗈ撯ౠ惍䈅䥐属ѣ၈⩍སヸ๗௧焤ᄸ䒰Ž䅰䔉燩壥༲刳樲⭮✈咰ᒄ  "
   },
   "source": [
    "### Task 1a: Remove Columns"
   ]
  },
  {
   "cell_type": "markdown",
   "id": "47b531d4-2e3a-4e9a-b92a-39aebfc3deb6",
   "metadata": {
    "__GENERATED_DATAFRAMES__": "{\"nodeDataframes\":{},\"graphDataframes\":null}",
    "show_aggregate_original": "false",
    "trrack_graph": "ᯡ࠽䈌ʀ匦㢠⹰ૠ㬠氤〥䌸瀶䀹䁣๲ৠܦᔨҀᣴ䂼䋃‣ᓆ做►䀳ല⠠䭈⑁槑瀱ᝉ⍮冫㭮ẜʦ䒠ǁ#㕀挸晠ኤРᝣၐüムṁǟ㤉䀥䉸攠ʓ㥀ǔÚ⎃஥䤫䒄攭ᇸ惀Ēいᘦᖠೣ䗫⃂変ⱦ{ఽ咼∪⌤䋵汄ჹ䑈冣ᛠඉⵆܔ⍂Þ⍡歹ম悩溩Ǡ媁疖o#䖓瀃ʅ璌⁅溮杲◒Ъ⍁䔶户ࣉⓢ削౐䘰䵥䌂んḸئԢ灐糕൤㧶ⶬ䲱䅲ᗈ撯ౠ惍䈅䥐属ѣ၈⩍སヸ๗௧焤ᄸ䒰Ž䅰䔉燩壥༲刳樲⭮✈咰ᒄ  "
   },
   "source": [
    "Remove the following columns to streamline the dataset for further analysis:\n",
    "\n",
    "- **_Re-release?:_** Boolean flag indicating if the game was a new release or a re-release.\n",
    "- **_Comp_Time_All:_** Average of all other completition times, we will use one of the others directly"
   ]
  },
  {
   "cell_type": "markdown",
   "id": "aec9ad2a-ab09-4288-b8fa-2852bcddda1a",
   "metadata": {},
   "source": [
    "#### **Instructions**\n",
    "1. **Column Removal:**\n",
    "\t- Use the interactive table feature in PersIst to remove the specified columns.\n",
    "3. **Verify the Output:**\n",
    "\t- Print the head of the generated dataframe to verify the changes."
   ]
  },
  {
   "cell_type": "code",
   "execution_count": null,
   "id": "8e333ff3-cb24-430b-a332-733b41570ba4",
   "metadata": {
    "__has_persist_output": true,
    "editable": true,
    "slideshow": {
     "slide_type": ""
    },
    "tags": []
   },
   "outputs": [],
   "source": [
    "PR.PersistTable(df, df_name=\"df_task_1a\")"
   ]
  },
  {
   "cell_type": "code",
   "execution_count": null,
   "id": "e75de3f8-1986-4b7a-9642-2f720525a2db",
   "metadata": {},
   "outputs": [],
   "source": [
    "df_task_1a.head()"
   ]
  },
  {
   "cell_type": "markdown",
   "id": "36c62d50-9c88-4ed9-8c97-e552a6e4c620",
   "metadata": {},
   "source": [
    "### Task 1b: Fix Column Names"
   ]
  },
  {
   "cell_type": "markdown",
   "id": "ab8f8f24-afd2-424f-ab34-3e3cde723aa3",
   "metadata": {
    "trrack_graph": "ᯡ࠽䈌ʀ匦㢠⹰ࢀㆪこ<ǐʀ୥崡汤Ɓ䔠⍂⠨撂䂼ì债晶堪慯掩ᐠ▴ሰ璹㤨䮲减ⓥ䢧᜾㺣䉠ð䀡壅冨㕀ॢȠ௞䠸ᢀ眰䅽忖䀢晐樠Ԃ牠ΈƔڦ❓ሠƠ暬ॡ声Ȅ恨䙜⬮ಬ俨⫣䞐డ㙐᬴⣔䰲ճ㌰䊆၂۔欠㖹┰᧶༨̘ඛฌ琻ɋ㉄ܠ榡哸Ŝ.ؗ⾬ള勑̵㯺ᱱ曨ဩᒡᾪ३⁂惡৒ј⪖ᩋࢶ䥣䍢ᇃ⢀☾ԣ䖎㑝䳓ⳄⓀ᪱ĦҐ戤׌㝔䆦成扉ڠ凈㨣ೣㅘ湏Bࡤ䒠ଈତޗ٩䟨㣜㥨◈ᩲ㭡⟢䀠 "
   },
   "source": [
    "It looks like our dataset header went wrong when reading the file and some column headers end with a `?`. **Please remove the question marks from all headers**. "
   ]
  },
  {
   "cell_type": "markdown",
   "id": "63f4d5c5-9383-4857-beae-0cfa6ba466f2",
   "metadata": {},
   "source": [
    "#### **Instructions**\n",
    "1. **Rename Columns:**\n",
    "    - Use the interactive  table in Persist to correct the column names by removing the trailing `?` from their names:\n",
    "        - _Licensed?_ → _Licensed_\n",
    "        - _Multiplatform?_ → _Multiplatform_\n",
    "        - _Online?_ → _Online_\n",
    "2. **Verify the Output:**\n",
    "\t- Print the head of the generated dataframe to verify the changes."
   ]
  },
  {
   "cell_type": "code",
   "execution_count": null,
   "id": "b7027112-7291-4136-926e-a4c06c7de200",
   "metadata": {
    "__has_persist_output": true
   },
   "outputs": [],
   "source": [
    "PR.PersistTable(df_task_1a, df_name=\"df_task_1b\")"
   ]
  },
  {
   "cell_type": "code",
   "execution_count": null,
   "id": "6127fc95-28b5-437a-a946-e8097c40bac2",
   "metadata": {},
   "outputs": [],
   "source": [
    "df_task_1b.head()"
   ]
  },
  {
   "cell_type": "markdown",
   "id": "3875e7fc-ec40-4241-aa94-87b31e59944f",
   "metadata": {},
   "source": [
    "## Task 1c: Correcting Data Type of 'Max Players'"
   ]
  },
  {
   "cell_type": "markdown",
   "id": "7a7eebda-1b60-4bff-89d3-a5548a601b49",
   "metadata": {},
   "source": [
    "There is a data type issue in `Max Players` column of our dataframe. The column is a category column and should have the pandas dtype of `category`."
   ]
  },
  {
   "cell_type": "code",
   "execution_count": null,
   "id": "fb9bff61-9a8d-4114-97f3-4f6d0cd0e61e",
   "metadata": {},
   "outputs": [],
   "source": [
    "df_task_1b.dtypes"
   ]
  },
  {
   "cell_type": "markdown",
   "id": "b23913ac-ea3c-4ca1-8ac3-07d3026ca76e",
   "metadata": {
    "__GENERATED_DATAFRAMES__": "{\"nodeDataframes\":{},\"graphDataframes\":null}",
    "show_aggregate_original": "false",
    "trrack_graph": "ᯡ࠽䈌ʀ匦㢠⹰ೠ↺΀Ơ瘢ᠢᠫ‵䁇ፉ䐢怣侽振ၑ䶃᪰঵䂆⹉多䪲┠অҤᴶṂ㊵嘊᭓ㄅ毠㒰䣑Tဠ㚉҃೨ɰ䂠̂҆;䘸Ϥၗ眼䋐Ð䬹†于␠㚠ᝨ沂烒⎁൸憈㬸ᐠṬү䓧Ⴠ椓ᣘ⌚ᆠᛦކ䜱ǁ䅀㖖नຂᩈ桫〦塵偢㶱⢠⾱䂅埦䖃塀㪂ₐ暸ᵽ䀳怠煼砤慸㴻ࠩ㯏姭ঌ䄢䣫䧙㱈刱ㄿᬦ䩫⏃㌱楫磤ⰴຣα晼ਫ䎁㺕䮃Ⴤご䖂᥂挰ы゙㈬ܠ₰ᑊІ僑汮ޯ戩䉱៪怡⹁ᡤ甑擸抯॰ᡬᅓ╄璚╄㈠ "
   },
   "source": [
    "#### **Instructions**\n",
    "1. **Convert `Max Players` column to category:**\n",
    "    - Use the column header to switch data type of the `Max Players` column.\n",
    "2. **`Edit Categories` pop-up:**\n",
    "    - Inspect the `Edit Categories` pop-up in the toolbar. Look for any redundant categories (e.g. both `1` and `1P`)\n",
    "3. **Edit and Correct Entries:**\n",
    "    - Search for the cells having the redundant option using the search box.\n",
    "    - Edit the cells to remove the trailing `P` (e.g. `1P` to `1`)\n",
    "3. **Verify the Output:**\n",
    "\t- Print the head of the generated dataframe to verify the changes.\n",
    "    - Also print the dtypes of the dataframe"
   ]
  },
  {
   "cell_type": "code",
   "execution_count": null,
   "id": "84bd3f29-2697-4f40-ab16-27f6540912aa",
   "metadata": {
    "__has_persist_output": true
   },
   "outputs": [],
   "source": [
    "PR.PersistTable(df_task_1b, df_name=\"df_task_1c\")"
   ]
  },
  {
   "cell_type": "code",
   "execution_count": null,
   "id": "e1c8ce26-edbe-42ff-9873-295e91676312",
   "metadata": {},
   "outputs": [],
   "source": [
    "df_task_1c.dtypes"
   ]
  },
  {
   "cell_type": "markdown",
   "id": "753ed0a8-dc0b-4ac8-8afd-b554ea8f4d28",
   "metadata": {},
   "source": [
    "# Task 2: Filtering data\n",
    "\n",
    "In Task 2, we further improve our data by removing outliers and removing certain records to have more consistent data. "
   ]
  },
  {
   "cell_type": "markdown",
   "id": "7f25d8f5-98e8-4b0f-9358-ed85f77cbed8",
   "metadata": {},
   "source": [
    "## **Task 2a: Remove Outliers**"
   ]
  },
  {
   "cell_type": "markdown",
   "id": "ac53a605-2d10-4457-9625-70ce88f04f3b",
   "metadata": {},
   "source": [
    "In this task, we address data accuracy by filtering out anomalies in the completion time for the main story of game. We observe some records with negative values for completion time, which is obviously incorrect data.\n",
    "\n",
    "**Remove records with negative completion time.**"
   ]
  },
  {
   "cell_type": "markdown",
   "id": "664c641e-1193-4233-8897-0161f209c86f",
   "metadata": {},
   "source": [
    "#### **Instructions**\n",
    "1. **Identify and Remove Anomalies:**\n",
    "    - Interactively select data points negative value for `Comp_Time_Main`.\n",
    "    - Use Persist's interactive features to remove these anomalous records.\n",
    "2. **Verify the Output:**\n",
    "    - Print the head of the generated dataframe to verify the changes."
   ]
  },
  {
   "cell_type": "code",
   "execution_count": null,
   "id": "9f84d347-8ce1-48d8-84a9-478d7eae3bd6",
   "metadata": {
    "__has_persist_output": true
   },
   "outputs": [],
   "source": [
    "PR.plot.scatterplot(df_task_1c, \"Comp_Time_Main:Q\", \"Review Score:Q\", df_name=\"df_task_2a\")"
   ]
  },
  {
   "cell_type": "code",
   "execution_count": null,
   "id": "6a6c923e-e9d8-4bc6-8a62-c7432a355205",
   "metadata": {},
   "outputs": [],
   "source": [
    "df_task_2a.head()"
   ]
  },
  {
   "cell_type": "markdown",
   "id": "b447b862-90c6-4ed7-b48b-baa1cf74ac2d",
   "metadata": {
    "__GENERATED_DATAFRAMES__": "{\"nodeDataframes\":{},\"graphDataframes\":null}",
    "show_aggregate_original": "false",
    "trrack_graph": "ᯡ࠽䈌ʀ匦㢠⹰࣠✴ƀචآ൐ୠᣠ⭎¸䚀ᶥ<⋵攴≲䦆ᨐ҅䁲䥈kᑄᄈ夒ર囇⣹嗛➎帣ᢤ䀡傠Ǘ熠㥀ॢȠா䠸ᢀ㜰䁾巒•橀樠Ꮃ䤠ව׷核ᱬ䣘紲₞૦Ԡ޳ŀ凐栠晬╍ಲ䖽䂇栢沀團ᄰ㸸ሪ喊Ⴇ♁䐔粶ᦞΎ刺ࠥ簉窺簲ᖢොሧ҉䃵ⰡḠޅ毗䘤䗾墥୚渍磆搰㣄䆯䌭䊣ᎄ䢩妈䪑䴹ҩ䋫◂რ⢒ઉ⃁⽌囦媍ኘ垤䢠䍤⒂Йᘷ੡䄀҂Ქ⃱琿啡憐㲞ၯ䌨焠ᗿ搫໎㒫ல熪Ņ⎃ऺᥛ⃄ᅠ  "
   },
   "source": [
    "## Task 2b: Filtering Out Old Data"
   ]
  },
  {
   "cell_type": "markdown",
   "id": "c86b30d4-4762-4bc0-bfd3-6f1486b55ad6",
   "metadata": {
    "__GENERATED_DATAFRAMES__": "{\"nodeDataframes\":{},\"graphDataframes\":null}",
    "show_aggregate_original": "false",
    "trrack_graph": "ᯡ࠽䈌ʀ匦㢠⹰࣠✴ƀචآ൐ୠᣠ⭎¸䚀ᶥ<⋵攴≲䦆ᨐ҅䁲䥈kᑄᄈ夒ર囇⣹嗛➎帣ᢤ䀡傠Ǘ熠㥀ॢȠா䠸ᢀ㜰䁾巒•橀樠Ꮃ䤠ව׷核ᱬ䣘紲₞૦Ԡ޳ŀ凐栠晬╍ಲ䖽䂇栢沀團ᄰ㸸ሪ喊Ⴇ♁䐔粶ᦞΎ刺ࠥ簉窺簲ᖢොሧ҉䃵ⰡḠޅ毗䘤䗾墥୚渍磆搰㣄䆯䌭䊣ᎄ䢩妈䪑䴹ҩ䋫◂რ⢒ઉ⃁⽌囦媍ኘ垤䢠䍤⒂Йᘷ੡䄀҂Ქ⃱琿啡憐㲞ၯ䌨焠ᗿ搫໎㒫ல熪Ņ⎃ऺᥛ⃄ᅠ  "
   },
   "source": [
    "The interactive barchart below, shows the data aggregated by year. There are noticeably fewer records for `2004` and `2005`.\n",
    "\n",
    "During this subtask we will remove these older records, keeping only the records for the year 2006 and above."
   ]
  },
  {
   "cell_type": "markdown",
   "id": "24b308e8-8437-4146-9ebf-cd121aeb7f9f",
   "metadata": {},
   "source": [
    "#### **Instructions**\n",
    "1. **Analyze the Bar Chart:**\n",
    "    - Identify the bars that have less than 200 records.\n",
    "2. **Filter Year:**\n",
    "    - Select and remove the years with few records.\n",
    "3. **Verify the Output:**\n",
    "    - Print the head of the generated dataframe to verify the changes."
   ]
  },
  {
   "cell_type": "code",
   "execution_count": null,
   "id": "1ff923c8-1008-4d36-ab1c-625171d90d47",
   "metadata": {
    "__has_persist_output": true
   },
   "outputs": [],
   "source": [
    "PR.plot.barchart(df_task_2a, \"Year:O\", \"count()\", selection_type=\"interval\", df_name=\"df_task_2b\")"
   ]
  },
  {
   "cell_type": "code",
   "execution_count": null,
   "id": "91b82afa-ab75-41d7-b35a-7e18ab47c733",
   "metadata": {},
   "outputs": [],
   "source": [
    "df_task_2b.head()"
   ]
  },
  {
   "cell_type": "markdown",
   "id": "8a92b8a9-c3a8-4a57-be3b-c9cdc977092c",
   "metadata": {
    "__GENERATED_DATAFRAMES__": "{\"nodeDataframes\":{},\"graphDataframes\":null}",
    "show_aggregate_original": "false",
    "trrack_graph": "ᯡ࠽䈌ʀ匦㢠⹰ೠ⬠沈֭⠸恍ff9昽䁮ۦ࠰汬നڀপ㈏䣹厠㬦ተ¶⡨⇱㌀ᅁ╶庳ୖ⹜簧ଭࠣ℠Έ橦औ䁅ШNႦ〡岁䏼ℭ㞁摞+㢱䨠Ԋ牠Έƕ٦枓቙ჿਸ旑䅠Ȅ恨戬പᎭె䝁净儬Ö᡻⌸䐱䘩׍宨⇓ࡱ䍲ච᫲壬จ䙤Ɲڣ圖⍞ᛡ৽ण䃔戋㘠传ϊ揿振䘌汣䓼㹮䘫㈨ቺ⩯↧ᄨXഉ⠅ㅖࢢ侸⇄僡ಖࡢҁ氣С宍劄倶䢡⍤㲂̤㚗٩䄀硂಩⍰琦ᦪ悑屾ᾨႨ㺜*瘪䋇޶⋤ᓘ犠䭳঺᥇⏰ᅠ  "
   },
   "source": [
    "## Task 3: Data Wrangling"
   ]
  },
  {
   "cell_type": "markdown",
   "id": "9da80393-7f4b-4115-a4d1-5b7978e11358",
   "metadata": {
    "__GENERATED_DATAFRAMES__": "{\"nodeDataframes\":{},\"graphDataframes\":null}",
    "show_aggregate_original": "false",
    "trrack_graph": "ᯡ࠽䈌ʀ匦㢠⹰â䂬ƀᶷ琶䁋c<搔怳ଚ䠳亡䈤㉕⁖ì⺇⊨攩ᐠ▨戰㑹㧒妰囇⃹喧㝞Ţ∠桠ûு䁔䈠ॢȠந㺸ᢀ盅⻿夣•晀樠Ԃ牠Έƕ稦❳ሪὦ䰼⇑䅠Ȅ恨㙎⌯᪴䶹䈁ℓ琡㙐ᮂ⢨᢬थ⧓ࡢ㌰ሚ璋U䳘䠵欯Т縔絭Sㄭۡ۹ण䉔悊㘠传ϒ橷挣⌏ⱡ䕼庮打㈨ɼ榨慢䃂॑瑐繦┭ڼ㾬⎂厃焸牘榥ᄨ䦯ඦ嘔㗆溄⒀擒摖≦၀ⶃ㧄మޢᄴ䩍རへ∦䯧焤愷䍠Žƀ夅შ㤙༾′⪂㵩掳婊⢄  "
   },
   "source": [
    "### Task 3a: Creating and assigning `'Length'` category"
   ]
  },
  {
   "cell_type": "markdown",
   "id": "402412ae-3b84-4fec-9c01-94dd203a7b1f",
   "metadata": {
    "__GENERATED_DATAFRAMES__": "{\"nodeDataframes\":{},\"graphDataframes\":null}",
    "show_aggregate_original": "false",
    "trrack_graph": "ᯡ࠽䈌ʀ匦㢠⹰â䂬ƀᶷ琶䁋c<搔怳ଚ䠳亡䈤㉕⁖ì⺇⊨攩ᐠ▨戰㑹㧒妰囇⃹喧㝞Ţ∠桠ûு䁔䈠ॢȠந㺸ᢀ盅⻿夣•晀樠Ԃ牠Έƕ稦❳ሪὦ䰼⇑䅠Ȅ恨㙎⌯᪴䶹䈁ℓ琡㙐ᮂ⢨᢬थ⧓ࡢ㌰ሚ璋U䳘䠵欯Т縔絭Sㄭۡ۹ण䉔悊㘠传ϒ橷挣⌏ⱡ䕼庮打㈨ɼ榨慢䃂॑瑐繦┭ڼ㾬⎂厃焸牘榥ᄨ䦯ඦ嘔㗆溄⒀擒摖≦၀ⶃ㧄మޢᄴ䩍རへ∦䯧焤愷䍠Žƀ夅შ㤙༾′⪂㵩掳婊⢄  "
   },
   "source": [
    "Next, we'll introduce a new categorical variable named `Length` into our dataset. This addition aims to classify each game into one of `Short`, `Average` and `Long` based on `Comp_Time_Main` value."
   ]
  },
  {
   "cell_type": "markdown",
   "id": "86d54d80-ef52-4630-bffb-1e04d9320384",
   "metadata": {},
   "source": [
    "#### **Instructions**\n",
    "1. **Define Length Categories:**\n",
    "    - The `Comp_Time_Main` column represents the median completion time for the main story of the game.\n",
    "    - Based on median completion time, create a new category called `Length`.\n",
    "    - Add three options for this category -- `Short`, `Average`, `Long`.\n",
    "2. **Interactive Assignment:**\n",
    "    - Use Persist's interactive features to select games and assign it to one of the `Length` values (Short, Average, Long).\n",
    "    - You should use the following ranges for assigning proper categories:\n",
    "        - `Short`: 0 - 20 hours\n",
    "    \t- `Average`: 21 - 40 hours,\n",
    "    \t- `Long`: more than 40 hours\n",
    "3. **Verify the Output:**\n",
    "    - Print the head of the generated dataframe to verify the changes."
   ]
  },
  {
   "cell_type": "code",
   "execution_count": null,
   "id": "b59fb23c-da53-489f-9520-918d789978eb",
   "metadata": {
    "__has_persist_output": true
   },
   "outputs": [],
   "source": [
    "PR.plot.scatterplot(df_task_2b, \"Comp_Time_Main:Q\", \"Review Score:Q\", df_name=\"df_task_3a\")"
   ]
  },
  {
   "cell_type": "code",
   "execution_count": null,
   "id": "ce12290c-757c-4ba8-a879-8310a0fcb90a",
   "metadata": {},
   "outputs": [],
   "source": [
    "df_task_3a.head()"
   ]
  },
  {
   "cell_type": "markdown",
   "id": "36e82a42-5f2f-44e1-b9a5-2e2d403b2ff3",
   "metadata": {},
   "source": [
    "## Task 3b: Finding Top Genre for each `Length`"
   ]
  },
  {
   "cell_type": "markdown",
   "id": "af40bad3-436e-426c-a02f-f205597e90b5",
   "metadata": {},
   "source": [
    "Now we will analyze which genre is most prevelant for games in each length category."
   ]
  },
  {
   "cell_type": "markdown",
   "id": "72455a32-623b-4b87-87d6-ca9c8ebf19e7",
   "metadata": {},
   "source": [
    "#### **Instructions**\n",
    "1. **Context:**\n",
    "    - We have a faceted bar chart. The `x` axis encodes the `Genres` column in the data and the columns encode the newly added category `Length`.\n",
    "2. **Analyze Genres:**\n",
    "    - Observe the bar charts to identify the top genre for the each length.\n",
    "    - You can hover on the bars to get the exact frequency.\n",
    "3. **Document Findings:**\n",
    "    - Note down the most common Genre for each length based on your interactive analysis in a new markdown cell."
   ]
  },
  {
   "cell_type": "code",
   "execution_count": null,
   "id": "c45b6a61-ef0e-408a-bded-b1d1c1666e9c",
   "metadata": {
    "__has_persist_output": true
   },
   "outputs": [],
   "source": [
    "NEW_COLUMN = \"Length\"\n",
    "\n",
    "chart = alt.Chart(df_task_3a).mark_bar().encode(\n",
    "    x=\"Genres:N\",\n",
    "    y=\"count():Q\",\n",
    "    color=f\"{NEW_COLUMN}:N\",\n",
    "    column=f\"{NEW_COLUMN}:N\",\n",
    "    tooltip=\"count()\"\n",
    ")\n",
    "chart\n",
    "PR.PersistChart(chart)"
   ]
  },
  {
   "cell_type": "markdown",
   "id": "00e87acd-3759-49eb-9e43-d7793672297c",
   "metadata": {},
   "source": [
    "**Task 3b Notes:**\n",
    "\n",
    "- Top publisher for `Short` games: _genre_ (_count_)\n",
    "- Top publisher for `Average` games: _genre_ (_count_)\n",
    "- Top publisher for `Long` games: _genre_ (_count_)"
   ]
  }
 ],
 "metadata": {
  "__CATEGORIES_META__": "{\"categories\":{\"Avlanche Season Phase\":{\"name\":\"Avlanche Season Phase\",\"options\":{\"_None\":{\"name\":\"None\"},\"Start\":{\"name\":\"Start\"},\"Middle\":{\"name\":\"Middle\"},\"End\":{\"name\":\"End\"}}}},\"activeCategoryName\":\"Avlanche Season Phase\"}",
  "__persist_keys_record": [
   "__GENERATED_DATAFRAMES__",
   "__persist_nb_uuid__",
   "trrack_graph",
   "show_aggregate_origin"
  ],
  "__persist_nb_uuid__": "b82fefc4-1e19-4099-9446-89eee2c7722b",
  "kernelspec": {
   "display_name": "Python 3 (ipykernel)",
   "language": "python",
   "name": "python3"
  },
  "language_info": {
   "codemirror_mode": {
    "name": "ipython",
    "version": 3
   },
   "file_extension": ".py",
   "mimetype": "text/x-python",
   "name": "python",
   "nbconvert_exporter": "python",
   "pygments_lexer": "ipython3",
   "version": "3.8.16"
  }
 },
 "nbformat": 4,
 "nbformat_minor": 5
}
