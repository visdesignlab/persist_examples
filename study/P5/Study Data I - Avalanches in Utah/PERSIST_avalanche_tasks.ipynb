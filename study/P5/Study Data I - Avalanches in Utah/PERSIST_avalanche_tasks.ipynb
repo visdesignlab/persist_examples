{
 "cells": [
  {
   "cell_type": "markdown",
   "id": "522fcbb3-702c-4ea0-91d9-f3b0e71690fc",
   "metadata": {
    "__GENERATED_DATAFRAMES__": "{\"nodeDataframes\":{},\"graphDataframes\":null}",
    "show_aggregate_original": "false",
    "trrack_graph": "ᯡ࠽䈌ʀ匦㢠⹰àᦴ΀࣪ʐ怶䦠挠᱊ࠥ䁁䂖㚥煤晬փ⊪ĸ暂䙠঳ैkᑄᄈ妐ଷᓋ⃩䖻Ṯ溜Φ䐡傠Ǒ団Қ′䈤7ࡣᠠ湐戎Ⴆ寐爤䀥屨攠ʕ㥀ǔÚ䍃㏙䤥ࢂ┩勸惀Ēいཆ༠೥∁∀秸㲅䌠ⶬᛦ䙂ǃɡ殍戰泤ᒁ嬦怭㋉匥穃ᄠ彣჻⴦䉫ぢ睤䄁ⵐۻG䀡曑砑䂱竖ᄂ㜿Ꭽ˹ȩᚱ凁兘㑐Ṣ༩Ẻ䳥⑆憰棨忞⍧攈堽Ī僰὆揖䦲ᡊ⛓౱নఱ姼ᤦΧ您別൧儸晋Ǣ熘繀䉁硨K塊়ṹᜰ倳䪂ⵦ⚈ᒽ᪺ᆬ䀠 "
   },
   "source": [
    "# Analyzing Utah Avalanche Data"
   ]
  },
  {
   "cell_type": "markdown",
   "id": "3abf1206-e99f-45b6-a92b-d971a2a8eb19",
   "metadata": {
    "trrack_graph": "ᯡ࠽䈌ʀ匦㢠⹰ૠܠ昢〽䂆౐׀ৣfL⍉ျ⥒⠡䒙¬ᧇ峕搢ಒ嫒┠অҤᵖ㹢晴㘉ᦳㄍ毿䡨墠ᨰV䆼ガ搢⡠䀢焨㌠෦ౝ戰殖๠ᠠ塩ೀn坄V䀷⢄㚗᥂夬ು䅻ఴ>☤䝃傳狱⊔㳜ੁ䀶挫㐷ࢢӡჵ嬩іㄪᢉ懐ͻ䬥䇽ࣨ䁏僿峱䐰㋸ᇻ兀㡆䱍㛠਀ⲛ粀೽疨һ䟩桁㙡Ũ昙ˢ䧮ᄪᆽ䥢ᅅᄁẩ㱸౮ᐶޣ先ఽЃⵖᥒ⌥▶懜ᩑƢ᭛䭄憐ɑ٦⦈䙓ǂ炘㸠䱅࢜ؠଌથ䜯๡䙉夊᜶僑汢㭢☈₁䠠 "
   },
   "source": [
    "**Participant ID:**  P5\n",
    "\n",
    "**Date / Time:**"
   ]
  },
  {
   "cell_type": "markdown",
   "id": "ceac0d48-2820-4532-bfd2-adf6533d7a2d",
   "metadata": {},
   "source": [
    "## Introduction\n",
    "Welcome to our data analysis study. For this part of the study, you'll be working with a dataset sourced from the [Utah Avalanche Center](https://utahavalanchecenter.org/). The data provides insights into [avalanche occurrences](https://utahavalanchecenter.org/avalanches) in Utah.\n"
   ]
  },
  {
   "cell_type": "markdown",
   "id": "68491102-96aa-4701-8134-d998c80ae04b",
   "metadata": {},
   "source": [
    "- You will use an extension called PersIst to complete **data cleanup and manipulation** tasks. \n",
    "- Interactive charts and tables have been pre-created for your convenience. These can be directly utilized by running the corresponding cells.\n",
    "- Focus on leveraging the interactive capabilities of Persist for your analysis.\n",
    "- Carefully follow the step-by-step instructions provided for each task.\n",
    "- In some cases, you will be asked to document your findings. Please do this in writing in a markdwon cell.\n",
    "- As you work through the tasks, take note of any interesting findings or challenges with the software or pandas that you may encounter, either by speaking your thoughts out loud or taking notes in a markdown cell.\n",
    "- Feel free to add new code and markdown cells in the notebook as necessary to complete the tasks, but please do attempt the tasks with the PersIst functionality."
   ]
  },
  {
   "cell_type": "code",
   "execution_count": 1,
   "id": "9337796b-21e8-4c8c-bbbd-3076a775d03b",
   "metadata": {},
   "outputs": [],
   "source": [
    "import helpers as h\n",
    "import pandas as pd\n",
    "\n",
    "import seaborn as sns\n",
    "import matplotlib.pyplot as plt\n",
    "import altair as alt\n",
    "\n",
    "import persist_ext as PR"
   ]
  },
  {
   "cell_type": "markdown",
   "id": "dd81aecd-eebf-4624-b9e2-3a864c474c1d",
   "metadata": {
    "__GENERATED_DATAFRAMES__": "{\"nodeDataframes\":{},\"graphDataframes\":null}",
    "show_aggregate_original": "false",
    "trrack_graph": "ᯡ࠽䈌ʀ匦㢠⹰Ҁ̡䘠烠嘢త〫‥侴ᓬᛞ拐ৡ䚂ద抭婈ހڅྯ䌲⠠䭈⑁槑焳Ⴥ⩦仃㍶๽㰥Ҩǁ#㟢䌰橠ኤРᜰ͐üメ湁˛㾄ָ̠憴)挄䀦栢琭ٮ㍄ᨡ䌤ᾣㆢ䀣擠䢤㘦Sᥧᡠ戂怡ᠬÖᠻ㹈䐿ة׉妨⃓ࢱ̴㖠᫲徤ฏѤƜڣ回㸦ۡ৵ण䃔戊㘠传ϊ緯挡䘌污䕽庮粓㈨ɪⷠ搃猄ᦨ洘㳌ᤪ̪౦繶ሱ澂䘣⁑Ҝഭ炍孉ृÅ⭱䤾ᢠ䆋෭ኀ㠢Ү≱呺Ấ惑汮ᮯ戩䊏̠˙Ɂ⧽憳㈒ṉⅱਊ⥋⃆瑀⣨  "
   },
   "source": [
    "## Data Description\n",
    "\n",
    "The table below describes the different columns in the dataset. Each row in the dataset represents a reported avalanche with details on location, trigger, and aspect. The data spans multiple years, starting from 2004 up to 2023.\n",
    "\n",
    "| Column          | Description                                                    |\n",
    "|-----------------|----------------------------------------------------------------|\n",
    "| Region          | Region in Utah where the avalanche occurred                    |\n",
    "| Month           | Month in which the avalanche was recorded                      |\n",
    "| Day             | Day on which the avalanche was recorded                        |\n",
    "| Year            | Year in which the avalanche was recorded                       |\n",
    "| Trigger         | Cause of the avalanche                                         |\n",
    "| Weak Layer      | Layer of snow that was weakest and likely to fail              |\n",
    "| Depth_inches    | Depth of the avalanche in inches                               |\n",
    "| Vertical_inches | Vertical distance covered by the avalanche in inches           |\n",
    "| Aspect          | Direction of the slope where the avalanche occurred            |\n",
    "| Elevation_feet  | Elevation of the location in feet                              |\n",
    "| Coordinates     | Approximate geographical coordinates of the avalanche location |\n",
    "| Comments 1      | Additional comments provided by the reporter                   |"
   ]
  },
  {
   "cell_type": "code",
   "execution_count": 5,
   "id": "8d0e426c-89a0-4813-8994-65ebba3f3a25",
   "metadata": {},
   "outputs": [
    {
     "data": {
      "text/html": [
       "<div>\n",
       "<style scoped>\n",
       "    .dataframe tbody tr th:only-of-type {\n",
       "        vertical-align: middle;\n",
       "    }\n",
       "\n",
       "    .dataframe tbody tr th {\n",
       "        vertical-align: top;\n",
       "    }\n",
       "\n",
       "    .dataframe thead th {\n",
       "        text-align: right;\n",
       "    }\n",
       "</style>\n",
       "<table border=\"1\" class=\"dataframe\">\n",
       "  <thead>\n",
       "    <tr style=\"text-align: right;\">\n",
       "      <th></th>\n",
       "      <th>;Region</th>\n",
       "      <th>Month</th>\n",
       "      <th>Day</th>\n",
       "      <th>Year</th>\n",
       "      <th>;Trigger</th>\n",
       "      <th>;Weak Layer</th>\n",
       "      <th>Depth_inches</th>\n",
       "      <th>Vertical_inches</th>\n",
       "      <th>;Aspect</th>\n",
       "      <th>Elevation_feet</th>\n",
       "      <th>Coordinates</th>\n",
       "      <th>Comments 1</th>\n",
       "    </tr>\n",
       "  </thead>\n",
       "  <tbody>\n",
       "    <tr>\n",
       "      <th>0</th>\n",
       "      <td>Salt Lake</td>\n",
       "      <td>11</td>\n",
       "      <td>9</td>\n",
       "      <td>2012</td>\n",
       "      <td>Snowboarder</td>\n",
       "      <td>New Snow/Old Snow Interface</td>\n",
       "      <td>14.0</td>\n",
       "      <td>360.0</td>\n",
       "      <td>North</td>\n",
       "      <td>10400.0</td>\n",
       "      <td>40.577977000000, -111.595817000000</td>\n",
       "      <td>While it was a small avalanche that was I caug...</td>\n",
       "    </tr>\n",
       "    <tr>\n",
       "      <th>1</th>\n",
       "      <td>Salt Lake</td>\n",
       "      <td>11</td>\n",
       "      <td>11</td>\n",
       "      <td>2012</td>\n",
       "      <td>Skier</td>\n",
       "      <td>New Snow/Old Snow Interface</td>\n",
       "      <td>30.0</td>\n",
       "      <td>1200.0</td>\n",
       "      <td>North</td>\n",
       "      <td>9700.0</td>\n",
       "      <td>40.592619000000, -111.616099000000</td>\n",
       "      <td>A North facing aspect with an exposed ridge in...</td>\n",
       "    </tr>\n",
       "    <tr>\n",
       "      <th>2</th>\n",
       "      <td>Salt Lake</td>\n",
       "      <td>11</td>\n",
       "      <td>11</td>\n",
       "      <td>2012</td>\n",
       "      <td>Skier</td>\n",
       "      <td>Facets</td>\n",
       "      <td>36.0</td>\n",
       "      <td>5400.0</td>\n",
       "      <td>North</td>\n",
       "      <td>10200.0</td>\n",
       "      <td>40.599291000000, -111.642315000000</td>\n",
       "      <td>Remotely triggered all the new storm snow (abo...</td>\n",
       "    </tr>\n",
       "    <tr>\n",
       "      <th>3</th>\n",
       "      <td>Salt Lake</td>\n",
       "      <td>11</td>\n",
       "      <td>11</td>\n",
       "      <td>2012</td>\n",
       "      <td>Skier</td>\n",
       "      <td>New Snow</td>\n",
       "      <td>18.0\"</td>\n",
       "      <td>6000.0</td>\n",
       "      <td>Southeast</td>\n",
       "      <td>10200.0</td>\n",
       "      <td>40.598313000000, -111.628304000000</td>\n",
       "      <td>Impressive fast powder cloud ran in front of t...</td>\n",
       "    </tr>\n",
       "    <tr>\n",
       "      <th>4</th>\n",
       "      <td>Salt Lake</td>\n",
       "      <td>11</td>\n",
       "      <td>11</td>\n",
       "      <td>2012</td>\n",
       "      <td>Skier</td>\n",
       "      <td>Facets</td>\n",
       "      <td>42.0</td>\n",
       "      <td>9600.0</td>\n",
       "      <td>North</td>\n",
       "      <td>10400.0</td>\n",
       "      <td>40.578590000000, -111.595087000000</td>\n",
       "      <td>Three of us toured from Brighton to low saddle...</td>\n",
       "    </tr>\n",
       "  </tbody>\n",
       "</table>\n",
       "</div>"
      ],
      "text/plain": [
       "     ;Region  Month  Day  Year     ;Trigger                  ;Weak Layer  \\\n",
       "0  Salt Lake     11    9  2012  Snowboarder  New Snow/Old Snow Interface   \n",
       "1  Salt Lake     11   11  2012        Skier  New Snow/Old Snow Interface   \n",
       "2  Salt Lake     11   11  2012        Skier                       Facets   \n",
       "3  Salt Lake     11   11  2012        Skier                     New Snow   \n",
       "4  Salt Lake     11   11  2012        Skier                       Facets   \n",
       "\n",
       "  Depth_inches  Vertical_inches    ;Aspect  Elevation_feet  \\\n",
       "0         14.0            360.0      North         10400.0   \n",
       "1         30.0           1200.0      North          9700.0   \n",
       "2         36.0           5400.0      North         10200.0   \n",
       "3        18.0\"           6000.0  Southeast         10200.0   \n",
       "4         42.0           9600.0      North         10400.0   \n",
       "\n",
       "                          Coordinates  \\\n",
       "0  40.577977000000, -111.595817000000   \n",
       "1  40.592619000000, -111.616099000000   \n",
       "2  40.599291000000, -111.642315000000   \n",
       "3  40.598313000000, -111.628304000000   \n",
       "4  40.578590000000, -111.595087000000   \n",
       "\n",
       "                                          Comments 1  \n",
       "0  While it was a small avalanche that was I caug...  \n",
       "1  A North facing aspect with an exposed ridge in...  \n",
       "2  Remotely triggered all the new storm snow (abo...  \n",
       "3  Impressive fast powder cloud ran in front of t...  \n",
       "4  Three of us toured from Brighton to low saddle...  "
      ]
     },
     "execution_count": 5,
     "metadata": {},
     "output_type": "execute_result"
    }
   ],
   "source": [
    "df = pd.read_csv('./avalanches_data.csv')\n",
    "df.head()"
   ]
  },
  {
   "cell_type": "markdown",
   "id": "7cc10d2b-9b1e-46f4-9769-b9a0ac0c9e8f",
   "metadata": {
    "__GENERATED_DATAFRAMES__": "{\"nodeDataframes\":{},\"graphDataframes\":null}",
    "show_aggregate_original": "false",
    "trrack_graph": "ᯡ࠽䈌ʀ匦㢠⹰ૠ㌬Ā჻R〶䁃lyٹ⁓f䍐ۢ䧪㈉◔ฅޡ䨲⠠䬱䑁棒瀱Ⴭ⭱妻ݎẜʤ䐡傠ǖ悃РኤРᜰ結üメ浪巟㈠ᣠˬ⃪$熒‣㐡㬚͇⦲༿⸂໡壡‡犀⒂ଠᎭॣ䥡⊃㡹稠嬸ූᑤඦҡ哹䑀妨䤝͕䀺慽䈩瞤∡㼚ƶ嵖᯦悡檩ǣ᪀畖o#䖊⠃ܑ璌⃥⹾䞌᧒Т⺈ᆡ⇳㴑䒤㒌ŭ᯸丈◡戱⃰潅Ԧ秐噑๦磜疶溂⒀ᒪ扖⋦ူⶃ㧄మྡྷშ⨭རㅸ瘭ǅ爘䅐䘆砠址䑂㥨㈼㹯䕈䓵ᒹ憴婊③ᤠ "
   },
   "source": [
    "# Task 1: Refining Columns and Preparing Data\n",
    "\n",
    "In the first task we will perform some basic data cleaning operations to get our dataset ready for further tasks."
   ]
  },
  {
   "cell_type": "markdown",
   "id": "8934b219-dd97-4e3e-9aa9-0dd7a9d62ad5",
   "metadata": {
    "__GENERATED_DATAFRAMES__": "{\"nodeDataframes\":{},\"graphDataframes\":null}",
    "show_aggregate_original": "false",
    "trrack_graph": "ᯡ࠽䈌ʀ匦㢠⹰ૠ㬠氤〥䌸瀶䀹䁣๲ৠܦᔨҀᣴ䂼䋃‣ᓆ做►䀳ല⠠䭈⑁槑瀱ᝉ⍮冫㭮ẜʦ䒠ǁ#㕀挸晠ኤРᝣၐüムṁǟ㤉䀥䉸攠ʓ㥀ǔÚ⎃஥䤫䒄攭ᇸ惀Ēいᘦᖠೣ䗫⃂変ⱦ{ఽ咼∪⌤䋵汄ჹ䑈冣ᛠඉⵆܔ⍂Þ⍡歹ম悩溩Ǡ媁疖o#䖓瀃ʅ璌⁅溮杲◒Ъ⍁䔶户ࣉⓢ削౐䘰䵥䌂んḸئԢ灐糕൤㧶ⶬ䲱䅲ᗈ撯ౠ惍䈅䥐属ѣ၈⩍སヸ๗௧焤ᄸ䒰Ž䅰䔉燩壥༲刳樲⭮✈咰ᒄ  "
   },
   "source": [
    "### **Task 1a: Remove Columns**"
   ]
  },
  {
   "cell_type": "markdown",
   "id": "47b531d4-2e3a-4e9a-b92a-39aebfc3deb6",
   "metadata": {
    "__GENERATED_DATAFRAMES__": "{\"nodeDataframes\":{},\"graphDataframes\":null}",
    "show_aggregate_original": "false",
    "trrack_graph": "ᯡ࠽䈌ʀ匦㢠⹰ૠ㬠氤〥䌸瀶䀹䁣๲ৠܦᔨҀᣴ䂼䋃‣ᓆ做►䀳ല⠠䭈⑁槑瀱ᝉ⍮冫㭮ẜʦ䒠ǁ#㕀挸晠ኤРᝣၐüムṁǟ㤉䀥䉸攠ʓ㥀ǔÚ⎃஥䤫䒄攭ᇸ惀Ēいᘦᖠೣ䗫⃂変ⱦ{ఽ咼∪⌤䋵汄ჹ䑈冣ᛠඉⵆܔ⍂Þ⍡歹ম悩溩Ǡ媁疖o#䖓瀃ʅ璌⁅溮杲◒Ъ⍁䔶户ࣉⓢ削౐䘰䵥䌂んḸئԢ灐糕൤㧶ⶬ䲱䅲ᗈ撯ౠ惍䈅䥐属ѣ၈⩍སヸ๗௧焤ᄸ䒰Ž䅰䔉燩壥༲刳樲⭮✈咰ᒄ  "
   },
   "source": [
    "Remove the following columns to streamline the dataset for further analysis:\n",
    "\n",
    "- **_Comments 1:_** Contains textual comments not crucial for quantitative analysis.\n",
    "- **_Coordinates:_** Detailed location data not needed for the current scope of analysis."
   ]
  },
  {
   "cell_type": "markdown",
   "id": "aec9ad2a-ab09-4288-b8fa-2852bcddda1a",
   "metadata": {},
   "source": [
    "#### **Instructions**\n",
    "1. **Column Removal:**\n",
    "\t- Use the interactive table feature in PersIst to remove the specified columns.\n",
    "3. **Verify the Output:**\n",
    "\t- Print the head of the generated dataframe to verify the changes."
   ]
  },
  {
   "cell_type": "code",
   "execution_count": 6,
   "id": "8e333ff3-cb24-430b-a332-733b41570ba4",
   "metadata": {
    "__GENERATED_DATAFRAMES__": "ᯡࠩ䃬࿀ᜤᠹ悋ᐨ推̅ሣ䧠ⶠ卍捯ᥔᠣ℠▢dʘϔᝠ捌〤瀵摠៨⠠ ",
    "__has_persist_output": true,
    "editable": true,
    "slideshow": {
     "slide_type": ""
    },
    "tags": [],
    "trrack_graph": "ᯡ࠽䈌ʀ匦㢠⹱⁶ìѐƦ琣䁍㨡᧴ါV㩲࿠ᇊ㌩嫆戧㊀ᆮ孆ᕄ倡ᙰ䡡内恂⹲囝⌶㘼嶘߂र͢&榩䙁咠┨ࠠ⹀ڀǘ憣屢֖绨ㄠ୑䍈3䗩-儢掐ԙ砬氾㝕િ̨⊀摐Ƹ䳸⡒⸷Ἳྡྷ%栺಼晨氣ㄨ㌦挥'䦡ᄙ峸汶㝋ڻ͠Ԁᠢ沀㚸儰☸ሪ㎆Ⴀ癁䉊⁬欠㖸猨ᷞୈ̘ถ䭸戻Ⱥ掎࣓ƹ堢㰠ຯ睟౑ᮕ焦ᖓ㲮☼晠䀲ᒯʃ۪ᬦЀ壴㝫ᒂ僝Åᙀ桬Ը㊡㉔ⴻ憛干ͦʊủ㕀抨抑℡ᜁቴ੭ჩ᣹⹿ᑋࣥ⥬ࢧ岔䴶ឪዩ⩽ᓨㇼ䅢䰄䫾ㆴ攤䀠ࢰ℥㰠ʂȨ〡⺃ᠧ⠣׌₴,到ݓ䠯㦢浠࿏唺⛛⟯爤ⅵ䉅䥰ズអ䒬㶊ਬ∑Ѭ༬ᨰ摞㴩斑䎔ຮ⠹⾝䗦獨ᠼ༤⊰ᒊຠ捑ⲖᎣ搑ʁᯮ♲浵䯃樕⡠磇掭ᎉ䰷ᡌ䶅忱妌ၽ很㫽❹䡁㦑坃䃧h〠ᑽݣ㻫塊 址⇌]ຓ緲䪙帿ࠧ᧑籠䡜ᔣ㕲ࡵ癓ࢯ㚉嘑␠Ấ䤞းऺ对櫜㝠欺〡ʼ埵珞ᠳ禐ၞ簞眠Ѣ̬غ寠冰愻䆄㘳ǰ⨺䊀⓱䈦㒯䊀簬䈐吿̨☸䍬фǞ眳Š䤷磸䱄!睶֚㱃灤ୢź᭹偀Ꭳ㆜ᾯ瀢ᬢ戀⤦ℶ礴奈૵⍶മ守崤Ǯ⪹抢㸮㨦惴ᯐ憢ᥰ⣦᧦琡᥆簥ᥠ㓣ᯀᦨ⢠ݖ䅙烻ɦ棶᯦䓹᫆戽᪆䪤惴眳⮊㵦Һ獢Ƭ঵懠ᵯ䎘檱歨⵪ީ佩多悴ዼ忯氆ᅬ⩒ॵ䥪๫䨄票兊窱協図厔庬䐔⨻䍭冤l⦦ㄮ嬤㣌⏢㥮μ禼׬≼㷽㋎痫㤎⮦烀䏩圾史矌௡獾剽揾䟷ݞ㖱݁呛箘౐ӵ㡀ހ⟼ըୠ嘆拔垑幄⿽؞䁇ڡၿը䉻Ű匦Â⣪䃂ᒻÂ簿Ƅ⒫ጬѵŐ⺦΀纲擉弻猜羵憉⃉樶㤤婈狥ⅶ甶妈ۤⅹ檴রᩮླྀ糷✓Ԭ孈䫭⃶䴾夈䛾刺₥啨ツ᪀ュ敥㝆ᚙ潁᠙ⓐᙹ† "
   },
   "outputs": [
    {
     "data": {
      "application/vnd.jupyter.widget-view+json": {
       "model_id": "c156832f09a247cab75148b6ca4bef5d",
       "version_major": 2,
       "version_minor": 0
      },
      "text/plain": [
       "PersistWidget(data_values=[{'__id_column': '1', ';Region': 'Salt Lake', 'Month': 11, 'Day': 9, 'Year': 2012, '…"
      ]
     },
     "execution_count": 6,
     "metadata": {},
     "output_type": "execute_result"
    }
   ],
   "source": [
    "PR.PersistTable(df, df_name=\"df_task_1a\")"
   ]
  },
  {
   "cell_type": "code",
   "execution_count": 7,
   "id": "8b5f5945-e235-4fcd-a259-18048a68e787",
   "metadata": {},
   "outputs": [
    {
     "data": {
      "text/html": [
       "<div>\n",
       "<style scoped>\n",
       "    .dataframe tbody tr th:only-of-type {\n",
       "        vertical-align: middle;\n",
       "    }\n",
       "\n",
       "    .dataframe tbody tr th {\n",
       "        vertical-align: top;\n",
       "    }\n",
       "\n",
       "    .dataframe thead th {\n",
       "        text-align: right;\n",
       "    }\n",
       "</style>\n",
       "<table border=\"1\" class=\"dataframe\">\n",
       "  <thead>\n",
       "    <tr style=\"text-align: right;\">\n",
       "      <th></th>\n",
       "      <th>;Region</th>\n",
       "      <th>Month</th>\n",
       "      <th>Day</th>\n",
       "      <th>Year</th>\n",
       "      <th>;Trigger</th>\n",
       "      <th>;Weak Layer</th>\n",
       "      <th>Depth_inches</th>\n",
       "      <th>Vertical_inches</th>\n",
       "      <th>;Aspect</th>\n",
       "      <th>Elevation_feet</th>\n",
       "    </tr>\n",
       "  </thead>\n",
       "  <tbody>\n",
       "    <tr>\n",
       "      <th>0</th>\n",
       "      <td>Salt Lake</td>\n",
       "      <td>11</td>\n",
       "      <td>9</td>\n",
       "      <td>2012</td>\n",
       "      <td>Snowboarder</td>\n",
       "      <td>New Snow/Old Snow Interface</td>\n",
       "      <td>14.0</td>\n",
       "      <td>360.0</td>\n",
       "      <td>North</td>\n",
       "      <td>10400.0</td>\n",
       "    </tr>\n",
       "    <tr>\n",
       "      <th>1</th>\n",
       "      <td>Salt Lake</td>\n",
       "      <td>11</td>\n",
       "      <td>11</td>\n",
       "      <td>2012</td>\n",
       "      <td>Skier</td>\n",
       "      <td>New Snow/Old Snow Interface</td>\n",
       "      <td>30.0</td>\n",
       "      <td>1200.0</td>\n",
       "      <td>North</td>\n",
       "      <td>9700.0</td>\n",
       "    </tr>\n",
       "    <tr>\n",
       "      <th>2</th>\n",
       "      <td>Salt Lake</td>\n",
       "      <td>11</td>\n",
       "      <td>11</td>\n",
       "      <td>2012</td>\n",
       "      <td>Skier</td>\n",
       "      <td>Facets</td>\n",
       "      <td>36.0</td>\n",
       "      <td>5400.0</td>\n",
       "      <td>North</td>\n",
       "      <td>10200.0</td>\n",
       "    </tr>\n",
       "    <tr>\n",
       "      <th>3</th>\n",
       "      <td>Salt Lake</td>\n",
       "      <td>11</td>\n",
       "      <td>11</td>\n",
       "      <td>2012</td>\n",
       "      <td>Skier</td>\n",
       "      <td>New Snow</td>\n",
       "      <td>18.0\"</td>\n",
       "      <td>6000.0</td>\n",
       "      <td>Southeast</td>\n",
       "      <td>10200.0</td>\n",
       "    </tr>\n",
       "    <tr>\n",
       "      <th>4</th>\n",
       "      <td>Salt Lake</td>\n",
       "      <td>11</td>\n",
       "      <td>11</td>\n",
       "      <td>2012</td>\n",
       "      <td>Skier</td>\n",
       "      <td>Facets</td>\n",
       "      <td>42.0</td>\n",
       "      <td>9600.0</td>\n",
       "      <td>North</td>\n",
       "      <td>10400.0</td>\n",
       "    </tr>\n",
       "  </tbody>\n",
       "</table>\n",
       "</div>"
      ],
      "text/plain": [
       "     ;Region  Month  Day  Year     ;Trigger                  ;Weak Layer  \\\n",
       "0  Salt Lake     11    9  2012  Snowboarder  New Snow/Old Snow Interface   \n",
       "1  Salt Lake     11   11  2012        Skier  New Snow/Old Snow Interface   \n",
       "2  Salt Lake     11   11  2012        Skier                       Facets   \n",
       "3  Salt Lake     11   11  2012        Skier                     New Snow   \n",
       "4  Salt Lake     11   11  2012        Skier                       Facets   \n",
       "\n",
       "  Depth_inches  Vertical_inches    ;Aspect  Elevation_feet  \n",
       "0         14.0            360.0      North         10400.0  \n",
       "1         30.0           1200.0      North          9700.0  \n",
       "2         36.0           5400.0      North         10200.0  \n",
       "3        18.0\"           6000.0  Southeast         10200.0  \n",
       "4         42.0           9600.0      North         10400.0  "
      ]
     },
     "execution_count": 7,
     "metadata": {},
     "output_type": "execute_result"
    }
   ],
   "source": [
    "df_task_1a.head()"
   ]
  },
  {
   "cell_type": "markdown",
   "id": "36c62d50-9c88-4ed9-8c97-e552a6e4c620",
   "metadata": {},
   "source": [
    "### **Task 1b: Fix Column Names**"
   ]
  },
  {
   "cell_type": "markdown",
   "id": "ab8f8f24-afd2-424f-ab34-3e3cde723aa3",
   "metadata": {
    "trrack_graph": "ᯡ࠽䈌ʀ匦㢠⹰ࢀㆪこ<ǐʀ୥崡汤Ɓ䔠⍂⠨撂䂼ì债晶堪慯掩ᐠ▴ሰ璹㤨䮲减ⓥ䢧᜾㺣䉠ð䀡壅冨㕀ॢȠ௞䠸ᢀ眰䅽忖䀢晐樠Ԃ牠ΈƔڦ❓ሠƠ暬ॡ声Ȅ恨䙜⬮ಬ俨⫣䞐డ㙐᬴⣔䰲ճ㌰䊆၂۔欠㖹┰᧶༨̘ඛฌ琻ɋ㉄ܠ榡哸Ŝ.ؗ⾬ള勑̵㯺ᱱ曨ဩᒡᾪ३⁂惡৒ј⪖ᩋࢶ䥣䍢ᇃ⢀☾ԣ䖎㑝䳓ⳄⓀ᪱ĦҐ戤׌㝔䆦成扉ڠ凈㨣ೣㅘ湏Bࡤ䒠ଈତޗ٩䟨㣜㥨◈ᩲ㭡⟢䀠 "
   },
   "source": [
    "It looks like something went wrong when reading the file and some column headers start with a `;`. **Please remove the semicolon from all headers**. "
   ]
  },
  {
   "cell_type": "markdown",
   "id": "63f4d5c5-9383-4857-beae-0cfa6ba466f2",
   "metadata": {},
   "source": [
    "#### **Instructions**\n",
    "1. **Rename Columns:**\n",
    "    - Use the interactive  table in Persist to correct the column names by removing the leading `;` from their names:\n",
    "        - _;Aspect_ → _Aspect_\n",
    "        - _;Region_ → _Region_\n",
    "        - _;Trigger_ → _Trigger_\n",
    "        - _;Weak Layer_ → _Weak Layer_\n",
    "2. **Verify the Output:**\n",
    "\t- Print the head of the generated dataframe to verify the changes."
   ]
  },
  {
   "cell_type": "code",
   "execution_count": 8,
   "id": "e74dd265-2437-40e4-8673-be7ea1d079b3",
   "metadata": {
    "__GENERATED_DATAFRAMES__": "ᯡࠩ䃬࿀ᜤᠹ悋ᐨ怱䐢犲ǩ怶恉宑召䵬ð䀲悠ᄡḡ沯偑嬸Ř˛ࠥ笪  ",
    "__has_persist_output": true,
    "trrack_graph": "ᯡ࠽䈌ʀ匦㢠⹰Ҁ̠汰ᖦʐހ୭䁓ìᒨˠঠ呤ѐǤ燲ɓ伛⶘投倬㉪2攩њᙼ䉄ᓉ桖㎁混忀䢰Tဠ㙬⢂ཨɰ䂠̏刦;䘸ᷤၷ㠏Р宬᪠Ř岰úၮᐺᚩ䁪ↂᎳぐᡔ愴儾̵䑬፥ტ楙燢ᠢନ7₈㊓᥁倭䋡☻ఴ>☤䔀ᇁ儘ӸȬ㔡 怫ㆡ契䑠䲀䡹䷘䈻墪້䭸Ǎ፬䃽墅‷悈㵽ᅓҌࢻ淘૬Ẇ怩瀠㣟嶜モ嶯䈮ዙ癧ম㍀⁩ᩣʰ⡜᪡䊱㑂ၢ䎀㑞岤⃑堡兎䣁㑲༥α⌬Ữ禝劆䘪棝❆⃩୥㆘兌䫅咔啅䤄礢䣂⦴ᕨ㨾狒ㅘ䅄䢄㲬徰䨫ւ䖪⮵皃ᓡҘ⹆᪀3а↠֔䳠䍠෠Ê̂<椉䄢䍭䄤ᰍ❫堷夊ႛ䰳-ᠠ࿂㞻ᜏ࿠ଦ愰ᵂ您ࣴ䢇䈀㒊Ꭹ抅⒌ᝓ䇁咞媧拐ъ䃡稼⹗٩䄁碂಩⃱瑦ᖮ愰尾्儩≆䗆檔᭾忈ᮁ㤉笥ᣬ獨ㆌ嫔欭䮀ダ笣䤂㮼ୠ䬃㧼✣ษრq⤠嗛滀ᐢ՜䂆報篽俯⯳眘䁕䶷抢灬አࠣ獨患猸劾搞Ἲ†窊⌐౐⺊羀樸⍳↋㪓䨧䃀挡₻䊥罶伧尤ᴪ儐⚊置ũ墌ుࡺԣ҅༪壆ୠ怤侰ઈ䔡㬤∣炰ا⒖Ճ⬪ᢦㄉ䀣Ґ旀Ƅ䱘ස梜揔໓喕剗偒纳᛹㽟搥䂭䃑ピ䖰䶢䖍䨧㍱巏㋰ɀ眲㔽₥ᱞ牬⧂ቁ槆㛁姎㏡私㏤◑㝌ⱅ㜴刯惡䧐䕭↖ì妮㏬ֱɍ煹ㆨ䥶兑畛䗒↱咭㡭倡欔垄ᨠ٩䇜坽檚曉䋕໋嘚̠᯶䕜᯵棩勦₤ኌွ䓠爼䀰璨圀㐳ॠ䳽୤⋕㟊ᐺ䁰娭ΰ⫼䜦竪⯒奫䧄䕻ፊ粵⢪䵸㯲凫儔㺠㏰᳔甐秶㏬时拎疹禎࠿㈼採琎䮼⍼㯹箾堺竾Ᏺ௞ޠ拞岋㐎➡䮞᩽搞䁛⒡䥐䒠悲だ朶ߩ⩜㓉⣬ྡ؉ὰ摩⥝惩ᚆ扱အߓ啋争序吭仐枉穚⏫监⺹㴠䑡扚ֱ㡑ӱိӋ眺ဴ樥Ą㐥䂀౺䁂⨾࣐刱ႆ横Ðᗆኽ煜攘㾠ढ圶暰筑寨ᛩ⏖唫墈㻯䆙崿㫴朢૰緱㝍嗕ᅖ䷌㎍∷㓂⠠皑揜䈣禢⡍堻᷍㴋㔍㱤嶷⏄疽ે⩸絮坫᭠ȩ恏䮐竣⑜䟛ɗᱠ潮箩嵌掟ୗ圧ޠ塃屃䢊ѡ偆ࣦㅆ̢㊁a⢜䊠⡫㔡ᅈʠ⺺斖榔尵匼帶⊢嬷୲梶⬯僨控畇 ࡆɔࠦ䰰㉼▮ۋब磧め䞓憱᡼∆⎃柘෢Ĉ斘㞯燑䈑ὂгफ⃼ଜ䡬䋲७灺䵖᭹ࣃ᭓Ჳଥើ຋䋼杌⵽Ⲧ䟩ᡢ慠ⲷᆖஆ丽ᙜᶈᏰ䊠䝫屌䛼₭匽ㅂᡆ戂浥≄涟ዙ∦㌬⹠䕼摤物䠸ڜ䕧䣒֡繙Ϗ✣箉吮⭂ຖ⼀๲ᴴැ呇㏈྄梞扮儢亞⒡搿㨐Θ祖笏㼖爢ɞᐅㄷ斜⠦絨༛⯊⧏౪漽現Іᣩឡ⟼紁ᵆ㊖⓴╵樺唬捯滶䮅ອ㣧嗅坟僯᣷侌ᔆ☇ಓ⎣࿮姄୘嚣㢍᎒᜶矺愨㨵敼K痧᠊ئǀ㣦恙撡תېዐ嵑ρ嘺眢ᯀ刅⍤௡䲈∗䈡ӻヨ␒⢉᭰倅僶䋆掌ʬ᫃䱉丕喸▴媓㒪⣛ж㪂ᚺᇣ㕦Ø㵪斫ⓠ᭬䎅㘜亹۰囂竴Ⳕ⣺璔䭰ῠၮɄ㒩ࡔ੡દၑʱ做祠⤥ⴴӌ厯盎᰼㙣戻๣ᬯ䓙Ⲑүᘩᴪ৞⚼䠺䆹ẻⱝ㆘惎㤸砑睄঩態帬椢ਛ屔⚏ᱪᓤ䵉犻庵ᷜᥖ縏唁  "
   },
   "outputs": [
    {
     "data": {
      "application/vnd.jupyter.widget-view+json": {
       "model_id": "7cb0787149904221aba0f0da032e7cce",
       "version_major": 2,
       "version_minor": 0
      },
      "text/plain": [
       "PersistWidget(data_values=[{'__id_column': '1', ';Region': 'Salt Lake', 'Month': 11, 'Day': 9, 'Year': 2012, '…"
      ]
     },
     "execution_count": 8,
     "metadata": {},
     "output_type": "execute_result"
    }
   ],
   "source": [
    "PR.PersistTable(df_task_1a, df_name=\"df_task_1b\")"
   ]
  },
  {
   "cell_type": "code",
   "execution_count": 9,
   "id": "7010ab29-4b5e-45c1-8111-c0637d9f9091",
   "metadata": {},
   "outputs": [
    {
     "data": {
      "text/html": [
       "<div>\n",
       "<style scoped>\n",
       "    .dataframe tbody tr th:only-of-type {\n",
       "        vertical-align: middle;\n",
       "    }\n",
       "\n",
       "    .dataframe tbody tr th {\n",
       "        vertical-align: top;\n",
       "    }\n",
       "\n",
       "    .dataframe thead th {\n",
       "        text-align: right;\n",
       "    }\n",
       "</style>\n",
       "<table border=\"1\" class=\"dataframe\">\n",
       "  <thead>\n",
       "    <tr style=\"text-align: right;\">\n",
       "      <th></th>\n",
       "      <th>Region</th>\n",
       "      <th>Month</th>\n",
       "      <th>Day</th>\n",
       "      <th>Year</th>\n",
       "      <th>Trigger</th>\n",
       "      <th>Weak Layer</th>\n",
       "      <th>Depth_inches</th>\n",
       "      <th>Vertical_inches</th>\n",
       "      <th>Aspect</th>\n",
       "      <th>Elevation_feet</th>\n",
       "    </tr>\n",
       "  </thead>\n",
       "  <tbody>\n",
       "    <tr>\n",
       "      <th>0</th>\n",
       "      <td>Salt Lake</td>\n",
       "      <td>11</td>\n",
       "      <td>9</td>\n",
       "      <td>2012</td>\n",
       "      <td>Snowboarder</td>\n",
       "      <td>New Snow/Old Snow Interface</td>\n",
       "      <td>14.0</td>\n",
       "      <td>360.0</td>\n",
       "      <td>North</td>\n",
       "      <td>10400.0</td>\n",
       "    </tr>\n",
       "    <tr>\n",
       "      <th>1</th>\n",
       "      <td>Salt Lake</td>\n",
       "      <td>11</td>\n",
       "      <td>11</td>\n",
       "      <td>2012</td>\n",
       "      <td>Skier</td>\n",
       "      <td>New Snow/Old Snow Interface</td>\n",
       "      <td>30.0</td>\n",
       "      <td>1200.0</td>\n",
       "      <td>North</td>\n",
       "      <td>9700.0</td>\n",
       "    </tr>\n",
       "    <tr>\n",
       "      <th>2</th>\n",
       "      <td>Salt Lake</td>\n",
       "      <td>11</td>\n",
       "      <td>11</td>\n",
       "      <td>2012</td>\n",
       "      <td>Skier</td>\n",
       "      <td>Facets</td>\n",
       "      <td>36.0</td>\n",
       "      <td>5400.0</td>\n",
       "      <td>North</td>\n",
       "      <td>10200.0</td>\n",
       "    </tr>\n",
       "    <tr>\n",
       "      <th>3</th>\n",
       "      <td>Salt Lake</td>\n",
       "      <td>11</td>\n",
       "      <td>11</td>\n",
       "      <td>2012</td>\n",
       "      <td>Skier</td>\n",
       "      <td>New Snow</td>\n",
       "      <td>18.0\"</td>\n",
       "      <td>6000.0</td>\n",
       "      <td>Southeast</td>\n",
       "      <td>10200.0</td>\n",
       "    </tr>\n",
       "    <tr>\n",
       "      <th>4</th>\n",
       "      <td>Salt Lake</td>\n",
       "      <td>11</td>\n",
       "      <td>11</td>\n",
       "      <td>2012</td>\n",
       "      <td>Skier</td>\n",
       "      <td>Facets</td>\n",
       "      <td>42.0</td>\n",
       "      <td>9600.0</td>\n",
       "      <td>North</td>\n",
       "      <td>10400.0</td>\n",
       "    </tr>\n",
       "  </tbody>\n",
       "</table>\n",
       "</div>"
      ],
      "text/plain": [
       "      Region  Month  Day  Year      Trigger                   Weak Layer  \\\n",
       "0  Salt Lake     11    9  2012  Snowboarder  New Snow/Old Snow Interface   \n",
       "1  Salt Lake     11   11  2012        Skier  New Snow/Old Snow Interface   \n",
       "2  Salt Lake     11   11  2012        Skier                       Facets   \n",
       "3  Salt Lake     11   11  2012        Skier                     New Snow   \n",
       "4  Salt Lake     11   11  2012        Skier                       Facets   \n",
       "\n",
       "  Depth_inches  Vertical_inches     Aspect  Elevation_feet  \n",
       "0         14.0            360.0      North         10400.0  \n",
       "1         30.0           1200.0      North          9700.0  \n",
       "2         36.0           5400.0      North         10200.0  \n",
       "3        18.0\"           6000.0  Southeast         10200.0  \n",
       "4         42.0           9600.0      North         10400.0  "
      ]
     },
     "execution_count": 9,
     "metadata": {},
     "output_type": "execute_result"
    }
   ],
   "source": [
    "df_task_1b.head()"
   ]
  },
  {
   "cell_type": "markdown",
   "id": "3875e7fc-ec40-4241-aa94-87b31e59944f",
   "metadata": {},
   "source": [
    "## **Task 1c: Correcting Data Type of 'Depth_inches'**"
   ]
  },
  {
   "cell_type": "markdown",
   "id": "7a7eebda-1b60-4bff-89d3-a5548a601b49",
   "metadata": {},
   "source": [
    "There is a data type issue in the `Depth_inches` column of our dataframe. This column is incorrectly formatted as an object (string) due to the presence of the inches symbol `\"`.\n",
    "\n",
    "Remove any inches symbols `\"` from the `Depth_inches` column and convert it to a float data type."
   ]
  },
  {
   "cell_type": "code",
   "execution_count": null,
   "id": "fb9bff61-9a8d-4114-97f3-4f6d0cd0e61e",
   "metadata": {},
   "outputs": [],
   "source": [
    "df_task_1b.dtypes"
   ]
  },
  {
   "cell_type": "markdown",
   "id": "b23913ac-ea3c-4ca1-8ac3-07d3026ca76e",
   "metadata": {
    "__GENERATED_DATAFRAMES__": "{\"nodeDataframes\":{},\"graphDataframes\":null}",
    "show_aggregate_original": "false",
    "trrack_graph": "ᯡ࠽䈌ʀ匦㢠⹰ೠ↺΀Ơ瘢ᠢᠫ‵䁇ፉ䐢怣侽振ၑ䶃᪰঵䂆⹉多䪲┠অҤᴶṂ㊵嘊᭓ㄅ毠㒰䣑Tဠ㚉҃೨ɰ䂠̂҆;䘸Ϥၗ眼䋐Ð䬹†于␠㚠ᝨ沂烒⎁൸憈㬸ᐠṬү䓧Ⴠ椓ᣘ⌚ᆠᛦކ䜱ǁ䅀㖖नຂᩈ桫〦塵偢㶱⢠⾱䂅埦䖃塀㪂ₐ暸ᵽ䀳怠煼砤慸㴻ࠩ㯏姭ঌ䄢䣫䧙㱈刱ㄿᬦ䩫⏃㌱楫磤ⰴຣα晼ਫ䎁㺕䮃Ⴤご䖂᥂挰ы゙㈬ܠ₰ᑊІ僑汮ޯ戩䉱៪怡⹁ᡤ甑擸抯॰ᡬᅓ╄璚╄㈠ "
   },
   "source": [
    "#### **Instructions**\n",
    "1. **Identify Entries with Inches Symbol:**\n",
    "    - Use the interactive table in Persist to look for rows with `\"` in `Depth_inches` column\n",
    "    - _Hint_: You can search in the interactive table\n",
    "2. **Edit and Correct Entries:**\n",
    "    - Edit the cells to remove the inches symbol from these entries. (e.g. `15\"` → `15`)\n",
    "3. **Convert Data Type:**\n",
    "    - Change the data type of the `Depth_inches` column from string to float.\n",
    "3. **Verify the Output:**\n",
    "\t- Print the head of the generated dataframe to verify the changes."
   ]
  },
  {
   "cell_type": "code",
   "execution_count": 10,
   "id": "7cb9b796-3aa5-4181-bf91-fa8ba7e33c20",
   "metadata": {
    "__GENERATED_DATAFRAMES__": "ᯡࠩ䃬࿀ᜤᠹ悋ᐨ恑䐢犲ǩ怶恉宑召䵬ð䀲悠ᄡḡ沯妶ᠢ㠪癀ఄᐠ ",
    "__has_persist_output": true,
    "trrack_graph": "ᯡ࠽䈌ʀ匦㢠⹰Ӡ⬠䘸චᘢ㧐ୠᆠ↴掐໭⩂杽䵂砡曄䂆9㵯䆩ᐠ▴ሰ瑸礪䡲嗏⣹嗎ގ㹜ʤð䀡妰憯兀ॢȠநẸᢀ㜰䁾巒8怢扟⨠Ԅ牠΋㷉㡾䱮ᅎ¦ܽⅣᄰじ⣄䱈᜴̥ϭ␁\"甕種ፄ༾䯸ᙥㆢ䀣擠䡄⊾ᨪি,恋瘈ƌぶ㊁࠹ల๕㄰䇖ᅢ敀౫U墌䠱嬩ᐢ純㰓⹒឵䄹㫗ι䉭ⰡḠޛ每䘫懜碡୚㸌㉉䲡äबנ成屖פ撀ሦˡ傘㺱⃚ۣ∿☆戒⹞ԣ甐汇䔕㱄㪬÷尮㪍⤶䑐壜⾤⒈ᒺ↲摐Ჾ⁲ᓘ䦸ἔ㊂ሼ₲╙瓒⏫琒䋑⹲ᣊ圠ૌ祠㓈 ⌐ℚ5汓ƕY\"ᆣṶྠ߳籞㡙叅櫤'坻䌊嘨˲⇐Z༼洒⬟⮩儱ⴖ垤敒檞xቻ䊊ᬿ劢焔⚄䟀慈㸭ᛡ灤༦ш䡄㬲䅂䪚㏧㊐岲☧Cऄ┩Ꮐᡬଽ䔂礜₳拄痍㭳圊桜㸿因䚃Ӥ຺昭˭ᵻ嘰ᛧ㏻⹧ᓰᕛ亷㻯⎡䑐4◢煞௨ᔠ䅏ေ嘥䀖損捨㱾ᯢ»ᖫ瀡၆ॠЬ硄ぬ礬㲉灠価ဠ㵙៘穀ᙔ䂔㖭燞䕐䜴ণ⸼ࡣᢐ࢈⢋䕢悶ਤ䛎ँ姂ᓨ氷ס䣖ҩ梽㛤尷䌐氪Ռ紦8⁑ड偤䃁扃㛂桡噕⚠γჃᰩ愲᫵娮䧱礐੩桄⹪䀪⪫媈㏶楬≥恆Ⳮ㤒⤪⧔㬯夬❭㢡䑒䧋Ђ籟ဂ墆Ȱ䡲ϕ䣽䅣盪႓⣣卦框⃤哠䒦ḹ䭑月弧暑ᬢᙅ䳐噵䛓⢕塷࣎݋瓹坐ᔥ壎ᙘೌ嚼ዋヵ╶ᣠ䐤櫺凃橊⓳᩶䛳媮䰦㫎已䁾䍕笞峱၈ѓږᇤ䙀༫䘩岖♡цⲛⶣヴ圡䃘ࢦॼഷ䑕䆢䁄֦㋘ҡ灝ۓㄉǒ凉嗒碂妰䫌嶶Ⓣᙴ撏㞵撪偷༕Ҋ亨ρ災߄烤䴣⃫岄䴋嫤溫ḕ漛垁继ᔑࢇ̂屋଑弗刐㎳ᰖ岚ᐔ獋᠓尠⊵㡀Ⱞ禰♭ᅀᲯᲴ㤫↾㊨⬲ᶏ秲㙫ᅖ䊫㧶㚭姾㻫唷⧨䯐㍹䯺暩㋪⯎ὅ僸࡬撸濂炲䝂ᄘඡ灴ᑯႸ椶㊝J⚿ᰅ糮᱊૎੉䡽幥癪⤊Ғ梃夐咮ᠱ⃧䘠嵷✋崼㈌緤ʣ㶉ቂ絟㬣綌ۏȥ沦巗㼍៯⋟㷵簌炕耋疊傊橚彴ᬃ⋳槳ワ䄓㏵欋㶉ⴡ䴤渁䞍㜛€⛾ᤍ⚁С䊌௡抝ᜉ⁐Ԥ摙䮣らሰ恤Ȋやಣ瑜ҧ悰䀺㙠懨巙⓵հ壺哒滙⦕ⶆ悚旈ᒄ梈憬壶䂋᪡倻3⬅㎸ⷮ⚻ැ哨碉䴓妷ᢠ㘅䁶㊜⮪Ü櫐㳭碨㲤֨ႁҡ଴ጶ斬牲暍ࡱ⒕䫹ᗞ夡᯵⭳ᅖඏ̆恃᛺汝໪䑪ύ㇗⭾ັ縵㊒ὤ‶池ጰ㨾᭰ḓ〲Ħ⒦⃥䬜⠶界㪳⥊ע㠐ᱠ剒惁ກℴㇽ夃习笭ϥ㊒อԼ℩丹⒠紻ᔋ䔘俙穿㘑摛烠ࠄ纝̜濣糟䡠䄨刿౭ᾘ䫞㢤䨗斠楃᏿君㿀砭ჵད啔䨅ᨦ⭔䙥棽ẛ嚢獏᫰ᑕ盺ᛮѰ̸ݰ䒮忠人゠ܦ६Ơ戤䒰䜰Ⴍਐ᪡稫ʸ榨琼揠Ḥ჋జ䍊ᦻ嗛ண橪➕㶎甚弋稣渀灅傶ᄦ杒‬ᬢ⸰Ը䊆屓ɭ猬䳨⊸ࢁ爓ㄫ厓撆ᮢ是䵢ᳱ䊹䐑㼲ᘼᘁヰ΁憀棂毂ၻ䍄㵥㗌䟫⌴⮒⹶纳惊᥍勳⌅坺ᛂ䕲䌅勳ヱ妎牶揂積Ƭ⛤䠷ஶអ䂄⇀㞏䂄ඡ琫悋ᨧ牞Ƙᤤ∰痾㄂઱昂涺⅛࿥抲㣈に❴圩洄䃘ಙ㍃বᆅ偒杽◯Ⳮ佤䃭ⲱॡ㠠猻嗣⶜旺䏍⳯ヹⶶ痛ᨋ廖剄#Ҝ᪀Y䧁䟊䡭ᔕ㓙嘔䁋椠ُ倰ð砫㔖䎚⥘窺㷀慘掭〨䴳ኹ❹ம㞉࿌▿ᄠ徂䧞撺䧯涡⿪叒㤻⥊᫜䴆捭䵑簡䅤怪㡘ற㐴ཕᢾम㺄⣁㯯ׄ᭢棛䵱㦕罃∫ူ焍᜶㔼ࣣġย泩❩喽ᓠᘉ廲⪅԰緆洚峐⍰凅䀦䦉ࠊ䢲⫱㑆慂᩺⧂嬠䫔ᎍၨ䘋焏滱ᮉ◎ต䟹⊘䢠恑䉝ૌ撃۴狥甠ፍ找ژ㗪彵娞旀㑒 ᕠၠࡒ҉单亸穄᝗獵䈀ᒳ剷༵ࣵັ␂竖ᔳ忑൲⢤窓Ԓ䂩䐦䄔䕍ᘵ妃剬Ꭰ☺扵✴匼媤㒡ࠝ㻚䄆㛵剝噟⏋Ⲱ涕ᶱ瘛ᘲ䀠 "
   },
   "outputs": [
    {
     "data": {
      "application/vnd.jupyter.widget-view+json": {
       "model_id": "b033818bfeb546bb9fb5e9825435a043",
       "version_major": 2,
       "version_minor": 0
      },
      "text/plain": [
       "PersistWidget(data_values=[{'__id_column': '1', 'Region': 'Salt Lake', 'Month': 11, 'Day': 9, 'Year': 2012, 'T…"
      ]
     },
     "execution_count": 10,
     "metadata": {},
     "output_type": "execute_result"
    }
   ],
   "source": [
    "PR.PersistTable(df_task_1b, df_name=\"df_task_1c\")"
   ]
  },
  {
   "cell_type": "code",
   "execution_count": 11,
   "id": "4ea423d1-7b06-43f9-9a3b-ceeb9bf5a3f5",
   "metadata": {},
   "outputs": [
    {
     "data": {
      "text/html": [
       "<div>\n",
       "<style scoped>\n",
       "    .dataframe tbody tr th:only-of-type {\n",
       "        vertical-align: middle;\n",
       "    }\n",
       "\n",
       "    .dataframe tbody tr th {\n",
       "        vertical-align: top;\n",
       "    }\n",
       "\n",
       "    .dataframe thead th {\n",
       "        text-align: right;\n",
       "    }\n",
       "</style>\n",
       "<table border=\"1\" class=\"dataframe\">\n",
       "  <thead>\n",
       "    <tr style=\"text-align: right;\">\n",
       "      <th></th>\n",
       "      <th>Region</th>\n",
       "      <th>Month</th>\n",
       "      <th>Day</th>\n",
       "      <th>Year</th>\n",
       "      <th>Trigger</th>\n",
       "      <th>Weak Layer</th>\n",
       "      <th>Depth_inches</th>\n",
       "      <th>Vertical_inches</th>\n",
       "      <th>Aspect</th>\n",
       "      <th>Elevation_feet</th>\n",
       "    </tr>\n",
       "  </thead>\n",
       "  <tbody>\n",
       "    <tr>\n",
       "      <th>0</th>\n",
       "      <td>Salt Lake</td>\n",
       "      <td>11</td>\n",
       "      <td>9</td>\n",
       "      <td>2012</td>\n",
       "      <td>Snowboarder</td>\n",
       "      <td>New Snow/Old Snow Interface</td>\n",
       "      <td>14.0</td>\n",
       "      <td>360.0</td>\n",
       "      <td>North</td>\n",
       "      <td>10400.0</td>\n",
       "    </tr>\n",
       "    <tr>\n",
       "      <th>1</th>\n",
       "      <td>Salt Lake</td>\n",
       "      <td>11</td>\n",
       "      <td>11</td>\n",
       "      <td>2012</td>\n",
       "      <td>Skier</td>\n",
       "      <td>New Snow/Old Snow Interface</td>\n",
       "      <td>30.0</td>\n",
       "      <td>1200.0</td>\n",
       "      <td>North</td>\n",
       "      <td>9700.0</td>\n",
       "    </tr>\n",
       "    <tr>\n",
       "      <th>2</th>\n",
       "      <td>Salt Lake</td>\n",
       "      <td>11</td>\n",
       "      <td>11</td>\n",
       "      <td>2012</td>\n",
       "      <td>Skier</td>\n",
       "      <td>Facets</td>\n",
       "      <td>36.0</td>\n",
       "      <td>5400.0</td>\n",
       "      <td>North</td>\n",
       "      <td>10200.0</td>\n",
       "    </tr>\n",
       "    <tr>\n",
       "      <th>3</th>\n",
       "      <td>Salt Lake</td>\n",
       "      <td>11</td>\n",
       "      <td>11</td>\n",
       "      <td>2012</td>\n",
       "      <td>Skier</td>\n",
       "      <td>New Snow</td>\n",
       "      <td>18.0</td>\n",
       "      <td>6000.0</td>\n",
       "      <td>Southeast</td>\n",
       "      <td>10200.0</td>\n",
       "    </tr>\n",
       "    <tr>\n",
       "      <th>4</th>\n",
       "      <td>Salt Lake</td>\n",
       "      <td>11</td>\n",
       "      <td>11</td>\n",
       "      <td>2012</td>\n",
       "      <td>Skier</td>\n",
       "      <td>Facets</td>\n",
       "      <td>42.0</td>\n",
       "      <td>9600.0</td>\n",
       "      <td>North</td>\n",
       "      <td>10400.0</td>\n",
       "    </tr>\n",
       "  </tbody>\n",
       "</table>\n",
       "</div>"
      ],
      "text/plain": [
       "      Region  Month  Day  Year      Trigger                   Weak Layer  \\\n",
       "0  Salt Lake     11    9  2012  Snowboarder  New Snow/Old Snow Interface   \n",
       "1  Salt Lake     11   11  2012        Skier  New Snow/Old Snow Interface   \n",
       "2  Salt Lake     11   11  2012        Skier                       Facets   \n",
       "3  Salt Lake     11   11  2012        Skier                     New Snow   \n",
       "4  Salt Lake     11   11  2012        Skier                       Facets   \n",
       "\n",
       "   Depth_inches  Vertical_inches     Aspect  Elevation_feet  \n",
       "0          14.0            360.0      North         10400.0  \n",
       "1          30.0           1200.0      North          9700.0  \n",
       "2          36.0           5400.0      North         10200.0  \n",
       "3          18.0           6000.0  Southeast         10200.0  \n",
       "4          42.0           9600.0      North         10400.0  "
      ]
     },
     "execution_count": 11,
     "metadata": {},
     "output_type": "execute_result"
    }
   ],
   "source": [
    "df_task_1c.head()"
   ]
  },
  {
   "cell_type": "markdown",
   "id": "753ed0a8-dc0b-4ac8-8afd-b554ea8f4d28",
   "metadata": {},
   "source": [
    "# Task 2: Filtering data\n",
    "\n",
    "In Task 2, we further improve our data by removing outliers and removing certain records to have more consistent data. "
   ]
  },
  {
   "cell_type": "markdown",
   "id": "7f25d8f5-98e8-4b0f-9358-ed85f77cbed8",
   "metadata": {},
   "source": [
    "## **Task 2a: Remove Outliers**"
   ]
  },
  {
   "cell_type": "markdown",
   "id": "ac53a605-2d10-4457-9625-70ce88f04f3b",
   "metadata": {},
   "source": [
    "In this task, we address data accuracy by filtering out anomalies in the elevation data. We observe some records with elevations outside the plausible range for Utah, suggesting recording errors.\n",
    "\n",
    "**Remove avalanche records with elevations below ~4,000 feet and above ~15,000 feet, which are outside the realistic range for Utah.**"
   ]
  },
  {
   "cell_type": "markdown",
   "id": "664c641e-1193-4233-8897-0161f209c86f",
   "metadata": {},
   "source": [
    "#### **Instructions**\n",
    "1. **Identify and Remove Anomalies:**\n",
    "    - Interactively select data points with elevations below ~4,000 feet or above ~15,000 feet in the Persist Scatterplot.\n",
    "    - Use Persist's interactive features to remove these anomalous records.\n",
    "2. **Verify the Output:**\n",
    "    - Print the head of the generated dataframe to verify the changes."
   ]
  },
  {
   "cell_type": "code",
   "execution_count": 12,
   "id": "73d5727a-f059-4bf3-977c-1ce0d6d92eba",
   "metadata": {
    "__GENERATED_DATAFRAMES__": "ᯡࠩ䃬࿀ᜤᠹ悋ᐤ推̅ሣ䧠ⶠ卍捯ᥔᠣ℠▢dʘϔᝠ捌〤瀵摠៨⠠ ",
    "__has_persist_output": true,
    "trrack_graph": "ᯡ࠽䈌ʀ匦㢠⹰৥ĸ⠳<堶䀱傠Ⱒฑᡠ㘹禲䔠朘ِë᠎࠵䫨⥈kᑄႉᦐଷᓃ❡妻✸ẝΤð䀡妴ᆯ奀ॢȠநẸᢀ㜰䁾巒ૠ˴㽴3䧩-儧⏓儩᱔籈℮ܲ䙯杧惀烐ᑘሸ㬳஫൦▇灨Ɣ笚ܳቛཱུ䐶⋑䅠Ȅ恨琠㭛ᶿ䖭槧コߚ稠嬸ᖹѤ٦ҡ䵺䑁ᶨც䡁ዠඁᭀ܎䏪Þ㵣䫳ӊ悡嫻䍌愆嘠传ϓ痧挪旿㱡⊇Ꮿㆱ⚄ЮቨうႢ䂱呆ଯ䃠冞ካ榑砼ᾯ氀屶᪨ↀ䱔஭⁃ṗ吉ቔゆ娊㥒稨䩃୰焤䥎⋅楬孋䰅ւ品ၢ僷ᖽ௤ᴘ兌䬒᥌嬸ᐴ䔲䳉爹䚐␠͈䳟୪ ࠠ冊吲姌ጦڸ䴠՚ɧ炑፵䄡ᮘ㻛$儈⚠൦(囌ᡆ樤纐㏝䔗㵄㬫䑫綾൸එ悦欦悊紞ၽ㌩ツ㼻劢䨘㨵Ṥ䣌ⅽኣ㫽㸸务䢄๗灄䡀᛽瑙ᱎᒣۡ炔㲢䋂椔⌥䄃㣜¨▂㲔䍝坸窝è㈉و⓺㖸Åዹ啸䭻໢ߺ໧㷼瞻䏂㗯ᯚ㚚᰼↡䵬Ỵ纓ਠ䁇འÎ〴Ҽ៱灒ឣ熜ဨ㥸ἤঢ傴`瞲ℤ瞰拐枯⋁漲†窊Ɽ䁰⿀℄Ꮋ⩜戣二ᮦ岜ᡧ⣲ᅥ⅝୧棩ʸ穎ԣ⡌≩牪ຣᔤ䏣炎䮫倸࿠⦞⊠墽ۦ⑒Ԡ␲ᳱ䣷๤Ԋ᪅昫℁⽻⾋♰䬋崲!槤䤢䇚㨭⇰อ…ຫ甚ᛪ೿⒏凃ᠫൢ㵬䵳ฤ狐ਫ珸ฤ㷸㔦㥸䠣䊔庹炘熶èᓡ䌈䌻䳝i叔殫吔䨸㉈握¢ॸቖ⠥ͤ⤉炸⢢ダ᠊ƚ罹ᅌ嗍㴍Ϗ䳜㞡㶊⮠\\咲ཐ啨ػ繄䘪ᆴㆭ幜ý㎂枺⁋智㓋䍐ⱶ敒徨ₒ㤫䬀湧䬒㹿䠫汅ℨㆂ➫঎ᅪ㠪ͪ㨷歘朶䫫沜旪ٵ䉒⁙ీĤ஡席勃ⶒਤⴠ◃坡㘙罀ᚐ昬ᒱ判玱␬牱珊䉼ᨪ盱殫瓕玚Ɯ斻响嗍㓩ᑃ㙤桋㞍㩷㈍෋ࠍ抸儠㳥㋌⠭㏌䋳㔶涧㒷籏ㆶ媱䅛擤悡้咂䛋⅔嵬¸࠽䒐姚氐礁民Ő⃹嬢ⱅ䦺♲䌦ᛁ䢼ᛘ㗋ǡ≹eї➤Ρ乍⎴垅᳜刄椲倴示儵᪣⊉䚧⌉㵟␹ᤤ⌁䞨ʸ㌼惝噕䧜稽炜䝌ࣘ澧痙恨؝〠ਢ㷤ᆣ睄ຢ悓爜佂ࣛ畺ୃ粆ྋ僾෗✗ࢋ䙪᭦᣶ᳫ奧ཿ฾⫾䣳⦊߬ᨨ⛩羧ङో䕵筿㠆硦ᒙ䦞䟡ॉ濣竦☊⪲௵稵淟䐢㢿窿ࠖᥞᇂて橀Π᰷燽ຣ਷Ðथ㩌⑀☡䄔Ǡ␶ऐҡ㠬Ā᫴ὸ㏊糄䙰ੀ䄯᧏ᬺ␤aඥᱍ䈘㾠Ә湬䰲䷧ᙡ❍ᩈᴁ⡥杰䴪峢໬㔼࣐ؓप̛②嘸Юር棡摡䰢䇰ə⎬㧧ⳓ࢙㕱甿発ᷩ㩄ᰬ㱚⏇㊸粒呣㗴ͤ拦争ᚩ嵆凱ᴢ㆚ু愒బღ౛☴签ȃᅐ䴯⇙⪇☧ㄼ䤡㛬⁹滸奢С⭎⍰㝢悄╈ഩ⁼ܩ墸ೲᶣ㨳d㔧䊒෱ԏ⩩楁૯䱵䁻歐孖ᣖ殎时榏氥潨䗧㥫徒㉜ᇧਃ垓摸䜍㓭淐笠燻䪚張惼᠀㱟搾⍧㣀੝徤À䴆↿㣯т捷բ瑄Ÿ⫝̸䟭粀√ᢓی甮弸؞≁礴⠢ࡘϓ᳊繺砢耕煚坒䥪刕ᡠᐵ䃒ᬤ᝖፰ᙎ扶ڨ瘣D䑲⠽Ł⛉懜硟㦲Ö唠㇏燖⌀℺ᕽଡ᳀᪬⮄䐼ཪ㴭嫂ਵ慲ᑖềቪˆ㿲╀ㄦ瓌擵⭢䃀咪䳪ၹ⮘獵ጙ⿞䛁⫪嘪℣哠ொ␯⨕㾤ඇㄺ圧○ဳ卧愆坱ᚾ䏼宣ⴭ垶㹰ᗑᾌ㍡歄ഋᵪ橽⅕̚Ꮪ晲⃌廪⥷兽Ꮻ㻈垪䉴䫴囀ゎ⠰愣㕡⪱䞛准ᣍ㕉掇̬ʍ慤柣⓪愤㡤摄焰㢭亅å⚋ᇌ槄ر⊰஠弡ⓠᅩᓖ׶Ɱⅵᢱ䓟Ċ⇅勓▐⭫䭩ЍǺ⧣兲揆升㻆᪌盔箩檓ٞ⮉䥞ᎌ監᤽咒䂋宄冄箓䨼຺灶ᅨᩀᴌ⽦䏁䜸䮪ቓࣼ䌊棥梡㮬岦Ⴡ檟L娅&癸嘶Ἃᾙᭉ祖ؒ⹛爌澗瞟搢掲ʳ溓ᝀ䟎㸨婌筁⏬⽰⦙ᨳ㸻掻䣵ณ㾙⇍฾䌸彦▃㾾祺壋俻䝿庭磲ᦟ₹罎ႃၿ׮昢憣⫀〴䔙௠䲾਴פ⛮恸ૡ塕塵妢砻ϙ١⑴䊠䲡嗹峆彈楸⣗墇Ҧ漩ጡࣆ圥⛂ჺ਩娹婧᜶䇎ވ玐⅀晩ƶਖ਼ẞ寇ɧᮃᣨ䭒֦䂢¨縙ᓡ՘剷㳆䝪宮浪溹楀ᚽ⁌␠ "
   },
   "outputs": [
    {
     "data": {
      "application/vnd.jupyter.widget-view+json": {
       "model_id": "2bfa325e64004d88bbb11cf70d0881d3",
       "version_major": 2,
       "version_minor": 0
      },
      "text/plain": [
       "PersistWidget(data_values=[{'__id_column': '1', 'Region': 'Salt Lake', 'Month': 11, 'Day': 9, 'Year': 2012, 'T…"
      ]
     },
     "execution_count": 12,
     "metadata": {},
     "output_type": "execute_result"
    }
   ],
   "source": [
    "PR.plot.scatterplot(df_task_1c, \"Elevation_feet:Q\", \"Vertical_inches:Q\", df_name=\"df_task_2a\")"
   ]
  },
  {
   "cell_type": "code",
   "execution_count": 13,
   "id": "40f5d770-70ec-4e18-ba7b-deb4c262b1f8",
   "metadata": {},
   "outputs": [
    {
     "data": {
      "text/html": [
       "<div>\n",
       "<style scoped>\n",
       "    .dataframe tbody tr th:only-of-type {\n",
       "        vertical-align: middle;\n",
       "    }\n",
       "\n",
       "    .dataframe tbody tr th {\n",
       "        vertical-align: top;\n",
       "    }\n",
       "\n",
       "    .dataframe thead th {\n",
       "        text-align: right;\n",
       "    }\n",
       "</style>\n",
       "<table border=\"1\" class=\"dataframe\">\n",
       "  <thead>\n",
       "    <tr style=\"text-align: right;\">\n",
       "      <th></th>\n",
       "      <th>Region</th>\n",
       "      <th>Month</th>\n",
       "      <th>Day</th>\n",
       "      <th>Year</th>\n",
       "      <th>Trigger</th>\n",
       "      <th>Weak Layer</th>\n",
       "      <th>Depth_inches</th>\n",
       "      <th>Vertical_inches</th>\n",
       "      <th>Aspect</th>\n",
       "      <th>Elevation_feet</th>\n",
       "    </tr>\n",
       "  </thead>\n",
       "  <tbody>\n",
       "    <tr>\n",
       "      <th>0</th>\n",
       "      <td>Salt Lake</td>\n",
       "      <td>11</td>\n",
       "      <td>9</td>\n",
       "      <td>2012</td>\n",
       "      <td>Snowboarder</td>\n",
       "      <td>New Snow/Old Snow Interface</td>\n",
       "      <td>14</td>\n",
       "      <td>360.0</td>\n",
       "      <td>North</td>\n",
       "      <td>10400.0</td>\n",
       "    </tr>\n",
       "    <tr>\n",
       "      <th>1</th>\n",
       "      <td>Salt Lake</td>\n",
       "      <td>11</td>\n",
       "      <td>11</td>\n",
       "      <td>2012</td>\n",
       "      <td>Skier</td>\n",
       "      <td>New Snow/Old Snow Interface</td>\n",
       "      <td>30</td>\n",
       "      <td>1200.0</td>\n",
       "      <td>North</td>\n",
       "      <td>9700.0</td>\n",
       "    </tr>\n",
       "    <tr>\n",
       "      <th>2</th>\n",
       "      <td>Salt Lake</td>\n",
       "      <td>11</td>\n",
       "      <td>11</td>\n",
       "      <td>2012</td>\n",
       "      <td>Skier</td>\n",
       "      <td>Facets</td>\n",
       "      <td>36</td>\n",
       "      <td>5400.0</td>\n",
       "      <td>North</td>\n",
       "      <td>10200.0</td>\n",
       "    </tr>\n",
       "    <tr>\n",
       "      <th>3</th>\n",
       "      <td>Salt Lake</td>\n",
       "      <td>11</td>\n",
       "      <td>11</td>\n",
       "      <td>2012</td>\n",
       "      <td>Skier</td>\n",
       "      <td>New Snow</td>\n",
       "      <td>18</td>\n",
       "      <td>6000.0</td>\n",
       "      <td>Southeast</td>\n",
       "      <td>10200.0</td>\n",
       "    </tr>\n",
       "    <tr>\n",
       "      <th>4</th>\n",
       "      <td>Salt Lake</td>\n",
       "      <td>11</td>\n",
       "      <td>11</td>\n",
       "      <td>2012</td>\n",
       "      <td>Skier</td>\n",
       "      <td>Facets</td>\n",
       "      <td>42</td>\n",
       "      <td>9600.0</td>\n",
       "      <td>North</td>\n",
       "      <td>10400.0</td>\n",
       "    </tr>\n",
       "  </tbody>\n",
       "</table>\n",
       "</div>"
      ],
      "text/plain": [
       "      Region  Month  Day  Year      Trigger                   Weak Layer  \\\n",
       "0  Salt Lake     11    9  2012  Snowboarder  New Snow/Old Snow Interface   \n",
       "1  Salt Lake     11   11  2012        Skier  New Snow/Old Snow Interface   \n",
       "2  Salt Lake     11   11  2012        Skier                       Facets   \n",
       "3  Salt Lake     11   11  2012        Skier                     New Snow   \n",
       "4  Salt Lake     11   11  2012        Skier                       Facets   \n",
       "\n",
       "   Depth_inches  Vertical_inches     Aspect  Elevation_feet  \n",
       "0            14            360.0      North         10400.0  \n",
       "1            30           1200.0      North          9700.0  \n",
       "2            36           5400.0      North         10200.0  \n",
       "3            18           6000.0  Southeast         10200.0  \n",
       "4            42           9600.0      North         10400.0  "
      ]
     },
     "execution_count": 13,
     "metadata": {},
     "output_type": "execute_result"
    }
   ],
   "source": [
    "df_task_2a.head()"
   ]
  },
  {
   "cell_type": "markdown",
   "id": "b447b862-90c6-4ed7-b48b-baa1cf74ac2d",
   "metadata": {
    "__GENERATED_DATAFRAMES__": "{\"nodeDataframes\":{},\"graphDataframes\":null}",
    "show_aggregate_original": "false",
    "trrack_graph": "ᯡ࠽䈌ʀ匦㢠⹰࣠✴ƀචآ൐ୠᣠ⭎¸䚀ᶥ<⋵攴≲䦆ᨐ҅䁲䥈kᑄᄈ夒ર囇⣹嗛➎帣ᢤ䀡傠Ǘ熠㥀ॢȠா䠸ᢀ㜰䁾巒•橀樠Ꮃ䤠ව׷核ᱬ䣘紲₞૦Ԡ޳ŀ凐栠晬╍ಲ䖽䂇栢沀團ᄰ㸸ሪ喊Ⴇ♁䐔粶ᦞΎ刺ࠥ簉窺簲ᖢොሧ҉䃵ⰡḠޅ毗䘤䗾墥୚渍磆搰㣄䆯䌭䊣ᎄ䢩妈䪑䴹ҩ䋫◂რ⢒ઉ⃁⽌囦媍ኘ垤䢠䍤⒂Йᘷ੡䄀҂Ქ⃱琿啡憐㲞ၯ䌨焠ᗿ搫໎㒫ல熪Ņ⎃ऺᥛ⃄ᅠ  "
   },
   "source": [
    "## **Task 2b: Filtering Out Old Data**"
   ]
  },
  {
   "cell_type": "markdown",
   "id": "c86b30d4-4762-4bc0-bfd3-6f1486b55ad6",
   "metadata": {
    "__GENERATED_DATAFRAMES__": "{\"nodeDataframes\":{},\"graphDataframes\":null}",
    "show_aggregate_original": "false",
    "trrack_graph": "ᯡ࠽䈌ʀ匦㢠⹰࣠✴ƀචآ൐ୠᣠ⭎¸䚀ᶥ<⋵攴≲䦆ᨐ҅䁲䥈kᑄᄈ夒ર囇⣹嗛➎帣ᢤ䀡傠Ǘ熠㥀ॢȠா䠸ᢀ㜰䁾巒•橀樠Ꮃ䤠ව׷核ᱬ䣘紲₞૦Ԡ޳ŀ凐栠晬╍ಲ䖽䂇栢沀團ᄰ㸸ሪ喊Ⴇ♁䐔粶ᦞΎ刺ࠥ簉窺簲ᖢොሧ҉䃵ⰡḠޅ毗䘤䗾墥୚渍磆搰㣄䆯䌭䊣ᎄ䢩妈䪑䴹ҩ䋫◂რ⢒ઉ⃁⽌囦媍ኘ垤䢠䍤⒂Йᘷ੡䄀҂Ქ⃱琿啡憐㲞ၯ䌨焠ᗿ搫໎㒫ல熪Ņ⎃ऺᥛ⃄ᅠ  "
   },
   "source": [
    "The interactive barchart below, shows the data aggregated by year. There are noticeably fewer records for the years before 2010.\n",
    "\n",
    "During this subtask we will remove the older records, keeping only the records for year 2010 and above"
   ]
  },
  {
   "cell_type": "markdown",
   "id": "24b308e8-8437-4146-9ebf-cd121aeb7f9f",
   "metadata": {},
   "source": [
    "#### **Instructions**\n",
    "1. **Analyze the Bar Chart:**\n",
    "    - Identify the bars that show significantly less data.\n",
    "2. **Filter Year:**\n",
    "    - Select and remove the years with few records.\n",
    "3. **Verify the Output:**\n",
    "    - Print the head of the generated dataframe to verify the changes."
   ]
  },
  {
   "cell_type": "code",
   "execution_count": 14,
   "id": "6488acb7-e239-4d7e-92ef-3e9d74c3d823",
   "metadata": {
    "__GENERATED_DATAFRAMES__": "ᯡࠩ䃬࿀ᜤᠹ悋ᐤ怱䐢犲ǩ怶恉宑召䵬ð䀲悠ᄡḡ沯偑嬸Ř˛ࠥ笪  ",
    "__has_persist_output": true,
    "trrack_graph": "ᯡ࠽䈌ʀ匦㢠⹱┣త抠ᰢᬀⴠᙈʓ㙔䂦Ǹհᖦ娤怭䁃᝔浱涎ⓀŌ傰䋄懯䱬䊱㕚䛭ⵛ㬗爲&䈠۪圬ǩj࠰|穠怣㣣ט䈲曽娠ୱͰn杄V䐭䶨ᎀ㎀校䰤㣖₱᢮ᕠ偓న側∼䙹භ䛢%氈ഽ♨ഝᨰ⪺挥'䦡ၘ㐹ದحᒮᆶ惨搈ƌヶ⨱࠵లଢ଼㔰䆖ၢ啀屋U劊䀷崨吢縔䟋䅊ᩕ䄳㷗Ź䏯ⰡḠݷ宯䘭ߔ籀儫䞀㣈㍒ȧॄᡀ䮥Ⴈ撦ૢ瀸扏₶怸绂⏥恐䅉Ԣ⒱㬧渔䢺ᠫ⬓ḉ紤┱䘂䓒⪲ᇲⳃஷ攪䲩♷䲁㜳ᴵ䐲⒪⚴旒幡⑴ૈ狕ⲃ哼R哯竔倠 ӱ刢㵠š䈔ౝ㫡Ȋᚬ咠ɱ法⡍掣㖗ិ树Ȼ᡻Ň㒸ķǀ〼䙭ˀࣄ⸰⏂ؼᄦ䈉抢ణ䄂⬚⟨皒屲㨫Ϣࡄ㤲䗃㊊㬫䈁砢ᨸ⒋᫚杻嘋窣ヴ䃠煳೮㊦᛫୭㠗㛛Р牘亯ס〫⻗㷴矱愂ఠԴࡓ㮣抠䃷ဠଆŠ䠙綒秜弿䐧佸㹐∺ઠၯ剤જ䙔ᘋ䳔漲†稪〘䂐₀供戈橏↓彯會㽿渦ὀᜃ¸⿂℈᥁堬Cじ慢灖ܱ桢䆰⢌▸ࠡԠ㉮┠戤⮠䀤ሠ㽩բ偛຤䃼ḥԙ䒉๰侈᡽ྉ墉៰桙ᵦᓲຒ㤎ᜂ碩'ⰬሣÐգ☷攤惯⎈ȮᯂႾ៧㓽ᰧḨг೜᧒䁓橂୛ࡂ䑳ԠḰ䨠糟᥁䒫ᣳ㰱滈䀠Ȏ┏⒥屘盤ሢ䡩ጴ沿㐴緍䆴䕮㧮ᖵ抰䋫㈿′ΐb㴀㞠Ȕ恫俜⃋ ႒⢫罀ᘤ⹙䎥ቔ䅌牙㑱䩕ㆁ㗆䂌㨢燈乄ᄀீ㎩䆪ጬᇑʬㆼぬвㅬ榦㋭䊤䎐⭺洭懄㚭㇜㑭⧁澩䞖㕴♄ᄠ媼෵ۑ单皱ە㛝劔⺳䎔⁌৵庿䐩䅆愠䑑䊂᤬˨䌦Ⓜ㜬A塖պЧ΁ᦰ㙄䓼書禿呌披ᒵ沬圄㥁ЅૉՉ䪷䖌浛㑠㵅圌煙ǁ㉨ڹ㍜愼㘸睹䞴熽䝉恼坈䇙篑烽〮珽⮴ო䞹矶埄᧜傳⮑࿓燣⾻䥊徬ȝ㜺ೋᢃ䨩䁦☣⥧帢䑓⩡㥺䵊⡳怂⻾䮖〯弗Ỽ⠗ࡖ⨯眃尜懮䤣ሔ㢥偼Ȗᡜ㦲䨒ࢗ⡺㿓ᨇ妯䂋梣姯撲䗨į⧽䣯晴㳎瘎㴖ᤡ㰈䑃㳲旻㪒᷷嬎㻣Ўໃ㺏会㳢䊐ଫ㼔绡㏩㴯⸂篏䰑嘢爕奒Ȝ䣾⨜習䯪翮䠋䱏䖚䪏ᯫ㣊௾䫟篭㤲ਅ卟☖羞市廝殝痿崧峈Ү碹ἒᲀኾ倲㹓愝䇹籏䐫ネ㬿ᮠ㨮ظ䄯䠤߰〱←ᵂ挱à⤤␬фȳ⃪䡀䤳呠ကİዕ㽶ࡗȺ夦Ⱚॸ⨩䅆䍣歐㌨ᳵ周⃠פ䛘ʬ棠䁑䬹⠮ᨃŒጲ㕺㊋惇⥀牁⏱咢㇑΃⹗挮ц抁惄攡擮悬ḈⰬɬТ㢝⊦㮦梚䨄⹁Ȕᗲଯ䠸᭱䍿➦ⶠ˴楀᝱姶嬉㛍欍϶♴暚䳣⻴䭨ᴣ㈙䯑ف⎀ጰษ㘼▭ᛋ୍༿∅儂ᗑ壋᫕歨䲦䷭噚䂘刲硺・㩱⢻ⵅ幪⃖ᚥ㙸᜘相嵼⧣߆୵⵰㕆僾榾䇎滽ᙺ擆ⷦ噾䠹ᆶⴍ䶹䀼㺟旝⿾撺儥屐⚤槩㽈௲䰽繀Q䘦ᄣ ᠻİ݂倬h巆ⰶ䬰䱇僈㒠㚄斵ᚷᲰአ儤ࢗ๙燫䑯ᛡ乖懐佴炡刁拧戒Ÿ䨪奴ѥ欶䉖Ү呉੠㢠摭斁ַ䍫Ⴕ䚩ᜨ窧ኹ劌⼢㰡ല渠抨ᔹ౩䔰᦯⣫ೱᬽ冖ᯂ木  "
   },
   "outputs": [
    {
     "data": {
      "application/vnd.jupyter.widget-view+json": {
       "model_id": "70970d7a0370400b9e1365fa1a15287c",
       "version_major": 2,
       "version_minor": 0
      },
      "text/plain": [
       "PersistWidget(data_values=[{'__id_column': '1', 'Region': 'Salt Lake', 'Month': 11, 'Day': 9, 'Year': 2012, 'T…"
      ]
     },
     "execution_count": 14,
     "metadata": {},
     "output_type": "execute_result"
    }
   ],
   "source": [
    "PR.plot.barchart(df_task_2a, \"Year:O\", \"count()\", selection_type=\"interval\", df_name=\"df_task_2b\")"
   ]
  },
  {
   "cell_type": "code",
   "execution_count": 15,
   "id": "da16241d-e162-4d89-bb35-fab59701d847",
   "metadata": {},
   "outputs": [
    {
     "data": {
      "text/html": [
       "<div>\n",
       "<style scoped>\n",
       "    .dataframe tbody tr th:only-of-type {\n",
       "        vertical-align: middle;\n",
       "    }\n",
       "\n",
       "    .dataframe tbody tr th {\n",
       "        vertical-align: top;\n",
       "    }\n",
       "\n",
       "    .dataframe thead th {\n",
       "        text-align: right;\n",
       "    }\n",
       "</style>\n",
       "<table border=\"1\" class=\"dataframe\">\n",
       "  <thead>\n",
       "    <tr style=\"text-align: right;\">\n",
       "      <th></th>\n",
       "      <th>Region</th>\n",
       "      <th>Month</th>\n",
       "      <th>Day</th>\n",
       "      <th>Year</th>\n",
       "      <th>Trigger</th>\n",
       "      <th>Weak Layer</th>\n",
       "      <th>Depth_inches</th>\n",
       "      <th>Vertical_inches</th>\n",
       "      <th>Aspect</th>\n",
       "      <th>Elevation_feet</th>\n",
       "    </tr>\n",
       "  </thead>\n",
       "  <tbody>\n",
       "    <tr>\n",
       "      <th>0</th>\n",
       "      <td>Salt Lake</td>\n",
       "      <td>11</td>\n",
       "      <td>9</td>\n",
       "      <td>2012</td>\n",
       "      <td>Snowboarder</td>\n",
       "      <td>New Snow/Old Snow Interface</td>\n",
       "      <td>14</td>\n",
       "      <td>360</td>\n",
       "      <td>North</td>\n",
       "      <td>10400</td>\n",
       "    </tr>\n",
       "    <tr>\n",
       "      <th>1</th>\n",
       "      <td>Salt Lake</td>\n",
       "      <td>11</td>\n",
       "      <td>11</td>\n",
       "      <td>2012</td>\n",
       "      <td>Skier</td>\n",
       "      <td>New Snow/Old Snow Interface</td>\n",
       "      <td>30</td>\n",
       "      <td>1200</td>\n",
       "      <td>North</td>\n",
       "      <td>9700</td>\n",
       "    </tr>\n",
       "    <tr>\n",
       "      <th>2</th>\n",
       "      <td>Salt Lake</td>\n",
       "      <td>11</td>\n",
       "      <td>11</td>\n",
       "      <td>2012</td>\n",
       "      <td>Skier</td>\n",
       "      <td>Facets</td>\n",
       "      <td>36</td>\n",
       "      <td>5400</td>\n",
       "      <td>North</td>\n",
       "      <td>10200</td>\n",
       "    </tr>\n",
       "    <tr>\n",
       "      <th>3</th>\n",
       "      <td>Salt Lake</td>\n",
       "      <td>11</td>\n",
       "      <td>11</td>\n",
       "      <td>2012</td>\n",
       "      <td>Skier</td>\n",
       "      <td>New Snow</td>\n",
       "      <td>18</td>\n",
       "      <td>6000</td>\n",
       "      <td>Southeast</td>\n",
       "      <td>10200</td>\n",
       "    </tr>\n",
       "    <tr>\n",
       "      <th>4</th>\n",
       "      <td>Salt Lake</td>\n",
       "      <td>11</td>\n",
       "      <td>11</td>\n",
       "      <td>2012</td>\n",
       "      <td>Skier</td>\n",
       "      <td>Facets</td>\n",
       "      <td>42</td>\n",
       "      <td>9600</td>\n",
       "      <td>North</td>\n",
       "      <td>10400</td>\n",
       "    </tr>\n",
       "  </tbody>\n",
       "</table>\n",
       "</div>"
      ],
      "text/plain": [
       "      Region  Month  Day  Year      Trigger                   Weak Layer  \\\n",
       "0  Salt Lake     11    9  2012  Snowboarder  New Snow/Old Snow Interface   \n",
       "1  Salt Lake     11   11  2012        Skier  New Snow/Old Snow Interface   \n",
       "2  Salt Lake     11   11  2012        Skier                       Facets   \n",
       "3  Salt Lake     11   11  2012        Skier                     New Snow   \n",
       "4  Salt Lake     11   11  2012        Skier                       Facets   \n",
       "\n",
       "   Depth_inches  Vertical_inches     Aspect  Elevation_feet  \n",
       "0            14              360      North           10400  \n",
       "1            30             1200      North            9700  \n",
       "2            36             5400      North           10200  \n",
       "3            18             6000  Southeast           10200  \n",
       "4            42             9600      North           10400  "
      ]
     },
     "execution_count": 15,
     "metadata": {},
     "output_type": "execute_result"
    }
   ],
   "source": [
    "df_task_2b.head()"
   ]
  },
  {
   "cell_type": "markdown",
   "id": "8a92b8a9-c3a8-4a57-be3b-c9cdc977092c",
   "metadata": {
    "__GENERATED_DATAFRAMES__": "{\"nodeDataframes\":{},\"graphDataframes\":null}",
    "show_aggregate_original": "false",
    "trrack_graph": "ᯡ࠽䈌ʀ匦㢠⹰ೠ⬠沈֭⠸恍ff9昽䁮ۦ࠰汬നڀপ㈏䣹厠㬦ተ¶⡨⇱㌀ᅁ╶庳ୖ⹜簧ଭࠣ℠Έ橦औ䁅ШNႦ〡岁䏼ℭ㞁摞+㢱䨠Ԋ牠Έƕ٦枓቙ჿਸ旑䅠Ȅ恨戬പᎭె䝁净儬Ö᡻⌸䐱䘩׍宨⇓ࡱ䍲ච᫲壬จ䙤Ɲڣ圖⍞ᛡ৽ण䃔戋㘠传ϊ揿振䘌汣䓼㹮䘫㈨ቺ⩯↧ᄨXഉ⠅ㅖࢢ侸⇄僡ಖࡢҁ氣С宍劄倶䢡⍤㲂̤㚗٩䄀硂಩⍰琦ᦪ悑屾ᾨႨ㺜*瘪䋇޶⋤ᓘ犠䭳঺᥇⏰ᅠ  "
   },
   "source": [
    "## Task 3: Data Wrangling"
   ]
  },
  {
   "cell_type": "markdown",
   "id": "9da80393-7f4b-4115-a4d1-5b7978e11358",
   "metadata": {
    "__GENERATED_DATAFRAMES__": "{\"nodeDataframes\":{},\"graphDataframes\":null}",
    "show_aggregate_original": "false",
    "trrack_graph": "ᯡ࠽䈌ʀ匦㢠⹰â䂬ƀᶷ琶䁋c<搔怳ଚ䠳亡䈤㉕⁖ì⺇⊨攩ᐠ▨戰㑹㧒妰囇⃹喧㝞Ţ∠桠ûு䁔䈠ॢȠந㺸ᢀ盅⻿夣•晀樠Ԃ牠Έƕ稦❳ሪὦ䰼⇑䅠Ȅ恨㙎⌯᪴䶹䈁ℓ琡㙐ᮂ⢨᢬थ⧓ࡢ㌰ሚ璋U䳘䠵欯Т縔絭Sㄭۡ۹ण䉔悊㘠传ϒ橷挣⌏ⱡ䕼庮打㈨ɼ榨慢䃂॑瑐繦┭ڼ㾬⎂厃焸牘榥ᄨ䦯ඦ嘔㗆溄⒀擒摖≦၀ⶃ㧄మޢᄴ䩍རへ∦䯧焤愷䍠Žƀ夅შ㤙༾′⪂㵩掳婊⢄  "
   },
   "source": [
    "### **Task 3a: Creating and assigning 'Avalanche Season'**"
   ]
  },
  {
   "cell_type": "markdown",
   "id": "402412ae-3b84-4fec-9c01-94dd203a7b1f",
   "metadata": {
    "__GENERATED_DATAFRAMES__": "{\"nodeDataframes\":{},\"graphDataframes\":null}",
    "show_aggregate_original": "false",
    "trrack_graph": "ᯡ࠽䈌ʀ匦㢠⹰â䂬ƀᶷ琶䁋c<搔怳ଚ䠳亡䈤㉕⁖ì⺇⊨攩ᐠ▨戰㑹㧒妰囇⃹喧㝞Ţ∠桠ûு䁔䈠ॢȠந㺸ᢀ盅⻿夣•晀樠Ԃ牠Έƕ稦❳ሪὦ䰼⇑䅠Ȅ恨㙎⌯᪴䶹䈁ℓ琡㙐ᮂ⢨᢬थ⧓ࡢ㌰ሚ璋U䳘䠵欯Т縔絭Sㄭۡ۹ण䉔悊㘠传ϒ橷挣⌏ⱡ䕼庮打㈨ɼ榨慢䃂॑瑐繦┭ڼ㾬⎂厃焸牘榥ᄨ䦯ඦ嘔㗆溄⒀擒摖≦၀ⶃ㧄మޢᄴ䩍རへ∦䯧焤愷䍠Žƀ夅შ㤙༾′⪂㵩掳婊⢄  "
   },
   "source": [
    "Next, we'll introduce a new categorical variable named `Avalanche Season` into our dataset. This addition aims to classify each avalanche record into different parts of the avalanche season (Start, Middle, End) based on the month it occurred in.\n",
    "\n",
    "Create a new category `Avalanche Season` in the dataset and assign each record to `Start`, `Middle`, or `End` of the avalanche season based on its month."
   ]
  },
  {
   "cell_type": "markdown",
   "id": "86d54d80-ef52-4630-bffb-1e04d9320384",
   "metadata": {},
   "source": [
    "#### **Instructions**\n",
    "1. **Define Season Categories:**\n",
    "    - Based on typical avalanche seasons in Utah, create a new category called `Avalanche Season`.\n",
    "    - Add three options for this category -- `Start`, `Middle`, `End`.\n",
    "2. **Interactive Category Assignment:**\n",
    "    - Use Persist's interactive features to select each month and assign it to one of the `Avalanche Season` values (Start, Middle, End).\n",
    "    - You should use the following ranges for assigning proper categories:\n",
    "        - `Start` of Season for _October_, _November_, _December_\n",
    "    \t- `Middle` of Season for _January_, _February_, _March_\n",
    "    \t- `End` of Season for _April, May_, _June_\n",
    "3. **Verify the Output:**\n",
    "    - Print the head of the generated dataframe to verify the changes."
   ]
  },
  {
   "cell_type": "code",
   "execution_count": 16,
   "id": "63b62f4c-8841-4f6c-8011-cb2ee31c2c7b",
   "metadata": {
    "__GENERATED_DATAFRAMES__": "ᯡࠩ䃬࿀ᜤᠹ悋ᐬ推̅ሣ䧠ⶠ卍捯ᥔᠣ℠▢dʘϔᝠ捌〤瀵摠៨⠠ ",
    "__has_persist_output": true,
    "trrack_graph": "ᯡ࠽䈌ʀ匦㢠⹰۠⬴ِᆽ׀໠ֶŅ牓ġඈӢ䄍娆䁓ਠ᧛恓ᾧተ¶⡨⇱㌃⑊⹲媽⎆圌嶘ԩ#℠΀ࢋ⌠牠ኤР᝝ၐüメ湁˛㾓%呡吠৥撠۱ʂ检ౄ䱈㼽3䔦䃁უ㠩ै㲌ı䆶仩䏠杄偠Ú紣Ꮉ䤻俉䘪᣸惀Ēい㘱ឭç䜇玀ᥧ稠嬸න䑤҆ҡ䳺䑁嶨儊䡍᫠ඁᩔ܍䍊Þ絣䫧ࣳ΀䃺淣 獖o#䘝氃ӥ沜ၱᗯ㉘䚓ᤢΩሸΫ≄␴Π怰れᚪ䢰紤嶭担籬Ԩ悑䦞Ԩ䟹潏剬棡ⴷ唈敔儸乀䯢⥔䍅䤄礢䣆䂴效ˉݢ㼶㙏ॅᲲᵉ䮅㦜僌⪵岒廬㊸Ⴐ(ኡ†ĸ̠ǽ۬Ằθ₡ᯰ栣䦕ゑ䘥紭R亷ǌ༛ໂԝ囻⸍爘ƀ嶎੻尴Ƭ䥡禚࣡≄䙢ᚦ★ᑃന䬀䑞伨䥵稯儂燘刬ܯ䌰搸ʥ⃱瑆֦抐㱞ၬᅔⵖ収嬕絡噐搑秩媋ᩢ୅嗊奦嬽䈯娽䜧崏ᨤ圻伂㰈炑ؠʨ㠼῿㲥‰Ȅ\"峠ᯩ旚㸉埇渑ǫ᭏䨯ˢ⠡^⒬࡞ㆩ䁾ᦊ梜⒠Ȉ咴ठ⻝猝ᚻ⇔皨ݘ䁨ྐ恤੢㿌ྐ炔៰⡷瑩簣ع燓ŀⲥɀᠡϠెĀкŐ槂℀̡ᜁ墎䗣ሱ䁕癑ྡྷ篂砜يஹ䂘䲳߆آ梐㋢䴶䴭湓圤୛匔䘯圉ಶ昙罀ᘤ㘥䖥ቔ䗌牝㑱䶪䎍橇㋰㶨䱐甤ᛠ宬㎬ল㗀⦩ͬᦶ㊍㧞ㅡֿŌ护䈬掸⥐ᆊ㝬瑌⧬禡㉌▭⅑畞䡕䚹呕䁪捹ວ冸㮣呔㘤Õ㪃偓⻑伕㻟嚑Ƥ◲懟䈨Ω愠狇ॡ撷ྈ砩À䙈掃ᄱ@倾ɐ՚፡屆ǃ◗烌䎄⚨勛ᙩᣜ刄䫟ᕵ䊥␌璠猈㴿⏥⏌汨ఱʼ㌼掽㘢獸瞪獼䜫烘㯈䛙㝝擹ߑ獜អ᮹侣柱࿆᳹⿓愝哛䈜羥ࠢᬸ俢じ৘䑬঳㝂玢灚仄擢䬝㕼䧢⁒侐ቤ䚢㘩ठ炌䭸灷ᬧ洂侑අ愳ᓨC㓴俇⒙๣惌夠偗ۡᚲᇀబ̀ᐬٌ䧞嫨̾ᘉᡌ㉑䊉擒㸿怤䃋䟓䉛䊓㉜䂌䷒䖌樧㓱嶮䋽㕓䂤శ皺尼浤孲楀⭪Ꮱ殆滻㭦ၚ䞊Ⲱ਌楁獪㹻⮆㷀᭶槺挾㱚ె半㫞剔⛙劶恃倡㌂ਥ呍ⷈ甸⑒畎䣫㮾俋彠ٵ崩䂸㑒㔁岊䜓তᵤü浈ܠ僸ᾤ✙坓僸᥆恐ڬ暝ᤏᚱ冚㯁⃷ֱ㩋效᭖涥ㅎᗾ࿹洽田ᢑ㺰戔㠓†ㆼ倬݄۫壻ㄖā⇆烣⼇⍄ੜ堪䚷侑‷ೖܺ潚Ҡᰃ㑢㌜ኋ̌栥㳯ֵ媺ࢺ嬫͓啐Ҷྡ戒⏌締榊ᅸᢈ୐櫒଱㍂䆅嘼楀⊬䄩Ჱ栧ં㼥ᭌ䁚ഏ抐䢰䐧⌦ᚣニ寛඲笧ᘖ᫯盎⣸䨥奴᷐㐷㎈ア䜠剠縥尥簷㲈Ѳྩ̿⨖悓痀䰅÷殝幘┫徻㟗䘏ᾮ晠䫨悺䣁ᖜ㟰僂㧛㕄䇗ᕴ瞎౼䝢㱯䑝浩㱷岚಻兯঳ᥙ炐䇌练淄ᄽ㵃ీ䀣˱≣⁹嚀炻稴๨ા䃘嬣皺΀ᐡႉ䳠纰织╹䗩ᰶ啛厺歷㚓坝埮✂笔䡘ὤ㡀㚩偔Ҡᓤ͹摸ႃ慨ᄭ⡃㤑䌥憾牃⏡⎓柡ಊⅨ愘便狮ᄐৄቁ⒡儙េ㺄慔椥ⱂ⏥厥㯏֞⥨䠾㖥ᖀ䘂ἥ᫲䕄ᮣ卆İ⚄♱䝞ራ⊹ԍ禮䅈±戺τ泡㭕癑侇㊆ᵸ㈮場᫧岨㯸瞰䞇ৈ圸䁄ט㵝⨚㚊㛅磂≁ၑ䷀঵ᥓᝒ۱㊂㯆窜嘬勉೵⫨熲悺孓獑㍪坅方䉾㭤ᨾ獸憈㐠ŭ䃼૵浴〠አ㕋ቡ怣囼⣰䘩在皧ⓡ᧩慆ő֪ࡂ₂ድ䳜⏬渧Ғ哒俼│⟧矟䝄娓ⓐ䢩ⲿ㺧᜔䎳琦ࢂ牐扄ప͛䡡よ祈ộ僻㥐⬐Ůھ࿪惢ล沄՝兣弴A㢺婉᭨䱌㄀䂸ࠬ炨廣峴▤⪻慽᧐椰䊹㌜჻⢁喫䯔⎑┈ྈ堲盒繦Ơӥ娤࢕䢢䇢⎉ش⪍ᆠ炎ݨ็穆уダⱗ㒪঑痬்㠲ᔨ⽻僌ದబ灏╩⒔䪱ᠢᡉ䍥惺ඍ⠰悑䉀漶䢳拺ሴኪ㐥儥ⴖǡ∬惀ᄺ䁓໑撣䇖୾㧮⩀ Ẵ䨙ሤ礬㤖ᇂ๔਽౪䍘ၴ圄㎚ቖ䄢ἑ怯䀠㺱睨仕夸Шᝡᐍ᧫㙻洼䋧禀㣸䞵ܧ਒䤁ᕑ撠栫㧃█Ⓤ⏦抉㤴歠㓺唷ᢰ姖䂓⽴㴌㞙瘕稄浭䷄ஹ嶺絇ሤ毱你獚毉砯⬕ὸ㔞堺䍴筏᱔㞷⟄໳坴䉐琥抴ڡල䒦ඪ㍂₥缣灵⥌ⶨ繡弁㋏刦ㅷ٪嗊䛋孋⧵柁ࡠᲓ⁎孧ᝁ࠸惖淯丧䠥➽涄ᦑ潋ȧ㰅况犮币ჩ欥᧺᎓尙㑑㬈笵⾞瑨縉䤞㝰嫚縊叔⍔䰒ะ十⃦䃣甎ʠዮ旆㶄峂柬⾴岠唧ⶬ祐璑彂煎㢠⠾ᴉૌᠭⷵ厄㗖ᔼ囑᰽㗷檮㇥ઊ爕〄⅘㗆嵇㰦欴磔唖樤睱怱煺㞖畩熠樊㌕⼋狧㤝㽌䬍慚䌹䀩䁠稌楔䉔毬㕚㊊晱䄰㬠ӌ䃨波ド߲Ƞ䂚バᑆɡܢၼ瀋ܫ¾㜺㆙䔜繏厐⺥于圀෍厷悈ͥ罪珇ᗔ㜂֍型⃷不緟浿ᮣ䏄瞕䲖űࠃ㰇̋姝׼㌯㦛⯝㩈瑹哦侉䑈懊㉏柟ɴ㰱⒄⊋爮䗎ခ喚ㄆ祏㡈┽玫㘐筤昭͋⚦ᾚ㶶粱ɟ晋㩼撳ᆍ松㾁笆ŃㅶՐክ䀠㧥ฟ䵴䕮㞔娉甉漙䘇儯栖ˬᩲⅱ❪䟾⑯⵮చ也呷᙭➀ᙣ䯁糬祿姌朄愃墷䧣䔂㽆䝙⢨ט涕殠ⴒࢰ䎖⴦ႍ䚎ஔᙜ䒍枎㵳䁾崰Ს㔅₉尲ơ⮖悊ⲕຶ䝲ᨯಒ樊糑ဠ㖵愎ᦓ塚屃⧜☧ҥ敪ྰ皤䔤䠵Ѡ௣偃ⰱ݂㓠ढ़岦䥶㲐Ꮗ©泮ᛕ㏙ᶦ८ዅ䷋椝抒瀶╗䕎ⶒ堷䰻㕡䓘紦涬㱡✾碀⟒ᢳ沖ȵ➹汇♢⧲僄ᘇ➖紕в塷⛚ȕ୒ᔗ未ᘶ矎䶈湢≑ҟ㵇欖ᶂᡏ梈䮜Ȧ瀸戊桨ҥ昩 ΰ删灉㥦⦸Ⴎ⧖൥䴦ᐕ䇖Ⳣච崠ぎ䈘ீሧ⇖痠悞㊫䄻㲈愚䉐旍偪ự疅ଢ଼㷚᜖弯凃ด০§ㆨǆᚴဣ偸㈘揈慗桌瑠ๆ䢔儴䶊ά䚮㑢䱛橱↫䄹㵔揆∔咛䀬撆D䎵䡝倞ᾅ狓䠣䰡撗姈呀ᆮ狃怬呰ϡ㤤㘱䀤᳔㶂搨䌻ƨ柳ၙჄᚠ檐ⲗ͆Ⱙ縪䁀䉁Ꮒ儩䉤䐁‚䑪玵ʨ攊㨨竟ĸ᳡⚵ゔ≘Ṷⶔ杞桦°㘧α礱ۤᗑ♐恶䑐殕⚾ᕸ㰨⁡巍䑡᎓䡉̞䦡Ⱐ傏帆昢竳䫂椺ᨾ᮳䃉䍖泘椑㳕䌖殁侷塰甼᠒ᜨ柈ᓓ斖⊅柗䏩乑䟒矁絈汦ᠣ䅗愚㠧㩼ਘ̱֐҄籦ᐉᶩ穳㧧柚⃭㩨㋝ᐉ氦俔啺ᦚ䣮矐㉝ᨹ཮ॐ緼Ⓓ✔ڗ㵈䜤㨭窟劽ᇱ䋮ᚘ㎓ᯚギ㪙∿⑹泓䅜㎧梹㼨価㈻ᱹⳮ屮㏻ኹ㫪俐籠݀ĥ䳓瑍⣀䉣搾©ࢸ⠡࡭ࡹ⿠稡␩䴾ኂ湱㲀ȱ掆ⅵᴼ湊罄揂ↀᣩ憦ἫĐ۩°牵8෩縥牡楂6䅭恥玹ᶙ寮恝狙᪱柫か爥ᥡ䤠P囁ܨ㑖َॽ咼⭺⟔䍽ᇅᩖˎ◩䟠䐪Ƭঈ䠴⁦搃崱Ⓥ兂䂑ࡳሢ䓾Ңⰲ槥䓈▨㘳ሰⓠஈㅳ஄ᠽਡ僢戎宛䩧䝳⮬社栺␄瞨ᵜࢮ姢䡎㭗ٽ䐠ᬵ՚࠷体䘈᳔暶㽓αⴊ䑦㛒ᴿ࣏拤ԡ⩋㞆ЍĈᐠΈ␨ཁ掯扦ᏆἼ墮峗㈟哥宵㍽撜⻬⋎Ĕ㭙峈廏ດᕤጪᎪ乼ᐻ䂫服᥺±╕汩䁄┷ᑊ⤨⁌ᙥ〓典⋘呅ⲫ䥴ⓩͰ㙽㐽䭼尅徠咰幾䚵亳ᬎ࢘‿ઠ㞺䐡䍸䨡櫌呐㨅ბ梭繈ڄᑾ灍偌匒ⲳ㳤䏒㦠ྴ粷栒㸓ⱴ㤰ॊむ廅傆毊㣣灆ㄐ㌊⑫ヨ㔑ᔽ堅垦佹ᛧ巣娃㓅៽䇲撈᣻歓ᩒ㶻⍰ɞƭሤ挶ᣬ㺥猽掊䘑冀ʆ墥ᔇ䮂嬣壐䉁仂ിፆⅉ䨊ቃ匘᭯嘻笸卓竤㯝ٹဵ智ᚒㅿ૨ၰഡ֦扤⊂ၩ䓎⛳Аᄲ༶狇䒙㋭焎磡⢠┼ຆᕨ٪喠室檲䌋児ূ㙯榕⃀㵷㹽狰䍶䩑L⡺⵺᜖呫⮨勸䰹㠕⚄૶̝ၿ徽ڨ᜷碫䳨ỏ愡烠੽䏦惙㧔ᅼ䖂榅炦ೌ൲}㡻,ⳍ戳ᚂὐ㐣坬狄⌱墶亏રҊ桺材咅≊㡽䬜ᜅ㢫֨䬒ᑊ㖊ᱵ疔̐ඍ᪱༮楧䡪㮋ཱᐽ兜⚶㫳壩㗢坿ዥᖘ㨴⩽⽍ᒔ㴂ᘊ᎑禶㔂⌹動ᒔ⯃緸࣯ⓨ佪扈Შ䔔⒝⻵䊑睾䃪剉ࣧ曈弼〡娵晞㦩奾喔Ӽ஡పᠫ捛᫓猬䛃箔ᢜ䪄㛫瞰喹᳤⦃穴䷻穬罾劫圚 夞爨䠜儂曍旓⸂噄䝿ᖠⴼ亂㳀嗧ὠ廷䀿㛰࿺೺䱝猧⚡尦ັѧ㌢⥾灘ీ椦Ǻ䇽㯀猦Դと環ú•⫬妲㷴␯䬴͵╽渦愗㛁㍙儧稨⑾ᜓ✏䢂拄h䢪⡵⣼̳凲嚱㗕㱺搩᛺ᎋ㉛㫸ᬁ嚇㿽恊恟攔彚☸⼓݀䓚嘱煃喩㬥❵ዂம䋳摀溼秽⟣涳漇圤㺚⏵ỗ奤⍍纰᳥睯坹對繵௨݁ᅢ䁚₳孋ࢨ䢖ĸ๰⒣㸡䖁唂ᔾ童䝴⎀␫傈ࣀׂ䣼䨇唯㢒氿椃䞿◳咎䚯喠ఋ渣競᫬※渤夀㒺ᖂ⊃㓨㙩䘺奓䦤㖃ⷂ՚厕᡼⏧窊灣ᬹ䦺暊曘㬠焽㚌ᖐാ⾻ᤌ㹍憐拽㱞梉啥ש榧椢¨掠扜╘䌸⚽᭓憥礌畑答ᇃ倔䔇⛦㧩വヺ紀᝗痴䚘ề䕻㟕Ỻ䚯ᝇ㓐ⴈ欌䋮׾࿌䍯䇜≀翅䡕ંಧ⌦禥䆪ഀ絧㨿⵶Đᚓ㩛嬍⑸ℋ㮊ㆪ眺㉪⨅㈔笢卝ᑃ㬊ॗ㥪ེ励璗㌃咭滖眗㗳䏹ὁ瞒悚⥓棗๯䲇ᩨ网⼃⦛叽楿匀ء忢偄⍑൥嗥甶ȜÂ⮷恠⟦Ⳇ䍑㼉筿㐇堏㻛穟㜛俵䉷瓴帚景く璂嬩卞狠෬狤ୟ崎㞜⁊偘ઉ⦎၁嘥ⰽ撓㐦䭘㳾㕔ἑħ䶗ż梡孟戛丼礇❑ᇖ⤠  "
   },
   "outputs": [
    {
     "data": {
      "application/vnd.jupyter.widget-view+json": {
       "model_id": "b48f299129a64eb791fb42ace3abe072",
       "version_major": 2,
       "version_minor": 0
      },
      "text/plain": [
       "PersistWidget(data_values=[{'__id_column': '1', 'Region': 'Salt Lake', 'Month': 11, 'Day': 9, 'Year': 2012, 'T…"
      ]
     },
     "execution_count": 16,
     "metadata": {},
     "output_type": "execute_result"
    }
   ],
   "source": [
    "select = alt.selection_interval(name=\"selector\", encodings=[\"x\"])\n",
    "\n",
    "chart = alt.Chart(df_task_2b, height=400, width=500).mark_bar().encode(\n",
    "    x=alt.X(\"Month:N\").sort([10, 11, 12, 1, 2, 3, 4, 5, 6, 7, 8 ,9]),\n",
    "    y=\"count()\",\n",
    "    opacity=alt.condition(select, alt.value(1), alt.value(0.2)),\n",
    "    tooltip=\"month(Month):N\"\n",
    ").add_params(select)\n",
    "\n",
    "PR.PersistChart(chart, data=df_task_2b, df_name=\"df_task_3a\")"
   ]
  },
  {
   "cell_type": "markdown",
   "id": "36e82a42-5f2f-44e1-b9a5-2e2d403b2ff3",
   "metadata": {},
   "source": [
    "## **Task 3b: Analyzing Top Avalanche Trigger by Season**"
   ]
  },
  {
   "cell_type": "markdown",
   "id": "af40bad3-436e-426c-a02f-f205597e90b5",
   "metadata": {},
   "source": [
    "Now we'll analyze which trigger is most prevalent for avalanches in each season phase (Start, Middle, End) using the `Avalanche Season` category created in Task 3a."
   ]
  },
  {
   "cell_type": "markdown",
   "id": "72455a32-623b-4b87-87d6-ca9c8ebf19e7",
   "metadata": {},
   "source": [
    "#### **Instructions**\n",
    "1. **Context:**\n",
    "    - We have a facted bar chart. The `x` axis encodes the `Trigger` column in the data and the columns encode the newly added category `Avalanche Season`.\n",
    "2. **Analyze Trigger Data:**\n",
    "    - Observe the most common trigger for each season.\n",
    "    - You can hover on the bars to get the exact frequency.\n",
    "3. **Document Findings:**\n",
    "    - Note down the most common trigger for each season based on your interactive analysis in the markdown cell."
   ]
  },
  {
   "cell_type": "code",
   "execution_count": 17,
   "id": "07df4379-6e5e-4bcc-a878-7457f7baba16",
   "metadata": {
    "__GENERATED_DATAFRAMES__": "ᯡࠣ䅬Ԁ朤壠ᜣ琢〹夤゠⹰〮⁁䁻қ䚾ኊ㇠നСࠩ瀮晼Ƭ穅5愠៤⠠ ",
    "__has_persist_output": true,
    "trrack_graph": "ᯡ࠽䈌ʀ匦㢠⹰໠↡ᲈᦦᧀⴠ㚌Ő͐ါഠ䘸ࠣ䁋&㌧㚊㬢ᥒᅡ䫩ᐠ▴ሰ瑹㨓঴减⓭䎷྆縹Τ䀡傠Ǔ冤㕀ॢȠ஡䠸ᢀ眰䅽忐ಀƆᒅ\"㣙အ娠嵣ᆳ䳩૨㜑׀沀倠祐቏Ե仪⒅焱玹ದ{భ䴴∦䌤䍴泤ၹ䑨懍᫠ඎ⭢ޗ䉂Þ䎞玙഻掀䞊䒡悺フᬠ➠ǹ㼇熦算噀拎筧ᩙ夤ŅᆧᏱ⢩擄ȸ⽍Ϊ䮽䕷㊓㲩㐴تۡग㶭㓹⑩㸵ᄣܐ棤ȫⲎ㒳ǡ炤ढ䛁栬ଧ烱砢Ⴄ⑨Î₨ⲗ㢄ಜ䶪⤑濚䷦ኔ剼ᐠ "
   },
   "outputs": [
    {
     "data": {
      "application/vnd.jupyter.widget-view+json": {
       "model_id": "8825d0bd358d4a84bbcbf62c089495cb",
       "version_major": 2,
       "version_minor": 0
      },
      "text/plain": [
       "PersistWidget(data_values=[{'__id_column': '1', 'Avalanche Season': 'Start', 'Region': 'Salt Lake', 'Month': 1…"
      ]
     },
     "execution_count": 17,
     "metadata": {},
     "output_type": "execute_result"
    }
   ],
   "source": [
    "NEW_COLUMN = \"Avalanche Season\"\n",
    "\n",
    "chart = alt.Chart(df_task_3a).mark_bar().encode(\n",
    "    x=\"Trigger:N\",\n",
    "    y=\"count():Q\",\n",
    "    color=alt.Color(f\"{NEW_COLUMN}:N\").sort([\"Start\", \"Middle\", \"End\"]),\n",
    "    column=alt.Column(f\"{NEW_COLUMN}:N\").sort([\"Start\", \"Middle\", \"End\"]),\n",
    "    tooltip=\"count()\"\n",
    ")\n",
    "\n",
    "PR.PersistChart(chart)"
   ]
  },
  {
   "cell_type": "markdown",
   "id": "00e87acd-3759-49eb-9e43-d7793672297c",
   "metadata": {},
   "source": [
    "**Task 3b Notes:**\n",
    "\n",
    "- Most common Trigger for `Start` of the season: _Natural_ (_210_)\n",
    "- Most common Trigger for `Middle` of the season: _Skier_ (_572_)\n",
    "- Most common Trigger for `End` of the season: _Natural_ (_88_)"
   ]
  },
  {
   "cell_type": "code",
   "execution_count": null,
   "id": "49e0b2ad-2920-40e2-ba84-ccece78d651e",
   "metadata": {},
   "outputs": [],
   "source": []
  }
 ],
 "metadata": {
  "__CATEGORIES_META__": "{\"categories\":{\"Avlanche Season Phase\":{\"name\":\"Avlanche Season Phase\",\"options\":{\"_None\":{\"name\":\"None\"},\"Start\":{\"name\":\"Start\"},\"Middle\":{\"name\":\"Middle\"},\"End\":{\"name\":\"End\"}}}},\"activeCategoryName\":\"Avlanche Season Phase\"}",
  "__persist_keys_record": [
   "__GENERATED_DATAFRAMES__",
   "__persist_nb_uuid__",
   "trrack_graph",
   "show_aggregate_origin"
  ],
  "__persist_nb_uuid__": "36dba505-c931-454f-af6c-30e8cfb51ac2",
  "kernelspec": {
   "display_name": "Python 3 (ipykernel)",
   "language": "python",
   "name": "python3"
  },
  "language_info": {
   "codemirror_mode": {
    "name": "ipython",
    "version": 3
   },
   "file_extension": ".py",
   "mimetype": "text/x-python",
   "name": "python",
   "nbconvert_exporter": "python",
   "pygments_lexer": "ipython3",
   "version": "3.8.16"
  }
 },
 "nbformat": 4,
 "nbformat_minor": 5
}
