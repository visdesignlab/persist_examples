{
 "cells": [
  {
   "cell_type": "markdown",
   "id": "522fcbb3-702c-4ea0-91d9-f3b0e71690fc",
   "metadata": {
    "__GENERATED_DATAFRAMES__": "{\"nodeDataframes\":{},\"graphDataframes\":null}",
    "show_aggregate_original": "false",
    "trrack_graph": "ᯡ࠽䈌ʀ匦㢠⹰àᦴ΀࣪ʐ怶䦠挠᱊ࠥ䁁䂖㚥煤晬փ⊪ĸ暂䙠঳ैkᑄᄈ妐ଷᓋ⃩䖻Ṯ溜Φ䐡傠Ǒ団Қ′䈤7ࡣᠠ湐戎Ⴆ寐爤䀥屨攠ʕ㥀ǔÚ䍃㏙䤥ࢂ┩勸惀Ēいཆ༠೥∁∀秸㲅䌠ⶬᛦ䙂ǃɡ殍戰泤ᒁ嬦怭㋉匥穃ᄠ彣჻⴦䉫ぢ睤䄁ⵐۻG䀡曑砑䂱竖ᄂ㜿Ꭽ˹ȩᚱ凁兘㑐Ṣ༩Ẻ䳥⑆憰棨忞⍧攈堽Ī僰὆揖䦲ᡊ⛓౱নఱ姼ᤦΧ您別൧儸晋Ǣ熘繀䉁硨K塊়ṹᜰ倳䪂ⵦ⚈ᒽ᪺ᆬ䀠 "
   },
   "source": [
    "# Analyzing Utah Avalanche Data"
   ]
  },
  {
   "cell_type": "markdown",
   "id": "3abf1206-e99f-45b6-a92b-d971a2a8eb19",
   "metadata": {
    "trrack_graph": "ᯡ࠽䈌ʀ匦㢠⹰ૠܠ昢〽䂆౐׀ৣfL⍉ျ⥒⠡䒙¬ᧇ峕搢ಒ嫒┠অҤᵖ㹢晴㘉ᦳㄍ毿䡨墠ᨰV䆼ガ搢⡠䀢焨㌠෦ౝ戰殖๠ᠠ塩ೀn坄V䀷⢄㚗᥂夬ು䅻ఴ>☤䝃傳狱⊔㳜ੁ䀶挫㐷ࢢӡჵ嬩іㄪᢉ懐ͻ䬥䇽ࣨ䁏僿峱䐰㋸ᇻ兀㡆䱍㛠਀ⲛ粀೽疨һ䟩桁㙡Ũ昙ˢ䧮ᄪᆽ䥢ᅅᄁẩ㱸౮ᐶޣ先ఽЃⵖᥒ⌥▶懜ᩑƢ᭛䭄憐ɑ٦⦈䙓ǂ炘㸠䱅࢜ؠଌથ䜯๡䙉夊᜶僑汢㭢☈₁䠠 "
   },
   "source": [
    "**Participant ID:**  Reference\n",
    "\n",
    "**Date / Time:**"
   ]
  },
  {
   "cell_type": "markdown",
   "id": "ceac0d48-2820-4532-bfd2-adf6533d7a2d",
   "metadata": {},
   "source": [
    "## Introduction\n",
    "Welcome to our data analysis study. For this part of the study, you'll be working with a dataset sourced from the [Utah Avalanche Center](https://utahavalanchecenter.org/). The data provides insights into [avalanche occurrences](https://utahavalanchecenter.org/avalanches) in Utah.\n"
   ]
  },
  {
   "cell_type": "markdown",
   "id": "68491102-96aa-4701-8134-d998c80ae04b",
   "metadata": {},
   "source": [
    "- You will use an extension called PersIst to complete **data cleanup and manipulation** tasks. \n",
    "- Interactive charts and tables have been pre-created for your convenience. These can be directly utilized by running the corresponding cells.\n",
    "- Focus on leveraging the interactive capabilities of Persist for your analysis.\n",
    "- Carefully follow the step-by-step instructions provided for each task.\n",
    "- In some cases, you will be asked to document your findings. Please do this in writing in a markdwon cell.\n",
    "- As you work through the tasks, take note of any interesting findings or challenges with the software or pandas that you may encounter, either by speaking your thoughts out loud or taking notes in a markdown cell.\n",
    "- Feel free to add new code and markdown cells in the notebook as necessary to complete the tasks, but please do attempt the tasks with the PersIst functionality."
   ]
  },
  {
   "cell_type": "code",
   "execution_count": 1,
   "id": "9337796b-21e8-4c8c-bbbd-3076a775d03b",
   "metadata": {},
   "outputs": [],
   "source": [
    "import helpers as h\n",
    "import pandas as pd\n",
    "\n",
    "import seaborn as sns\n",
    "import matplotlib.pyplot as plt\n",
    "import altair as alt\n",
    "\n",
    "import persist_ext as PR"
   ]
  },
  {
   "cell_type": "markdown",
   "id": "dd81aecd-eebf-4624-b9e2-3a864c474c1d",
   "metadata": {
    "__GENERATED_DATAFRAMES__": "{\"nodeDataframes\":{},\"graphDataframes\":null}",
    "show_aggregate_original": "false",
    "trrack_graph": "ᯡ࠽䈌ʀ匦㢠⹰Ҁ̡䘠烠嘢త〫‥侴ᓬᛞ拐ৡ䚂ద抭婈ހڅྯ䌲⠠䭈⑁槑焳Ⴥ⩦仃㍶๽㰥Ҩǁ#㟢䌰橠ኤРᜰ͐üメ湁˛㾄ָ̠憴)挄䀦栢琭ٮ㍄ᨡ䌤ᾣㆢ䀣擠䢤㘦Sᥧᡠ戂怡ᠬÖᠻ㹈䐿ة׉妨⃓ࢱ̴㖠᫲徤ฏѤƜڣ回㸦ۡ৵ण䃔戊㘠传ϊ緯挡䘌污䕽庮粓㈨ɪⷠ搃猄ᦨ洘㳌ᤪ̪౦繶ሱ澂䘣⁑Ҝഭ炍孉ृÅ⭱䤾ᢠ䆋෭ኀ㠢Ү≱呺Ấ惑汮ᮯ戩䊏̠˙Ɂ⧽憳㈒ṉⅱਊ⥋⃆瑀⣨  "
   },
   "source": [
    "## Data Description\n",
    "\n",
    "The table below describes the different columns in the dataset. Each row in the dataset represents a reported avalanche with details on location, trigger, and aspect. The data spans multiple years, starting from 2004 up to 2023.\n",
    "\n",
    "| Column          | Description                                                    |\n",
    "|-----------------|----------------------------------------------------------------|\n",
    "| Region          | Region in Utah where the avalanche occurred                    |\n",
    "| Month           | Month in which the avalanche was recorded                      |\n",
    "| Day             | Day on which the avalanche was recorded                        |\n",
    "| Year            | Year in which the avalanche was recorded                       |\n",
    "| Trigger         | Cause of the avalanche                                         |\n",
    "| Weak Layer      | Layer of snow that was weakest and likely to fail              |\n",
    "| Depth_inches    | Depth of the avalanche in inches                               |\n",
    "| Vertical_inches | Vertical distance covered by the avalanche in inches           |\n",
    "| Aspect          | Direction of the slope where the avalanche occurred            |\n",
    "| Elevation_feet  | Elevation of the location in feet                              |\n",
    "| Coordinates     | Approximate geographical coordinates of the avalanche location |\n",
    "| Comments 1      | Additional comments provided by the reporter                   |"
   ]
  },
  {
   "cell_type": "code",
   "execution_count": 2,
   "id": "8d0e426c-89a0-4813-8994-65ebba3f3a25",
   "metadata": {},
   "outputs": [
    {
     "data": {
      "text/html": [
       "<div>\n",
       "<style scoped>\n",
       "    .dataframe tbody tr th:only-of-type {\n",
       "        vertical-align: middle;\n",
       "    }\n",
       "\n",
       "    .dataframe tbody tr th {\n",
       "        vertical-align: top;\n",
       "    }\n",
       "\n",
       "    .dataframe thead th {\n",
       "        text-align: right;\n",
       "    }\n",
       "</style>\n",
       "<table border=\"1\" class=\"dataframe\">\n",
       "  <thead>\n",
       "    <tr style=\"text-align: right;\">\n",
       "      <th></th>\n",
       "      <th>;Region</th>\n",
       "      <th>Month</th>\n",
       "      <th>Day</th>\n",
       "      <th>Year</th>\n",
       "      <th>;Trigger</th>\n",
       "      <th>;Weak Layer</th>\n",
       "      <th>Depth_inches</th>\n",
       "      <th>Vertical_inches</th>\n",
       "      <th>;Aspect</th>\n",
       "      <th>Elevation_feet</th>\n",
       "      <th>Coordinates</th>\n",
       "      <th>Comments 1</th>\n",
       "    </tr>\n",
       "  </thead>\n",
       "  <tbody>\n",
       "    <tr>\n",
       "      <th>0</th>\n",
       "      <td>Salt Lake</td>\n",
       "      <td>11</td>\n",
       "      <td>9</td>\n",
       "      <td>2012</td>\n",
       "      <td>Snowboarder</td>\n",
       "      <td>New Snow/Old Snow Interface</td>\n",
       "      <td>14.0</td>\n",
       "      <td>360.0</td>\n",
       "      <td>North</td>\n",
       "      <td>10400.0</td>\n",
       "      <td>40.577977000000, -111.595817000000</td>\n",
       "      <td>While it was a small avalanche that was I caug...</td>\n",
       "    </tr>\n",
       "    <tr>\n",
       "      <th>1</th>\n",
       "      <td>Salt Lake</td>\n",
       "      <td>11</td>\n",
       "      <td>11</td>\n",
       "      <td>2012</td>\n",
       "      <td>Skier</td>\n",
       "      <td>New Snow/Old Snow Interface</td>\n",
       "      <td>30.0</td>\n",
       "      <td>1200.0</td>\n",
       "      <td>North</td>\n",
       "      <td>9700.0</td>\n",
       "      <td>40.592619000000, -111.616099000000</td>\n",
       "      <td>A North facing aspect with an exposed ridge in...</td>\n",
       "    </tr>\n",
       "    <tr>\n",
       "      <th>2</th>\n",
       "      <td>Salt Lake</td>\n",
       "      <td>11</td>\n",
       "      <td>11</td>\n",
       "      <td>2012</td>\n",
       "      <td>Skier</td>\n",
       "      <td>Facets</td>\n",
       "      <td>36.0</td>\n",
       "      <td>5400.0</td>\n",
       "      <td>North</td>\n",
       "      <td>10200.0</td>\n",
       "      <td>40.599291000000, -111.642315000000</td>\n",
       "      <td>Remotely triggered all the new storm snow (abo...</td>\n",
       "    </tr>\n",
       "    <tr>\n",
       "      <th>3</th>\n",
       "      <td>Salt Lake</td>\n",
       "      <td>11</td>\n",
       "      <td>11</td>\n",
       "      <td>2012</td>\n",
       "      <td>Skier</td>\n",
       "      <td>New Snow</td>\n",
       "      <td>18.0\"</td>\n",
       "      <td>6000.0</td>\n",
       "      <td>Southeast</td>\n",
       "      <td>10200.0</td>\n",
       "      <td>40.598313000000, -111.628304000000</td>\n",
       "      <td>Impressive fast powder cloud ran in front of t...</td>\n",
       "    </tr>\n",
       "    <tr>\n",
       "      <th>4</th>\n",
       "      <td>Salt Lake</td>\n",
       "      <td>11</td>\n",
       "      <td>11</td>\n",
       "      <td>2012</td>\n",
       "      <td>Skier</td>\n",
       "      <td>Facets</td>\n",
       "      <td>42.0</td>\n",
       "      <td>9600.0</td>\n",
       "      <td>North</td>\n",
       "      <td>10400.0</td>\n",
       "      <td>40.578590000000, -111.595087000000</td>\n",
       "      <td>Three of us toured from Brighton to low saddle...</td>\n",
       "    </tr>\n",
       "  </tbody>\n",
       "</table>\n",
       "</div>"
      ],
      "text/plain": [
       "     ;Region  Month  Day  Year     ;Trigger                  ;Weak Layer  \\\n",
       "0  Salt Lake     11    9  2012  Snowboarder  New Snow/Old Snow Interface   \n",
       "1  Salt Lake     11   11  2012        Skier  New Snow/Old Snow Interface   \n",
       "2  Salt Lake     11   11  2012        Skier                       Facets   \n",
       "3  Salt Lake     11   11  2012        Skier                     New Snow   \n",
       "4  Salt Lake     11   11  2012        Skier                       Facets   \n",
       "\n",
       "  Depth_inches  Vertical_inches    ;Aspect  Elevation_feet  \\\n",
       "0         14.0            360.0      North         10400.0   \n",
       "1         30.0           1200.0      North          9700.0   \n",
       "2         36.0           5400.0      North         10200.0   \n",
       "3        18.0\"           6000.0  Southeast         10200.0   \n",
       "4         42.0           9600.0      North         10400.0   \n",
       "\n",
       "                          Coordinates  \\\n",
       "0  40.577977000000, -111.595817000000   \n",
       "1  40.592619000000, -111.616099000000   \n",
       "2  40.599291000000, -111.642315000000   \n",
       "3  40.598313000000, -111.628304000000   \n",
       "4  40.578590000000, -111.595087000000   \n",
       "\n",
       "                                          Comments 1  \n",
       "0  While it was a small avalanche that was I caug...  \n",
       "1  A North facing aspect with an exposed ridge in...  \n",
       "2  Remotely triggered all the new storm snow (abo...  \n",
       "3  Impressive fast powder cloud ran in front of t...  \n",
       "4  Three of us toured from Brighton to low saddle...  "
      ]
     },
     "execution_count": 2,
     "metadata": {},
     "output_type": "execute_result"
    }
   ],
   "source": [
    "df = pd.read_csv('./avalanches_data.csv')\n",
    "df.head()"
   ]
  },
  {
   "cell_type": "markdown",
   "id": "7cc10d2b-9b1e-46f4-9769-b9a0ac0c9e8f",
   "metadata": {
    "__GENERATED_DATAFRAMES__": "{\"nodeDataframes\":{},\"graphDataframes\":null}",
    "show_aggregate_original": "false",
    "trrack_graph": "ᯡ࠽䈌ʀ匦㢠⹰ૠ㌬Ā჻R〶䁃lyٹ⁓f䍐ۢ䧪㈉◔ฅޡ䨲⠠䬱䑁棒瀱Ⴭ⭱妻ݎẜʤ䐡傠ǖ悃РኤРᜰ結üメ浪巟㈠ᣠˬ⃪$熒‣㐡㬚͇⦲༿⸂໡壡‡犀⒂ଠᎭॣ䥡⊃㡹稠嬸ූᑤඦҡ哹䑀妨䤝͕䀺慽䈩瞤∡㼚ƶ嵖᯦悡檩ǣ᪀畖o#䖊⠃ܑ璌⃥⹾䞌᧒Т⺈ᆡ⇳㴑䒤㒌ŭ᯸丈◡戱⃰潅Ԧ秐噑๦磜疶溂⒀ᒪ扖⋦ူⶃ㧄మྡྷშ⨭རㅸ瘭ǅ爘䅐䘆砠址䑂㥨㈼㹯䕈䓵ᒹ憴婊③ᤠ "
   },
   "source": [
    "# Task 1: Refining Columns and Preparing Data\n",
    "\n",
    "In the first task we will perform some basic data cleaning operations to get our dataset ready for further tasks."
   ]
  },
  {
   "cell_type": "markdown",
   "id": "8934b219-dd97-4e3e-9aa9-0dd7a9d62ad5",
   "metadata": {
    "__GENERATED_DATAFRAMES__": "{\"nodeDataframes\":{},\"graphDataframes\":null}",
    "show_aggregate_original": "false",
    "trrack_graph": "ᯡ࠽䈌ʀ匦㢠⹰ૠ㬠氤〥䌸瀶䀹䁣๲ৠܦᔨҀᣴ䂼䋃‣ᓆ做►䀳ല⠠䭈⑁槑瀱ᝉ⍮冫㭮ẜʦ䒠ǁ#㕀挸晠ኤРᝣၐüムṁǟ㤉䀥䉸攠ʓ㥀ǔÚ⎃஥䤫䒄攭ᇸ惀Ēいᘦᖠೣ䗫⃂変ⱦ{ఽ咼∪⌤䋵汄ჹ䑈冣ᛠඉⵆܔ⍂Þ⍡歹ম悩溩Ǡ媁疖o#䖓瀃ʅ璌⁅溮杲◒Ъ⍁䔶户ࣉⓢ削౐䘰䵥䌂んḸئԢ灐糕൤㧶ⶬ䲱䅲ᗈ撯ౠ惍䈅䥐属ѣ၈⩍སヸ๗௧焤ᄸ䒰Ž䅰䔉燩壥༲刳樲⭮✈咰ᒄ  "
   },
   "source": [
    "### **Task 1a: Remove Columns**"
   ]
  },
  {
   "cell_type": "markdown",
   "id": "47b531d4-2e3a-4e9a-b92a-39aebfc3deb6",
   "metadata": {
    "__GENERATED_DATAFRAMES__": "{\"nodeDataframes\":{},\"graphDataframes\":null}",
    "show_aggregate_original": "false",
    "trrack_graph": "ᯡ࠽䈌ʀ匦㢠⹰ૠ㬠氤〥䌸瀶䀹䁣๲ৠܦᔨҀᣴ䂼䋃‣ᓆ做►䀳ല⠠䭈⑁槑瀱ᝉ⍮冫㭮ẜʦ䒠ǁ#㕀挸晠ኤРᝣၐüムṁǟ㤉䀥䉸攠ʓ㥀ǔÚ⎃஥䤫䒄攭ᇸ惀Ēいᘦᖠೣ䗫⃂変ⱦ{ఽ咼∪⌤䋵汄ჹ䑈冣ᛠඉⵆܔ⍂Þ⍡歹ম悩溩Ǡ媁疖o#䖓瀃ʅ璌⁅溮杲◒Ъ⍁䔶户ࣉⓢ削౐䘰䵥䌂んḸئԢ灐糕൤㧶ⶬ䲱䅲ᗈ撯ౠ惍䈅䥐属ѣ၈⩍སヸ๗௧焤ᄸ䒰Ž䅰䔉燩壥༲刳樲⭮✈咰ᒄ  "
   },
   "source": [
    "Remove the following columns to streamline the dataset for further analysis:\n",
    "\n",
    "- **_Comments 1:_** Contains textual comments not crucial for quantitative analysis.\n",
    "- **_Coordinates:_** Detailed location data not needed for the current scope of analysis."
   ]
  },
  {
   "cell_type": "markdown",
   "id": "aec9ad2a-ab09-4288-b8fa-2852bcddda1a",
   "metadata": {},
   "source": [
    "#### **Instructions**\n",
    "1. **Column Removal:**\n",
    "\t- Use the interactive table feature in PersIst to remove the specified columns.\n",
    "3. **Verify the Output:**\n",
    "\t- Print the head of the generated dataframe to verify the changes."
   ]
  },
  {
   "cell_type": "code",
   "execution_count": 3,
   "id": "8e333ff3-cb24-430b-a332-733b41570ba4",
   "metadata": {
    "__GENERATED_DATAFRAMES__": "ᯡࠩ䃬࿀ᜤᠹ悋ᐨ推̅ሣ䧠ⶠ卍捯ᥔᠣ℠▢dʘϔᝠ捌〤瀵摠៨⠠ ",
    "__has_persist_output": true,
    "editable": true,
    "slideshow": {
     "slide_type": ""
    },
    "tags": [],
    "trrack_graph": "ᯡ࠽䈌ʀ匦㢠⹰໠ᦺր࣠☢౰୩䀮¬ᢨˠ඿㕦䥥㙦根䁑嫔ὐ৫䌣䥈kᑄᄈ夒ࢰ勇⃩䖻✾㺣䍤ð䀡将憨㵀ॢȠநƸᢀ眰䅽忒נ˼リ$熒‣㑠ヴ๺⥍Რ②怠ㅡ傉ᡐ籂㙉ᥘ価杦倪榑㑅䰰N䃰攆㉦␹㡣硖ᡈ\\䰩๢䙯Ꮂٱ㓔糺ƠᛦΏ䌱Ё䅀獖焨⾂ౖ刭䛐͹⠐䈛焊䁏䃸盖䟢烸ზ㮐喸˭䀳怠玟㨘惘綷愧ॼ潃侧ᦰ၄䵅惰⡉̦恰就ס䃰㒕ঠ燨∠䵧愲ิ০☐牆צ═⪡䨑緄嚶⇱Ǯ๣䴵䘂ኊ⺱拒Ჾ⁲ᓰኹⅰ࣊梌ἂ䒂㢢Ⓑ牒↎⾲ᄪ拉⹴嗜捉䔩 ᅀ䈥砠Ѽа怢峆ぅ倦ࡠ匹嗧ɻ撏ǆߙ䄫 凗涮䈥堒Ɂ⛢ᇆ〵ᐫ䄁ࣩ⸫䎃⣄⹸⽃勸㉣䓡㍐Պူ樦៸熑屒اCࢄ┦䟂ᣬ⬽䜂礜ਨℳ㱌筳刉稣ფㅠ㡉㤺㖻曰勥㞋囑仯ア໧⧩瓚ᙡ෮炙並ᰲ↠Âఠኞ䋀ࡉ爣嫠߹濙㱧矗民ǋᬿ䜥ი┠ᛔ䄨彑䃥幟瘑删߄㊏à䌖堔ٿѕ娮䰠₷ᐪ紀☤䆗ᤫ缍ฯ㤐㘱↰仵纥咢烴䴧拸஥ჸ佅ဤ伄ピᬥㅘ岣౐ᴧ㊚®䤘ਢ䡵䊨⇁䜨䙀ᔯ刁Х㬎囒穞䌁洟ံˀ䛠墸婥䢭䅡㛪ᷓ⡽卥癚႗漕᧢䌄ᾗ䚩奕✉卖晜㝃晙ზᙨ䳑ᐫ๱磔䟩⚉䍑傡㝗暁ⓔ䔵仁᢭ᷣᨶ嫶憮䗶塡ਥɃ䕫窕䌪憁圪๱塅ѯṩ䚕䅱狪䕃⒊孀櫂䝴䬚䗃㐽ᯄ洝ႆഝԦᛘԧ亓Ɔ⻖ᖐ汯厖湇Ḓ岧履崗ሆ沇䌖庈᜔㳀ต㗯嘔㺛䴕㳿䦷㤟倭兰䱂䨎Ȫ䆄㘬⥥㜯䇩ࠫ⇲ᗰ䂅⋈璘㉩㠎ሟ☨⥴⚭⦔㴭ၢॗႬጠ࢙ڡ≴a䃹䦤愙ł䂴䎥ᜌ䃭砠䠱ˎ೫‶⇗䣭䥣㛊Ꮠ桝孧盚ɪᠭਵ悼䐧᩾ᷤ妜煥㙊ϗ⣽䭣瘣彡碖䡇㗬乎偩䅏秩❖։⣐昘᳗㉠  "
   },
   "outputs": [
    {
     "data": {
      "application/vnd.jupyter.widget-view+json": {
       "model_id": "b8b9ca9c92854331ad17523a5693c36f",
       "version_major": 2,
       "version_minor": 0
      },
      "text/plain": [
       "PersistWidget(data_values=[{'__id_column': '1', ';Region': 'Salt Lake', 'Month': 11, 'Day': 9, 'Year': 2012, '…"
      ]
     },
     "execution_count": 3,
     "metadata": {},
     "output_type": "execute_result"
    }
   ],
   "source": [
    "PR.PersistTable(df, df_name=\"df_task_1a\")"
   ]
  },
  {
   "cell_type": "code",
   "execution_count": 4,
   "id": "a8b18f1e-269f-4e32-b2be-4334a646b9e7",
   "metadata": {},
   "outputs": [
    {
     "data": {
      "text/html": [
       "<div>\n",
       "<style scoped>\n",
       "    .dataframe tbody tr th:only-of-type {\n",
       "        vertical-align: middle;\n",
       "    }\n",
       "\n",
       "    .dataframe tbody tr th {\n",
       "        vertical-align: top;\n",
       "    }\n",
       "\n",
       "    .dataframe thead th {\n",
       "        text-align: right;\n",
       "    }\n",
       "</style>\n",
       "<table border=\"1\" class=\"dataframe\">\n",
       "  <thead>\n",
       "    <tr style=\"text-align: right;\">\n",
       "      <th></th>\n",
       "      <th>;Region</th>\n",
       "      <th>Month</th>\n",
       "      <th>Day</th>\n",
       "      <th>Year</th>\n",
       "      <th>;Trigger</th>\n",
       "      <th>;Weak Layer</th>\n",
       "      <th>Depth_inches</th>\n",
       "      <th>Vertical_inches</th>\n",
       "      <th>;Aspect</th>\n",
       "      <th>Elevation_feet</th>\n",
       "    </tr>\n",
       "  </thead>\n",
       "  <tbody>\n",
       "    <tr>\n",
       "      <th>0</th>\n",
       "      <td>Salt Lake</td>\n",
       "      <td>11</td>\n",
       "      <td>9</td>\n",
       "      <td>2012</td>\n",
       "      <td>Snowboarder</td>\n",
       "      <td>New Snow/Old Snow Interface</td>\n",
       "      <td>14.0</td>\n",
       "      <td>360.0</td>\n",
       "      <td>North</td>\n",
       "      <td>10400.0</td>\n",
       "    </tr>\n",
       "    <tr>\n",
       "      <th>1</th>\n",
       "      <td>Salt Lake</td>\n",
       "      <td>11</td>\n",
       "      <td>11</td>\n",
       "      <td>2012</td>\n",
       "      <td>Skier</td>\n",
       "      <td>New Snow/Old Snow Interface</td>\n",
       "      <td>30.0</td>\n",
       "      <td>1200.0</td>\n",
       "      <td>North</td>\n",
       "      <td>9700.0</td>\n",
       "    </tr>\n",
       "    <tr>\n",
       "      <th>2</th>\n",
       "      <td>Salt Lake</td>\n",
       "      <td>11</td>\n",
       "      <td>11</td>\n",
       "      <td>2012</td>\n",
       "      <td>Skier</td>\n",
       "      <td>Facets</td>\n",
       "      <td>36.0</td>\n",
       "      <td>5400.0</td>\n",
       "      <td>North</td>\n",
       "      <td>10200.0</td>\n",
       "    </tr>\n",
       "    <tr>\n",
       "      <th>3</th>\n",
       "      <td>Salt Lake</td>\n",
       "      <td>11</td>\n",
       "      <td>11</td>\n",
       "      <td>2012</td>\n",
       "      <td>Skier</td>\n",
       "      <td>New Snow</td>\n",
       "      <td>18.0\"</td>\n",
       "      <td>6000.0</td>\n",
       "      <td>Southeast</td>\n",
       "      <td>10200.0</td>\n",
       "    </tr>\n",
       "    <tr>\n",
       "      <th>4</th>\n",
       "      <td>Salt Lake</td>\n",
       "      <td>11</td>\n",
       "      <td>11</td>\n",
       "      <td>2012</td>\n",
       "      <td>Skier</td>\n",
       "      <td>Facets</td>\n",
       "      <td>42.0</td>\n",
       "      <td>9600.0</td>\n",
       "      <td>North</td>\n",
       "      <td>10400.0</td>\n",
       "    </tr>\n",
       "  </tbody>\n",
       "</table>\n",
       "</div>"
      ],
      "text/plain": [
       "     ;Region  Month  Day  Year     ;Trigger                  ;Weak Layer  \\\n",
       "0  Salt Lake     11    9  2012  Snowboarder  New Snow/Old Snow Interface   \n",
       "1  Salt Lake     11   11  2012        Skier  New Snow/Old Snow Interface   \n",
       "2  Salt Lake     11   11  2012        Skier                       Facets   \n",
       "3  Salt Lake     11   11  2012        Skier                     New Snow   \n",
       "4  Salt Lake     11   11  2012        Skier                       Facets   \n",
       "\n",
       "  Depth_inches  Vertical_inches    ;Aspect  Elevation_feet  \n",
       "0         14.0            360.0      North         10400.0  \n",
       "1         30.0           1200.0      North          9700.0  \n",
       "2         36.0           5400.0      North         10200.0  \n",
       "3        18.0\"           6000.0  Southeast         10200.0  \n",
       "4         42.0           9600.0      North         10400.0  "
      ]
     },
     "execution_count": 4,
     "metadata": {},
     "output_type": "execute_result"
    }
   ],
   "source": [
    "df_task_1a.head()"
   ]
  },
  {
   "cell_type": "markdown",
   "id": "36c62d50-9c88-4ed9-8c97-e552a6e4c620",
   "metadata": {},
   "source": [
    "### **Task 1b: Fix Column Names**"
   ]
  },
  {
   "cell_type": "markdown",
   "id": "ab8f8f24-afd2-424f-ab34-3e3cde723aa3",
   "metadata": {
    "trrack_graph": "ᯡ࠽䈌ʀ匦㢠⹰ࢀㆪこ<ǐʀ୥崡汤Ɓ䔠⍂⠨撂䂼ì债晶堪慯掩ᐠ▴ሰ璹㤨䮲减ⓥ䢧᜾㺣䉠ð䀡壅冨㕀ॢȠ௞䠸ᢀ眰䅽忖䀢晐樠Ԃ牠ΈƔڦ❓ሠƠ暬ॡ声Ȅ恨䙜⬮ಬ俨⫣䞐డ㙐᬴⣔䰲ճ㌰䊆၂۔欠㖹┰᧶༨̘ඛฌ琻ɋ㉄ܠ榡哸Ŝ.ؗ⾬ള勑̵㯺ᱱ曨ဩᒡᾪ३⁂惡৒ј⪖ᩋࢶ䥣䍢ᇃ⢀☾ԣ䖎㑝䳓ⳄⓀ᪱ĦҐ戤׌㝔䆦成扉ڠ凈㨣ೣㅘ湏Bࡤ䒠ଈତޗ٩䟨㣜㥨◈ᩲ㭡⟢䀠 "
   },
   "source": [
    "It looks like something went wrong when reading the file and some column headers start with a `;`. **Please remove the semicolon from all headers**. "
   ]
  },
  {
   "cell_type": "markdown",
   "id": "63f4d5c5-9383-4857-beae-0cfa6ba466f2",
   "metadata": {},
   "source": [
    "#### **Instructions**\n",
    "1. **Rename Columns:**\n",
    "    - Use the interactive  table in Persist to correct the column names by removing the leading `;` from their names:\n",
    "        - _;Aspect_ → _Aspect_\n",
    "        - _;Region_ → _Region_\n",
    "        - _;Trigger_ → _Trigger_\n",
    "        - _;Weak Layer_ → _Weak Layer_\n",
    "2. **Verify the Output:**\n",
    "\t- Print the head of the generated dataframe to verify the changes."
   ]
  },
  {
   "cell_type": "code",
   "execution_count": 5,
   "id": "e74dd265-2437-40e4-8673-be7ea1d079b3",
   "metadata": {
    "__GENERATED_DATAFRAMES__": "ᯡࠩ䃬࿀ᜤᠹ悋ᐨ怱䐢犲ǩ怶恉宑召䵬ð䀲悠ᄡḡ沯偑嬸Ř˛ࠥ笪  ",
    "__has_persist_output": true,
    "trrack_graph": "ᯡ࠽䈌ʀ匦㢠⹰ৠ⬡䲈ೠᘣැୠঠܠ⍔䜀ඪ¦∿⌱嫵儖઀໡䭠Ƭ䥈kᑄᄈ夒઴囇⣹嗛➎帣䍤ð䀡塕瑝ဩ™+䐡䰠㜸プࡢ⳻夯䀢湐樠Ԍ牠Έ䇐撈f᤬ԣͫ↢䃰硨䒴媂㝎ਿʦ₇悁䡰†崣⇃䘬梤ၗ挤᧌⤠祐ቔ⾨ⴽఋ爐偘栦{ౕ䆬∠挤䍯ⷤၽ䑰啨ʪ怭㜸㈤盢ᔠ弣Ȓ笸嶀䝼淡ᚁ㏶o#䨍氃ߡ淜⇤᜷䄀㈊ऴ䜁ᇐ⠼Ⅳ灒簬ච斐䱔②←ᘱƢ䆈ర䃦䓰簰䚣⃜垧浆㒀嚳抔㈬䢬✰⒲ᒺⅠ擒Ჾྴᖪ務ⲡń椫ᬷ䔲㩇ᮧ╒੖⳧爪⊩♲禬匥䴀ㅆ!ἡȸw㣬Tü猬'ᣍᜋȠ㛺໵䯫⤢満䰯哠㇌棕㳞㾨ᄫ噀ⸯ䅉傜⸬䇧ォ䴭ȱ堬̤䃃ᠸſÁ⃸㸾ല㚏ǹ斐撸ภ䙃䡴ትↁ傌ܫ䈃碢ࢬᦉ婰❻嘋窣ᤤ䁫∳ᓦ㔷暫⭱湘೻Яすທ᧮㐪⻷ⷣけ悲ఠԶ懐ᾭ歒䁀嗨ઋȏ揎焗厾矇戢埌彐ᔤ慈 潔䘨潑䑤帿爑删߂副áʆ䠕笞䡑ᬆ䯃᱀Ⱙ穐ሮᓨ㠕㒐ⷧ䈂䔭ˆ䠒䃱ਲ䒼ࢦ恂ᜧ⛄卂ᒜࢢࡈჅ悔崡അ༩À㩠ば੠ᣐℨ憳&஁ୠ˨ᡐ፥價䎋洵朁崵棪㚏䰓繠ⶂ涌ൂ搦惃ᮅཡᢖ槺㐾揃筽捱Ლ䴲睸漺ᎄ憢匮᪪㎆ι猦x偂批䮒୓䕗࠵む効匨喻⌜桻୲湹㔳ݲ畟⢋̼ᶈ5⁮ᄍ᷃Ģǌ琭ᵰ檺恩璼㟂Ĵ悅⭣፧瀢⿆ࡠႯ䈅レⲨ㝁↳ⲄᎸⸯન㸢₀᤯挂ṯ䕊Ჽⴚ擆撅㉪䨅㝈喵⹠ᗵダᴉᄂᴰཧ栦ཥঔⴍᦆ⌃ㆷ߇㣷⻯央ᰎ㨗㢥㨐⸂٠⨋ŏ㘇ގ⠪簱琉䙖㰈磟㕆焟=厠䒰␚䰮ᡀᎣϨ䊷喴檶T寯̔篋䌔㸵ኄ嵝え䠯Ȧ䪲౹暾晚捼欠亶烅坲Ǥ撸⎨琴㨥䈽≠⨷⏄ⱪ⓸䆃‸⸧䶃त恰㜯䂈㼳桛̤ᄘ㑯䂵榳炞ῠѼ㖻㐋㲤沴⮂珴ច军⺤埊ⵯ⡨⼅᪆䨧ᨶ勸䳓᫻㝖盻媀㻱䁲䑉ᯆ檌佲⪓⇳櫾寓仸⤓幀⿊⥿⧼⍓­㍝㐠㪽ᇸڠưく᧍㕎埘ㄝ梙࿽㻥痕䂊憂汕න䶇ґ垢ࡄᩄ⒄ྣ⁈Ӿ崴Ⴕ宜ʦ廰嬖ㄴ勖ᷕ嵈♩䭏Թ坍朙㹌ᕩ㽦碣䏁噛殮៱₈䏀忏᳀,䬠斯஁䆶牣ἀṔ㒜⒁㱷䎙棤厃ㆣ焎ਇ捱≢椬⚐⩭欧䴨媺榦娫プ㝱㇢嚉᜕ⵍ嵹ⱉ婪撹ઋ┱ஆ㎁⭡ṳ汜㋻┕䷡䒀硨圮玒㜢≅˄⽅ᑻⶕ䠐䠩̂ⴥ傄瞀撢䒱ࢰ仳ء〺Pఢ乼ɬ瞂᩾憅㻩ਝ乢ᭂ䃖થܮ惰滭傝䩁并Ჰ̢睆磠㜕潬䁞␅䑇暜䐢糏䓓㛙ၲ⣅┰ʩᢷ弑Ნᤴ綪Ն⾲Ꮔ渑ᔽ⑒眉溂消0✠Ἦ೧䃳᪋⛸ᴑ嚅࣊䇌晋愹捡ೋ៲歂㪷ક晔煺厃⹻❼筱岾庳֮ܰ⟶౏區䠿稫࠭䬸฀㶒㜤ᤰ䨩䍣条㏢䛸យўȨ㤤㼻″က價㍆ᖉ⚔ᛃ瓰⎸㡤◈䘗Ჩ侈燁㦧昬ჭ絅䏴䐶㩭狫㒩⮦䡴凊櫃糱䍔㚨缦˛ᲁ‫燤尠⑔ɰㅧ㷯䊡⡆¶ᲀ怪ʑ漩眆␌噽拼໪ϗ䕙ᮃޗሩ⤊৞⒡㠩䨚䫢歟ᖘ掱ݕࠑ焁狡ᘹ⚰ᇦ㩡牮破戒ᔙ噩咱⥗榲䫨  "
   },
   "outputs": [
    {
     "data": {
      "application/vnd.jupyter.widget-view+json": {
       "model_id": "da74ee5e785d4b9eb45ed24783c392ed",
       "version_major": 2,
       "version_minor": 0
      },
      "text/plain": [
       "PersistWidget(data_values=[{'__id_column': '1', ';Region': 'Salt Lake', 'Month': 11, 'Day': 9, 'Year': 2012, '…"
      ]
     },
     "execution_count": 5,
     "metadata": {},
     "output_type": "execute_result"
    }
   ],
   "source": [
    "PR.PersistTable(df_task_1a, df_name=\"df_task_1b\")"
   ]
  },
  {
   "cell_type": "code",
   "execution_count": 6,
   "id": "f4243abd-6adb-4f99-b569-3f39f532163e",
   "metadata": {},
   "outputs": [
    {
     "data": {
      "text/html": [
       "<div>\n",
       "<style scoped>\n",
       "    .dataframe tbody tr th:only-of-type {\n",
       "        vertical-align: middle;\n",
       "    }\n",
       "\n",
       "    .dataframe tbody tr th {\n",
       "        vertical-align: top;\n",
       "    }\n",
       "\n",
       "    .dataframe thead th {\n",
       "        text-align: right;\n",
       "    }\n",
       "</style>\n",
       "<table border=\"1\" class=\"dataframe\">\n",
       "  <thead>\n",
       "    <tr style=\"text-align: right;\">\n",
       "      <th></th>\n",
       "      <th>Region</th>\n",
       "      <th>Month</th>\n",
       "      <th>Day</th>\n",
       "      <th>Year</th>\n",
       "      <th>Trigger</th>\n",
       "      <th>Weak Layer</th>\n",
       "      <th>Depth_inches</th>\n",
       "      <th>Vertical_inches</th>\n",
       "      <th>Aspect</th>\n",
       "      <th>Elevation_feet</th>\n",
       "    </tr>\n",
       "  </thead>\n",
       "  <tbody>\n",
       "    <tr>\n",
       "      <th>0</th>\n",
       "      <td>Salt Lake</td>\n",
       "      <td>11</td>\n",
       "      <td>9</td>\n",
       "      <td>2012</td>\n",
       "      <td>Snowboarder</td>\n",
       "      <td>New Snow/Old Snow Interface</td>\n",
       "      <td>14.0</td>\n",
       "      <td>360.0</td>\n",
       "      <td>North</td>\n",
       "      <td>10400.0</td>\n",
       "    </tr>\n",
       "    <tr>\n",
       "      <th>1</th>\n",
       "      <td>Salt Lake</td>\n",
       "      <td>11</td>\n",
       "      <td>11</td>\n",
       "      <td>2012</td>\n",
       "      <td>Skier</td>\n",
       "      <td>New Snow/Old Snow Interface</td>\n",
       "      <td>30.0</td>\n",
       "      <td>1200.0</td>\n",
       "      <td>North</td>\n",
       "      <td>9700.0</td>\n",
       "    </tr>\n",
       "    <tr>\n",
       "      <th>2</th>\n",
       "      <td>Salt Lake</td>\n",
       "      <td>11</td>\n",
       "      <td>11</td>\n",
       "      <td>2012</td>\n",
       "      <td>Skier</td>\n",
       "      <td>Facets</td>\n",
       "      <td>36.0</td>\n",
       "      <td>5400.0</td>\n",
       "      <td>North</td>\n",
       "      <td>10200.0</td>\n",
       "    </tr>\n",
       "    <tr>\n",
       "      <th>3</th>\n",
       "      <td>Salt Lake</td>\n",
       "      <td>11</td>\n",
       "      <td>11</td>\n",
       "      <td>2012</td>\n",
       "      <td>Skier</td>\n",
       "      <td>New Snow</td>\n",
       "      <td>18.0\"</td>\n",
       "      <td>6000.0</td>\n",
       "      <td>Southeast</td>\n",
       "      <td>10200.0</td>\n",
       "    </tr>\n",
       "    <tr>\n",
       "      <th>4</th>\n",
       "      <td>Salt Lake</td>\n",
       "      <td>11</td>\n",
       "      <td>11</td>\n",
       "      <td>2012</td>\n",
       "      <td>Skier</td>\n",
       "      <td>Facets</td>\n",
       "      <td>42.0</td>\n",
       "      <td>9600.0</td>\n",
       "      <td>North</td>\n",
       "      <td>10400.0</td>\n",
       "    </tr>\n",
       "  </tbody>\n",
       "</table>\n",
       "</div>"
      ],
      "text/plain": [
       "      Region  Month  Day  Year      Trigger                   Weak Layer  \\\n",
       "0  Salt Lake     11    9  2012  Snowboarder  New Snow/Old Snow Interface   \n",
       "1  Salt Lake     11   11  2012        Skier  New Snow/Old Snow Interface   \n",
       "2  Salt Lake     11   11  2012        Skier                       Facets   \n",
       "3  Salt Lake     11   11  2012        Skier                     New Snow   \n",
       "4  Salt Lake     11   11  2012        Skier                       Facets   \n",
       "\n",
       "  Depth_inches  Vertical_inches     Aspect  Elevation_feet  \n",
       "0         14.0            360.0      North         10400.0  \n",
       "1         30.0           1200.0      North          9700.0  \n",
       "2         36.0           5400.0      North         10200.0  \n",
       "3        18.0\"           6000.0  Southeast         10200.0  \n",
       "4         42.0           9600.0      North         10400.0  "
      ]
     },
     "execution_count": 6,
     "metadata": {},
     "output_type": "execute_result"
    }
   ],
   "source": [
    "df_task_1b.head()"
   ]
  },
  {
   "cell_type": "markdown",
   "id": "3875e7fc-ec40-4241-aa94-87b31e59944f",
   "metadata": {},
   "source": [
    "## **Task 1c: Correcting Data Type of 'Depth_inches'**"
   ]
  },
  {
   "cell_type": "markdown",
   "id": "7a7eebda-1b60-4bff-89d3-a5548a601b49",
   "metadata": {},
   "source": [
    "There is a data type issue in the `Depth_inches` column of our dataframe. This column is incorrectly formatted as an object (string) due to the presence of the inches symbol `\"`.\n",
    "\n",
    "Remove any inches symbols `\"` from the `Depth_inches` column and convert it to a float data type."
   ]
  },
  {
   "cell_type": "code",
   "execution_count": 7,
   "id": "fb9bff61-9a8d-4114-97f3-4f6d0cd0e61e",
   "metadata": {},
   "outputs": [
    {
     "data": {
      "text/plain": [
       "Region             string[python]\n",
       "Month                       Int64\n",
       "Day                         Int64\n",
       "Year                        Int64\n",
       "Trigger            string[python]\n",
       "Weak Layer         string[python]\n",
       "Depth_inches       string[python]\n",
       "Vertical_inches           Float64\n",
       "Aspect             string[python]\n",
       "Elevation_feet            Float64\n",
       "dtype: object"
      ]
     },
     "execution_count": 7,
     "metadata": {},
     "output_type": "execute_result"
    }
   ],
   "source": [
    "df_task_1b.dtypes"
   ]
  },
  {
   "cell_type": "markdown",
   "id": "b23913ac-ea3c-4ca1-8ac3-07d3026ca76e",
   "metadata": {
    "__GENERATED_DATAFRAMES__": "{\"nodeDataframes\":{},\"graphDataframes\":null}",
    "show_aggregate_original": "false",
    "trrack_graph": "ᯡ࠽䈌ʀ匦㢠⹰ೠ↺΀Ơ瘢ᠢᠫ‵䁇ፉ䐢怣侽振ၑ䶃᪰঵䂆⹉多䪲┠অҤᴶṂ㊵嘊᭓ㄅ毠㒰䣑Tဠ㚉҃೨ɰ䂠̂҆;䘸Ϥၗ眼䋐Ð䬹†于␠㚠ᝨ沂烒⎁൸憈㬸ᐠṬү䓧Ⴠ椓ᣘ⌚ᆠᛦކ䜱ǁ䅀㖖नຂᩈ桫〦塵偢㶱⢠⾱䂅埦䖃塀㪂ₐ暸ᵽ䀳怠煼砤慸㴻ࠩ㯏姭ঌ䄢䣫䧙㱈刱ㄿᬦ䩫⏃㌱楫磤ⰴຣα晼ਫ䎁㺕䮃Ⴤご䖂᥂挰ы゙㈬ܠ₰ᑊІ僑汮ޯ戩䉱៪怡⹁ᡤ甑擸抯॰ᡬᅓ╄璚╄㈠ "
   },
   "source": [
    "#### **Instructions**\n",
    "1. **Identify Entries with Inches Symbol:**\n",
    "    - Use the interactive table in Persist to look for rows with `\"` in `Depth_inches` column\n",
    "    - _Hint_: You can search in the interactive table\n",
    "2. **Edit and Correct Entries:**\n",
    "    - Edit the cells to remove the inches symbol from these entries. (e.g. `15\"` → `15`)\n",
    "3. **Convert Data Type:**\n",
    "    - Change the data type of the `Depth_inches` column from string to float.\n",
    "3. **Verify the Output:**\n",
    "\t- Print the head of the generated dataframe to verify the changes."
   ]
  },
  {
   "cell_type": "code",
   "execution_count": 8,
   "id": "7cb9b796-3aa5-4181-bf91-fa8ba7e33c20",
   "metadata": {
    "__GENERATED_DATAFRAMES__": "ᯡࠩ䃬࿀ᜤᠹ悋ᐨ恑䐢犲ǩ怶恉宑召䵬ð䀲悠ᄡḡ沯妶ᠢ㠪癀ఄᐠ ",
    "__has_persist_output": true,
    "trrack_graph": "ᯡ࠽䈌ʀ匦㢠⹰ࢀ✦ށ⃦͐׃抠⌸Т擠⌠㘢歶䀮Ƹ䠵䀳Ҵ倠慩䳿䥈kᑄᄈ妒ଳᓃ⽱䖻✾㺣䍤ð䀡媱䑝ဩ™+䐡䰠㜸プࡢ⳻夣䀢湐樠Ԍ牠Έ䂀ᲘᡔԧΠ䳢䀣ᯰ⡉␤尬ᚄ㙄䵥慥捐䀡㨦䍧⦲ᾠ掬०壡‡犀⒊♟᪺䏹䆄拱瀬Öᢋਸ䙬ऩỗࡠ㬱ℵဲᖠ᫴㊨೻ִƜۛ؄湕䄥㛗޹䍯ⰡḠޛ寏䘧ড়碧ࣙ㰼ᐹ䲡ń椷ಲ䆸ᠩঢ瀨ᰬಷ䌂㱕à擰∴౔ৈฮ࿧䓜⟋浀㒀⛝梑同⢬✰⒲哅Ʊგᰮ⊣摈ʱ≶䳡㝄ⴵ䘂䒪⚳㉙⹯៮ᒐ勅⊆ɠJ娅Ų倠§¢ఠ⯈昡樠爠Ѧڛⱞ?⠐紀㍾䏌䠠༽⊣坸႓㪬怠甜᧋曋绢吼⛑涨憬柉簡べ㜩⊐籶䠀ᇼา䚁₤Ū䁀嫘ห䇠䢘ᖙᝈ೯⻹斐搸ᨻߡࡆ㊮䂁ᣌ㬻䘀Ѣࢫ惇㘍❻嘈穂Ḩ仁䘳ᓤॢ晖፱㕭嘻л㗻盷㇦␩丷ᗵけ悲ఠԶ▲俅浒䁀Ρ䢋ÿΩ箒刾௦硠⎍㆜DӢ⠡ƾ㒬াㆨ䓜⠳燄/╅眡䐤䛐উ凌㕐晑暣ほ䞣ࡶढ䵊ஐ桸ᛢ䃁口ᡒ⏡Ⴗˤ␺ȁᑕ㏬⠧Ơᑉ㊡水ǡᠬ₳┩ठゔ䐀刣㇃梞剔⚠α℃ȭ懲૱嬖凱礐У䤪ⷢ⧨㕫儾佮ㇲʧᦚᒬ⥰᥮凖崩憮ㆯ榎V܆ⶀ籿ࠃ糶᳢⊪ⷐ瘪ᯒ僝䵠຺ᢑ梃䔒呮ᠶ假嵒点孑惙彔ᘤᣔ惂㳔圜⒣噀䡱%⣉暵䳊ᛴӓᙘ˒噕廊磦ಥ⨺䭶㓚嵮᫆勶嫖䇳n䗳㩰Ᏸ僬ᦡ窞䳴ᓡ呗塮ɐ䑱䙓䘩寢♡сⰱᚥ停ゲ啼ष㈴༠灈ƦヴႧ炈࡬䧬ᴅ䔗඄㙉䗑ਬ屶㉲卆摸宰焙Ⴠ⩪寤㐳⪔⁽߃琡䢲烔ʦ⺳᪇⺓ஒⰿ嶂汛྅繇ഗइܡ㻷ᬕ帯䨓㍷ᐡ縼搢縢疃纗ါ኎ᐯȞ⨯䦄␠凘઩⅞⦪凞㠭淂˨⭪椩⧾⻭⴮㠯ⷒ㗯䮐㫴兖⣹Ĕ㏬毲׆፼ᾦ⑸妦灸䊠稈噇㯅䘦䉵䓋⃩ᾦ㦧ᑍᨁ㠁㣱⇍㚒Ꮤ⤄्⤝䍢໺ᒑ段᫆ɼԑ䂗∏灯☌儏㐉た₣素硦̴฀䡲ᡷ឵勘ჯ㥅㷕氈㝭琁㠈ේൊ婣෺佰᫳㳴ᨓ⓯䃫⏱檥Ⴢ渞䎣涁儌䍇ク䜃匉⚁Т䥼༢䉩 焌ᐏ⵰঴ࢤ኶⑩Ͼピᴁᄕ䵤ჺ⁺䎡㌻⨆ఔ疎勴廋⨣❹申౺ᬺ燌瀳⃤恲㕼吡崓ෘ㓯㠯ƻ༳ᮾ⽑医斠溌粜戠⋭ㆥ帒䡨О㍠䮀ᚶ呋ᙋ܅摦涵仺梣孛㾴㥠叾̇憪恂۫斤ㇻ嵉孨ᜒ瀷ᚱ綂囖ℌ౤ƽ塲墹ˤ㩀撞ҡ䟭䱄ư倠䃚ࡠ㠦⃢☢䀠ম䓩磿¼兦ᓌ之搷ㅈ⚓皕мⴢ᳚̄䘨岰༠何竿۴絧瘀㋆繈Ȝ⤻糟倚䡀劗ᘑ䀻珞⒴绉ᢱ濴奒┠羮␠狁ഹ瓴㨅ᩆ䓜獸收哫ᵋ傏Ⅰ怽燺瞏帧⳸⻸糮䴛簵櫆㞧綂Պ〲䁈䲰䉡䇋ḳቛμ✶〬Ҩ䀾ۃᗽ睧峋䂘殧欯⿷絑爦ਅ∳䖭䬭Б尉㡁ↀ䠧౒㍼㰵♛䂀䑞䲯ᑹ䡫᡾┪獧旁埬慷䑍微મᬓ䖨ኁ㒢烝Ꮆ䭃ᄨ⡃ۡ⍤⽧喪䔬咪实௥㤺囦擂手ⵘ䴣呥ᜂ淐ጔᗱ紲x࿡䉸䀿塡⪥ǀ✠゛址ሣ検ɘ淪ðܠ䋛䟧⑲❸啮ӈॊళ⥷ᷢ㍊ம⥀ԡṮ⊨䅎檫᳓⭄⬐΅㙲擐Ứ灜佄㦾㖙䦋ᐥ㏨۵涝⡚滫₝俉᪦瀠ృ焋䀡晍ཛྷᩦ㖷䏅ᚯ儡èQ↠䁆䙆緁ࢧ湨௤植ጪ捄㖠ಌ䴄曚硸㥧⼳䕀⩲☙剦▟㕮攟眼搶棯ፙ⽋偖䎣゙᨜䋦卡㈥䏨曇乣泾ૈ㼓ⅥҢ̬繤⺽㘾湀ສ勩傅墷ň₈䰥నʐℶ圚⯍围篯㶶榓ᔂ灥廍࿖㑂榀ළ㩺等⶷撚ூ絈᜘湍⁊ⷱ嵩ᛩ箄㘔ᒇᒲ宣₂䗀䢠ⳅ䭡潋橰ᴰ䠩⥷ԡᕊҲ྇䂯働噾稽䐔ⴳ⃀!⤡Ȣư⑭ׄ琼ᵀ᧋ᯌᢻ䲭ዧި䕤爑ᔎ洞Ẽ㶫ᱢⵉ玤▅㑬‮ׄ䖅き䭀抍ᴲ䭴劮㦤䙷梏є䂬ȏ܊ୖ䂶⯷⶚搰⛯窽䪕獄  "
   },
   "outputs": [
    {
     "data": {
      "application/vnd.jupyter.widget-view+json": {
       "model_id": "4ae8262de37d49a78a4bdf0f1545a0b0",
       "version_major": 2,
       "version_minor": 0
      },
      "text/plain": [
       "PersistWidget(data_values=[{'__id_column': '1', 'Region': 'Salt Lake', 'Month': 11, 'Day': 9, 'Year': 2012, 'T…"
      ]
     },
     "execution_count": 8,
     "metadata": {},
     "output_type": "execute_result"
    }
   ],
   "source": [
    "PR.PersistTable(df_task_1b, df_name=\"df_task_1c\")"
   ]
  },
  {
   "cell_type": "code",
   "execution_count": 9,
   "id": "6c5cf323-f8ee-4029-818d-2b98f12adf3e",
   "metadata": {},
   "outputs": [
    {
     "data": {
      "text/html": [
       "<div>\n",
       "<style scoped>\n",
       "    .dataframe tbody tr th:only-of-type {\n",
       "        vertical-align: middle;\n",
       "    }\n",
       "\n",
       "    .dataframe tbody tr th {\n",
       "        vertical-align: top;\n",
       "    }\n",
       "\n",
       "    .dataframe thead th {\n",
       "        text-align: right;\n",
       "    }\n",
       "</style>\n",
       "<table border=\"1\" class=\"dataframe\">\n",
       "  <thead>\n",
       "    <tr style=\"text-align: right;\">\n",
       "      <th></th>\n",
       "      <th>Region</th>\n",
       "      <th>Month</th>\n",
       "      <th>Day</th>\n",
       "      <th>Year</th>\n",
       "      <th>Trigger</th>\n",
       "      <th>Weak Layer</th>\n",
       "      <th>Depth_inches</th>\n",
       "      <th>Vertical_inches</th>\n",
       "      <th>Aspect</th>\n",
       "      <th>Elevation_feet</th>\n",
       "    </tr>\n",
       "  </thead>\n",
       "  <tbody>\n",
       "    <tr>\n",
       "      <th>0</th>\n",
       "      <td>Salt Lake</td>\n",
       "      <td>11</td>\n",
       "      <td>9</td>\n",
       "      <td>2012</td>\n",
       "      <td>Snowboarder</td>\n",
       "      <td>New Snow/Old Snow Interface</td>\n",
       "      <td>14.0</td>\n",
       "      <td>360.0</td>\n",
       "      <td>North</td>\n",
       "      <td>10400.0</td>\n",
       "    </tr>\n",
       "    <tr>\n",
       "      <th>1</th>\n",
       "      <td>Salt Lake</td>\n",
       "      <td>11</td>\n",
       "      <td>11</td>\n",
       "      <td>2012</td>\n",
       "      <td>Skier</td>\n",
       "      <td>New Snow/Old Snow Interface</td>\n",
       "      <td>30.0</td>\n",
       "      <td>1200.0</td>\n",
       "      <td>North</td>\n",
       "      <td>9700.0</td>\n",
       "    </tr>\n",
       "    <tr>\n",
       "      <th>2</th>\n",
       "      <td>Salt Lake</td>\n",
       "      <td>11</td>\n",
       "      <td>11</td>\n",
       "      <td>2012</td>\n",
       "      <td>Skier</td>\n",
       "      <td>Facets</td>\n",
       "      <td>36.0</td>\n",
       "      <td>5400.0</td>\n",
       "      <td>North</td>\n",
       "      <td>10200.0</td>\n",
       "    </tr>\n",
       "    <tr>\n",
       "      <th>3</th>\n",
       "      <td>Salt Lake</td>\n",
       "      <td>11</td>\n",
       "      <td>11</td>\n",
       "      <td>2012</td>\n",
       "      <td>Skier</td>\n",
       "      <td>New Snow</td>\n",
       "      <td>18.0</td>\n",
       "      <td>6000.0</td>\n",
       "      <td>Southeast</td>\n",
       "      <td>10200.0</td>\n",
       "    </tr>\n",
       "    <tr>\n",
       "      <th>4</th>\n",
       "      <td>Salt Lake</td>\n",
       "      <td>11</td>\n",
       "      <td>11</td>\n",
       "      <td>2012</td>\n",
       "      <td>Skier</td>\n",
       "      <td>Facets</td>\n",
       "      <td>42.0</td>\n",
       "      <td>9600.0</td>\n",
       "      <td>North</td>\n",
       "      <td>10400.0</td>\n",
       "    </tr>\n",
       "  </tbody>\n",
       "</table>\n",
       "</div>"
      ],
      "text/plain": [
       "      Region  Month  Day  Year      Trigger                   Weak Layer  \\\n",
       "0  Salt Lake     11    9  2012  Snowboarder  New Snow/Old Snow Interface   \n",
       "1  Salt Lake     11   11  2012        Skier  New Snow/Old Snow Interface   \n",
       "2  Salt Lake     11   11  2012        Skier                       Facets   \n",
       "3  Salt Lake     11   11  2012        Skier                     New Snow   \n",
       "4  Salt Lake     11   11  2012        Skier                       Facets   \n",
       "\n",
       "   Depth_inches  Vertical_inches     Aspect  Elevation_feet  \n",
       "0          14.0            360.0      North         10400.0  \n",
       "1          30.0           1200.0      North          9700.0  \n",
       "2          36.0           5400.0      North         10200.0  \n",
       "3          18.0           6000.0  Southeast         10200.0  \n",
       "4          42.0           9600.0      North         10400.0  "
      ]
     },
     "execution_count": 9,
     "metadata": {},
     "output_type": "execute_result"
    }
   ],
   "source": [
    "df_task_1c.head()"
   ]
  },
  {
   "cell_type": "markdown",
   "id": "753ed0a8-dc0b-4ac8-8afd-b554ea8f4d28",
   "metadata": {},
   "source": [
    "# Task 2: Filtering data\n",
    "\n",
    "In Task 2, we further improve our data by removing outliers and removing certain records to have more consistent data. "
   ]
  },
  {
   "cell_type": "markdown",
   "id": "7f25d8f5-98e8-4b0f-9358-ed85f77cbed8",
   "metadata": {},
   "source": [
    "## **Task 2a: Remove Outliers**"
   ]
  },
  {
   "cell_type": "markdown",
   "id": "ac53a605-2d10-4457-9625-70ce88f04f3b",
   "metadata": {},
   "source": [
    "In this task, we address data accuracy by filtering out anomalies in the elevation data. We observe some records with elevations outside the plausible range for Utah, suggesting recording errors.\n",
    "\n",
    "**Remove avalanche records with elevations below ~4,000 feet and above ~15,000 feet, which are outside the realistic range for Utah.**"
   ]
  },
  {
   "cell_type": "markdown",
   "id": "664c641e-1193-4233-8897-0161f209c86f",
   "metadata": {},
   "source": [
    "#### **Instructions**\n",
    "1. **Identify and Remove Anomalies:**\n",
    "    - Interactively select data points with elevations below ~4,000 feet or above ~15,000 feet in the Persist Scatterplot.\n",
    "    - Use Persist's interactive features to remove these anomalous records.\n",
    "2. **Verify the Output:**\n",
    "    - Print the head of the generated dataframe to verify the changes."
   ]
  },
  {
   "cell_type": "code",
   "execution_count": 10,
   "id": "73d5727a-f059-4bf3-977c-1ce0d6d92eba",
   "metadata": {
    "__GENERATED_DATAFRAMES__": "ᯡࠩ䃬࿀ᜤᠹ悋ᐤ推̅ሣ䧠ⶠ卍捯ᥔᠣ℠▢dʘϔᝠ捌〤瀵摠៨⠠ ",
    "__has_persist_output": true,
    "trrack_graph": "ᯡ࠽䈌ʀ匦㢠⹰ಀ㬠䘹䔤瀥䁍ഠ昡ᣬ῎⡴၁庠氢太ㆳ岺㔴湫煅)㊤䈽ମƂ犵喈᭓ㄅ揯䁰䀺ࠠᮚ沚ሡᑀ‡㢥榠܃ت焨᧫殲L⌕•㡚‣㑠¬శन⒥!摀慡㣉墈䈸䘨㊠ೢ◠Q琑硈ਲ㴨7⯇发䌺ᄓ㩈羚֬ਠཆɡׁ牢∝ᣒጹ×‫ㆠ宷ၡ璀䠹䖨䈻墨ૉ䰡嘳穿⻰⋀ఋ呙ⶴ偌࠻ⷘ㋬ᡤƀԐ[ᾼ⠾ᱽ䟢Ĳᴎⶾ䟊䔂㎬䅁⁑ణ͢⡈఼䋀塹ࡰ䁃棘Åᑩ㊙㴤ᆀ備ଥ䞓广ҹ冢嫯⧹䷱䈱ᑶឪኘ縥፨㋹⹠剈䩐泲ࢱ妱㑮ၩዜ䰵ᝪ㌘僐噊䬅㕰揈␠㊽⎣㓀!*ᇉ䅋᫠߱ႀ榩倠刄⚫Ȣ㖅祜䀩⛰䴠᪬ఁⱰ灭尭縀枋弉ᮚႬ⒩篼媨ᴃ䄭ᯛ䰖礜¦戥ᄒ牎ְ愨ƴ޲刐ᘾᮣ⅙䋟⽥冒簬޴喔࿁愂㥄䱖ޢᅨਵͣ儸噛০熘縳ࡁ智捷⏳琦↱ᾡҸ䧔湏䴶䭋⫗ⵖ崮愧洮揝溗䱣ᅕ殑ᶔ㠸䌣ᩨ筭枒䁈Ġ㼰\"峠〲㢿⏨摾്硠ᾁ㆞⡎Ң⠡^ү灞Ƣ䗼㈱灄/⁢桾䌣ࢆ㇉姙擣墓䗣碓昍ⵑຐ⑸䃂呤䓄␲㊁琻פवŀ桊⟩箣ŀ夾熡砬⎤栳ᛰ౤䎍戻࣐ᱨł情ං⁁丂猥发柍埕匰⒈庡⋸䆫猬稤㌠冽搩ഢ㉬℠ς♌ഇ兀ବ榜Ⴏ㇄Ⱗ偳ޮ兹巵础ᑏ׮୪䗚㒬㰰ῠ┸㰫B႗㡄ѣ呰௭ą㋈䠶⫰庖䇲塭ϠⲀ᝶㠠Ϻ䪜䑄担畄˵ἢ⍙僼ᩦ㾡Ǖ໋咠㞯囲朰㚼ⶴ柠₻枈ݏᅴ䂷旀Èឈ緌熼懝៬䣇☉ቃ̘ぎ᭼䜈䷂⌢㚷戹哋ㅦᐠढ䜤拂㩸㣨ㇾ≮┦㫈秣ⅎᗩ空⻄ᅞ拴家䫤፶嫾宂⛮ზႭ壀໫壜湙憃㈬塶⫦头䊑孖簵寖Ȫ侊⌴惠ঢϸ卦䔺皤梵Ɩ㒠㓰㮵㴧甆⼧搘䯴Ⴐశ஀Ⲹ䆰ᢹ䲓㨣Ȅᆸ䈔ᠣ䈄ᢦჀ祇奁绽᪤為⪒㥧䨒数⮚ᅳ⫎ٽ㯌庿刬䓳ఋ簰磬ឣ喾歲禌ᯮ礼桂烞㟫摜濷簞矮ㅡ箷⁡̓メ➾ࠕहہ࿝Ҍ൉䐫↘攱剑睝埜䗅䙄И䆞憅篗᠅漇՗Ȏ瓥㣍⑗弜㳗棓䚝刑币稠䙯九璹灬播漱ⳏ㨍㲏ޛᚑ湖崹ऩ䈃㐦䆰ⱱ䊋⨧䉰ᢣ䄋ᢥ䇀ᢿƄ稥䠶棈䍶㵒厛璴¨㾡尫恊朡▁歭嘞ဳ㺸ᢰі䡱掰২僳䋀玽ℷୡ۞䋴㵣၇抨䶅ú母競夒ࣸ䶳ƻṠ它㛖宄႓ͭ櫮䈸⤱ᡱ⃐籣ギଁ⮃㚖毬ୠ榈壳䵅兹ᠦ㕧⊔Ⴏ纄ˠ溣梩Â絟偭ࢥ㦗ᔒᣯ兆䆨挿sۣ氳媫㚃㕜敶₢Øັ瓺壀ᶡ‹″ֆಔ䞀☥瓘ʠℴ㣰઱㘿㋋℃匦㗦粂昭䱭д䷩劻㬳⇎㭠湤خ淦฼栜凸禃妁悁㮌Ỡᰴ璜㔅㤋枼垤ßᘠ玱刡ࠡᝍ䙎၂楽Ṽ猼䖼᫛ࢵ稵㗳瞆琾剅ŐἽ⁌ᒛ妫垢箿㺶潯僬Ⓨ娓ጠ⟧㐎匘矕竳⚧䤬ɀᘨ।ӄ┡䂳ῦ灗Ȁئ磌䟞㐬㥝渢柾畞䬙䳈U᪨棇њᴲ惛⒃筷Ⅼ㳧⚶梌⍥壜䋨罏䣃ఴⲬΎ䐵⟜⮢扲⣜吥࣍勄姥䏸搮あ䀤ࢵңᔪ刐櫏底ⴀ僞ᲁ⥻曝₠⽵桩䦐疺ᩰ䈡⣊㑜䚋ւ恍ደ䫪畺翁╾✪夷⌱⣤໖ᜂ繏欓坺␌׍槥淥瓾勘⥷橘ゃ紴ഐ㐲ضণ塄㦄Აᐴ獈ⴃ⠥擰旤჈楢䠫Ⴟᯤく䘄㾭灀䦆Ⴗ嘵䏡ᅚᎂ⪳碌嗦䊊⛠俀悶䤉帲姆ረ็尡䈓⫷伱㉪熉ᘳ്㋢∅兹屪堶❬⒡撴අ噐ό≀淤㣺䷄䪐旑烙ರ䊹桡旙⇦ሄ䂠䈵ⓧ⨅哕䔢┄椯䩽ⵕ秺㍚㽖㨞Ὡ㱡䩎䡂᥇噒灢㉕ⴘ段旬曯佅䧕⟇㕽斕忟差❋ኬ碌夑ǿ濲壏੧惒᏾䰔妙ø禼䰻ᄧ⫙㸅淡䍫⯥䕐猄๨橐㬉ₜࠑᤷ⃴ɡ汑塂㱨怫à␒゛矠☠⍗❫囒π⣱悃呀刪欗⨦琺܀搑ჷН㘺࢐㙃⤯ܒ୦窯䁌䯽昰㣄៷⇞ئ籖ჰ湦ᴩႀⰀ䥂‫⚢፠Ⓠ嶃⛐䳭侽䷵啩✨  "
   },
   "outputs": [
    {
     "data": {
      "application/vnd.jupyter.widget-view+json": {
       "model_id": "8ace611b5acd4f1caa401d6aeef7286a",
       "version_major": 2,
       "version_minor": 0
      },
      "text/plain": [
       "PersistWidget(data_values=[{'__id_column': '1', 'Region': 'Salt Lake', 'Month': 11, 'Day': 9, 'Year': 2012, 'T…"
      ]
     },
     "execution_count": 10,
     "metadata": {},
     "output_type": "execute_result"
    }
   ],
   "source": [
    "PR.plot.scatterplot(df_task_1c, \"Elevation_feet:Q\", \"Vertical_inches:Q\", df_name=\"df_task_2a\")"
   ]
  },
  {
   "cell_type": "code",
   "execution_count": 11,
   "id": "f75b92fd-28ac-4459-ae66-665f3a96692d",
   "metadata": {},
   "outputs": [
    {
     "data": {
      "text/html": [
       "<div>\n",
       "<style scoped>\n",
       "    .dataframe tbody tr th:only-of-type {\n",
       "        vertical-align: middle;\n",
       "    }\n",
       "\n",
       "    .dataframe tbody tr th {\n",
       "        vertical-align: top;\n",
       "    }\n",
       "\n",
       "    .dataframe thead th {\n",
       "        text-align: right;\n",
       "    }\n",
       "</style>\n",
       "<table border=\"1\" class=\"dataframe\">\n",
       "  <thead>\n",
       "    <tr style=\"text-align: right;\">\n",
       "      <th></th>\n",
       "      <th>Region</th>\n",
       "      <th>Month</th>\n",
       "      <th>Day</th>\n",
       "      <th>Year</th>\n",
       "      <th>Trigger</th>\n",
       "      <th>Weak Layer</th>\n",
       "      <th>Depth_inches</th>\n",
       "      <th>Vertical_inches</th>\n",
       "      <th>Aspect</th>\n",
       "      <th>Elevation_feet</th>\n",
       "    </tr>\n",
       "  </thead>\n",
       "  <tbody>\n",
       "    <tr>\n",
       "      <th>0</th>\n",
       "      <td>Salt Lake</td>\n",
       "      <td>11</td>\n",
       "      <td>9</td>\n",
       "      <td>2012</td>\n",
       "      <td>Snowboarder</td>\n",
       "      <td>New Snow/Old Snow Interface</td>\n",
       "      <td>14</td>\n",
       "      <td>360.0</td>\n",
       "      <td>North</td>\n",
       "      <td>10400.0</td>\n",
       "    </tr>\n",
       "    <tr>\n",
       "      <th>1</th>\n",
       "      <td>Salt Lake</td>\n",
       "      <td>11</td>\n",
       "      <td>11</td>\n",
       "      <td>2012</td>\n",
       "      <td>Skier</td>\n",
       "      <td>New Snow/Old Snow Interface</td>\n",
       "      <td>30</td>\n",
       "      <td>1200.0</td>\n",
       "      <td>North</td>\n",
       "      <td>9700.0</td>\n",
       "    </tr>\n",
       "    <tr>\n",
       "      <th>2</th>\n",
       "      <td>Salt Lake</td>\n",
       "      <td>11</td>\n",
       "      <td>11</td>\n",
       "      <td>2012</td>\n",
       "      <td>Skier</td>\n",
       "      <td>Facets</td>\n",
       "      <td>36</td>\n",
       "      <td>5400.0</td>\n",
       "      <td>North</td>\n",
       "      <td>10200.0</td>\n",
       "    </tr>\n",
       "    <tr>\n",
       "      <th>3</th>\n",
       "      <td>Salt Lake</td>\n",
       "      <td>11</td>\n",
       "      <td>11</td>\n",
       "      <td>2012</td>\n",
       "      <td>Skier</td>\n",
       "      <td>New Snow</td>\n",
       "      <td>18</td>\n",
       "      <td>6000.0</td>\n",
       "      <td>Southeast</td>\n",
       "      <td>10200.0</td>\n",
       "    </tr>\n",
       "    <tr>\n",
       "      <th>4</th>\n",
       "      <td>Salt Lake</td>\n",
       "      <td>11</td>\n",
       "      <td>11</td>\n",
       "      <td>2012</td>\n",
       "      <td>Skier</td>\n",
       "      <td>Facets</td>\n",
       "      <td>42</td>\n",
       "      <td>9600.0</td>\n",
       "      <td>North</td>\n",
       "      <td>10400.0</td>\n",
       "    </tr>\n",
       "  </tbody>\n",
       "</table>\n",
       "</div>"
      ],
      "text/plain": [
       "      Region  Month  Day  Year      Trigger                   Weak Layer  \\\n",
       "0  Salt Lake     11    9  2012  Snowboarder  New Snow/Old Snow Interface   \n",
       "1  Salt Lake     11   11  2012        Skier  New Snow/Old Snow Interface   \n",
       "2  Salt Lake     11   11  2012        Skier                       Facets   \n",
       "3  Salt Lake     11   11  2012        Skier                     New Snow   \n",
       "4  Salt Lake     11   11  2012        Skier                       Facets   \n",
       "\n",
       "   Depth_inches  Vertical_inches     Aspect  Elevation_feet  \n",
       "0            14            360.0      North         10400.0  \n",
       "1            30           1200.0      North          9700.0  \n",
       "2            36           5400.0      North         10200.0  \n",
       "3            18           6000.0  Southeast         10200.0  \n",
       "4            42           9600.0      North         10400.0  "
      ]
     },
     "execution_count": 11,
     "metadata": {},
     "output_type": "execute_result"
    }
   ],
   "source": [
    "df_task_2a.head()"
   ]
  },
  {
   "cell_type": "markdown",
   "id": "b447b862-90c6-4ed7-b48b-baa1cf74ac2d",
   "metadata": {
    "__GENERATED_DATAFRAMES__": "{\"nodeDataframes\":{},\"graphDataframes\":null}",
    "show_aggregate_original": "false",
    "trrack_graph": "ᯡ࠽䈌ʀ匦㢠⹰࣠✴ƀචآ൐ୠᣠ⭎¸䚀ᶥ<⋵攴≲䦆ᨐ҅䁲䥈kᑄᄈ夒ર囇⣹嗛➎帣ᢤ䀡傠Ǘ熠㥀ॢȠா䠸ᢀ㜰䁾巒•橀樠Ꮃ䤠ව׷核ᱬ䣘紲₞૦Ԡ޳ŀ凐栠晬╍ಲ䖽䂇栢沀團ᄰ㸸ሪ喊Ⴇ♁䐔粶ᦞΎ刺ࠥ簉窺簲ᖢොሧ҉䃵ⰡḠޅ毗䘤䗾墥୚渍磆搰㣄䆯䌭䊣ᎄ䢩妈䪑䴹ҩ䋫◂რ⢒ઉ⃁⽌囦媍ኘ垤䢠䍤⒂Йᘷ੡䄀҂Ქ⃱琿啡憐㲞ၯ䌨焠ᗿ搫໎㒫ல熪Ņ⎃ऺᥛ⃄ᅠ  "
   },
   "source": [
    "## **Task 2b: Filtering Out Old Data**"
   ]
  },
  {
   "cell_type": "markdown",
   "id": "c86b30d4-4762-4bc0-bfd3-6f1486b55ad6",
   "metadata": {
    "__GENERATED_DATAFRAMES__": "{\"nodeDataframes\":{},\"graphDataframes\":null}",
    "show_aggregate_original": "false",
    "trrack_graph": "ᯡ࠽䈌ʀ匦㢠⹰࣠✴ƀචآ൐ୠᣠ⭎¸䚀ᶥ<⋵攴≲䦆ᨐ҅䁲䥈kᑄᄈ夒ર囇⣹嗛➎帣ᢤ䀡傠Ǘ熠㥀ॢȠா䠸ᢀ㜰䁾巒•橀樠Ꮃ䤠ව׷核ᱬ䣘紲₞૦Ԡ޳ŀ凐栠晬╍ಲ䖽䂇栢沀團ᄰ㸸ሪ喊Ⴇ♁䐔粶ᦞΎ刺ࠥ簉窺簲ᖢොሧ҉䃵ⰡḠޅ毗䘤䗾墥୚渍磆搰㣄䆯䌭䊣ᎄ䢩妈䪑䴹ҩ䋫◂რ⢒ઉ⃁⽌囦媍ኘ垤䢠䍤⒂Йᘷ੡䄀҂Ქ⃱琿啡憐㲞ၯ䌨焠ᗿ搫໎㒫ல熪Ņ⎃ऺᥛ⃄ᅠ  "
   },
   "source": [
    "The interactive barchart below, shows the data aggregated by year. There are noticeably fewer records for the years before 2010.\n",
    "\n",
    "During this subtask we will remove the older records, keeping only the records for year 2010 and above"
   ]
  },
  {
   "cell_type": "markdown",
   "id": "24b308e8-8437-4146-9ebf-cd121aeb7f9f",
   "metadata": {},
   "source": [
    "#### **Instructions**\n",
    "1. **Analyze the Bar Chart:**\n",
    "    - Identify the bars that show significantly less data.\n",
    "2. **Filter Year:**\n",
    "    - Select and remove the years with few records.\n",
    "3. **Verify the Output:**\n",
    "    - Print the head of the generated dataframe to verify the changes."
   ]
  },
  {
   "cell_type": "code",
   "execution_count": 12,
   "id": "6488acb7-e239-4d7e-92ef-3e9d74c3d823",
   "metadata": {
    "__GENERATED_DATAFRAMES__": "ᯡࠩ䃬࿀ᜤᠹ悋ᐤ怱䐢犲ǩ怶恉宑召䵬ð䀲悠ᄡḡ沯偑嬸Ř˛ࠥ笪  ",
    "__has_persist_output": true,
    "trrack_graph": "ᯡ࠽䈌ʀ匦㢠⹰ৠᆬ΀Π䘢ద〫‵䮴⦨˫䁓æ揑䔠⚃砮柠͕刣洊ॅ)㊤䈽ାᅒੵ㔻᫐眇恈ⶨ䠠ᨰV簸䟄ň⁠Ɛᤣ-挬༂ࡋ尖ఠⷥൠ¼⹨ࡏിԭ⎇慒碀棴ᩈ⽉Ꭽ䡥◣⌂ቑ塈䰴ᜨ7⢄㊑䎺ᆙج愜෋>☤䗢猒爓㣸䈴㘷ர怫ㆡ封䑡碀䢉䷘䈳墪೉ǃⰡ圃籠仸㳀ఈぞⷳ抌ऋ䷘ዬᚆ怩瀠㥟嶜ᷗ〬䑘䬇夼簽⅂䧼崴ˣ⃘ร̣偘Ł஦ၰ橞ʦᇒ䱁௧憐刣ີሌ垧浂㒀ᚳ抗匬䣔⬷䖨ʪⵣ⑒簶⎳搪ᠱ≳ᖰ၄䵂㊂㢢⒰狙䳖ⱥ昒Ⓚ屵ᘌጹ䵀Ƶ㔿嗅 Р⚭ᠲᨠ੖ឯ愺㘨ࣳ㜐⠠ኾ應Ȏ᰿⢁沭ᾠᘩ圁༿አ僈夰䐴棸ᩳ䚥⢤☳Fㅈ⸡䑁栵↭灘岎ಣǠࡄ㤲䇃桬ଽ䔀礜₴䘲䒭㍰椉㩝ί团拸㤢㊸曂糱ㆈ噁曻ァ瘧ᇮ獙暡◺痘㚦ᰲ↠Â㨽嵠⠤ಔᠠ坐ᔜ㭎ེ㨎窜•曫猣⃐吡ǝ劀丂〱㶪粜㒠Ȉᒳ摐₱䃝侯囈纨͙忏瞑翀ઢ⾫┣游༵傈Ꭳ刴ρ⑜⋩㱑ౖ͠ʁᲽŨⰻ͠泒☁оۡ㱀揅穊ັ儴䟬㢘ণ䒁ඣὈ͔ܸ⚕呞䚕␲䷕ᡊ一捓因ᩪ՘⡨ȝʅأ≾ଡ硄愜劔䁢ڤЩ䢟౒桼慒≭䗢‸࢘๶༳Ὀ┠埘䙍瘽ܱ㔴ý․⪫剌䲒ǘ痉删ėቯ婥滨㎀Ի呀⤺╮㬊㧲槖䝮㪚㔅ᳮ⣯㡢㓬稀ⴤз両砠ὲݹ扝戢嚰ს峀ᤜ㾠૘଱୨夬塈䫹⃶㔾媈⛧∈旺単㪷͎ヷ䁦⣴䃦氮ᡆ梾ᤂ哽ᦂ⳧᫬煽怽⏍ࢽ壺䏦⩒睆ᯟ篗ᥴ匵៘槜だ朸槹㽵䄺僆άа抚拢ᔸ⇛戦₤ᇼᅘᬶ䥥䣪撵Ꮔկ䣊䊽⦴盦䪖㖻匔线壆㓸㭬妼㫸䧵㎾⶷㐌䎶箼嗼ⅼ㽣㯼᷿㨾䦖ヾ㲄ž䖃ㇾ䞱穲眵篞䥋磙㿱๣ⱄە盓唕Ⳁ摕းၣ朹喙ὁ欤❀⟁⎁沙➂敹殕旻掑涩≏䟛宆!碤涹潗噩组σ䲟渻⤈ޛ灀䒠Ê䧐ح䀬簦Ŋ磿ð㨴䝱㘴䂷翁䋰Ủᣀ⤵ṕ睛ӕ㱊Ψ悯楮㻙硠௮悼䶻猜羰㝭峽懭礢奈櫵⇶റ守ᛷ⊨ⷆ凴㘡䫻欸寯狱ⅶᔶ寈۫⍖囻恾䂠佨្᧝叜瞝⓺痆翎瞆峤炠  "
   },
   "outputs": [
    {
     "data": {
      "application/vnd.jupyter.widget-view+json": {
       "model_id": "8b8ad6ed93284b58b80a8c1b6451ff87",
       "version_major": 2,
       "version_minor": 0
      },
      "text/plain": [
       "PersistWidget(data_values=[{'__id_column': '1', 'Region': 'Salt Lake', 'Month': 11, 'Day': 9, 'Year': 2012, 'T…"
      ]
     },
     "execution_count": 12,
     "metadata": {},
     "output_type": "execute_result"
    }
   ],
   "source": [
    "PR.plot.barchart(df_task_2a, \"Year:O\", \"count()\", selection_type=\"interval\", df_name=\"df_task_2b\")"
   ]
  },
  {
   "cell_type": "code",
   "execution_count": 13,
   "id": "3e2be701-942f-4eb0-858d-3d1f091b38e2",
   "metadata": {},
   "outputs": [
    {
     "data": {
      "text/html": [
       "<div>\n",
       "<style scoped>\n",
       "    .dataframe tbody tr th:only-of-type {\n",
       "        vertical-align: middle;\n",
       "    }\n",
       "\n",
       "    .dataframe tbody tr th {\n",
       "        vertical-align: top;\n",
       "    }\n",
       "\n",
       "    .dataframe thead th {\n",
       "        text-align: right;\n",
       "    }\n",
       "</style>\n",
       "<table border=\"1\" class=\"dataframe\">\n",
       "  <thead>\n",
       "    <tr style=\"text-align: right;\">\n",
       "      <th></th>\n",
       "      <th>Region</th>\n",
       "      <th>Month</th>\n",
       "      <th>Day</th>\n",
       "      <th>Year</th>\n",
       "      <th>Trigger</th>\n",
       "      <th>Weak Layer</th>\n",
       "      <th>Depth_inches</th>\n",
       "      <th>Vertical_inches</th>\n",
       "      <th>Aspect</th>\n",
       "      <th>Elevation_feet</th>\n",
       "    </tr>\n",
       "  </thead>\n",
       "  <tbody>\n",
       "    <tr>\n",
       "      <th>0</th>\n",
       "      <td>Salt Lake</td>\n",
       "      <td>11</td>\n",
       "      <td>9</td>\n",
       "      <td>2012</td>\n",
       "      <td>Snowboarder</td>\n",
       "      <td>New Snow/Old Snow Interface</td>\n",
       "      <td>14</td>\n",
       "      <td>360</td>\n",
       "      <td>North</td>\n",
       "      <td>10400</td>\n",
       "    </tr>\n",
       "    <tr>\n",
       "      <th>1</th>\n",
       "      <td>Salt Lake</td>\n",
       "      <td>11</td>\n",
       "      <td>11</td>\n",
       "      <td>2012</td>\n",
       "      <td>Skier</td>\n",
       "      <td>New Snow/Old Snow Interface</td>\n",
       "      <td>30</td>\n",
       "      <td>1200</td>\n",
       "      <td>North</td>\n",
       "      <td>9700</td>\n",
       "    </tr>\n",
       "    <tr>\n",
       "      <th>2</th>\n",
       "      <td>Salt Lake</td>\n",
       "      <td>11</td>\n",
       "      <td>11</td>\n",
       "      <td>2012</td>\n",
       "      <td>Skier</td>\n",
       "      <td>Facets</td>\n",
       "      <td>36</td>\n",
       "      <td>5400</td>\n",
       "      <td>North</td>\n",
       "      <td>10200</td>\n",
       "    </tr>\n",
       "    <tr>\n",
       "      <th>3</th>\n",
       "      <td>Salt Lake</td>\n",
       "      <td>11</td>\n",
       "      <td>11</td>\n",
       "      <td>2012</td>\n",
       "      <td>Skier</td>\n",
       "      <td>New Snow</td>\n",
       "      <td>18</td>\n",
       "      <td>6000</td>\n",
       "      <td>Southeast</td>\n",
       "      <td>10200</td>\n",
       "    </tr>\n",
       "    <tr>\n",
       "      <th>4</th>\n",
       "      <td>Salt Lake</td>\n",
       "      <td>11</td>\n",
       "      <td>11</td>\n",
       "      <td>2012</td>\n",
       "      <td>Skier</td>\n",
       "      <td>Facets</td>\n",
       "      <td>42</td>\n",
       "      <td>9600</td>\n",
       "      <td>North</td>\n",
       "      <td>10400</td>\n",
       "    </tr>\n",
       "  </tbody>\n",
       "</table>\n",
       "</div>"
      ],
      "text/plain": [
       "      Region  Month  Day  Year      Trigger                   Weak Layer  \\\n",
       "0  Salt Lake     11    9  2012  Snowboarder  New Snow/Old Snow Interface   \n",
       "1  Salt Lake     11   11  2012        Skier  New Snow/Old Snow Interface   \n",
       "2  Salt Lake     11   11  2012        Skier                       Facets   \n",
       "3  Salt Lake     11   11  2012        Skier                     New Snow   \n",
       "4  Salt Lake     11   11  2012        Skier                       Facets   \n",
       "\n",
       "   Depth_inches  Vertical_inches     Aspect  Elevation_feet  \n",
       "0            14              360      North           10400  \n",
       "1            30             1200      North            9700  \n",
       "2            36             5400      North           10200  \n",
       "3            18             6000  Southeast           10200  \n",
       "4            42             9600      North           10400  "
      ]
     },
     "execution_count": 13,
     "metadata": {},
     "output_type": "execute_result"
    }
   ],
   "source": [
    "df_task_2b.head()"
   ]
  },
  {
   "cell_type": "markdown",
   "id": "8a92b8a9-c3a8-4a57-be3b-c9cdc977092c",
   "metadata": {
    "__GENERATED_DATAFRAMES__": "{\"nodeDataframes\":{},\"graphDataframes\":null}",
    "show_aggregate_original": "false",
    "trrack_graph": "ᯡ࠽䈌ʀ匦㢠⹰ೠ⬠沈֭⠸恍ff9昽䁮ۦ࠰汬നڀপ㈏䣹厠㬦ተ¶⡨⇱㌀ᅁ╶庳ୖ⹜簧ଭࠣ℠Έ橦औ䁅ШNႦ〡岁䏼ℭ㞁摞+㢱䨠Ԋ牠Έƕ٦枓቙ჿਸ旑䅠Ȅ恨戬പᎭె䝁净儬Ö᡻⌸䐱䘩׍宨⇓ࡱ䍲ච᫲壬จ䙤Ɲڣ圖⍞ᛡ৽ण䃔戋㘠传ϊ揿振䘌汣䓼㹮䘫㈨ቺ⩯↧ᄨXഉ⠅ㅖࢢ侸⇄僡ಖࡢҁ氣С宍劄倶䢡⍤㲂̤㚗٩䄀硂಩⍰琦ᦪ悑屾ᾨႨ㺜*瘪䋇޶⋤ᓘ犠䭳঺᥇⏰ᅠ  "
   },
   "source": [
    "## Task 3: Data Wrangling"
   ]
  },
  {
   "cell_type": "markdown",
   "id": "9da80393-7f4b-4115-a4d1-5b7978e11358",
   "metadata": {
    "__GENERATED_DATAFRAMES__": "{\"nodeDataframes\":{},\"graphDataframes\":null}",
    "show_aggregate_original": "false",
    "trrack_graph": "ᯡ࠽䈌ʀ匦㢠⹰â䂬ƀᶷ琶䁋c<搔怳ଚ䠳亡䈤㉕⁖ì⺇⊨攩ᐠ▨戰㑹㧒妰囇⃹喧㝞Ţ∠桠ûு䁔䈠ॢȠந㺸ᢀ盅⻿夣•晀樠Ԃ牠Έƕ稦❳ሪὦ䰼⇑䅠Ȅ恨㙎⌯᪴䶹䈁ℓ琡㙐ᮂ⢨᢬थ⧓ࡢ㌰ሚ璋U䳘䠵欯Т縔絭Sㄭۡ۹ण䉔悊㘠传ϒ橷挣⌏ⱡ䕼庮打㈨ɼ榨慢䃂॑瑐繦┭ڼ㾬⎂厃焸牘榥ᄨ䦯ඦ嘔㗆溄⒀擒摖≦၀ⶃ㧄మޢᄴ䩍རへ∦䯧焤愷䍠Žƀ夅შ㤙༾′⪂㵩掳婊⢄  "
   },
   "source": [
    "### **Task 3a: Creating and assigning 'Avalanche Season'**"
   ]
  },
  {
   "cell_type": "markdown",
   "id": "402412ae-3b84-4fec-9c01-94dd203a7b1f",
   "metadata": {
    "__GENERATED_DATAFRAMES__": "{\"nodeDataframes\":{},\"graphDataframes\":null}",
    "show_aggregate_original": "false",
    "trrack_graph": "ᯡ࠽䈌ʀ匦㢠⹰â䂬ƀᶷ琶䁋c<搔怳ଚ䠳亡䈤㉕⁖ì⺇⊨攩ᐠ▨戰㑹㧒妰囇⃹喧㝞Ţ∠桠ûு䁔䈠ॢȠந㺸ᢀ盅⻿夣•晀樠Ԃ牠Έƕ稦❳ሪὦ䰼⇑䅠Ȅ恨㙎⌯᪴䶹䈁ℓ琡㙐ᮂ⢨᢬थ⧓ࡢ㌰ሚ璋U䳘䠵欯Т縔絭Sㄭۡ۹ण䉔悊㘠传ϒ橷挣⌏ⱡ䕼庮打㈨ɼ榨慢䃂॑瑐繦┭ڼ㾬⎂厃焸牘榥ᄨ䦯ඦ嘔㗆溄⒀擒摖≦၀ⶃ㧄మޢᄴ䩍རへ∦䯧焤愷䍠Žƀ夅შ㤙༾′⪂㵩掳婊⢄  "
   },
   "source": [
    "Next, we'll introduce a new categorical variable named `Avalanche Season` into our dataset. This addition aims to classify each avalanche record into different parts of the avalanche season (Start, Middle, End) based on the month it occurred in.\n",
    "\n",
    "Create a new category `Avalanche Season` in the dataset and assign each record to `Start`, `Middle`, or `End` of the avalanche season based on its month."
   ]
  },
  {
   "cell_type": "markdown",
   "id": "86d54d80-ef52-4630-bffb-1e04d9320384",
   "metadata": {},
   "source": [
    "#### **Instructions**\n",
    "1. **Define Season Categories:**\n",
    "    - Based on typical avalanche seasons in Utah, create a new category called `Avalanche Season`.\n",
    "    - Add three options for this category -- `Start`, `Middle`, `End`.\n",
    "2. **Interactive Category Assignment:**\n",
    "    - Use Persist's interactive features to select each month and assign it to one of the `Avalanche Season` values (Start, Middle, End).\n",
    "    - You should use the following ranges for assigning proper categories:\n",
    "        - `Start` of Season for _October_, _November_, _December_\n",
    "    \t- `Middle` of Season for _January_, _February_, _March_\n",
    "    \t- `End` of Season for _April, May_, _June_\n",
    "3. **Verify the Output:**\n",
    "    - Print the head of the generated dataframe to verify the changes."
   ]
  },
  {
   "cell_type": "code",
   "execution_count": 14,
   "id": "63b62f4c-8841-4f6c-8011-cb2ee31c2c7b",
   "metadata": {
    "__GENERATED_DATAFRAMES__": "ᯡࠩ䃬࿀ᜤᠹ悋ᐬ推̅ሣ䧠ⶠ卍捯ᥔᠣ℠▢dʘϔᝠ捌〤瀵摠៨⠠ ",
    "__has_persist_output": true,
    "trrack_graph": "ᯡ࠽䈌ʀ匦㢠⹰恣Ƹ΀ࣦ〶䶠瘠ഊࠥ䁑䘡Ქ珪䦤҅″᭬柾⶯ڲ⠠䭈⑀棒瀶ᝉ⭡䦫᭮ẜ˩Ҩǁ#㕫䢊′䈤7ࠣᠠ湐憎Ⴄ姗㈦䀥䲁吠৹撠۱ϳ校ⴔ呜ॊႬ䕠͒䍳兲䱼䱂㬴Ⲫ᪫䵢䕣塲†崣⇃䘬梦⁑匦凌ばᠲᶼ仮捇ビ樓䵀{ౕ唴∪䌤䋯ⳤო䑰䵨ᬪ怭㒽∥盢唠弣ሊ敕ͭつ澍恶ㄓ欠➠ǵ看熡刍Ἠౢ熘๴ᇎቨ湎േ䃡⑎Ⴇ⃄䣊੎䏑Қપ䉑案ጮ䆱⢜䚨⥤帯尅ዔ栮䐦㥒٨䙇ࡄ䥴嵅⊄⦌坁怴䔲䳁⯬቉ᖻ௥঄䵁䦄砼佄᜵ᡲ峉⫴☦䩠ȩ⁰ 䘡䀠睃⚮棠аយഠ㤾帮ᣠ㾱倦⧀炕䧵珵⃿嫷㑚广ῤࢥᬰ༣㤴呬྾惰㑊᪠₇瑒ڧ斑瑔碍ࣱ塲ᫀ㊜䞇ᗭႀ㢜ࢪⁱ呚ᆬ拐᲎ឯ戩䈨淁殔ᮞ墄᢬冔⼮䀹卹庈孍浕䎅堹㬨Ą㢽༫䆈୽㞛唀㇠ሸ*ᅨ匟㈙ġ‰਄\"峠䠉柞㷍㞷搑Ë㖫烡цॠЩ磄ど禬ᴥ焠侥ဠ㵕ᖘػ冝羵儈懛撄穘ಢ湔ජ桠ྉࡻ䉢ዚࢥᡴ䏡͝Ũ䒲Ꮱ瑆ϡᦷӁ䱓ీ⥓Ł堪⇀␢ᗭ碁઱⡁垢ᒒੜ⮨౑璝炢㉼䵜㐤ૣ⇝叢ⵞ伬湋傥େ刕⠿嘈䳖搘°ᄥ噙䆡ᔻ䆰ො䚌䨻㕱ᶦ䈍婎䟢䙝⒉氾瞭╊ɬ⦺レ吶㛥㧞㑍擛Ō斩ܵ傼ね㆒㄀আ㓡姊ⱀֱ㓪光㝍嫉䟵ک坔䚤൹歓匕㌡犔䛕䂡ᛑ䲔⺻僒㸬ܕ㻟听乐㜑䍤㐐Ő╼⁁◀搾۠䣒㊩塕ۡ⡂⛠䌻̀䓝࠘倮浨獖拍⮍㊵泌匄િቴ˘昵櫈勵幀甈㴿‹掾ʨ砹ŀ兌熸獝瑼㙒睹侦狽䝇瓘޸䇘眣捼‹疠垭矧猧璘ػ瓆嬷熙㾭᎑සൈ⚳䑬ƣ㜹ࡣ੽慼䡼ǲ㒻᭲⁛⹲ᝇᡸ媙໑ᑨɢ䪚扢匊ἷ翗⫘劄婂 ง犂幢㑨ã羷ƠᕃࡍЩ䓠兕ՠពአ否ㆡ囩ᇬ槙ፁೝ䢻ຐᆑ⺛䯍㉃ばⷒ䞌樷㓱㶮䠌箽⊑ഷϼᮙ᛻㭪⟻ޑ湀杲ⓛ垍槙㥴䗮孮汀筡櫀䝩歎រ˚㐭欀睷䙑ඉ事⚥僶恓倡㈲ਣ咝₊൘⃮㪆㷴姳Ⱐܖຍ囸㛰ᥫ⩕ⶁᯢ䂊彂≃བ傥᷒僾燞烙兤ॄᴠ圄⨈ㄥ⹎ᘉ哏ᕷ整ᥫᘊ倻楐᢮ᡖన〰稧䂐潙ࣩㆱ䏊坖揃⇤捽曦䏮♴摭枴䶏Ȃ䁍ᮌ൒㺌੆ڏ㳈╀⳱ӹ䰫疴ஓ⤱ᭅㅶ䆆嚃拄ዪ㴭ແ疦䦓ན䅪恲⩎㚶敀␳ē˃倲ሺザ偼䋤晄㫨䕠⒫䂈ᙂᷝħୡݠ⌮ᝆ牲਄爩头ᗐ吧㏈㞂桞愰甎੨ຠ箻峯䩀⿐䈒ຩ䑆Ϟ巈纂Ⅰ⿭縏ɲ繉篈徨瀠仞悲愗滈尩終㹁徣⬊ᄖᨱ玊侪䇮䆙澮㴦垚烒禭߀䵉囒ᧅ幕䭩୤振䙓䈪⎀ᗱ灴晀䌅䒗满ᐶ煝失剚兰ᐡ⑋咲ߍⴓ❽秱崫姚寉㭣㦔睪瘎欂桠汙⃬㧀㌠䘷ϐȨ⍰ɦᖬ匘ᆣ宫ทᜥ潁ᬳ☆庂ࣆ䨸☴ጓ御䦈〓梛⋓וŭ䖶⎎ᄪ槣⫬ǵ䓇ᒶ奨㥬䠹ㆁ儾愲᪌剒⃱⏫ᣚͮïᑹ䣨中䡱̡Ф䅤嶠㷚˼ⷤ悃༐匴猁概Ṿ墌㙚粣䙇ⁱ㣴玑媡熨ՠ箧匚㔈桀敤ラ孑佬೧䲤䬵㍞㉤م犼垛ˊ⪵ⴹގ喳ᗊ㍎㊀ቩ犃₠࿃呛䔈⍡Ἃ࣌䚠H䌿唦嶡㠠ɲ曋◘ᰠ㑻恞ᗅ椱ɠ䥶ᓖ傡䨷Ʉ㩀ۆՌ璢䢄נ穉⠹⮉⡛穝⢉὿ထⰄৗ溳慙粒ₓ䂑晀⤄౓䰀䰯⃷კ䡞獱切癆Ԏᵑ惼㉜ʄ碤Ḓ硔䌞㲧彌石ခˆぶࡶ瓬ቃۦņȡᰧЫ⨮ࢣ㖥㺉ᇪ杢䓈䱃⼁ྋ֨樏挅㚱㩏糇果䍅ᦪᕕ䠪⎆⨦曆єᰦ₈ੱ嗫ୗ㙪জᝁಪደޕᜩ⋁ѐ稰ヰ殣两఻ᐿ滊ጠ吭ᢜ’懙樦偂潻䌁幌焇䟔㉃ᇰ嬘怬↋௠券䁔ᐠ፰ă⹕Ⴈ㪌♑㨒␠'䪲䅻䁾݌嬢ㅣ暮䌡啱朼瀨嬵旔ဓᔶ恠䆜㠣瀠࿁㶰嫅羹撀၃坹挧㿣ᤇႮ⬿救搅癁ᰢ姤厨⯘暒⁈䏼į൚ᗥ䧕᮵ⶪ㍠䤆床瀢榀ᬆ炡㞠ৄᛀ՗⡘Ⲇ瘢月姀糽丑㾋窮ï۳䞪箭⓲夻᜕ᶀ㲡堊䚴䞏ᗶ外瑀୯䶊俾ຽඋ⧱⍆畉⮣皹˖‖めɨ晏॰໋䔸媶㛒ඟ♊䢶⬊յ獱ᦺ嵒㫖气ధⴳ㓖硔怲α墅ᤐ淺䮰簛㎒ݫ敼⤋悯䲽㊇㱓崘Ê䊡⠂䀽ݓ㡌ン᣽揽巛儛᱗⠔棭梖໐伋溺Ṣ㩜ࢴ㗛䤚ྰ䂭ंᶓ㙛戅ㆱʕ帗屮⡴୏㯏䌹Ჾ敞㻓᪰充⁜⌰粡ࢤ᪢桂⏢ᐣぬ渀呫㘊䬐攚䚀檪ᆑ࿬␹ᗑ͋⼢ᛚ╁㱈攷䓨䀥⿴啿⽏؁㜧⯖ބ♎柙⋦⏕䓙嶯䞟ኑ攌ઉ楋㺑Őྐۡᎅ纅ฑ壬䧘嘜ڱ䔮㝝䆏畵䞴៞෿㷀ড়悡獖∞㟹⣍ต甮ᯈ窿ܕ瘨氈఻ᶖ妺朖笔㇍㴤睮ቄ䓍㛣ᇤ掂ൎ⇺ㄢ⏆ࣤ睪⑹倈䮑岷䆉᫲汏厐䎅命曜嶫˔⶧᣺⃹嫀⒀㮇墰ដ⃛墙䊄祸ᱛ⽕矾⊔䦴疝䐅伊㞽䁳↠畇⯔࿷⦮㞐ℳ橞䰎ි畘羌᲌〜築瓬▩㱭戞࢐厯緈䴦䙑.䕰ɠ╧灝ᒛൠ䢢煌₈ഌᲤ瀶椭ࣸ䩠䯜委扮៵䯝焤沦⮲瀾䇰֦怬椶䳯⒤㲐ㆱˣ↾筤揄尨᱌牒んᲸ朘噒䡛൘怰ṑ?ఢF洒⴨䰽ⅆ̢Ψ掆ⶇ䧙͈዆᭓恽̿⒤墐᧑䴟椡୒姈঴᧪玗ᣃ䴙ⴼ潅宿䤼Ⓖ⃅㣈⡓侲ሠֵ㰨র樣垲̘Ӡ㼲戦Ț๒༖䐢ⱂਁᬑ硭夜᣾䂩㞨⏻浘炫⟖尵晶⍡殺確⹜⽰ࢬ碀ö稄ⱚॐ໖䡖磺⧎䍄狇⓶䙠堣ዄ⅊䴬㩷≚øઔ漨஧ৰױ⢤煟ℶ揾椢䞰沝涠㇓䟟尳浖愔恈㶑ા⏒๜絮洢ሣᴬ燎梢宱皪ᣰ⻘Ƕ㲵Ѿ枬Еḧ沞⾘㈷ᾹԷⰪ民⺣Ѵ丮⒒䏅ᴔἮ偷叄ᱱ敎文⏘岈ᡮ⾫͑攞ࡪɲ३昩犕押ቬ椡媓慟捠ᜩ⚐䭌Ⲷ᫠౤㜬9⊲⹂䍙X໠法ᐼԄ⬡瘯悝ʅ漦ൖ奉⶚හ喓㡚尶䭱絣咮⊌䂎ᑳ皨*ᑂ厗ᢈ㠼毪⤂祍䔃侁ᅴ禳居☴垓怮㦺ᦨ嚬擘䡒旱包瑩Țᡑ憩攤㳼ӱ簡檃ĕᇱ౦璈摓߱≣᪃࢒䚱❱㗑全Ḋ⨤㗆ī敱勴t㗫沜帠⑋ǖ✄氤┾㇚ᙴ∥䔩台԰ౡ⑆⤣䷾勴垧ࣜ᭾墪倣㰢᳾悫㞵âᥨ娖ᶦ挷漰弅↾抎⃐䎯嶶絮Ꮮ㕓濅揧ⶑ␔綩կ搖ఓ綵籠Á㞪ィ籁洞㡩䯆Ꮁ᧡呮ふ瓨洩〓䋇ʑ‘Ⳣⲉᆽ䁑叄ᴳᒸའᲦ≜㍋湨ᙇ瀾9᷁丳䇟簡晉⤬氵Ĕବ䰦傌塘ὡ⡬廀˸ᗁ䪑ʑə䳦ī㠰䋘橁焫敉τᓐ兓䢄犏擁涣䦸ⅢؙῨ桺丟ᣩᴩ籡䋥䬙⤦ᢕ䶌浉Ṳ寓䶌ᣉ慰秃嶼ᐆ粷倾烃᪹壩璢㉲ҹⓠ㭋ŋ憹琢普あᏥᣫ〼㈤呅ᓭচ㍓ᶹ缁樣唕Ʊ狐੣◊槴⽰拑⌦䩱捣㖥≣◶皷呿⶿ɺ斶檆⤍ựͪ㪑卭ጬ獨㚽㍀⪒ᆣ䚥ჷ悑ณ盇㌾暑帐屸疿਒∶亨琐Ⱆ帗緃᨟൙ゕ亇挡᧡㉈⏂ኁᶵ稨䆟搇᧡⡩ᖌፘႩᡲ湮᳈䫙席牾礉澵嫌㎤˷῔⠠晬%͠䰬ᴮᇽ䯵☥畹㈚ƹ㰡嵃獉泩䩏⤮ු峎冇縯ᏱῩ獅毃⒥ႀ䎔⢛焹ځ݇姝઼掁ժ૛䰽攁煱㡴咦೨䎂塍㇍擥䯏寃䋥∴ᚡ㹀⃦ፅ爣䦟୻ࡅ戦♨䫳ṅ䥌ܹ悠  "
   },
   "outputs": [
    {
     "data": {
      "application/vnd.jupyter.widget-view+json": {
       "model_id": "5dfa6e91080a439bbb187a2970ce31fb",
       "version_major": 2,
       "version_minor": 0
      },
      "text/plain": [
       "PersistWidget(data_values=[{'__id_column': '1', 'Region': 'Salt Lake', 'Month': 11, 'Day': 9, 'Year': 2012, 'T…"
      ]
     },
     "execution_count": 14,
     "metadata": {},
     "output_type": "execute_result"
    }
   ],
   "source": [
    "select = alt.selection_interval(name=\"selector\", encodings=[\"x\"])\n",
    "\n",
    "chart = alt.Chart(df_task_2b, height=400, width=500).mark_bar().encode(\n",
    "    x=alt.X(\"Month:N\").sort([10, 11, 12, 1, 2, 3, 4, 5, 6, 7, 8 ,9]),\n",
    "    y=\"count()\",\n",
    "    opacity=alt.condition(select, alt.value(1), alt.value(0.2)),\n",
    "    tooltip=\"month(Month):N\"\n",
    ").add_params(select)\n",
    "\n",
    "PR.PersistChart(chart, data=df_task_2b, df_name=\"df_task_3a\")"
   ]
  },
  {
   "cell_type": "code",
   "execution_count": 15,
   "id": "3fa04f7d-af41-4168-b29b-970fd4620b80",
   "metadata": {},
   "outputs": [
    {
     "data": {
      "text/html": [
       "<div>\n",
       "<style scoped>\n",
       "    .dataframe tbody tr th:only-of-type {\n",
       "        vertical-align: middle;\n",
       "    }\n",
       "\n",
       "    .dataframe tbody tr th {\n",
       "        vertical-align: top;\n",
       "    }\n",
       "\n",
       "    .dataframe thead th {\n",
       "        text-align: right;\n",
       "    }\n",
       "</style>\n",
       "<table border=\"1\" class=\"dataframe\">\n",
       "  <thead>\n",
       "    <tr style=\"text-align: right;\">\n",
       "      <th></th>\n",
       "      <th>Region</th>\n",
       "      <th>Month</th>\n",
       "      <th>Day</th>\n",
       "      <th>Year</th>\n",
       "      <th>Trigger</th>\n",
       "      <th>Weak Layer</th>\n",
       "      <th>Depth_inches</th>\n",
       "      <th>Vertical_inches</th>\n",
       "      <th>Aspect</th>\n",
       "      <th>Elevation_feet</th>\n",
       "    </tr>\n",
       "  </thead>\n",
       "  <tbody>\n",
       "    <tr>\n",
       "      <th>0</th>\n",
       "      <td>Salt Lake</td>\n",
       "      <td>11</td>\n",
       "      <td>9</td>\n",
       "      <td>2012</td>\n",
       "      <td>Snowboarder</td>\n",
       "      <td>New Snow/Old Snow Interface</td>\n",
       "      <td>14</td>\n",
       "      <td>360</td>\n",
       "      <td>North</td>\n",
       "      <td>10400</td>\n",
       "    </tr>\n",
       "    <tr>\n",
       "      <th>1</th>\n",
       "      <td>Salt Lake</td>\n",
       "      <td>11</td>\n",
       "      <td>11</td>\n",
       "      <td>2012</td>\n",
       "      <td>Skier</td>\n",
       "      <td>New Snow/Old Snow Interface</td>\n",
       "      <td>30</td>\n",
       "      <td>1200</td>\n",
       "      <td>North</td>\n",
       "      <td>9700</td>\n",
       "    </tr>\n",
       "    <tr>\n",
       "      <th>2</th>\n",
       "      <td>Salt Lake</td>\n",
       "      <td>11</td>\n",
       "      <td>11</td>\n",
       "      <td>2012</td>\n",
       "      <td>Skier</td>\n",
       "      <td>Facets</td>\n",
       "      <td>36</td>\n",
       "      <td>5400</td>\n",
       "      <td>North</td>\n",
       "      <td>10200</td>\n",
       "    </tr>\n",
       "    <tr>\n",
       "      <th>3</th>\n",
       "      <td>Salt Lake</td>\n",
       "      <td>11</td>\n",
       "      <td>11</td>\n",
       "      <td>2012</td>\n",
       "      <td>Skier</td>\n",
       "      <td>New Snow</td>\n",
       "      <td>18</td>\n",
       "      <td>6000</td>\n",
       "      <td>Southeast</td>\n",
       "      <td>10200</td>\n",
       "    </tr>\n",
       "    <tr>\n",
       "      <th>4</th>\n",
       "      <td>Salt Lake</td>\n",
       "      <td>11</td>\n",
       "      <td>11</td>\n",
       "      <td>2012</td>\n",
       "      <td>Skier</td>\n",
       "      <td>Facets</td>\n",
       "      <td>42</td>\n",
       "      <td>9600</td>\n",
       "      <td>North</td>\n",
       "      <td>10400</td>\n",
       "    </tr>\n",
       "  </tbody>\n",
       "</table>\n",
       "</div>"
      ],
      "text/plain": [
       "      Region  Month  Day  Year      Trigger                   Weak Layer  \\\n",
       "0  Salt Lake     11    9  2012  Snowboarder  New Snow/Old Snow Interface   \n",
       "1  Salt Lake     11   11  2012        Skier  New Snow/Old Snow Interface   \n",
       "2  Salt Lake     11   11  2012        Skier                       Facets   \n",
       "3  Salt Lake     11   11  2012        Skier                     New Snow   \n",
       "4  Salt Lake     11   11  2012        Skier                       Facets   \n",
       "\n",
       "   Depth_inches  Vertical_inches     Aspect  Elevation_feet  \n",
       "0            14              360      North           10400  \n",
       "1            30             1200      North            9700  \n",
       "2            36             5400      North           10200  \n",
       "3            18             6000  Southeast           10200  \n",
       "4            42             9600      North           10400  "
      ]
     },
     "execution_count": 15,
     "metadata": {},
     "output_type": "execute_result"
    }
   ],
   "source": [
    "df_task_3a.head()"
   ]
  },
  {
   "cell_type": "code",
   "execution_count": 16,
   "id": "ebc358a2-e7e8-413d-8225-cb985a349a52",
   "metadata": {},
   "outputs": [
    {
     "data": {
      "text/plain": [
       "Avalanche Season\n",
       "Middle           1581\n",
       "Start             522\n",
       "End               222\n",
       "No Assignment       0\n",
       "Name: count, dtype: int64"
      ]
     },
     "execution_count": 16,
     "metadata": {},
     "output_type": "execute_result"
    }
   ],
   "source": [
    "# Optional\n",
    "df_task_3a[\"Avalanche Season\"].value_counts()"
   ]
  },
  {
   "cell_type": "markdown",
   "id": "36e82a42-5f2f-44e1-b9a5-2e2d403b2ff3",
   "metadata": {},
   "source": [
    "## **Task 3b: Analyzing Top Avalanche Trigger by Season**"
   ]
  },
  {
   "cell_type": "markdown",
   "id": "af40bad3-436e-426c-a02f-f205597e90b5",
   "metadata": {},
   "source": [
    "Now we'll analyze which trigger is most prevalent for avalanches in each season phase (Start, Middle, End) using the `Avalanche Season` category created in Task 3a."
   ]
  },
  {
   "cell_type": "markdown",
   "id": "72455a32-623b-4b87-87d6-ca9c8ebf19e7",
   "metadata": {},
   "source": [
    "#### **Instructions**\n",
    "1. **Context:**\n",
    "    - We have a facted bar chart. The `x` axis encodes the `Trigger` column in the data and the columns encode the newly added category `Avalanche Season`.\n",
    "2. **Analyze Trigger Data:**\n",
    "    - Observe the most common trigger for each season.\n",
    "    - You can hover on the bars to get the exact frequency.\n",
    "3. **Document Findings:**\n",
    "    - Note down the most common trigger for each season based on your interactive analysis in the markdown cell."
   ]
  },
  {
   "cell_type": "code",
   "execution_count": 17,
   "id": "07df4379-6e5e-4bcc-a878-7457f7baba16",
   "metadata": {
    "__GENERATED_DATAFRAMES__": "ᯡࠣ䅬Ԁ朤壠ᜣ琢〹夤゠⹰〮⁁䁻қ䚾ኊ㇠നСࠩ瀮晼Ƭ穅5愠៤⠠ ",
    "__has_persist_output": true,
    "trrack_graph": "ᯡ࠽䈌ʀ匦㢠⹱⁃⨦捡ೈᚠ⇊Ǹ瀥䆉ନၑ孝堤憝ㅤ堵䬲倢ⳁႣⓣ侨䳅㕺Ȭ䵻墲瘃Ƞڤ-䢬㚱j࠰}᩠怣㣣ݘ䈸泥素ଡ浰½㚰ΈƔ嫺殝ሠƫ⽣灅ᣡ‡犀⒌ㅘ㬻຺․犳䎨᡺{౉䂿䈠⌤䆶䰤ჩ䑠囊Ӡ඄⡂秗簢Þⵎ嵠ೡ䪀䊊ҡ憋櫨ၳG䀡杒Α䏱家ဢ㬫ᖡþ㑂ᆆൢ䢀⑌㲚౐眂䷠ڂ㎄⠩妘ៈث籀⎁岚ᱍ掐ᙅ喂፤へ嵧橂̰௢㏹⊔ପ䌁вᲥ⃰瑦ᦦ悑⩞ੀ˙㱞㻡挱ㅘ咿නপ⥅╠碜Ὠ  "
   },
   "outputs": [
    {
     "data": {
      "application/vnd.jupyter.widget-view+json": {
       "model_id": "cda4264231bc4650bb1ac785545d091e",
       "version_major": 2,
       "version_minor": 0
      },
      "text/plain": [
       "PersistWidget(data_values=[{'__id_column': '1', 'Avalanche Season': 'Start', 'Region': 'Salt Lake', 'Month': 1…"
      ]
     },
     "execution_count": 17,
     "metadata": {},
     "output_type": "execute_result"
    }
   ],
   "source": [
    "NEW_COLUMN = \"Avalanche Season\"\n",
    "\n",
    "chart = alt.Chart(df_task_3a).mark_bar().encode(\n",
    "    x=\"Trigger:N\",\n",
    "    y=\"count():Q\",\n",
    "    color=alt.Color(f\"{NEW_COLUMN}:N\").sort([\"Start\", \"Middle\", \"End\"]),\n",
    "    column=alt.Column(f\"{NEW_COLUMN}:N\").sort([\"Start\", \"Middle\", \"End\"]),\n",
    "    tooltip=\"count()\"\n",
    ")\n",
    "\n",
    "PR.PersistChart(chart)"
   ]
  },
  {
   "cell_type": "markdown",
   "id": "00e87acd-3759-49eb-9e43-d7793672297c",
   "metadata": {},
   "source": [
    "**Task 3b Notes:**\n",
    "\n",
    "- Most common Trigger for `Start` of the season:  __Natural__ (_210_)\n",
    "- Most common Trigger for `Middle` of the season: __Skier__ (_572_)\n",
    "- Most common Trigger for `End` of the season: __Natural__ (_88_)"
   ]
  }
 ],
 "metadata": {
  "__CATEGORIES_META__": "{\"categories\":{\"Avlanche Season Phase\":{\"name\":\"Avlanche Season Phase\",\"options\":{\"_None\":{\"name\":\"None\"},\"Start\":{\"name\":\"Start\"},\"Middle\":{\"name\":\"Middle\"},\"End\":{\"name\":\"End\"}}}},\"activeCategoryName\":\"Avlanche Season Phase\"}",
  "__persist_keys_record": [
   "__GENERATED_DATAFRAMES__",
   "__persist_nb_uuid__",
   "trrack_graph",
   "show_aggregate_origin"
  ],
  "__persist_nb_uuid__": "36dba505-c931-454f-af6c-30e8cfb51ac2",
  "kernelspec": {
   "display_name": "Python 3 (ipykernel)",
   "language": "python",
   "name": "python3"
  },
  "language_info": {
   "codemirror_mode": {
    "name": "ipython",
    "version": 3
   },
   "file_extension": ".py",
   "mimetype": "text/x-python",
   "name": "python",
   "nbconvert_exporter": "python",
   "pygments_lexer": "ipython3",
   "version": "3.8.16"
  }
 },
 "nbformat": 4,
 "nbformat_minor": 5
}
