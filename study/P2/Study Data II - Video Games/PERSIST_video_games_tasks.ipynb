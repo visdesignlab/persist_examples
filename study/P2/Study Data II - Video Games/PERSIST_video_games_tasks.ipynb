{
 "cells": [
  {
   "cell_type": "markdown",
   "id": "522fcbb3-702c-4ea0-91d9-f3b0e71690fc",
   "metadata": {
    "__GENERATED_DATAFRAMES__": "{\"nodeDataframes\":{},\"graphDataframes\":null}",
    "show_aggregate_original": "false",
    "trrack_graph": "ᯡ࠽䈌ʀ匦㢠⹰àᦴ΀࣪ʐ怶䦠挠᱊ࠥ䁁䂖㚥煤晬փ⊪ĸ暂䙠঳ैkᑄᄈ妐ଷᓋ⃩䖻Ṯ溜Φ䐡傠Ǒ団Қ′䈤7ࡣᠠ湐戎Ⴆ寐爤䀥屨攠ʕ㥀ǔÚ䍃㏙䤥ࢂ┩勸惀Ēいཆ༠೥∁∀秸㲅䌠ⶬᛦ䙂ǃɡ殍戰泤ᒁ嬦怭㋉匥穃ᄠ彣჻⴦䉫ぢ睤䄁ⵐۻG䀡曑砑䂱竖ᄂ㜿Ꭽ˹ȩᚱ凁兘㑐Ṣ༩Ẻ䳥⑆憰棨忞⍧攈堽Ī僰὆揖䦲ᡊ⛓౱নఱ姼ᤦΧ您別൧儸晋Ǣ熘繀䉁硨K塊়ṹᜰ倳䪂ⵦ⚈ᒽ᪺ᆬ䀠 "
   },
   "source": [
    "# Analyzing Video Games Across Genres"
   ]
  },
  {
   "cell_type": "markdown",
   "id": "19cb3971-5981-474c-8250-7981c7c9cc8a",
   "metadata": {
    "trrack_graph": "ᯡ࠽䈌ʀ匦㢠⹰ૠܠ昢〽䂆౐׀ৣfL⍉ျ⥒⠡䒙¬ᧇ峕搢ಒ嫒┠অҤᵖ㹢晴㘉ᦳㄍ毿䡨墠ᨰV䆼ガ搢⡠䀢焨㌠෦ౝ戰殖๠ᠠ塩ೀn坄V䀷⢄㚗᥂夬ು䅻ఴ>☤䝃傳狱⊔㳜ੁ䀶挫㐷ࢢӡჵ嬩іㄪᢉ懐ͻ䬥䇽ࣨ䁏僿峱䐰㋸ᇻ兀㡆䱍㛠਀ⲛ粀೽疨һ䟩桁㙡Ũ昙ˢ䧮ᄪᆽ䥢ᅅᄁẩ㱸౮ᐶޣ先ఽЃⵖᥒ⌥▶懜ᩑƢ᭛䭄憐ɑ٦⦈䙓ǂ炘㸠䱅࢜ؠଌથ䜯๡䙉夊᜶僑汢㭢☈₁䠠 "
   },
   "source": [
    "**Participant ID:**  P2\n",
    "\n",
    "**Date / Time:**"
   ]
  },
  {
   "cell_type": "markdown",
   "id": "ceac0d48-2820-4532-bfd2-adf6533d7a2d",
   "metadata": {},
   "source": [
    "# Introduction\n",
    "Welcome to our data analysis study. For this study, you'll be working with a dataset sourced [Corgis Datasets Project](https://corgis-edu.github.io/corgis/).\n",
    "\n",
    "The data was originally published in the publication [“What makes a blockbuster video game? An empirical analysis of US sales data.” Managerial and Decision Economics](https://researchportal.port.ac.uk/en/publications/what-makes-a-blockbuster-video-game-an-empirical-analysis-of-us-s) by Dr Joe Cox. \n",
    "\n",
    "The dataset has information about the sales and playtime of over a thousand video games released between 2004 and 2010. The playtime information was collected from crowd-sourced data on [\"How Long to Beat\"](https://howlongtobeat.com/)."
   ]
  },
  {
   "cell_type": "markdown",
   "id": "68491102-96aa-4701-8134-d998c80ae04b",
   "metadata": {},
   "source": [
    "- You will use an extension called PersIst to complete **data cleanup and manipulation** tasks. \n",
    "- Interactive charts and tables have been pre-created for your convenience. These can be directly utilized by running the corresponding cells.\n",
    "- Focus on leveraging the interactive capabilities of Persist for your analysis.\n",
    "- Carefully follow the step-by-step instructions provided for each task.\n",
    "- In some cases, you will be asked to document your findings. Please do this in writing in a markdown cell.\n",
    "- As you work through the tasks, take note of any interesting findings or challenges with the software or pandas that you may encounter, either by speaking your thoughts out loud or taking notes in a markdown cell.\n",
    "- Feel free to add new code and markdown cells in the notebook as necessary to complete the tasks, but please do attempt the tasks with the PersIst functionality."
   ]
  },
  {
   "cell_type": "code",
   "execution_count": 1,
   "id": "9337796b-21e8-4c8c-bbbd-3076a775d03b",
   "metadata": {},
   "outputs": [],
   "source": [
    "import helpers as h\n",
    "import pandas as pd\n",
    "import altair as alt\n",
    "\n",
    "import persist_ext as PR"
   ]
  },
  {
   "cell_type": "markdown",
   "id": "dd81aecd-eebf-4624-b9e2-3a864c474c1d",
   "metadata": {
    "__GENERATED_DATAFRAMES__": "{\"nodeDataframes\":{},\"graphDataframes\":null}",
    "show_aggregate_original": "false",
    "trrack_graph": "ᯡ࠽䈌ʀ匦㢠⹰Ҁ̡䘠烠嘢త〫‥侴ᓬᛞ拐ৡ䚂ద抭婈ހڅྯ䌲⠠䭈⑁槑焳Ⴥ⩦仃㍶๽㰥Ҩǁ#㟢䌰橠ኤРᜰ͐üメ湁˛㾄ָ̠憴)挄䀦栢琭ٮ㍄ᨡ䌤ᾣㆢ䀣擠䢤㘦Sᥧᡠ戂怡ᠬÖᠻ㹈䐿ة׉妨⃓ࢱ̴㖠᫲徤ฏѤƜڣ回㸦ۡ৵ण䃔戊㘠传ϊ緯挡䘌污䕽庮粓㈨ɪⷠ搃猄ᦨ洘㳌ᤪ̪౦繶ሱ澂䘣⁑Ҝഭ炍孉ृÅ⭱䤾ᢠ䆋෭ኀ㠢Ү≱呺Ấ惑汮ᮯ戩䊏̠˙Ɂ⧽憳㈒ṉⅱਊ⥋⃆瑀⣨  "
   },
   "source": [
    "## Data Description\n",
    "\n",
    "The table below describes the different columns in the dataset. Each row in the dataset represents a video game.\n",
    "\n",
    "| Column        | Description                                                                                                                                                           |\n",
    "|---------------|-----------------------------------------------------------------------------------------------------------------------------------------------------------------------|\n",
    "| Title         | Full title of the game.                                                                                                                                               |\n",
    "| Max Players   | The maximum number of players that can play this game.                                                                                                                |\n",
    "| Multiplatform | Whether this game is available on multiple platforms.                                                                                                                 |\n",
    "| Online        | Whether this game supports online play.                                                                                                                               |\n",
    "| Genres        | The main genre that this game belongs to.                                                                                                                             |\n",
    "| Licensed      | Whether this game was based off a previously licensed entity.                                                                                                         |\n",
    "| Publishers    | The publishers who created this game.                                                                                                                                 |\n",
    "| Review Score  | A review score for this game, out of 100.                                                                                                                             |\n",
    "| Re-release    | Whether this game is a re-release of an earlier one.                                                                                                                  |\n",
    "| Year          | The year that this game was released.                                                                                                                                 |\n",
    "| Comp_Time_All | The median time that players reported completing the game in any way, in hours.                                                                                       |\n",
    "| Comp_Time_Main| The median time that players reported completing the main game storyline, in hours.                                                                                   |"
   ]
  },
  {
   "cell_type": "code",
   "execution_count": 2,
   "id": "8d0e426c-89a0-4813-8994-65ebba3f3a25",
   "metadata": {},
   "outputs": [
    {
     "data": {
      "text/html": [
       "<div>\n",
       "<style scoped>\n",
       "    .dataframe tbody tr th:only-of-type {\n",
       "        vertical-align: middle;\n",
       "    }\n",
       "\n",
       "    .dataframe tbody tr th {\n",
       "        vertical-align: top;\n",
       "    }\n",
       "\n",
       "    .dataframe thead th {\n",
       "        text-align: right;\n",
       "    }\n",
       "</style>\n",
       "<table border=\"1\" class=\"dataframe\">\n",
       "  <thead>\n",
       "    <tr style=\"text-align: right;\">\n",
       "      <th></th>\n",
       "      <th>Title</th>\n",
       "      <th>Max Players</th>\n",
       "      <th>Multiplatform?</th>\n",
       "      <th>Online?</th>\n",
       "      <th>Genres</th>\n",
       "      <th>Licensed?</th>\n",
       "      <th>Comp_Time_All</th>\n",
       "      <th>Re-release?</th>\n",
       "      <th>Comp_Time_Main</th>\n",
       "      <th>Review Score</th>\n",
       "      <th>Year</th>\n",
       "      <th>Publishers</th>\n",
       "    </tr>\n",
       "  </thead>\n",
       "  <tbody>\n",
       "    <tr>\n",
       "      <th>0</th>\n",
       "      <td>Super Mario 64 DS</td>\n",
       "      <td>1</td>\n",
       "      <td>True</td>\n",
       "      <td>True</td>\n",
       "      <td>Action</td>\n",
       "      <td>True</td>\n",
       "      <td>24.48</td>\n",
       "      <td>True</td>\n",
       "      <td>14.50</td>\n",
       "      <td>85</td>\n",
       "      <td>2004</td>\n",
       "      <td>Nintendo</td>\n",
       "    </tr>\n",
       "    <tr>\n",
       "      <th>1</th>\n",
       "      <td>Lumines: Puzzle Fusion</td>\n",
       "      <td>1</td>\n",
       "      <td>True</td>\n",
       "      <td>True</td>\n",
       "      <td>Strategy</td>\n",
       "      <td>True</td>\n",
       "      <td>10.00</td>\n",
       "      <td>True</td>\n",
       "      <td>10.00</td>\n",
       "      <td>89</td>\n",
       "      <td>2004</td>\n",
       "      <td>Ubisoft</td>\n",
       "    </tr>\n",
       "    <tr>\n",
       "      <th>2</th>\n",
       "      <td>WarioWare Touched!</td>\n",
       "      <td>2</td>\n",
       "      <td>True</td>\n",
       "      <td>True</td>\n",
       "      <td>Action</td>\n",
       "      <td>True</td>\n",
       "      <td>2.50</td>\n",
       "      <td>True</td>\n",
       "      <td>1.83</td>\n",
       "      <td>81</td>\n",
       "      <td>2004</td>\n",
       "      <td>Nintendo</td>\n",
       "    </tr>\n",
       "    <tr>\n",
       "      <th>3</th>\n",
       "      <td>Hot Shots Golf: Open Tee</td>\n",
       "      <td>1</td>\n",
       "      <td>True</td>\n",
       "      <td>True</td>\n",
       "      <td>Sports</td>\n",
       "      <td>True</td>\n",
       "      <td>-100.00</td>\n",
       "      <td>True</td>\n",
       "      <td>-100.00</td>\n",
       "      <td>81</td>\n",
       "      <td>2004</td>\n",
       "      <td>Sony</td>\n",
       "    </tr>\n",
       "    <tr>\n",
       "      <th>4</th>\n",
       "      <td>Spider-Man 2</td>\n",
       "      <td>1</td>\n",
       "      <td>True</td>\n",
       "      <td>True</td>\n",
       "      <td>Action</td>\n",
       "      <td>True</td>\n",
       "      <td>10.00</td>\n",
       "      <td>True</td>\n",
       "      <td>8.00</td>\n",
       "      <td>61</td>\n",
       "      <td>2004</td>\n",
       "      <td>Activision</td>\n",
       "    </tr>\n",
       "  </tbody>\n",
       "</table>\n",
       "</div>"
      ],
      "text/plain": [
       "                      Title Max Players  Multiplatform?  Online?    Genres  \\\n",
       "0         Super Mario 64 DS           1            True     True    Action   \n",
       "1    Lumines: Puzzle Fusion           1            True     True  Strategy   \n",
       "2        WarioWare Touched!           2            True     True    Action   \n",
       "3  Hot Shots Golf: Open Tee           1            True     True    Sports   \n",
       "4              Spider-Man 2           1            True     True    Action   \n",
       "\n",
       "   Licensed?  Comp_Time_All  Re-release?  Comp_Time_Main  Review Score  Year  \\\n",
       "0       True          24.48         True           14.50            85  2004   \n",
       "1       True          10.00         True           10.00            89  2004   \n",
       "2       True           2.50         True            1.83            81  2004   \n",
       "3       True        -100.00         True         -100.00            81  2004   \n",
       "4       True          10.00         True            8.00            61  2004   \n",
       "\n",
       "   Publishers  \n",
       "0    Nintendo  \n",
       "1     Ubisoft  \n",
       "2    Nintendo  \n",
       "3        Sony  \n",
       "4  Activision  "
      ]
     },
     "execution_count": 2,
     "metadata": {},
     "output_type": "execute_result"
    }
   ],
   "source": [
    "df = pd.read_csv('video_games.csv')\n",
    "df.head()"
   ]
  },
  {
   "cell_type": "markdown",
   "id": "7cc10d2b-9b1e-46f4-9769-b9a0ac0c9e8f",
   "metadata": {
    "__GENERATED_DATAFRAMES__": "{\"nodeDataframes\":{},\"graphDataframes\":null}",
    "show_aggregate_original": "false",
    "trrack_graph": "ᯡ࠽䈌ʀ匦㢠⹰ૠ㌬Ā჻R〶䁃lyٹ⁓f䍐ۢ䧪㈉◔ฅޡ䨲⠠䬱䑁棒瀱Ⴭ⭱妻ݎẜʤ䐡傠ǖ悃РኤРᜰ結üメ浪巟㈠ᣠˬ⃪$熒‣㐡㬚͇⦲༿⸂໡壡‡犀⒂ଠᎭॣ䥡⊃㡹稠嬸ූᑤඦҡ哹䑀妨䤝͕䀺慽䈩瞤∡㼚ƶ嵖᯦悡檩ǣ᪀畖o#䖊⠃ܑ璌⃥⹾䞌᧒Т⺈ᆡ⇳㴑䒤㒌ŭ᯸丈◡戱⃰潅Ԧ秐噑๦磜疶溂⒀ᒪ扖⋦ူⶃ㧄మྡྷშ⨭རㅸ瘭ǅ爘䅐䘆砠址䑂㥨㈼㹯䕈䓵ᒹ憴婊③ᤠ "
   },
   "source": [
    "# Task 1: Column Names and Data Types\n",
    "\n",
    "In the first task we will perform some basic data cleaning operations to get our dataset ready for further tasks."
   ]
  },
  {
   "cell_type": "markdown",
   "id": "8934b219-dd97-4e3e-9aa9-0dd7a9d62ad5",
   "metadata": {
    "__GENERATED_DATAFRAMES__": "{\"nodeDataframes\":{},\"graphDataframes\":null}",
    "show_aggregate_original": "false",
    "trrack_graph": "ᯡ࠽䈌ʀ匦㢠⹰ૠ㬠氤〥䌸瀶䀹䁣๲ৠܦᔨҀᣴ䂼䋃‣ᓆ做►䀳ല⠠䭈⑁槑瀱ᝉ⍮冫㭮ẜʦ䒠ǁ#㕀挸晠ኤРᝣၐüムṁǟ㤉䀥䉸攠ʓ㥀ǔÚ⎃஥䤫䒄攭ᇸ惀Ēいᘦᖠೣ䗫⃂変ⱦ{ఽ咼∪⌤䋵汄ჹ䑈冣ᛠඉⵆܔ⍂Þ⍡歹ম悩溩Ǡ媁疖o#䖓瀃ʅ璌⁅溮杲◒Ъ⍁䔶户ࣉⓢ削౐䘰䵥䌂んḸئԢ灐糕൤㧶ⶬ䲱䅲ᗈ撯ౠ惍䈅䥐属ѣ၈⩍སヸ๗௧焤ᄸ䒰Ž䅰䔉燩壥༲刳樲⭮✈咰ᒄ  "
   },
   "source": [
    "### Task 1a: Remove Columns"
   ]
  },
  {
   "cell_type": "markdown",
   "id": "47b531d4-2e3a-4e9a-b92a-39aebfc3deb6",
   "metadata": {
    "__GENERATED_DATAFRAMES__": "{\"nodeDataframes\":{},\"graphDataframes\":null}",
    "show_aggregate_original": "false",
    "trrack_graph": "ᯡ࠽䈌ʀ匦㢠⹰ૠ㬠氤〥䌸瀶䀹䁣๲ৠܦᔨҀᣴ䂼䋃‣ᓆ做►䀳ല⠠䭈⑁槑瀱ᝉ⍮冫㭮ẜʦ䒠ǁ#㕀挸晠ኤРᝣၐüムṁǟ㤉䀥䉸攠ʓ㥀ǔÚ⎃஥䤫䒄攭ᇸ惀Ēいᘦᖠೣ䗫⃂変ⱦ{ఽ咼∪⌤䋵汄ჹ䑈冣ᛠඉⵆܔ⍂Þ⍡歹ম悩溩Ǡ媁疖o#䖓瀃ʅ璌⁅溮杲◒Ъ⍁䔶户ࣉⓢ削౐䘰䵥䌂んḸئԢ灐糕൤㧶ⶬ䲱䅲ᗈ撯ౠ惍䈅䥐属ѣ၈⩍སヸ๗௧焤ᄸ䒰Ž䅰䔉燩壥༲刳樲⭮✈咰ᒄ  "
   },
   "source": [
    "Remove the following columns to streamline the dataset for further analysis:\n",
    "\n",
    "- **_Re-release?:_** Boolean flag indicating if the game was a new release or a re-release.\n",
    "- **_Comp_Time_All:_** Average of all other completition times, we will use one of the others directly"
   ]
  },
  {
   "cell_type": "markdown",
   "id": "aec9ad2a-ab09-4288-b8fa-2852bcddda1a",
   "metadata": {},
   "source": [
    "#### **Instructions**\n",
    "1. **Column Removal:**\n",
    "\t- Use the interactive table feature in PersIst to remove the specified columns.\n",
    "3. **Verify the Output:**\n",
    "\t- Print the head of the generated dataframe to verify the changes."
   ]
  },
  {
   "cell_type": "code",
   "execution_count": 3,
   "id": "8e333ff3-cb24-430b-a332-733b41570ba4",
   "metadata": {
    "__GENERATED_DATAFRAMES__": "ᯡࠩ䃬࿀ᜤᠹ悋ᐨ推̅ሣ䧠ⶠ卍捯ᥔᠣ℠▢dʘϔᝠ捌〤瀵摠៨⠠ ",
    "__has_persist_output": true,
    "editable": true,
    "slideshow": {
     "slide_type": ""
    },
    "tags": [],
    "trrack_graph": "ᯡ࠽䈌ʀ匦㢠⹰ڀᆪ卡౐චⴠ捜͐ʀါᒠᱤ୯¦⠮㹠癶窑䨠乺ⓀŌ傰䏄懯䱬劭㵦ᚌᷙ⌗爲&䈠۹䴬ǩj࠰|穠怣㣣ט䈲曽儠ୱͰn杄V䐠૥⛧ާぱ␤ᑂ#Ŋ䕫⍠ዲ㧢娄᎐䤠䴴䞥݁\"瘔ڮ卄㊞䢨᳭ㆢ䀣擠䣸亄犘㥖䲽䊩栈ƌヶ昱ࡓలଢ଼㔰䄖ၢ㕀㑋U劙䀷崪吢縔䟋ᒆᅕ䄳㷗Ź䏯ⰡḠݷ宯䘨䟔籀儫䞀㦸㍒ȧॄ⠱բჀㆢ⭧ᄤ橘⧡⁴审š⅘ዒ⧥ᅂ⨽䈖組ᚬ۵㳮ڞ䤶䖂磂⊳⑒Ⲯ➰ဪᠱ➡ᓪ૜挫㦹ᢼ₲╲樷ᶵ昒䋑⩷ᕊ嫑䃳㠠ᄠ䈩砠Ԅ⇈䂠ఠ⯄映∔竈ᜄЭ^䳹㝻㚰ߧ爥䅧彩礽乷੯择вʭ⇰ెᖮ憐㱞ጣ单ⶖ䯁娔́䒅⌭ᱮઃ᧬僥妆槌᭍彫塠݃䔈硼ଠ嬋㯽➝ฮრqਥࠚ㭰吢̌䀶堬㵘寯ᵍ猘繀ₚ我䄰桴V②⟨扂帡孻撰Ĕ䩱爧͍旳娕㯭⭭删巗俎猧澎Ⰺ窛㣯౏傏׌巐㘥僀ⴣĸ⤧჈ᨫ撒㤭䄙㉣Èయ槰ᔨᅿ⺮組⬡ᆯ㖯籠ᨆ疿⟂ʞᡮむ偧⦸ᰣ 㼽䀡䈰ኀ㸠մ⍬杠Ȩ౓ຓ㙟䀩İⶀᢴृ⑌஠⌥഻ᑘ曂፭಺ҁ˹橇फて∣畯܁ᔐ潁⍅଺吤懁㐴汃ᨫ‱ȧℱ≉⛪敮⦲ᕾ⿪ց⻊彀  "
   },
   "outputs": [
    {
     "data": {
      "application/vnd.jupyter.widget-view+json": {
       "model_id": "ded3618741e34f98af25afaa0b09bab3",
       "version_major": 2,
       "version_minor": 0
      },
      "text/plain": [
       "PersistWidget(data_values=[{'__id_column': '1', 'Title': 'Super Mario 64 DS', 'Max Players': '1', 'Multiplatfo…"
      ]
     },
     "execution_count": 3,
     "metadata": {},
     "output_type": "execute_result"
    }
   ],
   "source": [
    "PR.PersistTable(df, df_name=\"df_task_1a\")"
   ]
  },
  {
   "cell_type": "code",
   "execution_count": 4,
   "id": "e75de3f8-1986-4b7a-9642-2f720525a2db",
   "metadata": {},
   "outputs": [
    {
     "data": {
      "text/html": [
       "<div>\n",
       "<style scoped>\n",
       "    .dataframe tbody tr th:only-of-type {\n",
       "        vertical-align: middle;\n",
       "    }\n",
       "\n",
       "    .dataframe tbody tr th {\n",
       "        vertical-align: top;\n",
       "    }\n",
       "\n",
       "    .dataframe thead th {\n",
       "        text-align: right;\n",
       "    }\n",
       "</style>\n",
       "<table border=\"1\" class=\"dataframe\">\n",
       "  <thead>\n",
       "    <tr style=\"text-align: right;\">\n",
       "      <th></th>\n",
       "      <th>Title</th>\n",
       "      <th>Max Players</th>\n",
       "      <th>Multiplatform?</th>\n",
       "      <th>Online?</th>\n",
       "      <th>Genres</th>\n",
       "      <th>Licensed?</th>\n",
       "      <th>Comp_Time_Main</th>\n",
       "      <th>Review Score</th>\n",
       "      <th>Year</th>\n",
       "      <th>Publishers</th>\n",
       "    </tr>\n",
       "  </thead>\n",
       "  <tbody>\n",
       "    <tr>\n",
       "      <th>0</th>\n",
       "      <td>Super Mario 64 DS</td>\n",
       "      <td>1</td>\n",
       "      <td>True</td>\n",
       "      <td>True</td>\n",
       "      <td>Action</td>\n",
       "      <td>True</td>\n",
       "      <td>14.5</td>\n",
       "      <td>85</td>\n",
       "      <td>2004</td>\n",
       "      <td>Nintendo</td>\n",
       "    </tr>\n",
       "    <tr>\n",
       "      <th>1</th>\n",
       "      <td>Lumines: Puzzle Fusion</td>\n",
       "      <td>1</td>\n",
       "      <td>True</td>\n",
       "      <td>True</td>\n",
       "      <td>Strategy</td>\n",
       "      <td>True</td>\n",
       "      <td>10.0</td>\n",
       "      <td>89</td>\n",
       "      <td>2004</td>\n",
       "      <td>Ubisoft</td>\n",
       "    </tr>\n",
       "    <tr>\n",
       "      <th>2</th>\n",
       "      <td>WarioWare Touched!</td>\n",
       "      <td>2</td>\n",
       "      <td>True</td>\n",
       "      <td>True</td>\n",
       "      <td>Action</td>\n",
       "      <td>True</td>\n",
       "      <td>1.83</td>\n",
       "      <td>81</td>\n",
       "      <td>2004</td>\n",
       "      <td>Nintendo</td>\n",
       "    </tr>\n",
       "    <tr>\n",
       "      <th>3</th>\n",
       "      <td>Hot Shots Golf: Open Tee</td>\n",
       "      <td>1</td>\n",
       "      <td>True</td>\n",
       "      <td>True</td>\n",
       "      <td>Sports</td>\n",
       "      <td>True</td>\n",
       "      <td>-100.0</td>\n",
       "      <td>81</td>\n",
       "      <td>2004</td>\n",
       "      <td>Sony</td>\n",
       "    </tr>\n",
       "    <tr>\n",
       "      <th>4</th>\n",
       "      <td>Spider-Man 2</td>\n",
       "      <td>1</td>\n",
       "      <td>True</td>\n",
       "      <td>True</td>\n",
       "      <td>Action</td>\n",
       "      <td>True</td>\n",
       "      <td>8.0</td>\n",
       "      <td>61</td>\n",
       "      <td>2004</td>\n",
       "      <td>Activision</td>\n",
       "    </tr>\n",
       "  </tbody>\n",
       "</table>\n",
       "</div>"
      ],
      "text/plain": [
       "                      Title Max Players  Multiplatform?  Online?    Genres  \\\n",
       "0         Super Mario 64 DS           1            True     True    Action   \n",
       "1    Lumines: Puzzle Fusion           1            True     True  Strategy   \n",
       "2        WarioWare Touched!           2            True     True    Action   \n",
       "3  Hot Shots Golf: Open Tee           1            True     True    Sports   \n",
       "4              Spider-Man 2           1            True     True    Action   \n",
       "\n",
       "   Licensed?  Comp_Time_Main  Review Score  Year  Publishers  \n",
       "0       True            14.5            85  2004    Nintendo  \n",
       "1       True            10.0            89  2004     Ubisoft  \n",
       "2       True            1.83            81  2004    Nintendo  \n",
       "3       True          -100.0            81  2004        Sony  \n",
       "4       True             8.0            61  2004  Activision  "
      ]
     },
     "execution_count": 4,
     "metadata": {},
     "output_type": "execute_result"
    }
   ],
   "source": [
    "df_task_1a.head()"
   ]
  },
  {
   "cell_type": "markdown",
   "id": "36c62d50-9c88-4ed9-8c97-e552a6e4c620",
   "metadata": {},
   "source": [
    "### Task 1b: Fix Column Names"
   ]
  },
  {
   "cell_type": "markdown",
   "id": "ab8f8f24-afd2-424f-ab34-3e3cde723aa3",
   "metadata": {
    "trrack_graph": "ᯡ࠽䈌ʀ匦㢠⹰ࢀㆪこ<ǐʀ୥崡汤Ɓ䔠⍂⠨撂䂼ì债晶堪慯掩ᐠ▴ሰ璹㤨䮲减ⓥ䢧᜾㺣䉠ð䀡壅冨㕀ॢȠ௞䠸ᢀ眰䅽忖䀢晐樠Ԃ牠ΈƔڦ❓ሠƠ暬ॡ声Ȅ恨䙜⬮ಬ俨⫣䞐డ㙐᬴⣔䰲ճ㌰䊆၂۔欠㖹┰᧶༨̘ඛฌ琻ɋ㉄ܠ榡哸Ŝ.ؗ⾬ള勑̵㯺ᱱ曨ဩᒡᾪ३⁂惡৒ј⪖ᩋࢶ䥣䍢ᇃ⢀☾ԣ䖎㑝䳓ⳄⓀ᪱ĦҐ戤׌㝔䆦成扉ڠ凈㨣ೣㅘ湏Bࡤ䒠ଈତޗ٩䟨㣜㥨◈ᩲ㭡⟢䀠 "
   },
   "source": [
    "It looks like our dataset header went wrong when reading the file and some column headers end with a `?`. **Please remove the question marks from all headers**. "
   ]
  },
  {
   "cell_type": "markdown",
   "id": "63f4d5c5-9383-4857-beae-0cfa6ba466f2",
   "metadata": {},
   "source": [
    "#### **Instructions**\n",
    "1. **Rename Columns:**\n",
    "    - Use the interactive  table in Persist to correct the column names by removing the trailing `?` from their names:\n",
    "        - _Licensed?_ → _Licensed_\n",
    "        - _Multiplatform?_ → _Multiplatform_\n",
    "        - _Online?_ → _Online_\n",
    "2. **Verify the Output:**\n",
    "\t- Print the head of the generated dataframe to verify the changes."
   ]
  },
  {
   "cell_type": "code",
   "execution_count": 5,
   "id": "b7027112-7291-4136-926e-a4c06c7de200",
   "metadata": {
    "__GENERATED_DATAFRAMES__": "ᯡࠩ䃬࿀ᜤᠹ悋ᐨ怱䐢犲ǩ怶恉宑召䵬ð䀲悠ᄡḡ沯偑嬸Ř˛ࠥ笪  ",
    "__has_persist_output": true,
    "trrack_graph": "ᯡ࠽䈌ʀ匦㢠⹰۠⬠౳┢ᠰ恍S¬ᴨˠᣥᒤąᕕ䍬偓Ơ䰢㡙⊍⚩ᐠ▴ሰ瑸㠨䮱⋋⽩䖻✾纣▤䀡傠Ǘ旣Ҋ′䈤7ưᠠ湐戎Ⴆ寐絠ˬ⣪$疒‣㑠ై纎⸦ឰ䋠ރⅱ፨䦤籪ᧁ̲䯣✲ӱ奀}↱姼撡䑖傧熌ばᠲ̓Ʃ䂀戨௙ؠ嬸ⷞᑤྦҢ仹䑁嶨ㄊ䡎۠ආῢޏ䍊Þ䎝匑Ἲ䮀䍸淢 ㏖o#䨃栃ۆ淜⃤㜣䔇恌搨ł䡸ᨴ໠焸渴´僰዁஡⃎䈧෦Ⴒ帼⒰烰䩅ą㱞⥓⌥㒾揝ᢂ䒂㢢ⲵ╈瓆ⶵ昒䋑⩰㇪㊘ᤨ碹ᱫᢶ偲㒦▱撀㲡⑱ᓪભ⪇呜䭋侠䰠ʊȤ〡⺃ᠿ⠠擤橋䜧㐠纝㛡ź㛛㷀燴䂯цȊ〠Ὠ浗䵞㾰ᐗ䉀┴䅡煔眽ઠ旄䰡ႀ㧤≷䛃⣘⤿㢴⥪呑弛⮽暲ヸḨ䍀⡔ᴱ䚂墐嚠∰䑭୭唊囝㽣и勄㜥ܺ⛳㡎ぺ嫫⫽㑑㘰⻿㑙滇⳨კ⹗ᇰ掠⑐4ⱦ႞䐘ᔠ䂯ဩ嘣庮ᷣ歮㷾侨ॽ夜悈ᜩ․Θ刨⎘♍傑㿏䊰]ʲ㲦е᫿俰ۡ壳᫽ᔆǀ㟱䀰⬂⅟嗅䄾ฬ䋨㐱᫿墢ࣃ䎢ნᢥ灩咶烄ᥕᒤू⒔ፐᛴ͂⑀ᜩ@⩧恰በ嚄㸯ℳ&ঁ獠˫灰ᵦ傹䶊浐ྉ‧╁璯⥃椭丒纟䠪氽ⱡ␹ཻ摆擀孵໸㑎ߣ㭽ɀ睺䌁䅲Ϛ掘撲ᎄ檺⢔棡㌼枸ୂ批䬱⥀㱐傻灄殠厖⌴㎘咪ዢ決䬴Ā䱓ت㱽₈䎌Έ咳⒁ᙂᮃࠨб䙇⌉᪶围䰮嗵䙏⌀細ࣅ̦嘹ᨨ氲䉕䤳㢜ౢᅜ⇀磪ʢ扌䴲㊂ⱄㄮ̠桔ɀ㙪栈殑⬳扉⪺㦙⏫ᖞ⛉䥞捨ݎ䏱቞䁒䝲௡倮൙☹余汥拐ὕ懘๷暑睑ও⹻䋘䀳欠⽋暬昷枒ే息噗椒㽪∂羟淅©ᾦ⚸ِ‷ധ撪ᕔ哰映㓗䜦䲣ᤉ䔝ޥⒹᛮ沒ሡ惮㫄秭ᜧ᫶噃嫮巷഍᭥⑅㡖婕㩗䓩ၥࣈᝆ☘ᕤ䀴ᗌ㰸ɸ゜ऌᡤ䮷ᅳ呡䲎һ⠶ቸᠶᔠᠸੇ๫ᰀ繟䀩岛ᤅ歙ࣺᒅૹ吮槀粽߀˚䘫㠽揢圕妳塍取灝寠໔Ҕ倳嚔䑔啃珕唠㜂眆䰒祿⯺籂箃ৈ檽》櫙㿉㩃ࠨ恾嬋䟩癗⭐᝷⛙㸸ȥ峚⻊慖㊨嶵⌜嬶㍔ⱷ獲労⫯孪ݿ怖䝱溲砦خ杰मᙅ欬癝䂯㝄㿙燢㓦口䛷䮑․䱖ᢻ潏窃㥗ɤኰ檋˔曑⋠䖹喹䶴士ጒ玌ᘆ䖀ᩊ摕竸攭䆻Ⓦ䪱㧐獼ஶȻẀ՜g⑜ᆥ椨寳⌑ᬲᆢஅ⇶渙ㆪ碒މ塏πᔣᠬ˨ᾅ抟⪩椲䃀ྡྷ犸䦧ґ妈熠݁灮⼼ਹ塴ී呇㏇྆ஃۮ␡怬䥔㘦娔⇒౻䬸䪒祎惮㼍⁆䐱坱屶姚寙⥰ޗ悝囤⬊⃧⪕㷬⒠  "
   },
   "outputs": [
    {
     "data": {
      "application/vnd.jupyter.widget-view+json": {
       "model_id": "66279a1f1fa2462f840b88c49687178d",
       "version_major": 2,
       "version_minor": 0
      },
      "text/plain": [
       "PersistWidget(data_values=[{'__id_column': '1', 'Title': 'Super Mario 64 DS', 'Max Players': '1', 'Multiplatfo…"
      ]
     },
     "execution_count": 5,
     "metadata": {},
     "output_type": "execute_result"
    }
   ],
   "source": [
    "PR.PersistTable(df_task_1a, df_name=\"df_task_1b\")"
   ]
  },
  {
   "cell_type": "code",
   "execution_count": 6,
   "id": "6127fc95-28b5-437a-a946-e8097c40bac2",
   "metadata": {},
   "outputs": [
    {
     "data": {
      "text/html": [
       "<div>\n",
       "<style scoped>\n",
       "    .dataframe tbody tr th:only-of-type {\n",
       "        vertical-align: middle;\n",
       "    }\n",
       "\n",
       "    .dataframe tbody tr th {\n",
       "        vertical-align: top;\n",
       "    }\n",
       "\n",
       "    .dataframe thead th {\n",
       "        text-align: right;\n",
       "    }\n",
       "</style>\n",
       "<table border=\"1\" class=\"dataframe\">\n",
       "  <thead>\n",
       "    <tr style=\"text-align: right;\">\n",
       "      <th></th>\n",
       "      <th>Title</th>\n",
       "      <th>Max Players</th>\n",
       "      <th>Multiplatform</th>\n",
       "      <th>Online</th>\n",
       "      <th>Genres</th>\n",
       "      <th>Licensed</th>\n",
       "      <th>Comp_Time_Main</th>\n",
       "      <th>Review Score</th>\n",
       "      <th>Year</th>\n",
       "      <th>Publishers</th>\n",
       "    </tr>\n",
       "  </thead>\n",
       "  <tbody>\n",
       "    <tr>\n",
       "      <th>0</th>\n",
       "      <td>Super Mario 64 DS</td>\n",
       "      <td>1</td>\n",
       "      <td>True</td>\n",
       "      <td>True</td>\n",
       "      <td>Action</td>\n",
       "      <td>True</td>\n",
       "      <td>14.5</td>\n",
       "      <td>85</td>\n",
       "      <td>2004</td>\n",
       "      <td>Nintendo</td>\n",
       "    </tr>\n",
       "    <tr>\n",
       "      <th>1</th>\n",
       "      <td>Lumines: Puzzle Fusion</td>\n",
       "      <td>1</td>\n",
       "      <td>True</td>\n",
       "      <td>True</td>\n",
       "      <td>Strategy</td>\n",
       "      <td>True</td>\n",
       "      <td>10.0</td>\n",
       "      <td>89</td>\n",
       "      <td>2004</td>\n",
       "      <td>Ubisoft</td>\n",
       "    </tr>\n",
       "    <tr>\n",
       "      <th>2</th>\n",
       "      <td>WarioWare Touched!</td>\n",
       "      <td>2</td>\n",
       "      <td>True</td>\n",
       "      <td>True</td>\n",
       "      <td>Action</td>\n",
       "      <td>True</td>\n",
       "      <td>1.83</td>\n",
       "      <td>81</td>\n",
       "      <td>2004</td>\n",
       "      <td>Nintendo</td>\n",
       "    </tr>\n",
       "    <tr>\n",
       "      <th>3</th>\n",
       "      <td>Hot Shots Golf: Open Tee</td>\n",
       "      <td>1</td>\n",
       "      <td>True</td>\n",
       "      <td>True</td>\n",
       "      <td>Sports</td>\n",
       "      <td>True</td>\n",
       "      <td>-100.0</td>\n",
       "      <td>81</td>\n",
       "      <td>2004</td>\n",
       "      <td>Sony</td>\n",
       "    </tr>\n",
       "    <tr>\n",
       "      <th>4</th>\n",
       "      <td>Spider-Man 2</td>\n",
       "      <td>1</td>\n",
       "      <td>True</td>\n",
       "      <td>True</td>\n",
       "      <td>Action</td>\n",
       "      <td>True</td>\n",
       "      <td>8.0</td>\n",
       "      <td>61</td>\n",
       "      <td>2004</td>\n",
       "      <td>Activision</td>\n",
       "    </tr>\n",
       "  </tbody>\n",
       "</table>\n",
       "</div>"
      ],
      "text/plain": [
       "                      Title Max Players  Multiplatform  Online    Genres  \\\n",
       "0         Super Mario 64 DS           1           True    True    Action   \n",
       "1    Lumines: Puzzle Fusion           1           True    True  Strategy   \n",
       "2        WarioWare Touched!           2           True    True    Action   \n",
       "3  Hot Shots Golf: Open Tee           1           True    True    Sports   \n",
       "4              Spider-Man 2           1           True    True    Action   \n",
       "\n",
       "   Licensed  Comp_Time_Main  Review Score  Year  Publishers  \n",
       "0      True            14.5            85  2004    Nintendo  \n",
       "1      True            10.0            89  2004     Ubisoft  \n",
       "2      True            1.83            81  2004    Nintendo  \n",
       "3      True          -100.0            81  2004        Sony  \n",
       "4      True             8.0            61  2004  Activision  "
      ]
     },
     "execution_count": 6,
     "metadata": {},
     "output_type": "execute_result"
    }
   ],
   "source": [
    "df_task_1b.head()"
   ]
  },
  {
   "cell_type": "markdown",
   "id": "3875e7fc-ec40-4241-aa94-87b31e59944f",
   "metadata": {},
   "source": [
    "## Task 1c: Correcting Data Type of 'Max Players'"
   ]
  },
  {
   "cell_type": "markdown",
   "id": "7a7eebda-1b60-4bff-89d3-a5548a601b49",
   "metadata": {},
   "source": [
    "There is a data type issue in `Max Players` column of our dataframe. The column is a category column and should have the pandas dtype of `category`."
   ]
  },
  {
   "cell_type": "code",
   "execution_count": null,
   "id": "fb9bff61-9a8d-4114-97f3-4f6d0cd0e61e",
   "metadata": {},
   "outputs": [],
   "source": [
    "df_task_1b.dtypes"
   ]
  },
  {
   "cell_type": "markdown",
   "id": "b23913ac-ea3c-4ca1-8ac3-07d3026ca76e",
   "metadata": {
    "__GENERATED_DATAFRAMES__": "{\"nodeDataframes\":{},\"graphDataframes\":null}",
    "show_aggregate_original": "false",
    "trrack_graph": "ᯡ࠽䈌ʀ匦㢠⹰ೠ↺΀Ơ瘢ᠢᠫ‵䁇ፉ䐢怣侽振ၑ䶃᪰঵䂆⹉多䪲┠অҤᴶṂ㊵嘊᭓ㄅ毠㒰䣑Tဠ㚉҃೨ɰ䂠̂҆;䘸Ϥၗ眼䋐Ð䬹†于␠㚠ᝨ沂烒⎁൸憈㬸ᐠṬү䓧Ⴠ椓ᣘ⌚ᆠᛦކ䜱ǁ䅀㖖नຂᩈ桫〦塵偢㶱⢠⾱䂅埦䖃塀㪂ₐ暸ᵽ䀳怠煼砤慸㴻ࠩ㯏姭ঌ䄢䣫䧙㱈刱ㄿᬦ䩫⏃㌱楫磤ⰴຣα晼ਫ䎁㺕䮃Ⴤご䖂᥂挰ы゙㈬ܠ₰ᑊІ僑汮ޯ戩䉱៪怡⹁ᡤ甑擸抯॰ᡬᅓ╄璚╄㈠ "
   },
   "source": [
    "#### **Instructions**\n",
    "1. **Convert `Max Players` column to category:**\n",
    "    - Use the column header to switch data type of the `Max Players` column.\n",
    "2. **`Edit Categories` pop-up:**\n",
    "    - Inspect the `Edit Categories` pop-up in the toolbar. Look for any redundant categories (e.g. both `1` and `1P`)\n",
    "3. **Edit and Correct Entries:**\n",
    "    - Search for the cells having the redundant option using the search box.\n",
    "    - Edit the cells to remove the trailing `P` (e.g. `1P` to `1`)\n",
    "3. **Verify the Output:**\n",
    "\t- Print the head of the generated dataframe to verify the changes.\n",
    "    - Also print the dtypes of the dataframe"
   ]
  },
  {
   "cell_type": "code",
   "execution_count": 7,
   "id": "84bd3f29-2697-4f40-ab16-27f6540912aa",
   "metadata": {
    "__GENERATED_DATAFRAMES__": "ᯡࠩ䃬࿀ᜤᠹ悋ᐨ恑䐢犲ǩ怶恉宑召䵬ð䀲悠ᄡḡ沯妶ᠢ㠪癀ఄᐠ ",
    "__has_persist_output": true,
    "trrack_graph": "ᯡ࠽䈌ʀ匦㢠⹰悆Ƭё䂌ᠩ䁍C✘Ԅါ⩪媴䌎ጠ嘺㟇⻈癩•ⳁႣ⋫䁤䳅⴦♌汛㬗琼∠ڤ-匧㺩j࠰}㭄ǘ憦屢ຊ朚+झ⠠丮䠠洰୞ᮧ 敤ၥエ呰f⊁#乪䕫㊃䥲哘ᱤ杙ત+号棣汭࠱㶔㿆ዦԠ޳łኈᄱ丨檂⩓侪䯰˸慍ᣢၬᡄ᪒扁Ԍ∤⩡䐶㤆៧㐶⠥稈ྶ璸瑫ɚ玎ӓּ堢㰠໯杯ౚޝ無़᭍䦥啤煓䔧⃈琲ⳣ☐⠢䷣偨᱕桥∐㨭๦၂ᩊৢ兪㴻樐䤺ᡓⴑḉ㵈⸲䒂㣕ұ◲䳖⮷撐䋑⩶⁠ㄤ䓩兂棌♧㎲㒦▲嶙ʱ≱夬挤䀦࢙猠ᳵ倠ৰ࡞䀥㮬恣‮•敐'僰J೏ష掣ⶦ䕆Ȕ⁖嘥叴⃞⯺槓⨮Ꭴŗ䶶䀿Ⰸ❜經惲碜缺水熨繘▲䅘䱆൥儸牐桧ᄁ籞࿩儦粙⟇㰮棤䕆愐≉Ŧ刈䙑೥ㇸⸯߠࢤڳ⋷㓶滏⿴ല牂⽸䳆᧐彔ⶺᖮ㧖汀㶡撗峮㧏䦖嶎掾䜣ࢀH徫篿䋈Ƞ粠曐ᰖᱷ刅剏Ђ籀ᷔ墾гɡᐠ䄏ɧ礏ყ℉刮㐾ɠĔ彶޺ࡎ᡺〩ᮡᓷ⦠ͤƼщݘᑍҁ⡛ݘ᱔⨈偰䑨⠢䂮⠵ჰ樫䁈㺳䈰䰱რ䘷勄簵ǎ㲴㊐ᩇ⇱ळŠ焭妁屘䙺$Ⳳ〠ˎȰ✶ӭ៪ȍᏊ畐㯉瓠敍禉ࢆಈ絉增ῠҡ▪むᴥ汐ྋማʤᶴᤆ兇⚤჏ᕣ⣚ᘇ䰫ӄⱫᦊ⒈▍ⶋ⼰沐ᎆ巔ナᖼ㩷Åℬ⵫㦇䪋ŷⶪ楲浊ᆣƊࠠŵ漴ׄ偑啔⑭叒⺻儔庮䑔戳啡摟凕त㏰凐ᚑ⴨䓐⧗⥐᧗䐐Ś断ग़sᡇѴᄮᛀ犚²䤹㙁瑙а㡑À㠪䳹淖ㆭ拄善㊢⎴峂凨礪吵渼疈ᴷ∈素柡ⓙˌ寔斸箵䁝⭏煜柁戣札焰圭揘ᭃ皜澽Ĝ睈У眾䠜⳦昢伫䢢偬೓㕀❲౬ܸၝ䇐Ȿ䴻ڑ䭓ἢׂ⁂๢お໙䲎䮃硠廒嶴Ǻ箞䅐䫪夷欚ಶ嫨ރ婨̂笓䝀瑏㆖䉷滥䉴ȳቿ⎁⥀䆡摝㚳砬敗瑼拲圅䖂㜞䬠<匤䰤ㇹ3⇪㦪浮⮱獫孲涯䶉戬ⷊ㡺䞥竹愮挫圲ᅁ兞⏥紟ဴ㡡⑊涁♣眒႒⡃䕧༊઒棊⃢䛕ἢ弈ᴌ巷ⶥ嶈䪠㵯ㅁ㶏␊縄ࠍ䲵ⴈ嶻榛偋缏悯㍬潄ᮙ㯛羜疺姧疣㺑ฑ䫳媮劌㧳㫵䶙呔ᆪ䃫ⶉ砭㔌Ꮡ㚡嬍㨶ᮗӬ揃䱀ɐɽἠ删䅏㹥␨䍨ᰪ䁢⢰倢墀ᕂ倵ǰ΅㙬ဦभ⫕⽴㥢妺墰歋⩖㎆桹懄秨䚨Ә⣮◎䢦㠶ᤎ⠥捅䑜䊋夛ɭឬ䶏઺缳狠㵔㍹䄆䶮晟䳂․Ѻ޸␿ᮁ×䅜當உ囑殤෷ⱀ张⯕䞻ጱ䝘痖ݪ⺬ὅ⹌池ᆨ㗇䜁ܷ孋Ⴂ丯撣⟱ས䃷ᱩ⠣㉰⃢ᠩᕠᠣ├ມ疳䅰᧘㌻㰙➖հ嚰廧ဣ䣁䎴㥴ʐ㑔玈ቶ佄ՠ㓄䓉Ƣ塍䆫ୁ灡ۄᄩგ௪ਵ⅔Ꭰ߲॰㏇㪖ؔ炷惢แ䈪∄ᥣ呖䊿寈⑋礭ࠓඏ矒⧉琠᝔倩榪ڡ䁤٦㶤浩֡⎀㫑䒣妨ၠۉ桙ʉ⣡ဦ㇪刨患X೵Ƒܠ䨯撂ᴯ綈ਫ਼䘃㪗⛝៣㳗䠄矗棉Ἢൡัᗠ汴໙⠲⊑䆁燒怳⭒氥ཛྷ劍㳊ᨘ㓨按帑呷瀸䭏梦⹑ᭂĘⴁ晀䓌ぇʅ変㶮ᝫ丑⫎⁔3ᇼ⬌⯧䉣㭘΁䁤䝨᫏ᒺⱄ棦夐ୃ廗ⅰㄤ⒂⬉ᕂ㡍汲ᷰᓪ⟘⩤⠯൩䖚䬾ӌ榵૳ࠪ䃏ᰆ纏঄㺁劊إ㒡岴หლଗ䩤䔬攦忭۠⢭䰢ױ因栮ᯈ⅗唷⤕㻯㼤眺 伟栣ᝐ樋ঊⰠ㍺ᔤ䂭冬淇ț⢢䝣犉㸶Ṻ֔昨⳼ࣁ䆼ᦋᩒ硂㏖㙓憢煃㌅〈➵割³ත㮢䮄㪴奱ᩈ䘄猵ࣆ㯭☯۪ೣ䮹䮵瑠୾坕Ɓ␵䱍ȶᄳ˲嶵㑅壃䗞窕ᐨ燑༹ᗊ半乂ℋㅶè✡填宕⤠祏总䱡䐤䂀ɳ⡄䢺扡㭢Ԁ⊢ᴌࡨ䒼ᴍ⿨ᵷ㮴硷瞊亪戋ਭṝॷ橲儢㠣ᄤ䖣㛾瓉䣈ổቜ煱則䇁䵏䁐玡⚰栥烾㖹唺惗᮷㽖慩愠  "
   },
   "outputs": [
    {
     "data": {
      "application/vnd.jupyter.widget-view+json": {
       "model_id": "1b61f8a8b628426d92932379877f07ae",
       "version_major": 2,
       "version_minor": 0
      },
      "text/plain": [
       "PersistWidget(data_values=[{'__id_column': '1', 'Title': 'Super Mario 64 DS', 'Max Players': '1', 'Multiplatfo…"
      ]
     },
     "execution_count": 7,
     "metadata": {},
     "output_type": "execute_result"
    }
   ],
   "source": [
    "PR.PersistTable(df_task_1b, df_name=\"df_task_1c\")"
   ]
  },
  {
   "cell_type": "code",
   "execution_count": 11,
   "id": "81188e59-dd39-4e58-94ec-09812f25d94d",
   "metadata": {},
   "outputs": [
    {
     "data": {
      "text/plain": [
       "['1', '2', '4', '6', '7', '8']\n",
       "Categories (9, object): ['1' < '1P' < '2' < '2P' ... '4P' < '6' < '7' < '8']"
      ]
     },
     "execution_count": 11,
     "metadata": {},
     "output_type": "execute_result"
    }
   ],
   "source": [
    "df_task_1c['Max Players'].unique()"
   ]
  },
  {
   "cell_type": "code",
   "execution_count": 12,
   "id": "181951a8-08f4-4db8-8255-7d2d3b0162eb",
   "metadata": {
    "__GENERATED_DATAFRAMES__": "ᯡࠣ䅬Ԁ朤壠ᜣ琢〹夤゠⹰〮⁁䁻қ䚾ኊ㇠നСࠩ瀮晼Ƭ穅5愠៤⠠ ",
    "__has_persist_output": true,
    "trrack_graph": "ᯡ࠽䈌ʀ匦㢠⹱⁓ᐮ恓æɐୠ⁃¸䐢憦<∤ᥱ䢡ᳯ᣽Ìໄ絰᥅)㊤䈭ፎℲ૴甸委看攠⡨䠠ᨰV曄ク␢⡠䀢灒̠෦ౝ戰殖ຐ{䔹†从␠㚨ᔵ६报Ⴈ䣐粘娢Ḫ㒦䆮握刐灘籔ฦ⥋Рை㉖㮹ဩ٘ᄆⶬਠཆɣ悀ࠨ簤غ╅Ჯᢀב䋻ᣤ⃬と഍屢׸䌪咢䢌öਆႎ籂倫瑔᳎冸㣖Э囼ᦆݛ〤砠᱾ẞᠼ⻧愧ࣼܳ䳠妰၄䵂䂐ᨮԥ擐∣ॢ䁘娿௢၈᮱֤兰ీ䁦悪ᨣ伒緄⚬˱㵮䚁䔱䔂ҡұ⒈㒦▱攒ʱ≳ᗨ㧔ሁ㎂碳Ǯ╲璮៪ᆒ糁Ⱶᗪ櫉䝰砠慿ƀι娠ĮĢᠠ圩䰢㐡搠ⳓ 確%ভ熡ʐ᷄櫄愞䐾槣榦䐨᎙洮ⵤਘⷶ堠߰ڳ㼱匔㘜䂨⻔洬࿁欇㢄瑖ྦშ⩍རㅸ䩛ס爘䅐䩄㖺嚧⻑甚ư柤倸䋄浕䵁ֲ拵ⴓⶮ愧洮掣溗䲢⮭枑ᴬ㡄䌠Ť兟䮙ՠႍ搩㖠枳喔篳⽯専ȷ㙟ᐾޥ ЍႤἳ΢㌷拲粉#栣ࠅ㖿㧅㒍઄糳ǆƭ࠮㧟、爟‼Ϳᠱ燠瑈メఽᄘ㌡␒㱄⇨̥䆱ᴧ䅰ᪧ梨≌慰㸥䄪̠惄ز㒫ࣄƊɀ尸䰠ࢫ⚀*䨐⁄㰴嫿ᐢ㫎䏶ま䟴㻴䠃ر万↬䮅紟ံ˖ዡ䃈سᜒዒ⡕啧嚭卡㛚ᑥ⹕נ䊘঱aۡᛒ᳐⡵奥嚊ǐ棭孥㚚ᇄ婡ᝑᚲ䶱䪼幵狹ᥰઊ塷ᓇࠠ "
   },
   "outputs": [
    {
     "data": {
      "application/vnd.jupyter.widget-view+json": {
       "model_id": "3b82bba9e0d34ea1aab8414712f0c345",
       "version_major": 2,
       "version_minor": 0
      },
      "text/plain": [
       "PersistWidget(data_values=[{'__id_column': '1', 'Title': 'Super Mario 64 DS', 'Max Players': 1, 'Multiplatform…"
      ]
     },
     "execution_count": 12,
     "metadata": {},
     "output_type": "execute_result"
    }
   ],
   "source": [
    "PR.PersistTable(df_task_1c)"
   ]
  },
  {
   "cell_type": "code",
   "execution_count": 8,
   "id": "e1c8ce26-edbe-42ff-9873-295e91676312",
   "metadata": {},
   "outputs": [
    {
     "data": {
      "text/plain": [
       "Title             string[python]\n",
       "Max Players             category\n",
       "Multiplatform            boolean\n",
       "Online                   boolean\n",
       "Genres            string[python]\n",
       "Licensed                 boolean\n",
       "Comp_Time_Main           Float64\n",
       "Review Score               Int64\n",
       "Year                       Int64\n",
       "Publishers        string[python]\n",
       "dtype: object"
      ]
     },
     "execution_count": 8,
     "metadata": {},
     "output_type": "execute_result"
    }
   ],
   "source": [
    "df_task_1c.dtypes"
   ]
  },
  {
   "cell_type": "markdown",
   "id": "753ed0a8-dc0b-4ac8-8afd-b554ea8f4d28",
   "metadata": {},
   "source": [
    "# Task 2: Filtering data\n",
    "\n",
    "In Task 2, we further improve our data by removing outliers and removing certain records to have more consistent data. "
   ]
  },
  {
   "cell_type": "markdown",
   "id": "7f25d8f5-98e8-4b0f-9358-ed85f77cbed8",
   "metadata": {},
   "source": [
    "## **Task 2a: Remove Outliers**"
   ]
  },
  {
   "cell_type": "markdown",
   "id": "ac53a605-2d10-4457-9625-70ce88f04f3b",
   "metadata": {},
   "source": [
    "In this task, we address data accuracy by filtering out anomalies in the completion time for the main story of game. We observe some records with negative values for completion time, which is obviously incorrect data.\n",
    "\n",
    "**Remove records with negative completion time.**"
   ]
  },
  {
   "cell_type": "markdown",
   "id": "664c641e-1193-4233-8897-0161f209c86f",
   "metadata": {},
   "source": [
    "#### **Instructions**\n",
    "1. **Identify and Remove Anomalies:**\n",
    "    - Interactively select data points negative value for `Comp_Time_Main`.\n",
    "    - Use Persist's interactive features to remove these anomalous records.\n",
    "2. **Verify the Output:**\n",
    "    - Print the head of the generated dataframe to verify the changes."
   ]
  },
  {
   "cell_type": "code",
   "execution_count": 13,
   "id": "9f84d347-8ce1-48d8-84a9-478d7eae3bd6",
   "metadata": {
    "__GENERATED_DATAFRAMES__": "ᯡࠩ䃬࿀ᜤᠹ悋ᐤ推̅ሣ䧠ⶠ卍捯ᥔᠣ℠▢dʘϔᝠ捌〤瀵摠៨⠠ ",
    "__has_persist_output": true,
    "trrack_graph": "ᯡ࠽䈌ʀ匦㢠⹰悖Ÿʀλɐ΀ୠ᣽ठ墨兠㌡䱤ԀẠك栨テ㙯殀ጎ䭩ᐠ▴ሰ㑹㤪䮲净泵䏗⾞䇣≠ð䀡妐ɑ䙓ဩ™+儌䁗౐䞨↌ᵙအザᥠ¼湨Ⳝ唾䅪䉆悪㇈└攜్ᒾ䭦曠劃僬燸ဠ⺱壦ଅ㑣ㄸ䥢崖ᡈ\\䰩ު䎃㏓珑桝ɃM䘾旮ᄢ熢ⅇ瘲࡮托⋄ڇ〦媭㦢嬱㊠⾱侑㭥慇塂埶瀫ᢉ綠ᏠĈ紗磠䣗⼰গ৬熑㕩ᩩ煡ᐲਧ䁱ಌጥő呁䭆㌨⑂ോ⋀䱓ඣீ㑇؎磩സᧈ礼㓃ح૥煤䬢䧄ड़ፍ䬅祢壊䊵䠰੣Ᏺ㠸乀䥅ⴔ䎵䫅岢䣂⥙☫ᛂ!䪶㟥加$P䈪᫜%ⅇ൭L䮠؊*ᄯ؉瘖Я⾄´̾嶆呄ᠠ༇咊␨ᑄ皁ᢗ㏴戁廇᫆炘⁘᭵㬘ŀ呂婥㐲ᅇ䊀҄⌣͂ᑞ崤←汜ਤ⊁⡈ʪ琰硓ᔯ➴䙷侊䲪ᠼἬ↱ᒊຨ惑汮ާ怨䈱ౠ楕㪮䯃樔禖ඤ揀硑䊅ᨫ㎙姄將歭䈣娌ݻ䔃ᬥ杫嬈㤸灉ؠʪ棔ݱ峀ਠ䂿䐠Î〴ؼ柾煲➭炜ဠ㯸缨ࢢࢴ`垦⊤垴悰䞿孔㼦†穲Ɽ䂀Ⲁ℄ᆹ⩌抓ーᨃ烢ᵦ僒ᨃ䤁⒂椚ፁ剞佡孺扡ᢜ䵠ⱜݹ⁖ځࠬӠ恢䁠悚̢ᬰˤ䀼ፁ㡈ീ䤛Ϥ䂒ᡇ⣋ᵑള↉ⴸ஋涜挊稣໨ZⱩ䄐ጠ沚⤏巶炣⢎ൃ߮জ枿搨ԠΩὨᢷƠ䵜丠䪲笮䅲悬㤔䆹炬䦲䍨䔶Ø㣡䌈䌹䱝に刬⬸㎬厭扈緥ஊ傺奠ᐱჳᎫ₣ၣ㧢⠪ᭌ㡂Č姉㗍᷀ד㨉や!煄䡭䚊卸涻↘⬬ᇈ╺獚洑佖歅ṕ䗳欵䢻愻俈幯䰒ŻȪ䰥✨᥶Ⱬ䥾⽠榌⾪䄎⿫堹♙䜫⿲汬枋⚙佂晐₢瀿䕔咏⹢«☩㑣梈繗昙罛䀬扇䎱⏂䂼⩔睰玶䑽㨪皊☪㗈硓瑍䗉㝍桅㛀㖽れ䶫㎌ᶷ㈍桔昵Ṁ嬀▹㙳⋵シ痃㚍ⷛ㎁ᷗ㘍ᕙ䓛᪣ⶉۑ偻ຓ䢕介厀熷埡㻟听↩檫冫夔窢㉬瓋䐥ṃ৵姀ℨ慊愡䚋㌀䨒⅁ᠡ盀届ـ晍ҥ᱗ʡ≁獑Ճ杸ξ㍭⋖ܴ䲴僁⤬唅犾⑴糉⍽ᒦ煹嵏⠉汁֥䟄暹枣䓝䭘ෝ矞斣❋炰᜵悺眯砝纸ろ扐傖筸灣摣㞙⭢摠䳣綂ᯢ〡೘履⸃嶈❂汅䤥瑼݂硗翦䡆΀但愔ඵ䃿ᕰࣉᆧ௿ݴ㼫ዒ牄㫾椴⿭䄟儠pҠ摑╰㟀࠰䛥∡偈䖀⳨⣟ࣱࠖ↔Զᰪ剐੠శ夵ᛑ䱋冄⨥⁎Ȱᴅ性亠д䱠ఀ縿戳ൖນ̼┩᳊͘ᨾ㧔঑琸䍞ᕡ咟皜ԅi无⧭ᱸ㍛㏎㪂⴪᥂猌匄囓⏂穀揳䊣౱ćẗᣢ痀挍ㆆ曈㘦ŦȢ属偧ᗦ孁堑Т๣䋍Ĩ䳃坒揄⏐摄楺β堡⁭䃽ス䈜䮡࠻Ř縣ぞʠⵆ⹄⥼㈵ⷵ䑹䗕㋰擓欹㑖掀回໙ⴳ㤰៘睒⠰ᜭ₁畜倦ḫ֘叻㆖ᚙ὜秞✑澔捾Dɻ春୏㷶ℙ㼱稪Ṕ硴ᝢఋ⢳⶝汿挢∛䢏ࢃᙑ捜㒡ᰀৎ٢棹緉Ⴅ⁥擜橔喊儙囎㧯ᖒ棦放㴅濉ܜ漳掃䰊ဪ᫦ܳ惘䎏厪幥ֵඳ卺͐稯㹴Ѥ㗥৐ୃ粯ℰ⹉ႀ෥爤恬Ր⣔呑㞩․䊤ᗠ䳘⹢ࠡʮґ欴⍉䉦㈴䑓㤆⡉捰姩倫䏁䮿⇴㞹ၝ͞㉪ᄼ䝩ᠩ䥉γ瓍䈒ツ碋労祩墹ݵ咵啚嶲吿⬭⣄䶖ƴ䰦兵⃖ⵤ拚䎍癱㒼妉䀳勝⯗⠯㉡࣊㩐ԉе洪ᡘ屔⟆ͷ䒸矬ᄸᆘЅ䢽䇕㪣ᵹ᠐噥祬爈⸪棎你綼哊∱⁂㭇⤤᢬狮᜺㈙憃Ṋ捥䏅㮷┗㜇琡䣀Ȍᧃ村揱ㅇ冇⟔晞㛩㺙䤜䖽糐ໝ⭐⨗嶂㙼篆⻭䵞⎵ⅇᠫ⣘੹⋩奧᙮条⊲थੋק弪⅟䭞✚Ⅳ眑┮抰ؒĵ怤ӹ昣ǈ፫࠷ˤኰၜ䗀☡℘ɡ㐨ܖ䴇ᆹ⪕⼱妎ⷒ宀牫⌄ᄵ瑜䄑抡⊝⾒Ը㉐烳皇⫑гᖠ㍖䬺㯰㰿ₚݠ̨⡬㽠Ⲁ䃸掯桁⯞䥱⍳獦⫃⩘㸼൲ᥰ梧ᦔᑹ㯯⃳䰺懄ン⹔塡ਮ䙣曞ယ愻ፕ坴ⷄ〧徔穧✮䯸⍯⦹䗷⪋勓᷇㫢ᔔᄥ疽䒯倹သ埲凟嘃?掉ࡆȸ☬ᆯ䋠䴩焊燸〵♱Ꮈㆅ㝛එ䞊擰变ద፬ဵ㊁✂ᵭ⋎䱧Š╼䓓ೊ⢮ふ㔹⣪墠ᐹ磨Ꮡ㎇´䪧朆э曧䁅傋旘ϭ㐀㍯ⴆ罺䀢檀⋲᭼ᙖア㚜⋸͐ᜤ嗗檐䴸䢰䶁濆䣐噳⽓䂥㩆旌櫂éⲲₚ垲Ց橪㧵䶇㥲㭧盞珨ƺ䂘޵⏌秧㲅❺愸ഈ㸽歘䘎籋昙䭃㲷␩㙶睡ᩜἤᏹམ㸇沚窈䍢ᴔ唚᪃㙸㳑᭝䮱㸄⛆矛狟⋫ⓠᗁ煙史㬥⪟㷔甛㿑ற㮽公ڳ倎傹ض㰫䡌䀣㐹ᄲ励歊ć╍ࡷ⁜䕎恍㪛䪒♈䬔男᝞佋猁ਵ狟ゲᕷ剑䵅㹦姌坈杔⫶峱䐮䃔䱢瘪巊晥ᦴ呈孓䪵ଆڡˡͻ槛嘪᭕竾㟭惼⸁崻㋶宵咐䀠 "
   },
   "outputs": [
    {
     "data": {
      "application/vnd.jupyter.widget-view+json": {
       "model_id": "1e87bec96d714d85a9622ab136fb0de5",
       "version_major": 2,
       "version_minor": 0
      },
      "text/plain": [
       "PersistWidget(data_values=[{'__id_column': '1', 'Title': 'Super Mario 64 DS', 'Max Players': 1, 'Multiplatform…"
      ]
     },
     "execution_count": 13,
     "metadata": {},
     "output_type": "execute_result"
    }
   ],
   "source": [
    "PR.plot.scatterplot(df_task_1c, \"Comp_Time_Main:Q\", \"Review Score:Q\", df_name=\"df_task_2a\")"
   ]
  },
  {
   "cell_type": "code",
   "execution_count": 16,
   "id": "7986a9c9-2dec-410c-aad0-6d2150ed9022",
   "metadata": {},
   "outputs": [
    {
     "data": {
      "text/html": [
       "<div>\n",
       "<style scoped>\n",
       "    .dataframe tbody tr th:only-of-type {\n",
       "        vertical-align: middle;\n",
       "    }\n",
       "\n",
       "    .dataframe tbody tr th {\n",
       "        vertical-align: top;\n",
       "    }\n",
       "\n",
       "    .dataframe thead th {\n",
       "        text-align: right;\n",
       "    }\n",
       "</style>\n",
       "<table border=\"1\" class=\"dataframe\">\n",
       "  <thead>\n",
       "    <tr style=\"text-align: right;\">\n",
       "      <th></th>\n",
       "      <th>Title</th>\n",
       "      <th>Max Players</th>\n",
       "      <th>Multiplatform</th>\n",
       "      <th>Online</th>\n",
       "      <th>Genres</th>\n",
       "      <th>Licensed</th>\n",
       "      <th>Comp_Time_Main</th>\n",
       "      <th>Review Score</th>\n",
       "      <th>Year</th>\n",
       "      <th>Publishers</th>\n",
       "    </tr>\n",
       "  </thead>\n",
       "  <tbody>\n",
       "  </tbody>\n",
       "</table>\n",
       "</div>"
      ],
      "text/plain": [
       "Empty DataFrame\n",
       "Columns: [Title, Max Players, Multiplatform, Online, Genres, Licensed, Comp_Time_Main, Review Score, Year, Publishers]\n",
       "Index: []"
      ]
     },
     "execution_count": 16,
     "metadata": {},
     "output_type": "execute_result"
    }
   ],
   "source": [
    "df_task_2a[df_task_2a['Comp_Time_Main']<0]"
   ]
  },
  {
   "cell_type": "code",
   "execution_count": 17,
   "id": "6a6c923e-e9d8-4bc6-8a62-c7432a355205",
   "metadata": {},
   "outputs": [
    {
     "data": {
      "text/html": [
       "<div>\n",
       "<style scoped>\n",
       "    .dataframe tbody tr th:only-of-type {\n",
       "        vertical-align: middle;\n",
       "    }\n",
       "\n",
       "    .dataframe tbody tr th {\n",
       "        vertical-align: top;\n",
       "    }\n",
       "\n",
       "    .dataframe thead th {\n",
       "        text-align: right;\n",
       "    }\n",
       "</style>\n",
       "<table border=\"1\" class=\"dataframe\">\n",
       "  <thead>\n",
       "    <tr style=\"text-align: right;\">\n",
       "      <th></th>\n",
       "      <th>Title</th>\n",
       "      <th>Max Players</th>\n",
       "      <th>Multiplatform</th>\n",
       "      <th>Online</th>\n",
       "      <th>Genres</th>\n",
       "      <th>Licensed</th>\n",
       "      <th>Comp_Time_Main</th>\n",
       "      <th>Review Score</th>\n",
       "      <th>Year</th>\n",
       "      <th>Publishers</th>\n",
       "    </tr>\n",
       "  </thead>\n",
       "  <tbody>\n",
       "    <tr>\n",
       "      <th>0</th>\n",
       "      <td>Super Mario 64 DS</td>\n",
       "      <td>1</td>\n",
       "      <td>True</td>\n",
       "      <td>True</td>\n",
       "      <td>Action</td>\n",
       "      <td>True</td>\n",
       "      <td>14.5</td>\n",
       "      <td>85</td>\n",
       "      <td>2004</td>\n",
       "      <td>Nintendo</td>\n",
       "    </tr>\n",
       "    <tr>\n",
       "      <th>1</th>\n",
       "      <td>Lumines: Puzzle Fusion</td>\n",
       "      <td>1</td>\n",
       "      <td>True</td>\n",
       "      <td>True</td>\n",
       "      <td>Strategy</td>\n",
       "      <td>True</td>\n",
       "      <td>10.0</td>\n",
       "      <td>89</td>\n",
       "      <td>2004</td>\n",
       "      <td>Ubisoft</td>\n",
       "    </tr>\n",
       "    <tr>\n",
       "      <th>2</th>\n",
       "      <td>WarioWare Touched!</td>\n",
       "      <td>2</td>\n",
       "      <td>True</td>\n",
       "      <td>True</td>\n",
       "      <td>Action</td>\n",
       "      <td>True</td>\n",
       "      <td>1.83</td>\n",
       "      <td>81</td>\n",
       "      <td>2004</td>\n",
       "      <td>Nintendo</td>\n",
       "    </tr>\n",
       "    <tr>\n",
       "      <th>3</th>\n",
       "      <td>Spider-Man 2</td>\n",
       "      <td>1</td>\n",
       "      <td>True</td>\n",
       "      <td>True</td>\n",
       "      <td>Action</td>\n",
       "      <td>True</td>\n",
       "      <td>8.0</td>\n",
       "      <td>61</td>\n",
       "      <td>2004</td>\n",
       "      <td>Activision</td>\n",
       "    </tr>\n",
       "    <tr>\n",
       "      <th>4</th>\n",
       "      <td>The Urbz: Sims in the City</td>\n",
       "      <td>1</td>\n",
       "      <td>True</td>\n",
       "      <td>True</td>\n",
       "      <td>Simulation</td>\n",
       "      <td>True</td>\n",
       "      <td>15.5</td>\n",
       "      <td>67</td>\n",
       "      <td>2004</td>\n",
       "      <td>EA</td>\n",
       "    </tr>\n",
       "  </tbody>\n",
       "</table>\n",
       "</div>"
      ],
      "text/plain": [
       "                        Title  Max Players  Multiplatform  Online      Genres  \\\n",
       "0           Super Mario 64 DS            1           True    True      Action   \n",
       "1      Lumines: Puzzle Fusion            1           True    True    Strategy   \n",
       "2          WarioWare Touched!            2           True    True      Action   \n",
       "3                Spider-Man 2            1           True    True      Action   \n",
       "4  The Urbz: Sims in the City            1           True    True  Simulation   \n",
       "\n",
       "   Licensed  Comp_Time_Main  Review Score  Year  Publishers  \n",
       "0      True            14.5            85  2004    Nintendo  \n",
       "1      True            10.0            89  2004     Ubisoft  \n",
       "2      True            1.83            81  2004    Nintendo  \n",
       "3      True             8.0            61  2004  Activision  \n",
       "4      True            15.5            67  2004          EA  "
      ]
     },
     "execution_count": 17,
     "metadata": {},
     "output_type": "execute_result"
    }
   ],
   "source": [
    "df_task_2a.head()"
   ]
  },
  {
   "cell_type": "markdown",
   "id": "b447b862-90c6-4ed7-b48b-baa1cf74ac2d",
   "metadata": {
    "__GENERATED_DATAFRAMES__": "{\"nodeDataframes\":{},\"graphDataframes\":null}",
    "show_aggregate_original": "false",
    "trrack_graph": "ᯡ࠽䈌ʀ匦㢠⹰࣠✴ƀචآ൐ୠᣠ⭎¸䚀ᶥ<⋵攴≲䦆ᨐ҅䁲䥈kᑄᄈ夒ર囇⣹嗛➎帣ᢤ䀡傠Ǘ熠㥀ॢȠா䠸ᢀ㜰䁾巒•橀樠Ꮃ䤠ව׷核ᱬ䣘紲₞૦Ԡ޳ŀ凐栠晬╍ಲ䖽䂇栢沀團ᄰ㸸ሪ喊Ⴇ♁䐔粶ᦞΎ刺ࠥ簉窺簲ᖢොሧ҉䃵ⰡḠޅ毗䘤䗾墥୚渍磆搰㣄䆯䌭䊣ᎄ䢩妈䪑䴹ҩ䋫◂რ⢒ઉ⃁⽌囦媍ኘ垤䢠䍤⒂Йᘷ੡䄀҂Ქ⃱琿啡憐㲞ၯ䌨焠ᗿ搫໎㒫ல熪Ņ⎃ऺᥛ⃄ᅠ  "
   },
   "source": [
    "## Task 2b: Filtering Out Old Data"
   ]
  },
  {
   "cell_type": "markdown",
   "id": "c86b30d4-4762-4bc0-bfd3-6f1486b55ad6",
   "metadata": {
    "__GENERATED_DATAFRAMES__": "{\"nodeDataframes\":{},\"graphDataframes\":null}",
    "show_aggregate_original": "false",
    "trrack_graph": "ᯡ࠽䈌ʀ匦㢠⹰࣠✴ƀචآ൐ୠᣠ⭎¸䚀ᶥ<⋵攴≲䦆ᨐ҅䁲䥈kᑄᄈ夒ર囇⣹嗛➎帣ᢤ䀡傠Ǘ熠㥀ॢȠா䠸ᢀ㜰䁾巒•橀樠Ꮃ䤠ව׷核ᱬ䣘紲₞૦Ԡ޳ŀ凐栠晬╍ಲ䖽䂇栢沀團ᄰ㸸ሪ喊Ⴇ♁䐔粶ᦞΎ刺ࠥ簉窺簲ᖢොሧ҉䃵ⰡḠޅ毗䘤䗾墥୚渍磆搰㣄䆯䌭䊣ᎄ䢩妈䪑䴹ҩ䋫◂რ⢒ઉ⃁⽌囦媍ኘ垤䢠䍤⒂Йᘷ੡䄀҂Ქ⃱琿啡憐㲞ၯ䌨焠ᗿ搫໎㒫ல熪Ņ⎃ऺᥛ⃄ᅠ  "
   },
   "source": [
    "The interactive barchart below, shows the data aggregated by year. There are noticeably fewer records for `2004` and `2005`.\n",
    "\n",
    "During this subtask we will remove these older records, keeping only the records for the year 2006 and above."
   ]
  },
  {
   "cell_type": "markdown",
   "id": "24b308e8-8437-4146-9ebf-cd121aeb7f9f",
   "metadata": {},
   "source": [
    "#### **Instructions**\n",
    "1. **Analyze the Bar Chart:**\n",
    "    - Identify the bars that have less than 200 records.\n",
    "2. **Filter Year:**\n",
    "    - Select and remove the years with few records.\n",
    "3. **Verify the Output:**\n",
    "    - Print the head of the generated dataframe to verify the changes."
   ]
  },
  {
   "cell_type": "code",
   "execution_count": 19,
   "id": "1ff923c8-1008-4d36-ab1c-625171d90d47",
   "metadata": {
    "__GENERATED_DATAFRAMES__": "ᯡࠩ䃬࿀ᜤᠹ悋ᐤ怱䐢犲ǩ怶恉宑召䵬ð䀲悠ᄡḡ沯偑嬸Ř˛ࠥ笪  ",
    "__has_persist_output": true,
    "trrack_graph": "ᯡ࠽䈌ʀ匦㢠⹱⁦⨬愊かÔìᠤ憿LƬPɗ恁䋧ဇ⻼ʒ珑䱴┹ⅅ)ㄸ䈭ፖṂ包嘉ᣓㄍ毿傐䠠ᨰV䚔ㄭႠɰ䂠̏刦;䘸㷉殖່y䘺䀡ᵼ䠠洰ᴠච໠Ă狂≩硰ኈ牥ᜦ䤾揅䒁ূ偔棘撄㜪࣠痤䒺掃㔘⹊ᙅᙆͮ惂䁳熃Ѵ⡨䘠剐䖰焻勠䰸᡼ᡸ攥̧ᬲ⑇ᅠ㜤⑄燨䱔␠ீ㑖㦹ႈٴ惦ⶬਠཆɥ⍤梈姑䣎ⱦ䟸ఠⶬஆ喰၃ؤ䁁嬸䄧㴰僙愱堠欰ㆨࢂ慳䀫灐焨愱䋂氨੍ண慐⢤א¾#庵ጘȬ▱ƨ渧২掸傩˥ű呔ᖏ械偎ካ䍥Җ໅␁③ᩅ懰┬ᜡ⁰ຆⶱ㏼で庰╺و乀䥄⥔䍅䤄Ნ僌⪴缪䫀暪剻㹈䭅⦔䅽䬅滭㏶⤛唫䓭㥨ᦠ⊙†Ġৎ㘥ᦠʤ䜚点涢ӯ௹2䄂帙⤼ڸ叜㼠ⰶ⍱̫Ꭽ㧼楚֡怨戹॥倸晋ழ椘İ䉃尾೻戒粞ᩌ⺵慰⸦ਯ́倬ᜬ㴱仺ᝤ揑岞ᑮ䌢劙᥯戬㠤䌠ťэ䊵Ⓚ။焠K䰢䂠㪷廔䋰㋦嶱]囥砢䡳Ӏȡ㈶ᡁ㋦ધ勽刁砶'凡ᑐ挡硉婼ᛨ䯁䱊⎁屟с䉄䚪̰⡱硎䆐澮⭤Ჱ᧐ਦ敮䍤䘹ჰਲ਼䉔ኮ䄀Ꭾ䒠ూ挨䗵䛸≊⌱⹒䞱䍊ଆᱬᅶ尯ⅶ䢰䫉畊⊉ܱ܉း䖠䘬ह⩙家䂤ǹٚॠⵙ撱婢̤⽍ҡ〬␖ܰ䆨㌪Ų傴Ʌ擂抹㽎焘Ꮹᢠ#撊妘ᨛ糔₇恐䨰ⳋḐ波⡩璚ᇇˇᛥ瓚࠳ØЀ᤹报ㆲęᏨࣘ䕻䫙ཎᭌన⃥ℇၧ⊮ᱴᔎ兘༧Ეࢯ㵎஬ᕰ㸋⨊ʼ楺š⁚ᝧₚὠᢦࣦᡆധ畄࠮㬒◲棺ⷹ槚⽯椦リᣈ㣩ᠳ⦬ᑠ⪃≓ງ䴫ᖁ⃫ց㎋Ư⸛㔾䵻㾤ࡢੂᜨ↦ㄮ⇩╢墀㤫掦ጨ悗⑯䣖⼤嫱ཱྀ減ತḄ⤄假⪭᱔⻽倷㞬嶾⬈䅞উ巂⸫⠭ȁйਇワቄˏХ䒑ṉΩ␆ჩ ϿⰭ綟అנ债ʽ槒ǀ叫ͪ䖨䎰烼ᓲ媸સ祂换庴᩠ᕱ㈑洲檣嘳梑檔笵參咠䧞₩䢨ብ案⼎∂⭚儤䤡䂖暯球綴੢杺珃翜㍠㙾㏞ԯ⪞⶷⼢掰⋳庾獜殝猱䑻⽺䎾檧䮼⏢摾ῂ样ੌɴ䨢⩾䫗埱澒繷ު䆦⋄㥰╊䣽⩱⵵溛渪㢺䁶欻焚珚潰ᭃ暖᫼఩᫈⦜㍪䇙ឱ尢楍ᒠ୵偰㇬傳䛀㎲⸇ᝢີ悽㸇፪㜸冤恴ݬڡ䷸ண᧋Ǔݓ恚ʡ焥竸ᕬ硖䳀Ẻᧉԩ⭔⑪ଆܬバ憀ࣽᦾᤸ煊ᦗٔ嘲曦䜢瀭伌㹰䷻ҹ㭋ਓ֡紦䊈翃㪗Ⱜ佬ൾ刻庬宺ଆ≥ーⷫ⣛俘‬ॕ䨳㗜Ꮎ㻖広㏜㎄籶浨澣礍嵓罔䁡㊩㭀亊瞇⑾抈刷沨忻⋝㢧ḵ✥焂⤍㸶сᄢ䁊ቁ㨾ਰ١⮅▨䘥恂⌱ᰪ䃘ᵂᡊ〩n┡㧁ƫⳕ㈸㤀⑺㚲ѫᚥ₣僘ఴ䁄ྙ匶じᵲᙒ怺᫡䩍䅨嶯堧ࡠ䜤灥ఋ䚙剬䋢ⰵ䎹ච奛ɠ笥㋶➦ጼᠨ䕂ऌ唱奎ᅸ杸㉏ค㝉ধㆤ㟶䑥啉䈠惍ൡᐱ䂈ᔣ穌Ϫ₥撿䵐䄯禇e⩚ɶ叇֦橀磖坝嚶◢㆒暃殷焂Ɓ㔦夾㑅䈽つ㶍爈䢌㞤浱ἐ䤥孞⩱剿ਜ缰擎氲恴ዀ䉅ℹ箉ΐ⒠熾ဨ䦁擽⑻汷凓摫穑ኖㆄ佮⣅჈࣡С傈᪒䡥Ϫԥː⤀⪾咻ֳ儵Đ吶扔硇ⴓ㼥熎煶湀Ǽ⢭ి俚▀箉̕༶ᘞ夋犮彼ǜᵼ䦘䎚Ⓜ⠣⾘偐್廱⪻篯᥻घⰩ穒㟗ᾉ垕ᰊࢗ歅㻙縛嘛啷⤕ὴ඙⹍ମᨠᕔ൉勠㺉媒ᒔ僗ⴤଶ淋ᱲ暢䍘瑞ഈ繹ၳH恀⦀偾Րपܤ傀ᘶ㘽ʝ᪪仟䶽秲ր嬰ჟÁⶔ㞜ᓣŰⴰ₠ᜥ䲁呂煦aĠ熫摸≴ᠩ偱抁㲨埸ᘫ㌆અ皌柌⛦汅俸䎬㣦ᆉ⼠䪵䮓㴶↲囔勇৅攰㙦殘滥䭍䇻ᑭ妞ᝊ碠ᚖ繾爁ጥ䋀孥㙇䖜✧ఋ庹⾞扉缕噥䫊⫸无歬㜙◂嚵ⷝ䅟Ṅⰺᇕ䙄掮嶚☑瓊৙⥔ղ君䪕⩳䩭瓊✟⌣ⰺԸⸯᒫ⏙ᐨࠪᖢŞĴ℥˪甘拤媜㔻㋊äᡀ⥓䒉䐦ƛލἫᬀᮁၝ匥䶋悈妍㈯甝嗎⌬ᦨ੓瞰ႌᾸ兿㛥佬持根漬ʡҫ彗犇㔕杺偎刉ồ榥积Ԥ䐠 "
   },
   "outputs": [
    {
     "data": {
      "application/vnd.jupyter.widget-view+json": {
       "model_id": "c4d6493404c64ff58a164d7b2da89571",
       "version_major": 2,
       "version_minor": 0
      },
      "text/plain": [
       "PersistWidget(data_values=[{'__id_column': '1', 'Title': 'Super Mario 64 DS', 'Max Players': 1, 'Multiplatform…"
      ]
     },
     "execution_count": 19,
     "metadata": {},
     "output_type": "execute_result"
    }
   ],
   "source": [
    "PR.plot.barchart(df_task_2a, \"Year:O\", \"count()\", selection_type=\"interval\", df_name=\"df_task_2b\")"
   ]
  },
  {
   "cell_type": "code",
   "execution_count": 22,
   "id": "89357660-d239-4eb9-97f1-8fb1e3942d15",
   "metadata": {},
   "outputs": [
    {
     "data": {
      "text/plain": [
       "Year\n",
       "2007    314\n",
       "2008    282\n",
       "2006    200\n",
       "Name: count, dtype: Int64"
      ]
     },
     "execution_count": 22,
     "metadata": {},
     "output_type": "execute_result"
    }
   ],
   "source": [
    "df_task_2b['Year'].value_counts()"
   ]
  },
  {
   "cell_type": "code",
   "execution_count": 20,
   "id": "91b82afa-ab75-41d7-b35a-7e18ab47c733",
   "metadata": {},
   "outputs": [
    {
     "data": {
      "text/html": [
       "<div>\n",
       "<style scoped>\n",
       "    .dataframe tbody tr th:only-of-type {\n",
       "        vertical-align: middle;\n",
       "    }\n",
       "\n",
       "    .dataframe tbody tr th {\n",
       "        vertical-align: top;\n",
       "    }\n",
       "\n",
       "    .dataframe thead th {\n",
       "        text-align: right;\n",
       "    }\n",
       "</style>\n",
       "<table border=\"1\" class=\"dataframe\">\n",
       "  <thead>\n",
       "    <tr style=\"text-align: right;\">\n",
       "      <th></th>\n",
       "      <th>Title</th>\n",
       "      <th>Max Players</th>\n",
       "      <th>Multiplatform</th>\n",
       "      <th>Online</th>\n",
       "      <th>Genres</th>\n",
       "      <th>Licensed</th>\n",
       "      <th>Comp_Time_Main</th>\n",
       "      <th>Review Score</th>\n",
       "      <th>Year</th>\n",
       "      <th>Publishers</th>\n",
       "    </tr>\n",
       "  </thead>\n",
       "  <tbody>\n",
       "    <tr>\n",
       "      <th>0</th>\n",
       "      <td>Wii Play</td>\n",
       "      <td>2</td>\n",
       "      <td>True</td>\n",
       "      <td>True</td>\n",
       "      <td>Action</td>\n",
       "      <td>True</td>\n",
       "      <td>4.0</td>\n",
       "      <td>58</td>\n",
       "      <td>2006</td>\n",
       "      <td>Nintendo</td>\n",
       "    </tr>\n",
       "    <tr>\n",
       "      <th>1</th>\n",
       "      <td>New Super Mario Bros.</td>\n",
       "      <td>1</td>\n",
       "      <td>True</td>\n",
       "      <td>True</td>\n",
       "      <td>Action</td>\n",
       "      <td>True</td>\n",
       "      <td>7.0</td>\n",
       "      <td>89</td>\n",
       "      <td>2006</td>\n",
       "      <td>Nintendo</td>\n",
       "    </tr>\n",
       "    <tr>\n",
       "      <th>2</th>\n",
       "      <td>Pokmon Diamond</td>\n",
       "      <td>1</td>\n",
       "      <td>True</td>\n",
       "      <td>True</td>\n",
       "      <td>Role-Playing (RPG)</td>\n",
       "      <td>True</td>\n",
       "      <td>41.92</td>\n",
       "      <td>85</td>\n",
       "      <td>2006</td>\n",
       "      <td>Nintendo</td>\n",
       "    </tr>\n",
       "    <tr>\n",
       "      <th>3</th>\n",
       "      <td>Pokmon Pearl</td>\n",
       "      <td>1</td>\n",
       "      <td>True</td>\n",
       "      <td>True</td>\n",
       "      <td>Role-Playing (RPG)</td>\n",
       "      <td>True</td>\n",
       "      <td>41.92</td>\n",
       "      <td>85</td>\n",
       "      <td>2006</td>\n",
       "      <td>Nintendo</td>\n",
       "    </tr>\n",
       "    <tr>\n",
       "      <th>4</th>\n",
       "      <td>Gears of War</td>\n",
       "      <td>2</td>\n",
       "      <td>True</td>\n",
       "      <td>True</td>\n",
       "      <td>Action</td>\n",
       "      <td>True</td>\n",
       "      <td>9.0</td>\n",
       "      <td>94</td>\n",
       "      <td>2006</td>\n",
       "      <td>Microsoft</td>\n",
       "    </tr>\n",
       "  </tbody>\n",
       "</table>\n",
       "</div>"
      ],
      "text/plain": [
       "                   Title  Max Players  Multiplatform  Online  \\\n",
       "0               Wii Play            2           True    True   \n",
       "1  New Super Mario Bros.            1           True    True   \n",
       "2         Pokmon Diamond            1           True    True   \n",
       "3           Pokmon Pearl            1           True    True   \n",
       "4           Gears of War            2           True    True   \n",
       "\n",
       "               Genres  Licensed  Comp_Time_Main  Review Score  Year Publishers  \n",
       "0              Action      True             4.0            58  2006   Nintendo  \n",
       "1              Action      True             7.0            89  2006   Nintendo  \n",
       "2  Role-Playing (RPG)      True           41.92            85  2006   Nintendo  \n",
       "3  Role-Playing (RPG)      True           41.92            85  2006   Nintendo  \n",
       "4              Action      True             9.0            94  2006  Microsoft  "
      ]
     },
     "execution_count": 20,
     "metadata": {},
     "output_type": "execute_result"
    }
   ],
   "source": [
    "df_task_2b.head()"
   ]
  },
  {
   "cell_type": "markdown",
   "id": "8a92b8a9-c3a8-4a57-be3b-c9cdc977092c",
   "metadata": {
    "__GENERATED_DATAFRAMES__": "{\"nodeDataframes\":{},\"graphDataframes\":null}",
    "show_aggregate_original": "false",
    "trrack_graph": "ᯡ࠽䈌ʀ匦㢠⹰ೠ⬠沈֭⠸恍ff9昽䁮ۦ࠰汬നڀপ㈏䣹厠㬦ተ¶⡨⇱㌀ᅁ╶庳ୖ⹜簧ଭࠣ℠Έ橦औ䁅ШNႦ〡岁䏼ℭ㞁摞+㢱䨠Ԋ牠Έƕ٦枓቙ჿਸ旑䅠Ȅ恨戬പᎭె䝁净儬Ö᡻⌸䐱䘩׍宨⇓ࡱ䍲ච᫲壬จ䙤Ɲڣ圖⍞ᛡ৽ण䃔戋㘠传ϊ揿振䘌汣䓼㹮䘫㈨ቺ⩯↧ᄨXഉ⠅ㅖࢢ侸⇄僡ಖࡢҁ氣С宍劄倶䢡⍤㲂̤㚗٩䄀硂಩⍰琦ᦪ悑屾ᾨႨ㺜*瘪䋇޶⋤ᓘ犠䭳঺᥇⏰ᅠ  "
   },
   "source": [
    "## Task 3: Data Wrangling"
   ]
  },
  {
   "cell_type": "markdown",
   "id": "9da80393-7f4b-4115-a4d1-5b7978e11358",
   "metadata": {
    "__GENERATED_DATAFRAMES__": "{\"nodeDataframes\":{},\"graphDataframes\":null}",
    "show_aggregate_original": "false",
    "trrack_graph": "ᯡ࠽䈌ʀ匦㢠⹰â䂬ƀᶷ琶䁋c<搔怳ଚ䠳亡䈤㉕⁖ì⺇⊨攩ᐠ▨戰㑹㧒妰囇⃹喧㝞Ţ∠桠ûு䁔䈠ॢȠந㺸ᢀ盅⻿夣•晀樠Ԃ牠Έƕ稦❳ሪὦ䰼⇑䅠Ȅ恨㙎⌯᪴䶹䈁ℓ琡㙐ᮂ⢨᢬थ⧓ࡢ㌰ሚ璋U䳘䠵欯Т縔絭Sㄭۡ۹ण䉔悊㘠传ϒ橷挣⌏ⱡ䕼庮打㈨ɼ榨慢䃂॑瑐繦┭ڼ㾬⎂厃焸牘榥ᄨ䦯ඦ嘔㗆溄⒀擒摖≦၀ⶃ㧄మޢᄴ䩍རへ∦䯧焤愷䍠Žƀ夅შ㤙༾′⪂㵩掳婊⢄  "
   },
   "source": [
    "### Task 3a: Creating and assigning `'Length'` category"
   ]
  },
  {
   "cell_type": "markdown",
   "id": "402412ae-3b84-4fec-9c01-94dd203a7b1f",
   "metadata": {
    "__GENERATED_DATAFRAMES__": "{\"nodeDataframes\":{},\"graphDataframes\":null}",
    "show_aggregate_original": "false",
    "trrack_graph": "ᯡ࠽䈌ʀ匦㢠⹰â䂬ƀᶷ琶䁋c<搔怳ଚ䠳亡䈤㉕⁖ì⺇⊨攩ᐠ▨戰㑹㧒妰囇⃹喧㝞Ţ∠桠ûு䁔䈠ॢȠந㺸ᢀ盅⻿夣•晀樠Ԃ牠Έƕ稦❳ሪὦ䰼⇑䅠Ȅ恨㙎⌯᪴䶹䈁ℓ琡㙐ᮂ⢨᢬थ⧓ࡢ㌰ሚ璋U䳘䠵欯Т縔絭Sㄭۡ۹ण䉔悊㘠传ϒ橷挣⌏ⱡ䕼庮打㈨ɼ榨慢䃂॑瑐繦┭ڼ㾬⎂厃焸牘榥ᄨ䦯ඦ嘔㗆溄⒀擒摖≦၀ⶃ㧄మޢᄴ䩍རへ∦䯧焤愷䍠Žƀ夅შ㤙༾′⪂㵩掳婊⢄  "
   },
   "source": [
    "Next, we'll introduce a new categorical variable named `Length` into our dataset. This addition aims to classify each game into one of `Short`, `Average` and `Long` based on `Comp_Time_Main` value."
   ]
  },
  {
   "cell_type": "markdown",
   "id": "86d54d80-ef52-4630-bffb-1e04d9320384",
   "metadata": {},
   "source": [
    "#### **Instructions**\n",
    "1. **Define Length Categories:**\n",
    "    - The `Comp_Time_Main` column represents the median completion time for the main story of the game.\n",
    "    - Based on median completion time, create a new category called `Length`.\n",
    "    - Add three options for this category -- `Short`, `Average`, `Long`.\n",
    "2. **Interactive Assignment:**\n",
    "    - Use Persist's interactive features to select games and assign it to one of the `Length` values (Short, Average, Long).\n",
    "    - You should use the following ranges for assigning proper categories:\n",
    "        - `Short`: 0 - 20 hours\n",
    "    \t- `Average`: 21 - 40 hours,\n",
    "    \t- `Long`: more than 40 hours\n",
    "3. **Verify the Output:**\n",
    "    - Print the head of the generated dataframe to verify the changes."
   ]
  },
  {
   "cell_type": "code",
   "execution_count": 23,
   "id": "b59fb23c-da53-489f-9520-918d789978eb",
   "metadata": {
    "__GENERATED_DATAFRAMES__": "ᯡࠩ䃬࿀ᜤᠹ悋ᐬ推̅ሣ䧠ⶠ卍捯ᥔᠣ℠▢dʘϔᝠ捌〤瀵摠៨⠠ ",
    "__has_persist_output": true,
    "trrack_graph": "ᯡ࠽䈌ʀ匦㢠⹰ೠᦪᶠ丢妐୦䁖l粨˦匡٦着⍑Ƭ㋪ⶓ⚿乻ैkᑄᄈ夒ࢰ勋⃩喧᜸ẜʤ䀡傠Ǘ値ㆠ㥀ॢȠா䠸ᢀ眰䅽忞怢橀樠Ԃ牠Έ䀠᱌爸᝞ጨ䬼㕁厲灰䔔㪊ऴ֢ᶯ䍡䃀֬†嶝Ƴ䳩য垆߰泘Ēいୖጳ༱ࢨᎂ䦑稠嬸ෝѤསҢ䳺䑁ᶨ僊䡑嫠ආῄލ䉊Þ綝勺ẽ䎀䍸淢 ㍖o#䨝氃ކ淜Ⅴ坝䤇凬搨ไ䣀癕໣旈ತ⹢䆨橞ඣ₨撵摡⇨㐾ಁ恰籕൧奾࿄䓱䁺⟑惯棂ᢼ₲⑲樺↲敐Ჺްᒪኹ⍔䏼暌┧䔲ᡒ⪷╒泎⾴ᖪ勞๶呬㫛䀤ॠ倠¬ƠĎ䎛ݨǬၠ䘈㐡搠ಫ䖉墜ޝ䭲˞殍化礜Ð⫗Ѱ汅Ĳ䯨䓉ࡑ凱扎̢⊨䰪ಆᡰ⡙໧犱䫞䜗汼㜴䆡怨戹ॡ儈䙓ۢᅘ湏࿤ত䛓⫲䁚⺯⟴愦ᕻ๔䷆灼惑㖶僦旐䆖緁枕ᶆ䂥斑岮紼แ䀠兔ᣍ㫽⁈ȣ岠wᠢ穙圯ᵙ瞚㹀ㆆ易ǀ塴¡庲ᡃ㱦Ꭷ堿䟤䠠Ẳ䥜紤࠸毭空嚦槺ဴ爞]愡ၖߞᚢߘ䡒ৡ偱٨尢Ᏸ溷̸氱ဲ⠦䃠揩䅠೨䂂㘥˪⠸提਽܈䱒⏰ͬб⡋㫮濡ڜᅝ憩ष㯐翩ؚ㑑傉ý惚〭桡٣㎜徿爢ᬢ惑䤺≶㤦婈童⅖ᛣ⇖洸⇎᪹憢ᘭ㮦䣺᫦磭਀☥ᣦ瓳ᮆ峿᮰兢⏘罟Ŧ䄨ᛂ䓬ᛆ䣋ᤆ㳪6⵴憢ဿ⤺፼氞▥㉚9␂活Ċ഻Ġⶍᤉ璣ᨋ璏♻Ⴘતͦ䐹Ȱ䛐䀬Ʃ╲²ぼܸ桬榪梸Ҹ碖ɫ堶灢澤䍒慊夹❊㤥⏩礡⫋ԭ⸃㮖䫓㩾俳ᠨ䊠ᅑ敐晉殀朵䖘ᝅ悐ὓ䇚䑫䪙⽝次༳淛䆛枓瑻梯噧椐彊⼀㽏橥䅰䃄䀼ᖑ焐ᕇ⹹椥恵ᕩ爒ἂ⪹ᆤ䂟橇䓂楅उዒ⃦䀕槗杴᫁ᡯৰᇯ嵈ቤ䂘Ὤ✜م硔໣ᮄ䓧⠭ࢫ曬ℸᖨ䏢Қʻ儃᐀繟䀪屫ᚣⲪ歃⬥ݻᑦ曂孍ǹӣୱ䆒ۚ✞⾠曔潔≥岃ᛳۗᗭ巕⁽帩䔩常π睔ᜊӕᡨ瓣嚸珖㭣෋૲岉䵣⟭䁧⯋ᱠ佡ⴸӴ嫖劧紮嬋嶎儃᰿∣竡堻籱娸䂊Ĳ〶ח゚ᚣ判䇍ूౚㄿ䲀䎣⟡ₒ⇓ଣ嶆疴匸㒀冷ፌ冸犸徵拎歨筞梡ỡ桑焴Բ㺩樠绥䍅ᇭ䏑皀㕼傉岰氝僰禯ࠃ懙牾】⍸୦巡䜀䌥ሧీ伺缫ᦁᅑ䂀ᅆॉᙼ慬㳢嶄乻⮬˷㶑஌ఢ㰻䊤ᡤ‸䖴䙹䢻珰ڔ䃼ʂ֎⃦͠Щ䓓Ả䎴筰㑠䒃̲ṍᣧઍ曬操䫪ኽ奶㲥噅唬洊ু涧⅜对ဪǎ⤗ཀྵ皾娌戫擝ऽ䅷乓埉ʏ㱴䠫ࢾ溭ㅸஂा扷䶘獋䞲ⅱ樲偔匁⪏յᗹ桶૲ᯋ⨗⮖㪖焔⽭溝ⷄϸᣦ局卆Ǧ഑摁䄄ᐢ愞᜼Ⱘ䄘ơ値⋲㘧や叺ḊⲲဍ卶㑣䱘⏊椇㒗恍埮㯋㸯⿹佨㧲ᾠ⡛箝㳥絸䠦而局滘⁞෶ន睌ᥠ威tヸ砾奯䫱ᣭ称㙩るᮁ̨Ⴉ㚁䡍暀௬ㅆ␥剡ᴢ⛰淭愜༶籄⅌ᵍ㋭禐ᘲࡑ䄆ᙅ䑦ۀ圶嬌ˍ儻䁪ᩦ䠻»ヲ⣫ヒ唾ⱒǃ癩沔㧫瑻䢛ㆮ祄ۀ㗨⧥ᄪ䰽৪㋆៕⛴䳲摦俀暺椩悴ฬ㴹㓄奭t啯཮⿉ṷ攱ྀ䘨啄ۉ䰴֐⇀У౗䀠素ŵࠩ䗵+ៀ䁨㐠Ţ惭⫵Ⱐŉ㨰楌凢䐹㣵⪶ы⦀樫㖦䮡㠾歒⏇尼ˊ痥擁猨ာ標ٜ䈨䈐ၢㄹაᔠᒃǉᆩ๩坔㉟úⓐ篇䕸䤡夙砑尢惫椂䅃㵢㟛滏㉝ā㶞ʾ氯ᦳ䣓忿疟倸j牀䛯͍旘液Ā៓⁆ˏԅ着栥ℌㆈ岎战橌〬぀᧡ᢙᭌ獓糑㕆亂懈ᨓ⇜ᬌऔ灩砎儵ʮರ㘣䂨⤷䨒屵⣂叐ɧ‡ბ璥ç䰒㡉␿▥䆙ߩࠢ檽⡕⍳Æ庋↳ ຦㖲䟷剘㌬Ѣ✜װ爩䏸֠儺䄐檙挲㒌ோ㬓ℕ孩磁ˠ⠣ڱ֣牙ɰᳶౠ痰ñ䎘䷦䢯䞐n䠩拾孓ヒ㉂〯″ଧሬ᪊ᬂ浘෩吺匶嘨啖壀ங∬娌ഡ嵠⎮栠姓еї喦岊曐णઓ䉠⥋牸ⴭ妠䓐✨掦䳦ژ㗼磉ڨÎ䞦抭汢燺ࢸ㶧ᒚ䘨梬䣹౱渹ₜ᷃簥⣁ే⊇䙄橮瑛ຑ欥ᘘ䒳ĭፇʑ䉮䌴嶹ų朸⁦幘Ȑ嵱㸑㜙晪䐀乌䲥容㗕孂⯒䞍兮⬍⹽沬㫀䲂Ѐᬅ䚡䓠Ӵ丘䍡ቝᯐፕࡖ㛍⺍冚MŹႻ㼻瑷㙳ℎឱ涆䫰ၺ忭մ⻪嶛櫁暰秭儗嘚䏊㪦ᾕ佳þ尊䷠᪣⟉㉺佾撉ڈ毬䈮Ἇ▩粦Ķ嶢䎬䐦扢ቲ߀琭䃱ջח㷼ƴ∩❒烧૖⪬⥷⧼哲ⵞ⪏亳ᮄ敟㳰䙪̍倃涟❙稠㫶↗么皠䔊仨ঽ䎰䇧យ⬝඿Ԥ紊皞ب溻䯝箸Ԫ㋢༥䝀匢₸ᗠ◜䄶ѓ剑䍤㪷㦆䜨綏ᬑ眻樎̋㤁䡏筮㊦⺕爽猕ᷫ崅幸篹ᯙ{睯ᔚ牲₀֡㉑䎰༳♎դㄴ䱸ˍ堣Ⱝຫ㩛ࡨʩ拳Ꮵ䧖凳ㄌ婑摽佥巁䒙ૹ勤Հ㗮䟘ম㤼ᶀ༼ਝĳ泂ᓒ㡄䪐矷㘐栣࿸炜燨綂ᤞဩ絇犓὿㓊窮ė૲⯇⯚ᗊଭ柕㽾厊咉⚛㨰ļ䎏㤄烴ུ㼺⊧䄄ٞ㤸ェڣ㚸䄔ЈŚ烴噙䝨㕙ῶ盻㟛㊋盭᫯㙛⧻廯᪷㌹⽛澱籏♏ਡ⭤⻓̷㋫筵㊠ᘽⳘ↫㌗׹ዛ⁥⺓坷⧩᝺ᙚ爥㬈䛨晍㗡༉睱牰┋㝺竵ʑ眀漊ᏪԆ灓ࢧȧ䈂౳㊻椫湦疰溸惺⅞痳㽸惷桍换㪤᏷⛩玶ŀल䓘ᗠ卺婊昅ీ栾࠰憾㢃敤↰㐀焫ᙲ窤柀Ț䐨编ۆ᪲␬䉺◰亰䀤缚獁㮣俦穵瘎᧐毢㘤凒㷒㑡擮旱ர౽撾挒ໃ〭㢿皀ယ㢦㓁撱ੂ㈤Ÿ䌠碸⁅Ďថㅧ㿩䪟烈性⩙ᓕૃ㠥㤷㼁ᅵڸ笳⫺咓㈺僢櫶嗠Ὴ⑱櫮别ј壻櫸Еᱛͧ峷炭Ⱉ牸㳄ߧṢ堰糦Κ㌰⌽䫘Ŷㆣ瀠桴⓯⤒祪ŝ搏ěㇸ㸹柧ᬛ䟤乳烇ᩣ䏱嬃ᐇВ孺㊘¨Ɉࡋ紂煹⌂ݽ㈴ଽᑐ桎ధ቙㉒ᡁ㪇Ꭳ౹⹳ʼ༗ધ居䉏ᛳ㲚ᡸ䧰∓☊❹༚ࣄ筹▭䋺ठ㻥➩ࠢŀਢᱵ႓⇮ᙚ⓽䐯௬㹂瀬䧓΋⧛緥ṾྣᣤǤẈ㌨㹠ヲ䑣䚯㯙፷⃴ӣ㱠烪䚎睫㔣棱ㅬ㒧㋇〣̳٘⼺櫼嚴⋋ළ䫾噒㉰人⥉♊㇄囧瓼⦎಄儲⑏Ӻࡆก䀴暲ݓ▹›昳⚬撡Ϣ㇁玓㳢㳻晸斫㍓糰⬀獔䬸卄梱㝬尀Ⱞᙖ猨ᬸ∵⦃斗ಙ㕇⧮焠䛅൐嘮䬃ൻ磾嘵㓔痄㭎嚡惈⍺屒⦇咢¤端围䠻⒡۰၃㞨壻ᑿ੖柏ⶲᯣᆄ偻๥⥳幚䂨ᬃ癊ᣱڨㅚ乃ⴇબ◥ㄦ爙⅐㤠Ṙₓ疄䇧མ熇䦠؄優煗䯘縅⢠岪吸濹റᦠ犸嬢晅䄓෬䡺⇥ㆋభۥ䬧楈矩ⳣ碳Ñܟ✳⠰傫ⁿ♠⠰⋃昹㤠ذツȘᏥ䬥凅ྈ䀥⩘ǽ೭⽧機兜珞உ♰ゃ挳ᑅࡇ簳劷ᤥ᫤㪴༽㔤憶䆈䵷م๳⼇ᛷڅ煀渤䩗Ʀ⥈ᦖ燗㷛淰曽ĳ㕻䓮樕㘖ᯇ䥁爡亣惔ᙐӗ㺶ⵄ囦ⴌ悑䳋㨺⫒欪೤Ô╀ᇻ④္暀ഠت䄉˯ᄠമ᳋扭㬲ⴴ㚩༻ન坐䪋佨楋曵庫㞏Ṧ囷䅐䀉パ䃥珢眩⠾䁤⴪椷䣞㑴⪜其テø⭊抣䎲嗵⥂笡䣀ㄕ⾀çஷ慧瑔⑥⵲䋴ᆠ☙ᮧ樊叟ᣠΎ屯煩⚰ቍ纈⸀㬻㿲癇㓛⩃潓ࡷՀㄶ徴䣨啄⸴涻㱥卌∆ไ秒䞜栅⽚燗௜䐄こ䘜熚㻓䣺䄜⺼ㄥӔ䅣唲扇旲┰ᕤ䳣兌ᨒ⩡ᛛ᝵䅊⤀梆ौ⇚㜼傤糽Ⅴ䬒傇䕆ℸ椔䊦৛㫤欒媧䳟爬䪴嚧ὧ℣⠔ᥖ㳊⥦ஜ⼱ච僁挀Ń䕯Ŭd⹙‷䪈ͭᩂ⹛µ盆翅╔䧒䰙ྦ࿳偊∨䍓广䳯猨埫剾惱ॊඑ殾䠫䩪包毭ᖉॅ᳸寻ᆴ噻៑㯲办斀ṃ栧㗄现❂栳ဢ⅚愺愥劄䃤፤⚥添⫀ߗ盛浧Ⱆ姶ϒ疣⨛ュ绾⧡璸斒ⵧ⦞刈㐶䵖׫ೕ⼸პ๫⳸牘癊ᬃ⠒洳燧灔̱৵搠偳摾℺瀸磆ɤţ⣔␸⥊丷䫃喤⠱൴竎喴⠺䜴♤ৼ⠭ी瀠൫ᐲ紀䇁ঀ朲牅ⓚന斲屔㗡ඪ⩦犵坿⻈櫽ṕ旄䊽߄斵槊㥌䥢且䷴㨌滄ᜣ⠬␿溌㹢燧⥧㛧ㆠ爬㼁䖤㘠嫒䁖昼粺䝆ے䴢拆峭〭䷫㫄െỄװའ䵕橫ࡓ᫢磪椴琌咻䠨⛘с叄䳀㦬䜐䤅緳槡䢆浇ً♰ᷳŖ⽴᥆㍓㺣㍖᧹䡬檕ፉ⨁㕬煱㳿⁑㕌嚇捝惖⽔梮୒ⁱ㊱妄㡱ᛨừᨯ巣͸ᷰᅻ䢗奎「䘬࢈揖䶒䔢݁⊌᳄噖❖䳳侐ⴇ村≩४哻勊淭狨䕉ᛣ帮槴㜸ཐ䣕楶ࠗ⑼⩭植⮖ࠣ币✎吇⯟䒭ᜩ䎕⊘䃭濂ᡷ寍½歂䀷㻿㻪洺穩⵻猚⚺歲曖绍z刷⤥纋ⷸ嘃婧岻ⶖ篕盕ჱ渖倉揂痡檾灇ず㊴␰ਢៗ娲琞᱇◼䈋橤堨兟㉐淾紋ݻष፡ਗ⹭☔პ椇沘⇴橆漧營⚪ཞ䕕╁䎄汙忙⧃旔洼絔叱丝択岤䅹䥬ᳬ㩠場乑䏀ѣ䊈偙H㖊ឯ假ീ໇枡滖ᬒ糕Მ懣⥶攈榭硁૶单傷ⓚ濰㻔⪊椈⅖湋ቕᗉๅ⳸粜䪍痨畉ʗ沋䐨㖡䬺䭓㊏♧榇ᗙಈ㘂Ȧ仌䴩橯毒ጨ䚩䮔犞፽椒ဠ "
   },
   "outputs": [
    {
     "data": {
      "application/vnd.jupyter.widget-view+json": {
       "model_id": "3f1b0823e57a49669abd61b5ab5bba6f",
       "version_major": 2,
       "version_minor": 0
      },
      "text/plain": [
       "PersistWidget(data_values=[{'__id_column': '1', 'Title': 'Wii Play', 'Max Players': 2, 'Multiplatform': True, …"
      ]
     },
     "execution_count": 23,
     "metadata": {},
     "output_type": "execute_result"
    }
   ],
   "source": [
    "PR.plot.scatterplot(df_task_2b, \"Comp_Time_Main:Q\", \"Review Score:Q\", df_name=\"df_task_3a\")"
   ]
  },
  {
   "cell_type": "code",
   "execution_count": 25,
   "id": "12ebe836-3671-479c-9cf3-65063696c935",
   "metadata": {},
   "outputs": [
    {
     "data": {
      "text/plain": [
       "Length\n",
       "Short            671\n",
       "Average           95\n",
       "Long              20\n",
       "No Assignment     10\n",
       "Name: count, dtype: int64"
      ]
     },
     "execution_count": 25,
     "metadata": {},
     "output_type": "execute_result"
    }
   ],
   "source": [
    "df_task_3a.Length.value_counts()"
   ]
  },
  {
   "cell_type": "code",
   "execution_count": 24,
   "id": "ce12290c-757c-4ba8-a879-8310a0fcb90a",
   "metadata": {},
   "outputs": [
    {
     "data": {
      "text/html": [
       "<div>\n",
       "<style scoped>\n",
       "    .dataframe tbody tr th:only-of-type {\n",
       "        vertical-align: middle;\n",
       "    }\n",
       "\n",
       "    .dataframe tbody tr th {\n",
       "        vertical-align: top;\n",
       "    }\n",
       "\n",
       "    .dataframe thead th {\n",
       "        text-align: right;\n",
       "    }\n",
       "</style>\n",
       "<table border=\"1\" class=\"dataframe\">\n",
       "  <thead>\n",
       "    <tr style=\"text-align: right;\">\n",
       "      <th></th>\n",
       "      <th>Length</th>\n",
       "      <th>Title</th>\n",
       "      <th>Max Players</th>\n",
       "      <th>Multiplatform</th>\n",
       "      <th>Online</th>\n",
       "      <th>Genres</th>\n",
       "      <th>Licensed</th>\n",
       "      <th>Comp_Time_Main</th>\n",
       "      <th>Review Score</th>\n",
       "      <th>Year</th>\n",
       "      <th>Publishers</th>\n",
       "    </tr>\n",
       "  </thead>\n",
       "  <tbody>\n",
       "    <tr>\n",
       "      <th>0</th>\n",
       "      <td>Short</td>\n",
       "      <td>Wii Play</td>\n",
       "      <td>2</td>\n",
       "      <td>True</td>\n",
       "      <td>True</td>\n",
       "      <td>Action</td>\n",
       "      <td>True</td>\n",
       "      <td>4.0</td>\n",
       "      <td>58</td>\n",
       "      <td>2006</td>\n",
       "      <td>Nintendo</td>\n",
       "    </tr>\n",
       "    <tr>\n",
       "      <th>1</th>\n",
       "      <td>Short</td>\n",
       "      <td>New Super Mario Bros.</td>\n",
       "      <td>1</td>\n",
       "      <td>True</td>\n",
       "      <td>True</td>\n",
       "      <td>Action</td>\n",
       "      <td>True</td>\n",
       "      <td>7.0</td>\n",
       "      <td>89</td>\n",
       "      <td>2006</td>\n",
       "      <td>Nintendo</td>\n",
       "    </tr>\n",
       "    <tr>\n",
       "      <th>2</th>\n",
       "      <td>Long</td>\n",
       "      <td>Pokmon Diamond</td>\n",
       "      <td>1</td>\n",
       "      <td>True</td>\n",
       "      <td>True</td>\n",
       "      <td>Role-Playing (RPG)</td>\n",
       "      <td>True</td>\n",
       "      <td>41.92</td>\n",
       "      <td>85</td>\n",
       "      <td>2006</td>\n",
       "      <td>Nintendo</td>\n",
       "    </tr>\n",
       "    <tr>\n",
       "      <th>3</th>\n",
       "      <td>Long</td>\n",
       "      <td>Pokmon Pearl</td>\n",
       "      <td>1</td>\n",
       "      <td>True</td>\n",
       "      <td>True</td>\n",
       "      <td>Role-Playing (RPG)</td>\n",
       "      <td>True</td>\n",
       "      <td>41.92</td>\n",
       "      <td>85</td>\n",
       "      <td>2006</td>\n",
       "      <td>Nintendo</td>\n",
       "    </tr>\n",
       "    <tr>\n",
       "      <th>4</th>\n",
       "      <td>Short</td>\n",
       "      <td>Gears of War</td>\n",
       "      <td>2</td>\n",
       "      <td>True</td>\n",
       "      <td>True</td>\n",
       "      <td>Action</td>\n",
       "      <td>True</td>\n",
       "      <td>9.0</td>\n",
       "      <td>94</td>\n",
       "      <td>2006</td>\n",
       "      <td>Microsoft</td>\n",
       "    </tr>\n",
       "  </tbody>\n",
       "</table>\n",
       "</div>"
      ],
      "text/plain": [
       "  Length                  Title  Max Players  Multiplatform  Online  \\\n",
       "0  Short               Wii Play            2           True    True   \n",
       "1  Short  New Super Mario Bros.            1           True    True   \n",
       "2   Long         Pokmon Diamond            1           True    True   \n",
       "3   Long           Pokmon Pearl            1           True    True   \n",
       "4  Short           Gears of War            2           True    True   \n",
       "\n",
       "               Genres  Licensed  Comp_Time_Main  Review Score  Year Publishers  \n",
       "0              Action      True             4.0            58  2006   Nintendo  \n",
       "1              Action      True             7.0            89  2006   Nintendo  \n",
       "2  Role-Playing (RPG)      True           41.92            85  2006   Nintendo  \n",
       "3  Role-Playing (RPG)      True           41.92            85  2006   Nintendo  \n",
       "4              Action      True             9.0            94  2006  Microsoft  "
      ]
     },
     "execution_count": 24,
     "metadata": {},
     "output_type": "execute_result"
    }
   ],
   "source": [
    "df_task_3a.head()"
   ]
  },
  {
   "cell_type": "markdown",
   "id": "36e82a42-5f2f-44e1-b9a5-2e2d403b2ff3",
   "metadata": {},
   "source": [
    "## Task 3b: Finding Top Genre for each `Length`"
   ]
  },
  {
   "cell_type": "markdown",
   "id": "af40bad3-436e-426c-a02f-f205597e90b5",
   "metadata": {},
   "source": [
    "Now we will analyze which genre is most prevelant for games in each length category."
   ]
  },
  {
   "cell_type": "markdown",
   "id": "72455a32-623b-4b87-87d6-ca9c8ebf19e7",
   "metadata": {},
   "source": [
    "#### **Instructions**\n",
    "1. **Context:**\n",
    "    - We have a faceted bar chart. The `x` axis encodes the `Genres` column in the data and the columns encode the newly added category `Length`.\n",
    "2. **Analyze Genres:**\n",
    "    - Observe the bar charts to identify the top genre for the each length.\n",
    "    - You can hover on the bars to get the exact frequency.\n",
    "3. **Document Findings:**\n",
    "    - Note down the most common Genre for each length based on your interactive analysis in a new markdown cell."
   ]
  },
  {
   "cell_type": "code",
   "execution_count": 26,
   "id": "c45b6a61-ef0e-408a-bded-b1d1c1666e9c",
   "metadata": {
    "__GENERATED_DATAFRAMES__": "ᯡࠣ䅬Ԁ朤壠ᜣ琢〹夢゠⹰〮⁁䁻қ䚾ኊ㇠നСࠩ瀮晼Ƭ穅5愠៤⠠ ",
    "__has_persist_output": true,
    "trrack_graph": "ᯡ࠽䈌ʀ匦㢠⹰ڀᆪ҄悌̸րୢ似ȹࠥ䞠瘸䐩憱呦槳᩵劳ᐡ䱐8䥠ɹ⅁ݥ䮰䒹┺穬⳸㦑琈ቄ-Рෙᨸ⏲´၀Øಡ䀦熦ྑѕ嶧㰠ᜂ䙰G⮲;‫呒᭛䲱䊦㰰祍䘪/ጢ⊂榥䈤慦サጠǬᗄᠢ沁㜄㄰㤸ሮ宎Ⴂ時⌬桖ᖙࡏ帱ࠥ稹ۺ⤄㱻ȷ⩄ܪ榠㛸Ŝ.㖯ᾬ༯嗑ܳ㡙ᷨᛨၩ㒴༦䟥′ኴ¸催樢⴪ࢭţ您Ļ报儸㐥⁀჈⨣䧑淄⒬ʳ⳦瑤戢Ҍ眬䆦成扉Ŧ儈ٓ૧ㅘ湏࿢।䒠଄ࢤ术ᙠ⑉䔅ಶ剳ᨺ❯⒠捀  "
   },
   "outputs": [
    {
     "data": {
      "application/vnd.jupyter.widget-view+json": {
       "model_id": "3f81ecb750ac495c8f7a1ef86de76620",
       "version_major": 2,
       "version_minor": 0
      },
      "text/plain": [
       "PersistWidget(data_values=[{'__id_column': '1', 'Length': 'Short', 'Title': 'Wii Play', 'Max Players': 2, 'Mul…"
      ]
     },
     "execution_count": 26,
     "metadata": {},
     "output_type": "execute_result"
    }
   ],
   "source": [
    "NEW_COLUMN = \"Length\"\n",
    "\n",
    "chart = alt.Chart(df_task_3a).mark_bar().encode(\n",
    "    x=\"Genres:N\",\n",
    "    y=\"count():Q\",\n",
    "    color=f\"{NEW_COLUMN}:N\",\n",
    "    column=f\"{NEW_COLUMN}:N\",\n",
    "    tooltip=\"count()\"\n",
    ")\n",
    "chart\n",
    "PR.PersistChart(chart)"
   ]
  },
  {
   "cell_type": "markdown",
   "id": "00e87acd-3759-49eb-9e43-d7793672297c",
   "metadata": {},
   "source": [
    "**Task 3b Notes:**\n",
    "\n",
    "- Top publisher for `Short` games: Action(507)\n",
    "- Top publisher for `Average` games: Role-Playing(RPG)(36)\n",
    "- Top publisher for `Long` games: Role-Playing(RPG)(14)"
   ]
  },
  {
   "cell_type": "code",
   "execution_count": null,
   "id": "cd7ce685-7bb6-4448-91c4-bf50c99367ec",
   "metadata": {},
   "outputs": [],
   "source": []
  }
 ],
 "metadata": {
  "__CATEGORIES_META__": "{\"categories\":{\"Avlanche Season Phase\":{\"name\":\"Avlanche Season Phase\",\"options\":{\"_None\":{\"name\":\"None\"},\"Start\":{\"name\":\"Start\"},\"Middle\":{\"name\":\"Middle\"},\"End\":{\"name\":\"End\"}}}},\"activeCategoryName\":\"Avlanche Season Phase\"}",
  "__persist_keys_record": [
   "__GENERATED_DATAFRAMES__",
   "__persist_nb_uuid__",
   "trrack_graph",
   "show_aggregate_origin"
  ],
  "__persist_nb_uuid__": "3377546c-a1bb-4bbe-9021-f257b124402a",
  "kernelspec": {
   "display_name": "Python 3 (ipykernel)",
   "language": "python",
   "name": "python3"
  },
  "language_info": {
   "codemirror_mode": {
    "name": "ipython",
    "version": 3
   },
   "file_extension": ".py",
   "mimetype": "text/x-python",
   "name": "python",
   "nbconvert_exporter": "python",
   "pygments_lexer": "ipython3",
   "version": "3.8.16"
  }
 },
 "nbformat": 4,
 "nbformat_minor": 5
}
