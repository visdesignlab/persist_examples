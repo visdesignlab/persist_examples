{
 "cells": [
  {
   "cell_type": "markdown",
   "id": "522fcbb3-702c-4ea0-91d9-f3b0e71690fc",
   "metadata": {
    "__GENERATED_DATAFRAMES__": "{\"nodeDataframes\":{},\"graphDataframes\":null}",
    "show_aggregate_original": "false",
    "trrack_graph": "ᯡ࠽䈌ʀ匦㢠⹰àᦴ΀࣪ʐ怶䦠挠᱊ࠥ䁁䂖㚥煤晬փ⊪ĸ暂䙠঳ैkᑄᄈ妐ଷᓋ⃩䖻Ṯ溜Φ䐡傠Ǒ団Қ′䈤7ࡣᠠ湐戎Ⴆ寐爤䀥屨攠ʕ㥀ǔÚ䍃㏙䤥ࢂ┩勸惀Ēいཆ༠೥∁∀秸㲅䌠ⶬᛦ䙂ǃɡ殍戰泤ᒁ嬦怭㋉匥穃ᄠ彣჻⴦䉫ぢ睤䄁ⵐۻG䀡曑砑䂱竖ᄂ㜿Ꭽ˹ȩᚱ凁兘㑐Ṣ༩Ẻ䳥⑆憰棨忞⍧攈堽Ī僰὆揖䦲ᡊ⛓౱নఱ姼ᤦΧ您別൧儸晋Ǣ熘繀䉁硨K塊়ṹᜰ倳䪂ⵦ⚈ᒽ᪺ᆬ䀠 "
   },
   "source": [
    "# Analyzing Utah Avalanche Data"
   ]
  },
  {
   "cell_type": "markdown",
   "id": "3abf1206-e99f-45b6-a92b-d971a2a8eb19",
   "metadata": {
    "trrack_graph": "ᯡ࠽䈌ʀ匦㢠⹰ૠܠ昢〽䂆౐׀ৣfL⍉ျ⥒⠡䒙¬ᧇ峕搢ಒ嫒┠অҤᵖ㹢晴㘉ᦳㄍ毿䡨墠ᨰV䆼ガ搢⡠䀢焨㌠෦ౝ戰殖๠ᠠ塩ೀn坄V䀷⢄㚗᥂夬ು䅻ఴ>☤䝃傳狱⊔㳜ੁ䀶挫㐷ࢢӡჵ嬩іㄪᢉ懐ͻ䬥䇽ࣨ䁏僿峱䐰㋸ᇻ兀㡆䱍㛠਀ⲛ粀೽疨һ䟩桁㙡Ũ昙ˢ䧮ᄪᆽ䥢ᅅᄁẩ㱸౮ᐶޣ先ఽЃⵖᥒ⌥▶懜ᩑƢ᭛䭄憐ɑ٦⦈䙓ǂ炘㸠䱅࢜ؠଌથ䜯๡䙉夊᜶僑汢㭢☈₁䠠 "
   },
   "source": [
    "**Participant ID:**  P10\n",
    "\n",
    "**Date / Time:**"
   ]
  },
  {
   "cell_type": "markdown",
   "id": "ceac0d48-2820-4532-bfd2-adf6533d7a2d",
   "metadata": {},
   "source": [
    "## Introduction\n",
    "Welcome to our data analysis study. For this part of the study, you'll be working with a dataset sourced from the [Utah Avalanche Center](https://utahavalanchecenter.org/). The data provides insights into [avalanche occurrences](https://utahavalanchecenter.org/avalanches) in Utah.\n"
   ]
  },
  {
   "cell_type": "markdown",
   "id": "68491102-96aa-4701-8134-d998c80ae04b",
   "metadata": {},
   "source": [
    "- You will use an extension called PersIst to complete **data cleanup and manipulation** tasks. \n",
    "- Interactive charts and tables have been pre-created for your convenience. These can be directly utilized by running the corresponding cells.\n",
    "- Focus on leveraging the interactive capabilities of Persist for your analysis.\n",
    "- Carefully follow the step-by-step instructions provided for each task.\n",
    "- In some cases, you will be asked to document your findings. Please do this in writing in a markdwon cell.\n",
    "- As you work through the tasks, take note of any interesting findings or challenges with the software or pandas that you may encounter, either by speaking your thoughts out loud or taking notes in a markdown cell.\n",
    "- Feel free to add new code and markdown cells in the notebook as necessary to complete the tasks, but please do attempt the tasks with the PersIst functionality."
   ]
  },
  {
   "cell_type": "code",
   "execution_count": 1,
   "id": "9337796b-21e8-4c8c-bbbd-3076a775d03b",
   "metadata": {},
   "outputs": [],
   "source": [
    "import helpers as h\n",
    "import pandas as pd\n",
    "\n",
    "import seaborn as sns\n",
    "import matplotlib.pyplot as plt\n",
    "import altair as alt\n",
    "\n",
    "import persist_ext as PR"
   ]
  },
  {
   "cell_type": "markdown",
   "id": "dd81aecd-eebf-4624-b9e2-3a864c474c1d",
   "metadata": {
    "__GENERATED_DATAFRAMES__": "{\"nodeDataframes\":{},\"graphDataframes\":null}",
    "show_aggregate_original": "false",
    "trrack_graph": "ᯡ࠽䈌ʀ匦㢠⹰Ҁ̡䘠烠嘢త〫‥侴ᓬᛞ拐ৡ䚂ద抭婈ހڅྯ䌲⠠䭈⑁槑焳Ⴥ⩦仃㍶๽㰥Ҩǁ#㟢䌰橠ኤРᜰ͐üメ湁˛㾄ָ̠憴)挄䀦栢琭ٮ㍄ᨡ䌤ᾣㆢ䀣擠䢤㘦Sᥧᡠ戂怡ᠬÖᠻ㹈䐿ة׉妨⃓ࢱ̴㖠᫲徤ฏѤƜڣ回㸦ۡ৵ण䃔戊㘠传ϊ緯挡䘌污䕽庮粓㈨ɪⷠ搃猄ᦨ洘㳌ᤪ̪౦繶ሱ澂䘣⁑Ҝഭ炍孉ृÅ⭱䤾ᢠ䆋෭ኀ㠢Ү≱呺Ấ惑汮ᮯ戩䊏̠˙Ɂ⧽憳㈒ṉⅱਊ⥋⃆瑀⣨  "
   },
   "source": [
    "## Data Description\n",
    "\n",
    "The table below describes the different columns in the dataset. Each row in the dataset represents a reported avalanche with details on location, trigger, and aspect. The data spans multiple years, starting from 2004 up to 2023.\n",
    "\n",
    "| Column          | Description                                                    |\n",
    "|-----------------|----------------------------------------------------------------|\n",
    "| Region          | Region in Utah where the avalanche occurred                    |\n",
    "| Month           | Month in which the avalanche was recorded                      |\n",
    "| Day             | Day on which the avalanche was recorded                        |\n",
    "| Year            | Year in which the avalanche was recorded                       |\n",
    "| Trigger         | Cause of the avalanche                                         |\n",
    "| Weak Layer      | Layer of snow that was weakest and likely to fail              |\n",
    "| Depth_inches    | Depth of the avalanche in inches                               |\n",
    "| Vertical_inches | Vertical distance covered by the avalanche in inches           |\n",
    "| Aspect          | Direction of the slope where the avalanche occurred            |\n",
    "| Elevation_feet  | Elevation of the location in feet                              |\n",
    "| Coordinates     | Approximate geographical coordinates of the avalanche location |\n",
    "| Comments 1      | Additional comments provided by the reporter                   |"
   ]
  },
  {
   "cell_type": "code",
   "execution_count": 2,
   "id": "8d0e426c-89a0-4813-8994-65ebba3f3a25",
   "metadata": {},
   "outputs": [
    {
     "data": {
      "text/html": [
       "<div>\n",
       "<style scoped>\n",
       "    .dataframe tbody tr th:only-of-type {\n",
       "        vertical-align: middle;\n",
       "    }\n",
       "\n",
       "    .dataframe tbody tr th {\n",
       "        vertical-align: top;\n",
       "    }\n",
       "\n",
       "    .dataframe thead th {\n",
       "        text-align: right;\n",
       "    }\n",
       "</style>\n",
       "<table border=\"1\" class=\"dataframe\">\n",
       "  <thead>\n",
       "    <tr style=\"text-align: right;\">\n",
       "      <th></th>\n",
       "      <th>;Region</th>\n",
       "      <th>Month</th>\n",
       "      <th>Day</th>\n",
       "      <th>Year</th>\n",
       "      <th>;Trigger</th>\n",
       "      <th>;Weak Layer</th>\n",
       "      <th>Depth_inches</th>\n",
       "      <th>Vertical_inches</th>\n",
       "      <th>;Aspect</th>\n",
       "      <th>Elevation_feet</th>\n",
       "      <th>Coordinates</th>\n",
       "      <th>Comments 1</th>\n",
       "    </tr>\n",
       "  </thead>\n",
       "  <tbody>\n",
       "    <tr>\n",
       "      <th>0</th>\n",
       "      <td>Salt Lake</td>\n",
       "      <td>11</td>\n",
       "      <td>9</td>\n",
       "      <td>2012</td>\n",
       "      <td>Snowboarder</td>\n",
       "      <td>New Snow/Old Snow Interface</td>\n",
       "      <td>14.0</td>\n",
       "      <td>360.0</td>\n",
       "      <td>North</td>\n",
       "      <td>10400.0</td>\n",
       "      <td>40.577977000000, -111.595817000000</td>\n",
       "      <td>While it was a small avalanche that was I caug...</td>\n",
       "    </tr>\n",
       "    <tr>\n",
       "      <th>1</th>\n",
       "      <td>Salt Lake</td>\n",
       "      <td>11</td>\n",
       "      <td>11</td>\n",
       "      <td>2012</td>\n",
       "      <td>Skier</td>\n",
       "      <td>New Snow/Old Snow Interface</td>\n",
       "      <td>30.0</td>\n",
       "      <td>1200.0</td>\n",
       "      <td>North</td>\n",
       "      <td>9700.0</td>\n",
       "      <td>40.592619000000, -111.616099000000</td>\n",
       "      <td>A North facing aspect with an exposed ridge in...</td>\n",
       "    </tr>\n",
       "    <tr>\n",
       "      <th>2</th>\n",
       "      <td>Salt Lake</td>\n",
       "      <td>11</td>\n",
       "      <td>11</td>\n",
       "      <td>2012</td>\n",
       "      <td>Skier</td>\n",
       "      <td>Facets</td>\n",
       "      <td>36.0</td>\n",
       "      <td>5400.0</td>\n",
       "      <td>North</td>\n",
       "      <td>10200.0</td>\n",
       "      <td>40.599291000000, -111.642315000000</td>\n",
       "      <td>Remotely triggered all the new storm snow (abo...</td>\n",
       "    </tr>\n",
       "    <tr>\n",
       "      <th>3</th>\n",
       "      <td>Salt Lake</td>\n",
       "      <td>11</td>\n",
       "      <td>11</td>\n",
       "      <td>2012</td>\n",
       "      <td>Skier</td>\n",
       "      <td>New Snow</td>\n",
       "      <td>18.0\"</td>\n",
       "      <td>6000.0</td>\n",
       "      <td>Southeast</td>\n",
       "      <td>10200.0</td>\n",
       "      <td>40.598313000000, -111.628304000000</td>\n",
       "      <td>Impressive fast powder cloud ran in front of t...</td>\n",
       "    </tr>\n",
       "    <tr>\n",
       "      <th>4</th>\n",
       "      <td>Salt Lake</td>\n",
       "      <td>11</td>\n",
       "      <td>11</td>\n",
       "      <td>2012</td>\n",
       "      <td>Skier</td>\n",
       "      <td>Facets</td>\n",
       "      <td>42.0</td>\n",
       "      <td>9600.0</td>\n",
       "      <td>North</td>\n",
       "      <td>10400.0</td>\n",
       "      <td>40.578590000000, -111.595087000000</td>\n",
       "      <td>Three of us toured from Brighton to low saddle...</td>\n",
       "    </tr>\n",
       "  </tbody>\n",
       "</table>\n",
       "</div>"
      ],
      "text/plain": [
       "     ;Region  Month  Day  Year     ;Trigger                  ;Weak Layer  \\\n",
       "0  Salt Lake     11    9  2012  Snowboarder  New Snow/Old Snow Interface   \n",
       "1  Salt Lake     11   11  2012        Skier  New Snow/Old Snow Interface   \n",
       "2  Salt Lake     11   11  2012        Skier                       Facets   \n",
       "3  Salt Lake     11   11  2012        Skier                     New Snow   \n",
       "4  Salt Lake     11   11  2012        Skier                       Facets   \n",
       "\n",
       "  Depth_inches  Vertical_inches    ;Aspect  Elevation_feet  \\\n",
       "0         14.0            360.0      North         10400.0   \n",
       "1         30.0           1200.0      North          9700.0   \n",
       "2         36.0           5400.0      North         10200.0   \n",
       "3        18.0\"           6000.0  Southeast         10200.0   \n",
       "4         42.0           9600.0      North         10400.0   \n",
       "\n",
       "                          Coordinates  \\\n",
       "0  40.577977000000, -111.595817000000   \n",
       "1  40.592619000000, -111.616099000000   \n",
       "2  40.599291000000, -111.642315000000   \n",
       "3  40.598313000000, -111.628304000000   \n",
       "4  40.578590000000, -111.595087000000   \n",
       "\n",
       "                                          Comments 1  \n",
       "0  While it was a small avalanche that was I caug...  \n",
       "1  A North facing aspect with an exposed ridge in...  \n",
       "2  Remotely triggered all the new storm snow (abo...  \n",
       "3  Impressive fast powder cloud ran in front of t...  \n",
       "4  Three of us toured from Brighton to low saddle...  "
      ]
     },
     "execution_count": 2,
     "metadata": {},
     "output_type": "execute_result"
    }
   ],
   "source": [
    "df = pd.read_csv('./avalanches_data.csv')\n",
    "df.head()"
   ]
  },
  {
   "cell_type": "markdown",
   "id": "7cc10d2b-9b1e-46f4-9769-b9a0ac0c9e8f",
   "metadata": {
    "__GENERATED_DATAFRAMES__": "{\"nodeDataframes\":{},\"graphDataframes\":null}",
    "show_aggregate_original": "false",
    "trrack_graph": "ᯡ࠽䈌ʀ匦㢠⹰ૠ㌬Ā჻R〶䁃lyٹ⁓f䍐ۢ䧪㈉◔ฅޡ䨲⠠䬱䑁棒瀱Ⴭ⭱妻ݎẜʤ䐡傠ǖ悃РኤРᜰ結üメ浪巟㈠ᣠˬ⃪$熒‣㐡㬚͇⦲༿⸂໡壡‡犀⒂ଠᎭॣ䥡⊃㡹稠嬸ූᑤඦҡ哹䑀妨䤝͕䀺慽䈩瞤∡㼚ƶ嵖᯦悡檩ǣ᪀畖o#䖊⠃ܑ璌⃥⹾䞌᧒Т⺈ᆡ⇳㴑䒤㒌ŭ᯸丈◡戱⃰潅Ԧ秐噑๦磜疶溂⒀ᒪ扖⋦ူⶃ㧄మྡྷშ⨭རㅸ瘭ǅ爘䅐䘆砠址䑂㥨㈼㹯䕈䓵ᒹ憴婊③ᤠ "
   },
   "source": [
    "# Task 1: Refining Columns and Preparing Data\n",
    "\n",
    "In the first task we will perform some basic data cleaning operations to get our dataset ready for further tasks."
   ]
  },
  {
   "cell_type": "markdown",
   "id": "8934b219-dd97-4e3e-9aa9-0dd7a9d62ad5",
   "metadata": {
    "__GENERATED_DATAFRAMES__": "{\"nodeDataframes\":{},\"graphDataframes\":null}",
    "show_aggregate_original": "false",
    "trrack_graph": "ᯡ࠽䈌ʀ匦㢠⹰ૠ㬠氤〥䌸瀶䀹䁣๲ৠܦᔨҀᣴ䂼䋃‣ᓆ做►䀳ല⠠䭈⑁槑瀱ᝉ⍮冫㭮ẜʦ䒠ǁ#㕀挸晠ኤРᝣၐüムṁǟ㤉䀥䉸攠ʓ㥀ǔÚ⎃஥䤫䒄攭ᇸ惀Ēいᘦᖠೣ䗫⃂変ⱦ{ఽ咼∪⌤䋵汄ჹ䑈冣ᛠඉⵆܔ⍂Þ⍡歹ম悩溩Ǡ媁疖o#䖓瀃ʅ璌⁅溮杲◒Ъ⍁䔶户ࣉⓢ削౐䘰䵥䌂んḸئԢ灐糕൤㧶ⶬ䲱䅲ᗈ撯ౠ惍䈅䥐属ѣ၈⩍སヸ๗௧焤ᄸ䒰Ž䅰䔉燩壥༲刳樲⭮✈咰ᒄ  "
   },
   "source": [
    "### **Task 1a: Remove Columns**"
   ]
  },
  {
   "cell_type": "markdown",
   "id": "47b531d4-2e3a-4e9a-b92a-39aebfc3deb6",
   "metadata": {
    "__GENERATED_DATAFRAMES__": "{\"nodeDataframes\":{},\"graphDataframes\":null}",
    "show_aggregate_original": "false",
    "trrack_graph": "ᯡ࠽䈌ʀ匦㢠⹰ૠ㬠氤〥䌸瀶䀹䁣๲ৠܦᔨҀᣴ䂼䋃‣ᓆ做►䀳ല⠠䭈⑁槑瀱ᝉ⍮冫㭮ẜʦ䒠ǁ#㕀挸晠ኤРᝣၐüムṁǟ㤉䀥䉸攠ʓ㥀ǔÚ⎃஥䤫䒄攭ᇸ惀Ēいᘦᖠೣ䗫⃂変ⱦ{ఽ咼∪⌤䋵汄ჹ䑈冣ᛠඉⵆܔ⍂Þ⍡歹ম悩溩Ǡ媁疖o#䖓瀃ʅ璌⁅溮杲◒Ъ⍁䔶户ࣉⓢ削౐䘰䵥䌂んḸئԢ灐糕൤㧶ⶬ䲱䅲ᗈ撯ౠ惍䈅䥐属ѣ၈⩍སヸ๗௧焤ᄸ䒰Ž䅰䔉燩壥༲刳樲⭮✈咰ᒄ  "
   },
   "source": [
    "Remove the following columns to streamline the dataset for further analysis:\n",
    "\n",
    "- **_Comments 1:_** Contains textual comments not crucial for quantitative analysis.\n",
    "- **_Coordinates:_** Detailed location data not needed for the current scope of analysis."
   ]
  },
  {
   "cell_type": "markdown",
   "id": "aec9ad2a-ab09-4288-b8fa-2852bcddda1a",
   "metadata": {},
   "source": [
    "#### **Instructions**\n",
    "1. **Column Removal:**\n",
    "\t- Use the interactive table feature in PersIst to remove the specified columns.\n",
    "3. **Verify the Output:**\n",
    "\t- Print the head of the generated dataframe to verify the changes."
   ]
  },
  {
   "cell_type": "code",
   "execution_count": 3,
   "id": "8e333ff3-cb24-430b-a332-733b41570ba4",
   "metadata": {
    "__GENERATED_DATAFRAMES__": "ᯡࠩ䃬࿀ᜤᠹ悋ᐨ推̅ሣ䧠ⶠ卍捯ᥔᠣ℠▢dʘϔᝠ捌〤瀵摠៨⠠ ",
    "__has_persist_output": true,
    "editable": true,
    "slideshow": {
     "slide_type": ""
    },
    "tags": [],
    "trrack_graph": "ᯡ࠽䈌ʀ匦㢠⹰ˠ̡ᰧゃᠵ䁍Ôǒॠ፞⴨Ǡᆠㆴ䈣ᧆ滪⥦■⍄倡ᙰ䡣厅恌⾬䋕ⵦᜍᷚ簒䈰͢&怰恆ὤ䁅ШNႚ〡岁䋼℩㎎搳+झ⠠Ꮣ䤠ෂ΀͒⌉ᆌ䌦ⅅቔ䫢䞪㈰䰤䐸䍈͞⅍ངဥ樋甽♨㑝ፐヺ挥'䦡း墈㈬ཉᒻ婧倥壣ⴭ䉀䍐␤竤℡汥Ѵ䀤嘠欱懀㎌ᙰؓ欌ᙓ嘨ᗕ屜昪㶀ԐY滽㹐♭古ѥ昀瑑䳨ࠬ₰僄⑩䟢೉ㄥ፠⡐㹰䑑梈≥Ꮲ⌀䑇Ꮩ璯௢₉ᇭ࠰烅瑱౮ၩ቉ᩣየ恙ℯ၉ਬ७ȳǀ宺䶫抩㉶ཪಹ㙷៪ੰㅴ匑ె၄ 䔢࠳怠ᅐႝ*焹䁺䀸▄Ӏ徳⼢秊㾻䐴樠絽⃴㑁畟L୍愸ơ䊰ɚᡘ≤硬垦捉砸຦෧ٖƥ棁ᆃЦ奝㮇ᗩኀ㡜ࢢ⎰吺Ậ拐ᱎާ抱ɏҽ㗕䭎䟊∔⡌ପ≰ᡱ岉ᬢ㍙䧈嬚欭䈭嬍筋复ᨤ朩⌀㨈灑ؠʩ墌ߵ㸥‰ᬄߵ䁧䇡㧛⸗㏵焣㏶⾿琥䋀⛂☩Ṧጿ࢝ᩞɠĔ䉯砢;穚➥樊䍬@掽祜俦Ξ९穞䁍愡偯⎡絾筰ķࡐ嘫ΐ䣽ࡂభ৐ムℐ㘿π⓽ᎲᴩѨ粼∈䱘ۚ㡃梠籕玤㍢z⭹偀⎭㏜侻猜欼惠㘬࠶ᤸ寨勩⁶唺墈㫡塎⪩愢ء㰚䃸᪦烣灰⠺ᯰ壾ᩤ䓹᫆瓷䪨焭慹⃤᫙࣡教㨥摆㨩ᣆⰭᢆ䪸惴㜽⪊ᵶԺ卢¬ㆥ懠ⵡ䋺✾梠⡆ך硑妚₤ᅼ幇ᤵ䅶䢪٢䅒⥭䣪乻䬈漱協ᛳ厔座䉐ᐿɤǢㅬᇦ憮▤祮᧯㉾Ꭹ㢨玲狌痳㤎㷩䀾倢磵叼笾秽㫼寨䧘䟹稁埥㊑㜫礞ీࠑ㓞ԡ㐥硡ब榅峷᠅䑄⟕ӝ⼯䞁屘☢ɂ⇰☭Ő䨺ᡂ☡䃠ᐱₖ㙣ƒ䈪ʃ簸᫄ఫ䅐牮┘ྫ焜ᜥ◉㜪∶夤婈狥ⅶ甶妈ℤ杴⁲䉲ဣ⪘ᚃ┶㤡↶攲姈᫳⏶洱尊䂧樆罆攥筊ᣦ㣢ᕥ佃ᨼ† "
   },
   "outputs": [
    {
     "data": {
      "application/vnd.jupyter.widget-view+json": {
       "model_id": "29db5196de804d44af401735981110fe",
       "version_major": 2,
       "version_minor": 0
      },
      "text/plain": [
       "PersistWidget(data_values=[{'__id_column': '1', ';Region': 'Salt Lake', 'Month': 11, 'Day': 9, 'Year': 2012, '…"
      ]
     },
     "execution_count": 3,
     "metadata": {},
     "output_type": "execute_result"
    }
   ],
   "source": [
    "PR.PersistTable(df, df_name=\"df_task_1a\")"
   ]
  },
  {
   "cell_type": "code",
   "execution_count": 4,
   "id": "2d56db61-c9f6-4a1d-ab73-5510a68cfe2c",
   "metadata": {},
   "outputs": [
    {
     "data": {
      "text/html": [
       "<div>\n",
       "<style scoped>\n",
       "    .dataframe tbody tr th:only-of-type {\n",
       "        vertical-align: middle;\n",
       "    }\n",
       "\n",
       "    .dataframe tbody tr th {\n",
       "        vertical-align: top;\n",
       "    }\n",
       "\n",
       "    .dataframe thead th {\n",
       "        text-align: right;\n",
       "    }\n",
       "</style>\n",
       "<table border=\"1\" class=\"dataframe\">\n",
       "  <thead>\n",
       "    <tr style=\"text-align: right;\">\n",
       "      <th></th>\n",
       "      <th>;Region</th>\n",
       "      <th>Month</th>\n",
       "      <th>Day</th>\n",
       "      <th>Year</th>\n",
       "      <th>;Trigger</th>\n",
       "      <th>;Weak Layer</th>\n",
       "      <th>Depth_inches</th>\n",
       "      <th>Vertical_inches</th>\n",
       "      <th>;Aspect</th>\n",
       "      <th>Elevation_feet</th>\n",
       "    </tr>\n",
       "  </thead>\n",
       "  <tbody>\n",
       "    <tr>\n",
       "      <th>0</th>\n",
       "      <td>Salt Lake</td>\n",
       "      <td>11</td>\n",
       "      <td>9</td>\n",
       "      <td>2012</td>\n",
       "      <td>Snowboarder</td>\n",
       "      <td>New Snow/Old Snow Interface</td>\n",
       "      <td>14.0</td>\n",
       "      <td>360.0</td>\n",
       "      <td>North</td>\n",
       "      <td>10400.0</td>\n",
       "    </tr>\n",
       "    <tr>\n",
       "      <th>1</th>\n",
       "      <td>Salt Lake</td>\n",
       "      <td>11</td>\n",
       "      <td>11</td>\n",
       "      <td>2012</td>\n",
       "      <td>Skier</td>\n",
       "      <td>New Snow/Old Snow Interface</td>\n",
       "      <td>30.0</td>\n",
       "      <td>1200.0</td>\n",
       "      <td>North</td>\n",
       "      <td>9700.0</td>\n",
       "    </tr>\n",
       "    <tr>\n",
       "      <th>2</th>\n",
       "      <td>Salt Lake</td>\n",
       "      <td>11</td>\n",
       "      <td>11</td>\n",
       "      <td>2012</td>\n",
       "      <td>Skier</td>\n",
       "      <td>Facets</td>\n",
       "      <td>36.0</td>\n",
       "      <td>5400.0</td>\n",
       "      <td>North</td>\n",
       "      <td>10200.0</td>\n",
       "    </tr>\n",
       "    <tr>\n",
       "      <th>3</th>\n",
       "      <td>Salt Lake</td>\n",
       "      <td>11</td>\n",
       "      <td>11</td>\n",
       "      <td>2012</td>\n",
       "      <td>Skier</td>\n",
       "      <td>New Snow</td>\n",
       "      <td>18.0\"</td>\n",
       "      <td>6000.0</td>\n",
       "      <td>Southeast</td>\n",
       "      <td>10200.0</td>\n",
       "    </tr>\n",
       "    <tr>\n",
       "      <th>4</th>\n",
       "      <td>Salt Lake</td>\n",
       "      <td>11</td>\n",
       "      <td>11</td>\n",
       "      <td>2012</td>\n",
       "      <td>Skier</td>\n",
       "      <td>Facets</td>\n",
       "      <td>42.0</td>\n",
       "      <td>9600.0</td>\n",
       "      <td>North</td>\n",
       "      <td>10400.0</td>\n",
       "    </tr>\n",
       "  </tbody>\n",
       "</table>\n",
       "</div>"
      ],
      "text/plain": [
       "     ;Region  Month  Day  Year     ;Trigger                  ;Weak Layer  \\\n",
       "0  Salt Lake     11    9  2012  Snowboarder  New Snow/Old Snow Interface   \n",
       "1  Salt Lake     11   11  2012        Skier  New Snow/Old Snow Interface   \n",
       "2  Salt Lake     11   11  2012        Skier                       Facets   \n",
       "3  Salt Lake     11   11  2012        Skier                     New Snow   \n",
       "4  Salt Lake     11   11  2012        Skier                       Facets   \n",
       "\n",
       "  Depth_inches  Vertical_inches    ;Aspect  Elevation_feet  \n",
       "0         14.0            360.0      North         10400.0  \n",
       "1         30.0           1200.0      North          9700.0  \n",
       "2         36.0           5400.0      North         10200.0  \n",
       "3        18.0\"           6000.0  Southeast         10200.0  \n",
       "4         42.0           9600.0      North         10400.0  "
      ]
     },
     "execution_count": 4,
     "metadata": {},
     "output_type": "execute_result"
    }
   ],
   "source": [
    "df_task_1a.head()"
   ]
  },
  {
   "cell_type": "markdown",
   "id": "36c62d50-9c88-4ed9-8c97-e552a6e4c620",
   "metadata": {},
   "source": [
    "### **Task 1b: Fix Column Names**"
   ]
  },
  {
   "cell_type": "markdown",
   "id": "ab8f8f24-afd2-424f-ab34-3e3cde723aa3",
   "metadata": {
    "trrack_graph": "ᯡ࠽䈌ʀ匦㢠⹰ࢀㆪこ<ǐʀ୥崡汤Ɓ䔠⍂⠨撂䂼ì债晶堪慯掩ᐠ▴ሰ璹㤨䮲减ⓥ䢧᜾㺣䉠ð䀡壅冨㕀ॢȠ௞䠸ᢀ眰䅽忖䀢晐樠Ԃ牠ΈƔڦ❓ሠƠ暬ॡ声Ȅ恨䙜⬮ಬ俨⫣䞐డ㙐᬴⣔䰲ճ㌰䊆၂۔欠㖹┰᧶༨̘ඛฌ琻ɋ㉄ܠ榡哸Ŝ.ؗ⾬ള勑̵㯺ᱱ曨ဩᒡᾪ३⁂惡৒ј⪖ᩋࢶ䥣䍢ᇃ⢀☾ԣ䖎㑝䳓ⳄⓀ᪱ĦҐ戤׌㝔䆦成扉ڠ凈㨣ೣㅘ湏Bࡤ䒠ଈତޗ٩䟨㣜㥨◈ᩲ㭡⟢䀠 "
   },
   "source": [
    "It looks like something went wrong when reading the file and some column headers start with a `;`. **Please remove the semicolon from all headers**. "
   ]
  },
  {
   "cell_type": "markdown",
   "id": "63f4d5c5-9383-4857-beae-0cfa6ba466f2",
   "metadata": {},
   "source": [
    "#### **Instructions**\n",
    "1. **Rename Columns:**\n",
    "    - Use the interactive  table in Persist to correct the column names by removing the leading `;` from their names:\n",
    "        - _;Aspect_ → _Aspect_\n",
    "        - _;Region_ → _Region_\n",
    "        - _;Trigger_ → _Trigger_\n",
    "        - _;Weak Layer_ → _Weak Layer_\n",
    "2. **Verify the Output:**\n",
    "\t- Print the head of the generated dataframe to verify the changes."
   ]
  },
  {
   "cell_type": "code",
   "execution_count": 5,
   "id": "e74dd265-2437-40e4-8673-be7ea1d079b3",
   "metadata": {
    "__GENERATED_DATAFRAMES__": "ᯡࠩ䃬࿀ᜤᠹ悋ᐨ怱䐢犲ǩ怶恉宑召䵬ð䀲悠ᄡḡ沯偑嬸Ř˛ࠥ笪  ",
    "__has_persist_output": true,
    "trrack_graph": "ᯡ࠽䈌ʀ匦㢠⹰悆Ĭʅ₼ǐƀ୪䀦ᑱࡖæ⊑挮⋃擮ĹС怵䞠㬲⠠䭈⑀棒爱ᝉⵦຣጶ㘬尩稩#℠Ύ䀨挠扠ኤР᝝䤠湐愎Ⴂ巟㍠ˤ⃴3姩-儦瀡䳁ᠼ䱈ㆱᾦ੥⊠䞑ৰ˦Ӵ㫊t䁋௧ࠢ瘔ِ➓≉ὦ䐾䇑䅠Ȅ恨๢椾ܳ௫愆爷琡㙐ᮔエᴬथ᧑ࡢ㬰ℵႃ㖠᫬㺠໽ִƝ笛▨稭ۡۑ室Ⳡ暌¾'ᏻ䟩ⷖ碡ࣙ瘧ᴫ⪩扗§䋀㑾ᴪ⤰桜Հ⃡桪ᴭ抰ᰲ࿆䉢儃ឤ簉⼯䉨櫂ⴰᤃ⠉ᆈ噏੄沄ⵁ䦄㤼⦠⤴▐ⰱᏲㅘ䅄䫓楬孋䰅ւ匪⯸䙳ᛎ獙栩䀠⇀…5晓UWˣ!曫⇆悠㗆䗅㟓⫮⮤ȩ䄊䰠߶欕ͷ䰇磽储İ䐨ว̦煰∼ⷦ戨䱚̢ᇘ㡪㍥ᇰิё兓࣑䈠泾緓兂䧐籑٠兲╝ࣦㅸ癆䷂࠺⚫⻵ⷚ剏⿴ಐĠ湔䷆摌潕妺䭱濂汀州梓嵮妠→岎秨ܣࢀH呔儏Ꮘȫ弊怫椎屝䵯吪⚜⁲曣焢⃰吡ǜቀ䜑఺౩徆一␠ར糟Ị糽ߍ璕㻉楮』糼‼͠簁˼␶ᆀ滊結 ᄸ§䇑ㆪ∘ᔩ౳㜠ₐѠ䗰⑀⃣⼪䅰ܡ৉⺮䉄ᩎሔ⸵Ȱ䓠ƥ䡡倡㌈‗棠丩䱆峳于໳乔䎆籔᠇籎ᓷ熎ዑ䡕幧囪৓⣍䞧灢ᶒ呕ே⻁屔䛱噒䄑䪢⚬㵒Ⴙ孕昼ὕႥ䚄ᆎϨ䙱䙓䘩䁍♡⑉暙䃒ᚵӣᢶ൴橞䔮ᨠՠႨ㍬棠£⭺൬呵⫀ቚ✰ઁˋ椵㽡倦䂸ᇌ့䌸Ƚ䝆ಣ䆰䰾䞱哰奭㰤〨棰印庸妩㋭垤⢸⥒ㅵၪ๺⮒奯䦘⻵傔⺧刔Ư̐婕Ʈ⦦㇬ֶ㡚㮡㤌㶠燾㎳㢨䮺狼疿␎堸硤叶犠寫璠毾࿌篱獜瞵篞俹➞㖨⟕ㆢŘ笼⠁䥆é彬I㞲߉筵ةု笩ਤ価ृ噳ᑆ䷳ے坵≕簓⛀⠃坦ġ⮧ғ籐䔃啖ᒐ樼ᒡ∸抐㨠䋀⠠⏋ᨺര⩇Ȭึீ帷᭲㵛愜㾠ࣸፂ墀⫶⋶Զ䉖唥墈݇⍙❶劀痨㒭ᇊᤰ৔䅭烦㙤挾㙍旔䋍㰺អ䇘㚭ऊ᳧溹䏧䔌䝇唑⬅ᕴ毚䋖☺⍠ϊ再䇈9㨢秊浳㐻稤潻箜气Ꮕ審刵⠝ᾧ歶ᡥ䃜籠䠤᱁䤳ย䣎⼧嚈㱭ࣀ㤠㜘競˽ே૜扻玲犊䫸ふ䱒櫙௒䠡┿ྍ㰛ⷾ幘㒝憾䔊þ䴂Ɐ匦䶣穋倔᮫㡡垐↱炾㐯ṫ恦⒄䅈測棲㢀䷡ㆤࡋဆ㌬Ⴖ䊌☻⎀硤ŀ岻㧜䩉ὗᔡ㚊㑀⇌橄恬䍙䫘⦭㬓㶔㜶玎䆀囤⅁巷尤ㆥᦫᯕᓑƖ㞁㦊慊ⱂ游惀Գ徾İᑡ⽊z㨣⊈¨㐲ჸឨ疭Ā㗑畛㉒䞃Æ⥀⻢攄໒ᐭ䮛㪤灟㊒䪨๨ડ殦㳃ນࠢ硍㾱棕烾⸇ࣛ愱篲㢂嚀扐⚒ᡪ⽬ҩᡭ৊ᬲ倯㸘䝋ᕞ⪐囁垃†䅘Ę殩渺䕲㕎愧嗈崨禕❡甩爬ҊⱧ慁⇻ᷦ劋⚡㧭ᇒ✾╎仩Ⓑ⯸㝰㧘ጣᣏ̟⯶乥䓲း峫䠔殠ೀⴐ䂌գ౑䲄ヸᐱį䕩ᡃౄܦ惞ը優ጹ㞱ਵ⇼᭣㱇帘㿙䗓טࢳ䤒ು⺅秔撈ൔ碥䉣↕怢珪憉ㄥ⡏ᙀӃ⾻Ⴡጠ≊̰㺆䒚ᅤ哩ೌ⡀᰽审⁊ͦ▮᰻㇑ބ皆┃喥扝䇐呓㊘宄㤡ᑐ㼸䀤୩⺺恽᳨㦛孹៕猛ደŰ棚䀰絈ੲ⚵劂硤欖攀冩ḏ䨑ῥ䜨  "
   },
   "outputs": [
    {
     "data": {
      "application/vnd.jupyter.widget-view+json": {
       "model_id": "e488273a1d064841b711c5eb92f45c1f",
       "version_major": 2,
       "version_minor": 0
      },
      "text/plain": [
       "PersistWidget(data_values=[{'__id_column': '1', ';Region': 'Salt Lake', 'Month': 11, 'Day': 9, 'Year': 2012, '…"
      ]
     },
     "execution_count": 5,
     "metadata": {},
     "output_type": "execute_result"
    }
   ],
   "source": [
    "PR.PersistTable(df_task_1a, df_name=\"df_task_1b\")"
   ]
  },
  {
   "cell_type": "code",
   "execution_count": 7,
   "id": "328d34c1-139b-4a1b-9118-ac4a963dffb8",
   "metadata": {},
   "outputs": [
    {
     "data": {
      "text/html": [
       "<div>\n",
       "<style scoped>\n",
       "    .dataframe tbody tr th:only-of-type {\n",
       "        vertical-align: middle;\n",
       "    }\n",
       "\n",
       "    .dataframe tbody tr th {\n",
       "        vertical-align: top;\n",
       "    }\n",
       "\n",
       "    .dataframe thead th {\n",
       "        text-align: right;\n",
       "    }\n",
       "</style>\n",
       "<table border=\"1\" class=\"dataframe\">\n",
       "  <thead>\n",
       "    <tr style=\"text-align: right;\">\n",
       "      <th></th>\n",
       "      <th>Region</th>\n",
       "      <th>Month</th>\n",
       "      <th>Day</th>\n",
       "      <th>Year</th>\n",
       "      <th>Trigger</th>\n",
       "      <th>Weak Layer</th>\n",
       "      <th>Depth_inches</th>\n",
       "      <th>Vertical_inches</th>\n",
       "      <th>Aspect</th>\n",
       "      <th>Elevation_feet</th>\n",
       "    </tr>\n",
       "  </thead>\n",
       "  <tbody>\n",
       "    <tr>\n",
       "      <th>0</th>\n",
       "      <td>Salt Lake</td>\n",
       "      <td>11</td>\n",
       "      <td>9</td>\n",
       "      <td>2012</td>\n",
       "      <td>Snowboarder</td>\n",
       "      <td>New Snow/Old Snow Interface</td>\n",
       "      <td>14.0</td>\n",
       "      <td>360.0</td>\n",
       "      <td>North</td>\n",
       "      <td>10400.0</td>\n",
       "    </tr>\n",
       "    <tr>\n",
       "      <th>1</th>\n",
       "      <td>Salt Lake</td>\n",
       "      <td>11</td>\n",
       "      <td>11</td>\n",
       "      <td>2012</td>\n",
       "      <td>Skier</td>\n",
       "      <td>New Snow/Old Snow Interface</td>\n",
       "      <td>30.0</td>\n",
       "      <td>1200.0</td>\n",
       "      <td>North</td>\n",
       "      <td>9700.0</td>\n",
       "    </tr>\n",
       "    <tr>\n",
       "      <th>2</th>\n",
       "      <td>Salt Lake</td>\n",
       "      <td>11</td>\n",
       "      <td>11</td>\n",
       "      <td>2012</td>\n",
       "      <td>Skier</td>\n",
       "      <td>Facets</td>\n",
       "      <td>36.0</td>\n",
       "      <td>5400.0</td>\n",
       "      <td>North</td>\n",
       "      <td>10200.0</td>\n",
       "    </tr>\n",
       "    <tr>\n",
       "      <th>3</th>\n",
       "      <td>Salt Lake</td>\n",
       "      <td>11</td>\n",
       "      <td>11</td>\n",
       "      <td>2012</td>\n",
       "      <td>Skier</td>\n",
       "      <td>New Snow</td>\n",
       "      <td>18.0\"</td>\n",
       "      <td>6000.0</td>\n",
       "      <td>Southeast</td>\n",
       "      <td>10200.0</td>\n",
       "    </tr>\n",
       "    <tr>\n",
       "      <th>4</th>\n",
       "      <td>Salt Lake</td>\n",
       "      <td>11</td>\n",
       "      <td>11</td>\n",
       "      <td>2012</td>\n",
       "      <td>Skier</td>\n",
       "      <td>Facets</td>\n",
       "      <td>42.0</td>\n",
       "      <td>9600.0</td>\n",
       "      <td>North</td>\n",
       "      <td>10400.0</td>\n",
       "    </tr>\n",
       "  </tbody>\n",
       "</table>\n",
       "</div>"
      ],
      "text/plain": [
       "      Region  Month  Day  Year      Trigger                   Weak Layer  \\\n",
       "0  Salt Lake     11    9  2012  Snowboarder  New Snow/Old Snow Interface   \n",
       "1  Salt Lake     11   11  2012        Skier  New Snow/Old Snow Interface   \n",
       "2  Salt Lake     11   11  2012        Skier                       Facets   \n",
       "3  Salt Lake     11   11  2012        Skier                     New Snow   \n",
       "4  Salt Lake     11   11  2012        Skier                       Facets   \n",
       "\n",
       "  Depth_inches  Vertical_inches     Aspect  Elevation_feet  \n",
       "0         14.0            360.0      North         10400.0  \n",
       "1         30.0           1200.0      North          9700.0  \n",
       "2         36.0           5400.0      North         10200.0  \n",
       "3        18.0\"           6000.0  Southeast         10200.0  \n",
       "4         42.0           9600.0      North         10400.0  "
      ]
     },
     "execution_count": 7,
     "metadata": {},
     "output_type": "execute_result"
    }
   ],
   "source": [
    "df_task_1b.head()"
   ]
  },
  {
   "cell_type": "markdown",
   "id": "3875e7fc-ec40-4241-aa94-87b31e59944f",
   "metadata": {},
   "source": [
    "## **Task 1c: Correcting Data Type of 'Depth_inches'**"
   ]
  },
  {
   "cell_type": "markdown",
   "id": "7a7eebda-1b60-4bff-89d3-a5548a601b49",
   "metadata": {},
   "source": [
    "There is a data type issue in the `Depth_inches` column of our dataframe. This column is incorrectly formatted as an object (string) due to the presence of the inches symbol `\"`.\n",
    "\n",
    "Remove any inches symbols `\"` from the `Depth_inches` column and convert it to a float data type."
   ]
  },
  {
   "cell_type": "code",
   "execution_count": 8,
   "id": "fb9bff61-9a8d-4114-97f3-4f6d0cd0e61e",
   "metadata": {},
   "outputs": [
    {
     "data": {
      "text/plain": [
       "Region             string[python]\n",
       "Month                       Int64\n",
       "Day                         Int64\n",
       "Year                        Int64\n",
       "Trigger            string[python]\n",
       "Weak Layer         string[python]\n",
       "Depth_inches       string[python]\n",
       "Vertical_inches           Float64\n",
       "Aspect             string[python]\n",
       "Elevation_feet            Float64\n",
       "dtype: object"
      ]
     },
     "execution_count": 8,
     "metadata": {},
     "output_type": "execute_result"
    }
   ],
   "source": [
    "df_task_1b.dtypes"
   ]
  },
  {
   "cell_type": "markdown",
   "id": "b23913ac-ea3c-4ca1-8ac3-07d3026ca76e",
   "metadata": {
    "__GENERATED_DATAFRAMES__": "{\"nodeDataframes\":{},\"graphDataframes\":null}",
    "show_aggregate_original": "false",
    "trrack_graph": "ᯡ࠽䈌ʀ匦㢠⹰ೠ↺΀Ơ瘢ᠢᠫ‵䁇ፉ䐢怣侽振ၑ䶃᪰঵䂆⹉多䪲┠অҤᴶṂ㊵嘊᭓ㄅ毠㒰䣑Tဠ㚉҃೨ɰ䂠̂҆;䘸Ϥၗ眼䋐Ð䬹†于␠㚠ᝨ沂烒⎁൸憈㬸ᐠṬү䓧Ⴠ椓ᣘ⌚ᆠᛦކ䜱ǁ䅀㖖नຂᩈ桫〦塵偢㶱⢠⾱䂅埦䖃塀㪂ₐ暸ᵽ䀳怠煼砤慸㴻ࠩ㯏姭ঌ䄢䣫䧙㱈刱ㄿᬦ䩫⏃㌱楫磤ⰴຣα晼ਫ䎁㺕䮃Ⴤご䖂᥂挰ы゙㈬ܠ₰ᑊІ僑汮ޯ戩䉱៪怡⹁ᡤ甑擸抯॰ᡬᅓ╄璚╄㈠ "
   },
   "source": [
    "#### **Instructions**\n",
    "1. **Identify Entries with Inches Symbol:**\n",
    "    - Use the interactive table in Persist to look for rows with `\"` in `Depth_inches` column\n",
    "    - _Hint_: You can search in the interactive table\n",
    "2. **Edit and Correct Entries:**\n",
    "    - Edit the cells to remove the inches symbol from these entries. (e.g. `15\"` → `15`)\n",
    "3. **Convert Data Type:**\n",
    "    - Change the data type of the `Depth_inches` column from string to float.\n",
    "3. **Verify the Output:**\n",
    "\t- Print the head of the generated dataframe to verify the changes."
   ]
  },
  {
   "cell_type": "code",
   "execution_count": 9,
   "id": "7cb9b796-3aa5-4181-bf91-fa8ba7e33c20",
   "metadata": {
    "__GENERATED_DATAFRAMES__": "ᯡࠩ䃬࿀ᜤᠹ悋ᐨ恑䐢犲ǩ怶恉宑召䵬ð䀲悠ᄡḡ沯妶ᠢ㠪癀ఄᐠ ",
    "__has_persist_output": true,
    "trrack_graph": "ᯡ࠽䈌ʀ匦㢠⹰ڀ㌬ِࣳ⠣䁍n☢妬ါclᔮ沑ᤩ啑Ǹ畿壔戤䥠ɹ⅁ݥ䮠䓙╺٬⳸㮕砈᱀ڤ-䛖ಝ䤠䨰ဠ屡瓠Α䌣㢤̕涰䰠ᛃ竀¼乨ࠠඥţ⇁䎃娐攑⪐䘪䴱䚦䀤㇁㥑䑔簠̺ἤ+号桘䲱䖚䱀䴵䘪/ጢ⎅㦫䘁扚㡥Ἳḷ倥壡Ⲉ≀ᩐ␬櫴℥污մ䇑ᘠ欩䴠㞔ᅰؓ樼噰㒸⬤۶渹㌧᫐ʘ<⿎Ὄ⻧截ፙẛڪ㍀ₑቢ䧁携᱅Ȱご᱌⭰〮Ō⮅д㖦䃅⦌ಢ稉潏剤梃ⴰᔇ☉ᆈ噏ऴ䦊ᕆ捐᥼❇䠴䕲峁գ⹦ヌ摄沸㎰ኅ㴜僂⦵ṣᣮҠuߪƉ娠ņħ栠圩䰧吡搠ࢬȒ姜^䠻秠ᚽཾဠẚ唯⫐₶癿!榪இ䭶ͼ㛈䖀㭐ፉ䣵稜⃚昷成ᑡⶣℨẴέ僈㉛౳傑ᑆͦᅓ㨺ݤ悘䪾䈔᲼᜴䆡愐≉Ŧ刈䙓૧ㅘḿB৪䛓⫰痶ế⁒ಘ烘❤䷆妤გⱺ嗚㗑汀緁沐㷮禠░崎Ꮎ䜧ࢀH䔢䆁瞨⨡^₃Ⱑ繇଒㳚嘄糿У㙶ߡʀ呅0Є䡡Єᠩ另䇾በĔ牴䢠偤橡ᣮᡆ紴掼䑙ۘ呝бⱗբ㴨䜺䡆䂀⸪嬴䨿ʀᐼ፰ᰮ䈰簦䆐䔼ᆀ⨨ᠨ⨫䆐婧⍱䤣䁨囥厁圧غ፬栠㤺Ց愂᥀浛⤋ᶏ༡ᒵᬁ哬ᧅᣈਈ䳖ᴪ沰Ҧ哈໅⃇᷆墢ᐶ⑀樺楍䰒ゟ䠫᱓̠偩ീ筙࿺ᑁ拂䞕ř㒉擄౺丫㉋榻㎂஻獎ࡺܲ晸⭢ո歚惹᭚ݐ䔰੷䈼枸ୂ换檺๺⮊死炚棻ᮊ䒁橷׈疙悉൳⺋⵻⾉ᵐ̉崯⌄絬栈̫ⶱ桰渹汧Ը䁲Ἲ፯Ё籠䰰㘨䣸牼敢࢜䱱࠴䜱ᢗ棣䭒¸剮З㈶瀅卮晈抟嫫ሮ⺱敼䃈օ⭛⥖䧳㩾俲ڐ䗣䉼䃰䁉䍑晝涀ཕ䠘体撓«䎚䒋䮓湭䤛ὗ战㧙䐤ṝ&׭䈧Ẑᅪ岈ᬤ夘ᇑ沰ݤ渦ဴ䀼ስ旳ᬀ伐啥㲺ᓎ涚ᤇ涇ᬅ㘗ᬁ碒俏㳺᲌嗳㗇嘆ᡥ䅋㄰恺ס⠴ॠ恀曡⡚ඡ࠺悸ᬌϡ₁䚣あ丰⌄栐ŀ▃拤嬃ዹ߸ᑡ泀䝕๚㑉汁⼺䤃䅚֘㝬༔ॏ妠编〗だ㡣ǰカࠨ㻴⑱✗㈯哼察弳尗槽栰㸌篞絕啩བ畈ӕ瓵庄㛋ἠ盏⟈亳墖͒ڔ⍫姸漒ᒹ㰴攗匰٣੐硃㢜摕獞ࡕ䠾䡙㉒աᠳȐᜠ帶懖౔䡎刊䫍⫥䩸䍾唺䲈⛋⯽ᴁ捥柦ᗤ⛤ર含㥉垒ᘭᣌᵒ஍䏸Τ暷䋭㞿䱈⨒恏᪞㷥q㋸ᆋ糔ሡ⁦䡁Ἢ␬宁ᛐ℣ㅢ䞁䈺⚍ţ涢书䋉笴➷孃㍢➍ᅎ掤庭敀儙媽娻㋒䤟ᆱ垇牁⬁ֿለጢ⭜ቈ༴恱ᅠ⠪ⲔΐṆ²֡ῒ㫿⪕䔬灪Ⓧ泙潀Ω↧ᕡ䜦䉮㚥宊䑊␦䁷䔜⿥䃘Ḛ䩕Ѐ㠕罺ࠞ䀼ǀ´ሽዓፇ㊇稄䈩罌䱉㐠Šሢ♕⦆即㕊篏૴婍瓒ⷍ㋎伉篤瑸ᤛຽ̴ᨐ崮撰Ⰷ㫩䤔榴ნࡓੀְ≆甴⛀⠭Ⳃ⡐禡᳐᱀渵͟ㅤ⦐ྌ⯇⸭樕彷瓄䊘㮷㧯㡕ಔ໦ק䛫䡬疸䀨㲻㜵ᢰ狤ẚ㋁珬曷佢徫䶘➻彋Ы㜬⋎ඥ㸽磀ࡃ勥内巻䄨≋ㆭ⭓ࣶԹ㚚ᕒ竹◤⇻呩䙑㚱椊⴪㨢恊ᒃቜ䫔ⷺⱨ̴Ⱕ⑦所⠢Ⲩ䕡㠰⒈лຖⅰᇫঋ䟠䓊㢱ⶅ六ᴂ䑇㎸✖ѯ╢熩泊⸩᾵ᗶ㓈଑汩⊌盯坡ዀ綳₧ὸ䰶ᅐആ〥枀ᗫᒿ䝹ݸ⁛ᴋ⻝殮⯴絿否挐璠ض砥䀠玝◲庶娶⧕孯桀䊄8彠‫⎤ᔧᶋ僞䩬媆䄉硾ᦳⰡ厝槿૨储ஹ圡⧏斳夣綒㽄ᩧ॔煭㒢ዄ嘋䚨ӘӨデអ࡮犠㕐䌒౥ڍℷ䙌瑍䴏ᎺṒᘓ᠇ㄔⴁ䁊㸂昤ɂҤ₴䑱ᖨ檪Щ䂠䜬盘∵ق≿⸖㒙宒砍㻞ⷢ೰㉦⌐忑䩭倗㓀䟒信囐ύࡀ淉儧瓉箙㸖奥䑈殧嚎Ħᐩ端晐筋ᅤ䅚ᑔ啠΁䂂䄀㻰ЖⰅ墝ⵠ氡⴫⃰!⡡ȧ䇰ࠉ᳴ᦲ椤䗄嫌ೖ椽ኊ息❬甩ᤨ㖉⁽克ᑫ幅犥㭄戣ႚ≶䬩汙拇秪ፒ壙抎⬈ឦᨠ䒡⃿㘄ऋ㭅樮㾠㵩枚秬峥ᕘ† "
   },
   "outputs": [
    {
     "data": {
      "application/vnd.jupyter.widget-view+json": {
       "model_id": "f0242391270142b38b1d62636df80d57",
       "version_major": 2,
       "version_minor": 0
      },
      "text/plain": [
       "PersistWidget(data_values=[{'__id_column': '1', 'Region': 'Salt Lake', 'Month': 11, 'Day': 9, 'Year': 2012, 'T…"
      ]
     },
     "execution_count": 9,
     "metadata": {},
     "output_type": "execute_result"
    }
   ],
   "source": [
    "PR.PersistTable(df_task_1b, df_name=\"df_task_1c\")"
   ]
  },
  {
   "cell_type": "code",
   "execution_count": 10,
   "id": "39619221-d709-4a85-a954-cb42738083e3",
   "metadata": {},
   "outputs": [
    {
     "data": {
      "text/plain": [
       "Region             string[python]\n",
       "Month                       Int64\n",
       "Day                         Int64\n",
       "Year                        Int64\n",
       "Trigger            string[python]\n",
       "Weak Layer         string[python]\n",
       "Depth_inches              Float64\n",
       "Vertical_inches           Float64\n",
       "Aspect             string[python]\n",
       "Elevation_feet            Float64\n",
       "dtype: object"
      ]
     },
     "execution_count": 10,
     "metadata": {},
     "output_type": "execute_result"
    }
   ],
   "source": [
    "df_task_1c.dtypes"
   ]
  },
  {
   "cell_type": "markdown",
   "id": "753ed0a8-dc0b-4ac8-8afd-b554ea8f4d28",
   "metadata": {},
   "source": [
    "# Task 2: Filtering data\n",
    "\n",
    "In Task 2, we further improve our data by removing outliers and removing certain records to have more consistent data. "
   ]
  },
  {
   "cell_type": "markdown",
   "id": "7f25d8f5-98e8-4b0f-9358-ed85f77cbed8",
   "metadata": {},
   "source": [
    "## **Task 2a: Remove Outliers**"
   ]
  },
  {
   "cell_type": "markdown",
   "id": "ac53a605-2d10-4457-9625-70ce88f04f3b",
   "metadata": {},
   "source": [
    "In this task, we address data accuracy by filtering out anomalies in the elevation data. We observe some records with elevations outside the plausible range for Utah, suggesting recording errors.\n",
    "\n",
    "**Remove avalanche records with elevations below ~4,000 feet and above ~15,000 feet, which are outside the realistic range for Utah.**"
   ]
  },
  {
   "cell_type": "markdown",
   "id": "664c641e-1193-4233-8897-0161f209c86f",
   "metadata": {},
   "source": [
    "#### **Instructions**\n",
    "1. **Identify and Remove Anomalies:**\n",
    "    - Interactively select data points with elevations below ~4,000 feet or above ~15,000 feet in the Persist Scatterplot.\n",
    "    - Use Persist's interactive features to remove these anomalous records.\n",
    "2. **Verify the Output:**\n",
    "    - Print the head of the generated dataframe to verify the changes."
   ]
  },
  {
   "cell_type": "code",
   "execution_count": 11,
   "id": "73d5727a-f059-4bf3-977c-1ce0d6d92eba",
   "metadata": {
    "__GENERATED_DATAFRAMES__": "ᯡࠩ䃬࿀ᜤᠹ悋ᐤ推̅ሣ䧠ⶠ卍捯ᥔᠣ℠▢dʘϔᝠ捌〤瀵摠៨⠠ ",
    "__has_persist_output": true,
    "trrack_graph": "ᯡ࠽䈌ʀ匦㢠⹰ೠପё€ǒ〶䀣ጡⱲ୸婒࠳䀧ᵢ砤㟘䃦拹敝ᬠ♄倡ᙰ䡣内恂⹲嫍Ά㓌ᷚ簔र͢&榭䙁咠┨ࠠ⹀ڀǘ憣屢֖绨ᜠ୑䍈3䗩-儠ϑ奂㢌㉔᥁྾䗥Ⅼኁ㣩䒹䢸ਬா䔣䆣扤䀡㨦䍇ᦲᢠ既ೡ壡‡犀␼⒑᢯ཤᒬ㉒∲ؠ嬸ෆᑤদң䳹䑀㶨ズ䠻᫠අ᳢ࠏ䋊Þ΃嫠೫ᎀ䋹淢嚀ୖo#丝栄⿹㸰ᢵ朒Ჸ㦹Ġ⑲ᨯţ㊸Ḳ䁉烙ⴳӂガㄧр偣Ůྦྷ抏Ƴ爙⑍భ厛伔䆺ᖫ抩㉧ի匌晻ᗪㄙⅸ啋䪵ᑆྑᦑɩᅩ劈٫ᇩ爥ᅤ午⫾ㆴ撤䀠㊹䑷㓀!*Ꮛ䆋۠߱岀妱倠儀梁䲤㓸၃┠ᠬjẨ校咀₺无䋍႟朤㪤Ω༌篈ᨪఎ稊傛䜧櫘㭓〄Ѣ䶤⹳ᄪ帲⚢䄃⩄⅔ᄸ簽೥䇰㑄ⲩ屰檡䘖ᱼ㝔䆦成≉Ţ傈㨳˧ㅘḿFড়檍ᗴ洚ư摄㞐䣝ൕ丆⡲拓㗶拮某䄮揉攔崶僸䞕朾涡䜠䢀፭残㸶ᐡîƠż怰୙ྫ旅潗昘‿㇐縸Ⴅ慈 弴䄨彑䌀擂உ㸴䀡琴䂯ʦᐨ⇹仅晀ጀ慸㷡憘₪⇤㷡ᅐ䃤凴⩣჆ไや᪒皔ഡ岌ᵤ惤Ấ䔘則慼ᆣ炸ܣ䐬⽢ㅲጴ䣝䢭ᆜ⊨䌜⨳ᩮᴖ嫖嚇Ӯ嗳棾䟱泡娗ڦቓñ屃䚈ࡠ稯ά᝾䆥パ䈈擯春惒እ烞䁼䙄ʁ嵊Љ䉆抑ဤ䖠䰦㋁⩆䔆ཨᆉᵝ戉漣䚱អ¤⋌斤值֨䇻惼ㄬ慠矴ƕỊ⁹ୢ磺㭯ᤘ弴硔眠㲒ᦀ⪰Vɉଅ䌨攺粘˙✅䍔䀯䃗情庐皃Ἑ䊛ᑁ䡧ᐋ࠺䘳⊠吴䋤嘵瑿ᬕ护帶ᡊ䆐⺍᪷ᣥ䆴櫣ᗥ塀䨥恿֊᛾᪄Ⴐ⻱ɪფ皟䗢ƀ⬀ⰸΑ␹ɛ撑擁❵୚㐥揃ᝧ溈暼च䮒漱⢊摂殚棹炆抢孔໺㮎橊⒗۬怪槬殖毭ᬦ桍ऱ㔡㬭⊂໢㕐₇ಊ梣⇱ඖ匡☤ăᱬ拔ʔ㟔ʀ䨱㘰Ԡ偀唢擪с䩖ա䡒ѣ攖ࡠ恱䎣࢜䤱罁ी癞摺ܩ⋫▖⭋放Ⓢյⱈ坶䢋㩾俲ځ䟯眴࢙春䪚汋ᦘಋ殘么ᖓί愐䂰ؚ恿瀙寈⤥Ṑᄧ§樚幘ᥫ屄ኧᇨ⋶䈌᪎瘖ᔮ犸㜬ᇥ劵劶ᣟᱨ㶵櫒坨䈍爠䈽㟜ಣ痧狢嗝䈓瓟瞼剧അ媞壌䳟⿼咬䁗缀嵰憍弘៎ট㐕ᄾ᠞ᒀኬΑ䐢䈐ႡⒸ㥰෣箄䇘⠠励潠绲ᅐഢ〶≐㰓Ί勞᠅ȱ㦢確䄨⁈৸㧷映∤㒈⛤漁⓮⃧ᅢ✪䃮㪣乍Ѽ崥剦ཱႨℿ׹嶧娰៑䀿㑨羀怽䐌⇱姣䑙⎤宨Ӗ㭷㙤┲冊᠌ǫ⎣呙璄㣼㒐歍⊰㵧⊦䪉暦峦廰ᴿ䬰⊂ᩒު戯瑡䈹᭣旖帢ᵎF߂ᩞ䅠磪䴉䦍Π済当涱㎤૷偧஀刯⃪Ḉ砽ᆨ᧐怺ɐ㊫灎Ϡઠ⓺ϹѾ᳄੸斵㇫ᶂ⑞〶↊圊泱㧣刓儢㜱㤎㲇值Ϛဣᠵ抙䬺嵍ᛚ瘡愼⎑ཇ旘箮糯น巠椾ᐣ箧炠㠷ᴀㄎ㈅ҫ⥜洺㲀㚚⪹笏㠖僺ࡔغś渣硲˘倘g㪵㤫Öሥ峍ǀ匍┰☘Ҡ⠢䢀ㄡ尦ȸ状悢榡啌厀ѡ纘᪅⵲煗熾㍊ã⸂㙭憾䡡ᩐ❰ர䓑ޒ位牻ܲ㽽瑞䄑ኜ㌒䓦┳烁ࢅ⇄⮜♸哄ፅ䪤ᕵӊ攷矊䛉◟ݜ浣听ᖊ竚୻⃷㠺⭹ἱ᪞ൕ媾㗩ᔋ尥䍍ỏⵖ⤅梾㚳⦊券璍⊘㰶ᢊ嗷磝څ䟇僷⤱䥆ᓾ䊂᳓匪忷ՠ㝚批⅊婤毾റ唈㕴䇃ࢄ捖಺฿䙖෢⓸㨘Ⅰ❒䍮᪠梙曰◤◕͂䠥Ŀ܀ੰ䄴昡ᓁ͉વ⥕ᝲ㠡劺ⴱ砢憪㹬ᔂ䵉䆠ᴭ䵳㕋婧㇇䎘甀㎬ᵗౖ换㗃❫຿挢㡹䎸⒍㭊浏ᇺᣠ璬འ⠰ጥ⌡匥堮᳏̌䱌䞁ࢄǅ⪠䥒༁ࡄ䪴㉡偺丩潤⢘נ氱䃱ᗅ換矘ʫᤂԖ澋瘺ᠽ婎扃䃤玭ሇ܄ឍ撀寄ᢈ๽䞴Ë喀ᡠ碌丂洛書䟭㡏俓淳岟တ亀ଯת峁᧙ᡎ椃悤司䒇䃴㾬\"柬ἦ冠ቌ⃏抬瀤䒐᭮ᡲϾ烉搧圮㤶ᖰ儣ዋ䓵㕯唅槉溾曤՝戬▿栫ᚗᖬ䒨⽫坾簣⧝ᱠ͛ଃི҆ᅬ清峲侲䩑ᆝ滒燀獏ᚅ井昴樴㴗અ⡋繨䀰垁䗐㣪吱䯙䶣Ⓘႁ䔹⥔⟀犬☥厬磫䊩䳖摈牶敖ࣺ欱㪈浲ᓭႭĿဗ奉∡昦Ȕଣ⊴ᵰ㥲ൎذ碢➑䖭䀿ᓉ奁᧗䒓㤧懑㞀縮ᄍ⊋㛁滼扖Ӗ夈Ł፽厣侓啾璇巇梫ᐣ䣏删ᦣ፟㊈牯瓍Ⴁᢜ଍嘥惢敠尽氻ಃ┭提㽖撁䇘㐤䐝䖌᷆㪛⺗䩼剴挊ີ洽痲楃ᱦ捔䛗ᣘ眼䃱斑Ⲧ᣸眏⻌㓽㭋䘠䦮礑朓姭ৡ盙桇㧀Ē她獑䮁⋦ⱹ檊姃矓㭓去夆⺌栞㍎ᘎ⭹䫜樍ᠫ䝗條厱榑⟁⒫瘍主窿⮴帘垏㶡⿪Ὤ䁍杽䥾彋淞ᕍέ嗑垾烏弃➪寮廴☙嚸㮠ൗ濙垒禎妋暜渌澑幛捡᷷ࠗ焝⌑㘃⛎䮲性ḝ˛察ԯ㫷瞲候瘆㞌櫓急ᐜ箋梙⾌尫ဣ⥲Ⲯ厓ఁ梼ᒸ⨀ṅ≲ࠏ禅悞塻㣳䈩䷎碙㚕䕒ࢺ槆竱ᄬ泻串ঋ琿䇹ɣ氹䏔Χ∦ᡂ▢⤈僨ᴾ㈘奨⎩ΐ级甩䀐玞䤞绱桠ᤅ崫媵ᬍ䘀㶑傝刌慪ठ揇婝澀琧媚Ŝ㾆䤴ᦢ巤盭綂捛ਡ涥悞ȍ䑉᳢癬⡯區砤ᕈ͂ਠ斣รᏔ巠ᮁ᭍孭听箁͢M䘭䮊㬿ʬ嶐ק➉䢩ࢀ䴌奓懌嶽ᭇ㱎㪑嗘݉籃䰑偽们ᝫ䤯஽抋砩㫺䩼㊂祙ᡟṼ稆ླྀ⫠巡氨怬ÀԠᣍ䆄㪓ហද₌₰ọ䰨缻䎄љ琌歅碶䖜䎡殒㈨嫕哪ᅺざ剥ೢ浤Ȁṥ破剂݄Ң喦⃀偰⤱吻ℚ׍䩠ᥠ⃴䟡幉␲䂒؂݂繣€各ⴌ⹇㔯䰋ᐣ䚢㙓㏀✼㛢ಌћᶅ䢃䝐㢐ᔜ㻮㽏祿䄽㠆悄㧐ᔽဈì㥳䶑捉ᦒ᭄䲀䈡ლᣓ䛘㈲捙Ԍ䅣岇朵ԗᔅ樾渱ᮈ㱼 ញᤵᣢ௡㸸嫏ᘸᧉ幚穟ጙ稍㍥⯜娂圍ᕟ䖜☂،㺄禛寜⃉ㄋ㌠䟃㨊ҫ۪巠䕊皞⇄Á儎䢀偐ӡ峭⁒A䋁䰯桙筆奴戃⅚୨㇭⥢憟ԍᆝ䗊⵵窤⁤嗅☱৶履瓤涉࠿䤡ᄠ摓獸႐籎徐䚒㟍儻徝Ęᐨ䄤惜ܴ㚍椱䨪䖄⫂吳⣜䘫ƨ䀠 "
   },
   "outputs": [
    {
     "data": {
      "application/vnd.jupyter.widget-view+json": {
       "model_id": "4fec3183c64847338c873c3b44283686",
       "version_major": 2,
       "version_minor": 0
      },
      "text/plain": [
       "PersistWidget(data_values=[{'__id_column': '1', 'Region': 'Salt Lake', 'Month': 11, 'Day': 9, 'Year': 2012, 'T…"
      ]
     },
     "execution_count": 11,
     "metadata": {},
     "output_type": "execute_result"
    }
   ],
   "source": [
    "PR.plot.scatterplot(df_task_1c, \"Elevation_feet:Q\", \"Vertical_inches:Q\", df_name=\"df_task_2a\")"
   ]
  },
  {
   "cell_type": "code",
   "execution_count": 12,
   "id": "4942d74d-66e9-4318-91e2-b3352b98dc42",
   "metadata": {},
   "outputs": [
    {
     "data": {
      "text/plain": [
       "<bound method NDFrame.head of          Region  Month  Day  Year      Trigger                   Weak Layer  \\\n",
       "0     Salt Lake     11    9  2012  Snowboarder  New Snow/Old Snow Interface   \n",
       "1     Salt Lake     11   11  2012        Skier  New Snow/Old Snow Interface   \n",
       "2     Salt Lake     11   11  2012        Skier                       Facets   \n",
       "3     Salt Lake     11   11  2012        Skier                     New Snow   \n",
       "4     Salt Lake     11   11  2012        Skier                       Facets   \n",
       "...         ...    ...  ...   ...          ...                          ...   \n",
       "2368  Salt Lake      4   22  2023      Unknown  New Snow/Old Snow Interface   \n",
       "2369      Logan      4   22  2023  Snowmobiler  New Snow/Old Snow Interface   \n",
       "2370      Logan      4   22  2023  Snowboarder  New Snow/Old Snow Interface   \n",
       "2371  Salt Lake      5    7  2023      Natural                      Unknown   \n",
       "2372  Salt Lake      5    9  2023        Skier                      Unknown   \n",
       "\n",
       "      Depth_inches  Vertical_inches     Aspect  Elevation_feet  \n",
       "0               14            360.0      North         10400.0  \n",
       "1               30           1200.0      North          9700.0  \n",
       "2               36           5400.0      North         10200.0  \n",
       "3               18           6000.0  Southeast         10200.0  \n",
       "4               42           9600.0      North         10400.0  \n",
       "...            ...              ...        ...             ...  \n",
       "2368             8           1800.0       East          9800.0  \n",
       "2369            18           4800.0      North          8700.0  \n",
       "2370            12           7200.0      North          8900.0  \n",
       "2371            72          12000.0       West         10800.0  \n",
       "2372             6           2400.0       West         10000.0  \n",
       "\n",
       "[2373 rows x 10 columns]>"
      ]
     },
     "execution_count": 12,
     "metadata": {},
     "output_type": "execute_result"
    }
   ],
   "source": [
    "df_task_2a.head"
   ]
  },
  {
   "cell_type": "markdown",
   "id": "b447b862-90c6-4ed7-b48b-baa1cf74ac2d",
   "metadata": {
    "__GENERATED_DATAFRAMES__": "{\"nodeDataframes\":{},\"graphDataframes\":null}",
    "show_aggregate_original": "false",
    "trrack_graph": "ᯡ࠽䈌ʀ匦㢠⹰࣠✴ƀචآ൐ୠᣠ⭎¸䚀ᶥ<⋵攴≲䦆ᨐ҅䁲䥈kᑄᄈ夒ર囇⣹嗛➎帣ᢤ䀡傠Ǘ熠㥀ॢȠா䠸ᢀ㜰䁾巒•橀樠Ꮃ䤠ව׷核ᱬ䣘紲₞૦Ԡ޳ŀ凐栠晬╍ಲ䖽䂇栢沀團ᄰ㸸ሪ喊Ⴇ♁䐔粶ᦞΎ刺ࠥ簉窺簲ᖢොሧ҉䃵ⰡḠޅ毗䘤䗾墥୚渍磆搰㣄䆯䌭䊣ᎄ䢩妈䪑䴹ҩ䋫◂რ⢒ઉ⃁⽌囦媍ኘ垤䢠䍤⒂Йᘷ੡䄀҂Ქ⃱琿啡憐㲞ၯ䌨焠ᗿ搫໎㒫ல熪Ņ⎃ऺᥛ⃄ᅠ  "
   },
   "source": [
    "## **Task 2b: Filtering Out Old Data**"
   ]
  },
  {
   "cell_type": "markdown",
   "id": "c86b30d4-4762-4bc0-bfd3-6f1486b55ad6",
   "metadata": {
    "__GENERATED_DATAFRAMES__": "{\"nodeDataframes\":{},\"graphDataframes\":null}",
    "show_aggregate_original": "false",
    "trrack_graph": "ᯡ࠽䈌ʀ匦㢠⹰࣠✴ƀචآ൐ୠᣠ⭎¸䚀ᶥ<⋵攴≲䦆ᨐ҅䁲䥈kᑄᄈ夒ર囇⣹嗛➎帣ᢤ䀡傠Ǘ熠㥀ॢȠா䠸ᢀ㜰䁾巒•橀樠Ꮃ䤠ව׷核ᱬ䣘紲₞૦Ԡ޳ŀ凐栠晬╍ಲ䖽䂇栢沀團ᄰ㸸ሪ喊Ⴇ♁䐔粶ᦞΎ刺ࠥ簉窺簲ᖢොሧ҉䃵ⰡḠޅ毗䘤䗾墥୚渍磆搰㣄䆯䌭䊣ᎄ䢩妈䪑䴹ҩ䋫◂რ⢒ઉ⃁⽌囦媍ኘ垤䢠䍤⒂Йᘷ੡䄀҂Ქ⃱琿啡憐㲞ၯ䌨焠ᗿ搫໎㒫ல熪Ņ⎃ऺᥛ⃄ᅠ  "
   },
   "source": [
    "The interactive barchart below, shows the data aggregated by year. There are noticeably fewer records for the years before 2010.\n",
    "\n",
    "During this subtask we will remove the older records, keeping only the records for year 2010 and above"
   ]
  },
  {
   "cell_type": "markdown",
   "id": "24b308e8-8437-4146-9ebf-cd121aeb7f9f",
   "metadata": {},
   "source": [
    "#### **Instructions**\n",
    "1. **Analyze the Bar Chart:**\n",
    "    - Identify the bars that show significantly less data.\n",
    "2. **Filter Year:**\n",
    "    - Select and remove the years with few records.\n",
    "3. **Verify the Output:**\n",
    "    - Print the head of the generated dataframe to verify the changes."
   ]
  },
  {
   "cell_type": "code",
   "execution_count": 13,
   "id": "6488acb7-e239-4d7e-92ef-3e9d74c3d823",
   "metadata": {
    "__GENERATED_DATAFRAMES__": "ᯡࠩ䃬࿀ᜤᠹ悋ᐤ怱䐢犲ǩ怶恉宑召䵬ð䀲悠ᄡḡ沯偑嬸Ř˛ࠥ笪  ",
    "__has_persist_output": true,
    "trrack_graph": "ᯡ࠽䈌ʀ匦㢠⹰ૠᬠⱈঠء౰ୡ䁣¬物习療㋨縣ᡲ䚠捖偖澶䥈kᑄᄈ夒ࢰ勁䍾䦫㭮ẜʤ䀡傠Ǖ៣′䈤7Ằᠠ湐憎Ⴄ姗㷠˴⃴3姩-儧᎐ř撱刪⭞Უɮ⛠㉐懐⊌ᬺث⌡䛠䒠ƕ稦䝳቎ύ䐺⛑䅠Ȅ恨㩼⸺ቍ᤹෦懃琡㙐歲ࢨᒬथổࡢ㬰↵ႜᖠ᫬㩠໽޴Ɲ笛◌楗᫡ۑ室Ⳡ柌¾'ᏻ䟦෭官䊨⹛Ǫ↹䠰ᱩႀ桖ᮢ䊰案ࢨ⧁㢊ᒤ䚰౼ય䩥ֈ☸⅝穷䐉ቔゆ䨌㫳稨婋௥硤奁䋅椦ፃ䨄Ղ䓆⮣თƳ৤吶⥂䧄ᦌ坏䨵粂响懸䘳ల!䫆࿥加$F䪰࠺*ḷà෶Р櫖∠┽䍲˼㡎嶒禜缰⫓ؐʢᶤ䗘撑⌧䣰穉ֵ䒨ᑎֳⅨ䕺㻨嘔㟞洅㣄䰮fშ䩕ݤㆸ扚䗥爘䅐䃲㘕ື⭡甚僨掭ౠ঴捓䰶曒怸泖ࡎ濔ᴎ双怰峎᮱濃䇤ᠠ੅䦄竻吥`⮰*猠ཧᴁ盇Ἇ⟤ǯⱞごപ䀰᯲∩幦㜤俟᫾በĔ㉯碢̸秾佺厚厭碞㜫礞㿡稡㜨٢紼١䤥P䢳嬬ሷ䎀ᒽ䉐尻䊰嘼䀰ء䐀䢾ᣦီҠ矲₂ऻᠡ恛֡偧ޢ፿㊤⭣̈⭥ɩ໦✀娮⑐㥒Ⴜ㙃䗘⹎拁恌ʰহ硡⡋槺µ䜈硓䕠湟筸㑄ġޢĤ͈⒤倴窨糮憄儴慠宭撠὏晨ᅔ摔漨㫴㜠汰᥀㝶ᇓ碠刳䓙ᵅ⵱䖈ᓋⓆᶒ䊐亓Ụჹ䖅㓾ầ瀠䲙悏#琲嘸ጏ⁂栢㠼䩂俧砡மむᙫ䌫Ⲣⰴ㦂僋⬡憋ᚠ泬憣⣡㤧Უᕆ䅣㢃Ń㒋ฃ㔴䱳᪇恓㤣ᦥ⛬ೖ墁಴㻴℃ʌ㭳㪌⡎啬㇂盌㍺㇊㑍㢻㘍⏂瘔ᯏ䷀廃甜⁬ࣶ㡡䀸㘡䆐ฤ₦ᨮ䣨ϲㅂ㸤稸㤭䐸ⴣըⴤ硖ຏ瘓⣄摅⭍ᕙ㝏ᔙዀᕵᎅ⑻⫭榚㽯棰౏⤛⓭᧡ᄃで૤㱇ᔀ㡏᧠嵤◭㠢緮峗༁嚆㨇㨔⨀㟶☈碏㥆瀿ᐊ櫡⁾剠ስ㡰畿㍐䠯捄㤧ࠦᐬ䦀⸭≐㸪⅂⌭慣㉂䂀㸻‸ᗥƦིǞ⿯硚僲᫼㒤ⴄ⦈冴▆儆暯Ⲕᴍ⢼ᡍ䄇ቢ䛱䙕䚑椧䚀Ŕ♩渦♉啙㩄࣌䝱穚⊻粪濻噉濛嬩✟㫃窦壡¼⇍ߎ㿹犀ᣠ䁁厮璢復殁忀䟶༷❄۲എ滰竨಄笮抌䳾姱竜㎊楻∠᝛⑦憸һ䘤娮㳡䭅䎶䎉塛ߐ䫶㡵冑疴׎Ⱑ歽柶䏥Ǧ榣⛵㧭尰ኵ孔ැ笷捸ୈ䉻泜⻶斠囋檳⡅᪷ᕀ䉾✥⫔ấ๹斸㐑⢛ԑ✯好៲帹↌።癨՝䱦ᶬΞ㏐烉ঊ券㊲Єب綄⧺缲䜡㯔筗֮ⰬぴdѸ䕐ਉⴳ歐ⴧၽ圀☤ಆⅢᕺ旔崩⁈䄤㗥ืᏜࠬ㳖ಐᬵḚ䍛ۈ棨ㆇ䡒扰૪僵䉼疻↤˘嚲ǐᵄ㭋߬ᴎ᪑ၽॆ㒋ᓙ剷䌾`弡矎戉䛝೽揰䵇咻䦬笗㇢  "
   },
   "outputs": [
    {
     "data": {
      "application/vnd.jupyter.widget-view+json": {
       "model_id": "f1d9cedc70b94bc9bdd45b8973eedbd4",
       "version_major": 2,
       "version_minor": 0
      },
      "text/plain": [
       "PersistWidget(data_values=[{'__id_column': '1', 'Region': 'Salt Lake', 'Month': 11, 'Day': 9, 'Year': 2012, 'T…"
      ]
     },
     "execution_count": 13,
     "metadata": {},
     "output_type": "execute_result"
    }
   ],
   "source": [
    "PR.plot.barchart(df_task_2a, \"Year:O\", \"count()\", selection_type=\"interval\", df_name=\"df_task_2b\")"
   ]
  },
  {
   "cell_type": "code",
   "execution_count": 14,
   "id": "3e01a60a-024f-4488-b372-1ab24f94868d",
   "metadata": {},
   "outputs": [
    {
     "data": {
      "text/html": [
       "<div>\n",
       "<style scoped>\n",
       "    .dataframe tbody tr th:only-of-type {\n",
       "        vertical-align: middle;\n",
       "    }\n",
       "\n",
       "    .dataframe tbody tr th {\n",
       "        vertical-align: top;\n",
       "    }\n",
       "\n",
       "    .dataframe thead th {\n",
       "        text-align: right;\n",
       "    }\n",
       "</style>\n",
       "<table border=\"1\" class=\"dataframe\">\n",
       "  <thead>\n",
       "    <tr style=\"text-align: right;\">\n",
       "      <th></th>\n",
       "      <th>Region</th>\n",
       "      <th>Month</th>\n",
       "      <th>Day</th>\n",
       "      <th>Year</th>\n",
       "      <th>Trigger</th>\n",
       "      <th>Weak Layer</th>\n",
       "      <th>Depth_inches</th>\n",
       "      <th>Vertical_inches</th>\n",
       "      <th>Aspect</th>\n",
       "      <th>Elevation_feet</th>\n",
       "    </tr>\n",
       "  </thead>\n",
       "  <tbody>\n",
       "    <tr>\n",
       "      <th>0</th>\n",
       "      <td>Salt Lake</td>\n",
       "      <td>11</td>\n",
       "      <td>9</td>\n",
       "      <td>2012</td>\n",
       "      <td>Snowboarder</td>\n",
       "      <td>New Snow/Old Snow Interface</td>\n",
       "      <td>14</td>\n",
       "      <td>360.0</td>\n",
       "      <td>North</td>\n",
       "      <td>10400.0</td>\n",
       "    </tr>\n",
       "    <tr>\n",
       "      <th>1</th>\n",
       "      <td>Salt Lake</td>\n",
       "      <td>11</td>\n",
       "      <td>11</td>\n",
       "      <td>2012</td>\n",
       "      <td>Skier</td>\n",
       "      <td>New Snow/Old Snow Interface</td>\n",
       "      <td>30</td>\n",
       "      <td>1200.0</td>\n",
       "      <td>North</td>\n",
       "      <td>9700.0</td>\n",
       "    </tr>\n",
       "    <tr>\n",
       "      <th>2</th>\n",
       "      <td>Salt Lake</td>\n",
       "      <td>11</td>\n",
       "      <td>11</td>\n",
       "      <td>2012</td>\n",
       "      <td>Skier</td>\n",
       "      <td>Facets</td>\n",
       "      <td>36</td>\n",
       "      <td>5400.0</td>\n",
       "      <td>North</td>\n",
       "      <td>10200.0</td>\n",
       "    </tr>\n",
       "    <tr>\n",
       "      <th>3</th>\n",
       "      <td>Salt Lake</td>\n",
       "      <td>11</td>\n",
       "      <td>11</td>\n",
       "      <td>2012</td>\n",
       "      <td>Skier</td>\n",
       "      <td>New Snow</td>\n",
       "      <td>18</td>\n",
       "      <td>6000.0</td>\n",
       "      <td>Southeast</td>\n",
       "      <td>10200.0</td>\n",
       "    </tr>\n",
       "    <tr>\n",
       "      <th>4</th>\n",
       "      <td>Salt Lake</td>\n",
       "      <td>11</td>\n",
       "      <td>11</td>\n",
       "      <td>2012</td>\n",
       "      <td>Skier</td>\n",
       "      <td>Facets</td>\n",
       "      <td>42</td>\n",
       "      <td>9600.0</td>\n",
       "      <td>North</td>\n",
       "      <td>10400.0</td>\n",
       "    </tr>\n",
       "  </tbody>\n",
       "</table>\n",
       "</div>"
      ],
      "text/plain": [
       "      Region  Month  Day  Year      Trigger                   Weak Layer  \\\n",
       "0  Salt Lake     11    9  2012  Snowboarder  New Snow/Old Snow Interface   \n",
       "1  Salt Lake     11   11  2012        Skier  New Snow/Old Snow Interface   \n",
       "2  Salt Lake     11   11  2012        Skier                       Facets   \n",
       "3  Salt Lake     11   11  2012        Skier                     New Snow   \n",
       "4  Salt Lake     11   11  2012        Skier                       Facets   \n",
       "\n",
       "   Depth_inches  Vertical_inches     Aspect  Elevation_feet  \n",
       "0            14            360.0      North         10400.0  \n",
       "1            30           1200.0      North          9700.0  \n",
       "2            36           5400.0      North         10200.0  \n",
       "3            18           6000.0  Southeast         10200.0  \n",
       "4            42           9600.0      North         10400.0  "
      ]
     },
     "execution_count": 14,
     "metadata": {},
     "output_type": "execute_result"
    }
   ],
   "source": [
    "df_task_2b.head()"
   ]
  },
  {
   "cell_type": "markdown",
   "id": "8a92b8a9-c3a8-4a57-be3b-c9cdc977092c",
   "metadata": {
    "__GENERATED_DATAFRAMES__": "{\"nodeDataframes\":{},\"graphDataframes\":null}",
    "show_aggregate_original": "false",
    "trrack_graph": "ᯡ࠽䈌ʀ匦㢠⹰ೠ⬠沈֭⠸恍ff9昽䁮ۦ࠰汬നڀপ㈏䣹厠㬦ተ¶⡨⇱㌀ᅁ╶庳ୖ⹜簧ଭࠣ℠Έ橦औ䁅ШNႦ〡岁䏼ℭ㞁摞+㢱䨠Ԋ牠Έƕ٦枓቙ჿਸ旑䅠Ȅ恨戬പᎭె䝁净儬Ö᡻⌸䐱䘩׍宨⇓ࡱ䍲ච᫲壬จ䙤Ɲڣ圖⍞ᛡ৽ण䃔戋㘠传ϊ揿振䘌汣䓼㹮䘫㈨ቺ⩯↧ᄨXഉ⠅ㅖࢢ侸⇄僡ಖࡢҁ氣С宍劄倶䢡⍤㲂̤㚗٩䄀硂಩⍰琦ᦪ悑屾ᾨႨ㺜*瘪䋇޶⋤ᓘ犠䭳঺᥇⏰ᅠ  "
   },
   "source": [
    "## Task 3: Data Wrangling"
   ]
  },
  {
   "cell_type": "markdown",
   "id": "9da80393-7f4b-4115-a4d1-5b7978e11358",
   "metadata": {
    "__GENERATED_DATAFRAMES__": "{\"nodeDataframes\":{},\"graphDataframes\":null}",
    "show_aggregate_original": "false",
    "trrack_graph": "ᯡ࠽䈌ʀ匦㢠⹰â䂬ƀᶷ琶䁋c<搔怳ଚ䠳亡䈤㉕⁖ì⺇⊨攩ᐠ▨戰㑹㧒妰囇⃹喧㝞Ţ∠桠ûு䁔䈠ॢȠந㺸ᢀ盅⻿夣•晀樠Ԃ牠Έƕ稦❳ሪὦ䰼⇑䅠Ȅ恨㙎⌯᪴䶹䈁ℓ琡㙐ᮂ⢨᢬थ⧓ࡢ㌰ሚ璋U䳘䠵欯Т縔絭Sㄭۡ۹ण䉔悊㘠传ϒ橷挣⌏ⱡ䕼庮打㈨ɼ榨慢䃂॑瑐繦┭ڼ㾬⎂厃焸牘榥ᄨ䦯ඦ嘔㗆溄⒀擒摖≦၀ⶃ㧄మޢᄴ䩍རへ∦䯧焤愷䍠Žƀ夅შ㤙༾′⪂㵩掳婊⢄  "
   },
   "source": [
    "### **Task 3a: Creating and assigning 'Avalanche Season'**"
   ]
  },
  {
   "cell_type": "markdown",
   "id": "402412ae-3b84-4fec-9c01-94dd203a7b1f",
   "metadata": {
    "__GENERATED_DATAFRAMES__": "{\"nodeDataframes\":{},\"graphDataframes\":null}",
    "show_aggregate_original": "false",
    "trrack_graph": "ᯡ࠽䈌ʀ匦㢠⹰â䂬ƀᶷ琶䁋c<搔怳ଚ䠳亡䈤㉕⁖ì⺇⊨攩ᐠ▨戰㑹㧒妰囇⃹喧㝞Ţ∠桠ûு䁔䈠ॢȠந㺸ᢀ盅⻿夣•晀樠Ԃ牠Έƕ稦❳ሪὦ䰼⇑䅠Ȅ恨㙎⌯᪴䶹䈁ℓ琡㙐ᮂ⢨᢬थ⧓ࡢ㌰ሚ璋U䳘䠵欯Т縔絭Sㄭۡ۹ण䉔悊㘠传ϒ橷挣⌏ⱡ䕼庮打㈨ɼ榨慢䃂॑瑐繦┭ڼ㾬⎂厃焸牘榥ᄨ䦯ඦ嘔㗆溄⒀擒摖≦၀ⶃ㧄మޢᄴ䩍རへ∦䯧焤愷䍠Žƀ夅შ㤙༾′⪂㵩掳婊⢄  "
   },
   "source": [
    "Next, we'll introduce a new categorical variable named `Avalanche Season` into our dataset. This addition aims to classify each avalanche record into different parts of the avalanche season (Start, Middle, End) based on the month it occurred in.\n",
    "\n",
    "Create a new category `Avalanche Season` in the dataset and assign each record to `Start`, `Middle`, or `End` of the avalanche season based on its month."
   ]
  },
  {
   "cell_type": "markdown",
   "id": "86d54d80-ef52-4630-bffb-1e04d9320384",
   "metadata": {},
   "source": [
    "#### **Instructions**\n",
    "1. **Define Season Categories:**\n",
    "    - Based on typical avalanche seasons in Utah, create a new category called `Avalanche Season`.\n",
    "    - Add three options for this category -- `Start`, `Middle`, `End`.\n",
    "2. **Interactive Category Assignment:**\n",
    "    - Use Persist's interactive features to select each month and assign it to one of the `Avalanche Season` values (Start, Middle, End).\n",
    "    - You should use the following ranges for assigning proper categories:\n",
    "        - `Start` of Season for _October_, _November_, _December_\n",
    "    \t- `Middle` of Season for _January_, _February_, _March_\n",
    "    \t- `End` of Season for _April, May_, _June_\n",
    "3. **Verify the Output:**\n",
    "    - Print the head of the generated dataframe to verify the changes."
   ]
  },
  {
   "cell_type": "code",
   "execution_count": 15,
   "id": "63b62f4c-8841-4f6c-8011-cb2ee31c2c7b",
   "metadata": {
    "__GENERATED_DATAFRAMES__": "ᯡࠩ䃬࿀ᜤᠹ悋ᐬ推̅ሣ䧠ⶠ卍捯ᥔᠣ℠▢dʘϔᝠ捌〤瀵摠៨⠠ ",
    "__has_persist_output": true,
    "trrack_graph": "ᯡ࠽䈌ʀ匦㢠⹰Ǡᆺʀᣠ䌢堦〫″䡠㙳䐢惀⍖扴፩劈é洹೯䮰䥈kᑄᄈ夑঴囇⣹嗛᜾㻸ʤ䀡傠Ǖ昀㥀ॢȠா䠸ᢀ㜰䁾川䀢橀樠Ꮃ䤠ෂÅ惃ㅐ㔘粂჆ശ䀦㓢䃊䥑䐴⡼⹉ਢ䚭䃁匀䀡㬚̧౉儳俍䐭慸惀Ēい㴠ᶻ䕨✇刲ਉ稠嬸ᗙ㤤஦ҡ䵺䑁嶨惊䠺ዠඁᷧ笌䉊Þ絣䬒㜻ր䃺淣 ≀⬠➠ǥ笍熦挍Ἠᑬ狹發Ệၩ⹚Ⴍ䈨㦂ة⊑㐸ᜮ䡥Ლᢠ卂琪Ⴆ䐀⾝Ѝ穩䶔ⷂʼ甝᱉୥㆘储䣄椬䭃䨄Ղ䓆⫝扩ᆵࣤ焤䥃⋅椶ፍ䬅祢壊⮵喃້အɰᐠC[佷䇔п枙甠㤶帪ᣠ㾾倦⯂灕囻㋵⃿嗃ɻ囯ߧ爥歰䊢䏂ᱲ场䣡㑲Ả䆱⤼⢏䃱಄䘬䩋ᖝᐈ㥘⹉̣䀱氥ᚠ慐ⱖಮ匑籡ᡤ棔浮嶇栭摮Ⴂ䃁⒜ኍ᫭‥䦊櫌ᇍ䞁Ѝރ䈎㯭繋䜇㢽穘ᱣ!⋩⺖矚䁰Ч㤠Î〥犓⺾ċ湩籠拵七Ɂ჈Ĥ組⁩碬ᚫたឩဠ㵋眜ٕ玜曀㋕潍ᗰ羠ඐ䁨൅濋₣⹄ี穃垣ቒ⏠桉٭থѨ焭Ӄ㵑͡䥃㑁撉߭㴺Τぇգ梄䃤ሱ㏢偶疽らஹ羰䷵㘼ۡ羢ࠬ䆪ઉ⪒໵ຢ憕滎ԕ崽ዸ缠ሤ₵䍐秄䚱ᖼ䝀呍㙰ය䜀ⶶ䎍⢁䗉畝ͼ冬㏀㑜㓡ভ٭⧇ೠᧇˬ㦾が獐喐ƞ∪ⅸ⢪槔ⷥ㆖㛡㧞㏩㘱䅑嫎偕䚾堜⬺揕⺬惽㚾勐၉哳嚽傔჎䬐〻儔庯咐纨Ѣ橨㘐İ⃹孉š㡑瑉䐴݃㡍с㴳Ǚ冪洹缭ר㡎㑍㢘㍍⋓Ⴔ沴冴岢嘅䪠却掇㞈崯⠉᱀攀琠璈‴憹⼴盐㎺拜ல牘ྥ惽≕敜垾疠䞩盼獝炙積狧ᭃ皘⾷掜ᾷ療㾦搳ᡬآ㜮༣抍施ႂ乲剻燋ኙ拇獜䴲噞डၤ䭹ႇᢧ擼ஜඅ怲⁌仇㔈ဇ́ल ஝凇Ơ桇߬搵࿃䥇ྩՒ♁㴨憠㑖޺⏞㗄♿⭓䃓䋓䤭䣍㉕㒒䩝㕰䶻䳱婐䍼㕃䟉ᠺ瓂୲检⭺棺宜⛡㭴߻塁淡䝯报ቌ㱻禢㵺硒㻺樂ワС橚ծോ᫋䇵竁兕拸ϔL屢䁕᧍㘍⋶ⅽ❮㪝₈ᥣ㽥窅岊業ᑖ䴱䐥━ᚩ䃴េ⃝ᅡㅄ܆暄¢僝ᅁ⃁㼥ᷥ崉૱䵋䜌㑊♉孉䖑㻚ᕏ⪰۽吋皹䦠⠮䃧ᠹ晈ᭌⒶ掍䏸Σۋ䜭ᮩව┺ད琜ٗṫ暡岍䈘毙Ӯむ嗢䦤੫〇䬬ᄠⱇ⚀♄ѤⳠ౺㹍⮔ⓖ䤰Ȏ嵣⢒惍呆䷐交ִऱې䈮ઠ㐯⁤Π䤻嵀桎祄ਥ䁆˺簩䄄⧡⭾䁧৺៟戢ᯔ妋ᖐ孃眒ࠌ疥℻Σϋㄈ㢑祄р㗦廘ǜ寧㴗奀ྶ㤂⤡ὲ͞㐡㸢щ債㵐ᶚ䋗䜏ⴧ潴牞₿䃇溝៤呕Ề䀫㩵㮑ヹ揔ϧ㰣曵珳嘍ಙ瓀榠㟁伱厾໎劃ⓝ憤ၠƫ稨抐㫴灀ེ䏃括⿍⦨唘᥁瑡⎀ᨦ弲攺䌏ຩ晼氥Ზ䫚㏖㬇➣㵟瑠廭笝䖹搦䅠⊓時憣⬬䍸๼墎屨ᆭᬷ㨗സべ炠Ṓ汼࿙⟣⑤ᱭሴ䎀䊥硭݋⸶ࢦઆ冁漌楀╂⇙劦 䛰䫑क㓶䤪‴Š柦ƚফ栺⅑㡳傆߀᢬拃šᩆ瀪屈ಋ┸禷㭓ཌᤥⱶᣀ㙅撣䍢ᱸ㭴஬›ͼ⺽䑣߲͖䅄⒡痒↬湠䳉䪠ᦹলॊ㵆⨶乷ڂ坊渥⫊᝵妾咅⬁溦冎᷁男㧌Ó樠Ç倶厊䈠´懊Ⲳܠ産͆䱐曈⍄ㅄ၈٬☮扚攅歴䆞䜱⁆Ƭ㴧≜昈伷᧗欀ṋ捍䟦ቿ䝄恮Ӱ伩Ⰱ泴伔㶫璞䴙瑪Ƽ䡔峨ࢦ栵ڐዙ硁爱䮓湓撠⨫㴄ૡ⯣礨ᑛєƨ㈵䦸䟴ち獠䂸ࠨ灢ᫍ౗䋈㰷槝ԫషプ栕᭳ヨ嘪棂ਹ䂪䒖᜜㜴恲͠䝋䄝ᖰ㄰䇶䌰栶⅊犈噮ჾ混ጊ涚䋻ય㘀ᶓ䐁で౬װ䈦㤇啣䉣㫀䰢瀴揢殡Ậ૔恚炈ㆪѩ烍ܩ潲瓾ᠥࡒ旐撪႕Ԡϔ8榮⑔༨挒乆焠!痐姰㳬姌ώޔĭჹ憼ᨱ⋂ᰆ䡺嚈ခ垮Ü#甯↔㡥䣠㾤㪆ⵒ挱㈾昌峞撋Ὼ沋䨪䞲㢱Ⲯ␯䄎ḻᇙ₃ⱈᡜ㙆䫱✚ͭ捼䢹兡᫗᭼橗捌㕈㞺ᾄ浭瓴୹冋㲚橐⻶㣷䃚富ཏ⨕凇䏗л䯣劂̙≖ʂŉ⑈暀氫椌໊ㅜ䂎劣㎏哢ᨦ甉⹀纷啣჋⍘䇦㺢⚉咊喍缯培㫿沇槃␹寠㗗䆼琈➋峩泘㻼䆣屛桔㭞⼧㹽焽䅖㸠⣄ሺ椓傇ᓮ⠘⥹睴ᔫ⸏ࣗ拂╴Ⓩ抡䤥䢂េ扙Ѐ㔢䁬湤礼㴒ᒫ仵䩬㓯䲗宒䎵猇ᐮ笻㏁昄ᇩ屈ɷ瀹ⴀ╾㾉⇋䢯⮄̥ࣷ噢楉⊉ⴀ⅟䑊奇哦✭㔰唑ᅺ祌牶几ἇᩮ眊❣⥳槽介䌛䘢㶛嘊ź癝◃ᠡᠨó涌㖺⣏媌椀㒨β⥺ᐢᭉݶ曨傦睺䠩⏨嚢ז崺ヴ₎㴻䤪ᛜ沠糼〙䉾ֽ仍㶰㨕加ఢ䄶犓᜕撖淯䂾櫻䒄禯ଓ箓̮粔伏杮寤ˋ崜㈰巀叛䬍㪾楬哺争恉⇴⵽痲⍢晧İ䠘⛜䯦ඁ䯢堊㆏瑐⋸姾ྐ⌋稪Ƅယㄖڞ緽ἒ筸圖䉲ჲ㟀ѓä⊧璕占ᨮ棘䌡ᠳ䴚≜ᅗ焼⧦㛙刓昦⁎汈㪴匎⡥粋礙ↆ盉ਏ劦⮀烕慅枧ು䕽䊆๰墲ᵌ柪㒖㘨㥜䴂䝔⁏⃷௎簧殶⃀Ҏஆ䩉屑ຎ峤兕嶘䞎媔䠲ɰᢎ掔恳৐ᒰ尪宥憺Ⲵ媨Ų殊絠斫咈୎ਦ窺帒怺䋔⼴槕樰ᙇ揜ሐӠ㒧偀攒ְ捴䣓ࣸു⊣勜ᆆ◐ᰇ⯝ᷪ摮テ⑉ᴊ滮⛕షᱢ慖⻢䷀㸛ಸᆠ⇀᧧˺槤䟀痶挾ᥕ盜㰧⢾咆➧擞⎬甔亿攓䖾ࠖ˙Ԏ憚漒ྶ畇榚圐ᄶ䴏⑚縫Ọ䱏⤖樓⬮ූಀ䆢䀮ᇓ࢔ᒧ做⁢➰搄曋崶䩠羦怩簴昦䡀䇖䱢ᆶႥ᳈灈ದ璭⇃␗⤤䱖懈籲᪚ɗ矉粺ჾ੓侽涏୦䤧凃ജ˦嘆ⱴ◺ᷦ䖥熠䳩඾ဦ৉惖੆Ⴆч⎔෱楐䲟⎾椤敕⦦䲲᭑ဥ槞䲟ґ䀮᧛ᕝ䂮獕笪ᰣ䞂⠪શᵥ⊠ᤅ綢籄ᱠ⤩䡮㨂໰⒤澸慜ⴚय恌撨ᬀ優䊄䈪ᜩ㤬⊂䉱዁瑯᫁䇒ⷈ纕ࡀ崕౎廇畇紊䴊䑱䯀稅枊░⮾Ⲻ⌞ⶑڸⅿ╱㣠喺㔲♉且濎ဪ፠琤恞ƀূ箓ᘩА㐯႙ै᳈ஓ恽Ȩᯰ㾔䷍㐠⧠ภ灉昌ᘢ焒㡴Ѽᴾ滷㡼㸛Ⲭ┗⌿䊮怱⾳ᷟ撇⿑炯柄⌫洱㐐ᅝ揫挤㢩ٴ捺䣾⣮ា⊦ᇾ庮垢㊧柾ᓬ⭀絣ႚሕ㒅ᅕ朱䲪࿋泅䎪Öๆ梹晰娠䐳ࡏ䰔昧㐬ƈ䬰氥瓉:ᨦƪ滅縎涞ᩭ忋ᠿ未ൃ牻粚乜䙭哗紪⻺Ϋ幍ၞዪ‮籹䴌們❄ɭ䷼䦮堪㝉Ȝ䑉䗁੡⋢䕂䓤䪐⡃╪㥨⩠䅐ਸ਼䅬灐厢䩉珨䩣৏ፉ㯬⪃犙楀ᘨ⯛ͽ⧠妑ኯࣲ̌㽵⒟ቷ䒎帅䀰懒̲䔳὜㔸Ӥ䴵Բ䖵נ稦⩡㥁ṁ㱮䢍㐁ὁ⑪⢊፴ᆩ⍨塩匮⑐秄ቈ㳍Ẓ࠱ⶭ攷׺箶㩮淜ᚢ睭㱟䏈渉ȷᶿ勢ᶖ㴕嶵ೂᚹᳮବᒬ䦹ȗ⊲䪾ᙹ展䅱㏓ᓱ勨烁Qᦠ៬偑J掐ⓢ昳᷂̩ຒ䑞ℶ䢰⻪摫⌏⨠皨汝ĺဆ崡ኯ⋏掑喂♮␅湑㕌䱠揆Ꭶ⩗䱽ดۦᖨ傲⩖ᤊ㴖砯ಒ⯑傫㹁掮᜖ㅑ禟䯦5⮬䖐⫀丹䞫暒⍾ႆ旪ᦻᕬ␑买湯ᓗᶆŵ湬ȼ擼Ὃ⸢ਪನ呥兂Ⴔ⿞㈤憑ǐ厌庣憖Ⴟᑕ⑍ඊஈລ⧍ᯌ殐呰籌な⵲Ặ瓊斸ଧ䄥ṩ䆉甀凲㩴ᐽᦢ䞰῰洽θ䬰ᱧ㑘䉰࿌啡㰦䐆↔揯桻狯ṉ䯪纔厏ᖠ篪⪙䊋〜♋᪆ↈ䘾வ媛㘍Ꮵ෕䟜ᥜᬉἮআᥝᙅ叐䦏厒吪᥉ʰ㍱ⱹ╌᥻灓䋤⩱✿ॴ⭠並Ëᇉ⡠⮓᪖ろ䥉䍑㬷扺廙䬶⏇Ⱉ⺮ỏ姗䤀 罀⪘⃔ĕ尢㵻~屨㕪≚喂ؕ₎᪳玎峍ᮇ䐺寿⥠☢殛殕微濋ᐣ㥉᳼橭劝዇ᥜ䍁㪬塗۩㛀犞僙ᫎ⡏⮥⑺⸀℩ڿ檓╀㺦ඒ૦嚥䧊䚶ଗ杕׈ᆌᨣ捖ㆠ๏ↅክ乎㢜瀽៥Ᲊ㩪ӽἒᅊ፤璛ⰱ⊆䦎㳉彅惬⥳⏊兾੧䚍㲴匵漈⑰奢忽㝋侾䩔哱ⵈ烈㪻敞ይ俖䩠Π≥琴㇈ۍ╵倷Òڠ™〳畜⌠琭Ը慼匱ᕉ憵籽呙簐猼玏浝৩஧粇῀‖ゃ⣯⣵憎㖜ᳺ幍瀭⎰ሼ➆慳䮟⯃䛘缤堹ㅠᆆ欴î珀Ꮐ⚦幟䇃岍篋ᮚ孍嬕消絾對墍厢  "
   },
   "outputs": [
    {
     "data": {
      "application/vnd.jupyter.widget-view+json": {
       "model_id": "130fcd977b114565940bfcc75bf71b16",
       "version_major": 2,
       "version_minor": 0
      },
      "text/plain": [
       "PersistWidget(data_values=[{'__id_column': '1', 'Region': 'Salt Lake', 'Month': 11, 'Day': 9, 'Year': 2012, 'T…"
      ]
     },
     "execution_count": 15,
     "metadata": {},
     "output_type": "execute_result"
    }
   ],
   "source": [
    "select = alt.selection_interval(name=\"selector\", encodings=[\"x\"])\n",
    "\n",
    "chart = alt.Chart(df_task_2b, height=400, width=500).mark_bar().encode(\n",
    "    x=alt.X(\"Month:N\").sort([10, 11, 12, 1, 2, 3, 4, 5, 6, 7, 8 ,9]),\n",
    "    y=\"count()\",\n",
    "    opacity=alt.condition(select, alt.value(1), alt.value(0.2)),\n",
    "    tooltip=\"month(Month):N\"\n",
    ").add_params(select)\n",
    "\n",
    "PR.PersistChart(chart, data=df_task_2b, df_name=\"df_task_3a\")"
   ]
  },
  {
   "cell_type": "code",
   "execution_count": 16,
   "id": "407a4fb5-43d9-487d-85be-ef858611f37f",
   "metadata": {},
   "outputs": [
    {
     "data": {
      "text/html": [
       "<div>\n",
       "<style scoped>\n",
       "    .dataframe tbody tr th:only-of-type {\n",
       "        vertical-align: middle;\n",
       "    }\n",
       "\n",
       "    .dataframe tbody tr th {\n",
       "        vertical-align: top;\n",
       "    }\n",
       "\n",
       "    .dataframe thead th {\n",
       "        text-align: right;\n",
       "    }\n",
       "</style>\n",
       "<table border=\"1\" class=\"dataframe\">\n",
       "  <thead>\n",
       "    <tr style=\"text-align: right;\">\n",
       "      <th></th>\n",
       "      <th>Avalanche Season</th>\n",
       "      <th>Region</th>\n",
       "      <th>Month</th>\n",
       "      <th>Day</th>\n",
       "      <th>Year</th>\n",
       "      <th>Trigger</th>\n",
       "      <th>Weak Layer</th>\n",
       "      <th>Depth_inches</th>\n",
       "      <th>Vertical_inches</th>\n",
       "      <th>Aspect</th>\n",
       "      <th>Elevation_feet</th>\n",
       "    </tr>\n",
       "  </thead>\n",
       "  <tbody>\n",
       "    <tr>\n",
       "      <th>0</th>\n",
       "      <td>Start</td>\n",
       "      <td>Salt Lake</td>\n",
       "      <td>11</td>\n",
       "      <td>9</td>\n",
       "      <td>2012</td>\n",
       "      <td>Snowboarder</td>\n",
       "      <td>New Snow/Old Snow Interface</td>\n",
       "      <td>14</td>\n",
       "      <td>360.0</td>\n",
       "      <td>North</td>\n",
       "      <td>10400.0</td>\n",
       "    </tr>\n",
       "    <tr>\n",
       "      <th>1</th>\n",
       "      <td>Start</td>\n",
       "      <td>Salt Lake</td>\n",
       "      <td>11</td>\n",
       "      <td>11</td>\n",
       "      <td>2012</td>\n",
       "      <td>Skier</td>\n",
       "      <td>New Snow/Old Snow Interface</td>\n",
       "      <td>30</td>\n",
       "      <td>1200.0</td>\n",
       "      <td>North</td>\n",
       "      <td>9700.0</td>\n",
       "    </tr>\n",
       "    <tr>\n",
       "      <th>2</th>\n",
       "      <td>Start</td>\n",
       "      <td>Salt Lake</td>\n",
       "      <td>11</td>\n",
       "      <td>11</td>\n",
       "      <td>2012</td>\n",
       "      <td>Skier</td>\n",
       "      <td>Facets</td>\n",
       "      <td>36</td>\n",
       "      <td>5400.0</td>\n",
       "      <td>North</td>\n",
       "      <td>10200.0</td>\n",
       "    </tr>\n",
       "    <tr>\n",
       "      <th>3</th>\n",
       "      <td>Start</td>\n",
       "      <td>Salt Lake</td>\n",
       "      <td>11</td>\n",
       "      <td>11</td>\n",
       "      <td>2012</td>\n",
       "      <td>Skier</td>\n",
       "      <td>New Snow</td>\n",
       "      <td>18</td>\n",
       "      <td>6000.0</td>\n",
       "      <td>Southeast</td>\n",
       "      <td>10200.0</td>\n",
       "    </tr>\n",
       "    <tr>\n",
       "      <th>4</th>\n",
       "      <td>Start</td>\n",
       "      <td>Salt Lake</td>\n",
       "      <td>11</td>\n",
       "      <td>11</td>\n",
       "      <td>2012</td>\n",
       "      <td>Skier</td>\n",
       "      <td>Facets</td>\n",
       "      <td>42</td>\n",
       "      <td>9600.0</td>\n",
       "      <td>North</td>\n",
       "      <td>10400.0</td>\n",
       "    </tr>\n",
       "  </tbody>\n",
       "</table>\n",
       "</div>"
      ],
      "text/plain": [
       "  Avalanche Season     Region  Month  Day  Year      Trigger  \\\n",
       "0            Start  Salt Lake     11    9  2012  Snowboarder   \n",
       "1            Start  Salt Lake     11   11  2012        Skier   \n",
       "2            Start  Salt Lake     11   11  2012        Skier   \n",
       "3            Start  Salt Lake     11   11  2012        Skier   \n",
       "4            Start  Salt Lake     11   11  2012        Skier   \n",
       "\n",
       "                    Weak Layer  Depth_inches  Vertical_inches     Aspect  \\\n",
       "0  New Snow/Old Snow Interface            14            360.0      North   \n",
       "1  New Snow/Old Snow Interface            30           1200.0      North   \n",
       "2                       Facets            36           5400.0      North   \n",
       "3                     New Snow            18           6000.0  Southeast   \n",
       "4                       Facets            42           9600.0      North   \n",
       "\n",
       "   Elevation_feet  \n",
       "0         10400.0  \n",
       "1          9700.0  \n",
       "2         10200.0  \n",
       "3         10200.0  \n",
       "4         10400.0  "
      ]
     },
     "execution_count": 16,
     "metadata": {},
     "output_type": "execute_result"
    }
   ],
   "source": [
    "df_task_3a.head()"
   ]
  },
  {
   "cell_type": "markdown",
   "id": "36e82a42-5f2f-44e1-b9a5-2e2d403b2ff3",
   "metadata": {},
   "source": [
    "## **Task 3b: Analyzing Top Avalanche Trigger by Season**"
   ]
  },
  {
   "cell_type": "markdown",
   "id": "af40bad3-436e-426c-a02f-f205597e90b5",
   "metadata": {},
   "source": [
    "Now we'll analyze which trigger is most prevalent for avalanches in each season phase (Start, Middle, End) using the `Avalanche Season` category created in Task 3a."
   ]
  },
  {
   "cell_type": "markdown",
   "id": "72455a32-623b-4b87-87d6-ca9c8ebf19e7",
   "metadata": {},
   "source": [
    "#### **Instructions**\n",
    "1. **Context:**\n",
    "    - We have a facted bar chart. The `x` axis encodes the `Trigger` column in the data and the columns encode the newly added category `Avalanche Season`.\n",
    "2. **Analyze Trigger Data:**\n",
    "    - Observe the most common trigger for each season.\n",
    "    - You can hover on the bars to get the exact frequency.\n",
    "3. **Document Findings:**\n",
    "    - Note down the most common trigger for each season based on your interactive analysis in the markdown cell."
   ]
  },
  {
   "cell_type": "code",
   "execution_count": 17,
   "id": "07df4379-6e5e-4bcc-a878-7457f7baba16",
   "metadata": {
    "__GENERATED_DATAFRAMES__": "ᯡࠣ䅬Ԁ朤壠ᜣ琢〹夤゠⹰〮⁁䁻қ䚾ኊ㇠നСࠩ瀮晼Ƭ穅5愠៤⠠ ",
    "__has_persist_output": true,
    "trrack_graph": "ᯡ࠽䈌ʀ匦㢠⹰໠ጠ昡ュ怶䁠嘡䚥㏠̴䈤瀦柀㍁䜻ጩ౰҆⊪ಲ⠠䭈⑁槒瀶ᜁ╶䇓ᬮ⹝紧Ҡǁ#〨㐃ࢊ′䈤7㺰ᠠ湐戎Ⴆ寐癠ˬリ$疒‣㐡㨦䎇㦲᪠晢๕壡‡犀␠〉᪺䛋仯刄డ㙐它⢨ᣬथⷓࡡ㌱ᄦ㸻U䳘搵漨䐢簬絭ಃ᥍䄭唲Τ㓠殌¾'ዧ俦٥歸䆩尼仦஄ࠤ䩫࣢捁ጺᤈが䚊┬ᣮ䲃⛬ჟ榾殭柡Ⴖ͊懒䢲࿊∢กᆨб姼楆Χ您刲䍣傸噛০熘İ䉄␠址䑄㢘㈬㹭䙱㣵±匳婒⸴  "
   },
   "outputs": [
    {
     "data": {
      "application/vnd.jupyter.widget-view+json": {
       "model_id": "2bb3b25afa2449b5b2cb2ba6b4caec81",
       "version_major": 2,
       "version_minor": 0
      },
      "text/plain": [
       "PersistWidget(data_values=[{'__id_column': '1', 'Avalanche Season': 'Start', 'Region': 'Salt Lake', 'Month': 1…"
      ]
     },
     "execution_count": 17,
     "metadata": {},
     "output_type": "execute_result"
    }
   ],
   "source": [
    "NEW_COLUMN = \"Avalanche Season\"\n",
    "\n",
    "chart = alt.Chart(df_task_3a).mark_bar().encode(\n",
    "    x=\"Trigger:N\",\n",
    "    y=\"count():Q\",\n",
    "    color=alt.Color(f\"{NEW_COLUMN}:N\").sort([\"Start\", \"Middle\", \"End\"]),\n",
    "    column=alt.Column(f\"{NEW_COLUMN}:N\").sort([\"Start\", \"Middle\", \"End\"]),\n",
    "    tooltip=\"count()\"\n",
    ")\n",
    "\n",
    "PR.PersistChart(chart)"
   ]
  },
  {
   "cell_type": "code",
   "execution_count": 19,
   "id": "7de11288-6572-485a-8d3f-3453483f0ce5",
   "metadata": {},
   "outputs": [
    {
     "data": {
      "text/plain": [
       "'End = Natural'"
      ]
     },
     "execution_count": 19,
     "metadata": {},
     "output_type": "execute_result"
    }
   ],
   "source": [
    "\"Start = Natural\"\n",
    "\"Middle = Skier\"\n",
    "\"End = Natural\""
   ]
  },
  {
   "cell_type": "markdown",
   "id": "00e87acd-3759-49eb-9e43-d7793672297c",
   "metadata": {},
   "source": [
    "**Task 3b Notes:**\n",
    "\n",
    "- Most common Trigger for `Start` of the season: _name_ (_count_)\n",
    "- Most common Trigger for `Middle` of the season: _name_ (_count_)\n",
    "- Most common Trigger for `End` of the season: _name_ (_count_)"
   ]
  },
  {
   "cell_type": "code",
   "execution_count": 20,
   "id": "f9c6a046-106e-48a3-bd7c-75d41b4647d9",
   "metadata": {},
   "outputs": [
    {
     "data": {
      "text/plain": [
       "'End = Natural:88'"
      ]
     },
     "execution_count": 20,
     "metadata": {},
     "output_type": "execute_result"
    }
   ],
   "source": [
    "\"Start = Natural:210\"\n",
    "\"Middle = Skier:573\"\n",
    "\"End = Natural:88\""
   ]
  },
  {
   "cell_type": "code",
   "execution_count": null,
   "id": "00367342-988f-42c0-a7c1-8684f887f034",
   "metadata": {},
   "outputs": [],
   "source": []
  }
 ],
 "metadata": {
  "__CATEGORIES_META__": "{\"categories\":{\"Avlanche Season Phase\":{\"name\":\"Avlanche Season Phase\",\"options\":{\"_None\":{\"name\":\"None\"},\"Start\":{\"name\":\"Start\"},\"Middle\":{\"name\":\"Middle\"},\"End\":{\"name\":\"End\"}}}},\"activeCategoryName\":\"Avlanche Season Phase\"}",
  "__persist_keys_record": [
   "__GENERATED_DATAFRAMES__",
   "__persist_nb_uuid__",
   "trrack_graph",
   "show_aggregate_origin"
  ],
  "__persist_nb_uuid__": "36dba505-c931-454f-af6c-30e8cfb51ac2",
  "kernelspec": {
   "display_name": "Python 3 (ipykernel)",
   "language": "python",
   "name": "python3"
  },
  "language_info": {
   "codemirror_mode": {
    "name": "ipython",
    "version": 3
   },
   "file_extension": ".py",
   "mimetype": "text/x-python",
   "name": "python",
   "nbconvert_exporter": "python",
   "pygments_lexer": "ipython3",
   "version": "3.8.16"
  }
 },
 "nbformat": 4,
 "nbformat_minor": 5
}
