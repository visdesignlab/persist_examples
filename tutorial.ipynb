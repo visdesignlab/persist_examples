{
 "cells": [
  {
   "cell_type": "markdown",
   "id": "721323cd-bb01-435f-a189-52f86ac438be",
   "metadata": {
    "trrack_graph": {
     "current": "5a5a00cc-06cd-4338-a90a-1365ce04ac27",
     "nodes": {
      "5a5a00cc-06cd-4338-a90a-1365ce04ac27": {
       "artifacts": [],
       "children": [],
       "createdOn": 1699995232057,
       "event": "Root",
       "id": "5a5a00cc-06cd-4338-a90a-1365ce04ac27",
       "label": "Root",
       "level": 0,
       "meta": {
        "annotation": [],
        "bookmark": []
       },
       "state": {
        "type": "checkpoint",
        "val": {
         "id": "0ed02552-2223-4b2b-8843-223fb8396132",
         "type": "create"
        }
       }
      }
     },
     "root": "5a5a00cc-06cd-4338-a90a-1365ce04ac27"
    }
   },
   "source": [
    "# PersIst Extension Tutorial"
   ]
  },
  {
   "cell_type": "markdown",
   "id": "0892e834-de92-4f36-85d7-deee12490be5",
   "metadata": {
    "trrack_graph": {
     "current": "5719397c-958a-4994-91f0-d7a66aa497ed",
     "nodes": {
      "5719397c-958a-4994-91f0-d7a66aa497ed": {
       "artifacts": [],
       "children": [],
       "createdOn": 1699995265084,
       "event": "Root",
       "id": "5719397c-958a-4994-91f0-d7a66aa497ed",
       "label": "Root",
       "level": 0,
       "meta": {
        "annotation": [],
        "bookmark": []
       },
       "state": {
        "type": "checkpoint",
        "val": {
         "id": "52dfacb4-8b03-4e0d-a810-0a3f919ebb61",
         "type": "create"
        }
       }
      }
     },
     "root": "5719397c-958a-4994-91f0-d7a66aa497ed"
    }
   },
   "source": [
    "PersIst is a JupyterLab extension to make interactions in cell output persistent. Persist tracks interactions for compatible outputs in a provenance graph.\n",
    "\n",
    "Capturing the interaction provenance allows us to save our interactions with the notebook, and replay them at point later. You can even rerun the interactions if the value of the variable in the persisted cell has changed. Persist will try it's best to apply the interactions to the new variable value.\n",
    "\n",
    "You can import and enable the PersIst extension as follows:\n",
    "\n",
    "```python\n",
    "import persist_ext as PR\n",
    "```"
   ]
  },
  {
   "cell_type": "code",
   "execution_count": 1,
   "id": "dbc49dae-f456-4ebd-9146-4ae6ba83838c",
   "metadata": {},
   "outputs": [],
   "source": [
    "import persist_ext as PR\n",
    "\n",
    "from vega_datasets import data\n",
    "import altair as alt\n",
    "import pandas as pd"
   ]
  },
  {
   "cell_type": "markdown",
   "id": "2dc9acb1-d4fd-4949-843b-fa0afa32387d",
   "metadata": {
    "trrack_graph": {
     "current": "5719397c-958a-4994-91f0-d7a66aa497ed",
     "nodes": {
      "5719397c-958a-4994-91f0-d7a66aa497ed": {
       "artifacts": [],
       "children": [],
       "createdOn": 1699995265084,
       "event": "Root",
       "id": "5719397c-958a-4994-91f0-d7a66aa497ed",
       "label": "Root",
       "level": 0,
       "meta": {
        "annotation": [],
        "bookmark": []
       },
       "state": {
        "type": "checkpoint",
        "val": {
         "id": "52dfacb4-8b03-4e0d-a810-0a3f919ebb61",
         "type": "create"
        }
       }
      }
     },
     "root": "5719397c-958a-4994-91f0-d7a66aa497ed"
    }
   },
   "source": [
    "## Supported Outputs\n",
    "\n",
    "Currently, persist supports two major output types: Vega-Altair plots and interactive datatables."
   ]
  },
  {
   "cell_type": "markdown",
   "id": "0dd3f9db-f762-4cb9-ae32-e66f177df309",
   "metadata": {
    "trrack_graph": {
     "current": "532e7b35-40eb-49bc-bcf5-4ac20f338809",
     "nodes": {
      "532e7b35-40eb-49bc-bcf5-4ac20f338809": {
       "artifacts": [],
       "children": [],
       "createdOn": 1699995589077,
       "event": "Root",
       "id": "532e7b35-40eb-49bc-bcf5-4ac20f338809",
       "label": "Root",
       "level": 0,
       "meta": {
        "annotation": [],
        "bookmark": []
       },
       "state": {
        "type": "checkpoint",
        "val": {
         "id": "6680bfac-15fc-4ff4-b8c1-1921d906a0ec",
         "type": "create"
        }
       }
      }
     },
     "root": "532e7b35-40eb-49bc-bcf5-4ac20f338809"
    }
   },
   "source": [
    "### **Vega-Altair**\n",
    "\n",
    "You can create any interactive Vega-Altair plot and pass it to create `PR.PersistChart` to create a persistent chart.\n",
    "\n",
    "E.g.\n",
    "```python\n",
    "\n",
    "selector = alt.selection_interval(name=\"selector\")\n",
    "\n",
    "chart = alt.Chart(df).mark_point().encode(\n",
    "    x=\"X:Q\",\n",
    "    y=\"Y:Q\",\n",
    "    color=alt.condition(selector, alt.value(\"steelblue\"), alt.value(\"gray\"))\n",
    ").add_params(selector)\n",
    "\n",
    "PR.PersistChart(chart)\n",
    "\n",
    "```\n",
    "\n",
    "The above snippet of code will create an interactive persist scatterplot with brush interactions.\n",
    "\n",
    "Alternatively, persist comes with `plot` module which provides helper functions to create simple plots like scatterplot and barchart."
   ]
  },
  {
   "cell_type": "code",
   "execution_count": 2,
   "id": "b58f8f0f-8f4b-4346-8c48-3b0b22d758af",
   "metadata": {
    "__GENERATED_DATAFRAMES__": "ᯢ粠 ",
    "__has_persist_output": true,
    "trrack_graph": "ᯡ࠽䈌ʀ匦㢠⹰Ӡ↠ಈ̸֥倶䬾㴮总nÌ䈠烰ᦾ愵冦唡䰪綳ተ¶⡨⇱㌀ᙃ੼媽⌶㘼嶘吔ࠣ℠Ά䀨振㱠ኤРᜰ嵐üム湁Ý㮄༠א廈GᎲ;∡⃆煣ಀČ䉸凖Უ(扇兒ඳ⥔ᡆᔦʩ䅥Ϥࠢ疔種ፄَ伨ᚥㆢ䀣擠䣉墬ᩥԾ䕤曧偲琡㙐⭔Ⴈബण᫖ࡡ㬰ⅵၣ■᫢㚠෽ѴƝ㪧ᘎᨾૡǕ宦ⳡ曌¾'ఋ䟮⯑碣Ӯ➾换䳨࠴✲䪩ḭժತ⃽ᝀ惣̪֩₤↪͠⡸ర會দ➽猛䑭థ冚伔溢ከ挑≻ᅨ冹㭗៪૥⥼厹⇎ፚᆡ戩ባ䣩㉙Ṡ剈䪅຿≑櫎9⊃䥺⠠`˩紐?☐ѭX䰷凌窠ʩ䏵ⰰồ•⧔㵠ໃ̨㞪慕ņ庰掠ᵬᜩ榕畔⩾䟃嶾⵸එ惺淳我粡っㄠᄸᱏ֢࡬⩸偱傔↯߁䣉⊅à桘㣐惀䁻߰犐尲☧ߡࡄᤲ䗀ᣬ⬽䔀碜ᔠ⇯᫚杻嘋窣ᔪ䃂㊳㓶イᙫ୵㝺㛚໢ߺ໧ϼ瞸ɷ෮煚璐⢦\"䗘渮徒䁈ģ弰\"峠〲㤿Ꮻ╾⟭硠ᾅ゜ࡆբ⠡^㢤࡞Ƨ䁾⺬䏜㢠Ȉᓁड₾䌣ࢆ㇉姙擣墋䗣碅โ摴ᗱ咍༰㐠早痊♁㯂ᔹ尵Ǥ儥р告⅍䶬Ɉ偝̈́䱨ˣ戺ʠ戱ঈ⒋䕃㲅॒猱凈瀹冠ᛕ叱㚥犀=̢えa倸ޔౌڦ惺።㥅ڥ䒛䁡‴߄✔அ稡䡑ڀ౐䛁ᩒ偈২偔я╈Ӄ㨔᭠✔ᙄ旹㙅昙ゃ᰺⭭㡚⽪Ωⲫઃ⅔⺪晎䁁Õ▯䳚㏤煦⨀䁡ϋ焻ᐠ䇢႔磼ᡡᡰἁӀᆎ⸂˭ᬆ䫱媋ݖ硇嵱 ϼ䡁猯垈痉㠘焮ᘦ惴ᮦб儽䖤痜௒䫘㌯喌ፕ㒤杕柙棫柅䲱䐙䃘ᚥ稼ᙥ墺ᕴႸ嚵ⳇᓀ㳘刬洭ᒅⲂ唃⫆ᖼ㎦皉ǁ圭曈昸¬נ漤桱䧑Ԣ嚠፱瘜k䶸ᠻ䎨䤤㣨燡Ⅾ收㧈׳ⅎ䄱磴䜼ૄ䟸媶狲孶䨶夂۩壖㛣夲滢ପ⋰悶ᮧ⵶☦姶⎐䍖稵寖氳宖檭⮢ါ⡑嵰欺⭗㗹݁椃杵殀氳椚㽩癅擒᯺咩䇄ᤍ椬ਥ᧸䜽ᢠ穇⨽㳨ၾဦϰ渿⺬垆B爰惰渧૶ᠭ䍤曪τ䒍攖終帮入䩪登Ǆ᥻䯪㹩⨪䚵㧔痱Ĕ㺪壀䊵寄Ϧ㇬ᏺ憾ρ煾㶠焼桂獞愺狼嗑熞忿秿㦪ҿ灒ҡߣ筜硗畕ᑂ≜⺥卺䲐䘡炭悑㵑rጺ₪∸಄悶䔀ᒪ剚ғ㝤本ʒ⨤ᤉඵ吢჋Ή䂄бᵒ塣ᖡ砳¨Უᵭɐ⌡もΎണ悢೰ŋ尣͠摕䑀㶩⡭נ佷僄ਦغ䢌၀乬ぢ䱉峒᫄ᔤࢰ΂⠺ᆄ❢ౚ⊰㖧⥀ਥ⑇ 炉狾⴬㐥T⭦⢞䭰失ᥲᒚӂ稱䦣䙊㑘⮧撯ܰ缨㤁໱朶ᆎሃ佩ᕾ儥塦㨔lჾुਪऴᴢ⹈擼㮉䎭䨍㶳ⰿૂᐽ礒ᣂࣩೂ嵥⦽⪈塪㢠಩㊺⊙ᶅ㙿㓠Ṇ粗憸䖫㤯ᒦὈ愖ᝲͱ拒Ⱨ㣉Ⓒ殡୸䓰簣䢸ඩ堶嶄僣慒₶㔢怱䅌䌯ₜ昁帠ⴡ᧣׈嫘㣖䡑掰২僳䋀玽ℷᦐ嗍⎢ᣪ场珎嘪䢭湄ⷭ峖⽁㯁䄗ᾗՁ⌰禷稌ཽÉ巐з寘ᚴ⑍⑾琸᡻盦ဍǧ⣺њⲧ☴撗娴֨洍䁴½充ᵾ䇰ᒼ㮇Ѱᒜ狎䌈᱅涹潼尫ు焷p㹢ႜ⁬爥₅݅〹ᇘ᷺䊪Š㘢ᡶ琾⛌ἂ׌盳嶕击痓婖⯑᭯㜖ᗣ⒋仐毫㣗儸ᨨŬ἖ṥ䑞ᖬ㺷䷐柮祏䨐弫篟⠅䁇瀢堅繾儤濳む堘⅛᫘㈵Ↄ࣢〴ᆹᏃ⍢␔ⳇᡩ▹⬐恘爪᲍䁔ѐᠳ㶈̈́䑤✈皊䣼潡ẻᦞᱰ吤导峕㞮牰ඏԆ俍燉ᆬ᪢㉎≛ⵧ撺⊥ᜤ祛ဍ⚲᫔჻⏞8⣦孿⑰ʪ敊䥱⣄䲫啓⹕匹⯧᡻Ғ䞋㥎棍⫷渃ṣ㗐㪒ⴕᏇ䛤瞬溢涅氩涅徚㮠⊿㵔徒痎孭ޒ⢮抻ᇝᒠ瓉擇Ⅸ稶⫰ᮃആ᚝Ǳϙᴧ懫剻⃔⋎畈羐䕣激揹䷐ፒׄƁᅀ桊䨰ᨥ坶Ը㐨癛䋽Я1ല焫ຂⲭᱍ䘘㰯砷ᖀ坌⶧༆摜䉮ኡ乵޼ഥ僷⿀彉¸ሐ䖎玪嬺攱Ꮕ女ᕐÊ䫀ㅵ㵷⹨䇢䠤᧑⮒ፕᘆ㙡ᚚ柉㛭啨ᚘƠ጑Ʌ客☍ᡦ䕌=̣奪R䠉䓴犬䊣⃹涴紫䫳ិ㪹㰘֕т擀渦爪₰孍崉▭播㧗✔噆Ӥ娪Ჺ培嫞੖✠Ű᝗⮗⋮瓥⡻䔣棜囙㲍㎐㟜䡆ⱥ䑽牜倠㻫ນ⁺福̛㿟哿Ⰷ弯撞㿦ര䴺嬪ᩃ㊻஼㚠ʈĄ涹哿⦳᭧托㪓⦧ᮜඎ庽▷ᐈ志箝ȧ墌ސ昧Ợٖ对ブ࣫ణ⎕喺⾂໧⤤㻩ಅጠ揬㫧䲐႐笚⯑໷⴦౻ۣ核㒬澧堵঩㓫幕໪⤠懾ḁ簏䕄宩Ὸ枨Éᱟ砙淐娈 奌䖧៭溓䙡ⶮ㌄㈔精ỵṡ䑸ᓸἉ⺗ᦄ琮ᔜݡ纯㨓䷀㨤偶摀ゎኪ嶩Ԧ峸箢戦Ṱᖽ⥱㜳纅Ꭲ榒⋾⛄ᒑᔃ擫᪽㲥㋳侶嚨㧍䖔噐᳏夔坵縫繄☸ഄ殖ၡデ⭃泧␌⁵岚寺婯ۚ位㾪❴ឣ䕾㩴ⵦ㭋杏❝⿶亣ᚶ熴ㅇ䭌禘䈒䶠ଜ娵ဢⓑޠ嶬嫸Ҟ൶ዐඓ悈穐۪Ἰ׸焵堛ࣘ崑乪妹䫏᾵䈨嗞㋋纃⭦皰㨤濏ç䥰因㧔疧俜滙㝝⮁圙篾ಊ张殜⃿寯搞䁦㭽ʽ俵な桟牁॔䁇㭰࡝凄⟀䞐㤳希求漿堫堍Ć䴽㢣孄Ԅ䄉ॣ䄭࠮潍㮀ㅽ礆ܱ核䉼獈ਨ䁐ㆣ఻ࡌנ㊽ᐷ兄㯎䒽䐼特㰐㖢ፏÇ壳嶼甉㶂ڰ⡼砹ͦ竇᢭崆䂬؝偢㢄嶁㫔䫜ᓇ͋檐䦣稱࠶ݨ◅ᵥͱ㫋䢬ᬅᩞࠐ♽⨼ޕӨ㽼獍堻㋖ء氯彽ᇀᲡ涪恺ϰѨ䌪ઘ⇫媠截睳䮼䡸弃㤥ᬛ䩸⪌祙ら帅䫭⡽ᩀЭЈめ窯亠ᐡᾒů䆡㰧ᾚ應ʡᏬ彸䂇嗠䐂Ὂ䐴⣃㠊挹箴↜唴彑⫴ⳝӍ檐報䋢㘏㒚·ዐআႫ楦ࣀ⠫╝檗䂑帋䭞簆ዙ儫㽸䏌䩨吧ґႯ亠否䁔\"䔡尪渡ᡵ巩Ⰾ歂婤ੜ㈉⭺7兝疂伪凇䔡ᛆ㼵狺䪌晄恹寭初➡甫拟䟴ᮉ罍嫿ࠜ廌ി怽偕:Ȱڍ䰣弥㭫剆䗁㞋晸Ԩ㶢ႉ愄Ҁ䆼獉乨劅â఻ࢃԮ䂢䷄⃯墰⭈㯃⓺⟲ㄣ吴洴㫀㜥Ṭ儕熒㼢㲶笾Ӓ㺡䢁擆Ҫ㙣㔁㵺խአɭ⒮◲ⅽ䈴坱݇ᅲ嘽硪➸䙲ᐡ唍㡰㖽☵僕㥊⃲ʴᔁ⚊⢲ᨹ㓁䝷屽窴䁉╶ᣲᄧᔇխႜҨ〽技ː⚹湴⥆๴␃䑜⅏凙෧䂁碼剭劃ऋ䤮߽ዠ禉㋉䘅狩卅㎉啹檮䥽㚍嬷ቝ䞰Ă牬㣳䞼㞠ࢮ掋䙻৬ᖵ壩፶⣡㖷捃䒼㗸朱㢶析ᬂ紲ଡ䠊૲嵂斖⥐ኃ㪴漴姖ᵍʸ壂焗佌欸⭾⃪䖣Ⲥ⡚΀ᕵࢥ汹塶ज➲⑺燧܂䬿⣼䙔ⲝԸど秔Ⳃ沁⣥磴㰃囁屫窏Ɉ䴼ӷ⪢▍濦罿⪍匁守඘☟儌⢾織❢⌲ှ၈ҕἍһ圹Ҳア㚵策揀㥣瘳䃧֨䂪䲰僙䭓凲硵⋵棰㲲繌犏⓪㪬౻䃆ᘳ䚢Ẹ䁼઄ᛢ复䁙┊㐕爺挏䏱Ⳳ媹₩ᒓ尕⠽箛☫宫ᑺ㴷➸ⷲ㨼⃜卪㣲屷዇ⓨ⑼㭬ᤗ⚳䅤≺ዟ♕Ƭ涯㝓ࢵː䒯࡚⥦⮄嚎ὕቌ啀瓊䢖ᣆⴅ漃ፙ᧤⭓睌升䫫ᵬ潈嘯䢄ⱝࠡ哊瀴ᾒⅠ䡃枰ᔒ㢢㔘䇙ᕵ垼⑘玀ໃ楳屬ↅ㟀奫䫴Ⰵ⌒䕷่þⳋƇ癩攧ႂ㩽儈寺ᙌ熣䙥晩㦵ຬ⡡囚໤Ẫ䱎碆փ❈ᕪ玪ᭈ⒠ቄ笔ᛓᖠ怬ϰᩜ滤⡣˖̡礫᡾懏傑ᶵ⳽䜖㬠疰᳦撮⬃敺㾟曏ኌ堏⭝嚡ㆌ倄㺐⚿ܑ瀇畸ᛢ㞍䗨䌄❙䠢Ῥ㭸槡ṕ墳㮈ࠂⶉ搿ጂ❑⚫剷匩嚱⁼᫡劤ڪ㘌揌撢歭㲫暺ފឪ⢫汎䝻ᒬ೒♸抦▪㤽㑵ᩒאⶺ濊ベפ䜺夳䙊㒃㧳㑮焥╗䮺ڷ䜛☳㖺㱵勩㓮⩍瓵ᝆ㝓㱫ᨺ瓞囫㻁癶憍䂲ᕁ尠⑮熮₁⢩Ժ寰Ꮨ嚊䭂⁛䟀ⅽ࣯㢆㜄ळ䳄䗥⡝ִ䪽ᣅ⮪嗩恶烗ᙩᯩ嫛垍⾊筺㕝呰ऊ紪㪪响㱛歵༈磧⡃㭿嫤戽㤋⧱᳭Ⅾ㒴ᙻ匞噭ⷱ熀澉㝅凱⦆峬嫭∓䗠嫼搗勘Ҫ櫼䓀ᄰ国们䇶ᒁ㎬ぎ慠ޡᅠ力攷ྒྷ啸㳚咾⇋枸⫋朗㜒⽵灅玿䀪盅ⵠ┝㺀罶ӵ婢␝枊ڽ媡ĳ⇅܃嬠㐙‹㬰ͽ䬪⧀ⓕܳ⪣⓾嵒Ⓣ⒪橶ᛳᜑㆳᄀ㛌䘪❺˿⻁㝣䨦䓲ზ㥎㹢ɻ果㐫堦糷⌧ᐻ仹Ã⸱ᇙܡ搬㢱ᐂɱ氥,µ山ప牗㖥㵓弁ᚈ堛佒⤰䪰筅㵱㕎̗ࠬㆄϱੁ睦ܱ⏶悑皴છ䶪憖杢f䐏漝碨粡䏾ᇈ敇㳹᏾㛹ಕ㡍◽欉昋⵼凭䂖⯧໚匼崔煎ʡ泆䢚⫗㎒᷻灎瘵䵨䜋㽻簑嗐䐢㳬⇩Ӎ໦ᳲˊ俢䒣⁹瘮ᵚ歹໊ͧ㳁㧿ຣ啇⣚䰫ᡷ垭侚厉乒楐च䮏竓産㨫債㼘ᑟє䢰Ĉ㛂⨛梲绗眂┺⁆䛾㝋㮳㿷䶁㗈䳔Ń䙥䥎ᵉ⑈䇅㫳Ⲻၝ帻檫₰̮皌冩Ⲇᰵ䛚㜫㷩䢃屴᫮䌬ௌ姬㘑㞲卜牪䭈劬⣤㶝䱫㺥˿❋橘珔ɫᢥ丙ᨧዻ㨂㡄䦑ᱏ䅼儬溴時朔㒠敻瑆圑㯌耔⢃ᶔᯮ䬭䃝䈅㢸狢埂㧝榼略᝔园ᔹῳ࡭悔䈂ᝂ琫悗㋶〵扛䢞ᬀஂ拌⩤㉐浒Ỳ懥ᩄ㙋ȀⳔ䜶㍂੨籯࿙ஃ焠⁪欅う㰡䜵ඤ泔✹প堒篦䋗燱⿤ᱶ⅟䁒捪绺ⷯ划禷㰶皨琧ಭ⥫万ㅸ慭㜠乐⹖疎㖂ֈⲚЂᜰ䰫恢ζ䍙搧㝭䥶ມㄤ䰲戬ਠ⚽䢈䱈灧䩘ổඨ筁ᩕᆽ཯㎕咣碫秺䖠ⰸ疇⡍夛恲罠㟍䌛ྡ⧘╴焳耈ɚ䳁⇆桴槄㟟☣浛䋮䲳⮢㵚䄉喵ᯔԩ઎槪⊆翱ǟ኏ሆ獘ᡭĢ揆㣜渄ؒ㽫㡏ج⵱埗⭙曔ഥᴶᒉ䗃ռ泫䡚᫛估ゖ㍖ḇ䶮渆㝛ȅᜐ㷖壤ᡎ漄ࢀ柖オ砋㶆珞帊䡼磪ࣔ淄⼕㫳⯟ᶭ渾䮗壝络⾨ஂ⫆梀摐೺ᆷ痮爸ỐԳ凜µ䵩ᯧ䁦ⲛ噭ㄹ䳶ป坓䤿଀礶㑝檬汞ⵚ樠⻖ₗ⸺䯶㢣疤䐚悡琤෼箵㹧⸨痄瓱痷璙痰兑滊绗嫖Ბ摖◲ Ȫ璯⢀Ơ#崕ܨ嚧穘棾߈'ဠᡰ炚䀠ઢ৔紃䇣⧬T瀰濃嫠緒䜰嬂⸥ㅓ䄹⎩⫸ᤨ݀团ᡚŒ௕價燶搥㐃慿礎䡵㰳䥸櫤⟕㖳帏㶀஗௰瓄ᓩ穀嘊⡊䊅篏䘭ᰌ䎍☿嬭㏗䎘̱怜㫽⍼䩆Ġ䜢㷃ᦹ䫬皅ӕ⾊繓श崵⺊縝囇㕓⻚璣ጳ䪛ᦨᘀ婢娗梭剗护♞ᄦਇ㛥䥈惪捼⽅㭏−㽄಺〽ᇩ歬▕㸪涨᷎㷞᜾Ð䢤ୟ෮ユ秇焧槠€禔穠䧈⪹㮧侏䒖㊂倾糭⒂⯲ᐽਖ਼糝侂इ撠掩毅⚠睛㦷仐ҕᎬ村旘爠ႛГ佁睪梛䤧企琇䒟稔伄翈䕙⧶࣡Ꮗ此䙅僠䀠⾚㻳曀ī⠍ᾇጏ᪓君幝氁⚝㗂珓端宿㗐䌄ೀ紮㛄⌂Ꭼᕯ࠸䇰ቇ羧㞁站ଯ杻㣾὚息İ搁Ṣ呯Ⲙ฀涏⥖潷磋砾ⳕ⦓䶠㞚哆妘ⶼ彿㠝啖⸐毴渺㿠䛌➵旇塹级ޟℏ䕇S干ҏ攒嬭ࢽ戬䈝椨簽Ҏ唗吺㱓熾㙫➮從犗⑮ξᲄ絀䝄⁞䅙璁㬐‽䧙᳀㑒㳝揉؏滾箶⾛㰎᱒⎠琣擓櫯ᝂ惑嚜㑙້㼴ⅆ㢢嫯Ტ䆅䬔恌᳃瑾縑᠞监圝䐗៑绗ʟ㐅᾽〛ᢾજ叝⏧積媗#䏹཰㬬ါ籓疾熠៍ḉ惯䚓染ᵲ܏̛㏪烪唴唱㳥⮀ᮜ橀恃Äⴙ眂᮲㴠嵱珨ᐾ㩳䈂玴Ṑ礰ޯɜ纖Ხ᝿䑞哾Ῐ䮛濢畏櫶碴澻ࡕ༔哯㘷㲰働剔⫻仮䊹⺰ଛ戝Ό忲㶶ὲု癖夞᭡倈х缔窇慛ᠽ㡑㡩㡁䇼䏅ܰὂ㶉䠣Cǰ੠Ġ入侪䂚懐眪伮⾉㼎懑༞榒湧㫐䭑3罱碟瑦„⥁ጭ䨻ಭ悶Ơ㠢⫂倢喃ϟ瞨᠞猦5とǖ߸ᤠ兝犕᏿㼯䁉盳䪀⠣ЦȤ惷竚ட❜ထ᧹缿䅿燓冊眺ଣ刿烓㩂ނ᷵⢡倬䂃䖤盀ጠᔦ䳮牃䆊秗⭟㣜Д⿦⼱絘տ兾姐㠅䎦ŉ奭䉓⹠圗㪽ᜨ┍灍䰜㡋எ₉㚴ص檥ⴢ㗑篰ɟ㶸࠯喡宣伮恰↧㣒⾞ᡢᄨࡑ完經牐⛸㔑䦄෎欄¾⢑ᇴ圅京偼Ļ䍖䵡昺⋀⎻ᙟ㪐橧ₕḖ琻ᆔ䏎8ୁ着✩恞⇰竩Ѱ垰嶠☬傪哞೨ⷶ㾦爸ҁⅧઢᩰ嵈尗ࠦ❘şࠔᩌ⺚ #偩磇惯፝㔗㨻᰾硩⎺ؠড庭攻㫗礫恞㔡㨄漦䜦(͹᷸䑣∆⭞h㭷ɴഠ䢓ᵨ㱖疼೸徜㌧╠䇠Ӹᘠ䙬ห繻ጤ帚ǡᦠ䨣㨼缭庹㠬ጩᏜࡰ偞紸㑆ो匲堊殈悝㛀㡌ᘩ㋣⟴⟭㴉牄㵞ⶤ堿寂懥ᆉɗ⏃ᢪ琲㝕䉵‪䒀⎨焫䐹䴓燩Ғ㙀⮑ᔦ䠬䷎ٶỞ☻ᦀ碋ᙞ毒気ᜬ撑烽ⱒ既i䤊ᥲᶨ氪咊ᭈ淨璙㲮ᠩᠶҥ࣊䦱⋦夺Ⱨᄵ䓃ո䤘㖨ਫ਼変᱋戊娖医洯ㆻ㳩䅸抣ᣵ椧䤡挡Wᇫࡘ٦⮫䀨悳拊俞᮰剣⪪ᦔ僀πỌ䡰ਮ瘾ᅠᔨ俢ォ摋汜䋸戤ⶠ䑤䨾ѪᆍԄ慕ڐⅠ曡繐ᒚ෭图戤惊ₐ愰樺ၷ㇂㐭ᩃԼ⒆઀㏎囚⡋ྻ刓Ջ䱗᫢宰ف䙗᷸憀ߢᒁ乌湂㳧୉࿦ὠȡ⡜値䷛ʯ䢈浪᧤㮨Ě塾ৢ▨䍁墷摫㵦ͽ岬࿹呫ਥ盋≮ᮢ⿭·悽池䕔*ࣔ⊁Ẃ咼ń惵ௗ┳ᐱ痴搣㢛机ḩ䇂᪠㦤棤ৃ⭔㳱㨠洿恵冎䓺ᗠ㩆ຬ㩟备⌈ඖ㿰᩠᥉是䷬䴚Ὸ撤沲㤰ᣁσRᖩ䍅墵䓉┠甂⪠㒂嬫䀹⠤䅩ᓘ॑娣煀ቡኳ٤፠ઠ⦡≦䧀珵括᭑ᝡ෫䰻ᆙ䒨啒᱘⋏䏚ㅍ礈᧫㿽峑╧偧悷மfճ场↶煊匎᱐㼃硇怸碴㴊䥼㇉七ᪿ烋⥥炕ᢘ爃㶫櫹଱䔡ᗅᒑ䔃Ⲁ滄燉X摰ⴃ䬷九罽旉ₖ཈㎒䨨寃圙֬঍⺘䰃怫汹൥䃈⣘䛤夲ⲛህ䖒Ỹ剁ᶯ牎壍䢵ྫ䳾䴀˂⨽粹墢☘盃柱ၛ纐㖏凉峖熦䂹矉⻾硐ᤤ嗂娖罯孜栤噚䠆寸⪠䩨䥸ᤞ檬䜉⠵ᔬె዁䆀Ზ涧㿈勘䈺栣䜴癓䉬Ⴑ筚ቀ㐤䗨䆰↬扸惈␻䒑⧴⫁硯㕔⁲˜⣼↢嶮㪇Ý捖રḡ摮♍瞂協஁䢮㾈⪽懀Ἂ悧⌠㛲磤㬥␣劎΃ᤉ縒亿Ⱕ椪⁙䤨Ꮈ㫩⌯ⳝ劣㍱䣹Ꭹ䕪㙭夆擼፣⩃⸥槦倣Მ杜ڱ泓嚺⹆榥䆙梘毤㑔᪫?Ѵ૤Რ㝀梇ᙽ櫜䕠᯴䍲殨൓㣁劗ऺ⍘仅༵碳煊䑛ःᵉ挣恋ᭂ䵯咢䐹㿥䆷䮰॰撡ሏ׸弗ᩚボ⓺㚢┹۱咴ࠫ⹴朎抋Ē咯痪䔍ᐧଉಙၺ熌ၠ㌌ㄔເ⏑㋩‾ݤ碋䍲ᏮƢ䈄ⵚ℘䉘ၴ毼䕨桓眵㎝儅倎ඇ帺帿ر栀Լ䥸⤦ᱪᢤ珢䙮⫂Ƞ䟦亻ຯ旵䴼䰒燭摭㉄玘̞ⵙ৅ಎ⻞⒵桚ّᲁṦ᫼ℶ⥓䋀Ǧ睁嚿᪦楉Ԏ⡸Ⳓ嚂䐰㥰㰩ㅘ㪠塘⦆ᠨ簷❼Dヂ嫃㝶沽吕俺⧹⏆嶷㝛妲晽ᨔ昣᠄本戤䷿࿠㭖₅࠼ڣ㥣ޣᾷஓ漖ᗶ೓⎺㑦㋎氫␃⛟㥔✉Ṁ˰睡ⴵ᪛ዖ䊺⇨❆ᔉ㉯梨⋹ᕬƫ⸤㥝琫Ꮴ֒⤺孆ƫ䵇䥾䦌挫ᴉᢅ␨听b䳍—寰冪⭄⢅僰̴娫᷆Ӑଠ嗒䙪↰換撱㓊婦ᑇ择ࡡ湎亭ُଌ∑㏨䪂ቶ䩮癐ᡍᬔᬨℤ⒨箈䫋֩㱅㼺ɸᦦ㡑ᖤ偲牒侅汌堠吩ㅰဴⳊ濮氰☥vॺହ┢笭ܷ㠵䵞␎⣊उ㹶㇏җ榱⮁᫠ᄽ㉜ⅸŁⳬ䧠⡹渵׹ɗୢ笠ᕰო㌂ଟ۹㲥䂪⡺粭ו䌼唢煉䙓绶㥱䗲惠ᤥ榫厠ဢ׎䆸䳠ᘫ深惓嵜ૢήᚌ⃹䬪瘵B懈淹ܠ⨯熭ޜ→Ӡ ឣ⺳ি礳ᕂࠢ攑⿯䝔˶懠⵮⠙ጇ㺹ⵆ硾⊊ᱳᶓ紭͊⋆獦੔⹥栈㮴冗㨀䇬ᅥᾓݗ÷匡ő䒲⭈楇⭭巈ؼ氖溬湠ቨ䕄⫈勥⻔㊙瞸碱嚬嘁┶佊匜磮柺䳝␲␵⍵䣇㕳晫䌊奆⬙⇑䘥∽ᑙᅘրᭈķण噣ㄒ旛䣌娓㍊㱕彽͊俰㓤䊈䀮նႥஂۂⱊቢ䤡૤Ⅸܘ㔵ù䴵㙐㖰喦匪數㗢䛈♄⬃⾌ŕ澆攁䑠ヸ䗤ᘐπ尭ῼ罞ɩୄⳚ䩧⤰䢈漊㫽昼塡∭怭ࣽぅ䟢᩻ረ江烒ٯ⒎ᅠ⒡挪ó䪨⳹⌅㈴ⰴ刣×ᘼ徒晭寳ණ璯啓䉮⃀᩶殱䯝㨅ᰞᵂ玒演园峚Ё䳢勱ᔵ恄ṽ⹬抅ᓷ⛄㟋㗸㩑犿⡲ⷈᷚ箰ᮿࡣ㮅ᛐ絃⛈٢吭灝䎒埘抩瀥቎ၤ䄂ྎձ㲄佣๕ዴ⦰丩ᩇ橫瑱㖾§溗㢠ᰬ㐩მ屫ⳂΡೠ倇倯ķ笨ïά䟨㟩ⴓ猆ⳬ☁眙⪾吮᢯䇖庠➋ⷢռ䂊⤛⭣侅䛑๊汄⁧⦜⊯᜺᷈㫛嬞᫖ᎄₕ䲡ݶᎈ痥曊፩㳄ㄺ⤰⤙ⲑ㷹厯禒榑䂬ѐ⁋㛕惘⽦᧲؄╠盢䌺䔱岌㐎✅⤳■ᐼ熔獖ᅭ㨵ࣴ㍽もᗑ哂宺穋㱏㑂㕩燉☱㫙㓛㼳呣ᗙ㭛泪瀳Ⳍ㓽䪫⎴⨎㴺㟴搉璟刂喱Ҥ䌸⡪ᗞ㴃㓬▿ӊ㙓ㅦ奅㓱猄≨ቊ✳摀偰㱣㕪㰕╅晪9䤻ʵഫ㙫㭐笻⁄᥮㈣䔸惆琨牦感᠑ᮛᕋ寧㬼ん᪯エ཈映ጠቌ䦥ᕝ䣄朣嵥⥋圇櫔佩⚈〡暭冞䧚ᔹᡞ⺫ى様招஼估૩伄ⱹ俕䕀˸媒㶫⸤㣟粇ச☦ႍ༷۷ֻゃ㒖䅖偲棣ⷓ娭寃ڬᝀ熣曷ੲ涉Í弲歪ᢊⓝᓛ欺琝↬峄禮䈽൉䙗暸玝娫⭚粼捕䵑ᯞ汇泰畧㕝唥欆恭宐秆灏᫂ㅧ䖽਑姴率ᴽ垓址šẉ瀪ፂ㴫⫤⽰ᱤႠ瑈∁Ѭ੨岁撯樮嫀猆咍㋮曷⳰὚⁅˭䬰➑椠঳歇ᱴৼᕠ焥粧ᙼᄅҪᑼ㒺㲋䧗嫥ᮤ楳⒕॔⋼籾♯᫥堬囃手ᓻᝦ牲毞䵍᏷摾湼᤿㑾嶶坊忊⮣ᓂ㭉Ћ䘩䵆㽻䭤稏圕椚䆛䥋某⃇塪桗-狔炌㛔⃍䄼䁤̡⌧磼焊旘گɀ寱爹䀰䣨㠃媦䅺汆᷾⻎䁟ԯ儨籗痵㮯姤㚘੦竢欍凊㌕ʆⲘ⍑枥將傎㇆ሸ኎䅵朊๪漍䖲ח⩨瘠᷷㫁∽咼宬᧚ᜏ怬晩ᅯ測崝⼹䭥㾓帙嘖ᴒ甒⌶䜬暺Ş⧑哌猹寧ま㠭啹刪䶺ރ翧偢喆捓ᛞ㙒䊠ᬹ⁔㢼␻⸙ⱄ拂ݛᮥ殕嶽最峾ខ⪲瓽⩤瞻擏⻍塷ሐ⛽㟁㳸⑿嵴㴦䛅孂岚泌⟃䫶䵳濯❝傑悻絸㻨✅䠦䗽㤶㭬㤸磬擾᥀⏈㱄䐠ቻ঄ࠎ羚䕉ᡯ䐺ᐚ椨ῄ䙆㦶⚈搤抐䠴䈈厎煔労偖Ԡ焽ƣᇽ學涖ڃ᱐♚ⶠ倷㛵ਧ欱čᇘ咻権测ᣞ巄䗺垍㠧⌅儎漛⳩៖䱶箙䕷⇹ᄖ䶪㱩ᣋ琤䜞䞒㗥ඡ瑞ㄡ䏶ᄸ㞂ধ汯溼獎ᏔĨኘᘨㇵ帶ᴱ″ڂͫ䁴淅຺氨戬ക㊺ჩᷮȅṮ䬛眩ᕆ仵㋏们⸁斷㉇ēね⥀ダ㜒䂯₌堬䷸真书䝓䐭ᣢ̵䇬㥠˦栺眹㇌۶῭㴱㽦ᗼ⍪嶍ǋ凎毀嬋樧⺦氉঍㮀璤Ҡᦖᐭ䂼Ἠ㖄勅㜪媕犗੼㲕㰖曠羑緯畦ណ䘚燤㯚继ʈ ⷐ䁨堨惢⶛噧壪璛ხỚ䃳櫆ࡦ㎵᱋䁧䭡ᴭ㮔㙾傥Ⓙ慽垌篚焝㘕጗⺋Ẃᚵ瓘⵾勋ᐵ汍ʤ愌೹╚佺璭ᰨ嚢䕿刁໒▃ম⓭ۨ䍣▲ሕ紽䍤綘㓌ᚲ絃㐈㷷ङ筵ὸᆝ䶧Ἆ疔敭禈ᩑ䋫ⲏ竝䊜拖▊布Ἢ㹙挺呂⌌⠑夅幣㐰㭡q盔紂ⳁ浖⠣卟ཚ㉄㿦溺ʏᒏ篔氟㊴岣㎦児̭梬ո㣤⋌姕捅唪柠ٴࢣࠉևಛ⩛౨࣡簁䶫摙㋱⿁ⷌ㜉㙛ᣪᤓ൝ᬌ䃁ᠽⲇƠ筫䢺䮠ᦙ兜ڝᖲᝅ廡䲛᰻択ồ檳梢⢳羘ᩭ⓸䓢೷幤ㅛ䩯࢖㧽䌒Ŕ勐䐗េ屩犽愉࢞秲ɗ‴᪺ೞᄈ禳ᴮ剱㱎₻ᦄ叓᱌㹌☬䙲䝑ㆪڍ咬汗羫䐋䑕弁䅐⋋墅刍婜ᡩ⯣ᥭಫ烸䍡挽嵉司瑇ᓔᇝᐎ沨罥撮梾㳺⎆᝹ᔂ埻䡽緇悟婠Ч㐍䢨㲳䤅獣㓾㸂䱲劵䏜懴おḪৃ⒕㛺䝡ᤏ䳴㘙癚⥪䆝Ợ㩉Ṗ咽糆ٚ䲐捆俬勦眛ഏキᕬ暣㊄㢠䊩獚牔䡥侼⛜⻥氥嬢喉៓ᾨᝓ㔺ᓘⳢ呅䷉㹹槧␈岓⨅㰍D㧱窛ऻ㣾儗๜㟯㦽҉㲘ᢤ䳦>噦織█痋噥ʕ㣀掷㇪ď➍ᶖῳ澭ᵔ㲐㏎俅༉灇ࢽ⩈偙䴪䋎㑝婶睳洋͸倖㎩凹ⷮ຀䨄篧ἅ゙♬摅棣疉甤ㅔᵇ箈㊁嘅⭉ᾔ㊢㙬́擻╪猌ᬠႄ␠嘶縫㤌⇺叨ң䷂㳚Ó㈴⌎᜷な࿝ںㅧ橴眭圡⟾哨j皨マ疷⨖቙㻣❷湔挙晕㟷畮縌Ⴇ⼅忌䧷澻旅扫ྃಠÏᒮᐨ墡墼層䷶幻ᖡ疦¾寺か㟌䋘樰Ⳛ孠坤䏀总糖嶙叧ࢬ੐䨂繿ౕᓩ䅠㚹橢愥摩ᢋ䀠๣孚ᮁ癹ቁ⨨䐀䓞Ṱ椥䯞け攈㗸媶䲚牅Κ秌½⾢΁ዄ䔲䒞痋䏨☵Ҡጡ᱖ᐲ叅Ϻ䵀ఒᾠ秈˔嶲睫冣瓒⭁䯊ⶶ㇅牶໧␱挴ÛἯ㻾䆥筒ⶠ珘䲽䌬䊛੊旌嗺堒浞䑣Ổ͆⮇ጰ㌌ᡰ஑䅢ဳ㰱坦ז刴煢嶫⸱擁₮垙ਇ䕎梞⦴ᚾ洕᧨樣⽛֥చಓၱ䣨癄增෵倮∵⊊巈إୱ⣴叇㎢ᣠ᳄碏ະក⌢瓍⏔ɗᬎ㷐ⲟر䠠ᄼ᥉ֳዣ媬浳࿁扚灛涎╄㳽丷淿⒃׀㫒᪁Ꮹ䤏䇾⌎┡∄㼽澳㹡‭౛আ未㽛ⴌઆ伒箝7㔶筦嗻ኞ笙晼᠂悃䏍ٜ噳ර眚厜狪籖掆岘⃀橜₻䢘㍲✐㊛⤽␔䃚ᬽ㠶緼㘿嬺甴栏৑ⱉᰏ汳㮰㺊&䡠䖀η㗍㐾嬇᝖ᰐ᮸צ䂩⳱㣷⺙㞕濶祤㶟旙悢徚瑋喏✂ᇂ摺淲尘湶竹ీ淢埲滍卍⼅硜⓰䑳䶱൵叽䘌ࢆ䦷殺屏㗋瘾⫕僰䝜呷傝䂅ୣ栵Ωߔ䓅⳺᤭粣ᄅä䂂৕೉栣䠦灡∱ð樌ゥȠ嫺慠䇼ᑅ娗廏ᕞ亩䙲哮ზ᪏⮧⛾猱䩓㥀疐會∱塾ᰤ䐥ሱܽئ⁓䟭恵܃䭗ṟ㎍䥿༜࿴ۙ珠歴๙炨ȊӇ□ᘠ'♞浂䗡坒䐸ܹঠ㚌䴡堠ત烁ⅻ䝀ᒊ੦వ੻搤䜽Ⰻ氼ঋ䈏䬠泝㑣䡗ⶾ絗ံמ僪琑ㄕ⢒愆Ꮤḡᇡ懗࿷抙䏢❸㢼拋帽䑥懶㵜ἒ彵狯ൺែ渆⟍幖䝇ᙬ羋墂〵᳖۠ঀṵ௶嚸᫻Ѧኘ㲡䱩偞䞨ⓠઔ⾘欩┕Ꭼ举㳀䓾治ࡅ槨⡁⍱䡅啛䉹ᶂ縕㈹淞⻧䙠ઘ夡≅ἴ⩰ႍ᷋嗋搱䅪卍˸瀏䈣ױ⟁ᚴ碫䱋䣟䈵஺侁ᨖͭᏂ綳␣渡旌௎䷌᣽ˈ惌ĉいᾜ则楫猏Ț懠ಱ〤⤄礟ຼ㲾קႾᑖ৻᯾ẓ㧳笊㻓త἞仒專㪧憿甿囡⯨⤮㷡槖ⱝ䱓㎹מ㷾䁧ࡒ娬秾柹碕㗴㴂牟䊤咆悞᯺䗭䨃⬫屄ἅșة慤⋥エᷱྦྷ樢磛疼淝㗮傰⸍媖䢏០䜒䅥仃㶐छ匠⧱畺緅⛳噑拪沏Ȳ塮᩹㴀භ翠ᨹ早ㇼ峑柫傌˛縩惜溾㞅棗憠䮟၏ᝂ恶碒棑ཋַ绸ଚ劬ᗜ夀೷۱䵱換ഭ廁ᖧ䤵ᨀ⫼㊅熠㿠曪怦拹気Ⓚ〜牤栦䍽恢䜽模ⳁ戨⧼᜷䖴璫敮ⓟ⌎史໷Ẑ獻㺼࠶ᆀ朱瑛曡䛏⼐ㄋ䆬媘᭖暇湴僱ᕤڐ⽽傥掗⁆䒕׸䙮䌎猫Ἇ溢䣵䍔䜁㬖䁚᤻㠸㷴१嵐縖ᩍ⠤烩⌫塸㝥媨எ糹ళ◫‪җ⢵ث擷䠹揤堋桌俖眍⺒䯃ǣ犍㔳ㄖヹ⏡◱翭ોゟᓔ㭆䜝㗀Ũ橝埐⏠␸巁䏳湛ᓯ㓁㳤ᇲ䎤ᅐ伩彎掩慖玑䒹㖄㝵ᯗ屨僬㸥拧ด絾׭䠊䇙߫⮐⩻竸䂌䂷㰃ங吗垙ሾ瓻峃歛䶾௟娟䛧ί㽪Ꮸ坝㞖光搒㫤瞈⛛嵤┙桓䥓ϴῐ撽素࡞傐䀤ƨ穾෍洅燛㈳A㙡崓䠬幺瞘䁄୵⫈掵㎊瓷㬧шʦ嫾ஜ㲣㟅ॖ礋ஏ┣㜖Ⱎચ׼ᅐ䨿㋚嘃瞙⽞癐其㫟řඝ⸤἞乗䙯暞曌瀔䲌畗睺ᛞ罪氍ၯ匱窺✨ᔙ壮᤟䅣°՗㖴㜭搘䄽㏌㪴啀י稉坯᳜烦㔩瀣扁ៅᲲ祫焀瓜ㄻ㰈ᱦ忎ఓ峎ᕤ䔽ቀ⸸欕⓯⬿䙔妍䟬甚泸᎛ᤠᘏ缶֪竢ⳏ疳屃急⩙㿣籆剞䖞湍ྵၑ糋罕⩿綵௽᠈浮纹簐ᡜำ栙漌精៯ᗾᆦ帀⾻忻䈷䘎ⶥ怽ᖠ㊵㧽╷↾ܒ᧤᥏嶊璍擮Ί權ԅ庵搛烍ͽ䑦㗭䃻Ḙ㣙緖笅渇縒䇼Ⴐ㨾㻑掩浬命䌅ⁱ瞵毪䓧䠊㧈侴灗᪃㱒樣Ꮊ籡㥽䲏嗾楖⠍ᆽ碆ޫ痜᎗棹ᵩ庣稊笚敫及࿌演摐㮻䘢⃹渫˒昵甠プ栥∨湼⁅忤፫᫦秔俠寉翇積嚞樝⪲ⶮ潋杜晌婳楨㍩嘮䌬泽߫唝݈溻㸉糯᷍䚿滗䈟欤ᴣ㰵䟶៘ᐤ溢䲏㴱₇绞䘛圚垔Ẋ畠瓟䕺䴔嗏濕簁氦䦻׌ᧇ㔒⃲ⓛὋፐॶ▎圊岵㢼窉ღ⋬㮛ᢏ簛䮍Ӯၧ䵙Ṻ媶嘯窊倞⽻缿ᡠ毟渉簘ె㍎㳪翄璑盗縁㎟灲䯍ᱛ㫘劑㛚分ᑄ粣ဦᝤ爲碘΃戶⮠ታঀኡڙ䈐䠎䷬様䭨⻐焿$Ӑࡘᣯ⒞೽ⲊᨣĠ࠶煜㼢缜汳稟捯欆䍟័㌜㨛䢲  "
   },
   "outputs": [
    {
     "data": {
      "application/vnd.jupyter.widget-view+json": {
       "model_id": "a93b70d4eb8344a98dcdfd42c0ed5f44",
       "version_major": 2,
       "version_minor": 0
      },
      "text/plain": [
       "PersistWidget(data_values=[{'__id_column': '1', 'Name': 'chevrolet chevelle malibu', 'Miles_per_Gallon': 18.0,…"
      ]
     },
     "execution_count": 2,
     "metadata": {},
     "output_type": "execute_result"
    }
   ],
   "source": [
    "df = data.cars()\n",
    "\n",
    "selector = alt.selection_interval(name=\"selector\")\n",
    "\n",
    "chart = alt.Chart(df).mark_point().encode(\n",
    "    x=\"Miles_per_Gallon:Q\",\n",
    "    y=\"Weight_in_lbs:Q\",\n",
    "    color=alt.condition(selector, \"Origin:N\", alt.value(\"gray\"))\n",
    ").add_params(selector)\n",
    "\n",
    "PR.PersistChart(chart, data=df)"
   ]
  },
  {
   "cell_type": "markdown",
   "id": "33d88224-c199-41e3-9c83-05f75d9a013a",
   "metadata": {},
   "source": [
    "\n",
    "You can see that the output area looks different from the usual output for Vega-Altair. We have a toolbar on the top and a sidebar on the right. The toolbar gives us host of interactions we can perform to manipulate our plots.\n",
    "\n",
    "Persist keeps a track of your interactions and stores them in graph called provenance graph. The first tab in the sidebar titled `Trrack` visualizes the provenance for all your interactions in the cell output.\n",
    "\n",
    "In the second tab you can see the text summary of everything you have done to reach the current output state.\n"
   ]
  },
  {
   "cell_type": "markdown",
   "id": "b74296c9-2e95-4cc9-a343-5b714c28e39d",
   "metadata": {},
   "source": [
    "#### Interactions & Persistence\n",
    "In the next cell we have the same scatterplot, try interactively selecting points. You can repeat the selections as many times as possible. Try clicking on different nodes in the provenance visualization."
   ]
  },
  {
   "cell_type": "code",
   "execution_count": 11,
   "id": "395506b7-7f57-4c0f-a7a8-8b49de034d5d",
   "metadata": {
    "__GENERATED_DATAFRAMES__": "ᯡࠣ䅬Ԁ朤壠ᜣ琢〹夦゠⹰〮⁁䁻қ䚾ኊ㇠നСࠩ瀮晼Ƭ穅5愠៩䀪䈲Ḣ瑅敊❪㊠ྊ劮ᕅ༠⍌Ⱐ䰡೦Ÿƈ㰣堠᦬Ⱑㆺᣜ⮐睥橧璯䕰壶䜠ݞ䐩䏨ኢ䁠㡰᳊吨㈶劰怩愨䆹䱣ض挨ㅳ僤ဦ惑ݹ籌堰挬濎士Ŷギ㏧↨㲨㡵ܬ༠්ͭ患䭱囝抃ឹ㣠夁ê慴杰ᛚ咂㦍墢௎䅝檖ჹၚ夂∥౼㷉᱗‽ㆭ๜ବ稹䖕ђ⩁٥惒沛ㄣሂ僦㥽א䈷ᗢ䒺傊ᠹȂ吠ව䩢൚汾ၮඐᆨ%䧠㣉ᤩš䠠ᱸ䇤熣ࠠױख़♋০焘屚૩䅤ᄰ  ",
    "__has_persist_output": true,
    "trrack_graph": "ᯡ࠽䈌ʀ匦㢠⹰ಀᆡ䰸ঠ䙼րୢ䂖,岨ˠ❂Ȼ仭ᅳ⠬浣⡕ᵠ݆ተ¶⡨⇱㈄ᅁ╶庳ୖ份㸙ҁ#℠΀暦Ą䁅ШN㵀〡岁䋼℩㎎攠׈䇈G㎲;∭䀤瀨怨Т求⸬᥆䶠ဣ㄰ը層స⸤㎭஡䃨ᇹ値ᤉᑒ䂾㪢ᱭ慔㍔傩堼瓲ᨧᬬ劭◡\"瘔ڮ卄㥞䔨ჭㆢ䀣擠䣘੪㪖ᒢᗞ⁇栢沁嘬ᄰ̸ሢ綊Ⴀ湀䉆₈⬠㖩憠ᨚସÞ絏愐瀸ᑕ䂡㳾㡝挢巌G䀠灥属థԘ儰⢥提ᰬᦹģ䒲㩪Հℬ⸵䍪瀩㔦¨べᕊɁ偰̽ᝀᡐ㽨⯓ᆈ撡ㆡᘨ恆⿲⋱Ȿᑫቐ⩣የ狴Ṡ剈㡅᥽჊䨄宾⦩戩ብᛁ効㙷៪૥⥼发ెॄ 䐢ࠪဠჀဣ*煙䄞䀶⠇䀠絔⁋డ拤䆩珓☤宰ᐖ捡梜ᡣ曞㾨ᚚ弚੗皒屲☧ߣࢄ┦䏀ቊ⬽䌀碜₸➺᛫᫹瑘皉ؠ䐻⣇㧲畄溗ዱ睍帿л瘛繐灚瀩䄰呀࿱愂ఠ԰灘ⲁ穪䁀⏨Ȼďn眪䬱咚ሢ埌ὁᱪ䉰ࠊ⑀䊩ఴª⭅丂␠ཪᓀ䠤╣㠃䱱Ẍೣᠠ䆡〲䕠䰮Ɂሻ綀宧ϩ㺢䉣㠍椙ث䇈❡ࡘ┃⃀㘧㖺᭎ₙ̡ࡰᐫ䇲ܮ․ࠧ䉠࠶炘ҭό㤲Ā纍䊫㈼█桢ǃᓧȃన䱳Ʀ䱖၆祑㙋䘑㖮むܮᘋⲤ水⮌冸➎傛ᚬ႗ᓤ灩⸣峊൧⠤͡䂺୬ㅵ°⅚㴷栦ტᣎৎ秊ⵯ⤺㍣₂筯૚ཤ䬦¬ᥦⓣଢ଼,傠篟倠ᐬฤ䇯弰Ć2倉偄〈,ᘙ纠Ų缝⍒㡹䐣䂕㫥疸⃐泥俤ӡ؁ěჳ⁵ઠჴഢ檧⊢牐ᬠ␼ၯ炢㌥म⸂嚅囖䠭书㚪ු〾ⵦ皺࿑栣割་ᎆ求✦偕ᙁ丷଀⹖গ♐彣⸻倅㹀侕ऀ制䈵嚍ḷ䬓捷ؑ⎯娗廻夗䊿䱳㣟怖冠☇憤㢬䆖ಯ䆨‭↲຋溫㕯ڲ㝧㎎న䇄☯䅴⍨எᮠ㘼ʒြਣ℄ڠ炝ᆧ⑐ݸࡰ粡䔖┥爮⩩䧷ਧ䥟乸兢竦嘗ї⥔㴱҂ɣ㣣⁃ൿ以䁍⤧Ȧม䂠峮ᙸ䜳扎໨㤸䧬㜒ג⤍䠊瘺៖椂烦䲡➖洤ឈछㄎᶈᔉᠷ⍾嵭ᩧ嶉⿺洱ދ浤Ċᵔᛙ氕猊㟗⛄庎䫌䣕㻈㗁痊䀽㯍産⁚ވ劏梹囑㭂欫ோ㓐涁Რ䒜⦫‱ᆢ沌媦খ嵇Ⓦኒ䑺硩Ὄᲆ䇯㉡չ㱉旱⛰煡ᖪ忂䫙⦘℁Ɒ㑠凡۸ൠ兠ↁ互䀢᯼㌀㹔㈘ಃ⛛俙ⓢ䱯ᘣ৕獢⠧ጢ㊜䨴Ӕ戙⒯䴹䦃ᧂ夡㒰ᅉ㉂ᦍ普泄⻭沶Ϲ惙ǡᴗ獍ᑠ欠ࣔ⎌᱄ǅ䒨碂䯫ϒ筩Úأ䀴׈ᄦŉڣ䡉ʒত歂Ҵ㨤⡼⭱ᱲ⑌寣揕䥇㶴㤹ݮ࿆狹櫁㧻搡僛粬所㘡渳獞䏉㻔䩠㟮糒ș῜募⸧㽔Ύ䤢ৢ☲埲ቘ䑨抃礗㱮牤䢨ဉ⨾䥁ᆢ¼ਢ̾硦㽰ỴᲞ堔Ꭹ⥋ဉ嘢ȝᜰ伣慜õ怭矐構ⱡݵ〱ᥥ䖉␩㏍㦇㱊䐄刪⁴à㝦䁂ᶡ㥔↊Ⴖ洬晫䁈ı῱淟䷡䮥㥷ᾑᵡ睚戆⃭枕揨೅ᢑ䇙Čล䒑ᙡဦ㢐潙㜱บ▒冷愀圅㰽攤ᲀ㴘欨䓲磨ⲻ⦵ճ♕䵚め愄憟䬤ⳤ䢝嶦ࢻ╘ኪ⥘᠁瞋䈲晫᱓䶅奤⢿ᬲ䒯䢸¹䍄嫸⹍ያ䮹⪴咘䞞㹠ౝ╹⺣×捡␥ƨऊ㠦傩ਡ⁼Ӱᙠᖬ垌໧䱈媆㷆䮛ࠥ䙸朰㹿幀ࣲ朮慷岉䕞䌉ᲀ⚄敬瓯傣⒨ؿॆ㵩㵈䇠㍋ᰢ⟰!Ꮚ⤋䐠༈㊖!橐ੁ浻懌˵䁌〸ᨧ⤠з⫳ђ⒃ᤠ৉ᐡށ⬠ၳ㼱氰㛦ᒒ䱨ⅸ熣ຑ斅৶於㕚岛櫙ᚖ絏଒翀⺞ⱼ䠣Ƣ䦆ಔ埌卤洍䫈奲⁴䧽ݘ獮╅尥㭌洈泆䑽嶲崧ᒒԳ㭪⁇屓䅔䰡唅堔孻㵽ᔹ倦ㅗ咆ࢸþ嗉䲿ͺ㋭劕ג窺䅒᥃ᠡ䚀ᝃ橬䍠璨搢䒌焫䴾嫐暺➿㡮後俞㲼縢²䥒Ρ娤䝘ᯄᚯဩ晘䁻ᴐ横ᡙ఩嬦㝖២湑帢㙁珪䖤ᅢᣍ燈⁭彎ᚠ⌬㭢〆㘻㙡ŪⳚ䪭❴擷و䊶化ⱶ乶⳿嵒䪎∴⮹唈咒砇՘᷺涰ႚ棁ݭ䧊ᒢ啐䦴㛖恩␂楠旖杄⋂䗔洂ۍ♦̠ᄳ᫘䟾⧏嚀㊮戼㏗Ꭻ䗝ழ杏儌忇乞⏀揀ᒰ᪠眰ൠ࠻ǃ㊄爥͢䬧炛İ椁䫚ጛ㣀悀ᩚ⋑ϴ੶沼囙ዏ⬒ു㯄庿␔㯽䌞侻ၪ〢ᣕ⚭㉨㨱缕ᐝ䐀妆泱␻ǰڢ瀤ጋĤ牶◺䷞孧⻓ㄪᇮ⨈朖睮䫫ⴝ櫹ⵤ嶛᫚ᒔ穮ⴇ幨ᦱ矨䍨咋璡ࡈὧ஼ૐ⨶壾ߑ扈㺎ᵁ㹒T῀䊛௿ᦃ槗煓ᅍブ㗵奞楞㳄纆\"禉ˡ૨䝖烃ᮅ愊௹䰈ᡱ⟩榶⧤佲䋓⣗Ջ㛙ʼ⽀㴠掙挘᳾⇋Ħ⑒䊠磁⡬矋礅▊㣵ᖸ↭憌䶰㶮妻ୖ⼶㷑ᙓ吋岰瘝㺕祩䜽䐠⃡የЭ㙖撃㜇̍儧淶ĸ⏝惄ખቸ槻䖌深溍䏛ㅝ壠ϖ砈Ȏ异㳪ⷠJ䔰礰猭碀൒渘绋儞乀#瀉ඃŚ㯇窯㡤リ潩Ÿ儮七㚀߾㏔宠∩⁰⤢ၱᇗᨡ嗤જᠳ偘ṀЬ⥲᭼屴᳙⤨欥㳶晘址揌惷ⱁ砽瘂ᤙᠷĴㅙ搿矲ြ䆐Ẁ䕑ㇼඥⲀ↼㲪⑗䚏ᾬἲḀ䩛喰ܳಕᏸ糆犎⼹珯瓪丹歝猭ᵔ渘䬖埉䃂搞ક⦠Ɉ仮፴䠠䅛䎎烄瑁µࡀ䬆㯐愧临⒡ण(୰པ૗䳉泄榷׍ᱠھ૱䯉ʀ᳄ᴓૄ䈓柆䤧偡喴䛂媑ុ㕕懺涖皽㆛ⒶΔ磇䦭憶㼷ᯚₗࣾ朔ᢻ㳸䫾晃䠯㴛恞∗灟თ∠礬᱋㷻拁⼖㮵౔ᚰ⴩࿔㵏⼾䔐瓔搦䕺᫳&㳓攠崗柁㰦䜠˓ឧ瓼ਡ㳧w䄆…䷃␺奯䁄∡摊䅠溰ⵦ呇㢇棶爦债泘҂珓⇍ㄝ殎垒淇ℽ戾ㄔ㈤㱮恠㏐緉ೞ␒᪡వഗ暢ْ䶱糡択娷悢ᔨ◦ᑱጭ縁恆䒒抣絤洞籰䦫Ѱ䵆怖હ̀䷡怬ଡ⳸ᳮ栬炜嶶䥡▫㠳䏺䭺ᦐ᧜䶬揑ဦᓉⅅ汄Ⲡᰭ秞⛨伀᱆沶ⶔᎱᑍ䗻₼䄩❐䌕漂ǵ◗䑧⪎⌆旂ŨϘࢭ⒔⎂ᬎࠄ⑿汲᪜璮瑚⌝佶卢妴ፏ䌩ᨣ䉶‱Ṏ⑨撊Ꮜ፴䋶㛕▐ϲ件䶬椻⶘Ⴏ纱硠ܰฤ။ᅙੰ㖃敁⢤`⨥䁜⦲䢡㺦Ⓒ絎柁ŀ⢁䎴᧾㔫ᡦ奔ኀ我梕⍞⬢牒恞憈.婖˓∯擦嗧㑬ᕚ᤮Ậ徯บṢ䆫徨捯措稳ত捿汪ᦪ䂟籖ᣑຓсୢ䅵揅ᘆᓡ䎩䁇縆ᅡ᯵Ɒ呹懑൐珌槩ᮀル䱣͈䫂砫㡆喀೨ᖤ淉梍ฒ枑䁔嘖஠ħၓ敀䢢ᣨ炏Ԁ䘚㭲備啍⯆㨯嬼崁ݴ⑁穠㎕⽹噶⤺Ǆ✠漥䘢㋓Ḡ➢ဳ䇺䦐㸬奇押⸑埆㥞屜⡚य●䓒怲ġ湋ᏹᆠ乨恗Ꮨ௩㐧牻ʠ慨䑈厔ᒙ䪩Ẃ⃯᎜Ȭ琿ሥᮙ篬㹥畝ࡔ⦡൝ፁ೘畇ុ䅠宀㬓ѡᡎ捔䡪䒖ሦ଩ү抒〈ᚱ扪摺号槉㊧怦Ć߉吶尫≡曱痦䊻ෑ䇦⑶ḿ⋱⮘↬匭Ѥ攉熨㍄捑浑砕群㏳ᘌ愱䙱挅朡▁T⃪伙圗ɒ⎏䭠⹧぀硤临粧ज़Ŧࣙ笰ࡪ爲滙㾩▮㦧⊎䳓ᯈቂୈ礲堫棳䟺擔ᯖ犜⁼禡ؠ⇧洙๫㺙獟ᖰ⯩繰卪䄙巄䤰  "
   },
   "outputs": [
    {
     "data": {
      "application/vnd.jupyter.widget-view+json": {
       "model_id": "6f3403a60b994910bc56e4f111bb5515",
       "version_major": 2,
       "version_minor": 0
      },
      "text/plain": [
       "PersistWidget(data_values=[{'__id_column': '1', 'Car Type': 'Gas Guzzzzlerz', 'Name': 'chevrolet chevelle mali…"
      ]
     },
     "execution_count": 11,
     "metadata": {},
     "output_type": "execute_result"
    }
   ],
   "source": [
    "df = data.cars()\n",
    "df = persist_df_1\n",
    "PR.PersistTable(df)"
   ]
  },
  {
   "cell_type": "code",
   "execution_count": 7,
   "id": "4521c589-5a3a-40b2-979c-34ad9e479164",
   "metadata": {},
   "outputs": [
    {
     "data": {
      "text/html": [
       "<div>\n",
       "<style scoped>\n",
       "    .dataframe tbody tr th:only-of-type {\n",
       "        vertical-align: middle;\n",
       "    }\n",
       "\n",
       "    .dataframe tbody tr th {\n",
       "        vertical-align: top;\n",
       "    }\n",
       "\n",
       "    .dataframe thead th {\n",
       "        text-align: right;\n",
       "    }\n",
       "</style>\n",
       "<table border=\"1\" class=\"dataframe\">\n",
       "  <thead>\n",
       "    <tr style=\"text-align: right;\">\n",
       "      <th></th>\n",
       "      <th>Name</th>\n",
       "      <th>Cylinders</th>\n",
       "      <th>Displacement</th>\n",
       "      <th>Horsepower</th>\n",
       "      <th>Weight_in_lbs</th>\n",
       "      <th>Acceleration</th>\n",
       "      <th>Year</th>\n",
       "      <th>Origin</th>\n",
       "    </tr>\n",
       "  </thead>\n",
       "  <tbody>\n",
       "    <tr>\n",
       "      <th>0</th>\n",
       "      <td>chevrolet chevelle malibu</td>\n",
       "      <td>8</td>\n",
       "      <td>307.0</td>\n",
       "      <td>130</td>\n",
       "      <td>3504</td>\n",
       "      <td>12.0</td>\n",
       "      <td>0</td>\n",
       "      <td>USA</td>\n",
       "    </tr>\n",
       "    <tr>\n",
       "      <th>1</th>\n",
       "      <td>buick skylark 320</td>\n",
       "      <td>8</td>\n",
       "      <td>350.0</td>\n",
       "      <td>165</td>\n",
       "      <td>3693</td>\n",
       "      <td>11.5</td>\n",
       "      <td>0</td>\n",
       "      <td>USA</td>\n",
       "    </tr>\n",
       "    <tr>\n",
       "      <th>2</th>\n",
       "      <td>plymouth satellite</td>\n",
       "      <td>8</td>\n",
       "      <td>318.0</td>\n",
       "      <td>150</td>\n",
       "      <td>3436</td>\n",
       "      <td>11.0</td>\n",
       "      <td>0</td>\n",
       "      <td>USA</td>\n",
       "    </tr>\n",
       "    <tr>\n",
       "      <th>3</th>\n",
       "      <td>amc rebel sst</td>\n",
       "      <td>8</td>\n",
       "      <td>304.0</td>\n",
       "      <td>150</td>\n",
       "      <td>3433</td>\n",
       "      <td>12.0</td>\n",
       "      <td>0</td>\n",
       "      <td>USA</td>\n",
       "    </tr>\n",
       "    <tr>\n",
       "      <th>4</th>\n",
       "      <td>ford torino</td>\n",
       "      <td>8</td>\n",
       "      <td>302.0</td>\n",
       "      <td>140</td>\n",
       "      <td>3449</td>\n",
       "      <td>10.5</td>\n",
       "      <td>0</td>\n",
       "      <td>USA</td>\n",
       "    </tr>\n",
       "  </tbody>\n",
       "</table>\n",
       "</div>"
      ],
      "text/plain": [
       "                        Name  Cylinders  Displacement  Horsepower  \\\n",
       "0  chevrolet chevelle malibu          8         307.0         130   \n",
       "1          buick skylark 320          8         350.0         165   \n",
       "2         plymouth satellite          8         318.0         150   \n",
       "3              amc rebel sst          8         304.0         150   \n",
       "4                ford torino          8         302.0         140   \n",
       "\n",
       "   Weight_in_lbs  Acceleration  Year Origin  \n",
       "0           3504          12.0     0    USA  \n",
       "1           3693          11.5     0    USA  \n",
       "2           3436          11.0     0    USA  \n",
       "3           3433          12.0     0    USA  \n",
       "4           3449          10.5     0    USA  "
      ]
     },
     "execution_count": 7,
     "metadata": {},
     "output_type": "execute_result"
    }
   ],
   "source": [
    "Test.head()"
   ]
  },
  {
   "cell_type": "code",
   "execution_count": 8,
   "id": "4b0ed18b-0899-4895-bf89-1680317f99ad",
   "metadata": {},
   "outputs": [
    {
     "data": {
      "text/html": [
       "<div>\n",
       "<style scoped>\n",
       "    .dataframe tbody tr th:only-of-type {\n",
       "        vertical-align: middle;\n",
       "    }\n",
       "\n",
       "    .dataframe tbody tr th {\n",
       "        vertical-align: top;\n",
       "    }\n",
       "\n",
       "    .dataframe thead th {\n",
       "        text-align: right;\n",
       "    }\n",
       "</style>\n",
       "<table border=\"1\" class=\"dataframe\">\n",
       "  <thead>\n",
       "    <tr style=\"text-align: right;\">\n",
       "      <th></th>\n",
       "      <th>Name</th>\n",
       "      <th>Miles_per_Gallon</th>\n",
       "      <th>Cylinders</th>\n",
       "      <th>Displacement</th>\n",
       "      <th>Horsepower</th>\n",
       "      <th>Weight_in_lbs</th>\n",
       "      <th>Acceleration</th>\n",
       "      <th>Year</th>\n",
       "      <th>Origin</th>\n",
       "    </tr>\n",
       "  </thead>\n",
       "  <tbody>\n",
       "    <tr>\n",
       "      <th>0</th>\n",
       "      <td>chevrolet chevelle malibu</td>\n",
       "      <td>18.0</td>\n",
       "      <td>8</td>\n",
       "      <td>307.0</td>\n",
       "      <td>130</td>\n",
       "      <td>3504</td>\n",
       "      <td>12.0</td>\n",
       "      <td>0</td>\n",
       "      <td>USA</td>\n",
       "    </tr>\n",
       "    <tr>\n",
       "      <th>1</th>\n",
       "      <td>buick skylark 320</td>\n",
       "      <td>15.0</td>\n",
       "      <td>8</td>\n",
       "      <td>350.0</td>\n",
       "      <td>165</td>\n",
       "      <td>3693</td>\n",
       "      <td>11.5</td>\n",
       "      <td>0</td>\n",
       "      <td>USA</td>\n",
       "    </tr>\n",
       "    <tr>\n",
       "      <th>2</th>\n",
       "      <td>plymouth satellite</td>\n",
       "      <td>18.0</td>\n",
       "      <td>8</td>\n",
       "      <td>318.0</td>\n",
       "      <td>150</td>\n",
       "      <td>3436</td>\n",
       "      <td>11.0</td>\n",
       "      <td>0</td>\n",
       "      <td>USA</td>\n",
       "    </tr>\n",
       "    <tr>\n",
       "      <th>3</th>\n",
       "      <td>amc rebel sst</td>\n",
       "      <td>16.0</td>\n",
       "      <td>8</td>\n",
       "      <td>304.0</td>\n",
       "      <td>150</td>\n",
       "      <td>3433</td>\n",
       "      <td>12.0</td>\n",
       "      <td>0</td>\n",
       "      <td>USA</td>\n",
       "    </tr>\n",
       "    <tr>\n",
       "      <th>4</th>\n",
       "      <td>ford torino</td>\n",
       "      <td>17.0</td>\n",
       "      <td>8</td>\n",
       "      <td>302.0</td>\n",
       "      <td>140</td>\n",
       "      <td>3449</td>\n",
       "      <td>10.5</td>\n",
       "      <td>0</td>\n",
       "      <td>USA</td>\n",
       "    </tr>\n",
       "  </tbody>\n",
       "</table>\n",
       "</div>"
      ],
      "text/plain": [
       "                        Name  Miles_per_Gallon  Cylinders  Displacement  \\\n",
       "0  chevrolet chevelle malibu              18.0          8         307.0   \n",
       "1          buick skylark 320              15.0          8         350.0   \n",
       "2         plymouth satellite              18.0          8         318.0   \n",
       "3              amc rebel sst              16.0          8         304.0   \n",
       "4                ford torino              17.0          8         302.0   \n",
       "\n",
       "   Horsepower  Weight_in_lbs  Acceleration  Year Origin  \n",
       "0         130           3504          12.0     0    USA  \n",
       "1         165           3693          11.5     0    USA  \n",
       "2         150           3436          11.0     0    USA  \n",
       "3         150           3433          12.0     0    USA  \n",
       "4         140           3449          10.5     0    USA  "
      ]
     },
     "execution_count": 8,
     "metadata": {},
     "output_type": "execute_result"
    }
   ],
   "source": [
    "persist_df_3.head()"
   ]
  },
  {
   "cell_type": "markdown",
   "id": "4d4aeada-9b5f-4655-8c9a-fca92ef5ccb8",
   "metadata": {},
   "source": [
    "You can run the next cell to see and see the history already populated with selections. Persist allows you to save the interactions and loads them the next time you run the cell. You can use the first two buttons in the header to `undo` or `redo` your interactions."
   ]
  },
  {
   "cell_type": "code",
   "execution_count": 11,
   "id": "af55dedf-be3b-457f-beb8-6c95e244defe",
   "metadata": {
    "__GENERATED_DATAFRAMES__": "ᯡࠣ䅬Ԁ朤壠ᜣ琢〹夢゠⹰〮⁁䁻қ䚾ኊ㇠നСࠩ瀮晼Ƭ穅5愠៤⠠ ",
    "__has_persist_output": true,
    "trrack_graph": "ᯡ࠽䈌ʀ匦㢠⹰Ӡ✡䚈ჭ㐽䁍ٔÐ㑔䃬8ɒୠ᭞匨҇⻳祭张㌠๔⡩•⳦Ⴇ⋫䁸䲥㖚䙌浛㬗瘺ሠڤ-孛ಃ⑀´၀Úಡ䀦熦आ㛣厬6ঃᐠ৽撠۱\"壁永粖ႻԽщ⊩⎂ࢤ瑔≈ʛસ匾敇゠Ɣ䛦圫ርࣣ਽䟑䅠Ȅ恨㪜ൟ⑦䊯䏃ᄸƌㄖ沑ࡖలൟグ䎖ᇣ啀癛U岛ళ墬吢粬߫ƌٝ䄽㧗ɹ䋯氡Ḡއ䳟䘣Ϟ碠␾Ꭵ曢⳨ࠪ⋐剜ᤦ䍨栢పᓀ桱̿䍂ࡈ¿ƣ塬­ʫ墩Ꭽ甙Ⳮవ嚘伔冴垪ዩ⩽ᓫ㋙㹰噉⣅㥶㊤摬䉩ᛥ姄٫ᇩ犤Ŵ万礵൬柈搠㊥䰓㓀!+ᐫ怠㻇氶ᨠ煐㣪嬊*㸷⿐⃚潠ӀᦕZ䘡အ暞㶸樧෦㬮ߕ⡬Ⴊኔ嵜಍檑櫠䲮˴滞hᔩ嚱ጽ䛠傔ἦтথ攭ށ‼Ⴆ3㉬ᨯኂ㉷ᔦ㓻帧㮳斲じḨ䅃䢴ⴡ䚂堼ᜧ䐂тᢩ冈畽཯倸專ᑪ䏀♳ೢྺᛍ૯᳻㘰Ỡ牛溇᳸ᓛ⻗㇨採⑐4⁂⊎㯈Ԡ⁷戠wᠨή㸈禉௡磞ࠣ渌㾢ӡѪ@㯥ㅢ㯪ぐ㏤㄰徥〠㴥២⁈ᙐₜ཭㕆㍙梆঱墎གྷѩત䙅ໂ嘡ƀ吰䏣бក桘獈㏖׍⑙⟠Э٤㣉Ġ౨â嘴䩼ࢋ≂㉑༃摡䶹ۍ⎡⚬ݔ囑䇔秞 瑜ڥၩᒣ偱᧗偮⃥璖⺢偃ᴷ䉈ྱㄘત汞忴ۡ䰥܁䉂䙑仩偬ᒡ㚙ຢーঠᠩ䩆◉㵉౹㒢デᕯ⥒፪㤌⽫øኁⅴ⚨曮塁⤦ᆨ楰୭啀᢬㰰ᑂ㕜㶅≧癮`䠶ਣ崁ᐡ䶓⫡᥆䳴嫶喂曧䵱 ϼ䧡⬺悕◖㔤⬲ᐦ⃤ᦦЩ刘巜ࢠ垨癲⼥⚌́㞤筑杙᥍撙岴䎙筏搥岨⌥睟ƥ檼ህˍ᠔招ᐸ䓟ᓅ咃ᒵ㋔犼仍║㦧哵ᵄ䟐悤נ㼸榱ᇞԢ㚸ቱ⿑眜羰࢘次孢䇡₮攼㧈⧳⋮ᴡ㰈篶凘灮䏾˨墶氬塶ⲭᓶ㫡奖᛿ǖ氣娾䤺₠斘媶狠≶ⶖ婄嶈ₙΝ宀仩抸猥皊㩇⠺⍬撍⭆柺ᐦ䇦嵶䂚潷棽ᣎᑦ㭸ᔐऊ䃩簩ᤸᓿ嫱浫ᨤႬᏌဪϖᨶƄ⨠₀䶛Ď䈮嵤䛣ʩ≩䆸ᐽ䃰઻嬖哺ዤ晬⣄㐭ቪ๦⮒դ勤Ź㣲嗭㌔纾ࣖ娨⃦緺㋬握抾淞焸䯺稼䡜牞प爞恝章濷磞ࡢؿ停ԡ㯭祜塃瞉⑈䖑呆ᩄ斤〧׎ඪ⦾䨭⡦ᄺ߲ね⊐౤琹ʹ䤣Ꮃǹᡶ͐冦Ქ‵⩬ⱼɉ廢瓟⭠䰥䄘ຊ␲䅔ڣ࠭ᵪ䬦眼ᠩਧ惢ड〷䋄Ṣͭ哈⸤绕װ⌯⁛ኀ罆狰欭Ⅰ䎩勈䁑ؐ䄴䂪਱樺ᆐტY咚ഡ泜䨣⮷㤶旨⢭懬⨣Ɀ䉨䃫ࣕ步᷷ٴ࿱凌憸ᶣ汏̜嫤咍䒰窫Ⴇࡡ⨼燗⬵睶Ʉⵛ㱻ࠑᾬ⣎凑帱ǁៅํ㔣䋪㛕䫌㮨冐佡⌽ᅰ搴ⅾ౲㠥剽䒤䂮撠睒䭅媀ଲṋ煦ᣥ穉䜣֫∠䵱ರᆼⱲن‪ڠ摪ʈ㥠ひϨㅏⰸա斶䄡亡䩉°ݑ?䐘b暜恀˾↧ॡ䝊䉮ڡ亍޼㴦გ東悥ȏᓙෙ㣲™场瓀㬆妭泽ⷹ䁛䯘⨤ᄪওᜪ爙欋⼕搫Х峰ෙ䆗㢛⫆筶垈羊㉍ᾲ⇩ᷣ姲⎭ͧ⑯䞛咬㹫ೄ卄優ᅓ姡屟㬇⚄㴢痬ࢢ¨䁁䶫峤咁᷅ʷ㬤りͨ⢯䁱ࡅ∧喈̡⩚䜆㾀孵㝶ᮉ囵侍疱墽彺ෑ嬘ଇ㑕摠昉峳አᤧᑠኃ㞱灌἖Ⱓ烸␋夛જῡ碿ᬘ忍禞ဆ檟慎砎痏洜ᬪӟ䈲᦬䉁㈷棔ᗉ䂾䨖ᔢ婄⏢⺥ੱ䥐浉⍂哪泄ᥡᛃ㿠⍈㭤玒Ҕ磭ദ⻦䋆䙅婴旝ᨺⱇ᪳䛧ம䓗༱亴䁭呻⷟౛㻆⮗㝱⾊䕈䡮竿䵅೻㣽෻⥥࢙㒬䜲榜涰ᠬᠸơ␫ႀঠ⾈声ഁ䁔䞦ሯҼϠ儦のᎀທᬼ网䡙ȼ䔪᱊ř樺㣔ຒ瑂炕ড㳄ѱ平簢占䋔㲸ᑶ㮤吩Ω䫹⫠ễª塈曯䨰椬䖉ƪ稺䪹⮵屟䍊䘌嘧淕᜴牡ᜧⷃ婎®㄁▝僛哉ᲗҴ崴ㅧ㊅㊼疊紃䱥椱ኯނ`偒ᗰئ䥔تฬ⡤࿫砫â坯䨸䌗⫊堯䠰⾹⼐怓࣑䮡㔶䆛ʗُ佺┈☁峋浓繠ⓗ䓹晓啌ᨆƃ猕寭ง栋࿢ᬣ㼘䎌慦曣Ĥ妭ᡇ෧₻⴩᯦╗ᒐ撆暪ඁু䐷ⵣ僺弦殈ಕ燉㚎伪仞吱䋓ⷔ᝺穜嚀穤桕⿎橴伀亽䳼毹嫶灌堓ⱙ泍)⽥き据ŏ欵壷嗄㙪睦ᢎⅨ䲬Ը㋉簤孛喳慎㬃嗥梃ҩ睹掂濦刨㰙㱶ᅗ䛉ⷧ嫤温佻㛆⻼㭝勦䇭匓Ⓠ၄潭乧䍴㙮䗗⮕ၗඉ向⠼છ⟝桚渒䶱䪷ا㜮槁噔㢩䚞異➐悚李㥣⻲⌠琫ဨ߈纉琴ਢゖ䠀簧夿咓㳻稧ᴇ罨孼瀸䮛伣ᦃ⣰㢡瞈愄檠ᓲ䲀઻⦭ᩈ罌ቌ߇繤窋­ⱜ幋犽⧊捷ⵙ埚だ㬐村㺬搠̪模挊㭍㫐ᙷ汶଎劐崓Т╕嗰㹆戶Ҍ刯效㻠儹नᯘ倦Þ兆眡♓⾓ၤ㵹࢐䆥┭䣺ධغ戊ᡵᨤ啎㣝殥㴦ƍ擏䴏澓愕⯪இ氋៹砶䈀㽌〚䀷ۤ实眝ʍฝ灱ᰟ孍Ⳡ㣠䁗қ嗖㫉娱琑㼞翊ᲅួ䬝倕穛⸒㮠瞲沛冞炏窩ả囡䁁䖵⠡⁃ࣁୋࢫೠᯛ䤬෉‾凤溗灎㌓廠❆㥟欫଄䂎ᙛ䦡婸佅យㅀ૤猅ࡀ碧䶽ȩ⁨碐ٜ⢯ཤ礻א攡ճ〻唢攌ྑ⢀㱝堽ླྀ簀⥜䐷ḳƂ䆬㣇吳竔唽皤恴犰ޭ珊筤燰Ꭴ吪乌僀ᦵ姭睩᪒婭缀ှ¬ט夫ᕬήᬠ椧⹔又੩ਵ1Ȁᱤ樏湣㯐ᅭ䜊坕䯋孬嬅㜣ᨋ䋜曎玊秏ᆵ炯⽇⢾෽䆉画揗䌁ḏ疈嬗塕縆඀ᅅ傜⦆ὔ够ኜ䵣䭲㍵᎜䶃Ɣ㡬岈怩ᩋͭ̉獢䶅剽١᰸▍剝ᨈ嘨㩃Ϧ䛠Ⰴ⣓ㄏ䂔Ἇ灪䓨จ㔾䭚䗞叅㽯䨳ࣙ῅ṩᑬ㊰៨㮇ᆝ婃੐尪愼࢐䝀㛍牱խ咙䧤牒ǩԡᔮ⪜㣄㌜侌≲䖿冥愯棾䨬㳥䌵ࡱ䞬⋄箋䝂㋄䲹㵤➍磝垝䏎報Ԩડ⬷孥䧅ᘰ⠩䙌凰຃㹉愱դਃⰍ嵧孿䊄 卹⫀㸹ᢃ⹅ᣩố夤䡂΀ᶽҮ㵿磓䀢䀳昰ࠓ堔䋩㥠ᦫᜅ₅ᙧ䩡乸檣筃Ɉ㸸⪉ⱕء卣 僰⥠ὣض䂑੢䳹᲼傾⒨ྲ娵ࡡ⟗ᡲ撊ᓒ媛ྉಃ㢆᭔䔼䓂䁴玲台䴰买珂έ瓄䢒⦩嵜‣睙؛堨㶢㌹ȧ䊣栶ཌپ亢砸猢݇墢⛀庇շ䫴冨妜ʘ㐡㯨ୗ⡾࿣廎ମ祿ੌ㸇㹐䙟ᄼἿ⪯䰁‫⢤䝆䚜寉洣䛍䨍㧎᭰㣺嚂㹄䥈⓺䌜⮅䴪旕冥í㬶棵䎕伷䭴䞶❤℁᥊婣ᬼ༺ੜ㬖㸳網泡撄㒉悰ᣀㅼ㋥㌅ᳲ晃䔍䚳ॊ摬䏒征ᶜ㨖℃漸ᄓ奎嫓梮Ӛ最䇓䠾峢㪄䤜ă哳笣垓ṍ歱服幥烩᳘⒎⸃䠊糎ӹ̒ፈ岫䝎␸梦岠ᙞ㒄篃㼺̀২焤‫槰ᱜ润ⲂℲႠ㋇㾞ςᤰԦⓣ䡲㐢㿈ᘫ䠡呸㝂ͩぜ䈭佈䃤=弑䄧ゞ捲㚫䌅¦║≼婡䀰ጤ᧲̎ú⟱㑼〴撶ᔠ  "
   },
   "outputs": [
    {
     "data": {
      "application/vnd.jupyter.widget-view+json": {
       "model_id": "a1a95416221545bc8b2527b87fe7b3d0",
       "version_major": 2,
       "version_minor": 0
      },
      "text/plain": [
       "PersistWidget(data_values=[{'__id_column': '1', 'Name': 'chevrolet chevelle malibu', 'Miles_per_Gallon': 18.0,…"
      ]
     },
     "execution_count": 11,
     "metadata": {},
     "output_type": "execute_result"
    }
   ],
   "source": [
    "df = data.cars()\n",
    "\n",
    "selector = alt.selection_interval(name=\"selector\")\n",
    "\n",
    "chart = alt.Chart(df).mark_point().encode(\n",
    "    x=\"Miles_per_Gallon:Q\",\n",
    "    y=\"Weight_in_lbs:Q\",\n",
    "    color=alt.condition(selector, \"Origin:N\", alt.value(\"gray\"))\n",
    ").add_params(selector)\n",
    "\n",
    "PR.PersistChart(chart, data=df)"
   ]
  },
  {
   "cell_type": "markdown",
   "id": "b6325a60-f131-4a2c-8a2f-641047faf284",
   "metadata": {},
   "source": [
    "#### Rename columns\n",
    "\n",
    "You can use the `Rename Column` button to select and rename a column. Try renaming `Miles_per_Gallon` to `MPG` in the next cell."
   ]
  },
  {
   "cell_type": "code",
   "execution_count": 12,
   "id": "d0b79c72-2592-43bd-a70a-cfe4d1408b67",
   "metadata": {
    "__GENERATED_DATAFRAMES__": "ᯢ粠 ",
    "__has_persist_output": true,
    "trrack_graph": "ᯡ࠽䈌ʀ匦㢠⹰҃఩憡ؠ烠ⴠ㌠䰢ᤨ˩☡Ⱗ〽䉪ɨಋ⢠沷廃ͅተ¶⡨⃲ㄇ晎╦庳ୖ乜簥Ҡǁ#㛦俒′䈤7⺰ᠠ湐懎Ⴇ᫓㻠˴㽴G⎲;‫号毸恭ࠠٝ㬠㬲挥'䦡ჩ౑᳼ةᚺ䭭揰˸慍塂ႌᡄዒ橁ì⊥瑰ᘠ歲瘿变ሰؓ欖᪩夌䬤⭸␮óی堢㰠ຫᝏ౛Ꮥㄪኑ姻㇂戲ᜲॅᆨ⌻䁁䔱栩ᑑ婒̭犭䑨憡⎐䐬ᚢ䃁㠻֎婨़᥂Ȭँ䐧灹义ᴥ䈁Ѳʢ祉ήΥ挑籪ၬᏤwᾠᑘ峲♎⇦ᓯવ䉄㓄神ਠ "
   },
   "outputs": [
    {
     "data": {
      "application/vnd.jupyter.widget-view+json": {
       "model_id": "63bbab526f5b4a81b282264cb933fdb2",
       "version_major": 2,
       "version_minor": 0
      },
      "text/plain": [
       "PersistWidget(data_values=[{'__id_column': '1', 'Name': 'chevrolet chevelle malibu', 'Miles_per_Gallon': 18.0,…"
      ]
     },
     "execution_count": 12,
     "metadata": {},
     "output_type": "execute_result"
    }
   ],
   "source": [
    "df = data.cars()\n",
    "\n",
    "selector = alt.selection_interval(name=\"selector\")\n",
    "\n",
    "chart = alt.Chart(df).mark_point().encode(\n",
    "    x=\"Miles_per_Gallon:Q\",\n",
    "    y=\"Weight_in_lbs:Q\",\n",
    "    color=alt.condition(selector, \"Origin:N\", alt.value(\"gray\"))\n",
    ").add_params(selector)\n",
    "\n",
    "PR.PersistChart(chart, data=df)"
   ]
  },
  {
   "cell_type": "markdown",
   "id": "ebbd29e3-af4a-4145-8663-63fabd64b98b",
   "metadata": {},
   "source": [
    "#### Delete columns\n",
    "\n",
    "You can use the `Drop columns` button to select and remove one or multiple columns. Try deleting the `Cylinders` column first, then try removing `Weight_in_lbs` column."
   ]
  },
  {
   "cell_type": "code",
   "execution_count": 13,
   "id": "548d5bcd-0f12-4bb9-a7b0-04d94bbaaca9",
   "metadata": {
    "__GENERATED_DATAFRAMES__": "ᯢ粠 ",
    "__has_persist_output": true,
    "trrack_graph": "ᯡ࠽䈌ʀ匦㢠⹰Ǡ⌺ʁ☸ᚠ✪ᐡ㈂⁓ᚘё劭㳁ၛڸ̸栵䁓VĠ⍄倡ᙰ䡣冁柤⩼䫆⶚䛬浘砮ठ͢&捨♁咠┨ࠠ⼚₀ǘ憣屢֖继+ᣣ⠠Ꭻ䤠වװᨹᳬ䠠أݐ⚦挥'䦡ჰⲑ㲴ŏጿ䉫最ᠢ沀㙔儰സሦ历Ⴂ晀∬䋶խ၇嘾ࠥ砸ٺᑔ฻ȧ㉄ܬ榣哸Ŝ.ᘗ⿇߃ㄦᖗ婘槭䡀ॉ♆ᖠ䉧ॣ懤⢁崄㤎ᩍ־瞩䃀塐Ⴟ䃀ࣼႨⅣ洋ᛪ≨恉૤ㅥ䙀⁺掓␸㘷ܘᒄ┺䏀ᡬ⬽䌁碢ࢱဢ崢惑漁䦑祑࡮⥴剦䅮槉ဨ搠 "
   },
   "outputs": [
    {
     "data": {
      "application/vnd.jupyter.widget-view+json": {
       "model_id": "7ee76c9c5ad34eb89d2a47bc2eb08805",
       "version_major": 2,
       "version_minor": 0
      },
      "text/plain": [
       "PersistWidget(data_values=[{'__id_column': '1', 'Name': 'chevrolet chevelle malibu', 'Miles_per_Gallon': 18.0,…"
      ]
     },
     "execution_count": 13,
     "metadata": {},
     "output_type": "execute_result"
    }
   ],
   "source": [
    "df = data.cars()\n",
    "\n",
    "selector = alt.selection_interval(name=\"selector\")\n",
    "\n",
    "chart = alt.Chart(df).mark_point().encode(\n",
    "    x=\"Miles_per_Gallon:Q\",\n",
    "    y=\"Weight_in_lbs:Q\",\n",
    "    color=alt.condition(selector, \"Origin:N\", alt.value(\"gray\"))\n",
    ").add_params(selector)\n",
    "\n",
    "PR.PersistChart(chart, data=df)"
   ]
  },
  {
   "cell_type": "markdown",
   "id": "93deef8c-35fa-42dc-8024-7ced08ca10a0",
   "metadata": {},
   "source": [
    "#### Categories\n",
    "\n",
    "**Adding new category:**\n",
    "\n",
    "**Assigning categories:**"
   ]
  },
  {
   "cell_type": "markdown",
   "id": "cda2e28d-0b9e-4088-bd44-ef342452b150",
   "metadata": {},
   "source": []
  },
  {
   "cell_type": "markdown",
   "id": "a6284113-65cf-408e-927f-d302988c2a9d",
   "metadata": {},
   "source": []
  },
  {
   "cell_type": "markdown",
   "id": "3066d9d3-6688-4bf1-ad00-39ad1b5df821",
   "metadata": {},
   "source": []
  },
  {
   "cell_type": "markdown",
   "id": "fffd1b0d-d9a7-4c7d-8dcc-62ebd81352a1",
   "metadata": {},
   "source": []
  },
  {
   "cell_type": "markdown",
   "id": "2e306fb4-8b8a-4758-b777-0fc25e851c90",
   "metadata": {},
   "source": []
  },
  {
   "cell_type": "code",
   "execution_count": null,
   "id": "d45975ae-2369-4835-b6a2-3810e9927252",
   "metadata": {},
   "outputs": [],
   "source": []
  }
 ],
 "metadata": {
  "NB_UUID": "9b2f5bec-a755-4a5b-a877-fe1a880b9f38",
  "__persist_keys_record": [
   "__GENERATED_DATAFRAMES__",
   "__persist_nb_uuid__",
   "trrack_graph"
  ],
  "__persist_nb_uuid__": "be067817-dfa3-42d6-948a-39c4b95d3382",
  "kernelspec": {
   "display_name": "Python 3 (ipykernel)",
   "language": "python",
   "name": "python3"
  },
  "language_info": {
   "codemirror_mode": {
    "name": "ipython",
    "version": 3
   },
   "file_extension": ".py",
   "mimetype": "text/x-python",
   "name": "python",
   "nbconvert_exporter": "python",
   "pygments_lexer": "ipython3",
   "version": "3.9.17"
  }
 },
 "nbformat": 4,
 "nbformat_minor": 5
}
