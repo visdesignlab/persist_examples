{
 "cells": [
  {
   "cell_type": "markdown",
   "id": "721323cd-bb01-435f-a189-52f86ac438be",
   "metadata": {
    "trrack_graph": {
     "current": "5a5a00cc-06cd-4338-a90a-1365ce04ac27",
     "nodes": {
      "5a5a00cc-06cd-4338-a90a-1365ce04ac27": {
       "artifacts": [],
       "children": [],
       "createdOn": 1699995232057,
       "event": "Root",
       "id": "5a5a00cc-06cd-4338-a90a-1365ce04ac27",
       "label": "Root",
       "level": 0,
       "meta": {
        "annotation": [],
        "bookmark": []
       },
       "state": {
        "type": "checkpoint",
        "val": {
         "id": "0ed02552-2223-4b2b-8843-223fb8396132",
         "type": "create"
        }
       }
      }
     },
     "root": "5a5a00cc-06cd-4338-a90a-1365ce04ac27"
    }
   },
   "source": [
    "# PersIst Extension Tutorial"
   ]
  },
  {
   "cell_type": "markdown",
   "id": "0892e834-de92-4f36-85d7-deee12490be5",
   "metadata": {
    "trrack_graph": {
     "current": "5719397c-958a-4994-91f0-d7a66aa497ed",
     "nodes": {
      "5719397c-958a-4994-91f0-d7a66aa497ed": {
       "artifacts": [],
       "children": [],
       "createdOn": 1699995265084,
       "event": "Root",
       "id": "5719397c-958a-4994-91f0-d7a66aa497ed",
       "label": "Root",
       "level": 0,
       "meta": {
        "annotation": [],
        "bookmark": []
       },
       "state": {
        "type": "checkpoint",
        "val": {
         "id": "52dfacb4-8b03-4e0d-a810-0a3f919ebb61",
         "type": "create"
        }
       }
      }
     },
     "root": "5719397c-958a-4994-91f0-d7a66aa497ed"
    }
   },
   "source": [
    "PersIst is a JupyterLab extension to make interactions in cell output persistent. Persist tracks interactions for compatible outputs in a provenance graph.\n",
    "\n",
    "Capturing the interaction provenance allows us to save our interactions with the notebook, and replay them at point later. You can even rerun the interactions if the value of the variable in the persisted cell has changed. Persist will try it's best to apply the interactions to the new variable value.\n",
    "\n",
    "You can import and enable the PersIst extension as follows:\n",
    "\n",
    "```python\n",
    "import persist_ext as PR\n",
    "```"
   ]
  },
  {
   "cell_type": "markdown",
   "id": "2dc9acb1-d4fd-4949-843b-fa0afa32387d",
   "metadata": {
    "trrack_graph": {
     "current": "5719397c-958a-4994-91f0-d7a66aa497ed",
     "nodes": {
      "5719397c-958a-4994-91f0-d7a66aa497ed": {
       "artifacts": [],
       "children": [],
       "createdOn": 1699995265084,
       "event": "Root",
       "id": "5719397c-958a-4994-91f0-d7a66aa497ed",
       "label": "Root",
       "level": 0,
       "meta": {
        "annotation": [],
        "bookmark": []
       },
       "state": {
        "type": "checkpoint",
        "val": {
         "id": "52dfacb4-8b03-4e0d-a810-0a3f919ebb61",
         "type": "create"
        }
       }
      }
     },
     "root": "5719397c-958a-4994-91f0-d7a66aa497ed"
    }
   },
   "source": [
    "## Supported Outputs\n",
    "\n",
    "Currently, persist supports two major output types: Vega-Altair plots and interactive datatables."
   ]
  },
  {
   "cell_type": "markdown",
   "id": "0dd3f9db-f762-4cb9-ae32-e66f177df309",
   "metadata": {
    "trrack_graph": {
     "current": "532e7b35-40eb-49bc-bcf5-4ac20f338809",
     "nodes": {
      "532e7b35-40eb-49bc-bcf5-4ac20f338809": {
       "artifacts": [],
       "children": [],
       "createdOn": 1699995589077,
       "event": "Root",
       "id": "532e7b35-40eb-49bc-bcf5-4ac20f338809",
       "label": "Root",
       "level": 0,
       "meta": {
        "annotation": [],
        "bookmark": []
       },
       "state": {
        "type": "checkpoint",
        "val": {
         "id": "6680bfac-15fc-4ff4-b8c1-1921d906a0ec",
         "type": "create"
        }
       }
      }
     },
     "root": "532e7b35-40eb-49bc-bcf5-4ac20f338809"
    }
   },
   "source": [
    "**Vega-Altair**m\n"
   ]
  },
  {
   "cell_type": "code",
   "execution_count": null,
   "id": "ce87627a-5fdc-4392-9588-3bb8d048ea56",
   "metadata": {
    "trrack_graph": {
     "current": "7c9eed54-a5ef-48af-b4a1-7a06f6c22dd4",
     "nodes": {
      "7c9eed54-a5ef-48af-b4a1-7a06f6c22dd4": {
       "artifacts": [],
       "children": [],
       "createdOn": 1699995223589,
       "event": "Root",
       "id": "7c9eed54-a5ef-48af-b4a1-7a06f6c22dd4",
       "label": "Root",
       "level": 0,
       "meta": {
        "annotation": [],
        "bookmark": []
       },
       "state": {
        "type": "checkpoint",
        "val": {
         "id": "fd39f388-fa12-4a69-ac40-29bb0292691e",
         "type": "create"
        }
       }
      }
     },
     "root": "7c9eed54-a5ef-48af-b4a1-7a06f6c22dd4"
    }
   },
   "outputs": [],
   "source": []
  },
  {
   "cell_type": "code",
   "execution_count": null,
   "id": "02259e30-ae59-400d-bdc6-73f4259fab63",
   "metadata": {
    "trrack_graph": {
     "current": "d566e3ee-184a-4542-8271-ccc47237ec49",
     "nodes": {
      "d566e3ee-184a-4542-8271-ccc47237ec49": {
       "artifacts": [],
       "children": [],
       "createdOn": 1699995347874,
       "event": "Root",
       "id": "d566e3ee-184a-4542-8271-ccc47237ec49",
       "label": "Root",
       "level": 0,
       "meta": {
        "annotation": [],
        "bookmark": []
       },
       "state": {
        "type": "checkpoint",
        "val": {
         "id": "62c18863-da80-4369-967f-9a7f8adb679c",
         "type": "create"
        }
       }
      }
     },
     "root": "d566e3ee-184a-4542-8271-ccc47237ec49"
    }
   },
   "outputs": [],
   "source": []
  },
  {
   "cell_type": "code",
   "execution_count": null,
   "id": "b0a4e965-82f8-4f55-9160-cfc3471d4911",
   "metadata": {
    "trrack_graph": {
     "current": "f3ad995c-c9da-4852-aa65-9541a4bfb2d5",
     "nodes": {
      "f3ad995c-c9da-4852-aa65-9541a4bfb2d5": {
       "artifacts": [],
       "children": [],
       "createdOn": 1699995464968,
       "event": "Root",
       "id": "f3ad995c-c9da-4852-aa65-9541a4bfb2d5",
       "label": "Root",
       "level": 0,
       "meta": {
        "annotation": [],
        "bookmark": []
       },
       "state": {
        "type": "checkpoint",
        "val": {
         "id": "1761e5e0-a6a5-46d8-a83d-9b5310b3920e",
         "type": "create"
        }
       }
      }
     },
     "root": "f3ad995c-c9da-4852-aa65-9541a4bfb2d5"
    }
   },
   "outputs": [],
   "source": []
  }
 ],
 "metadata": {
  "NB_UUID": "9b2f5bec-a755-4a5b-a877-fe1a880b9f38",
  "__persist_keys_record": [
   "__GENERATED_DATAFRAMES__",
   "__persist_nb_uuid__"
  ],
  "__persist_nb_uuid__": "be067817-dfa3-42d6-948a-39c4b95d3382",
  "kernelspec": {
   "display_name": "Python 3 (ipykernel)",
   "language": "python",
   "name": "python3"
  },
  "language_info": {
   "codemirror_mode": {
    "name": "ipython",
    "version": 3
   },
   "file_extension": ".py",
   "mimetype": "text/x-python",
   "name": "python",
   "nbconvert_exporter": "python",
   "pygments_lexer": "ipython3",
   "version": "3.11.3"
  }
 },
 "nbformat": 4,
 "nbformat_minor": 5
}
