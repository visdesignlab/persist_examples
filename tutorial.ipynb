{
 "cells": [
  {
   "cell_type": "markdown",
   "id": "721323cd-bb01-435f-a189-52f86ac438be",
   "metadata": {
    "trrack_graph": {
     "current": "5a5a00cc-06cd-4338-a90a-1365ce04ac27",
     "nodes": {
      "5a5a00cc-06cd-4338-a90a-1365ce04ac27": {
       "artifacts": [],
       "children": [],
       "createdOn": 1699995232057,
       "event": "Root",
       "id": "5a5a00cc-06cd-4338-a90a-1365ce04ac27",
       "label": "Root",
       "level": 0,
       "meta": {
        "annotation": [],
        "bookmark": []
       },
       "state": {
        "type": "checkpoint",
        "val": {
         "id": "0ed02552-2223-4b2b-8843-223fb8396132",
         "type": "create"
        }
       }
      }
     },
     "root": "5a5a00cc-06cd-4338-a90a-1365ce04ac27"
    }
   },
   "source": [
    "# PersIst Extension Tutorial"
   ]
  },
  {
   "cell_type": "markdown",
   "id": "0892e834-de92-4f36-85d7-deee12490be5",
   "metadata": {
    "trrack_graph": {
     "current": "5719397c-958a-4994-91f0-d7a66aa497ed",
     "nodes": {
      "5719397c-958a-4994-91f0-d7a66aa497ed": {
       "artifacts": [],
       "children": [],
       "createdOn": 1699995265084,
       "event": "Root",
       "id": "5719397c-958a-4994-91f0-d7a66aa497ed",
       "label": "Root",
       "level": 0,
       "meta": {
        "annotation": [],
        "bookmark": []
       },
       "state": {
        "type": "checkpoint",
        "val": {
         "id": "52dfacb4-8b03-4e0d-a810-0a3f919ebb61",
         "type": "create"
        }
       }
      }
     },
     "root": "5719397c-958a-4994-91f0-d7a66aa497ed"
    }
   },
   "source": [
    "PersIst is a JupyterLab extension to make interactions in cell output persistent. Persist tracks interactions for compatible outputs in a provenance graph.\n",
    "\n",
    "Capturing the interaction provenance allows us to save our interactions with the notebook, and replay them at point later. You can even rerun the interactions if the value of the variable in the persisted cell has changed. Persist will try it's best to apply the interactions to the new variable value.\n",
    "\n",
    "You can import and enable the PersIst extension as follows:\n",
    "\n",
    "```python\n",
    "import persist_ext as PR\n",
    "```"
   ]
  },
  {
   "cell_type": "code",
   "execution_count": 1,
   "id": "dbc49dae-f456-4ebd-9146-4ae6ba83838c",
   "metadata": {},
   "outputs": [],
   "source": [
    "import persist_ext as PR\n",
    "\n",
    "from vega_datasets import data\n",
    "import altair as alt\n",
    "import pandas as pd"
   ]
  },
  {
   "cell_type": "markdown",
   "id": "2dc9acb1-d4fd-4949-843b-fa0afa32387d",
   "metadata": {
    "trrack_graph": {
     "current": "5719397c-958a-4994-91f0-d7a66aa497ed",
     "nodes": {
      "5719397c-958a-4994-91f0-d7a66aa497ed": {
       "artifacts": [],
       "children": [],
       "createdOn": 1699995265084,
       "event": "Root",
       "id": "5719397c-958a-4994-91f0-d7a66aa497ed",
       "label": "Root",
       "level": 0,
       "meta": {
        "annotation": [],
        "bookmark": []
       },
       "state": {
        "type": "checkpoint",
        "val": {
         "id": "52dfacb4-8b03-4e0d-a810-0a3f919ebb61",
         "type": "create"
        }
       }
      }
     },
     "root": "5719397c-958a-4994-91f0-d7a66aa497ed"
    }
   },
   "source": [
    "## Supported Outputs\n",
    "\n",
    "Currently, persist supports two major output types: Vega-Altair plots and interactive datatables."
   ]
  },
  {
   "cell_type": "markdown",
   "id": "0dd3f9db-f762-4cb9-ae32-e66f177df309",
   "metadata": {
    "trrack_graph": {
     "current": "532e7b35-40eb-49bc-bcf5-4ac20f338809",
     "nodes": {
      "532e7b35-40eb-49bc-bcf5-4ac20f338809": {
       "artifacts": [],
       "children": [],
       "createdOn": 1699995589077,
       "event": "Root",
       "id": "532e7b35-40eb-49bc-bcf5-4ac20f338809",
       "label": "Root",
       "level": 0,
       "meta": {
        "annotation": [],
        "bookmark": []
       },
       "state": {
        "type": "checkpoint",
        "val": {
         "id": "6680bfac-15fc-4ff4-b8c1-1921d906a0ec",
         "type": "create"
        }
       }
      }
     },
     "root": "532e7b35-40eb-49bc-bcf5-4ac20f338809"
    }
   },
   "source": [
    "### **Vega-Altair**\n",
    "\n",
    "You can create any interactive Vega-Altair plot and pass it to create `PR.PersistChart` to create a persistent chart.\n",
    "\n",
    "E.g.\n",
    "```python\n",
    "\n",
    "selector = alt.selection_interval(name=\"selector\")\n",
    "\n",
    "chart = alt.Chart(df).mark_point().encode(\n",
    "    x=\"X:Q\",\n",
    "    y=\"Y:Q\",\n",
    "    color=alt.condition(selector, alt.value(\"steelblue\"), alt.value(\"gray\"))\n",
    ").add_params(selector)\n",
    "\n",
    "PR.PersistChart(chart)\n",
    "\n",
    "```\n",
    "\n",
    "The above snippet of code will create an interactive persist scatterplot with brush interactions.\n",
    "\n",
    "Alternatively, persist comes with `plot` module which provides helper functions to create simple plots like scatterplot and barchart."
   ]
  },
  {
   "cell_type": "code",
   "execution_count": 6,
   "id": "b58f8f0f-8f4b-4346-8c48-3b0b22d758af",
   "metadata": {
    "__GENERATED_DATAFRAMES__": "ᯡࠣ䅬Ԁ朤壠ᜣ琢〹夢゠⹰〮⁁䁻қ䚾ኊ㇠നСࠩ瀮晼Ƭ穅5愠៤⠠ ",
    "__has_persist_output": true,
    "trrack_graph": "ᯡ࠽䈌ʀ匦㢠⹰໢䂸ɐΠ䘵‶䔴Ÿ㈰֠↠㎕Щ抠㇉䍐ۢ獸⪂歪ᚲ⠠䭈⑀棑瀶ፁ⍾䧋㭎ẜʤ䐡傠ǖ哣′䈤7࢝ᠠ湐憎Ⴄ姗㈥䀥䱡吠৹撠۱ɓ偱塰&ÑᎴ䵥ↂ䃆ᦐ妤ᡮ੃ክ᾽▁\"瘔ڮ卄Ⲟ䖸ᵭㆢ䀣擠䤘壸楃ߔ䥠ᴇ栢沁围儰㔸ሢ㶆Ⴀ療䉊₸⬠㖨窰᧖ୈ̛疖௔樶㖢֍㜯ᦢ佸Ŝ.ߗ⾬ֳ㌑̱㦘ຊ೬䂠቉᪮䎁煪Ꭴ₁ᡪપ⃁ᰮԨᨱ儼ᚯ૤Ɱ᪫ঙ佗䩠棠䴧儃⠉ᆈ乀䥠䤴僎䥐奼݇䠴䕦ӂ慭惗ẳ௤Ɽ奊䯓ᦌ坏䧓䕲勌ヴ渠ᥴ挛ᩰ 䀥䰙瀠Ὥ琫ഠ㣐ႂⶕ%Ꭻ坸ၽ㴮䀡ᓚ⻀ݱ䃤Y䟭㌻羃⃩䇡皠ᦧ咁ᵎ䃧垕㳵M採㖷ិ树Ɂ૤؈૱థǪᢼᩒ䗂㠬☹ᛠ狸㔸曣ぱ攷ݡ⏹挦៌イⱰ䳡⢴ਸ਼䊃⡑℺䗢桐㱦峃㯘㥿↚目⮺⁥摤़䋁栬㌭䄃㣜⦛☳㎭ໝ唈僽⽧只懄⣼㒺䅓ᳩ呹䭊柰ᬤ۹㭞懙䝔搨朥拘ݞ䎠ሬ!⋔Ɣ峷ᐢ䀰ᄩ ᗬ́κ׼⩱狜瞤ʎ欷戢恬አࠥ煨悥焸ᘡ炎⚧慨>䩫㢰Шఢᵤ㍊䖻ຆ᫥岖᧧Ӻ៥岞ḫ瑱ṅ⑸ൣ⭺±⎃պ扈ٹ梆檲ぬୣひඅ㬾捄䀶ᄨ䡏ೄӭ᱅㳉䢉⩘ઈ悓█఻␦䠠ݮ泃౻ଂ汻凰⸡ୋ⩶䯲瘦妝ౣᠦృᡣ൨㘥ஂ㨫ূ籹紳⑻אਪ₮Ꮂ狼३႘疢剠㼶ǈᣠ拤䒹䶽⁢z岽᣼杽氘巡Ƣ⃵剶⠤⋤༅熈ᢪダ㗪ॠᛳ嫄ᾲ㓭◍㒶㚃焟᫂ ީዂᙘ淰ޖ栨剖Ⱝ䇈㜬࡝⛛㍍檙ཹ᎑晘歸幾洩ᅵ⾪ं⹫楪ᵫᦎ䖧ᐯ₫疃ⷱ䖉⺤ᖜᶪ䵱扙⾓䲻涛丂ʆШѼȑ䚰䩻咟暉ň䲦÷战缫䝐〨䎐㈮ߠ߂䙜⨹睱ា䐱㟔ૈ丨ᗡ偱㜽塉㝍ᖵǌ疣㊌ⶮލᷗ㈵ሻ䋶▹ㆠᖵ㑖᱑妡䷋㝖๷䉐☨ᄡ᪴䧴ڱ倪杨⬫凌➭㫌ᔔ㺿圚祡Ⲭ皶ℍ凧㚥䧝䊐榨ҳ媵淭䄰ࢩ␴Ⓚ凞Ƚ౉ށ喷施㥌⑀净䓡簥ⷍㄣ捹ᮩ㧽⋃Ⴕ䲴厄᥇ᜄિဴ矅ႝ䬷▬㴦֨磨̸ጴ搜㘠೚㜨૸㬾敂❌଱朶࿣䢌ݣᡢത②籃䑾ઢ䢝擂惭ઉ瑦䲂⭪䳸䘠㢥慉ᵕ⦙嘨繋जⴭ籷0㶺㩎å᥶ጤ㊬刡᫠ᨢ屶䳚䁩⁬à尮ʑᎠгǨᢡ᧶႑厠᫖ٳ⭱%ጡȻ᫤ᩣ灖˷’ڲȬѶヹᗡ䕉慤ᩔ⑖Θ㪤Ғ毀⌡╴ㅦ氣䈒∢ቆ㕜岤䡷欅⿰䙄ࡱ瞧ℬᓢᩍ䋔⎤璊䦙㼰ᢿ埪㿏ᅂ⟂⡍ʩ勊よ䔠暫愐ు笷刜⊕⇨ᗮ呉ᘩ䟘悬₁఑嘾战គ㵡揢かʥ榠ᮩ祤ɱᔺ冉⻂ⱒ㑲⡆曚䧤狴ᙼ䋠ᐥ౪೨ኰ㈘ᕣ⠺ᎀ㨥椢Ǡ渫棜渀㸿䶞Ꮋ׈嬎Ⲥ䬥ɜ攪㲊ƙᨺ碵䑠嗕₢㨦䅺烎⬆ⳑ୽痳һ厠宻㰉➖ส垘焭㚅毓嗠猋䃺ᯕ͗⮗㝫伎慃盗‽媥冣忩㉴⑧⪔㪇◴⣡瑾䔂䧯瘍ᔥ稦㩔䨦朰լᷠ⹹䀭䗿ᦠ䠘޴䋻໗孧ざ嫢盳䊌ợ壝廃漫≞∢⽷慤ᣩ䡿䗝㾶㆗䆃瞡ᚡ㠱ᾗ熢㡅㻯掜档וᬨ䀳砲儰⪪㟮倊Ҍ朁㑯紂⦫粕䘤撬䄉ਁ㴹↨ῢ㕝炱㺦熲➴䶭Ⓙ瘩ọ懒᪊员䥬⤡⍊ᑥ⨨౼զ㭾ᇖᔊ屘櫽⢊⡿Ӱ喒ᔂ䳌䨥ㄵᢊ⻂᫨⩖䢇噺杣䍬ࡦⶶ⥁夊Ṥኦ凤Ꮑ䓘熨嬜䨕ί畸᧸䇙ᨽ㋆璙㗢冮䚺໕ସ櫍傊楃ᯤ䱄䎨ឧ౭嚯ශ撀䷉Ⓔ䗀Ꮤⱔ㮈的墑擜䦽尧丙圵׌⎷㑖䭯⭴繩|Ì౨␲䪒ᷪ䅸೒〶≮⌠ᒆ▤ᐫ䁍ऄ欳燞ಅ֨奨㣗湹䩰Ꮺ儇䇀垿䅶☊ద枚琱ぞ抠Ǡ惣䲀探㣇ڑ朢煎✡⹊狖牮䎸㑘⎷ۿ㪑ࡁ๎㖱ᇵ朖啧真ᦑÃ㭂㊕䁂ᗦ⑈癘猍櫲于䴙凶ਐᴶㅴ䎂涥抠䅎ア¼ড栶䁐Ԡ╃Ź⭂然璀᫩ᱼ⋱൒秫䟑箶爇ᄗ੩⁓ᥩἒ䯩♿䦵ᯢ᥻≏㐆⽾䊬氩汼吙‧㸆ါ炰圿␵Ⲉᕘఏʛ⮐⡮綅⪃ᖞ䅊尓䖯烂畴窺尜籠⎕㥅宊㗭㪏䄓⧁॓㖬ၚ䯟⩷㔕⫢棨䤏䀯⧁楒䂭债⣥ħ㗌⁺㒕䧌暸欕娹‱⿛煳䁦攕䜛⽠撈僌渍勌෧剻⮁捤祚択☕䃾㜔嘻曒䷣増ᗙ掮筗犝〖滹㖵底⻖ᷠ姛兗Ꮗ㹄㭜汍汲⸋壋寚ड़㶲羛㰂㜠眒瀍柿ẹ椠档䄘䓃Щ⋀ळ⭕ƹᑠりՀ卂䂎愍〭㐟⒆Ā學ӭǝ憹䏩ϒ棓ゑⲔᄮ喺制媸槍᪨嵟叉ࣘ䰤木೮䲴㉹旕ʁ␷䵝参禠ڂ⾬玢䳬ι峙灋ᮃ待Ⴜ㐽儔஍ᕙ⏄ៀ✡ਛ徥࣯㓤抠劒嵈᙮玶ᒭᆖ⨜⧓≱碴㊨墆䝈Ბ棡࿮ጾ⹶ᢅ稄旞㌘紴玂ኢᠴゥ眕犨堵㖭ର⪜拑ᙅ₵╺ⱪ丱旕䛫⌞⋭؝呫⩪杶⴮權᪩壻滛⭓㌏析᭎椿孷㿍坻᫘㹺焕爅␃煱㪯㸏መ㞗䔝Ⴀ㱱䣏ᶵ䖖䰆睛粏䟼䕝䴎⢲㟭䏷唧盶瞇ᐾ痦㠛惯咇ℙ箪䘝㼰碞很睼㔟扠㼞僛ᩱ矫總痟ᑛ䝷皁⅛ഋ倻㹛猠箚䛳瘹ᚠ漹㝠ǫ❟ࡘ抪繈छᕨ㪧᪎Ő✢∰ガр✠怣塴Ϡᒂ朣⚭䁠榳㨫⚒瓖⇢槴㈬犇ᣐ姾₌熶˨惡ⱋሇ㫩喥۰␨ᖠ眬ی皶㳫⃾Ⳬឣཛ樠䒡Яѡ∬⡬䆄㓀➮⡜䑴޺԰灠  "
   },
   "outputs": [
    {
     "data": {
      "application/vnd.jupyter.widget-view+json": {
       "model_id": "2ad13db26b154f16a35dc4a618419034",
       "version_major": 2,
       "version_minor": 0
      },
      "text/plain": [
       "PersistWidget(data_values=[{'__id_column': '1', 'Name': 'chevrolet chevelle malibu', 'Miles_per_Gallon': 18.0,…"
      ]
     },
     "execution_count": 6,
     "metadata": {},
     "output_type": "execute_result"
    }
   ],
   "source": [
    "df = data.cars()\n",
    "\n",
    "selector = alt.selection_interval(name=\"selector\")\n",
    "\n",
    "chart = alt.Chart(df).mark_point().encode(\n",
    "    x=\"Miles_per_Gallon:Q\",\n",
    "    y=\"Weight_in_lbs:Q\",\n",
    "    color=alt.condition(selector, \"Origin:N\", alt.value(\"gray\"))\n",
    ").add_params(selector)\n",
    "\n",
    "PR.PersistChart(chart, data=df)\n",
    "# chart"
   ]
  },
  {
   "cell_type": "markdown",
   "id": "33d88224-c199-41e3-9c83-05f75d9a013a",
   "metadata": {},
   "source": [
    "\n",
    "You can see that the output area looks different from the usual output for Vega-Altair. We have a toolbar on the top and a sidebar on the right. The toolbar gives us host of interactions we can perform to manipulate our plots.\n",
    "\n",
    "Persist keeps a track of your interactions and stores them in graph called provenance graph. The first tab in the sidebar titled `Trrack` visualizes the provenance for all your interactions in the cell output.\n",
    "\n",
    "In the second tab you can see the text summary of everything you have done to reach the current output state.\n"
   ]
  },
  {
   "cell_type": "markdown",
   "id": "b74296c9-2e95-4cc9-a343-5b714c28e39d",
   "metadata": {},
   "source": [
    "#### Interactions & Persistence\n",
    "In the next cell we have the same scatterplot, try interactively selecting points. You can repeat the selections as many times as possible. Try clicking on different nodes in the provenance visualization."
   ]
  },
  {
   "cell_type": "code",
   "execution_count": null,
   "id": "395506b7-7f57-4c0f-a7a8-8b49de034d5d",
   "metadata": {
    "__GENERATED_DATAFRAMES__": "ᯡࠣ䅬Ԁ朤壠ᜣ琢〹夢゠⹰〮⁁䁻қ䚾ኊ㇠നСࠩ瀮晼Ƭ穅5愠៤⠠ ",
    "__has_persist_output": true,
    "trrack_graph": "ᯡ࠽䈌ʀ匦㢠⹰໠ㆡءゆᧀⴠ䘡ⱐʀᖠ暒ʐ௜禤ɐ湬ᑐۧ⁓㥌≩•ⳁႧ⛫侸䳅ක䛬汙㬐ਲဦ䈠ۣᖬǉj࠰|∔怣㣣ט䈲曽䡔6ㄦ倠➇ሠ᭠௏偔㪹ဠച㒀䙕䘪/ጢℰ儂煢爴ᄶ#䜳柰˸懌ᣂာᡄᛚ晁ˬ⁧畸嘠歪䙀㟌Ḱؗ樮尘ᢈ欤➄␮˳ߎ堢㰠໋㝿㹏㎂ق猐㢁䶰′⤴㤴ത䯤⁁⍰䪵擴繦೩ªѡ燈埆ૡᄂ嗞䇖泄⒬ʵⵦ⒘戤ӌ坔䦡愐䉉Ţ冈سˠᇸ乗ߤত⼺%㨥䄳䷣ᎃ牜⥨⛈ⓒ㍩┈ⁱ䠠 "
   },
   "outputs": [],
   "source": [
    "PR.PersistChart(chart, data=df)"
   ]
  },
  {
   "cell_type": "markdown",
   "id": "4d4aeada-9b5f-4655-8c9a-fca92ef5ccb8",
   "metadata": {},
   "source": [
    "You can run the next cell to see and see the history already populated with selections. Persist allows you to save the interactions and loads them the next time you run the cell. You can use the first two buttons in the header to `undo` or `redo` your interactions."
   ]
  },
  {
   "cell_type": "code",
   "execution_count": 7,
   "id": "af55dedf-be3b-457f-beb8-6c95e244defe",
   "metadata": {
    "__GENERATED_DATAFRAMES__": "ᯢ粠 ",
    "__has_persist_output": true,
    "trrack_graph": "ᯡ࠽䈌ʀ匦㢠⹰۠ᆠ䴈ƣ̸׀೥༸Т怵䔠㌢栽䁇ᆪȸ㊳娢ᨒ媒┠অҤᴶ᩼䉄效毲㎁混䁰䢠ᨰV㹐ۄň⁠Ƒ߳-挬܂ࠫ毖ℐy䐺䀢㥙အ娠嶝ƣ䓩ද叢ڑⲀ倠祐቟ᦻඥ▇狐⨘唜ڝM䘪扌䄤熢⇊嚂ࠬ托㽭ঀۗᚐϛↁ㻟㧖䧧䋐⏔≠灭ᡱ࠵䀳怠白㤘愑崻ࡑ㏇廳䪋⢲䮐᧐栴ᑈœ̾糌慠ᇃᧉ伬㑆།䈀⡮ᬩ珌孉ŃŅ䮁䄺ᢠū׭ኀ㢜ᢪ⎱呚ᆢ提౎ާ戨碁Ꮷ䀡⸡ၤ疐撸䊧๳熊ᅄ䫳䦴烨  "
   },
   "outputs": [
    {
     "data": {
      "application/vnd.jupyter.widget-view+json": {
       "model_id": "1816cc74d31e45ff899871066434c306",
       "version_major": 2,
       "version_minor": 0
      },
      "text/plain": [
       "PersistWidget(data_values=[{'__id_column': '1', 'Name': 'chevrolet chevelle malibu', 'Miles_per_Gallon': 18.0,…"
      ]
     },
     "execution_count": 7,
     "metadata": {},
     "output_type": "execute_result"
    }
   ],
   "source": [
    "PR.PersistChart(chart, data=df)"
   ]
  },
  {
   "cell_type": "markdown",
   "id": "93deef8c-35fa-42dc-8024-7ced08ca10a0",
   "metadata": {},
   "source": [
    "#### Categories"
   ]
  },
  {
   "cell_type": "code",
   "execution_count": 9,
   "id": "190a1378-0206-4d34-aeb2-ff3ae4894e55",
   "metadata": {},
   "outputs": [
    {
     "data": {
      "text/html": [
       "<div>\n",
       "<style scoped>\n",
       "    .dataframe tbody tr th:only-of-type {\n",
       "        vertical-align: middle;\n",
       "    }\n",
       "\n",
       "    .dataframe tbody tr th {\n",
       "        vertical-align: top;\n",
       "    }\n",
       "\n",
       "    .dataframe thead th {\n",
       "        text-align: right;\n",
       "    }\n",
       "</style>\n",
       "<table border=\"1\" class=\"dataframe\">\n",
       "  <thead>\n",
       "    <tr style=\"text-align: right;\">\n",
       "      <th></th>\n",
       "      <th>Name</th>\n",
       "      <th>Miles_per_Gallon</th>\n",
       "      <th>Cylinders</th>\n",
       "      <th>Displacement</th>\n",
       "      <th>Horsepower</th>\n",
       "      <th>Weight_in_lbs</th>\n",
       "      <th>Acceleration</th>\n",
       "      <th>Year</th>\n",
       "      <th>Origin</th>\n",
       "    </tr>\n",
       "  </thead>\n",
       "  <tbody>\n",
       "    <tr>\n",
       "      <th>0</th>\n",
       "      <td>chevrolet chevelle malibu</td>\n",
       "      <td>18.0</td>\n",
       "      <td>8</td>\n",
       "      <td>307.0</td>\n",
       "      <td>130.0</td>\n",
       "      <td>3504</td>\n",
       "      <td>12.0</td>\n",
       "      <td>1970-01-01</td>\n",
       "      <td>USA</td>\n",
       "    </tr>\n",
       "    <tr>\n",
       "      <th>1</th>\n",
       "      <td>buick skylark 320</td>\n",
       "      <td>15.0</td>\n",
       "      <td>8</td>\n",
       "      <td>350.0</td>\n",
       "      <td>165.0</td>\n",
       "      <td>3693</td>\n",
       "      <td>11.5</td>\n",
       "      <td>1970-01-01</td>\n",
       "      <td>USA</td>\n",
       "    </tr>\n",
       "    <tr>\n",
       "      <th>2</th>\n",
       "      <td>plymouth satellite</td>\n",
       "      <td>18.0</td>\n",
       "      <td>8</td>\n",
       "      <td>318.0</td>\n",
       "      <td>150.0</td>\n",
       "      <td>3436</td>\n",
       "      <td>11.0</td>\n",
       "      <td>1970-01-01</td>\n",
       "      <td>USA</td>\n",
       "    </tr>\n",
       "    <tr>\n",
       "      <th>3</th>\n",
       "      <td>amc rebel sst</td>\n",
       "      <td>16.0</td>\n",
       "      <td>8</td>\n",
       "      <td>304.0</td>\n",
       "      <td>150.0</td>\n",
       "      <td>3433</td>\n",
       "      <td>12.0</td>\n",
       "      <td>1970-01-01</td>\n",
       "      <td>USA</td>\n",
       "    </tr>\n",
       "    <tr>\n",
       "      <th>4</th>\n",
       "      <td>ford torino</td>\n",
       "      <td>17.0</td>\n",
       "      <td>8</td>\n",
       "      <td>302.0</td>\n",
       "      <td>140.0</td>\n",
       "      <td>3449</td>\n",
       "      <td>10.5</td>\n",
       "      <td>1970-01-01</td>\n",
       "      <td>USA</td>\n",
       "    </tr>\n",
       "  </tbody>\n",
       "</table>\n",
       "</div>"
      ],
      "text/plain": [
       "                        Name  Miles_per_Gallon  Cylinders  Displacement  \\\n",
       "0  chevrolet chevelle malibu              18.0          8         307.0   \n",
       "1          buick skylark 320              15.0          8         350.0   \n",
       "2         plymouth satellite              18.0          8         318.0   \n",
       "3              amc rebel sst              16.0          8         304.0   \n",
       "4                ford torino              17.0          8         302.0   \n",
       "\n",
       "   Horsepower  Weight_in_lbs  Acceleration       Year Origin  \n",
       "0       130.0           3504          12.0 1970-01-01    USA  \n",
       "1       165.0           3693          11.5 1970-01-01    USA  \n",
       "2       150.0           3436          11.0 1970-01-01    USA  \n",
       "3       150.0           3433          12.0 1970-01-01    USA  \n",
       "4       140.0           3449          10.5 1970-01-01    USA  "
      ]
     },
     "execution_count": 9,
     "metadata": {},
     "output_type": "execute_result"
    }
   ],
   "source": [
    "df.head()"
   ]
  },
  {
   "cell_type": "code",
   "execution_count": 11,
   "id": "25ca123b-e2d5-4c90-b167-0efd63e14c15",
   "metadata": {
    "__GENERATED_DATAFRAMES__": "ᯡࠣ䅬Ԁ朤壠ᜣ琢〹夡゠⹰〮⁁䁻қ䚾ኊ㇠നСࠩ瀮晼Ƭ穅5愠៤⠠ ",
    "__has_persist_output": true,
    "trrack_graph": "ᯡ࠽䈌ʀ匦㢠⹰ڀ㬡䰦ᠱ䁣¼Ⱕ値捦戡㊳▂ĸ倣䍑䩰æ嗔⢁ヴ哄䨠ዪन㪌籤摋⧰㚆懫域℁兀†洑ᣦᦰӁĠװ搬W౐ި₏湚怡ザᥠ¼湨ࠦᒠૣՅေ熨ㅔᨸ测ኪౠ⊄儀卸⡈ᩆ౬㒻䌭ဥ椻౼ᙨ湃ᙈ⼮捰޳ŀ烱峼ᢢ๗®䯤〥壡洑所㱐⑜滢℧汧ߴ䂹㘠殉幐ℂ᭰ؒᢿ噰硸㬤㜎渭㌨寐ʘ=澾罁č硠ኗᇬ爁ᚄХშ硲ᖭ慐∼䴪⍃㐸䴭⅐梔墧慑䕄㮥䉰碎ᇥ笜㊖䘩毜ᝆ⣭৤ॄ䕆䢄㑌䝇䠴䔲䳁⥴㕥嘹狓煤奊䰂㴌坏䨴ㆂ哎⩵喉ǆ㍕Ḡၪʠ$〬'㬺堦‮ィʿ㇀݀E盘ج޺む䧸煔感囿㚝㸠䡊঍ᆒᖥ䅠硪ᒬ拐᳔䜤捐䲋㚧㯤㑔œ䆀аឍ碼港ᙩ䌁вᲥ⋱瑦֮抐㱞dႨ扖䏅楡㶞傌᪬㢑朣ੰ㍙䆍ݍ⭮䎅།笨ं㦽佋䦌૽睧崄㇠券*ᅉҧ瑊¡ཀ5春忮ḋ惨粞㾨๻娜炄Ⴉ․ܘ㉈✙☶ޘ䙏琐㈠߆勰␠䋦Ȗ绶䯃娮䐢峠㐬礀㈮⇐ℭ䉦ᔯ⇔䬦⋅ᖠ擂ئ点ˇ⤈墢ㅕ̢䂈ኬ䃧憐䣴㣄㏧䄧妐ƈ。া༡১䬡ĸ㡑憍൭ھ෶о䯱竘⌅氠䬢ɀ巢塐ԡ䢒ᛔ⠭䕦㜊ි梽坡盘⇂㑰䜡湑乐♩䢵♔ᵔ曹䆣悙䃐ᓥ屶䢾`䚩契ց⦢曩቎䖥义欆਱¦䓳᪶匩䃸ㇲ㨠Ѣ⇠ࡀЋ⚉䠉ఠ敻䫪嘺Ȱ䘳㘰੃㠺ƣઊڡ⁴䭠ごƱ瀬ٰढƣ㠼ૡऺŗⳒ慺͈䬳┮❋㥾Ⓢյ⑈㕱ⷈ䁚⃪ݍ䟦䞑敘ࡡ䍛晥䃛汅槓潕懚乷涑眩ސṇ䏓ཱི憚璋樠徇䒁ἤ㏑彗䨘楯ఛ缪ᠧ㙙ሡछ䉦㩘Ṇ⓭伦㪰浅⣯୷欃ӷ♯ၭৈᩆ䧒ᶖ⤏憠آ̡傁ౠやⒻۜ䱢塩沲⠵冡救㩲䡼ᲅ籠Ⱚ䅛ই⳯஄ᒚ況᭕ૺ㐮揃㮝Ϛ᩷Ԫ䠽桗۱偨⚺Ք朂ݔᛔӔ囕嫠㚸䟎␤偗昇㊡䛗㈎朙冺縅嫗园夂䰢千૳↋രỒ㚇†摀㧄疭ᶡÍ⚼琹捼歺厪熖畞劎碋櫃ዯ䴃㜥ǈ⾟䶈⡷攑ફĦ・¤ᘪⲀ仵Ⲳ恺䫒桱䱒䑻丈౴Ⱬᾏ␧ᄈ䄾䣮Ḉ攢᯾崊Þ嫥ጱ廨㦮⁝嶡缎ࠏ਋嘄稁帏㾱怚凑珃㑂ℹۦ㡋䙰丰泳榨厹氹ᢠҰ㲅枢㠬剔䴢瓤ē䩩炾бዤ⤿挆犆䆴澣㽧ϟᣛ䵋ᤰ堷䄂㑡搿̄⊥Ⴗ̵䪠ぅŹ㓓尬捈㨫䡑ޡి䥶䙁〥ΐ㼣⭖䃶卅嘶▄㙦夭䥢ᭊ䃖ڧ㚍̌㴦ၖ渄䠣༣㮴̗㾒䁡獬ሂე๜䍻䒀᪛押ჸ嶮အ獠∃䃮ᙜ䋽拇䬠柞⨊ᅲ᪌瓔樶î䀡㉲ټᗪ峐䑐殽⧷୷穆焊䵍樱䟵ᄽᇦ侣ٟ䟆㌰流嚀Ⱛ悄න␠⍈ʁ挮˯᤬䙊抖ᇅ໎楕䍳淝䅙緒㨧⪓潛呞搆ᴜϨㄲ絞䖃㻞㣎ᆧ絇狼总岏涙ფş崒⽛磾ိ池ਦᎺǀย壳傑䮤恼ѡ⬫佄ࡢઆĐ⢳㓻祲㩢ࡨ୐䟨獏侁主晒ԡ瑣p̣ᛈ媔晆恼䟘ಪₘy䍿䱈Ꮵᑻ㪋㦱欭࿶ⴷⱚᤅ⛠捼勸䲇䢸㦬›Ǽળ抨䆰⭩䄊㛧嶶㍔孪䁖䫀亵ýᴨኤř⫄禍⛘䍪ૠ䤵ㅱ楔ײ槷⤪䭚䫎㮜⛮㨷₰᭧焉᥼ⷪ喋䦻殡♶ⵆᔅਊ䣡ࡀڡ墠䈈ළ㷒ᙐ㵬るข戩᳉a尽⡰᱔窙㈔侮୻ఎ缰熡ᔃ㤴㵼ⱆ⟇䙤澧瘾䂚ᇢ㹘؋瑦䅶㺓嚍笝㸑泭旙᮪ا䄬⼺෮⸸䀪᭼琂峔ㄜ〵簰ᴒ偕犠䦦ࢫ٢央粪೹羸㕲⭢㈤櫭ㆥ䅤瑢䥑亴থ渽籶⫈墷涨ǧ侴楥⹡⁆@戦ؤࢨ㠴ⅈᵃ३䦹㛕歭ྰ橰牆濂⹢涬⏩䱽奀ౡ港⤉潽ₓ⢪䫐ᰓჂ䍭Φ撎䜉⬮䡕疔̦绞۝儬䍥⃁䒋ᑈ泄梸⨠ುぷ䍱䚵ጺภ᫏挤Ͱ⑆ᠢ瀠ਸ䝎䬃⃼!ᐦಈ㛘䶆ᷣയག攠ਃ∌慟㗛∉ഡ灪⏙嵩⃆Ⴇ屒ѥᔣ⊡᫠ᠾ穯⫫ۉ⋍ģ〸澾ᤧᗼ卲糉⬥⧆喋⟔䓎瓹䡞䋴ᡇ曳柷汋㬙⭯榌䐗⹽䢍ႆ٧᫺忽実叕⹲ᤖ淯㹎䃦濩ǲ♛毐䲀᪀⁋䇐俬僞䔥戾晻廣恉㭜൭⼺盵攏嘎㐥ᤢ娳ਵ䇳䃀ଢ塆⃠٥妴ш渧䂃ݔ੿ᥢ䷏ӕ榩ਭ䋆崠䙟L㐈᲋䚋㱀戠ǳ⚪攩滠䧈ኳ༮ࣨ岖ㄺ㓦ঈ暰愬㔁࢛岛熪㮷ͷ䮂埤䰡灌掕獽冧䟔◟ዄ᫖ᡂ嵢ᐾ悃熠Ң噧Šडばĭ⠳ຢ١㜓໑廾ᢎᰈ攰屑ဠṴ䡛Ḫ愸⌽㇬䉽䥸㪪㥸ᢺ౦ऒ常䮙䈺໩泭Ƨᶣܨ࿔㬯㯥径⼎橽㼓泤⯾灪׈䮩㢢⹚⑅㟨┥ᡐ⁞ᰣ砦咋垻䇺搉⡵穴㸗呾孶㠏妃㏱李㙦ἅ囫敠焢⠮焉惖媚摓娬㏲暆⎖Ūᄶ䊪ㇹ䘹奖Я絚⁁秋㢼Ῥ橝ⴌ㻹欦檬灔㠢㱖䒲㛙䲄斕籐䱉䭸㲚ᵧዐ䂍⡳໋፻忠嵹╘᭨㻾獀止ᅰђ歩䂳ԣ慧哠ᙢ倸܉淇඾֧傗欀恔ऐ㝁樻ለ氓˼Ს㩐ࢵ㖿ⱍᘤ⺌忴㾚榞δ洷Დ❛籎〛漭替白䤰؇糝ƥ㻷▎⭈⡁ü䜂㞐ਝ䊕9殑ዜỰɧƈУ䔤䄂ݨܵ䤣䀾ቸ⯀⻍䠸䉡楕䜉䕋䂮尀㞔㉧ԧ奐ᮨ炍ㄲ業ѹ矅申桂ᒠ挬ᡑ箬਼㬏䃿䪣䂸砬⽳⮳䔄塍簠⢉ᷜ婢筕ᇠÍ剳⧡঱櫪┯桲凼癤㙽ख़೹ن牋㊸导窦䀽揤አ縃䡲ȯ嗤␁䪑穯䊠㐀ᅉ⪧٠ᘵァ禸໣吪ὧࠐ᧣浇ἢ磤䚭檀ᰦᨤᮍ䔉捲㬑䌠ઌᩱᮩ坅䑭㬹ᢶ䜠ઌ䔺͉䗜ໆܨ䚉嗵絬ᙼ0Ḵ縺呴桸⥱尤䰤⌭䉕⊯⁚䇯ᆝ㈤佝ᬧ䢅樂㌨硹婝嚇ྜ稏弈ࠄ稤∬Ა栃㹨奿䙌㠏奦桅䗔僬䭸㋅䯔ᦅ浞椅䂕ᣭᴷ䭻弹嬊࡬ݮ嶥簺⃭氀⳽ツ⣶嫼ℤ堳崾㈎丵炠ᅴ碭䬡㉂ᆛ梀ᇅᐢ⁶ͅᲰ䊏晑⏀Ⅹ㬍嶘Ꮝ峼怈✽姑乂攁ࡲĽ䑽䍡㭔䙩僃愢ⶎK䙼䬀ぼ䔽媂侃箆∨☼笏ɴ݁ሂ❎ޘ㤐⸳砷¤㥕䤼侪䜹σ伽夆ᵆ㰃叡⢻झ媨㿡ᔈ⨺㤓亼紈℩▧ᖽ垆థⓨᮽ怂咦㤹ᚥ̍䓼⒀ề㞏᪊⠐ᚲ⌂ⓒ⛺♁欄㉸♒ℳ‼㝳㨰㤲㈩㞀䍻䣲Ⓤ兒⪞労伃僺Ⱎ巽ش攰ᨊᖠႉल楴㩸㔻⁚䘄ǂ搫౤⃀ᗂ᭭煅祆㋂太䴞φ⟵ᦸ梼擔㫀洺ऊᢒ㺭劻嬬⑄⥂ᠢ䣭♶ፃ⌣䤙各㇙Ծ攂䝚哅ᷦ⡘扂䔵瑨᡺ɸ⍐歬榓猂宨偬婾ᏹ參Ḳ媞磸⟢᭯パ竾䧣同ࣿ᣽ὔጴ㹂椿御獭ᰰˬЉᗈ屫競嬝俢夘孖䐘淅壥䄌㤼笲ƞ桜䕳䀊ᵓ䔵伢漱愯䙰㏠㠯ࡻ਒䒠吢᥼⍑੉ᘽ䴔₁⨡ˡ※㯈㻼忍傺⨞䷼ظ斀ᢸ⨰С敌慠᪓䱫᳚䡎㩸糈व暀ࢌ〡峗ӢౙᎲ拄⧑⬰ᱶ婎ᝎ⌡⮿拡ᑖ㍙䈺⽴䙓˜㲌Ժ碄仝ᄸ澉䍗䢓䷤畖熗变䎅恈厐ᠳ䈢䱺̫᷸夤楱て培ढ⳪ǀஓ䎾⤄暶㺩斳‬昒嫓䴷䳚搶㲃獋㲼Bঈ墧᢫秿ᤄ病糭㧿䶂羹墿爡㵍䁻浰ᐼ㰪䜹˳䕃䘪▆⬸ࠋ僽ằÍ㡵㌃ㄋ撤޼㋊䀵㢤გ➢᜵⬜Ԁ⇋涇㣘ᑜ㐂䆭Ⴞ喰⸪ᐻ䆇槄ᖠ昬Ԕ䉤區᭥皁碰ጠ⠩⠹勐Ƌ瑥擗❼⫌Ƚ坁ҷ呣ᡂ刹ɨ㢢፿♔䝓Ţ௃ⴰ̢僨樼ಭћ䃸㿂睝߲倭Ἄザ⤛䲀㮡㋼捹㢡㙳㶎牙㐳䱬媔ƚ䂠ṵ犤窘ሺ噳㊾⇣⇫勨䚷ᓃ㷪唵狪ᣨ᱂璂㐶柂㙲㊆䀥ᭋ䯒ҵ㬾攑呈઀ᠼȮ㷈㈫劲䞗嘡⸾庄棍⚡噃䡠獔䣰ᇂ恂ž䱰ఌᳱᛑ㕒玲ႉᕎ➪牷挕朐̓㝯獩䔥咁̦䁤嗞㥋⮩糝䯅㖃㾿㹇磅坊瀉䬯篼彲╼ᴢ孡•絷ʻ䘭㰵⼹欑ክㄪ⎼礀璎呛㄃ᬏ挂ۣ名戺䡂Ẓ៏㵌ĥຠ堥๜睾囥ݿԖू㈃ᮍࣂ㫖㙲ᄦ䂁㣌好碸晢☦ɽⒽ᝻Ⓛ䴺棰ぞၚ㙼亿ⓓ唽⯋䄊擑啧∽䄬⺾⟣岛ࡰᒴ㧃䣡檳䝹ʪ₽ᗶ䒲㪂⎼暨哺㤼ヲ嬎咶㫓ⶼ悧廎㨿㰑ڻ堡㡤᱀痺㬣ɗ㱼緱溡皫巛଍ᩎ瞗㧳ᬀ撲璠㛋怽瓖☚⁓ί㞒⤝⪵伋僚⠡䏼䘼敻㈊Ა჻ᾔ憆౺␡ᛕ坫ぅ㋵㵈样ⱱ᣹洼ຫ㟙拹ᜉㄩ䒧㙆↥㞸ᬉ槣ঝ⃉ⳝོ樹ᯰ孫ᗫ劦禔ê⪄⤩單⭭絯䡈Őᮻధᑚ䣭奀੩ᬮጧᙊ秴榜ϔ㟅䎽䛆ጃ⻫烸✇ᝃⷪ棶⛜氏ᾜ㞸㽸吰؉旄糹懌䫺ރ㛅䗅⫤㾰罄妼䀫ᝆ皰ᗼ䰪廷䬿㘟俻䱄櫆⒚㰦㒪℘䱂○፺䨖க╆Ƕ໕媜☃὇䦢ހ䟳捱⨺㈴檕燰䋼॑ʡ缳⊉ㆲ᷸᭡㵸捯厠䈧䡸φᒡ熣Ỡ璽⎌杳懧Ž⤃㝵㕓矉㹢䘨傰ϰ䐋䩊⋘ྱ㭥㿊瞝ђ䠬弊۬౛ᮅ夠凾ᅈ浀⩟䂕咈沍ᎃゴ̈慩ַ境么现䊋⁵ർ烀㝝创䳍ሆᓹ灊㟷䚺寳ᔘ䕄䞭࿃䣪Ó㧚泽ጾᯐ㾬᥈签㛗䨂᪍ᇲ䜼噕ٓ⇜෰悦౜↳棐繺ᑝ㩃㟸憄㠯昸䄀ѡᛱ妋㞌固熈㦕䒼怒㥲ঠ௛㾅​䭁樞Ҕ數䃼代䡛潇ໆ⑧㜤˵⨊埡㐼•棹८ᠲ䎂娼惠͐炳䡁偲࿙唫䕜äႇ䕖⻑呷⦭寶泈扮੽ᒼ㭤慚⣡嶺漖Ӱऌ䠈瓪✑ऍ࿎悡眝䙛㰷̎唰㝫ᄊ環໠⺛ऊa❏㶚夆廳番ⰷ嗱؍⚓䄛䪴㻦㢏∋烑㺧ſト窻杛眺㈚仒奥ㄽ䷶ᚸ筀湆ῷ廛痸噚〦營䃤䶚㓇ၞ灋㨡ၒ濆兕䶦⊫᭐ڴ೦⺫筓牫ऎᡁ㘥Ɀ噀牓味娀㜘ȑ䄩棙಼朠杞禩㙼絧录凛䱜搴䀠 "
   },
   "outputs": [
    {
     "data": {
      "application/vnd.jupyter.widget-view+json": {
       "model_id": "7d467d3aa9254ccaaa76a569db256ebc",
       "version_major": 2,
       "version_minor": 0
      },
      "text/plain": [
       "PersistWidget(data_values=[{'__id_column': '1', 'Name': 'chevrolet chevelle malibu', 'Miles_per_Gallon': 18.0,…"
      ]
     },
     "execution_count": 11,
     "metadata": {},
     "output_type": "execute_result"
    }
   ],
   "source": [
    "# PR.PersistChart(chart, data=df)\n",
    "PR.plot.scatterplot(df, y=\"Displacement:Q\", x=\"Miles_per_Gallon:Q\")"
   ]
  },
  {
   "cell_type": "code",
   "execution_count": null,
   "id": "4b0d5643-fd7f-4c48-8079-4fd7c9054b62",
   "metadata": {},
   "outputs": [],
   "source": [
    "persist_df_6.head()"
   ]
  },
  {
   "cell_type": "markdown",
   "id": "a6284113-65cf-408e-927f-d302988c2a9d",
   "metadata": {},
   "source": [
    "#### Filtering Data"
   ]
  },
  {
   "cell_type": "code",
   "execution_count": 10,
   "id": "74072acb-ff02-4b57-9737-8834d8e18bbb",
   "metadata": {
    "__GENERATED_DATAFRAMES__": "ᯢ粠 ",
    "__has_persist_output": true,
    "trrack_graph": "ᯡ࠽䈌ʀ匦㢠⹰怮నぃfŐԀୠච⬴ከ˪䒠౤ㅛሔ௠㬬並㄁➬䥈kᑄႉᦒર勋⃩䖶ᬮ溜ˁҠǁ#ャ䌰牠ኤРឝ⤠湐愎Ⴂ巟〸怢橐樠Ԍ牠Έ䆈尠㌲⩃ܫ恪䇆冂ᥱ壩呸ᑴ㶫晩䘁\"琭ِ➓≝ë氱䇑䅠Ȅ恨Ɱ㵝ಠ佪䗃猐డ㙐ᬬࢨ̬ड᧕ࡣ嬱ↅြ㖠᫤ㆨ೻ҴƜۛ׈䘷䛡˖宧䳡⚌¾'ϻ埦؉妘䊨希ܦ൳ࡄ㜦ޣ䒐権Ԣᅘ㱔፣ᅘ⨮০僨碊Υℒᱝ؁㈈筓朔䨊䰳∤ᶉ̈́⧡䔂∢⒱⓲∦▢撒㲡rᓆ煄䃪㐂䓒ⵥ◲䳇ᯯ攪౑⹱ᣬ䤠ೆ㆜䵈 •昜砠࿆稥䚠ᱸ౑ᛚ䀢䙥檌ࡎ實倠䩝ᝰψ惂<搁妭翑墁愀筷ൠႽ᝹ޣ恝筅ⴅ㡠㠶妖礜ÐⳗӞ丧Ա惈⽕ц∦᚞΢ნⰴⷪ⚐ొᘅᐬ៎暼䧄汞౧ᅈᨽࣦㅸ瘷ϧ焤愽⃱櫺ື⏰ᅚ㈬ᒵ෦䧒ൕ䶌䛂恻ⱖࡖ毗沎揔栳ᱎ⮡悃䇤ᠠੋ䮋坰ਡÞဠ˙䂟悑潛䣳幰٫帰ϸ汿ࠫŐ䨠‷䥃ȷ䲁㰧䷺ᨿीⰼ䌬့͓խ䶮ᨱ䋼ᘳ䌐簰⎨烀ァ㤷Έ⨥熘㧧䂨ĭ⁐ㄭ⅘ᐥ灹থ䓐ḥPఢ₀⸢ േ儈撡䃀ү䊌ℶ炨朱⋨榰㴭էŭమ㓍↣㐫ᤠĉ㰻侒ṧ什稻嚒堩+ŰⰫ吺昔ưㄬ怸ガ慔㕡乹Ł᰷╡ẏ̀稢㏡㱂⹫⦚⩙㑨ݣ媎俐ࢁ䤠䑸à挹䳂姓吨᩶伥斞䫊䑽悡䄣ⵣ䁸Ա槝䊩∹䊡坈┠捤沱ᙩ单ᛕ剸㦬挠檻䀠Ễ嘃䄶ᗉÓ⁄䤁ざہ屐ₕߧⶻ␢㳛㲳㠧㄃ⱆ㸣Ӂׯ◟ⷱ秴࿮נ恍֚ᰌ⛙⥉☝ᵋ椑⽉䎉㏫၅ंᲺⓏ凳ωㄦ㢩悡ࠫ䁞ᣵᄼ㠷᥀ 㒡Ꭹ劋ᐆ糟ڸ塐ੇ眈႓䡃內๊ઐ棓孥梗䋂吽༒ᙅ䳐㚵䬴払䜣嘭䧑㛴ැ癢䰲䡾ᣓ情峗䯵媥嚨啾㛈ᗗ㙄Ꮡ⫆᫇㡐Ҁ䁮ི出姅櫣㧾嶮࿓㢃ュ卙忢с܇戙嵕૑ᱳ㉲䎲牜嶻爢䥶硫姁⺨Ꮖ瓝᎐らថ䱳ᶎḫᖌ䠋஁沛ᰩᰯ呧Ჷઍ崏䰒䑟䪃ǵ搭矋ȯ岯ྌ䠨⤨叵᪊掸㧽㯬㋈፤撻Ꮓ磍ᔬ⺚㠵㖪ᥝ⿏⿸硁㯻珎ᇕ㻌ΐ攘⿛竈綧⎙¬⌅怘棯ፀȜࠞњ徻笪微篟㕷ㅏ瓆㡏⃜ॄ弬䃂ড ࣰ㩇嘤䑲۫恾Ա吷䄐Ạ瀢䬴䀑捝Ꮶ⻅Âఱ᜴稚䷠‰৸ᯱ嵏䈘㾢炌懬渠㦄ᢐᐸ獈┃⢉擰㧣僢ٍ⦺儐ຳ῕䏆㜪ນԼ┡᳊ເ㎫∇ᯡÀ⍧㾃欹㉖⫨囆泍曱奍嫹㗁愠  "
   },
   "outputs": [
    {
     "data": {
      "application/vnd.jupyter.widget-view+json": {
       "model_id": "af3aec5c780d4ef7997b64ddc4f15032",
       "version_major": 2,
       "version_minor": 0
      },
      "text/plain": [
       "PersistWidget(data_values=[{'__id_column': '1', 'Name': 'chevrolet chevelle malibu', 'Miles_per_Gallon': 18.0,…"
      ]
     },
     "execution_count": 10,
     "metadata": {},
     "output_type": "execute_result"
    }
   ],
   "source": [
    "PR.PersistChart(chart, data=df)"
   ]
  },
  {
   "cell_type": "code",
   "execution_count": null,
   "id": "a57edda0-2892-4c1f-b486-066f59c56a79",
   "metadata": {},
   "outputs": [],
   "source": [
    "persist_df_7.head()"
   ]
  },
  {
   "cell_type": "markdown",
   "id": "3066d9d3-6688-4bf1-ad00-39ad1b5df821",
   "metadata": {},
   "source": [
    "### **Table**\n",
    "\n",
    "To create an interactive data table run,\n",
    "\n",
    "```python\n",
    "\n",
    "PR.PersistTable(data)\n",
    "\n",
    "```\n",
    "\n",
    "PersistTable is a powerful tool to manipulate data"
   ]
  },
  {
   "cell_type": "markdown",
   "id": "fffd1b0d-d9a7-4c7d-8dcc-62ebd81352a1",
   "metadata": {},
   "source": [
    "#### Selections & Filters Operations"
   ]
  },
  {
   "cell_type": "code",
   "execution_count": 21,
   "id": "e39c69cb-9e88-4bec-9360-4c9e9093fbb9",
   "metadata": {
    "__GENERATED_DATAFRAMES__": "ᯡࠣ䅬Ԁ朤壠ᜣ琢〹夥゠⹰〮⁁䁻қ䚾ኊ㇠നСࠩ瀮晼Ƭ穅5愠៩䨤ធ搡瘼洐ுᝉ⅊≌䋅煒㉱拄倢怠怦悥䀳䀣䀨怶䀹䮖甓樔Čឮ猨ㅓ䀩䪎࿕㤑ㅭ⠠䙞ጯၪূ䄁䫃㖭ᔈ玔◍䬽Ĭ畈䏧㳃目䝫⢋姸䄈略⎹ゼზ၆ᰧᄺౣ摣䇨愐ú偼渨ᢴᾎ㒕᩺冽㻁嘏ᙏ勮尊㋤浛渓Ŝ䮂㦿␱۩Ӂ火ࢦ₂妳㳷㻢Ẋ炽ᖘ䎁଱㺇ᛮࣙ桌Ꮜ≹⺔ừ珥㹛䈄篭ᩒ᭣惩牡ᒡ懼㤒,၅़6Ᵽƴ်䅧䶹ᠦ໯⁞ᄠ௏棡汉ឧ䏁䒙تᅑᳮㆴ⌃ᒉ〉␸䚏䐡㍸癇෡熘㺟ໄࢥ慨婋ࡄ䤰Ն䩨᥌䝆圱䐴㳪䊸⹻ޮㅵ滳ৌ∘ܫȪଙշ᳣揔眡䢅¬挩媅穱அ喎媍孝⾀㩘䜳埦㡽ላ圄抂ⳋ㘎窝䱕㠏稣亀㐺ணᄈ㳇րࣄ┶䒃ཊ沷䕳䓲㉫䙳Ԃ⺰栀䴙㖻䙊岱໗ᢡᙍ䁞㌘䶖凣皹䕨∬㭙ल嗡˙⹧Ữ央墰ᔥè悄ἻᲑᎄ岓绳ЧኌṠ೹ᘡ\\厔㬍䞠⅜ೄ㣤ṃᐶଣᑮᴠ稱ሖူ᳥аާ塏䫑维夤囿䀠嬰ภθ⠠ᰘ塗䱠5ㄉᤷଠ䃠㲢ᡀ㤨᤹▀吤è揙⽏攥㜧憐⣎ᕤࢤ  ",
    "__has_persist_output": true,
    "trrack_graph": "ᯡ࠽䈌ʀ匦㢠⹰ˠ̠汐ᖠ丠㠢ᠫ‹䯎ᖩ‹䂖থ冠⇑¸⪟咡䛸兠҅牪2攩њᙜ⊄ᓊ桖ኊ懫䔯㽡ᅀ†決ࣦẰӁĠװ搬W౐ި₏湝瀡㜶ᥠ¼湨࠭ദ䆫䛡僣लぢ樾㸺䌽䩬ↀሱ⃀棸∸⸨7⒌㆐奁傭㳁ᙛఴ>☤䈳净䮐䈸⅁⤦Ԩ怫ㆣ壑䑠Ⲁ䡹巘䈻墮້Ȳ氡嚳 廤㋀ఄ㉝⳰妘瘨不尪显㞀ԐZ彝繐幝吁Ω湧᧢批䠰ቭბ沜ന⃀ᡈᢧ⏐䤊ᬧ₀橚ԭ䇂䒜ᩄ挐ᠶന炝徉᧊懔⁓妴㍥㆘兌䣡⦔咩䨱奼彄ℴ╒䋅ӣṖ⹀䥄⥔孧斄㥜䃊ᚵ昪䛆㏵ṋ෢捬\"⼢ِÎ䦸ಈĄ䚸᣷だ皧⸥ñ溺ᇧ⪣Ṱ䰠琡窆旚渐ɡና灈ⅽ䭰僘⹥š梔ㄷς硔ㄪ؀夘㘰䏀Ҕ㚊剒㹧ᮣ憲じűⓃ⤔⌹䎂㣼ἠ☲䑭୭唈㛝㽯ȸ㐑㸪ㆹ晰拹㖉嘻ᛨ旸‧ᇤ璘⸫ぺ痛滇ᆮҰ怠⢭ࢳ尾倴ġṠ୸ĝᴗ柋␕ᾨͻ夞ర䈱ᐠ䂿ᩥҿᓥ烏᫕㒞᩠Ĕ忸ٺ㿠ᬦ僪殔஬ѡ罦͡宮ࠞљӢ⌼ு椴処瘭ʰ䉵ᄨ呫䃐䳷ʐሦ䎀እ䂀刦䐀㨷兒̿ۢ⊱怡䑓慁䱚〠憓⎤yଡˈ䑁㗟࠯㗆㒠㐀߅璹᧭夞Dѡᶠ㗝➫Ⴛʮⅻડ汔㞄喔㾎ቬᵩҤἃăʇࢳઍ⇳✳䴓ƄⱫᦎ䵋Ⓟᅜࡿౝ㡴䕂媁䳓Ɀ䴫ㆊⷫ▃嗬⑂ ࣐✣⛊仕䚲侙䘨ᖡ䄢ɑ㻝ㄩ恨㒊怷⤡繀ℨ慆恸䖿⊡熶㘀桂剤䋝ץ栬ހ瑌╀桏ڳ嬭〭疬儅狗ᑴᤪ刵櫑⓵敏䈽洷∈素戸屦ߠ䉌疹獂矑䯚抜᮶癙濅恝戭旜侹疠垭癜傻璘䘫煦嬧熘漷搜p໳ი⒳҄悡⸬佃犂䦠⩸㌠ᩤ௢⁘ಢ䑬ൃ㊒ൣԎ亰綇总瓢ڇⴁใゅᯐ牨ɣᑨۂ紇䃡梫ڨ瑎≉т噭ӎƠӑİॉơ⑉с砪ᜲⓢ暳炔幣墕嘻૯撨⵻⶜ぇ⫈ᙳ␑罀ᘥ湝亰亜䅁⺒䞌橇㓰㶯俰篍░მϼⱔ歡㍩נ୲楠⭮ᛁ䱆滻㮔䵫ブ㷯玂滁䭾╻◦櫻ʅ㪰ᕾ儠䩿䑸Y巀㘔磰Ą櫜⇠আͬ眬㵚岉棚㈙猤ၠ㶯ή戚ᇐ㔦忤ᰗ〨㱦㇚᫃㉈睨ೌᜀࣕ᭥˗ᤵӔ坅㨡瑒⟔㫝৯緤࿷买ࠚᖢ峠濑ܬ඗Ⱥ༬᩿᱔庋栘⒏㲯䦝棽͑唓ㆴ዁➧捤ᑆ偂昤∡ℬ䱉䇸斲୛ჱ孲ஆᨅᙔᏬ૧┟຤࿎᤿ℕ㱱㍁⡁晌ᅤ巽䊈叡慍挐ಪ③ƀℤ䤈ච䤨䂈ཙ㡅壐ణₖ࠘簠憂枌手丄产⫋⃐!⬃⯐焙䒾樁暓戀㾷හ඘㟙䰛ࣴދᄮ㭃.⃸爹姃䷒呚䆖ᚡ桞普᪠੨੠Ⲽ䎌Ố⎸╈Ѩ禈䱮㢰᱃↉䄺組㛙曞㡗㲂ឆ煎痎⸽柔刬炠  "
   },
   "outputs": [
    {
     "data": {
      "application/vnd.jupyter.widget-view+json": {
       "model_id": "630f85e53bfc4536af86ca6a0fc487c9",
       "version_major": 2,
       "version_minor": 0
      },
      "text/plain": [
       "PersistWidget(data_values=[{'__id_column': '1', 'Name': 'citroen ds-21 pallas', 'Miles_per_Gallon': None, 'Cyl…"
      ]
     },
     "execution_count": 21,
     "metadata": {},
     "output_type": "execute_result"
    }
   ],
   "source": [
    "PR.PersistTable(persist_df_3)"
   ]
  },
  {
   "cell_type": "code",
   "execution_count": 28,
   "id": "ee5c579e-7f02-4749-a9e8-574a24084f00",
   "metadata": {},
   "outputs": [
    {
     "data": {
      "text/html": [
       "<div>\n",
       "<style scoped>\n",
       "    .dataframe tbody tr th:only-of-type {\n",
       "        vertical-align: middle;\n",
       "    }\n",
       "\n",
       "    .dataframe tbody tr th {\n",
       "        vertical-align: top;\n",
       "    }\n",
       "\n",
       "    .dataframe thead th {\n",
       "        text-align: right;\n",
       "    }\n",
       "</style>\n",
       "<table border=\"1\" class=\"dataframe\">\n",
       "  <thead>\n",
       "    <tr style=\"text-align: right;\">\n",
       "      <th></th>\n",
       "      <th>Namesdfsdf</th>\n",
       "      <th>Miles_per_Gallon</th>\n",
       "      <th>Displacement</th>\n",
       "      <th>Horsepower</th>\n",
       "      <th>Weight_in_lbs</th>\n",
       "      <th>Acceleration</th>\n",
       "      <th>Year</th>\n",
       "      <th>Origin</th>\n",
       "    </tr>\n",
       "  </thead>\n",
       "  <tbody>\n",
       "    <tr>\n",
       "      <th>0</th>\n",
       "      <td>citroen ds-21 pallas</td>\n",
       "      <td>&lt;NA&gt;</td>\n",
       "      <td>133.0</td>\n",
       "      <td>115</td>\n",
       "      <td>3090</td>\n",
       "      <td>17.5</td>\n",
       "      <td>0</td>\n",
       "      <td>Europe</td>\n",
       "    </tr>\n",
       "    <tr>\n",
       "      <th>1</th>\n",
       "      <td>chevrolet chevelle concours (sw)</td>\n",
       "      <td>&lt;NA&gt;</td>\n",
       "      <td>350.0</td>\n",
       "      <td>165</td>\n",
       "      <td>4142</td>\n",
       "      <td>11.5</td>\n",
       "      <td>0</td>\n",
       "      <td>USA</td>\n",
       "    </tr>\n",
       "    <tr>\n",
       "      <th>2</th>\n",
       "      <td>ford torino (sw)</td>\n",
       "      <td>&lt;NA&gt;</td>\n",
       "      <td>351.0</td>\n",
       "      <td>153</td>\n",
       "      <td>4034</td>\n",
       "      <td>11.0</td>\n",
       "      <td>0</td>\n",
       "      <td>USA</td>\n",
       "    </tr>\n",
       "    <tr>\n",
       "      <th>3</th>\n",
       "      <td>plymouth satellite (sw)</td>\n",
       "      <td>&lt;NA&gt;</td>\n",
       "      <td>383.0</td>\n",
       "      <td>175</td>\n",
       "      <td>4166</td>\n",
       "      <td>10.5</td>\n",
       "      <td>0</td>\n",
       "      <td>USA</td>\n",
       "    </tr>\n",
       "    <tr>\n",
       "      <th>4</th>\n",
       "      <td>amc rebel sst (sw)</td>\n",
       "      <td>&lt;NA&gt;</td>\n",
       "      <td>360.0</td>\n",
       "      <td>175</td>\n",
       "      <td>3850</td>\n",
       "      <td>11.0</td>\n",
       "      <td>0</td>\n",
       "      <td>USA</td>\n",
       "    </tr>\n",
       "  </tbody>\n",
       "</table>\n",
       "</div>"
      ],
      "text/plain": [
       "                         Namesdfsdf  Miles_per_Gallon Displacement  \\\n",
       "0              citroen ds-21 pallas              <NA>        133.0   \n",
       "1  chevrolet chevelle concours (sw)              <NA>        350.0   \n",
       "2                  ford torino (sw)              <NA>        351.0   \n",
       "3           plymouth satellite (sw)              <NA>        383.0   \n",
       "4                amc rebel sst (sw)              <NA>        360.0   \n",
       "\n",
       "   Horsepower  Weight_in_lbs  Acceleration  Year  Origin  \n",
       "0         115           3090          17.5     0  Europe  \n",
       "1         165           4142          11.5     0     USA  \n",
       "2         153           4034          11.0     0     USA  \n",
       "3         175           4166          10.5     0     USA  \n",
       "4         175           3850          11.0     0     USA  "
      ]
     },
     "execution_count": 28,
     "metadata": {},
     "output_type": "execute_result"
    }
   ],
   "source": [
    "sdfsdf.head()"
   ]
  },
  {
   "cell_type": "code",
   "execution_count": 26,
   "id": "20f174ff-7837-4d5c-b8ef-6b132c6d87cd",
   "metadata": {},
   "outputs": [
    {
     "data": {
      "text/html": [
       "<div>\n",
       "<style scoped>\n",
       "    .dataframe tbody tr th:only-of-type {\n",
       "        vertical-align: middle;\n",
       "    }\n",
       "\n",
       "    .dataframe tbody tr th {\n",
       "        vertical-align: top;\n",
       "    }\n",
       "\n",
       "    .dataframe thead th {\n",
       "        text-align: right;\n",
       "    }\n",
       "</style>\n",
       "<table border=\"1\" class=\"dataframe\">\n",
       "  <thead>\n",
       "    <tr style=\"text-align: right;\">\n",
       "      <th></th>\n",
       "      <th>Namesdfsdf</th>\n",
       "      <th>Miles_per_Gallon</th>\n",
       "      <th>Cylinders</th>\n",
       "      <th>Displacement</th>\n",
       "      <th>Horsepower</th>\n",
       "      <th>Weight_in_lbs</th>\n",
       "      <th>Acceleration</th>\n",
       "      <th>Year</th>\n",
       "      <th>Origin</th>\n",
       "    </tr>\n",
       "  </thead>\n",
       "  <tbody>\n",
       "    <tr>\n",
       "      <th>0</th>\n",
       "      <td>citroen ds-21 pallas</td>\n",
       "      <td>&lt;NA&gt;</td>\n",
       "      <td>4</td>\n",
       "      <td>133.0</td>\n",
       "      <td>115</td>\n",
       "      <td>3090</td>\n",
       "      <td>17.5</td>\n",
       "      <td>0</td>\n",
       "      <td>Europe</td>\n",
       "    </tr>\n",
       "    <tr>\n",
       "      <th>1</th>\n",
       "      <td>chevrolet chevelle concours (sw)</td>\n",
       "      <td>&lt;NA&gt;</td>\n",
       "      <td>8</td>\n",
       "      <td>350.0</td>\n",
       "      <td>165</td>\n",
       "      <td>4142</td>\n",
       "      <td>11.5</td>\n",
       "      <td>0</td>\n",
       "      <td>USA</td>\n",
       "    </tr>\n",
       "    <tr>\n",
       "      <th>2</th>\n",
       "      <td>ford torino (sw)</td>\n",
       "      <td>&lt;NA&gt;</td>\n",
       "      <td>8</td>\n",
       "      <td>351.0</td>\n",
       "      <td>153</td>\n",
       "      <td>4034</td>\n",
       "      <td>11.0</td>\n",
       "      <td>0</td>\n",
       "      <td>USA</td>\n",
       "    </tr>\n",
       "    <tr>\n",
       "      <th>3</th>\n",
       "      <td>plymouth satellite (sw)</td>\n",
       "      <td>&lt;NA&gt;</td>\n",
       "      <td>8</td>\n",
       "      <td>383.0</td>\n",
       "      <td>175</td>\n",
       "      <td>4166</td>\n",
       "      <td>10.5</td>\n",
       "      <td>0</td>\n",
       "      <td>USA</td>\n",
       "    </tr>\n",
       "    <tr>\n",
       "      <th>4</th>\n",
       "      <td>amc rebel sst (sw)</td>\n",
       "      <td>&lt;NA&gt;</td>\n",
       "      <td>8</td>\n",
       "      <td>360.0</td>\n",
       "      <td>175</td>\n",
       "      <td>3850</td>\n",
       "      <td>11.0</td>\n",
       "      <td>0</td>\n",
       "      <td>USA</td>\n",
       "    </tr>\n",
       "  </tbody>\n",
       "</table>\n",
       "</div>"
      ],
      "text/plain": [
       "                         Namesdfsdf  Miles_per_Gallon  Cylinders  \\\n",
       "0              citroen ds-21 pallas              <NA>          4   \n",
       "1  chevrolet chevelle concours (sw)              <NA>          8   \n",
       "2                  ford torino (sw)              <NA>          8   \n",
       "3           plymouth satellite (sw)              <NA>          8   \n",
       "4                amc rebel sst (sw)              <NA>          8   \n",
       "\n",
       "   Displacement  Horsepower  Weight_in_lbs  Acceleration  Year  Origin  \n",
       "0         133.0         115           3090          17.5     0  Europe  \n",
       "1         350.0         165           4142          11.5     0     USA  \n",
       "2         351.0         153           4034          11.0     0     USA  \n",
       "3         383.0         175           4166          10.5     0     USA  \n",
       "4         360.0         175           3850          11.0     0     USA  "
      ]
     },
     "execution_count": 26,
     "metadata": {},
     "output_type": "execute_result"
    }
   ],
   "source": [
    "rename_only.head()"
   ]
  },
  {
   "cell_type": "code",
   "execution_count": 27,
   "id": "2c13fabc-c62c-488e-95c3-a36079b3bc9f",
   "metadata": {},
   "outputs": [
    {
     "data": {
      "text/html": [
       "<div>\n",
       "<style scoped>\n",
       "    .dataframe tbody tr th:only-of-type {\n",
       "        vertical-align: middle;\n",
       "    }\n",
       "\n",
       "    .dataframe tbody tr th {\n",
       "        vertical-align: top;\n",
       "    }\n",
       "\n",
       "    .dataframe thead th {\n",
       "        text-align: right;\n",
       "    }\n",
       "</style>\n",
       "<table border=\"1\" class=\"dataframe\">\n",
       "  <thead>\n",
       "    <tr style=\"text-align: right;\">\n",
       "      <th></th>\n",
       "      <th>Namesdfsdf</th>\n",
       "      <th>Miles_per_Gallon</th>\n",
       "      <th>Displacement</th>\n",
       "      <th>Horsepower</th>\n",
       "      <th>Weight_in_lbs</th>\n",
       "      <th>Acceleration</th>\n",
       "      <th>Year</th>\n",
       "      <th>Origin</th>\n",
       "    </tr>\n",
       "  </thead>\n",
       "  <tbody>\n",
       "    <tr>\n",
       "      <th>0</th>\n",
       "      <td>citroen ds-21 pallas</td>\n",
       "      <td>&lt;NA&gt;</td>\n",
       "      <td>133.0</td>\n",
       "      <td>115</td>\n",
       "      <td>3090</td>\n",
       "      <td>17.5</td>\n",
       "      <td>0</td>\n",
       "      <td>Europe</td>\n",
       "    </tr>\n",
       "    <tr>\n",
       "      <th>1</th>\n",
       "      <td>chevrolet chevelle concours (sw)</td>\n",
       "      <td>&lt;NA&gt;</td>\n",
       "      <td>350.0</td>\n",
       "      <td>165</td>\n",
       "      <td>4142</td>\n",
       "      <td>11.5</td>\n",
       "      <td>0</td>\n",
       "      <td>USA</td>\n",
       "    </tr>\n",
       "    <tr>\n",
       "      <th>2</th>\n",
       "      <td>ford torino (sw)</td>\n",
       "      <td>&lt;NA&gt;</td>\n",
       "      <td>351.0</td>\n",
       "      <td>153</td>\n",
       "      <td>4034</td>\n",
       "      <td>11.0</td>\n",
       "      <td>0</td>\n",
       "      <td>USA</td>\n",
       "    </tr>\n",
       "    <tr>\n",
       "      <th>3</th>\n",
       "      <td>plymouth satellite (sw)</td>\n",
       "      <td>&lt;NA&gt;</td>\n",
       "      <td>383.0</td>\n",
       "      <td>175</td>\n",
       "      <td>4166</td>\n",
       "      <td>10.5</td>\n",
       "      <td>0</td>\n",
       "      <td>USA</td>\n",
       "    </tr>\n",
       "    <tr>\n",
       "      <th>4</th>\n",
       "      <td>amc rebel sst (sw)</td>\n",
       "      <td>&lt;NA&gt;</td>\n",
       "      <td>360.0</td>\n",
       "      <td>175</td>\n",
       "      <td>3850</td>\n",
       "      <td>11.0</td>\n",
       "      <td>0</td>\n",
       "      <td>USA</td>\n",
       "    </tr>\n",
       "    <tr>\n",
       "      <th>...</th>\n",
       "      <td>...</td>\n",
       "      <td>...</td>\n",
       "      <td>...</td>\n",
       "      <td>...</td>\n",
       "      <td>...</td>\n",
       "      <td>...</td>\n",
       "      <td>...</td>\n",
       "      <td>...</td>\n",
       "    </tr>\n",
       "    <tr>\n",
       "      <th>198</th>\n",
       "      <td>dodge charger 2.2</td>\n",
       "      <td>36.0</td>\n",
       "      <td>135.0</td>\n",
       "      <td>84</td>\n",
       "      <td>2370</td>\n",
       "      <td>13.0</td>\n",
       "      <td>378691200000</td>\n",
       "      <td>USA</td>\n",
       "    </tr>\n",
       "    <tr>\n",
       "      <th>199</th>\n",
       "      <td>vw pickup</td>\n",
       "      <td>44.0</td>\n",
       "      <td>97.0</td>\n",
       "      <td>52</td>\n",
       "      <td>2130</td>\n",
       "      <td>24.6</td>\n",
       "      <td>378691200000</td>\n",
       "      <td>Europe</td>\n",
       "    </tr>\n",
       "    <tr>\n",
       "      <th>200</th>\n",
       "      <td>dodge rampage</td>\n",
       "      <td>32.0</td>\n",
       "      <td>135.0</td>\n",
       "      <td>84</td>\n",
       "      <td>2295</td>\n",
       "      <td>11.6</td>\n",
       "      <td>378691200000</td>\n",
       "      <td>USA</td>\n",
       "    </tr>\n",
       "    <tr>\n",
       "      <th>201</th>\n",
       "      <td>ford ranger</td>\n",
       "      <td>28.0</td>\n",
       "      <td>120.0</td>\n",
       "      <td>79</td>\n",
       "      <td>2625</td>\n",
       "      <td>18.6</td>\n",
       "      <td>378691200000</td>\n",
       "      <td>USA</td>\n",
       "    </tr>\n",
       "    <tr>\n",
       "      <th>202</th>\n",
       "      <td>chevy s-10</td>\n",
       "      <td>31.0</td>\n",
       "      <td>119.0</td>\n",
       "      <td>82</td>\n",
       "      <td>2720</td>\n",
       "      <td>19.4</td>\n",
       "      <td>378691200000</td>\n",
       "      <td>USA</td>\n",
       "    </tr>\n",
       "  </tbody>\n",
       "</table>\n",
       "<p>203 rows × 8 columns</p>\n",
       "</div>"
      ],
      "text/plain": [
       "                           Namesdfsdf  Miles_per_Gallon Displacement  \\\n",
       "0                citroen ds-21 pallas              <NA>        133.0   \n",
       "1    chevrolet chevelle concours (sw)              <NA>        350.0   \n",
       "2                    ford torino (sw)              <NA>        351.0   \n",
       "3             plymouth satellite (sw)              <NA>        383.0   \n",
       "4                  amc rebel sst (sw)              <NA>        360.0   \n",
       "..                                ...               ...          ...   \n",
       "198                 dodge charger 2.2              36.0        135.0   \n",
       "199                         vw pickup              44.0         97.0   \n",
       "200                     dodge rampage              32.0        135.0   \n",
       "201                       ford ranger              28.0        120.0   \n",
       "202                        chevy s-10              31.0        119.0   \n",
       "\n",
       "     Horsepower  Weight_in_lbs  Acceleration          Year  Origin  \n",
       "0           115           3090          17.5             0  Europe  \n",
       "1           165           4142          11.5             0     USA  \n",
       "2           153           4034          11.0             0     USA  \n",
       "3           175           4166          10.5             0     USA  \n",
       "4           175           3850          11.0             0     USA  \n",
       "..          ...            ...           ...           ...     ...  \n",
       "198          84           2370          13.0  378691200000     USA  \n",
       "199          52           2130          24.6  378691200000  Europe  \n",
       "200          84           2295          11.6  378691200000     USA  \n",
       "201          79           2625          18.6  378691200000     USA  \n",
       "202          82           2720          19.4  378691200000     USA  \n",
       "\n",
       "[203 rows x 8 columns]"
      ]
     },
     "execution_count": 27,
     "metadata": {},
     "output_type": "execute_result"
    }
   ],
   "source": [
    "persist_df_5"
   ]
  },
  {
   "cell_type": "markdown",
   "id": "355531cb-60ec-4c78-b781-eed49c233f74",
   "metadata": {},
   "source": [
    "#### Search"
   ]
  },
  {
   "cell_type": "code",
   "execution_count": null,
   "id": "245bf8b1-a245-4ce8-a59e-c3f7d33fa44f",
   "metadata": {
    "__GENERATED_DATAFRAMES__": "ᯡࠣ䅬Ԁ朤壠ᜣ琢〹夦゠⹰〮⁁䁻қ䚾ኊ㇠നСࠩ瀮晼Ƭ穅5愠៤⠠ ",
    "__has_persist_output": true,
    "trrack_graph": "ᯡ࠽䈌ʀ匦㢠⹰ڀ↠ಈᆠย堡〫⑅⹆෪¼戢ᮂ宂̸濪⸢㌓暠ᶩᐠ▴ሰ瑸碪䮴囇⣹䶧㝞Ž䉠ð䀡姇冨㕀ॢȠ௞䠸ᢀ眰䅽忚怢晐樠Ԃ牠ΈƔڦ❓ሦõ䰶䇑䅠Ȅ恨汁ئឿƨ⃧挐㇐ؠ嬸යᑤڦҡ哹䑁ᦨࢣ㵕䀺慶䐩疧䈡㸦ƶ穋ۡǹण䍔愊㘠传ϒ緷挪戏ⱡ䕽皮㒓㈨ɪ⫥☂૓炁䑈⸬Ⴂ圽皨篂਱⁰䈠೪揱ᢌگ㇍ᮋ䥂䢠⍤Ⲃȥ噗ᩩ䄀Ѫᅪ⍈ె֮抐㲞ၢ၄w⁸ᙛ屒ᙞ⍀⢘洠䭳঺᥇ℰ䙠  "
   },
   "outputs": [],
   "source": [
    "PR.PersistTable(df)"
   ]
  },
  {
   "cell_type": "markdown",
   "id": "2c7f5eff-050e-48de-8aad-21dde7aa1821",
   "metadata": {},
   "source": [
    "#### Edit Cell"
   ]
  },
  {
   "cell_type": "code",
   "execution_count": null,
   "id": "a970629e-eeae-4173-9729-d47803f18ad1",
   "metadata": {
    "__GENERATED_DATAFRAMES__": "ᯡࠣ䅬Ԁ朤壠ᜣ琢〹夤炠⹰〮⁁䁻қ䚾ኊ㇠നСࠩ瀮晼Ƭ穅5愠៤⠠ ",
    "__has_persist_output": true,
    "trrack_graph": "ᯡ࠽䈌ʀ匦㢠⹰̡࣠䘤ᥫÐʀୠᎫf挓攩剐挱ᓀ۠ᶪìኅ㋅ተ¶⡨⇳㌄ᕁ╦亩͆ᘽ嶛稨ǁ#ッ௜′䈤7࠽ᠠ湐慎Ⴅᣕ㈣%墎吠➛␠㚨አ䗨揠ˑࠠᲈ䤈幃়䖢➂ტ⊂燘ᢸḬᶤ+凵櫺ರ桚ಟᙙ䘪/ጢ⃃声栤䊔䄩ᖦ删ב䎹イ⁸と㤙塢۸䐫ᒥ䰡団Ɀ㫰Ⓚః囿䰡䳐ᤆ҅櫼ຆफ़〤砠Ḏ亾ᠬ㬓戸℆燑て㈤Գ䔌Īâ≸㼨䞁㡑ᔬᅚ擰優Ţ塼ɛ݂⊈㷧⊚异ᵦ漛㕇┫䈥㑮ၩࡩథ፨㉹๭Ϩ੥⓬ઑ椱⍞ᑫቤ⩽ᓫ㋙ᘿᑋଅƸठÊ柎ࣲ䀠Ȭȫ倡⻣ᠧ⠣䠠㥌ᒆ㖈㫱!燵㡚禢ݕ恰৳楙䶎╿犑᫢㦠ߴ㆔⍍☁稜◐⹣㋂ṑע╸ᙾ໧ᅅ㐩擣悴㑋ʓ慸ᣇ⹥ᒔ柖澄㡄䰮ྦშ䩆㭧儸昻ৡ焘ġ܇ፉᚲ懲琨ɴ┰ᅸᵈ湔䷆妣⃗䝶爦旑洖䎴氅ᷮ䮾揃䅤ᠠੂ㰆ᝋ吥a➰ჶɞ篓漀磜漰ᛞ㊘hत倢͜焿捜紱䇘翣推>䉩रࠩൿ氹䌨撂๰ḥᱨᴤ僘ᢥ䄽ڦൿ湡偎֢ौ橣牚ֻ䠬䉡㡶λ獪ɡ灎൧䠸䗠䁼ሡ䄑Ρ䐺想惇§畃⊉⵱䐧儑೅⥍ޤⓈՅ缹ᩥ‧⫆⤑ె䔑ᔂ⓸ႅ撪ኧ洑Ј紱᫐㹏䐑纓ಀ怳乂⒆捁宙৹ᒎ櫁笭ࡘ䔒䥳Ĵ࿚ጦ⊹ࡔ憠㎊ය玜择ଲ晸⭔ո䅡∱፨䊵劬勧㊢架䮒楹岝ࢺ唭◉ᩝ₋൳⚈y㞯ţ⯫煣.ሥ㩂旕皱井⻛協⠰䬀绕䏑ƨӣ懁䊭測㐐Œ愠硆۩碾ɀ栩͠ᤴ⒨⡌➁ᱱй搩恀Ⱖƀ杕㟲熣㘴ೌ⌴Ⲥ劵᳌刅犿ት湝⛵ⵛ┉嵔琸⑖⁼挤愤⮥䍽୓狼၆曹㭕柽䝐䍘矓睝さ痜➨ឝ圮䖝⳪柽㝅᜝⒳䠝ร䭖䡂〴ཙ䒍䤠ࢃ丶檂ٺ尷Ó硨т勭佑㊌塲㵦䥓㾠棈灐榡⍤沭Ӻ墢ዱ໷㫢ୃ⡰ᕒ义槚屜⃬✩נⲣ毀ㅋ՚䐶̩汄↠尩杠〰矸湧䔙彏悐㹿䪐Ɣ䖌爧㑱䨯㍱緆䑯ㅽ䘤ў畛催⃚坭毚ृ棌⽻椚彯槦∸䄖枝㲩ផ淛ǣ檛深ⴎ僗㺊⫘䀡䪦ᐆ橚崡檾⇠ℋ㻒㧫挆ว⹒рفᄕ綥祰ਏႯ⼡䐸஥䒱ᘢႱኦ傱Ԃ䁥㚫緕䀻䐲⭆थ⚔擬ⳍ≙⡸ᠸ堺僉⭍⁃።⍅ㅦ⧦䁹令⠤䃑䦒熬搃㳤ፖ㍸ኃ崄旬䜰秉夑⸪憾؄㌵矜ဩ曋Ǭ侢䵟ី䅒ந⃗䄥ㄢㅎ嚺挥剧ⴰ幺巂嬤ਣ㡁懰慃傘܁ᄭ慸෡憬⇘ण㢔Ո宎ᛣĠ瘱洬士౦壠⦯ᣩખ綄勶䧄拦捅䉧璴䗩㼨⮗ㄠ㠯庶ඃ扚ⷜ㙸巃䥘②ှၮಣ惌೤ᠮᅨ߂⻛pౡᱰ炞沦ჶᶄ๑Ӡץෘ䊦⢅࢐朊፣઎ᑲ幉涎ȣ籙➐䍭椫ல爫炦䜠Ḵᦜ㙧粄Ơᄣ堠ݐ䱄皬唉廾Ⰵ繩妓噣孕ʥᆐ䖕<䄯尵ॼ䠵Ⲕഘ⾵磿Ḑ㽇熨᠄意溲忧編ဘ䪿㪿㨕㆓䣌専摷ᴝ⿾獟尚群捊⭷ࠠذ咍䇴䂱⠷໙寫㑖䇑慪稿㞤ᶘ愠縨䧹ᶝ柮䕓Ԣ寚₆㿑灞䁀Შ䴟杹᭶差䢚ᯈ篽⮖㴼愎促Ṿ䨫烢䤱岓傔烼珳恜਎⦨↓໘䓻㣩䐐༱狳⤯卋懜ᘹᤌỬ澫䋈⁅㼿Ԟ¨㑁㖱ᄹ㉖គ慉渌䄫瑨⛸妩嬉஖ᠠ䋚ᤋ四厅价਷坚俋䭗⡢ⴰถᓳ⻝а䍧䍫嗹ࢋ⣘樭㭾㉺⩂盻殪⅗⎙㧘羢曨槭䩀䈪᲻姗橣ⴣ橦㞫ޯ䚨䯲⢲¨䴩៵ᆂሱ澦Ͳ枋♩⇨嘫剸ʠ㠣ȝ㥛暚㩌嚔㙉ƌ㖲થ渵㶧㋫䙉琼⥀ḧ湼⠸籸扤嵠ⓖჩ㒣吵ᓲ寥瞑Ͻ狭级嚡䓔䮾崖⥤፲綑ℶ勈✤弐嫝毡㊱⁒兰⒂沂ᶙෲ㰯䂘औᠰ减傣煘㦀ᘥ∢ʈ⑪༗彈瓐ʼᔆ㹣瞜旬㾟䯙စ࣠崒糄㤥㤺❔烽㽢瀩⹼楰☻䭩狗㧘⥶桪呐䁪キ⥵ߧ唼ᯋે䴺ྺ罀䛉׏⭦䥂拾痵堃㾬寳㋵哬嬦璈⤍ἰ㳻⵳ײᗈ晫⥤䚏燆杫榕᳍棲刖㹀䧏❴櫭஋䲶媭ᨈ䧍絛獎㎇滃⊢朴䋯余憻嫍ຫ罽獚⼷慂ᘰ主ᮇ囅喳֤夭崽ମ垷᚝ឍ⑗璔⸸描囀沩㝾თ↡⁖䄾嶣爦⠬ງ႓珞旉༕抠пॼ亄㳔皇㋯什埮඼嵊૛◺ᘖ⮖၄␎ଢ䁸ṝ∨䍭˩⎚ᇰ挭࠶ൠุᕓ䗱垿牐㜦ࢉڮ甮伆ཱྀ崆帜ᬥ忲p兩㸶ઢㄷ紪ᘏ8䇌⥞倅´ڱㄽR匌㉝㢮椡⁲憠ሡ䚣a嗕〠㞙᰽琾慊㼃榝牱㴿喛䎹˧ম准Ьↂ౥撵㲃ᕄቇ䓴丘罵⦭᭓ࢻ⬆ࢳ㘵ፚ廣峰歠ᾤ׉唨种ଫᡍ䃽㎖婷秉橃㱍涎⾋憋殰楫䎞垞㦶懌囵睾ଔ㛦痙殦泫⽖㟖熷⧖ᝓ㳿ฎ㖛䦩篛㥍嵖矮瞋嗎嘽嫮ᬂ墽ఢ瑲斂䥢䄃宴✩編࠘い刕窞綒慩ᦹᶳ㘅厛ᱶ↗ʡ㦖ዹᝈ叹ଋ緌ͼ儶ศḼ扂᳒㉝䑴䒚ሡ䞥දᄷ࿋⼌㷋㷣炒瞺Ì弖䜣禯䐔㼇尵罰⚕ှ亰ᬧ✦䔧洹ᣘ綮唈倰終㢐࿤䖂䯇殈̱箓पຑ刮ҀĺᎩ㷐㯨㲖梌瘷㋛ḻ૿䫃䕡ԁ᧠䣗┡ܸࡵ㣤ሃᤩ秲䈧ہ㋋צ炂㊆⬫㕥硒〳᲻⽤Ē猑ᧉ傥⚉ㅭᖋ婢℞睋㔧೶䈆㔫չ⍶曔ಓָೣ湁垓㎊巻䄥㘀璊ˣ曡㑉ウ⫾滔૗Ꮊᡄ婩㜰䠢䷨↌ࣳᙺ桀溊ࡰ篊䁙婺燰䛙⫶䇕㒗㵻⏩婭㊐ᜠ怦ၔ㞀٣⎧ჽ煘ᐉᐿ泬ˤ㘠⠣懟▹㻱❴幫ᝏ⳹玽㈪Ǐ㆒⊷㌅擽⇪ွ䁕捠ᨙ㇢经盟㬢濦琯烠ᐘᎵ䃏牰Á年缇癀٤夦纲䇨搚剅縣癈俺唿癐埿∤石缍ಧ㈘䓰丬咿㮛⟸壽玿⩛篰㹸燧㝡㓬Ƭ㍡㌻戾縤ހਡ恔¼眃᳋䡡⨢㐷ᴩ榻ƺ円ⓛ灚⹜ឳᇋ禬䅪烀䫚ⵦ溁煐禈ⷿ⼔ಘ溦㑅燞瑰篥ᷳ焮甯⟦с爟๐容繈湡瞕ଥ䑬৏भ࢚嗾य़ೳῤⱂ湑砑㹲⾮慯懜㙪Ϊäԙ⏰怿ऄ݀Ⅲ堠䀸Řⲋ௭᳡ලຒ⯾㚱ପ⶘扝㪋と䱠椣Ⲇ⭅曢ᆻᅽᶚ托㢦䘐ℸ亥ህ೟ਢ㉛ሗ珈琚ੑ刏矸ဠ "
   },
   "outputs": [],
   "source": [
    "PR.PersistTable(df)"
   ]
  },
  {
   "cell_type": "markdown",
   "id": "f1fb630b-fa93-441f-98e6-33eae803407c",
   "metadata": {},
   "source": [
    "#### Column Operations\n",
    "- Rename\n",
    "- Delete\n",
    "- Change Data type"
   ]
  },
  {
   "cell_type": "markdown",
   "id": "15e3c565-6568-4e69-b3b6-34de7814f231",
   "metadata": {},
   "source": [
    "#### Assign Categories"
   ]
  },
  {
   "cell_type": "code",
   "execution_count": null,
   "id": "483f8adf-a44a-4f3d-bd15-d2ac32b5d0fc",
   "metadata": {
    "__GENERATED_DATAFRAMES__": "ᯡࠣ䅬Ԁ朤壠ᜣ琢〹夤ㆄƒ䃠Რ䌡㘳眺㱩哧ࠠ桠 䁯猀ಏ䢪K䈠⾸倠 ",
    "__has_persist_output": true,
    "trrack_graph": "ᯡ࠽䈌ʀ匦㢠⹰ࣥ8ƀᶪƺ〶䀧ء᱊೸夡౮柑䈣〨ㅠ⬹Ƭ⣮侻ैkᑄႈ妐ࢷᓍ❡䧋ގ㸢䉠ð䀡姕冯奀ॢȠ௎䠸ᢀ㜰䁾巓怢機⨠Ꮃ䤠ළဢ㎃凸ì㉢ᥚᬬᕮ普გ愨停Ẕ煍Ꮋഽ䆡\"甕種ፄ㨾䞰ᛥㆢ䀣擠䡈䤔ᢆᩇ卆⏰˸惌求ၖᡄᲊ橁Č⌤⩡㒶・ΰ㈶⠥稈砆碌ṋɒ疎ݚ⹡ŸŜ.箰㞬ޣ㌑Զ㫹癖ᓠ箩ቄ孉懐ⱪ࣌⍅ᡐ婇䏥杮ୂ䃑䖈䞤㊑桲佬秝ሦ䘤檴݊⽢䁤兖ᙏ੄ࣴ䒡䣠夼佀⤴╩䰺狳ᄸ乀䥄⥖ൎ暓㤶Ὀ⬵ңࣣ⫘晇ඪᠠќп•嶦〶倣䪊き⫡ʻ曘Ἣ㍴÷၆κ⻀橖㱞ᾥ椨䄌⤧ׁ墤ᡥ䁅⠴༤䎀怼夭䓢桰ቺᆣࡈ਼台幛Ꭵ抰じ㸨䕀⡴ാ䙂ᣬ㬫䘃碢Ḹ⟊᫭᭩㌋偝㹓䌩㐐䣬ジỳ⳩偹ᙋẽァ㙛Ỻ牙✞⧼瓛皚᰼↠Â㰾ؒ渾⠤ෙȕす翕⾎઄汯㸓⭗䠮ɢ値̔䤢េ䈀䫋猑ሠ߆㸿䃷㱎巴窦䏂᳿堖㩐/᳠⧅ǎఫʚ࠶䆲ూ䃔³恸幁䁰䪧⁈ๅ停ش凸ᚢṐᬦ瀤䐢⅀ࠔ䢌ਠ䢙䬯ǐ㒀â㵡Р奖ఛ焀⿋湰ڊ䙩ે悛╪噯丒纟䖃啜ृ⑲杀⭥൸咚滁᭍ૻ㣪䵰䄴૙̸ȹ䌨攺〸朸፴⊹卄⦻㎞⅂岗ᨇ䍨懪粴଻࢘梻፴溺䊼楰唰∠1㾣粕ᒴ㒍⣧㖬庨璫c籝ㅶ0㵫琢ၬ塠㘭䁸⼮䈚੩䃀ᔥâ㩉ᓀ㑥䠨޵䗰ɭ࣢⺂ȓ௄ⲥ㵈擥୉ᓹ♭䦅㳋撵᥁ⓛ❭榦稩愆昩憨ऎ᥆ԍデ⋩㸇⌋夏㇮嵤᧡㣎ⴂƗⰨ㶯Όᦏ㗧减ђ娏ᷤ絾ఄ槿ʲ֢㈷粀メļⶢͤ䛁ᐊ治粘强䏰倷䙤丹ͱ効ႊ䯧⫝͸牑䕘͐喭䉠⸴በİ杼ᚉ怲甧஋ଥ′猫慘ⲋ࡚稦悈Ḧ⇲㭛扰哨Ꮙ佞Ѐ凈欥抿㥢ھ⯪ǣ勜៣礞㎤㉬䦋ᇫʥⶴⶊ倻ڬ淔⬅⤼ࡆॷݵ檘ཾ䄚䃿殦愪᯦妅ᰚ⳿᭡Ѿ歚睻歐ଯ欦粘乆昢了使᫒熣䯤垭ᠠ㦫≋⳶倡擲㟧䂎万碎䀧ଢ紱㋗䭱๺歵廼缿珷圁橘❣珵㝹碚㬌ɗί惕᧭㈐ㆍ䛐揶Ự♝ᇪ䈶䐕洊਀梭䌨喩㘶䤪ᓑ⽖ᝦӟ擅⃝ᖆ䳁砽䋱洴疛ᴊ㡇ʀ≤灛匼倨窓൙⽳㇖Ј圷梎ᡔ䍠㏼ႂ㱷ਠヵ㇁䌐むᯣϤ䅷֜ᒊ㚈懬‰ᇑ圻ҡ夁ᇓ㍒ㇶ翥朚毬ၱೀ塹់ᣏ≓⼦瓄ᴨ懜ᆥ籜Ԑ庤䑴Àچ䑈̀燁爽⍌㵲籪ኡ堻ĕ㜣倶׀挥圄毌˿ౘ㻊犳⇐!⩃৒அᄠ༅⢐෼〷尧彡޲抠㔨儉烾湍剭⾍穩沀ᣪՋ妶㲤噅ǌ㫦傭䧀ⶸ℣姩ၔ⋎̲瀴ўᘬ㹴ઝᐼ綸ଙ匷⫿㸖ࠬ環劰㻧䒜ⴺ勯䖠⾣⓿ᬣ弧痐䌭⺲!⩏ԡ䝹尰䷘籷㤗㾔ཱྀ燰⵮ဠȅ咁๜淫䀠ຽǪ峉柅⡏ᆁ㑱ːརテӵ寿棺厡灉ࡤ☣٬ʀᑩ䂅ᦜⰧ䇦嚣ࡔ⊐Ť㓁凬⠀ⲫ渼㧺ᴓ䃙推欱ኔ䵜畮ଉ烠ንࠧ夛̈溶Ƥᰨ㴹䊚禢穘᜔桙㦁匤细琝෣惖ᛡ∶℠橣ὢ䌿થѭ݃⠵⍏曶䲂懼恃᱉揦෥帢ΐ晔卉⼢㪌刏ඓ㝈֢㫤硺ਐ嬨ࣅ഑剩㆘ϡ䊫ᄲ㴲ᅉ㯤ㄶ〹坄㺩䑈Ҵ搯Ⱈ佹ඁ寵ڶग䉹㼲奡ሲ廕怤令榿ᮌ悊ᄨ淑Գ䋆彭漨牮㼡ⶭ嫤庴㭣ᑩឃ჉ᆅỳኝ囪牠㥙を⁬ռ垾秸਒吧犅䱸Űᙿ⡏ˮҥィ䲍ᬁ෇冻Ⰵ孿撖樒皰⬥ࡹ橰噓奲↋䩥⁜撵㮔眰栩喼ৣ橜漿㍻䀢▼Ὓ乽䉼楆⽵眐⤵庞䫵ℸ䈁អŠ榤㥄⋷䴴⁌䣨䖝堵ⴸ༡䉑䣢狷㔝睉⺹⥝ኸ絀㏏䧇٫│祄癰࿥㏏汐䝈䌤ŦἋ䜥ᕀ畈ͺ⩼干㡬嶢èయᶶ佇ᙾཏႧ暈҂③團⋞䋥⛧ᡮ᫊䪋᭤渳嘸婑忬孂⛑䑯፿᪐䂊⫮㞱彻♢ᚺ㟌⌏㶚㞺䵐䇈樉ᾁ声ᛆ嬁儸䀧Ԣ〮Ƅ⢀≵㄄ņ祄ҙ效п䒫牬䞪撉竓ẵ䜼爒弡燁熣㿦ɺ暤揤ર͝⬯仱ᎺἮ洓⃫᷒✶禰第仒沷眖〆ذ匰Ꭲ坋疤㰉灯漝⨫縑ရаڐЭམྥ⒥嘚岋ጼ氊櫶〠۾㏏㶸౵㋀䳷սค溼᛽扩爔 恟䇠ख㺃淤暯⸰က伲竊坬ი䗜⒬ⷧ槾䯬纫扚὜㮨᠇纔眢侏京䀽౜㫸なၖ暐Ⴏजլ᤾㴹數⩞䄬囘塔砸涶䆫ಠㄪ䌻挅䎣岴ᘲ䦖䐘悪Ԟ噪劻Ĺ⼫眶ɑ㨻熑᫃㲾⧼坳櫿ⶻ怩༾ጢ另ἢ䤮礏≠⴩䦺卭ᣓ⣒Üଖ૪¨᳇剭佫Ţ畢Ҩ䱦㤄Ɗ氳橒睨ᶮ⸶幻ᦗ㝩⭍癖⎳绡搪㛖ါͲጬ堵兩˖㝾斳㻮攒㏣畟䅡焋㳱榍澺簍奠ᾛ嬇⿔ត氼ဠ "
   },
   "outputs": [],
   "source": [
    "PR.PersistTable(df)"
   ]
  },
  {
   "cell_type": "markdown",
   "id": "94a72763-7cba-4fec-91f8-8f673585a7e2",
   "metadata": {},
   "source": [
    "#### Using output dataframes"
   ]
  },
  {
   "cell_type": "code",
   "execution_count": null,
   "id": "97add61b-8b77-40e1-8a99-80da51e1ca12",
   "metadata": {
    "__GENERATED_DATAFRAMES__": "ᯡࠣ䅬Ԁ朤壠ᜣ琢〹夤〡䈡㥠怼䁣Ö࠯൜⓴殨⁀Ѡ➠㬪瀬え䔠ᗢO嗂фɥ棪⭶䶺攠ỽ┼⪊LČⴝ⠡ᥲ倥吐Ā΀Ԅ寺㺯㋠ᇉޯ䬡ⱘࠠ㌿䇨᪣䕧犰塡籂⡈їԻ今䂦ℋ⢌缈Ⱗƭ䜹溮䋓榙ᱜ㛾欯⨡勈愣㝢ۥ恳僄繤ᱚ宦`۵·灠܆繟⤽䬲悄৕᭚䲣梶ݾ必唫ބ๾䒘ˈ劼䢊㼲㒺∩᜽橯ౖ୸᭫᷉凹掏愥ᙲܣ䈌穲េȘ縻ତર塸儥㥱ጸᵥɀṮ᤯揈;ࢼ䜂戸噀ٴ∎ᅐ澣೸ឨ%䧠ҹᤩš䠠ᱴ䁄ণⱣᆢԘガ✰Ú榋ǡ焘㆚࿩䁄焰  ",
    "__has_persist_output": true,
    "trrack_graph": "ᯡ࠽䈌ʀ匦㢠⹰ˠ㬡దᥠ♉‶䖠ภ氢㤩⮠㌵Ф〰椃䈥〠憠㌧૜僙ↆ㉪2攩њ㙜˥擈毲㖎淯䁰䣑ဠ㑀Ⲁ仨ɰ䂠̄㈦;䘸Ϥၗ眽〠婨䳀n㝄V䐤䇫⃠净䣙哔婂ਫ઱䉪晄ㅡ凳ᡐቺ⼨7Ⲃ㆐奁㦬壁晛ఴ>☤䃣↑㦐⣜⸬ᤰ抸怫ㆣ宫ၡ䲀䢉巄䈳墮೉ɒ氡圃暀令㳀ఌぞ⻳ᣐ瘨痭尲昢∧〤砠ᶿ἞ᡌ໧愤䧼䝓䳤妆楌䚧惐๓٠愨㑏ɥ懈屏୤၈殧ࡢ䆦帪ᙄ㇔䝛昕䤺ᡓⴑ᰹捔⬷䔲擊ⵠ撸泛֣搪䘱≳ᕁ᥇䳫䐲⒪ʳⓙⲮ⟯攪౑⩴㣬䙍⨀ƴႀ仠04堼֣㣀恠຀ɲඬᯰ栣䠠奠帠Љ㻡⟀ܷɬ嗓夁呡似࿋夽佶ġᠠ垑叀栤䅰䶁嬸ἣ䷡燩ᠼἤ⊱ᐬ㵢懑᰾ᾨጩ⊑Ǆ棕浕寋欁屒ԡ䌀䌩䪃᪡獥姂媇ᮍ䈧堼䞛䴇ᠻቋ䜇㦆⁘ᩣ!≉ῶ熙‰ㇸ恭䁧燡㲙楏╛焠玖㾴༤⋀У疲䈿ᦢ沒ᾞᙠĔ㯥穆篲ᠺᣮᩆ擤Ƽ石窘濷筜泹刡伨բ挬஡夻ʂ䑣°䈬䌀㋥°ⰷ䈰昷吂ᐹ䍼ᠣ䂐ሣ̐昣ϡ䌱ۨ映䐞ౘ١㬧⥌ӡ́灡ᮜ炪↪ွ歴㠻棠彠ᢸ⃥ᢠ㍫ŀ㬸ᇩᎴ犌徿爢恮慸ᠶ䋨礨奈勵⇰ز妈᫷⏶̡㭴圢ࢀ䙤̤嬿ᩙ䔤壈狽暈櫧⇶紱墠Ⱑᬤ೼ᘶ䣙≱㝃ⅶ洶娈۾Ԡ  "
   },
   "outputs": [],
   "source": [
    "PR.PersistTable(df)"
   ]
  },
  {
   "cell_type": "code",
   "execution_count": null,
   "id": "4f825155-3cdd-42c8-88c5-ef7891b64b37",
   "metadata": {},
   "outputs": [],
   "source": [
    "test.head() "
   ]
  },
  {
   "cell_type": "code",
   "execution_count": null,
   "id": "39263d07-8624-4b3f-9e59-5533a1e98e02",
   "metadata": {},
   "outputs": [],
   "source": [
    "persist_df_10.head()"
   ]
  },
  {
   "cell_type": "code",
   "execution_count": null,
   "id": "eff58716-b18f-4c00-9a93-3ed2443344dc",
   "metadata": {},
   "outputs": [],
   "source": []
  }
 ],
 "metadata": {
  "NB_UUID": "9b2f5bec-a755-4a5b-a877-fe1a880b9f38",
  "__persist_keys_record": [
   "__GENERATED_DATAFRAMES__",
   "__persist_nb_uuid__",
   "trrack_graph"
  ],
  "__persist_nb_uuid__": "be067817-dfa3-42d6-948a-39c4b95d3382",
  "kernelspec": {
   "display_name": "Python 3 (ipykernel)",
   "language": "python",
   "name": "python3"
  },
  "language_info": {
   "codemirror_mode": {
    "name": "ipython",
    "version": 3
   },
   "file_extension": ".py",
   "mimetype": "text/x-python",
   "name": "python",
   "nbconvert_exporter": "python",
   "pygments_lexer": "ipython3",
   "version": "3.8.16"
  }
 },
 "nbformat": 4,
 "nbformat_minor": 5
}
