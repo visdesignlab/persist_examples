{
 "cells": [
  {
   "cell_type": "markdown",
   "id": "721323cd-bb01-435f-a189-52f86ac438be",
   "metadata": {
    "trrack_graph": {
     "current": "5a5a00cc-06cd-4338-a90a-1365ce04ac27",
     "nodes": {
      "5a5a00cc-06cd-4338-a90a-1365ce04ac27": {
       "artifacts": [],
       "children": [],
       "createdOn": 1699995232057,
       "event": "Root",
       "id": "5a5a00cc-06cd-4338-a90a-1365ce04ac27",
       "label": "Root",
       "level": 0,
       "meta": {
        "annotation": [],
        "bookmark": []
       },
       "state": {
        "type": "checkpoint",
        "val": {
         "id": "0ed02552-2223-4b2b-8843-223fb8396132",
         "type": "create"
        }
       }
      }
     },
     "root": "5a5a00cc-06cd-4338-a90a-1365ce04ac27"
    }
   },
   "source": [
    "# PersIst Extension Tutorial"
   ]
  },
  {
   "cell_type": "markdown",
   "id": "0892e834-de92-4f36-85d7-deee12490be5",
   "metadata": {
    "trrack_graph": {
     "current": "5719397c-958a-4994-91f0-d7a66aa497ed",
     "nodes": {
      "5719397c-958a-4994-91f0-d7a66aa497ed": {
       "artifacts": [],
       "children": [],
       "createdOn": 1699995265084,
       "event": "Root",
       "id": "5719397c-958a-4994-91f0-d7a66aa497ed",
       "label": "Root",
       "level": 0,
       "meta": {
        "annotation": [],
        "bookmark": []
       },
       "state": {
        "type": "checkpoint",
        "val": {
         "id": "52dfacb4-8b03-4e0d-a810-0a3f919ebb61",
         "type": "create"
        }
       }
      }
     },
     "root": "5719397c-958a-4994-91f0-d7a66aa497ed"
    }
   },
   "source": [
    "PersIst is a JupyterLab extension to make interactions in cell output persistent. Persist tracks interactions for compatible outputs in a provenance graph.\n",
    "\n",
    "Capturing the interaction provenance allows us to save our interactions with the notebook, and replay them at point later. You can even rerun the interactions if the value of the variable in the persisted cell has changed. Persist will try it's best to apply the interactions to the new variable value.\n",
    "\n",
    "You can import and enable the PersIst extension as follows:\n",
    "\n",
    "```python\n",
    "import persist_ext as PR\n",
    "```"
   ]
  },
  {
   "cell_type": "code",
   "execution_count": 1,
   "id": "dbc49dae-f456-4ebd-9146-4ae6ba83838c",
   "metadata": {},
   "outputs": [],
   "source": [
    "import persist_ext as PR\n",
    "\n",
    "from vega_datasets import data\n",
    "import altair as alt\n",
    "import pandas as pd"
   ]
  },
  {
   "cell_type": "markdown",
   "id": "2dc9acb1-d4fd-4949-843b-fa0afa32387d",
   "metadata": {
    "trrack_graph": {
     "current": "5719397c-958a-4994-91f0-d7a66aa497ed",
     "nodes": {
      "5719397c-958a-4994-91f0-d7a66aa497ed": {
       "artifacts": [],
       "children": [],
       "createdOn": 1699995265084,
       "event": "Root",
       "id": "5719397c-958a-4994-91f0-d7a66aa497ed",
       "label": "Root",
       "level": 0,
       "meta": {
        "annotation": [],
        "bookmark": []
       },
       "state": {
        "type": "checkpoint",
        "val": {
         "id": "52dfacb4-8b03-4e0d-a810-0a3f919ebb61",
         "type": "create"
        }
       }
      }
     },
     "root": "5719397c-958a-4994-91f0-d7a66aa497ed"
    }
   },
   "source": [
    "## Supported Outputs\n",
    "\n",
    "Currently, persist supports two major output types: Vega-Altair plots and interactive datatables."
   ]
  },
  {
   "cell_type": "markdown",
   "id": "0dd3f9db-f762-4cb9-ae32-e66f177df309",
   "metadata": {
    "trrack_graph": {
     "current": "532e7b35-40eb-49bc-bcf5-4ac20f338809",
     "nodes": {
      "532e7b35-40eb-49bc-bcf5-4ac20f338809": {
       "artifacts": [],
       "children": [],
       "createdOn": 1699995589077,
       "event": "Root",
       "id": "532e7b35-40eb-49bc-bcf5-4ac20f338809",
       "label": "Root",
       "level": 0,
       "meta": {
        "annotation": [],
        "bookmark": []
       },
       "state": {
        "type": "checkpoint",
        "val": {
         "id": "6680bfac-15fc-4ff4-b8c1-1921d906a0ec",
         "type": "create"
        }
       }
      }
     },
     "root": "532e7b35-40eb-49bc-bcf5-4ac20f338809"
    }
   },
   "source": [
    "### **Vega-Altair**\n",
    "\n",
    "You can create any interactive Vega-Altair plot and pass it to create `PR.PersistChart` to create a persistent chart.\n",
    "\n",
    "E.g.\n",
    "```python\n",
    "\n",
    "selector = alt.selection_interval(name=\"selector\")\n",
    "\n",
    "chart = alt.Chart(df).mark_point().encode(\n",
    "    x=\"X:Q\",\n",
    "    y=\"Y:Q\",\n",
    "    color=alt.condition(selector, alt.value(\"steelblue\"), alt.value(\"gray\"))\n",
    ").add_params(selector)\n",
    "\n",
    "PR.PersistChart(chart)\n",
    "\n",
    "```\n",
    "\n",
    "The above snippet of code will create an interactive persist scatterplot with brush interactions.\n",
    "\n",
    "Alternatively, persist comes with `plot` module which provides helper functions to create simple plots like scatterplot and barchart."
   ]
  },
  {
   "cell_type": "code",
   "execution_count": 10,
   "id": "b58f8f0f-8f4b-4346-8c48-3b0b22d758af",
   "metadata": {
    "__GENERATED_DATAFRAMES__": "ᯢ粠 ",
    "__has_persist_output": true,
    "trrack_graph": "ᯡ࠽䈌ʀ匦㢠⹰໣ીᭆրೠⴾ䳀Ҁ‶ḣᠤ〺✴㡛㓌Pِӥ獔ⓀŌ傰䇀曯䑤岵ᴦ♍⓺㬗琰͢&怰橦ម䁅ШNၚ〡岁䍼℮㖆搷+ヽ⠠亮␠㚤䜢䕏倠瀲じ硼䩜๕ªᔠԁ䝱焘㳔㰴ⵕأሠױ欋涬䠼ᵎ₞勦Ԡ޳ł桰᰼娡ઞ⍞删ב䉻璤ℚと┅塢৸䘬咢䡌ö初㾶摜倫燳湍爔岶ѵ竼Ɔ൙〤砠ᴾ⻾ᡎᜋ戸─礌紩䲡Ť焦⌤ᑈ⣆࿀ሔᑌᥥၒ䉉סₘȺ١䇚⹍ץ㑜៛湄㒀曃撓劔昤▦䖂磂╡⓲䳖⮵瀪⊩♳Ɂᝃᤱ䔂Ҳ⧯ⓒȮ➷玪劧䂂ᥡဠࡅŠ\"ᠦ#嶕⸭ဧᡡ纇坰β丞⻎ذ~ᠭ刁唡俙妎㱜潏䀲ն၆౥䐔ยᅢ灘ᘥΡ愲刾໢⒀࣮妯⁊ᵋ柔㦼ग़֥愨戹Ҵ⤸晋໣䑔Ń惲㑺皪淵瘚䚍Ǥ惂ᵘ楖䶆秓ⓑ⳶ᵆ愡洖ύ抑东珅涔Ე➌%਀碏嶖ՠိ搠˙䃧懩㿘楯ᯣ焣玶㞨त䋀е眲ˏƤ䤑侷䜰]Ჶ㙀ᠵ梇刕ᩍ˲婀Ԅ绿䗥缟䈪ǀ∱桰☯ࡐΦ粸தᐤ͆偼ʤ偰ហぴ⍀ეᩃ⁼஥⣔ὂⅺԯचݴǭᠩ㡀ⶐ亏娨糜◧熂᎒灿嘩窨⇆⦞寰㩮嗲Ⅷᶂ籟ကʶᓦ䌂ብᙒ˗䡔ạ噊ൠ㚜৖熚ۅ˔ওڸɒ䚴ᙗ䚩奕♰ᵔ暄ұ⃳ѵ܁䩄䛱忬傡↦ׁ⹊昱㕴ᣕצ檚䃶᩿円Ⳗ䀢ࠠ䤠ใ㖕□m᪻㘍⏂瓽߀烝➦吝ྦྷ焢│Âᑭ䱪ఫ䔐⴯⁈ᆦ᯲ᴿ偪ɩ䅨ᢁ䢘⑾娓㽴⳥㍁ᓹ㓊䦅཈唪㋆⡻㕆汚ᝣ椚à䷜䔨᱆ᓦէᖮᶶ⨃ᴇ㻭㵮ଌ၎ᗣ㣇ࠥ岀⼏嵡瓥㶎ມ㸁嫣㰾㸁⑼㐊綐簊姄䠮䍎☴፠墼塠尠剉๙ᏤᅾᎰ䠥紘䂷䱩䢶⛠࠿⟞䵟䉼չ⯘繘☠孙ㆤ䠢ʐ搲ؙ䒣悱㡣愨ᐫ⁂┭⁹⌥䀨Ⱞ捭⸡䢆刷勜㟫稞Ꭲ㌐ᦲⷄ㦇჋ⶼ儋㪤猤ግ⠼⡃悷ჲ᪀ᣲ䁆哳᫙㳸尘૷䃶摼ᓤ஠๩⣾ᭆ橄ใ乀寁㒚寶噾嗤ṿ咭⻃曠ⷋ冤▩㇊൷⨺簻璺廢歽㯋ず冇ʀȷ琺⽴ద周嚱Ⱑ怨༠╲ಀ䷨伧঑㺬⒐㫷ळⷙ娫❵犜䉷ಲ劂䫳ᔡ䷲硳䵎䵎涎垀ᢐܭ⁈☢箧㯷ᥞ煹᷶⿻娞挄͵斦ҁۂԬ箠碎ᐣᇚ慃਄¨㍦の֭̂䁦䱟঺傡ᣠ ፡Ⴖ劅㠳䷭⼻籄幻⯍㭴ブ悿握ై↲浌牶ⶉ呰嚯ŠḤ嘵兀䶃恘䆰ᤳ䒨ᶊ栮ʯ♃䑑ײ䈁㚦ⶍ♴⨍䳒摅え௕噵ߌ渡盔䕰湩ǈΌ䞦ȱᔑ佟ើ㗄幈˜尭㱰Λ瀴⩇⃷ᢩ狑抣ㅌރᏡ捷嶙挻䕴㙰樠ٶᠣ斈嵠Ò弯 ࿎礞ಳᕤঔӈ%ጢ櫝⡰༠jᚥ樠ݱ䂁͔⼩ラဩ䥗Ⅸย甮❰༢䐬䁉嵢䢸ୡ䕝唫ᱡ怬╼ུڞ儨ါ棄ʡᑦᦑᨰ焱╤┒䑜ʞ䑨维ƴ䘳䖓ਐ瞱㍇థ✰睮槉亓ⶼ凹㘓剋⿕梖᷶癤撞尦纏⨠ὡ㇤吥翜瀣㌆ã朦䢍ٰᜬ࡜฀⠶漫⏃␇₩ዡ暆䉐੐အ憸㢤⢃ᧂ港惑㑙∲ወ៭ྤ㏊ಇ煮ګㅕዉㆶ㱈糤䋍䭢䅇垥∴楠⌗兲Ҿ尭ᬚ࿀砡ᣑ᪡桡ᛩ้शⳁ⥂©ᵰ瀵ኀᵆ㊎䎄攁怠ρ悞䛀樥ᆑ䏠䰿傘ୡ੾埽㇍᫕烕䰮墵ᵳ㕞勠ᇇᩨ⏔杫欖䢱皿椊欝㵃䄕⭀⢪Ƅ⤑猓⹘婲暌ᖤ≬Ȕᲂᖐ暬嵷碉⧡奾ᙌᾑᚢе⼻伸÷㢠硜ذ挥模㗞寤մ剺⒄噭獯̐凣䩀 Ẅ䄘昮䎻⿣䑋哴嵨㓆䡠䈇洺䁜‵ɼᓢ䶥ᖣで櫣Ⳡ筺妮呱ᠪ檍⻴䵡瞺刌咍滀㢡ලᵡ凈㑚㎨瀶䌚䙧竁࠴粧楏湱䜸炘庤擋ᢲ䬭႟͜㠥烩ṫ汞Ⲭ䍵₦甖抪它ᅱ拥ᄊᖅ仩ₔ⇫璆䈸殱筄À◣ᦓᕥभƒአ㩺撌橧梍䷹ɣ愎ṁ咞㌈榆ᤊ旄଺泇焃綾॥持党䫻Ņቺ咖囉櫶俩䜄⧅ᅲ啚㩝⯴婻❰ܢ䒎三纸ᦽ╪޼㌚塒䉉垀ㄡん⣀棭怨䩊ᤡँᾩ塃簀♀᳍刹┅熶ᵝ㹎㸜㆚ʃ䝘殭孧䶈ᯈ䂽侕䰭犪㐄䝇笜矷納䠞ע䙠ᰬ殬എᰤⅨӠ瑋䃫旋咇㱈ቛ᣹凑嶦兽ᙐ䄬ᛰᙍ䂢ȼȤⳎ`嚡䜆㙀㇈瀴ϵ尧ࡏ渰ᤢၒܢ᎚ᔲ䍊ᚼ榠䇜ᮒ漠箖䅆曶栴∹䜡瀨䗀㗍ℇ㻗Ӊ䎚繴໨८篍伆䰻䧝ᯓ㽖ᰱ㙈ᦏ⍺漡䅏務⪶ᙲʍ壆᫓寕㲻໥ᑱ伣櫓壛⯔⣗㾖愋坖爾墄沠␏焏᭨਩ㅥᛜ椮ᤲՂయӠኆ⑲գ絉㙦⎌盧݌䧹㑡࿹Ậ㙯㉑牘䃀爡皋撼籂崉剂㺤秔䞤㖈悑䪸尻䙼᩾᳴秫攣㧥㹷潖垞㧏׿孕มᴹ剷㍲椸։䆌⧽ᦆ圮ኋ䌷杨ʚྖ畡点孑塰䔠䔥p¢婗ɰㅁ䒅帺㶃þ⦐枋䅤⎢˱攑䜥䳞ᱹْ姬㧒沌⟢侅㤂⻿੹㲧犨瞵䬿晘ᑟជჍŹ抵䠫˪岡櫒Ð᢭疎ர㐢坩៕䨿ᜐ㣥Ⱶ寀⤧傖ݰ∎Ɇគ珺䮞屑ᆋἻ縧⁭ᩓ㖝砜糝浑ᾢ㳿あᵈ縉䷱Տ樌࿨䭒䇼䉢Ꮫ琢愝䙊繨惲੤Ѡ䟔ႳϠᄶ్堾恺᠒䭇᥆澬紡寕╚ང䕃卙פ䫄ࠗ⤷⥔䫴༠坘䄥䏄㎇↷᳐溄ހ棕䧋ଌ崷㬩౼丌᳄怲烱૰焔䟔㷹ܾ牅䉙ƀʾ≢䑚㶛෎ᄔ炗⇘ᔠᤐ倿ȳ桁攑㦨䋤ᦾ䥗皬䶂⟈増⫆哛⥼㚶璤⅔漖᧴窼畺⥔Ṷ瓛▿䁒⼆֤᧓ⶆ戂䲴⁓ψ≦儩咘ཀ⸣䕂ၒഺȡ怸㱈Šⶇぉ6䖾淇ࡎ嶐࿎᝔ᮢ屜昆喕禦尢敾擕○斯⎠潄㟗撒昔 両ⴡ⢢休͈ᑊ揘㼔ḭⵯପ䐷䊲嗧沪䰶侷ⷷ暞㠩თ梿揶堩忕ᠰ楪ᜩ಑ᑳ⓪㘳ᚠ絤ᦠ旑ᄱÁ༸樇ၛƛ཈援ᄴ䔨估ᰣ暲㔩惊㰕N䊴悁ί窰᷐ੂ㯑恐悡朚᠃䷙涚֮ᯑ瀽淈̊浐綥䏝⫐欯ۄ㔿⌺៳粛甞ᅠ⿴ۏ瑣₺㲓Ვ粯橺砑㡛岓⪑偖⛛ᣗ揖䧖шOպᜡ嚽㔜ࣺဧວ䗎Ἦ敖盗䄷⹀⇱桘緷⣬٬亰Ꮼំệ㉫䆷ⷩ呑ඨ↢ൠ箨摃措ཾ垭ⷕ啐਑䲖嶮ᰡᗀ楯䊂ኟⰺ᠂桘ᐏ┺桫䚠ጠ洡こ䱨ष挦㡕忄揤Ҧ缡⇜䓰悄ౖ珊䖙椌䴱奀峽䤄☪筑䔰ʠ羄碍৵佈㘇碀⊵戱ギ≄⌹挱⥰❘䁜ᅠ⼩䚏䐃ἆ悬ㅒ㉂ᔱ㈥䑦䋂ⶺ㢲㊞䌱梁樦ᡪŬ၉嵔塮◌᭠嬯䉣䎝淼⳵䧋䍆∸瀨♇२Ψ溣ѿ䨗ڰ琡䑞䁿䜰᢫䑇䵐ܱ✨灸㷄ᔾ夭灠␘ᢾ℩⡺㱓瀈团◓昏䳠㷶瘩⊆ٱ᜗̠ᐠⱶ恲矝⍗௾ᢆ㑠綊摞場㖢ᖺ憬ਐ悧⶚ტⰓಖ紖扖㷗⡳匰ڮ⢠㱪戵጑ⱬ戦ῖ䥁䎢䴔Ⴎᵶ綽籰嚥➬⩶੿䎥䊓㾧іϒ㙅મၵ䩤䨡䀧◨䶮Ȣ瀹Z⭤哠儥ǹ溌佨傍墝ᆄ㽭傖䒥棡杅ژ峂Ә凬ᪿ䍇᳠Ⴡ䙌牜አת⺎㸔૙捈䡺䯧ᧅ槩榌樇ᢨ䍉⹧÷ᦎൠP嫀淫䒩愛俼ε㍠磹䂈砮㮃⡘䜱愣呪ͨ儱ᠠ⑰䚨寁⋌佈Ũ䎓ᵭ䳼攘⹒繠䳂暤㱃⦽ࢪ暘̓嘏䢡䀨៑⿦ᡷ厅姜罌糊䛞⠭澷⤒妞㇂㾽ş曔㢝洺ἵ棕䰪⣉̔Ⱄソべ伳禭㬝儆ブ枚䪊琎㣷嫶㢫䌶䒭孟䛳瑿ᙂრᏄ䑢ਫ䌙ኼ⼶䡀楧䒱᳀ङ䯂ᑫ搼兩ខ婪㐿䍛ᄦ㢭੶᜼傄ঐ䅼㕧氈ొ㦽勈圹㙊⼹ᨧఈॊ⥹䲷Н⑊䃺ࢰ㙥⿣共ܘ坣㘺儬猑ƈ⏼㨸⊻䟶㗅඾历斴事ᾏ厂䉙㛣浉䁾攙✲⸿狗Ү⬌⑮㭑冦ኼ᱾ᕤ∑㪨煣इ樑⸰≽庘䓘ᳪᩴ才ᓮ⛫穷㌌Ĺ⓫殻䣋旅䦡㴬纛攜峂㽨櫂孕㛂斊㲐⥔⯋ЁⵠᚎῊ崶殐ᕯ䲲₃ᢋ┲⊸㮊⋄ឲ㋔䖭┚槲⾲⸪媶⛀⟔⊸ᶁ檡➳䂊ະͳ␲㼆擙䐖䱳ͳ攕䉪㖁劻ᔙ❜⥳漺哴ᗪ㴪䗵䌋欺峴⚵ԇ槦且瓹素氊〕ঠΚ≀㏻ೇ䊸ေ㕴䑱໲⓪㨙旹⋬ᗜ╲竆⻢畱⠼䂍滢✗㚋ⶳ⛲❗⽳䔬䒤懞䛛竉Ӈ櫦嘕௾皨㭿䞋ྦྷҌ˦Ƀࢪ⡹煨媩䙼扰䓜⿅管坸揽㱫ཱི朷嘁䁽潰愀斝Ⲭ㥫汵ᖓ✋㳾ᕑ剳偻ᜥ1㘸ᩁ⏡ᜏᆹ㨦㳻ࡘఫ㨛䋶䡴ྫ⨡ዷ䜉᭶⢻ϲ⚵ᤄ䊡䘵࠶旚偳涹扻殖╁䳿泶㘮㶻䎺ࡀ啠रᄸ䠤䂄᭪䱾㫂䅯ᙘ獀娾ऐេ⥴Ɽ㘣㠺ᅻҔ㞣㺡ჰ䪸㒰Պ嫷㸽㗬丰⠠㛧柵㠘⛱潀㋕㋻徹Ճ搞⻺඀盆妯傋崱˗㓯娪㚱᫞瘽岍䤄䋖ి∔䟳ӳࢍ㈍⌰ি㔭師授䋒比䶘玄⢠㬪堽㽻ਓ瓡ㅆ䅚ᭁ媤泔ᄠ㕃⮾䳴介⌋稤縪䎊䨌⑂ⴔ້㵫⧴沃⯼戙嚭䳇墾䧔㰝倽㥕榻└杬㓻盒殤滚兞㔑䶛㨽懰ォ姿䋇㯏崺䴾䦆⯲嬂㝒ⶇ䵑慶䵴緆仇皜侕嚂廹㺾ᦐ༌ĺ栦̺幠櫬䱙䩧䜡␧㭾୦圡ᵃ绮㨟⩫吸Ơ朠梬⌊⌶ߙϨ㨨ሁౌ䱦ቛ≉࿰չ䄵嘽䬄१烿└䍂瑧樆䗤䎽婦壗ᇼ⹈焪檯浗ᝲ፩姅猓ᤶᜲ䎼༲䉞䭹࿥ཉ昨䲈ᤤ熊Ꮴࢀ⺄∷ᥪ婺临ᄷ烠眧糰䆢ཀ梦拾䇲຀棦㘍㴅ʯҀ䎥礧旵⽌൶澊䗞㳻帀梨ક⨴㵿㛄࢘悋⁽燷㜏媋Ւⶏ婍㾜ፚ箄甪㟷㡲姣䷶❵碷৻众㼇ἥ嚝圀ᕁ①ܺნ癍ࢧ敤堎Ǭ岎璮㥈匬併⃼ᰓ刷琽֣୐ⱓᱤ岎ⷨ澶ҫⱨ䝯Შ⋐⁑⳽䉶ᦫࢢⷶ瞷Ꮸ渘揔䡶淑清婦ᯖ勉ⴜ㙰繭呔㧲㔄䜡䘱䡆൬敚嘾媒㟵ᨙ㟅懇Ғ澧䈊⁵Ĕ࣡౪䋕䓙媓椣梖潲጗爺㥘捈籠䣒䲲⾨獹棑◬⻨朶੔刍ⶵ㦡⭋㴬䁸擶ᔱ堻೴⻦᛺ŋ㗺秦໖燇⼡㏧⻜省團罔㷽宏Ⲽ羹绹⒰ħ㚲塈仵俶㡳槱呮ⓚ爑燴洺⒘偖珋⎣ⅎ噚䲑ᒣ妎䄳綮唌㨜㙕囅ࡕ➜⍳⊕唉♤≇⚰滷椺㶉䍕䧱䳍䞡᷵㔅瓐呗珞ฎ榶塁ʕ磫孩漌ᵎᏩᾹ摯缺㺹Ⰱ琩፜Ӂ◿塁ᱭ䑬䱍䝇᪞継Ῥ泲⟷妶૦搡层䁵Ο䢠㒉ₑ๑֘⿮∢⊰Ϣ冩≧伢惗庼笐⺶溣Ҍᝪ浉∦ㅑ塳漇哀ᔅ㷖ᢥ᜗Ꮴ⊈䃟ਗڂ㢢Ⲿ珑柝Ⱆ⋵殰矘毧滰ᨖ✽᷼區⻼൯䃷⋔媤痣w㩗ᜳἂ桱䎙㮦嵣䃮⽡桍ᵧ淲簒槗䏚渐䏖睁᷑᷉⾾⬉ូㇷ䫁㏗႕繋๴㳶䵴屋⺞Ⱔᵴ熶䚠䷂澱棤⧀嬮㴻䎦ચ曲皼弱欦粊Ⓕެ⟆䞜柺㾅呿嬇繕眘ᩌ㟙緩ජ侍Ↄ墾ఎ⌐ᴱ兽⁦ღ޴椤ᅩ琙ӵ䛂掞䉦昢㚿ë䟛⤣㜉໪㏀◠䐽䃞猚ኰṰ₽İ◡㎛⅚↰㠛ן络怚⃏牺Ǳ㮠緩ᒄ岟xވ橇枅㷩␊ミ瑓搘ٻ料毊幾柎㟖༦属秎䎚毄ᄠ  "
   },
   "outputs": [
    {
     "data": {
      "application/vnd.jupyter.widget-view+json": {
       "model_id": "d15ca1220be548a3b0c9a2c5fd00dac4",
       "version_major": 2,
       "version_minor": 0
      },
      "text/plain": [
       "PersistWidget(data_values=[{'__id_column': '1', 'Name': 'chevrolet chevelle malibu', 'Miles_per_Gallon': 18.0,…"
      ]
     },
     "execution_count": 10,
     "metadata": {},
     "output_type": "execute_result"
    }
   ],
   "source": [
    "df = data.cars()\n",
    "\n",
    "selector = alt.selection_interval(name=\"selector\")\n",
    "\n",
    "chart = alt.Chart(df).mark_point().encode(\n",
    "    x=\"Miles_per_Gallon:Q\",\n",
    "    y=\"Weight_in_lbs:Q\",\n",
    "    color=alt.condition(selector, \"Origin:N\", alt.value(\"gray\"))\n",
    ").add_params(selector)\n",
    "\n",
    "PR.PersistChart(chart, data=df)"
   ]
  },
  {
   "cell_type": "markdown",
   "id": "33d88224-c199-41e3-9c83-05f75d9a013a",
   "metadata": {},
   "source": [
    "\n",
    "You can see that the output area looks different from the usual output for Vega-Altair. We have a toolbar on the top and a sidebar on the right. The toolbar gives us host of interactions we can perform to manipulate our plots.\n",
    "\n",
    "Persist keeps a track of your interactions and stores them in graph called provenance graph. The first tab in the sidebar titled `Trrack` visualizes the provenance for all your interactions in the cell output.\n",
    "\n",
    "In the second tab you can see the text summary of everything you have done to reach the current output state.\n"
   ]
  },
  {
   "cell_type": "code",
   "execution_count": 4,
   "id": "a7130108-6834-4ec0-9d1c-69afb281a5c6",
   "metadata": {
    "__GENERATED_DATAFRAMES__": "ᯡࠣ䅬Ԁ朤壠ᜣ琢〹夢゠⹰〮⁁䁻қ䚾ኊ㇠നСࠩ瀮晼Ƭ穅5愠៤⠠ ",
    "__has_persist_output": true,
    "trrack_graph": "ᯡ࠽䈌ʀ匦㢠⹱⁃⨡恋lϑ‶䞶ƬȺࠥ䆾í޳&⪤҅ᔾ刣㍐ೠᕴ䌲⠠䭈⑀楒瀶ፉ⍾冫᭮溝Φ䒠ǁ#㝊䌸晠ኤРᝣၐüムṁǟ㤔䀥䉸攠ʓ㥀ǔ⁸昱Gᔹ䖨⠂䏓⢙ㆤబ㌦Ⴕݥ݃ጓ䢐呐㨰N䣸持㉦ㄺ䥣撖ᡈ\\䰩໧䚆㏒硩ㅸ慸冠ᛦގ✱α䅀玖न⾂᱖刪䗐͹⟩䈛ऊ䁏䣸盗❅ᇸზ㮐喸˽䀳怠玜簘慨綷愠䧼䝓乤妰ဴ䍅䕊㰭ੴㄱ㲵થ䐸呉ޡ憨仙俵ᅘ仃䨑粄嚬໳㷮㩱䴳䐲⒪⚲偒Ⲯ➰ᒪኹⅲ嗁墇䣭ሂ䓒⳥◲ㆇ᮷攪抿࿬唼卙䔩 攨ᡇ〠РՌܥჼ⡈ဧᠡᔚ樣矴Ą(䉧Ɲ♓⚎牛ฦ䰹燡㫛ỰЊ䠰ㆠ֒䶚ᚠ␵Ֆ䢵ຫਤ㯕દ燲㱗Ⴓ技簴੡悀ᠠ䁑悊⌷沓㡜奚ඦᚴ੕ୠジ嘧ס爘ℨ䙁㓺໗⧗甦懈憥炐暨͓䰶▪滷ⶳᶾ愤ᶮ厳榔ⴕ्澔㷖⌼Ձ䀠党ຠќୈȦ㤸凐ؖ㨾⼺㸍笜ီ姸缼੢ࢴ`⾦⊤཮燜嫽刘ᤠϳ䤤ሠↈ栥͝☸⎈欸䁫䤧⃯ଦ㴬ᰧჯʦ慃֥⍠᳡枘↠灜⬳䡚ೣ⢔⥣㍌â剸䯣塴C堼@灴౤౲ፃ䡈ൂმͤ䀴ᮥ汍⫑⌤æⅆᄤ憉ਂ嶗⥧㴧Ҁ䵲ҡ沀䓧丫䏓繠Ⱚ䅛ւ啯݀孥ɣ孵׸㑾淀ݝقྚ䬁↖࢚厌⬰㍲ָ玖➻爢桡ଢ੻䭪泣⭁⚄䁄庺㎔↵灌庣ૼ屸પ敹啓ࣲ㰽⟉ඒઋ䵋⮋浇ↅ惏⃺絃ညᮍᾦ⌸朸䂟࠰䉐䗑ᰬཷ灪௢灖↸Ѣ଱硾ౠ⠶唡䔒ơ⨽䝹፦橋䔶╉央ⶳ放Ⓤ䪒䫈䞊♘穞䁑ر俣ડ॒᝹体ⅵ澃圭䜚瘣䒐亏斓ཱི攙ṫ涙漧暛ί掬䀯昘ཫ欓缪⨃ðᢅ←䣇䢸੕⣄ᪧ㓽ỳ璴᳠僛ᘧツஓౘ̠䢰Ԥ惶㥦ᲊᪧ棬ᒆĖ༨Р⑺ࡌƢ䡔呙⡣媡嗼姠ь֠恜໣㊙䌇挠␨䆗ІՆ潂孀勂㮕Ϲ㒞毁ޙኀᩈ⎢༸ǔଡ଼ූ眊࿖༃媕ᡪ憗塋塊⑒夾㚸粱揊½໾ʔ破灢⼋围㔹\"摀⮥ȕĿᮦ密柌描哆Ι樕ᶡȕぅ㳶ۤ璐Ӵ煼Ţ⻋Ƣ㢇᪨粌媳Ѩ奍湧ℐৰ⢤㔥䅰³Q⇻慨ᴫ悒Ќ惘඄Ћ഑⩲啽䴐⺏䰺干Ⳬ୼⮜ᒒ㩀ᩀ━ͽ皀㳣䄌൑僥㦶Ḻ䟆焸㜅湔テ⏣㢗ඬឤÏᘣ燃牜ਦ፼୆刱㢴栙傽҄ົႣᢹ㓑㌾疐禁曔◬穡Ņ妦柌寡㬯⥴ᗁڌ㉌潜〱㱻䢪硹ఐ孒ࢭᏂ啌团樀埿冂Ϊ㈮ſበ呈Ϩ娬㻤ɡ氦▗岣ᒵ⇨励⥅ൢᤶ&⛃扒ᅣᑑ␲稱˰Y㤡䱧ĺ⭀沮୽ľţࠂហΪ⅑䉃ᆠߦᡰ⁾地2嵮ᛠ䀡湲ᤀ=⌠ሲ検໡㱸ʦㆥ⁷ࠠ䅝バ⤰䘫‡᫴䰱ห冢᳆䄭⏻⋳硧㔒ឋ猎怴䐫汛ൣ㭆䈖຤ຝƪ億䀢࢙䔥䇎垘ᔡ祰ሑὓ甲䰍㻬஝矴咴䮘百称㻬ᴜ䕞䲢㥷掜ⰾ紊᷊㔯䦠⁩䂆百〯呁ἥ噿崧吵䛛䇸ⱋ窉璌⓯神ὕ㸡ᡶ奐䀽ᥣ梲ߨ⨮‿慰Ȼ䣈ṁ㉉Ȭ⼑悍ন㥋㩯棸㧺ᶃ娧揙=㆕ᝓ啮䬅⢟⍩推ೇᐹ営ˤᔥ䄅斦к堻䒭⡕ทᮂ㚆ᮀ稆㱜㟜∴♨湣棯ˉ䚤½ߔ㵓⣆ྱ傪戌汃㑹折Ⅹ◕吨姄㣺ᔱ㜸ɨ卐⣖⎽⾤⣀䗉㊪⭦ᐢ㧪㼉滠〻⵰ຓ⠽Ωᙣ偃瑚瘥ቐƍᖧᇋ໦㱒䫈䋕兿⦠撴ו湡偬⎞ᐡⅬ͹ಠ㜋ᖥܧ⒎≒ṹ淜䊇粢䍬犥䳰吖䖹੡櫒煩Èᄓㆎᔏብ⁢⹅૦┴寍哕䘇ᴰᙐ冂么焥桅≽⃋偫毊䭀⮗榕㢕ࠠu២ᑑ搥弴瓝ῲ怱栬ά␠甴䦀ъ㨠ʶ囅䒾⧃Ⴝŀ啌榬ዢ埂㋍③ᶒİα纅䦌籤箂̣叁梋ᨢጒ֭㐠纗☳׆犗伄ẉ䞸㇨彗余ྺ兴䑊⁌χᖩ⡀捪䱕X㞵䒂♪埙ۚ灯͵ᇞ۾໌ᎈ❆㈹簴ᐙ䛔ƈ㚻䵣ٺ囦㎞෕ཹ劅养㹊寀䃔ᑼ媦䢭᫺榣୯̶ঀ㚘᯽㻮棘㓋᱀࡝㘀愤⁴໠堤᝚ፀ〱槐ఠ夋凨ౘ䤌ང䚈孬攫ᱠ┤厼砯泔Ƴ㐉㸇᩿窥層䀰໅䯏夂椁䵁ฅ㠥悎妚ࢇ岳妙⯑䢞洖⇲૞惒ᅰᱶ⻁嚂ƀ∇⇬᫠汝䶑媹碐䝈Ոह౱岲峯ڻ別䎤Φங㬮妏ࣺ泧۽廭₉ᕏ咀̡祙岉ዲ産剚Ԧҝ⋜%熠⡐䖴䔖⾍૷唬䀮ͽ㬦る஭⠮ᡁ㩅䙖䃱᭧࿆ʴⱤ処⿚ᤧᶧ循䯄穩ⶕ堦畾济滙ᐵ᳠柦ʇ㒀⨸敨䷪孬⪴㊳ళ፸構㣠䊴笸䢞埉懍縮䛆䁏Ⅲ斊㋤晪攪᫧乖澐旒婷㦘编姄妟珊桕嵽坈埌㗟䐧悡碚笋ਫ਼⾜給⫰䈨ࣤ傋ྂ礊₫坠ݐ䃏▫䭔↬Ჲᖧྷ氰嗙㚷䈏Ƀںᚹ屻䭣䞠㤛濛┍㗻ᶜ㋽城˟ⴛ㳯Ԡ癹棆᭳墡㰰秡祕⇳Ȱⱘ࢘㻞乥䬄孄昶㧨̾㛶㣨▜䐈㷏㢝 瓿䤕廱揞⣷擷❱㔛䐎తṝ嬃傐ᦇ曫٨Ẃ䔣抡ҡ䏄ቊࡰ䐠䙖䎡濍挂㊋᩾˃♷д͖玗ܶ搘ࣱໍ椿ᶢ␡翌Ŕ穋㯭㺖ˆ࡭灆屄௓䞑䫍᎕⭉圤ઈↅᤫ䒸ہ䅑㧶䐠㪉圫⦁ټⱂ地篼Ŵ䬍㝭㤻凭廃႑㏴ἁᜃᙲҶ响⩂㝈䌋ሽ䒨㘮窐୐Ȧ恓đ᭸簪⁴,᣸䖥䁚ض剝ర坟ᬅ剁簨灉፶࣠喊傫ㅈ⬠㠎僸䅈㙁䰨灩፶ኤሇ⭍㣁င㦉⃯ʘ寥义ქ䍨㻌婠Ṱ䅕崹☱䭴řภ縪ಃ㨙叡ဦb˘ደ盩浱䤖富繬氡槖᯸獆ટㅌ䩉䇫ਮ刀ᄑ尃幽竟䄜䧂劃媿嶢᠇儲⃿䮍㈃彝禬ᜁԼ㾌䊈ᴜ䓎⤋穽䙡垄湛塝䨨䡄瑚h᷀巠ṧ墔ᨍ朄璗媝䉠㾇笺᫧岂䄌䌬⢏᭔簥偾Ꮗ`థ⁈ʥ啔穈⁋灆䖨砢⌾ዿ嬽ḫ澊磣傝擈澌䍗䔼渎䝩積ࠥ䋊ź㪣ҡⱪù⮠ⅴኁ枔૊䌸塇ÍⰓ䂹̋ဪ௞Ѽ栵卬ں坬⁯卼ع䛍砶憙㮘㽨縻↕㠰ⲣᳪ烺∦嗴ᬃძղ⣬㛆Ⓓً媳琷㎒⚚䊢ⰱ⁅䞻䇣Ẉ㝥㍐ぃ㈠羒·൉㰽冊Šᚵ礣䁈ʄ૸䟨哋ㄲ崂฼⭮⚉ᑜ䥍ワپᩝg棐穌☠ጱ㝳㭇嚂ᡪ㔑ᦂ䢃淆佈䖕俔焷殀切奂揂ᮂ碧ᓜᠡา䊌⎡᳋夝䗄ᬈ䜲㤞¬̂ص⤕䖩஠嬾೹␼㩒ఫ೓䑆⏃Ḩ綇樗᧤匼㠹䗬⠕翈̡̼咃ຨᤁ䟢䆃り獤ᬣ䔭ᣍ୽碁創㥫恘寄ϝݮ㣔䉧ந㠡⁝ㅐᝢ夀墼䞼㛂Ե⁃笴㧃៪棋磠᭣Ἳ羏䜑倂⠅䁠ⓓ堳抋䅩ᮢ㊥ᡋᎈ☓公炼ℤ✫啬垾䂩㦺匳匃䔝㫲㧢窶歖ⓓƣ丰ࣛ㣖㱐満ᒣ㫋䑲眃ቌ榐ी攨偊·Й㎡ᴏ㯮ᶨ㉩๴恒㜳ึㄅऋ䫢㲶Ⲵ禊⧣昶⭼婵䛒呼⋴ቕ亪඾浨䞖䷲威璼禚⥃⏌ᭂ範㲍ㄨ㱎散岵ۥ岡柒࢓ㄢ᳼卥䳁Ꮆ㩽մ㱪㶵ጞ曝๪੶ᴅᗼᕫ禰絇椪嘕ⷦ笪᛺㰕㿅 ᦥ噀₏ⳇ⟬⚙恰䍄ᢏ䏒ᯪ䀺曭䓐డ䁔ʄl昨恔梽ᏽࢫ䒌歠䎈圼沰曆ⱒ㬱䳈旰ٓ㰪㤘暔ጂ唇缱⮠嬘◤ႃ晌ᖼ်ӈړ䈳垳枙ᮊ䈒竂䄄⛵⸒⛃ཉ㩐尒圁撹۱㫣ᖁᕈᜡ⚫ぱ⬣䡻ʠ㶨၃ॆ伡᤭汔冺ẑ尡ᕌ噶ᢨᱱ佾殑⏹㱸䢱椭僜椹ᴮ剣儑㹱㚜別㡋吥ݞѥ㤃沮搼᧥⯝♣။堙㌘大㫰噝⭣佽૗哻ኼ☭祮䗠଑ᚬ։䓇䣰汻㑱䝰㈐緧ͦ歏怍✇攘禙㖂⓭⌹炉㉪綳ኸ烜佪䩱᳣ᝮ⠝岏罂垄ࡠ䞴极᮵㔓䡌䚊噾⵴傳䄸⟾㝴⪈䓲㋕㘓⢵䃎吹䦹Ѵ攜┊㙣䋪⒥㠕⻪偻紓ڱ₫笊ᬒѲຫ㲱㓀㢰⿋主㜪寑ᅀ֦恬↑᪡㉦悃㐔Ⴀ哂剌噀憎୦ᒅ怓渽ўକغ୪㑈ႺⰀူ佼㕇峒皹ະ♚㷁䑢瓮ᚇ䟌㱸ᵞᔽ⃝⤱ᴲ箽ⅉެࡻɖ᭜姸㫡嬇㲕稢案挤ᬃ㬧犻嘝ⴘþી㕥㘋ㅶ܂ᄠ  "
   },
   "outputs": [
    {
     "data": {
      "application/vnd.jupyter.widget-view+json": {
       "model_id": "45d03e52a7aa465394327c066eafacc5",
       "version_major": 2,
       "version_minor": 0
      },
      "text/plain": [
       "PersistWidget(data_values=[{'__id_column': '1', 'Name': 'chevrolet chevelle malibu', 'Miles_per_Gallon': 18.0,…"
      ]
     },
     "execution_count": 4,
     "metadata": {},
     "output_type": "execute_result"
    }
   ],
   "source": [
    "PR.PersistTable(df)"
   ]
  },
  {
   "cell_type": "code",
   "execution_count": 11,
   "id": "6b4c1a39-cfec-4d0e-9c89-759d5b355aba",
   "metadata": {},
   "outputs": [
    {
     "data": {
      "text/html": [
       "<div>\n",
       "<style scoped>\n",
       "    .dataframe tbody tr th:only-of-type {\n",
       "        vertical-align: middle;\n",
       "    }\n",
       "\n",
       "    .dataframe tbody tr th {\n",
       "        vertical-align: top;\n",
       "    }\n",
       "\n",
       "    .dataframe thead th {\n",
       "        text-align: right;\n",
       "    }\n",
       "</style>\n",
       "<table border=\"1\" class=\"dataframe\">\n",
       "  <thead>\n",
       "    <tr style=\"text-align: right;\">\n",
       "      <th></th>\n",
       "      <th>car size</th>\n",
       "      <th>Name</th>\n",
       "      <th>Displacementttt</th>\n",
       "      <th>Miles_per_Gallon</th>\n",
       "      <th>Cylinders</th>\n",
       "      <th>Horsepower</th>\n",
       "      <th>Weight_in_lbs</th>\n",
       "      <th>Acceleration</th>\n",
       "      <th>Year</th>\n",
       "      <th>Origin</th>\n",
       "    </tr>\n",
       "  </thead>\n",
       "  <tbody>\n",
       "    <tr>\n",
       "      <th>124</th>\n",
       "      <td>fiat</td>\n",
       "      <td>fiat 128</td>\n",
       "      <td>68.0</td>\n",
       "      <td>29.0</td>\n",
       "      <td>4</td>\n",
       "      <td>49</td>\n",
       "      <td>1867</td>\n",
       "      <td>19.5</td>\n",
       "      <td>94694400000</td>\n",
       "      <td>Japan</td>\n",
       "    </tr>\n",
       "    <tr>\n",
       "      <th>118</th>\n",
       "      <td>No Assignment</td>\n",
       "      <td>maxda rx3</td>\n",
       "      <td>70.0</td>\n",
       "      <td>18.0</td>\n",
       "      <td>3</td>\n",
       "      <td>90</td>\n",
       "      <td>2124</td>\n",
       "      <td>13.5</td>\n",
       "      <td>94694400000</td>\n",
       "      <td>Japan</td>\n",
       "    </tr>\n",
       "    <tr>\n",
       "      <th>341</th>\n",
       "      <td>No Assignment</td>\n",
       "      <td>mazda rx-7 gs</td>\n",
       "      <td>70.0</td>\n",
       "      <td>23.7</td>\n",
       "      <td>3</td>\n",
       "      <td>100</td>\n",
       "      <td>2420</td>\n",
       "      <td>12.5</td>\n",
       "      <td>315532800000</td>\n",
       "      <td>Japan</td>\n",
       "    </tr>\n",
       "    <tr>\n",
       "      <th>78</th>\n",
       "      <td>No Assignment</td>\n",
       "      <td>mazda rx2 coupe</td>\n",
       "      <td>70.0</td>\n",
       "      <td>19.0</td>\n",
       "      <td>3</td>\n",
       "      <td>97</td>\n",
       "      <td>2330</td>\n",
       "      <td>13.5</td>\n",
       "      <td>63072000000</td>\n",
       "      <td>Japan</td>\n",
       "    </tr>\n",
       "    <tr>\n",
       "      <th>60</th>\n",
       "      <td>No Assignment</td>\n",
       "      <td>toyota corolla 1200</td>\n",
       "      <td>71.0</td>\n",
       "      <td>31.0</td>\n",
       "      <td>4</td>\n",
       "      <td>65</td>\n",
       "      <td>1773</td>\n",
       "      <td>19.0</td>\n",
       "      <td>31536000000</td>\n",
       "      <td>Japan</td>\n",
       "    </tr>\n",
       "  </tbody>\n",
       "</table>\n",
       "</div>"
      ],
      "text/plain": [
       "          car size                 Name  Displacementttt  Miles_per_Gallon  \\\n",
       "124           fiat             fiat 128             68.0              29.0   \n",
       "118  No Assignment            maxda rx3             70.0              18.0   \n",
       "341  No Assignment        mazda rx-7 gs             70.0              23.7   \n",
       "78   No Assignment      mazda rx2 coupe             70.0              19.0   \n",
       "60   No Assignment  toyota corolla 1200             71.0              31.0   \n",
       "\n",
       "     Cylinders  Horsepower  Weight_in_lbs  Acceleration          Year Origin  \n",
       "124          4          49           1867          19.5   94694400000  Japan  \n",
       "118          3          90           2124          13.5   94694400000  Japan  \n",
       "341          3         100           2420          12.5  315532800000  Japan  \n",
       "78           3          97           2330          13.5   63072000000  Japan  \n",
       "60           4          65           1773          19.0   31536000000  Japan  "
      ]
     },
     "execution_count": 11,
     "metadata": {},
     "output_type": "execute_result"
    }
   ],
   "source": [
    "persist_df_2.head()"
   ]
  },
  {
   "cell_type": "code",
   "execution_count": 13,
   "id": "a3f896b8-0571-4858-819b-aa8089320b0e",
   "metadata": {},
   "outputs": [
    {
     "data": {
      "text/html": [
       "<div>\n",
       "<style scoped>\n",
       "    .dataframe tbody tr th:only-of-type {\n",
       "        vertical-align: middle;\n",
       "    }\n",
       "\n",
       "    .dataframe tbody tr th {\n",
       "        vertical-align: top;\n",
       "    }\n",
       "\n",
       "    .dataframe thead th {\n",
       "        text-align: right;\n",
       "    }\n",
       "</style>\n",
       "<table border=\"1\" class=\"dataframe\">\n",
       "  <thead>\n",
       "    <tr style=\"text-align: right;\">\n",
       "      <th></th>\n",
       "      <th>car size</th>\n",
       "      <th>Name</th>\n",
       "      <th>Displacementttt</th>\n",
       "      <th>Miles_per_Gallon</th>\n",
       "      <th>Cylinders</th>\n",
       "      <th>Horsepower</th>\n",
       "      <th>Weight_in_lbs</th>\n",
       "      <th>Acceleration</th>\n",
       "      <th>Year</th>\n",
       "      <th>Origin</th>\n",
       "    </tr>\n",
       "  </thead>\n",
       "  <tbody>\n",
       "    <tr>\n",
       "      <th>124</th>\n",
       "      <td>fiat</td>\n",
       "      <td>fiat 128</td>\n",
       "      <td>68.0</td>\n",
       "      <td>29.0</td>\n",
       "      <td>4</td>\n",
       "      <td>49</td>\n",
       "      <td>1867</td>\n",
       "      <td>19.5</td>\n",
       "      <td>94694400000</td>\n",
       "      <td>Japan</td>\n",
       "    </tr>\n",
       "    <tr>\n",
       "      <th>118</th>\n",
       "      <td>No Assignment</td>\n",
       "      <td>maxda rx3</td>\n",
       "      <td>70.0</td>\n",
       "      <td>18.0</td>\n",
       "      <td>3</td>\n",
       "      <td>90</td>\n",
       "      <td>2124</td>\n",
       "      <td>13.5</td>\n",
       "      <td>94694400000</td>\n",
       "      <td>Japan</td>\n",
       "    </tr>\n",
       "    <tr>\n",
       "      <th>341</th>\n",
       "      <td>No Assignment</td>\n",
       "      <td>mazda rx-7 gs</td>\n",
       "      <td>70.0</td>\n",
       "      <td>23.7</td>\n",
       "      <td>3</td>\n",
       "      <td>100</td>\n",
       "      <td>2420</td>\n",
       "      <td>12.5</td>\n",
       "      <td>315532800000</td>\n",
       "      <td>Japan</td>\n",
       "    </tr>\n",
       "    <tr>\n",
       "      <th>78</th>\n",
       "      <td>No Assignment</td>\n",
       "      <td>mazda rx2 coupe</td>\n",
       "      <td>70.0</td>\n",
       "      <td>19.0</td>\n",
       "      <td>3</td>\n",
       "      <td>97</td>\n",
       "      <td>2330</td>\n",
       "      <td>13.5</td>\n",
       "      <td>63072000000</td>\n",
       "      <td>Japan</td>\n",
       "    </tr>\n",
       "    <tr>\n",
       "      <th>60</th>\n",
       "      <td>No Assignment</td>\n",
       "      <td>toyota corolla 1200</td>\n",
       "      <td>71.0</td>\n",
       "      <td>31.0</td>\n",
       "      <td>4</td>\n",
       "      <td>65</td>\n",
       "      <td>1773</td>\n",
       "      <td>19.0</td>\n",
       "      <td>31536000000</td>\n",
       "      <td>Japan</td>\n",
       "    </tr>\n",
       "    <tr>\n",
       "      <th>...</th>\n",
       "      <td>...</td>\n",
       "      <td>...</td>\n",
       "      <td>...</td>\n",
       "      <td>...</td>\n",
       "      <td>...</td>\n",
       "      <td>...</td>\n",
       "      <td>...</td>\n",
       "      <td>...</td>\n",
       "      <td>...</td>\n",
       "      <td>...</td>\n",
       "    </tr>\n",
       "    <tr>\n",
       "      <th>101</th>\n",
       "      <td>No Assignment</td>\n",
       "      <td>chrysler new yorker brougham</td>\n",
       "      <td>440.0</td>\n",
       "      <td>13.0</td>\n",
       "      <td>8</td>\n",
       "      <td>215</td>\n",
       "      <td>4735</td>\n",
       "      <td>11.0</td>\n",
       "      <td>94694400000</td>\n",
       "      <td>USA</td>\n",
       "    </tr>\n",
       "    <tr>\n",
       "      <th>6</th>\n",
       "      <td>No Assignment</td>\n",
       "      <td>chevrolet impala</td>\n",
       "      <td>454.0</td>\n",
       "      <td>14.0</td>\n",
       "      <td>8</td>\n",
       "      <td>220</td>\n",
       "      <td>4354</td>\n",
       "      <td>9.0</td>\n",
       "      <td>0</td>\n",
       "      <td>USA</td>\n",
       "    </tr>\n",
       "    <tr>\n",
       "      <th>102</th>\n",
       "      <td>No Assignment</td>\n",
       "      <td>buick electra 225 custom</td>\n",
       "      <td>455.0</td>\n",
       "      <td>12.0</td>\n",
       "      <td>8</td>\n",
       "      <td>225</td>\n",
       "      <td>4951</td>\n",
       "      <td>11.0</td>\n",
       "      <td>94694400000</td>\n",
       "      <td>USA</td>\n",
       "    </tr>\n",
       "    <tr>\n",
       "      <th>8</th>\n",
       "      <td>No Assignment</td>\n",
       "      <td>pontiac catalina</td>\n",
       "      <td>455.0</td>\n",
       "      <td>14.0</td>\n",
       "      <td>8</td>\n",
       "      <td>225</td>\n",
       "      <td>4425</td>\n",
       "      <td>10.0</td>\n",
       "      <td>0</td>\n",
       "      <td>USA</td>\n",
       "    </tr>\n",
       "    <tr>\n",
       "      <th>19</th>\n",
       "      <td>No Assignment</td>\n",
       "      <td>buick estate wagon (sw)</td>\n",
       "      <td>455.0</td>\n",
       "      <td>14.0</td>\n",
       "      <td>8</td>\n",
       "      <td>225</td>\n",
       "      <td>3086</td>\n",
       "      <td>10.0</td>\n",
       "      <td>0</td>\n",
       "      <td>USA</td>\n",
       "    </tr>\n",
       "  </tbody>\n",
       "</table>\n",
       "<p>406 rows × 10 columns</p>\n",
       "</div>"
      ],
      "text/plain": [
       "          car size                          Name  Displacementttt  \\\n",
       "124           fiat                      fiat 128             68.0   \n",
       "118  No Assignment                     maxda rx3             70.0   \n",
       "341  No Assignment                 mazda rx-7 gs             70.0   \n",
       "78   No Assignment               mazda rx2 coupe             70.0   \n",
       "60   No Assignment           toyota corolla 1200             71.0   \n",
       "..             ...                           ...              ...   \n",
       "101  No Assignment  chrysler new yorker brougham            440.0   \n",
       "6    No Assignment              chevrolet impala            454.0   \n",
       "102  No Assignment      buick electra 225 custom            455.0   \n",
       "8    No Assignment              pontiac catalina            455.0   \n",
       "19   No Assignment       buick estate wagon (sw)            455.0   \n",
       "\n",
       "     Miles_per_Gallon  Cylinders  Horsepower  Weight_in_lbs  Acceleration  \\\n",
       "124              29.0          4          49           1867          19.5   \n",
       "118              18.0          3          90           2124          13.5   \n",
       "341              23.7          3         100           2420          12.5   \n",
       "78               19.0          3          97           2330          13.5   \n",
       "60               31.0          4          65           1773          19.0   \n",
       "..                ...        ...         ...            ...           ...   \n",
       "101              13.0          8         215           4735          11.0   \n",
       "6                14.0          8         220           4354           9.0   \n",
       "102              12.0          8         225           4951          11.0   \n",
       "8                14.0          8         225           4425          10.0   \n",
       "19               14.0          8         225           3086          10.0   \n",
       "\n",
       "             Year Origin  \n",
       "124   94694400000  Japan  \n",
       "118   94694400000  Japan  \n",
       "341  315532800000  Japan  \n",
       "78    63072000000  Japan  \n",
       "60    31536000000  Japan  \n",
       "..            ...    ...  \n",
       "101   94694400000    USA  \n",
       "6               0    USA  \n",
       "102   94694400000    USA  \n",
       "8               0    USA  \n",
       "19              0    USA  \n",
       "\n",
       "[406 rows x 10 columns]"
      ]
     },
     "execution_count": 13,
     "metadata": {},
     "output_type": "execute_result"
    }
   ],
   "source": [
    "asd"
   ]
  },
  {
   "cell_type": "code",
   "execution_count": 9,
   "id": "087ef22e-914f-4603-9d86-6fd51bf24ca5",
   "metadata": {},
   "outputs": [
    {
     "data": {
      "text/html": [
       "<div>\n",
       "<style scoped>\n",
       "    .dataframe tbody tr th:only-of-type {\n",
       "        vertical-align: middle;\n",
       "    }\n",
       "\n",
       "    .dataframe tbody tr th {\n",
       "        vertical-align: top;\n",
       "    }\n",
       "\n",
       "    .dataframe thead th {\n",
       "        text-align: right;\n",
       "    }\n",
       "</style>\n",
       "<table border=\"1\" class=\"dataframe\">\n",
       "  <thead>\n",
       "    <tr style=\"text-align: right;\">\n",
       "      <th></th>\n",
       "      <th>Miles_per_Gallon</th>\n",
       "      <th>Cylinders</th>\n",
       "      <th>Displacement</th>\n",
       "      <th>Horsepower</th>\n",
       "      <th>Weight_in_lbs</th>\n",
       "      <th>Acceleration</th>\n",
       "      <th>Year</th>\n",
       "      <th>Origin</th>\n",
       "    </tr>\n",
       "  </thead>\n",
       "  <tbody>\n",
       "    <tr>\n",
       "      <th>0</th>\n",
       "      <td>18</td>\n",
       "      <td>8</td>\n",
       "      <td>307.0</td>\n",
       "      <td>130</td>\n",
       "      <td>3504</td>\n",
       "      <td>12.0</td>\n",
       "      <td>0</td>\n",
       "      <td>USA</td>\n",
       "    </tr>\n",
       "    <tr>\n",
       "      <th>1</th>\n",
       "      <td>&lt;NA&gt;</td>\n",
       "      <td>82</td>\n",
       "      <td>350.0</td>\n",
       "      <td>165</td>\n",
       "      <td>3693</td>\n",
       "      <td>11.5</td>\n",
       "      <td>0</td>\n",
       "      <td>USA</td>\n",
       "    </tr>\n",
       "    <tr>\n",
       "      <th>2</th>\n",
       "      <td>18</td>\n",
       "      <td>8</td>\n",
       "      <td>318.0</td>\n",
       "      <td>150</td>\n",
       "      <td>3436</td>\n",
       "      <td>11.0</td>\n",
       "      <td>0</td>\n",
       "      <td>USA</td>\n",
       "    </tr>\n",
       "    <tr>\n",
       "      <th>3</th>\n",
       "      <td>16</td>\n",
       "      <td>8</td>\n",
       "      <td>304.0</td>\n",
       "      <td>150</td>\n",
       "      <td>3433</td>\n",
       "      <td>12.0</td>\n",
       "      <td>0</td>\n",
       "      <td>USA</td>\n",
       "    </tr>\n",
       "    <tr>\n",
       "      <th>4</th>\n",
       "      <td>17</td>\n",
       "      <td>8</td>\n",
       "      <td>302.0</td>\n",
       "      <td>140</td>\n",
       "      <td>3449</td>\n",
       "      <td>10.5</td>\n",
       "      <td>0</td>\n",
       "      <td>USA</td>\n",
       "    </tr>\n",
       "  </tbody>\n",
       "</table>\n",
       "</div>"
      ],
      "text/plain": [
       "   Miles_per_Gallon  Cylinders  Displacement  Horsepower  Weight_in_lbs  \\\n",
       "0                18          8         307.0         130           3504   \n",
       "1              <NA>         82         350.0         165           3693   \n",
       "2                18          8         318.0         150           3436   \n",
       "3                16          8         304.0         150           3433   \n",
       "4                17          8         302.0         140           3449   \n",
       "\n",
       "   Acceleration  Year Origin  \n",
       "0          12.0     0    USA  \n",
       "1          11.5     0    USA  \n",
       "2          11.0     0    USA  \n",
       "3          12.0     0    USA  \n",
       "4          10.5     0    USA  "
      ]
     },
     "execution_count": 9,
     "metadata": {},
     "output_type": "execute_result"
    }
   ],
   "source": [
    "persist_df_2.head()"
   ]
  },
  {
   "cell_type": "markdown",
   "id": "b74296c9-2e95-4cc9-a343-5b714c28e39d",
   "metadata": {},
   "source": [
    "#### Interactions & Persistence\n",
    "In the next cell we have the same scatterplot, try interactively selecting points. You can repeat the selections as many times as possible. Try clicking on different nodes in the provenance visualization."
   ]
  },
  {
   "cell_type": "code",
   "execution_count": 10,
   "id": "395506b7-7f57-4c0f-a7a8-8b49de034d5d",
   "metadata": {
    "__GENERATED_DATAFRAMES__": "ᯡࠣ䅬Ԁ朤壠ᜣ琢〹夦゠⹰〮⁁䁻қ䚾ኊ㇠നСࠩ瀮晼Ƭ穅5愠៤⠠ ",
    "__has_persist_output": true,
    "trrack_graph": "ᯡ࠽䈌ʀ匦㢠⹰ಀᦡᰠㅠ㘣堤ᠫ‥俞Ƹ斀Υㆤ倨檑ᣵᡴ¸ᥡ䮲弲⠠䭈⑁槑焳Ⴭ⩮䆳⮖仼簥Ҩǁ#㑌挰橠ኤРᜰ͐üメ湁˛㾚‥䲁吠৥撠۰̈ബ了⑌ƪᡐ䎃ʠϩ䂰¬籌ẍᬷ*无愐డ㙐᭢⢨Ⴌण⧓ࡢ㌰ᄦ暋U䋐䠳欯Т簬͍㑆ජϒሧډ䇴氡Ḡޅ箪ߦʣ潸䆪川຤玄ࠤ䩧䏮⃦⫳࣐桐⊺ᅶㆿĜ∃␀ゆᜩ䄵䲆ᚭ燍ᭉᅃͅ䬱䤶ᢡƋ෭ኀ㠢Үⅰ㒚ᆢ懐ᱎឯ戩䊏Ԡ˚ˡ৻㋥擘抠䵳ऺᥛⓄ䑃ဠ "
   },
   "outputs": [
    {
     "data": {
      "application/vnd.jupyter.widget-view+json": {
       "model_id": "b8310cccaf584670a404fb800536c11b",
       "version_major": 2,
       "version_minor": 0
      },
      "text/plain": [
       "PersistWidget(data_values=[{'__id_column': '1', 'Name': 'chevrolet chevelle malibu', 'Miles_per_Gallon': 18.0,…"
      ]
     },
     "execution_count": 10,
     "metadata": {},
     "output_type": "execute_result"
    }
   ],
   "source": [
    "df = data.cars()\n",
    "\n",
    "selector = alt.selection_interval(name=\"selector\")\n",
    "\n",
    "chart = alt.Chart(df).mark_point().encode(\n",
    "    x=\"Miles_per_Gallon:Q\",\n",
    "    y=\"Weight_in_lbs:Q\",\n",
    "    color=alt.condition(selector, \"Origin:N\", alt.value(\"gray\"))\n",
    ").add_params(selector)\n",
    "\n",
    "PR.PersistChart(chart, data=df)"
   ]
  },
  {
   "cell_type": "markdown",
   "id": "4d4aeada-9b5f-4655-8c9a-fca92ef5ccb8",
   "metadata": {},
   "source": [
    "You can run the next cell to see and see the history already populated with selections. Persist allows you to save the interactions and loads them the next time you run the cell. You can use the first two buttons in the header to `undo` or `redo` your interactions."
   ]
  },
  {
   "cell_type": "code",
   "execution_count": 11,
   "id": "af55dedf-be3b-457f-beb8-6c95e244defe",
   "metadata": {
    "__GENERATED_DATAFRAMES__": "ᯡࠣ䅬Ԁ朤壠ᜣ琢〹夢゠⹰〮⁁䁻қ䚾ኊ㇠നСࠩ瀮晼Ƭ穅5愠៤⠠ ",
    "__has_persist_output": true,
    "trrack_graph": "ᯡ࠽䈌ʀ匦㢠⹰Ӡ✡䚈ჭ㐽䁍ٔÐ㑔䃬8ɒୠ᭞匨҇⻳祭张㌠๔⡩•⳦Ⴇ⋫䁸䲥㖚䙌浛㬗瘺ሠڤ-孛ಃ⑀´၀Úಡ䀦熦आ㛣厬6ঃᐠ৽撠۱\"壁永粖ႻԽщ⊩⎂ࢤ瑔≈ʛસ匾敇゠Ɣ䛦圫ርࣣ਽䟑䅠Ȅ恨㪜ൟ⑦䊯䏃ᄸƌㄖ沑ࡖలൟグ䎖ᇣ啀癛U岛ళ墬吢粬߫ƌٝ䄽㧗ɹ䋯氡Ḡއ䳟䘣Ϟ碠␾Ꭵ曢⳨ࠪ⋐剜ᤦ䍨栢పᓀ桱̿䍂ࡈ¿ƣ塬­ʫ墩Ꭽ甙Ⳮవ嚘伔冴垪ዩ⩽ᓫ㋙㹰噉⣅㥶㊤摬䉩ᛥ姄٫ᇩ犤Ŵ万礵൬柈搠㊥䰓㓀!+ᐫ怠㻇氶ᨠ煐㣪嬊*㸷⿐⃚潠ӀᦕZ䘡အ暞㶸樧෦㬮ߕ⡬Ⴊኔ嵜಍檑櫠䲮˴滞hᔩ嚱ጽ䛠傔ἦтথ攭ށ‼Ⴆ3㉬ᨯኂ㉷ᔦ㓻帧㮳斲じḨ䅃䢴ⴡ䚂堼ᜧ䐂тᢩ冈畽཯倸專ᑪ䏀♳ೢྺᛍ૯᳻㘰Ỡ牛溇᳸ᓛ⻗㇨採⑐4⁂⊎㯈Ԡ⁷戠wᠨή㸈禉௡磞ࠣ渌㾢ӡѪ@㯥ㅢ㯪ぐ㏤㄰徥〠㴥២⁈ᙐₜ཭㕆㍙梆঱墎གྷѩત䙅ໂ嘡ƀ吰䏣бក桘獈㏖׍⑙⟠Э٤㣉Ġ౨â嘴䩼ࢋ≂㉑༃摡䶹ۍ⎡⚬ݔ囑䇔秞 瑜ڥၩᒣ偱᧗偮⃥璖⺢偃ᴷ䉈ྱㄘત汞忴ۡ䰥܁䉂䙑仩偬ᒡ㚙ຢーঠᠩ䩆◉㵉౹㒢デᕯ⥒፪㤌⽫øኁⅴ⚨曮塁⤦ᆨ楰୭啀᢬㰰ᑂ㕜㶅≧癮`䠶ਣ崁ᐡ䶓⫡᥆䳴嫶喂曧䵱 ϼ䧡⬺悕◖㔤⬲ᐦ⃤ᦦЩ刘巜ࢠ垨癲⼥⚌́㞤筑杙᥍撙岴䎙筏搥岨⌥睟ƥ檼ህˍ᠔招ᐸ䓟ᓅ咃ᒵ㋔犼仍║㦧哵ᵄ䟐悤נ㼸榱ᇞԢ㚸ቱ⿑眜羰࢘次孢䇡₮攼㧈⧳⋮ᴡ㰈篶凘灮䏾˨墶氬塶ⲭᓶ㫡奖᛿ǖ氣娾䤺₠斘媶狠≶ⶖ婄嶈ₙΝ宀仩抸猥皊㩇⠺⍬撍⭆柺ᐦ䇦嵶䂚潷棽ᣎᑦ㭸ᔐऊ䃩簩ᤸᓿ嫱浫ᨤႬᏌဪϖᨶƄ⨠₀䶛Ď䈮嵤䛣ʩ≩䆸ᐽ䃰઻嬖哺ዤ晬⣄㐭ቪ๦⮒դ勤Ź㣲嗭㌔纾ࣖ娨⃦緺㋬握抾淞焸䯺稼䡜牞प爞恝章濷磞ࡢؿ停ԡ㯭祜塃瞉⑈䖑呆ᩄ斤〧׎ඪ⦾䨭⡦ᄺ߲ね⊐౤琹ʹ䤣Ꮃǹᡶ͐冦Ქ‵⩬ⱼɉ廢瓟⭠䰥䄘ຊ␲䅔ڣ࠭ᵪ䬦眼ᠩਧ惢ड〷䋄Ṣͭ哈⸤绕װ⌯⁛ኀ罆狰欭Ⅰ䎩勈䁑ؐ䄴䂪਱樺ᆐტY咚ഡ泜䨣⮷㤶旨⢭懬⨣Ɀ䉨䃫ࣕ步᷷ٴ࿱凌憸ᶣ汏̜嫤咍䒰窫Ⴇࡡ⨼燗⬵睶Ʉⵛ㱻ࠑᾬ⣎凑帱ǁៅํ㔣䋪㛕䫌㮨冐佡⌽ᅰ搴ⅾ౲㠥剽䒤䂮撠睒䭅媀ଲṋ煦ᣥ穉䜣֫∠䵱ರᆼⱲن‪ڠ摪ʈ㥠ひϨㅏⰸա斶䄡亡䩉°ݑ?䐘b暜恀˾↧ॡ䝊䉮ڡ亍޼㴦გ東悥ȏᓙෙ㣲™场瓀㬆妭泽ⷹ䁛䯘⨤ᄪওᜪ爙欋⼕搫Х峰ෙ䆗㢛⫆筶垈羊㉍ᾲ⇩ᷣ姲⎭ͧ⑯䞛咬㹫ೄ卄優ᅓ姡屟㬇⚄㴢痬ࢢ¨䁁䶫峤咁᷅ʷ㬤りͨ⢯䁱ࡅ∧喈̡⩚䜆㾀孵㝶ᮉ囵侍疱墽彺ෑ嬘ଇ㑕摠昉峳አᤧᑠኃ㞱灌἖Ⱓ烸␋夛જῡ碿ᬘ忍禞ဆ檟慎砎痏洜ᬪӟ䈲᦬䉁㈷棔ᗉ䂾䨖ᔢ婄⏢⺥ੱ䥐浉⍂哪泄ᥡᛃ㿠⍈㭤玒Ҕ磭ദ⻦䋆䙅婴旝ᨺⱇ᪳䛧ம䓗༱亴䁭呻⷟౛㻆⮗㝱⾊䕈䡮竿䵅೻㣽෻⥥࢙㒬䜲榜涰ᠬᠸơ␫ႀঠ⾈声ഁ䁔䞦ሯҼϠ儦のᎀທᬼ网䡙ȼ䔪᱊ř樺㣔ຒ瑂炕ড㳄ѱ平簢占䋔㲸ᑶ㮤吩Ω䫹⫠ễª塈曯䨰椬䖉ƪ稺䪹⮵屟䍊䘌嘧淕᜴牡ᜧⷃ婎®㄁▝僛哉ᲗҴ崴ㅧ㊅㊼疊紃䱥椱ኯނ`偒ᗰئ䥔تฬ⡤࿫砫â坯䨸䌗⫊堯䠰⾹⼐怓࣑䮡㔶䆛ʗُ佺┈☁峋浓繠ⓗ䓹晓啌ᨆƃ猕寭ง栋࿢ᬣ㼘䎌慦曣Ĥ妭ᡇ෧₻⴩᯦╗ᒐ撆暪ඁু䐷ⵣ僺弦殈ಕ燉㚎伪仞吱䋓ⷔ᝺穜嚀穤桕⿎橴伀亽䳼毹嫶灌堓ⱙ泍)⽥き据ŏ欵壷嗄㙪睦ᢎⅨ䲬Ը㋉簤孛喳慎㬃嗥梃ҩ睹掂濦刨㰙㱶ᅗ䛉ⷧ嫤温佻㛆⻼㭝勦䇭匓Ⓠ၄潭乧䍴㙮䗗⮕ၗඉ向⠼છ⟝桚渒䶱䪷ا㜮槁噔㢩䚞異➐悚李㥣⻲⌠琫ဨ߈纉琴ਢゖ䠀簧夿咓㳻稧ᴇ罨孼瀸䮛伣ᦃ⣰㢡瞈愄檠ᓲ䲀઻⦭ᩈ罌ቌ߇繤窋­ⱜ幋犽⧊捷ⵙ埚だ㬐村㺬搠̪模挊㭍㫐ᙷ汶଎劐崓Т╕嗰㹆戶Ҍ刯效㻠儹नᯘ倦Þ兆眡♓⾓ၤ㵹࢐䆥┭䣺ධغ戊ᡵᨤ啎㣝殥㴦ƍ擏䴏澓愕⯪இ氋៹砶䈀㽌〚䀷ۤ实眝ʍฝ灱ᰟ孍Ⳡ㣠䁗қ嗖㫉娱琑㼞翊ᲅួ䬝倕穛⸒㮠瞲沛冞炏窩ả囡䁁䖵⠡⁃ࣁୋࢫೠᯛ䤬෉‾凤溗灎㌓廠❆㥟欫଄䂎ᙛ䦡婸佅យㅀ૤猅ࡀ碧䶽ȩ⁨碐ٜ⢯ཤ礻א攡ճ〻唢攌ྑ⢀㱝堽ླྀ簀⥜䐷ḳƂ䆬㣇吳竔唽皤恴犰ޭ珊筤燰Ꭴ吪乌僀ᦵ姭睩᪒婭缀ှ¬ט夫ᕬήᬠ椧⹔又੩ਵ1Ȁᱤ樏湣㯐ᅭ䜊坕䯋孬嬅㜣ᨋ䋜曎玊秏ᆵ炯⽇⢾෽䆉画揗䌁ḏ疈嬗塕縆඀ᅅ傜⦆ὔ够ኜ䵣䭲㍵᎜䶃Ɣ㡬岈怩ᩋͭ̉獢䶅剽١᰸▍剝ᨈ嘨㩃Ϧ䛠Ⰴ⣓ㄏ䂔Ἇ灪䓨จ㔾䭚䗞叅㽯䨳ࣙ῅ṩᑬ㊰៨㮇ᆝ婃੐尪愼࢐䝀㛍牱խ咙䧤牒ǩԡᔮ⪜㣄㌜侌≲䖿冥愯棾䨬㳥䌵ࡱ䞬⋄箋䝂㋄䲹㵤➍磝垝䏎報Ԩડ⬷孥䧅ᘰ⠩䙌凰຃㹉愱դਃⰍ嵧孿䊄 卹⫀㸹ᢃ⹅ᣩố夤䡂΀ᶽҮ㵿磓䀢䀳昰ࠓ堔䋩㥠ᦫᜅ₅ᙧ䩡乸檣筃Ɉ㸸⪉ⱕء卣 僰⥠ὣض䂑੢䳹᲼傾⒨ྲ娵ࡡ⟗ᡲ撊ᓒ媛ྉಃ㢆᭔䔼䓂䁴玲台䴰买珂έ瓄䢒⦩嵜‣睙؛堨㶢㌹ȧ䊣栶ཌپ亢砸猢݇墢⛀庇շ䫴冨妜ʘ㐡㯨ୗ⡾࿣廎ମ祿ੌ㸇㹐䙟ᄼἿ⪯䰁‫⢤䝆䚜寉洣䛍䨍㧎᭰㣺嚂㹄䥈⓺䌜⮅䴪旕冥í㬶棵䎕伷䭴䞶❤℁᥊婣ᬼ༺ੜ㬖㸳網泡撄㒉悰ᣀㅼ㋥㌅ᳲ晃䔍䚳ॊ摬䏒征ᶜ㨖℃漸ᄓ奎嫓梮Ӛ最䇓䠾峢㪄䤜ă哳笣垓ṍ歱服幥烩᳘⒎⸃䠊糎ӹ̒ፈ岫䝎␸梦岠ᙞ㒄篃㼺̀২焤‫槰ᱜ润ⲂℲႠ㋇㾞ςᤰԦⓣ䡲㐢㿈ᘫ䠡呸㝂ͩぜ䈭佈䃤=弑䄧ゞ捲㚫䌅¦║≼婡䀰ጤ᧲̎ú⟱㑼〴撶ᔠ  "
   },
   "outputs": [
    {
     "data": {
      "application/vnd.jupyter.widget-view+json": {
       "model_id": "a1a95416221545bc8b2527b87fe7b3d0",
       "version_major": 2,
       "version_minor": 0
      },
      "text/plain": [
       "PersistWidget(data_values=[{'__id_column': '1', 'Name': 'chevrolet chevelle malibu', 'Miles_per_Gallon': 18.0,…"
      ]
     },
     "execution_count": 11,
     "metadata": {},
     "output_type": "execute_result"
    }
   ],
   "source": [
    "df = data.cars()\n",
    "\n",
    "selector = alt.selection_interval(name=\"selector\")\n",
    "\n",
    "chart = alt.Chart(df).mark_point().encode(\n",
    "    x=\"Miles_per_Gallon:Q\",\n",
    "    y=\"Weight_in_lbs:Q\",\n",
    "    color=alt.condition(selector, \"Origin:N\", alt.value(\"gray\"))\n",
    ").add_params(selector)\n",
    "\n",
    "PR.PersistChart(chart, data=df)"
   ]
  },
  {
   "cell_type": "markdown",
   "id": "b6325a60-f131-4a2c-8a2f-641047faf284",
   "metadata": {},
   "source": [
    "#### Rename columns\n",
    "\n",
    "You can use the `Rename Column` button to select and rename a column. Try renaming `Miles_per_Gallon` to `MPG` in the next cell."
   ]
  },
  {
   "cell_type": "code",
   "execution_count": 12,
   "id": "d0b79c72-2592-43bd-a70a-cfe4d1408b67",
   "metadata": {
    "__GENERATED_DATAFRAMES__": "ᯢ粠 ",
    "__has_persist_output": true,
    "trrack_graph": "ᯡ࠽䈌ʀ匦㢠⹰҃఩憡ؠ烠ⴠ㌠䰢ᤨ˩☡Ⱗ〽䉪ɨಋ⢠沷廃ͅተ¶⡨⃲ㄇ晎╦庳ୖ乜簥Ҡǁ#㛦俒′䈤7⺰ᠠ湐懎Ⴇ᫓㻠˴㽴G⎲;‫号毸恭ࠠٝ㬠㬲挥'䦡ჩ౑᳼ةᚺ䭭揰˸慍塂ႌᡄዒ橁ì⊥瑰ᘠ歲瘿变ሰؓ欖᪩夌䬤⭸␮óی堢㰠ຫᝏ౛Ꮥㄪኑ姻㇂戲ᜲॅᆨ⌻䁁䔱栩ᑑ婒̭犭䑨憡⎐䐬ᚢ䃁㠻֎婨़᥂Ȭँ䐧灹义ᴥ䈁Ѳʢ祉ήΥ挑籪ၬᏤwᾠᑘ峲♎⇦ᓯવ䉄㓄神ਠ "
   },
   "outputs": [
    {
     "data": {
      "application/vnd.jupyter.widget-view+json": {
       "model_id": "63bbab526f5b4a81b282264cb933fdb2",
       "version_major": 2,
       "version_minor": 0
      },
      "text/plain": [
       "PersistWidget(data_values=[{'__id_column': '1', 'Name': 'chevrolet chevelle malibu', 'Miles_per_Gallon': 18.0,…"
      ]
     },
     "execution_count": 12,
     "metadata": {},
     "output_type": "execute_result"
    }
   ],
   "source": [
    "df = data.cars()\n",
    "\n",
    "selector = alt.selection_interval(name=\"selector\")\n",
    "\n",
    "chart = alt.Chart(df).mark_point().encode(\n",
    "    x=\"Miles_per_Gallon:Q\",\n",
    "    y=\"Weight_in_lbs:Q\",\n",
    "    color=alt.condition(selector, \"Origin:N\", alt.value(\"gray\"))\n",
    ").add_params(selector)\n",
    "\n",
    "PR.PersistChart(chart, data=df)"
   ]
  },
  {
   "cell_type": "markdown",
   "id": "ebbd29e3-af4a-4145-8663-63fabd64b98b",
   "metadata": {},
   "source": [
    "#### Delete columns\n",
    "\n",
    "You can use the `Drop columns` button to select and remove one or multiple columns. Try deleting the `Cylinders` column first, then try removing `Weight_in_lbs` column."
   ]
  },
  {
   "cell_type": "code",
   "execution_count": 13,
   "id": "548d5bcd-0f12-4bb9-a7b0-04d94bbaaca9",
   "metadata": {
    "__GENERATED_DATAFRAMES__": "ᯢ粠 ",
    "__has_persist_output": true,
    "trrack_graph": "ᯡ࠽䈌ʀ匦㢠⹰Ǡ⌺ʁ☸ᚠ✪ᐡ㈂⁓ᚘё劭㳁ၛڸ̸栵䁓VĠ⍄倡ᙰ䡣冁柤⩼䫆⶚䛬浘砮ठ͢&捨♁咠┨ࠠ⼚₀ǘ憣屢֖继+ᣣ⠠Ꭻ䤠වװᨹᳬ䠠أݐ⚦挥'䦡ჰⲑ㲴ŏጿ䉫最ᠢ沀㙔儰സሦ历Ⴂ晀∬䋶խ၇嘾ࠥ砸ٺᑔ฻ȧ㉄ܬ榣哸Ŝ.ᘗ⿇߃ㄦᖗ婘槭䡀ॉ♆ᖠ䉧ॣ懤⢁崄㤎ᩍ־瞩䃀塐Ⴟ䃀ࣼႨⅣ洋ᛪ≨恉૤ㅥ䙀⁺掓␸㘷ܘᒄ┺䏀ᡬ⬽䌁碢ࢱဢ崢惑漁䦑祑࡮⥴剦䅮槉ဨ搠 "
   },
   "outputs": [
    {
     "data": {
      "application/vnd.jupyter.widget-view+json": {
       "model_id": "7ee76c9c5ad34eb89d2a47bc2eb08805",
       "version_major": 2,
       "version_minor": 0
      },
      "text/plain": [
       "PersistWidget(data_values=[{'__id_column': '1', 'Name': 'chevrolet chevelle malibu', 'Miles_per_Gallon': 18.0,…"
      ]
     },
     "execution_count": 13,
     "metadata": {},
     "output_type": "execute_result"
    }
   ],
   "source": [
    "df = data.cars()\n",
    "\n",
    "selector = alt.selection_interval(name=\"selector\")\n",
    "\n",
    "chart = alt.Chart(df).mark_point().encode(\n",
    "    x=\"Miles_per_Gallon:Q\",\n",
    "    y=\"Weight_in_lbs:Q\",\n",
    "    color=alt.condition(selector, \"Origin:N\", alt.value(\"gray\"))\n",
    ").add_params(selector)\n",
    "\n",
    "PR.PersistChart(chart, data=df)"
   ]
  },
  {
   "cell_type": "markdown",
   "id": "93deef8c-35fa-42dc-8024-7ced08ca10a0",
   "metadata": {},
   "source": [
    "#### Categories\n",
    "\n",
    "**Adding new category:**\n",
    "\n",
    "**Assigning categories:**"
   ]
  },
  {
   "cell_type": "markdown",
   "id": "cda2e28d-0b9e-4088-bd44-ef342452b150",
   "metadata": {},
   "source": []
  },
  {
   "cell_type": "markdown",
   "id": "a6284113-65cf-408e-927f-d302988c2a9d",
   "metadata": {},
   "source": []
  },
  {
   "cell_type": "markdown",
   "id": "3066d9d3-6688-4bf1-ad00-39ad1b5df821",
   "metadata": {},
   "source": []
  },
  {
   "cell_type": "markdown",
   "id": "fffd1b0d-d9a7-4c7d-8dcc-62ebd81352a1",
   "metadata": {},
   "source": []
  },
  {
   "cell_type": "markdown",
   "id": "2e306fb4-8b8a-4758-b777-0fc25e851c90",
   "metadata": {},
   "source": []
  },
  {
   "cell_type": "code",
   "execution_count": null,
   "id": "d45975ae-2369-4835-b6a2-3810e9927252",
   "metadata": {},
   "outputs": [],
   "source": []
  }
 ],
 "metadata": {
  "NB_UUID": "9b2f5bec-a755-4a5b-a877-fe1a880b9f38",
  "__persist_keys_record": [
   "__GENERATED_DATAFRAMES__",
   "__persist_nb_uuid__",
   "trrack_graph"
  ],
  "__persist_nb_uuid__": "be067817-dfa3-42d6-948a-39c4b95d3382",
  "kernelspec": {
   "display_name": "Python 3 (ipykernel)",
   "language": "python",
   "name": "python3"
  },
  "language_info": {
   "codemirror_mode": {
    "name": "ipython",
    "version": 3
   },
   "file_extension": ".py",
   "mimetype": "text/x-python",
   "name": "python",
   "nbconvert_exporter": "python",
   "pygments_lexer": "ipython3",
   "version": "3.9.17"
  }
 },
 "nbformat": 4,
 "nbformat_minor": 5
}
