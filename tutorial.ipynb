{
 "cells": [
  {
   "cell_type": "markdown",
   "id": "721323cd-bb01-435f-a189-52f86ac438be",
   "metadata": {
    "trrack_graph": {
     "current": "5a5a00cc-06cd-4338-a90a-1365ce04ac27",
     "nodes": {
      "5a5a00cc-06cd-4338-a90a-1365ce04ac27": {
       "artifacts": [],
       "children": [],
       "createdOn": 1699995232057,
       "event": "Root",
       "id": "5a5a00cc-06cd-4338-a90a-1365ce04ac27",
       "label": "Root",
       "level": 0,
       "meta": {
        "annotation": [],
        "bookmark": []
       },
       "state": {
        "type": "checkpoint",
        "val": {
         "id": "0ed02552-2223-4b2b-8843-223fb8396132",
         "type": "create"
        }
       }
      }
     },
     "root": "5a5a00cc-06cd-4338-a90a-1365ce04ac27"
    }
   },
   "source": [
    "# PersIst Extension Tutorial"
   ]
  },
  {
   "cell_type": "markdown",
   "id": "0892e834-de92-4f36-85d7-deee12490be5",
   "metadata": {
    "trrack_graph": {
     "current": "5719397c-958a-4994-91f0-d7a66aa497ed",
     "nodes": {
      "5719397c-958a-4994-91f0-d7a66aa497ed": {
       "artifacts": [],
       "children": [],
       "createdOn": 1699995265084,
       "event": "Root",
       "id": "5719397c-958a-4994-91f0-d7a66aa497ed",
       "label": "Root",
       "level": 0,
       "meta": {
        "annotation": [],
        "bookmark": []
       },
       "state": {
        "type": "checkpoint",
        "val": {
         "id": "52dfacb4-8b03-4e0d-a810-0a3f919ebb61",
         "type": "create"
        }
       }
      }
     },
     "root": "5719397c-958a-4994-91f0-d7a66aa497ed"
    }
   },
   "source": [
    "PersIst is a JupyterLab extension to make interactions in cell output persistent. Persist tracks interactions for compatible outputs in a provenance graph.\n",
    "\n",
    "Capturing the interaction provenance allows us to save our interactions with the notebook, and replay them at point later. You can even rerun the interactions if the value of the variable in the persisted cell has changed. Persist will try it's best to apply the interactions to the new variable value.\n",
    "\n",
    "You can import and enable the PersIst extension as follows:\n",
    "\n",
    "```python\n",
    "import persist_ext as PR\n",
    "```"
   ]
  },
  {
   "cell_type": "code",
   "execution_count": 1,
   "id": "dbc49dae-f456-4ebd-9146-4ae6ba83838c",
   "metadata": {},
   "outputs": [],
   "source": [
    "import persist_ext as PR\n",
    "\n",
    "from vega_datasets import data\n",
    "import altair as alt\n",
    "import pandas as pd"
   ]
  },
  {
   "cell_type": "markdown",
   "id": "2dc9acb1-d4fd-4949-843b-fa0afa32387d",
   "metadata": {
    "trrack_graph": {
     "current": "5719397c-958a-4994-91f0-d7a66aa497ed",
     "nodes": {
      "5719397c-958a-4994-91f0-d7a66aa497ed": {
       "artifacts": [],
       "children": [],
       "createdOn": 1699995265084,
       "event": "Root",
       "id": "5719397c-958a-4994-91f0-d7a66aa497ed",
       "label": "Root",
       "level": 0,
       "meta": {
        "annotation": [],
        "bookmark": []
       },
       "state": {
        "type": "checkpoint",
        "val": {
         "id": "52dfacb4-8b03-4e0d-a810-0a3f919ebb61",
         "type": "create"
        }
       }
      }
     },
     "root": "5719397c-958a-4994-91f0-d7a66aa497ed"
    }
   },
   "source": [
    "## Supported Outputs\n",
    "\n",
    "Currently, persist supports two major output types: Vega-Altair plots and interactive datatables."
   ]
  },
  {
   "cell_type": "markdown",
   "id": "0dd3f9db-f762-4cb9-ae32-e66f177df309",
   "metadata": {
    "trrack_graph": {
     "current": "532e7b35-40eb-49bc-bcf5-4ac20f338809",
     "nodes": {
      "532e7b35-40eb-49bc-bcf5-4ac20f338809": {
       "artifacts": [],
       "children": [],
       "createdOn": 1699995589077,
       "event": "Root",
       "id": "532e7b35-40eb-49bc-bcf5-4ac20f338809",
       "label": "Root",
       "level": 0,
       "meta": {
        "annotation": [],
        "bookmark": []
       },
       "state": {
        "type": "checkpoint",
        "val": {
         "id": "6680bfac-15fc-4ff4-b8c1-1921d906a0ec",
         "type": "create"
        }
       }
      }
     },
     "root": "532e7b35-40eb-49bc-bcf5-4ac20f338809"
    }
   },
   "source": [
    "### **Vega-Altair**\n",
    "\n",
    "You can create any interactive Vega-Altair plot and pass it to create `PR.PersistChart` to create a persistent chart.\n",
    "\n",
    "E.g.\n",
    "```python\n",
    "\n",
    "selector = alt.selection_interval(name=\"selector\")\n",
    "\n",
    "chart = alt.Chart(df).mark_point().encode(\n",
    "    x=\"X:Q\",\n",
    "    y=\"Y:Q\",\n",
    "    color=alt.condition(selector, alt.value(\"steelblue\"), alt.value(\"gray\"))\n",
    ").add_params(selector)\n",
    "\n",
    "PR.PersistChart(chart)\n",
    "\n",
    "```\n",
    "\n",
    "The above snippet of code will create an interactive persist scatterplot with brush interactions.\n",
    "\n",
    "Alternatively, persist comes with `plot` module which provides helper functions to create simple plots like scatterplot and barchart."
   ]
  },
  {
   "cell_type": "code",
   "execution_count": 2,
   "id": "b58f8f0f-8f4b-4346-8c48-3b0b22d758af",
   "metadata": {
    "__GENERATED_DATAFRAMES__": "ᯢ粠 ",
    "__has_persist_output": true,
    "trrack_graph": "ᯡ࠽䈌ʀ匦㢠⹰۠ጠⰢᠰ恦Ḡ㠥僦䂖૤〹䀣઼㓵ᤒƻ奧¼Ź摐箱扪2攩њ㚜⋄ᓊ桖ኂ曳察℁儠㑀㣐愾䠤傡%戰映ᮬᢛ䑁圌Რِ×ह†从␠㚨ط档䘒䈱熨傜ᠾ㕛ܦౣ极䄄惀㢔⢒༦Ⴐ佢%樹ල晨㩣⾸✶摰޳Ł燨璔䇞㴽ޠ㢀ב䋺䖰⁘とᴍ屢߸䂯咡れö⦼࢞牖倫瑖᷍㎝㘨ⶽ届昬∫〤砠ᵾḡᤝ䰁Ψ渿ৣ䁸୩ᩡ惡摿༮悀氼Ხ⍰硴坆䅠㐴䴧䄐⠾ܧ懁㸺ޣ犜㾉᷃ʕ⾓妸狥煤奊䯅ᦌ坏䨵䕲峉⭴瑗娱烤焤䥂䧄᤬ୃ䨄ղၶ⡴唺䇊㍔Ḡၪʠ$〬'㬻㹦‮゠䈿㇀݃䃀瘼&煚㹆吷竻皯䟠थ←䮂đ㹎ྣ惰籖ᾫ炂ㆂแ䍆籌侧‬⡜ᚡ䇵ُ夊珘㉬ᜠ₰摪᪯≑䱶Υ挐ɁѬಔ嵈៏樭䍚ᒃ∁䍜᪋ᯭ⁅䖉母ᮍ僧塡ރ唈穽ର䜏௼杣ษრq✦៼ᙰР礠Îさ皒澾䙻捭籠匍䀳Ɂ䣈 彔䌨弩䘑⼩㔉織䀡琿倒ᢗ吖婽໰㩀ጄǠ⏥Ȁ㈪绰⸮䊦ᰲⅈ⚢恈ኣᢉ具≢ᒓ犔ദპଠ呈઩僞ຠᒸ㽦懲ܢᩞᰑ䄾ᘫ渫儮↏࠮ূㄕ硠┨ظ⷇⥡䏥㬎䏴戇އ糞ံʎዡ䄌ᩥ䣵䅣囪ᇓ⣭卣㙚Ꮥࡻ凁㢰伢湱䙓䘩峃烩䌣惉嵔曹坔倥䚢ᙰ䩠礞┥䜑兑Չ奔䗤୕ቑ㽔ᙞӣᢰ䐤ᩆ䳴婠ⶀ泮伢㫦因䁶䭮㫚㏶窮ף窞୮ڡᡃҫ䐡儌ྤၘ䉍ແ㒲惙ء⃨䖩䂵̡儳៦ᚤ㢈噲嶵䩼䅲⪜啲ᑅͱૺ信癝ᎀౣ҇䖘ྣ瀳䐡䲓ฅ亖Ẑ泗䖓⹇ᨒ屛履岷䦑g嘣Ἑༀ㳀ਔ㲦Ȗ⏻ؑ㴏射绿堕ሟ䮂৘☣ȑ¯ঐ㩨泐⸡⧔䂿ᇲۉ䥸␠⤾Ѫ䡰㛠䥀੫尫嘩㐟ㆻ䤾༠৤搣戄汪ᆲ⒩㱽洌ı灐ᙖᄈ᫶傢ᴱ灸ܶᄌޡ灘䚤ᄌਢࡲძ㔞2ɀ因奶⏡娒ᛒ⠭啧⡍䭧㛚௔祭ሳ⁻䲈䵳㭉䷴ຈ⵫㢡ⶋ⎋恻ㅎ䣱犍䂑捘➜Ẍ毩畜ᄋ⮬淥㝳ᔵ㓰嫦䑻î䴤㗭㗋↡巋㪽⟱电唩䄈⡔㯁墌䒱埠惉ԣ僩䛺ᨩ挦⊆ᥘ䅣˺愑⬠査㓕淲Ջ╡⥒斉䜠曙㩋暑⣓㓗⿗嶣䨎⾈˼乿ↁ緋٩⏛Ăᲀ㓼傋尨殘ヴ积థ⼭爟ᩕ䂬㑜Ⲁ堨∀磦Թ䀫妮࣫⥗憙㘆⪈ᙔ擽㉳磰੻と਀峑獞㖢▂嚿䬠栮䁓ਣ曏ਰⳳ摕ŠѦ戩๡ᢡᇸ岡うहᏑᤷ㝒䭍㉵不ਾ塴৐㑋㎈ރ校ᙐ焄䁔ࠄ另㴇哹ോؑ⽥噤瘎ᢈם堷㳓奉౿˯㴓ᣅ狑㘃;澃寷㲕ᓋ␽㥵⎒籺嚎❣₍拵ϸ㷛佩㫔␗ᵇ畱爺烥ࡦ乡撱ॸ匣牕Đᥦ၌̀瘬₈Ρ☣)ơ栶∏ᦅ甼疮㓯ึᑼ䧹㓰ᖋ䯚㦍㸐㉾栌䐠穣䩐ᠺ䔤Л❂捌⿴䒠〡痢ۻ䨣ჩ熯ุ⽂ᢠ㩑沘ཹ埥棸歨桓刑奺ত⍫Ⳑ䄢࿁檆â愲㉬ⵟڢ⡧ᬀ奔㳚โ溃㥬戀堺⤲ਣሺ∲㔡⁢޺⪮ₘ仠堪ଢ䳁破Ųϓ碉൒垎瘪ᝀ㖹∼忻Ღ䜧㮱棏Ᏼథ屙ឳ氠匵݁淚Ꮄ䨤唊䷉窻ṭᴂ݌冹㖵੧ᖴ䕪咺䫠㪶ᰢ傁䘦巄#ᗬ̑ੑ倠Ⲱ⏠'検ࡣ檠ܰ䉃ϊ!⇀⛂欑‡ᔚಈ=⌡戦樜ᛡ畨ሊ冢恘ٔ⭳₴΋䚴ㄩ໵篙㍨ᰧ⫛䀺㈅䥀ॡ⎱ღ墡瀶̀ㅫ⑼䚾Ჯફ⡡挶ၓᲣᩡ磘甓㢳ࡾ猹ㆅᶂ汷挌⇤瞰擽࣫崡撚懯೫摠獛甶⠛线稣 湤ࣹ炇尯Ԭၗ㏀⤸ၱ晞ଌ捗慡᲍ᄈᢤ塗狢઀‫䅜儮Ⳗそᨰ֤⡣ቡ՞㩖掝䁾丨㲪ぶ纈愰䫍☭উ倵´崣扺ֵ㔩噈勡Т傦Ạ䊯攀坕ứኁ㈶硚声瀠檀ࣶ䵱䎺挃†ρ⁒ὃੑ␄࿁䰸䜘ހ嵻咚埋?Ⱅ䢬悴౧䎺㌨ᝣ䷙娐㺣ھك⮄ⷌᵱ䰹䁎ؖᓐᙳ⒳<Ƹ瑓副徉࢞♰羻ṝ倱ᨺ᎛挠無ⱞ໡戼惀ຖ䀥䵹璤戝ⱕ፶㗂枫㎯⡠ 㷉ᮔ㱅䉰嶾҉҃睹痾尊࠱汜泈䟛戙枤䣯䮽ࢢ⎴㺷撚䞈纯琤₩墺吶Ꮐ⥝ፔ㐺⠻䜘ឯ磠俱䗠屡዁亄剗形堤ᄏร簾埾䡍⭷㗣㉄䮘崌晭渄㏺ᒉ៹ΐ⣠疒ⴺอ߃࠯䃗ᥖㅕ≴䚊曁ǭફä{烘寫埡䭰咍檎淬槠泼咙咖ᠰ孮瓗⯐␺ᰢḻ⚎ແ琡垠盄᪃㇁湆嚹䰢䱈奩⣿璽懄磁ᩦ䞙岙㤴⹠ᚅՐ撦䕣੠冠䆓ບ扁ζ汞ૼ䡤ᙵ⦌屳╋䪙♵散╔烬㉧眍䦿綁✃ϋ綧《ᜮ掮嫮ĉ梦㧽姐攣ឹ㮏ᤅ䘉朜⠥₻滙⇔㎷咚⟐ୄ巎㬗ⱁᲹᎍ㾝寻叭☰媄澯⳿梒仉燝想㧳塆䍮眛⼗圬濋懰゛嘋寀⭳ဠᣵࡠ搤䁃悠ㄲᇈ㬠ᙳ㗧汾⣘䉩圑ぺ煯禫旉瓑恏宕㺬勊Ⳮ潍栂こ⍯㰉↥Ⴉげ⤺ᮤ兗ᖤ䬌基味䯈傓㦍ମ潄䁈ט⤞ா疠♔摇༓ᓈϧ璠䒃䙙㸤俥ॊ瘫榯穜俌㦿岗℘磞䔅㻊Ḏ㳺嚣澆櫽⻣束䎤〻䰤ᭊǷᶋ喥䬻㈟⣕猂䃯繠唡ඎ厳䐼ឯ൬䢭Ḭ〯綕㍰̠₏噤祱ᯄಣࡔ␆နࣆ❾兽䮍構㮛嬆儍䞄ⵈ憽䳔洊᥇焖咁搥⮅爓䚐̌契櫌䠤反㠹歠应㭃ឝ䨼唸毂㦄࣋䅍㯉䅭㫞刽㜊睼砧怄䈇㶍桞嵭᠁佯㬋吕䃃眼ϐມ㰧ἣ稄ຜ烇捕͏֤݀⠼⎽嶩ⱁ侄᪈ⷽ忀㌷ҁ䜜㢇䍷ᩎᦡ稩⡑᭩偂䄿紦ᯟ妬ᆎ捍䌟勍善အᮻ࿢>₂ᬄ传緇䁊᫩凍㽈烶姡ǽ⸺ֈら䑀ี伯櫳ዽԾᙛ䬹哭刮㍫ᬤ۬․க穙圝㢂猢ᡷ忠ㆍဿᨸᕼƆ晖䒥䱃憊捨堭ῂḧ஁䜭䦤⦋焟ܤⶂ℻䮕刑䕂Ү䣊ᰈᩂ㲏Ժ堩囁疄睼䞇嘩笅款孈⿍ᾠᬰ䄭圵䙠╙࢛ෝ㙣瘵ਖ਼X⹩儰炙ᦍЈ䂒ŧᢑ倽数叠㐭䉂年叭ᔣ枋੬Ѩ䡴倳¸⑀㶈䠸䓲΄Բᠵ㘩त叭窨⼿嬺ဌǆ䁀㯗ᐢ愂㐨㥣剕㵩⼤㢦ȢᏣ䁊慴Ù氬ᐾ≴䕰ম䠬歧喥㸮㚌Ѷᒜ椁Ὤ㭯䜽ظ㽢㭏喝ᐵ涑䭟។梤␬ɐↄ玢惈カ嶢ඎ᝹殠垣烫ᜣ䣎偣݁嵓䦎䌄欁䄰Ⰾ䩢⼄炻䘻宔ȋ瓜䙩ཬ圄ಹ՘⃃樽Ⴝ㢦㾹漍䣉ш⯽眳眮⠛䥓呂䳇֞䣂溬⑍ㄲඩ損⁊堿䪩प₄Ⰰഡ⌢扔䆴Ⅼᔻ伵ࠇ劳䘍ښ㊞ᒥᩧ瞊稉ߡ瘂*୒ড়㉆ᭂ⩭巜㼾╙堢㪵縂ӝ∰஑㲽䂞⟯ࡳફ僳冪⊁惃\\Ū♲䋎崐⥄ஒᔬᓝ栃䉲䞲㳊↲Ⳉ᠁唳ₔ㏣崰缫⧀Ⴀ⇄൷窥层匷畺┰̡羼怾Ġ☽㵨攛䱑္䵡䎭౲栮᪊Pᥐᱬ㙳㎬᪙䔬幢噳姩ӌ◠✳炶⦜❂㴣䞲┎抖䎼㪳⃪⏠〬䚽繡㣌喐Ꮞ奮ѫ䛳匇㔞ٚ㣭亴䅭檨㷳戵瓩ݰ塒圷჌撳ݓ熿ɔ旘㕢怿ᄜଆ㭢㩹౒ͱȩⱮ嘮઄ལ㤬⭜⅄✰䤥ᥞᅖ㗼梆沰⼝帹̱ࠪ䓍欼恔ñ䋌㦂@ᙬⰝ㹾ʢ塩仫Ĵᎉ᪩屬䖀ଘ憄㽝放㝸፦╣䔹㽭᡼⭋瑆ഊ䜜ᛂྯ⢯ɔ⫬ⴶ᢯ƙ⯃砋棹䞙埭溲ᣦ寵㱊ጹ羉䝥妁ẏᢤ墬➀䬹ࡴ孄ⵋ欼ଟ槱廀ᄤ䫸囅⡂䊀⒒獍㉭⭶㣣ᄵ㧓奿瓛䑓ȃ判碷䞮㸃掉磏㍭叜缹╾積堳㩊Ҿŧԫൊ穥ʁ㸣籆⥃べ₪䚩ㄲែ≡氉≌ˁⰊ搣笌᠝⼪稰㭂ᙴᒫ侵へ暊師愅桶✠㟈ᚄぎ䊴ㄫ揧纝玳崓ᮺ㚍斄ѳ礯崛朾⺘㊵哶ᑬ䒁ᱹ␺Α㦣㿦㓖ٮ勲䉽㓟灎侢漠ჩ៎婫⺻ዼㅼ史ᬋ⣍㩦㍫ݴ㝕᝛䵺场⪸杉⋃冱೘敼ㅓ睈ུ朽⟽Ӽ⚸撉⬂禺噊寀ར㈆䐠ֶ⫓団䱒䢥೹ȥ䰤⥒୻ᜱ⣈Ψు䑉沿㡠༑俁㫹ॽ㢵弶╹宗庍³┡稊ಐⲣᘻv܊ḋ碪⤗䆌䂼౛悤˕ଧ擫擳㬒㮿⛍ㇾㄓ䳽ᒼ⤠  "
   },
   "outputs": [
    {
     "data": {
      "application/vnd.jupyter.widget-view+json": {
       "model_id": "b7f87de9b96b4fa283e6c49c3b4db4e5",
       "version_major": 2,
       "version_minor": 0
      },
      "text/plain": [
       "PersistWidget(data_values=[{'__id_column': '1', 'Name': 'chevrolet chevelle malibu', 'Miles_per_Gallon': 18.0,…"
      ]
     },
     "execution_count": 2,
     "metadata": {},
     "output_type": "execute_result"
    }
   ],
   "source": [
    "df = data.cars()\n",
    "\n",
    "selector = alt.selection_interval(name=\"selector\")\n",
    "\n",
    "chart = alt.Chart(df).mark_point().encode(\n",
    "    x=\"Miles_per_Gallon:Q\",\n",
    "    y=\"Weight_in_lbs:Q\",\n",
    "    color=alt.condition(selector, \"Origin:N\", alt.value(\"gray\"))\n",
    ").add_params(selector)\n",
    "\n",
    "PR.PersistChart(chart, data=df)"
   ]
  },
  {
   "cell_type": "code",
   "execution_count": 7,
   "id": "60180e45-60d1-46e6-b98f-2e3ae68a9ea8",
   "metadata": {},
   "outputs": [
    {
     "data": {
      "text/html": [
       "<div>\n",
       "<style scoped>\n",
       "    .dataframe tbody tr th:only-of-type {\n",
       "        vertical-align: middle;\n",
       "    }\n",
       "\n",
       "    .dataframe tbody tr th {\n",
       "        vertical-align: top;\n",
       "    }\n",
       "\n",
       "    .dataframe thead th {\n",
       "        text-align: right;\n",
       "    }\n",
       "</style>\n",
       "<table border=\"1\" class=\"dataframe\">\n",
       "  <thead>\n",
       "    <tr style=\"text-align: right;\">\n",
       "      <th></th>\n",
       "      <th>sdfs;</th>\n",
       "      <th>Name</th>\n",
       "      <th>Miles_per_Gallon</th>\n",
       "      <th>Cylinders</th>\n",
       "      <th>Displacement</th>\n",
       "      <th>Horsepower</th>\n",
       "      <th>Weight_in_lbs</th>\n",
       "      <th>Acceleration</th>\n",
       "      <th>Year</th>\n",
       "      <th>Origin</th>\n",
       "      <th>is_selected</th>\n",
       "    </tr>\n",
       "  </thead>\n",
       "  <tbody>\n",
       "    <tr>\n",
       "      <th>0</th>\n",
       "      <td>1</td>\n",
       "      <td>chevrolet chevelle malibu</td>\n",
       "      <td>18.0</td>\n",
       "      <td>8</td>\n",
       "      <td>307.0</td>\n",
       "      <td>130</td>\n",
       "      <td>3504</td>\n",
       "      <td>12.0</td>\n",
       "      <td>0</td>\n",
       "      <td>USA</td>\n",
       "      <td>False</td>\n",
       "    </tr>\n",
       "    <tr>\n",
       "      <th>1</th>\n",
       "      <td>1</td>\n",
       "      <td>buick skylark 320</td>\n",
       "      <td>15.0</td>\n",
       "      <td>8</td>\n",
       "      <td>350.0</td>\n",
       "      <td>165</td>\n",
       "      <td>3693</td>\n",
       "      <td>11.5</td>\n",
       "      <td>0</td>\n",
       "      <td>USA</td>\n",
       "      <td>False</td>\n",
       "    </tr>\n",
       "    <tr>\n",
       "      <th>2</th>\n",
       "      <td>1</td>\n",
       "      <td>plymouth satellite</td>\n",
       "      <td>18.0</td>\n",
       "      <td>8</td>\n",
       "      <td>318.0</td>\n",
       "      <td>150</td>\n",
       "      <td>3436</td>\n",
       "      <td>11.0</td>\n",
       "      <td>0</td>\n",
       "      <td>USA</td>\n",
       "      <td>False</td>\n",
       "    </tr>\n",
       "    <tr>\n",
       "      <th>3</th>\n",
       "      <td>1</td>\n",
       "      <td>amc rebel sst</td>\n",
       "      <td>16.0</td>\n",
       "      <td>8</td>\n",
       "      <td>304.0</td>\n",
       "      <td>150</td>\n",
       "      <td>3433</td>\n",
       "      <td>12.0</td>\n",
       "      <td>0</td>\n",
       "      <td>USA</td>\n",
       "      <td>False</td>\n",
       "    </tr>\n",
       "    <tr>\n",
       "      <th>4</th>\n",
       "      <td>1</td>\n",
       "      <td>ford torino</td>\n",
       "      <td>17.0</td>\n",
       "      <td>8</td>\n",
       "      <td>302.0</td>\n",
       "      <td>140</td>\n",
       "      <td>3449</td>\n",
       "      <td>10.5</td>\n",
       "      <td>0</td>\n",
       "      <td>USA</td>\n",
       "      <td>False</td>\n",
       "    </tr>\n",
       "    <tr>\n",
       "      <th>...</th>\n",
       "      <td>...</td>\n",
       "      <td>...</td>\n",
       "      <td>...</td>\n",
       "      <td>...</td>\n",
       "      <td>...</td>\n",
       "      <td>...</td>\n",
       "      <td>...</td>\n",
       "      <td>...</td>\n",
       "      <td>...</td>\n",
       "      <td>...</td>\n",
       "      <td>...</td>\n",
       "    </tr>\n",
       "    <tr>\n",
       "      <th>401</th>\n",
       "      <td>No Assignment</td>\n",
       "      <td>ford mustang gl</td>\n",
       "      <td>27.0</td>\n",
       "      <td>4</td>\n",
       "      <td>140.0</td>\n",
       "      <td>86</td>\n",
       "      <td>2790</td>\n",
       "      <td>15.6</td>\n",
       "      <td>378691200000</td>\n",
       "      <td>USA</td>\n",
       "      <td>False</td>\n",
       "    </tr>\n",
       "    <tr>\n",
       "      <th>402</th>\n",
       "      <td>2</td>\n",
       "      <td>vw pickup</td>\n",
       "      <td>44.0</td>\n",
       "      <td>4</td>\n",
       "      <td>97.0</td>\n",
       "      <td>52</td>\n",
       "      <td>2130</td>\n",
       "      <td>24.6</td>\n",
       "      <td>378691200000</td>\n",
       "      <td>Europe</td>\n",
       "      <td>False</td>\n",
       "    </tr>\n",
       "    <tr>\n",
       "      <th>403</th>\n",
       "      <td>No Assignment</td>\n",
       "      <td>dodge rampage</td>\n",
       "      <td>32.0</td>\n",
       "      <td>4</td>\n",
       "      <td>135.0</td>\n",
       "      <td>84</td>\n",
       "      <td>2295</td>\n",
       "      <td>11.6</td>\n",
       "      <td>378691200000</td>\n",
       "      <td>USA</td>\n",
       "      <td>True</td>\n",
       "    </tr>\n",
       "    <tr>\n",
       "      <th>404</th>\n",
       "      <td>No Assignment</td>\n",
       "      <td>ford ranger</td>\n",
       "      <td>28.0</td>\n",
       "      <td>4</td>\n",
       "      <td>120.0</td>\n",
       "      <td>79</td>\n",
       "      <td>2625</td>\n",
       "      <td>18.6</td>\n",
       "      <td>378691200000</td>\n",
       "      <td>USA</td>\n",
       "      <td>True</td>\n",
       "    </tr>\n",
       "    <tr>\n",
       "      <th>405</th>\n",
       "      <td>No Assignment</td>\n",
       "      <td>chevy s-10</td>\n",
       "      <td>31.0</td>\n",
       "      <td>4</td>\n",
       "      <td>119.0</td>\n",
       "      <td>82</td>\n",
       "      <td>2720</td>\n",
       "      <td>19.4</td>\n",
       "      <td>378691200000</td>\n",
       "      <td>USA</td>\n",
       "      <td>True</td>\n",
       "    </tr>\n",
       "  </tbody>\n",
       "</table>\n",
       "<p>406 rows × 11 columns</p>\n",
       "</div>"
      ],
      "text/plain": [
       "             sdfs;                       Name  Miles_per_Gallon  Cylinders  \\\n",
       "0                1  chevrolet chevelle malibu              18.0          8   \n",
       "1                1          buick skylark 320              15.0          8   \n",
       "2                1         plymouth satellite              18.0          8   \n",
       "3                1              amc rebel sst              16.0          8   \n",
       "4                1                ford torino              17.0          8   \n",
       "..             ...                        ...               ...        ...   \n",
       "401  No Assignment            ford mustang gl              27.0          4   \n",
       "402              2                  vw pickup              44.0          4   \n",
       "403  No Assignment              dodge rampage              32.0          4   \n",
       "404  No Assignment                ford ranger              28.0          4   \n",
       "405  No Assignment                 chevy s-10              31.0          4   \n",
       "\n",
       "     Displacement  Horsepower  Weight_in_lbs  Acceleration          Year  \\\n",
       "0           307.0         130           3504          12.0             0   \n",
       "1           350.0         165           3693          11.5             0   \n",
       "2           318.0         150           3436          11.0             0   \n",
       "3           304.0         150           3433          12.0             0   \n",
       "4           302.0         140           3449          10.5             0   \n",
       "..            ...         ...            ...           ...           ...   \n",
       "401         140.0          86           2790          15.6  378691200000   \n",
       "402          97.0          52           2130          24.6  378691200000   \n",
       "403         135.0          84           2295          11.6  378691200000   \n",
       "404         120.0          79           2625          18.6  378691200000   \n",
       "405         119.0          82           2720          19.4  378691200000   \n",
       "\n",
       "     Origin  is_selected  \n",
       "0       USA        False  \n",
       "1       USA        False  \n",
       "2       USA        False  \n",
       "3       USA        False  \n",
       "4       USA        False  \n",
       "..      ...          ...  \n",
       "401     USA        False  \n",
       "402  Europe        False  \n",
       "403     USA         True  \n",
       "404     USA         True  \n",
       "405     USA         True  \n",
       "\n",
       "[406 rows x 11 columns]"
      ]
     },
     "execution_count": 7,
     "metadata": {},
     "output_type": "execute_result"
    }
   ],
   "source": [
    "persist_df_1"
   ]
  },
  {
   "cell_type": "markdown",
   "id": "33d88224-c199-41e3-9c83-05f75d9a013a",
   "metadata": {},
   "source": [
    "\n",
    "You can see that the output area looks different from the usual output for Vega-Altair. We have a toolbar on the top and a sidebar on the right. The toolbar gives us host of interactions we can perform to manipulate our plots.\n",
    "\n",
    "Persist keeps a track of your interactions and stores them in graph called provenance graph. The first tab in the sidebar titled `Trrack` visualizes the provenance for all your interactions in the cell output.\n",
    "\n",
    "In the second tab you can see the text summary of everything you have done to reach the current output state.\n"
   ]
  },
  {
   "cell_type": "markdown",
   "id": "b74296c9-2e95-4cc9-a343-5b714c28e39d",
   "metadata": {},
   "source": [
    "#### Interactions & Persistence\n",
    "In the next cell we have the same scatterplot, try interactively selecting points. You can repeat the selections as many times as possible. Try clicking on different nodes in the provenance visualization."
   ]
  },
  {
   "cell_type": "code",
   "execution_count": null,
   "id": "395506b7-7f57-4c0f-a7a8-8b49de034d5d",
   "metadata": {
    "__GENERATED_DATAFRAMES__": "ᯡࠣ䅬Ԁ朤壠ᜣ琢〹夢゠⹰〮⁁䁻қ䚾ኊ㇠നСࠩ瀮晼Ƭ穅5愠៤⠠ ",
    "__has_persist_output": true,
    "trrack_graph": "ᯡ࠽䈌ʀ匦㢠⹰໠ㆡءゆᧀⴠ䘡ⱐʀᖠ暒ʐ௜禤ɐ湬ᑐۧ⁓㥌≩•ⳁႧ⛫侸䳅ක䛬汙㬐ਲဦ䈠ۣᖬǉj࠰|∔怣㣣ט䈲曽䡔6ㄦ倠➇ሠ᭠௏偔㪹ဠച㒀䙕䘪/ጢℰ儂煢爴ᄶ#䜳柰˸懌ᣂာᡄᛚ晁ˬ⁧畸嘠歪䙀㟌Ḱؗ樮尘ᢈ欤➄␮˳ߎ堢㰠໋㝿㹏㎂ق猐㢁䶰′⤴㤴ത䯤⁁⍰䪵擴繦೩ªѡ燈埆ૡᄂ嗞䇖泄⒬ʵⵦ⒘戤ӌ坔䦡愐䉉Ţ冈سˠᇸ乗ߤত⼺%㨥䄳䷣ᎃ牜⥨⛈ⓒ㍩┈ⁱ䠠 "
   },
   "outputs": [],
   "source": [
    "PR.PersistChart(chart, data=df)"
   ]
  },
  {
   "cell_type": "markdown",
   "id": "4d4aeada-9b5f-4655-8c9a-fca92ef5ccb8",
   "metadata": {},
   "source": [
    "You can run the next cell to see and see the history already populated with selections. Persist allows you to save the interactions and loads them the next time you run the cell. You can use the first two buttons in the header to `undo` or `redo` your interactions."
   ]
  },
  {
   "cell_type": "code",
   "execution_count": null,
   "id": "af55dedf-be3b-457f-beb8-6c95e244defe",
   "metadata": {
    "__GENERATED_DATAFRAMES__": "ᯡࠣ䅬Ԁ朤壠ᜣ琢〹夢゠⹰〮⁁䁻қ䚾ኊ㇠നСࠩ瀮晼Ƭ穅5愠៤⠠ ",
    "__has_persist_output": true,
    "trrack_graph": "ᯡ࠽䈌ʀ匦㢠⹰Ӡ✡䚈ჭ㐽䁍ٔÐ㑔䃬8ɒୠ᭞匨҇⻳祭张㌠๔⡩•⳦Ⴇ⋫䁸䲥㖚䙌浛㬗瘺ሠڤ-孛ಃ⑀´၀Úಡ䀦熦आ㛣厬6ঃᐠ৽撠۱\"壁永粖ႻԽщ⊩⎂ࢤ瑔≈ʛસ匾敇゠Ɣ䛦圫ርࣣ਽䟑䅠Ȅ恨㪜ൟ⑦䊯䏃ᄸƌㄖ沑ࡖలൟグ䎖ᇣ啀癛U岛ళ墬吢粬߫ƌٝ䄽㧗ɹ䋯氡Ḡއ䳟䘣Ϟ碠␾Ꭵ曢⳨ࠪ⋐剜ᤦ䍨栢పᓀ桱̿䍂ࡈ¿ƣ塬­ʫ墩Ꭽ甙Ⳮవ嚘伔冴垪ዩ⩽ᓫ㋙㹰噉⣅㥶㊤摬䉩ᛥ姄٫ᇩ犤Ŵ万礵൬柈搠㊥䰓㓀!+ᐫ怠㻇氶ᨠ煐㣪嬊*㸷⿐⃚潠ӀᦕZ䘡အ暞㶸樧෦㬮ߕ⡬Ⴊኔ嵜಍檑櫠䲮˴滞hᔩ嚱ጽ䛠傔ἦтথ攭ށ‼Ⴆ3㉬ᨯኂ㉷ᔦ㓻帧㮳斲じḨ䅃䢴ⴡ䚂堼ᜧ䐂тᢩ冈畽཯倸專ᑪ䏀♳ೢྺᛍ૯᳻㘰Ỡ牛溇᳸ᓛ⻗㇨採⑐4⁂⊎㯈Ԡ⁷戠wᠨή㸈禉௡磞ࠣ渌㾢ӡѪ@㯥ㅢ㯪ぐ㏤㄰徥〠㴥២⁈ᙐₜ཭㕆㍙梆঱墎གྷѩત䙅ໂ嘡ƀ吰䏣бក桘獈㏖׍⑙⟠Э٤㣉Ġ౨â嘴䩼ࢋ≂㉑༃摡䶹ۍ⎡⚬ݔ囑䇔秞 瑜ڥၩᒣ偱᧗偮⃥璖⺢偃ᴷ䉈ྱㄘત汞忴ۡ䰥܁䉂䙑仩偬ᒡ㚙ຢーঠᠩ䩆◉㵉౹㒢デᕯ⥒፪㤌⽫øኁⅴ⚨曮塁⤦ᆨ楰୭啀᢬㰰ᑂ㕜㶅≧癮`䠶ਣ崁ᐡ䶓⫡᥆䳴嫶喂曧䵱 ϼ䧡⬺悕◖㔤⬲ᐦ⃤ᦦЩ刘巜ࢠ垨癲⼥⚌́㞤筑杙᥍撙岴䎙筏搥岨⌥睟ƥ檼ህˍ᠔招ᐸ䓟ᓅ咃ᒵ㋔犼仍║㦧哵ᵄ䟐悤נ㼸榱ᇞԢ㚸ቱ⿑眜羰࢘次孢䇡₮攼㧈⧳⋮ᴡ㰈篶凘灮䏾˨墶氬塶ⲭᓶ㫡奖᛿ǖ氣娾䤺₠斘媶狠≶ⶖ婄嶈ₙΝ宀仩抸猥皊㩇⠺⍬撍⭆柺ᐦ䇦嵶䂚潷棽ᣎᑦ㭸ᔐऊ䃩簩ᤸᓿ嫱浫ᨤႬᏌဪϖᨶƄ⨠₀䶛Ď䈮嵤䛣ʩ≩䆸ᐽ䃰઻嬖哺ዤ晬⣄㐭ቪ๦⮒դ勤Ź㣲嗭㌔纾ࣖ娨⃦緺㋬握抾淞焸䯺稼䡜牞प爞恝章濷磞ࡢؿ停ԡ㯭祜塃瞉⑈䖑呆ᩄ斤〧׎ඪ⦾䨭⡦ᄺ߲ね⊐౤琹ʹ䤣Ꮃǹᡶ͐冦Ქ‵⩬ⱼɉ廢瓟⭠䰥䄘ຊ␲䅔ڣ࠭ᵪ䬦眼ᠩਧ惢ड〷䋄Ṣͭ哈⸤绕װ⌯⁛ኀ罆狰欭Ⅰ䎩勈䁑ؐ䄴䂪਱樺ᆐტY咚ഡ泜䨣⮷㤶旨⢭懬⨣Ɀ䉨䃫ࣕ步᷷ٴ࿱凌憸ᶣ汏̜嫤咍䒰窫Ⴇࡡ⨼燗⬵睶Ʉⵛ㱻ࠑᾬ⣎凑帱ǁៅํ㔣䋪㛕䫌㮨冐佡⌽ᅰ搴ⅾ౲㠥剽䒤䂮撠睒䭅媀ଲṋ煦ᣥ穉䜣֫∠䵱ರᆼⱲن‪ڠ摪ʈ㥠ひϨㅏⰸա斶䄡亡䩉°ݑ?䐘b暜恀˾↧ॡ䝊䉮ڡ亍޼㴦გ東悥ȏᓙෙ㣲™场瓀㬆妭泽ⷹ䁛䯘⨤ᄪওᜪ爙欋⼕搫Х峰ෙ䆗㢛⫆筶垈羊㉍ᾲ⇩ᷣ姲⎭ͧ⑯䞛咬㹫ೄ卄優ᅓ姡屟㬇⚄㴢痬ࢢ¨䁁䶫峤咁᷅ʷ㬤りͨ⢯䁱ࡅ∧喈̡⩚䜆㾀孵㝶ᮉ囵侍疱墽彺ෑ嬘ଇ㑕摠昉峳አᤧᑠኃ㞱灌἖Ⱓ烸␋夛જῡ碿ᬘ忍禞ဆ檟慎砎痏洜ᬪӟ䈲᦬䉁㈷棔ᗉ䂾䨖ᔢ婄⏢⺥ੱ䥐浉⍂哪泄ᥡᛃ㿠⍈㭤玒Ҕ磭ദ⻦䋆䙅婴旝ᨺⱇ᪳䛧ம䓗༱亴䁭呻⷟౛㻆⮗㝱⾊䕈䡮竿䵅೻㣽෻⥥࢙㒬䜲榜涰ᠬᠸơ␫ႀঠ⾈声ഁ䁔䞦ሯҼϠ儦のᎀທᬼ网䡙ȼ䔪᱊ř樺㣔ຒ瑂炕ড㳄ѱ平簢占䋔㲸ᑶ㮤吩Ω䫹⫠ễª塈曯䨰椬䖉ƪ稺䪹⮵屟䍊䘌嘧淕᜴牡ᜧⷃ婎®㄁▝僛哉ᲗҴ崴ㅧ㊅㊼疊紃䱥椱ኯނ`偒ᗰئ䥔تฬ⡤࿫砫â坯䨸䌗⫊堯䠰⾹⼐怓࣑䮡㔶䆛ʗُ佺┈☁峋浓繠ⓗ䓹晓啌ᨆƃ猕寭ง栋࿢ᬣ㼘䎌慦曣Ĥ妭ᡇ෧₻⴩᯦╗ᒐ撆暪ඁু䐷ⵣ僺弦殈ಕ燉㚎伪仞吱䋓ⷔ᝺穜嚀穤桕⿎橴伀亽䳼毹嫶灌堓ⱙ泍)⽥き据ŏ欵壷嗄㙪睦ᢎⅨ䲬Ը㋉簤孛喳慎㬃嗥梃ҩ睹掂濦刨㰙㱶ᅗ䛉ⷧ嫤温佻㛆⻼㭝勦䇭匓Ⓠ၄潭乧䍴㙮䗗⮕ၗඉ向⠼છ⟝桚渒䶱䪷ا㜮槁噔㢩䚞異➐悚李㥣⻲⌠琫ဨ߈纉琴ਢゖ䠀簧夿咓㳻稧ᴇ罨孼瀸䮛伣ᦃ⣰㢡瞈愄檠ᓲ䲀઻⦭ᩈ罌ቌ߇繤窋­ⱜ幋犽⧊捷ⵙ埚だ㬐村㺬搠̪模挊㭍㫐ᙷ汶଎劐崓Т╕嗰㹆戶Ҍ刯效㻠儹नᯘ倦Þ兆眡♓⾓ၤ㵹࢐䆥┭䣺ධغ戊ᡵᨤ啎㣝殥㴦ƍ擏䴏澓愕⯪இ氋៹砶䈀㽌〚䀷ۤ实眝ʍฝ灱ᰟ孍Ⳡ㣠䁗қ嗖㫉娱琑㼞翊ᲅួ䬝倕穛⸒㮠瞲沛冞炏窩ả囡䁁䖵⠡⁃ࣁୋࢫೠᯛ䤬෉‾凤溗灎㌓廠❆㥟欫଄䂎ᙛ䦡婸佅យㅀ૤猅ࡀ碧䶽ȩ⁨碐ٜ⢯ཤ礻א攡ճ〻唢攌ྑ⢀㱝堽ླྀ簀⥜䐷ḳƂ䆬㣇吳竔唽皤恴犰ޭ珊筤燰Ꭴ吪乌僀ᦵ姭睩᪒婭缀ှ¬ט夫ᕬήᬠ椧⹔又੩ਵ1Ȁᱤ樏湣㯐ᅭ䜊坕䯋孬嬅㜣ᨋ䋜曎玊秏ᆵ炯⽇⢾෽䆉画揗䌁ḏ疈嬗塕縆඀ᅅ傜⦆ὔ够ኜ䵣䭲㍵᎜䶃Ɣ㡬岈怩ᩋͭ̉獢䶅剽١᰸▍剝ᨈ嘨㩃Ϧ䛠Ⰴ⣓ㄏ䂔Ἇ灪䓨จ㔾䭚䗞叅㽯䨳ࣙ῅ṩᑬ㊰៨㮇ᆝ婃੐尪愼࢐䝀㛍牱խ咙䧤牒ǩԡᔮ⪜㣄㌜侌≲䖿冥愯棾䨬㳥䌵ࡱ䞬⋄箋䝂㋄䲹㵤➍磝垝䏎報Ԩડ⬷孥䧅ᘰ⠩䙌凰຃㹉愱դਃⰍ嵧孿䊄 卹⫀㸹ᢃ⹅ᣩố夤䡂΀ᶽҮ㵿磓䀢䀳昰ࠓ堔䋩㥠ᦫᜅ₅ᙧ䩡乸檣筃Ɉ㸸⪉ⱕء卣 僰⥠ὣض䂑੢䳹᲼傾⒨ྲ娵ࡡ⟗ᡲ撊ᓒ媛ྉಃ㢆᭔䔼䓂䁴玲台䴰买珂έ瓄䢒⦩嵜‣睙؛堨㶢㌹ȧ䊣栶ཌپ亢砸猢݇墢⛀庇շ䫴冨妜ʘ㐡㯨ୗ⡾࿣廎ମ祿ੌ㸇㹐䙟ᄼἿ⪯䰁‫⢤䝆䚜寉洣䛍䨍㧎᭰㣺嚂㹄䥈⓺䌜⮅䴪旕冥í㬶棵䎕伷䭴䞶❤℁᥊婣ᬼ༺ੜ㬖㸳網泡撄㒉悰ᣀㅼ㋥㌅ᳲ晃䔍䚳ॊ摬䏒征ᶜ㨖℃漸ᄓ奎嫓梮Ӛ最䇓䠾峢㪄䤜ă哳笣垓ṍ歱服幥烩᳘⒎⸃䠊糎ӹ̒ፈ岫䝎␸梦岠ᙞ㒄篃㼺̀২焤‫槰ᱜ润ⲂℲႠ㋇㾞ςᤰԦⓣ䡲㐢㿈ᘫ䠡呸㝂ͩぜ䈭佈䃤=弑䄧ゞ捲㚫䌅¦║≼婡䀰ጤ᧳僉祸⬜䄵Ë㎄⢢巙ຎԵᄠ  "
   },
   "outputs": [],
   "source": [
    "PR.PersistChart(chart, data=df)"
   ]
  },
  {
   "cell_type": "markdown",
   "id": "93deef8c-35fa-42dc-8024-7ced08ca10a0",
   "metadata": {},
   "source": [
    "#### Categories"
   ]
  },
  {
   "cell_type": "code",
   "execution_count": null,
   "id": "25ca123b-e2d5-4c90-b167-0efd63e14c15",
   "metadata": {
    "__GENERATED_DATAFRAMES__": "ᯡࠣ䅬Ԁ朤壠ᜣ琢〹夣゠⹰〮⁁䁻қ䚾ኊ㇠നСࠩ瀮晼Ƭ穅5愠៤⠠ ",
    "__has_persist_output": true,
    "trrack_graph": "ᯡ࠽䈌ʀ匦㢠⹰ˠᦡᰤム晈ୠ‮⻅ॠᆡǸ䝿䙂栬㞍Ìഋ偦ᝄ倡ᙰ䡣厃摂⹲䛝⎆嘼Კ砪ࠣ℠΀ࢍ⌯≠ኤРᜰ嵐üム湁Ý㮄ච֨廈GᎲ;∠㍦凰≰⡤F᝕ๅཥ扇Ꮷ抩㢈㐣ػଷݦ慠ǐ䀡㫚㴧ল·⛤ࡒ壡‡犀⑌㼡ṅ༾⽎拆琡㙐⬣ヘⰲ͕㄰䄖ၢ㕀橫U䊀怳崪吢綔߫糖ᖢᶓ㜤妣䵸Ŝ.⟷ྫྷට㜑ĳᲾ㶠敓၀ᢢ⏃扰ᬫ䁓䩸ᄮ䃃㉣⹨䃠ಐ優ˣ䩅⸭䉑㠤᏷▘㸲୦Ήṇ͜璫⊈ⱡቨ劉ٷ˨犙Ũ光䪵㡒ඐ≱౮ᑫቴᝓᛪ猙ⅸ啈⪾↸挤䀠₴Ԡ(怸.灗਍<愠Ѿ͠๠Ë恶ǀس名佝␪紉殍威礜䃐⻒沀㩉ʦ慈⡏ۢ冐ᐡ䆶僸没Ϣ惸ɳ๰ᦆ䶻悒㡼䥆Χ憨㈥ե倸♌ૄ灔繀䐽㗺⺺柰ဦ剶▥䑐䧔歗Ȭו䛱⳶෎䷐䄖α枓ᷢÅ涩嶮崼ف䀠兜䠋徢倨ྒ!⺀☘烼Ẕ珽甘䁅喧昦䇁⠢Θሰ⎙ػ݄Ά✐ሠ߄匀␳桗帐婐Q㱀ഇ纠㗦ǀ㰬繰㗦䆰坠Ⅸ≦傱ᜦ๼रႈຣ⁴ἵ恤ᬵႴඥ儔⃠ၸᲠ䐸㭢愲ç檾©䅛云纨㐁ਂ屯溌.∞䛷⇭ᵬێ᧰㴎䘐㊻ᰅ紟ဲ墆أ′੢囒ᛐ⠭奦㚼ᵥ焍䡠溕ᇣɸΖᡱ䙗燘䅒♉䵐晄᭕曘ὔᚓ౰䚡㙑్ׅ⛄ᵔ曱⽕急嚅呦ǅ㢚僶᪆䀮ⳋǱ欖䃲堰ᳶ榖䧱㨦㷂窖ᇥ穾᧊۞ῢԓ剠䔘ມ僌£ヌ㕄హ᳅劬᪠恰ԣガブ拵ᝡᙣ㳐䩌䶱䪼产␪侶⪢䵴哭ௐ瓽ះ璩⒙㒣๓ຂ享ᚕ⳷䦑⺧ሗᱻ䑢崇䆑'嘡Ẉക峀ȓ峚༒⌻ਔ㳏䪵㢿尕ᇟ嶀⥀ᜮ挘㈪䧷ຖ䆐ժ匘湨䢵♬慀-४∪墤␦䇲㖆䅬瀏各Ⓤ।撻Ĳ㲺ᅄ␣ሏ啷ᑈؤ⵼ᒥ灴ᶍ⛴஧ᑬ⥄≐γ旜̮᧾ࠃ簠姤姶㗥奒ۗ䤕䥢㙌ᗮ焎⭢ਚể̑Α⚈ಈ䶈ઉ䴣ๅါ㭾ⷋ㶏撥䶠☂ỽ൰᲎傳㪋䪓㩜ⷴ๛ⴻ⥘橥㭵ᕦ哰᪢氠㨠࡮呕⛊梉ݯ⛚ལ垚滜壁㑟咦⇔Ⴀ岺䊰㨫͖䋮壀㳜叭瓤䋥碯䘬㱷⾍ࡏ㑱䣺ᣅ磭ᗯ烓ᙥ⳻å㣀喘㯇婝绹疄ᑥϝဪ㊝䧺㥌ᥙඌ嶿ㄣ㬁΍曘宩۰沙➴̆ഺ㙊᥾ဪ䍬㜤㡁ი攥瓯祹嬫ব¡⥒䭎テ⫆\"朐⑖⑥䐣殸宀倳惜ᑁ溌⌂్澱ဩ஡㣞塤ቁ⁈̲私䃹࢜ᦷⳌ䔳楙婻ᦱ孋ᇒ䫨皒ଡ଼乭汻෪㐧㆙ῒ⁼ü㈁ṳ拠㏡∇冚ጡÏᬗ烌Ӿ兪仃椱ٚ㰬ᚙ䲔㥏▮偵狠瘋ㅗ⿁既†ᥤ惯πഠ˩籜 㺧怤ⱨ⡃梊倠઒䟊䛈䠠७倦䀡橐Ɂᚻ惌ᙆŌ☈㔣䀣❩碨Ⴤ඲ګ䂙ᜢ牯㦶ң䁐付䈈᪁䘱簾ფ䊢ጬ0¯噳咀扭䡸䷡焭䇴᳂ض笍㝫➀烮儎໙攼㇩㑶壚Ꮆ櫽ⵆ瘧呠㻠ᰣಸ搼偞䊒䁗森ԭ缠〡㗮䛠ᘬ㮬Ўᄒ懜ᣠ䈬䎘ฦ␲籈᜘桍儑乸ন⎫ఠ䰨Ґ☼⇬汄瑇и₤盔夓⨫ゾ䰉ᬢ暌澫硒ⲩ⢤旋Ղ䍕㠢͹䢥批毠䯽Ńጲ栲ዲ㔠᡺⍠犠ဦݡ㑚䯢κ⒱௫┯䤰ک㪧đጡॅጔേ杙†ᵞႬ㇉ᬃ⯀洨䤚审囆殍㛷䩆挴楯ᓪ䬠檻⧁ࣲ尮䈕㒢ሷˏ㤥嫎۰㚵䣞怋ǎ歮઴灸䥒糉獐P⦤嘄坱圦槅⹕斑ᝳͲє汆實B๹ḭdӡ‸ڠ▎嚩յ㢰䧩᪲䋫懜ᰋન ߇䋀殣᡺࿍缡ၮ噲ᕊ劊℣ᩇ㑌㞌椰=㜦㚌ᘢ℠檭㓷㞙噺巏溻⢕洢ࢁ弰ᇋ䀣㛒浥嘨࿋窫檭惵⣇ઑ㣆Ⰳ⬵ࣕ$ฃ䂏֩剼整ẅ᫁շ⏔撕塹㲯孥໌攸狎拀ử姝孤粲À܁೑䵀঵ᧉ䍡㍝ᠬƄ∠㓌眣ⲴŮ⡠ᣘ㾧午䟲ҭ䣲晱滗Ⳣ勴ण咐ᚮ屛巈恝┊⹩㓾䣭滠㒅嚪㏄࿙竌甯ჩ1䄵Ȣᕌ๰㫣ąã刱䆂ᄠ灔Հ୙ㄫ⩠У㍫߈಄磘宩ಓ๾漽ㄻ怲㒮䤏䜅Ề猀オ撇䬚》笓䧐录㣁⌃纔ܟЩˤ屦灷ȗ亶ᣦୠᦗ傌䦀䳊Ҕ⳥穼懿尛翕΃㺤䫹ᡒ佐㰻⟄㟳䇥ㆫ疙䎳㕔欞ᗵ栉獥⸋尻▽㌥⬝ᗚ͐汫᣼㋂椠籭℅ݡ⮋ᲥႭ㱦⃰ᱧᑈʀ棨挈ً姝䰳⽕禯↲硇㼞ᵉ毕۔漙㗨ᤚ坩媷㮡⯽ୃᖽ䡞㋖惃刾ؼ䗺᭒෈⟔棯ᗈᴸ䁼Ǚ᪒㊔梡瓯ȹ熾⵴杓䭛㎙⌡㚖䝼᤿㓪姃纼揖ᛧ㍗䢘綇Ԏ柘篖䊔䱤厏⪶滵嵿⦣˲䌿ኪⓄ➋埚嵯Ⓦ̀暼滘۫␳勚䮅↥ᐬ梆ඝ嵻圷䩴ަਯ䕳̠䙂㏤ఢ恻ྤĨถ㏝⸧ۀᲅࡄ救呡㈙䳤牜始ᗦ㟲琎埒̄㨔⤢恐崞῁禰挷W獗Ф↰ᓣᐯṔ廜䡸䇯仰壽稒猧ୱⷂ䝸෾㓆㿋ᬤ坫᳹䉆琱⡴䶾᧹勦ୋᡋᚳ㩝䉉⵶墠〪㌰⩧ബ䈘بⴘ䭩㤣Ì勃ۧ睗䋉堘ឿ㦡机嗊淞㤦ჷ㝶翝ფ㬁㦕⧱瘋ॎᏼ筏⡗⾌廍娜㺻⬀᣺氇㑿嶁㹹㥿⓶㝯溈㘜溋⋲䕅卍Ҡ⭪嬞׍ࠠ䝡拫猇ᬛ窫嫺䐍Ձ慰㫣唠䎫䝠纎嚽ᰧ杻⢫噽ᄈ丳ㄒ杽ܙ㝫㻦凿㱠樤ၷ珝⒉⽮绺ş㴤ά䅖嚝ᄥ㿢癟烋 î੗イ㎢䃷硤ရ⦱⃨໐ㄧ㶳ᶱ‰熒ᑚ僫⊐烣∣䨩๰ӷ㗈ឥ粌Ϸᘠ෨温՗㧚碸⊄هڻ㑚ლ৷ƥ攨憸䅐䧙䷢稶૗㍘⮾皢ごス㻾匕悳㎑毺瀱ᎳӠᓩ⛴䅳މ哪ᙤ凗ڸଥ༄睧ƺ刨更畓⹙Ⳡ乤烙Ά⹶犯斨┒瀴ỏႫқ⋿糑㑡㱻䆰ଛ䘥ኘᆤÐᅦ♹ⅣỪ叫Ɉべ䪥㎋ƚ䫲幐␀啹慬弝㖿⍸୥囈厸䓥ࢥ縭痡૦፺ѣ㒟⎚ॵㅄ吰倹咺㜈⍏⣹௵庫疐ⴱ⚥湹昂ᇑ⠰ヌ⛀㚧೥ⱉ䎀آ瀴䢞僸䴚๘帴ᇛᅐష憯㇆⪲ᦼ䉒⋲᧤␠ᅏ䗰࿻⡣Ԃࢣ⒦Ǧص䖰叐呩٪ඌ្呗洊ீ⍃ল愅䂖⡛摕⊰煄䱙̦砡٨䛙汛⼚౐熧䨸溆ऐ旙ⱄ灠  "
   },
   "outputs": [],
   "source": [
    "PR.PersistChart(chart, data=df)"
   ]
  },
  {
   "cell_type": "code",
   "execution_count": null,
   "id": "4b0d5643-fd7f-4c48-8079-4fd7c9054b62",
   "metadata": {},
   "outputs": [],
   "source": [
    "persist_df_6.head()"
   ]
  },
  {
   "cell_type": "markdown",
   "id": "a6284113-65cf-408e-927f-d302988c2a9d",
   "metadata": {},
   "source": [
    "#### Filtering Data"
   ]
  },
  {
   "cell_type": "code",
   "execution_count": null,
   "id": "74072acb-ff02-4b57-9737-8834d8e18bbb",
   "metadata": {
    "__GENERATED_DATAFRAMES__": "ᯢ粠 ",
    "__has_persist_output": true,
    "trrack_graph": "ᯡ࠽䈌ʀ匦㢠⹰໢吤惡䰤瀨恍&⸢壬ါᢠ᳦࠰棠㙪チ䂃¬ᗓဳשᐠ▴ሰ㒸㠨䮴减⓵巇⾞䆅䉠ð䀡婗憨㕀ॢȠ௞䠸ᢀ眰䅽忕怢晐樠Ԃ牠Έ䃙硌䘴⌷ذ䭦⇆匰堠曊ᑎKἸ䔭䟧掰磐†崣↳䳩ౠ㌆ِ沀倠祐ሿᢸ䆦␍掃穸ؠ嬸සᑤࣦҢ䳹䑀嶨僊䡞᫠ආᲄލ䉊ÞΝ匚⹆悦壻䉌悆㘠传σ緷汍嶘䆪希䝃ຆ⁠ऴ䗢冈ౖ⏄ᇲᙑʦ凲婒ᣡ榐岵ԧⓈ汄⣦႘屝䌗㱁曋∦ᶉ䚴⌳䐲⒪⍠擒Ჾ⁲ᑪ㈹↡䷡侣ᬷ䔲撣۬斸泎⾴ᖪ務⵱ᤊ眥䌣ీ朠a˜䬵䝰ΰÂK偏員䚽㵅㖬㫎׃!昰⁹煗媡ᢵ瀛ถⵠഘ帎柛搐ˡ⫼አ䥴⌷Ӣࡌⴽᙦᐉ♿֡₤عẩ੐ପ䝫炵Ƶ矸岎㒽ˡ灤⤢䕨哬ᬰ䄃㢜¨Ⅎᩴ孳圈僝㽸䛡❌磲㚺䆓˥噺挻ᛢ׻皧ⷴ疺ȷᗦ睸ಐҦ՗㏢㗦㊠⁧Ƽ次潧἞熕ẏߤǌ泞⁘ত倿⥨悵猸碾挞Ἢ†窒⤐ీ⢃䶏洊媐洐楝ద幰ጣ䃆┤娸ἂ愐⒧Ŵᕃ䠶ԡ⠬̡⠢敘碊ƣⅢྣ➆៨ᅈ⤰硈ע⑳䮥⑦Ԣ⒊扥惋䫘´ሓ䔗ఱ㖇ཱྀ恎ඉ⒝⢉㩦䘸㵌ἀ絟〓汝Ⴧ尫█⥺⇑㹎Б繷ǋ剉́ᮙૹᑚâ㮕௹㐡涥౺䈨硝漺灤沸ぴ溺㍦ඹ㣜恹୦ɹ䬪桊⒗̵抴暸㎊ʴ玔塹₂檀狪拊䰰∂㖍⌡産⫘䴠Ո悋ᠫ㘍Ш痰富㏝⿏瘚傌灣Ѥ㉃⍥ಢࡦ堼ܳ悸䘬戨㘫⇈㕽䄲㩬ⓘ榃懐ᐫ⇐ᔨ䱸ᖃ綋⳹ূ⣌摅⩮撅❏ᒙዀᒧఢ瑚⫣椚ã提ᬧ᳆೤嶌ଂ堿⛣外Ǫ糮Ȇᅎᜣ㶎⨎㵏㩭㲎⠢紑䠤糩竦簾⠁◼』絈䡊ࡴ䠦ɀ戰窌⤲ƀ粲妀喸䞹甾炚彽䋹䝔⊄佗Ɉ䠬䋥䠫䈘⴫䁐༠成ⴥ慓ଡ嬲ქ䑒㸥嬸㦁䒩䵈犜㟫稞ථ獜掇ၻ⊮氢媭汔ᾍ冔ἃ⦼ࡁ䄗మ孖盽挖乂愮窂㮊秹㯎混䫄қ⁖䌽ྖ绿ຮ劖㩎嗳㭸㶬ㄺ斢殕ブm*倡䨠ၠ㑚❾㖚捬晭䃠挦竤㚁䣿捍壵ⶰ⸬䈂㛻䆅樼洰峭ᥐ⨷ɐభ䌀䮶䉜ඦ壦竰商拉ᖵ哗᧔೚喅嫜寵ࢸ㬣㇢㮣戣㵰Ḻ౎倮์㖱Ẅ㓼咃峴憭ާදༀ঵獠渇庒㓆␱ŀ༙咴࠰䩢᦬୓ေ0ᕲɉ曤⽌摠Ⳡࡸ㪨奋ᔶ縶疎⦈↘ⱣѲԅ垻䣔䧰劲䡨㒀Ḩႚ恸䔹䒑ᢁᡎ΋Ɓょ▾⨭扈ල㛱㐽嗫ᶬ㮢禗ば㛬僾旸㶳∛ݠ䐰㡥ሦ恝杀ᨇẴÝݱ≐֛⪾橻✖潒׾䘯帹漀癁␇姳Გ秅ᬔ磍燾㸅晵曉䵽⓺廙ᮻ㢗ჲ眬ጺ弁ᨡ䵔疢৛䲛〉殤ᱧᭈ◠Ⱪዿ浠坭䖈ઢǁĐ⦮းʨ綆℗⒜՝惓䝙㛁čⲐᵂ玂攊⺉慼è൧ᄢ䇄獮ᤡ⁞؞墏ᤐ濄䣣㣗ഺ睄փሂ⍓斠䊌⚨ᒬ⡝෰㚹ぷ焀䭢㍾ࡁ∾晄᭍峫䌵奻㽚Ⅹ◤䍖አ尣⎔櫩䂀༣㭑˂⁖ࡦĉ㯌㢖滂以沔ⷻ᭞䘙ށ笳ဖ僉ㅁ撠启㧪⮈㗕⟱㡏哤䊉䘢榍Ც嵀ᎆቁ⥵═ⵋ唌䙼斝仳ᵅǚ⇈ኋ㥩ໃ8 睬䴺佢㑖Ġ?⛅ⵠ㰼ڋޱ♍㤑䙐䓸⨥恷⑰䳚璘֢刽Ƒ⾪焮ᗺ㸦⁲⇔㵑瘋ࡄᱡ㊤匕㢨䤑ญफ़ᬳ帥縆ㆇ䆿ǆا⳥擹䀸䜄毒恆珮ऄ႙᪼䘇䃼㕆吱壷႓㝃税㺻㧓杁⯭ㄗ䩩㈵憴ᵣ孌⑸㼫塷᭡Ჱ捵斢ሌ㊪⋍⫃⮋刂孻擫ܪ紎濲塅剚⩌桨叧㛖➇㛩ԩ盡ㄢ䗱ቲⳢᏃ狇⯕䢯柰咥暅࿠ⓧ婅ʠ㛜墤䦣潻૘礁炃午ँㆈ崅໭擔㗺搮᜙៕⢃ఖ჎ㆁⰼ檬䄗ἢ䶙坾愢媧済寰瘆斕姬⫽㥩䅞⢺姎怫ⵣ瀎䎖剱ᜱ檐旷焅㫊፲䫈Ƶ祾欚⊉伾ƍᕶᖆ࣊竌欇۵∈⥹ეᄩ㒭㖈怰掀ద䉧଀⻡廈䓡椦नၡ憗箮ੱせ呞佱ኼ奲㓖勁ᾴᦓ⛔烍㋑⼭䂊棏惓掬ೇ୹㚹Ϧ耔⚤㍼̪䷻亻᣻එ堤玙斆䆊崇摍᪆ⷀජ೩猐★噔夾笏პ㊍秱ⓛ弁痠箋㉨硩瘅圊傲婋ိ挨˛淔䍘ⅸ碏敨㼒潉暥确ۉƠ㫰㘲娵䡋Þ嘣䑵ળ瑰Ϻჹ䂇敝僧䃰⪸䂐夊䋑䐢愁潇ટ冝㕮瞧䚉牁槜∈͗㫀䑈฿㚴植ᐩ沉嚸川Ṁ毘揵漀ⲍ䘵╇ൄ̑䐧爌丽慓㔙ᔕ竊✭㓅囍Џ㩠ᣥ૤狢䴘৆䐫ᔙऴ䒺⎮ߎἫ橣剒䎈㮋ᢆ䟐秵焜㆓፦㦱愦睔奘١ַ枆`㙪㓃ࡹᚬ漫ᠿ䚇ឺⓤÉ䣗拭撀䄹◪潫櫹䮍团⶚㭗㚖欏Ӌ␥ᘆ崙䫝憣帙堮ᄐཀ爡ᅠ⚄箛灨㈢恐ౡ叽჊㩂䓏瓙ٌǌⱻྀ㈞⫗㻸ᓬす㜉ᙀਧܮᙧ咒⡈䦯変䀤ޣ燴ȳ焧㋌瞯┦䝩炴夀ᮑ絟ц㳐ᅘ䫆嚎㌭㲍ψ6、瀭⯾၁啠ΫŁ䄺 兰ໃ爜†䩝Ǵ.冠㽣灖ۋ缭⬬ἡ怮列憂倴ȿ傜䡔ɟ儞夀ໜ燑⑯㇍做ᐰ㤿䴝ђ启䦸䮛ፁƺ䬢哶佨綌䳤石瞔䘮祯໽♉⎛㔂⻿☨䏚⳨峲᪌眦㫲㠻丠ါ໨׿㊈ᘷ㇫㍮ɤ憫ᓚୱ磒煍㳙榻磘ᑲඋ炾嫍㋷ʱ᫽⹦烽ὓの嚧燈㈙桝爽傍᭺䷿䌑栙ʺ碢䂲䈀⊚瀶䂶摀ᐣ爦瑊ㆰ䜐෽愅㜀夰㫨囀ڏൡ怭幐ď㞚ష廑䋀!槍⢆猨塥䌔ä挫ဦ惇捞㨐⾲綯ໞᘦ᡻Ł䞞獵ᆠ䄔ರ㰦ᢘ䍿抠椰塪nǡ攮偿ᣠ࣠থ炛䅸ᶘཤ⢌戗⌱㧵⫐Ⅎ᫬ઃ8䈋ྀ璣࠹䃀ಘ倡ᑹ⋄ু圗㞷㲛止弢⸢␠Ȇ␧䯊ᦤ唰ࡉX㗱㐏ὐɏ妝ᆢ棆冁áଁら嬜夑™ビٸ㦃⌣ホ؈ᑀĻ䁀䞿䵸愾ゴȈ෢ḹ㾏ܘ㒬瘲㠳䄁ൽ椱⭦ۡἡĮ㑘Ę൵䰻垏慛ᝣ嗊䕕ਞ䍥ᣀ宏ሧ伴䙆孂⭡䒴檫⁝掿䨡᠂ሢ抓履砄恊卟垃剅怯窤㽉戤⎘♂㬜⢽⁔♟彐〆缼⚟䞥煃⽃磙䧜⸍儚䠈ャⰈᾁ简ಝᐍἡ䕘㢂⸺徉戭䮜㪣徂ȏ備㫅ႄ䜿䃴╉Ṏʢ䡩戹ₔ竤῵ᐢ⡛砶Ḕ牀ₔ技ᰝ㍫位ࡇ崽罄⼴窷䍜娄獙䫓帙Ẇ䑕㉀㞼䁎屴ޠ嬃箥Ĩ嫠屼㠿䵜ץ婽উ䆄媔⥽携坣榐㍃眡琸ˡᢡで᣸ᄐ୓ऽᰲℌ⑃笾ㄘ᣼⅒ᬌ㝿䫡ῃ̼焅秆㝓䒭夀䘌⦃ڂⳌ婆㍼糦㵞ఔ䧄粥怢⋆ᜠ䢭ₒ抄 䢻䑒愈Ή䉥⦉奙߼玄̰✂䰭Ūྕ嬲剜檫䁝惊ⰴ⃄䠶䩒᭳盇咸⌲ჳ㫭㔖⨾⵲➹哆⣘䝳ㅨ焣Ⓤ㜒⚽⽉˗ภ枪琦灣咕Ⰰ欱箪㹲䲸⣭⁀ٲ䀏浩ᬘḽ䪿库〴ᦩ㭥‧殨ㄈ䣌ኍᬀᩀ᭪⁌㨹哳疤ⓨㅂ✝⢳性碂⪳墻䓏祠▼濡獲᫟䬈Ẽ属㬠塌样璬ֆ前報㥰⍫䂢ᆺ㱛䭦⋔搿䆘曎咔⨷晇䓜⸃塁惨㧉⭂⦶䣽ᚄ⹂ळ勵ᚄ⏌晹洃㢜⏍↡ፌᅹ㳒༳沵㊏ഡ⒈帡䌂԰⨪ԭ煨㍝દᖂ₸ൃ儵洞㍵兂注怠ᘚé桍刪椋優♢0ᕰ▤紏⮘òဂ㎀ӿ㯭坤₌宀窎ゴ傁ྐ內學޶䋡寱ᔭൃ䋋兢䂪㹌⊷㠰ȣ瞸檬ᓕ㬫含䊮唄ோɃ櫒ᙠ⣠䲅ၺ秐⦳㔺擽є⃣縍䂑✍ឳ喸ᒱ䓏保㸱䂑⟿䔡劳唿祡├㊎࢜ήጡ焮㭦䥈῍Ⱒ㲢⎁⑩ᄡ椴偱∱⪼㲭▾㘒ឱ紋斞㣳罬纆㫙䩔厠扯燦䐠ጣؤ樑⯲䆃瓰堦㑽桎ዼթ㽂㉺ⵈ撅♓ੱ䭜䘾䭋䜉Ⅳច佫㙾㵄䙒㺻噲猖孓␡۫䐭燨䃑䰩ᒏ灅ผ䳍㖃傀ĳ券䐾Υ⍃ᅶ僯䓬ᦊ㨷僦䛦ᬡ☲夅䘼㞉瘿撺攪㒂欫炾¼⯢搣烲ᰘ㺫渹点敻⪡ᄺⳒ寫㣼♵晛ៀ决⤵ࣗ㑜㥒㤴⭜䕞Ⴢ刬⣲䐤˂‣棂ᣋⶳ櫶ᤙ䇔⏂ᗃ᣶櫧⿂۷媷Շ㙴ጺ伏揇⎀猶ࡰ䊋㗓嫹⽝ȋ⎃砇㛳䙻㴂吣⻲ᦻ㻺朾㢪䅼⿻眻䭧䝜㘃漰祚宜ぁ㼽瞟檈䓋壄孀簂䈬戁嬸ᮍ䞠兤஛垐Ρ媌竒╮ঠ榩 啿尋埍儢⑾厛ཱི廝◿徚潴㻨₿㓠柽笤䡍㻝ⲏ໵埒⎊孻䀽垇⢃筲ᒩ悽㺪板彙⛓ㅳ⠊媉ঀғ榬ᥙ࡞䳁禮㽣㉄Ĳ㨦䁑⣚個ἠᬆ喁ⷊ硶梑唱㊋⑷櫖ᛣ㘣烳ґ挑⮄ᣲŝ䬚⊴憉䃑ᜦ≫ㆌ䅢׀墣旊⃔姦⪺⩾朞瘧㕓榹䴌曫⣍厬⒓㑛㴂Ȥ犦Ө筂牑䴚ৠ൒㦼出˸⭧䟀磪服㠦⸿ⴅ༔ᷛ෵㛭೛ーᙟ滪枟⵻歵ⅅോㄡ㭦ㇷ࿰㷧彉曾暌፸㢲䀤₰ቨॡ彔䅨䘵⭏䝶Ĭਛி㙂哎㿼殺̵婵㈭戉孺嗊ು㙏摄౮㔧吮䇤䈹䇄㡑恔Ȓᇭ㞄⌤ึຠ㕒博乫⇆塛₆一淇拋ᪿ婄嗉ⲅʦ磡Ⲁ灱㫹傴メ⴨ࢋ嚴壬┎灛吴ச佻㻷嘿㔬俵窷眝⺦〲甋台Θⱔ䵠寐浔䌍懱ᔦ㝔↹ᝢ㜶塦牶⚥ឨ楫቙⃶刉⍪䏽匀䷶吶䦻刚㓳∂ỿָⱋ㴕晓䭎॓≆⭖姖㝙㿛⹽簲䍝೑䢤቙᦮㴉䍉笻⪀Ո囦䢔䂲๺緵慈ƨᡁ具⬨κ໠մ峉產㓊珶Ұ祵Ⓠ⯷⪻਎૰帧䧝࠴拊ӌ⨅癔ዱ孚噊䴔攦絜ᚬ๔符ᐢ樜๙夀䀠 "
   },
   "outputs": [],
   "source": [
    "PR.PersistChart(chart, data=df)"
   ]
  },
  {
   "cell_type": "code",
   "execution_count": null,
   "id": "a57edda0-2892-4c1f-b486-066f59c56a79",
   "metadata": {},
   "outputs": [],
   "source": [
    "persist_df_7.head()"
   ]
  },
  {
   "cell_type": "markdown",
   "id": "3066d9d3-6688-4bf1-ad00-39ad1b5df821",
   "metadata": {},
   "source": [
    "### **Table**\n",
    "\n",
    "To create an interactive data table run,\n",
    "\n",
    "```python\n",
    "\n",
    "PR.PersistTable(data)\n",
    "\n",
    "```\n",
    "\n",
    "PersistTable is a powerful tool to manipulate data"
   ]
  },
  {
   "cell_type": "markdown",
   "id": "fffd1b0d-d9a7-4c7d-8dcc-62ebd81352a1",
   "metadata": {},
   "source": [
    "#### Selections & Filters Operations"
   ]
  },
  {
   "cell_type": "code",
   "execution_count": 4,
   "id": "e39c69cb-9e88-4bec-9360-4c9e9093fbb9",
   "metadata": {
    "__GENERATED_DATAFRAMES__": "ᯡࠣ䅬Ԁ朤壠ᜣ琢〹夠炠⹰〮⁁䁻қ䚾ኊ㇠നСࠩ瀮晼Ƭ穅5愠៤⠠ ",
    "__has_persist_output": true,
    "trrack_graph": "ᯡ࠽䈌ʀ匦㢠⹰೥¸ހƠ䘡డ〫‵俉ř䘽䪊Ⱥ燸䀼ø㆜瓬ద㑄䨠ዪनᩌ㱤摋⫷噄拣䮬ཞ䅀†氻烧械ӁĠ׷␬W౐ᮨ⁏⻸ِÑ࿵$犒‣㑡Ԝ⠢㩅ᶸ俪拁劂煨汈癈㋖ኦࡪ┖掀௰†嵝㺣䓩ට唒ёⲀ倠祐ቓࣝ࡮䖄刲熐畀{వ䆸∠挤䉭Ɽွ䐰䕨ἲ怭㔸〥㝢攠彝ἂ羡䨅づ⿍怶ン⬠➠Ǳ笃熤禎幀⋮ⶾ悂䳨ࠬ₲ㄈᐳ敀ᤌ⸸䓠僌㨦䝠儜ㄲ䓙剱㬥٦㱦⤻ҙ瑏㯢₈恭⏨炅琱ᑿƩ戩ተ䅩勌٫ႀ犙Ũ克☰殹亪挑≡✇効㙷៪૥➴哉ౕ⮬抐ᤃ 䨀䈔K咆:Y㻆Uⰰ㗖殡ℜ௖曊ǎၬהĚ捹冊禜缯娱Ǹ᳋宣瓨䱋卥恔沚ྤ戂مඡ←⠣̤冩犾䬓沼ᝄ䆡怨቙৫儸⺻০煐帠䑇唺暻⋒痐᱉஥畈䱅߇െ槌潒㒶ᖺ柄汀ᶾ悕屮ᦠ⺔巎䎾䜣ࢀH徯掝篐⨡>⁳Ⱓ㸼尛亴秜ἰೕㄘ䂰㑊@⯡Ⴂ⯨ㅜ㥅粺㞡ဠ㵅ᒣ䂹唜㻟吭暧⅙༔〸೙႗熣⹌ࢤ稲ൕ῏᜙砸玩硟٬㐳˩砳ۀ倪ˬ姞ʡ͐愠塨Ȣሣʡ扉㚢炊༸P䓰愠ᙡ䌡牄ੱ榦殬फ⟠坽桒疫焜㾠ॸ嵿䁨⤦嫨竡≖改姈㛣守ⷪ剘偷Ǝ⣲䃦㣷䉆䆥ᩰ㓣᡼泷ᰆ䋸妢煲᭦䙀ᑆⱸᙂ僝᪆䣏ᠶ⋪㊊挴ࢠ$‱Ã⃄ⴣ⣅粘ࠋ帠䠈ࡏ冶߈烝ࠨࢠ䂉⫠ȯ⥣⁬ॶࠠ䤲◪恨᾽䲈㘫ִᤅ䡰̾慈ⅉ䑑┢Ⳁ俉ⵅ⭍ᑙ᳊䠵㽈ᑵ࣎哜ྂ槺❣䄧ㅪ䢒⬫䅇ӥᣡⴍ㈇㭻㦷㛫娖㐊㢗ࢡ㣎෤屠ላï؍߆ᐈࠏ␋㵗∀秿ᕊ營〆卡࡭䉠䰪ᡀ⎫エ璷唄罼厠傲᎐縱ω咲∰怌䉄ེ礚傀ᬤ亪❹砸⍙䠪≄䠡⍟ʀ孨ᑢ䆨⭊怸യ怩㙀ႀᤪ∘☩煜㬬ᰱ⬢ᛥ䳮቙喬⏅稱㔦峞剞ᡣ⫊ᰯ⪀⍲气᭱榮ᆽ燞⿯禼ֵ㏋ಧ⸄㳴側㘢淴⚩汥䆭⥡㨥屆屉燆癏↳洨嫓ʌⅶ监宱㼭嫥㢪焓哳᮫糶⾶斖媋囲䂖䅽呠*喙秏ナ䋡倡擥④䂌粸噳杠᪂ 砺琾橚⨅ʲ䈠絯ໂ塨ᚤⅸä抸⇏悭䗤ή嘳戰⹃᫰带䃀嗗ⰿ戽ʻ㉪恐̱ⰴΖ䳓皤䌙㾵゘截擮䪁▴㦧ᒂ彈䀭ᇲᾄ㵂䈼⺫椈ਕ厧甆ညᘠ᫣ଃ⹰㋦淫峨暭烴积ጐ湈˃ⱐ㸮๘沆粀䷭磩儩嗻৕夤Ւ卩៖㡄盢泬㡤Š䉹涣寡ࠁ猭ᖐ㐁㸰‼囸␴⥤ࢪ䗡ᤱ࣭༺扪䓋✱䰳惿崣硞͈➥㉖рة䓸ϰ⠶䧤Ṧ䓍奨檭䣽ჱ俫ἓ慍挰ࠢ㗡䓌壳ष⾐䢰劧ॖ梲勶؅商ှ简Ȕ၃䄮ㄊ㊱挡ᙵ懌噙搣㉇Ꮅ㘭ތⴤᄎ▼䠥×ማΉ篭ࠑ㾏燤怏繱䌠䁄ˠ⹊ᮣ穰ᐑ㼦Ξ抦繿洃䍄䅦〧|斠䄒ᕹᜐ妠ĆᚡḸⵝᅁ㲂⫡⟝傞㜖供䀨d㥧柁Ẳ妄⿰Ⴀ㈼堡Ჰ旞烦ᫌข⠣捠⵺〢⃰Ť⊜D喊⃄ʩзဥẢ䩚恠䨒㝰࿮䌋ᩅ擌䭢峋嶊㚽㨗ⷵ剾悚䐠Იᦠ棟储㰊䁏桌̃幊द෦塻䚑ჯ㢁伃ག᫐䩔据ࣦょ٘濣橐⊟ةঠ࠸奐䣩㚱ቋ䤹ṃᓻ⭴╇疙ᨺ䦩ᅰ䷔紲暪ឥ䩘ጀ容থ䖜俩碃俄冁嘂沃໙ᎅ坆尴ϝ㉏悂⛤岪嘱̫⃏䆨أ堲㞜ڢ䐤懕԰䤶复絸咺Ơ*䐐嶰㚠◮䓼ⴠĿᗯ–ɰ撦䳄⏙䩴璖䡺揉筀槊Ӳ槭敊φၑ☈⡈戨ⶡ瓣Պ伫ࣀ浱㴶ᭉ⍬䒥༐⢀䡹᷐ᵚ櫶㮱㺖楂相↤ᔩľ㈊㧒ᆒ珪犷䖛垡僀ϭ潼ր'⏀㝪璏ខᵲ委㌙瑭禦⣳Ҕ敨偾恸䊡䒳悈Ρ戮ጴㄡ暅⋀⟎笀Ṹ嵧制⦄ڊ攟ۨđ仹倹㛽䭫睿墾䦶祖ϐᭉ乲ଅਾ壜廘狈⫁䬒憳Ѫ䌯ㄉ⽸⸴ፏ䃊嗉⫀䕴秚固䇌䣉ᤩ峿䵥弐࠴樷孕呵ლ标绽൐൐疪㪃Ǎ汄ᥑ⍖Ļ≁䁲̀塰悉ࠅ氣ᥐ੐徎Ȩᇗ昬氩ⲳ啙呌慗♄᳔ࣕ昙籪ҳᠭ㘇䦲Է᥋➒㑏⩫矞纵㩡ᕉፌ浱浲㇣嬌䅙ᬯ㛇୯➖䴒␪⁻䘧␢ۀ昭惲㜋ሹ⇁⌼⊡䏫嬀ඉ坋䗎࡜࿕婤瘜䜋氡䎛ᅀݓ櫀അ⪬签䖎㡻䡢⟰㛄椌ࡡ心珉Ή㹧猜柌̀ᱼ汵䎵䫛揊ે⸴睷秮瓰⻬⧅ⰿ▬匕㲧児ᆬ䡼现痺͵搅乑ۼ㩋޼⩸⁯㪰丈ࢻ䫷暈岉簤櫊≖✬⳴ᓲ❫Ỏ站ᡇ⍺㐑㪊嫋⛍㭩೿囥瓖㬓ജ㝶㬾怒廌␍ㆽ৬塅吡恀๥䶂䂉䴂ṙ⳸Ảᄠ䍂缤硹倰伤䭹怊䆃ԓ㊂唜Ȅ妍ⶨ峍ိⵛㄠ箍刻⌦䎾ⶹź嚖淒礈傅㲽乹卼䷄ݭ⹀㬤㉥೐䫣⧥㴎๩ᱳ䗪婷䊺d䃜Ⲻ̊溓⩼椼屶寚⦝㤼ဠ "
   },
   "outputs": [
    {
     "data": {
      "application/vnd.jupyter.widget-view+json": {
       "model_id": "0775311e052545d18bd5ef7b32a627b1",
       "version_major": 2,
       "version_minor": 0
      },
      "text/plain": [
       "PersistWidget(data_values=[{'__id_column': '1', 'Name': 'chevrolet chevelle malibu', 'Miles_per_Gallon': 18.0,…"
      ]
     },
     "execution_count": 4,
     "metadata": {},
     "output_type": "execute_result"
    }
   ],
   "source": [
    "PR.PersistTable(df)"
   ]
  },
  {
   "cell_type": "code",
   "execution_count": 5,
   "id": "7533964e-032e-4b05-93c4-8ff251bef619",
   "metadata": {},
   "outputs": [
    {
     "data": {
      "text/html": [
       "<div>\n",
       "<style scoped>\n",
       "    .dataframe tbody tr th:only-of-type {\n",
       "        vertical-align: middle;\n",
       "    }\n",
       "\n",
       "    .dataframe tbody tr th {\n",
       "        vertical-align: top;\n",
       "    }\n",
       "\n",
       "    .dataframe thead th {\n",
       "        text-align: right;\n",
       "    }\n",
       "</style>\n",
       "<table border=\"1\" class=\"dataframe\">\n",
       "  <thead>\n",
       "    <tr style=\"text-align: right;\">\n",
       "      <th></th>\n",
       "      <th>Namesdfsd</th>\n",
       "      <th>Cylinders</th>\n",
       "      <th>Displacement</th>\n",
       "      <th>Horsepower</th>\n",
       "      <th>Weight_in_lbs</th>\n",
       "      <th>Acceleration</th>\n",
       "      <th>Year</th>\n",
       "      <th>Origin</th>\n",
       "    </tr>\n",
       "  </thead>\n",
       "  <tbody>\n",
       "    <tr>\n",
       "      <th>0</th>\n",
       "      <td>chevrolet chevelle malibu</td>\n",
       "      <td>8</td>\n",
       "      <td>307.0</td>\n",
       "      <td>130</td>\n",
       "      <td>3504</td>\n",
       "      <td>12.0</td>\n",
       "      <td>0</td>\n",
       "      <td>USA</td>\n",
       "    </tr>\n",
       "    <tr>\n",
       "      <th>1</th>\n",
       "      <td>buick skylark 320</td>\n",
       "      <td>8</td>\n",
       "      <td>350444.0</td>\n",
       "      <td>165</td>\n",
       "      <td>3693</td>\n",
       "      <td>11.5</td>\n",
       "      <td>0</td>\n",
       "      <td>USA</td>\n",
       "    </tr>\n",
       "    <tr>\n",
       "      <th>2</th>\n",
       "      <td>plymouth satellite</td>\n",
       "      <td>8</td>\n",
       "      <td>318.0</td>\n",
       "      <td>150</td>\n",
       "      <td>3436</td>\n",
       "      <td>11.0</td>\n",
       "      <td>0</td>\n",
       "      <td>USA</td>\n",
       "    </tr>\n",
       "    <tr>\n",
       "      <th>3</th>\n",
       "      <td>amc rebel sst</td>\n",
       "      <td>8</td>\n",
       "      <td>304.0</td>\n",
       "      <td>150</td>\n",
       "      <td>3433</td>\n",
       "      <td>12.0</td>\n",
       "      <td>0</td>\n",
       "      <td>USA</td>\n",
       "    </tr>\n",
       "    <tr>\n",
       "      <th>4</th>\n",
       "      <td>ford torino</td>\n",
       "      <td>8</td>\n",
       "      <td>302.0</td>\n",
       "      <td>140</td>\n",
       "      <td>3449</td>\n",
       "      <td>10.5</td>\n",
       "      <td>0</td>\n",
       "      <td>USA</td>\n",
       "    </tr>\n",
       "    <tr>\n",
       "      <th>...</th>\n",
       "      <td>...</td>\n",
       "      <td>...</td>\n",
       "      <td>...</td>\n",
       "      <td>...</td>\n",
       "      <td>...</td>\n",
       "      <td>...</td>\n",
       "      <td>...</td>\n",
       "      <td>...</td>\n",
       "    </tr>\n",
       "    <tr>\n",
       "      <th>401</th>\n",
       "      <td>ford mustang gl</td>\n",
       "      <td>4</td>\n",
       "      <td>140.0</td>\n",
       "      <td>86</td>\n",
       "      <td>2790</td>\n",
       "      <td>15.6</td>\n",
       "      <td>378691200000</td>\n",
       "      <td>USA</td>\n",
       "    </tr>\n",
       "    <tr>\n",
       "      <th>402</th>\n",
       "      <td>vw pickup</td>\n",
       "      <td>4</td>\n",
       "      <td>97.0</td>\n",
       "      <td>52</td>\n",
       "      <td>2130</td>\n",
       "      <td>24.6</td>\n",
       "      <td>378691200000</td>\n",
       "      <td>Europe</td>\n",
       "    </tr>\n",
       "    <tr>\n",
       "      <th>403</th>\n",
       "      <td>dodge rampage</td>\n",
       "      <td>4</td>\n",
       "      <td>135.0</td>\n",
       "      <td>84</td>\n",
       "      <td>2295</td>\n",
       "      <td>11.6</td>\n",
       "      <td>378691200000</td>\n",
       "      <td>USA</td>\n",
       "    </tr>\n",
       "    <tr>\n",
       "      <th>404</th>\n",
       "      <td>ford ranger</td>\n",
       "      <td>4</td>\n",
       "      <td>120.0</td>\n",
       "      <td>79</td>\n",
       "      <td>2625</td>\n",
       "      <td>18.6</td>\n",
       "      <td>378691200000</td>\n",
       "      <td>USA</td>\n",
       "    </tr>\n",
       "    <tr>\n",
       "      <th>405</th>\n",
       "      <td>chevy s-10</td>\n",
       "      <td>4</td>\n",
       "      <td>119.0</td>\n",
       "      <td>82</td>\n",
       "      <td>2720</td>\n",
       "      <td>19.4</td>\n",
       "      <td>378691200000</td>\n",
       "      <td>USA</td>\n",
       "    </tr>\n",
       "  </tbody>\n",
       "</table>\n",
       "<p>406 rows × 8 columns</p>\n",
       "</div>"
      ],
      "text/plain": [
       "                     Namesdfsd  Cylinders  Displacement  Horsepower  \\\n",
       "0    chevrolet chevelle malibu          8         307.0         130   \n",
       "1            buick skylark 320          8      350444.0         165   \n",
       "2           plymouth satellite          8         318.0         150   \n",
       "3                amc rebel sst          8         304.0         150   \n",
       "4                  ford torino          8         302.0         140   \n",
       "..                         ...        ...           ...         ...   \n",
       "401            ford mustang gl          4         140.0          86   \n",
       "402                  vw pickup          4          97.0          52   \n",
       "403              dodge rampage          4         135.0          84   \n",
       "404                ford ranger          4         120.0          79   \n",
       "405                 chevy s-10          4         119.0          82   \n",
       "\n",
       "     Weight_in_lbs  Acceleration          Year  Origin  \n",
       "0             3504          12.0             0     USA  \n",
       "1             3693          11.5             0     USA  \n",
       "2             3436          11.0             0     USA  \n",
       "3             3433          12.0             0     USA  \n",
       "4             3449          10.5             0     USA  \n",
       "..             ...           ...           ...     ...  \n",
       "401           2790          15.6  378691200000     USA  \n",
       "402           2130          24.6  378691200000  Europe  \n",
       "403           2295          11.6  378691200000     USA  \n",
       "404           2625          18.6  378691200000     USA  \n",
       "405           2720          19.4  378691200000     USA  \n",
       "\n",
       "[406 rows x 8 columns]"
      ]
     },
     "execution_count": 5,
     "metadata": {},
     "output_type": "execute_result"
    }
   ],
   "source": [
    "persist_df_8"
   ]
  },
  {
   "cell_type": "markdown",
   "id": "355531cb-60ec-4c78-b781-eed49c233f74",
   "metadata": {},
   "source": [
    "#### Search"
   ]
  },
  {
   "cell_type": "code",
   "execution_count": null,
   "id": "245bf8b1-a245-4ce8-a59e-c3f7d33fa44f",
   "metadata": {
    "__GENERATED_DATAFRAMES__": "ᯡࠣ䅬Ԁ朤壠ᜣ琢〹夦゠⹰〮⁁䁻қ䚾ኊ㇠നСࠩ瀮晼Ƭ穅5愠៤⠠ ",
    "__has_persist_output": true,
    "trrack_graph": "ᯡ࠽䈌ʀ匦㢠⹰ڀ↠ಈᆠย堡〫⑅⹆෪¼戢ᮂ宂̸濪⸢㌓暠ᶩᐠ▴ሰ瑸碪䮴囇⣹䶧㝞Ž䉠ð䀡姇冨㕀ॢȠ௞䠸ᢀ眰䅽忚怢晐樠Ԃ牠ΈƔڦ❓ሦõ䰶䇑䅠Ȅ恨汁ئឿƨ⃧挐㇐ؠ嬸යᑤڦҡ哹䑁ᦨࢣ㵕䀺慶䐩疧䈡㸦ƶ穋ۡǹण䍔愊㘠传ϒ緷挪戏ⱡ䕽皮㒓㈨ɪ⫥☂૓炁䑈⸬Ⴂ圽皨篂਱⁰䈠೪揱ᢌگ㇍ᮋ䥂䢠⍤Ⲃȥ噗ᩩ䄀Ѫᅪ⍈ె֮抐㲞ၢ၄w⁸ᙛ屒ᙞ⍀⢘洠䭳঺᥇ℰ䙠  "
   },
   "outputs": [],
   "source": [
    "PR.PersistTable(df)"
   ]
  },
  {
   "cell_type": "markdown",
   "id": "2c7f5eff-050e-48de-8aad-21dde7aa1821",
   "metadata": {},
   "source": [
    "#### Edit Cell"
   ]
  },
  {
   "cell_type": "code",
   "execution_count": null,
   "id": "a970629e-eeae-4173-9729-d47803f18ad1",
   "metadata": {
    "__GENERATED_DATAFRAMES__": "ᯡࠣ䅬Ԁ朤壠ᜣ琢〹夤炠⹰〮⁁䁻қ䚾ኊ㇠നСࠩ瀮晼Ƭ穅5愠៤⠠ ",
    "__has_persist_output": true,
    "trrack_graph": "ᯡ࠽䈌ʀ匦㢠⹰̡࣠䘤ᥫÐʀୠᎫf挓攩剐挱ᓀ۠ᶪìኅ㋅ተ¶⡨⇳㌄ᕁ╦亩͆ᘽ嶛稨ǁ#ッ௜′䈤7࠽ᠠ湐慎Ⴅᣕ㈣%墎吠➛␠㚨አ䗨揠ˑࠠᲈ䤈幃়䖢➂ტ⊂燘ᢸḬᶤ+凵櫺ರ桚ಟᙙ䘪/ጢ⃃声栤䊔䄩ᖦ删ב䎹イ⁸と㤙塢۸䐫ᒥ䰡団Ɀ㫰Ⓚః囿䰡䳐ᤆ҅櫼ຆफ़〤砠Ḏ亾ᠬ㬓戸℆燑て㈤Գ䔌Īâ≸㼨䞁㡑ᔬᅚ擰優Ţ塼ɛ݂⊈㷧⊚异ᵦ漛㕇┫䈥㑮ၩࡩథ፨㉹๭Ϩ੥⓬ઑ椱⍞ᑫቤ⩽ᓫ㋙ᘿᑋଅƸठÊ柎ࣲ䀠Ȭȫ倡⻣ᠧ⠣䠠㥌ᒆ㖈㫱!燵㡚禢ݕ恰৳楙䶎╿犑᫢㦠ߴ㆔⍍☁稜◐⹣㋂ṑע╸ᙾ໧ᅅ㐩擣悴㑋ʓ慸ᣇ⹥ᒔ柖澄㡄䰮ྦშ䩆㭧儸昻ৡ焘ġ܇ፉᚲ懲琨ɴ┰ᅸᵈ湔䷆妣⃗䝶爦旑洖䎴氅ᷮ䮾揃䅤ᠠੂ㰆ᝋ吥a➰ჶɞ篓漀磜漰ᛞ㊘hत倢͜焿捜紱䇘翣推>䉩रࠩൿ氹䌨撂๰ḥᱨᴤ僘ᢥ䄽ڦൿ湡偎֢ौ橣牚ֻ䠬䉡㡶λ獪ɡ灎൧䠸䗠䁼ሡ䄑Ρ䐺想惇§畃⊉⵱䐧儑೅⥍ޤⓈՅ缹ᩥ‧⫆⤑ె䔑ᔂ⓸ႅ撪ኧ洑Ј紱᫐㹏䐑纓ಀ怳乂⒆捁宙৹ᒎ櫁笭ࡘ䔒䥳Ĵ࿚ጦ⊹ࡔ憠㎊ය玜择ଲ晸⭔ո䅡∱፨䊵劬勧㊢架䮒楹岝ࢺ唭◉ᩝ₋൳⚈y㞯ţ⯫煣.ሥ㩂旕皱井⻛協⠰䬀绕䏑ƨӣ懁䊭測㐐Œ愠硆۩碾ɀ栩͠ᤴ⒨⡌➁ᱱй搩恀Ⱖƀ杕㟲熣㘴ೌ⌴Ⲥ劵᳌刅犿ት湝⛵ⵛ┉嵔琸⑖⁼挤愤⮥䍽୓狼၆曹㭕柽䝐䍘矓睝さ痜➨ឝ圮䖝⳪柽㝅᜝⒳䠝ร䭖䡂〴ཙ䒍䤠ࢃ丶檂ٺ尷Ó硨т勭佑㊌塲㵦䥓㾠棈灐榡⍤沭Ӻ墢ዱ໷㫢ୃ⡰ᕒ义槚屜⃬✩נⲣ毀ㅋ՚䐶̩汄↠尩杠〰矸湧䔙彏悐㹿䪐Ɣ䖌爧㑱䨯㍱緆䑯ㅽ䘤ў畛催⃚坭毚ृ棌⽻椚彯槦∸䄖枝㲩ផ淛ǣ檛深ⴎ僗㺊⫘䀡䪦ᐆ橚崡檾⇠ℋ㻒㧫挆ว⹒рفᄕ綥祰ਏႯ⼡䐸஥䒱ᘢႱኦ傱Ԃ䁥㚫緕䀻䐲⭆थ⚔擬ⳍ≙⡸ᠸ堺僉⭍⁃።⍅ㅦ⧦䁹令⠤䃑䦒熬搃㳤ፖ㍸ኃ崄旬䜰秉夑⸪憾؄㌵矜ဩ曋Ǭ侢䵟ី䅒ந⃗䄥ㄢㅎ嚺挥剧ⴰ幺巂嬤ਣ㡁懰慃傘܁ᄭ慸෡憬⇘ण㢔Ո宎ᛣĠ瘱洬士౦壠⦯ᣩખ綄勶䧄拦捅䉧璴䗩㼨⮗ㄠ㠯庶ඃ扚ⷜ㙸巃䥘②ှၮಣ惌೤ᠮᅨ߂⻛pౡᱰ炞沦ჶᶄ๑Ӡץෘ䊦⢅࢐朊፣઎ᑲ幉涎ȣ籙➐䍭椫ல爫炦䜠Ḵᦜ㙧粄Ơᄣ堠ݐ䱄皬唉廾Ⰵ繩妓噣孕ʥᆐ䖕<䄯尵ॼ䠵Ⲕഘ⾵磿Ḑ㽇熨᠄意溲忧編ဘ䪿㪿㨕㆓䣌専摷ᴝ⿾獟尚群捊⭷ࠠذ咍䇴䂱⠷໙寫㑖䇑慪稿㞤ᶘ愠縨䧹ᶝ柮䕓Ԣ寚₆㿑灞䁀Შ䴟杹᭶差䢚ᯈ篽⮖㴼愎促Ṿ䨫烢䤱岓傔烼珳恜਎⦨↓໘䓻㣩䐐༱狳⤯卋懜ᘹᤌỬ澫䋈⁅㼿Ԟ¨㑁㖱ᄹ㉖គ慉渌䄫瑨⛸妩嬉஖ᠠ䋚ᤋ四厅价਷坚俋䭗⡢ⴰถᓳ⻝а䍧䍫嗹ࢋ⣘樭㭾㉺⩂盻殪⅗⎙㧘羢曨槭䩀䈪᲻姗橣ⴣ橦㞫ޯ䚨䯲⢲¨䴩៵ᆂሱ澦Ͳ枋♩⇨嘫剸ʠ㠣ȝ㥛暚㩌嚔㙉ƌ㖲થ渵㶧㋫䙉琼⥀ḧ湼⠸籸扤嵠ⓖჩ㒣吵ᓲ寥瞑Ͻ狭级嚡䓔䮾崖⥤፲綑ℶ勈✤弐嫝毡㊱⁒兰⒂沂ᶙෲ㰯䂘औᠰ减傣煘㦀ᘥ∢ʈ⑪༗彈瓐ʼᔆ㹣瞜旬㾟䯙စ࣠崒糄㤥㤺❔烽㽢瀩⹼楰☻䭩狗㧘⥶桪呐䁪キ⥵ߧ唼ᯋે䴺ྺ罀䛉׏⭦䥂拾痵堃㾬寳㋵哬嬦璈⤍ἰ㳻⵳ײᗈ晫⥤䚏燆杫榕᳍棲刖㹀䧏❴櫭஋䲶媭ᨈ䧍絛獎㎇滃⊢朴䋯余憻嫍ຫ罽獚⼷慂ᘰ主ᮇ囅喳֤夭崽ମ垷᚝ឍ⑗璔⸸描囀沩㝾თ↡⁖䄾嶣爦⠬ງ႓珞旉༕抠пॼ亄㳔皇㋯什埮඼嵊૛◺ᘖ⮖၄␎ଢ䁸ṝ∨䍭˩⎚ᇰ挭࠶ൠุᕓ䗱垿牐㜦ࢉڮ甮伆ཱྀ崆帜ᬥ忲p兩㸶ઢㄷ紪ᘏ8䇌⥞倅´ڱㄽR匌㉝㢮椡⁲憠ሡ䚣a嗕〠㞙᰽琾慊㼃榝牱㴿喛䎹˧ম准Ьↂ౥撵㲃ᕄቇ䓴丘罵⦭᭓ࢻ⬆ࢳ㘵ፚ廣峰歠ᾤ׉唨种ଫᡍ䃽㎖婷秉橃㱍涎⾋憋殰楫䎞垞㦶懌囵睾ଔ㛦痙殦泫⽖㟖熷⧖ᝓ㳿ฎ㖛䦩篛㥍嵖矮瞋嗎嘽嫮ᬂ墽ఢ瑲斂䥢䄃宴✩編࠘い刕窞綒慩ᦹᶳ㘅厛ᱶ↗ʡ㦖ዹᝈ叹ଋ緌ͼ儶ศḼ扂᳒㉝䑴䒚ሡ䞥දᄷ࿋⼌㷋㷣炒瞺Ì弖䜣禯䐔㼇尵罰⚕ှ亰ᬧ✦䔧洹ᣘ綮唈倰終㢐࿤䖂䯇殈̱箓पຑ刮ҀĺᎩ㷐㯨㲖梌瘷㋛ḻ૿䫃䕡ԁ᧠䣗┡ܸࡵ㣤ሃᤩ秲䈧ہ㋋צ炂㊆⬫㕥硒〳᲻⽤Ē猑ᧉ傥⚉ㅭᖋ婢℞睋㔧೶䈆㔫չ⍶曔ಓָೣ湁垓㎊巻䄥㘀璊ˣ曡㑉ウ⫾滔૗Ꮊᡄ婩㜰䠢䷨↌ࣳᙺ桀溊ࡰ篊䁙婺燰䛙⫶䇕㒗㵻⏩婭㊐ᜠ怦ၔ㞀٣⎧ჽ煘ᐉᐿ泬ˤ㘠⠣懟▹㻱❴幫ᝏ⳹玽㈪Ǐ㆒⊷㌅擽⇪ွ䁕捠ᨙ㇢经盟㬢濦琯烠ᐘᎵ䃏牰Á年缇癀٤夦纲䇨搚剅縣癈俺唿癐埿∤石缍ಧ㈘䓰丬咿㮛⟸壽玿⩛篰㹸燧㝡㓬Ƭ㍡㌻戾縤ހਡ恔¼眃᳋䡡⨢㐷ᴩ榻ƺ円ⓛ灚⹜ឳᇋ禬䅪烀䫚ⵦ溁煐禈ⷿ⼔ಘ溦㑅燞瑰篥ᷳ焮甯⟦с爟๐容繈湡瞕ଥ䑬৏भ࢚嗾य़ೳῤⱂ湑砑㹲⾮慯懜㙪Ϊäԙ⏰怿ऄ݀Ⅲ堠䀸Řⲋ௭᳡ලຒ⯾㚱ପ⶘扝㪋と䱠椣Ⲇ⭅曢ᆻᅽᶚ托㢦䘐ℸ亥ህ೟ਢ㉛ሗ珈琚ੑ刏矸ဠ "
   },
   "outputs": [],
   "source": [
    "PR.PersistTable(df)"
   ]
  },
  {
   "cell_type": "markdown",
   "id": "f1fb630b-fa93-441f-98e6-33eae803407c",
   "metadata": {},
   "source": [
    "#### Column Operations\n",
    "- Rename\n",
    "- Delete\n",
    "- Change Data type"
   ]
  },
  {
   "cell_type": "markdown",
   "id": "15e3c565-6568-4e69-b3b6-34de7814f231",
   "metadata": {},
   "source": [
    "#### Assign Categories"
   ]
  },
  {
   "cell_type": "code",
   "execution_count": null,
   "id": "483f8adf-a44a-4f3d-bd15-d2ac32b5d0fc",
   "metadata": {
    "__GENERATED_DATAFRAMES__": "ᯡࠣ䅬Ԁ朤壠ᜣ琢〹夤ㆄƒ䃠Რ䌡㘳眺㱩哧ࠠ桠 䁯猀ಏ䢪K䈠⾸倠 ",
    "__has_persist_output": true,
    "trrack_graph": "ᯡ࠽䈌ʀ匦㢠⹰ࣥ8ƀᶪƺ〶䀧ء᱊೸夡౮柑䈣〨ㅠ⬹Ƭ⣮侻ैkᑄႈ妐ࢷᓍ❡䧋ގ㸢䉠ð䀡姕冯奀ॢȠ௎䠸ᢀ㜰䁾巓怢機⨠Ꮃ䤠ළဢ㎃凸ì㉢ᥚᬬᕮ普გ愨停Ẕ煍Ꮋഽ䆡\"甕種ፄ㨾䞰ᛥㆢ䀣擠䡈䤔ᢆᩇ卆⏰˸惌求ၖᡄᲊ橁Č⌤⩡㒶・ΰ㈶⠥稈砆碌ṋɒ疎ݚ⹡ŸŜ.箰㞬ޣ㌑Զ㫹癖ᓠ箩ቄ孉懐ⱪ࣌⍅ᡐ婇䏥杮ୂ䃑䖈䞤㊑桲佬秝ሦ䘤檴݊⽢䁤兖ᙏ੄ࣴ䒡䣠夼佀⤴╩䰺狳ᄸ乀䥄⥖ൎ暓㤶Ὀ⬵ңࣣ⫘晇ඪᠠќп•嶦〶倣䪊き⫡ʻ曘Ἣ㍴÷၆κ⻀橖㱞ᾥ椨䄌⤧ׁ墤ᡥ䁅⠴༤䎀怼夭䓢桰ቺᆣࡈ਼台幛Ꭵ抰じ㸨䕀⡴ാ䙂ᣬ㬫䘃碢Ḹ⟊᫭᭩㌋偝㹓䌩㐐䣬ジỳ⳩偹ᙋẽァ㙛Ỻ牙✞⧼瓛皚᰼↠Â㰾ؒ渾⠤ෙȕす翕⾎઄汯㸓⭗䠮ɢ値̔䤢េ䈀䫋猑ሠ߆㸿䃷㱎巴窦䏂᳿堖㩐/᳠⧅ǎఫʚ࠶䆲ూ䃔³恸幁䁰䪧⁈ๅ停ش凸ᚢṐᬦ瀤䐢⅀ࠔ䢌ਠ䢙䬯ǐ㒀â㵡Р奖ఛ焀⿋湰ڊ䙩ે悛╪噯丒纟䖃啜ृ⑲杀⭥൸咚滁᭍ૻ㣪䵰䄴૙̸ȹ䌨攺〸朸፴⊹卄⦻㎞⅂岗ᨇ䍨懪粴଻࢘梻፴溺䊼楰唰∠1㾣粕ᒴ㒍⣧㖬庨璫c籝ㅶ0㵫琢ၬ塠㘭䁸⼮䈚੩䃀ᔥâ㩉ᓀ㑥䠨޵䗰ɭ࣢⺂ȓ௄ⲥ㵈擥୉ᓹ♭䦅㳋撵᥁ⓛ❭榦稩愆昩憨ऎ᥆ԍデ⋩㸇⌋夏㇮嵤᧡㣎ⴂƗⰨ㶯Όᦏ㗧减ђ娏ᷤ絾ఄ槿ʲ֢㈷粀メļⶢͤ䛁ᐊ治粘强䏰倷䙤丹ͱ効ႊ䯧⫝͸牑䕘͐喭䉠⸴በİ杼ᚉ怲甧஋ଥ′猫慘ⲋ࡚稦悈Ḧ⇲㭛扰哨Ꮙ佞Ѐ凈欥抿㥢ھ⯪ǣ勜៣礞㎤㉬䦋ᇫʥⶴⶊ倻ڬ淔⬅⤼ࡆॷݵ檘ཾ䄚䃿殦愪᯦妅ᰚ⳿᭡Ѿ歚睻歐ଯ欦粘乆昢了使᫒熣䯤垭ᠠ㦫≋⳶倡擲㟧䂎万碎䀧ଢ紱㋗䭱๺歵廼缿珷圁橘❣珵㝹碚㬌ɗί惕᧭㈐ㆍ䛐揶Ự♝ᇪ䈶䐕洊਀梭䌨喩㘶䤪ᓑ⽖ᝦӟ擅⃝ᖆ䳁砽䋱洴疛ᴊ㡇ʀ≤灛匼倨窓൙⽳㇖Ј圷梎ᡔ䍠㏼ႂ㱷ਠヵ㇁䌐むᯣϤ䅷֜ᒊ㚈懬‰ᇑ圻ҡ夁ᇓ㍒ㇶ翥朚毬ၱೀ塹់ᣏ≓⼦瓄ᴨ懜ᆥ籜Ԑ庤䑴Àچ䑈̀燁爽⍌㵲籪ኡ堻ĕ㜣倶׀挥圄毌˿ౘ㻊犳⇐!⩃৒அᄠ༅⢐෼〷尧彡޲抠㔨儉烾湍剭⾍穩沀ᣪՋ妶㲤噅ǌ㫦傭䧀ⶸ℣姩ၔ⋎̲瀴ўᘬ㹴ઝᐼ綸ଙ匷⫿㸖ࠬ環劰㻧䒜ⴺ勯䖠⾣⓿ᬣ弧痐䌭⺲!⩏ԡ䝹尰䷘籷㤗㾔ཱྀ燰⵮ဠȅ咁๜淫䀠ຽǪ峉柅⡏ᆁ㑱ːརテӵ寿棺厡灉ࡤ☣٬ʀᑩ䂅ᦜⰧ䇦嚣ࡔ⊐Ť㓁凬⠀ⲫ渼㧺ᴓ䃙推欱ኔ䵜畮ଉ烠ንࠧ夛̈溶Ƥᰨ㴹䊚禢穘᜔桙㦁匤细琝෣惖ᛡ∶℠橣ὢ䌿થѭ݃⠵⍏曶䲂懼恃᱉揦෥帢ΐ晔卉⼢㪌刏ඓ㝈֢㫤硺ਐ嬨ࣅ഑剩㆘ϡ䊫ᄲ㴲ᅉ㯤ㄶ〹坄㺩䑈Ҵ搯Ⱈ佹ඁ寵ڶग䉹㼲奡ሲ廕怤令榿ᮌ悊ᄨ淑Գ䋆彭漨牮㼡ⶭ嫤庴㭣ᑩឃ჉ᆅỳኝ囪牠㥙を⁬ռ垾秸਒吧犅䱸Űᙿ⡏ˮҥィ䲍ᬁ෇冻Ⰵ孿撖樒皰⬥ࡹ橰噓奲↋䩥⁜撵㮔眰栩喼ৣ橜漿㍻䀢▼Ὓ乽䉼楆⽵眐⤵庞䫵ℸ䈁អŠ榤㥄⋷䴴⁌䣨䖝堵ⴸ༡䉑䣢狷㔝睉⺹⥝ኸ絀㏏䧇٫│祄癰࿥㏏汐䝈䌤ŦἋ䜥ᕀ畈ͺ⩼干㡬嶢èయᶶ佇ᙾཏႧ暈҂③團⋞䋥⛧ᡮ᫊䪋᭤渳嘸婑忬孂⛑䑯፿᪐䂊⫮㞱彻♢ᚺ㟌⌏㶚㞺䵐䇈樉ᾁ声ᛆ嬁儸䀧Ԣ〮Ƅ⢀≵㄄ņ祄ҙ效п䒫牬䞪撉竓ẵ䜼爒弡燁熣㿦ɺ暤揤ર͝⬯仱ᎺἮ洓⃫᷒✶禰第仒沷眖〆ذ匰Ꭲ坋疤㰉灯漝⨫縑ရаڐЭམྥ⒥嘚岋ጼ氊櫶〠۾㏏㶸౵㋀䳷սค溼᛽扩爔 恟䇠ख㺃淤暯⸰က伲竊坬ი䗜⒬ⷧ槾䯬纫扚὜㮨᠇纔眢侏京䀽౜㫸なၖ暐Ⴏजլ᤾㴹數⩞䄬囘塔砸涶䆫ಠㄪ䌻挅䎣岴ᘲ䦖䐘悪Ԟ噪劻Ĺ⼫眶ɑ㨻熑᫃㲾⧼坳櫿ⶻ怩༾ጢ另ἢ䤮礏≠⴩䦺卭ᣓ⣒Üଖ૪¨᳇剭佫Ţ畢Ҩ䱦㤄Ɗ氳橒睨ᶮ⸶幻ᦗ㝩⭍癖⎳绡搪㛖ါͲጬ堵兩˖㝾斳㻮攒㏣畟䅡焋㳱榍澺簍奠ᾛ嬇⿔ត氼ဠ "
   },
   "outputs": [],
   "source": [
    "PR.PersistTable(df)"
   ]
  },
  {
   "cell_type": "markdown",
   "id": "94a72763-7cba-4fec-91f8-8f673585a7e2",
   "metadata": {},
   "source": [
    "#### Using output dataframes"
   ]
  },
  {
   "cell_type": "code",
   "execution_count": null,
   "id": "97add61b-8b77-40e1-8a99-80da51e1ca12",
   "metadata": {
    "__GENERATED_DATAFRAMES__": "ᯡࠣ䅬Ԁ朤壠ᜣ琢〹夤〡䈡㥠怼䁣Ö࠯൜⓴殨⁀Ѡ➠㬪瀬え䔠ᗢO嗂фɥ棪⭶䶺攠ỽ┼⪊LČⴝ⠡ᥲ倥吐Ā΀Ԅ寺㺯㋠ᇉޯ䬡ⱘࠠ㌿䇨᪣䕧犰塡籂⡈їԻ今䂦ℋ⢌缈Ⱗƭ䜹溮䋓榙ᱜ㛾欯⨡勈愣㝢ۥ恳僄繤ᱚ宦`۵·灠܆繟⤽䬲悄৕᭚䲣梶ݾ必唫ބ๾䒘ˈ劼䢊㼲㒺∩᜽橯ౖ୸᭫᷉凹掏愥ᙲܣ䈌穲េȘ縻ତર塸儥㥱ጸᵥɀṮ᤯揈;ࢼ䜂戸噀ٴ∎ᅐ澣೸ឨ%䧠ҹᤩš䠠ᱴ䁄ণⱣᆢԘガ✰Ú榋ǡ焘㆚࿩䁄焰  ",
    "__has_persist_output": true,
    "trrack_graph": "ᯡ࠽䈌ʀ匦㢠⹰ˠ㬡దᥠ♉‶䖠ภ氢㤩⮠㌵Ф〰椃䈥〠憠㌧૜僙ↆ㉪2攩њ㙜˥擈毲㖎淯䁰䣑ဠ㑀Ⲁ仨ɰ䂠̄㈦;䘸Ϥၗ眽〠婨䳀n㝄V䐤䇫⃠净䣙哔婂ਫ઱䉪晄ㅡ凳ᡐቺ⼨7Ⲃ㆐奁㦬壁晛ఴ>☤䃣↑㦐⣜⸬ᤰ抸怫ㆣ宫ၡ䲀䢉巄䈳墮೉ɒ氡圃暀令㳀ఌぞ⻳ᣐ瘨痭尲昢∧〤砠ᶿ἞ᡌ໧愤䧼䝓䳤妆楌䚧惐๓٠愨㑏ɥ懈屏୤၈殧ࡢ䆦帪ᙄ㇔䝛昕䤺ᡓⴑ᰹捔⬷䔲擊ⵠ撸泛֣搪䘱≳ᕁ᥇䳫䐲⒪ʳⓙⲮ⟯攪౑⩴㣬䙍⨀ƴႀ仠04堼֣㣀恠຀ɲඬᯰ栣䠠奠帠Љ㻡⟀ܷɬ嗓夁呡似࿋夽佶ġᠠ垑叀栤䅰䶁嬸ἣ䷡燩ᠼἤ⊱ᐬ㵢懑᰾ᾨጩ⊑Ǆ棕浕寋欁屒ԡ䌀䌩䪃᪡獥姂媇ᮍ䈧堼䞛䴇ᠻቋ䜇㦆⁘ᩣ!≉ῶ熙‰ㇸ恭䁧燡㲙楏╛焠玖㾴༤⋀У疲䈿ᦢ沒ᾞᙠĔ㯥穆篲ᠺᣮᩆ擤Ƽ石窘濷筜泹刡伨բ挬஡夻ʂ䑣°䈬䌀㋥°ⰷ䈰昷吂ᐹ䍼ᠣ䂐ሣ̐昣ϡ䌱ۨ映䐞ౘ١㬧⥌ӡ́灡ᮜ炪↪ွ歴㠻棠彠ᢸ⃥ᢠ㍫ŀ㬸ᇩᎴ犌徿爢恮慸ᠶ䋨礨奈勵⇰ز妈᫷⏶̡㭴圢ࢀ䙤̤嬿ᩙ䔤壈狽暈櫧⇶紱墠Ⱑᬤ೼ᘶ䣙≱㝃ⅶ洶娈۾Ԡ  "
   },
   "outputs": [],
   "source": [
    "PR.PersistTable(df)"
   ]
  },
  {
   "cell_type": "code",
   "execution_count": null,
   "id": "4f825155-3cdd-42c8-88c5-ef7891b64b37",
   "metadata": {},
   "outputs": [],
   "source": [
    "test.head() "
   ]
  },
  {
   "cell_type": "code",
   "execution_count": null,
   "id": "39263d07-8624-4b3f-9e59-5533a1e98e02",
   "metadata": {},
   "outputs": [],
   "source": [
    "persist_df_10.head()"
   ]
  },
  {
   "cell_type": "code",
   "execution_count": null,
   "id": "eff58716-b18f-4c00-9a93-3ed2443344dc",
   "metadata": {},
   "outputs": [],
   "source": []
  }
 ],
 "metadata": {
  "NB_UUID": "9b2f5bec-a755-4a5b-a877-fe1a880b9f38",
  "__persist_keys_record": [
   "__GENERATED_DATAFRAMES__",
   "__persist_nb_uuid__",
   "trrack_graph"
  ],
  "__persist_nb_uuid__": "be067817-dfa3-42d6-948a-39c4b95d3382",
  "kernelspec": {
   "display_name": "Python 3 (ipykernel)",
   "language": "python",
   "name": "python3"
  },
  "language_info": {
   "codemirror_mode": {
    "name": "ipython",
    "version": 3
   },
   "file_extension": ".py",
   "mimetype": "text/x-python",
   "name": "python",
   "nbconvert_exporter": "python",
   "pygments_lexer": "ipython3",
   "version": "3.8.16"
  }
 },
 "nbformat": 4,
 "nbformat_minor": 5
}
