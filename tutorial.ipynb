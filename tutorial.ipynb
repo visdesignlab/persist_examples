{
 "cells": [
  {
   "cell_type": "markdown",
   "id": "721323cd-bb01-435f-a189-52f86ac438be",
   "metadata": {
    "trrack_graph": {
     "current": "5a5a00cc-06cd-4338-a90a-1365ce04ac27",
     "nodes": {
      "5a5a00cc-06cd-4338-a90a-1365ce04ac27": {
       "artifacts": [],
       "children": [],
       "createdOn": 1699995232057,
       "event": "Root",
       "id": "5a5a00cc-06cd-4338-a90a-1365ce04ac27",
       "label": "Root",
       "level": 0,
       "meta": {
        "annotation": [],
        "bookmark": []
       },
       "state": {
        "type": "checkpoint",
        "val": {
         "id": "0ed02552-2223-4b2b-8843-223fb8396132",
         "type": "create"
        }
       }
      }
     },
     "root": "5a5a00cc-06cd-4338-a90a-1365ce04ac27"
    }
   },
   "source": [
    "# PersIst Extension Tutorial"
   ]
  },
  {
   "cell_type": "markdown",
   "id": "0892e834-de92-4f36-85d7-deee12490be5",
   "metadata": {
    "trrack_graph": {
     "current": "5719397c-958a-4994-91f0-d7a66aa497ed",
     "nodes": {
      "5719397c-958a-4994-91f0-d7a66aa497ed": {
       "artifacts": [],
       "children": [],
       "createdOn": 1699995265084,
       "event": "Root",
       "id": "5719397c-958a-4994-91f0-d7a66aa497ed",
       "label": "Root",
       "level": 0,
       "meta": {
        "annotation": [],
        "bookmark": []
       },
       "state": {
        "type": "checkpoint",
        "val": {
         "id": "52dfacb4-8b03-4e0d-a810-0a3f919ebb61",
         "type": "create"
        }
       }
      }
     },
     "root": "5719397c-958a-4994-91f0-d7a66aa497ed"
    }
   },
   "source": [
    "PersIst is a JupyterLab extension to make interactions in cell output persistent. Persist tracks interactions for compatible outputs in a provenance graph.\n",
    "\n",
    "Capturing the interaction provenance allows us to save our interactions with the notebook, and replay them at point later. You can even rerun the interactions if the value of the variable in the persisted cell has changed. Persist will try it's best to apply the interactions to the new variable value.\n",
    "\n",
    "You can import and enable the PersIst extension as follows:\n",
    "\n",
    "```python\n",
    "import persist_ext as PR\n",
    "```"
   ]
  },
  {
   "cell_type": "code",
   "execution_count": 2,
   "id": "dbc49dae-f456-4ebd-9146-4ae6ba83838c",
   "metadata": {},
   "outputs": [],
   "source": [
    "import persist_ext as PR\n",
    "\n",
    "from vega_datasets import data\n",
    "import altair as alt\n",
    "import pandas as pd"
   ]
  },
  {
   "cell_type": "markdown",
   "id": "2dc9acb1-d4fd-4949-843b-fa0afa32387d",
   "metadata": {
    "trrack_graph": {
     "current": "5719397c-958a-4994-91f0-d7a66aa497ed",
     "nodes": {
      "5719397c-958a-4994-91f0-d7a66aa497ed": {
       "artifacts": [],
       "children": [],
       "createdOn": 1699995265084,
       "event": "Root",
       "id": "5719397c-958a-4994-91f0-d7a66aa497ed",
       "label": "Root",
       "level": 0,
       "meta": {
        "annotation": [],
        "bookmark": []
       },
       "state": {
        "type": "checkpoint",
        "val": {
         "id": "52dfacb4-8b03-4e0d-a810-0a3f919ebb61",
         "type": "create"
        }
       }
      }
     },
     "root": "5719397c-958a-4994-91f0-d7a66aa497ed"
    }
   },
   "source": [
    "## Supported Outputs\n",
    "\n",
    "Currently, persist supports two major output types: Vega-Altair plots and interactive datatables."
   ]
  },
  {
   "cell_type": "markdown",
   "id": "0dd3f9db-f762-4cb9-ae32-e66f177df309",
   "metadata": {
    "trrack_graph": {
     "current": "532e7b35-40eb-49bc-bcf5-4ac20f338809",
     "nodes": {
      "532e7b35-40eb-49bc-bcf5-4ac20f338809": {
       "artifacts": [],
       "children": [],
       "createdOn": 1699995589077,
       "event": "Root",
       "id": "532e7b35-40eb-49bc-bcf5-4ac20f338809",
       "label": "Root",
       "level": 0,
       "meta": {
        "annotation": [],
        "bookmark": []
       },
       "state": {
        "type": "checkpoint",
        "val": {
         "id": "6680bfac-15fc-4ff4-b8c1-1921d906a0ec",
         "type": "create"
        }
       }
      }
     },
     "root": "532e7b35-40eb-49bc-bcf5-4ac20f338809"
    }
   },
   "source": [
    "### **Vega-Altair**\n",
    "\n",
    "You can create any interactive Vega-Altair plot and pass it to create `PR.PersistChart` to create a persistent chart.\n",
    "\n",
    "E.g.\n",
    "```python\n",
    "\n",
    "selector = alt.selection_interval(name=\"selector\")\n",
    "\n",
    "chart = alt.Chart(df).mark_point().encode(\n",
    "    x=\"X:Q\",\n",
    "    y=\"Y:Q\",\n",
    "    color=alt.condition(selector, alt.value(\"steelblue\"), alt.value(\"gray\"))\n",
    ").add_params(selector)\n",
    "\n",
    "PR.PersistChart(chart)\n",
    "\n",
    "```\n",
    "\n",
    "The above snippet of code will create an interactive persist scatterplot with brush interactions.\n",
    "\n",
    "Alternatively, persist comes with `plot` module which provides helper functions to create simple plots like scatterplot and barchart."
   ]
  },
  {
   "cell_type": "code",
   "execution_count": 10,
   "id": "b58f8f0f-8f4b-4346-8c48-3b0b22d758af",
   "metadata": {
    "__GENERATED_DATAFRAMES__": "ᯡࠣ䅬Ԁ朤壠ᜣ琢〹夢゠⹰〮⁁䁻қ䚾ኊ㇠നСࠩ瀮晼Ƭ穅5愠៤⠠ ",
    "__has_persist_output": true,
    "trrack_graph": "ᯡ࠽䈌ʀ匦㢠⹰࣠ᇚِೳ͐׀˦传᳤ށ⥡ĭᐩ怩䁬∣テⳉ㸀ç⒴E䨲࢔ⳙѫ䥱埄櫽䮯Ὀ䇢†洉僧沰ӁĠפཬW౐ᮨ⁏⻹ӠƊῊ)攄䀦梣ᢁᠼ๪݁ᆣ䦣ك儱ࠩ೐䘢Kت೦≐煡梲†嵝㺣䓩G哢ױ⸒Ēいഠ䁣䁆Ⓠ㈁炒碚{వ塹ȧ⌤䍭ⵤႽ䐰啨ല怭㜻値睢ᔠ彝Ȓ第喀䝼淡 ≀⬠➠ǩ笃璩濜Ⅴ杇侃公姘䥃⇐๓ॢ䅐਱④䡰䙖cᅂ娮ⶡ摪䨾ೡ擨晃ਃ㵞䤳⌡㒾Ꮭៀ䓂ᢼ↴▲≊⺴撀沾⁲ᓰኹ☓ࡄ圳ᴵ䘂癪⚰擒峞⡶ᕪ狕⒃啼R䓩૔倠 ֳ稀^吀஺⡟╺ഠԱࢊ塀䎊ဤ儉ڠᵦ԰Ć漵二ϭ紺ܦ㬐Ҿ܈窒∪ʢ筜媰ᬃ䄕䰭䣵稜₺昰ऐ㐽ມ旒䘠䣡↨Ғ❠烨㐡ૻ悀㐺ࣣ儐㢧ਃ恰咧র瀨䩇݂䃀䨀坠ᆸἇᝣᄸ䰪ೢᅊ㵛悒㡼⤦ڡ成扉Ţᇈ娣ˣㅘ湏࿢ड़檍ᔠ瓚䨯⟰಩ౠ桠⓭ᦾ㳨塺ૢⵖ㛡ĖǤ㤎᧧ᠢ◭㦎ۧ儀㢣 ⣖ۡ竍攠値٘稠֓㤁ℯᚶ㰴䰁'䫡磠吵Ӏȧ㲲ࡇ㲦ᵵㅍᯤ䠠ẹ䚑紲䓑᳦分ာ焑㹕怩ⅉ琎兂③㴤ࣩᙈₐᲨ⨔ᒪϖ∮㮄㈥ᠨȠ⇮劮䃙⠧ᇰĩ┈ᕒ⇰㧳懑ㅕ掩絖❩ブ㊺᪮ɺᠺ槺紡梶㰠ǰ爾䆶㋌呠璎ʵ䢁䡵ૂ峢㘠氺䎐昢⎈樱挸⊶شɐ厈䛴爽಺匴偃፶楠牳䳄䁾ᰇ糍ᖁʰๅ䁚॓䋙ᮻ崠䘄糷ࠄ␩啗䒧䄡ȥ巤䂊ᩃ཯ජ䐳Ԣヰຖ⻩Դⵋ⮋浵伛㰨ᗈ䀠Ȏ⑞ଶㅶ䠫㰜⒮⩣ᢁೃȠⱞ塂ž⿹╼R㥖⡿Ţࡪ䯲噻䚚๷䨪煼✩ᕢࣚ䨣欚䃡氊猨殸㍵櫺瑨᭮⧭牦檷᧦䢹ᩄ娠ै尭燭ᒷ卡Ѳġ⭠ਔ効增☧砡㎦む㘩ᇄᨋᅏʣ㲴㸊傿ڪ綤ਲ਼⤼ᡂ䁰妁ⳋඇⰻᄤ済⮎浛㞋減ℌ硁⮧㝋ᨭⱒᏘ浑ᯖ汛ŵ眛Āᵜ↬㄁滀刭৆㒂台䪲珌欳⇈⢝㿈෡啳⪃Ꮘ⣲ƔⅩḮ䴌⎥䱠㲿哾徨ঢ㫢R幍峀٦䧒ᄭ䈋٨懛Į䄈༃༇椗ࢼ⶯Ⓜ撅ቧᗙ⋏摵჆啔垬栭㠈䇚⽯栩モ䁚䠵ᢆ⠡όᐺ笎ầȰ懧⏮ᨺ჎Ẅ憛䗢Ʉ⊠ᴑ㑽粮䚫䣒஁⏢ㅟ咰㙁戲昨ℭ㑠ᵨ䔠⮉ふ浀䜲Ģલ漡扥Ǩℊၕ㤰੷ၒ0是棥ⱕ⍭⒀ၨ灶桩ĩ䁂ु͇Ąᑢ呎屸ƹ᧋⧕┥ㄎ㛡慈ੜ᳔籘䏱䡧ࡪŰ汇攲㙆昫ሜ⇢᩷Й弧ᒟ׈缬祔ࢪ淦䪘殬䐠揸㎤ᑾݭ㩗ॐ㓊䢍಴ᎂ弬␉䧈媪Óಬ獖ૡ⌵憜淕ṛ扁嫉↨䐤刡僚਀䘼慥ⴃ兕抯內ˇ䑝ᚓ䖇呪喯煀ອ楒䂔㝤䪾⟨慯㢡඲煊⧑⼴⽬Ų⛆䡷⏳๐㢬劑䢷ᅑᜃ♚㖔䂄ೄ䆰ਢ䁴斾䭅I䱠㤹䂷ണᡉ⌰Ḧ恝䶌ᰫ檸Ìַ爞ٻ嗆嫘㛗ṙ˜䔧㱊ङ樥磔ฐⷍ↢㺫桞猀綴Ṥɜ握夸ኛ嬬积̔灯ᜤ煫湝࿼⃑䆧墠Ⅴ祯ⱊ႙皀䘍ㄦৈ⧩㘒͛⋗⑴溒㩴⁎㰤⃥梳旪ලᆹ࠹R疀灦焠䳬㲍棄ֳ嶫ᑀ䁘灹ŢႛᏎ硬⃃慠भǲ݀䲮曆ௐ炌׼䶠㳋楁ǡ浣岘嶤㣖ᒔ笾掮很桇滰欢縟°卐恬Зĥ䆞斦繸◑㬿㇟並僚஠吩慸ԡ扁ǐ᠋呲ɖẨႌ慩⮡⃑፡䏅्ኃ孷䉌㒥ѥڈ婮傴ǜऺौ懡䵊㍺⚄盙䛈憎ंⷉ䐢ᠩխᰦ䶋⃆獲䘍ય㓒ࣱ⨸斔ᣲ䕦婆ョ算ָ儈ᛡ૑⨺䑝⩓᥼㍐❔ᝧ䚰垭᜿๩㼲⸓ᄵ᷃䇛㿈爿㜸弉໣棊⒱⼝Ỻ᳞剢㦸妽盤兯溣ᔉ䴍╙敲柝婇⪗➏睬籨Ỏ仮庶綣ẝణ㭗㼸愝㞍ᳯ㚰Ϡ咤㊜൝㲹汸ᵃొူᤖ㉴ↀ☹凈斓䫦狵䍹㗉煜廖幻晰ߦ僯䧁娫搬စှÁⓋ₉ⶵ綹䀪嶠䫃䁵㝃喅㎶呡櫟㙥⥓Ꮴ݆ઉ♴浵皚䶊嚸檄環唏吴傧敔۠མ爣ᗆ⿁㋿೎䄠⫕橐榣ᦻ偵ᚧ㤶㞓ц༌冭⁴Ѡ㤸䇂ሴ䠲嘌娤倵⼌౹₾Ԡⰵᢤ႙愽㯥䉠抆Ӡሇ䁘ݡᄬ䆳Ῡ疁烗၈཰⼥爅ט典烐䨱㸓海牚瀄强㝍ゾ疀⭑俩㇀䊫綜ਦ刴⛿甭᮫ᬱ徥ѺᮆŖ㙜㛦䝕㞄洠哷曈ὒ姒㐇⹆ށݖ䬎ᜑ瀈悸晵廴㏇㬋ₖឍ沮冎↥䱠壒᳷寻㏅搏㬏㼐癸复ᛡߑ౐჻嗬珂ဟ㇕᝽滩㪯緻২ᓆ৵呮ᅃ盎紼ቱ瓞䩯ƴᨧ䪋橝偔墋瘠揄㳩矈揹ቪ漝嚎筈縮翍剪㠮ᄅ☔䵘И㤹䷼䟹娖࿄⻉ⱽዎᶜ⸐Ꮒ㹇暐緘㊧碚ঘ׻ቆ犀㩢㹘庳曍⏓攡̨凧ዎ⹷䎘㗭⭋ϙ๓့佀㲐淾⁮䷗枻㕣ৠ㥢ᇦᰳ䕘㎸䄇Ƒల烎ૉ㤭拼ᷭ厲ि᰺ῇᖱⳜ炂⊞⹵敯䷭峛䦇ὦ朓໮䗣伔珅㪗└䘬斴竫冶ᨃØ⦿ᐪ撢ଜ憗其୲ஜṤ䦈ጢく↌䰠㘡䄸既ⓑ㭷䰷Áᦛ畱牨㬖䩖⋾乯ᑜ䟩䪰⦥ᡨ㽉稭怂徛㭀ฮᮯ材廚㞝㘨΂ट࢏缬፻ဴ涸㕨俖⩁䂯簸䫰䐲⍉汓⺖疥Ꮊᳺ⟎Ш炏Ψ曣丼䇁͸ሧ䧃)෸ൖᤢᆽ擌ᖅ峛ా⧦嶅篋攘沌侲য散斌璱⅊ㇼ䔖樕俄熂惞ౠሼ⴪Ϙ扦泆縎♈ⶀ侯Ȩ͞㨐ࢂ綤ዞㄯ⿄䌳䩪歗኱刌揲熓朷ᑻ棪眖㻇㵋䡰⡵坃ᓨ࿾䃔࿐ⱥ⨶ᡂ椡啼඾䥴举㶇ࡾ䗡ឪ㷷๾ഓ媭ႏ搘㰐డላ࣠栔竄࢝⌁㧒罂氮憐䀓ڿ嗶攺怩.泠Ꮦ⓴ㄪ㒰⚺ᚣᷜ堰၎粲⁣㘓▮㈰㷉㕌ᚦ稶撱ᤪ䏎䢖䴽⎞櫺儴㋇瑾毮ᢤ璚Ლጮ檰䇖ᥦᛲ熩㛑ӻ⊦㳄Ꮆ屹䙠ᦨ㚥ᳬᨆ䦭厠抙敂⥠汼ഠ滮埴Ⱡᶺᦲزホ⎦಑ू⯃栻湎嶪䯔拡浱↔沜ซ濁喐岍䓨ৎ喫Ᵽ探䊡⦆䐹ⴋ̨⧠拟Ȧ䡠孆恋Pࡶ℡▼ᇨᬎᙗ㯇岈Ḏ枷歏ಭ䈒䅓ᬨ䵍䗈॔㈠䅂枠棑幌⸂无∃⁒ⱷڶ籵瘭煓慈穮݃Ꮍ䵘㣔瀻ቑ⇩ಢ抚⶙ᖶ⬓䌠Ƥ㔠㡣ℯ娩僯斛ކᇢ␌烹夏䗙㪃屹ᯪ䵁આ撃ᧉ卵᪉⾃犤⇵愼ᮚ愐వㄹ᭗竟ᅃῠ嬿秄‥⮎ൠ֠偒※᭝塠⤌⼢⣸ݩَ̍ᠨɘּᤋ㭠㏫兓䦸圣榼⨹榹ᥬ极刃㼼圷䕅ὓ⤍碼᪍ᴔⱪ⁂⁂ᩌ玪⒝᧰ዼ室尲ǂഠ斥࠻愮ব⼆睊߼䔐䒽挦ֲぜ彌፿䯐ㄡ㟇值婓ԡ禅ᰭ䫐ݜ஦⬪奵䛌疎ᒉۘᦒ禇犕攵䮓▎⭣䨎ℰ޹僋ᭃءִ㑁硲䔉侹咡竘ᴉ稫ᘰ妗ᅃڼ㲃⓪彬暸啫⛊嫲␱㎛⚞ഘ仏梘戴ಁ矡ᭇ犚⅃㎃甏符忳耄೨椠㑓㤺Ĉ࠴㸤䔼㬸柆乓ᔱ䳄收㡉ˬᙱㅩᛕֲ䳾ࡶ㶤屰絹叭Ꭺ䱲䳺䮢㪉拫⳩̞䀓找ቨⓑᶐ⦢␼䈯ᦡ儡摆ɏ䜸㈂㔉拢ᔳ᫧䤭僆⨡∤࡜惭哔⍩∻Ȯ⊣ⲁ瞊֮❸㼂礣㇜徬⛣ᳶک库㟂䈠䉸ᤑཇ℗ᚲ⁝干惽ƘከĦ炩⪄ᩬ⚾̙ᮺ⣭偺㌻➊垐✤  "
   },
   "outputs": [
    {
     "data": {
      "application/vnd.jupyter.widget-view+json": {
       "model_id": "fd99a06e332649828c71d52a86ada592",
       "version_major": 2,
       "version_minor": 0
      },
      "text/plain": [
       "PersistWidget(data_values=[{'__id_column': '1', 'Name': 'chevrolet chevelle malibu', 'Miles_per_Gallon': 18.0,…"
      ]
     },
     "execution_count": 10,
     "metadata": {},
     "output_type": "execute_result"
    }
   ],
   "source": [
    "df = data.cars()\n",
    "\n",
    "selector = alt.selection_interval(name=\"selector\")\n",
    "\n",
    "chart = alt.Chart(df).mark_point().encode(\n",
    "    x=\"Miles_per_Gallon:Q\",\n",
    "    y=\"Weight_in_lbs:Q\",\n",
    "    color=alt.condition(selector, \"Origin:N\", alt.value(\"gray\"))\n",
    ").add_params(selector)\n",
    "\n",
    "PR.PersistChart(chart, data=df)\n",
    "# chart"
   ]
  },
  {
   "cell_type": "code",
   "execution_count": 15,
   "id": "5c2b8242-3dd9-43ef-b50b-534f121fe1a0",
   "metadata": {},
   "outputs": [
    {
     "data": {
      "text/plain": [
       "(317, 9)"
      ]
     },
     "execution_count": 15,
     "metadata": {},
     "output_type": "execute_result"
    }
   ],
   "source": [
    "persist_df_2.shape"
   ]
  },
  {
   "cell_type": "code",
   "execution_count": 4,
   "id": "915eaa9b-b5bc-4213-96f2-226020953c93",
   "metadata": {},
   "outputs": [
    {
     "data": {
      "text/html": [
       "<div>\n",
       "<style scoped>\n",
       "    .dataframe tbody tr th:only-of-type {\n",
       "        vertical-align: middle;\n",
       "    }\n",
       "\n",
       "    .dataframe tbody tr th {\n",
       "        vertical-align: top;\n",
       "    }\n",
       "\n",
       "    .dataframe thead th {\n",
       "        text-align: right;\n",
       "    }\n",
       "</style>\n",
       "<table border=\"1\" class=\"dataframe\">\n",
       "  <thead>\n",
       "    <tr style=\"text-align: right;\">\n",
       "      <th></th>\n",
       "      <th>Name</th>\n",
       "      <th>Miles_per_Gallon</th>\n",
       "      <th>Cylinders</th>\n",
       "      <th>Displacement</th>\n",
       "      <th>Horsepower</th>\n",
       "      <th>Weight_in_lbs</th>\n",
       "      <th>Acceleration</th>\n",
       "      <th>Year</th>\n",
       "      <th>Origin</th>\n",
       "    </tr>\n",
       "  </thead>\n",
       "  <tbody>\n",
       "    <tr>\n",
       "      <th>0</th>\n",
       "      <td>chevrolet chevelle malibu</td>\n",
       "      <td>18.0</td>\n",
       "      <td>8</td>\n",
       "      <td>307.0</td>\n",
       "      <td>130.0</td>\n",
       "      <td>3504</td>\n",
       "      <td>12.0</td>\n",
       "      <td>1970-01-01</td>\n",
       "      <td>USA</td>\n",
       "    </tr>\n",
       "    <tr>\n",
       "      <th>1</th>\n",
       "      <td>buick skylark 320</td>\n",
       "      <td>15.0</td>\n",
       "      <td>8</td>\n",
       "      <td>350.0</td>\n",
       "      <td>165.0</td>\n",
       "      <td>3693</td>\n",
       "      <td>11.5</td>\n",
       "      <td>1970-01-01</td>\n",
       "      <td>USA</td>\n",
       "    </tr>\n",
       "    <tr>\n",
       "      <th>2</th>\n",
       "      <td>plymouth satellite</td>\n",
       "      <td>18.0</td>\n",
       "      <td>8</td>\n",
       "      <td>318.0</td>\n",
       "      <td>150.0</td>\n",
       "      <td>3436</td>\n",
       "      <td>11.0</td>\n",
       "      <td>1970-01-01</td>\n",
       "      <td>USA</td>\n",
       "    </tr>\n",
       "    <tr>\n",
       "      <th>3</th>\n",
       "      <td>amc rebel sst</td>\n",
       "      <td>16.0</td>\n",
       "      <td>8</td>\n",
       "      <td>304.0</td>\n",
       "      <td>150.0</td>\n",
       "      <td>3433</td>\n",
       "      <td>12.0</td>\n",
       "      <td>1970-01-01</td>\n",
       "      <td>USA</td>\n",
       "    </tr>\n",
       "    <tr>\n",
       "      <th>4</th>\n",
       "      <td>ford torino</td>\n",
       "      <td>17.0</td>\n",
       "      <td>8</td>\n",
       "      <td>302.0</td>\n",
       "      <td>140.0</td>\n",
       "      <td>3449</td>\n",
       "      <td>10.5</td>\n",
       "      <td>1970-01-01</td>\n",
       "      <td>USA</td>\n",
       "    </tr>\n",
       "  </tbody>\n",
       "</table>\n",
       "</div>"
      ],
      "text/plain": [
       "                        Name  Miles_per_Gallon  Cylinders  Displacement  \\\n",
       "0  chevrolet chevelle malibu              18.0          8         307.0   \n",
       "1          buick skylark 320              15.0          8         350.0   \n",
       "2         plymouth satellite              18.0          8         318.0   \n",
       "3              amc rebel sst              16.0          8         304.0   \n",
       "4                ford torino              17.0          8         302.0   \n",
       "\n",
       "   Horsepower  Weight_in_lbs  Acceleration       Year Origin  \n",
       "0       130.0           3504          12.0 1970-01-01    USA  \n",
       "1       165.0           3693          11.5 1970-01-01    USA  \n",
       "2       150.0           3436          11.0 1970-01-01    USA  \n",
       "3       150.0           3433          12.0 1970-01-01    USA  \n",
       "4       140.0           3449          10.5 1970-01-01    USA  "
      ]
     },
     "execution_count": 4,
     "metadata": {},
     "output_type": "execute_result"
    }
   ],
   "source": [
    "df.head()"
   ]
  },
  {
   "cell_type": "markdown",
   "id": "33d88224-c199-41e3-9c83-05f75d9a013a",
   "metadata": {},
   "source": [
    "\n",
    "You can see that the output area looks different from the usual output for Vega-Altair. We have a toolbar on the top and a sidebar on the right. The toolbar gives us host of interactions we can perform to manipulate our plots.\n",
    "\n",
    "Persist keeps a track of your interactions and stores them in graph called provenance graph. The first tab in the sidebar titled `Trrack` visualizes the provenance for all your interactions in the cell output.\n",
    "\n",
    "In the second tab you can see the text summary of everything you have done to reach the current output state.\n"
   ]
  },
  {
   "cell_type": "markdown",
   "id": "b74296c9-2e95-4cc9-a343-5b714c28e39d",
   "metadata": {},
   "source": [
    "#### Interactions & Persistence\n",
    "In the next cell we have the same scatterplot, try interactively selecting points. You can repeat the selections as many times as possible. Try clicking on different nodes in the provenance visualization."
   ]
  },
  {
   "cell_type": "code",
   "execution_count": null,
   "id": "395506b7-7f57-4c0f-a7a8-8b49de034d5d",
   "metadata": {
    "__GENERATED_DATAFRAMES__": "ᯡࠣ䅬Ԁ朤壠ᜣ琢〹夢゠⹰〮⁁䁻қ䚾ኊ㇠നСࠩ瀮晼Ƭ穅5愠៤⠠ ",
    "__has_persist_output": true,
    "trrack_graph": "ᯡ࠽䈌ʀ匦㢠⹰໠ㆡءゆᧀⴠ䘡ⱐʀᖠ暒ʐ௜禤ɐ湬ᑐۧ⁓㥌≩•ⳁႧ⛫侸䳅ක䛬汙㬐ਲဦ䈠ۣᖬǉj࠰|∔怣㣣ט䈲曽䡔6ㄦ倠➇ሠ᭠௏偔㪹ဠച㒀䙕䘪/ጢℰ儂煢爴ᄶ#䜳柰˸懌ᣂာᡄᛚ晁ˬ⁧畸嘠歪䙀㟌Ḱؗ樮尘ᢈ欤➄␮˳ߎ堢㰠໋㝿㹏㎂ق猐㢁䶰′⤴㤴ത䯤⁁⍰䪵擴繦೩ªѡ燈埆ૡᄂ嗞䇖泄⒬ʵⵦ⒘戤ӌ坔䦡愐䉉Ţ冈سˠᇸ乗ߤত⼺%㨥䄳䷣ᎃ牜⥨⛈ⓒ㍩┈ⁱ䠠 "
   },
   "outputs": [],
   "source": [
    "PR.PersistChart(chart, data=df)"
   ]
  },
  {
   "cell_type": "markdown",
   "id": "4d4aeada-9b5f-4655-8c9a-fca92ef5ccb8",
   "metadata": {},
   "source": [
    "You can run the next cell to see and see the history already populated with selections. Persist allows you to save the interactions and loads them the next time you run the cell. You can use the first two buttons in the header to `undo` or `redo` your interactions."
   ]
  },
  {
   "cell_type": "code",
   "execution_count": 16,
   "id": "af55dedf-be3b-457f-beb8-6c95e244defe",
   "metadata": {
    "__GENERATED_DATAFRAMES__": "ᯡࠣ䅬Ԁ朤壠ᜣ琢〹夢゠⹰〮⁁䁻қ䚾ኊ㇠നСࠩ瀮晼Ƭ穅5愠៤⠠ ",
    "__has_persist_output": true,
    "trrack_graph": "ᯡ࠽䈌ʀ匦㢠⹰Ӡ✡䚈ჭ㐽䁍ٔÐ㑔䃬8ɒୠ᭞匨҇⻳祭张㌠๔⡩•⳦Ⴇ⋫䁸䲥㖚䙌浛㬗瘺ሠڤ-孛ಃ⑀´၀Úಡ䀦熦आ㛣厬6ঃᐠ৽撠۱\"壁永粖ႻԽщ⊩⎂ࢤ瑔≈ʛસ匾敇゠Ɣ䛦圫ርࣣ਽䟑䅠Ȅ恨㪜ൟ⑦䊯䏃ᄸƌㄖ沑ࡖలൟグ䎖ᇣ啀癛U岛ళ墬吢粬߫ƌٝ䄽㧗ɹ䋯氡Ḡއ䳟䘣Ϟ碠␾Ꭵ曢⳨ࠪ⋐剜ᤦ䍨栢పᓀ桱̿䍂ࡈ¿ƣ塬­ʫ墩Ꭽ甙Ⳮవ嚘伔冴垪ዩ⩽ᓫ㋙㹰噉⣅㥶㊤摬䉩ᛥ姄٫ᇩ犤Ŵ万礵൬柈搠㊥䰓㓀!+ᐫ怠㻇氶ᨠ煐㣪嬊*㸷⿐⃚潠ӀᦕZ䘡အ暞㶸樧෦㬮ߕ⡬Ⴊኔ嵜಍檑櫠䲮˴滞hᔩ嚱ጽ䛠傔ἦтথ攭ށ‼Ⴆ3㉬ᨯኂ㉷ᔦ㓻帧㮳斲じḨ䅃䢴ⴡ䚂堼ᜧ䐂тᢩ冈畽཯倸專ᑪ䏀♳ೢྺᛍ૯᳻㘰Ỡ牛溇᳸ᓛ⻗㇨採⑐4⁂⊎㯈Ԡ⁷戠wᠨή㸈禉௡磞ࠣ渌㾢ӡѪ@㯥ㅢ㯪ぐ㏤㄰徥〠㴥២⁈ᙐₜ཭㕆㍙梆঱墎གྷѩત䙅ໂ嘡ƀ吰䏣бក桘獈㏖׍⑙⟠Э٤㣉Ġ౨â嘴䩼ࢋ≂㉑༃摡䶹ۍ⎡⚬ݔ囑䇔秞 瑜ڥၩᒣ偱᧗偮⃥璖⺢偃ᴷ䉈ྱㄘત汞忴ۡ䰥܁䉂䙑仩偬ᒡ㚙ຢーঠᠩ䩆◉㵉౹㒢デᕯ⥒፪㤌⽫øኁⅴ⚨曮塁⤦ᆨ楰୭啀᢬㰰ᑂ㕜㶅≧癮`䠶ਣ崁ᐡ䶓⫡᥆䳴嫶喂曧䵱 ϼ䧡⬺悕◖㔤⬲ᐦ⃤ᦦЩ刘巜ࢠ垨癲⼥⚌́㞤筑杙᥍撙岴䎙筏搥岨⌥睟ƥ檼ህˍ᠔招ᐸ䓟ᓅ咃ᒵ㋔犼仍║㦧哵ᵄ䟐悤נ㼸榱ᇞԢ㚸ቱ⿑眜羰࢘次孢䇡₮攼㧈⧳⋮ᴡ㰈篶凘灮䏾˨墶氬塶ⲭᓶ㫡奖᛿ǖ氣娾䤺₠斘媶狠≶ⶖ婄嶈ₙΝ宀仩抸猥皊㩇⠺⍬撍⭆柺ᐦ䇦嵶䂚潷棽ᣎᑦ㭸ᔐऊ䃩簩ᤸᓿ嫱浫ᨤႬᏌဪϖᨶƄ⨠₀䶛Ď䈮嵤䛣ʩ≩䆸ᐽ䃰઻嬖哺ዤ晬⣄㐭ቪ๦⮒դ勤Ź㣲嗭㌔纾ࣖ娨⃦緺㋬握抾淞焸䯺稼䡜牞प爞恝章濷磞ࡢؿ停ԡ㯭祜塃瞉⑈䖑呆ᩄ斤〧׎ඪ⦾䨭⡦ᄺ߲ね⊐౤琹ʹ䤣Ꮃǹᡶ͐冦Ქ‵⩬ⱼɉ廢瓟⭠䰥䄘ຊ␲䅔ڣ࠭ᵪ䬦眼ᠩਧ惢ड〷䋄Ṣͭ哈⸤绕װ⌯⁛ኀ罆狰欭Ⅰ䎩勈䁑ؐ䄴䂪਱樺ᆐტY咚ഡ泜䨣⮷㤶旨⢭懬⨣Ɀ䉨䃫ࣕ步᷷ٴ࿱凌憸ᶣ汏̜嫤咍䒰窫Ⴇࡡ⨼燗⬵睶Ʉⵛ㱻ࠑᾬ⣎凑帱ǁៅํ㔣䋪㛕䫌㮨冐佡⌽ᅰ搴ⅾ౲㠥剽䒤䂮撠睒䭅媀ଲṋ煦ᣥ穉䜣֫∠䵱ರᆼⱲن‪ڠ摪ʈ㥠ひϨㅏⰸա斶䄡亡䩉°ݑ?䐘b暜恀˾↧ॡ䝊䉮ڡ亍޼㴦გ東悥ȏᓙෙ㣲™场瓀㬆妭泽ⷹ䁛䯘⨤ᄪওᜪ爙欋⼕搫Х峰ෙ䆗㢛⫆筶垈羊㉍ᾲ⇩ᷣ姲⎭ͧ⑯䞛咬㹫ೄ卄優ᅓ姡屟㬇⚄㴢痬ࢢ¨䁁䶫峤咁᷅ʷ㬤りͨ⢯䁱ࡅ∧喈̡⩚䜆㾀孵㝶ᮉ囵侍疱墽彺ෑ嬘ଇ㑕摠昉峳አᤧᑠኃ㞱灌἖Ⱓ烸␋夛જῡ碿ᬘ忍禞ဆ檟慎砎痏洜ᬪӟ䈲᦬䉁㈷棔ᗉ䂾䨖ᔢ婄⏢⺥ੱ䥐浉⍂哪泄ᥡᛃ㿠⍈㭤玒Ҕ磭ദ⻦䋆䙅婴旝ᨺⱇ᪳䛧ம䓗༱亴䁭呻⷟౛㻆⮗㝱⾊䕈䡮竿䵅೻㣽෻⥥࢙㒬䜲榜涰ᠬᠸơ␫ႀঠ⾈声ഁ䁔䞦ሯҼϠ儦のᎀທᬼ网䡙ȼ䔪᱊ř樺㣔ຒ瑂炕ড㳄ѱ平簢占䋔㲸ᑶ㮤吩Ω䫹⫠ễª塈曯䨰椬䖉ƪ稺䪹⮵屟䍊䘌嘧淕᜴牡ᜧⷃ婎®㄁▝僛哉ᲗҴ崴ㅧ㊅㊼疊紃䱥椱ኯނ`偒ᗰئ䥔تฬ⡤࿫砫â坯䨸䌗⫊堯䠰⾹⼐怓࣑䮡㔶䆛ʗُ佺┈☁峋浓繠ⓗ䓹晓啌ᨆƃ猕寭ง栋࿢ᬣ㼘䎌慦曣Ĥ妭ᡇ෧₻⴩᯦╗ᒐ撆暪ඁু䐷ⵣ僺弦殈ಕ燉㚎伪仞吱䋓ⷔ᝺穜嚀穤桕⿎橴伀亽䳼毹嫶灌堓ⱙ泍)⽥き据ŏ欵壷嗄㙪睦ᢎⅨ䲬Ը㋉簤孛喳慎㬃嗥梃ҩ睹掂濦刨㰙㱶ᅗ䛉ⷧ嫤温佻㛆⻼㭝勦䇭匓Ⓠ၄潭乧䍴㙮䗗⮕ၗඉ向⠼છ⟝桚渒䶱䪷ا㜮槁噔㢩䚞異➐悚李㥣⻲⌠琫ဨ߈纉琴ਢゖ䠀簧夿咓㳻稧ᴇ罨孼瀸䮛伣ᦃ⣰㢡瞈愄檠ᓲ䲀઻⦭ᩈ罌ቌ߇繤窋­ⱜ幋犽⧊捷ⵙ埚だ㬐村㺬搠̪模挊㭍㫐ᙷ汶଎劐崓Т╕嗰㹆戶Ҍ刯效㻠儹नᯘ倦Þ兆眡♓⾓ၤ㵹࢐䆥┭䣺ධغ戊ᡵᨤ啎㣝殥㴦ƍ擏䴏澓愕⯪இ氋៹砶䈀㽌〚䀷ۤ实眝ʍฝ灱ᰟ孍Ⳡ㣠䁗қ嗖㫉娱琑㼞翊ᲅួ䬝倕穛⸒㮠瞲沛冞炏窩ả囡䁁䖵⠡⁃ࣁୋࢫೠᯛ䤬෉‾凤溗灎㌓廠❆㥟欫଄䂎ᙛ䦡婸佅យㅀ૤猅ࡀ碧䶽ȩ⁨碐ٜ⢯ཤ礻א攡ճ〻唢攌ྑ⢀㱝堽ླྀ簀⥜䐷ḳƂ䆬㣇吳竔唽皤恴犰ޭ珊筤燰Ꭴ吪乌僀ᦵ姭睩᪒婭缀ှ¬ט夫ᕬήᬠ椧⹔又੩ਵ1Ȁᱤ樏湣㯐ᅭ䜊坕䯋孬嬅㜣ᨋ䋜曎玊秏ᆵ炯⽇⢾෽䆉画揗䌁ḏ疈嬗塕縆඀ᅅ傜⦆ὔ够ኜ䵣䭲㍵᎜䶃Ɣ㡬岈怩ᩋͭ̉獢䶅剽١᰸▍剝ᨈ嘨㩃Ϧ䛠Ⰴ⣓ㄏ䂔Ἇ灪䓨จ㔾䭚䗞叅㽯䨳ࣙ῅ṩᑬ㊰៨㮇ᆝ婃੐尪愼࢐䝀㛍牱խ咙䧤牒ǩԡᔮ⪜㣄㌜侌≲䖿冥愯棾䨬㳥䌵ࡱ䞬⋄箋䝂㋄䲹㵤➍磝垝䏎報Ԩડ⬷孥䧅ᘰ⠩䙌凰຃㹉愱դਃⰍ嵧孿䊄 卹⫀㸹ᢃ⹅ᣩố夤䡂΀ᶽҮ㵿磓䀢䀳昰ࠓ堔䋩㥠ᦫᜅ₅ᙧ䩡乸檣筃Ɉ㸸⪉ⱕء卣 僰⥠ὣض䂑੢䳹᲼傾⒨ྲ娵ࡡ⟗ᡲ撊ᓒ媛ྉಃ㢆᭔䔼䓂䁴玲台䴰买珂έ瓄䢒⦩嵜‣睙؛堨㶢㌹ȧ䊣栶ཌپ亢砸猢݇墢⛀庇շ䫴冨妜ʘ㐡㯨ୗ⡾࿣廎ମ祿ੌ㸇㹐䙟ᄼἿ⪯䰁‫⢤䝆䚜寉洣䛍䨍㧎᭰㣺嚂㹄䥈⓺䌜⮅䴪旕冥í㬶棵䎕伷䭴䞶❤℁᥊婣ᬼ༺ੜ㬖㸳網泡撄㒉悰ᣀㅼ㋥㌅ᳲ晃䔍䚳ॊ摬䏒征ᶜ㨖℃漸ᄓ奎嫓梮Ӛ最䇓䠾峢㪄䤜ă哳笣垓ṍ歱服幥烩᳘⒎⸃䠊糎ӹ̒ፈ岫䝎␸梦岠ᙞ㒄篃㼺̀২焤‫槰ᱜ润ⲂℲႠ㋇㾞ςᤰԦⓣ䡲㐢㿈ᘫ䠡呸㝂ͩぜ䈭佈䃤=弑䄧ゞ捲㚫䌅¦║≼婡䀰ጤ᧳僉祸⬜䄵Ë㎄⢢巙ຎԵᄠ  "
   },
   "outputs": [
    {
     "data": {
      "application/vnd.jupyter.widget-view+json": {
       "model_id": "405c2786a81b4b888c5e1f383ee09a7b",
       "version_major": 2,
       "version_minor": 0
      },
      "text/plain": [
       "PersistWidget(data_values=[{'__id_column': '1', 'Name': 'chevrolet chevelle malibu', 'Miles_per_Gallon': 18.0,…"
      ]
     },
     "execution_count": 16,
     "metadata": {},
     "output_type": "execute_result"
    }
   ],
   "source": [
    "PR.PersistChart(chart, data=df)"
   ]
  },
  {
   "cell_type": "markdown",
   "id": "93deef8c-35fa-42dc-8024-7ced08ca10a0",
   "metadata": {},
   "source": [
    "#### Categories"
   ]
  },
  {
   "cell_type": "code",
   "execution_count": 17,
   "id": "25ca123b-e2d5-4c90-b167-0efd63e14c15",
   "metadata": {
    "__GENERATED_DATAFRAMES__": "ᯢ粠 ",
    "__has_persist_output": true,
    "trrack_graph": "ᯡ࠽䈌ʀ匦㢠⹰࣠↡䰸ᶪƸ倶䚴¸ʒࠥ乪⮮怱劣ຸ悃ᐢ壍淲⠠䭈⑁棒瀶ፉ⍮䇓ⅶ白㸘䀡傠Ǔ⒃ό′䈤7ᚰᠠ湐慎Ⴅᣕ㇠˨❴G㷄ࠠίਰ炒ࡱ岬焊⤦ࢼ䏦䆨玁⡑撘㐸⑾Р்凵娹ᇣ娼㽔㦬ਠཆɡ⎃䏢焒⾐┧᷀ב䎹儤₈と㤙䡢૸䀭ᒢᣬö懔ྦ灘倫盱濭牙昨旵尼昲㺀ԐY溼Ṑอ古ࡡ斃㍡೨ࠤ⌲ᢘ᝴䗠㣡ℸ፣㋴਷Ꭴ㻸℻䏣㡽ᐻâ䣼ぢ䋒ṏᢶ冣檗Ǧ仲䈱ᑦᎨቴብ፨㉹๯၊ㆳ⡉柅炱ᔺᖫ抩㉰䕫㤉ਲ਼ᛪ猙Ⅺ揰ౠ䠠в䃀!ణ!滚䜪䠣䱀ἣ毈Ǩన⍗崆⻀س椀㠭喀唞㟙妈㳼佗䠂Ⲣ฾ಷ劀䈶╥䊈⣼Ꭿ⎲紦ՠ䏘娦ɶ梾ᷝ䤇ॐᱞѡ၈橍ལ₸ᘪۤ炘㸯܃吺暲滴璚㫡Ḳ偦ㆤ氮䶆窢愽ⷶ࠶揓泎⎴搅ᳰ珅拖椀ᄬ%਀砯䌉ᥠႝ孠˙䀷绵㧙⨗㏵無ఆ޿琦ˀЩ猰縳揰᰽摍畛䌰]ᒳŀ1棷丕ᨭ˲婀ः縠⧢ŀ⸨纰⧢䇀孠Ⅸⱦ⌁ء䃸ጤၩІ倿ᩀ∸ᵁ折ಢ䁈ቇၐᆠ憺ଫࡄᑧȆႩp㎗䲫ᰔ⇏ᡪ㣂⫣䀼‖↡崩呺㡒㠮䧱㬎台⁔喇㲿ᰅ紆ᣡ䁥ৠ䠵婦嚒໔⡭䗓⤍䁥⼅໢Ɉᖒ䙑䱃䘩䥗၉塃⚤͔べ䝓朜呣㳱䔥䜑䪤⛕䩉䖑⅊瓙傅⬚ዂ㣺佰᫦怕䦀ᛰ2䩦恜᭷⮸ࠤ欉孠杚坣槀⽧殈㽴壁ᠭܦ᪴ᬘ缹㎨㨧ΰ氺ᅰʯőᓱ䌤庰䆰炭Ј卪䎑糵ㄶ烴太ᅬ⭒䥽䫪乱⤒ᕦ冖䚥凔ົ匔墴䎄刴㮬䦲㡸槮╼派㩎嶡笼痨↼㏢ಠ㷶ľᏫ㮾䯹໾篥㬎宥禲✣禞則筌╄́䷿ѡ框⓮⡍⒉祜䕘᫆㨩⪅➩䥚➼⚓䷩犁▨䛍͕溄О䁆̡媊怱桄䟡䁽䲤删䠰ఫ到฻ॠ樻,㡣䂐ңΤɳ㢐̯匤౜柘ྫ焜ܶ柹㋲≶ᤦ寨竱孈曵⇖ഷ摴⁴䋎ᐡ㞀◅㗍ෝ㖍᷏㐽両ࢽ擂䗧ԉ䞤痕㚍淒䏇䏋ἵ㊴咊૟⤺嵸ⷵ᭠˪ᩁඛٶ延㫴ᐻ㫧⯷ಡ帊絛ဈ䁑兔䍏͔⌰௲⥲ڣʈ䣰㡂੉䉢࣢扃㖻㠯䗲妒ೠ㠢漛଩簷勰妷㌄滗⋼⬷傘嶺ૄ嬖⦎或ၞ渕㐻䄩ᤚǘ犠ࡓ䱎㙦⢍塐澬殣㥑夺凁猾⨄屰ϦᷢØ涬⬱礩堲悸䊳␵୿憶汍✒枤䫾䲨冺ᘴॗ᭓㹖犠༌ᣲ歌㡶䌵侸喸䧋ᣐ㤬Ϡ玂䁰䡠〣ǂ媣ⷃPᙅ䕎䅠⠣棧⏡䄧施嗹ⲧ姹Էᙉˌ夫Ⱚø䨥ⅻᵠ㬤㰙ሠ恵摾㐬廋捂倣㷈੒慎箐㼒偣焀搁₇掼丵揼⶙㲆笘伓潸利␂㼁ᵽ檬ℋ䫊᮳拵ⷀ9↷ᢎ焊⨏漖䡜䙿唦䲘䭙ጉഓٹ刨䰥桄ໃ梦Hạ㊶⧢㌢ႀ䗶硪⻧䑒៼甊⇩珒样ᆐ簴畎巊ℛⅽ䝪嵇丈筇氖࿶瀳㋶〼ٓਭ㕪磶ᎁ悒瀰屒⃄㇡吾䘸ᖭ杏΁䔹࢈°䥗呒ㄱ䨻慔Ⴭ⁾䉄䆺דې棐止上ḽ⅔戫Ɉ䕵䲩当ܣ炎à䈬᰽ൠ栫儕厒ㄦᇀ⇑₂ⱎ⺯䰧߃ᙽ沌䣤Ჩ䜛ர壠监ᄋㇾ⡅㨲Ჰઢ坋⟔䰒甒ȉ庿槔ܩ䍅㶚ಇ獐ဪᓥ歑ⴉ溽⃲尰͎⫚҆ᕸ␆㩫ᔰ 散՜䚫呍昁瀠Ȕ⼧怽‣䔡ݢᙎ倠ԪǕݶ炐䀠䩭״Ể琮尐໇ℸภ絼䒻㿍檎À惻⤳朠囜焺⺚ɕ䂐⤢瓽皨別¬ߌ奸Ψᝑ政›娥瑂Ⲫ঵㻅䔲⯦Ꮬ⮙粂␿੫Ԇ漞⩭娟昔Ϊ䩚჉๤炼启̼ඡ◮祇¬㉻㧎ᾑẒր縭ⱗ䡡⟠桤朘摞␡ℴ恐恠ᶥ̞㊁嚩䉴ᝍ䃎䳡⢨䢔ᗞ⚏ᒌ沝䁸䗏忭⣝⳿ი〹̏ଠቭ珵嵵]ṡ典ᅷ倈噯䤩ᐎ⤽◝框䖌ᥐ盜儀৴怫埚交窨慠䴨෋฻昲᫠ᩖ掀⁆灠Z⤢勚фⰧ捔㩡䄼䇸礮Ӵ䞐⇣缊ฆ䰆絲☠栴㈐槣㾉牺㱉ঌṥ⥃㢶䜤碒䶐ⰡщㅸḢࡣʠ淪Ć㦆戰䜽㧵嵧咫┗㡩捕!煄埢ヲ殇帬∈熯ᣢŭ޸橩儠澼灮樛宠ᇈ皮㐠⃆傹ূ‸ɩ傌㧧岈ኦ⾬け∼⇠懠⦳斄⊬Ё垮ǼǴ㽨䒋㖵ᆤᎫ㝟公娍䙇涼峤ϛ䬧➳ޛୈ䅸䃼૘ἰ寸ṳ梹㑶偮炊潀嫽椐䣺崹婵╋玌漶䋿ᜍ⫍੶孑ݻᮍ㟖級䶍㦚Ꮓ喚Ḿ⽣甲泴䇉᭴紀浩乾塾墑町ڵ᫓游秖Èរ瀱寢ḧ≊֨屸愚ະ儝²ӻ䈪h䮈崱᝵湎ᕺ寳琷⮅⢇殈机极羗嘌ㇳ竸ࡆ㩚㩀㚕䇌牣◪⺤ॽ䒎巛䧛桛㩠ᬥ睽猎愮㺂ณᾹ約–ڟ筏㬖Ĕࣵ嵸㖲ળ㦅㵗巇䳽唜ͭ碞忋儰⧅᷷㎖坘㑤碆溡⺦ෳⰹ攐㓇㠣箕ዠ㩂‧Ö嚠值㎃䰡璽ॻ䘪撚椰㱶ቢ㌳ぉ嵬ᚽ䧛梥嚩綳Ŷྌ棓攻哑ᥰ姩楞睢絉⦝⊄嘵䊼ḏ̹䥭᝾夾嶅㻖㈞朄噃散仧僠噘戢瑵撧梓咐䚡焉࢑➚刕̏ᮩ悍凧琋宂ٟ洢㼁愽ᇼ糃䌘搅继岗㮂ঊ㿛妍㻷ࣳ侱改竊ɭ䃲ඁ啾ↆᬃ㯶䡑ᜤ኉撄ᤦ嵕▭筫ʣ䧅珬ࡤ惏យガ幊ቄ࡭劬㺔≁妼ᓍ孎䈀ஈ礅ᦝ夶庍◌㭪棍䴍殏ⵍ娮厄甂ᴠம幙六恖㥬μ权ľ㯠䜅ࡊ嶄࡜塼ᣤ䘽櫜剽潈㵥፥乽㊇禖孋䌕會眡ㆼ䯽籄䖔筡෼₆ၰӇ寽܇眭㎨幁㢠䒘挊䥤Ὺ₂ᆡ梯๰ጔܰᠨ桧ㅛ勌౅ቜᮇ堰຋㽲᭙䊭珅ₖᥲ墵ℶ࣐䓱局璎罈檟偀䀀㕜姈䃌䖁䀼婁䎬岌䣾ᤵ剭斍ፔ祵幭એ卭Ӊ䭕䜂佗ש䣼窌匠䊠ᜐ⚆ၓ᡹寡嚂 娍䟢⒆⌷ᠷ䏠ᆆႏᮈٍ䘯獖䘍塍ㄲ掐壬೴円᢮姂䅌䄲ऐ䒌⯁ᄺ⠠䀠㍃禃䤞ᡄ㾃夸⭞ᢵ庵⸸⤗ա፽疈歿ᦘ␰ฦ欿揲姝ೊ漶⮛৩Ḋ牫धۤ幮ຑ夯嬡⮥±䫠㺨෇౶⅀㲠⠽ᒀ䏀㬱ࢽ䃧㏏偱倻喔僢℣点⁤☐ᤳ⢹䂬⒵ͅ敧佇奷䘌态慎ઝ䟙※符䌬<⍯⦒祥䏠愌椥煰᱁䭥ZᏡ䎡⹯托␀ࣹ⤧悋㉲Օ刋䂩犏䘽ᐍὤ㫯䔼ࠎ䝅禃喝㔌ᵟ燰⠈̩円٠厽杈嵮ֵ客̎㥧䢫偢挋崻您ℕὁᄂ窾䊥㈷坛㨻伃嬋玅ߨヽ㪂㞐攦ⵣᜂ⢽ۋ䃼熱热݈☔਱償㦴崩榲眴朱ᡥ漉桊°̡尤₌ñֈෂ䡀獍ᖱ⚫䑖ͱૃ圳⤛歉䞸㒺剂秞਴ἃ擀姲㫄ć⼰ɒ㏘ᡮ磮媜ヤ廨牳ਛ 峋潾⢢゜敬࠷प⑲抺ᑩ╈塀㊽ᒘᢔეᓎ恊d偳䊵悝摪㛐劼㳮ኾ㹲឴唋斿䧠᠍㕝℔⼝紳甾፟塕⇍ᣆ᪟䟴໤䴿磟堢娱⢼殣争⊳䑊ȵᩀأ缿ॠ᜴ݪࡸ匒ྠ᡼࠸đճᝣ䔈⟠⸳ʄⓄ◀㦘梵䂼Ԯ堘ഋ奺Ĭ噘嬲q䄣ڔ厦悥梐㬅皿杕楚㾣佌ґ㢚㱽匄㵹㬚㠅ଃႦ䚁䚤ᆰⳮ昆⁤ֵ䲭㎈㽫⨴⣢杉䐡߯䀮毰ৢ〡ⵐ离ᆠ⮎࢒敠ቴႠ㚒旖㡥晹焆宨‪縿㾙欩䦣䦂(ᚥ偀໤䢾ᦼ⬠䰳缺䱬ҧ䢾㏖㾸圊⤟㪠㵬圷犻䕦⽋泩勆䚹孠崱棎䟹䜝㴿烪ᢦࢂ丢ᢿ◞ᲃ࿇⫪礴䐝㌶獶咠ᆃስ櫵䃌぀Į଍䓅䕋䊊ፌ奐⹊夰䫴䑩哌䕰傰摜Ⲱ伺欿ϕ䚒ᙦ癏䑎ⶵ綅漠➒䒍縏敟ᆵᲡ␄▘᪁➘嵁ⵎЁ▙此炱ↄõ摾࠻旁☋尥䌗圁Ⰻѻ笕ʱ〻ᒶ㕭⃲⸜䕏Ⓙ⫢䗱䲱橶☊ဌᲰ䊠愮㰣㧇ᩲ;ءҥᔑᣍ᝵㣎⁎᩶ⰻ⊥䁸猋Სᑶႁ懾㑳㣎ᓣ杪㘒犾㳥╾⣲ᱳ奠௅ྠ叏拑挼填偊እ慼妕烨璴ࣩ㑽牴㍥ᐳټ彉ჟ╋卪⬃匓ឍ❽礸ഄ枹㓋শ㚻䜅㻻ㆿ狔敻⾤ᦺ睧䘥㮳捤౤暛⃓稾䕗ਵᵤ熩䑵儘嵥䐧ₔ⊀ܴ⛪⩈㭲᷻⨌⪮暇䯒婲ṧ嬖㖸ᳫ䥎ㆷ俺ᘅ઱擷孡掱䛫ŗ嚒❿᳾嬜㦓᳄ᭀ⚭䂝睰ઐ䋎಻ߩ⛅୳㪡㓽ᐦ㟦঺ᰢ曡䎍䜒緱⛒ᘯ₰㓿ੱ盧Ლ壉ἄ䍯㶻徱㔪䓺塊細ࣚ厚倜㷥ѷ筥⨫廀㺌ņ嬵䄤ā儣儫᠌䊡╶㽡堳_ୁ䥐㤉ラ⪐ะ䅅ݛ㇀ܽ籡曇£〉惶窼ᚪ༫䐭竂ᘝ⸺ᑾ挚㡫㲔䊄ᦊ䋫に洀圙槮౫⫷㥡㣃፻⺽圝榐Ᵽ䟊⅕ᖾ䁓㜃㚻䘉ⵛ㨸㌏㟛䓫屒傫㬛䣒放ၙ२䞨य๜⚶㭐㯡䌜᠀粡ዄᎎ䍾㎋܀ણ᪠ᄚ䵿ᶌϑ奋堭ࣞ哬㮐ߥ桃೰ྡ㐮ࣆџ㹊⤻䣺ↅ⍚㥰䳇䐵⟡㹰僛㖘⋋䚅⫮䙬㛋ጿ⫂ᩕ㑊̾玙䒊᷊䬽欐伕㟉絰ݡ䗤池⍼⽑埥劋ٜㆽ䙘斋也捫ླྀ牴㉟ㆫ䖵䷦孻⮛䔹⸑筸㪦⡗㦴東漶瘭䟝䎇潞⡘䳉㇪屯瞢á㿼䍄∀ဦ恒ǾʐԽၐቌ⒠ᒇ忱᨟睬穱㍕ę侠榆ࣿ㭝搇䔺䏪ᴔ㔴䬻㪣䛽∃㎲⿸⛲眒㪈⡳䅩䡯ບϳࡅ眯▛瓶弌o⪚泶ᜌຮ䮫䢥嚍婺㖣૶∅㜓䮣ቻ悭槃׳ᡆ甁܋␅竱欆ో喦⛷Ⴗ㓼⋺憸ᆧ㓴⻺ㆱ憺䕛⚷䉕ɧ㨨灛晴槿㝯ᓫ೜໐↘䔳㉉ㄐ∷Ɲ㫬⁁䤻ᚹ囯๣犈埧܉泏ޖ㤆؂暂砮❒穮⻴㚮㛜䗾ذ÷㪒浐ㄮ䵗⦒᳃槠┒堲掉岠卧ᖐ㸦ひ扎㶴΍潋⳽⾴㔭㰿Ѓ䧠歞ᦽ爟⪆㍜ǽ䶠熆➠ሣ䄠  "
   },
   "outputs": [
    {
     "data": {
      "application/vnd.jupyter.widget-view+json": {
       "model_id": "e568398983d146f98a9a0dec3356bb7e",
       "version_major": 2,
       "version_minor": 0
      },
      "text/plain": [
       "PersistWidget(data_values=[{'__id_column': '1', 'Name': 'chevrolet chevelle malibu', 'Miles_per_Gallon': 18.0,…"
      ]
     },
     "execution_count": 17,
     "metadata": {},
     "output_type": "execute_result"
    }
   ],
   "source": [
    "PR.PersistChart(chart, data=df)"
   ]
  },
  {
   "cell_type": "code",
   "execution_count": 20,
   "id": "8307b227-6e15-481d-a9cf-55f5540210f2",
   "metadata": {},
   "outputs": [
    {
     "data": {
      "text/plain": [
       "Weight Class\n",
       "Light            280\n",
       "Medium           110\n",
       "No Assignment     10\n",
       "Heavy              6\n",
       "Name: count, dtype: int64"
      ]
     },
     "execution_count": 20,
     "metadata": {},
     "output_type": "execute_result"
    }
   ],
   "source": [
    "persist_df_6['Weight Class'].value_counts()"
   ]
  },
  {
   "cell_type": "code",
   "execution_count": null,
   "id": "4b0d5643-fd7f-4c48-8079-4fd7c9054b62",
   "metadata": {},
   "outputs": [],
   "source": [
    "persist_df_6.head()"
   ]
  },
  {
   "cell_type": "markdown",
   "id": "a6284113-65cf-408e-927f-d302988c2a9d",
   "metadata": {},
   "source": [
    "#### Filtering Data"
   ]
  },
  {
   "cell_type": "code",
   "execution_count": 21,
   "id": "74072acb-ff02-4b57-9737-8834d8e18bbb",
   "metadata": {
    "__GENERATED_DATAFRAMES__": "ᯡࠣ䅬Ԁ朤壠ᜣ琢〹夦゠⹰〮⁁䁻қ䚾ኊ㇠നСࠩ瀮晼Ƭ穅5愠៩䁕䈤ᢄ狈焦䫫䀣ィޠ崩㥪䧳㉃晎⭱哪]勪ᱴ䨠ఠ䙜ဠ㠡堡ᡜ˱嶘Ź棞6ាǷ怩悢拂簡೤碾᮶ᅚᨺแŐ礤偰࠮ਧድĬ䏔㯀磝⢡䃰澳姯樱ݠϒ綩↎ṿ༳呚ᠵ䐨䁘㷢秬匈ㄯᄮঁ惵怣㕠㗘၇㩗寕ڿ砊憦㉢渰Ṿ炀⏵෵䈨ݧ朰沰䨾㆑ࢠ僤川俒㲚㣗ⴳծᢈ┆ᄢ囚܁㒢ⱜ⠶瓜⼣䀲粞ਫ਼揤ɀY勥Ǒ玅喎媈⁫఩⌱⢛ণđ䴂␪┣ᔊ㺏摲咺㾊⋉樰Ѣݐ悰ᯀ狀丯ʄ猙Ŵ᥆ਬॖ㑉㪤຅䇨䯁䑤䏦樳㼲Ⲹᓲ䱚ⶁ打䳶㶿ᦒ㳪ᦿ◛礧ⱹ≪暙忺癰⩫.熵斛Ǣᚫ倨徥⮓ᇁ♸䐋♁༧䇬乭λ及淜䣑淄噱縩䦇皌䝄ȕ浭䂘⸭Բ哜挌ᭀᲡ╀ጬ⡒䂹崅恭揭ビ჻዗籹ɧ࿙ⅾ⫁惁᣿➆夯ḕ䍑夔孾杛䴎⌬傀⤯簁匡算瘠ּ๪繇⧿じ緰㋮庱ᇘ梨樺㳸䎔༯ᡬ梣揘⼽d屪婰ᠢǈᖾ〠㞂˃Ѧ•搧㈩À㈠ǥ䑬㔜嬧䀠璡ƣ扌㵄扜㞩焾%楐=™罏殀㢄ˁᱭ䗐ᰦŐ簶᲋㱠䁅䐰ע璝䎥烤ի㴣ᱱ瀽䈢Юܢၪན偘஦偙ᨡ沧ᥠ⣓է⁚ღ὞☛࠮Ǣ烪 㳐绠´㋄焠⹪䁵⊘䲳劌丵纀⸫笳儠䟏ኪ∰䤠䑩ີ孓ஂᱣ䌂籭⳥ɣ˸䪋൲䄣ɦ䱊丰䆠忒׫ᐼѸ偑⺫h֨乆⊑䴬⌑眸↺။✈李შつԸ塗✪糏㛪⺥甠垨ـぜ݅Ǜ㏝㲧爍便ㄼΤ㌡州憭燌冪䧑㔩崩憙᪻䊐े↻ⴳ䂩禧䚩磞ሁ兜毺穽曒䱑ⵃෛ佱ṭ࿂⩃൓ᱧ䕆攙὆渣ӤⲍⷋւⰝ䥬䮲ઈ⍆⩬戨ᩳ۳㳊᥹ڇᙓ䒹䣒噭䪀熃䵓亝侪溅ໃ庁Ḓ㱚⨪⩈⯻祬⺷ᑃᢳ唴䦆楠⳷ᑖ⠻ᅬ呋ᤉ⫸嬩ᣆ⼉᫆㓽᧊䉶枇┇᭲浧⡊䱗ⰱ㶟⩅ΐ活ঢ噁ႂ⏙崾㕄ጸ➢᫔⒢᪦㜳䌉嵌照㡺᱃䑶ᴠ㣬Ϧ⫱ỹ伋壇漈⛋἟ࢆ扳Ṗ⦋ᢁ㼓⬇檆䰇墉㰶倱䫅⌈ܷ嚞旓独廸猋俹嘍㡆䔞⃷ᥨ̫߄㧖狞忹ܓᵪ㰙対囱礡祽壎໳嫊䷫妎減㩽廠耗⶛ⴊᄃ檝ⶌନࡦ墩䛜剰ᘢ浌ΐ୫桲ઠⴳ僼ὰ⁔⌔ᨰ搾ন࠻䟔➨⣯Ḉ仓ㆽ׵纋儌㯆穱䔙⊩瓣ᩳ弣Ѿंᡑ怢栿声䩑䐶ഓᔣ¸᫣㋱㢗ؐᕢ䅲ര沵খ儚㬠寃ᅲ㾒ቶ⽅帷䗐㭥䓍น䧈␗ᮤ羖矊ီ㹝檍嬭䴨⬠壙㆘㑢ᤒ㜈ẅ劄࿭揸擇䓨埙䩹㴑e炒❋੫棌ṹⶔ㬋嗕禋㻠Ἴ叞嶊帪暜巨沦埙䶦⭄䠥彮悞಄纒⿃崰掬ⓥ䱥䚛㵱筧ຑᱦ煎深ǰȮᠤ⏇ㄭ㠩䜿側狡㓐慹⴩冶嶸猿⁂⽧ѰၢⰤ焉ߠ⩚堮仓䡳㋒㔪嶏◚㽡愩ᗓ⾭䊧Ꭴ缿猐劄❣␨ℳѥ䵐愮Ӽ࿀஦叀ᘡ炘འ䔉࠶䉽穼屪䭦扮䔙ጲ恶猞繈匍≄㥂紛怈ᰳ䓘筨卯ाἶἚ⑍涤ⶅ塄▢祫ጔ䓳焠งৰ偲ᛥን䨤業䘄槒形䳖ᙼฺትᕖஉ帵ᝂᔟዄ拖侑㊉椠៫⇼ᵠ₇‰枭⢨婜එ弦㐰؀潑ᅎᕐ䇏䁠ㄢ㢈䎦䒢㣶䣠楘磖Ⲥᬥ،旵僃俸範懕亓ξ痟ᱪ湢勣Σ⚔䐐撥炩ନ䉟愢Ẉ䵹匡㿲硛䙀ܢօ湳惛ු㼸ᦖ抄ハ䋏ۆ噍承斃泄浲廧箬狔殮䫒㌑刋办ᑪ䠺㵩⺚▴⑤楉勚⪥喀䧛摳⥔ɒ⿕㊕䓂涬彟ቩṱ妴ٳ糘⅊ピ䕻抶䍫卆䴨竵䕭婬嵞⮚⥷⏄ۧ⎡撗ʐᖻ唕ر獪᫓幕㌽ℍ㝠䂎䞼䂡丘▻ᗶ䮓⻙瑶璪䦊⹝淊䫷ᴼ卻牮尀⇗ㅥᣖ繋㛢Ⲿ憅浡ᏺᓚ㮷䳪ݸ࿤捋漩潩噽৹ᒵ珐㤲㮵㋏ᙟÍ᥍䒣拻帅如㿨竅㗹佷⡾帖⪨૶᯴˟唥曃⥦ᄱ䈯Áᳯ᫿܈⧇ฟ⻭暳灷㾁沪䎠糧䢂䝜俠壖擡ⰳ䇘ྡྷ瀥僈ี䩀  ",
    "__has_persist_output": true,
    "trrack_graph": "ᯡ࠽䈌ʀ匦㢠⹰àᆡ䙐Π㘡ᦐ୭弡Ⱑ䲨˯䂆੤ԁ䝴∤〨㎃㚔㥖囅撴E䨲࢔ⲙѫ䥵傌櫽寏㽡懂†泙僤ẰӁĠפìW౐㮨⃎濹àƎᢅ\"㣙အ婀㉈ᵞ=䅢䆢ᅣ偘㐴㈬ᄺΦᑫણⅥᢸ桼⠪㸨7₈㊓᥀倬ᡁ⸻ఴ>☤䄅䓀冐⡢ᑸ奕ᧄ+ㆡ媫ၠ岀䢙䷘䈷墦෉ǃⰡ図⹀䈘㫀ఀㅟⱱ㡐㘨淽尺昬∣〤砠᷿溞ణX縰㢵朒ᱼ㦱㒳⒈Ԡ䁉硄᜺䏀梢ᔻȦ扤┬䗡⃑౬䕁᣾㟯皲婐㭽烚ᤦᑦឪዩ⩽ᓫ㋙㸿ᑋૅ㥲儙戎୎ၩ቉๫䫨犙Ũ加䪅ժ又䲭㮠в䃀!ణ!渦䘾䠣䱀₷悈ǩ匠帯㞘ന‵㓺徏࿠ଥ↍䐭䂀ȴ᪣ń♈ಣ⇰䄌䩎捰䰮Π⃠⎒ԣ⠸㼳䗦烩ᠼ¬⊱ᐺẨ惐汮ޥȐɁѫ痔ᶎ䮏樭䌶溠ᥐٹ庁筍⮖䎅夌ڝ䈤㢼枇䬄夥㞛刎㠸灩ؠʨ⠴၃㱹‰✄\"峠吙泝㸉ྵ‑ȓᬿ䤮䏢値Ж䡢ῑ䋡幋瘑删߂㸿僠廯䋰瓶囱wᰕ缎—ȏབྷ㓀㷣Ɛ䃢䋰㨔ሴᙅパড傭劮傅ᙐ⋸᪢ᄄຣやᙇ愘ԥၨ⽡⇲᳂䡸⛡慀య⺳䨩䄿ࠐਚ寣䀸ࠕ䅾儩㓊⟷㡮廀€垄ˠ吷ɖˡ䀴ᩥ䣅䅠囪᫓⢕卤㛺ו࣫廆㡐䎦⹁䱐䙱䴡䚑䅖⫩啗✘ፒヹ呲䤎ߨ焁剒ჱ噗⋡⥑傁⍒暄ݔ櫆ر僶᪆䠗ⲻǴᠰӷ娦䛠䄆䍨㫺◳㫮ϱ砺㟷碡т乀ق䗘ᬦ悈ᦣ僒䉒〸伡䃤ኅ☴ᚢಭ䩥洙忊ᘲ䶶䪼媠攒垷狪啶਺䟧㚽߃琣ࢁೢᬢヘᜢຓƅ因亻ᴕ伓唅廷ᖗࢗȂ㳳䐦滐ᾔἀ搁廯â庨枃序ሕ糯嘗㸤㐖洜⴩䀠㼄慏嬯Ĳ㎃ƪ㥪䧯峌䧨␥䨎ၮĴ眪厀బ㏟⼺ᇲ᫉᫜スĈ㒸獂㰯慀Ⴎ䨎ᓘತ丘䨦灔їㄅᴱ偈ἁ‼༇⚈ݐ崚㟢ɀ䰵㣆㳯㢶㹧ᙪ૕⣕䍠㙭䝥㚎⇁䌘ᦒඤᒏ൓⪉䁓⒥愓㽺ⵋ⢰惑≥䖣㼦ශ抈䝱溈ⵃ᣸➋㯦ᠥ㩦ᕦ哰᪜氡㖽ᱠ廳່㕭㸮積㧳䃎䇠略丩䀨⟱㓝⁐඄噂烑ѥ䚄஢瀫Ⲥ瓹ؠ䕜异ー⊠惙㳨津叏䖩㿬։㹰敉䵖敱㝋㚔䏑嶨ᯗ嵢ಧ僴Σ㵃冂綋ቪ⎛ᄆᱠ㉼悆崐栝僯㠯ऑṈ˃⻡⍓昡⢁䚫थ渧ൠ䁹㼫᫁㣖ጬ኶兎ሯख़㳧灊埀֢壬ᶐ㝱㇡㿯䆲汄䑖⸅娑偝Ő㋳₂ш氪䪢ס䥳ᣈ̠〻破ᤥ斘䃠⑉㛶撄盬摌䓓᷂䉶ડ嚕ߌ⴬泚௤䘿沰ຣ᜸硯ᔗ批瞾䘊か掰毣㳗䔠ᶪ㭨㦬低ھ欳‫滠癉ြ⌣埖ʏ㜖ᝍ⑊猊⩵湣Ꭱ樜ዲ簳㩕ᾐྖ燲⼂Ď䯽嵨㸝Ή䉀欭ӥႆ*♂䴑䉠寽䇂̣瀪⇰♠冓ၐ渨ⓘס槹䘐஛疬έ㘡⪑唬㐫࠸Ѩ砲㋰ᝓ䦶歨ゑ൑勮㒭᫓⌼秾᳘兙Ӆ櫿㗲癛嘌樭ᆄ䡘㑓絞䖃㺥؝(⹀ㅼ值㲰愣ヺȱ儦↢՜縀瑬㛄琾棘杍磬ქ䉹«ٳम厊矆椨䧀Ⳮ⳯ɩ娷䧔嬁ᬮ䊊൶氦ᢄ䱂琷ǈୃњグႧ〮რ㉏洘௣ा⊧兦涩䣈揓⣒惱孎癚ᤅ廥攬㷫㕕ħ८偒䵈⠩⥓⒰↪ᆲຠᩳⓔ眩䕥䪵ᥱ⦹⵲䫎卵㇄偓⟲曏斍℠,卐⏩栦䀡㈽怡窟а⻀ǥ傺咋䀠⦂Ị᫞$刈ǀధࡄ䧐᝾ю墀栮-࿴倰㐺⫔ၰ澊䋭႐ފ༧吪ぐ≌↔䕠炞ۨ਀娱ⓤ䰣ð᲋㪁狤᏶圜ࠀ㦹嬙幉堼㵜㯥柏䛸猔Ԏة✾्֕ᶶ璛Ȉ庢⫤ࠐ絅䇙​窟瀕Q㣱䐦䇚灣௡港䬡堽稐ᶙ埝ిᔥ㇔䂀吶惔⤨榡îࡣノ獱㜥ⅹᢡ㠴䅊ຜ䋿⣥怛ృઠ玹䓎ᘫ⏔␰摅㱭⵱汀琸⌋㡦嗓椀㸤吸䋈桖朒⌫㡽䌱ㆃᵮ䧚䰠笏ⱐ彾ࣘ 璄߀屽䠘ᖫ磠們渥沈涭弯ඩ岺ჹ凓⎮☡ư◣ᇅ䃃ⱴↀס㌦䛁䣔᪰⏰婏㍪ᬲ垣㒄浦Ӳ磠ᱡୗ䁰㢣ᡈ¦倯㎮㵀璞8榬綟ᤘ⾣๋⠠ཪ⊝眡ㄔᬇĺⅤ湔፸ņ䪉甠届䈉磁㈁Ⳍન䈹䈧එ伻燡ᩋ慗傁େ沞⟨འ偕≼◣焦གྷ㶼Ϙ⚠䄢礀០嶈අ甮ᥦ᱂䳐㉖沅盵⌄឴治守䎲箇ၑ㾁牨١䮢宥᫔ㄹ⁶喁䁦溍围⍐ǻ⦴䂛㘲厺浶䶊渚添是審⢗䞋媛㋵≼Ύ◁坶啭㽼ᛁ妺႞欭۬恔恀㞗盎喎㕇珅偕↤㆐ᎧҔ喐ഷ⁜⅐卿䡼Š曣æࢯ≏㘏ᆃ倽Ⰴ奿ᔦ孲⫍⭭⍵媞柲̈㾃䢚໾拏⦒ᯛ粞䪒瘾癜利岃次㞾㵰ᦚ‮α圕繪ڠᨪ拰ⰻ䭞綀瘚炛૤䷌㫷⹡㊸缍㨝届㍁⿟㣭䂦䶉燙宽㩁橔矐㚎执噌稿篗养䰸მ㱣樲恙ੰጹ䄚⼲梢箄Ӯ恾䠰瑥患ẩㄠẺ珿ࡽ斡䲵惎ě壹ⅰ擄䃇Γ矼ߔ䄝瞠⌗ض⑁㚌墄᳌㟙⊏ⳋ妈綴筝ਖ均⣦ᢡ㠹㤱稈凶寃绗ഄ卖౮Ἐ犡ԃ䑈ҿ仭ၐԟ恴㻠標ᣓ綮ఏษ梽埽d榗㡻ⲣ໤痎弊廇栝⑖㎋஦咉䛸岳ᓶ䴹峽吢穼̆刽ᵤނ氄俈旂E⋠ᨈ吧␩䣰஡㤯㭈ɇ劈ᐫ䠴ɔ䦴䳊✥䩋ዔ堽㭚植侌ⷈ箖檖唌᠇ᴣ䧓刘❊‮ưḙ㴊ᱍ栫弄环嵇䦫䰹⽆㴸㍫夐城㱿䥀怅缬垔壞䬤ᬍ㝯櫻䵭㿄昦媋䏼眍睜⮡坭ᨎ䕀竈✴筃眩୰ᙀԬ⒜↭ᥑ͏≮ࢂᕝ㠢঎ጤ俄ش㎃֩᪬程⌧穑䨜ⲃ嵐䄑䠣愱ࢷ厀ཡⱮ捂寤⺠⊅羑᧥䅍劇偠ӝˌ䌮⁅ᢈ⃝⪂歑ၛ峭㨰⵽᣺ᏣԿ̺㈉哂䢁Ջ᣹婠皀獠䍙䐡ᆊ丯᧠௬䄺捁獅婡䆀〵㮥妸崽஄䑩幌劄䬵䅺啌挹䮖अ䱃ᄱ夈䛤⅂䖋⡐䊄⹬㤵挺姵奬帴⣐ᐋ反嶄絟Ҡῌ䄨ᮆ稙嶵⎅斂抗䗹ᩇ㈯㌈䧩穋癁祍儡ㄪ孢䇠㜠࠱Ḫ⣀⌰䷎䃂ʀ㬣㠹慹䢏兹悹๨┰ᄢズ䄘⒀ℱ䢵\\۬不刣㾀㯿庭ဌ捿⧆嘝䷬椯磥䕂䀋箟穕Ă‽䤾玴㜜◅¡勠ᜡ榦⊚Ꮓ冠ᆢ䁸愙Ᲊ尡⁈倳墁栭灬㢿咩ᰧ强ጬ偅琧摱╠؉⫃ࡩ䤏଩г灍筃䞜吁䝣篯圼䰂徂㧰▼矤㥅椨ᒡ㠧₈䒐Ⱈ尷㥽桜䠥ߌ禑㤨⮐匇ّ۫嬕猇ƛ栢刕昏჌姞嫼娽烺䖹䰨⠦ɵ䠆Ⱘᰣ⍚Ͱឬ㬰፱簄そ䱃䴖ড߂紷┊㊶⿣方Ⳋ曑ۓჄ慬⡼⑝侥恮欂ᡤᚪ嘺v䱘佮᪕⏀や晡涓え嗜漰瘯䕹ః糃᭞簜₝⋌ᾌ͎Ѳ抳)⟏ڡᦫᓑ䯶ᅲ䳌張◂ⷥ渪㳼Ϊ㛕ួᒻ旋Ų䪸糡䆲⣡ᅆ⹂禝䃰㾆䵹䅠ộ匠ކ玠⼝ℎݜ檕൅缉±焴儐⇋䀬pᅝ䭢඄ן᥈ɇ慹獏ḓ↥4а⨽〵䓈╀②碴乢▀↠⢿䄚ۓ弘䰰穜Ƭ޽䎧杀期ሹ䌆ച塦っ⟍ಱۦ☥熱Ⴅ㥨⥼榆䲰⪀䍓ਸ憅ӛ尨圸㝇楛䃫威㜦⋶⢹晷㜲䐸⓼⨱㣗㭹ャ疱㢽Ձ䫝缎睃خ㓢放炘懀࿲眧䑨懪䬓䍂ᅆȂࢬȨ❵ㆰڴ唼欺䞓ڬ拨⽯墷嚹昀䖕უ卨㌡湚秤䞔㑃˚ਉל⎌儭敛ኍ布磡⧭䀳Єㆀ═ᦐ㡾䲜ᘱ㚠歆䑔䂮ケ䤩⋢l䶠瑾䓮䝏࿊Ѵ⁂ᔭ㒫⍱⋴穭⚪瑾┋笉䇵䶻┇秆忑ᧂ䰶❬㕂劇罳坅⺠㲳䦞┾ၲ塴ಔ݃䖡揬䠠則丙窭䡪䉱೩佦⁮ࢦᎥ㠯⋮凞␒攥紋擴堒礏糩䨡✘籹瓇獪䩉簮嵮ޮᡓቺಣ棩⁢⟎㲗䪨㥪猅㍄斎ͪ⬎䴕㩔㍽㙳䲬圙㷪㔹猊ੁ⇫綸㊳މ䊨栢့ܨ䕀⠬䰷ؤ习彷ᕨ慐ᡱϊ䬌笘㟌㈲#嘤㗒厯沖ᯆ΂ᄽ‬䞀௓嶲⬰˒⚂椾ࢆ䊼䚉沄❴扤㙀礵䬊䜋廽᪏⢾㑴㽬朱盂੹⚭വ㲆䟘ᗃກ棩䟘୻庌ࢲ稘ࢃ渢ᣭ᝞ᲂඃ໫㑽㶳猼㐴墥峝挻塵䞤ీ竰㛣㔠㣻勆㛊撵徃㝸皮፛≂毂㢫〧ⵋỼ㊻䝲༂༴磵旵㎴൳敎箜⁵㎏漱⩍孰ॢ㳜ǀЋ拽竬∝ℰ㵄ڵ㊣㧕Х啷敏▚狳窮›㢸咽瞖侚ჳ嫂冡㰌ᷦ䶄⯡㇉ࡰ疄ᑣ垲儎䋸㨚ࡲ䕊悵㄀ℳᔫ慊ᄨҠ眨似²ℐ㰮㳂䉣⣑㵷䋥坍⒪⍾⌑咍㪫卾洗☼冕ᣵ੄㬃こ磱዁㤳㾢⃧ጒ㓦㐄➠䲺㗾人࿋Ⴭᗞݪ䳷泶㑼㟚䜊狧ᐫ⓬男暡೴㻪智㝛㣙⿓妱狻䟋⚱嵡暡擴⢒ᙯ࡙狥⪠䔧འۍ㚨㈃㻜Đഡ簧ᅎ瞇䍊縵䫧瑉೜೮⫤瞕୩╰゚碠ᤴ丌ễય㲌宷斉嬗倃䋀孀⟯⯩浈⑼剔傪䳀娵⅑ᑄ⎳䔁䤱企熢ے?␡䁐䧐ང爦楓Ǭ俠杆䡟䨛癲∁筰घ矲⿵方䵼厽Ɑ囵㬔檽₀睺䋂挓㌫Մౚ⃧ᒴᔯ䡓ዃ啹థ無஄ᴡ㑥䁢䋊嶈ᚵݗ坏⤍⯰䓿堘䌛寲ڻ瞣ⴺẲ⇾挅ᬢᝊዜ㛼媦㎫⇱㯰治恄憹㭳㉣憽რ⮃᭫⿇劻ᗨ涺烋栭ඨ戨⩓睾㑢筝婞瀮̍姄穔ₑઆᤢ᷇ὡ䥍⓳⅄䖦Ǽջ牖⢧຋⧇紲࣮枖⡬稫䩄䖔猋঍塛㠔秛槩⻀ۛ⦱滽漕ᮛ㭭ࡹ⣻෻塚縺་᫹䃠崽໖䞔⊶㫷什娷㵚ᆇᗉ䙒睛̰墢皬㵍䗶̼孲暷Ⓡ►媵䋣⛎时瞤㷛㖉滷ូ⛂䉝נ埼㗠Ή粇䜭假渉崕७䟝㼴ᖙ娢㏋珸วǯᖠ䒥⁒ᇼ៥⨠娚ፌ擐歔丢侬晖卟෹䵆沰⧒ᛔ沥⍗石呧瑡㨚绊绠㨍␼ᴢ䋰܄䣋佺ᦨ䌠手⏂ဲ䃰؈楛ₑ傑஠⹌䫂⍰ࣳ帥煙牰ᒕ⍩哥兑Ꭵ䑼廩䍅ㅁㄡ悜Ͱԧ判⧰ൄ戧揕Ȕ仠歆࡛䨄༑⌇洅瓼儖㣺ƽ㥊ತ⚧㰲ថ暳≽䈹Ņᖜ啫㓼䅮෇㨔Ð儆㕈␷ɞ残䜨羧႓⤀盨槫剐ᗄṢ慧ආ狭ປ㮺⩢淘⼧䁊干䡐㄀㊨䛬庄ࠂ₫捧⒅矏῀䚲ଂ⺢狜ᚈ熼坘溹渠⬏ᙁᏦ㩦⬀朘汭繛⫿⿜㇊Ᏻ崐䲦緋޼Ӽ䍎τ⽭楪ኑ῅ጣ䘁䪴ഷ፡᥉䨁㤼Ւ収䤔䍯⥨䡁䢬佯捉ᥗ哬匜囏⧛秧㊶『榴ʔ簝㌻罾佗ᕹ㺿㫞⟘ᢆ焈ǀ憎缼兦≘慐ᥐቆ䠼ℽ奉⨇᧌ո畜㯐ᵁ橸䚘巗煅珸䪔ⅆष஼碦㟔繖ѳ劀ᑔ綧䳞樆濝ጅ択橒僡秘斜浪㽟⛙ڡ睫悟匘ẛ㶺≟朌笁爊傁ᯅඈ梯呎᥺ᛐⲀ䐬䝪ڼ庵凯梜⁏گ䏜ঁÑ秫ⓚ刟Ӳ㭻倎࢜Ǥ⓷䵆㖦ⴙ曺ⳗ◲⧰᫷᳒窎Ⲫ杓癷㣁〛ㇷǾɑ⾽扷懲h矔㬤姶珥⾊罛䌲嗫Ǌ淭渥㛆⾟⥚㫝၅䠊斃㨶壛岺殭瓚⭠岝槺從紊寺绍㳝伷〗㴏滑桧䖚恆渉ᐑ瞎ⱇ䇖檣旯☰⮀え彏⹀䤮䒘峰ᅎ␩ౌ㧅炶ᰩ䮭㖪С挓௉㱳䅏⑼䯥㾾㥿⬔琗夅㋖㩢绑᧟⃰῿ⷐ㮟∋Ả涱䶶垙ᚺ㏕ἔ卮嚒※ᶬ䃮ຜ㏋湵恪䰦愖ᄨỏᯌ緡㭕怹䓶毷䶞慪㿜我؟ᰆ㉻秴栜枧Üᰀ⽁柛傒㌊⇁拪቞⿛ᛁ抎剙皬Ẉ⿪峺痏ᘟ⟰ғ䲤⻫养㤦≉㵤ࠊ⇉⊎ੌ旕汮⠳⧟ᮗ㾑㤛྽掯䘅搜嗘矰Ṓ⫡ᾘ斟渧熺哜ⶓ畼ঠ潕⪚箹৐涪䘰㖸⧢⊖憉椃≞沰礣弱潝๴Ꮫ᪮溔ௗ砛淒⥟擪ఝ䏐搽羑洏嘢䬜᭱殍Ⓡ䲧⡇⚺₠瀅䐻杖▜焄䜊㽫ܸ̅⸠ᣝ⹺㏰㰁伯䢈䁸倪੐㨣ᚤ⁂₌Ŋ⁼㎉妖撺᭩䴃ㆹ兖禸஄妱㛋ᢶ柒ⵁ棴峤ゖၘݞਫ਼纐৊緜㺔ᣜ佅❽ੳ⟥┬続狯忎渹嗮Լ๥礰乗⊬丑懥彿㐥ᄏ忪浐层煔哄叶౥㤍㏑㼫ၬ怲䜬Ψ⁣ނ㮭⊊毑湫◽䵑Ѱ′㷛០ق๒૯⺳溈ӝ昰ᷔӄ緣ㅗ㕐犕叺翚娈޻䆾榣憆ќ勔瑮⭹ⷱ猐⸡⯘Ꮔ嗁⣉歌⅑㫌ᤑ杽Ă䌑照䱌䊛㋦⺿䈗㨤ᩪᶔ㬰㝴牟⒂ನ亾厫ȇ斱䩅稗␍㐁ϴ珼➎㳧唘呆⃺嫃Ẵ✁媙ŊƠᑠဪ㬲ЛÅᲡ擂⠴戭Ŋ䅒你琅眰嶰䂭䉵⍀㘠嶥⠰㡽ǫ⁐ᝳణ焒ᵯ橄ʹᅠ≔䲛奍㪠Ȥ厀ᘡ㺤⼐ഥ払⧄⑽崠ׁᝌ䩔呹͖䊸ትᦣኪ偗㳁期嚪㰘箉䣟㙠Ԯ期ᤌᏖ߱䄮㣣烽䋐ㄧ䓄毟硍㡇撚̭潗䡓獶൓癬䍺ڊ܇懆ຠ㏢棗㐁憥➬㑕ㆁఄᚠడ判恉y(䧜㾀摧ఠ≁壍䟿䡆༐䊈ණ⫳氎⭝㑭ṥ௦⁭焺✤⮡⡦㕆䐨よ墫☿㍨䢭倠印⌭ಯ೸䏻ℶ㑼ᆶ䙂ᑐⷃ矰:ⱬච㜑䁋絡䷄ߓრ皚宊矆暽⇌ᑠ睩ᜮ汚炾Ǝ཰ἁ牱Ï悕盁篑Ÿᓠ睔僱坸緉ર☆ᤦᢈ撗⻬䝈᫨忬ₓ柬ݭ́㚇䫪ۤⰆ㍄䛃㰒椎⶜ᶯġ彌攔ੁ᪎眢䌾಑䄫㮉仛㢑㪒ᛵ๩䣃ׂከ墠爢縥䊠଻Ũജ㔱䅤ၐⷔ朤ᅱ垨ည呱纳欎ℳ⢌ᵰ忯偋緵៧፲櫳矫哖ℚ䯍暝㇅↣璲ज़⏦⃴崬浩㖭㢃䈦䧞ᰉࠂ暱᯲怷ǝ坔Ƞ桃☣⸫愨ݗ൐࿡ᚦو䰲䑽≲ษ䔋ަ涾恾ᆸឰ㬐ቃ䘡ࢆĩ޹姢↠┸汛犬ّ⼡ๅ傲凮খᔱቄ䮪ቪ允⯑ᅾ䣭৛⅀ᒩ䟧䆂扟㉯䏎ઊ羂懟県ᨡ抹ᜭ㨗⡆ࠢ紐⏏䢤⛧嬵傈ẵ箖᷄渰㉓楝ݒ䓧࿰▾ᾓ窭皶৐⑗ห᳼Ω䬷䢺ⅇ䌸ᩀ䘡Ġ椵ࢳፐர┱⯂璡㎆桅൨⢤䭆映P䛩硆ᵥ恏炄婁᫦ᚱ⡫৯㼱甝㊳侾㦦㔶㿅燣玕⍘ℳ毦ᅙ㹪䥐Ⴢ㢀哛暣⊐撳ႇ䭕ᴰ䑪厤哒ወ̯䋉䩋آ炭⨔⟿†ࢰ 䃡Ꭴ䐵䥪㛺₀䂟ے✩沙点ಜ摰狾Ⴈ ྫྷŅ磣◿ൔ䰑≧磂⒗勵吚➸䍽寄ᙊ╺⎄厙剼狥⧉Ⱡ໹穉᭸犳ᦱ෿ⓑტ䦠቉᱄抻籉䦣䐸ᴘӲ㼢䵖擽ሌ䴆叺⼚ẩ嶪˔吐Ɉ眰粧⓶㤁浅啬ዢӀ䊾ɖৠ撧⍐㉲疄䱝㥣粺啜㙮䆛㔴塿⁈Ǖ捜ૐ眧ᘴሸ砾䚜㦖冡垄㭆盻嫭╛ⵓ㏐㍎ᱥ浘䍨֖ᥫ垮晶瘰✍⮞⍭帯㧸畼Ě㕠㯆㽚㥀㐥ᲁ砢ᑓ၃憗恓兇儵Ꮎᶠ؃佅嘶ìŝְᜰ攥䞧ࡤ⇭ឺ㏈⳸堽ᦢ㙽Ґ᩟⪌㰯⳷䒽力jநダ຾穝曧⚩១ঃᆵ䡊⒥ʚ痚㕡╆碁偷ᇮ燸毘俲₃絆㝛ó䰶伂痸䗁幞⃫殭๛ᙌ戓∭୤℧⁨ᔄ笨ㆵ⌹溾хᕫᤡ沂坶欬䔒挨⥹璩喱ⲻ˄残ᱣځϠ撡Ⱑ琖仙焹嬾ᗈ榄ፋⱜᔯ摗冘Ȧᐓᥚဢ䨰⟙↙ޜᵰ扝ଳ呃ᚇ䕫囸᳚ᜅ宵斧㦼㈌⯼朸巄ཚ粮琹瞨㒙㶓شᱻẾ宸ซዂ楩珦ㄕ≯睜㹮憙稢墎姼ቋ⑨㹁ᆥ┤ᡄ䁅ઍᦨ琡儤⠭奿䛭⁥㐪۫䃘泸⊰⽖㔥⮄ぶ㈶榰ݙ洐䋍⼮㒴疀Ӟૈⵂ徦᪦噹:暇ᄸ䃱ᦢȬἬ䂶冾̰䦢᢬䩊壢ቇŠ┣₫☴⁴⍚䜆⚖窇构晲癢曓ᩌ䜍拮浃൱⒐ᄰ㴰⹒ᾍྡ㇁柞扭ҳᇪ痺瓹ጵ戣嶱㫥܋偸ᥡ槴ⱹᆄִტ晳䧺ࡨ孙樄䈦煱ụ䨅ທ㍨繌ᙷⅆ撈⡮䓒ᩓ㱲࡮持ᙖ⓼佐ⅈ妬ደ㏐疁৩㣂ء਷࡬⋏䍤Ǳ䐦璨沄䇦݌哴楰䚡伿禧䓊​ㅒ㊐௡ㄓ綧斀妐ḷɠ␠䕜Ћɂ垩墇ⷱ塩ਲӾ٥䳺ሣ榟ԹД层匰䍏ࣔ㋉੆⼀ɹ栥▸㐪◧⦰ར拒夑フⲲ䇸⽢❬ūľ㰿㒽℀忌氪䛨⃔洄੍䭡㫹爷᧡䱨㻧ማቀ䮤≲ݟᢰ牣ᇄ㩡अ䬺侳ᅖ៉➂䃼์牑徇ઔ䯬䃒眶扷烀́ᙹ⠲癹䅋ᙥ岺㱽剩㉅ᒵ兾㮦ᖹ᜹ᑤᑪ㋩歿ᥜⰕ勞㸒炵㰂焱亄≇䡪Īᯕ㚸䡌䅥ጴ㱤ᖚ٦ྡ燪䟅ᯯⳢ᪭ῢ碥ḇ唿ᦐǅ㰬㲓☜篬ᗈ䆨ⴠ帨ၫ◚Ⰱ㙐㦵ѽ扂斂ᒬ徥⫪抯Ⳃ灀  "
   },
   "outputs": [
    {
     "data": {
      "application/vnd.jupyter.widget-view+json": {
       "model_id": "fc3aeda96af94a58821eefa0bf2d4596",
       "version_major": 2,
       "version_minor": 0
      },
      "text/plain": [
       "PersistWidget(data_values=[{'__id_column': '1', 'Name': 'chevrolet chevelle malibu', 'Miles_per_Gallon': 18.0,…"
      ]
     },
     "execution_count": 21,
     "metadata": {},
     "output_type": "execute_result"
    }
   ],
   "source": [
    "PR.PersistChart(chart, data=df)"
   ]
  },
  {
   "cell_type": "code",
   "execution_count": 26,
   "id": "e0a02f06-203c-4837-88df-ccb0c6dc43d7",
   "metadata": {},
   "outputs": [
    {
     "data": {
      "text/html": [
       "<div>\n",
       "<style scoped>\n",
       "    .dataframe tbody tr th:only-of-type {\n",
       "        vertical-align: middle;\n",
       "    }\n",
       "\n",
       "    .dataframe tbody tr th {\n",
       "        vertical-align: top;\n",
       "    }\n",
       "\n",
       "    .dataframe thead th {\n",
       "        text-align: right;\n",
       "    }\n",
       "</style>\n",
       "<table border=\"1\" class=\"dataframe\">\n",
       "  <thead>\n",
       "    <tr style=\"text-align: right;\">\n",
       "      <th></th>\n",
       "      <th>miles</th>\n",
       "      <th>Name</th>\n",
       "      <th>Miles_per_Gallon</th>\n",
       "      <th>Cylinders</th>\n",
       "      <th>Displacement</th>\n",
       "      <th>Horsepower</th>\n",
       "      <th>Weight_in_lbs</th>\n",
       "      <th>Acceleration</th>\n",
       "      <th>Year</th>\n",
       "      <th>Origin</th>\n",
       "    </tr>\n",
       "  </thead>\n",
       "  <tbody>\n",
       "    <tr>\n",
       "      <th>0</th>\n",
       "      <td>medium</td>\n",
       "      <td>toyota corona mark ii</td>\n",
       "      <td>24.0</td>\n",
       "      <td>4</td>\n",
       "      <td>113.0</td>\n",
       "      <td>95</td>\n",
       "      <td>2372</td>\n",
       "      <td>15.0</td>\n",
       "      <td>0</td>\n",
       "      <td>Japan</td>\n",
       "    </tr>\n",
       "    <tr>\n",
       "      <th>1</th>\n",
       "      <td>medium</td>\n",
       "      <td>plymouth duster</td>\n",
       "      <td>22.0</td>\n",
       "      <td>6</td>\n",
       "      <td>198.0</td>\n",
       "      <td>95</td>\n",
       "      <td>2833</td>\n",
       "      <td>15.5</td>\n",
       "      <td>0</td>\n",
       "      <td>USA</td>\n",
       "    </tr>\n",
       "    <tr>\n",
       "      <th>2</th>\n",
       "      <td>medium</td>\n",
       "      <td>ford maverick</td>\n",
       "      <td>21.0</td>\n",
       "      <td>6</td>\n",
       "      <td>200.0</td>\n",
       "      <td>85</td>\n",
       "      <td>2587</td>\n",
       "      <td>16.0</td>\n",
       "      <td>0</td>\n",
       "      <td>USA</td>\n",
       "    </tr>\n",
       "    <tr>\n",
       "      <th>3</th>\n",
       "      <td>medium</td>\n",
       "      <td>datsun pl510</td>\n",
       "      <td>27.0</td>\n",
       "      <td>4</td>\n",
       "      <td>97.0</td>\n",
       "      <td>88</td>\n",
       "      <td>2130</td>\n",
       "      <td>14.5</td>\n",
       "      <td>0</td>\n",
       "      <td>Japan</td>\n",
       "    </tr>\n",
       "    <tr>\n",
       "      <th>4</th>\n",
       "      <td>medium</td>\n",
       "      <td>volkswagen 1131 deluxe sedan</td>\n",
       "      <td>26.0</td>\n",
       "      <td>4</td>\n",
       "      <td>97.0</td>\n",
       "      <td>46</td>\n",
       "      <td>1835</td>\n",
       "      <td>20.5</td>\n",
       "      <td>0</td>\n",
       "      <td>Europe</td>\n",
       "    </tr>\n",
       "  </tbody>\n",
       "</table>\n",
       "</div>"
      ],
      "text/plain": [
       "    miles                          Name  Miles_per_Gallon  Cylinders  \\\n",
       "0  medium         toyota corona mark ii              24.0          4   \n",
       "1  medium               plymouth duster              22.0          6   \n",
       "2  medium                 ford maverick              21.0          6   \n",
       "3  medium                  datsun pl510              27.0          4   \n",
       "4  medium  volkswagen 1131 deluxe sedan              26.0          4   \n",
       "\n",
       "   Displacement  Horsepower  Weight_in_lbs  Acceleration  Year  Origin  \n",
       "0         113.0          95           2372          15.0     0   Japan  \n",
       "1         198.0          95           2833          15.5     0     USA  \n",
       "2         200.0          85           2587          16.0     0     USA  \n",
       "3          97.0          88           2130          14.5     0   Japan  \n",
       "4          97.0          46           1835          20.5     0  Europe  "
      ]
     },
     "execution_count": 26,
     "metadata": {},
     "output_type": "execute_result"
    }
   ],
   "source": [
    "keep_medium_miles.head()"
   ]
  },
  {
   "cell_type": "code",
   "execution_count": 25,
   "id": "11aff185-b959-479a-a2ef-c9637a7ce09b",
   "metadata": {},
   "outputs": [
    {
     "data": {
      "text/html": [
       "<div>\n",
       "<style scoped>\n",
       "    .dataframe tbody tr th:only-of-type {\n",
       "        vertical-align: middle;\n",
       "    }\n",
       "\n",
       "    .dataframe tbody tr th {\n",
       "        vertical-align: top;\n",
       "    }\n",
       "\n",
       "    .dataframe thead th {\n",
       "        text-align: right;\n",
       "    }\n",
       "</style>\n",
       "<table border=\"1\" class=\"dataframe\">\n",
       "  <thead>\n",
       "    <tr style=\"text-align: right;\">\n",
       "      <th></th>\n",
       "      <th>miles</th>\n",
       "      <th>Name</th>\n",
       "      <th>Miles_per_Gallon</th>\n",
       "      <th>Cylinders</th>\n",
       "      <th>Displacement</th>\n",
       "      <th>Horsepower</th>\n",
       "      <th>Weight_in_lbs</th>\n",
       "      <th>Acceleration</th>\n",
       "      <th>Year</th>\n",
       "      <th>Origin</th>\n",
       "    </tr>\n",
       "  </thead>\n",
       "  <tbody>\n",
       "    <tr>\n",
       "      <th>0</th>\n",
       "      <td>low</td>\n",
       "      <td>chevrolet chevelle malibu</td>\n",
       "      <td>18.0</td>\n",
       "      <td>8</td>\n",
       "      <td>307.0</td>\n",
       "      <td>130</td>\n",
       "      <td>3504</td>\n",
       "      <td>12.0</td>\n",
       "      <td>0</td>\n",
       "      <td>USA</td>\n",
       "    </tr>\n",
       "    <tr>\n",
       "      <th>1</th>\n",
       "      <td>low</td>\n",
       "      <td>buick skylark 320</td>\n",
       "      <td>15.0</td>\n",
       "      <td>8</td>\n",
       "      <td>350.0</td>\n",
       "      <td>165</td>\n",
       "      <td>3693</td>\n",
       "      <td>11.5</td>\n",
       "      <td>0</td>\n",
       "      <td>USA</td>\n",
       "    </tr>\n",
       "    <tr>\n",
       "      <th>2</th>\n",
       "      <td>low</td>\n",
       "      <td>plymouth satellite</td>\n",
       "      <td>18.0</td>\n",
       "      <td>8</td>\n",
       "      <td>318.0</td>\n",
       "      <td>150</td>\n",
       "      <td>3436</td>\n",
       "      <td>11.0</td>\n",
       "      <td>0</td>\n",
       "      <td>USA</td>\n",
       "    </tr>\n",
       "    <tr>\n",
       "      <th>3</th>\n",
       "      <td>low</td>\n",
       "      <td>amc rebel sst</td>\n",
       "      <td>16.0</td>\n",
       "      <td>8</td>\n",
       "      <td>304.0</td>\n",
       "      <td>150</td>\n",
       "      <td>3433</td>\n",
       "      <td>12.0</td>\n",
       "      <td>0</td>\n",
       "      <td>USA</td>\n",
       "    </tr>\n",
       "    <tr>\n",
       "      <th>4</th>\n",
       "      <td>low</td>\n",
       "      <td>ford torino</td>\n",
       "      <td>17.0</td>\n",
       "      <td>8</td>\n",
       "      <td>302.0</td>\n",
       "      <td>140</td>\n",
       "      <td>3449</td>\n",
       "      <td>10.5</td>\n",
       "      <td>0</td>\n",
       "      <td>USA</td>\n",
       "    </tr>\n",
       "  </tbody>\n",
       "</table>\n",
       "</div>"
      ],
      "text/plain": [
       "  miles                       Name  Miles_per_Gallon  Cylinders  Displacement  \\\n",
       "0   low  chevrolet chevelle malibu              18.0          8         307.0   \n",
       "1   low          buick skylark 320              15.0          8         350.0   \n",
       "2   low         plymouth satellite              18.0          8         318.0   \n",
       "3   low              amc rebel sst              16.0          8         304.0   \n",
       "4   low                ford torino              17.0          8         302.0   \n",
       "\n",
       "   Horsepower  Weight_in_lbs  Acceleration  Year Origin  \n",
       "0         130           3504          12.0     0    USA  \n",
       "1         165           3693          11.5     0    USA  \n",
       "2         150           3436          11.0     0    USA  \n",
       "3         150           3433          12.0     0    USA  \n",
       "4         140           3449          10.5     0    USA  "
      ]
     },
     "execution_count": 25,
     "metadata": {},
     "output_type": "execute_result"
    }
   ],
   "source": [
    "persist_df_3.head()"
   ]
  },
  {
   "cell_type": "code",
   "execution_count": 24,
   "id": "cc6514c1-de54-4808-be69-bf76c3322c4a",
   "metadata": {},
   "outputs": [
    {
     "data": {
      "text/plain": [
       "(92, 9)"
      ]
     },
     "execution_count": 24,
     "metadata": {},
     "output_type": "execute_result"
    }
   ],
   "source": [
    "keep_df.shape"
   ]
  },
  {
   "cell_type": "code",
   "execution_count": null,
   "id": "a57edda0-2892-4c1f-b486-066f59c56a79",
   "metadata": {},
   "outputs": [],
   "source": [
    "persist_df_7.head()"
   ]
  },
  {
   "cell_type": "markdown",
   "id": "3066d9d3-6688-4bf1-ad00-39ad1b5df821",
   "metadata": {},
   "source": [
    "### **Table**\n",
    "\n",
    "To create an interactive data table run,\n",
    "\n",
    "```python\n",
    "\n",
    "PR.PersistTable(data)\n",
    "\n",
    "```\n",
    "\n",
    "PersistTable is a powerful tool to manipulate data"
   ]
  },
  {
   "cell_type": "markdown",
   "id": "fffd1b0d-d9a7-4c7d-8dcc-62ebd81352a1",
   "metadata": {},
   "source": [
    "#### Selections & Filters Operations"
   ]
  },
  {
   "cell_type": "code",
   "execution_count": 27,
   "id": "e39c69cb-9e88-4bec-9360-4c9e9093fbb9",
   "metadata": {
    "__GENERATED_DATAFRAMES__": "ᯢ粠 ",
    "__has_persist_output": true,
    "trrack_graph": "ᯡ࠽䈌ʀ匦㢠⹰ಀ✪ހ࣠噽‶䀣ՓТ柠⍁ĭᠦ怹䉠຃䑽嬃䱰ӧ⒴E䨲࢔Ⲙѩ䣄减⓵墧᜾㺣䈠桠ù殁䁙ဩ™+䑞䰠㜸プࡢ⳻媰Ɗႊ)洄䀦梡⃱ᰢ删ᧁԺ䚣ӄ㇑娉峩આ㙑ܭ䦭⛁䍐䀡㬚ͧ⦲ᢿ⊤ெ壡‡犀⒊♇ᆷ䟫䛃㍓琡㙐殁㈨ຬडổࡠ㬰ℵႌᖠ᫤㝠೽ִƝ竛ָ崪᫡˖宧䳠䑡嘠传Σ淥ฃŤ滜Ⅴ᜷䄃僬⧘䥆悂䘠䦢䁰璻ݦ效䒼⛡結䉎̵愸⡆ೠঐ㘠䚢硾矄䃱䂺߁惯桂⣌⼴ⓒ哚ⲩ᥈Ჾⶠᒪዃ愫㦹扔⊣䐲⒪⚰撙泎⾴ᖪ勅ⲁ哼R哣答倠·䑗纠嗫曉Ǝᰯⳙ㱿ᾰᘨ噲Գ䇣⣘ℱ䒁桹ⅻ滠ֈ㴷ك⠢吮䙀抸☼埲廛㎵抰じ㸨䕃䡴åↃ墼㜷䠁Ю捠澊㫽ㄷ儕㢬⸴㜺⛀೮㊊᛫⫿⃸⃻⻿㇛໳l烘ⵗ㺮ܰ怠⢬⌷毎倴ĠḔK䰮尽⏛亸穲ἰᥝ㆝䃰㑊a⽩ࡊ礸⠧䥔殙ሠẤ竜౻樖楴筸狾篭扞柵禾矫硢紤ਞ叮䇰樠⁰⊠∰㐪p䘲䃀昮ᇰ㉴ᩐᠠ⌂桱䎼䘥 ၄Ǿ䤮䅠भ筸࿭択џ笞幕榚ӿ∬牿⍤䘫怨㑒☂䥀冘昹䄩ဿ䌀՗ϊᕅ䎴ى䗘ᙍ䝡๋禠㨬㈑叠Њⴑ঄倨࠘䘮䯅䄉䫥㲓槤䁯析⁀䆇睽ਧᤗụ㳯涠ɍ朣㱫ᐛ惰⿧䁅䡡ᰠຌᄮ᫥碞ῠѼ㦣㕁䶄㚀傴㺀愫㪬Ⳕᦉ䭊㕦׈⤂䇽㽅璝῀೚炆慣ᴮൃᬭඃ㲂ᑄ⟡歝㟋瘝┨ന㽸ᮦ咃ഃ㊴ぬᡂƕူ㖭㌪㘒䗏ゼ㗂Ġ绀疜㾤࢛ષ∘౦䆸⢆䃰㔡ⅈᔧ↶响䄨ౡ₀⸧䂸㘫ø⊍Ⱦ媎ᕅ㓎攅ᝉ䦙㋀ᕵハ⥋୭ⴰᝣ椚☮璻஁᤾ރホዩ巶ᛣ外⁶᱇◭㦛ᗷᴷ㌎朾Ἅᱠༀ᝶ȏ㦯ᯪ㷯☀䫡࡬ఔ桴㏢伳ş⼠ૼ㯼∈偸捼䆱犀场埵甩噴娠ᆕ䋖猬枵絭樱㟾楢爿త籎ᐰ盘尲ŵ撣ƣባĸ࿱㡈࿵่ᄦ惈⴮瘃ণসㄥ箪噿⧞⿦㐪兲⪄ᚏᆓ㊭⫴ڢⷔ㦊᳊ᎦФ⤌憾䔪篾嘵篃忰ڂၒۡ䑘惁䰣ߡᓴ穾寱筛濻䈞瘨ޡ桞ސ⑝ۜ㛵呠-ᔗ噁四ᜫ⑕≓ℸ࡙浭ሬ␑䴠◚亣濇䧜Ễ㍯κ㶂氊↸キ殘歉ൃ剖䙸⊇ⱄ榡憳I䷓♌想ˣ卡㠌䇬晃䊑掴⇮ྺ׌狠ད⺞ー䆌ᙄᩌ㎼Ⳇࠑ屔增ⳑ庝ㄖᆡnҍ䙫䕂婊抯珛㠱䀶஁ヅ糞〄籄¢ၤ緑宙⦷ᦑಱ嘽ᄼḅǡ⍝别墘⯥╳懞̧㹖擣籋汿୦惁䨧ᮣま䍠ቡ剞䐑凩奸ᢨ怶⁐㏱籏⇨ॎᆦ求屪Ťࡂ⹗ほ⁇册凮㳎㒥Ⱶἴ喫䝒ᐾ㋰㦒᙭Ռᴫ嚦೴䠹䄹ɥⰺ㍨⚃䡴䳊಺偹ᕼൡ棗B徲┷╨喔䡌ଇ⩙፼䀠 "
   },
   "outputs": [
    {
     "data": {
      "application/vnd.jupyter.widget-view+json": {
       "model_id": "301831aec3cc429784341633200eda70",
       "version_major": 2,
       "version_minor": 0
      },
      "text/plain": [
       "PersistWidget(data_values=[{'__id_column': '1', 'Name': 'chevrolet chevelle malibu', 'Miles_per_Gallon': 18.0,…"
      ]
     },
     "execution_count": 27,
     "metadata": {},
     "output_type": "execute_result"
    }
   ],
   "source": [
    "PR.PersistTable(df)"
   ]
  },
  {
   "cell_type": "markdown",
   "id": "355531cb-60ec-4c78-b781-eed49c233f74",
   "metadata": {},
   "source": [
    "#### Search"
   ]
  },
  {
   "cell_type": "code",
   "execution_count": null,
   "id": "245bf8b1-a245-4ce8-a59e-c3f7d33fa44f",
   "metadata": {
    "__GENERATED_DATAFRAMES__": "ᯡࠣ䅬Ԁ朤壠ᜣ琢〹夦゠⹰〮⁁䁻қ䚾ኊ㇠നСࠩ瀮晼Ƭ穅5愠៤⠠ ",
    "__has_persist_output": true,
    "trrack_graph": "ᯡ࠽䈌ʀ匦㢠⹰ڀ↠ಈᆠย堡〫⑅⹆෪¼戢ᮂ宂̸濪⸢㌓暠ᶩᐠ▴ሰ瑸碪䮴囇⣹䶧㝞Ž䉠ð䀡姇冨㕀ॢȠ௞䠸ᢀ眰䅽忚怢晐樠Ԃ牠ΈƔڦ❓ሦõ䰶䇑䅠Ȅ恨汁ئឿƨ⃧挐㇐ؠ嬸යᑤڦҡ哹䑁ᦨࢣ㵕䀺慶䐩疧䈡㸦ƶ穋ۡǹण䍔愊㘠传ϒ緷挪戏ⱡ䕽皮㒓㈨ɪ⫥☂૓炁䑈⸬Ⴂ圽皨篂਱⁰䈠೪揱ᢌگ㇍ᮋ䥂䢠⍤Ⲃȥ噗ᩩ䄀Ѫᅪ⍈ె֮抐㲞ၢ၄w⁸ᙛ屒ᙞ⍀⢘洠䭳঺᥇ℰ䙠  "
   },
   "outputs": [],
   "source": [
    "PR.PersistTable(df)"
   ]
  },
  {
   "cell_type": "markdown",
   "id": "2c7f5eff-050e-48de-8aad-21dde7aa1821",
   "metadata": {},
   "source": [
    "#### Edit Cell"
   ]
  },
  {
   "cell_type": "code",
   "execution_count": null,
   "id": "a970629e-eeae-4173-9729-d47803f18ad1",
   "metadata": {
    "__GENERATED_DATAFRAMES__": "ᯡࠣ䅬Ԁ朤壠ᜣ琢〹夤炠⹰〮⁁䁻қ䚾ኊ㇠നСࠩ瀮晼Ƭ穅5愠៤⠠ ",
    "__has_persist_output": true,
    "trrack_graph": "ᯡ࠽䈌ʀ匦㢠⹰̡࣠䘤ᥫÐʀୠᎫf挓攩剐挱ᓀ۠ᶪìኅ㋅ተ¶⡨⇳㌄ᕁ╦亩͆ᘽ嶛稨ǁ#ッ௜′䈤7࠽ᠠ湐慎Ⴅᣕ㈣%墎吠➛␠㚨አ䗨揠ˑࠠᲈ䤈幃়䖢➂ტ⊂燘ᢸḬᶤ+凵櫺ರ桚ಟᙙ䘪/ጢ⃃声栤䊔䄩ᖦ删ב䎹イ⁸と㤙塢۸䐫ᒥ䰡団Ɀ㫰Ⓚః囿䰡䳐ᤆ҅櫼ຆफ़〤砠Ḏ亾ᠬ㬓戸℆燑て㈤Գ䔌Īâ≸㼨䞁㡑ᔬᅚ擰優Ţ塼ɛ݂⊈㷧⊚异ᵦ漛㕇┫䈥㑮ၩࡩథ፨㉹๭Ϩ੥⓬ઑ椱⍞ᑫቤ⩽ᓫ㋙ᘿᑋଅƸठÊ柎ࣲ䀠Ȭȫ倡⻣ᠧ⠣䠠㥌ᒆ㖈㫱!燵㡚禢ݕ恰৳楙䶎╿犑᫢㦠ߴ㆔⍍☁稜◐⹣㋂ṑע╸ᙾ໧ᅅ㐩擣悴㑋ʓ慸ᣇ⹥ᒔ柖澄㡄䰮ྦშ䩆㭧儸昻ৡ焘ġ܇ፉᚲ懲琨ɴ┰ᅸᵈ湔䷆妣⃗䝶爦旑洖䎴氅ᷮ䮾揃䅤ᠠੂ㰆ᝋ吥a➰ჶɞ篓漀磜漰ᛞ㊘hत倢͜焿捜紱䇘翣推>䉩रࠩൿ氹䌨撂๰ḥᱨᴤ僘ᢥ䄽ڦൿ湡偎֢ौ橣牚ֻ䠬䉡㡶λ獪ɡ灎൧䠸䗠䁼ሡ䄑Ρ䐺想惇§畃⊉⵱䐧儑೅⥍ޤⓈՅ缹ᩥ‧⫆⤑ె䔑ᔂ⓸ႅ撪ኧ洑Ј紱᫐㹏䐑纓ಀ怳乂⒆捁宙৹ᒎ櫁笭ࡘ䔒䥳Ĵ࿚ጦ⊹ࡔ憠㎊ය玜择ଲ晸⭔ո䅡∱፨䊵劬勧㊢架䮒楹岝ࢺ唭◉ᩝ₋൳⚈y㞯ţ⯫煣.ሥ㩂旕皱井⻛協⠰䬀绕䏑ƨӣ懁䊭測㐐Œ愠硆۩碾ɀ栩͠ᤴ⒨⡌➁ᱱй搩恀Ⱖƀ杕㟲熣㘴ೌ⌴Ⲥ劵᳌刅犿ት湝⛵ⵛ┉嵔琸⑖⁼挤愤⮥䍽୓狼၆曹㭕柽䝐䍘矓睝さ痜➨ឝ圮䖝⳪柽㝅᜝⒳䠝ร䭖䡂〴ཙ䒍䤠ࢃ丶檂ٺ尷Ó硨т勭佑㊌塲㵦䥓㾠棈灐榡⍤沭Ӻ墢ዱ໷㫢ୃ⡰ᕒ义槚屜⃬✩נⲣ毀ㅋ՚䐶̩汄↠尩杠〰矸湧䔙彏悐㹿䪐Ɣ䖌爧㑱䨯㍱緆䑯ㅽ䘤ў畛催⃚坭毚ृ棌⽻椚彯槦∸䄖枝㲩ផ淛ǣ檛深ⴎ僗㺊⫘䀡䪦ᐆ橚崡檾⇠ℋ㻒㧫挆ว⹒рفᄕ綥祰ਏႯ⼡䐸஥䒱ᘢႱኦ傱Ԃ䁥㚫緕䀻䐲⭆थ⚔擬ⳍ≙⡸ᠸ堺僉⭍⁃።⍅ㅦ⧦䁹令⠤䃑䦒熬搃㳤ፖ㍸ኃ崄旬䜰秉夑⸪憾؄㌵矜ဩ曋Ǭ侢䵟ី䅒ந⃗䄥ㄢㅎ嚺挥剧ⴰ幺巂嬤ਣ㡁懰慃傘܁ᄭ慸෡憬⇘ण㢔Ո宎ᛣĠ瘱洬士౦壠⦯ᣩખ綄勶䧄拦捅䉧璴䗩㼨⮗ㄠ㠯庶ඃ扚ⷜ㙸巃䥘②ှၮಣ惌೤ᠮᅨ߂⻛pౡᱰ炞沦ჶᶄ๑Ӡץෘ䊦⢅࢐朊፣઎ᑲ幉涎ȣ籙➐䍭椫ல爫炦䜠Ḵᦜ㙧粄Ơᄣ堠ݐ䱄皬唉廾Ⰵ繩妓噣孕ʥᆐ䖕<䄯尵ॼ䠵Ⲕഘ⾵磿Ḑ㽇熨᠄意溲忧編ဘ䪿㪿㨕㆓䣌専摷ᴝ⿾獟尚群捊⭷ࠠذ咍䇴䂱⠷໙寫㑖䇑慪稿㞤ᶘ愠縨䧹ᶝ柮䕓Ԣ寚₆㿑灞䁀Შ䴟杹᭶差䢚ᯈ篽⮖㴼愎促Ṿ䨫烢䤱岓傔烼珳恜਎⦨↓໘䓻㣩䐐༱狳⤯卋懜ᘹᤌỬ澫䋈⁅㼿Ԟ¨㑁㖱ᄹ㉖គ慉渌䄫瑨⛸妩嬉஖ᠠ䋚ᤋ四厅价਷坚俋䭗⡢ⴰถᓳ⻝а䍧䍫嗹ࢋ⣘樭㭾㉺⩂盻殪⅗⎙㧘羢曨槭䩀䈪᲻姗橣ⴣ橦㞫ޯ䚨䯲⢲¨䴩៵ᆂሱ澦Ͳ枋♩⇨嘫剸ʠ㠣ȝ㥛暚㩌嚔㙉ƌ㖲થ渵㶧㋫䙉琼⥀ḧ湼⠸籸扤嵠ⓖჩ㒣吵ᓲ寥瞑Ͻ狭级嚡䓔䮾崖⥤፲綑ℶ勈✤弐嫝毡㊱⁒兰⒂沂ᶙෲ㰯䂘औᠰ减傣煘㦀ᘥ∢ʈ⑪༗彈瓐ʼᔆ㹣瞜旬㾟䯙စ࣠崒糄㤥㤺❔烽㽢瀩⹼楰☻䭩狗㧘⥶桪呐䁪キ⥵ߧ唼ᯋે䴺ྺ罀䛉׏⭦䥂拾痵堃㾬寳㋵哬嬦璈⤍ἰ㳻⵳ײᗈ晫⥤䚏燆杫榕᳍棲刖㹀䧏❴櫭஋䲶媭ᨈ䧍絛獎㎇滃⊢朴䋯余憻嫍ຫ罽獚⼷慂ᘰ主ᮇ囅喳֤夭崽ମ垷᚝ឍ⑗璔⸸描囀沩㝾თ↡⁖䄾嶣爦⠬ງ႓珞旉༕抠пॼ亄㳔皇㋯什埮඼嵊૛◺ᘖ⮖၄␎ଢ䁸ṝ∨䍭˩⎚ᇰ挭࠶ൠุᕓ䗱垿牐㜦ࢉڮ甮伆ཱྀ崆帜ᬥ忲p兩㸶ઢㄷ紪ᘏ8䇌⥞倅´ڱㄽR匌㉝㢮椡⁲憠ሡ䚣a嗕〠㞙᰽琾慊㼃榝牱㴿喛䎹˧ম准Ьↂ౥撵㲃ᕄቇ䓴丘罵⦭᭓ࢻ⬆ࢳ㘵ፚ廣峰歠ᾤ׉唨种ଫᡍ䃽㎖婷秉橃㱍涎⾋憋殰楫䎞垞㦶懌囵睾ଔ㛦痙殦泫⽖㟖熷⧖ᝓ㳿ฎ㖛䦩篛㥍嵖矮瞋嗎嘽嫮ᬂ墽ఢ瑲斂䥢䄃宴✩編࠘い刕窞綒慩ᦹᶳ㘅厛ᱶ↗ʡ㦖ዹᝈ叹ଋ緌ͼ儶ศḼ扂᳒㉝䑴䒚ሡ䞥දᄷ࿋⼌㷋㷣炒瞺Ì弖䜣禯䐔㼇尵罰⚕ှ亰ᬧ✦䔧洹ᣘ綮唈倰終㢐࿤䖂䯇殈̱箓पຑ刮ҀĺᎩ㷐㯨㲖梌瘷㋛ḻ૿䫃䕡ԁ᧠䣗┡ܸࡵ㣤ሃᤩ秲䈧ہ㋋צ炂㊆⬫㕥硒〳᲻⽤Ē猑ᧉ傥⚉ㅭᖋ婢℞睋㔧೶䈆㔫չ⍶曔ಓָೣ湁垓㎊巻䄥㘀璊ˣ曡㑉ウ⫾滔૗Ꮊᡄ婩㜰䠢䷨↌ࣳᙺ桀溊ࡰ篊䁙婺燰䛙⫶䇕㒗㵻⏩婭㊐ᜠ怦ၔ㞀٣⎧ჽ煘ᐉᐿ泬ˤ㘠⠣懟▹㻱❴幫ᝏ⳹玽㈪Ǐ㆒⊷㌅擽⇪ွ䁕捠ᨙ㇢经盟㬢濦琯烠ᐘᎵ䃏牰Á年缇癀٤夦纲䇨搚剅縣癈俺唿癐埿∤石缍ಧ㈘䓰丬咿㮛⟸壽玿⩛篰㹸燧㝡㓬Ƭ㍡㌻戾縤ހਡ恔¼眃᳋䡡⨢㐷ᴩ榻ƺ円ⓛ灚⹜ឳᇋ禬䅪烀䫚ⵦ溁煐禈ⷿ⼔ಘ溦㑅燞瑰篥ᷳ焮甯⟦с爟๐容繈湡瞕ଥ䑬৏भ࢚嗾य़ೳῤⱂ湑砑㹲⾮慯懜㙪Ϊäԙ⏰怿ऄ݀Ⅲ堠䀸Řⲋ௭᳡ලຒ⯾㚱ପ⶘扝㪋と䱠椣Ⲇ⭅曢ᆻᅽᶚ托㢦䘐ℸ亥ህ೟ਢ㉛ሗ珈琚ੑ刏矸ဠ "
   },
   "outputs": [],
   "source": [
    "PR.PersistTable(df)"
   ]
  },
  {
   "cell_type": "markdown",
   "id": "f1fb630b-fa93-441f-98e6-33eae803407c",
   "metadata": {},
   "source": [
    "#### Column Operations\n",
    "- Rename\n",
    "- Delete\n",
    "- Change Data type"
   ]
  },
  {
   "cell_type": "markdown",
   "id": "15e3c565-6568-4e69-b3b6-34de7814f231",
   "metadata": {},
   "source": [
    "#### Assign Categories"
   ]
  },
  {
   "cell_type": "code",
   "execution_count": null,
   "id": "483f8adf-a44a-4f3d-bd15-d2ac32b5d0fc",
   "metadata": {
    "__GENERATED_DATAFRAMES__": "ᯡࠣ䅬Ԁ朤壠ᜣ琢〹夤ㆄƒ䃠Რ䌡㘳眺㱩哧ࠠ桠 䁯猀ಏ䢪K䈠⾸倠 ",
    "__has_persist_output": true,
    "trrack_graph": "ᯡ࠽䈌ʀ匦㢠⹰ࣥ8ƀᶪƺ〶䀧ء᱊೸夡౮柑䈣〨ㅠ⬹Ƭ⣮侻ैkᑄႈ妐ࢷᓍ❡䧋ގ㸢䉠ð䀡姕冯奀ॢȠ௎䠸ᢀ㜰䁾巓怢機⨠Ꮃ䤠ළဢ㎃凸ì㉢ᥚᬬᕮ普გ愨停Ẕ煍Ꮋഽ䆡\"甕種ፄ㨾䞰ᛥㆢ䀣擠䡈䤔ᢆᩇ卆⏰˸惌求ၖᡄᲊ橁Č⌤⩡㒶・ΰ㈶⠥稈砆碌ṋɒ疎ݚ⹡ŸŜ.箰㞬ޣ㌑Զ㫹癖ᓠ箩ቄ孉懐ⱪ࣌⍅ᡐ婇䏥杮ୂ䃑䖈䞤㊑桲佬秝ሦ䘤檴݊⽢䁤兖ᙏ੄ࣴ䒡䣠夼佀⤴╩䰺狳ᄸ乀䥄⥖ൎ暓㤶Ὀ⬵ңࣣ⫘晇ඪᠠќп•嶦〶倣䪊き⫡ʻ曘Ἣ㍴÷၆κ⻀橖㱞ᾥ椨䄌⤧ׁ墤ᡥ䁅⠴༤䎀怼夭䓢桰ቺᆣࡈ਼台幛Ꭵ抰じ㸨䕀⡴ാ䙂ᣬ㬫䘃碢Ḹ⟊᫭᭩㌋偝㹓䌩㐐䣬ジỳ⳩偹ᙋẽァ㙛Ỻ牙✞⧼瓛皚᰼↠Â㰾ؒ渾⠤ෙȕす翕⾎઄汯㸓⭗䠮ɢ値̔䤢េ䈀䫋猑ሠ߆㸿䃷㱎巴窦䏂᳿堖㩐/᳠⧅ǎఫʚ࠶䆲ూ䃔³恸幁䁰䪧⁈ๅ停ش凸ᚢṐᬦ瀤䐢⅀ࠔ䢌ਠ䢙䬯ǐ㒀â㵡Р奖ఛ焀⿋湰ڊ䙩ે悛╪噯丒纟䖃啜ृ⑲杀⭥൸咚滁᭍ૻ㣪䵰䄴૙̸ȹ䌨攺〸朸፴⊹卄⦻㎞⅂岗ᨇ䍨懪粴଻࢘梻፴溺䊼楰唰∠1㾣粕ᒴ㒍⣧㖬庨璫c籝ㅶ0㵫琢ၬ塠㘭䁸⼮䈚੩䃀ᔥâ㩉ᓀ㑥䠨޵䗰ɭ࣢⺂ȓ௄ⲥ㵈擥୉ᓹ♭䦅㳋撵᥁ⓛ❭榦稩愆昩憨ऎ᥆ԍデ⋩㸇⌋夏㇮嵤᧡㣎ⴂƗⰨ㶯Όᦏ㗧减ђ娏ᷤ絾ఄ槿ʲ֢㈷粀メļⶢͤ䛁ᐊ治粘强䏰倷䙤丹ͱ効ႊ䯧⫝͸牑䕘͐喭䉠⸴በİ杼ᚉ怲甧஋ଥ′猫慘ⲋ࡚稦悈Ḧ⇲㭛扰哨Ꮙ佞Ѐ凈欥抿㥢ھ⯪ǣ勜៣礞㎤㉬䦋ᇫʥⶴⶊ倻ڬ淔⬅⤼ࡆॷݵ檘ཾ䄚䃿殦愪᯦妅ᰚ⳿᭡Ѿ歚睻歐ଯ欦粘乆昢了使᫒熣䯤垭ᠠ㦫≋⳶倡擲㟧䂎万碎䀧ଢ紱㋗䭱๺歵廼缿珷圁橘❣珵㝹碚㬌ɗί惕᧭㈐ㆍ䛐揶Ự♝ᇪ䈶䐕洊਀梭䌨喩㘶䤪ᓑ⽖ᝦӟ擅⃝ᖆ䳁砽䋱洴疛ᴊ㡇ʀ≤灛匼倨窓൙⽳㇖Ј圷梎ᡔ䍠㏼ႂ㱷ਠヵ㇁䌐むᯣϤ䅷֜ᒊ㚈懬‰ᇑ圻ҡ夁ᇓ㍒ㇶ翥朚毬ၱೀ塹់ᣏ≓⼦瓄ᴨ懜ᆥ籜Ԑ庤䑴Àچ䑈̀燁爽⍌㵲籪ኡ堻ĕ㜣倶׀挥圄毌˿ౘ㻊犳⇐!⩃৒அᄠ༅⢐෼〷尧彡޲抠㔨儉烾湍剭⾍穩沀ᣪՋ妶㲤噅ǌ㫦傭䧀ⶸ℣姩ၔ⋎̲瀴ўᘬ㹴ઝᐼ綸ଙ匷⫿㸖ࠬ環劰㻧䒜ⴺ勯䖠⾣⓿ᬣ弧痐䌭⺲!⩏ԡ䝹尰䷘籷㤗㾔ཱྀ燰⵮ဠȅ咁๜淫䀠ຽǪ峉柅⡏ᆁ㑱ːརテӵ寿棺厡灉ࡤ☣٬ʀᑩ䂅ᦜⰧ䇦嚣ࡔ⊐Ť㓁凬⠀ⲫ渼㧺ᴓ䃙推欱ኔ䵜畮ଉ烠ንࠧ夛̈溶Ƥᰨ㴹䊚禢穘᜔桙㦁匤细琝෣惖ᛡ∶℠橣ὢ䌿થѭ݃⠵⍏曶䲂懼恃᱉揦෥帢ΐ晔卉⼢㪌刏ඓ㝈֢㫤硺ਐ嬨ࣅ഑剩㆘ϡ䊫ᄲ㴲ᅉ㯤ㄶ〹坄㺩䑈Ҵ搯Ⱈ佹ඁ寵ڶग䉹㼲奡ሲ廕怤令榿ᮌ悊ᄨ淑Գ䋆彭漨牮㼡ⶭ嫤庴㭣ᑩឃ჉ᆅỳኝ囪牠㥙を⁬ռ垾秸਒吧犅䱸Űᙿ⡏ˮҥィ䲍ᬁ෇冻Ⰵ孿撖樒皰⬥ࡹ橰噓奲↋䩥⁜撵㮔眰栩喼ৣ橜漿㍻䀢▼Ὓ乽䉼楆⽵眐⤵庞䫵ℸ䈁អŠ榤㥄⋷䴴⁌䣨䖝堵ⴸ༡䉑䣢狷㔝睉⺹⥝ኸ絀㏏䧇٫│祄癰࿥㏏汐䝈䌤ŦἋ䜥ᕀ畈ͺ⩼干㡬嶢èయᶶ佇ᙾཏႧ暈҂③團⋞䋥⛧ᡮ᫊䪋᭤渳嘸婑忬孂⛑䑯፿᪐䂊⫮㞱彻♢ᚺ㟌⌏㶚㞺䵐䇈樉ᾁ声ᛆ嬁儸䀧Ԣ〮Ƅ⢀≵㄄ņ祄ҙ效п䒫牬䞪撉竓ẵ䜼爒弡燁熣㿦ɺ暤揤ર͝⬯仱ᎺἮ洓⃫᷒✶禰第仒沷眖〆ذ匰Ꭲ坋疤㰉灯漝⨫縑ရаڐЭམྥ⒥嘚岋ጼ氊櫶〠۾㏏㶸౵㋀䳷սค溼᛽扩爔 恟䇠ख㺃淤暯⸰က伲竊坬ი䗜⒬ⷧ槾䯬纫扚὜㮨᠇纔眢侏京䀽౜㫸なၖ暐Ⴏजլ᤾㴹數⩞䄬囘塔砸涶䆫ಠㄪ䌻挅䎣岴ᘲ䦖䐘悪Ԟ噪劻Ĺ⼫眶ɑ㨻熑᫃㲾⧼坳櫿ⶻ怩༾ጢ另ἢ䤮礏≠⴩䦺卭ᣓ⣒Üଖ૪¨᳇剭佫Ţ畢Ҩ䱦㤄Ɗ氳橒睨ᶮ⸶幻ᦗ㝩⭍癖⎳绡搪㛖ါͲጬ堵兩˖㝾斳㻮攒㏣畟䅡焋㳱榍澺簍奠ᾛ嬇⿔ត氼ဠ "
   },
   "outputs": [],
   "source": [
    "PR.PersistTable(df)"
   ]
  },
  {
   "cell_type": "markdown",
   "id": "94a72763-7cba-4fec-91f8-8f673585a7e2",
   "metadata": {},
   "source": [
    "#### Using output dataframes"
   ]
  },
  {
   "cell_type": "code",
   "execution_count": null,
   "id": "97add61b-8b77-40e1-8a99-80da51e1ca12",
   "metadata": {
    "__GENERATED_DATAFRAMES__": "ᯡࠣ䅬Ԁ朤壠ᜣ琢〹夤〡䈡㥠怼䁣Ö࠯൜⓴殨⁀Ѡ➠㬪瀬え䔠ᗢO嗂фɥ棪⭶䶺攠ỽ┼⪊LČⴝ⠡ᥲ倥吐Ā΀Ԅ寺㺯㋠ᇉޯ䬡ⱘࠠ㌿䇨᪣䕧犰塡籂⡈їԻ今䂦ℋ⢌缈Ⱗƭ䜹溮䋓榙ᱜ㛾欯⨡勈愣㝢ۥ恳僄繤ᱚ宦`۵·灠܆繟⤽䬲悄৕᭚䲣梶ݾ必唫ބ๾䒘ˈ劼䢊㼲㒺∩᜽橯ౖ୸᭫᷉凹掏愥ᙲܣ䈌穲េȘ縻ତર塸儥㥱ጸᵥɀṮ᤯揈;ࢼ䜂戸噀ٴ∎ᅐ澣೸ឨ%䧠ҹᤩš䠠ᱴ䁄ণⱣᆢԘガ✰Ú榋ǡ焘㆚࿩䁄焰  ",
    "__has_persist_output": true,
    "trrack_graph": "ᯡ࠽䈌ʀ匦㢠⹰ˠ㬡దᥠ♉‶䖠ภ氢㤩⮠㌵Ф〰椃䈥〠憠㌧૜僙ↆ㉪2攩њ㙜˥擈毲㖎淯䁰䣑ဠ㑀Ⲁ仨ɰ䂠̄㈦;䘸Ϥၗ眽〠婨䳀n㝄V䐤䇫⃠净䣙哔婂ਫ઱䉪晄ㅡ凳ᡐቺ⼨7Ⲃ㆐奁㦬壁晛ఴ>☤䃣↑㦐⣜⸬ᤰ抸怫ㆣ宫ၡ䲀䢉巄䈳墮೉ɒ氡圃暀令㳀ఌぞ⻳ᣐ瘨痭尲昢∧〤砠ᶿ἞ᡌ໧愤䧼䝓䳤妆楌䚧惐๓٠愨㑏ɥ懈屏୤၈殧ࡢ䆦帪ᙄ㇔䝛昕䤺ᡓⴑ᰹捔⬷䔲擊ⵠ撸泛֣搪䘱≳ᕁ᥇䳫䐲⒪ʳⓙⲮ⟯攪౑⩴㣬䙍⨀ƴႀ仠04堼֣㣀恠຀ɲඬᯰ栣䠠奠帠Љ㻡⟀ܷɬ嗓夁呡似࿋夽佶ġᠠ垑叀栤䅰䶁嬸ἣ䷡燩ᠼἤ⊱ᐬ㵢懑᰾ᾨጩ⊑Ǆ棕浕寋欁屒ԡ䌀䌩䪃᪡獥姂媇ᮍ䈧堼䞛䴇ᠻቋ䜇㦆⁘ᩣ!≉ῶ熙‰ㇸ恭䁧燡㲙楏╛焠玖㾴༤⋀У疲䈿ᦢ沒ᾞᙠĔ㯥穆篲ᠺᣮᩆ擤Ƽ石窘濷筜泹刡伨բ挬஡夻ʂ䑣°䈬䌀㋥°ⰷ䈰昷吂ᐹ䍼ᠣ䂐ሣ̐昣ϡ䌱ۨ映䐞ౘ١㬧⥌ӡ́灡ᮜ炪↪ွ歴㠻棠彠ᢸ⃥ᢠ㍫ŀ㬸ᇩᎴ犌徿爢恮慸ᠶ䋨礨奈勵⇰ز妈᫷⏶̡㭴圢ࢀ䙤̤嬿ᩙ䔤壈狽暈櫧⇶紱墠Ⱑᬤ೼ᘶ䣙≱㝃ⅶ洶娈۾Ԡ  "
   },
   "outputs": [],
   "source": [
    "PR.PersistTable(df)"
   ]
  },
  {
   "cell_type": "code",
   "execution_count": null,
   "id": "4f825155-3cdd-42c8-88c5-ef7891b64b37",
   "metadata": {},
   "outputs": [],
   "source": [
    "test.head() "
   ]
  },
  {
   "cell_type": "code",
   "execution_count": null,
   "id": "39263d07-8624-4b3f-9e59-5533a1e98e02",
   "metadata": {},
   "outputs": [],
   "source": [
    "persist_df_10.head()"
   ]
  },
  {
   "cell_type": "code",
   "execution_count": null,
   "id": "eff58716-b18f-4c00-9a93-3ed2443344dc",
   "metadata": {},
   "outputs": [],
   "source": []
  }
 ],
 "metadata": {
  "NB_UUID": "9b2f5bec-a755-4a5b-a877-fe1a880b9f38",
  "__persist_keys_record": [
   "__GENERATED_DATAFRAMES__",
   "__persist_nb_uuid__",
   "trrack_graph"
  ],
  "__persist_nb_uuid__": "be067817-dfa3-42d6-948a-39c4b95d3382",
  "kernelspec": {
   "display_name": "Python 3 (ipykernel)",
   "language": "python",
   "name": "python3"
  },
  "language_info": {
   "codemirror_mode": {
    "name": "ipython",
    "version": 3
   },
   "file_extension": ".py",
   "mimetype": "text/x-python",
   "name": "python",
   "nbconvert_exporter": "python",
   "pygments_lexer": "ipython3",
   "version": "3.8.16"
  }
 },
 "nbformat": 4,
 "nbformat_minor": 5
}
