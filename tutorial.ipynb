{
 "cells": [
  {
   "cell_type": "markdown",
   "id": "721323cd-bb01-435f-a189-52f86ac438be",
   "metadata": {
    "trrack_graph": {
     "current": "5a5a00cc-06cd-4338-a90a-1365ce04ac27",
     "nodes": {
      "5a5a00cc-06cd-4338-a90a-1365ce04ac27": {
       "artifacts": [],
       "children": [],
       "createdOn": 1699995232057,
       "event": "Root",
       "id": "5a5a00cc-06cd-4338-a90a-1365ce04ac27",
       "label": "Root",
       "level": 0,
       "meta": {
        "annotation": [],
        "bookmark": []
       },
       "state": {
        "type": "checkpoint",
        "val": {
         "id": "0ed02552-2223-4b2b-8843-223fb8396132",
         "type": "create"
        }
       }
      }
     },
     "root": "5a5a00cc-06cd-4338-a90a-1365ce04ac27"
    }
   },
   "source": [
    "# PersIst Extension Tutorial"
   ]
  },
  {
   "cell_type": "markdown",
   "id": "0892e834-de92-4f36-85d7-deee12490be5",
   "metadata": {
    "trrack_graph": {
     "current": "5719397c-958a-4994-91f0-d7a66aa497ed",
     "nodes": {
      "5719397c-958a-4994-91f0-d7a66aa497ed": {
       "artifacts": [],
       "children": [],
       "createdOn": 1699995265084,
       "event": "Root",
       "id": "5719397c-958a-4994-91f0-d7a66aa497ed",
       "label": "Root",
       "level": 0,
       "meta": {
        "annotation": [],
        "bookmark": []
       },
       "state": {
        "type": "checkpoint",
        "val": {
         "id": "52dfacb4-8b03-4e0d-a810-0a3f919ebb61",
         "type": "create"
        }
       }
      }
     },
     "root": "5719397c-958a-4994-91f0-d7a66aa497ed"
    }
   },
   "source": [
    "PersIst is a JupyterLab extension to make interactions in cell output persistent. Persist tracks interactions for compatible outputs in a provenance graph.\n",
    "\n",
    "Capturing the interaction provenance allows us to save our interactions with the notebook, and replay them at point later. You can even rerun the interactions if the value of the variable in the persisted cell has changed. Persist will try it's best to apply the interactions to the new variable value.\n",
    "\n",
    "You can import and enable the PersIst extension as follows:\n",
    "\n",
    "```python\n",
    "import persist_ext as PR\n",
    "```"
   ]
  },
  {
   "cell_type": "code",
   "execution_count": 1,
   "id": "dbc49dae-f456-4ebd-9146-4ae6ba83838c",
   "metadata": {},
   "outputs": [],
   "source": [
    "import persist_ext as PR\n",
    "\n",
    "from vega_datasets import data\n",
    "import altair as alt\n",
    "import pandas as pd"
   ]
  },
  {
   "cell_type": "markdown",
   "id": "2dc9acb1-d4fd-4949-843b-fa0afa32387d",
   "metadata": {
    "trrack_graph": {
     "current": "5719397c-958a-4994-91f0-d7a66aa497ed",
     "nodes": {
      "5719397c-958a-4994-91f0-d7a66aa497ed": {
       "artifacts": [],
       "children": [],
       "createdOn": 1699995265084,
       "event": "Root",
       "id": "5719397c-958a-4994-91f0-d7a66aa497ed",
       "label": "Root",
       "level": 0,
       "meta": {
        "annotation": [],
        "bookmark": []
       },
       "state": {
        "type": "checkpoint",
        "val": {
         "id": "52dfacb4-8b03-4e0d-a810-0a3f919ebb61",
         "type": "create"
        }
       }
      }
     },
     "root": "5719397c-958a-4994-91f0-d7a66aa497ed"
    }
   },
   "source": [
    "## Supported Outputs\n",
    "\n",
    "Currently, persist supports two major output types: Vega-Altair plots and interactive datatables."
   ]
  },
  {
   "cell_type": "markdown",
   "id": "0dd3f9db-f762-4cb9-ae32-e66f177df309",
   "metadata": {
    "trrack_graph": {
     "current": "532e7b35-40eb-49bc-bcf5-4ac20f338809",
     "nodes": {
      "532e7b35-40eb-49bc-bcf5-4ac20f338809": {
       "artifacts": [],
       "children": [],
       "createdOn": 1699995589077,
       "event": "Root",
       "id": "532e7b35-40eb-49bc-bcf5-4ac20f338809",
       "label": "Root",
       "level": 0,
       "meta": {
        "annotation": [],
        "bookmark": []
       },
       "state": {
        "type": "checkpoint",
        "val": {
         "id": "6680bfac-15fc-4ff4-b8c1-1921d906a0ec",
         "type": "create"
        }
       }
      }
     },
     "root": "532e7b35-40eb-49bc-bcf5-4ac20f338809"
    }
   },
   "source": [
    "### **Vega-Altair**\n",
    "\n",
    "You can create any interactive Vega-Altair plot and pass it to create `PR.PersistChart` to create a persistent chart.\n",
    "\n",
    "E.g.\n",
    "```python\n",
    "\n",
    "selector = alt.selection_interval(name=\"selector\")\n",
    "\n",
    "chart = alt.Chart(df).mark_point().encode(\n",
    "    x=\"X:Q\",\n",
    "    y=\"Y:Q\",\n",
    "    color=alt.condition(selector, alt.value(\"steelblue\"), alt.value(\"gray\"))\n",
    ").add_params(selector)\n",
    "\n",
    "PR.PersistChart(chart)\n",
    "\n",
    "```\n",
    "\n",
    "The above snippet of code will create an interactive persist scatterplot with brush interactions.\n",
    "\n",
    "Alternatively, persist comes with `plot` module which provides helper functions to create simple plots like scatterplot and barchart."
   ]
  },
  {
   "cell_type": "code",
   "execution_count": 2,
   "id": "b58f8f0f-8f4b-4346-8c48-3b0b22d758af",
   "metadata": {
    "__GENERATED_DATAFRAMES__": "ᯡࠣ䅬Ԁ朤壠ᜣ琢〹夤゠⹰〮⁁䁻қ䚾ኊ㇠നСࠩ瀮晼Ƭ穅5愠៤⠠ ",
    "__has_persist_output": true,
    "trrack_graph": "ᯡ࠽䈌ʀ匦㢠⹰ڀጠ䘦ㆀ嘢ᣀୠრ㭎Ⲩ˦䀮㹤ԁᓠغ氆欵砬ㆭ⾷ैkᑄᄉ夒ર勋⃹喧ⶎ帢䉤䀡傠ǑუҚ′䈤7ưᠠ湐戎Ⴆ寐翠˼⣪$疒‣㐡㪦⎇㦲ධ濢ॅ壡‡犀⒜᤻ཎ䝠΅扱榑ؠ嬸ⶩ౤ɦҡ囻䑀妨䣣ح䀺慲∩瞤∡㺦ƶ䨩ᾶ悡檩ǣ᪀痖o#䖃栃ࠁ璌⇤渮✲גвⵆ䍦冱ᧈ沔≖ਬᜦ䛠⑴㴱偰㈬Ƥᑰ♎Ơ愈ݚ旖䢲ᠪ⋑౱ㆨб姼᥆Πᆨ牅৥⡸癇׃焤慈䢰ż䄰䔁狩㢥¼叱ల⍥愐ᓽᑢᤠ "
   },
   "outputs": [
    {
     "data": {
      "application/vnd.jupyter.widget-view+json": {
       "model_id": "ee652b1662d246f990f536c62f9a4d71",
       "version_major": 2,
       "version_minor": 0
      },
      "text/plain": [
       "PersistWidget(data_values=[{'__id_column': '1', 'Name': 'chevrolet chevelle malibu', 'Miles_per_Gallon': 18.0,…"
      ]
     },
     "execution_count": 2,
     "metadata": {},
     "output_type": "execute_result"
    }
   ],
   "source": [
    "df = data.cars()\n",
    "\n",
    "selector = alt.selection_interval(name=\"selector\")\n",
    "\n",
    "chart = alt.Chart(df).mark_point().encode(\n",
    "    x=\"Miles_per_Gallon:Q\",\n",
    "    y=\"Weight_in_lbs:Q\",\n",
    "    color=alt.condition(selector, \"Origin:N\", alt.value(\"gray\"))\n",
    ").add_params(selector)\n",
    "\n",
    "PR.PersistChart(chart, data=df)"
   ]
  },
  {
   "cell_type": "markdown",
   "id": "33d88224-c199-41e3-9c83-05f75d9a013a",
   "metadata": {},
   "source": [
    "\n",
    "You can see that the output area looks different from the usual output for Vega-Altair. We have a toolbar on the top and a sidebar on the right. The toolbar gives us host of interactions we can perform to manipulate our plots.\n",
    "\n",
    "Persist keeps a track of your interactions and stores them in graph called provenance graph. The first tab in the sidebar titled `Trrack` visualizes the provenance for all your interactions in the cell output.\n",
    "\n",
    "In the second tab you can see the text summary of everything you have done to reach the current output state.\n"
   ]
  },
  {
   "cell_type": "markdown",
   "id": "b74296c9-2e95-4cc9-a343-5b714c28e39d",
   "metadata": {},
   "source": [
    "#### Interactions & Persistence\n",
    "In the next cell we have the same scatterplot, try interactively selecting points. You can repeat the selections as many times as possible. Try clicking on different nodes in the provenance visualization."
   ]
  },
  {
   "cell_type": "code",
   "execution_count": 3,
   "id": "395506b7-7f57-4c0f-a7a8-8b49de034d5d",
   "metadata": {
    "__GENERATED_DATAFRAMES__": "ᯢ粠 ",
    "__has_persist_output": true,
    "trrack_graph": "ᯡ࠽䈌ʀ匦㢠⹰໠ㆡءゆᧀⴠ䘡ⱐʀᖠ暒ʐ௜禤ɐ湬ᑐۧ⁓㥌≩•ⳁႧ⛫侸䳅ක䛬汙㬐ਲဦ䈠ۣᖬǉj࠰|∔怣㣣ט䈲曽䡔6ㄦ倠➇ሠ᭠௏偔㪹ဠച㒀䙕䘪/ጢℰ儂煢爴ᄶ#䜳柰˸懌ᣂာᡄᛚ晁ˬ⁧畸嘠歪䙀㟌Ḱؗ樮尘ᢈ欤➄␮˳ߎ堢㰠໋㝿㹏㎂ق猐㢁䶰′⤴㤴ത䯤⁁⍰䪵擴繦೩ªѡ燈埆ૡᄂ嗞䇖泄⒬ʵⵦ⒘戤ӌ坔䦡愐䉉Ţ冈سˠᇸ乗ߤত⼺%㨥䄳䷣ᎃ牜⥨⛈ⓒ㍩┈ⁱ䠠 "
   },
   "outputs": [
    {
     "data": {
      "application/vnd.jupyter.widget-view+json": {
       "model_id": "d5595353443a451bbfde38e7d6c833ca",
       "version_major": 2,
       "version_minor": 0
      },
      "text/plain": [
       "PersistWidget(data_values=[{'__id_column': '1', 'Name': 'chevrolet chevelle malibu', 'Miles_per_Gallon': 18.0,…"
      ]
     },
     "execution_count": 3,
     "metadata": {},
     "output_type": "execute_result"
    }
   ],
   "source": [
    "PR.PersistChart(chart, data=df)"
   ]
  },
  {
   "cell_type": "markdown",
   "id": "4d4aeada-9b5f-4655-8c9a-fca92ef5ccb8",
   "metadata": {},
   "source": [
    "You can run the next cell to see and see the history already populated with selections. Persist allows you to save the interactions and loads them the next time you run the cell. You can use the first two buttons in the header to `undo` or `redo` your interactions."
   ]
  },
  {
   "cell_type": "code",
   "execution_count": 4,
   "id": "af55dedf-be3b-457f-beb8-6c95e244defe",
   "metadata": {
    "__GENERATED_DATAFRAMES__": "ᯡࠣ䅬Ԁ朤壠ᜣ琢〹夢゠⹰〮⁁䁻қ䚾ኊ㇠നСࠩ瀮晼Ƭ穅5愠៤⠠ ",
    "__has_persist_output": true,
    "trrack_graph": "ᯡ࠽䈌ʀ匦㢠⹰Ӡ✡䚈ჭ㐽䁍ٔÐ㑔䃬8ɒୠ᭞匨҇⻳祭张㌠๔⡩•⳦Ⴇ⋫䁸䲥㖚䙌浛㬗瘺ሠڤ-孛ಃ⑀´၀Úಡ䀦熦आ㛣厬6ঃᐠ৽撠۱\"壁永粖ႻԽщ⊩⎂ࢤ瑔≈ʛસ匾敇゠Ɣ䛦圫ርࣣ਽䟑䅠Ȅ恨㪜ൟ⑦䊯䏃ᄸƌㄖ沑ࡖలൟグ䎖ᇣ啀癛U岛ళ墬吢粬߫ƌٝ䄽㧗ɹ䋯氡Ḡއ䳟䘣Ϟ碠␾Ꭵ曢⳨ࠪ⋐剜ᤦ䍨栢పᓀ桱̿䍂ࡈ¿ƣ塬­ʫ墩Ꭽ甙Ⳮవ嚘伔冴垪ዩ⩽ᓫ㋙㹰噉⣅㥶㊤摬䉩ᛥ姄٫ᇩ犤Ŵ万礵൬柈搠㊥䰓㓀!+ᐫ怠㻇氶ᨠ煐㣪嬊*㸷⿐⃚潠ӀᦕZ䘡အ暞㶸樧෦㬮ߕ⡬Ⴊኔ嵜಍檑櫠䲮˴滞hᔩ嚱ጽ䛠傔ἦтথ攭ށ‼Ⴆ3㉬ᨯኂ㉷ᔦ㓻帧㮳斲じḨ䅃䢴ⴡ䚂堼ᜧ䐂тᢩ冈畽཯倸專ᑪ䏀♳ೢྺᛍ૯᳻㘰Ỡ牛溇᳸ᓛ⻗㇨採⑐4⁂⊎㯈Ԡ⁷戠wᠨή㸈禉௡磞ࠣ渌㾢ӡѪ@㯥ㅢ㯪ぐ㏤㄰徥〠㴥២⁈ᙐₜ཭㕆㍙梆঱墎གྷѩત䙅ໂ嘡ƀ吰䏣бក桘獈㏖׍⑙⟠Э٤㣉Ġ౨â嘴䩼ࢋ≂㉑༃摡䶹ۍ⎡⚬ݔ囑䇔秞 瑜ڥၩᒣ偱᧗偮⃥璖⺢偃ᴷ䉈ྱㄘત汞忴ۡ䰥܁䉂䙑仩偬ᒡ㚙ຢーঠᠩ䩆◉㵉౹㒢デᕯ⥒፪㤌⽫øኁⅴ⚨曮塁⤦ᆨ楰୭啀᢬㰰ᑂ㕜㶅≧癮`䠶ਣ崁ᐡ䶓⫡᥆䳴嫶喂曧䵱 ϼ䧡⬺悕◖㔤⬲ᐦ⃤ᦦЩ刘巜ࢠ垨癲⼥⚌́㞤筑杙᥍撙岴䎙筏搥岨⌥睟ƥ檼ህˍ᠔招ᐸ䓟ᓅ咃ᒵ㋔犼仍║㦧哵ᵄ䟐悤נ㼸榱ᇞԢ㚸ቱ⿑眜羰࢘次孢䇡₮攼㧈⧳⋮ᴡ㰈篶凘灮䏾˨墶氬塶ⲭᓶ㫡奖᛿ǖ氣娾䤺₠斘媶狠≶ⶖ婄嶈ₙΝ宀仩抸猥皊㩇⠺⍬撍⭆柺ᐦ䇦嵶䂚潷棽ᣎᑦ㭸ᔐऊ䃩簩ᤸᓿ嫱浫ᨤႬᏌဪϖᨶƄ⨠₀䶛Ď䈮嵤䛣ʩ≩䆸ᐽ䃰઻嬖哺ዤ晬⣄㐭ቪ๦⮒դ勤Ź㣲嗭㌔纾ࣖ娨⃦緺㋬握抾淞焸䯺稼䡜牞प爞恝章濷磞ࡢؿ停ԡ㯭祜塃瞉⑈䖑呆ᩄ斤〧׎ඪ⦾䨭⡦ᄺ߲ね⊐౤琹ʹ䤣Ꮃǹᡶ͐冦Ქ‵⩬ⱼɉ廢瓟⭠䰥䄘ຊ␲䅔ڣ࠭ᵪ䬦眼ᠩਧ惢ड〷䋄Ṣͭ哈⸤绕װ⌯⁛ኀ罆狰欭Ⅰ䎩勈䁑ؐ䄴䂪਱樺ᆐტY咚ഡ泜䨣⮷㤶旨⢭懬⨣Ɀ䉨䃫ࣕ步᷷ٴ࿱凌憸ᶣ汏̜嫤咍䒰窫Ⴇࡡ⨼燗⬵睶Ʉⵛ㱻ࠑᾬ⣎凑帱ǁៅํ㔣䋪㛕䫌㮨冐佡⌽ᅰ搴ⅾ౲㠥剽䒤䂮撠睒䭅媀ଲṋ煦ᣥ穉䜣֫∠䵱ರᆼⱲن‪ڠ摪ʈ㥠ひϨㅏⰸա斶䄡亡䩉°ݑ?䐘b暜恀˾↧ॡ䝊䉮ڡ亍޼㴦გ東悥ȏᓙෙ㣲™场瓀㬆妭泽ⷹ䁛䯘⨤ᄪওᜪ爙欋⼕搫Х峰ෙ䆗㢛⫆筶垈羊㉍ᾲ⇩ᷣ姲⎭ͧ⑯䞛咬㹫ೄ卄優ᅓ姡屟㬇⚄㴢痬ࢢ¨䁁䶫峤咁᷅ʷ㬤りͨ⢯䁱ࡅ∧喈̡⩚䜆㾀孵㝶ᮉ囵侍疱墽彺ෑ嬘ଇ㑕摠昉峳አᤧᑠኃ㞱灌἖Ⱓ烸␋夛જῡ碿ᬘ忍禞ဆ檟慎砎痏洜ᬪӟ䈲᦬䉁㈷棔ᗉ䂾䨖ᔢ婄⏢⺥ੱ䥐浉⍂哪泄ᥡᛃ㿠⍈㭤玒Ҕ磭ദ⻦䋆䙅婴旝ᨺⱇ᪳䛧ம䓗༱亴䁭呻⷟౛㻆⮗㝱⾊䕈䡮竿䵅೻㣽෻⥥࢙㒬䜲榜涰ᠬᠸơ␫ႀঠ⾈声ഁ䁔䞦ሯҼϠ儦のᎀທᬼ网䡙ȼ䔪᱊ř樺㣔ຒ瑂炕ড㳄ѱ平簢占䋔㲸ᑶ㮤吩Ω䫹⫠ễª塈曯䨰椬䖉ƪ稺䪹⮵屟䍊䘌嘧淕᜴牡ᜧⷃ婎®㄁▝僛哉ᲗҴ崴ㅧ㊅㊼疊紃䱥椱ኯނ`偒ᗰئ䥔تฬ⡤࿫砫â坯䨸䌗⫊堯䠰⾹⼐怓࣑䮡㔶䆛ʗُ佺┈☁峋浓繠ⓗ䓹晓啌ᨆƃ猕寭ง栋࿢ᬣ㼘䎌慦曣Ĥ妭ᡇ෧₻⴩᯦╗ᒐ撆暪ඁু䐷ⵣ僺弦殈ಕ燉㚎伪仞吱䋓ⷔ᝺穜嚀穤桕⿎橴伀亽䳼毹嫶灌堓ⱙ泍)⽥き据ŏ欵壷嗄㙪睦ᢎⅨ䲬Ը㋉簤孛喳慎㬃嗥梃ҩ睹掂濦刨㰙㱶ᅗ䛉ⷧ嫤温佻㛆⻼㭝勦䇭匓Ⓠ၄潭乧䍴㙮䗗⮕ၗඉ向⠼છ⟝桚渒䶱䪷ا㜮槁噔㢩䚞異➐悚李㥣⻲⌠琫ဨ߈纉琴ਢゖ䠀簧夿咓㳻稧ᴇ罨孼瀸䮛伣ᦃ⣰㢡瞈愄檠ᓲ䲀઻⦭ᩈ罌ቌ߇繤窋­ⱜ幋犽⧊捷ⵙ埚だ㬐村㺬搠̪模挊㭍㫐ᙷ汶଎劐崓Т╕嗰㹆戶Ҍ刯效㻠儹नᯘ倦Þ兆眡♓⾓ၤ㵹࢐䆥┭䣺ධغ戊ᡵᨤ啎㣝殥㴦ƍ擏䴏澓愕⯪இ氋៹砶䈀㽌〚䀷ۤ实眝ʍฝ灱ᰟ孍Ⳡ㣠䁗қ嗖㫉娱琑㼞翊ᲅួ䬝倕穛⸒㮠瞲沛冞炏窩ả囡䁁䖵⠡⁃ࣁୋࢫೠᯛ䤬෉‾凤溗灎㌓廠❆㥟欫଄䂎ᙛ䦡婸佅យㅀ૤猅ࡀ碧䶽ȩ⁨碐ٜ⢯ཤ礻א攡ճ〻唢攌ྑ⢀㱝堽ླྀ簀⥜䐷ḳƂ䆬㣇吳竔唽皤恴犰ޭ珊筤燰Ꭴ吪乌僀ᦵ姭睩᪒婭缀ှ¬ט夫ᕬήᬠ椧⹔又੩ਵ1Ȁᱤ樏湣㯐ᅭ䜊坕䯋孬嬅㜣ᨋ䋜曎玊秏ᆵ炯⽇⢾෽䆉画揗䌁ḏ疈嬗塕縆඀ᅅ傜⦆ὔ够ኜ䵣䭲㍵᎜䶃Ɣ㡬岈怩ᩋͭ̉獢䶅剽١᰸▍剝ᨈ嘨㩃Ϧ䛠Ⰴ⣓ㄏ䂔Ἇ灪䓨จ㔾䭚䗞叅㽯䨳ࣙ῅ṩᑬ㊰៨㮇ᆝ婃੐尪愼࢐䝀㛍牱խ咙䧤牒ǩԡᔮ⪜㣄㌜侌≲䖿冥愯棾䨬㳥䌵ࡱ䞬⋄箋䝂㋄䲹㵤➍磝垝䏎報Ԩડ⬷孥䧅ᘰ⠩䙌凰຃㹉愱դਃⰍ嵧孿䊄 卹⫀㸹ᢃ⹅ᣩố夤䡂΀ᶽҮ㵿磓䀢䀳昰ࠓ堔䋩㥠ᦫᜅ₅ᙧ䩡乸檣筃Ɉ㸸⪉ⱕء卣 僰⥠ὣض䂑੢䳹᲼傾⒨ྲ娵ࡡ⟗ᡲ撊ᓒ媛ྉಃ㢆᭔䔼䓂䁴玲台䴰买珂έ瓄䢒⦩嵜‣睙؛堨㶢㌹ȧ䊣栶ཌپ亢砸猢݇墢⛀庇շ䫴冨妜ʘ㐡㯨ୗ⡾࿣廎ମ祿ੌ㸇㹐䙟ᄼἿ⪯䰁‫⢤䝆䚜寉洣䛍䨍㧎᭰㣺嚂㹄䥈⓺䌜⮅䴪旕冥í㬶棵䎕伷䭴䞶❤℁᥊婣ᬼ༺ੜ㬖㸳網泡撄㒉悰ᣀㅼ㋥㌅ᳲ晃䔍䚳ॊ摬䏒征ᶜ㨖℃漸ᄓ奎嫓梮Ӛ最䇓䠾峢㪄䤜ă哳笣垓ṍ歱服幥烩᳘⒎⸃䠊糎ӹ̒ፈ岫䝎␸梦岠ᙞ㒄篃㼺̀২焤‫槰ᱜ润ⲂℲႠ㋇㾞ςᤰԦⓣ䡲㐢㿈ᘫ䠡呸㝂ͩぜ䈭佈䃤=弑䄧ゞ捲㚫䌅¦║≼婡䀰ጤ᧲̎ú⟱㑼〴撶ᔠ  "
   },
   "outputs": [
    {
     "data": {
      "application/vnd.jupyter.widget-view+json": {
       "model_id": "dfa0260deb7042c29254dcb5121f3998",
       "version_major": 2,
       "version_minor": 0
      },
      "text/plain": [
       "PersistWidget(data_values=[{'__id_column': '1', 'Name': 'chevrolet chevelle malibu', 'Miles_per_Gallon': 18.0,…"
      ]
     },
     "execution_count": 4,
     "metadata": {},
     "output_type": "execute_result"
    }
   ],
   "source": [
    "PR.PersistChart(chart, data=df)"
   ]
  },
  {
   "cell_type": "markdown",
   "id": "93deef8c-35fa-42dc-8024-7ced08ca10a0",
   "metadata": {},
   "source": [
    "#### Categories"
   ]
  },
  {
   "cell_type": "code",
   "execution_count": 8,
   "id": "25ca123b-e2d5-4c90-b167-0efd63e14c15",
   "metadata": {
    "__GENERATED_DATAFRAMES__": "ᯡࠣ䅬Ԁ朤壠ᜣ琢〹夣゠⹰〮⁁䁻қ䚾ኊ㇠നСࠩ瀮晼Ƭ穅5愠៤⠠ ",
    "__has_persist_output": true,
    "trrack_graph": "ᯡ࠽䈌ʀ匦㢠⹰ˠᦡᰤム晈ୠ‮⻅ॠᆡǸ䝿䙂栬㞍Ìഋ偦ᝄ倡ᙰ䡣厃摂⹲䛝⎆嘼Კ砪ࠣ℠΀ࢍ⌯≠ኤРᜰ嵐üム湁Ý㮄ච֨廈GᎲ;‫嗳桘䲰Ӛ㙀䆵䘪/ጢↃ砨lᐼ䀻Ûʧठ˸惌ۢဣᡄ᫊扁ì⎦痉ᘠ殒䆠㯔ᘰؕ気᫰ڌ⬤㭤␮ӳ׊堢㰠໫圿఻ᯝㄢᚔ篸൭䡀ㄩᴮ⨭䗠お愱案㥴᳼ᨱ̪㗤⊡〥⸵玁౼Ĺ㗱嚻ҡᆡያヹസ䀡▥撲じ㸸䍀⡴ⴡ䊂惊✣⠂Ҿᬠ֐Ң揋䕁掄籢䑮⥩乚䯤劤憰  "
   },
   "outputs": [
    {
     "data": {
      "application/vnd.jupyter.widget-view+json": {
       "model_id": "da74d36b55ed4be59042774e6dabba8a",
       "version_major": 2,
       "version_minor": 0
      },
      "text/plain": [
       "PersistWidget(data_values=[{'__id_column': '1', 'Name': 'chevrolet chevelle malibu', 'Miles_per_Gallon': 18.0,…"
      ]
     },
     "execution_count": 8,
     "metadata": {},
     "output_type": "execute_result"
    }
   ],
   "source": [
    "PR.PersistChart(chart, data=df)"
   ]
  },
  {
   "cell_type": "markdown",
   "id": "a6284113-65cf-408e-927f-d302988c2a9d",
   "metadata": {},
   "source": [
    "#### Filtering Data"
   ]
  },
  {
   "cell_type": "code",
   "execution_count": 9,
   "id": "74072acb-ff02-4b57-9737-8834d8e18bbb",
   "metadata": {
    "__GENERATED_DATAFRAMES__": "ᯡࠣ䅬Ԁ朤壠ᜣ琢〹大゠⹰〮⁁䁻қ䚾ኊ㇠നСࠩ瀮晼Ƭ穅5愠៤⠠ ",
    "__has_persist_output": true,
    "trrack_graph": "ᯡ࠽䈌ʀ匦㢠⹰ૠᆺ〻æᵠ⴪ĸ⠡恀ବ戢〶䨡ᲈ઒䄌ᣲ恓ᢠنภ晩•ⳁႧ⓫侨咥㕚ۭⷹ㤗爺ሠڤ-䁁卑䲠┨ࠠ⺦₀ǘ憠㱢Ξ燮+ӑ䨠Ԇ牠Έ䅬Წ㑳ᐥᚼ挥′憀ᣩ㱬ɺ਺┣䔣䅥ᩲ硠Ú⎃஬ዱD㇥ڹ沀倠祐ቑΠ⁋Ⓟ傐㦨擣⌠ⶬ໴湅ତ䇭汄ၝ䒐畨ശ怭㊽ᬥ癃ᔠ彃ሊ摴控つ澍恶〫㬠➠ǵ稏熡戍Ἠɮ牙乳ǉ፩Ḯᚬ⪴墂¡挐撚ᢋ您汻䔠Ⅱ䑞Գ䎹祷䣡箜㈶䘦櫜枚㌃ॠ焤坌䫅楬孋䰄塢帶⡵䠰੣፥㆘兎晰椬䴥䤄礢䣂⨫๓ˣအ䬕㿽加$L偏!竿ぬ栣䑁捚悈Hᰣ⻡;㑾)⁐ഠ㪬ŀǬ繛ೲֻ䙔ฤ眐⢔嗾環楏㇧⪣Ṙ᝷㬘ŀ呁妌䙯䤆炙㈬ᬧ䈰⒒ણ⏱శඩ掐籡ᡦፕ⶝㯋氕΁咉ↀᱪ᪋ᯭ䋳এ㇔止箋塠݃䔈硼冀嬋㯽❃ลრqࢤ⏴Ềᐢ߼䀠⮸ඝᵗ柍ᜒ粞ဩ㞇磡ࡤ⨠⁯䍂䉯䚀灒☙婟̀Չϡㆧ㵟ᚋ⢓רΠ枪Ϡ搽粀枫ͥᆤ䉰䲫悐ጨ⣰┣䣐㿡䥈ยᄨᨧ౲ఫ懘夬↸匬Ⅼ㳩䉠ံᓀ㒬ⷀ尶⌰䑎⎥ো⤀׃Íⷌ㈍ↅ䀠ᴳͨ礡䔔㩬勠祖怭䇈㜬恄㚬ᄼ㐄㩪ļ搸犀ẇ䥠ْㅡ事䤀⡙愲抇䞩ቴ௑Ѩ֢恉䆸習ൣ妻嘨 ⻢儤䲐Ѽຘ၈⑪ઘ┠ྤ䝍ศ䂱甴╨ˊ㕬䉳曅凔盚旬㎸߈㈠Ĕ㠨㫧┦ᐤ㕡٤奁䱐䙱䄦㒞ᯍ疾Ḅി墋᳻ᙫ嘁ᝯ榆㯮ᧆ㳨ᤁ៯祸෮禮⿩㦷㷬社⡏ᴇᒍহ㱉旲⢫⃡༓䂞ೲහ㹬繀巆Ѩ㵎沟2̀櫡䂂Ꮳ䡵入噊Ǘ⣭䭣㛚Ꮡെເ㓤Ʊáᛧᛈ慡囪ồ⡭卥㙚ϗ棭༖Х峗૬剳㊸γ䨪䞶⨢峇╠  "
   },
   "outputs": [
    {
     "data": {
      "application/vnd.jupyter.widget-view+json": {
       "model_id": "9175bb3f9a2140b3b58a6ba3bd5732d6",
       "version_major": 2,
       "version_minor": 0
      },
      "text/plain": [
       "PersistWidget(data_values=[{'__id_column': '1', 'Name': 'chevrolet chevelle malibu', 'Miles_per_Gallon': 18.0,…"
      ]
     },
     "execution_count": 9,
     "metadata": {},
     "output_type": "execute_result"
    }
   ],
   "source": [
    "PR.PersistChart(chart, data=df)"
   ]
  },
  {
   "cell_type": "markdown",
   "id": "3066d9d3-6688-4bf1-ad00-39ad1b5df821",
   "metadata": {},
   "source": [
    "### **Table**\n",
    "\n",
    "To create an interactive data table run,\n",
    "\n",
    "```python\n",
    "\n",
    "PR.PersistTable(data)\n",
    "\n",
    "```\n",
    "\n",
    "PersistTable is a powerful tool to manipulate data"
   ]
  },
  {
   "cell_type": "markdown",
   "id": "fffd1b0d-d9a7-4c7d-8dcc-62ebd81352a1",
   "metadata": {},
   "source": [
    "#### Selections & Filters Operations"
   ]
  },
  {
   "cell_type": "code",
   "execution_count": 10,
   "id": "e39c69cb-9e88-4bec-9360-4c9e9093fbb9",
   "metadata": {
    "__GENERATED_DATAFRAMES__": "ᯡࠣ䅬Ԁ朤壠ᜣ琢〹夠炠⹰〮⁁䁻қ䚾ኊ㇠നСࠩ瀮晼Ƭ穅5愠៤⠠ ",
    "__has_persist_output": true,
    "trrack_graph": "ᯡ࠽䈌ʀ匦㢠⹰೥¸ހƠ䘡డ〫‵俉ř䘽䪊Ⱥ燸䀼ø㆜瓬ద㑄䨠ዪनᩌ㱤摋⫷噄拣䮬ཞ䅀†氻烧械ӁĠ׷␬W౐ᮨ⁏⻸ِÑ࿵$犒‣㐡㪚紧লᬯ⨄ࢂ壡‡犀⒆㙖ᴰ亪擄ጂ焂†嬸ᖣᡤæҢ啸䑀ᦨ烝㹅䀺晰怪皥䈡㺚㻆缣Ꮺ悦梩Ǣ᪀㕶o#䦕搃Ԓ痌⁥他符⧒Ьⅉ䝢䊚䠹泘扬ੋᴦ亢䠆ቲ❩䑰⸽䅠庾ᆴ䛡ᚚ⫣グቐቩ㈻ᅃࠠᓐ岲ا@䤄ᔦ䏂᡹ᬳ䜂ボ¨➨Î°⒕㣄᲌侨⢩攩ᛇፉ洰搠 "
   },
   "outputs": [
    {
     "data": {
      "application/vnd.jupyter.widget-view+json": {
       "model_id": "dbecc6e5d72f4fd68e7c8d0161a76bb7",
       "version_major": 2,
       "version_minor": 0
      },
      "text/plain": [
       "PersistWidget(data_values=[{'__id_column': '1', 'Name': 'chevrolet chevelle malibu', 'Miles_per_Gallon': 18.0,…"
      ]
     },
     "execution_count": 10,
     "metadata": {},
     "output_type": "execute_result"
    }
   ],
   "source": [
    "PR.PersistTable(df)"
   ]
  },
  {
   "cell_type": "markdown",
   "id": "355531cb-60ec-4c78-b781-eed49c233f74",
   "metadata": {},
   "source": [
    "#### Search"
   ]
  },
  {
   "cell_type": "code",
   "execution_count": null,
   "id": "245bf8b1-a245-4ce8-a59e-c3f7d33fa44f",
   "metadata": {},
   "outputs": [
    {
     "data": {
      "application/vnd.jupyter.widget-view+json": {
       "model_id": "84103fcf8fc14cbd9f2bd496c66daca3",
       "version_major": 2,
       "version_minor": 0
      },
      "text/plain": [
       "PersistWidget(data_values=[{'__id_column': '1', 'Name': 'chevrolet chevelle malibu', 'Miles_per_Gallon': 18.0,…"
      ]
     },
     "execution_count": 14,
     "metadata": {},
     "output_type": "execute_result"
    }
   ],
   "source": [
    "PR.PersistTable(df)"
   ]
  },
  {
   "cell_type": "markdown",
   "id": "2c7f5eff-050e-48de-8aad-21dde7aa1821",
   "metadata": {},
   "source": [
    "#### Edit Cell"
   ]
  },
  {
   "cell_type": "code",
   "execution_count": 11,
   "id": "a970629e-eeae-4173-9729-d47803f18ad1",
   "metadata": {
    "__GENERATED_DATAFRAMES__": "ᯡࠣ䅬Ԁ朤壠ᜣ琢〹夤炠⹰〮⁁䁻қ䚾ኊ㇠നСࠩ瀮晼Ƭ穅5愠៤⠠ ",
    "__has_persist_output": true,
    "trrack_graph": "ᯡ࠽䈌ʀ匦㢠⹰̡࣠䘤ᥫÐʀୠᎫf挓攩剐挱ᓀ۠ᶪìኅ㋅ተ¶⡨⇳㌄ᕁ╦亩͆ᘽ嶛稨ǁ#ッ௜′䈤7࠽ᠠ湐慎Ⴅᣕ㈣%墎吠➛␠㚠ᝧ⯋㑒⇀瑑繸猸ᐠṬҢ䞃⇀न┌Ȳ⭔␠ஃݒ愨䃐悰猓イᕑȳ坃ᠣⶪ壞盀灠៧ⷿ⠣ᦀ㇬࣭傰᰽☲庀ԐXᚽṐಖ䫤ᡡ會㋢ᭀ䅥抙⠬Kି䑮挀⠨屃夻儴Ե䗨绣䣷ᨡㇳᚋ㢶ᆣ戫㽮స䃞ᦱ悲じ㸸䍂⡤㔶䟂ᣬᬳ䈁砢ĭ惠Î彟䂒㥄瑬䖯䤑┡᫆ቔ㉨࿲  "
   },
   "outputs": [
    {
     "data": {
      "application/vnd.jupyter.widget-view+json": {
       "model_id": "7f08420ec7024cd4837168e81ecd5aed",
       "version_major": 2,
       "version_minor": 0
      },
      "text/plain": [
       "PersistWidget(data_values=[{'__id_column': '1', 'Name': 'chevrolet chevelle malibu', 'Miles_per_Gallon': 18.0,…"
      ]
     },
     "execution_count": 11,
     "metadata": {},
     "output_type": "execute_result"
    }
   ],
   "source": [
    "PR.PersistTable(df)"
   ]
  },
  {
   "cell_type": "markdown",
   "id": "f1fb630b-fa93-441f-98e6-33eae803407c",
   "metadata": {},
   "source": [
    "#### Column Operations\n",
    "- Rename\n",
    "- Delete\n",
    "- Change Data type"
   ]
  },
  {
   "cell_type": "markdown",
   "id": "15e3c565-6568-4e69-b3b6-34de7814f231",
   "metadata": {},
   "source": [
    "#### Assign Categories"
   ]
  },
  {
   "cell_type": "code",
   "execution_count": 13,
   "id": "483f8adf-a44a-4f3d-bd15-d2ac32b5d0fc",
   "metadata": {
    "__GENERATED_DATAFRAMES__": "ᯡࠣ䅬Ԁ朤壠ᜣ琢〹夤ㆄƒ䃠Რ䌡㘳眺㱩哧ࠠ桠 䁯猀ಏ䢪K䈠⾸倠 ",
    "__has_persist_output": true,
    "trrack_graph": "ᯡ࠽䈌ʀ匦㢠⹰ࣥ8ƀᶪƺ〶䀧ء᱊೸夡౮柑䈣〨ㅠ⬹Ƭ⣮侻ैkᑄႈ妐ࢷᓍ❡䧋ގ㸢䉠ð䀡姕冯奀ॢȠ௎䠸ᢀ㜰䁾巓怢機⨠Ꮃ䤠ව׳氈ᱬ䤈㴾⁻૦Ԡ޳ŀ凑椈F☠ᦷፆ⏰˸惌求ၖᡄዊ橁ݬ↥疉ᘠ歲孟叄ᨰؓ欖ᬐ汜⬤⮘␮óۊ堢㰠ຫ垏యᏕㄪᚕ对奭䡀煩㘮⨧䧦憄厃玨㥴ᴜ幁ಢ㧨⊡⃑祇䞤㊑桥佢寍ኘ䘨䩍ͤ㢂Йᘷ੡䄁硂ᒡⅰ㒚ᢨ捑汎ឯ戨碁เ˛粡⇵暱㆒⹑⁄呄窼䫱⥀⃨  "
   },
   "outputs": [
    {
     "data": {
      "application/vnd.jupyter.widget-view+json": {
       "model_id": "b76bebde1f9d468991bb91020936e89e",
       "version_major": 2,
       "version_minor": 0
      },
      "text/plain": [
       "PersistWidget(data_values=[{'__id_column': '1', 'Name': 'chevrolet chevelle malibu', 'Miles_per_Gallon': 18.0,…"
      ]
     },
     "execution_count": 13,
     "metadata": {},
     "output_type": "execute_result"
    }
   ],
   "source": [
    "PR.PersistTable(df)"
   ]
  },
  {
   "cell_type": "markdown",
   "id": "94a72763-7cba-4fec-91f8-8f673585a7e2",
   "metadata": {},
   "source": [
    "#### Using output dataframes"
   ]
  },
  {
   "cell_type": "code",
   "execution_count": 12,
   "id": "97add61b-8b77-40e1-8a99-80da51e1ca12",
   "metadata": {
    "__GENERATED_DATAFRAMES__": "ᯡࠣ䅬Ԁ朤壠ᜣ琢〹夤〡䈡㥠怼䁣Ö࠯൜⓴殨⁀Ѡ➠㬪瀬え䔠ᗢO屰  ",
    "__has_persist_output": true,
    "trrack_graph": "ᯡ࠽䈌ʀ匦㢠⹰ˠ㬡దᥠ♉‶䖠ภ氢㤩⮠㌵Ф〰椃䈥〠憠㌧૜僙ↆ㉪2攩њ㙜˥擈毲㖎淯䁰䣑ဠ㑀Ⲁ仨ɰ䂠̄㈦;䘸Ϥၗ眽〠婨䳀n㝄V䀷Ⲃ㆐奁㦬壁晛ఴ>☤䃣↑㦐⣜⸬ᤩ⊸怫ㆣ宫ၡ䲀䡺巄䈻ᢥ๔㋸Ǎᗬ惾䒄‷沈ᶍ卑ㄌࢽ械ᰫ☢∧〤砠ᵷ἞ᡌ⽶戲⼈皖㉻毅㊈籌ݓಣࡦ䘁ጃ⦑㳔䈪೧ࡢ䅪帻晄㇔䝆揕䦲ᡊ⫕ಱ熨వ塜㥆Χ您剅ؗ⡸㙇ϧ焤慈乂␠垀呆㪙犌⥧䛈琦ࢵ劳㨪⃪ᤠ "
   },
   "outputs": [
    {
     "data": {
      "application/vnd.jupyter.widget-view+json": {
       "model_id": "715780fb3a85450a9317c7a07775d30c",
       "version_major": 2,
       "version_minor": 0
      },
      "text/plain": [
       "PersistWidget(data_values=[{'__id_column': '1', 'Name': 'chevrolet chevelle malibu', 'Miles_per_Gallon': 18.0,…"
      ]
     },
     "execution_count": 12,
     "metadata": {},
     "output_type": "execute_result"
    }
   ],
   "source": [
    "PR.PersistTable(df)"
   ]
  }
 ],
 "metadata": {
  "NB_UUID": "9b2f5bec-a755-4a5b-a877-fe1a880b9f38",
  "__persist_keys_record": [
   "__GENERATED_DATAFRAMES__",
   "__persist_nb_uuid__",
   "trrack_graph"
  ],
  "__persist_nb_uuid__": "be067817-dfa3-42d6-948a-39c4b95d3382",
  "kernelspec": {
   "display_name": "Python 3 (ipykernel)",
   "language": "python",
   "name": "python3"
  },
  "language_info": {
   "codemirror_mode": {
    "name": "ipython",
    "version": 3
   },
   "file_extension": ".py",
   "mimetype": "text/x-python",
   "name": "python",
   "nbconvert_exporter": "python",
   "pygments_lexer": "ipython3",
   "version": "3.9.17"
  }
 },
 "nbformat": 4,
 "nbformat_minor": 5
}
