{
 "cells": [
  {
   "cell_type": "markdown",
   "id": "721323cd-bb01-435f-a189-52f86ac438be",
   "metadata": {
    "trrack_graph": {
     "current": "5a5a00cc-06cd-4338-a90a-1365ce04ac27",
     "nodes": {
      "5a5a00cc-06cd-4338-a90a-1365ce04ac27": {
       "artifacts": [],
       "children": [],
       "createdOn": 1699995232057,
       "event": "Root",
       "id": "5a5a00cc-06cd-4338-a90a-1365ce04ac27",
       "label": "Root",
       "level": 0,
       "meta": {
        "annotation": [],
        "bookmark": []
       },
       "state": {
        "type": "checkpoint",
        "val": {
         "id": "0ed02552-2223-4b2b-8843-223fb8396132",
         "type": "create"
        }
       }
      }
     },
     "root": "5a5a00cc-06cd-4338-a90a-1365ce04ac27"
    }
   },
   "source": [
    "# PersIst Extension Tutorial"
   ]
  },
  {
   "cell_type": "markdown",
   "id": "0892e834-de92-4f36-85d7-deee12490be5",
   "metadata": {
    "trrack_graph": {
     "current": "5719397c-958a-4994-91f0-d7a66aa497ed",
     "nodes": {
      "5719397c-958a-4994-91f0-d7a66aa497ed": {
       "artifacts": [],
       "children": [],
       "createdOn": 1699995265084,
       "event": "Root",
       "id": "5719397c-958a-4994-91f0-d7a66aa497ed",
       "label": "Root",
       "level": 0,
       "meta": {
        "annotation": [],
        "bookmark": []
       },
       "state": {
        "type": "checkpoint",
        "val": {
         "id": "52dfacb4-8b03-4e0d-a810-0a3f919ebb61",
         "type": "create"
        }
       }
      }
     },
     "root": "5719397c-958a-4994-91f0-d7a66aa497ed"
    }
   },
   "source": [
    "PersIst is a JupyterLab extension to make interactions in cell output persistent. Persist tracks interactions for compatible outputs in a provenance graph.\n",
    "\n",
    "Capturing the interaction provenance allows us to save our interactions with the notebook, and replay them at point later. You can even rerun the interactions if the value of the variable in the persisted cell has changed. Persist will try it's best to apply the interactions to the new variable value.\n",
    "\n",
    "You can import and enable the PersIst extension as follows:\n",
    "\n",
    "```python\n",
    "import persist_ext as PR\n",
    "```"
   ]
  },
  {
   "cell_type": "code",
   "execution_count": 2,
   "id": "dbc49dae-f456-4ebd-9146-4ae6ba83838c",
   "metadata": {},
   "outputs": [],
   "source": [
    "import persist_ext as PR\n",
    "\n",
    "from vega_datasets import data\n",
    "import altair as alt\n",
    "import pandas as pd"
   ]
  },
  {
   "cell_type": "markdown",
   "id": "2dc9acb1-d4fd-4949-843b-fa0afa32387d",
   "metadata": {
    "trrack_graph": {
     "current": "5719397c-958a-4994-91f0-d7a66aa497ed",
     "nodes": {
      "5719397c-958a-4994-91f0-d7a66aa497ed": {
       "artifacts": [],
       "children": [],
       "createdOn": 1699995265084,
       "event": "Root",
       "id": "5719397c-958a-4994-91f0-d7a66aa497ed",
       "label": "Root",
       "level": 0,
       "meta": {
        "annotation": [],
        "bookmark": []
       },
       "state": {
        "type": "checkpoint",
        "val": {
         "id": "52dfacb4-8b03-4e0d-a810-0a3f919ebb61",
         "type": "create"
        }
       }
      }
     },
     "root": "5719397c-958a-4994-91f0-d7a66aa497ed"
    }
   },
   "source": [
    "## Supported Outputs\n",
    "\n",
    "Currently, persist supports two major output types: Vega-Altair plots and interactive datatables."
   ]
  },
  {
   "cell_type": "markdown",
   "id": "0dd3f9db-f762-4cb9-ae32-e66f177df309",
   "metadata": {
    "trrack_graph": {
     "current": "532e7b35-40eb-49bc-bcf5-4ac20f338809",
     "nodes": {
      "532e7b35-40eb-49bc-bcf5-4ac20f338809": {
       "artifacts": [],
       "children": [],
       "createdOn": 1699995589077,
       "event": "Root",
       "id": "532e7b35-40eb-49bc-bcf5-4ac20f338809",
       "label": "Root",
       "level": 0,
       "meta": {
        "annotation": [],
        "bookmark": []
       },
       "state": {
        "type": "checkpoint",
        "val": {
         "id": "6680bfac-15fc-4ff4-b8c1-1921d906a0ec",
         "type": "create"
        }
       }
      }
     },
     "root": "532e7b35-40eb-49bc-bcf5-4ac20f338809"
    }
   },
   "source": [
    "### **Vega-Altair**\n",
    "\n",
    "You can create any interactive Vega-Altair plot and pass it to create `PR.PersistChart` to create a persistent chart.\n",
    "\n",
    "E.g.\n",
    "```python\n",
    "\n",
    "selector = alt.selection_interval(name=\"selector\")\n",
    "\n",
    "chart = alt.Chart(df).mark_point().encode(\n",
    "    x=\"X:Q\",\n",
    "    y=\"Y:Q\",\n",
    "    color=alt.condition(selector, alt.value(\"steelblue\"), alt.value(\"gray\"))\n",
    ").add_params(selector)\n",
    "\n",
    "PR.PersistChart(chart)\n",
    "\n",
    "```\n",
    "\n",
    "The above snippet of code will create an interactive persist scatterplot with brush interactions.\n",
    "\n",
    "Alternatively, persist comes with `plot` module which provides helper functions to create simple plots like scatterplot and barchart."
   ]
  },
  {
   "cell_type": "code",
   "execution_count": 11,
   "id": "0dedd82d-40ae-48b4-9637-f29354af9923",
   "metadata": {},
   "outputs": [
    {
     "data": {
      "text/html": [
       "<div>\n",
       "<style scoped>\n",
       "    .dataframe tbody tr th:only-of-type {\n",
       "        vertical-align: middle;\n",
       "    }\n",
       "\n",
       "    .dataframe tbody tr th {\n",
       "        vertical-align: top;\n",
       "    }\n",
       "\n",
       "    .dataframe thead th {\n",
       "        text-align: right;\n",
       "    }\n",
       "</style>\n",
       "<table border=\"1\" class=\"dataframe\">\n",
       "  <thead>\n",
       "    <tr style=\"text-align: right;\">\n",
       "      <th></th>\n",
       "      <th>Name</th>\n",
       "      <th>Miles_per_Gallon</th>\n",
       "      <th>Cylinders</th>\n",
       "      <th>Displacement</th>\n",
       "      <th>Horsepower</th>\n",
       "      <th>Weight_in_lbs</th>\n",
       "      <th>Acceleration</th>\n",
       "      <th>Year</th>\n",
       "      <th>Origin</th>\n",
       "    </tr>\n",
       "  </thead>\n",
       "  <tbody>\n",
       "    <tr>\n",
       "      <th>0</th>\n",
       "      <td>chevrolet chevelle malibu</td>\n",
       "      <td>18.0</td>\n",
       "      <td>8</td>\n",
       "      <td>307.0</td>\n",
       "      <td>130.0</td>\n",
       "      <td>3504</td>\n",
       "      <td>12.0</td>\n",
       "      <td>1970-01-01</td>\n",
       "      <td>USA</td>\n",
       "    </tr>\n",
       "    <tr>\n",
       "      <th>1</th>\n",
       "      <td>buick skylark 320</td>\n",
       "      <td>15.0</td>\n",
       "      <td>8</td>\n",
       "      <td>350.0</td>\n",
       "      <td>165.0</td>\n",
       "      <td>3693</td>\n",
       "      <td>11.5</td>\n",
       "      <td>1970-01-01</td>\n",
       "      <td>USA</td>\n",
       "    </tr>\n",
       "    <tr>\n",
       "      <th>2</th>\n",
       "      <td>plymouth satellite</td>\n",
       "      <td>18.0</td>\n",
       "      <td>8</td>\n",
       "      <td>318.0</td>\n",
       "      <td>150.0</td>\n",
       "      <td>3436</td>\n",
       "      <td>11.0</td>\n",
       "      <td>1970-01-01</td>\n",
       "      <td>USA</td>\n",
       "    </tr>\n",
       "    <tr>\n",
       "      <th>3</th>\n",
       "      <td>amc rebel sst</td>\n",
       "      <td>16.0</td>\n",
       "      <td>8</td>\n",
       "      <td>304.0</td>\n",
       "      <td>150.0</td>\n",
       "      <td>3433</td>\n",
       "      <td>12.0</td>\n",
       "      <td>1970-01-01</td>\n",
       "      <td>USA</td>\n",
       "    </tr>\n",
       "    <tr>\n",
       "      <th>4</th>\n",
       "      <td>ford torino</td>\n",
       "      <td>17.0</td>\n",
       "      <td>8</td>\n",
       "      <td>302.0</td>\n",
       "      <td>140.0</td>\n",
       "      <td>3449</td>\n",
       "      <td>10.5</td>\n",
       "      <td>1970-01-01</td>\n",
       "      <td>USA</td>\n",
       "    </tr>\n",
       "  </tbody>\n",
       "</table>\n",
       "</div>"
      ],
      "text/plain": [
       "                        Name  Miles_per_Gallon  Cylinders  Displacement  \\\n",
       "0  chevrolet chevelle malibu              18.0          8         307.0   \n",
       "1          buick skylark 320              15.0          8         350.0   \n",
       "2         plymouth satellite              18.0          8         318.0   \n",
       "3              amc rebel sst              16.0          8         304.0   \n",
       "4                ford torino              17.0          8         302.0   \n",
       "\n",
       "   Horsepower  Weight_in_lbs  Acceleration       Year Origin  \n",
       "0       130.0           3504          12.0 1970-01-01    USA  \n",
       "1       165.0           3693          11.5 1970-01-01    USA  \n",
       "2       150.0           3436          11.0 1970-01-01    USA  \n",
       "3       150.0           3433          12.0 1970-01-01    USA  \n",
       "4       140.0           3449          10.5 1970-01-01    USA  "
      ]
     },
     "execution_count": 11,
     "metadata": {},
     "output_type": "execute_result"
    }
   ],
   "source": [
    "df = data.cars()\n",
    "df.head()"
   ]
  },
  {
   "cell_type": "code",
   "execution_count": 7,
   "id": "b58f8f0f-8f4b-4346-8c48-3b0b22d758af",
   "metadata": {
    "__GENERATED_DATAFRAMES__": "ᯡࠣ䅬Ԁ朤壠ᜣ琢〹夢゠⹰〮⁁䁻қ䚾ኊ㇠നСࠩ瀮晼Ƭ穅5愠៤⠠ ",
    "__has_persist_output": true,
    "trrack_graph": "ᯡ࠽䈌ʀ匦㢠⹱⁶Ƹʅ⃦⠨恍ጡܙࠥ䍖䉨ৢ㵢Ƹ抮䀼ĸ⛇㼠瘮ⓀŌ傰䇂无ⱬ動⩺٭ⷻ㬗爲&䈠۬䘡撠┨ࠠ⺚₀ǘ憡屢ƚ目+⢣⠠乮␠㚨jנ䊊ਐ␼ŢՃ᥿&怲▐慱䱰Ś⨩޵Ƞ׷核ᱬ䢱紼⁩૭䀯ጢ←Ճᇈ䤔嵄⁳ष⟰˸惌⑂ဲᡄ᪊橁Č⌦⩡碶㣩ῧ㈾⠥簈ྷ䱄᱋ɚ玎ӓֺ堢㰠໯垏మޝ焥়孝䉥ᦰၘ䥂䂐ਾנ傸ๆ໦╰œܷ◎䈶೤ᘐ⇚ઠ偈嬻樔䤺ᡓⴑḉ絘┱䒘㢢⒱▩ⱶ⡡攒ʱ≵熆⢋䓮䖂磂ⲵ◙泎⾴ᖪ勍䒇憊圠ೂ㌜ⵈ •斜砠࿉簙⚠ᱬࡒ圚䀢䦧櫌࡞喠ŉ㪝‮冢䐠㦷䖅᪡卡侣䄽䱆⺡㫽呆Ҹ箌᫐ᬃ䂕ᯇ䐃礢㗈⺰烀劚ັ愨ኞೀ儈⌁ѱ䄴ٚ⍩ᘱ琥⿇㰮✫䕀懐㰱੧ᆲ┪䣡ヸ义ⷆ࠺⚾廴痚廟❧₦溤救䱁秂泱Ⱛ䷖愣氮⏝暓东䯕殖Ḕ㡘䌠ť䱶܇㣀ႇ搠Î〪Оᯥ祜ឣ熜ဧ奸漤ঢႴ`瞲∤瞨愀枻孔⼲†稪⎤䁰₂¸ᦻ⪌暐僔ᬀヌብ愜ᬀࣈ⿁䢪᥂倮ţ劜䤰㢂ţ瀪梫䉺ऱ⡢ൄ䡬ݣᠼ䄳グ୤䁴᥀䡈ł烋૤䀢ᗤ䤃᭓ඊ䜣䴸ঈ洣ވ୬!梦î䣼摬┈ᬂ▔㨥愼穊珼架屘⛧産りೠ㢉ౢಀᇰ⎾䁘ᴥ恘㬅惗☫儳☯玦㘥䩘㨯拫⧮協殭厔氷䌨堢ⅆ∾⍈嚊瘜᪻儈嚳厌ସ⌾Шࡺ眾奠〺ማⶬ慤থĎなƆ糹ᇬ姁㗍ⷊ墓∁呠!睅備䌋䭼民ሤ⨬↸ガࠣ⌐箘ᄡ⽑泅⸹䍳᭑䱻䄳䦒痐Ⰱ幥ؓ纀⨧椧䤦㴸ⷱ䄾⡊䧊ً▚⍍㨢⩪⥺⣪紶ⲩᡙ╙❗⣳瑼搊穡䡃硟䐢瀷䕕䒈榢䂫⠐撗沛㽟搥丹䆡䱔ᐽ㈨灱掭߀叚䖼婀䘱㟕⒑悷ל䖩㑥旅㔲㖽㘳ීㅁⷖ䣀ᶨ傱⹆嵌㫵㟷疱弼ⶻ㝗࣊噐⾖囂窱兕ᚆ淓皃叁燛叀廏堔㞔ⶪ冣匁⠲㬯曧䥭稺㠌咎凭㸠∩睎࿭緘冄␻ᚵᲺⓩ狟ቴ䊹⑼㓒獸崯␈̹㑥桎皹㍁监䞮汎孎柹ݑ旜ᝈ䋘㾠ඝぇ眜侤ᔢ୿恨ҙ㒴च疜࿣ᱲ༺ᔚডᢕ暃畻਻ġನ䙸Ⴢ瀡଀濻ᴈ䨊ڒ䧿࠰尳ᄋຢ⫅ᩑᘗ画瑒㰃/攝⵵緿剂㿂ˇ๕▔哪泊ȇ榝⩦䴦䏊悃笝ᰪ瀴४Àၡ⴬ⅲᇵ岹⪨Π縨ὺㆡ㠺↯沣䟵咰ຣ᳕գ౒社䃀ᰰ户擥ၟ┨壨ࣕ楥ᷴ䘯瘁㇆䇩↣磾䏐ㆥ䁴䑠䄫㆙౱寃ଗℜ⡑Ჳ堚碥 倨఩ກ̺愣ⲃ俶϶䁛Ⲷ槹⫥⣲ᔑ␩↰朅㑖స⟊⑾ݿⲨ磶偂漵㉖ⷔ怲拴ⰀҀᮤ䢫⺑௱尽ᅦᢄᱨጘ㫸灕ڀ 傅ܨ徬䤙๽搣䂀ա㠽P⌣ၠਆဣ碟(᳨ⱥ嗣␰燨⤄⢉㕰槡傓䣌嵰悊ᰲ〣ፐ斧瘩伶礦ᱴ୓㋦㥔ྡᙣ∡㾦ᝩǖ涁ⴖ沰ۡ奰৓ᶩ嫛ב᱀  "
   },
   "outputs": [
    {
     "data": {
      "application/vnd.jupyter.widget-view+json": {
       "model_id": "79e67ca3fede4b41b7ae06ad796b5f4c",
       "version_major": 2,
       "version_minor": 0
      },
      "text/plain": [
       "PersistWidget(data_values=[{'__id_column': '1', 'Name': 'chevrolet chevelle malibu', 'Miles_per_Gallon': 18.0,…"
      ]
     },
     "execution_count": 7,
     "metadata": {},
     "output_type": "execute_result"
    }
   ],
   "source": [
    "df = data.cars()\n",
    "\n",
    "selector = alt.selection_interval(name=\"selector\")\n",
    "\n",
    "chart = alt.Chart(df).mark_point().encode(\n",
    "    x=\"Miles_per_Gallon:Q\",\n",
    "    y=\"Weight_in_lbs:Q\",\n",
    "    color=alt.condition(selector, \"Origin:N\", alt.value(\"gray\"))\n",
    ").add_params(selector)\n",
    "\n",
    "PR.PersistChart(chart, data=df)"
   ]
  },
  {
   "cell_type": "markdown",
   "id": "33d88224-c199-41e3-9c83-05f75d9a013a",
   "metadata": {},
   "source": [
    "\n",
    "You can see that the output area looks different from the usual output for Vega-Altair. We have a toolbar on the top and a sidebar on the right. The toolbar gives us host of interactions we can perform to manipulate our plots.\n",
    "\n",
    "Persist keeps a track of your interactions and stores them in graph called provenance graph. The first tab in the sidebar titled `Trrack` visualizes the provenance for all your interactions in the cell output.\n",
    "\n",
    "In the second tab you can see the text summary of everything you have done to reach the current output state.\n"
   ]
  },
  {
   "cell_type": "markdown",
   "id": "b74296c9-2e95-4cc9-a343-5b714c28e39d",
   "metadata": {},
   "source": [
    "#### Interactions & Persistence\n",
    "In the next cell we have the same scatterplot, try interactively selecting points. You can repeat the selections as many times as possible. Try clicking on different nodes in the provenance visualization."
   ]
  },
  {
   "cell_type": "code",
   "execution_count": 8,
   "id": "395506b7-7f57-4c0f-a7a8-8b49de034d5d",
   "metadata": {
    "__GENERATED_DATAFRAMES__": "ᯡࠣ䅬Ԁ朤壠ᜣ琢〹夢゠⹰〮⁁䁻қ䚾ኊ㇠നСࠩ瀮晼Ƭ穅5愠៤⠠ ",
    "__has_persist_output": true,
    "trrack_graph": "ᯡ࠽䈌ʀ匦㢠⹰໠ㆡءゆᧀⴠ䘡ⱐʀᖠ暒ʐ௜禤ɐ湬ᑐۧ⁓㥌≩•ⳁႧ⛫侸䳅ක䛬汙㬐ਲဦ䈠ۣᖬǉj࠰|∔怣㣣ט䈲曽䡔6ㄦ倠➇ሠ᭤๢䀠㋓楸儤ᐠܲ⒪乡恅┰砨偬Ṉ娦⨭Ա䄠̋琭ໆ⑈纺ᡃඃʠϩ䂰䓱⣁⑱଩ᔳ柰˸懌ᗨာᡄ᪚晁܌⊧⩡ⱶ㣦၇㘹⠥簈ྷ簸㒋ɚ玎ӓԱ͸Ŝ.柗⿞ރ焣ࡼ⼣䆣ᦆऴ䊧ᅪ቏Ѥ◈⒲书刘䙕暲䂒横൤慸ሴⴗ槾⾴䳱䅺枩歯楂ᢼ₶╲瓆ⶵ昒牁Ɒ慪犫椫㠹墽༴⑲㒶ƴ偙㲡⑱ᓪભⲇ哼R哯䇔倠 ַ稀^䰈ࢺᡀ敹甠԰柎塀㶍$匈窠ᵦ̰Ćὕ䊊ɭ͋ܠ㪨泓嬎࢘≛嘃喡㜼෉峜彟䐱׶ဴ≦偨≌↠ᆐ樢▢悘㓒ᚢ䄒⠩ڣ傘䅐攢Ⓤ紧悖㥼楆Σ愨別ե倸☫gㅘ渿৻槜ᛎ嗱甚≿ݦॲ঴捕Ȇ䗋⋓ⱖ絖愣氮⏝暓䴢䯕殖Ḕ㠤䌠ť粞ݳ峀ਠ䀿䐠Î〤ܼ⟱獲ឬ䮜ဿ學弤ঢゴ`ྪ⌤ྨ懀ቹ۔Ἢ†穤Ấಐᒧ卺䦹乌Ꭵ屜ၥࢴᩥ屒ᤫ瑰ⵥᄞԱ࢜ཡᬸɡ硊ૠ刪憠倸cᡈ֡倴ૡ⁋䏡〰ࣤ䂌ᕁ祩߸䤒៤棊Ẇ晃⭱恓⌠ⶋ₂浫摣⠠ݧ₨㽧ₜ甧惋㔥䆔⴦犤᾽ↈ㑭攜䨩妝ౣᠦృᡭ಩޵ফ⩂䂘ᖎ₨⺯ೂ♽䮑ṿ椫⧫吔宨㋜ܾ⋠ةᡌ洱䱽⁣厔ጰ㋀ᆼ⏌✲è握Ƣ᭹䉀堦Ⴇឯ惤⦥Ď⡪6勵ᇌ槎㓍්壓ྪ㷵ࠠ\\幅஑晗⭻ୠ⊱熀㘭⇘だ䵁桹䝻杛ἲ૚❆捓瀸┩⹧䬓瑏倒奰⤪慾ⲫ紾⨁ㆎ䔩䖉⥀㥥⽁׎䝪╽˫ᤙ⿪䑅╙✯⯳䱼栊൩䬃ⱀ✢瀯䅕ᒏଥᙨȤ浀␂㪆昘桟搤⹙䆡簴ᄼ牘瑰厪䖽橂狰⯗ⱐ畘ቀ俁㙍▦⃌〵㋁㗝ㆀ䷟ⶍ淇㉩巀咰湎奌旁幖㖽㋩朓㋖ᶰ䗖㷊兑您˵璎呕䛍䧻ຓ䢕䱌㏴場└㺿咚䥪ⲭ皾ᛀ৵㇀䧝䊑⦨ς㪡槭䅅瓹綵㨼⊳ႵⳔ垄◇ၵ㳟ᅴ段ჼ歏⊩׈戓ᣰ䱝匫敜㙙矻睕痹筁憣末猰圭慺བྷ琜f禙偼纺ߦ斢伢ਚ刪ୣᴘᕻ唎ড碕枂೨欻䄹ન撀ᮠ摱П፱đᲡ岩ͤᄤᎉ➌⒫䩕⍭ⱹ縉䢋䣛磠⠖罎㞠䀉纠ᾼ⁌ʤ刧栯Äᰨ㽇瑂␼᫃⧴桋粟崦址᥀ና㥈䗪監悥౸琥è▪Ά॰䨭儔ࢁ々ࢠၴ湥Ḹᥔ⭃㤧炰a䨼㋨ᗥì䐾克Ấ〠且奜ഡ瀴⇰ᒰ⩍≿卤䛖䜈叶┷凡⌽磠᪃ъჀ⒦恵᫵⪬ࣱࣤ樽养┽癷㒼喂౨͐戥ㄖఀ⸽慄௢噐Ᏼよ䊆ֱᡫ大ᏺ〢燑ᦢ䠺⎄㱈ᇂ䝢㩨傻ແṂ⨜╁Ⱘ䃀ޠ㈦ζ㤢ᙶݨ⅏ᱩģणǈਠぐ䢀थそ搶㟇砠䯬ዪ⳼٢䝜䁮ኦ乵μש僫䏁櫶傼ᰳᑳ爤ᖢ๕䶶ԩᳪ͘樾㡔ও㑐䆆㠴њ犰➏圅䥹喴浝凓㶻㌛ខ瘳䈠  "
   },
   "outputs": [
    {
     "data": {
      "application/vnd.jupyter.widget-view+json": {
       "model_id": "2d0500c2def548dd8fd425e882aaa7cb",
       "version_major": 2,
       "version_minor": 0
      },
      "text/plain": [
       "PersistWidget(data_values=[{'__id_column': '1', 'Name': 'chevrolet chevelle malibu', 'Miles_per_Gallon': 18.0,…"
      ]
     },
     "execution_count": 8,
     "metadata": {},
     "output_type": "execute_result"
    }
   ],
   "source": [
    "PR.PersistChart(chart, data=df)"
   ]
  },
  {
   "cell_type": "markdown",
   "id": "4d4aeada-9b5f-4655-8c9a-fca92ef5ccb8",
   "metadata": {},
   "source": [
    "You can run the next cell to see and see the history already populated with selections. Persist allows you to save the interactions and loads them the next time you run the cell. You can use the first two buttons in the header to `undo` or `redo` your interactions."
   ]
  },
  {
   "cell_type": "code",
   "execution_count": 9,
   "id": "af55dedf-be3b-457f-beb8-6c95e244defe",
   "metadata": {
    "__GENERATED_DATAFRAMES__": "ᯡࠣ䅬Ԁ朤壠ᜣ琢〹夢゠⹰〮⁁䁻қ䚾ኊ㇠നСࠩ瀮晼Ƭ穅5愠៤⠠ ",
    "__has_persist_output": true,
    "trrack_graph": "ᯡ࠽䈌ʀ匦㢠⹰Ӡ✡䚈ჭ㐽䁍ٔÐ㑔䃬8ɒୠ᭞匨҇⻳祭张㌠๔⡩•⳦Ⴇ⋫䁸䲥㖚䙌浛㬗瘺ሠڤ-孛ಃ⑀´၀Úಡ䀦熦आ㛣厬6ঃᐠ৽撠۱\"壁永粖ႻԽщ⊩⎂ࢤ瑔≈ʛસ匾敇゠Ɣ䛦圫ርࣣ਽䟑䅠Ȅ恨㪜ൟ⑦䊯䏃ᄸƌㄖ沑ࡖలൟグ䎖ᇣ啀癛U岛ళ墬吢粬߫ƌٝ䄽㧗ɹ䋯氡Ḡއ䳟䘣Ϟ碠␾Ꭵ曢⳨ࠪ⋐剜ᤦ䍨栢పᓀ桱̿䍂ࡈ¿ƣ塬­ʫ墩Ꭽ甙Ⳮవ嚘伔冴垪ዩ⩽ᓫ㋙㹰噉⣅㥶㊤摬䉩ᛥ姄٫ᇩ犤Ŵ万礵൬柈搠㊥䰓㓀!+ᐫ怠㻇氶ᨠ煐㣪嬊*㸷⿐⃚潠ӀᦕZ䘡အ暞㶸樧෦㬮ߕ⡬Ⴊኔ嵜಍檑櫠䲮˴滞hᔩ嚱ጽ䛠傔ἦтথ攭ށ‼Ⴆ3㉬ᨯኂ㉷ᔦ㓻帧㮳斲じḨ䅃䢴ⴡ䚂堼ᜧ䐂тᢩ冈畽཯倸專ᑪ䏀♳ೢྺᛍ૯᳻㘰Ỡ牛溇᳸ᓛ⻗㇨採⑐4⁂⊎㯈Ԡ⁷戠wᠨή㸈禉௡磞ࠣ渌㾢ӡѪ@㯥ㅢ㯪ぐ㏤㄰徥〠㴥២⁈ᙐₜ཭㕆㍙梆঱墎གྷѩત䙅ໂ嘡ƀ吰䏣бក桘獈㏖׍⑙⟠Э٤㣉Ġ౨â嘴䩼ࢋ≂㉑༃摡䶹ۍ⎡⚬ݔ囑䇔秞 瑜ڥၩᒣ偱᧗偮⃥璖⺢偃ᴷ䉈ྱㄘત汞忴ۡ䰥܁䉂䙑仩偬ᒡ㚙ຢーঠᠩ䩆◉㵉౹㒢デᕯ⥒፪㤌⽫øኁⅴ⚨曮塁⤦ᆨ楰୭啀᢬㰰ᑂ㕜㶅≧癮`䠶ਣ崁ᐡ䶓⫡᥆䳴嫶喂曧䵱 ϼ䧡⬺悕◖㔤⬲ᐦ⃤ᦦЩ刘巜ࢠ垨癲⼥⚌́㞤筑杙᥍撙岴䎙筏搥岨⌥睟ƥ檼ህˍ᠔招ᐸ䓟ᓅ咃ᒵ㋔犼仍║㦧哵ᵄ䟐悤נ㼸榱ᇞԢ㚸ቱ⿑眜羰࢘次孢䇡₮攼㧈⧳⋮ᴡ㰈篶凘灮䏾˨墶氬塶ⲭᓶ㫡奖᛿ǖ氣娾䤺₠斘媶狠≶ⶖ婄嶈ₙΝ宀仩抸猥皊㩇⠺⍬撍⭆柺ᐦ䇦嵶䂚潷棽ᣎᑦ㭸ᔐऊ䃩簩ᤸᓿ嫱浫ᨤႬᏌဪϖᨶƄ⨠₀䶛Ď䈮嵤䛣ʩ≩䆸ᐽ䃰઻嬖哺ዤ晬⣄㐭ቪ๦⮒դ勤Ź㣲嗭㌔纾ࣖ娨⃦緺㋬握抾淞焸䯺稼䡜牞प爞恝章濷磞ࡢؿ停ԡ㯭祜塃瞉⑈䖑呆ᩄ斤〧׎ඪ⦾䨭⡦ᄺ߲ね⊐౤琹ʹ䤣Ꮃǹᡶ͐冦Ქ‵⩬ⱼɉ廢瓟⭠䰥䄘ຊ␲䅔ڣ࠭ᵪ䬦眼ᠩਧ惢ड〷䋄Ṣͭ哈⸤绕װ⌯⁛ኀ罆狰欭Ⅰ䎩勈䁑ؐ䄴䂪਱樺ᆐტY咚ഡ泜䨣⮷㤶旨⢭懬⨣Ɀ䉨䃫ࣕ步᷷ٴ࿱凌憸ᶣ汏̜嫤咍䒰窫Ⴇࡡ⨼燗⬵睶Ʉⵛ㱻ࠑᾬ⣎凑帱ǁៅํ㔣䋪㛕䫌㮨冐佡⌽ᅰ搴ⅾ౲㠥剽䒤䂮撠睒䭅媀ଲṋ煦ᣥ穉䜣֫∠䵱ರᆼⱲن‪ڠ摪ʈ㥠ひϨㅏⰸա斶䄡亡䩉°ݑ?䐘b暜恀˾↧ॡ䝊䉮ڡ亍޼㴦გ東悥ȏᓙෙ㣲™场瓀㬆妭泽ⷹ䁛䯘⨤ᄪওᜪ爙欋⼕搫Х峰ෙ䆗㢛⫆筶垈羊㉍ᾲ⇩ᷣ姲⎭ͧ⑯䞛咬㹫ೄ卄優ᅓ姡屟㬇⚄㴢痬ࢢ¨䁁䶫峤咁᷅ʷ㬤りͨ⢯䁱ࡅ∧喈̡⩚䜆㾀孵㝶ᮉ囵侍疱墽彺ෑ嬘ଇ㑕摠昉峳አᤧᑠኃ㞱灌἖Ⱓ烸␋夛જῡ碿ᬘ忍禞ဆ檟慎砎痏洜ᬪӟ䈲᦬䉁㈷棔ᗉ䂾䨖ᔢ婄⏢⺥ੱ䥐浉⍂哪泄ᥡᛃ㿠⍈㭤玒Ҕ磭ദ⻦䋆䙅婴旝ᨺⱇ᪳䛧ம䓗༱亴䁭呻⷟౛㻆⮗㝱⾊䕈䡮竿䵅೻㣽෻⥥࢙㒬䜲榜涰ᠬᠸơ␫ႀঠ⾈声ഁ䁔䞦ሯҼϠ儦のᎀທᬼ网䡙ȼ䔪᱊ř樺㣔ຒ瑂炕ড㳄ѱ平簢占䋔㲸ᑶ㮤吩Ω䫹⫠ễª塈曯䨰椬䖉ƪ稺䪹⮵屟䍊䘌嘧淕᜴牡ᜧⷃ婎®㄁▝僛哉ᲗҴ崴ㅧ㊅㊼疊紃䱥椱ኯނ`偒ᗰئ䥔تฬ⡤࿫砫â坯䨸䌗⫊堯䠰⾹⼐怓࣑䮡㔶䆛ʗُ佺┈☁峋浓繠ⓗ䓹晓啌ᨆƃ猕寭ง栋࿢ᬣ㼘䎌慦曣Ĥ妭ᡇ෧₻⴩᯦╗ᒐ撆暪ඁু䐷ⵣ僺弦殈ಕ燉㚎伪仞吱䋓ⷔ᝺穜嚀穤桕⿎橴伀亽䳼毹嫶灌堓ⱙ泍)⽥き据ŏ欵壷嗄㙪睦ᢎⅨ䲬Ը㋉簤孛喳慎㬃嗥梃ҩ睹掂濦刨㰙㱶ᅗ䛉ⷧ嫤温佻㛆⻼㭝勦䇭匓Ⓠ၄潭乧䍴㙮䗗⮕ၗඉ向⠼છ⟝桚渒䶱䪷ا㜮槁噔㢩䚞異➐悚李㥣⻲⌠琫ဨ߈纉琴ਢゖ䠀簧夿咓㳻稧ᴇ罨孼瀸䮛伣ᦃ⣰㢡瞈愄檠ᓲ䲀઻⦭ᩈ罌ቌ߇繤窋­ⱜ幋犽⧊捷ⵙ埚だ㬐村㺬搠̪模挊㭍㫐ᙷ汶଎劐崓Т╕嗰㹆戶Ҍ刯效㻠儹नᯘ倦Þ兆眡♓⾓ၤ㵹࢐䆥┭䣺ධغ戊ᡵᨤ啎㣝殥㴦ƍ擏䴏澓愕⯪இ氋៹砶䈀㽌〚䀷ۤ实眝ʍฝ灱ᰟ孍Ⳡ㣠䁗қ嗖㫉娱琑㼞翊ᲅួ䬝倕穛⸒㮠瞲沛冞炏窩ả囡䁁䖵⠡⁃ࣁୋࢫೠᯛ䤬෉‾凤溗灎㌓廠❆㥟欫଄䂎ᙛ䦡婸佅យㅀ૤猅ࡀ碧䶽ȩ⁨碐ٜ⢯ཤ礻א攡ճ〻唢攌ྑ⢀㱝堽ླྀ簀⥜䐷ḳƂ䆬㣇吳竔唽皤恴犰ޭ珊筤燰Ꭴ吪乌僀ᦵ姭睩᪒婭缀ှ¬ט夫ᕬήᬠ椧⹔又੩ਵ1Ȁᱤ樏湣㯐ᅭ䜊坕䯋孬嬅㜣ᨋ䋜曎玊秏ᆵ炯⽇⢾෽䆉画揗䌁ḏ疈嬗塕縆඀ᅅ傜⦆ὔ够ኜ䵣䭲㍵᎜䶃Ɣ㡬岈怩ᩋͭ̉獢䶅剽١᰸▍剝ᨈ嘨㩃Ϧ䛠Ⰴ⣓ㄏ䂔Ἇ灪䓨จ㔾䭚䗞叅㽯䨳ࣙ῅ṩᑬ㊰៨㮇ᆝ婃੐尪愼࢐䝀㛍牱խ咙䧤牒ǩԡᔮ⪜㣄㌜侌≲䖿冥愯棾䨬㳥䌵ࡱ䞬⋄箋䝂㋄䲹㵤➍磝垝䏎報Ԩડ⬷孥䧅ᘰ⠩䙌凰຃㹉愱դਃⰍ嵧孿䊄 卹⫀㸹ᢃ⹅ᣩố夤䡂΀ᶽҮ㵿磓䀢䀳昰ࠓ堔䋩㥠ᦫᜅ₅ᙧ䩡乸檣筃Ɉ㸸⪉ⱕء卣 僰⥠ὣض䂑੢䳹᲼傾⒨ྲ娵ࡡ⟗ᡲ撊ᓒ媛ྉಃ㢆᭔䔼䓂䁴玲台䴰买珂έ瓄䢒⦩嵜‣睙؛堨㶢㌹ȧ䊣栶ཌپ亢砸猢݇墢⛀庇շ䫴冨妜ʘ㐡㯨ୗ⡾࿣廎ମ祿ੌ㸇㹐䙟ᄼἿ⪯䰁‫⢤䝆䚜寉洣䛍䨍㧎᭰㣺嚂㹄䥈⓺䌜⮅䴪旕冥í㬶棵䎕伷䭴䞶❤℁᥊婣ᬼ༺ੜ㬖㸳網泡撄㒉悰ᣀㅼ㋥㌅ᳲ晃䔍䚳ॊ摬䏒征ᶜ㨖℃漸ᄓ奎嫓梮Ӛ最䇓䠾峢㪄䤜ă哳笣垓ṍ歱服幥烩᳘⒎⸃䠊糎ӹ̒ፈ岫䝎␸梦岠ᙞ㒄篃㼺̀২焤‫槰ᱜ润ⲂℲႠ㋇㾞ςᤰԦⓣ䡲㐢㿈ᘫ䠡呸㝂ͩぜ䈭佈䃤=弑䄧ゞ捲㚫䌅¦║≼婡䀰ጤ᧳僉祸⬜䄵Ë㎄⢢巙ຎԵᄠ  "
   },
   "outputs": [
    {
     "data": {
      "application/vnd.jupyter.widget-view+json": {
       "model_id": "49ca8db216794c55b15d06ca7e36a5f0",
       "version_major": 2,
       "version_minor": 0
      },
      "text/plain": [
       "PersistWidget(data_values=[{'__id_column': '1', 'Name': 'chevrolet chevelle malibu', 'Miles_per_Gallon': 18.0,…"
      ]
     },
     "execution_count": 9,
     "metadata": {},
     "output_type": "execute_result"
    }
   ],
   "source": [
    "PR.PersistChart(chart, data=df)"
   ]
  },
  {
   "cell_type": "markdown",
   "id": "93deef8c-35fa-42dc-8024-7ced08ca10a0",
   "metadata": {},
   "source": [
    "#### Categories"
   ]
  },
  {
   "cell_type": "code",
   "execution_count": 10,
   "id": "25ca123b-e2d5-4c90-b167-0efd63e14c15",
   "metadata": {
    "__GENERATED_DATAFRAMES__": "ᯢ粠 ",
    "__has_persist_output": true,
    "trrack_graph": "ᯡ࠽䈌ʀ匦㢠⹰Ӣ䃸ڂ䁌琱䁍c㹈ĄᎾ䴯ၛਠ䚥‬攠ڃ瞹䂃v❖ⓀŌ傰䇂无≬動ᙚ䙍泘稒ल&䈠۸䦬ሉj࠰|٠怣㣣ߘ䈺滣缠஑⍈3嗩-儠ʒՃ硬稸㼵ᢥ̬䥡懱ᥐ沤注婇Ը俩೧₠ƕ٦枓ቇჿ䈼◑䅠Ȅ恨粚❇ᡯ徣䐴ंడ㙐宂ᢨ᢬णᷗࡣ㬰懵၆ච᫢㱤෿ٴƝڧᗖ঍䄣㗗ٹ䇮氡Ḡއ䞿兗㼑ܱ尮Ꮈ䃓၀Ⓔ⊣硘㼪غ椄ਪҩ⢢㴷ኃ偅ℳš夔⑩䔃梸ᣧ庿㒹冢嫯⧱䱓⋑㱱ᝩ剘ੳᝃ㊸映兡੅ᥢ圦ℾ୎ၩቼ橽ህ禙Ð噊䬅Τ捑䅀0┢䀠ɐؠϚผ㵀ݐ䂢埁倧အ橐㢪渒沦䀸⊃䄀ݣ䝲Ϟ殍嬑稜䂨⻐䕘ᠶວ₸∬ۥ⛈㙀䚶☲屬叇䘐刵⢇㴮坛䍀懐㰱੠僈ᨺ䳥じ湏F।⚫⛴痶廟⡑ጳᑞॖ䶆灢擕㕶᣶提䈖䏑澗Ḇ₵掓嵖䌼ु䀠兖ൟ拼獈Ȣ㨸wᠪ祘㞯㵅焙㹀ᦖ搓ǀ硴¡潔䄩漩䠁佉㖉㹔䀡瑴䈩@䣥帿勳㑖仱ć*ľЫĨⰖ䄾ج䊦ऩ⇲ጦ⚉䔧焈ત䔜ᙲヤ᭒ዔቅἔἠज༴䐬彡懲ᢠᨮࢭ䅗ẕ绨Ⰱा౪䤛徤ǈ㑔慭ͯؾ׳㨾寵稨ᆲ江ᾣ簠䷤壉婥䡕䅧囪৐き卧㙚௒慕ໃ̘Γ䘩䥑⚉坁悹孕璉ጧ昢ზᜂ䩠砡㳂֤ᕗ⚁⭓撱⽔␥䞮ᙕᓧ吾ὲᩆ峴ŋ඄㨠ɮ䥘垡樺嬢z浑樉睳椚戯栦䌨᩶㑆烩剦悴ႌဳ䂬⠿୥㲭䐀∤㍂㨳䊀㒿䇭ⓦȩ䄠䊐ዳ箶惪ფ楽䧪乻䦄Ჹ⨪慽⡴Ữ䨖⺧刔Ƥ䰀纠⑮᦮ヮ㬮㧌᯻㈌Ψ煞஫㮨殼笎ް碾㏢箢䟾燾ߺ篎緩燞橣憞ῼ䘞ඡ⒠籄刱⡊➾秦נ啚䡳㥚ⅵᥛҠ䁔➩䡖挱ဦݩ㖦ޓࢃ乱༾地䛋杳媜ѩڄ䖱䑔૫姓䏀昲Ᏸᘨ壠䄪䊐噏ሀ㎌ㆴ渭䉤堿Ũ厴朘徿爢嬺暨༮柨㫩≖唥撈㛻⊖㴣㫴ᜬࣀ罞㙍稹㛍㑣㞰⷇㘍㌰眽㦢⫭䔍䅍☥㗍䄽ẇ䈷㘀ᴔ渇⋛⭨㋘榺䍪ⶠ䝠ë瓻೶嬖庥䍮嬋㫣៷絠挀⺱噔⌠䕔挰⊂ࡁ⁲▱ъ૦兲睥⡞䱢ょ㖺㡾䄃炘旦〡ࡢ侇㕡ₔߞ⊒২偌⛧瘌侢ѳ噹冲妲兓ጺ⢥ڂ攼抪ᣏ悑⾠㸷姺ఊ၀猝༲ᒔۀ₅᳀ਭ䬦⒑䨻ᜬ᧎⛠湫䑦ᷩا䬡棱ᅑ吣ㆾ炠㸆ビ䑆埮Ԑⵀ擺љ怑秎ࣳథŚ㍶憈曵☡ዽ燄㙨疯㮕ዒऀᔱɁᅂ橥䩫ⵙ䏣ᷞᄀ㴦ၬ䟂琅℄ܱХ䦈ၣ灞孟ᰑ″砞垁ᨾ榅廦攝嫐ς䁖ત⊕֌ⴡ泚ੁ凧撰ጠ㜪秏ܔ≆۾ᰫ廫ₜ䙛䁯䨡侥硅ᑁ⊘䳾幬䧉῝㊨糒❇框匵ເ㦠ㄖ䑔+ဨ砠Ě侤࠽အ拀䒀㕠Iᠥ哺传Eὢഷ⢚ݬȮ䩐☧¦䉓柴㈧咃稤敯ֆ䡘҉珯ṱ䵔ᄹ戨Ӂᅁǭత搼ڀ䲪拙佡核扑ᴱ沓堠秶Â煎㌆买৕孺巓䄋毟橀䟶₡戚䆯穏摰㡄ശ఻摱Վଅ䌢㓼淬䙔ᚭ➡䌎ধ熫א奈炰Ɯ㚬☿䟣㉰␙伨怤恠த棉ਆ慊兌噃⫨Ⳕ➤斧瀼浢᳾㚅ᄿ昔楂᫧≈䐓栮ʐⰥ⽔䎺匈㼜ѡ໻䇎₃硝͂㤦户䥱⥴劼剥ુ␄䐡媍⇠ᝩ䀾倉⌨ᥑ䊠.䳋收籰࿃⭋擀㺡ಏ⽤᠈䴈הㄨブᚆ汜斠⋮ⴐ䓠球瘈ߠ㠡ைၠ俈㖌朣ᱩ⸱⭸ᗐ☡䐪ㄍ㾆຋⤤׏ᛡ㍚㥺ᚯஈࡶ櫉喥䁘䉶Σゑݐ⠫峀౛⏚ℽ㏇㩿␬瓑_Ƽዂ ȉ┏䖀⩒㬢ᩢ᎒㛆䈠䴵槴燂\\ሁᘫӖᅶ眸ℚ忊恜∭Ӭ㖁塀ᇅ獂ᩖ掁宿㕣҂濰೶⃾嶻ᠷᬕ彖அ↼ܮ匪殍ⴴ恡஘瀷恚㡶瑮妛⯊℻澑獉癶⸂單↋ῥᲨ㬤宰䞐䬒挥নΠᮼ犫ᾡ⹭旼䏫搾ͨា禹佡ὑᑄᅈ摙ₑ圹恻䪞☨稜㡡ʇ䆤瑬橳㪵ῃ㩮瑭爇瓋Ὅൢ㋦ヱ䕳┺č㌃沐樌᫺ⲓ௼ၠᴰ囅䖑ℤ࢒ࠀᐬ䢚扡㧓Ⴠᩈ䲙ǐ٢怳勸䀷夾ܳ毨劲⳸劑ȏ㡿ᓬ䵞ᠮ㻵ἕ璿姞䢑绊栰㣡I䘦槪䔤ᄬᣚ൷ฺ煵ࠂ儭儃扅ᛚ▰慫ආ䰍㌕宙ᬈ华ࢰ䎅๹ⵄ⪧梓ژⳕ咘滪嚬皰䚍מ敫㕺㗈▵喴㜕嚫⷏䷞⣱䧚ᛸ㏺䯁枮究伒໡⛔巈Հ⋪䯩暁圢掚Ңᶹ寀ᇵḸ䙈Ⰰ䅗㒧ቤ䗥寀䕼扺皺媈㻅㚁簽搀ທ╧䃪窿偘⩛䬦圬ፄ⌶☌㻶斜㊮᳐㤤殷ݐ䴒䢻๨ࡀ᮵栐ᷮ爷䴙徸ㄳุ嘢୘ضᆃᰓ䉭姧ẙ瞽秎⠓㺔஢籎㐤画喔᪘嘖⭯㔇⮽睹痋᫕⚘⃆⚆ㇲ㑌勩ⳁ倚尊㎡府㭐㔌绔㘃佦㎻Է䱑⒬⃞秨獵त垢ࡋ擄櫰傒ڞભୟᮄ劒玜箯攂作毭⦯䵺ᴻ┙㊢桞௹棃䡒ᕵ洇⊶೥券殴ᒭᣥ䋺约㬒穲湗ㄇ扆渵巄櫰䎀䞛⩵䜞涽壒㌨㇛ᖉ孄↗嫴⨻ⶌ优䔯揾倉Ҁ⽔ݩྠ氼䆨ઢ㤇Ƅㅦ峆À☣絢࿠氤瓡痔∁潏䱟ȹ槷坿ᴾ孶愿疝✣絫皀祧㼁F䳽߉㞐䃻䭔㧇䴱䃘彡眏䂏⮿ᑜʯ⁾ƀ庡◃敫⣿嵹⋭⵺桟媴෋㑙篬ᬣ淂晦殖妝㷏㰡歨࢔⏈࢑梠បኄ缷⧚䆕ऌ嵥䋎䎕ؠᮋ欓ᖣ篌«㧆䔕㰶㵭梳Ꮱ҃䎘ΤНᰥ缿篻塔2⶝^䢀࠿ㅟ⨻ᔢ䙏傐ޡ刣傍ß燡嗹堃养磡᪌ᢅ䍍栰⼬䄠⍗ॎ巹䒉煒㤘䊬๤๠䭖ౙ⅁版玙ঽ࠮䀭抛崡异 㮻ܡȃ窧奐䨩ཤ憫婠焰䣿㧑᥃⤾䤅⪄≜刁卵權ḽ㪆㞝᥻䥤Ả㌡玹崑䵅㌩䃹䢈㒠猩偏᷼㍬煡ᆴἠ䤮ₔ™彔Ⱝᝀ⢆䂰孯ऌ榥射䁍ဩ㰀Ϭ崃គǫ偌̌ㅁ㮥奼僃佸⤵䞨䊧噦䎵劐⣊⽢ஷ廍壎↘㈂囝⣧℮婐䧝嶇䙾寗吠΀攡ਗ和箁ᮛ奭䴬丷᭬ޢㆌށ⃎械₝Ⴟボԍ垴≈䓁礽帲橃ᕄ╯佤垄Ṭᆯ嵤అӱㅏ咳氨皇㊐ी〧䑕傸嚠䰮‴䘄ຉ搠⠥䘨Ŭ␾ܼܯ幤ဈ䍺䑘ᖸ橥晙ࣩ୩撳到ȉ嬼㚇䜰Ŕ㻠䔅炯ળ䲭绩❀䝙ᚬ甎ࢨ䩤Ⓣ琦挡‽ԙ挹ᣦ愪⺠㺇ᢱȔ᳀ᠮ‵䘄俸皺ᣧ♐᧲㌶瓼ₚㆃ庲壵㯴䇕䵎惽㦐㖄㠪㎏碻䄕戵㞇ऑᓭႏ擧㫹噍к瞞䒼䦙憏࠴䇲᫤ڪજ⊂ፑ⢦幌⋿ᬰ䔬筵䔶㽂氫Ѥ䔴╴㲴ཪ㱜㺹⣜媝ᴃ框₏竜壜硍⮐ぎრᘀ欼⭷媥ⶈ┬ゲ堂䑃欼⨕亵㱍澞ଭ䰳殎䓑╣唲咰ᔺ◡עਲ眦૾⢳ఀ喊Ҡiㄧࡀ⯂ء䨮䂞፸亱ᐣ䡄恼吙㱪ܢ♉ಢ婋㕩⑚孼᰺罯⮤ܠ࠽絿榲—̦ി⩦䠕ধ綘樸͒⧊­䎆㸣࠰ゴں尜₄ᝨ䎚䲱索䂳狍ธᠸ䌤ᖍ弣侱灖䙖䑲ɲ∵奰⽤愪zخ僡ⰼ悱ҘŒ〇坥椐⓰㪯悫檗乣䈸悩ᩱ⤔ᆪ㶉ξ偣爷㵅ց⒐⑳൜ᗢ傪必൲ᕙ‭娷䳖ᒑ⒱⒪婭䔷嚪稴䃣Ց㌡嘰䎌⚪㲣฻ᭇ晽䷢Ḷ皝⚱培撏㉠瀤哳㔆ࣨ牺⦬儾‭恶㣥⤣彧㏐ડ疼娸䂰ࡳ俆洄⌀䈰ኊ⫊摵㛓啺㱺啖⇋ⶻ夆啴❰㔰㰤㪻埘ഺ妍ⓔⷉ≱棖䆔㞄㏧棏Ь㔄⺌唢䈨൑䪄㘶Ê䃀␡㚝筤ᬀ㤣иƮᩝၦ够⒬⇲琤甉䛚⎉猹瓅䔚㯐䯄䄢嫀临罨ඟ寀ẓ猨峒穎ᨂ摅┭擕仝宼╫捗俕⸉慺⢗噢₾㳹គⴲᐊᙘ坘㪱ᒻ䒧敩㜓⓱䔍塳゜྿䓽寞−⒳噹熦ฒ瞏ペ┋݀ጷ梅⪡⋘吪͜䄺䍡堥玌䬒ற啋ツ⓾㤪焆᫤㫪㙣⤄哱凓⌽፾哼㡊㛌媻湌ኘ⳨┆䬒㠤⭋咃❰䟙Ὃಃา剤ᖼ孲䀽吩律曤㫽䜲᫤㭼㹖ɽ㬋㤱炔⃄㗻㭲䃆=㎠廲㫿㞽⁛㊄ຸ杨ᵼᚅ均⧁⍫ᷭ㝼暀ᵒ戵⌅䫌婉ᄩࡃ㮟张ֳ梱ᛯ哒亄ℸ塽᷋敳Ⳋ唀ۋ◧⬆晕りᶱᲸ⨵媒砥䄰㛼㋌ர礗穣⒤殺磆壷䔹箠䛦篐䗝ᓆ潎ढ㽪壻漼㠗䈳磾ᔎ⡓⎺押暹竛劳೹曯暲㢰旳絿㪙䮡Ქ䑪Ȼ౉ⶡ恴實ٚݮዛ֪⤫䉺Uᚐ⸜ㆢ僸䄴ማ攧㙻灬␭ᠭ䋗ᙙ⹕Ṻ哢皹⎁◾₏⨻ቁᰡᢪƀ䶝稦ᠬ殡䒀⊉墢榰ၠ籽઩ᜀ㪺кጂ۫⢝擰缼㟩㺣ੴ㌅ᔹ㪕⡸䳨ඹ⩣别勋ᘹ⪔嫽樰Ѩ⯣晱火᠉⡣㟍ᾛ歠耈⠧Ʒ炆儧Ȭ䇴ౙⲫṴΏ磈ⲧ㑝ࡢ梸漦ј⒂౷প氉૎౞ズ៽၄嘞᣻帺㛏௅⣳Ľ䪺ᬅ㛺ಈ朲吝ΐ埢纂燿Ș匸煜䇟И忯ಆØ塚 䦻烄斈楒縬俟᫋奓繜䳇⏠槾棃⎠紫䍁奖偰Û㷤凋㦲̀ᗲ䤊睛囚▶嫒杙娱竤ㅒ矿ড㠤᛾⌒Ⅼ楦ᲂv㮲⹩沫凭ᶘ䧢互牷д㗯婼牢䂚罷佟卦䠕⃿䅅晣ᖒ⼳ڤ㉏₴弳峄㘜㔻哈ӝᚃ㔓ು㲶⩳㬒␍梋疿㲣㹔᧷斢窳㟷ⵟㇸ帧䆻Ҕʒမ䧦⼟嫐ᕐ㇍罈瘨ᢠᔥ爛Ҡ柔恖ሕᖐ㵕廁䡕۞思⇁›⻮⁕瓚祦౱㬧呶࠾䳀炧⹚↱䉤ʧ启䈞Ⲱ緧搤懌Ԡ粣ᢿ؂摐厦灺⃹⽍劣烗戞桉▢䉘ᄵᓁ㍛扑䋩މ㩦㈱籁Ԓ䃶♺ó⻎嵧㈹冱⯾䔧㓜綕מ冷硞痶⸟嶷⑑Ⳙ扶摔⽾⽘梧⇔ᗯೊ晊⢃Ԙ埓ᡪႦ炜ᠤ敊㸰㓰䱳屆囲ࢰ䭤憼嚶Ѷᨸᲇ㠨⑴⇐چ睉䂙伲ᆆ坴Ⱶ䴫冡祑ⷩ佶盖獒恦溄᧖⭙繕俖盆窫⢩喯ᵳڀ❹喹乓ᚈ嬎䘬沲᫹刱䱗≁䱬␮Ɇѝ⫏睃噛ਜ਼ẃ㬿妡瑤↭乶Ⴧ䥔䡴䵟ೇ⠁⦮畴睆翪㣩支㸴䌦⒋侣㈂㏵䖈㑰䨇ᮿ۷乃⬹䣰㴙甾⌻瓇称⠏ℳ㓿タඎ䒻梖ᔒ㞁欒狝✜ᴿ㺻㣷㳃癢疖珣؛既悢̦わ笖㞃u‷牰र挪恔2耈掹䱠෫␷烕ᓅ㓪㤽犱ᓊẋ⬧嫴㉽㟂䐠䚈❠仅⑇曹䫊᭳䃖璏✨䘵Ⓢⴄ桘ࢨ੝篛o㜙外Ⱕ䲓潂ॅ࣏䨍溹澖㇁㏣啹禠㚖㷾⏹欖⬌ぺ䫇↖᧻ᵪ⹠據⠪䴚照ᦺ失ᯀᝒ挢䀡䴶㑪漁嬌檬㣥㤩徊ᄫと␩ㄻ㍘䮲Ԧ⻽䓽ⴈ睼庚ቶ檆㗛ᨏ硖拸Ϝ姶濌甇㨀ھᐙ䀌ἅ朰䐮嘎Ϙ㚜㷌潓ί䲏ⴻ綃弄ᾃ㞌䃞₻擱抮ॵ粬岍椲峱米⩶玝㤨㘬償⺡怌予冬ডȮɶဧの碿㽰ฺ汎ၑ䋼࿠㢫㡱䈂ඦ庡䳗☟⿀㎷ᵙ䴐䂩吕㙗㆛౐搬⦞抹染䂡ѕテ␑⵷ɽኽゐ槕䓛䎭⼐湫嫐ᇽ⺮塧牖簇碝獫㸪刕桺箔牗崥෬䈿盝Ⴁ҈竫婔傳狙㳦ṿ篃ण揶泚޾⹃烕㧊㕭䘲မ稥ࠊಇ丿⻻෬㵂㌯䧘䫔濘⍗䔂⎕‘㍮唌ࣰ父纭䗐㏐⃤メ妒㹼帰὎ݷ㔂帟Ꮼ斟攝໏ཹ祐矾䃌秿䗪矂弰ӏἝ⊏㹵濾揚᪽ᩮ欼䙭᫾燮纋௝㎅培女ᦜᯆ眭ӯ㯐扗Ḿ珮⟛㏿Ṿ燯嶕᳿洫䙕Ζ䕀᳎⨺掞磅睲䖚㼶庴㗭氆寳秄ᾞഒ篲宼ụㅖ䓵䒣盍絶⢼⏄⟪憟侙晽崯劯⳱⒵⾯侎石嚖䌸䘡焠抟叙繐嚗㯄䎂ᨘ毢⑸˄਎྿ᛷ幋❭抗ᒯǋ㩯ᡦ枾叩烡᪶橨浬涢㐐䍊㼱七䪭婶簉愍ᡀ㚰渨ျŋ̩勺浘⸋厥剞˾а⵼Ȓ㯥潢峲ܯ䏾ଁ␁⯏幤夠  "
   },
   "outputs": [
    {
     "data": {
      "application/vnd.jupyter.widget-view+json": {
       "model_id": "5208192abe294226a1590d92edbc6c63",
       "version_major": 2,
       "version_minor": 0
      },
      "text/plain": [
       "PersistWidget(data_values=[{'__id_column': '1', 'Name': 'chevrolet chevelle malibu', 'Miles_per_Gallon': 18.0,…"
      ]
     },
     "execution_count": 10,
     "metadata": {},
     "output_type": "execute_result"
    }
   ],
   "source": [
    "PR.PersistChart(chart, data=df)"
   ]
  },
  {
   "cell_type": "code",
   "execution_count": 12,
   "id": "1b972be0-5e63-4f16-b61e-71bf5df50c0e",
   "metadata": {},
   "outputs": [
    {
     "data": {
      "text/html": [
       "<div>\n",
       "<style scoped>\n",
       "    .dataframe tbody tr th:only-of-type {\n",
       "        vertical-align: middle;\n",
       "    }\n",
       "\n",
       "    .dataframe tbody tr th {\n",
       "        vertical-align: top;\n",
       "    }\n",
       "\n",
       "    .dataframe thead th {\n",
       "        text-align: right;\n",
       "    }\n",
       "</style>\n",
       "<table border=\"1\" class=\"dataframe\">\n",
       "  <thead>\n",
       "    <tr style=\"text-align: right;\">\n",
       "      <th></th>\n",
       "      <th>Weight Class</th>\n",
       "      <th>Name</th>\n",
       "      <th>Miles_per_Gallon</th>\n",
       "      <th>Cylinders</th>\n",
       "      <th>Displacement</th>\n",
       "      <th>Horsepower</th>\n",
       "      <th>Weight_in_lbs</th>\n",
       "      <th>Acceleration</th>\n",
       "      <th>Year</th>\n",
       "      <th>Origin</th>\n",
       "    </tr>\n",
       "  </thead>\n",
       "  <tbody>\n",
       "    <tr>\n",
       "      <th>0</th>\n",
       "      <td>No Assignment</td>\n",
       "      <td>chevrolet chevelle malibu</td>\n",
       "      <td>18.0</td>\n",
       "      <td>8</td>\n",
       "      <td>307.0</td>\n",
       "      <td>130</td>\n",
       "      <td>3504</td>\n",
       "      <td>12.0</td>\n",
       "      <td>0</td>\n",
       "      <td>USA</td>\n",
       "    </tr>\n",
       "    <tr>\n",
       "      <th>1</th>\n",
       "      <td>Heavy</td>\n",
       "      <td>buick skylark 320</td>\n",
       "      <td>15.0</td>\n",
       "      <td>8</td>\n",
       "      <td>350.0</td>\n",
       "      <td>165</td>\n",
       "      <td>3693</td>\n",
       "      <td>11.5</td>\n",
       "      <td>0</td>\n",
       "      <td>USA</td>\n",
       "    </tr>\n",
       "    <tr>\n",
       "      <th>2</th>\n",
       "      <td>No Assignment</td>\n",
       "      <td>plymouth satellite</td>\n",
       "      <td>18.0</td>\n",
       "      <td>8</td>\n",
       "      <td>318.0</td>\n",
       "      <td>150</td>\n",
       "      <td>3436</td>\n",
       "      <td>11.0</td>\n",
       "      <td>0</td>\n",
       "      <td>USA</td>\n",
       "    </tr>\n",
       "    <tr>\n",
       "      <th>3</th>\n",
       "      <td>No Assignment</td>\n",
       "      <td>amc rebel sst</td>\n",
       "      <td>16.0</td>\n",
       "      <td>8</td>\n",
       "      <td>304.0</td>\n",
       "      <td>150</td>\n",
       "      <td>3433</td>\n",
       "      <td>12.0</td>\n",
       "      <td>0</td>\n",
       "      <td>USA</td>\n",
       "    </tr>\n",
       "    <tr>\n",
       "      <th>4</th>\n",
       "      <td>No Assignment</td>\n",
       "      <td>ford torino</td>\n",
       "      <td>17.0</td>\n",
       "      <td>8</td>\n",
       "      <td>302.0</td>\n",
       "      <td>140</td>\n",
       "      <td>3449</td>\n",
       "      <td>10.5</td>\n",
       "      <td>0</td>\n",
       "      <td>USA</td>\n",
       "    </tr>\n",
       "  </tbody>\n",
       "</table>\n",
       "</div>"
      ],
      "text/plain": [
       "    Weight Class                       Name  Miles_per_Gallon  Cylinders  \\\n",
       "0  No Assignment  chevrolet chevelle malibu              18.0          8   \n",
       "1          Heavy          buick skylark 320              15.0          8   \n",
       "2  No Assignment         plymouth satellite              18.0          8   \n",
       "3  No Assignment              amc rebel sst              16.0          8   \n",
       "4  No Assignment                ford torino              17.0          8   \n",
       "\n",
       "   Displacement  Horsepower  Weight_in_lbs  Acceleration  Year Origin  \n",
       "0         307.0         130           3504          12.0     0    USA  \n",
       "1         350.0         165           3693          11.5     0    USA  \n",
       "2         318.0         150           3436          11.0     0    USA  \n",
       "3         304.0         150           3433          12.0     0    USA  \n",
       "4         302.0         140           3449          10.5     0    USA  "
      ]
     },
     "execution_count": 12,
     "metadata": {},
     "output_type": "execute_result"
    }
   ],
   "source": [
    "persist_df_6.head()"
   ]
  },
  {
   "cell_type": "code",
   "execution_count": null,
   "id": "4b0d5643-fd7f-4c48-8079-4fd7c9054b62",
   "metadata": {},
   "outputs": [],
   "source": [
    "persist_df_6.head()"
   ]
  },
  {
   "cell_type": "markdown",
   "id": "a6284113-65cf-408e-927f-d302988c2a9d",
   "metadata": {},
   "source": [
    "#### Filtering Data"
   ]
  },
  {
   "cell_type": "code",
   "execution_count": 13,
   "id": "74072acb-ff02-4b57-9737-8834d8e18bbb",
   "metadata": {
    "__GENERATED_DATAFRAMES__": "ᯢ粠 ",
    "__has_persist_output": true,
    "trrack_graph": "ᯡ࠽䈌ʀ匦㢠⹰࣠↡氥〩䘜ׂ䁓Ԡ氤ƃ္䬢ĸ烠ܡ簤瀠揘囐烂┠অҤᵖṢጄ喋楕㞅䷷徬₰Tဠ㚈ಃ瑨ɰ䂠̋刦;䘸෤့垌̸x䠊䀢㥙အ婀扪൅ਫ䌰┑↓ࣈが䨢ଫƫ䁣䋩⁐ᡱ䑼౪┨7⟏傑᥁㤕ṡ㑋ఴ>☤䅠憑㣑◌绒฾䀶挥㍦ࢡ僡ჳ⬱їㄤᵲ堣ⷦ校ᷰ敠៯ₜ姃⊙ⰱ殻㡅䱌櫠਀㻘粁ṛ瞨Ѭ狹癔ᓬ䂠戩਩牱Ṉԩ⍄ⰼਡ慰堬ڨ憱圢ᢣ䃰ᠮᭁ䈑敻ฉ硩䴸ᗌ碽ೝɅࣤ焤䥂䧄᥌䝇䤵ւ品③僷ֽ૤㤮㥉⋅楬孋䰅ʲ䳁⣴䚚嗠ȩ⁰ 䘡䀠眣㏯␡昰u灔Ą⠨䤗䵜ᡝ它喡澵厍㳜彟䐳Ⳣᩂ⊡䂈戴࣡懃⨴ࡨၘ牝١㇎佚ュ惨戵⟇㰮✫䥄憐籝݀凈㩌㋄炘ⰿBࢺᚻ⧳⶚绀櫣⬤঴捐䐆䗋⋑ݖ涤ߐᲮ箹材Վ母沓椀ㄬ%ࣰ㑿嶑ՠိ搠˙䁇燩㦕婏߫無୶ྤଦ䋀н炱̏↭櫸៻恨>䕫ṝਫ璓攘ⵖ䶊洰ڑ㼿欁缠ᤧὶ䈦屰ᔩ⃐⬧℮ڢ㈮Ơ⡈暣兪Ļ栺ᡰ࠸Ǡ䠺ಁ炂෣Ⴝત⑔࿉¼ᘥ坩漘惏䟦尡Ṃ㝯น惿⒥ᩅ 屇⌉䁠ᣪ㘿䠐ŀ▁䱨慁␪歂䠺棃歖ࣸ㑶揤ౚ丨偅昹㠨攸捆༻≄抹䡔憺㱌斲玜橋䑷༆㴘搄损ᶨˀ妻㎐宂ಃศ䁝⢋൓⸛ᙵ䄊َྈോģ䵵ᄈ㔉䗇嵯⤃㴰༤恤 ᩠栳ʕ䫵ਸ਼ર㡯ளࡒɖ⠦ǣ儮˧栴୔㡚ᒱ父٠஌᰺䬩⛫╤䭋放Ⓥ礢䑱唪⻹楮旰穞䁒䩔䥢⣪ћ♹䙛Ⱙ櫑伹杚฻源圱֐湛䇒㞍柘཰㭓⾛䟂⽘㇒潇䄛⥷̙形Ḩ䉉ሠㄋ䖧±᎒❰ᜣ攊⶯ࣷࡵ䒴ሣ㾞ᡆ஁ឦ䓵䨥樏嵭ὲ句熢㠦始த䂜᭄䂈፬䂌ע㰼١‬a偡µ〸ರᡯˠ䚺ન匮๔み䍐乽Ḃ纟䠫ᲃ።䴒捁⭫Ⴡ殅அ呆拹㑁Ӛ橧ศ灅樀ہ剕掑啡⚹坔ࠥ勧ᚢ⦳囨卩䎶ౖ䛈祗✄朼Ꮕ忖圕姉㊩வ൳₋㧐Ċኞ乶⬊傥絺崋櫗∉瑏⩹媮倹簾券䁩嬳偌àࠬঠኦ٠⡕ぇ፡ࢱ偬⁫断呹㚩̶⍘圸ዤ撶匢຺勐壏獫彩㭻寸Ừˠ偼ଔ䝰ȕᙑἭ㙽俓绂爣⬁䍿狼堥ڧ䞑 ൖᄺ估ҠḄ䤰¢ऩ䙀ⶭᾱ䳰弸恟爳Ⴕଲ㉊〥朏੣扦ⰻ䮠֮ܞ㸬慂ଶঅⅯ令䰨恸݁〺ɰᨢ偳〱㐥悔䵜倡䄘ፘ儹π㈴宋げ㮂㋎څ仨䅽囑ᑓʛ㪦㙭۰羌牨ౠ䮬㰱ᶙ➬碀ᴐ⽵㇠昁惋旡毬䢐ங友䎸䔒壹皮㬴幑䔂⠭㱗左㰦⦊㙰তẖ䁔+ᐐ砠Ě侠ࣉအ技俁䕠H搢哊䜠瀠ɰ琡倠㪬¨◆硋թ⁪䨚à瀠樒㢠〨✴䇂急區㊴橅䅀瀮኎႙͏⦤ὧ䈼׶ᇆ噐䕠⠭㑒ኡ㠴禐♥䑯ـ☪䠱᧐㯤㏞͙㏄㡭ಗ朮޺䗄久昀ᶽ傎儠筝櫐♄搶ޞ矀墿⥣㿷琠↓ᇐܣᬃ̧䒦緥ǐ患惢磏Ķ乆狃у€㖈ⲅᘿ仑˦ǦȢ᱓Ұ絕熚ར䘸⅂拢桗䵦㲄氣ᥓᕈᄁ㛢户䈤⮪ቴ撀ᩢ⒒⌜⚒偕╶㩋㊣└ᦦƬı梋ᗬ୔状ຶⱎ嗓ಳ㔮ǲ☢㉮⠈ṩٌ 㩬⍀掀幩ۀ睫ၢ䵪㆐ฦ䴮̺睴䢴৐㕎刺⧅䀫◔桢環䵕⸮䱈䙨⅁㕸ݣ窑宦撎ひĩย惇˫㡆╩⼩䀺ɬᬬ㋺䇘᭨嗹勋䓯Ծ۰㕱জ⹒⊱Ռ嬣⁂ʀ倬ൠු㭤䎊婨攌䷩Ẋ櫾ٙ媤 ϲ䤿᳡桯㠘ҥ笚䲉暺椨׵換ᕚ唦枋䆸㲭獐ㄨ㍱㕶噠㛂䖛Ǵ倳噄⯎䴯⥈ࢭ⡇偒䧓ၳ♗卮䊦済䛯溭㓺悵ઑ⣏ಓ㚵䂣$㨃䂏թ穻敒梅竚ԯ㒖ᒍ夹ફᚉӌിၺᎅ⨯⊝僤橑䙀┢⹹䱬ֿ㇫᥊ᐭᅖ₣㚗Ӣ㻩恣䶸ㅫᜒ潦竱䙆善壦斌仪熣䯶䢾⻚䜠宲椋今崬䴫ᓾ䬹ዹ氦䳻Ӄ㬌ᧉ篊䩬焕аࠉራ圜ྩ䔦壀ഠ偊堪䔢怶à᳥Ĝᯍ䍻㶫׋㲅䝯ᾬ䴠䢑₼燎᧜ᅖ緎寑浣殔彡㴰Ҹ㟊ᴟḝ彨ట庐ǒ炠刄⌐෼塺Őኪࣹପ礥决炀碶情⨨≲╰㞤ゎذ津㍣ߕ兓㎑㇍₮ⴣ㱪䎋䯥彖ட⵲惽朑㓵秗䈌啖瓖㨹⟲宲્僐淐ህ䵺烣⫓炰䄛׮∦㍆⹁恼䆤䑢ᡐp໵㝀畵䥨璽䐼⧚伈㥀刲୼帬柴䏙唍䊣檯瑺৲⻅䎦⾍໿ٌ䢯ⲧ媱矐ᣟ㓃䄄䁸ә嚘䆌晒䠸框㎽㧪ក佝珞㦼ᅓ拌攠泫ǹ䕜㨊㭠㝗❾㿡ട曫䊖抎䱄羍櫡汕捱槎寳俢及㛄坠㔦筯撰仹庼⁅ˠ䍇屬磖ཙ伦▻⼶ǀ⠩㖬ढ़㊫曇䊪➦⇲ᚣ၂䚓纰௛欀璞㎤榆䓺曑撼燝䦳㣚櫯ᾜ潉᝸ᵳ㡏斅礄ˤ⸥˘䄷ī⁔嚁㨹༵ⶾ㰫嘔ⴠ䱹敘座磒䬐ㆎ㬘墓㝧渊⤅⫾ᙨ㊖䡉䯦涵ᢝ㻐盹'प嘣v₰⤽偽汤灄䘌狖⮂ըἜ喲替⁳⯖琢◾吺焉ٜ䝕䩎㶷垔⽩甏◵嵳畄ᣱ窵䀕㗼ซ׎ᠴ櫩ଢ⡛呱⬤տ歴砗቗籐ఞ⑤暥ᒵ⨖瘕䶽㔙⬀ᵔḹ㑞楺懗ፅ⣦淖䛴幓㑄ૺ盷砷㑠Ú⣁.緅濞â溤䇇⟀猐ảᦨᓚࠕ⻀㗷⥡֠亮甈ᆦ當ề糯⃜௳瀵瓘ພ㠖㪣痽⦊柳微䁢௎劤綠ᨡ戡桋粴ᘞ⹁z棐ਦஆ⁺絰᷶硔↶涰攘呐њ్䢮絆憪ᵴ┌ɖ嘻委⃸⾇奏夼䀼浣ဲ灍斎ᮑ晄䔤ⓤ➒佀榙棌ྕ㼰䁹栱殗∨␍渱氤䒋岂Ạ㢫䦤璕ဖ敐ᩊ䰺䇲勂槓㠰᎐Ұ᧘悬毼ᩣᦷ⢧䚎态Ძ⡩普答叔ₙ柮ཐய䷎Ӯ➲崫攲検礐恇ࢳ樜泒紴焔຾䀳ʱⷓ扶桰䂥Ⱛ戠報嗌ѱ佨ۗ⃖ᕐ⯪ᛕ悻ⵆ擖偁ᢏⶇ⳾㬒緕㗰შࠨ岁ᓎ῾ᠩ⿅扚攑旗嚯扻梖㱀矀ኖ滴㽢ʚ淎Ზ灪氧র〖扜擟敠ཇ⑋ࢍ攱瓱瀸ㅨ䬑ࡑₔ浠䣾⋰䉄Ȫᠮ␴匳煡拄巓⤮捁惴梐傯磌濰摅墆ฌᲮ屓⢫䍔⦮ᴶ掷䉈攄ʔ…¹ྫྷ䬥ᘰ叱斄瞃੽䨔℄⚧Ḡ₝楀᜴宲⎍樱⟃⒓峂ᜎ墪箩悠  "
   },
   "outputs": [
    {
     "data": {
      "application/vnd.jupyter.widget-view+json": {
       "model_id": "333262e9f8194197a39d8faa71742784",
       "version_major": 2,
       "version_minor": 0
      },
      "text/plain": [
       "PersistWidget(data_values=[{'__id_column': '1', 'Name': 'chevrolet chevelle malibu', 'Miles_per_Gallon': 18.0,…"
      ]
     },
     "execution_count": 13,
     "metadata": {},
     "output_type": "execute_result"
    }
   ],
   "source": [
    "PR.PersistChart(chart, data=df)"
   ]
  },
  {
   "cell_type": "code",
   "execution_count": 29,
   "id": "95b81bd5-816f-4fb9-ba62-54f09c5475b1",
   "metadata": {},
   "outputs": [
    {
     "data": {
      "text/plain": [
       "['No Assignment', '1000', '500']\n",
       "Categories (3, object): ['500', '1000', 'No Assignment']"
      ]
     },
     "execution_count": 29,
     "metadata": {},
     "output_type": "execute_result"
    }
   ],
   "source": [
    "persist_df_3.distance.unique()"
   ]
  },
  {
   "cell_type": "code",
   "execution_count": null,
   "id": "a57edda0-2892-4c1f-b486-066f59c56a79",
   "metadata": {},
   "outputs": [],
   "source": [
    "persist_df_7.head()"
   ]
  },
  {
   "cell_type": "markdown",
   "id": "3066d9d3-6688-4bf1-ad00-39ad1b5df821",
   "metadata": {},
   "source": [
    "### **Table**\n",
    "\n",
    "To create an interactive data table run,\n",
    "\n",
    "```python\n",
    "\n",
    "PR.PersistTable(data)\n",
    "\n",
    "```\n",
    "\n",
    "PersistTable is a powerful tool to manipulate data"
   ]
  },
  {
   "cell_type": "markdown",
   "id": "fffd1b0d-d9a7-4c7d-8dcc-62ebd81352a1",
   "metadata": {},
   "source": [
    "#### Selections & Filters Operations"
   ]
  },
  {
   "cell_type": "code",
   "execution_count": 15,
   "id": "e39c69cb-9e88-4bec-9360-4c9e9093fbb9",
   "metadata": {
    "__GENERATED_DATAFRAMES__": "ᯢ粠 ",
    "__has_persist_output": true,
    "trrack_graph": "ᯡ࠽䈌ʀ匦㢠⹰à⌡Ⱐ瀽䁖੘׀ৠ⁆ᄠ堦〤ㆨ噔ِ擫Ĭ沂♊⑑楅)㊤䈽᭞ⅲ૵画᧐省䯿傐䀺ࠠ᭮ܛሡᑀ‡㢣榠܃غ焨㧋ᭀⰠⵧ畠ʔ㥀ǔ⁘䈴ൌኦ䆠͓䝱⤂呬స଱ڦ䌦䋂悰偰側丰N使⾃Ŕ⃁瑹Ƽ䬸ᐠṬҦ䜩₂࢈员㑜庠ᛦআ⹡ʑ䅀厶儨គᡒ刧⃐͹䝙绻ᄒ䁏使㓗༄塁噖炫ᠱࡅ䀳怠璙㮘㏖漰兇ϧ㊐畑ɢ煠ⱊ֥Ȅ㑆Ქ±听ܨ䧰碎୎⇤㠲ຠᢀ告Ϫ碝ቆ䘢橝䝺⽮த儸ُ੅䒴䵁䦄㥜䃄⢵卐㉠晥兌喴䢒墔卍䬅祢壊⢙ڃ೨犐ጠ¥䂣琠⮸昢樠㥭☥噸ၳ㳵Ǡ焯ۈәŐᳰЊ甦凃朒簡ၭ㊳⑥वᏀ䡘✺䚅つ✰咀灌ଥԃ䌄फϠᶚഫπ塴䥨䎨笌⥤䑫ᢱᄯᜁ桰Ⴊঠ倵ậ矺ᳮᒳנࣤᤥӂ栬ጵ䞁ぼ༯䀱Ӟ獵儊噝ᅿ几梘ḻᅃ䚳⃖㞹ⱍ㋵㝹瑻з㟺໗⧶㠐⹷෼礡愂ఠ԰⑒殳攠䁧ཧ檀*ᴗ弆副಴籀Ꮤ壾࠱Ɂᐠ䂏ቤҏტᘾḪ碲'僡⑀櫡坣榚䍫劼呝Ӛᠫސ䞣壔籅怱焤䠊塘䢰㹜䎆∮䎰岦ᣀ䲠娶∪ΰ墪ðⳫÀ㚤ñိ٨个hᙒ懑ဠ䞱ঠ̩畊ဢ敘㨷冡⤴磭өြ孯㕴燡姞ଫ稞Ꭺむς燄㾇Ⴇऄ凧⪥ᷴ⚧ᶤ㸍⠼ᵦ䈏ᅩ䅣㢉සᔫฃ⊄↳⪎䶧ᚃ䲾✸੣ਦತ晳త湼吒䪆䱓ॻ䰬ᆫ⥄,傡ྶ倠ᒼยᛀ‰Ć2䗉样䗈㎷㔂㳸琼㏆級斫᭝ᦳ町ྦྷ煽ࡢⱥ╘㼯䫈ㅢ䓓㲁䄐⩧䄫Ḣ⃰㤢怤圮洀垁婥ፂ搲Ⓤ䧅ᝇᖙ⋀ᐷᕄ嵚㝫槷ണ䈒ყ峆Ꮷᠶਂ墠曣外Ǯˮ␊ᅎଧ綎Ắ綀㠇ট෪à畒`䭞塀䏭Ͼⰿ̰䶼䋶ⴱ䊀ᣡ<⸺挨决Ŭ矆Ō稶剔紸抐溿动潕掀尥媖攳瑵崲Ő瘼挞庸⍘惗㉼㱥㤮⁰ᴭ⃀Ĥ䧢㲅勀㹱嵎䚢筎ᥢ㝔皵៍笿圿㝸娕ȧ㟘䨲Ǫ䠤孼庫f利㨔ᰣǼ箰㪞ῠՌᾰ஛ಠḄㄈ僧઩᷇ګᷔ⪵⢊ᵮ∏᧾䥘◺䥱淵↘Ᲊ愾珺篾柽稯㪟湎嗲”够㭇叴⁾䬦穞埵ੵ❷⡠⽿樦亚ᫀӽᮆ䋹乶嫽浄ⲝ婾⻰垝⇰೯۩浽྅▞䋊೅ಕ⅜祠呺壋㍛⩲㕆⹤㍼ƣ䃸`ᣠ科夑ᘾ᫓☆庂㏜劄粴挘眣稉冻罀૓㭑僮㇆溃ᣤ⌁糿ԍ啚喹塑ג䝍㖞礂梩恤⠠䕏坹၅䐘㜷ݕ㘁䶃㙚∡㙥ᱼ੒ㅀ䂀┣‸Ϡᇩऎ杠焦ৗ䔡䭚ƀⱁ⁌ńጉ灾ټ㹲帜剡ˌ䈮ʥ຅¼㔣ᱺཙ煻岰ڣ潞㈶ㆅ⑒敡樠䳵䍡㖾塸ᇓ᭖⧖೧❐䩌ⵉਅ䌲喼㠲㓁ታ㈶⩪ὕ←*厘⠠䅚䟕䚾㗬埣恛傜㾧㨠ܱʝŸ秃偺乀#旉搲槍Ẋ぀拍⶧ⴾ授儩ゾ䭰☠瘝ᤉ̲ⓠ٣⁃Ǌ爥䩱ڡ熯±࡫䠵ΰᴦ搼⛪ᘫ笟洜橂Ⴁ屰䇛ᆣೆ犙␄╦⢭ࣘ洡രᖑ稠揝ᤣ怬૦⏨壇侭硈䶏ƤἩճⰅ协戜刽∘杢⓭碸㐠塵堫㊪஀䄶穎ᚲ惃汶⸅䋩ⳇ㥲眯⭫㏢䉌⋩欤୉㊫ὠ䱌䗒粪孍㗖牿㙀Ԡ堲抦ᇑᡎፂ⥦壆ʚ䘥冝ʸὨ惔䖷哉娛Ἤᅃ㌠杁ᅎೳ售ú☠㪗☪幖ૃ⯅͌ᤶ刡搿⫘◵䖁ࣈ旐܎䃠䆧ㆾ⸄ᗪ嵼⿓岝㦥᎑磈向壉渦г࠷崺Ơ百摦Ǭ⡸⅙㎼኷ᶒ㐶牒ೋ䅇䎆䬥泣ी系₥姡❙࡫⬄湪≶啦Ὡْ⼧ᤃ⛱畁ⰶ䫶媛▔佫瓫☆熰嬗က፦㍮亄⤣⟚ఴ穡欠懵缋ᠹℽÈཀ㻛声͔᳊ޖ瓥℞掠䶦TរộȀϯ紾擩ࢺⳙ᥸煐刻ӄ嬻〢屒ʵ扦䈣㪈ޠᨺઆଥ憎۞≉帢⽘犌紘榫ᑇઆθ㙞ᔰ慊䆆৶嘲梄宅᱔洢ڴ㦔寑ႎદᢶ♝ຎ唠䍛氈汸㤑埑⧏᫖ᨁ♄ጦⷫዕ⍜᎗㞗䄮䵁桶⽖ग़甼Ⓜ䇍⏔䴠慎İ⼖ಊ˙櫯狉စ椫Řᙪ檒∑䒒⣮⸳ڰBᚩ怠ˋ晩捇ἴG⛵❣圔櫦ዪ᱅旷嶎☺๋旫埨岀⣦嶕զ眑䣊湑⇽őᖢ╉侉畼噢廥ǝ磪䘯唚⿞ܔ␗劕㒾娎ᗫ櫄㋛㶵㾵喃ſ⻏䩷⥴䵫哳⼽ᚴ஖嵛໌Țや礈摎擩ۊ 㩔掠媾寋唉獚縙▄ཱ椾咡⍞䆲߷⃇劇堩䃰ᱩ࡜⃠ᴢ怣䣤㢣኿倢ᒶ尋㾆๫㗖秭ᛎ毙墀䇠娫殦疘ὂᄈ́湕缫摆ౚ⍸ㅭ棜䌉嬵⧓ᯰ焽Ŝ㬆牞ఄ䕦ࡽ䍅⺮䗃๩䄵ᬗ᪸潑砨ه泖俄筮从潌惈㧙ཱི㽾戲姮〼ႚ癪ᠶバ㱆⑞Հ㐥䃵䜰㦮䃰ϗ⹿Ử⒐榱ὔླྀ௖徊㏚䑴惶ᴍῚ佌䡏⺕涘ᜦ␺圅惆▍囦汨ⱼ㣨橫ᬌਾჼ幂ᑻ婋宠▗Ṽ⁊ŪᏑ䂇㾴ម獎㬍き溄Ϻ㶷姬矐毎ጾ爇3欍挪㷽窞㷃˯⽻洵ሠω⛀ᒕ⣈潺懜䷰徺㧱砫〡ቮԔ宝㫞Ṯ禮畉䇹缳咚ᬳI籝㠹⯓ፁỮ䔰㊰⚄懑ᆤ䐿㔓㶴窪挖䬍ε帊嘔䇋㟱縀㘮備ͱ䴣抅曣戁挼౧ʅ㱨妦擽໨⚸⢖Ჹ䵊㲖ġᰩ⤤嚡獉ᵩⅮ婖ହ巉⡆ൕ㇉峘⻦婷密䶘晆᪑殣╤檡繓㎦䱙戨奕᪶瑧棆㷶⧊䷤懌䰮ஹ΀䶆擣ᵎႎ曰ྂ梳¬༌㺦ౄၱ䷠䯴每喼悄窐禳ḀƊÓ෋㱢殢ን䅏㵌Ԕᣐ礼ⱃ⢶欃㣊ⵜ⸴朅碻㨜✴焐ඦȏ՞泅俞⨇浠䘒प㴸۞䣡う糰ෞᴐ㬾Ǉ极ᰠ㢞ℐӞᜭ⾵ᇼᨁ渖垠涋毚懰㞨渆䲄ឧ栠ᆀက㠠瞬࠶无嚧ി⡾^帐偢丂ᦌ㽤ᶹ灠϶䛳༻渎无䘥ᑑႤ䍞棡怬hொ敁崳増懔䢣௞㴫撾挕⟝氹䆾ଓ㶵㵜ࠪ䐱˔൱习憠॓縁朞Ѷ⏁ѱ⚮᱕㌾ഠ᮪娳ీ 枠䖻Ѩ䕮䐨恤䌉朆椩禡࠭氶掓ࡽ崾ᕁ䚕㱪⋲ᨤ㭵秖䱴ᅨ橠ᒟ䁾܄䈭୑̸ᗆ昭㢽㖵攨ᐤ㑱⇈߂䨦灝痄䍄㐡၌↗䑐嬲桷嶔ᴺ嬁Ձ䈳⦶ᄓᢊ㐲䁖㰦填Ċᤌ䚬崬╺რ歗攷⊚ῠ抡怵㕄ୱழ牯ⷙዱ烧㑠叚ᝠ严瑨吚抜$உ୰怣 Ϙ產থࡺ➻怲惥ࣺṤ怲ৰ䭹ᕤ亭࢘ࠒᝦሻ჌Ė׫ᱏჄԀⷹỲ灺Ꭸᮁ羫笂䰐涥㵐ᆘ䒐䡦㵕愱ࣿ⨉㱄䃀瞦⸙䅵ಏ嚖ۦ慡໻ടਖ਼癇縧ࣥ$ᦠ䛘珥᧤兢煰ఆ㔺恂䪔෠昦繋晞㓷᪸ᡑ燄વ◇ⵃ娔ഃ㣊ᅊ⪡䪼௑∩吪盀ᒃ兑⹰䏌႑籏ࢥ֤៥᳹䘦⋘㱉᷵䫞儺ᨲ悯妥ด⇅⅒⁆俘᮳䥞᙮ክ㉻⥟漑僫゛፧ᘶைร漡楮俩⯆㈾稾乿⩣㩗榪璾แ剨⢊ᙷ〄嵛ဠ⦲㢁汔֎朢䂅䃣呕瓴䎘畟⦈⎟˳啛ᇶ䙜呇ൔ樆䨌ᤴ浞抧囈䲳ⱡ䲎恤ਡ瀦ዯ㍵዆䠠₌⤲ἢᄹ᧡䴛ϓ奒⤭ິ獦㠷䨒䴈拇ᕘ⨝ໟ⪅ၽᨋ敦ണ㍕缐叡໧ᅤ烤ᛣĸ䭋຅䧧〦⭈䙤璠䔻⁆焼ហ娦ݖ任䥸İཛྷ䡮灕ᛦ淣㥼あ⮵䀠䐤⧼徺␽⤣侤揥ᡊ⩺ቐᬶ栴夂⃌⼓綯䇨䞄寻猭䂑àສ咦祚ຑẤ勦䤡牐抉㋴ἆ୭ҙ〾碬ⱷ⮃嶹皌⤂攣㌻䖁䑈ẩ㩙䣾ຢ瓊嶩啌ⶊ笶䨳䖽⺬㝵磏喢⭴硵㕏պ䄪䫠ᚠbቈ᪞⊭ὔ䯫ᩳ硍ᚙ婌呤粣Ԍ泣أ␓ੰྃཛྷ䃘ྴ⫢椮咒ߊ慍澯爹䠙я㪒૝᪥㽨䆀㉳ᤦ啌䎾^䫑ⵎ悮䫰柅瀓⊿糿੹⨴ᆨ˹䕹͋ᆭ䫡᙮ᩔ㙢ɥ⁎䞬֐⫾ב⽏ⶄ⭥ⴵᇭ䦪㴵檨㟃⑊ぬ懜㨠栱RΚ娤层䢈u包店屪夙㣷▰㱬ᶶㄕ啠汨õ䂫㵒∝䎕ⳁᑛèक㱤屌ီ✕灤൥段嶕ᬷ⮝櫕凱柋殇-僕ᜦ畍↟ɚ㐢樢ⷌ୒帔᝕ⅉ乞ඵт䤑ං瑫丨㯓ॠ䄧戽ㆈҀ≬峄刦ᏸ䛎ㅫ⭽乕两䵫槆寥廈ঔ␆ᄦ䖨䎬൱䡀㐡䍪෿溦嶮掞掬妮ⱳᥰʨ模⭌パ᳎ច竭岃䰘泹劌卜ᕹ歭䷮歇䫢匀澍縭ᩩ婝ᣍ䦸⒒ǘ癋回ㄼᗭౡ䙡ᆁ࿠柴ཞ⇷᭮䞐侈⃰Ű彍去儼䘅睧㩘䁟䕤䐈槝愚䠺⑪Ⴞ珞ᩝ㨦䢼Üॡ爌珄àѠܧസ㤪弍篭篌㓲栾挪⛉䉳⮶Ǖ川焣塰╆偀䃣埂別灛夁ଽ䆡㬸磥ጀాޖࠚഹईᄔ㪈ౣ礋წ≯䤍ᾊ⹜淽将淑㼳宝安㏍ЮめĞ㯖ቌǈˠ簥ဴĈ࿡寑⹱Ⴋ϶䔌䡑嫎嫍㎋嶆婢ᖍ嶍㶑ㅡ命斪ృ楗Ž峭榞㊋徘㬈揟絬嚭૭ᱻ㪑妑ቷ妅ᶛ庎搮ち࣯嘅ᮕ䊟᳛᝝窍䅜↲෠瓥ᙔ䙣徚㣣ာ絷櫎号瑕䷓۸侑அሿ᠎এ䄅⨹Უ࿮瑒⤔Ƀ塧䒠ఏ⳱椿ㅩĄッ䈣煒䞿⾒Ἡ5⛤㭳䤾䈬䚺㽃嘔⣻⟁ǳ箍Ὗݘ㍠㞊㢯ܧ朘榻筱渒ި䑤ㄋᩣ姠挱巅䔬攸癧‿̥刕හ僶ݣ季簺䝱كɣԎ⥸᪶ឞ↤䎊ᅌ㗑欸პ䬌㑹笌㤃㮼ㆅ圼Ꮫ㮑姽㫯Ꭿ㭉⑭焭འ㐨䝑五ஐ箇怅稍䅊掇ਔ掴䐦㯈ࡠ䲢ᠼ₲㵎ᰢޕ䑔ڝᲺᖔࠔᙵ柪䮂څ卵晪╆㑠ۓ䛷䥔㇅ۭ劥洃ᰝ䵃楎⑑栄㡍⺾狦朙㏶涺ૢ履㢓煿嚦嵸㸵㠧㹘榭࿕䇇⪔棍׈⨌匨甶♌ֹᒑ橶㵱㼨䙍泃嶂ࠖ倮䖮⦔㎵䑀礻࿥祆࠹暛ϳ᪺⑟☺㭃憿⁋✤๓唺㳩䝾㠱㙊恇朁凐欍紁䮟殦咏ᙨ᝿ɦ櫪ዄᝄ؃㠭䋳䰛帝怏羑࢐ᒡ䰩㾀‧ᅻ罊徍ʩ庡⇯窲ዱ㘳罉皙ύ㏻仺த❼➠炢制煷柂敲䙛娑ࡐ勧䆺岻ಂ奷ᢇ笜嗌䃋䡼ᛕ㩀ᵸ砧䮀䫕⺤㑕噼࿕༥Ἐ⯏ᱍ㩹箣ᚿ᥍к喃ተ㒴Ⴔ員ㇾ䕴縩➬嵽㼸㚦≇嚬̈́⺭笙ߚ㐛ݿ缓坯⩄睽ǦÝㄧ⚿偄柊⭲为⒞檆汒ⵠ怢浖墕ᷔⲯᵶ❥㭭㍃摖䍋幺泬┵㿓兺ᳺ圥嬻炕ᤘ㬜᲻呕⛢᭱瀓ܹ⍳䚓㋽䲋㣭㎌唫ʋ吹㜛坻ȉ票➩寻ⶇ眏ᗙ恊ⅳ⨇㎧㷦཰ᘷǎ⫸∤晌⚏⪬⅁䉔イѩ⟒㬵⥃䆝㰨⭙哜喛㝘⊏೜冠⠌悑筙浭婺䄃睪崛⊿剻玅廫溢䟝爜ƀ䀴䘁♊匷␸睃∕ကᅉ䈝土㫞Y㫲๠繈㑙笆ྮР  "
   },
   "outputs": [
    {
     "data": {
      "application/vnd.jupyter.widget-view+json": {
       "model_id": "f649312dea0a4bf5a471a2efc0f50afb",
       "version_major": 2,
       "version_minor": 0
      },
      "text/plain": [
       "PersistWidget(data_values=[{'__id_column': '1', 'Name': 'chevrolet chevelle malibu', 'Miles_per_Gallon': 18.0,…"
      ]
     },
     "execution_count": 15,
     "metadata": {},
     "output_type": "execute_result"
    }
   ],
   "source": [
    "PR.PersistTable(df)"
   ]
  },
  {
   "cell_type": "markdown",
   "id": "355531cb-60ec-4c78-b781-eed49c233f74",
   "metadata": {},
   "source": [
    "#### Search"
   ]
  },
  {
   "cell_type": "code",
   "execution_count": 16,
   "id": "245bf8b1-a245-4ce8-a59e-c3f7d33fa44f",
   "metadata": {
    "__GENERATED_DATAFRAMES__": "ᯢ粠 ",
    "__has_persist_output": true,
    "trrack_graph": "ᯡ࠽䈌ʀ匦㢠⹰ಀ㬴ԁ⁦⠱䁍ཬ䐢怬总٣ᢆ傠䱔ѐǮ浫氪慩ᐠ▴ሰ瑹㠫ইᛋ⽪ᆫమ⹝籠ð䀡嫑憫噀ॢȠ௖䠸ᢀ地䆼廒䀢摗⨠Ꭳ删᭦擣ˀP灙д瘼แ಩䙢䑅㏲梐擜粐䔺ɀ೥ށ\"璕㪖⍄㡮䔿櫡ㆢ䀣擠䤘㒐碏ᱛ䦦⍄ᗀ琡㙐୶₨ᖬथᣒࡠ㬱ĵြ㦠᫬㫫盺ִƜ㬛▪⬪ˡۑ室Ⳡ晌¾'ᐓ另ʭ官䄩຋ᛪ挹䠰Ѧᅠ⠴䂬ᨱ汆ନ䬐株ᢥⅽѢ䦯䪀㢞僋愭噷䐆ၕ⪆䐬㫲㨸ᑁ॥永乀䥄⥔䍌⎅㦜䣂⣭ᄇƶ੥典幈䭅⦔䴩䬒礢屌⪵ᔣی瀡䩦࿹加$岡怔ʎ歕␮㤀嶕漂碜罊滑棾綣䔇ࡐ氾ѡᄄᨽæヸ乗଴樊䛞廴痚廟⯢ジᱵ๔䷆灼惒㖶杦旐䆖緁枕ᶆ弥斗ᬎᴼɁ䀠優ʧ国⁈Ȥ㤈wᠳ婛䬯፳甡䦿࠭棒㳠案ᔠ₏ᢿ掛瑈Ᏽ檈㲂>九侔Ụ玊唍厢瓞㡷㗦祚澗䡮䈬ṇ᳗⊢僀♓ʦ愲᰺i琹ׁⱁ↉㰧م傳Ǆ娥猱ⰴԱᮥ䛽丮皜䞡盢欨ߡ⣕䟡汆ې䱘⋀撒⍃㱅ৰ䰷ۑԨ抃夳กԳુᱩ枢⁂瑣䢕䊽桨Ǽ恋¸㡤瀡穒②䥈ȤẃχἜ㌕䱢㔭ज़䈀䄞ᩬຜ⁮㡨┫庈㞑惞ߓ䀾ٯ湯吵戀քᄖ'᭬掣㎜徴橘ጦp੻楨㽶≄礨᥈ჵ↦ഠ⎶⪾憢簮䢠弼抚ध歨罺ᘦ䔹⊦產ᠨ窧嬘❷ឥ彦⊰⋁⌦ᔭ⎦㸹ᔠ  "
   },
   "outputs": [
    {
     "data": {
      "application/vnd.jupyter.widget-view+json": {
       "model_id": "429610b734ce444e8076187ef3e39832",
       "version_major": 2,
       "version_minor": 0
      },
      "text/plain": [
       "PersistWidget(data_values=[{'__id_column': '1', 'Name': 'chevrolet chevelle malibu', 'Miles_per_Gallon': 18.0,…"
      ]
     },
     "execution_count": 16,
     "metadata": {},
     "output_type": "execute_result"
    }
   ],
   "source": [
    "PR.PersistTable(df)"
   ]
  },
  {
   "cell_type": "markdown",
   "id": "2c7f5eff-050e-48de-8aad-21dde7aa1821",
   "metadata": {},
   "source": [
    "#### Edit Cell"
   ]
  },
  {
   "cell_type": "code",
   "execution_count": null,
   "id": "a970629e-eeae-4173-9729-d47803f18ad1",
   "metadata": {
    "__GENERATED_DATAFRAMES__": "ᯡࠣ䅬Ԁ朤壠ᜣ琢〹夤炠⹰〮⁁䁻қ䚾ኊ㇠നСࠩ瀮晼Ƭ穅5愠៤⠠ ",
    "__has_persist_output": true,
    "trrack_graph": "ᯡ࠽䈌ʀ匦㢠⹰̡࣠䘤ᥫÐʀୠᎫf挓攩剐挱ᓀ۠ᶪìኅ㋅ተ¶⡨⇳㌄ᕁ╦亩͆ᘽ嶛稨ǁ#ッ௜′䈤7࠽ᠠ湐慎Ⴅᣕ㈣%墎吠➛␠㚨አ䗨揠ˑࠠᲈ䤈幃়䖢➂ტ⊂燘ᢸḬᶤ+凵櫺ರ桚ಟᙙ䘪/ጢ⃃声栤䊔䄩ᖦ删ב䎹イ⁸と㤙塢۸䐫ᒥ䰡団Ɀ㫰Ⓚః囿䰡䳐ᤆ҅櫼ຆफ़〤砠Ḏ亾ᠬ㬓戸℆燑て㈤Գ䔌Īâ≸㼨䞁㡑ᔬᅚ擰優Ţ塼ɛ݂⊈㷧⊚异ᵦ漛㕇┫䈥㑮ၩࡩథ፨㉹๭Ϩ੥⓬ઑ椱⍞ᑫቤ⩽ᓫ㋙ᘿᑋଅƸठÊ柎ࣲ䀠Ȭȫ倡⻣ᠧ⠣䠠㥌ᒆ㖈㫱!燵㡚禢ݕ恰৳楙䶎╿犑᫢㦠ߴ㆔⍍☁稜◐⹣㋂ṑע╸ᙾ໧ᅅ㐩擣悴㑋ʓ慸ᣇ⹥ᒔ柖澄㡄䰮ྦშ䩆㭧儸昻ৡ焘ġ܇ፉᚲ懲琨ɴ┰ᅸᵈ湔䷆妣⃗䝶爦旑洖䎴氅ᷮ䮾揃䅤ᠠੂ㰆ᝋ吥a➰ჶɞ篓漀磜漰ᛞ㊘hत倢͜焿捜紱䇘翣推>䉩रࠩൿ氹䌨撂๰ḥᱨᴤ僘ᢥ䄽ڦൿ湡偎֢ौ橣牚ֻ䠬䉡㡶λ獪ɡ灎൧䠸䗠䁼ሡ䄑Ρ䐺想惇§畃⊉⵱䐧儑೅⥍ޤⓈՅ缹ᩥ‧⫆⤑ె䔑ᔂ⓸ႅ撪ኧ洑Ј紱᫐㹏䐑纓ಀ怳乂⒆捁宙৹ᒎ櫁笭ࡘ䔒䥳Ĵ࿚ጦ⊹ࡔ憠㎊ය玜择ଲ晸⭔ո䅡∱፨䊵劬勧㊢架䮒楹岝ࢺ唭◉ᩝ₋൳⚈y㞯ţ⯫煣.ሥ㩂旕皱井⻛協⠰䬀绕䏑ƨӣ懁䊭測㐐Œ愠硆۩碾ɀ栩͠ᤴ⒨⡌➁ᱱй搩恀Ⱖƀ杕㟲熣㘴ೌ⌴Ⲥ劵᳌刅犿ት湝⛵ⵛ┉嵔琸⑖⁼挤愤⮥䍽୓狼၆曹㭕柽䝐䍘矓睝さ痜➨ឝ圮䖝⳪柽㝅᜝⒳䠝ร䭖䡂〴ཙ䒍䤠ࢃ丶檂ٺ尷Ó硨т勭佑㊌塲㵦䥓㾠棈灐榡⍤沭Ӻ墢ዱ໷㫢ୃ⡰ᕒ义槚屜⃬✩נⲣ毀ㅋ՚䐶̩汄↠尩杠〰矸湧䔙彏悐㹿䪐Ɣ䖌爧㑱䨯㍱緆䑯ㅽ䘤ў畛催⃚坭毚ृ棌⽻椚彯槦∸䄖枝㲩ផ淛ǣ檛深ⴎ僗㺊⫘䀡䪦ᐆ橚崡檾⇠ℋ㻒㧫挆ว⹒рفᄕ綥祰ਏႯ⼡䐸஥䒱ᘢႱኦ傱Ԃ䁥㚫緕䀻䐲⭆थ⚔擬ⳍ≙⡸ᠸ堺僉⭍⁃።⍅ㅦ⧦䁹令⠤䃑䦒熬搃㳤ፖ㍸ኃ崄旬䜰秉夑⸪憾؄㌵矜ဩ曋Ǭ侢䵟ី䅒ந⃗䄥ㄢㅎ嚺挥剧ⴰ幺巂嬤ਣ㡁懰慃傘܁ᄭ慸෡憬⇘ण㢔Ո宎ᛣĠ瘱洬士౦壠⦯ᣩખ綄勶䧄拦捅䉧璴䗩㼨⮗ㄠ㠯庶ඃ扚ⷜ㙸巃䥘②ှၮಣ惌೤ᠮᅨ߂⻛pౡᱰ炞沦ჶᶄ๑Ӡץෘ䊦⢅࢐朊፣઎ᑲ幉涎ȣ籙➐䍭椫ல爫炦䜠Ḵᦜ㙧粄Ơᄣ堠ݐ䱄皬唉廾Ⰵ繩妓噣孕ʥᆐ䖕<䄯尵ॼ䠵Ⲕഘ⾵磿Ḑ㽇熨᠄意溲忧編ဘ䪿㪿㨕㆓䣌専摷ᴝ⿾獟尚群捊⭷ࠠذ咍䇴䂱⠷໙寫㑖䇑慪稿㞤ᶘ愠縨䧹ᶝ柮䕓Ԣ寚₆㿑灞䁀Შ䴟杹᭶差䢚ᯈ篽⮖㴼愎促Ṿ䨫烢䤱岓傔烼珳恜਎⦨↓໘䓻㣩䐐༱狳⤯卋懜ᘹᤌỬ澫䋈⁅㼿Ԟ¨㑁㖱ᄹ㉖គ慉渌䄫瑨⛸妩嬉஖ᠠ䋚ᤋ四厅价਷坚俋䭗⡢ⴰถᓳ⻝а䍧䍫嗹ࢋ⣘樭㭾㉺⩂盻殪⅗⎙㧘羢曨槭䩀䈪᲻姗橣ⴣ橦㞫ޯ䚨䯲⢲¨䴩៵ᆂሱ澦Ͳ枋♩⇨嘫剸ʠ㠣ȝ㥛暚㩌嚔㙉ƌ㖲થ渵㶧㋫䙉琼⥀ḧ湼⠸籸扤嵠ⓖჩ㒣吵ᓲ寥瞑Ͻ狭级嚡䓔䮾崖⥤፲綑ℶ勈✤弐嫝毡㊱⁒兰⒂沂ᶙෲ㰯䂘औᠰ减傣煘㦀ᘥ∢ʈ⑪༗彈瓐ʼᔆ㹣瞜旬㾟䯙စ࣠崒糄㤥㤺❔烽㽢瀩⹼楰☻䭩狗㧘⥶桪呐䁪キ⥵ߧ唼ᯋે䴺ྺ罀䛉׏⭦䥂拾痵堃㾬寳㋵哬嬦璈⤍ἰ㳻⵳ײᗈ晫⥤䚏燆杫榕᳍棲刖㹀䧏❴櫭஋䲶媭ᨈ䧍絛獎㎇滃⊢朴䋯余憻嫍ຫ罽獚⼷慂ᘰ主ᮇ囅喳֤夭崽ମ垷᚝ឍ⑗璔⸸描囀沩㝾თ↡⁖䄾嶣爦⠬ງ႓珞旉༕抠пॼ亄㳔皇㋯什埮඼嵊૛◺ᘖ⮖၄␎ଢ䁸ṝ∨䍭˩⎚ᇰ挭࠶ൠุᕓ䗱垿牐㜦ࢉڮ甮伆ཱྀ崆帜ᬥ忲p兩㸶ઢㄷ紪ᘏ8䇌⥞倅´ڱㄽR匌㉝㢮椡⁲憠ሡ䚣a嗕〠㞙᰽琾慊㼃榝牱㴿喛䎹˧ম准Ьↂ౥撵㲃ᕄቇ䓴丘罵⦭᭓ࢻ⬆ࢳ㘵ፚ廣峰歠ᾤ׉唨种ଫᡍ䃽㎖婷秉橃㱍涎⾋憋殰楫䎞垞㦶懌囵睾ଔ㛦痙殦泫⽖㟖熷⧖ᝓ㳿ฎ㖛䦩篛㥍嵖矮瞋嗎嘽嫮ᬂ墽ఢ瑲斂䥢䄃宴✩編࠘い刕窞綒慩ᦹᶳ㘅厛ᱶ↗ʡ㦖ዹᝈ叹ଋ緌ͼ儶ศḼ扂᳒㉝䑴䒚ሡ䞥දᄷ࿋⼌㷋㷣炒瞺Ì弖䜣禯䐔㼇尵罰⚕ှ亰ᬧ✦䔧洹ᣘ綮唈倰終㢐࿤䖂䯇殈̱箓पຑ刮ҀĺᎩ㷐㯨㲖梌瘷㋛ḻ૿䫃䕡ԁ᧠䣗┡ܸࡵ㣤ሃᤩ秲䈧ہ㋋צ炂㊆⬫㕥硒〳᲻⽤Ē猑ᧉ傥⚉ㅭᖋ婢℞睋㔧೶䈆㔫չ⍶曔ಓָೣ湁垓㎊巻䄥㘀璊ˣ曡㑉ウ⫾滔૗Ꮊᡄ婩㜰䠢䷨↌ࣳᙺ桀溊ࡰ篊䁙婺燰䛙⫶䇕㒗㵻⏩婭㊐ᜠ怦ၔ㞀٣⎧ჽ煘ᐉᐿ泬ˤ㘠⠣懟▹㻱❴幫ᝏ⳹玽㈪Ǐ㆒⊷㌅擽⇪ွ䁕捠ᨙ㇢经盟㬢濦琯烠ᐘᎵ䃏牰Á年缇癀٤夦纲䇨搚剅縣癈俺唿癐埿∤石缍ಧ㈘䓰丬咿㮛⟸壽玿⩛篰㹸燧㝡㓬Ƭ㍡㌻戾縤ހਡ恔¼眃᳋䡡⨢㐷ᴩ榻ƺ円ⓛ灚⹜ឳᇋ禬䅪烀䫚ⵦ溁煐禈ⷿ⼔ಘ溦㑅燞瑰篥ᷳ焮甯⟦с爟๐容繈湡瞕ଥ䑬৏भ࢚嗾य़ೳῤⱂ湑砑㹲⾮慯懜㙪Ϊäԙ⏰怿ऄ݀Ⅲ堠䀸Řⲋ௭᳡ලຒ⯾㚱ପ⶘扝㪋と䱠椣Ⲇ⭅曢ᆻᅽᶚ托㢦䘐ℸ亥ህ೟ਢ㉛ሗ珈琚ੑ刏矸ဠ "
   },
   "outputs": [],
   "source": [
    "PR.PersistTable(df)"
   ]
  },
  {
   "cell_type": "markdown",
   "id": "f1fb630b-fa93-441f-98e6-33eae803407c",
   "metadata": {},
   "source": [
    "#### Column Operations\n",
    "- Rename\n",
    "- Delete\n",
    "- Change Data type"
   ]
  },
  {
   "cell_type": "markdown",
   "id": "15e3c565-6568-4e69-b3b6-34de7814f231",
   "metadata": {},
   "source": [
    "#### Assign Categories"
   ]
  },
  {
   "cell_type": "code",
   "execution_count": 17,
   "id": "483f8adf-a44a-4f3d-bd15-d2ac32b5d0fc",
   "metadata": {
    "__GENERATED_DATAFRAMES__": "ᯢ粠 ",
    "__has_persist_output": true,
    "trrack_graph": "ᯡ࠽䈌ʀ匦㢠⹰ڀଠ䲈ᦠ瘢త瀫‵䁃Ჵ䗎⵽䐡旣㺄柠ᬠُ娶䣻䥈kᑄᄈ夑঴囋⽩䖻⤮ẜʤ䀡傠Ǘ怤ㆠ㥀ॢȠா䠸ᢀ眰䅽忐ಀƊႅ\"㣙အ娠嶝Ƴ䳩෯圑ࠀ沀倠祐቙᜻䷪✅抲ᥙь素ⶬۿɂߣɠ檍∰ⳤ⒞壺怭ハ愤篢ᄠ徝ë┿ฃだ畤䄁䵐㪻G䀡拞琑䎘穖Ⴢ垛⏞᳹Ȯᒲ䎙凜傔汆شҭ੫䛆᪓➩堸਷уಥ㘴䍡儖㫫㒱ሼ⩤Ļᆃࠨᛑ屲☧@䠴ᔦ䏀ᣬ⬽䌂碼㼰☲ሠ⮰∱᷼椮ᝇ挴≪䩯⧩ⵕᒪ  "
   },
   "outputs": [
    {
     "data": {
      "application/vnd.jupyter.widget-view+json": {
       "model_id": "a9fba0a540e24c7bbc5af618cd379857",
       "version_major": 2,
       "version_minor": 0
      },
      "text/plain": [
       "PersistWidget(data_values=[{'__id_column': '1', 'Name': 'chevrolet chevelle malibu', 'Miles_per_Gallon': 18.0,…"
      ]
     },
     "execution_count": 17,
     "metadata": {},
     "output_type": "execute_result"
    }
   ],
   "source": [
    "PR.PersistTable(df)"
   ]
  },
  {
   "cell_type": "markdown",
   "id": "94a72763-7cba-4fec-91f8-8f673585a7e2",
   "metadata": {},
   "source": [
    "#### Using output dataframes"
   ]
  },
  {
   "cell_type": "code",
   "execution_count": 22,
   "id": "97add61b-8b77-40e1-8a99-80da51e1ca12",
   "metadata": {
    "__GENERATED_DATAFRAMES__": "ᯡࠣ䅬Ԁ朤壠ᜣ琢〹夡゠⹰〮⁁䁻қ䚾ኊ㇠നСࠩ瀮晼Ƭ穅5愠៤⠠ ",
    "__has_persist_output": true,
    "trrack_graph": "ᯡ࠽䈌ʀ匦㢠⹰ۥਨ憴ᠫÔ䰢ᠬ㟷ਢ墇恇੪œ瀣䁓cᝰށↃॄ倡ᙰ䡡劆揨↴岵ක⛍ᷙ砪ࠣ℠΁摦ཤ䁅ШNლ〡岁䍼℮㖆搩+ࣝ⠠亮␠㚨ඩ䌫䗁အ丑ᆴຒ┩¨䛣இ愲熐䒴刮⴬ඥȠ׵樋涬䠠ٽी⎲涠޳ŀ゘疕䩚佅ᚯ䋡䗰˸慌᳢ီᡄ᪒扁Ԍ⌦⩠䐶㣧ῧ㈾⠥笈ྶㄼቫɚ玎ӓּ堢㰠໯ត఩ޝ無ࢼ༽䇡ᦰး䅂䅲ሮ஢摸䘴୦⒘㢱ʦ帐㙃̱熈∠渵摜㟇慂㒀ᛓ抓厔烃श䔂Ҳ⮡⓲ಶ⎳搪ሱ≳ᑁ⡫䣮㎂碧Ử珒準⮷攪拉∀᢬灨!ఘ႗䀠⅀ₚ5湓ȕ<䎩ᢘ㖀◠ਊᇔ潔Ⴍྯ搩囁ᵤ䔹ࡌ଩ᗂ灐┼䈀硰㙻ƃ炬ⴱ䛃⹈ਮව⫚㯠璓Ჲ㨫ޥ搪Ժ䏀ᣬ㬫䄂礜ਰℑ⥔吣匈窝óŬ碃࠲㚺朓⋥兹綻㛢ϸ๧㷬玻粷㗶癚璐ᢦ\"䒂ᣏ曘䋀࡚爡᫠搑棜㲉ឧ昑ē䭗䈫ɢ倾兄׾̩ക智ឡဠ㵙᠜⁈ᕔླ垙⻑協怢͘Ί挜〯盙恳爢⹐થ㩄॔࿅נᱎʡ᥂㟀ᒙҬ㰵ㆀ甽Ʃ琯٭㠡ᎀ㰨٢⁇熑痘䀣ᘮड䁻偣Ấତ䑨℡囍啙ᬯ搘°ᓑ☬ƨሴ䅍㉑̀ᗒ䛌樽れ娯ૈ㕘ს஠㈬↸ガ冧ත熴ѭ䧊㛄␦㋭㍈儡皜䒒瑓京湱䄒䦪㍭㺆ㅤ櫁䗈⹆䬠㚬ѕ炙埴L埧䃮吇磮䀧ঢ㴵㐊䬢Њ熽瀠獛℀ᴰఈ㋘Ἂ㩏Ⰰɀ侐ÿ⡻䕈䥉妄䪱敬䃉禅⑈宆䫳孕䷲窞䟢卖߰♉䍐ⅱ斃䝵䪛❹梑⾓䳘䑋䎑渭䇙㝽濚滹䦘ۓ憘伥懙ṛ慨屇挘ࣗ滐僔Ṑ‧ȃグᅄ㵫ᘬ岏氙ムሥ䃷攥儔奒㪤Ⴍ磴ᒯ傴㴭凼ᾧⓌ㌂博䌲䣼ࢺ⍪ܸᄲѡ桞͠ॡ֨㡪ϡ㛼o磙䔡ӧ湭䔖奐㙶ƒ䜪䎡畚Ȓ畧ª䰢⯪庩⫶℈檘䧬勜⿯礡Ꭹ叔䮫劄Ġ㌴▂傋㪯ⵔᎄᄷ㕠燡⌯⓺䖨⸍榄皬喊冋ڨ涻⍢㘜ჱᆢ炊ೢ撁ଃᑹ玂侷猲䧤  "
   },
   "outputs": [
    {
     "data": {
      "application/vnd.jupyter.widget-view+json": {
       "model_id": "110f95c583e34d1582ae670452309be7",
       "version_major": 2,
       "version_minor": 0
      },
      "text/plain": [
       "PersistWidget(data_values=[{'__id_column': '1', 'Name': 'chevrolet chevelle malibu', 'Miles_per_Gallon': 18.0,…"
      ]
     },
     "execution_count": 22,
     "metadata": {},
     "output_type": "execute_result"
    }
   ],
   "source": [
    "PR.PersistTable(df)"
   ]
  },
  {
   "cell_type": "code",
   "execution_count": 26,
   "id": "90db6b53-ea7e-4431-89d5-ce6c17e03fe1",
   "metadata": {},
   "outputs": [
    {
     "data": {
      "text/html": [
       "<div>\n",
       "<style scoped>\n",
       "    .dataframe tbody tr th:only-of-type {\n",
       "        vertical-align: middle;\n",
       "    }\n",
       "\n",
       "    .dataframe tbody tr th {\n",
       "        vertical-align: top;\n",
       "    }\n",
       "\n",
       "    .dataframe thead th {\n",
       "        text-align: right;\n",
       "    }\n",
       "</style>\n",
       "<table border=\"1\" class=\"dataframe\">\n",
       "  <thead>\n",
       "    <tr style=\"text-align: right;\">\n",
       "      <th></th>\n",
       "      <th>Miles_per_Gallon</th>\n",
       "      <th>Cylinders</th>\n",
       "      <th>Displacement</th>\n",
       "      <th>Horsepower</th>\n",
       "      <th>Weight_in_lbs</th>\n",
       "      <th>Acceleration</th>\n",
       "      <th>Year</th>\n",
       "      <th>Origin</th>\n",
       "    </tr>\n",
       "  </thead>\n",
       "  <tbody>\n",
       "    <tr>\n",
       "      <th>0</th>\n",
       "      <td>18.0</td>\n",
       "      <td>8</td>\n",
       "      <td>307.0</td>\n",
       "      <td>130</td>\n",
       "      <td>3504</td>\n",
       "      <td>12.0</td>\n",
       "      <td>0</td>\n",
       "      <td>USA</td>\n",
       "    </tr>\n",
       "    <tr>\n",
       "      <th>1</th>\n",
       "      <td>15.0</td>\n",
       "      <td>8</td>\n",
       "      <td>350.0</td>\n",
       "      <td>165</td>\n",
       "      <td>3693</td>\n",
       "      <td>11.5</td>\n",
       "      <td>0</td>\n",
       "      <td>USA</td>\n",
       "    </tr>\n",
       "    <tr>\n",
       "      <th>2</th>\n",
       "      <td>18.0</td>\n",
       "      <td>8</td>\n",
       "      <td>318.0</td>\n",
       "      <td>150</td>\n",
       "      <td>3436</td>\n",
       "      <td>11.0</td>\n",
       "      <td>0</td>\n",
       "      <td>USA</td>\n",
       "    </tr>\n",
       "    <tr>\n",
       "      <th>3</th>\n",
       "      <td>16.0</td>\n",
       "      <td>8</td>\n",
       "      <td>304.0</td>\n",
       "      <td>150</td>\n",
       "      <td>3433</td>\n",
       "      <td>12.0</td>\n",
       "      <td>0</td>\n",
       "      <td>USA</td>\n",
       "    </tr>\n",
       "    <tr>\n",
       "      <th>4</th>\n",
       "      <td>17.0</td>\n",
       "      <td>8</td>\n",
       "      <td>302.0</td>\n",
       "      <td>140</td>\n",
       "      <td>3449</td>\n",
       "      <td>10.5</td>\n",
       "      <td>0</td>\n",
       "      <td>USA</td>\n",
       "    </tr>\n",
       "  </tbody>\n",
       "</table>\n",
       "</div>"
      ],
      "text/plain": [
       "   Miles_per_Gallon  Cylinders  Displacement  Horsepower  Weight_in_lbs  \\\n",
       "0              18.0          8         307.0         130           3504   \n",
       "1              15.0          8         350.0         165           3693   \n",
       "2              18.0          8         318.0         150           3436   \n",
       "3              16.0          8         304.0         150           3433   \n",
       "4              17.0          8         302.0         140           3449   \n",
       "\n",
       "   Acceleration  Year Origin  \n",
       "0          12.0     0    USA  \n",
       "1          11.5     0    USA  \n",
       "2          11.0     0    USA  \n",
       "3          12.0     0    USA  \n",
       "4          10.5     0    USA  "
      ]
     },
     "execution_count": 26,
     "metadata": {},
     "output_type": "execute_result"
    }
   ],
   "source": [
    "static_test.head()"
   ]
  },
  {
   "cell_type": "code",
   "execution_count": 27,
   "id": "f904a8e1-01b1-44ea-b8cc-fa8552f7c5e0",
   "metadata": {},
   "outputs": [
    {
     "data": {
      "text/html": [
       "<div>\n",
       "<style scoped>\n",
       "    .dataframe tbody tr th:only-of-type {\n",
       "        vertical-align: middle;\n",
       "    }\n",
       "\n",
       "    .dataframe tbody tr th {\n",
       "        vertical-align: top;\n",
       "    }\n",
       "\n",
       "    .dataframe thead th {\n",
       "        text-align: right;\n",
       "    }\n",
       "</style>\n",
       "<table border=\"1\" class=\"dataframe\">\n",
       "  <thead>\n",
       "    <tr style=\"text-align: right;\">\n",
       "      <th></th>\n",
       "      <th>mpg</th>\n",
       "      <th>Cylinders</th>\n",
       "      <th>Displacement</th>\n",
       "      <th>Horsepower</th>\n",
       "      <th>Weight_in_lbs</th>\n",
       "      <th>Acceleration</th>\n",
       "      <th>Year</th>\n",
       "      <th>Origin</th>\n",
       "    </tr>\n",
       "  </thead>\n",
       "  <tbody>\n",
       "    <tr>\n",
       "      <th>0</th>\n",
       "      <td>18.0</td>\n",
       "      <td>8</td>\n",
       "      <td>307.0</td>\n",
       "      <td>130</td>\n",
       "      <td>3504</td>\n",
       "      <td>12.0</td>\n",
       "      <td>0</td>\n",
       "      <td>USA</td>\n",
       "    </tr>\n",
       "    <tr>\n",
       "      <th>1</th>\n",
       "      <td>15.0</td>\n",
       "      <td>8</td>\n",
       "      <td>350.0</td>\n",
       "      <td>165</td>\n",
       "      <td>3693</td>\n",
       "      <td>11.5</td>\n",
       "      <td>0</td>\n",
       "      <td>USA</td>\n",
       "    </tr>\n",
       "    <tr>\n",
       "      <th>2</th>\n",
       "      <td>18.0</td>\n",
       "      <td>8</td>\n",
       "      <td>318.0</td>\n",
       "      <td>150</td>\n",
       "      <td>3436</td>\n",
       "      <td>11.0</td>\n",
       "      <td>0</td>\n",
       "      <td>USA</td>\n",
       "    </tr>\n",
       "    <tr>\n",
       "      <th>3</th>\n",
       "      <td>16.0</td>\n",
       "      <td>8</td>\n",
       "      <td>304.0</td>\n",
       "      <td>150</td>\n",
       "      <td>3433</td>\n",
       "      <td>12.0</td>\n",
       "      <td>0</td>\n",
       "      <td>USA</td>\n",
       "    </tr>\n",
       "    <tr>\n",
       "      <th>4</th>\n",
       "      <td>17.0</td>\n",
       "      <td>8</td>\n",
       "      <td>302.0</td>\n",
       "      <td>140</td>\n",
       "      <td>3449</td>\n",
       "      <td>10.5</td>\n",
       "      <td>0</td>\n",
       "      <td>USA</td>\n",
       "    </tr>\n",
       "  </tbody>\n",
       "</table>\n",
       "</div>"
      ],
      "text/plain": [
       "    mpg  Cylinders  Displacement  Horsepower  Weight_in_lbs  Acceleration  \\\n",
       "0  18.0          8         307.0         130           3504          12.0   \n",
       "1  15.0          8         350.0         165           3693          11.5   \n",
       "2  18.0          8         318.0         150           3436          11.0   \n",
       "3  16.0          8         304.0         150           3433          12.0   \n",
       "4  17.0          8         302.0         140           3449          10.5   \n",
       "\n",
       "   Year Origin  \n",
       "0     0    USA  \n",
       "1     0    USA  \n",
       "2     0    USA  \n",
       "3     0    USA  \n",
       "4     0    USA  "
      ]
     },
     "execution_count": 27,
     "metadata": {},
     "output_type": "execute_result"
    }
   ],
   "source": [
    "persist_df_4.head()"
   ]
  },
  {
   "cell_type": "code",
   "execution_count": null,
   "id": "eff58716-b18f-4c00-9a93-3ed2443344dc",
   "metadata": {},
   "outputs": [],
   "source": []
  }
 ],
 "metadata": {
  "NB_UUID": "9b2f5bec-a755-4a5b-a877-fe1a880b9f38",
  "__persist_keys_record": [
   "__GENERATED_DATAFRAMES__",
   "__persist_nb_uuid__",
   "trrack_graph"
  ],
  "__persist_nb_uuid__": "be067817-dfa3-42d6-948a-39c4b95d3382",
  "kernelspec": {
   "display_name": "Python 3 (ipykernel)",
   "language": "python",
   "name": "python3"
  },
  "language_info": {
   "codemirror_mode": {
    "name": "ipython",
    "version": 3
   },
   "file_extension": ".py",
   "mimetype": "text/x-python",
   "name": "python",
   "nbconvert_exporter": "python",
   "pygments_lexer": "ipython3",
   "version": "3.8.16"
  }
 },
 "nbformat": 4,
 "nbformat_minor": 5
}
