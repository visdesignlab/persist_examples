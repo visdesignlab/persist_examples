{
 "cells": [
  {
   "cell_type": "markdown",
   "id": "721323cd-bb01-435f-a189-52f86ac438be",
   "metadata": {
    "trrack_graph": {
     "current": "5a5a00cc-06cd-4338-a90a-1365ce04ac27",
     "nodes": {
      "5a5a00cc-06cd-4338-a90a-1365ce04ac27": {
       "artifacts": [],
       "children": [],
       "createdOn": 1699995232057,
       "event": "Root",
       "id": "5a5a00cc-06cd-4338-a90a-1365ce04ac27",
       "label": "Root",
       "level": 0,
       "meta": {
        "annotation": [],
        "bookmark": []
       },
       "state": {
        "type": "checkpoint",
        "val": {
         "id": "0ed02552-2223-4b2b-8843-223fb8396132",
         "type": "create"
        }
       }
      }
     },
     "root": "5a5a00cc-06cd-4338-a90a-1365ce04ac27"
    }
   },
   "source": [
    "# PersIst Extension Tutorial"
   ]
  },
  {
   "cell_type": "markdown",
   "id": "0892e834-de92-4f36-85d7-deee12490be5",
   "metadata": {
    "trrack_graph": {
     "current": "5719397c-958a-4994-91f0-d7a66aa497ed",
     "nodes": {
      "5719397c-958a-4994-91f0-d7a66aa497ed": {
       "artifacts": [],
       "children": [],
       "createdOn": 1699995265084,
       "event": "Root",
       "id": "5719397c-958a-4994-91f0-d7a66aa497ed",
       "label": "Root",
       "level": 0,
       "meta": {
        "annotation": [],
        "bookmark": []
       },
       "state": {
        "type": "checkpoint",
        "val": {
         "id": "52dfacb4-8b03-4e0d-a810-0a3f919ebb61",
         "type": "create"
        }
       }
      }
     },
     "root": "5719397c-958a-4994-91f0-d7a66aa497ed"
    }
   },
   "source": [
    "PersIst is a JupyterLab extension to make interactions in cell output persistent. Persist tracks interactions for compatible outputs in a provenance graph.\n",
    "\n",
    "Capturing the interaction provenance allows us to save our interactions with the notebook, and replay them at point later. You can even rerun the interactions if the value of the variable in the persisted cell has changed. Persist will try it's best to apply the interactions to the new variable value.\n",
    "\n",
    "You can import and enable the PersIst extension as follows:\n",
    "\n",
    "```python\n",
    "import persist_ext as PR\n",
    "```"
   ]
  },
  {
   "cell_type": "code",
   "execution_count": 1,
   "id": "dbc49dae-f456-4ebd-9146-4ae6ba83838c",
   "metadata": {},
   "outputs": [],
   "source": [
    "import persist_ext as PR\n",
    "\n",
    "from vega_datasets import data\n",
    "import altair as alt\n",
    "import pandas as pd"
   ]
  },
  {
   "cell_type": "markdown",
   "id": "2dc9acb1-d4fd-4949-843b-fa0afa32387d",
   "metadata": {
    "trrack_graph": {
     "current": "5719397c-958a-4994-91f0-d7a66aa497ed",
     "nodes": {
      "5719397c-958a-4994-91f0-d7a66aa497ed": {
       "artifacts": [],
       "children": [],
       "createdOn": 1699995265084,
       "event": "Root",
       "id": "5719397c-958a-4994-91f0-d7a66aa497ed",
       "label": "Root",
       "level": 0,
       "meta": {
        "annotation": [],
        "bookmark": []
       },
       "state": {
        "type": "checkpoint",
        "val": {
         "id": "52dfacb4-8b03-4e0d-a810-0a3f919ebb61",
         "type": "create"
        }
       }
      }
     },
     "root": "5719397c-958a-4994-91f0-d7a66aa497ed"
    }
   },
   "source": [
    "## Supported Outputs\n",
    "\n",
    "Currently, persist supports two major output types: Vega-Altair plots and interactive datatables."
   ]
  },
  {
   "cell_type": "markdown",
   "id": "0dd3f9db-f762-4cb9-ae32-e66f177df309",
   "metadata": {
    "trrack_graph": {
     "current": "532e7b35-40eb-49bc-bcf5-4ac20f338809",
     "nodes": {
      "532e7b35-40eb-49bc-bcf5-4ac20f338809": {
       "artifacts": [],
       "children": [],
       "createdOn": 1699995589077,
       "event": "Root",
       "id": "532e7b35-40eb-49bc-bcf5-4ac20f338809",
       "label": "Root",
       "level": 0,
       "meta": {
        "annotation": [],
        "bookmark": []
       },
       "state": {
        "type": "checkpoint",
        "val": {
         "id": "6680bfac-15fc-4ff4-b8c1-1921d906a0ec",
         "type": "create"
        }
       }
      }
     },
     "root": "532e7b35-40eb-49bc-bcf5-4ac20f338809"
    }
   },
   "source": [
    "### **Vega-Altair**\n",
    "\n",
    "You can create any interactive Vega-Altair plot and pass it to create `PR.PersistChart` to create a persistent chart.\n",
    "\n",
    "E.g.\n",
    "```python\n",
    "\n",
    "selector = alt.selection_interval(name=\"selector\")\n",
    "\n",
    "chart = alt.Chart(df).mark_point().encode(\n",
    "    x=\"X:Q\",\n",
    "    y=\"Y:Q\",\n",
    "    color=alt.condition(selector, alt.value(\"steelblue\"), alt.value(\"gray\"))\n",
    ").add_params(selector)\n",
    "\n",
    "PR.PersistChart(chart)\n",
    "\n",
    "```\n",
    "\n",
    "The above snippet of code will create an interactive persist scatterplot with brush interactions.\n",
    "\n",
    "Alternatively, persist comes with `plot` module which provides helper functions to create simple plots like scatterplot and barchart."
   ]
  },
  {
   "cell_type": "code",
   "execution_count": 4,
   "id": "b58f8f0f-8f4b-4346-8c48-3b0b22d758af",
   "metadata": {
    "__GENERATED_DATAFRAMES__": "ᯢ粠 ",
    "__has_persist_output": true,
    "trrack_graph": "ᯡ࠽䈌ʀ匦㢠⹰恓¬ѐঠ䘼׀ৠᖠܱȡ〬怡仑ᠣㇰ⓼㞄⣛⢹䅩ᐠ▴ሰ㑸礪䡶埈摥䶧᜾㸢䈠桠ú㏁䏱ဩ™+䑎䰠㜸ヷࡣ䵹夠ಀƂ៊)椄䀦梣僩桤䱚ᕓ¹亠ށ䍱䨈҄咆♆⪵բ⇆⧱榀†嵽ờ壩ݫ唒ڂⲀ倠祐቎॔幢⛣傳ᡨⓚ{౅匸∩䌤䍮Ɽၽ䐰喘⋠ඎ᳠ގ䉊Þ嶝猊ጳ榀䝼淡ᚁ㎶o#䨅搃Ԗ淜⁤✧䞄恬搨ـ䢀ằբ䃈㘯┶僪尡ಳ凐ɇ䔤慰氹Ԣ䆸ᩎච祾ྤ䓱䁺⟑惭桂⢬✰▲咵ຳヒᲾ⁲ᑪ㋇橇ࡼ暔⬷䔲ᒺ↵玒㉞⡶ᒀ務⵴ᤊᜠೌㄝⵈ •攜砠࿁砤ᚠᱴ௲噦䀢䳢ᭌ࠱嶦怠䪍ࣰψ恂<渄塍䁥埇℀᝭௲函你敢傝ཌྷ␩㤀綕戁礜䃐⻗װ碇䡫ဨ氭ઢ䁱汜⦤⟱婲嚢䅜吽㈂၈⩇䒴瀲ɵ൦፲Ṏ๞ㆸ屁ᑤ礈就Ԣᅊ崻濔㦼䤦Χ惑㥅ୠジ噛০熘繀䇜㖺䎇ⷵ璦㈠殢ᓩ঴捗І⋢桶᫡墹໧堮ᇪ㤆a㣎෤㦔ᰦႀ*ᕡ⠡嗙‴ 䡨!⺀༮䇨㈆㴏ᐁû勡磠吵Ӏȣ㰲ࡃ㰦Ꮲ㱻䗆砲'割湄¢㴰䝱峦吆厹䛑᜽䚑慖䘑᜿䙢崴➩ऻĖᾦ砰ᠭ古⨳Ʉ瑦䃠櫬兎∩ᅶ䰦ðဦ⒠ᙂ⊀≣捉œ✩彖ㆺ᪮źᠦ毺㴱檡ሠǱ਺༴ঌբ穾䩫㒏ⴴ桙涵㽒଱桌咲㙀樻䍨昣⍸樰፸䦷ᡔ汚桱䲷㑴敡檦単梆呶᥹ἆ㲾ᦀ咰࿥䁬ॐᣑᅅ猯″ᴍ࿴尯ṁڱ忤Ḩб⛍Ồ䂂ቁ眯ઠ䒃Ԣ渰䨠仓兂˫ⶉ洧⫐ஏࠧ㔰 㱉ᔶ〶嗺㰜Ң⫣҅ಃȨ楾䋮穾㟵⑼⦬獖⾱㩢౷ਲ夤䩲䅻䇲瘧⯒紎−慵⣱剾櫒杴橨୳⫉絼䫚佱⡮২孼岷ᤦ䴻戤稠न尭灍Ⴓ寈恊栢⢴䝁俧砡Ꭺヰᑀ㲄㈎Ⅿ⊡㵴㘁儏ႣʊΦ֐ా䇫℅ⲋᶀ氱ᎀ⁻ⱦ洤ᔩ淛⾎Ձ㣅㝋ᐭⶋ㶈涻⮄ヽ䟓浰ޠガᡂĕᒸ㕭㧌ਾ硹੽⃬䲭ʇ産もߪ敷ල⬃悓睼⡓ⶠ燓ࠩር௴Ⲣ⠹姗⮗居⭍ᑙ᳃旒⋌唥ᫌᐫᐆ桿∣椚ࠍ痚瘤䦟㓫ᤠ喬ξ差ɀ⻯央ᷣϮࢩ㧎׿㥰䘵䍯泪⋗儲␐䈞⌉┿ܙ崷扔挷嫙嬳X嗢⦞㕲䷄ज❡籥ธ圣⁤宔༢ီ嚆媇࣬̄湾☟兩㳐ڭ⠩䂐ಡ偮ነണ恎̰૚႕ᭀ睳卄䝡満加Ꭳ䍠☐ゥ⁤܀Ԩ⚈偊磅恸沴琵ᔸ〘wૐ竰炨ଁ爵绳⒡̺ᗫ䄥⠱ʐበ⚑ೡ䤴ƌ᫅㹿䖡䳉䇌㋠抭浊੡䛇⇩⯂‹䋄ⶈ糑а榭̪圦Բጎἢ㰶批亹权䝘䆯ⶃ௚㔊યℵ⬲挜⥦⡲␐悪ऌ㔱ˆॸዣ⹈揼㾫≨⦥Ᏻဒ䐢冊Ꮰᩋ⊔㎸び䜄䮯㾕坲Ⓕ媓฼䐿࠻ᔠᜲ⍰☠ಂӠݍ䓕䒱栨㤷寓䥑抌㟥粟䊶ᖍ๎Ձ޶⃕䅣佒䉾᪡幭ߜ׏僕ة堦؛ᘱܨ獐ᤀ了ʼ䴻ᴓ䣙䮵㧷 綨ü愆ฺԼ╤祏ፘऽ珷ᐅ圣琈ᛇ䜠ر咝䉔䜍㡀ℭሮ崗ഷⱄᣗঃҞ捄硥€Ø㶢㦐Ꮳ࠾Ĭ䤥ࣺ̂㸯恄৘糳屄ᯙ╛ዪᝇ䩡砄ᕤᐺ䘀Ꮳ僶ڛ张挴ᤢ纅砜倦幫Ȥѽ@侙䣌௡㘓弴ᖠ䰍䉗検恾綏䎀患惟㡇ଷׂ穈公Ⱍᡜ぀ǣ⒛׭ī偟嚕暺瘎徳⍸捜㣛䇏啔偠ڨ䮑槄⧉扲煒ᑃ⦤婬㛉ݬ咰۠熵糩⍫⠭破঑ᷝ㌄⃧㬲פ㓫ࡓ࣓狥㊵勣噺孨ሆၽ䭜┢偷仁㞫⁗᣸⺒䝼峎恲⽅Ⲥ֐䵫㓇凸ᆴ桓ᚁ⣡糑␙ㇱᴤū及Ƈ⢡楢畄ፋ⨵殅䵧าࢼڭ偳䡊፦㥚㏂␼灤紊ฆ᩽㠵䂈ᘕ稭㦂漀䡼⺎缪滁؀䮧⑨ዩ⦉煼΄恂Մ戥䣿妑㵕㢲ᶴ㮰೘㿫峀⢙ၷӯᱡ⽂਷਴圬ឯⵆ㹩⮜纠㷣䞴૕㰶ᶛᙆ窺竉潨៾୶㢐Ⲝ࡬綰䌚ケ垢㧌沂ᖳ䭱≖吔盅倽⥅ᵳⓍ߉Ï⣉缾Ч⒕㨺瘜̋纭棘ㅯ❒䦚㟏๿⯁㛕憝㓯坧瞘啴䎛ᢰ墄獊㌇痓吀ᑀ䉓ͥᤢᎂ㏪ѭ⛺¨楐⌲䑦務ᡂუ⓼嘸摝櫐䷁忀呚卦砳㍐Ȋၖ㐊㽽卡呢燚枂㈕㨵䚜ᡸ䗈巪劏⬑㝡ও൒㕎ᱭⷔ沏ळ౎㌹玸奲℠嚈࣎坆ᇮ㥹疬左约Ⱁ≡ィ䲶姇瑮亭⚈ᦰݼ籥㢣䁡ㄨ䆬䣁ټ嗰㖃㐢♨⠩䋬ઠ㻈ាㅹ嚊媌竗㚳揹滸㨚濻❈㭭䤠栬ઘᐿ灸ᦽ硓䑮沦梿堦␍რ曹ᬎ判㦣櫬䟣᪮䢅ݑ紬燶೧㱈䡄ⷄª䗓↫ᦻ஠皊䄑㇗༴猜᳽㓩ᶴ博㓀簇↷ི皾歋凚₵埫ỻ㩩⮬䇸怪㣪唑曣燽犢⠍嗂㯋⛟⯰䩮疎ࢺ岸㽍⫕嚪维⾋ΰ⚟剔恔㘽䛳槏岉哾矕㈺ᎋ扫䕕羿岭䅯喤槓碵桙႗㖘瞲␡䡄℄㌢䂉洐Ⱝ‫䚨ᾨ惎猠䳜Ẵფ屙㌐漠囋᳍羟㣻➇搷㜋⾎᳣㐽檬ᶨա಩扌ྑ㙦墖厙欣䯶㻲㥚؁Ѡᄙ爮㱔ൃ弉⏤ὧ呕䜸㮯墘炠  "
   },
   "outputs": [
    {
     "data": {
      "application/vnd.jupyter.widget-view+json": {
       "model_id": "77213100f1cd4c3180239ea4f1da0916",
       "version_major": 2,
       "version_minor": 0
      },
      "text/plain": [
       "PersistWidget(data_values=[{'__id_column': '1', 'Name': 'chevrolet chevelle malibu', 'Miles_per_Gallon': 18.0,…"
      ]
     },
     "execution_count": 4,
     "metadata": {},
     "output_type": "execute_result"
    }
   ],
   "source": [
    "df = data.cars()\n",
    "\n",
    "selector = alt.selection_interval(name=\"selector\")\n",
    "\n",
    "chart = alt.Chart(df).mark_point().encode(\n",
    "    x=\"Miles_per_Gallon:Q\",\n",
    "    y=\"Weight_in_lbs:Q\",\n",
    "    color=alt.condition(selector, \"Origin:N\", alt.value(\"gray\"))\n",
    ").add_params(selector)\n",
    "\n",
    "PR.PersistChart(chart, data=df)"
   ]
  },
  {
   "cell_type": "markdown",
   "id": "33d88224-c199-41e3-9c83-05f75d9a013a",
   "metadata": {},
   "source": [
    "\n",
    "You can see that the output area looks different from the usual output for Vega-Altair. We have a toolbar on the top and a sidebar on the right. The toolbar gives us host of interactions we can perform to manipulate our plots.\n",
    "\n",
    "Persist keeps a track of your interactions and stores them in graph called provenance graph. The first tab in the sidebar titled `Trrack` visualizes the provenance for all your interactions in the cell output.\n",
    "\n",
    "In the second tab you can see the text summary of everything you have done to reach the current output state.\n"
   ]
  },
  {
   "cell_type": "markdown",
   "id": "b74296c9-2e95-4cc9-a343-5b714c28e39d",
   "metadata": {},
   "source": [
    "#### Interactions & Persistence\n",
    "In the next cell we have the same scatterplot, try interactively selecting points. You can repeat the selections as many times as possible. Try clicking on different nodes in the provenance visualization."
   ]
  },
  {
   "cell_type": "code",
   "execution_count": null,
   "id": "395506b7-7f57-4c0f-a7a8-8b49de034d5d",
   "metadata": {
    "__GENERATED_DATAFRAMES__": "ᯡࠣ䅬Ԁ朤壠ᜣ琢〹夢゠⹰〮⁁䁻қ䚾ኊ㇠നСࠩ瀮晼Ƭ穅5愠៤⠠ ",
    "__has_persist_output": true,
    "trrack_graph": "ᯡ࠽䈌ʀ匦㢠⹰໠ㆡءゆᧀⴠ䘡ⱐʀᖠ暒ʐ௜禤ɐ湬ᑐۧ⁓㥌≩•ⳁႧ⛫侸䳅ක䛬汙㬐ਲဦ䈠ۣᖬǉj࠰|∔怣㣣ט䈲曽䡔6ㄦ倠➇ሠ᭠௏偔㪹ဠച㒀䙕䘪/ጢℰ儂煢爴ᄶ#䜳柰˸懌ᣂာᡄᛚ晁ˬ⁧畸嘠歪䙀㟌Ḱؗ樮尘ᢈ欤➄␮˳ߎ堢㰠໋㝿㹏㎂ق猐㢁䶰′⤴㤴ത䯤⁁⍰䪵擴繦೩ªѡ燈埆ૡᄂ嗞䇖泄⒬ʵⵦ⒘戤ӌ坔䦡愐䉉Ţ冈سˠᇸ乗ߤত⼺%㨥䄳䷣ᎃ牜⥨⛈ⓒ㍩┈ⁱ䠠 "
   },
   "outputs": [],
   "source": [
    "PR.PersistChart(chart, data=df)"
   ]
  },
  {
   "cell_type": "markdown",
   "id": "4d4aeada-9b5f-4655-8c9a-fca92ef5ccb8",
   "metadata": {},
   "source": [
    "You can run the next cell to see and see the history already populated with selections. Persist allows you to save the interactions and loads them the next time you run the cell. You can use the first two buttons in the header to `undo` or `redo` your interactions."
   ]
  },
  {
   "cell_type": "code",
   "execution_count": 5,
   "id": "af55dedf-be3b-457f-beb8-6c95e244defe",
   "metadata": {
    "__GENERATED_DATAFRAMES__": "ᯡࠣ䅬Ԁ朤壠ᜣ琢〹夢゠⹰〮⁁䁻қ䚾ኊ㇠നСࠩ瀮晼Ƭ穅5愠៤⠠ ",
    "__has_persist_output": true,
    "trrack_graph": "ᯡ࠽䈌ʀ匦㢠⹰Ӡ✡䚈ჭ㐽䁍ٔÐ㑔䃬8ɒୠ᭞匨҇⻳祭张㌠๔⡩•⳦Ⴇ⋫䁸䲥㖚䙌浛㬗瘺ሠڤ-孛ಃ⑀´၀Úಡ䀦熦आ㛣厬6ঃᐠ৽撠۱\"壁永粖ႻԽщ⊩⎂ࢤ瑔≈ʛસ匾敇゠Ɣ䛦圫ርࣣ਽䟑䅠Ȅ恨㪜ൟ⑦䊯䏃ᄸƌㄖ沑ࡖలൟグ䎖ᇣ啀癛U岛ళ墬吢粬߫ƌٝ䄽㧗ɹ䋯氡Ḡއ䳟䘣Ϟ碠␾Ꭵ曢⳨ࠪ⋐剜ᤦ䍨栢పᓀ桱̿䍂ࡈ¿ƣ塬­ʫ墩Ꭽ甙Ⳮవ嚘伔冴垪ዩ⩽ᓫ㋙㹰噉⣅㥶㊤摬䉩ᛥ姄٫ᇩ犤Ŵ万礵൬柈搠㊥䰓㓀!+ᐫ怠㻇氶ᨠ煐㣪嬊*㸷⿐⃚潠ӀᦕZ䘡အ暞㶸樧෦㬮ߕ⡬Ⴊኔ嵜಍檑櫠䲮˴滞hᔩ嚱ጽ䛠傔ἦтথ攭ށ‼Ⴆ3㉬ᨯኂ㉷ᔦ㓻帧㮳斲じḨ䅃䢴ⴡ䚂堼ᜧ䐂тᢩ冈畽཯倸專ᑪ䏀♳ೢྺᛍ૯᳻㘰Ỡ牛溇᳸ᓛ⻗㇨採⑐4⁂⊎㯈Ԡ⁷戠wᠨή㸈禉௡磞ࠣ渌㾢ӡѪ@㯥ㅢ㯪ぐ㏤㄰徥〠㴥២⁈ᙐₜ཭㕆㍙梆঱墎གྷѩત䙅ໂ嘡ƀ吰䏣бក桘獈㏖׍⑙⟠Э٤㣉Ġ౨â嘴䩼ࢋ≂㉑༃摡䶹ۍ⎡⚬ݔ囑䇔秞 瑜ڥၩᒣ偱᧗偮⃥璖⺢偃ᴷ䉈ྱㄘત汞忴ۡ䰥܁䉂䙑仩偬ᒡ㚙ຢーঠᠩ䩆◉㵉౹㒢デᕯ⥒፪㤌⽫øኁⅴ⚨曮塁⤦ᆨ楰୭啀᢬㰰ᑂ㕜㶅≧癮`䠶ਣ崁ᐡ䶓⫡᥆䳴嫶喂曧䵱 ϼ䧡⬺悕◖㔤⬲ᐦ⃤ᦦЩ刘巜ࢠ垨癲⼥⚌́㞤筑杙᥍撙岴䎙筏搥岨⌥睟ƥ檼ህˍ᠔招ᐸ䓟ᓅ咃ᒵ㋔犼仍║㦧哵ᵄ䟐悤נ㼸榱ᇞԢ㚸ቱ⿑眜羰࢘次孢䇡₮攼㧈⧳⋮ᴡ㰈篶凘灮䏾˨墶氬塶ⲭᓶ㫡奖᛿ǖ氣娾䤺₠斘媶狠≶ⶖ婄嶈ₙΝ宀仩抸猥皊㩇⠺⍬撍⭆柺ᐦ䇦嵶䂚潷棽ᣎᑦ㭸ᔐऊ䃩簩ᤸᓿ嫱浫ᨤႬᏌဪϖᨶƄ⨠₀䶛Ď䈮嵤䛣ʩ≩䆸ᐽ䃰઻嬖哺ዤ晬⣄㐭ቪ๦⮒դ勤Ź㣲嗭㌔纾ࣖ娨⃦緺㋬握抾淞焸䯺稼䡜牞प爞恝章濷磞ࡢؿ停ԡ㯭祜塃瞉⑈䖑呆ᩄ斤〧׎ඪ⦾䨭⡦ᄺ߲ね⊐౤琹ʹ䤣Ꮃǹᡶ͐冦Ქ‵⩬ⱼɉ廢瓟⭠䰥䄘ຊ␲䅔ڣ࠭ᵪ䬦眼ᠩਧ惢ड〷䋄Ṣͭ哈⸤绕װ⌯⁛ኀ罆狰欭Ⅰ䎩勈䁑ؐ䄴䂪਱樺ᆐტY咚ഡ泜䨣⮷㤶旨⢭懬⨣Ɀ䉨䃫ࣕ步᷷ٴ࿱凌憸ᶣ汏̜嫤咍䒰窫Ⴇࡡ⨼燗⬵睶Ʉⵛ㱻ࠑᾬ⣎凑帱ǁៅํ㔣䋪㛕䫌㮨冐佡⌽ᅰ搴ⅾ౲㠥剽䒤䂮撠睒䭅媀ଲṋ煦ᣥ穉䜣֫∠䵱ರᆼⱲن‪ڠ摪ʈ㥠ひϨㅏⰸա斶䄡亡䩉°ݑ?䐘b暜恀˾↧ॡ䝊䉮ڡ亍޼㴦გ東悥ȏᓙෙ㣲™场瓀㬆妭泽ⷹ䁛䯘⨤ᄪওᜪ爙欋⼕搫Х峰ෙ䆗㢛⫆筶垈羊㉍ᾲ⇩ᷣ姲⎭ͧ⑯䞛咬㹫ೄ卄優ᅓ姡屟㬇⚄㴢痬ࢢ¨䁁䶫峤咁᷅ʷ㬤りͨ⢯䁱ࡅ∧喈̡ᰳ㯐ᑣ┾呀䄬悴༬దಈᦇ䞦À㩆悆柠✫崑ش倭䂦ਡᡊᏐᄠဤ䑀渫ᗴɸ巾࣊ᵦ獟ほ⫗⬻㓶櫯㜕䣸仿ⴭ壺簪珔ᬄ₅瓼榲㕈δ′㇗䤐ᘾ筌Ȑ汃痸綪㸿愘侺籿圙㼯玊䀁ភ牍堌縻Ԥ忢ह䙢გఈ娵哠佩笵źቃ慎䊪⣩ᢍᓃᅴ斌刹₶凟恃ᑛ⏧㤤㪘暭͎换卦秺⪫呚ൌᎺ䧦掫䝤宯࣮䩠巻ᴧ徭䟞剷ⴗ⢥略ᑨ❍檽ኧ巘溬䟉⊨⦔䙧উᔍ䠸ظడ䃄ְ〩䆰瑸栬烠ᩧ䌲ޤ丣恱͐✳〮㮻ຟᣨᲢ๥Լᔡᴊ൘娮㦔ᆐ㪩䃜判⣾⨜Ű㘎婝໔䃥≴Ӂͪ泊怾加䕸ᒆ柫岈⬘瑶㮰䵪䳋䪩᪳ᕥ癶Ѝ媷઒₷ύ出ᜠ䝐烅䯽練咼㮤䩽ੑ⏒㋒井㖜燬⌉ࢲ䥇ㄠ⁰ᤵ栦ͩᨦԮو∯昘֠慢៪ౢ箠㕸ߨࡏ䳎硿禨士䃕ୡ㶢㮦៯ⵄ瑅烼嘍᨞⁄寤洆ཕᘹ猡㈕᛻掍琉⶯泺㗞縋㚂宆憡㝿㚸ᔍ揍淍௻损宴㢇ކ䔭ォ僤೽寽嵿ʋ㐱笑䆔䃯۞彴ࢹ彽娹嶚ᓗ沚⊈ඍĊ⣞火㺱毻ㇰ㮐ᣖ双ᴌ嚠ӏ⋐ᜃ✡ዛ旳宋得玗⌸㝁⑬䘥౒唜؛灕䨁ᨚ燵挈ㆧ泹洃ᴏ捲Ƨ⧗ᬱᆆ响抮稌洙渾匦揳殧珿卡曳Ꮔ匰؍廮⏣⩖✿峻㪽㭛㓳磖个㷅ৣả祭䣪䮦梙枣巖ᩘ䓦⨭⡇㢀㶇᝙⇎楃ְУ⫳䩫瀦㟔㼠嫢ᴆ䎳朖ʒ杒䞥䬆椘姼挾䭇䧈㙘䁸璁Ẋ䇜矬た严灺ᒟᘲᘩఞ⼦㖺⛌௼緿䰥善߰夯࣐℁猷ᣋ⚄#֊Ă畛ᐶ堠㴶Ⰼ⬠⿎㡼禤Ņൕ桞ᎂତ㙲ࠅ䝺嗨䡡工PἭॗ㠪ᱽឹֳ櫣揢忧ʌ䆤瑭哢哰ዏ日睼ᘈ᣿㝄ᖇ㷊羛佑㕾ͻἪ泞柠娯Șᶊ娠䧔竻簏琳㒏瞢ỿ纃㐢ᎆǦȡ尮ᰣ姰໰䞟候➞剘労䤃罷簟嘼䀿ܺ㨄僭崡✻尕Ṽഅ堸Ĭᙴ倡‱䉈ᆄ墤ⱓWᷨ䌮䴾儂྅䒄㥾ㆱ䂑杅⌱㍼京ዯ㥆ᣫᗽ狤䁋છ䩁㘏⼬樨አ⸁恈䏗叝帄㘶憴ȵ⛭ྎً仝拇惆稨ⷜ⢪Ⴞ硨⺘☥䖍ᤂ佰〺椡㯺ড⧪ₓᦞ䂽১⁮॰ᕘ奢䂆⮇೜⺉敗᥷䁠㰢ᠶ熄ᙵᠮ᲌Ǆ໘楮偉Ꮨ⨠∧䂑࠯忘㈎怿᧧䁜歄ཐ媧啝冉༥穆䣍䰆幦⯢ᶝ㧂㱢秵䓔㞯弫䈿䫔涊㽚殿凕䁫歫簕伝΃繧祕᲍⓭⩠܍䘤䌁ᦑ冠ኈ嘭ᨫ叭῕䭩㨹Јサ孨窇典ᄈ䘥活ğ䊂曢ċ欷忡猳ၗ兌⢌⬺㝅嬝Ὀ♂犞䪙ቱᣪⁿᎣ乤儈䙈憐ᖤ㡁愼䂺審嘺筱獇২搧ሴɴ᳈包棤܃墩匷æதᔃ㵎㤓੼⩁圻㢪䩣䉼䓪䥒㌕ᙽ䀿䝰׾嶀嘴၊Μ㈽୆䩸⃀ጸ奧‷䜘厤嘵ࠬ✟䰬㤌䂩䢠߭㋍愘ォ䛙㺃ኚ掄ी䐦㕄᥂ෑ㛅ኒؘஹᐹ㞊ѱ䡹ᝃ⍑㋼䆬勨礶᧫൱攄゗܊䯢⊂်ᰘア䄺Ոʤ㱂栮ᅨ⦻óḹⰿں⁂櫆ቫ❺⼡㚱佝儉䜀窌榞㤲䔡⧮╯₌⅙⇮䑰柲䥁擈獡碠᳜⸹⾀ᄖṌ㈣⽙ܐ㇜Ȳ䌵җ䝌戻潩ߦ䆙ᤴ彴楦ᆅ砯䣰̏ۍׁ㰲䖶䧌ࠅ㹶墿优㔸縫篴㬝旋㽏䊠ᦂ洷洷窡䔔悰ݼ㡮䨌ം㖇䔘䥄ಲ㔤ࠝ咔玸㭦ਣഽ篎宀᪂㊍崻Ჽ௳䊅⮉ّ㧂㑉ጌ㳶⚾⮓枷棱勲ⴂ䃠䓫࢛䈓厳枘㩦♄றᥝ暳娔匂㳐✂㳢䤋絥柂ᚲ⮻䅕暐㠒㌉䥈ݳ䡓〷➀ᚘ䴍垱ޙ௣ἒⲷ粼❠㬪س㉘ᑬ帒点粰㇂ࠒ摾䋱䩡䔢㐫䁇ᇤࢡ䢇⁆秖೑䒤⑭⬨⮪㋇⼸䂻䢭㊾㝲᪼岭ˡ㦊᪫܅璉ᘧ䭑娅永䁩㭤۹溱啍Ⱁ坵夦๣⢄ᣵ⛎㕈笪ძ櫋ⰳᔊ䒁晳捄䅹⦒曀ⁿⓝ!勀័㺚瑗⢳⎟㆚᱆⁓♐⭐⯻䩏惬劆ዹᚐ吙Ȼ勩峨儥㮐狼ଅ䡋ኈ卻䥢ߠㅇ㠾奵㑈浸徾囅ཌྷ㥦㭘纏䛈䐐᭻噦丘㭴㤧༼琚ᚥ䤰১㕒榾䲬摽ჵ὆㚀ണ⓵䅞咭₺䠚⁗๓⫻㝚旱䰤䴄恢拃㧒瞄棲㥕㊫᎖⣅ⵁ㉞㘲玁㈭塉ࠀ㜢兪岋⫊㥓㩊2Ԩ෢櫻㕠䆴峄ⷪ湪ⷀ淚啝╬ગᛄ瓍⠾焠ᗋ⩶樽煠ωᵥ欐朵߉ሷ㣑8ᶵ懟昨毕㉗磻岈殕♕㵧ෞ哳ῄ䋒঍។⽢䳣ᰱ䯤曦䎭ᑖ൅ὁ倪䀮ઓᎦ綮ᘎ㊨羃ዖ૟ၥ⁈㋫ᕹ㇪湻ᔿ㈩呋ᖇ૘䧭䉤嚈༣㹵⺌优侱噤愌刘澥喽㊞☘㫐㨍丼縙Ⱟ嘌撼竵绶⺇䣽਩烙㚼浄濤⥎┛⣢佦更⌔ᅧᑢ秇涉搘现ϕ㫯䣽⏸⑳ȿ䭑ጶ僕䔻Ⱞ寔Ỷ䖏俒㍘㻭仿㈰ⲗ彯๐⳸䘆㱼ᵄ䫀࿥⏂䥅梢搅⃀֌樝Ⰵ㷂ᶕ歄璗緙帄Ⱞ潛嚧Ԣ狎狻Ꮑ䗉根㪖忰㶭ᓂ彚䟆䖽潼⯻♥亿㈸㆖䯏⒧⾢ྐྵ䉆ڒⓀ⫩䞨㄂嘂娹㗵⫮喠Ⴁ㮩狒⠦䊷ⷹ⧊⢀䏘㕋◌ඃ⺵ㇾ磡ϐ㾁ᕅ☔࿗㫆㓅䅺⃠࠳ȳᨘ滕㟙৅ණᚕ⌣凝檲䋦矊燄灠  "
   },
   "outputs": [
    {
     "data": {
      "application/vnd.jupyter.widget-view+json": {
       "model_id": "c8a8fc39847f4628b4feca3258ca454f",
       "version_major": 2,
       "version_minor": 0
      },
      "text/plain": [
       "PersistWidget(data_values=[{'__id_column': '1', 'Name': 'chevrolet chevelle malibu', 'Miles_per_Gallon': 18.0,…"
      ]
     },
     "execution_count": 5,
     "metadata": {},
     "output_type": "execute_result"
    }
   ],
   "source": [
    "PR.PersistChart(chart, data=df)"
   ]
  },
  {
   "cell_type": "markdown",
   "id": "93deef8c-35fa-42dc-8024-7ced08ca10a0",
   "metadata": {},
   "source": [
    "#### Categories"
   ]
  },
  {
   "cell_type": "code",
   "execution_count": 6,
   "id": "25ca123b-e2d5-4c90-b167-0efd63e14c15",
   "metadata": {
    "__GENERATED_DATAFRAMES__": "ᯢ粠 ",
    "__has_persist_output": true,
    "trrack_graph": "ᯡ࠽䈌ʀ匦㢠⹰҅Ĭِᦠ㙬倶亠䘡汆ࠥ䊩ŹӀᎳᒤǣن哲┤䒲⠠䭈⑀棑瀶ᝉ⁁始ގ弝㒤䐡傠ǗⅣ′䈤7࢝ᠠ湐憎Ⴄ姗㈳%䱡吠৹撠۱ő†䱄皌㙆Ω亥ໄ悲剰璸⨮☹઩䷫䝡炨ƕ稦䝳ቛέా䛑䅠Ȅ恨犖㬽Ꭾ䕮捆悳㈔Öᢋ㩈䐽ةھ妨⅛ࣁ䬉ᖠ᫼㺨໻޴Ɲ笛斠ᦶ᫡໙客Ⳣ柌¾'ᏻ埦ভ官䆨⹏Ǯ䆹䠰ɥს摞ਨᨱ撆᪮愩౒ᶪ䫑栫䩉慠偼҅ঙ⼯䩨棡䵇夃⠉ᄸ乀䥄⥔䍈掅㦖Ὀ⬵█㚉י瓸幈䯑䥴䪮䪄᳜䃄⣠╒䯤ジ悰(៤$〬'㮋ᡊ‮アɏ㛀݀Ǵけӳ獹媠ᡨ採恶垦別㻆秅猒紞ၤ᝸䃑ᔻρ₼㘰䊃ぱ᤭ኂ劼ਬ䃚ࢄᑽۢټጦÚ㡀⛭矻᳎㒣ǣ灤⤢䛂桊ଭ䌀碜§∭ᩍ㭭㜊笝ᔣᔃгᓦ㜧暫㍥㍸㜚ਧ㏸๧⧮㐪⻷ⷹ㤡怲ఠ԰屎ᾭ歒䁀⏞䀥㦠㟭罠祳侗吂ɷ噿ᠺ֤倢ǜ⤸ᇜ⌳Ŝ紧礘⤠ϲ䥈ሠ䄣ྙ㾃⋱䴫∢乀ሥ屐ᄥႸἦ↝ʥ僉ऱ‫䮢㡈伸䡬ݧ⡮ண㍲ƣ⠸ජ㡊஡≼Ԣずݠ烽ޥ⒔ྩ㰲ᜁ愋䣛罴ᨒⓗെ⑷榣Ĕ​ウ䟆͗ވᵇ⬋崤ͪ㚏䰓繠ⶃ䰲敀撚潁ᭅૺᢖ滁㭍ࡃґᢀ橐≡㝨洺掘梻፴溺㎌殻獢槣୲恊⑗ิ捘悹ጴ敉卢ƹ㌼枸ା䊴䭒敳౺䜁㕈ைඍⰧᙵ䶈)╀灾ᗍ嗌Ф㔬痂㌽㏆痰߅瘌Ꭻ痜↴ജlࢷࠣè⸧惨㑄⬁㬭⁦⸠䴓ጨ⃪ᤪᱲ渣槫㐵ⴆ烈擥ӊ撅๧ᒙ⋇攔㞯浺ݥ槱ऀᣂᴮ⃈ᔍᦆᴃ〷⫧㳖Ы娖⇧㣗㧦჎☥㴎Ⰼ㳯؍䞎⠬綑䠨絩䛥峿ୡ糩ᮣ紟㤰϶᪲Ĩ嘬⎺ⰿጴ櫧̀㚶▹䪵ᅺ劻䉠〵ኄ巽゙䠠发指ϥ籒ᝈ宥毰ཾዹ䝙΄睚⍔爺Օ䠫䇎呪⳰⌥昒䤯⌸⸥₀™ᤈἢ愐᲋䂐疳炞ῠѼ⎱㦼嶇ᄻ⊢済ា兛⚣氢圍⢼ᡅࣗ㫹嫈㛹ℑ㱅౨ᇶ䷰⧾㭎匭㯸㩵і図嬫综⽫䧶㯁װᣎ䷳⫵ᒠ檺懆因㗀ƅⴸ䟝挿⠺䎆ࠬ⎝医暄洕廌槌ᡬˣƣ≻⇊澀㣁ᆠ⡊⎨引ݡ壑йᣖØⰭހ㲟◛忝槌妄ⷪㅡ⮪ወ䬅⑸啯奉ǂ̮ὡ͆ذ尩ٓ䨠ラゴ䲺圲ᯎ⩒卓䇼䲇尨撙〠䵏ᢸ䁅᪌Օ幔㖜䞧♿䣭つⴠ䩻烛ᣠ㠴獃㞶硇暀ૌ漭啚͹㼤祠ᔗౝ㎁偉慤⏢૮Ө䳺䖻䆐⺅え摀஥‷䵠儭涨ᶢсȆᬷ≈䊨⠧ℋ‽篸ᴌ䱙᲻䃙㒐⢆晰ԁ氺෹娵᳊ᡉၖƎ㈔ঌ͞఍ೇ╠㟣䘏傠瀳礄ਥ㽾ጲ灨ᑀਲ਼⟼籘ੇ⿍節㱬┇煩㠆ኝ杵ᪧ⤕ᢙ҂獺!䪹㖥佡图帄幍᫜卣㷋Ჰᛞ碦૳ѕ偄ጪۙૡ᰿ᒃፂ䙉欂ฑ壆̀堣ä䅸忾嶓彚皱㨽ㇷᜮ着⬃⼀ᕩΰಚᘧயⅤሮ䌥䖦愰䚸Წ᮶䏗ទ঱ࠃ㨃ᄋ懁ϭ⅏䢙瑜र䩡ᢒ䫐瓐ᅙ༁㦈刜ᡃ⽔⋄ᧅ䛔䟢䜪烣㙥ᎌ制憐ऽ㗐ԡຽ଄慣䉂化⏏扈Ƒᠧၑಡ栤㬼ₐ㣰炒朻Ⳓù湃昃啣㲏䣇ࢣ❠䱠⨭伃ᇒ̡ᎃᚇ≃L榬炅一㖳惤䆲ᥬ㎐ʇᖔ旊糮恥仵琢妚凒⪶嗵#ᕬጒ婖冯㾧䀠߰籠䈕.ᔤ̮樠Ţℝ⡔琽䀠኷⇕ᒉᴯ嘢࿈ᠴΠ浦ഥ䮨凛⤈ឩᡌ㘔峳䁗⻦䗌ᦁ丱枻კੁࡅᒰ㑪䁕䡬刯媌⑰ᝪ႘䪡Ч究૱嚌伩岹㻱ᬲ矣࠲㈚䪊⟟ͣ絋亡₋㧱䍒搱率ᨅ傜ᢀ嬁⍐⣦ⲃ䘧䱣➠ஞ㰲⡣煞ぉᱚྜ䡹糰峰䳥⌁㶧ɘ恠Ꭰ⣞๶碉ᛘ傌峷䐄䨴ㅻ䆶畠嚰Ἕ䑰▿愧ૹ≈䰓䕟ਬध⁢2ᾭ⁰ѱ䐵㋥妗ጬẑ挖ࣲ_ሸ㱫⩤Ý㫁怿哠ڣԭ◮怠ݠ⸑ҹ瑯Ღเ㉎䈴»ㅋ㋖稩愌ࡐ砳コ㫠卸ǆ䚋м歀Ś皔ஸ␪ᥤ佚琡㓅ºቾႼౣࡴʐࢆ⵭乪ᖸπⓦ㇉֣䯮㓔㌆಑ⰾᳱႳ໓㥓Qǌ⼡㢂઀倿㥠์ዴ䇑濏竀椭疍灞ݘ啀\\⒵竼᳣⑪Ⱔᒧ⧭ỳЯ弙㻈篤Á㓍汪䗁㼅ѡḳ碫䐦ẩ梨䧄榢攜䱉彦⧘䗠䪪ࢶ㉖㚓䄌狤䴎䈉䆺偃ᢓ棠ᢄ๰✱竹庮জ䣀⁧幘ȐήЍ㘙癫䙰䷌沨㯹㢔䝁⮒変爂吅䧯揅⁄㎲ǰᜅ囬ߍ䛻䃭呦淙ᆂ࣊㚬柱ᾈ໣⪰傞ݎ支緆๛㸿㭲ᰶČ唕⃴འ瓃滆㵓᫣㭸竌㘆澾振⺫ᠮᢕ㛕ᯠ㈷彪狵㛍ġ宂᪀叇೧浠獈嗨༬⡍垊繄ⷨ䐽涶烍ʊ䫊㍵㱿喍ź囉櫵佹扤崰—䎭㭧ឫ䔩Ύ䨭滘㉼䶮秸Მ硔簗ἃ纁ᤃॐ㻛況檁׀˶⢃稾扎䄋Ḟ砼⣳彛䯕׮カ㿟箮硌ې‥劚䟀客ཕ玩燣䨚 䦬௸ഇ痿ؙ圇䃦⽨㱿牽߭䰒䓄ᲆۭᤃ⒴尧⁧⳪౻⊞៕䝖栰ਤ柙䖶ᑒ䕠㉂㞖㆑⶛䧷䈫ຳச䧫ະ౵㳜晢㑝௠䞴䋳涞猛ි㹺筎ᔽ䋝攃䷒Ꭿ䘙⾁䫠㱠尥尢熐䌄⿐౼㜚呇٠榕憿⁔䃎ೇ࠱哟搞⋃翖〠Ẹ⦑晈̅欸ᓅᭊ僊⬊㡐็嗝⇦䳑熿೓⤺㨁䛜㔳⯞ൕ⛚㗉泺⣣曔〪౺ᧇ璬෫⮀↶ⵕ㓒⎰⮀尯ℨԠᆣ憪䵒४㘣ⳟ²䑰ሠ尥ℎ䱚㒐尽㕐ú䲑㚮ᴁ旺䒕盁Პ䅨䮲䂬էՠق㬭崆ގ垰Ặү☒ᏴႹᡏ⩢毱箢ᥡ☒᪁㇐㲁⋢焔↱㲓濢ਗ៊㰰䬚桔ṇˢ὾ᴒ㟊䑠ಸ⠥⡒䰲⢲樤ቜわ䊊Ӧ櫊搫म἗笡㲮浞጖㟗䷡ຶ䈪熶⶘濚⻕ම洴楖㰧焥䷸ۆ権喽ˢá⢧ⷆ汬淖繂お沬敠歐摍䶂ೖˢ㦤䢄⻄⨓㧎㵜昶⪨炎М晱㖮᭜䡢憾桕шĿശ⤥䗜ⰢҶဠ喱喊᧦湖於綜ö⤢ᗞ䆣晶䦀㱮籺⟱ᵗ喢惊⓶ᾫ㖦൚框㥗䦻≴欌䐱䚬涸ᵑגⶬ‫ீ䆮಑䵬恐䷃淗ᘖᬆ䎬⭌㱎斖⢯侻䄎栰ߓ῎⶙⌖ŵ㣍絞樄濒❏䘜倖⃃㾹b⿡療ࡨ䎐沨ⓤい䊓ܨᢰᘼ䈴᝼㔶઀䐖䙉ㄫ䐤䊤䍉᤯䩤焵ᱮȃᎩ偉浡⪒曘䕄⽮㨄㎾ɹ曮ዲ潀料握嗇䑐ɪ˨㐇〸䎳ʸ刡䁇ƒ佤燡扞ᄴ᨜攪籙租汎怗群岠ሡ妗fɎ⤢㎑岹䏬ᩄ⬭⃝峾⢚侵惗搨⶚珴節ᒏⰎ䣗箳疉䌚突ߓ՟⠱夶Ѥ≉Ἶ埳垧㉊ᒑ甖剒扃柹疫枰琕䤾ᔗ皂奫汙䑗抣㴵䥾涮垮秗松䗨⒉壋扁⬲媹e抠嶔ౕ䔸ޠ叄䎪▔┠瘣克硇湱疭Ҕമ沉㨕⾳㊯悄ᬐɪ稗滮␓㡅叇䎤䙪㷃䘙ℼ気㶬㡜⧩潆犓縜⿩㫄瀶燽Ạ佭⑗厝ᙠ罩၀㎣ጰ屣٪᳀ᕀ䱎慹桲➥Ɋᆂっᩥ⬲Ꮑ䂽╀ᰯ㫃⢾ᑡ垭ၾ㑈Ⴚ櫕偦㓓⻠㳲䐼⃈ૡທぬ⎐᥺坭ುၒʠ෗洱ℍ䌲冧摠緐Ѳᰂ♙烍♸ⶲ䙿И䉉㕭ࡤ動ᕁ奭䢞匬᳚ጯᮠ懐敠丣晭䏰ₘ➐㡩㊼ṹྑႵ痝慢᫪硩㊜ტ㟵縫㋣暑ᖬ៖㱂ᨱ䷯䢤≷ᒱ孫䑶牂ᢱ஀ᐫᓃຠ⃬ⷅᗘ䓼஠洱ತʊ⬱壟Ŀ႑呓䄳ൿ᫦Ȯ㱣⌘昰ᡫහ᱆悩亮⊞䆤嗆纯ⱝ⅄偸ᦨㅂ渆ᦩ⢢ⲁ浺壂燮咜䬜栰ᛍቻ⮮ᗑ唲╥抂激ޫ岟掠巵幌㑻挒権畢粓ⱪ漀狑山呆孶䗀类䇡ᬕ徬水ዢೱ塯඲䱦咩溭案ↆ嚩妬⶝䵦Ē溯涩ና旹⩮ଭቁ̀篐Řણ䆞᙮䆀啼䜥兰㾤喞毩䃇✽⢸טᕈ㛚䰒ᗅ刢䕝ਃ࿅ᢷ昭奩⑰╬嬱ჴ区㚋ざ䭙埅͋玑䬥墉竇㹵Ϛ‥Ⳳ抳凍ᡔ孮㎫‽ᛡ㧂澯ᶣӅ烢屖ၖ扦ᅂ㽋࢔⻺ᩀ∬Qங䉋䘻墵溅⩉弮ஈ忂籈⠣஘䉥丣ᆓ䩭拚匯㦌Ꮬ彘嬫祱㊐⤚勫㮿敢嘎爵廍㈿‾柲ߋ氜᫹Ⓣຊ⪇ᜤ䲈⟜珻ᱽ疬ᵼ⍧ᙩද枥㫓浙疫亄琒剽泈孁宋擽㱴敩㬪嘘㱢怭ओѴ㌷வ惱ϔ瑦ㄾဩݠ䬳ग़᫲孞檫㹱灭ዞↂ繗狷ᯜ㿫澥䤯懞㖡Z完ք琖㶳䕩囩࿗䅸唰唞⥳厌喂Ȯ墰孰㋍崲愍摒∍塥➎ᣀ㈫˦䲳᭮䓝䰝乷羍媠㶸်墸ݽ咤Ⱙ㫇ɝ⏥窮႘㖐ӡ氤偷欈ᖺ⢢ᑇē⎹戼㩯䶂ᷡ䐅ಹŹⵄ㖱☦Ō⹎㐀♑牋䅪℠恐Υ愹⇳䦓᭥凅ೠ䭧ᮔ巭ᦊᥠ寊䰔ㄍ㥶㈦҆稠䌨ņԬᷱ䞏䬽漽ទ粹瑢妚㔊ˇ䐏☪ᣌ㚃׿₵ᚄᝰ⋋彽瓋瞘⍛嵩⬕敦⪱⡝ᷭ⹹⤲⁸൴࢒ᆓѴᓂٷ嬏ឨ۰ሤ玲唙笈畭፠ணឫ嵸←ආ䇏䉴汁䒸͓䚐崪੐憥淘殚ቅ締僬斑ᗖ㍕㭔䵡䑑䍓扸掖歨㗏浦歖ᗕ孫汿㭲ゕ䇮呩櫂暕箨綅橞嚶ᯋ愋択夕侮ᖳ㎞᳑⯉Iޡ᮶忉_歖㤩朔疾✐૱懊ᔊ汚㙳澄唖Ǌ㨰᳨瓦泚㚆ⷰ㔞䵚㳳ɬ㦺᭦㻕硃ᝯ䝷ᝩ٩狑ᬏ圖犉૝糜␖ṩ㾠ᴊ䱀ⷡㄑ养⫺愩⑄傌①☣烹栤㡀琦जҥ妫㘹指ࠑ㏣≽殯ࣰ٫੹絆ڭᗝ卩⭥䣵勲䶎橖嬺侉皑稳原ᣣᆳጸ䜆䴣 ⓜڍ堣楆℃孰㌍࠿⚉巎Ⱜ஋䐤抔㵘➰ᣳ⊬㾁括❰⫬㞬唊噧䋩䔵䔋夎㪻᾽䓌乽㫺娫㉥登䟦㨶嬋章朻刋⃼咈娜㲦疪瞎䦟᤻◪⢰⚲ფ䅆☪␳Ԍ瞄禑冨А叇慨懴ᣈ╖Ṿ橢ờ仌⿛犗回㜧潯㪯幔ᐏ栰੏勲お䌍竀嬫㜳德汿奊㿗㽻籒୨皂堭〿六Ѻ犋窧ヰ篤љ䯉㶫฻挗ܩ㱫晼ङ៫䥫探  "
   },
   "outputs": [
    {
     "data": {
      "application/vnd.jupyter.widget-view+json": {
       "model_id": "92dd19f35bcc42048f8f0997bcff6cb7",
       "version_major": 2,
       "version_minor": 0
      },
      "text/plain": [
       "PersistWidget(data_values=[{'__id_column': '1', 'Name': 'chevrolet chevelle malibu', 'Miles_per_Gallon': 18.0,…"
      ]
     },
     "execution_count": 6,
     "metadata": {},
     "output_type": "execute_result"
    }
   ],
   "source": [
    "PR.PersistChart(chart, data=df)"
   ]
  },
  {
   "cell_type": "code",
   "execution_count": null,
   "id": "4b0d5643-fd7f-4c48-8079-4fd7c9054b62",
   "metadata": {},
   "outputs": [],
   "source": [
    "persist_df_6.head()"
   ]
  },
  {
   "cell_type": "markdown",
   "id": "a6284113-65cf-408e-927f-d302988c2a9d",
   "metadata": {},
   "source": [
    "#### Filtering Data"
   ]
  },
  {
   "cell_type": "code",
   "execution_count": 7,
   "id": "74072acb-ff02-4b57-9737-8834d8e18bbb",
   "metadata": {
    "__GENERATED_DATAFRAMES__": "ᯢ粠 ",
    "__has_persist_output": true,
    "trrack_graph": "ᯡ࠽䈌ʀ匦㢠⹰໠ጠ昤ᣀؠ声ୣଠᰣ᢯恃ۈ䖶䩌䐩旬汐千Ì籰䥠ɻفݭ䞰䓙ᕺ窭䵸㦑䈇桘‭РබCణ⑀´၀Ø䐉䀦熦ྒ㫽䎰æ6儣ᐠ৵撠۰̋琭了⑼㺯呋ஃʠϩ䂰㒘岞ᥟឥୡ⟰˸憌塂၌ᡄ᫖橁۬Ⅷ疬㘠殒噐㯂ᤰؗ気ᯐ㻖Җ瑨ษ匫ⷐʘ<䮲缸࿗ⶂ੆眒㦃䶰ℂସ⹻ࡿத◮᧓⦐偔⊃ṑߥ䆦䌁†ᬥͣ⇜喦憆╨㒨౐⍦ၐ⎇㣄䰮fᅨ䩕ݠジᙛ০熘İ丁砠垀呄㩩剬⹣䙉碵ࢾ劳娪㢄  "
   },
   "outputs": [
    {
     "data": {
      "application/vnd.jupyter.widget-view+json": {
       "model_id": "ba45eceaf73a4212895bc85c555c9a52",
       "version_major": 2,
       "version_minor": 0
      },
      "text/plain": [
       "PersistWidget(data_values=[{'__id_column': '1', 'Name': 'chevrolet chevelle malibu', 'Miles_per_Gallon': 18.0,…"
      ]
     },
     "execution_count": 7,
     "metadata": {},
     "output_type": "execute_result"
    }
   ],
   "source": [
    "PR.PersistChart(chart, data=df)"
   ]
  },
  {
   "cell_type": "code",
   "execution_count": null,
   "id": "a57edda0-2892-4c1f-b486-066f59c56a79",
   "metadata": {},
   "outputs": [],
   "source": [
    "persist_df_7.head()"
   ]
  },
  {
   "cell_type": "markdown",
   "id": "3066d9d3-6688-4bf1-ad00-39ad1b5df821",
   "metadata": {},
   "source": [
    "### **Table**\n",
    "\n",
    "To create an interactive data table run,\n",
    "\n",
    "```python\n",
    "\n",
    "PR.PersistTable(data)\n",
    "\n",
    "```\n",
    "\n",
    "PersistTable is a powerful tool to manipulate data"
   ]
  },
  {
   "cell_type": "markdown",
   "id": "fffd1b0d-d9a7-4c7d-8dcc-62ebd81352a1",
   "metadata": {},
   "source": [
    "#### Selections & Filters Operations"
   ]
  },
  {
   "cell_type": "code",
   "execution_count": 14,
   "id": "e39c69cb-9e88-4bec-9360-4c9e9093fbb9",
   "metadata": {
    "__GENERATED_DATAFRAMES__": "ᯡࠪ䅬ഀᜰᝈŐೠ㤢ఫィ暼 ㊠ࢠ传相䠸悬¼˘‷懰  ",
    "__has_persist_output": true,
    "trrack_graph": "ᯡ࠽䈌ʀ匦㢠⹰Ӡ〉΁䴢ᠽ䁍Sᨠ㦔ါn㇦࠰恋ፓй䂃,昦㆗皋䳩ᐠ▴ሰ瑸㠨䮴嗏⓵巇⼡⅂戠桠úᬁ䉓ဩ™+䑁䰠㜸ㄗࡣⷸ㤥怢慄㊠Ś岰ú်ᥞபய栄ჲ㈘㳴Ṧᐳެ䒻⒁吃硳砢ᠰN僨洎㉡爹㥣ೖᡈ\\䰩گ䈃熲㄄⡉䌠ⶬᛱ乂҃ɡ➌ሰ滤㢕␷΀ۓ๓ϖᆵ⇞榘䣥旐⇌㜁ଵ搰ⶠᏠĄ縓磡㧗漰ҭ我Წֹ犰摘㸦䋁⁴㩷嗠根ᐭā穈℮ᒃࡈᤪʢ券ྭ甘擭వ僋໔憺ᖫ抩㉵ᝨᅹ๯ᛀ梥ㅴ坈暰䞡䮨ቩ੭შ㦬⹿ህ੅☬堀⩕⦾儐¢䉠fà໋䛄Ćࡐ⬑樠爠ᑬՕŐເŰ粀歯䝶ɜ፻⺌媜罀∳Ӷ္ܱℸ縹դჀ᩟â刘㑚ᙡ䃓䈹⚡焚⨬劧慐⫁众浼睌䆦愐≉Ŧ狴ᘻƮ焘䅐䩂ٺ㛇⫕瘚晀抡ₘ⨼㹔䷆枼惕㖶嗚梂汀州梓嵮姐→岎⏁䜢䢀宝ఔι⠤ҙ 坐ܔ㤎ྊ⚆▜ᗻῢ֢ᅰģ帹ਲ਼帳ע唰น簹#楟 ㈏៧璀硠⧨Π䞪Ϡ搽̀摈ㅡስ碘ร䆚㬯䈈㬧Ѹܣƨ☨⅐☤ⓨ⌫⎸༣⃰☿凐䲥䧄㦊梀䞫ȯገ䎰䳤ɤ慃焀ᜤɰ姁㑐卩匣ޯ㔽㻊痽☼㡖㾫稞⁆煌㌳ᄄᶈ儻ધ‸⮉偫㚥洔₼ㄊ㡆䂗⒅ǃⲏള㊍⃳څ䲀ຌ愓ƄⱫ⃍ၜぺଃʄ䱳㑸⅓㚋专Ԍ䭫᫆㇡࠭哀Ỉ㒕ဴ塶වô呕凵㘤ٕ㩵叔ຳ噓὇咐ⸯ嘐㵰〨䅈♼儯נ搯թ熪ס㑕ѻ熢沪㳋ɬ⡁ᅠ吪͌傅㌺⊳᜵Ⲵ囨㊷၈૟ᅵ㶵᠌崯␈̰晌栺⚼匬枼療煸瞺烼ܫ獘箤䓙坍慼 疡柑ӝ㝈ڜ睁䒝多斝༧煒ṗ瘜⒟獹䊎ঠ恵恂ቼল⭌൳橼䬘ඌ䫢⁂䤑≯䑂劓ᬡぷᬦᓹ঱ⶀ仆‾࿇̃᪳䑨Ճ犐呈ၬߡ奟ۺ᭬ܵషເᲀ戀磒ትᢙ䨘缠ሥ㙍乁皍ばි䚌湦䞌庎䈌㯍↑悪Ǽ㑜汻䮁ջ殄炼᰾₁㮆߻ޑ浪㈤㡺䮟ź歪ឮ孲㹩ⶺ㤪ᨙ⣴喎埴䛘嬠ⶆދᶗ〔婭偒ͻ刺廈滍⢚಺↬梨⁞ވ桑́㲖ኡ㬕Ԃ䰷ƨ㥑ǁ党私㡖՚ᖬ滌ᥬ㋪ᆎ⽭禌⾫३⨁䖹⸐緛ℛ࠰眚掤㫀吠ᶽ⁐ᱹ㉮᪌໣汈㛼ᢏ尨枘⣬硏ሧ⽍爠幐₢㙜⊌砨⩭ⴼ䳵劻䈼塋в⭻ҲိዷӘ拽焺寂▦墠㍵ᘾ㐆禋✘③⑖յ嵹㹁ᅆ⚆ᶄ䍈穌怼䄽ㆦ᳘ᶙ值᐀㤆潻㊈箅㉮挌滾∋ॡᭊ䄛ᮂ桮怮ㄤ༞⒡簧㡇䴳⟌秤̓䉖拘嘃ᑻ晠寧㲾ቡ勘穯▯⒋໨嬾愖ᑡใ㶼⎚屯䂸ձ䢊嗊笅Ⅻ䋴搥峚傘㮿⨹㏁眯␎⫡␳⣂⏬᥂ᶙູưദ摞۠䘆偑ܰ␫䆐ည怺歐ᔢ灝睚櫭乱枼㇠屖䅛㛒㦷㼠ᴪ煚⚨縣䨕䎴㣲ᝀ偗礣㳡Ί༦怹峰毘၊碱娥冦ᣬ㹐汄໹㟦棤湩ᡇ碀剸Ïᤁଫ卢༲戴朄ዬ෣䷅䲢旃撡⬬⭗䤁⸶Ҕᙒ⠫䇸䕂ࠬɻ⬲倲扨ɨ僉䳡䰸䃪㼢瀷ͨ䊮籫ᒖᭇ㈾Ąỳ≼䗒綾䔈㞄ᢺ䙑䐥⁛䉳Ꮌ半㖡押ዴ捀㓆倀ᚵ₍ᇲႣ拹Ⳅ⪁Ŵ睊䁾⿉樀ᕢ削ᅝ⥊䀣ᗬጓ娮倠ニ愸၅䂀䎠ᵠ4䰡橽♠2䎲据Õ㬃ߔ椴䠠煔䙀哭䢒ẨࢦƸᓛᠼ⦰࣡傈⭤尦ᱜ৲ߦ⇬⪘枯䟯ᾪ⽠䭾Ⴒ燛敒潩紧ఈ䜰扄ἦゅ䮼喿纀栢ფ˗Ԥ發ᠾ≗屳摙㠵䛨᪒侳嬩帓偩ᦽⷬ℧亁傦ᠰ́汃珶⦥ṡѓ㯪䤤ᗁ⾨痕ഋ㏐੾↖䅸䤀哐硶䢾繉偐હ⢳⃰ਢͺàᘧ恋䋀䰫䂒怓䱀ⱡ⸫㡯杜㻌᫇憠፱ࢸ࿀搤煗㾻ᓇ畩ᠤ〩䈝撄疽ⰰ濉牟ゔ㡣恺␶绊゜〡ჵ䐁䐢⇬ਢᇈ±夹䡟橕䁐䂪Ὑ嗠]⒠㮍·㢂ᮤ࠻Ƴ䅘⅀ְ㟚䋴䎐ᡃ漼Ș'歎缋僇㐣剀┶ℍ噹浩⛓味䦛㚯⡽ഒ紿◞ⰼ᪹䂗϶⷗哧ἳ窪ᐭ巂ඁ儺砺᭓䏢⳷嘪䶿焬䀭⃴猻挆凜㥵⩅㔼¾⧄㝎牒Ⲿ㗭⮊囇⣷㭴櫁ೠᣠㆰܔȏ䧿ࡳ㍷ჸ੔桀㘨㌤វם撯悍䄺听慅㝀桌㜄䞠䪮⺵⹳⤬ݳ失⮺☢媛⛝㕁䲷灍禴⢸ڠ旗籋㐻ᜦ惶囫¦澦㶲淈欢垣嬏ഇ囥旘䯠໒㏙緲ᶓ妶Ꮗ㬀屮⓬䱁йㄑ沽桚ⅸ㨱⢐૾漌惼ೲ₽ົ徛ౕ縀启硈୾㰽ᝩ䣎幯㝠憛秵ᵊ柛㢓ヘܽᾉ䂰㔑⚑䤀౹ 廳ⶾᇷ张缐促椩ି殶䘩ଲശ⩭◎㈇噮䭃䘷榞厫ҝ朠ὢ罖䤍䢷唊䖲篐椇᜖絑爽䝪㹨扣䤢〮猵䔡ಒ妾⫓⭩佶ᱱ嚀᧏䪛䲠ໝᘝ㳋樭⮑ⲏ氡嚺糄嫸⽷⛏⼞揵ͷ⍆床吹ី໴䛛⹁俙㫰斺朸Ⴅ䚸䰪ǘ媡獅ƄǴၪ壥僵惔₱▣㈗䉞㴕会徸㦶Ы烱拎㨶㧜㞿嘚ୱ欄ⴧ䷹䑻疽ⶻᨣ痜焻⸧皋㜍晑3䷦滾㦈ᨠᡐ㯐㥭烨ḝ絛Ⴙ渧毝巋睆夕ᙗ⎝㝻ҝ本揨㫮ᐬ⃗批ⱷō偖୕璐ᐣ೓㏀揅㵏妡⻥矰瑮惗癃堕缀̀᧌ఙ䰮̣秳夝わ͠٧匐ᚫ❹䅡丽ᾌ䌼ᦿ伭ྨ⌹̱咬䄡⌰ű䡀㒌ă⮅忠䲉⩶ᨸຜᲆ㈵殑尣ᔯ挿竀〜྅፹ᬫ䬽ઌࢅᩐゴ檂六᮲幽㪊牅㨛࣬欈攭㩀ἠ䅬ₘ磦ᴰ夢佊Ǉ䥝ᨍ伱慢彜疅㝘禐ŝ樼佂ƈ㺈㨽䡝܇僣矩ঊ犊ᖽ冃呸媄巰উ䀻⭅依㼁䭌寺佌納ཱ玦֠禭戼㤆ر砍ᆔ䆰ઙᐯ恞䋇ೡ㐦㴪䄷䯄㈣㝝㨰ˍ܄睚壛哼漁๫㡗帉秇᥁䋆ቴḇ繅墌嶑㗍夡窍姕䞢ᾔ㏖岝᷉ἳ䬖包緅枓嬮䦝垂徃禐⨌♪䝰㰝崣墌䃑櫽喝〵݁᫝䎃䠍絥䖏夜㰅䄑劤㄂䠆䂳硁䮠琦椹孪傁ࣇ྄䎰ु倅䡞䋦ᜠТ㪖ҩ奸ഉ示௩䔍濊炰◓஽彋杔ᆉ٠Ḹᩨ᎜䏠ొ㉩㢨⒵⻫ឍ᪛୤刾爹ۋ偙爱呒Ďቃᤫࡎˤⳍ⨀䒜卄ヂ椽幓棰ୂ圉┈䓲㼠焿ⓤ䕒㕂䭪擬䕰ረ丱啄ᤊ嚬›㕓Ⱀ᥌否༼尗١縶ࣗ⬑ᶩ䱭Ṍ祾儵儭䢗㩴䨠㰯唈⅞孃执ඔ僈㓢樴佭ވ⍝㘶⮝؇墠؆ᬺ䛬丘䣄綜Ŕ⯜D䙵娗䁬ᮄ浈ଔ⤅灀㭉礽䚝➎ᣌࡽ农硃夕䖣倝ഁ㤀⥼│߀䄝筣䤂圶Ղ暀ᇌᇡ应‰Ȩ兮㵼ℐڲ㐧ၾĻᇄ碬䃿稢䀜栈ðê⊢ᄯ悝Űሣ䴁惞斌ℭ縴䄟䛏䰍ᠰ㴬攀⢭آℒᡜ䮒搿紱晑庀Ⲇ捎㡐⎀岁࢐䆮⊒氵´Т㆔抁ᎎضⅬ渤原愨㕭䩅䓕ਖ਼༲哃内㰛ᣭ欁吺Ď୳堯›⑅ࢱ岠⒜偧Ӳ暴␫✏౴㈥ʽ⛡㽲ࡴ㔄ᝪ哳暻桫⚛勈⸵ସ娫口ἠ䭅☘⩳榆桀䞧䲉⥈ఢ䫚妍嚱ཎ❲㚳焰擄䚚㦳䊱䤖▪㯲秋璶硅ᕐ掲)䈣᳔஭潰朗仔ᆹ棈映䄅␌㥡䠁境⡇浹禽啓ጱ䴅稌⬂猳愒≌⚂圼峕䕌㎃Ć猇ᘟ䄂瞶䞃䜐㔂ᱱ䉜曣倜ᖷⅴ犀ᓠ┢䐶敼೸┬䠹珐ഠၦ䂈䋰૒⯣洉晞⶝㉨Ჽ䓓䪪ᴎ是âⴂ炷到ɂ⭄㸢䔚॰ᴳ੅᝱ނ⭭羹╥㨲㚵幢ⓟ၈⽐璯ᘻͶᱢ㪏䔊⠹䕽絰みϾᡀ㚾疇祹寭昏番符彉事⼰壦夀䀠 "
   },
   "outputs": [
    {
     "data": {
      "application/vnd.jupyter.widget-view+json": {
       "model_id": "800ab00ae3754544bd4c3751fbba8524",
       "version_major": 2,
       "version_minor": 0
      },
      "text/plain": [
       "PersistWidget(data_values=[{'__id_column': '1', 'Name': 'chevrolet chevelle malibu', 'Miles_per_Gallon': 18.0,…"
      ]
     },
     "execution_count": 14,
     "metadata": {},
     "output_type": "execute_result"
    }
   ],
   "source": [
    "PR.plot.barchart(df, 'Cylinders:O', \"count()\", selection_type=\"interval\", df_name=\"Test\")"
   ]
  },
  {
   "cell_type": "code",
   "execution_count": 19,
   "id": "b8adc406-105c-4898-af27-501d6a90971a",
   "metadata": {},
   "outputs": [
    {
     "data": {
      "text/plain": [
       "Engine Type\n",
       "No Assignment    214\n",
       "V8               192\n",
       "V4                 0\n",
       "V6                 0\n",
       "Name: count, dtype: int64"
      ]
     },
     "execution_count": 19,
     "metadata": {},
     "output_type": "execute_result"
    }
   ],
   "source": [
    "v8only['Engine Type'].value_counts()"
   ]
  },
  {
   "cell_type": "code",
   "execution_count": 20,
   "id": "55f40cfb-a035-47cb-849c-e4f670c94f37",
   "metadata": {},
   "outputs": [
    {
     "data": {
      "text/html": [
       "<div>\n",
       "<style scoped>\n",
       "    .dataframe tbody tr th:only-of-type {\n",
       "        vertical-align: middle;\n",
       "    }\n",
       "\n",
       "    .dataframe tbody tr th {\n",
       "        vertical-align: top;\n",
       "    }\n",
       "\n",
       "    .dataframe thead th {\n",
       "        text-align: right;\n",
       "    }\n",
       "</style>\n",
       "<table border=\"1\" class=\"dataframe\">\n",
       "  <thead>\n",
       "    <tr style=\"text-align: right;\">\n",
       "      <th></th>\n",
       "      <th>Engine Type</th>\n",
       "      <th>Name</th>\n",
       "      <th>Miles_per_Gallon</th>\n",
       "      <th>Cylinders</th>\n",
       "      <th>Displacement</th>\n",
       "      <th>Horsepower</th>\n",
       "      <th>Weight_in_lbs</th>\n",
       "      <th>Acceleration</th>\n",
       "      <th>Year</th>\n",
       "      <th>Origin</th>\n",
       "    </tr>\n",
       "  </thead>\n",
       "  <tbody>\n",
       "    <tr>\n",
       "      <th>0</th>\n",
       "      <td>V8</td>\n",
       "      <td>chevrolet chevelle malibu</td>\n",
       "      <td>18.0</td>\n",
       "      <td>8</td>\n",
       "      <td>307.0</td>\n",
       "      <td>130</td>\n",
       "      <td>3504</td>\n",
       "      <td>12.0</td>\n",
       "      <td>0</td>\n",
       "      <td>USA</td>\n",
       "    </tr>\n",
       "    <tr>\n",
       "      <th>1</th>\n",
       "      <td>V8</td>\n",
       "      <td>buick skylark 320</td>\n",
       "      <td>15.0</td>\n",
       "      <td>8</td>\n",
       "      <td>350.0</td>\n",
       "      <td>165</td>\n",
       "      <td>3693</td>\n",
       "      <td>11.5</td>\n",
       "      <td>0</td>\n",
       "      <td>USA</td>\n",
       "    </tr>\n",
       "    <tr>\n",
       "      <th>2</th>\n",
       "      <td>V8</td>\n",
       "      <td>plymouth satellite</td>\n",
       "      <td>18.0</td>\n",
       "      <td>8</td>\n",
       "      <td>318.0</td>\n",
       "      <td>150</td>\n",
       "      <td>3436</td>\n",
       "      <td>11.0</td>\n",
       "      <td>0</td>\n",
       "      <td>USA</td>\n",
       "    </tr>\n",
       "    <tr>\n",
       "      <th>3</th>\n",
       "      <td>V8</td>\n",
       "      <td>amc rebel sst</td>\n",
       "      <td>16.0</td>\n",
       "      <td>8</td>\n",
       "      <td>304.0</td>\n",
       "      <td>150</td>\n",
       "      <td>3433</td>\n",
       "      <td>12.0</td>\n",
       "      <td>0</td>\n",
       "      <td>USA</td>\n",
       "    </tr>\n",
       "    <tr>\n",
       "      <th>4</th>\n",
       "      <td>V8</td>\n",
       "      <td>ford torino</td>\n",
       "      <td>17.0</td>\n",
       "      <td>8</td>\n",
       "      <td>302.0</td>\n",
       "      <td>140</td>\n",
       "      <td>3449</td>\n",
       "      <td>10.5</td>\n",
       "      <td>0</td>\n",
       "      <td>USA</td>\n",
       "    </tr>\n",
       "  </tbody>\n",
       "</table>\n",
       "</div>"
      ],
      "text/plain": [
       "  Engine Type                       Name  Miles_per_Gallon  Cylinders  \\\n",
       "0          V8  chevrolet chevelle malibu              18.0          8   \n",
       "1          V8          buick skylark 320              15.0          8   \n",
       "2          V8         plymouth satellite              18.0          8   \n",
       "3          V8              amc rebel sst              16.0          8   \n",
       "4          V8                ford torino              17.0          8   \n",
       "\n",
       "   Displacement  Horsepower  Weight_in_lbs  Acceleration  Year Origin  \n",
       "0         307.0         130           3504          12.0     0    USA  \n",
       "1         350.0         165           3693          11.5     0    USA  \n",
       "2         318.0         150           3436          11.0     0    USA  \n",
       "3         304.0         150           3433          12.0     0    USA  \n",
       "4         302.0         140           3449          10.5     0    USA  "
      ]
     },
     "execution_count": 20,
     "metadata": {},
     "output_type": "execute_result"
    }
   ],
   "source": [
    "Test.head()"
   ]
  },
  {
   "cell_type": "markdown",
   "id": "355531cb-60ec-4c78-b781-eed49c233f74",
   "metadata": {},
   "source": [
    "#### Search"
   ]
  },
  {
   "cell_type": "code",
   "execution_count": null,
   "id": "245bf8b1-a245-4ce8-a59e-c3f7d33fa44f",
   "metadata": {
    "__GENERATED_DATAFRAMES__": "ᯡࠣ䅬Ԁ朤壠ᜣ琢〹夦゠⹰〮⁁䁻қ䚾ኊ㇠നСࠩ瀮晼Ƭ穅5愠៤⠠ ",
    "__has_persist_output": true,
    "trrack_graph": "ᯡ࠽䈌ʀ匦㢠⹰ڀ↠ಈᆠย堡〫⑅⹆෪¼戢ᮂ宂̸濪⸢㌓暠ᶩᐠ▴ሰ瑸碪䮴囇⣹䶧㝞Ž䉠ð䀡姇冨㕀ॢȠ௞䠸ᢀ眰䅽忚怢晐樠Ԃ牠ΈƔڦ❓ሦõ䰶䇑䅠Ȅ恨汁ئឿƨ⃧挐㇐ؠ嬸යᑤڦҡ哹䑁ᦨࢣ㵕䀺慶䐩疧䈡㸦ƶ穋ۡǹण䍔愊㘠传ϒ緷挪戏ⱡ䕽皮㒓㈨ɪ⫥☂૓炁䑈⸬Ⴂ圽皨篂਱⁰䈠೪揱ᢌگ㇍ᮋ䥂䢠⍤Ⲃȥ噗ᩩ䄀Ѫᅪ⍈ె֮抐㲞ၢ၄w⁸ᙛ屒ᙞ⍀⢘洠䭳঺᥇ℰ䙠  "
   },
   "outputs": [],
   "source": [
    "PR.PersistTable(df)"
   ]
  },
  {
   "cell_type": "markdown",
   "id": "2c7f5eff-050e-48de-8aad-21dde7aa1821",
   "metadata": {},
   "source": [
    "#### Edit Cell"
   ]
  },
  {
   "cell_type": "code",
   "execution_count": null,
   "id": "a970629e-eeae-4173-9729-d47803f18ad1",
   "metadata": {
    "__GENERATED_DATAFRAMES__": "ᯡࠣ䅬Ԁ朤壠ᜣ琢〹夤炠⹰〮⁁䁻қ䚾ኊ㇠നСࠩ瀮晼Ƭ穅5愠៤⠠ ",
    "__has_persist_output": true,
    "trrack_graph": "ᯡ࠽䈌ʀ匦㢠⹰̡࣠䘤ᥫÐʀୠᎫf挓攩剐挱ᓀ۠ᶪìኅ㋅ተ¶⡨⇳㌄ᕁ╦亩͆ᘽ嶛稨ǁ#ッ௜′䈤7࠽ᠠ湐慎Ⴅᣕ㈣%墎吠➛␠㚨አ䗨揠ˑࠠᲈ䤈幃়䖢➂ტ⊂燘ᢸḬᶤ+凵櫺ರ桚ಟᙙ䘪/ጢ⃃声栤䊔䄩ᖦ删ב䎹イ⁸と㤙塢۸䐫ᒥ䰡団Ɀ㫰Ⓚః囿䰡䳐ᤆ҅櫼ຆफ़〤砠Ḏ亾ᠬ㬓戸℆燑て㈤Գ䔌Īâ≸㼨䞁㡑ᔬᅚ擰優Ţ塼ɛ݂⊈㷧⊚异ᵦ漛㕇┫䈥㑮ၩࡩథ፨㉹๭Ϩ੥⓬ઑ椱⍞ᑫቤ⩽ᓫ㋙ᘿᑋଅƸठÊ柎ࣲ䀠Ȭȫ倡⻣ᠧ⠣䠠㥌ᒆ㖈㫱!燵㡚禢ݕ恰৳楙䶎╿犑᫢㦠ߴ㆔⍍☁稜◐⹣㋂ṑע╸ᙾ໧ᅅ㐩擣悴㑋ʓ慸ᣇ⹥ᒔ柖澄㡄䰮ྦშ䩆㭧儸昻ৡ焘ġ܇ፉᚲ懲琨ɴ┰ᅸᵈ湔䷆妣⃗䝶爦旑洖䎴氅ᷮ䮾揃䅤ᠠੂ㰆ᝋ吥a➰ჶɞ篓漀磜漰ᛞ㊘hत倢͜焿捜紱䇘翣推>䉩रࠩൿ氹䌨撂๰ḥᱨᴤ僘ᢥ䄽ڦൿ湡偎֢ौ橣牚ֻ䠬䉡㡶λ獪ɡ灎൧䠸䗠䁼ሡ䄑Ρ䐺想惇§畃⊉⵱䐧儑೅⥍ޤⓈՅ缹ᩥ‧⫆⤑ె䔑ᔂ⓸ႅ撪ኧ洑Ј紱᫐㹏䐑纓ಀ怳乂⒆捁宙৹ᒎ櫁笭ࡘ䔒䥳Ĵ࿚ጦ⊹ࡔ憠㎊ය玜择ଲ晸⭔ո䅡∱፨䊵劬勧㊢架䮒楹岝ࢺ唭◉ᩝ₋൳⚈y㞯ţ⯫煣.ሥ㩂旕皱井⻛協⠰䬀绕䏑ƨӣ懁䊭測㐐Œ愠硆۩碾ɀ栩͠ᤴ⒨⡌➁ᱱй搩恀Ⱖƀ杕㟲熣㘴ೌ⌴Ⲥ劵᳌刅犿ት湝⛵ⵛ┉嵔琸⑖⁼挤愤⮥䍽୓狼၆曹㭕柽䝐䍘矓睝さ痜➨ឝ圮䖝⳪柽㝅᜝⒳䠝ร䭖䡂〴ཙ䒍䤠ࢃ丶檂ٺ尷Ó硨т勭佑㊌塲㵦䥓㾠棈灐榡⍤沭Ӻ墢ዱ໷㫢ୃ⡰ᕒ义槚屜⃬✩נⲣ毀ㅋ՚䐶̩汄↠尩杠〰矸湧䔙彏悐㹿䪐Ɣ䖌爧㑱䨯㍱緆䑯ㅽ䘤ў畛催⃚坭毚ृ棌⽻椚彯槦∸䄖枝㲩ផ淛ǣ檛深ⴎ僗㺊⫘䀡䪦ᐆ橚崡檾⇠ℋ㻒㧫挆ว⹒рفᄕ綥祰ਏႯ⼡䐸஥䒱ᘢႱኦ傱Ԃ䁥㚫緕䀻䐲⭆थ⚔擬ⳍ≙⡸ᠸ堺僉⭍⁃።⍅ㅦ⧦䁹令⠤䃑䦒熬搃㳤ፖ㍸ኃ崄旬䜰秉夑⸪憾؄㌵矜ဩ曋Ǭ侢䵟ី䅒ந⃗䄥ㄢㅎ嚺挥剧ⴰ幺巂嬤ਣ㡁懰慃傘܁ᄭ慸෡憬⇘ण㢔Ո宎ᛣĠ瘱洬士౦壠⦯ᣩખ綄勶䧄拦捅䉧璴䗩㼨⮗ㄠ㠯庶ඃ扚ⷜ㙸巃䥘②ှၮಣ惌೤ᠮᅨ߂⻛pౡᱰ炞沦ჶᶄ๑Ӡץෘ䊦⢅࢐朊፣઎ᑲ幉涎ȣ籙➐䍭椫ல爫炦䜠Ḵᦜ㙧粄Ơᄣ堠ݐ䱄皬唉廾Ⰵ繩妓噣孕ʥᆐ䖕<䄯尵ॼ䠵Ⲕഘ⾵磿Ḑ㽇熨᠄意溲忧編ဘ䪿㪿㨕㆓䣌専摷ᴝ⿾獟尚群捊⭷ࠠذ咍䇴䂱⠷໙寫㑖䇑慪稿㞤ᶘ愠縨䧹ᶝ柮䕓Ԣ寚₆㿑灞䁀Შ䴟杹᭶差䢚ᯈ篽⮖㴼愎促Ṿ䨫烢䤱岓傔烼珳恜਎⦨↓໘䓻㣩䐐༱狳⤯卋懜ᘹᤌỬ澫䋈⁅㼿Ԟ¨㑁㖱ᄹ㉖គ慉渌䄫瑨⛸妩嬉஖ᠠ䋚ᤋ四厅价਷坚俋䭗⡢ⴰถᓳ⻝а䍧䍫嗹ࢋ⣘樭㭾㉺⩂盻殪⅗⎙㧘羢曨槭䩀䈪᲻姗橣ⴣ橦㞫ޯ䚨䯲⢲¨䴩៵ᆂሱ澦Ͳ枋♩⇨嘫剸ʠ㠣ȝ㥛暚㩌嚔㙉ƌ㖲થ渵㶧㋫䙉琼⥀ḧ湼⠸籸扤嵠ⓖჩ㒣吵ᓲ寥瞑Ͻ狭级嚡䓔䮾崖⥤፲綑ℶ勈✤弐嫝毡㊱⁒兰⒂沂ᶙෲ㰯䂘औᠰ减傣煘㦀ᘥ∢ʈ⑪༗彈瓐ʼᔆ㹣瞜旬㾟䯙စ࣠崒糄㤥㤺❔烽㽢瀩⹼楰☻䭩狗㧘⥶桪呐䁪キ⥵ߧ唼ᯋે䴺ྺ罀䛉׏⭦䥂拾痵堃㾬寳㋵哬嬦璈⤍ἰ㳻⵳ײᗈ晫⥤䚏燆杫榕᳍棲刖㹀䧏❴櫭஋䲶媭ᨈ䧍絛獎㎇滃⊢朴䋯余憻嫍ຫ罽獚⼷慂ᘰ主ᮇ囅喳֤夭崽ମ垷᚝ឍ⑗璔⸸描囀沩㝾თ↡⁖䄾嶣爦⠬ງ႓珞旉༕抠пॼ亄㳔皇㋯什埮඼嵊૛◺ᘖ⮖၄␎ଢ䁸ṝ∨䍭˩⎚ᇰ挭࠶ൠุᕓ䗱垿牐㜦ࢉڮ甮伆ཱྀ崆帜ᬥ忲p兩㸶ઢㄷ紪ᘏ8䇌⥞倅´ڱㄽR匌㉝㢮椡⁲憠ሡ䚣a嗕〠㞙᰽琾慊㼃榝牱㴿喛䎹˧ম准Ьↂ౥撵㲃ᕄቇ䓴丘罵⦭᭓ࢻ⬆ࢳ㘵ፚ廣峰歠ᾤ׉唨种ଫᡍ䃽㎖婷秉橃㱍涎⾋憋殰楫䎞垞㦶懌囵睾ଔ㛦痙殦泫⽖㟖熷⧖ᝓ㳿ฎ㖛䦩篛㥍嵖矮瞋嗎嘽嫮ᬂ墽ఢ瑲斂䥢䄃宴✩編࠘い刕窞綒慩ᦹᶳ㘅厛ᱶ↗ʡ㦖ዹᝈ叹ଋ緌ͼ儶ศḼ扂᳒㉝䑴䒚ሡ䞥දᄷ࿋⼌㷋㷣炒瞺Ì弖䜣禯䐔㼇尵罰⚕ှ亰ᬧ✦䔧洹ᣘ綮唈倰終㢐࿤䖂䯇殈̱箓पຑ刮ҀĺᎩ㷐㯨㲖梌瘷㋛ḻ૿䫃䕡ԁ᧠䣗┡ܸࡵ㣤ሃᤩ秲䈧ہ㋋צ炂㊆⬫㕥硒〳᲻⽤Ē猑ᧉ傥⚉ㅭᖋ婢℞睋㔧೶䈆㔫չ⍶曔ಓָೣ湁垓㎊巻䄥㘀璊ˣ曡㑉ウ⫾滔૗Ꮊᡄ婩㜰䠢䷨↌ࣳᙺ桀溊ࡰ篊䁙婺燰䛙⫶䇕㒗㵻⏩婭㊐ᜠ怦ၔ㞀٣⎧ჽ煘ᐉᐿ泬ˤ㘠⠣懟▹㻱❴幫ᝏ⳹玽㈪Ǐ㆒⊷㌅擽⇪ွ䁕捠ᨙ㇢经盟㬢濦琯烠ᐘᎵ䃏牰Á年缇癀٤夦纲䇨搚剅縣癈俺唿癐埿∤石缍ಧ㈘䓰丬咿㮛⟸壽玿⩛篰㹸燧㝡㓬Ƭ㍡㌻戾縤ހਡ恔¼眃᳋䡡⨢㐷ᴩ榻ƺ円ⓛ灚⹜ឳᇋ禬䅪烀䫚ⵦ溁煐禈ⷿ⼔ಘ溦㑅燞瑰篥ᷳ焮甯⟦с爟๐容繈湡瞕ଥ䑬৏भ࢚嗾य़ೳῤⱂ湑砑㹲⾮慯懜㙪Ϊäԙ⏰怿ऄ݀Ⅲ堠䀸Řⲋ௭᳡ලຒ⯾㚱ପ⶘扝㪋と䱠椣Ⲇ⭅曢ᆻᅽᶚ托㢦䘐ℸ亥ህ೟ਢ㉛ሗ珈琚ੑ刏矸ဠ "
   },
   "outputs": [],
   "source": [
    "PR.PersistTable(df)"
   ]
  },
  {
   "cell_type": "markdown",
   "id": "f1fb630b-fa93-441f-98e6-33eae803407c",
   "metadata": {},
   "source": [
    "#### Column Operations\n",
    "- Rename\n",
    "- Delete\n",
    "- Change Data type"
   ]
  },
  {
   "cell_type": "markdown",
   "id": "15e3c565-6568-4e69-b3b6-34de7814f231",
   "metadata": {},
   "source": [
    "#### Assign Categories"
   ]
  },
  {
   "cell_type": "code",
   "execution_count": null,
   "id": "483f8adf-a44a-4f3d-bd15-d2ac32b5d0fc",
   "metadata": {
    "__GENERATED_DATAFRAMES__": "ᯡࠣ䅬Ԁ朤壠ᜣ琢〹夤ㆄƒ䃠Რ䌡㘳眺㱩哧ࠠ桠 䁯猀ಏ䢪K䈠⾸倠 ",
    "__has_persist_output": true,
    "trrack_graph": "ᯡ࠽䈌ʀ匦㢠⹰ࣥ8ƀᶪƺ〶䀧ء᱊೸夡౮柑䈣〨ㅠ⬹Ƭ⣮侻ैkᑄႈ妐ࢷᓍ❡䧋ގ㸢䉠ð䀡姕冯奀ॢȠ௎䠸ᢀ㜰䁾巓怢機⨠Ꮃ䤠ළဢ㎃凸ì㉢ᥚᬬᕮ普გ愨停Ẕ煍Ꮋഽ䆡\"甕種ፄ㨾䞰ᛥㆢ䀣擠䡈䤔ᢆᩇ卆⏰˸惌求ၖᡄᲊ橁Č⌤⩡㒶・ΰ㈶⠥稈砆碌ṋɒ疎ݚ⹡ŸŜ.箰㞬ޣ㌑Զ㫹癖ᓠ箩ቄ孉懐ⱪ࣌⍅ᡐ婇䏥杮ୂ䃑䖈䞤㊑桲佬秝ሦ䘤檴݊⽢䁤兖ᙏ੄ࣴ䒡䣠夼佀⤴╩䰺狳ᄸ乀䥄⥖ൎ暓㤶Ὀ⬵ңࣣ⫘晇ඪᠠќп•嶦〶倣䪊き⫡ʻ曘Ἣ㍴÷၆κ⻀橖㱞ᾥ椨䄌⤧ׁ墤ᡥ䁅⠴༤䎀怼夭䓢桰ቺᆣࡈ਼台幛Ꭵ抰じ㸨䕀⡴ാ䙂ᣬ㬫䘃碢Ḹ⟊᫭᭩㌋偝㹓䌩㐐䣬ジỳ⳩偹ᙋẽァ㙛Ỻ牙✞⧼瓛皚᰼↠Â㰾ؒ渾⠤ෙȕす翕⾎઄汯㸓⭗䠮ɢ値̔䤢េ䈀䫋猑ሠ߆㸿䃷㱎巴窦䏂᳿堖㩐/᳠⧅ǎఫʚ࠶䆲ూ䃔³恸幁䁰䪧⁈ๅ停ش凸ᚢṐᬦ瀤䐢⅀ࠔ䢌ਠ䢙䬯ǐ㒀â㵡Р奖ఛ焀⿋湰ڊ䙩ે悛╪噯丒纟䖃啜ृ⑲杀⭥൸咚滁᭍ૻ㣪䵰䄴૙̸ȹ䌨攺〸朸፴⊹卄⦻㎞⅂岗ᨇ䍨懪粴଻࢘梻፴溺䊼楰唰∠1㾣粕ᒴ㒍⣧㖬庨璫c籝ㅶ0㵫琢ၬ塠㘭䁸⼮䈚੩䃀ᔥâ㩉ᓀ㑥䠨޵䗰ɭ࣢⺂ȓ௄ⲥ㵈擥୉ᓹ♭䦅㳋撵᥁ⓛ❭榦稩愆昩憨ऎ᥆ԍデ⋩㸇⌋夏㇮嵤᧡㣎ⴂƗⰨ㶯Όᦏ㗧减ђ娏ᷤ絾ఄ槿ʲ֢㈷粀メļⶢͤ䛁ᐊ治粘强䏰倷䙤丹ͱ効ႊ䯧⫝͸牑䕘͐喭䉠⸴በİ杼ᚉ怲甧஋ଥ′猫慘ⲋ࡚稦悈Ḧ⇲㭛扰哨Ꮙ佞Ѐ凈欥抿㥢ھ⯪ǣ勜៣礞㎤㉬䦋ᇫʥⶴⶊ倻ڬ淔⬅⤼ࡆॷݵ檘ཾ䄚䃿殦愪᯦妅ᰚ⳿᭡Ѿ歚睻歐ଯ欦粘乆昢了使᫒熣䯤垭ᠠ㦫≋⳶倡擲㟧䂎万碎䀧ଢ紱㋗䭱๺歵廼缿珷圁橘❣珵㝹碚㬌ɗί惕᧭㈐ㆍ䛐揶Ự♝ᇪ䈶䐕洊਀梭䌨喩㘶䤪ᓑ⽖ᝦӟ擅⃝ᖆ䳁砽䋱洴疛ᴊ㡇ʀ≤灛匼倨窓൙⽳㇖Ј圷梎ᡔ䍠㏼ႂ㱷ਠヵ㇁䌐むᯣϤ䅷֜ᒊ㚈懬‰ᇑ圻ҡ夁ᇓ㍒ㇶ翥朚毬ၱೀ塹់ᣏ≓⼦瓄ᴨ懜ᆥ籜Ԑ庤䑴Àچ䑈̀燁爽⍌㵲籪ኡ堻ĕ㜣倶׀挥圄毌˿ౘ㻊犳⇐!⩃৒அᄠ༅⢐෼〷尧彡޲抠㔨儉烾湍剭⾍穩沀ᣪՋ妶㲤噅ǌ㫦傭䧀ⶸ℣姩ၔ⋎̲瀴ўᘬ㹴ઝᐼ綸ଙ匷⫿㸖ࠬ環劰㻧䒜ⴺ勯䖠⾣⓿ᬣ弧痐䌭⺲!⩏ԡ䝹尰䷘籷㤗㾔ཱྀ燰⵮ဠȅ咁๜淫䀠ຽǪ峉柅⡏ᆁ㑱ːརテӵ寿棺厡灉ࡤ☣٬ʀᑩ䂅ᦜⰧ䇦嚣ࡔ⊐Ť㓁凬⠀ⲫ渼㧺ᴓ䃙推欱ኔ䵜畮ଉ烠ንࠧ夛̈溶Ƥᰨ㴹䊚禢穘᜔桙㦁匤细琝෣惖ᛡ∶℠橣ὢ䌿થѭ݃⠵⍏曶䲂懼恃᱉揦෥帢ΐ晔卉⼢㪌刏ඓ㝈֢㫤硺ਐ嬨ࣅ഑剩㆘ϡ䊫ᄲ㴲ᅉ㯤ㄶ〹坄㺩䑈Ҵ搯Ⱈ佹ඁ寵ڶग䉹㼲奡ሲ廕怤令榿ᮌ悊ᄨ淑Գ䋆彭漨牮㼡ⶭ嫤庴㭣ᑩឃ჉ᆅỳኝ囪牠㥙を⁬ռ垾秸਒吧犅䱸Űᙿ⡏ˮҥィ䲍ᬁ෇冻Ⰵ孿撖樒皰⬥ࡹ橰噓奲↋䩥⁜撵㮔眰栩喼ৣ橜漿㍻䀢▼Ὓ乽䉼楆⽵眐⤵庞䫵ℸ䈁អŠ榤㥄⋷䴴⁌䣨䖝堵ⴸ༡䉑䣢狷㔝睉⺹⥝ኸ絀㏏䧇٫│祄癰࿥㏏汐䝈䌤ŦἋ䜥ᕀ畈ͺ⩼干㡬嶢èయᶶ佇ᙾཏႧ暈҂③團⋞䋥⛧ᡮ᫊䪋᭤渳嘸婑忬孂⛑䑯፿᪐䂊⫮㞱彻♢ᚺ㟌⌏㶚㞺䵐䇈樉ᾁ声ᛆ嬁儸䀧Ԣ〮Ƅ⢀≵㄄ņ祄ҙ效п䒫牬䞪撉竓ẵ䜼爒弡燁熣㿦ɺ暤揤ર͝⬯仱ᎺἮ洓⃫᷒✶禰第仒沷眖〆ذ匰Ꭲ坋疤㰉灯漝⨫縑ရаڐЭམྥ⒥嘚岋ጼ氊櫶〠۾㏏㶸౵㋀䳷սค溼᛽扩爔 恟䇠ख㺃淤暯⸰က伲竊坬ი䗜⒬ⷧ槾䯬纫扚὜㮨᠇纔眢侏京䀽౜㫸なၖ暐Ⴏजլ᤾㴹數⩞䄬囘塔砸涶䆫ಠㄪ䌻挅䎣岴ᘲ䦖䐘悪Ԟ噪劻Ĺ⼫眶ɑ㨻熑᫃㲾⧼坳櫿ⶻ怩༾ጢ另ἢ䤮礏≠⴩䦺卭ᣓ⣒Üଖ૪¨᳇剭佫Ţ畢Ҩ䱦㤄Ɗ氳橒睨ᶮ⸶幻ᦗ㝩⭍癖⎳绡搪㛖ါͲጬ堵兩˖㝾斳㻮攒㏣畟䅡焋㳱榍澺簍奠ᾛ嬇⿔ត氼ဠ "
   },
   "outputs": [],
   "source": [
    "PR.PersistTable(df)"
   ]
  },
  {
   "cell_type": "markdown",
   "id": "94a72763-7cba-4fec-91f8-8f673585a7e2",
   "metadata": {},
   "source": [
    "#### Using output dataframes"
   ]
  },
  {
   "cell_type": "code",
   "execution_count": null,
   "id": "97add61b-8b77-40e1-8a99-80da51e1ca12",
   "metadata": {
    "__GENERATED_DATAFRAMES__": "ᯡࠣ䅬Ԁ朤壠ᜣ琢〹夤〡䈡㥠怼䁣Ö࠯൜⓴殨⁀Ѡ➠㬪瀬え䔠ᗢO嗂фɥ棪⭶䶺攠ỽ┼⪊LČⴝ⠡ᥲ倥吐Ā΀Ԅ寺㺯㋠ᇉޯ䬡ⱘࠠ㌿䇨᪣䕧犰塡籂⡈їԻ今䂦ℋ⢌缈Ⱗƭ䜹溮䋓榙ᱜ㛾欯⨡勈愣㝢ۥ恳僄繤ᱚ宦`۵·灠܆繟⤽䬲悄৕᭚䲣梶ݾ必唫ބ๾䒘ˈ劼䢊㼲㒺∩᜽橯ౖ୸᭫᷉凹掏愥ᙲܣ䈌穲េȘ縻ତર塸儥㥱ጸᵥɀṮ᤯揈;ࢼ䜂戸噀ٴ∎ᅐ澣೸ឨ%䧠ҹᤩš䠠ᱴ䁄ণⱣᆢԘガ✰Ú榋ǡ焘㆚࿩䁄焰  ",
    "__has_persist_output": true,
    "trrack_graph": "ᯡ࠽䈌ʀ匦㢠⹰ˠ㬡దᥠ♉‶䖠ภ氢㤩⮠㌵Ф〰椃䈥〠憠㌧૜僙ↆ㉪2攩њ㙜˥擈毲㖎淯䁰䣑ဠ㑀Ⲁ仨ɰ䂠̄㈦;䘸Ϥၗ眽〠婨䳀n㝄V䐤䇫⃠净䣙哔婂ਫ઱䉪晄ㅡ凳ᡐቺ⼨7Ⲃ㆐奁㦬壁晛ఴ>☤䃣↑㦐⣜⸬ᤰ抸怫ㆣ宫ၡ䲀䢉巄䈳墮೉ɒ氡圃暀令㳀ఌぞ⻳ᣐ瘨痭尲昢∧〤砠ᶿ἞ᡌ໧愤䧼䝓䳤妆楌䚧惐๓٠愨㑏ɥ懈屏୤၈殧ࡢ䆦帪ᙄ㇔䝛昕䤺ᡓⴑ᰹捔⬷䔲擊ⵠ撸泛֣搪䘱≳ᕁ᥇䳫䐲⒪ʳⓙⲮ⟯攪౑⩴㣬䙍⨀ƴႀ仠04堼֣㣀恠຀ɲඬᯰ栣䠠奠帠Љ㻡⟀ܷɬ嗓夁呡似࿋夽佶ġᠠ垑叀栤䅰䶁嬸ἣ䷡燩ᠼἤ⊱ᐬ㵢懑᰾ᾨጩ⊑Ǆ棕浕寋欁屒ԡ䌀䌩䪃᪡獥姂媇ᮍ䈧堼䞛䴇ᠻቋ䜇㦆⁘ᩣ!≉ῶ熙‰ㇸ恭䁧燡㲙楏╛焠玖㾴༤⋀У疲䈿ᦢ沒ᾞᙠĔ㯥穆篲ᠺᣮᩆ擤Ƽ石窘濷筜泹刡伨բ挬஡夻ʂ䑣°䈬䌀㋥°ⰷ䈰昷吂ᐹ䍼ᠣ䂐ሣ̐昣ϡ䌱ۨ映䐞ౘ١㬧⥌ӡ́灡ᮜ炪↪ွ歴㠻棠彠ᢸ⃥ᢠ㍫ŀ㬸ᇩᎴ犌徿爢恮慸ᠶ䋨礨奈勵⇰ز妈᫷⏶̡㭴圢ࢀ䙤̤嬿ᩙ䔤壈狽暈櫧⇶紱墠Ⱑᬤ೼ᘶ䣙≱㝃ⅶ洶娈۾Ԡ  "
   },
   "outputs": [],
   "source": [
    "PR.PersistTable(df)"
   ]
  },
  {
   "cell_type": "code",
   "execution_count": null,
   "id": "4f825155-3cdd-42c8-88c5-ef7891b64b37",
   "metadata": {},
   "outputs": [],
   "source": [
    "test.head() "
   ]
  },
  {
   "cell_type": "code",
   "execution_count": null,
   "id": "39263d07-8624-4b3f-9e59-5533a1e98e02",
   "metadata": {},
   "outputs": [],
   "source": [
    "persist_df_10.head()"
   ]
  },
  {
   "cell_type": "code",
   "execution_count": null,
   "id": "eff58716-b18f-4c00-9a93-3ed2443344dc",
   "metadata": {},
   "outputs": [],
   "source": []
  }
 ],
 "metadata": {
  "NB_UUID": "9b2f5bec-a755-4a5b-a877-fe1a880b9f38",
  "__persist_keys_record": [
   "__GENERATED_DATAFRAMES__",
   "__persist_nb_uuid__",
   "trrack_graph"
  ],
  "__persist_nb_uuid__": "be067817-dfa3-42d6-948a-39c4b95d3382",
  "kernelspec": {
   "display_name": "Python 3 (ipykernel)",
   "language": "python",
   "name": "python3"
  },
  "language_info": {
   "codemirror_mode": {
    "name": "ipython",
    "version": 3
   },
   "file_extension": ".py",
   "mimetype": "text/x-python",
   "name": "python",
   "nbconvert_exporter": "python",
   "pygments_lexer": "ipython3",
   "version": "3.8.16"
  }
 },
 "nbformat": 4,
 "nbformat_minor": 5
}
