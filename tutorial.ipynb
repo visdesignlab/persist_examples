{
 "cells": [
  {
   "cell_type": "markdown",
   "id": "721323cd-bb01-435f-a189-52f86ac438be",
   "metadata": {
    "trrack_graph": {
     "current": "5a5a00cc-06cd-4338-a90a-1365ce04ac27",
     "nodes": {
      "5a5a00cc-06cd-4338-a90a-1365ce04ac27": {
       "artifacts": [],
       "children": [],
       "createdOn": 1699995232057,
       "event": "Root",
       "id": "5a5a00cc-06cd-4338-a90a-1365ce04ac27",
       "label": "Root",
       "level": 0,
       "meta": {
        "annotation": [],
        "bookmark": []
       },
       "state": {
        "type": "checkpoint",
        "val": {
         "id": "0ed02552-2223-4b2b-8843-223fb8396132",
         "type": "create"
        }
       }
      }
     },
     "root": "5a5a00cc-06cd-4338-a90a-1365ce04ac27"
    }
   },
   "source": [
    "# PersIst Extension Tutorial"
   ]
  },
  {
   "cell_type": "markdown",
   "id": "0892e834-de92-4f36-85d7-deee12490be5",
   "metadata": {
    "trrack_graph": {
     "current": "5719397c-958a-4994-91f0-d7a66aa497ed",
     "nodes": {
      "5719397c-958a-4994-91f0-d7a66aa497ed": {
       "artifacts": [],
       "children": [],
       "createdOn": 1699995265084,
       "event": "Root",
       "id": "5719397c-958a-4994-91f0-d7a66aa497ed",
       "label": "Root",
       "level": 0,
       "meta": {
        "annotation": [],
        "bookmark": []
       },
       "state": {
        "type": "checkpoint",
        "val": {
         "id": "52dfacb4-8b03-4e0d-a810-0a3f919ebb61",
         "type": "create"
        }
       }
      }
     },
     "root": "5719397c-958a-4994-91f0-d7a66aa497ed"
    }
   },
   "source": [
    "PersIst is a JupyterLab extension to make interactions in cell output persistent. Persist tracks interactions for compatible outputs in a provenance graph.\n",
    "\n",
    "Capturing the interaction provenance allows us to save our interactions with the notebook, and replay them at point later. You can even rerun the interactions if the value of the variable in the persisted cell has changed. Persist will try it's best to apply the interactions to the new variable value.\n",
    "\n",
    "You can import and enable the PersIst extension as follows:\n",
    "\n",
    "```python\n",
    "import persist_ext as PR\n",
    "```"
   ]
  },
  {
   "cell_type": "code",
   "execution_count": 1,
   "id": "dbc49dae-f456-4ebd-9146-4ae6ba83838c",
   "metadata": {},
   "outputs": [],
   "source": [
    "import persist_ext as PR\n",
    "\n",
    "from vega_datasets import data\n",
    "import altair as alt\n",
    "import pandas as pd"
   ]
  },
  {
   "cell_type": "markdown",
   "id": "2dc9acb1-d4fd-4949-843b-fa0afa32387d",
   "metadata": {
    "trrack_graph": {
     "current": "5719397c-958a-4994-91f0-d7a66aa497ed",
     "nodes": {
      "5719397c-958a-4994-91f0-d7a66aa497ed": {
       "artifacts": [],
       "children": [],
       "createdOn": 1699995265084,
       "event": "Root",
       "id": "5719397c-958a-4994-91f0-d7a66aa497ed",
       "label": "Root",
       "level": 0,
       "meta": {
        "annotation": [],
        "bookmark": []
       },
       "state": {
        "type": "checkpoint",
        "val": {
         "id": "52dfacb4-8b03-4e0d-a810-0a3f919ebb61",
         "type": "create"
        }
       }
      }
     },
     "root": "5719397c-958a-4994-91f0-d7a66aa497ed"
    }
   },
   "source": [
    "## Supported Outputs\n",
    "\n",
    "Currently, persist supports two major output types: Vega-Altair plots and interactive datatables."
   ]
  },
  {
   "cell_type": "markdown",
   "id": "0dd3f9db-f762-4cb9-ae32-e66f177df309",
   "metadata": {
    "trrack_graph": {
     "current": "532e7b35-40eb-49bc-bcf5-4ac20f338809",
     "nodes": {
      "532e7b35-40eb-49bc-bcf5-4ac20f338809": {
       "artifacts": [],
       "children": [],
       "createdOn": 1699995589077,
       "event": "Root",
       "id": "532e7b35-40eb-49bc-bcf5-4ac20f338809",
       "label": "Root",
       "level": 0,
       "meta": {
        "annotation": [],
        "bookmark": []
       },
       "state": {
        "type": "checkpoint",
        "val": {
         "id": "6680bfac-15fc-4ff4-b8c1-1921d906a0ec",
         "type": "create"
        }
       }
      }
     },
     "root": "532e7b35-40eb-49bc-bcf5-4ac20f338809"
    }
   },
   "source": [
    "### **Vega-Altair**\n",
    "\n",
    "You can create any interactive Vega-Altair plot and pass it to create `PR.PersistChart` to create a persistent chart.\n",
    "\n",
    "E.g.\n",
    "```python\n",
    "\n",
    "selector = alt.selection_interval(name=\"selector\")\n",
    "\n",
    "chart = alt.Chart(df).mark_point().encode(\n",
    "    x=\"X:Q\",\n",
    "    y=\"Y:Q\",\n",
    "    color=alt.condition(selector, alt.value(\"steelblue\"), alt.value(\"gray\"))\n",
    ").add_params(selector)\n",
    "\n",
    "PR.PersistChart(chart)\n",
    "\n",
    "```\n",
    "\n",
    "The above snippet of code will create an interactive persist scatterplot with brush interactions.\n",
    "\n",
    "Alternatively, persist comes with `plot` module which provides helper functions to create simple plots like scatterplot and barchart."
   ]
  },
  {
   "cell_type": "code",
   "execution_count": 12,
   "id": "b58f8f0f-8f4b-4346-8c48-3b0b22d758af",
   "metadata": {
    "__GENERATED_DATAFRAMES__": "ᯡࠣ䅬Ԁ朤壠ᜣ琢〹夦゠⹰〮⁁䁻қ䚾ኊ㇠നСࠩ瀮晼Ƭ穅5愠៤⠠ ",
    "__has_persist_output": true,
    "trrack_graph": "ᯡ࠽䈌ʀ匦㢠⹰ࢀᦴ⠣Ìڀୠ֠㭌刢ᨇ䢴ǐ憴义⋠✠掆㠤朄䨠ዪन㩬岥⑈墱又泵嶷⼸Ţ†汱⣧械ӁĠפཬW౐ᮨ⁏⻹܀ƂῊ)攄䀦梠ᨙ҄ⰸCࢡ䦦䕃⎐ᢨ呸⨲⥌㮤䁥Ň瀱儲†嵝㺣䓩֧圂ӁⲀ倠祐ቌ㩗࿣䂀ਁ䠨稠嬸ᖪᡲ☩ʺ墨⃛ࡁ⪰ᕅ䀺晒䀪溤⨡㺚㷥娪᮪悪彻䁌悆嘠传σ痧挭拽㱠䖼佝䊥ᦰး䅁䃰⩇ɠヰ縱ܲ傐㤶ౣ悐就cⓈ縺ৢ䀨ؼᨁ㷾ळ⌡㔾⏝ៀ䓂ᣜ⢷⁲㒦▱摨㲡⑱ᓪ焸ᄭ㢹ɔ✰⒲ບ⦶斒糁Ⱶᗪ檱䝵㠠攳ᰊ楠\"6⠇䀠綗䁆㐡所纹ご4ᰡ喀䀭繌․儈ڠᵦİĆ漵䚈˭紵ܢ㨨Ʃଏ㨤ه،禊䂋䜥櫎伯䠄֢喨i൘ᐬৢჀ㰱䩠䫀ವ̪შ壌⡫መଔ᬴硰屴ᡒ刈ᐹݡᇐᲾ࿧搋ᇗத熻丿㻕㴖✫䥀懐籑๤儴婝Ӡ⣸ฯߤओ曞姶疚Ġ惠䰘ቘ楖䳡ᐼ涁㒶૦夔⛡Ỡ㦎৩ဢ㧩㧎⇧儀ᢣ ⢺͠窭攠値Ѣ†֓Øㄆ䈗ᚲ㲏Ё;䫡硠䐵Ӏȥ㰲ࡅ㲦ឤ磔㯠䠠Ả䩜㴸ఈɚ䞆᪷ᢼ晕䛘癓䔩ᩅ匑圯䑢慄঩ळ䃠劬䅰㣨䎐䊤㢰爪媐嫥䈀آ䎐䅶်̉⒠ᙂ⏐焯ℑ繄▉ൔ⒜値棴㠢棠⭶氈筨Ԁ.䖡䠴惣ጔ⎢㡇揂㵸弘䤢c碈俢彻ΰ嘠氺䎐昢⎈樱捷欴灒௨穌༙䭒σ፜ࣷᬖ桷䠢ৣืᜆ尯ᷧᔞᘠ倩䃤ʩŅ用3Ჽ͇峈ਅᓋ˄䁞ᾐ囥ᰄ㸰䨡ࢱේ㱔ɀ䱈Α亰Ε溩ష䵫⎉涅䞻㱿昢㔰 㷩ᔾヶ栬簜Ү⩣ᢁೃȨ榞峠޾࡙╼᦬珶ৰ穢ᱰ䪲䩷ෲ嘫䅒汭䨪Ⰿ䬪煵泊㹔⪚卲樦妃刊䄫櫹學᯲䕬㦮㫺玄撥孆滿拈`⌀㞦㔤糵卼J栢ࢽ䚱矫稞㎦チ㮻岄ȏᇈਂ凯㪥㳔ญʊ⎪ւ㐺Ⲧ䖅ⲋᶀ⡈ᎂ泻ގ䯛ᑅℛ࣌ᑫᨦⷽ疋⵬䎋盋㿙沣澉焬ㆪѠ້ᐕ㇊㕢䟹ூ叉申ǁᒝ㿈ඁ啳⪃⏋ࡂᘦ⼒罦䴌⎩䱠ዻ䲱䆄ࢠ笉峛磉ᕹೂⅲ᳍攵㽂咥⸃☏૪欚ఉ㌐ࠂFᓣᤞ耈姞淢ϖ⻯奨槫ɤץ㠾巢䏰昻㺆़㼨焷䋀到祈䙓專羲ㅱ㎂ᠡ抷ࣅ幵┮䡁碶ȑ⹓煸䑡斁碭濠堪䰲傠卌₰ᘠぱ匶祎Ʋ柔ݭ梀⸤ၲրਪ⁶玪知䅄䫘硂ᄨ␥䁷ঙᓲ䂪ঠ堿ƺ⼡ɏ娜䕸┵ᬅⵓ㖚㄁㥊Ī⩣籺Ȥ⪧ѼȨ洯ࢯ䋪䊉惩⃡⥴䳐ң摨̰眩浒ग़㹃ڵ⼭冹ʔ㺧狃؀礁ー࿡縮ㆶᄣ㱟㖌㻥懕⡃Ⱛ僤͡ఴ憾Ꭲ汏挴⒤硴嫉ⶫ㴢眪俅૫ം․瘈ⲡ⑭ᠵⲩቒѩ⸰৉ᐳ䉏䑒ⱈ⊷榠ѩ㣤ϱ䓀㇤暵㴬扥䲈Ⱳ╸搯涕៩愹ѐ亵ᰬ储ೀ䙉̴㱤夦܀∯格ՠ䙟䇰≱㖷䎘໓籕ざ㐤㛲࿘爨碴ᔒ吩~ڦ幁ߖ媪Ӟ᪑ά傐Ґ倸灮ᔂ္掼澋䑫䋙⇴⇣䂒砷攜忭ဠ⨥䑢֫䚵惍᱕፛㎾凔ẑզ仩挀溼˼㠲屢㛘ᇌ㉅௃㨣⇠爥䄍戠ᦻ㢛䛡篟䀯㸰渡盼刂擲仩Ᏻ䨅ޱ祒刪᫂硛授ߥ९俰శ䄐ἦ㽎礞 Ⱡ២偎̇昜のֿ丛჌ɟᘱ㽯瘢砊纋٤㿬ࢵ嗢梠ެ桄㴡們攷慧⡃呏ሪㄠ╀技屭ㄜࣉ纴Ⅳᵲ摕␝⍦ႋ⟚䫐㌈䌭氱൘ॲ䩅ᐃ㾦፠⪈尫ࣴ椘㣯ઽᢃ䙊ᩖ䅥⩯堍ʏ⤂櫱䢻࡝⫘浳䆛▤࡚ሔ綌೦濭὇⤴夃ᩌ媣㵔执䖆瞩月洁㳽㈃倴癚尼ⱅᲖ䞶慭۸䱽㘷ⷠჺ毄㊤㎔᪁㭔悈䴀框櫽樉⮻䥝㫲⻆潶┷⹯滀洍壍渜௻᰿嬧㸗ڀ◉㛲ڰΊ⇌ヤ䵸⠿全ᮡ僱ʐç䐬ᙄ滩庤䌩筋炞ᤇ痁宭㇔峣恰᮹㚊ঙᨻ⃶䃢干̘琰ѫۼ⤧峒ݧ曹⃯মẍ嬈ហᄠ䐅睉秣䩙採୬〶杒ᑪ⡋⊸␌⎤  "
   },
   "outputs": [
    {
     "data": {
      "application/vnd.jupyter.widget-view+json": {
       "model_id": "4a711e053b964d0595470773beed3617",
       "version_major": 2,
       "version_minor": 0
      },
      "text/plain": [
       "PersistWidget(data_values=[{'__id_column': '1', 'Name': 'chevrolet chevelle malibu', 'Miles_per_Gallon': 18.0,…"
      ]
     },
     "execution_count": 12,
     "metadata": {},
     "output_type": "execute_result"
    }
   ],
   "source": [
    "df = data.cars()\n",
    "\n",
    "selector = alt.selection_interval(name=\"selector\")\n",
    "\n",
    "chart = alt.Chart(df).mark_point().encode(\n",
    "    x=\"Miles_per_Gallon:Q\",\n",
    "    y=\"Weight_in_lbs:Q\",\n",
    "    color=alt.condition(selector, \"Origin:N\", alt.value(\"gray\"))\n",
    ").add_params(selector).properties(width=500, height=500)\n",
    "\n",
    "PR.PersistChart(chart, data=df)"
   ]
  },
  {
   "cell_type": "markdown",
   "id": "33d88224-c199-41e3-9c83-05f75d9a013a",
   "metadata": {},
   "source": [
    "\n",
    "You can see that the output area looks different from the usual output for Vega-Altair. We have a toolbar on the top and a sidebar on the right. The toolbar gives us host of interactions we can perform to manipulate our plots.\n",
    "\n",
    "Persist keeps a track of your interactions and stores them in graph called provenance graph. The first tab in the sidebar titled `Trrack` visualizes the provenance for all your interactions in the cell output.\n",
    "\n",
    "In the second tab you can see the text summary of everything you have done to reach the current output state.\n"
   ]
  },
  {
   "cell_type": "markdown",
   "id": "b74296c9-2e95-4cc9-a343-5b714c28e39d",
   "metadata": {},
   "source": [
    "#### Interactions & Persistence\n",
    "In the next cell we have the same scatterplot, try interactively selecting points. You can repeat the selections as many times as possible. Try clicking on different nodes in the provenance visualization."
   ]
  },
  {
   "cell_type": "code",
   "execution_count": 9,
   "id": "14a7a49d-93e9-4563-9c96-88b86853b8cc",
   "metadata": {},
   "outputs": [
    {
     "data": {
      "text/html": [
       "<div>\n",
       "<style scoped>\n",
       "    .dataframe tbody tr th:only-of-type {\n",
       "        vertical-align: middle;\n",
       "    }\n",
       "\n",
       "    .dataframe tbody tr th {\n",
       "        vertical-align: top;\n",
       "    }\n",
       "\n",
       "    .dataframe thead th {\n",
       "        text-align: right;\n",
       "    }\n",
       "</style>\n",
       "<table border=\"1\" class=\"dataframe\">\n",
       "  <thead>\n",
       "    <tr style=\"text-align: right;\">\n",
       "      <th></th>\n",
       "      <th>Name</th>\n",
       "      <th>Miles_per_Gallon</th>\n",
       "      <th>Cylinders</th>\n",
       "      <th>Displacement</th>\n",
       "      <th>Horsepower</th>\n",
       "      <th>Weight_in_lbs</th>\n",
       "      <th>Acceleration</th>\n",
       "      <th>Year</th>\n",
       "      <th>Origin</th>\n",
       "    </tr>\n",
       "  </thead>\n",
       "  <tbody>\n",
       "    <tr>\n",
       "      <th>0</th>\n",
       "      <td>chevrolet chevelle malibu</td>\n",
       "      <td>18.0</td>\n",
       "      <td>8</td>\n",
       "      <td>307.0</td>\n",
       "      <td>130.0</td>\n",
       "      <td>3504</td>\n",
       "      <td>12.0</td>\n",
       "      <td>1970-01-01</td>\n",
       "      <td>USA</td>\n",
       "    </tr>\n",
       "    <tr>\n",
       "      <th>1</th>\n",
       "      <td>buick skylark 320</td>\n",
       "      <td>15.0</td>\n",
       "      <td>8</td>\n",
       "      <td>350.0</td>\n",
       "      <td>165.0</td>\n",
       "      <td>3693</td>\n",
       "      <td>11.5</td>\n",
       "      <td>1970-01-01</td>\n",
       "      <td>USA</td>\n",
       "    </tr>\n",
       "    <tr>\n",
       "      <th>2</th>\n",
       "      <td>plymouth satellite</td>\n",
       "      <td>18.0</td>\n",
       "      <td>8</td>\n",
       "      <td>318.0</td>\n",
       "      <td>150.0</td>\n",
       "      <td>3436</td>\n",
       "      <td>11.0</td>\n",
       "      <td>1970-01-01</td>\n",
       "      <td>USA</td>\n",
       "    </tr>\n",
       "    <tr>\n",
       "      <th>3</th>\n",
       "      <td>amc rebel sst</td>\n",
       "      <td>16.0</td>\n",
       "      <td>8</td>\n",
       "      <td>304.0</td>\n",
       "      <td>150.0</td>\n",
       "      <td>3433</td>\n",
       "      <td>12.0</td>\n",
       "      <td>1970-01-01</td>\n",
       "      <td>USA</td>\n",
       "    </tr>\n",
       "    <tr>\n",
       "      <th>4</th>\n",
       "      <td>ford torino</td>\n",
       "      <td>17.0</td>\n",
       "      <td>8</td>\n",
       "      <td>302.0</td>\n",
       "      <td>140.0</td>\n",
       "      <td>3449</td>\n",
       "      <td>10.5</td>\n",
       "      <td>1970-01-01</td>\n",
       "      <td>USA</td>\n",
       "    </tr>\n",
       "  </tbody>\n",
       "</table>\n",
       "</div>"
      ],
      "text/plain": [
       "                        Name  Miles_per_Gallon  Cylinders  Displacement  \\\n",
       "0  chevrolet chevelle malibu              18.0          8         307.0   \n",
       "1          buick skylark 320              15.0          8         350.0   \n",
       "2         plymouth satellite              18.0          8         318.0   \n",
       "3              amc rebel sst              16.0          8         304.0   \n",
       "4                ford torino              17.0          8         302.0   \n",
       "\n",
       "   Horsepower  Weight_in_lbs  Acceleration       Year Origin  \n",
       "0       130.0           3504          12.0 1970-01-01    USA  \n",
       "1       165.0           3693          11.5 1970-01-01    USA  \n",
       "2       150.0           3436          11.0 1970-01-01    USA  \n",
       "3       150.0           3433          12.0 1970-01-01    USA  \n",
       "4       140.0           3449          10.5 1970-01-01    USA  "
      ]
     },
     "execution_count": 9,
     "metadata": {},
     "output_type": "execute_result"
    }
   ],
   "source": [
    "df.head()"
   ]
  },
  {
   "cell_type": "code",
   "execution_count": 13,
   "id": "395506b7-7f57-4c0f-a7a8-8b49de034d5d",
   "metadata": {
    "__GENERATED_DATAFRAMES__": "ᯢ粠 ",
    "__has_persist_output": true,
    "trrack_graph": "ᯡ࠽䈌ʀ匦㢠⹰ˢ吪恃¼ᒀⵎXĸ५㇤࠰总ᚡ䰤掠♌䷅S㴠癄倡ᙰ䡡箃摂⹲媽⌶發㴚Ҩǁ#㗊⌿⩠ኤРᜰ㵐üム湁Ý㮄Q䀥䲞吠৩撠۱₸堸纂⬡س䎯⃅拰ࣙ䑈䓺┪ফ掤斂ର䀡㪚紧লᖯ☌ෂ壡‡犀⑌჋ᶳ佭ආᄃऔÖᡋⵈ䐶䘩ں妨⃛ࣁ⪰⥅䀺湛␩涤⨡㺚Ѕ罍௪悮峻䅌憆嘠传ϓ痷挥燿㱠抇Ꮿ㋱⚄Сᅨゞᒧ䏱籮ᅅ䊱дែ挰ᢖ¨⯱⑮ᾣ䅥琴ẩ燝ὉৃÕ伳䆷剥典幈䭅⥪ܡ䦄㥺㽈⬵▒䈵ۙ䲸乀䥄⥔容䪑奼䁴⢴敯წ㎢†ၪʠ$〬'㠺幚‮アˏǀ݀ƅ繺㋳ϻṺ堽祺㛷叫琘䄰嶂̴幆̤拱ш玥p⡲ࡧ℩塬䡥䆁Ɱᣣˑ౪佮砼丷ᩮ䋩硂ᒈ兰㐦ᦦ悑屾ᴭ倧䵶䏆夔紬ཅⰴʅᣬᄙ冂棌欭佭塠笣䤏㦼獠匍㫽䝝มრq㼿䘘眰吢׼䀠⮸ঞ᷷䞽ጐ糞ဩ㖅硡へ⨠䇾ᒬ৾↥熾ㆂ梜ᒠȉᓘड⃞䇝澥喉囍儠束琣⹐ണ炇犣⹔ત穂๢删䖩㑇ʭ㣜㌐ᐰ䆡摑߁禡̑ⱑ䋡簷䕁⑑̑᱆ৱ塴䗁竇䑂ゖ疼㾲ଙ抋䒳ሾ猐jดᢃ⛳绋䚔㕍Εᡩ擸㼿怤䂵䍐ゴ䆱㡕ば楒䒌樫㓱淐䔲ٍ✤塚眭ᇔ㖬䱜㑭䧊㝬㡆㛭㦬߭׈咱⸰⪬ㆡά঺ҫ㐺㋠ᦶ㇬禡ㆹ唱䏉⸾呕䚹倣䭊悕ަ俔ڵ䂡暾䢕ڋ垕ể䜕帾䠬縠☨玶技╘お⡈攅岫ճ౮ˡᰰ䘉⑝̂㡟ɌΈ㐺ዋᚴ᲼刅િᏨ堡╵䋇㗅巇✉㵟␹瑇ݤ䈸皹㌴盐㏊曝௒瑙࿙擼戵懘睜無篌ٝ➬ᶸ࿝揰瞺᣸侳斜哋䔝徹ฝ歒䤠碕恃ႌ䧙㏔஠᩵ᙇੴ䟋牶ठd䪲ၵ䉂⁔ள⭔ஆ䄓ᣃ⹓⫝̸᳷ᷢ〨ೇ劕ṃ③ତየف㐶嵀圲榃妑ʡ౶淀ᤦ槂⠱∱Շ̑ᢙ䨑㽟搥乍䯻⸣䮰㖹ƒ්䚌ᨻ〱庚燉๘ᔁ毉ʻⰬ棁獢㪍䮆⍺ᮗ໺燧弰⦄溻Ռ汮玒㿴⭺㳻ᨎ棴ᖖ囊䛉偕⋸瀠ᓽ⶛ⴊ桿圊⻑䰊瘠潍⡬ݣ练┻䆤歈㡗რʇୖ㠥ơ㰽ک಍਱砰䝻琼䟺◘潌楨⳪憖⩬⦾⺫㆑⡫╣毄㶫瀍ό⿀ᠯ梽 橹犚ᦌ⻧汐㍼ࢅ屈栢ࣨ硯഑湈ƃ⛤捋挡碋䘰䜤到䳀妹罇ᤁ㥗䮜ቶ㺃☭☠⋽燨Ⅸ㗋㣺ඡ䬢ࣆあ∜扤橭ⱹ嗡⁏Ⅰ⥀煙厤ਪ␩䱰攠䃀᮫ㄬむ㛓☧ゾ枅㊎枅Ỳ夼幢欿壈ᎇ⡶拰儍⢞⒠䰽㢇亘ឥ勰㌑⁵燨春䂻憡对挗䄛ኴ䎸䲄壅煾㘀煮ጃ㯨∗弣⮶全ᶕ啦狁姠瑶ΙĻせ䏈䞸笗ᆳ㨯␾㋭ⓣ⅜䆼㓢У㢲⅐ᐠ〢֤ᰨ僌Ǥ炫悒ᒠэᏑᗑ⁃Ԑ⠥娸୨歨䄆匚垡̰Ⴁ恢Ϥ墣䱡ࢥį儋䬬㰇ឤ᝖ቮ◊⻉滔ᗧ㔖凁㬻⍝∣癗劀ᮄ惤֡忯琶;⢀ң࠭⺌㜡⢍峐愐ީഀ㔸偼ᭀ硓₷惡㟥䅍ѭᱏ΅傤ᖫܓᬪପ઎ᨾ簩ᒳ勬☐⠩ࢂ塂䰵⮒វᰥ灼Ⲁᵂ⏈֠偟.♦䐼䐁䣧өѰ歡⏜৺ⳋ壹⪨噬ñᾇⳎ‼穓摣䑡䏑䙀ਧ⹲䴀犹⧵᭳畄䪺◄ᠬϔ杨磷޵䕺䣪兠畁်㵶但垊椧Ӫ儠,児㏦栦䏴瀠ȕἰჽ‣䓡ὢ᪠q⚻⢕ᳰjຠᨠݱ䁑Ӕἥゎ吨滟Ⅸภഠ㕼両ڣ☀Ʀฝ⮳⸮Ľ✀䛁⒦㡣斔䊠ᆠ⃄֠㑢䇂ᾣ歪ፏⴕ剽炅⠠⢾ૠ帠㨘ਣቝ㘲Ⳳ尤䅅稠䲀ⶑ珥Ñᒡ䊆愿ᆉO྾爥ㅖឃ毱戨஘瞻䖤䇬㵃丌埀Უ֩Φ獇༇羰ᩜ瀩⹀⣘瞹Ɛ洢㽒Ȱ䀅ႝ瀡乑˰ӡʁ՘ᔫ⓻ଅ岀⁃䋐夯㍌⦥昵⛄ᱥᡜⷿӔ樹㙐之䊬ᮁ䉾圏䖠倱技Ћឡ㡍༡೮܂履扢੪ɩ䅨ᖆ䒹᫉ሾᅂⵥ妪甾匠廗气῵朴栠ᵇ毰ཥ伯冨戩恚ࣛ㊃é६剗᪸᙭䆭㣰䵩嘠⧍᫢ଇࡌ亲ƅ兞䊓嘤恚޺ᠮ晰ǭ曌笙䘥ᱢᥲẀ㪸が怶䅆ᡯஉ㟕⁥燸᮸惓ዤ⤐㚾Ҥ昭漸䎶➧灑Ő⠫ۀ޶֊Ⅴ珴絿喫❊乻⠠༪⌥圦ㄑ㉶Ī⁬繖᎒㛆䈠佺廴爂Ā㜀᳈䮁呁擢伉䪸ᨕᳳ浘厃ះ⪙䠈ૂ⛪˱➾秿ᰓᴣ㍛㈕墹晼拂义拁䄯爜⹂刨ࡗ䜠㸭毐玤㗕䮩戰犫ᆖ歎眖⻃廹撴Ὼ瑧䬧ނ䪨牠మ峵巩㗙㰻⧔੏৖催盜偵ᯋ浬୐抮ㅓĽ殒ᵂ⩝㚦棧ᰥ淸纠緜呂㗠T幹Ⱑ刁双᪌妠熧歀؉斯᠔ᗁ拡▭▍⻥䪰統⦦在⫔櫵㻔㕻♔杫ἇ癙厽㶷ᯝ䈾箟刖Ƽ犌Ꮻ㻴झ梎㳿帓く穠ᄤㆰഢ琅㑜㞜氰勰哢㴁٨昫漃潝昬עྣ䑛㬢檷䄾ᛰ矼⏨ⷐ硼䗰縨焟瞢㹧㈇澨恬׋沅䠢ற㻯≜↱绢冃㭶咢場⋖笽ⲪɄ昃㎬⺒炷劤喢栯ʷ偸焄堶⠦ს୭喐庡ᰍ㦏泈䟗狊擱徂ݚἄ䇠捅⣧∂ϰ᳌໢ℽ⒞ᷭ筠友悇㎪楀睎匋ӽ⥉縜᷃偩簢㭯獃倌畿䌍徬Ǖ嬇扺᧘㵯測楫౔㧁朻䍚宽㴈ⵡ凄俱旎ᜩ利Ð堣㵊䥰റ䐭࢚槧ᚉԥ灾䇍ᾠ䰭ᤥ䬿᩽䘠啹㥴幽䛊啦䭋䋵⬁榋⢋䨉ំ繡䈀ಅ檂i䌝ȕ厠祘ㆻ吥⽁尨୻䰅ࣧ㞓搞嬑Ê䅷㥉ᢌ䶂୨⦝䘬爎作筡ၜ侂筐⫇幜ᨅླྀ寲ଌ㣀オ筇䛢擦佟㨸⡭昻伪砷䭜㺭測႘㳝਀┮਷䅈䒬䱥椰ᓀ〡⁩ࢄஉᰦ✽᢮品ᠼ䲞穅傝䫠ᙄ⥥侭7ൎ䏉፩Ⳬঊ奀⌨٧渳ለԵዡ剳ቛ।㳏筕ࠪ䠼婂彗ሧὤ幩彿ᎏ垜யࡥᦀ㘜墡⁜еᛝ⭬浲⪰グᐲႛ節㒃ᝍ䂩䙎弢㌴ℙ䛐ಢ䬿罉Z弭嶢男⏚䋍ኍጬ歑䝔卡ඈ櫦䯍暉㎔栦宙ᰣ䵏᪲Ô㥈᪈Ӹ౼召⥾栬ᛐᤪ恤⁄ᛤ㇯ⶒ䭏ᮩ㫤ၸ≔弰耉ដ؊初ࠆᵷ碿䴜᠇ᶋ穎䆔者悫櫟จ庎婨总亀䜎ჳ㫞䩣ឃჯ槨⾑㜌䙅ћ䀬伈䄰᧛吵磭僈ᬈ㑁丱ャ܄⁂磄࣌ᦢ䜬刨Ҭ䟁僢撅慐怹儰汪㔡檒˄᷋⼺ϑ䵑䱪奾䂬͂㞀咡ㄩ奲Ⴎ⮑᩵䩭俊ࢆ᫩垠䮌厝ᨹ嗬犂᰿Ⓧ亍䚌磓ᤕ䫭欭幌Ľ凭➏ᬢ慐๓纈摞᥅孃偨烊稢⛰㚱䳰寳᫢冉ᓻ憠ᭌ别䮜堤࣌䘍⳼獚≬善⢺塌ọඊᒶ墓෍㧩欨摹埌⍠ᭉĭ䒌嶹墑妤ϳⰥ璽᭍嚍纶玄攦⚌纹怭夜㥓皌㬽æ╓➃䲓妹ᑝ㚴ὃѝ䓣帵咯娤ఌ晨冎⨝侴廤牮䟶ᖜ㴾ᕨ㦏勈䈮屐⠏ಡႽҵ燢♘倨䒡ᐐԳ岆⑴␃坘qӖ¡㘲Ⱞ˨ᝂ㔲灾⒣÷ᤂㆌ畦曚✂Ǉ㣮灜㉔綽次旆䍕Ἵ碢惀ဃ約ḵⓥ䔢₺ౖ⮒ᦡ⤡⃦ᩰᧄ琫潨␮䶩篩ር卺匳毊壬ߌ㲃㠽壢׬⒣笸壪Ѳ☘❅㴡䆙婀ㄯⓟ猻堸Ⲳ祖♻䐅垣絥ߠ侲⨼睕߀䰬娹睼ਈ❝Ķ㴈磠ᨩⰭʑ尙㨨堥୉姮㟳⮇ᔘ⧺か撍ʂ᝼㡹ⅸ甐圦→凫ベ㊘㙋᪱噷穰ᾠ宎‹䧂᳅桶Ȥ揈൭ᠦ䓛᏾㎵䴴紙磞⦝䋊ݕ笔≴㹮๪匰ᶐ㱶㙆Б☡ɲ䐤憻ᇔ氮ጚɩ➤䈭㖛稭⾫㢪ᬊ⮭⑪卷桏iℽ剴㣷 ᡨ撡އ౺术丢瞂槦㣈勁䊺ᜲ摼縤ۺ⽣ᯣ㒔ͳઃ倣㐸ۺ⍩掦ヒⰺስÅ׬㔢稴ᅍ䁰⦢婇惛╺珲楁㌱⢢ะ倐᥌℠Ⴐ禷彲౶甙ᝄᑇ䨖ⲗᦆՏ㡎⳰棇峚ۅ俰殤⯷昞⭴瓄⯨䫰⛂毦ݜ或ඪ杖ዙ妌槪娅狝硻㋙✣ᠡ᡻捤ᔹᚥ昹Ϥᇒ䘹း䚿፵柠།ග猛彛冂傧↨ْ员ݼϷ堺烉֚䱇⃚籿ⶨ濷绋曼䁢咢ⷉ畖潲篴ᷝ㑮歬௖ǀ瘖呂懁׍槭捂欣湓䂯༆撇幅⛿ࡲ䬵⻚ᙗ⸤巷䈻䑳‸Აᡝ㊫只ࣩㄠ唜ļణ枳Ń䔉し޵㓜⸺櫵䛘△⬲件曏㔫⪞㜥⥚窴ә⠓೑䥘溄匃ṿි੆籓㥗爷䠄䕗ê䷀㇆䟚⃫溾⼆ᙦ୅䷌Ϩ妄⭕恵䡋ⶄ筌嘷ଳᎆ⏈㦍仴͹琬㧍㟌䝻䍆䖏ෞ燂ۣ娏䜼丸⛷Ò㛾㩵坍曑侤⬆国䀻䳠朠升‿↼眇捙晸ɜ䨄୍䊢泞嗧ב槁С瀮₎㚀ᶳЯ杍㧰ᣡ伕ゞᔩ淂彘㋴Ⴈῼ槻⹲䀿Ⅼ旹╔ⶹ伶咣墸⁕៤ጹ㳢䂖斍౳ࠦሚ䓙᱁䠤ቝ瓶搇㗍冫爵㚪ො฻爊瓋㌮⫫៮猒愨嵺慬㔣匢巖ᛎ索毑㕙懀庖沘探┄᦮䯒掵槑嶬䏄熼睘䵢⹅楩⪮礴㪲䕯൓㰖竣᪫园➐㢉䂉殂䚕伶疵圐㻂皢桙ǚ⠑᢬㊔ެ⩡凄䈘䖟㴑燾崾汈ᗗỖ淞洚翔绐᷄喖女㰰牚⻷㺴溹ၘľ癗嵜㷀惒屘৚数Ꮎ緛䧕⇲཰篛䅫礂䥆͕㳞⥞⻐灵ˋA⪫⌊泹ϐ狪汋㳓ᦛ殪抱怸ᕉ⮛១䊨̱⤬媻⋒憷Ṣ᝕忇䶉喆揄຅᧏ᮐ籴⏚⚛ᵪ尭ࢂ䍱⥙竄⯿䏿Ǆ䄁⛉ᣔƨ穀гၢ₹ቡⶶ䪲⋀㵁ᩅ⏜冊恙痝唿䩖亭⇲呹䀺噭碯ဣ៩埳ឦ䒜ᑝ᪹䪗ⱑƮ㯗㸡䭙ẅ婀㚭䯥ᴅ巐䉧䮵᤮燶椴疠䣚䈧䬵⥹棩滲〮აƚ橃㻟3⮨⌲摨₆愉߱㚲⃵᯵↯Ა嶎᥎䖯䯋挭嗑䜦篒䧚⸀囻堳ƣῙᤔᜯശ点堋摆˄氙⎶⧘ૢ䶒浔㟃斋ᯐ卖拏㶌瀆娆㧞䌿氆䪎㎘୘ḩ烖Ǝୁਐ盆冃䃷Ԃ⼱䧱ሆᧃ℡䶥৾忴⨁翡啟㙱ौ痝⏠灖棋㒏凚ỿ᫲ʸ㫌䛵穅疒႔ѕ晱犴欬׬ഋ禌ᠳ嫵䱧➑ᣓ巀㴏ඉ㰆嵽䍚浯捐༮憏⿔䗘ǭ㙃揋玩淘傣㹒ᣌ٩笊喓䨵傺☦瞦ᑆ岸傪汥䛋❙࣫〈䃋⇺夢प䈋匐⃍ᦏፂ屉筌䪋䭲壉彎ᇇ䇴䱨䷳⹨∃䗙წ䷰ᬳ潗㒥Ⳕᯤ漭紗ᑐʓᮄ䋬䕝㷫᳾劌߰憉岔校㋧ᚚȌ娔忊冡᫞䤷䩇惣䶐Е埜惯测⮣㎐㨝㏞䤄翞✭Ⲽ章ࢇÒ㍠࠮囧⃸䃼漡甈獚8⬮傜㌈ᥙ樆㍛΂㷡丗炐̦㹁媻ക䃼ᡫξୋᬯ墁䦅ⴈ猧䷠᠐ਮ㑼᥍湵䮋⨚⸍╴疟㲉Ԛ࣫矰竬㌹㆑῰䬯䶿ྍ咐⬝夵ᡛ埸㭔怒⦩琷簊栣按ğᤄԣ禬ℊߴƟᬍ欟笹ҋ漈䄇䂍㺀ݼ感㊘ⲇ⢖么䖷墳咔澓崋⟝呯㺝燹䁌఍澙⯷⭩嫍偝㓛☺愣㠺עᜃࣨР咩ੈ㗡⹵㉶掣惰㖒㭻巵伌ඈ␫奕幣គ氎弉牕㛫㴔Е吉䤈ȴ㶄磯⟆旳Ḅ泭᳞㏴椻ᵔ╇䎇᷾囬ˇ㎀寙督笮ᥞ㏻㧔憗ੑ⳹婻㚜䛷ᠪ淬㋴ᝯᣪ汿玑Ⓙ᥻抖纏ཇ၇爭ਏ㛬粓䆏ᴈ宱淧絟栳暦㮻Þ୞஺愀ৌ೥᡻⃀䔢毢乙䚴㺀峿औͳ⶯ᒐ埍ࡿॽ彌垽⬜䧖竟擒偼ǿ䡟ፇ㼚繂ᢨ洘仛着监扗⟖૧済瞧嘂㏟伍潷㯖⟝漇濒奚姶义Ⱏॵ䜵眘劵ⷄྚ寽㓹⚃⮚᭹㲭ᅤ㱠з䃄咛禀笂沠㠻䭽ܜ݃㲑❾愇ࠝ濲柰䙔࿆⦝⑝䚍犤涧䥗椁斬㱧猿ል攩忆哄㎜獸罭庎ؕ俪㫓⺌Ꮵ伿ᤥ偐昔䜑㣶ヷ⌷㓙䏀ɱ䧸⢔Ը΃瀹ᠶᵹᖖป實綊䚭㩐㬵㼊啿㨸現Έ᪟Ⱪ䙢˯䆕⹣翞㼈ष斌⿜๖簫罳碟猚怞ᴙ4዁㼄ঠᰃᢔŗ䀼✰䶎ᆮ䊪稣ᜂ磃皹傴ʽ⸡濐ɩ὏浰ᙉၨ䊢楧羨摝ǂݔ⩡唄䢾䩵烐ΈҢ׉⪁ȶቻЛ椏ႜ枕㯲睌岎猗弎箁ᰉ疾แᏂ໿ፅ撕೪㴮⒇嗒䉖؉⎌庬㘺ࣃ湟ᩜ纔惦о᳙球峒ř歊㺾ԇ檩憠䮽劄罽奧瓔ጌ䬴嬤䀨徿᳞ͩ戠⤅⸫ය佉攠㑻Ꮾ晓哩ృ晲秉䌣ᔡ灓⦼朿䑰㊓ঠ㭛千↬࡮㯸቏⎢溓槴჈ⴆ懬෬དྷ↉ૈ㋴ᤢ惟ၼῷ惡ᄋᱲࣳ୐䎹ሺ䳉Ờ᫫淟㰀⢵昵筦ၽ獇Ơᨠ推ဨ搸ȝ❾㱠ㆣሶ缶䖿ፅ䷊䴻 櫗狆氙ёᛠ砲砮䂤惎⍬ᅐ奢堵ᴥ˱ƐᵅṘ⬲汇ウЖୠᄁ㚣ั恹慜ۀᵗ؍䌒廰ᩐ䶓⏠⪪᪤抉䵅DԀ٠抝᧴偋䖐䆞ƽᕰ斛壨值ဥⅼ䍪ᬡڄ紿䐱䆁Տ媰⠧吋羼Ĭрၿᶙ䠩៦₾䵩Ѵᾂ濁ंჁ峄㦹◿⪣㸒䳿弹䴷劃䡲㴥䠎揂㜈碌浟╝外古ᕑ㲜ᛨद⒥程ḿ猍҃正㕣洐ン伬塅ే墾ᣂ㠌ࢵ㱎秢࿈ャ䯃痱☤愁Ӏࢠ☣䡌卒ヱ䂩৻ഘ砗䱗ⵥ䊿睋䖁⮙璋ᒟᲿ狢ὺ㱂欕䱹ࣶ榦ܨ⫸䅂皯㇄კ换᲌ᢩ㺯焿棄⊎䈬ⴱ僦ㄹ悤滇姀ở㳽䐧屹䕟䊵஘䍔波ᓢ緄ເ䔍智㊝睳⵸匸䐧Ǡ໺ⶃ䄉怬≨䬏ຨ⎍䵆払怺ϖຑខ䘤า恣戌ڼ᲌㧣羒⍫歫䣃̸ᚱ䲈䳄偤Ṋܦ振⭂璗㉛₷㥧瞭垱ਘያ׊㙸篜漠⣂甑硤壩∼晙徱犚Լ࠵ṷ᪪῝Ῥ卡㑆磍≲慜⡊媙䋂䁌狱څ➘寬᝕繅⣫掌揩䱁ᇡ㼿㒽ܟԜ憘在Ԥ岠୙∥ࠫ䄩䋦竡ɷѷ䟁ሤ啢氕䷤ፑ⋘☀ဩゥ悺㱢⫄❖➤䓐焮䅐僣ᦍ牂㓖⬑䊥䱗఼䚠଑䔧ǿ⡣梖䋎墰懰硫ᢓ⫝媻濍㧝ᾶ᭿冋㷚ࠊ你ň⾮扆⣣䍗䳸帥ⶩ䍹ᡯ冸䔞ᯑ簐㒷Ⲗ䦭䜉ᆰ㺲涨ण墳ᐇ䄁፰䳥帾䁰⚿Ԇី縣網ᙀᩂ偐Ɲ伢૦劅Ɽᇹ歷䷆ㅡ瀃☤㪆礂tӀ摠棭ㅉT↍๰ᗌ庩䉖ᤄ戃੬Qⓦ儲౦ሁ䕮ᮧĕᝇರ䜬㑨砕墆攦⟆屺䆝窎Ἧ݃䐒牑㌨ᨗ౐⹜ລ塦ɨ凛ᭁᓤ皀j᳦䔁县෹嘑⺘ਦ十ধ䖳樤倂⊫繕ᔠቷᖂ㠩ᗆڲ゚槯䐥⽔䙸㴥䦻၀ቼ懂ぎ᱅Ⴟ姅撐ᥭᆤ縂塬⩀䄅⍮䳜⊉旄ڿᒆⅢ箄ᘄ礲ዤ兇㔒䉾㆚⸆Ⲧ㲷ᯃॿνᦔ䰲㖐煎ᝊ禆⎨เ⨡栠䏋㒴曍ᩁ卂त㪔Ժ⚲㕦᎘㩏ቧ⪪❲搙㾰┒䕎㒈怲ΪⲼᏠ栥恒⧃⫅፲ٲ笓⻬㊈卹䡀ᶹӅ㦰啔傼ِ࿬䬍攡ỻ⡓泮᛬㣑柸⣄䦡ㄿ⠙ᩐਡ弰మᶍ峢䨤䉉ಸ涫ࡍࣃ剔䩚㆐䷓炸掆ᣄ⚑ᶬⳠ笲%䦜᏶Ꮔ䵈穫Ծ擃፛൒⎤ᩢ㗩⪞䩼䉡检䂌⮮㕊䜰浙ᖾ䶱໇㜼狊笚ؕ᫓⩒ᔔ㹘⣹剡䬘ᒀⷩ┱呺䥹摞᠅⺓䡦峮㔝䰦֬娉㌆㈄ᒉ煔簇ኂ㊄ẕ浚㓃勋个䰉籅Яፃẋ䣽ᶤ盓㡫ോ灍头昚㶆埄ᔱ禷䈐敀ࡼ竃䔕᝟㔟卓文孑㜆ဧፇ㤰昍᠔昲௫祷㴞犸䰾㪌⼅↱咷↙Ꮏ仠᪹㢧戦द梱ᄰ䲣熱偌橹䉨ވ囔䖒卜䭅䍽೗奩楳ᣦㅄエ䁖᧤ᛸ㙃伮䂛㋊⒖㔰枆噪૝紆柠喌刪䧣孕ឈⒽ䣺ᬥᄈ甠⣐̈֠›ᴩᮤ䁳屠▀ᖈḢԙ牧炰没䅰ᠢᬉͦ୅䳸卂Ćㅉ溇▷暚⨒摵᳿⥀熣ㄪ᳦劃䳃勪礇吷޹᪽❦拧᲌沑桳Ჵ勇瑌壢愑䱊➱䕣✶ⳟᯭ妶壘䓇՗䵞☨⯨㖡⣟偔◫洜䱱媄ဦࢅ祉ൎ塪㗃儦ȫ䲱Ȑ侹٣䑥摷䝟᷈⦌䆸ኪ尢䕎䡼ᑿ⦲㰰男䌭尦ࢠ⹅弞֦ ᶤժ⒮楴㜡羱璯剄₎䙄ᅐ憲䙮᥋ಿ抾᳨͒毖璳粊䨦⏉ⴠڷּ楴撍᚝ଐ羭⫨ڨᒤ䶨ؒ㩆㩉ͦ⑍監⨻ᇢ燓楐䴻䑼悬܉ຠ浒暠䏎懱䃆ތ␼䤣炧䊔ý䳽ߤ‚汯焦碧単䲚ࡨߧቐཱ䥎䱱㰾䤫㰎撫ᅖ煇ᧂ䪒䤓❇䤝௡ԃ䱜㨚ୋᒽ祾ॊ◯㱐ᱰ磁糷Ļ■ඈ⩐吡穌⋃ၽ此⠵乆〼繺⠼⦥΅㐄࿍䱸†␴ᒜ䮸᪂䅘㳵壣Ꮪ㘸帠㳫枦儣ᥦ͜凬Ƈ姸愂ᇓᒔ儵厩獉⢓᫥䰀満刔‡ὦ夻ɤ焠વ啙㿅၌乯殖Ⓤ垢丮罥惮攢૙䪒᩵ᥴ⢋䲺パᒜ䛸㳏坕僗ᨐ;㢾⏪紆▀唢悸媁ፐࣉ幮祂ⲭ璔⿖㎚榵◅⸬擣䂃⛫䵇်ポ䩤䯠䓚掷⧬⧙敉⁠ቲŁ楪䛇㋓⋍䎭ㄅ兄乼䶖硎⠁╴㱫㑋㨼ĭႸ⤊֥⺑塹㪪♣⇄嵸硡ቃӄ欮㊛惀ᬠ᢫⸤䱆⃮ᡴ䙠ᴈ≦敓勾䦛應や窶ㄠᦄ操ᔊ≒毪廕ⴭ㖨田䇉⾵·ບ爟៕ᠪ儝婍湏⊵䷡ⲿ䨵㘰㵲ཙ䕷嘽ᚶⴜⰔ晶招殿⮚⊨ᩄ屵刺◨啷伸ธ㭲∬ᑤ勜憓҄弒ࠢ榋ㄨ㮬Ớ摪㊷ྥ夬娒ሠ䅅䚃弢䦓㗃捀➀羑Ḣ擊ⱦ䐪炔㒶❥ੰ剨㗏禦叞䀄紤䘳嬆秛⿠Ꭱᲄݲ䠼㣣垑䭨ࢱ砇㛁䚴㡋吋埕㙔嬄ᶖ壼㓱੒稌Ṭ恙如掓ࣂ䬠ᦶ圏⊼㡏婉䨴棋㮕ᭂ㐪䡆余ᆨᠢ皩摌䑼摻ᳺॡ敲Ꭷ㕗㉖Ⳮ㮅ᣴ⠯妍㹧ᑦҺ姫䗉䣖ℋ榄وק檶߃ᇋ䘎嫴䜃㿆❘窽ʔ⮳埉ぷ㷬䷛疨允前ᜓ稇䋐幵┟⤵㇔擡嚫䖚䩤ఛ◠㿔恠᳢┃Ǯ⁣⎺ⴒ扵▚悑ޚⲬ宸㎲⍗㓓夔ǵ㩒憠ᨷ桜泣⭾Ზ㽋椬ᡸ⪤⮓Ꭻɵ揦ώᖁ窶ԩ棊抽䫏兕杶擵⦳䍮曐ᔎ欲亨➘ᕇ᪽⸧础櫍Ტ৳䧍卶ᝂ⠥楷㝑䪰亡℠ᐶ掘್ᐋㄒ௓⛶㲭疹㞶搊瀀祏竌䛠檉䳅䢖橕嘴䁇刚㒮ࢆ扠⚉盛ⱬ䁌浢◬⢠泲ᐺ㕐琴໦㱛⌯怩༑䧟䵧㫭尢泸噡଎➬啠Ⲕ⪌ၘₚT湳⣹浗䊳憄ᆺ拍චṍ㢠〦抝ᰉ❪ⅰˡ⯃匮碎树塪型䊍㇟嫑᭘梳㒕潔⤰ᰫ䴇ኜ制沓⩏滌᭨媯⠥௉ᘊ掇୸刼㩗ᦂ玒㤔佉Yⶈ㱎漆ⷱ婾秱˽喔泃月͝瓟᎐䳞Ⰰ宗廰ੌᔢ樣ᬬ夳圏潖ᦖ嬉⤗㇥稇㔲ᖇ硴Бಆ皳壭墤碚⥑⽟و愠克I瀴撠償⥽䇏ϕサጰͲ㎽ᢢ碫ᅏ᷉㯀௾⃚ᝡ௔ᄑ㰏愸ᛝẗ⌨潠工ī嗠ᮚ挎㢲䌒歠ᓍ㺥Ჴ死࿟䚐੖弧㹩㪎ᒢ䄾祦€୎㹁嘊䐨攙☮嶈痡ȧ敂⻾禁淧㣭粕䳼䞑᷑抳剪˓ᵗẠཾЧHҐඖ㰊஖币㐾城撍冉湄૝戲櫾丬篵满㳉䕴䇸奊搊〽䕵竫殲欗㐕愕位綇՘㠘⚡弬⣈䐻ㄙ䗄ル䍈瑡⅂ᤩ灌ǰ᡿ㆻ᭤澴㚪碂⭐⹅㑖㰨䦈剸㗘庲潰ҋᑭれ䰈♃㇊粴ͷብᙺᣟ慾瓈䳭⿎∭笲ዿ⥐Ḕᒂ婞ၖ房嫁砣ᆨ筿᡹ٸް熨䔮ࠬ儞綊ྌᇁ璺⫭ⷔ䕦㭛䕀⭹ᾕ晸皚夽ⅦΌᚻῗ㏒ᒸ⃍䒑ǎ帡冄㙜≱DĆⳘᐽ璦╞Ϸ⌏㮽笖篿枓㴣盗廤㮛␉⻍琡憶旊㎕穧㝹坪䗰礟寎嶵耈ᯄ竀ۯ⭗ュ瀬牊䭷痟㖊ⶶ丧ᴪ垪ᡘ熘ɴ௬ࡈᎨ⠲⥔BÕᚁ筎怦く將烂ọ⬯嵁៘᧯᯽叀ᱢ攫䲅䬑狃ᚼ䃐矗哪烳槍ҭ咀呪憀䖽ᚒ浆構⚍ᤑ替揅㊢㯶ⱇ㋺⫏ⷙ悳㫼๋᭵緖畾叞嗟樺啼唄㌻州䫥䜎滕㴄ᶬ漹㎿′禥悹㏊挾ᣒǯ⮮Ờ姠俐Ƿ疉ි❳ᙁ狣။ᓟ摶Ƿܐ疄ሩ笏焄戵ፋ䲴桦忯ၢᇕ沩Ḑ璳嬳䥔ࣵጿ↤㭩䬰搋⇂媸S❥ᮀᨕ歰㑜経皐㫺癲㈿⿏⇢‬ᠲࣣ㸔删㽹䏧矄㰆瑡翐翗െ≺䰙㣃䴤ᤆ⣬⷇啌戡䑊⸶₂ǀ礱᪝ⶉ㠭彳ㅱ揖俸嚶厫લ竐幮ڒ桥㬀檒䙫ㆵ␣ಿ䥃ァῩ剧䁹哢ᕅ㬌㝶֪䮌▄埤嫡䘻┶債ዌࠔ䅻⍅ḬṬᭂ⓻Ȩ㗻᳣䄍࢜ʫ㵪⮟䔄Ã在ࡅ䄅䂷吺塚ሾ礱偤䨘ࢄ撳曳ᥘ崥Ꮽᇒ㼸േᆢ犄灀  "
   },
   "outputs": [
    {
     "data": {
      "application/vnd.jupyter.widget-view+json": {
       "model_id": "5c22746e729e48c28ffc3151f4e99d60",
       "version_major": 2,
       "version_minor": 0
      },
      "text/plain": [
       "PersistWidget(data_values=[{'__id_column': '1', 'Name': 'chevrolet chevelle malibu', 'Miles_per_Gallon': 18.0,…"
      ]
     },
     "execution_count": 13,
     "metadata": {},
     "output_type": "execute_result"
    }
   ],
   "source": [
    "PR.PersistChart(chart, data=df)"
   ]
  },
  {
   "cell_type": "code",
   "execution_count": 16,
   "id": "f92ec285-48ee-463d-b11d-74c3be065190",
   "metadata": {},
   "outputs": [
    {
     "data": {
      "text/plain": [
       "Mileage\n",
       "sport            198\n",
       "turbo            131\n",
       "Eco               69\n",
       "No Assignment      8\n",
       "Name: count, dtype: int64"
      ]
     },
     "execution_count": 16,
     "metadata": {},
     "output_type": "execute_result"
    }
   ],
   "source": [
    "persist_df_2.Mileage.value_counts()"
   ]
  },
  {
   "cell_type": "markdown",
   "id": "4d4aeada-9b5f-4655-8c9a-fca92ef5ccb8",
   "metadata": {},
   "source": [
    "You can run the next cell to see and see the history already populated with selections. Persist allows you to save the interactions and loads them the next time you run the cell. You can use the first two buttons in the header to `undo` or `redo` your interactions."
   ]
  },
  {
   "cell_type": "code",
   "execution_count": 8,
   "id": "af55dedf-be3b-457f-beb8-6c95e244defe",
   "metadata": {
    "__GENERATED_DATAFRAMES__": "ᯡࠣ䅬Ԁ朤壠ᜣ琢〹夢゠⹰〮⁁䁻қ䚾ኊ㇠നСࠩ瀮晼Ƭ穅5愠៤⠠ ",
    "__has_persist_output": true,
    "trrack_graph": "ᯡ࠽䈌ʀ匦㢠⹰Ӡ✡䚈ჭ㐽䁍ٔÐ㑔䃬8ɒୠ᭞匨҇⻳祭张㌠๔⡩•⳦Ⴇ⋫䁸䲥㖚䙌浛㬗瘺ሠڤ-孛ಃ⑀´၀Úಡ䀦熦आ㛣厬6ঃᐠ৽撠۱\"壁永粖ႻԽщ⊩⎂ࢤ瑔≈ʛસ匾敇゠Ɣ䛦圫ርࣣ਽䟑䅠Ȅ恨㪜ൟ⑦䊯䏃ᄸƌㄖ沑ࡖలൟグ䎖ᇣ啀癛U岛ళ墬吢粬߫ƌٝ䄽㧗ɹ䋯氡Ḡއ䳟䘣Ϟ碠␾Ꭵ曢⳨ࠪ⋐剜ᤦ䍨栢పᓀ桱̿䍂ࡈ¿ƣ塬­ʫ墩Ꭽ甙Ⳮవ嚘伔冴垪ዩ⩽ᓫ㋙㹰噉⣅㥶㊤摬䉩ᛥ姄٫ᇩ犤Ŵ万礵൬柈搠㊥䰓㓀!+ᐫ怠㻇氶ᨠ煐㣪嬊*㸷⿐⃚潠ӀᦕZ䘡အ暞㶸樧෦㬮ߕ⡬Ⴊኔ嵜಍檑櫠䲮˴滞hᔩ嚱ጽ䛠傔ἦтথ攭ށ‼Ⴆ3㉬ᨯኂ㉷ᔦ㓻帧㮳斲じḨ䅃䢴ⴡ䚂堼ᜧ䐂тᢩ冈畽཯倸專ᑪ䏀♳ೢྺᛍ૯᳻㘰Ỡ牛溇᳸ᓛ⻗㇨採⑐4⁂⊎㯈Ԡ⁷戠wᠨή㸈禉௡磞ࠣ渌㾢ӡѪ@㯥ㅢ㯪ぐ㏤㄰徥〠㴥២⁈ᙐₜ཭㕆㍙梆঱墎གྷѩત䙅ໂ嘡ƀ吰䏣бក桘獈㏖׍⑙⟠Э٤㣉Ġ౨â嘴䩼ࢋ≂㉑༃摡䶹ۍ⎡⚬ݔ囑䇔秞 瑜ڥၩᒣ偱᧗偮⃥璖⺢偃ᴷ䉈ྱㄘત汞忴ۡ䰥܁䉂䙑仩偬ᒡ㚙ຢーঠᠩ䩆◉㵉౹㒢デᕯ⥒፪㤌⽫øኁⅴ⚨曮塁⤦ᆨ楰୭啀᢬㰰ᑂ㕜㶅≧癮`䠶ਣ崁ᐡ䶓⫡᥆䳴嫶喂曧䵱 ϼ䧡⬺悕◖㔤⬲ᐦ⃤ᦦЩ刘巜ࢠ垨癲⼥⚌́㞤筑杙᥍撙岴䎙筏搥岨⌥睟ƥ檼ህˍ᠔招ᐸ䓟ᓅ咃ᒵ㋔犼仍║㦧哵ᵄ䟐悤נ㼸榱ᇞԢ㚸ቱ⿑眜羰࢘次孢䇡₮攼㧈⧳⋮ᴡ㰈篶凘灮䏾˨墶氬塶ⲭᓶ㫡奖᛿ǖ氣娾䤺₠斘媶狠≶ⶖ婄嶈ₙΝ宀仩抸猥皊㩇⠺⍬撍⭆柺ᐦ䇦嵶䂚潷棽ᣎᑦ㭸ᔐऊ䃩簩ᤸᓿ嫱浫ᨤႬᏌဪϖᨶƄ⨠₀䶛Ď䈮嵤䛣ʩ≩䆸ᐽ䃰઻嬖哺ዤ晬⣄㐭ቪ๦⮒դ勤Ź㣲嗭㌔纾ࣖ娨⃦緺㋬握抾淞焸䯺稼䡜牞प爞恝章濷磞ࡢؿ停ԡ㯭祜塃瞉⑈䖑呆ᩄ斤〧׎ඪ⦾䨭⡦ᄺ߲ね⊐౤琹ʹ䤣Ꮃǹᡶ͐冦Ქ‵⩬ⱼɉ廢瓟⭠䰥䄘ຊ␲䅔ڣ࠭ᵪ䬦眼ᠩਧ惢ड〷䋄Ṣͭ哈⸤绕װ⌯⁛ኀ罆狰欭Ⅰ䎩勈䁑ؐ䄴䂪਱樺ᆐტY咚ഡ泜䨣⮷㤶旨⢭懬⨣Ɀ䉨䃫ࣕ步᷷ٴ࿱凌憸ᶣ汏̜嫤咍䒰窫Ⴇࡡ⨼燗⬵睶Ʉⵛ㱻ࠑᾬ⣎凑帱ǁៅํ㔣䋪㛕䫌㮨冐佡⌽ᅰ搴ⅾ౲㠥剽䒤䂮撠睒䭅媀ଲṋ煦ᣥ穉䜣֫∠䵱ರᆼⱲن‪ڠ摪ʈ㥠ひϨㅏⰸա斶䄡亡䩉°ݑ?䐘b暜恀˾↧ॡ䝊䉮ڡ亍޼㴦გ東悥ȏᓙෙ㣲™场瓀㬆妭泽ⷹ䁛䯘⨤ᄪওᜪ爙欋⼕搫Х峰ෙ䆗㢛⫆筶垈羊㉍ᾲ⇩ᷣ姲⎭ͧ⑯䞛咬㹫ೄ卄優ᅓ姡屟㬇⚄㴢痬ࢢ¨䁁䶫峤咁᷅ʷ㬤りͨ⢯䁱ࡅ∧喈̡⩚䜆㾀孵㝶ᮉ囵侍疱墽彺ෑ嬘ଇ㑕摠昉峳አᤧᑠኃ㞱灌἖Ⱓ烸␋夛જῡ碿ᬘ忍禞ဆ檟慎砎痏洜ᬪӟ䈲᦬䉁㈷棔ᗉ䂾䨖ᔢ婄⏢⺥ੱ䥐浉⍂哪泄ᥡᛃ㿠⍈㭤玒Ҕ磭ദ⻦䋆䙅婴旝ᨺⱇ᪳䛧ம䓗༱亴䁭呻⷟౛㻆⮗㝱⾊䕈䡮竿䵅೻㣽෻⥥࢙㒬䜲榜涰ᠬᠸơ␫ႀঠ⾈声ഁ䁔䞦ሯҼϠ儦のᎀທᬼ网䡙ȼ䔪᱊ř樺㣔ຒ瑂炕ড㳄ѱ平簢占䋔㲸ᑶ㮤吩Ω䫹⫠ễª塈曯䨰椬䖉ƪ稺䪹⮵屟䍊䘌嘧淕᜴牡ᜧⷃ婎®㄁▝僛哉ᲗҴ崴ㅧ㊅㊼疊紃䱥椱ኯނ`偒ᗰئ䥔تฬ⡤࿫砫â坯䨸䌗⫊堯䠰⾹⼐怓࣑䮡㔶䆛ʗُ佺┈☁峋浓繠ⓗ䓹晓啌ᨆƃ猕寭ง栋࿢ᬣ㼘䎌慦曣Ĥ妭ᡇ෧₻⴩᯦╗ᒐ撆暪ඁু䐷ⵣ僺弦殈ಕ燉㚎伪仞吱䋓ⷔ᝺穜嚀穤桕⿎橴伀亽䳼毹嫶灌堓ⱙ泍)⽥き据ŏ欵壷嗄㙪睦ᢎⅨ䲬Ը㋉簤孛喳慎㬃嗥梃ҩ睹掂濦刨㰙㱶ᅗ䛉ⷧ嫤温佻㛆⻼㭝勦䇭匓Ⓠ၄潭乧䍴㙮䗗⮕ၗඉ向⠼છ⟝桚渒䶱䪷ا㜮槁噔㢩䚞異➐悚李㥣⻲⌠琫ဨ߈纉琴ਢゖ䠀簧夿咓㳻稧ᴇ罨孼瀸䮛伣ᦃ⣰㢡瞈愄檠ᓲ䲀઻⦭ᩈ罌ቌ߇繤窋­ⱜ幋犽⧊捷ⵙ埚だ㬐村㺬搠̪模挊㭍㫐ᙷ汶଎劐崓Т╕嗰㹆戶Ҍ刯效㻠儹नᯘ倦Þ兆眡♓⾓ၤ㵹࢐䆥┭䣺ධغ戊ᡵᨤ啎㣝殥㴦ƍ擏䴏澓愕⯪இ氋៹砶䈀㽌〚䀷ۤ实眝ʍฝ灱ᰟ孍Ⳡ㣠䁗қ嗖㫉娱琑㼞翊ᲅួ䬝倕穛⸒㮠瞲沛冞炏窩ả囡䁁䖵⠡⁃ࣁୋࢫೠᯛ䤬෉‾凤溗灎㌓廠❆㥟欫଄䂎ᙛ䦡婸佅យㅀ૤猅ࡀ碧䶽ȩ⁨碐ٜ⢯ཤ礻א攡ճ〻唢攌ྑ⢀㱝堽ླྀ簀⥜䐷ḳƂ䆬㣇吳竔唽皤恴犰ޭ珊筤燰Ꭴ吪乌僀ᦵ姭睩᪒婭缀ှ¬ט夫ᕬήᬠ椧⹔又੩ਵ1Ȁᱤ樏湣㯐ᅭ䜊坕䯋孬嬅㜣ᨋ䋜曎玊秏ᆵ炯⽇⢾෽䆉画揗䌁ḏ疈嬗塕縆඀ᅅ傜⦆ὔ够ኜ䵣䭲㍵᎜䶃Ɣ㡬岈怩ᩋͭ̉獢䶅剽١᰸▍剝ᨈ嘨㩃Ϧ䛠Ⰴ⣓ㄏ䂔Ἇ灪䓨จ㔾䭚䗞叅㽯䨳ࣙ῅ṩᑬ㊰៨㮇ᆝ婃੐尪愼࢐䝀㛍牱խ咙䧤牒ǩԡᔮ⪜㣄㌜侌≲䖿冥愯棾䨬㳥䌵ࡱ䞬⋄箋䝂㋄䲹㵤➍磝垝䏎報Ԩડ⬷孥䧅ᘰ⠩䙌凰຃㹉愱դਃⰍ嵧孿䊄 卹⫀㸹ᢃ⹅ᣩố夤䡂΀ᶽҮ㵿磓䀢䀳昰ࠓ堔䋩㥠ᦫᜅ₅ᙧ䩡乸檣筃Ɉ㸸⪉ⱕء卣 僰⥠ὣض䂑੢䳹᲼傾⒨ྲ娵ࡡ⟗ᡲ撊ᓒ媛ྉಃ㢆᭔䔼䓂䁴玲台䴰买珂έ瓄䢒⦩嵜‣睙؛䞵㤣䑲⊅ݜ੭㵒ᥠԭ䰠リǙઠ硢汕ヅ᥵婢㌹ȧ䊣栶ཌپ亢砸猢݇墢⛀庇շ䫴冨妜ʘ㐡㯨ୗ⡾࿣廎ମ祿ੌ㸇㹐䙟ᄼἿ⪯䰁‫⢤䝆䚜寉洣䛍䨍㧎᭰㣺嚂㹄䥈⓺䌜⮅䴾旕冥í㬶棵䎕伷䭴䞖❤℁᥊婣ᬼ༺ੜ㩎㸳䮱ᳵ撄㒉悰ᣀㅼ㋥㌇峮晃䔍䚳फ़摬䚒征ᶜ㥎℃漸ᄓ奎忓梮Ӂ最䒓䠽㳢㪄䤜ă哳笣刓ṍ歭服幥烫峘⓾⸃䠉ˎӹࠒፊ㲫䞾␸梥㲴ᚡ㒄篃㼺̀২焤‫槰ᱜ润ⲂℲႠ㋇㾞ςᤰԦⓣ䡲㐢㿈ᘫ䠡呸㝂ͩぜ䈭佈䃤ȃ䐠亳㙮Á址砊ᕏ⟈៲晀ಧ欦⦡笃ၙᓚㅫ溲匏═ᵫ纸ಪᗿ䝪璇婞㏵ኁ㪡䀨űᲀ性䖕兡㮣Ⓨᢗ䈚࿱嚿湼恕ء䚤犷បỳ峂績掦㤲䨽擵۪⍣犸哝ӊ⼠抺䳷ᮺ勵㛁ㆊ¢㻴ޠ澏ԥ䘘↏炿⨤㳓帆籰䑟ᑔ঄え䒯噕䶵棶杯冈炰㽧孳ᚹ瓨晒欕ℓև彍梭℃癷⑗旯䆝ࠄ箑埵䄼䔈晏䘤媋ⅼ犰ዙ⦋焌孂㩂㒈․၈ɒ嘡䔧ᐤ䇌冄堡怡ɟ䝝惃ྒྷᮀᝀᔠঝ䙕䡋ጯ㞍囙㽱堩䉏䚠ᤂ浅〿ᘙ╨㴿奠ԑⰕ❏拡㡠⺲≶᝸ݒ㉪檤ဦ⃈仡維ⓡᜫ䨢ಶኩ㦉̠⁬ࡸ堉Ⅺ溼勯Ⓓ⳪㮡㌍ᓉࠠ "
   },
   "outputs": [
    {
     "data": {
      "application/vnd.jupyter.widget-view+json": {
       "model_id": "47a72611f19a45968dd48715a54c4678",
       "version_major": 2,
       "version_minor": 0
      },
      "text/plain": [
       "PersistWidget(data_values=[{'__id_column': '1', 'Name': 'chevrolet chevelle malibu', 'Miles_per_Gallon': 18.0,…"
      ]
     },
     "execution_count": 8,
     "metadata": {},
     "output_type": "execute_result"
    }
   ],
   "source": [
    "PR.PersistChart(chart, data=df)"
   ]
  },
  {
   "cell_type": "markdown",
   "id": "93deef8c-35fa-42dc-8024-7ced08ca10a0",
   "metadata": {},
   "source": [
    "#### Categories"
   ]
  },
  {
   "cell_type": "code",
   "execution_count": null,
   "id": "25ca123b-e2d5-4c90-b167-0efd63e14c15",
   "metadata": {
    "__GENERATED_DATAFRAMES__": "ᯡࠣ䅬Ԁ朤壠ᜣ琢〹夣゠⹰〮⁁䁻қ䚾ኊ㇠നСࠩ瀮晼Ƭ穅5愠៤⠠ ",
    "__has_persist_output": true,
    "trrack_graph": "ᯡ࠽䈌ʀ匦㢠⹰ˠᦡᰤム晈ୠ‮⻅ॠᆡǸ䝿䙂栬㞍Ìഋ偦ᝄ倡ᙰ䡣厃摂⹲䛝⎆嘼Კ砪ࠣ℠΀ࢍ⌯≠ኤРᜰ嵐üム湁Ý㮄ච֨廈GᎲ;∠㍦凰≰⡤F᝕ๅཥ扇Ꮷ抩㢈㐣ػଷݦ慠ǐ䀡㫚㴧ল·⛤ࡒ壡‡犀⑌㼡ṅ༾⽎拆琡㙐⬣ヘⰲ͕㄰䄖ၢ㕀橫U䊀怳崪吢綔߫糖ᖢᶓ㜤妣䵸Ŝ.⟷ྫྷට㜑ĳᲾ㶠敓၀ᢢ⏃扰ᬫ䁓䩸ᄮ䃃㉣⹨䃠ಐ優ˣ䩅⸭䉑㠤᏷▘㸲୦Ήṇ͜璫⊈ⱡቨ劉ٷ˨犙Ũ光䪵㡒ඐ≱౮ᑫቴᝓᛪ猙ⅸ啈⪾↸挤䀠₴Ԡ(怸.灗਍<愠Ѿ͠๠Ë恶ǀس名佝␪紉殍威礜䃐⻒沀㩉ʦ慈⡏ۢ冐ᐡ䆶僸没Ϣ惸ɳ๰ᦆ䶻悒㡼䥆Χ憨㈥ե倸♌ૄ灔繀䐽㗺⺺柰ဦ剶▥䑐䧔歗Ȭו䛱⳶෎䷐䄖α枓ᷢÅ涩嶮崼ف䀠兜䠋徢倨ྒ!⺀☘烼Ẕ珽甘䁅喧昦䇁⠢Θሰ⎙ػ݄Ά✐ሠ߄匀␳桗帐婐Q㱀ഇ纠㗦ǀ㰬繰㗦䆰坠Ⅸ≦傱ᜦ๼रႈຣ⁴ἵ恤ᬵႴඥ儔⃠ၸᲠ䐸㭢愲ç檾©䅛云纨㐁ਂ屯溌.∞䛷⇭ᵬێ᧰㴎䘐㊻ᰅ紟ဲ墆أ′੢囒ᛐ⠭奦㚼ᵥ焍䡠溕ᇣɸΖᡱ䙗燘䅒♉䵐晄᭕曘ὔᚓ౰䚡㙑్ׅ⛄ᵔ曱⽕急嚅呦ǅ㢚僶᪆䀮ⳋǱ欖䃲堰ᳶ榖䧱㨦㷂窖ᇥ穾᧊۞ῢԓ剠䔘ມ僌£ヌ㕄హ᳅劬᪠恰ԣガブ拵ᝡᙣ㳐䩌䶱䪼产␪侶⪢䵴哭ௐ瓽ះ璩⒙㒣๓ຂ享ᚕ⳷䦑⺧ሗᱻ䑢崇䆑'嘡Ẉക峀ȓ峚༒⌻ਔ㳏䪵㢿尕ᇟ嶀⥀ᜮ挘㈪䧷ຖ䆐ժ匘湨䢵♬慀-४∪墤␦䇲㖆䅬瀏各Ⓤ।撻Ĳ㲺ᅄ␣ሏ啷ᑈؤ⵼ᒥ灴ᶍ⛴஧ᑬ⥄≐γ旜̮᧾ࠃ簠姤姶㗥奒ۗ䤕䥢㙌ᗮ焎⭢ਚể̑Α⚈ಈ䶈ઉ䴣ๅါ㭾ⷋ㶏撥䶠☂ỽ൰᲎傳㪋䪓㩜ⷴ๛ⴻ⥘橥㭵ᕦ哰᪢氠㨠࡮呕⛊梉ݯ⛚ལ垚滜壁㑟咦⇔Ⴀ岺䊰㨫͖䋮壀㳜叭瓤䋥碯䘬㱷⾍ࡏ㑱䣺ᣅ磭ᗯ烓ᙥ⳻å㣀喘㯇婝绹疄ᑥϝဪ㊝䧺㥌ᥙඌ嶿ㄣ㬁΍曘宩۰沙➴̆ഺ㙊᥾ဪ䍬㜤㡁ი攥瓯祹嬫ব¡⥒䭎テ⫆\"朐⑖⑥䐣殸宀倳惜ᑁ溌⌂్澱ဩ஡㣞塤ቁ⁈̲私䃹࢜ᦷⳌ䔳楙婻ᦱ孋ᇒ䫨皒ଡ଼乭汻෪㐧㆙ῒ⁼ü㈁ṳ拠㏡∇冚ጡÏᬗ烌Ӿ兪仃椱ٚ㰬ᚙ䲔㥏▮偵狠瘋ㅗ⿁既†ᥤ惯πഠ˩籜 㺧怤ⱨ⡃梊倠઒䟊䛈䠠७倦䀡橐Ɂᚻ惌ᙆŌ☈㔣䀣❩碨Ⴤ඲ګ䂙ᜢ牯㦶ң䁐付䈈᪁䘱簾ფ䊢ጬ0¯噳咀扭䡸䷡焭䇴᳂ض笍㝫➀烮儎໙攼㇩㑶壚Ꮆ櫽ⵆ瘧呠㻠ᰣಸ搼偞䊒䁗森ԭ缠〡㗮䛠ᘬ㮬Ўᄒ懜ᣠ䈬䎘ฦ␲籈᜘桍儑乸ন⎫ఠ䰨Ґ☼⇬汄瑇и₤盔夓⨫ゾ䰉ᬢ暌澫硒ⲩ⢤旋Ղ䍕㠢͹䢥批毠䯽Ńጲ栲ዲ㔠᡺⍠犠ဦݡ㑚䯢κ⒱௫┯䤰ک㪧đጡॅጔേ杙†ᵞႬ㇉ᬃ⯀洨䤚审囆殍㛷䩆挴楯ᓪ䬠檻⧁ࣲ尮䈕㒢ሷˏ㤥嫎۰㚵䣞怋ǎ歮઴灸䥒糉獐P⦤嘄坱圦槅⹕斑ᝳͲє汆實B๹ḭdӡ‸ڠ▎嚩յ㢰䧩᪲䋫懜ᰋન ߇䋀殣᡺࿍缡ၮ噲ᕊ劊℣ᩇ㑌㞌椰=㜦㚌ᘢ℠檭㓷㞙噺巏溻⢕洢ࢁ弰ᇋ䀣㛒浥嘨࿋窫檭惵⣇ઑ㣆Ⰳ⬵ࣕ$ฃ䂏֩剼整ẅ᫁շ⏔撕塹㲯孥໌攸狎拀ử姝孤粲À܁೑䵀঵ᧉ䍡㍝ᠬƄ∠㓌眣ⲴŮ⡠ᣘ㾧午䟲ҭ䣲晱滗Ⳣ勴ण咐ᚮ屛巈恝┊⹩㓾䣭滠㒅嚪㏄࿙竌甯ჩ1䄵Ȣᕌ๰㫣ąã刱䆂ᄠ灔Հ୙ㄫ⩠У㍫߈಄磘宩ಓ๾漽ㄻ怲㒮䤏䜅Ề猀オ撇䬚》笓䧐录㣁⌃纔ܟЩˤ屦灷ȗ亶ᣦୠᦗ傌䦀䳊Ҕ⳥穼懿尛翕΃㺤䫹ᡒ佐㰻⟄㟳䇥ㆫ疙䎳㕔欞ᗵ栉獥⸋尻▽㌥⬝ᗚ͐汫᣼㋂椠籭℅ݡ⮋ᲥႭ㱦⃰ᱧᑈʀ棨挈ً姝䰳⽕禯↲硇㼞ᵉ毕۔漙㗨ᤚ坩媷㮡⯽ୃᖽ䡞㋖惃刾ؼ䗺᭒෈⟔棯ᗈᴸ䁼Ǚ᪒㊔梡瓯ȹ熾⵴杓䭛㎙⌡㚖䝼᤿㓪姃纼揖ᛧ㍗䢘綇Ԏ柘篖䊔䱤厏⪶滵嵿⦣˲䌿ኪⓄ➋埚嵯Ⓦ̀暼滘۫␳勚䮅↥ᐬ梆ඝ嵻圷䩴ަਯ䕳̠䙂㏤ఢ恻ྤĨถ㏝⸧ۀᲅࡄ救呡㈙䳤牜始ᗦ㟲琎埒̄㨔⤢恐崞῁禰挷W獗Ф↰ᓣᐯṔ廜䡸䇯仰壽稒猧ୱⷂ䝸෾㓆㿋ᬤ坫᳹䉆琱⡴䶾᧹勦ୋᡋᚳ㩝䉉⵶墠〪㌰⩧ബ䈘بⴘ䭩㤣Ì勃ۧ睗䋉堘ឿ㦡机嗊淞㤦ჷ㝶翝ფ㬁㦕⧱瘋ॎᏼ筏⡗⾌廍娜㺻⬀᣺氇㑿嶁㹹㥿⓶㝯溈㘜溋⋲䕅卍Ҡ⭪嬞׍ࠠ䝡拫猇ᬛ窫嫺䐍Ձ慰㫣唠䎫䝠纎嚽ᰧ杻⢫噽ᄈ丳ㄒ杽ܙ㝫㻦凿㱠樤ၷ珝⒉⽮绺ş㴤ά䅖嚝ᄥ㿢癟烋 î੗イ㎢䃷硤ရ⦱⃨໐ㄧ㶳ᶱ‰熒ᑚ僫⊐烣∣䨩๰ӷ㗈ឥ粌Ϸᘠ෨温՗㧚碸⊄هڻ㑚ლ৷ƥ攨憸䅐䧙䷢稶૗㍘⮾皢ごス㻾匕悳㎑毺瀱ᎳӠᓩ⛴䅳މ哪ᙤ凗ڸଥ༄睧ƺ刨更畓⹙Ⳡ乤烙Ά⹶犯斨┒瀴ỏႫқ⋿糑㑡㱻䆰ଛ䘥ኘᆤÐᅦ♹ⅣỪ叫Ɉべ䪥㎋ƚ䫲幐␀啹慬弝㖿⍸୥囈厸䓥ࢥ縭痡૦፺ѣ㒟⎚ॵㅄ吰倹咺㜈⍏⣹௵庫疐ⴱ⚥湹昂ᇑ⠰ヌ⛀㚧೥ⱉ䎀آ瀴䢞僸䴚๘帴ᇛᅐష憯㇆⪲ᦼ䉒⋲᧤␠ᅏ䗰࿻⡣Ԃࢣ⒦Ǧص䖰叐呩٪ඌ្呗洊ீ⍃ল愅䂖⡛摕⊰煄䱙̦砡٨䛙汛⼚౐熧䨸溆ऐ旙ⱄ灠  "
   },
   "outputs": [],
   "source": [
    "PR.PersistChart(chart, data=df)"
   ]
  },
  {
   "cell_type": "code",
   "execution_count": null,
   "id": "4b0d5643-fd7f-4c48-8079-4fd7c9054b62",
   "metadata": {},
   "outputs": [],
   "source": [
    "persist_df_6.head()"
   ]
  },
  {
   "cell_type": "markdown",
   "id": "a6284113-65cf-408e-927f-d302988c2a9d",
   "metadata": {},
   "source": [
    "#### Filtering Data"
   ]
  },
  {
   "cell_type": "code",
   "execution_count": null,
   "id": "74072acb-ff02-4b57-9737-8834d8e18bbb",
   "metadata": {
    "__GENERATED_DATAFRAMES__": "ᯢ粠 ",
    "__has_persist_output": true,
    "trrack_graph": "ᯡ࠽䈌ʀ匦㢠⹰໢吤惡䰤瀨恍&⸢壬ါᢠ᳦࠰棠㙪チ䂃¬ᗓဳשᐠ▴ሰ㒸㠨䮴减⓵巇⾞䆅䉠ð䀡婗憨㕀ॢȠ௞䠸ᢀ眰䅽忕怢晐樠Ԃ牠Έ䃙硌䘴⌷ذ䭦⇆匰堠曊ᑎKἸ䔭䟧掰磐†崣↳䳩ౠ㌆ِ沀倠祐ሿᢸ䆦␍掃穸ؠ嬸සᑤࣦҢ䳹䑀嶨僊䡞᫠ආᲄލ䉊ÞΝ匚⹆悦壻䉌悆㘠传σ緷汍嶘䆪希䝃ຆ⁠ऴ䗢冈ౖ⏄ᇲᙑʦ凲婒ᣡ榐岵ԧⓈ汄⣦႘屝䌗㱁曋∦ᶉ䚴⌳䐲⒪⍠擒Ჾ⁲ᑪ㈹↡䷡侣ᬷ䔲撣۬斸泎⾴ᖪ務⵱ᤊ眥䌣ీ朠a˜䬵䝰ΰÂK偏員䚽㵅㖬㫎׃!昰⁹煗媡ᢵ瀛ถⵠഘ帎柛搐ˡ⫼አ䥴⌷Ӣࡌⴽᙦᐉ♿֡₤عẩ੐ପ䝫炵Ƶ矸岎㒽ˡ灤⤢䕨哬ᬰ䄃㢜¨Ⅎᩴ孳圈僝㽸䛡❌磲㚺䆓˥噺挻ᛢ׻皧ⷴ疺ȷᗦ睸ಐҦ՗㏢㗦㊠⁧Ƽ次潧἞熕ẏߤǌ泞⁘ত倿⥨悵猸碾挞Ἢ†窒⤐ీ⢃䶏洊媐洐楝ద幰ጣ䃆┤娸ἂ愐⒧Ŵᕃ䠶ԡ⠬̡⠢敘碊ƣⅢྣ➆៨ᅈ⤰硈ע⑳䮥⑦Ԣ⒊扥惋䫘´ሓ䔗ఱ㖇ཱྀ恎ඉ⒝⢉㩦䘸㵌ἀ絟〓汝Ⴧ尫█⥺⇑㹎Б繷ǋ剉́ᮙૹᑚâ㮕௹㐡涥౺䈨硝漺灤沸ぴ溺㍦ඹ㣜恹୦ɹ䬪桊⒗̵抴暸㎊ʴ玔塹₂檀狪拊䰰∂㖍⌡産⫘䴠Ո悋ᠫ㘍Ш痰富㏝⿏瘚傌灣Ѥ㉃⍥ಢࡦ堼ܳ悸䘬戨㘫⇈㕽䄲㩬ⓘ榃懐ᐫ⇐ᔨ䱸ᖃ綋⳹ূ⣌摅⩮撅❏ᒙዀᒧఢ瑚⫣椚ã提ᬧ᳆೤嶌ଂ堿⛣外Ǫ糮Ȇᅎᜣ㶎⨎㵏㩭㲎⠢紑䠤糩竦簾⠁◼』絈䡊ࡴ䠦ɀ戰窌⤲ƀ粲妀喸䞹甾炚彽䋹䝔⊄佗Ɉ䠬䋥䠫䈘⴫䁐༠成ⴥ慓ଡ嬲ქ䑒㸥嬸㦁䒩䵈犜㟫稞ථ獜掇ၻ⊮氢媭汔ᾍ冔ἃ⦼ࡁ䄗మ孖盽挖乂愮窂㮊秹㯎混䫄қ⁖䌽ྖ绿ຮ劖㩎嗳㭸㶬ㄺ斢殕ブm*倡䨠ၠ㑚❾㖚捬晭䃠挦竤㚁䣿捍壵ⶰ⸬䈂㛻䆅樼洰峭ᥐ⨷ɐభ䌀䮶䉜ඦ壦竰商拉ᖵ哗᧔೚喅嫜寵ࢸ㬣㇢㮣戣㵰Ḻ౎倮์㖱Ẅ㓼咃峴憭ާදༀ঵獠渇庒㓆␱ŀ༙咴࠰䩢᦬୓ေ0ᕲɉ曤⽌摠Ⳡࡸ㪨奋ᔶ縶疎⦈↘ⱣѲԅ垻䣔䧰劲䡨㒀Ḩႚ恸䔹䒑ᢁᡎ΋Ɓょ▾⨭扈ල㛱㐽嗫ᶬ㮢禗ば㛬僾旸㶳∛ݠ䐰㡥ሦ恝杀ᨇẴÝݱ≐֛⪾橻✖潒׾䘯帹漀癁␇姳Გ秅ᬔ磍燾㸅晵曉䵽⓺廙ᮻ㢗ჲ眬ጺ弁ᨡ䵔疢৛䲛〉殤ᱧᭈ◠Ⱪዿ浠坭䖈ઢǁĐ⦮းʨ綆℗⒜՝惓䝙㛁čⲐᵂ玂攊⺉慼è൧ᄢ䇄獮ᤡ⁞؞墏ᤐ濄䣣㣗ഺ睄փሂ⍓斠䊌⚨ᒬ⡝෰㚹ぷ焀䭢㍾ࡁ∾晄᭍峫䌵奻㽚Ⅹ◤䍖አ尣⎔櫩䂀༣㭑˂⁖ࡦĉ㯌㢖滂以沔ⷻ᭞䘙ށ笳ဖ僉ㅁ撠启㧪⮈㗕⟱㡏哤䊉䘢榍Ც嵀ᎆቁ⥵═ⵋ唌䙼斝仳ᵅǚ⇈ኋ㥩ໃ8 睬䴺佢㑖Ġ?⛅ⵠ㰼ڋޱ♍㤑䙐䓸⨥恷⑰䳚璘֢刽Ƒ⾪焮ᗺ㸦⁲⇔㵑瘋ࡄᱡ㊤匕㢨䤑ญफ़ᬳ帥縆ㆇ䆿ǆا⳥擹䀸䜄毒恆珮ऄ႙᪼䘇䃼㕆吱壷႓㝃税㺻㧓杁⯭ㄗ䩩㈵憴ᵣ孌⑸㼫塷᭡Ჱ捵斢ሌ㊪⋍⫃⮋刂孻擫ܪ紎濲塅剚⩌桨叧㛖➇㛩ԩ盡ㄢ䗱ቲⳢᏃ狇⯕䢯柰咥暅࿠ⓧ婅ʠ㛜墤䦣潻૘礁炃午ँㆈ崅໭擔㗺搮᜙៕⢃ఖ჎ㆁⰼ檬䄗ἢ䶙坾愢媧済寰瘆斕姬⫽㥩䅞⢺姎怫ⵣ瀎䎖剱ᜱ檐旷焅㫊፲䫈Ƶ祾欚⊉伾ƍᕶᖆ࣊竌欇۵∈⥹ეᄩ㒭㖈怰掀ద䉧଀⻡廈䓡椦नၡ憗箮ੱせ呞佱ኼ奲㓖勁ᾴᦓ⛔烍㋑⼭䂊棏惓掬ೇ୹㚹Ϧ耔⚤㍼̪䷻亻᣻එ堤玙斆䆊崇摍᪆ⷀජ೩猐★噔夾笏პ㊍秱ⓛ弁痠箋㉨硩瘅圊傲婋ိ挨˛淔䍘ⅸ碏敨㼒潉暥确ۉƠ㫰㘲娵䡋Þ嘣䑵ળ瑰Ϻჹ䂇敝僧䃰⪸䂐夊䋑䐢愁潇ટ冝㕮瞧䚉牁槜∈͗㫀䑈฿㚴植ᐩ沉嚸川Ṁ毘揵漀ⲍ䘵╇ൄ̑䐧爌丽慓㔙ᔕ竊✭㓅囍Џ㩠ᣥ૤狢䴘৆䐫ᔙऴ䒺⎮ߎἫ橣剒䎈㮋ᢆ䟐秵焜㆓፦㦱愦睔奘١ַ枆`㙪㓃ࡹᚬ漫ᠿ䚇ឺⓤÉ䣗拭撀䄹◪潫櫹䮍团⶚㭗㚖欏Ӌ␥ᘆ崙䫝憣帙堮ᄐཀ爡ᅠ⚄箛灨㈢恐ౡ叽჊㩂䓏瓙ٌǌⱻྀ㈞⫗㻸ᓬす㜉ᙀਧܮᙧ咒⡈䦯変䀤ޣ燴ȳ焧㋌瞯┦䝩炴夀ᮑ絟ц㳐ᅘ䫆嚎㌭㲍ψ6、瀭⯾၁啠ΫŁ䄺 兰ໃ爜†䩝Ǵ.冠㽣灖ۋ缭⬬ἡ怮列憂倴ȿ傜䡔ɟ儞夀ໜ燑⑯㇍做ᐰ㤿䴝ђ启䦸䮛ፁƺ䬢哶佨綌䳤石瞔䘮祯໽♉⎛㔂⻿☨䏚⳨峲᪌眦㫲㠻丠ါ໨׿㊈ᘷ㇫㍮ɤ憫ᓚୱ磒煍㳙榻磘ᑲඋ炾嫍㋷ʱ᫽⹦烽ὓの嚧燈㈙桝爽傍᭺䷿䌑栙ʺ碢䂲䈀⊚瀶䂶摀ᐣ爦瑊ㆰ䜐෽愅㜀夰㫨囀ڏൡ怭幐ď㞚ష廑䋀!槍⢆猨塥䌔ä挫ဦ惇捞㨐⾲綯ໞᘦ᡻Ł䞞獵ᆠ䄔ರ㰦ᢘ䍿抠椰塪nǡ攮偿ᣠ࣠থ炛䅸ᶘཤ⢌戗⌱㧵⫐Ⅎ᫬ઃ8䈋ྀ璣࠹䃀ಘ倡ᑹ⋄ু圗㞷㲛止弢⸢␠Ȇ␧䯊ᦤ唰ࡉX㗱㐏ὐɏ妝ᆢ棆冁áଁら嬜夑™ビٸ㦃⌣ホ؈ᑀĻ䁀䞿䵸愾ゴȈ෢ḹ㾏ܘ㒬瘲㠳䄁ൽ椱⭦ۡἡĮ㑘Ę൵䰻垏慛ᝣ嗊䕕ਞ䍥ᣀ宏ሧ伴䙆孂⭡䒴檫⁝掿䨡᠂ሢ抓履砄恊卟垃剅怯窤㽉戤⎘♂㬜⢽⁔♟彐〆缼⚟䞥煃⽃磙䧜⸍儚䠈ャⰈᾁ简ಝᐍἡ䕘㢂⸺徉戭䮜㪣徂ȏ備㫅ႄ䜿䃴╉Ṏʢ䡩戹ₔ竤῵ᐢ⡛砶Ḕ牀ₔ技ᰝ㍫位ࡇ崽罄⼴窷䍜娄獙䫓帙Ẇ䑕㉀㞼䁎屴ޠ嬃箥Ĩ嫠屼㠿䵜ץ婽উ䆄媔⥽携坣榐㍃眡琸ˡᢡで᣸ᄐ୓ऽᰲℌ⑃笾ㄘ᣼⅒ᬌ㝿䫡ῃ̼焅秆㝓䒭夀䘌⦃ڂⳌ婆㍼糦㵞ఔ䧄粥怢⋆ᜠ䢭ₒ抄 䢻䑒愈Ή䉥⦉奙߼玄̰✂䰭Ūྕ嬲剜檫䁝惊ⰴ⃄䠶䩒᭳盇咸⌲ჳ㫭㔖⨾⵲➹哆⣘䝳ㅨ焣Ⓤ㜒⚽⽉˗ภ枪琦灣咕Ⰰ欱箪㹲䲸⣭⁀ٲ䀏浩ᬘḽ䪿库〴ᦩ㭥‧殨ㄈ䣌ኍᬀᩀ᭪⁌㨹哳疤ⓨㅂ✝⢳性碂⪳墻䓏祠▼濡獲᫟䬈Ẽ属㬠塌样璬ֆ前報㥰⍫䂢ᆺ㱛䭦⋔搿䆘曎咔⨷晇䓜⸃塁惨㧉⭂⦶䣽ᚄ⹂ळ勵ᚄ⏌晹洃㢜⏍↡ፌᅹ㳒༳沵㊏ഡ⒈帡䌂԰⨪ԭ煨㍝દᖂ₸ൃ儵洞㍵兂注怠ᘚé桍刪椋優♢0ᕰ▤紏⮘òဂ㎀ӿ㯭坤₌宀窎ゴ傁ྐ內學޶䋡寱ᔭൃ䋋兢䂪㹌⊷㠰ȣ瞸檬ᓕ㬫含䊮唄ோɃ櫒ᙠ⣠䲅ၺ秐⦳㔺擽є⃣縍䂑✍ឳ喸ᒱ䓏保㸱䂑⟿䔡劳唿祡├㊎࢜ήጡ焮㭦䥈῍Ⱒ㲢⎁⑩ᄡ椴偱∱⪼㲭▾㘒ឱ紋斞㣳罬纆㫙䩔厠扯燦䐠ጣؤ樑⯲䆃瓰堦㑽桎ዼթ㽂㉺ⵈ撅♓ੱ䭜䘾䭋䜉Ⅳច佫㙾㵄䙒㺻噲猖孓␡۫䐭燨䃑䰩ᒏ灅ผ䳍㖃傀ĳ券䐾Υ⍃ᅶ僯䓬ᦊ㨷僦䛦ᬡ☲夅䘼㞉瘿撺攪㒂欫炾¼⯢搣烲ᰘ㺫渹点敻⪡ᄺⳒ寫㣼♵晛ៀ决⤵ࣗ㑜㥒㤴⭜䕞Ⴢ刬⣲䐤˂‣棂ᣋⶳ櫶ᤙ䇔⏂ᗃ᣶櫧⿂۷媷Շ㙴ጺ伏揇⎀猶ࡰ䊋㗓嫹⽝ȋ⎃砇㛳䙻㴂吣⻲ᦻ㻺朾㢪䅼⿻眻䭧䝜㘃漰祚宜ぁ㼽瞟檈䓋壄孀簂䈬戁嬸ᮍ䞠兤஛垐Ρ媌竒╮ঠ榩 啿尋埍儢⑾厛ཱི廝◿徚潴㻨₿㓠柽笤䡍㻝ⲏ໵埒⎊孻䀽垇⢃筲ᒩ悽㺪板彙⛓ㅳ⠊媉ঀғ榬ᥙ࡞䳁禮㽣㉄Ĳ㨦䁑⣚個ἠᬆ喁ⷊ硶梑唱㊋⑷櫖ᛣ㘣烳ґ挑⮄ᣲŝ䬚⊴憉䃑ᜦ≫ㆌ䅢׀墣旊⃔姦⪺⩾朞瘧㕓榹䴌曫⣍厬⒓㑛㴂Ȥ犦Ө筂牑䴚ৠ൒㦼出˸⭧䟀磪服㠦⸿ⴅ༔ᷛ෵㛭೛ーᙟ滪枟⵻歵ⅅോㄡ㭦ㇷ࿰㷧彉曾暌፸㢲䀤₰ቨॡ彔䅨䘵⭏䝶Ĭਛி㙂哎㿼殺̵婵㈭戉孺嗊ು㙏摄౮㔧吮䇤䈹䇄㡑恔Ȓᇭ㞄⌤ึຠ㕒博乫⇆塛₆一淇拋ᪿ婄嗉ⲅʦ磡Ⲁ灱㫹傴メ⴨ࢋ嚴壬┎灛吴ச佻㻷嘿㔬俵窷眝⺦〲甋台Θⱔ䵠寐浔䌍懱ᔦ㝔↹ᝢ㜶塦牶⚥ឨ楫቙⃶刉⍪䏽匀䷶吶䦻刚㓳∂ỿָⱋ㴕晓䭎॓≆⭖姖㝙㿛⹽簲䍝೑䢤቙᦮㴉䍉笻⪀Ո囦䢔䂲๺緵慈ƨᡁ具⬨κ໠մ峉產㓊珶Ұ祵Ⓠ⯷⪻਎૰帧䧝࠴拊ӌ⨅癔ዱ孚噊䴔攦絜ᚬ๔符ᐢ樜๙夀䀠 "
   },
   "outputs": [],
   "source": [
    "PR.PersistChart(chart, data=df)"
   ]
  },
  {
   "cell_type": "code",
   "execution_count": null,
   "id": "a57edda0-2892-4c1f-b486-066f59c56a79",
   "metadata": {},
   "outputs": [],
   "source": [
    "persist_df_7.head()"
   ]
  },
  {
   "cell_type": "markdown",
   "id": "3066d9d3-6688-4bf1-ad00-39ad1b5df821",
   "metadata": {},
   "source": [
    "### **Table**\n",
    "\n",
    "To create an interactive data table run,\n",
    "\n",
    "```python\n",
    "\n",
    "PR.PersistTable(data)\n",
    "\n",
    "```\n",
    "\n",
    "PersistTable is a powerful tool to manipulate data"
   ]
  },
  {
   "cell_type": "markdown",
   "id": "fffd1b0d-d9a7-4c7d-8dcc-62ebd81352a1",
   "metadata": {},
   "source": [
    "#### Selections & Filters Operations"
   ]
  },
  {
   "cell_type": "code",
   "execution_count": 17,
   "id": "e39c69cb-9e88-4bec-9360-4c9e9093fbb9",
   "metadata": {
    "__GENERATED_DATAFRAMES__": "ᯡࠣ䅬Ԁ朤壠ᜣ琢〹夠炠⹰〮⁁䁻қ䚾ኊ㇠നСࠩ瀮晼Ƭ穅5愠៩䯙㉈࠲၂刀ᝢ⹲噴䳒㤪䳀Ϲ瓃䁻䈫C[+ᵚ㖠ؠ媔l琰俎ⶅ㪜■ɑ煚崣映暂Kᢧ䠹〤牸䂸㲢⢉ܪί⪡٦ᩳ傃暁戨厠ජᶂ໕㡙Ⱍ冡䫤科ዩᬇᑨ䅶厹姰㣤᰾䎦ޠ۵Ķ䱁梡䔋ᕻ䧢ຈສ穸ᵊ壱ݽ䑯ૐἈ䵠䕵嚧ࢌ䡪པ墱Ŧឹᢣ䉮猑Ꮌ柪㲮㑱ነ圆㖿捉ヤ㨱ዠ㨰ㄡ犘⣆ᙫ♠碚&桅ၘ⇖ṠƤӂ⎠˫ࢀ⊤Ųㅬ嚦Ƣ值䝄İ䐠⺳૤燘㹎ɷ技儨䐠 ",
    "__has_persist_output": true,
    "trrack_graph": "ᯡ࠽䈌ʀ匦㢠⹰Ǡ⌡氡〬揌ୣ䁆๑ૣૅ࠰抠⌡䙦䪍ì稥㏲擣G̲⠠䭈⑁槑爱ᝉ⵶䇓ᬮ溜ʦ䒠ǁ#㟄挸晠ኤРᝣၐüムṁǟ㤅䀥䉸攠ʓ㥀ǔ⁘㹔ݝந䀦挂懑ㅨҩپጢ㡭ཡ䄵რ憤ォဠ⺱壥憄䁂ᣒ䐈癐⠠㲸ळ`★ႁ倩梤⌠ⶬ໾乂߃ɠ朌ሰỤ㡭␩䮀ې俳Ζᅵᇁ斚ዧだ涍憶ん㬠➠ǹ稏熡㌏幀ज़䤆㨈䭒Ȣ䢄ᠮӦ࣐䒹ѡ䃰♏ՠ怨Ҫ௠ನ⸫ࢲ㇨愴פ␱䜻樑䡺ᠻⴕᲹ⍔⯥䒸碲⊳⑒ⲿலሒ䋑⩷ᕊࡴᨅ㏹互⪲写沠告ᖤኹⅴ㥬獘ᘃ㨈⦠b恡䘠ᗢ㌢ഠᲡ匤ᬌ࠭型䄀⠻圌㨊悇䨳č^䓾㙻㸠䡇瑤⁌᳨䠰搴ၿ≄椶֯∪岆ࢪ搄尬ਫ懧४䮎稼港ᙩ䌁碂ಡ₂橦ᖮ抐㲞ၢᆩ䵶巅毌紡䢉䊰屸劍᫬Ⴅ䦆櫍歭䣣塡筣夏㮽玀䬀ዼ❃ลრqḷ矼ⅰР礡䶀㘄狾Ḭ䯣猘䄅嶿愥䄱⠢ϜᤴᏜ匥䍜⌫稘ᤠϳ⤨ሢ䆓∙絠永ⴾ亐Àᰈ恰၀჈ᬥ⅃ҥ䴯槠ٲ䡁ࡔଠ吡䱀玜䖠ᡸ䊣格ీ傜佨䁌ሢ¹ཡ₉थ媈ᨀ惴ᕐ⧁䈠ⳝȣ⑸ᝂ獍劸㈶侠ớ嚰䲶战缠ሤ瘵䆤㈼䗍ਣㅰ㐽ƍᩛㇰ州䋼畋䜤栶熬ᕜ㕁৐䙭⧚㓭姎㜀ֱ㓩拄䚱ṟ䮬লㅬ吺ロ䈶㊀㦫Ϭ㆑㓉㔹䂉ḠĶҠ㣰⦶僴⦡Ḡڿᡀؠᱬସ㖫櫘ὤ¤䁈᫵〡͔烤ᆤ箼☚⫺⧤Ү⤒䲩⨄ʵ⯊ㅷ或ົ匔䱸㬬ᐠ䄥䒲㣬㦶㯸移啭涯〼⎩硼ᷢ⍼䯩㢠⏶ƾਦ燼倱竽篰ຌ柩燞ᩳ憞῭➢炻ܡᠢだ圱愱⥆ⓠ祄ᦠ效Щ⅗ࠁ灍౩塞ܞ摆‭瞨㔃Р䴁ဤ֡䉌䵩ቑ߉࿸‰⠣ƆⰩ䐰繪䉂汢䯂੥ᮅ纇ɄᠥБ̡ຘᅌ⚞的á瑒檭⺊䲌အ嗴㠹哠囃圸⻇冼捏挜羰௘䭇͹᫡⏶攩奙ഭ守仯↨佞厢刹䭓嬪壹侉≖唷滖ⴣ嬈滷憺悦㓨㧃䡍湡⭍繵㜪㕴⪊厨  "
   },
   "outputs": [
    {
     "data": {
      "application/vnd.jupyter.widget-view+json": {
       "model_id": "40a5509361954ed6ae86013c313fba84",
       "version_major": 2,
       "version_minor": 0
      },
      "text/plain": [
       "PersistWidget(data_values=[{'__id_column': '1', 'Name': 'chevrolet chevelle malibu', 'Miles_per_Gallon': 18.0,…"
      ]
     },
     "execution_count": 17,
     "metadata": {},
     "output_type": "execute_result"
    }
   ],
   "source": [
    "PR.PersistTable(df)"
   ]
  },
  {
   "cell_type": "code",
   "execution_count": 24,
   "id": "2cc7f692-d5bf-4166-b3f5-e61d91b94a28",
   "metadata": {},
   "outputs": [
    {
     "data": {
      "text/html": [
       "<div>\n",
       "<style scoped>\n",
       "    .dataframe tbody tr th:only-of-type {\n",
       "        vertical-align: middle;\n",
       "    }\n",
       "\n",
       "    .dataframe tbody tr th {\n",
       "        vertical-align: top;\n",
       "    }\n",
       "\n",
       "    .dataframe thead th {\n",
       "        text-align: right;\n",
       "    }\n",
       "</style>\n",
       "<table border=\"1\" class=\"dataframe\">\n",
       "  <thead>\n",
       "    <tr style=\"text-align: right;\">\n",
       "      <th></th>\n",
       "      <th>Namessdsdsd</th>\n",
       "      <th>Miles_per_Gallon</th>\n",
       "      <th>Cylinders</th>\n",
       "      <th>Displacement</th>\n",
       "      <th>Horsepower</th>\n",
       "      <th>Weight_in_lbs</th>\n",
       "      <th>Acceleration</th>\n",
       "      <th>Year</th>\n",
       "      <th>Origin</th>\n",
       "    </tr>\n",
       "  </thead>\n",
       "  <tbody>\n",
       "    <tr>\n",
       "      <th>0</th>\n",
       "      <td>chevrolet chevelle malibu</td>\n",
       "      <td>18.0</td>\n",
       "      <td>8</td>\n",
       "      <td>307.0</td>\n",
       "      <td>130</td>\n",
       "      <td>3504</td>\n",
       "      <td>12.0</td>\n",
       "      <td>0</td>\n",
       "      <td>USA</td>\n",
       "    </tr>\n",
       "    <tr>\n",
       "      <th>1</th>\n",
       "      <td>buick skylark 320</td>\n",
       "      <td>15.0</td>\n",
       "      <td>8</td>\n",
       "      <td>350.0</td>\n",
       "      <td>165</td>\n",
       "      <td>3693</td>\n",
       "      <td>11.5</td>\n",
       "      <td>0</td>\n",
       "      <td>USA</td>\n",
       "    </tr>\n",
       "    <tr>\n",
       "      <th>2</th>\n",
       "      <td>plymouth satellite</td>\n",
       "      <td>18.0</td>\n",
       "      <td>8</td>\n",
       "      <td>318.0</td>\n",
       "      <td>150</td>\n",
       "      <td>3436</td>\n",
       "      <td>11.0</td>\n",
       "      <td>0</td>\n",
       "      <td>USA</td>\n",
       "    </tr>\n",
       "    <tr>\n",
       "      <th>3</th>\n",
       "      <td>amc rebel sst</td>\n",
       "      <td>16.0</td>\n",
       "      <td>8</td>\n",
       "      <td>304.0</td>\n",
       "      <td>150</td>\n",
       "      <td>3433</td>\n",
       "      <td>12.0</td>\n",
       "      <td>0</td>\n",
       "      <td>USA</td>\n",
       "    </tr>\n",
       "    <tr>\n",
       "      <th>4</th>\n",
       "      <td>ford torino</td>\n",
       "      <td>17.0</td>\n",
       "      <td>8</td>\n",
       "      <td>302.0</td>\n",
       "      <td>140</td>\n",
       "      <td>3449</td>\n",
       "      <td>10.5</td>\n",
       "      <td>0</td>\n",
       "      <td>USA</td>\n",
       "    </tr>\n",
       "  </tbody>\n",
       "</table>\n",
       "</div>"
      ],
      "text/plain": [
       "                 Namessdsdsd  Miles_per_Gallon  Cylinders  Displacement  \\\n",
       "0  chevrolet chevelle malibu              18.0          8         307.0   \n",
       "1          buick skylark 320              15.0          8         350.0   \n",
       "2         plymouth satellite              18.0          8         318.0   \n",
       "3              amc rebel sst              16.0          8         304.0   \n",
       "4                ford torino              17.0          8         302.0   \n",
       "\n",
       "   Horsepower  Weight_in_lbs  Acceleration  Year Origin  \n",
       "0         130           3504          12.0     0    USA  \n",
       "1         165           3693          11.5     0    USA  \n",
       "2         150           3436          11.0     0    USA  \n",
       "3         150           3433          12.0     0    USA  \n",
       "4         140           3449          10.5     0    USA  "
      ]
     },
     "execution_count": 24,
     "metadata": {},
     "output_type": "execute_result"
    }
   ],
   "source": [
    "name_renameed.head()"
   ]
  },
  {
   "cell_type": "code",
   "execution_count": 25,
   "id": "4007f5e9-de3e-4455-9b44-f0cf31c8c9a5",
   "metadata": {},
   "outputs": [
    {
     "data": {
      "text/html": [
       "<div>\n",
       "<style scoped>\n",
       "    .dataframe tbody tr th:only-of-type {\n",
       "        vertical-align: middle;\n",
       "    }\n",
       "\n",
       "    .dataframe tbody tr th {\n",
       "        vertical-align: top;\n",
       "    }\n",
       "\n",
       "    .dataframe thead th {\n",
       "        text-align: right;\n",
       "    }\n",
       "</style>\n",
       "<table border=\"1\" class=\"dataframe\">\n",
       "  <thead>\n",
       "    <tr style=\"text-align: right;\">\n",
       "      <th></th>\n",
       "      <th>Namessdsdsd</th>\n",
       "      <th>Cylinders</th>\n",
       "      <th>Displacement</th>\n",
       "      <th>Horsepower</th>\n",
       "      <th>Weight_in_lbs</th>\n",
       "      <th>Acceleration</th>\n",
       "      <th>Year</th>\n",
       "      <th>Origin</th>\n",
       "    </tr>\n",
       "  </thead>\n",
       "  <tbody>\n",
       "    <tr>\n",
       "      <th>0</th>\n",
       "      <td>chevrolet chevelle malibu</td>\n",
       "      <td>8</td>\n",
       "      <td>307.0</td>\n",
       "      <td>130</td>\n",
       "      <td>3504</td>\n",
       "      <td>12.0</td>\n",
       "      <td>0</td>\n",
       "      <td>USA</td>\n",
       "    </tr>\n",
       "    <tr>\n",
       "      <th>1</th>\n",
       "      <td>buick skylark 320</td>\n",
       "      <td>8</td>\n",
       "      <td>350.0</td>\n",
       "      <td>165</td>\n",
       "      <td>3693</td>\n",
       "      <td>11.5</td>\n",
       "      <td>0</td>\n",
       "      <td>USA</td>\n",
       "    </tr>\n",
       "    <tr>\n",
       "      <th>2</th>\n",
       "      <td>plymouth satellite</td>\n",
       "      <td>8</td>\n",
       "      <td>318.0</td>\n",
       "      <td>150</td>\n",
       "      <td>3436</td>\n",
       "      <td>11.0</td>\n",
       "      <td>0</td>\n",
       "      <td>USA</td>\n",
       "    </tr>\n",
       "    <tr>\n",
       "      <th>3</th>\n",
       "      <td>amc rebel sst</td>\n",
       "      <td>8</td>\n",
       "      <td>304.0</td>\n",
       "      <td>150</td>\n",
       "      <td>3433</td>\n",
       "      <td>12.0</td>\n",
       "      <td>0</td>\n",
       "      <td>USA</td>\n",
       "    </tr>\n",
       "    <tr>\n",
       "      <th>4</th>\n",
       "      <td>ford torino</td>\n",
       "      <td>8</td>\n",
       "      <td>302.0</td>\n",
       "      <td>140</td>\n",
       "      <td>3449</td>\n",
       "      <td>10.5</td>\n",
       "      <td>0</td>\n",
       "      <td>USA</td>\n",
       "    </tr>\n",
       "  </tbody>\n",
       "</table>\n",
       "</div>"
      ],
      "text/plain": [
       "                 Namessdsdsd  Cylinders  Displacement  Horsepower  \\\n",
       "0  chevrolet chevelle malibu          8         307.0         130   \n",
       "1          buick skylark 320          8         350.0         165   \n",
       "2         plymouth satellite          8         318.0         150   \n",
       "3              amc rebel sst          8         304.0         150   \n",
       "4                ford torino          8         302.0         140   \n",
       "\n",
       "   Weight_in_lbs  Acceleration  Year Origin  \n",
       "0           3504          12.0     0    USA  \n",
       "1           3693          11.5     0    USA  \n",
       "2           3436          11.0     0    USA  \n",
       "3           3433          12.0     0    USA  \n",
       "4           3449          10.5     0    USA  "
      ]
     },
     "execution_count": 25,
     "metadata": {},
     "output_type": "execute_result"
    }
   ],
   "source": [
    "persist_df_8.head()"
   ]
  },
  {
   "cell_type": "code",
   "execution_count": null,
   "id": "235d6e01-c3dd-4fcf-a92c-734c30ec07ca",
   "metadata": {},
   "outputs": [],
   "source": []
  },
  {
   "cell_type": "markdown",
   "id": "355531cb-60ec-4c78-b781-eed49c233f74",
   "metadata": {},
   "source": [
    "#### Search"
   ]
  },
  {
   "cell_type": "code",
   "execution_count": null,
   "id": "245bf8b1-a245-4ce8-a59e-c3f7d33fa44f",
   "metadata": {
    "__GENERATED_DATAFRAMES__": "ᯡࠣ䅬Ԁ朤壠ᜣ琢〹夦゠⹰〮⁁䁻қ䚾ኊ㇠നСࠩ瀮晼Ƭ穅5愠៤⠠ ",
    "__has_persist_output": true,
    "trrack_graph": "ᯡ࠽䈌ʀ匦㢠⹰ڀ↠ಈᆠย堡〫⑅⹆෪¼戢ᮂ宂̸濪⸢㌓暠ᶩᐠ▴ሰ瑸碪䮴囇⣹䶧㝞Ž䉠ð䀡姇冨㕀ॢȠ௞䠸ᢀ眰䅽忚怢晐樠Ԃ牠ΈƔڦ❓ሦõ䰶䇑䅠Ȅ恨汁ئឿƨ⃧挐㇐ؠ嬸යᑤڦҡ哹䑁ᦨࢣ㵕䀺慶䐩疧䈡㸦ƶ穋ۡǹण䍔愊㘠传ϒ緷挪戏ⱡ䕽皮㒓㈨ɪ⫥☂૓炁䑈⸬Ⴂ圽皨篂਱⁰䈠೪揱ᢌگ㇍ᮋ䥂䢠⍤Ⲃȥ噗ᩩ䄀Ѫᅪ⍈ె֮抐㲞ၢ၄w⁸ᙛ屒ᙞ⍀⢘洠䭳঺᥇ℰ䙠  "
   },
   "outputs": [],
   "source": [
    "PR.PersistTable(df)"
   ]
  },
  {
   "cell_type": "markdown",
   "id": "2c7f5eff-050e-48de-8aad-21dde7aa1821",
   "metadata": {},
   "source": [
    "#### Edit Cell"
   ]
  },
  {
   "cell_type": "code",
   "execution_count": null,
   "id": "a970629e-eeae-4173-9729-d47803f18ad1",
   "metadata": {
    "__GENERATED_DATAFRAMES__": "ᯡࠣ䅬Ԁ朤壠ᜣ琢〹夤炠⹰〮⁁䁻қ䚾ኊ㇠നСࠩ瀮晼Ƭ穅5愠៤⠠ ",
    "__has_persist_output": true,
    "trrack_graph": "ᯡ࠽䈌ʀ匦㢠⹰̡࣠䘤ᥫÐʀୠᎫf挓攩剐挱ᓀ۠ᶪìኅ㋅ተ¶⡨⇳㌄ᕁ╦亩͆ᘽ嶛稨ǁ#ッ௜′䈤7࠽ᠠ湐慎Ⴅᣕ㈣%墎吠➛␠㚨አ䗨揠ˑࠠᲈ䤈幃়䖢➂ტ⊂燘ᢸḬᶤ+凵櫺ರ桚ಟᙙ䘪/ጢ⃃声栤䊔䄩ᖦ删ב䎹イ⁸と㤙塢۸䐫ᒥ䰡団Ɀ㫰Ⓚః囿䰡䳐ᤆ҅櫼ຆफ़〤砠Ḏ亾ᠬ㬓戸℆燑て㈤Գ䔌Īâ≸㼨䞁㡑ᔬᅚ擰優Ţ塼ɛ݂⊈㷧⊚异ᵦ漛㕇┫䈥㑮ၩࡩథ፨㉹๭Ϩ੥⓬ઑ椱⍞ᑫቤ⩽ᓫ㋙ᘿᑋଅƸठÊ柎ࣲ䀠Ȭȫ倡⻣ᠧ⠣䠠㥌ᒆ㖈㫱!燵㡚禢ݕ恰৳楙䶎╿犑᫢㦠ߴ㆔⍍☁稜◐⹣㋂ṑע╸ᙾ໧ᅅ㐩擣悴㑋ʓ慸ᣇ⹥ᒔ柖澄㡄䰮ྦშ䩆㭧儸昻ৡ焘ġ܇ፉᚲ懲琨ɴ┰ᅸᵈ湔䷆妣⃗䝶爦旑洖䎴氅ᷮ䮾揃䅤ᠠੂ㰆ᝋ吥a➰ჶɞ篓漀磜漰ᛞ㊘hत倢͜焿捜紱䇘翣推>䉩रࠩൿ氹䌨撂๰ḥᱨᴤ僘ᢥ䄽ڦൿ湡偎֢ौ橣牚ֻ䠬䉡㡶λ獪ɡ灎൧䠸䗠䁼ሡ䄑Ρ䐺想惇§畃⊉⵱䐧儑೅⥍ޤⓈՅ缹ᩥ‧⫆⤑ె䔑ᔂ⓸ႅ撪ኧ洑Ј紱᫐㹏䐑纓ಀ怳乂⒆捁宙৹ᒎ櫁笭ࡘ䔒䥳Ĵ࿚ጦ⊹ࡔ憠㎊ය玜择ଲ晸⭔ո䅡∱፨䊵劬勧㊢架䮒楹岝ࢺ唭◉ᩝ₋൳⚈y㞯ţ⯫煣.ሥ㩂旕皱井⻛協⠰䬀绕䏑ƨӣ懁䊭測㐐Œ愠硆۩碾ɀ栩͠ᤴ⒨⡌➁ᱱй搩恀Ⱖƀ杕㟲熣㘴ೌ⌴Ⲥ劵᳌刅犿ት湝⛵ⵛ┉嵔琸⑖⁼挤愤⮥䍽୓狼၆曹㭕柽䝐䍘矓睝さ痜➨ឝ圮䖝⳪柽㝅᜝⒳䠝ร䭖䡂〴ཙ䒍䤠ࢃ丶檂ٺ尷Ó硨т勭佑㊌塲㵦䥓㾠棈灐榡⍤沭Ӻ墢ዱ໷㫢ୃ⡰ᕒ义槚屜⃬✩נⲣ毀ㅋ՚䐶̩汄↠尩杠〰矸湧䔙彏悐㹿䪐Ɣ䖌爧㑱䨯㍱緆䑯ㅽ䘤ў畛催⃚坭毚ृ棌⽻椚彯槦∸䄖枝㲩ផ淛ǣ檛深ⴎ僗㺊⫘䀡䪦ᐆ橚崡檾⇠ℋ㻒㧫挆ว⹒рفᄕ綥祰ਏႯ⼡䐸஥䒱ᘢႱኦ傱Ԃ䁥㚫緕䀻䐲⭆थ⚔擬ⳍ≙⡸ᠸ堺僉⭍⁃።⍅ㅦ⧦䁹令⠤䃑䦒熬搃㳤ፖ㍸ኃ崄旬䜰秉夑⸪憾؄㌵矜ဩ曋Ǭ侢䵟ី䅒ந⃗䄥ㄢㅎ嚺挥剧ⴰ幺巂嬤ਣ㡁懰慃傘܁ᄭ慸෡憬⇘ण㢔Ո宎ᛣĠ瘱洬士౦壠⦯ᣩખ綄勶䧄拦捅䉧璴䗩㼨⮗ㄠ㠯庶ඃ扚ⷜ㙸巃䥘②ှၮಣ惌೤ᠮᅨ߂⻛pౡᱰ炞沦ჶᶄ๑Ӡץෘ䊦⢅࢐朊፣઎ᑲ幉涎ȣ籙➐䍭椫ல爫炦䜠Ḵᦜ㙧粄Ơᄣ堠ݐ䱄皬唉廾Ⰵ繩妓噣孕ʥᆐ䖕<䄯尵ॼ䠵Ⲕഘ⾵磿Ḑ㽇熨᠄意溲忧編ဘ䪿㪿㨕㆓䣌専摷ᴝ⿾獟尚群捊⭷ࠠذ咍䇴䂱⠷໙寫㑖䇑慪稿㞤ᶘ愠縨䧹ᶝ柮䕓Ԣ寚₆㿑灞䁀Შ䴟杹᭶差䢚ᯈ篽⮖㴼愎促Ṿ䨫烢䤱岓傔烼珳恜਎⦨↓໘䓻㣩䐐༱狳⤯卋懜ᘹᤌỬ澫䋈⁅㼿Ԟ¨㑁㖱ᄹ㉖គ慉渌䄫瑨⛸妩嬉஖ᠠ䋚ᤋ四厅价਷坚俋䭗⡢ⴰถᓳ⻝а䍧䍫嗹ࢋ⣘樭㭾㉺⩂盻殪⅗⎙㧘羢曨槭䩀䈪᲻姗橣ⴣ橦㞫ޯ䚨䯲⢲¨䴩៵ᆂሱ澦Ͳ枋♩⇨嘫剸ʠ㠣ȝ㥛暚㩌嚔㙉ƌ㖲થ渵㶧㋫䙉琼⥀ḧ湼⠸籸扤嵠ⓖჩ㒣吵ᓲ寥瞑Ͻ狭级嚡䓔䮾崖⥤፲綑ℶ勈✤弐嫝毡㊱⁒兰⒂沂ᶙෲ㰯䂘औᠰ减傣煘㦀ᘥ∢ʈ⑪༗彈瓐ʼᔆ㹣瞜旬㾟䯙စ࣠崒糄㤥㤺❔烽㽢瀩⹼楰☻䭩狗㧘⥶桪呐䁪キ⥵ߧ唼ᯋે䴺ྺ罀䛉׏⭦䥂拾痵堃㾬寳㋵哬嬦璈⤍ἰ㳻⵳ײᗈ晫⥤䚏燆杫榕᳍棲刖㹀䧏❴櫭஋䲶媭ᨈ䧍絛獎㎇滃⊢朴䋯余憻嫍ຫ罽獚⼷慂ᘰ主ᮇ囅喳֤夭崽ମ垷᚝ឍ⑗璔⸸描囀沩㝾თ↡⁖䄾嶣爦⠬ງ႓珞旉༕抠пॼ亄㳔皇㋯什埮඼嵊૛◺ᘖ⮖၄␎ଢ䁸ṝ∨䍭˩⎚ᇰ挭࠶ൠุᕓ䗱垿牐㜦ࢉڮ甮伆ཱྀ崆帜ᬥ忲p兩㸶ઢㄷ紪ᘏ8䇌⥞倅´ڱㄽR匌㉝㢮椡⁲憠ሡ䚣a嗕〠㞙᰽琾慊㼃榝牱㴿喛䎹˧ম准Ьↂ౥撵㲃ᕄቇ䓴丘罵⦭᭓ࢻ⬆ࢳ㘵ፚ廣峰歠ᾤ׉唨种ଫᡍ䃽㎖婷秉橃㱍涎⾋憋殰楫䎞垞㦶懌囵睾ଔ㛦痙殦泫⽖㟖熷⧖ᝓ㳿ฎ㖛䦩篛㥍嵖矮瞋嗎嘽嫮ᬂ墽ఢ瑲斂䥢䄃宴✩編࠘い刕窞綒慩ᦹᶳ㘅厛ᱶ↗ʡ㦖ዹᝈ叹ଋ緌ͼ儶ศḼ扂᳒㉝䑴䒚ሡ䞥දᄷ࿋⼌㷋㷣炒瞺Ì弖䜣禯䐔㼇尵罰⚕ှ亰ᬧ✦䔧洹ᣘ綮唈倰終㢐࿤䖂䯇殈̱箓पຑ刮ҀĺᎩ㷐㯨㲖梌瘷㋛ḻ૿䫃䕡ԁ᧠䣗┡ܸࡵ㣤ሃᤩ秲䈧ہ㋋צ炂㊆⬫㕥硒〳᲻⽤Ē猑ᧉ傥⚉ㅭᖋ婢℞睋㔧೶䈆㔫չ⍶曔ಓָೣ湁垓㎊巻䄥㘀璊ˣ曡㑉ウ⫾滔૗Ꮊᡄ婩㜰䠢䷨↌ࣳᙺ桀溊ࡰ篊䁙婺燰䛙⫶䇕㒗㵻⏩婭㊐ᜠ怦ၔ㞀٣⎧ჽ煘ᐉᐿ泬ˤ㘠⠣懟▹㻱❴幫ᝏ⳹玽㈪Ǐ㆒⊷㌅擽⇪ွ䁕捠ᨙ㇢经盟㬢濦琯烠ᐘᎵ䃏牰Á年缇癀٤夦纲䇨搚剅縣癈俺唿癐埿∤石缍ಧ㈘䓰丬咿㮛⟸壽玿⩛篰㹸燧㝡㓬Ƭ㍡㌻戾縤ހਡ恔¼眃᳋䡡⨢㐷ᴩ榻ƺ円ⓛ灚⹜ឳᇋ禬䅪烀䫚ⵦ溁煐禈ⷿ⼔ಘ溦㑅燞瑰篥ᷳ焮甯⟦с爟๐容繈湡瞕ଥ䑬৏भ࢚嗾य़ೳῤⱂ湑砑㹲⾮慯懜㙪Ϊäԙ⏰怿ऄ݀Ⅲ堠䀸Řⲋ௭᳡ලຒ⯾㚱ପ⶘扝㪋と䱠椣Ⲇ⭅曢ᆻᅽᶚ托㢦䘐ℸ亥ህ೟ਢ㉛ሗ珈琚ੑ刏矸ဠ "
   },
   "outputs": [],
   "source": [
    "PR.PersistTable(df)"
   ]
  },
  {
   "cell_type": "markdown",
   "id": "f1fb630b-fa93-441f-98e6-33eae803407c",
   "metadata": {},
   "source": [
    "#### Column Operations\n",
    "- Rename\n",
    "- Delete\n",
    "- Change Data type"
   ]
  },
  {
   "cell_type": "markdown",
   "id": "15e3c565-6568-4e69-b3b6-34de7814f231",
   "metadata": {},
   "source": [
    "#### Assign Categories"
   ]
  },
  {
   "cell_type": "code",
   "execution_count": null,
   "id": "483f8adf-a44a-4f3d-bd15-d2ac32b5d0fc",
   "metadata": {
    "__GENERATED_DATAFRAMES__": "ᯡࠣ䅬Ԁ朤壠ᜣ琢〹夤ㆄƒ䃠Რ䌡㘳眺㱩哧ࠠ桠 䁯猀ಏ䢪K䈠⾸倠 ",
    "__has_persist_output": true,
    "trrack_graph": "ᯡ࠽䈌ʀ匦㢠⹰ࣥ8ƀᶪƺ〶䀧ء᱊೸夡౮柑䈣〨ㅠ⬹Ƭ⣮侻ैkᑄႈ妐ࢷᓍ❡䧋ގ㸢䉠ð䀡姕冯奀ॢȠ௎䠸ᢀ㜰䁾巓怢機⨠Ꮃ䤠ළဢ㎃凸ì㉢ᥚᬬᕮ普გ愨停Ẕ煍Ꮋഽ䆡\"甕種ፄ㨾䞰ᛥㆢ䀣擠䡈䤔ᢆᩇ卆⏰˸惌求ၖᡄᲊ橁Č⌤⩡㒶・ΰ㈶⠥稈砆碌ṋɒ疎ݚ⹡ŸŜ.箰㞬ޣ㌑Զ㫹癖ᓠ箩ቄ孉懐ⱪ࣌⍅ᡐ婇䏥杮ୂ䃑䖈䞤㊑桲佬秝ሦ䘤檴݊⽢䁤兖ᙏ੄ࣴ䒡䣠夼佀⤴╩䰺狳ᄸ乀䥄⥖ൎ暓㤶Ὀ⬵ңࣣ⫘晇ඪᠠќп•嶦〶倣䪊き⫡ʻ曘Ἣ㍴÷၆κ⻀橖㱞ᾥ椨䄌⤧ׁ墤ᡥ䁅⠴༤䎀怼夭䓢桰ቺᆣࡈ਼台幛Ꭵ抰じ㸨䕀⡴ാ䙂ᣬ㬫䘃碢Ḹ⟊᫭᭩㌋偝㹓䌩㐐䣬ジỳ⳩偹ᙋẽァ㙛Ỻ牙✞⧼瓛皚᰼↠Â㰾ؒ渾⠤ෙȕす翕⾎઄汯㸓⭗䠮ɢ値̔䤢េ䈀䫋猑ሠ߆㸿䃷㱎巴窦䏂᳿堖㩐/᳠⧅ǎఫʚ࠶䆲ూ䃔³恸幁䁰䪧⁈ๅ停ش凸ᚢṐᬦ瀤䐢⅀ࠔ䢌ਠ䢙䬯ǐ㒀â㵡Р奖ఛ焀⿋湰ڊ䙩ે悛╪噯丒纟䖃啜ृ⑲杀⭥൸咚滁᭍ૻ㣪䵰䄴૙̸ȹ䌨攺〸朸፴⊹卄⦻㎞⅂岗ᨇ䍨懪粴଻࢘梻፴溺䊼楰唰∠1㾣粕ᒴ㒍⣧㖬庨璫c籝ㅶ0㵫琢ၬ塠㘭䁸⼮䈚੩䃀ᔥâ㩉ᓀ㑥䠨޵䗰ɭ࣢⺂ȓ௄ⲥ㵈擥୉ᓹ♭䦅㳋撵᥁ⓛ❭榦稩愆昩憨ऎ᥆ԍデ⋩㸇⌋夏㇮嵤᧡㣎ⴂƗⰨ㶯Όᦏ㗧减ђ娏ᷤ絾ఄ槿ʲ֢㈷粀メļⶢͤ䛁ᐊ治粘强䏰倷䙤丹ͱ効ႊ䯧⫝͸牑䕘͐喭䉠⸴በİ杼ᚉ怲甧஋ଥ′猫慘ⲋ࡚稦悈Ḧ⇲㭛扰哨Ꮙ佞Ѐ凈欥抿㥢ھ⯪ǣ勜៣礞㎤㉬䦋ᇫʥⶴⶊ倻ڬ淔⬅⤼ࡆॷݵ檘ཾ䄚䃿殦愪᯦妅ᰚ⳿᭡Ѿ歚睻歐ଯ欦粘乆昢了使᫒熣䯤垭ᠠ㦫≋⳶倡擲㟧䂎万碎䀧ଢ紱㋗䭱๺歵廼缿珷圁橘❣珵㝹碚㬌ɗί惕᧭㈐ㆍ䛐揶Ự♝ᇪ䈶䐕洊਀梭䌨喩㘶䤪ᓑ⽖ᝦӟ擅⃝ᖆ䳁砽䋱洴疛ᴊ㡇ʀ≤灛匼倨窓൙⽳㇖Ј圷梎ᡔ䍠㏼ႂ㱷ਠヵ㇁䌐むᯣϤ䅷֜ᒊ㚈懬‰ᇑ圻ҡ夁ᇓ㍒ㇶ翥朚毬ၱೀ塹់ᣏ≓⼦瓄ᴨ懜ᆥ籜Ԑ庤䑴Àچ䑈̀燁爽⍌㵲籪ኡ堻ĕ㜣倶׀挥圄毌˿ౘ㻊犳⇐!⩃৒அᄠ༅⢐෼〷尧彡޲抠㔨儉烾湍剭⾍穩沀ᣪՋ妶㲤噅ǌ㫦傭䧀ⶸ℣姩ၔ⋎̲瀴ўᘬ㹴ઝᐼ綸ଙ匷⫿㸖ࠬ環劰㻧䒜ⴺ勯䖠⾣⓿ᬣ弧痐䌭⺲!⩏ԡ䝹尰䷘籷㤗㾔ཱྀ燰⵮ဠȅ咁๜淫䀠ຽǪ峉柅⡏ᆁ㑱ːརテӵ寿棺厡灉ࡤ☣٬ʀᑩ䂅ᦜⰧ䇦嚣ࡔ⊐Ť㓁凬⠀ⲫ渼㧺ᴓ䃙推欱ኔ䵜畮ଉ烠ንࠧ夛̈溶Ƥᰨ㴹䊚禢穘᜔桙㦁匤细琝෣惖ᛡ∶℠橣ὢ䌿થѭ݃⠵⍏曶䲂懼恃᱉揦෥帢ΐ晔卉⼢㪌刏ඓ㝈֢㫤硺ਐ嬨ࣅ഑剩㆘ϡ䊫ᄲ㴲ᅉ㯤ㄶ〹坄㺩䑈Ҵ搯Ⱈ佹ඁ寵ڶग䉹㼲奡ሲ廕怤令榿ᮌ悊ᄨ淑Գ䋆彭漨牮㼡ⶭ嫤庴㭣ᑩឃ჉ᆅỳኝ囪牠㥙を⁬ռ垾秸਒吧犅䱸Űᙿ⡏ˮҥィ䲍ᬁ෇冻Ⰵ孿撖樒皰⬥ࡹ橰噓奲↋䩥⁜撵㮔眰栩喼ৣ橜漿㍻䀢▼Ὓ乽䉼楆⽵眐⤵庞䫵ℸ䈁អŠ榤㥄⋷䴴⁌䣨䖝堵ⴸ༡䉑䣢狷㔝睉⺹⥝ኸ絀㏏䧇٫│祄癰࿥㏏汐䝈䌤ŦἋ䜥ᕀ畈ͺ⩼干㡬嶢èయᶶ佇ᙾཏႧ暈҂③團⋞䋥⛧ᡮ᫊䪋᭤渳嘸婑忬孂⛑䑯፿᪐䂊⫮㞱彻♢ᚺ㟌⌏㶚㞺䵐䇈樉ᾁ声ᛆ嬁儸䀧Ԣ〮Ƅ⢀≵㄄ņ祄ҙ效п䒫牬䞪撉竓ẵ䜼爒弡燁熣㿦ɺ暤揤ર͝⬯仱ᎺἮ洓⃫᷒✶禰第仒沷眖〆ذ匰Ꭲ坋疤㰉灯漝⨫縑ရаڐЭམྥ⒥嘚岋ጼ氊櫶〠۾㏏㶸౵㋀䳷սค溼᛽扩爔 恟䇠ख㺃淤暯⸰က伲竊坬ი䗜⒬ⷧ槾䯬纫扚὜㮨᠇纔眢侏京䀽౜㫸なၖ暐Ⴏजլ᤾㴹數⩞䄬囘塔砸涶䆫ಠㄪ䌻挅䎣岴ᘲ䦖䐘悪Ԟ噪劻Ĺ⼫眶ɑ㨻熑᫃㲾⧼坳櫿ⶻ怩༾ጢ另ἢ䤮礏≠⴩䦺卭ᣓ⣒Üଖ૪¨᳇剭佫Ţ畢Ҩ䱦㤄Ɗ氳橒睨ᶮ⸶幻ᦗ㝩⭍癖⎳绡搪㛖ါͲጬ堵兩˖㝾斳㻮攒㏣畟䅡焋㳱榍澺簍奠ᾛ嬇⿔ត氼ဠ "
   },
   "outputs": [],
   "source": [
    "PR.PersistTable(df)"
   ]
  },
  {
   "cell_type": "markdown",
   "id": "94a72763-7cba-4fec-91f8-8f673585a7e2",
   "metadata": {},
   "source": [
    "#### Using output dataframes"
   ]
  },
  {
   "cell_type": "code",
   "execution_count": null,
   "id": "97add61b-8b77-40e1-8a99-80da51e1ca12",
   "metadata": {
    "__GENERATED_DATAFRAMES__": "ᯡࠣ䅬Ԁ朤壠ᜣ琢〹夤〡䈡㥠怼䁣Ö࠯൜⓴殨⁀Ѡ➠㬪瀬え䔠ᗢO嗂фɥ棪⭶䶺攠ỽ┼⪊LČⴝ⠡ᥲ倥吐Ā΀Ԅ寺㺯㋠ᇉޯ䬡ⱘࠠ㌿䇨᪣䕧犰塡籂⡈їԻ今䂦ℋ⢌缈Ⱗƭ䜹溮䋓榙ᱜ㛾欯⨡勈愣㝢ۥ恳僄繤ᱚ宦`۵·灠܆繟⤽䬲悄৕᭚䲣梶ݾ必唫ބ๾䒘ˈ劼䢊㼲㒺∩᜽橯ౖ୸᭫᷉凹掏愥ᙲܣ䈌穲េȘ縻ତર塸儥㥱ጸᵥɀṮ᤯揈;ࢼ䜂戸噀ٴ∎ᅐ澣೸ឨ%䧠ҹᤩš䠠ᱴ䁄ণⱣᆢԘガ✰Ú榋ǡ焘㆚࿩䁄焰  ",
    "__has_persist_output": true,
    "trrack_graph": "ᯡ࠽䈌ʀ匦㢠⹰ˠ㬡దᥠ♉‶䖠ภ氢㤩⮠㌵Ф〰椃䈥〠憠㌧૜僙ↆ㉪2攩њ㙜˥擈毲㖎淯䁰䣑ဠ㑀Ⲁ仨ɰ䂠̄㈦;䘸Ϥၗ眽〠婨䳀n㝄V䐤䇫⃠净䣙哔婂ਫ઱䉪晄ㅡ凳ᡐቺ⼨7Ⲃ㆐奁㦬壁晛ఴ>☤䃣↑㦐⣜⸬ᤰ抸怫ㆣ宫ၡ䲀䢉巄䈳墮೉ɒ氡圃暀令㳀ఌぞ⻳ᣐ瘨痭尲昢∧〤砠ᶿ἞ᡌ໧愤䧼䝓䳤妆楌䚧惐๓٠愨㑏ɥ懈屏୤၈殧ࡢ䆦帪ᙄ㇔䝛昕䤺ᡓⴑ᰹捔⬷䔲擊ⵠ撸泛֣搪䘱≳ᕁ᥇䳫䐲⒪ʳⓙⲮ⟯攪౑⩴㣬䙍⨀ƴႀ仠04堼֣㣀恠຀ɲඬᯰ栣䠠奠帠Љ㻡⟀ܷɬ嗓夁呡似࿋夽佶ġᠠ垑叀栤䅰䶁嬸ἣ䷡燩ᠼἤ⊱ᐬ㵢懑᰾ᾨጩ⊑Ǆ棕浕寋欁屒ԡ䌀䌩䪃᪡獥姂媇ᮍ䈧堼䞛䴇ᠻቋ䜇㦆⁘ᩣ!≉ῶ熙‰ㇸ恭䁧燡㲙楏╛焠玖㾴༤⋀У疲䈿ᦢ沒ᾞᙠĔ㯥穆篲ᠺᣮᩆ擤Ƽ石窘濷筜泹刡伨բ挬஡夻ʂ䑣°䈬䌀㋥°ⰷ䈰昷吂ᐹ䍼ᠣ䂐ሣ̐昣ϡ䌱ۨ映䐞ౘ١㬧⥌ӡ́灡ᮜ炪↪ွ歴㠻棠彠ᢸ⃥ᢠ㍫ŀ㬸ᇩᎴ犌徿爢恮慸ᠶ䋨礨奈勵⇰ز妈᫷⏶̡㭴圢ࢀ䙤̤嬿ᩙ䔤壈狽暈櫧⇶紱墠Ⱑᬤ೼ᘶ䣙≱㝃ⅶ洶娈۾Ԡ  "
   },
   "outputs": [],
   "source": [
    "PR.PersistTable(df)"
   ]
  },
  {
   "cell_type": "code",
   "execution_count": null,
   "id": "4f825155-3cdd-42c8-88c5-ef7891b64b37",
   "metadata": {},
   "outputs": [],
   "source": [
    "test.head() "
   ]
  },
  {
   "cell_type": "code",
   "execution_count": null,
   "id": "39263d07-8624-4b3f-9e59-5533a1e98e02",
   "metadata": {},
   "outputs": [],
   "source": [
    "persist_df_10.head()"
   ]
  },
  {
   "cell_type": "code",
   "execution_count": null,
   "id": "eff58716-b18f-4c00-9a93-3ed2443344dc",
   "metadata": {},
   "outputs": [],
   "source": []
  }
 ],
 "metadata": {
  "NB_UUID": "9b2f5bec-a755-4a5b-a877-fe1a880b9f38",
  "__persist_keys_record": [
   "__GENERATED_DATAFRAMES__",
   "__persist_nb_uuid__",
   "trrack_graph"
  ],
  "__persist_nb_uuid__": "be067817-dfa3-42d6-948a-39c4b95d3382",
  "kernelspec": {
   "display_name": "Python 3 (ipykernel)",
   "language": "python",
   "name": "python3"
  },
  "language_info": {
   "codemirror_mode": {
    "name": "ipython",
    "version": 3
   },
   "file_extension": ".py",
   "mimetype": "text/x-python",
   "name": "python",
   "nbconvert_exporter": "python",
   "pygments_lexer": "ipython3",
   "version": "3.8.16"
  }
 },
 "nbformat": 4,
 "nbformat_minor": 5
}
