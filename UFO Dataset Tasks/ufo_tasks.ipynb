{
 "cells": [
  {
   "cell_type": "markdown",
   "id": "522fcbb3-702c-4ea0-91d9-f3b0e71690fc",
   "metadata": {
    "__GENERATED_DATAFRAMES__": "{\"nodeDataframes\":{},\"graphDataframes\":null}",
    "show_aggregate_original": "false",
    "trrack_graph": "ᯡ࠽䈌ʀ匦㢠⹰àᦴ΀࣪ʐ怶䦠挠᱊ࠥ䁁䂖㚥煤晬փ⊪ĸ暂䙠঳ैkᑄᄈ妐ଷᓋ⃩䖻Ṯ溜Φ䐡傠Ǒ団Қ′䈤7ࡣᠠ湐戎Ⴆ寐爤䀥屨攠ʕ㥀ǔÚ䍃㏙䤥ࢂ┩勸惀Ēいཆ༠೥∁∀秸㲅䌠ⶬᛦ䙂ǃɡ殍戰泤ᒁ嬦怭㋉匥穃ᄠ彣჻⴦䉫ぢ睤䄁ⵐۻG䀡曑砑䂱竖ᄂ㜿Ꭽ˹ȩᚱ凁兘㑐Ṣ༩Ẻ䳥⑆憰棨忞⍧攈堽Ī僰὆揖䦲ᡊ⛓౱নఱ姼ᤦΧ您別൧儸晋Ǣ熘繀䉁硨K塊়ṹᜰ倳䪂ⵦ⚈ᒽ᪺ᆬ䀠 "
   },
   "source": [
    "# Analyzing UFO sightings in US"
   ]
  },
  {
   "cell_type": "markdown",
   "id": "ceac0d48-2820-4532-bfd2-adf6533d7a2d",
   "metadata": {},
   "source": [
    "## Introduction\n",
    "Welcome to our data analysis study. For this part of the study, you'll be working with a dataset sourced from the [Utah Avalanche Center](https://utahavalanchecenter.org/). The data provides insights into [avalanche occurrences](https://utahavalanchecenter.org/avalanches) in Utah."
   ]
  },
  {
   "cell_type": "markdown",
   "id": "8f2e1070-396c-412c-b81c-767605d7be23",
   "metadata": {},
   "source": [
    "#### Persist"
   ]
  },
  {
   "cell_type": "markdown",
   "id": "68491102-96aa-4701-8134-d998c80ae04b",
   "metadata": {},
   "source": [
    "- The PersIst extension is already installed and enabled in this notebook.\n",
    "- To familiarize yourself with its functionalities, please refer to the provided [tutorial notebook](../tutorial.ipynb).\n",
    "- Interactive charts and tables have been pre-created for your convenience. These can be directly utilized by running the corresponding cells.\n",
    "- Focus on leveraging the interactive capabilities of Persist for your analysis."
   ]
  },
  {
   "cell_type": "markdown",
   "id": "905153f6-39fd-4fa8-8eae-fa4818de0df6",
   "metadata": {},
   "source": [
    "#### Pandas"
   ]
  },
  {
   "cell_type": "markdown",
   "id": "0c4c85d1-1882-4b59-9cc3-26dc6b1e358d",
   "metadata": {},
   "source": [
    "- Pandas is set up and ready for use, along with other Python libraries such as Matplotlib, Seaborn, and Altair for data visualization.\n",
    "- You are allowed to use internet resources like documentation and forums, including Stack Overflow, to assist you in completing the tasks."
   ]
  },
  {
   "cell_type": "markdown",
   "id": "95b5d524-883a-460b-8023-2c6aab29570f",
   "metadata": {},
   "source": [
    "## Tasks Overview"
   ]
  },
  {
   "cell_type": "markdown",
   "id": "8ebadbe2-4497-401c-9220-017809e835de",
   "metadata": {
    "__GENERATED_DATAFRAMES__": "{\"nodeDataframes\":{},\"graphDataframes\":null}",
    "show_aggregate_original": "false",
    "trrack_graph": "ᯡ࠽䈌ʀ匦㢠⹰ૠବɐච䎍倶䊪ᠠ父嬡ᳺ෪ੲࠬ晴ᘦ㍲差Ⱗㅅ)㊤䈽ାƂ刴喋橖㎁混䩟ႠᨰV岸㈔␢⡠䀢焧匠෦భ戰௷㙠̸x䠊䀡᲼䠠洠⺾彡抄䀠㈉㶣㡶ᡈ\\䰩(懄燃㌂㰢ᒌ娾䀶挥㗦ࢢ烡ၕ⬱жㄢ៉䓐͸⮑ŝㄐ䁏你㋲既祸ၛᅀ㢆䰽⫠਀⻚粀幝ඨ࣓叾殪㙡ƨ◓ᰢ寘奇Ⴌ䦦糂礒৉ᱥ䩃༥ס扦᤭ԓ噻ҩᆠ剋࣡ସ䂡▥撰じ㸨䅃䢴മ䂁ᣌ㬫䈁碢➫怢崢悩欂䥑央Ⴧ掴≺䩬槔ဨ搠 "
   },
   "source": [
    "In this study, you are presented with three fundamental data analysis tasks. Each task is designed to test different aspects of data analysis and manipulation.\n",
    "\n",
    "- Carefully follow the step-by-step instructions provided for each task.\n",
    "- As you work through the tasks, take note of any interesting findings or challenges you encounter.\n",
    "- Feel free to add new code and markdown cells in the notebook as necessary to complete the tasks.\n",
    "- Document your findings and any challenges faced during the analysis in markdown cells. This can include observations about the data, any issues encountered, and your overall experience with the task/method.\n",
    "\n",
    "**Support**\n",
    "- If you require assistance or need further clarification on any of the tasks, please let us know.\n",
    "- If you find yourself stuck on a task and feel that you will not make any progress, you have the option to skip the task.\n",
    "- For tasks that build upon the outputs of previous tasks, skipping a task might affect your ability to proceed. If you choose to skip a task, we can assist you by providing the necessary dataset or outputs required for the consecutive tasks. To continue to next tasks:\n",
    "    - Use `h.load_task_output(task_id, subtask_id)` to load necessary data.\n",
    "    - Example: If you skip `2a`, before starting `2b`, run\n",
    "      ```python\n",
    "      \n",
    "      df_task_2a = h.load_task_output(2, 'a')\n",
    "\n",
    "      \n",
    "      ```\n",
    "    - This ensures `df_task_2a` contains the expected output for task `2b`."
   ]
  },
  {
   "cell_type": "code",
   "execution_count": 61,
   "id": "9337796b-21e8-4c8c-bbbd-3076a775d03b",
   "metadata": {},
   "outputs": [],
   "source": [
    "import helpers as h\n",
    "import pandas as pd\n",
    "\n",
    "import seaborn as sns\n",
    "import matplotlib.pyplot as plt\n",
    "import altair as alt\n",
    "\n",
    "import persist_ext as PR"
   ]
  },
  {
   "cell_type": "markdown",
   "id": "dd81aecd-eebf-4624-b9e2-3a864c474c1d",
   "metadata": {
    "__GENERATED_DATAFRAMES__": "{\"nodeDataframes\":{},\"graphDataframes\":null}",
    "show_aggregate_original": "false",
    "trrack_graph": "ᯡ࠽䈌ʀ匦㢠⹰Ҁ̡䘠烠嘢త〫‥侴ᓬᛞ拐ৡ䚂ద抭婈ހڅྯ䌲⠠䭈⑁槑焳Ⴥ⩦仃㍶๽㰥Ҩǁ#㟢䌰橠ኤРᜰ͐üメ湁˛㾄ָ̠憴)挄䀦栢琭ٮ㍄ᨡ䌤ᾣㆢ䀣擠䢤㘦Sᥧᡠ戂怡ᠬÖᠻ㹈䐿ة׉妨⃓ࢱ̴㖠᫲徤ฏѤƜڣ回㸦ۡ৵ण䃔戊㘠传ϊ緯挡䘌污䕽庮粓㈨ɪⷠ搃猄ᦨ洘㳌ᤪ̪౦繶ሱ澂䘣⁑Ҝഭ炍孉ृÅ⭱䤾ᢠ䆋෭ኀ㠢Ү≱呺Ấ惑汮ᮯ戩䊏̠˙Ɂ⧽憳㈒ṉⅱਊ⥋⃆瑀⣨  "
   },
   "source": [
    "## Data Description\n",
    "\n",
    "The table below describes the different columns in the dataset. Each row in the dataset represents a reported avalanche with details on location, trigger, and aspect. The data spans multiple years, starting from 2004 up to 2023.\n",
    "\n",
    "| Column          | Description                                                    |\n",
    "|-----------------|----------------------------------------------------------------|\n",
    "| Date            | Date on which the avalanche was recorded                       |\n",
    "| Region          | Region in Utah where the avalanche occurred                    |\n",
    "| Place           | Exact location where the avalanche was recorded                |\n",
    "| Trigger         | Cause of the avalanche                                         |\n",
    "| Weak Layer      | Layer of snow that was weakest and likely to fail              |\n",
    "| Depth_inches    | Depth of the avalanche in inches                               |\n",
    "| Width_inches    | Width of the avalanche in inches                               |\n",
    "| Vertical_inches | Vertical distance covered by the avalanche in inches           |\n",
    "| Aspect          | Direction of the slope where the avalanche occurred            |\n",
    "| Elevation_feet  | Elevation of the location in feet                              |\n",
    "| Coordinates     | Approximate geographical coordinates of the avalanche location |\n",
    "| Comments 1      | Additional comments provided by the reporter                   |"
   ]
  },
  {
   "cell_type": "code",
   "execution_count": 76,
   "id": "8d0e426c-89a0-4813-8994-65ebba3f3a25",
   "metadata": {},
   "outputs": [
    {
     "data": {
      "text/html": [
       "<div>\n",
       "<style scoped>\n",
       "    .dataframe tbody tr th:only-of-type {\n",
       "        vertical-align: middle;\n",
       "    }\n",
       "\n",
       "    .dataframe tbody tr th {\n",
       "        vertical-align: top;\n",
       "    }\n",
       "\n",
       "    .dataframe thead th {\n",
       "        text-align: right;\n",
       "    }\n",
       "</style>\n",
       "<table border=\"1\" class=\"dataframe\">\n",
       "  <thead>\n",
       "    <tr style=\"text-align: right;\">\n",
       "      <th></th>\n",
       "      <th>Title</th>\n",
       "      <th>Handheld?</th>\n",
       "      <th>Max Players</th>\n",
       "      <th>Multiplatform?</th>\n",
       "      <th>Online?</th>\n",
       "      <th>Genres</th>\n",
       "      <th>Licensed?</th>\n",
       "      <th>Publishers</th>\n",
       "      <th>Sequel</th>\n",
       "      <th>Review Score</th>\n",
       "      <th>Sales</th>\n",
       "      <th>Used Price</th>\n",
       "      <th>Console</th>\n",
       "      <th>Rating</th>\n",
       "      <th>Re-release?</th>\n",
       "      <th>Year</th>\n",
       "      <th>CT_All</th>\n",
       "      <th>CT_Comp</th>\n",
       "      <th>CT_MainExtra</th>\n",
       "      <th>CT_MainOnly</th>\n",
       "    </tr>\n",
       "  </thead>\n",
       "  <tbody>\n",
       "    <tr>\n",
       "      <th>0</th>\n",
       "      <td>Super Mario 64 DS</td>\n",
       "      <td>True</td>\n",
       "      <td>1</td>\n",
       "      <td>True</td>\n",
       "      <td>True</td>\n",
       "      <td>Action</td>\n",
       "      <td>True</td>\n",
       "      <td>Nintendo</td>\n",
       "      <td>True</td>\n",
       "      <td>85</td>\n",
       "      <td>4.69</td>\n",
       "      <td>24.95</td>\n",
       "      <td>Nintendo DS</td>\n",
       "      <td>E</td>\n",
       "      <td>True</td>\n",
       "      <td>2004</td>\n",
       "      <td>24.48</td>\n",
       "      <td>30.00</td>\n",
       "      <td>25.00</td>\n",
       "      <td>14.50</td>\n",
       "    </tr>\n",
       "    <tr>\n",
       "      <th>1</th>\n",
       "      <td>Lumines: Puzzle Fusion</td>\n",
       "      <td>True</td>\n",
       "      <td>1</td>\n",
       "      <td>True</td>\n",
       "      <td>True</td>\n",
       "      <td>Strategy</td>\n",
       "      <td>True</td>\n",
       "      <td>Ubisoft</td>\n",
       "      <td>True</td>\n",
       "      <td>89</td>\n",
       "      <td>0.56</td>\n",
       "      <td>14.95</td>\n",
       "      <td>Sony PSP</td>\n",
       "      <td>E</td>\n",
       "      <td>True</td>\n",
       "      <td>2004</td>\n",
       "      <td>10.00</td>\n",
       "      <td>-100.00</td>\n",
       "      <td>9.75</td>\n",
       "      <td>10.00</td>\n",
       "    </tr>\n",
       "    <tr>\n",
       "      <th>2</th>\n",
       "      <td>WarioWare Touched!</td>\n",
       "      <td>True</td>\n",
       "      <td>2</td>\n",
       "      <td>True</td>\n",
       "      <td>True</td>\n",
       "      <td>Action</td>\n",
       "      <td>True</td>\n",
       "      <td>Nintendo</td>\n",
       "      <td>True</td>\n",
       "      <td>81</td>\n",
       "      <td>0.54</td>\n",
       "      <td>22.95</td>\n",
       "      <td>Nintendo DS</td>\n",
       "      <td>E</td>\n",
       "      <td>True</td>\n",
       "      <td>2004</td>\n",
       "      <td>2.50</td>\n",
       "      <td>7.25</td>\n",
       "      <td>3.33</td>\n",
       "      <td>1.83</td>\n",
       "    </tr>\n",
       "    <tr>\n",
       "      <th>3</th>\n",
       "      <td>Hot Shots Golf: Open Tee</td>\n",
       "      <td>True</td>\n",
       "      <td>1</td>\n",
       "      <td>True</td>\n",
       "      <td>True</td>\n",
       "      <td>Sports</td>\n",
       "      <td>True</td>\n",
       "      <td>Sony</td>\n",
       "      <td>True</td>\n",
       "      <td>81</td>\n",
       "      <td>0.49</td>\n",
       "      <td>12.95</td>\n",
       "      <td>Sony PSP</td>\n",
       "      <td>E</td>\n",
       "      <td>True</td>\n",
       "      <td>2004</td>\n",
       "      <td>-100.00</td>\n",
       "      <td>-100.00</td>\n",
       "      <td>-100.00</td>\n",
       "      <td>-100.00</td>\n",
       "    </tr>\n",
       "    <tr>\n",
       "      <th>4</th>\n",
       "      <td>Spider-Man 2</td>\n",
       "      <td>True</td>\n",
       "      <td>1</td>\n",
       "      <td>True</td>\n",
       "      <td>True</td>\n",
       "      <td>Action</td>\n",
       "      <td>True</td>\n",
       "      <td>Activision</td>\n",
       "      <td>True</td>\n",
       "      <td>61</td>\n",
       "      <td>0.45</td>\n",
       "      <td>14.95</td>\n",
       "      <td>Nintendo DS</td>\n",
       "      <td>E</td>\n",
       "      <td>True</td>\n",
       "      <td>2004</td>\n",
       "      <td>10.00</td>\n",
       "      <td>72.57</td>\n",
       "      <td>12.50</td>\n",
       "      <td>8.00</td>\n",
       "    </tr>\n",
       "  </tbody>\n",
       "</table>\n",
       "</div>"
      ],
      "text/plain": [
       "                      Title  Handheld? Max Players  Multiplatform?  Online?  \\\n",
       "0         Super Mario 64 DS       True           1            True     True   \n",
       "1    Lumines: Puzzle Fusion       True           1            True     True   \n",
       "2        WarioWare Touched!       True           2            True     True   \n",
       "3  Hot Shots Golf: Open Tee       True           1            True     True   \n",
       "4              Spider-Man 2       True           1            True     True   \n",
       "\n",
       "     Genres  Licensed?  Publishers  Sequel  Review Score  Sales  Used Price  \\\n",
       "0    Action       True    Nintendo    True            85   4.69       24.95   \n",
       "1  Strategy       True     Ubisoft    True            89   0.56       14.95   \n",
       "2    Action       True    Nintendo    True            81   0.54       22.95   \n",
       "3    Sports       True        Sony    True            81   0.49       12.95   \n",
       "4    Action       True  Activision    True            61   0.45       14.95   \n",
       "\n",
       "       Console Rating  Re-release?  Year  CT_All  CT_Comp  CT_MainExtra  \\\n",
       "0  Nintendo DS      E         True  2004   24.48    30.00         25.00   \n",
       "1     Sony PSP      E         True  2004   10.00  -100.00          9.75   \n",
       "2  Nintendo DS      E         True  2004    2.50     7.25          3.33   \n",
       "3     Sony PSP      E         True  2004 -100.00  -100.00       -100.00   \n",
       "4  Nintendo DS      E         True  2004   10.00    72.57         12.50   \n",
       "\n",
       "   CT_MainOnly  \n",
       "0        14.50  \n",
       "1        10.00  \n",
       "2         1.83  \n",
       "3      -100.00  \n",
       "4         8.00  "
      ]
     },
     "execution_count": 76,
     "metadata": {},
     "output_type": "execute_result"
    }
   ],
   "source": [
    "df = pd.read_csv('video_games3.csv')\n",
    "df.head()"
   ]
  },
  {
   "cell_type": "code",
   "execution_count": 63,
   "id": "d9f5eb9a-69e7-4357-ab72-6b96760196e2",
   "metadata": {},
   "outputs": [],
   "source": [
    "# df[\"Genres\"] = df[\"Genres\"].apply(lambda x: x.split(\",\")[0])\n",
    "# df.to_csv(\"video_games3.csv\", index=False)"
   ]
  },
  {
   "cell_type": "markdown",
   "id": "7cc10d2b-9b1e-46f4-9769-b9a0ac0c9e8f",
   "metadata": {
    "__GENERATED_DATAFRAMES__": "{\"nodeDataframes\":{},\"graphDataframes\":null}",
    "show_aggregate_original": "false",
    "trrack_graph": "ᯡ࠽䈌ʀ匦㢠⹰ૠ㌬Ā჻R〶䁃lyٹ⁓f䍐ۢ䧪㈉◔ฅޡ䨲⠠䬱䑁棒瀱Ⴭ⭱妻ݎẜʤ䐡傠ǖ悃РኤРᜰ結üメ浪巟㈠ᣠˬ⃪$熒‣㐡㬚͇⦲༿⸂໡壡‡犀⒂ଠᎭॣ䥡⊃㡹稠嬸ූᑤඦҡ哹䑀妨䤝͕䀺慽䈩瞤∡㼚ƶ嵖᯦悡檩ǣ᪀畖o#䖊⠃ܑ璌⃥⹾䞌᧒Т⺈ᆡ⇳㴑䒤㒌ŭ᯸丈◡戱⃰潅Ԧ秐噑๦磜疶溂⒀ᒪ扖⋦ူⶃ㧄మྡྷშ⨭རㅸ瘭ǅ爘䅐䘆砠址䑂㥨㈼㹯䕈䓵ᒹ憴婊③ᤠ "
   },
   "source": [
    "# Task 1: Refining Columns and Preparing Data\n",
    "\n",
    "In the first task we will perform some basic data cleaning operations to get our dataset ready for further tasks."
   ]
  },
  {
   "cell_type": "markdown",
   "id": "8934b219-dd97-4e3e-9aa9-0dd7a9d62ad5",
   "metadata": {
    "__GENERATED_DATAFRAMES__": "{\"nodeDataframes\":{},\"graphDataframes\":null}",
    "show_aggregate_original": "false",
    "trrack_graph": "ᯡ࠽䈌ʀ匦㢠⹰ૠ㬠氤〥䌸瀶䀹䁣๲ৠܦᔨҀᣴ䂼䋃‣ᓆ做►䀳ല⠠䭈⑁槑瀱ᝉ⍮冫㭮ẜʦ䒠ǁ#㕀挸晠ኤРᝣၐüムṁǟ㤉䀥䉸攠ʓ㥀ǔÚ⎃஥䤫䒄攭ᇸ惀Ēいᘦᖠೣ䗫⃂変ⱦ{ఽ咼∪⌤䋵汄ჹ䑈冣ᛠඉⵆܔ⍂Þ⍡歹ম悩溩Ǡ媁疖o#䖓瀃ʅ璌⁅溮杲◒Ъ⍁䔶户ࣉⓢ削౐䘰䵥䌂んḸئԢ灐糕൤㧶ⶬ䲱䅲ᗈ撯ౠ惍䈅䥐属ѣ၈⩍སヸ๗௧焤ᄸ䒰Ž䅰䔉燩壥༲刳樲⭮✈咰ᒄ  "
   },
   "source": [
    "### **Task 1a: Remove Columns**"
   ]
  },
  {
   "cell_type": "markdown",
   "id": "47b531d4-2e3a-4e9a-b92a-39aebfc3deb6",
   "metadata": {
    "__GENERATED_DATAFRAMES__": "{\"nodeDataframes\":{},\"graphDataframes\":null}",
    "show_aggregate_original": "false",
    "trrack_graph": "ᯡ࠽䈌ʀ匦㢠⹰ૠ㬠氤〥䌸瀶䀹䁣๲ৠܦᔨҀᣴ䂼䋃‣ᓆ做►䀳ല⠠䭈⑁槑瀱ᝉ⍮冫㭮ẜʦ䒠ǁ#㕀挸晠ኤРᝣၐüムṁǟ㤉䀥䉸攠ʓ㥀ǔÚ⎃஥䤫䒄攭ᇸ惀Ēいᘦᖠೣ䗫⃂変ⱦ{ఽ咼∪⌤䋵汄ჹ䑈冣ᛠඉⵆܔ⍂Þ⍡歹ম悩溩Ǡ媁疖o#䖓瀃ʅ璌⁅溮杲◒Ъ⍁䔶户ࣉⓢ削౐䘰䵥䌂んḸئԢ灐糕൤㧶ⶬ䲱䅲ᗈ撯ౠ惍䈅䥐属ѣ၈⩍སヸ๗௧焤ᄸ䒰Ž䅰䔉燩壥༲刳樲⭮✈咰ᒄ  "
   },
   "source": [
    "#### **Objective**\n",
    "Remove certain columns to streamline the dataset for further analysis.\n",
    "- **_Comments 1:_** Contains textual comments not crucial for quantitative analysis.\n",
    "- **_Coordinates:_** Detailed location data not needed for the current scope of analysis."
   ]
  },
  {
   "cell_type": "markdown",
   "id": "32306297-3b43-4d46-8313-95f17822fea9",
   "metadata": {
    "__GENERATED_DATAFRAMES__": "{\"nodeDataframes\":{},\"graphDataframes\":null}",
    "show_aggregate_original": "false",
    "trrack_graph": "ᯡ࠽䈌ʀ匦㢠⹰ˣĸѐᦻϐրୣF☡䲩※ਡᱤĀၑ䀦ᆺⵕ暕ᣀɒ㉪2攩кᙼ䉅擊桖㎉淢域ᑡᅀ†浑ӦẰӁĠװ搬W౐ި₏湝〡㜶ᥠ¼湨N䣸持㉧ㄺ奣ᢖᡈ\\䰩ຣ⟆惂䧹夔琴Ī࣠ஃϔ憨䅐悰㫛㢤᭑Դ㈵堣ⳋᣡ㺨摠៨摖棄拑氰己ၘ⭬ǎ怩瀠㧎㸜ヌ㻍䑘己洉䓖₢◄㒜♶ᑚਨ䛤撁∴惘⡰ᑂཊ怰⾚ጥ΀䲌ᇩ复劄䘪䧌挴⊂̥㘯١䄁碂಩⍰瑦֡憐㱞lከ䤠ᗸᔩ亾ⲷࡰ৪ㅍ⍆㓺ᕟ⌹  "
   },
   "source": [
    "#### Persist"
   ]
  },
  {
   "cell_type": "markdown",
   "id": "aec9ad2a-ab09-4288-b8fa-2852bcddda1a",
   "metadata": {},
   "source": [
    "#### **Instructions**\n",
    "1. **Column Removal:**\n",
    "\t- Use the interactive table feature in PersIst to remove the specified columns.\n",
    "2. **Generate dataframe:**\n",
    "\t- Assign the modified dataframe to variable `df_task_1a`\n",
    "3. **Show Output:**\n",
    "\t- Print the head of `df_task_1a` to show the changes."
   ]
  },
  {
   "cell_type": "code",
   "execution_count": 77,
   "id": "8e333ff3-cb24-430b-a332-733b41570ba4",
   "metadata": {
    "__GENERATED_DATAFRAMES__": "ᯡࠣ䅬Ԁ朤壠ᜣ琢〹夤゠⹰〮⁁䁻қ䚾ኊ㇠നСࠩ瀮晼Ƭ穅5愠៩䍒⊂ᠡ囹䔐ுᝉ⅊㚜䡆⠡盚⤂剰Ɓᠩ怡悢㪼恍K;ጃ綳,ḡ䴖­终眻■ᶬẢ㝡瀡ᥝ䙬ṡᐴȣ䊡旵⁣ႭᒶⲔ㧇古榁瓗ᢸ㶽梞䮔➣崣ဈ瞮ၡ䌼籬㠬瑑ޱܫ儁䈀Ǖℙ尰е䞱儩矑笲ⶂṫ³ћ䳒檦൦㔴絍婀䑖⑅ޭᱨ䃃૯ง梮玓ྩ䱋Ē戰㨣恩䌖▪堓汜ᖧ枩䋑▧䒒᳷ⷾ瞺傚ᠹȂ琠ව䩠䷎ʑᩬ䶐⦨\"⡡癔傱ͨဠᾤ\"瓾昧戧ᦨ囅昱咜Ḹ⠇ᑀ淃₯如Ἧ☕↨ⱑဃё㮥ත搑≩ᙪ┭⪔戠Ƥ5㈠дጩ湨䗯璀瘷੥焐瑑ࡩ䅤ᄰ  ",
    "__has_persist_output": true,
    "editable": true,
    "slideshow": {
     "slide_type": ""
    },
    "tags": [],
    "trrack_graph": "ᯡ࠽䈌ʀ匦㢠⹰ˢ䅘ā䕷⃔Ÿǒ㑟ਠᠦᠬ柠ᆣ⧩榠皖Ƹ匚䁬䩰䥠ɻفͥ䎯ࣉ㥊㪭䵸傖瘀ᑄ-Рච↣ణ⑀´၀Ù璡䀦熦ྒ㫽䐊6儦倠❷ሠ᭤൤㛆䚃磀䓔⌴Ցᮿຠ҇ャ燹䓤媔ƕኣᔮ愠̋琭了⑪㻕ᡈ殃ʠϩ䂰᧤璞敚ኰ䥯捇栢沁㙦ᄰᆸሦ㮊Ⴆ療䏊‬ᬠ㖤棰ᯖೈ̛甮⭼⣻Ȧ殎೓ν堢㰠໯䥿ౕឝ焥ࣼܳ䒇ᦰၘ䆁䃐橆ס䅈籂⬰冁䘪̧ᅈ留┤౒⹍ঠ㣾侥䳱䅺柉歪㓂ᢼ₲⑲㓆ⶵ昒䋑⩷ᔆ⢗惫䊹䉂ⲱⅲ⹚▱攒ʱ⭡ᓪભ⊇啄(偁Ϝ\"㔢PÎসௌ墒惍⒃䂀_ǧ⬣ቀ䝰Ј෦槁ʉ簡ぽ㜪イ僧ೠ⢸㨼⹁ਘ㱐㟡㡰ᜡ䑂Ѧఽ䑃⡵㺽瑚崎ᒣۢ瀤ब䃀椔ጥ䟡墼༯䐳ѭ୭唋囝㽨㈺ࢤٽׂ⛳Ⳣࡹᛍ⫰᫸瘰㻰癛漇㳰ዘ溗⛿⎣䑐4◠⏈宼攠䁮紱嘣Ṯᘃ浩㱞⾨྽妜ၸᘵ୐⼖ᧈ㏧䵺ྡ〠㴹ሢ⁈ᙕ俋垘ề兔怢ݙ忛昜た犨傋産ሸથ稬੕侷с絍š氦⃁簬ʴ呙⎭ᆣߡ吶ׁɛ̹呟ㄠ桨ȝሱ䊡ⶫ焣悇噢㻔ଥ⑸⋑ᚹ䋅㚣単嬯搘°ᗐᚷÑ剉㎰ᗂ䛌⨽ろᩓㇰ⯍↑悦ⅽ䆷ԭ樤㊬⥌㞬вㅬ槅ì妮イʨƒ溘㝱Ṥ園尢㐓⧚㓭妣䙑♘ᄠ媮埴䢉嗴P䀡⧚0₃䲝ԉ஘ᢥ㴴ḁ絀䈰㘰ౡ‴࿡⎖ಳ砬䡢ᤒ䍻碜䜹ౌ惣ࡎ嚻偹䗓猠摺⊈䱋扱⋨╖⍊㦙⏫ᖏ໻婎䏱稡䟺〬ʠ䜹䝐❛ՙ嘫淑瘣䒒漫䛚䒋䲚㜧䯘གྷ折℻澒⾋溛ឍ攒ᾒ⥂得汦㼭亦ㄌᠤᱜᕅ犴ᘦ⠯欤Ⲃ噴⪡ᯀ凩࠘ü᥄ࣂᝄ৩୕ᎂ⏷ᆊ໣梕̣硘摨稞ୡ㎒ᔡబ䊀⩳䧄籿倒ŗ࿆ಲ歃䬥ջᑺ曀㑆淃ћᝳ䆞˛嫮巶笞塔㧦ɗࡑ兕✔͕䝑Ł媮嗷⣓ご⡁喎䛬๖ࡩ嵕㫹䫈㊫#ᑀᬋ吠ՌΡ爤Y䀤匊ص猊<䑬yᆤӚƪ碓揂熽ࠧǃ涥伊爸氜㍸ౠㅆᨘ⑬䠸ᄀ⁅ᶎ䀸ୌ⃰ᤣĪ≎枓Ҹ婌ѹ⃣޽ം䉼䲲恲䪓ᮅ⑛ㇸ䇛㽡䠥䝒䄪㗴砆⋯㩶⏺޾紊窷⛢嵎៱岾伋!濤ݠࡕ屠ଓ羹慣Ѐ䉨ა碊ʨ温ℼ䱠ᡀ☤Øّ匰̢楍瓄漣ᓧհ㛣烚Ѡ䰨⥩ǎ㗯⺸ᷱɸ␰⬩⧞ذ愷ल᚜娥,Ʊ吹ᣅኡ䡘偪Ģ恞ಀล櫉á簰䇘ᬥҦࢩᢴㄐᝁ嬡໫҉㉵䋟ሰ嶡㤷ᠡ᝷䂐Ԃ૖࠱⑲ⵅ埰斮䯫̴⬹͌礩ⱪ͹⨾姴ᇑ㐫㊳↧歄׀ᗮ滑׽ష屲ߒ₯㪤႑睠䨁⣁⌍䅓屹ߚਤ➰№ཱ玩ਃ⁊䢀檳ᓃ䙚掭兇ᐥ✬狮崇凥昡◼峊務ପ䙰癒㞟↊0媥䆁䛽浹俉㷎ɻ⒫笠爮ނว⏜䝫奮千ྺガ㨕嵋癸槤窓䃘潲൷ᶐ级簝∁罛䐞ࢀŠᶒ⁚巁尥ὄ۔ɗ厍ශ尾䛠⁣䩖峴㗀㒎ᦡয捲໘̫㑔ὂ瑍෉堆榫ߩᬮၚـᠫ梩䱑抨刂࣡硕Ѐ┥倡到౿઩D勦挅佫沄䄹㋖㣓᝶眵㋺搂竡撰ԡ椢Ӹᆄ㋇൒㖆熶⨃噧ⷜࣲɌ穨㴔⾈噾稣犩䛜Ũᕲ唁  "
   },
   "outputs": [
    {
     "data": {
      "application/vnd.jupyter.widget-view+json": {
       "model_id": "48cc9482c0c44dcfbe3c254258acc770",
       "version_major": 2,
       "version_minor": 0
      },
      "text/plain": [
       "PersistWidget(data_values=[{'__id_column': '1', 'Title': 'Super Mario 64 DS', 'Handheld?': True, 'Max Players'…"
      ]
     },
     "execution_count": 77,
     "metadata": {},
     "output_type": "execute_result"
    }
   ],
   "source": [
    "PR.PersistTable(df)"
   ]
  },
  {
   "cell_type": "code",
   "execution_count": 78,
   "id": "ca08701b-2697-480f-8faf-681ce82a9aba",
   "metadata": {},
   "outputs": [
    {
     "data": {
      "text/html": [
       "<div>\n",
       "<style scoped>\n",
       "    .dataframe tbody tr th:only-of-type {\n",
       "        vertical-align: middle;\n",
       "    }\n",
       "\n",
       "    .dataframe tbody tr th {\n",
       "        vertical-align: top;\n",
       "    }\n",
       "\n",
       "    .dataframe thead th {\n",
       "        text-align: right;\n",
       "    }\n",
       "</style>\n",
       "<table border=\"1\" class=\"dataframe\">\n",
       "  <thead>\n",
       "    <tr style=\"text-align: right;\">\n",
       "      <th></th>\n",
       "      <th>Title</th>\n",
       "      <th>Handheld?</th>\n",
       "      <th>Max Players</th>\n",
       "      <th>Multiplatform?</th>\n",
       "      <th>Online?</th>\n",
       "      <th>Genres</th>\n",
       "      <th>Licensed?</th>\n",
       "      <th>Publishers</th>\n",
       "      <th>Sequel</th>\n",
       "      <th>Review Score</th>\n",
       "      <th>Sales</th>\n",
       "      <th>Used Price</th>\n",
       "      <th>Console</th>\n",
       "      <th>Rating</th>\n",
       "      <th>Year</th>\n",
       "      <th>CT_Comp</th>\n",
       "      <th>CT_MainExtra</th>\n",
       "      <th>CT_MainOnly</th>\n",
       "      <th>__annotations</th>\n",
       "    </tr>\n",
       "  </thead>\n",
       "  <tbody>\n",
       "    <tr>\n",
       "      <th>0</th>\n",
       "      <td>Super Mario 64 DS</td>\n",
       "      <td>True</td>\n",
       "      <td>1</td>\n",
       "      <td>True</td>\n",
       "      <td>True</td>\n",
       "      <td>Action</td>\n",
       "      <td>True</td>\n",
       "      <td>Nintendo</td>\n",
       "      <td>True</td>\n",
       "      <td>85</td>\n",
       "      <td>4.69</td>\n",
       "      <td>24.95</td>\n",
       "      <td>Nintendo DS</td>\n",
       "      <td>E</td>\n",
       "      <td>2004</td>\n",
       "      <td>30.0</td>\n",
       "      <td>25.0</td>\n",
       "      <td>14.5</td>\n",
       "      <td>No Annotation</td>\n",
       "    </tr>\n",
       "    <tr>\n",
       "      <th>1</th>\n",
       "      <td>Lumines: Puzzle Fusion</td>\n",
       "      <td>True</td>\n",
       "      <td>1</td>\n",
       "      <td>True</td>\n",
       "      <td>True</td>\n",
       "      <td>Strategy</td>\n",
       "      <td>True</td>\n",
       "      <td>Ubisoft</td>\n",
       "      <td>True</td>\n",
       "      <td>89</td>\n",
       "      <td>0.56</td>\n",
       "      <td>14.95</td>\n",
       "      <td>Sony PSP</td>\n",
       "      <td>E</td>\n",
       "      <td>2004</td>\n",
       "      <td>-100.0</td>\n",
       "      <td>9.75</td>\n",
       "      <td>10.0</td>\n",
       "      <td>No Annotation</td>\n",
       "    </tr>\n",
       "    <tr>\n",
       "      <th>2</th>\n",
       "      <td>WarioWare Touched!</td>\n",
       "      <td>True</td>\n",
       "      <td>2</td>\n",
       "      <td>True</td>\n",
       "      <td>True</td>\n",
       "      <td>Action</td>\n",
       "      <td>True</td>\n",
       "      <td>Nintendo</td>\n",
       "      <td>True</td>\n",
       "      <td>81</td>\n",
       "      <td>0.54</td>\n",
       "      <td>22.95</td>\n",
       "      <td>Nintendo DS</td>\n",
       "      <td>E</td>\n",
       "      <td>2004</td>\n",
       "      <td>7.25</td>\n",
       "      <td>3.33</td>\n",
       "      <td>1.83</td>\n",
       "      <td>No Annotation</td>\n",
       "    </tr>\n",
       "    <tr>\n",
       "      <th>3</th>\n",
       "      <td>Hot Shots Golf: Open Tee</td>\n",
       "      <td>True</td>\n",
       "      <td>1</td>\n",
       "      <td>True</td>\n",
       "      <td>True</td>\n",
       "      <td>Sports</td>\n",
       "      <td>True</td>\n",
       "      <td>Sony</td>\n",
       "      <td>True</td>\n",
       "      <td>81</td>\n",
       "      <td>0.49</td>\n",
       "      <td>12.95</td>\n",
       "      <td>Sony PSP</td>\n",
       "      <td>E</td>\n",
       "      <td>2004</td>\n",
       "      <td>-100.0</td>\n",
       "      <td>-100.0</td>\n",
       "      <td>-100.0</td>\n",
       "      <td>No Annotation</td>\n",
       "    </tr>\n",
       "    <tr>\n",
       "      <th>4</th>\n",
       "      <td>Spider-Man 2</td>\n",
       "      <td>True</td>\n",
       "      <td>1</td>\n",
       "      <td>True</td>\n",
       "      <td>True</td>\n",
       "      <td>Action</td>\n",
       "      <td>True</td>\n",
       "      <td>Activision</td>\n",
       "      <td>True</td>\n",
       "      <td>61</td>\n",
       "      <td>0.45</td>\n",
       "      <td>14.95</td>\n",
       "      <td>Nintendo DS</td>\n",
       "      <td>E</td>\n",
       "      <td>2004</td>\n",
       "      <td>72.57</td>\n",
       "      <td>12.5</td>\n",
       "      <td>8.0</td>\n",
       "      <td>No Annotation</td>\n",
       "    </tr>\n",
       "  </tbody>\n",
       "</table>\n",
       "</div>"
      ],
      "text/plain": [
       "                      Title  Handheld? Max Players  Multiplatform?  Online?  \\\n",
       "0         Super Mario 64 DS       True           1            True     True   \n",
       "1    Lumines: Puzzle Fusion       True           1            True     True   \n",
       "2        WarioWare Touched!       True           2            True     True   \n",
       "3  Hot Shots Golf: Open Tee       True           1            True     True   \n",
       "4              Spider-Man 2       True           1            True     True   \n",
       "\n",
       "     Genres  Licensed?  Publishers  Sequel  Review Score  Sales  Used Price  \\\n",
       "0    Action       True    Nintendo    True            85   4.69       24.95   \n",
       "1  Strategy       True     Ubisoft    True            89   0.56       14.95   \n",
       "2    Action       True    Nintendo    True            81   0.54       22.95   \n",
       "3    Sports       True        Sony    True            81   0.49       12.95   \n",
       "4    Action       True  Activision    True            61   0.45       14.95   \n",
       "\n",
       "       Console Rating  Year  CT_Comp  CT_MainExtra  CT_MainOnly  __annotations  \n",
       "0  Nintendo DS      E  2004     30.0          25.0         14.5  No Annotation  \n",
       "1     Sony PSP      E  2004   -100.0          9.75         10.0  No Annotation  \n",
       "2  Nintendo DS      E  2004     7.25          3.33         1.83  No Annotation  \n",
       "3     Sony PSP      E  2004   -100.0        -100.0       -100.0  No Annotation  \n",
       "4  Nintendo DS      E  2004    72.57          12.5          8.0  No Annotation  "
      ]
     },
     "execution_count": 78,
     "metadata": {},
     "output_type": "execute_result"
    }
   ],
   "source": [
    "df_task_1a.head()"
   ]
  },
  {
   "cell_type": "markdown",
   "id": "563eb8ea-66c6-4c03-9c4c-54ea2eb717e1",
   "metadata": {
    "__GENERATED_DATAFRAMES__": "{\"nodeDataframes\":{},\"graphDataframes\":null}",
    "show_aggregate_original": "false",
    "trrack_graph": "ᯡ࠽䈌ʀ匦㢠⹰ˣĸѐᦻϐրୣF☡䲩※ਡᱤĀၑ䀦ᆺⵕ暕ᣀɒ㉪2攩кᙼ䉅擊桖㎉淢域ᑡᅀ†浑ӦẰӁĠװ搬W౐ި₏湝〡㜶ᥠ¼湨N䣸持㉧ㄺ奣ᢖᡈ\\䰩ຣ⟆惂䧹夔琴Ī࣠ஃϔ憨䅐悰㫛㢤᭑Դ㈵堣ⳋᣡ㺨摠៨摖棄拑氰己ၘ⭬ǎ怩瀠㧎㸜ヌ㻍䑘己洉䓖₢◄㒜♶ᑚਨ䛤撁∴惘⡰ᑂཊ怰⾚ጥ΀䲌ᇩ复劄䘪䧌挴⊂̥㘯١䄁碂಩⍰瑦֡憐㱞lከ䤠ᗸᔩ亾ⲷࡰ৪ㅍ⍆㓺ᕟ⌹  "
   },
   "source": [
    "#### Pandas"
   ]
  },
  {
   "cell_type": "markdown",
   "id": "ef4a5a56-a415-44d4-9be4-4c4e22f68502",
   "metadata": {},
   "source": [
    "#### **Instructions**\n",
    "1. **Column Removal:**\n",
    "\t- Remove the specified columns using Pandas commands.\n",
    "2. **Generate dataframe:**\n",
    "\t- Assign the modified dataframe to variable `df_task_1a`\n",
    "3. **Show Output:**\n",
    "\t- Print the head of `df_task_1a` to show the changes."
   ]
  },
  {
   "cell_type": "code",
   "execution_count": 48,
   "id": "4b15449b-4ead-4e30-b779-dd88a7169454",
   "metadata": {},
   "outputs": [
    {
     "data": {
      "text/html": [
       "<div>\n",
       "<style scoped>\n",
       "    .dataframe tbody tr th:only-of-type {\n",
       "        vertical-align: middle;\n",
       "    }\n",
       "\n",
       "    .dataframe tbody tr th {\n",
       "        vertical-align: top;\n",
       "    }\n",
       "\n",
       "    .dataframe thead th {\n",
       "        text-align: right;\n",
       "    }\n",
       "</style>\n",
       "<table border=\"1\" class=\"dataframe\">\n",
       "  <thead>\n",
       "    <tr style=\"text-align: right;\">\n",
       "      <th></th>\n",
       "      <th>Title</th>\n",
       "      <th>Handheld?</th>\n",
       "      <th>Max Players</th>\n",
       "      <th>Multiplatform?</th>\n",
       "      <th>Online?</th>\n",
       "      <th>Genres</th>\n",
       "      <th>Licensed?</th>\n",
       "      <th>Publishers</th>\n",
       "      <th>Sequel</th>\n",
       "      <th>Review Score</th>\n",
       "      <th>Sales</th>\n",
       "      <th>Used Price</th>\n",
       "      <th>Console</th>\n",
       "      <th>Rating</th>\n",
       "      <th>Re-release?</th>\n",
       "      <th>Year</th>\n",
       "      <th>CT_All</th>\n",
       "      <th>CT_Comp</th>\n",
       "      <th>CT_MainExtra</th>\n",
       "      <th>CT_MainOnly</th>\n",
       "    </tr>\n",
       "  </thead>\n",
       "  <tbody>\n",
       "    <tr>\n",
       "      <th>0</th>\n",
       "      <td>Super Mario 64 DS</td>\n",
       "      <td>True</td>\n",
       "      <td>1</td>\n",
       "      <td>True</td>\n",
       "      <td>True</td>\n",
       "      <td>Action</td>\n",
       "      <td>True</td>\n",
       "      <td>Nintendo</td>\n",
       "      <td>True</td>\n",
       "      <td>85</td>\n",
       "      <td>4.69</td>\n",
       "      <td>24.95</td>\n",
       "      <td>Nintendo DS</td>\n",
       "      <td>E</td>\n",
       "      <td>True</td>\n",
       "      <td>2004</td>\n",
       "      <td>24.48</td>\n",
       "      <td>30.00</td>\n",
       "      <td>25.00</td>\n",
       "      <td>14.50</td>\n",
       "    </tr>\n",
       "    <tr>\n",
       "      <th>1</th>\n",
       "      <td>Lumines: Puzzle Fusion</td>\n",
       "      <td>True</td>\n",
       "      <td>1</td>\n",
       "      <td>True</td>\n",
       "      <td>True</td>\n",
       "      <td>Strategy</td>\n",
       "      <td>True</td>\n",
       "      <td>Ubisoft</td>\n",
       "      <td>True</td>\n",
       "      <td>89</td>\n",
       "      <td>0.56</td>\n",
       "      <td>14.95</td>\n",
       "      <td>Sony PSP</td>\n",
       "      <td>E</td>\n",
       "      <td>True</td>\n",
       "      <td>2004</td>\n",
       "      <td>10.00</td>\n",
       "      <td>-1.00</td>\n",
       "      <td>9.75</td>\n",
       "      <td>10.00</td>\n",
       "    </tr>\n",
       "    <tr>\n",
       "      <th>2</th>\n",
       "      <td>WarioWare Touched!</td>\n",
       "      <td>True</td>\n",
       "      <td>2</td>\n",
       "      <td>True</td>\n",
       "      <td>True</td>\n",
       "      <td>Action,Racing / Driving,Sports</td>\n",
       "      <td>True</td>\n",
       "      <td>Nintendo</td>\n",
       "      <td>True</td>\n",
       "      <td>81</td>\n",
       "      <td>0.54</td>\n",
       "      <td>22.95</td>\n",
       "      <td>Nintendo DS</td>\n",
       "      <td>E</td>\n",
       "      <td>True</td>\n",
       "      <td>2004</td>\n",
       "      <td>2.50</td>\n",
       "      <td>7.25</td>\n",
       "      <td>3.33</td>\n",
       "      <td>1.83</td>\n",
       "    </tr>\n",
       "    <tr>\n",
       "      <th>3</th>\n",
       "      <td>Hot Shots Golf: Open Tee</td>\n",
       "      <td>True</td>\n",
       "      <td>1</td>\n",
       "      <td>True</td>\n",
       "      <td>True</td>\n",
       "      <td>Sports</td>\n",
       "      <td>True</td>\n",
       "      <td>Sony</td>\n",
       "      <td>True</td>\n",
       "      <td>81</td>\n",
       "      <td>0.49</td>\n",
       "      <td>12.95</td>\n",
       "      <td>Sony PSP</td>\n",
       "      <td>E</td>\n",
       "      <td>True</td>\n",
       "      <td>2004</td>\n",
       "      <td>-1.00</td>\n",
       "      <td>-1.00</td>\n",
       "      <td>-1.00</td>\n",
       "      <td>-1.00</td>\n",
       "    </tr>\n",
       "    <tr>\n",
       "      <th>4</th>\n",
       "      <td>Spider-Man 2</td>\n",
       "      <td>True</td>\n",
       "      <td>1</td>\n",
       "      <td>True</td>\n",
       "      <td>True</td>\n",
       "      <td>Action</td>\n",
       "      <td>True</td>\n",
       "      <td>Activision</td>\n",
       "      <td>True</td>\n",
       "      <td>61</td>\n",
       "      <td>0.45</td>\n",
       "      <td>14.95</td>\n",
       "      <td>Nintendo DS</td>\n",
       "      <td>E</td>\n",
       "      <td>True</td>\n",
       "      <td>2004</td>\n",
       "      <td>10.00</td>\n",
       "      <td>72.57</td>\n",
       "      <td>12.50</td>\n",
       "      <td>8.00</td>\n",
       "    </tr>\n",
       "  </tbody>\n",
       "</table>\n",
       "</div>"
      ],
      "text/plain": [
       "                      Title  Handheld?  Max Players  Multiplatform?  Online?  \\\n",
       "0         Super Mario 64 DS       True            1            True     True   \n",
       "1    Lumines: Puzzle Fusion       True            1            True     True   \n",
       "2        WarioWare Touched!       True            2            True     True   \n",
       "3  Hot Shots Golf: Open Tee       True            1            True     True   \n",
       "4              Spider-Man 2       True            1            True     True   \n",
       "\n",
       "                           Genres  Licensed?  Publishers  Sequel  \\\n",
       "0                          Action       True    Nintendo    True   \n",
       "1                        Strategy       True     Ubisoft    True   \n",
       "2  Action,Racing / Driving,Sports       True    Nintendo    True   \n",
       "3                          Sports       True        Sony    True   \n",
       "4                          Action       True  Activision    True   \n",
       "\n",
       "   Review Score  Sales  Used Price      Console Rating  Re-release?  Year  \\\n",
       "0            85   4.69       24.95  Nintendo DS      E         True  2004   \n",
       "1            89   0.56       14.95     Sony PSP      E         True  2004   \n",
       "2            81   0.54       22.95  Nintendo DS      E         True  2004   \n",
       "3            81   0.49       12.95     Sony PSP      E         True  2004   \n",
       "4            61   0.45       14.95  Nintendo DS      E         True  2004   \n",
       "\n",
       "   CT_All  CT_Comp  CT_MainExtra  CT_MainOnly  \n",
       "0   24.48    30.00         25.00        14.50  \n",
       "1   10.00    -1.00          9.75        10.00  \n",
       "2    2.50     7.25          3.33         1.83  \n",
       "3   -1.00    -1.00         -1.00        -1.00  \n",
       "4   10.00    72.57         12.50         8.00  "
      ]
     },
     "execution_count": 48,
     "metadata": {},
     "output_type": "execute_result"
    }
   ],
   "source": [
    "df.head()"
   ]
  },
  {
   "cell_type": "code",
   "execution_count": 49,
   "id": "77dc5ff1-bd9c-44fe-ab9f-454e3341195f",
   "metadata": {},
   "outputs": [
    {
     "ename": "KeyError",
     "evalue": "\"['Comments 1', 'Coordinates'] not found in axis\"",
     "output_type": "error",
     "traceback": [
      "\u001b[0;31m---------------------------------------------------------------------------\u001b[0m",
      "\u001b[0;31mKeyError\u001b[0m                                  Traceback (most recent call last)",
      "Cell \u001b[0;32mIn[49], line 1\u001b[0m\n\u001b[0;32m----> 1\u001b[0m df_task_1a \u001b[38;5;241m=\u001b[39m \u001b[43mdf\u001b[49m\u001b[38;5;241;43m.\u001b[39;49m\u001b[43mdrop\u001b[49m\u001b[43m(\u001b[49m\u001b[43mcolumns\u001b[49m\u001b[38;5;241;43m=\u001b[39;49m\u001b[43m[\u001b[49m\u001b[38;5;124;43m\"\u001b[39;49m\u001b[38;5;124;43mComments 1\u001b[39;49m\u001b[38;5;124;43m\"\u001b[39;49m\u001b[43m,\u001b[49m\u001b[43m \u001b[49m\u001b[38;5;124;43m\"\u001b[39;49m\u001b[38;5;124;43mCoordinates\u001b[39;49m\u001b[38;5;124;43m\"\u001b[39;49m\u001b[43m]\u001b[49m\u001b[43m)\u001b[49m\n\u001b[1;32m      3\u001b[0m df_task_1a\u001b[38;5;241m.\u001b[39mhead()\n",
      "File \u001b[0;32m~/.pyenv/versions/3.8.16/envs/persist-example-env/lib/python3.8/site-packages/pandas/core/frame.py:5258\u001b[0m, in \u001b[0;36mDataFrame.drop\u001b[0;34m(self, labels, axis, index, columns, level, inplace, errors)\u001b[0m\n\u001b[1;32m   5110\u001b[0m \u001b[38;5;28;01mdef\u001b[39;00m \u001b[38;5;21mdrop\u001b[39m(\n\u001b[1;32m   5111\u001b[0m     \u001b[38;5;28mself\u001b[39m,\n\u001b[1;32m   5112\u001b[0m     labels: IndexLabel \u001b[38;5;241m=\u001b[39m \u001b[38;5;28;01mNone\u001b[39;00m,\n\u001b[0;32m   (...)\u001b[0m\n\u001b[1;32m   5119\u001b[0m     errors: IgnoreRaise \u001b[38;5;241m=\u001b[39m \u001b[38;5;124m\"\u001b[39m\u001b[38;5;124mraise\u001b[39m\u001b[38;5;124m\"\u001b[39m,\n\u001b[1;32m   5120\u001b[0m ) \u001b[38;5;241m-\u001b[39m\u001b[38;5;241m>\u001b[39m DataFrame \u001b[38;5;241m|\u001b[39m \u001b[38;5;28;01mNone\u001b[39;00m:\n\u001b[1;32m   5121\u001b[0m \u001b[38;5;250m    \u001b[39m\u001b[38;5;124;03m\"\"\"\u001b[39;00m\n\u001b[1;32m   5122\u001b[0m \u001b[38;5;124;03m    Drop specified labels from rows or columns.\u001b[39;00m\n\u001b[1;32m   5123\u001b[0m \n\u001b[0;32m   (...)\u001b[0m\n\u001b[1;32m   5256\u001b[0m \u001b[38;5;124;03m            weight  1.0     0.8\u001b[39;00m\n\u001b[1;32m   5257\u001b[0m \u001b[38;5;124;03m    \"\"\"\u001b[39;00m\n\u001b[0;32m-> 5258\u001b[0m     \u001b[38;5;28;01mreturn\u001b[39;00m \u001b[38;5;28;43msuper\u001b[39;49m\u001b[43m(\u001b[49m\u001b[43m)\u001b[49m\u001b[38;5;241;43m.\u001b[39;49m\u001b[43mdrop\u001b[49m\u001b[43m(\u001b[49m\n\u001b[1;32m   5259\u001b[0m \u001b[43m        \u001b[49m\u001b[43mlabels\u001b[49m\u001b[38;5;241;43m=\u001b[39;49m\u001b[43mlabels\u001b[49m\u001b[43m,\u001b[49m\n\u001b[1;32m   5260\u001b[0m \u001b[43m        \u001b[49m\u001b[43maxis\u001b[49m\u001b[38;5;241;43m=\u001b[39;49m\u001b[43maxis\u001b[49m\u001b[43m,\u001b[49m\n\u001b[1;32m   5261\u001b[0m \u001b[43m        \u001b[49m\u001b[43mindex\u001b[49m\u001b[38;5;241;43m=\u001b[39;49m\u001b[43mindex\u001b[49m\u001b[43m,\u001b[49m\n\u001b[1;32m   5262\u001b[0m \u001b[43m        \u001b[49m\u001b[43mcolumns\u001b[49m\u001b[38;5;241;43m=\u001b[39;49m\u001b[43mcolumns\u001b[49m\u001b[43m,\u001b[49m\n\u001b[1;32m   5263\u001b[0m \u001b[43m        \u001b[49m\u001b[43mlevel\u001b[49m\u001b[38;5;241;43m=\u001b[39;49m\u001b[43mlevel\u001b[49m\u001b[43m,\u001b[49m\n\u001b[1;32m   5264\u001b[0m \u001b[43m        \u001b[49m\u001b[43minplace\u001b[49m\u001b[38;5;241;43m=\u001b[39;49m\u001b[43minplace\u001b[49m\u001b[43m,\u001b[49m\n\u001b[1;32m   5265\u001b[0m \u001b[43m        \u001b[49m\u001b[43merrors\u001b[49m\u001b[38;5;241;43m=\u001b[39;49m\u001b[43merrors\u001b[49m\u001b[43m,\u001b[49m\n\u001b[1;32m   5266\u001b[0m \u001b[43m    \u001b[49m\u001b[43m)\u001b[49m\n",
      "File \u001b[0;32m~/.pyenv/versions/3.8.16/envs/persist-example-env/lib/python3.8/site-packages/pandas/core/generic.py:4549\u001b[0m, in \u001b[0;36mNDFrame.drop\u001b[0;34m(self, labels, axis, index, columns, level, inplace, errors)\u001b[0m\n\u001b[1;32m   4547\u001b[0m \u001b[38;5;28;01mfor\u001b[39;00m axis, labels \u001b[38;5;129;01min\u001b[39;00m axes\u001b[38;5;241m.\u001b[39mitems():\n\u001b[1;32m   4548\u001b[0m     \u001b[38;5;28;01mif\u001b[39;00m labels \u001b[38;5;129;01mis\u001b[39;00m \u001b[38;5;129;01mnot\u001b[39;00m \u001b[38;5;28;01mNone\u001b[39;00m:\n\u001b[0;32m-> 4549\u001b[0m         obj \u001b[38;5;241m=\u001b[39m \u001b[43mobj\u001b[49m\u001b[38;5;241;43m.\u001b[39;49m\u001b[43m_drop_axis\u001b[49m\u001b[43m(\u001b[49m\u001b[43mlabels\u001b[49m\u001b[43m,\u001b[49m\u001b[43m \u001b[49m\u001b[43maxis\u001b[49m\u001b[43m,\u001b[49m\u001b[43m \u001b[49m\u001b[43mlevel\u001b[49m\u001b[38;5;241;43m=\u001b[39;49m\u001b[43mlevel\u001b[49m\u001b[43m,\u001b[49m\u001b[43m \u001b[49m\u001b[43merrors\u001b[49m\u001b[38;5;241;43m=\u001b[39;49m\u001b[43merrors\u001b[49m\u001b[43m)\u001b[49m\n\u001b[1;32m   4551\u001b[0m \u001b[38;5;28;01mif\u001b[39;00m inplace:\n\u001b[1;32m   4552\u001b[0m     \u001b[38;5;28mself\u001b[39m\u001b[38;5;241m.\u001b[39m_update_inplace(obj)\n",
      "File \u001b[0;32m~/.pyenv/versions/3.8.16/envs/persist-example-env/lib/python3.8/site-packages/pandas/core/generic.py:4591\u001b[0m, in \u001b[0;36mNDFrame._drop_axis\u001b[0;34m(self, labels, axis, level, errors, only_slice)\u001b[0m\n\u001b[1;32m   4589\u001b[0m         new_axis \u001b[38;5;241m=\u001b[39m axis\u001b[38;5;241m.\u001b[39mdrop(labels, level\u001b[38;5;241m=\u001b[39mlevel, errors\u001b[38;5;241m=\u001b[39merrors)\n\u001b[1;32m   4590\u001b[0m     \u001b[38;5;28;01melse\u001b[39;00m:\n\u001b[0;32m-> 4591\u001b[0m         new_axis \u001b[38;5;241m=\u001b[39m \u001b[43maxis\u001b[49m\u001b[38;5;241;43m.\u001b[39;49m\u001b[43mdrop\u001b[49m\u001b[43m(\u001b[49m\u001b[43mlabels\u001b[49m\u001b[43m,\u001b[49m\u001b[43m \u001b[49m\u001b[43merrors\u001b[49m\u001b[38;5;241;43m=\u001b[39;49m\u001b[43merrors\u001b[49m\u001b[43m)\u001b[49m\n\u001b[1;32m   4592\u001b[0m     indexer \u001b[38;5;241m=\u001b[39m axis\u001b[38;5;241m.\u001b[39mget_indexer(new_axis)\n\u001b[1;32m   4594\u001b[0m \u001b[38;5;66;03m# Case for non-unique axis\u001b[39;00m\n\u001b[1;32m   4595\u001b[0m \u001b[38;5;28;01melse\u001b[39;00m:\n",
      "File \u001b[0;32m~/.pyenv/versions/3.8.16/envs/persist-example-env/lib/python3.8/site-packages/pandas/core/indexes/base.py:6699\u001b[0m, in \u001b[0;36mIndex.drop\u001b[0;34m(self, labels, errors)\u001b[0m\n\u001b[1;32m   6697\u001b[0m \u001b[38;5;28;01mif\u001b[39;00m mask\u001b[38;5;241m.\u001b[39many():\n\u001b[1;32m   6698\u001b[0m     \u001b[38;5;28;01mif\u001b[39;00m errors \u001b[38;5;241m!=\u001b[39m \u001b[38;5;124m\"\u001b[39m\u001b[38;5;124mignore\u001b[39m\u001b[38;5;124m\"\u001b[39m:\n\u001b[0;32m-> 6699\u001b[0m         \u001b[38;5;28;01mraise\u001b[39;00m \u001b[38;5;167;01mKeyError\u001b[39;00m(\u001b[38;5;124mf\u001b[39m\u001b[38;5;124m\"\u001b[39m\u001b[38;5;132;01m{\u001b[39;00m\u001b[38;5;28mlist\u001b[39m(labels[mask])\u001b[38;5;132;01m}\u001b[39;00m\u001b[38;5;124m not found in axis\u001b[39m\u001b[38;5;124m\"\u001b[39m)\n\u001b[1;32m   6700\u001b[0m     indexer \u001b[38;5;241m=\u001b[39m indexer[\u001b[38;5;241m~\u001b[39mmask]\n\u001b[1;32m   6701\u001b[0m \u001b[38;5;28;01mreturn\u001b[39;00m \u001b[38;5;28mself\u001b[39m\u001b[38;5;241m.\u001b[39mdelete(indexer)\n",
      "\u001b[0;31mKeyError\u001b[0m: \"['Comments 1', 'Coordinates'] not found in axis\""
     ]
    }
   ],
   "source": [
    "df_task_1a = df.drop(columns=[\"Comments 1\", \"Coordinates\"])\n",
    "\n",
    "df_task_1a.head()"
   ]
  },
  {
   "cell_type": "markdown",
   "id": "36c62d50-9c88-4ed9-8c97-e552a6e4c620",
   "metadata": {},
   "source": [
    "### **Task 1b: Fix Column Names**"
   ]
  },
  {
   "cell_type": "markdown",
   "id": "ab8f8f24-afd2-424f-ab34-3e3cde723aa3",
   "metadata": {
    "trrack_graph": "ᯡ࠽䈌ʀ匦㢠⹰ࢀㆪこ<ǐʀ୥崡汤Ɓ䔠⍂⠨撂䂼ì债晶堪慯掩ᐠ▴ሰ璹㤨䮲减ⓥ䢧᜾㺣䉠ð䀡壅冨㕀ॢȠ௞䠸ᢀ眰䅽忖䀢晐樠Ԃ牠ΈƔڦ❓ሠƠ暬ॡ声Ȅ恨䙜⬮ಬ俨⫣䞐డ㙐᬴⣔䰲ճ㌰䊆၂۔欠㖹┰᧶༨̘ඛฌ琻ɋ㉄ܠ榡哸Ŝ.ؗ⾬ള勑̵㯺ᱱ曨ဩᒡᾪ३⁂惡৒ј⪖ᩋࢶ䥣䍢ᇃ⢀☾ԣ䖎㑝䳓ⳄⓀ᪱ĦҐ戤׌㝔䆦成扉ڠ凈㨣ೣㅘ湏Bࡤ䒠ଈତޗ٩䟨㣜㥨◈ᩲ㭡⟢䀠 "
   },
   "source": [
    "#### **Objective**\n",
    "For this subtask, we will focus on fixing column names to ensure consistency and clarity. We'll start by identifying the issues with the column names, specifically targeting those with a `;` prefix that needs removal."
   ]
  },
  {
   "cell_type": "markdown",
   "id": "eedcbe71-9d1d-4e28-a869-cb07b33f8074",
   "metadata": {},
   "source": [
    "#### Persist"
   ]
  },
  {
   "cell_type": "markdown",
   "id": "63f4d5c5-9383-4857-beae-0cfa6ba466f2",
   "metadata": {},
   "source": [
    "#### **Instructions**\n",
    "1. **Rename Columns:**\n",
    "    - Use the interactive  table in Persist to correct the column names by removing the leading `;` from their names:\n",
    "        - _;Aspect_ → _Aspect_\n",
    "        - _;Region_ → _Region_\n",
    "        - _;Trigger_ → _Trigger_\n",
    "        - _;Weak Layer_ → _Weak Layer_\n",
    "2. **Generate dataframe:**\n",
    "    - Assign the revised dataframe to the variable `df_task_1b`.\n",
    "3. **Show Output:**\n",
    "    - Display the head of `df_task_1b` to verify the changes."
   ]
  },
  {
   "cell_type": "code",
   "execution_count": 79,
   "id": "e74dd265-2437-40e4-8673-be7ea1d079b3",
   "metadata": {
    "__GENERATED_DATAFRAMES__": "ᯡࠣ䅬Ԁ朤壠ᜣ琢〹夢゠⹰〮⁁䁻қ䚾ኊ㇠നСࠩ瀮晼Ƭ穅5愠៩䍒⊂ᠡ囨ĸ¬砫傷ᓁᕖ→午Ė͈煲⠠灧䨀ೠïᱠᚾ㔽玠ᙴྪ丢㦩䑜缠᭗䑝ġ瀥ウⱠ䱜䅈ᐤΥǠ㕠䍂䵉兖Ⱘ⩖㩉怮抪慘㵊繮猬ඳ兯椳杢態旃儩暔琰ㄮ憣怣㕠秘ဨῙ䞼椷㊑嬳䷊ẫ惥ޤ೎戈潋㨛旰㜆绤᭄ኧ䪼①冨曬猰ᄙ῔㳝͸⁸㥼凋䬆᫼愓撋㨷坉沖㱃㙃䫗㷢䎺剼㤹Ȁఠව䩠爚ᱹĠƤ䒲⎠˫ࢀત ▨๊ 塡Ӵ/擃妼住䤠䔏㌳焣搰ㄦ摘₀粣拣櫕㮡嚩ᑮ㑧㚩ヺ滧䐐ㄯ㙍ᓇ燔楜䳗䡔煔䲇ᨘ࠾䰲ृᠰ䦛倦ᐴ䐵显城ȕ紡椼Ⲷ晀ᘱ∃ࢫ⇂倥嘾ㄽՠ᪪㨽ʓࡁයᘤ䌅㖾捕ㅀՏࡅᶄ纾滄洬卅䠣摘䉼Ǡ䆣ၗ㯿皃ا楥䉀獂䶐䂼硯⍷⇪彂䈴⧬❐Ạ礗ⰶມԗ欅ݹ搻㩽宭㜻ᝫအ䬐椸ᣈᵞ㰷磃డ㩬⬳䎐㸷π戰䫞२  ",
    "__has_persist_output": true,
    "trrack_graph": "ᯡ࠽䈌ʀ匦㢠⹰ǣĸِᦠڔѐ୮䩽䐢抢䁦∤瀰㌦Ǔⶀ᦬ਥ㋖䒴E䨲ࡔⲙѩ䩶又泭䏗ἡᡀ†氨棥漰ӁĠ׻␬W౐⮨⃮⽼怡㘻唠ৡ椠ෂӥ瀡ᢉ璼䱶ᄡ䚠໤␁焰棣ⰴ∴⸴ਡᯮ䃀Ⴣ㈈†崽⺽䣩ண哧砰Ⲁ倠祐ቚᖾ䟻䟀༓〲⡚{థ䂨∠⌤䍬ⶤၽ䑠啨ڼ怭㜸ጘ皢ᔠ弽Ȓ玹䆀䝼淡᝕䡀ଠ➠ǩ爱熤意幀慃䶅堨捓橇ࢀ稪ড⇘就ඡᓢ撬ዡ偈ᡏѥ恈ᑞ♧凰乖ʦ壾俘䓱䁺䴩惬㗢䣔⬷䒲ᒶ⺴旒峞⡶ᕪ犤ᙆ㥢ࢴ⌳䒈䓒⯥◙Ⲯ➰ᒪኹⶇ椬火䄀ᅆ!ጡ̈w㣬T2禴Б砠縣⋡ͻ㜛Ᵽ勵䄇ῦЊ〠ὸ歔⸎ឧ搕ɀᐥր梹ħীࣸ㨹၀ከ扠䖨窼ɱኣめ㉂䓈甏ǡ抐␸฿ق䤄㉡₁ᡌ㴽䃁㡜㼰⒋ᫍݭ㈉窣ԅظ⠳ᓦ㚛暫୥㍸㙚㛢ϸ๧ᷬ玺粷㗶獼䂐⢦\"䕘湆Ε䳀ࡑ揅᫠ࠑ柘㴉姅ᘒ噌伨ጤ䅈¡潘䠑潞䓡ᩅㆈṘ䀡瑟倫᩿࿰ۡ䓷᩽ഁƀ㟱䂰㦡䅀ဗ䇮Ĭ䉚ᐵⅰ喧℔ហⒼᄱ䂁ŀ狃ᄱ‴ᴤ⊼អ㇘ᜠ২卑Ø␥Ȃ£擶ಬ∈㊀âⱂ栠夢ا⣐⪉ṰΊ弯ℋ䑣ញ౑ê㙯ఓ繠⤀䰸ৣ䑩ø撆潂梖況㭵߸㐩ᵲ檐⺡睸漺ᎄ檻厂䖹判䮸䡎ࡸኂ橸࢒手䒐傻ੈ嚸㍘厹玄呸䭒槈ౚ䴂ᴟ⢈䎌ႋ哳⯃ᙂᆂ㠨ః䙇⌉᪶囷琮嗷䚋ช歅ᐸ᫐棰⍟3嘰䦳株Ϻᆔ੸㤸²儾ᖡࡶٱ䩼ූپആ㙊栊殑⋩▖❈ᔬ䓉祵⡈㕡歫ݮ䷲窞䱪灐䱆塹浒晥榃᝵䔙㙽俒ທ源ཱྀ֒澃澓佋掙澇䜙溇欚ώ揂㽶丘㹿拰½ḪɜḤ悑䄣沙ᜦᓝ⋅哐ে帤ᚇೠ彯ᱹᨊ䣖ㅦ⛵ᨻ㧍Ⴇ᫶屃嫮巴䲺㟇䒙㡔媅㩖┉ၥई᫬Ⲓሢ⣱㍧嘇ຢ榌ණ㚲š䊚ಱ㎂՛做௠⡦ᘲઔ⦣䨳䶄繟䀩īइᴇଇ⑆杂孏ᓂ㮎毻呡ߘ檛ษ䉝挰緵嫣园岳㛽寤塣彣໳宣仹䤩䖅塿ற䩼県䅼ໃ塒氚統⪽⭴̓◬൮䯁ĸ௶崩畝䜛Ј䁩妧☐渃曵戣ِ䛲怼₰硴Ⅲྷな䥔䔲繮ز㸔ࡄ⭑㶗㋘段ፔ䴶ଌ悴䪢晷匒攚㩢᳟⹘̨傝庡䉈ᯮ⠠䍅䅼ᢁ屻䂭䓿㤯സ憹狠ᙕ簼㔠㲂㱏䡣✤䴾Ჹ⥓䈞㕑:ᘢ⥏䋫棭䳤䐴䉸㦬ū㘱獙〺䖄ᩚ抄竱䉥壺䶢੫ᝑ烙猠樂䉶戠㉞䣔ࡹᢁ嫐磓ᭊᗁ嵅砱ঠЦझ䢠㢫ࢆ✢䂌䇀毧ࢧ⽈ᤡჄᜠ⒨㫹㢐㥇ᆒ竧໒˸吩ᱛՠ笺䐖㊫梀剠氧屛柝墤抯嗻⅖Ⅰؑ㊋痞ᨯ㻜ý⊻㱫ᙄྡྷⒿቯᾌӞᯣ㺗愜ϻ⥬Φ䟔堺!䬨㐳XΈᨌ槍ᄀᵔⷦ䆹檴榓㬔䘥兜⯃⳴䳼此䁫䬰㮾橷ྑᴤ䍚杄ǿ⩘罢㢪ދҬޣˤ䎅䚦粋ڻ伬㮣ㄗ̀冱熀晖幜ෘȴ♤ᡭࣴ秨㨃Ⴕճ㰱厚࿶☴晌欤⛽䲦⮤㓌奈傩⢦ল㥁؂᥃勧䉺ⷅ窊夈洶㡌⸉㚨ᙨ傌偣⍁⊫㒅妜ἱ䀴ǀ㉣dE矹ᄟ䵃挪İ᬴灵劖ォ悹๹䇶㓼㻪⏇䓧㞬㙿ഒ䔨৞ⰳ繣Ტ孙ဥɒ㌗᡺斮奱犩惊㹵ᱢ⁊ᩉ匘㐖㠸䯨㢸㹮梲查ዪⵆぅ⚄䐑᱀  "
   },
   "outputs": [
    {
     "data": {
      "application/vnd.jupyter.widget-view+json": {
       "model_id": "aed5b9dd2b2344798c8836f39df9e156",
       "version_major": 2,
       "version_minor": 0
      },
      "text/plain": [
       "PersistWidget(data_values=[{'__id_column': '1', 'Title': 'Super Mario 64 DS', 'Handheld?': True, 'Max Players'…"
      ]
     },
     "execution_count": 79,
     "metadata": {},
     "output_type": "execute_result"
    }
   ],
   "source": [
    "PR.PersistTable(df_task_1a)"
   ]
  },
  {
   "cell_type": "code",
   "execution_count": 67,
   "id": "6f43121e-7493-4db0-a00f-3cef59136676",
   "metadata": {},
   "outputs": [
    {
     "data": {
      "text/html": [
       "<div>\n",
       "<style scoped>\n",
       "    .dataframe tbody tr th:only-of-type {\n",
       "        vertical-align: middle;\n",
       "    }\n",
       "\n",
       "    .dataframe tbody tr th {\n",
       "        vertical-align: top;\n",
       "    }\n",
       "\n",
       "    .dataframe thead th {\n",
       "        text-align: right;\n",
       "    }\n",
       "</style>\n",
       "<table border=\"1\" class=\"dataframe\">\n",
       "  <thead>\n",
       "    <tr style=\"text-align: right;\">\n",
       "      <th></th>\n",
       "      <th>Title</th>\n",
       "      <th>Handheld</th>\n",
       "      <th>Max Players</th>\n",
       "      <th>Multiplatform</th>\n",
       "      <th>Online</th>\n",
       "      <th>Genres</th>\n",
       "      <th>Licensed</th>\n",
       "      <th>Publishers</th>\n",
       "      <th>Sequel</th>\n",
       "      <th>Review Score</th>\n",
       "      <th>Sales</th>\n",
       "      <th>Used Price</th>\n",
       "      <th>Console</th>\n",
       "      <th>Rating</th>\n",
       "      <th>Year</th>\n",
       "      <th>CT_Comp</th>\n",
       "      <th>CT_MainExtra</th>\n",
       "      <th>CT_MainOnly</th>\n",
       "      <th>__annotations</th>\n",
       "    </tr>\n",
       "  </thead>\n",
       "  <tbody>\n",
       "    <tr>\n",
       "      <th>0</th>\n",
       "      <td>Super Mario 64 DS</td>\n",
       "      <td>True</td>\n",
       "      <td>1</td>\n",
       "      <td>True</td>\n",
       "      <td>True</td>\n",
       "      <td>Action</td>\n",
       "      <td>True</td>\n",
       "      <td>Nintendo</td>\n",
       "      <td>True</td>\n",
       "      <td>85</td>\n",
       "      <td>4.69</td>\n",
       "      <td>24.95</td>\n",
       "      <td>Nintendo DS</td>\n",
       "      <td>E</td>\n",
       "      <td>2004</td>\n",
       "      <td>30.0</td>\n",
       "      <td>25.0</td>\n",
       "      <td>14.5</td>\n",
       "      <td>No Annotation</td>\n",
       "    </tr>\n",
       "    <tr>\n",
       "      <th>1</th>\n",
       "      <td>Lumines: Puzzle Fusion</td>\n",
       "      <td>True</td>\n",
       "      <td>1</td>\n",
       "      <td>True</td>\n",
       "      <td>True</td>\n",
       "      <td>Strategy</td>\n",
       "      <td>True</td>\n",
       "      <td>Ubisoft</td>\n",
       "      <td>True</td>\n",
       "      <td>89</td>\n",
       "      <td>0.56</td>\n",
       "      <td>14.95</td>\n",
       "      <td>Sony PSP</td>\n",
       "      <td>E</td>\n",
       "      <td>2004</td>\n",
       "      <td>-1.0</td>\n",
       "      <td>9.75</td>\n",
       "      <td>10.0</td>\n",
       "      <td>No Annotation</td>\n",
       "    </tr>\n",
       "    <tr>\n",
       "      <th>2</th>\n",
       "      <td>WarioWare Touched!</td>\n",
       "      <td>True</td>\n",
       "      <td>2</td>\n",
       "      <td>True</td>\n",
       "      <td>True</td>\n",
       "      <td>Action</td>\n",
       "      <td>True</td>\n",
       "      <td>Nintendo</td>\n",
       "      <td>True</td>\n",
       "      <td>81</td>\n",
       "      <td>0.54</td>\n",
       "      <td>22.95</td>\n",
       "      <td>Nintendo DS</td>\n",
       "      <td>E</td>\n",
       "      <td>2004</td>\n",
       "      <td>7.25</td>\n",
       "      <td>3.33</td>\n",
       "      <td>1.83</td>\n",
       "      <td>No Annotation</td>\n",
       "    </tr>\n",
       "    <tr>\n",
       "      <th>3</th>\n",
       "      <td>Hot Shots Golf: Open Tee</td>\n",
       "      <td>True</td>\n",
       "      <td>1</td>\n",
       "      <td>True</td>\n",
       "      <td>True</td>\n",
       "      <td>Sports</td>\n",
       "      <td>True</td>\n",
       "      <td>Sony</td>\n",
       "      <td>True</td>\n",
       "      <td>81</td>\n",
       "      <td>0.49</td>\n",
       "      <td>12.95</td>\n",
       "      <td>Sony PSP</td>\n",
       "      <td>E</td>\n",
       "      <td>2004</td>\n",
       "      <td>-1.0</td>\n",
       "      <td>-1.0</td>\n",
       "      <td>-1.0</td>\n",
       "      <td>No Annotation</td>\n",
       "    </tr>\n",
       "    <tr>\n",
       "      <th>4</th>\n",
       "      <td>Spider-Man 2</td>\n",
       "      <td>True</td>\n",
       "      <td>1</td>\n",
       "      <td>True</td>\n",
       "      <td>True</td>\n",
       "      <td>Action</td>\n",
       "      <td>True</td>\n",
       "      <td>Activision</td>\n",
       "      <td>True</td>\n",
       "      <td>61</td>\n",
       "      <td>0.45</td>\n",
       "      <td>14.95</td>\n",
       "      <td>Nintendo DS</td>\n",
       "      <td>E</td>\n",
       "      <td>2004</td>\n",
       "      <td>72.57</td>\n",
       "      <td>12.5</td>\n",
       "      <td>8.0</td>\n",
       "      <td>No Annotation</td>\n",
       "    </tr>\n",
       "  </tbody>\n",
       "</table>\n",
       "</div>"
      ],
      "text/plain": [
       "                      Title  Handheld Max Players  Multiplatform  Online  \\\n",
       "0         Super Mario 64 DS      True           1           True    True   \n",
       "1    Lumines: Puzzle Fusion      True           1           True    True   \n",
       "2        WarioWare Touched!      True           2           True    True   \n",
       "3  Hot Shots Golf: Open Tee      True           1           True    True   \n",
       "4              Spider-Man 2      True           1           True    True   \n",
       "\n",
       "     Genres  Licensed  Publishers  Sequel  Review Score  Sales  Used Price  \\\n",
       "0    Action      True    Nintendo    True            85   4.69       24.95   \n",
       "1  Strategy      True     Ubisoft    True            89   0.56       14.95   \n",
       "2    Action      True    Nintendo    True            81   0.54       22.95   \n",
       "3    Sports      True        Sony    True            81   0.49       12.95   \n",
       "4    Action      True  Activision    True            61   0.45       14.95   \n",
       "\n",
       "       Console Rating  Year  CT_Comp  CT_MainExtra  CT_MainOnly  __annotations  \n",
       "0  Nintendo DS      E  2004     30.0          25.0         14.5  No Annotation  \n",
       "1     Sony PSP      E  2004     -1.0          9.75         10.0  No Annotation  \n",
       "2  Nintendo DS      E  2004     7.25          3.33         1.83  No Annotation  \n",
       "3     Sony PSP      E  2004     -1.0          -1.0         -1.0  No Annotation  \n",
       "4  Nintendo DS      E  2004    72.57          12.5          8.0  No Annotation  "
      ]
     },
     "execution_count": 67,
     "metadata": {},
     "output_type": "execute_result"
    }
   ],
   "source": [
    "df_task_1b.head()"
   ]
  },
  {
   "cell_type": "markdown",
   "id": "4fffac29-972f-4c76-9351-2c954854e7a4",
   "metadata": {},
   "source": [
    "#### Pandas"
   ]
  },
  {
   "cell_type": "markdown",
   "id": "b7ded8ee-7828-494d-afeb-8f5b5b5595f1",
   "metadata": {
    "__GENERATED_DATAFRAMES__": "{\"nodeDataframes\":{},\"graphDataframes\":null}",
    "show_aggregate_original": "false",
    "trrack_graph": "ᯡ࠽䈌ʀ匦㢠⹰à⬠氤瀹䂃¦¸˰ҁ①าÐɐ໦䓊禳Ӧ攆⩧琫樁拄䨠ዪन㪌糥效桖㖎槻域℁兀†沤挹䠤傡%梄ؠᮬᢛ䑁圌ḀÐ乒䀡ᵼ䠠洠⺱壹溄䅢ᨀ䈩㙐⠠㲸ब佄⍦儂ト桦{్䂼∠⌤䉶汄ၹ䑨凝۠ඊ⡂ڗ䉂Þ⍾捠ೠ䞫づ㕤䄀൐櫻G䀡擑琑䈂㫶ဲ㜧Ꭱ˹ȥᆲ冲椒咃ᨼᐱᒶ䭢䇡Ᏹユ僌䘼ᚦᩐ挬ദ䌜๵䎃ᅄ〴䦈᥃䌰ࡃ㏙㉬ᜨ⊰ᒊ຤惐氮ண成ɁѦቄwၤቘ㲒㙑⏤咤窤䫳䧚ᕄй  "
   },
   "source": [
    "#### **Instructions**\n",
    "1. **Rename Columns:**\n",
    "    - Employ Pandas commands to rename the columns, eliminating the leading \";\" as specified:\n",
    "        - _;Aspect_ → _Aspect_\n",
    "        - _;Region_ → _Region_\n",
    "        - _;Trigger_ → _Trigger_\n",
    "        - _;Weak Layer_ → _Weak Layer_\n",
    "2. **Generate dataframe:**\n",
    "    - Assign the updated dataframe to variable `df_task_1b`.\n",
    "3. **Show Output:**\n",
    "    - Print the head of `df_task_1b` to confirm the updated column names."
   ]
  },
  {
   "cell_type": "code",
   "execution_count": 52,
   "id": "1660a9a4-bbf0-42d9-aacf-ae4c6afa5f3f",
   "metadata": {},
   "outputs": [
    {
     "data": {
      "text/html": [
       "<div>\n",
       "<style scoped>\n",
       "    .dataframe tbody tr th:only-of-type {\n",
       "        vertical-align: middle;\n",
       "    }\n",
       "\n",
       "    .dataframe tbody tr th {\n",
       "        vertical-align: top;\n",
       "    }\n",
       "\n",
       "    .dataframe thead th {\n",
       "        text-align: right;\n",
       "    }\n",
       "</style>\n",
       "<table border=\"1\" class=\"dataframe\">\n",
       "  <thead>\n",
       "    <tr style=\"text-align: right;\">\n",
       "      <th></th>\n",
       "      <th>Title</th>\n",
       "      <th>Handheld?</th>\n",
       "      <th>Max Players</th>\n",
       "      <th>Multiplatform?</th>\n",
       "      <th>Online?</th>\n",
       "      <th>Genres</th>\n",
       "      <th>Licensed?</th>\n",
       "      <th>Publishers</th>\n",
       "      <th>Sequel</th>\n",
       "      <th>Review Score</th>\n",
       "      <th>Sales</th>\n",
       "      <th>Used Price</th>\n",
       "      <th>Console</th>\n",
       "      <th>Rating</th>\n",
       "      <th>Year</th>\n",
       "      <th>CT_Comp</th>\n",
       "      <th>CT_MainExtra</th>\n",
       "      <th>CT_MainOnly</th>\n",
       "      <th>__annotations</th>\n",
       "    </tr>\n",
       "  </thead>\n",
       "  <tbody>\n",
       "    <tr>\n",
       "      <th>0</th>\n",
       "      <td>Super Mario 64 DS</td>\n",
       "      <td>True</td>\n",
       "      <td>1</td>\n",
       "      <td>True</td>\n",
       "      <td>True</td>\n",
       "      <td>Action</td>\n",
       "      <td>True</td>\n",
       "      <td>Nintendo</td>\n",
       "      <td>True</td>\n",
       "      <td>85</td>\n",
       "      <td>4.69</td>\n",
       "      <td>24.95</td>\n",
       "      <td>Nintendo DS</td>\n",
       "      <td>E</td>\n",
       "      <td>2004</td>\n",
       "      <td>30.0</td>\n",
       "      <td>25.0</td>\n",
       "      <td>14.5</td>\n",
       "      <td>No Annotation</td>\n",
       "    </tr>\n",
       "    <tr>\n",
       "      <th>1</th>\n",
       "      <td>Lumines: Puzzle Fusion</td>\n",
       "      <td>True</td>\n",
       "      <td>1</td>\n",
       "      <td>True</td>\n",
       "      <td>True</td>\n",
       "      <td>Strategy</td>\n",
       "      <td>True</td>\n",
       "      <td>Ubisoft</td>\n",
       "      <td>True</td>\n",
       "      <td>89</td>\n",
       "      <td>0.56</td>\n",
       "      <td>14.95</td>\n",
       "      <td>Sony PSP</td>\n",
       "      <td>E</td>\n",
       "      <td>2004</td>\n",
       "      <td>-1.0</td>\n",
       "      <td>9.75</td>\n",
       "      <td>10.0</td>\n",
       "      <td>No Annotation</td>\n",
       "    </tr>\n",
       "    <tr>\n",
       "      <th>2</th>\n",
       "      <td>WarioWare Touched!</td>\n",
       "      <td>True</td>\n",
       "      <td>2</td>\n",
       "      <td>True</td>\n",
       "      <td>True</td>\n",
       "      <td>Action,Racing / Driving,Sports</td>\n",
       "      <td>True</td>\n",
       "      <td>Nintendo</td>\n",
       "      <td>True</td>\n",
       "      <td>81</td>\n",
       "      <td>0.54</td>\n",
       "      <td>22.95</td>\n",
       "      <td>Nintendo DS</td>\n",
       "      <td>E</td>\n",
       "      <td>2004</td>\n",
       "      <td>7.25</td>\n",
       "      <td>3.33</td>\n",
       "      <td>1.83</td>\n",
       "      <td>No Annotation</td>\n",
       "    </tr>\n",
       "    <tr>\n",
       "      <th>3</th>\n",
       "      <td>Hot Shots Golf: Open Tee</td>\n",
       "      <td>True</td>\n",
       "      <td>1</td>\n",
       "      <td>True</td>\n",
       "      <td>True</td>\n",
       "      <td>Sports</td>\n",
       "      <td>True</td>\n",
       "      <td>Sony</td>\n",
       "      <td>True</td>\n",
       "      <td>81</td>\n",
       "      <td>0.49</td>\n",
       "      <td>12.95</td>\n",
       "      <td>Sony PSP</td>\n",
       "      <td>E</td>\n",
       "      <td>2004</td>\n",
       "      <td>-1.0</td>\n",
       "      <td>-1.0</td>\n",
       "      <td>-1.0</td>\n",
       "      <td>No Annotation</td>\n",
       "    </tr>\n",
       "    <tr>\n",
       "      <th>4</th>\n",
       "      <td>Spider-Man 2</td>\n",
       "      <td>True</td>\n",
       "      <td>1</td>\n",
       "      <td>True</td>\n",
       "      <td>True</td>\n",
       "      <td>Action</td>\n",
       "      <td>True</td>\n",
       "      <td>Activision</td>\n",
       "      <td>True</td>\n",
       "      <td>61</td>\n",
       "      <td>0.45</td>\n",
       "      <td>14.95</td>\n",
       "      <td>Nintendo DS</td>\n",
       "      <td>E</td>\n",
       "      <td>2004</td>\n",
       "      <td>72.57</td>\n",
       "      <td>12.5</td>\n",
       "      <td>8.0</td>\n",
       "      <td>No Annotation</td>\n",
       "    </tr>\n",
       "  </tbody>\n",
       "</table>\n",
       "</div>"
      ],
      "text/plain": [
       "                      Title  Handheld?  Max Players  Multiplatform?  Online?  \\\n",
       "0         Super Mario 64 DS       True            1            True     True   \n",
       "1    Lumines: Puzzle Fusion       True            1            True     True   \n",
       "2        WarioWare Touched!       True            2            True     True   \n",
       "3  Hot Shots Golf: Open Tee       True            1            True     True   \n",
       "4              Spider-Man 2       True            1            True     True   \n",
       "\n",
       "                           Genres  Licensed?  Publishers  Sequel  \\\n",
       "0                          Action       True    Nintendo    True   \n",
       "1                        Strategy       True     Ubisoft    True   \n",
       "2  Action,Racing / Driving,Sports       True    Nintendo    True   \n",
       "3                          Sports       True        Sony    True   \n",
       "4                          Action       True  Activision    True   \n",
       "\n",
       "   Review Score  Sales  Used Price      Console Rating  Year  CT_Comp  \\\n",
       "0            85   4.69       24.95  Nintendo DS      E  2004     30.0   \n",
       "1            89   0.56       14.95     Sony PSP      E  2004     -1.0   \n",
       "2            81   0.54       22.95  Nintendo DS      E  2004     7.25   \n",
       "3            81   0.49       12.95     Sony PSP      E  2004     -1.0   \n",
       "4            61   0.45       14.95  Nintendo DS      E  2004    72.57   \n",
       "\n",
       "   CT_MainExtra  CT_MainOnly  __annotations  \n",
       "0          25.0         14.5  No Annotation  \n",
       "1          9.75         10.0  No Annotation  \n",
       "2          3.33         1.83  No Annotation  \n",
       "3          -1.0         -1.0  No Annotation  \n",
       "4          12.5          8.0  No Annotation  "
      ]
     },
     "execution_count": 52,
     "metadata": {},
     "output_type": "execute_result"
    }
   ],
   "source": [
    "df_task_1a.head()"
   ]
  },
  {
   "cell_type": "code",
   "execution_count": null,
   "id": "3bc8043f-28ef-4f56-95cd-9be8ab0acd97",
   "metadata": {},
   "outputs": [],
   "source": [
    "# Renaming columns to remove the leading ';'\n",
    "df_task_1b = df_task_1a.rename(columns={\n",
    "    \";Region\": \"Region\",\n",
    "    \";Trigger\": \"Trigger\",\n",
    "    \";Weak Layer\": \"Weak Layer\",\n",
    "    \";Aspect\": \"Aspect\",\n",
    "})\n",
    "\n",
    "df_task_1b.head()"
   ]
  },
  {
   "cell_type": "markdown",
   "id": "3875e7fc-ec40-4241-aa94-87b31e59944f",
   "metadata": {},
   "source": [
    "## **Task 1c: Correcting Data Type of 'Depth_inches'**"
   ]
  },
  {
   "cell_type": "markdown",
   "id": "7a7eebda-1b60-4bff-89d3-a5548a601b49",
   "metadata": {},
   "source": [
    "#### **Objective**\n",
    "In this task, we will address a data type issue in the `Depth_inches` column of our dataframe. This column is incorrectly formatted as a object (string) due to the presence of the inches symbol `\"`.\n",
    "\n",
    "Remove any inches symbols `\"` from the `Depth_inches` column and convert it to a float data type."
   ]
  },
  {
   "cell_type": "code",
   "execution_count": 68,
   "id": "fb9bff61-9a8d-4114-97f3-4f6d0cd0e61e",
   "metadata": {},
   "outputs": [
    {
     "data": {
      "text/plain": [
       "Title            string[python]\n",
       "Handheld                boolean\n",
       "Max Players      string[python]\n",
       "Multiplatform           boolean\n",
       "Online                  boolean\n",
       "Genres           string[python]\n",
       "Licensed                boolean\n",
       "Publishers       string[python]\n",
       "Sequel                  boolean\n",
       "Review Score              Int64\n",
       "Sales                   Float64\n",
       "Used Price              Float64\n",
       "Console                category\n",
       "Rating                 category\n",
       "Year                      Int64\n",
       "CT_Comp                 Float64\n",
       "CT_MainExtra            Float64\n",
       "CT_MainOnly             Float64\n",
       "__annotations    string[python]\n",
       "dtype: object"
      ]
     },
     "execution_count": 68,
     "metadata": {},
     "output_type": "execute_result"
    }
   ],
   "source": [
    "df_task_1b.dtypes"
   ]
  },
  {
   "cell_type": "markdown",
   "id": "3c433efa-fcb1-4de7-af16-283cc7f2ac86",
   "metadata": {},
   "source": [
    "### **Persist**"
   ]
  },
  {
   "cell_type": "markdown",
   "id": "b23913ac-ea3c-4ca1-8ac3-07d3026ca76e",
   "metadata": {
    "__GENERATED_DATAFRAMES__": "{\"nodeDataframes\":{},\"graphDataframes\":null}",
    "show_aggregate_original": "false",
    "trrack_graph": "ᯡ࠽䈌ʀ匦㢠⹰ೠ↺΀Ơ瘢ᠢᠫ‵䁇ፉ䐢怣侽振ၑ䶃᪰঵䂆⹉多䪲┠অҤᴶṂ㊵嘊᭓ㄅ毠㒰䣑Tဠ㚉҃೨ɰ䂠̂҆;䘸Ϥၗ眼䋐Ð䬹†于␠㚠ᝨ沂烒⎁൸憈㬸ᐠṬү䓧Ⴠ椓ᣘ⌚ᆠᛦކ䜱ǁ䅀㖖नຂᩈ桫〦塵偢㶱⢠⾱䂅埦䖃塀㪂ₐ暸ᵽ䀳怠煼砤慸㴻ࠩ㯏姭ঌ䄢䣫䧙㱈刱ㄿᬦ䩫⏃㌱楫磤ⰴຣα晼ਫ䎁㺕䮃Ⴤご䖂᥂挰ы゙㈬ܠ₰ᑊІ僑汮ޯ戩䉱៪怡⹁ᡤ甑擸抯॰ᡬᅓ╄璚╄㈠ "
   },
   "source": [
    "#### **Instructions**\n",
    "1. **Identify Entries with Inches Symbol:**\n",
    "    - Use the interactive table in Persist to look for rows with `\"` in `Depth_inches` column\n",
    "2. **Edit and Correct Entries:**\n",
    "    - Edit the cells to remove the inches symbol from these entries. (e.g. `15\"` → `15`) \n",
    "3. **Convert Data Type:**\n",
    "    - Change the data type of the `Depth_inches` column from string to float.\n",
    "4. **Generate Dataframe:**\n",
    "    - Assign the modified dataframe to a variable `df_task_1c`.\n",
    "5. **Show Output:**\n",
    "    - Display the dtypes of `df_task_1c` to verify the data type correction."
   ]
  },
  {
   "cell_type": "code",
   "execution_count": 80,
   "id": "7cb9b796-3aa5-4181-bf91-fa8ba7e33c20",
   "metadata": {
    "__GENERATED_DATAFRAMES__": "ᯡࠣ䅬Ԁ朤壠ᜣ琢〹夦゠⹰〮⁁䁻қ䚾ኊ㇠നСࠩ瀮晼Ƭ穅5愠៩䍒⊂ᠡ囨ĸ縐䄳჋䋓ઌ䋞♰Ȍٱ拄坠ǠàৡྜྷM;૤෧LfÌࢮ扌㩓凵Ĭ⇒奻斩ἒପጯၪԡāₐ෣䣆䪂ח䀩佃㋧䣛௝ᖾ拴ߗ䬫5㙊䑺㵝渶Ḡ㬨মঽف牁怬᱐㰠㛈ὃ⏳惗⁡ⴼ墥拏ාㇻ添璒媘⵰緈宙㨶˰㈨䎄䉰秳䒨ੑ˹䍳揣拹嘫č炀庞䞃㌘çˬ⨕亂姧嬙䕀䈄磜ᨾàúӄܲ⚘⃨༠ÖၘY䥂̂ӂ□笰5⥆㙰Ò戠Ȁ0*㲑ۦ儐倶Ề㉞࠭ႂ䃸ဨ䫈ゞ埗䟳㒌呅ⰷₖ伿℡Ϝ杊Ϥ㡀檿⏠䓪㚵䦭ፈࡊܡ∍㱾ᄔ㌩ษ๤写䅨噈䪦吿ᥢ悌ޠ܌′㌙վ坑㼰ૣ憁⢇᷺୙㹋࿅爔㝘㧯ᆶ㘻໿ᆀ䴫᳌⃛墰᷹瞲ဿ⿿䐦䆹㑜ᚫ拸Ȋユ᩿Ộ佇䉪ᣎ䲊ᩣ⿅嫀ᙒ枪䌰ůᴣ护ᙌݝ㟩⡯ᔥ埨㜊巓ᖖ廾矼䠮䓁摟暮ᆩ橝ᱠᩈ恠ኂ䲷ଉ䵈ੈ㷪ㅣ如ẅ燰⾬‮⾧桜㨥バὭ炘➬炢㮨糽߂紛㰄攣᪭糣ᤉ൓‿Ѓጦ̷Ῡ̶⚧榨ᡆ㡏⾬㧚⨥䄁Р፰䶬⦭⨫灍ᘧ儾⯃䔅˄吾ᣡᣆⓂ,ᠩ⇲⤠〳㵃Ƒޏ叔䜧瓴拌呔ऎ෧೤惌擣㉔㲤ᑵ㟥ɔඬ↜᧦㳤焤䕰㈽ሮᶥ㖐枨ఄض䖇⤺卞㪼咸ᚱ玔纸㉀ㆺ㈾㦿劅㮳厲ᶱ匼倌猸䕹牠ㅣ狵⬂Ð㘌∄㵦䍰ᜊਞㄤ灌⨹⢘ඣ橻≬⡄欼剛༭⫒䠣䪔犯䩔ᆲ㋬䖾⫠㖻㉒綷⎟ர示攩煺䢠Ɣ䌬ހ屉؀硚٬え䄰䀠 ",
    "__has_persist_output": true,
    "trrack_graph": "ᯡ࠽䈌ʀ匦㢠⹰ڀܠత烷ᐶ䀻̸尀֠ᆠ嘹砨〹䋁綇喦త㏾㯔ᡩ•ⳁႧ⛫䌠壉Ժ㩬⳸悒瘏桄-Рෝ┸̲´၀Ù璡䀦熦஑х䷛æ6ᄦ倠➇ሠ᭤࿨朄劃⨐イ㐠㬥ẻ䁥䜆冰ボ⡾䚒⅚䬠Ӯဥ氈ഽ♨ಝ័㺺挥'䦡ᇙѸ㼎ᝁᲳ֯倥壣⸉䉀穐␴竤℥汥մ䅈嘠歑絀㮌ᅰؗ氍ᙱ瑾欤᫦渱㑌䄦堢㰠๯ၿష宝無ࡼ㬣佣ᦾㄤ䩣⃜㐪̠成䙝ڥᑈⰬᾤ凨ᠼ↦ೀ⒴ට┸㐽䜔籄⛚䫱Ʈڞ䤶䖂磂⊷ჲಶ⎳搪⊩⹱䵁㝓ጰ愂Ӓ⪷☐䳖⾥昒䋑⇢ொ挽✀Ƥ㹙䀮㎈$⼤ż捐ࣰΰÒ稠Ȅ㐠੦⯦Щ恖凒䦢細ⷋ憈愚䐰ᖘ涖⵸ஒ䴶嗀߳笳弡呄㔜Ð⫗ց岦௳䒂梥೧倸╞ʦ刈ప߳囐䙕Ƞ淾緓䬄䡦᤼䉣჈娣೥ㇸ丯ߠࡓ濓⫰當ế⦲炲沶൧െ槓材ⱺ旎㇒汀州梓嵮姀→岎⏞䜣ࢀH䔯ݽ㝰ਡ^ₓⰡ繧ଐ㱁䚃稲ϖ壞гʁᐠ䄏ɦԏ࣢硓䨩砲'偡紴ࡺ⾾᩺〹ᢜᠵᨊ〰毲崡Ձ㜥ׁ౅冁㜻٢籌஺⾼䆘⼻ʀ㐫ੰ⠠䈑⒭ࢎ繟˂⒰䊴庭Ͱ助䋱穂⏰⠼␈䱇ܱ⭠¨媚 嗨䈥挨䳠疽ᯏ⁝៎Ϩ畂ೣҏ␹ۣ礞D׌㦫၄ᒣ䄐ᄠᴴ㄂僧३僇ລ㲊Ꭾטᘏ䰤内䓰⦎⇫▌᲋ᶀ泐ᎂ涥㢧൐ٱ峒乷䮬Ż⸋⎍䃪䛂㇡ࠠŵ漴Ĭ倩協⒍嗓⻛唕廎䉔打咀堠㗕尴㟰㇗㎈≕䕭☹䓭縰ℨ欨ى┲⅊➞ϩ栥޲梼ᝁ摞Չ╗Ո炲⊁ర⾍᷌ォ尴✵ዛᆵ岢創糊午㪌痄浇✉㵟⃡ృэ䩶犸㌾燐ު搜➹灙䁹懜≅攜羳疠澧矝估௙稠ࢇ欨ಙ乵᎐偬૓灨ѣ䡬̸ဳ䏐窛ࡒ恑䪹暇恡✦䲂お૘ⲕ䎂⁎঒噯ત倦櫺ع䁷糣ठ䲊嬷Ɱം‡෶燅ɨᡉ⋠偗ɥ澺ᝀ䤬سᑁʠ幜╈会୩᱉⃡檉峳婵彷穰櫔<庠䳐㫫㣃㻬㨒溭䞎୮䐂獹䶹懹♘୥繝槶綯孓姘䣼Ặ神᠇粠䗤Ոᡍ皁㹤๵婋⠺ኖ桢ᅍ唀哂廧㔏儇㌎फ़慭䥈Ἄ㷯㘉ℏ┺԰䋊ᵐԋᵉඞ嶻漈㵯☋㴿⡏㕺寍瘝よ⛶廲㪃⇨䴻⊺ᧄ㓹Ұ୦楪ᦋ氳䌝㫴涔ቖ漥䴛⮸‿痑ᮛ擌䭛ℇὒڌ珈₥ਕ吾妣׹嬣㤆㞇╢懊ዩ₅䦑祮䄪姈䫋⫖⍣乘㑼䒂屈情а䁑䞒䁖ᩌ∇挽䏸⊉㱄殘ᓱ䱠઺彛猜ᵖ繿慱暃凌椙泹灀䮸娯᧻ᰳⱥ㝖斌戩懍塵岕䰂䨭㦻ח↛৖⠨琵昐恍挥䕺㱣㩇㬵孶玐岨恰౱ㅈ䃨⎱ቌ净Ω瀴䐈⒥瀸ᙩ䶺ㆮᏛ㮿䨗㈑皉ؾࣄᳪ੘Ꮲ㣔᪒棁䇯ሤか惡爥䇌ಱ堢䈐⹲ᠱҰ湇ლ斑ᐆ溬ঢᯧʚ✲巟☬湶ജ䔹㬤〽⅀㵯嘇ఛۏ秹㣲穀຺Ἲǅ࣠၊σᘥ回塀盶⃝凬ア2䲁䣼犨ኡ㈥˝⬡ᕢÌ䊮㦤䃅㼨僈␠㬭Ѩጔ弫垜瘃㩻揜࿿㴯合ޯۣ̀⎅怸䊣惼෠手ฆܹᘾᣈ䅓䢫恑毤冔滑ྐྵ碉卥㼨Óۣ椂㕱⌺Fᔪ晋֙䫦஭䜤嫐㤒皑ढ劬࠲䫲⫝̸㱇⇄♨৶≈ڴ⼧檔ǲ師危塘恗Š㤢䁇㜀琊฽榸䕗尢哄䊿㎥ʢ咱数燧૳棲䥫⧨଑庅挢粿佀㾷ᔔࠪ䢲᪂✋䆁εҦ۰漭㢩෉ᴻ㇘ਲ਼ⰵ㰤ᛟ❲泯璶ᇇ给栣䁔犾庋ⱀヺ㤦䃵叶Έ䅛⸐⡙献娳爩⠰㚴絥Ơヱ恤価❽泐֢䒼፬㟱䋗މ亳ᦘὓхᆨ⦅䡪晰癏疘㑠◤䙍䋸ੴ䮗Ჵ⑵ᝒ曥䤓昅玦⚗䮐矍⋹㥧㑿焒䊫狐ᙑᝊㇰ≊ᙜॢ᫤㱴唁ᎫǪ着䕱ᖖᨳ勇挜≡殂ൡ䫋᝕⼂⾫栽ᡢ梷䂂⊢શ፰⧶嚄㉨䨨ⶠ娔堮櫛⇷糟㨯㥭䡗ⴾ⣃⧾啜ൖ㶲䤣⠵爖垠໖ʠ懵⃃僠堢㫇㮠极Ǯ旡⛗³⥔Ḛ劀揑⛀ን嶪仮盈樂棐ↂ᜞䢥ᓇ緘װ紪ȤУళ⎒烪砵傒H珎⯒峋⏙⯤㴌恚炤䢈ॠ細䇈༱棥㄂ㅁ๤䑴䕑䃈䩠䔪Żᆖ˴⛶࢈೐歳ࣵഠ含燔୪ॗ㱏܂爈ࢢⱨᾀ桀őᣪ簗Ử撉狲名᎒㊅箪攺ᘛ᳟⏙〩⛻ᠡ䃊ǁ⤣䴇曕掃䋴Ɒ是烶ཹ曺ⷴḑᎆ寡Ǘ傂ⶳ䰡厦㬽箭士㋻癇䊐㑥ẃ斎桇ს澘稻㡑រ兌ᤑֱ᧍僣ちȍㆴ࿕无璀⼨䏥控塮秄㙷ḩ渍䴃䁳┆压殭ܗ↛ᵋㄆⳞὨ猉㩯ᑉ彈甼㜀⻂叽ⲛ礌⨩䉶咆䱠䈥㱱㌶堮ᘲ犡ዻ≂ጣ☌ږⳕ䁙㫹捍戙癏挂剅潩▩㸲⦙䯕㭏ǻ䌬፲㫀⦽凃姣旔劤獦䌆溃枢毬紟稇உ峀崬⽖ைጒ⢲䆾姐㶢䮜濪䁒Ӏ␈哎榷睺ࣜू↔ᐵ綠択激䇳᎚㽇揈枴畯唔怾紂ẳ氱枊䚻䇷宬䪚犽潭ᙞ怎㼁宝凝✃㗃ᎇ窆瞶䂽ሡ幞獰ᡂ嗗㯪夗᫵๶ᬫ䷾ᯃ䠢寽嬿濚嗟㈠╺䆦ᔹ䝢䤹儻∸帘⑤䤄ɴ夭㥪ᭀ壯䤗㬾㫁眃ሉ૵ᘋ洞卙槄䔂ńᘅ簟㪨∪ฯ㉦呜墡༷㊐ഠ㈁䑘窉嚁冇罠稠⑜戆È穠✱倿ཫ᧘Ӽ㚆㞗䏹囱搭㝻㯙塐༁ే㥶忬⭦睘愳䯼㷎࢐節߹⩤䑲䈄ʠ⪂䠳弡㐬⡛僀᳴扠伿厖ॽ̂圬ǋ奍挈恩㢅䙼猏⬼⬷姍㒂厔㉷䯌ቍ㵼ㄾὡ瘏ᆚ⥗嘕ᓦ᭺を䮴䳭潟欗䨀஀ᾁ⣍䱵ᤄ彲烃嬁ޭἢ׃䘌ሬ⃥禝䯢ᅃ字ȴ࿈⽧檉ᮆ侨樋ቺ悛ቭ࿡䒓烠Ԝ堅湚㫿䂙ഏ㾞惓侬〉ṗ磯஽ 䁋惐㈣ቤծީޢ墫䐧刨⿹寢ႫⰄ㑡⟫⣖є⮣簨匶䠐㷃䈺჌⨻䎄㪥≣‭᳕筌睠ଚᲨ၀i஡ص湩璶ᤲ㸲䔉䒀䑻狷瓟煳䀙ϨȅŠ焋䁚Ḹতᘤ憰笜៥ⴹሥ⢷埰䶚潸砯啐䧢ᑥ竪ឝᖧ奦ブလ㶧楱愼挘ℙ层܂啛රᇲ㹽ěዊ䉑岺暛㫉癅ᢉ䛂զ⃾癁ᙿ⸺埭·栚ߐس㱴רᙁ〦ဴэⱩ∧氥֌ᙆ显岴仢ⓓ▬搶☛⠠玬伐䢰⛧Ⱘゾ⁉㷊牄匙୉⡰ῲ勌畈嵫抢儿狴ᘢ᤼汶܌ፘ㕘凯熪ᥦ畛愆䐨ጉ恏渷ౠ炛V熔ߘ稦揾ủȠ  "
   },
   "outputs": [
    {
     "data": {
      "application/vnd.jupyter.widget-view+json": {
       "model_id": "06456fc0169a472e9200b42d83a4f539",
       "version_major": 2,
       "version_minor": 0
      },
      "text/plain": [
       "PersistWidget(data_values=[{'__id_column': '1', 'Title': 'Super Mario 64 DS', 'Handheld': True, 'Max Players':…"
      ]
     },
     "execution_count": 80,
     "metadata": {},
     "output_type": "execute_result"
    }
   ],
   "source": [
    "PR.PersistTable(df_task_1b)"
   ]
  },
  {
   "cell_type": "code",
   "execution_count": 70,
   "id": "a7e34c89-cbda-490d-9848-318cb7c0594f",
   "metadata": {},
   "outputs": [
    {
     "data": {
      "text/html": [
       "<div>\n",
       "<style scoped>\n",
       "    .dataframe tbody tr th:only-of-type {\n",
       "        vertical-align: middle;\n",
       "    }\n",
       "\n",
       "    .dataframe tbody tr th {\n",
       "        vertical-align: top;\n",
       "    }\n",
       "\n",
       "    .dataframe thead th {\n",
       "        text-align: right;\n",
       "    }\n",
       "</style>\n",
       "<table border=\"1\" class=\"dataframe\">\n",
       "  <thead>\n",
       "    <tr style=\"text-align: right;\">\n",
       "      <th></th>\n",
       "      <th>Title</th>\n",
       "      <th>Handheld</th>\n",
       "      <th>Max Players</th>\n",
       "      <th>Multiplatform</th>\n",
       "      <th>Online</th>\n",
       "      <th>Genres</th>\n",
       "      <th>Licensed</th>\n",
       "      <th>Publishers</th>\n",
       "      <th>Sequel</th>\n",
       "      <th>Review Score</th>\n",
       "      <th>Sales</th>\n",
       "      <th>Used Price</th>\n",
       "      <th>Console</th>\n",
       "      <th>Rating</th>\n",
       "      <th>Year</th>\n",
       "      <th>CT_Comp</th>\n",
       "      <th>CT_MainExtra</th>\n",
       "      <th>CT_MainOnly</th>\n",
       "      <th>__annotations</th>\n",
       "    </tr>\n",
       "  </thead>\n",
       "  <tbody>\n",
       "    <tr>\n",
       "      <th>0</th>\n",
       "      <td>Super Mario 64 DS</td>\n",
       "      <td>True</td>\n",
       "      <td>1</td>\n",
       "      <td>True</td>\n",
       "      <td>True</td>\n",
       "      <td>Action</td>\n",
       "      <td>True</td>\n",
       "      <td>Nintendo</td>\n",
       "      <td>True</td>\n",
       "      <td>85</td>\n",
       "      <td>4.69</td>\n",
       "      <td>24.95</td>\n",
       "      <td>Nintendo DS</td>\n",
       "      <td>E</td>\n",
       "      <td>2004</td>\n",
       "      <td>30.0</td>\n",
       "      <td>25.0</td>\n",
       "      <td>14.5</td>\n",
       "      <td>No Annotation</td>\n",
       "    </tr>\n",
       "    <tr>\n",
       "      <th>1</th>\n",
       "      <td>Lumines: Puzzle Fusion</td>\n",
       "      <td>True</td>\n",
       "      <td>1</td>\n",
       "      <td>True</td>\n",
       "      <td>True</td>\n",
       "      <td>Strategy</td>\n",
       "      <td>True</td>\n",
       "      <td>Ubisoft</td>\n",
       "      <td>True</td>\n",
       "      <td>89</td>\n",
       "      <td>0.56</td>\n",
       "      <td>14.95</td>\n",
       "      <td>Sony PSP</td>\n",
       "      <td>E</td>\n",
       "      <td>2004</td>\n",
       "      <td>-1.0</td>\n",
       "      <td>9.75</td>\n",
       "      <td>10.0</td>\n",
       "      <td>No Annotation</td>\n",
       "    </tr>\n",
       "    <tr>\n",
       "      <th>2</th>\n",
       "      <td>WarioWare Touched!</td>\n",
       "      <td>True</td>\n",
       "      <td>2</td>\n",
       "      <td>True</td>\n",
       "      <td>True</td>\n",
       "      <td>Action</td>\n",
       "      <td>True</td>\n",
       "      <td>Nintendo</td>\n",
       "      <td>True</td>\n",
       "      <td>81</td>\n",
       "      <td>0.54</td>\n",
       "      <td>22.95</td>\n",
       "      <td>Nintendo DS</td>\n",
       "      <td>E</td>\n",
       "      <td>2004</td>\n",
       "      <td>7.25</td>\n",
       "      <td>3.33</td>\n",
       "      <td>1.83</td>\n",
       "      <td>No Annotation</td>\n",
       "    </tr>\n",
       "    <tr>\n",
       "      <th>3</th>\n",
       "      <td>Hot Shots Golf: Open Tee</td>\n",
       "      <td>True</td>\n",
       "      <td>1</td>\n",
       "      <td>True</td>\n",
       "      <td>True</td>\n",
       "      <td>Sports</td>\n",
       "      <td>True</td>\n",
       "      <td>Sony</td>\n",
       "      <td>True</td>\n",
       "      <td>81</td>\n",
       "      <td>0.49</td>\n",
       "      <td>12.95</td>\n",
       "      <td>Sony PSP</td>\n",
       "      <td>E</td>\n",
       "      <td>2004</td>\n",
       "      <td>-1.0</td>\n",
       "      <td>-1.0</td>\n",
       "      <td>-1.0</td>\n",
       "      <td>No Annotation</td>\n",
       "    </tr>\n",
       "    <tr>\n",
       "      <th>4</th>\n",
       "      <td>Spider-Man 2</td>\n",
       "      <td>True</td>\n",
       "      <td>1</td>\n",
       "      <td>True</td>\n",
       "      <td>True</td>\n",
       "      <td>Action</td>\n",
       "      <td>True</td>\n",
       "      <td>Activision</td>\n",
       "      <td>True</td>\n",
       "      <td>61</td>\n",
       "      <td>0.45</td>\n",
       "      <td>14.95</td>\n",
       "      <td>Nintendo DS</td>\n",
       "      <td>E</td>\n",
       "      <td>2004</td>\n",
       "      <td>72.57</td>\n",
       "      <td>12.5</td>\n",
       "      <td>8.0</td>\n",
       "      <td>No Annotation</td>\n",
       "    </tr>\n",
       "  </tbody>\n",
       "</table>\n",
       "</div>"
      ],
      "text/plain": [
       "                      Title  Handheld Max Players  Multiplatform  Online  \\\n",
       "0         Super Mario 64 DS      True           1           True    True   \n",
       "1    Lumines: Puzzle Fusion      True           1           True    True   \n",
       "2        WarioWare Touched!      True           2           True    True   \n",
       "3  Hot Shots Golf: Open Tee      True           1           True    True   \n",
       "4              Spider-Man 2      True           1           True    True   \n",
       "\n",
       "     Genres  Licensed  Publishers  Sequel  Review Score  Sales  Used Price  \\\n",
       "0    Action      True    Nintendo    True            85   4.69       24.95   \n",
       "1  Strategy      True     Ubisoft    True            89   0.56       14.95   \n",
       "2    Action      True    Nintendo    True            81   0.54       22.95   \n",
       "3    Sports      True        Sony    True            81   0.49       12.95   \n",
       "4    Action      True  Activision    True            61   0.45       14.95   \n",
       "\n",
       "       Console Rating  Year  CT_Comp  CT_MainExtra  CT_MainOnly  __annotations  \n",
       "0  Nintendo DS      E  2004     30.0          25.0         14.5  No Annotation  \n",
       "1     Sony PSP      E  2004     -1.0          9.75         10.0  No Annotation  \n",
       "2  Nintendo DS      E  2004     7.25          3.33         1.83  No Annotation  \n",
       "3     Sony PSP      E  2004     -1.0          -1.0         -1.0  No Annotation  \n",
       "4  Nintendo DS      E  2004    72.57          12.5          8.0  No Annotation  "
      ]
     },
     "execution_count": 70,
     "metadata": {},
     "output_type": "execute_result"
    }
   ],
   "source": [
    "df_task_1c.head()"
   ]
  },
  {
   "cell_type": "code",
   "execution_count": 71,
   "id": "87a007a9-dc27-4c45-aa4d-66ff0074e2cf",
   "metadata": {},
   "outputs": [
    {
     "data": {
      "text/plain": [
       "Title            string[python]\n",
       "Handheld                boolean\n",
       "Max Players            category\n",
       "Multiplatform           boolean\n",
       "Online                  boolean\n",
       "Genres           string[python]\n",
       "Licensed                boolean\n",
       "Publishers       string[python]\n",
       "Sequel                  boolean\n",
       "Review Score              Int64\n",
       "Sales                   Float64\n",
       "Used Price              Float64\n",
       "Console                category\n",
       "Rating                 category\n",
       "Year                      Int64\n",
       "CT_Comp                 Float64\n",
       "CT_MainExtra            Float64\n",
       "CT_MainOnly             Float64\n",
       "__annotations    string[python]\n",
       "dtype: object"
      ]
     },
     "execution_count": 71,
     "metadata": {},
     "output_type": "execute_result"
    }
   ],
   "source": [
    "df_task_1c.dtypes"
   ]
  },
  {
   "cell_type": "markdown",
   "id": "0d9bc0d0-5e3f-4b07-bf14-b83f961eb833",
   "metadata": {
    "__GENERATED_DATAFRAMES__": "{\"nodeDataframes\":{},\"graphDataframes\":null}",
    "show_aggregate_original": "false",
    "trrack_graph": "ᯡ࠽䈌ʀ匦㢠⹰ೠ↺΀Ơ瘢ᠢᠫ‵䁇ፉ䐢怣侽振ၑ䶃᪰঵䂆⹉多䪲┠অҤᴶṂ㊵嘊᭓ㄅ毠㒰䣑Tဠ㚉҃೨ɰ䂠̂҆;䘸Ϥၗ眼䋐Ð䬹†于␠㚠ᝨ沂烒⎁൸憈㬸ᐠṬү䓧Ⴠ椓ᣘ⌚ᆠᛦކ䜱ǁ䅀㖖नຂᩈ桫〦塵偢㶱⢠⾱䂅埦䖃塀㪂ₐ暸ᵽ䀳怠煼砤慸㴻ࠩ㯏姭ঌ䄢䣫䧙㱈刱ㄿᬦ䩫⏃㌱楫磤ⰴຣα晼ਫ䎁㺕䮃Ⴤご䖂᥂挰ы゙㈬ܠ₰ᑊІ僑汮ޯ戩䉱៪怡⹁ᡤ甑擸抯॰ᡬᅓ╄璚╄㈠ "
   },
   "source": [
    "### **Pandas**"
   ]
  },
  {
   "cell_type": "markdown",
   "id": "d843f33c-83c6-4d44-a986-820ff11585dc",
   "metadata": {
    "__GENERATED_DATAFRAMES__": "{\"nodeDataframes\":{},\"graphDataframes\":null}",
    "show_aggregate_original": "false",
    "trrack_graph": "ᯡ࠽䈌ʀ匦㢠⹰ೠ↺΀Ơ瘢ᠢᠫ‵䁇ፉ䐢怣侽振ၑ䶃᪰঵䂆⹉多䪲┠অҤᴶṂ㊵嘊᭓ㄅ毠㒰䣑Tဠ㚉҃೨ɰ䂠̂҆;䘸Ϥၗ眼䋐Ð䬹†于␠㚠ᝨ沂烒⎁൸憈㬸ᐠṬү䓧Ⴠ椓ᣘ⌚ᆠᛦކ䜱ǁ䅀㖖नຂᩈ桫〦塵偢㶱⢠⾱䂅埦䖃塀㪂ₐ暸ᵽ䀳怠煼砤慸㴻ࠩ㯏姭ঌ䄢䣫䧙㱈刱ㄿᬦ䩫⏃㌱楫磤ⰴຣα晼ਫ䎁㺕䮃Ⴤご䖂᥂挰ы゙㈬ܠ₰ᑊІ僑汮ޯ戩䉱៪怡⹁ᡤ甑擸抯॰ᡬᅓ╄璚╄㈠ "
   },
   "source": [
    "#### **Instructions**\n",
    "\n",
    "1. **Remove Inches Symbol and Correct Format:**\n",
    "    - Use Pandas to replace the inches symbol in the `Depth_inches` column.\n",
    "2. **Convert Data Type:**\n",
    "    - Convert the `Depth_inches` column to float.\n",
    "3. **Generate Dataframe:**\n",
    "    - Save the updated dataframe as `df_task_1c`.\n",
    "4. **Show Output:**\n",
    "    - Print the dtypes of `df_task_1c` to confirm the changes."
   ]
  },
  {
   "cell_type": "code",
   "execution_count": null,
   "id": "1420d86a-7cff-49d8-a92f-6c6fda61e735",
   "metadata": {},
   "outputs": [],
   "source": [
    "df_task_1b.dtypes"
   ]
  },
  {
   "cell_type": "code",
   "execution_count": null,
   "id": "89d388cb-f5cb-4337-b943-24f8e7a75d25",
   "metadata": {},
   "outputs": [],
   "source": [
    "df_task_1c = df_task_1b\n",
    "df_task_1c[\"Depth_inches\"] = df_task_1c[\"Depth_inches\"].str.replace('\"', '')\n",
    "df_task_1c[\"Depth_inches\"] = df_task_1c[\"Depth_inches\"].astype(\"Float64\")"
   ]
  },
  {
   "cell_type": "code",
   "execution_count": null,
   "id": "856dee6f-706e-4756-b960-2d061436078d",
   "metadata": {},
   "outputs": [],
   "source": [
    "df_task_1c.dtypes"
   ]
  },
  {
   "cell_type": "markdown",
   "id": "753ed0a8-dc0b-4ac8-8afd-b554ea8f4d28",
   "metadata": {},
   "source": [
    "# Task 2: Filtering data\n",
    "\n",
    "In Task 2, we further improve our data by removing outliers and removing certain records to have more consistent data. \n",
    "\n",
    "We will also take a brief look at relations between cause of an avalanche (`Trigger`) and failure point of ice (`Weak Layer`)"
   ]
  },
  {
   "cell_type": "markdown",
   "id": "7f25d8f5-98e8-4b0f-9358-ed85f77cbed8",
   "metadata": {},
   "source": [
    "## **Task 2a: Remove Outliers**"
   ]
  },
  {
   "cell_type": "markdown",
   "id": "ac53a605-2d10-4457-9625-70ce88f04f3b",
   "metadata": {},
   "source": [
    "#### **Objective**\n",
    "In this task, we address data accuracy by filtering out anomalies in elevation data. We observe some records with elevations outside the plausible range for Utah, suggesting recording errors.\n",
    "\n",
    "Remove avalanche records with elevations below 2000 feet and above 13500 feet, which are outside the realistic range for Utah."
   ]
  },
  {
   "cell_type": "markdown",
   "id": "56ad44c7-ecd6-4ca9-9f68-0a8d28d0cb48",
   "metadata": {},
   "source": [
    "#### Persist"
   ]
  },
  {
   "cell_type": "markdown",
   "id": "664c641e-1193-4233-8897-0161f209c86f",
   "metadata": {},
   "source": [
    "#### **Instructions**\n",
    "1. **Identify and Remove Anomalies:**\n",
    "    - Interactively select data points with elevations below 2100 feet and above 13500 feet in the Persist Scatterplot.\n",
    "    - Use Persist's interactive features to remove these anomalous records.\n",
    "2. **Generate Dataframe:**\n",
    "    - Assign the cleaned dataframe to a variable `df_task_2a`.\n",
    "3. **Show Output:**\n",
    "    - Display the head of `df_task_2a`."
   ]
  },
  {
   "cell_type": "code",
   "execution_count": 81,
   "id": "73d5727a-f059-4bf3-977c-1ce0d6d92eba",
   "metadata": {
    "__GENERATED_DATAFRAMES__": "ᯡࠣ䅬Ԁ朤壠ᜣ琢〹大゠⹰〮⁁䁻қ䚾ኊ㇠നСࠩ瀮晼Ƭ穅5愠៩䍒⊂ᠡ囨¹䔐ுᝉ⅊㙢勆⠡眚⤂剰ҀɐԀ·侺䄠ᚢ恋ଶᎠᙋ瑾侩ਠه⊵䀹䐳惒禀浰ᙀ☾₴ਢǢ䄇橛ၭᔖ祷'Ͻԁ͓᭘縄晎ᬻח壜ᆃ晌㞤⇢晩晬瑑ޱܯ儁䈀Ǖℙ尰е壃庡įܳఅ幫ḷឤᗩ搵癍ↂ傢嚆璐熟ㄭ䤩∇✲၈拓厙硭崨ᜪ⊾ָ䙁⳾ၢ暋ࡸၨ犋⋷ᱦ挓儈ϩ烃晐Рǐ䁦纠܌∃䊅Р̨J搠ୌ⇠ᰠṣ䏥壳Ꭼ戩ȬᎫو䅷䞒磬坋佂懢⼷䀥楐Eи䮠†㮠`͈礚㩺㜩؁ᘾ✩ᚆ橕๊戬Ѵ潖ⷍᱫ旖ᖂࠫ䝰爘慑ї穨⇛স䂢ܮѢ⤝㨣⯦傳⸼ᾯ煟㕎䲇ᦌ䝟刀6戧ǧ捈'匼篭䪰ంǇ৪ᕾ喊窣⣼䤶◒纉救ྊ搫Ⲩ䪰ᒾ②䧉䪍朓糡⑷㞫ጉ㙿ᕊ卧⳱㕺溯↢㔎⼋㷺㫤થ㒔恸䈸Ùᆃᒆ␅n疦ᰁ儥䑴૪䋀ᬩ憌ᢻ拀抸䌡琪折⬧䃡䥲梘ᥪ宂ۮȂ埿勀㠽Ⴌㆣ䉰細⃦毹䃠瘧欐㰽Ʋ層₨† ",
    "__has_persist_output": true,
    "trrack_graph": "ᯡ࠽䈌ʀ匦㢠⹰࣠ᆡᰣ〩䏸׃⁋⤤ƀ怹劢ȸ炀̡晐ೢ悃᪶䦂䍤䨠ዪन㪌㲤◩⫷劊满䯏㽡慀†氹僤᪰ӁĠ׿␬W౐㮨⃎濹瀡㌸㔠ʑ㥀ǔ‬ᡲ'޳䥬⁅ႀぉᒼ౤璅ᩇmૡ䁓࠹桘⹲ࠠᝠ梄獒⃐ಙ䄬ᬸᐠṬҢ䋡⒀偸स懲Ơᛦ΀攰䖢₆㚂࠾扈⛄ڭ〦塬ᤢ㮁⪠⾡䄙㍠戁塃坖火ᡙ䶠ᏠČ羕磠碗漰ᢵ柒ᰬ㦹Ġ⑲ణ֫≔భ䔀ᣙ኶ቂ⡐≸㚩⃄ᐥ䐸梼㑾掚㹲୨垈䁇ᵜ犪挑≹ᕩ⠹ᙧᏨ੥६僉晰箲ᆩ戩ብ፨㨙᝟ᑋૅᨼ唂⫕ড垐ê㍏滲䀠ȠᡠŰȔy̨༊೏㻀ÀႦᙞ厀䈕ॠ१吊ᙇౣ!漚曇䂣Ȯ朵澕㢾綾嘧岐ໆ眑簡ね㜩灘ㄺᝀ栤థŠ恪ลɁへᨪ䚪㢈༠勢㡐✥ۈഏǥ掓Ⓒ⸿͌ᒉ㊱䚁堼㜯䀱т㍵号㫝㽥ሻࣵ嘥䋢⛳Ⳣࢀᛖ᭥㋮㛻Яす༗᧢ᐪ⻷ⷸ灑怲ఠԱ倱ᮽ樢䁀ం ⮸#䜽璘洷攡撷愡嶭䘐₸ጩ․ޘ剐➙䘯ژ嶻∐删߃䅈ユȐ㥓哉䴇↸㷦懘㼨↤⒪䈦ᐰ刐㎢恔֤烼ʣ‬͢偌ഥ嘬ᒡォۓ炣ၢ悴ᰕ劚Ẫ䠬ਤ䠤⛢ሎᢪ熴㲮ᤰ䓰婶䰡嫏ూ㩌ূ⓱#僤璻Ⴠ戸䄀刾ተ䶯橘ø᪦烫犤丩擊ᰣ᏶䄲䍉沼㆐䣔䍥塥⭉ӏ柲൘⮉笱ࠉး䖠تス⩅᧚䂭✅ࢿᜉ⋘䙜僂嗁၌ƨ㻾惰àᇼ傴̕㌲⏘獒歺〶槆䏬ဠ䤯伤ⱺ刣ڠ䦃絀戹䎀䍔ᚙ厄౒ἁ嚳䧑ഘز䉛ᄄ户ᶰ䥪ȅ㲿ᥡ糝ਲ਼ወ匴㌘厲⡝ĵ缔圵㋲ղ乳仄䀬ᧄ᫶ោ䣔࠳ØЂ䵒᧥䅳ᤪ尸࠱㣺⧐繟䀩Ļࠈ桉͂ޙ٢䝚๙呉旂杽ޙ檇ศ偛掹猢摸䭒浠⭊捹欦擻⭶滺ձ刢؜橢ஂ橻䭪暣⭺掰昆潌㭕⪃䄯̠☨ഀඊᯈ㪝◴ⶤ፞毶ಖ䍷᪔搰䊛䁦㍞扉ᦑ⫩╬䍊儾⃋礵⸂ᜮ䳚ၞ䁓坌ཻ歽捑晹岛ᙵ䐤⽋梐ℓ䄙䑋䰙×次㼿洘←‌㫆燒⃇䌐囉ࢧჼ㸪ܘヤ䂀䦏ᰢ囤೔ㆭ㇒ᝦߌᆍⶶᡴ䢶傕枤㣦៑磴䣲年㟁牝᠑犬ഋ廖㠁猠焋䳜⠂厬䀫缃巯㦝ྻ糦俆凧῜㼤ҫ⑐᭩ぞ℀㼢偈ڨد䡔ۨᠧ䅲Ϩ㉙Ιࠔ⌽ᙦ⛅ర㜴磺巠⁐৸◶筿䠘䁪灔杬ή↧হᐫ᫈─梉曰㧦剦ཱ悧ȉᢛⰿ㏳̪၆ເᘱᴊী㎧∇Р硐ਤₒ䠵㘶ආᘸŌ㫪⸕凒රゖৢ  "
   },
   "outputs": [
    {
     "data": {
      "application/vnd.jupyter.widget-view+json": {
       "model_id": "91c9a4d804c04c1196b801307bfd54a1",
       "version_major": 2,
       "version_minor": 0
      },
      "text/plain": [
       "PersistWidget(data_values=[{'__id_column': '1', 'Title': 'Super Mario 64 DS', 'Handheld': True, 'Max Players':…"
      ]
     },
     "execution_count": 81,
     "metadata": {},
     "output_type": "execute_result"
    }
   ],
   "source": [
    "PR.plot.scatterplot(df_task_1c, \"CT_MainOnly:Q\", \"Review Score:Q\")"
   ]
  },
  {
   "cell_type": "code",
   "execution_count": 82,
   "id": "0959c1a5-bb43-4c3f-ba26-b20957855f92",
   "metadata": {},
   "outputs": [
    {
     "data": {
      "text/html": [
       "<div>\n",
       "<style scoped>\n",
       "    .dataframe tbody tr th:only-of-type {\n",
       "        vertical-align: middle;\n",
       "    }\n",
       "\n",
       "    .dataframe tbody tr th {\n",
       "        vertical-align: top;\n",
       "    }\n",
       "\n",
       "    .dataframe thead th {\n",
       "        text-align: right;\n",
       "    }\n",
       "</style>\n",
       "<table border=\"1\" class=\"dataframe\">\n",
       "  <thead>\n",
       "    <tr style=\"text-align: right;\">\n",
       "      <th></th>\n",
       "      <th>Title</th>\n",
       "      <th>Handheld</th>\n",
       "      <th>Max Players</th>\n",
       "      <th>Multiplatform</th>\n",
       "      <th>Online</th>\n",
       "      <th>Genres</th>\n",
       "      <th>Licensed</th>\n",
       "      <th>Publishers</th>\n",
       "      <th>Sequel</th>\n",
       "      <th>Review Score</th>\n",
       "      <th>Sales</th>\n",
       "      <th>Used Price</th>\n",
       "      <th>Console</th>\n",
       "      <th>Rating</th>\n",
       "      <th>Year</th>\n",
       "      <th>CT_Comp</th>\n",
       "      <th>CT_MainExtra</th>\n",
       "      <th>CT_MainOnly</th>\n",
       "      <th>__annotations</th>\n",
       "    </tr>\n",
       "  </thead>\n",
       "  <tbody>\n",
       "    <tr>\n",
       "      <th>0</th>\n",
       "      <td>Super Mario 64 DS</td>\n",
       "      <td>True</td>\n",
       "      <td>1</td>\n",
       "      <td>True</td>\n",
       "      <td>True</td>\n",
       "      <td>Action</td>\n",
       "      <td>True</td>\n",
       "      <td>Nintendo</td>\n",
       "      <td>True</td>\n",
       "      <td>85</td>\n",
       "      <td>4.69</td>\n",
       "      <td>24.95</td>\n",
       "      <td>Nintendo DS</td>\n",
       "      <td>E</td>\n",
       "      <td>2004</td>\n",
       "      <td>30.0</td>\n",
       "      <td>25.0</td>\n",
       "      <td>14.5</td>\n",
       "      <td>No Annotation</td>\n",
       "    </tr>\n",
       "    <tr>\n",
       "      <th>1</th>\n",
       "      <td>Lumines: Puzzle Fusion</td>\n",
       "      <td>True</td>\n",
       "      <td>1</td>\n",
       "      <td>True</td>\n",
       "      <td>True</td>\n",
       "      <td>Strategy</td>\n",
       "      <td>True</td>\n",
       "      <td>Ubisoft</td>\n",
       "      <td>True</td>\n",
       "      <td>89</td>\n",
       "      <td>0.56</td>\n",
       "      <td>14.95</td>\n",
       "      <td>Sony PSP</td>\n",
       "      <td>E</td>\n",
       "      <td>2004</td>\n",
       "      <td>-100.0</td>\n",
       "      <td>9.75</td>\n",
       "      <td>10.0</td>\n",
       "      <td>No Annotation</td>\n",
       "    </tr>\n",
       "    <tr>\n",
       "      <th>2</th>\n",
       "      <td>WarioWare Touched!</td>\n",
       "      <td>True</td>\n",
       "      <td>2</td>\n",
       "      <td>True</td>\n",
       "      <td>True</td>\n",
       "      <td>Action</td>\n",
       "      <td>True</td>\n",
       "      <td>Nintendo</td>\n",
       "      <td>True</td>\n",
       "      <td>81</td>\n",
       "      <td>0.54</td>\n",
       "      <td>22.95</td>\n",
       "      <td>Nintendo DS</td>\n",
       "      <td>E</td>\n",
       "      <td>2004</td>\n",
       "      <td>7.25</td>\n",
       "      <td>3.33</td>\n",
       "      <td>1.83</td>\n",
       "      <td>No Annotation</td>\n",
       "    </tr>\n",
       "    <tr>\n",
       "      <th>3</th>\n",
       "      <td>Spider-Man 2</td>\n",
       "      <td>True</td>\n",
       "      <td>1</td>\n",
       "      <td>True</td>\n",
       "      <td>True</td>\n",
       "      <td>Action</td>\n",
       "      <td>True</td>\n",
       "      <td>Activision</td>\n",
       "      <td>True</td>\n",
       "      <td>61</td>\n",
       "      <td>0.45</td>\n",
       "      <td>14.95</td>\n",
       "      <td>Nintendo DS</td>\n",
       "      <td>E</td>\n",
       "      <td>2004</td>\n",
       "      <td>72.57</td>\n",
       "      <td>12.5</td>\n",
       "      <td>8.0</td>\n",
       "      <td>No Annotation</td>\n",
       "    </tr>\n",
       "    <tr>\n",
       "      <th>4</th>\n",
       "      <td>The Urbz: Sims in the City</td>\n",
       "      <td>True</td>\n",
       "      <td>1</td>\n",
       "      <td>True</td>\n",
       "      <td>True</td>\n",
       "      <td>Simulation</td>\n",
       "      <td>True</td>\n",
       "      <td>EA</td>\n",
       "      <td>True</td>\n",
       "      <td>67</td>\n",
       "      <td>0.41</td>\n",
       "      <td>12.95</td>\n",
       "      <td>Nintendo DS</td>\n",
       "      <td>M</td>\n",
       "      <td>2004</td>\n",
       "      <td>30.03</td>\n",
       "      <td>20.0</td>\n",
       "      <td>15.5</td>\n",
       "      <td>No Annotation</td>\n",
       "    </tr>\n",
       "  </tbody>\n",
       "</table>\n",
       "</div>"
      ],
      "text/plain": [
       "                        Title  Handheld  Max Players  Multiplatform  Online  \\\n",
       "0           Super Mario 64 DS      True            1           True    True   \n",
       "1      Lumines: Puzzle Fusion      True            1           True    True   \n",
       "2          WarioWare Touched!      True            2           True    True   \n",
       "3                Spider-Man 2      True            1           True    True   \n",
       "4  The Urbz: Sims in the City      True            1           True    True   \n",
       "\n",
       "       Genres  Licensed  Publishers  Sequel  Review Score  Sales  Used Price  \\\n",
       "0      Action      True    Nintendo    True            85   4.69       24.95   \n",
       "1    Strategy      True     Ubisoft    True            89   0.56       14.95   \n",
       "2      Action      True    Nintendo    True            81   0.54       22.95   \n",
       "3      Action      True  Activision    True            61   0.45       14.95   \n",
       "4  Simulation      True          EA    True            67   0.41       12.95   \n",
       "\n",
       "       Console Rating  Year  CT_Comp  CT_MainExtra  CT_MainOnly  __annotations  \n",
       "0  Nintendo DS      E  2004     30.0          25.0         14.5  No Annotation  \n",
       "1     Sony PSP      E  2004   -100.0          9.75         10.0  No Annotation  \n",
       "2  Nintendo DS      E  2004     7.25          3.33         1.83  No Annotation  \n",
       "3  Nintendo DS      E  2004    72.57          12.5          8.0  No Annotation  \n",
       "4  Nintendo DS      M  2004    30.03          20.0         15.5  No Annotation  "
      ]
     },
     "execution_count": 82,
     "metadata": {},
     "output_type": "execute_result"
    }
   ],
   "source": [
    "df_task_2a.head()"
   ]
  },
  {
   "cell_type": "markdown",
   "id": "efd0373e-79d1-44c0-b8bd-2002afe6684a",
   "metadata": {},
   "source": [
    "#### Pandas"
   ]
  },
  {
   "cell_type": "markdown",
   "id": "68f3529a-641b-42b1-9e4d-d51461be760f",
   "metadata": {},
   "source": [
    "#### **Instructions**\n",
    "1. **Locate Anomalous Data:**\n",
    "    - Refer to the _seaborn_ scatterplot for `Elevation_feet` vs `Vertical_inches`\n",
    "    - Write code to identify records where `Elevation_feet` is either below 2100 feet or above 13500 feet.\n",
    "3. **Remove Anomalies:**\n",
    "    - Use Pandas commands to filter out these anomalous records from the dataframe.\n",
    "4. **Generate Dataframe:**\n",
    "    - Save the cleaned dataframe as `df_task_2a`.\n",
    "5. **Plot Output:**\n",
    "    - Recreate the scatterplot from step 1 in a new cell using `df_task_2a`.\n",
    "    - Print the head of `df_task_2a`."
   ]
  },
  {
   "cell_type": "code",
   "execution_count": null,
   "id": "1e541870-4719-4bd7-bb67-75270450e783",
   "metadata": {},
   "outputs": [],
   "source": [
    "df_task_2a = df_task_1c\n",
    "\n",
    "plt.figure(figsize=(7, 5))\n",
    "sns.scatterplot(data=df_task_2a, x='Elevation_feet', y='Vertical_inches')\n",
    "\n",
    "plt.xlabel('Elevation (feet)')\n",
    "plt.ylabel('Vertical Distance (inches)')\n",
    "\n",
    "# Display the plot\n",
    "plt.show()"
   ]
  },
  {
   "cell_type": "code",
   "execution_count": null,
   "id": "0754d690-635e-4f21-b6f8-ddc0ab51b649",
   "metadata": {},
   "outputs": [],
   "source": [
    "df_task_2a = df_task_1c[(df_task_1c['Elevation_feet'] >= 2100) & (df_task_1c['Elevation_feet'] <= 13500)]\n",
    "df_task_2a.head()"
   ]
  },
  {
   "cell_type": "code",
   "execution_count": null,
   "id": "3c3fb23c-ad31-43c1-91ea-fb8952b23ae6",
   "metadata": {},
   "outputs": [],
   "source": [
    "plt.figure(figsize=(7, 5))\n",
    "sns.scatterplot(data=df_task_2a, x='Elevation_feet', y='Vertical_inches')\n",
    "\n",
    "plt.xlabel('Elevation (feet)')\n",
    "plt.ylabel('Vertical Distance (inches)')\n",
    "\n",
    "# Display the plot\n",
    "plt.show()"
   ]
  },
  {
   "cell_type": "markdown",
   "id": "b447b862-90c6-4ed7-b48b-baa1cf74ac2d",
   "metadata": {
    "__GENERATED_DATAFRAMES__": "{\"nodeDataframes\":{},\"graphDataframes\":null}",
    "show_aggregate_original": "false",
    "trrack_graph": "ᯡ࠽䈌ʀ匦㢠⹰࣠✴ƀචآ൐ୠᣠ⭎¸䚀ᶥ<⋵攴≲䦆ᨐ҅䁲䥈kᑄᄈ夒ર囇⣹嗛➎帣ᢤ䀡傠Ǘ熠㥀ॢȠா䠸ᢀ㜰䁾巒•橀樠Ꮃ䤠ව׷核ᱬ䣘紲₞૦Ԡ޳ŀ凐栠晬╍ಲ䖽䂇栢沀團ᄰ㸸ሪ喊Ⴇ♁䐔粶ᦞΎ刺ࠥ簉窺簲ᖢොሧ҉䃵ⰡḠޅ毗䘤䗾墥୚渍磆搰㣄䆯䌭䊣ᎄ䢩妈䪑䴹ҩ䋫◂რ⢒ઉ⃁⽌囦媍ኘ垤䢠䍤⒂Йᘷ੡䄀҂Ქ⃱琿啡憐㲞ၯ䌨焠ᗿ搫໎㒫ல熪Ņ⎃ऺᥛ⃄ᅠ  "
   },
   "source": [
    "## **Task 2b: Filtering Out Old Data**"
   ]
  },
  {
   "cell_type": "markdown",
   "id": "c86b30d4-4762-4bc0-bfd3-6f1486b55ad6",
   "metadata": {
    "__GENERATED_DATAFRAMES__": "{\"nodeDataframes\":{},\"graphDataframes\":null}",
    "show_aggregate_original": "false",
    "trrack_graph": "ᯡ࠽䈌ʀ匦㢠⹰࣠✴ƀචآ൐ୠᣠ⭎¸䚀ᶥ<⋵攴≲䦆ᨐ҅䁲䥈kᑄᄈ夒ર囇⣹嗛➎帣ᢤ䀡傠Ǘ熠㥀ॢȠா䠸ᢀ㜰䁾巒•橀樠Ꮃ䤠ව׷核ᱬ䣘紲₞૦Ԡ޳ŀ凐栠晬╍ಲ䖽䂇栢沀團ᄰ㸸ሪ喊Ⴇ♁䐔粶ᦞΎ刺ࠥ簉窺簲ᖢොሧ҉䃵ⰡḠޅ毗䘤䗾墥୚渍磆搰㣄䆯䌭䊣ᎄ䢩妈䪑䴹ҩ䋫◂რ⢒ઉ⃁⽌囦媍ኘ垤䢠䍤⒂Йᘷ੡䄀҂Ქ⃱琿啡憐㲞ၯ䌨焠ᗿ搫໎㒫ல熪Ņ⎃ऺᥛ⃄ᅠ  "
   },
   "source": [
    "The interactive barchart below, shows the data aggregated by year. There are noticeably fewer records for the years before 2010.\n",
    "\n",
    "During this subtask we will remove the older records, keeping only the records post 2010."
   ]
  },
  {
   "cell_type": "markdown",
   "id": "3ddf19e6-3600-4f27-b587-885ba7443360",
   "metadata": {},
   "source": [
    "### Persist"
   ]
  },
  {
   "cell_type": "markdown",
   "id": "24b308e8-8437-4146-9ebf-cd121aeb7f9f",
   "metadata": {},
   "source": [
    "#### **Instructions**\n",
    "1. **Create and Analyze Bar Chart:**\n",
    "    - Looking at an interactive bar chart in Persist showing the number of avalanches recorded each year, identify the bars showing data we want.\n",
    "2. **Interactive Year Selection:**\n",
    "    - Use a brush to interactively select and remove appropriate records.\n",
    "3. **Generate Dataframe:**\n",
    "    - Assign the refined dataframe to a variable `df_task_2b`.\n",
    "4. **Show Output:**\n",
    "    - Display the head of `df_task_2b` to verify the removal of earlier years."
   ]
  },
  {
   "cell_type": "code",
   "execution_count": 83,
   "id": "6488acb7-e239-4d7e-92ef-3e9d74c3d823",
   "metadata": {
    "__GENERATED_DATAFRAMES__": "ᯡࠣ䅬Ԁ朤壠ᜣ琢〹夠炠⹰〮⁁䁻қ䚾ኊ㇠നСࠩ瀮晼Ƭ穅5愠៩䍒⊂ᠡ囨¸¬砫傷ᓁᕖ→午Ė͈煲⦀ԅ•枺䖺恍Kᢠᬥ揻挓๏Ⱒᣐ绶࢔ךᔵࣀ⍘䂸㲢⡈Чԣ䂊䂦⊺⥂壤ନ[᧱揭㙆ڤͱฮ咂⎄㗪嶌瀩䝺Ꮈ᧰戾∼ã䌧䀦檣玐‰ୌ༶ᴢ̸瀦ヶ緍ଡ଼䝥⡥⟋પⵡ䑸ϰᮬၤ᭄ኧ䚼①冨曬琈ᣛ⋂䆀呌㝑Ŷ奪ṇ䱷Ֆ᢯ཇ䡂චᱡ䔚޳村䁀-䈬ᨔWㄷะ呀3ΩჀ⧜䌱琸٬ⴀƔ戰஡厂碢ㄠㇲ䱄ၱ⌁匰ၡ懡ࡪ࿎䇠磴ʎᚠૅ㊭⛲紾!㙀㠼Ṓ䀠㱑䞸删Ť‱ප悲撨չᩬⴋᦸ柒ᴛ␨儨ぽ㉡㙰瀡䨨盺౏加春䐠⇃ࡡㅏ෪⣕੗ᑈ珀Ĩᑎࢍ╲帾㖂‥㜾礪⁴ฦ䬭⌮አ㈩㋛⦪抑属ᜮ䊲㢱Ѥ  ",
    "__has_persist_output": true,
    "trrack_graph": "ᯡ࠽䈌ʀ匦㢠⹰Ǡ✴ƀপ ⴠ嘡ء声Ꭹ氫⦠䘴皃S᪍⊠ᆠو≩•ⳁႧ⋫侸峅㕺穬ⷺ㮗琲&䈠ۤ䞬ẩj࠰|㩠怣㣣ۘ䈼櫭䂃+ࣝ⠠亮␠㚨ϣ揭䉇۰㰸汜⩒ᐣ¥஢⁆愹₈倠皌ൖРோ号嬹ᄙ㨾䂲▬ਠཆɠぱ僰ಜ㊌ᤱῗ‫ㆤ墳Ѡ⒀䠩斨䈽墬ཉĐⰡ噃ኟ⛨㓀ఋ嗸ⷐ䡝ᘨᗕ屜昪㦀ԐXṽ幐཭䯤ѩ掃塨ፒȣࡄᠺʠ硰㘬ߠဠ昲ᵅⅢḢު愰ўጢ䀴偞߆扂⠻ᨆ硩甸ᇀ稼೚䉅ࣤј䅄䣄椬䭃䨅ւ䪎ҝ䴈䏫௥६᥊䯅㥾㧏攵堲䋈㍴⸠᥸挙ᩰ 䀤櫳纝‡⛡碘绒患疶弨䀢⢌⪠ጃ䂕䯇䐃礢旈◡⁨㐬ྱ扜䰪ᕡ䀸⠺⦧䮁䄥榤您廆ٵ桾巃䴄䡐᰾ࡥ၈⩒勡⨈㔷௠ࢤ㪣⟋㑚⺯⟶懰䋈湔䵡ᦼ棴Ⱓ㖦愦涖維沖东㎥斐ᶔ㠸䌠Ť汘㌍㪠倨ᦒ!⺀㼀疽溔揵瞘䃙斻搧Ł⠢Ƙ⒡௠愐ṙ捫悰]ኵ繀࠳桧圔窵᯶᳏帑㢿尕ȗ䀩㢠㰵椀㈨䢌ྥ恜ޣ⁘䴣၄ܴ愙Ϥ偁䎢⊜ᱶ悼ᄴᅄྡ␣㸲Ҧ灖ᔪǸ㐪ॳᣵ汁Ǵ惺ǲၧᎮ煎ឯ࢟勣⅀ါDಂ㸰⨪竖忠燺ḩ熜╫⦠⼀䂡ݩ態ᐡṂÑ墌ѦᡰᬆӀᗯ㤲౬ᦕ௤ฺ䐠>੦硨痣䗌⅓朤䥚╺奈焼捋䑁榬旾翨Ԑ缨秠⼠Ј䃻ᮛ繆倃䂸堵㸿䠑ᱳ໠⑉౺摒惂⮅ೠ欮ݺ㑁୚⨧Ȩ᡹搸䍐愹⎆ૡ挤撹㡲ऻ卬摋䐷ॖ䎐曪暸惗灅劺嚬枨氣Ҁ䅷̠䘨Āඈᯋ᪝┆溤ு崢欅瑊吊簠䐰湟瀈ஐ䤱䔩⇫╎❊㊌䣊瀡⋊㲆泲孤৳㨮晢ᅞ䎢笩䕒݋ౙᙣ湚❝亘亙扃丽梚坸৛㝅権侀㲚伣捘垛䶙⤷ྚὌᴛ沬刚漛劦猔ᾶલ噷擬報溧࿥昕ᖄ沵㕏嗹㫅í᷅痤ᵌ㘓ᡇļᚌ䁄ᆒණᙵ䗽ᮦ籟垌ᶿ槍ดᦥ䂻㮚ⵦࢀ碘柠悞ҳ牬䏡䡶a堦̢堮ࢫ犜䃥ಳᣇ㊡ấ‱࠲⸱湴␨қⱣ䛒㺏䰒⬆团嫂捂䮙Ÿ桊毵吕ཹ㒁啰䆌࣫涫y嫖睃䭥෾咞净᭯қ籰㮥灉寖⎈潗捃妳ጵ嚹仌梑  "
   },
   "outputs": [
    {
     "data": {
      "application/vnd.jupyter.widget-view+json": {
       "model_id": "58d082aba891410da7a787292fcd56bc",
       "version_major": 2,
       "version_minor": 0
      },
      "text/plain": [
       "PersistWidget(data_values=[{'__id_column': '1', 'Title': 'Super Mario 64 DS', 'Handheld': True, 'Max Players':…"
      ]
     },
     "execution_count": 83,
     "metadata": {},
     "output_type": "execute_result"
    }
   ],
   "source": [
    "PR.plot.barchart(df_task_2a, \"Year:O\", \"count()\", selection_type=\"interval\")"
   ]
  },
  {
   "cell_type": "code",
   "execution_count": null,
   "id": "bbc3f8a6-09fb-4338-ad2b-af9ecc1b2e79",
   "metadata": {},
   "outputs": [],
   "source": [
    "df_task_2b.head()"
   ]
  },
  {
   "cell_type": "markdown",
   "id": "8dc78231-4b97-4d4d-82ee-2a762d20e590",
   "metadata": {
    "__GENERATED_DATAFRAMES__": "{\"nodeDataframes\":{},\"graphDataframes\":null}",
    "show_aggregate_original": "false",
    "trrack_graph": "ᯡ࠽䈌ʀ匦㢠⹰Ǡ⬪兠䘤瀥䁍ᴡْ࿪Č⬭总ҡ䲤䫳⩨࣪恆ᖜæⓀŌ傰䏄懠Ɑಥ㕺۬汙㬐਺ဦ䈠ۤ嬬ሉj࠰|ℬ怣㣣ߘ䈺滣䢁6煃ᐠ৵撠۰̊ಭ伆⑶⇐呄䮃ʠϩ䂰㴔屆㹟Ե䏯柧慲డ㙐嬲ᢨҬध⷗ࡣ㌰冦氻U䫄䰷梬䐢紬䎍Sॐ囡׽ण䋔总㘠传Ϛ揿挬ᐎ汣䓼㹮ራ㈨ቺ╯慂厃૵ⴘ嘪⭓炻ࡿ⑁℘ⸯţ✘௨∑㛛㒹ᆢ匋᣹ࢸ䃡ල憰へḨ䕃䢴മ䒀夌✻䐂тྸ•嶢僙戅䢑՞ዂᏴ剶䅭槉ㆰ  "
   },
   "source": [
    "### Pandas"
   ]
  },
  {
   "cell_type": "markdown",
   "id": "b2fb76fc-6ea4-4296-8c50-39381f09d9c8",
   "metadata": {},
   "source": [
    "#### **Instructions**\n",
    "1. **Create Bar Chart with Seaborn:**\n",
    "    - Use the Seaborn plot with bar chart visualizing the number of avalanches per year. \n",
    "2. **Identify Sparse Years:**\n",
    "    - Based on the bar chart, identify years before 2010 with fewer avalanche records.\n",
    "3. **Code to Filter Out Sparse Years:**\n",
    "    - Write Pandas code to exclude these years from the dataset.\n",
    "4. **Show Output:**\n",
    "    - Print the head of `df_task_2b` and optionally recreate the bar chart to show the dataset focusing on years 2010 and onwards.\n"
   ]
  },
  {
   "cell_type": "code",
   "execution_count": null,
   "id": "b1769eaa-8327-4aba-86cb-887cb4b669f3",
   "metadata": {},
   "outputs": [],
   "source": [
    "df_task_2b = df_task_2a\n",
    "df_task_2b = df_task_2b.convert_dtypes()\n",
    "\n",
    "plt.figure(figsize=(10, 5))\n",
    "sns.countplot(x=df_task_2b[\"Date\"].dt.year)\n",
    "\n",
    "plt.xlabel('Year')\n",
    "plt.ylabel('# of records')\n",
    "\n",
    "# Display the plot\n",
    "plt.show()"
   ]
  },
  {
   "cell_type": "code",
   "execution_count": null,
   "id": "7c3a2dc3-1542-407e-a6ad-a090ecfa306d",
   "metadata": {},
   "outputs": [],
   "source": [
    "df_task_2b = df_task_2b[df_task_2b[\"Date\"].dt.year >= 2010]\n",
    "df_task_2b.head()"
   ]
  },
  {
   "cell_type": "code",
   "execution_count": null,
   "id": "de087e1d-793f-41f6-ba01-0809d0833fd7",
   "metadata": {},
   "outputs": [],
   "source": [
    "plt.figure(figsize=(10, 5))\n",
    "sns.countplot(x=df_task_2b[\"Date\"].dt.year)\n",
    "\n",
    "plt.xlabel('Year')\n",
    "plt.ylabel('# of records')\n",
    "\n",
    "# Display the plot\n",
    "plt.show()"
   ]
  },
  {
   "cell_type": "code",
   "execution_count": 84,
   "id": "c0e94f0f-6d40-4144-a112-7898433fd662",
   "metadata": {},
   "outputs": [
    {
     "data": {
      "text/html": [
       "<div>\n",
       "<style scoped>\n",
       "    .dataframe tbody tr th:only-of-type {\n",
       "        vertical-align: middle;\n",
       "    }\n",
       "\n",
       "    .dataframe tbody tr th {\n",
       "        vertical-align: top;\n",
       "    }\n",
       "\n",
       "    .dataframe thead th {\n",
       "        text-align: right;\n",
       "    }\n",
       "</style>\n",
       "<table border=\"1\" class=\"dataframe\">\n",
       "  <thead>\n",
       "    <tr style=\"text-align: right;\">\n",
       "      <th></th>\n",
       "      <th>Title</th>\n",
       "      <th>Handheld</th>\n",
       "      <th>Max Players</th>\n",
       "      <th>Multiplatform</th>\n",
       "      <th>Online</th>\n",
       "      <th>Genres</th>\n",
       "      <th>Licensed</th>\n",
       "      <th>Publishers</th>\n",
       "      <th>Sequel</th>\n",
       "      <th>Review Score</th>\n",
       "      <th>Sales</th>\n",
       "      <th>Used Price</th>\n",
       "      <th>Console</th>\n",
       "      <th>Rating</th>\n",
       "      <th>Year</th>\n",
       "      <th>CT_Comp</th>\n",
       "      <th>CT_MainExtra</th>\n",
       "      <th>CT_MainOnly</th>\n",
       "      <th>__annotations</th>\n",
       "    </tr>\n",
       "  </thead>\n",
       "  <tbody>\n",
       "    <tr>\n",
       "      <th>0</th>\n",
       "      <td>Wii Play</td>\n",
       "      <td>True</td>\n",
       "      <td>2</td>\n",
       "      <td>True</td>\n",
       "      <td>True</td>\n",
       "      <td>Action</td>\n",
       "      <td>True</td>\n",
       "      <td>Nintendo</td>\n",
       "      <td>True</td>\n",
       "      <td>58</td>\n",
       "      <td>14.66</td>\n",
       "      <td>14.95</td>\n",
       "      <td>Nintendo Wii</td>\n",
       "      <td>T</td>\n",
       "      <td>2006</td>\n",
       "      <td>-100.0</td>\n",
       "      <td>11.42</td>\n",
       "      <td>4.0</td>\n",
       "      <td>No Annotation</td>\n",
       "    </tr>\n",
       "    <tr>\n",
       "      <th>1</th>\n",
       "      <td>New Super Mario Bros.</td>\n",
       "      <td>True</td>\n",
       "      <td>1</td>\n",
       "      <td>True</td>\n",
       "      <td>True</td>\n",
       "      <td>Action</td>\n",
       "      <td>True</td>\n",
       "      <td>Nintendo</td>\n",
       "      <td>True</td>\n",
       "      <td>89</td>\n",
       "      <td>10.03</td>\n",
       "      <td>27.95</td>\n",
       "      <td>Nintendo DS</td>\n",
       "      <td>T</td>\n",
       "      <td>2006</td>\n",
       "      <td>15.5</td>\n",
       "      <td>10.0</td>\n",
       "      <td>7.0</td>\n",
       "      <td>No Annotation</td>\n",
       "    </tr>\n",
       "    <tr>\n",
       "      <th>2</th>\n",
       "      <td>Pokmon Diamond</td>\n",
       "      <td>True</td>\n",
       "      <td>1</td>\n",
       "      <td>True</td>\n",
       "      <td>True</td>\n",
       "      <td>Role-Playing (RPG)</td>\n",
       "      <td>True</td>\n",
       "      <td>Nintendo</td>\n",
       "      <td>True</td>\n",
       "      <td>85</td>\n",
       "      <td>6.77</td>\n",
       "      <td>27.95</td>\n",
       "      <td>Nintendo DS</td>\n",
       "      <td>E</td>\n",
       "      <td>2006</td>\n",
       "      <td>220.0</td>\n",
       "      <td>80.0</td>\n",
       "      <td>41.92</td>\n",
       "      <td>No Annotation</td>\n",
       "    </tr>\n",
       "    <tr>\n",
       "      <th>3</th>\n",
       "      <td>Pokmon Pearl</td>\n",
       "      <td>True</td>\n",
       "      <td>1</td>\n",
       "      <td>True</td>\n",
       "      <td>True</td>\n",
       "      <td>Role-Playing (RPG)</td>\n",
       "      <td>True</td>\n",
       "      <td>Nintendo</td>\n",
       "      <td>True</td>\n",
       "      <td>85</td>\n",
       "      <td>6.77</td>\n",
       "      <td>26.95</td>\n",
       "      <td>Nintendo DS</td>\n",
       "      <td>E</td>\n",
       "      <td>2006</td>\n",
       "      <td>220.0</td>\n",
       "      <td>80.0</td>\n",
       "      <td>41.92</td>\n",
       "      <td>No Annotation</td>\n",
       "    </tr>\n",
       "    <tr>\n",
       "      <th>4</th>\n",
       "      <td>Gears of War</td>\n",
       "      <td>True</td>\n",
       "      <td>2</td>\n",
       "      <td>True</td>\n",
       "      <td>True</td>\n",
       "      <td>Action</td>\n",
       "      <td>True</td>\n",
       "      <td>Microsoft</td>\n",
       "      <td>True</td>\n",
       "      <td>94</td>\n",
       "      <td>3.7</td>\n",
       "      <td>19.95</td>\n",
       "      <td>X360</td>\n",
       "      <td>M</td>\n",
       "      <td>2006</td>\n",
       "      <td>15.0</td>\n",
       "      <td>11.0</td>\n",
       "      <td>9.0</td>\n",
       "      <td>No Annotation</td>\n",
       "    </tr>\n",
       "  </tbody>\n",
       "</table>\n",
       "</div>"
      ],
      "text/plain": [
       "                   Title  Handheld  Max Players  Multiplatform  Online  \\\n",
       "0               Wii Play      True            2           True    True   \n",
       "1  New Super Mario Bros.      True            1           True    True   \n",
       "2         Pokmon Diamond      True            1           True    True   \n",
       "3           Pokmon Pearl      True            1           True    True   \n",
       "4           Gears of War      True            2           True    True   \n",
       "\n",
       "               Genres  Licensed Publishers  Sequel  Review Score  Sales  \\\n",
       "0              Action      True   Nintendo    True            58  14.66   \n",
       "1              Action      True   Nintendo    True            89  10.03   \n",
       "2  Role-Playing (RPG)      True   Nintendo    True            85   6.77   \n",
       "3  Role-Playing (RPG)      True   Nintendo    True            85   6.77   \n",
       "4              Action      True  Microsoft    True            94    3.7   \n",
       "\n",
       "   Used Price       Console Rating  Year  CT_Comp  CT_MainExtra  CT_MainOnly  \\\n",
       "0       14.95  Nintendo Wii      T  2006   -100.0         11.42          4.0   \n",
       "1       27.95   Nintendo DS      T  2006     15.5          10.0          7.0   \n",
       "2       27.95   Nintendo DS      E  2006    220.0          80.0        41.92   \n",
       "3       26.95   Nintendo DS      E  2006    220.0          80.0        41.92   \n",
       "4       19.95          X360      M  2006     15.0          11.0          9.0   \n",
       "\n",
       "   __annotations  \n",
       "0  No Annotation  \n",
       "1  No Annotation  \n",
       "2  No Annotation  \n",
       "3  No Annotation  \n",
       "4  No Annotation  "
      ]
     },
     "execution_count": 84,
     "metadata": {},
     "output_type": "execute_result"
    }
   ],
   "source": [
    "df_task_2b.head()"
   ]
  },
  {
   "cell_type": "markdown",
   "id": "db8fdc8b-168e-40e2-861c-d23095a4a8d8",
   "metadata": {},
   "source": [
    "## **Task 2c: Identifying frequently failing `Weak Layers` for avalanches triggered by _'snowboarders'_ and _'skiers'_**"
   ]
  },
  {
   "cell_type": "markdown",
   "id": "4950defa-280e-4ec5-b59d-c3cd7e2ebcbe",
   "metadata": {},
   "source": [
    "### Persist"
   ]
  },
  {
   "cell_type": "markdown",
   "id": "dd956e34-f1c9-40d3-8702-a2a84e304ca9",
   "metadata": {},
   "source": [
    "#### **Instructions**\n",
    "1. **Linked Bar Charts:**\n",
    "    - You will start with two linked interactive bar charts: one for `Trigger` and another for `Weak Layer`.\n",
    "    - Both bar charts show `count` for their respective category.\n",
    "    - You can click on a trigger in the `Trigger` bar chart and the `Weak Layer`' bar chart dynamically updates to show only occurrences corresponding to the selected triggers.\n",
    "2. **Interactive Selection:**\n",
    "    - Interactively select triggers and use the updated `Weak Layer`.\n",
    "3. **Identify the most frequent failure point:**\n",
    "    - Analyze the filtered 'Weak Layer' bar chart to determine the most frequently failed layers for selected category and make a note in a markdown cell about both the name of the layer and frequency.\n",
    "4. **Generate Dataframe and Output:**\n",
    "    - You will not generate any dataframe for this task. NOTE: Please save the notebook after you are finsihed with interactions. "
   ]
  },
  {
   "cell_type": "code",
   "execution_count": 105,
   "id": "5aef4ea0-bf81-42be-a35a-23e56081f77e",
   "metadata": {
    "__GENERATED_DATAFRAMES__": "ᯢ粠 ",
    "__has_persist_output": true,
    "trrack_graph": "ᯡ࠽䈌ʀ匦㢠⹰ೠ↬΀Ơ捬ԀୠᶠݖŸ䐢捲䩤ɐࣦ㪠暵卩斄Ő䬑㉪2攩њᙜ䋄ᗉ桖㎉混徰䢰Tဠ㛜ㄯ␢⡠䀢矲̠෦్戰䭖瞐{䘺䀢㭙အ婀⡪ളসⳅ͂㋳偸䒈⩬ᄬᬠ䥠ⓡრ䑨†崣⇃哩ච㗢׃Ⲁ倠祐ራႠ䁢憁倰⡰㐦{ౕ䴬∦䌤䎯ႍⷤ䐰奨প怭㘻․㝢┠弣༜掭஭て⻍愆コ欠➠Ǿ眃熥悏ṁ扎㬧ദ㍀⁩ᩣЕ㡒Υ䤱桡ᚩݐ㐸᪭䃰摈ҥ΄ⰮԦ⇸佷婧⨵രą␸ᅈ䙏⋱煤䚬䫅楬孋䰅նᣂ֢湺㩋੒ॄ䴢䧅ᐬ䭃䨄Ղ们ㅐ啗,啒㺭ᐠAゕ᾿涁毮¤ܣ䂕X姤ࡀ٪怆燡᪫䯫琘䅅䱅䣰㑼ড怨䑪آ䍒㑪ά憰䴰榮䅑р斯઴ڇ䞌狘㈬ܯ䌱摊ᚯ≑Ⲗࢥ愐籡ᡪ憙疍㗎檕崶ክ䆰⑖҆ᡬ℉嚀桍廵嶁ƌ㭝嬄㥬ų崉㰌٘ባ!∼ూ狚䁰й㤠Îぞ翕侎ڻ樦ዾ၆㶁砡₈⨠䆾椰ⴖᦐ箦ヶ磲'勾柰愾㯥桴㝨燞࿭憞`篾X֢̰஡㯴ᠨ瘬䊀⠮࠰ᐸᣂሸᠰ氢⪰ĢⰔ扊ΔĲ䨈㡚⇀⠪␞欰ט⁓ѡぐ⒢᭬Ǻ傽掼㾠θ畀Ꮘ1nြಾ䱠Ψ〠ˏ抔澠▜⁈伲湙䊲恌侲䩪䭲݁曄汻䄂屪ਃ䁸͡⌰䲣⻕䂠ڌड濛ം瘣瘂‰ෙ纒࠲漨┠⟘䇭⩬!渠Ὥ䇸฼⊸⠪灅့᠅椸柠睰㫊ဠष䞛坪⫑拢奆瀹ᝆᔅ᫄Ⳳ䞆̀唆䌎ᄵÆ1མ฀㋰ᆥƁᾚ瓻ކ檏ਓ㺅庀怮ൂ撜惁அ੹吪敹㑺毂未䔃Ķ୚綟⠻Ͱ渺桨洹ᡸ桦⠤毣ጡ઺ঞ╁屧倹̰昸⍈挹捿墸ǀ㓈䲀∠㖈᷉産Ⳕ䵚亊ⶒ律汇Ԉ䁈ᗋ嵟࠳ʋ候㴼摋楘䙈妊ᕈ敮⽈礶౲橦擳᭤Ǳ㩖楠Ц`䡾湒♡掃ݥ䢛䝩毓侃佛䑓䏚ཱུ欢㞍擘䅓杯ཱི悘朵析Ḧ嵀὇潗ł呔䁤ẓᄐ尧⋀䐧ゞთ恿㸄ⰨűࡍᲂṮ倠⧬ᚵ㐠┫ಓ⻬ܝ滸ⵢ籼〃媒樣纏娢䔐㵓⇬ܯᇬ㮯਒㨫炊㽯㿆㮓姠㹏㛀㻡☛䝏ᗺʮ᙮喯燲㰺෻序⍺঒熔䘚Яi䇖ш㑍Ӡɔ㓤঱ʡ㠴ͨ᰻Ǡ⑆ڊ武汔⹖淺湞澱ֲ䅍⩙ヱ嗖䏍≕泉䂠䛅⻪悓Șୂ䌶ણᚕӌ䴣ⱚཹ㔨砢ƻ䅚ᅝ⑕㴸㔚濏ನ恠⦭ᠮࠠ "
   },
   "outputs": [
    {
     "data": {
      "application/vnd.jupyter.widget-view+json": {
       "model_id": "331fb471bcea44e999e76103886e9bf4",
       "version_major": 2,
       "version_minor": 0
      },
      "text/plain": [
       "PersistWidget(data_values=[{'__id_column': '1', 'Title': 'Wii Play', 'Handheld': True, 'Max Players': 2, 'Mult…"
      ]
     },
     "execution_count": 105,
     "metadata": {},
     "output_type": "execute_result"
    }
   ],
   "source": [
    "pts = alt.selection_point(name=\"selector\", encodings=['x'])\n",
    "\n",
    "base = alt.Chart(df_task_2b).encode(y=\"count()\")\n",
    "\n",
    "\n",
    "publishers = base.mark_bar().encode(\n",
    "    x=\"Publishers:N\",\n",
    "    color=\"Publishers:N\",\n",
    "    tooltip=\"count()\"\n",
    ").transform_filter(pts)\n",
    "\n",
    "genre = base.mark_bar().encode(\n",
    "    x=\"Genres:N\",\n",
    "    color=alt.condition(pts, \"Genres:N\", alt.value(\"#ddd\")),\n",
    "    tooltip=\"count()\"\n",
    ").add_params(pts)\n",
    "\n",
    "chart = alt.hconcat(\n",
    " genre , f\n",
    ").resolve_scale(\n",
    "    color=\"independent\",\n",
    ")\n",
    "\n",
    "PR.PersistChart(chart, data=df_task_2b)"
   ]
  },
  {
   "cell_type": "markdown",
   "id": "e3f44925-7703-4844-98ee-d1280f0b10e5",
   "metadata": {},
   "source": [
    "**Task 2c Notes:**\n",
    "\n",
    "- Racing -> EA (10)\n",
    "- RPG -> SquareEnix (14)"
   ]
  },
  {
   "cell_type": "markdown",
   "id": "e8d12c10-edb7-4c5f-82a9-ca160de89a51",
   "metadata": {},
   "source": [
    "### Pandas"
   ]
  },
  {
   "cell_type": "markdown",
   "id": "9eda516c-ca0c-4ecc-bd48-e40287c4193d",
   "metadata": {},
   "source": [
    "#### **Instructions**\n",
    "1. **Identify Predominant Weak Layer:**\n",
    "    - Determine the most common weak layer for these `Snowboarder` and `Skier` triggers for the data.\n",
    "2. **Output:**\n",
    "    - Note in markdown cell both the name of the layer and frequency for each of the above trigger."
   ]
  },
  {
   "cell_type": "code",
   "execution_count": null,
   "id": "d5e7aebd-b709-4b35-80c3-a7c872de6b58",
   "metadata": {},
   "outputs": [],
   "source": [
    "df_task_2b.head()"
   ]
  },
  {
   "cell_type": "code",
   "execution_count": null,
   "id": "aa43696d-904e-4531-9972-551cab614735",
   "metadata": {},
   "outputs": [],
   "source": [
    "snowboarders = df_task_2b[df_task_2b[\"Trigger\"] == \"Snowboarder\"]\n",
    "snowboarders.head()"
   ]
  },
  {
   "cell_type": "code",
   "execution_count": null,
   "id": "cfd93315-4921-4c23-865b-814c02530bcf",
   "metadata": {},
   "outputs": [],
   "source": [
    "skiers = df_task_2b[df_task_2b[\"Trigger\"] == \"Skier\"]\n",
    "skiers.head()"
   ]
  },
  {
   "cell_type": "code",
   "execution_count": null,
   "id": "9e11cad5-70a5-47ce-a4a1-86a1d989d057",
   "metadata": {},
   "outputs": [],
   "source": [
    "snowboarders[\"Weak Layer\"].value_counts().sort_values(ascending=False)"
   ]
  },
  {
   "cell_type": "code",
   "execution_count": null,
   "id": "046ae661-d569-4f67-b02e-188b2b6f1670",
   "metadata": {},
   "outputs": [],
   "source": [
    "skiers[\"Weak Layer\"].value_counts().sort_values(ascending=False)"
   ]
  },
  {
   "cell_type": "markdown",
   "id": "052071fd-2755-4c50-b65b-d4ade860d910",
   "metadata": {},
   "source": [
    "- snowboarders -> New Snow/Old Snow Interface    (31)\n",
    "- skiers -> Facets                         (261)"
   ]
  },
  {
   "cell_type": "markdown",
   "id": "8a92b8a9-c3a8-4a57-be3b-c9cdc977092c",
   "metadata": {
    "__GENERATED_DATAFRAMES__": "{\"nodeDataframes\":{},\"graphDataframes\":null}",
    "show_aggregate_original": "false",
    "trrack_graph": "ᯡ࠽䈌ʀ匦㢠⹰ೠ⬠沈֭⠸恍ff9昽䁮ۦ࠰汬നڀপ㈏䣹厠㬦ተ¶⡨⇱㌀ᅁ╶庳ୖ⹜簧ଭࠣ℠Έ橦औ䁅ШNႦ〡岁䏼ℭ㞁摞+㢱䨠Ԋ牠Έƕ٦枓቙ჿਸ旑䅠Ȅ恨戬പᎭె䝁净儬Ö᡻⌸䐱䘩׍宨⇓ࡱ䍲ච᫲壬จ䙤Ɲڣ圖⍞ᛡ৽ण䃔戋㘠传ϊ揿振䘌汣䓼㹮䘫㈨ቺ⩯↧ᄨXഉ⠅ㅖࢢ侸⇄僡ಖࡢҁ氣С宍劄倶䢡⍤㲂̤㚗٩䄀硂಩⍰琦ᦪ悑屾ᾨႨ㺜*瘪䋇޶⋤ᓘ犠䭳঺᥇⏰ᅠ  "
   },
   "source": [
    "## Task 3: Data Wrangling"
   ]
  },
  {
   "cell_type": "markdown",
   "id": "9da80393-7f4b-4115-a4d1-5b7978e11358",
   "metadata": {
    "__GENERATED_DATAFRAMES__": "{\"nodeDataframes\":{},\"graphDataframes\":null}",
    "show_aggregate_original": "false",
    "trrack_graph": "ᯡ࠽䈌ʀ匦㢠⹰â䂬ƀᶷ琶䁋c<搔怳ଚ䠳亡䈤㉕⁖ì⺇⊨攩ᐠ▨戰㑹㧒妰囇⃹喧㝞Ţ∠桠ûு䁔䈠ॢȠந㺸ᢀ盅⻿夣•晀樠Ԃ牠Έƕ稦❳ሪὦ䰼⇑䅠Ȅ恨㙎⌯᪴䶹䈁ℓ琡㙐ᮂ⢨᢬थ⧓ࡢ㌰ሚ璋U䳘䠵欯Т縔絭Sㄭۡ۹ण䉔悊㘠传ϒ橷挣⌏ⱡ䕼庮打㈨ɼ榨慢䃂॑瑐繦┭ڼ㾬⎂厃焸牘榥ᄨ䦯ඦ嘔㗆溄⒀擒摖≦၀ⶃ㧄మޢᄴ䩍རへ∦䯧焤愷䍠Žƀ夅შ㤙༾′⪂㵩掳婊⢄  "
   },
   "source": [
    "### Task 3a: Creating and assigning 'Avalanche Season'**"
   ]
  },
  {
   "cell_type": "markdown",
   "id": "402412ae-3b84-4fec-9c01-94dd203a7b1f",
   "metadata": {
    "__GENERATED_DATAFRAMES__": "{\"nodeDataframes\":{},\"graphDataframes\":null}",
    "show_aggregate_original": "false",
    "trrack_graph": "ᯡ࠽䈌ʀ匦㢠⹰â䂬ƀᶷ琶䁋c<搔怳ଚ䠳亡䈤㉕⁖ì⺇⊨攩ᐠ▨戰㑹㧒妰囇⃹喧㝞Ţ∠桠ûு䁔䈠ॢȠந㺸ᢀ盅⻿夣•晀樠Ԃ牠Έƕ稦❳ሪὦ䰼⇑䅠Ȅ恨㙎⌯᪴䶹䈁ℓ琡㙐ᮂ⢨᢬थ⧓ࡢ㌰ሚ璋U䳘䠵欯Т縔絭Sㄭۡ۹ण䉔悊㘠传ϒ橷挣⌏ⱡ䕼庮打㈨ɼ榨慢䃂॑瑐繦┭ڼ㾬⎂厃焸牘榥ᄨ䦯ඦ嘔㗆溄⒀擒摖≦၀ⶃ㧄మޢᄴ䩍རへ∦䯧焤愷䍠Žƀ夅შ㤙༾′⪂㵩掳婊⢄  "
   },
   "source": [
    "#### **Objective**\n",
    "\n",
    "In this subtask, we'll introduce a new categorical variable named `Avalanche Season` into our dataset. This addition aims to classify each avalanche record into different parts of the avalanche season (Start, Middle, End) based on the month it occurred.\n",
    "\n",
    "Create a new category `Avalanche Season` in the dataset and assign each record to `Start`, `Middle`, or `End` of the avalanche season based on its month."
   ]
  },
  {
   "cell_type": "markdown",
   "id": "ba10e24c-fa9a-40cf-9246-98d9c20d920b",
   "metadata": {
    "__GENERATED_DATAFRAMES__": "{\"nodeDataframes\":{},\"graphDataframes\":null}",
    "show_aggregate_original": "false",
    "trrack_graph": "ᯡ࠽䈌ʀ匦㢠⹰â䂬ƀᶷ琶䁋c<搔怳ଚ䠳亡䈤㉕⁖ì⺇⊨攩ᐠ▨戰㑹㧒妰囇⃹喧㝞Ţ∠桠ûு䁔䈠ॢȠந㺸ᢀ盅⻿夣•晀樠Ԃ牠Έƕ稦❳ሪὦ䰼⇑䅠Ȅ恨㙎⌯᪴䶹䈁ℓ琡㙐ᮂ⢨᢬थ⧓ࡢ㌰ሚ璋U䳘䠵欯Т縔絭Sㄭۡ۹ण䉔悊㘠传ϒ橷挣⌏ⱡ䕼庮打㈨ɼ榨慢䃂॑瑐繦┭ڼ㾬⎂厃焸牘榥ᄨ䦯ඦ嘔㗆溄⒀擒摖≦၀ⶃ㧄మޢᄴ䩍རへ∦䯧焤愷䍠Žƀ夅შ㤙༾′⪂㵩掳婊⢄  "
   },
   "source": [
    "### Persist"
   ]
  },
  {
   "cell_type": "markdown",
   "id": "86d54d80-ef52-4630-bffb-1e04d9320384",
   "metadata": {},
   "source": [
    "#### **Instructions**\n",
    "1. **Visualization**\n",
    "    - We will work with an interactive bar chart in Persist showing the count of avalanche instances aggregated by month.\n",
    "2. **Define Season Categories:**\n",
    "    - Based on typical avalanche seasons in Utah, you will first create a new category called `Avalanche Season` using the `Edit Categories` button in the header.\n",
    "    - In the same menu you will add three options for this category -- `Start`, `Middle`, `End`.\n",
    "3. **Interactive Assignment:**\n",
    "    - Use Persist's interactive features to select each month and assign it to one of the `Avalanche Season` values (Start, Middle, End).\n",
    "    - You should use the following ranges for assigning proper categories:\n",
    "        - `Start` of Season: October, November, December, January, February\n",
    "    \t- `Middle` of Season: March, April, May,\n",
    "    \t- `End` of Season: June, July, August, September\n",
    "4. **Generate Dataframe:**\n",
    "    - Assign the updated dataset to a new variable: `df_task_3a`.\n",
    "5. **Show Output:**\n",
    "    - Print the head of the dataframe."
   ]
  },
  {
   "cell_type": "code",
   "execution_count": 132,
   "id": "63b62f4c-8841-4f6c-8011-cb2ee31c2c7b",
   "metadata": {
    "__GENERATED_DATAFRAMES__": "ᯡࠣ䅬Ԁ朤壠ᜣ琢〹夤〣䈡㥠怼䁣Ö࠯൜⓴殨⁀Ѡ➠㬪瀬え䔠ᗢO喦㉤剐Ǎ䠣ᥨष⍉⵺㙢狵噰Ȍ䙱拆啀৪⪠ࣧK;Mও䯷L柾坼眈ᱲ⯃唹掯怠ドᓍ⢢嚞ࢴਢ෢䜂ᫀ↱更㽓咠ӭ༕ℛ礌ၞ㋲㵮ᴱ洺码惔⇜昈拈䬻ፚ੯摣䄻㢀Р浰ƞТօ༏㓈烪㻋繠瞤ᇵ楳䕤ᛃ⋌夈╜⭂Ꮂ൯杭ቁ⥄ଶ☇㑽婚᠃从ᘪ拓橵વ披䉀缠畁沅⎥↑دᏩ㠁帰<撂䅘↸慒䳴ေ䘤奰ୋ̧煉⨶Ꭿ挩⇖ἕ㊩■́䬃ࠠˤܲ㺌㟤ڪ૮㨥㞤类Ⅷ悡汪單拙䉝⤱摉ᒮ㞰༓冯ፄą焤兕䅆⛼㥒仆楀㵑仂⧄緙ᆅⷴὛ䀷׌ߎ滀ê䅡ᢡ૥䖨֢惮縢㵵悴琭┅㣌㺻䄢愪㾴⾽㐬ဦᚈ嫙折樼၉⩲殆㭽䱣㨏㊝㚏ῪદჹᓐĤW⣷च挲缢ݡ泾ᘥⶓ૮ỻ杣儍ၲᄋ㇈㞿䗷㲚嶤殍⯞䷖尾䂮历䨺宆䄋潕㯼䠿氯简ޗ䪺焸泡㺊ँ板റ䩜晰฿ऀበ䴂㱘⢓砸䇊≧ڙ䴸Ġ;Юᢦऊℐ墮␠゠Ŷ†ᙴ䇠渠ϫ㡜ᷪ暈䳡で!榱㑨瀫ᥨ⣪ᖯ烪ƀƕⰠɰ䁃丠䀠ᷠ1䌦⺱暈䏥娠⟇甝ḁ㢠⥆␰௡㑅䮤ऑ䁪ὤiᦙ䈠䒎ܣ⍅䑓健ឦ倹侣ᴏᾤ▊ᝤᤆ᫧ⶓ⡊䢎෣焊 㷐産ብ〲¢澺䰄抺叴掾撂屰䪶ᑱ⵲䣍በश≀㾻ᡘ圻搘悲ቤ墳䳄猫ᣐL懔溰㎦敩፬畷ㅤనᒄ⧍ℸ篥Ɗ穲ʶۊↂ㶠ࡀᾤ嗜㾭煼⤯焌ͬⴼอৎⅮ䁲獉敏ࠫ㒏Ήむ㰫䕿ᐎ疟⢍琾瞉綛ႎ洋ࠡೃ်婠ᖨ爘ᡈ䖺᧡рภऱ㼭墴ǡd桂ቜᷲ瘐愽൸⵾␋⡿⌸䬶挆㜷拺᭼፤碰ⶸ⇃掼㉂晚碶⧊岰厴媱劼惲ᩦ冷毂⦺恌串➌启㌪䁺ż箽⃜侷猆⠥䩢䴳♂絜䦪籷䊲兖䫥ᇓ䩥繾ᚪ汵㟈㥷᪶ᷝ⩉絷ᦚ䭼暤罕欪❝劙控曹予ᚚ泐᪔哜ᯜ᣾၆哳ᩊ勠寀㋵ᵌ஢⥚mࢰ劬哦㑃̖Ⅰ㶜᛭ࡵХ∎៖簡呼簍㶇㲾篷Ş搀擻ఉ泛忌ڟ ŧ㤉᱒岅䃃喯樊ૌ㪜አד㎨䵼㉊↞Ⅶ፰อ抩疺➨椹❠㕞ଉ笵枤璒ྃ䒼熸ↄធ棐⪺‵ᱬ࢔幻䲥ŋධ㥵㏄ᠴ犺朄Ṥƕ塈᫁娋㔤㽺㒪垂⫶擑䥽峻໸㊣宛䀖㭢僖㞊⩀਌⑊嗩伛綠⫬Ⱄᒗ瞊倂幟杌㵴̼叆㢨㓵䵖揮◊≋⹉ᘱ偶ഁ๓䋃ᘡ呟۬吥䂧↕⣵嶪໢ᱜ焳؃㉋搜寨氣戔彴㶿᠉䥟橺⁒繞昬ܻ溿䀤ㆺ员ޡ础䐀㨥ᅼᔴ† ",
    "__has_persist_output": true,
    "trrack_graph": "ᯡ࠽䈌ʀ匦㢠⹰ࢀ✪倱䀼ː΀ୠᦠ慤ƀ᥺⋐ڃ䕂祠✡䘠ᡩ≺ᑮⓀŌ傰䏄旡♢嫍㵆ᚌᲙ砪ठ͢&披ٞ撠┨ࠠ⻚₀ǘ憡屢ƚ眇+⤝⠠乮␠㚽䨲䉠Ҁࡑࠡ氬么ᔩᮮᑣ䓀Œ扱ᑸ幌吮ƫᖷ䄠̉瘔ๆ⒎ệ၅փʠϩ䂱ᄤ㒞摶⹀䜹⒫∈ƌぶᐱᒸሶ㖊Ⴆ癃ϊ⁸䬠㗄政毒ೈ̙甮⬬ᑮᖢ΋㜬妧䵸Ŝ.៷㞬Ꮇ㈐䅤杍侁Ⅼ搨ไ䢀㐷ɱ䇘刪΢擈㢇ཤ傀㰱෤傐⠼┦烰䢣ɡ憌瞷楆㒀嚫檖㌔皤ⴳↂҲ⊳⑒泎⾴ᖪ務⽖䍼㙴⌷䔲撤⟬撒∾ⁱႪኹⅱ咬立䀤ॠ倠¬ƠĎ掇ࣨǬ႟ฌ㐡搠ಳ䎊壜➍䝱ʞ宝圔碜㽀⻕ШⲤ≪救ⱀ䬴兘乎⩩〸ᡈ朴䗘䣇५䓊㴧梒㡼⤦ට憨祑ࣃ儸晋໢熘繀䱂㑺㛇⻕瘚㉰涹怨䚨ൕ丆ᑂ涅㕶烶提䈖䏑愗᳄缵掓屮㴼แ䀠儦͛㯽⁈ȧ岠wᠪ祘㝯⍕甛㹀ঊ朒䈀䡴 ὄ䐨ὁ䔀⽑㖈幄䀡瑔䈩彥帿嫳㒖䇱ć*ǎЫĨⰖ䇎خ䊚ऩ↲ᒐᓼᎦቤᲃ⁐ઢ䂜̈́炌Ƭ烸䣧ᒜႢ慚ܬ䢸ɤ䆾嘩漓堖⇿ᡭ㣂㛣䂼ိ℡匪㔊⡕㢎䰠竰㦲泟 ˠ䫣ᡐơ঵噡圄໑倭䕦㜊ි棢Ε咮ȴ䐻剖䛼ᙗ倩䪦⛉䌢္䭑暙䃗ਲᗧ祄ٓ䙁⥑♊䵔䖹劦曙彑悥䝶ᠰ䐤ᩆ䳴媠▃ⳮ䀦⦘筪慚捪恠⭫❚嵟➚噱戚ိӠైᥔრᄤධ㐰ᐥɤ㢥र㡫䅰㢡䣊㲮䋄㊺氀㰭͆⋳窶Ǌ⢒⹮⬒璩⨪㕣⪪浰㞖皫儔㺠ㄮɭǤ⦦㇬䡺㥌㧭ヾ◥㤼⟢熎儺玾ᯠ章Ꮼ笎䡱硜㴾秃䶹筜㟶䫘⿧箱㿣㏩ဿӼ䉊٩宾㣡敕ⓩ䩕捵楛Ҡ䁄┺嬨䓳ᫌá嚄༳奒⁕⛐△જԓ檄䖱䑜୓ိူೠ癰⨵௄汫τ㐾ᩤ嘦ɰᐯǤሯɰ婒䆁⍋戜h୘୊摉᭚媰筊䉙攩姈図ₖ䅀懴࡫ႎ並㗭ׇōᰥ㜅痖㕈淖ᣂ㰿㘽䡢⭭姞㙍旓ेᘥᶍ䃝ḍϓ堸嵴垵卢欺↌͚統搘ᐦ棠ᛍ咕瑐ᦕ睳欕㬿垶⇄㜦弢㞦ᖄ䆀ࢦ䊋盨潰渥䀴Ⲯἆ渦ƀ炦®渢↌ዬ᮶Ⓟᜥ⠱ᦥ䳂ᕥ峆ᐵ⋉瑒ỵ癀绣痤ᰲሰथ絩怦᧬売⺭嬯〮Ȼ圴ᮎ᱔䂤㙜叧硈榙垲͑匧㇞猃⑇䅩ц桂ᜟ䇭㡼䲀ᐪ⧌塩ल䥕䐶ྯ晬戙淦ś寚◙ܡᔨᅺโဪ⊂⣍⋵慂ቁेh牤䐼ŀ㰏䁫⎱䐦Ȇ客灘லḣ䱳䟖䞊㉎榅噦⅝囐網䉖⪡㘭ތ洩犁撠␣㦘ᆙ䡅Ï£⽱擾䃃幙保߸簲䱠ዜ秘猑⩏ਖฏ₞ឨŀ緑ᡆ汁䂵⒠㝪嚎昿ᱽ⛐㚷巺劚ߋ匯េ窑珄ⵍề䥕ℳ䆬ੈ㑣਀Ɱ摜Ӥ呥䁌ڠ夫Òछ暼⊐ᨦ灃坞㋧⓱恼燨嵶奚㛉w⻴枊甐柋沏⁙̯籨˺⡐ࠝ⨣Āぼ㴦ِᛙ㡓㠰┺㙞爾ቓ₫愠ⲅ壸᤬‥磺༸㽑ө᤬獜ᐁᨾኢጤీⱻ喦␫各眪˪ແᦆא⃌ᑵՌ冚≞篤ᒖᝳ扤䘡恤ಹᠩ᧭坈ួ妭Ʈ㮓ᙑ瞊㆒ญ疯淌㗩ϝ䓴⎬⁪Ү䚹䳭ဢ浜党⿄穿␬耓䒁䴹磇⒢圱䋕剸᷇䖗❈罬೹⤹ㆼ⪚䈠畤惰㷃ഠ̨*䀣琠ᙥơ௃瑃倠՗˕㭰 Ӂ梃⃒笪ၭ杴⩰ᆭ׶∧场ຆ灏⣉䦺炐ʋ㜦厇䑁汍Šᨣ怬所楴䒴ǲ琥8ଢㄧ⛑㽪怢Ѿᰦᦇ投斵抷䏥≹ფ澮漤䯾⒴㻃䉃璱䥖㰛廀燤⽮⪢љ⧢㥌ᤢ᝕㥞㌀憮珼㷪糧䵡䐱䅗䈒灋琐㐢ࡡ᫔ᅕ࣠⣁䂩ᠰऀɏ䳹䡨碐ᝂ啓僁ుᆌ嚩孱䧝䴱㩸徘ែ勐續汾凥䣊ᔹ䱠嬤Ạ࡙Ƒๆ☭ୠม⣟兣ੵ੨䌴憄ᅺ巈㫐ʕ浌ࢭ\".乱尯Ȇ䢁㈺˰ᙧ䵍䠕䃹㓡徉弬䙈症㡟఩悸ণ亭㎡䍼扃㳤䓠ԣ☾ග劋㖟e䱝書㑂伫䜐硂䁝犨㦅堦Э㼪巀҆☬ረ绶ᵸ͚炄ͣ⠠ྊ➜猭戆㠁昡懸磲㤀⏹拤᫱儠⏶灔婂⡵㫨杢⤕໱屧処ḉᙓ僡ഺ㨻䆘桯㌐乴᧣ᰧ汥ⱜ㫏匤堿憏ม㱕埞䑸繓ᄁ⑎௦┌晵汬⫐奢䌛ᖩ㥠珑གྷ旾⒠砣㡭偡㍮㘆唤ᚵ⅍㋴䠫柳嗀䣦❙䊘溆皎ㆉ塍ᆷᯅ嫡ஒ婶盖剽㢄尠ḻ▎滉璁幌宫歃Ⱆ䵩吉䰤䰤Њ磸᫵ᙔ㏬ᣳ⏄࡞㏊㩠㈢䋀㳤㚚沁琶ࠨҠब°▲妚棞䕹㉢喠ⵔ⩚⍀╶坪僫欕䤞ះ汃叒姍ǵખ䁰᫮嬏仸໙◻ڗᤐᯙ౾⸄ㆣ焀䅿滷恁坜㷿䉢柔䴿㊥⽭矉奸嗊始坞Ꮰ僎Ք翬㘜彾盞䧹᪄䋑㶿㢏㟇ޠ敮碓畻對㦯歲ȉ䌚耚༘␄繐偏΀ᴡ䀺Ƕ娢廔ޯ夫䂑ᛗ䤢⋻䊳⦲弥䡷䎄抠垔₎楨哞᮰䬬楷㻲ဧ㯲紫⸱皌ც楩䯲筺㋮寒滙㇮‽㙝摣䯩甡࡛ρ䉀䢟䵐罠焾ྫྷᔯᇮ˃穘⫷ȏሮࠝ璁К⎧璞ᇤ絯樇Ḕ䭏䕖㕶㑦⒌ᨠ㉕䘯嘚瞺ڰ榠搙෱嬺㾀㕾祔ȍ◯❇㒙糨ಧ࢘ɠ吴泩ެ⨃掿ᢲኂѠ瀭ăႍీ㍲㙛㉞㺊書媧㝍ዹ⭦嬚垞℉㾧粣䗍ʐ猱仧ᚇЪ姺ȫ叽❘坾೜皙㳠׮硢甙㟩撤ᘲ煋⨉᫶⺟僗⋚Ꮾ穀林ࡈ兰⅄○⸸፱⚑牥㼩ᗨڂᄠᚈ䙣Đ瑄᫱⠨籥啍ᩃᇦ¹䚃㟱㈬䃒๋ᒹѷۮ瞸Ș泮昻֫⭫拱ᙬ㞺ຣⶢ䚱䓮ᴸዩᚅփ☘㣺繁ӫἸ狨♂㠃ᢹ䷢⚾熳᲻ⱚ⇿剳ᦤᏢ戔扳ȱ⑇⛬࿳⒢೸晰Փࠠ㳲晖囓ㄺ泸᛾⥳ᳯ⃁㍐㮺ੋ昡募ᚹ䚶冲ث⍧䋣ੱ㒐䴸籁䛎ਚޥ㱙懞ઃᙣ⨭᜜ルᙻ䉂ᆙ㏱㻛䱎Ɫᝋ╻⫲⅖疐ͻ簩嚚ዏ⭹౭氵䚅ΘᲩ弞懑᮳Ρ拣㑠ᱠ㜣绌Ⓞ⛒ય縠ೠば䁃ࡱӭ৒⤺ȋ㒰ᯥ㿳營砟ު繘Ǒ$砧Ŋǻ瑕㻃另盦䙏ᢋ塳䉐ڛᾓῧ壦䄛៹捠㓥ჲ⃳䚨๳♵㽠瑧ᨬ䂉ᔡܩ㓶䚂㼐倹䘬@⸒散ະ⋧ⴛ煾㺝瀿㑘埮໬⌿ቘ凭๻猌╙ݿƣࠞឨ纼㢟⚽ᤤ䆮㪴྇ࣘ桑ʋ噡Ꮹ㝵狢琷ᯨ熬⺧唀翪䡷䈆狷⟙㙕⺤ᄰ毅ᗷ⻆状㼥෨⌑ఔ峚⽲湪痣ࢧ淩⻛ੰ故̪ᨒ༰傪ᑙⲆ攧⡙⁏ऐㆤ獅৩ᤑɬ㔢儻娦൨撸㙂૔昶ᵻ昨嘸伈㼃㏣磰埯ヲ̶અᗐ⦙䪣屽抄㇧⥎䪍㒅ק毫沭犒ⷦ㥠㜍瘅ภ㜾䥹噍❄渼Ẍ䡚ਢ㥛剜䰄䌠Ն㹀ɼ捆坅䧹ֵ㭅㝟幛佄ἄཀ櫅♕㉧矼冧狈墋ⶲ᫪坟ᬻ婔᪎叟㼸Ῥ㳟㉄䪊楔უᆺᙣ焾⠭ᚣᙡ⽄働ᕅʐ㌠⣣ጀధՙℹ䞘砙㹆ঠఘ䉅㠰रत䕚灚任᛾ᥡ∢ぺ䤡⤦朥享䁔嗩൚౼畽ཚᆳ㬈ᓔ伈塏㪌นᄨ佺⹜২弧㵙᥵䦁⊆䅾◑䴝ಥᓌ∉൬䠂稼傼䓰坆㖡⡨䕣⒪獧⋃䌽┣ਠ̅䴗ᖦ歟ۏ䯐椸㱈ヾ࡫ᓧዲ㫪倨孥ɋ☻҈㽢磺ᇉ獨文͞♤俔ᶴ絓ᇺ㗳ᠡ牕急࣓ㅦ䩒⃖ೈ嶺㩐ᚕওນᩝ䲹ⶐ〄˟暙⭔⥰穓䇥⫸㽤䈸ႎ⸟ⓤ䙛敚ؒ橸䋏9ㅸ䅻䋂姅㞔以ᷱ数䚐⍹缰㥍㑑͋乚℃佑ᭊ童弗༅⢑ṍ«䪮㝆惔ᔐ盨ሴᠥּ͢䧐爳ע̤殡⃏㗶⡚䈷໔瘇⣢姴殭ኈ䢌噅䩬᪐史Ň媨䦆啄矸䃂䨟㛄恙橳ໟ㙜䬆៬礻䤄瘇㥖稜䶯዇⣋㈿╤Ģ稷啬⩙ˢ界牰ᙼ◪᝻䗔੡㴤ⵉ䇛囙ᢷ䗧Ắ䦷಴嵜ᨒ⤺嫚椫楼潨濆摌ᤢཨ呷秔ⶵ䲬䱥Ὡᨉ൲䯛孍湒殰犵㓄≲ર∶愨䣘䁀⃪䊦䁫⊠③㖯³璿⚀ᩯ«措粷Ᏹᇉ炌嚚ᦥ䱙ᇌ粆㭏␲⏰྇细桸↺䏓⯤㤫⤖᝻⹊㤼堋ᮚṏ⡙䆄㥒ⰼ墫ⷒԆ⏝䪝㖏ゑᨶ礞Ǣ巴惁畩䑚盔㈤畨䍚䉁廋ׇȠ  "
   },
   "outputs": [
    {
     "data": {
      "application/vnd.jupyter.widget-view+json": {
       "model_id": "1f7d96230c944f399b0cd52b102dbc64",
       "version_major": 2,
       "version_minor": 0
      },
      "text/plain": [
       "PersistWidget(data_values=[{'__id_column': '1', 'Title': 'Wii Play', 'Handheld': True, 'Max Players': 2, 'Mult…"
      ]
     },
     "execution_count": 132,
     "metadata": {},
     "output_type": "execute_result"
    }
   ],
   "source": [
    "PR.plot.scatterplot(df_task_2b, \"CT_MainOnly:Q\", \"Review Score:Q\")"
   ]
  },
  {
   "cell_type": "code",
   "execution_count": 148,
   "id": "3ceea44e-38de-4938-842d-35cefe3fdc5e",
   "metadata": {},
   "outputs": [
    {
     "data": {
      "text/html": [
       "<div>\n",
       "<style scoped>\n",
       "    .dataframe tbody tr th:only-of-type {\n",
       "        vertical-align: middle;\n",
       "    }\n",
       "\n",
       "    .dataframe tbody tr th {\n",
       "        vertical-align: top;\n",
       "    }\n",
       "\n",
       "    .dataframe thead th {\n",
       "        text-align: right;\n",
       "    }\n",
       "</style>\n",
       "<table border=\"1\" class=\"dataframe\">\n",
       "  <thead>\n",
       "    <tr style=\"text-align: right;\">\n",
       "      <th></th>\n",
       "      <th>Length</th>\n",
       "      <th>Title</th>\n",
       "      <th>Handheld</th>\n",
       "      <th>Max Players</th>\n",
       "      <th>Multiplatform</th>\n",
       "      <th>Online</th>\n",
       "      <th>Genres</th>\n",
       "      <th>Licensed</th>\n",
       "      <th>Publishers</th>\n",
       "      <th>Sequel</th>\n",
       "      <th>Review Score</th>\n",
       "      <th>Sales</th>\n",
       "      <th>Used Price</th>\n",
       "      <th>Console</th>\n",
       "      <th>Rating</th>\n",
       "      <th>Year</th>\n",
       "      <th>CT_Comp</th>\n",
       "      <th>CT_MainExtra</th>\n",
       "      <th>CT_MainOnly</th>\n",
       "      <th>__annotations</th>\n",
       "    </tr>\n",
       "  </thead>\n",
       "  <tbody>\n",
       "    <tr>\n",
       "      <th>0</th>\n",
       "      <td>Short</td>\n",
       "      <td>Wii Play</td>\n",
       "      <td>True</td>\n",
       "      <td>2</td>\n",
       "      <td>True</td>\n",
       "      <td>True</td>\n",
       "      <td>Action</td>\n",
       "      <td>True</td>\n",
       "      <td>Nintendo</td>\n",
       "      <td>True</td>\n",
       "      <td>58</td>\n",
       "      <td>14.66</td>\n",
       "      <td>14.95</td>\n",
       "      <td>Nintendo Wii</td>\n",
       "      <td>T</td>\n",
       "      <td>2006</td>\n",
       "      <td>-100.0</td>\n",
       "      <td>11.42</td>\n",
       "      <td>4.0</td>\n",
       "      <td>No Annotation</td>\n",
       "    </tr>\n",
       "    <tr>\n",
       "      <th>1</th>\n",
       "      <td>Short</td>\n",
       "      <td>New Super Mario Bros.</td>\n",
       "      <td>True</td>\n",
       "      <td>1</td>\n",
       "      <td>True</td>\n",
       "      <td>True</td>\n",
       "      <td>Action</td>\n",
       "      <td>True</td>\n",
       "      <td>Nintendo</td>\n",
       "      <td>True</td>\n",
       "      <td>89</td>\n",
       "      <td>10.03</td>\n",
       "      <td>27.95</td>\n",
       "      <td>Nintendo DS</td>\n",
       "      <td>T</td>\n",
       "      <td>2006</td>\n",
       "      <td>15.5</td>\n",
       "      <td>10.0</td>\n",
       "      <td>7.0</td>\n",
       "      <td>No Annotation</td>\n",
       "    </tr>\n",
       "    <tr>\n",
       "      <th>2</th>\n",
       "      <td>Long</td>\n",
       "      <td>Pokmon Diamond</td>\n",
       "      <td>True</td>\n",
       "      <td>1</td>\n",
       "      <td>True</td>\n",
       "      <td>True</td>\n",
       "      <td>Role-Playing (RPG)</td>\n",
       "      <td>True</td>\n",
       "      <td>Nintendo</td>\n",
       "      <td>True</td>\n",
       "      <td>85</td>\n",
       "      <td>6.77</td>\n",
       "      <td>27.95</td>\n",
       "      <td>Nintendo DS</td>\n",
       "      <td>E</td>\n",
       "      <td>2006</td>\n",
       "      <td>220.0</td>\n",
       "      <td>80.0</td>\n",
       "      <td>41.92</td>\n",
       "      <td>No Annotation</td>\n",
       "    </tr>\n",
       "    <tr>\n",
       "      <th>3</th>\n",
       "      <td>Long</td>\n",
       "      <td>Pokmon Pearl</td>\n",
       "      <td>True</td>\n",
       "      <td>1</td>\n",
       "      <td>True</td>\n",
       "      <td>True</td>\n",
       "      <td>Role-Playing (RPG)</td>\n",
       "      <td>True</td>\n",
       "      <td>Nintendo</td>\n",
       "      <td>True</td>\n",
       "      <td>85</td>\n",
       "      <td>6.77</td>\n",
       "      <td>26.95</td>\n",
       "      <td>Nintendo DS</td>\n",
       "      <td>E</td>\n",
       "      <td>2006</td>\n",
       "      <td>220.0</td>\n",
       "      <td>80.0</td>\n",
       "      <td>41.92</td>\n",
       "      <td>No Annotation</td>\n",
       "    </tr>\n",
       "    <tr>\n",
       "      <th>4</th>\n",
       "      <td>Short</td>\n",
       "      <td>Gears of War</td>\n",
       "      <td>True</td>\n",
       "      <td>2</td>\n",
       "      <td>True</td>\n",
       "      <td>True</td>\n",
       "      <td>Action</td>\n",
       "      <td>True</td>\n",
       "      <td>Microsoft</td>\n",
       "      <td>True</td>\n",
       "      <td>94</td>\n",
       "      <td>3.7</td>\n",
       "      <td>19.95</td>\n",
       "      <td>X360</td>\n",
       "      <td>M</td>\n",
       "      <td>2006</td>\n",
       "      <td>15.0</td>\n",
       "      <td>11.0</td>\n",
       "      <td>9.0</td>\n",
       "      <td>No Annotation</td>\n",
       "    </tr>\n",
       "  </tbody>\n",
       "</table>\n",
       "</div>"
      ],
      "text/plain": [
       "  Length                  Title  Handheld  Max Players  Multiplatform  Online  \\\n",
       "0  Short               Wii Play      True            2           True    True   \n",
       "1  Short  New Super Mario Bros.      True            1           True    True   \n",
       "2   Long         Pokmon Diamond      True            1           True    True   \n",
       "3   Long           Pokmon Pearl      True            1           True    True   \n",
       "4  Short           Gears of War      True            2           True    True   \n",
       "\n",
       "               Genres  Licensed Publishers  Sequel  Review Score  Sales  \\\n",
       "0              Action      True   Nintendo    True            58  14.66   \n",
       "1              Action      True   Nintendo    True            89  10.03   \n",
       "2  Role-Playing (RPG)      True   Nintendo    True            85   6.77   \n",
       "3  Role-Playing (RPG)      True   Nintendo    True            85   6.77   \n",
       "4              Action      True  Microsoft    True            94    3.7   \n",
       "\n",
       "   Used Price       Console Rating  Year  CT_Comp  CT_MainExtra  CT_MainOnly  \\\n",
       "0       14.95  Nintendo Wii      T  2006   -100.0         11.42          4.0   \n",
       "1       27.95   Nintendo DS      T  2006     15.5          10.0          7.0   \n",
       "2       27.95   Nintendo DS      E  2006    220.0          80.0        41.92   \n",
       "3       26.95   Nintendo DS      E  2006    220.0          80.0        41.92   \n",
       "4       19.95          X360      M  2006     15.0          11.0          9.0   \n",
       "\n",
       "   __annotations  \n",
       "0  No Annotation  \n",
       "1  No Annotation  \n",
       "2  No Annotation  \n",
       "3  No Annotation  \n",
       "4  No Annotation  "
      ]
     },
     "execution_count": 148,
     "metadata": {},
     "output_type": "execute_result"
    }
   ],
   "source": [
    "df_task_3a.head()"
   ]
  },
  {
   "cell_type": "markdown",
   "id": "a9cef39d-fdc8-4865-bcbc-4702e2bfb8db",
   "metadata": {},
   "source": [
    "### **Pandas**"
   ]
  },
  {
   "cell_type": "markdown",
   "id": "3f48aaa8-7017-43de-8bd8-190ed9fe4dbd",
   "metadata": {},
   "source": [
    "#### **Instructions**\n",
    "1. **Create New Variable:**\n",
    "    - Add a new column `Avalanche Season` to the DataFrame.\n",
    "2. **Assign Category:**\n",
    "    - Using the `month` from the `Date` column assign proper values to the new category.\n",
    "    - You should use the following ranges for assigning proper categories:\n",
    "        - `Start` of Season: October, November, December, January, February\n",
    "    \t- `Middle` of Season: March, April, May,\n",
    "    \t- `End` of Season: June, July, August, September\n",
    "3. **Generate Dataframe:**\n",
    "    - Save the modified DataFrame with the new `Avalanche Season` category to `df_task_3a`.\n",
    "4. **Show Output:**\n",
    "    - Display the head of `df_task_3a` to confirm the addition and categorization of the new variable."
   ]
  },
  {
   "cell_type": "code",
   "execution_count": null,
   "id": "bd7ccdd7-fccd-44ff-b677-7146cef043c4",
   "metadata": {},
   "outputs": [],
   "source": [
    "df_task_3a = df_task_2b.copy()"
   ]
  },
  {
   "cell_type": "code",
   "execution_count": null,
   "id": "134214fa-bbe0-4502-b4d8-3498139a2620",
   "metadata": {},
   "outputs": [],
   "source": [
    "df_task_3a[\"Avalanche Season\"] = \"End\""
   ]
  },
  {
   "cell_type": "code",
   "execution_count": null,
   "id": "9dcd01c0-9371-4e1d-8809-91dce6c1f830",
   "metadata": {},
   "outputs": [],
   "source": [
    "df_task_3a.head()"
   ]
  },
  {
   "cell_type": "code",
   "execution_count": null,
   "id": "a6b79dff-5762-4159-9d5a-40f498204e35",
   "metadata": {},
   "outputs": [],
   "source": [
    "df_task_3a.loc[df_task_3a[\"Date\"].dt.month.isin([10,11,12,1,2]), \"Avalanche Season\"] = \"Start\"\n",
    "df_task_3a.loc[df_task_3a[\"Date\"].dt.month.isin([3,4,5]), \"Avalanche Season\"] = \"Middle\"\n",
    "\n",
    "df_task_3a.head()"
   ]
  },
  {
   "cell_type": "markdown",
   "id": "36e82a42-5f2f-44e1-b9a5-2e2d403b2ff3",
   "metadata": {},
   "source": [
    "# **Task 3b:## **Analyzing Top Avalanche Trigger by Season**"
   ]
  },
  {
   "cell_type": "markdown",
   "id": "af40bad3-436e-426c-a02f-f205597e90b5",
   "metadata": {},
   "source": [
    "#### **Objective**\n",
    "In this subtask, we'll analyze which trigger is most prevalent for avalanches in each season phase (Start, Middle, End) using the `Avalanche Season` category created in Task 3a."
   ]
  },
  {
   "cell_type": "markdown",
   "id": "914bd750-fbc4-4d0e-aff4-b2d27be38f20",
   "metadata": {},
   "source": [
    "### **Persist**"
   ]
  },
  {
   "cell_type": "markdown",
   "id": "72455a32-623b-4b87-87d6-ca9c8ebf19e7",
   "metadata": {},
   "source": [
    "#### **Instructions**\n",
    "1. **Visualization:**\n",
    "    - We have two linked interactive bar charts: one for 'Avalanche Season' and another for 'Trigger'.\n",
    "    - You can select a category to highlight using the legend for `Avalanche Season` bar chart. The `Trigger` bar chart will dynamically update in response to your selections.\n",
    "2. **Analyze Trigger Data:**\n",
    "    - Observe the filtered `Trigger` bar chart to identify the top trigger for the selected season phase.\n",
    "    - You can hover on the bars to get the exact frequency.\n",
    "3. **Document Findings:**\n",
    "    - Note down the most common trigger for each season phase based on your interactive analysis in a new markdown cell."
   ]
  },
  {
   "cell_type": "code",
   "execution_count": 162,
   "id": "e9eaff25-74aa-4e43-abbb-19bdfef91064",
   "metadata": {
    "__GENERATED_DATAFRAMES__": "ᯢ粠 ",
    "__has_persist_output": true,
    "trrack_graph": "ᯡ࠽䈌ʀ匦㢠⹰Ӡㆪ΄悦ĸրୠೠܺ㊨˫䀦ᄢ㤒䊱ᰦヨ掮皇≧ز⠠䭈⑁棒爵Ⴥ⭧Ǔ⮖⹜簥Ҩǁ#㟣ࢊ′䈤7ࠣᠠ湐憎Ⴄ姗㈭%䲁吠৹撠۰̈ഭໆ⑚ƺᡇඃʠϩ䂰¬䱦Ṷ⎠䙭⒀Ⴠడ㙐欼⢨ܬण⻓ࡢ㌰ᄦ㱋U䋇࠳欯Т簬͍⅔㖢ϒሧډୀ䇌¾'㌗䟦ڣ棸䆨峜๘㌵䒴宱≣焁䣸┴≜㔬᢮䵦⊠ϑₔ⌫ᅀ㢄ួ㋹⒩హᄰ䚨壤ЩⳎ㒣ۣ烤㤲䇃桬ଭ䔃㣜㼰☱㲈5栶Ѯ㜬䖯䦑┡ᛆፔ㉮䥩ಠ  "
   },
   "outputs": [
    {
     "data": {
      "application/vnd.jupyter.widget-view+json": {
       "model_id": "8f2e1b8ae3554e24b43c3d31f9c1399b",
       "version_major": 2,
       "version_minor": 0
      },
      "text/plain": [
       "PersistWidget(data_values=[{'__id_column': '1', 'Length': 'Short', 'Title': 'Wii Play', 'Handheld': True, 'Max…"
      ]
     },
     "execution_count": 162,
     "metadata": {},
     "output_type": "execute_result"
    }
   ],
   "source": [
    "select = alt.selection_point(name=\"s\", fields=[\"Length\"], bind=\"legend\")\n",
    "\n",
    "base = alt.Chart(df_task_3a).mark_bar()\n",
    "\n",
    "length = base.encode(\n",
    "    x=alt.X(\"Length:N\").sort([\"Short\", \"Average\", \"Long\"]),\n",
    "    y=\"count()\",\n",
    "    color=alt.condition(select, alt.Color(\"Length:N\").sort([\"Short\", \"Average\", \"Long\"]), alt.value(\"gray\"))\n",
    ").add_params(select).properties(width=300)\n",
    "\n",
    "years = base.encode(\n",
    "    x=\"Genres:N\",\n",
    "    y=\"count()\",\n",
    "    color=\"Genres:N\",\n",
    "    tooltip=\"count()\"\n",
    ").transform_filter(select)\n",
    "\n",
    "chart = length | years\n",
    "\n",
    "chart = chart.resolve_scale(\n",
    "    color=\"independent\"\n",
    ")\n",
    "\n",
    "PR.PersistChart(chart, data=df_task_3a)"
   ]
  },
  {
   "cell_type": "markdown",
   "id": "00e87acd-3759-49eb-9e43-d7793672297c",
   "metadata": {},
   "source": [
    "**Task 3b Notes:**\n",
    "\n",
    "- Start of season -> Skiers (591)\n",
    "- Middle of season -> Natural (260)\n",
    "- End of season -> Skiers (2)"
   ]
  },
  {
   "cell_type": "markdown",
   "id": "0ea9687e-d233-4c64-ae1c-d6d8e2b3e564",
   "metadata": {},
   "source": [
    "### **Pandas**"
   ]
  },
  {
   "cell_type": "markdown",
   "id": "1de570e5-ab49-4e8f-b2b1-86b9a2701ece",
   "metadata": {},
   "source": [
    "#### **Instructions**\n",
    "1. **Analyze Triggers by Season:*\n",
    "\t- Determine the most common trigger for each season.\n",
    "2. **Present Findings:**\n",
    "\t- Note in markdown cell both the name and frequency for each trigger."
   ]
  },
  {
   "cell_type": "code",
   "execution_count": null,
   "id": "8967e8a0-84b9-4723-ab6f-c1660c7a46fb",
   "metadata": {},
   "outputs": [],
   "source": [
    "grouped_size_df = df_task_3a[[\"Avalanche Season\", \"Trigger\", \"Date\"]].groupby([\"Avalanche Season\", \"Trigger\"]).size().reset_index(name=\"counts\")\n",
    "\n",
    "grouped_size_df.sort_values([\"Avalanche Season\", \"counts\"], ascending=[True, False])"
   ]
  },
  {
   "cell_type": "markdown",
   "id": "d51a13e2-c66f-45e6-ba89-2ad0c69afa58",
   "metadata": {},
   "source": [
    "**Notes:**\n",
    "- End ->\tSkier\t(2)\n",
    "- Middle ->\tNatural\t(260)\n",
    "- Start ->\tSkier\t(591)"
   ]
  },
  {
   "cell_type": "code",
   "execution_count": null,
   "id": "1315e2c0-6cf2-45a8-ae8d-54da8ca308f0",
   "metadata": {},
   "outputs": [],
   "source": []
  }
 ],
 "metadata": {
  "__CATEGORIES_META__": "{\"categories\":{\"Avlanche Season Phase\":{\"name\":\"Avlanche Season Phase\",\"options\":{\"_None\":{\"name\":\"None\"},\"Start\":{\"name\":\"Start\"},\"Middle\":{\"name\":\"Middle\"},\"End\":{\"name\":\"End\"}}}},\"activeCategoryName\":\"Avlanche Season Phase\"}",
  "__persist_keys_record": [
   "__GENERATED_DATAFRAMES__",
   "__persist_nb_uuid__",
   "trrack_graph",
   "show_aggregate_origin"
  ],
  "__persist_nb_uuid__": "96fc8666-4608-44be-a80e-3acb15011cee",
  "kernelspec": {
   "display_name": "Python 3 (ipykernel)",
   "language": "python",
   "name": "python3"
  },
  "language_info": {
   "codemirror_mode": {
    "name": "ipython",
    "version": 3
   },
   "file_extension": ".py",
   "mimetype": "text/x-python",
   "name": "python",
   "nbconvert_exporter": "python",
   "pygments_lexer": "ipython3",
   "version": "3.8.16"
  }
 },
 "nbformat": 4,
 "nbformat_minor": 5
}
