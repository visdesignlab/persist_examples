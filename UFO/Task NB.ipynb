{
 "cells": [
  {
   "cell_type": "code",
   "execution_count": 37,
   "id": "75d9394c-8135-4d6d-b6df-2f9b323fa627",
   "metadata": {
    "trrack_graph": "ᯡ࠽䈌ʀ匦㢠⹰۠⬠昧ㅠᘢඐ୥̸᤻䁆ᕉ࠳䀱䀦ᴢᦑ㗝⨦ᨆ䕩ᐠ▴ሰ瓸礨䦰囋⃥巇㎎㸢䈠桠û牑䏱ဩ™+䑎䰠㜸ヷࡣ䵹夫怢扏⨠Ꮓ䤠ව׵樋涬䣬嵾₞ዦԠ޳Ł塱甔尠ܺặာ摋㌈ƌザ粁࡞ల൹㄰䏆უ㪬ଠ㗙㼿淲ന̚瘛䴸籾▢ᷜሧʉ䋶ⰡḠޅ䯗䘷䷾墡क़㴍硆搰ᢤ庹䮱䒃㐁墨沬⌂⸬Ԧೄ悁ℴ偬䖫䠱㠯ඉ塩焸ᅌ嬬ࣱ䐯灹乩ጣ䆢犒ኣ⇰䱶؆傉籼ၡ猐w㾰ᙘ屲♖╀熪㹅≅㡜⥜丹  "
   },
   "outputs": [],
   "source": [
    "import pandas as pd\n",
    "import persist_ext as PR\n",
    "import altair as alt"
   ]
  },
  {
   "cell_type": "code",
   "execution_count": 7,
   "id": "9b7064c0-5e18-447c-8028-e28646993a77",
   "metadata": {
    "trrack_graph": "ᯡ࠽䈌ʀ匦㢠⹰ڀᆦڀƠ嘠㠥劋䁣L䏨۩䁮ℹ橀⍉絫⯕⧨໮⦩ᐠ▴ሰ瑸碨䡲嗀擵巇㝾Ţ†浘挈䠤傡%戧☠ᮬᡫ䑁♍ⲠِÑ෵)澄䀦栢璕㫖䍄㘮巠ᩮㆢ䀣擠䡌橚ᵙἺ䶭䛯အᢔÖᢓ⥐䐴䘩ӏᢨ⃳ࣁᵔᦠ᫴婧甎ҤƜ㫝䚴⥛峡૶ण䁔懋映传ς槫挮甍Ⱡ䐼湖剃㈨ౢ❭䟧⇐夨Ⲉ䱪㤬᪦ࡧ⍢纞检ᦈ㗼䃁屋㫢⎨怩⋰㖧ـᾬ撒␸Ꮶ♁䡏⊱䜘吼ᜧ䠂Ҏ㮠֓砢䎳䕃∨ಜ䍧傑昣櫀ቔ技搠 "
   },
   "outputs": [
    {
     "data": {
      "text/html": [
       "<div>\n",
       "<style scoped>\n",
       "    .dataframe tbody tr th:only-of-type {\n",
       "        vertical-align: middle;\n",
       "    }\n",
       "\n",
       "    .dataframe tbody tr th {\n",
       "        vertical-align: top;\n",
       "    }\n",
       "\n",
       "    .dataframe thead th {\n",
       "        text-align: right;\n",
       "    }\n",
       "</style>\n",
       "<table border=\"1\" class=\"dataframe\">\n",
       "  <thead>\n",
       "    <tr style=\"text-align: right;\">\n",
       "      <th></th>\n",
       "      <th>city</th>\n",
       "      <th>state</th>\n",
       "      <th>date__</th>\n",
       "      <th>time__</th>\n",
       "      <th>shape</th>\n",
       "      <th>duration -- seconds</th>\n",
       "      <th>comments</th>\n",
       "      <th>date posted</th>\n",
       "      <th>latitude</th>\n",
       "      <th>longitude</th>\n",
       "    </tr>\n",
       "  </thead>\n",
       "  <tbody>\n",
       "    <tr>\n",
       "      <th>0</th>\n",
       "      <td>boise</td>\n",
       "      <td>id</td>\n",
       "      <td>1991-03-10</td>\n",
       "      <td>03:00:00</td>\n",
       "      <td>disk</td>\n",
       "      <td>600.0</td>\n",
       "      <td>Saucer Shaped Craft Followed Me</td>\n",
       "      <td>5/29/2012</td>\n",
       "      <td>43.613611</td>\n",
       "      <td>-116.202500</td>\n",
       "    </tr>\n",
       "    <tr>\n",
       "      <th>1</th>\n",
       "      <td>pasadena</td>\n",
       "      <td>tx</td>\n",
       "      <td>1991-11-15</td>\n",
       "      <td>19:30:00</td>\n",
       "      <td>unknown</td>\n",
       "      <td>600.0</td>\n",
       "      <td>UFO sighting in Pasadena TX in November 1991.</td>\n",
       "      <td>3/19/2009</td>\n",
       "      <td>29.690833</td>\n",
       "      <td>-95.208889</td>\n",
       "    </tr>\n",
       "    <tr>\n",
       "      <th>2</th>\n",
       "      <td>commerce</td>\n",
       "      <td>tx</td>\n",
       "      <td>1991-08-01</td>\n",
       "      <td>02:00:00</td>\n",
       "      <td>circle</td>\n",
       "      <td>120.0</td>\n",
       "      <td>spoked wheel flies in front of the moon</td>\n",
       "      <td>12/23/2002</td>\n",
       "      <td>33.246944</td>\n",
       "      <td>-95.899722</td>\n",
       "    </tr>\n",
       "    <tr>\n",
       "      <th>3</th>\n",
       "      <td>levittown</td>\n",
       "      <td>ny</td>\n",
       "      <td>1991-06-10</td>\n",
       "      <td>23:35:00</td>\n",
       "      <td>circle</td>\n",
       "      <td>300.0</td>\n",
       "      <td>My Mother her boyfriend and myself seen a spac...</td>\n",
       "      <td>3/19/2009</td>\n",
       "      <td>40.725833</td>\n",
       "      <td>-73.514722</td>\n",
       "    </tr>\n",
       "    <tr>\n",
       "      <th>4</th>\n",
       "      <td>grants (southeast of)</td>\n",
       "      <td>nm</td>\n",
       "      <td>1991-05-05</td>\n",
       "      <td>20:30:00</td>\n",
       "      <td>light</td>\n",
       "      <td>120.0</td>\n",
       "      <td>bright light travelling normal speed stops abo...</td>\n",
       "      <td>8/28/2003</td>\n",
       "      <td>35.147222</td>\n",
       "      <td>-107.850833</td>\n",
       "    </tr>\n",
       "  </tbody>\n",
       "</table>\n",
       "</div>"
      ],
      "text/plain": [
       "                    city state      date__    time__    shape  \\\n",
       "0                  boise    id  1991-03-10  03:00:00     disk   \n",
       "1               pasadena    tx  1991-11-15  19:30:00  unknown   \n",
       "2               commerce    tx  1991-08-01  02:00:00   circle   \n",
       "3              levittown    ny  1991-06-10  23:35:00   circle   \n",
       "4  grants (southeast of)    nm  1991-05-05  20:30:00    light   \n",
       "\n",
       "   duration -- seconds                                           comments  \\\n",
       "0                600.0                    Saucer Shaped Craft Followed Me   \n",
       "1                600.0      UFO sighting in Pasadena TX in November 1991.   \n",
       "2                120.0            spoked wheel flies in front of the moon   \n",
       "3                300.0  My Mother her boyfriend and myself seen a spac...   \n",
       "4                120.0  bright light travelling normal speed stops abo...   \n",
       "\n",
       "  date posted   latitude  longitude   \n",
       "0   5/29/2012  43.613611 -116.202500  \n",
       "1   3/19/2009  29.690833  -95.208889  \n",
       "2  12/23/2002  33.246944  -95.899722  \n",
       "3   3/19/2009  40.725833  -73.514722  \n",
       "4   8/28/2003  35.147222 -107.850833  "
      ]
     },
     "execution_count": 7,
     "metadata": {},
     "output_type": "execute_result"
    }
   ],
   "source": [
    "df = pd.read_csv(\"ufo.csv\") \n",
    "df.head()"
   ]
  },
  {
   "cell_type": "markdown",
   "id": "e9c2cb6a-6b7e-4395-bdff-e3aaeba41a03",
   "metadata": {
    "trrack_graph": "ᯡ࠽䈌ʀ匦㢠⹰ಀ↠ⰥㅭⰩ䁍f,簠爱弡䰺ࠨ歠療氦愖䲊祪ଲ⠠䭈⑁槒瀱ᝅ⍾䧋㮜⹜糰Ԩǁ#㍨挿≠ኤРᜰ㵐üム湁Ý㮒‥䒞吠❇ሠ᭠ே埰㢹ᅨ穈䃔ᖬਠཆɦ႐Ř夸ਮ♶ᚫǧ倥壡⳱䉀㑐␵⫤℮䱣؊᥌ö㋔㾷⑔ါ珳畔ì婶і硨ั匣⫐ʘ<䯎ᑏప்ㄢᚔ篹六䡀ㄩᚉʼ㣬⍦Ⴓᠸᡐุℶㆧ縝抢㊬ⷣӢ㳋ۢ➪硩ࠨ㞤䙀㾲憒ⒸฯɁ䢴㔮䂃ᢌℳ䜂礜₳慠Î罀Ⲓ深ᤶὅ抴ʊ仅ዔ牰搠 "
   },
   "source": [
    "## Interactive Table\n",
    "\n",
    "### Fixing column names\n",
    "\n",
    "The columns in the dataframe have some issues we need to fix:\n",
    "\n",
    "- Some of the columns in the dataframe have trailing `__` in the name.\n",
    "- One column is titled `duration -- seconds`, we should rename it to `duration_seconds`.\n",
    "- Finally we have a column called `shape`. `shape` is also an attribute on pandas dataframes. To avoid conflicts when using the column, we should change the name to `ufo_shape`\n",
    "\n",
    "## Changing data types\n",
    "\n",
    "The `ufo_shape` (previously `shape`) has the dtype of `string`. We should assign it the dtype of `category`"
   ]
  },
  {
   "cell_type": "code",
   "execution_count": 8,
   "id": "a2c2edd6-0a05-41c5-8419-30112dd77b9f",
   "metadata": {
    "__GENERATED_DATAFRAMES__": "ᯡࠣ䅬Ԁ朤壠ᜣ琢〹夤゠⹰〮⁁䁻қ䚾ኊ㇠നСࠩ瀮晼Ƭ穅5愠៩䞠ඤㄮࣈ甐ுᝉ⥚㚜䘰♰Ȍ穱拄倩敐å䖠ᦠජ恍ܚ6ㅧ城㛒ἰĀ嫚ᰡ泎匠⭟巠ӥ䆩ؓ䔤偰࠮ਧཱུĬ䙔傧ࡣ纥原⎬⋮掉爂悦ᰠ䛎瑦䕶᩵ઇギዀ⊳䰹梂གฯ⇣ϠΊ䈓㡀࠸畬⟢ᤄ಍᪘捬㆞罦佃崮欃ஒЧ紌㩀䑖␺䵘䢡⌷䲺៱⛾䚨ᷨ狀畛Ꮼ⌰想ᇇ㎵ന凃࣢㤫ᴡɐཇ䊨姄岒ᤣ戈ቡᒡ揽㣒Ƞ̩ॄ䜠ֶრ䔨ડ⓾ধ ቙๎☡Ȳᱴ᪈姒倮㊌䀪䊱␢ኝ䲏䐡஼ᅫ䑁寀堲就ு๳ۣゼ㰾໬⃸喃⋣拙睧娃䟅ᒢ㚺➲⼒ڼ⚳ആ㼠秡礄ኮ᫈દఉ⏁䐨䈪だ內Ӌນ暀凂ீݫۯ壸⃄晏㕑༌␡⠃ӿⲻ军唗↴擓⡗坊ණ渙ㅰ墠塳Ể੤݌ሱʘ搀墥䋁㸲䑁ɕ഻C悢໌㊥⼄㗚㏷䙗㘟△ ᙬ䖐❡瓲䘙璯⎫≛捉メ⮧䑦㱖⍠瀓稽䏠ᄲ䓛粔తⱭ攈䁝橫႒恨⼮#䱈㢤汸ᯬ†શᔵ⁕痝柅熅斺䞌⡾䊠氯㄰N䦥ゼᮣ烘ᙐ䠢䅲  ",
    "__has_persist_output": true,
    "trrack_graph": "ᯡ࠽䈌ʀ匦㢠⹰ৢ䀸҄惬Ǔ倶䎠㌠Ⱒഫ᙮䴨倧ᵓЮ捅Ì䝈ө䟭䁑䥈kᑄႈ妐ଷዃ❡始ގ帴ʦ䐡傠ǐ値ㆤ㵀ॢȠந↸ᢀ༰䃿岒ీ˼⒅\"㧙အ婒ᠸᐾʷ࡬ᐄ㈓⢐れظԴႽw䕕炲䳸Ⓒဠ⻁䣥憄䝤ᬩ䉈监ᠲጯڥ捄抒ᠦ⢦{ఽ䊬∡⌤䍭淤ჽ䐨䵨ᓶ怭㜸傤睂唠彣Ȓ撢䱇で⺍悶ビ㬠➠ǹ稀দए幀煛䰆㡈䭒Ȥ䧄ᠿޡ愘㨷ླᅬᑕߡ⃲♉䱄ၨ㰹ߧၸ♃ޥ磾俔䋱旺ဩ惬ᡰᢼ₱悲ᒺ⭤旒峞⡶ᓨ務⥰䋁体ᬷ䔲擊⺱版Ჾ⁷₪ኹⅵ硬獘ᘃ㡈䦠lၠ䘠ᗼ㌢൰ᧄᎈ噶愰䑕惟⫪΢ඖк淗淋?⬉᫠ྏ佶͜ジ䀣᎙妍砢⃈⸷Ⱡኌ΢愨⠮ʮ凎≃Ρ惒㰷஡䅐墮ࣣᗊ䍛悓㡜ᤦට您剅൥刈☫໤炘繀䉆❺皴ױ甚湀日⨪㸤救䱁秂瀋ⱖ䍖愣氮⏝暓䱢䯕殖ᴬ㡄䌠Ť␲᠃㱢倨ᜒƻ⇏洗㲾௡磞ࠢ洌bӡ⑪@㯭ტ㯢ㆤ㏬泺㾭ဠ㵅ᕢ⁈᝕ₔ㖭燉僕崹斣灴ㆠ䢕旣恦഑ᡴᑑ硹唢␪ׁ昿㊡䉏≌ᐾр⡉䏡ుՐ屉䐀抌ݡ⿅⃂‼ັ㤴䍢癃डᡱಸP咬娠ᙢ䏡噌௑妦槺斵㈺❥槚僮炠᭗㤦杌ᡒ䶧爜h৸⬦°椶↖Է孈ǭ⌮䴬㤈৴⎾㪵探䰼禆ᠧᯰ糰婰愤妶૪墄嫿ᡖ㘶㎪䳲䎆峯ᚸ⋰嘰勼娰䫺宵竱嫴㌡劘惆᤺Ӭ䖚焲〦ë椚斲㎦圲ᢠ㵎᪭⓹判悺ᩤေ䎰犸冄ૉ困爡䁰⅏୩䘱䅠ⸯ䋰ᴩ妡囩㙪噦⪒祫ቊ㹥⧊Ⅳ⩴暺㪔㖷吔◽ɐ㘫䟎榶㎎笷㮞䏸稼掼硼焪烼㮿㢠篶͞埯ཹ翠伞俳ม㚫犠ᱚ⎡䡂枢ࢲ䑁ᠼだ圷恑ⱅ㘹䓬ʹ瞳ߙ㭑歚惽桀敕⚘畏俁Ɵ⠹⍄ⶹ求㗦êб椮㝜禊䝍ᩙ߱ᖉ䓑㱒暡⸠䯽ር䅂દശ⸤䂩㋷ନ愾ᄆ㡧ᬨ㈾䬙缷琜䁽挥僂⪖礧奈绵℮ഴ㮈崲㣅窼ਐ珯㖰ϝ漽璬瑽䯄䍽寞癝㸺啨估強⏇喷嘢弩⬘僷߇ŝ㻇⭸㖆̺ක槳⧆㑯㩩才盥㒱憙᪍㓯㢠˥ǐਫ䌨⨿ᨐ∬䁉癢䁴癥ᇐ㺷㼜ਰ㍝᛺ᯖⳇᘆˤ眶囘咕勆姶䫊㦉఻杄᪀ᖄࡸ➦䷪h擐ີඖᾀㆠࡾᘃ᎛䏜ߢ⚏䞑›䱐⠑缭ᨳူ䉦㔐暁䋌挤⩴波ᮺ秆䮉⺱ཁ㍂再嚳⟌⛭Ⓚͨ庶䫋ヱ䁖॒ⶅ³柍⳪敜ɥ椯ݱⴱↅ㐱殏憌⇤㯦ƹޢ嫙⍈ᨥ〭⍨ణ䂸䎠籦Ƌ䱘㛄㠥಑Ր偮滨傝䋁ν⁧ୣ䜾䏲ⵥ杄Ǡ珩廻毝篾ࢯ䔘ᡙ稰☖弴᏾簆ᒭ懝ᰴ጗业࿕Ť娔⑘伀ҷ㻠沁絷⢦噑䟐壚㾣ᥱ眔䍦㑄Ġ䆦勉ນ孇ᬨ匓ᄵ畬淁䳻曠モ䁰ɪྼ፰㼲摳Ц墻ⳙʡᖷᆗ䈚廛㍗⥡᝖畚༁㩽浼睯尧俢䇌玣̀౐ఀℭٰ᢬ହ൅䄥༲ھۢ捫懦毯䘯֢⾧ϩ少⦥᪼ⵓ剒ढ⚆桌殌泣䷈䆦ⷊ䔉⃐欮ற嶇爐坐籅⎸㔷֧נ⭭愭ະ䚼槤孲壖䍙䥥ᆓӻ᥌硬Š䰦惐澕г¤䘣⠯ᒗ☢䂚Ʀ㘣Æઁ緱䆤ྨ汿䁧㾶䝀咑礇၎ᔴ⧣挂䍘粖㰘婲⁒ݜ䆼ᧃᬳ⪽䣨આⓌ搨ዄⳎٹ儬䧲ʋ寬毦㋷⵬暴ᳯ嫅䯚̢⥣樁穦勠#䶂ዅ䚠ΰ⥫⛴沊稰ᚾ壷弍ĺဤᅾᙔᚧ➜ېؼឬ烵ෝᗕ榠䴿䃖剶礏٨Ὠ䥀吃ਙ᎝क़劉ູ乨َ⽢灱俠㮵尯ᜣ⬹珱丆䆊֜稨ፂ㊜羾䆘ራظந㈁槐ॲԮ䋊ඥᨰ嚆梪磈⎃ᑦ㗜ࡈ姗勓檂䚍ᇀ⛔怸婠哗晙㓾戰宛槲♷㛲ͅ㐴㊦ኄ據⊸៑坔☰毆ᗥɠ炝㤕ᖳցఈ1᭠倠űĤʝ妠䵴寚ೲ௞ູ㍮㟲ྵ壥Ⱚ处熊夵䧽掂嵛㲂⬘亐᫤̀䙬嫖໹慱ᵼ㩊叇䟥⚒▄旔⠊甴ѓ滌㉍㊇奭圚巈Ⲡ楹Ꭴ  "
   },
   "outputs": [
    {
     "data": {
      "application/vnd.jupyter.widget-view+json": {
       "model_id": "0afeef8b7c4846f3840e07f3d0fd8c4a",
       "version_major": 2,
       "version_minor": 0
      },
      "text/plain": [
       "PersistWidget(data_values=[{'__id_column': '1', 'city': 'boise', 'state': 'id', 'date__': '1991-03-10', 'time_…"
      ]
     },
     "execution_count": 8,
     "metadata": {},
     "output_type": "execute_result"
    }
   ],
   "source": [
    "PR.PersistTable(df)"
   ]
  },
  {
   "cell_type": "code",
   "execution_count": 29,
   "id": "67e3cefa-1d97-4779-b9b7-05f4d15dc5a7",
   "metadata": {
    "trrack_graph": "ᯡ࠽䈌ʀ匦㢠⹰悃Ř倻ᴤ〡䁍.ᔈƄẎ岁ᱶ挬恛ਡ䳧冀፞ᾑአӒ䉢ڳܡ॒䫵㘊᭒䎉淯䁨:ࠠᬠ䌠⌸㸂´၀Ø瑨Α䌫㢤ይ巴6憚倡᲼䠠洠⻎佦आ㑧挊儢۶ᡈ\\䰩ண䝠˓⧒ⱙᙽM䘺悄ᄠᦢ⁋团ࠬ戸㝨斀ۑᐻ籚⇁⺯⇀ڀ㕦塀寢ₐ窸ᖕ䀳怠瑽㮙偛⬰憇ᷝ䃦ቆᖑ䄑ㇸ㴌尼慞Შ溥∇ℒ࠭䑦呢⣶Უ抭摧䰀懸⮕屠䣠䥥䂀䔬₟ૢ灨ᢌ༤⊰ᑊڧ⌰ెᖡ憑㲞ၯࠡ⼞⁠睘ㇲ㙎⏦ᒤ犤佳䥺è  "
   },
   "outputs": [
    {
     "data": {
      "text/plain": [
       "(4649, 11)"
      ]
     },
     "execution_count": 29,
     "metadata": {},
     "output_type": "execute_result"
    }
   ],
   "source": [
    "cleaned_df.shape"
   ]
  },
  {
   "cell_type": "markdown",
   "id": "e2f90a6e-6bb0-459f-92e0-963a92ef83bc",
   "metadata": {
    "trrack_graph": "ᯡ࠽䈌ʀ匦㢠⹰ೠᬡⰤᠽ䆡䲐ୢ䁮,¸䐢捠ᆺ⍪攭⍏抴Ƭ倡李⏲徲⠠䭈⑁槑爱Ⴭ❱始㭮溝Φ䒠ǁ#㋯⌸晠ኤРᝣၐüムṁǟ㤇䀥䉸攠ʓ㥀ǔÚ⎃஥䤼䒃攪懸惀ĒいCഴ䩣⠃⃃票㢥⌠ⶬ໫โˣɡ欌ሰ泤ᑱ庶怭㋊挥穃ᄠ彃჻㼫ϧぢ睤䄁ⵐۛG䀡曙砑䄑竖ဲ睧㎶ዹȥᆰ吓爈㥸᳂ຝԽ䍣͡䍓楨穓ɲ䄒穙࿡僐ᩃ䧑沄撬ળ⳦呤戦֌ཌ䦥怨戹ե倸☫۠烘帠䑁ࣤ⒠ଌત杯๧䙉ҵҾ厲婊㝫⒠捀  "
   },
   "source": [
    "## Interactive Bar Chart\n",
    "\n",
    "We have a bar chart which shows counts of ufo sightings grouped by year. We can see we have very few data points for `1998` and before. Also `2014` seems to have less data. We can remove the years with less data."
   ]
  },
  {
   "cell_type": "code",
   "execution_count": 26,
   "id": "612056d3-3a9d-48ae-b05c-b9ac334983dc",
   "metadata": {
    "__GENERATED_DATAFRAMES__": "ᯡࠣ䅬Ԁ朤壠ᜣ琢〹夦゠⹰〮⁁䁻қ䚾ኊ㇠നСࠩ瀮晼Ƭ穅5愠៩䍒㩘V䓰ᅱ瀷ⅎ⥢⪌糥♰Ȍ穱才愠ˠæ〩䀱䮚怱䁍ߑV㰇㐏䖏ᰢ㠢皡Ⲃㅕ䋫ँ䊩Ő礤偰࠮ਧཱུĬ䙔冸Źภ๻㺏姺漈矮竸⁁亮䝻ㅓ䅿ᐆ⹂㐣壭燬㔈ㄯᄮ߁憣怣㕡㧆ࡪ噕䬴崅㒐ޛⶣ令⋧ན崽掎䓓ᰍ௼Ψ㙨┯՘䝂̳䲸䆌㴶殜䑕⣷昌漹䧖㢪⋊ඇ⸞ࠥ䮂懼⊤Ϥだ㮣檁䁀楊ᢠఠ㞂ᩬᅈ⁡ᄣ懐ႂਦ䃜ᑼ᪀વ㙓ሱ㆒岦C獂ᴎ➰औ䕌ˣ橤䊦ᛥ搤䕓ᦄᑸ㋋ᄳ欥䫵㉺栄匎♻ᐴ堾工埸䢩㋽៹湳⋠঺㛻ࡎ斵暵䉼䝊⪧ᷩ癸Ạ䬠唛㼅彂㕚㛌ೄદ䊠ᝬ℡㢊㙗࿥瑰éۭ᧓Ճ䎠৆⎸䇧ၜ\"杨ኸ⥎᪢䶹偃㵄絉檍Ὥℹƭ㱠灘岅 竽睆␠ʩ庩匸䵄⁍瓥䮄㥥ᛏ䴐ᕻ瓄⬴☚佖⢔ᕪ䷍⥖㕷仔兞給撞準ⵝ㗀淗涮秅涄ઈ檚㵳⿘浪䀸紹⏐䍠溈⍈攦ᅘ潉惎⢻ጥ戢᱁̣⮄ফ❘ё⁅朐ᠯ䥣愳⊪嘨ⴰ樻ஃ偦䊈屵䱢ᔠ䱢倾䤁浩斨䁭݀玑ܠ剱乐㡪౧杆ૢ㢎ߢ炔ɨ焱Ɂ  ",
    "__has_persist_output": true,
    "trrack_graph": "ᯡ࠽䈌ʀ匦㢠⹰ˠ̪ʀᆻ䰨恍¦ù昲峳娰Ꭱ京څ᪆㕿攠㎎ⓀŌ傰䏂无≢䪭ᵦ朔෺㮕瀺戠ڤ-哞ಝ焠䨰ဠ嶔䃠Α䌣㢤̕渂6戚倡᲼䠠洩὞ᕠ໪␄Ꮁ熂⢜水ⅉᮦࡪ旧ᐃ䈡Ⱜ㨦ࠠᝯ⿀煒⇁疩Ǆ⬸ᐠṬҭ䝂㐄凐<㑨纆ጯ‫ㆢ媱ѡ⒀䡉嗐䈽墬ཉЂⰡ嚃功㛨㓀ఇ基⸒䦨嘨㖭层昦㖀ԐYώ幐抍寤ᡬ狹癲ᓬ䂡⊑ة䎱ⱬ᭏䨰ᠨ媩䍐楞弬∰粒ଧ扩⑞俎⋹⼯屯⣡േ备☈䤨喭૥煬ᅌ䫅楶ፍ䪔禜჌⣭ჷᆵࣤ焤媩旄᥌䝀ᔫ堲䋄㍵⸠ᥤ戙ᩰ 䀥㥹䐷媿瀡穰ൟ⠠⠸汞⊶ደ型忊塀綖૧據ؿ⺣㫰Eᛥ⤣⹘ݽ㪘㹟၊媤⢜弧橛㑢ظ᝱堸ፏ䐁塲Ⴌ椕摟⣯䉤⡒佦簌丷ɡ䄀硂಩⍱㐵ᥦ悐尾ᾨᇴ൝ⷁ氚㴵⒵䋴 䪃᧬୦妄䲌嬨ត娼睳嚏灼圻䤇凡∸*ᐁ磚淴ʠ₇䠰次ὧȁ燇Ἇ⟤⚷䘥₨┠ျ朱Ļ摑䐳柍൐ඐ]Ჷ䅀з梦怖䚵ᙕᴀ㈭㣰㘯↠⤩è㈳梸㬯ࣸቃ₸ὁ䁙偵惴ԡ⋤䨤恨䖩䂈߷ႝࠆ栤␠䈂ᒢ䂂Ī場㤭刈㥩䳦哷᩶䠓Ⱞ䧱⁎塑栬ڡਚ㡕听ቃ瓌ႂ炦㬥㨡䔣䌆❠㧝ᦶノ⇬䒈凳妎䷯㨙ᦷჾ㡬ೌ౏妽ቃԬᩌטড⒞寯䊣ѯ᧕༧္⡗妈喤۹❋䉁⹎斎㟷穅㡑ᰲ⩭㡒⹨ƨ㱦ↀᒠ䱀⬩慑号础ᇊᇓ᙭处⏈㰰၅疔ⶅ塦㜘ᒦ䘶寧᳖ྦࡆਥ峡ᐡ涛㱧⦆徂業๑⸺䐠>㉯箨⯸㒌敀眤嵙栬䍘晰䃧瘥䭚曹潑昦᝞撀ὲᆙ⢗有Õ椥ఢ噅撗ť䣝അ壞ᔃ⃅ᓆʏù㣐൅᡿ᕵ㰵⇵潜嚥᪆啐窕檴Ꭴ焈䉚➭祑⠀缰槠⼢槁㧟稢⚿抁城冘ᾯ瀢本惠㸼≨㛦⊖礧奈ᘵ‮സ㮩પ冢氠磆㓣ᢶ泱ଔ糰䈶拴奠狲娶᫤⦨ㅵᯆ䫫ᬄޏᠶ⋤妶ᨳ潶嫭⬸つ 椸ܑⲝ⮦疆俋ᚸِၝĻᬽ心◘氀ɀ䞐ფ泻䖆⥉央⊱放⃋礢䑰啯ٛᨩ梢㪎䯱ᡁ᜷䙩䵓䄵涁圵䌙㜽悒㽓䒛ѫ䶐༛䦘潛滜是敾得洛瞓椒缪⬂ď௵䃩ᩖɑ䄢ᰩ廴僡㱎䘑㉕⃼甝䣷祥卶㗟墪翓簓ݲ甾儡ဠ纟挜੣啴䘤䢵搟∩↑㇂偯ᩀ౽◥ɳ咨ႂ䭱ر感搲晪ዹࡡ噧ᣄᙃ灓ᄰ㙥ႇቈ⠩घ๡ᄸ㗙会秋⩭ਲ䂁Ш殮尲湁®Ⱡᰂ繟慫⫗⭑▌椡沒෹਩䀭䵢݆䈨Ȅ呧̤䰯ⓐᦁ㗽⏻ᙡ㬢䌖Ẫᭁ拰伨㔞ͼ᫿涍䡘ᢈ㭛㢓㬯㗀⾋⳧Р "
   },
   "outputs": [
    {
     "data": {
      "application/vnd.jupyter.widget-view+json": {
       "model_id": "88607c1c63204290879eb44d670ce092",
       "version_major": 2,
       "version_minor": 0
      },
      "text/plain": [
       "PersistWidget(data_values=[{'__id_column': '1', 'city': 'boise', 'state': 'id', 'date': 668563200000, 'time': …"
      ]
     },
     "execution_count": 26,
     "metadata": {},
     "output_type": "execute_result"
    }
   ],
   "source": [
    "PR.plot.barchart(cleaned_df, x=\"utcyear(date):O\", y=\"count()\")"
   ]
  },
  {
   "cell_type": "code",
   "execution_count": 30,
   "id": "9f149fbd-b461-4a6a-b8ca-b25fa56e9e3d",
   "metadata": {
    "trrack_graph": "ᯡ࠽䈌ʀ匦㢠⹰໠㌡సღǑ倶䊬⢨ˠ࣠⭅䏐ಅբᡙ⪓敠ঠ᧙ٔⓀŌ傰䏂无ⱴ䊭ᵦ曍浛㰔ะ͢&液䙞撠┨ࠠ⹀窀ǘ憡屢ƚ盨̠ୱ絰n❄V䀷⟏傑᥀8稬ℌᗉ>☤䃣怢㧓唄Ṹ场ޯ߀ב䅻つ⃸と㕵呢Ƹ䜫橲Ⱑ圅氠瞈ⱀఇ堎㘒ᣌऍࢰᰳ☶喀ԐY᝼㹐ڎ嫤ᑹ樏㛥ᭀ䇥ቐ劲晕Ⴈ奭䱀ង稈<䨦ℿ༠偂ᗐྦྷ枤祶හ䢱䆲◐漭ౠÅ䌂䥐ᱞѡშឲ佢へ㘧ץ瀤ⅇ䃠żŀ䤊獨ᣙᬸ勱磵ࢱ劳娰ᢄ  "
   },
   "outputs": [
    {
     "data": {
      "text/html": [
       "<div>\n",
       "<style scoped>\n",
       "    .dataframe tbody tr th:only-of-type {\n",
       "        vertical-align: middle;\n",
       "    }\n",
       "\n",
       "    .dataframe tbody tr th {\n",
       "        vertical-align: top;\n",
       "    }\n",
       "\n",
       "    .dataframe thead th {\n",
       "        text-align: right;\n",
       "    }\n",
       "</style>\n",
       "<table border=\"1\" class=\"dataframe\">\n",
       "  <thead>\n",
       "    <tr style=\"text-align: right;\">\n",
       "      <th></th>\n",
       "      <th>city</th>\n",
       "      <th>state</th>\n",
       "      <th>date</th>\n",
       "      <th>time</th>\n",
       "      <th>ufo_shape</th>\n",
       "      <th>duration_seconds</th>\n",
       "      <th>comments</th>\n",
       "      <th>date posted</th>\n",
       "      <th>latitude</th>\n",
       "      <th>longitude</th>\n",
       "      <th>__annotations</th>\n",
       "    </tr>\n",
       "  </thead>\n",
       "  <tbody>\n",
       "    <tr>\n",
       "      <th>0</th>\n",
       "      <td>mecosta</td>\n",
       "      <td>mi</td>\n",
       "      <td>1999-06-12</td>\n",
       "      <td>22:30:00</td>\n",
       "      <td>sphere</td>\n",
       "      <td>240.0</td>\n",
       "      <td>object viewed due North.  Low on horizon.  Hov...</td>\n",
       "      <td>8/10/1999</td>\n",
       "      <td>43.620278</td>\n",
       "      <td>-85.226389</td>\n",
       "      <td>No Annotation</td>\n",
       "    </tr>\n",
       "    <tr>\n",
       "      <th>1</th>\n",
       "      <td>boise</td>\n",
       "      <td>id</td>\n",
       "      <td>1999-09-11</td>\n",
       "      <td>21:30:00</td>\n",
       "      <td>teardrop</td>\n",
       "      <td>5.0</td>\n",
       "      <td>unknown object&amp;#44possible space junk&amp;#44illum...</td>\n",
       "      <td>10/2/1999</td>\n",
       "      <td>43.613611</td>\n",
       "      <td>-116.2025</td>\n",
       "      <td>No Annotation</td>\n",
       "    </tr>\n",
       "    <tr>\n",
       "      <th>2</th>\n",
       "      <td>raymond</td>\n",
       "      <td>nh</td>\n",
       "      <td>1999-10-14</td>\n",
       "      <td>22:50:00</td>\n",
       "      <td>triangle</td>\n",
       "      <td>900.0</td>\n",
       "      <td>ITMOVED VERY SLOW&amp;#44FLASHED BRIGHT PINK LIGHT...</td>\n",
       "      <td>8/5/2001</td>\n",
       "      <td>43.036111</td>\n",
       "      <td>-71.183889</td>\n",
       "      <td>No Annotation</td>\n",
       "    </tr>\n",
       "    <tr>\n",
       "      <th>3</th>\n",
       "      <td>gibsonville</td>\n",
       "      <td>nc</td>\n",
       "      <td>1999-12-16</td>\n",
       "      <td>07:15:00</td>\n",
       "      <td>sphere</td>\n",
       "      <td>120.0</td>\n",
       "      <td>Yellow-Orange soccer ball sized sphere photogr...</td>\n",
       "      <td>7/4/2012</td>\n",
       "      <td>36.105556</td>\n",
       "      <td>-79.5425</td>\n",
       "      <td>No Annotation</td>\n",
       "    </tr>\n",
       "    <tr>\n",
       "      <th>4</th>\n",
       "      <td>rancho cordova</td>\n",
       "      <td>ca</td>\n",
       "      <td>1999-01-01</td>\n",
       "      <td>23:59:00</td>\n",
       "      <td>unknown</td>\n",
       "      <td>300.0</td>\n",
       "      <td>I heard like a swoshing noise that was high pi...</td>\n",
       "      <td>8/30/1999</td>\n",
       "      <td>38.589167</td>\n",
       "      <td>-121.301667</td>\n",
       "      <td>No Annotation</td>\n",
       "    </tr>\n",
       "  </tbody>\n",
       "</table>\n",
       "</div>"
      ],
      "text/plain": [
       "             city state       date      time ufo_shape  duration_seconds  \\\n",
       "0         mecosta    mi 1999-06-12  22:30:00    sphere             240.0   \n",
       "1           boise    id 1999-09-11  21:30:00  teardrop               5.0   \n",
       "2         raymond    nh 1999-10-14  22:50:00  triangle             900.0   \n",
       "3     gibsonville    nc 1999-12-16  07:15:00    sphere             120.0   \n",
       "4  rancho cordova    ca 1999-01-01  23:59:00   unknown             300.0   \n",
       "\n",
       "                                            comments date posted   latitude  \\\n",
       "0  object viewed due North.  Low on horizon.  Hov...   8/10/1999  43.620278   \n",
       "1  unknown object&#44possible space junk&#44illum...   10/2/1999  43.613611   \n",
       "2  ITMOVED VERY SLOW&#44FLASHED BRIGHT PINK LIGHT...    8/5/2001  43.036111   \n",
       "3  Yellow-Orange soccer ball sized sphere photogr...    7/4/2012  36.105556   \n",
       "4  I heard like a swoshing noise that was high pi...   8/30/1999  38.589167   \n",
       "\n",
       "   longitude   __annotations  \n",
       "0  -85.226389  No Annotation  \n",
       "1   -116.2025  No Annotation  \n",
       "2  -71.183889  No Annotation  \n",
       "3    -79.5425  No Annotation  \n",
       "4 -121.301667  No Annotation  "
      ]
     },
     "execution_count": 30,
     "metadata": {},
     "output_type": "execute_result"
    }
   ],
   "source": [
    "df_filtered.head()"
   ]
  },
  {
   "cell_type": "code",
   "execution_count": 31,
   "id": "af74ced2-17e6-4cdc-b4ed-14062181596b",
   "metadata": {
    "trrack_graph": "ᯡ࠽䈌ʀ匦㢠⹰ࢀ㌪͐Π挠ᣀ୦䁆☢ᢨ˥v⥤ɑ䕑氖坪嶓嶺Ԡ癄倡ᙰ䡣冃摂⹪嚣㍶皽嶛稩ࠣ℠΂䋠橠ኤРᜰ結üム湁Ý㮄ᜠָ䇈GᎲ;‫埰ᡘ慭घ絼ၪ૵䀯ጢ⁰ø¼᳚㕉ἢ䶪⏃合ƌぶᑱ㒸ሶ喆Ⴀ晃䐔䲶╪G娶ࠥ簈ٻᡜ⬤ݤ␮ೳߊ堢㰠໫圿౎ߝㄦᚔ篸冃抲圸⤶Ⲱ❤│㄄楨㦬ᒌፎࢳָⳠ㣴⟻˪㲋⛪⑨惩㋤㞥䙀r憓␸ภ䙁䢴ാ䒀墌ണ∁砢コ无Î°ⲕ㢄ಜ䶪⤑啁ᐬ楩ᴨɒ  "
   },
   "outputs": [
    {
     "data": {
      "text/plain": [
       "(4170, 11)"
      ]
     },
     "execution_count": 31,
     "metadata": {},
     "output_type": "execute_result"
    }
   ],
   "source": [
    "df_filtered.shape"
   ]
  },
  {
   "cell_type": "markdown",
   "id": "0bd2bd77-50f0-4fed-86ed-b24472ef4d60",
   "metadata": {
    "__GENERATED_DATAFRAMES__": "ᯡࠣ䅬Ԁ朤壠ᜣ琢〹夡゠⹰〮⁁䁻қ䚾ኊ㇠നСࠩ瀮晼Ƭ穅5愠៤⠠ ",
    "__has_persist_output": true,
    "trrack_graph": "ᯡ࠽䈌ʀ匦㢠⹰໢䰢恑嬦〶䁋̸ҀᎦ㨘ɑ※ஜȸʀǮ㦪〦㑝圲⠠䭈⑀楐熀ᙊ⾧媽⌶๼㸚Ҡǁ#㚃⌿≠ኤР᝽ၐüム湁Ý㮋%䒞吠❇ሠ᭠ே埰㢹ဠಚⱠ猵䘪/ጢ•ᨉ攄ಖ㴦Է๬⯰˸惍䳢ႆᡄ᫊扁ì↥璉ᘠ殒獟寄ᨰؓ気ᮙ䱸⬤㮘␮ӳ׊堢㰠໫垏శᯝㄢᚕ寻ᥭ䡀ㄩ㤬㶷䍩亄栂㊉㠸䔸㴬Ἴ䍧縛棘ᐻᇂ游㜶捺㘲ɦɫᛣቔㄣ粶ல❣゘ᄤ䍂⣪̩䎂㣼┫∳戠⯟䠶ᵼ⥖ᭅ戴╍ѫ⥩䴠䑆ಠ  "
   },
   "source": [
    "### Duration of sightings\n",
    "\n",
    "Below is the binned plot of UFO sightings, there are a lot of outliers with some sighting events lasting as long "
   ]
  },
  {
   "cell_type": "code",
   "execution_count": 63,
   "id": "33f5c6e7-1e6b-4966-b9df-c8f6b09818e7",
   "metadata": {
    "__GENERATED_DATAFRAMES__": "ᯡࠣ䅬Ԁ朤壠ᜣ琢〹夥゠⹰〮⁁䁻қ䚾ኊ㇠നСࠩ瀮晼Ƭ穅5愠៩䀭䁝䎠㧔㊘ᤠᚨ熄戀ᝢ⹲䪌糥ᖊ㉕ᥤ䲲䜵አ㌠ᭊ⩛ࠡ౸ƈ漌ŐÒ㸜滈n⟑ȿ氉瀧ぢ㻁Ⱐ̠ࣸ䀡攩Ő礤偰࠮ਧትĬ䇔君॰奸甔埑ᕂત૥䜲㳓疽ӌ⩑៾嬷㝪昇ᥫ僤ṵ㒦圠්Ǎ悠↜ພ㬯⟊㿽ḽഩ䞇劙Ἀވ穟夛ᖰ熼⇒ⅈ㳥扤Ը䇕壖䫊֥Ӽ壀➆ႜ₯ִж䞤⅖ᶂ䓈斷◾侥ב䁀焤࣑䰠㞂ᱬኈ⁴Ⴧ秡別ҽዀ⭵以䆀๴䀧⎓ቹ⩭栓瘬Ëᄐ稜惘ⴴȠ⺸䈢熔ɱቬ⅄⠬撦民疨ࡀ焀䑅঴ᎰḲ䱢䃭♚ܢዹ㱁夎㭈㩴ê㌩ṋᚁǍ戧Ǣፈ'圵禌Eࠤ⁵ᠴ啂ބ㥼瓀⴩Ղ壂⪵秹溞【ᕪ劄ݩѐኹĘ揓㿪Ŭጬၓ樃刮ⓔᇛ眉ၭ഑篑ᙳ昐䕹ᑕየ⃁⎺ῤ䂮碹妺傐ㅱ㒄㢴᪡᳎墼㜯䗣傴慙⩒唊ʰ❫ႎኲ⑈楤᤹㧜䱐㸑纞弽⺂ⲋన䁧ം屣䐀ɀ䈳䉨䴱戤䒰刬䶲犜䡳ੲ䲣䩪䵱䃛રみ઒稧܃傔а⁴䍤Ⅼ䨁簽䰂偎欲劂က晕೸ᙅ䇣央旐癝䰀๏ಒ乀䲲⺌⎑渧䔑橌䬑ត䰓繖扆椮个ↈ⬩沘⢨∾ʫࡔ　ㄾ֨煆ù㼭⩫፪⵫灺⽪Ԇ〈㠷⛒㦎⑺敜慇䕿ोʹ⎹敟ٻᕵⴇ॥䷊畍Ⱳ嵰ಊ䶓Ɫⶀ枈暗⹀˗┊䫯⸆睿း暀樻䍍䔺᳜⥣捤朆厔搵㍰彉氨唵竸嘵䬪擣⭡୻歖嗑礈ૺƆؤょ܁沨ਃ⺁␳࢔ର䜱䄂㱌ְ硤䏡樳䄂戭ᗒ垕擢㞍框⡷暋᛭䈢䊔ұᰴ⢫剗в⤑斱䙍怂幛ဃ偤䋳側侔䁢⊷洰ʸ㲢൶紶〇奇䪰᱾⎄獰䨲杦䴳簦ବ籰䯪▝䀲➉斡ᕆҶ⡔㧉勆ߊ㋕䶴䵓◐ⵊ䡴ㆲ噶䀹㕷㴿᠉欜䎊ᬑस冮她㇔權噂㉭䦼䥭哌ͭ樀䞂ᨆㅆ姗໯䭮啸歚攇睙䋺⤽ዖ⠨າ㦂ᔒ㱪ᯑɴಓ㜊ኆ承ɩ㉴ခ∨ࠔ凧崠㝍槊瞗塂㻃挣塵⯡瀫湁⼱Р ",
    "__has_persist_output": true,
    "trrack_graph": "ᯡ࠽䈌ʀ匦㢠⹰ೠ᬴公Ҁᖠ⴮ᐢ〢恌买Ԁ၁䙒␰ᶦḣ౩垠ؠ⎚<ᩩ•ⳁႧ⓭侨咥ᕺ٬ⷹ㤗爺ሠڤ-庠䲃ᤠ䨰ဠ崬䃠Α䌠碤ܝ揮6ঃᐠ৭撠۱̨í冼临✽ᡠ⚣䓀਀妤㣌㩆ᨾਵᣣک₠Ɣ䛦ᜫሿࣳ䨿⏑䅠Ȅ恨᱔൏ᦵ䊦Ⅷℸƌゖ窑࡝లൗグ䎖ᇣ啀ŻU岞䰳墬吢粬߫椚✽䄽㧗ɹ䋭氡Ḡއ柟䘳䏞碠┎⎹柂⳨ࠪ↰恄ᨴ䅢ᒜᤠ⏃ᡔତ′㠤㑭ڃ⊄ቄ☱傮᯳熳ᩐ⭹煙楦౮ၩሤ੭ჩ㋌湿ፂ૥ᨴ坊晰枱侪ዩ⩽ᙦ㥙Ṡ䁉੅బ僈檆㵳怣ᑌ徻┠(倠ᗸᖈ嚀?✥絶⠼H⡜༦䈐ۛȠ㔀␼䷷怡ᒮᵸഐ淕෷怩ˁ᫲ፃ桰ク2㈬Ἵ品烌㴵䩭‪毊߀䡩僠☲᳙䨯䉈灐ᬭᘳ㎼⬠䇁停īည壢Ἠ㐾䦻㯠玐㳒ثעࣤ㤲䛁梬㌭䄃㣜₤⌱ᩍ㻋刉稣व䋀桨䓪ㆸ∓⋼浻๦㛢ϸ๧㷬玻ʷ㗶璜䂐੡䀠ᑶሊ㮴Š࠿笺〪ܼ俱烲ឣ熜ာ㧸缤ঢࢴ`瞦⊤瞴抐枨悁㼦†窒♤䁰ⲃൔᄹ田ڑ炢ᨁࢲᝤ⤊ᔩదᓤ摸ԡ瀺ர⠴ལࡪৣЪඐदљ䡶ע䬴䛤మፀ୧ߦ㱊ᑅ梳᭐䵓Ⳓ嚋⮉惛丰崠怡榝ഠᲐ࣢⁰ƫ瘝㯂犘㮹狨⧮扠㸷卐ƺ楈冶Ȉ⓭䌸猻咎Ь৔溹爔礳ை揮䭬塌᏶⠫Ʉ┄ႍ●灎⎭ࡄ֯㖐䠠檺䢺㘏ᗃ㕘᷀䂺ᾫ㵕ࠠ\\擊໐沆慓癣䶕纋䨫炯䰕砢氪簧乱ᕉ敘㪘ⴂ猴ⷪ癌⤠呠䘩䚼Бᛍ੪▄ថぐ₂占渙罀ថ嘹↰爬瑱玪䉽橊狰ᯎ䛽婩䏉悮ԝ৒㕭槝ӭֹǬ秐䁌䖱╍斪Ӎ䋔䔐䣪㍭к᫭ᤎ㟭ᠾ᥌斴Ì嗚坑您!剐ḃ堦䖩崍ð啐ᲇ畮ᗣۍぃ㐹₌сే峙⹔亂妴䬌䙶擼䅵牪䁱⩢垖匛䶅甝༤ಸ漠⦷媅䳗廢瘟娕㺧į᳿䉢屗Ứ㱠㐮䔀㳮䅊搥䈐␒ᡨⷁℴ叠慸ど懅ℌᆂ戥㣱㔎冷㬍帗ⱈ䕼⭙杇ⴊ儥㑄改泟೹瞫斑⅍匛㓙Áᇘ堈◟ᶆⓜ᷼㬆㞙棯巉祉䠭㣣䮕珙࿄㝚圢㺮ᖈ⨤烉݁僸帰ࢴ࢐皍䗑ှ㡥ẜᡡ䁔ᴠ⾧❋砃紊䀲ᑁ尶䈋Ⅰ帉_ကİᇸ⿶䒟嚼ԧᳪࣘ樥㥔ᶐ琶琈⠅呷ܤሩ籕䝸倡墻ܠ孆᧖ނ癚،ᨯ沣䭹ⰴ䡁Ѱ䀶߶⎆儜ඌ盩泽䙢ᑈ㧈㇢䰧᭸㦖ୡ㟴ᆆ椂戸勲㦇庘ᗌ㍋③归䅀䳣䓙䋀⤥妤ᘱ倡Ȑ㴡側䕨嘧ⱺᕱ⫢㢄͸╋ᅪ݅殙⑴繨ᒊ倜箽倯ᄢⷑ狐ㆪ梺毪î擐忢᷽徂㶬㦞ဇ箟搢堬ແ愩凣ガਜ਼䎦扁Ꮰ❔᙮䩅ṍ⣝Ʌ㸓䬈溽桭ᄔ朾猾⬃⼍斴巸卋媫拂⥴䎒㜲䩒䈁滣毬㱻叮力埔窘㒩㴧瓮扊ṣᕤ毬敜ਣ≆Ā✤〾攀䷉℔ര汄墔⻺㠷ʐ⊆≔ր⦽䫧ⴜ嗭籟䫫㨴穝ЦᨧŘ䶠ſⰣ⁜Єᚑᐢ狈㌀桕曰䷧傂ʢ烩P⣢ᒔ⍈掃洚ݱ䫪擺ᯃ穐扎ⓤ䠩ᣨɊ⋵൥䨡儸嚠㩏∬ⴡ౾ᜐ䛄猽⒬ᄱ㉽⎅㵮撽Ⴑ砺ʚ㟆యሬऱ㈁䪴ึ⊵幒搿͌䤡≜捨墩⁐ߡ儣墐ࡠࡉâढ漡ّ呶㆝曍Ӟ䆋ᆥ灡֐ᬩჭ䰌ǭ懄䪌㒳偍䤓ⶩ犖℄㐰Ҹ䞃㰫̍ཌྷ涖ɇ彆➛౫縨瞩၆ˑᲲᥓㇲ⯸Ö③㷲❶䅮冸⨝፲獞猕ఘ㩳⓬猑㒩為枲䩌喓旐㋋㴈ᙦ磨ണ䑸♹ਠ刢൉䶣੖Ⲡ䥐捤ᜤ撈䐀۴约⁜淖寬及ṧᘕѡ狔ʒ㕆猝ග⦹䃨âժðᎱ撘❀琉㺘਴絒ᗄ᧕⢻┵ᣨƑ⽪槳㧓嵼庶尷㵛䫅⯰㕵喏柊䛄ख⨠浨ၚ勨⴪痹㒂൮㌺⌥䵾ࠜ㍢ᇢᶖ㝾⊨㨆࡝潀䏵⃧媛玹⅏㵨皧斶䴏眫卉⌃ⷃᤕ䁅瓾䐄㻀ޝࠫ絯&䠸Հ欣⃂ര㈴懊ڊਤ繺掵հ⁪廊搵⯵≩㕮咰Ỏ潣⭀ɸᏒ墪䪅♵⵴㕶䲰⻏欝ᢅ縹烟⍳ڸ⎥呻䑱䊦ᒭ䭩䲵㣯粃䪋Ḩ䩴┵円䚂畉挃௖籲瘆梘囹䇼䄰瀠╛ႉҧ挩ヶ粉冑㻷砣噙΢㓦搶⛔䮢擵䧨⦺፻᭐彅玚㤴憈㺢睉挋㶽᯼忞刻㯙㩣畞惾㓻仂庸楫歳呤㌶♹柄斶䳻䳶榝ᠠ၎䭹ҹ➝ݥ䠴ł྅䐴΀歟ተۆ檎ၟ㼔⛱䬶栐㹟漪㞷繿ᐢ㽠⛇ ǔܢ塗䄐⪦搳⡐墠搾䣛团✰䰢灑䂰⼦бװ擱⚨ᚅㅬ桂唀㋋⦫ᳳ㳭叚り穀普ࠠ "
   },
   "outputs": [
    {
     "data": {
      "application/vnd.jupyter.widget-view+json": {
       "model_id": "48e6e214188a46888e0cbbaf696ac2fe",
       "version_major": 2,
       "version_minor": 0
      },
      "text/plain": [
       "PersistWidget(data_values=[{'__id_column': '1', 'city': 'boise', 'state': 'id', 'date': 668563200000, 'time': …"
      ]
     },
     "execution_count": 63,
     "metadata": {},
     "output_type": "execute_result"
    }
   ],
   "source": [
    "PR.plot.barchart(cleaned_df, x=\"duration_seconds\", y=\"count()\", width=600)"
   ]
  },
  {
   "cell_type": "code",
   "execution_count": 67,
   "id": "1f61ece3-fb1e-442c-9a45-167a8c2077ac",
   "metadata": {
    "trrack_graph": "ᯡ࠽䈌ʀ匦㢠⹰à᬴⪡ئᣀⴠ嘡ౄĀါષ䠩䀱䘢ƹ垆㘣᧨ԁ枀ᒴE䨲࢔䱙禩䩵埀⓵䎷ྞ⇸≠ð䀡宅㙝ဩ™+僨ఠ㜸ㄗࡣⷸ㷠Ǝᲅ\"㫙အ娠嵃㇓䘢梢䉕悧ㆌばᠲҭ@ቂ剓䣉梢⌠ⶬ᛻قۣɠ殍戰泤⑱妦怭ノ愤篢ᄠ彃ë㶯஀䄊䒡憺ゕ嬠➠ǹ㈇熥愗噁抎݇㙜≪∃҃⌒ᦘ⑤ȴᕓz䣠ᒀᎃ䦹㢺ᅽ䕉⣟㤭嚻㒹ሁ剀ࣱସ䁡ල憰へḰ䕀⣴ᴡ䆁墼㜯䐳ӂበ֒Ѣ控䭂戴岒䁫⢩䵉Ꮐ刱† "
   },
   "outputs": [
    {
     "data": {
      "text/html": [
       "<div>\n",
       "<style scoped>\n",
       "    .dataframe tbody tr th:only-of-type {\n",
       "        vertical-align: middle;\n",
       "    }\n",
       "\n",
       "    .dataframe tbody tr th {\n",
       "        vertical-align: top;\n",
       "    }\n",
       "\n",
       "    .dataframe thead th {\n",
       "        text-align: right;\n",
       "    }\n",
       "</style>\n",
       "<table border=\"1\" class=\"dataframe\">\n",
       "  <thead>\n",
       "    <tr style=\"text-align: right;\">\n",
       "      <th></th>\n",
       "      <th>city</th>\n",
       "      <th>state</th>\n",
       "      <th>date</th>\n",
       "      <th>time</th>\n",
       "      <th>ufo_shape</th>\n",
       "      <th>duration_seconds</th>\n",
       "      <th>comments</th>\n",
       "      <th>date posted</th>\n",
       "      <th>latitude</th>\n",
       "      <th>longitude</th>\n",
       "      <th>__annotations</th>\n",
       "    </tr>\n",
       "  </thead>\n",
       "  <tbody>\n",
       "    <tr>\n",
       "      <th>0</th>\n",
       "      <td>boise</td>\n",
       "      <td>id</td>\n",
       "      <td>1991-03-10</td>\n",
       "      <td>03:00:00</td>\n",
       "      <td>disk</td>\n",
       "      <td>600.0</td>\n",
       "      <td>Saucer Shaped Craft Followed Me</td>\n",
       "      <td>5/29/2012</td>\n",
       "      <td>43.613611</td>\n",
       "      <td>-116.2025</td>\n",
       "      <td>No Annotation</td>\n",
       "    </tr>\n",
       "    <tr>\n",
       "      <th>1</th>\n",
       "      <td>pasadena</td>\n",
       "      <td>tx</td>\n",
       "      <td>1991-11-15</td>\n",
       "      <td>19:30:00</td>\n",
       "      <td>unknown</td>\n",
       "      <td>600.0</td>\n",
       "      <td>UFO sighting in Pasadena TX in November 1991.</td>\n",
       "      <td>3/19/2009</td>\n",
       "      <td>29.690833</td>\n",
       "      <td>-95.208889</td>\n",
       "      <td>No Annotation</td>\n",
       "    </tr>\n",
       "    <tr>\n",
       "      <th>2</th>\n",
       "      <td>commerce</td>\n",
       "      <td>tx</td>\n",
       "      <td>1991-08-01</td>\n",
       "      <td>02:00:00</td>\n",
       "      <td>circle</td>\n",
       "      <td>120.0</td>\n",
       "      <td>spoked wheel flies in front of the moon</td>\n",
       "      <td>12/23/2002</td>\n",
       "      <td>33.246944</td>\n",
       "      <td>-95.899722</td>\n",
       "      <td>No Annotation</td>\n",
       "    </tr>\n",
       "    <tr>\n",
       "      <th>3</th>\n",
       "      <td>levittown</td>\n",
       "      <td>ny</td>\n",
       "      <td>1991-06-10</td>\n",
       "      <td>23:35:00</td>\n",
       "      <td>circle</td>\n",
       "      <td>300.0</td>\n",
       "      <td>My Mother her boyfriend and myself seen a spac...</td>\n",
       "      <td>3/19/2009</td>\n",
       "      <td>40.725833</td>\n",
       "      <td>-73.514722</td>\n",
       "      <td>No Annotation</td>\n",
       "    </tr>\n",
       "    <tr>\n",
       "      <th>4</th>\n",
       "      <td>grants (southeast of)</td>\n",
       "      <td>nm</td>\n",
       "      <td>1991-05-05</td>\n",
       "      <td>20:30:00</td>\n",
       "      <td>light</td>\n",
       "      <td>120.0</td>\n",
       "      <td>bright light travelling normal speed stops abo...</td>\n",
       "      <td>8/28/2003</td>\n",
       "      <td>35.147222</td>\n",
       "      <td>-107.850833</td>\n",
       "      <td>No Annotation</td>\n",
       "    </tr>\n",
       "  </tbody>\n",
       "</table>\n",
       "</div>"
      ],
      "text/plain": [
       "                    city state       date      time ufo_shape  \\\n",
       "0                  boise    id 1991-03-10  03:00:00      disk   \n",
       "1               pasadena    tx 1991-11-15  19:30:00   unknown   \n",
       "2               commerce    tx 1991-08-01  02:00:00    circle   \n",
       "3              levittown    ny 1991-06-10  23:35:00    circle   \n",
       "4  grants (southeast of)    nm 1991-05-05  20:30:00     light   \n",
       "\n",
       "   duration_seconds                                           comments  \\\n",
       "0             600.0                    Saucer Shaped Craft Followed Me   \n",
       "1             600.0      UFO sighting in Pasadena TX in November 1991.   \n",
       "2             120.0            spoked wheel flies in front of the moon   \n",
       "3             300.0  My Mother her boyfriend and myself seen a spac...   \n",
       "4             120.0  bright light travelling normal speed stops abo...   \n",
       "\n",
       "  date posted   latitude  longitude   __annotations  \n",
       "0   5/29/2012  43.613611   -116.2025  No Annotation  \n",
       "1   3/19/2009  29.690833  -95.208889  No Annotation  \n",
       "2  12/23/2002  33.246944  -95.899722  No Annotation  \n",
       "3   3/19/2009  40.725833  -73.514722  No Annotation  \n",
       "4   8/28/2003  35.147222 -107.850833  No Annotation  "
      ]
     },
     "execution_count": 67,
     "metadata": {},
     "output_type": "execute_result"
    }
   ],
   "source": [
    "sightings_sub_1hour.head()"
   ]
  },
  {
   "cell_type": "code",
   "execution_count": 66,
   "id": "2e68f231-f52f-433e-a0cd-d3d813707e2d",
   "metadata": {
    "trrack_graph": "ᯡ࠽䈌ʀ匦㢠⹰Ǡ㬠䙐悌ɑ倶䁇6ਢ夭ᔠ㍊ȹ 䴁ᦫ⌣ᠦᠬ悋⎧ैkᑄᄈ妐ࢷዃ⽰䧋㭮溝Φ䐡傠ǐ㋤㵀ॢȠந↸ᢀ眰䅽忒௠˼⣪$熒‣㐡㪦⍇ౙ儠è㘁ѐ沀倠祐ሾܸ䱡╆㇀⣰㤅䌠ⶬۡ䙂ɡ檍戰᳤⒁䌺怭㋈ㄥ篢ᄠ彣჻㚡䯣ぢ畤䄁ⵐڻG䀡曞琓爕㙁拎潧͜≪⼃ځ搓ᨘ硴Ӳّ᪹䱦悁₂礨慑⭥ᅾ循Ŗᷔ䊶燲း撨䱠⃕䜁䥐汞ѣᅈ樽࣡ヸืϠࢤᅗ䯠ż䄰唎狩墥༼刲檂㍦┉ᓱ಄  "
   },
   "outputs": [
    {
     "data": {
      "text/html": [
       "<div>\n",
       "<style scoped>\n",
       "    .dataframe tbody tr th:only-of-type {\n",
       "        vertical-align: middle;\n",
       "    }\n",
       "\n",
       "    .dataframe tbody tr th {\n",
       "        vertical-align: top;\n",
       "    }\n",
       "\n",
       "    .dataframe thead th {\n",
       "        text-align: right;\n",
       "    }\n",
       "</style>\n",
       "<table border=\"1\" class=\"dataframe\">\n",
       "  <thead>\n",
       "    <tr style=\"text-align: right;\">\n",
       "      <th></th>\n",
       "      <th>city</th>\n",
       "      <th>state</th>\n",
       "      <th>date</th>\n",
       "      <th>time</th>\n",
       "      <th>ufo_shape</th>\n",
       "      <th>duration_seconds</th>\n",
       "      <th>comments</th>\n",
       "      <th>date posted</th>\n",
       "      <th>latitude</th>\n",
       "      <th>longitude</th>\n",
       "      <th>__annotations</th>\n",
       "    </tr>\n",
       "  </thead>\n",
       "  <tbody>\n",
       "    <tr>\n",
       "      <th>0</th>\n",
       "      <td>chowchilla</td>\n",
       "      <td>ca</td>\n",
       "      <td>1991-08-15</td>\n",
       "      <td>03:00:00</td>\n",
       "      <td>disk</td>\n",
       "      <td>259200.0</td>\n",
       "      <td>When I was 16 years old I worked on my Dad&amp;#82...</td>\n",
       "      <td>3/18/2014</td>\n",
       "      <td>37.123056</td>\n",
       "      <td>-120.259167</td>\n",
       "      <td>No Annotation</td>\n",
       "    </tr>\n",
       "    <tr>\n",
       "      <th>1</th>\n",
       "      <td>madras</td>\n",
       "      <td>or</td>\n",
       "      <td>1995-06-01</td>\n",
       "      <td>20:00:00</td>\n",
       "      <td>other</td>\n",
       "      <td>109800.0</td>\n",
       "      <td>We were possibly abducted by a pyramid shaped ...</td>\n",
       "      <td>5/15/2013</td>\n",
       "      <td>44.633611</td>\n",
       "      <td>-121.128333</td>\n",
       "      <td>No Annotation</td>\n",
       "    </tr>\n",
       "    <tr>\n",
       "      <th>2</th>\n",
       "      <td>coopersville</td>\n",
       "      <td>mi</td>\n",
       "      <td>1997-07-07</td>\n",
       "      <td>23:00:00</td>\n",
       "      <td>unknown</td>\n",
       "      <td>64800.0</td>\n",
       "      <td>Fireball impact &amp;#44 intelligent colorful ligh...</td>\n",
       "      <td>1/31/2011</td>\n",
       "      <td>43.063889</td>\n",
       "      <td>-85.934722</td>\n",
       "      <td>No Annotation</td>\n",
       "    </tr>\n",
       "    <tr>\n",
       "      <th>3</th>\n",
       "      <td>west liberty</td>\n",
       "      <td>ky</td>\n",
       "      <td>1999-09-05</td>\n",
       "      <td>22:30:00</td>\n",
       "      <td>light</td>\n",
       "      <td>37800.0</td>\n",
       "      <td>bright pulseating light diffferencating from g...</td>\n",
       "      <td>9/6/2002</td>\n",
       "      <td>37.318333</td>\n",
       "      <td>-84.939444</td>\n",
       "      <td>No Annotation</td>\n",
       "    </tr>\n",
       "    <tr>\n",
       "      <th>4</th>\n",
       "      <td>north whitefield</td>\n",
       "      <td>me</td>\n",
       "      <td>2001-01-01</td>\n",
       "      <td>19:00:00</td>\n",
       "      <td>light</td>\n",
       "      <td>109800.0</td>\n",
       "      <td>I have seen this craft for years and would lik...</td>\n",
       "      <td>1/3/2001</td>\n",
       "      <td>44.221944</td>\n",
       "      <td>-69.587778</td>\n",
       "      <td>No Annotation</td>\n",
       "    </tr>\n",
       "  </tbody>\n",
       "</table>\n",
       "</div>"
      ],
      "text/plain": [
       "               city state       date      time ufo_shape  duration_seconds  \\\n",
       "0        chowchilla    ca 1991-08-15  03:00:00      disk          259200.0   \n",
       "1            madras    or 1995-06-01  20:00:00     other          109800.0   \n",
       "2      coopersville    mi 1997-07-07  23:00:00   unknown           64800.0   \n",
       "3      west liberty    ky 1999-09-05  22:30:00     light           37800.0   \n",
       "4  north whitefield    me 2001-01-01  19:00:00     light          109800.0   \n",
       "\n",
       "                                            comments date posted   latitude  \\\n",
       "0  When I was 16 years old I worked on my Dad&#82...   3/18/2014  37.123056   \n",
       "1  We were possibly abducted by a pyramid shaped ...   5/15/2013  44.633611   \n",
       "2  Fireball impact &#44 intelligent colorful ligh...   1/31/2011  43.063889   \n",
       "3  bright pulseating light diffferencating from g...    9/6/2002  37.318333   \n",
       "4  I have seen this craft for years and would lik...    1/3/2001  44.221944   \n",
       "\n",
       "   longitude   __annotations  \n",
       "0 -120.259167  No Annotation  \n",
       "1 -121.128333  No Annotation  \n",
       "2  -85.934722  No Annotation  \n",
       "3  -84.939444  No Annotation  \n",
       "4  -69.587778  No Annotation  "
      ]
     },
     "execution_count": 66,
     "metadata": {},
     "output_type": "execute_result"
    }
   ],
   "source": [
    "longer_sightings.head()"
   ]
  },
  {
   "cell_type": "code",
   "execution_count": 72,
   "id": "585c9486-a962-48c7-a838-0354047d007e",
   "metadata": {
    "__GENERATED_DATAFRAMES__": "ᯡࠣ䅬Ԁ朤壠ᜣ琢〹夣゠⹰〮⁁䁻қ䚾ኊ㇠നСࠩ瀮晼Ƭ穅5愠៤⠠ ",
    "__has_persist_output": true,
    "trrack_graph": "ᯡ࠽䈌ʀ匦㢠⹰怮xҀრ⌢堦〫″䯆喯‹䁆⧥石ㄠᠦ᧱猧⤈⪩ᐠ▴ሰ㑹䱫䩶埈泵受⽲绹ɠð䀡威䟱ဩ™+垄䁗౐殨⇭⳸瀡ㄿ唠ৡ椠ව׳氈戌⚨㙝ݟ嬲挥'䦡ᅐ割㹚຿ݡ䮃㋁琡㙐䮌エᬬथⳑࡡ匰↚尫U䳛అ樮Т純絭᪌݅䄭娲Τ㓠歌¾'ጓ另ǥ歸䂪᲍㛸⣱㣓䘰塧⑄搃姱㢬㳲ᴳᔷǬ⇀昄槰㙚ඥⅰಭ䫐汄㢬²ⲦѨ戥硌❄䆡怨夥ե倸☡˂炘㸠䑅䐠坿ῤ㩼ᢹಣ䑉礅ᶬ⟉᪍ࢄ  "
   },
   "outputs": [
    {
     "data": {
      "application/vnd.jupyter.widget-view+json": {
       "model_id": "6f61b7c88d214be4818be12a31aaef99",
       "version_major": 2,
       "version_minor": 0
      },
      "text/plain": [
       "PersistWidget(data_values=[{'__id_column': '1', 'city': 'boise', 'state': 'id', 'date': 668563200000, 'time': …"
      ]
     },
     "execution_count": 72,
     "metadata": {},
     "output_type": "execute_result"
    }
   ],
   "source": [
    "PR.plot.scatterplot(sightings_sub_1hour, x=\"duration_seconds\", y=\"time\")"
   ]
  },
  {
   "cell_type": "code",
   "execution_count": null,
   "id": "3900da35-a173-4d1d-bbee-82def22cf212",
   "metadata": {
    "trrack_graph": "ᯡ࠽䈌ʀ匦㢠⹰ೣxِᶻʐĀୠƠፎ⏰ࢆ㵂ĸા瘡䰣ゖ攕㨍➩ᐠ▴ሰ㑹綫䩱又泵受⾞䅀†淈ᣥ械ӁĠ׻␬W౐⮨⃮⽼怡ㄻ唠ৡ椠වױ欉沬䡄ᵬ㿕˦Ԡ޳ŀĸᲘ㰠⭚ಠ䁧䍫憰琡㙐ஊエ᪬थ⣑ࡢ匰⅚ړU䳚䰅樮Т粔絭㚊☥䄭娲Τ㓠橌¾'ጓ另থ歸䂪᷍㛴掄࠸䉦١慣Ⴡ叓┈ٜᔹӈ䵠₄愲㤒㙚௦簨๕䫐汄墬༲ⲦѨ戥秬❄䆡成夥ජ冈稳ˢᇸⸯߧ慔ᢠଋ琘䞇੩䘱␼⼸刲⩲㵡┨䍀  "
   },
   "outputs": [],
   "source": []
  }
 ],
 "metadata": {
  "__persist_nb_uuid__": "e56b2ec7-1a6c-4eeb-95c1-059ab69929c1",
  "kernelspec": {
   "display_name": "Python 3 (ipykernel)",
   "language": "python",
   "name": "python3"
  },
  "language_info": {
   "codemirror_mode": {
    "name": "ipython",
    "version": 3
   },
   "file_extension": ".py",
   "mimetype": "text/x-python",
   "name": "python",
   "nbconvert_exporter": "python",
   "pygments_lexer": "ipython3",
   "version": "3.8.16"
  }
 },
 "nbformat": 4,
 "nbformat_minor": 5
}
