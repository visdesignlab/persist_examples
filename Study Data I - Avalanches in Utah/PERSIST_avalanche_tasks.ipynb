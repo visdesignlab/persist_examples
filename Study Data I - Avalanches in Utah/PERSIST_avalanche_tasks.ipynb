{
 "cells": [
  {
   "cell_type": "markdown",
   "id": "522fcbb3-702c-4ea0-91d9-f3b0e71690fc",
   "metadata": {
    "__GENERATED_DATAFRAMES__": "{\"nodeDataframes\":{},\"graphDataframes\":null}",
    "show_aggregate_original": "false",
    "trrack_graph": "ᯡ࠽䈌ʀ匦㢠⹰àᦴ΀࣪ʐ怶䦠挠᱊ࠥ䁁䂖㚥煤晬փ⊪ĸ暂䙠঳ैkᑄᄈ妐ଷᓋ⃩䖻Ṯ溜Φ䐡傠Ǒ団Қ′䈤7ࡣᠠ湐戎Ⴆ寐爤䀥屨攠ʕ㥀ǔÚ䍃㏙䤥ࢂ┩勸惀Ēいཆ༠೥∁∀秸㲅䌠ⶬᛦ䙂ǃɡ殍戰泤ᒁ嬦怭㋉匥穃ᄠ彣჻⴦䉫ぢ睤䄁ⵐۻG䀡曑砑䂱竖ᄂ㜿Ꭽ˹ȩᚱ凁兘㑐Ṣ༩Ẻ䳥⑆憰棨忞⍧攈堽Ī僰὆揖䦲ᡊ⛓౱নఱ姼ᤦΧ您別൧儸晋Ǣ熘繀䉁硨K塊়ṹᜰ倳䪂ⵦ⚈ᒽ᪺ᆬ䀠 "
   },
   "source": [
    "# Analyzing Utah Avalanche Data"
   ]
  },
  {
   "cell_type": "markdown",
   "id": "3abf1206-e99f-45b6-a92b-d971a2a8eb19",
   "metadata": {
    "trrack_graph": "ᯡ࠽䈌ʀ匦㢠⹰ૠܠ昢〽䂆౐׀ৣfL⍉ျ⥒⠡䒙¬ᧇ峕搢ಒ嫒┠অҤᵖ㹢晴㘉ᦳㄍ毿䡨墠ᨰV䆼ガ搢⡠䀢焨㌠෦ౝ戰殖๠ᠠ塩ೀn坄V䀷⢄㚗᥂夬ು䅻ఴ>☤䝃傳狱⊔㳜ੁ䀶挫㐷ࢢӡჵ嬩іㄪᢉ懐ͻ䬥䇽ࣨ䁏僿峱䐰㋸ᇻ兀㡆䱍㛠਀ⲛ粀೽疨һ䟩桁㙡Ũ昙ˢ䧮ᄪᆽ䥢ᅅᄁẩ㱸౮ᐶޣ先ఽЃⵖᥒ⌥▶懜ᩑƢ᭛䭄憐ɑ٦⦈䙓ǂ炘㸠䱅࢜ؠଌથ䜯๡䙉夊᜶僑汢㭢☈₁䠠 "
   },
   "source": [
    "**Participant ID:**  P2\n",
    "**Date / Time:** 11/16/23 - 12:37"
   ]
  },
  {
   "cell_type": "markdown",
   "id": "ceac0d48-2820-4532-bfd2-adf6533d7a2d",
   "metadata": {},
   "source": [
    "## Introduction\n",
    "Welcome to our data analysis study. For this part of the study, you'll be working with a dataset sourced from the [Utah Avalanche Center](https://utahavalanchecenter.org/). The data provides insights into [avalanche occurrences](https://utahavalanchecenter.org/avalanches) in Utah.\n"
   ]
  },
  {
   "cell_type": "markdown",
   "id": "68491102-96aa-4701-8134-d998c80ae04b",
   "metadata": {},
   "source": [
    "- You will use an extension called PersIst to complete **data cleanup and manipulation** tasks. \n",
    "- Interactive charts and tables have been pre-created for your convenience. These can be directly utilized by running the corresponding cells.\n",
    "- Focus on leveraging the interactive capabilities of Persist for your analysis.\n",
    "- Carefully follow the step-by-step instructions provided for each task.\n",
    "- In some cases, you will be asked to document your findings. Please do this in writing in a markdwon cell.\n",
    "- As you work through the tasks, take note of any interesting findings or challenges with the software or pandas that you may encounter, either by speaking your thoughts out loud or taking notes in a markdown cell.\n",
    "- Feel free to add new code and markdown cells in the notebook as necessary to complete the tasks, but please do attempt the tasks with the PersIst functionality."
   ]
  },
  {
   "cell_type": "markdown",
   "id": "8ebadbe2-4497-401c-9220-017809e835de",
   "metadata": {
    "__GENERATED_DATAFRAMES__": "{\"nodeDataframes\":{},\"graphDataframes\":null}",
    "show_aggregate_original": "false",
    "trrack_graph": "ᯡ࠽䈌ʀ匦㢠⹰ૠବɐච䎍倶䊪ᠠ父嬡ᳺ෪ੲࠬ晴ᘦ㍲差Ⱗㅅ)㊤䈽ାƂ刴喋橖㎁混䩟ႠᨰV岸㈔␢⡠䀢焧匠෦భ戰௷㙠̸x䠊䀡᲼䠠洠⺾彡抄䀠㈉㶣㡶ᡈ\\䰩(懄燃㌂㰢ᒌ娾䀶挥㗦ࢢ烡ၕ⬱жㄢ៉䓐͸⮑ŝㄐ䁏你㋲既祸ၛᅀ㢆䰽⫠਀⻚粀幝ඨ࣓叾殪㙡ƨ◓ᰢ寘奇Ⴌ䦦糂礒৉ᱥ䩃༥ס扦᤭ԓ噻ҩᆠ剋࣡ସ䂡▥撰じ㸨䅃䢴മ䂁ᣌ㬫䈁碢➫怢崢悩欂䥑央Ⴧ掴≺䩬槔ဨ搠 "
   },
   "source": [
    "**Support**\n",
    "- If you require assistance or need further clarification on any of the tasks, please let us know.\n",
    "- If you find yourself stuck on a task and feel that you will not make any progress, you have the option to skip the task.\n",
    "- For tasks that build upon the outputs of previous tasks, skipping a task will affect your ability to proceed. To avoid such problems we will assist you loading a fallback dataset. "
   ]
  },
  {
   "cell_type": "code",
   "execution_count": 1,
   "id": "9337796b-21e8-4c8c-bbbd-3076a775d03b",
   "metadata": {},
   "outputs": [],
   "source": [
    "import helpers as h\n",
    "import pandas as pd\n",
    "\n",
    "import seaborn as sns\n",
    "import matplotlib.pyplot as plt\n",
    "import altair as alt\n",
    "\n",
    "import persist_ext as PR"
   ]
  },
  {
   "cell_type": "markdown",
   "id": "dd81aecd-eebf-4624-b9e2-3a864c474c1d",
   "metadata": {
    "__GENERATED_DATAFRAMES__": "{\"nodeDataframes\":{},\"graphDataframes\":null}",
    "show_aggregate_original": "false",
    "trrack_graph": "ᯡ࠽䈌ʀ匦㢠⹰Ҁ̡䘠烠嘢త〫‥侴ᓬᛞ拐ৡ䚂ద抭婈ހڅྯ䌲⠠䭈⑁槑焳Ⴥ⩦仃㍶๽㰥Ҩǁ#㟢䌰橠ኤРᜰ͐üメ湁˛㾄ָ̠憴)挄䀦栢琭ٮ㍄ᨡ䌤ᾣㆢ䀣擠䢤㘦Sᥧᡠ戂怡ᠬÖᠻ㹈䐿ة׉妨⃓ࢱ̴㖠᫲徤ฏѤƜڣ回㸦ۡ৵ण䃔戊㘠传ϊ緯挡䘌污䕽庮粓㈨ɪⷠ搃猄ᦨ洘㳌ᤪ̪౦繶ሱ澂䘣⁑Ҝഭ炍孉ृÅ⭱䤾ᢠ䆋෭ኀ㠢Ү≱呺Ấ惑汮ᮯ戩䊏̠˙Ɂ⧽憳㈒ṉⅱਊ⥋⃆瑀⣨  "
   },
   "source": [
    "## Data Description\n",
    "\n",
    "The table below describes the different columns in the dataset. Each row in the dataset represents a reported avalanche with details on location, trigger, and aspect. The data spans multiple years, starting from 2004 up to 2023.\n",
    "\n",
    "| Column          | Description                                                    |\n",
    "|-----------------|----------------------------------------------------------------|\n",
    "| Date            | Date on which the avalanche was recorded                       |\n",
    "| Region          | Region in Utah where the avalanche occurred                    |\n",
    "| Place           | Exact location where the avalanche was recorded                |\n",
    "| Trigger         | Cause of the avalanche                                         |\n",
    "| Weak Layer      | Layer of snow that was weakest and likely to fail              |\n",
    "| Depth_inches    | Depth of the avalanche in inches                               |\n",
    "| Width_inches    | Width of the avalanche in inches                               |\n",
    "| Vertical_inches | Vertical extend of the avalanche in inches                     |\n",
    "| Aspect          | Direction of the slope where the avalanche occurred            |\n",
    "| Elevation_feet  | Elevation of the avalanche location in feet                    |\n",
    "| Coordinates     | Approximate geographical coordinates of the avalanche location |\n",
    "| Comments 1      | Additional comments provided by the reporter                   |"
   ]
  },
  {
   "cell_type": "code",
   "execution_count": 2,
   "id": "8d0e426c-89a0-4813-8994-65ebba3f3a25",
   "metadata": {},
   "outputs": [
    {
     "data": {
      "text/html": [
       "<div>\n",
       "<style scoped>\n",
       "    .dataframe tbody tr th:only-of-type {\n",
       "        vertical-align: middle;\n",
       "    }\n",
       "\n",
       "    .dataframe tbody tr th {\n",
       "        vertical-align: top;\n",
       "    }\n",
       "\n",
       "    .dataframe thead th {\n",
       "        text-align: right;\n",
       "    }\n",
       "</style>\n",
       "<table border=\"1\" class=\"dataframe\">\n",
       "  <thead>\n",
       "    <tr style=\"text-align: right;\">\n",
       "      <th></th>\n",
       "      <th>Date</th>\n",
       "      <th>;Region</th>\n",
       "      <th>Place</th>\n",
       "      <th>;Trigger</th>\n",
       "      <th>;Weak Layer</th>\n",
       "      <th>Depth_inches</th>\n",
       "      <th>Width_inches</th>\n",
       "      <th>Vertical_inches</th>\n",
       "      <th>;Aspect</th>\n",
       "      <th>Elevation_feet</th>\n",
       "      <th>Coordinates</th>\n",
       "      <th>Comments 1</th>\n",
       "    </tr>\n",
       "  </thead>\n",
       "  <tbody>\n",
       "    <tr>\n",
       "      <th>0</th>\n",
       "      <td>11/9/2012</td>\n",
       "      <td>Salt Lake</td>\n",
       "      <td>Sunset Peak</td>\n",
       "      <td>Snowboarder</td>\n",
       "      <td>New Snow/Old Snow Interface</td>\n",
       "      <td>14.0</td>\n",
       "      <td>960.0</td>\n",
       "      <td>360.0</td>\n",
       "      <td>North</td>\n",
       "      <td>10400.0</td>\n",
       "      <td>40.577977000000, -111.595817000000</td>\n",
       "      <td>While it was a small avalanche that was I caug...</td>\n",
       "    </tr>\n",
       "    <tr>\n",
       "      <th>1</th>\n",
       "      <td>11/11/2012</td>\n",
       "      <td>Salt Lake</td>\n",
       "      <td>Patsy Marly</td>\n",
       "      <td>Skier</td>\n",
       "      <td>New Snow/Old Snow Interface</td>\n",
       "      <td>30.0</td>\n",
       "      <td>1200.0</td>\n",
       "      <td>1200.0</td>\n",
       "      <td>North</td>\n",
       "      <td>9700.0</td>\n",
       "      <td>40.592619000000, -111.616099000000</td>\n",
       "      <td>A North facing aspect with an exposed ridge in...</td>\n",
       "    </tr>\n",
       "    <tr>\n",
       "      <th>2</th>\n",
       "      <td>11/11/2012</td>\n",
       "      <td>Salt Lake</td>\n",
       "      <td>Two Dogs</td>\n",
       "      <td>Skier</td>\n",
       "      <td>Facets</td>\n",
       "      <td>36.0</td>\n",
       "      <td>840.0</td>\n",
       "      <td>5400.0</td>\n",
       "      <td>North</td>\n",
       "      <td>10200.0</td>\n",
       "      <td>40.599291000000, -111.642315000000</td>\n",
       "      <td>Remotely triggered all the new storm snow (abo...</td>\n",
       "    </tr>\n",
       "    <tr>\n",
       "      <th>3</th>\n",
       "      <td>11/11/2012</td>\n",
       "      <td>Salt Lake</td>\n",
       "      <td>Emma Ridges</td>\n",
       "      <td>Skier</td>\n",
       "      <td>New Snow</td>\n",
       "      <td>18.0\"</td>\n",
       "      <td>600.0</td>\n",
       "      <td>6000.0</td>\n",
       "      <td>Southeast</td>\n",
       "      <td>10200.0</td>\n",
       "      <td>40.598313000000, -111.628304000000</td>\n",
       "      <td>Impressive fast powder cloud ran in front of t...</td>\n",
       "    </tr>\n",
       "    <tr>\n",
       "      <th>4</th>\n",
       "      <td>11/11/2012</td>\n",
       "      <td>Salt Lake</td>\n",
       "      <td>Sunset Peak</td>\n",
       "      <td>Skier</td>\n",
       "      <td>Facets</td>\n",
       "      <td>42.0</td>\n",
       "      <td>18000.0</td>\n",
       "      <td>9600.0</td>\n",
       "      <td>North</td>\n",
       "      <td>10400.0</td>\n",
       "      <td>40.578590000000, -111.595087000000</td>\n",
       "      <td>Three of us toured from Brighton to low saddle...</td>\n",
       "    </tr>\n",
       "  </tbody>\n",
       "</table>\n",
       "</div>"
      ],
      "text/plain": [
       "         Date    ;Region        Place     ;Trigger  \\\n",
       "0   11/9/2012  Salt Lake  Sunset Peak  Snowboarder   \n",
       "1  11/11/2012  Salt Lake  Patsy Marly        Skier   \n",
       "2  11/11/2012  Salt Lake     Two Dogs        Skier   \n",
       "3  11/11/2012  Salt Lake  Emma Ridges        Skier   \n",
       "4  11/11/2012  Salt Lake  Sunset Peak        Skier   \n",
       "\n",
       "                   ;Weak Layer Depth_inches  Width_inches  Vertical_inches  \\\n",
       "0  New Snow/Old Snow Interface         14.0         960.0            360.0   \n",
       "1  New Snow/Old Snow Interface         30.0        1200.0           1200.0   \n",
       "2                       Facets         36.0         840.0           5400.0   \n",
       "3                     New Snow        18.0\"         600.0           6000.0   \n",
       "4                       Facets         42.0       18000.0           9600.0   \n",
       "\n",
       "     ;Aspect  Elevation_feet                         Coordinates  \\\n",
       "0      North         10400.0  40.577977000000, -111.595817000000   \n",
       "1      North          9700.0  40.592619000000, -111.616099000000   \n",
       "2      North         10200.0  40.599291000000, -111.642315000000   \n",
       "3  Southeast         10200.0  40.598313000000, -111.628304000000   \n",
       "4      North         10400.0  40.578590000000, -111.595087000000   \n",
       "\n",
       "                                          Comments 1  \n",
       "0  While it was a small avalanche that was I caug...  \n",
       "1  A North facing aspect with an exposed ridge in...  \n",
       "2  Remotely triggered all the new storm snow (abo...  \n",
       "3  Impressive fast powder cloud ran in front of t...  \n",
       "4  Three of us toured from Brighton to low saddle...  "
      ]
     },
     "execution_count": 2,
     "metadata": {},
     "output_type": "execute_result"
    }
   ],
   "source": [
    "df = pd.read_csv('./avalanches_data.csv')\n",
    "df.head()"
   ]
  },
  {
   "cell_type": "markdown",
   "id": "7cc10d2b-9b1e-46f4-9769-b9a0ac0c9e8f",
   "metadata": {
    "__GENERATED_DATAFRAMES__": "{\"nodeDataframes\":{},\"graphDataframes\":null}",
    "show_aggregate_original": "false",
    "trrack_graph": "ᯡ࠽䈌ʀ匦㢠⹰ૠ㌬Ā჻R〶䁃lyٹ⁓f䍐ۢ䧪㈉◔ฅޡ䨲⠠䬱䑁棒瀱Ⴭ⭱妻ݎẜʤ䐡傠ǖ悃РኤРᜰ結üメ浪巟㈠ᣠˬ⃪$熒‣㐡㬚͇⦲༿⸂໡壡‡犀⒂ଠᎭॣ䥡⊃㡹稠嬸ූᑤඦҡ哹䑀妨䤝͕䀺慽䈩瞤∡㼚ƶ嵖᯦悡檩ǣ᪀畖o#䖊⠃ܑ璌⃥⹾䞌᧒Т⺈ᆡ⇳㴑䒤㒌ŭ᯸丈◡戱⃰潅Ԧ秐噑๦磜疶溂⒀ᒪ扖⋦ူⶃ㧄మྡྷშ⨭རㅸ瘭ǅ爘䅐䘆砠址䑂㥨㈼㹯䕈䓵ᒹ憴婊③ᤠ "
   },
   "source": [
    "# Task 1: Refining Columns and Preparing Data\n",
    "\n",
    "In the first task we will perform some basic data cleaning operations to get our dataset ready for further tasks."
   ]
  },
  {
   "cell_type": "markdown",
   "id": "8934b219-dd97-4e3e-9aa9-0dd7a9d62ad5",
   "metadata": {
    "__GENERATED_DATAFRAMES__": "{\"nodeDataframes\":{},\"graphDataframes\":null}",
    "show_aggregate_original": "false",
    "trrack_graph": "ᯡ࠽䈌ʀ匦㢠⹰ૠ㬠氤〥䌸瀶䀹䁣๲ৠܦᔨҀᣴ䂼䋃‣ᓆ做►䀳ല⠠䭈⑁槑瀱ᝉ⍮冫㭮ẜʦ䒠ǁ#㕀挸晠ኤРᝣၐüムṁǟ㤉䀥䉸攠ʓ㥀ǔÚ⎃஥䤫䒄攭ᇸ惀Ēいᘦᖠೣ䗫⃂変ⱦ{ఽ咼∪⌤䋵汄ჹ䑈冣ᛠඉⵆܔ⍂Þ⍡歹ম悩溩Ǡ媁疖o#䖓瀃ʅ璌⁅溮杲◒Ъ⍁䔶户ࣉⓢ削౐䘰䵥䌂んḸئԢ灐糕൤㧶ⶬ䲱䅲ᗈ撯ౠ惍䈅䥐属ѣ၈⩍སヸ๗௧焤ᄸ䒰Ž䅰䔉燩壥༲刳樲⭮✈咰ᒄ  "
   },
   "source": [
    "### **Task 1a: Remove Columns**"
   ]
  },
  {
   "cell_type": "markdown",
   "id": "47b531d4-2e3a-4e9a-b92a-39aebfc3deb6",
   "metadata": {
    "__GENERATED_DATAFRAMES__": "{\"nodeDataframes\":{},\"graphDataframes\":null}",
    "show_aggregate_original": "false",
    "trrack_graph": "ᯡ࠽䈌ʀ匦㢠⹰ૠ㬠氤〥䌸瀶䀹䁣๲ৠܦᔨҀᣴ䂼䋃‣ᓆ做►䀳ല⠠䭈⑁槑瀱ᝉ⍮冫㭮ẜʦ䒠ǁ#㕀挸晠ኤРᝣၐüムṁǟ㤉䀥䉸攠ʓ㥀ǔÚ⎃஥䤫䒄攭ᇸ惀Ēいᘦᖠೣ䗫⃂変ⱦ{ఽ咼∪⌤䋵汄ჹ䑈冣ᛠඉⵆܔ⍂Þ⍡歹ম悩溩Ǡ媁疖o#䖓瀃ʅ璌⁅溮杲◒Ъ⍁䔶户ࣉⓢ削౐䘰䵥䌂んḸئԢ灐糕൤㧶ⶬ䲱䅲ᗈ撯ౠ惍䈅䥐属ѣ၈⩍སヸ๗௧焤ᄸ䒰Ž䅰䔉燩壥༲刳樲⭮✈咰ᒄ  "
   },
   "source": [
    "Remove the following columns to streamline the dataset for further analysis:\n",
    "\n",
    "- **_Comments 1:_** Contains textual comments not crucial for quantitative analysis.\n",
    "- **_Coordinates:_** Detailed location data not needed for the current scope of analysis."
   ]
  },
  {
   "cell_type": "markdown",
   "id": "aec9ad2a-ab09-4288-b8fa-2852bcddda1a",
   "metadata": {},
   "source": [
    "#### **Instructions**\n",
    "1. **Column Removal:**\n",
    "\t- Use the interactive table feature in PersIst to remove the specified columns.\n",
    "3. **Verify the Output:**\n",
    "\t- Print the head of the generated dataframe to verify the changes."
   ]
  },
  {
   "cell_type": "code",
   "execution_count": 3,
   "id": "8e333ff3-cb24-430b-a332-733b41570ba4",
   "metadata": {
    "__GENERATED_DATAFRAMES__": "ᯡࠩ䃬࿀ᜤᠹ悋ᐨ推̅ሣ䧠ⶠ卍捯ᥔᠣ℠▢dʘϔᝠ捌〤瀵摠៨⠠ ",
    "__has_persist_output": true,
    "editable": true,
    "slideshow": {
     "slide_type": ""
    },
    "tags": [],
    "trrack_graph": "ᯡ࠽䈌ʀ匦㢠⹰ڀㆠ氤ダ瘬ʀୠᎠ↹岨ˠᖷᑤĀâ浂兤経旂⭥䒲⠠䭈⑁槑爵Ⴥ❡妻ݎẈ簥Ҩǁ#㍀҃ࢊ′䈤7ࠣᠠ湐戎Ⴆ寐爭%䱰攠ʕ㥀ǔ⁐☠㌴ᚺ䊫≇悹ᢉ㓐剈ᘫࢣڥƁ䅢炂ᡐ㸰N䃰洎㉡〹兢擖አ㲸फ஦拠掶栨塬ణM䘶晪ᄣᆢↇ㚂࠾托㛄ʃ〦婭䦢笱檠⾡䤕㊯旐⊏㜀⭐移G䀡挑砑䇁癞࠸䜁碼㈥䲡D⤦੷烨Ⱙ䑠Ⴘⱑൡ䁨ᣓੴぬ⠹ơヨᠩ䊣ቬὛ昒䥺ᡛ⌓Ჹ䝌⼴▲哚❢摨Ჾ⁲ᑪ㊥╴䏁པ✰⒲ᒦڰ撙㺞⡶ᕪ狅❓啬䚧䀡ତု䀠⍠₦5楓­P䛬ॡ䂦ℨ烘₯ш㐡竆䗊榖簡ၴჺ≌ᱥƀ䱑ܺ䍡єᨴ㉀䧜䪆ᅣ≰㔥䃠䣌ൠ愙໎㮺ⓠ焘ㄼ䓀㉊⬽䔃㣜㼰☰粔䍊܊笝ର㝉ڤ⸪ㆹ暰拹㞉囁盷゠๧ৡ烘ᛡ㗶矙㘦ᰢ↠Âᑆ㚣帆⠤ઐ᧭す窕⺾ڋ樖籠挍倅ϡࣈࢊ䥢࿑䍠⼱㞈縴䀡瓴堩䋱㺾䐁窆勳(́縿ထ䀠㾦䆏䰨礀㨰ᣐ㳱㺉ᜢ恑ᩇ⑬ἢ猑䪣ၩડႈ᪥摑¡摄ᜦ偀ᴩß䏣ၼߧ愰㟱℡咮粱໰䀮䧰琨ᴆ泟 ˠ囤塐Ԣ䡒዗䡕䥧催Ǘ⣭䭥㛚k吭Ȳ惋屒䂱婕䜑佃䛩啔や͒晙佐ᚂ剠硎ⷩ䚩䅖祸Ք択⁊ヹ块晌ߦᢆȱĚ僱᫨⫵娰ኆ䲎ย᩸ߠ㔎䐠Ⅸ⿵ℽ䡑ҁȁŁ䳔䪌䙴爪䘦擙ᥴઊ䑴櫞ව瓽䎃琣࢐愃ࢵ໓Ẅ亖᪗ⲷ䞇沧ᤃ康ᶓࡗԒ溯ྔủ唔䋗䷉÷嬊洗娂㹔䏣㸿䒪纻̪慘⠯ী㉨ᗈ㰯┿⸪䢖䓍ᜅ㋌ৢ␧纠⼨Τ㢩䈀䲨ᨈদ値Ҡ恤ԡ愝⌱ゞⲡၨ䖦█ن农Ӧ焢㵫碟2ʎᝯ椾ძ䣵兣圆ⵢ㚺᭣㙂ᖗ呎Ȱწ䄹墅垺嘪ᛖ⡢燐桍䝧㙍ᳶн⩠䕱䩋䙑⥓䗞㵔曩⡋┢⠠ "
   },
   "outputs": [
    {
     "data": {
      "application/vnd.jupyter.widget-view+json": {
       "model_id": "a7cdd7d923164d96aa332aa89853194b",
       "version_major": 2,
       "version_minor": 0
      },
      "text/plain": [
       "PersistWidget(data_values=[{'__id_column': '1', 'Date': 1352419200000, ';Region': 'Salt Lake', 'Place': 'Sunse…"
      ]
     },
     "execution_count": 3,
     "metadata": {},
     "output_type": "execute_result"
    }
   ],
   "source": [
    "PR.PersistTable(df, df_name=\"df_task_1a\")"
   ]
  },
  {
   "cell_type": "code",
   "execution_count": 4,
   "id": "108ec6c3-c14b-4bf9-b645-aa71686df81a",
   "metadata": {},
   "outputs": [
    {
     "data": {
      "text/html": [
       "<div>\n",
       "<style scoped>\n",
       "    .dataframe tbody tr th:only-of-type {\n",
       "        vertical-align: middle;\n",
       "    }\n",
       "\n",
       "    .dataframe tbody tr th {\n",
       "        vertical-align: top;\n",
       "    }\n",
       "\n",
       "    .dataframe thead th {\n",
       "        text-align: right;\n",
       "    }\n",
       "</style>\n",
       "<table border=\"1\" class=\"dataframe\">\n",
       "  <thead>\n",
       "    <tr style=\"text-align: right;\">\n",
       "      <th></th>\n",
       "      <th>Date</th>\n",
       "      <th>;Region</th>\n",
       "      <th>Place</th>\n",
       "      <th>;Trigger</th>\n",
       "      <th>;Weak Layer</th>\n",
       "      <th>Depth_inches</th>\n",
       "      <th>Width_inches</th>\n",
       "      <th>Vertical_inches</th>\n",
       "      <th>;Aspect</th>\n",
       "      <th>Elevation_feet</th>\n",
       "    </tr>\n",
       "  </thead>\n",
       "  <tbody>\n",
       "    <tr>\n",
       "      <th>0</th>\n",
       "      <td>2012-11-09</td>\n",
       "      <td>Salt Lake</td>\n",
       "      <td>Sunset Peak</td>\n",
       "      <td>Snowboarder</td>\n",
       "      <td>New Snow/Old Snow Interface</td>\n",
       "      <td>14.0</td>\n",
       "      <td>960</td>\n",
       "      <td>360.0</td>\n",
       "      <td>North</td>\n",
       "      <td>10400.0</td>\n",
       "    </tr>\n",
       "    <tr>\n",
       "      <th>1</th>\n",
       "      <td>2012-11-11</td>\n",
       "      <td>Salt Lake</td>\n",
       "      <td>Patsy Marly</td>\n",
       "      <td>Skier</td>\n",
       "      <td>New Snow/Old Snow Interface</td>\n",
       "      <td>30.0</td>\n",
       "      <td>1200</td>\n",
       "      <td>1200.0</td>\n",
       "      <td>North</td>\n",
       "      <td>9700.0</td>\n",
       "    </tr>\n",
       "    <tr>\n",
       "      <th>2</th>\n",
       "      <td>2012-11-11</td>\n",
       "      <td>Salt Lake</td>\n",
       "      <td>Two Dogs</td>\n",
       "      <td>Skier</td>\n",
       "      <td>Facets</td>\n",
       "      <td>36.0</td>\n",
       "      <td>840</td>\n",
       "      <td>5400.0</td>\n",
       "      <td>North</td>\n",
       "      <td>10200.0</td>\n",
       "    </tr>\n",
       "    <tr>\n",
       "      <th>3</th>\n",
       "      <td>2012-11-11</td>\n",
       "      <td>Salt Lake</td>\n",
       "      <td>Emma Ridges</td>\n",
       "      <td>Skier</td>\n",
       "      <td>New Snow</td>\n",
       "      <td>18.0\"</td>\n",
       "      <td>600</td>\n",
       "      <td>6000.0</td>\n",
       "      <td>Southeast</td>\n",
       "      <td>10200.0</td>\n",
       "    </tr>\n",
       "    <tr>\n",
       "      <th>4</th>\n",
       "      <td>2012-11-11</td>\n",
       "      <td>Salt Lake</td>\n",
       "      <td>Sunset Peak</td>\n",
       "      <td>Skier</td>\n",
       "      <td>Facets</td>\n",
       "      <td>42.0</td>\n",
       "      <td>18000</td>\n",
       "      <td>9600.0</td>\n",
       "      <td>North</td>\n",
       "      <td>10400.0</td>\n",
       "    </tr>\n",
       "  </tbody>\n",
       "</table>\n",
       "</div>"
      ],
      "text/plain": [
       "        Date    ;Region        Place     ;Trigger  \\\n",
       "0 2012-11-09  Salt Lake  Sunset Peak  Snowboarder   \n",
       "1 2012-11-11  Salt Lake  Patsy Marly        Skier   \n",
       "2 2012-11-11  Salt Lake     Two Dogs        Skier   \n",
       "3 2012-11-11  Salt Lake  Emma Ridges        Skier   \n",
       "4 2012-11-11  Salt Lake  Sunset Peak        Skier   \n",
       "\n",
       "                   ;Weak Layer Depth_inches  Width_inches  Vertical_inches  \\\n",
       "0  New Snow/Old Snow Interface         14.0           960            360.0   \n",
       "1  New Snow/Old Snow Interface         30.0          1200           1200.0   \n",
       "2                       Facets         36.0           840           5400.0   \n",
       "3                     New Snow        18.0\"           600           6000.0   \n",
       "4                       Facets         42.0         18000           9600.0   \n",
       "\n",
       "     ;Aspect  Elevation_feet  \n",
       "0      North         10400.0  \n",
       "1      North          9700.0  \n",
       "2      North         10200.0  \n",
       "3  Southeast         10200.0  \n",
       "4      North         10400.0  "
      ]
     },
     "execution_count": 4,
     "metadata": {},
     "output_type": "execute_result"
    }
   ],
   "source": [
    "df_task_1a.head()"
   ]
  },
  {
   "cell_type": "markdown",
   "id": "36c62d50-9c88-4ed9-8c97-e552a6e4c620",
   "metadata": {},
   "source": [
    "### **Task 1b: Fix Column Names**"
   ]
  },
  {
   "cell_type": "markdown",
   "id": "ab8f8f24-afd2-424f-ab34-3e3cde723aa3",
   "metadata": {
    "trrack_graph": "ᯡ࠽䈌ʀ匦㢠⹰ࢀㆪこ<ǐʀ୥崡汤Ɓ䔠⍂⠨撂䂼ì债晶堪慯掩ᐠ▴ሰ璹㤨䮲减ⓥ䢧᜾㺣䉠ð䀡壅冨㕀ॢȠ௞䠸ᢀ眰䅽忖䀢晐樠Ԃ牠ΈƔڦ❓ሠƠ暬ॡ声Ȅ恨䙜⬮ಬ俨⫣䞐డ㙐᬴⣔䰲ճ㌰䊆၂۔欠㖹┰᧶༨̘ඛฌ琻ɋ㉄ܠ榡哸Ŝ.ؗ⾬ള勑̵㯺ᱱ曨ဩᒡᾪ३⁂惡৒ј⪖ᩋࢶ䥣䍢ᇃ⢀☾ԣ䖎㑝䳓ⳄⓀ᪱ĦҐ戤׌㝔䆦成扉ڠ凈㨣ೣㅘ湏Bࡤ䒠ଈତޗ٩䟨㣜㥨◈ᩲ㭡⟢䀠 "
   },
   "source": [
    "It looks like something went wrong when reading the file and some column headers start with a `;`. **Please remove the semicolon from all headers**. "
   ]
  },
  {
   "cell_type": "markdown",
   "id": "63f4d5c5-9383-4857-beae-0cfa6ba466f2",
   "metadata": {},
   "source": [
    "#### **Instructions**\n",
    "1. **Rename Columns:**\n",
    "    - Use the interactive  table in Persist to correct the column names by removing the leading `;` from their names:\n",
    "        - _;Aspect_ → _Aspect_\n",
    "        - _;Region_ → _Region_\n",
    "        - _;Trigger_ → _Trigger_\n",
    "        - _;Weak Layer_ → _Weak Layer_\n",
    "2. **Verify the Output:**\n",
    "\t- Print the head of the generated dataframe to verify the changes."
   ]
  },
  {
   "cell_type": "code",
   "execution_count": 5,
   "id": "e74dd265-2437-40e4-8673-be7ea1d079b3",
   "metadata": {
    "__GENERATED_DATAFRAMES__": "ᯡࠩ䃬࿀ᜤᠹ悋ᐨ怱䐢犲ǩ怶恉宑召䵬ð䀲悠ᄡḡ沯偑嬸Ř˛ࠥ笪  ",
    "__has_persist_output": true,
    "trrack_graph": "ᯡ࠽䈌ʀ匦㢠⹰ೢ䄬⠻ᘥ〶从Ř㐀֨䂬綪嗚糐ǥ䂃,¸壃᢮⩩•ⳁႣⓣ䌠䣉֊嬕౻宕砈ሠڤ-崠ᆬ㺩j࠰}㩠怣㣣ט䈲曽嬠଱絰n杄V䐫䛦拠烁ೀᑘⰪ㤠ᶾấ≑⑄㦐ᢌ犆ㄻؤ+号橚䲰Ლ㙀穕䘪/ጢⅰ剙˜漒㤷ય‫ㆦ寃ѡ梀䠩疨䈣墢ࣉĹⰡ噃琠月Ⳁఇ嗸Ⱑ䷰泶е嫼Ẕ岢ېʘ=ཀἸᭆ渂Ɂ㤌ݚڂ㳤मʴ屒⍞צト⸥࿡∐昴ڷ愂瑔⺡䂬㏁ᒃ奾ྤ䃱䂺勁歫桂⢬✰Ⓚ⒠断䏒牔➴崪拃橇ࣼڔ⬷䗙嚒⇬擙ẞ⿩ᔌ䌩䘯㦼琸怠ᇐႝ*焹䁺䀻亁䀠獥壽だ嬓⫴姹啀ⷤড᪸/嗴൦垷栓巁࠱ડ壌圸䝥乌⊦ڃ兴ṿ¯ᤈㄨ杁⢇Ŭ睉璏⻹斒␸㘯р䢄┷ǁ栬ጵ䔀碜¨⟊᫭᭹㌈笔ਥዃ㣸⣼㒹ṓᳩ囔ບۢۺ眛ⷸ皸̇◺玼䂐ᢦ\"䓮㎯淚㳀࠮翋Oκ羖勆㊇摾墜悈ᨵ@㞤䐳㴬ወⲺ㞡ဠ㵓焜ۇ枕ắ叵ڧ♙忏玔〠೙═໑⁻䌢Ⴞ䄥偤䅠倯❀⡓۩Ქš搧ۤ杝ۤ汑Ӡ汎Ũ⤩䌀⁒ठ㾤䝠偘䛣㡨̣へ怡䈨⣰Ò琷稱偿⨪ာ橺姭恚姶䧌澷琜䁺掺糭慨૶ⅶԶ寶ᔩ寈囫ℨ㗪兘な䇎モᦀ⣦᧦䨡᥆ᓭᢆ⳧ᨆ⦢৘ὒ᭦昶ᩆ⃑ᩂ僊φ䳻ᬆ爿ᩴ挦儉ൻ⬚䑔栠ᔠ䉀⴫⌠ɍ⮉㕪嵶檠䴉ᱷ∡┏⩷続䠺ʀ䋐䁮ὧ䡨䲨恌֠ࢎ␓ㅬܪ恪᮷ᡎ౅㈢戡஗⩺䕆⅊኉⺲攼䯨ੂ䐥㹎拳婮䷲穡敢刾䙘♉䕘氹攊溙旐癝䞘中所⹋䎒噝ߚ恃抛䇉䮚纰කᇵ侘ṇ漐彆优哐∰僟挠䘨ԁ汷湆│匢擟☢ᓗ䘦㓧⒤瑢㜃ӱᷔ䄐᷶槤ჭᨆ卵櫈ᛄ⒁㫵磖う僎度Ìᷬ焐ၤ䁂Ṍ䕎ʱ㠾գ扉凡憒҃ઌ⏍䡌๢灖ס౼஡ⷖɪรḀ繟䀨屓ቧ䬹݃⭥ݻᑦ曀孭໻▣൱䅎ۚ䚮๖渜Ք暤何౥徣ᜆ૗囈ৗ䆁≔剑兔吉孕〬疼珜燔劅⁵喓∈䫙ᲈ䴠໅╖ᛀ栫揊ൽ刏栿㰿䏻⯰⻉㜋災ᠬ繀湸愥ཀ汧޺倳அ嵃è⡒ᙁ歺㊡㠫⋠Ⓔ懺▤䎪繢⩫燊⹬梸⫫ᆎ⬐㝯㟛綯僃ສ瀻桮⠤継䛲䢎够Ⳙ䃽㥗ḹᇔᨾ㈅ḻ䔠咆塈榙⮪౑䨂₻䋞⹗⭯慸皏ᙄ晬扷䷉徸ᒲ䤫ᕱୖ堂䅁時⹬㳯ԙ䏚ח㬗Ēཱ㏦䶂ă楝≝䊅厧斦ॽՕ⭎ヶ侮䁉̠尳䕎ᴲ⿙pɀᤙǀ㎢Ŵ⢴吳ᦸྩ嶧嬹㟑䂓ፌ椩ⴒ͸䨡奴᧐㐻㎈᮱䝄Š㗡幻揜篢䀯傡⡑竰ᨐ攫狞ቤ⸲ਲ਼栻㳸᭘≫樿౩ᾘ䣤䰊摄侵⪢應䝰㯉倠₼ᗥཌྷ◉窻ビ懵珺䴷儫ឰㄭఫ彮偮┉᪵溽ᥓᶂ᭘怪榼᫰㝿狄滧㪨߹ཥၰǹⶸҝⳢ紥䈚ᠰ屫䠭硑͡䮐↽搎ⱐ悤㏡ᠻ䄨ᄙ䴳෩Ҥ燈ਃ᠅䭂㇁▌农ტə䊤⊘䒔筫ᔬ猾ॶ䁶湔氫೤榺㔑䗇惂嗤䊿䭢䔿秜ᅄ櫭⍁ᜢ矆⭂Ⱕ漪ؼ碬℁䚑砪↨丽娨ⓥ㮞埑⾊㉮ᰍ⹚旼⡛泈㤘玴䜠䤒␮ₔ䗴嘴奌忸沧䜧ឬ㦐琑໥礚䀱㭵ገ䱆㊎筑๮䓸䵞䮠䥥ᶜ籨  "
   },
   "outputs": [
    {
     "data": {
      "application/vnd.jupyter.widget-view+json": {
       "model_id": "272bf073422b4faf9a8bc2ffc8f9bc04",
       "version_major": 2,
       "version_minor": 0
      },
      "text/plain": [
       "PersistWidget(data_values=[{'__id_column': '1', 'Date': 1352419200000, ';Region': 'Salt Lake', 'Place': 'Sunse…"
      ]
     },
     "execution_count": 5,
     "metadata": {},
     "output_type": "execute_result"
    }
   ],
   "source": [
    "PR.PersistTable(df_task_1a, df_name=\"df_task_1b\")"
   ]
  },
  {
   "cell_type": "code",
   "execution_count": 6,
   "id": "ef03850d-b811-4d6a-ab84-1ba0e010dbe0",
   "metadata": {},
   "outputs": [
    {
     "data": {
      "text/html": [
       "<div>\n",
       "<style scoped>\n",
       "    .dataframe tbody tr th:only-of-type {\n",
       "        vertical-align: middle;\n",
       "    }\n",
       "\n",
       "    .dataframe tbody tr th {\n",
       "        vertical-align: top;\n",
       "    }\n",
       "\n",
       "    .dataframe thead th {\n",
       "        text-align: right;\n",
       "    }\n",
       "</style>\n",
       "<table border=\"1\" class=\"dataframe\">\n",
       "  <thead>\n",
       "    <tr style=\"text-align: right;\">\n",
       "      <th></th>\n",
       "      <th>Date</th>\n",
       "      <th>Region</th>\n",
       "      <th>Place</th>\n",
       "      <th>Trigger</th>\n",
       "      <th>Weak Layer</th>\n",
       "      <th>Depth_inches</th>\n",
       "      <th>Width_inches</th>\n",
       "      <th>Vertical_inches</th>\n",
       "      <th>Aspect</th>\n",
       "      <th>Elevation_feet</th>\n",
       "    </tr>\n",
       "  </thead>\n",
       "  <tbody>\n",
       "    <tr>\n",
       "      <th>0</th>\n",
       "      <td>2012-11-09</td>\n",
       "      <td>Salt Lake</td>\n",
       "      <td>Sunset Peak</td>\n",
       "      <td>Snowboarder</td>\n",
       "      <td>New Snow/Old Snow Interface</td>\n",
       "      <td>14.0</td>\n",
       "      <td>960</td>\n",
       "      <td>360.0</td>\n",
       "      <td>North</td>\n",
       "      <td>10400.0</td>\n",
       "    </tr>\n",
       "    <tr>\n",
       "      <th>1</th>\n",
       "      <td>2012-11-11</td>\n",
       "      <td>Salt Lake</td>\n",
       "      <td>Patsy Marly</td>\n",
       "      <td>Skier</td>\n",
       "      <td>New Snow/Old Snow Interface</td>\n",
       "      <td>30.0</td>\n",
       "      <td>1200</td>\n",
       "      <td>1200.0</td>\n",
       "      <td>North</td>\n",
       "      <td>9700.0</td>\n",
       "    </tr>\n",
       "    <tr>\n",
       "      <th>2</th>\n",
       "      <td>2012-11-11</td>\n",
       "      <td>Salt Lake</td>\n",
       "      <td>Two Dogs</td>\n",
       "      <td>Skier</td>\n",
       "      <td>Facets</td>\n",
       "      <td>36.0</td>\n",
       "      <td>840</td>\n",
       "      <td>5400.0</td>\n",
       "      <td>North</td>\n",
       "      <td>10200.0</td>\n",
       "    </tr>\n",
       "    <tr>\n",
       "      <th>3</th>\n",
       "      <td>2012-11-11</td>\n",
       "      <td>Salt Lake</td>\n",
       "      <td>Emma Ridges</td>\n",
       "      <td>Skier</td>\n",
       "      <td>New Snow</td>\n",
       "      <td>18.0\"</td>\n",
       "      <td>600</td>\n",
       "      <td>6000.0</td>\n",
       "      <td>Southeast</td>\n",
       "      <td>10200.0</td>\n",
       "    </tr>\n",
       "    <tr>\n",
       "      <th>4</th>\n",
       "      <td>2012-11-11</td>\n",
       "      <td>Salt Lake</td>\n",
       "      <td>Sunset Peak</td>\n",
       "      <td>Skier</td>\n",
       "      <td>Facets</td>\n",
       "      <td>42.0</td>\n",
       "      <td>18000</td>\n",
       "      <td>9600.0</td>\n",
       "      <td>North</td>\n",
       "      <td>10400.0</td>\n",
       "    </tr>\n",
       "  </tbody>\n",
       "</table>\n",
       "</div>"
      ],
      "text/plain": [
       "        Date     Region        Place      Trigger  \\\n",
       "0 2012-11-09  Salt Lake  Sunset Peak  Snowboarder   \n",
       "1 2012-11-11  Salt Lake  Patsy Marly        Skier   \n",
       "2 2012-11-11  Salt Lake     Two Dogs        Skier   \n",
       "3 2012-11-11  Salt Lake  Emma Ridges        Skier   \n",
       "4 2012-11-11  Salt Lake  Sunset Peak        Skier   \n",
       "\n",
       "                    Weak Layer Depth_inches  Width_inches  Vertical_inches  \\\n",
       "0  New Snow/Old Snow Interface         14.0           960            360.0   \n",
       "1  New Snow/Old Snow Interface         30.0          1200           1200.0   \n",
       "2                       Facets         36.0           840           5400.0   \n",
       "3                     New Snow        18.0\"           600           6000.0   \n",
       "4                       Facets         42.0         18000           9600.0   \n",
       "\n",
       "      Aspect  Elevation_feet  \n",
       "0      North         10400.0  \n",
       "1      North          9700.0  \n",
       "2      North         10200.0  \n",
       "3  Southeast         10200.0  \n",
       "4      North         10400.0  "
      ]
     },
     "execution_count": 6,
     "metadata": {},
     "output_type": "execute_result"
    }
   ],
   "source": [
    "df_task_1b.head()"
   ]
  },
  {
   "cell_type": "markdown",
   "id": "3875e7fc-ec40-4241-aa94-87b31e59944f",
   "metadata": {},
   "source": [
    "## **Task 1c: Correcting Data Type of 'Depth_inches'**"
   ]
  },
  {
   "cell_type": "markdown",
   "id": "7a7eebda-1b60-4bff-89d3-a5548a601b49",
   "metadata": {},
   "source": [
    "There is a data type issue in the `Depth_inches` column of our dataframe. This column is incorrectly formatted as an object (string) due to the presence of the inches symbol `\"`.\n",
    "\n",
    "Remove any inches symbols `\"` from the `Depth_inches` column and convert it to a float data type."
   ]
  },
  {
   "cell_type": "code",
   "execution_count": 7,
   "id": "fb9bff61-9a8d-4114-97f3-4f6d0cd0e61e",
   "metadata": {},
   "outputs": [
    {
     "data": {
      "text/plain": [
       "Date               datetime64[ns]\n",
       "Region             string[python]\n",
       "Place              string[python]\n",
       "Trigger            string[python]\n",
       "Weak Layer         string[python]\n",
       "Depth_inches       string[python]\n",
       "Width_inches                Int64\n",
       "Vertical_inches           Float64\n",
       "Aspect             string[python]\n",
       "Elevation_feet            Float64\n",
       "dtype: object"
      ]
     },
     "execution_count": 7,
     "metadata": {},
     "output_type": "execute_result"
    }
   ],
   "source": [
    "df_task_1b.dtypes"
   ]
  },
  {
   "cell_type": "markdown",
   "id": "b23913ac-ea3c-4ca1-8ac3-07d3026ca76e",
   "metadata": {
    "__GENERATED_DATAFRAMES__": "{\"nodeDataframes\":{},\"graphDataframes\":null}",
    "show_aggregate_original": "false",
    "trrack_graph": "ᯡ࠽䈌ʀ匦㢠⹰ೠ↺΀Ơ瘢ᠢᠫ‵䁇ፉ䐢怣侽振ၑ䶃᪰঵䂆⹉多䪲┠অҤᴶṂ㊵嘊᭓ㄅ毠㒰䣑Tဠ㚉҃೨ɰ䂠̂҆;䘸Ϥၗ眼䋐Ð䬹†于␠㚠ᝨ沂烒⎁൸憈㬸ᐠṬү䓧Ⴠ椓ᣘ⌚ᆠᛦކ䜱ǁ䅀㖖नຂᩈ桫〦塵偢㶱⢠⾱䂅埦䖃塀㪂ₐ暸ᵽ䀳怠煼砤慸㴻ࠩ㯏姭ঌ䄢䣫䧙㱈刱ㄿᬦ䩫⏃㌱楫磤ⰴຣα晼ਫ䎁㺕䮃Ⴤご䖂᥂挰ы゙㈬ܠ₰ᑊІ僑汮ޯ戩䉱៪怡⹁ᡤ甑擸抯॰ᡬᅓ╄璚╄㈠ "
   },
   "source": [
    "#### **Instructions**\n",
    "1. **Identify Entries with Inches Symbol:**\n",
    "    - Use the interactive table in Persist to look for rows with `\"` in `Depth_inches` column\n",
    "    - _Hint_: You can search in the interactive table\n",
    "2. **Edit and Correct Entries:**\n",
    "    - Edit the cells to remove the inches symbol from these entries. (e.g. `15\"` → `15`)\n",
    "3. **Convert Data Type:**\n",
    "    - Change the data type of the `Depth_inches` column from string to float.\n",
    "3. **Verify the Output:**\n",
    "\t- Print the head of the generated dataframe to verify the changes."
   ]
  },
  {
   "cell_type": "code",
   "execution_count": 8,
   "id": "7cb9b796-3aa5-4181-bf91-fa8ba7e33c20",
   "metadata": {
    "__GENERATED_DATAFRAMES__": "ᯡࠩ䃬࿀ᜤᠹ悋ᐨ恑䐢犲ǩ怶恉宑召䵬ð䀲悠ᄡḡ沯妶ᠢ㠪癀ఄᐠ ",
    "__has_persist_output": true,
    "trrack_graph": "ᯡ࠽䈌ʀ匦㢠⹰攢㠬㍬㍡㑐ૠ࣯LǸ〦㏴吣ᠢ㈅ド⚲昡ۥᰠ㢲䀤奢K䦻ᜡ঒檔ඹ墒爏桊Ѡന;ὲᢦ刡ᑀ‡㢠ᦠ܃خ焨ᗻ筀ᠠ⳦ೀnᝄV䐪ߤᑀǒࣱ䒘䉆ㄬ኶䚨⏡䔫熩㳤ਫ਼଴⡴䬲%栺಼晨䈣ب⾦檠޳ŀĸᲤỸ匵཈⑋ࡐ˸悌糂ၞᡄᚆ晁܌↤橡⓶⓿ࡏ㸵⠥砹ཷ㒜఻Ɇ箎˓޹堢㰠໏睟దྉ硠扷ᯨ爑暄Сᅩㅈફ㨐㶒֤ᄔ氪ᜤ愅烈ᕧ揤簸ᒫ₳⒏Ѝ票⶞᷂Ƽಣೇࡄ䤴䵁䦄㥢ཇ䀴あ䓆⡵猸㷬查঄啎䡱ᦌ坏䨵䕲婂ᛴ☦巠ˊ㹱㭪 ࡐࡁ䀥㩬恣‮†䒀侭䰀Ȕ⃟中㘉ک!瑔⢦䶢ǔ穢.䡦寜竈ἅ⃤᭓冣᧬曟䠱іࢴξᄘ瑝ϱ瘘䨫޸トᙙڨᖔ娰䦫䯊͇撑㣼楚֡成∹ॡ刈䙋໤燘帠䱆碉㛇⇓用ư摁えᘠ救䴆⢂泓㓶ⴖ毐䀮⎩椐尶⃕殗嵮̼Ł䀠兺ᚯ秾僈ȯ㲠曐ᰕᲷ娅亏ఁ籀ᗑ增ర䌁ᐠ䂿੡ҿᣦ⛾ਭ硲'割垠探獢ߦ䓹ᨸ猢灁⑝惁㑟١㚫ߘ汆࠱࡬桡僸寢ẻኰậĔ䨯䉎Ც䂀ⒶႸɴ䅐㐻䅐Ế䨈⩊␆䤥婑᱄殺䭠ǩ碉䬥ࣉྊᴷ✊粘ೆ唗ໄネ᳦綃ᇥ␪΄䁤ᛄ猧ᔈ烢ᬅ墳ἂ䌨潫㙟䀩İ⎀ⱚՀ撎潁筅࡚吱懃䞍՚⽚䴂ℾ䦘獈޸ଡ଼Ѹ䭕湺䡪浸空摃武止䕩๊玜暢ஂ柢䮊孴犚婲᪦挡ᬭ⪂ℰோ畴ಊ䴫▉洧┊嵐༊㶏┡紪ْ΀涋儨攸ᲇ଺㬤撸厉溻ɰ䧐ᙊֳࢂϲ窸䑺⡷庲Ҳ䞣ጪ̖扸付悚峸ᣬ懸╶ⵈ㥙◪ᕞⳉՕ⥳᩶䂉㩾俲ن˙倶࡮㝹佒睻࿛噿沚侃䐦⺋晀湛䄑㘧攚得拯晠ᤐಟ毭㚀጑䃊⼁₸ᐷ惯ᵤ䁺ᮓ棬 多ံ㢶ض⢹㲤ᵚᰅᢰ˧㚷ᄦ皱׍㲺ᯌᘝ㎦墰ۍ⒂ù硕橠〥લ⡢Π牸䑡灸䙢戻䚣䒩ᬑ丨喅⌀⬁抶圹㭙௺ᐡ拃ޕٙ㑩毃ᓃིℶঙ硇剢弗偑Ӡ㱹灿因ǀ㈬縐㔩䕧崔Ⰾ⨔殿圔ᯑ哾䈐ㅕ㖉埊权⏆ᚻ⚆囫ἢ㛿⢋冔⿔䎂ಗ⍓凸䣋幤溠䞕㎉݈⠪ܩ煺ࡓ㈪ণ刵晔ᑊࡁ攜㘿ࠨ㫹⇉౶䫎年㵯喚䛉⭀桕፳ശ僦婧᱘棘磨₸ᖡ䘩ᮎ⠧ጵ䁜檏墧ݬឡ䲏᮹禨ɞⰤ猯悘倨᛻L㾠䍨⑹ℾ२Ӓ慉㓸孇ᛶ溥ᩯ斸凹ˋ䢥✔ုᓖ渺䉖柢ۨ沝ӹ⑊磐㢭䮙㘁ُ憦澍໽慒ਢ㠿2㉡瑙Ⓚ琤䢢ⓠᐯ¸ᚡ圱ʰᨢ䀰㓈⤆䴟ࠨ燶ᘂ䥚搯え㾆⡁捰凩倳䏁曶儫䤡ᡅ煠稔彜۞碩℗掱㰺抨ؘ刺ϟక㔤卞ః䱩᎝⥙᧲⨙㊋笄幧擱犺ᧉἓ⯄䭮㱌嶉ⲧ冚㌗≔͠瘈㬋䗝❽堲䨢⺹૆ྥ嵬木ဨℜ⯁Ъ䇨੨〧壷㴡ॳ઀ప⺜࿲癔䥟它㾸旹ᦑ㵗圎欍窕濽罰㶨ᠻ߇磠攖捤|◯䙬ର梩偠᪂䦮煌Օⱊㅁ᪇䈇䑍щ䶏ᖹḧ᧞┩玚ஆ㿠ʸ庐ྩ䍠֧䖻≫ϓ䅮໶⮅ሊᓌɅⰴ⑋ٸ䑻⪩烥㒒ⴼ㙢ọ絅⊕媷妆䔻͉Aڨ㞃㡖Ẩ䤢䁐ᙁ⠾Ĳأ戬րេኑ݋䩍抆⏧⋜㤘枃礄卮₾䩹昳奯ᶒ婆ဥɾ⋩璅䵹䄋㢻ᬕ子䆖㾄ᄱ旪⤤罖玊ִ契̋歝檚᏷㵡昚䧮碃Һ⤠ê࠭㲦䀠ᒜܡ䦠ѡ#䰠ኰ楨Ḃ枪梔䛶漫䵁㓳ヅ咸୲椯䍓溤⃐ᘧ䤲埠娨勗検ཀ倸ᴙШ挶⩁䂅୙㛮㬑ᱲ埬匏䋆ῆⓌ䵫攗䨐䲇ǿᮬ䌫Ⴉ夥偹ᮢ嘪䋌⦥㏯♷䑣ᾫ૨☑冑ݰ湏猼⻝၇⓬ḥⱄ䯸Ⲷℸ←䡤䰨ڐ宇╆⋪㫴ߠ晥淑孡嗕䇡ⶱ樏劦⤼⩲䭄⽻愓࣐睊䡘ύ۾䏽ҧ㢚≔㙧㒝៘㿪ぼ֨ਧ䐢䊲ᐰ䆵❀庻ȆⱤಂ޲凂檴㾅碐汨笓፪憺Ȣᆪ⾎皶嬎丁〧᪰܂఼àᒑ櫨唑ᣀ伃᲋⧰ዲ博䉶⬇⑨វ剠戩㰽忳న⚲⿖⠠瘩ᄍေ欽䧴Ⴓ偳渹曛ⷮ箏ઙ漤໖ؓ巏猳峂൅ᬋ㍗唎㑬堢ᚲ歍旎㉊㗲❺ₗ墮䤛扖歩㜃瞹戬䳌䋀ඡᅈᕵሱᄛサ盶Į咦穿捚ᶱ殽ⶅ嵷楦拊笚Ϲ壵欞姚㎫งྕ撷噄၉̔ࡸ叹⚧䂁៟Ё✖ᆑ߾橊獯憝忧ℿ偪 䩔㒶ࣔ塨媭↼ኳᬣᎍ݇塰䇐嵌ᥭ䄤ܴ冷墣乲ᘝᖱ䒩嘼㟈⡟杸壦灄䦃䈪⑵⑹嫚ᴕ⯧ഏ䕅ᦽ┬焩䳃丱ᾼ祫⦂ጒ櫱Ʉͼ爜ֵ⾆毒䟡ᶅ䇚招˨˳絿偦媇ᛘ啤ۮᴋ侚祏尠̪籂搆峷ሒ濫؁璡严̀åآú֭૬ゖ㤾㩜ቬ㦕䰔⠀䟮㉨㴇仈⻙侈秽嚫潛ஞ㚨ƈᙞ↏悏昩ḕ熃欥㷩՛㏑㡊稸⬁໽瓂礪㼓岨埽䕔ᱍ⁻童式羃汲珹䀴ᬧ汎箿㎀犏䫉⼬森਱䀾ࢿʍ〢㠀⚏猋ޠ涵௽༥໢ゆƠ␾䡰ˠ癋疈ᗏ線⌐㨢࡙⽈⫥‵烐㹢⟐岮活∐!⮡㲻垿䔠敚埂愥嬗⺌֯椣ᎃ沒᧣ⱪᔀ।簲᥻ᷢ❉⊝乀ᔤ㉙㛐希亟ࣅᵘ、㖋᮳姀暤࠿珘྽甀ᝦ㭕䖽⌁殄ઓ埕崆㡀  "
   },
   "outputs": [
    {
     "data": {
      "application/vnd.jupyter.widget-view+json": {
       "model_id": "8f92bcd5963c438097d0d5c485152efb",
       "version_major": 2,
       "version_minor": 0
      },
      "text/plain": [
       "PersistWidget(data_values=[{'__id_column': '1', 'Date': 1352419200000, 'Region': 'Salt Lake', 'Place': 'Sunset…"
      ]
     },
     "execution_count": 8,
     "metadata": {},
     "output_type": "execute_result"
    }
   ],
   "source": [
    "PR.PersistTable(df_task_1b, df_name=\"df_task_1c\")"
   ]
  },
  {
   "cell_type": "code",
   "execution_count": 12,
   "id": "2a24996b-c108-4a24-aed7-11fb0f7e00db",
   "metadata": {},
   "outputs": [
    {
     "data": {
      "text/html": [
       "<div>\n",
       "<style scoped>\n",
       "    .dataframe tbody tr th:only-of-type {\n",
       "        vertical-align: middle;\n",
       "    }\n",
       "\n",
       "    .dataframe tbody tr th {\n",
       "        vertical-align: top;\n",
       "    }\n",
       "\n",
       "    .dataframe thead th {\n",
       "        text-align: right;\n",
       "    }\n",
       "</style>\n",
       "<table border=\"1\" class=\"dataframe\">\n",
       "  <thead>\n",
       "    <tr style=\"text-align: right;\">\n",
       "      <th></th>\n",
       "      <th>Date</th>\n",
       "      <th>Region</th>\n",
       "      <th>Place</th>\n",
       "      <th>Trigger</th>\n",
       "      <th>Weak Layer</th>\n",
       "      <th>Depth_inches</th>\n",
       "      <th>Width_inches</th>\n",
       "      <th>Vertical_inches</th>\n",
       "      <th>Aspect</th>\n",
       "      <th>Elevation_feet</th>\n",
       "    </tr>\n",
       "  </thead>\n",
       "  <tbody>\n",
       "    <tr>\n",
       "      <th>2084</th>\n",
       "      <td>2022-04-11</td>\n",
       "      <td>Uintas</td>\n",
       "      <td>Moffit Peak</td>\n",
       "      <td>Natural</td>\n",
       "      <td>Facets</td>\n",
       "      <td>96.0</td>\n",
       "      <td>1800</td>\n",
       "      <td>6000.0</td>\n",
       "      <td>Northeast</td>\n",
       "      <td>10500.0</td>\n",
       "    </tr>\n",
       "    <tr>\n",
       "      <th>1688</th>\n",
       "      <td>2019-02-24</td>\n",
       "      <td>Uintas</td>\n",
       "      <td>Chalk Creek</td>\n",
       "      <td>Natural</td>\n",
       "      <td>Depth Hoar</td>\n",
       "      <td>96.0</td>\n",
       "      <td>2400</td>\n",
       "      <td>8400.0</td>\n",
       "      <td>Northeast</td>\n",
       "      <td>10300.0</td>\n",
       "    </tr>\n",
       "    <tr>\n",
       "      <th>958</th>\n",
       "      <td>2014-01-20</td>\n",
       "      <td>Uintas</td>\n",
       "      <td>Moffit Basin</td>\n",
       "      <td>Snowmobiler</td>\n",
       "      <td>Depth Hoar</td>\n",
       "      <td>96.0</td>\n",
       "      <td>3600</td>\n",
       "      <td>9600.0</td>\n",
       "      <td>East</td>\n",
       "      <td>10900.0</td>\n",
       "    </tr>\n",
       "    <tr>\n",
       "      <th>588</th>\n",
       "      <td>2011-03-22</td>\n",
       "      <td>Logan</td>\n",
       "      <td>Castle Rock</td>\n",
       "      <td>Natural</td>\n",
       "      <td>Facets</td>\n",
       "      <td>96.0</td>\n",
       "      <td>6000</td>\n",
       "      <td>9600.0</td>\n",
       "      <td>North</td>\n",
       "      <td>9600.0</td>\n",
       "    </tr>\n",
       "    <tr>\n",
       "      <th>1752</th>\n",
       "      <td>2020-01-15</td>\n",
       "      <td>Logan</td>\n",
       "      <td>Rodeo Grounds</td>\n",
       "      <td>Unknown</td>\n",
       "      <td>Facets</td>\n",
       "      <td>96.0</td>\n",
       "      <td>2400</td>\n",
       "      <td>8400.0</td>\n",
       "      <td>East</td>\n",
       "      <td>9600.0</td>\n",
       "    </tr>\n",
       "  </tbody>\n",
       "</table>\n",
       "</div>"
      ],
      "text/plain": [
       "           Date  Region          Place      Trigger  Weak Layer  Depth_inches  \\\n",
       "2084 2022-04-11  Uintas    Moffit Peak      Natural      Facets          96.0   \n",
       "1688 2019-02-24  Uintas    Chalk Creek      Natural  Depth Hoar          96.0   \n",
       "958  2014-01-20  Uintas   Moffit Basin  Snowmobiler  Depth Hoar          96.0   \n",
       "588  2011-03-22   Logan    Castle Rock      Natural      Facets          96.0   \n",
       "1752 2020-01-15   Logan  Rodeo Grounds      Unknown      Facets          96.0   \n",
       "\n",
       "      Width_inches  Vertical_inches     Aspect  Elevation_feet  \n",
       "2084          1800           6000.0  Northeast         10500.0  \n",
       "1688          2400           8400.0  Northeast         10300.0  \n",
       "958           3600           9600.0       East         10900.0  \n",
       "588           6000           9600.0      North          9600.0  \n",
       "1752          2400           8400.0       East          9600.0  "
      ]
     },
     "execution_count": 12,
     "metadata": {},
     "output_type": "execute_result"
    }
   ],
   "source": [
    "df_task_1c.head()"
   ]
  },
  {
   "cell_type": "code",
   "execution_count": 13,
   "id": "56f44f31-caea-4c1d-ab55-84e2173091bb",
   "metadata": {},
   "outputs": [
    {
     "data": {
      "text/plain": [
       "Date               datetime64[ns]\n",
       "Region             string[python]\n",
       "Place              string[python]\n",
       "Trigger            string[python]\n",
       "Weak Layer         string[python]\n",
       "Depth_inches              Float64\n",
       "Width_inches                Int64\n",
       "Vertical_inches           Float64\n",
       "Aspect             string[python]\n",
       "Elevation_feet            Float64\n",
       "dtype: object"
      ]
     },
     "execution_count": 13,
     "metadata": {},
     "output_type": "execute_result"
    }
   ],
   "source": [
    "df_task_1c.head()\n",
    "df_task_1c.dtypes"
   ]
  },
  {
   "cell_type": "markdown",
   "id": "753ed0a8-dc0b-4ac8-8afd-b554ea8f4d28",
   "metadata": {},
   "source": [
    "# Task 2: Filtering data\n",
    "\n",
    "In Task 2, we further improve our data by removing outliers and removing certain records to have more consistent data. "
   ]
  },
  {
   "cell_type": "markdown",
   "id": "7f25d8f5-98e8-4b0f-9358-ed85f77cbed8",
   "metadata": {},
   "source": [
    "## **Task 2a: Remove Outliers**"
   ]
  },
  {
   "cell_type": "markdown",
   "id": "ac53a605-2d10-4457-9625-70ce88f04f3b",
   "metadata": {},
   "source": [
    "In this task, we address data accuracy by filtering out anomalies in the elevation data. We observe some records with elevations outside the plausible range for Utah, suggesting recording errors.\n",
    "\n",
    "**Remove avalanche records with elevations below 2,100 feet and above 13,500 feet, which are outside the realistic range for Utah.**"
   ]
  },
  {
   "cell_type": "markdown",
   "id": "664c641e-1193-4233-8897-0161f209c86f",
   "metadata": {},
   "source": [
    "#### **Instructions**\n",
    "1. **Identify and Remove Anomalies:**\n",
    "    - Interactively select data points with elevations below 2,100 feet and above 13,500 feet in the Persist Scatterplot.\n",
    "    - Use Persist's interactive features to remove these anomalous records.\n",
    "2. **Verify the Output:**\n",
    "    - Print the head of the generated dataframe to verify the changes."
   ]
  },
  {
   "cell_type": "code",
   "execution_count": 20,
   "id": "73d5727a-f059-4bf3-977c-1ce0d6d92eba",
   "metadata": {
    "__GENERATED_DATAFRAMES__": "ᯡࠩ䃬࿀ᜤᠹ悋ᐤ推̅ሣ䧠ⶠ卍捯ᥔᠣ℠▢dʘϔᝠ捌〤瀵摠៨⠠ ",
    "__has_persist_output": true,
    "trrack_graph": "ᯡ࠽䈌ʀ匦㢠⹰ಀጴĀƦʐր୩䘡油ࠥ䚵ì䘅Դ䐨拀↡¬㴆⁪າ⠠䭈⑁棒爱ᝉ⍾凓⬮溜ʤ䐡傠ǔ爃′䈤7࢝ᠠ湐憎Ⴄ姗㵀ˬ⃴3姩-儢凒〩ᡜ㒌ᅖʦൡ₁煳动璌๾༥༮䞢%氈ഽ♨沝ਰ㎺挥'䦡ჸ擸汖;઻唹䓧栢沁嚼儰✸ሢ㶆Ⴃ㙀䋪⁜⬠㖨玠᧚ै̛疖ஔ临㖢֍㜯ᦢ佸Ŝ.ߗ੗䘥৒碣ࣘ帧Ꭶ㍀ ੣楠搫厦愐䑔ጦ懁咜,慃ⅰᄧ䊢㡝㘳䆠碔⥇䌓ẏᒮ冠ᨯ⇱俰⊣Ȿᑪ䡉☭ჩ⡹๪䏨੥ᓢஐ姱ᭁቩ㥜晻ᗩ磢煼噑⪎9⪆紺⠠`ʨ⫠䋩〣甈ᡘ柈I棊߀∋嘨ཱི椔碌)◱甠᪬0Ɒၹ倬縀定ᦢ儐㱓嬋惰㱌㘊祊䁻䜦歎⽇栄֢ᖨԧ寞⋑ຩ⃀ᱵྡ挐瑴༲䃰ᡴı₀ᑪ੷桾巓䬆䡐ᱞ౥၈橍âへ瘷޶榤㴝⯍㗺仗⟶懱㣍੗െぬ材㔶旊激汀淎濑嶮榰㙇ᵎ段爣䁄ᠡ坤寿ᓥ@ǯ倠⮸آܳ珙瓃料漨=噇戤⃈┠ါ抰䄫扐嶷䙣帴䀡瑴䈇棠䃣ƨ㭐哙处懸ⷥ战⊪ℭ᢫㡄∴兀䚪䣼§⊘ದ噤ؤ恈Ƥ⺘ᜱₘኤ愎䔦恝ԣ滄䴡¬␢憢⛔ᆼ㒪儢⾮刏ᐢ᪮ᴗ᪶岅Ԗ俀Ȱ䆰ᓧ冰潞楰崽檀㰵柙佛新筭〦៤ᠸレf࿺᫦⃍媩⢭䀰ậĔ崩ᣆᓃ摰ȣᖅẨ猉絍抐䍟嬹湌ʐㆭѹ⤮䔊ࠠᄉ崩䐹䤶坸⹄±㮣埑卝炤倢֨懫懰ㄴ慠࿴ϭ䗊⍹።硺⭶拴漴篊ဠ⤤ᆁ㪵僗籉ԷͰ渹㸤ߔ໰∡ṳ嵩岓υ嚑刘䉇ᕣʢȄᵐ將精䠷ǰ㘄糊ٰ䉜嬻᳴呴䬌寁ዘ檮ଔ妷㊲䒑ຎ埇ᤉ䍴㢡婤砠䘥悏ڋ䤆偅尠⣰Ɋᐕ眏䰓縷຀怱Ȓ䝙Śᒉ拁枕ࣙ㑤䏁㫣ॲ䅖Ԛ䭚浇摊捹兆࣡ᬶ曻⫮淹偾昩䔲智㗪浺殚濏ᭂૻ嬳㏹㱃ʂ廍⽦畣Ⲋ泐෗ⵛ℉ᴷ⟉墌܇㵿⮕䐸圴ዻⶠ፝ⲭ灔澁ᱬ昘獽吀ୀ䦛䊜䙢भᑡ䡖਋⡯⥢㡚ѩ࠾䙫⓲欣䮧䛐ނ籘┸䜳╮╢剼⯫祥⾲ʱ⭱坆䇚ီ䗲窞䟛⍒࢘♉䪘池稧噍䏑皈ነ彗斐ဏ次缠ᦝ䅈᎓䃨ሦᾝଦ᪘ᨕ⧴Ẅヒ㎤〯юᶩࣉࢭၡᆌł㿂⊌ܢ⳽燐ˋ䧋ࢠ冶厎ႡᠥŐῥ瀷˸ᄧ婔㭣᮱Ͱ垦ᐸǠၥ絰㔐⋨䣜㩇ϰᄌف䐬䇄楴‭̈⪸ᢘ梱۴ހ盐о㋌攽儨ᗨ㘻䆵Ͱ䬲Öსػ所๔刽ৱࡹᮡ̈́㧥ᚊȈᠧ撼Ӡ粠䄂ᩐ偁䘥ㅶ猿؆㾮暢汌⎶⇧š❒䋮᪠⹭ࠀ禂屯䲉檭¿̓㲥㪂㖕坸曠܄溼˼淮䁛岡䲈剨㣃᝘䫎ᬏࡩኳ䷵岘ᷙ᭖⟑⟔ᴿㇴ⚯癖⪈䇾旌ੑ䎺㢐㘧琿⠔䃧㫑⛢瀥ᳳ䍙㎨㄃㕼揺⌄ⲁ̡堶ႁ໑㈾狂㴦䥂ۊ斴⁈ՠ⠾࢚ᴰࡑ䆰㞕啞犰疎ⱺ枍㫡堭姹ට㇐ជ㭙珄痬士淘毽ࣁ䶡㟑犠⼗䰫恞ᯧ㱇朝侬灎Ἒ㽕笞䀁檋䔠䠉簰ⶪ⓫税చგଟᚯℵ䈊ᔻ⇀᝴䍻ΐ㘧ⁱը篡璱ᆦ䨾੪Ꮳ⡕⏰㺤䳞Ҩ䂕㔑ಱ㉲橫曜牄ᓡ䪤祭׈䃎煭໱㜮䓱敠ᫎ䅑Ꭳ⮺⑤♱၎䁤籢䱭ྱ剫ᖼ≐縻䐫ბ剱㈑䧤偓䫁玣₷ᑄ䑘❋ሧ≇晹喹愋Ꮚ栫㌈ޅ皜∼燩灳余粩㌀䞲卅㊭䱖㚕Ŧ䌡䚣䩙Ꮆ㤷᭲檻渓䧆䒈埔咅側炮㘭హ⿲ⱞ瘂刉䙤㡬突朹修㳫焞౽ℼၰᾣ᚜䏚Ħ႞䇠爉㔃攠娧⩛ἱ笧ࣼ繭䔌ӎҲ⨕毓⥝ፊ㍇⩷㫎࿨⽟䫼嘍฾䢱⃇㶆ྚ媔ᔿ㸅ἤ⶜⑱糗Й㟣ઠ嘘煫窞䠑✆㎐ቼ⊟慪J䪵で䁫剠琬㌑⭵䛼䑠潃᳞榴⾥祠䖠嘩↼ୣ簷ØᇢⳀ᫰ᶶ烼喒睌勢ễ甸ᕬᕺ孽剐缧娳㔁泋䍎⡃縳▸ᑕ䉛䜌䞉₇ߏೈ僆Ḓㅔ⌲㇂絢⭹䐠畣凲ᔤ偬圈᳻岬ໄ㢦Á䌁๵㏂ੁ嫏䏕纍〾ᔋ幞ⅽ㉸ʇ囫࡬ࡐ佈罸䃼婛換Ňㇰ枒⟤㩠⼔䉽縢嵴ۚ᛭᪮㱎⌔睰౿伄䁫旴汉㥑⪫泄ǆ⹅㒪伹浻⋀分⃽ᚠ㗭䁻やᎻ㝇ළ璛⟍坣ౝᥓ单嘛㺅ނ撠ᅄ䑀⽤Ѧ₈΃吧ᅱጣᠾ㐰᥃怾䟨严࡝໛㷨㣄ᡖ㍱䞆盫書֭䋰䷥岺៞䡺ᬔ垿⋏⹤㺳暝䡴墏宙䟡祶਒乗瘡ᐒ纟潥傕䗠㛑㣆຀債䅄ടస䬟瘁煑揄㩔೒䜀⾮╯〔⩓䬂勪兆₊㻧䫎䫨眼ⲵ࿠䴾樗䀻癸⃝௙璂䃉焬䤍ᴃ䔸㏢ഁᑢ毮↵嗳±ಢഒ䬓罊∌㵣䘳≴㴣䴍Ⰺ篫᲼唢䝥䯤䁷扛◊玣ⷘ㏻₧ᥫᵀ᭚Ԯ㱄瘃未傧ଟ仭禧嬋ջ竝௳乇娧ڄ粹幸湔玬棐哔䵿ఢ㺱曗䂌Ŏ⃲ႅ湼穘㶃咺હᮉ㥙堜㈶඗⼁彿㳟≳毛㇞㵗啴⾳㑁璎ᦲඡੋДᬣ⒢⍀ج႖攡杜岼㄁噍嘓㮬㪱ㄓ熇爎嵌䅛樢矵˳䊢Ģ㹉峠᧗ᬫ㗓䮋ৃ⎌砶洍廽擉˿ḕ⺛瓖⢰翶玏㛬Ꮏ楿咪濴㴞ᆕ㾇梩囒䴠涍੮墖富≣䡔獉Ցⶃ浃妆ᒍ׮ᬲ獤±䠎摤䇐᪠熈恁̰ᚡ≪സ䂄ঔވᱼ炅咠ᆌ⁉步五熏䬴娵喔▍႙煝厐⾁ࡏ჆ᴰᾎՏ小఼ハ筯欣䌙㿎縨㧿ጴ▣އ爂䄼灤䝓兡䇁Ⓟ晘ᢃ嵭娌ᩚ㤫䵽礃㝬ᮠ㥝㴬䲌͕偈䦢掘᣷巽✏▝ݻ幭㒈䁈ܳ䛥崣ㅉ殥ଡ଼㔋僡㦻嵽爊斌单姩ҫᜯኚ࿁奧烅㠫䕽梈⽩⦊䔱乨汼䁸ケځ徊窃忣䉁㝄牝т省琯פ͉奨瑿ࠄ㭣Դᖂ䒬䗣㜄帳ѫ岼ᘹࡘ拰ṂἍᎊ嫩乜䘴⼴ↅᥝᄺṘ應ڡᨏ⤊㡄㏼怋挴䛓ൂ校䤛ᨪᭃ㵅࢞䗷䭬櫎ࡩኯọ䤥ⲙ孰ѩ䤪₞䏐஌ᇂ⒓䡦䲡ຊ焷᧙媜掩猩㐘䏴㋬অ惏䥸氄䂙䒠ԣ຦⒔ݷଢ勫䃤⋦඄䐷䐪⇅䩠傶䂤䂀㸳㎨䔜ӂ㵀梱癒段䐝䵉媁䒔仰杇缦樹䏀䀴ᤲ䙦ᯍ∍椫ݧಠ䎋洱嬛ୂ⹎掼䡹ㄤ₉殐ᬂ嶨恖竂ী㬺ኆ嫗Τ㷦℁慿唅㰈嬨䏿喌䠄罓窅ȍ㽁悠⬔ᥨ紧愉䀨㘔䈾絘⨣䴙ܴ࣊⥨〬࿧Ⴐǣ䰭ऊ㭡姉椋敥䒛凢䄸ヱ㭆߁乤⨼ȪѨ嫌ሣ䙩䁂䤷䝆㪫䮲⃬牕ᇦੁ凭ᵊ竑䃂䬾ഔ᪬ソಶ 㪔ྐ峃ಈ䃆↥斷䜭㡉亳㬈剬Ť㏰䜀壺竆⣃异ċ㦆⹀㦷䳥ူგ⃬注箻䒓ᜀ䩶䚁婓ㆸ᡾䬩ޣ䦰ᴛԮ㝜䌿伱䚫嫓㖵朦昪ጡ玽扡䓧媳⮴⽽଩௒䌫泎䌶㛣▱瞚穪䐡岭ᴞΗ䍀╃怭嬌䳥犻䁣⣠ᴰ㫋ភ䝙劝ṃဿ䛯䷴勨ॏ⧫ᦝૡ॰ⅷ婠〪ᓒ⋂ቲ㏅Ⲅ䅇亡犱氹敊㟀䷡㼯䌱㢱⑱ᔓ䡱♳呻⋥⟭冫䴇⦒欛્瞼㲺❞㺳⺡悄ℒ⹘䮺擱䣺࿍ᇡ糢⌒⸢秠ᓑ娶ә凢⑐ぼ⋢搣䭮䌌䐸㴥⺓䄐ᴱ⇏⍑橨൳ᯉӬˀ☲㢷Ӿ␂゜䢰⃣ᬲ⒣彈筥琜不܃䂋③偣ᾬႯ毢䱢㿅㺗╣噢ߣ甘⮡䢴刨೸ᩭఒശⳝѦ㸥ᖺ暎ࢶ⃊憴⫸આ㗢凨䡢⋃㠦❵㈎⓼޴憆䜛䳂䯦匌ŕ▱凫桖呵㑓✌ᴀݎ㓂欴䄻攭᠒㪆គᖗ䋥䑹㋚戎ᜰ碤ㄯ䮅ᴰ搣怬兺ᄪ᐀甴᝚堂琉䋿ᤢ⟴硼஋栈Ὣ椥牃ᗖᓫ焭悒煹㣡㙳⁊戂ᦫ฀㋗唰ʹό⽏呹㠊㙷㋠㖉䡪删ဨ㩶㊞憺ఠ䘩瑳ᐄ宣暠怼搴判ྰ盙愴嬷䕜䗲䫂峄⒮䔱㠂䫄䵊窆䵾㴻∦䂱ⷔ呋浏皑⪔堋䑉ᕗ撧㸓⇭ᗀリ忄䀠ᦊ൧ڥ狋⅃ Ꭰ瑖䴔撆㍑哵⸊瀐瘨⺿ᖚ梯㵲᪡䤕ॖ产㑾㖄⍚⮦瓯惤淖拶Ⴏ⨮䇽ģⱶ䁪Τ⩁異痮擑භҵ斕䋀ᇖ硺呺ㄗᐡ䐨ႷʥϔĴ瘖喓ᔙ㱭מტ侺ŉ㸪搕ᡆုl䐁ᖣܵւ曮瞸ő㹘⡶ⵡ䂠ხ⦚憷䇘斿⽒俶篯瘐梒亱  "
   },
   "outputs": [
    {
     "name": "stdout",
     "output_type": "stream",
     "text": [
      "2392\n"
     ]
    },
    {
     "data": {
      "application/vnd.jupyter.widget-view+json": {
       "model_id": "3bc64f25417848acb71298a46fb52c2c",
       "version_major": 2,
       "version_minor": 0
      },
      "text/plain": [
       "PersistWidget(data_values=[{'__id_column': '2085', 'Date': 1649635200000, 'Region': 'Uintas', 'Place': 'Moffit…"
      ]
     },
     "execution_count": 20,
     "metadata": {},
     "output_type": "execute_result"
    }
   ],
   "source": [
    "print(len(df_task_1c))\n",
    "PR.plot.scatterplot(df_task_1c, \"Elevation_feet:Q\", \"Vertical_inches:Q\", df_name=\"df_task_2a\")"
   ]
  },
  {
   "cell_type": "code",
   "execution_count": 21,
   "id": "451607b1-5821-4d2c-b7d8-31efa3a6ab84",
   "metadata": {},
   "outputs": [
    {
     "name": "stdout",
     "output_type": "stream",
     "text": [
      "2372\n"
     ]
    }
   ],
   "source": [
    "df_task_2a.head()\n",
    "print(len(df_task_2a))"
   ]
  },
  {
   "cell_type": "markdown",
   "id": "b447b862-90c6-4ed7-b48b-baa1cf74ac2d",
   "metadata": {
    "__GENERATED_DATAFRAMES__": "{\"nodeDataframes\":{},\"graphDataframes\":null}",
    "show_aggregate_original": "false",
    "trrack_graph": "ᯡ࠽䈌ʀ匦㢠⹰࣠✴ƀචآ൐ୠᣠ⭎¸䚀ᶥ<⋵攴≲䦆ᨐ҅䁲䥈kᑄᄈ夒ર囇⣹嗛➎帣ᢤ䀡傠Ǘ熠㥀ॢȠா䠸ᢀ㜰䁾巒•橀樠Ꮃ䤠ව׷核ᱬ䣘紲₞૦Ԡ޳ŀ凐栠晬╍ಲ䖽䂇栢沀團ᄰ㸸ሪ喊Ⴇ♁䐔粶ᦞΎ刺ࠥ簉窺簲ᖢොሧ҉䃵ⰡḠޅ毗䘤䗾墥୚渍磆搰㣄䆯䌭䊣ᎄ䢩妈䪑䴹ҩ䋫◂რ⢒ઉ⃁⽌囦媍ኘ垤䢠䍤⒂Йᘷ੡䄀҂Ქ⃱琿啡憐㲞ၯ䌨焠ᗿ搫໎㒫ல熪Ņ⎃ऺᥛ⃄ᅠ  "
   },
   "source": [
    "## **Task 2b: Filtering Out Old Data**"
   ]
  },
  {
   "cell_type": "markdown",
   "id": "c86b30d4-4762-4bc0-bfd3-6f1486b55ad6",
   "metadata": {
    "__GENERATED_DATAFRAMES__": "{\"nodeDataframes\":{},\"graphDataframes\":null}",
    "show_aggregate_original": "false",
    "trrack_graph": "ᯡ࠽䈌ʀ匦㢠⹰࣠✴ƀචآ൐ୠᣠ⭎¸䚀ᶥ<⋵攴≲䦆ᨐ҅䁲䥈kᑄᄈ夒ર囇⣹嗛➎帣ᢤ䀡傠Ǘ熠㥀ॢȠா䠸ᢀ㜰䁾巒•橀樠Ꮃ䤠ව׷核ᱬ䣘紲₞૦Ԡ޳ŀ凐栠晬╍ಲ䖽䂇栢沀團ᄰ㸸ሪ喊Ⴇ♁䐔粶ᦞΎ刺ࠥ簉窺簲ᖢොሧ҉䃵ⰡḠޅ毗䘤䗾墥୚渍磆搰㣄䆯䌭䊣ᎄ䢩妈䪑䴹ҩ䋫◂რ⢒ઉ⃁⽌囦媍ኘ垤䢠䍤⒂Йᘷ੡䄀҂Ქ⃱琿啡憐㲞ၯ䌨焠ᗿ搫໎㒫ல熪Ņ⎃ऺᥛ⃄ᅠ  "
   },
   "source": [
    "The interactive barchart below, shows the data aggregated by year. There are noticeably fewer records for the years before 2010.\n",
    "\n",
    "During this subtask we will remove the older records, keeping only the records post 2010."
   ]
  },
  {
   "cell_type": "markdown",
   "id": "24b308e8-8437-4146-9ebf-cd121aeb7f9f",
   "metadata": {},
   "source": [
    "#### **Instructions**\n",
    "1. **Analyze the Bar Chart:**\n",
    "    - Identify the bars that show significantly less data.\n",
    "2. **Filter Year:**\n",
    "    - Select and remove the years with few records.\n",
    "3. **Verify the Output:**\n",
    "    - Print the head of the generated dataframe to verify the changes."
   ]
  },
  {
   "cell_type": "code",
   "execution_count": 26,
   "id": "6488acb7-e239-4d7e-92ef-3e9d74c3d823",
   "metadata": {
    "__GENERATED_DATAFRAMES__": "ᯡࠩ䃬࿀ᜤᠹ悋ᐤ怱䐢犲ǩ怶恉宑召䵬ð䀲悠ᄡḡ沯偑嬸Ř˛ࠥ笪  ",
    "__has_persist_output": true,
    "trrack_graph": "ᯡ࠽䈌ʀ匦㢠⹰ૠ㬴ƃ☣ᠣ䁍V㻤ɔᦪ¸㈿䁦¼尼ㅠ据͒ᳪἠ↲⠠䭈⑁棐瀱ፉ⵮巋㭎弝ɤð䀡夯ᆯ啀ॢȠநẸᢀ㜰䁾巒ৠˬ㽴3䧩-儥扐慑礘᪂ℴ!䱥˄挰礩䱰为ऴᲪы℅抰䀡㪚紧লᅏ⧤ਲ壡‡犀⑦ᩂㅃ䦣⟤愕儔Öᡋ࣒Ш☩ں妨⃛ࡁ⪰㥅䀺湔ဩ溤⨡㺚Ѕ渰厪悮峻䅌慤⁶o#娕搃ԁ沜ၑ᧩珸䉳ᚁᅨ⥔ᬄቑᑁ冧䪀ゆፏ䅠ᡢჄጱुخ⌁䔒Ꮾ禜剆䘢歜➚⽡।ㅘ䅌䫅ᢔ卍䬅祼Ⓦ↵砷䨺煓典幄䣄椬䭃䨄⦞⚪⮵啃໊瀡䩆῵加$K䫩懜㒠䀯倠䖉͠Ũ扄栺ᦨ拰絯⃵だ܄➬皱ữ ┒橀殮״溾ྯ搫̋࠹䙃ࢸ༧䈲〬റᓫᒼᙿƢᗘ≳ȱ₅☸丶㘿ǩ憓␸㘯ɂ䠴ᔶ䟁ᢊጣ␀ӢᲙ埶㫽⽿坬͈㸢墹♓⠾㑸婋᫣㏳㘰Ỡ牛溇᳠ᓛ⻗㇯⎠⑐4⮥愕㯈Ԡ䅏ေ嘥㾮搃歩㱉㟢Ļ⧍煡㡊ॠС磄ၡ礬✬礔࠶ͼ/␣悞䉔䂔㇉ㆹ抢る䎢ࡲยⵊठ桴Ᏸ惖ਣ䉟щ㡂嘰㧆ԁ䐪Բ䆡౎͡搯∰㑚ġѨڢ刵㒱䢅ર條ৢ墊䶸⚹僔㛟睸享厔Ốㇱళ囀㰺ߥ䚉䨁確ד䆣╓䑅䱩⧃䥒ⰻ囀嚇兒㐠㓒௃䵘剬䶐犇䅢䩸ȱጺ䷢ㆯ倩ቮ䉃㉴޲ᑵ䋂梃悠䄢ⲢᾸ̰ⷙȱ凅刐ᝇ䗠戩䊠眨┡疃⪱᪙偘㪋⎭帺瓴†ė኿࠭庲㎁⨐ᑁԚ㗷㪙嫫᥈˭禝Ꮸ㨖㶊㤼ᗯ㧫㦦祈ޏ禡⡑ׇᔃ◲㢫䲹⩌⨈㲠Ѧ並碶匫刀嵩à嗀Ԕ㊌㓾ကɠ姣ᢘ੡䤍幢癪៕⢌႗ჼᢖ棉⃥吰冦ỉ嚒晙噇晝䚢᛬ӓᘵ䫑嚕䑴䣎¸晤睕Ꭵ壕ᙄ᳔囵嵗吊壠䉀ݷ戚壵᩽⫵嫍Ƿ䶦⦊穞俰֡塎ځ令㢱䐣憚俈♡஑y䌧愓兄ေᎠ燤ৱ抢ኢ䀹Ꭵⵢᖣ₶㋀⥦旗ੌ䩷㋒宰⪜䣀੢䲑刳䶁璝܉䦢⻳؃⻶Εⴏ垗溧ࠗ᳇䱢屗ᧈ㱗弔㹅昆缗ཤ繕掅繯+൲Щ硸㣏Հᒮ崄㩏⇔␦䵲ࡩ䁈Ԥゼഡ抣ᦢ偂㺚よ࣒䁒੆屈഻⃠毥П့絰眡䎍乤皪಻癌Ը炈獡โᤑ咮ȱ僧哼࠶櫺俖综ᔘԌ⻭汝䯺⅃ᢻႣᮏ盖䀉㘠ᐢ㰵泓ᐧࡇ䈸თᠸܸࠨ炦䟌㜭倭ೋぢƋ㎅ཟ&Ώ灦漙භ泄ᦺ㍖㇓ƅ倪㋆溃⚜歸Ъᶉς揔灇㼣瑬Ůᗧᠫƽ䬫ᶋ䮂癞戇ሀᝓ拎Խ㳐ż侺峿ŧ毞䙗ᘆ㝹䓢圮満⸔Ⴅ喎嘫ゎࠗ᏶儷厚࿉䊁➔䄧̼ለ犲䰅ⅴ礛਑✿爈⬵煸ቨ䇦籢䮤由ྈ䨎ᠯʝ栃㥫疧䠉ÝⰈ㔮⓾瑢಴剣扝⸰ɰᝀ椻Äਧ傌ӌⲭ惕Ꮱ夰䣓ᢒ㡊⯅Ѱ㶘䷪⠦ၡΑᮨ啼Ƞ䵎笜Ȑ䍋ٞ吋ွ䃁嶹⇏䂑濚ᦈ⤆㼼㉠Ḡ摝榀ⶶ෯䖆ᆪ䐖⸒ຍ䷰⼤㐡ࣣ⸳緭䆐羭奰ᷗ䃧と怲䅢☌✨  "
   },
   "outputs": [
    {
     "name": "stdout",
     "output_type": "stream",
     "text": [
      "2372\n"
     ]
    },
    {
     "data": {
      "application/vnd.jupyter.widget-view+json": {
       "model_id": "6b5d1fab26c049f38f334d91ca51e999",
       "version_major": 2,
       "version_minor": 0
      },
      "text/plain": [
       "PersistWidget(data_values=[{'__id_column': '1', 'Date': 1649635200000, 'Region': 'Uintas', 'Place': 'Moffit Pe…"
      ]
     },
     "execution_count": 26,
     "metadata": {},
     "output_type": "execute_result"
    }
   ],
   "source": [
    "print(len(df_task_2a))\n",
    "PR.plot.barchart(df_task_2a, \"utcyear(Date):O\", \"count()\", selection_type=\"interval\", df_name=\"df_task_2b\")"
   ]
  },
  {
   "cell_type": "code",
   "execution_count": 25,
   "id": "7925210e-0b5f-47b8-bea9-878940708eb0",
   "metadata": {},
   "outputs": [
    {
     "name": "stdout",
     "output_type": "stream",
     "text": [
      "2325\n"
     ]
    }
   ],
   "source": [
    "df_task_2b.head()\n",
    "\n",
    "print(len(df_task_2b))"
   ]
  },
  {
   "cell_type": "markdown",
   "id": "db8fdc8b-168e-40e2-861c-d23095a4a8d8",
   "metadata": {},
   "source": [
    "## **Task 2c: Identifying frequently failing `Weak Layers` for avalanches triggered by _'snowboarders'_ and _'skiers'_**"
   ]
  },
  {
   "cell_type": "markdown",
   "id": "dd956e34-f1c9-40d3-8702-a2a84e304ca9",
   "metadata": {},
   "source": [
    "#### **Instructions**\n",
    "1. **Context:**\n",
    "    - You are given two linked interactive bar charts: one for `Trigger` (an event that caused the avalanche, such as a skier or natural) and another for `Weak Layer` (a description of the snow composition that caused the avalanche.\n",
    "    - Both bar charts show `count` for their respective categories.\n",
    "    - You can click on a trigger in the `Trigger` bar chart and the `Weak Layer`' bar chart dynamically updates to show only occurrences corresponding to the selected triggers.\n",
    "2. **Identify the most frequent failure points for snowboarders and skiers:**\n",
    "    - Analyze the filtered 'Weak Layer' bar chart to determine the most frequently failed layers for the two categories and make a note in a markdown cell about both the name of the layer and frequency."
   ]
  },
  {
   "cell_type": "code",
   "execution_count": 27,
   "id": "5aef4ea0-bf81-42be-a35a-23e56081f77e",
   "metadata": {
    "__GENERATED_DATAFRAMES__": "ᯡࠣ䅬Ԁ朤壠ᜣ琢〹夤゠⹰〮⁁䁻қ䚾ኊ㇠നСࠩ瀮晼Ƭ穅5愠៤⠠ ",
    "__has_persist_output": true,
    "trrack_graph": "ᯡ࠽䈌ʀ匦㢠⹰悆Ƭ͐࣪ʑ瀶䞠๳Т怱䀣ᵢȻ㍸䔴ց䦠⚖偰۠໤䨠ዪनᩌ尥䓨䩵埄拯෇ཞ䅂†泶൨ɰ䂠̂;䘸෤့垌䏀Óౕ$犒‣㑠㑢٬ᑗᬩ⑍悂ੳ凰傤ቁെႻ䕤ᛥ䒰槹桐ᄠ⺡僡挪㑡倻傢౶ᡈ\\䰩ླ⇂倨⥰磼䆡Ơᛦր攱Q䅀㍶ㄨ㞂ъ刭䓐͸☸Ǜ傪䁏䃰狙䂇ⅸၖ宐斸ᳵ䀳怠熝㤘懱㬿Ь⚒㴖̾圲Ⓨªҫ倬ᔻר䡴㜲䆡烈ٶཪ瀬¦䂀惸วԓ广ᒹ冢婏⧾䡐≱౮ᑀቩ੭ჩ㉙Ṡ剈䪅ࢹĠ⑲ፚ቉妩㉢䕫効㙷៪ઑ⃜唓೬㵤#ᔊ㾻┠(咃〼չ䚻䁁Ǡ炃•倩䐠㧋匠՜媨ᬃ䀭寇䐃礢悦戥₂吰侢冒℠䚨傀ᘣદ熲ᠬ᱖懰⩛╧だ⶧梒㡼椦Χ您剙ൣ儸昶ᇀ烘幟ూٺ⍷⏲昚䆥٣イ䧔歑ਸ਼○⫗ⵖ̮愧洮掣溗䰢⮭枑ᰬ㠤䌠ťᡬჿ㪠倨ྒ!⺀ᘄ烽Ổ毳眘䃅喧攧䇁⠢⤨ႜ挬劘⿻慨>䅨帣ت౻戛紺䠻丠ᐦ尰ᘧ惯櫱⃷ഥ䔤ḫ჉ޣ塁ౙ⡈֫∲Ⳁ䢚ন䡄✰慊ྲ倴洰䀬ሢÉá⁩₸ᢧ䣲ᒧ㹰ഉ崯☋䍽⯑䑯ⱸუ ᒡ⿀δ䡯ች㯁卼⪾勝⧦㠹☼፤䐰⊀堠惆》ዄ⨸㑀ᖷ儌殢ዤ縵ㄨ䠭ʾྷ䋄矤㉠☮吜㷫଀咤㵜㱷⣁ࠠ卬喵姂剷哴䚶㣮Ᾰዐ糠珤厴⏐k㴀㞠Ȕ⥬佃⸥儥噳✐缠Ᏺ嘹䌀刬䛍爽㉰්䚍ⰻ㛱ᶨ䃼㕃䟈否璭屔㖭燂㝥⧚㓭妾׭禴ь猸喑ᮖ毠熦㏻䦡棭ж㏂❾が䗕⅐剞卢䛉坕Ε嚈皣凪䪗咑㺨̓Ǐ⤬䅜盹ペȰ⑊ǀ沧ೀ䉚ށర䃥еթᒚՠᑆա䱆俣䣥ゴⳜ↵Ტ刅䫟፵┦劈㷛␍ࡏ␼᰿⅀ᐾܼ㌼暽噌獸㞲煼䜳烘宸䛙㜲ⲙީ獝嫼撜༡䟝䜆暝伻瓅ᶋ∜㊟烋䁬Ԣ㜾ࢲ䑤⨩偭ڢկ徒ᵨ 狍ᜐҟ䁪৸◽憮⑌䦄☣筚ゎ䅞⟾䆰捯㔿呚夁牟ᗱ搡憎繝֞楚杆⥨ߙ橧枥瓢䞵ⳟŕ⅚ᅄ␦䕲ጺ㷱d〢ᄴ傌֪䀢ࢣ♐Ҡࠬ༡䀴ၷ煻᠇籽⢉෎ಋ䣕兦⢭䵡㚺᷑桽妍唕ᮠ滘Ἰ捸朿侘悺ፄ沿‴檹厔摲巈愝᣻పؘ⡞ᨳበ羒㕈​⚘◈甯琣္䴶窣⷇婇◎ᴍၐ慹烦愱忣ᇈ₠ᐡ傌Ϡ⠩䂭䋜妵緑䦢〼㊀㱅≁ހ劥ČA瓴夹䩠溬ㇽ⻲☴拤㓢窏⎹ὼ痞䯠ׇ⏌࣐౑㕠㈮ᡀՐ㋪㤶Ṹ噂墻㛣氣䕶痮囻䢍䙀禀ύ伱孾ㆫᭇࣖ緥㙂䊵㛻磀䇸㙟䪷ⲗᝮ瓎⾌仞瀌㐰ᱟ˨㓋㭛⯐瞀哎棂仚⦉槠ᅓ孙㴣㮹ㅵ礠侎瞋⪁⪲㥞嶛䥙纡⠑㆓㝀䩩྆੝柽㯠䁔ⴺࡇ̳┧ବ䋺ᠨ惼l呻䁨أ㠾Ȑ佲硞哾䇌᪸੔喿㰴Ố吳㏈ᨐ⵽ω⌭㹨ઠᮢ䋈⚥桭P砯⁆ॄ嘾愹䗢椷䍎䭊井۰紧儁盙宲憤ۢࢱ珘☄绖區䁗㑀㝡᭮۸ᣅ㡇栨┥͏䂰墀⸦㝌⤯㼈氣俧牀㸙ࡇ箟㕗䄎懄廢儣䛃氼㌒ң◄犠᳖ⱙ扶区岊様噗㢌⽺伣䒪㧒氷ਅ៦棶战徾泊㻂抩㬴䖑䅐䳮䢽ট⤠=揑ܶĪ⧸揂⒴垓ᔊ矐唁䤹氌㥓⯬䝵畠›嵪ᓦ䵕ᒽ⸵ᔲ祏⤽∣畼⟴䉫䜰䦢嚽⧎р㰲ᣈඪ⡏ᩰ጑摬〰稥øΐ砰䧓Ⱋ㠺笕㽲潅䥹夣ⴋᕕ᭄紆䭠㬾敿⫲‪匉〵䟝旒㒯䚋㚜槶垂㒐琱圮稇ᘓᝐ䪎⧓纀ᒐ叩点䨠  "
   },
   "outputs": [
    {
     "data": {
      "application/vnd.jupyter.widget-view+json": {
       "model_id": "1eebac4874684b988d0455a80c9b08d8",
       "version_major": 2,
       "version_minor": 0
      },
      "text/plain": [
       "PersistWidget(data_values=[{'__id_column': '1', 'Date': 1649635200000, 'Region': 'Uintas', 'Place': 'Moffit Pe…"
      ]
     },
     "execution_count": 27,
     "metadata": {},
     "output_type": "execute_result"
    }
   ],
   "source": [
    "pts = alt.selection_point(name=\"selector\", fields=['Trigger'], bind=\"legend\")\n",
    "\n",
    "base = alt.Chart(df_task_2b).encode(y=\"count()\")\n",
    "\n",
    "# TODO: change this so that color is not used in the layers but still have a highlight for the selected one\n",
    "\n",
    "trigger = base.mark_bar().encode(\n",
    "    y=\"Trigger:N\",\n",
    "    x=\"count():Q\",\n",
    "    color=alt.condition(pts, \"Trigger:N\", alt.value(\"gray\"))\n",
    ").add_params(pts)\n",
    "\n",
    "weak_layer = base.mark_bar().encode(\n",
    "    x=\"Weak Layer:N\",\n",
    "    tooltip=[\"count():Q\"]\n",
    ").transform_filter(\n",
    "    pts\n",
    ").properties(width=350)\n",
    "\n",
    "chart = alt.vconcat(\n",
    "   weak_layer, trigger\n",
    ").resolve_scale(\n",
    "    color=\"independent\",\n",
    ")\n",
    "\n",
    "PR.PersistChart(chart, data=df_task_2b)"
   ]
  },
  {
   "cell_type": "markdown",
   "id": "e3f44925-7703-4844-98ee-d1280f0b10e5",
   "metadata": {},
   "source": [
    "**Task 2c Notes:**\n",
    "\n",
    "Skiiers (layer / count): facets / 261\n",
    "\n",
    "Snowboarders (layer / count): at the interface of old and new snow 31"
   ]
  },
  {
   "cell_type": "markdown",
   "id": "8a92b8a9-c3a8-4a57-be3b-c9cdc977092c",
   "metadata": {
    "__GENERATED_DATAFRAMES__": "{\"nodeDataframes\":{},\"graphDataframes\":null}",
    "show_aggregate_original": "false",
    "trrack_graph": "ᯡ࠽䈌ʀ匦㢠⹰ೠ⬠沈֭⠸恍ff9昽䁮ۦ࠰汬നڀপ㈏䣹厠㬦ተ¶⡨⇱㌀ᅁ╶庳ୖ⹜簧ଭࠣ℠Έ橦औ䁅ШNႦ〡岁䏼ℭ㞁摞+㢱䨠Ԋ牠Έƕ٦枓቙ჿਸ旑䅠Ȅ恨戬പᎭె䝁净儬Ö᡻⌸䐱䘩׍宨⇓ࡱ䍲ච᫲壬จ䙤Ɲڣ圖⍞ᛡ৽ण䃔戋㘠传ϊ揿振䘌汣䓼㹮䘫㈨ቺ⩯↧ᄨXഉ⠅ㅖࢢ侸⇄僡ಖࡢҁ氣С宍劄倶䢡⍤㲂̤㚗٩䄀硂಩⍰琦ᦪ悑屾ᾨႨ㺜*瘪䋇޶⋤ᓘ犠䭳঺᥇⏰ᅠ  "
   },
   "source": [
    "## Task 3: Data Wrangling"
   ]
  },
  {
   "cell_type": "markdown",
   "id": "9da80393-7f4b-4115-a4d1-5b7978e11358",
   "metadata": {
    "__GENERATED_DATAFRAMES__": "{\"nodeDataframes\":{},\"graphDataframes\":null}",
    "show_aggregate_original": "false",
    "trrack_graph": "ᯡ࠽䈌ʀ匦㢠⹰â䂬ƀᶷ琶䁋c<搔怳ଚ䠳亡䈤㉕⁖ì⺇⊨攩ᐠ▨戰㑹㧒妰囇⃹喧㝞Ţ∠桠ûு䁔䈠ॢȠந㺸ᢀ盅⻿夣•晀樠Ԃ牠Έƕ稦❳ሪὦ䰼⇑䅠Ȅ恨㙎⌯᪴䶹䈁ℓ琡㙐ᮂ⢨᢬थ⧓ࡢ㌰ሚ璋U䳘䠵欯Т縔絭Sㄭۡ۹ण䉔悊㘠传ϒ橷挣⌏ⱡ䕼庮打㈨ɼ榨慢䃂॑瑐繦┭ڼ㾬⎂厃焸牘榥ᄨ䦯ඦ嘔㗆溄⒀擒摖≦၀ⶃ㧄మޢᄴ䩍རへ∦䯧焤愷䍠Žƀ夅შ㤙༾′⪂㵩掳婊⢄  "
   },
   "source": [
    "### **Task 3a: Creating and assigning 'Avalanche Season'**"
   ]
  },
  {
   "cell_type": "markdown",
   "id": "402412ae-3b84-4fec-9c01-94dd203a7b1f",
   "metadata": {
    "__GENERATED_DATAFRAMES__": "{\"nodeDataframes\":{},\"graphDataframes\":null}",
    "show_aggregate_original": "false",
    "trrack_graph": "ᯡ࠽䈌ʀ匦㢠⹰â䂬ƀᶷ琶䁋c<搔怳ଚ䠳亡䈤㉕⁖ì⺇⊨攩ᐠ▨戰㑹㧒妰囇⃹喧㝞Ţ∠桠ûு䁔䈠ॢȠந㺸ᢀ盅⻿夣•晀樠Ԃ牠Έƕ稦❳ሪὦ䰼⇑䅠Ȅ恨㙎⌯᪴䶹䈁ℓ琡㙐ᮂ⢨᢬थ⧓ࡢ㌰ሚ璋U䳘䠵欯Т縔絭Sㄭۡ۹ण䉔悊㘠传ϒ橷挣⌏ⱡ䕼庮打㈨ɼ榨慢䃂॑瑐繦┭ڼ㾬⎂厃焸牘榥ᄨ䦯ඦ嘔㗆溄⒀擒摖≦၀ⶃ㧄మޢᄴ䩍རへ∦䯧焤愷䍠Žƀ夅შ㤙༾′⪂㵩掳婊⢄  "
   },
   "source": [
    "Next, we'll introduce a new categorical variable named `Avalanche Season` into our dataset. This addition aims to classify each avalanche record into different parts of the avalanche season (Start, Middle, End) based on the month it occurred in.\n",
    "\n",
    "Create a new category `Avalanche Season` in the dataset and assign each record to `Start`, `Middle`, or `End` of the avalanche season based on its month."
   ]
  },
  {
   "cell_type": "markdown",
   "id": "86d54d80-ef52-4630-bffb-1e04d9320384",
   "metadata": {},
   "source": [
    "#### **Instructions**\n",
    "1. **Define Season Categories:**\n",
    "    - Based on typical avalanche seasons in Utah, create a new category called `Avalanche Season`.\n",
    "    - Add three options for this category -- `Start`, `Middle`, `End`.\n",
    "2. **Interactive Category Assignment:**\n",
    "    - Use Persist's interactive features to select each month and assign it to one of the `Avalanche Season` values (Start, Middle, End).\n",
    "    - You should use the following ranges for assigning proper categories:\n",
    "        - `Start` of Season for _October_, _November_, _December_\n",
    "    \t- `Middle` of Season for _January_, _February_, _March_\n",
    "    \t- `End` of Season for _April, May_, _June_\n",
    "3. **Verify the Output:**\n",
    "    - Print the head of the generated dataframe to verify the changes."
   ]
  },
  {
   "cell_type": "code",
   "execution_count": 29,
   "id": "63b62f4c-8841-4f6c-8011-cb2ee31c2c7b",
   "metadata": {
    "__GENERATED_DATAFRAMES__": "ᯡࠩ䃬࿀ᜤᠹ悋ᐬ推̅ሣ䧠ⶠ卍捯ᥔᠣ℠▢dʘϔᝠ捌〤瀵摠៨⠠ ",
    "__has_persist_output": true,
    "trrack_graph": "ᯡ࠽䈌ʀ匦㢠⹰࣠ଡ䘠〭䂆Ẉׁ䁋ղ䗀೴䱤ɐ໥加䱐ё擻樠犕燤䨠ዪन㪌粤◪⣳咂滫䞿℁ဠ㑀᰸怺䠤傡%柄ؠᮬ᡻䑁ᚍ沀Óࡕ$皒‣㑠棄ٖਧ঱俠⋅ဢ㣐䒼Ⱜ┶᪥ʤ曁㄂ؘ†嶝ǃ哩֯僢ړⲀ倠祐቞⬫ʣ䍡惃稙⒕ဠⶬ᫳䩂ԃɡ⟌戰໤ࡥ␡䖀ۓຐϗↅ㻞榚䧡䛐⇌㜁୐ᨋG䀡攖爑䂃㛾ႂம悒㢆㈤±⑘ᐩ䋚㡈̨䎃硑ᔦ٩灤㼦ઢᡰ㜫Ԁ怬㔤䢁泏ߪ₉㣭࠸炇琱ᑦᆡ戬ɳࢪ匉♻ᗫ犥⸤冺↎㍚ᖫ抩㝍ჩ㉤๯၉ੂ數應尠₴Ԡ(怸.珴ねఠݐ䀢ើ倧ᆊ⃃భ稊ᜮŹ涖㕨ଛ䵶䷋易籡⫬ᅤ恐ม䠉⡬⤭䋁堬㉱䟪㤉ి噪前ḽཋ璏㻹斓Ⓒ⸠䙁䠴ᔶ䟃ᣌቃ☀Ѣᬤ⟊᫭᭵㌈窝อ䃥れ㺢㊸暓˩噸⌻ᛢ׻皧ᷴ疸ȷᗦ牛璐Ҧ\"䗈樯柟ˀ࡞爠ż悋椉屝朇帉碡☋߬ڣⅰġ幉б幃ơḲ擳㱉#楉␲½ḉ糭㍤౾㵋儠瀶煠砸䏟శ熀摏冰栁擨ม䂐ᚇ⏂ᔬ䨐ᄬ䢸㼧क़ᬦ䂸ḩ愈ᨦ䈘㔥䊐咩憕ᶤ⌀漀崟Ƣ䊆ှፄ䈁䂠樸෍☿⣔炍咽ᳪ瑝✥瑚́姞⿯礡㖮むࢶ炄㖏ᄋከ浴஁懘㮍僛ᘸ㇊ᡂ䅗ᒃഃภ䲳આ䱓ⱍ䶓㺅ī㉪ᕄᮦஃ㲃揂娪䷳̩䰲丧䳐ƄⷵদѠ໏唭ৄʶ૯㓽ᓭ崍ọ぀⧇厍ψ㉽㞣ǽ⟍疝Ꭿ瑠ᨹ㗔䢇焢て塠ᐣ悩ᐬ䥈ᐣ䤱☪∘⌣Ð㻼ፂªᷱጢၖ⦎ోӊ旹❄䢙㳏斵჌⥘⥣涉୮楚ତḚḢ䧂┉ᧆ㡋᲌㴂妏㌊尮㐆㧗ᢩ㧎ⷮ堯ሊ㷯ٓᢿᷯ倿⅞塿⏮糉ᮭ綟㤿糶ᢷ䊀ᠵ㤨琳Ꮞ̋̀㪵┉䊹紺岺㤹泪募㭒⎄䫫ʥ屟朴宪毮⢲ƴ卒晀咹ᙠ⤹ဵ栍⃰ᐢ䒐δ⇁⑤抐㔨愐۴⇈ᥲ䇃Ï䕲燩㊦疰Ѽ㶸獋ⲣⰴ㶌傻᪪沜嚩汤✅⢼ᡆ慗ૻѺϕ孩ᔥ䨖䦤㫑ⴢ☘㧶扤㡆ᖶ櫶佖盵伖䇷乮憜⽎嶤ナ咫⨭㇇唅堯㐠Ⲥ䊠唧⬊㶚໳盃唤䙰椻♸濰纥㚺᡼欭୸⅋ᝪ֡ᣒᝠ呏⟻烍ࣖ氪⑅吿∂⊕歍ᎆ⢪冒㏫ㆁ⾪䓂⭋䥥⪻㶿栮⁕璀とᐧ䄀浘僾め䧊᝞䁃Ợ⌭慦ᷯ䙤戡޶Ƒ䌒湈ʳۡጻ慡䰱✀䂤刦䲀徸º嬁ࠧ慶㛶欬⋚浌怶⳾ว擂墠ℕ橊䕶疀懬恥䱕䌕䞦㼬ዱย怦Ҫ丧䃴ଜ㦮ᄤඡ㍜䘬ᗧ⁖⏠㘯⑾搐缷洌䇩⑓䧨ⶄ⠦慰曮偱懸㨮Ტ䤡灆玏ã潄Ⅴ戦䃧溰⠬籧ጚ㡕稩ţ╈ⅎ布ě栂䟸傢⑄⿊⎤丒䓪哴᫋命惴屁㨍ᤒὈ箕⬔侞冾䇌ᩆ⚄㺩㱆䖚竚硍҇ќ利㩶斠㢪䄄⹃ሲ䙂ᬲ䁔Q渡扬ơ䖢ⶎ䩠厺毇ඕ洼瑚揀⺇Ⲱ᝻娟堋笠ᮔࠫ瑌؂࠾ᠰ捘け㄄䌦ၺ獃ᜃ⃫拦䰳䚇䮢Ӹ䋾⢥ẋ燲㤨繪ઈ媄䌔戱⋱䋕䨨塧᧠朮炣㊰ኹ၂杢⁴⊸㘴⑹஢䃒䡎ͬ²٤Ӡ〰ヱᾩㄴH䤧ഋ玀⠡䂈̸≳渊᯺䲍䰛▪嚋म睏ㄱ清ᨹ搜嗤Ꮂǀ✀䳎䨉䑧楬ன紬獸䒆壒呬暮ᑆƹ梾ᒽᷲ㠷吚㕵٦喬益䳝ⶹ沽⨾䕱圥儕༐缸惌ନ!஺Ề*㾑ⱽϴầ响ඐ窭䂚ඡ䍶ɀ㝤⛌ϴ.᠎\"唊滆瑭਻懇檞ᩖ掜㝆犋⛬栠䪑坌⤧ÆƙⵜᥢТ⾾ↀḤ䖅⯬␌㚬ڡ䤿㔄ⳋ㡈灈经弥䮐⼷ऩᢜř፯削䊚⑤渒砠ౙ䐨᱀ዡ屴䅨ሦ⇈ͣⷫ䎛䧸␾岄檢棷㥑开㹾᩾㸩糢ಜ㟾⚏䐪哢ⲟᪧ熍ܨ偠竇ܱ硼ᛸ↪᫬⊑⸨⢒ᗘ㶊㫻ݥ恕䕐堛㣟⸑㞤㠶⁰ⲇ⑲▞䅂㹝ܰᠨ汩ᩃ⌫⊰Ⴏ傩ᇣ楂∴╂㌭橐ϴ屗䌚砋и浤ᐦ䡝ƺ䧂⛐!槚ଠ6仡Ԓ㈄⋁ₑᡭ䥓ᏽÇ稩⚨ᔱ䔄但嚿䨒䒄册搀㉤怳䁆έუ㝼㗄ㆵᆃᶍ晽␱皒ఏడ䐥ㇸ㔣ࡳʠ䲊a㈶别䚘篵絽ኒ洁撠Đ劀⮐揤ㄦ榬ℼȧ⬠ސ盩溧Ē؀縫፥㉷嫂垄泀丩慡炬姘᥂ؠࢗ䜠粁ސ琒沬$Ꮔ旉包ᭇ瘶ᔅ糘᳼仧䎷䧖㒑㣪䎑䐪₻䛺⊓嫩㶋匠☖岄ຫ㜈ദᵜ୒旽ᕻ㕃宆澖仿⁼⟻⇴㯃岱揎欬ͳ⪶几∀婞皾杬㋃⟼Ǚ⷗዗㍾十䘁㬟ᦠㆠ䂭᭺Ƣ㶣Ꮇ曓㕍ৎ⑺ᜈత扽䚨☮洐ൂ䡎␐㘧Ḹլ➩ᷨ燳狄欵⳶ښ嚔曏೩䷵絳笆䗚㯏傸ཀ授慮㈍䰻䶦砹墷夒⑜焏㴥并Ҿ⟯⃷淜㾲℠娑•䏉吴Ā汓㐹ࣰᮆ㡺氍㧶廂䋰纤䃤ơ䭽欧䛔➠瞸冎嚗Ⲍ滭㷳ᤛ毝䆖ᰯᄹ嚶煃嶝䙱暋͘㽢咛䅜⶯椠ㄪᮠ䍟䂍䪢恝ε半ၲ㮱岮❰ൡ㑥曼᧍ヤ࿫ེ⥆ᨛㄧ箖Ϭᩪ↛䯠婡䭴偘⼮䟰演嚍⪦᳘㙬㒏䱠㥸哽壐甒䜶ᖞ⬼䮊⬰ܢ㱪⌃晠Ꮸ喅抐怤ٮᔊ促ᚼ൨΃漟採汇䐔汇瑡攐㇯暼䱋㪝咤㪸㿴棙畞᧥墉℀粜检཰%Ꮈㆈ戴媲ネᚉ䞣᫾Ϝ㠥甿崛֠岉೻储ໍቚ⚺໷ʍ✐䀧儖朄ⷐ奾∭䃞㩠㚲䄜ǃ᪓䜳Å߇⓳団婽囻⾈Ỡ㩯ㄽं廴瘻偙㿳㝸ɢ玀ģሥg囙ᴃ㡢穋䋝Ꮺᗽ೏ᒝ㘫嗥竫⎝ㅐ㽿犄៷᩹罬੆爓㨻Ϯ干攆᱒Ꮳ۩煂ಚ䄷䋤ൣ⍺᷹懞璱∸䀻䑙Ϡؠሿᰣ公પ墩洊ᕨᴠ㐴䃰䍥㞦峯戌㑣⠠W䜜㐥₺捵⛊㝳ᦋ㨤晚㐨繧䜰凘ຳⲹ䩏☽勈䚹ᩔ円㜯⶚壯滖㑢᪚㱙暍༶ݤ㳣滾㓨徸˿‱㠐ᡸ䀲ㄷ㋨汹弡ᜓ٫⩺罣ᘳ烂㙻䁢粘Ӛ൹樻㈅㕀₰櫸噇瑨绥〮嚾栈容ⷷⲍㄋ᝻Šᆝ〻䀀⟪擼医ⴚ⛵搫焒Ϊ⎥㹑怪㲒㔩䂻䃀牡⡈䁔৺પ⠳䂬૤ଧ嚭䇁૟㑆慞ঔ੤䩇ᡅ⋌༂♇浣屍琛ỀǶ㳕ᘧ₋硸㱐§ᤒ㱖໭gඊ⚢劈瘻ٙ䡕眇䑌⅀䠭᡹䖅㍊ᠧ僖晄㲪梺䁻␈⳪㡂塗瘽ḛሡ绤䊟⥘忬繙ß⠙积墲ష༲䜢簳䓙ᐨ佪⹊ஙϫၦ端ቷ㚧ㆷ⇯叡ƥ㗸慚畐䠠෢懦炥ᑋ懹湎࢘䷛Ṋ䡮ැ惧巫晑䬬徧緳湉ਯኄ䏬ẉ䢯ⰹ汗ⲎࡅᲙ垩憱琐檛屓硤䃠⽡⣥å皬አ捲ᐼ⍠ᚁ砡䃘٨㨁䁹ᄶ〸箻塾昶ツ儚ぷ䲢摉Λ㥓ҝ琧ᴑ橡幃琁ᄒѢ撼势ᦪ祢㙡栘梒ń⬓㜵ᬚʣ㼜ӼÇ扰瑹䙄ラ儢⤽䥠㓄㭁䂒䡴昡⿢祢仜棅潟ฯ䪜泄涭稏㎎๪翹欟瞕․牄Ǝ䌠墈⁋⢏(㘧恉冨ಧ!䐢ـ琬䁣煰嵱簬牥ㅜᩡ皳檮ぐή⹣⁑ᰢ⾨䘧Ꮢㆴ〈థ沝൩杒ᯀ㏖ቲൡ㐥偭ȈᲩϵ≱Ᏹቩ濇泟ᱭᵁṄ皰愯▉কỔ币䝎䝨㗓勔ᄚ㝫⮧叞⸉Ȳ绀ᓬᰚ⨷䤰ಜᬹǨ㢙䧓ᒾ㼨ᙧ䌼昁ჭᙨ㷫᡹旇ၕ碓潠嶯ªイະे☥㲂ྠ刡礨懋晌㮨䣚⌻渨禪`䷪ႆ戤ᦳ⎬歱䕐咖⃴浱ᚭ榥⍂䎵抩咖䵺ᶹ皯㦪㐌榢㝋瑽Ⱋᾑ↪秂ಜ愘罒䡀ⶢ救娵䱴Ⳁ嶱怩قⷊ䊶素ښ扖৑傡斡,➠縤॥ⳮሬҧ旉揠⛕ᆢభⷎჶ㻬╼ाᮎᝍ疫䈚桖侩ෆ珦格ᝁ墾玥❖✵⾸Ꮆ沰䷤円啠㩏倣૓ײ⢭ㆆX唠刢熙泄-橏㆐ᰈ寜炎㆑㷈ۥᢋ䍶ß滼▃㥫哲匥䃳䅸ǰᒥᑊ⦺௫⺺␮畖ஐ傥⠨ᆍ᪨僭ȯ堳┋✅牉㚾棸ै⸣ዚĂİ嵢戡o䲀⿃ᕅ愃ޠ湈㼥ㅟᖙᅭ庘匟ᕉᅬƜ厐༙⍬±撡䯤狑䑂䏀ⳁ㮷媆䯏ⷅ䴯廍煵探ඒ穦ו攉嶔升煌卢厗⇇䬓ᨾ૭䅉ᮠᬤ䌰ҝ≊屵峉ᒞ⩫᮹䆨兘㫦僑暥䄪º影⋊ᒆ䲳夅弬晸㩃庈塇捬㩊ᶵ礊啫⎳嶪ᄎ福ע⢱Ƕሼሱ஌䰢䁒ㆦʭ樥Ꮬህᡅᰡ瀰泞ᵞⷩ㵠嗆棞⁭૏䥡᥊䵡঺沫䉍⳦யࢲՍ乥䭣ȅ億挠䲵粥嗝ㆍ澄宑ナᾙⱯ响ʉ擗涞瀖ǀྐྵ䤣⪪普畋ᐕܮ๬႓╱揄幨漬岘奔⒊΀䣱壥ࢉ㆖ᯁ幪墊熑娥潅☣攷ヰ֍᭩宙甍囁禒㩳宵揁͊粵焬ᰆፈḿ刣‍䁔ݭ䩓ሽ䯊䚊㉣ᮅ໏䙯ۭ攎ទރ⬳ቃ唈嚜⪼刾毎别┻妦䆩㞇焐໔粠డ⤄⏔ఢឣ8ଠ㉲৞ℤ䤰⬕屿䌧ᆱ㎕ᥛ篻湙⼔予珇ᇼ倏亐ᴌә呷刣橗Ꮺ柋俎犥⭖昖⾂汯ᛝჄ渠⃌Ÿ䂻㶐⚷氩タ祝ℏ0⧵㛆筹ෝ熋澍窅徝搌⭹箮Р  "
   },
   "outputs": [
    {
     "data": {
      "application/vnd.jupyter.widget-view+json": {
       "model_id": "0825646b361e4a1889d868cd32f8c43f",
       "version_major": 2,
       "version_minor": 0
      },
      "text/plain": [
       "PersistWidget(data_values=[{'__id_column': '1', 'Date': 1649635200000, 'Region': 'Uintas', 'Place': 'Moffit Pe…"
      ]
     },
     "execution_count": 29,
     "metadata": {},
     "output_type": "execute_result"
    }
   ],
   "source": [
    "select = alt.selection_interval(name=\"selector\", encodings=[\"x\"])\n",
    "\n",
    "chart = alt.Chart(df_task_2b, height=400, width=500).mark_bar().encode(\n",
    "    x=alt.X(\"utcmonth(Date):N\"),\n",
    "    y=\"count()\",\n",
    "    opacity=alt.condition(select, alt.value(1), alt.value(0.2)),\n",
    "    tooltip=\"month(Date):N\"\n",
    ").add_params(select)\n",
    "\n",
    "PR.PersistChart(chart, data=df_task_2b, df_name=\"df_task_3a\")"
   ]
  },
  {
   "cell_type": "code",
   "execution_count": 30,
   "id": "e5701fb4-e8da-4e84-9334-27a3635bc3e7",
   "metadata": {},
   "outputs": [
    {
     "data": {
      "text/html": [
       "<div>\n",
       "<style scoped>\n",
       "    .dataframe tbody tr th:only-of-type {\n",
       "        vertical-align: middle;\n",
       "    }\n",
       "\n",
       "    .dataframe tbody tr th {\n",
       "        vertical-align: top;\n",
       "    }\n",
       "\n",
       "    .dataframe thead th {\n",
       "        text-align: right;\n",
       "    }\n",
       "</style>\n",
       "<table border=\"1\" class=\"dataframe\">\n",
       "  <thead>\n",
       "    <tr style=\"text-align: right;\">\n",
       "      <th></th>\n",
       "      <th>Avalanche Season</th>\n",
       "      <th>Date</th>\n",
       "      <th>Region</th>\n",
       "      <th>Place</th>\n",
       "      <th>Trigger</th>\n",
       "      <th>Weak Layer</th>\n",
       "      <th>Depth_inches</th>\n",
       "      <th>Width_inches</th>\n",
       "      <th>Vertical_inches</th>\n",
       "      <th>Aspect</th>\n",
       "      <th>Elevation_feet</th>\n",
       "    </tr>\n",
       "  </thead>\n",
       "  <tbody>\n",
       "    <tr>\n",
       "      <th>0</th>\n",
       "      <td>End</td>\n",
       "      <td>2022-04-11</td>\n",
       "      <td>Uintas</td>\n",
       "      <td>Moffit Peak</td>\n",
       "      <td>Natural</td>\n",
       "      <td>Facets</td>\n",
       "      <td>96</td>\n",
       "      <td>1800</td>\n",
       "      <td>6000</td>\n",
       "      <td>Northeast</td>\n",
       "      <td>10500</td>\n",
       "    </tr>\n",
       "    <tr>\n",
       "      <th>1</th>\n",
       "      <td>Middle</td>\n",
       "      <td>2019-02-24</td>\n",
       "      <td>Uintas</td>\n",
       "      <td>Chalk Creek</td>\n",
       "      <td>Natural</td>\n",
       "      <td>Depth Hoar</td>\n",
       "      <td>96</td>\n",
       "      <td>2400</td>\n",
       "      <td>8400</td>\n",
       "      <td>Northeast</td>\n",
       "      <td>10300</td>\n",
       "    </tr>\n",
       "    <tr>\n",
       "      <th>2</th>\n",
       "      <td>Middle</td>\n",
       "      <td>2014-01-20</td>\n",
       "      <td>Uintas</td>\n",
       "      <td>Moffit Basin</td>\n",
       "      <td>Snowmobiler</td>\n",
       "      <td>Depth Hoar</td>\n",
       "      <td>96</td>\n",
       "      <td>3600</td>\n",
       "      <td>9600</td>\n",
       "      <td>East</td>\n",
       "      <td>10900</td>\n",
       "    </tr>\n",
       "    <tr>\n",
       "      <th>3</th>\n",
       "      <td>Middle</td>\n",
       "      <td>2011-03-22</td>\n",
       "      <td>Logan</td>\n",
       "      <td>Castle Rock</td>\n",
       "      <td>Natural</td>\n",
       "      <td>Facets</td>\n",
       "      <td>96</td>\n",
       "      <td>6000</td>\n",
       "      <td>9600</td>\n",
       "      <td>North</td>\n",
       "      <td>9600</td>\n",
       "    </tr>\n",
       "    <tr>\n",
       "      <th>4</th>\n",
       "      <td>Middle</td>\n",
       "      <td>2020-01-15</td>\n",
       "      <td>Logan</td>\n",
       "      <td>Rodeo Grounds</td>\n",
       "      <td>Unknown</td>\n",
       "      <td>Facets</td>\n",
       "      <td>96</td>\n",
       "      <td>2400</td>\n",
       "      <td>8400</td>\n",
       "      <td>East</td>\n",
       "      <td>9600</td>\n",
       "    </tr>\n",
       "  </tbody>\n",
       "</table>\n",
       "</div>"
      ],
      "text/plain": [
       "  Avalanche Season       Date  Region          Place      Trigger  Weak Layer  \\\n",
       "0              End 2022-04-11  Uintas    Moffit Peak      Natural      Facets   \n",
       "1           Middle 2019-02-24  Uintas    Chalk Creek      Natural  Depth Hoar   \n",
       "2           Middle 2014-01-20  Uintas   Moffit Basin  Snowmobiler  Depth Hoar   \n",
       "3           Middle 2011-03-22   Logan    Castle Rock      Natural      Facets   \n",
       "4           Middle 2020-01-15   Logan  Rodeo Grounds      Unknown      Facets   \n",
       "\n",
       "   Depth_inches  Width_inches  Vertical_inches     Aspect  Elevation_feet  \n",
       "0            96          1800             6000  Northeast           10500  \n",
       "1            96          2400             8400  Northeast           10300  \n",
       "2            96          3600             9600       East           10900  \n",
       "3            96          6000             9600      North            9600  \n",
       "4            96          2400             8400       East            9600  "
      ]
     },
     "execution_count": 30,
     "metadata": {},
     "output_type": "execute_result"
    }
   ],
   "source": [
    "df_task_3a.head()"
   ]
  },
  {
   "cell_type": "markdown",
   "id": "36e82a42-5f2f-44e1-b9a5-2e2d403b2ff3",
   "metadata": {},
   "source": [
    "## **Task 3b: Analyzing Top Avalanche Trigger by Season**"
   ]
  },
  {
   "cell_type": "markdown",
   "id": "af40bad3-436e-426c-a02f-f205597e90b5",
   "metadata": {},
   "source": [
    "Now we'll analyze which trigger is most prevalent for avalanches in each season phase (Start, Middle, End) using the `Avalanche Season` category created in Task 3a."
   ]
  },
  {
   "cell_type": "markdown",
   "id": "72455a32-623b-4b87-87d6-ca9c8ebf19e7",
   "metadata": {},
   "source": [
    "#### **Instructions**\n",
    "1. **Context:**\n",
    "    - We have an interactive stacked bar chart. The `x` axis encodes the `Trigger` column in the data and the stack colors encode the newly added category `Avalanche Season`.\n",
    "    - You can select a category using the **legend** for `Avalanche Season`. The stacked bar chart will dynamically update in response to your selections. The selected season is pushed down in stack, and the other regions fade out.\n",
    "2. **Analyze Trigger Data:**\n",
    "    - Observe the filtered `Trigger` bar chart to identify the top trigger for the selected season phase.\n",
    "    - You can hover on the bars to get the exact frequency.\n",
    "3. **Document Findings:**\n",
    "    - Note down the most common trigger for each season phase based on your interactive analysis in a new markdown cell."
   ]
  },
  {
   "cell_type": "code",
   "execution_count": 31,
   "id": "e9eaff25-74aa-4e43-abbb-19bdfef91064",
   "metadata": {
    "__GENERATED_DATAFRAMES__": "ᯡࠣ䅬Ԁ朤壠ᜣ琢〹夢゠⹰〮⁁䁻қ䚾ኊ㇠നСࠩ瀮晼Ƭ穅5愠៤⠠ ",
    "__has_persist_output": true,
    "trrack_graph": "ᯡ࠽䈌ʀ匦㢠⹰ڂ䂬偛¦‶䋌¹Т惔䃌䈤爋↺ǐڂ䞮ᢏ⁃ʲ⠠䭈⑀楒瀶ፉ⵮凓㵖份㰥С傠Ǒ杣߂′䈤7ࡽᠠ湐懎Ⴇ᫓㈠ᣠˤ⽴3凩-匒憂堠ഌ琼ㅚẦ४⇧到炐㔌೎㭉Ꮶ修䅥㋐䀡㫚㶛ㆲ੗⨄৤壡‡犀⒞ᘴ⩟䫡⋥⯱ら㨠嬸▮ᡤΦҡ乸䑀嶨჊䡚ˠඁ᧠܎䉊Þ嵣䫪ܳ榀䃺淣 玶o#䘅搃ԕ沜ေৡ燸㠳ᤢƨቶᬣ㤁䕢ᒧ䐑搪د℄ьࢩ䄁儾ӄ⒙潏䉤棠ⴷ唃♔ᆈ噏ࢀ䤴䵁䦄㤼ཀ⤴╒亍ԝ璸乀䣓呖㍍䬄碜僌⪵斊僧⣘ㆯ疉†şόΡ䬮厐р㠼ψĤ患ఫ礊᪼ฦ墙㔰◧ʋ㜯ߧ爥䄭䐧䊙剌ᒬ䯁Ṷᵁ⋐Ԭ嬁∰捲પ⋑䍯൉⬈ὣ凬牨ᡘ㙢⃠棥Ƥ慈橎ާ戩㼆孹殕㶞傇䈀㐪ᭉ᭭㍨ↄ壕⮕压儌ႝ儌㡝枙䁅㣼眳坧ƨ〠ᑭ˷滀ᐢݼ䀠⮸ҙᴷ➵ᬔ緞ၞ㦁祡炈⨠䁞र∐ᥜើㆉ帤䀡瓄䀩Ö唐㹾䛁笇В繎ࠓ縰⨖ŎЮ䋚ਨ㺾ᾢ䁔ଥ⌄ࢪ䁤ʢ狌Ⴃ悴媩䄌ʧ憉䩄䑐ԡ(␤縲ஷࢠ㋠慀Э懏佦䆓۷ȫǲ㩎䊑䚆⻙别栠Ũ࢚࿠Ꮮဪ◺奒䯩ऩ♼乌狲䑗䞱༽ڡ〧Ŭㅂ⚚潲恠嵋䔑ᜯ䗹⁔՜佂کඵ¨挪ϼႴΡऻ㢘ᐢ᠘ठ擩漦ɚ捕檼⶷ݥ䕙❸㎬玈歗曹ň⒡琠ኾ㠻怠絘厧䅷ᤙ㔋ஶᨬ怒േઃ墩Ղ䭂๺⬵͸堮ེ㑆棘樧ī硥戹䌨桡⌸楣捯ࢸ炄檻卬潣㎚K䐷ۗゐ椻⍸毗監卡厊ʕ亯న⣇峖䟈൮劉᪓⦉匛↵㌇⬊氧Ȉ䁸ᗊ絿ခȥᨀ倨溡ᣜॠ⮞ʳ㌺ᣥ≄⊣桲౧冚Ρ穵Ᾱ凂樃զ♋ሩ⺱╮ⷫ敞Ⓣ㰶曱孤ϱ稡䅣桞䭈ᨰՐ晙䉙ⱑ欈ṉ某ใ䖘⺅扃⹻䴶ṍ毘傝杒⽵㚘⾃惘㞇䞙䤷Ԙ彶儨挎ᒤ䀴᎑傠妥ˀ䈥∱ᛷ恠猄ἠ୆Ⴠ൩拪篝粀」砜悺ΐ䢱博䠹猣䠾ڬ瑕桽筵࿨沝牝域絳畱丫摗ዶᢒ⽃璑〃侹皳樻⽠瘹ɣ烿楨♕䁰ℯ悀㨪♈㬠捖缤⚈പ㫒ᑧ䅸ف揚垫模❸ᩘ䮢᪄᣿ᇳእ᭴ೱ儻Ⴀ宊ъℷٕ䚑幚 甤➅Ԫ❧䊹⦦ዳᑠ嶒ⓦ樁缈䘝Ӿᄟ䀧䧅ᨨࠫ厅✚升竚俉絸業ᐻⵍ叅♲㞂焠睤Ⲩ搈㵿棱䔐ᧁと㗰䐭勺߀䱘Ҹ⦥疮䭐獃∫ݧⱱ㔌ঃ椌Ա␠㨅墒ᘲ壌૔亍䝶㧥噫䋙竤祗ᘣ෉婢㧒⤓恑勀䚖椨煱決᧺ߋ宵㞖✺狊䃁爡搽祥岌㷋㜥燧ᶮ圿㍮䱁亖ּ䚧ᰢམᮩޅ᤭԰ܑ焩⺩愂Ŏ屣彙ࡤ᭤冐磘䡩弰仨⏼⧩捐䂙扭ȀӖ恒䙀伮⊘械㑦䃀ʛ偛⟐♄劜➀犫廟ߵߨ㑯䓑侼䁶ʤ䴵ό㰅傑激俩Ǹᚲ㶥䄶⨗悓点䰍ⳳᮜථ㌺ᔐɃᡠ簔硼ㆡ瀀⤐ቬ擨ɰ⚹槉愠  "
   },
   "outputs": [
    {
     "data": {
      "application/vnd.jupyter.widget-view+json": {
       "model_id": "0faa4ae11dcc4ea1a600756185358505",
       "version_major": 2,
       "version_minor": 0
      },
      "text/plain": [
       "PersistWidget(data_values=[{'__id_column': '1', 'Avalanche Season': 'End', 'Date': 1649635200000, 'Region': 'U…"
      ]
     },
     "execution_count": 31,
     "metadata": {},
     "output_type": "execute_result"
    }
   ],
   "source": [
    "selection = alt.selection_point(name=\"selector\", fields=[\"Avalanche Season\"], bind=\"legend\")\n",
    "\n",
    "chart = alt.Chart(df_task_3a).mark_bar().encode(\n",
    "    x=\"Trigger:N\",\n",
    "    y=\"count():Q\",\n",
    "    color=alt.Color(\"Avalanche Season:N\").sort([\"Start\", \"Middle\", \"End\"]),\n",
    "    opacity=alt.condition(selection,alt.value(1), alt.value(0.3)),\n",
    "    order=\"selection_order:N\",\n",
    "    tooltip=\"count()\"\n",
    ").transform_calculate(\n",
    "    selection_order=\"if(selector && selector['Avalanche Season'], if((datum['Avalanche Season'] === selector['Avalanche Season'][0]),0,1),0)\"\n",
    ").add_params(selection)\n",
    "\n",
    "PR.PersistChart(chart)"
   ]
  },
  {
   "cell_type": "markdown",
   "id": "00e87acd-3759-49eb-9e43-d7793672297c",
   "metadata": {},
   "source": [
    "**Task 3b Notes:**\n",
    "\n",
    "Start (trigger / count): natural / 210\n",
    "\n",
    "Middle (trigger / count): skier / 572\n",
    "\n",
    "End (trigger / count): natural / 88"
   ]
  },
  {
   "cell_type": "code",
   "execution_count": null,
   "id": "c0da6518-4d3e-4af0-a8d4-e1b22b452922",
   "metadata": {},
   "outputs": [],
   "source": []
  }
 ],
 "metadata": {
  "__CATEGORIES_META__": "{\"categories\":{\"Avlanche Season Phase\":{\"name\":\"Avlanche Season Phase\",\"options\":{\"_None\":{\"name\":\"None\"},\"Start\":{\"name\":\"Start\"},\"Middle\":{\"name\":\"Middle\"},\"End\":{\"name\":\"End\"}}}},\"activeCategoryName\":\"Avlanche Season Phase\"}",
  "__persist_keys_record": [
   "__GENERATED_DATAFRAMES__",
   "__persist_nb_uuid__",
   "trrack_graph",
   "show_aggregate_origin"
  ],
  "__persist_nb_uuid__": "344d0b12-c699-41c0-9dc2-7f9a0b3e5d62",
  "kernelspec": {
   "display_name": "Python 3 (ipykernel)",
   "language": "python",
   "name": "python3"
  },
  "language_info": {
   "codemirror_mode": {
    "name": "ipython",
    "version": 3
   },
   "file_extension": ".py",
   "mimetype": "text/x-python",
   "name": "python",
   "nbconvert_exporter": "python",
   "pygments_lexer": "ipython3",
   "version": "3.9.17"
  }
 },
 "nbformat": 4,
 "nbformat_minor": 5
}
