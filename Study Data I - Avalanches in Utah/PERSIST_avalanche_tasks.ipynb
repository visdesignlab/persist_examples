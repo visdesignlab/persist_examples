{
 "cells": [
  {
   "cell_type": "markdown",
   "id": "522fcbb3-702c-4ea0-91d9-f3b0e71690fc",
   "metadata": {
    "__GENERATED_DATAFRAMES__": "{\"nodeDataframes\":{},\"graphDataframes\":null}",
    "show_aggregate_original": "false",
    "trrack_graph": "ᯡ࠽䈌ʀ匦㢠⹰àᦴ΀࣪ʐ怶䦠挠᱊ࠥ䁁䂖㚥煤晬փ⊪ĸ暂䙠঳ैkᑄᄈ妐ଷᓋ⃩䖻Ṯ溜Φ䐡傠Ǒ団Қ′䈤7ࡣᠠ湐戎Ⴆ寐爤䀥屨攠ʕ㥀ǔÚ䍃㏙䤥ࢂ┩勸惀Ēいཆ༠೥∁∀秸㲅䌠ⶬᛦ䙂ǃɡ殍戰泤ᒁ嬦怭㋉匥穃ᄠ彣჻⴦䉫ぢ睤䄁ⵐۻG䀡曑砑䂱竖ᄂ㜿Ꭽ˹ȩᚱ凁兘㑐Ṣ༩Ẻ䳥⑆憰棨忞⍧攈堽Ī僰὆揖䦲ᡊ⛓౱নఱ姼ᤦΧ您別൧儸晋Ǣ熘繀䉁硨K塊়ṹᜰ倳䪂ⵦ⚈ᒽ᪺ᆬ䀠 "
   },
   "source": [
    "# Analyzing Utah Avalanche Data"
   ]
  },
  {
   "cell_type": "markdown",
   "id": "3abf1206-e99f-45b6-a92b-d971a2a8eb19",
   "metadata": {
    "trrack_graph": "ᯡ࠽䈌ʀ匦㢠⹰ૠܠ昢〽䂆౐׀ৣfL⍉ျ⥒⠡䒙¬ᧇ峕搢ಒ嫒┠অҤᵖ㹢晴㘉ᦳㄍ毿䡨墠ᨰV䆼ガ搢⡠䀢焨㌠෦ౝ戰殖๠ᠠ塩ೀn坄V䀷⢄㚗᥂夬ು䅻ఴ>☤䝃傳狱⊔㳜ੁ䀶挫㐷ࢢӡჵ嬩іㄪᢉ懐ͻ䬥䇽ࣨ䁏僿峱䐰㋸ᇻ兀㡆䱍㛠਀ⲛ粀೽疨һ䟩桁㙡Ũ昙ˢ䧮ᄪᆽ䥢ᅅᄁẩ㱸౮ᐶޣ先ఽЃⵖᥒ⌥▶懜ᩑƢ᭛䭄憐ɑ٦⦈䙓ǂ炘㸠䱅࢜ؠଌથ䜯๡䙉夊᜶僑汢㭢☈₁䠠 "
   },
   "source": [
    "**Participant ID:**  P3\n",
    "**Date / Time:**"
   ]
  },
  {
   "cell_type": "markdown",
   "id": "ceac0d48-2820-4532-bfd2-adf6533d7a2d",
   "metadata": {},
   "source": [
    "## Introduction\n",
    "Welcome to our data analysis study. For this part of the study, you'll be working with a dataset sourced from the [Utah Avalanche Center](https://utahavalanchecenter.org/). The data provides insights into [avalanche occurrences](https://utahavalanchecenter.org/avalanches) in Utah.\n"
   ]
  },
  {
   "cell_type": "markdown",
   "id": "68491102-96aa-4701-8134-d998c80ae04b",
   "metadata": {},
   "source": [
    "- You will use an extension called PersIst to complete **data cleanup and manipulation** tasks. \n",
    "- Interactive charts and tables have been pre-created for your convenience. These can be directly utilized by running the corresponding cells.\n",
    "- Focus on leveraging the interactive capabilities of Persist for your analysis.\n",
    "- Carefully follow the step-by-step instructions provided for each task.\n",
    "- In some cases, you will be asked to document your findings. Please do this in writing in a markdwon cell.\n",
    "- As you work through the tasks, take note of any interesting findings or challenges with the software or pandas that you may encounter, either by speaking your thoughts out loud or taking notes in a markdown cell.\n",
    "- Feel free to add new code and markdown cells in the notebook as necessary to complete the tasks, but please do attempt the tasks with the PersIst functionality."
   ]
  },
  {
   "cell_type": "markdown",
   "id": "8ebadbe2-4497-401c-9220-017809e835de",
   "metadata": {
    "__GENERATED_DATAFRAMES__": "{\"nodeDataframes\":{},\"graphDataframes\":null}",
    "show_aggregate_original": "false",
    "trrack_graph": "ᯡ࠽䈌ʀ匦㢠⹰ૠବɐච䎍倶䊪ᠠ父嬡ᳺ෪ੲࠬ晴ᘦ㍲差Ⱗㅅ)㊤䈽ାƂ刴喋橖㎁混䩟ႠᨰV岸㈔␢⡠䀢焧匠෦భ戰௷㙠̸x䠊䀡᲼䠠洠⺾彡抄䀠㈉㶣㡶ᡈ\\䰩(懄燃㌂㰢ᒌ娾䀶挥㗦ࢢ烡ၕ⬱жㄢ៉䓐͸⮑ŝㄐ䁏你㋲既祸ၛᅀ㢆䰽⫠਀⻚粀幝ඨ࣓叾殪㙡ƨ◓ᰢ寘奇Ⴌ䦦糂礒৉ᱥ䩃༥ס扦᤭ԓ噻ҩᆠ剋࣡ସ䂡▥撰じ㸨䅃䢴മ䂁ᣌ㬫䈁碢➫怢崢悩欂䥑央Ⴧ掴≺䩬槔ဨ搠 "
   },
   "source": [
    "**Support**\n",
    "- If you require assistance or need further clarification on any of the tasks, please let us know.\n",
    "- If you find yourself stuck on a task and feel that you will not make any progress, you have the option to skip the task.\n",
    "- For tasks that build upon the outputs of previous tasks, skipping a task will affect your ability to proceed. To avoid such problems we will assist you loading a fallback dataset. "
   ]
  },
  {
   "cell_type": "code",
   "execution_count": 1,
   "id": "9337796b-21e8-4c8c-bbbd-3076a775d03b",
   "metadata": {},
   "outputs": [],
   "source": [
    "import helpers as h\n",
    "import pandas as pd\n",
    "\n",
    "import seaborn as sns\n",
    "import matplotlib.pyplot as plt\n",
    "import altair as alt\n",
    "\n",
    "import persist_ext as PR"
   ]
  },
  {
   "cell_type": "markdown",
   "id": "dd81aecd-eebf-4624-b9e2-3a864c474c1d",
   "metadata": {
    "__GENERATED_DATAFRAMES__": "{\"nodeDataframes\":{},\"graphDataframes\":null}",
    "show_aggregate_original": "false",
    "trrack_graph": "ᯡ࠽䈌ʀ匦㢠⹰Ҁ̡䘠烠嘢త〫‥侴ᓬᛞ拐ৡ䚂ద抭婈ހڅྯ䌲⠠䭈⑁槑焳Ⴥ⩦仃㍶๽㰥Ҩǁ#㟢䌰橠ኤРᜰ͐üメ湁˛㾄ָ̠憴)挄䀦栢琭ٮ㍄ᨡ䌤ᾣㆢ䀣擠䢤㘦Sᥧᡠ戂怡ᠬÖᠻ㹈䐿ة׉妨⃓ࢱ̴㖠᫲徤ฏѤƜڣ回㸦ۡ৵ण䃔戊㘠传ϊ緯挡䘌污䕽庮粓㈨ɪⷠ搃猄ᦨ洘㳌ᤪ̪౦繶ሱ澂䘣⁑Ҝഭ炍孉ृÅ⭱䤾ᢠ䆋෭ኀ㠢Ү≱呺Ấ惑汮ᮯ戩䊏̠˙Ɂ⧽憳㈒ṉⅱਊ⥋⃆瑀⣨  "
   },
   "source": [
    "## Data Description\n",
    "\n",
    "The table below describes the different columns in the dataset. Each row in the dataset represents a reported avalanche with details on location, trigger, and aspect. The data spans multiple years, starting from 2004 up to 2023.\n",
    "\n",
    "| Column          | Description                                                    |\n",
    "|-----------------|----------------------------------------------------------------|\n",
    "| Date            | Date on which the avalanche was recorded                       |\n",
    "| Region          | Region in Utah where the avalanche occurred                    |\n",
    "| Place           | Exact location where the avalanche was recorded                |\n",
    "| Trigger         | Cause of the avalanche                                         |\n",
    "| Weak Layer      | Layer of snow that was weakest and likely to fail              |\n",
    "| Depth_inches    | Depth of the avalanche in inches                               |\n",
    "| Width_inches    | Width of the avalanche in inches                               |\n",
    "| Vertical_inches | Vertical extend of the avalanche in inches                     |\n",
    "| Aspect          | Direction of the slope where the avalanche occurred            |\n",
    "| Elevation_feet  | Elevation of the avalanche location in feet                    |\n",
    "| Coordinates     | Approximate geographical coordinates of the avalanche location |\n",
    "| Comments 1      | Additional comments provided by the reporter                   |"
   ]
  },
  {
   "cell_type": "code",
   "execution_count": 2,
   "id": "8d0e426c-89a0-4813-8994-65ebba3f3a25",
   "metadata": {},
   "outputs": [
    {
     "data": {
      "text/html": [
       "<div>\n",
       "<style scoped>\n",
       "    .dataframe tbody tr th:only-of-type {\n",
       "        vertical-align: middle;\n",
       "    }\n",
       "\n",
       "    .dataframe tbody tr th {\n",
       "        vertical-align: top;\n",
       "    }\n",
       "\n",
       "    .dataframe thead th {\n",
       "        text-align: right;\n",
       "    }\n",
       "</style>\n",
       "<table border=\"1\" class=\"dataframe\">\n",
       "  <thead>\n",
       "    <tr style=\"text-align: right;\">\n",
       "      <th></th>\n",
       "      <th>Date</th>\n",
       "      <th>;Region</th>\n",
       "      <th>Place</th>\n",
       "      <th>;Trigger</th>\n",
       "      <th>;Weak Layer</th>\n",
       "      <th>Depth_inches</th>\n",
       "      <th>Width_inches</th>\n",
       "      <th>Vertical_inches</th>\n",
       "      <th>;Aspect</th>\n",
       "      <th>Elevation_feet</th>\n",
       "      <th>Coordinates</th>\n",
       "      <th>Comments 1</th>\n",
       "    </tr>\n",
       "  </thead>\n",
       "  <tbody>\n",
       "    <tr>\n",
       "      <th>0</th>\n",
       "      <td>11/9/2012</td>\n",
       "      <td>Salt Lake</td>\n",
       "      <td>Sunset Peak</td>\n",
       "      <td>Snowboarder</td>\n",
       "      <td>New Snow/Old Snow Interface</td>\n",
       "      <td>14.0</td>\n",
       "      <td>960.0</td>\n",
       "      <td>360.0</td>\n",
       "      <td>North</td>\n",
       "      <td>10400.0</td>\n",
       "      <td>40.577977000000, -111.595817000000</td>\n",
       "      <td>While it was a small avalanche that was I caug...</td>\n",
       "    </tr>\n",
       "    <tr>\n",
       "      <th>1</th>\n",
       "      <td>11/11/2012</td>\n",
       "      <td>Salt Lake</td>\n",
       "      <td>Patsy Marly</td>\n",
       "      <td>Skier</td>\n",
       "      <td>New Snow/Old Snow Interface</td>\n",
       "      <td>30.0</td>\n",
       "      <td>1200.0</td>\n",
       "      <td>1200.0</td>\n",
       "      <td>North</td>\n",
       "      <td>9700.0</td>\n",
       "      <td>40.592619000000, -111.616099000000</td>\n",
       "      <td>A North facing aspect with an exposed ridge in...</td>\n",
       "    </tr>\n",
       "    <tr>\n",
       "      <th>2</th>\n",
       "      <td>11/11/2012</td>\n",
       "      <td>Salt Lake</td>\n",
       "      <td>Two Dogs</td>\n",
       "      <td>Skier</td>\n",
       "      <td>Facets</td>\n",
       "      <td>36.0</td>\n",
       "      <td>840.0</td>\n",
       "      <td>5400.0</td>\n",
       "      <td>North</td>\n",
       "      <td>10200.0</td>\n",
       "      <td>40.599291000000, -111.642315000000</td>\n",
       "      <td>Remotely triggered all the new storm snow (abo...</td>\n",
       "    </tr>\n",
       "    <tr>\n",
       "      <th>3</th>\n",
       "      <td>11/11/2012</td>\n",
       "      <td>Salt Lake</td>\n",
       "      <td>Emma Ridges</td>\n",
       "      <td>Skier</td>\n",
       "      <td>New Snow</td>\n",
       "      <td>18.0\"</td>\n",
       "      <td>600.0</td>\n",
       "      <td>6000.0</td>\n",
       "      <td>Southeast</td>\n",
       "      <td>10200.0</td>\n",
       "      <td>40.598313000000, -111.628304000000</td>\n",
       "      <td>Impressive fast powder cloud ran in front of t...</td>\n",
       "    </tr>\n",
       "    <tr>\n",
       "      <th>4</th>\n",
       "      <td>11/11/2012</td>\n",
       "      <td>Salt Lake</td>\n",
       "      <td>Sunset Peak</td>\n",
       "      <td>Skier</td>\n",
       "      <td>Facets</td>\n",
       "      <td>42.0</td>\n",
       "      <td>18000.0</td>\n",
       "      <td>9600.0</td>\n",
       "      <td>North</td>\n",
       "      <td>10400.0</td>\n",
       "      <td>40.578590000000, -111.595087000000</td>\n",
       "      <td>Three of us toured from Brighton to low saddle...</td>\n",
       "    </tr>\n",
       "  </tbody>\n",
       "</table>\n",
       "</div>"
      ],
      "text/plain": [
       "         Date    ;Region        Place     ;Trigger  \\\n",
       "0   11/9/2012  Salt Lake  Sunset Peak  Snowboarder   \n",
       "1  11/11/2012  Salt Lake  Patsy Marly        Skier   \n",
       "2  11/11/2012  Salt Lake     Two Dogs        Skier   \n",
       "3  11/11/2012  Salt Lake  Emma Ridges        Skier   \n",
       "4  11/11/2012  Salt Lake  Sunset Peak        Skier   \n",
       "\n",
       "                   ;Weak Layer Depth_inches  Width_inches  Vertical_inches  \\\n",
       "0  New Snow/Old Snow Interface         14.0         960.0            360.0   \n",
       "1  New Snow/Old Snow Interface         30.0        1200.0           1200.0   \n",
       "2                       Facets         36.0         840.0           5400.0   \n",
       "3                     New Snow        18.0\"         600.0           6000.0   \n",
       "4                       Facets         42.0       18000.0           9600.0   \n",
       "\n",
       "     ;Aspect  Elevation_feet                         Coordinates  \\\n",
       "0      North         10400.0  40.577977000000, -111.595817000000   \n",
       "1      North          9700.0  40.592619000000, -111.616099000000   \n",
       "2      North         10200.0  40.599291000000, -111.642315000000   \n",
       "3  Southeast         10200.0  40.598313000000, -111.628304000000   \n",
       "4      North         10400.0  40.578590000000, -111.595087000000   \n",
       "\n",
       "                                          Comments 1  \n",
       "0  While it was a small avalanche that was I caug...  \n",
       "1  A North facing aspect with an exposed ridge in...  \n",
       "2  Remotely triggered all the new storm snow (abo...  \n",
       "3  Impressive fast powder cloud ran in front of t...  \n",
       "4  Three of us toured from Brighton to low saddle...  "
      ]
     },
     "execution_count": 2,
     "metadata": {},
     "output_type": "execute_result"
    }
   ],
   "source": [
    "df = pd.read_csv('./avalanches_data.csv')\n",
    "df.head()"
   ]
  },
  {
   "cell_type": "markdown",
   "id": "7cc10d2b-9b1e-46f4-9769-b9a0ac0c9e8f",
   "metadata": {
    "__GENERATED_DATAFRAMES__": "{\"nodeDataframes\":{},\"graphDataframes\":null}",
    "show_aggregate_original": "false",
    "trrack_graph": "ᯡ࠽䈌ʀ匦㢠⹰ૠ㌬Ā჻R〶䁃lyٹ⁓f䍐ۢ䧪㈉◔ฅޡ䨲⠠䬱䑁棒瀱Ⴭ⭱妻ݎẜʤ䐡傠ǖ悃РኤРᜰ結üメ浪巟㈠ᣠˬ⃪$熒‣㐡㬚͇⦲༿⸂໡壡‡犀⒂ଠᎭॣ䥡⊃㡹稠嬸ූᑤඦҡ哹䑀妨䤝͕䀺慽䈩瞤∡㼚ƶ嵖᯦悡檩ǣ᪀畖o#䖊⠃ܑ璌⃥⹾䞌᧒Т⺈ᆡ⇳㴑䒤㒌ŭ᯸丈◡戱⃰潅Ԧ秐噑๦磜疶溂⒀ᒪ扖⋦ူⶃ㧄మྡྷშ⨭རㅸ瘭ǅ爘䅐䘆砠址䑂㥨㈼㹯䕈䓵ᒹ憴婊③ᤠ "
   },
   "source": [
    "# Task 1: Refining Columns and Preparing Data\n",
    "\n",
    "In the first task we will perform some basic data cleaning operations to get our dataset ready for further tasks."
   ]
  },
  {
   "cell_type": "markdown",
   "id": "8934b219-dd97-4e3e-9aa9-0dd7a9d62ad5",
   "metadata": {
    "__GENERATED_DATAFRAMES__": "{\"nodeDataframes\":{},\"graphDataframes\":null}",
    "show_aggregate_original": "false",
    "trrack_graph": "ᯡ࠽䈌ʀ匦㢠⹰ૠ㬠氤〥䌸瀶䀹䁣๲ৠܦᔨҀᣴ䂼䋃‣ᓆ做►䀳ല⠠䭈⑁槑瀱ᝉ⍮冫㭮ẜʦ䒠ǁ#㕀挸晠ኤРᝣၐüムṁǟ㤉䀥䉸攠ʓ㥀ǔÚ⎃஥䤫䒄攭ᇸ惀Ēいᘦᖠೣ䗫⃂変ⱦ{ఽ咼∪⌤䋵汄ჹ䑈冣ᛠඉⵆܔ⍂Þ⍡歹ম悩溩Ǡ媁疖o#䖓瀃ʅ璌⁅溮杲◒Ъ⍁䔶户ࣉⓢ削౐䘰䵥䌂んḸئԢ灐糕൤㧶ⶬ䲱䅲ᗈ撯ౠ惍䈅䥐属ѣ၈⩍སヸ๗௧焤ᄸ䒰Ž䅰䔉燩壥༲刳樲⭮✈咰ᒄ  "
   },
   "source": [
    "### **Task 1a: Remove Columns**"
   ]
  },
  {
   "cell_type": "markdown",
   "id": "47b531d4-2e3a-4e9a-b92a-39aebfc3deb6",
   "metadata": {
    "__GENERATED_DATAFRAMES__": "{\"nodeDataframes\":{},\"graphDataframes\":null}",
    "show_aggregate_original": "false",
    "trrack_graph": "ᯡ࠽䈌ʀ匦㢠⹰ૠ㬠氤〥䌸瀶䀹䁣๲ৠܦᔨҀᣴ䂼䋃‣ᓆ做►䀳ല⠠䭈⑁槑瀱ᝉ⍮冫㭮ẜʦ䒠ǁ#㕀挸晠ኤРᝣၐüムṁǟ㤉䀥䉸攠ʓ㥀ǔÚ⎃஥䤫䒄攭ᇸ惀Ēいᘦᖠೣ䗫⃂変ⱦ{ఽ咼∪⌤䋵汄ჹ䑈冣ᛠඉⵆܔ⍂Þ⍡歹ম悩溩Ǡ媁疖o#䖓瀃ʅ璌⁅溮杲◒Ъ⍁䔶户ࣉⓢ削౐䘰䵥䌂んḸئԢ灐糕൤㧶ⶬ䲱䅲ᗈ撯ౠ惍䈅䥐属ѣ၈⩍སヸ๗௧焤ᄸ䒰Ž䅰䔉燩壥༲刳樲⭮✈咰ᒄ  "
   },
   "source": [
    "Remove the following columns to streamline the dataset for further analysis:\n",
    "\n",
    "- **_Comments 1:_** Contains textual comments not crucial for quantitative analysis.\n",
    "- **_Coordinates:_** Detailed location data not needed for the current scope of analysis."
   ]
  },
  {
   "cell_type": "markdown",
   "id": "aec9ad2a-ab09-4288-b8fa-2852bcddda1a",
   "metadata": {},
   "source": [
    "#### **Instructions**\n",
    "1. **Column Removal:**\n",
    "\t- Use the interactive table feature in PersIst to remove the specified columns.\n",
    "3. **Verify the Output:**\n",
    "\t- Print the head of the generated dataframe to verify the changes."
   ]
  },
  {
   "cell_type": "code",
   "execution_count": 3,
   "id": "8e333ff3-cb24-430b-a332-733b41570ba4",
   "metadata": {
    "__GENERATED_DATAFRAMES__": "ᯡࠩ䃬࿀ᜤᠹ悋ᐨ推̅ሣ䧠ⶠ卍捯ᥔᠣ℠▢dʘϔᝠ捌〤瀵摠៨⠠ ",
    "__has_persist_output": true,
    "editable": true,
    "slideshow": {
     "slide_type": ""
    },
    "tags": [],
    "trrack_graph": "ᯡ࠽䈌ʀ匦㢠⹰Ӡㆠ᱑₦Pƀୠ▔╠Ꭰ⌱䨣᯳䢠氣ᤑ䛕欐拴㵄倡ᙰ䡣内摂♭ʭᵦ服ᷚ簔ठ͢&掠ࣦὤ䁅ШN嵀〡岁䋼℩㎎洠֨终G㎲;∯□䆃栴Č⌢ᐩ֠૤㉀扒桸碴⍼冮┶ᵢ%樋甽♨㱝ᨰ✺挥'䦡ᇉ㆘㲊ୌ㾿冡䏰˸懌㣢ြᡄኚ扁Č₤⩠䙶⣮K㨶⠥稉眶䲈欤⬚渡㌭Ốʘ<ྎ὎᛫戤⌇ゐ炆㈤̰⒴ా䖨ज㌧ڤいᆡ䉁ಈⱥɂ才ফ圁偍ᶹ玘␭఩備๴庢ᆡ⊰屡ቨࣉ㩳ៃ㈥Ũ克⚀家俄扸卙፨㉹⬫䯨秅╸應尠ࢠ℡㰠ɔȯ倡⻃ᠽ⠣р凘挃䇵㦝䔇糼䂺倧榋㬝ℯ⬙繀䖆੐᱃Չ⋤䑖ਣ䉰⑔ኩ䒀氬࡜䔹砼«ॠ沔᳇僜箇ᗩኁ墜ᢪ⎱ॅƤ拐ᱎާ怨䊚凌槔⭎䟇栬ᠶ⎦ᡬ匰㚏ᥔ䮏㶉塠㭝䄃㢼㌠崃䉽坕佧ƨ〠ᑱ䌁⻳ᐢљ瑚堿㱚林Ց疛幀㚚成Š桴ʹ②௰恅沗瞢‣榩ϧ儡⻃㸍௤痕Ệ0ৢ籾ᰃ_⌄Ώ፫糼 ֠偃咏ਢ䣸㜢撲ᐭ€♂敳⩋ਁᄦ䁸㴠₸₠᡹ࠧɠⰆ炐ᐮდ㨿綽㐶瑠࠷䍢ࠬ㕭⺁㕪㇮奞ᨭ禞மㅁҥᄫⲢⰴᦋ⁋⪭ⱔᶍ冇ᕤ熡㔫ᶝḯ産り෣ĩසⲏഒኂ䳳ڂؙ㡯ℝౣᢁೃٮ獱➷䆳⪎䳰ᶨぬあu᫉哀组㓌eĞՊᏊⷂǠ搲璀垡產っ㠤埇䴥㑨攲ᣆ故๧䧙Ḭ⣍᥁⑻❭榚ს䂈ⲋ浆㓨᲌ㄌ夯ۭ妖㻦㵮㴂၎⼇⩠ᬋ×㴣巎⠪㷖爂㫶㨏㣏ॆ焏Ѓ䎡࡯̰爵簤疡䉠‌፽ 䄿⠱ᆭЧ䨪獫ʔ㏶燿⠊䊟䀍䋤渳㷻ἰ䦈ᲄ倨⼤䢬Ⲁ傀ṝ⃸ଡ䂐ᬣ䇩䜸叜៣礞㖮劤ᮥ劄㆏ᄴƲ僋㪫ⳔႮ㏊あ䇉ࠪ啜୐⳹岪Ⳉ᝙⳴ඉ刋ឣ吢ͱᆌ網઼硶猃㑸䶂瞰䩘倠 "
   },
   "outputs": [
    {
     "data": {
      "application/vnd.jupyter.widget-view+json": {
       "model_id": "956181e268c34d3a927b81649f0d6a29",
       "version_major": 2,
       "version_minor": 0
      },
      "text/plain": [
       "PersistWidget(data_values=[{'__id_column': '1', 'Date': 1352419200000, ';Region': 'Salt Lake', 'Place': 'Sunse…"
      ]
     },
     "execution_count": 3,
     "metadata": {},
     "output_type": "execute_result"
    }
   ],
   "source": [
    "PR.PersistTable(df, df_name=\"df_task_1a\")"
   ]
  },
  {
   "cell_type": "code",
   "execution_count": 4,
   "id": "1ac4d6c1-0719-4584-b6d6-f9bfe19a1919",
   "metadata": {},
   "outputs": [
    {
     "data": {
      "text/html": [
       "<div>\n",
       "<style scoped>\n",
       "    .dataframe tbody tr th:only-of-type {\n",
       "        vertical-align: middle;\n",
       "    }\n",
       "\n",
       "    .dataframe tbody tr th {\n",
       "        vertical-align: top;\n",
       "    }\n",
       "\n",
       "    .dataframe thead th {\n",
       "        text-align: right;\n",
       "    }\n",
       "</style>\n",
       "<table border=\"1\" class=\"dataframe\">\n",
       "  <thead>\n",
       "    <tr style=\"text-align: right;\">\n",
       "      <th></th>\n",
       "      <th>Date</th>\n",
       "      <th>;Region</th>\n",
       "      <th>Place</th>\n",
       "      <th>;Trigger</th>\n",
       "      <th>;Weak Layer</th>\n",
       "      <th>Depth_inches</th>\n",
       "      <th>Width_inches</th>\n",
       "      <th>Vertical_inches</th>\n",
       "      <th>;Aspect</th>\n",
       "      <th>Elevation_feet</th>\n",
       "    </tr>\n",
       "  </thead>\n",
       "  <tbody>\n",
       "    <tr>\n",
       "      <th>0</th>\n",
       "      <td>2012-11-09</td>\n",
       "      <td>Salt Lake</td>\n",
       "      <td>Sunset Peak</td>\n",
       "      <td>Snowboarder</td>\n",
       "      <td>New Snow/Old Snow Interface</td>\n",
       "      <td>14.0</td>\n",
       "      <td>960</td>\n",
       "      <td>360.0</td>\n",
       "      <td>North</td>\n",
       "      <td>10400.0</td>\n",
       "    </tr>\n",
       "    <tr>\n",
       "      <th>1</th>\n",
       "      <td>2012-11-11</td>\n",
       "      <td>Salt Lake</td>\n",
       "      <td>Patsy Marly</td>\n",
       "      <td>Skier</td>\n",
       "      <td>New Snow/Old Snow Interface</td>\n",
       "      <td>30.0</td>\n",
       "      <td>1200</td>\n",
       "      <td>1200.0</td>\n",
       "      <td>North</td>\n",
       "      <td>9700.0</td>\n",
       "    </tr>\n",
       "    <tr>\n",
       "      <th>2</th>\n",
       "      <td>2012-11-11</td>\n",
       "      <td>Salt Lake</td>\n",
       "      <td>Two Dogs</td>\n",
       "      <td>Skier</td>\n",
       "      <td>Facets</td>\n",
       "      <td>36.0</td>\n",
       "      <td>840</td>\n",
       "      <td>5400.0</td>\n",
       "      <td>North</td>\n",
       "      <td>10200.0</td>\n",
       "    </tr>\n",
       "    <tr>\n",
       "      <th>3</th>\n",
       "      <td>2012-11-11</td>\n",
       "      <td>Salt Lake</td>\n",
       "      <td>Emma Ridges</td>\n",
       "      <td>Skier</td>\n",
       "      <td>New Snow</td>\n",
       "      <td>18.0\"</td>\n",
       "      <td>600</td>\n",
       "      <td>6000.0</td>\n",
       "      <td>Southeast</td>\n",
       "      <td>10200.0</td>\n",
       "    </tr>\n",
       "    <tr>\n",
       "      <th>4</th>\n",
       "      <td>2012-11-11</td>\n",
       "      <td>Salt Lake</td>\n",
       "      <td>Sunset Peak</td>\n",
       "      <td>Skier</td>\n",
       "      <td>Facets</td>\n",
       "      <td>42.0</td>\n",
       "      <td>18000</td>\n",
       "      <td>9600.0</td>\n",
       "      <td>North</td>\n",
       "      <td>10400.0</td>\n",
       "    </tr>\n",
       "  </tbody>\n",
       "</table>\n",
       "</div>"
      ],
      "text/plain": [
       "        Date    ;Region        Place     ;Trigger  \\\n",
       "0 2012-11-09  Salt Lake  Sunset Peak  Snowboarder   \n",
       "1 2012-11-11  Salt Lake  Patsy Marly        Skier   \n",
       "2 2012-11-11  Salt Lake     Two Dogs        Skier   \n",
       "3 2012-11-11  Salt Lake  Emma Ridges        Skier   \n",
       "4 2012-11-11  Salt Lake  Sunset Peak        Skier   \n",
       "\n",
       "                   ;Weak Layer Depth_inches  Width_inches  Vertical_inches  \\\n",
       "0  New Snow/Old Snow Interface         14.0           960            360.0   \n",
       "1  New Snow/Old Snow Interface         30.0          1200           1200.0   \n",
       "2                       Facets         36.0           840           5400.0   \n",
       "3                     New Snow        18.0\"           600           6000.0   \n",
       "4                       Facets         42.0         18000           9600.0   \n",
       "\n",
       "     ;Aspect  Elevation_feet  \n",
       "0      North         10400.0  \n",
       "1      North          9700.0  \n",
       "2      North         10200.0  \n",
       "3  Southeast         10200.0  \n",
       "4      North         10400.0  "
      ]
     },
     "execution_count": 4,
     "metadata": {},
     "output_type": "execute_result"
    }
   ],
   "source": [
    "df_task_1a.head()"
   ]
  },
  {
   "cell_type": "markdown",
   "id": "36c62d50-9c88-4ed9-8c97-e552a6e4c620",
   "metadata": {},
   "source": [
    "### **Task 1b: Fix Column Names**"
   ]
  },
  {
   "cell_type": "markdown",
   "id": "ab8f8f24-afd2-424f-ab34-3e3cde723aa3",
   "metadata": {
    "trrack_graph": "ᯡ࠽䈌ʀ匦㢠⹰ࢀㆪこ<ǐʀ୥崡汤Ɓ䔠⍂⠨撂䂼ì债晶堪慯掩ᐠ▴ሰ璹㤨䮲减ⓥ䢧᜾㺣䉠ð䀡壅冨㕀ॢȠ௞䠸ᢀ眰䅽忖䀢晐樠Ԃ牠ΈƔڦ❓ሠƠ暬ॡ声Ȅ恨䙜⬮ಬ俨⫣䞐డ㙐᬴⣔䰲ճ㌰䊆၂۔欠㖹┰᧶༨̘ඛฌ琻ɋ㉄ܠ榡哸Ŝ.ؗ⾬ള勑̵㯺ᱱ曨ဩᒡᾪ३⁂惡৒ј⪖ᩋࢶ䥣䍢ᇃ⢀☾ԣ䖎㑝䳓ⳄⓀ᪱ĦҐ戤׌㝔䆦成扉ڠ凈㨣ೣㅘ湏Bࡤ䒠ଈତޗ٩䟨㣜㥨◈ᩲ㭡⟢䀠 "
   },
   "source": [
    "It looks like something went wrong when reading the file and some column headers start with a `;`. **Please remove the semicolon from all headers**. "
   ]
  },
  {
   "cell_type": "markdown",
   "id": "63f4d5c5-9383-4857-beae-0cfa6ba466f2",
   "metadata": {},
   "source": [
    "#### **Instructions**\n",
    "1. **Rename Columns:**\n",
    "    - Use the interactive  table in Persist to correct the column names by removing the leading `;` from their names:\n",
    "        - _;Aspect_ → _Aspect_\n",
    "        - _;Region_ → _Region_\n",
    "        - _;Trigger_ → _Trigger_\n",
    "        - _;Weak Layer_ → _Weak Layer_\n",
    "2. **Verify the Output:**\n",
    "\t- Print the head of the generated dataframe to verify the changes."
   ]
  },
  {
   "cell_type": "code",
   "execution_count": 5,
   "id": "e74dd265-2437-40e4-8673-be7ea1d079b3",
   "metadata": {
    "__GENERATED_DATAFRAMES__": "ᯡࠩ䃬࿀ᜤᠹ悋ᐨ怱䐢犲ǩ怶恉宑召䵬ð䀲悠ᄡḡ沯偑嬸Ř˛ࠥ笪  ",
    "__has_persist_output": true,
    "trrack_graph": "ᯡ࠽䈌ʀ匦㢠⹰ࢀ㬪〫¬㐹䁍ਡᰠ㡴ᖠ捳ҳ䲠暥䭠̠⍇浩浈☠汩•ⳁႧ⓫䁸峅൚ۭⱛ㬗琲ဦ䈠ۥᎬǉj࠰|∔怣㣣ט䈲曽䢊6ㄦ倠➇ሠ᭤ྭ⛢抐燉шvᤩબ䡊抂昱傤㢼Fᙎ⭌䵢%氈ഽ♨皝㕐┺挥'䦡ᄑ洌᱁ᨩἥ៿倥壣ⱱ⋲とᔕ䱢׸䔪咢㣌öㆴ⁶求倫石湍ᡱ哶ѵ竼Ɔ͝〤砠ᴾ滞ᢊᜋ戬⌂砼ᐹ䲡D⤩̢ヰⰹф凰㡵ৡၸ乕ڠᒒ㚩䞦儂㚷䌗㳄⚬˴㲮檞䤶䖂碲⊳⑒晖⮷撪ኳٱ䱁㜽ᖡ䔂Ӓ⪳䍹ⲫǬᖪⅉ⹶喬㪻了㡰ঠm⁠ؠᗬ㌢㔠㜺倧᥌䜋ȩ垻ᛏᛈי䅐ͳ!穚绐欒紞ၤᕻ㱘㬠兀ሌ๪́⡬బ䟀恢✰䜙ㇴŠ噴烳㫵珻᳎㒣ۡ灤⤢䋂棉⪥䎁㡜ἠ☲緭⭣典窝ä䑩僩ᨼ㒻⚀䨮㇐嬖淿⓸⁛Ỡ痘仲⁼瓛⺧㺮°怠⢶⸐满⠤৙ĕ〩碖『䩳朐籠紕䰂ɡトĥ㳄惋撂䓜㐃烄/ⅅཞ䘥竃熔滇嗴ڷ⅙ῗ皔〿瓘ၳ熉䁻䄢Ⴤत竃犁ऩŁ氶š壙ฉㆪȱЦአন㈰倠摩⑎ʀ⁒ठ徴䅠偄䟰䂈ජጠذ↦䀥䣀濰䝡ᦴ棠୹へ畞歲疫焜㾠୸㕷䗘ᤴ寨૩⍶稱䇶റ守᛹㣴✴ऀ无䪦烥ɦĦᦀ㣡ᥢ擵᪂ʣᦆ㱤㮨䤳炦モᥦÈᙆ働ᡥ䳻᭬╤抢眽⦊⽱Һ%⠱䑓⚈恠䧋⵭⹶⬊堰ᵇԈ䁩ላિ⣱簠䌉䈰s塤䱱扌ౣ灈ڡ⢜঑ᣔ┡ᣬ༪ቮʱ〢䤑猢滶ց⣩䔶❹┼䞲斎⯪ᩖ曲㪎䇣㭡䑃瀢䑀䡁敐晑潒❭ᵘ㚍䯓皋檒坑Ƒ⸻䛑㜽濙捨㍑⾟写ᇕ䎘ẛ橩岇欛ᒯ恆傮匡䘨Ԃ¼ᅆસ͇㵐Æ帰ᛄ㓄ᯀ僁ቇ䨋த䀰᧴槤Ὦ᧦啴櫗担岁㳵磶ぬ羔’ㄑឤࢰԧࣉp変妺劜Ƒ࠺Ɠ桒ኹ朁᝔瀸Σቌߥ璿ฒ纟䌀䳁ቹ撒棁⬵އ否旃ᬱ̆橰⁳ខ婕傑套⛹彖兆Ӗ㠵呁嚭嗕祘呔䛑嵠⛈Ք曌ݗ戤璼叔牢㛌ᒁ狍ᬉૹᒋഠແⓖ⛀⡓懊畭厎⠧㼏㷫⿐浱㔋炍Ḕ絠ㅹ慈渁汣ు硛Ł壎ӭ琧Ѩ吡⟡ᰏ䭀摞ɭᔸ䷺䖷䱫㺒⥭Ɯ㍪⦦ⲫ妋ヅ涽池巟⊛⟧Ј拌愝⋣綈〦㧤ګ䚭⃭㠱怋㝌ǣ∁屰զ疢䛇䓘宣ೡᰩ␮ᬡṕⱖ㍢ኆ♷旭ᓡ巉䧚ב剫⣗煡ፒ຃⇼毬哿丄兪ᧀ笯ྕஅ᝶㜤ᅽ扂⵭䌩堐ᗇᮐ䫓⭧敤昄ျ悱砾℁༢䔰戰㔧恜Ⓜᳬ⹄ލ㵱洬䗻℻嫨ᦀ⡪晰᫫眕䧀䶧⇅僠䎲Ѐ㌂⼮አ嘎庻敠㠧㱨྘ྱ禆㬥ᾓ焰は摀࠲⯱䕢⮘≭୤曵䒳獞ఋ䩊䁵瑛⢻䓰@丣帵搗⛆哺䷐爈Ⲓ潣叱և忰۟氆ூᘨ痮紈⺑橽୹㘃ᕛ嚵㢇㗲罻唌ߏ缄ౕᦤ˞岐ᘴ煠洇亀㏡ᗨ䅧䔢⡏㠯दゎՠ丩̰ל嚩䚯䉢拿෸⢹⢂塳ḳ獦࠱圎湲ᩝ勢䏄Ꭷネޜ漭粦㙔䚸㲂湂‮૎ᠶ斺ࢁ2烰ᙱ≈籐ǜ⤶䂐඙廃ࣰ㢅〲ۀᘫ⊝ྫ佥ዧ㰣堹㏖ᥛ୒瞈煶⸍⹍⇼㇪ϗ䛙ૂ怺ℊ⬤ⴆ∌乚撝䁴Რ㦘捣橠䠉⤦䧡ᆲᯫፂ㝆࿑篤慪݀  "
   },
   "outputs": [
    {
     "data": {
      "application/vnd.jupyter.widget-view+json": {
       "model_id": "91f8d77d1d344328afd383a6438adda5",
       "version_major": 2,
       "version_minor": 0
      },
      "text/plain": [
       "PersistWidget(data_values=[{'__id_column': '1', 'Date': 1352419200000, ';Region': 'Salt Lake', 'Place': 'Sunse…"
      ]
     },
     "execution_count": 5,
     "metadata": {},
     "output_type": "execute_result"
    }
   ],
   "source": [
    "PR.PersistTable(df_task_1a, df_name=\"df_task_1b\")"
   ]
  },
  {
   "cell_type": "code",
   "execution_count": 6,
   "id": "0ce6cca1-ef45-47c7-9633-3191910071e0",
   "metadata": {},
   "outputs": [
    {
     "data": {
      "text/html": [
       "<div>\n",
       "<style scoped>\n",
       "    .dataframe tbody tr th:only-of-type {\n",
       "        vertical-align: middle;\n",
       "    }\n",
       "\n",
       "    .dataframe tbody tr th {\n",
       "        vertical-align: top;\n",
       "    }\n",
       "\n",
       "    .dataframe thead th {\n",
       "        text-align: right;\n",
       "    }\n",
       "</style>\n",
       "<table border=\"1\" class=\"dataframe\">\n",
       "  <thead>\n",
       "    <tr style=\"text-align: right;\">\n",
       "      <th></th>\n",
       "      <th>Date</th>\n",
       "      <th>Region</th>\n",
       "      <th>Place</th>\n",
       "      <th>Trigger</th>\n",
       "      <th>Weak Layer</th>\n",
       "      <th>Depth_inches</th>\n",
       "      <th>Width_inches</th>\n",
       "      <th>Vertical_inches</th>\n",
       "      <th>Aspect</th>\n",
       "      <th>Elevation_feet</th>\n",
       "    </tr>\n",
       "  </thead>\n",
       "  <tbody>\n",
       "    <tr>\n",
       "      <th>0</th>\n",
       "      <td>2012-11-09</td>\n",
       "      <td>Salt Lake</td>\n",
       "      <td>Sunset Peak</td>\n",
       "      <td>Snowboarder</td>\n",
       "      <td>New Snow/Old Snow Interface</td>\n",
       "      <td>14.0</td>\n",
       "      <td>960</td>\n",
       "      <td>360.0</td>\n",
       "      <td>North</td>\n",
       "      <td>10400.0</td>\n",
       "    </tr>\n",
       "    <tr>\n",
       "      <th>1</th>\n",
       "      <td>2012-11-11</td>\n",
       "      <td>Salt Lake</td>\n",
       "      <td>Patsy Marly</td>\n",
       "      <td>Skier</td>\n",
       "      <td>New Snow/Old Snow Interface</td>\n",
       "      <td>30.0</td>\n",
       "      <td>1200</td>\n",
       "      <td>1200.0</td>\n",
       "      <td>North</td>\n",
       "      <td>9700.0</td>\n",
       "    </tr>\n",
       "    <tr>\n",
       "      <th>2</th>\n",
       "      <td>2012-11-11</td>\n",
       "      <td>Salt Lake</td>\n",
       "      <td>Two Dogs</td>\n",
       "      <td>Skier</td>\n",
       "      <td>Facets</td>\n",
       "      <td>36.0</td>\n",
       "      <td>840</td>\n",
       "      <td>5400.0</td>\n",
       "      <td>North</td>\n",
       "      <td>10200.0</td>\n",
       "    </tr>\n",
       "    <tr>\n",
       "      <th>3</th>\n",
       "      <td>2012-11-11</td>\n",
       "      <td>Salt Lake</td>\n",
       "      <td>Emma Ridges</td>\n",
       "      <td>Skier</td>\n",
       "      <td>New Snow</td>\n",
       "      <td>18.0\"</td>\n",
       "      <td>600</td>\n",
       "      <td>6000.0</td>\n",
       "      <td>Southeast</td>\n",
       "      <td>10200.0</td>\n",
       "    </tr>\n",
       "    <tr>\n",
       "      <th>4</th>\n",
       "      <td>2012-11-11</td>\n",
       "      <td>Salt Lake</td>\n",
       "      <td>Sunset Peak</td>\n",
       "      <td>Skier</td>\n",
       "      <td>Facets</td>\n",
       "      <td>42.0</td>\n",
       "      <td>18000</td>\n",
       "      <td>9600.0</td>\n",
       "      <td>North</td>\n",
       "      <td>10400.0</td>\n",
       "    </tr>\n",
       "  </tbody>\n",
       "</table>\n",
       "</div>"
      ],
      "text/plain": [
       "        Date     Region        Place      Trigger  \\\n",
       "0 2012-11-09  Salt Lake  Sunset Peak  Snowboarder   \n",
       "1 2012-11-11  Salt Lake  Patsy Marly        Skier   \n",
       "2 2012-11-11  Salt Lake     Two Dogs        Skier   \n",
       "3 2012-11-11  Salt Lake  Emma Ridges        Skier   \n",
       "4 2012-11-11  Salt Lake  Sunset Peak        Skier   \n",
       "\n",
       "                    Weak Layer Depth_inches  Width_inches  Vertical_inches  \\\n",
       "0  New Snow/Old Snow Interface         14.0           960            360.0   \n",
       "1  New Snow/Old Snow Interface         30.0          1200           1200.0   \n",
       "2                       Facets         36.0           840           5400.0   \n",
       "3                     New Snow        18.0\"           600           6000.0   \n",
       "4                       Facets         42.0         18000           9600.0   \n",
       "\n",
       "      Aspect  Elevation_feet  \n",
       "0      North         10400.0  \n",
       "1      North          9700.0  \n",
       "2      North         10200.0  \n",
       "3  Southeast         10200.0  \n",
       "4      North         10400.0  "
      ]
     },
     "execution_count": 6,
     "metadata": {},
     "output_type": "execute_result"
    }
   ],
   "source": [
    "df_task_1b.head()"
   ]
  },
  {
   "cell_type": "markdown",
   "id": "3875e7fc-ec40-4241-aa94-87b31e59944f",
   "metadata": {},
   "source": [
    "## **Task 1c: Correcting Data Type of 'Depth_inches'**"
   ]
  },
  {
   "cell_type": "markdown",
   "id": "7a7eebda-1b60-4bff-89d3-a5548a601b49",
   "metadata": {},
   "source": [
    "There is a data type issue in the `Depth_inches` column of our dataframe. This column is incorrectly formatted as an object (string) due to the presence of the inches symbol `\"`.\n",
    "\n",
    "Remove any inches symbols `\"` from the `Depth_inches` column and convert it to a float data type."
   ]
  },
  {
   "cell_type": "code",
   "execution_count": 7,
   "id": "fb9bff61-9a8d-4114-97f3-4f6d0cd0e61e",
   "metadata": {},
   "outputs": [
    {
     "data": {
      "text/plain": [
       "Date               datetime64[ns]\n",
       "Region             string[python]\n",
       "Place              string[python]\n",
       "Trigger            string[python]\n",
       "Weak Layer         string[python]\n",
       "Depth_inches       string[python]\n",
       "Width_inches                Int64\n",
       "Vertical_inches           Float64\n",
       "Aspect             string[python]\n",
       "Elevation_feet            Float64\n",
       "dtype: object"
      ]
     },
     "execution_count": 7,
     "metadata": {},
     "output_type": "execute_result"
    }
   ],
   "source": [
    "df_task_1b.dtypes"
   ]
  },
  {
   "cell_type": "markdown",
   "id": "b23913ac-ea3c-4ca1-8ac3-07d3026ca76e",
   "metadata": {
    "__GENERATED_DATAFRAMES__": "{\"nodeDataframes\":{},\"graphDataframes\":null}",
    "show_aggregate_original": "false",
    "trrack_graph": "ᯡ࠽䈌ʀ匦㢠⹰ೠ↺΀Ơ瘢ᠢᠫ‵䁇ፉ䐢怣侽振ၑ䶃᪰঵䂆⹉多䪲┠অҤᴶṂ㊵嘊᭓ㄅ毠㒰䣑Tဠ㚉҃೨ɰ䂠̂҆;䘸Ϥၗ眼䋐Ð䬹†于␠㚠ᝨ沂烒⎁൸憈㬸ᐠṬү䓧Ⴠ椓ᣘ⌚ᆠᛦކ䜱ǁ䅀㖖नຂᩈ桫〦塵偢㶱⢠⾱䂅埦䖃塀㪂ₐ暸ᵽ䀳怠煼砤慸㴻ࠩ㯏姭ঌ䄢䣫䧙㱈刱ㄿᬦ䩫⏃㌱楫磤ⰴຣα晼ਫ䎁㺕䮃Ⴤご䖂᥂挰ы゙㈬ܠ₰ᑊІ僑汮ޯ戩䉱៪怡⹁ᡤ甑擸抯॰ᡬᅓ╄璚╄㈠ "
   },
   "source": [
    "#### **Instructions**\n",
    "1. **Identify Entries with Inches Symbol:**\n",
    "    - Use the interactive table in Persist to look for rows with `\"` in `Depth_inches` column\n",
    "    - _Hint_: You can search in the interactive table\n",
    "2. **Edit and Correct Entries:**\n",
    "    - Edit the cells to remove the inches symbol from these entries. (e.g. `15\"` → `15`)\n",
    "3. **Convert Data Type:**\n",
    "    - Change the data type of the `Depth_inches` column from string to float.\n",
    "3. **Verify the Output:**\n",
    "\t- Print the head of the generated dataframe to verify the changes."
   ]
  },
  {
   "cell_type": "code",
   "execution_count": 8,
   "id": "7cb9b796-3aa5-4181-bf91-fa8ba7e33c20",
   "metadata": {
    "__GENERATED_DATAFRAMES__": "ᯡࠩ䃬࿀ᜤᠹ悋ᐨ恑䐢犲ǩ怶恉宑召䵬ð䀲悠ᄡḡ沯妶ᠢ㠪癀ఄᐠ ",
    "__has_persist_output": true,
    "trrack_graph": "ᯡ࠽䈌ʀ匦㢠⹰Ӡܡ䰢ᣠآ堣ᠫ⍠〉ř䐢捊㻤ђ䕎戦ᥓ⎮ǐ憀查侩ᐠ▴ሰ瓸碪䡶叀泵嶷ྞ䇣≠ð䀡契晓ဩ™+僨ఠ㜸ㄗࡣⷸ㤀Ɓᲅ\"㫙အ婀ਬڲᔥ晇悒⧸㑸䢸⤺ԩ䱦▩吂⍃ѐŞࠠᝨ沌熠婂炬᱁♻ఴ>☤䍄䜂烨粈尴ἦኯ䒀ב䋹᧤⁬と̍䉢௸䌩咡れöᧆႁ籊倫牕᲎ࢸ᳖н廼ᶆӛ〤砠ᱞẞణ䑘縰ҭ悑ᱬ⍲⚰㲴ర䒨梈Ἧኃᆈ⴫Ӏ䡸ܺᙂ㉰฿儁䠼❡朙繒⭦ވ㺷㍈暪挑≹ᕫㆹ㙷៪૥⥼坉ᙲಭ䮨ኙᝍჩ㊈๯၈桥६僈᳆㦦•咞⡃ᔠ(ᰨᣠ˘暀㇀݀d〿囫瀡笀恎ה೦咠Ė᪈掍䄣嫨㐠ݫ䋺ບ䈱犔ቻᗹ✸ᘶ忨ࢥ嬨䅉⎬ごŻ䂵㑁䎭䧁ᆂᜡ慠ᡈʇ扥硆౧夝❷ᷫኀ㠢Үⅱ㒚ᆢ懑᲎ហᄨ≑׆梕嶍忈ᬭ⎜ᜡᦱ㎙册䍍⭛᷉夆笣䈬㪽朷嬌夤眧䨁㤸灉ؠʪࢅ⏹甡‰ؑ6䰠ķ༓㲬吅紟Ф盖࿤䋰居0ࠁ䡁ࠅᢴ䇧䇞٠Ĕᩣ焸⡲櫡䓹᫆଺狁瑃抁汄䗡皿Ҙɜ⪱桢櫡尵ᇀ㨣Ȅᐦ䎬娪ㆮ䨣䉐稾炀䈦ᇤ濤˱ိӨ燷ۑ䉌橺歠ǩᡙ䒧䢹ऋᵗ∊粘˄ౚᇆ塍ጊट⊄碹͢洛ሂ㓃ަ࣒ἅ㣳ሃ䍈担癠Ⱚ䆐⮂Ɽ⍁撞棁ܵਜ਼吩旃❽ݚ河ིᩒޙ猢摺䠲浸梒楻⭺潺ᬬ೺孑䔯ɴђ婒䭊全檺杸ᭆ拹孍⚀ᩝ₉൳⺉ⴻ℉ᴷ⼉䁯⸊絈8⠪఺䍻♣灈挹ౘ揺⢴想匰ࠀʀ䨰癋宠恼≱䢂֡さݣ祆஡抂Ր偌ʣ䙌β∬൱糎漹≥ᇨ攴䝊祥⿨啕ⱊ㔥惩᜾䟰ف䉐ࠬल⢜௘ᙅ䋑嘳旑«料亐᎐Ἡྒ罀᜚恏搛ἣ昤幃ȧ秽䄧庈᭨㲘ᢧʴᛇ械ࣤẆ 壠峥喹࿗䋵Ễᣇⓥ᳖ሠ㢭圆惍务㳙ㆧ病㢌崉ష岯౨٨䟢廞Ǣࡌ⍠ሺೠ桪Ƣ䡌ט桏㋢≆ॠ⊬搨䅐✃拢ࢵ笥࡛ᐱ曃䝭՘瑹濁潚䌂ᨴޘ㡧崖≷弖㺪ສ缊怭ư㘬⇶在ệ咨毗刖ᡏ壽纶簭硰㊣䇑又㲝⢉᜹埇朓ᓕⴘۗ絠棈盐抢໸挀懓嵤籬殔猰ơựჩ碂ЍƑᖡ濔ݹ₆ॣ扪٠〮ࡆⶮ暦ỡ檥䱸㵺唵ૐ۝⬭㍱硥攈岈䃋䁬ᮤ丐ണ䧞犠ᕖḭ䗆Ə塧ʑ೶禹刓姁ړ⠆繀☆翨ʤᑍౄ⵿౸དࣨᓗ愹ㇸ潀囖掤價敵宫喸䚋ἕ恋㗶ĵ䊖求䛤洝೸㳂僨糔⭁ংᄼ㚼∠᫣懟ᩚ⠳Ȱḕन獌㈭₴ڠ堠ᵿ䂱硉䛮㸥䝫䒪歍੩朴ॣ悲䍙ᑐ狈ᤀ桩曰᧧傂౼թP༑⿅ÿጣ弧烌ℌ组ܜΎ粟倘翅媗ಢ⒴䭩⋡䦴ֳ⿵䆒⨣㿏簟㔐䵹犺؋劓➈⯲摶嫩㴯劏㊤倽珺ᐫ䄛沕ߴ瓀॓人㊿෶暐䊨ഥ١梼ᡌ⾣ቈ㯌縖䨿㗠ణ₤઱ქ䗓ߒ⮯㣝㾗垏劎翇悠晜Ꮺ㳑䣱ၪߎᜇⴜŠⰹ♧仑➮䶨㬑᧝灰潕汷果溇↟䈡䋯ㆸ⨶₧⎫ⰶ炳ᖶ夵凪淅≔撽峹䚖姹㗓殙໱ᖇ准晫ቒ䁜⪴ঀ䔲溩᭵ྊᠨ⳧Ῡ栵綈ۘ偟栰ᣈढ䈞曈ⲵਃ燧掂䕙叜䀮に┼眩Ⳁ⻱឴◥劈༓戻ǌ䛮き䷀ᶱⴖΐа獦ԅ五䜴䯕ⴕ䳹呥㗛ᮋ⽾櫘अᶙ更㣴㐰 慿Ÿ.㔈䘉椫ↅ䭵㖣ب䙠ƫతϔἡ偃咐⦷ⓓⶉ⺸䑳੕䁌㑌嚃嵘ⳙ滢⧷挱⥞籊⨘微ⓧṬ㓢価沈䅋侭殬䆮㊂∰ᐾ⸭ʢ்窂⅗䫣僕䲿ᨁ殕ق攨ダᝥ㈲¸怑″䍅巃□䝁Ἦ务সࠢ焖扫湧ⵔ☣⾍癈䏑⣧槖៹敪ᇲ٨撹ඵᾍᔞ愴烆⠤拶Å匥旆ᬠ羦ॽ瑒佉[෨梦䃴ཹ撻࢘ၚᅑˠᜃᒚȲ眱儮⤌㩗竀绳娳 બࡀн乭㺽䕒঻姖憓╫ᤷ䑇౶➟ฌ㕲䩹樲᥯ᵂ❉்⇤戧怶⁶ᬣ没ị⥻᳢㍋玴✅ୠ婀䋙८瘆員ᛂᲝ⬡浣圼槯ᳫ䈠  "
   },
   "outputs": [
    {
     "data": {
      "application/vnd.jupyter.widget-view+json": {
       "model_id": "7c38a108e17c415c8507d71ebebda36f",
       "version_major": 2,
       "version_minor": 0
      },
      "text/plain": [
       "PersistWidget(data_values=[{'__id_column': '1', 'Date': 1352419200000, 'Region': 'Salt Lake', 'Place': 'Sunset…"
      ]
     },
     "execution_count": 8,
     "metadata": {},
     "output_type": "execute_result"
    }
   ],
   "source": [
    "PR.PersistTable(df_task_1b, df_name=\"df_task_1c\")"
   ]
  },
  {
   "cell_type": "code",
   "execution_count": 26,
   "id": "85b5f0b8-9dc2-4dec-92e1-47f8e5c02e19",
   "metadata": {},
   "outputs": [
    {
     "data": {
      "text/html": [
       "<div>\n",
       "<style scoped>\n",
       "    .dataframe tbody tr th:only-of-type {\n",
       "        vertical-align: middle;\n",
       "    }\n",
       "\n",
       "    .dataframe tbody tr th {\n",
       "        vertical-align: top;\n",
       "    }\n",
       "\n",
       "    .dataframe thead th {\n",
       "        text-align: right;\n",
       "    }\n",
       "</style>\n",
       "<table border=\"1\" class=\"dataframe\">\n",
       "  <thead>\n",
       "    <tr style=\"text-align: right;\">\n",
       "      <th></th>\n",
       "      <th>Date</th>\n",
       "      <th>Region</th>\n",
       "      <th>Place</th>\n",
       "      <th>Trigger</th>\n",
       "      <th>Weak Layer</th>\n",
       "      <th>Depth_inches</th>\n",
       "      <th>Width_inches</th>\n",
       "      <th>Vertical_inches</th>\n",
       "      <th>Aspect</th>\n",
       "      <th>Elevation_feet</th>\n",
       "    </tr>\n",
       "  </thead>\n",
       "  <tbody>\n",
       "    <tr>\n",
       "      <th>0</th>\n",
       "      <td>2012-11-09</td>\n",
       "      <td>Salt Lake</td>\n",
       "      <td>Sunset Peak</td>\n",
       "      <td>Snowboarder</td>\n",
       "      <td>New Snow/Old Snow Interface</td>\n",
       "      <td>14.0</td>\n",
       "      <td>960</td>\n",
       "      <td>360.0</td>\n",
       "      <td>North</td>\n",
       "      <td>10400.0</td>\n",
       "    </tr>\n",
       "    <tr>\n",
       "      <th>1</th>\n",
       "      <td>2012-11-11</td>\n",
       "      <td>Salt Lake</td>\n",
       "      <td>Patsy Marly</td>\n",
       "      <td>Skier</td>\n",
       "      <td>New Snow/Old Snow Interface</td>\n",
       "      <td>30.0</td>\n",
       "      <td>1200</td>\n",
       "      <td>1200.0</td>\n",
       "      <td>North</td>\n",
       "      <td>9700.0</td>\n",
       "    </tr>\n",
       "    <tr>\n",
       "      <th>2</th>\n",
       "      <td>2012-11-11</td>\n",
       "      <td>Salt Lake</td>\n",
       "      <td>Two Dogs</td>\n",
       "      <td>Skier</td>\n",
       "      <td>Facets</td>\n",
       "      <td>36.0</td>\n",
       "      <td>840</td>\n",
       "      <td>5400.0</td>\n",
       "      <td>North</td>\n",
       "      <td>10200.0</td>\n",
       "    </tr>\n",
       "    <tr>\n",
       "      <th>3</th>\n",
       "      <td>2012-11-11</td>\n",
       "      <td>Salt Lake</td>\n",
       "      <td>Emma Ridges</td>\n",
       "      <td>Skier</td>\n",
       "      <td>New Snow</td>\n",
       "      <td>18.0</td>\n",
       "      <td>600</td>\n",
       "      <td>6000.0</td>\n",
       "      <td>Southeast</td>\n",
       "      <td>10200.0</td>\n",
       "    </tr>\n",
       "    <tr>\n",
       "      <th>4</th>\n",
       "      <td>2012-11-11</td>\n",
       "      <td>Salt Lake</td>\n",
       "      <td>Sunset Peak</td>\n",
       "      <td>Skier</td>\n",
       "      <td>Facets</td>\n",
       "      <td>42.0</td>\n",
       "      <td>18000</td>\n",
       "      <td>9600.0</td>\n",
       "      <td>North</td>\n",
       "      <td>10400.0</td>\n",
       "    </tr>\n",
       "  </tbody>\n",
       "</table>\n",
       "</div>"
      ],
      "text/plain": [
       "        Date     Region        Place      Trigger  \\\n",
       "0 2012-11-09  Salt Lake  Sunset Peak  Snowboarder   \n",
       "1 2012-11-11  Salt Lake  Patsy Marly        Skier   \n",
       "2 2012-11-11  Salt Lake     Two Dogs        Skier   \n",
       "3 2012-11-11  Salt Lake  Emma Ridges        Skier   \n",
       "4 2012-11-11  Salt Lake  Sunset Peak        Skier   \n",
       "\n",
       "                    Weak Layer  Depth_inches  Width_inches  Vertical_inches  \\\n",
       "0  New Snow/Old Snow Interface          14.0           960            360.0   \n",
       "1  New Snow/Old Snow Interface          30.0          1200           1200.0   \n",
       "2                       Facets          36.0           840           5400.0   \n",
       "3                     New Snow          18.0           600           6000.0   \n",
       "4                       Facets          42.0         18000           9600.0   \n",
       "\n",
       "      Aspect  Elevation_feet  \n",
       "0      North         10400.0  \n",
       "1      North          9700.0  \n",
       "2      North         10200.0  \n",
       "3  Southeast         10200.0  \n",
       "4      North         10400.0  "
      ]
     },
     "execution_count": 26,
     "metadata": {},
     "output_type": "execute_result"
    }
   ],
   "source": [
    "df_task_1c.head()"
   ]
  },
  {
   "cell_type": "code",
   "execution_count": 9,
   "id": "9b2f9614-95c3-4477-9c6d-e8d61abae8b7",
   "metadata": {},
   "outputs": [
    {
     "data": {
      "text/html": [
       "<div>\n",
       "<style scoped>\n",
       "    .dataframe tbody tr th:only-of-type {\n",
       "        vertical-align: middle;\n",
       "    }\n",
       "\n",
       "    .dataframe tbody tr th {\n",
       "        vertical-align: top;\n",
       "    }\n",
       "\n",
       "    .dataframe thead th {\n",
       "        text-align: right;\n",
       "    }\n",
       "</style>\n",
       "<table border=\"1\" class=\"dataframe\">\n",
       "  <thead>\n",
       "    <tr style=\"text-align: right;\">\n",
       "      <th></th>\n",
       "      <th>Date</th>\n",
       "      <th>Region</th>\n",
       "      <th>Place</th>\n",
       "      <th>Trigger</th>\n",
       "      <th>Weak Layer</th>\n",
       "      <th>Depth_inches</th>\n",
       "      <th>Width_inches</th>\n",
       "      <th>Vertical_inches</th>\n",
       "      <th>Aspect</th>\n",
       "      <th>Elevation_feet</th>\n",
       "    </tr>\n",
       "  </thead>\n",
       "  <tbody>\n",
       "    <tr>\n",
       "      <th>0</th>\n",
       "      <td>2012-11-09</td>\n",
       "      <td>Salt Lake</td>\n",
       "      <td>Sunset Peak</td>\n",
       "      <td>Snowboarder</td>\n",
       "      <td>New Snow/Old Snow Interface</td>\n",
       "      <td>14.0</td>\n",
       "      <td>960</td>\n",
       "      <td>360.0</td>\n",
       "      <td>North</td>\n",
       "      <td>10400.0</td>\n",
       "    </tr>\n",
       "    <tr>\n",
       "      <th>1</th>\n",
       "      <td>2012-11-11</td>\n",
       "      <td>Salt Lake</td>\n",
       "      <td>Patsy Marly</td>\n",
       "      <td>Skier</td>\n",
       "      <td>New Snow/Old Snow Interface</td>\n",
       "      <td>30.0</td>\n",
       "      <td>1200</td>\n",
       "      <td>1200.0</td>\n",
       "      <td>North</td>\n",
       "      <td>9700.0</td>\n",
       "    </tr>\n",
       "    <tr>\n",
       "      <th>2</th>\n",
       "      <td>2012-11-11</td>\n",
       "      <td>Salt Lake</td>\n",
       "      <td>Two Dogs</td>\n",
       "      <td>Skier</td>\n",
       "      <td>Facets</td>\n",
       "      <td>36.0</td>\n",
       "      <td>840</td>\n",
       "      <td>5400.0</td>\n",
       "      <td>North</td>\n",
       "      <td>10200.0</td>\n",
       "    </tr>\n",
       "    <tr>\n",
       "      <th>3</th>\n",
       "      <td>2012-11-11</td>\n",
       "      <td>Salt Lake</td>\n",
       "      <td>Emma Ridges</td>\n",
       "      <td>Skier</td>\n",
       "      <td>New Snow</td>\n",
       "      <td>18.0</td>\n",
       "      <td>600</td>\n",
       "      <td>6000.0</td>\n",
       "      <td>Southeast</td>\n",
       "      <td>10200.0</td>\n",
       "    </tr>\n",
       "    <tr>\n",
       "      <th>4</th>\n",
       "      <td>2012-11-11</td>\n",
       "      <td>Salt Lake</td>\n",
       "      <td>Sunset Peak</td>\n",
       "      <td>Skier</td>\n",
       "      <td>Facets</td>\n",
       "      <td>42.0</td>\n",
       "      <td>18000</td>\n",
       "      <td>9600.0</td>\n",
       "      <td>North</td>\n",
       "      <td>10400.0</td>\n",
       "    </tr>\n",
       "  </tbody>\n",
       "</table>\n",
       "</div>"
      ],
      "text/plain": [
       "        Date     Region        Place      Trigger  \\\n",
       "0 2012-11-09  Salt Lake  Sunset Peak  Snowboarder   \n",
       "1 2012-11-11  Salt Lake  Patsy Marly        Skier   \n",
       "2 2012-11-11  Salt Lake     Two Dogs        Skier   \n",
       "3 2012-11-11  Salt Lake  Emma Ridges        Skier   \n",
       "4 2012-11-11  Salt Lake  Sunset Peak        Skier   \n",
       "\n",
       "                    Weak Layer  Depth_inches  Width_inches  Vertical_inches  \\\n",
       "0  New Snow/Old Snow Interface          14.0           960            360.0   \n",
       "1  New Snow/Old Snow Interface          30.0          1200           1200.0   \n",
       "2                       Facets          36.0           840           5400.0   \n",
       "3                     New Snow          18.0           600           6000.0   \n",
       "4                       Facets          42.0         18000           9600.0   \n",
       "\n",
       "      Aspect  Elevation_feet  \n",
       "0      North         10400.0  \n",
       "1      North          9700.0  \n",
       "2      North         10200.0  \n",
       "3  Southeast         10200.0  \n",
       "4      North         10400.0  "
      ]
     },
     "execution_count": 9,
     "metadata": {},
     "output_type": "execute_result"
    }
   ],
   "source": [
    "df_task_1c.head()"
   ]
  },
  {
   "cell_type": "code",
   "execution_count": 11,
   "id": "bcc51185-7542-473a-8663-0be3155a931f",
   "metadata": {},
   "outputs": [
    {
     "data": {
      "text/plain": [
       "Date               datetime64[ns]\n",
       "Region             string[python]\n",
       "Place              string[python]\n",
       "Trigger            string[python]\n",
       "Weak Layer         string[python]\n",
       "Depth_inches              Float64\n",
       "Width_inches                Int64\n",
       "Vertical_inches           Float64\n",
       "Aspect             string[python]\n",
       "Elevation_feet            Float64\n",
       "dtype: object"
      ]
     },
     "execution_count": 11,
     "metadata": {},
     "output_type": "execute_result"
    }
   ],
   "source": [
    "df_task_1c.dtypes"
   ]
  },
  {
   "cell_type": "markdown",
   "id": "753ed0a8-dc0b-4ac8-8afd-b554ea8f4d28",
   "metadata": {},
   "source": [
    "# Task 2: Filtering data\n",
    "\n",
    "In Task 2, we further improve our data by removing outliers and removing certain records to have more consistent data. "
   ]
  },
  {
   "cell_type": "markdown",
   "id": "7f25d8f5-98e8-4b0f-9358-ed85f77cbed8",
   "metadata": {},
   "source": [
    "## **Task 2a: Remove Outliers**"
   ]
  },
  {
   "cell_type": "markdown",
   "id": "ac53a605-2d10-4457-9625-70ce88f04f3b",
   "metadata": {},
   "source": [
    "In this task, we address data accuracy by filtering out anomalies in the elevation data. We observe some records with elevations outside the plausible range for Utah, suggesting recording errors.\n",
    "\n",
    "**Remove avalanche records with elevations below 2,100 feet and above 13,500 feet, which are outside the realistic range for Utah.**"
   ]
  },
  {
   "cell_type": "markdown",
   "id": "664c641e-1193-4233-8897-0161f209c86f",
   "metadata": {},
   "source": [
    "#### **Instructions**\n",
    "1. **Identify and Remove Anomalies:**\n",
    "    - Interactively select data points with elevations below 2,100 feet and above 13,500 feet in the Persist Scatterplot.\n",
    "    - Use Persist's interactive features to remove these anomalous records.\n",
    "2. **Verify the Output:**\n",
    "    - Print the head of the generated dataframe to verify the changes."
   ]
  },
  {
   "cell_type": "code",
   "execution_count": 12,
   "id": "73d5727a-f059-4bf3-977c-1ce0d6d92eba",
   "metadata": {
    "__GENERATED_DATAFRAMES__": "ᯡࠩ䃬࿀ᜤᠹ悋ᐤ推̅ሣ䧠ⶠ卍捯ᥔᠣ℠▢dʘϔᝠ捌〤瀵摠៨⠠ ",
    "__has_persist_output": true,
    "trrack_graph": "ᯡ࠽䈌ʀ匦㢠⹰࣠↡Ⱖダ☡壐ୠᎠ䩤Ƃ性⦊⥈䂆⡱妞ᣰ҇櫫ैkᑄᄉ夒ષዋ⃤䦫㭮滜ʤ䀡傠Ǘ熠㥀ॢȠா䠸ᢀ㜰䁾巐ಀƊႊ)攄䀦梠桰瑸䨴ੋࢫԠዀR㰸㑬ᡂ㸼⬫ૡ䏄簂憌偰ᨬŇ䕈䝦䍣垑⃰䑼ሦ⬪Ⴒ䬫䆣犘␡㬚̧ল՟⨄ୢ壡‡犀⑨䩪⟂፫䓅想琡㙐⭔ࢨബद㫕ࡡ地Ↄၞ■᫨皠ྜྷҬƝ窏伊懁ṋĤ磜灻䘡㥸o!札㢜ᡇ伒≀兓䮇声卒ȧॄሬૣ先ᩞ۳⃉ᨵߡሂ↽஧咶㸬ऴ硰伲殄≱䤼毤Ⱡ羴忀䓂ᢼ₲┘哚⻲撒㲡⑱ᓪ抉ᬅ䯂壜⢶╈㒦⻍撤ⶑ⩳䏦挱ሠƴ☬ㆅ Р⢤恫尾^喣ʼ庠ʥɉ㵶Ы棠偉ᴠӅ棝:䘠৽Ṣ⡛䟂灨敋࿧ᄴଡ䂰⧻ኇ䛘炗㰵猙繀分঍硢ዅı㡚̬槁⃂ᦹ椰⤸喢䢰堾㉊ᰈ䤏䧢煩ᠼ¬↱㥥Ẩ捐氮ண搑ʁᚏ᪛⮕亩宍㡪撯䇱䝳崌╼㜥弉泜㞢ʜ澷煢䁲焆儴஢䡹琈㠼⃠ή䊦塂煠࠯琈5昢ミ䄤愥䪪䂁⪨䁵斀粜⡪䉰ġᅩбᅃJ汊Ḃ␠཮⎈䆣䉈厁᡻⁀抸殢拸䏉∶᜺燘楏倩±≐ణⅡᑭ䢺⬨效⡁攤دচ┯惀⬨ᵌ擋凤撦䁊ܷኘ䪸ᐘ箼┝Χ綣⢊㥢㒇†ᴵ㖨砶ߠ䕎A硎䑭䧈Ɑㅎҫ其Ƙ妴௬ء㌠䗈↸ᖵㅁ䅬⣡屍Ν㠠ጲ⁃࢒乪熒੸͠✧䨳䶼〩㚝䶑๤䚊噜䤡屬Ⴀ䅇⿂‾രᯍ䖁∩䊠炈ɺ⮄䜒ǟ焬憭䖹帯犹⸠Ē૨䊫ᢝ␠渞ቢ旙彔᛾ḥ㛧㧰∷⑵㣷䀁㲎⸊㱁ࡊ☁㕊䘌噏䕩䑋Չⵏ㈹㝡Δዖ嚅㜠喤ڷ㋚Ձఠ䀳娕≬屭㙩൜⾠ј⸦硡侮⦤叩ዮ᭑⦲䘇⊸嬵扶ೠ劲ᩦ溒ྐ僴ᄑ⣧嵣Ṻጕ妦ኂቈȮ盝䚧皣墒僃䷀丬᪓䒓䆕䒔ɣ樶搧⮩፸๣䒓ฦ檑乆熗ᯖࣦ狮䷱া執竞Ⱓ渁䩑䚑䯷泩䵔曹䨍敏㸡ᚅ䯶ᗵ囗椕䎖ा嗓碡ᡂ㱀੅呄ᙇ悌`ㄆ㬢ႈଣ⍤ᢕ恄᪖偄Ҧీ؅⸽䎔ᬒ䓲⩊勴價᫷撥໳ᓷ屲ⲗ儠泽垆䙉ᩀ纇́绶࡞懏Ђ籟Ⴊɰ☨䊛焭䁈⴯ῤ䂪䋘㼪戀ℭ䌐匌䡴⚮㍤䑇畀੩䄬䪑༰䵀䜂ᒭ抠朠ၛ䑰᪊ဴ㧣㉰䕨㕪㫀檲⌡ⱨμ䪸ᓀᮑ㛲ܰ狐㠰䅨ᘬ࣭ː̥䧀ߑヵ൥ሺဨڲߑ堢刐ӱⳑ9ᴧ䐲à㤤ႜࡃ堿Êྣ瀷ᨽق戼⚐䆊惢旙㈷㠴ቻᑊ䂾ڧẍذࡏ瑇⮠ၤ崇᳚⯘䜋⶗坦皎圉ℍ槼᛬⃍䋥䮯⍸疒湚炎ਨ熍斠ᷫ崽᯺⑏墚ዠܿᐬ意牶स䅥ᶈଢ瀬㩝⢡敜剌攁ຉ捸疱总Р玫㈽㺐癰䙎㈮₃䌠෭僧弣ᕃ⋐㋃⍼܄ኮᆣơ巹唛剠涿㏻໗᥇ㄎ䎊眓伍ⱌ⡨䖂Ḳ神㒁氭猜倭廗ဘ篨Ѡ䤘忄ࢢᡅ徘ፉ⑍㸾䤩‾籎⼫溑ᦴ尖቞ᖐ々扟捕ᡀϐ㩩炓֠䰥䄈ඡ砳纾⚳㠪䍰㩊ܽݑ㿭惆ඒᚂפἳ⑜䍁㔳↌ᑣ㱋偤⫡᰸憴波䩭䏱㉡⊢烠੠怬ώᜏ匊⇩ᠪĊഢ瀺ɤᴥ副ڀሧᅀϭ੟䱴ⵤ搮珨㼆棃捰叩倷䏁䙙Ⲱᚧ琽Ǵ痃㑦䢈⨣Í᝽⎳匐߆婽Д䗧橺䦪㵴…峳䛍勭㻀ⵦᅺ䷏ҳ儠,Ⴘ澥甅ἲ࠳ᱪ㭛㪾㯖↓ѥ扰ٴ瘌਀吪儉ᆴ塇㢀ᐡ⡶ۄ⠠粣ᭅ䍕慜⫤㩭䓷ㄧ壠䥨ᜌুგ㞾㱶∓៙⤮ؤ泍盘ḏਛႝ⁸籮㨩乼ୢᗭ℻䣢栀祯扛䑢⣾␘㹢掟㕍羟爨⎡®ࠫ⁇呡╀滏攎弎¶区䈵䥙ᢼࠤ䬞㞗瞊ᐰ穊რ狥䒺㸔Ძ擄ȴ䪷墋䅌ᘡᑆٴ㸩怼䥡䲨⋰ᡤ爿å㼧偹ĵ翏ᇜ擂˨⵼Ѹ㑼呫ኤ⫝ஶ啴㈃ǋࡂг㺡፥ᅠ⪎刬í櫪₾κ秀媫㋺␽ེ嵤㈆Ὥ㬉䴼㗧⎧䙯㟴緗⣤晍浤俩磪䬉ᦲ燻Ꮎ彊廑てࢬ倴璨䨦䚴Ƽ瘲᭄ᑔ捡㪖㡡ᦪ⎜绯墾ˡ暬२ẓ࠯ؒ张息֓槧⃥寽殲ₕ⇵扞啔凉ᬖ何溵疝᠆帥家㼒ἴ䑣⴦皰Ř不粝寒༰㮠儙䃓恡ぃ༔႞䮵㻳孶睎㩾ሄ嫱૜夵⻪ヽ亄礟桔߁□∤ႈǭ˷桛啺᧍᭻⨚䪟㗾嬁継氈㯫㠻去圫㷺ふݣ畄ఋ圗⸝W⋘ᄨᦦ卐弬烊ഈಂ冩乶び傗娈ᒯ䃮ᶡ煰䃾搏瀷洝䮔㷺兆徸ᯏ嶛濑✜䦎熁⬈෸ዤㆪ䟘絰煪棕◘垌Ꭾ䷝≚㰱ૠ䙠縗ᐺ党ᝣ೺ᦳ篸吀㻇ೈ紬ᦛ硌㒠暶屌ನ䴦牦Ⅸ㸢䤑ʇ⪹݈ᕔ٘䓀⭢氲ڀ兾ᖜ泂碓㢅ⱹ㑩ཫዏ椙㍵⩘灤䆠ၫ䇍㖡ᳵ̀⮽␯ᤎ粣䣀䊠纀ᚼ㡍磡偙嗟ᬻ㯗睚䶮縆⼍漢擮㶳厸ద㺸䴭ᢿᩑ縺ᚌ᝼ঈూ挕╭䛛ḅ姩ࣽѡᖬ㳈ˀ堸ᅥᏋ␺☱㨮ᅚ制殴判憬卺㛑墿㈌淭⥙噥孜䭁㵶⭏䵇⃬Ṽ繾渜Ƿ⬧Ṷ⏚囯䊔Ⴔ瓿ⷩG䲞➱歄⼜㽧回㎔纏盧僻ഺ㏆ڇ挌猾៌翦䤔署ᚿ瑞煖儊ᰒ翸眛⩩罩‶忩䲻喆㪚㏯纟ፅ❚⥵䋠ㄠ㕀栳ႜǠ᎐椹僜Ǎ㸢唪Ⴑ┣բ㈤窸烆9䚪ÂȨ㡁癸伕⇢ජレ⫏⛣Ⓢ㗠䛒圶Ȁ瑦⳪偑˓啤湨ߠб珫アჀ㆛㈯僙収ॣᥡ䪾Ǐᅣ毤⩾焠Ⴄ௴⇱ܰ妙⑒廒ྰ嶛廤⫒㒩㲻㴮ษ៺㉨户ドᓸ⛠㓻ᒛ㗳㉫夨晪熪㦹㎪曱囯ⶸ橿朕刁ᣘ㣺橴ޅ㤀绨庣٣Ᾰ怠擙ҏ⦋泲滶熓᮸刡湾㚗⾻糼ỡ〿⸁孳ᛛؼ⬐筰図珹ⴙݨ犵ㅞ⧪櫢犷晢⍺澹嚛掋⌊㫤;㔙㼳࿹纗疟⤧䡀㩗璠縙VǶ㌸䀧㿻乐งࠡ〥ၰ|ᬐ⮣峼ˀၚ眯䁭׶⚳堪湻㠥ㇸ䅰ᇅㅚ䀬懄ᐪᖦ滥ʤ剦⺣ᙖ憹⓳Ḋ৮ұƥģ⨺䃸ߍ㭃Ѯ于ఘ呱瘪士఼᭚ࡕ䈷ྟಱ♛咳⍘儥⽡纳♤潙羶㒀޺⒢ᚹ㔞ͺⷰ䥊泗༝Ǹ囹梋㜈槹㛢䤯┘接৾䆧㖐ㇸᥟ㺇㗥◸倡燈燁⯦汀䱈慠㡅䪲ঠ䦤呡槽䣲䠤瑇Ņ尸ц㿳慞縷矆⍐㾪䈜愆ᴱ桕⹘㊵㸻呵䅚状⺪斥⪦ᑶ঩स䬚ࠐ䄢木⌉ܰ塥砢ᅈʨ睫咮ሐᙰ密ɓ楁໇డಯ椡䦨炆⏢ዟ◟⎣㴾Ỿ䑯ᇣᏳ憉琐ᠤ籚剥慈⡂о嫄׸㋀户ĝ䜄ᅠ爤撞㘈㸢淳怩൯દ䜸↥猰榚⑂幒໏㸢毱⇉㎾㩺ួ婯䊅஑抢㸥㛹ᅺ瞪内㘽㇪៼㨷敿ഉ澥噻瞋Ⱂ知㬛瘈矫竴䰣ঝ᳧㢧⥷焞⠚ي秠圠稊⽑਍⎤㸆当਌ᆸ䩉⽒ㆫഠ皃὏穰ਂཚ翵恸Ѕ₫ᠤ椉༷⺋㈷キɏᛡ‹䂾܉㤣允স丸䟂⡘Ĵ₠ത嗡䄲坷⪨ⵋ⺺឵⻚测䆦瓃ዑ硑T¢ㆇ砶㠼䅀օ⠯U䦠ᶅ⊣勄眀ஆ浪汼ⵌ漷磊奢⤲䎇䓙夡㑬忉≼ࠪほ㱚䎭೸ɓ⍋爾我早Ꭴ⌽ຽŮౣ廣ዥឌ疸୎᫶柭㨡砦䃉匷㔣㙑劾ㇵᄣظぐ‴ྃ恧屭烼ᢄ㵘ᇾ京硧⧲ᄢЬ汥ⷢં卫ᄚ❁磫༪⹻狫㊷Ѽ䴘⹮㻋䷈椉៳㤭㍿ⴋ婁㫧ች⤰祂䑇䩟ᨅ佥ᦀ⡲Ĵ⡄囟倝♄Òօᚭ㽵㫞ㄨቸ噓剞䀻ඨ碦ਿ处䖨絣歨焭ʈᙒ烞缌ᛘ䠡⥉㙯߲奚㠢哛ߍ⊃㠻婩䛠৵⨺䣘Ú惇瀣焮ࡇűḲ敁⇼㹢爢ჿ㗰බᕇ疱─ར⠼รヤ坙忽禳ⴭᩅ㕕繯乇Ṅ⛨䥳ツ奇㛿㕚⽐䁰楌Ë㜚ᗱᥓ㑛㖄篶瓹㙤洚ॗ䰴⫰ᔨࡣ໘ᓇ⢚叵⻎书⯚姶ị೯⪛ၔ⅟Ⴠ瀚攣ᇰ㢽ڴ棕络ഺ乆ᑕ烆ൗ䯴䣀൝䰡Ԇৄ⣍⻘㛂曚䖮䗤㇔朤෢䚮仃ड喵旈㔒纋硧䃛䔈ଢ˒撀䄪籧ᑋ斎⤒唀᷇旮瀒寗˘欑੐殢ͷ䀡ĭ㝳缻ᦶ㒌㞧桊劑圪扤擇䘅伉·⭜㣢⢀⢶᭚჊ⶌ繦季ᛢ୾ず宬儫䣈䥻ᝐ爵㚙㬄ᩒ㫵⻼孥櫣儭⬈佧坰纝㏤䝵㿢煃぀䑘信礷ঢ়╕䳍璿伺旦燠甡⌺縘⃕䲻˗ག絍䃙ӌ渡г帬Ҵ朻獣ե;㤴ᑯ⸆䱖愹塁⪚獃㷄硘湇≬б灚傸ை۷ᨴ傍Ĉᝠ稺ᄝиនᑗ絕!捡儍ڀᠮ稲ͣց័㓄懑ᇺ⺵ቢᡨቓഢ㘵ᤉ䟧̕瓴報戌㕠〣憩椺忐泰妁ʱᑰ䠷᫤ԐỤ⮬㲄߮噑ᵫ䂥坜ءؤ笉澌䬧㗾䗆濷㤸ᵜ布䵹ᩑ㻭㱔ŀᶖુ崠⟰⥴橕巇惼嵹ᩚ牭ヿ⼇煛㸧乽᝻ཐ㶝ྊ瀋䙐Ț乂垧ᢃ㷏狾䔳ӉᡄГ㋀听姴瀵⌡ᷫィڨ㻢ᨹ䣻⶟⻴㲋撘毘叢⡮盯൪ᵘ䢑ᒹ᭧㉐䀢䐗剧ⴭ瘸ᑂᑬ✩䶮ॳ沊㋗ᡩਐ浤潱ᇑ禯畦磸॒㜄䥺㙗ᥕ悋桚݆楒℔䣻῰䦧෥Ἐ䵕絻䤳ᲆ䗻ᧃ፯ࡉ乮䢘⨉⊛᥮⠢危⏠㕘檟ప殉䗦嗈㗌摔囗൛䳚歔猦ⵖ⍆椀䊯忈滌⬞䐳墚塼ᠪ漭ൠ⏼䈱䚱稠⫝̸ܱ浡ⓖ䩔䘙紃纍ᦠ၏⍆⅂ἥ映⒝▒㐖㚵扱㛁扁䅨䢗う⫳ᕕᎢᣴᾬ᥯梞旅ᒒ䪔珦剔䓶㉌〱䢭ᘀ⻓峔䃬䎈ᩢ栯䃍փ㩫Ъ⏅ᖡ耗模ϻ੡栭堼Νڬ启᭬㦹Ⲝ᪮爬岧μ䅴癩㥅⻈䮕⫸損楿➔ⲓ㻶ῼ䯪ཞ捍ⲑ樄䟅揓༾刊䅢眀偡✠刷ほᩦ㞭⽐䉣᧥㉮綟氙ᧁႌ⹗掲Ʊᠸ椯ᢉ刁橠䢝僿ノ㄃⧿紡㖃ࠅ溎累ᡖ䲯ෝ䇄㏔眤㺉楨͑ು⑶âᔅ䌃᩵ڜ奰ᔂ㰨⭂忎⩳ↀ栭待玏㦜擜尩䞎֐⹝嬵癏౗ெ൩犸⌲ᓩ䉓̀㉼䐓濝⒀瀸㡉戼封概ᨮ⹮侢収晢ހ㕂戡ჩ䚈⯚卤䏾ጾ⎲劳恢ڌ䃨▃㡟ᴁ籌碑஠婒⩏Ҍஂ᫥犬㖘Ⅹ䈼兣弯⭳砍╥අ㦦ᵕ絧乣巭৊伅櫆掖寑獶㾩殍⦕削岝司䴕檰恥帣รᠸᐽ憃欼㮡ક‟ 嶊䞰ጥᴼ擹ጧ嫄㻭⪈玱˵㜊䃞縳楾悰恲ʉ⸣ㆺ⎍㏱崃䐥嶓৒㬥␪ԁ䝠癡㡑凮孲㣃洗彦㍥䟃潛ԏ㎵᱙牱∦᯿䳓圏㹔㛤璃楱夗朼㭓嚼懄᮫忺඾⃅➯๓窼̛䟎㵾䡾丳柩᥽冿⡾੎㦦岎尦⋦囌㬹疢⳧梀⤂堵浰ȧ⃆惾⺏䗞挥⣚⩦橃㦎忒寬Ⳗ嬵㕶琥â䑠⠹ㄯ䀲僣娻塦喝堸㾋㗪ೝ佼澟堗娻名ᆌ㠏岪ᛴ⏕桘ᨹ伎样嫦᤮掭疴ᥳែ榁䍇庁厵泥‵Ä㐵ᮦ⊜Ლ羁⨼ᐓ䀵འ怨㠢喌砎␵䮭夅又宇䮬䜽䃍㮊㮸؍嘃勝⮥ຣ帍᥶㨙Ᵽ煹璟㳈㥕嵤櫳ܶ廣垖ⲏߖ岊弚ᶚ䑣毂㎯䤐ᝠ儕弽㶎䝪㸇੠㌎俜㮳簡恩០㗹梾ᴌ沆烳䝘攞侼硳塾㲷煥-稫ؚ⟨欷溼稗伙ճ呿⊲ႌ秧₱燽柶㺇搵稁柵Შნ挀㕡㮓凿潥⾰ⶇ糟䴎៚紭懝☝䡒窭穳㘇繎硫夫甕⽛㶷回Ḗ倀⡸烵‱᢫䚷㵣֙䜅㲣ጣᥳᄈ٥爖㈵䃍䧶再ᡄ孯᭍䰖ᣜ洮一䧲⠢ї㶠Ⴁ娼⍝䇗૧娨倻ࢎ⹠砻瞸ဍ䠣Ⰾ瞕粛掜弅忄Ώ柾㰌嶦ʯ⮢㓟汻㹽份眈傄嬘幩⦟㮰䩝䪘ᦔ箍䘐冐ἶ䤉೸ɢ絒夨࣎⛒㒻ㅱʪ≌㒸檍䵉㓿⾏垗尻搌䜅筰Ν䓼ٲܨ磌༖ᨠ瀭冡囥⨡ಋ̘曓揾嘢㳍㋑埚狊䨄㳙ờㅳ晧᜽᜖䁲㖄ⳉ惯䂐‱⠦⁅ă䅲࿸Ằㄦ瀪၏娂㗯从綈ᬄ绕勏᧟╻଴㗔 ⾂烞抈ী㪡〪㾺㑔䏔॰㣘澣┮缺?癰䄞帧ကႌౢѿ橀瘜ሩ瀪⃹৶熿伶㰻燀↩䴉ጰ梇㌜沲僽㽚෮盿匎♹砆࠳₃掉೪☡㹶㢳⌶⤲ɀ᝔⭁栬xᄆ⎪摒㮅㸕埡眦糃䈿与刘㰂澤纫ဴ⥽‣ᴠ狼㹴㷪ባ凚ᑛᯅf໫狠ẃ⭤䔑睾啄Л國ᗊ戈⸌庮乾婉搋⨥⦗嶮⽪䍥焇奾䄚⃀や⺉㥣Џౙ熗拿ͩ㵱Ԁხ妚┎㳆ǫ欥恐庢眔礳價㵬炸㍮壚㌉࿖稡ㅨ伛֑䶳ᨳ〶Ơ੨৴瀘吢ᅑ稢ؐ୷┴఩共垇琸卖兦ည㺄␠䉠䍮ؗ̀丯⤿䊊⇫敪ῐ⼦ܫ灰唕掗澀柣䉳圧烊Ğྐ〱ᙣĽˈᇐ禀掫㑨௑䱔䉨愈㏀ᗢ䫠㞈㯉䫻姏捣ܝᘪ䚺惓涹㉎तᔣ廩炕᱄ࠌӦ⤡咣Ὤ㱆⎝ᇪ噤㿙䭣恱缜بἡ㊢堒偍ℛ絔஧傜%咇抿噺ᡁ暰穝▂摍㦈Β୑䗂瘓ⶈ䂓擨њ汧՜乐恅ヌ̯█⛁↧嘦⹚⒃ܔᖩ㠨഑凶ʖ䍜䗤ㆁݧ☻傖ᒎ第ᮈ坣യృ啇㳍砈⟱䒱昺䐧兾礔ᘿ⫣堪偻偌緞愄፞㸻უⵊ⠴ɝ☦ᢁ䰡暩䩋䐏咙嚪⛛ఈ碛朌ݱ䌉ᰥཱ檾䠦Ï嚄㫒ℓ头⽇ᄵ⎒᷸㞜璬㙑䢪傍斄⥼䏢ՋࢷㇴĖᗀ曽缑扟㞜⏴擽䛾澨伆㯝ᚴ䜇֗ἑↅᒢࣧρঐ⸱Ṱ㰴ѯ䇨䠘ᩙೂफ⌥硾䅠੊央ࠥ㈍䢎Ẻ䖎⼠煝ᴷ嫨䝕榭ຕ姁Ἳ嘱≔ଛԨ৫ᄁ戶璿堤ᠥ@⾂⚡磈ᓕ⃥䜶棠嗄牑さ圫㗫牄Ϊࡀȩ〦烅家ᄐ寬氪砧Р䄲ᐌ↱曥ܶ沈熽䛡䥘佡ኢ  "
   },
   "outputs": [
    {
     "data": {
      "application/vnd.jupyter.widget-view+json": {
       "model_id": "cbc92bc209754b0ca04d3f94f26c16d2",
       "version_major": 2,
       "version_minor": 0
      },
      "text/plain": [
       "PersistWidget(data_values=[{'__id_column': '1', 'Date': 1352419200000, 'Region': 'Salt Lake', 'Place': 'Sunset…"
      ]
     },
     "execution_count": 12,
     "metadata": {},
     "output_type": "execute_result"
    }
   ],
   "source": [
    "PR.plot.scatterplot(df_task_1c, \"Elevation_feet:Q\", \"Vertical_inches:Q\", df_name=\"df_task_2a\")"
   ]
  },
  {
   "cell_type": "code",
   "execution_count": 13,
   "id": "29843c9d-3c90-4a36-b3e3-84081392cf63",
   "metadata": {},
   "outputs": [
    {
     "data": {
      "text/html": [
       "<div>\n",
       "<style scoped>\n",
       "    .dataframe tbody tr th:only-of-type {\n",
       "        vertical-align: middle;\n",
       "    }\n",
       "\n",
       "    .dataframe tbody tr th {\n",
       "        vertical-align: top;\n",
       "    }\n",
       "\n",
       "    .dataframe thead th {\n",
       "        text-align: right;\n",
       "    }\n",
       "</style>\n",
       "<table border=\"1\" class=\"dataframe\">\n",
       "  <thead>\n",
       "    <tr style=\"text-align: right;\">\n",
       "      <th></th>\n",
       "      <th>Date</th>\n",
       "      <th>Region</th>\n",
       "      <th>Place</th>\n",
       "      <th>Trigger</th>\n",
       "      <th>Weak Layer</th>\n",
       "      <th>Depth_inches</th>\n",
       "      <th>Width_inches</th>\n",
       "      <th>Vertical_inches</th>\n",
       "      <th>Aspect</th>\n",
       "      <th>Elevation_feet</th>\n",
       "    </tr>\n",
       "  </thead>\n",
       "  <tbody>\n",
       "    <tr>\n",
       "      <th>0</th>\n",
       "      <td>2012-11-09</td>\n",
       "      <td>Salt Lake</td>\n",
       "      <td>Sunset Peak</td>\n",
       "      <td>Snowboarder</td>\n",
       "      <td>New Snow/Old Snow Interface</td>\n",
       "      <td>14</td>\n",
       "      <td>960</td>\n",
       "      <td>360.0</td>\n",
       "      <td>North</td>\n",
       "      <td>10400.0</td>\n",
       "    </tr>\n",
       "    <tr>\n",
       "      <th>1</th>\n",
       "      <td>2012-11-11</td>\n",
       "      <td>Salt Lake</td>\n",
       "      <td>Patsy Marly</td>\n",
       "      <td>Skier</td>\n",
       "      <td>New Snow/Old Snow Interface</td>\n",
       "      <td>30</td>\n",
       "      <td>1200</td>\n",
       "      <td>1200.0</td>\n",
       "      <td>North</td>\n",
       "      <td>9700.0</td>\n",
       "    </tr>\n",
       "    <tr>\n",
       "      <th>2</th>\n",
       "      <td>2012-11-11</td>\n",
       "      <td>Salt Lake</td>\n",
       "      <td>Two Dogs</td>\n",
       "      <td>Skier</td>\n",
       "      <td>Facets</td>\n",
       "      <td>36</td>\n",
       "      <td>840</td>\n",
       "      <td>5400.0</td>\n",
       "      <td>North</td>\n",
       "      <td>10200.0</td>\n",
       "    </tr>\n",
       "    <tr>\n",
       "      <th>3</th>\n",
       "      <td>2012-11-11</td>\n",
       "      <td>Salt Lake</td>\n",
       "      <td>Emma Ridges</td>\n",
       "      <td>Skier</td>\n",
       "      <td>New Snow</td>\n",
       "      <td>18</td>\n",
       "      <td>600</td>\n",
       "      <td>6000.0</td>\n",
       "      <td>Southeast</td>\n",
       "      <td>10200.0</td>\n",
       "    </tr>\n",
       "    <tr>\n",
       "      <th>4</th>\n",
       "      <td>2012-11-11</td>\n",
       "      <td>Salt Lake</td>\n",
       "      <td>Sunset Peak</td>\n",
       "      <td>Skier</td>\n",
       "      <td>Facets</td>\n",
       "      <td>42</td>\n",
       "      <td>18000</td>\n",
       "      <td>9600.0</td>\n",
       "      <td>North</td>\n",
       "      <td>10400.0</td>\n",
       "    </tr>\n",
       "  </tbody>\n",
       "</table>\n",
       "</div>"
      ],
      "text/plain": [
       "        Date     Region        Place      Trigger  \\\n",
       "0 2012-11-09  Salt Lake  Sunset Peak  Snowboarder   \n",
       "1 2012-11-11  Salt Lake  Patsy Marly        Skier   \n",
       "2 2012-11-11  Salt Lake     Two Dogs        Skier   \n",
       "3 2012-11-11  Salt Lake  Emma Ridges        Skier   \n",
       "4 2012-11-11  Salt Lake  Sunset Peak        Skier   \n",
       "\n",
       "                    Weak Layer  Depth_inches  Width_inches  Vertical_inches  \\\n",
       "0  New Snow/Old Snow Interface            14           960            360.0   \n",
       "1  New Snow/Old Snow Interface            30          1200           1200.0   \n",
       "2                       Facets            36           840           5400.0   \n",
       "3                     New Snow            18           600           6000.0   \n",
       "4                       Facets            42         18000           9600.0   \n",
       "\n",
       "      Aspect  Elevation_feet  \n",
       "0      North         10400.0  \n",
       "1      North          9700.0  \n",
       "2      North         10200.0  \n",
       "3  Southeast         10200.0  \n",
       "4      North         10400.0  "
      ]
     },
     "execution_count": 13,
     "metadata": {},
     "output_type": "execute_result"
    }
   ],
   "source": [
    "df_task_2a.head()"
   ]
  },
  {
   "cell_type": "code",
   "execution_count": 14,
   "id": "2acd6cf6-c416-4969-8d0b-0af841d82169",
   "metadata": {},
   "outputs": [
    {
     "data": {
      "text/plain": [
       "count         2372.0\n",
       "mean     9507.293423\n",
       "std      1104.926246\n",
       "min           5100.0\n",
       "25%           9000.0\n",
       "50%           9700.0\n",
       "75%          10200.0\n",
       "max          12200.0\n",
       "Name: Elevation_feet, dtype: Float64"
      ]
     },
     "execution_count": 14,
     "metadata": {},
     "output_type": "execute_result"
    }
   ],
   "source": [
    "df_task_2a['Elevation_feet'].describe()"
   ]
  },
  {
   "cell_type": "markdown",
   "id": "b447b862-90c6-4ed7-b48b-baa1cf74ac2d",
   "metadata": {
    "__GENERATED_DATAFRAMES__": "{\"nodeDataframes\":{},\"graphDataframes\":null}",
    "show_aggregate_original": "false",
    "trrack_graph": "ᯡ࠽䈌ʀ匦㢠⹰࣠✴ƀචآ൐ୠᣠ⭎¸䚀ᶥ<⋵攴≲䦆ᨐ҅䁲䥈kᑄᄈ夒ર囇⣹嗛➎帣ᢤ䀡傠Ǘ熠㥀ॢȠா䠸ᢀ㜰䁾巒•橀樠Ꮃ䤠ව׷核ᱬ䣘紲₞૦Ԡ޳ŀ凐栠晬╍ಲ䖽䂇栢沀團ᄰ㸸ሪ喊Ⴇ♁䐔粶ᦞΎ刺ࠥ簉窺簲ᖢොሧ҉䃵ⰡḠޅ毗䘤䗾墥୚渍磆搰㣄䆯䌭䊣ᎄ䢩妈䪑䴹ҩ䋫◂რ⢒ઉ⃁⽌囦媍ኘ垤䢠䍤⒂Йᘷ੡䄀҂Ქ⃱琿啡憐㲞ၯ䌨焠ᗿ搫໎㒫ல熪Ņ⎃ऺᥛ⃄ᅠ  "
   },
   "source": [
    "## **Task 2b: Filtering Out Old Data**"
   ]
  },
  {
   "cell_type": "markdown",
   "id": "c86b30d4-4762-4bc0-bfd3-6f1486b55ad6",
   "metadata": {
    "__GENERATED_DATAFRAMES__": "{\"nodeDataframes\":{},\"graphDataframes\":null}",
    "show_aggregate_original": "false",
    "trrack_graph": "ᯡ࠽䈌ʀ匦㢠⹰࣠✴ƀචآ൐ୠᣠ⭎¸䚀ᶥ<⋵攴≲䦆ᨐ҅䁲䥈kᑄᄈ夒ર囇⣹嗛➎帣ᢤ䀡傠Ǘ熠㥀ॢȠா䠸ᢀ㜰䁾巒•橀樠Ꮃ䤠ව׷核ᱬ䣘紲₞૦Ԡ޳ŀ凐栠晬╍ಲ䖽䂇栢沀團ᄰ㸸ሪ喊Ⴇ♁䐔粶ᦞΎ刺ࠥ簉窺簲ᖢොሧ҉䃵ⰡḠޅ毗䘤䗾墥୚渍磆搰㣄䆯䌭䊣ᎄ䢩妈䪑䴹ҩ䋫◂რ⢒ઉ⃁⽌囦媍ኘ垤䢠䍤⒂Йᘷ੡䄀҂Ქ⃱琿啡憐㲞ၯ䌨焠ᗿ搫໎㒫ல熪Ņ⎃ऺᥛ⃄ᅠ  "
   },
   "source": [
    "The interactive barchart below, shows the data aggregated by year. There are noticeably fewer records for the years before 2010.\n",
    "\n",
    "During this subtask we will remove the older records, keeping only the records post 2010."
   ]
  },
  {
   "cell_type": "markdown",
   "id": "24b308e8-8437-4146-9ebf-cd121aeb7f9f",
   "metadata": {},
   "source": [
    "#### **Instructions**\n",
    "1. **Analyze the Bar Chart:**\n",
    "    - Identify the bars that show significantly less data.\n",
    "2. **Filter Year:**\n",
    "    - Select and remove the years with few records.\n",
    "3. **Verify the Output:**\n",
    "    - Print the head of the generated dataframe to verify the changes."
   ]
  },
  {
   "cell_type": "code",
   "execution_count": 15,
   "id": "6488acb7-e239-4d7e-92ef-3e9d74c3d823",
   "metadata": {
    "__GENERATED_DATAFRAMES__": "ᯡࠩ䃬࿀ᜤᠹ悋ᐤ怱䐢犲ǩ怶恉宑召䵬ð䀲悠ᄡḡ沯偑嬸Ř˛ࠥ笪  ",
    "__has_persist_output": true,
    "trrack_graph": "ᯡ࠽䈌ʀ匦㢠⹰怦ŸҀრ㘣堣ᠫ❦æ喨˫⪂ʐỞ縡ᢔ庠๭⧐೤䨠ዪनᩌ㱥⑉⫱㒌櫣嬷⾞℠㑀堡ಁ瑨ɰ䂠̂ெ;䘸෤့垌䎰Ñ௵$犒‣㕅哈沔Þᴸ䮠ᝇჱ壹瓼沎⇑ᮽ๩䊥−炁ڦဠ⻎佡抄䕥殱ϐ噐⠠㲸ळྪ䉍掐ճ⣬崠ⶬૻూۣɡ⛌∰⻤ࡵ␰榀ۓྀϗℵ⻞榐仅っⲍ愶こ⬠➠Ǳ笃烆滜⁥亾㶻Փ၀ᢢ₀悤㸺䜂烸ㄻƧ㡔↡䅂ഄ㬸䟡嫦ཿᝁ媾௽炱ᩐୱ癘榖Ѫᆩ戩ብ፨犹㙷៪૥⥼唧䇎ా亪挑≹ᛂ匉݇Ꮸ੥⨤半㰦ㆤठêጥ૲䀠Ƞᗪ权Ẵ䁠߰d唝‡␃堬☽΁笎绊患疸₵ߠ܎節ӄ禊䜡毨ᭃⰇ碢喸⮤懘经❊䒈氻ƭ篲ᓴລ冝Ổ懕㸖✫䥀悐ȩ٤傈㩒䓇ㅘె䡄硉⩧⫑甚䰠恆冽繘楖䵡㦢拶ⲳබ愥渖䏍檕䰢வ掗ⶔ㠸䌠ťѢᝳ㪠倨ऋ刺总椅忼哇丁碡ᖳ㯨ܣⅰĢ帩в帣Ѫ㲏氚尠ཪ┾⺤Ԕ⇉糃ൣౠ⧨Π殪Ϡ䈵籺㐲硈䎡਱ႀ̩䖂㜯⅐㔣qᓉ䆲̭࠸㊪䃅ᬠ䨐㤦成☽凐䒭䃀㢫僀䒣ʰ放⎰䟪ƭ⧎㗍ᰆ夽ᬬ畽ႀ楐ἭⅥⸯ叔↰ᅬ縩㋬憰Ⅼ䌪㊣㦹䂸⌾䂼篎㌝且䧥䉠ှፄ搴⎄堭䁆 剄ᨻ呀bዤ殡ዄ愵ㆨ䰿㤲䄿቞ࡢ勠ࢣ⴬㘥్ྮ㥜™ၬᐯ嵠⵿⩄⪶㘖ں榛㞧ᴊ⮠\\⒧炰⟆ࣹ禞焩媎䮕亁䨂⚍䳠㚕䴒紫俒⌺桓⺓噓宗䠱绀㠒✩攲䅮ඹ↔伫め䀩ڼܐᛜফᒋ䠙ⴠ≢捼㜙㼷歐債ௌ㉃㞰ⶲ䊁涺䃰簯㋼㕃䄥ᠶ煬榨热㤶㛀㦾㎄炡♍呉㟠㏈䜱⸦Ὤ吮ᮨ礎㙁ٞ㇩֩ᭇ单≐絻䆠挤Ґۜ⦬浞克糢ϑฤㄡ㕾䜛嵿䐩䅍旛ভ㘵ᅈ劄ዋᆴ夼圅૒坉൓⏵ᵗ☉絀慇㡎ʼ匬掽嘢煸矆懸笡暜朮焱ᜬ㟼睑獜័㦸侺夠࿔㽸⾣果擋䜜㸬⠣ᝨဇˡ঳瞃溛⾐氫䆎৯ุⳫ㉮⨩䥶㽎̅㷛嘌ಫ冉㫚䄳㯮睩࿫痹㤠碚䘏ⷩ஛੧殶繂崏姸ാ嗶⭂†稵㠴й⡙߀㱾ᧁ硁䟡ు䝠⟠䜀楗ߩ㠹ځϵ歫䰌䪠∰↭௛洜ၑ吚幗䀣ῦ㢀㑀傍ိ䝁䶱∈غ呇ㄐɒࡄ㗈ၦ惔䱝ᘳⳡ別ᬢ䋖ᰩ托㌌␻沦䀰᫢₉䬹槚̃㹖㍶㉆⋢ⰼ๭ᡨ  "
   },
   "outputs": [
    {
     "data": {
      "application/vnd.jupyter.widget-view+json": {
       "model_id": "61669dae3d7341aeb0231832bd018123",
       "version_major": 2,
       "version_minor": 0
      },
      "text/plain": [
       "PersistWidget(data_values=[{'__id_column': '1', 'Date': 1352419200000, 'Region': 'Salt Lake', 'Place': 'Sunset…"
      ]
     },
     "execution_count": 15,
     "metadata": {},
     "output_type": "execute_result"
    }
   ],
   "source": [
    "PR.plot.barchart(df_task_2a, \"utcyear(Date):O\", \"count()\", selection_type=\"interval\", df_name=\"df_task_2b\")"
   ]
  },
  {
   "cell_type": "code",
   "execution_count": 16,
   "id": "791bb5ac-9805-45d8-a761-5f415da81b3c",
   "metadata": {},
   "outputs": [
    {
     "data": {
      "text/html": [
       "<div>\n",
       "<style scoped>\n",
       "    .dataframe tbody tr th:only-of-type {\n",
       "        vertical-align: middle;\n",
       "    }\n",
       "\n",
       "    .dataframe tbody tr th {\n",
       "        vertical-align: top;\n",
       "    }\n",
       "\n",
       "    .dataframe thead th {\n",
       "        text-align: right;\n",
       "    }\n",
       "</style>\n",
       "<table border=\"1\" class=\"dataframe\">\n",
       "  <thead>\n",
       "    <tr style=\"text-align: right;\">\n",
       "      <th></th>\n",
       "      <th>Date</th>\n",
       "      <th>Region</th>\n",
       "      <th>Place</th>\n",
       "      <th>Trigger</th>\n",
       "      <th>Weak Layer</th>\n",
       "      <th>Depth_inches</th>\n",
       "      <th>Width_inches</th>\n",
       "      <th>Vertical_inches</th>\n",
       "      <th>Aspect</th>\n",
       "      <th>Elevation_feet</th>\n",
       "    </tr>\n",
       "  </thead>\n",
       "  <tbody>\n",
       "    <tr>\n",
       "      <th>0</th>\n",
       "      <td>2012-11-09</td>\n",
       "      <td>Salt Lake</td>\n",
       "      <td>Sunset Peak</td>\n",
       "      <td>Snowboarder</td>\n",
       "      <td>New Snow/Old Snow Interface</td>\n",
       "      <td>14</td>\n",
       "      <td>960</td>\n",
       "      <td>360</td>\n",
       "      <td>North</td>\n",
       "      <td>10400</td>\n",
       "    </tr>\n",
       "    <tr>\n",
       "      <th>1</th>\n",
       "      <td>2012-11-11</td>\n",
       "      <td>Salt Lake</td>\n",
       "      <td>Patsy Marly</td>\n",
       "      <td>Skier</td>\n",
       "      <td>New Snow/Old Snow Interface</td>\n",
       "      <td>30</td>\n",
       "      <td>1200</td>\n",
       "      <td>1200</td>\n",
       "      <td>North</td>\n",
       "      <td>9700</td>\n",
       "    </tr>\n",
       "    <tr>\n",
       "      <th>2</th>\n",
       "      <td>2012-11-11</td>\n",
       "      <td>Salt Lake</td>\n",
       "      <td>Two Dogs</td>\n",
       "      <td>Skier</td>\n",
       "      <td>Facets</td>\n",
       "      <td>36</td>\n",
       "      <td>840</td>\n",
       "      <td>5400</td>\n",
       "      <td>North</td>\n",
       "      <td>10200</td>\n",
       "    </tr>\n",
       "    <tr>\n",
       "      <th>3</th>\n",
       "      <td>2012-11-11</td>\n",
       "      <td>Salt Lake</td>\n",
       "      <td>Emma Ridges</td>\n",
       "      <td>Skier</td>\n",
       "      <td>New Snow</td>\n",
       "      <td>18</td>\n",
       "      <td>600</td>\n",
       "      <td>6000</td>\n",
       "      <td>Southeast</td>\n",
       "      <td>10200</td>\n",
       "    </tr>\n",
       "    <tr>\n",
       "      <th>4</th>\n",
       "      <td>2012-11-11</td>\n",
       "      <td>Salt Lake</td>\n",
       "      <td>Sunset Peak</td>\n",
       "      <td>Skier</td>\n",
       "      <td>Facets</td>\n",
       "      <td>42</td>\n",
       "      <td>18000</td>\n",
       "      <td>9600</td>\n",
       "      <td>North</td>\n",
       "      <td>10400</td>\n",
       "    </tr>\n",
       "  </tbody>\n",
       "</table>\n",
       "</div>"
      ],
      "text/plain": [
       "        Date     Region        Place      Trigger  \\\n",
       "0 2012-11-09  Salt Lake  Sunset Peak  Snowboarder   \n",
       "1 2012-11-11  Salt Lake  Patsy Marly        Skier   \n",
       "2 2012-11-11  Salt Lake     Two Dogs        Skier   \n",
       "3 2012-11-11  Salt Lake  Emma Ridges        Skier   \n",
       "4 2012-11-11  Salt Lake  Sunset Peak        Skier   \n",
       "\n",
       "                    Weak Layer  Depth_inches  Width_inches  Vertical_inches  \\\n",
       "0  New Snow/Old Snow Interface            14           960              360   \n",
       "1  New Snow/Old Snow Interface            30          1200             1200   \n",
       "2                       Facets            36           840             5400   \n",
       "3                     New Snow            18           600             6000   \n",
       "4                       Facets            42         18000             9600   \n",
       "\n",
       "      Aspect  Elevation_feet  \n",
       "0      North           10400  \n",
       "1      North            9700  \n",
       "2      North           10200  \n",
       "3  Southeast           10200  \n",
       "4      North           10400  "
      ]
     },
     "execution_count": 16,
     "metadata": {},
     "output_type": "execute_result"
    }
   ],
   "source": [
    "df_task_2b.head()"
   ]
  },
  {
   "cell_type": "code",
   "execution_count": 17,
   "id": "1ae6e433-22e7-4a8b-a7b9-fbd2b9553a60",
   "metadata": {},
   "outputs": [
    {
     "data": {
      "text/plain": [
       "count                             2325\n",
       "mean     2016-04-03 02:22:27.096774144\n",
       "min                2010-01-01 00:00:00\n",
       "25%                2012-03-02 00:00:00\n",
       "50%                2015-12-15 00:00:00\n",
       "75%                2020-03-28 00:00:00\n",
       "max                2023-05-09 00:00:00\n",
       "Name: Date, dtype: object"
      ]
     },
     "execution_count": 17,
     "metadata": {},
     "output_type": "execute_result"
    }
   ],
   "source": [
    "df_task_2b['Date'].describe()"
   ]
  },
  {
   "cell_type": "markdown",
   "id": "db8fdc8b-168e-40e2-861c-d23095a4a8d8",
   "metadata": {},
   "source": [
    "## **Task 2c: Identifying frequently failing `Weak Layers` for avalanches triggered by _'snowboarders'_ and _'skiers'_**"
   ]
  },
  {
   "cell_type": "markdown",
   "id": "dd956e34-f1c9-40d3-8702-a2a84e304ca9",
   "metadata": {},
   "source": [
    "#### **Instructions**\n",
    "1. **Context:**\n",
    "    - You are given two linked interactive bar charts: one for `Trigger` (an event that caused the avalanche, such as a skier or natural) and another for `Weak Layer` (a description of the snow composition that caused the avalanche.\n",
    "    - Both bar charts show `count` for their respective categories.\n",
    "    - You can click on a trigger in the `Trigger` bar chart and the `Weak Layer`' bar chart dynamically updates to show only occurrences corresponding to the selected triggers.\n",
    "2. **Identify the most frequent failure points for snowboarders and skiers:**\n",
    "    - Analyze the filtered 'Weak Layer' bar chart to determine the most frequently failed layers for the two categories and make a note in a markdown cell about both the name of the layer and frequency."
   ]
  },
  {
   "cell_type": "code",
   "execution_count": 18,
   "id": "5aef4ea0-bf81-42be-a35a-23e56081f77e",
   "metadata": {
    "__GENERATED_DATAFRAMES__": "ᯡࠣ䅬Ԁ朤壠ᜣ琢〹夤゠⹰〮⁁䁻қ䚾ኊ㇠നСࠩ瀮晼Ƭ穅5愠៤⠠ ",
    "__has_persist_output": true,
    "trrack_graph": "ᯡ࠽䈌ʀ匦㢠⹰ڀ⌡᱈֦P〶䀧lùފ⁃થ棠⇕Ǹⷺⴧ撎暠ᖩᐠ▴ሰ瑹㠨䡶嗀擵䎷ཞǢ†桠ù㣠᪰ӁĠׯ␬W౐ᮨ⁏⻸ِÓࡕ$犒‣㐡㬚̧ল༿⨄ং壡‡犀⑔㬾༭६⛣扱僱䔚{వ䖴∢挤䍵ⳤ္䒐纽ዠඎ⦀ޖ䋢Þ綞獪ֳ斀䞈䒡悺フ⬠➠ǹ㬃熤算噀拮宛୉夤Ņს䃃姑䒴ᙢଢ଼碦䳨揄篓䤩汉ᴦ˪㲈➥ᗑ嚻ᒡᆡያヱസ䀡▥暲じ㸨䍁⡔㴫獳縺⼥ࠂт㱠֐Ң揋䍂搄屲䁭⣸抗੯ኔ憰  "
   },
   "outputs": [
    {
     "data": {
      "application/vnd.jupyter.widget-view+json": {
       "model_id": "3751748e154b4799afa6a09f01f89fdc",
       "version_major": 2,
       "version_minor": 0
      },
      "text/plain": [
       "PersistWidget(data_values=[{'__id_column': '1', 'Date': 1352419200000, 'Region': 'Salt Lake', 'Place': 'Sunset…"
      ]
     },
     "execution_count": 18,
     "metadata": {},
     "output_type": "execute_result"
    }
   ],
   "source": [
    "pts = alt.selection_point(name=\"selector\", fields=['Trigger'], bind=\"legend\")\n",
    "\n",
    "base = alt.Chart(df_task_2b).encode(y=\"count()\")\n",
    "\n",
    "# TODO: change this so that color is not used in the layers but still have a highlight for the selected one\n",
    "\n",
    "trigger = base.mark_bar().encode(\n",
    "    y=\"Trigger:N\",\n",
    "    x=\"count():Q\",\n",
    "    color=alt.condition(pts, \"Trigger:N\", alt.value(\"gray\"))\n",
    ").add_params(pts)\n",
    "\n",
    "weak_layer = base.mark_bar().encode(\n",
    "    x=\"Weak Layer:N\",\n",
    "    tooltip=[\"count():Q\"]\n",
    ").transform_filter(\n",
    "    pts\n",
    ").properties(width=350)\n",
    "\n",
    "chart = alt.vconcat(\n",
    "   weak_layer, trigger\n",
    ").resolve_scale(\n",
    "    color=\"independent\",\n",
    ")\n",
    "\n",
    "PR.PersistChart(chart, data=df_task_2b)"
   ]
  },
  {
   "cell_type": "markdown",
   "id": "e3f44925-7703-4844-98ee-d1280f0b10e5",
   "metadata": {},
   "source": [
    "**Task 2c Notes:**\n",
    "\n",
    "Write your answer here"
   ]
  },
  {
   "cell_type": "markdown",
   "id": "8a92b8a9-c3a8-4a57-be3b-c9cdc977092c",
   "metadata": {
    "__GENERATED_DATAFRAMES__": "{\"nodeDataframes\":{},\"graphDataframes\":null}",
    "show_aggregate_original": "false",
    "trrack_graph": "ᯡ࠽䈌ʀ匦㢠⹰ೠ⬠沈֭⠸恍ff9昽䁮ۦ࠰汬നڀপ㈏䣹厠㬦ተ¶⡨⇱㌀ᅁ╶庳ୖ⹜簧ଭࠣ℠Έ橦औ䁅ШNႦ〡岁䏼ℭ㞁摞+㢱䨠Ԋ牠Έƕ٦枓቙ჿਸ旑䅠Ȅ恨戬പᎭె䝁净儬Ö᡻⌸䐱䘩׍宨⇓ࡱ䍲ච᫲壬จ䙤Ɲڣ圖⍞ᛡ৽ण䃔戋㘠传ϊ揿振䘌汣䓼㹮䘫㈨ቺ⩯↧ᄨXഉ⠅ㅖࢢ侸⇄僡ಖࡢҁ氣С宍劄倶䢡⍤㲂̤㚗٩䄀硂಩⍰琦ᦪ悑屾ᾨႨ㺜*瘪䋇޶⋤ᓘ犠䭳঺᥇⏰ᅠ  "
   },
   "source": [
    "## Task 3: Data Wrangling"
   ]
  },
  {
   "cell_type": "markdown",
   "id": "9da80393-7f4b-4115-a4d1-5b7978e11358",
   "metadata": {
    "__GENERATED_DATAFRAMES__": "{\"nodeDataframes\":{},\"graphDataframes\":null}",
    "show_aggregate_original": "false",
    "trrack_graph": "ᯡ࠽䈌ʀ匦㢠⹰â䂬ƀᶷ琶䁋c<搔怳ଚ䠳亡䈤㉕⁖ì⺇⊨攩ᐠ▨戰㑹㧒妰囇⃹喧㝞Ţ∠桠ûு䁔䈠ॢȠந㺸ᢀ盅⻿夣•晀樠Ԃ牠Έƕ稦❳ሪὦ䰼⇑䅠Ȅ恨㙎⌯᪴䶹䈁ℓ琡㙐ᮂ⢨᢬थ⧓ࡢ㌰ሚ璋U䳘䠵欯Т縔絭Sㄭۡ۹ण䉔悊㘠传ϒ橷挣⌏ⱡ䕼庮打㈨ɼ榨慢䃂॑瑐繦┭ڼ㾬⎂厃焸牘榥ᄨ䦯ඦ嘔㗆溄⒀擒摖≦၀ⶃ㧄మޢᄴ䩍རへ∦䯧焤愷䍠Žƀ夅შ㤙༾′⪂㵩掳婊⢄  "
   },
   "source": [
    "### **Task 3a: Creating and assigning 'Avalanche Season'**"
   ]
  },
  {
   "cell_type": "markdown",
   "id": "402412ae-3b84-4fec-9c01-94dd203a7b1f",
   "metadata": {
    "__GENERATED_DATAFRAMES__": "{\"nodeDataframes\":{},\"graphDataframes\":null}",
    "show_aggregate_original": "false",
    "trrack_graph": "ᯡ࠽䈌ʀ匦㢠⹰â䂬ƀᶷ琶䁋c<搔怳ଚ䠳亡䈤㉕⁖ì⺇⊨攩ᐠ▨戰㑹㧒妰囇⃹喧㝞Ţ∠桠ûு䁔䈠ॢȠந㺸ᢀ盅⻿夣•晀樠Ԃ牠Έƕ稦❳ሪὦ䰼⇑䅠Ȅ恨㙎⌯᪴䶹䈁ℓ琡㙐ᮂ⢨᢬थ⧓ࡢ㌰ሚ璋U䳘䠵欯Т縔絭Sㄭۡ۹ण䉔悊㘠传ϒ橷挣⌏ⱡ䕼庮打㈨ɼ榨慢䃂॑瑐繦┭ڼ㾬⎂厃焸牘榥ᄨ䦯ඦ嘔㗆溄⒀擒摖≦၀ⶃ㧄మޢᄴ䩍རへ∦䯧焤愷䍠Žƀ夅შ㤙༾′⪂㵩掳婊⢄  "
   },
   "source": [
    "Next, we'll introduce a new categorical variable named `Avalanche Season` into our dataset. This addition aims to classify each avalanche record into different parts of the avalanche season (Start, Middle, End) based on the month it occurred in.\n",
    "\n",
    "Create a new category `Avalanche Season` in the dataset and assign each record to `Start`, `Middle`, or `End` of the avalanche season based on its month."
   ]
  },
  {
   "cell_type": "markdown",
   "id": "86d54d80-ef52-4630-bffb-1e04d9320384",
   "metadata": {},
   "source": [
    "#### **Instructions**\n",
    "1. **Define Season Categories:**\n",
    "    - Based on typical avalanche seasons in Utah, create a new category called `Avalanche Season`.\n",
    "    - Add three options for this category -- `Start`, `Middle`, `End`.\n",
    "2. **Interactive Category Assignment:**\n",
    "    - Use Persist's interactive features to select each month and assign it to one of the `Avalanche Season` values (Start, Middle, End).\n",
    "    - You should use the following ranges for assigning proper categories:\n",
    "        - `Start` of Season for _October_, _November_, _December_\n",
    "    \t- `Middle` of Season for _January_, _February_, _March_\n",
    "    \t- `End` of Season for _April, May_, _June_\n",
    "3. **Verify the Output:**\n",
    "    - Print the head of the generated dataframe to verify the changes."
   ]
  },
  {
   "cell_type": "code",
   "execution_count": 19,
   "id": "63b62f4c-8841-4f6c-8011-cb2ee31c2c7b",
   "metadata": {
    "__GENERATED_DATAFRAMES__": "ᯡࠩ䃬࿀ᜤᠹ悋ᐬ推̅ሣ䧠ⶠ卍捯ᥔᠣ℠▢dʘϔᝠ捌〤瀵摠៨⠠ ",
    "__has_persist_output": true,
    "trrack_graph": "ᯡ࠽䈌ʀ匦㢠⹰ˠ↴ʁ┢᪀ⴠ㙈ϑ⁅,⨤瀰δ䰣ప呠噭ᥰ目¬⡩•⳦Ⴇ⋣侸䲥㕚䛬汛㬗爺ሠڤ-䵎ಃ⑀´၀Úಡ䀦熦आ㛣厶6ঃᐠ৽撠۱Ðᣁㄠ普✡ਰ⇩▭ေ凕䓘٬ᅍસ⌫╄炠Ɣ䛦圫ስࣥ䨶䟑䅠Ȅ恨慲൐䢡䊩掮ࡐ᢬Öᢛᩘ䐭ةֿ塨⇛ँ檰⸽䀺楖䘫汦⨡㹦⏵悺־悩廻䃌戇瘠传ϋ晿櫧崘′ީ憑傶㈤ʱⳔర╀倬ᄭ˨ᄬ┷ׂФ⸥䕂࣬ᐼ昈壢ଽ劐㻿ᖹ冢嫏᧱䪈挑≹ᕩउᤫᇩ࢙Ũ光䨵⑚ธ奰ɩᅩ剈٧䨂猙ⅸ啋䩮⦼悤䀠⃌†ᆠ〠᷿⦃椠㦤ష㸕Yݶڸ恟彰͉榐㫮檑橀濲滗廞hᔨ㚱⽳֫⏸䌼殀傢✳䭡⠩⌡䐰ᢼⴸ⑥拔᳻㔙༎➶⃣゘ℤ䝂⡔㴩䖃塼༯䀰䒂፥厊㨻⽿吺㡔ᔴ䂸䃳⳾㑻ᛍ᫢Ỻ瘰Ǩ煚ḷ˸ᛚ漗⧨採⑐4⡄ॸ㸄ᔠ䈗ဠଆͿ❭稏◜弿䐪⿹繰㰱ઠ࠳煸傳犸物掞㼪怠穊⬑ే➚㾓⛱ⴻ∠⹠ᰤ摰Ḥ჏櫳₹̧Ⅴḫ჋ນୌ澺ᡜ敢⡺ࡹ㈸ِ࡮̢灮ᶡ扄桂桬ႃニƣ㭢ᾃࢰ̦眥栛౪ᤩñᬱ᱘ˡ´ᠸテ䷇̹ऋ䅥䬈㵔؋㩦ⷑ縶)įඁ態݃⭥ݸ呦滀孍໺瑎摄䱚䄫ѭ攸挴䣠፪಺厔撳䚌殻猦ࡹ晱ⵀ䁰喣䌘殑⊴斲括悵猢摸㕓཰ಣ⒊䵀᫓嚛✊暍枋疛ġ䵝ᾊഇ⊆㶏Ⰹ岟┱環栰䉐䧐䁊̢䡼͕抌⩢桩┷㥼஡截ѩ收৤ᡊড㍊䒂䮐慻≸䥉夹⧩斎ⶲᕞⳊՕⅰ筚⟹㨾䟳ઁ敠୬Ր晴娢朧ཛ噻泚垃䴚⺍慀湛䄑㘣撚侓抯晇椑ధ殭㘷挓徊⍃㽿湤←䉆炸ئ渢ᔦ惹Ố愕ᧇ擥ሡ櫙ᖤ禼გ哳呤姛䃘惾㔭⨎㓵⹁᭬䁜ᣮ⃱㉥䢰Ҧ㽊ɒ瀬Pࢁঢ㡬䵡ࡘ䣡扁䲱⁃㡁࠶౲㣊থⳟဒƀ⾀᳡ԅ⬥୻ᐦ曃᭭۸瑮濂㝺䜀Ⅼ৘曙僕ᚵ再᎕姗㛼ௗ監岕勋ࢿ暸ࣔࢅ嫗召䇕㜄䶽⁝匠ໃ尌横巉畈࢈䶝╍䂛•擄ᐫ⥺筹櫰傍檽ㆾ矽㽶ᆧ瑎棴楣ӱಖ᪋‸ᨢ⃫眿⇰᳅䥐₩偸ଢ䄖礃䲪৸⏮喩䮃ѻ䪳㹶䱓㱷㺲䩻熛᷃㻂Ȯ῱晞ܼ刬۳䤩惥㄄伸癞戼᱐渤ㇼ沈䆧䬡ᣢ砾ᐢ৖怳ฃ₰֜㚪⚿䅭偪䰠䁸䃝ᰁ⫔䥑㟊〩ᚿۢ峳礧噂樢寰嵐㌨ᄶᘾ圂◌嘶ȁು扁Ð☣⁳㌂瑤䒼஡䤯䅤ᓃ南ଛ᧣㬯㏒澈牒ഄǩ∋ᕡᬦ䋖㚠癝̰椈੨ܱᮯⴈល瞼欆┣″獠㐁㹷掝挷᡽䃘搧䔏ἐ倿ਫ਼缱₡ẝ氲総䓹䊝竗ᛂ堮猎嫉愫侉䞱祧䏊催ρⷀ㪉熔娊㌆⣝丨㑷䊘璴⏏㢀䐰κ㌮⁛恡䱭䡰ᇙ塟䖂ᦓ䐶ը梤ᤇ䩠࿬痫ლ曑㪷㦓❡îᬃ嬕殽䷠͞䠤ݏ栬ຂᬳ㈦䧢ٓ䓐ძ䌰☸傚焳㨪⍽敦➡䚇䞢㣤䋱弒Ὗ枼ȁ፨➢⬭−❣䩨⊸㑥⒬䮫᭕瞎ૐኴ燢⡂䫱䉵䄶悦婨䲧ၼ无礠⃳ᑨ᢯䃒ᜣЪᇪ㹡䐸Ơ䰫₥ଌ毨拝䟹緜䃶▯㤰痑潁ຮ ㇲ呰᎒窎Д穂ೄ䄹磥䡈œ␪㊆㲁ፌ毬ᣁ瓝㎵⠠ᦪ奡⍕⯵㍵⡌攊䋮擪儠ཫ⢗໱窮碟ኃ噄䠠㺠«楞倠՟㯌Ƨ檂䟴ວ㤚䯠䛼᫈ᄠ桂㕰㻀㾐5᭰畗█ヱෞ嫠㇘児ṗ᎒㗆暈j⃶ⲹΠଡ㲃☹፲းӂሪ⏂ਢႌ擀ㆬႏ撰Ⱛতἣ∱樒⋫ᚁ嚩⼷ধ栂ň፲⑄㉽磛߷办戚⇣䲸ߤ焮ᇀ㐸ᘽ柠呔㴄୼碅尸ᦘÛɯࠆちܢ繒˻潁ᾪ0幭ⴲ䵕怒㙂媤⟋㢆౥嚁㉸嬪㣘⊹䵻⒤ᓫ⠀㜇Ⲑ纇Ϫ扂ቱ଩⊪㼼₀₦後䍎䰠共⢨夸䙰ॢ涱̨⺄࡬Ơથ䎢晅႖Մ㔯晛哐⟈硟Е㟥᫑塡䈱䖪͕᎜䵰#劮\"楘Ⓖ᭡涳՜䷪㍠檈恔棻塐䇩䊈⧝ᫀ㕞㢼㋅批䱨䰡偔懂綌㛛䛔ķϼ㾪⑹燍©७ᨢ䒠噇аडばભ•ᛂ櫢Ԑ䴚翈僕疼ݰ>䩡紈姪䂁☀Ƀ䉐䈑ᅣ⫂Լᨠぅ㧠冠畊燀櫪Ǩ䍹偪䝘ၸ噞㞧ぷƢ༑恈䳁繾獏ㆠ悤璙㶅㙧䭬㋓禋䤧㖬祐矑彅๕̃࠳䅗ᷗ备Ɩ攥眎栽⇱◃幚䳊㭂␡眇㘖侈㷳姪懱㮴㖗㠼咒⃩恁灺ᾑ甹熠㨆㈭⠺狻㣋㭗畚౾⯍ָҸФ幍፩⯣另䯅⚵Α೵灖ߨ癙₴㧨㦴䃦ⴠາዻựຉ檞扸㘒塒劬橵㲅ᚵ哺糬ᴍ渡倶㧼Ѡ䐿࡯㜅朣搢叩廲૘瞹䆯帒売磿㜓ࡷ疢瀉星樜ᨿ䭐塌悂@矯ⒿⰭ價旻ᯆ灘䎂ᵅ纔ნ烾ሑ巻扊㦷ỗᱻ㝜㉥ቛ源緾惐洲䣳㔀搯屻䌮㵄Ҁ垿䮩痋Â㘥䩆ὤ㐮椈买⠠僩។Ӏ䮛睽䟄⬁織剼㰖ሿ直䍩䦠塷碜哀早媷櫀緰䘵઄Ⱦメ䖒䶴箛Ꮋ猰ᖎⰼ㙋旣䇥糓䛧ሢဤ痧噽㖬ۦ䫄伸Ӹ⧵Ჰ᥄␨䲰瓃䝃䛞ԓ㾩斢䨎綄╛瀣緇䷲ろ斀从ཛ免㶈䳅灟Χ搆塡窠I⋣୮ᩚ㇀▉㍬㰹吐ḁ_⤝托Ц䭪ŉ坭ڈ步ຕ十㮺ᰭ㲸疍ཨ怺櫳ᙪŰ剮⢃凤✡倻ࣳሷ㨒䠼䂄࿇ḥ滠瘯㙛㾋孬癃儰◺❳登匚৩睻䃔ڰ儡䗶̇咦⌁఺⻈ᖙḋ旡穿ᇡఈ嗤¤ᄝÅ়♺璏ᑊ桤۸剗৘竤䓰㚗̨ჯ滨㇫▛灃ܖ஥Ṉ汎Ḳᑃ⢳楨⃢烀ᇱ暲䄔ಂⱁ戳႐䞍㣢涤㡬Đ僓泩ِ␃ࣸ罾砾刟ᢸ⡢♅兓হ䳼婔ӓƸ䀣⚧≈䘥䩝☥ཬ㕧䳩凕৓ⰹ㣸⳾ঢ⟚˯憎ャ➸䯣内璗ཤᏢ愯䔫ᖣ䋲ᙡƫࠡ拨ဩ㛨䢺牀䔞ݫ㛁㋨悟儠㈁狫Ⳉ晋Შ䘴䀵る㕹摠璼Ǡ㧤䫮ၚ捘䍻嫠抣२緘悼溣㜕⢚穊࠾ܻ⓺ߣ勼唿⿑䱿氳牻޲䎮扞⒮♈ʱ㺨Հ೉䡒糹䃖᪃⡖氺ᜂ̤⥹ᠥƀ嬧࿪उ⚀㤤ㅊ䆩䇤崧煉䅤䯤ॅ㻡橚䇏㿻田ຕᘧͩ䇷䋣憠ᑙ䞶๎唎əᇶ嫣⃉ᕫ᭣㳽ᕃ㨁伤紆昀┢ᶮᐢɨᄠ怸⹌Ջⴠᑥ汅䆽ց俯་瑇᜘濧㼄矟㼘槨络眰漉䁤れ噈Ქ䆡↲牼㘊呄ଊ๦⚧冻⇪矡ầ彰દഥㆤ䀧ㆆ࿷֧ヵ滶୏⟦ⷺ䡱瘗⧛妽呮独寙᱋凮や᭤᡻ᦽ࠯ᦆ㱆ỉਘ壤實⥱璐亇揻䰪ዺ≃籠䂇䁝㩡⠢䁬Ӡڪ渤嚅ܼᨡଳ੽㈸橥汒幽㞄瞙䡡庿䕥⺰⏽幦✄䡛䲩惝焠㽇硲摣熻⡅祥撡拑㑄䕶㼋つ擈℡䂻䁴层䣢䁊䲂㘐疾䒌䛴滇畐榚坪Ⰵᕃ祍㍴倆琫⥚䢖‶砥䧺䄟⣅嵹㇩〭%䀩Ś䔘ち偌娪ㆠ瑘,ⰰढ⁨ȿྥ఩䁮κ➡ᅬၦᱻ⧜ฦ圷Ǒཪ憗皺M䯜幉戲䔅ࡰ⎃㋏妭ხ刬劅ˑ፩娫抃̩᯺♭䀫綉߮भ㩼₸澑佫Ấ尰╎㽩㲠㌅搹侱ړ瓣᠒㖔绉ן⥢䡰ƾ嵆撹ថ噹㴌᳹硴璝㏙䣥⒪ޱ㋻ᑦ价ᠵ砨ݨ擣᫑⃒ନᠠဢⅉ泦剢౎啾ᑹ璪ወǟ拑䀖瓅␈淆⚭槊䴊ᲆ΅ᕩ⊴晵䍗咇჊円㋍㑬狾ሎይ㦻䉏Q櫮⑱㉦ᬆ惐䱸ⲬÑ棓傸檶ᑆᲯ敺Ⲷশ泔㞾抡႑⋓屼䓍䫀几屢↲䀬宪Ộצԑ໐敮㏳ḑᜨ摵䃦慖翢ʔ汧抂は䷅猥╞ᗕ䉸嘇槖⑭倢㤙৔์ᬾ礎佪㹋†䬕䂨⠡९Ñథ䌄Ζ䪤ȭ湉⁘ᬸभஆ䎐䬓༭ᜅ㿗涕ә乨矝☇䐺౲੧⤸弮㚠䪎˅Ắ缦ႆ祮ᵆ秂冲䖁嘱尤牍V䧨獤∭慘à湇ဧΦ䨥矮ဤ௟ᇉ㿭䅾勵₉ы࢑摽ᡎ樦䧇Ĕ圢䔮䍑䮏⚅ྵ帳疐⬚࣭妔㋨⧎㣮殤䤠欅惖♧䭲ᆕࡰᚊ㍲ၕᾎ߃䱚倽䳋碗䫜ᙾ㽊楆珣孹瞩յ䇧ୠḠ⢦䔧ޔއ倱↍䢌㈭၊↳ʰ扒⒉㴇Ც旮斖ᓬ䠖旨獃㷷᣹㜐ᥙ᪙὜緬ᓅ疖ᤘ䱀㶛妧沂幷ɢ泏ᑊ樕ⶼᏥ⃞䫆䦬咸掮歴ုᬎ仂Ɗ୥ᘜ▸沠䭩姄ʞ䔋佷ᬷ幠昏玀擷前丏஄寤䧈ݶⅿㅰ嵕㳈慨㓐帺怪䛝䇈創株悔᳽ࠡ砍̈́恥⚭冄剋5∩㆗┿洰糤搶擊Ꭰ⏄ೀ恱ࡀ㲣恀䃆⅍㏦䮉厱尭⹋͠䰘厭⅍䎞᫤唉ⶉÉ敨Ҍ攈ࡑ痎⌢⽨ᦅ璬勘枵ᮂ᧬再▕粵煃Ỏ筈㮜㎼崪㝏ᚁ㊓ᘅ廊ծ㋃喀Í䞀㪜᧵癕嬱ჲ°ᙷ盙壯彔瘧䉛෋䪑ሡឌ現ᖵ庩敺ட湆䢢᦬䵬捱嫈呡⎤׆༹罭Ⱄ湵⥔၃⮺ᘃ䪫礑⊺吳ᛊ垍䟺匆圬ㅯ⭺念㳭ಂ䢦嘠䦩䡔拂村䧉䡎⯰媶ະ汵䃖ᤍ●沁മቶ㕰͛ᐮ孶籧嗅ⱎᶑᛕ㖥掭䔱䞭๓捚漳㛍痟Ⳟ᫃ᤥ嶀ጬ⿽姑㶘紶涙慱侺渁ᅊⷕ磢㢱£ᐢ⃴p㞾հ惯㏐㮠尾䑙曡៝ᤧ䄛㔖㏹μ၊ޮ㯜厺ౙ朐㖓䑏㾡ͽ≳朻㐰㕿咡倎羕⪨噜峷堲̫⋠灼ᅶ̈峜㔸ႌ勑椰㢣ዙ礁འ峠掅Ǫέ㉦扐慐ઑ⢯灗ࡰࡣ縌獢筱௭憥ᾀ孯冝ㆎ潴孕叚ؿ琳۹┱Ḡᮗ匬尉帹䮺䋭僎⴪奨䝵梢焻⡣䯡┍ӭ㮈౳ᧃ峨֬ࣈڱ㪽櫬ं࠵䵽ݡⲀ䀫喪᫩噻᥹䉐嫳䛍㦠今ᧈ⠜㵵媨棹垰䄋⠍ᓬ䱀᝹磴❜㐳⽹晶妝㒶䁸۫糣會䚨竹⩃㧱ԋᣅೀϺᗄい儎䶠ᑣᑊ榸湘殬弴擂ᕖ㼋ẓ橏ᆂ䨖ⶬ፥❞ු⊔簃䒀ⱹ⑙ဤ䇤娠ዾ晦Ψቻҙ៭䒽橼⍬䃛㎫廿挀甧㱫榵໥ᙇ㶑Ᾱ䠠ƥ㔪䃦ᑎ᤽瑼᪈ད⹳ࡄ妁凼焧མ㧔࿒丆塑禫倀炻橼瓾⼴ᾷ㉀⢁ⶐ楢䡎ᘟ⚎੷䆶ↁཻ㽢冼Ճ؄ⓢ呍ሓכ㷫牙梱䜊擶ỷ㈛⹺罋⧖⾔汌ࡡ糰䑮␇㙱០䬓¿ᒀݨ樆ᐓ㧷㷲Ӻ洯⸊ී㳵䱯⠊淔੗઎ᡀ瘡ⱥ䲯␊䷗㴕䵔༑䄩ኹ洖漷緐巂⼮禖據巊⿎洀䀠 "
   },
   "outputs": [
    {
     "data": {
      "application/vnd.jupyter.widget-view+json": {
       "model_id": "67fe78abe6a94baea355d2e85c4bf242",
       "version_major": 2,
       "version_minor": 0
      },
      "text/plain": [
       "PersistWidget(data_values=[{'__id_column': '1', 'Date': 1352419200000, 'Region': 'Salt Lake', 'Place': 'Sunset…"
      ]
     },
     "execution_count": 19,
     "metadata": {},
     "output_type": "execute_result"
    }
   ],
   "source": [
    "select = alt.selection_interval(name=\"selector\", encodings=[\"x\"])\n",
    "\n",
    "chart = alt.Chart(df_task_2b, height=400, width=500).mark_bar().encode(\n",
    "    x=alt.X(\"utcmonth(Date):N\").sort([10]),\n",
    "    y=\"count()\",\n",
    "    opacity=alt.condition(select, alt.value(1), alt.value(0.2)),\n",
    "    tooltip=\"month(Date):N\"\n",
    ").add_params(select)\n",
    "\n",
    "PR.PersistChart(chart, data=df_task_2b, df_name=\"df_task_3a\")"
   ]
  },
  {
   "cell_type": "code",
   "execution_count": 20,
   "id": "94b95c12-1a24-46c3-a9dd-65b6cfcc9471",
   "metadata": {},
   "outputs": [
    {
     "data": {
      "text/html": [
       "<div>\n",
       "<style scoped>\n",
       "    .dataframe tbody tr th:only-of-type {\n",
       "        vertical-align: middle;\n",
       "    }\n",
       "\n",
       "    .dataframe tbody tr th {\n",
       "        vertical-align: top;\n",
       "    }\n",
       "\n",
       "    .dataframe thead th {\n",
       "        text-align: right;\n",
       "    }\n",
       "</style>\n",
       "<table border=\"1\" class=\"dataframe\">\n",
       "  <thead>\n",
       "    <tr style=\"text-align: right;\">\n",
       "      <th></th>\n",
       "      <th>Avalanche Season</th>\n",
       "      <th>Date</th>\n",
       "      <th>Region</th>\n",
       "      <th>Place</th>\n",
       "      <th>Trigger</th>\n",
       "      <th>Weak Layer</th>\n",
       "      <th>Depth_inches</th>\n",
       "      <th>Width_inches</th>\n",
       "      <th>Vertical_inches</th>\n",
       "      <th>Aspect</th>\n",
       "      <th>Elevation_feet</th>\n",
       "    </tr>\n",
       "  </thead>\n",
       "  <tbody>\n",
       "    <tr>\n",
       "      <th>0</th>\n",
       "      <td>Start</td>\n",
       "      <td>2012-11-09</td>\n",
       "      <td>Salt Lake</td>\n",
       "      <td>Sunset Peak</td>\n",
       "      <td>Snowboarder</td>\n",
       "      <td>New Snow/Old Snow Interface</td>\n",
       "      <td>14</td>\n",
       "      <td>960</td>\n",
       "      <td>360</td>\n",
       "      <td>North</td>\n",
       "      <td>10400</td>\n",
       "    </tr>\n",
       "    <tr>\n",
       "      <th>1</th>\n",
       "      <td>Start</td>\n",
       "      <td>2012-11-11</td>\n",
       "      <td>Salt Lake</td>\n",
       "      <td>Patsy Marly</td>\n",
       "      <td>Skier</td>\n",
       "      <td>New Snow/Old Snow Interface</td>\n",
       "      <td>30</td>\n",
       "      <td>1200</td>\n",
       "      <td>1200</td>\n",
       "      <td>North</td>\n",
       "      <td>9700</td>\n",
       "    </tr>\n",
       "    <tr>\n",
       "      <th>2</th>\n",
       "      <td>Start</td>\n",
       "      <td>2012-11-11</td>\n",
       "      <td>Salt Lake</td>\n",
       "      <td>Two Dogs</td>\n",
       "      <td>Skier</td>\n",
       "      <td>Facets</td>\n",
       "      <td>36</td>\n",
       "      <td>840</td>\n",
       "      <td>5400</td>\n",
       "      <td>North</td>\n",
       "      <td>10200</td>\n",
       "    </tr>\n",
       "    <tr>\n",
       "      <th>3</th>\n",
       "      <td>Start</td>\n",
       "      <td>2012-11-11</td>\n",
       "      <td>Salt Lake</td>\n",
       "      <td>Emma Ridges</td>\n",
       "      <td>Skier</td>\n",
       "      <td>New Snow</td>\n",
       "      <td>18</td>\n",
       "      <td>600</td>\n",
       "      <td>6000</td>\n",
       "      <td>Southeast</td>\n",
       "      <td>10200</td>\n",
       "    </tr>\n",
       "    <tr>\n",
       "      <th>4</th>\n",
       "      <td>Start</td>\n",
       "      <td>2012-11-11</td>\n",
       "      <td>Salt Lake</td>\n",
       "      <td>Sunset Peak</td>\n",
       "      <td>Skier</td>\n",
       "      <td>Facets</td>\n",
       "      <td>42</td>\n",
       "      <td>18000</td>\n",
       "      <td>9600</td>\n",
       "      <td>North</td>\n",
       "      <td>10400</td>\n",
       "    </tr>\n",
       "  </tbody>\n",
       "</table>\n",
       "</div>"
      ],
      "text/plain": [
       "  Avalanche Season       Date     Region        Place      Trigger  \\\n",
       "0            Start 2012-11-09  Salt Lake  Sunset Peak  Snowboarder   \n",
       "1            Start 2012-11-11  Salt Lake  Patsy Marly        Skier   \n",
       "2            Start 2012-11-11  Salt Lake     Two Dogs        Skier   \n",
       "3            Start 2012-11-11  Salt Lake  Emma Ridges        Skier   \n",
       "4            Start 2012-11-11  Salt Lake  Sunset Peak        Skier   \n",
       "\n",
       "                    Weak Layer  Depth_inches  Width_inches  Vertical_inches  \\\n",
       "0  New Snow/Old Snow Interface            14           960              360   \n",
       "1  New Snow/Old Snow Interface            30          1200             1200   \n",
       "2                       Facets            36           840             5400   \n",
       "3                     New Snow            18           600             6000   \n",
       "4                       Facets            42         18000             9600   \n",
       "\n",
       "      Aspect  Elevation_feet  \n",
       "0      North           10400  \n",
       "1      North            9700  \n",
       "2      North           10200  \n",
       "3  Southeast           10200  \n",
       "4      North           10400  "
      ]
     },
     "execution_count": 20,
     "metadata": {},
     "output_type": "execute_result"
    }
   ],
   "source": [
    "df_task_3a.head()"
   ]
  },
  {
   "cell_type": "code",
   "execution_count": 25,
   "id": "bc7ac788-1ae1-40e3-8854-bd2934ed9504",
   "metadata": {},
   "outputs": [
    {
     "data": {
      "text/plain": [
       "358    2010-04-01\n",
       "361    2010-04-02\n",
       "360    2010-04-02\n",
       "359    2010-04-02\n",
       "362    2010-04-03\n",
       "          ...    \n",
       "2320   2023-04-22\n",
       "2321   2023-04-22\n",
       "2322   2023-04-22\n",
       "2323   2023-05-07\n",
       "2324   2023-05-09\n",
       "Name: Date, Length: 222, dtype: datetime64[ns]"
      ]
     },
     "execution_count": 25,
     "metadata": {},
     "output_type": "execute_result"
    }
   ],
   "source": [
    "df_task_3a[df_task_3a['Avalanche Season']=='End']['Date'].sort_values()"
   ]
  },
  {
   "cell_type": "markdown",
   "id": "36e82a42-5f2f-44e1-b9a5-2e2d403b2ff3",
   "metadata": {},
   "source": [
    "## **Task 3b: Analyzing Top Avalanche Trigger by Season**"
   ]
  },
  {
   "cell_type": "markdown",
   "id": "af40bad3-436e-426c-a02f-f205597e90b5",
   "metadata": {},
   "source": [
    "Now we'll analyze which trigger is most prevalent for avalanches in each season phase (Start, Middle, End) using the `Avalanche Season` category created in Task 3a."
   ]
  },
  {
   "cell_type": "markdown",
   "id": "72455a32-623b-4b87-87d6-ca9c8ebf19e7",
   "metadata": {},
   "source": [
    "#### **Instructions**\n",
    "1. **Context:**\n",
    "    - We have an interactive stacked bar chart. The `x` axis encodes the `Trigger` column in the data and the stack colors encode the newly added category `Avalanche Season`.\n",
    "    - You can select a category using the **legend** for `Avalanche Season`. The stacked bar chart will dynamically update in response to your selections. The selected season is pushed down in stack, and the other regions fade out.\n",
    "2. **Analyze Trigger Data:**\n",
    "    - Observe the filtered `Trigger` bar chart to identify the top trigger for the selected season phase.\n",
    "    - You can hover on the bars to get the exact frequency.\n",
    "3. **Document Findings:**\n",
    "    - Note down the most common trigger for each season phase based on your interactive analysis in a new markdown cell."
   ]
  },
  {
   "cell_type": "code",
   "execution_count": null,
   "id": "e9eaff25-74aa-4e43-abbb-19bdfef91064",
   "metadata": {
    "__has_persist_output": true
   },
   "outputs": [],
   "source": [
    "selection = alt.selection_point(name=\"selector\", fields=[\"Avalanche Season\"], bind=\"legend\")\n",
    "\n",
    "chart = alt.Chart(df_task_3a).mark_bar().encode(\n",
    "    x=\"Trigger:N\",\n",
    "    y=\"count():Q\",\n",
    "    color=alt.Color(\"Avalanche Season:N\").sort([\"Start\", \"Middle\", \"End\"]),\n",
    "    opacity=alt.condition(selection,alt.value(1), alt.value(0.3)),\n",
    "    order=\"selection_order:N\",\n",
    "    tooltip=\"count()\"\n",
    ").transform_calculate(\n",
    "    selection_order=\"if(selector && selector['Avalanche Season'], if((datum['Avalanche Season'] === selector['Avalanche Season'][0]),0,1),0)\"\n",
    ").add_params(selection)\n",
    "\n",
    "PR.PersistChart(chart)"
   ]
  },
  {
   "cell_type": "markdown",
   "id": "00e87acd-3759-49eb-9e43-d7793672297c",
   "metadata": {},
   "source": [
    "**Task 3b Notes:**\n",
    "\n",
    "Write your answer here"
   ]
  }
 ],
 "metadata": {
  "__CATEGORIES_META__": "{\"categories\":{\"Avlanche Season Phase\":{\"name\":\"Avlanche Season Phase\",\"options\":{\"_None\":{\"name\":\"None\"},\"Start\":{\"name\":\"Start\"},\"Middle\":{\"name\":\"Middle\"},\"End\":{\"name\":\"End\"}}}},\"activeCategoryName\":\"Avlanche Season Phase\"}",
  "__persist_keys_record": [
   "__GENERATED_DATAFRAMES__",
   "__persist_nb_uuid__",
   "trrack_graph",
   "show_aggregate_origin"
  ],
  "__persist_nb_uuid__": "f5c712dd-5e54-4eeb-a463-9872482ef227",
  "kernelspec": {
   "display_name": "Python 3 (ipykernel)",
   "language": "python",
   "name": "python3"
  },
  "language_info": {
   "codemirror_mode": {
    "name": "ipython",
    "version": 3
   },
   "file_extension": ".py",
   "mimetype": "text/x-python",
   "name": "python",
   "nbconvert_exporter": "python",
   "pygments_lexer": "ipython3",
   "version": "3.9.17"
  }
 },
 "nbformat": 4,
 "nbformat_minor": 5
}
