{
 "cells": [
  {
   "cell_type": "markdown",
   "id": "522fcbb3-702c-4ea0-91d9-f3b0e71690fc",
   "metadata": {
    "__GENERATED_DATAFRAMES__": "{\"nodeDataframes\":{},\"graphDataframes\":null}",
    "show_aggregate_original": "false",
    "trrack_graph": "ᯡ࠽䈌ʀ匦㢠⹰àᦴ΀࣪ʐ怶䦠挠᱊ࠥ䁁䂖㚥煤晬փ⊪ĸ暂䙠঳ैkᑄᄈ妐ଷᓋ⃩䖻Ṯ溜Φ䐡傠Ǒ団Қ′䈤7ࡣᠠ湐戎Ⴆ寐爤䀥屨攠ʕ㥀ǔÚ䍃㏙䤥ࢂ┩勸惀Ēいཆ༠೥∁∀秸㲅䌠ⶬᛦ䙂ǃɡ殍戰泤ᒁ嬦怭㋉匥穃ᄠ彣჻⴦䉫ぢ睤䄁ⵐۻG䀡曑砑䂱竖ᄂ㜿Ꭽ˹ȩᚱ凁兘㑐Ṣ༩Ẻ䳥⑆憰棨忞⍧攈堽Ī僰὆揖䦲ᡊ⛓౱নఱ姼ᤦΧ您別൧儸晋Ǣ熘繀䉁硨K塊়ṹᜰ倳䪂ⵦ⚈ᒽ᪺ᆬ䀠 "
   },
   "source": [
    "# Analyzing Utah Avalanche Data"
   ]
  },
  {
   "cell_type": "markdown",
   "id": "3abf1206-e99f-45b6-a92b-d971a2a8eb19",
   "metadata": {
    "trrack_graph": "ᯡ࠽䈌ʀ匦㢠⹰ૠܠ昢〽䂆౐׀ৣfL⍉ျ⥒⠡䒙¬ᧇ峕搢ಒ嫒┠অҤᵖ㹢晴㘉ᦳㄍ毿䡨墠ᨰV䆼ガ搢⡠䀢焨㌠෦ౝ戰殖๠ᠠ塩ೀn坄V䀷⢄㚗᥂夬ು䅻ఴ>☤䝃傳狱⊔㳜ੁ䀶挫㐷ࢢӡჵ嬩іㄪᢉ懐ͻ䬥䇽ࣨ䁏僿峱䐰㋸ᇻ兀㡆䱍㛠਀ⲛ粀೽疨һ䟩桁㙡Ũ昙ˢ䧮ᄪᆽ䥢ᅅᄁẩ㱸౮ᐶޣ先ఽЃⵖᥒ⌥▶懜ᩑƢ᭛䭄憐ɑ٦⦈䙓ǂ炘㸠䱅࢜ؠଌથ䜯๡䙉夊᜶僑汢㭢☈₁䠠 "
   },
   "source": [
    "**Participant ID:**  \n",
    "**Date / Time:**"
   ]
  },
  {
   "cell_type": "markdown",
   "id": "ceac0d48-2820-4532-bfd2-adf6533d7a2d",
   "metadata": {},
   "source": [
    "## Introduction\n",
    "Welcome to our data analysis study. For this part of the study, you'll be working with a dataset sourced from the [Utah Avalanche Center](https://utahavalanchecenter.org/). The data provides insights into [avalanche occurrences](https://utahavalanchecenter.org/avalanches) in Utah.\n"
   ]
  },
  {
   "cell_type": "markdown",
   "id": "68491102-96aa-4701-8134-d998c80ae04b",
   "metadata": {},
   "source": [
    "- You will use an extension called PersIst to complete **data cleanup and manipulation** tasks. \n",
    "- Interactive charts and tables have been pre-created for your convenience. These can be directly utilized by running the corresponding cells.\n",
    "- Focus on leveraging the interactive capabilities of Persist for your analysis.\n",
    "- Carefully follow the step-by-step instructions provided for each task.\n",
    "- In some cases, you will be asked to document your findings. Please do this in writing in a markdwon cell.\n",
    "- As you work through the tasks, take note of any interesting findings or challenges with the software or pandas that you may encounter, either by speaking your thoughts out loud or taking notes in a markdown cell.\n",
    "- Feel free to add new code and markdown cells in the notebook as necessary to complete the tasks, but please do attempt the tasks with the PersIst functionality."
   ]
  },
  {
   "cell_type": "markdown",
   "id": "8ebadbe2-4497-401c-9220-017809e835de",
   "metadata": {
    "__GENERATED_DATAFRAMES__": "{\"nodeDataframes\":{},\"graphDataframes\":null}",
    "show_aggregate_original": "false",
    "trrack_graph": "ᯡ࠽䈌ʀ匦㢠⹰ૠବɐච䎍倶䊪ᠠ父嬡ᳺ෪ੲࠬ晴ᘦ㍲差Ⱗㅅ)㊤䈽ାƂ刴喋橖㎁混䩟ႠᨰV岸㈔␢⡠䀢焧匠෦భ戰௷㙠̸x䠊䀡᲼䠠洠⺾彡抄䀠㈉㶣㡶ᡈ\\䰩(懄燃㌂㰢ᒌ娾䀶挥㗦ࢢ烡ၕ⬱жㄢ៉䓐͸⮑ŝㄐ䁏你㋲既祸ၛᅀ㢆䰽⫠਀⻚粀幝ඨ࣓叾殪㙡ƨ◓ᰢ寘奇Ⴌ䦦糂礒৉ᱥ䩃༥ס扦᤭ԓ噻ҩᆠ剋࣡ସ䂡▥撰じ㸨䅃䢴മ䂁ᣌ㬫䈁碢➫怢崢悩欂䥑央Ⴧ掴≺䩬槔ဨ搠 "
   },
   "source": [
    "**Support**\n",
    "- If you require assistance or need further clarification on any of the tasks, please let us know.\n",
    "- If you find yourself stuck on a task and feel that you will not make any progress, you have the option to skip the task.\n",
    "- For tasks that build upon the outputs of previous tasks, skipping a task will affect your ability to proceed. To avoid such problems we will assist you loading a fallback dataset. "
   ]
  },
  {
   "cell_type": "code",
   "execution_count": 1,
   "id": "9337796b-21e8-4c8c-bbbd-3076a775d03b",
   "metadata": {},
   "outputs": [],
   "source": [
    "import helpers as h\n",
    "import pandas as pd\n",
    "\n",
    "import seaborn as sns\n",
    "import matplotlib.pyplot as plt\n",
    "import altair as alt\n",
    "\n",
    "import persist_ext as PR"
   ]
  },
  {
   "cell_type": "markdown",
   "id": "dd81aecd-eebf-4624-b9e2-3a864c474c1d",
   "metadata": {
    "__GENERATED_DATAFRAMES__": "{\"nodeDataframes\":{},\"graphDataframes\":null}",
    "show_aggregate_original": "false",
    "trrack_graph": "ᯡ࠽䈌ʀ匦㢠⹰Ҁ̡䘠烠嘢త〫‥侴ᓬᛞ拐ৡ䚂ద抭婈ހڅྯ䌲⠠䭈⑁槑焳Ⴥ⩦仃㍶๽㰥Ҩǁ#㟢䌰橠ኤРᜰ͐üメ湁˛㾄ָ̠憴)挄䀦栢琭ٮ㍄ᨡ䌤ᾣㆢ䀣擠䢤㘦Sᥧᡠ戂怡ᠬÖᠻ㹈䐿ة׉妨⃓ࢱ̴㖠᫲徤ฏѤƜڣ回㸦ۡ৵ण䃔戊㘠传ϊ緯挡䘌污䕽庮粓㈨ɪⷠ搃猄ᦨ洘㳌ᤪ̪౦繶ሱ澂䘣⁑Ҝഭ炍孉ृÅ⭱䤾ᢠ䆋෭ኀ㠢Ү≱呺Ấ惑汮ᮯ戩䊏̠˙Ɂ⧽憳㈒ṉⅱਊ⥋⃆瑀⣨  "
   },
   "source": [
    "## Data Description\n",
    "\n",
    "The table below describes the different columns in the dataset. Each row in the dataset represents a reported avalanche with details on location, trigger, and aspect. The data spans multiple years, starting from 2004 up to 2023.\n",
    "\n",
    "| Column          | Description                                                    |\n",
    "|-----------------|----------------------------------------------------------------|\n",
    "| Date            | Date on which the avalanche was recorded                       |\n",
    "| Region          | Region in Utah where the avalanche occurred                    |\n",
    "| Place           | Exact location where the avalanche was recorded                |\n",
    "| Trigger         | Cause of the avalanche                                         |\n",
    "| Weak Layer      | Layer of snow that was weakest and likely to fail              |\n",
    "| Depth_inches    | Depth of the avalanche in inches                               |\n",
    "| Width_inches    | Width of the avalanche in inches                               |\n",
    "| Vertical_inches | Vertical extend of the avalanche in inches                     |\n",
    "| Aspect          | Direction of the slope where the avalanche occurred            |\n",
    "| Elevation_feet  | Elevation of the avalanche location in feet                    |\n",
    "| Coordinates     | Approximate geographical coordinates of the avalanche location |\n",
    "| Comments 1      | Additional comments provided by the reporter                   |"
   ]
  },
  {
   "cell_type": "code",
   "execution_count": 13,
   "id": "8d0e426c-89a0-4813-8994-65ebba3f3a25",
   "metadata": {},
   "outputs": [
    {
     "data": {
      "text/html": [
       "<div>\n",
       "<style scoped>\n",
       "    .dataframe tbody tr th:only-of-type {\n",
       "        vertical-align: middle;\n",
       "    }\n",
       "\n",
       "    .dataframe tbody tr th {\n",
       "        vertical-align: top;\n",
       "    }\n",
       "\n",
       "    .dataframe thead th {\n",
       "        text-align: right;\n",
       "    }\n",
       "</style>\n",
       "<table border=\"1\" class=\"dataframe\">\n",
       "  <thead>\n",
       "    <tr style=\"text-align: right;\">\n",
       "      <th></th>\n",
       "      <th>Date</th>\n",
       "      <th>;Region</th>\n",
       "      <th>Place</th>\n",
       "      <th>;Trigger</th>\n",
       "      <th>;Weak Layer</th>\n",
       "      <th>Depth_inches</th>\n",
       "      <th>Width_inches</th>\n",
       "      <th>Vertical_inches</th>\n",
       "      <th>;Aspect</th>\n",
       "      <th>Elevation_feet</th>\n",
       "      <th>Coordinates</th>\n",
       "      <th>Comments 1</th>\n",
       "    </tr>\n",
       "  </thead>\n",
       "  <tbody>\n",
       "    <tr>\n",
       "      <th>0</th>\n",
       "      <td>11/9/2012</td>\n",
       "      <td>Salt Lake</td>\n",
       "      <td>Sunset Peak</td>\n",
       "      <td>Snowboarder</td>\n",
       "      <td>New Snow/Old Snow Interface</td>\n",
       "      <td>14.0</td>\n",
       "      <td>960.0</td>\n",
       "      <td>360.0</td>\n",
       "      <td>North</td>\n",
       "      <td>10400.0</td>\n",
       "      <td>40.577977000000, -111.595817000000</td>\n",
       "      <td>While it was a small avalanche that was I caug...</td>\n",
       "    </tr>\n",
       "    <tr>\n",
       "      <th>1</th>\n",
       "      <td>11/11/2012</td>\n",
       "      <td>Salt Lake</td>\n",
       "      <td>Patsy Marly</td>\n",
       "      <td>Skier</td>\n",
       "      <td>New Snow/Old Snow Interface</td>\n",
       "      <td>30.0</td>\n",
       "      <td>1200.0</td>\n",
       "      <td>1200.0</td>\n",
       "      <td>North</td>\n",
       "      <td>9700.0</td>\n",
       "      <td>40.592619000000, -111.616099000000</td>\n",
       "      <td>A North facing aspect with an exposed ridge in...</td>\n",
       "    </tr>\n",
       "    <tr>\n",
       "      <th>2</th>\n",
       "      <td>11/11/2012</td>\n",
       "      <td>Salt Lake</td>\n",
       "      <td>Two Dogs</td>\n",
       "      <td>Skier</td>\n",
       "      <td>Facets</td>\n",
       "      <td>36.0</td>\n",
       "      <td>840.0</td>\n",
       "      <td>5400.0</td>\n",
       "      <td>North</td>\n",
       "      <td>10200.0</td>\n",
       "      <td>40.599291000000, -111.642315000000</td>\n",
       "      <td>Remotely triggered all the new storm snow (abo...</td>\n",
       "    </tr>\n",
       "    <tr>\n",
       "      <th>3</th>\n",
       "      <td>11/11/2012</td>\n",
       "      <td>Salt Lake</td>\n",
       "      <td>Emma Ridges</td>\n",
       "      <td>Skier</td>\n",
       "      <td>New Snow</td>\n",
       "      <td>18.0\"</td>\n",
       "      <td>600.0</td>\n",
       "      <td>6000.0</td>\n",
       "      <td>Southeast</td>\n",
       "      <td>10200.0</td>\n",
       "      <td>40.598313000000, -111.628304000000</td>\n",
       "      <td>Impressive fast powder cloud ran in front of t...</td>\n",
       "    </tr>\n",
       "    <tr>\n",
       "      <th>4</th>\n",
       "      <td>11/11/2012</td>\n",
       "      <td>Salt Lake</td>\n",
       "      <td>Sunset Peak</td>\n",
       "      <td>Skier</td>\n",
       "      <td>Facets</td>\n",
       "      <td>42.0</td>\n",
       "      <td>18000.0</td>\n",
       "      <td>9600.0</td>\n",
       "      <td>North</td>\n",
       "      <td>10400.0</td>\n",
       "      <td>40.578590000000, -111.595087000000</td>\n",
       "      <td>Three of us toured from Brighton to low saddle...</td>\n",
       "    </tr>\n",
       "    <tr>\n",
       "      <th>...</th>\n",
       "      <td>...</td>\n",
       "      <td>...</td>\n",
       "      <td>...</td>\n",
       "      <td>...</td>\n",
       "      <td>...</td>\n",
       "      <td>...</td>\n",
       "      <td>...</td>\n",
       "      <td>...</td>\n",
       "      <td>...</td>\n",
       "      <td>...</td>\n",
       "      <td>...</td>\n",
       "      <td>...</td>\n",
       "    </tr>\n",
       "    <tr>\n",
       "      <th>2387</th>\n",
       "      <td>4/22/2023</td>\n",
       "      <td>Salt Lake</td>\n",
       "      <td>Cardiff Bowl</td>\n",
       "      <td>Unknown</td>\n",
       "      <td>New Snow/Old Snow Interface</td>\n",
       "      <td>8.0</td>\n",
       "      <td>720.0</td>\n",
       "      <td>1800.0</td>\n",
       "      <td>East</td>\n",
       "      <td>9800.0</td>\n",
       "      <td>40.592721660567, -111.649613218710</td>\n",
       "      <td>We spent the day skiing the southerly-facing a...</td>\n",
       "    </tr>\n",
       "    <tr>\n",
       "      <th>2388</th>\n",
       "      <td>4/22/2023</td>\n",
       "      <td>Logan</td>\n",
       "      <td>Miller Bowl, East</td>\n",
       "      <td>Snowmobiler</td>\n",
       "      <td>New Snow/Old Snow Interface</td>\n",
       "      <td>18.0</td>\n",
       "      <td>540.0</td>\n",
       "      <td>4800.0</td>\n",
       "      <td>North</td>\n",
       "      <td>8700.0</td>\n",
       "      <td>41.886233332343, -111.645074831510</td>\n",
       "      <td>Not sure about the story here, but we observed...</td>\n",
       "    </tr>\n",
       "    <tr>\n",
       "      <th>2389</th>\n",
       "      <td>4/22/2023</td>\n",
       "      <td>Logan</td>\n",
       "      <td>Millville Peak</td>\n",
       "      <td>Snowboarder</td>\n",
       "      <td>New Snow/Old Snow Interface</td>\n",
       "      <td>12.0</td>\n",
       "      <td>3600.0</td>\n",
       "      <td>7200.0</td>\n",
       "      <td>North</td>\n",
       "      <td>8900.0</td>\n",
       "      <td>41.677564539953, -111.718065248970</td>\n",
       "      <td>Details are a bit limited and we're not sure w...</td>\n",
       "    </tr>\n",
       "    <tr>\n",
       "      <th>2390</th>\n",
       "      <td>5/7/2023</td>\n",
       "      <td>Salt Lake</td>\n",
       "      <td>Red Top Mountain</td>\n",
       "      <td>Natural</td>\n",
       "      <td>Unknown</td>\n",
       "      <td>72.0</td>\n",
       "      <td>3000.0</td>\n",
       "      <td>12000.0</td>\n",
       "      <td>West</td>\n",
       "      <td>10800.0</td>\n",
       "      <td>40.546874131921, -111.663880335390</td>\n",
       "      <td>Saw this avalanche around 9.30 AM from the top...</td>\n",
       "    </tr>\n",
       "    <tr>\n",
       "      <th>2391</th>\n",
       "      <td>5/9/2023</td>\n",
       "      <td>Salt Lake</td>\n",
       "      <td>Microwave</td>\n",
       "      <td>Skier</td>\n",
       "      <td>Unknown</td>\n",
       "      <td>6.0</td>\n",
       "      <td>300.0</td>\n",
       "      <td>2400.0</td>\n",
       "      <td>West</td>\n",
       "      <td>10000.0</td>\n",
       "      <td>40.589449603656, -111.613240229200</td>\n",
       "      <td>Intentionally triggered during a ski cut. Ran ...</td>\n",
       "    </tr>\n",
       "  </tbody>\n",
       "</table>\n",
       "<p>2392 rows × 12 columns</p>\n",
       "</div>"
      ],
      "text/plain": [
       "            Date    ;Region              Place     ;Trigger  \\\n",
       "0      11/9/2012  Salt Lake        Sunset Peak  Snowboarder   \n",
       "1     11/11/2012  Salt Lake        Patsy Marly        Skier   \n",
       "2     11/11/2012  Salt Lake           Two Dogs        Skier   \n",
       "3     11/11/2012  Salt Lake        Emma Ridges        Skier   \n",
       "4     11/11/2012  Salt Lake        Sunset Peak        Skier   \n",
       "...          ...        ...                ...          ...   \n",
       "2387   4/22/2023  Salt Lake       Cardiff Bowl      Unknown   \n",
       "2388   4/22/2023      Logan  Miller Bowl, East  Snowmobiler   \n",
       "2389   4/22/2023      Logan     Millville Peak  Snowboarder   \n",
       "2390    5/7/2023  Salt Lake   Red Top Mountain      Natural   \n",
       "2391    5/9/2023  Salt Lake          Microwave        Skier   \n",
       "\n",
       "                      ;Weak Layer Depth_inches  Width_inches  Vertical_inches  \\\n",
       "0     New Snow/Old Snow Interface         14.0         960.0            360.0   \n",
       "1     New Snow/Old Snow Interface         30.0        1200.0           1200.0   \n",
       "2                          Facets         36.0         840.0           5400.0   \n",
       "3                        New Snow        18.0\"         600.0           6000.0   \n",
       "4                          Facets         42.0       18000.0           9600.0   \n",
       "...                           ...          ...           ...              ...   \n",
       "2387  New Snow/Old Snow Interface          8.0         720.0           1800.0   \n",
       "2388  New Snow/Old Snow Interface         18.0         540.0           4800.0   \n",
       "2389  New Snow/Old Snow Interface         12.0        3600.0           7200.0   \n",
       "2390                      Unknown         72.0        3000.0          12000.0   \n",
       "2391                      Unknown          6.0         300.0           2400.0   \n",
       "\n",
       "        ;Aspect  Elevation_feet                         Coordinates  \\\n",
       "0         North         10400.0  40.577977000000, -111.595817000000   \n",
       "1         North          9700.0  40.592619000000, -111.616099000000   \n",
       "2         North         10200.0  40.599291000000, -111.642315000000   \n",
       "3     Southeast         10200.0  40.598313000000, -111.628304000000   \n",
       "4         North         10400.0  40.578590000000, -111.595087000000   \n",
       "...         ...             ...                                 ...   \n",
       "2387       East          9800.0  40.592721660567, -111.649613218710   \n",
       "2388      North          8700.0  41.886233332343, -111.645074831510   \n",
       "2389      North          8900.0  41.677564539953, -111.718065248970   \n",
       "2390       West         10800.0  40.546874131921, -111.663880335390   \n",
       "2391       West         10000.0  40.589449603656, -111.613240229200   \n",
       "\n",
       "                                             Comments 1  \n",
       "0     While it was a small avalanche that was I caug...  \n",
       "1     A North facing aspect with an exposed ridge in...  \n",
       "2     Remotely triggered all the new storm snow (abo...  \n",
       "3     Impressive fast powder cloud ran in front of t...  \n",
       "4     Three of us toured from Brighton to low saddle...  \n",
       "...                                                 ...  \n",
       "2387  We spent the day skiing the southerly-facing a...  \n",
       "2388  Not sure about the story here, but we observed...  \n",
       "2389  Details are a bit limited and we're not sure w...  \n",
       "2390  Saw this avalanche around 9.30 AM from the top...  \n",
       "2391  Intentionally triggered during a ski cut. Ran ...  \n",
       "\n",
       "[2392 rows x 12 columns]"
      ]
     },
     "execution_count": 13,
     "metadata": {},
     "output_type": "execute_result"
    }
   ],
   "source": [
    "df = pd.read_csv('./avalanches_data.csv')\n",
    "df"
   ]
  },
  {
   "cell_type": "markdown",
   "id": "7cc10d2b-9b1e-46f4-9769-b9a0ac0c9e8f",
   "metadata": {
    "__GENERATED_DATAFRAMES__": "{\"nodeDataframes\":{},\"graphDataframes\":null}",
    "show_aggregate_original": "false",
    "trrack_graph": "ᯡ࠽䈌ʀ匦㢠⹰ૠ㌬Ā჻R〶䁃lyٹ⁓f䍐ۢ䧪㈉◔ฅޡ䨲⠠䬱䑁棒瀱Ⴭ⭱妻ݎẜʤ䐡傠ǖ悃РኤРᜰ結üメ浪巟㈠ᣠˬ⃪$熒‣㐡㬚͇⦲༿⸂໡壡‡犀⒂ଠᎭॣ䥡⊃㡹稠嬸ූᑤඦҡ哹䑀妨䤝͕䀺慽䈩瞤∡㼚ƶ嵖᯦悡檩ǣ᪀畖o#䖊⠃ܑ璌⃥⹾䞌᧒Т⺈ᆡ⇳㴑䒤㒌ŭ᯸丈◡戱⃰潅Ԧ秐噑๦磜疶溂⒀ᒪ扖⋦ူⶃ㧄మྡྷშ⨭རㅸ瘭ǅ爘䅐䘆砠址䑂㥨㈼㹯䕈䓵ᒹ憴婊③ᤠ "
   },
   "source": [
    "# Task 1: Refining Columns and Preparing Data\n",
    "\n",
    "In the first task we will perform some basic data cleaning operations to get our dataset ready for further tasks."
   ]
  },
  {
   "cell_type": "markdown",
   "id": "8934b219-dd97-4e3e-9aa9-0dd7a9d62ad5",
   "metadata": {
    "__GENERATED_DATAFRAMES__": "{\"nodeDataframes\":{},\"graphDataframes\":null}",
    "show_aggregate_original": "false",
    "trrack_graph": "ᯡ࠽䈌ʀ匦㢠⹰ૠ㬠氤〥䌸瀶䀹䁣๲ৠܦᔨҀᣴ䂼䋃‣ᓆ做►䀳ല⠠䭈⑁槑瀱ᝉ⍮冫㭮ẜʦ䒠ǁ#㕀挸晠ኤРᝣၐüムṁǟ㤉䀥䉸攠ʓ㥀ǔÚ⎃஥䤫䒄攭ᇸ惀Ēいᘦᖠೣ䗫⃂変ⱦ{ఽ咼∪⌤䋵汄ჹ䑈冣ᛠඉⵆܔ⍂Þ⍡歹ম悩溩Ǡ媁疖o#䖓瀃ʅ璌⁅溮杲◒Ъ⍁䔶户ࣉⓢ削౐䘰䵥䌂んḸئԢ灐糕൤㧶ⶬ䲱䅲ᗈ撯ౠ惍䈅䥐属ѣ၈⩍སヸ๗௧焤ᄸ䒰Ž䅰䔉燩壥༲刳樲⭮✈咰ᒄ  "
   },
   "source": [
    "### **Task 1a: Remove Columns**"
   ]
  },
  {
   "cell_type": "markdown",
   "id": "47b531d4-2e3a-4e9a-b92a-39aebfc3deb6",
   "metadata": {
    "__GENERATED_DATAFRAMES__": "{\"nodeDataframes\":{},\"graphDataframes\":null}",
    "show_aggregate_original": "false",
    "trrack_graph": "ᯡ࠽䈌ʀ匦㢠⹰ૠ㬠氤〥䌸瀶䀹䁣๲ৠܦᔨҀᣴ䂼䋃‣ᓆ做►䀳ല⠠䭈⑁槑瀱ᝉ⍮冫㭮ẜʦ䒠ǁ#㕀挸晠ኤРᝣၐüムṁǟ㤉䀥䉸攠ʓ㥀ǔÚ⎃஥䤫䒄攭ᇸ惀Ēいᘦᖠೣ䗫⃂変ⱦ{ఽ咼∪⌤䋵汄ჹ䑈冣ᛠඉⵆܔ⍂Þ⍡歹ম悩溩Ǡ媁疖o#䖓瀃ʅ璌⁅溮杲◒Ъ⍁䔶户ࣉⓢ削౐䘰䵥䌂んḸئԢ灐糕൤㧶ⶬ䲱䅲ᗈ撯ౠ惍䈅䥐属ѣ၈⩍སヸ๗௧焤ᄸ䒰Ž䅰䔉燩壥༲刳樲⭮✈咰ᒄ  "
   },
   "source": [
    "Remove the follwoing columns to streamline the dataset for further analysis:\n",
    "- **_Comments 1:_** Contains textual comments not crucial for quantitative analysis.\n",
    "- **_Coordinates:_** Detailed location data not needed for the current scope of analysis."
   ]
  },
  {
   "cell_type": "markdown",
   "id": "aec9ad2a-ab09-4288-b8fa-2852bcddda1a",
   "metadata": {},
   "source": [
    "#### **Instructions**\n",
    "1. **Column Removal:**\n",
    "\t- Use the interactive table feature in PersIst to remove the specified columns.\n",
    "3. **Verify the Output:**\n",
    "\t- Print the head of the generated dataframe to verify the changes."
   ]
  },
  {
   "cell_type": "code",
   "execution_count": 14,
   "id": "8e333ff3-cb24-430b-a332-733b41570ba4",
   "metadata": {
    "__GENERATED_DATAFRAMES__": "ᯡࠩ䃬࿀ᜤᠹ悋ᐨ推̅ሣ䧠ⶠ卍捯ᥔᠣ℠▢dʘϔᝠ捌〤瀵摠៨⠠ ",
    "__has_persist_output": true,
    "editable": true,
    "slideshow": {
     "slide_type": ""
    },
    "tags": [],
    "trrack_graph": "ᯡ࠽䈌ʀ匦㢠⹰ৠ↡䚈ᖥŐୠࣣĸ䐢慠㌬∠烀ᶣሗ䮆盺⥠怦㝎⒴E䨲࢔ⳙը⭳咂滳寏㽡ᆂ†桠ù傱䅛ဩ™+䣨ఠ㜸クࡢ汚㣠Ɖᅒ䀡᷼䠠洰ᩅᲤ䝠憇僱冉曉ᐲढ़ᒼ䔯⚃悁 傴ᐰN壤欉㉠ጸモ椖ᡈ\\䰩०恇痐倨䍔弃M䘾暡ᚫɣ⠍ሰ滤ҕ␤䞀ۗව䏗ᆵ㇞榘⦯っⲍ愶ビ笠➠Ǳ瘀ঠ掎幁ሾᎥ捡⳨࠺▱炘ര㇀࣬ᄠ䘰惸ⴠ䀱࢈ⱈ䏣Ҍత䝃ш㘫ᚁᱏ㯶⚈惍⏸炅仑㱥ѫᣩ⩥ᅀ㉹๰俪૥⥼喸ⅾ౮ၨ猌䩭ᜅࢹ㙷ဵ੅ᥢ凋䴕ហıр垠a䁠☠ᗼ㌢ഠソ䈲䀡㩢ಃ唡⽈₈Ȕ✓㋼璠ŀ呎্᭜᥉⇀壂Უȩ㑲㡬囅㤎㽂ℴ㒚̥⬹⾝巩燩ᠼἬ↰呺Ƥ拐ᱎާ怨䉱ᱤ棔浮喋气ѡ墎⋑琩䪃ᦢ梙䇪歍⮕壥塡㮝儋㪽儰䌅㣽㎰อრqスࣣ⻓ᐢɛಆ堼穚堗ᵉ玘㹀㺞怩ŀ摴V撁⯬悀䞯᫔缶†穪Ⱔ䂀⺈弯⬓㵳↉䀤ઐ罷䠘怠ᦣ⃗春㲐ᄫ౸ᚈ彦涠㠸ӣ案ూ㠺຺ㄴ䪨がɢ⡘⥠あ䥠䂔ሢ羑┠搰ᾀࢰฤ紴 䢯䔲洨ྊᵖ䂠中䘐繟䀫沋̣ѹག䭅ź咊懁殍ࣹ琶濤橚䨪⡵憸⍈曠捘攠ጲһ礴汁厚Ƹが掹䅑☺崈欻捞Їጼ‵傔榻㍇ڀⱰ∡産ⲋძ⎈ₑ䥐㱘ࢉ碷✁崰¥ჿ⪥籠䰱䈹懓猶呸┶⛨㥙⏩ᖞ⁲喁⇈Ζ滱㨾䟰ف䫩䐺౛♹乘ᙉ拒⽭䏑瘣䞙井楂⸳旙湝梛ཱི昪潻䖘漫招ధ曱Ὂ☁弯扥㽕䆥ゼᐥᲜᄧⓟ⸤࡯朦摻ⱶ୒埤Ӂሣ罠ឦ䂨ᱤ悰♦搮࿳䡔ูࡾॡᠺೣのʢਤ⊲㉜ସゎၣ椭 㹿倐㱝ႅ㱃ᣃ䬵ջ呺旀᭽೸౵歱屰➢ᤤ㞁ା㙻ᑪ曀歭ླྀ瑆濂嬠暈䈮孀峱䜄㳸墸ዴ沵˴去เ  "
   },
   "outputs": [
    {
     "data": {
      "application/vnd.jupyter.widget-view+json": {
       "model_id": "e0c87d7723bd44b383a87c0cfe9a1f99",
       "version_major": 2,
       "version_minor": 0
      },
      "text/plain": [
       "PersistWidget(data_values=[{'__id_column': '1', 'Date': 1352419200000, ';Region': 'Salt Lake', 'Place': 'Sunse…"
      ]
     },
     "execution_count": 14,
     "metadata": {},
     "output_type": "execute_result"
    }
   ],
   "source": [
    "PR.PersistTable(df, df_name=\"df_task_1a\")"
   ]
  },
  {
   "cell_type": "code",
   "execution_count": 15,
   "id": "f57bf06e-6a89-4251-b88d-a2c4fc3d7b19",
   "metadata": {},
   "outputs": [
    {
     "data": {
      "text/html": [
       "<div>\n",
       "<style scoped>\n",
       "    .dataframe tbody tr th:only-of-type {\n",
       "        vertical-align: middle;\n",
       "    }\n",
       "\n",
       "    .dataframe tbody tr th {\n",
       "        vertical-align: top;\n",
       "    }\n",
       "\n",
       "    .dataframe thead th {\n",
       "        text-align: right;\n",
       "    }\n",
       "</style>\n",
       "<table border=\"1\" class=\"dataframe\">\n",
       "  <thead>\n",
       "    <tr style=\"text-align: right;\">\n",
       "      <th></th>\n",
       "      <th>Date</th>\n",
       "      <th>;Region</th>\n",
       "      <th>Place</th>\n",
       "      <th>;Trigger</th>\n",
       "      <th>;Weak Layer</th>\n",
       "      <th>Depth_inches</th>\n",
       "      <th>Width_inches</th>\n",
       "      <th>Vertical_inches</th>\n",
       "      <th>;Aspect</th>\n",
       "      <th>Elevation_feet</th>\n",
       "    </tr>\n",
       "  </thead>\n",
       "  <tbody>\n",
       "    <tr>\n",
       "      <th>0</th>\n",
       "      <td>2012-11-09</td>\n",
       "      <td>Salt Lake</td>\n",
       "      <td>Sunset Peak</td>\n",
       "      <td>Snowboarder</td>\n",
       "      <td>New Snow/Old Snow Interface</td>\n",
       "      <td>14.0</td>\n",
       "      <td>960</td>\n",
       "      <td>360.0</td>\n",
       "      <td>North</td>\n",
       "      <td>10400.0</td>\n",
       "    </tr>\n",
       "    <tr>\n",
       "      <th>1</th>\n",
       "      <td>2012-11-11</td>\n",
       "      <td>Salt Lake</td>\n",
       "      <td>Patsy Marly</td>\n",
       "      <td>Skier</td>\n",
       "      <td>New Snow/Old Snow Interface</td>\n",
       "      <td>30.0</td>\n",
       "      <td>1200</td>\n",
       "      <td>1200.0</td>\n",
       "      <td>North</td>\n",
       "      <td>9700.0</td>\n",
       "    </tr>\n",
       "    <tr>\n",
       "      <th>2</th>\n",
       "      <td>2012-11-11</td>\n",
       "      <td>Salt Lake</td>\n",
       "      <td>Two Dogs</td>\n",
       "      <td>Skier</td>\n",
       "      <td>Facets</td>\n",
       "      <td>36.0</td>\n",
       "      <td>840</td>\n",
       "      <td>5400.0</td>\n",
       "      <td>North</td>\n",
       "      <td>10200.0</td>\n",
       "    </tr>\n",
       "    <tr>\n",
       "      <th>3</th>\n",
       "      <td>2012-11-11</td>\n",
       "      <td>Salt Lake</td>\n",
       "      <td>Emma Ridges</td>\n",
       "      <td>Skier</td>\n",
       "      <td>New Snow</td>\n",
       "      <td>18.0\"</td>\n",
       "      <td>600</td>\n",
       "      <td>6000.0</td>\n",
       "      <td>Southeast</td>\n",
       "      <td>10200.0</td>\n",
       "    </tr>\n",
       "    <tr>\n",
       "      <th>4</th>\n",
       "      <td>2012-11-11</td>\n",
       "      <td>Salt Lake</td>\n",
       "      <td>Sunset Peak</td>\n",
       "      <td>Skier</td>\n",
       "      <td>Facets</td>\n",
       "      <td>42.0</td>\n",
       "      <td>18000</td>\n",
       "      <td>9600.0</td>\n",
       "      <td>North</td>\n",
       "      <td>10400.0</td>\n",
       "    </tr>\n",
       "  </tbody>\n",
       "</table>\n",
       "</div>"
      ],
      "text/plain": [
       "        Date    ;Region        Place     ;Trigger  \\\n",
       "0 2012-11-09  Salt Lake  Sunset Peak  Snowboarder   \n",
       "1 2012-11-11  Salt Lake  Patsy Marly        Skier   \n",
       "2 2012-11-11  Salt Lake     Two Dogs        Skier   \n",
       "3 2012-11-11  Salt Lake  Emma Ridges        Skier   \n",
       "4 2012-11-11  Salt Lake  Sunset Peak        Skier   \n",
       "\n",
       "                   ;Weak Layer Depth_inches  Width_inches  Vertical_inches  \\\n",
       "0  New Snow/Old Snow Interface         14.0           960            360.0   \n",
       "1  New Snow/Old Snow Interface         30.0          1200           1200.0   \n",
       "2                       Facets         36.0           840           5400.0   \n",
       "3                     New Snow        18.0\"           600           6000.0   \n",
       "4                       Facets         42.0         18000           9600.0   \n",
       "\n",
       "     ;Aspect  Elevation_feet  \n",
       "0      North         10400.0  \n",
       "1      North          9700.0  \n",
       "2      North         10200.0  \n",
       "3  Southeast         10200.0  \n",
       "4      North         10400.0  "
      ]
     },
     "execution_count": 15,
     "metadata": {},
     "output_type": "execute_result"
    }
   ],
   "source": [
    "df_task_1a.head()"
   ]
  },
  {
   "cell_type": "markdown",
   "id": "36c62d50-9c88-4ed9-8c97-e552a6e4c620",
   "metadata": {},
   "source": [
    "### **Task 1b: Fix Column Names**"
   ]
  },
  {
   "cell_type": "markdown",
   "id": "ab8f8f24-afd2-424f-ab34-3e3cde723aa3",
   "metadata": {
    "trrack_graph": "ᯡ࠽䈌ʀ匦㢠⹰ࢀㆪこ<ǐʀ୥崡汤Ɓ䔠⍂⠨撂䂼ì债晶堪慯掩ᐠ▴ሰ璹㤨䮲减ⓥ䢧᜾㺣䉠ð䀡壅冨㕀ॢȠ௞䠸ᢀ眰䅽忖䀢晐樠Ԃ牠ΈƔڦ❓ሠƠ暬ॡ声Ȅ恨䙜⬮ಬ俨⫣䞐డ㙐᬴⣔䰲ճ㌰䊆၂۔欠㖹┰᧶༨̘ඛฌ琻ɋ㉄ܠ榡哸Ŝ.ؗ⾬ള勑̵㯺ᱱ曨ဩᒡᾪ३⁂惡৒ј⪖ᩋࢶ䥣䍢ᇃ⢀☾ԣ䖎㑝䳓ⳄⓀ᪱ĦҐ戤׌㝔䆦成扉ڠ凈㨣ೣㅘ湏Bࡤ䒠ଈତޗ٩䟨㣜㥨◈ᩲ㭡⟢䀠 "
   },
   "source": [
    "It looks like something went wrong when reading the file and some column headers start with a `;`. **Please remove the semicolon from all headers**. "
   ]
  },
  {
   "cell_type": "markdown",
   "id": "63f4d5c5-9383-4857-beae-0cfa6ba466f2",
   "metadata": {},
   "source": [
    "#### **Instructions**\n",
    "1. **Rename Columns:**\n",
    "    - Use the interactive  table in Persist to correct the column names by removing the leading `;` from their names:\n",
    "        - _;Aspect_ → _Aspect_\n",
    "        - _;Region_ → _Region_\n",
    "        - _;Trigger_ → _Trigger_\n",
    "        - _;Weak Layer_ → _Weak Layer_\n",
    "2. **Verify the Output:**\n",
    "\t- Print the head of the generated dataframe to verify the changes."
   ]
  },
  {
   "cell_type": "code",
   "execution_count": 16,
   "id": "e74dd265-2437-40e4-8673-be7ea1d079b3",
   "metadata": {
    "__GENERATED_DATAFRAMES__": "ᯡࠩ䃬࿀ᜤᠹ悋ᐨ怱䐢犲ǩ怶恉宑召䵬ð䀲悠ᄡḡ沯偑嬸Ř˛ࠥ笪  ",
    "__has_persist_output": true,
    "trrack_graph": "ᯡ࠽䈌ʀ匦㢠⹰Ӣ䆸ᆠ㌣෰ୣc¼动ˠᖷ⹤ɗ擠ใ㓣ᚡ汐Ǔ兔明䒴E䨲ࡔⲙѨ⥳傌櫣䮯㽁ᆂ†桠ú䥑䅛ဩ™+䣨ఠ㜸クࡢ汚㿠Ɖᅒ䀡᷼䠠洰⽖Ჭ䩮䘆儲硱ᠼ檔᭞ࢴ䙀ቂ䎃⣸ぬ㔔఩␠ௌㅕ㩹ᅑ䜘ヲ㶬ਠཆɦ挒ェᣔ䱘穙Ը怫ㆧ媰②⒀䢙緄䈯墡௉ő氡図到䈄⛀ఌㅟ⼂䨑瘨淽尺昱㾀Ԑ[廜Ő㸠眘₲ީ憒䡶㈤ڲ攄㸥ɨжᄻʂ䠥ॢ䚂䢸ਣ⊃⢗ⴵ䏥塮៷疱媄❤Ú᧦౮ၩ቉ᩣየ犙㨠剈䪅ժ僄憐垥侪ዩ⩽ᇃ㧙㹰噊䬅☲囋欆፫曓峄ⳠG恀ጠ଍ᦡڠᮯ⠣䱖⮝䄤ᰍ䝳䣷˜ジ䀠紳㳹㘙ƀ䟹୤ʌ嚦䪀䐴ᬯ䋉㡖ᬤ⇐ɲᚦ䜑撌ᬪ᭧⦗垍碽湯๡䄀҂಩⃱瑦֮抑属ၬኩ扶巉椔嬡墇䰶捞ڇᡌㄅ喁毛侃ᾁļ❓娅㥌ⅻ弈箽䙘ᩣ!∬⁏㦥‰㼄͕䁷秳㶘㪟⠪䰘䄅綠Ⴅ↱⠢Μ夬᎜㌿Ϝ挫簘夠ϳ彿溈㼿⠊ͳ↉穋䀥ď⌢䄛䄦㼮䴥㰸ᜫ౨⢦摼௠ࡢʠ犌䚸桂⌡ࡩ䥱冊ኣ猢挡塈ʠᥣ֦摲Ԡ摨ᑦ愄᭐ᨹ㐠ⳉȣ摴ፕ⾨ה〣哸㘮侕೎怤䂨ጥ瘾嗡㉜䗌䨣㕱䷁ደ᷎䜌ن炈湔ᛡᯏڭ硌㈸লㅬ䲆㛭㦯ੌ氩㑹抴ㆬ燐⹬㑊㝭慮〸円ٌ⠡୐ᙔᜑ窱刭桭倠⩁ባ媖䘡Ҧ姴᩵⛋啁ϳ㡾䐡䤡䳉ۍౕԁᮁÔথ烜ਦ億ᖯᣴᵖ偈ᔷႜឥ攈ᚦᑈ䨦刜ᛄ䥞䫔䪌䙴猒孄⪜奴ઊ䍰劝亲瓝ῄౣᒖ恹Ქ炳庄ⳓ䇧亚㆓沧ᤅᲯ嬆溲ༀ㱯ހṧ唕愇䨅/堻弈枂㺏Ё簿䰑纊㨰䑂✮䰰෢㡰㩩ᕐṮڀ᥮籐㭭椸㡩 㑯৴橩ᅝ↿⇬疹㗕㻈℺㙣஍⡫ᏽ㜫Ĥ⚹ᆄ␠兲毠⑰ᓁ䃸Π⌈᥆儗ᵎ቙婖偤䊋ࡰঢ〬壯碠堵Ⱦዮ奕內噊ৗ⣍姩桽彧࠾㇆䉈᎓ള⪉䷙ࢰ⵫㖩ⴳ㶌淴ᮍ涺㹎䞳㪍䴩暢➌㖋❻⦡洳㽎橥⽵竅Ⅺ嫶䀧⦰ΰ栠ᥲਓ櫦匊寲໽㮾绷౯╸竴ᣮ䍀䑕㙈䏖瀶஡扖ၢ壬䬹墡ಬ㎔ྣ㉼ԡをѓ盢ᢖ摟ᢵˤ抷ॐ喺㌗崶抧匚ܷ剘磖ຳ〿嵙‿瓶Ɠ憨ᣎᡗ⺌㒦ᷫٗ䢙〩౱冁㇎抃㘀渣旦ᡯɾ࡭偸丟஻ア塳ᕔ䦛قဣʢ棼⋺梅䉺パԓҴᅪෆ笏⚔ዅⳠ㲧寘◑᪋ࠧ烮琱盌懼掤硼ԙ䎦喻ҋࠅ偺΀䨩婙A搧㒈ᣃᏞΰŤ戴⋈带愅̠噢炽䗹䳛奸某⡚晰䛦偍䧁涨ᴔߑӉ䎧ሧ⁭摾昊弄ໝ犫㲬㞙塞稿㈓౓猴ᤥ灁ᾠ⯠求㎘॔⛑ⱨᾔ䡩吉䁮t㪸哘㣲ᮭ倠₼̜ϣ督⏉ڸ炃槴Ꮾ䳇崨柘㌭ᠯᙫ猐崋ล潔䗹㕫䅃叆㥷ᾧ癇刼埊ၜ☕ㄠ̞䖀ǚ愣ᠮ⹵朦䰵峐ᆘ恁ɯ഑悅炀堯₨ㄠ柯⑘ᾭ㈿Ȱ䢧⒉ٳ㋗玊ශ䚏ↂᱜ䱓䵞Ⱪ塪娜嵒୅ᘁ止樇䥌ᾡਾ๸塬䕋㲪僲ቱ畁紘ྠ琼ҸÁᡍͰ๦偋৬㱢╤ీᙞ爐恄扛ó壗ヒ䜵灖⸍⹁昝叧㑇ㄘ箷吠䱠樤擽➀喯䩼㻩綧䗖࣍㤰琐㍢ࡣሠ楃ዷ尪≮┏ṫ䓢䥞㐁㡠  "
   },
   "outputs": [
    {
     "data": {
      "application/vnd.jupyter.widget-view+json": {
       "model_id": "7c074e70871743bbbd52017ad855fe63",
       "version_major": 2,
       "version_minor": 0
      },
      "text/plain": [
       "PersistWidget(data_values=[{'__id_column': '1', 'Date': 1352419200000, ';Region': 'Salt Lake', 'Place': 'Sunse…"
      ]
     },
     "execution_count": 16,
     "metadata": {},
     "output_type": "execute_result"
    }
   ],
   "source": [
    "PR.PersistTable(df_task_1a, df_name=\"df_task_1b\")"
   ]
  },
  {
   "cell_type": "code",
   "execution_count": 17,
   "id": "941d549a-9936-419c-97b3-b8c39cf67c9d",
   "metadata": {},
   "outputs": [
    {
     "data": {
      "text/html": [
       "<div>\n",
       "<style scoped>\n",
       "    .dataframe tbody tr th:only-of-type {\n",
       "        vertical-align: middle;\n",
       "    }\n",
       "\n",
       "    .dataframe tbody tr th {\n",
       "        vertical-align: top;\n",
       "    }\n",
       "\n",
       "    .dataframe thead th {\n",
       "        text-align: right;\n",
       "    }\n",
       "</style>\n",
       "<table border=\"1\" class=\"dataframe\">\n",
       "  <thead>\n",
       "    <tr style=\"text-align: right;\">\n",
       "      <th></th>\n",
       "      <th>Date</th>\n",
       "      <th>Region</th>\n",
       "      <th>Place</th>\n",
       "      <th>Trigger</th>\n",
       "      <th>Weak Layer</th>\n",
       "      <th>Depth_inches</th>\n",
       "      <th>Width_inches</th>\n",
       "      <th>Vertical_inches</th>\n",
       "      <th>Aspect</th>\n",
       "      <th>Elevation_feet</th>\n",
       "    </tr>\n",
       "  </thead>\n",
       "  <tbody>\n",
       "    <tr>\n",
       "      <th>0</th>\n",
       "      <td>2012-11-09</td>\n",
       "      <td>Salt Lake</td>\n",
       "      <td>Sunset Peak</td>\n",
       "      <td>Snowboarder</td>\n",
       "      <td>New Snow/Old Snow Interface</td>\n",
       "      <td>14.0</td>\n",
       "      <td>960</td>\n",
       "      <td>360.0</td>\n",
       "      <td>North</td>\n",
       "      <td>10400.0</td>\n",
       "    </tr>\n",
       "    <tr>\n",
       "      <th>1</th>\n",
       "      <td>2012-11-11</td>\n",
       "      <td>Salt Lake</td>\n",
       "      <td>Patsy Marly</td>\n",
       "      <td>Skier</td>\n",
       "      <td>New Snow/Old Snow Interface</td>\n",
       "      <td>30.0</td>\n",
       "      <td>1200</td>\n",
       "      <td>1200.0</td>\n",
       "      <td>North</td>\n",
       "      <td>9700.0</td>\n",
       "    </tr>\n",
       "    <tr>\n",
       "      <th>2</th>\n",
       "      <td>2012-11-11</td>\n",
       "      <td>Salt Lake</td>\n",
       "      <td>Two Dogs</td>\n",
       "      <td>Skier</td>\n",
       "      <td>Facets</td>\n",
       "      <td>36.0</td>\n",
       "      <td>840</td>\n",
       "      <td>5400.0</td>\n",
       "      <td>North</td>\n",
       "      <td>10200.0</td>\n",
       "    </tr>\n",
       "    <tr>\n",
       "      <th>3</th>\n",
       "      <td>2012-11-11</td>\n",
       "      <td>Salt Lake</td>\n",
       "      <td>Emma Ridges</td>\n",
       "      <td>Skier</td>\n",
       "      <td>New Snow</td>\n",
       "      <td>18.0”</td>\n",
       "      <td>600</td>\n",
       "      <td>6000.0</td>\n",
       "      <td>Southeast</td>\n",
       "      <td>10200.0</td>\n",
       "    </tr>\n",
       "    <tr>\n",
       "      <th>4</th>\n",
       "      <td>2012-11-11</td>\n",
       "      <td>Salt Lake</td>\n",
       "      <td>Sunset Peak</td>\n",
       "      <td>Skier</td>\n",
       "      <td>Facets</td>\n",
       "      <td>42.0</td>\n",
       "      <td>18000</td>\n",
       "      <td>9600.0</td>\n",
       "      <td>North</td>\n",
       "      <td>10400.0</td>\n",
       "    </tr>\n",
       "  </tbody>\n",
       "</table>\n",
       "</div>"
      ],
      "text/plain": [
       "        Date     Region        Place      Trigger  \\\n",
       "0 2012-11-09  Salt Lake  Sunset Peak  Snowboarder   \n",
       "1 2012-11-11  Salt Lake  Patsy Marly        Skier   \n",
       "2 2012-11-11  Salt Lake     Two Dogs        Skier   \n",
       "3 2012-11-11  Salt Lake  Emma Ridges        Skier   \n",
       "4 2012-11-11  Salt Lake  Sunset Peak        Skier   \n",
       "\n",
       "                    Weak Layer Depth_inches  Width_inches  Vertical_inches  \\\n",
       "0  New Snow/Old Snow Interface         14.0           960            360.0   \n",
       "1  New Snow/Old Snow Interface         30.0          1200           1200.0   \n",
       "2                       Facets         36.0           840           5400.0   \n",
       "3                     New Snow        18.0”           600           6000.0   \n",
       "4                       Facets         42.0         18000           9600.0   \n",
       "\n",
       "      Aspect  Elevation_feet  \n",
       "0      North         10400.0  \n",
       "1      North          9700.0  \n",
       "2      North         10200.0  \n",
       "3  Southeast         10200.0  \n",
       "4      North         10400.0  "
      ]
     },
     "execution_count": 17,
     "metadata": {},
     "output_type": "execute_result"
    }
   ],
   "source": [
    "df_task_1b.head()"
   ]
  },
  {
   "cell_type": "markdown",
   "id": "3875e7fc-ec40-4241-aa94-87b31e59944f",
   "metadata": {},
   "source": [
    "## **Task 1c: Correcting Data Type of 'Depth_inches'**"
   ]
  },
  {
   "cell_type": "markdown",
   "id": "7a7eebda-1b60-4bff-89d3-a5548a601b49",
   "metadata": {},
   "source": [
    "There is a data type issue in the `Depth_inches` column of our dataframe. This column is incorrectly formatted as an object (string) due to the presence of the inches symbol `\"`.\n",
    "\n",
    "Remove any inches symbols `\"` from the `Depth_inches` column and convert it to a float data type."
   ]
  },
  {
   "cell_type": "code",
   "execution_count": 18,
   "id": "fb9bff61-9a8d-4114-97f3-4f6d0cd0e61e",
   "metadata": {},
   "outputs": [
    {
     "data": {
      "text/plain": [
       "Date               datetime64[ns]\n",
       "Region             string[python]\n",
       "Place              string[python]\n",
       "Trigger            string[python]\n",
       "Weak Layer         string[python]\n",
       "Depth_inches       string[python]\n",
       "Width_inches                Int64\n",
       "Vertical_inches           Float64\n",
       "Aspect             string[python]\n",
       "Elevation_feet            Float64\n",
       "dtype: object"
      ]
     },
     "execution_count": 18,
     "metadata": {},
     "output_type": "execute_result"
    }
   ],
   "source": [
    "df_task_1b.dtypes"
   ]
  },
  {
   "cell_type": "markdown",
   "id": "b23913ac-ea3c-4ca1-8ac3-07d3026ca76e",
   "metadata": {
    "__GENERATED_DATAFRAMES__": "{\"nodeDataframes\":{},\"graphDataframes\":null}",
    "show_aggregate_original": "false",
    "trrack_graph": "ᯡ࠽䈌ʀ匦㢠⹰ೠ↺΀Ơ瘢ᠢᠫ‵䁇ፉ䐢怣侽振ၑ䶃᪰঵䂆⹉多䪲┠অҤᴶṂ㊵嘊᭓ㄅ毠㒰䣑Tဠ㚉҃೨ɰ䂠̂҆;䘸Ϥၗ眼䋐Ð䬹†于␠㚠ᝨ沂烒⎁൸憈㬸ᐠṬү䓧Ⴠ椓ᣘ⌚ᆠᛦކ䜱ǁ䅀㖖नຂᩈ桫〦塵偢㶱⢠⾱䂅埦䖃塀㪂ₐ暸ᵽ䀳怠煼砤慸㴻ࠩ㯏姭ঌ䄢䣫䧙㱈刱ㄿᬦ䩫⏃㌱楫磤ⰴຣα晼ਫ䎁㺕䮃Ⴤご䖂᥂挰ы゙㈬ܠ₰ᑊІ僑汮ޯ戩䉱៪怡⹁ᡤ甑擸抯॰ᡬᅓ╄璚╄㈠ "
   },
   "source": [
    "#### **Instructions**\n",
    "1. **Identify Entries with Inches Symbol:**\n",
    "    - Use the interactive table in Persist to look for rows with `\"` in `Depth_inches` column\n",
    "    - _Hint_: You can search in the interactive table\n",
    "2. **Edit and Correct Entries:**\n",
    "    - Edit the cells to remove the inches symbol from these entries. (e.g. `15\"` → `15`)\n",
    "3. **Convert Data Type:**\n",
    "    - Change the data type of the `Depth_inches` column from string to float.\n",
    "3. **Verify the Output:**\n",
    "\t- Print the head of the generated dataframe to verify the changes."
   ]
  },
  {
   "cell_type": "code",
   "execution_count": 19,
   "id": "7cb9b796-3aa5-4181-bf91-fa8ba7e33c20",
   "metadata": {
    "__GENERATED_DATAFRAMES__": "ᯡࠩ䃬࿀ᜤᠹ悋ᐨ恑䐢犲ǩ怶恉宑召䵬ð䀲悠ᄡḡ沯妶ᠢ㠪癀ఄᐠ ",
    "__has_persist_output": true,
    "trrack_graph": "ᯡ࠽䈌ʀ匦㢠⹰ˠᆡي䴦〣䁍ㄡ墩⿎ന৯䍂眵Sᶆ熥ΕᔠঅҤᴶยጅᗊ桒㟊懫䞿ࠠᨰVಈ㇖䐢⡠䀢瓲̠෦థ戰ᐇឨzފ䀤珔䀻▆䎀ɐ9ⅈ䈪᭑Ⴅʦ‥㈰む憑抜ᴠᶤᱦ䃃匀偠Úⶍඡ䤬ᗌ☐憸惀Ēい࡮ⱇ厷ℭ愆ኒ娠嬸ᦦdƦҤ䶺рᶨ缪䠺ᓠඊᣦ禌˪Þⵝ拻̸䚀䕿ⷠᚁ历o#刑漃ق滜℥癫᫡䈹䠰ᡪဠ䲰䨯兡䉤Ѧū慩ࡵᎦࢰ嬧ᆢ਼ቭͣ炶௽田ᩐ፱牚楺ṔႨ䉱౮ၫዉ㩳ᛩ爥ᅤ嚸↮͜ᒫ⌘Ȿᑨ劉٤䈇犥㙠ⳉ瑕⎠յ㳀橴 ጰႍ*甹䂚䀼䀡࣡⽓෠Јſᰢ棱痢#柉ℕ㌤উؐ=ు㙹啠㡵Ȩ昧㢠㈹甯௫烍ļ圦⇰汄䵈℄摈౏अ㧢Ἢ⃡а傴᭢ᡨ㘣䮴婷侇じ扬ᬧ䄱␪ṇᏱಆᥩ掑㲌嗨歔洵䯃榤細壉Ҥ⅑䊅ᦣ㎙䧄寇歭䈣娌ݻ䔃ᮙ杫嬈㦈炁ؠʩ墌㟾笥‰Єٕ䀿梑⾛䵩ṗ䈐䂖暃局∨ɰĢ幱ం幽ºⲈᜂ䐠ས┾ᚬѭ␲榃㲈䱠২䎰措䏰䄵ʺ㘸炐䑈≡㇉Аᤣ棰ㄤ䧋⸥Ɓ㱤䨐㩆䀲ᑠ懸܈泸ⱃ⑔㔺ၐᐢ჻ጻ䌭৆㐠Ღܸ炑ര㚽咕亻䞡ᒒ䤠䢊佳ᡶ䦂廑䴃≉⋂癭হຆ俕㡱ྒྷ汩䲐䇈㓃欷战缠ፐ䘬΀ṯ㒱綬䈼㐨瑰ⱛ¼橔狜啍䔤ℵ瓭姎㟭ב㕍旅ぬ㖽ㅠඳㆠⶸሴ⁙⧬秕㛊◌Ꮚ嗃⭡痄ᒍ䷅䗱穈ᄠ媮厼ڱ啕曕嗕皳匠⺻儔偗勁砿倬ᚨ⒥⇘㟅㘴㋐ㆼね娲ㄡ湇䈐繊愠䤦⇩敼⇤⠪ᑪ瑁ϡ慐ᷬ㥈樃䊛疍౺㌌⊳ᆄኻᚵ᲼勩㥂堅╝▼ⵛ┉嵏⠉ᰮ≨⠶璹匾睐ߒ搜➹矹䂉懝ȥ拘㜺撝侻焜崔戣㜶䀣䋺愢མཅ๔ජⅢ༒⢍埂习⦂䅣೷≉梪庝䷂⬅悂墎ඒ↛䲐ݭ䥳ۺ๖欓डⱦ䤡嬃䌨㑑ҥ硖⑀あⷡ煎ĀᗖҤב܀ᠽ٤汈榌䜴⫒㆟某ॲ⫖⥿㚱εӪਸ痫⨴码֕┥Ⴕ甛䑗櫭㽰性⇨᥍䄲₧ָ⚧᧰䄱อ㯎搣䀛煀ḧ㡈ᮎᷴᥠㄊ冻≜淴䮎䵺晦泓瀮欔竉浚䞀㉩杤㋚ऍ潂ྋ䅭⾚ㄡႬ̈╊狤ࢰ㽠䷘粤摁хⰺҤ㤸䆋ፒ懛㏣⢦番吊⋠᪅䊱畺妋ᒋ᫘櫕ஃ捊⎼䊈䂫䉭⮿僨ኸ䁘捳⼃䱚㑸ڂᘻෑ㬥䵏ය潀孰吅䂞㔜᮪Ă滐拷砸␢䃓⍫␳䮌ၶ喫㙀ݤ໿撽䜫㖥婡ⶃ死ၖ⤴㘸⭂曯㓼䥧坄჻ዓ孵㋱ᝊ眎懑彿‱ӑ䈻⧐㱤㙀㐂尧घʠԭĈḰ〤↤⑶⚏䘘㔏઩Ⲵሧᰧᙠை煈㆔井ݎ拄䃘֙矱籰ᨚ⅋篤䀒䁯眞怃䀠ᐣ混ĥ࿙澣窆♪Ό什岱纘؜㿯䖪〧⟯㫃䶍♾ᵂ媶仜ᙫ㓌嗳崮窽ᴣ倣煚沼㺷⧹∴䔎䊫ጫ槆 Å倎⿃窤ࠔ䷹扇嗛䇄ᦗⴒ┬෴氻䇫䝡奙䧓સ睈˳ˤṦ㗁珪曷䓢徧䰤⾻弧ԫἬ˾น䄱磀ྥ∴⎬兹咔䚈挷⮇ぱ㞁抚ᘰ⩒≱⓻᳓宻ᙍ԰ʹ㌊兞⁫໻⎔∥塄ᇂ㱁ᚂ晼碮‮ហ┢売ᜡሲ⌰ଢ㊲≮䂺云↽慗壄੄㋜䋤乱⠤䡊䪡⹨ʠ璪⍬௓䐬嗅ẖ๢玩敿䬜ཱ䚻懠㇣剭▄乯㾜争䊶樟懲敒䒠  "
   },
   "outputs": [
    {
     "data": {
      "application/vnd.jupyter.widget-view+json": {
       "model_id": "3a72958194ee437384c8a01f876b5271",
       "version_major": 2,
       "version_minor": 0
      },
      "text/plain": [
       "PersistWidget(data_values=[{'__id_column': '1', 'Date': 1352419200000, 'Region': 'Salt Lake', 'Place': 'Sunset…"
      ]
     },
     "execution_count": 19,
     "metadata": {},
     "output_type": "execute_result"
    }
   ],
   "source": [
    "PR.PersistTable(df_task_1b, df_name=\"df_task_1c\")"
   ]
  },
  {
   "cell_type": "code",
   "execution_count": 22,
   "id": "35e89f19-aebf-461a-a2e7-6ce77dfd6a4a",
   "metadata": {},
   "outputs": [
    {
     "data": {
      "text/html": [
       "<div>\n",
       "<style scoped>\n",
       "    .dataframe tbody tr th:only-of-type {\n",
       "        vertical-align: middle;\n",
       "    }\n",
       "\n",
       "    .dataframe tbody tr th {\n",
       "        vertical-align: top;\n",
       "    }\n",
       "\n",
       "    .dataframe thead th {\n",
       "        text-align: right;\n",
       "    }\n",
       "</style>\n",
       "<table border=\"1\" class=\"dataframe\">\n",
       "  <thead>\n",
       "    <tr style=\"text-align: right;\">\n",
       "      <th></th>\n",
       "      <th>Date</th>\n",
       "      <th>Region</th>\n",
       "      <th>Place</th>\n",
       "      <th>Trigger</th>\n",
       "      <th>Weak Layer</th>\n",
       "      <th>Depth_inches</th>\n",
       "      <th>Width_inches</th>\n",
       "      <th>Vertical_inches</th>\n",
       "      <th>Aspect</th>\n",
       "      <th>Elevation_feet</th>\n",
       "    </tr>\n",
       "  </thead>\n",
       "  <tbody>\n",
       "    <tr>\n",
       "      <th>0</th>\n",
       "      <td>2012-11-09</td>\n",
       "      <td>Salt Lake</td>\n",
       "      <td>Sunset Peak</td>\n",
       "      <td>Snowboarder</td>\n",
       "      <td>New Snow/Old Snow Interface</td>\n",
       "      <td>14.0</td>\n",
       "      <td>960</td>\n",
       "      <td>360.0</td>\n",
       "      <td>North</td>\n",
       "      <td>10400.0</td>\n",
       "    </tr>\n",
       "    <tr>\n",
       "      <th>1</th>\n",
       "      <td>2012-11-11</td>\n",
       "      <td>Salt Lake</td>\n",
       "      <td>Patsy Marly</td>\n",
       "      <td>Skier</td>\n",
       "      <td>New Snow/Old Snow Interface</td>\n",
       "      <td>30.0</td>\n",
       "      <td>1200</td>\n",
       "      <td>1200.0</td>\n",
       "      <td>North</td>\n",
       "      <td>9700.0</td>\n",
       "    </tr>\n",
       "    <tr>\n",
       "      <th>2</th>\n",
       "      <td>2012-11-11</td>\n",
       "      <td>Salt Lake</td>\n",
       "      <td>Two Dogs</td>\n",
       "      <td>Skier</td>\n",
       "      <td>Facets</td>\n",
       "      <td>36.0</td>\n",
       "      <td>840</td>\n",
       "      <td>5400.0</td>\n",
       "      <td>North</td>\n",
       "      <td>10200.0</td>\n",
       "    </tr>\n",
       "    <tr>\n",
       "      <th>3</th>\n",
       "      <td>2012-11-11</td>\n",
       "      <td>Salt Lake</td>\n",
       "      <td>Emma Ridges</td>\n",
       "      <td>Skier</td>\n",
       "      <td>New Snow</td>\n",
       "      <td>18.0</td>\n",
       "      <td>600</td>\n",
       "      <td>6000.0</td>\n",
       "      <td>Southeast</td>\n",
       "      <td>10200.0</td>\n",
       "    </tr>\n",
       "    <tr>\n",
       "      <th>4</th>\n",
       "      <td>2012-11-11</td>\n",
       "      <td>Salt Lake</td>\n",
       "      <td>Sunset Peak</td>\n",
       "      <td>Skier</td>\n",
       "      <td>Facets</td>\n",
       "      <td>42.0</td>\n",
       "      <td>18000</td>\n",
       "      <td>9600.0</td>\n",
       "      <td>North</td>\n",
       "      <td>10400.0</td>\n",
       "    </tr>\n",
       "  </tbody>\n",
       "</table>\n",
       "</div>"
      ],
      "text/plain": [
       "        Date     Region        Place      Trigger  \\\n",
       "0 2012-11-09  Salt Lake  Sunset Peak  Snowboarder   \n",
       "1 2012-11-11  Salt Lake  Patsy Marly        Skier   \n",
       "2 2012-11-11  Salt Lake     Two Dogs        Skier   \n",
       "3 2012-11-11  Salt Lake  Emma Ridges        Skier   \n",
       "4 2012-11-11  Salt Lake  Sunset Peak        Skier   \n",
       "\n",
       "                    Weak Layer Depth_inches  Width_inches  Vertical_inches  \\\n",
       "0  New Snow/Old Snow Interface         14.0           960            360.0   \n",
       "1  New Snow/Old Snow Interface         30.0          1200           1200.0   \n",
       "2                       Facets         36.0           840           5400.0   \n",
       "3                     New Snow         18.0           600           6000.0   \n",
       "4                       Facets         42.0         18000           9600.0   \n",
       "\n",
       "      Aspect  Elevation_feet  \n",
       "0      North         10400.0  \n",
       "1      North          9700.0  \n",
       "2      North         10200.0  \n",
       "3  Southeast         10200.0  \n",
       "4      North         10400.0  "
      ]
     },
     "execution_count": 22,
     "metadata": {},
     "output_type": "execute_result"
    }
   ],
   "source": [
    "df_task_1c.head()"
   ]
  },
  {
   "cell_type": "markdown",
   "id": "753ed0a8-dc0b-4ac8-8afd-b554ea8f4d28",
   "metadata": {},
   "source": [
    "# Task 2: Filtering data\n",
    "\n",
    "In Task 2, we further improve our data by removing outliers and removing certain records to have more consistent data. "
   ]
  },
  {
   "cell_type": "markdown",
   "id": "7f25d8f5-98e8-4b0f-9358-ed85f77cbed8",
   "metadata": {},
   "source": [
    "## **Task 2a: Remove Outliers**"
   ]
  },
  {
   "cell_type": "markdown",
   "id": "ac53a605-2d10-4457-9625-70ce88f04f3b",
   "metadata": {},
   "source": [
    "In this task, we address data accuracy by filtering out anomalies in the elevation data. We observe some records with elevations outside the plausible range for Utah, suggesting recording errors.\n",
    "\n",
    "**Remove avalanche records with elevations below 2,100 feet and above 13,500 feet, which are outside the realistic range for Utah.**"
   ]
  },
  {
   "cell_type": "markdown",
   "id": "664c641e-1193-4233-8897-0161f209c86f",
   "metadata": {},
   "source": [
    "#### **Instructions**\n",
    "1. **Identify and Remove Anomalies:**\n",
    "    - Interactively select data points with elevations below 2,100 feet and above 13,500 feet in the Persist Scatterplot.\n",
    "    - Use Persist's interactive features to remove these anomalous records.\n",
    "2. **Verify the Output:**\n",
    "    - Print the head of the generated dataframe to verify the changes."
   ]
  },
  {
   "cell_type": "code",
   "execution_count": 27,
   "id": "73d5727a-f059-4bf3-977c-1ce0d6d92eba",
   "metadata": {
    "__GENERATED_DATAFRAMES__": "ᯡࠩ䃬࿀ᜤᠹ悋ᐤ推̅ሣ䧠ⶠ卍捯ᥔᠣ℠▢dʘϔᝠ捌〤瀵摠៨⠠ ",
    "__has_persist_output": true,
    "trrack_graph": "ᯡ࠽䈌ʀ匦㢠⹰ˠ㬠త〳䁓੘ׁ䁑僂⠤〵䚱ᰣㅳҴ穕䁣ᚈĀ惥撴E䨲࢔洘ᓨ⭳傌櫦᷇ྞ䇢†泘尌䠤傡%戯☠ᮬᢋ䑁曌沥အ㔿唠ৱ撠۴禱ぱై⹂ᆷᖥ੥⋂ሑ碑瑴♔ⰦԽӢ%樋瘌う䐬ỉ။䦃ʠϩ䂰墬ᱮ中m࣠چ咠ƌザ憄࠷ల๙㔰䋖ᆢ╀⨫U墋倁太ᐢ純㰓㱎⥅䄹㫗ι䂨䅌¾'㷫寬䇒碥क़㴌⹅♀䡼᱉\"㇁ᄶࢥ䅰屦ኧ憑䐤⌡԰呄嶥惰䥎̧悙佗剫⣡疛䄃⓵慨婋ࡂॄ䕆䢄夌坏䧁թ屮⟲儸乂杅⦔卅擠礢冡爹䙩,僉䠭ᐠ@Ť敠㺈堡窘బ㓴4Ⱝ࿷㕕䬤ৌതఠॣ劊Uి枺䡠懏甙怶䘮梔桘㹱䆔㴅㿥採唷޻昐ɡ㋤Ё₨槝剀⅔ò䇣䕘ᐢเケ牫䊡偖縸台幛⎹抲ヘĸ䞳ࢪ㴩䖥吼㜷䀱щ嵣⦉娽ᝧ勣婔ᘯ┻䘯㓶㟈ᙫ૯❸⁻໯㛙๳࿔⍘⹷㼄Σ䑐㛏Ŕ漯ᐢ߹琠⮸ȟ淯ⷥ␾⥎硠⮉㇜DѢ⠡~⒨ࡾ↪∎ஏ⣜⒠ȉₔ࿱徸౬敒㉘灢ঐ䡪ୣ恦໢ʾ䐥硸ড僀䅼㑅ǀ摅ࠈ簶ը⚪⏁祅㏬㐽ㄡ⑨ޣሽケ梅䓢⸶ಂѾ୳ፎ埐㮱兔挨⋔㚭 璜Ȱ恖僑桮健Ȿ匓笚Sa䑆吱彁ᦸዬၽܤᱲ♩㢒⏠䅪␢憀஥ഊオ✖忤䥚ಭ䥰ṩ冪㬭尰၅䗐␥绂ϐ碘ᑠ呰᜕Å㳌䡺㽵滦哶塕௢渵በ>ት熡匩ᕵ㋏扨筗氚䃫揠ᓵ哬盅慜滌䣘㻀狌啒㝌悰敺卜晹ᨺ杚త匤ཅƙୋb彋儈⏐爼據➱⦭ᚥ婙╰缻秠⼰欁وࢉု灔缱䙩喳犰澷煘匦Ȁ䤺⎖㤼䐖娰㣈㘴㪈৸⎾㵶㖀珻ᬆᠿᨶ拰䆶૪壶Ѿ婖䒟䪢⳧ᩐ㳩ੳ纤壳䫨䍶模䱖满⤸姕惠憢X⵨䟊䚳⤵⦁˸ܾᢠ募⊣⧍ᨤ㷳恦ࡴ樨∦毄䨺奠أf∯冐䉾ႀᠯ䂐曦䠋໵ڰࢸ⥒碲䋒ॣ䦄䘧ცṰ僴槱勮䐽则䗥ȑ緄ㆬ঴Ǝ⬧☎喰笾嶠ܼ䯺穼⿾穞柵箷䦿筼`窞㏯℡ڤԕ䤢ա匤ᓂ䕫ᦚ䖥汓瞝志إ某፫ܭ皅敛ᜅ樑ԯ稁➥䣚ᝲ䟈ᒠ娘㱏⸍㠕⟍㽁玤㿝ࣟ璠吅憋ᶕ㸯䰕ܿ㩝ᑟိð⨭Űфడ㍠࡭㙈֔ᠶჍạ∬bḠÞˀ泫帣挕楴㶴䨢䑀⁼⼃攷 濭か⋴弧灡帻ᧇヨཱྀၔ㓀ಌ僣什掫ⅇ»䩅⁢㨅၃ㅖ⠾㜝䖌㛮氽䧸敋寛ୗሡ঴ℵ䀶抡≇ƍ墠⑰䅨寗䩲䜶䪢Ê䱤ᪧ⤕᝚᪹厺⢇婭⍚⯆璾三⍩旦帠䌸㊊⼠㙨䆬㖎沲ཌྷ䦥唕䍒䈹䨐㗁恔䀶ధ䁜拃㲳䤋yᝃȐ⯐䉊Ϡ刬Ⓥ૸廲Ⅹ䎻䦷ᤶ㱭ᘴ䝌纈ᛕ䣭⋦ᵉڑᙂ㡎ᦷᥔ͠㗡亻䍐㧠椓䄒㙖愷ஐ平䝘嬇㰯䬡嗽⣎ᐣ殽猞⋨㶛揘༈娹⏽矦ֶᴦྦ碅ᜑ惜ဉ㐏庴▜Ό┏尚ʉ؏഑䁗盞䘁ଔ⏒䱲ℂ⼢怬ˢਢ䂞䕀℃䄜✌䖾涘哲元Šଂ悓亚჉廸⪝㷣╠໋䱾䭘て呛ॠ捏桔͡ᄯ䆟仩ᲈ䉙㎵㦅䛈⼿梇ⲅ干璈JẊ⪀世漸僥㣌ㅙ⒫峚牂妛⢣簗ųB咰ወᨵ⾵啨㑼ᬷ穥䝕➦䵐¶⻇僘ⓔ查⭹䒈楸棙ӵ⮍⮊̿ᨦ姼䛌䍞₪潞ᔈⅎዲ⽅䩳傻⇳䳜甖圉੝棟ثૌ᜾ῇ窽恋ሤෝ᰻ᵴᣣᔨ⍄㌌夫沬ၘⱕ⃸㜻㐲⠸㜪₞䅆ࡡਝԲ簦ጂ㋺ቶ⍄瘧㒔䭒ⲳ䤯H⸼ፂ㩆У㑄婁怶浩盹䧹ᱨ穉⢶嶚ᗝ晋㋖ಋ⮬໤绾䯌縿Ɫ፸ㅍƀⰢ၂扐䨠求䌡ჇȀ㋫ၱㆢ䟗攟घ示㛢ᦍ斬≔ㆢᶶ䓛ສ书䮮暿Ჽϰ䁀ば௄㝄掇᳠Ⴆ獸↲㳥晒垢㎏܁⮫燬簆㝅䪎呖漏ਡۋ㍐埛犥柮撎䛩甎烰㧏ᗜዄ⬧些ᤖ॥౴ㆺᵥ敊㻜㌓ᇖ猡䰨㞂⤩唴䚯伞皯慼øᱣ䳰ᾫ≉Š丢Ú櫀硱䄜῰ࡑ䂚ඬ⎟౥৯⨢ྭ∲ℰ湣僲䌁䍔屒ᮆ䌨⢆਼˳䜃䱺屁慊ԣ伾Ў䬂ẳ楨琯样喚㟒甏⏂ᆌ䙟᡼Ỷҫ㏳௑চ䢺窠ⅎ栲ⶫⴌᤘ呶異櫘冉㲿僰ϥᜠ䃀Ϋ᫺ⶑ惮㒥䖡堣抋㱛⍌㏋އ峍潬΋狄̶疁䃛ኡ煋΂⅂ၨ┡⡪䓝ĩ࿍塕俔歠盤籨恆洽殊涉ᆳᷚ㭜ᙛᨨนὧԈ⚣䴅ᣝἧଢ尫墆伪掾১⇗摣榴籘㠮ୟݶᦄ∀ௌ擣ሎ烃侵⍯ᇧᇒ栐␍⓵枹丳䚷ⰵ番㎷Ἔ㤖⛤牣稫ࣀ㥑灌☙⑭ज撁㛤䄂ⴣ恫嬒✪猀喚Პ䘘焑ᖗⒺ䑂欃ʹ㟋┈␒ᴨ殙؊據⹙⽢嫥埲灢瘌ْࡡ棶仫噻၅睿㨾檒稩⋃䬃Ḉ∗伵䋜᭍欧䕢⩪祛油⮵ᜠ嘅⥵᫱⮊䳤㖎ᕭⷌ甥嘊捰ཎێ⹒歆䗉䏼桧妧娜㮕熙ᝪ煫坧ą楤ᗩជ濎ў專ᶗ埡嗎堢彭綶䍪橛彚宯匚᣺፿ጁৌಀ䕔⛃代▦僬毁咉獪ง壣ℜ箾䮀ⵀധḩ媻䇫ᯱפ墯检▌℺浤凼涴媰亩᭼ൖ᤻Ć掞᜖絢⼛ₕ塟ዑᘠె⡛৉睗㥷⢌ʜ⪭伊ჩ稺攫♫䋣ᙟ劫㨈狮ᘥ㋍ᅸὡ剴䗛᭢〹棶䀸⼘ℹ癝᛼᧪ძ癈㔹㿹䮳ۍ曣ඓ晤Kᒎ૨懸Ґ璕㤹点຋敧๘╫иɇἸ寢ᒋ⋢ⲙ楪橜ྀ弤咬♸☷ᠢ㕧䇢㕇᠓巤Ü▩㰪ᶾ汴܀ঀ圵Ⴇ囖⿑碸暭ϲᔡ叵ᩮ㈿஺桥ౙ圿♒塷昼៦⥡䭱¬ׄȐⰣ墎㟁ᾁᡢ㹸愼㔙᱅᣿䠐Ū峤繋熻☛埡㙻登ḙ矣㚲∠  "
   },
   "outputs": [
    {
     "data": {
      "application/vnd.jupyter.widget-view+json": {
       "model_id": "387b1af31d704a3d919100db1cacd89a",
       "version_major": 2,
       "version_minor": 0
      },
      "text/plain": [
       "PersistWidget(data_values=[{'__id_column': '1', 'Date': 1352419200000, 'Region': 'Salt Lake', 'Place': 'Sunset…"
      ]
     },
     "execution_count": 27,
     "metadata": {},
     "output_type": "execute_result"
    }
   ],
   "source": [
    "PR.plot.scatterplot(df_task_1c, \"Elevation_feet:Q\", \"Vertical_inches:Q\", df_name=\"df_task_2a\")"
   ]
  },
  {
   "cell_type": "code",
   "execution_count": 29,
   "id": "fba03fd7-4625-4b22-a1f2-5fdf6c4279a8",
   "metadata": {},
   "outputs": [
    {
     "data": {
      "text/html": [
       "<div>\n",
       "<style scoped>\n",
       "    .dataframe tbody tr th:only-of-type {\n",
       "        vertical-align: middle;\n",
       "    }\n",
       "\n",
       "    .dataframe tbody tr th {\n",
       "        vertical-align: top;\n",
       "    }\n",
       "\n",
       "    .dataframe thead th {\n",
       "        text-align: right;\n",
       "    }\n",
       "</style>\n",
       "<table border=\"1\" class=\"dataframe\">\n",
       "  <thead>\n",
       "    <tr style=\"text-align: right;\">\n",
       "      <th></th>\n",
       "      <th>Date</th>\n",
       "      <th>Region</th>\n",
       "      <th>Place</th>\n",
       "      <th>Trigger</th>\n",
       "      <th>Weak Layer</th>\n",
       "      <th>Depth_inches</th>\n",
       "      <th>Width_inches</th>\n",
       "      <th>Vertical_inches</th>\n",
       "      <th>Aspect</th>\n",
       "      <th>Elevation_feet</th>\n",
       "    </tr>\n",
       "  </thead>\n",
       "  <tbody>\n",
       "    <tr>\n",
       "      <th>0</th>\n",
       "      <td>2012-11-09</td>\n",
       "      <td>Salt Lake</td>\n",
       "      <td>Sunset Peak</td>\n",
       "      <td>Snowboarder</td>\n",
       "      <td>New Snow/Old Snow Interface</td>\n",
       "      <td>14</td>\n",
       "      <td>960</td>\n",
       "      <td>360.0</td>\n",
       "      <td>North</td>\n",
       "      <td>10400.0</td>\n",
       "    </tr>\n",
       "    <tr>\n",
       "      <th>1</th>\n",
       "      <td>2012-11-11</td>\n",
       "      <td>Salt Lake</td>\n",
       "      <td>Patsy Marly</td>\n",
       "      <td>Skier</td>\n",
       "      <td>New Snow/Old Snow Interface</td>\n",
       "      <td>30</td>\n",
       "      <td>1200</td>\n",
       "      <td>1200.0</td>\n",
       "      <td>North</td>\n",
       "      <td>9700.0</td>\n",
       "    </tr>\n",
       "    <tr>\n",
       "      <th>2</th>\n",
       "      <td>2012-11-11</td>\n",
       "      <td>Salt Lake</td>\n",
       "      <td>Two Dogs</td>\n",
       "      <td>Skier</td>\n",
       "      <td>Facets</td>\n",
       "      <td>36</td>\n",
       "      <td>840</td>\n",
       "      <td>5400.0</td>\n",
       "      <td>North</td>\n",
       "      <td>10200.0</td>\n",
       "    </tr>\n",
       "    <tr>\n",
       "      <th>3</th>\n",
       "      <td>2012-11-11</td>\n",
       "      <td>Salt Lake</td>\n",
       "      <td>Emma Ridges</td>\n",
       "      <td>Skier</td>\n",
       "      <td>New Snow</td>\n",
       "      <td>18</td>\n",
       "      <td>600</td>\n",
       "      <td>6000.0</td>\n",
       "      <td>Southeast</td>\n",
       "      <td>10200.0</td>\n",
       "    </tr>\n",
       "    <tr>\n",
       "      <th>4</th>\n",
       "      <td>2012-11-11</td>\n",
       "      <td>Salt Lake</td>\n",
       "      <td>Sunset Peak</td>\n",
       "      <td>Skier</td>\n",
       "      <td>Facets</td>\n",
       "      <td>42</td>\n",
       "      <td>18000</td>\n",
       "      <td>9600.0</td>\n",
       "      <td>North</td>\n",
       "      <td>10400.0</td>\n",
       "    </tr>\n",
       "  </tbody>\n",
       "</table>\n",
       "</div>"
      ],
      "text/plain": [
       "        Date     Region        Place      Trigger  \\\n",
       "0 2012-11-09  Salt Lake  Sunset Peak  Snowboarder   \n",
       "1 2012-11-11  Salt Lake  Patsy Marly        Skier   \n",
       "2 2012-11-11  Salt Lake     Two Dogs        Skier   \n",
       "3 2012-11-11  Salt Lake  Emma Ridges        Skier   \n",
       "4 2012-11-11  Salt Lake  Sunset Peak        Skier   \n",
       "\n",
       "                    Weak Layer  Depth_inches  Width_inches  Vertical_inches  \\\n",
       "0  New Snow/Old Snow Interface            14           960            360.0   \n",
       "1  New Snow/Old Snow Interface            30          1200           1200.0   \n",
       "2                       Facets            36           840           5400.0   \n",
       "3                     New Snow            18           600           6000.0   \n",
       "4                       Facets            42         18000           9600.0   \n",
       "\n",
       "      Aspect  Elevation_feet  \n",
       "0      North         10400.0  \n",
       "1      North          9700.0  \n",
       "2      North         10200.0  \n",
       "3  Southeast         10200.0  \n",
       "4      North         10400.0  "
      ]
     },
     "execution_count": 29,
     "metadata": {},
     "output_type": "execute_result"
    }
   ],
   "source": [
    "df_task_2a.head()"
   ]
  },
  {
   "cell_type": "markdown",
   "id": "b447b862-90c6-4ed7-b48b-baa1cf74ac2d",
   "metadata": {
    "__GENERATED_DATAFRAMES__": "{\"nodeDataframes\":{},\"graphDataframes\":null}",
    "show_aggregate_original": "false",
    "trrack_graph": "ᯡ࠽䈌ʀ匦㢠⹰࣠✴ƀචآ൐ୠᣠ⭎¸䚀ᶥ<⋵攴≲䦆ᨐ҅䁲䥈kᑄᄈ夒ર囇⣹嗛➎帣ᢤ䀡傠Ǘ熠㥀ॢȠா䠸ᢀ㜰䁾巒•橀樠Ꮃ䤠ව׷核ᱬ䣘紲₞૦Ԡ޳ŀ凐栠晬╍ಲ䖽䂇栢沀團ᄰ㸸ሪ喊Ⴇ♁䐔粶ᦞΎ刺ࠥ簉窺簲ᖢොሧ҉䃵ⰡḠޅ毗䘤䗾墥୚渍磆搰㣄䆯䌭䊣ᎄ䢩妈䪑䴹ҩ䋫◂რ⢒ઉ⃁⽌囦媍ኘ垤䢠䍤⒂Йᘷ੡䄀҂Ქ⃱琿啡憐㲞ၯ䌨焠ᗿ搫໎㒫ல熪Ņ⎃ऺᥛ⃄ᅠ  "
   },
   "source": [
    "## **Task 2b: Filtering Out Old Data**"
   ]
  },
  {
   "cell_type": "markdown",
   "id": "c86b30d4-4762-4bc0-bfd3-6f1486b55ad6",
   "metadata": {
    "__GENERATED_DATAFRAMES__": "{\"nodeDataframes\":{},\"graphDataframes\":null}",
    "show_aggregate_original": "false",
    "trrack_graph": "ᯡ࠽䈌ʀ匦㢠⹰࣠✴ƀචآ൐ୠᣠ⭎¸䚀ᶥ<⋵攴≲䦆ᨐ҅䁲䥈kᑄᄈ夒ર囇⣹嗛➎帣ᢤ䀡傠Ǘ熠㥀ॢȠா䠸ᢀ㜰䁾巒•橀樠Ꮃ䤠ව׷核ᱬ䣘紲₞૦Ԡ޳ŀ凐栠晬╍ಲ䖽䂇栢沀團ᄰ㸸ሪ喊Ⴇ♁䐔粶ᦞΎ刺ࠥ簉窺簲ᖢොሧ҉䃵ⰡḠޅ毗䘤䗾墥୚渍磆搰㣄䆯䌭䊣ᎄ䢩妈䪑䴹ҩ䋫◂რ⢒ઉ⃁⽌囦媍ኘ垤䢠䍤⒂Йᘷ੡䄀҂Ქ⃱琿啡憐㲞ၯ䌨焠ᗿ搫໎㒫ல熪Ņ⎃ऺᥛ⃄ᅠ  "
   },
   "source": [
    "The interactive barchart below, shows the data aggregated by year. There are noticeably fewer records for the years before 2010.\n",
    "\n",
    "During this subtask we will remove the older records, keeping only the records post 2010."
   ]
  },
  {
   "cell_type": "markdown",
   "id": "24b308e8-8437-4146-9ebf-cd121aeb7f9f",
   "metadata": {},
   "source": [
    "#### **Instructions**\n",
    "1. **Analyze the Bar Chart:**\n",
    "    - Identify the bars that show significantly less data.\n",
    "2. **Filter Year:**\n",
    "    - Select and remove the years with few records.\n",
    "3. **Verify the Output:**\n",
    "    - Print the head of the generated dataframe to verify the changes."
   ]
  },
  {
   "cell_type": "code",
   "execution_count": 28,
   "id": "6488acb7-e239-4d7e-92ef-3e9d74c3d823",
   "metadata": {
    "__GENERATED_DATAFRAMES__": "ᯡࠩ䃬࿀ᜤᠹ悋ᐤ怱䐢犲ǩ怶恉宑召䵬ð䀲悠ᄡḡ沯偑嬸Ř˛ࠥ笪  ",
    "__has_persist_output": true,
    "trrack_graph": "ᯡ࠽䈌ʀ匦㢠⹰恣Ƭ浡ᰥ〶䀹䁆ㄠᨐˣያ砡杝ᔡ堦㈺壗琤ㆸ嬲⠠䭈⑀楒儀ᅎ╦仃ᦆ䬍ᷙ砪ࠣ℠Ί俠扠ኤРᜰ結üム湁Ý㮄ᴠ֨䇈GᎲ;∥柁䀢ᦙᓸ籈ᐫᢪ仂查⇑䤩磘幈⸴グ䔭䟇倣塠Ú紣άᓱٯ坢ہⲀ倠祐ሴ▻ѝ䃋㎁拫稠嬸ᗊ᡼ᘩκ墨ℛࡁ媰⽅䀺敚䀫溧⨡㼚⏵杚ૡঢ়审Ⳡᛌ¾'ఋ䟦ວ夘⁂㎳柒偭⢼▓ㄈㄢ坳礘౵ݪ⤔฿؂傄੷䝢押⸿໧梾㯫炱媈❤͙榷ㄲᆩ戩ብᗀ変♻ᗫ犥ㅴ坉⫨ࠬ₰⋱Ȿᑫዉ❃የ犙Ũ光䪵➨慐␠㋃⠔瓀!*狓傏ᨠဣ琠ᄮ䘤㐠ᑱᤢ吱⋘㤬䈕䡦喢ɕ⋼ᯅ䟂緞䀲䨀㑡圼࿍嵜Ἷ䠶ՖၖܮჂ水┷惪ᴋ຦⧦ᓝລ⃂㒀曥ᑾ涧撒㡼䤦֣您別൥倸♋Ǣ炘繀䲿㔭廟ⅰ䞐ᙎ०烸槌潑୰◕䇳ⱖⷞ䯐䀮⎩愐巢Õ憣嵮紼ف䀠冂䃿㪠倨ᜒº怯甎㵜ݵ犜澤͖獻抢灴አࠣ灨₣焸䰳採䡕怠窒⌓瑐₀䵰Ⴛ橄憒愘ᬂᄄᎥ䂮交䀬ᙊ焐⁤␱䞫ぢۡ桒͸ࡪ༪偬ⶡ䡾ྣ偒ۡੴॢ硾స干ሡ愑⢲僺ᅀボዥᤜḒ䁓↉ⵛ␦㙷⼉獏ℸ媜晢⡼۠⨶ֆ璜曡ᳱ䔄⌷ၒ᳒ජ㳿⸅پဴ紷ሺᴐ文乥᳆屴ે瑔ᇅ䁴͑⃽ᅁࢣ℠ɺ⯁䢵ṁጕᦥṼ嵥㔏䈳瓐Ɂ孌₻ⴿ֒㱢ɂᩈྐ檰໶㪩ⵃ䲄楶丂㝐ࣰ␠Ȇ①䒨綉㛥⯚䡦㉝▵犌嶰獢疵ࣼ寈㫖侴琜玿䶢嶷寢噩ૌ夭⧮㧠⪴社ल䴵ㄈ䘻怢েǜ㗍䉒䬺熡❠ऐ勶ᬞDּᦣĨҥᅛᲣ洴㾂僴ڢᷔ㤎㸊⎤棂㨅䷽⺏䴫⌠ⷴ⦀懫̥ⲋ㴧ⰻ˦ᗁ㚅☫ᆇ♸͟₹斍ⶋ㘯ⷐ㔵哆殤䛆Ш熭㙻㣚ᇏ⪀ᓠ䄌⎧ක復޳⾯炢ἄ汻ốᖹ㓆攅ᝈ喙ીᗵᕪ楇᝭ᴰᑫᶝ㴂憣ጊ崆ˡᯗ⫮壟∌㶮䀉㥏ࢣ㢏ϧ㰿㐈ⅿ˧綳砋絟ᨇ㶾〱╼㠳灒䰶稰曘埈特䌞䁔١汾窢˘烴矱只偯䬪䔽⹛䥵潐橾䩻喞澋楿⋊徙⸧刱浛俲ڔ塟嘬⇑ἷ唲幔挲ć殡⨇㜦䈈ɡ⧰ե℘ԫ惸㨦成ᤣêխ䅒ఫ慦㴗ਫ਼壉㺯楠ࢢѻ䗼傊Ȱڈル懜ฺĤ᥃੕㡔ㆰ⻯ო䓀ε₧።䜮䐅↠㑆䙀穢!ঀ涽΄ᯐᐿ㍈ℇ⢁拰㇧偾ʈĴ泻ʸ猾㈓ⵑᙒ扼暆ᚌ慌ᳬ炠  "
   },
   "outputs": [
    {
     "data": {
      "application/vnd.jupyter.widget-view+json": {
       "model_id": "f83b9e9032964c2e8069262e36ac7369",
       "version_major": 2,
       "version_minor": 0
      },
      "text/plain": [
       "PersistWidget(data_values=[{'__id_column': '1', 'Date': 1352419200000, 'Region': 'Salt Lake', 'Place': 'Sunset…"
      ]
     },
     "execution_count": 28,
     "metadata": {},
     "output_type": "execute_result"
    }
   ],
   "source": [
    "PR.plot.barchart(df_task_2a, \"utcyear(Date):O\", \"count()\", selection_type=\"interval\", df_name=\"df_task_2b\")"
   ]
  },
  {
   "cell_type": "code",
   "execution_count": 30,
   "id": "dae6380b-3468-4746-92d3-3769d1cc9be2",
   "metadata": {},
   "outputs": [
    {
     "data": {
      "text/html": [
       "<div>\n",
       "<style scoped>\n",
       "    .dataframe tbody tr th:only-of-type {\n",
       "        vertical-align: middle;\n",
       "    }\n",
       "\n",
       "    .dataframe tbody tr th {\n",
       "        vertical-align: top;\n",
       "    }\n",
       "\n",
       "    .dataframe thead th {\n",
       "        text-align: right;\n",
       "    }\n",
       "</style>\n",
       "<table border=\"1\" class=\"dataframe\">\n",
       "  <thead>\n",
       "    <tr style=\"text-align: right;\">\n",
       "      <th></th>\n",
       "      <th>Date</th>\n",
       "      <th>Region</th>\n",
       "      <th>Place</th>\n",
       "      <th>Trigger</th>\n",
       "      <th>Weak Layer</th>\n",
       "      <th>Depth_inches</th>\n",
       "      <th>Width_inches</th>\n",
       "      <th>Vertical_inches</th>\n",
       "      <th>Aspect</th>\n",
       "      <th>Elevation_feet</th>\n",
       "    </tr>\n",
       "  </thead>\n",
       "  <tbody>\n",
       "    <tr>\n",
       "      <th>0</th>\n",
       "      <td>2012-11-09</td>\n",
       "      <td>Salt Lake</td>\n",
       "      <td>Sunset Peak</td>\n",
       "      <td>Snowboarder</td>\n",
       "      <td>New Snow/Old Snow Interface</td>\n",
       "      <td>14</td>\n",
       "      <td>960</td>\n",
       "      <td>360</td>\n",
       "      <td>North</td>\n",
       "      <td>10400</td>\n",
       "    </tr>\n",
       "    <tr>\n",
       "      <th>1</th>\n",
       "      <td>2012-11-11</td>\n",
       "      <td>Salt Lake</td>\n",
       "      <td>Patsy Marly</td>\n",
       "      <td>Skier</td>\n",
       "      <td>New Snow/Old Snow Interface</td>\n",
       "      <td>30</td>\n",
       "      <td>1200</td>\n",
       "      <td>1200</td>\n",
       "      <td>North</td>\n",
       "      <td>9700</td>\n",
       "    </tr>\n",
       "    <tr>\n",
       "      <th>2</th>\n",
       "      <td>2012-11-11</td>\n",
       "      <td>Salt Lake</td>\n",
       "      <td>Two Dogs</td>\n",
       "      <td>Skier</td>\n",
       "      <td>Facets</td>\n",
       "      <td>36</td>\n",
       "      <td>840</td>\n",
       "      <td>5400</td>\n",
       "      <td>North</td>\n",
       "      <td>10200</td>\n",
       "    </tr>\n",
       "    <tr>\n",
       "      <th>3</th>\n",
       "      <td>2012-11-11</td>\n",
       "      <td>Salt Lake</td>\n",
       "      <td>Emma Ridges</td>\n",
       "      <td>Skier</td>\n",
       "      <td>New Snow</td>\n",
       "      <td>18</td>\n",
       "      <td>600</td>\n",
       "      <td>6000</td>\n",
       "      <td>Southeast</td>\n",
       "      <td>10200</td>\n",
       "    </tr>\n",
       "    <tr>\n",
       "      <th>4</th>\n",
       "      <td>2012-11-11</td>\n",
       "      <td>Salt Lake</td>\n",
       "      <td>Sunset Peak</td>\n",
       "      <td>Skier</td>\n",
       "      <td>Facets</td>\n",
       "      <td>42</td>\n",
       "      <td>18000</td>\n",
       "      <td>9600</td>\n",
       "      <td>North</td>\n",
       "      <td>10400</td>\n",
       "    </tr>\n",
       "  </tbody>\n",
       "</table>\n",
       "</div>"
      ],
      "text/plain": [
       "        Date     Region        Place      Trigger  \\\n",
       "0 2012-11-09  Salt Lake  Sunset Peak  Snowboarder   \n",
       "1 2012-11-11  Salt Lake  Patsy Marly        Skier   \n",
       "2 2012-11-11  Salt Lake     Two Dogs        Skier   \n",
       "3 2012-11-11  Salt Lake  Emma Ridges        Skier   \n",
       "4 2012-11-11  Salt Lake  Sunset Peak        Skier   \n",
       "\n",
       "                    Weak Layer  Depth_inches  Width_inches  Vertical_inches  \\\n",
       "0  New Snow/Old Snow Interface            14           960              360   \n",
       "1  New Snow/Old Snow Interface            30          1200             1200   \n",
       "2                       Facets            36           840             5400   \n",
       "3                     New Snow            18           600             6000   \n",
       "4                       Facets            42         18000             9600   \n",
       "\n",
       "      Aspect  Elevation_feet  \n",
       "0      North           10400  \n",
       "1      North            9700  \n",
       "2      North           10200  \n",
       "3  Southeast           10200  \n",
       "4      North           10400  "
      ]
     },
     "execution_count": 30,
     "metadata": {},
     "output_type": "execute_result"
    }
   ],
   "source": [
    "df_task_2b.head()"
   ]
  },
  {
   "cell_type": "markdown",
   "id": "db8fdc8b-168e-40e2-861c-d23095a4a8d8",
   "metadata": {},
   "source": [
    "## **Task 2c: Identifying frequently failing `Weak Layers` for avalanches triggered by _'snowboarders'_ and _'skiers'_**"
   ]
  },
  {
   "cell_type": "markdown",
   "id": "dd956e34-f1c9-40d3-8702-a2a84e304ca9",
   "metadata": {},
   "source": [
    "#### **Instructions**\n",
    "1. **Context:**\n",
    "    - You are given two linked interactive bar charts: one for `Trigger` (an event that caused the avalanche, such as a skier or natural) and another for `Weak Layer` (a description of the snow composition that caused the avalanche.\n",
    "    - Both bar charts show `count` for their respective categories.\n",
    "    - You can click on a trigger in the `Trigger` bar chart and the `Weak Layer`' bar chart dynamically updates to show only occurrences corresponding to the selected triggers.\n",
    "2. **Identify the most frequent failure points for snowboarders and skiers:**\n",
    "    - Analyze the filtered 'Weak Layer' bar chart to determine the most frequently failed layers for the two categories and make a note in a markdown cell about both the name of the layer and frequency."
   ]
  },
  {
   "cell_type": "code",
   "execution_count": 55,
   "id": "5aef4ea0-bf81-42be-a35a-23e56081f77e",
   "metadata": {
    "__GENERATED_DATAFRAMES__": "ᯢ粠 ",
    "__has_persist_output": true,
    "trrack_graph": "ᯡ࠽䈌ʀ匦㢠⹰ˠ✠ᰧダ䌡䳰୥F,ᢩ┠䘡䙤ɒこୃ碊⨝⛐૫⩾䴲⠠䭈⑁槑爱Ⴥ⍡妻ݎẝΦ䒠ǁ#㗤挸晠ኤРᝣၐüムṁǟ㤞䀥䉸攠ʓ㥀ǔ℔ᒚ⽋Რۤ⍠ࢀ㇈䱸嚆⸦ᆵ᭯䗠➻䡑㓘ဠ⺱壥憄䝂᯲䎐癐⠠㲸श䖮›懀兩ᠩᑃM䘮楼䄥憢ↆ瘲࠾托⛄ӫ〦婮熢笱⪠⾱䤕㑿⏐⊏㜀⭐焰ᶠᏠĂ紗磣椖侤Ň㤼李ই䳄᥉੡₦ᐹ⑧ሐᠠ䵧Ⴄ≎ªᅨ簶̢〲䈠䋠愼࿗捁㒀㚫暔㎺ᢼ⢶╲璪শ撸峞⹲ᑪᠹⅵ㷁徫ᾧ䒲ᒺ↲撒㲱t୪狅⭳ᠺ传ು㐝浈 ◁ൠ䡎扖灍ЮΡഠૐ⅀Ǭ⺸ᡈ珵⃯ฯ国㸠䡊ࢍᄪ垠◀ᱜ䁡惤ᠴࢧ䡅⒌⃆䈰楈ŉ⮍ὃ䷡狩ᠼ¬↱ᒊຨ惑汮᮫搐䈱౬櫕܎埏樭䍶ᢀ䥔₉嚊積䭖䶊ྍ㬨Ą㢼༫䆌୽四唄㇠券*២凗㷴ʠ※䠠֓o厲甗卾⩯戧朌缸ᄨ䕠ࡇ捅՞卝Ƙ䘫琐㈠߄㼏壧ṯ俳吡䌂繟口縠⠮㺍ᐬ碀㨲ᤀ娪㼅ᄵバᕑ℃ᜦ倢Ღ擸ņ擢ڮ婸ἧ䌔ଡ¨␦繒ᜢ䃲ᠬ戀㼩䅰㑯䱮嗷㪾厁Z侀䠾嫃懦 ⬢Ὣ磩炴ɩ㝩✊Չ▼玩䥁幟䙘ၜ֠尺ㆩ塟槸࠳榑ṓ我Ń׸ⱄơ➥柁ᅇ焉௬h⋹扉=怣畨⎯䄴偯㥢搹炗≼䯄➧叄朽妢橷ኬ柎㧮Ʈ㉜斸ኜ破憢㨇Ĝⱹ̐䑎Ꮏڰ灬獧爞⁍櫌య䂄Ცⴴւ凋㪧Ⳕ⎋偻✻⨊⑋₷㢏岦㒏Ↄ㔯″኏⁳᪎⡓☡䇓ᳩ႒䠩孃໷尃⊌䵳⸮䵓◳䴼⦮ㅁᲴ牚৆㗚嗃㔍⏌瘔柄㇝ᆇȭ₈ࡢᡠ礤䢄ⷂⱥᓹⳉ旙⋏攪ㅦ啥ᮇ⑛ۧ栦㤠䑰ⴡ䃰⤥ᢆ㗰墶㶡᷶ᨃᴇ㇣㵎ଁႎ㬆䙠ᜋėȊឯ⨆ᝏ㘈嵗㏠糞ᐂ糿㭹բ箲Ű痎䏌瘰ୢᠾ⃠其㘼䲣啀㑻墮Ⱚ獊眼䌕䰯簭喴Ꮠ灱㛴睶ɼ姖̒劵坚淑ȍ䐨瞬䯛堕怽眊濑檀⢕߄嗑຿ᒓ༃珕⯽柜侊澳䋜灳Ⴘᤠᶐ㤬⇨ⱦ≰న䲸ª⇲ⴠᄘⲅÐ㴬㰈ŷ樦秎熦棹燦䊮ⶴᖆ冋⚠沔㎏傷ᵪ煁⤤攕涤ⴇ妄克⪣ⱔ㶍傻Ẫ泂㨌ࡑ䲯㯖凴種䯼㫾䟱㫎朴  "
   },
   "outputs": [
    {
     "data": {
      "application/vnd.jupyter.widget-view+json": {
       "model_id": "3da668e6e6cc4b3788c13fc5e24a3e1f",
       "version_major": 2,
       "version_minor": 0
      },
      "text/plain": [
       "PersistWidget(data_values=[{'__id_column': '1', 'Date': 1352419200000, 'Region': 'Salt Lake', 'Place': 'Sunset…"
      ]
     },
     "execution_count": 55,
     "metadata": {},
     "output_type": "execute_result"
    }
   ],
   "source": [
    "pts = alt.selection_point(name=\"selector\", fields=['Trigger'], bind=\"legend\")\n",
    "\n",
    "base = alt.Chart(df_task_2b).encode(y=\"count()\")\n",
    "\n",
    "# TODO: change this so that color is not used in the layers but still have a highlight for the selected one\n",
    "\n",
    "trigger = base.mark_bar().encode(\n",
    "    y=\"Trigger:N\",\n",
    "    x=\"count():Q\",\n",
    "    color=alt.condition(pts, \"Trigger:N\", alt.value(\"gray\"))\n",
    ").add_params(pts)\n",
    "\n",
    "weak_layer = base.mark_bar().encode(\n",
    "    x=\"Weak Layer:N\",\n",
    "    tooltip=[\"count():Q\"]\n",
    ").transform_filter(\n",
    "    pts\n",
    ").properties(width=350)\n",
    "\n",
    "chart = alt.vconcat(\n",
    "   weak_layer, trigger\n",
    ").resolve_scale(\n",
    "    color=\"independent\",\n",
    ")\n",
    "\n",
    "PR.PersistChart(chart, data=df_task_2b)"
   ]
  },
  {
   "cell_type": "markdown",
   "id": "e3f44925-7703-4844-98ee-d1280f0b10e5",
   "metadata": {},
   "source": [
    "**Task 2c Notes:**\n",
    "\n",
    "Write your answer here"
   ]
  },
  {
   "cell_type": "markdown",
   "id": "8a92b8a9-c3a8-4a57-be3b-c9cdc977092c",
   "metadata": {
    "__GENERATED_DATAFRAMES__": "{\"nodeDataframes\":{},\"graphDataframes\":null}",
    "show_aggregate_original": "false",
    "trrack_graph": "ᯡ࠽䈌ʀ匦㢠⹰ೠ⬠沈֭⠸恍ff9昽䁮ۦ࠰汬നڀপ㈏䣹厠㬦ተ¶⡨⇱㌀ᅁ╶庳ୖ⹜簧ଭࠣ℠Έ橦औ䁅ШNႦ〡岁䏼ℭ㞁摞+㢱䨠Ԋ牠Έƕ٦枓቙ჿਸ旑䅠Ȅ恨戬പᎭె䝁净儬Ö᡻⌸䐱䘩׍宨⇓ࡱ䍲ච᫲壬จ䙤Ɲڣ圖⍞ᛡ৽ण䃔戋㘠传ϊ揿振䘌汣䓼㹮䘫㈨ቺ⩯↧ᄨXഉ⠅ㅖࢢ侸⇄僡ಖࡢҁ氣С宍劄倶䢡⍤㲂̤㚗٩䄀硂಩⍰琦ᦪ悑屾ᾨႨ㺜*瘪䋇޶⋤ᓘ犠䭳঺᥇⏰ᅠ  "
   },
   "source": [
    "## Task 3: Data Wrangling"
   ]
  },
  {
   "cell_type": "markdown",
   "id": "9da80393-7f4b-4115-a4d1-5b7978e11358",
   "metadata": {
    "__GENERATED_DATAFRAMES__": "{\"nodeDataframes\":{},\"graphDataframes\":null}",
    "show_aggregate_original": "false",
    "trrack_graph": "ᯡ࠽䈌ʀ匦㢠⹰â䂬ƀᶷ琶䁋c<搔怳ଚ䠳亡䈤㉕⁖ì⺇⊨攩ᐠ▨戰㑹㧒妰囇⃹喧㝞Ţ∠桠ûு䁔䈠ॢȠந㺸ᢀ盅⻿夣•晀樠Ԃ牠Έƕ稦❳ሪὦ䰼⇑䅠Ȅ恨㙎⌯᪴䶹䈁ℓ琡㙐ᮂ⢨᢬थ⧓ࡢ㌰ሚ璋U䳘䠵欯Т縔絭Sㄭۡ۹ण䉔悊㘠传ϒ橷挣⌏ⱡ䕼庮打㈨ɼ榨慢䃂॑瑐繦┭ڼ㾬⎂厃焸牘榥ᄨ䦯ඦ嘔㗆溄⒀擒摖≦၀ⶃ㧄మޢᄴ䩍རへ∦䯧焤愷䍠Žƀ夅შ㤙༾′⪂㵩掳婊⢄  "
   },
   "source": [
    "### **Task 3a: Creating and assigning 'Avalanche Season'**"
   ]
  },
  {
   "cell_type": "markdown",
   "id": "402412ae-3b84-4fec-9c01-94dd203a7b1f",
   "metadata": {
    "__GENERATED_DATAFRAMES__": "{\"nodeDataframes\":{},\"graphDataframes\":null}",
    "show_aggregate_original": "false",
    "trrack_graph": "ᯡ࠽䈌ʀ匦㢠⹰â䂬ƀᶷ琶䁋c<搔怳ଚ䠳亡䈤㉕⁖ì⺇⊨攩ᐠ▨戰㑹㧒妰囇⃹喧㝞Ţ∠桠ûு䁔䈠ॢȠந㺸ᢀ盅⻿夣•晀樠Ԃ牠Έƕ稦❳ሪὦ䰼⇑䅠Ȅ恨㙎⌯᪴䶹䈁ℓ琡㙐ᮂ⢨᢬थ⧓ࡢ㌰ሚ璋U䳘䠵欯Т縔絭Sㄭۡ۹ण䉔悊㘠传ϒ橷挣⌏ⱡ䕼庮打㈨ɼ榨慢䃂॑瑐繦┭ڼ㾬⎂厃焸牘榥ᄨ䦯ඦ嘔㗆溄⒀擒摖≦၀ⶃ㧄మޢᄴ䩍རへ∦䯧焤愷䍠Žƀ夅შ㤙༾′⪂㵩掳婊⢄  "
   },
   "source": [
    "Next, we'll introduce a new categorical variable named `Avalanche Season` into our dataset. This addition aims to classify each avalanche record into different parts of the avalanche season (Start, Middle, End) based on the month it occurred in.\n",
    "\n",
    "Create a new category `Avalanche Season` in the dataset and assign each record to `Start`, `Middle`, or `End` of the avalanche season based on its month."
   ]
  },
  {
   "cell_type": "markdown",
   "id": "86d54d80-ef52-4630-bffb-1e04d9320384",
   "metadata": {},
   "source": [
    "#### **Instructions**\n",
    "1. **Define Season Categories:**\n",
    "    - Based on typical avalanche seasons in Utah, create a new category called `Avalanche Season`.\n",
    "    - Add three options for this category -- `Start`, `Middle`, `End`.\n",
    "2. **Interactive Category Assignment:**\n",
    "    - Use Persist's interactive features to select each month and assign it to one of the `Avalanche Season` values (Start, Middle, End).\n",
    "    - You should use the following ranges for assigning proper categories:\n",
    "        - `Start` of Season for _October_, _November_, _December_\n",
    "    \t- `Middle` of Season for _January_, _February_, _March_\n",
    "    \t- `End` of Season for _April, May_, _June_\n",
    "3. **Verify the Output:**\n",
    "    - Print the head of the generated dataframe to verify the changes."
   ]
  },
  {
   "cell_type": "code",
   "execution_count": 36,
   "id": "63b62f4c-8841-4f6c-8011-cb2ee31c2c7b",
   "metadata": {
    "__GENERATED_DATAFRAMES__": "ᯢ粠 ",
    "__has_persist_output": true,
    "trrack_graph": "ᯡ࠽䈌ʀ匦㢠⹰Ǡጠ䘸֦氳䁍ᴠ昢മ扠嘡䚧痣™ᣐ怣ଡ壨怮护䨠ዤㄨ㩌尥䓳䩱埈挹䶶㝞Ǣ†桠øӢᩢ)™+䃨ఠ㜸ㄖ反汝倡㌴㔠ʕ㥀ǔ⃸媊Ἢ̤䡥朇䞀僃䓔䆊ɴᬫ䕯䕫Ⴐ㡠Ú䍃㎹䤣䢋☫ዸ惀Ēいୀ䎻塏䘆挄㨑ؠ嬸ⶹᑤ٦Ҡ仹䑁涨儒䠦۠ං᭄ڍ䍪Þ䍽䌙ᚶ悢孻䏬惇㘠传ϝ橷挫⓾㱡䓼๮᤼晠䀲֭ͣポ㘣䅢࠼द˨懱ℬ䚦ࢪ₽☀䤘㔫Šᱯ⯢柈悭㷰盆ಱ㑷䖫抩᜹ᕩ㋉♻ᗫ犥ㅪ㌥⒔䱮ၩኴ᭝ᔅ㡙ṯค䨵⦸ठ¢⠴ ᆠ〠ᷣⷂ⤠㦤࠴㱕YոҸ怯䍰͈⦐ዼ梑⬟㯨楖Ỿᾠᘫᜁ㔫䘀塰᤻͢࢑Ṳ䍡⃊ᐶ೥ₑଠ㉥㡈㷭㚚盎㮺ⓠ炘ᄴ䃁⢔̩䖃壺㼨ℱ樭፵噺㫽ܷ嘃⣽ଥ䔻䚳ࡆ㎺᪫₍ヸ⃻⻿㛛໳⁬獀⹷⫰掠⑐4≤⋷⦴ĠᴬK䰬㰽௻劰磜漰ཛ㌘Àⱊa伫ᡌ碹㒛䢃Ἷƀैɠ㗆㴿Ǆ榭⧂Ʈ⠍糄』絀瀶ˡ↭̿₦⁸ℵǈ₪憈اՋᐠ慣ନℤئ⃀㸡䁒थ惰₤䐔਱ㆸ厄紺࠵ᅠ欀墶ᰄむ哥縘竀焀ⴥ綀埈䌊᪳瓄ᗄ҆᷈瓨㏎槉᫡磞࿧禌▣h֣ၫ㲮ⶴᖆ偔ᶃ总Ẩ嵊஬Ѹ⌌ൣ㢉සܽ䄃ʀ悳ᱏೳڌී㽉ၠ⁶ృᒃ෢撉ఐ㑲䴂渠䭀䦡䇊㚾哕⻁哟ҶM㷁ᦷ㧁喌Я啔䗃劍㺴瑽ᯂ灝ࠧʀȳ甊ῄࡢૢð㹀㘐ण⋀₨䕈Ńƨᐥ恋⩦䁰ᚋ惘ᇽ䃪ဿ䴦僀摥㍊擲݅䧅㝇ᐭὌ汉⮆桚ᝣ椚㔣אĂæӥᥧᶮᵄ痨㇇ⴇ姏৬峤㧩㥯ࠥ嶀ἀ㱱䡅㳁䠡㶑櫣㴎㸊Ⓞ㐊綐簂夘娳ğ⬉䎤堾ቇ⠴剴咳ዄ൱Ი浝ᠴ姻つ䠦቎᭛杄啝ጿͺ㨙䠧ጉ䍐ȼᘺነ吴י䠫箺ᤦ⃘℣漩ↈ⴮㙫Ԡ撀❨䑸ਢ恒ሺ㊜⟭禞ᮭ㎌咯㌄ᦈ偋ભⷴⶅ停溢ᇜ啬Ӱ⌋ᬈᤠ媶䫱寐㫹寖磋№䇴㬒ቾԆ䪘嬨㋺孓楽亖废婰⇼㨼ॶ⭵ս唕ᓗ⯭+Ⴐ偅⚋⶛⾣廇⻔穧墕㵸֕ٛ呍䎈渕繄氬笞Ҥ搾檬⠩Ɨᑗ⍌⡄ⳡ吶渁Ɋ◀债՚䉠㑍⦐⣪慤Ɑ䧌⡟煶㒣擅ᇖ៴皎曀带䃴ൡΤ౧ᚃ䇍⫃౑汘ぼ҂岧䞭棷㨗ᐃ㇈ȳ᫠ጳ敡㒂♀䄤ᘢ䱠䙸㼲嫁ࠧⅦ㝶暊ዌ擑⁻峙刓篚剴⋖⬦࿆ౌ慂涥ɯь׺澪㼦嚊٨樦䀴ඹ㰣㕲ᧀ倳ſឃ㮑唖ୃ癖➅䖰ᰴॢ⭊䃶⚤灈璌Ṍゑ撠就㨐஛〮節ㄠᾚƤ↬⃇潡柲総勹濑㥨ᮮ潽眑䐇煇暜ᠢ籣ᑆ濝穊⥶⩕⓴伍⫯୴ᚧ㥏ᢙ嫒箯◄佻⚾̈́㌓椀ͩ㵔喛紴殤༤籖ɰ‌䑼హ䐯甁ᚠ堢ᄖ㓁✫炞㳤繅沽⧢巳䶈毉礇੧圢皎㟈ƿ⢠ᶧ璛ၢ໖͠焅P㞸㺇䙨᝙烩㧰㬸㜺ᮎ♕惋䟡戰祤᎓㞩兩刑⡴䫰䂬フ㘶冎ᛕ⇣祏䲅坹੬㬑ᴩ繁ઁ偶ᅼᆁၛ³ಣ淆Ⴠ₢䘠㘉㑨ဴ⃥柾洞圲ᢾ䔭ߗᦏ㋒挿盆᩹晄ᱼ嫧岮䏸沕祄۠䗮楣ᜰᐻ午ះඪ,愢ಱ丬烯䒲แ䥸⭚ⱷ匯☔瓉⑹⸹ሪᦪ兒᥍崽ዀ⹓₊ᨁ㸱䉸ᆀĚ\"ᓄൠ4弄多ǈᰥ䁕׀⸦净࿋₏⤀䐭椁几᪠ǥ㷠t⵭嘍ᇁ㵯咊⏌籠渭價න医燀ŉ絠塌ม䱎ݔ笓ѝ㈰䙇婴⯲䐻Țੴ⥑墐ኩၲ唈ᒯ河ẕ֪ቜ♇瞼✿l┄䫞ᰎ঻ሕ涻瓛࿂砷モ㇭͘ཙ䢀祷ኢ䓭ʱ屫圭慜丨惗䵦侲⇿ᜑ•䏩凂⧖嬢⡠஀䗕ᜢᆀ団䙡ડ㤴䅰䪨械傸Ⲝ㋾㘖ಥࣅⶤ㔶㗘䔋␁❌⥽⻰恮捥䷆ৃᡠ抡ࡠ挦ಢҸ桐ᄢ☚恢⋠檃ⶍ˺审硇⯜槄ൌԹ䍞ࡸ๔⎏ಐ#劖\"桘ᬸ爚ሕṖග㡇崤✬౮場㉩弼䛹ᤀᅔ㢄㽢ᒞۥ䰡䠸揂咠䇼॔縳卢搦惖灭ረ⑭ᰃᠣࡢ悐ሦႆԡ殴Ǽ珬ⰽ౑䏎㪿伺処渠Ȍ␯䆀㮶䬐嶒䈫Ȅ㸠瀢Ž仫⡩㴰ӆ≒獎窎Ω幸灲䉘⎧綶㡄᫬ⱐ၁似ő栾㻽㓒ᠨࣶ䭪晫浌埸䲌䇒厴壐玒䤃敾ⅰ乑ǈᗦ武϶䓎偆榍戦渐䧻巐↛■≭㘨ᶉ…汻䨬对䒌殑⁖殌宲偸ૃ䁍摔㫅橳挠㏰撶෷旒瀶抈橳ᣕ䵢獐ɐࠡ㰺ⲱ᪘槏嚣⏨ห㼁⬨␰䰉റ牘⩻⎔簢⩱੯淳ᕀ櫔⬨ᱶ牖哪峈᪥⼹䅀ȓ尢筜ɰՏ垌֮Ȭ峍䙡积巗ᢚᡁ狐㨇佨0稄店佋刲掗崶࿅秈㨖Ɲߞ䐤绝ᴢ嫟⮭㴷媉੟⦻ø嫹灠妣㽷⎖Ԧ㒇笎䴭犮䒤䗻悭⭋㬢⛐獣⓲⼘௽愯೨Ɛ1灢የ㈡淩ˡ⢿㗈ʡ㩍ͪ猋㈳冗嵝㍌慍勹垏☯♝涨⏼⦅ፆ㨰䄺♝ࡻ╊⟋弛∸✪䡏媣䎮瘦ᣫ㶅䰚燫ϓ䥸碑多暮ܳ犅⯡மກᄿ慞竃弧⎡䖵䔖儹Ģ栿๡s㸜Ὧ牛倓㉖䘕䝋箯氒ね㥱䶎ٺ䁻嫆ḫ埚瘖䆙⧗樠੦ビ㶬獿ဆ䊉མ椘഑、呾猌జ⇊厎䈟䣔愂ⴳ᮶䌁ᗃމ刽ጡ勄ᥬ⇈壸Т枂4ʠ〣氮Ɋ䊨䦫㉼怮䋡Ⱨ孙堽䆌䮋䠵妽䏔ត㙭孛ᮌ珌梍䬌䦕㰠摗ࣀල❉崨㉮ᨹ崍㤲઼}睂㴬ㆾ伤挅ᜩ㠰墹㌂椡䨔ᶈ玟桛卼㿎㝸ᣂ䍜₍଺ᡀ㈬☺睘᮸ⱸ嫥睇゙ᶬ᭨䢜ℿᣁ冦ƃ㉱ࢢѧᕦ˹൜嚍⭰፱䝝㒃㕛筑䠅Ⲍൎᦑ䩭㧍梕ᯩ䚉ऱ悅ᮑ䨢ʌ፱ᦄ㷕㤽፲䟄Ⳁ㒠ᚔ箤⛽的䍲橀㗉īㄊ䓐䓼䴷⣹㋰䌐⺁しᢙ䁁庂ᠤῬㄸ捘䠟ߠ憌周娸᭣ㆊ潐ᡅ䥌၅怣䬵彡⬳ᅟ刘叐嬴㨮毅位▊潰䕵䷂嬇⬦寺叽电ၶ寕帐䬷▖礕妴䖭潀灸呙⹡๻ভ帵๏敤Ȩᆐ根≚ϱഡ堹•䆶¢⛬⃲ҀᲢ㮁Ҭݢ㘳㠰䒴Ȱ㤲⧦₤⍽卅㞀⽧墊ᨌ啊笺䢝巴ϩ⠿墯‍ⶡ呀㢣壕ͦ⦕ᇲ娽ⵂN慈嶝綦䐣爲弰ᰠ倠፦ᑐ㰥氷㎄⊢杨➍祯䝀㐂䝕可儝ᤌ弼㧏弽尴Ľ䩎寑ȩ梈碨㪀戹朽楨⾕匋ᄄ㌾厑⟅䙷䣈㌕ጅ祒৫哝罃↝ۋ堽ᜈ眺孼㝽⒫眰撋䇣泡棻׋噒㔸㍊⁵䋽䦹㤇㯆㓣ࣛ䖔㏱ᘃ璈旛䱓⁤焛䘋ಡ吤䑡Òᙴȼ䑈䉪⺍ᠴ扎䄨ἠ〥䲎擔ⱃ᜼ニմ㲳瘆䘲穞Ꭴᘂ᪏⋽䛝啋ḧɗ䐠㱈Ṋ⃜⯍ل敟㊜⇩弱斞碭䀳Ṥӱ笢ԡநᒨ⏻Ẩ䔮捘✖ੲ᭡䁹✬峳㐨咽奾㡳㞶ᒧ晪㴡劲糄姞ⅳਢ⓳⩔✝挴ଷ⥟䘝廋电⍜၀ဳ署䘟堌&ᐨᢠ䁍縷䍢幤恓䦥䆄爧祛ᑩ䇒ള笳䂴ʠ⼣栩ቖ⍤Ⅲ⅁㓙◀ś恄8䪤嘤筎ঘইṅᅗ塈䭤准硔榝ӻ㜢樨ౣ䃽ݘ⹮楓䈇෩ᵈ竈昷ኤ㵜⹮㝰朂絋−燰務瑕窙牬翙䖸懅俐纆ⱊᇶ࣍⎵䱜ᆵ䱌瓠夨沜ڀ଱ູ⁽ڬీ⠧櫽Ƃ䬡࡙洝䣘燘≞凣俦ష濥䜁ѳ⩻቏ህࡳᙥ㈥⛅୳ŧ狞秒ᇪ煵剀兺㇬惐ዚ滉䰯େ䳼爅䵗❧㦺敝ඓ↠䙋曔᠊壧棶ᄯ瘔೤Ⱞㆆⵏ⋥嘾ᚁѫ↑倫ᢛ༈Ǧ穿㓉㏫㫷╶ࣙ㔌⧧䫪儣䱪盘湀奍㎐᭸㫣㨔國ᆨ着ᰣ㘏ჹ繐㺖᜻ぅ䪿«䋂䜠棕䂌Ҵ樻ᣖ娑̀㬵Ꮿࠩ䇻ῴǎ䗠沂桖壂ദ䄂瑗㣂纄䢛ᏻ杆䧓掕᱉᥍呌䳕㭆䇾勜⼄売祅刲ಞ⼷㽆秂俜䄢ὐׯ䶜糄㽜ײ⡽ࠩ擐瑋勔姫䑑̖万⏆ᆹ槚⮔䯩༵Ⅶ⪷ڧ扏榟ᒝ▷⦺攦ബ曙仒ᦉ䮝ಅ泞ᦖ㑬燗䭖分汐岇㍈涅䳷׶咸娆梖岇㳗ⲽذᦑ⌳烲䓀ᤢອࣹ⍺㝠¦࢘ƀ㸣拜奣䶒䤄燘庼戆ᑋ㏺䶓䷲㕅廨摫䵮狠䀮੨◚寤ỏ嚛侅ᾛۿ煣瘅Ӹ䅘㉔䂁ජ଩畝爘杈߻䩇伐ᨂȥ⦐潎ɔᣉ䕞०摖ᛣ൨∠  "
   },
   "outputs": [
    {
     "data": {
      "application/vnd.jupyter.widget-view+json": {
       "model_id": "d400d72bba3c42689e8e85bf824c2957",
       "version_major": 2,
       "version_minor": 0
      },
      "text/plain": [
       "PersistWidget(data_values=[{'__id_column': '1', 'Date': 1352419200000, 'Region': 'Salt Lake', 'Place': 'Sunset…"
      ]
     },
     "execution_count": 36,
     "metadata": {},
     "output_type": "execute_result"
    }
   ],
   "source": [
    "select = alt.selection_interval(name=\"selector\", encodings=[\"x\"])\n",
    "\n",
    "chart = alt.Chart(df_task_2b, height=400, width=500).mark_bar().encode(\n",
    "    x=alt.X(\"utcmonth(Date):N\").sort([10]),\n",
    "    y=\"count()\",\n",
    "    opacity=alt.condition(select, alt.value(1), alt.value(0.2)),\n",
    "    tooltip=\"month(Date):N\"\n",
    ").add_params(select)\n",
    "\n",
    "PR.PersistChart(chart, data=df_task_2b, df_name=\"df_task_3a\")"
   ]
  },
  {
   "cell_type": "code",
   "execution_count": 37,
   "id": "736c5c01-827a-4fb2-853e-08c11191024b",
   "metadata": {},
   "outputs": [
    {
     "data": {
      "text/html": [
       "<div>\n",
       "<style scoped>\n",
       "    .dataframe tbody tr th:only-of-type {\n",
       "        vertical-align: middle;\n",
       "    }\n",
       "\n",
       "    .dataframe tbody tr th {\n",
       "        vertical-align: top;\n",
       "    }\n",
       "\n",
       "    .dataframe thead th {\n",
       "        text-align: right;\n",
       "    }\n",
       "</style>\n",
       "<table border=\"1\" class=\"dataframe\">\n",
       "  <thead>\n",
       "    <tr style=\"text-align: right;\">\n",
       "      <th></th>\n",
       "      <th>Avalanche Season</th>\n",
       "      <th>Date</th>\n",
       "      <th>Region</th>\n",
       "      <th>Place</th>\n",
       "      <th>Trigger</th>\n",
       "      <th>Weak Layer</th>\n",
       "      <th>Depth_inches</th>\n",
       "      <th>Width_inches</th>\n",
       "      <th>Vertical_inches</th>\n",
       "      <th>Aspect</th>\n",
       "      <th>Elevation_feet</th>\n",
       "    </tr>\n",
       "  </thead>\n",
       "  <tbody>\n",
       "    <tr>\n",
       "      <th>0</th>\n",
       "      <td>Start</td>\n",
       "      <td>2012-11-09</td>\n",
       "      <td>Salt Lake</td>\n",
       "      <td>Sunset Peak</td>\n",
       "      <td>Snowboarder</td>\n",
       "      <td>New Snow/Old Snow Interface</td>\n",
       "      <td>14</td>\n",
       "      <td>960</td>\n",
       "      <td>360</td>\n",
       "      <td>North</td>\n",
       "      <td>10400</td>\n",
       "    </tr>\n",
       "    <tr>\n",
       "      <th>1</th>\n",
       "      <td>Start</td>\n",
       "      <td>2012-11-11</td>\n",
       "      <td>Salt Lake</td>\n",
       "      <td>Patsy Marly</td>\n",
       "      <td>Skier</td>\n",
       "      <td>New Snow/Old Snow Interface</td>\n",
       "      <td>30</td>\n",
       "      <td>1200</td>\n",
       "      <td>1200</td>\n",
       "      <td>North</td>\n",
       "      <td>9700</td>\n",
       "    </tr>\n",
       "    <tr>\n",
       "      <th>2</th>\n",
       "      <td>Start</td>\n",
       "      <td>2012-11-11</td>\n",
       "      <td>Salt Lake</td>\n",
       "      <td>Two Dogs</td>\n",
       "      <td>Skier</td>\n",
       "      <td>Facets</td>\n",
       "      <td>36</td>\n",
       "      <td>840</td>\n",
       "      <td>5400</td>\n",
       "      <td>North</td>\n",
       "      <td>10200</td>\n",
       "    </tr>\n",
       "    <tr>\n",
       "      <th>3</th>\n",
       "      <td>Start</td>\n",
       "      <td>2012-11-11</td>\n",
       "      <td>Salt Lake</td>\n",
       "      <td>Emma Ridges</td>\n",
       "      <td>Skier</td>\n",
       "      <td>New Snow</td>\n",
       "      <td>18</td>\n",
       "      <td>600</td>\n",
       "      <td>6000</td>\n",
       "      <td>Southeast</td>\n",
       "      <td>10200</td>\n",
       "    </tr>\n",
       "    <tr>\n",
       "      <th>4</th>\n",
       "      <td>Start</td>\n",
       "      <td>2012-11-11</td>\n",
       "      <td>Salt Lake</td>\n",
       "      <td>Sunset Peak</td>\n",
       "      <td>Skier</td>\n",
       "      <td>Facets</td>\n",
       "      <td>42</td>\n",
       "      <td>18000</td>\n",
       "      <td>9600</td>\n",
       "      <td>North</td>\n",
       "      <td>10400</td>\n",
       "    </tr>\n",
       "  </tbody>\n",
       "</table>\n",
       "</div>"
      ],
      "text/plain": [
       "  Avalanche Season       Date     Region        Place      Trigger  \\\n",
       "0            Start 2012-11-09  Salt Lake  Sunset Peak  Snowboarder   \n",
       "1            Start 2012-11-11  Salt Lake  Patsy Marly        Skier   \n",
       "2            Start 2012-11-11  Salt Lake     Two Dogs        Skier   \n",
       "3            Start 2012-11-11  Salt Lake  Emma Ridges        Skier   \n",
       "4            Start 2012-11-11  Salt Lake  Sunset Peak        Skier   \n",
       "\n",
       "                    Weak Layer  Depth_inches  Width_inches  Vertical_inches  \\\n",
       "0  New Snow/Old Snow Interface            14           960              360   \n",
       "1  New Snow/Old Snow Interface            30          1200             1200   \n",
       "2                       Facets            36           840             5400   \n",
       "3                     New Snow            18           600             6000   \n",
       "4                       Facets            42         18000             9600   \n",
       "\n",
       "      Aspect  Elevation_feet  \n",
       "0      North           10400  \n",
       "1      North            9700  \n",
       "2      North           10200  \n",
       "3  Southeast           10200  \n",
       "4      North           10400  "
      ]
     },
     "execution_count": 37,
     "metadata": {},
     "output_type": "execute_result"
    }
   ],
   "source": [
    "df_task_3a.head()"
   ]
  },
  {
   "cell_type": "markdown",
   "id": "36e82a42-5f2f-44e1-b9a5-2e2d403b2ff3",
   "metadata": {},
   "source": [
    "## **Task 3b: Analyzing Top Avalanche Trigger by Season**"
   ]
  },
  {
   "cell_type": "markdown",
   "id": "af40bad3-436e-426c-a02f-f205597e90b5",
   "metadata": {},
   "source": [
    "Now we'll analyze which trigger is most prevalent for avalanches in each season phase (Start, Middle, End) using the `Avalanche Season` category created in Task 3a."
   ]
  },
  {
   "cell_type": "markdown",
   "id": "72455a32-623b-4b87-87d6-ca9c8ebf19e7",
   "metadata": {},
   "source": [
    "#### **Instructions**\n",
    "1. **Context:**\n",
    "    - We have an interactive stacked bar chart. The `x` axis encodes the `Trigger` column in the data and the stack colors encode the newly added category `Avalanche Season`.\n",
    "    - You can select a category using the **legend** for `Avalanche Season`. The stacked bar chart will dynamically update in response to your selections. The selected season is pushed down in stack, and the other regions fade out.\n",
    "2. **Analyze Trigger Data:**\n",
    "    - Observe the filtered `Trigger` bar chart to identify the top trigger for the selected season phase.\n",
    "    - You can hover on the bars to get the exact frequency.\n",
    "3. **Document Findings:**\n",
    "    - Note down the most common trigger for each season phase based on your interactive analysis in a new markdown cell."
   ]
  },
  {
   "cell_type": "code",
   "execution_count": 59,
   "id": "e9eaff25-74aa-4e43-abbb-19bdfef91064",
   "metadata": {
    "__GENERATED_DATAFRAMES__": "ᯢ粠 ",
    "__has_persist_output": true,
    "trrack_graph": "ᯡ࠽䈌ʀ匦㢠⹰Ҁጠ昦り㰶䁛6℣ถ኶搐ৣਵ砨揎䬠ᣫ⁋ϔ㑩•ⳁႧ⛫䁤峅㕺٭ⷹ㤗熈ሠڤ-䁁䔬㺩j࠰}㩠怣㣣ט䈲曽夠଱絰n杄V剪֠Ā憰øᤘ፨浑ᙟ侩ฆዲ≱㳑ṣ⒌ⴭሠ׳氊ᵬ䢼㵒ႁ嫱䀯ጢ⃒क़㶱乸慏቏埀ב䍺ඤ₦と┕䑢Ǹ䄬噩Ⱑ囃䌠月㳀ఇ嗼Ⲃ೩嘨嘕尢昺㶀ԐXỼ㹐㉭䯤ѥ枀㤬㍒ȣࡄ䅉ݦᅘ䣞ৠ悀幅৥灸籁䡦䐐䱁̡∂㩏ʡ⅂㭓朐䤺ᡓ℔ḉ㴪Ķ䔂Ҳ⊳┈ಶ⎳搪㐱≳ᕡ灻䓪䒂磂⌦╈亗ᶰ攙䋑⩵焌〈䈩 敳ం楠\"ନ減绶ᇂ瀨ₐᰨ栢ҡ⌸਒ᬕ䌼೓墊{䜧歎⽏倂Ѷツ⌠⍂⺢⚤ၰӑԥ䓐稹ʤ煈㨩䪭焑䍑ėⱾ巓䬄䥐᰾Ԣᅨਵͧ儸昻Ǧ焘İ䃲㔭盇ⷵ瘚䉑⛣ె⧈᭗䶺◘㻑⃖ᶾ悖ᲆ¹憒尮㴼ف䀠儬ᄹ㭽⁈ȣ岠wᠢ絾砗⏵瞘䃅疧搧ǁ⠢Ƙ②؂ᢄȃ椏寠䠠Ả䪡္歾埠᭴⃸猞翭戡恖ޡ⡜ਈ硕礀ẫʲ瑤㡆䨭±稵၄玦ǀ䢤䓐㺮䊐ဵҠ㿢∸㰮愁㜲б⿿⁁榩欢妭梚⽼ᬊ䦣㡴籟†՟䠊缠䐘䀩ጋⒺ⭄␽⃆汣䒐ᥔᏥ磐ᳰ⃡ᘢ಑䉅䔟⠻Ⱘ׆㤎ᜂ礑·ⱛሢ⃛䈆愁᫒䀬ɂ䱈ඐ䉰̤␣极⊸兂瓉Ḁ悗₇㵓ᾧĤ᜷擳䅱䳏Ấ暋᜚泈አʋ朣㰠࿈䨪梺緭O䩠⟭磚疮むءჄ㖋ላʤ涴⮆偛⚭僷㕤灡ଦ嵃㒋಑ʄ䱳᪇⁓ᚌₓᒋ戓ൄⷆ⣂V䘣നᲃ孈Ỿ䵓㚋䳮䆉㫊ㆫ⣼Ọ䌭৆㗴旍㖍㷁䭽ᙳ䭝㟇冝ք䈭ょ焢な墎焥䃂㹅搾爉↘ج懁ణ䣨ㇽ䛂ਨㅘ㢢Ⳬ῎ࡅ⭍ᖅ⩮䥒⋋䨒ૄᗵྃ┛૥梚ⱏ椚ㄯ䧧⓭ᧇණᷝ෨撷⻯墎ᬊ㡤㧪㳏Ἃ¯਍嵡㸂嚏ḉ㵕搋▿╆燿⠎比瞲Ő䗭䎊悲ઢ␹悤慿ĝ玺簠Ⲹ䊡唧ৱᙦঠ䁧怂廰⡂䊊䴧ၧ䰗ၴῲ烧➊⹨ܮ破㣊㫢䧠⪣⨎㦦㊒是׸㢮旬㬃ᖛ夣嘀Ⲣ硼మ቎ˡ䒪āॄ⏀烒㋂᢯ځᄶᆁ䒶й場戊絯攦䍨欴喬䗌爣㑱䶪䎍橇㋰䈲槈₺ݻ唄㜾䑑牭䔉ᩌᓵ᧧㤽ἰᅨŸ栜磭紩婸䦭ள٤厈␞媏☺䰕媠భᆣƠ楺⍠䍧⚔䳍䪭恽瘩憹夹̣₦㩗主ጬ૫㬗⤕হ畳ᘉຩ樆៵䆊◄⠯沨ٌ䎶ᅂၡそ₠㣣䭉掸䖈壪曑⫢ǖᵸ὚犎ỗᬣ㑜揠㒇䈠曡≍䃥อ壔ᷔ疆䊖䈂ԑ⧼ᗡᲛ忩箯壠㚐ᅘڎ欴⸧䞙凶᳽勚Ꮃ䛷ₓ❕ე䴀ࣹ潽їᖨ㱈䀯䞨㦓䜧ഖᬈን澣僶ᐓ古ቲ☘嶭Ⓤ瘩䅀ḩጹᓶᄈ඘㉑Ǥ┡〬惤ѣÌˠⱫऐ̢戥悑㫦漡叾凈㹕䝹爱墴ג呛よឆ䜣ߞ␥䀬䜌嘢壦䤘⚉筭೬徙偹ڭ㰡ݢሹᅠ㘘ধ祠契羘৆1扠  "
   },
   "outputs": [
    {
     "data": {
      "application/vnd.jupyter.widget-view+json": {
       "model_id": "a23b676613ec4970bcfffce069dcb1ad",
       "version_major": 2,
       "version_minor": 0
      },
      "text/plain": [
       "PersistWidget(data_values=[{'__id_column': '1', 'Avalanche Season': 'Start', 'Date': 1352419200000, 'Region': …"
      ]
     },
     "execution_count": 59,
     "metadata": {},
     "output_type": "execute_result"
    }
   ],
   "source": [
    "selection = alt.selection_point(name=\"selector\", fields=[\"Avalanche Season\"], bind=\"legend\")\n",
    "\n",
    "chart = alt.Chart(df_task_3a).mark_bar().encode(\n",
    "    x=\"Trigger:N\",\n",
    "    y=\"count():Q\",\n",
    "    color=alt.Color(\"Avalanche Season:N\").sort([\"Start\", \"Middle\", \"End\"]),\n",
    "    opacity=alt.condition(selection,alt.value(1), alt.value(0.3)),\n",
    "    order=\"selection_order:N\",\n",
    "    tooltip=\"count()\"\n",
    ").transform_calculate(\n",
    "    selection_order=\"if(selector && selector['Avalanche Season'], if((datum['Avalanche Season'] === selector['Avalanche Season'][0]),0,1),0)\"\n",
    ").add_params(selection)\n",
    "\n",
    "PR.PersistChart(chart)"
   ]
  },
  {
   "cell_type": "markdown",
   "id": "00e87acd-3759-49eb-9e43-d7793672297c",
   "metadata": {},
   "source": [
    "**Task 3b Notes:**\n",
    "\n",
    "Write your answer here"
   ]
  }
 ],
 "metadata": {
  "__CATEGORIES_META__": "{\"categories\":{\"Avlanche Season Phase\":{\"name\":\"Avlanche Season Phase\",\"options\":{\"_None\":{\"name\":\"None\"},\"Start\":{\"name\":\"Start\"},\"Middle\":{\"name\":\"Middle\"},\"End\":{\"name\":\"End\"}}}},\"activeCategoryName\":\"Avlanche Season Phase\"}",
  "__persist_keys_record": [
   "__GENERATED_DATAFRAMES__",
   "__persist_nb_uuid__",
   "trrack_graph",
   "show_aggregate_origin"
  ],
  "__persist_nb_uuid__": "feac2b66-44fc-433d-8123-6b81f7906535",
  "kernelspec": {
   "display_name": "Python 3 (ipykernel)",
   "language": "python",
   "name": "python3"
  },
  "language_info": {
   "codemirror_mode": {
    "name": "ipython",
    "version": 3
   },
   "file_extension": ".py",
   "mimetype": "text/x-python",
   "name": "python",
   "nbconvert_exporter": "python",
   "pygments_lexer": "ipython3",
   "version": "3.8.16"
  }
 },
 "nbformat": 4,
 "nbformat_minor": 5
}
