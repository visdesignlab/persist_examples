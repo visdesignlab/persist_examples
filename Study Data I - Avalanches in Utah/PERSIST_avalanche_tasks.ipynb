{
 "cells": [
  {
   "cell_type": "markdown",
   "id": "522fcbb3-702c-4ea0-91d9-f3b0e71690fc",
   "metadata": {
    "__GENERATED_DATAFRAMES__": "{\"nodeDataframes\":{},\"graphDataframes\":null}",
    "show_aggregate_original": "false",
    "trrack_graph": "ᯡ࠽䈌ʀ匦㢠⹰àᦴ΀࣪ʐ怶䦠挠᱊ࠥ䁁䂖㚥煤晬փ⊪ĸ暂䙠঳ैkᑄᄈ妐ଷᓋ⃩䖻Ṯ溜Φ䐡傠Ǒ団Қ′䈤7ࡣᠠ湐戎Ⴆ寐爤䀥屨攠ʕ㥀ǔÚ䍃㏙䤥ࢂ┩勸惀Ēいཆ༠೥∁∀秸㲅䌠ⶬᛦ䙂ǃɡ殍戰泤ᒁ嬦怭㋉匥穃ᄠ彣჻⴦䉫ぢ睤䄁ⵐۻG䀡曑砑䂱竖ᄂ㜿Ꭽ˹ȩᚱ凁兘㑐Ṣ༩Ẻ䳥⑆憰棨忞⍧攈堽Ī僰὆揖䦲ᡊ⛓౱নఱ姼ᤦΧ您別൧儸晋Ǣ熘繀䉁硨K塊়ṹᜰ倳䪂ⵦ⚈ᒽ᪺ᆬ䀠 "
   },
   "source": [
    "# Analyzing Utah Avalanche Data"
   ]
  },
  {
   "cell_type": "markdown",
   "id": "3abf1206-e99f-45b6-a92b-d971a2a8eb19",
   "metadata": {
    "trrack_graph": "ᯡ࠽䈌ʀ匦㢠⹰ૠܠ昢〽䂆౐׀ৣfL⍉ျ⥒⠡䒙¬ᧇ峕搢ಒ嫒┠অҤᵖ㹢晴㘉ᦳㄍ毿䡨墠ᨰV䆼ガ搢⡠䀢焨㌠෦ౝ戰殖๠ᠠ塩ೀn坄V䀷⢄㚗᥂夬ು䅻ఴ>☤䝃傳狱⊔㳜ੁ䀶挫㐷ࢢӡჵ嬩іㄪᢉ懐ͻ䬥䇽ࣨ䁏僿峱䐰㋸ᇻ兀㡆䱍㛠਀ⲛ粀೽疨һ䟩桁㙡Ũ昙ˢ䧮ᄪᆽ䥢ᅅᄁẩ㱸౮ᐶޣ先ఽЃⵖᥒ⌥▶懜ᩑƢ᭛䭄憐ɑ٦⦈䙓ǂ炘㸠䱅࢜ؠଌથ䜯๡䙉夊᜶僑汢㭢☈₁䠠 "
   },
   "source": [
    "**Participant ID:**  \n",
    "**Date / Time:**"
   ]
  },
  {
   "cell_type": "markdown",
   "id": "ceac0d48-2820-4532-bfd2-adf6533d7a2d",
   "metadata": {},
   "source": [
    "## Introduction\n",
    "Welcome to our data analysis study. For this part of the study, you'll be working with a dataset sourced from the [Utah Avalanche Center](https://utahavalanchecenter.org/). The data provides insights into [avalanche occurrences](https://utahavalanchecenter.org/avalanches) in Utah.\n"
   ]
  },
  {
   "cell_type": "markdown",
   "id": "68491102-96aa-4701-8134-d998c80ae04b",
   "metadata": {},
   "source": [
    "- You will use an extension called PersIst to complete **data cleanup and manipulation** tasks. \n",
    "- Interactive charts and tables have been pre-created for your convenience. These can be directly utilized by running the corresponding cells.\n",
    "- Focus on leveraging the interactive capabilities of Persist for your analysis.\n",
    "- Carefully follow the step-by-step instructions provided for each task.\n",
    "- In some cases, you will be asked to document your findings. Please do this in writing in a markdwon cell.\n",
    "- As you work through the tasks, take note of any interesting findings or challenges with the software or pandas that you may encounter, either by speaking your thoughts out loud or taking notes in a markdown cell.\n",
    "- Feel free to add new code and markdown cells in the notebook as necessary to complete the tasks, but please do attempt the tasks with the PersIst functionality."
   ]
  },
  {
   "cell_type": "markdown",
   "id": "8ebadbe2-4497-401c-9220-017809e835de",
   "metadata": {
    "__GENERATED_DATAFRAMES__": "{\"nodeDataframes\":{},\"graphDataframes\":null}",
    "show_aggregate_original": "false",
    "trrack_graph": "ᯡ࠽䈌ʀ匦㢠⹰ૠବɐච䎍倶䊪ᠠ父嬡ᳺ෪ੲࠬ晴ᘦ㍲差Ⱗㅅ)㊤䈽ାƂ刴喋橖㎁混䩟ႠᨰV岸㈔␢⡠䀢焧匠෦భ戰௷㙠̸x䠊䀡᲼䠠洠⺾彡抄䀠㈉㶣㡶ᡈ\\䰩(懄燃㌂㰢ᒌ娾䀶挥㗦ࢢ烡ၕ⬱жㄢ៉䓐͸⮑ŝㄐ䁏你㋲既祸ၛᅀ㢆䰽⫠਀⻚粀幝ඨ࣓叾殪㙡ƨ◓ᰢ寘奇Ⴌ䦦糂礒৉ᱥ䩃༥ס扦᤭ԓ噻ҩᆠ剋࣡ସ䂡▥撰じ㸨䅃䢴മ䂁ᣌ㬫䈁碢➫怢崢悩欂䥑央Ⴧ掴≺䩬槔ဨ搠 "
   },
   "source": [
    "**Support**\n",
    "- If you require assistance or need further clarification on any of the tasks, please let us know.\n",
    "- If you find yourself stuck on a task and feel that you will not make any progress, you have the option to skip the task.\n",
    "- For tasks that build upon the outputs of previous tasks, skipping a task will affect your ability to proceed. To avoid such problems we will assist you loading a fallback dataset. "
   ]
  },
  {
   "cell_type": "code",
   "execution_count": 1,
   "id": "9337796b-21e8-4c8c-bbbd-3076a775d03b",
   "metadata": {},
   "outputs": [],
   "source": [
    "import helpers as h\n",
    "import pandas as pd\n",
    "\n",
    "import seaborn as sns\n",
    "import matplotlib.pyplot as plt\n",
    "import altair as alt\n",
    "\n",
    "import persist_ext as PR"
   ]
  },
  {
   "cell_type": "markdown",
   "id": "dd81aecd-eebf-4624-b9e2-3a864c474c1d",
   "metadata": {
    "__GENERATED_DATAFRAMES__": "{\"nodeDataframes\":{},\"graphDataframes\":null}",
    "show_aggregate_original": "false",
    "trrack_graph": "ᯡ࠽䈌ʀ匦㢠⹰Ҁ̡䘠烠嘢త〫‥侴ᓬᛞ拐ৡ䚂ద抭婈ހڅྯ䌲⠠䭈⑁槑焳Ⴥ⩦仃㍶๽㰥Ҩǁ#㟢䌰橠ኤРᜰ͐üメ湁˛㾄ָ̠憴)挄䀦栢琭ٮ㍄ᨡ䌤ᾣㆢ䀣擠䢤㘦Sᥧᡠ戂怡ᠬÖᠻ㹈䐿ة׉妨⃓ࢱ̴㖠᫲徤ฏѤƜڣ回㸦ۡ৵ण䃔戊㘠传ϊ緯挡䘌污䕽庮粓㈨ɪⷠ搃猄ᦨ洘㳌ᤪ̪౦繶ሱ澂䘣⁑Ҝഭ炍孉ृÅ⭱䤾ᢠ䆋෭ኀ㠢Ү≱呺Ấ惑汮ᮯ戩䊏̠˙Ɂ⧽憳㈒ṉⅱਊ⥋⃆瑀⣨  "
   },
   "source": [
    "## Data Description\n",
    "\n",
    "The table below describes the different columns in the dataset. Each row in the dataset represents a reported avalanche with details on location, trigger, and aspect. The data spans multiple years, starting from 2004 up to 2023.\n",
    "\n",
    "| Column          | Description                                                    |\n",
    "|-----------------|----------------------------------------------------------------|\n",
    "| Date            | Date on which the avalanche was recorded                       |\n",
    "| Region          | Region in Utah where the avalanche occurred                    |\n",
    "| Place           | Exact location where the avalanche was recorded                |\n",
    "| Trigger         | Cause of the avalanche                                         |\n",
    "| Weak Layer      | Layer of snow that was weakest and likely to fail              |\n",
    "| Depth_inches    | Depth of the avalanche in inches                               |\n",
    "| Width_inches    | Width of the avalanche in inches                               |\n",
    "| Vertical_inches | Vertical extend of the avalanche in inches                     |\n",
    "| Aspect          | Direction of the slope where the avalanche occurred            |\n",
    "| Elevation_feet  | Elevation of the avalanche location in feet                    |\n",
    "| Coordinates     | Approximate geographical coordinates of the avalanche location |\n",
    "| Comments 1      | Additional comments provided by the reporter                   |"
   ]
  },
  {
   "cell_type": "code",
   "execution_count": 2,
   "id": "8d0e426c-89a0-4813-8994-65ebba3f3a25",
   "metadata": {},
   "outputs": [
    {
     "data": {
      "text/html": [
       "<div>\n",
       "<style scoped>\n",
       "    .dataframe tbody tr th:only-of-type {\n",
       "        vertical-align: middle;\n",
       "    }\n",
       "\n",
       "    .dataframe tbody tr th {\n",
       "        vertical-align: top;\n",
       "    }\n",
       "\n",
       "    .dataframe thead th {\n",
       "        text-align: right;\n",
       "    }\n",
       "</style>\n",
       "<table border=\"1\" class=\"dataframe\">\n",
       "  <thead>\n",
       "    <tr style=\"text-align: right;\">\n",
       "      <th></th>\n",
       "      <th>Date</th>\n",
       "      <th>;Region</th>\n",
       "      <th>Place</th>\n",
       "      <th>;Trigger</th>\n",
       "      <th>;Weak Layer</th>\n",
       "      <th>Depth_inches</th>\n",
       "      <th>Width_inches</th>\n",
       "      <th>Vertical_inches</th>\n",
       "      <th>;Aspect</th>\n",
       "      <th>Elevation_feet</th>\n",
       "      <th>Coordinates</th>\n",
       "      <th>Comments 1</th>\n",
       "    </tr>\n",
       "  </thead>\n",
       "  <tbody>\n",
       "    <tr>\n",
       "      <th>0</th>\n",
       "      <td>11/9/2012</td>\n",
       "      <td>Salt Lake</td>\n",
       "      <td>Sunset Peak</td>\n",
       "      <td>Snowboarder</td>\n",
       "      <td>New Snow/Old Snow Interface</td>\n",
       "      <td>14.0</td>\n",
       "      <td>960.0</td>\n",
       "      <td>360.0</td>\n",
       "      <td>North</td>\n",
       "      <td>10400.0</td>\n",
       "      <td>40.577977000000, -111.595817000000</td>\n",
       "      <td>While it was a small avalanche that was I caug...</td>\n",
       "    </tr>\n",
       "    <tr>\n",
       "      <th>1</th>\n",
       "      <td>11/11/2012</td>\n",
       "      <td>Salt Lake</td>\n",
       "      <td>Patsy Marly</td>\n",
       "      <td>Skier</td>\n",
       "      <td>New Snow/Old Snow Interface</td>\n",
       "      <td>30.0</td>\n",
       "      <td>1200.0</td>\n",
       "      <td>1200.0</td>\n",
       "      <td>North</td>\n",
       "      <td>9700.0</td>\n",
       "      <td>40.592619000000, -111.616099000000</td>\n",
       "      <td>A North facing aspect with an exposed ridge in...</td>\n",
       "    </tr>\n",
       "    <tr>\n",
       "      <th>2</th>\n",
       "      <td>11/11/2012</td>\n",
       "      <td>Salt Lake</td>\n",
       "      <td>Two Dogs</td>\n",
       "      <td>Skier</td>\n",
       "      <td>Facets</td>\n",
       "      <td>36.0</td>\n",
       "      <td>840.0</td>\n",
       "      <td>5400.0</td>\n",
       "      <td>North</td>\n",
       "      <td>10200.0</td>\n",
       "      <td>40.599291000000, -111.642315000000</td>\n",
       "      <td>Remotely triggered all the new storm snow (abo...</td>\n",
       "    </tr>\n",
       "    <tr>\n",
       "      <th>3</th>\n",
       "      <td>11/11/2012</td>\n",
       "      <td>Salt Lake</td>\n",
       "      <td>Emma Ridges</td>\n",
       "      <td>Skier</td>\n",
       "      <td>New Snow</td>\n",
       "      <td>18.0</td>\n",
       "      <td>600.0</td>\n",
       "      <td>6000.0</td>\n",
       "      <td>Southeast</td>\n",
       "      <td>10200.0</td>\n",
       "      <td>40.598313000000, -111.628304000000</td>\n",
       "      <td>Impressive fast powder cloud ran in front of t...</td>\n",
       "    </tr>\n",
       "    <tr>\n",
       "      <th>4</th>\n",
       "      <td>11/11/2012</td>\n",
       "      <td>Salt Lake</td>\n",
       "      <td>Sunset Peak</td>\n",
       "      <td>Skier</td>\n",
       "      <td>Facets</td>\n",
       "      <td>42.0</td>\n",
       "      <td>18000.0</td>\n",
       "      <td>9600.0</td>\n",
       "      <td>North</td>\n",
       "      <td>10400.0</td>\n",
       "      <td>40.578590000000, -111.595087000000</td>\n",
       "      <td>Three of us toured from Brighton to low saddle...</td>\n",
       "    </tr>\n",
       "    <tr>\n",
       "      <th>...</th>\n",
       "      <td>...</td>\n",
       "      <td>...</td>\n",
       "      <td>...</td>\n",
       "      <td>...</td>\n",
       "      <td>...</td>\n",
       "      <td>...</td>\n",
       "      <td>...</td>\n",
       "      <td>...</td>\n",
       "      <td>...</td>\n",
       "      <td>...</td>\n",
       "      <td>...</td>\n",
       "      <td>...</td>\n",
       "    </tr>\n",
       "    <tr>\n",
       "      <th>2387</th>\n",
       "      <td>4/22/2023</td>\n",
       "      <td>Salt Lake</td>\n",
       "      <td>Cardiff Bowl</td>\n",
       "      <td>Unknown</td>\n",
       "      <td>New Snow/Old Snow Interface</td>\n",
       "      <td>8.0</td>\n",
       "      <td>720.0</td>\n",
       "      <td>1800.0</td>\n",
       "      <td>East</td>\n",
       "      <td>9800.0</td>\n",
       "      <td>40.592721660567, -111.649613218710</td>\n",
       "      <td>We spent the day skiing the southerly-facing a...</td>\n",
       "    </tr>\n",
       "    <tr>\n",
       "      <th>2388</th>\n",
       "      <td>4/22/2023</td>\n",
       "      <td>Logan</td>\n",
       "      <td>Miller Bowl, East</td>\n",
       "      <td>Snowmobiler</td>\n",
       "      <td>New Snow/Old Snow Interface</td>\n",
       "      <td>18.0</td>\n",
       "      <td>540.0</td>\n",
       "      <td>4800.0</td>\n",
       "      <td>North</td>\n",
       "      <td>8700.0</td>\n",
       "      <td>41.886233332343, -111.645074831510</td>\n",
       "      <td>Not sure about the story here, but we observed...</td>\n",
       "    </tr>\n",
       "    <tr>\n",
       "      <th>2389</th>\n",
       "      <td>4/22/2023</td>\n",
       "      <td>Logan</td>\n",
       "      <td>Millville Peak</td>\n",
       "      <td>Snowboarder</td>\n",
       "      <td>New Snow/Old Snow Interface</td>\n",
       "      <td>12.0</td>\n",
       "      <td>3600.0</td>\n",
       "      <td>7200.0</td>\n",
       "      <td>North</td>\n",
       "      <td>8900.0</td>\n",
       "      <td>41.677564539953, -111.718065248970</td>\n",
       "      <td>Details are a bit limited and we're not sure w...</td>\n",
       "    </tr>\n",
       "    <tr>\n",
       "      <th>2390</th>\n",
       "      <td>5/7/2023</td>\n",
       "      <td>Salt Lake</td>\n",
       "      <td>Red Top Mountain</td>\n",
       "      <td>Natural</td>\n",
       "      <td>Unknown</td>\n",
       "      <td>72.0</td>\n",
       "      <td>3000.0</td>\n",
       "      <td>12000.0</td>\n",
       "      <td>West</td>\n",
       "      <td>10800.0</td>\n",
       "      <td>40.546874131921, -111.663880335390</td>\n",
       "      <td>Saw this avalanche around 9.30 AM from the top...</td>\n",
       "    </tr>\n",
       "    <tr>\n",
       "      <th>2391</th>\n",
       "      <td>5/9/2023</td>\n",
       "      <td>Salt Lake</td>\n",
       "      <td>Microwave</td>\n",
       "      <td>Skier</td>\n",
       "      <td>Unknown</td>\n",
       "      <td>6.0</td>\n",
       "      <td>300.0</td>\n",
       "      <td>2400.0</td>\n",
       "      <td>West</td>\n",
       "      <td>10000.0</td>\n",
       "      <td>40.589449603656, -111.613240229200</td>\n",
       "      <td>Intentionally triggered during a ski cut. Ran ...</td>\n",
       "    </tr>\n",
       "  </tbody>\n",
       "</table>\n",
       "<p>2392 rows × 12 columns</p>\n",
       "</div>"
      ],
      "text/plain": [
       "            Date    ;Region              Place     ;Trigger  \\\n",
       "0      11/9/2012  Salt Lake        Sunset Peak  Snowboarder   \n",
       "1     11/11/2012  Salt Lake        Patsy Marly        Skier   \n",
       "2     11/11/2012  Salt Lake           Two Dogs        Skier   \n",
       "3     11/11/2012  Salt Lake        Emma Ridges        Skier   \n",
       "4     11/11/2012  Salt Lake        Sunset Peak        Skier   \n",
       "...          ...        ...                ...          ...   \n",
       "2387   4/22/2023  Salt Lake       Cardiff Bowl      Unknown   \n",
       "2388   4/22/2023      Logan  Miller Bowl, East  Snowmobiler   \n",
       "2389   4/22/2023      Logan     Millville Peak  Snowboarder   \n",
       "2390    5/7/2023  Salt Lake   Red Top Mountain      Natural   \n",
       "2391    5/9/2023  Salt Lake          Microwave        Skier   \n",
       "\n",
       "                      ;Weak Layer Depth_inches  Width_inches  Vertical_inches  \\\n",
       "0     New Snow/Old Snow Interface         14.0         960.0            360.0   \n",
       "1     New Snow/Old Snow Interface         30.0        1200.0           1200.0   \n",
       "2                          Facets         36.0         840.0           5400.0   \n",
       "3                        New Snow         18.0         600.0           6000.0   \n",
       "4                          Facets         42.0       18000.0           9600.0   \n",
       "...                           ...          ...           ...              ...   \n",
       "2387  New Snow/Old Snow Interface          8.0         720.0           1800.0   \n",
       "2388  New Snow/Old Snow Interface         18.0         540.0           4800.0   \n",
       "2389  New Snow/Old Snow Interface         12.0        3600.0           7200.0   \n",
       "2390                      Unknown         72.0        3000.0          12000.0   \n",
       "2391                      Unknown          6.0         300.0           2400.0   \n",
       "\n",
       "        ;Aspect  Elevation_feet                         Coordinates  \\\n",
       "0         North         10400.0  40.577977000000, -111.595817000000   \n",
       "1         North          9700.0  40.592619000000, -111.616099000000   \n",
       "2         North         10200.0  40.599291000000, -111.642315000000   \n",
       "3     Southeast         10200.0  40.598313000000, -111.628304000000   \n",
       "4         North         10400.0  40.578590000000, -111.595087000000   \n",
       "...         ...             ...                                 ...   \n",
       "2387       East          9800.0  40.592721660567, -111.649613218710   \n",
       "2388      North          8700.0  41.886233332343, -111.645074831510   \n",
       "2389      North          8900.0  41.677564539953, -111.718065248970   \n",
       "2390       West         10800.0  40.546874131921, -111.663880335390   \n",
       "2391       West         10000.0  40.589449603656, -111.613240229200   \n",
       "\n",
       "                                             Comments 1  \n",
       "0     While it was a small avalanche that was I caug...  \n",
       "1     A North facing aspect with an exposed ridge in...  \n",
       "2     Remotely triggered all the new storm snow (abo...  \n",
       "3     Impressive fast powder cloud ran in front of t...  \n",
       "4     Three of us toured from Brighton to low saddle...  \n",
       "...                                                 ...  \n",
       "2387  We spent the day skiing the southerly-facing a...  \n",
       "2388  Not sure about the story here, but we observed...  \n",
       "2389  Details are a bit limited and we're not sure w...  \n",
       "2390  Saw this avalanche around 9.30 AM from the top...  \n",
       "2391  Intentionally triggered during a ski cut. Ran ...  \n",
       "\n",
       "[2392 rows x 12 columns]"
      ]
     },
     "execution_count": 2,
     "metadata": {},
     "output_type": "execute_result"
    }
   ],
   "source": [
    "df = pd.read_csv('./avalanches_data.csv')\n",
    "df"
   ]
  },
  {
   "cell_type": "markdown",
   "id": "7cc10d2b-9b1e-46f4-9769-b9a0ac0c9e8f",
   "metadata": {
    "__GENERATED_DATAFRAMES__": "{\"nodeDataframes\":{},\"graphDataframes\":null}",
    "show_aggregate_original": "false",
    "trrack_graph": "ᯡ࠽䈌ʀ匦㢠⹰ૠ㌬Ā჻R〶䁃lyٹ⁓f䍐ۢ䧪㈉◔ฅޡ䨲⠠䬱䑁棒瀱Ⴭ⭱妻ݎẜʤ䐡傠ǖ悃РኤРᜰ結üメ浪巟㈠ᣠˬ⃪$熒‣㐡㬚͇⦲༿⸂໡壡‡犀⒂ଠᎭॣ䥡⊃㡹稠嬸ූᑤඦҡ哹䑀妨䤝͕䀺慽䈩瞤∡㼚ƶ嵖᯦悡檩ǣ᪀畖o#䖊⠃ܑ璌⃥⹾䞌᧒Т⺈ᆡ⇳㴑䒤㒌ŭ᯸丈◡戱⃰潅Ԧ秐噑๦磜疶溂⒀ᒪ扖⋦ူⶃ㧄మྡྷშ⨭རㅸ瘭ǅ爘䅐䘆砠址䑂㥨㈼㹯䕈䓵ᒹ憴婊③ᤠ "
   },
   "source": [
    "# Task 1: Refining Columns and Preparing Data\n",
    "\n",
    "In the first task we will perform some basic data cleaning operations to get our dataset ready for further tasks."
   ]
  },
  {
   "cell_type": "markdown",
   "id": "8934b219-dd97-4e3e-9aa9-0dd7a9d62ad5",
   "metadata": {
    "__GENERATED_DATAFRAMES__": "{\"nodeDataframes\":{},\"graphDataframes\":null}",
    "show_aggregate_original": "false",
    "trrack_graph": "ᯡ࠽䈌ʀ匦㢠⹰ૠ㬠氤〥䌸瀶䀹䁣๲ৠܦᔨҀᣴ䂼䋃‣ᓆ做►䀳ല⠠䭈⑁槑瀱ᝉ⍮冫㭮ẜʦ䒠ǁ#㕀挸晠ኤРᝣၐüムṁǟ㤉䀥䉸攠ʓ㥀ǔÚ⎃஥䤫䒄攭ᇸ惀Ēいᘦᖠೣ䗫⃂変ⱦ{ఽ咼∪⌤䋵汄ჹ䑈冣ᛠඉⵆܔ⍂Þ⍡歹ম悩溩Ǡ媁疖o#䖓瀃ʅ璌⁅溮杲◒Ъ⍁䔶户ࣉⓢ削౐䘰䵥䌂んḸئԢ灐糕൤㧶ⶬ䲱䅲ᗈ撯ౠ惍䈅䥐属ѣ၈⩍སヸ๗௧焤ᄸ䒰Ž䅰䔉燩壥༲刳樲⭮✈咰ᒄ  "
   },
   "source": [
    "### **Task 1a: Remove Columns**"
   ]
  },
  {
   "cell_type": "markdown",
   "id": "47b531d4-2e3a-4e9a-b92a-39aebfc3deb6",
   "metadata": {
    "__GENERATED_DATAFRAMES__": "{\"nodeDataframes\":{},\"graphDataframes\":null}",
    "show_aggregate_original": "false",
    "trrack_graph": "ᯡ࠽䈌ʀ匦㢠⹰ૠ㬠氤〥䌸瀶䀹䁣๲ৠܦᔨҀᣴ䂼䋃‣ᓆ做►䀳ല⠠䭈⑁槑瀱ᝉ⍮冫㭮ẜʦ䒠ǁ#㕀挸晠ኤРᝣၐüムṁǟ㤉䀥䉸攠ʓ㥀ǔÚ⎃஥䤫䒄攭ᇸ惀Ēいᘦᖠೣ䗫⃂変ⱦ{ఽ咼∪⌤䋵汄ჹ䑈冣ᛠඉⵆܔ⍂Þ⍡歹ম悩溩Ǡ媁疖o#䖓瀃ʅ璌⁅溮杲◒Ъ⍁䔶户ࣉⓢ削౐䘰䵥䌂んḸئԢ灐糕൤㧶ⶬ䲱䅲ᗈ撯ౠ惍䈅䥐属ѣ၈⩍སヸ๗௧焤ᄸ䒰Ž䅰䔉燩壥༲刳樲⭮✈咰ᒄ  "
   },
   "source": [
    "Remove the follwoing columns to streamline the dataset for further analysis:\n",
    "- **_Comments 1:_** Contains textual comments not crucial for quantitative analysis.\n",
    "- **_Coordinates:_** Detailed location data not needed for the current scope of analysis."
   ]
  },
  {
   "cell_type": "markdown",
   "id": "aec9ad2a-ab09-4288-b8fa-2852bcddda1a",
   "metadata": {},
   "source": [
    "#### **Instructions**\n",
    "1. **Column Removal:**\n",
    "\t- Use the interactive table feature in PersIst to remove the specified columns.\n",
    "3. **Verify the Output:**\n",
    "\t- Print the head of the generated dataframe to verify the changes."
   ]
  },
  {
   "cell_type": "code",
   "execution_count": 3,
   "id": "8e333ff3-cb24-430b-a332-733b41570ba4",
   "metadata": {
    "__GENERATED_DATAFRAMES__": "ᯡࠩ䃬࿀ᜤᠹ悋ᐨ掺‷ᒰ๮Öŭ宭Ẅ梊䐠㑀Ӑ 䁯⌸಍䘠✠垂Þ兠 ",
    "__has_persist_output": true,
    "editable": true,
    "slideshow": {
     "slide_type": ""
    },
    "tags": [],
    "trrack_graph": "ᯡ࠽䈌ʀ匦㢠⹰Ǡㆠత〨昜ׁ⁛nÌȡ〦〭䔱ඩ恦剰ࢃ૸瓶䍩ᐠ▴ሰ瓸礨䡶埈抹嗛᜾㸢䈠桠ú㤁䏱ဩ™+䑎䰠㜸ヷࡣ䵹夦䀢扏⨠Ꮓ䤠ෂǀ烰焉⑴ȼ⽉᪷䖠┃ↀㅲᠠ♼䴵ܼ䝡䈰̊甕盦␬⺺ၓ䦃ʠϩ䂰壤ಎ䘵ᢪ䀬担ᎆ琡㙐䭮エᎬथ᳑ࡣ嬱䈅ြ֠᫬㧯盹ڴƝ㬛►᪅䄭㇗ѹ䃮ⰡḠݧ䯗䘭ේ碡क़ṛᎢ㍀⁑ɪ⇁妞交〱㡮ອ↑़Ꭳ䧤梘匎⎂ᢴϢ篜ኚ䘨橝䝊㝮ࣁᆈ噏ॡॊ᥊䯅᤬㝍䰅ւ䡦Ѣ⹺㺳৤ॄ䨢䧄᥌宻攴┯ä㊣⹧Ꭱᠠ҈Я•峦〶倦犸〠᳹㙖ⰰᛜ櫔嘾ᕰ঒ʀ⛆#疕ͱ分禜°⛑È父߶摰䨮ڣℸ䆶ӄ烀䳓ʢ懨ᢞ̣倦ဦ欗洼杄䦥成ᒼ䥥倸☫۠燘帾㗀غ⛋⫔璚庬㝦䔈燄浓̆׃ⶊᶔⶤௗ洮寉歗硎⮭滕椀ㄬ%ࣰ㒏嬃ᥠ္搯喠柃䖟㡲佗䐂̷ᚏ࠲ҥ ᘁሥ⼣ڢṽଙ㰩#榩〲ơǌ緽⟃甕⇎楮㠋糽ఠ˲㐺ɀ䑋冀绌簦é慨㸦䳸❬⇈ᴮℲ㤳䀦Ĩᵨ㤵䇸唩懨Ɔ䉠ခᅳ㢢̺ᠲ燠䈱ᠠヒ੔L厥纤␶ᅓ೴嫳䗠㫳䪰汿ࠃ簠勧ᨢ峖䡵䢣ვ兠㛊᧐梍偡K勀㣀䬡⼁剖ჱ噗䚩䂆♤ᕗ⛤ፖ曤᝗晓ࡳر䩑䙸䅖偡╒儹䭑晸ཐᘵღ哺⍶櫞䔭ᨠտ您ୢ棠缫⫺⵲坵嫟捚ܵ梠⥛檵置儘㼽梤ဦ̰⠠㎔丶ጰ䌻፰Ⱘㆄ穀䎰ᠳ䜴晦䎄㐠夶ዳ咪⢬⥒᙭䣪乧ሄʱ⤈伳孔㚣冔Ẫ䃀披âᇪレ৪慮❶狮ᶯ〼寬燎ᄲ燀Ᏸಠ᷶>⏺೼倦竣⯭࿌㯡牞ብ拞知⚢悽؞ᠬだܣ戁ज़囩㽬ɉ垼҉䝵ވ劅挩檌②㪎♓╅何ᫎ咞㡂₫囅撓Ń֕ⱐ܁庂␱ᡕ❞㡮䬬⸠䇀删潰㰥䖐戲䅭乘䇰ಪʐ䌥栉⼻猜義抹प≶夺摈竹≖㔥媈杕整偻჎凜㙭槖㟭䗃୍嗝㒀䷛㐶䅼⃘⤂㒀⧀䃭ᰮ㕰זቇ䨹Ằු䆍ᷙ⠵㕼梚ዀ⺺=⹫㙍†敘㏧⨺巁潘ល瀛孻ず妍檰䍐ద炊奢㊢䀪㼩慲⤠᡹㤩憈䨭䠪㔥ăഢ㼃㥅Å⢾瓫㞸䰜䩴䷲塱௒湱淩ឈ笰⾂竾眓㵏匼倫窫ׄ害ㆡ冑䇊珎㉐庘㟼䏬㱈戡ᣣけ崓᝖焃ᡂ䄩Fい♿䝌擢䳉呪ⱘ䢠Ⓐᔸ߆ᑄ曢敵⋭嘘偩㦴©ఁ⭺ဆڌ慆䱝⏯峥䢹咫䂨侓खබ丰囸␤㳺䐐䞥࣓猬໑敶ʴ⑤㚔ǜ䘮䆈乓疺榐㤶摞ᒖ构㊎挠晳沄᫐綽ㅈઢ㚕֌縢ีؼ䠠ぷ֙埅抏㜖偽矾䐊惜ઝ柨ӆ噉㏄䂀⬒䑐佂ࢾಛ摠ㅘ縂✠⾲⠅⫃ᢚ৴圂㐠ࡇďഭϫ⦊㻇ⱄ窶ᥖ㜾倶稄ౣ⬭䖶籄ݘ採㧧ঐ✬ɮ㗅⻉捽槳籉ᯑế㋝㑡䙊ء῏ᢟⓐò̇ƒ䆮נ摐湤෼䒊䇇䶣။΀㼑ᩎ᭞ᄯ୲ࡱ䂡⇪櫃㓾䌸Ⅹא䚗ಯ༹㔆妭慊።瑓匞ほ᦭◴爇୩ठ暴䔼Ὅ義ⵁⵧᆓ犑á倴Ǡ㎀⸸༱⥷㵲ଣ疡,Ⅵ煎䘒⡣㈝➃⻤攼⏸⬫䕹㲧㣛጑℄牢਽湩È᪱㪥䆶㎬夺昖༰ฮ␃涮刕ῢ٫䂤䙨潌䧾岰㹧朳ȡፏ䗩  "
   },
   "outputs": [
    {
     "data": {
      "application/vnd.jupyter.widget-view+json": {
       "model_id": "979847003072433e958bac22aeb29e67",
       "version_major": 2,
       "version_minor": 0
      },
      "text/plain": [
       "PersistWidget(data_values=[{'__id_column': '1', 'Date': 1352419200000, ';Region': 'Salt Lake', 'Place': 'Sunse…"
      ]
     },
     "execution_count": 3,
     "metadata": {},
     "output_type": "execute_result"
    }
   ],
   "source": [
    "PR.PersistTable(df, df_name=\"df_task_1a\")"
   ]
  },
  {
   "cell_type": "code",
   "execution_count": 4,
   "id": "26e61259-1283-4124-ab23-b027c3eeadb5",
   "metadata": {},
   "outputs": [
    {
     "data": {
      "text/html": [
       "<div>\n",
       "<style scoped>\n",
       "    .dataframe tbody tr th:only-of-type {\n",
       "        vertical-align: middle;\n",
       "    }\n",
       "\n",
       "    .dataframe tbody tr th {\n",
       "        vertical-align: top;\n",
       "    }\n",
       "\n",
       "    .dataframe thead th {\n",
       "        text-align: right;\n",
       "    }\n",
       "</style>\n",
       "<table border=\"1\" class=\"dataframe\">\n",
       "  <thead>\n",
       "    <tr style=\"text-align: right;\">\n",
       "      <th></th>\n",
       "      <th>Date</th>\n",
       "      <th>Region</th>\n",
       "      <th>Place</th>\n",
       "      <th>Trigger</th>\n",
       "      <th>Weak Layer</th>\n",
       "      <th>Depth_inches</th>\n",
       "      <th>Width_inches</th>\n",
       "      <th>Vertical_inches</th>\n",
       "      <th>Aspect</th>\n",
       "      <th>Elevation_feet</th>\n",
       "      <th>Coordinates</th>\n",
       "      <th>Comments 1</th>\n",
       "    </tr>\n",
       "  </thead>\n",
       "  <tbody>\n",
       "    <tr>\n",
       "      <th>0</th>\n",
       "      <td>2012-11-09</td>\n",
       "      <td>Salt Lake</td>\n",
       "      <td>Sunset Peak</td>\n",
       "      <td>Snowboarder</td>\n",
       "      <td>New Snow/Old Snow Interface</td>\n",
       "      <td>14.0</td>\n",
       "      <td>960</td>\n",
       "      <td>360.0</td>\n",
       "      <td>North</td>\n",
       "      <td>10400.0</td>\n",
       "      <td>40.577977000000, -111.595817000000</td>\n",
       "      <td>While it was a small avalanche that was I caug...</td>\n",
       "    </tr>\n",
       "    <tr>\n",
       "      <th>1</th>\n",
       "      <td>2012-11-11</td>\n",
       "      <td>Salt Lake</td>\n",
       "      <td>Patsy Marly</td>\n",
       "      <td>Skier</td>\n",
       "      <td>New Snow/Old Snow Interface</td>\n",
       "      <td>30.0</td>\n",
       "      <td>1200</td>\n",
       "      <td>1200.0</td>\n",
       "      <td>North</td>\n",
       "      <td>9700.0</td>\n",
       "      <td>40.592619000000, -111.616099000000</td>\n",
       "      <td>A North facing aspect with an exposed ridge in...</td>\n",
       "    </tr>\n",
       "    <tr>\n",
       "      <th>2</th>\n",
       "      <td>2012-11-11</td>\n",
       "      <td>Salt Lake</td>\n",
       "      <td>Two Dogs</td>\n",
       "      <td>Skier</td>\n",
       "      <td>Facets</td>\n",
       "      <td>36.0</td>\n",
       "      <td>840</td>\n",
       "      <td>5400.0</td>\n",
       "      <td>North</td>\n",
       "      <td>10200.0</td>\n",
       "      <td>40.599291000000, -111.642315000000</td>\n",
       "      <td>Remotely triggered all the new storm snow (abo...</td>\n",
       "    </tr>\n",
       "    <tr>\n",
       "      <th>3</th>\n",
       "      <td>2012-11-11</td>\n",
       "      <td>Salt Lake</td>\n",
       "      <td>Emma Ridges</td>\n",
       "      <td>Skier</td>\n",
       "      <td>New Snow</td>\n",
       "      <td>18.0</td>\n",
       "      <td>600</td>\n",
       "      <td>6000.0</td>\n",
       "      <td>Southeast</td>\n",
       "      <td>10200.0</td>\n",
       "      <td>40.598313000000, -111.628304000000</td>\n",
       "      <td>Impressive fast powder cloud ran in front of t...</td>\n",
       "    </tr>\n",
       "    <tr>\n",
       "      <th>4</th>\n",
       "      <td>2012-11-11</td>\n",
       "      <td>Salt Lake</td>\n",
       "      <td>Sunset Peak</td>\n",
       "      <td>Skier</td>\n",
       "      <td>Facets</td>\n",
       "      <td>42.0</td>\n",
       "      <td>18000</td>\n",
       "      <td>9600.0</td>\n",
       "      <td>North</td>\n",
       "      <td>10400.0</td>\n",
       "      <td>40.578590000000, -111.595087000000</td>\n",
       "      <td>Three of us toured from Brighton to low saddle...</td>\n",
       "    </tr>\n",
       "  </tbody>\n",
       "</table>\n",
       "</div>"
      ],
      "text/plain": [
       "        Date     Region        Place      Trigger  \\\n",
       "0 2012-11-09  Salt Lake  Sunset Peak  Snowboarder   \n",
       "1 2012-11-11  Salt Lake  Patsy Marly        Skier   \n",
       "2 2012-11-11  Salt Lake     Two Dogs        Skier   \n",
       "3 2012-11-11  Salt Lake  Emma Ridges        Skier   \n",
       "4 2012-11-11  Salt Lake  Sunset Peak        Skier   \n",
       "\n",
       "                    Weak Layer Depth_inches  Width_inches  Vertical_inches  \\\n",
       "0  New Snow/Old Snow Interface         14.0           960            360.0   \n",
       "1  New Snow/Old Snow Interface         30.0          1200           1200.0   \n",
       "2                       Facets         36.0           840           5400.0   \n",
       "3                     New Snow         18.0           600           6000.0   \n",
       "4                       Facets         42.0         18000           9600.0   \n",
       "\n",
       "      Aspect  Elevation_feet                         Coordinates  \\\n",
       "0      North         10400.0  40.577977000000, -111.595817000000   \n",
       "1      North          9700.0  40.592619000000, -111.616099000000   \n",
       "2      North         10200.0  40.599291000000, -111.642315000000   \n",
       "3  Southeast         10200.0  40.598313000000, -111.628304000000   \n",
       "4      North         10400.0  40.578590000000, -111.595087000000   \n",
       "\n",
       "                                          Comments 1  \n",
       "0  While it was a small avalanche that was I caug...  \n",
       "1  A North facing aspect with an exposed ridge in...  \n",
       "2  Remotely triggered all the new storm snow (abo...  \n",
       "3  Impressive fast powder cloud ran in front of t...  \n",
       "4  Three of us toured from Brighton to low saddle...  "
      ]
     },
     "execution_count": 4,
     "metadata": {},
     "output_type": "execute_result"
    }
   ],
   "source": [
    "df_task_1a = df_task_1a_1\n",
    "df_task_1a_1.head()"
   ]
  },
  {
   "cell_type": "markdown",
   "id": "36c62d50-9c88-4ed9-8c97-e552a6e4c620",
   "metadata": {},
   "source": [
    "### **Task 1b: Fix Column Names**"
   ]
  },
  {
   "cell_type": "markdown",
   "id": "ab8f8f24-afd2-424f-ab34-3e3cde723aa3",
   "metadata": {
    "trrack_graph": "ᯡ࠽䈌ʀ匦㢠⹰ࢀㆪこ<ǐʀ୥崡汤Ɓ䔠⍂⠨撂䂼ì债晶堪慯掩ᐠ▴ሰ璹㤨䮲减ⓥ䢧᜾㺣䉠ð䀡壅冨㕀ॢȠ௞䠸ᢀ眰䅽忖䀢晐樠Ԃ牠ΈƔڦ❓ሠƠ暬ॡ声Ȅ恨䙜⬮ಬ俨⫣䞐డ㙐᬴⣔䰲ճ㌰䊆၂۔欠㖹┰᧶༨̘ඛฌ琻ɋ㉄ܠ榡哸Ŝ.ؗ⾬ള勑̵㯺ᱱ曨ဩᒡᾪ३⁂惡৒ј⪖ᩋࢶ䥣䍢ᇃ⢀☾ԣ䖎㑝䳓ⳄⓀ᪱ĦҐ戤׌㝔䆦成扉ڠ凈㨣ೣㅘ湏Bࡤ䒠ଈତޗ٩䟨㣜㥨◈ᩲ㭡⟢䀠 "
   },
   "source": [
    "It looks like something went wrong when reading the file and some column headers start with a `;`. **Please remove the semicolon from all headers**. "
   ]
  },
  {
   "cell_type": "markdown",
   "id": "63f4d5c5-9383-4857-beae-0cfa6ba466f2",
   "metadata": {},
   "source": [
    "#### **Instructions**\n",
    "1. **Rename Columns:**\n",
    "    - Use the interactive  table in Persist to correct the column names by removing the leading `;` from their names:\n",
    "        - _;Aspect_ → _Aspect_\n",
    "        - _;Region_ → _Region_\n",
    "        - _;Trigger_ → _Trigger_\n",
    "        - _;Weak Layer_ → _Weak Layer_\n",
    "2. **Verify the Output:**\n",
    "\t- Print the head of the generated dataframe to verify the changes."
   ]
  },
  {
   "cell_type": "code",
   "execution_count": 5,
   "id": "e74dd265-2437-40e4-8673-be7ea1d079b3",
   "metadata": {
    "__GENERATED_DATAFRAMES__": "ᯡࠩ䃬࿀ᜤᠹ悋ᐨ怱䵀ழ䠮✠嬡♛䚾㊊㕤Tဤ塀Ѡ➠㮂䰬㇦3䁋䒠⾸倠 ",
    "__has_persist_output": true,
    "trrack_graph": "ᯡ࠽䈌ʀ匦㢠⹰Ӣ䆸ᆠ㌣෰ୣc¼动ˠᖷ⹤ɗ擠ใ㓣ᚡ汐Ǔ兔明䒴E䨲ࡔⲙѨ⥳傌櫣䮯㽁ᆂ†桠ú䥑䅛ဩ™+䣨ఠ㜸クࡢ汚㿠Ɖᅒ䀡᷼䠠洠⻑䓵榄䓦ᰁ䍩癐⠠㲸ऻ௩䁌拲㇨洈爴ㆠᛦྊ₱ʱ䅀瘖䤨ຂᩘ擧〦奶䡢綱⢠⿑䢍宪⟧塁㪂ₐ嚸Ν䀳怠獺砤成絻ࡩ޳䗴䖌䄦䫫䨐⣜模ֱᬩ䩠ᇃびᥩᡈک䛀曔⬿玁᲻໶Ⅹ䤉ࠬ㉤♀࡮攑搸ภ䙁䢴ാ䒀夌✻䐂Ӣ⢼♨ÎႸ⚒稄汲䞭⤩⁶䙭楉̸搠 "
   },
   "outputs": [
    {
     "data": {
      "application/vnd.jupyter.widget-view+json": {
       "model_id": "c03ca63ac0674f9ea66a4721c8cdb65e",
       "version_major": 2,
       "version_minor": 0
      },
      "text/plain": [
       "PersistWidget(data_values=[{'__id_column': '1', 'Date': 1352419200000, 'Region': 'Salt Lake', 'Place': 'Sunset…"
      ]
     },
     "execution_count": 5,
     "metadata": {},
     "output_type": "execute_result"
    }
   ],
   "source": [
    "PR.PersistTable(df_task_1a, df_name=\"df_task_1b\")"
   ]
  },
  {
   "cell_type": "code",
   "execution_count": 6,
   "id": "e7cbfbf9-c0fa-421f-9a47-a23b6dee2db8",
   "metadata": {},
   "outputs": [
    {
     "data": {
      "text/html": [
       "<div>\n",
       "<style scoped>\n",
       "    .dataframe tbody tr th:only-of-type {\n",
       "        vertical-align: middle;\n",
       "    }\n",
       "\n",
       "    .dataframe tbody tr th {\n",
       "        vertical-align: top;\n",
       "    }\n",
       "\n",
       "    .dataframe thead th {\n",
       "        text-align: right;\n",
       "    }\n",
       "</style>\n",
       "<table border=\"1\" class=\"dataframe\">\n",
       "  <thead>\n",
       "    <tr style=\"text-align: right;\">\n",
       "      <th></th>\n",
       "      <th>Date</th>\n",
       "      <th>Region</th>\n",
       "      <th>Place</th>\n",
       "      <th>Trigger</th>\n",
       "      <th>Weak Layer</th>\n",
       "      <th>Depth_inches</th>\n",
       "      <th>Width_inches</th>\n",
       "      <th>Vertical_inches</th>\n",
       "      <th>Aspect</th>\n",
       "      <th>Elevation_feet</th>\n",
       "      <th>Coordinates</th>\n",
       "      <th>Comments 1</th>\n",
       "    </tr>\n",
       "  </thead>\n",
       "  <tbody>\n",
       "    <tr>\n",
       "      <th>0</th>\n",
       "      <td>2012-11-09</td>\n",
       "      <td>Salt Lake</td>\n",
       "      <td>Sunset Peak</td>\n",
       "      <td>Snowboarder</td>\n",
       "      <td>New Snow/Old Snow Interface</td>\n",
       "      <td>14.0</td>\n",
       "      <td>960</td>\n",
       "      <td>360.0</td>\n",
       "      <td>North</td>\n",
       "      <td>10400.0</td>\n",
       "      <td>40.577977000000, -111.595817000000</td>\n",
       "      <td>While it was a small avalanche that was I caug...</td>\n",
       "    </tr>\n",
       "    <tr>\n",
       "      <th>1</th>\n",
       "      <td>2012-11-11</td>\n",
       "      <td>Salt Lake</td>\n",
       "      <td>Patsy Marly</td>\n",
       "      <td>Skier</td>\n",
       "      <td>New Snow/Old Snow Interface</td>\n",
       "      <td>30.0</td>\n",
       "      <td>1200</td>\n",
       "      <td>1200.0</td>\n",
       "      <td>North</td>\n",
       "      <td>9700.0</td>\n",
       "      <td>40.592619000000, -111.616099000000</td>\n",
       "      <td>A North facing aspect with an exposed ridge in...</td>\n",
       "    </tr>\n",
       "    <tr>\n",
       "      <th>2</th>\n",
       "      <td>2012-11-11</td>\n",
       "      <td>Salt Lake</td>\n",
       "      <td>Two Dogs</td>\n",
       "      <td>Skier</td>\n",
       "      <td>Facets</td>\n",
       "      <td>36.0</td>\n",
       "      <td>840</td>\n",
       "      <td>5400.0</td>\n",
       "      <td>North</td>\n",
       "      <td>10200.0</td>\n",
       "      <td>40.599291000000, -111.642315000000</td>\n",
       "      <td>Remotely triggered all the new storm snow (abo...</td>\n",
       "    </tr>\n",
       "    <tr>\n",
       "      <th>3</th>\n",
       "      <td>2012-11-11</td>\n",
       "      <td>Salt Lake</td>\n",
       "      <td>Emma Ridges</td>\n",
       "      <td>Skier</td>\n",
       "      <td>New Snow</td>\n",
       "      <td>18.0</td>\n",
       "      <td>600</td>\n",
       "      <td>6000.0</td>\n",
       "      <td>Southeast</td>\n",
       "      <td>10200.0</td>\n",
       "      <td>40.598313000000, -111.628304000000</td>\n",
       "      <td>Impressive fast powder cloud ran in front of t...</td>\n",
       "    </tr>\n",
       "    <tr>\n",
       "      <th>4</th>\n",
       "      <td>2012-11-11</td>\n",
       "      <td>Salt Lake</td>\n",
       "      <td>Sunset Peak</td>\n",
       "      <td>Skier</td>\n",
       "      <td>Facets</td>\n",
       "      <td>42.0</td>\n",
       "      <td>18000</td>\n",
       "      <td>9600.0</td>\n",
       "      <td>North</td>\n",
       "      <td>10400.0</td>\n",
       "      <td>40.578590000000, -111.595087000000</td>\n",
       "      <td>Three of us toured from Brighton to low saddle...</td>\n",
       "    </tr>\n",
       "  </tbody>\n",
       "</table>\n",
       "</div>"
      ],
      "text/plain": [
       "        Date     Region        Place      Trigger  \\\n",
       "0 2012-11-09  Salt Lake  Sunset Peak  Snowboarder   \n",
       "1 2012-11-11  Salt Lake  Patsy Marly        Skier   \n",
       "2 2012-11-11  Salt Lake     Two Dogs        Skier   \n",
       "3 2012-11-11  Salt Lake  Emma Ridges        Skier   \n",
       "4 2012-11-11  Salt Lake  Sunset Peak        Skier   \n",
       "\n",
       "                    Weak Layer Depth_inches  Width_inches  Vertical_inches  \\\n",
       "0  New Snow/Old Snow Interface         14.0           960            360.0   \n",
       "1  New Snow/Old Snow Interface         30.0          1200           1200.0   \n",
       "2                       Facets         36.0           840           5400.0   \n",
       "3                     New Snow         18.0           600           6000.0   \n",
       "4                       Facets         42.0         18000           9600.0   \n",
       "\n",
       "      Aspect  Elevation_feet                         Coordinates  \\\n",
       "0      North         10400.0  40.577977000000, -111.595817000000   \n",
       "1      North          9700.0  40.592619000000, -111.616099000000   \n",
       "2      North         10200.0  40.599291000000, -111.642315000000   \n",
       "3  Southeast         10200.0  40.598313000000, -111.628304000000   \n",
       "4      North         10400.0  40.578590000000, -111.595087000000   \n",
       "\n",
       "                                          Comments 1  \n",
       "0  While it was a small avalanche that was I caug...  \n",
       "1  A North facing aspect with an exposed ridge in...  \n",
       "2  Remotely triggered all the new storm snow (abo...  \n",
       "3  Impressive fast powder cloud ran in front of t...  \n",
       "4  Three of us toured from Brighton to low saddle...  "
      ]
     },
     "execution_count": 6,
     "metadata": {},
     "output_type": "execute_result"
    }
   ],
   "source": [
    "df_task_1b = df_task_1b_1\n",
    "df_task_1b.head()"
   ]
  },
  {
   "cell_type": "markdown",
   "id": "3875e7fc-ec40-4241-aa94-87b31e59944f",
   "metadata": {},
   "source": [
    "## **Task 1c: Correcting Data Type of 'Depth_inches'**"
   ]
  },
  {
   "cell_type": "markdown",
   "id": "7a7eebda-1b60-4bff-89d3-a5548a601b49",
   "metadata": {},
   "source": [
    "There is a data type issue in the `Depth_inches` column of our dataframe. This column is incorrectly formatted as an object (string) due to the presence of the inches symbol `\"`.\n",
    "\n",
    "Remove any inches symbols `\"` from the `Depth_inches` column and convert it to a float data type."
   ]
  },
  {
   "cell_type": "code",
   "execution_count": 7,
   "id": "fb9bff61-9a8d-4114-97f3-4f6d0cd0e61e",
   "metadata": {},
   "outputs": [
    {
     "data": {
      "text/plain": [
       "Date               datetime64[ns]\n",
       "Region             string[python]\n",
       "Place              string[python]\n",
       "Trigger            string[python]\n",
       "Weak Layer         string[python]\n",
       "Depth_inches       string[python]\n",
       "Width_inches                Int64\n",
       "Vertical_inches           Float64\n",
       "Aspect             string[python]\n",
       "Elevation_feet            Float64\n",
       "Coordinates        string[python]\n",
       "Comments 1         string[python]\n",
       "dtype: object"
      ]
     },
     "execution_count": 7,
     "metadata": {},
     "output_type": "execute_result"
    }
   ],
   "source": [
    "df_task_1b.dtypes"
   ]
  },
  {
   "cell_type": "markdown",
   "id": "b23913ac-ea3c-4ca1-8ac3-07d3026ca76e",
   "metadata": {
    "__GENERATED_DATAFRAMES__": "{\"nodeDataframes\":{},\"graphDataframes\":null}",
    "show_aggregate_original": "false",
    "trrack_graph": "ᯡ࠽䈌ʀ匦㢠⹰ೠ↺΀Ơ瘢ᠢᠫ‵䁇ፉ䐢怣侽振ၑ䶃᪰঵䂆⹉多䪲┠অҤᴶṂ㊵嘊᭓ㄅ毠㒰䣑Tဠ㚉҃೨ɰ䂠̂҆;䘸Ϥၗ眼䋐Ð䬹†于␠㚠ᝨ沂烒⎁൸憈㬸ᐠṬү䓧Ⴠ椓ᣘ⌚ᆠᛦކ䜱ǁ䅀㖖नຂᩈ桫〦塵偢㶱⢠⾱䂅埦䖃塀㪂ₐ暸ᵽ䀳怠煼砤慸㴻ࠩ㯏姭ঌ䄢䣫䧙㱈刱ㄿᬦ䩫⏃㌱楫磤ⰴຣα晼ਫ䎁㺕䮃Ⴤご䖂᥂挰ы゙㈬ܠ₰ᑊІ僑汮ޯ戩䉱៪怡⹁ᡤ甑擸抯॰ᡬᅓ╄璚╄㈠ "
   },
   "source": [
    "#### **Instructions**\n",
    "1. **Identify Entries with Inches Symbol:**\n",
    "    - Use the interactive table in Persist to look for rows with `\"` in `Depth_inches` column\n",
    "2. **Edit and Correct Entries:**\n",
    "    - Edit the cells to remove the inches symbol from these entries. (e.g. `15\"` → `15`) \n",
    "3. **Convert Data Type:**\n",
    "    - Change the data type of the `Depth_inches` column from string to float.\n",
    "3. **Verify the Output:**\n",
    "\t- Print the head of the generated dataframe to verify the changes."
   ]
  },
  {
   "cell_type": "code",
   "execution_count": 9,
   "id": "7cb9b796-3aa5-4181-bf91-fa8ba7e33c20",
   "metadata": {
    "__GENERATED_DATAFRAMES__": "ᯡࠣ䅬Ԁ朤壠ᜣ琢〹夦゠⹰〮⁁䁻қ䚾ኊ㇠നСࠩ瀮晼Ƭ穅5愠៩䍒⊂ᠡ囨ĸ縐䄳჋䋓ઌ䋞♰Ȍٱ拄値怩晀ˠ҉㎀ᶠᚵ;໠ܫ綾㭎㬨޻仫 拥↘磑牸猰ጯၪԡāₐ൰შ卪ិ崢ط㞱㥛凱⣞Ẕණ勽¶癇䯛࡜ᄎ࠻㮲㦳ᴬ∄⇠ౘ゘⠡⍾☌♂地ȡⴎẐ澳屒擴狹㦘Ᏸ盈獌㮭崠㓨䎄䉰秳䒨ੑ㳹䍪揮ヹ暃唎ち晿ᱏዴ枔ᄎ狁愭嫥桠堭仨ᥜ⼭ᡇÀ㰨#㉆ٜƨ䰲䠼़䓀堰ᠱ ⸒ฯ೨䇆♉䀠穰㙂傀Ǜࢴ窤޳䰠ᵘ∦綸徨΁奌❙佀洺Ⱟદᆜ⽛䅴娜¦ડ灖缡擔┾枤垨Ꭹ劒Ⅺ劉㕝ᣩ㋹๷ᡓ獈⦅䦁૥慐㺇օ祣Жܼ烀ᕌэ૝䆩㥶壀⏷᧬Ṋ帴⌅筮ሢ㮰䉩ᙯ㯉婤僪㍹㡛᧮猵纂懋婠冘尸涃բ戡䑖ࡑ༇Ժᗑ֥禨෍⦁侊ࡅ䄠㑀⼭䲮ნⱣ嬗噘䤣嵾㎨ภກ⇛ᔊ□笰5Ϛ㙳ᯞ実欞䂌ⅈQᅀぞⷯᑤࢠƔ㲬ހ屉؀硚̴え䄰䀠 ",
    "__has_persist_output": true,
    "trrack_graph": "ᯡ࠽䈌ʀ匦㢠⹰Ӡ✡ء〨曌ހ୥Vภ㢭恑䝂㣦Ⓖ͐㔥᭸࣪抩ᐠ▴ሰ瓸礨䮲嗏⣹䨻➎帢䈠桠ø㉓械ӁĠפᝬW౐⮨⃮⽹ǀƂ៊3䇩-儣瀰ࠡⰤ刴ㅛቍ൥Ԃᇀࢀᡤ౐弴གྷ&㌨Ⴀƕ㪚㬸㇂ᶷ⍠࣠奐Ȅ恨㹲ᩗ⊫຦䞀䚲琡㙐ବエ̬डᣑࡣ嬰䈅ြ㦠᫤ㆧ瓾ڴƝ㫛֢䘭ˡ˖宧䳡♌¾'Г䯦ͩ妘䂪᷼嬦͵৤朿Š恐ə潢ಈ癕gㄲ㒰摠儤ʮԡⅸ制uᇼ枻慀㑒暨࢑厔抴⌳䐲⒪⚰擒Ჾ┤ᖪ⦸䅇参墱༰䔲ⱒ⫥◲䳖⁥昒⋘⼀᢬ठૂ箓䵈 ⇀ₚ5打ƕY\"ᆠ帶➠߷絞㡙巅櫤'坵䁰ᑽ⋡z簴'➃与ᕠຑᡂ־槃⫦㵻昐˫ࡸᢨત䅱ಂ䠪๑ࣃ令ᐠ⋠桸⤨偋碅⺥痸ᱮ⒳ף焅粺䇡栬ጴ䆀㡼༿䐳尴卵噺㫽㝯䟠⋫䨴㜺⛨㓶㓑᪫ڍヸ⃻⻿㇛໳ᾬ烙⸧⺮̰怠⢡⁲粏䷴ĥ幠⍸ਘᷯᷭᴾ⯮硠㎁ボ⁌֢⠡~Ҡࡾƨ䷼й灄/╄ཎ䈥䚸ත燂㏱䙑探࢓䉢⢎༢䴦ຑᢟᏣ䂱匣栭Š組⃤⠬š呛רᣋIॉ٨抴ᖡⰤ⇡哖䃂ሦϨ條ૢۑ啔<䌣೰₨䣶困㩮叧䀪⥮㡊㱢㜊ㆬ稦ⶨ䡞䊤奀Ḯ⧊⻫婸㼮㥌ワˁ嶦劋ᐆ糟 塆ؠᐲ੤盒ತ僝忖⡣啡ฺᲒइ勇塕ྦྷṹ䝑㼙䘤ᛝ奀抅䒤囵囓焕侣犀呁⃹坐啵㜡嗅娷嗌૑嚕䇐咦ᫀ橺媓檺⓳᩶䛳媮䰦㫎已䁾塖甞偗᫡嶣ر䛧壱䐢ᄩ䥔仉忤ы᪀怴Ʌ䧕䢤喈j囸啁偊㸊悽ԧツᑩ䋁ⶆ㜉䷔બ䑶㈲喱䨼干牜奷咭ݳ㐽ே享䟵ᄌଣ⸳ઁ䲓ធ⳿儖ẛ)Ჷ䑧Ჷᬅⲗ䈖㻏喺䴟䜅棟侽Ⲡ㼁Ƅ姠䅰き䄾㊩ô⌅刈⿭㇔㿫Ƨⱗ㦾⪩婔⵭礮⮊㤺翆殒慽⅞↩l㛩Ċ旪悉ԣ瀱ଢ჌ڦ狴ʥႜ᠉愔ਠᑰڠ䒔԰䊙㱏ᦱ〄㣑㹎㢩♦盉ㅠ๊൥຺ʗ敵ہℇ䨶㷏⃇㵽ఉ偟ⴣ絰:̀氻暍㥪㵏⢀圿㫝堕燙䓭惇͊劉呀፶橬ὴᨫ⋶᥋⳯䀻㏵櫡塓浡䉆ᶱ䴋㚷⒮☾ᜏ⛡Х竏䶡怡昵ߴۘ箈Ốৼ叁⧄ዉ䁕凓凰恴疅➸η喫ᛊڥ㌭⍳൶哦䩣᳘潘栱㡂ᙂ巉ᢎ⠠匽恸檏朋א㬾䳯ᆹ⼯ᨀ縅䁎㎜殪b曑˫禨␡µ኎ะ䡩モ概塶⽌竱Ⱝ䛺ッ娥㎷ʍ甪牋ᚨ⿢囮䔭固᳈䚻ょᬹ๢Ľ㙸ⳤ໵Ⱕἣ堷ଦ̣ܠ痠㥅䠤௡䁅p᫐ْ≨沒簿䁮ᣇ਩⇸槮⁓俑ᑀ献㪣ํr紨⹨ૡ枢粀ଘ澫灗㟴㾇煀沪ℏ樝忳㨙᧣⊌┰⸐⒧畨撺纉ᙠᥘ䡆䵳ᰠ̪㰬怠㧔篭⧇侅啒㗎㉎倉⁳㷭!䔔ȡᨡႽ׳澒▾卯㑘₹界º✈簽梆ࠣ在䞀డज①⠬᳞䈲῁℮⤧႖Ҁ㐡⁰ࡨ堧糁嗓容㦗▔綛琎翅繭樭䏵嶀㚈燂Ǯ㹓⑎䂤琾⛻佐箦䰨┐ᦥ犰簇㎆ആ៭⇜棣䣁䐁▧幈ϐ䓒㑉㗱᪤ࣜူ⌢Ȍၤ嗁䥨仓烪⻅ⴴ㘾䛃㫩䪵廪涫■⺷榚⣖夵攪ᶥ⁤浆⭩䀬暡ᳬ㒧䐵甿噌壃盱沒㱘㈱ᢛᑀ恉⋠ⶰ溈Ѭ෦ð้̔〬ᒳ㥥⻒潏ᅢᯫᚩ偐 啠䄣ᑴ恏ݮ㩑㌢䆼ᤶi咦䦼㹛⊲㪘璢瘿ੌ瓀ॹ␲积ᑊ᱆ံξ㫬洍䠲㶹拴࢓⤸犨ᔄ灙斺嗩峖皐ᳵ奛ၺݗ偫⢱䭹摼疉晱盉ဠêࠩ㳚䀠ᐸܡয稞ǄEᝰ瀳恺 ⣱ᣪ䙖掠䇱ㄓ傸卝偳ᦆ侣樔ԧ〷悲ᅫ䐾捸⢤扰Ả䬿奺彧うު䢂洇⮳ⰺ縒㹅干☨੫㾒䤞瀇秸歘磻兂ଠ廁΢朂惈ⷡ摻⚤᪙䋤䎹嬑姍拂睗㹺೥稷糤㉍䁭䏥ザ₷Ҳ䳐㊪⫅ᅴ痛匊ጣ櫾ġ浿҈岮⭦ខ潼瀻妙寗䯹➯ᖃ垈嫋椇ֲ繈ㆦᑠ簱䄱࿁碣Ϫడ⦼֣ᠧ悼ଌア⚌䚶ᢨ䱸ᾏ䱃⌕ቶᆄ刡奄Ʒ㍤䁌ή刧ᱝΠᠨ㡧Ļ⹊ᩜ╙㱼㓅ʏ礌盪悿伉塴䠢ᇯᤖ佱ၗ㬤弊Ɇ䒣䒗孵࿗冡嘖歨Å娏◬廝᳛䔗偰֙箪櫅⛓䀮儍༑梐⠥ᷓ彚ᚶᐺ⾒坤朩朋৽橹㓯㩁ඨᐠ㇭㵌焵盐ԠܼØଆሸݖ籰惐ᖡ湧痖㶋曽俹⋲涸ۻ旒孎㬇㮘࿠恊䇔↚ਦ䅀ِ擱݁⪻睎䇁届ン䛣㈼䔴ᔘ棌䊨簓ㅳ܂䂈烂ⷃ籏⍢寧䲋Ռ竭ᩍ亁㬣嬩⺐绝׼㦌ᤈ洩搡㡙ː㼰㜢ш煬㘔ơ杌搅ᑪ㙵攆१禴憑⣈乁㻹㇙ᒛፘ㋀✇⹵Ң嚋刮㱓㝖䰤⤶窣ᜊ濍儤渍壨㵟孹Ỵ䬅ࡵ紇⺚峍䌢殽㥤ᷟ坝峷緓㩧⏬❷ⱌ佸⼓♇▤ᬯ቗⊉炗⩴⛪斿⬥䤵ሔ܃℁֚址ᴕ✠⯆̈́ᘡ㻮Ơ͐㮟洀斍ᙏ⮩㋭眅浿嗂央䧥䚯㐫備㣐ǜ䦧濎ь匼ఛ簴㴈㼫䄅䲱⼮⢄ḱ箾ᆡ㕃ᱺᚴ㹍牘䩱枧⒎寃禽孌㧓㠧䞸⬏Ԃ愜ඪ䨐坏䅚ਓ痨ⷝࢩŠァ₪ɀᡎ₶㹂嫌籄ᨬ檁⿯ᇈ⾳䑽ዚ㩥嚔攮㢒䈲̀◂(ຘऐ䐴㳎①夐ၜ㱋ְ濱➪䦩䆾媖柁屄ԡᠩ䞼㶝䒡┕⁺㱐ᖾᠷ核硄૶ଡຸ瓽淶㧲箯峠ࠎ珄妸汣濚䧕Ⲥ䦑੠භ叛ǸÀడ䒣D䮞⅀倾qϠᠠ䐻䧿⮾ဦᯜ浵溎㷔宺沋䷎䰥毎渖愖⠠ˍ㱾洌嬰⇆Ҟ滾ᡲ矀ᵐ悪႗瞧ᤧ恦ᨱྫྷᷧ朮䨗抵ಇ沮ᡇ侣య拊䱅⾮᷷澮⸒ৗ䶜濞☓Ѯ䗵∀䈡ܥ憨ৰ敔ሪK䎠涴≂热◰ႁ․䣰༞搀஻䗃⨶冓羺⣂校ᣕ⛌屓Ⅰ珣灹⌤ᾲ愭࢘䊐ुᅠ䉌䍎⢸䔩ᖷ∤ᆶ庩࢕äᓀ↮䢈搄ᅑ⛗༭ɽ漠ب箳̚挠Ǖ篎稝波凒ߘ䷘ᘾ߇瀿-⑬䲠⡾淈ඨńಘ䈱ג竣्ᷲξᎭ悕斀ἡ䐬➪ɫ⩡ᠤ柖㶬᪁柔䐪煌᳾⿖塻㷁➢Ⴣ䎛掦濧εӁ樁㰵䏃䐁敞い炡䥱擊㝗熪絗ⶮଥ揔⏖ᷞ帓秂䠷楆ᩮ犱縌昤⠦⹇₈ݼ咣⁐槈ଦņ㵉斖⌠⾆࢐ᢐߤ应׀巼⸞唇ט崜‡⦖|Ⳣ☡㐤䁿Ǝᆠ箯㵛娕⌑य㲎㓞ᙉᠥ粖Є檉㮬泅劾ᡨ╭媝^ᶸ兄㪏揶ᵡ林㖮抇⟑澐ᲀ涮ỡ㎮ޢ楣梚Ⴀሤ㳝䬦粳泜㵹扺㻡။夘ܴڐွ瘄䳁Ꭺ䱯⎱ݑͰ౲扦᝖喫㤬ፀ梢硯㭌泌ᗘ呩↡熁⦩⎢憿㶐欁ࢗ㡦ᓜᝢ牕タ䏇慩渴㦨⌲ᵆୗ剺籗挱㹪秐ሂᇩ旪䧍᎙኱湦瑤⃽䭑稤́䱄ᣘ∦⹄Ⴭ⛠⭶噅≂䐶】䛏縃⣱嵮⛔屠ἶ曔ᧇ⌖愾櫥忉㍔ᤨ䑤恞㎑ઉ拮䈹㍆ᘥ೬䆖㎝䮹㡉倡㌰屜摊ܣ屖ᘹ稬痃Κ溈坔☻Ϸ₹மἡ瓆戠硩䈹§௰癠䩁㕁ฌ涖峅ð԰梠䤿揮䎑睨㱵厾ᐉ㞫窝匣ᐑ婂两ర⽘䢢ፊכᒦ忓塽ᡐ摙✩ຎᐐ溪࿥ྯ燜ቩ弩!ᐢᥩ悫⏁犙ᄱ䙪䒑猄挆綀⒓䭥ⲱ住䡓榱র᏷絁ၐD簡窋祍⌚唠䥍啵፱憔橸嶜⢺棑⚬嵠ᰥ担桋ୣ䍉乌摗ૅᆐ܅ݎƆ汅厳Ɉ၄u癈扅呪嚖幈啠䯊帰嫎ᆈ㋺欎牍沅ை匠婈䠧ϮṖ䮩⚙砬殱ᬆ၅⢁ֶ溠す昈ྨ柩ฦ⳿慹珃⚘୓ᔥ᳭䆁䆐傥⋨ᆉ㊨嫹㕋埖嗂ළᬫ⊊ధႅጂ㍑䯨⪅ɫ傸緇មᭋ奢猈椅橫熫䯷ᤱ䷩㉰䲗柞緪㦗ጜ孆⃃ⲽ⸋ܴ଀⁠恅Ⴈ咣㭂ᅣ䒢⾣淉(Ң㟫䜧珵ᘙ漰䗏獅瀙絫⛁厠屼崠值横Õ䬆⵭ㅶ兺℄笭ᴅ᧠᷎❝⪒ⷭ床ⵥ㠥厶痉୶毥典磁٫⵨凶䧲൷屦噕Ē滄櫘ᣥḫ὇⧭➨ẏ擅綏杹䲦᫐䠨Ӊ丢沫畣䍠ㅋ㙃⪪勵⒡熙Ⱈ啵ⅎ疈䮎唖盪నᤝ䔕廨瞦᏾屙ᱮ絻䋬崮≪妁䭩᝙牪⎣䪷ᒭࢍો䪹᧞墎溂Ăứ牵Ҋ獵⥮ᢶ筜 Ո旖ୡ喷ƨ攔⑖Ⴭ⭖嘣䷕磉嵱惐橸Ⳳ怞⚊⵹坎⋄䓎䁍忤充慡ƍ彑癤㮝ᱽ嫠㞋䔸㡪擝⮍⾚簍媰羆澐ᦗ凒縌筦媽濵涬඄㎦勚㣫冀㴳᪈擮ㅸ䤡䙱岩⧟ࡪ倹琍厪䲝ǒ࣋倶㳿➄ᔪ玐゙屜㺏䭾᣶屍䷍取櫵啾㠱᡻㏴唽姓吲ቐ⏹氱㶟㐌ᡙ࿌⋈牱⪽忈妑ዓ吭缩ͼ簫席犓劅瀹᩽ⷯ⫝̸ᯋ姩㊔῟䫱希㫒ܹ吸p班癝けฌᤔ⸴䇋Ǡ㘎྇綉坱濨㍤岳ⵝ嚩敱⣓⯀䀎ج⁋䑹ᐡĒ䞭⸣宮㵆攌⣠გ䮊䐐ඃ䀻壣䛅ԃᵑ㣴߼㬣廌死⳨反᠋死筮䊑৊罾畭喑槕ु䅴żᐤ䈷根惼ℂ⃟୸ŭ㐢ܰ㦾䘍Ӄ੒篍囝ṃὶ簒⏝㸈签ࠞ⡣篌ᦠ憃奣㻯綻檛樕攋ί殧栕䭈Γ׸㽙㴌⹭㩷ᒙጏ㥰䜄敽὎⍰䕄㙂ဣ㎬Ⴢżũ㝶ⷓરยฮㄈඨႂ〯傔㍭媩翝ᯕᆵ暪斀ૹ呴ⓔ壦⚑ಾ嶵擲ሞ䡳ąܩ⟚๳䨠䐩Ⳟᦳ羹擤⪡び㰥˴ǡ㙳犼唝策ᱚǉ䔇岷⼳熴┝૆媳ᧉ玒ᄋ倔ႂፕ¶僠⢠㜡ᇎ⸌堔絁䃊㴀⬸č䞠㵠债Ӥݼ㴣༿⭧䇋恣㯋≟如౐㈽㞿⠃塓ₖഈᰧ湙㔌ቶᕓ卙㱵奧܆㨭渼⿏䪤ⳓᢌ禼᫹ᇓ⌊洊᪖㖂曅ᚋ瀸஠畒ݑŐॴ涗ぇतנ碢柝曵ᤓ哈㑱䝒倥ͫ侎ᤵ款ᑧ睍៴惫粨ၓᙅո匰猜䡽᫁Ӿ匚⵮⊻犌㌚㛫⦻㙿⤇៑㗍ࣨጙ僽⠀ᄠ㒳├厬罣૜ӥ喲⃇ĩઉ嫅嚆撕☑ᕑ倯፸㵒䀥⌖囸塻紖✡㡠恹⌑❪㤫ⱸ䬞ށ᤽ᜌᦤ↚㲦敹儂㪬剓ൿ折晸㯋䂈冮㬱捦紈⳹坑攭㝌嫽穋廓䒉焁籍㾮涻ĳ㙻㛻ॗࣲ∽㘤勫夁႔瀌⊿➠剬⸰㋲彷礨ล焣玵⎔㘻爈䛮勇勱泊ű⡀ᯀ绾റ‣䩸ᇾ怶⇧㟠䧼仾䷨ňફ曭༧㽧㳠⡈瞸穄৺仧྇ㅱ嫼㾖寽欳ୣȋ㚀໻砏ඉ᙭叻㎈㴸到ᱬ去戴ᇈறދ墠䥿栔䈦༪᠇㼣Ꭼ匂㚉㱻穽᛺㙓㫫泿夜䧣嚁䢡㞌䡈ʛ嵏≪囑ᛋᜬㄆ垸㕙㉐㼌爭㭓៿䳸䞋哓俼ङ㮤㎋翽ᬆ暄楮⹀⡧祮㌰ĩᴍ絫ࠔ咥ổ擝仫ァܒ⫧影Ῥ䛻柃㭝೰䉖㑪㺾塖攎穪咇咡᧼͸綠ᡦ㭲ט瘃浙痾倚碇玢ก㓬癗䭜䷤☿孡烮㽣㘴盻໺┗㙯䰝૰㎢䘤䡀ⴐ䩷¦玗䢦䈨㡤ᙁ⠡ᐢ癄௧㩞ༀ亸硰ᅝㇸ亇㗧皽⥤㪨㋽炥⸢埞朽㵎矊堈㊅☽廴⹇椛㣝杢⾭㜛᳛⺟ٗᳩ⭽缎獤゙Ჟ垑糪㡁夔摐棢坉篲䅡ᨩʨ㐡ݗ㰊穝㪊檚⪺៉ᨋ㑸̷࣎叜ᐪ՝䟤ᵐ㞭潞䞗栯⛠侾牰㳾峹滥禗䦛涱唑཮㦜㸃牾燗ᱻ挌侖系䕞⧢⠃ᗻ㉸槺⟯䔨㽺岴冒ᖂŻ㴸匩܋ㅄ偔瘴ㄐ㟛囗⾔矷͛瑂潞䳗凘姤漷యᬓ䉴‧妒Ý塰⿯㑓ҙ❤⾱熽⦾枚᾿㭞₩᫷ግ㈛㲞䍡ẟㆷҎ揹㹉沞噟᫖攴㑬姓捨⬡你☢₱⎩䜴䓈羣晲呧曙ሑ䛨爓壼⁐ᣂℏ䧻⌎斧䮥塗㰍ໝ癳彣榿幪椨嚐〓德眏ᔗ〖罗簏涴᯽㚖甹㷚⧡滴璹槎㆙᫃䡑屌♟姵毝౦䑝÷北Ꮕⴑ浿漻ᷮ䅷呾௘☍㮶廒硝惏ጠ┢秡ἤԑЀ՞⨸ڎ俜Ữࡐ枩ᄘḰ䳵䍝ⰱ曃ࣞ剱氋懘⋉㣌溷᫭䔕嫪䂰᱄̘ᚌ氢燈ⰿ噥僞䪰⏤瀳୦熐焤п弮戚ᬀㆫ曜筓⿯᦬䠥㬳兊⵴敀О䫁䱡༨⪟磻⠠䕕䤠嘿⮇᥿牡Ḟ縥䀆ʦ䈄ƈẰຢ‪忺➚涏獗徎ᕚ෉悳缄孑⢂Ĕ攰ᐢ眨⇴慝೎Ը㶨ᢹd䊧ߤ⻴怫㘯㽧㴷熗䖞枰㸇䣁ᄇ箏榟㈢ߔ㞠䀬К㔏Ὢച瀸䟖㺤׾枿೬ᤗ၊䦌帋琁䫬粙䯈➭㹄稷ⓠ䰼ሤ⡼䵎䆔ᐂ஡ܒ佦痓桊㊺❠ર㸮嘾⑜᷿ᔭ䒞⛚ಎᾴ㙌栫泶ⶩ枤硓瑺憜ढ़៸䆢檮瘤䋁۶நƹዲ㦽呕䏜೸㿡ᶦ䬧塨⇕䈼ᄰ磍⪤㮧ஈ䱭炐㰮簛᰹涱嫩᤟⫒㝀㖰∧♏灓䗨䝬⮱䀆ᓗ0堨Ӏ坌․ᡉ₵ͬ཰㠞ତ5ゐƚק敋⡜瘀⁼䵶ଢ଼彁ᰥ㻊ᦲṅӃ搁ᩝ䃲᫫䍪̠燀㰖䊑羄撔ິ犑Ⲩᶁ瞶➮浡䃅ŝာ㒰⋋ⰽⲿℶ⇯⠅穖㳧佟摬㝃吆㤤៎獔ტଢာᡃ⻔䉀ᲈ⎆捉丱䆨䫨Ѧ兜ڢჀ㡂ᢣု⣱憁ကᣱ⥙㜌㞥੾燿憏ㅌ圕籈睾泯䕯ᬠ⺊ᄭц㉵䂚⤉⁭֢捱㢐燭⁤㴁ඦ㶧炖憡ۼᅄ㷣愮᱗झ泡爔Ģቦ戀烁䫸䯊晙ญ咭柺ញ䴉ౕ匾䙥ገ姄ᨵ禞敿⭅㘗噝符籋坞ீ屠寈䠦Ⲛ倪旒Ḙ㢤᧰ㄡ畠揨ᏺ䦧⧍ᢘ䆒䙯⅟㯬㇐暫䒌桴䀬㈲䬰䌱碹暒䮿◭ఁ冩哤嚟⊝˼㡑㮊眾ౡ煱䟌䬸参琱䧵椙ᴼଘ㋾ဋ㴳㟑滋Ꮖ杼㇈欑怸猣⤫⏳Ṱᆉ猤኿₵⃍䂨槂绗ᩊ唥屁৔ⴆᡦര璅ⓛ墔测ྼᭃ੿ᣔ糩फ卞䩧ਹᲥ㇈童潨涃䘐牎嶊ʻ୫凁稤糬桠ຼ䜿䬨㼱⃢倥ʐෳ揜䬄ㅠㄥ估䢚創ೀ䋈䥴珶⤎㴷ࡸ♡ਖ਼搽禫ઓ嬪⁁׼䁯檢灷䔨.ἰ䡇嶧扁ネ∆栘䚳nŗⓗⷠ䱒┰捄悱⃓慄⧸᎟┵溨㿺澕Ჟ༯᱀៘皭圷²秥ஞ㧉喥河㉞Ö斨ؔ䈠ᄶ㲀ㇻ䕾ᘸ瘭㞪Ṟ礅ᕅ㛬₱ᐱӈ⊋櫸ұᡰ嚜斨兇⭒䏋ྫ勁る⨵⁰อݷ杆ࢭన䣭儋ᅿ揤૤⨡级ᆣ㳏狵߆ផ槐焦尺Úڴ⽦➻撸暲熍㥌ᑼ˙㨡ᓽᮙ⇰Ȫ㘠穸ᒋ恤⧠掄̴牀忢⯫挵刢佺㻐䷆⵭媘⤾戍ᴴ柱ݯ䕑礍帑ㄘ㳾⽅㼳犏儯≆స烰䈲㴷塂摑ƚἔ⠃䠮䶤㳶ᡂᆄ䀲婮奔ԝቀ䢒㨩卅㌹榺ᄐ䦴⁴甭䑪ᙔ᝜˦㝌⋉䫧球≭⥅祡惤䍳⭒Խ䤖择焒䴺姐⭭䑌䠰ᣝ潑ᵌ它笤⡎Øߨ塉垂⚸⏌憲ъᥟଂ怵䐼硿到᠚㟂䂆瀬ٹ㢀攲Ф婍簣ᑤ噙㌖悴ᅹ⋠喺٦ᄀ撋ᔬ盓佩㩗⵷捞औⶔ啛㲶炍幓⣉ͼᩡ∔ᠤ啬kь߉昉巍累僗ဧ敮㾲歩睸ᓍ勢䵆剉緄ặੲǸ⒣渇ᑠ䌠卧ೌ̑䯁䓉㉅䪾㊭ᇶ⥵ᅰ恤ᐨ㍆僦ጊ೏凉囧墷⩻⦴爹䨑ࢤ෡䡬⽊悧㌴壤䤫䈠၉琢梫ፐ䒣犭ᇹ㤖巅䤈䔀㄁䒠朩⪾杰ฌ䙁㻯灟✭䤣丈ӌ垇➱発洓朆⠌⿁䯮彳䁝᧷亚⸁៦ᮆ籽姣ㄜᬀ砕倕灬橞䇭⑨᯸侚ƭ㪐砾抩Æ㬐坯ᙪᄒ⁒޶㽹惊නґ姓㏋᤬囒塩⥾ἣ浡䑤同爸瓊俁⥹敇≸硼积❤䳊ᐕ㝆ⓙ⪦䰏⩫ᅍ䛤⃠噽⑏坂佞疆戕嬠␨ᯧᶨ᥵䈩ۮ㊘毖䈠㴙抆䦋侾医ᒳῑ勚ྠ㨠牓㽞ⶆ僢䬞㏸竣㙧繼⣙妘湂琒剋嶨婯爰ၱ㠙垃羻ん兯櫝ሄ嘒Ὣ彅ᎇ㎸僘؈焂㚳ࡒຎ憚晹Ā䪱䅇愌䅠พԂ万嶻Ṯ秮戏ᓜ技⯮Ὀᴔ㎐䢄ཉഅ爷ߑ⤴䝾恠祲⒄啚䒺扉係╎♆栲扰⡍❰啬刅䰮㠹ℓ⢒ᇳീᨠ堆‮Ⳟ䋿䯀瑳У焭େࢧ玼⮾ਊ暸剰䗪䙀Ǡঐ䈯壑ޔì⚑⢎憊ᠮ熁ゾᕪុⶪ廠䐡拱䪫⊨ʅ缳♺ⱝ䙲䖿ᴘ痓៭孂挃㒽丒∈獪ᑁม禣ଆ⣾♡埤౜喐つቌ䦅ѧ呹ᆋ祺ᒟᝂ溪㿪⣀抵ୂ⿤㌹丧྅ުቪ堶᭣ᘪ憗恂㦜獈䷄㵅櫇ࡻ⩭ցࣳᝠ嵒告擇䤲䯯䞂奡ᯙୀ㍓报凷נ岱ۅ䆧䣚熘ⴉ㢮垺Ѵ咔缜·A㏱Ꮢ债猕ᠻ揙∰尒ṷ䱓攪৵⪐犰᳌峛䫔䦙⡕༜޷㶤祪泂唸嗑Ừ犐᳝甏䌮眜㰉Ⴃ℩德墩͍䫀㳥ἓ࡮⬛ൿ炮ή㨠ᄰ妐攸㥘囒柱ፉ䒤操䫜⨥╙炡೫ॢ㨥ل婸牪࣏惉ૢ੒ⵥ㊹據ᬹ⺓ㇵ杺書楝旯拗ဧ熱řᆠᘛ〫䊾䲒垺䔉㳁䆭Ფ⃉䈺炅Ⲟ♷␻榋ᔼ歬ŭ┠䛌笪牋旐Î˵䲡⵼䐭啕䇺归䎋ᢦ੹嫳⨭❕Ⱈ价䵍浽Ý嚙楡⾉⼯⫔潣䯕ⲟ弙眤㯯㥙椇ᚒ喒䳊ኳ䫞狡⬵⸵㥵垴㈶ߜ傿␚尷㹓⑪ⓞ૜୲ⵆ㳁䌙⍻䖑㬄ᑆ呯ᬳ⵬煋壅◪悮Ơ㱡㺠Ő൑ǚ澤俨ʰ੾䫙ዚ⠱㫕ᙴ㍡ཌྷᄒ掸۸㢍ᗊ䡑⢰䨊ɔ࿠ᔪ亾๦楁❽ጼ已ݨ❚䡀  "
   },
   "outputs": [
    {
     "data": {
      "application/vnd.jupyter.widget-view+json": {
       "model_id": "e351aa59a9434a18b511d34a269d013c",
       "version_major": 2,
       "version_minor": 0
      },
      "text/plain": [
       "PersistWidget(data_values=[{'__id_column': '1', 'Date': 1352419200000, 'Region': 'Salt Lake', 'Place': 'Sunset…"
      ]
     },
     "execution_count": 9,
     "metadata": {},
     "output_type": "execute_result"
    }
   ],
   "source": [
    "PR.PersistTable(df_task_1b, df_name=\"df_task_1c\")"
   ]
  },
  {
   "cell_type": "code",
   "execution_count": 10,
   "id": "35e89f19-aebf-461a-a2e7-6ce77dfd6a4a",
   "metadata": {},
   "outputs": [
    {
     "data": {
      "text/html": [
       "<div>\n",
       "<style scoped>\n",
       "    .dataframe tbody tr th:only-of-type {\n",
       "        vertical-align: middle;\n",
       "    }\n",
       "\n",
       "    .dataframe tbody tr th {\n",
       "        vertical-align: top;\n",
       "    }\n",
       "\n",
       "    .dataframe thead th {\n",
       "        text-align: right;\n",
       "    }\n",
       "</style>\n",
       "<table border=\"1\" class=\"dataframe\">\n",
       "  <thead>\n",
       "    <tr style=\"text-align: right;\">\n",
       "      <th></th>\n",
       "      <th>Date</th>\n",
       "      <th>Region</th>\n",
       "      <th>Place</th>\n",
       "      <th>Trigger</th>\n",
       "      <th>Weak Layer</th>\n",
       "      <th>Depth_inches</th>\n",
       "      <th>Width_inches</th>\n",
       "      <th>Vertical_inches</th>\n",
       "      <th>Aspect</th>\n",
       "      <th>Elevation_feet</th>\n",
       "    </tr>\n",
       "  </thead>\n",
       "  <tbody>\n",
       "    <tr>\n",
       "      <th>0</th>\n",
       "      <td>2012-11-09</td>\n",
       "      <td>Salt Lake</td>\n",
       "      <td>Sunset Peak</td>\n",
       "      <td>Snowboarder</td>\n",
       "      <td>New Snow/Old Snow Interface</td>\n",
       "      <td>14.0</td>\n",
       "      <td>960</td>\n",
       "      <td>360.0</td>\n",
       "      <td>North</td>\n",
       "      <td>10400.0</td>\n",
       "    </tr>\n",
       "    <tr>\n",
       "      <th>1</th>\n",
       "      <td>2012-11-11</td>\n",
       "      <td>Salt Lake</td>\n",
       "      <td>Patsy Marly</td>\n",
       "      <td>Skier</td>\n",
       "      <td>New Snow/Old Snow Interface</td>\n",
       "      <td>30.0</td>\n",
       "      <td>1200</td>\n",
       "      <td>1200.0</td>\n",
       "      <td>North</td>\n",
       "      <td>9700.0</td>\n",
       "    </tr>\n",
       "    <tr>\n",
       "      <th>2</th>\n",
       "      <td>2012-11-11</td>\n",
       "      <td>Salt Lake</td>\n",
       "      <td>Two Dogs</td>\n",
       "      <td>Skier</td>\n",
       "      <td>Facets</td>\n",
       "      <td>36.0</td>\n",
       "      <td>840</td>\n",
       "      <td>5400.0</td>\n",
       "      <td>North</td>\n",
       "      <td>10200.0</td>\n",
       "    </tr>\n",
       "    <tr>\n",
       "      <th>3</th>\n",
       "      <td>2012-11-11</td>\n",
       "      <td>Salt Lake</td>\n",
       "      <td>Emma Ridges</td>\n",
       "      <td>Skier</td>\n",
       "      <td>New Snow</td>\n",
       "      <td>18.0</td>\n",
       "      <td>600</td>\n",
       "      <td>6000.0</td>\n",
       "      <td>Southeast</td>\n",
       "      <td>10200.0</td>\n",
       "    </tr>\n",
       "    <tr>\n",
       "      <th>4</th>\n",
       "      <td>2012-11-11</td>\n",
       "      <td>Salt Lake</td>\n",
       "      <td>Sunset Peak</td>\n",
       "      <td>Skier</td>\n",
       "      <td>Facets</td>\n",
       "      <td>42.0</td>\n",
       "      <td>18000</td>\n",
       "      <td>9600.0</td>\n",
       "      <td>North</td>\n",
       "      <td>10400.0</td>\n",
       "    </tr>\n",
       "  </tbody>\n",
       "</table>\n",
       "</div>"
      ],
      "text/plain": [
       "        Date     Region        Place      Trigger  \\\n",
       "0 2012-11-09  Salt Lake  Sunset Peak  Snowboarder   \n",
       "1 2012-11-11  Salt Lake  Patsy Marly        Skier   \n",
       "2 2012-11-11  Salt Lake     Two Dogs        Skier   \n",
       "3 2012-11-11  Salt Lake  Emma Ridges        Skier   \n",
       "4 2012-11-11  Salt Lake  Sunset Peak        Skier   \n",
       "\n",
       "                    Weak Layer  Depth_inches  Width_inches  Vertical_inches  \\\n",
       "0  New Snow/Old Snow Interface          14.0           960            360.0   \n",
       "1  New Snow/Old Snow Interface          30.0          1200           1200.0   \n",
       "2                       Facets          36.0           840           5400.0   \n",
       "3                     New Snow          18.0           600           6000.0   \n",
       "4                       Facets          42.0         18000           9600.0   \n",
       "\n",
       "      Aspect  Elevation_feet  \n",
       "0      North         10400.0  \n",
       "1      North          9700.0  \n",
       "2      North         10200.0  \n",
       "3  Southeast         10200.0  \n",
       "4      North         10400.0  "
      ]
     },
     "execution_count": 10,
     "metadata": {},
     "output_type": "execute_result"
    }
   ],
   "source": [
    "df_task_1c.head()"
   ]
  },
  {
   "cell_type": "markdown",
   "id": "753ed0a8-dc0b-4ac8-8afd-b554ea8f4d28",
   "metadata": {},
   "source": [
    "# Task 2: Filtering data\n",
    "\n",
    "In Task 2, we further improve our data by removing outliers and removing certain records to have more consistent data. "
   ]
  },
  {
   "cell_type": "markdown",
   "id": "7f25d8f5-98e8-4b0f-9358-ed85f77cbed8",
   "metadata": {},
   "source": [
    "## **Task 2a: Remove Outliers**"
   ]
  },
  {
   "cell_type": "markdown",
   "id": "ac53a605-2d10-4457-9625-70ce88f04f3b",
   "metadata": {},
   "source": [
    "In this task, we address data accuracy by filtering out anomalies in the elevation data. We observe some records with elevations outside the plausible range for Utah, suggesting recording errors.\n",
    "\n",
    "**Remove avalanche records with elevations below 2,000 feet and above 13,500 feet, which are outside the realistic range for Utah.**"
   ]
  },
  {
   "cell_type": "markdown",
   "id": "664c641e-1193-4233-8897-0161f209c86f",
   "metadata": {},
   "source": [
    "#### **Instructions**\n",
    "1. **Identify and Remove Anomalies:**\n",
    "    - Interactively select data points with elevations below 2,100 feet and above 13,500 feet in the Persist Scatterplot.\n",
    "    - Use Persist's interactive features to remove these anomalous records.\n",
    "2. **Verify the Output:**\n",
    "    - Print the head of the generated dataframe to verify the changes."
   ]
  },
  {
   "cell_type": "code",
   "execution_count": 16,
   "id": "73d5727a-f059-4bf3-977c-1ce0d6d92eba",
   "metadata": {
    "__GENERATED_DATAFRAMES__": "ᯡࠣ䅬Ԁ朤壠ᜣ琢〹夡゠⹰〮⁁䁻қ䚾ኊ㇠നСࠩ瀮晼Ƭ穅5愠៩䍒⊂ᠡ囨¹䔐ுᝉ⅊㙢勆⠡眚⤂割怮怠怨怩来䮀ᚢ߃双fÌ獯㘠沾࠷ᙚZ汭㝐ⵍ㩀ṡᐴȣ䊡柵⁣ၭᑑ礸瞠ᦶ挳ગ䟀䩝ᜆ杯ⷑᔪ嶍〩䑢ଢ଼桜ᢰጼ͚ౣ摣䐈㢀砠浰㺎ж揯ᝒ愤䏍Ụ¯಑ᇘ䦏ኔ礒㳣䓾ః䃳ᄭ䤩∃✲၈戫卅䑚繛曓㰾㞵愐䩑㖩憫倰➩昑へ㲶悠⁠䭰ㄢữዦ V坂֨ý䐢㡬傠qᅜ䢹⛨ⱂņ烓၄判䋅䗯䧜ة⼷䐠嵆&嚠♜Տᄀ砠֤͗㍌ٗ䮂⏜湵䁌㦌⎍䙋ࡠ⹚䞬Ꭹ紴֪↍ਜ਼ᨤࡘ㠻ሢ揰㡁᪣Ⰶၗ尌儉ࠣᥐ熹㑩ᓦ⮨ว࡬倠ཌ✴璠Eࠫ琬紤俤ڵ⃒糘㙶啸岁ᩭᚌ᪉烯㍂ӄ݆⦵筃䵈禜䃈⤶䔲泫⧵瘜疾⑗ബ▬ⵖ宾Ⴆɶ⒭攸ㄙℍ亁䜚⤆㞳杒㴒࣊坓操㉋ӑᱱ⾩怩〰㲽Ŝ抾౧ႎ熙䅋㦂吮Ǆ熢ᩰ細₲峱㈦ኽĄ㡤ᆀ吤儐༧䋸⡦஘㶼恢㑰瀤吰୸忣ᰂ≼ㆲ੪䰀婾䯜࣪᫒㦣⦀漪㮒ኻ掘ඦሾ囸媶ɡ⡶罣⭤籃䞮维楐ୢ䝺熶毺䐱槬᝭梚⽿ᨚ䵏ᬦ▴ᮦ♥䣦⒩⯦䓠䣆牒䍖㷰搶䨸✐㋱⣊ᦶ᥹᫶时等㍖国嬨罶㏑之Α幟䘩أ䮸楗Ⰺ䧨⧮ש䅎䄥㧎㿳㭠ᷦضວ䎘房ܢ¯煢Ⱜㇾ嬬穴伤䙸㋄凞»揼汽㥌潠ݠ⁄ܲ灉㉡桕嫐主䈐尽r籤₨† ",
    "__has_persist_output": true,
    "trrack_graph": "ᯡ࠽䈌ʀ匦㢠⹰ˠ㬠త〳䁓੘ׁ䁑僂⠤〵䚱ᰣㅳҴ穕䁣ᚈĀ惥撴E䨲࢔洘ᓨ⭳傌櫦᷇ྞ䇢†泘尌䠤傡%戯☠ᮬᢋ䑁曌沥အ㔿唠ৱ撠۴禱ぱై⹂ᆷᖥ੥⋂ሑ碑瑴♔ⰦԽӢ%樋瘌う䐬ỉ။䦃ʠϩ䂰墬ᱮ中m࣠چ咠ƌザ憄࠷ల๙㔰䋖ᆢ╀⨫U墋倁太ᐢ純㰓㱎⥅䄹㫗ι䂨䅌¾'㷫寬䇒碥क़㴌⹅♀䡼᱉\"㇁ᄶࢥ䅰屦ኧ憑䐤⌡԰呄嶥惰䥎̧悙佗剫⣡疛䄃⓵慨婋ࡂॄ䕆䢄夌坏䧁թ屮⟲儸乂杅⦔卅擠礢冡爹䙩,僉䠭ᐠ@Ť敠㺈堡窘బ㓴4Ⱝ࿷㕕䬤ৌതఠॣ劊Uి枺䡠懏甙怶䘮梔桘㹱䆔㴅㿥採唷޻昐ɡ㋤Ё₨槝剀⅔ò䇣䕘ᐢเケ牫䊡偖縸台幛⎹抲ヘĸ䞳ࢪ㴩䖥吼㜷䀱щ嵣⦉娽ᝧ勣婔ᘯ┻䘯㓶㟈ᙫ૯❸⁻໯㛙๳࿔⍘⹷㼄Σ䑐㛏Ŕ漯ᐢ߹琠⮸ȟ淯ⷥ␾⥎硠⮉㇜DѢ⠡~⒨ࡾ↪∎ஏ⣜⒠ȉₔ࿱徸౬敒㉘灢ঐ䡪ୣ恦໢ʾ䐥硸ড僀䅼㑅ǀ摅ࠈ簶ը⚪⏁祅㏬㐽ㄡ⑨ޣሽケ梅䓢⸶ಂѾ୳ፎ埐㮱兔挨⋔㚭 璜Ȱ恖僑桮健Ȿ匓笚Sa䑆吱彁ᦸዬၽܤᱲ♩㢒⏠䅪␢憀஥ഊオ✖忤䥚ಭ䥰ṩ冪㬭尰၅䗐␥绂ϐ碘ᑠ呰᜕Å㳌䡺㽵滦哶塕௢渵በ>ት熡匩ᕵ㋏扨筗氚䃫揠ᓵ哬盅慜滌䣘㻀狌啒㝌悰敺卜晹ᨺ杚త匤ཅƙୋb彋儈⏐爼據➱⦭ᚥ婙╰缻秠⼰欁وࢉု灔缱䙩喳犰澷煘匦Ȁ䤺⎖㤼䐖娰㣈㘴㪈৸⎾㵶㖀珻ᬆᠿᨶ拰䆶૪壶Ѿ婖䒟䪢⳧ᩐ㳩ੳ纤壳䫨䍶模䱖满⤸姕惠憢X⵨䟊䚳⤵⦁˸ܾᢠ募⊣⧍ᨤ㷳恦ࡴ樨∦毄䨺奠أf∯冐䉾ႀᠯ䂐曦䠋໵ڰࢸ⥒碲䋒ॣ䦄䘧ცṰ僴槱勮䐽则䗥ȑ緄ㆬ঴Ǝ⬧☎喰笾嶠ܼ䯺穼⿾穞柵箷䦿筼`窞㏯℡ڤԕ䤢ա匤ᓂ䕫ᦚ䖥汓瞝志إ某፫ܭ皅敛ᜅ樑ԯ稁➥䣚ᝲ䟈ᒠ娘㱏⸍㠕⟍㽁玤㿝ࣟ璠吅憋ᶕ㸯䰕ܿ㩝ᑟိð⨭Űфడ㍠࡭㙈֔ᠶჍạ∬bḠÞˀ泫帣挕楴㶴䨢䑀⁼⼃攷 濭か⋴弧灡帻ᧇヨཱྀၔ㓀ಌ僣什掫ⅇ»䩅⁢㨅၃ㅖ⠾㜝䖌㛮氽䧸敋寛ୗሡ঴ℵ䀶抡≇ƍ墠⑰䅨寗䩲䜶䪢Ê䱤ᪧ⤕᝚᪹厺⢇婭⍚⯆璾三⍩旦帠䌸㊊⼠㙨䆬㖎沲ཌྷ䦥唕䍒䈹䨐㗁恔䀶ధ䁜拃㲳䤋yᝃȐ⯐䉊Ϡ刬Ⓥ૸廲Ⅹ䎻䦷ᤶ㱭ᘴ䝌纈ᛕ䣭⋦ᵉڑᙂ㡎ᦷᥔ͠㗡亻䍐㧠椓䄒㙖愷ஐ平䝘嬇㰯䬡嗽⣎ᐣ殽猞⋨㶛揘༈娹⏽矦ֶᴦྦ碅ᜑ惜ဉ㐏庴▜Ό┏尚ʉ؏഑䁗盞䘁ଔ⏒䱲ℂ⼢怬ˢਢ䂞䕀℃䄜✌䖾涘哲元Šଂ悓亚჉廸⪝㷣╠໋䱾䭘て呛ॠ捏桔͡ᄯ䆟仩ᲈ䉙㎵㦅䛈⼿梇ⲅ干璈JẊ⪀世漸僥㣌ㅙ⒫峚牂妛⢣簗ųB咰ወᨵ⾵啨㑼ᬷ穥䝕➦䵐¶⻇僘ⓔ查⭹䒈楸棙ӵ⮍⮊̿ᨦ姼䛌䍞₪潞ᔈⅎዲ⽅䩳傻⇳䳜甖圉੝棟ثૌ᜾ῇ窽恋ሤෝ᰻ᵴᣣᔨ⍄㌌夫沬ၘⱕ⃸㜻㐲⠸㜪₞䅆ࡡਝԲ簦ጂ㋺ቶ⍄瘧㒔䭒ⲳ䤯H⸼ፂ㩆У㑄婁怶浩盹䧹ᱨ穉⢶嶚ᗝ晋㋖ಋ⮬໤绾䯌縿Ɫ፸ㅍƀⰢ၂扐䨠求䌡ჇȀ㋫ၱㆢ䟗攟घ示㛢ᦍ斬≔ㆢᶶ䓛ສ书䮮暿Ჽϰ䁀ば௄㝄掇᳠Ⴆ獸↲㳥晒垢㎏܁⮫燬簆㝅䪎呖漏ਡۋ㍐埛犥柮撎䛩甎烰㧏ᗜዄ⬧些ᤖ॥౴ㆺᵥ敊㻜㌓ᇖ猡䰨㞂⤩唴䚯伞皯慼øᱣ䳰ᾫ≉Š丢Ú櫀硱䄜῰ࡑ䂚ඬ⎟౥৯⨢ྭ∲ℰ湣僲䌁䍔屒ᮆ䌨⢆਼˳䜃䱺屁慊ԣ伾Ў䬂ẳ楨琯样喚㟒甏⏂ᆌ䙟᡼Ỷҫ㏳௑চ䢺窠ⅎ栲ⶫⴌᤘ呶異櫘冉㲿僰ϥᜠ䃀Ϋ᫺ⶑ惮㒥䖡堣抋㱛⍌㏋އ峍潬΋狄̶疁䃛ኡ煋΂⅂ၨ┡⡪䓝ĩ࿍塕俔歠盤籨恆洽殊涉ᆳᷚ㭜ᙛᨨนὧԈ⚣䴅ᣝἧଢ尫墆伪掾১⇗摣榴籘㠮ୟݶᦄ∀ௌ擣ሎ烃侵⍯ᇧᇒ栐␍⓵枹丳䚷ⰵ番㎷Ἔ㤖⛤牣稫ࣀ㥑灌☙⑭ज撁㛤䄂ⴣ恫嬒✪猀喚Პ䘘焑ᖗⒺ䑂欃ʹ㟋┈␒ᴨ殙؊據⹙⽢嫥埲灢瘌ْࡡ棶仫噻၅睿㨾檒稩⋃䬃Ḉ∗伵䋜᭍欧䕢⩪祛油⮵ᜠ嘅⥵᫱⮊䳤㖎ᕭⷌ甥嘊捰ཎێ⹒歆䗉䏼桧妧娜㮕熙ᝪ煫坧ą楤ᗩជ濎ў專ᶗ埡嗎堢彭綶䍪橛彚宯匚᣺፿ጁৌಀ䕔⛃代▦僬毁咉獪ง壣ℜ箾䮀ⵀധḩ媻䇫ᯱפ墯检▌℺浤凼涴媰亩᭼ൖ᤻Ć掞᜖絢⼛ₕ塟ዑᘠె⡛৉睗㥷⢌ʜ⪭伊ჩ稺攫♫䋣ᙟ劫㨈狮ᘥ㋍ᅸὡ剴䗛᭢〹棶䀸⼘ℹ癝᛼᧪ძ癈㔹㿹䮳ۍ曣ඓ晤Kᒎ૨懸Ґ璕㤹点຋敧๘╫иɇἸ寢ᒋ⋢ⲙ楪橜ྀ弤咬♸☷ᠢ㕧䇢㕇᠓巤Ü▩㰪ᶾ汴܀ঀ圵Ⴇ囖⿑碸暭ϲᔡ叵ᩮ㈿஺桥ౙ圿♒塷昼៦⥡䭱¬ׄȐⰣ墎㟁ᾁᡢ㹸愼㔙᱅᣿䠐Ū峤繋熻☛埡㙻登ḙ矣㚲∠  "
   },
   "outputs": [
    {
     "data": {
      "application/vnd.jupyter.widget-view+json": {
       "model_id": "d21101af79fa45b08e0f313a1eb560e9",
       "version_major": 2,
       "version_minor": 0
      },
      "text/plain": [
       "PersistWidget(data_values=[{'__id_column': '1', 'Date': 1352419200000, 'Region': 'Salt Lake', 'Place': 'Sunset…"
      ]
     },
     "execution_count": 16,
     "metadata": {},
     "output_type": "execute_result"
    }
   ],
   "source": [
    "# TODO add df name as df_task_2a\n",
    "PR.plot.scatterplot(df_task_1c, \"Elevation_feet:Q\", \"Vertical_inches:Q\")"
   ]
  },
  {
   "cell_type": "code",
   "execution_count": 17,
   "id": "caf0a2bd-6f55-4ea6-91d6-3069bb4446fb",
   "metadata": {},
   "outputs": [
    {
     "data": {
      "text/html": [
       "<div>\n",
       "<style scoped>\n",
       "    .dataframe tbody tr th:only-of-type {\n",
       "        vertical-align: middle;\n",
       "    }\n",
       "\n",
       "    .dataframe tbody tr th {\n",
       "        vertical-align: top;\n",
       "    }\n",
       "\n",
       "    .dataframe thead th {\n",
       "        text-align: right;\n",
       "    }\n",
       "</style>\n",
       "<table border=\"1\" class=\"dataframe\">\n",
       "  <thead>\n",
       "    <tr style=\"text-align: right;\">\n",
       "      <th></th>\n",
       "      <th>Date</th>\n",
       "      <th>Region</th>\n",
       "      <th>Place</th>\n",
       "      <th>Trigger</th>\n",
       "      <th>Weak Layer</th>\n",
       "      <th>Depth_inches</th>\n",
       "      <th>Width_inches</th>\n",
       "      <th>Vertical_inches</th>\n",
       "      <th>Aspect</th>\n",
       "      <th>Elevation_feet</th>\n",
       "      <th>Coordinates</th>\n",
       "      <th>Comments 1</th>\n",
       "    </tr>\n",
       "  </thead>\n",
       "  <tbody>\n",
       "    <tr>\n",
       "      <th>0</th>\n",
       "      <td>2012-11-09</td>\n",
       "      <td>Salt Lake</td>\n",
       "      <td>Sunset Peak</td>\n",
       "      <td>Snowboarder</td>\n",
       "      <td>New Snow/Old Snow Interface</td>\n",
       "      <td>14</td>\n",
       "      <td>960</td>\n",
       "      <td>360.0</td>\n",
       "      <td>North</td>\n",
       "      <td>10400.0</td>\n",
       "      <td>40.577977000000, -111.595817000000</td>\n",
       "      <td>While it was a small avalanche that was I caug...</td>\n",
       "    </tr>\n",
       "    <tr>\n",
       "      <th>1</th>\n",
       "      <td>2012-11-11</td>\n",
       "      <td>Salt Lake</td>\n",
       "      <td>Patsy Marly</td>\n",
       "      <td>Skier</td>\n",
       "      <td>New Snow/Old Snow Interface</td>\n",
       "      <td>30</td>\n",
       "      <td>1200</td>\n",
       "      <td>1200.0</td>\n",
       "      <td>North</td>\n",
       "      <td>9700.0</td>\n",
       "      <td>40.592619000000, -111.616099000000</td>\n",
       "      <td>A North facing aspect with an exposed ridge in...</td>\n",
       "    </tr>\n",
       "    <tr>\n",
       "      <th>2</th>\n",
       "      <td>2012-11-11</td>\n",
       "      <td>Salt Lake</td>\n",
       "      <td>Two Dogs</td>\n",
       "      <td>Skier</td>\n",
       "      <td>Facets</td>\n",
       "      <td>36</td>\n",
       "      <td>840</td>\n",
       "      <td>5400.0</td>\n",
       "      <td>North</td>\n",
       "      <td>10200.0</td>\n",
       "      <td>40.599291000000, -111.642315000000</td>\n",
       "      <td>Remotely triggered all the new storm snow (abo...</td>\n",
       "    </tr>\n",
       "    <tr>\n",
       "      <th>3</th>\n",
       "      <td>2012-11-11</td>\n",
       "      <td>Salt Lake</td>\n",
       "      <td>Emma Ridges</td>\n",
       "      <td>Skier</td>\n",
       "      <td>New Snow</td>\n",
       "      <td>18</td>\n",
       "      <td>600</td>\n",
       "      <td>6000.0</td>\n",
       "      <td>Southeast</td>\n",
       "      <td>10200.0</td>\n",
       "      <td>40.598313000000, -111.628304000000</td>\n",
       "      <td>Impressive fast powder cloud ran in front of t...</td>\n",
       "    </tr>\n",
       "    <tr>\n",
       "      <th>4</th>\n",
       "      <td>2012-11-11</td>\n",
       "      <td>Salt Lake</td>\n",
       "      <td>Sunset Peak</td>\n",
       "      <td>Skier</td>\n",
       "      <td>Facets</td>\n",
       "      <td>42</td>\n",
       "      <td>18000</td>\n",
       "      <td>9600.0</td>\n",
       "      <td>North</td>\n",
       "      <td>10400.0</td>\n",
       "      <td>40.578590000000, -111.595087000000</td>\n",
       "      <td>Three of us toured from Brighton to low saddle...</td>\n",
       "    </tr>\n",
       "  </tbody>\n",
       "</table>\n",
       "</div>"
      ],
      "text/plain": [
       "        Date     Region        Place      Trigger  \\\n",
       "0 2012-11-09  Salt Lake  Sunset Peak  Snowboarder   \n",
       "1 2012-11-11  Salt Lake  Patsy Marly        Skier   \n",
       "2 2012-11-11  Salt Lake     Two Dogs        Skier   \n",
       "3 2012-11-11  Salt Lake  Emma Ridges        Skier   \n",
       "4 2012-11-11  Salt Lake  Sunset Peak        Skier   \n",
       "\n",
       "                    Weak Layer  Depth_inches  Width_inches  Vertical_inches  \\\n",
       "0  New Snow/Old Snow Interface            14           960            360.0   \n",
       "1  New Snow/Old Snow Interface            30          1200           1200.0   \n",
       "2                       Facets            36           840           5400.0   \n",
       "3                     New Snow            18           600           6000.0   \n",
       "4                       Facets            42         18000           9600.0   \n",
       "\n",
       "      Aspect  Elevation_feet                         Coordinates  \\\n",
       "0      North         10400.0  40.577977000000, -111.595817000000   \n",
       "1      North          9700.0  40.592619000000, -111.616099000000   \n",
       "2      North         10200.0  40.599291000000, -111.642315000000   \n",
       "3  Southeast         10200.0  40.598313000000, -111.628304000000   \n",
       "4      North         10400.0  40.578590000000, -111.595087000000   \n",
       "\n",
       "                                          Comments 1  \n",
       "0  While it was a small avalanche that was I caug...  \n",
       "1  A North facing aspect with an exposed ridge in...  \n",
       "2  Remotely triggered all the new storm snow (abo...  \n",
       "3  Impressive fast powder cloud ran in front of t...  \n",
       "4  Three of us toured from Brighton to low saddle...  "
      ]
     },
     "execution_count": 17,
     "metadata": {},
     "output_type": "execute_result"
    }
   ],
   "source": [
    "df_task_2a.head()"
   ]
  },
  {
   "cell_type": "markdown",
   "id": "b447b862-90c6-4ed7-b48b-baa1cf74ac2d",
   "metadata": {
    "__GENERATED_DATAFRAMES__": "{\"nodeDataframes\":{},\"graphDataframes\":null}",
    "show_aggregate_original": "false",
    "trrack_graph": "ᯡ࠽䈌ʀ匦㢠⹰࣠✴ƀචآ൐ୠᣠ⭎¸䚀ᶥ<⋵攴≲䦆ᨐ҅䁲䥈kᑄᄈ夒ર囇⣹嗛➎帣ᢤ䀡傠Ǘ熠㥀ॢȠா䠸ᢀ㜰䁾巒•橀樠Ꮃ䤠ව׷核ᱬ䣘紲₞૦Ԡ޳ŀ凐栠晬╍ಲ䖽䂇栢沀團ᄰ㸸ሪ喊Ⴇ♁䐔粶ᦞΎ刺ࠥ簉窺簲ᖢොሧ҉䃵ⰡḠޅ毗䘤䗾墥୚渍磆搰㣄䆯䌭䊣ᎄ䢩妈䪑䴹ҩ䋫◂რ⢒ઉ⃁⽌囦媍ኘ垤䢠䍤⒂Йᘷ੡䄀҂Ქ⃱琿啡憐㲞ၯ䌨焠ᗿ搫໎㒫ல熪Ņ⎃ऺᥛ⃄ᅠ  "
   },
   "source": [
    "## **Task 2b: Filtering Out Old Data**"
   ]
  },
  {
   "cell_type": "markdown",
   "id": "c86b30d4-4762-4bc0-bfd3-6f1486b55ad6",
   "metadata": {
    "__GENERATED_DATAFRAMES__": "{\"nodeDataframes\":{},\"graphDataframes\":null}",
    "show_aggregate_original": "false",
    "trrack_graph": "ᯡ࠽䈌ʀ匦㢠⹰࣠✴ƀචآ൐ୠᣠ⭎¸䚀ᶥ<⋵攴≲䦆ᨐ҅䁲䥈kᑄᄈ夒ર囇⣹嗛➎帣ᢤ䀡傠Ǘ熠㥀ॢȠா䠸ᢀ㜰䁾巒•橀樠Ꮃ䤠ව׷核ᱬ䣘紲₞૦Ԡ޳ŀ凐栠晬╍ಲ䖽䂇栢沀團ᄰ㸸ሪ喊Ⴇ♁䐔粶ᦞΎ刺ࠥ簉窺簲ᖢොሧ҉䃵ⰡḠޅ毗䘤䗾墥୚渍磆搰㣄䆯䌭䊣ᎄ䢩妈䪑䴹ҩ䋫◂რ⢒ઉ⃁⽌囦媍ኘ垤䢠䍤⒂Йᘷ੡䄀҂Ქ⃱琿啡憐㲞ၯ䌨焠ᗿ搫໎㒫ல熪Ņ⎃ऺᥛ⃄ᅠ  "
   },
   "source": [
    "The interactive barchart below, shows the data aggregated by year. There are noticeably fewer records for the years before 2010.\n",
    "\n",
    "During this subtask we will remove the older records, keeping only the records post 2010."
   ]
  },
  {
   "cell_type": "markdown",
   "id": "24b308e8-8437-4146-9ebf-cd121aeb7f9f",
   "metadata": {},
   "source": [
    "#### **Instructions**\n",
    "1. **Analyze the Bar Chart:**\n",
    "    - Identify the bars that show significantly less data.\n",
    "2. **Filter Year:**\n",
    "    - Select and remove the years with few records.\n",
    "3. **Verify the Output:**\n",
    "    - Print the head of the generated dataframe to verify the changes."
   ]
  },
  {
   "cell_type": "code",
   "execution_count": 22,
   "id": "6488acb7-e239-4d7e-92ef-3e9d74c3d823",
   "metadata": {
    "__GENERATED_DATAFRAMES__": "ᯡࠣ䅬Ԁ朤壠ᜣ琢〹夥゠⹰〮⁁䁻қ䚾ኊ㇠നСࠩ瀮晼Ƭ穅5愠៤⠠ ",
    "__has_persist_output": true,
    "trrack_graph": "ᯡ࠽䈌ʀ匦㢠⹰恣Ƭ浡ᰥ〶䀹䁆ㄠᨐˣያ砡杝ᔡ堦㈺壗琤ㆸ嬲⠠䭈⑀楒儀ᅎ╦仃ᦆ䬍ᷙ砪ࠣ℠Ί俠扠ኤРᜰ結üム湁Ý㮄ᴠ֨䇈GᎲ;∥柁䀢ᦙᓸ籈ᐫᢪ仂查⇑䤩磘幈⸴グ䔭䟇倣塠Ú紣άᓱٯ坢ہⲀ倠祐ሴ▻ѝ䃋㎁拫稠嬸ᗊ᡼ᘩκ墨ℛࡁ媰⽅䀺敚䀫溧⨡㼚⏵杚ૡঢ়审Ⳡᛌ¾'ఋ䟦ວ夘⁂㎳柒偭⢼▓ㄈㄢ坳礘౵ݪ⤔฿؂傄੷䝢押⸿໧梾㯫炱媈❤͙榷ㄲᆩ戩ብᗀ変♻ᗫ犥ㅴ坉⫨ࠬ₰⋱Ȿᑫዉ❃የ犙Ũ光䪵➨慐␠㋃⠔瓀!*狓傏ᨠဣ琠ᄮ䘤㐠ᑱᤢ吱⋘㤬䈕䡦喢ɕ⋼ᯅ䟂緞䀲䨀㑡圼࿍嵜Ἷ䠶ՖၖܮჂ水┷惪ᴋ຦⧦ᓝລ⃂㒀曥ᑾ涧撒㡼䤦֣您別൥倸♋Ǣ炘繀䲿㔭廟ⅰ䞐ᙎ०烸槌潑୰◕䇳ⱖⷞ䯐䀮⎩愐巢Õ憣嵮紼ف䀠冂䃿㪠倨ᜒº怯甎㵜ݵ犜澤͖獻抢灴አࠣ灨₣焸䰳採䡕怠窒⌓瑐₀䵰Ⴛ橄憒愘ᬂᄄᎥ䂮交䀬ᙊ焐⁤␱䞫ぢۡ桒͸ࡪ༪偬ⶡ䡾ྣ偒ۡੴॢ硾స干ሡ愑⢲僺ᅀボዥᤜḒ䁓↉ⵛ␦㙷⼉獏ℸ媜晢⡼۠⨶ֆ璜曡ᳱ䔄⌷ၒ᳒ජ㳿⸅پဴ紷ሺᴐ文乥᳆屴ે瑔ᇅ䁴͑⃽ᅁࢣ℠ɺ⯁䢵ṁጕᦥṼ嵥㔏䈳瓐Ɂ孌₻ⴿ֒㱢ɂᩈྐ檰໶㪩ⵃ䲄楶丂㝐ࣰ␠Ȇ①䒨綉㛥⯚䡦㉝▵犌嶰獢疵ࣼ寈㫖侴琜玿䶢嶷寢噩ૌ夭⧮㧠⪴社ल䴵ㄈ䘻怢েǜ㗍䉒䬺熡❠ऐ勶ᬞDּᦣĨҥᅛᲣ洴㾂僴ڢᷔ㤎㸊⎤棂㨅䷽⺏䴫⌠ⷴ⦀懫̥ⲋ㴧ⰻ˦ᗁ㚅☫ᆇ♸͟₹斍ⶋ㘯ⷐ㔵哆殤䛆Ш熭㙻㣚ᇏ⪀ᓠ䄌⎧ක復޳⾯炢ἄ汻ốᖹ㓆攅ᝈ喙ીᗵᕪ楇᝭ᴰᑫᶝ㴂憣ጊ崆ˡᯗ⫮壟∌㶮䀉㥏ࢣ㢏ϧ㰿㐈ⅿ˧綳砋絟ᨇ㶾〱╼㠳灒䰶稰曘埈特䌞䁔١汾窢˘烴矱只偯䬪䔽⹛䥵潐橾䩻喞澋楿⋊徙⸧刱浛俲ڔ塟嘬⇑ἷ唲幔挲ć殡⨇㜦䈈ɡ⧰ե℘ԫ惸㨦成ᤣêխ䅒ఫ慦㴗ਫ਼壉㺯楠ࢢѻ䗼傊Ȱڈル懜ฺĤ᥃੕㡔ㆰ⻯ო䓀ε₧።䜮䐅↠㑆䙀穢!ঀ涽΄ᯐᐿ㍈ℇ⢁拰㇧偾ʈĴ泻ʸ猾㈓ⵑᙒ扼暆ᚌ慌ᳬ炠  "
   },
   "outputs": [
    {
     "data": {
      "application/vnd.jupyter.widget-view+json": {
       "model_id": "b39b54f6b3864ae5802240aac3c2e620",
       "version_major": 2,
       "version_minor": 0
      },
      "text/plain": [
       "PersistWidget(data_values=[{'__id_column': '1', 'Date': 1352419200000, 'Region': 'Salt Lake', 'Place': 'Sunset…"
      ]
     },
     "execution_count": 22,
     "metadata": {},
     "output_type": "execute_result"
    }
   ],
   "source": [
    "# TODO add df_task_2b as dataset name\n",
    "PR.plot.barchart(df_task_2a, \"utcyear(Date):O\", \"count()\", selection_type=\"interval\")"
   ]
  },
  {
   "cell_type": "code",
   "execution_count": 26,
   "id": "c31baa01-8479-43fb-8cd7-df683aec694d",
   "metadata": {},
   "outputs": [
    {
     "data": {
      "text/html": [
       "<div>\n",
       "<style scoped>\n",
       "    .dataframe tbody tr th:only-of-type {\n",
       "        vertical-align: middle;\n",
       "    }\n",
       "\n",
       "    .dataframe tbody tr th {\n",
       "        vertical-align: top;\n",
       "    }\n",
       "\n",
       "    .dataframe thead th {\n",
       "        text-align: right;\n",
       "    }\n",
       "</style>\n",
       "<table border=\"1\" class=\"dataframe\">\n",
       "  <thead>\n",
       "    <tr style=\"text-align: right;\">\n",
       "      <th></th>\n",
       "      <th>Date</th>\n",
       "      <th>Region</th>\n",
       "      <th>Place</th>\n",
       "      <th>Trigger</th>\n",
       "      <th>Weak Layer</th>\n",
       "      <th>Depth_inches</th>\n",
       "      <th>Width_inches</th>\n",
       "      <th>Vertical_inches</th>\n",
       "      <th>Aspect</th>\n",
       "      <th>Elevation_feet</th>\n",
       "      <th>Coordinates</th>\n",
       "      <th>Comments 1</th>\n",
       "    </tr>\n",
       "  </thead>\n",
       "  <tbody>\n",
       "    <tr>\n",
       "      <th>0</th>\n",
       "      <td>2012-11-09</td>\n",
       "      <td>Salt Lake</td>\n",
       "      <td>Sunset Peak</td>\n",
       "      <td>Snowboarder</td>\n",
       "      <td>New Snow/Old Snow Interface</td>\n",
       "      <td>14</td>\n",
       "      <td>960</td>\n",
       "      <td>360</td>\n",
       "      <td>North</td>\n",
       "      <td>10400</td>\n",
       "      <td>40.577977000000, -111.595817000000</td>\n",
       "      <td>While it was a small avalanche that was I caug...</td>\n",
       "    </tr>\n",
       "    <tr>\n",
       "      <th>1</th>\n",
       "      <td>2012-11-11</td>\n",
       "      <td>Salt Lake</td>\n",
       "      <td>Patsy Marly</td>\n",
       "      <td>Skier</td>\n",
       "      <td>New Snow/Old Snow Interface</td>\n",
       "      <td>30</td>\n",
       "      <td>1200</td>\n",
       "      <td>1200</td>\n",
       "      <td>North</td>\n",
       "      <td>9700</td>\n",
       "      <td>40.592619000000, -111.616099000000</td>\n",
       "      <td>A North facing aspect with an exposed ridge in...</td>\n",
       "    </tr>\n",
       "    <tr>\n",
       "      <th>2</th>\n",
       "      <td>2012-11-11</td>\n",
       "      <td>Salt Lake</td>\n",
       "      <td>Two Dogs</td>\n",
       "      <td>Skier</td>\n",
       "      <td>Facets</td>\n",
       "      <td>36</td>\n",
       "      <td>840</td>\n",
       "      <td>5400</td>\n",
       "      <td>North</td>\n",
       "      <td>10200</td>\n",
       "      <td>40.599291000000, -111.642315000000</td>\n",
       "      <td>Remotely triggered all the new storm snow (abo...</td>\n",
       "    </tr>\n",
       "    <tr>\n",
       "      <th>3</th>\n",
       "      <td>2012-11-11</td>\n",
       "      <td>Salt Lake</td>\n",
       "      <td>Emma Ridges</td>\n",
       "      <td>Skier</td>\n",
       "      <td>New Snow</td>\n",
       "      <td>18</td>\n",
       "      <td>600</td>\n",
       "      <td>6000</td>\n",
       "      <td>Southeast</td>\n",
       "      <td>10200</td>\n",
       "      <td>40.598313000000, -111.628304000000</td>\n",
       "      <td>Impressive fast powder cloud ran in front of t...</td>\n",
       "    </tr>\n",
       "    <tr>\n",
       "      <th>4</th>\n",
       "      <td>2012-11-11</td>\n",
       "      <td>Salt Lake</td>\n",
       "      <td>Sunset Peak</td>\n",
       "      <td>Skier</td>\n",
       "      <td>Facets</td>\n",
       "      <td>42</td>\n",
       "      <td>18000</td>\n",
       "      <td>9600</td>\n",
       "      <td>North</td>\n",
       "      <td>10400</td>\n",
       "      <td>40.578590000000, -111.595087000000</td>\n",
       "      <td>Three of us toured from Brighton to low saddle...</td>\n",
       "    </tr>\n",
       "  </tbody>\n",
       "</table>\n",
       "</div>"
      ],
      "text/plain": [
       "        Date     Region        Place      Trigger  \\\n",
       "0 2012-11-09  Salt Lake  Sunset Peak  Snowboarder   \n",
       "1 2012-11-11  Salt Lake  Patsy Marly        Skier   \n",
       "2 2012-11-11  Salt Lake     Two Dogs        Skier   \n",
       "3 2012-11-11  Salt Lake  Emma Ridges        Skier   \n",
       "4 2012-11-11  Salt Lake  Sunset Peak        Skier   \n",
       "\n",
       "                    Weak Layer  Depth_inches  Width_inches  Vertical_inches  \\\n",
       "0  New Snow/Old Snow Interface            14           960              360   \n",
       "1  New Snow/Old Snow Interface            30          1200             1200   \n",
       "2                       Facets            36           840             5400   \n",
       "3                     New Snow            18           600             6000   \n",
       "4                       Facets            42         18000             9600   \n",
       "\n",
       "      Aspect  Elevation_feet                         Coordinates  \\\n",
       "0      North           10400  40.577977000000, -111.595817000000   \n",
       "1      North            9700  40.592619000000, -111.616099000000   \n",
       "2      North           10200  40.599291000000, -111.642315000000   \n",
       "3  Southeast           10200  40.598313000000, -111.628304000000   \n",
       "4      North           10400  40.578590000000, -111.595087000000   \n",
       "\n",
       "                                          Comments 1  \n",
       "0  While it was a small avalanche that was I caug...  \n",
       "1  A North facing aspect with an exposed ridge in...  \n",
       "2  Remotely triggered all the new storm snow (abo...  \n",
       "3  Impressive fast powder cloud ran in front of t...  \n",
       "4  Three of us toured from Brighton to low saddle...  "
      ]
     },
     "execution_count": 26,
     "metadata": {},
     "output_type": "execute_result"
    }
   ],
   "source": [
    "df_task_2b = persist_df_5\n",
    "df_task_2b.head()"
   ]
  },
  {
   "cell_type": "markdown",
   "id": "db8fdc8b-168e-40e2-861c-d23095a4a8d8",
   "metadata": {},
   "source": [
    "## **Task 2c: Identifying frequently failing `Weak Layers` for avalanches triggered by _'snowboarders'_ and _'skiers'_**"
   ]
  },
  {
   "cell_type": "markdown",
   "id": "dd956e34-f1c9-40d3-8702-a2a84e304ca9",
   "metadata": {},
   "source": [
    "#### **Instructions**\n",
    "1. **Context:**\n",
    "    - You are given two linked interactive bar charts: one for `Trigger` (an event that caused the avalanche, such as a skier or natural) and another for `Weak Layer` (a description of the snow composition that caused the avalanche.\n",
    "    - Both bar charts show `count` for their respective categories.\n",
    "    - You can click on a trigger in the `Trigger` bar chart and the `Weak Layer`' bar chart dynamically updates to show only occurrences corresponding to the selected triggers.\n",
    "2. **Identify the most frequent failure points for snowboarders and skiers:**\n",
    "    - Analyze the filtered 'Weak Layer' bar chart to determine the most frequently failed layers for the two categories and make a note in a markdown cell about both the name of the layer and frequency."
   ]
  },
  {
   "cell_type": "code",
   "execution_count": 30,
   "id": "5aef4ea0-bf81-42be-a35a-23e56081f77e",
   "metadata": {
    "__GENERATED_DATAFRAMES__": "ᯡࠣ䅬Ԁ朤壠ᜣ琢〹夤゠⹰〮⁁䁻қ䚾ኊ㇠നСࠩ瀮晼Ƭ穅5愠៤⠠ ",
    "__has_persist_output": true,
    "trrack_graph": "ᯡ࠽䈌ʀ匦㢠⹰Ҁ〉ѐᶠ๼͐୩䙔儰ַ¼Ÿ䓃㍔䗀ඳ䀬睐ಎ⚳ैkᑄᄈ夒ࢳჍ⽱始ގ帢傤䀡傠ǔ慣′䈤7Ằᠠ湐憎Ⴄ姗㟠˴⃴3姩-儣瀣ᤈlᠢ҅ࢺኧ摶怳と梘≈䑬ᶦඦ䏁↑㡠Ú紣⏉䤫俇戬捸惀Ēい㚙㳎䮮暯ㇰ樔Öᢋヒгةھ媨⇛ࡁ櫉ᖠ᫼㦠໽ٴƝ笛斢㽕䄽㧗ɹ䂨䇌¾'⏻䟦߭官䊨⹛ǩ䆹㎑ባ∑册ኮ悸汌ᶥ⌁ᠺᆩ䆑兦ྡྷ䉱᝚᜹䜀癷䐉ፔぶ刌㫲䵈噏੅䥴䪮䪄ⰼ佀⤴╒䋎Ѩ弦⹀䥄⥔䍅䦒璜僌⪵敛࣢ㆢ†ᥴ戙婰 䚥氞䂕䯏瀢࠼ܥ樠ᔠ呠λ浐n揉ƎᰫⰂ汭⾿戩嚁ᴠ䍠⋸ᴳӡࣸѫ䅡⢈į䉀梈റᎭ㢤ᐫ䓁㠣㬪埱弛㎵抰じ㸸䕃䡈犩䆁墼㬧䠂Ӣ፥凵㩝㘯埬桸渡Ⴙ♓⠾㑺婋ₓㅠ皛Ǩ留昡ת燘㜚᰼↠Âȡ෉嵠⠤җ栠坐ᴒ崎ཇ䲹碠☋߬ڣⅰȦ穨䅗䒁硧䱺媏ी㐉簬ᘂ絝⵭瑠⧣紟ᮠʠ䠺糠搱ؔࡋɿ㑦䃰㑯䓉ઋ䴴⤻䄸థҨī䅲Ἥ䇸ᐧ慈ᨢ⑰䠫組☥D⠽㇠审Ȩ尳˄泫㐽Ꮒ痶ۍ奤㏄ⱠΠ〠ʠប㿂䤩‼䲔橻䝴⩺乘✽ᕢɰ䯐澸䤠ၸӡፔ侢廕䂠⻏ဂ湀丳墈䲣眯䫣ኇ摒‭由斣䕲[䀧槀㬠䋉缫㪠桍搎瓓ᔪး摉摓㉥ⷹ⛉ᝤ炼崶搥筄╙ࡅ$⯮Θ據ࠁ偦⛞嵖慹彧爜䇜懤䤺ⅶ㤶婈娡䉖㔥姖ⴧ⋎媩憢㐵㬦僼ᩦ棶᯦⹉ᣆ㓣ᦴ泷ᰆ䆩灢㜯㖦࣪ᣦ㣡ᦽ哽ᤰ䳺瘆˹⬸窭怠慺俒甤᷊朤࿁嶒攭ჿ⠂ʀ䓇⊖晳∪ঢ敶ॢ䠦ঠ䞂Ԡ࡚໠࢔榠㈸ॣ咲总䭨䌲䖆ⅉ奉⧪椎⽉祅◹⤾曒穞䩓獲ᣰ䁩䵑ṉ掀杵䦙㘨௓癣䮒垓䩂⺏◙湝梛ཝ㔑潻䶚漫槌ᾊ┛帷朘㽾嘫⌟ሡʑ䄡ᰧᎧ䓐吰₪䠅儗㌢㸏㳶⃨兇㓡岧櫞ሼ㷏㖦᳈矴怨ቶⲤ県ㄞા縇ឤ㒬祂䙞A䌨䑠恹⣀傈䗡ࡼࢻፃ液≡໤⒁帳㱱咈尩偡⛪歀欥ེᛵ೸㒖淃Э坱䆈䫘ㆡ֬燜㕢লɭࡒㅭ⦢㭯槡⥀㞬֫㞨侭砂ㄲ䨒㥯⧓砮啩৊Ⴝ⿊ൡ媉䴢棍᭘崼ᥘ㯁d㈔缂䘡䨰‡⧐ẫ塆␀┠なߨ汣⃥ඨ㰨ㆁྡ㍉Ȑ͕ᙨચϊ竧∕䦫畎䭐࠮㐝ᷴஊ┈ᆏ沂摙氲䂧ಒ旌揫ዥ亅ぼ善尺懐嫽㢕厓ᗎ狠ᇑṳ㋖淣શ澘偑禆ᝋʳ媷ௐ㕙䊊惂欞榼ᔹ沄吢拜⥅⩰ᕳʠ泌礖楁祿⁒䗦⑈ֵද䀤ࠠ㥶䋜¥糶⮼⇰ᒝ䑋䓔㰘恩Ӑ䢩㌧⩆ᬳᇡቓ䙘瓑備Ꮱ福晊㭢㊪∡⅚懢Ⱁⲭ䩇䀁䁠၎㢲橅椵៯䁧ࠃ焯榐ㆣ㉔慬㸩䂩૤⠻ĘṀ怪dᝨԞ琾燉᪎ൔ᏾ℋॠ枳㏈⮄栮枮䌢幨ı⮩ɰ⴦瀦հ㘩♜ਚ丣Ҵౣ⢧爎䣋乭ˀ䮒峬ෙ尺∯ᡣ佄䋾⛁ƺ原㛇㑟爾፦㓠ᎈ敔嗠Ⳓ⑔֘῅⍠摡尧⼙䶡墠䅻ᥒ介˰ᶔㅈހ尯䱼`禾ᇨ⦺⿆᣿ड漢㓅䠌继朝䡞䷸㡹笠玫ᬰ䑼б১ᠫÍ䬩ⷭ䕹嗒獻ᬀ渳㑵┰㱧䫃㌬汔✓畽⤈淓梯ஐ䞎ˮ扲秩卐嗆䋗䠧ᜠ䤬玠䄈⦆ↅ㹺ጺ㧇£唄愳擡傢Ὀ๹沪橹ዝ㫋掩䠇攇ᑩ⣰࠾区啧ᰳ⻴媒㑡㭫᝗ڨ㉊∸ౠ〫䁂ᤰぷ擗൐〸揆绩⁅庰㐡㏞᠁慨禯ದ嘭侺۫ớ᫔ݙ㳖䤢⠹昂崠ዂ⥅࿎╔५䱆䬉↷楤⏜撣悜⯀䉸披噪ⷥ㨸ඖ楼皎协˯獒⽃Ԧ䜫\\楍ष擔㟸Ш⍏ᓥ㠶䚁ӽ氷ȯ⩐偅瑆㼬えι嬅ᨉ䆭㡆䷐ᦵ养䊜矯⃟䦠᰿㤤ᔒ⽔䋜ᯓ婏㉀⣗瑴挀庥ᖒ歋≁⩔≧ᖔ䜺盕残䑱䎃唺嚙橓ㄭ㾮坝抺乷᪣૕⌳㕩殺䧜挽㱈⍥⢆冯畊䧉㌬ພ律秚ᵔ彄尸㟆䯊⓵ᦜ畖䨑僳桶✫幄厎⚠䪸瓗Ó媻畖䀊皍劢䗬䀪瓡匶⃂Ё晅⁼ԡ㑩ࠑ圡⁋㟲媁⑚ԍȍ淫ᩝ⭜㰧⺋➪䄌䫷泥瑙䷌ڔໜ㰤ߐబ⃷ॡ䨡䈄战ᐈ䍵ㆰ㯘婊籑⬃õ娣喦宣曖䓍㊧㟘ౕȕ申琠䉋㻳ᾦ瑻編瀈B᤯ᠪ͂ᨡ懤䎤氡⃘ରత䓆⺗堽範⏤汦㍣屿嶧屪尴䬳ᦖ垕ᙾ経㌍樵剕懂庹⦵Έ硧椂姮㺦㇉໱癐冺巧䛳䜕㾬ⶱ圩溫਒⃕嚨ㄤⵇ媏ᰄ籪஁଎嘡渌סᜂ晈䤰᢭䒨ᠩ䢹ᦑ╗‴婹捫涹㿻㍪㳖⽏ᛜ种጑咃䱠瘪崋ㆱᮛ㞖檢傁漽嬣⁓娀䯜㴍㛖ᮘ愅沨ᗡ泗㋝Ḓ㝷沩垃㤫᎖આ栥曺㛚㠌⶿琝ᗓ䘍༰嗐潐ᬸ毅ɥ粅㝈䚬⦼ˉl籅ڎ抧䬰๵畿晨ὤ竛ͭェ䎙ި桹绨唐崍ᄨ䄧䧦ࠒ儮䫚ཱུ㘼㕦䖊䪭熰ɕ咔ፖ曰盫ไ昫爇䴉兞᝿ᩍ䐹⟩߷墧湲ઢ煓㨰㬧㞌䉛᱑䁧㲶緫嫦䮼噥㌓攔沥吷㨇夫滔挒㬰ᬢ圧廦ᢁ捿㫀Ē滁䣻∇焂猢⏶屿埞徸ᷟ尨༯爾䦬缨穰ᒍءՏ獻媍䚢絤⯭䧼Ấ學৛䄤ᤨ⡜⯔ᆽ佉䅦獂ڡ哌游ύ亡搠欤䏳ᩜⳆ炉㩳坼氯ឝ奋労✎㬭㦁ኰ᱆〉ᨮດ䞆䁂磪媑☎ᅥ揋ؼ牁掝ㄎĽ㫇掅㈩孤⊊潓⯗勵Ḏ堼榙偔縉田ˤӕ㢢≦㦰࿼㠫䂢䃷ྡᓬ戸˂ᙰ咡杔寏䍍ᰃ᪍礮宄䌀㼱㬵屽㠪屴Ӹ☠ᠹ扞΀㢀⦯䃺焰⒢獆⃍㠤㴢ᐢ࣐䜀㉃л䘸䙤ኡˆÛ桭䠙࿏纈ۭ䐤༊䕨ࢂ妍壀䅹䭀庡㓍ళʲ䶨ᐭ⚄悰㋘′〾ͅ䊢瞁罋碰ܝ缋羛笧劅>ཷ碠⭜᰿筜窱ྥ簲ᆐ㬨㉥∹⾑ף䛝刿⽦窈䴼⸉硬㡛ܽኇ䞕ݹ呙ᨿ䵫ॉ䷵亀ᾓᇦ䭭师❔焦丨⇌㑃ᡦ哬續礌楼ㅕ庎亀楙嫤暅纏⥹围㜻漢気咼温ₔ͢ἰభ䘩䣼廌ⷢᢄ慠᤭䞩䑊声ᩀึ征炏䶅妏杽祍ᾜ揄⬩欣ڡ⮫⤚ာ᧙堤棖⏑ՐӮ棁ኔ➳ᗂᡍ㢒㻃岻撰ࠒⷂ氬ᓮኪ⟂΅ᭈ⮚Ⴣ係⤗殴凼瞉⣄ݴ⥨宁䅱⁰Ĉ❮ಘ捐ᒅద䂞䤐Ӕ㓀㭴᩠䅂䄴䣌հܢᄺ汈䒄⡩ㄽ䣹䜪岭屉⍹⃦ມ䬲⽑੊䨼ᬳᅓ䆌㫜۬儾᥃噣૏ჵ⩈㤃湂僓䗈㗸㊏ү䝙༂⻌卨☙䷭᪁王䔗峓⻌ඝ᪦屔⚆⣈⛙啅溁僆攷ג弱ҽ׶㘳▰ᴛᩂ❢Ⓚᡈͤᢡ䑅戥㢐ߍᔃ穙䫰ّ碯䡔像啍ᒽゎ㣘㶄㦀ᜦ⚮僌䠄㤳篺㶲籇⁓❦ɑᚺ⠴扦ᅁ栠瓁䌬ᜠ⺱㹵䡞⨒ᚶ摗擺㐓皹䐿杚⡈⪦哨Դ◠〿㜯榠䰕窸䂿О䜵ɫ⭶捗ὐ倩䅮ၐঝ䢦⊀Ⴆࡃⷢ䡷➶ቲ岸梿䈒㗃ʰ咮ᅊ㯃抻筮ଇ䉒炥戸昨⹒䲂Ⴕ⥆⵵牊䳉߆ㄽ➠漴㠼㧜⛄傳䙨ᕣ囉㣘♮⋤仅ㅁ柠ሃ䢵䴿Ⱆ㸃η卸焜⏓ᇊ䊽آ㓫䂻㍍й㛫敄㌞偙㲒ԇᎆ撳忉ণホ狡䖕ᰮର悰č䷪∺͐䘬㐢䁌ϳᾓᴅ┇Ӳ⾼㰌ᶜ嬫岕䠌زᆋ์綏䊿凰ࢪᐍ㥒ᕄᨄ焣嬻Ҁತzㅜ឴ೊᕼ祊坤ʸ㕹⌚哱ⲥᜁ¢䕭儫烇㝲䗹㳂㿂睊䟠䥨⽊湲ቍ߂㝍ⴲϲ失ԥ⑲Ȁ┠ᓫ棰ተ⩠䁿࢓ⓞ㐫嚱糛➞⧲羴ખڦ⮣⌧‪㎑ࡪ狂ጙ憩㖭㉎啄㤌㙪㈰務ֈ坒ᤀⳳ䟞ᴂ徥助枹⪓ᖰ㌗⣶⨃ဨ䨥搌ᘡ๽劤㓕ዪڍみ䚖⪋嶱咔㚃⁁壽狗䜙⋫ຆ䴯ᓞᵰᓱL㔢㜺瓵ᴟᓞ´㍇㹃定₸দஂ㈲⪠ᆡ♬‴ɍ㷩塵礖媲妉䬗؏匓ࠊ᜻搵⶘䴥䱅垕ㆡ⭵䆕嚂ᢴↄࣨ揱ਡ签ᔆ噍⒨۶⠱䇍㤱⛵媫㜍㫺ݺ哋㢭⛽䔱᪽Ⓜ崪ᔹ䋌⯭ⱀ⌢悆ðۙᠫಔ₠⮹擮䑇熆ὑ擥ࢀ᧱⻩⵰⌒圱⯊㵱⋚坱㇊↳佐搣嗘炩ᖉ㎮ອ䉸掏埌㱪沂䲠㗆㭴牶兰㘼╫禿儭ᕩ为㹺ӟ㈉㼃Ѣ䜛ᓢ㘃භ䚥᭚䈩癃傤僠Չ撿Ằⓙ₻涼㍗ᜧ′珰沽眉䆻⡴月ⓜ㔛乿䴾㕭Уⷉ悄悬ད庳定殟圤ᤢ⢌㉬乐ᒸ圔坋ⷣ㦁㲢墋⟣㞺㦝ŧⵐ梧຤皓ΰ⧻䠢χ㡑㊡☮歕㸦ㇴ䇎ɇ㶰␦䇔百博㡓省坢咊媸໘ҁ㚋ڱ༛ï嶩搫⊒噆ධ⠬ₚ妐ፁ儡ᕄ畠ඩ氦䰼疜ེ໲嬇㜻㗻᭾㚽啻⛻䦃拮ަゐ䞁ࠡ௷⡥䘄滒硆ⷚ罵ዮ瓩㯛䃿墼摩⽒清ۼ㫣ⓒ揲狄㝶㒓㶿ⳓᖓ㼻㥆洋ᐿ䀂Іᴍ痿ℳ⧉㻴㜹㑇㟶ⳡ摟ⷠ䉫၌⏦ẓ燵₆૱ᾊ甇⸱䀰ӡ䰤ὀ࿅俕⸸ᶐಮ刧帲攍卮丹汝偨夰ᮧ䐥椞ആࡦ≞䡑ຐቧ䵰⡫Ք殧娦榾⒔灦䤭樆ந牦䍿㵟㕠⤫媸懰睐欫䠴剡交㢣ᤩࠨ䉈แ␌䦭朳Ӡ搫羛ؔ㈥硘䆲̀楛⡚ᢔ຀犧姱则䙱䒐屦ᢝཪ䖂䈿ಿ喨䀋ስŽ䚆␻妶ۛౣ⢚䖹劷໳㲚ᖹỊ摜㩇Ṻ朖㔃㸻㹖ӏ䐤烬㙼ਃᓓ∠᣶曊㒓⼶⣚犱暆岷ᓓ䖺㑏㼷䔄䔞兟ὁᗣ䡫٬稄䉩૛瀪㵀⎤᰸掃ӆ丶⧳旲㭋Ḵ攋撵守斀槪狝㭁ഁࠣ䵰आ␢㧊榼桃屢ら⡝ඦ᫛娍⼊犡竘੬䄺猆᝖㘊ౌ皧综妦ඖ↌࠾娐盍嘱↢⴪囦ዣ㯠‼ࢶ姘ᡌ笩ฐᵑᜪẋ侶ႆᱜ槶伐抆嵕㤾们揔ὗ抾Ŷ䰄㓁窦ᬸ砷ᬺ׎ᤣ⾃੻㈃⯸祣๓܃ख़㹇ࣶ䘄㕿㙔㓚燻䞖疛᧎庴厎䱇ᷗ燶敹㢶䅕洃瓿⟦瓙ਗᚂ禺⟴嶷ᙄ焥ҵ⮊ᭂ᠝ҫ帾⑤≀㡌恶揵䊄䱧ᚱ剘ⵋ㋛Ⓦ咘ㆲ垹嚵ⴔች稤ී澃Ơ懓ⴺㅦ様ዷ෵㩆暸嬃綰瀞湖ᇜθ淮勣悟䑨Ῥ罂Ổ娑回劋㪽ᬇ㮊ᗼ䚶࡛炶䂹ㆢ湊㈛劽䐧䂺Ɛ欠⎡䘽⡦੧ᛓ姍「焇ᇐ㗑ຼ秷⛟モ海⿁⶧䱁䈷倇෹笆癣䫖ት⼫ྡྷ滗დㆸⵖ渷抌ẫ䕂涶瓞熬⺘竅ᚁᶽᐲ獘䓔⚲⿮摆幚旓瑤挛⯔㎭᯹籆繹斷扷ܡҴ㱤⍱䪡璘མ⁐ᘋ憯ᳫ娂䮛狰㴀๞敻ᕓ䫏؅⭻学㾝ʱ沩燵Ὂ᷒ᙊᄿ⎶乑洖㓬㱶ὕ㍏撓䯸瘅皮倨⯲䉟᦮料汼䟡ㆆ捼䋼ἧ㟶偆༌ᑀ墢Ȭ扚扥倒ῳⱁጰྰ焯⮨䈂ڂ⧛嵎ጞ瑖炚㸤ạ礮৚䏱猩殢筌⡶掶疂䃚滿坆⛗焂吙ᗉ翛䷖匌㭣㣓ᯘᷥᯂ窛㷒㋗Ṯ糯弻ᷟ䓹沶ᯑ淓ẜ㍘ೖ⛏ᚹ熚᳓傰廥⢪భ㚾ᷢํప涂>䲸᱐䡚⭪或㴎⧓柲⫇㥼攜垍࿣稤ᰎᆈᄙ砩䡴┐灉厚⡹廧↎⢌櫺㲭抠掔栔ɭ沸氮栆ઓ筃‷˿㚁珎⭓瘘ؕ翶Δ剢≅㸱墿┹䪄悀䌰杛Ⳅဓፁ᥍姑狏妙⎺岠㽎璐揆庵滙⶘竪琽拌キ࠳帢瑫枒ؓජ盜ᦻ㮦濉紽⊉ܕᑂ撛㪐理搹琎毕纔㜊 䋂۸ു抌༮㚽慗৐綿値办吝Ὗ㫯絎ᧁᾆ≏媜㐕眨份熣ၢ⎞侤㙒㊘ỏ珆Ѥ゚ဩ婛᛹䡥ᘗ婜動㟢吇䭇牼⨕᝝΄䵞焫㚩ⲕ爀亼䳔∗㻜晫勸ٗ但ଧ伫磷猟㘃਋禤ඉ㠈濘䏿富㄃⦔ᷗ฽ϓ竝㡔䛯ऄĖ䵤喋楱亣ƛࠤ㶁劥卆炢ሀಠ籠⨤寃棊燳橗⍜᎕燭伳ǥ瞻剾ଊ磂Ꮩ⃍䈲䍪ᶔ㋧糶᥹ᷫ摬巚⯚ǅ㇝㚝歉℗㢜侒㣽孮㘔眍䏦䙻凉樤ĝ孂毝㾬㏒姮㭲㔫烅䎡⸥甃悘ስ篹⻠瞡ᰭ拠㮚絜睎ର䟪䨫≄㘬₀䯿ઁ㠢ỿ劐᥉䎫ᣀ冰ਂᾨڃ碳惋Ⰼ偕哩F煷̟䳀壢ᝏ翄ಹЈᗣ⠢抰䁃͍㠼ਟ姡ᨒ尴g䅼Ơᡰὸ㸯⇽⥿烐猋娞㑊怏毆晄㯰ࡪଡ氓䖭厕姷瘀ᴰ穲宪࣌つᨰۧ᫝ఔ毥㼽㳯瓿僾ḛ《㟞湺ᤀᾥ㬡ἒ絮✿㷋㐗囖䨦唌࿝溺㨶ⴗ≌瘕䟥䃣᳸ࣅ䕞ᬚ䰋ߖ㺤娐ឿ⥌壒䱘彺絡玸㳞⢹␺塬慐篒淁⚉䎦Ƴ彦㤐ᓡތ磣櫢៎〸懥䡩໌┡ᡘ礬哠タ䥎╻徎ᝑࡲ狄ᆬ㜰ە璫ʂとר⠈♂嗫ᑙ℔㢅䙀ᅱ㩐ế炬䊡໨㐱㑣䄰⡴ᇥ؍曷ೝ研竻ݸе犁傮㧊囡ౄ㜔≷э፝䆤␹䑟ᶩዄ୐ᡠ株䰻ພ՘᠟⁣㖃㡐〰䋢༐㈲枚〰㮩उ䌰⛰焢♐已┩Қ௏࿁樤ᑈᢋ㙏㢌႐䐰爓䄦㵬概㔸㺺ᴛ矈߀䇖㬹柹ۃ䯒㧡⑏帕೔⮖䔤ʪ䄼璛≓䞨⊕ㇷ剙犌⁆⏎ᨄ岀♯᳓懃笳潋఍櫱哲佻ʕ儠ʱ墡K┾ე䑒䵮⍂咦㉈癪㧹ਇ䠮⩦ጸfщ䑒ᱠፃ䒥㉝䣈䈰埁䨞喸曊⑫ۋ㋂⵪٠۶ザ楌স埀ࡶ洡罍戩⁤ᬆڏΰ椬ɋႰ⍿杤㽁䡥ਲ਼ѦƺᠮŃ㄰佂䩒孮䈴焎忾ࡹЌ咘᪁篢汐咜ڪ盽眾测眛征⭥സ঩冘㥣戯ጣ戮๲⃦⸏ළ䇱ᴫ䠬Ƚ㤑ń౬⊕組␯Ƃ䇃Ǡ၊䪒拫═ㆆڦᴛ᫕啑◣筤Ƥ㕼৑䪂८㵁ኛㄒ抸㥵紖焸偶焇∼ᴘ㡦␪䉫ㄸ⟖ᶤ垂硭癐䒡抒ᚷ䚦籦房៉᪩݋沰栜ဂ孹尸ᢉ䜔彀ᜀফ∯悢ᡆ汪㚠㐅ᑗᢤ抉ࢶ䣑⦰䬾䱹ㅹ䗅ࣰ䌃⑥䈸䐵拶ᆃ៾祧⼋梖燰堬៘嚽ሑ槨碿ᢔႬැ⫒ሣุ̿Ꮽ洦⪁ౠế၈⁣Ҝ䔬√ག碈܃窳成對偖̬䒛ʘ䯠侩榒ҳP䥀䖩ᥒⱴ᱖䥙唲Ⴢ؂ㄘ㣆兄ት摩✰䊴撲ᰤ൷आኂஷ寶癆ᘆ羠㙘农䬨≴ழἹ壝ⵆ∋ú亙㌫ࢮ沗懑湤稲哂兓壼ጯ䟢⿑≆ܱ劈乔⎪ᯄ姽穪瑐撪̵॒⃴ᄙเ熤㸧䕹ᾈ寽䯵が䵛∿ཞ䬑䧋㲍㊖㡾ᤘ䑝侮ᵆ瓬絖໽䥊ᴤ⒊怡䅱䆑ϵᛸ㲕㶹䀤浑ͷ䨩磙帲ં嚁⓸ᒤ嫍纅₵०煩䎊⻶໇䃥檜湝▗ࡡᩱ䵴㕁ಶ劤䓆᷉擡冰恗⥃䆃ῴ斂ᶖ噈䢺剩੦Ǒᱰㆥࡔᄋ⬱Ѭ殉㵅䕽ၼ䃟灙唰揢ᜄ㪽油♞⌴乲ɫ敁ᒢ卤䩊≩㓅䪲ᒜ燓⑇⟃ģ劐囯⒪秷ཀ⯚㗆篊㉭Ǌ䔍რ垘戨ᵟ╃刷㔰♞䍤ᘻ俕仆䜣棛㻳ຐ䡛シ捽䵚Ⅱᴩ⹨渮わ䡎↖⁽悆䆶䁺煔Ȳᩀ樐晏牼⹤秪欤䐭攖⫻烏涔ឮ傰愻䣁总⚄⋱憰ㄠ知映Ⲻㆻ⋷ֹ洇妷乵%擆Ѽ当◬䖼岹䗉䶷嚹ᑊ漱抝㈏竐歒ᑀ⑥扵ီ勘䔨◘⫰殪窠䄐䂀慊Ⱐ沓捙哄㍙䩈ҹ☐匡䙥ᦗ掃᝘柬㰦ۯᠯ㳄甧ࣦ涆䠶ㆪ樚昧梌䛲晭⥮䂮硦஖ⲁᏧⶶ㒋仗▽ᄌ燃ᝪὣ粳ᶾ䳴▖᭥伲㩻爗橚ჾ〰ⱆĭ䁶炃㔬ᴰ㱱ᾨ㹑Ⴏ䦀乬㔡⃬❉筵㑳䪿䵙ᐐ愮擎䘢ұ᢬⾇བ䨽ⱺ㑄Π㸹⭫୞㈶堯Ṣ焒呈☦䋩琈⦾⦥稅イ抛噌╵፸煂歕睞咤ਐŰ㡦瑠榣撜㨪ᚑߖ➜㇩䝑尲棸狎ⶹ崆㦿⹯᧥栓ዼ僓‶⭟㲩ೂ̫䆉澙ᚻ嚗Ⅶ␻Ხ༃プ᥈ビ㍧圀㋹⨈电篔Ṡᙾᐜ瘂翨៩煷搄ຌ䐥杣籱গ䗞暆䶛ጰ琦摲䐾G憨ᆠ璠ᝣ䱁ℑ楳࿕ส➳惑ᝨ㏌બ⤩檘䀫ᅽ㤒ᚰ擂溬␥⣗㱢䁔⸟Ӕ牫᫃⥬₭ᙈ婪㊪䵍ⓂḼ᢮枉㭥眆䑹溗⹏竵ᒰ䠜䑰コ䐶䵃ㅚᛊ矨缱㬷࢜ᤈ᎜ↁ倪䠬䋁獈ⴾ㻲ᦆ硽ẃ֓擐埜册䌤㩽申猬ㆳ喑笵䠸熊楗擘和䫃湋⩙粿㍿䱚⊁䟇䴽熫禣䥃ⱛᥕ⏖┹ᕠ䬎倛御ᯧ羳঳槶☝椯㗳⃍䱓⤍淌ᘞ䭐გⱂ㩊ⁱ䋂ɏᵐ䑕㘲ᠷ瑛➮㓆尴ጎ硹▱䓯撤崜ฅఢ瑅䮣٨ઠ㖷ᠡ奢℅儌嶬㼝⑪⓫䬔悙⥹㾵㠶ճ⹆敂嗮䙊渝儬橱罚㏛䶹㎩ရ朂〽碭掊怨䘨籇峡࢙斑֨᪠ʺ宦揗▕ᘔ寜⽫䵎್勍௩ᆺ㬡✁墧䱍䕍櫜妜盥埩睫狛玭丙㓹㛻䶷㚑煠埧歝㟒၏㭘ካ吓獢䛹㤧扵ক兑ᖾဲ穊焔暿焜䆇⒀ƒ⚙失ʦ¬珤π䤰⥋ጮ䪸嵲啐ⰹ惆ⰱౢਂ狦Վ≵壪᫋屺ᅭⱨṚ୶簈渽ᢤΡ䎬䓊殇盐欌₧⢶䳵ㇴኹ㖄畖哮囊喃᫊睇圽⫄⥷剚⊠خ孋)⤞᭵㉁Օ㭱ᕔ瑤ㆮ㮔綴ᙽ斂⃜囌彊䵑૎૛㊵⯉⇙⬡箵爫禦姇杜府榭ភ㳄ᬋบࢭ∙緦㱽࿛丰垬Ⴚ廂棏ˊ㥝瑢⽭◮䀶୿ᢝ榾撢娜籋၏䏧䂂䁅▀ᦤⴥ涉䦈摣䍦ݬ▥ㆇ乽ႅ硻⸿偉猥䌷ʊ㥿ҿ䞜⬁犣ỉ填欝昢ܕᐰ䠯㵵旍傮׎㢺⎤䧏䎉ᨪς໔挢晨即畛哳៚瓪बố䳞獶憙நᾢ᭦䑞ᠥ᥯䙤⤋哀Ⳟ圶㡛⟹㽵ǵᝰᚪ痃埭滚䔋囎从櫏Ⰾ⣡ȅさṵ嚂楚旜喜断乊晼ᪿ䬰棒㞉朹ࣵ咚ඞ᠆圲䗒⧈姱デ㋎伩⥕䢷液⎓乾曻᪦睔偎翵塆ღ⛨尉巫⃥䅁礐䇆෵㬱⍁ 勷䉛⼬㸩樚Ⴖ㷊灶㔍䨱࠳湯戬偃㥲ⰲᶨ冡峰敎ړ啭历泻皈ⷈ癅婼浻⼢痖ೱ溑丑؊⥂离削⤥纀总❖喨᮱ࢊ⇜牉䆲╺⡤㘶屍䝵ᯯ⥬ͭ਑㓻㶜䶚㝐哆俹愡ᆴ⣆䎨䔸ᚠ罴㨸ඔഩ㝉沄渒ʄ浀㶍合ອ⯥˖ŵ㚐ᕸ垱営渺槎ⱜ晌ᨡⳋ㵕孧⧼䵧乚ऒ⾨ᓥ⑓狏᡿籅瑞ᅊᾒ簍‾ႛ䤑倴䢂䧯惒㽯䏢䬤ݶ嗡滴䶣¥ŝ喢௺㓣㷍䣆焆⒜堜筃᫇ᝣ涪畓沣⫛某毋眍㮀圠䑥䫅♱㮞ພ夾嗤䑹粭Eᠬ㇑ϕ廎ᜁ〠䩤ⰸღଵℵ䈧泋㚹孩ᗻ㇭ϔ囷⏛䶠㐽汤ⱁ璔⏄䃈ᬅอㅍ侷ዹ䞝禣毅岦噻媬᥯ᜒ寓⷇㋮▥ȉ狞ⷑ啮攘椻ᧉ拎䮍洩˙Ψⅹ嬸亡碣塄ᱠ䦆ጾ憚⪅㒅㰹件䛴←ᠩˎԎ䵈⼋ቧ湝ⵝ渟ᒠ῁择牠㸅⮺摴㔚䞇ཎ㼗㯺١㯽ᘕ緻冦ػ皽奒移㖨ᇺ眃殃ਜ਼ᾠ㿪ሦ稳ễ条亨盛⬀焷䁽ೀश㈤㶗䦨箁嵊矱弖槚嬉緌ᛁ䇘䊨ἡ܋䃳୽䖑㔦嵅ᩚ䦊䋥᛽拲椑⼽ᑖ缁ẻ秤琠冈䵚㢍灑没ͪ浥㬵〆૷❸Ԭ瑵彶䠂቗琰䬚巎⠗ᘜ๱歨⁅㢟䣢ະᲓ䌈❘勆⩁䫐㖵燖憰ᠦ硯甽Kᰛ疀翞噏筌ᙱ⁰㧵摘羌Ⴊໟ姶䪧ࠎ栥䐿窧ß㫽Ⱄ⑷ⲍ絼⛋䖨ㄱ↣婫{秶揙ᙌ෨ཀྵザ敔憰俒眛㐋㯁㻣箷渗⶝㐖ोྌᶉ䇿ॠኚ㊨᥍ἔٓ泠歝є珻䄚冄༉②䘺瞮ៀ仲箪櫀攵䬔੝⽦ᔯ⟷坡卛ॏ嗥㩤悑䆍ü䲠翏ఱ⨓㬦sⱁ岋廤⼈ዥ浉⩣滴䓱亝䍅劅ᴁ石籯㢂䁊棜ᰁዐⓢ簼ℤ据཭ଁ咁㡀碞㇩䤶᫠ᦃশⱐ໘䘔敽匢ֺ㣅䀨⒌䒘㎽Ნ呩杣歑Ԇ欪唨Ὶ̥ᑁ缍綿涬ãᬁౕ睩䏿皈㔱䌃凕₸糈娤Ⴃ㙍ఄ凴䣠㻁嚇哾⩺᤻糐礌᪒ᾭ㝍ɖ䡘東⎴ག嘲䴧┊抒凚穨ᬥ㭃屁⁺ᡏ啃͂Ķᘋ夡悸季灂攜■Ⳡߺუᘂಯ剖傺匉Ჽᜦ秺Ϋᔈᚹ挨䱳搀ボ㡰᯦⑷ؤ䡽㩅ᷘ款᥯㵇ᔓ࣭扊㐓㋇Ἲᲃ⪳䛕⡝↹஬滶࡙⁚妀୒ࡹ䆦໖㉒⪌ᔜ埞憡⫫緅怼䛌㤁䁇ᖤ沖㇯ܖᨐ焃⢗㏣ޘጳཱ伱粽熌⊋㢬㭱Ỡ紳⣵㉐⓼㕤瘄㵱䔻琻ោ囲䟷㝈滍ᬕ⫺Ƃ㗕㐰㢐奕⬀嶷䁡ხ਀玽嚯䕦㡵ᡷ፶䕶ᩁΊՂ惁✨⸳⊝⪴浟ᯑ䂪噚㡄䯆均ᛚࡴਃ免᯳曈䝗㔘獬≮㋼⯆㎸窞㦥敺瘱⼞掭㶊㤖唶䴱櫣ᅄ㮅౬䒏䢴洽⒙䫉䢣嫑䁐㇑涑擆眺檑爆爅᯴炢ͬ㹒⑔ͮ䤮ԩ䈧再᷹Ș❳歠椳㡖山叄㗘矆㳡癆妽抒ㄆⷉ㋭ッ爯亴䖈┹嗃Ⅻ╕哱咖们⪨峢璫峮橖⚢ₘ}䌨ᬠ矤⠷暼ǰ͘㬾ₓ㝈᾿፣琪㱖悺ιઑ}ೕ䉎㌓磣⽔枬㦗余᧤␇ᆦ㺛㪆呏Ἓ⛊ᯮ擔榜䭼敞㊾֦⚺Ẍ榹䭯᭄✴皴䁎栢⧤Ꮒᾨ⫘ᄱ畼ᡚヅ吜ア㙛᝖᳣压丅ᕙ寇㎼突㧇㷁楶㬡崺愨╌㎋䟦㌥抆懋⒍়㪿䳤暳䈬煘⽥㏸ⱴ㸯≋明㭌凪曫皩㣬ೌ᯾粑㖱̟䑀Ệᆄ௿溛硐㉨ྤ団欀ᔦ]們岼䓚僨哏ᡵ恌幡ᘠ䚓穨亨ㄔᄱⲨᎷ⛌䘢䨵ᜇ《櫫⇎泚᫣䬳Ⲁ包䳶ٸ㿴樝橬彘洓嗐㦲᱖ ━䅧ࠥ楊粪乍摂柺尡ⰱ夆勵琛ㇷᵙ缠㩼⦒ᢝៀᷱ䰄⢢⋜䞔୪㫡㕠矪⦼▛❬審ᵪ洫瓌ヒ⋡⮻޳徥縺烺勺䗒㮓⹊画ᙹ䣒愆㒭ⓢ࿛⌱ଶ穷䴔愭搌㺮⺰䌢恁ィ瘳恅徆䉼䯚೎ᇷ䄀ऋ惒仓ෟヘଡ䚢⸨㝿ᶮ䱹噠Õ儋䯐仜ᆯᬷ〓㪚㾀廳嶒༝柵⫺棫᷎䳺㋳ᤨၨ泶缨㗁౯⭴䬦Ԟ呁⅂䌯沁␌录惶㙹ඞ易䍶庒结ා⁗䱘亲㭢〫㭣䨍䩑❭抎牬楪ӌ宆䴟改仁㰂汖儗⍳水Ĝf砥ਮ羲䜌㬴寧㢽晶▸劚圔眲䓮盀洍⭝᳆㒶ளԖ˛哄Ǹح朘ㄫᦊӦडయ࢜ⱓ㑖卖щ㎇喸掕嫙ύ繷᪇㗑嬲ᤛ光䗖㰱إ⛤戛寍ᭂ∍榯⒈筟⎯㞜┗橯ᕊ滣ᜩࣶ猍ᬮⵗ㾌æF暊繀ᴏ喽㽌扢恉庠䊡ዮ戮䔼湫㭼㓖沥䮊痡㜵屈Ἃ瞍㌬璟歈ూ㌵傖煾⚍押ّ᯺╋呺牞䌞㰐漷㡵䪖碌发ᾂᛱ婮桅㋭獳塵ஸᶵ㙭㟦㊍ྡʶ䭽坊䛐熱ࣂᖝⴍⳡṎ桳敋㋋ɹ㫉Ũఄ㷒整沅箌䝿㓠Ր尐匨⡙檯征甛⸼⿙૏ތ狿㡃䐗䚻⮇㶳ᬗ姟ℛ⹆㐹㠹ᤄ厳൑瑠੎挦᭸嘈߅ᓀ⡦绳἖⊓渻㱝北⛽⾒淉矽忺᱐=⃐໢光෽溱硗ᙬ䎚Ќ宀㦮杓಍烛䬕Й⹀碭晗ㅎᚄ帍沯]ྦ䊡㷻晡ᠭ䶲⿕୭㰣ש䉌ॻ專汣༌ӵ漗⯬ῴ戠گɠ䕰䀨憏揱梂᳢̅☵瓆Ủ׎╮婜凶吟㨊㨗ᇇ縳᪒㈞檍᱈灨屣堏寖憯粪ۃ౐桠ඎ沕橿፲䑷ፀᆃ歪㉷書㥞玧琏᪃䁔䝗氨羝䏵䅼壇獴৐֑敝眽ᱹ爜ශ湝撵启ᇺ⽦෽␀㣡片攎䊐⳩ፋ؀縓嘮ఽ愁ϲ坈汩㘊㇛ᡣ穑䄎矺≬䩡濏‥䁊ᶑ䓷ẻ㛷߸ዩ❬ṁᆢ㨙綧派㏡ᄶ㷔妇摢䨦姮ㄘʌ灓ᅎ獞ᳬ䯠ᏸ䓅捭㳠榐撆殃᷑ኙ延晾⬶癨࡚㻉杧㪿璟槱䝍Ἤ籈姯㝍㚥婞Ծ⦤椣ö܀㰈皠爽塖懺ↂᶴ᛾㺮搇ኖܑࣵ൙⸜硥楆曟礈嘚㮈ᧂ慆⠷杇䔰焝ዷಘῙ壢㒄箂䂀攀᪠㟋዆滶ឬ漴痵幏挃䈮䢗ヌ߂埓ࣾᢝ炳℁ጽ⍓煎䳛⣜䯶⽶㯧厷䶿ฤ  "
   },
   "outputs": [
    {
     "data": {
      "application/vnd.jupyter.widget-view+json": {
       "model_id": "1c26716b3b1f43aa9d4ebbaacd9a37c3",
       "version_major": 2,
       "version_minor": 0
      },
      "text/plain": [
       "PersistWidget(data_values=[{'__id_column': '1', 'Date': 1352419200000, 'Region': 'Salt Lake', 'Place': 'Sunset…"
      ]
     },
     "execution_count": 30,
     "metadata": {},
     "output_type": "execute_result"
    }
   ],
   "source": [
    "pts = alt.selection_point(name=\"selector\", fields=['Trigger'])\n",
    "\n",
    "base = alt.Chart(df_task_2b).encode(y=\"count()\")\n",
    "\n",
    "# TODO: change this so that color is not used in the layers but still have a highlight for the selected one\n",
    "\n",
    "trigger = base.mark_bar().encode(\n",
    "    x=\"Trigger:N\",\n",
    "\n",
    "    color=alt.condition(pts, \"Trigger:N\", alt.value(\"gray\"))\n",
    ").add_params(pts)\n",
    "\n",
    "weak_layer = base.mark_bar().encode(\n",
    "    x=\"Weak Layer:N\",\n",
    "    color=\"Weak Layer:N\",\n",
    "    tooltip=\"count()\"\n",
    ").transform_filter(\n",
    "    pts\n",
    ")\n",
    "\n",
    "chart = alt.hconcat(\n",
    "    trigger, weak_layer\n",
    ").resolve_scale(\n",
    "    color=\"independent\",\n",
    ")\n",
    "\n",
    "PR.PersistChart(chart, data=df_task_2b)"
   ]
  },
  {
   "cell_type": "markdown",
   "id": "e3f44925-7703-4844-98ee-d1280f0b10e5",
   "metadata": {},
   "source": [
    "**Task 2c Notes:**\n",
    "\n",
    "Write your answer here"
   ]
  },
  {
   "cell_type": "markdown",
   "id": "8a92b8a9-c3a8-4a57-be3b-c9cdc977092c",
   "metadata": {
    "__GENERATED_DATAFRAMES__": "{\"nodeDataframes\":{},\"graphDataframes\":null}",
    "show_aggregate_original": "false",
    "trrack_graph": "ᯡ࠽䈌ʀ匦㢠⹰ೠ⬠沈֭⠸恍ff9昽䁮ۦ࠰汬നڀপ㈏䣹厠㬦ተ¶⡨⇱㌀ᅁ╶庳ୖ⹜簧ଭࠣ℠Έ橦औ䁅ШNႦ〡岁䏼ℭ㞁摞+㢱䨠Ԋ牠Έƕ٦枓቙ჿਸ旑䅠Ȅ恨戬പᎭె䝁净儬Ö᡻⌸䐱䘩׍宨⇓ࡱ䍲ච᫲壬จ䙤Ɲڣ圖⍞ᛡ৽ण䃔戋㘠传ϊ揿振䘌汣䓼㹮䘫㈨ቺ⩯↧ᄨXഉ⠅ㅖࢢ侸⇄僡ಖࡢҁ氣С宍劄倶䢡⍤㲂̤㚗٩䄀硂಩⍰琦ᦪ悑屾ᾨႨ㺜*瘪䋇޶⋤ᓘ犠䭳঺᥇⏰ᅠ  "
   },
   "source": [
    "## Task 3: Data Wrangling"
   ]
  },
  {
   "cell_type": "markdown",
   "id": "9da80393-7f4b-4115-a4d1-5b7978e11358",
   "metadata": {
    "__GENERATED_DATAFRAMES__": "{\"nodeDataframes\":{},\"graphDataframes\":null}",
    "show_aggregate_original": "false",
    "trrack_graph": "ᯡ࠽䈌ʀ匦㢠⹰â䂬ƀᶷ琶䁋c<搔怳ଚ䠳亡䈤㉕⁖ì⺇⊨攩ᐠ▨戰㑹㧒妰囇⃹喧㝞Ţ∠桠ûு䁔䈠ॢȠந㺸ᢀ盅⻿夣•晀樠Ԃ牠Έƕ稦❳ሪὦ䰼⇑䅠Ȅ恨㙎⌯᪴䶹䈁ℓ琡㙐ᮂ⢨᢬थ⧓ࡢ㌰ሚ璋U䳘䠵欯Т縔絭Sㄭۡ۹ण䉔悊㘠传ϒ橷挣⌏ⱡ䕼庮打㈨ɼ榨慢䃂॑瑐繦┭ڼ㾬⎂厃焸牘榥ᄨ䦯ඦ嘔㗆溄⒀擒摖≦၀ⶃ㧄మޢᄴ䩍རへ∦䯧焤愷䍠Žƀ夅შ㤙༾′⪂㵩掳婊⢄  "
   },
   "source": [
    "### Task 3a: Creating and assigning 'Avalanche Season'"
   ]
  },
  {
   "cell_type": "markdown",
   "id": "402412ae-3b84-4fec-9c01-94dd203a7b1f",
   "metadata": {
    "__GENERATED_DATAFRAMES__": "{\"nodeDataframes\":{},\"graphDataframes\":null}",
    "show_aggregate_original": "false",
    "trrack_graph": "ᯡ࠽䈌ʀ匦㢠⹰â䂬ƀᶷ琶䁋c<搔怳ଚ䠳亡䈤㉕⁖ì⺇⊨攩ᐠ▨戰㑹㧒妰囇⃹喧㝞Ţ∠桠ûு䁔䈠ॢȠந㺸ᢀ盅⻿夣•晀樠Ԃ牠Έƕ稦❳ሪὦ䰼⇑䅠Ȅ恨㙎⌯᪴䶹䈁ℓ琡㙐ᮂ⢨᢬थ⧓ࡢ㌰ሚ璋U䳘䠵欯Т縔絭Sㄭۡ۹ण䉔悊㘠传ϒ橷挣⌏ⱡ䕼庮打㈨ɼ榨慢䃂॑瑐繦┭ڼ㾬⎂厃焸牘榥ᄨ䦯ඦ嘔㗆溄⒀擒摖≦၀ⶃ㧄మޢᄴ䩍རへ∦䯧焤愷䍠Žƀ夅შ㤙༾′⪂㵩掳婊⢄  "
   },
   "source": [
    "Next, we'll introduce a new categorical variable named `Avalanche Season` into our dataset. This addition aims to classify each avalanche record into different parts of the avalanche season (Start, Middle, End) based on the month it occurred in.\n",
    "\n",
    "Create a new category `Avalanche Season` in the dataset and assign each record to `Start`, `Middle`, or `End` of the avalanche season based on its month."
   ]
  },
  {
   "cell_type": "markdown",
   "id": "86d54d80-ef52-4630-bffb-1e04d9320384",
   "metadata": {},
   "source": [
    "#### **Instructions**\n",
    "1. **Define Season Categories:**\n",
    "    - Based on typical avalanche seasons in Utah, create a new category called `Avalanche Season`.\n",
    "    - Add three options for this category -- `Start`, `Middle`, `End`.\n",
    "2. **Interactive Category Assignment:**\n",
    "    - Use Persist's interactive features to select each month and assign it to one of the `Avalanche Season` values (Start, Middle, End).\n",
    "    - You should use the following ranges for assigning proper categories:\n",
    "        - `Start` of Season for October, November, December, January, February\n",
    "    \t- `Middle` of Season for March, April, May,\n",
    "    \t- `End` of Season for June, July, August, September\n",
    "3. **Verify the Output:**\n",
    "    - Print the head of the generated dataframe to verify the changes."
   ]
  },
  {
   "cell_type": "code",
   "execution_count": 31,
   "id": "63b62f4c-8841-4f6c-8011-cb2ee31c2c7b",
   "metadata": {
    "__GENERATED_DATAFRAMES__": "ᯡࠣ䅬Ԁ朤壠ᜣ琢〹夢゠⹰〮⁁䁻қ䚾ኊ㇠നСࠩ瀮晼Ƭ穅5愠៤⠠ ",
    "__has_persist_output": true,
    "trrack_graph": "ᯡ࠽䈌ʀ匦㢠⹰Ҁጠᰦ〬恮ᘢᠥ倠怵䏉戡〦权㆛䪠㭑᷽ᝠ挬汐ȸ傂┠অҤᵖ㹂㊵嘊᭕ㄅ曧忀䣑Tဠ㙂ㆬ搢⡠䀢焤㌠෦ౝ戰殖๢砠填ೀn坄V䐯࿫杅ᇑㆸ粩ᩢ㛑Ԧ䩢䙃⎰愐碔㰺ബ࡬‫剖᭛䲱⑦幰働䘪/ጢ⇆䤚㲌䈬⤶༨怫ㆥ夫䑠䊀䢉涤䈻墮ໍ䣸Ǎ换愍䒅‷撏幹愪禌ऋ䷘ዬᚖ怩瀠㥜㸜ボ淗䐤䜁碼℥䲡Äᥔ⚣㈈ᐬ౤ၰℽ୦ऐರ䩣⁒幆⦗ᄑⲁ䈥㱞ᥓ⹳㑠揍ᒆ䑐壜⢲ᖘᓏ↲撒㲡⑱ᓪૌ椨砹♢⒳㎈ຆⶵ昒䋑⩷ᑩ卜ᘩ 䅈ਠ1䁐=揍煺ᠠກ̤⼽‮⃴䇆ᠻ燴ê犼૑媜㪰ᘕᩍ⭯倄Ѣペ戣璈㰦Ƣᓨఴ௥冘帮ƴჀ㓺ʧ⁰⠦ڢ全ᨨ৓㸖坛䭄憐ȩŢ冈س˧ㅘ渿F।⃫⛴瓶廟ⷃ䑈䈤救䷡秂櫱⳶න䊡洖α檓䶢வ排Წ㠴䌠Ť㠼ࠋ徢倨ྒ!⺀ᘝ㿾ữ㯳焣䯖㾸ത⋀Э烨傭犸帩焸俯惨>䙫䂰Ċ澗抉娠挐椣ယ¯ద䄘ᤤ惨⒂ᄗ潢୾ݠ炚挠㍺ࢺ቎攣ᡢр儺ڠ慖ࡨヌፁҍ␀ࢯത瞙搛ౄ᭐Þ၇睾'ᄟ⦋僆䓆̯ྊ䆙䴉嵁ȋ㩺⧓㹿倒Żঀ怼́摺检ᬵ೻呖旀瑎激コݱ䅢ǚ⎈欺兲¹ጺʹ匴ƹ㌼涻獢椹։ȁ粸朹ˤ沺厔榺犈垸ୂ扸橓້㕽⿉ഠ᳒噻⌋♍授畻ģൕᶉ洧ⷅ簸ଋ嵯⸈屿Ⰲ嫀怱ɰ䃘䁢ڢ抒ۣ炂̠悁ୡ⡔枡⁚ª࠸Ըᡬơ桞䩸₪桖䕘乊妖⺰斎⽉祅⡉ᩞ滱㨾䷃ܪۡ偢ِ䁩䵒昹极杵䎛ᜨ௓癣䞐㞓䅂⺋䮒ᜰ怳暙ᇹ䤙湃྘熭䇘ṳ⬛䤯ਛ㾂ᰛ噾Ꭴ怰ᖓ烶䔧ӱ᫓⃘ཇ䥊ㅇ彪噆乺㝒撯泬惖㘣℞㘬秩ሂ欓䏤䂉ᝬ᧐ᡅ䘁ᑤჰ❌䁚Ԣᡚ֢斒๡剔⹠梂֑в૦䠳➠恼ڙ瀺⒅㪳ဩ尫ᖄ㰻Ⴣ殅ӹ呶槀㭽෹䐭歰屐⚠㝉单暬⣗ᚺ૗ᠭ嗔盂乣監婠ኹಽ䷴烕ᛁ˖䡕厾ᅜ矔捂琂喚䇇㕝⢈疉㘢洠୅Ⴠⵠ檺䭺䎴淉匽ົ櫠ៈ瀦喂䏭㊲ᩣ㣱ࡠ᧛惪ᬢᆸഢ䁢帥ᮨأ䃐ɄᇨḪ㳸Ŧ慈漬㭥磵ⶲ䁿ෲ桹䩂白䳙䬴շ壉ᘊܧ樔㚣偢ǀˡᲠ浘ତೊ䆒㘤ᥣᬅ䍓䋼҃峨澑ޣ෯ᜂ䀡᪌㹖庌൦៮Ґ⍀ᓪҙ倓ᗖࢠ⸴㌭㗐ᚂBⶑ玪⳾ᔧ䒾娯㛅呅ㅶ瘿⚘◢㱚ו䒨摞硴ᗢ煒ʞѣ⃐Ӥ⢲綸ഢਗ਼7ᨣ炗㙘侃碟Ѝ晲旌䛑β䉖⪡㘭ތ栵༎⬼幩Ðΐ瞾砿०ὺ՞ᱡ㹷掍㟾紿娘䮧䀤䰧漼䘩ᐆ㸱ᶝ兇?伡ᾮßᅳ⨹Պ⼁⩢Ὑ㚨砿ᒛ᪪私ᔐ畇⌊ệ劝⣝ᖢ䦦䧂䛈ね⤢∴枤ⓤ媣ୠ⢼䁒ഒ቞ⅱؑ怣㋠摪缅伝◺㗫庋叕㪇ⶖ杭傎巀⻭撕佬ȧḋ穜ℐᘣⁱ䁡⧪à擐扷ೖሺ圬ᨳฮ湌㖙㒌㳇䉣壪䉱劥Ἥҳᴫ㸦ඈ䪃嚀丰䋣䏵䔋㢘尐筕眱ྜ⪽Ⴂ櫢䁦⍘㔷撂䜋㰁䁹哠⣤抈ਵ孀沒ࡠሺㅱ৓〴Ϡ⮢䱓ƃ嵊捬培池㡘嶂㢧ጮ㜲犽䟀㶻搃䤠桏䠬幁簥倰ሣ℃ᥒ⻸䂆⢂伢敌硆ਨ慵↾嗃ᗊధ⯆㋨ග敠⋩䱢侎ဦ瓕එ洧⦏ఓ䙊掐䀧栠ࣉ儊 吗⫠ᠽ⠉ᵡ棷ψ栿勰ᙖ䡂Ȕڍွ†熞瀠ᕦ嚊⣶Q场৖悳╕卶㖆溈ᚠӇ甮䤐㠮ㄇ仜捬᥂ᒁ⁁㉚稓怾ź෉䐥ư瓎䆱ഡᶍ㥴৵Ⲥ䱄䂲䥧暳慒絒⼛㊌⠄栭᪓䱠⇥ȑ࿔栾犡大Ṹ᫜䘨紐⾦䒁㱈瀓䑗狨␴⡣犞兕僰߁犋լἪⱊ⍢ῴ尼䟂炯拐ᩅᑺᚈ居瑖ⷿූ㶝䋡嬮⋆㉣帶◜捁㝅É✠焰䄿㗓䃕⥠判畖挩᭿匪ඣ㑄䗐缶䠲⦢┺䏓ఋ㰿櫼࿠䎄ᙤ㊋ὢۀ线䶹均␠ĉ素Õ▮䢥厭ℐ䦠Ⴄ䲌⦰瑞㲶仦㉫䜰繤ṅ叡ኩ卛挠थⱞΠሼ惀᤺䁓仙䲠ুᨭ僽⓽ፘ滀\\㸠٠ऐ㷊གྷ㡤၌ʬ拤⢷ᩡᔤ灮ጨ१䊉眾ऴب寧B㊧烏ⳬ䘣ȣ入澢箋୒㾏㈒ً癴ᵼ㧪⎻䧪䵡磤݀෫渝傍Ϙ㭓咗ᅘ矀᱂࠹楖ᰦ၆墴‿圭⦪捐涐⩃ඬ₻⧵ᯓ字ⷸ咄Ϸ佗唙䂉ਟἊ䣽ෑ塡燑ᩄ畗擽㘆憋༷█㋷㯡吐嗊㒋㹯殞㕖筬ൣỘ任楻漷㝀䇸嵐溍Ǡ媀徔占ᠠ恳⑁㎎ោ೒产箺嫉೭⻵ᐥᦚ徊獈橽㟠廁眾嗭䈡䃝␻᳢ᮚ⮺ి㜥ὡࠎᄬ̗椠爷䛿師䓺䣁Ⲻჼᙵ涺䤌当ᡉ㏁ഥ␺Ѩ丣嘔ਰ㺺Ọݖ濌ᣩ㖧⚋➘㕼怮嶋仛₝㮫⮃㧩㟰朕ⶄ❎硩ୡ᧾ৱᮈ疟址गࢺ✨ᙯ厜䵉彥⧗㸶㍔ቾ繪㼏毮翿ⷾ帑䞡ߢߌ焜箝ി␶Ṓ煼䗂㺋犝篟ᵔ桏㝹簾⧑࢑٬ం䳉䦿㰂⹷ⶆ㍖㔰⒂冂Ճ䧦ኴ㳩嬿䅀⠤ੳ❕䛳ᴈ૏್⴪翖噦寒ᄂ煮ℼṃ嚃䯌ᖂǰ὿ㅱ䆧ғ䓅Ɲ柫䂳ᴾㇺ΃䘥搘䱻琗ݘ䄵आ繱缞爣༆暟๙〬暍慊ᰠ༬條暾❳㪷┚₭ˑ㜡婥凴㡛笧⠮ㆠ㣠ဴ໫按㕸㞻媓ǀ㤡〵ᣅـ⼠㌤ᒻ⁤ⴹቱࡣ僀̢砨偧晹Ř搩㘣啻⩀䛣㙢ܻ┋❯㙄䓄ȉ庨窰ኇآ刣Ì璙ᘊ䆭ɫ䌇ᘩ㹳㡟᚝Å冨⸷䄝ก䅺䊲甘䀋ⅰٿ䘣㳚ᅳᛲႣ⸻摯ᘥ㉋㑉揼ذң⟘㦩品ԏ⎧㱙慐⇳Ẻ㱗ǡࣗ▚࣢ᆊ愨爻Ⅱ底፾ᱤ㷧弘㐏㥈搢籸䔰㽪㠯ြǀɠㄶᤔ㊠㙚䠻ໜ۬ᘡ〷䫅焃㦚㖷䈲柷ڹ⁂⁐ਐ❐ᒦ⁸啲ԓ咳⢭ᖾ⭫㨨恸垶ᵲワ䫵〵ණ櫤⪻瘮㎪᲼ᴎᖒⳊ࿳擧玀᱓䡒䅘ۀ洤羡䄹Հ㌦纯億ހ朤倽縴ダ唧ⶬ爔౺◧⹕䆗ౄϤ໨匒枍៊町帷㌭㢈崾硿ㇴ!☆ࠖ⟔䟒ኡ溡糳硍炁ῼ綤≠ᱱᬖ႑/僋ড䢔潘ゖⶨ᧲ㄴǖ䓠╦嬽堫䱠Ⰱㄶƪࣔ洷寞ᴷ∞墔徯総沮㰓⎰ˑ模㍒䢟やᣮ洠怵塈ು㦥⡧ᱱ䞚準僃瘐⎘埴ᢉѥ樚㆗჏畁⦁ᦔヘ䥠润䢩硦⌘⌦⚬ዜ⏂ᱶ缕ቺ⏛慾ɓ歚槪ྸᎅ搿₸䩰乷☽掻挠老怮㄂柎㤒⮥㶘扶ଫ幊㴝榖⸁ޡ⍻沩Ⳳ៊䲬ֹ᜗柎㌫懾䋪㞨惨ɹ嫳ᙬ㳴漹ᚫ懔࣢ᶆ沭㛐ᐜᠱӭ㑿䋌濎笯帣䲄Ԇᝒћ䱠ਆ₦禺㊋怶櫒ך兢撀烔䗜拕愰壑岥ʿ䌎̣䗆Hੰ擗溝⋸ጎᓓ◃㈳毹圬ᗀ㕽ỹࡣ㡙ⵊ潑ᘔ્䗷格⛖澦担⻶ᶨ礼㧻䆠෤剧৕ౠ婪ⴲᲖ䎌䈦㊋ኤ໩极洿㗿愥橮䅽ጀ壩䑉扒୰姩్㫄πᬡㆮ㓂ϊ䤺∅吺˧䦡潱恾λ⡔ᒬٗ⑨ᅔ㧇᭛↘హ爨䳉Ⅿ䎌洱搥Гଞ姀ᙛ⇘ᯩ枮Ᲊ挈ᓸ侪でᛡ㾫倷ͮⵁ࠴岼刮䡐╪㲺䏡䧁侷▮䌐Ⱂ៴ெ᢬ႉጯஹ䌟⩨⬭䯍䏉侁㡒㢔⌏ἁ牠䑠⮜ᖎ䂪碍剋櫹䣉婢⊳欱䝪瞢ో椙䉓穐揰䈉响皗叿Ǥ⮄ᐴ䶸လ⥧䑙硭䆨䋠煖⇃Ⴡ⮮癳㐄⻱ⴔ瑥சᗬ㺇ᒬ墦䖵抲兢̇䐀榩8䖧䔐䍇狗夊汊ต夺扅⫶㸖沔㦠巶㰠渿௖䢸⅋ᬲ᳤兦⠤䥸ʃࢥ䄧⏂⥄Ö淈ॾ橤唸简䥾啮卅௏䥹મ槹叕亘ዺಡ桭嶮偕ܐ悥扻㵱ᙜ#ତɠセԛ掣㓓姀┖ᒲ㏒撺⃴䆀ඡ⦫助棰Հԣ䠴_ʅ簡䝻ၟȘੲ洰Ɓ⨪みⓒ䐁⤪㑢䊮⟁㻜甆㤹◨㭡⟧ₙ▹╲⽆哋ᔓ坣紊䙧ᔢ匑ڷ㎃❞ᓳṾ㓀᩺ⅽ嚶૛⟔❊ॻɄ䝆⃬᣷圈䠅♡ম娪פᚠ᳂ዻ䭷ʭȬ⁞Ǆၪ眱⡚ᥕ✓䶴䲻᪠ళ樉䳪杻ݓ㖾澚摶ⴘᐭⲨ箧㽒㸥䳠僶⩜Ḃ㢋杤㙊ฉ䄃ᢇ㱋縶沬嘮㻭ຄぉ旙䖥旳᳡ᧇ䍓ƀ堰妥䯪殹堭柌ஓ画㤦噼唓܍䂂悾⹌堯ᓀ傻忁⦁ㅜ痺⡊ྸ㜞禵䋍㾮粺媞㦃獸熆夏厃勉煮娌㷘劎˘嬃㺅囡ᭂ㘀Һ擳€ɳⅡ哲䳳⮃┛磾㻺̳⍁埱✃㏿⥅灡Ă䦔☣䃸᪶䥀㱕㣈挆卑㝱Ɀ䃂╏Ꮕ絽拎毈⸘瓻㫽啃律≴笃哝㩫杷ዩ⟳侺䙺′䆻ଠ⋾村㟀䉻᪻枍☜噻䌊ᝥ㔞奺匆㔗恺㦥᫸▍㑷䚛瑊ૈ䠇㿒扝૾曥⩧竴关㜘㵊竩挌坅㩥亻焓㒘ᥙۧ㤉ᣂщ夠䑂䍛⺴ȭೌⅠ 䰅Ẫ竕⣻您址๬㔸嵰ᢾ囘畦͵剆䤭⊂⍹熹̂䚱䯸壹垞㑴導壩⧕徜䁿ᔣ甙Α䄣お愞㩆䭻彍䓪䶊䴫㲀䌒㨚磶㻚⡿⬛ᓃ㻛琰Ț㒤  "
   },
   "outputs": [
    {
     "data": {
      "application/vnd.jupyter.widget-view+json": {
       "model_id": "a4f0d24fd8ea4006ab83c9e9b8172151",
       "version_major": 2,
       "version_minor": 0
      },
      "text/plain": [
       "PersistWidget(data_values=[{'__id_column': '1', 'Date': 1352419200000, 'Region': 'Salt Lake', 'Place': 'Sunset…"
      ]
     },
     "execution_count": 31,
     "metadata": {},
     "output_type": "execute_result"
    }
   ],
   "source": [
    "select = alt.selection_interval(name=\"selector\", encodings=[\"x\"])\n",
    "\n",
    "chart = alt.Chart(df_task_2b, height=400, width=500).mark_bar().encode(\n",
    "    x=alt.X(\"utcmonth(Date):N\"),\n",
    "    y=\"count()\",\n",
    "    opacity=alt.condition(select, alt.value(1), alt.value(0.2))\n",
    ").add_params(select)\n",
    "\n",
    "# TODO add output dataframe df_task_3a\n",
    "PR.PersistChart(chart, data=df_task_2b)"
   ]
  },
  {
   "cell_type": "code",
   "execution_count": 33,
   "id": "0069d3f2-ecb8-4512-bf66-516671ab2827",
   "metadata": {},
   "outputs": [
    {
     "data": {
      "text/html": [
       "<div>\n",
       "<style scoped>\n",
       "    .dataframe tbody tr th:only-of-type {\n",
       "        vertical-align: middle;\n",
       "    }\n",
       "\n",
       "    .dataframe tbody tr th {\n",
       "        vertical-align: top;\n",
       "    }\n",
       "\n",
       "    .dataframe thead th {\n",
       "        text-align: right;\n",
       "    }\n",
       "</style>\n",
       "<table border=\"1\" class=\"dataframe\">\n",
       "  <thead>\n",
       "    <tr style=\"text-align: right;\">\n",
       "      <th></th>\n",
       "      <th>Avalanche Season</th>\n",
       "      <th>Date</th>\n",
       "      <th>Region</th>\n",
       "      <th>Place</th>\n",
       "      <th>Trigger</th>\n",
       "      <th>Weak Layer</th>\n",
       "      <th>Depth_inches</th>\n",
       "      <th>Width_inches</th>\n",
       "      <th>Vertical_inches</th>\n",
       "      <th>Aspect</th>\n",
       "      <th>Elevation_feet</th>\n",
       "      <th>Coordinates</th>\n",
       "      <th>Comments 1</th>\n",
       "    </tr>\n",
       "  </thead>\n",
       "  <tbody>\n",
       "    <tr>\n",
       "      <th>0</th>\n",
       "      <td>Start</td>\n",
       "      <td>2012-11-09</td>\n",
       "      <td>Salt Lake</td>\n",
       "      <td>Sunset Peak</td>\n",
       "      <td>Snowboarder</td>\n",
       "      <td>New Snow/Old Snow Interface</td>\n",
       "      <td>14</td>\n",
       "      <td>960</td>\n",
       "      <td>360</td>\n",
       "      <td>North</td>\n",
       "      <td>10400</td>\n",
       "      <td>40.577977000000, -111.595817000000</td>\n",
       "      <td>While it was a small avalanche that was I caug...</td>\n",
       "    </tr>\n",
       "    <tr>\n",
       "      <th>1</th>\n",
       "      <td>Start</td>\n",
       "      <td>2012-11-11</td>\n",
       "      <td>Salt Lake</td>\n",
       "      <td>Patsy Marly</td>\n",
       "      <td>Skier</td>\n",
       "      <td>New Snow/Old Snow Interface</td>\n",
       "      <td>30</td>\n",
       "      <td>1200</td>\n",
       "      <td>1200</td>\n",
       "      <td>North</td>\n",
       "      <td>9700</td>\n",
       "      <td>40.592619000000, -111.616099000000</td>\n",
       "      <td>A North facing aspect with an exposed ridge in...</td>\n",
       "    </tr>\n",
       "    <tr>\n",
       "      <th>2</th>\n",
       "      <td>Start</td>\n",
       "      <td>2012-11-11</td>\n",
       "      <td>Salt Lake</td>\n",
       "      <td>Two Dogs</td>\n",
       "      <td>Skier</td>\n",
       "      <td>Facets</td>\n",
       "      <td>36</td>\n",
       "      <td>840</td>\n",
       "      <td>5400</td>\n",
       "      <td>North</td>\n",
       "      <td>10200</td>\n",
       "      <td>40.599291000000, -111.642315000000</td>\n",
       "      <td>Remotely triggered all the new storm snow (abo...</td>\n",
       "    </tr>\n",
       "    <tr>\n",
       "      <th>3</th>\n",
       "      <td>Start</td>\n",
       "      <td>2012-11-11</td>\n",
       "      <td>Salt Lake</td>\n",
       "      <td>Emma Ridges</td>\n",
       "      <td>Skier</td>\n",
       "      <td>New Snow</td>\n",
       "      <td>18</td>\n",
       "      <td>600</td>\n",
       "      <td>6000</td>\n",
       "      <td>Southeast</td>\n",
       "      <td>10200</td>\n",
       "      <td>40.598313000000, -111.628304000000</td>\n",
       "      <td>Impressive fast powder cloud ran in front of t...</td>\n",
       "    </tr>\n",
       "    <tr>\n",
       "      <th>4</th>\n",
       "      <td>Start</td>\n",
       "      <td>2012-11-11</td>\n",
       "      <td>Salt Lake</td>\n",
       "      <td>Sunset Peak</td>\n",
       "      <td>Skier</td>\n",
       "      <td>Facets</td>\n",
       "      <td>42</td>\n",
       "      <td>18000</td>\n",
       "      <td>9600</td>\n",
       "      <td>North</td>\n",
       "      <td>10400</td>\n",
       "      <td>40.578590000000, -111.595087000000</td>\n",
       "      <td>Three of us toured from Brighton to low saddle...</td>\n",
       "    </tr>\n",
       "  </tbody>\n",
       "</table>\n",
       "</div>"
      ],
      "text/plain": [
       "  Avalanche Season       Date     Region        Place      Trigger  \\\n",
       "0            Start 2012-11-09  Salt Lake  Sunset Peak  Snowboarder   \n",
       "1            Start 2012-11-11  Salt Lake  Patsy Marly        Skier   \n",
       "2            Start 2012-11-11  Salt Lake     Two Dogs        Skier   \n",
       "3            Start 2012-11-11  Salt Lake  Emma Ridges        Skier   \n",
       "4            Start 2012-11-11  Salt Lake  Sunset Peak        Skier   \n",
       "\n",
       "                    Weak Layer  Depth_inches  Width_inches  Vertical_inches  \\\n",
       "0  New Snow/Old Snow Interface            14           960              360   \n",
       "1  New Snow/Old Snow Interface            30          1200             1200   \n",
       "2                       Facets            36           840             5400   \n",
       "3                     New Snow            18           600             6000   \n",
       "4                       Facets            42         18000             9600   \n",
       "\n",
       "      Aspect  Elevation_feet                         Coordinates  \\\n",
       "0      North           10400  40.577977000000, -111.595817000000   \n",
       "1      North            9700  40.592619000000, -111.616099000000   \n",
       "2      North           10200  40.599291000000, -111.642315000000   \n",
       "3  Southeast           10200  40.598313000000, -111.628304000000   \n",
       "4      North           10400  40.578590000000, -111.595087000000   \n",
       "\n",
       "                                          Comments 1  \n",
       "0  While it was a small avalanche that was I caug...  \n",
       "1  A North facing aspect with an exposed ridge in...  \n",
       "2  Remotely triggered all the new storm snow (abo...  \n",
       "3  Impressive fast powder cloud ran in front of t...  \n",
       "4  Three of us toured from Brighton to low saddle...  "
      ]
     },
     "execution_count": 33,
     "metadata": {},
     "output_type": "execute_result"
    }
   ],
   "source": [
    "df_task_3a = persist_df_2\n",
    "df_task_3a.head()"
   ]
  },
  {
   "cell_type": "markdown",
   "id": "36e82a42-5f2f-44e1-b9a5-2e2d403b2ff3",
   "metadata": {},
   "source": [
    "# **Task 3b: Analyzing Top Avalanche Trigger by Season**"
   ]
  },
  {
   "cell_type": "markdown",
   "id": "af40bad3-436e-426c-a02f-f205597e90b5",
   "metadata": {},
   "source": [
    "Now we'll analyze which trigger is most prevalent for avalanches in each season phase (Start, Middle, End) using the `Avalanche Season` category created in Task 3a."
   ]
  },
  {
   "cell_type": "markdown",
   "id": "72455a32-623b-4b87-87d6-ca9c8ebf19e7",
   "metadata": {},
   "source": [
    "TODO: update if we change the vis\n",
    "\n",
    "#### **Instructions**\n",
    "1. **Context:**\n",
    "    - We have two linked interactive bar charts: one for 'Avalanche Season' and another for 'Trigger'.\n",
    "    - You can select a category to highlight using the **legend** for `Avalanche Season` bar chart. The `Trigger` bar chart will dynamically update in response to your selections.\n",
    "2. **Analyze Trigger Data:**\n",
    "    - Observe the filtered `Trigger` bar chart to identify the top trigger for the selected season phase.\n",
    "    - You can hover on the bars to get the exact frequency.\n",
    "3. **Document Findings:**\n",
    "    - Note down the most common trigger for each season phase based on your interactive analysis in a new markdown cell."
   ]
  },
  {
   "cell_type": "code",
   "execution_count": 34,
   "id": "e9eaff25-74aa-4e43-abbb-19bdfef91064",
   "metadata": {
    "__GENERATED_DATAFRAMES__": "ᯡࠣ䅬Ԁ朤壠ᜣ琢〹夣゠⹰〮⁁䁻қ䚾ኊ㇠നСࠩ瀮晼Ƭ穅5愠៤⠠ ",
    "__has_persist_output": true,
    "trrack_graph": "ᯡ࠽䈌ʀ匦㢠⹰૫ǸƄ惬ʐׁ⺠شڀΠㆮȢᢳਣ哲㺠晚⠰浬Ṅ倡ᙰ䡡僢旨ⱬ䊭ᵦ曍泘簔ठ͢&毾䙞䒠┨ࠠ⻚₀ǘ憡屢ƚ眕+झ⠠乮␠㚨1䘰ʁነù咱ɈⱬᎢ䤹摯兣⣳吢乃㵆ᙓ䘲℠̉瘔ๆ␲ổၗ䖌性䦡უ⑄㼔᡾Զᬾ䏰˸惍㳢ၾᡄ᪊扁̌⌧⩡璶㤏ῧ㈹⠥稈ྷ״⬤㬆温㌫᫐ʘ<俎漸㔮渂Ɇ㦌筏આ⁠ㄤ䞠ⓐ壑䁣؈幌⣅焨⑩ֶ冪䊪ත灨䩍䬐籄暬૲㱮橾䄶䔂Ҳ⊳═ಶ⎳搪⊩♰嗡䢋䝩䘂䓒⪷╒ا᫢琈拉⹵夬挸ሠƴ☿䷅ ҁໟ琥ⱚ缿悡悐ເб̬し揈殘㡊殃咡圼ৎ嵜Ἷ䠳ⵢ墾ཡ憒䱏d冂ቄ㦣؃ȾԢ䈈ҍ௤熀愆ລ䓊㴻悒㡼䤦ට您剙ե倸☫ۦ偘渿Bࢺᛖ姶疚组⁓憂ᰤ救䷡秂櫱ⴣ䷖愣氮⎽暓东䯟Ζᴔ㠸䌠ťᱮ୻㪠倨ᮒ!⺀㨘畼Ẵ珽甘䁥喻昦䅁⠢Θ⒡คᠢᛧ㹾ɠĔቩ爈孪竞⽶儚㎷簞地ܡᡍ竔灕恡䡶ڢ硂⎄ⰲሀ㢠䍂䢮᪴ᘯǂ㓹ॐჷ䅠牟䂠ᑄȞभ䞨䋧١㡋ҩ妦檢禡楚ᝰᢠ緶砶ှ搈! 㵿瀀缰Ņ涉ᅪ撩Ç䐳䪐楴៤印ᑅ烐௢♏濃࣯⸉Ⱘ෇㣾ᬃ碻ᖂ炰Ĥḯᩅ࣯䰲䁮ɀ䱈ஐ⊰ധ೻Դ抩߅Ⓩ̢ᵣᬉ䳢ᴇ怰但ᓳ䪐瑫ᐇⳡ ℚခ⽘؀≿䩼封劌ṲǞ⿨㖼ᦪ䡄ᒣᅋ㲣Ⲵ㶊傻உ击ᜳ⤊ᡆॷり෣⒍ඃԠ䳢ኂ䳳ᡡ䳓ణ䴓Ⳡᑠ᫶൘҅ಃ᲋尖檎䲐⚍䴐⺏䲊ᆯ⥼ۄ䏕Ề㕚䧌槭◎䰍♽䮽⯇函⦈䋕⿋瀢ၮ塠ध䂐ਤ䓐ģâఢ⁈㨧䇰ᒏന᯳䞉彨⧤⛤Ⱓ⦄ᐹ⣌摅㭋䢅⩭搵թ汉㞆墚Ὧ淰ษैंņ㓫᥇㖭ᵽᷧ切⌈㨏㧮層ᗥ巵䠫嶀∌㷎⨂ďᇓ㷍䛠紾㐊╼㰉縒亽牠ص儜䁴௼恡ɨвጀ႔珺䀫ጰ偍⁺ᕷ妠䁯廊绨䤮檇⢢Ṱ㢢僡䮦崻⶝凪㎮幺౯䧨൯䉸⯯㚦⫪㊊术䗤䕏ㇵᝊ㲅㼖㘖৊硡๲慵亷᱅Ҩ槅Ӏ↹ᢂ䧅̩ᐲ㔁样؀㰯↠哆昊罇ⰻ᱐潍㈵ぱ㗒䂌橓ヰ淖䕽㕃䌥ᅊ盧㤞᳡ԑᵇ㦥᫆䆠⃔採瓦ჸ䌋䑋䂟ṕ瀢㉆ኀ庴楡哸˱ᐥ儣ᡠ俱⨩&⵬惠濵䚴桁嫲ᯔ᭗๲᝛Ґཬ㚎⪭纣ൢңず@媆⑲䍆墢惜ঠ䢩ᤐੁ灅Š₪ూ⚆拯⇷⇕睻㘃ᅓጫ椽ᯱᵓ圚ễ氽ٌ綤䇰瀩⊮⋐严䅶斦嘻Ǎ㬿㇕䖒疦灻☁ᬣ扜Ꮻᢖ槑㛢碼㣺ᷘቅ௕㑗㔾はા濼塬Հ塊ϐ㪧ᮐ䔖却榮崑毼iᵐ培殡⢇㪲᪌砐崏乐拼㑌☞䍅㪯㭤湩❡獮笁⥴᡼⥆叵໅㊃❷Ɑ奠儾溵恘欰灆Ãቁ滆Ȁध烜敾⌢䁹䒂⠦㍘ࡣ㪡笰爕ᾉÌ㤭Ⲫݸ⨱姴ᗑ㑖晍ఒ‼ޞ瘹慬䏢彿䌤㉑瀨䞱㢬䢴Ʉ繥Ÿ攓䓫䉦ֱ獛攨埭ࣿ俀⤴哟⫉硚焨㽳ࡸᦺׇჩᓁ墄㈨杢䣱䊺࿳冼䪆ᄆ倪Ꮐ䢣䡌ঠ䓵㳖傣偁⃱┧‴斨牄剌扸ሦ˟䠚႟筀権Ðಆ伫兰Ϲ࠼ⱅ䣧倪̃ḣᤑ攠斄塓䦙᫡掷ỻᲞ媎ᱷ屝捖⼾ўៀ繇ⴢ⨓ɫ灨⯗Ɨ㝸ԃਙឤॆƓ奅׊⛞঳瓞犉ȇঘ⺼⩸厼ᓇ䩥зŊ܃ᑲଃ䤣ḋŽ᷺㼶寀㞔䢏✔ᜭ䆴ợ၄⧕恰ࢸܩ̦⬡恻僀哭‬ච淀ㅤ㝀⦱殌缔敞剞⇍ⶇ晔❊糆䌅澵柭ᐒⵄӠ嗩☑ͪЮ䯈Ƶᦂ䛒筍灮⼅幸֜◓⯛䇷㺴⡖瓒䄣㋾ą⹼䣜厢罤 ᡶ倮ݳᇕ惮Ȥኡⶒ䂄戄呴䝺ᣞ㜠ࠢ暀ᮍ㉎˂㸪♬འ⫕䢙ⶥ䈿ᛨ榃ー暙渱֜ᕤ὘⎁≧憟擪䣓棾悶䌳᜕嶬᫉ⵌ❴汼珸匇媫䅕圴㜎ᦋ粌稜㛧⽍犩奰㫖䊖埪畮∌懜぀ᇡ㎟墥㢖ᛤ癳啛⹱彼㇓啣❄瓹㛔慭曊乓ዹ䶚ㅺᇵ硣Ạ≀憄㢬卼Ӭ቟秌ໂ紺॒ё㢠甜−᪝䴽䎾㼃⪓基㕎⺊῍昝ਥ⺐Ḭ俇⁐㜧叭ሗ₳⃬ˁ䨧∈䞬䠱ᄉ㤦如⊒愯猒വ娼䐬Ὃ៼䖎⚪⃨楑Ⲧⴕךᅈ䠿槐剶䘡䑵尳䄚ၥ刭ࡆԦᢒ޹帧婙X⌫䬧ቃㄋᢾ啋⺭櫽ᘃ巗埚߉穛ݤ棼堈紺恮⬙ㆯᚃ䫦厺掇໤ᜡ唑廐᭓⧼୹燢㖍ኖ橄绶Ἤ䵚珔ྐ䷔䕕㊵夻ŷ櫚ⲛ䄪⨘ᱵ0侲操ઞڵ৒刦篊䎱⯄䗢含ᛩ䫌䝣ሼ浄乚㥔檈ⅳ晫ᔤ瘒㭔枥ᢆ䚡枆Ϩ瓟⸷ḭ瓓ᗇ纷䦜牒ᤄW伱آ泠҃罶悀③䒂ᵡɆ宂ు⁒ጥ楍ם䤽㋥ః妝፼玏嚈ᾭ搸̌⁸䕼⧓ᬨ㽗忰⊀ᦎ挺波⛺䂍壋圥瞌ᐏ⮏溶楑ϲ₧棣߷ᱥ尿窽㯉棔൨㬷䘒㙃ヹኾ卅৙䘼౐䎠ゲΡ惱ⷖ唕ႚ扐ƨ恘ஸ㌦⌖灱堦ⵡ癿⒚婣䋜⯅㦧咒䦎溭ᕵăѡㆫྛ嵴㜚左ŗ䠞淥ș娻ࢼ幛⠩⢙磘紋⅃磽≆ᇭ䷫䭯䒠琕Ⓐઁ恻ଓ巫䇅䎍䷿纸௬煉ᴆܡ㸁䕺ဧ㿗㥝⩺㕑暫ᴓ☠璐ᔧ㢃䈞䠮羪Ḑ䥺溷䘷ᔇ䅒嘢䀦摈ໜ㨣ㄩ↠⥠㈠矅㳘ঠ㎕ឥ嶧⊜䣕൑攍暒ᰁ䵝秎⃔垓峂ǰ༜稢埈惶松⯷偃㴋⋾呔∩[溠䵰䈰ᕋ永ᄭ垤䏤᥁朔か㶄ὁᦧ㖾ӓ摢崗͞㶀ᖆW储池湾傠ၲ䂼洦稥థŪຨ刡卄∕扐⢦ไ⁰௖䁑4㶆滚夔ⶠ㰳櫖┐涪㷣汌⨗䫂嘚ݒ犠⾫淬◊㙕⭇泖צ䜲᪺灼⢌ㅔ৐ᴗ樮А䎱粢⪞増䧛哂☞尗⁺Ჿ恴᠖ோ䂫⨞೵㒃᷃〞㣴c㦑Ⓔာᚺ㔚᎞暷⁬Ϧᩮ亵㿂ʚᵑ吨ಙ㑐ᷱဢ౞甐ര劄䑓9⬸䈤昸↶沑⿇倫⵶⊜ᶴຸⰦ䖎ᇂᲥ硆仡磑仂ⱽ洜㿄偊瀼᭠✨灋䊙ȁ沆×䉪Ҏᛖ䭀⎯⬀息怼冼ḩ眨ぇ䏁ᐁ㡯碀⌬ᦾ䂂疦ᔓ椬ନඵ䎩Ⱖ㇖ゼ䡄ጸ㊤岍琢፸沤浖x౐樣晌ⅶ⇾⏂ҝѴᵾ儨梃ᑔᓾ劁桬䏻槾䨕ବ絲႑⦃䬢头᷊岫檡⌭╆丕᫖絭䅱䮁嫘䲜ℌ䝷呼䳢⦞Ґ窽᳋䧑㾇㒟Ḁ䗱眅哕᳔昊㺒ಌ㓌༺ 剤屝Ᏺ⽩䲃匆ᡑ暔ⲋḓ⏑亗咦拃ᗑ֕ⱨz汬咡䙍疂࣪㜮ఴゐ೩♭䐡璐ೠ၄㱣Ϣ欑ㇵょ挂浚➖炜甘ហ嗠㉬⁂๠疳㉩峉䦠⹯䑏ᐙἸ樠䞶懈ࣩứ㉪țᇩ⇪ဨ牦ٙ䅬ኚ冬Ꮎồቮᘔ䓑䌒ධ౱䭩偔捓䳞⃤דٓፐ౐⦵مࡰǠ⠠傕ᐤנⅭᘪ፡ጁཔ把ುᵌ屫硢ስ᭦հᢶ䉶䚤摦劒ሖ浮線粪Έ繓ᑮ糍⿞ᮁ呱⎯歆᝱婢不᭎ᓮ㩣縝ⴞЪ䝒ɀᄉὩ翖㐬汑íಐϊ✞㩎姄㉃ⴹୖڌ䢈剼湎穴Ѕ榡䖓ࣚǰ೜撦®4ṁ劀儰䈨ಘĲ伧㳾䧚㨭泃Ȯ⋡ྭ䖴甽旡㧶◒桨৹䆢粤⊏፸篨〳㑱ങ沣㺔Ⴊ擡儢ʥ猌嶙樥平䬿ᬅ៨祧牯䇙ᑲ͖玼௶猭䙼̦氱ᬭṽ䋎䯩妅ᴢᄙცᐧ佊汦¨稢伤旇ᇪ⼔य㳇ፙ晫皂氧ኢ◮犈珘๙灎俄ఎ杒尣к卾擞⬱⾸䳷桱㵫綡判斥႕᪁縐坱ӃᾼᶍḘ剉㒙ఏ懆ຫ㪐䭳⪄࣬㆜扸怉䃫ಞ猃᧥瓭璒㌘嗑֯ᵼΖ囑緉嵹䵀䚹盂偂䫻૜奌䐽§፤䑔犲₯ൠ憢䀣ই䏖櫪ໍ㊸ᶎ⍉䗄琽槡姲●̞䄰嗄敥㉱ذ峈偞⪸䁭粉ᕫ⸘Ϫ糔予恦ֵ粌፽爪婭拍ᖅᩊ庾埶䕩፬ᖪ牬▅䎈⊵጖硘汸↹橳‴妞呙⦰䘱烈䪔䪂∼攁Ӻ䌲ื牨䮅⯮缣䪩劰杊㹸⩨༙⽈疒⋀坒ᕱ䙂緒᳞๒綶妕᳚ৈ憙咭ᯞ፫ι卄憉梒婱੏扥暯瑦檝⥥淏䀳櫠ᩅϏॳ୽᠊䆑౹⒣၍䩭ʘ墕繏䄹檻䤕ᖭ兹㨈噥寋笧歿र犥⪿ገm杒፴⎼愰∡⼻࢘ޠ疒ᢾ䪾ᦎҋ㲔ⱇ⾎ศ◓岘‑旃㼾䇜ᑐㄑ灍疅兠䳣斲娸B⇤㹦尓ҩএ侔媷嬠ᘈ⮏Ƿ勍⸏⮙᧔Ⳉ埰纥ሜบ㝃绒⯌ቍ㌗୴墸旒瑦⢥ĤⳀ疓♒ヅ䄖⑦䷍ϛ氱媋ᙾ᪒嚠⊎㍱⬱ۭ狎厂⌵ᗵ娓࣎ᦾ滉㟒ඃ尒እ㇍㭩∡沌槌和欐商ɉ䏕厣哱䠭ᦺ䷺Ꮍᠥㄏ厮咆ㅊ焂㰎塽⭓ॺ̹敽ढ᮸〣殙⺇䙉筘ʠ䣢ᖩƩ䜢ᒣ䂥ↁ崑⬠䗂᯾Ჭ刎籫㉌妭旀㲾䃟壩⾷㚢淐ਸآĞ楠㕠瀻ツ獌㌰款ᑍ䘠㄃䄲㤂䩼㦸㜺䕶珚朵巨熋築ኙ匓୼䠣沀Ḥ᚝㖓܁槒兙ᡸସ琦偆ヱ࿎峢残䄇啍䘊恑簅囝在彺密涝஋巖٤⮠㮋䱂஦姦ሹ㮑哗敕侎慵⎐庉ᷠ⵾ᴺᖞ㗊⎻݃己䣄Ꮜ⢔䞮締Ꮚ⥼Գ犖㾱⧓庄࣭玠䚃ᄕ䆏㏌㭫卮㶺唡期瀉㦹煖䨍ᔳ圦枔層㔉矌䦚㐇ἰ㳨⤚䩳Ȇ㤺☻র澠ᐧᐮᥞ䋶㼉噫挧役捉⍸窞ᅝ㛪捲琱䞬ᠦ⓪ᅲ䀙಻䃒㇀朢㲼ᑔᇸ⥙䒺挅r㞹㱽ጡ្㱫粻ዱ❢㱩洗өӬ῭⎼東㶯ᐈ㓏஋猚രᰢㅟ櫳љ⛲♘垶ⶰᰥ䘲ᇅ䦸抺⯂囌㰝Ἷ夑䈜㈣䂼偋䞈ᆣࡉ⒁䔆☒䉣㔆劰嫞ᵭ緙ܭሂ⾎碯嬆坣ㆺⵤ服ᨽ妨垆欲Ⓗ睭樸傽⏎島㧸塅䦬⯈㟫圕怗杧ઃ弻痏笐硞㻴㤩優咄唸粡≖ǂҸ⢤␾ᮒ㡨縢ᴬᩢ札塼ᦞ䙧嘑曯ᥦ᫇巰哓栨坑݁ॿ૫㒅㎬ዊ儢嚵㗜ᩆ祲䉄ϻㅿ直囀ћ㥽༂矧㋋䣈ᠲᒬừጩ溗᜗ᑃ㹺ṣ҉ᜳ㩪ᕆဧಂ䪇恉嬴Y↣ࢴ㇑䒂Ĥ⼁⁯䔣稴化ៀ歫璿勶⚩㮳晼ᔚĺ㓉䌶㹤⁦උ຺ᄈ檚㱱㹕ᑧ宽㡓ᨹഔ䱯棕ڮᆓۣ㩃ⶩ㩠㒖ᴓ礊ሙ专劽㙋❡㬑ⲓ⹋ᴋ柣峥ň枒拨眽埋⧘䝃扂焵⪼ೖ✦㻋洿ǒ卒圔倢䛓ৠ稦䌝㚔㝹ᮐ㙩䭱幝囬妗⁝柀䯾⪺➏㜦焴糞⮹⌛漮〳㕵㟝絞弐؆ⲇ߻ᨓ癉䦇矽⫻ᘨ⇫副滴⛉᱾叽ங睑个㳯綏橉䜦ȩけ䆘௹㈥ʲႈͺ㕽仿㛈䥋䇻⑐砅㫛⌠伇俎撱⚿瑓狥㘰㡘㭾⌰焋ᑘ儙≽㶊㝽償媐繓籜䴏垘墻咔䝰㝳㻑䉛㳲㞳嫥叏秨㚦炻栬ᴁ睘稹㓻ݦ㠌樹撥䘻矟䖸㑬ࣞ⃈䙹㷅↯⫹ⵀ੢ሶ䘧壻戋び㋬庭㾫㮯ⅶ䩰烟ᓴ⹻₣㣘◸ᚪ沷炉戅棢竨㟝擧澂煨濚☞瘞秭啧彷瑦挝Øଈ泯㚙傡ጠ瀦߰∢倭ジڰफشぉஸ炋擯䋵㞇Ⱑ弃倏㪇⟸偻仿㶇෿ሩ⽀狊䱤紪Ê硣᫟嫦糽媧䂐೬橺疧稼ޙ縁櫕滜џۺ᭓㸹⧏⺳呲帿䞂弓堊ම凨潶稡ᓤ总ר䰣Ǣ䫻ᑱš拨〭ॶ擀㡣Ь恎炅昪㛭潬嚭徬侃漡Ⴌ䱡䦙Ⅹ䉶橸倡Ḹୠ䜕ᐎ✑࿠አ匀㿑爿㲟࠘傩紿ĵ䟥ḳ瘇呱稏ᬚ挻ᨷ狩瞂㰷璙畀⬭ジ䣧૪䙷咎ⓣ牼尒凾ল沮⃐昛勢Ϥ⾏⼗⇬緤ᾏ⢷忞䐊⹭㧵㍺珦旪߯癐గ✊石䱋కم砍冼媎༸㭏䢱珅暵痕宺揂栍᳓喺Ꮪ枫睡ઔ挨㖖㢟ړ嵼游禽Ꮌ㿶世ㄻ橝ㆍ来悙圞柋ˣ᝚㚊稑憹଑己怠㥹ᒚɀ䨖᰹別Z碕傻枨⪁ખ棷⍁疍撌䯾䵘䲁涢吽䥔ൿ㎸睧埯㐨悻爼۔䐻尉┷㺳䰄˜┢瘔〦䄄№䟀㗞ᲀ䨬悀⫐硨༯␕कⰿ穁㓿别䐚㥀㡡ᄩ※怰ʰॸ۶寭㉕焸šṀ磢ᖆ嗆ṡ礃樿㹝樒䟤佌緩瞯孤皚ゃΐ狡䃩⃟ᛄ盖⿨⽧⸚㝣屾檪☉疾๬ᦕ拣⫝̸㍑ῥ⽽ᣎ㐟䜆ゥ嘈ᇛ縲烑拗㛥↳Ыᡛ攴叺ᓀ༐⠯䠺⁒㤽Å㬰絵漶Æ槐೛巾毘࠱叒ᙺ㪸撠㑡⮠⡛q䃳հ⿼憠㐶༶䆤䂴࿎ὴ粡祢⁆䊴ඈ⁜皥ૃᎷ⇊⤔ᯀ罢∪ቻ杽求㐓圞撙䰈ᖺἉ⯏ࡇ៩✲Ͷأ䕒珅ᨬ䢉夢⬴⃸Ǌ曠䶜吪灑彾ɻ璀ち伛е῅嬗㍞⁀潝灰ჱ㾄ᖽ兿劊㘙㰱徯䅻箁桥೜⭰ῡ椿紹极䏲禸抣䝎繩∈ڟㅘᲒᤳ㍮䕉昉ਞ塥ဃ埝ำ੽⌄ݙ碮翨䣷絃㈷ᄱ㮹䗬x㊹ნ濏⬼䤭h溌↠冀ᬂ⋺慄䰶ñ簅⑶⼡篁䧶宓㢴痠㸶̸宇㮯廈嫟˔㩃㉰ၷㄐ縖໅ᅀ篳ะ夡抹μፒⴤ篶汝⣢Ɑ狴㄁嵧㊊㢁刑䌺ὐ簉ῇ࡙絩ς㐫峞㤦⼯敝ӣӔዀ壣横䘳℉䊔ఈ㽡㞦䬈ㄯᑦᄬഀ淌⍴௭ց㰺狁寺て⇧灾绰䝿䷆ぢ紇ヺჹ嶉ਤᣑ渻夋旜↌䙄ᤠ億粳⭰瞉カ㞨ݎ⊀儡潔泯䯋䋜㹴攫㯯⍪䏴牥壦盹巩࠻磋䆺Ȁգ砮่捖泎曀ଐ缣⫆㒞⨶䚂ܸ㛂䜭婀梠䐽೘─† "
   },
   "outputs": [
    {
     "data": {
      "application/vnd.jupyter.widget-view+json": {
       "model_id": "3930ec1ba1d94c0d9cdc5922da3d7aaa",
       "version_major": 2,
       "version_minor": 0
      },
      "text/plain": [
       "PersistWidget(data_values=[{'__id_column': '1', 'Avalanche Season': 'Start', 'Date': 1352419200000, 'Region': …"
      ]
     },
     "execution_count": 34,
     "metadata": {},
     "output_type": "execute_result"
    }
   ],
   "source": [
    "# TODO Change this so that it’s only one stacked bar chart showing the triggers with the season categories stacked\n",
    "# clicking the legend (which shows the season) filters it to the selected categories, so you can read the absolute value easily\n",
    "\n",
    "selection = alt.selection_point(name=\"selector\", fields=[\"Avalanche Season\"], bind=\"legend\")\n",
    "base = alt.Chart(df_task_3a)\n",
    "\n",
    "seasons = base.mark_bar().encode(\n",
    "    x=alt.X(\"Avalanche Season:N\").sort([\"Start\", \"Middle\", \"End\"]),\n",
    "    y=\"count()\",\n",
    "    opacity=alt.condition(selection, alt.value(1), alt.value(0.3)),\n",
    "    color=\"Avalanche Season:N\"\n",
    ").add_params(\n",
    "    selection\n",
    ")\n",
    "\n",
    "trigger = base.mark_bar().encode(\n",
    "    x=\"Trigger:N\",\n",
    "    y=\"count()\",\n",
    "    color=\"Trigger:N\",\n",
    "    tooltip=\"count()\"\n",
    ").transform_filter(\n",
    "    selection\n",
    ")\n",
    "\n",
    "chart = seasons | trigger\n",
    "\n",
    "chart = chart.resolve_scale(\n",
    "    color=\"independent\"\n",
    ")\n",
    "\n",
    "PR.PersistChart(chart)"
   ]
  },
  {
   "cell_type": "markdown",
   "id": "00e87acd-3759-49eb-9e43-d7793672297c",
   "metadata": {},
   "source": [
    "**Task 3b Notes:**\n",
    "\n",
    "Write your answer here"
   ]
  }
 ],
 "metadata": {
  "__CATEGORIES_META__": "{\"categories\":{\"Avlanche Season Phase\":{\"name\":\"Avlanche Season Phase\",\"options\":{\"_None\":{\"name\":\"None\"},\"Start\":{\"name\":\"Start\"},\"Middle\":{\"name\":\"Middle\"},\"End\":{\"name\":\"End\"}}}},\"activeCategoryName\":\"Avlanche Season Phase\"}",
  "__persist_keys_record": [
   "__GENERATED_DATAFRAMES__",
   "__persist_nb_uuid__",
   "trrack_graph",
   "show_aggregate_origin"
  ],
  "__persist_nb_uuid__": "feac2b66-44fc-433d-8123-6b81f7906535",
  "kernelspec": {
   "display_name": "Python 3 (ipykernel)",
   "language": "python",
   "name": "python3"
  },
  "language_info": {
   "codemirror_mode": {
    "name": "ipython",
    "version": 3
   },
   "file_extension": ".py",
   "mimetype": "text/x-python",
   "name": "python",
   "nbconvert_exporter": "python",
   "pygments_lexer": "ipython3",
   "version": "3.11.5"
  }
 },
 "nbformat": 4,
 "nbformat_minor": 5
}
