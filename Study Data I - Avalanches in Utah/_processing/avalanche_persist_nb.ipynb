{
 "cells": [
  {
   "cell_type": "markdown",
   "id": "522fcbb3-702c-4ea0-91d9-f3b0e71690fc",
   "metadata": {
    "__GENERATED_DATAFRAMES__": "{\"nodeDataframes\":{},\"graphDataframes\":null}",
    "show_aggregate_original": "false",
    "trrack_graph": "ᯡ࠽䈌ʀ匦㢠⹰àᦴ΀࣪ʐ怶䦠挠᱊ࠥ䁁䂖㚥煤晬փ⊪ĸ暂䙠঳ैkᑄᄈ妐ଷᓋ⃩䖻Ṯ溜Φ䐡傠Ǒ団Қ′䈤7ࡣᠠ湐戎Ⴆ寐爤䀥屨攠ʕ㥀ǔÚ䍃㏙䤥ࢂ┩勸惀Ēいཆ༠೥∁∀秸㲅䌠ⶬᛦ䙂ǃɡ殍戰泤ᒁ嬦怭㋉匥穃ᄠ彣჻⴦䉫ぢ睤䄁ⵐۻG䀡曑砑䂱竖ᄂ㜿Ꭽ˹ȩᚱ凁兘㑐Ṣ༩Ẻ䳥⑆憰棨忞⍧攈堽Ī僰὆揖䦲ᡊ⛓౱নఱ姼ᤦΧ您別൧儸晋Ǣ熘繀䉁硨K塊়ṹᜰ倳䪂ⵦ⚈ᒽ᪺ᆬ䀠 "
   },
   "source": [
    "# Data Analysis"
   ]
  },
  {
   "cell_type": "markdown",
   "id": "8ebadbe2-4497-401c-9220-017809e835de",
   "metadata": {
    "__GENERATED_DATAFRAMES__": "{\"nodeDataframes\":{},\"graphDataframes\":null}",
    "show_aggregate_original": "false",
    "trrack_graph": "ᯡ࠽䈌ʀ匦㢠⹰ૠବɐච䎍倶䊪ᠠ父嬡ᳺ෪ੲࠬ晴ᘦ㍲差Ⱗㅅ)㊤䈽ାƂ刴喋橖㎁混䩟ႠᨰV岸㈔␢⡠䀢焧匠෦భ戰௷㙠̸x䠊䀡᲼䠠洠⺾彡抄䀠㈉㶣㡶ᡈ\\䰩(懄燃㌂㰢ᒌ娾䀶挥㗦ࢢ烡ၕ⬱жㄢ៉䓐͸⮑ŝㄐ䁏你㋲既祸ၛᅀ㢆䰽⫠਀⻚粀幝ඨ࣓叾殪㙡ƨ◓ᰢ寘奇Ⴌ䦦糂礒৉ᱥ䩃༥ס扦᤭ԓ噻ҩᆠ剋࣡ସ䂡▥撰じ㸨䅃䢴മ䂁ᣌ㬫䈁碢➫怢崢悩欂䥑央Ⴧ掴≺䩬槔ဨ搠 "
   },
   "source": [
    "In this notebook you will work with the data for [avalanches in Utah](https://utahavalanchecenter.org/avalanches). The data was sourced from the [Utah Avalanche Center](https://utahavalanchecenter.org/).\n",
    "\n",
    "We will ask you to perform three basic data analysis tasks. Please follow the instructions and note your findings and/or any issues you face in markdown.\n",
    "\n",
    "<font color=\"steelblue\">In this notebook, you will be using the persIst extension to perform the tasks. The extension is already installed and enabled in this notebook environment. Please refer to the [tutorial notebook](abc.com) as needed to understand how to use the extension. To create a new interactive chart, you have to create the visualization using the [altair](https://altair-viz.github.io) visualization library. We have interactive charts created for the tasks which you can use directly instead.</font>\n",
    "\n",
    "You can add new code and markdown cells as required to complete the tasks."
   ]
  },
  {
   "cell_type": "code",
   "execution_count": null,
   "id": "9337796b-21e8-4c8c-bbbd-3076a775d03b",
   "metadata": {
    "trrack_graph": "ᯡ࠽䈌ʀ匦㢠⹰ಀଠ䰢ᧆƸѐୢ佌Ǒୠܬ䯈ৠᶠ㌱晓勦⤐㍕ተ¶⡨⇳㌄ᅆ⥦亱⍶癭ᷫ㬗琰͢&恫ٞ碠┨ࠠ⹀窀ǘ憡屢ƚ盤䀫ㄝ⠠乮␠㚠ᝯ⿀煒†ᤔ⢡ɋఴ>☤䀤㎳ᠹ搠噶ء㪯‫ㆢ報ѠҀ䡊嗐䈣ᢦ௲扸ǌ攤罎䢈‷柇檌Ⴡⰰ渁ၘ⍬ۊ怩瀠㩎屰幐ᑎ櫤᡹樏ぅᭀ䅥戬⠸繦᪥䦴⓪㇁声ಙ瘡ㄡᬊ৤簨䲡ʤ硶痘䂱䂲䖰漩ౠ罅䌀䥐ᱞ౥၈⩍སヸืϣ瀤伪%㰙Ń厎䝨壙᜸卉ӕᢵ冲䍀  "
   },
   "outputs": [],
   "source": [
    "import altair as alt # Load altair for charting\n",
    "\n",
    "import pandas as pd # Load pandas for data processing\n",
    "\n",
    "import persist_ext as PR # Import the extension"
   ]
  },
  {
   "cell_type": "markdown",
   "id": "dd81aecd-eebf-4624-b9e2-3a864c474c1d",
   "metadata": {
    "__GENERATED_DATAFRAMES__": "{\"nodeDataframes\":{},\"graphDataframes\":null}",
    "show_aggregate_original": "false",
    "trrack_graph": "ᯡ࠽䈌ʀ匦㢠⹰Ҁ̡䘠烠嘢త〫‥侴ᓬᛞ拐ৡ䚂ద抭婈ހڅྯ䌲⠠䭈⑁槑焳Ⴥ⩦仃㍶๽㰥Ҩǁ#㟢䌰橠ኤРᜰ͐üメ湁˛㾄ָ̠憴)挄䀦栢琭ٮ㍄ᨡ䌤ᾣㆢ䀣擠䢤㘦Sᥧᡠ戂怡ᠬÖᠻ㹈䐿ة׉妨⃓ࢱ̴㖠᫲徤ฏѤƜڣ回㸦ۡ৵ण䃔戊㘠传ϊ緯挡䘌污䕽庮粓㈨ɪⷠ搃猄ᦨ洘㳌ᤪ̪౦繶ሱ澂䘣⁑Ҝഭ炍孉ृÅ⭱䤾ᢠ䆋෭ኀ㠢Ү≱呺Ấ惑汮ᮯ戩䊏̠˙Ɂ⧽憳㈒ṉⅱਊ⥋⃆瑀⣨  "
   },
   "source": [
    "## Data Description\n",
    "\n",
    "The table below describes the different columns in the dataset. Each row in the dataset is a reported avalanche with the location, trigger, aspect of the slow. The data spans multiple years starting from 2004 upto 2023.\n",
    "\n",
    "| Column          | Description                                                      |\n",
    "|-----------------|------------------------------------------------------------------|\n",
    "| Date            | This is the date on which the instance of avalanche was recorded |\n",
    "| Region          | Region in Utah where the instance was recorded                   |\n",
    "| Place           | Exact place where the instance was recorded                      |\n",
    "| Trigger         | The cause of the avalanche                                       |\n",
    "| Weak Layer      | Layer of the snow that was weakest and likely the one to fail    |\n",
    "| Depth_inches    |                                                                  |\n",
    "| Width_inches    |                                                                  |\n",
    "| Vertical_inches |                                                                  |\n",
    "| Aspect          | Direction of the slope where the avalanche happened              |\n",
    "| Elevation_feet  |                                                                  |\n",
    "| Coordinates     | Approximate location of the avalanche                            |\n",
    "| Comments 1      | Comments added by the reporter                                   |"
   ]
  },
  {
   "cell_type": "code",
   "execution_count": null,
   "id": "8d0e426c-89a0-4813-8994-65ebba3f3a25",
   "metadata": {
    "trrack_graph": "ᯡ࠽䈌ʀ匦㢠⹰໠⬠Ⱓ〨悆æĬ˰ă‹䁮सҀ挩≴倳Ԛ樆⩍璁ࣣ捤䨠ዪन㪌糥擊桒ㆆ槻域℁兀†沨烦ᦰӁĠװ搬W౐ި₏湘အザᥠ¼湨N䣸持㉠Q఩Ⅴ㬸ᐠṬү⋦僃⣐案㲖ᘠ䣠ஃϒᎨ䂨悰㫛ҤݑԴ㇥堣Ⳋ䓡㺨摠៨摖泂ေ氰己ၘ⭬ǎ怩瀠㧎㸜〤㻍䐤己洄ⓖ₡⒅呰Ӕ㬹༾䗢䃣懳⢪⓴ᡒᒤ⏼傖أ礱瑹凩夌㈴䡮䢠挴⊂̥㘯ᙩ䌁Ѳʣ⇱ಆᖡ憐㱞dႨ抄䀪瘪䊇➮◦ᐤ䪸佱䥺╗⇇ᅠ  "
   },
   "outputs": [],
   "source": [
    "df = pd.read_csv('./avalanches_cleaned.csv')\n",
    "df.head()"
   ]
  },
  {
   "cell_type": "markdown",
   "id": "7cc10d2b-9b1e-46f4-9769-b9a0ac0c9e8f",
   "metadata": {
    "__GENERATED_DATAFRAMES__": "{\"nodeDataframes\":{},\"graphDataframes\":null}",
    "show_aggregate_original": "false",
    "trrack_graph": "ᯡ࠽䈌ʀ匦㢠⹰ૠ㌬Ā჻R〶䁃lyٹ⁓f䍐ۢ䧪㈉◔ฅޡ䨲⠠䬱䑁棒瀱Ⴭ⭱妻ݎẜʤ䐡傠ǖ悃РኤРᜰ結üメ浪巟㈠ᣠˬ⃪$熒‣㐡㬚͇⦲༿⸂໡壡‡犀⒂ଠᎭॣ䥡⊃㡹稠嬸ූᑤඦҡ哹䑀妨䤝͕䀺慽䈩瞤∡㼚ƶ嵖᯦悡檩ǣ᪀畖o#䖊⠃ܑ璌⃥⹾䞌᧒Т⺈ᆡ⇳㴑䒤㒌ŭ᯸丈◡戱⃰潅Ԧ秐噑๦磜疶溂⒀ᒪ扖⋦ူⶃ㧄మྡྷშ⨭རㅸ瘭ǅ爘䅐䘆砠址䑂㥨㈼㹯䕈䓵ᒹ憴婊③ᤠ "
   },
   "source": [
    "## Task 1: Cleaning the dataframe\n",
    "\n",
    "In the first task we will perform some basic data cleaning operations to get our dataset ready for further tasks."
   ]
  },
  {
   "cell_type": "markdown",
   "id": "0eec7bca-0c9c-4608-b987-7396eff240f4",
   "metadata": {
    "__GENERATED_DATAFRAMES__": "{\"nodeDataframes\":{},\"graphDataframes\":null}",
    "show_aggregate_original": "false",
    "trrack_graph": "ᯡ࠽䈌ʀ匦㢠⹰ૠ㬠氤〥䌸瀶䀹䁣๲ৠܦᔨҀᣴ䂼䋃‣ᓆ做►䀳ല⠠䭈⑁槑瀱ᝉ⍮冫㭮ẜʦ䒠ǁ#㕀挸晠ኤРᝣၐüムṁǟ㤉䀥䉸攠ʓ㥀ǔÚ⎃஥䤫䒄攭ᇸ惀Ēいᘦᖠೣ䗫⃂変ⱦ{ఽ咼∪⌤䋵汄ჹ䑈冣ᛠඉⵆܔ⍂Þ⍡歹ম悩溩Ǡ媁疖o#䖓瀃ʅ璌⁅溮杲◒Ъ⍁䔶户ࣉⓢ削౐䘰䵥䌂んḸئԢ灐糕൤㧶ⶬ䲱䅲ᗈ撯ౠ惍䈅䥐属ѣ၈⩍སヸ๗௧焤ᄸ䒰Ž䅰䔉燩壥༲刳樲⭮✈咰ᒄ  "
   },
   "source": [
    "### Task 1a: Removing columns not required for the analysis; and fixing column names.\n",
    "\n",
    "When we print the **df** dataframe we see that we have a column called **Comments 1**. It has text comments made for each recorded instance. For our current analysis we are not going to use this column. We will drop this column from the dataframe.\n",
    "\n",
    "We also have four columns: **;Aspect**, **;Region**, **;Trigger**, **;Weak_Layer**, with a `;` character in the column name. We should rename the columns to **Aspect**, **Region**, **Trigger**, **Weak Layer** respectively by removing the leading `;` character.\n",
    "\n",
    "<font color=\"steelblue\">PersIst extension gives you an interactive data table. You can perform rename & drop column operations directly in the header.</font>\n",
    "\n",
    "<font color=\"steelblue\">Once you have done the operations, you should create a new dataframe called **cols_fixed_df**</font>"
   ]
  },
  {
   "cell_type": "code",
   "execution_count": null,
   "id": "41896e5d-5c16-4d4c-9dd6-e37e32ba818c",
   "metadata": {
    "trrack_graph": "ᯡ࠽䈌ʀ匦㢠⹰恆ᐨ敠౶惔⠦ᢁ张Ⳉڃေ䁓Č嘗卍Ĭʑ⿜挡ⴔ䒲䀤奢Ω䦧ཁ॒䩕砻᫗㜋濨①ന;ݺᢦ刡ᑀ‡㢠ᦠ܃خ焨ᗻ筀䐠⳦ೀnᝄV䀷₈㊓᥃〬䑁฻ఴ>☤䃠Ǒ㠠Წ䘼啙ڣྰ〥壠汙≀๐␽⛬℥䱤䐺槌ö⪮ၿ㱂ါ灒෗桘䑖ю周ี匠槐ʘ<氎㼸ᄿ⮂ي眔㢓䶰′⥴´Ჹ⌯䗭␄⦤峊犜兞ࢮ⃠〮ᝇ䉱稰ᎃ奨䤰㕂Ƭ䢩䐤୸溉ᴥ䌀҂ᒡ⍰瑆֦抐㱞ၬ᎘䐠ᗨᄩ伎಻ྱ煪⅕♄㒄皲䤱䙠  "
   },
   "outputs": [],
   "source": [
    "PR.vis.interactive_table(df)"
   ]
  },
  {
   "cell_type": "markdown",
   "id": "ab8f8f24-afd2-424f-ab34-3e3cde723aa3",
   "metadata": {
    "trrack_graph": "ᯡ࠽䈌ʀ匦㢠⹰ࢀㆪこ<ǐʀ୥崡汤Ɓ䔠⍂⠨撂䂼ì债晶堪慯掩ᐠ▴ሰ璹㤨䮲减ⓥ䢧᜾㺣䉠ð䀡壅冨㕀ॢȠ௞䠸ᢀ眰䅽忖䀢晐樠Ԃ牠ΈƔڦ❓ሠƠ暬ॡ声Ȅ恨䙜⬮ಬ俨⫣䞐డ㙐᬴⣔䰲ճ㌰䊆၂۔欠㖹┰᧶༨̘ඛฌ琻ɋ㉄ܠ榡哸Ŝ.ؗ⾬ള勑̵㯺ᱱ曨ဩᒡᾪ३⁂惡৒ј⪖ᩋࢶ䥣䍢ᇃ⢀☾ԣ䖎㑝䳓ⳄⓀ᪱ĦҐ戤׌㝔䆦成扉ڠ凈㨣ೣㅘ湏Bࡤ䒠ଈତޗ٩䟨㣜㥨◈ᩲ㭡⟢䀠 "
   },
   "source": [
    "## Task 2"
   ]
  },
  {
   "cell_type": "markdown",
   "id": "b7ded8ee-7828-494d-afeb-8f5b5b5595f1",
   "metadata": {
    "__GENERATED_DATAFRAMES__": "{\"nodeDataframes\":{},\"graphDataframes\":null}",
    "show_aggregate_original": "false",
    "trrack_graph": "ᯡ࠽䈌ʀ匦㢠⹰à⬠氤瀹䂃¦¸˰ҁ①าÐɐ໦䓊禳Ӧ攆⩧琫樁拄䨠ዪन㪌糥效桖㖎槻域℁兀†沤挹䠤傡%梄ؠᮬᢛ䑁圌ḀÐ乒䀡ᵼ䠠洠⺱壹溄䅢ᨀ䈩㙐⠠㲸ब佄⍦儂ト桦{్䂼∠⌤䉶汄ၹ䑨凝۠ඊ⡂ڗ䉂Þ⍾捠ೠ䞫づ㕤䄀൐櫻G䀡擑琑䈂㫶ဲ㜧Ꭱ˹ȥᆲ冲椒咃ᨼᐱᒶ䭢䇡Ᏹユ僌䘼ᚦᩐ挬ദ䌜๵䎃ᅄ〴䦈᥃䌰ࡃ㏙㉬ᜨ⊰ᒊ຤惐氮ண成ɁѦቄwၤቘ㲒㙑⏤咤窤䫳䧚ᕄй  "
   },
   "source": [
    "### Task 2a: Removing outliers in the records for Elevation and Depth\n",
    "\n",
    "Below we have an interactive scatterplot with `Elevation` on the X-axis and `Vertical`. We see that there are some outlier's in the data here, possibly incorrect data input while entering the avalanche instance. We should remove these outlier before we proceed with the analysis.\n",
    "\n",
    "<font color=\"steelblue\">The scatterplot below is an interactive altair plot. You can select the points in the plot using a rectangular brush. You can only have on brush active at a time.</font>\n",
    "\n",
    "<font color=\"steelblue\">The extension tries to help you complete the selections faster by suggesting algorithmic selections based on your initial brush. You can look at these suggestions in the **Intent** tab. Hovering on any of the suggested selections, highlights the points that will be selected. If you feel one of the suggested options fits what you wanted to selected, you can click the checkmark button on right of the suggestion to apply the selection.</font>\n",
    "\n",
    "<font color=\"steelblue\">Once you are satisfied that you have selected the outliers, use the **Filter** button in the header to remove them. After filtering out all the outliers, you can use the generate dataframe button in the header to create a new python variable. Create a new dataframe called **cleaned_df** and print it in the next cell.</font>"
   ]
  },
  {
   "cell_type": "code",
   "execution_count": null,
   "id": "b1869f38-1566-4dfc-a8ff-479bfc15e9fe",
   "metadata": {
    "__GENERATED_DATAFRAMES__": "ᯡࡑ䂌઀䌣奠ጣ田᧒䁮͘ӓ怫䀢Ü删⠤倮亽Ǭ匰ʠ໘樂⪦洘䖩㠤労䖠䊽୎Ⅎဠ峁㌀急奦⼅៶ぢ奪娬榺媕渃ၞ㡸䒾樜犦ᐡ傤 睱偦ٳ⃠ℐ偾ᰠ㶴㢹h䇰ÐǸl〠⌠ࣷါ↣≂ᄒ䦉᩾‣亠ԃ擆ႀ⦕抠̶㷝別猠˘炐傐㣘ᒂਾᢴ儧ᗴŹ斀㪴䰾⻒咺⪣⟍歒倭泈በනӖ㪢䆽侚․凼సᢠ䔷Ϧ⠣㕠ग़ᩡ㑡ኅ㥪Ϫ㊇᩺啉偋ṻቫ⪀Ṭɨ湐ᑑމ䩡ី䈓ずᠸㆣࣺ7戇粆ဴ࢔擶䯂Ꭾ敪⒱⇗⓰㲲撳哠ᒪ⃓⓲⒬ĔᎩ姘ⴣ㰾;呏殈⨰*ᚣᘏ⟹͠滤⿳ᝋ⫽޼國㨠⺷䀣⬁潐ᑏৠ怠˪ܙᑟᑝ坉梹၊椯媹ެ牪㉫ₘᴭ䏶畄ࠑ啀᳊Ι≘Ϥ䋭喟࠿厠ࡦ泡獠ࡰбܔଵ喎䫵⁚䟮߶യߞ`⁚#敊፳ᨨ൭ȋ櫮䄉悽ᝳ戊筛瞗㕹梜䇬刡ཉ孨ೈ䅵嬏媏᭍⮍吔䟃ðプ䛣༿厛䠃䳕墽濒ᱟ➧㮰榊㊘ᒮ߽⎭ᒘ璹慨倩挠❂፠ዉ❈杆⇈䥙⁸示Ⅸ朶♉唴ۈ楖⃽⦥ァ䁣摠ѐ掙ⶮ䊩紱匼ၮ䅩攲⏜眪⁈屣❘峕↠甤Ꮳ⛑཈〢曨ଢ଼恄䎮䝬ષ䟽⫒䔠䶫㏴ۋؙ洧䉩洢揈琽❒ᚅ佒୎皽㎤்֔げ䳅冭㟂㌐⦲䫌᧑ˬ㧟丹㽈Ɍ▮䝍ᗕ㗍掴ⲍ嫙ᖍ涾䰉䮼ȍ綹ৱ寘ࢼ璽䰨玻唕彊⥽㷌杼આ盽㮺䱼㺯恒䙩䭒嚛⧒ṏ儃䚓灸ṛ➜㮷䌜㾿瀢㨰෡₋ࠥ㍎ᗨ畕❨礽春䡼༅练□䊥Ⅹܨ䫫㌥ૂ席௃㪼҃䱸හ㩆↠₽敕Ⴘމ欴㌬㔰ᛸᱪ່栢护䊯⛋⧒䩕⩪卵ᩢ⫛䦉㈘ᔽ≒ḮഥΝ咕գ侼▏暤⤽ԃ攪‴噧౒楛⍨ⓦव⿇乭ᨤḓ᧖㌑㧐⨕↑㕌⁄⢌ㅨϪ㨶䱪㩧㍋榊疸ϘỪ瞈宪厮Ẕ礑ⱼ㋦ⳋ䝶甼畬ᩜ⣺ᣦ䙥獉㔝ᭆ矈㜬䓭彇浧਻ῗ瘝翂䶸卨ഩ䫼漠栺ͨℬޅ᤺ۨʛ浤〺∬礴[ࡊ栕啐䭩笉淡咍ఒಌ抂Ⲃ㓄䀠 ",
    "trrack_graph": "ᯡ࠽䈌ʀ匦㢠⹰ˠ㬠䰦ᠱ䁃Ģ栤ᠦ㊪ⅈ〹䇁X劰Ꮀ婳୥䔠ᦕ瘄䨠ዪन㪌籤摉⫷劊滳宿ÁTဠ㛤碂瑨ɰ䂠̂φ;䘸ᗤႇ៌䆀Ñ෵)愄䀦梚䡱䐠㘴ాүౠւ偐ഹぐ䈨焭ഫୠ恂䄀䀡㩚嵛ᆲឧ■เ壡‡犀␼ѫƭڠ䭡恐〸㕀{థ墸∬⌤䉬Ɽႍ䑀奨༼怭㔾ሙ㞢┠弽ἂ璸䖡づ⿍怶ンଠ➠Ǳ紅熢憎幀⊮㮶晃೨ࠬ₰〩ᐥۀ根ݨ㋂䡸ᬯŠᡸÅڨ惤ݪ؃⡸㮥瞘⒕ṑ儡໔浬ᒫ⋑Ʊᙪ剬ణየ犙ഠ叡૳ѓ炅≑ᱵ䣧娉♻ᗫ犥ㅼ偑⫮9⒆紺⠠`ʨ⫠拹〣畨乥䏈H㡞っ呸ွ⚨ረjᚧ⠡咀㽂斡ɭw朦婚席Ċ㫂ᰢ⍣㯼䫀ᴃ䅕⯛䘁稜䃊懐ヒҶ֡儨帾ຊ倲౏࣡‣䉉ޠ䗐戣̱瀸劮䬓氼❄䦥怨暙ॣ䊴昻Ǣ炘䊆䆿嗕四⧶疚䰦ˢ溔燄浕丆ڲ拓Ⲕ䶤ϓ氮宩捓穤வ掕Ṡ㠸䌣歨獳絒䁀䎮䀡⺀န᳗开㐿ᐣሿС瘶௢ɀ塅0ᘀ䠡ᘇ桸ሆ瘭Ꮰ䠠ẦՁ崰ۡ哢叆Ꮅ߁朳ށ屎ࠁ≂ई恬䛡ᠧΑ㐸䅠⒠⦶⨥ΰ䈥䊀到䇦ᐥ䆀Ẫ墀炦䦈婂␑焯Ѹə戱๜䚱͌࠺㬨窺獢㌤學ヴ᝵毌὾砦崨ᦠც摤࣠ǰ灈⬋糾Ρ㐸朸糟ံ̃䍤䁔Ễ⢗༤環ࡥ䂂๒ಪᚺᵟ˅唇Ǆ኶ᯇ渨0㊴ሣ±࿻屲Ɂైച䁚僴␳ᒋནↈ㍯唰 㵩ᯫɬ⹲z澡ᄼ翈ඣ➯彺Ѡ㏬ᯩ㎦᪮㫯匶櫤ৌ悥儌悦⢢ࡳ⃢䉡ଢ嚮ൎ澽㪎丢⦮㇪劂崳ᨂ嚴䬨帧焠尩灭ा扡ᆾԼ⿁抉㫥碞ῠьণŨҥႧⲪᰴᴦ䡴㔎儇ศၴ庩⥡ห㴐㺈䢫আⱋਥⲋ̧ⶨ΄汻ᮇ䁛჎ᆼ൐⸉榎ⱒ㍝ⶋ㶈涻朙狈ぶ橚ᡀ㶫啈囄梕㕳Ŧȣ㈌㊁᪜⍣䮊㞫瀢ਂxਣ䆇㦈↍ଣⱰᐤ䓨ഢ䄨ే䀲̪⇚ɫ౐ឌ揍羅䅥ፁᒲᓋ࡙ᝇᖙ㽈ᖊ⌄榷∡棚ʶ䂈ã梗ӥᣡȉレ䨎姯☏壠槯㴿㗠Ϳ㰉緟஖ՠ淤ɠ考㲔нⓡ़爀戾ݡၧ䩠j堌ⅽ动䁔١䤽ஂ紷囵匸䪨䥶⭗埿ᾗ北筲穼㹐优從儻實圗Ẁᘹ㤗兼䫡䠨羼ᵻ僭䨘俋穑㨕ㅭሞࢋȱڠㄻ焬Ⴃ䭘ⅰഠ䐼׌ᨤ䠸ڠᄷHිؾĠ屰䄝痲⠢အ֑䞼喼Ȣµ䎍ז籿䠘䜪䜈洁ᣦ⁧ṣ䝞᥮᪥亞ņÅ㲦䫈ᠶ礍䇸⠳壛ᯐ符ŀ刭盞抡绰ᶣ呛禤䃨插䤥ી┲冊᠌Ǩᶚݦᗟ⢊ᔶ檝⑔⬅樳ඉ㰪ᢕԢ硇䢚㟅穹冒秏ሂ㠠嶘๐ፁ娖Ҥ殔惖Ⳮ㛡ȡ㰥䂣䅂䠢⅄ߕ獊ǠⰡࢨῡ䩃èŃ⠾Ĳ㑤皕䈌䤁ၢ杭䖴ⲹ䖹▧ᣫ㝗㙈Ԍഅ⑹拑㧭㤚݂剤₷ἇ᝙䓎捭⺇䷑㬾崧伓久憗ః㹸Ďⵣ㣀ϼ⾸ؖ㸊弣慜ࣰ䠩灂⨁⫯檜矹䖷岦⡶僰瘖潗燢〻勿氝⾫ᖨ㸆䂝笉᬴䃮Ⴐ̌曾ጢ␹䳸Ԡ∸䣄ଢ犂悀䆣₩ဌᄠ௞咦㾾䥠洭嚑ୄ灡Ͱ幁ၸ௩㝝ᑒ絈␧᠑ᄬ狎⼅⬦僢◲䋃楥߶㼢嘥擉㹬Ⱂ煛ᖑ㡴ṿ樿㣊ድ䔠⫃⩚ॕൢ嗵ⷉ᲌擘喠宅傰⇃傃持捫⮼ډ奼槙˰ᬯ؊㦯檋⊋杓㔁䪛䣓牲嚦勺ⲅò惬嗀ݼጙ⨱㑏˝㛳㳜⬙擊廠樭杓殀夸懒ॐ䏉ツ㞁㒁䚣䏢⩏䌴f听炈⢫ጩതᨫ㳉ẳᥛቐᝇ涡┴嘡ᓒ䣉⪳½䘩䊥ዲ↠㉶✛ஏ䌜䱉䪹涤ੳ᥇宁࿗属䅋⦥徍㒵涋圚梸䛿娟値ት夆ࡤቆ@㥍䑔漫䖽͊⍆䬦ᨣ㎌䇠ᡮຕጳ丿⌄ヤ桋嬸柕⢿㝑ⴵㅵ䃙絅儦㖓玷䛢ၳ౲矼榰塔᯼ᬡ㋏ǘ噣燌球岖猜ᶻ簣悓緯ާ䨨䁉噼椱崀ࡾဈ礩堬䧃㴥㦭侨嘱㳍招䶃ఆ䪯଺䊞ᬩ㰷䓨ߟⒹ糥⥖;璢㭇὏䝡㠅ॅ瞔㴠䐨䚤ᐵ䃑ńᆽ䄑߂桟∂ଦ䪿喵≁ⅴ᭓㑆ᐸ⏷㎂᧐䩗曎్懬ⶃ䩻䨰≋㢺䧘䑳ሡ⁻杝⠩㵸䲆శ笫䣆ᾏ͞瘫㻢甝ǰᙀܶচ箲檡潺⵩ٹ㼌夝ᐢ嵊䋔癋ⶕᒶ疙᝺ⴣ宗ಔᵭ䇐䯡㹊毹⡆䌵卖ᨠ礊ë⢲i俹዇唲㔔䁀෦⩃熑ᏀᾍࣅṄ㱭ࢀĴӊڒ㺺绾晖۲ᵭ幛ⷊ㩛⯔ᝫ㜖潨硬疣ᗧ伋䂱窄䱆Ⳛ䀥㢁狥㝺瑹毦壗䚐҇磐玄㽉ೣ廨刕䑙撞ˇᩜ滁獇䰵ᣭ磑撺㦷丧ᥑ秢㑤જੳ 䧰ᑙ䡈䃿䧠繀䔱ߩ仫Ƙλ淀⩐ᑁ笢畡䄂໘ᚠ扛䙨㉮Ὴ㝬୼疒⸨໕煺௶幅䪼䛶㦙殀垶笼䖲䙰⻞嵸ᠷ⹰݁ở䣝ᵅ伹⭁兺Ꮞ㥋╮树⶯礖⡊啙佪匠櫁ვ⽵㸩呭嗋᰼徹㝰᫇⥺捷⍸痔ὢ橠ႎ㗽啍ಘ䠷⾯ෆ㕹寕廉⺊ᕽ⍨㙭槛毾䂪⃆ᮆ翎ǀ巃㸊渝俻翰爕煭べ܉堁ルᨱ喧ᆧж璠יȫ㲂అ呬≂៪੎ဢ⋾ૹ偕夆ᘩ孴̠㮅䄖焤໤ℽ䑡ᶼ⯫प怋燖䩻㾗羞ు淦ਙ䁳姑斁崺斵寑冗㩇ශ瓉夕妧ᤨ焞䃍㰡㵾㉅䜕▊䬧桵卍⿎࠼嫵俅ၮ笼珡䰌注⹟姁儐⺅䍰㬁妄儌湂᤯ҭᷫ夢孃俘䝎䝨ᆼ坜಍㥅⪝Ἵ㲏➖᧏ᥕ撣ጢ㨑䁬ȵ惖禪啭Ƚ惉ᠹᚼ犇捪㩣\"㥫ᄕᥨ㍭ઍ๲́⤣䁦拾徠␡䁿ሰء紥sᨒՀ懫൛㠲䢽呌ܹ㧰巬Ѐ婏ᬯ埬Φᾌザ䪝Ꭳᾁ௮ቍ瘪Ш䇲ນ是沎ய䜹籍ὢㄤ⫕㔨ɟϴ姡᠁ር福完ᰏ㽣笿唜㒤  "
   },
   "outputs": [],
   "source": [
    "PR.vis.scatterplot(cols_fixed, \"Elevation_feet:Q\", \"Vertical_inches:Q\")"
   ]
  },
  {
   "cell_type": "markdown",
   "id": "0fa413fa-c1e8-4c9b-a6c1-d99240948a75",
   "metadata": {
    "__GENERATED_DATAFRAMES__": "{\"nodeDataframes\":{},\"graphDataframes\":null}",
    "show_aggregate_original": "false",
    "trrack_graph": "ᯡ࠽䈌ʀ匦㢠⹰࣠✴ƀචآ൐ୠᣠ⭎¸䚀ᶥ<⋵攴≲䦆ᨐ҅䁲䥈kᑄᄈ夒ર囇⣹嗛➎帣ᢤ䀡傠Ǘ熠㥀ॢȠா䠸ᢀ㜰䁾巒•橀樠Ꮃ䤠ව׷核ᱬ䣘紲₞૦Ԡ޳ŀ凐栠晬╍ಲ䖽䂇栢沀團ᄰ㸸ሪ喊Ⴇ♁䐔粶ᦞΎ刺ࠥ簉窺簲ᖢොሧ҉䃵ⰡḠޅ毗䘤䗾墥୚渍磆搰㣄䆯䌭䊣ᎄ䢩妈䪑䴹ҩ䋫◂რ⢒ઉ⃁⽌囦媍ኘ垤䢠䍤⒂Йᘷ੡䄀҂Ქ⃱琿啡憐㲞ၯ䌨焠ᗿ搫໎㒫ல熪Ņ⎃ऺᥛ⃄ᅠ  "
   },
   "source": [
    "### Task 2b: Filter out old data\n",
    "\n",
    "Below we have an interactive barchart with data aggregated by the year. We see the `Year` on the X-axis and `number of records for the year` on y-axis. For the two years before 2010, we have very few records. We will remove these records from our dataset.\n",
    "\n",
    "<font color=\"steelblue\">The barchart below is an interactive altair plot. You can select the bars in the plot using a rectangular brush along Y-axis. You can only have on brush active at a time.</font>\n",
    "\n",
    "<font color=\"steelblue\">Once you are satisfied that you have selected the years to be filtered, use the **Filter** button in the header to either keep the years or remove them depending on your selection. After filtering the years as instructed, you can use the generate dataframe button in the header to create a new python variable. Create a new dataframe called **post_2010_df** and print it in the next cell.</font>"
   ]
  },
  {
   "cell_type": "code",
   "execution_count": null,
   "id": "6488acb7-e239-4d7e-92ef-3e9d74c3d823",
   "metadata": {
    "__GENERATED_DATAFRAMES__": "ᯡࠣ䈌ഀᜧ栩䀦ĸ䮠☣᧬ʸʒ䁅嘰ƒ䛮Ĭ˹烜㔓፳༙െࠠ㑀ᠢ㸈ᬰِ勧…支ࡡШ磤᡹〦〣㈂怤㛰ૠ୥䀥䀳䶌猅结䍸䧕佹ᥧ‣䷁᫻↣皂੨żФ㰺㰭ȣާñ〣塬瓉ᐴḾ೵ᢷ㓕⑃䴬⢶䍓ḯ䃃ࢀ滤䣂ѡ䓑䉚⒬ᢢͥÀΊ䁳摀䥫ᘦĲ杠䛎؄涔壮ⰿٕ⃡¨㘮樁桭ⵐᆜୄ婎䌬急砨䝔掔浩ណ䖌憽列境㕲㌫杣偌Ὁ⊡ᡐ␲Є䱮㏓ٔ⤄㱗⫰ý犐䤺ΤどѨ㠰瀠Ѻ牦ـܩ͒傔䨠ű䏨ᙬဣ僢䠠୵儀倬䍙䩢奂䝋丅м㳾䵣ׂ棓䦦◴樽斵ᦌ壉ɴ禜樲搵敺拂⿶Ⅶ曛ⵗᘆ溲澵㗚䫃䐤㖮盙潖缎䧜ⷕ◈ᶷ滗続悙絚姂ᠴ䌪墅橠癱梆ᠮ唨㫞᫖ጹ廀׷屠焲ሡ⋱ᠤe㖀ᬅឩ冨縸櫲憨㰼䆠෨憨Ǻ皾ၞᡮዩઋ⥀L琺ڥ泐/ɜ猸Â၍桺࣑㤮᯼ദᐢெ暰䬷ᗨ࡯䂼ᖞ幰缩䀭栿␭窅榌篵稙碜ఀ瀿ฉㆰሪ䡏࠱⣜ᰋ兏 ⤜໠π垬⨀侦䌼㚣Ӑ戲ㅲ⩧熔㸸糿㖩ぬ㖮Ϩ昋ぬⴳҏ⺢⡿਀紫ㆃ屠↠⇢ᐭᴀ⧦峺ݠ℗ᜀ磺ㄈ䢰⒭バ⒥⤈↡㸌ᘭㅡ᪲㆞ᘢ䄢⩩ၿྩ⌈⬎ⱛᲣ㦋Ⴁ䆨㑭榚ഢ懺ᜌⶎဠ ",
    "trrack_graph": "ᯡ࠽䈌ʀ匦㢠⹰ڀ㌠汑⁦㐵䁍ԠⰢ㣬ቩ⴩抠ֿٕ䁦¦X栤捍਷ౄ倡ᙰ䡣内恌⹲嫍㵆ᜍ崘ԩࠣ℠΁掦ô䁅ШNᄚ〡岁䋼℩㎎搠ㆠָ䆴)洄䀦梠熤⠠皁ᅞ஥௥↣ტࣘᡘ٢͛ƻ௡䎁䅐䀡㬚ͧ⦲ƿ⸂आ壡‡犀⑖ع஦ს䆩匐䢃稠嬸㖧ᑤǦҡ佹䑀嶨ナ摵䀺慑戩澤⨡㼚ε䨧᯺悡嫻䍌䖰⃶o#娇氃ܑ沜ၑץ灘᱓؁ᅩ帲ԥʬᰴ䷌ᅰ搬ԧ⃀屈Ⴃĵ㰼ࡦ䃠Ნ௮禝儆嗂¼甝੍䇤〤䥂䢰椬䭃䨄Ղ䓆⧀獈ⷨ曥煢ᅌ䫅楬孋䰄汢奀឵喃ໆ瀡䫆῵加$K嫭燜Ⓚ䀯倠䑺ᠡ倠倠扡ᢷ⁔ᢌǀʰⰭ幇僠稸䐣ȻحX䀫ဠ吭欤檭せ娉笝ďڦݣ烰㌽䘠䩏ᛂט災✅爘ƀ呁墠㆜Σ৑┬䙋ňㅾࢣ䇐␼᜿楠值ንÁ幖ዏ傜އᗭኁ塜ࢪ⁰吺͊卑Ɱޯ戩䉺窶檕嵾忈ᬬ屶಩᭭㌷䆄壕⮕厀服筣夃ᴓࡄ峷ᜆᴚภ䡐%ࣀᐯ⧼倪`ࡄˆᑐ١➮ひ澱㪺弴஢炴`ྪ₤ྨ掘㴤1≍怠穜ᱤృ⸑⬺䍹乒ᅥ届፥梦ᕁᣈ⿁䆖Ḑ㡔ฃ⸬ສ┹ᗡ⡈ڠ扢̈́㠮ౡ㢞曣灈ع㡸⭪瑞ᕀ㢑昀䔆᥄㣖ᄄ帳⚈ⴻ➋䈰9ᕜ䛢糸昻玜怡棣̠Ô幗䰓ở䰫煣Ԫ懄⿱幪▫Ạ⡌ⅸ⥪庇嚀᥻˪䅸㉪ᅴⴔ⑏䮫她ⷫᕡ䧋ᥢ⧫䦃⣡䶑ⶋ疛⵫Ầ䩊╢⽊禗䥲䍯ⱪඟ⮁ᑄ毋卿⿪Ʒ⸺׈泋㰬⧻死⣋綏ݫ㭴泻ށ⥛ஆ浙㱨݃ᚕ䡼ⵃठ䱸Ā千䴃嗂㈨晥䮐嚄䊛嘫檃༤Ĩ徉ར怸䅼帪̱☴Ϙ慊٧Ĵ䆓暡枒㓃☑濆儠'岴糿ح剻ữ䄁ృュݐいోךসࡆ㶸玌ྦྷ愊⌥猭᾿惝࿃㐌玻⁼த௴ូ獄P〣੻獄ᶦସͻ۪礕炒楸ᥣ䙅歼ӿ恔ദ᥶晃䒸ዾ䭝ƣၺ沥⮜睻㯌௿歝࿔୬瞸哇ᔇᦗ㾯䲯㺮㷂✢Ѧ严碶喨䨀䧩à嗂Ҳ⚼᎟2Ɏ᳦恲٧⼒ஒ⣛匳⢧卡Ṛ೬ᣕȳだ◓㘽伴ჽ䵂偡溢ใ䘣ำ䪑亓刴䢎ᯟ㚽忙癣翑࿣咖皳炶佾࣡ᠰ䐠òᠣ獸ͫ䘊㚠毣ᠢ぀笩恶椠ጇ嫿戤Ⴛ禌䗫糎ㅹ䥹ᩰ㥌厒˃爵╈㕣瀷䇱欧儚ٛ0ᨦ㸹䎸矣タ䛐桧ğā๝愡ףࡋ䇘㒀磰✤ࡢ䌆ጫ湞䂁⨶ᄌᄒឪ抎d縭䒁弈ҽ硠Ꭱ妘皂䔌仉櫥㝿䉠р☰䜩⢭㴨㊦椽ຒჂ≔൤帊㺺䙱₮ࢰ㌦㪏穱悃呺焴㭧ᣚ㢠⦫㡄ぐ㠏儢ᦃ㑫⋡屫沆㮜Ⱐわ̀᧢᳦૬吥èݨ牂⌰᳷⦏жߢ⃓ଂㇸഃ䛦庴ƨࡡ屏暦㜬Х搐䗰࢓䳘倥㧎Ფ湥Ǽᔨ性䇁䞻⃯ࠨ樳䁢⼧剹ૐᗩ⹕Ⴡ容℗ᇇ吱熈⨃冏ɔ₧繲Ý㷫塷䲁埀炏㤒潩懾姫①  "
   },
   "outputs": [],
   "source": [
    "PR.vis.barchart(cleaned_df, \"utcyear(Date):O\", \"count()\")"
   ]
  },
  {
   "cell_type": "markdown",
   "id": "8a92b8a9-c3a8-4a57-be3b-c9cdc977092c",
   "metadata": {
    "__GENERATED_DATAFRAMES__": "{\"nodeDataframes\":{},\"graphDataframes\":null}",
    "show_aggregate_original": "false",
    "trrack_graph": "ᯡ࠽䈌ʀ匦㢠⹰ೠ⬠沈֭⠸恍ff9昽䁮ۦ࠰汬നڀপ㈏䣹厠㬦ተ¶⡨⇱㌀ᅁ╶庳ୖ⹜簧ଭࠣ℠Έ橦औ䁅ШNႦ〡岁䏼ℭ㞁摞+㢱䨠Ԋ牠Έƕ٦枓቙ჿਸ旑䅠Ȅ恨戬പᎭె䝁净儬Ö᡻⌸䐱䘩׍宨⇓ࡱ䍲ච᫲壬จ䙤Ɲڣ圖⍞ᛡ৽ण䃔戋㘠传ϊ揿振䘌汣䓼㹮䘫㈨ቺ⩯↧ᄨXഉ⠅ㅖࢢ侸⇄僡ಖࡢҁ氣С宍劄倶䢡⍤㲂̤㚗٩䄀硂಩⍰琦ᦪ悑屾ᾨႨ㺜*瘪䋇޶⋤ᓘ犠䭳঺᥇⏰ᅠ  "
   },
   "source": [
    "## Task 3\n",
    "\n",
    "We will use the new dataset for avalanches post 2010 to further analyse relationship between phases of the avalanche season and other variables."
   ]
  },
  {
   "cell_type": "markdown",
   "id": "f5f0e041-31f7-464c-bb6e-c853fbc0c077",
   "metadata": {
    "__GENERATED_DATAFRAMES__": "{\"nodeDataframes\":{},\"graphDataframes\":null}",
    "show_aggregate_original": "false",
    "trrack_graph": "ᯡ࠽䈌ʀ匦㢠⹰â䂬ƀᶷ琶䁋c<搔怳ଚ䠳亡䈤㉕⁖ì⺇⊨攩ᐠ▨戰㑹㧒妰囇⃹喧㝞Ţ∠桠ûு䁔䈠ॢȠந㺸ᢀ盅⻿夣•晀樠Ԃ牠Έƕ稦❳ሪὦ䰼⇑䅠Ȅ恨㙎⌯᪴䶹䈁ℓ琡㙐ᮂ⢨᢬थ⧓ࡢ㌰ሚ璋U䳘䠵欯Т縔絭Sㄭۡ۹ण䉔悊㘠传ϒ橷挣⌏ⱡ䕼庮打㈨ɼ榨慢䃂॑瑐繦┭ڼ㾬⎂厃焸牘榥ᄨ䦯ඦ嘔㗆溄⒀擒摖≦၀ⶃ㧄మޢᄴ䩍རへ∦䯧焤愷䍠Žƀ夅შ㤙༾′⪂㵩掳婊⢄  "
   },
   "source": [
    "### Task 3: Categorize data in phases\n",
    "\n",
    "Out data is missing the data for phases of the season! We have to add a new column to the dataset called `Avalanche Season Phase`. The new column column will have three values: `Start`, `Middle`, `End`. You have to categorize the data into one of the columns depending on the month. Refer to the following order for assignment:\n",
    "- **Dec - Feb** -> `Start`\n",
    "- **Mar - May** -> `Middle`\n",
    "- **June - Nov** -> `End`\n",
    "\n",
    "<font color=\"steelblue\">First, we have to create a new category and add options to it. You can click the add category button in the header to open the category popup. Make a new category called **Avalanche Season Phase**. Then add three new options to the category: **Start**, **Middle**, **End**.</font>\n",
    "\n",
    "<font color=\"steelblue\">The barchart below is an interactive altair plot. You can select the bars in the plot by clicking on them. Press `shift` while clicking to select multiple bars. Clicking on empty area in the chart, clears the selection.</font>\n",
    "\n",
    "<font color=\"steelblue\">When select the months that should belong to the same category, you can use the categorize button in the header to assign the proper category to your selection.</font>\n",
    "\n",
    "<font color=\"steelblue\">When you are done with all the categorization, create a new dataframe called **season_phase_df** and print the grouped dataframe (grouped by the new column) in the next cell.</font>"
   ]
  },
  {
   "cell_type": "code",
   "execution_count": null,
   "id": "1ba3d034-eb39-4083-b940-59b47dee37da",
   "metadata": {
    "__GENERATED_DATAFRAMES__": "ᯡࡓ䅬ࢆߐᶡ稠㠢挪ဳᐢ犪ࠢ㦠ዬ⺨ݒᬠ垄ᆍ㚦䲠ழᘡ䴷䔠ᛢᏘ㑘⒈᧑瀴ㅎ⥦廃㎅㙸†桡〤砬ീಉ揪-刮浸䫅ᩘ䀢ᠦ㌿ᠨ怮晐ୠƀǐˁŰ掏ΐ䈠ᴇ瀢㊘9Ế圾ᘠᎫ֪ㇶ᧱ࢨᄐ䪘ⰶጡ橀䯪Т壓䤡䃿⯀㧳惷瀠瀦箲繜⳷⮢㟛惷ฏ撢䣫䐱屲ȸᎠ්Ǌ㬸͒ুӟፏ∰ᖴਆ䔒竐✰Ḥ䊓䬷嬍梢焕ೂ挩➡ࠠ彍ᮈ炡䘨ࡈ笸⽟Ǆथ縠䐏琔棟ᗢ櫙乇䁀條ẏ堏祙ါȬ㌁张ෲ揀䑼࠮䗣ಢȷբဠ࣐᧑2哑樆ᵲ*奌䢑勹㥀ǳ◩+⸖૥㽊◌磅᥼嵊⯅㕮䇏௥嵡忌⮵㕠ெҡچⱥ⓳あᰁₛ䳍喿ʱ㓇ᰃ抰ါମ墐绰籙ג᳎➿最∢崯ϡ懱!畅繎䀴∡̍ᴣᆂ㋃ඦ溶䷦斃㗇␲⊗䐴㟅朘桖䰢份儋ᙼ∽ء狩ᝢ檺။ጘὔ䍾擗䰵疮È源՜₶⠂旲ຠ⨲䶬Ⲥô䒢紙ᔮˈྉ\"秇矴爔∉∠ၢ媣悃ઠ†`Ƶ戢Ģ\"崤䃿ᘦ⁋ĥࢀ㼢ე䰰䋂౶Ӿ҇渰ूడȣ㠧䞦≇֖磛姢䀽䬦ⓗ䗴勴嚷ᚬ妵)厳ᓩ䁶䙢䑲樽ቲ嬒䣵⬊䑩㑚佷䪲㛱䦺奁甂㫲⧦䕯੡Ṩ䦦奨㩚᧵ࢌ㷴穚ᯱᒻި١䐡ځ䉖囀ᙐ䛂ឪ⚜䁷☠⭐壙䖭ࣥ哔熵䈦囕䲃⤽取⓽䲀Ⓨῄ皩⇇㱍ൊờǆⓝႄ㚣䱉຃䊐ᛂ᪖႓䬬⻕ิ峦߁烮῔ӯṅ甘嗄硬⇆㡋䘆摄䝤了㱗㈔䮬灜㶳燼䟭⚢䳵ਚ㍬᧺㓵䧍ͬ⤻㩪淊㵬嬋⛶槦⧲࣌⊈奾圡竖㿴ۂ৫䛎␧㨑于祉丒Ȟ㭒㢙咈啮ᑎี䫔泱✲⌑⅊ἃՏ癭䤐敘䔾⫥㢖㣃岔₃⧢嗓勧仸⧢擮ǀ㑜ᗢ䲞౰⓷Fᡞ࿃卣ܶ㱡Ňṽ᧡幀漖ᠯ䨕㻿Ѹ績尒㢟勠Š㐨䅐ਭ䄸Ī⇋ḥࠠᙡ憀⩬䷵嶣捅䉵千淶㋔瞪̔梸愤伪D暫,¸ᑲᯃ䒠䢛䛒濟䙍彸⛉㵗㕺⥄榧全㉧歺ᴉړ懍㷌睩௔枛㝾癹瀯Ἒ㭙眦ᴳ矝俓攧ח瑫ೠᔥↈ墶ࢋ䕥᳏ᐵ法抎ᚲ玗ڧ恬磛ഈ岌吳傞㉌ነᛵᶤʘ穆ஸ碲䞘⢠ጓ唗冪殢Ϙ漷ᕠಭ❘⾝硠俥稝冋笞翰ܡ灒ߠᡎמ䑙ދゞʈዝ↰᧠斨ǫ֠⮇癶म缊戨₨  ",
    "trrack_graph": "ᯡ࠽䈌ʀ匦㢠⹰Ҁ㌡䘣ᠰ恦Čథ倢怭䩮㊐悑ᒅዑ¸砠揯᩹″䔪̲⠠䭈⑁槓焳ᓍ╮䆳஖⹜紧Ҡǁ#㇨梊′䈤7㺰ᠠ湐憎Ⴄ姗ㆠˬヴ3姩-儠ːࣱ摈ᐠݟᢦʣ䆣ሱ熨焼శخ᲼ኺ⁂ဳ䡠Úͣ⎬ೱǠモԃⲀ倠祐ሾᲿ䜰ℇ璒䥩Ц{ౕ䜴∣䌤䋯ⳤၝ䐰疔䫠ඉ᧠܎䍊Þͣ欎̺悩廻䃌戇嘠传ϓ淧挡䗿㱠户໠焀එቭ窰籶પ慄偘䵊␑摌ƥ䇤偄䘥䋑ⰴᄶ䃠㢐仦窜制䒾梡➚⃩୥ㄤ䥂䭂᥌䝇䠴䔼ӆ⡵䠰ɥᅒ㆘兌䫅椢ፍ䬅䒜僌⪴琪䛂㏴删᥾嘛婰 䀥㭸ᡩ嶍㎘$⛱䂭%ݶ樈䛎ࣷ㜜䛶ப抚ᱦ塑悐䚠ᱠְt䜋Ȥ㐡樽ߋ校䖲㽠㐹٣䤌〤凸疀ⷧЊ㝏៯焤᭐䜧ਁ憈䢅䫐ᠲಁ䏣籸㒬Ⅱ缂┪≥摆櫀㏝އᗭኁ㡢௘僰⩦ᦦ抑屾dႩ䵶僽欕絡墏戔梋檃᧭䋥妆槍瘍䔧堼䜳崀堤坺ᜁᰦภ䡐%ঀⰠ槼倪`⁄º〮ޞ恉烜ྫ炠᧼殘ၬત倢Ϝ⤨Ꮬ挣͜槭刁㜠ϰ⥊ሢ䅣ʉオ歱⮓䑤䣗٤⣆Ꭶ械ݦ䔣˥壊⌣䡼⏸墐乣䡎汨䡘䙑傂ڢ䙔ʡ煑汩灚⟀磉Ρћх⑚ᅅᢻὑ䴫▊洧⭪㘰ဉ炘⨇ࡎ̹䍜昸Zᢁ怠ᚽ䄓炷Ȓ砿䴭熐⬭慡䒪㹴ⶫ纆⤁ॸ⫈಩䮐暄䛃嚵䬠㡔柣ⲛೌঠ≒բ杒▐䯃༤Ȩ善䳹′଱玽䋠扝⊠眨┠䍨檰຅冑亃囍࿖厐'岴慲ఫ勻۫ുާӄധ穁⑋桜ᖡ㜅ᔋ܇㤎撧㒡嶵ഃ᳦␦ᇆ㧎慔⫩‡ӳ䃖冪畸⠷㐡֮淭ᯥ紟ေ㤆ᜲ䡒গ䠴ણ⼔Η⣻䭣滚ࠕ呮ǃ恟凖㛍䎧㚽䲥ၝ墣皃႖໩ಗᒳ塵થ⧑㜄ී䐽䯗叝忑㌼җ㌳僬櫆੠¢㠤Р獐ҋ犖䳌㫷䒋斶ᣐ繃⟈灘໑ഠÍ灭区⸇ۓÕ䁦ဠឳਐ繀☨湬եЧȰ䫊❥䱅ـ㡋͓᩶܀ѝᣡ簬δ厯母珘冄勛ᖵ狗ᐮ⫟፵攷䉜ᴩ瑠素戹絁Ͳ桍疹獃燑俚恣澤߹ݑ柙擿猱址࿙䂈ࢢ偭憢‪ਿ࢒ྡྷ㷺ࡻ䊨ᮐ㡯䋋ѧ渂‰ⓔ严丛璟氧䃦漃ᰉড㰀䡞⊛ⴊ标氃៤Ͼ⵹⣋伣竾㯫统▝௒、㼄⭠翵呡屩䅗⢠㷔㬷㔞矈绻挠⁒䘗怘䒸䭑ᐪ慢℀夁ᴐ䊩䒽ሚᆸ砦䦬ภ႐䞮ᠫⅥ搣ջ界庪悖媣˗歐і掊㚊榍囡嗯妧ય梀崶ᅵ䖎䠽⫚䭐羺ಀ㘹縠Ꭳቒ怴㑼㤢岸況壭⃗።眮䂨ᅓ否䖀ΰ眄ࠌǿᆑಠ偈㮧⒕瀸玮Ԅ乼椩瘷沦ụγ䓘䒖抗ీ伸乒撀媡偠ི㣁劺㧅䶋⟔䝢瑑一⚭ᤐࣱ⍁掆➵晌偌㣠䱦亸价ክ!⒰䣆̶Ⰶ㒁䚂恐宅ြ₉喣洋ᑀ䁞Ԅᐥႁ˨㢪ໄܱ愽छኩ塟⏤ө䲮Ψᐬ乓䪽♷䳉䚻֣ᥓĂษ㎆燩Ყ䍩◣か崓穛ˢ㼧垛攠✂塏䛼ᾫ嵰堓罘硁࠵䁱皢禥ṻ䡴૾䐢Ṃ窠㌗ࣕ疱ค䅟欝払哄㸅ᢒտ㨭㖖ࠨ垬ᅈ劢ɯૌ䈧ぼ䞶⵶ጏ畅倾☔▢癭慜䊠࠶Аᓀ桒٨൏恸ࣄ䤿̅ـ੟墐ᵊ絑ඁᅇ㋒᷵㵥ኼ嵆岸⋅ӑ䕘倪泂૩⼄Ƨ搧៫ᩰⰊ䑲᪮ܨ浶㖚咵ᛛ斦ᛷ抨ㄅ㡳᲌⩊♲ጅ⥵૆唲⏋█䔚孳啻ᇡง樣₁፿惦䊋۟䍭ો䵕⮖⮄士∠歠戁⮊丮椀廰儋⽀ᯋ㨴Ე栭⒎伉偘⇤ᚲ㵳傍榺姹ઔ⽨嫝▤澽िၑ婪ⶅᅢ灐बѨ媁丹咂ᭃᮥ⌽ࡰ㴻…᧘ᨧ㧔ᾑಱ䁸刣‿戹ఢᦃᜰፀ㣆⚆ᦧ㇄⬤ⲫ汈Ⱚ娋ᐂ判端㕪⽹ͬ泫庥倀▼総垁䘮⳼ńധ⍄掷⚷ኔ来䥙ᨈ祀刢ᇄ䪜⦴粄☸掂᪰⥚椴墅劫ӑ᰹㍢浉䍞䬖ク惇偁搿ࣸᅙ⽶䣐㙥粂Ϡ椎घ䅌ᰧũΆ朵೸嶮戧ฮ朰᳎ᘳ凢፛௧⊕ቚᝦ峓拎㻦䀣ޠ佑岶᧛⒋瀸㮔睏枾᾿渠♔༤㵀堷Մអ洖粸ⶒ㡱婋曱࣊䮱㺶煻篱ḑ䁚ᄀ歂ⴱ㝤栤᪑㠙䍭䧱೵⪤ᶫ磟抬刷狇ɲ浕劚⻐✫㡭⧕卺瘆儋壋ᛰ❍⌕Ⰵ尼ᗧ⏂梶ᶺ劊ᥲ堍㝈櫣ᗵ穊妄嵫硚歲债刳⩔䋎疛嚅䃻Ëᆅ⣺⯒⪨ᠦ櫐ᒓ⧉Ђ᜽椡揠⠭㕈ྡྷҠℬ䚗ᑼ瑃㖠棍ධ旪嵪໛⨳㬑䓦瞙䒳ሥဿ撃K䓌㫡沌䅘殰磿བ₺椱᭄矶炠糦ℌຮ䎡㣧ţ缽䐁ᴳ妃䶪拌櫠䪕佹䄡嫣ᇑኞࣖ⮁ⰴ㝘咱椀㗺窍㏱攑䝱憠㢥䢼འ佭࣒ከ䠪ϧᎁ催ш堦፻ᜁ῔㏟㊅羍矬䐊Ǉ楹㖼⺷ᧇ➲屏Ȗ㳙ȹ䐆᧗䶎樁㎿䷼嬷嶞゙䆔ᙙ夔ླྀᎾ枑־甫ẋ燜犲紎௏ཱࢤ孥㥸ᴠ汚⃿垢梎䋤㑍粜䟟⡡䛊䕫〢凟坰⭜䓈盍䰩㎮垡ח侁勗哄 籀智ð漿技烠䈥䠭絬婿ࡸ繘倾͘籾笚嵇ዒĄ粀㱊优⳺ѣḖ泈໬⦱⩽ű䅀倶傴⠂命汝匎椇壦埞岦ᗛ磴挗㢻ᛘ℞ᐦ珲؇纟䆄౑梮ᅥ憠☁˰䳟箱☑㰔ုᴙ擸栒஻籟湎絒䯏糠欲嵥唬൦拶皡㨵ⓤͲ窳⬩഍⎦શ↭␠݂繬ᬀ㗅浏なᯮᯄ喫⌮㯶ᷩ䈨⢞ʬಠ䐩⅞磺䵩夬⁎⭾ᖡ̨㪘䂨ᮁ᭄杄㥑堽炪ݸ玣䌽ᄂ₈㠩墐礆␫䢉䳘㝃卶0ᾠ㞢䁗᳼侪㌯䢗᛽彉㡻᨜媘Îɇ᣸⏼࡭眯ᯁঘ㺀䕜ᅂ呜Ⓜ佥篜ᓢ爈䮁碷債昆▚娷嫜㐻ぼ硤⅝ᡆᅑ檖༰栦ᰡ拶䈝㿁䀡捖凑​㆐烐⒄橨ᾞ桨䅴Ⰷ羄߭ᵵۄ疒Ú二ᛂ䩃⪐ূ奯᭶䞙ᮠᴰ䨫⪚儤寤ἤ䗱൝␃ऀ毯䱔憂⮑僯Ὲ刨᪄檭Ι燋焺䒆冉姇ड़梠Ô䩋婰䐍ᬐ᷁㶚椐Ա〉䐫䙖傠ȹⴾ槝ᇈ⌹ཁ梿኱ᎆ炐㉮䨹垍徘㏈冔த箔㋎ὥ澋䚃ऎ傸㔠㵤ΰࠑⰤ愐䃐⬕水熆憄અ哧愛僰妡瀏ᢎ㉐㩽⢺悲䂀΢墽惼☈㼲䈴⒢㧤䢼截嚕㊤ⲽ屋愺㣯庼㛥℆㪋ᓜ洇⃯ㆹ䕙戵杀џ䐢̂羁㯟䞬倹᜿箤ᙽ樼㱍ᨻ忀婭㕆䀸⼐䚂ㄗ䭻各嚏㜫䈗皌Ṡ⡘㷽Ꮳ睗ᩢ䠐缁䉠窘⑝猻焀䚬㸂⏊㹁䑿࿢ቋᣀ䑧䂕挱ജ硕剨焽䭱䕤㨤ӆ⼤昭剜嘍ƞ竄ര☫愞㈫䏑犩犔⃠ጠЭ᤼̐ᔌ攰弩ࢯ䰂損擉笒⁥粷Ⳑ楏䟀䶶ʄᆏ䕥°嵭ఏ吳㩌㼭楢㮔Ӧㅘ✝儠Р撍煸ẑ䯈㾐◝䜸䙍Ძ答Ӱįᝲ❐⊲ᢼ怺│㞣環Ⴂ✨⺰䀠 "
   },
   "outputs": [],
   "source": [
    "PR.vis.barchart(post_2010_df, alt.X(\"utcmonth(Date):O\").sort([\"Dec\", \"Jan\", \"Feb\", \"Mar\", \"Apr\", \"May\", \"Jun\", \"Jul\", \"Aug\", \"Sept\", \"Oct\", \"Nov\"]), \"count()\")"
   ]
  }
 ],
 "metadata": {
  "__CATEGORIES_META__": "{\"categories\":{\"Avlanche Season Phase\":{\"name\":\"Avlanche Season Phase\",\"options\":{\"_None\":{\"name\":\"None\"},\"Start\":{\"name\":\"Start\"},\"Middle\":{\"name\":\"Middle\"},\"End\":{\"name\":\"End\"}}}},\"activeCategoryName\":\"Avlanche Season Phase\"}",
  "__CATEGORIES__": "{\"categories\":{\"Avalanche Season Phase\":{\"name\":\"Avalanche Season Phase\",\"options\":{\"_None\":{\"name\":\"None\"},\"Start\":{\"name\":\"Start\"},\"Middle\":{\"name\":\"Middle\"},\"End\":{\"name\":\"End\"}}}},\"activeCategoryName\":\"Avalanche Season Phase\"}",
  "__persist_nb_uuid__": "2bccb628-9e31-4bb8-bddc-dfaa8aff51a3",
  "kernelspec": {
   "display_name": "Python 3 (ipykernel)",
   "language": "python",
   "name": "python3"
  },
  "language_info": {
   "codemirror_mode": {
    "name": "ipython",
    "version": 3
   },
   "file_extension": ".py",
   "mimetype": "text/x-python",
   "name": "python",
   "nbconvert_exporter": "python",
   "pygments_lexer": "ipython3",
   "version": "3.8.16"
  }
 },
 "nbformat": 4,
 "nbformat_minor": 5
}
