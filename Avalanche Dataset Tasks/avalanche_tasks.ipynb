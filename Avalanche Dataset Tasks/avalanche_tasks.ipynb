{
 "cells": [
  {
   "cell_type": "markdown",
   "id": "f08345b0-a0ae-4f93-b2c5-5760f95fbd90",
   "metadata": {
    "__GENERATED_DATAFRAMES__": "{\"nodeDataframes\":{},\"graphDataframes\":null}",
    "show_aggregate_original": "false",
    "trrack_graph": "ᯡ࠽䈌ʀ匦㢠⹰ೠጡᲈᣠ䌢堡〫ⓥত·恛ᢠ䚶⻸纶瀬性ழ僳⮦䥈kᑄᄈ夑ર杌╶䆳ୖ乜簥Ҡǁ#㗯⌰牠ኤРឝၐüメ湁˛㾛%咁吠৥撠۰̈ബ了␠̡嬸ᮣㆢ䀣擠䠠䙪ˁᭊ䶽䧆擀డ㙐᭼ࢨᜬण⧕ࡡ㌰ᄦ窋U䋗࠳欯Т簬͍๼㘭䄣夲Φ㓡檌¾'ଛ埦ඣ棸䊪帍໘玄ࡘ剷ʡ䌆㏱↨岑ᑘ劻ạ侯⛮ᎀ尸჏␀煎ἥ恨ڕ䮉ᅄ〴䖂ᣂ挰၍㇘剬ܠ₰搪ᪧ≑䱶ᶭ挑籡ᡨ䠡⺡つ瞓ⓘ岠䩱৊⥃⃇㓴䠤㈠ "
   },
   "source": [
    "**_I will use color to differentiate instructions for <font color=\"steelblue\">persist mode</font> and <font color=\"red\">pandas mode</font>_**"
   ]
  },
  {
   "cell_type": "markdown",
   "id": "522fcbb3-702c-4ea0-91d9-f3b0e71690fc",
   "metadata": {
    "__GENERATED_DATAFRAMES__": "{\"nodeDataframes\":{},\"graphDataframes\":null}",
    "show_aggregate_original": "false",
    "trrack_graph": "ᯡ࠽䈌ʀ匦㢠⹰àᦴ΀࣪ʐ怶䦠挠᱊ࠥ䁁䂖㚥煤晬փ⊪ĸ暂䙠঳ैkᑄᄈ妐ଷᓋ⃩䖻Ṯ溜Φ䐡傠Ǒ団Қ′䈤7ࡣᠠ湐戎Ⴆ寐爤䀥屨攠ʕ㥀ǔÚ䍃㏙䤥ࢂ┩勸惀Ēいཆ༠೥∁∀秸㲅䌠ⶬᛦ䙂ǃɡ殍戰泤ᒁ嬦怭㋉匥穃ᄠ彣჻⴦䉫ぢ睤䄁ⵐۻG䀡曑砑䂱竖ᄂ㜿Ꭽ˹ȩᚱ凁兘㑐Ṣ༩Ẻ䳥⑆憰棨忞⍧攈堽Ī僰὆揖䦲ᡊ⛓౱নఱ姼ᤦΧ您別൧儸晋Ǣ熘繀䉁硨K塊়ṹᜰ倳䪂ⵦ⚈ᒽ᪺ᆬ䀠 "
   },
   "source": [
    "# Data Analysis"
   ]
  },
  {
   "cell_type": "markdown",
   "id": "8ebadbe2-4497-401c-9220-017809e835de",
   "metadata": {
    "__GENERATED_DATAFRAMES__": "{\"nodeDataframes\":{},\"graphDataframes\":null}",
    "show_aggregate_original": "false",
    "trrack_graph": "ᯡ࠽䈌ʀ匦㢠⹰ૠବɐච䎍倶䊪ᠠ父嬡ᳺ෪ੲࠬ晴ᘦ㍲差Ⱗㅅ)㊤䈽ାƂ刴喋橖㎁混䩟ႠᨰV岸㈔␢⡠䀢焧匠෦భ戰௷㙠̸x䠊䀡᲼䠠洠⺾彡抄䀠㈉㶣㡶ᡈ\\䰩(懄燃㌂㰢ᒌ娾䀶挥㗦ࢢ烡ၕ⬱жㄢ៉䓐͸⮑ŝㄐ䁏你㋲既祸ၛᅀ㢆䰽⫠਀⻚粀幝ඨ࣓叾殪㙡ƨ◓ᰢ寘奇Ⴌ䦦糂礒৉ᱥ䩃༥ס扦᤭ԓ噻ҩᆠ剋࣡ସ䂡▥撰じ㸨䅃䢴മ䂁ᣌ㬫䈁碢➫怢崢悩欂䥑央Ⴧ掴≺䩬槔ဨ搠 "
   },
   "source": [
    "In this notebook you will work with the data for [avalanches in Utah](https://utahavalanchecenter.org/avalanches). The data was sourced from the [Utah Avalanche Center](https://utahavalanchecenter.org/).\n",
    "\n",
    "We will ask you to perform three basic data analysis tasks. Please follow the instructions and note your findings and/or any issues you face in markdown.\n",
    "\n",
    "<font color=\"steelblue\">In this notebook, you will be using the persIst extension to perform the tasks. The extension is already installed and enabled in this notebook environment. Please refer to the [tutorial notebook](abc.com) as needed to understand how to use the extension. To create a new interactive chart, you have to create the visualization using the [altair](https://altair-viz.github.io) visualization library. We have interactive charts created for the tasks which you can use directly instead.</font>\n",
    "\n",
    "<font color=\"red\">In this notebook, you will be using pandas to perform the tasks. Pandas is already installed and enabled in this notebook environment. You are free to use any library like _matplotlib_, _seaborn_, _altair_, etc. to create your visualizations. These libraries are installed as well. You can use the internet to get help with the syntax python or how to use a particular library.</font>\n",
    "\n",
    "You can add new code and markdown cells as required to complete the tasks."
   ]
  },
  {
   "cell_type": "code",
   "execution_count": 1,
   "id": "9337796b-21e8-4c8c-bbbd-3076a775d03b",
   "metadata": {
    "trrack_graph": "ᯡ࠽䈌ʀ匦㢠⹰ಀଠ䰢ᧆƸѐୢ佌Ǒୠܬ䯈ৠᶠ㌱晓勦⤐㍕ተ¶⡨⇳㌄ᅆ⥦亱⍶癭ᷫ㬗琰͢&恫ٞ碠┨ࠠ⹀窀ǘ憡屢ƚ盤䀫ㄝ⠠乮␠㚠ᝯ⿀煒†ᤔ⢡ɋఴ>☤䀤㎳ᠹ搠噶ء㪯‫ㆢ報ѠҀ䡊嗐䈣ᢦ௲扸ǌ攤罎䢈‷柇檌Ⴡⰰ渁ၘ⍬ۊ怩瀠㩎屰幐ᑎ櫤᡹樏ぅᭀ䅥戬⠸繦᪥䦴⓪㇁声ಙ瘡ㄡᬊ৤簨䲡ʤ硶痘䂱䂲䖰漩ౠ罅䌀䥐ᱞ౥၈⩍སヸืϣ瀤伪%㰙Ń厎䝨壙᜸卉ӕᢵ冲䍀  "
   },
   "outputs": [],
   "source": [
    "import altair as alt # Load altair for charting\n",
    "\n",
    "import pandas as pd # Load pandas for data processing\n",
    "\n",
    "import persist_ext as PR # Import the extension"
   ]
  },
  {
   "cell_type": "markdown",
   "id": "dd81aecd-eebf-4624-b9e2-3a864c474c1d",
   "metadata": {
    "__GENERATED_DATAFRAMES__": "{\"nodeDataframes\":{},\"graphDataframes\":null}",
    "show_aggregate_original": "false",
    "trrack_graph": "ᯡ࠽䈌ʀ匦㢠⹰Ҁ̡䘠烠嘢త〫‥侴ᓬᛞ拐ৡ䚂ద抭婈ހڅྯ䌲⠠䭈⑁槑焳Ⴥ⩦仃㍶๽㰥Ҩǁ#㟢䌰橠ኤРᜰ͐üメ湁˛㾄ָ̠憴)挄䀦栢琭ٮ㍄ᨡ䌤ᾣㆢ䀣擠䢤㘦Sᥧᡠ戂怡ᠬÖᠻ㹈䐿ة׉妨⃓ࢱ̴㖠᫲徤ฏѤƜڣ回㸦ۡ৵ण䃔戊㘠传ϊ緯挡䘌污䕽庮粓㈨ɪⷠ搃猄ᦨ洘㳌ᤪ̪౦繶ሱ澂䘣⁑Ҝഭ炍孉ृÅ⭱䤾ᢠ䆋෭ኀ㠢Ү≱呺Ấ惑汮ᮯ戩䊏̠˙Ɂ⧽憳㈒ṉⅱਊ⥋⃆瑀⣨  "
   },
   "source": [
    "## Data Description\n",
    "\n",
    "The table below describes the different columns in the dataset. Each row in the dataset is a reported avalanche with the location, trigger, aspect of the slow. The data spans multiple years starting from 2004 upto 2023.\n",
    "\n",
    "| Column          | Description                                                      |\n",
    "|-----------------|------------------------------------------------------------------|\n",
    "| Date            | This is the date on which the instance of avalanche was recorded |\n",
    "| Region          | Region in Utah where the instance was recorded                   |\n",
    "| Place           | Exact place where the instance was recorded                      |\n",
    "| Trigger         | The cause of the avalanche                                       |\n",
    "| Weak Layer      | Layer of the snow that was weakest and likely the one to fail    |\n",
    "| Depth_inches    |                                                                  |\n",
    "| Width_inches    |                                                                  |\n",
    "| Vertical_inches |                                                                  |\n",
    "| Aspect          | Direction of the slope where the avalanche happened              |\n",
    "| Elevation_feet  |                                                                  |\n",
    "| Coordinates     | Approximate location of the avalanche                            |\n",
    "| Comments 1      | Comments added by the reporter                                   |"
   ]
  },
  {
   "cell_type": "code",
   "execution_count": 2,
   "id": "8d0e426c-89a0-4813-8994-65ebba3f3a25",
   "metadata": {
    "trrack_graph": "ᯡ࠽䈌ʀ匦㢠⹰໠⬠Ⱓ〨悆æĬ˰ă‹䁮सҀ挩≴倳Ԛ樆⩍璁ࣣ捤䨠ዪन㪌糥擊桒ㆆ槻域℁兀†沨烦ᦰӁĠװ搬W౐ި₏湘အザᥠ¼湨N䣸持㉠Q఩Ⅴ㬸ᐠṬү⋦僃⣐案㲖ᘠ䣠ஃϒᎨ䂨悰㫛ҤݑԴ㇥堣Ⳋ䓡㺨摠៨摖泂ေ氰己ၘ⭬ǎ怩瀠㧎㸜〤㻍䐤己洄ⓖ₡⒅呰Ӕ㬹༾䗢䃣懳⢪⓴ᡒᒤ⏼傖أ礱瑹凩夌㈴䡮䢠挴⊂̥㘯ᙩ䌁Ѳʣ⇱ಆᖡ憐㱞dႨ抄䀪瘪䊇➮◦ᐤ䪸佱䥺╗⇇ᅠ  "
   },
   "outputs": [
    {
     "data": {
      "text/html": [
       "<div>\n",
       "<style scoped>\n",
       "    .dataframe tbody tr th:only-of-type {\n",
       "        vertical-align: middle;\n",
       "    }\n",
       "\n",
       "    .dataframe tbody tr th {\n",
       "        vertical-align: top;\n",
       "    }\n",
       "\n",
       "    .dataframe thead th {\n",
       "        text-align: right;\n",
       "    }\n",
       "</style>\n",
       "<table border=\"1\" class=\"dataframe\">\n",
       "  <thead>\n",
       "    <tr style=\"text-align: right;\">\n",
       "      <th></th>\n",
       "      <th>Date</th>\n",
       "      <th>;Region</th>\n",
       "      <th>Place</th>\n",
       "      <th>;Trigger</th>\n",
       "      <th>;Weak Layer</th>\n",
       "      <th>Depth_inches</th>\n",
       "      <th>Width_inches</th>\n",
       "      <th>Vertical_inches</th>\n",
       "      <th>;Aspect</th>\n",
       "      <th>Elevation_feet</th>\n",
       "      <th>Coordinates</th>\n",
       "      <th>Comments 1</th>\n",
       "    </tr>\n",
       "  </thead>\n",
       "  <tbody>\n",
       "    <tr>\n",
       "      <th>0</th>\n",
       "      <td>11/9/2012</td>\n",
       "      <td>Salt Lake</td>\n",
       "      <td>Sunset Peak</td>\n",
       "      <td>Snowboarder</td>\n",
       "      <td>New Snow/Old Snow Interface</td>\n",
       "      <td>14.0</td>\n",
       "      <td>960.0</td>\n",
       "      <td>360.0</td>\n",
       "      <td>North</td>\n",
       "      <td>10400.0</td>\n",
       "      <td>40.577977000000, -111.595817000000</td>\n",
       "      <td>While it was a small avalanche that was I caug...</td>\n",
       "    </tr>\n",
       "    <tr>\n",
       "      <th>1</th>\n",
       "      <td>11/11/2012</td>\n",
       "      <td>Salt Lake</td>\n",
       "      <td>Patsy Marly</td>\n",
       "      <td>Skier</td>\n",
       "      <td>New Snow/Old Snow Interface</td>\n",
       "      <td>30.0</td>\n",
       "      <td>1200.0</td>\n",
       "      <td>1200.0</td>\n",
       "      <td>North</td>\n",
       "      <td>9700.0</td>\n",
       "      <td>40.592619000000, -111.616099000000</td>\n",
       "      <td>A North facing aspect with an exposed ridge in...</td>\n",
       "    </tr>\n",
       "    <tr>\n",
       "      <th>2</th>\n",
       "      <td>11/11/2012</td>\n",
       "      <td>Salt Lake</td>\n",
       "      <td>Two Dogs</td>\n",
       "      <td>Skier</td>\n",
       "      <td>Facets</td>\n",
       "      <td>36.0</td>\n",
       "      <td>840.0</td>\n",
       "      <td>5400.0</td>\n",
       "      <td>North</td>\n",
       "      <td>10200.0</td>\n",
       "      <td>40.599291000000, -111.642315000000</td>\n",
       "      <td>Remotely triggered all the new storm snow (abo...</td>\n",
       "    </tr>\n",
       "    <tr>\n",
       "      <th>3</th>\n",
       "      <td>11/11/2012</td>\n",
       "      <td>Salt Lake</td>\n",
       "      <td>Emma Ridges</td>\n",
       "      <td>Skier</td>\n",
       "      <td>New Snow</td>\n",
       "      <td>18.0</td>\n",
       "      <td>600.0</td>\n",
       "      <td>6000.0</td>\n",
       "      <td>Southeast</td>\n",
       "      <td>10200.0</td>\n",
       "      <td>40.598313000000, -111.628304000000</td>\n",
       "      <td>Impressive fast powder cloud ran in front of t...</td>\n",
       "    </tr>\n",
       "    <tr>\n",
       "      <th>4</th>\n",
       "      <td>11/11/2012</td>\n",
       "      <td>Salt Lake</td>\n",
       "      <td>Sunset Peak</td>\n",
       "      <td>Skier</td>\n",
       "      <td>Facets</td>\n",
       "      <td>42.0</td>\n",
       "      <td>18000.0</td>\n",
       "      <td>9600.0</td>\n",
       "      <td>North</td>\n",
       "      <td>10400.0</td>\n",
       "      <td>40.578590000000, -111.595087000000</td>\n",
       "      <td>Three of us toured from Brighton to low saddle...</td>\n",
       "    </tr>\n",
       "    <tr>\n",
       "      <th>...</th>\n",
       "      <td>...</td>\n",
       "      <td>...</td>\n",
       "      <td>...</td>\n",
       "      <td>...</td>\n",
       "      <td>...</td>\n",
       "      <td>...</td>\n",
       "      <td>...</td>\n",
       "      <td>...</td>\n",
       "      <td>...</td>\n",
       "      <td>...</td>\n",
       "      <td>...</td>\n",
       "      <td>...</td>\n",
       "    </tr>\n",
       "    <tr>\n",
       "      <th>2387</th>\n",
       "      <td>4/22/2023</td>\n",
       "      <td>Salt Lake</td>\n",
       "      <td>Cardiff Bowl</td>\n",
       "      <td>Unknown</td>\n",
       "      <td>New Snow/Old Snow Interface</td>\n",
       "      <td>8.0</td>\n",
       "      <td>720.0</td>\n",
       "      <td>1800.0</td>\n",
       "      <td>East</td>\n",
       "      <td>9800.0</td>\n",
       "      <td>40.592721660567, -111.649613218710</td>\n",
       "      <td>We spent the day skiing the southerly-facing a...</td>\n",
       "    </tr>\n",
       "    <tr>\n",
       "      <th>2388</th>\n",
       "      <td>4/22/2023</td>\n",
       "      <td>Logan</td>\n",
       "      <td>Miller Bowl, East</td>\n",
       "      <td>Snowmobiler</td>\n",
       "      <td>New Snow/Old Snow Interface</td>\n",
       "      <td>18.0</td>\n",
       "      <td>540.0</td>\n",
       "      <td>4800.0</td>\n",
       "      <td>North</td>\n",
       "      <td>8700.0</td>\n",
       "      <td>41.886233332343, -111.645074831510</td>\n",
       "      <td>Not sure about the story here, but we observed...</td>\n",
       "    </tr>\n",
       "    <tr>\n",
       "      <th>2389</th>\n",
       "      <td>4/22/2023</td>\n",
       "      <td>Logan</td>\n",
       "      <td>Millville Peak</td>\n",
       "      <td>Snowboarder</td>\n",
       "      <td>New Snow/Old Snow Interface</td>\n",
       "      <td>12.0</td>\n",
       "      <td>3600.0</td>\n",
       "      <td>7200.0</td>\n",
       "      <td>North</td>\n",
       "      <td>8900.0</td>\n",
       "      <td>41.677564539953, -111.718065248970</td>\n",
       "      <td>Details are a bit limited and we're not sure w...</td>\n",
       "    </tr>\n",
       "    <tr>\n",
       "      <th>2390</th>\n",
       "      <td>5/7/2023</td>\n",
       "      <td>Salt Lake</td>\n",
       "      <td>Red Top Mountain</td>\n",
       "      <td>Natural</td>\n",
       "      <td>Unknown</td>\n",
       "      <td>72.0</td>\n",
       "      <td>3000.0</td>\n",
       "      <td>12000.0</td>\n",
       "      <td>West</td>\n",
       "      <td>10800.0</td>\n",
       "      <td>40.546874131921, -111.663880335390</td>\n",
       "      <td>Saw this avalanche around 9.30 AM from the top...</td>\n",
       "    </tr>\n",
       "    <tr>\n",
       "      <th>2391</th>\n",
       "      <td>5/9/2023</td>\n",
       "      <td>Salt Lake</td>\n",
       "      <td>Microwave</td>\n",
       "      <td>Skier</td>\n",
       "      <td>Unknown</td>\n",
       "      <td>6.0</td>\n",
       "      <td>300.0</td>\n",
       "      <td>2400.0</td>\n",
       "      <td>West</td>\n",
       "      <td>10000.0</td>\n",
       "      <td>40.589449603656, -111.613240229200</td>\n",
       "      <td>Intentionally triggered during a ski cut. Ran ...</td>\n",
       "    </tr>\n",
       "  </tbody>\n",
       "</table>\n",
       "<p>2392 rows × 12 columns</p>\n",
       "</div>"
      ],
      "text/plain": [
       "            Date    ;Region              Place     ;Trigger  \\\n",
       "0      11/9/2012  Salt Lake        Sunset Peak  Snowboarder   \n",
       "1     11/11/2012  Salt Lake        Patsy Marly        Skier   \n",
       "2     11/11/2012  Salt Lake           Two Dogs        Skier   \n",
       "3     11/11/2012  Salt Lake        Emma Ridges        Skier   \n",
       "4     11/11/2012  Salt Lake        Sunset Peak        Skier   \n",
       "...          ...        ...                ...          ...   \n",
       "2387   4/22/2023  Salt Lake       Cardiff Bowl      Unknown   \n",
       "2388   4/22/2023      Logan  Miller Bowl, East  Snowmobiler   \n",
       "2389   4/22/2023      Logan     Millville Peak  Snowboarder   \n",
       "2390    5/7/2023  Salt Lake   Red Top Mountain      Natural   \n",
       "2391    5/9/2023  Salt Lake          Microwave        Skier   \n",
       "\n",
       "                      ;Weak Layer  Depth_inches  Width_inches  \\\n",
       "0     New Snow/Old Snow Interface          14.0         960.0   \n",
       "1     New Snow/Old Snow Interface          30.0        1200.0   \n",
       "2                          Facets          36.0         840.0   \n",
       "3                        New Snow          18.0         600.0   \n",
       "4                          Facets          42.0       18000.0   \n",
       "...                           ...           ...           ...   \n",
       "2387  New Snow/Old Snow Interface           8.0         720.0   \n",
       "2388  New Snow/Old Snow Interface          18.0         540.0   \n",
       "2389  New Snow/Old Snow Interface          12.0        3600.0   \n",
       "2390                      Unknown          72.0        3000.0   \n",
       "2391                      Unknown           6.0         300.0   \n",
       "\n",
       "      Vertical_inches    ;Aspect  Elevation_feet  \\\n",
       "0               360.0      North         10400.0   \n",
       "1              1200.0      North          9700.0   \n",
       "2              5400.0      North         10200.0   \n",
       "3              6000.0  Southeast         10200.0   \n",
       "4              9600.0      North         10400.0   \n",
       "...               ...        ...             ...   \n",
       "2387           1800.0       East          9800.0   \n",
       "2388           4800.0      North          8700.0   \n",
       "2389           7200.0      North          8900.0   \n",
       "2390          12000.0       West         10800.0   \n",
       "2391           2400.0       West         10000.0   \n",
       "\n",
       "                             Coordinates  \\\n",
       "0     40.577977000000, -111.595817000000   \n",
       "1     40.592619000000, -111.616099000000   \n",
       "2     40.599291000000, -111.642315000000   \n",
       "3     40.598313000000, -111.628304000000   \n",
       "4     40.578590000000, -111.595087000000   \n",
       "...                                  ...   \n",
       "2387  40.592721660567, -111.649613218710   \n",
       "2388  41.886233332343, -111.645074831510   \n",
       "2389  41.677564539953, -111.718065248970   \n",
       "2390  40.546874131921, -111.663880335390   \n",
       "2391  40.589449603656, -111.613240229200   \n",
       "\n",
       "                                             Comments 1  \n",
       "0     While it was a small avalanche that was I caug...  \n",
       "1     A North facing aspect with an exposed ridge in...  \n",
       "2     Remotely triggered all the new storm snow (abo...  \n",
       "3     Impressive fast powder cloud ran in front of t...  \n",
       "4     Three of us toured from Brighton to low saddle...  \n",
       "...                                                 ...  \n",
       "2387  We spent the day skiing the southerly-facing a...  \n",
       "2388  Not sure about the story here, but we observed...  \n",
       "2389  Details are a bit limited and we're not sure w...  \n",
       "2390  Saw this avalanche around 9.30 AM from the top...  \n",
       "2391  Intentionally triggered during a ski cut. Ran ...  \n",
       "\n",
       "[2392 rows x 12 columns]"
      ]
     },
     "execution_count": 2,
     "metadata": {},
     "output_type": "execute_result"
    }
   ],
   "source": [
    "df = pd.read_csv('./avalanches_cleaned.csv')\n",
    "df"
   ]
  },
  {
   "cell_type": "markdown",
   "id": "7cc10d2b-9b1e-46f4-9769-b9a0ac0c9e8f",
   "metadata": {
    "__GENERATED_DATAFRAMES__": "{\"nodeDataframes\":{},\"graphDataframes\":null}",
    "show_aggregate_original": "false",
    "trrack_graph": "ᯡ࠽䈌ʀ匦㢠⹰ૠ㌬Ā჻R〶䁃lyٹ⁓f䍐ۢ䧪㈉◔ฅޡ䨲⠠䬱䑁棒瀱Ⴭ⭱妻ݎẜʤ䐡傠ǖ悃РኤРᜰ結üメ浪巟㈠ᣠˬ⃪$熒‣㐡㬚͇⦲༿⸂໡壡‡犀⒂ଠᎭॣ䥡⊃㡹稠嬸ූᑤඦҡ哹䑀妨䤝͕䀺慽䈩瞤∡㼚ƶ嵖᯦悡檩ǣ᪀畖o#䖊⠃ܑ璌⃥⹾䞌᧒Т⺈ᆡ⇳㴑䒤㒌ŭ᯸丈◡戱⃰潅Ԧ秐噑๦磜疶溂⒀ᒪ扖⋦ူⶃ㧄మྡྷშ⨭རㅸ瘭ǅ爘䅐䘆砠址䑂㥨㈼㹯䕈䓵ᒹ憴婊③ᤠ "
   },
   "source": [
    "## Task 1: Cleaning the dataframe\n",
    "\n",
    "In the first task we will perform some basic data cleaning operations to get our dataset ready for further tasks."
   ]
  },
  {
   "cell_type": "markdown",
   "id": "0eec7bca-0c9c-4608-b987-7396eff240f4",
   "metadata": {
    "__GENERATED_DATAFRAMES__": "{\"nodeDataframes\":{},\"graphDataframes\":null}",
    "show_aggregate_original": "false",
    "trrack_graph": "ᯡ࠽䈌ʀ匦㢠⹰ૠ㬠氤〥䌸瀶䀹䁣๲ৠܦᔨҀᣴ䂼䋃‣ᓆ做►䀳ല⠠䭈⑁槑瀱ᝉ⍮冫㭮ẜʦ䒠ǁ#㕀挸晠ኤРᝣၐüムṁǟ㤉䀥䉸攠ʓ㥀ǔÚ⎃஥䤫䒄攭ᇸ惀Ēいᘦᖠೣ䗫⃂変ⱦ{ఽ咼∪⌤䋵汄ჹ䑈冣ᛠඉⵆܔ⍂Þ⍡歹ম悩溩Ǡ媁疖o#䖓瀃ʅ璌⁅溮杲◒Ъ⍁䔶户ࣉⓢ削౐䘰䵥䌂んḸئԢ灐糕൤㧶ⶬ䲱䅲ᗈ撯ౠ惍䈅䥐属ѣ၈⩍སヸ๗௧焤ᄸ䒰Ž䅰䔉燩壥༲刳樲⭮✈咰ᒄ  "
   },
   "source": [
    "### Task 1a: Removing columns not required for the analysis; and fixing column names.\n",
    "\n",
    "When we print the **df** dataframe we see that we have a column called **Comments 1**. It has text comments made for each recorded instance. For our current analysis we are not going to use this column. We will drop this column from the dataframe.\n",
    "\n",
    "We also have four columns: **;Date**, **;Region**, **;Trigger**, **;Weak_Layer**, with a `;` character in the column name. We should rename the columns to **Date**, **Region**, **Trigger**, **Weak Layer** respectively by removing the leading `;` character.\n",
    "\n",
    "<font color=\"steelblue\">PersIst extension gives you an interactive data table. You can perform rename & drop column operations directly in the header.</font>\n",
    "\n",
    "<font color=\"steelblue\">Once you have done the operations, you should create a new dataframe called **cols_fixed_df**</font>\n",
    "\n",
    "<font color=\"red\">Write code to rename the four columns and drop the one as specified. Assign the variable to a new dataframe called **cols_fixed_df**</font>\n",
    "\n",
    "**GOAL**: The task demonstrates effectiveness of the interactive table, it's ease in performing column actions."
   ]
  },
  {
   "cell_type": "markdown",
   "id": "32306297-3b43-4d46-8313-95f17822fea9",
   "metadata": {
    "__GENERATED_DATAFRAMES__": "{\"nodeDataframes\":{},\"graphDataframes\":null}",
    "show_aggregate_original": "false",
    "trrack_graph": "ᯡ࠽䈌ʀ匦㢠⹰ˣĸѐᦻϐրୣF☡䲩※ਡᱤĀၑ䀦ᆺⵕ暕ᣀɒ㉪2攩кᙼ䉅擊桖㎉淢域ᑡᅀ†浑ӦẰӁĠװ搬W౐ި₏湝〡㜶ᥠ¼湨N䣸持㉧ㄺ奣ᢖᡈ\\䰩ຣ⟆惂䧹夔琴Ī࣠ஃϔ憨䅐悰㫛㢤᭑Դ㈵堣ⳋᣡ㺨摠៨摖棄拑氰己ၘ⭬ǎ怩瀠㧎㸜ヌ㻍䑘己洉䓖₢◄㒜♶ᑚਨ䛤撁∴惘⡰ᑂཊ怰⾚ጥ΀䲌ᇩ复劄䘪䧌挴⊂̥㘯١䄁碂಩⍰瑦֡憐㱞lከ䤠ᗸᔩ亾ⲷࡰ৪ㅍ⍆㓺ᕟ⌹  "
   },
   "source": [
    "#### <font color=\"steelblue\">Persist solution</font>"
   ]
  },
  {
   "cell_type": "code",
   "execution_count": 3,
   "id": "8e333ff3-cb24-430b-a332-733b41570ba4",
   "metadata": {
    "__GENERATED_DATAFRAMES__": "ᯢ粠 ",
    "editable": true,
    "slideshow": {
     "slide_type": ""
    },
    "tags": [],
    "trrack_graph": "ᯡ࠽䈌ʀ匦㢠⹰恆Ĺ⫡䰥〶䁛ਘƀҀᎵ㸠㦒䀹彽㭰ư䂌Ềі擃ҴE䨲ࡔ䱘ѩ䥵傄櫽䯏㽁ᅀ†氤䘾䠤傡%濆※䘸ⷤႶ㜏ࠠ宬᪠Ԅ牠ΈƔڦᡧᧂᎠ汨࠶壡‡犀⒔ཕặ乨摁旤䀡㙐次ᢨlड⻗ࡠ㌰愦䩋U䓀、椭Т簬㴭昡ㅕ䄥帲Χ嚫ၡ嘠传΢搻挬ℍⱣ䖼眖ĸ䒴嗳䁃݅挲凑碘䊒ԴᎮ䥪䝄灐懗搈⟰䟂⢖૽㚰ቐቴ‹慣࠿拐屒ثߘᓄㄢ䇁梬ଭ䄃㢜₸┳戠⯟䠴ᵼ奚អბᱪ侯⢩ⵉᯀಠ  "
   },
   "outputs": [
    {
     "data": {
      "application/vnd.jupyter.widget-view+json": {
       "model_id": "360bbf55ce944aa0b17fd21b39a62e37",
       "version_major": 2,
       "version_minor": 0
      },
      "text/plain": [
       "OutputWithTrrackWidget(body_widget=InteractiveTableWidget(df_column_dtypes={'__id_column': 'string', 'Date': '…"
      ]
     },
     "execution_count": 3,
     "metadata": {},
     "output_type": "execute_result"
    }
   ],
   "source": [
    "PR.vis.interactive_table(df)"
   ]
  },
  {
   "cell_type": "code",
   "execution_count": 4,
   "id": "aa0f3de1-41f0-44e4-8169-2b2d772fd4c5",
   "metadata": {
    "trrack_graph": "ᯡ࠽䈌ʀ匦㢠⹰̠࣠Ⱔ煠㌡ᦐ୯䚜͑࣠ㆺ拐ࢁ䵂⢀㬠⍶砪旭⊩ᐠ▴ሰ瓸礨䦴凇⑱妻ܾ㻙Τ䀡傠ǐ㜃Ҋ′䈤7ưᠠ湐戎Ⴆ寐絠ˬ⣪$疒‣㐡㪦⎇㦲ര浢ࢅ壡‡犀␴;ଵ䧦䇯球碒㨄䌠ⶬᛡ䩂ɡ殌戰ⳤ⒁宦怭㋈ㄥ篢ᄠ彣჻㜡䵫ぢ畤䄁ⵐۻG䀡曑琑䍱竖ႂ㜧Ꭳ˹ȡ኶傂烁砸ڜᄺ㖦ե䇮᎒焘瞬g懘⡋๡䀸縣䧑洎擊∣౱নб姼楆Πᆨ別ե刈☫໢熘İ䉄␠址䑆㢘㉼㹠╉䓵ᒱ偳婽Ѧᤠ "
   },
   "outputs": [
    {
     "data": {
      "text/html": [
       "\n",
       "                        <div style=\"padding:1em;background-color:rgba(250,176,5,0.3);border:1px solid rgb(250,176,5)\">\n",
       "                            <strong>Error!</strong> No dataframe named <strong>'cols_fixed_df_persist'</strong>. Run the cell where the dataframe was generated to create it!\n",
       "                        </div>\n",
       "                    "
      ],
      "text/plain": [
       "<IPython.core.display.HTML object>"
      ]
     },
     "metadata": {},
     "output_type": "display_data"
    }
   ],
   "source": [
    "cols_fixed_df_persist = PR.df.get(\"cols_fixed_df_persist\")\n",
    "cols_fixed_df_persist"
   ]
  },
  {
   "cell_type": "markdown",
   "id": "563eb8ea-66c6-4c03-9c4c-54ea2eb717e1",
   "metadata": {
    "__GENERATED_DATAFRAMES__": "{\"nodeDataframes\":{},\"graphDataframes\":null}",
    "show_aggregate_original": "false",
    "trrack_graph": "ᯡ࠽䈌ʀ匦㢠⹰ˣĸѐᦻϐրୣF☡䲩※ਡᱤĀၑ䀦ᆺⵕ暕ᣀɒ㉪2攩кᙼ䉅擊桖㎉淢域ᑡᅀ†浑ӦẰӁĠװ搬W౐ި₏湝〡㜶ᥠ¼湨N䣸持㉧ㄺ奣ᢖᡈ\\䰩ຣ⟆惂䧹夔琴Ī࣠ஃϔ憨䅐悰㫛㢤᭑Դ㈵堣ⳋᣡ㺨摠៨摖棄拑氰己ၘ⭬ǎ怩瀠㧎㸜ヌ㻍䑘己洉䓖₢◄㒜♶ᑚਨ䛤撁∴惘⡰ᑂཊ怰⾚ጥ΀䲌ᇩ复劄䘪䧌挴⊂̥㘯١䄁碂಩⍰瑦֡憐㱞lከ䤠ᗸᔩ亾ⲷࡰ৪ㅍ⍆㓺ᕟ⌹  "
   },
   "source": [
    "#### <font color=\"red\">Pandas Solution</font>"
   ]
  },
  {
   "cell_type": "code",
   "execution_count": 5,
   "id": "4b15449b-4ead-4e30-b779-dd88a7169454",
   "metadata": {
    "trrack_graph": "ᯡ࠽䈌ʀ匦㢠⹰໠⌠䰥〰怶ᨡథ僥ഽ䘈⤃Ц怳䀧᢬͐皆㸌林伲⠠䭈⑁槓狳Ⴥ⍤䆫᭮滝紤䀡傠Ǒ摃߂′䈤7ະᠠ湐懎Ⴇ᫓〸怢扏⨠Ꮓ䤠ව׵樋涬䠠ٽ߀✲晠޳Ł傸⢬穌ਜ਼̥̲䗰˸慌㣢ြᡄዒ扁ݬ↦用ᘠ歲也叄ᨰؕ欖ᨠ晘ཫɋ㱄ܠ榦噸Ŝ.▷㞬ϳ囑Ĳ㣹沐⛨ၑӃਦᖡ䚇㇃ࣰ⢘癊⌮㢱䌬擁捼倬ة礀ᐯ۪墌ሤ䘤䥍ͤ㢂Иᚇቩ䌀в๩⍱㒅ᖡ憐㱞n愩焠ᗿ搩๎ᒫඳ䢘抮䊁ঊ⥓⃄䂣ဠ "
   },
   "outputs": [
    {
     "ename": "NameError",
     "evalue": "name 'cleaned_df_pandas' is not defined",
     "output_type": "error",
     "traceback": [
      "\u001b[0;31m---------------------------------------------------------------------------\u001b[0m",
      "\u001b[0;31mNameError\u001b[0m                                 Traceback (most recent call last)",
      "Cell \u001b[0;32mIn[5], line 1\u001b[0m\n\u001b[0;32m----> 1\u001b[0m \u001b[43mcleaned_df_pandas\u001b[49m\u001b[38;5;241m.\u001b[39mhead()\n",
      "\u001b[0;31mNameError\u001b[0m: name 'cleaned_df_pandas' is not defined"
     ]
    }
   ],
   "source": [
    "cleaned_df_pandas.head()"
   ]
  },
  {
   "cell_type": "code",
   "execution_count": null,
   "id": "77dc5ff1-bd9c-44fe-ab9f-454e3341195f",
   "metadata": {
    "trrack_graph": "ᯡ࠽䈌ʀ匦㢠⹰à⌴桋ୈΠⴠ㘡ᰢదᠰ֭f㨫ổȢㄶ模沔䯷ൗተ¶⡨⇲ㄇ晎╶䆳஖乜簧匨ǁ#㍇⌿㉠ኤРᜰ㵐üム湁Ý㮄ʠ׈终GᎲ;‫号桘䲰⢚ੀ夵䘪/ጢ⇂䤑屈∼๕ไ+ㆢ妰䑠撀䠪嗈䈣᢮௳剸ǌ▄®桸‷柃梈ƺ⣌ࡍࢰᱝ☪喀ԐX᝼㹐ਮ䫤ᑹ樏㍅ᭀ䇥ሴ橱吻᪬䛠Ⅻ惠桨䓃ɚ⣾਱猪ᮁ墔ᐯ#ᢀ㈶ਆ⳶ூⲱ&⑰戠Ռ᜴䆦憐䉉ॡ刈䙓ڥじ⹏࿤ঔ⼠଀तݷᩭ䗨磥Ⴒ傲檒㍥♂䀠 "
   },
   "outputs": [],
   "source": [
    "cols_fixed_df_pandas = cleaned_df_pandas.rename(columns={\";Date\": \"Date\",\n",
    "                                                         \";Region\": \"Region\",\n",
    "                                                         \";Trigger\": \"Trigger\",\n",
    "                                                        \";Weak Layer\": \"Weak Layer\"})\n",
    "cols_fixed_df_pandas"
   ]
  },
  {
   "cell_type": "markdown",
   "id": "b7ded8ee-7828-494d-afeb-8f5b5b5595f1",
   "metadata": {
    "__GENERATED_DATAFRAMES__": "{\"nodeDataframes\":{},\"graphDataframes\":null}",
    "show_aggregate_original": "false",
    "trrack_graph": "ᯡ࠽䈌ʀ匦㢠⹰à⬠氤瀹䂃¦¸˰ҁ①าÐɐ໦䓊禳Ӧ攆⩧琫樁拄䨠ዪन㪌糥效桖㖎槻域℁兀†沤挹䠤傡%梄ؠᮬᢛ䑁圌ḀÐ乒䀡ᵼ䠠洠⺱壹溄䅢ᨀ䈩㙐⠠㲸ब佄⍦儂ト桦{్䂼∠⌤䉶汄ၹ䑨凝۠ඊ⡂ڗ䉂Þ⍾捠ೠ䞫づ㕤䄀൐櫻G䀡擑琑䈂㫶ဲ㜧Ꭱ˹ȥᆲ冲椒咃ᨼᐱᒶ䭢䇡Ᏹユ僌䘼ᚦᩐ挬ദ䌜๵䎃ᅄ〴䦈᥃䌰ࡃ㏙㉬ᜨ⊰ᒊ຤惐氮ண成ɁѦቄwၤቘ㲒㙑⏤咤窤䫳䧚ᕄй  "
   },
   "source": [
    "### Task 1a: Removing outliers in the records for Elevation and Depth\n",
    "\n",
    "Below we have an interactive scatterplot with `Elevation` on the X-axis and `Vertical`. We see that there are some outlier's in the data here, possibly incorrect data input while entering the avalanche instance. We should remove these outlier before we proceed with the analysis.\n",
    "\n",
    "<font color=\"steelblue\">The scatterplot below is an interactive altair plot. You can select the points in the plot using a rectangular brush. You can only have on brush active at a time.</font>\n",
    "\n",
    "<font color=\"steelblue\">The extension tries to help you complete the selections faster by suggesting algorithmic selections based on your initial brush. You can look at these suggestions in the **Intent** tab. Hovering on any of the suggested selections, highlights the points that will be selected. If you feel one of the suggested options fits what you wanted to selected, you can click the checkmark button on right of the suggestion to apply the selection.</font>\n",
    "\n",
    "<font color=\"steelblue\">Once you are satisfied that you have selected the outliers, use the **Filter** button in the header to remove them. After filtering out all the outliers, you can use the generate dataframe button in the header to create a new python variable. Create a new dataframe called **cleaned_df** and print it in the next cell.</font>\n",
    "\n",
    "<font color=\"red\">The scatterplot below is a scatterplot in seaborn.</font>\n",
    "\n",
    "<font color=\"red\">Remove the outliers you see in the plots, and print the final plot.</font>\n",
    "\n",
    "<font color=\"red\">Assign the cleaned dataframe to a variable called **cleaned_df**</font>\n",
    "\n",
    "Abstract: Remove outliers/cluster based on a pattern"
   ]
  },
  {
   "cell_type": "markdown",
   "id": "dabfcfc4-9178-4f2e-8d7f-2c0c19d95cc3",
   "metadata": {
    "__GENERATED_DATAFRAMES__": "{\"nodeDataframes\":{},\"graphDataframes\":null}",
    "show_aggregate_original": "false",
    "trrack_graph": "ᯡ࠽䈌ʀ匦㢠⹰ೠ↺΀Ơ瘢ᠢᠫ‵䁇ፉ䐢怣侽振ၑ䶃᪰঵䂆⹉多䪲┠অҤᴶṂ㊵嘊᭓ㄅ毠㒰䣑Tဠ㚉҃೨ɰ䂠̂҆;䘸Ϥၗ眼䋐Ð䬹†于␠㚠ᝨ沂烒⎁൸憈㬸ᐠṬү䓧Ⴠ椓ᣘ⌚ᆠᛦކ䜱ǁ䅀㖖नຂᩈ桫〦塵偢㶱⢠⾱䂅埦䖃塀㪂ₐ暸ᵽ䀳怠煼砤慸㴻ࠩ㯏姭ঌ䄢䣫䧙㱈刱ㄿᬦ䩫⏃㌱楫磤ⰴຣα晼ਫ䎁㺕䮃Ⴤご䖂᥂挰ы゙㈬ܠ₰ᑊІ僑汮ޯ戩䉱៪怡⹁ᡤ甑擸抯॰ᡬᅓ╄璚╄㈠ "
   },
   "source": [
    "#### <font color=\"steelblue\">Persist solution</font>"
   ]
  },
  {
   "cell_type": "code",
   "execution_count": null,
   "id": "b1869f38-1566-4dfc-a8ff-479bfc15e9fe",
   "metadata": {
    "__GENERATED_DATAFRAMES__": "ᯡࡑ䂌઀䌣奠ጣ田᧒䁮͘ӓ怫䐠峃噮ఢ泇Ṕ碵⇖粭ိѤʘ櫰ጮ⚦Ⱦᑾᰡ盓䖰੄〩怢挦䀵䧀ᆠᚠᶱའ㌡窠㘠฻͗⫡సɐʂỺ痊練㪪垬*燡慡愴烒䑈ኪ䲤҃㍣ᯘ悌倦&๴ݒ挧呑䏚唫ञ協ᐹ䤱ໂ؀ᅦ炀惤ɹ᰾Რ්ٴㆣ哰嘊㊣ሶ㋵▆䎓⃺ᇆ傈瞗⯂۾匭嚉̳秐⌱ᢂ̠៻䑘䤤礇峌て䘓ᗊ沊ඳ˒䆠฼䖆䈈娼䫣爽䝳䥅፡ᵣ䀦炰䈬Ԥ\"䗀ᑷ⏶↊⡉٧痬派ⷧᕴ睖䀥欐U⸫匠⑪ᰬ Ⳁ㺩Ꮆ烬㌾䇀ĉ婁⚷䥪空✂ĩ械Ḱܱ㈼ᄂ⇋棡䐢ৠ҂␨㧀шȨ䌒㪳⳿㮂偼㯇2㼾ᰩ柠ࠨᆠⅇ⋀ɱ偕庌スᰫ᛭㓙ẁ旨竭䙟ࠍ䉠⃵潩q࠺ᦍዬ犟ᕩ吉绀屏⣥঑㵎炒媌嶽㢐Ⴞ৮₁䖋⦑憓愍戦ಲ埋乄祼̹➄夌画䌦堬㴷䀭㦖㒾䖃✵፤߼ᴰȤ⧴㬸夨⩡ާ篋䎱䄰Ჾ䄨ᡊ嘅䥻㻰ᴻ䫃梞੣䧴ᆥ⼭洸㋈䖘⺆䗨⠧㐽㹈▩㽤ㄔ㚠ᓌᆮ灥㪪儨儼⍴ᵈ方ࢣౙ㝉㘙⬌ϴ㖎ᔔᦇᐵᐶ㑵᫁啵ѠᥠỀ㔸㇊㗭◊൤淃䑎⏌璩ʎ甀⟃疗〈䲧ᢏ㥃㒁ǹᲇ榢⊼劲⪁Н᪼ී᰿౩㨹䏐渿䉨玶⍩ᆠ抸涀治ᚋ慻㮉浀剫涐ă㱧ࠪ儰໢祾⹪兒▭催⁈糡ƭ兴⮪磀Ẫ煼ᆤㅼ⪴䨗∋憯⨇䔀؅㵌峉ƀᰮ瀰弡䇸剨氀ୱ⬤ᴢფҥႄ㲨偂䚥冔ᠨぬ㦩ㆌ㶨熼ᮩ燜⾯焢ʆࡂᑭↂ㱡ੲᩡ䦆Ṡ⢪७ᷪ╭⤔ⵯ⧂卢棺ม槊碻㱦ᣡᣆ೭䠨䋤塶᫡壖໧堮ᦾ䳠㧩㤧ᷨ愾㏪秾ᦩ祌⅍Ḟ⁃ㆡ㨦ӰхӁ拍ͽ㖺檰䲲䉽æ⑉⦆≠㚹⎔沃∦㽉ⵥ㌹ᓅ㐋ᖘݴ啘杭掘⛇扩¿唭ࢳ㑞暸惉畷፽⊄厳ቫ瑩䖳㲵剢杹᭝␃↴䳝ল⩓▻ͱ඿椫ㆉ┨妍恋Ⴣ枋㽜緜率狻ޅ淬灲竢儁૧Ԅ⫎洎切⌌嵷㚮嵗჎ʮ࢒ê渤㱯૎㲲☍㱃帀粿అヿ㐂燴᠊傟㚧簠吤ɠ堽㛩牏㝉璺坰䃡䋐婘爨玼⊹凕␔杝戈挹牸嵆挈⥚ម伵嘘滋ឤ漩匵撼圛沰῭曙㙠໙俳㪱ኍҁ⎭庱柯熲Ŭ丘ඍ亏㘫ᄐ犘♝揰䕼庚᢭ㅏ῕礰ࠒ℄ૣ䘼ሾ൞䥁⊬⣠ᱱ搤埐甬䫉⪁³ᗒ吩犡⤵㗑枕⃊紆㱝୵垶⣎ࠠ ",
    "trrack_graph": "ᯡ࠽䈌ʀ匦㢠⹰ৠଡ䘣ᠵ䦢ᠥ倮抿ì䋰۠ζ懔僸愡ఢ㌳不咓ڪैkヤᄉ夐ㄵჅ❡䦫㭎ẜʤ䀡傠ǐѓㆠ㒤2䈤7Ằᠠ湐戎❻墑䀢橀樠Ԋ牠Έ䆩㑐ᲒㄦƣΧ዁䄹෸洄ᡢ#ᚧᵩ৩䍰炑㑀}㺡姬撣俰挥ඌばᠲἺ䊫♀᠃৩咈粝M䘶撂ᄢᦢↇ㛂ࢎ扈㫄ۣ〦婭ഢ箁䪠⿞䤕㖤ュ塂㟖灋ᢙ涠ᏠĊ粵磠ㄖ侤੃㠼✱了⁠焥䆣⃐⠧ڢᡘ䉛┲偰樶໢憈⠺ጢ恘฻ԥ僒⌮Ā緞填⛱î暞䤶䖂磁ࢶ⓰哚⛤旒㲡⑱ᓪ઴ጬ䣹ᢼ₲⒨幺↲斒糁⾳௪ݑ䪄䉠R䳯秔倠 Ե嗡嗚性榀〹䳰p⡘๧ፖ氰ᧃ䅠值ภӅ棭:䘨ૌᠨ⻲؜灷⯳疻撒ἢ䂦๚吹ᇡ䛛寧瀥䄭居̰〼墶䄁уᾪ䚀᰼㇚垐塌݄㎱㑖୕䅵穯䤊珘剬ᜠ₰摪گ≑䱶Ꭽ挐增ၬᅔഖ䯃樔́彈ᢐ匹亅ٍ䭶䶎⾍㬨Ą㢽༫䆍ຨ㝛䈅專炑̠ⵎ抈ṰԠ⁳俀wᠡͮ㰌祺࿪Ɖ࿢ŧⶫ烡цॠЩ硌ど禬ت硧⭣灌/⍢㡡䚣桡㗈䖥柣҄䙃⒙ࣣᑭথ穘ႃ桷Ǩ᱕ɑ䐮Ⴡ吡ឤ亣㛁罃Ϩ倶ߡ堡☀䳎䞂ᘱ䊡寏ැ咄䛂䊃࿃ᙴዕ乍矕ຬ挩滇嗱绀㇡孄㔝ㆡ䞬恂㌩൚㓬栠ρ䔘ࡔ穑㼧᲌␠ሚヨ㢸㓩ôⰢᣳ૪ㆥ䟴њ⽬䠦⣫╔㨀䃡ᝋ慀ᘭ࠳䇢惂ೢ䃟否㗍⋥奖伐㩮廢㑞ᬗ咲 磲⾽ٸ⋄ʕ¢掙ᣮᡆἾ̶ᇟ⯜䧎䢘♻べ痓㊤ᝑ叙⃺劤ოe೺ᓥᲢ㄄䪼玼嵑ᒑ֥ᑱፆ䗐䂺נἮ槱䅂୹桭慦⅟㔭羰ଢ㜲愲଺⍮撡⏮攩㧈嗳₎洸⏞歴㠀矲孶嫾婖ቪ䂀囱⒖ᰫ外㻠㭓禪⢠આ奂檉姳ڝ宄任嬖绰㤊ጴ㕸ᠲだ᜼歑፽冺ێⱀ紷ᡮ曀懔䋈㠘₤ኌ⤠⥠ᐻ寶ᐶ焄⨳᏶娷΄琠⥤ᰶ爸⎌凬塮ᥣ䯪ṯ䣊ⅽ⪪劻⤎咴氎䐷吔䆺䐀娯䳀珶㏬毮揹篿≞柸灁䮳箞箪ҠV̡䝧篬硑烡㡒מ翥燜⧂抁汌๢傸咠悾Ⳙ哏䖹翐༣㩁ᕅ乎ⱋṜ喹䫚囯俘㹏㈗疹ⳇ៏≁㺯῝ឹ炕瀿稄䛼☜㲅傄Ƚଷ》姎㴯ᠺ綱渔簩䠜耉ㄣ〻䌀㘠氼ࣘ栾䃰ᶡభȰメ悟䎀੥䀹䵠濳番䠘梴ʨっ屛懊䤡ð⾀朻ㄞ1Ĩዸ㉒๩ͦ夯႓䓁வ⁷ͣ坆焈ㅓ周℀矢䄆榌㤺涍廻䡃孛℥㬴ຨ侍皼慀曬䥤㱤〽姀ϔ〹ற瞈兦⯈㋨桸哲ⵕ切㽶㨷♀簣䃾䰉⌸䁘ᑐ⌴㍍᾵⶘٬䜶㓣ΰ栮妣ݐ尾ㅷ㹶ᙃ㍌ァ࡮湠ᰨ恑Ᏻ⬵ĸ㸢ဴⅠ㮈䔍ྡຫᄬ䴣ݏఛ֡獊㑲媂沍䵠䳥䷥嶹ܬ㭁❠汤牜ᔋ⁘ऱ㐳ᵏᐠ玪愰厑沝䑘挆渿䶑㜢嵦㫙¨௷ᑄ㝟揊ᜂ⹵懼傮䕄ߙ⢿㫵㰔澃癒吇䄤ᮉ崲籟䰚澮篿ន眨㙶噎竧᨝屧ˬ候ῄ䇐ྂ䁧偈夸竌ڠⅶ⋛ỐݞŚᅣ⁊惡ᮽ䅇捤俹牰䐠窵䙙㮥ћৠ崬焼ش栠ᡉ㊴͇䰈ድࡿ᠒䃉墭2䅜ᕂ䌈奀竂姩兝爂㾱আᕵᡙᓪ伛⣊砪䀬汰ߊ䛏儓⛵㕩⯚勥⺕䘭ࠥ硭僐৏僛ᖁ㍵⭄ິᦗ䚋㛎൅䆶淀㕽柔ᑓட·沑ᘴ⥏ዊ⫅ᩲ㪣۫㝪ᒩ㨊庪ឝ⽈传㈦ႄ稟汄ᘶ䏁圩ᵵ埣പ⌴㒁⧬懓䣀஥↷ᵡ圶䆎ິᢞ੠爮粱ڣख़Ꭺ୧劆⠚๨ࡒI皥å᥈⩆娲⥅ԣ㗄䙯Č䱀岾浐ࡲ巊ⴕˣᆨ立⯯ᤕ㒸䭽囯瀁⿰浫ӹ噿宮⩑࣋㖱ऽ兲ᯂ䡖⏔㹤㶬ƛᆶ㑸珼皸㳩檼癐ᐚ㭙ᙎ㥼斔ᜩ䶜ⶮ籷ؙ㍗碾ဪ毈ࡗ⮓⳸ᕹ㟅姨⧽㭸斛乕๦礿㷭Ὡ皭ᨎ祘㣛彃ᓅ㑷柉ෂ漖攫癃䐍⌱冴俦狘䜙䤍૦惉㽈擃宵祔ㆵ㽆⫄ც栤䩩⹡嬦ό㢠沄ơЧƤ㉨恞*ㄢĞᨅ昁䨷ኈ䑓ੌᒧ䢅׍㔬⍚೭䧣ၓ䦬汀宑䮤䮏Ӵ֌⁔Ƅ∃〳䓣皕䐓✺㢑㐳⦊㒈ᐨ㊽ᔑ᝻ϕᎱҕ㊋㘄䞊ᓆ∠  "
   },
   "outputs": [],
   "source": [
    "PR.vis.scatterplot(df, \"Elevation_feet\", \"Vertical_inches\")"
   ]
  },
  {
   "cell_type": "code",
   "execution_count": null,
   "id": "dd983671-c649-408c-8192-ccd8235ca071",
   "metadata": {
    "trrack_graph": "ᯡ࠽䈌ʀ匦㢠⹰Ǡ✡䘤㇍ĸހ୧䁣⤣ᢨˠඣ٤倡䆑嫆ㆪੰ恋3ᾴተ¶冨⇳㌄ᅎ╮䆳⮖份㰧ڨǁ#㕇䌰椨EШNဦ〡岁䏾仗㄄̠ט憴)欄䀦栢琭ۮ㍄㌡䌤ᩫㆢ䀣擠䡸婔ਡ᦭š⠅᠐డ㙐孲ᢨᒬण⷗ࡡ㌱ᄦ㰻U䋔䐳漨䐢簬͍S⤦ᛡǵण䍔愋㘠传ϊ穯挡䈌汣䓽幮劓㈨ቢ憭Ⓔ䈫⥩ɤ㒴భശ䥒ⒹⅠ漸ኈረ硈ޣʱ粏΍嫽䥴䐢ᣂ挰ࡃ㏘㉬ܯ䌰摪گ≐ⱖࢡ憐㱞ࡢ᎘ᠠᗨᄪ仲ⲷࡰ৪ㅍ⍄⥺㕗♥  "
   },
   "outputs": [],
   "source": [
    "clean2 = PR.df.get(\"clean\")\n",
    "clean2"
   ]
  },
  {
   "cell_type": "code",
   "execution_count": null,
   "id": "947802d9-d4dc-40e6-aa5c-b41fb632ea92",
   "metadata": {
    "trrack_graph": "ᯡ࠽䈌ʀ匦㢠⹰ࢀ㬴΀ೠ挠㣀୫䀶,ᒭၺ∤煫廃箰ᖠፇ勷㛙C੄倡ᙰ䡣冃摂Ⅺ䛞ᵦ曌ᷚ簒र͢&抰♁咠┨ࠠ⹀ڀǘ憣屢֖绨⸠୑䍈3䗩-倥栺಼晨爣⸨┦挥'䦡အಸ稵㥆᭟Ꮶ䁐˸悌⋨楐⑕⛬℥䱤䐺׌ö犴ၷ㱂ါ灓畗ぱ㡖і周ั匪ᄡ堢㰠๫睟౎௝ㄦᖖ穘凭㔲⥒㘴ޥ৤⍯惣⨈㡤䆌㲬ػ෨ኣ瀠㌬ʧ㇜㗆斖╲ူ漩ౠ⃕䜆䡐ᰡౣᅈ橍âへ㘷ੱ榤潎%㤤Ↄ巣ႃ犌⥧䗉ӭҰᆲ䍀  "
   },
   "outputs": [],
   "source": [
    "cleaned_df_persist = PR.df.get(\"cleaned_df_persist\")\n",
    "cleaned_df_persist"
   ]
  },
  {
   "cell_type": "markdown",
   "id": "8225e3b1-7cac-4533-96b4-5ae5f135946e",
   "metadata": {
    "__GENERATED_DATAFRAMES__": "{\"nodeDataframes\":{},\"graphDataframes\":null}",
    "show_aggregate_original": "false",
    "trrack_graph": "ᯡ࠽䈌ʀ匦㢠⹰恦ĭ⡛ݰᚫ¼¸͑瀥䀣.㦥⋽Ḣ壐Ҁධ䯄怬槸傲⠠䭈⑀楐熇扆⥶廃㍖⹜紧Ҡǁ#㝮挰橠ኤРឝ椠湐愎Ⴂ巟〸怢晐樠Ԍ牠ΈƔڦᡇ㧂ઠ昌ཡ壡‡犀⑴㝉ʧᷥ䕡偄䀡㙐ᮔ⢨ᴬथ⧓ࡡ㌰ᄦ皋U䳝࠵欯Т簬絭纔ឭ䄭夲Τ㓠檌¾'ዻ埦؅歸䆨希༈㤑Ⓕ䨪仮撾ၱ燸幰簪శᲦ䅮拤㴪ખ⡚ౢ戌喦敂⒀ᒲ摓䉦၀ⶅ㧄ౖ஠ၨ牕ݣ怸♋Ǧ熘İ䉄␠坠塄㧘㊔㹩䕈㣵±匳婒␤ᤠ "
   },
   "source": [
    "#### <font color=\"red\">Pandas solution</font>"
   ]
  },
  {
   "cell_type": "code",
   "execution_count": null,
   "id": "34c94f8c-46b7-4050-9c92-0d8edcf2176a",
   "metadata": {
    "trrack_graph": "ᯡ࠽䈌ʀ匦㢠⹰àㆠ氦ムํ‶䀹䂖lᤨˠᖠ✱¬殴⁣୑ᥣ⵸㏷剪2攩њ㙜Ʉᓉ橔ᆆ桳䵗⾞䇢†浘戼䠤傡%戠映ᮬ᡻䑁ᚍ沣‡㔸㔠ʖ㥀ǔÚͣ⏉䤥䘯㍸惀ĒいCၴ佧敂掲Ӑؠ嬸㗛Ѥ໦Ң坺䑁ᦨࢣጵ䀺晾搪疧䈡㸦㻆煛ഺ悦沩Ǣ᪀㗶o#䦍氃͢痌Ⅴ⹾ޖ᧒м⥈慥厳烓ѹ劊ᘭࡣ࡯⏧㏊ᣁᑢ㬫ᒹ㳋۲⑨惩የ㖤䙀⁪斑Ⓒ฿Ɂ䢴ഡ䚂堼ᜧ䐀Ѣឭ\"崢悱朆䣱㥆ᣁ扴㲚䁮榩愰搠 "
   },
   "outputs": [],
   "source": [
    "plot = alt.Chart(df).mark_point().encode(x=\"Elevation_feet\", y=\"Vertical_inches\")\n",
    "\n",
    "plot"
   ]
  },
  {
   "cell_type": "code",
   "execution_count": null,
   "id": "fe1223bc-7d6b-4051-bc67-11bbb3b3e7c2",
   "metadata": {
    "trrack_graph": "ᯡ࠽䈌ʀ匦㢠⹰ڃxʀ࣠瘢ఠ瀫‡䮠映泥〱䁑墡ᰮ෸战⣐戉⭔杫䒴E䨲ࡔⲘ䓪⣷劊滳寏㽡懂†渓ヤẰӁĠפìW౐㮨⃎濹Ǝᢅ\"㣙အ娠崣↳䳩੠めࠀ沀倠祐ሽၽ䩥⃇ኃ᧰ؠ嬸ෞ౤ྦҢ哻䑀妨䢣㙕䀺晿䈪瞤∡㸦㻆䩞Ʀ悦檩Ǣ᪀㕖o#䦝栃痌⇥⻾䞜㧒вⵀ条Ⅳؑᣤ㓢్ᦪ䊬⛡∱₾え☧ʢ࠴ి\"姜喦斖╲ူ撩ౠ⃕䜁䡐ᰡɧᇈ婆࣡ヸืϣ瀤ℨ一〠址䑄㯙㊌Ⅷ䝉ӵұ厳婊㑤ᤠ "
   },
   "outputs": [],
   "source": [
    "cleaned_df_pandas = df[df[\"Elevation_feet\"] < 15000]\n",
    "\n",
    "plot = alt.Chart(cleaned_df_pandas).mark_point().encode(x=\"Elevation_feet\", y=\"Vertical_inches\")\n",
    "\n",
    "plot"
   ]
  },
  {
   "cell_type": "code",
   "execution_count": null,
   "id": "bd763e37-8caf-4219-b8b1-e1b9ff791146",
   "metadata": {
    "trrack_graph": "ᯡ࠽䈌ʀ匦㢠⹰Ҁ㬠氤瀸暢ఠ〫‣䆠映曤Ƃ劭䞉池䙖栤懥Ì䱰㢁አӒ䉢ົ༱ᥪᬕණ᫐看恃ࡨ䀺ࠠᮜᑑۄň⁠ƑS-挬༂ࡋ尖ₐy䘹†乎␠㚠ᝠ梄獒∰ಐ∘ᬸᐠṬҦ曥ᇂै糔㹖ⴡ䀶挣㟥ࢣ烡ჵ᭑жㄲႂ䛐ͻ䰐䇽炨䁏䃿峵⟡惸ᇺ兀㡆䣒Ц怩瀠㭌綜じ溭䐸嗻椏䝑Ⱪ⒑瑰⹺㸷᢭ᩣς悁ᣉ⑰枸ᔷס⃀別̧愘潚旖嶲咨౔⍦ူⶃ㧄䱎aᇨ樽â籸癇ϧ焤慗䎠ż䄰䔎烨夙᜴倳⩊ࢱ劳婽Ĵ  "
   },
   "outputs": [],
   "source": [
    "cleaned_df_pandas = cleaned_df_pandas[cleaned_df_pandas[\"Elevation_feet\"] > 2000]\n",
    "\n",
    "plot = alt.Chart(cleaned_df_pandas).mark_point().encode(x=\"Elevation_feet\", y=\"Vertical_inches\")\n",
    "\n",
    "plot"
   ]
  },
  {
   "cell_type": "markdown",
   "id": "0fa413fa-c1e8-4c9b-a6c1-d99240948a75",
   "metadata": {
    "__GENERATED_DATAFRAMES__": "{\"nodeDataframes\":{},\"graphDataframes\":null}",
    "show_aggregate_original": "false",
    "trrack_graph": "ᯡ࠽䈌ʀ匦㢠⹰࣠✴ƀචآ൐ୠᣠ⭎¸䚀ᶥ<⋵攴≲䦆ᨐ҅䁲䥈kᑄᄈ夒ર囇⣹嗛➎帣ᢤ䀡傠Ǘ熠㥀ॢȠா䠸ᢀ㜰䁾巒•橀樠Ꮃ䤠ව׷核ᱬ䣘紲₞૦Ԡ޳ŀ凐栠晬╍ಲ䖽䂇栢沀團ᄰ㸸ሪ喊Ⴇ♁䐔粶ᦞΎ刺ࠥ簉窺簲ᖢොሧ҉䃵ⰡḠޅ毗䘤䗾墥୚渍磆搰㣄䆯䌭䊣ᎄ䢩妈䪑䴹ҩ䋫◂რ⢒ઉ⃁⽌囦媍ኘ垤䢠䍤⒂Йᘷ੡䄀҂Ქ⃱琿啡憐㲞ၯ䌨焠ᗿ搫໎㒫ல熪Ņ⎃ऺᥛ⃄ᅠ  "
   },
   "source": [
    "### Task 1c: Filter out old data\n",
    "\n",
    "Below we have an interactive barchart with data aggregated by the year. We see the `Year` on the X-axis and `number of records for the year` on y-axis. For the two years before 2010, we have very few records. We will remove these records from our dataset.\n",
    "\n",
    "<font color=\"steelblue\">The barchart below is an interactive altair plot. You can select the bars in the plot using a rectangular brush along Y-axis. You can only have on brush active at a time.</font>\n",
    "\n",
    "<font color=\"steelblue\">Once you are satisfied that you have selected the years to be filtered, use the **Filter** button in the header to either keep the years or remove them depending on your selection. After filtering the years as instructed, you can use the generate dataframe button in the header to create a new python variable. Create a new dataframe called **post_2010_df** and print it in the next cell.</font>\n",
    "\n",
    "<font color=\"red\">The barchart below is a barchart in seaborn.</font>\n",
    "\n",
    "<font color=\"red\">Filter out the data points as instructed using pandas.</font>\n",
    "\n",
    "<font color=\"red\">Assign the new dataframe to a variable called **post_2010_df** and plot it the same as the given barchart</font>\n",
    "\n",
    "Abstract: Filter out data in a range"
   ]
  },
  {
   "cell_type": "markdown",
   "id": "6bcfeda1-1d9a-4e71-be38-290d66c0dc7a",
   "metadata": {
    "__GENERATED_DATAFRAMES__": "{\"nodeDataframes\":{},\"graphDataframes\":null}",
    "show_aggregate_original": "false",
    "trrack_graph": "ᯡ࠽䈌ʀ匦㢠⹰ಀ㌠氥ロʐĀ୧䁆L㒯ጠء汤ѓ懙檀ࣣᓌ⻵(怬撴E䨲࢔泙Ѩ⥱傌櫽䛗⾞⇂†沺ӤẰӁĠפìW౐㮨⃎濹䠡㜸㔠ʑ㥀ǔÚͣᎹ䤶䂂䘪ヸ惀Ēい✦༭๪⟅〶䤐ؠ嬸ඳ౤ӦҢ哻䑁ᦨࢣ⃕䀺晴搪疧䈡㸦㻆炳Ԧ悦沩Ǣ᪀㕖o#䦝抣熡↕噁拎潧ፙ夤्ោ熁⁐⣢ᑂ㵐䬹繦禢ဲ县⑬⤣Ȱ࢘⴬䊰ೋۺ⑨惩የ㉤䙀⁺掐撸฿ف䢴ܵↁ堼ᚯ䌦瓾ਠ֢֔掶斯䦑┡ᣢቔⸯ٨ࡤူ搠 "
   },
   "source": [
    "#### <font color=\"steelblue\">Persist solution</blue>"
   ]
  },
  {
   "cell_type": "code",
   "execution_count": null,
   "id": "6488acb7-e239-4d7e-92ef-3e9d74c3d823",
   "metadata": {
    "__GENERATED_DATAFRAMES__": "ᯡࠣ䈌ഀᜧ栩䀦ĸ䮠☣᧬ʸʒ䁅嘰ƒ䛮Ĭ˹烜㔓፳༙െࠠ㑀ᠢ㸈ᬰِ勧…支ࡡШ磤᡹〦〣㈂怤㛰ૠ୥䀥䀳䶌猅结䍸䧕佹ᥧ‣䷁᫻↣皂੨żФ㰺㰭ȣާñ〣塬瓉ᐴḾ೵ᢷ㓕⑃䴬⢶䍓ḯ䃃ࢀ滤䣂ѡ䓑䉚⒬ᢢͥÀΊ䁳摀䥫ᘦĲ杠䛎؄涔壮ⰿٕ⃡¨㘮樁桭ⵐᆜୄ婎䌬急砨䝔掔浩ណ䖌憽列境㕲㌫杣偌Ὁ⊡ᡐ␲Є䱮㏓ٔ⤄㱗⫰ý犐䤺ΤどѨ㠰瀠Ѻ牦ـܩ͒傔䨠ű䏨ᙬဣ僢䠠୵儀倬䍙䩢奂䝋丅м㳾䵣ׂ棓䦦◴樽斵ᦌ壉ɴ禜樲搵敺拂⿶Ⅶ曛ⵗᘆ溲澵㗚䫃䐤㖮盙潖缎䧜ⷕ◈ᶷ滗続悙絚姂ᠴ䌪墅橠癱梆ᠮ唨㫞᫖ጹ廀׷屠焲ሡ⋱ᠤe㖀ᬅឩ冨縸櫲憨㰼䆠෨憨Ǻ皾ၞᡮዩઋ⥀L琺ڥ泐/ɜ猸Â၍桺࣑㤮᯼ദᐢெ暰䬷ᗨ࡯䂼ᖞ幰缩䀭栿␭窅榌篵稙碜ఀ瀿ฉㆰሪ䡏࠱⣜ᰋ兏 ⤜໠π垬⨀侦䌼㚣Ӑ戲ㅲ⩧熔㸸糿㖩ぬ㖮Ϩ昋ぬⴳҏ⺢⡿਀紫ㆃ屠↠⇢ᐭᴀ⧦峺ݠ℗ᜀ磺ㄈ䢰⒭バ⒥⤈↡㸌ᘭㅡ᪲㆞ᘢ䄢⩩ၿྩ⌈⬎ⱛᲣ㦋Ⴁ䆨㑭榚ഢ懺ᜌⶎဠ ",
    "trrack_graph": "ᯡ࠽䈌ʀ匦㢠⹰ڀ㌠汑⁦㐵䁍ԠⰢ㣬ቩ⴩抠ֿٕ䁦¦X栤捍਷ౄ倡ᙰ䡣内恌⹲嫍㵆ᜍ崘ԩࠣ℠΁掦ô䁅ШNᄚ〡岁䋼℩㎎搠ㆠָ䆴)洄䀦梠熤⠠皁ᅞ஥௥↣ტࣘᡘ٢͛ƻ௡䎁䅐䀡㬚ͧ⦲ƿ⸂आ壡‡犀⑖ع஦ს䆩匐䢃稠嬸㖧ᑤǦҡ佹䑀嶨ナ摵䀺慑戩澤⨡㼚ε䨧᯺悡嫻䍌䖰⃶o#娇氃ܑ沜ၑץ灘᱓؁ᅩ帲ԥʬᰴ䷌ᅰ搬ԧ⃀屈Ⴃĵ㰼ࡦ䃠Ნ௮禝儆嗂¼甝੍䇤〤䥂䢰椬䭃䨄Ղ䓆⧀獈ⷨ曥煢ᅌ䫅楬孋䰄汢奀឵喃ໆ瀡䫆῵加$K嫭燜Ⓚ䀯倠䑺ᠡ倠倠扡ᢷ⁔ᢌǀʰⰭ幇僠稸䐣ȻحX䀫ဠ吭欤檭せ娉笝ďڦݣ烰㌽䘠䩏ᛂט災✅爘ƀ呁墠㆜Σ৑┬䙋ňㅾࢣ䇐␼᜿楠值ንÁ幖ዏ傜އᗭኁ塜ࢪ⁰吺͊卑Ɱޯ戩䉺窶檕嵾忈ᬬ屶಩᭭㌷䆄壕⮕厀服筣夃ᴓࡄ峷ᜆᴚภ䡐%ࣀᐯ⧼倪`ࡄˆᑐ١➮ひ澱㪺弴஢炴`ྪ₤ྨ掘㴤1≍怠穜ᱤృ⸑⬺䍹乒ᅥ届፥梦ᕁᣈ⿁䆖Ḑ㡔ฃ⸬ສ┹ᗡ⡈ڠ扢̈́㠮ౡ㢞曣灈ع㡸⭪瑞ᕀ㢑昀䔆᥄㣖ᄄ帳⚈ⴻ➋䈰9ᕜ䛢糸昻玜怡棣̠Ô幗䰓ở䰫煣Ԫ懄⿱幪▫Ạ⡌ⅸ⥪庇嚀᥻˪䅸㉪ᅴⴔ⑏䮫她ⷫᕡ䧋ᥢ⧫䦃⣡䶑ⶋ疛⵫Ầ䩊╢⽊禗䥲䍯ⱪඟ⮁ᑄ毋卿⿪Ʒ⸺׈泋㰬⧻死⣋綏ݫ㭴泻ށ⥛ஆ浙㱨݃ᚕ䡼ⵃठ䱸Ā千䴃嗂㈨晥䮐嚄䊛嘫檃༤Ĩ徉ར怸䅼帪̱☴Ϙ慊٧Ĵ䆓暡枒㓃☑濆儠'岴糿ح剻ữ䄁ృュݐいోךসࡆ㶸玌ྦྷ愊⌥猭᾿惝࿃㐌玻⁼த௴ូ獄P〣੻獄ᶦସͻ۪礕炒楸ᥣ䙅歼ӿ恔ദ᥶晃䒸ዾ䭝ƣၺ沥⮜睻㯌௿歝࿔୬瞸哇ᔇᦗ㾯䲯㺮㷂✢Ѧ严碶喨䨀䧩à嗂Ҳ⚼᎟2Ɏ᳦恲٧⼒ஒ⣛匳⢧卡Ṛ೬ᣕȳだ◓㘽伴ჽ䵂偡溢ใ䘣ำ䪑亓刴䢎ᯟ㚽忙癣翑࿣咖皳炶佾࣡ᠰ䐠òᠣ獸ͫ䘊㚠毣ᠢ぀笩恶椠ጇ嫿戤Ⴛ禌䗫糎ㅹ䥹ᩰ㥌厒˃爵╈㕣瀷䇱欧儚ٛ0ᨦ㸹䎸矣タ䛐桧ğā๝愡ףࡋ䇘㒀磰✤ࡢ䌆ጫ湞䂁⨶ᄌᄒឪ抎d縭䒁弈ҽ硠Ꭱ妘皂䔌仉櫥㝿䉠р☰䜩⢭㴨㊦椽ຒჂ≔൤帊㺺䙱₮ࢰ㌦㪏穱悃呺焴㭧ᣚ㢠⦫㡄ぐ㠏儢ᦃ㑫⋡屫沆㮜Ⱐわ̀᧢᳦૬吥èݨ牂⌰᳷⦏жߢ⃓ଂㇸഃ䛦庴ƨࡡ屏暦㜬Х搐䗰࢓䳘倥㧎Ფ湥Ǽᔨ性䇁䞻⃯ࠨ樳䁢⼧剹ૐᗩ⹕Ⴡ容℗ᇇ吱熈⨃冏ɔ₧繲Ý㷫塷䲁埀炏㤒潩懾姫①  "
   },
   "outputs": [],
   "source": [
    "PR.vis.barchart(cols_fixed_df_persist, \"utcyear(Date):O\", \"count()\")"
   ]
  },
  {
   "cell_type": "code",
   "execution_count": null,
   "id": "bf59a8bb-b07c-40f7-b705-456d06143493",
   "metadata": {
    "trrack_graph": "ᯡ࠽䈌ʀ匦㢠⹰ೠᬡᰧ〵䁆8˰ҁ⑪ሡㆀᣫढఠ瀤㖖歰ヹ䘴ᩑ氩አӒ䉢ົὑ㥪檕౸㦑切恈⑸䀺ࠠᮆ癑䚄ň⁠Ƒɓ-挬Ȃ࠻箮∈x▬倠❗ሠ᭠௄㙑㡹Ⴈ䜔ㄆᶬਠཆɣኂ壐䒈屶ᩑ⣠ஃϖ㎨䆸悰᫛Ҥݑഴ㞅堣ⱋ䱁Ứ呠៨恒框㏱氰ᵑၘ㍬໎怩瀠㣎㰢ㄔậ䐤巷洌擖₡⒅瑔Ɉḭ᦯ɡ䶁䋰ヰф儾⯬c愐瘴ૡ₀昮ఇⳖᯊ⺱f摸戡֌ཌ䦥愨別ե倸☻০熘繀䱅জ稠ଂত❯๣䙉碵ࢾ劲媒㝥▨⍀  "
   },
   "outputs": [],
   "source": [
    "post_2010_df_persist = PR.df.get(\"post_2010_df_persist\")\n",
    "post_2010_df_persist"
   ]
  },
  {
   "cell_type": "markdown",
   "id": "8dc78231-4b97-4d4d-82ee-2a762d20e590",
   "metadata": {
    "__GENERATED_DATAFRAMES__": "{\"nodeDataframes\":{},\"graphDataframes\":null}",
    "show_aggregate_original": "false",
    "trrack_graph": "ᯡ࠽䈌ʀ匦㢠⹰Ǡ⬪兠䘤瀥䁍ᴡْ࿪Č⬭总ҡ䲤䫳⩨࣪恆ᖜæⓀŌ傰䏄懠Ɑಥ㕺۬汙㬐਺ဦ䈠ۤ嬬ሉj࠰|ℬ怣㣣ߘ䈺滣䢁6煃ᐠ৵撠۰̊ಭ伆⑶⇐呄䮃ʠϩ䂰㴔屆㹟Ե䏯柧慲డ㙐嬲ᢨҬध⷗ࡣ㌰冦氻U䫄䰷梬䐢紬䎍Sॐ囡׽ण䋔总㘠传Ϛ揿挬ᐎ汣䓼㹮ራ㈨ቺ╯慂厃૵ⴘ嘪⭓炻ࡿ⑁℘ⸯţ✘௨∑㛛㒹ᆢ匋᣹ࢸ䃡ල憰へḨ䕃䢴മ䒀夌✻䐂тྸ•嶢僙戅䢑՞ዂᏴ剶䅭槉ㆰ  "
   },
   "source": [
    "#### Pandas solution"
   ]
  },
  {
   "cell_type": "code",
   "execution_count": null,
   "id": "76fee515-1107-4c39-bb1b-4368b91e9842",
   "metadata": {
    "trrack_graph": "ᯡ࠽䈌ʀ匦㢠⹰Ӡㆠ䘤瀥䀮ȥ倮怰恓ྂ㩳ᴂ壢䛈祥䁶㨶㏩ᐠ▴ሰ瓹碩䥱叀擥䶧㝾猜†桠û䢁䇶ဩ™+䭨ఠ㜸シࡢ䱺孠ƄᏊ3廲V䀷ⷃ嗔᥀9媈㾒㦬ਠཆɠɐø墘剨䚉ᒭᤷ䇦栢沁朄䄰㤸ሪ庄Ⴅ♃ϔᢆᦙ߫場ࠥ箉窺Ԋ猤᭨␮ࣳǏᠢ㰠ຫ✯఺௕ㄤ႒壻䢭䡀ᅑᨮªʣ䝁⌲ጐピⰬ䤦£䔓A⃀ᢖẮ←嘵嶉㧤रࢇҬ‿೨玩᡼Ⴂⁱ呺и勑䒖Ꭳ懀簬cࠡ⹞ᾰ犐┈璫ல燬㹐䵰䨊ᥖਠ "
   },
   "outputs": [],
   "source": [
    "alt.Chart(cols_fixed_df_pandas).mark_bar().encode(x=\"year(Date):O\", y=\"count()\")"
   ]
  },
  {
   "cell_type": "code",
   "execution_count": null,
   "id": "4656a0ef-7161-4d4e-a12a-6e7b2ec9c680",
   "metadata": {
    "trrack_graph": "ᯡ࠽䈌ʀ匦㢠⹰ૢ䂸ჽ琨恍ؠ氣ᢨˠᶠ⌬䐐ǥS⇷瀳䌹䵑ጎ䫫䥈kᑄႈ妐ଷ዇⃹䶧㝾纣䍤ð䀡宇憨㵀ॢȠநƸᢀ眰䅽忒8怢湈㊠Ř岰ú}ǁ䧬撩䁑窧ればᠲᚰⵥ慁⍱䧱呸̠ⶬۻقۣɠ檍戰泤ᑡ强怭ノ挤穃ᄠ弣ë㖻Ѓだ睤䄁䵐㪻G䀡拞砑䄘穖ᄂ垏⏖᳹ȩᚲ煢ぐ䲄婢ⵕኬ䡩⌀ᘰ碹墤㘶犣偐㟻׃⛾㫫㚳ቐ⩥ㄻᆃ࠸ᛑ屒اϡࣄԳ煲ᡌ㬳䈁砢Ⴄ✐簠⯐⨱᷼央Ⴧ掴穑ểዔ䪎䈡ಠ  "
   },
   "outputs": [],
   "source": [
    "post_2010_df_pandas = cols_fixed_df_pandas\n",
    "post_2010_df_pandas[\"Date\"] = pd.to_datetime(cols_fixed_df_pandas[\"Date\"], utc=True)\n",
    "post_2010_df_pandas"
   ]
  },
  {
   "cell_type": "code",
   "execution_count": null,
   "id": "c276a8d3-0f9d-4b5a-9d0d-d6da42628404",
   "metadata": {
    "trrack_graph": "ᯡ࠽䈌ʀ匦㢠⹰ಀᆬրᦠ發Ҁ୩䙉㤰֠ፕ䲨Ǡⶊ䗰Ꭿ¦巊瀣;ல⠠䭈⑁棑爱ፁ⍮凓⬮滜Τ䀡傠ǒ烠㕀ॢȠா䠸ᢀ㜰䁾巒䀢晀樠Ꮃ䤠ව׷核ᲁ⚨纝ੀ⮪晠޳ŀथ氬岞⽖㶳o倥壡ⱥ䡀⹐␥⫬℮䱣ࠉ兌öዎ㾧⑔ါ矱瑔ì屈⬤஘␮ཱིԱŸŜ.䗷㞬ԣ囑̶㫻泘㈂䥍效樺䥥斃ၐ惉沢凂ᩈ憪ѣƥ໰案ƭ䃠屬ᛪ墌判䰼䢠ͤ⢂Йᘷᩡ䄁碂ᒮⅱ㒚ঢ懑ᡮᜣ成䈱Ṁ˛粡ᇫ㓥摘抿ॱਊ⥓Ⓞ琣ဠ "
   },
   "outputs": [],
   "source": [
    "post_2010_df_pandas = post_2010_df_pandas[post_2010_df_pandas[\"Date\"].dt.year >= 2010]\n",
    "post_2010_df_pandas"
   ]
  },
  {
   "cell_type": "code",
   "execution_count": null,
   "id": "f382e907-1f3a-42a1-a452-91f54465d8ae",
   "metadata": {
    "trrack_graph": "ᯡ࠽䈌ʀ匦㢠⹰̡࣠Ⱓᠨ恮ਣᠥ儃ܠ泤Ƃ淑Ĭϑ倩䱱囙抴䈦ᨳ扪2攩њ㚜⋅擊毶㎁桫喯ὡ愠㑀೨๨ɰ䂠࿆̂;䘸෤့垌䐐Õࡕ$犒‣㐡㬚̧౉儭࿏戨ㅸ惀Ēいਥ༠Ǣ抃慐ㄨ䳌素ⶬૡ䉂ɠ櫍∰䳤㢞䜲怭ト〤筢愠徝ë⬡俥だ瑤䄁䵐㫋G䀡拚爑䐐穖Ⴢ杯㶣ᙌ⅃巂䋓⠹泉岸ാʫ੥䗪䌰悀壼ᐷᑀ怬س杹㚲≴२䁃Ɍㄠʶபⓢ瀤ब䓀梔ߥ➂㣼⼠∲㴜5怲Ѯ坔䦫䢑䕞ᣡォ甩᷇ቦ† "
   },
   "outputs": [],
   "source": [
    "alt.Chart(post_2010_df_pandas).mark_bar().encode(x=\"utcyear(Date):O\", y=\"count()\")"
   ]
  },
  {
   "cell_type": "markdown",
   "id": "8a92b8a9-c3a8-4a57-be3b-c9cdc977092c",
   "metadata": {
    "__GENERATED_DATAFRAMES__": "{\"nodeDataframes\":{},\"graphDataframes\":null}",
    "show_aggregate_original": "false",
    "trrack_graph": "ᯡ࠽䈌ʀ匦㢠⹰ೠ⬠沈֭⠸恍ff9昽䁮ۦ࠰汬നڀপ㈏䣹厠㬦ተ¶⡨⇱㌀ᅁ╶庳ୖ⹜簧ଭࠣ℠Έ橦औ䁅ШNႦ〡岁䏼ℭ㞁摞+㢱䨠Ԋ牠Έƕ٦枓቙ჿਸ旑䅠Ȅ恨戬പᎭె䝁净儬Ö᡻⌸䐱䘩׍宨⇓ࡱ䍲ච᫲壬จ䙤Ɲڣ圖⍞ᛡ৽ण䃔戋㘠传ϊ揿振䘌汣䓼㹮䘫㈨ቺ⩯↧ᄨXഉ⠅ㅖࢢ侸⇄僡ಖࡢҁ氣С宍劄倶䢡⍤㲂̤㚗٩䄀硂಩⍰琦ᦪ悑屾ᾨႨ㺜*瘪䋇޶⋤ᓘ犠䭳঺᥇⏰ᅠ  "
   },
   "source": [
    "## Task 2\n",
    "\n",
    "We will use the new dataset for avalanches post 2010 to further analyse relationship between phases of the avalanche season and other variables."
   ]
  },
  {
   "cell_type": "markdown",
   "id": "f5f0e041-31f7-464c-bb6e-c853fbc0c077",
   "metadata": {
    "__GENERATED_DATAFRAMES__": "{\"nodeDataframes\":{},\"graphDataframes\":null}",
    "show_aggregate_original": "false",
    "trrack_graph": "ᯡ࠽䈌ʀ匦㢠⹰â䂬ƀᶷ琶䁋c<搔怳ଚ䠳亡䈤㉕⁖ì⺇⊨攩ᐠ▨戰㑹㧒妰囇⃹喧㝞Ţ∠桠ûு䁔䈠ॢȠந㺸ᢀ盅⻿夣•晀樠Ԃ牠Έƕ稦❳ሪὦ䰼⇑䅠Ȅ恨㙎⌯᪴䶹䈁ℓ琡㙐ᮂ⢨᢬थ⧓ࡢ㌰ሚ璋U䳘䠵欯Т縔絭Sㄭۡ۹ण䉔悊㘠传ϒ橷挣⌏ⱡ䕼庮打㈨ɼ榨慢䃂॑瑐繦┭ڼ㾬⎂厃焸牘榥ᄨ䦯ඦ嘔㗆溄⒀擒摖≦၀ⶃ㧄మޢᄴ䩍རへ∦䯧焤愷䍠Žƀ夅შ㤙༾′⪂㵩掳婊⢄  "
   },
   "source": [
    "### Task 2a: Categorize data in phases\n",
    "\n",
    "Out data is missing the data for phases of the season! We have to add a new column to the dataset called `Avalanche Season Phase`. The new column column will have three values: `Start`, `Middle`, `End`. You have to categorize the data into one of the columns depending on the month. Refer to the following order for assignment:\n",
    "- **Dec - Feb** -> `Start`\n",
    "- **Mar - May** -> `Middle`\n",
    "- **June - Nov** -> `End`\n",
    "\n",
    "<font color=\"steelblue\">First, we have to create a new category and add options to it. You can click the add category button in the header to open the category popup. Make a new category called **Avalanche Season Phase**. Then add three new options to the category: **Start**, **Middle**, **End**.</font>\n",
    "\n",
    "<font color=\"steelblue\">The barchart below is an interactive altair plot. You can select the bars in the plot by clicking on them. Press `shift` while clicking to select multiple bars. Clicking on empty area in the chart, clears the selection.</font>\n",
    "\n",
    "<font color=\"steelblue\">When select the months that should belong to the same category, you can use the categorize button in the header to assign the proper category to your selection.</font>\n",
    "\n",
    "<font color=\"steelblue\">When you are done with all the categorization, create a new dataframe called **season_phase_df** and print the grouped dataframe (grouped by the new column) in the next cell.</font>\n",
    "\n",
    "\n",
    "<font color=\"red\">The barchart below is a barchart in seaborn.</font>\n",
    "\n",
    "<font color=\"red\">Assign categories to different subsets of the data using pandas.</font>\n",
    "\n",
    "<font color=\"red\">Assign the new dataframe to a variable called **season_phase_df** and plot it the same as the barchart earlier</font>\n",
    "\n",
    "Abstract: Cateogrize the data. Start with creating category and then categorize"
   ]
  },
  {
   "cell_type": "markdown",
   "id": "e374f557-7bae-4281-8246-fde495def7a3",
   "metadata": {
    "__GENERATED_DATAFRAMES__": "{\"nodeDataframes\":{},\"graphDataframes\":null}",
    "show_aggregate_original": "false",
    "trrack_graph": "ᯡ࠽䈌ʀ匦㢠⹰恖¬҅⁬̸ѐୠ೪¼㲨˧匠౧䠽䁋ӂ͐Ć炚橙ⷈ䭖㉪2攩кᙼ䋄ᓊ桒㎁揯䁰䣑ဠ㑀粀仨ɰ䂠̄㝀෦ణ戰ᰗ༐zⒹ†从␠㚠᝸抃Ɣ婃榬硁ɛఴ>☤䛧ኒ֙ⴄ噬⭑䀶挧぀䢠࣡ჵ㭩іㄲ᲎䗐ͻ䨨䇽炨䁏壿峲⁃懸ᇺ兀㡆䱍⻠਀ⲙ粀磽疨Ⓕ凩息઱䢘ॆゼ穬ܮص䫊ᝂဳ榹ᡤ晇穄枧ဨ告͆᣶䷌䲱䅲旐悭ౠ⃍伃䡐汞ౣᅈᨽ࣡ㇸ⹏࿤ত兘䒰ż䄰夁珩ᣅܺ吂ᩂ㭪☈ᒰᢄ  "
   },
   "source": [
    "#### Persist solution"
   ]
  },
  {
   "cell_type": "code",
   "execution_count": null,
   "id": "1ba3d034-eb39-4083-b940-59b47dee37da",
   "metadata": {
    "__GENERATED_DATAFRAMES__": "ᯡࡓ䅬ࢆߐᶡ稠㠢挪ဳᐢ犪ࠢ㦠ዬ⺨ݒᬠ垄ᆂN⡸͔⼴ƌ዗ڧҭ͖Ḣ䙅效毴㚀֠͢Ꮷ埉⬮⠠㚰⮊扵ᚂ戠࣠ᦻ㽠⌠㭖䁺6V߈佱嫮㞋Ч嫭怤撐Rᴽ㘼Ⱐ✶ଷ⋍参ᄰ∁ᔐ塌☥偢ᚵ瀥ㅇ≝Ỏ孯㗃䋍怡愕㝥屘䧖嬨殓䋌᫾䤥ሇࠣ㣄ѐ⬠᭴ɵ㛰穄⎜ᆎ♶䑇䥋懬अ㖀癀ᰱऋᙋ㛺Ųŵ懊ᤥ婙㰡O䥹㦁ǔ࠷䦖梎㜥☂秼༣漇㔁㝍䍵姌⮧䅰㴼枨ଗ㳌䠡䄦榐屠܈ㇰɖЧ⌁婾ī䋁ࠠѻ瑸䀱ⱻ㒓㛑%ⴶ䑸ᅸ崰Ĉ⌈䀥嗤稜家ᙶ᳢棜⤷╂糅⑴Ԣ嫓⣵╒糀׳籠䴭ᑆ፩報ந儽ᩲ杯䅨㉵䮨煨ࠡ䖧䱸睿值Љ䚓᫨玐Ħ⺧䈀Ā䀠笃磻‪ᄠ缆䪲䡓⧡䋡㞫ܝೊ婳戱ᙙ挑⭂䶟唋ؾ᎜泗獖ᄮ䌢妹悢㎭ࢥ溟眺Ǘ㑹朒嫻޷埸㲮ឩ᎑጑ͣ昑ۺቢÊɾڍ痗㓿ᔱ浀~磰ᖜ㫴䄠ࡈⵡ炍ᔡ Р㋐䁡㾠w₰᜵䃨ڀ₢‗恤ಳ簠偧狾᧡琻䈢䑽Ϡ䂖᎐烰䞅仮ඖ塰ᇒ惱ഐኖ䒳ሥ䪱勀ቒ㊙ٔ牁宵狪䇂૦䉶檒䅵煕ᕷ⨲䡫᫂⥶䑍i᫲❵䤢䯠䦢⭱䦶䕡媢ࢰㆮ姵惎内ㆾ寱Þ忴م吣ڡ偣ㇱ嶴爩吖☦ൕ凹坑皥壔ⲅ俇䦭䧖䑍俀䓖᷂㚱⋇展๎滍ˆ䓍Ꮒ噽佑⣶࿐ຨ࢒塃墧໨⪕ᒀ儆桍Φ堽另崁ᗇ⋕ᇦ儵᫥乗᥁扏ᴗ椡䆨勬㖥ㄬ嶩㋎⹒猚侨楪⭩⦚䱭咪⩪ⵂ▋䤪⣴ⷆ䕩槶侥娦⇲㩊ױ撆⏲窢᫯ږ␠㤱䊉㧑䈖績╒変忋兙䝉!∡ᛡ┲䌁≎漝و盵宐╈帹䫹⟓昝傐෥㊃຦ʑⅶॆ堵ˀ烖ࢃ㤜䉆᰾᭡㢍ʺ瑈嬂砱Ē㓶ᔗ紷䨒႗吋獏䫧㺦ᐖ纟倩䃠Ⱘ悰㨭䴐ၠÒଫ̲ʂ囌ܺᚂ媮೎冶叼⠵匤洫托⠢፴Ⱓ傘ὐ㟺䙘ອ婹撑槍椑㥝⟍捸✊ᾏ䦔羄樧啊乘׃㐽ᅈ瘉䉨㞽捔撦獎甚ᔥ畝៉旝侃眂⿉ᤝု瘂沄ȣ罙䖣ᓍᒅ擖慎᪰獗થ怬烍༅糋෱ዏ඙狅゠䜢䒢紼ᄱ木႘皚Ổ繸灠笹担⠡Ꮹ欱滌㺀⼷↍碞⿧砡⁞ʡ灁祡ᡉ⵸⳾͐₞⁐欸Ⲡ冀掫琊Ⲩ氇ᙶ䘡᰺䆈ơᠸ櫈ᜤ➐ԡ㠈僘仁ᨧ℔უనʸ㦦些ʐ圩灞ࠁ㸰ᆢᑃ䈮৤ɦ⑴䌸䲭䣙ྱԸ儡ೀⶵ⎩ާ呦䚈㚡桽ϰ兰ㆦ᫢䙎ᄯ㓤⭇匾㖡塻ϐ眥㤮ᤃ儹恼ᗡ疛䒘㸄ѿ͕⏰ডᐰ㡘Ꭴᑁ䉯ޤ帴䓨暨᢫ࡀ࿊⮽ঽ௑͈ख⧄⻼❔牯㖃䉛㛁僧䥠乴䍩ቁᢔ嚶ɼ⣪⺩䭽㪕嵫ႚ孃㪙斀ṓ䒆巪䮷䬝㚩坆ቌ傄ଅ䜨㲼ᑻ໐⦸⡃⮇䥽攌滧溸桴嗨㳪劑䞬燮ហ⸣䂘伦尻䗘紳愗ᤒད灖㚬幘曜纏㱧棓侤糥䴚◅稠䐱⡛瑶㡀䉨⏳­Ӝ̩ሶँ➧愦䉨≎到੥摲䗂᪫㑫䒭⥯㢢甑⹀壡潔懹ⓖ䠷䒨ᚍ႓䶙ᘩ焊਀堌繊ᐃ䙄亳娹׷d䮔ഊ䧹掄䆣ጩ㽙⍁㧙၄♯ᜒẈქᬍ╞屢刻⩬᭥Ɒ㓻ɦⓉ旉⺵᥵ൺ㟓婱⮬⹖瓢㜄⫃ӕ⽵㡩哺ᗉ⦧⦕㎡畍攙攊熎湔擟犆寥䓟ୂ籎ⶐ⭺፺װ噅㭲፭㔶瓚ᕇ㏗䔌⭮睧‶⾔ӑ疩㱒䦄椄柲勒烎兿╀擪ჾ卙㘸㥬句≱⌱☎慰⫂嗳磿⌤ᢺ䧙ᩳ㕕厚㈨箬烬洱⳽䶩䊛㦳䜓᫮ⳡろ倍统淓勪綅侄䀡曡ᖥ⭴䃶泽噷˽䌹৺ჹ噃᪻㧔宋㗖箉嗮渓咷猕⡖暸䥂巊嫨熨㡷嶁ᜱߊ੠řᶝࣇɯ㫜⼕柈◙扪奏獗⽇⦁⛲搓礲䰪ხڜ哼ൕ岷ٗ↷ᖗÌીユ瓹樂喻❕Շ䤁‬硼純⽖䅾ᶮ庻淝ᵾ㈯䖄㉑碫⨐䬫焍嶻㸪査嗹粟␠ၧ碌倒泊ᠡ⻻硟Р ",
    "trrack_graph": "ᯡ࠽䈌ʀ匦㢠⹰Ҁ㌡䘣ᠰ恦Čథ倢怭䩮㊐悑ᒅዑ¸砠揯᩹″䔪̲⠠䭈⑁槓焳ᓍ╮䆳஖⹜紧Ҡǁ#㇨梊′䈤7㺰ᠠ湐憎Ⴄ姗ㆠˬヴ3姩-儠ːࣱ摈ᐠݟᢦʣ䆣ሱ熨焼శخ᲼ኺ⁂ဳ䡠Úͣ⎬ೱǠモԃⲀ倠祐ሾᲿ䜰ℇ璒䥩Ц{ౕ䜴∣䌤䋯ⳤၝ䐰疔䫠ඉ᧠܎䍊Þͣ欎̺悩廻䃌戇嘠传ϓ淧挡䗿㱠户໠焀එቭ窰籶પ慄偘䵊␑摌ƥ䇤偄䘥䋑ⰴᄶ䃠㢐仦窜制䒾梡➚⃩୥ㄤ䥂䭂᥌䝇䠴䔼ӆ⡵䠰ɥᅒ㆘兌䫅椢ፍ䬅䒜僌⪴琪䛂㏴删᥾嘛婰 䀥㭸ᡩ嶍㎘$⛱䂭%ݶ樈䛎ࣷ㜜䛶ப抚ᱦ塑悐䚠ᱠְt䜋Ȥ㐡樽ߋ校䖲㽠㐹٣䤌〤凸疀ⷧЊ㝏៯焤᭐䜧ਁ憈䢅䫐ᠲಁ䏣籸㒬Ⅱ缂┪≥摆櫀㏝އᗭኁ㡢௘僰⩦ᦦ抑屾dႩ䵶僽欕絡墏戔梋檃᧭䋥妆槍瘍䔧堼䜳崀堤坺ᜁᰦภ䡐%ঀⰠ槼倪`⁄º〮ޞ恉烜ྫ炠᧼殘ၬત倢Ϝ⤨Ꮬ挣͜槭刁㜠ϰ⥊ሢ䅣ʉオ歱⮓䑤䣗٤⣆Ꭶ械ݦ䔣˥壊⌣䡼⏸墐乣䡎汨䡘䙑傂ڢ䙔ʡ煑汩灚⟀磉Ρћх⑚ᅅᢻὑ䴫▊洧⭪㘰ဉ炘⨇ࡎ̹䍜昸Zᢁ怠ᚽ䄓炷Ȓ砿䴭熐⬭慡䒪㹴ⶫ纆⤁ॸ⫈಩䮐暄䛃嚵䬠㡔柣ⲛೌঠ≒բ杒▐䯃༤Ȩ善䳹′଱玽䋠扝⊠眨┠䍨檰຅冑亃囍࿖厐'岴慲ఫ勻۫ുާӄധ穁⑋桜ᖡ㜅ᔋ܇㤎撧㒡嶵ഃ᳦␦ᇆ㧎慔⫩‡ӳ䃖冪畸⠷㐡֮淭ᯥ紟ေ㤆ᜲ䡒গ䠴ણ⼔Η⣻䭣滚ࠕ呮ǃ恟凖㛍䎧㚽䲥ၝ墣皃႖໩ಗᒳ塵થ⧑㜄ී䐽䯗叝忑㌼җ㌳僬櫆੠¢㠤Р獐ҋ犖䳌㫷䒋斶ᣐ繃⟈灘໑ഠÍ灭区⸇ۓÕ䁦ဠឳਐ繀☨湬եЧȰ䫊❥䱅ـ㡋͓᩶܀ѝᣡ簬δ厯母珘冄勛ᖵ狗ᐮ⫟፵攷䉜ᴩ瑠素戹絁Ͳ桍疹獃燑俚恣澤߹ݑ柙擿猱址࿙䂈ࢢ偭憢‪ਿ࢒ྡྷ㷺ࡻ䊨ᮐ㡯䋋ѧ渂‰ⓔ严丛璟氧䃦漃ᰉড㰀䡞⊛ⴊ标氃៤Ͼ⵹⣋伣竾㯫统▝௒、㼄⭠翵呡屩䅗⢠㷔㬷㔞矈绻挠⁒䘗怘䒸䭑ᐪ慢℀夁ᴐ䊩䒽ሚᆸ砦䦬ภ႐䞮ᠫⅥ搣ջ界庪悖媣˗歐і掊㚊榍囡嗯妧ય梀崶ᅵ䖎䠽⫚䭐羺ಀ㘹縠Ꭳቒ怴㑼㤢岸況壭⃗።眮䂨ᅓ否䖀ΰ眄ࠌǿᆑಠ偈㮧⒕瀸玮Ԅ乼椩瘷沦ụγ䓘䒖抗ీ伸乒撀媡偠ི㣁劺㧅䶋⟔䝢瑑一⚭ᤐࣱ⍁掆➵晌偌㣠䱦亸价ክ!⒰䣆̶Ⰶ㒁䚂恐宅ြ₉喣洋ᑀ䁞Ԅᐥႁ˨㢪ໄܱ愽छኩ塟⏤ө䲮Ψᐬ乓䪽♷䳉䚻֣ᥓĂษ㎆燩Ყ䍩◣か崓穛ˢ㼧垛攠✂塏䛼ᾫ嵰堓罘硁࠵䁱皢禥ṻ䡴૾䐢Ṃ窠㌗ࣕ疱ค䅟欝払哄㸅ᢒտ㨭㖖ࠨ垬ᅈ劢ɯૌ䈧ぼ䞶⵶ጏ畅倾☔▢癭慜䊠࠶Аᓀ桒٨൏恸ࣄ䤿̅ـ੟墐ᵊ絑ඁᅇ㋒᷵㵥ኼ嵆岸⋅ӑ䕘倪泂૩⼄Ƨ搧៫ᩰⰊ䑲᪮ܨ浶㖚咵ᛛ斦ᛷ抨ㄅ㡳᲌⩊♲ጅ⥵૆唲⏋█䔚孳啻ᇡง樣₁፿惦䊋۟䍭ો䵕⮖⮄士∠歠戁⮊丮椀廰儋⽀ᯋ㨴Ე栭⒎伉偘⇤ᚲ㵳傍榺姹ઔ⽨嫝▤澽िၑ婪ⶅᅢ灐बѨ媁丹咂ᭃᮥ⌽ࡰ㴻…᧘ᨧ㧔ᾑಱ䁸刣‿戹ఢᦃᜰፀ㣆⚆ᦧ㇄⬤ⲫ汈Ⱚ娋ᐂ判端㕪⽹ͬ泫庥倀▼総垁䘮⳼ńധ⍄掷⚷ኔ来䥙ᨈ祀刢ᇄ䪜⦴粄☸掂᪰⥚椴墅劫ӑ᰹㍢浉䍞䬖ク惇偁搿ࣸᅙ⽶䣐㙥粂Ϡ椎घ䅌ᰧũΆ朵೸嶮戧ฮ朰᳎ᘳ凢፛௧⊕ቚᝦ峓拎㻦䀣ޠ佑岶᧛⒋瀸㮔睏枾᾿渠♔༤㵀堷Մអ洖粸ⶒ㡱婋曱࣊䮱㺶煻篱ḑ䁚ᄀ歂ⴱ㝤栤᪑㠙䍭䧱೵⪤ᶫ磟抬刷狇ɲ浕劚⻐✫㡭⧕卺瘆儋壋ᛰ❍⌕Ⰵ尼ᗧ⏂梶ᶺ劊ᥲ堍㝈櫣ᗵ穊妄嵫硚歲债刳⩔䋎疛嚅䃻Ëᆅ⣺⯒⪨ᠦ櫐ᒓ⧉Ђ᜽椡揠⠭㕈ྡྷҠℬ䚗ᑼ瑃㖠棍ධ旪嵪໛⨳㬑䓦瞙䒳ሥဿ撃K䓌㫡沌䅘殰磿བ₺椱᭄矶炠糦ℌຮ䎡㣧ţ缽䐁ᴳ妃䶪拌櫠䪕佹䄡嫣ᇑኞࣖ⮁ⰴ㝘咱椀㗺窍㏱攑䝱憠㢥䢼འ佭࣒ከ䠪ϧᎁ催ш堦፻ᜁ῔㏟㊅羍矬䐊Ǉ楹㖼⺷ᧇ➲屏Ȗ㳙ȹ䐆᧗䶎樁㎿䷼嬷嶞゙䆔ᙙ夔ླྀᎾ枑־甫ẋ燜犲紎௏ཱࢤ孥㥸ᴠ汚⃿垢梎䋤㑍粜䟟⡡䛊䕫〢凟坰⭜䓈盍䰩㎮垡ח侁勗哄 籀智ð漿技烠䈥䠭絬婿ࡸ繘倾͘籾笚嵇ዒĄ粀㱊优⳺ѣḖ泈໬⦱⩽ű䅀倶傴⠂命汝匎椇壦埞岦ᗛ磴挗㢻ᛘ℞ᐦ珲؇纟䆄౑梮ᅥ憠☁˰䳟箱☑㰔ုᴙ擸栒஻籟湎絒䯏糠欲嵥唬൦拶皡㨵ⓤͲ窳⬩഍⎦શ↭␠݂繬ᬀ㗅浏なᯮᯄ喫⌮㯶ᷩ䈨⢞ʬಠ䐩⅞磺䵩夬⁎⭾ᖡ̨㪘䂨ᮁ᭄杄㥑堽炪ݸ玣䌽ᄂ₈㠩墐礆␫䢉䳘㝃卶0ᾠ㞢䁗᳼侪㌯䢗᛽彉㡻᨜媘Îɇ᣸⏼࡭眯ᯁঘ㺀䕜ᅂ呜Ⓜ佥篜ᓢ爈䮁碷債昆▚娷嫜㐻ぼ硤⅝ᡆᅑ檖༰栦ᰡ拶䈝㿁䀡捖凑​㆐烐⒄橨ᾞ桨䅴Ⰷ羄߭ᵵۄ疒Ú二ᛂ䩃⪐ূ奯᭶䞙ᮠᴰ䨫⪚儤寤ἤ䗱൝␃ऀ毯䱔憂⮑僯Ὲ刨᪄檭Ι燋焺䒆冉姇ड़梠Ô䩋婰䐍ᬐ᷁㶚椐Ա〉䐫䙖傠ȹⴾ槝ᇈ⌹ཁ梿኱ᎆ炐㉮䨹垍徘㏈冔த箔㋎ὥ澋䚃ऎ傸㔠㵤ΰࠑⰤ愐䃐⬕水熆憄અ哧愛僰妡瀏ᢎ㉐㩽⢺悲䂀΢墽惼☈㼲䈴⒢㧤䢼截嚕㊤ⲽ屋愺㣯庼㛥℆㪋ᓜ洇⃯ㆹ䕙戵杀џ䐢̂羁㯟䞬倹᜿箤ᙽ樼㱍ᨻ忀婭㕆䀸⼐䚂ㄗ䭻各嚏㜫䈗皌Ṡ⡘㷽Ꮳ睗ᩢ䠐缁䉠窘⑝猻焀䚬㸂⏊㹁䑿࿢ቋᣀ䑧䂕挱ജ硕剨焽䭱䕤㨤ӆ⼤昭剜嘍ƞ竄ര☫愞㈫䏑犩犔⃠ጠЭ᤼̐ᔌ攰弩ࢯ䰂損擉笒⁥粷Ⳑ楏䟀䶶ʄᆏ䕥°嵭ఏ吳㩌㼭楢㮔Ӧㅘ✝儠Р撍煸ẑ䯈㾐◝䜸䙍Ძ答Ӱįᝲ❐⊲ᢼ怺│㞣環Ⴂ✨⺰䀠 "
   },
   "outputs": [],
   "source": [
    "PR.vis.barchart(post_2010_df_persist, alt.X(\"utcmonth(Date):O\").sort([\"Dec\", \"Jan\", \"Feb\", \"Mar\", \"Apr\", \"May\", \"Jun\", \"Jul\", \"Aug\", \"Sept\", \"Oct\", \"Nov\"]), \"count()\")"
   ]
  },
  {
   "cell_type": "code",
   "execution_count": null,
   "id": "187b30a0-d61d-47b6-9645-d34bb973fec4",
   "metadata": {
    "trrack_graph": "ᯡ࠽䈌ʀ匦㢠⹰Ǡ㬴΂䃬ĸ怶䁋มᤨ˩䁦,䉶假ᓢȺ㻎瘚塳⃀ڄ䨠ዪन㩌尤◩⫴㚆懻域ṡ憂†浘ହ䠤傡%戨映ᮬᢛ䑁圌Ქအザᥠ½⹨N䣸洃Ô⁑൩↼嬸ᐠṬҧⓥ㏂ᤈ瑈䚂ᆠᛦஉ朱ʑ䅀㗖नຂੈ枣〦塶㦢㴱䢠⾱䂅剉故塀㯂ₐ暸ᶍ䀳怠煸簘慨㴻ࠩᮯ䧳䂹ᚱ潰䓀ᓴ乊٪ࢭ䦢ᑃ您僁ѐᠱʡ∀倴ܣʑ䐿ᶅ壨⤨㵂­䣑䐬ࣹ湹̭䐀䑒ኣ⏰䰶ᶥ愐簡ࡪᄙ␠ᗸᔨ举Ყ౳煊ᅝ╅㐴溪䬰䙠  "
   },
   "outputs": [],
   "source": [
    "sdf_grouped = PR.df.get(\"sdf_grouped\", groupby=\"Avalanche Season Phase\", aggregate={\"Depth_inches\": \"mean\", \"Width_inches\": \"mean\", \"Vertical_inches\": \"mean\", \"Elevation_feet\": \"mean\"})\n",
    "sdf_grouped"
   ]
  },
  {
   "cell_type": "code",
   "execution_count": null,
   "id": "a7ff9165-7138-427d-b9e8-11be0dd5f228",
   "metadata": {
    "trrack_graph": "ᯡ࠽䈌ʀ匦㢠⹰ৠᦺ倳¦ϐ怶䌠ء䱲ࠥ䙬䪗៑ĸ哰ι妹䠨擈kᑄᄉᦐଷᓃ❰䆹ጸ嘼岛砡傠Ǒ昃ϔ′䈤7ࢍᠠ湐慎Ⴅᣕ㈠ᣠ˰❴G㶲;‫囱櫺ರ⓺眠乙亠ཆɦ〡塱沘ቬ唶༬䊭倥壣䲐ɀ᱐␥㳰K䱥ފ磬öኼᾧ㡄ါ盱瑕傑漆ж塨฾匥⽐ʘ<୮⼸㮧▂ࡀ玑夁ධ⃢冗ᔤ䪧֬⊧ㄱ⡱榈䉾ᩛኦ̦䋢挐ེܠˑ峫᫢瞪ቀîਸ䂞ᦱ挰ヸ㸨䕀⣴ⴾ䒀墌ᤳ䜁ₜᮽ怢崜¡攇ৱ⤶ᭅ戴籪䡮ቔ塰  "
   },
   "outputs": [],
   "source": [
    "season_phase_data_persist_grouped = PR.df.get(\"season_phase_data_persist_grouped\", groupby=\"Avalanche Season Phase\", aggregate={\"Depth_inches\": \"mean\", \"Width_inches\": \"mean\", \"Vertical_inches\": \"mean\", \"Elevation_feet\": \"mean\"})\n",
    "season_phase_data_persist_grouped"
   ]
  },
  {
   "cell_type": "markdown",
   "id": "85093f3f-0ebb-4e11-bcd8-12d6099e6bfb",
   "metadata": {
    "__GENERATED_DATAFRAMES__": "{\"nodeDataframes\":{},\"graphDataframes\":null}",
    "show_aggregate_original": "false",
    "trrack_graph": "ᯡ࠽䈌ʀ匦㢠⹰恖¬҅⁬̸ѐୠ೪¼㲨˧匠౧䠽䁋ӂ͐Ć炚橙ⷈ䭖㉪2攩кᙼ䋄ᓊ桒㎁揯䁰䣑ဠ㑀粀仨ɰ䂠̄㝀෦ణ戰ᰗ༐zⒹ†从␠㚠᝸抃Ɣ婃榬硁ɛఴ>☤䛧ኒ֙ⴄ噬⭑䀶挧぀䢠࣡ჵ㭩іㄲ᲎䗐ͻ䨨䇽炨䁏壿峲⁃懸ᇺ兀㡆䱍⻠਀ⲙ粀磽疨Ⓕ凩息઱䢘ॆゼ穬ܮص䫊ᝂဳ榹ᡤ晇穄枧ဨ告͆᣶䷌䲱䅲旐悭ౠ⃍伃䡐汞ౣᅈᨽ࣡ㇸ⹏࿤ত兘䒰ż䄰夁珩ᣅܺ吂ᩂ㭪☈ᒰᢄ  "
   },
   "source": [
    "#### Pandas solution"
   ]
  },
  {
   "cell_type": "code",
   "execution_count": null,
   "id": "c72500be-3a05-464e-9b61-c16706a9c2c2",
   "metadata": {
    "trrack_graph": "ᯡ࠽䈌ʀ匦㢠⹰怶Xْ䂦⠩䁍ጡ᱄΄᫊¬͒ཧ൤䧦,糃刚滁አӔౢګᜡㅒ䫵画᫗㌃柠␠ന;㌸嵨‡ᑀ‡㮈䠦熦֜ⴅ痬6懚倡ḍဦ栢璕㩐㭃∧ݳః䃑䅠Ȅ恨f㤩=䅠ք旳爓⥚{థ䜨∣䌤䁴ⶤ၉䑀亭᳠ං⧦碔̢Þᴾ䍠೧ডち㜤䄁畐⪫G䀡棞ទ䊀㭶ტދථɄ♂ł䂐琑梔哢⪆㔡䪧ᑁსᤨ㢷ȸᤧը⛶૽㙐扐ᱱ〺慣࠻杒ᰲػϡࣄԪ䗀ᡬଣ畳㣜㼪г∠⯗䰄ᷤ䤺ፄ搄ᱲ侫ㅘ≦䩩&† "
   },
   "outputs": [],
   "source": [
    "post_2010_df_pandas.head()"
   ]
  },
  {
   "cell_type": "code",
   "execution_count": null,
   "id": "140bec22-f12c-49a2-99aa-730b942e5766",
   "metadata": {
    "trrack_graph": "ᯡ࠽䈌ʀ匦㢠⹰Ǡㆠతᠥ䁆Ḣᠥ刃䂖㧤督ㄡഫ≠晍瓂恓ℸԀց拤䨠ዪन⵼Ʉ敋⫰㊊滳䟟ႱTဠ㜌㈕␢⡠䀢焧匠෦ౕ戰獶㙡倠妯檠Ԉ牠ΈƔ笚箃ሦ཭࠵䓑䅠Ȅ恨䈠ᬿԼ䆢䑁搲扠Öᡫ࣒Ыةӌ妨⇳ࢁ㶚֠᫴喯甉ڤƜ竝䛎ᘺዡ૾ण䁔慤₶o#内渃ͤ痌⃤举㭌৕≪⚣䌂䆱ㄑ䓩ᐸ㔿ፋ䃥慢䉜惘Ԕᐳ䆡〢޵ヺ⸩ቤй懣࠿惓ᳲ☶≂䠴ᔦ䓠哬ㄭ䄃㣜₸ℑ倠⯟䠲ᱼᥞƨ⧑敃ྫྷቔኖ䬪  "
   },
   "outputs": [],
   "source": [
    "season_phase_data_persist = post_2010_df_pandas\n",
    "season_phase_data_persist[\"month\"] = post_2010_df_pandas[\"Date\"].dt.month\n",
    "season_phase_data_persist"
   ]
  },
  {
   "cell_type": "code",
   "execution_count": null,
   "id": "e4ac2b7c-dfbf-423c-ac63-a704e82316cf",
   "metadata": {
    "trrack_graph": "ᯡ࠽䈌ʀ匦㢠⹰ࢀଡᰧ㏋ɐ׃恓༡䘥兠ᆪȠ猶䬢⨍ⵓ琪怭䰝ᩈⓀō䌰䏆旨≼劭ᵦ曍浘簔ะ͢&捦ὲࠠ┨ࠠ⹀窀ǘ憡岱㶖搹+⤝⠠乮␠㚠ᝯ⿀癒†ᤔ撡ᑋఴ>☤䏥炃棐ㆬస煃འஃˑ₩ⓡႵ⭱Цㄬ៍ⓐͺ䩱總ჰ䁏佧僰͑↱ⰰ⸁ၘ㵬᫊怩瀠㩎◜や໵䑈姣澂䅖₣䕬撈凈3શ灢俁䉰㆙⌤橱紴ਆ੕嶎樴࣡䁰渧䋗ⵎ䓒∠റ↨င塼⥆Φ㄄別ե倸☫۠烘㸠䑀磨K忨਽኉ି䄱㣥²匳橒⭩␬䀠 "
   },
   "outputs": [],
   "source": [
    "season_phase_data_persist[\"Avalanche Season Phase\"] = \"Middle\"\n",
    "\n",
    "season_phase_data_persist.loc[(\n",
    "    (season_phase_data_persist[\"month\"] == 12) |\n",
    "    (season_phase_data_persist[\"month\"] == 1) |\n",
    "    (season_phase_data_persist[\"month\"] == 2)\n",
    "),[\"Avalanche Season Phase\"]] = \"Start\"\n",
    "\n",
    "\n",
    "season_phase_data_persist.loc[(\n",
    "    (season_phase_data_persist[\"month\"] >= 6) &\n",
    "    (season_phase_data_persist[\"month\"] <= 11)\n",
    "),[\"Avalanche Season Phase\"]] = \"End\"\n",
    "\n",
    "season_phase_data_persist.head()"
   ]
  },
  {
   "cell_type": "code",
   "execution_count": null,
   "id": "f0a37ec1-0c69-4546-a3ab-7041625148cf",
   "metadata": {
    "trrack_graph": "ᯡ࠽䈌ʀ匦㢠⹰挣ᠨ恋Čĸʀ୥䂃¦Შˠචܺ∤獷䍂棡䨬؎⌺宲⠠䭈⑁⥒爱Ⴥ❱䖻ݎẜʤ䐡傠ǗᏣ′䈤7࢝ᠠ湐憎Ⴄ姗㈴䀥䱡吠৹撠۰̋琭ໆ␠͞咸ṭㆢ䀣擠䠸媆㴮๞䖬掮㇂樔Öᢋ㥈䐼䘩׎妨⃓࠱絜ᖠ᫲幨ซޤƝ窣嚠᧙ᒺ悩沩Ǡ媁痶o#䶍氃Յ疌⃤⹾ޒ᧒Т╊⛂䵠৉擤㔚భᦶ䕔⏢俰偂ᔥᠱ籈ᆣΰ塏ᎃ姽䥴䐪ᣃ挰၅㋙劔ᬯ䌰摪ڠ慑ⲖᎭ挑籡ᡡ䆙␠ᗰᘩ于ಷྰ४ㅕ⍄㒴皦乥  "
   },
   "outputs": [],
   "source": [
    "season_phase_data_persist_grouped = season_phase_data_persist.groupby(\"Avalanche Season Phase\").agg({\"Depth_inches\": \"mean\", \"Width_inches\": \"mean\", \"Vertical_inches\": \"mean\", \"Elevation_feet\": \"mean\"})\n",
    "season_phase_data_persist_grouped"
   ]
  },
  {
   "cell_type": "markdown",
   "id": "569d1703-41a6-43fe-aabb-dfd1ac0874a1",
   "metadata": {
    "__GENERATED_DATAFRAMES__": "{\"nodeDataframes\":{},\"graphDataframes\":null}",
    "show_aggregate_original": "false",
    "trrack_graph": "ᯡ࠽䈌ʀ匦㢠⹰҅XƀᎠ㘢ᡰ୭䂖粩榠ك棯䙂ㅪ⁣⧔ڄ拍㪌ⓀŌ傰䇂揨≢䪭㵦曍泚簔ะ͢&懥ٞ撠┨ࠠ⹀窀ǘ憡屢ƚ盨+⤝⠠Ꮃ䤠ව׳氈ᱬ䣔㵏で૭䀯ጢ␂燐簠♁⥎‵亯䏰˸惌᱂ီᡄ᫊橁ì⁥瑱ᘠ殒䝀㯌Ḱؓ気ᯨ᱾⬤㮄␮ӳ׊堢㰠໫坿ష寝ㄪᚔ篸㥭䡀煩⸰䯴䑳㩂简兩呥޲⅑ζ䊮≊桥㘰ࣂ㲋⛲⑨惩㋸㞦䙀⁲憑␸ภ䙁䢴㔻πᡬଭ䔃㢜¨┑㰠⯀ⰶᵼ椦ᝆ挴㲒䡫⡩䵙᱆ಠ  "
   },
   "source": [
    "### Task 2b:"
   ]
  },
  {
   "cell_type": "markdown",
   "id": "9166a658-8b43-4827-8214-ee2dce36f735",
   "metadata": {
    "trrack_graph": "ᯡ࠽䈌ʀ匦㢠⹰à㬡ⱐঠ⌢త〫↠㇎嶨ˣᄋ䠁嬭䜎䘴枻䴠沜䥠ɹ⅁ݥ䞨咥ᕺ窭䵻姄省⿰‭Рෞ⸸㸂´၀Ø䌉䀦熦එљ喻ႄM䌕•㩙အ娠嵽ờ壩ʫ卄ࠂⲀ倠祐ቁྠ১暀ƹ塈稬⺠ᛦএ䈱Ё䅁営愨㪂౗⮡〦宷爝嵁傠⿎忙倦㟣ቸᇻ慀㡆䱍㋠਀ⳛ㷩崻ࢁᎧ仿ʌ䄥ன↸撈̜Ų嬢㍨㐃ㅠ֨女㉒଻ۃウ޽㋻䔑ఱᅻڐ棤ࠐⳮҳǠࡄ༾⏀ᡬଭ䄁㡜ᚣ捀Î罀ⲑ㥄瑬䖩傑枪䡨榘Ĩ౒  "
   },
   "source": [
    "Abstract: Note an interesting pattern based on the plot created from the newly categorized data.\n",
    "\n",
    "\n",
    "Branches for iteration not for analysis"
   ]
  },
  {
   "cell_type": "code",
   "execution_count": null,
   "id": "6c1ce503-e4b5-4a27-b7e0-7af5bd11e842",
   "metadata": {
    "trrack_graph": "ᯡ࠽䈌ʀ匦㢠⹰̠࣠ⱐᖥ㰶䚠☬ᰁ䁃<ù祰Ꭰᦠ换䑐昡䱐働ਪተ¶⡨⇱㌀ᙊ⹺仃⮖乜簥Ҡǁ#〨ッ࿒′䈤7⺰ᠠ湐憎Ⴄ姗㋠˴㽴3姩-倥樋甽♨㑝ରヺ挥'䦡ၰ㐬̭ᬧᷤ⇭ለƌヶ䌱ࡁ䰲ൽ㔰䂆ᇢ稴⬠㗙ム᷺ନ̙瘛䵬䌶㖢᷂ሧʉ䋷ⰡḠޅ宯䘥䷾墥ࣙ氽چ搰㣄䆪ڭ䉂厐刐⣅溒✽ப䢏䑑嵠䐸Ꭸダ卛ඉ婨सौ嬬ࣱ䐠ॹ⹉ጣ䈁侙಩⋱璆ඬ⏉㲞ၬᏤwhᙙ峲♎⅂煪ŕ♅㣄嚸☹  "
   },
   "outputs": [],
   "source": [
    "PR.vis.barchart(season_phase_data_persist, alt.X(\"Trigger:N\").sort(\"-y\"), \"count()\").facet(alt.Facet(\"Avlanche Season Phase:N\").sort([\"Start\", \"Middle\", \"End\"]))"
   ]
  },
  {
   "cell_type": "code",
   "execution_count": null,
   "id": "4a592f5b-5ee9-484f-8f82-1ada549065c3",
   "metadata": {
    "trrack_graph": "ᯡ࠽䈌ʀ匦㢠⹰ಀᆡⰣダج〶䌠䌠Ⱒ㤫္䂆ᔠ㤹勁⠤〤挃⍰⣁䒂⒴E䨲࢔沘֫䥵傈⳵巗⾞䇣∠桠ø䧁䉝ဩ™+䑁䰠㜸ㄗࡣⷸ㦰Ǝᒅ\"㫙အ娠嵣ᇓ峩நㅡҲ沀倠祐ሧଢ䀮惂悁猈岙త䠠ᛦஊᙡ±䅀痖焨ᚂቐ暣〦奴䢢縁ࢠ⿁䢍卢Ⅵ塁㫂ₐ嚸ᢨᛠ਀Ⲙ农え㼍䑘䷧攂⃐㙫⑈儘⹦ᴧႣ䞶⏆偲ନᒚℤ䂙⁼ష煀㣓ྫ㗻⑩⤵ᄡ䙈䓤Ȩ洎ಳǣ灤⤲䛃桬ଭ䔀碜¨ℰ籈5搱ю綮὇抴⊊仃ዔ䪎䍫ಠ  "
   },
   "outputs": [],
   "source": [
    "PR.vis.barchart(season_phase_data, alt.X(\"Aspect:N\").sort(\"-y\"), \"count()\").facet(alt.Facet(\"Avlanche Season Phase:N\").sort([\"Start\", \"Middle\", \"End\"]))"
   ]
  },
  {
   "cell_type": "code",
   "execution_count": null,
   "id": "ae420851-42f6-435d-be97-1b926cb630b5",
   "metadata": {
    "trrack_graph": "ᯡ࠽䈌ʀ匦㢠⹰à✠ᱰᶠ䌢妐ୠঠ᧞ᢨˢ䁖ᔸɓ偓ࢵ堂㮡䘢ᤋ⢷牪2攩њᙜ䋄ᓊ桒ᚆ懫䞩Áᅀ†涑ᣦẰӁĠװ搬W౐ި₏湝瀡㜶ᥠ¼湨N䣸持㉡℺祣㢖ᡈ\\䰩ࡆ䛣⇳燑ⱄ沜㸱䀶挧㗣ࢢ烡ვ㮑іㄪᒄ旐ͺ⮑䇝ࣨ䁏䣰㫶◥燸ᅛ兀㠶䱝⻠਀⺛粁㳝䶨㣛凹殩㙡ɫ⓰偈測⭟ࢿ䶭➆净ન桐ಂᜧ㥠␸ᰋ䐐㍧΍孩䤸ᕊ媭䤑䐬૸ḹጣ䀱䒒ኣ⏱శᶩ掐籡ᡪᅄwぴᕚ㳒แ⟧ᑤ媤䳳䥚╟┹  "
   },
   "outputs": [],
   "source": [
    "PR.vis.barchart(season_phase_data, alt.X(\"Vertical_inches:Q\").bin().sort(\"-y\"), \"count()\").facet(alt.Facet(\"Avlanche Season Phase:N\").sort([\"Start\", \"Middle\", \"End\"]))"
   ]
  },
  {
   "cell_type": "code",
   "execution_count": null,
   "id": "7968dee5-9804-4ce7-8cf1-c56ecf80f2b0",
   "metadata": {
    "trrack_graph": "ᯡ࠽䈌ʀ匦㢠⹰Ӡ̡䘢ᠣ䂖Lᠥ凅ਡ೤࣠↵婑曑íⴋ㚠泔ԃ眀⎩ᐠ▴ሰ瓹碪䮲减ⱱ妻ݎ帢䉤ð䀡嫲憨㕀ॢȠநƸᢀ眰䅽忒Ơˬリ$熒‣㐡㨦䍇ᦲഠ憢ශ壡‡犀␪㜿༰‪揠͐儐䔦{భ嚴∫⌤䋴泤ၹ䑨䆶᫠ඉⷂܗ䉂Þ͡残ᆦ悩檩Ǡ媁畖o#䖝栃å璌⃥⻾䝺㧒Т╇抣‴傑䕴੢㆕ݸ䟣ԅ⫽⁰ᠠ佤㇜疶敂⒀ᒪ橓䏦ူⶃ㧄䱎ࡡშ䩕ݠジᙛৡ爘䅐一怠址䑂㯘㊔㹥䕉㣵ἱ儳婲⑪ᤠ "
   },
   "outputs": [],
   "source": [
    "PR.vis.heatmap(season_phase_data_persist, \"Avlanche Season Phase:N\", \"Aspect:N\", \"mean(Depth_inches)\")"
   ]
  }
 ],
 "metadata": {
  "__CATEGORIES_META__": "{\"categories\":{\"Avlanche Season Phase\":{\"name\":\"Avlanche Season Phase\",\"options\":{\"_None\":{\"name\":\"None\"},\"Start\":{\"name\":\"Start\"},\"Middle\":{\"name\":\"Middle\"},\"End\":{\"name\":\"End\"}}}},\"activeCategoryName\":\"Avlanche Season Phase\"}",
  "__CATEGORIES__": "{\"categories\":{\"Avalanche Season Phase\":{\"name\":\"Avalanche Season Phase\",\"options\":{\"_None\":{\"name\":\"None\"},\"Start\":{\"name\":\"Start\"},\"Middle\":{\"name\":\"Middle\"},\"End\":{\"name\":\"End\"}}}},\"activeCategoryName\":\"Avalanche Season Phase\"}",
  "__persist_nb_uuid__": "2bccb628-9e31-4bb8-bddc-dfaa8aff51a3",
  "kernelspec": {
   "display_name": "Python 3 (ipykernel)",
   "language": "python",
   "name": "python3"
  },
  "language_info": {
   "codemirror_mode": {
    "name": "ipython",
    "version": 3
   },
   "file_extension": ".py",
   "mimetype": "text/x-python",
   "name": "python",
   "nbconvert_exporter": "python",
   "pygments_lexer": "ipython3",
   "version": "3.8.16"
  }
 },
 "nbformat": 4,
 "nbformat_minor": 5
}
