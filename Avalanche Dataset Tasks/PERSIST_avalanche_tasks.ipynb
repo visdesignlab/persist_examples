{
 "cells": [
  {
   "cell_type": "markdown",
   "id": "522fcbb3-702c-4ea0-91d9-f3b0e71690fc",
   "metadata": {
    "__GENERATED_DATAFRAMES__": "{\"nodeDataframes\":{},\"graphDataframes\":null}",
    "show_aggregate_original": "false",
    "trrack_graph": "ᯡ࠽䈌ʀ匦㢠⹰àᦴ΀࣪ʐ怶䦠挠᱊ࠥ䁁䂖㚥煤晬փ⊪ĸ暂䙠঳ैkᑄᄈ妐ଷᓋ⃩䖻Ṯ溜Φ䐡傠Ǒ団Қ′䈤7ࡣᠠ湐戎Ⴆ寐爤䀥屨攠ʕ㥀ǔÚ䍃㏙䤥ࢂ┩勸惀Ēいཆ༠೥∁∀秸㲅䌠ⶬᛦ䙂ǃɡ殍戰泤ᒁ嬦怭㋉匥穃ᄠ彣჻⴦䉫ぢ睤䄁ⵐۻG䀡曑砑䂱竖ᄂ㜿Ꭽ˹ȩᚱ凁兘㑐Ṣ༩Ẻ䳥⑆憰棨忞⍧攈堽Ī僰὆揖䦲ᡊ⛓౱নఱ姼ᤦΧ您別൧儸晋Ǣ熘繀䉁硨K塊়ṹᜰ倳䪂ⵦ⚈ᒽ᪺ᆬ䀠 "
   },
   "source": [
    "# Analyzing Utah Avalanche Data"
   ]
  },
  {
   "cell_type": "markdown",
   "id": "3abf1206-e99f-45b6-a92b-d971a2a8eb19",
   "metadata": {
    "trrack_graph": "ᯡ࠽䈌ʀ匦㢠⹰ૠܠ昢〽䂆౐׀ৣfL⍉ျ⥒⠡䒙¬ᧇ峕搢ಒ嫒┠অҤᵖ㹢晴㘉ᦳㄍ毿䡨墠ᨰV䆼ガ搢⡠䀢焨㌠෦ౝ戰殖๠ᠠ塩ೀn坄V䀷⢄㚗᥂夬ು䅻ఴ>☤䝃傳狱⊔㳜ੁ䀶挫㐷ࢢӡჵ嬩іㄪᢉ懐ͻ䬥䇽ࣨ䁏僿峱䐰㋸ᇻ兀㡆䱍㛠਀ⲛ粀೽疨һ䟩桁㙡Ũ昙ˢ䧮ᄪᆽ䥢ᅅᄁẩ㱸౮ᐶޣ先ఽЃⵖᥒ⌥▶懜ᩑƢ᭛䭄憐ɑ٦⦈䙓ǂ炘㸠䱅࢜ؠଌથ䜯๡䙉夊᜶僑汢㭢☈₁䠠 "
   },
   "source": [
    "**Participant ID:**  \n",
    "**Date / Time:**"
   ]
  },
  {
   "cell_type": "markdown",
   "id": "ceac0d48-2820-4532-bfd2-adf6533d7a2d",
   "metadata": {},
   "source": [
    "## Introduction\n",
    "Welcome to our data analysis study. For this part of the study, you'll be working with a dataset sourced from the [Utah Avalanche Center](https://utahavalanchecenter.org/). The data provides insights into [avalanche occurrences](https://utahavalanchecenter.org/avalanches) in Utah.\n"
   ]
  },
  {
   "cell_type": "markdown",
   "id": "68491102-96aa-4701-8134-d998c80ae04b",
   "metadata": {},
   "source": [
    "- You will use an extension called PersIst to complete **data cleanup and manipulation** tasks. \n",
    "- To familiarize yourself with its functionalities, please refer to the provided [tutorial notebook](../tutorial.ipynb).\n",
    "- Interactive charts and tables have been pre-created for your convenience. These can be directly utilized by running the corresponding cells.\n",
    "- Focus on leveraging the interactive capabilities of Persist for your analysis.\n",
    "- In some cases, you will be asked to document your findings. Please do this in writing in a markdwon cell."
   ]
  },
  {
   "cell_type": "markdown",
   "id": "95b5d524-883a-460b-8023-2c6aab29570f",
   "metadata": {},
   "source": [
    "## Tasks Overview"
   ]
  },
  {
   "cell_type": "markdown",
   "id": "8ebadbe2-4497-401c-9220-017809e835de",
   "metadata": {
    "__GENERATED_DATAFRAMES__": "{\"nodeDataframes\":{},\"graphDataframes\":null}",
    "show_aggregate_original": "false",
    "trrack_graph": "ᯡ࠽䈌ʀ匦㢠⹰ૠବɐච䎍倶䊪ᠠ父嬡ᳺ෪ੲࠬ晴ᘦ㍲差Ⱗㅅ)㊤䈽ାƂ刴喋橖㎁混䩟ႠᨰV岸㈔␢⡠䀢焧匠෦భ戰௷㙠̸x䠊䀡᲼䠠洠⺾彡抄䀠㈉㶣㡶ᡈ\\䰩(懄燃㌂㰢ᒌ娾䀶挥㗦ࢢ烡ၕ⬱жㄢ៉䓐͸⮑ŝㄐ䁏你㋲既祸ၛᅀ㢆䰽⫠਀⻚粀幝ඨ࣓叾殪㙡ƨ◓ᰢ寘奇Ⴌ䦦糂礒৉ᱥ䩃༥ס扦᤭ԓ噻ҩᆠ剋࣡ସ䂡▥撰じ㸨䅃䢴മ䂁ᣌ㬫䈁碢➫怢崢悩欂䥑央Ⴧ掴≺䩬槔ဨ搠 "
   },
   "source": [
    "In this study, you are presented with three fundamental data analysis tasks. Each task is designed to test different aspects of data analysis and manipulation.\n",
    "\n",
    "- Carefully follow the step-by-step instructions provided for each task.\n",
    "- As you work through the tasks, take note of any interesting findings or challenges you encounter, either by speaking your thoughts out loud or taking notes in a markdown cell. This can include observations about the data, any issues encountered, and your overall experience with the task/method.\n",
    "- Feel free to add new code and markdown cells in the notebook as necessary to complete the tasks, but please do attempt the tasks with the PersIst functionality.\n",
    "\n",
    "**Support**\n",
    "- If you require assistance or need further clarification on any of the tasks, please let us know.\n",
    "- If you find yourself stuck on a task and feel that you will not make any progress, you have the option to skip the task.\n",
    "- For tasks that build upon the outputs of previous tasks, skipping a task will affect your ability to proceed. To avoid such problems we will assist you loading a fallback dataset. "
   ]
  },
  {
   "cell_type": "code",
   "execution_count": 1,
   "id": "9337796b-21e8-4c8c-bbbd-3076a775d03b",
   "metadata": {
    "trrack_graph": "ᯡ࠽䈌ʀ匦㢠⹰Ӡ̴ɐ೭氭䁍ءᰠ㠤㈰ֿ౥䭛⚥䠰澥樦㈀ᣥ᮪ተ¶⡨⇱㌀ᙎ╶廋ጶ皼㸚ܨǁ#㎉䌿㉠ኤРᜰ㵐üム湁Ý㮄ྠ׈终GᎲ;‫号桘䲰梚㹀嬵䘪/ጢ⁳灨㤠瘲ਫ਼᝛䧧倥壡⳸≀㙐␵⫴℡䱧؊ㅌö㋖w㑌ါ珳畗ヸ籶і䑨ั匣⫐ʘ<䯎Ἰἷⶂੌ甗姒䶰ℂ䤪㬻ᝂ㋠և我傉㦈ቢॎ⨕䑌抢Ԙ㔠䔒嘻⒡ᆡቫხस䀡▥抰じḨ䕂⡔ᴡ䕲堼᜷䛠Ѣ➯䀢尢₱欆䧱㤶ᣅ扴昡ᇆ፩愰搠 "
   },
   "outputs": [],
   "source": [
    "import helpers as h\n",
    "import pandas as pd\n",
    "\n",
    "import seaborn as sns\n",
    "import matplotlib.pyplot as plt\n",
    "import altair as alt\n",
    "\n",
    "import persist_ext as PR"
   ]
  },
  {
   "cell_type": "markdown",
   "id": "dd81aecd-eebf-4624-b9e2-3a864c474c1d",
   "metadata": {
    "__GENERATED_DATAFRAMES__": "{\"nodeDataframes\":{},\"graphDataframes\":null}",
    "show_aggregate_original": "false",
    "trrack_graph": "ᯡ࠽䈌ʀ匦㢠⹰Ҁ̡䘠烠嘢త〫‥侴ᓬᛞ拐ৡ䚂ద抭婈ހڅྯ䌲⠠䭈⑁槑焳Ⴥ⩦仃㍶๽㰥Ҩǁ#㟢䌰橠ኤРᜰ͐üメ湁˛㾄ָ̠憴)挄䀦栢琭ٮ㍄ᨡ䌤ᾣㆢ䀣擠䢤㘦Sᥧᡠ戂怡ᠬÖᠻ㹈䐿ة׉妨⃓ࢱ̴㖠᫲徤ฏѤƜڣ回㸦ۡ৵ण䃔戊㘠传ϊ緯挡䘌污䕽庮粓㈨ɪⷠ搃猄ᦨ洘㳌ᤪ̪౦繶ሱ澂䘣⁑Ҝഭ炍孉ृÅ⭱䤾ᢠ䆋෭ኀ㠢Ү≱呺Ấ惑汮ᮯ戩䊏̠˙Ɂ⧽憳㈒ṉⅱਊ⥋⃆瑀⣨  "
   },
   "source": [
    "## Data Description\n",
    "\n",
    "The table below describes the different columns in the dataset. Each row in the dataset represents a reported avalanche with details on location, trigger, and aspect. The data spans multiple years, starting from 2004 up to 2023.\n",
    "\n",
    "| Column          | Description                                                    |\n",
    "|-----------------|----------------------------------------------------------------|\n",
    "| Date            | Date on which the avalanche was recorded                       |\n",
    "| Region          | Region in Utah where the avalanche occurred                    |\n",
    "| Place           | Exact location where the avalanche was recorded                |\n",
    "| Trigger         | Cause of the avalanche                                         |\n",
    "| Weak Layer      | Layer of snow that was weakest and likely to fail              |\n",
    "| Depth_inches    | Depth of the avalanche in inches                               |\n",
    "| Width_inches    | Width of the avalanche in inches                               |\n",
    "| Vertical_inches | Vertical extend of the avalanche in inches                     |\n",
    "| Aspect          | Direction of the slope where the avalanche occurred            |\n",
    "| Elevation_feet  | Elevation of the avalanche location in feet                    |\n",
    "| Coordinates     | Approximate geographical coordinates of the avalanche location |\n",
    "| Comments 1      | Additional comments provided by the reporter                   |"
   ]
  },
  {
   "cell_type": "code",
   "execution_count": 3,
   "id": "8d0e426c-89a0-4813-8994-65ebba3f3a25",
   "metadata": {
    "trrack_graph": "ᯡ࠽䈌ʀ匦㢠⹰ڀᆡᰦᠡ䚴ƀୠᆤ䃌X䐳V੤ѐೢ䍃㇂恆㬤॒慄䨠ዪन㪌㲥⑋⫰㚆懫域℁ဠ㑀䳰怺䠤傡%柄ؠᮬ᡻䑁ᚍ涀Óࡕ$皒‣㐡㬚ͧ⦲ܿ▤આ壡‡犀␲ᴦ݀໡䈃匄夈┚{ౕ䦴∤挤䍷ⳤ္䒐纺ૠඎ⪀ޖ䋢Þ綞獪ࡺ悮梩ǡ᪁㗶o#䦍搃˦痌⃤⺖݆᧒Т╂Ⓜㅒ獆桤牚⸭ᝇǡ䗮㴲⥔桰༤偀傔ᶵヹ␩఩ቻܐ棤)Ⳏ㒳ף烤ᤪ䇃梬⬽䔀惼ἣ1т㱠֐Ң⎻䍀搄汲䞭⤩൉ṩ榦† "
   },
   "outputs": [
    {
     "data": {
      "text/html": [
       "<div>\n",
       "<style scoped>\n",
       "    .dataframe tbody tr th:only-of-type {\n",
       "        vertical-align: middle;\n",
       "    }\n",
       "\n",
       "    .dataframe tbody tr th {\n",
       "        vertical-align: top;\n",
       "    }\n",
       "\n",
       "    .dataframe thead th {\n",
       "        text-align: right;\n",
       "    }\n",
       "</style>\n",
       "<table border=\"1\" class=\"dataframe\">\n",
       "  <thead>\n",
       "    <tr style=\"text-align: right;\">\n",
       "      <th></th>\n",
       "      <th>Date</th>\n",
       "      <th>;Region</th>\n",
       "      <th>Place</th>\n",
       "      <th>;Trigger</th>\n",
       "      <th>;Weak Layer</th>\n",
       "      <th>Depth_inches</th>\n",
       "      <th>Width_inches</th>\n",
       "      <th>Vertical_inches</th>\n",
       "      <th>;Aspect</th>\n",
       "      <th>Elevation_feet</th>\n",
       "      <th>Coordinates</th>\n",
       "      <th>Comments 1</th>\n",
       "    </tr>\n",
       "  </thead>\n",
       "  <tbody>\n",
       "    <tr>\n",
       "      <th>0</th>\n",
       "      <td>11/9/2012</td>\n",
       "      <td>Salt Lake</td>\n",
       "      <td>Sunset Peak</td>\n",
       "      <td>Snowboarder</td>\n",
       "      <td>New Snow/Old Snow Interface</td>\n",
       "      <td>14.0</td>\n",
       "      <td>960.0</td>\n",
       "      <td>360.0</td>\n",
       "      <td>North</td>\n",
       "      <td>10400.0</td>\n",
       "      <td>40.577977000000, -111.595817000000</td>\n",
       "      <td>While it was a small avalanche that was I caug...</td>\n",
       "    </tr>\n",
       "    <tr>\n",
       "      <th>1</th>\n",
       "      <td>11/11/2012</td>\n",
       "      <td>Salt Lake</td>\n",
       "      <td>Patsy Marly</td>\n",
       "      <td>Skier</td>\n",
       "      <td>New Snow/Old Snow Interface</td>\n",
       "      <td>30.0</td>\n",
       "      <td>1200.0</td>\n",
       "      <td>1200.0</td>\n",
       "      <td>North</td>\n",
       "      <td>9700.0</td>\n",
       "      <td>40.592619000000, -111.616099000000</td>\n",
       "      <td>A North facing aspect with an exposed ridge in...</td>\n",
       "    </tr>\n",
       "    <tr>\n",
       "      <th>2</th>\n",
       "      <td>11/11/2012</td>\n",
       "      <td>Salt Lake</td>\n",
       "      <td>Two Dogs</td>\n",
       "      <td>Skier</td>\n",
       "      <td>Facets</td>\n",
       "      <td>36.0</td>\n",
       "      <td>840.0</td>\n",
       "      <td>5400.0</td>\n",
       "      <td>North</td>\n",
       "      <td>10200.0</td>\n",
       "      <td>40.599291000000, -111.642315000000</td>\n",
       "      <td>Remotely triggered all the new storm snow (abo...</td>\n",
       "    </tr>\n",
       "    <tr>\n",
       "      <th>3</th>\n",
       "      <td>11/11/2012</td>\n",
       "      <td>Salt Lake</td>\n",
       "      <td>Emma Ridges</td>\n",
       "      <td>Skier</td>\n",
       "      <td>New Snow</td>\n",
       "      <td>18.0</td>\n",
       "      <td>600.0</td>\n",
       "      <td>6000.0</td>\n",
       "      <td>Southeast</td>\n",
       "      <td>10200.0</td>\n",
       "      <td>40.598313000000, -111.628304000000</td>\n",
       "      <td>Impressive fast powder cloud ran in front of t...</td>\n",
       "    </tr>\n",
       "    <tr>\n",
       "      <th>4</th>\n",
       "      <td>11/11/2012</td>\n",
       "      <td>Salt Lake</td>\n",
       "      <td>Sunset Peak</td>\n",
       "      <td>Skier</td>\n",
       "      <td>Facets</td>\n",
       "      <td>42.0</td>\n",
       "      <td>18000.0</td>\n",
       "      <td>9600.0</td>\n",
       "      <td>North</td>\n",
       "      <td>10400.0</td>\n",
       "      <td>40.578590000000, -111.595087000000</td>\n",
       "      <td>Three of us toured from Brighton to low saddle...</td>\n",
       "    </tr>\n",
       "    <tr>\n",
       "      <th>...</th>\n",
       "      <td>...</td>\n",
       "      <td>...</td>\n",
       "      <td>...</td>\n",
       "      <td>...</td>\n",
       "      <td>...</td>\n",
       "      <td>...</td>\n",
       "      <td>...</td>\n",
       "      <td>...</td>\n",
       "      <td>...</td>\n",
       "      <td>...</td>\n",
       "      <td>...</td>\n",
       "      <td>...</td>\n",
       "    </tr>\n",
       "    <tr>\n",
       "      <th>2387</th>\n",
       "      <td>4/22/2023</td>\n",
       "      <td>Salt Lake</td>\n",
       "      <td>Cardiff Bowl</td>\n",
       "      <td>Unknown</td>\n",
       "      <td>New Snow/Old Snow Interface</td>\n",
       "      <td>8.0</td>\n",
       "      <td>720.0</td>\n",
       "      <td>1800.0</td>\n",
       "      <td>East</td>\n",
       "      <td>9800.0</td>\n",
       "      <td>40.592721660567, -111.649613218710</td>\n",
       "      <td>We spent the day skiing the southerly-facing a...</td>\n",
       "    </tr>\n",
       "    <tr>\n",
       "      <th>2388</th>\n",
       "      <td>4/22/2023</td>\n",
       "      <td>Logan</td>\n",
       "      <td>Miller Bowl, East</td>\n",
       "      <td>Snowmobiler</td>\n",
       "      <td>New Snow/Old Snow Interface</td>\n",
       "      <td>18.0</td>\n",
       "      <td>540.0</td>\n",
       "      <td>4800.0</td>\n",
       "      <td>North</td>\n",
       "      <td>8700.0</td>\n",
       "      <td>41.886233332343, -111.645074831510</td>\n",
       "      <td>Not sure about the story here, but we observed...</td>\n",
       "    </tr>\n",
       "    <tr>\n",
       "      <th>2389</th>\n",
       "      <td>4/22/2023</td>\n",
       "      <td>Logan</td>\n",
       "      <td>Millville Peak</td>\n",
       "      <td>Snowboarder</td>\n",
       "      <td>New Snow/Old Snow Interface</td>\n",
       "      <td>12.0</td>\n",
       "      <td>3600.0</td>\n",
       "      <td>7200.0</td>\n",
       "      <td>North</td>\n",
       "      <td>8900.0</td>\n",
       "      <td>41.677564539953, -111.718065248970</td>\n",
       "      <td>Details are a bit limited and we're not sure w...</td>\n",
       "    </tr>\n",
       "    <tr>\n",
       "      <th>2390</th>\n",
       "      <td>5/7/2023</td>\n",
       "      <td>Salt Lake</td>\n",
       "      <td>Red Top Mountain</td>\n",
       "      <td>Natural</td>\n",
       "      <td>Unknown</td>\n",
       "      <td>72.0</td>\n",
       "      <td>3000.0</td>\n",
       "      <td>12000.0</td>\n",
       "      <td>West</td>\n",
       "      <td>10800.0</td>\n",
       "      <td>40.546874131921, -111.663880335390</td>\n",
       "      <td>Saw this avalanche around 9.30 AM from the top...</td>\n",
       "    </tr>\n",
       "    <tr>\n",
       "      <th>2391</th>\n",
       "      <td>5/9/2023</td>\n",
       "      <td>Salt Lake</td>\n",
       "      <td>Microwave</td>\n",
       "      <td>Skier</td>\n",
       "      <td>Unknown</td>\n",
       "      <td>6.0</td>\n",
       "      <td>300.0</td>\n",
       "      <td>2400.0</td>\n",
       "      <td>West</td>\n",
       "      <td>10000.0</td>\n",
       "      <td>40.589449603656, -111.613240229200</td>\n",
       "      <td>Intentionally triggered during a ski cut. Ran ...</td>\n",
       "    </tr>\n",
       "  </tbody>\n",
       "</table>\n",
       "<p>2392 rows × 12 columns</p>\n",
       "</div>"
      ],
      "text/plain": [
       "            Date    ;Region              Place     ;Trigger  \\\n",
       "0      11/9/2012  Salt Lake        Sunset Peak  Snowboarder   \n",
       "1     11/11/2012  Salt Lake        Patsy Marly        Skier   \n",
       "2     11/11/2012  Salt Lake           Two Dogs        Skier   \n",
       "3     11/11/2012  Salt Lake        Emma Ridges        Skier   \n",
       "4     11/11/2012  Salt Lake        Sunset Peak        Skier   \n",
       "...          ...        ...                ...          ...   \n",
       "2387   4/22/2023  Salt Lake       Cardiff Bowl      Unknown   \n",
       "2388   4/22/2023      Logan  Miller Bowl, East  Snowmobiler   \n",
       "2389   4/22/2023      Logan     Millville Peak  Snowboarder   \n",
       "2390    5/7/2023  Salt Lake   Red Top Mountain      Natural   \n",
       "2391    5/9/2023  Salt Lake          Microwave        Skier   \n",
       "\n",
       "                      ;Weak Layer Depth_inches  Width_inches  Vertical_inches  \\\n",
       "0     New Snow/Old Snow Interface         14.0         960.0            360.0   \n",
       "1     New Snow/Old Snow Interface         30.0        1200.0           1200.0   \n",
       "2                          Facets         36.0         840.0           5400.0   \n",
       "3                        New Snow         18.0         600.0           6000.0   \n",
       "4                          Facets         42.0       18000.0           9600.0   \n",
       "...                           ...          ...           ...              ...   \n",
       "2387  New Snow/Old Snow Interface          8.0         720.0           1800.0   \n",
       "2388  New Snow/Old Snow Interface         18.0         540.0           4800.0   \n",
       "2389  New Snow/Old Snow Interface         12.0        3600.0           7200.0   \n",
       "2390                      Unknown         72.0        3000.0          12000.0   \n",
       "2391                      Unknown          6.0         300.0           2400.0   \n",
       "\n",
       "        ;Aspect  Elevation_feet                         Coordinates  \\\n",
       "0         North         10400.0  40.577977000000, -111.595817000000   \n",
       "1         North          9700.0  40.592619000000, -111.616099000000   \n",
       "2         North         10200.0  40.599291000000, -111.642315000000   \n",
       "3     Southeast         10200.0  40.598313000000, -111.628304000000   \n",
       "4         North         10400.0  40.578590000000, -111.595087000000   \n",
       "...         ...             ...                                 ...   \n",
       "2387       East          9800.0  40.592721660567, -111.649613218710   \n",
       "2388      North          8700.0  41.886233332343, -111.645074831510   \n",
       "2389      North          8900.0  41.677564539953, -111.718065248970   \n",
       "2390       West         10800.0  40.546874131921, -111.663880335390   \n",
       "2391       West         10000.0  40.589449603656, -111.613240229200   \n",
       "\n",
       "                                             Comments 1  \n",
       "0     While it was a small avalanche that was I caug...  \n",
       "1     A North facing aspect with an exposed ridge in...  \n",
       "2     Remotely triggered all the new storm snow (abo...  \n",
       "3     Impressive fast powder cloud ran in front of t...  \n",
       "4     Three of us toured from Brighton to low saddle...  \n",
       "...                                                 ...  \n",
       "2387  We spent the day skiing the southerly-facing a...  \n",
       "2388  Not sure about the story here, but we observed...  \n",
       "2389  Details are a bit limited and we're not sure w...  \n",
       "2390  Saw this avalanche around 9.30 AM from the top...  \n",
       "2391  Intentionally triggered during a ski cut. Ran ...  \n",
       "\n",
       "[2392 rows x 12 columns]"
      ]
     },
     "execution_count": 3,
     "metadata": {},
     "output_type": "execute_result"
    }
   ],
   "source": [
    "df = pd.read_csv('./avalanches_data.csv')\n",
    "df"
   ]
  },
  {
   "cell_type": "markdown",
   "id": "7cc10d2b-9b1e-46f4-9769-b9a0ac0c9e8f",
   "metadata": {
    "__GENERATED_DATAFRAMES__": "{\"nodeDataframes\":{},\"graphDataframes\":null}",
    "show_aggregate_original": "false",
    "trrack_graph": "ᯡ࠽䈌ʀ匦㢠⹰ૠ㌬Ā჻R〶䁃lyٹ⁓f䍐ۢ䧪㈉◔ฅޡ䨲⠠䬱䑁棒瀱Ⴭ⭱妻ݎẜʤ䐡傠ǖ悃РኤРᜰ結üメ浪巟㈠ᣠˬ⃪$熒‣㐡㬚͇⦲༿⸂໡壡‡犀⒂ଠᎭॣ䥡⊃㡹稠嬸ූᑤඦҡ哹䑀妨䤝͕䀺慽䈩瞤∡㼚ƶ嵖᯦悡檩ǣ᪀畖o#䖊⠃ܑ璌⃥⹾䞌᧒Т⺈ᆡ⇳㴑䒤㒌ŭ᯸丈◡戱⃰潅Ԧ秐噑๦磜疶溂⒀ᒪ扖⋦ူⶃ㧄మྡྷშ⨭རㅸ瘭ǅ爘䅐䘆砠址䑂㥨㈼㹯䕈䓵ᒹ憴婊③ᤠ "
   },
   "source": [
    "# Task 1: Refining Columns and Preparing Data\n",
    "\n",
    "In the first task we will perform some basic data cleaning operations to get our dataset ready for further tasks."
   ]
  },
  {
   "cell_type": "markdown",
   "id": "8934b219-dd97-4e3e-9aa9-0dd7a9d62ad5",
   "metadata": {
    "__GENERATED_DATAFRAMES__": "{\"nodeDataframes\":{},\"graphDataframes\":null}",
    "show_aggregate_original": "false",
    "trrack_graph": "ᯡ࠽䈌ʀ匦㢠⹰ૠ㬠氤〥䌸瀶䀹䁣๲ৠܦᔨҀᣴ䂼䋃‣ᓆ做►䀳ല⠠䭈⑁槑瀱ᝉ⍮冫㭮ẜʦ䒠ǁ#㕀挸晠ኤРᝣၐüムṁǟ㤉䀥䉸攠ʓ㥀ǔÚ⎃஥䤫䒄攭ᇸ惀Ēいᘦᖠೣ䗫⃂変ⱦ{ఽ咼∪⌤䋵汄ჹ䑈冣ᛠඉⵆܔ⍂Þ⍡歹ম悩溩Ǡ媁疖o#䖓瀃ʅ璌⁅溮杲◒Ъ⍁䔶户ࣉⓢ削౐䘰䵥䌂んḸئԢ灐糕൤㧶ⶬ䲱䅲ᗈ撯ౠ惍䈅䥐属ѣ၈⩍སヸ๗௧焤ᄸ䒰Ž䅰䔉燩壥༲刳樲⭮✈咰ᒄ  "
   },
   "source": [
    "### **Task 1a: Remove Columns**"
   ]
  },
  {
   "cell_type": "markdown",
   "id": "47b531d4-2e3a-4e9a-b92a-39aebfc3deb6",
   "metadata": {
    "__GENERATED_DATAFRAMES__": "{\"nodeDataframes\":{},\"graphDataframes\":null}",
    "show_aggregate_original": "false",
    "trrack_graph": "ᯡ࠽䈌ʀ匦㢠⹰ૠ㬠氤〥䌸瀶䀹䁣๲ৠܦᔨҀᣴ䂼䋃‣ᓆ做►䀳ല⠠䭈⑁槑瀱ᝉ⍮冫㭮ẜʦ䒠ǁ#㕀挸晠ኤРᝣၐüムṁǟ㤉䀥䉸攠ʓ㥀ǔÚ⎃஥䤫䒄攭ᇸ惀Ēいᘦᖠೣ䗫⃂変ⱦ{ఽ咼∪⌤䋵汄ჹ䑈冣ᛠඉⵆܔ⍂Þ⍡歹ম悩溩Ǡ媁疖o#䖓瀃ʅ璌⁅溮杲◒Ъ⍁䔶户ࣉⓢ削౐䘰䵥䌂んḸئԢ灐糕൤㧶ⶬ䲱䅲ᗈ撯ౠ惍䈅䥐属ѣ၈⩍སヸ๗௧焤ᄸ䒰Ž䅰䔉燩壥༲刳樲⭮✈咰ᒄ  "
   },
   "source": [
    "Remove certain columns to streamline the dataset for further analysis.\n",
    "- **_Comments 1:_** Contains textual comments not crucial for quantitative analysis.\n",
    "- **_Coordinates:_** Detailed location data not needed for the current scope of analysis."
   ]
  },
  {
   "cell_type": "markdown",
   "id": "aec9ad2a-ab09-4288-b8fa-2852bcddda1a",
   "metadata": {},
   "source": [
    "#### **Instructions**\n",
    "1. **Column Removal:**\n",
    "\t- Use the interactive table feature in PersIst to remove the specified columns.\n",
    "2. **Generate dataframe:**\n",
    "\t- Assign the modified dataframe to variable `df_task_1a`\n",
    "3. **Show Output:**\n",
    "\t- Print the head of `df_task_1a` to show the changes."
   ]
  },
  {
   "cell_type": "code",
   "execution_count": 4,
   "id": "8e333ff3-cb24-430b-a332-733b41570ba4",
   "metadata": {
    "__GENERATED_DATAFRAMES__": "ᯡࠣ䅬Ԁ朤壠ᜣ琢〹夤゠⹰〮⁁䁻қ䚾ኊ㇠നСࠩ瀮晼Ƭ穅5愠៩䍒⊂ᠡ囹䔐ுᝉ⅊㚜䡆⠡盚⤂剰΀ރᵠҀ೥〣䀶䀡䀩䀳亱怫೤ᙧ㮭䬧䤊眕㥹ね帰vදྩ䏨ኢ䁠㡰᳚吨㈱劺ᬂ૦ᅛ㲘⚑ίъᇾ洃暔㜲崃漕ࡋཊᥙ䖽ف牁憔᱐㰠㛈თȥ䟖ጱ䷱䑶䝘䦫⟬洎琫ᮎ᪍⼈⭴⮭䙝ʍ儤⇒ⅈ㰹扤Ը亘惙㻊妨ⰷ䄣ᤚὂ⍷奜⽑ܷ⃐睛䊂⋬潓䄒㱾׊߃ưṎ䀡娩⑩䈈⒲擉圭ᢠ⺴䝁㉐ 䎠ƕ徆᠂̓溏ૢㆵ๴Ụ档序ᇆ熸存乃折晌ᾎ䀬墪ܷ䐳䓲㲲䰋咹䆿兡⡘ன祭峮⦪抑属ᜮ夲ぱѤ  ",
    "__has_persist_output": true,
    "editable": true,
    "slideshow": {
     "slide_type": ""
    },
    "tags": [],
    "trrack_graph": "ᯡ࠽䈌ʀ匦㢠⹰۠㬺倱䃬Ⱓ䁍&lŘƺࠥ䚬Ĺ޳䆡䚦䧔嘬准K᭄ܻ倡ᙰ䡣劅恂ⅺ仃㍶๼㴘ܭठ͢&怰斦ᣬ䁅ШN䍀〡岁䉜Åㄉ涠֤壪$瞒‣㖄ぼ⡳เ傫ڣ䅰儲䴤え䉖ฮ᭟ࡊ㎂僀䀡㩦捷▲ᢨ曦ൗ壡‡犀⑞㥏ⴼ䩮䇡⊱డ㙐筳㢨ᓬथῐ䡡㬰ᅵ၌ᶠ᫬㪂໼䑴Ɯ䜛◪ঝ䄭㇗ѹ䃯氡Ḡݧ垠☭䷚碠䢘丷ᓥ㍀⁉٠搁♳ഩ㦁ѡԦ挱㑔᢮⍐桄ク䄁⑪ଥʱ䌺ኮ⤸⾗䙤棠ⵧ夈攸⠸䚧ࡄ䤴䵎₄夼佀⣀䔲䳃ᡢ帶㙏੅䥴嚮䨱ᦌ坏䨵䕲岴熸ᙰ␠¨䈰⯠C぀挠ଆᦡ䚠ᡢ̸☾᰸梁᳕⁋攩ഠ㺹妎娰䛀ⰳն⢿੧〸匱ͣば䓗۵推ᒎ᪅ᄤ爻⌢惸⠸䇕㸖睇䭀懐㰱٢僱㔫໤燘幟сࣤ䛓⫰當ỏ⾦ႈ愴ኧെ榸ᝐⱺ旘㇒汀州梕嵮妨→岎疱䜢䢀H助⎝圹䨡ļ䘫Ⱙ㴽氛庴秜ἰӟ〤䂰㉊ĺ㉐䬑䱖ऑయ瀀搠ཥ╠䠬Սᰍ畾῎㓍ᠠ䅮 砠䰤ɪⰾˀ䑄㈀䗆粩⊅䅬̭₀ᨠⶈࢨ䨐ᔭ⅒┠憚ਧ梈ㄢŐ䠯糜⦥Ǆᠲ桀垩Нᨴഀ䡆⍂࠯㔽ᦂ瓽ৡ壞࿧砡㶭む┣ᄄᖈ冋ય₸⎉偻ຮ渔㬃⣼⡀懷⒍ඃⴠ䲳⤢䴧㪍ӓ຋ȓↆᗄឮ狸ಇො糇狳⩈௓⺊୛মㄊហ㒭⧊䏍᷇ぢᐠ؉Ჱ痫ሲ䈣㨷灣⡮঎㢶෫Ⓠ旅❇ᗘ཈唙ૈᖥہ①ⵏ▛㝭戧ㄨᆨㄧ成㤅ᢆ㔀熇૭㵖໧堮І㥗ҩ㣸㨄橠㼋Ư⨄㪎⠯㱮渋㯶␀硿㕅灟᠂⊟᫥䊐帲ʼℵኄ悉̘柰䊄㷁ƪ楺桐䆣竜‼Ȩ䒴⋤粱ۜ㤭抈ᘢ䂃℥Ȑ℈抈പ䵨ᨨ䔤₡哰̮䕈᢬㣔羭禞㿡瀬冱ᕋʣⶴ㶅㉔㎍僻Ả柊⵪ըፂĭ⾧栄㖄儋⪢ᚻᚪ涔އ灍ࡢ歁࣡玂抏ી⪀୓ੲਫ୔  "
   },
   "outputs": [
    {
     "data": {
      "application/vnd.jupyter.widget-view+json": {
       "model_id": "b93135b2852a4a888f96df93cb0280c2",
       "version_major": 2,
       "version_minor": 0
      },
      "text/plain": [
       "PersistWidget(data_values=[{'__id_column': '1', 'Date': 1352419200000, ';Region': 'Salt Lake', 'Place': 'Sunse…"
      ]
     },
     "execution_count": 4,
     "metadata": {},
     "output_type": "execute_result"
    }
   ],
   "source": [
    "PR.PersistTable(df)"
   ]
  },
  {
   "cell_type": "code",
   "execution_count": 5,
   "id": "efefea2d-3f35-4ab7-aca3-453e28b34efa",
   "metadata": {
    "trrack_graph": "ᯡ࠽䈌ʀ匦㢠⹰Ӡଡద〡䔴ѐୠ₠昣墫⎶ᢨৣơ䙤րአ㘬熂烤䨠ዪन㪌㲤◩⣳和曳䟟℁ဠ㑀Сಀ൨ɰ䂠̇刦;䘸ᷤၷ㠌堠妨᪠Ř岰ú}㺡䧬撣䟱㌤ࢌばᠲ̻䃫䰁提偈⡸溝M䘦恪ᄠᆢ⇊㚂࡬戤㽸涀ۗᐲϚ戁㻟㧌䁢懐⏖≠灭᡺䶠ᏠČ徕磠姛欰ㅷ㷃䂼沢²䰒䡉Ꮶຎମ᪢䎠撀叓㢨籸ᑒᣨ᎐桒ᮯ㇍ᭉᅃͅ䮁䄺ᢡƋ෭ኁ㢜ᢪ≱呺Ấ拐ᱎហႴ㨤䀪琫˧㮦ⓧ摘势൱ऺ⥛Ⅰ䓣ဠ "
   },
   "outputs": [
    {
     "data": {
      "text/html": [
       "<div>\n",
       "<style scoped>\n",
       "    .dataframe tbody tr th:only-of-type {\n",
       "        vertical-align: middle;\n",
       "    }\n",
       "\n",
       "    .dataframe tbody tr th {\n",
       "        vertical-align: top;\n",
       "    }\n",
       "\n",
       "    .dataframe thead th {\n",
       "        text-align: right;\n",
       "    }\n",
       "</style>\n",
       "<table border=\"1\" class=\"dataframe\">\n",
       "  <thead>\n",
       "    <tr style=\"text-align: right;\">\n",
       "      <th></th>\n",
       "      <th>Date</th>\n",
       "      <th>;Region</th>\n",
       "      <th>Place</th>\n",
       "      <th>;Trigger</th>\n",
       "      <th>;Weak Layer</th>\n",
       "      <th>Depth_inches</th>\n",
       "      <th>Width_inches</th>\n",
       "      <th>Vertical_inches</th>\n",
       "      <th>;Aspect</th>\n",
       "      <th>Elevation_feet</th>\n",
       "      <th>__annotations</th>\n",
       "    </tr>\n",
       "  </thead>\n",
       "  <tbody>\n",
       "    <tr>\n",
       "      <th>0</th>\n",
       "      <td>2012-11-09</td>\n",
       "      <td>Salt Lake</td>\n",
       "      <td>Sunset Peak</td>\n",
       "      <td>Snowboarder</td>\n",
       "      <td>New Snow/Old Snow Interface</td>\n",
       "      <td>14.0</td>\n",
       "      <td>960</td>\n",
       "      <td>360.0</td>\n",
       "      <td>North</td>\n",
       "      <td>10400.0</td>\n",
       "      <td>No Annotation</td>\n",
       "    </tr>\n",
       "    <tr>\n",
       "      <th>1</th>\n",
       "      <td>2012-11-11</td>\n",
       "      <td>Salt Lake</td>\n",
       "      <td>Patsy Marly</td>\n",
       "      <td>Skier</td>\n",
       "      <td>New Snow/Old Snow Interface</td>\n",
       "      <td>30.0</td>\n",
       "      <td>1200</td>\n",
       "      <td>1200.0</td>\n",
       "      <td>North</td>\n",
       "      <td>9700.0</td>\n",
       "      <td>No Annotation</td>\n",
       "    </tr>\n",
       "    <tr>\n",
       "      <th>2</th>\n",
       "      <td>2012-11-11</td>\n",
       "      <td>Salt Lake</td>\n",
       "      <td>Two Dogs</td>\n",
       "      <td>Skier</td>\n",
       "      <td>Facets</td>\n",
       "      <td>36.0</td>\n",
       "      <td>840</td>\n",
       "      <td>5400.0</td>\n",
       "      <td>North</td>\n",
       "      <td>10200.0</td>\n",
       "      <td>No Annotation</td>\n",
       "    </tr>\n",
       "    <tr>\n",
       "      <th>3</th>\n",
       "      <td>2012-11-11</td>\n",
       "      <td>Salt Lake</td>\n",
       "      <td>Emma Ridges</td>\n",
       "      <td>Skier</td>\n",
       "      <td>New Snow</td>\n",
       "      <td>18.0</td>\n",
       "      <td>600</td>\n",
       "      <td>6000.0</td>\n",
       "      <td>Southeast</td>\n",
       "      <td>10200.0</td>\n",
       "      <td>No Annotation</td>\n",
       "    </tr>\n",
       "    <tr>\n",
       "      <th>4</th>\n",
       "      <td>2012-11-11</td>\n",
       "      <td>Salt Lake</td>\n",
       "      <td>Sunset Peak</td>\n",
       "      <td>Skier</td>\n",
       "      <td>Facets</td>\n",
       "      <td>42.0</td>\n",
       "      <td>18000</td>\n",
       "      <td>9600.0</td>\n",
       "      <td>North</td>\n",
       "      <td>10400.0</td>\n",
       "      <td>No Annotation</td>\n",
       "    </tr>\n",
       "  </tbody>\n",
       "</table>\n",
       "</div>"
      ],
      "text/plain": [
       "        Date    ;Region        Place     ;Trigger  \\\n",
       "0 2012-11-09  Salt Lake  Sunset Peak  Snowboarder   \n",
       "1 2012-11-11  Salt Lake  Patsy Marly        Skier   \n",
       "2 2012-11-11  Salt Lake     Two Dogs        Skier   \n",
       "3 2012-11-11  Salt Lake  Emma Ridges        Skier   \n",
       "4 2012-11-11  Salt Lake  Sunset Peak        Skier   \n",
       "\n",
       "                   ;Weak Layer Depth_inches  Width_inches  Vertical_inches  \\\n",
       "0  New Snow/Old Snow Interface         14.0           960            360.0   \n",
       "1  New Snow/Old Snow Interface         30.0          1200           1200.0   \n",
       "2                       Facets         36.0           840           5400.0   \n",
       "3                     New Snow         18.0           600           6000.0   \n",
       "4                       Facets         42.0         18000           9600.0   \n",
       "\n",
       "     ;Aspect  Elevation_feet  __annotations  \n",
       "0      North         10400.0  No Annotation  \n",
       "1      North          9700.0  No Annotation  \n",
       "2      North         10200.0  No Annotation  \n",
       "3  Southeast         10200.0  No Annotation  \n",
       "4      North         10400.0  No Annotation  "
      ]
     },
     "execution_count": 5,
     "metadata": {},
     "output_type": "execute_result"
    }
   ],
   "source": [
    "df_task_1a.head()"
   ]
  },
  {
   "cell_type": "markdown",
   "id": "36c62d50-9c88-4ed9-8c97-e552a6e4c620",
   "metadata": {},
   "source": [
    "### **Task 1b: Fix Column Names**"
   ]
  },
  {
   "cell_type": "markdown",
   "id": "ab8f8f24-afd2-424f-ab34-3e3cde723aa3",
   "metadata": {
    "trrack_graph": "ᯡ࠽䈌ʀ匦㢠⹰ࢀㆪこ<ǐʀ୥崡汤Ɓ䔠⍂⠨撂䂼ì债晶堪慯掩ᐠ▴ሰ璹㤨䮲减ⓥ䢧᜾㺣䉠ð䀡壅冨㕀ॢȠ௞䠸ᢀ眰䅽忖䀢晐樠Ԃ牠ΈƔڦ❓ሠƠ暬ॡ声Ȅ恨䙜⬮ಬ俨⫣䞐డ㙐᬴⣔䰲ճ㌰䊆၂۔欠㖹┰᧶༨̘ඛฌ琻ɋ㉄ܠ榡哸Ŝ.ؗ⾬ള勑̵㯺ᱱ曨ဩᒡᾪ३⁂惡৒ј⪖ᩋࢶ䥣䍢ᇃ⢀☾ԣ䖎㑝䳓ⳄⓀ᪱ĦҐ戤׌㝔䆦成扉ڠ凈㨣ೣㅘ湏Bࡤ䒠ଈତޗ٩䟨㣜㥨◈ᩲ㭡⟢䀠 "
   },
   "source": [
    "Next, please fix column names to ensure consistency and clarity. \n",
    "\n",
    "It looks like something went wrong when reading the file and some column headers start with a `;`. Please remove the semicolon. "
   ]
  },
  {
   "cell_type": "markdown",
   "id": "63f4d5c5-9383-4857-beae-0cfa6ba466f2",
   "metadata": {},
   "source": [
    "#### **Instructions**\n",
    "1. **Rename Columns:**\n",
    "    - Use the interactive  table in Persist to correct the column names by removing the leading `;` from their names:\n",
    "        - _;Aspect_ → _Aspect_\n",
    "        - _;Region_ → _Region_\n",
    "        - _;Trigger_ → _Trigger_\n",
    "        - _;Weak Layer_ → _Weak Layer_\n",
    "2. **Generate dataframe:**\n",
    "    - Assign the revised dataframe to the variable `df_task_1b`.\n",
    "3. **Show Output:**\n",
    "    - Display the head of `df_task_1b` to verify the changes."
   ]
  },
  {
   "cell_type": "code",
   "execution_count": 6,
   "id": "e74dd265-2437-40e4-8673-be7ea1d079b3",
   "metadata": {
    "__GENERATED_DATAFRAMES__": "ᯡࠣ䅬Ԁ朤壠ᜣ琢〹夢゠⹰〮⁁䁻қ䚾ኊ㇠നСࠩ瀮晼Ƭ穅5愠៩䍒⊂ᠡ囨ĸ¬砫傷ᓁᕖ→午Ė͈煲⯁瀢怪怮杠ۭ〶䀣䆽ᨅ勥柤丼溪戠✠ᦴᏣ悓ј䂸㲢⡈Чԣ䂊䂦⊺⤴㴙䭥⋜䷺棉㌕㦀䎼▁咇ύ嗺断ゥ⋃斩猑晔瑑ޱܠ㄁䈀Ǖ⃙尰㳋墸侌☖塘砠౾孍浨㛣㜆૧≊僑ㆶ䞞戻ሲ䏢乄ⁱ䖆朓ⷫ▪煸炡ぷឣ㕋ȷᾬᛓ⋶㖯炡㚜ጾ璛晉᜼䙠砦&桅ၘ约ᙠ䀠慜₱怡㋤ᠥ℠ü2䈠ι䙤糵䤇䙀ࢣ皁㹀⮵患ࣈዲ囐⋤អة橁ᛷ拣牟⊶擒僤㨯兤Ḵ㳦Q₨⊭䛦⦤罤歔ê⥂ࡄ䶐ᦰ奤㈠ᕈฦ旓傞䭃ȑ㢔᢫䓡∠ᝰ⮸䃖ᗶ挨䋤Щ刂沒濼Ẑ䋈ࡶ哓洈⎫㕡㜒ЬᏚපो১煖纵ᕄ⧭䵎䢇㷞翐Ᾰ綞䂊ࠅ揢嘵枳↻╨癁䉾᪐ᔵ䉜㎩Ⅽ⹻ㄬ⨦殈䠡廩᭴煍彀㭴浞信ᤠ㫘區(9ㄭ䀼䂯焥羞㿃䁰タአ泅勢墫䬡烳䯡Ӡ仅Ჾᑴ⣎ˁ⨫䮃䐦儓嬆勵ṍ䐣憮嘁㫳Я䲬䀤࣠䠤ㄦࠤᨀ烲ᣦ燲䍶戧狀粯掴泲珆Ⴂ惘Ḵᐌⰷ勸ኯ₠周椾௤筺≵媂牵⓾Ỷ䟱䐲䌉ࠡ䐪棩䋐主䊦噊ᠪ† ",
    "__has_persist_output": true,
    "trrack_graph": "ᯡ࠽䈌ʀ匦㢠⹰ڀㆠⰥ〽䊡壐ୠΪ੉࣠⌠⍺䐨㑟⧖ᠳ䁓Ꮤ氅澩ᐠ▴ሰ瓸礪䮴减ⓥ䷇༮㸢䈠桠ú᫱䏱ဩ™+䑎䰠㜸ヷࡣ䵹夦䀢扏⨠Ꮓ䤠෉痀熀㡘⒈∠ጦʪ価憢㉐恘䑸&ฬحǣ俣䕢ᡠÚ嵝㷑䤧ᯆ䐬㉸惀Ēい㔪⩇ǧ࿡戩掔Öᡫ֒б䘩ڼ墨⇛࣡檰ⴥ䀺湘树沦⨡㻚Ѕ䩃ല悮峻䅌憤₶o#娅済⧸籠≇ϧ㉐♹䱡፰⑦ᆧ䈹妜ണ䥰㠼䭁愀塶ҥ懤⡺ਧ਩ऽᘉ箝Ḷ䷂¼瓆屉୥ㄤ䥁䃄楸㍍䨄Ղ䓆⣭⊑ࠈ敤㆘兀傓榎㝏䨵䕲峁瀸䚐㗨牑ጠ­¡琠⯘昡樠湳ؠθ囆斢Ƕⵖ櫣揋Ŏ⁬۴怠㻞咉ᩜ潏䀲׶ြ⭢烐᢮⬱䌂ᰵƢ抨湏ⶲ䁐⡕ڡ䈐ᠬᆢ喔ྡ椆㥄䱎fშ㙽æ㇑啗௧焤ℕỲ璚㻔⁋拐ㆨॖ䱾秂櫵宮嵖愣氮⏝暓东䯕殕习㠸䌠Ťᑢ䮛ᥠႍ烶ƿ䝵爊殝ₗ䰁ᆷᚏжҥ Ёሤἣ޸㱷昀␠ཤ綾⺪ҭ╉痝῀㖭㝦㧟、璀=㣀䠢Ϡ摍ˡ⇉⒒ء䄁ⴢ沀ᱬⓈ㙍₨㬨Ⓒ㒏惐ᘮ⊀᲋◔ᨱᄸᐮᅫ⭪ɼᠿ͆,ቢ⚠ִミ傭䅏˶婓䗢㩓亴泟ധ粠䧤婈ɢ䡕噧嘪ᇖ⡍䒧ろ䍠癢ᖕ吮ᰶ僋剖䛑幔ォ奕✉喢恹䝓春䣑㲰䗤祑失禞Ⲩռ͖׹块暥冦ᙕყ呎&⡠痧⠠੦ܡ獋搩ⴠॣ喈ᯣ吠㤹倠⬞Ѣ婶䘧硭㗰㤎䞒ᖶǌ℡寂㑞࿤穁ɑ䉈ᩐ恄ᒦ偸ƨ恼ᮣ✄॓䐼ᘲቐ̠烙䡤沅叴嚈౶㊲䶱䩼䭇䪜䥴੽䘧庽අ瑱ᐻ㩀䱳ࡳ䰫૦乎弃仛ᾄ᱗崇⹂ଁ岗΅棛嘤Ṉᤓ峀ᬒ䍀጗挻ᜒ㱏ሩ㻍Ḓ⥿䐡纟䘧రǦł㰨䥐ᩯฒ㠕↔紩ğ倩憘ⱨ卪㢨䢐ᢍพ天熜〉慠㡬壂␣Ĥ␡䆲旡၄Њ䁥孁炬ડ䄌ᆮᐬቖ∸ᚡ惹冡⃴ſ琜ね㎊簮䰋彊Ⲧ䄠䯿ᡆਲ෈畽⟈磐ˊ⁷ལ䁐ԅᱚ⯣簠䠴塦⓮噒໗䡴૮㙘仯⢺Ꮦ㦕ᰳ䐾㺌ⷫ⒥⸋㎊烻┥減⁫䑧┏炱⑳䷮懙ⶋ⪥㠍珘ᵝ礍᷊坈檶䯵檒擷ᬍ㏎瘞ݷ婚䎚䠞Ὲ嘬禝立抌硳㑓ⳁᓄᮩਢၘഠ⊄⣂ㄈ䷞嵧㼥ᑄᒭ偔Ō屎ⲣ⌵年䆜䥒ዑȥ⚃═哪泅␿⛰彯妞怚䨶ƐᤲΑ斸䧮۫ब棫め䦓憺炎੖測ぜ⏫⇇亘Ө䱸Ⓕ冹᫬Ց㡷曆涉紋࣍˱䶹䑹妸䬛▧筶䐮㞏♪汌廽ⱀ䊰㽒䢁⨓඙㐆Բᇪ湃廬ⓕ䝺⤮̲ࣧ浔䉤ᰦ㚄░孪ᅱʠ࠮Ⅰ๦倸̀礰ᘢ⑄⁈払䎹㧒ओ㪭歰®不๎࿜寶䡳劈㎡䮇దᤷՒ紇ိ䓀◵姫凨磞䍷ሢ灵揞ŀ繯挜భ糒ᆢ㾱Ο㭃缠ਡࡨḵᖸ⠱綿嘘せ硔囶㓿玨耏㙠Ꮅ檬惕֘擉冺'⢝໡樠ƴし䈊Ḁ瓫ᣡ⭃㋖ㄚ氠橶ݖ棠撺უᬁ䊡䎫䂒ಅጮ⏂آ倲ߠ䠁愔ֱ㡋࡞㏦炞欠䗶ᾈ城่滭湜季䂖幁㯁櫯㾒㒎条䐣笂䉱㡑犐ἤ䆱Ռ㪳ᄙ摼㢂尨换➬䐈⬸熫挳⛣ナ௜ᩭ憊ᯢ哴҉䡧嶦॓୕⬵ษ禳暀┲ߧ扝忦䖰⛬杕થ᜵㶰㦻ᴽ䇢⁵㶅喁笈䃒஌ᙱ籏燆ᅀ捚䇃ऱ并ቐᮔ焼◤墧₻ⱨ㤱䀭媪椺㭄嚑本䯮嫭䦶⮲⨶擴᷑㐱ⓙṰ恵揙坴祤̒ᰭ状吅匯攰Ῡ䚜Х揂ٱ⥁睑牨ᨆ庛柆矯ь楬᳷䷠啒祤Ī壉䪥⩘ᐦ啚傊曆㐠ࡇΐ絤狡⢋坌寬傂弻䴨䀸Ȗ歠౤䃐ᚢ卩ȍ⌰嫧瘸ᗷࡸ໰㦱䅽崊䂅㆔啫瓺䠹窸楃᫲፝畞埐㆟ㆀ圠̜ߥ০٤婣᬴䮁妐㢕Ճ✅⌧䏼㩴憘滢䳊礀璻潙ᢒ䁯炸ᗆ㴸ࠢ境䋞⩢⹨ᒴ噈懊ଐ᜶ı刃剔漢牰垩禞䕈夾ᢳ⩂䩭䐴R᭾ჰ˵⡀懤⌳扪߶娫㈸α氡犼䆭瑿䔺撮ഹ೐㤱嗜塻緐㮯ٛ恛⑇ኑ❤䳞ὸ㊉ᮽ到ᩌ䣘䍭䦷Ҍ场䅉䐥䃋佛ᠾ䆷㖗垆畎圡溼ϽϸዴಚϢ⇼熕㳺矜澾滂׽懬୧嬍ෑ㸅⽳暙倮儌堽䧴᳓參塕杜緇㬅䌹ڢ惷䚧䱭擾嶵妻姀૜㽕ὺӞ晋絩ᬀᆭ綤ᰚღ簠抧䥨౼ᠺズ⪣䘲㳐㆘ࢅ䫘㈒僿ޒ攼戝ⴱ䅰ॊᕂ⪎⌕↸ಂ䲋Խ᫭ࡢ㋜㭄㋌箘毢㊱㱣➆‪ふ毑䏆䴈ౠ⿸儦ᤔ瀲盰ㄻ䱯ㆃ㥺㸤㘠慝❂ヌ渤䉃疦楄䯲䴆㐉ᕹ᚜攫兡ᭈ㟹䎴䛊疒␯䄔䡌ᘲ奒⫯爑㤳碉Ꮾ抈䍯炷ℷ坣暷㒣㴌ⶄᾸ׀屝僚癇Р "
   },
   "outputs": [
    {
     "data": {
      "application/vnd.jupyter.widget-view+json": {
       "model_id": "3521bdf6f4ef4433b20cd01d55f469f3",
       "version_major": 2,
       "version_minor": 0
      },
      "text/plain": [
       "PersistWidget(data_values=[{'__id_column': '1', 'Date': 1352419200000, ';Region': 'Salt Lake', 'Place': 'Sunse…"
      ]
     },
     "execution_count": 6,
     "metadata": {},
     "output_type": "execute_result"
    }
   ],
   "source": [
    "PR.PersistTable(df_task_1a)"
   ]
  },
  {
   "cell_type": "code",
   "execution_count": 7,
   "id": "039c41e8-53fe-40c1-b827-fd9b6813073a",
   "metadata": {
    "trrack_graph": "ᯡ࠽䈌ʀ匦㢠⹰ࢀଠ䰸ᣠ昢ᡐ୥v㛹ୠᆪ动৪…㷬ā䂞尣ᠦ敋䮩ᐠ▴ሰ瑸礨䮴凇⣥䷇㝞䇢†桠ø危䁕ဩ™+佨ఠ㜸プࡢ⳻廠Ɔႊ)洄䀦栢瘔ڮ卄㍞嬨ክㆢ䀣擠䤘縦ປᦠ໬惣⋓琡㙐欴⣔䰲ս㌰䂆ᇣ竴⬠㖹┠᧺ନ̛疛ොᒌ㖢ᗂሧ䃷ⰡḠݥ宯䘻৺墣ࣙ氼⢆搰Ҵ弽䊢䟯ཱ३糸晊Ⅳᆿᔔ➅悂秈⠦஧烰Ľ䋗ⳄҬҴ⴦Ґ戠ӌ坔䦡怨戹Ţ冈稳ૢၘ⹞Ϡࢤᅜ‥㠤䅣䷣ኃ爼⥯䛈䒲㍡┉̀  "
   },
   "outputs": [
    {
     "data": {
      "text/html": [
       "<div>\n",
       "<style scoped>\n",
       "    .dataframe tbody tr th:only-of-type {\n",
       "        vertical-align: middle;\n",
       "    }\n",
       "\n",
       "    .dataframe tbody tr th {\n",
       "        vertical-align: top;\n",
       "    }\n",
       "\n",
       "    .dataframe thead th {\n",
       "        text-align: right;\n",
       "    }\n",
       "</style>\n",
       "<table border=\"1\" class=\"dataframe\">\n",
       "  <thead>\n",
       "    <tr style=\"text-align: right;\">\n",
       "      <th></th>\n",
       "      <th>Date</th>\n",
       "      <th>Region</th>\n",
       "      <th>Place</th>\n",
       "      <th>Trigger</th>\n",
       "      <th>Weak Layer</th>\n",
       "      <th>Depth_inches</th>\n",
       "      <th>Width_inches</th>\n",
       "      <th>Vertical_inches</th>\n",
       "      <th>Aspect</th>\n",
       "      <th>Elevation_feet</th>\n",
       "      <th>__annotations</th>\n",
       "    </tr>\n",
       "  </thead>\n",
       "  <tbody>\n",
       "    <tr>\n",
       "      <th>2375</th>\n",
       "      <td>2023-04-09</td>\n",
       "      <td>Logan</td>\n",
       "      <td>Hatties Bowl</td>\n",
       "      <td>Natural</td>\n",
       "      <td>Wet grains</td>\n",
       "      <td>12.0</td>\n",
       "      <td>360</td>\n",
       "      <td>4800.0</td>\n",
       "      <td>East</td>\n",
       "      <td>6700.0</td>\n",
       "      <td>No Annotation</td>\n",
       "    </tr>\n",
       "    <tr>\n",
       "      <th>1643</th>\n",
       "      <td>2019-01-08</td>\n",
       "      <td>Skyline</td>\n",
       "      <td>Staker</td>\n",
       "      <td>Snowmobiler</td>\n",
       "      <td>Facets</td>\n",
       "      <td>24.0</td>\n",
       "      <td>3000</td>\n",
       "      <td>3000.0</td>\n",
       "      <td>East</td>\n",
       "      <td>9900.0</td>\n",
       "      <td>No Annotation</td>\n",
       "    </tr>\n",
       "    <tr>\n",
       "      <th>1508</th>\n",
       "      <td>2017-12-23</td>\n",
       "      <td>Salt Lake</td>\n",
       "      <td>Catherine's Pass</td>\n",
       "      <td>Skier</td>\n",
       "      <td>New Snow</td>\n",
       "      <td>12.0</td>\n",
       "      <td>600</td>\n",
       "      <td>2400.0</td>\n",
       "      <td>East</td>\n",
       "      <td>10400.0</td>\n",
       "      <td>No Annotation</td>\n",
       "    </tr>\n",
       "    <tr>\n",
       "      <th>1505</th>\n",
       "      <td>2017-06-02</td>\n",
       "      <td>Uintas</td>\n",
       "      <td>Bald Mountain</td>\n",
       "      <td>Skier</td>\n",
       "      <td>Wet grains</td>\n",
       "      <td>3.0</td>\n",
       "      <td>480</td>\n",
       "      <td>15000.0</td>\n",
       "      <td>East</td>\n",
       "      <td>11500.0</td>\n",
       "      <td>No Annotation</td>\n",
       "    </tr>\n",
       "    <tr>\n",
       "      <th>986</th>\n",
       "      <td>2014-02-11</td>\n",
       "      <td>Uintas</td>\n",
       "      <td>Mill Hollow</td>\n",
       "      <td>Natural</td>\n",
       "      <td>Ground Interface</td>\n",
       "      <td>30.0</td>\n",
       "      <td>3000</td>\n",
       "      <td>3000.0</td>\n",
       "      <td>East</td>\n",
       "      <td>8400.0</td>\n",
       "      <td>No Annotation</td>\n",
       "    </tr>\n",
       "  </tbody>\n",
       "</table>\n",
       "</div>"
      ],
      "text/plain": [
       "           Date     Region             Place      Trigger        Weak Layer  \\\n",
       "2375 2023-04-09      Logan      Hatties Bowl      Natural        Wet grains   \n",
       "1643 2019-01-08    Skyline            Staker  Snowmobiler            Facets   \n",
       "1508 2017-12-23  Salt Lake  Catherine's Pass        Skier          New Snow   \n",
       "1505 2017-06-02     Uintas     Bald Mountain        Skier        Wet grains   \n",
       "986  2014-02-11     Uintas       Mill Hollow      Natural  Ground Interface   \n",
       "\n",
       "     Depth_inches  Width_inches  Vertical_inches Aspect  Elevation_feet  \\\n",
       "2375         12.0           360           4800.0   East          6700.0   \n",
       "1643         24.0          3000           3000.0   East          9900.0   \n",
       "1508         12.0           600           2400.0   East         10400.0   \n",
       "1505          3.0           480          15000.0   East         11500.0   \n",
       "986          30.0          3000           3000.0   East          8400.0   \n",
       "\n",
       "      __annotations  \n",
       "2375  No Annotation  \n",
       "1643  No Annotation  \n",
       "1508  No Annotation  \n",
       "1505  No Annotation  \n",
       "986   No Annotation  "
      ]
     },
     "execution_count": 7,
     "metadata": {},
     "output_type": "execute_result"
    }
   ],
   "source": [
    "df_task_1b.head()"
   ]
  },
  {
   "cell_type": "markdown",
   "id": "3875e7fc-ec40-4241-aa94-87b31e59944f",
   "metadata": {},
   "source": [
    "## **Task 1c: Correcting Data Type of 'Depth_inches'**"
   ]
  },
  {
   "cell_type": "markdown",
   "id": "7a7eebda-1b60-4bff-89d3-a5548a601b49",
   "metadata": {},
   "source": [
    "There is a data type issue in the `Depth_inches` column of our dataframe. This column is incorrectly formatted as an object (string) due to the presence of the inches symbol `\"`.\n",
    "\n",
    "Remove any inches symbols `\"` from the `Depth_inches` column and convert it to a float data type."
   ]
  },
  {
   "cell_type": "code",
   "execution_count": 8,
   "id": "fb9bff61-9a8d-4114-97f3-4f6d0cd0e61e",
   "metadata": {
    "trrack_graph": "ᯡ࠽䈌ʀ匦㢠⹰࣠㌪加昣㎀ⴠม䙅偀ପ8ϐ࠰恇v̡౩㍾汴ㆤ⒴E䨲࢔䱙禩䡶埄曳寓⾜Ţ†桠úᢑ䁙ဩ™+佨ఠ㜸プࡢ⳻奀Ɗႊ)洄䀦栢瘔ڮ卄൞䒨ᣭㆢ䀣擠䡈岆๽ᦠӫ䏃⌁刔Öᢋ⌨䐱䘩ێ媨⁓ँ紮ᖠ᫼壠།֤Ɲ笝朌〈᫡໱ण䅔憋嘠传ϒ淧挢✏Ɫ䑼瘮䙓㈨ᱲ⊤⒄ㇲ♘ӌ尲വ຦䳠⚃僟ࣰ糖Ǣ䈒ዅޣ壶䷄䂱䂲旐播ౠµ䬂䡐ⰿཇ჈娣˧〨ⸯߦ榤碠଀थ䝗ᩭ䗩⑜⥨⛈┕፯戩䊁䠠 "
   },
   "outputs": [
    {
     "data": {
      "text/plain": [
       "Date               datetime64[ns]\n",
       "Region             string[python]\n",
       "Place              string[python]\n",
       "Trigger            string[python]\n",
       "Weak Layer         string[python]\n",
       "Depth_inches       string[python]\n",
       "Width_inches                Int64\n",
       "Vertical_inches           Float64\n",
       "Aspect             string[python]\n",
       "Elevation_feet            Float64\n",
       "__annotations      string[python]\n",
       "dtype: object"
      ]
     },
     "execution_count": 8,
     "metadata": {},
     "output_type": "execute_result"
    }
   ],
   "source": [
    "df_task_1b.dtypes"
   ]
  },
  {
   "cell_type": "markdown",
   "id": "b23913ac-ea3c-4ca1-8ac3-07d3026ca76e",
   "metadata": {
    "__GENERATED_DATAFRAMES__": "{\"nodeDataframes\":{},\"graphDataframes\":null}",
    "show_aggregate_original": "false",
    "trrack_graph": "ᯡ࠽䈌ʀ匦㢠⹰ೠ↺΀Ơ瘢ᠢᠫ‵䁇ፉ䐢怣侽振ၑ䶃᪰঵䂆⹉多䪲┠অҤᴶṂ㊵嘊᭓ㄅ毠㒰䣑Tဠ㚉҃೨ɰ䂠̂҆;䘸Ϥၗ眼䋐Ð䬹†于␠㚠ᝨ沂烒⎁൸憈㬸ᐠṬү䓧Ⴠ椓ᣘ⌚ᆠᛦކ䜱ǁ䅀㖖नຂᩈ桫〦塵偢㶱⢠⾱䂅埦䖃塀㪂ₐ暸ᵽ䀳怠煼砤慸㴻ࠩ㯏姭ঌ䄢䣫䧙㱈刱ㄿᬦ䩫⏃㌱楫磤ⰴຣα晼ਫ䎁㺕䮃Ⴤご䖂᥂挰ы゙㈬ܠ₰ᑊІ僑汮ޯ戩䉱៪怡⹁ᡤ甑擸抯॰ᡬᅓ╄璚╄㈠ "
   },
   "source": [
    "#### **Instructions**\n",
    "1. **Identify Entries with Inches Symbol:**\n",
    "    - Use the interactive table in Persist to look for rows with `\"` in `Depth_inches` column\n",
    "2. **Edit and Correct Entries:**\n",
    "    - Edit the cells to remove the inches symbol from these entries. (e.g. `15\"` → `15`) \n",
    "3. **Convert Data Type:**\n",
    "    - Change the data type of the `Depth_inches` column from string to float.\n",
    "4. **Generate Dataframe:**\n",
    "    - Assign the modified dataframe to a variable `df_task_1c`.\n",
    "5. **Show Output:**\n",
    "    - Display the dtypes of `df_task_1c` to verify the data type correction."
   ]
  },
  {
   "cell_type": "code",
   "execution_count": 9,
   "id": "7cb9b796-3aa5-4181-bf91-fa8ba7e33c20",
   "metadata": {
    "__GENERATED_DATAFRAMES__": "ᯢ粠 ",
    "__has_persist_output": true,
    "trrack_graph": "ᯡ࠽䈌ʀ匦㢠⹰Ӡ✡ء〨曌ހ୥Vภ㢭恑䝂㣦Ⓖ͐㔥᭸࣪抩ᐠ▴ሰ瓸礨䮲嗏⣹䨻➎帢䈠桠ø㉓械ӁĠפᝬW౐⮨⃮⽹ǀƂ៊3䇩-倥欉甌ユ䒖⺭CƄ性䦡ᄙ⒈Ⲫᙚഽ䀪故栢沀ᘸ愰ظሢ冂Ⴃ♂䎔㤆०࿣尲ࠥ笈稺఺֢׌ሧ߉䅴ⰡḠݥ玷䘦䇺墡ਜ਼嶌ᣱ冑㎿ʣƠ✿儴槹吤癔ᄺ¨呡␵ഁ⁰噉֥൨眪滐䨂ᡂ⣐ก↨ࠇᢼ䥆஧憨㉅ൡ愈س੡じⸯ࿤ৼᨠଇ瀥އ੡䛩墥༴刳䔕ವ傠̀  "
   },
   "outputs": [
    {
     "data": {
      "application/vnd.jupyter.widget-view+json": {
       "model_id": "c973ac10347c43e5be51117fcb279a43",
       "version_major": 2,
       "version_minor": 0
      },
      "text/plain": [
       "PersistWidget(data_values=[{'__id_column': '1', 'Date': 1352419200000, 'Region': 'Salt Lake', 'Place': 'Sunset…"
      ]
     },
     "execution_count": 9,
     "metadata": {},
     "output_type": "execute_result"
    }
   ],
   "source": [
    "PR.PersistTable(df_task_1b)"
   ]
  },
  {
   "cell_type": "code",
   "execution_count": 10,
   "id": "8077ca66-42b0-46d3-9ea0-eee9c70165b1",
   "metadata": {
    "trrack_graph": "ᯡ࠽䈌ʀ匦㢠⹰໦䆸Ҁᣥ琶䊠ٽ砢擠ܬ簤瀤㉀᭞᢯‹廬ツ紸lⓀŌ傰䇃懧䡤䕙ᔺۭⷹ㤓瀼ဦ䈠۠ჾ䘡撠┨ࠠ⹁窀ǘ憣屢֖绨㘠ୱ͈3䗩-倥氈಼晨⊝㘨⣦挥'䦡ᅐ䳔㳪♀䣖䚯倥壠沬≀⍐␵⛴℥䱤䠋槌ö㋃ၷ㱂ါ石畔㢭塖і周ั匣⧐ʘ<䰎㼸㘷ⶂ੊眔㤻䶰ℂ䥊ᆱ䔢㽯䀥ㅓォ擤婚੓缲亨ጁ₢㨩䍀㡬㞵ヺ⑩థቹڨ䣤ȫⲎᒣְࣤ⤢䛁梬ଭ䔃㣜㼨✓〠⮰∲᷼椶஦戴╞᫂ቔ劖䅪ಠ  "
   },
   "outputs": [
    {
     "data": {
      "text/html": [
       "<div>\n",
       "<style scoped>\n",
       "    .dataframe tbody tr th:only-of-type {\n",
       "        vertical-align: middle;\n",
       "    }\n",
       "\n",
       "    .dataframe tbody tr th {\n",
       "        vertical-align: top;\n",
       "    }\n",
       "\n",
       "    .dataframe thead th {\n",
       "        text-align: right;\n",
       "    }\n",
       "</style>\n",
       "<table border=\"1\" class=\"dataframe\">\n",
       "  <thead>\n",
       "    <tr style=\"text-align: right;\">\n",
       "      <th></th>\n",
       "      <th>Date</th>\n",
       "      <th>Region</th>\n",
       "      <th>Place</th>\n",
       "      <th>Trigger</th>\n",
       "      <th>Weak Layer</th>\n",
       "      <th>Depth_inches</th>\n",
       "      <th>Width_inches</th>\n",
       "      <th>Vertical_inches</th>\n",
       "      <th>Aspect</th>\n",
       "      <th>Elevation_feet</th>\n",
       "      <th>__annotations</th>\n",
       "    </tr>\n",
       "  </thead>\n",
       "  <tbody>\n",
       "    <tr>\n",
       "      <th>0</th>\n",
       "      <td>2012-11-09</td>\n",
       "      <td>Salt Lake</td>\n",
       "      <td>Sunset Peak</td>\n",
       "      <td>Snowboarder</td>\n",
       "      <td>New Snow/Old Snow Interface</td>\n",
       "      <td>14.0</td>\n",
       "      <td>960</td>\n",
       "      <td>360.0</td>\n",
       "      <td>North</td>\n",
       "      <td>10400.0</td>\n",
       "      <td>No Annotation</td>\n",
       "    </tr>\n",
       "    <tr>\n",
       "      <th>1</th>\n",
       "      <td>2012-11-11</td>\n",
       "      <td>Salt Lake</td>\n",
       "      <td>Patsy Marly</td>\n",
       "      <td>Skier</td>\n",
       "      <td>New Snow/Old Snow Interface</td>\n",
       "      <td>30.0</td>\n",
       "      <td>1200</td>\n",
       "      <td>1200.0</td>\n",
       "      <td>North</td>\n",
       "      <td>9700.0</td>\n",
       "      <td>No Annotation</td>\n",
       "    </tr>\n",
       "    <tr>\n",
       "      <th>2</th>\n",
       "      <td>2012-11-11</td>\n",
       "      <td>Salt Lake</td>\n",
       "      <td>Two Dogs</td>\n",
       "      <td>Skier</td>\n",
       "      <td>Facets</td>\n",
       "      <td>36.0</td>\n",
       "      <td>840</td>\n",
       "      <td>5400.0</td>\n",
       "      <td>North</td>\n",
       "      <td>10200.0</td>\n",
       "      <td>No Annotation</td>\n",
       "    </tr>\n",
       "    <tr>\n",
       "      <th>3</th>\n",
       "      <td>2012-11-11</td>\n",
       "      <td>Salt Lake</td>\n",
       "      <td>Emma Ridges</td>\n",
       "      <td>Skier</td>\n",
       "      <td>New Snow</td>\n",
       "      <td>18.0</td>\n",
       "      <td>600</td>\n",
       "      <td>6000.0</td>\n",
       "      <td>Southeast</td>\n",
       "      <td>10200.0</td>\n",
       "      <td>No Annotation</td>\n",
       "    </tr>\n",
       "    <tr>\n",
       "      <th>4</th>\n",
       "      <td>2012-11-11</td>\n",
       "      <td>Salt Lake</td>\n",
       "      <td>Sunset Peak</td>\n",
       "      <td>Skier</td>\n",
       "      <td>Facets</td>\n",
       "      <td>42.0</td>\n",
       "      <td>18000</td>\n",
       "      <td>9600.0</td>\n",
       "      <td>North</td>\n",
       "      <td>10400.0</td>\n",
       "      <td>No Annotation</td>\n",
       "    </tr>\n",
       "  </tbody>\n",
       "</table>\n",
       "</div>"
      ],
      "text/plain": [
       "        Date     Region        Place      Trigger  \\\n",
       "0 2012-11-09  Salt Lake  Sunset Peak  Snowboarder   \n",
       "1 2012-11-11  Salt Lake  Patsy Marly        Skier   \n",
       "2 2012-11-11  Salt Lake     Two Dogs        Skier   \n",
       "3 2012-11-11  Salt Lake  Emma Ridges        Skier   \n",
       "4 2012-11-11  Salt Lake  Sunset Peak        Skier   \n",
       "\n",
       "                    Weak Layer  Depth_inches  Width_inches  Vertical_inches  \\\n",
       "0  New Snow/Old Snow Interface          14.0           960            360.0   \n",
       "1  New Snow/Old Snow Interface          30.0          1200           1200.0   \n",
       "2                       Facets          36.0           840           5400.0   \n",
       "3                     New Snow          18.0           600           6000.0   \n",
       "4                       Facets          42.0         18000           9600.0   \n",
       "\n",
       "      Aspect  Elevation_feet  __annotations  \n",
       "0      North         10400.0  No Annotation  \n",
       "1      North          9700.0  No Annotation  \n",
       "2      North         10200.0  No Annotation  \n",
       "3  Southeast         10200.0  No Annotation  \n",
       "4      North         10400.0  No Annotation  "
      ]
     },
     "execution_count": 10,
     "metadata": {},
     "output_type": "execute_result"
    }
   ],
   "source": [
    "df_task_1c.head()"
   ]
  },
  {
   "cell_type": "markdown",
   "id": "753ed0a8-dc0b-4ac8-8afd-b554ea8f4d28",
   "metadata": {},
   "source": [
    "# Task 2: Filtering data\n",
    "\n",
    "In Task 2, we further improve our data by removing outliers and removing certain records to have more consistent data. \n",
    "\n",
    "We will also take a brief look at relations between cause of an avalanche (`Trigger`) and failure point of ice (`Weak Layer`)"
   ]
  },
  {
   "cell_type": "markdown",
   "id": "7f25d8f5-98e8-4b0f-9358-ed85f77cbed8",
   "metadata": {},
   "source": [
    "## **Task 2a: Remove Outliers**"
   ]
  },
  {
   "cell_type": "markdown",
   "id": "ac53a605-2d10-4457-9625-70ce88f04f3b",
   "metadata": {},
   "source": [
    "#### **Objective**\n",
    "In this task, we address data accuracy by filtering out anomalies in elevation data. We observe some records with elevations outside the plausible range for Utah, suggesting recording errors.\n",
    "\n",
    "Remove avalanche records with elevations below 2000 feet and above 13500 feet, which are outside the realistic range for Utah."
   ]
  },
  {
   "cell_type": "markdown",
   "id": "664c641e-1193-4233-8897-0161f209c86f",
   "metadata": {},
   "source": [
    "#### **Instructions**\n",
    "1. **Identify and Remove Anomalies:**\n",
    "    - Interactively select data points with elevations below 2100 feet and above 13500 feet in the Persist Scatterplot.\n",
    "    - Use Persist's interactive features to remove these anomalous records.\n",
    "2. **Generate Dataframe:**\n",
    "    - Assign the cleaned dataframe to a variable `df_task_2a`.\n",
    "3. **Show Output:**\n",
    "    - Display the head of `df_task_2a`."
   ]
  },
  {
   "cell_type": "code",
   "execution_count": null,
   "id": "73d5727a-f059-4bf3-977c-1ce0d6d92eba",
   "metadata": {
    "__has_persist_output": true,
    "trrack_graph": "ᯡ࠽䈌ʀ匦㢠⹰໠̡䰣ㅠ䘡ఢ〫⑐䨠㦨ˠᖿ扈ࢅ䚂㋵Ⴁ᱌̺櫲昋撴E䨲࢔沘䕫䥳和曣䮯㽁ᆂ†桠ø封䅛ဩ™+䣨ఠ㜸クࡢ汚㠰Ɖᅒ䀡᷼䠠洠⻑䓵榄䍦ᠩ䉹癐⠠㲸ष੆ᅥ爱ぱ壴挠ⶬụ䅂ƃɠ氍ሰ᳤㒑弮怭ドイ筂儠徃ë↰⾀䄉䒡憺ゕ笠➠ǹ㘀ঠग噁ሾ✷ଵ夤ോᗥバ僇磤ᄡᨭᴷ䱫慡୐ㄨഘ༬傁の᫳㖰剐᩹ㄹ憃ࠤᏒ㲒☧@䢄┦䟁ᣌ㬳䜁碢タᐐÎႸⲒ稄瑲䖭⦑ഡ᷆ጔ㉨搠 "
   },
   "outputs": [],
   "source": [
    "PR.plot.scatterplot(df_task_1c, \"Elevation_feet:Q\", \"Vertical_inches:Q\")"
   ]
  },
  {
   "cell_type": "markdown",
   "id": "b447b862-90c6-4ed7-b48b-baa1cf74ac2d",
   "metadata": {
    "__GENERATED_DATAFRAMES__": "{\"nodeDataframes\":{},\"graphDataframes\":null}",
    "show_aggregate_original": "false",
    "trrack_graph": "ᯡ࠽䈌ʀ匦㢠⹰࣠✴ƀචآ൐ୠᣠ⭎¸䚀ᶥ<⋵攴≲䦆ᨐ҅䁲䥈kᑄᄈ夒ર囇⣹嗛➎帣ᢤ䀡傠Ǘ熠㥀ॢȠா䠸ᢀ㜰䁾巒•橀樠Ꮃ䤠ව׷核ᱬ䣘紲₞૦Ԡ޳ŀ凐栠晬╍ಲ䖽䂇栢沀團ᄰ㸸ሪ喊Ⴇ♁䐔粶ᦞΎ刺ࠥ簉窺簲ᖢොሧ҉䃵ⰡḠޅ毗䘤䗾墥୚渍磆搰㣄䆯䌭䊣ᎄ䢩妈䪑䴹ҩ䋫◂რ⢒ઉ⃁⽌囦媍ኘ垤䢠䍤⒂Йᘷ੡䄀҂Ქ⃱琿啡憐㲞ၯ䌨焠ᗿ搫໎㒫ல熪Ņ⎃ऺᥛ⃄ᅠ  "
   },
   "source": [
    "## **Task 2b: Filtering Out Old Data**"
   ]
  },
  {
   "cell_type": "markdown",
   "id": "c86b30d4-4762-4bc0-bfd3-6f1486b55ad6",
   "metadata": {
    "__GENERATED_DATAFRAMES__": "{\"nodeDataframes\":{},\"graphDataframes\":null}",
    "show_aggregate_original": "false",
    "trrack_graph": "ᯡ࠽䈌ʀ匦㢠⹰࣠✴ƀචآ൐ୠᣠ⭎¸䚀ᶥ<⋵攴≲䦆ᨐ҅䁲䥈kᑄᄈ夒ર囇⣹嗛➎帣ᢤ䀡傠Ǘ熠㥀ॢȠா䠸ᢀ㜰䁾巒•橀樠Ꮃ䤠ව׷核ᱬ䣘紲₞૦Ԡ޳ŀ凐栠晬╍ಲ䖽䂇栢沀團ᄰ㸸ሪ喊Ⴇ♁䐔粶ᦞΎ刺ࠥ簉窺簲ᖢොሧ҉䃵ⰡḠޅ毗䘤䗾墥୚渍磆搰㣄䆯䌭䊣ᎄ䢩妈䪑䴹ҩ䋫◂რ⢒ઉ⃁⽌囦媍ኘ垤䢠䍤⒂Йᘷ੡䄀҂Ქ⃱琿啡憐㲞ၯ䌨焠ᗿ搫໎㒫ல熪Ņ⎃ऺᥛ⃄ᅠ  "
   },
   "source": [
    "The interactive barchart below, shows the data aggregated by year. There are noticeably fewer records for the years before 2010.\n",
    "\n",
    "During this subtask we will remove the older records, keeping only the records post 2010."
   ]
  },
  {
   "cell_type": "markdown",
   "id": "24b308e8-8437-4146-9ebf-cd121aeb7f9f",
   "metadata": {},
   "source": [
    "#### **Instructions**\n",
    "1. **Create and Analyze Bar Chart:**\n",
    "    - Looking at an interactive bar chart in Persist showing the number of avalanches recorded each year, identify the bars showing data we want.\n",
    "2. **Interactive Year Selection:**\n",
    "    - Use a brush to interactively select and remove appropriate records.\n",
    "3. **Generate Dataframe:**\n",
    "    - Assign the refined dataframe to a variable `df_task_2b`.\n",
    "4. **Show Output:**\n",
    "    - Display the head of `df_task_2b` to verify the removal of earlier years."
   ]
  },
  {
   "cell_type": "code",
   "execution_count": null,
   "id": "6488acb7-e239-4d7e-92ef-3e9d74c3d823",
   "metadata": {
    "__has_persist_output": true,
    "trrack_graph": "ᯡ࠽䈌ʀ匦㢠⹰Ҁጺց匦ᣀⴠโ〬恀୆䫰၁庴〵¼㋺አ㚚㺉ᒲ䀤奢℮䖧ὑ⤪櫔ಸ寒爏桘␠ന;᫣⤠䨰ဠ帔䃠Α䌣㢤̕淼6ㆦ倡᲼䠠洠⺡僡挪㑠PඑȔ⬸ᐠṬҠ҃炑獘梜㙒὆àஃ˗动䈈悰櫋ᢤፑذㅤ堣ⷫ甞溰桠០濼栣᯲烌ऍ炰ᰳ☶喀ԐX坽幐岎䛤౹殏㟁䞪╼奤䙖ᔁጯ䮫ૃ㋤㠨᲌⠂᤺ʂ䅠栲务ᨑ㚕䮅ቄや䖌ᩃ⌰Ῡベ刬ᬧ䈰⒒ણ⇱ಆᖩ掑㰡ࡢ၄w㾰ᅚ屒ᙞ◥ᐤ檸䣱䧺╄ع  "
   },
   "outputs": [],
   "source": [
    "PR.plot.barchart(df_task_2a, \"utcyear(Date):O\", \"count()\", selection_type=\"interval\")"
   ]
  },
  {
   "cell_type": "markdown",
   "id": "db8fdc8b-168e-40e2-861c-d23095a4a8d8",
   "metadata": {},
   "source": [
    "## **Task 2c: Identifying frequently failing `Weak Layers` for avalanches triggered by _'snowboarders'_ and _'skiers'_**"
   ]
  },
  {
   "cell_type": "markdown",
   "id": "dd956e34-f1c9-40d3-8702-a2a84e304ca9",
   "metadata": {},
   "source": [
    "#### **Instructions**\n",
    "1. **Linked Bar Charts:**\n",
    "    - You will start with two linked interactive bar charts: one for `Trigger` and another for `Weak Layer`.\n",
    "    - Both bar charts show `count` for their respective category.\n",
    "    - You can click on a trigger in the `Trigger` bar chart and the `Weak Layer`' bar chart dynamically updates to show only occurrences corresponding to the selected triggers.\n",
    "2. **Interactive Selection:**\n",
    "    - Interactively select triggers and use the updated `Weak Layer`.\n",
    "3. **Identify the most frequent failure point:**\n",
    "    - Analyze the filtered 'Weak Layer' bar chart to determine the most frequently failed layers for selected category and make a note in a markdown cell about both the name of the layer and frequency.\n",
    "4. **Generate Dataframe and Output:**\n",
    "    - You will not generate any dataframe for this task. NOTE: Please save the notebook after you are finsihed with interactions. "
   ]
  },
  {
   "cell_type": "code",
   "execution_count": null,
   "id": "5aef4ea0-bf81-42be-a35a-23e56081f77e",
   "metadata": {
    "__has_persist_output": true,
    "trrack_graph": "ᯡ࠽䈌ʀ匦㢠⹰ࢀㆠ䰠瀱䁮Lథ僠೦Č戩恋ւ砬懬燘叓øѱㇳቪ2攩њ㚜⋄ᗊ桒㖎旧忀烱Tဠ㙈¬ㄯ␢⡠䀢焠㌠෦ౝ戰殖๡倠宪ೀn坄V䀷₈㚗᥂㠬棁ᑻఴ>☤䇣爃獈砸㹪㼽àஃב↨擡ၕ宑іㄪႂ㇐͸⩱䇽ࣨ䁏䃿島❥塃寂ₐ⚸ᶍ䀳怠牸簘惱嶋࢑ᮯ䧥ƌ䄤䭨烐⡈䩩䧑ຯ䚩懄劑点ᓯຆعʂ䁐洹ߡ祶ු䲱䅲◐悭ౠ悭企䥐屁ɧ჈ᩝ࣡ヸฮ෥瀤ℨ䐃†垀呄㢙㉬Ⅳ䝉磕ࢹ冲㩪㢄  "
   },
   "outputs": [],
   "source": [
    "pts = alt.selection_point(name=\"selector\", fields=['Trigger'])\n",
    "\n",
    "base = alt.Chart(df_task_2b).encode(y=\"count()\")\n",
    "\n",
    "trigger = base.mark_bar().encode(\n",
    "    x=\"Trigger:N\",\n",
    "    color=alt.condition(pts, \"Trigger:N\", alt.value(\"gray\"))\n",
    ").add_params(pts)\n",
    "\n",
    "weak_layer = base.mark_bar().encode(\n",
    "    x=\"Weak Layer:N\",\n",
    "    color=\"Weak Layer:N\",\n",
    "    tooltip=\"count()\"\n",
    ").transform_filter(\n",
    "    pts\n",
    ")\n",
    "\n",
    "chart = alt.hconcat(\n",
    "    trigger, weak_layer\n",
    ").resolve_scale(\n",
    "    color=\"independent\",\n",
    ")\n",
    "\n",
    "PR.PersistChart(chart, data=df_task_2b)"
   ]
  },
  {
   "cell_type": "markdown",
   "id": "e3f44925-7703-4844-98ee-d1280f0b10e5",
   "metadata": {},
   "source": [
    "**Task 2c Notes:**\n",
    "\n",
    "Write your answer here"
   ]
  },
  {
   "cell_type": "markdown",
   "id": "8a92b8a9-c3a8-4a57-be3b-c9cdc977092c",
   "metadata": {
    "__GENERATED_DATAFRAMES__": "{\"nodeDataframes\":{},\"graphDataframes\":null}",
    "show_aggregate_original": "false",
    "trrack_graph": "ᯡ࠽䈌ʀ匦㢠⹰ೠ⬠沈֭⠸恍ff9昽䁮ۦ࠰汬നڀপ㈏䣹厠㬦ተ¶⡨⇱㌀ᅁ╶庳ୖ⹜簧ଭࠣ℠Έ橦औ䁅ШNႦ〡岁䏼ℭ㞁摞+㢱䨠Ԋ牠Έƕ٦枓቙ჿਸ旑䅠Ȅ恨戬പᎭె䝁净儬Ö᡻⌸䐱䘩׍宨⇓ࡱ䍲ච᫲壬จ䙤Ɲڣ圖⍞ᛡ৽ण䃔戋㘠传ϊ揿振䘌汣䓼㹮䘫㈨ቺ⩯↧ᄨXഉ⠅ㅖࢢ侸⇄僡ಖࡢҁ氣С宍劄倶䢡⍤㲂̤㚗٩䄀硂಩⍰琦ᦪ悑屾ᾨႨ㺜*瘪䋇޶⋤ᓘ犠䭳঺᥇⏰ᅠ  "
   },
   "source": [
    "## Task 3: Data Wrangling"
   ]
  },
  {
   "cell_type": "markdown",
   "id": "9da80393-7f4b-4115-a4d1-5b7978e11358",
   "metadata": {
    "__GENERATED_DATAFRAMES__": "{\"nodeDataframes\":{},\"graphDataframes\":null}",
    "show_aggregate_original": "false",
    "trrack_graph": "ᯡ࠽䈌ʀ匦㢠⹰â䂬ƀᶷ琶䁋c<搔怳ଚ䠳亡䈤㉕⁖ì⺇⊨攩ᐠ▨戰㑹㧒妰囇⃹喧㝞Ţ∠桠ûு䁔䈠ॢȠந㺸ᢀ盅⻿夣•晀樠Ԃ牠Έƕ稦❳ሪὦ䰼⇑䅠Ȅ恨㙎⌯᪴䶹䈁ℓ琡㙐ᮂ⢨᢬थ⧓ࡢ㌰ሚ璋U䳘䠵欯Т縔絭Sㄭۡ۹ण䉔悊㘠传ϒ橷挣⌏ⱡ䕼庮打㈨ɼ榨慢䃂॑瑐繦┭ڼ㾬⎂厃焸牘榥ᄨ䦯ඦ嘔㗆溄⒀擒摖≦၀ⶃ㧄మޢᄴ䩍རへ∦䯧焤愷䍠Žƀ夅შ㤙༾′⪂㵩掳婊⢄  "
   },
   "source": [
    "### Task 3a: Creating and assigning 'Avalanche Season'**"
   ]
  },
  {
   "cell_type": "markdown",
   "id": "402412ae-3b84-4fec-9c01-94dd203a7b1f",
   "metadata": {
    "__GENERATED_DATAFRAMES__": "{\"nodeDataframes\":{},\"graphDataframes\":null}",
    "show_aggregate_original": "false",
    "trrack_graph": "ᯡ࠽䈌ʀ匦㢠⹰â䂬ƀᶷ琶䁋c<搔怳ଚ䠳亡䈤㉕⁖ì⺇⊨攩ᐠ▨戰㑹㧒妰囇⃹喧㝞Ţ∠桠ûு䁔䈠ॢȠந㺸ᢀ盅⻿夣•晀樠Ԃ牠Έƕ稦❳ሪὦ䰼⇑䅠Ȅ恨㙎⌯᪴䶹䈁ℓ琡㙐ᮂ⢨᢬थ⧓ࡢ㌰ሚ璋U䳘䠵欯Т縔絭Sㄭۡ۹ण䉔悊㘠传ϒ橷挣⌏ⱡ䕼庮打㈨ɼ榨慢䃂॑瑐繦┭ڼ㾬⎂厃焸牘榥ᄨ䦯ඦ嘔㗆溄⒀擒摖≦၀ⶃ㧄మޢᄴ䩍རへ∦䯧焤愷䍠Žƀ夅შ㤙༾′⪂㵩掳婊⢄  "
   },
   "source": [
    "#### **Objective**\n",
    "\n",
    "In this subtask, we'll introduce a new categorical variable named `Avalanche Season` into our dataset. This addition aims to classify each avalanche record into different parts of the avalanche season (Start, Middle, End) based on the month it occurred.\n",
    "\n",
    "Create a new category `Avalanche Season` in the dataset and assign each record to `Start`, `Middle`, or `End` of the avalanche season based on its month."
   ]
  },
  {
   "cell_type": "markdown",
   "id": "86d54d80-ef52-4630-bffb-1e04d9320384",
   "metadata": {},
   "source": [
    "#### **Instructions**\n",
    "1. **Visualization**\n",
    "    - We will work with an interactive bar chart in Persist showing the count of avalanche instances aggregated by month.\n",
    "2. **Define Season Categories:**\n",
    "    - Based on typical avalanche seasons in Utah, you will first create a new category called `Avalanche Season` using the `Edit Categories` button in the header.\n",
    "    - In the same menu you will add three options for this category -- `Start`, `Middle`, `End`.\n",
    "3. **Interactive Assignment:**\n",
    "    - Use Persist's interactive features to select each month and assign it to one of the `Avalanche Season` values (Start, Middle, End).\n",
    "    - You should use the following ranges for assigning proper categories:\n",
    "        - `Start` of Season: October, November, December, January, February\n",
    "    \t- `Middle` of Season: March, April, May,\n",
    "    \t- `End` of Season: June, July, August, September\n",
    "4. **Generate Dataframe:**\n",
    "    - Assign the updated dataset to a new variable: `df_task_3a`.\n",
    "5. **Show Output:**\n",
    "    - Print the head of the dataframe."
   ]
  },
  {
   "cell_type": "code",
   "execution_count": null,
   "id": "63b62f4c-8841-4f6c-8011-cb2ee31c2c7b",
   "metadata": {
    "__has_persist_output": true,
    "trrack_graph": "ᯡ࠽䈌ʀ匦㢠⹰ڃ¸ㆡ䘥ㅠⴺǸ͐ࠥ䀱圠ᰤԆᖝ㯗⯑ᖈ۠ƪ䆲⠠䭈⑀楐琂ᆦ⥦庳ଢ㘼嶘Ԩǁ#〨㋃࿂′䈤7࡝ᠠ湐憎Ⴄ姗㈻%䒞吠৹撠۰̉瘕ໆ⑞Ỗᡐ涃ʠϩ䂰¬ḦẑƽϦ∅戈ƌヶ䎁ࡁ䰲ൽ㄰䊆၂穴⬠㗙ヰ᷶༨̙瘛䵈䎌㖢᷒ሧʉ䋷ⰡḠޅ寏䜻廑ı㦘ᴬ曨ၑҶ㚰梅晓⤓ㄙᓤ㸦⍑ᜧ䁫╇⃀呈ᴪℐᐴޥ燍ᬩᅃͅ䮁䤺ᢡŋᗩႀ塜Ⴂ⎱呚ᐊ叉᲎ᾨᆙ堠ᗰᘩຎᒻන熪ⅅ▂椌⥋⃇٠  "
   },
   "outputs": [],
   "source": [
    "select = alt.selection_interval(name=\"selector\", encodings=[\"x\"])\n",
    "\n",
    "chart = alt.Chart(df_task_2b, height=400, width=500).mark_bar().encode(\n",
    "    x=alt.X(\"utcmonth(Date):N\"),\n",
    "    y=\"count()\",\n",
    "    opacity=alt.condition(select, alt.value(1), alt.value(0.2))\n",
    ").add_params(select)\n",
    "\n",
    "PR.PersistChart(chart, data=df_task_2b)"
   ]
  },
  {
   "cell_type": "markdown",
   "id": "36e82a42-5f2f-44e1-b9a5-2e2d403b2ff3",
   "metadata": {},
   "source": [
    "# **Task 3b: Analyzing Top Avalanche Trigger by Season**"
   ]
  },
  {
   "cell_type": "markdown",
   "id": "af40bad3-436e-426c-a02f-f205597e90b5",
   "metadata": {},
   "source": [
    "#### **Objective**\n",
    "In this subtask, we'll analyze which trigger is most prevalent for avalanches in each season phase (Start, Middle, End) using the `Avalanche Season` category created in Task 3a."
   ]
  },
  {
   "cell_type": "markdown",
   "id": "72455a32-623b-4b87-87d6-ca9c8ebf19e7",
   "metadata": {},
   "source": [
    "#### **Instructions**\n",
    "1. **Visualization:**\n",
    "    - We have two linked interactive bar charts: one for 'Avalanche Season' and another for 'Trigger'.\n",
    "    - You can select a category to highlight using the legend for `Avalanche Season` bar chart. The `Trigger` bar chart will dynamically update in response to your selections.\n",
    "2. **Analyze Trigger Data:**\n",
    "    - Observe the filtered `Trigger` bar chart to identify the top trigger for the selected season phase.\n",
    "    - You can hover on the bars to get the exact frequency.\n",
    "3. **Document Findings:**\n",
    "    - Note down the most common trigger for each season phase based on your interactive analysis in a new markdown cell."
   ]
  },
  {
   "cell_type": "code",
   "execution_count": null,
   "id": "e9eaff25-74aa-4e43-abbb-19bdfef91064",
   "metadata": {
    "__has_persist_output": true,
    "trrack_graph": "ᯡ࠽䈌ʀ匦㢠⹱⁃Ź⡑唡〰恍.哄ᯑ8͒൵匩喭⠤㐌眠☸扰䥠ɺ䙁ͩ䎠䓙▊窬⳸㦕砄ቄ-Рෞ⨸⍨‡ᑀ‡㠹Ơ܃ء穭緧Ⱐᜂ䙰G᮲;‫呒ᣛ䲰㒦ⰰ總䘪/ጢ⎒䠡ᴙ⹠咠坪╄ᠢ沀眘㄰㸸ሮ垎Ⴂ時⌭⣖ᖞࡏ帱ࠥ稹ۻ䴘ⱛȷ⩄ܪ榠㗸Ŝ.㘉ᾬଯ嗑ܷ㩛Ḑᛨၩ◗ᢿྠ⦽∳兩ᱴʺ⺁ᝀ弑ᄈœŠ৪屋ऄ沖䬲⌡⓶㇒ᅑ¢嬧䍀懐㰱٠僈娣ӥㇸ丯ߤত兂‥㤤⅓婫ᄂજ㥤◉⓭ʳ卲⁑䠠 "
   },
   "outputs": [],
   "source": [
    "selection = alt.selection_point(name=\"selector\", fields=[\"Avalanche Season\"], bind=\"legend\")\n",
    "base = alt.Chart(df_task_3a)\n",
    "\n",
    "seasons = base.mark_bar().encode(\n",
    "    x=alt.X(\"Avalanche Season:N\").sort([\"Start\", \"Middle\", \"End\"]),\n",
    "    y=\"count()\",\n",
    "    opacity=alt.condition(selection, alt.value(1), alt.value(0.3)),\n",
    "    color=\"Avalanche Season:N\"\n",
    ").add_params(\n",
    "    selection\n",
    ")\n",
    "\n",
    "trigger = base.mark_bar().encode(\n",
    "    x=\"Trigger:N\",\n",
    "    y=\"count()\",\n",
    "    color=\"Trigger:N\",\n",
    "    tooltip=\"count()\"\n",
    ").transform_filter(\n",
    "    selection\n",
    ")\n",
    "\n",
    "chart = seasons | trigger\n",
    "\n",
    "chart = chart.resolve_scale(\n",
    "    color=\"independent\"\n",
    ")\n",
    "\n",
    "PR.PersistChart(chart)"
   ]
  },
  {
   "cell_type": "markdown",
   "id": "00e87acd-3759-49eb-9e43-d7793672297c",
   "metadata": {},
   "source": [
    "**Task 3b Notes:**\n",
    "\n",
    "Write your answer here"
   ]
  }
 ],
 "metadata": {
  "__CATEGORIES_META__": "{\"categories\":{\"Avlanche Season Phase\":{\"name\":\"Avlanche Season Phase\",\"options\":{\"_None\":{\"name\":\"None\"},\"Start\":{\"name\":\"Start\"},\"Middle\":{\"name\":\"Middle\"},\"End\":{\"name\":\"End\"}}}},\"activeCategoryName\":\"Avlanche Season Phase\"}",
  "__persist_keys_record": [
   "__GENERATED_DATAFRAMES__",
   "__persist_nb_uuid__",
   "trrack_graph",
   "show_aggregate_origin"
  ],
  "__persist_nb_uuid__": "db016ffc-fa94-48ca-b935-a41fb20c76bd",
  "kernelspec": {
   "display_name": "Python 3 (ipykernel)",
   "language": "python",
   "name": "python3"
  },
  "language_info": {
   "codemirror_mode": {
    "name": "ipython",
    "version": 3
   },
   "file_extension": ".py",
   "mimetype": "text/x-python",
   "name": "python",
   "nbconvert_exporter": "python",
   "pygments_lexer": "ipython3",
   "version": "3.11.5"
  }
 },
 "nbformat": 4,
 "nbformat_minor": 5
}
